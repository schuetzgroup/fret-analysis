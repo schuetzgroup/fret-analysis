{
 "cells": [
  {
   "cell_type": "code",
   "execution_count": 1,
   "metadata": {
    "nbpresent": {
     "id": "0a417825-fc46-48f3-8128-e0e265b094e1"
    }
   },
   "outputs": [],
   "source": [
    "%matplotlib widget\n",
    "\n",
    "import matplotlib.pyplot as plt\n",
    "plt.ioff()\n",
    "import numpy as np\n",
    "    \n",
    "from smfret_analysis import Analyzer, DensityPlots, print_info"
   ]
  },
  {
   "cell_type": "code",
   "execution_count": 2,
   "metadata": {},
   "outputs": [
    {
     "name": "stdout",
     "output_type": "stream",
     "text": [
      "smFRET analysis software version 2.1\n",
      "(git revision 2.2-22-g8665d59)\n",
      "Output version 13\n",
      "Using sdt-python version 17.0\n"
     ]
    }
   ],
   "source": [
    "print_info()"
   ]
  },
  {
   "cell_type": "code",
   "execution_count": 3,
   "metadata": {},
   "outputs": [],
   "source": [
    "# Create an Analyzer instance. This will load the tracking data.\n",
    "ana = Analyzer()"
   ]
  },
  {
   "cell_type": "code",
   "execution_count": 4,
   "metadata": {},
   "outputs": [],
   "source": [
    "# Show apparent E vs. S plots after filtering steps. Here we use the JupyterLab\n",
    "# Sidecar class (https://github.com/jupyter-widgets/jupyterlab-sidecar) for \n",
    "# display, but it would also possible to output to a normal notebook cell.\n",
    "\n",
    "# Which datasets to plot.\n",
    "plot_keys = []  # Use empty list to disable plotting.\n",
    "# plot_keys = list(ana.analyzers)  # Plot all datasets\n",
    "# plot_keys = [k for k in ana.analyzers if k.endswith(\" cells\")]  # Plot datasets with cells\n",
    "\n",
    "if plot_keys:\n",
    "    from sidecar import Sidecar\n",
    "    sc = Sidecar(title=\"Filtered plots\")\n",
    "    \n",
    "    dp = DensityPlots(ana, plot_keys)\n",
    "    with sc:\n",
    "        display(dp)"
   ]
  },
  {
   "cell_type": "code",
   "execution_count": 5,
   "metadata": {},
   "outputs": [],
   "source": [
    "# Plot initial data\n",
    "\n",
    "# Due to typically large amounts of data, this may take a few tens of seconds\n",
    "if plot_keys:\n",
    "    ana.calc_fret_values(a_mass_interp=\"next\")\n",
    "    dp.dscatter(\"Initial\")  # Scatter plot\n",
    "    # dp.contourf(\"Initial\")  # Contour plot\n",
    "    # dp.colormesh(\"Initial\")  # Continous color"
   ]
  },
  {
   "cell_type": "code",
   "execution_count": 6,
   "metadata": {},
   "outputs": [
    {
     "data": {
      "application/vnd.jupyter.widget-view+json": {
       "model_id": "52ae423fe7814031b4f14204bef13c22",
       "version_major": 2,
       "version_minor": 0
      },
      "text/plain": [
       "VBox(children=(Dropdown(description='channel', options=('acceptor', 'donor'), value='acceptor'), BoundedIntTex…"
      ]
     },
     "metadata": {},
     "output_type": "display_data"
    }
   ],
   "source": [
    "# Display laser beam profile and find threshold of brightest xx %\n",
    "# to ensure good SNR\n",
    "ana.find_beam_shape_thresh()"
   ]
  },
  {
   "cell_type": "code",
   "execution_count": 7,
   "metadata": {},
   "outputs": [],
   "source": [
    "# Copy values from above to remove poorly illuminated datapoints\n",
    "# Manually copy the parameters from above here.\n",
    "ana.filter_beam_shape_region(\"donor\", 50)\n",
    "\n",
    "if plot_keys:\n",
    "    dp.dscatter(\"Beam shape\")"
   ]
  },
  {
   "cell_type": "code",
   "execution_count": 8,
   "metadata": {},
   "outputs": [],
   "source": [
    "# Allow only tracks with with a high number (here, >75%) of datapoints where\n",
    "# PSFs don't overlap\n",
    "ana.query_particles(\"fret_has_neighbor == 0\", min_rel=0.75, reason=\"no_neighbor\")\n",
    "# For the remaining tracks, allow only those datapoints with non-overlapping\n",
    "# PSFs\n",
    "ana.query(\"fret_has_neighbor == 0\", reason=\"no_neighbor\")\n",
    "# Accept only tracks that are already visible in the beginning to record \n",
    "# full bleaching profile\n",
    "ana.present_at_start()\n",
    "\n",
    "if plot_keys:\n",
    "    dp.dscatter(\"At start\")"
   ]
  },
  {
   "cell_type": "code",
   "execution_count": 9,
   "metadata": {},
   "outputs": [],
   "source": [
    "# Apply flatfield correction in both channels\n",
    "ana.flatfield_correction()"
   ]
  },
  {
   "cell_type": "code",
   "execution_count": 10,
   "metadata": {},
   "outputs": [],
   "source": [
    "# Calculate apparent FRET values, e.g., efficiency and stoichiometry\n",
    "ana.calc_fret_values(a_mass_interp=\"next\")"
   ]
  },
  {
   "cell_type": "code",
   "execution_count": 11,
   "metadata": {},
   "outputs": [
    {
     "data": {
      "application/vnd.jupyter.widget-view+json": {
       "model_id": "6167a1a3133744f78a4a3ad55049cc41",
       "version_major": 2,
       "version_minor": 0
      },
      "text/plain": [
       "VBox(children=(Dropdown(description='dataset', options=('DPPC control cells', 'DPPC control no-cells'), value=…"
      ]
     },
     "metadata": {},
     "output_type": "display_data"
    }
   ],
   "source": [
    "# Find thresholds for changepoint detection in intensity upon donor\n",
    "# excitation (d_mass) as well as upon acceptor excitation (a_mass)\n",
    "# Typically, one would find first the correct order of magnitude, then\n",
    "# fine-tune.\n",
    "ana.find_changepoint_options()"
   ]
  },
  {
   "cell_type": "code",
   "execution_count": 12,
   "metadata": {},
   "outputs": [],
   "source": [
    "# Segment tracks using changepoint detection in the intensity time trace\n",
    "# upon donor excitation and upon acceptor excitation.\n",
    "# Manually copy the parameters from above here.\n",
    "ana.mass_changepoints(\"donor\", penalty=200000000)\n",
    "ana.mass_changepoints(\"acceptor\", penalty=100000000)"
   ]
  },
  {
   "cell_type": "code",
   "execution_count": 13,
   "metadata": {},
   "outputs": [],
   "source": [
    "# Remove trajectories where acceptor does not bleach in a single step and\n",
    "# donor shows partial bleaching.\n",
    "# set_bleach_thresh sets maximum intensity which is considered bleached for\n",
    "# donor and acceptor.\n",
    "ana.set_bleach_thresh(1000, 500)\n",
    "ana.filter_bleach_step(\"donor or acceptor\")\n",
    "\n",
    "if plot_keys:\n",
    "    dp.dscatter(\"Bleaching steps\")"
   ]
  },
  {
   "cell_type": "code",
   "execution_count": 14,
   "metadata": {},
   "outputs": [
    {
     "data": {
      "application/vnd.jupyter.widget-view+json": {
       "model_id": "7767b3889a36424fbcc7857f4d5b267f",
       "version_major": 2,
       "version_minor": 0
      },
      "text/plain": [
       "VBox(children=(Dropdown(description='dataset', options=('DPPC control cells', 'DPPC control no-cells'), value=…"
      ]
     },
     "metadata": {},
     "output_type": "display_data"
    }
   ],
   "source": [
    "# The excitation efficiency factor is computer from data with known 1:1\n",
    "# stoichiomtry. The call below allows for selecting a dataset and for fitting\n",
    "# Gaussian mixture models to select the right component in an E–S plot.\n",
    "# Parameters should be passed to calc_excitation_eff() in the cell below.\n",
    "ana.find_subpopulations()"
   ]
  },
  {
   "cell_type": "code",
   "execution_count": 15,
   "metadata": {},
   "outputs": [
    {
     "name": "stdout",
     "output_type": "stream",
     "text": [
      "leakage: 0.0657 ± 0.0057 (from 290 datapoints)\n"
     ]
    }
   ],
   "source": [
    "# Correction coefficients\n",
    "\n",
    "# If determined in a separate experiment, set leakage and direct exc\n",
    "# like below. Detection and excitation efficiency can be set similarly.\n",
    "# ana.set_leakage(0.07920904893381935)\n",
    "ana.set_direct_excitation(0.04464781911255539)\n",
    "\n",
    "# If donor-only and acceptor-only data is included in the datasets\n",
    "# and have the correct category set using Tracker.add_dataset,\n",
    "# the following can be used to calculate leakage and direct excitation\n",
    "# coefficients\n",
    "# ana.calc_leakage()\n",
    "# ana.calc_direct_excitation()\n",
    "\n",
    "# If you don't have donor-only and acceptor-only samples, leakage and direct\n",
    "# excitation can can be calculated from those parts of traces that have one\n",
    "# fluorophore bleached. This may not work so well for the direct excitation\n",
    "# factor if the donor fluorophore is much more bleach-resistant than the \n",
    "# acceptor. Setting print_summary=True will print the result as well as the\n",
    "# number of datapoints used.\n",
    "ana.calc_leakage_from_bleached(print_summary=True)\n",
    "# ana.calc_direct_excitation_from_bleached(print_summary=True)\n",
    "\n",
    "# Calculate detection efficiency (gamma) factor from donor and acceptor\n",
    "# intensity differences upon acceptor bleaching using the specified dataset.\n",
    "ana.calc_detection_eff(min_part_len=5, how=np.nanmedian, dataset=\"DPPC control no-cells\")\n",
    "\n",
    "# Calculate excitation efficiency factor using the specified dataset and\n",
    "# component from a Gaussian mixture model fit (see cell above for an\n",
    "# interactive interface to find correct settings).\n",
    "ana.calc_excitation_eff(\"DPPC control no-cells\", n_components=1, component=0)"
   ]
  },
  {
   "cell_type": "code",
   "execution_count": 16,
   "metadata": {},
   "outputs": [],
   "source": [
    "# Apply correction factors to calculate real FRET efficiencies and \n",
    "# stoichiometries\n",
    "ana.fret_correction()"
   ]
  },
  {
   "cell_type": "code",
   "execution_count": 17,
   "metadata": {},
   "outputs": [],
   "source": [
    "# Select only data before bleaching of a fluorophore, i.e., where the segment\n",
    "# number of both donor excitation and acceptor excitation intensity time traces\n",
    "# is 0. Select only data recorded during donor (\"d\") excitation.\n",
    "ana.query(\"fret_d_seg == 0 and fret_a_seg == 0 and fret_exc_type == 'd'\", reason=\"pre_bleach\")\n",
    "# Select only traces where > 75% of datapoints are within reasonable\n",
    "# stoichiometry limits\n",
    "ana.query_particles(\"0.35 <= fret_stoi <= 0.6\", min_rel=0.75, reason=\"stoi\")\n",
    "# Remove data points where donor is gone (should not be necessary due to the\n",
    "# above)\n",
    "# ana.query(\"fret_d_mass > fret_d_mass.median() * 0.2\")\n",
    "\n",
    "if plot_keys:\n",
    "    dp.dscatter(\"Before bleaching, correct stoi\")"
   ]
  },
  {
   "cell_type": "code",
   "execution_count": 18,
   "metadata": {},
   "outputs": [
    {
     "data": {
      "application/vnd.jupyter.widget-view+json": {
       "model_id": "431930b2711c4a9aacdf3a54bf78953f",
       "version_major": 2,
       "version_minor": 0
      },
      "text/plain": [
       "Thresholder(children=(ImageSelector(children=(Button(disabled=True, icon='arrow-left', layout=Layout(display='…"
      ]
     },
     "metadata": {},
     "output_type": "display_data"
    }
   ],
   "source": [
    "# Display an UI to find thresholding parameters for cell images\n",
    "ana.find_segmentation_options()"
   ]
  },
  {
   "cell_type": "code",
   "execution_count": 19,
   "metadata": {},
   "outputs": [],
   "source": [
    "# Threshold cell images and select only data within cell-occupied areas\n",
    "ana.apply_segmentation([k for k in ana.analyzers if not k.endswith(\"no-cells\")],\n",
    "                       \"adaptive\", block_size=65, c=-2, smooth=3, method=\"mean\")\n",
    "\n",
    "if plot_keys:\n",
    "    dp.dscatter(\"Underneath cells\")"
   ]
  },
  {
   "cell_type": "code",
   "execution_count": 20,
   "metadata": {},
   "outputs": [],
   "source": [
    "# Save results to disk (typically \"filtered-v???.h5\")\n",
    "ana.save()"
   ]
  },
  {
   "cell_type": "code",
   "execution_count": null,
   "metadata": {},
   "outputs": [],
   "source": []
  }
 ],
 "metadata": {
  "anaconda-cloud": {},
  "kernelspec": {
   "display_name": "Python [conda env:root] *",
   "language": "python",
   "name": "conda-root-py"
  },
  "language_info": {
   "codemirror_mode": {
    "name": "ipython",
    "version": 3
   },
   "file_extension": ".py",
   "mimetype": "text/x-python",
   "name": "python",
   "nbconvert_exporter": "python",
   "pygments_lexer": "ipython3",
   "version": "3.7.10"
  },
  "nbpresent": {
   "slides": {
    "20fa0cd3-020c-4d9f-bcba-4e50c0c0a5d1": {
     "id": "20fa0cd3-020c-4d9f-bcba-4e50c0c0a5d1",
     "prev": "76433211-a936-400b-84f3-6a2fb80db8f1",
     "regions": {
      "2fd4244b-acc8-4dfc-babd-08c1db7b747a": {
       "attrs": {
        "height": 0.8,
        "width": 0.45,
        "x": 0.5,
        "y": 0.1
       },
       "content": {
        "cell": "dc9c3e3e-8794-45c2-9297-5d25775cf3f7",
        "part": "outputs"
       },
       "id": "2fd4244b-acc8-4dfc-babd-08c1db7b747a"
      },
      "5c5edddc-6415-40e9-a5ac-ffb546f82ef7": {
       "attrs": {
        "height": 0.8,
        "width": 0.45,
        "x": 0.05,
        "y": 0.1
       },
       "content": {
        "cell": "bd5405cb-53b0-416d-8790-3c6d72aad18e",
        "part": "outputs"
       },
       "id": "5c5edddc-6415-40e9-a5ac-ffb546f82ef7"
      }
     }
    },
    "76433211-a936-400b-84f3-6a2fb80db8f1": {
     "id": "76433211-a936-400b-84f3-6a2fb80db8f1",
     "prev": "e09ecffc-34f4-4a8f-a2cc-3ee776e5e11d",
     "regions": {
      "5fabb9bc-7563-43b0-a27e-45df2ab0d7b2": {
       "attrs": {
        "height": 0.8,
        "width": 0.45,
        "x": 0.5,
        "y": 0.1
       },
       "content": {
        "cell": "f96fc3f9-f52c-4eef-a51d-820ae20139f8",
        "part": "outputs"
       },
       "id": "5fabb9bc-7563-43b0-a27e-45df2ab0d7b2"
      },
      "ceaa665e-b68f-495f-957b-5a9b2e940e15": {
       "attrs": {
        "height": 0.8,
        "width": 0.45,
        "x": 0.05,
        "y": 0.1
       },
       "content": {
        "cell": "08649e84-4e91-4f9b-abca-7afff2065f6f",
        "part": "outputs"
       },
       "id": "ceaa665e-b68f-495f-957b-5a9b2e940e15"
      }
     }
    },
    "e09ecffc-34f4-4a8f-a2cc-3ee776e5e11d": {
     "id": "e09ecffc-34f4-4a8f-a2cc-3ee776e5e11d",
     "prev": null,
     "regions": {
      "3991d937-36e0-4d56-804e-4e9f31be78f5": {
       "attrs": {
        "height": 0.1500000000000001,
        "width": 0.44999999999999996,
        "x": 0.25,
        "y": 0.1
       },
       "content": {
        "cell": "8802d2db-c6c7-47ab-8e4f-3469fe66f891",
        "part": "widgets"
       },
       "id": "3991d937-36e0-4d56-804e-4e9f31be78f5"
      },
      "e0df44c7-b500-4da1-9614-784f74a93bae": {
       "attrs": {
        "height": 0.6,
        "width": 0.8,
        "x": 0.10000000000000002,
        "y": 0.3
       },
       "content": {
        "cell": "8802d2db-c6c7-47ab-8e4f-3469fe66f891",
        "part": "outputs"
       },
       "id": "e0df44c7-b500-4da1-9614-784f74a93bae"
      }
     }
    }
   },
   "themes": {}
  },
  "widgets": {
   "application/vnd.jupyter.widget-state+json": {
    "state": {
     "000f27a1178a4174a76fd576f5e2e772": {
      "model_module": "jupyter-matplotlib",
      "model_module_version": "^0.9.0",
      "model_name": "ToolbarModel",
      "state": {
       "layout": "IPY_MODEL_d516e289246d4f54a50eb1608afbe80f",
       "toolitems": [
        [
         "Home",
         "Reset original view",
         "home",
         "home"
        ],
        [
         "Back",
         "Back to previous view",
         "arrow-left",
         "back"
        ],
        [
         "Forward",
         "Forward to next view",
         "arrow-right",
         "forward"
        ],
        [
         "Pan",
         "Left button pans, Right button zooms\nx/y fixes axis, CTRL fixes aspect",
         "arrows",
         "pan"
        ],
        [
         "Zoom",
         "Zoom to rectangle\nx/y fixes axis, CTRL fixes aspect",
         "square-o",
         "zoom"
        ],
        [
         "Download",
         "Download plot",
         "floppy-o",
         "save_figure"
        ]
       ]
      }
     },
     "02231799dbb94d3a9901a78598520013": {
      "model_module": "@jupyter-widgets/controls",
      "model_module_version": "1.5.0",
      "model_name": "DescriptionStyleModel",
      "state": {
       "description_width": ""
      }
     },
     "03423814c7a843948793c10bfe9a26fc": {
      "model_module": "@jupyter-widgets/controls",
      "model_module_version": "1.5.0",
      "model_name": "HBoxModel",
      "state": {
       "children": [
        "IPY_MODEL_e4bb7fe217234347bb76a9ad2dd8f8b2",
        "IPY_MODEL_89afa5a325234aacb8a5b70693d8951a"
       ],
       "layout": "IPY_MODEL_c8c7e512d92e413bbe314e996198d35e"
      }
     },
     "0516e43242dc4eb1ae7073edd98613f9": {
      "model_module": "@jupyter-widgets/controls",
      "model_module_version": "1.5.0",
      "model_name": "BoundedIntTextModel",
      "state": {
       "description": "threshold",
       "layout": "IPY_MODEL_5a5d471d5c554156ba0dd204ee47a0be",
       "style": "IPY_MODEL_c8ce1f4dee6a41eeb94dbe1b1b478498",
       "value": 50
      }
     },
     "05a16d7cd38e42c88877be106492d6b6": {
      "model_module": "@jupyter-widgets/controls",
      "model_module_version": "1.5.0",
      "model_name": "ButtonModel",
      "state": {
       "disabled": true,
       "icon": "arrow-left",
       "layout": "IPY_MODEL_4b4537c1b06e47bbbf57ea68fe454936",
       "style": "IPY_MODEL_4dad9026ad564d38a37f5d6f1bdc1f24"
      }
     },
     "0c371346eaf14cf3848a0171e83ba123": {
      "model_module": "@jupyter-widgets/base",
      "model_module_version": "1.2.0",
      "model_name": "LayoutModel",
      "state": {}
     },
     "0fb8241341894929a6133d8e2fd08b7b": {
      "model_module": "@jupyter-widgets/controls",
      "model_module_version": "1.5.0",
      "model_name": "DescriptionStyleModel",
      "state": {
       "description_width": ""
      }
     },
     "11a43c77aff94db8a17b1f875ee07a78": {
      "model_module": "@jupyter-widgets/base",
      "model_module_version": "1.2.0",
      "model_name": "LayoutModel",
      "state": {}
     },
     "13155c757bbf453cbefa17d05c530ca8": {
      "model_module": "@jupyter-widgets/base",
      "model_module_version": "1.2.0",
      "model_name": "LayoutModel",
      "state": {
       "grid_template_columns": "repeat(2, max-content)"
      }
     },
     "13c2350db67446e79106367cb455a8aa": {
      "model_module": "@jupyter-widgets/base",
      "model_module_version": "1.2.0",
      "model_name": "LayoutModel",
      "state": {}
     },
     "153b20f7b2fe458783831c4b1dbef57e": {
      "model_module": "@jupyter-widgets/controls",
      "model_module_version": "1.5.0",
      "model_name": "DescriptionStyleModel",
      "state": {
       "description_width": ""
      }
     },
     "1784a3eff8da411dae505dd1c62c2a64": {
      "model_module": "@jupyter-widgets/base",
      "model_module_version": "1.2.0",
      "model_name": "LayoutModel",
      "state": {}
     },
     "17cb1b5b2b354f018764cb0ac2a1fc87": {
      "model_module": "@jupyter-widgets/base",
      "model_module_version": "1.2.0",
      "model_name": "LayoutModel",
      "state": {}
     },
     "1c60cf4b4e2240d69451412d1e8733db": {
      "model_module": "@jupyter-widgets/controls",
      "model_module_version": "1.5.0",
      "model_name": "FloatTextModel",
      "state": {
       "description": "smooth",
       "layout": "IPY_MODEL_e601812377af475fa7d1e262473edc66",
       "step": 0.1,
       "style": "IPY_MODEL_4e4a127b842a4919a5b83482008b9697",
       "value": 3
      }
     },
     "1c78207e320647f7996853514b985fc4": {
      "model_module": "@jupyter-widgets/base",
      "model_module_version": "1.2.0",
      "model_name": "LayoutModel",
      "state": {}
     },
     "2274292ab9114ab3b347294d67cce1a0": {
      "model_module": "@jupyter-widgets/base",
      "model_module_version": "1.2.0",
      "model_name": "LayoutModel",
      "state": {}
     },
     "255c7578c1ef465aaf698ce25e58239a": {
      "model_module": "@jupyter-widgets/controls",
      "model_module_version": "1.5.0",
      "model_name": "DescriptionStyleModel",
      "state": {
       "description_width": ""
      }
     },
     "25d669241981401fa35fac5b6938f59d": {
      "model_module": "@jupyter-widgets/base",
      "model_module_version": "1.2.0",
      "model_name": "LayoutModel",
      "state": {}
     },
     "2a2e97d3795e4acaa89d906b902e9df3": {
      "model_module": "jupyter-matplotlib",
      "model_module_version": "^0.9.0",
      "model_name": "MPLCanvasModel",
      "state": {
       "_cursor": "default",
       "_figure_label": "Figure 4",
       "_height": 480,
       "_image_mode": "diff",
       "_width": 640,
       "layout": "IPY_MODEL_e64b572d53634913b0a5656f353b2e37",
       "toolbar": "IPY_MODEL_bb11435cc035469289aaba581d9f93c2",
       "toolbar_position": "left"
      }
     },
     "32945001f5bb4c7c83f3cfb904f685e2": {
      "model_module": "@jupyter-widgets/controls",
      "model_module_version": "1.5.0",
      "model_name": "DropdownModel",
      "state": {
       "_options_labels": [
        "DPPC control cells",
        "DPPC control no-cells"
       ],
       "description": "dataset",
       "index": 1,
       "layout": "IPY_MODEL_7d1da111d1924e28a8e7e3a84eeede8e",
       "style": "IPY_MODEL_7dfbdcd3e8a84148ba1a66a9b5366a1a"
      }
     },
     "32ba8d2f5f024f909378b0faf7ad826c": {
      "model_module": "@jupyter-widgets/controls",
      "model_module_version": "1.5.0",
      "model_name": "FloatTextModel",
      "state": {
       "description": "percentile",
       "layout": "IPY_MODEL_89a1a2047bf149f3b0aa8109f1b096de",
       "step": null,
       "style": "IPY_MODEL_ab7ef945b6414f05abf72a84a769a0be",
       "value": 75
      }
     },
     "3384dec466e04144a81aa870506d1fb7": {
      "model_module": "jupyter-matplotlib",
      "model_module_version": "^0.9.0",
      "model_name": "MPLCanvasModel",
      "state": {
       "_cursor": "default",
       "_figure_label": "Figure 1",
       "_height": 480,
       "_message": "x=163.4 y=19.4\n[]",
       "_width": 640,
       "layout": "IPY_MODEL_356804011f1b49df868602e5ae21b46f",
       "toolbar": "IPY_MODEL_33947dc819c94370a32f729c026ac6b4",
       "toolbar_position": "left"
      }
     },
     "33947dc819c94370a32f729c026ac6b4": {
      "model_module": "jupyter-matplotlib",
      "model_module_version": "^0.9.0",
      "model_name": "ToolbarModel",
      "state": {
       "layout": "IPY_MODEL_f17e84de732948ffb6eb7aa148eeb3b6",
       "toolitems": [
        [
         "Home",
         "Reset original view",
         "home",
         "home"
        ],
        [
         "Back",
         "Back to previous view",
         "arrow-left",
         "back"
        ],
        [
         "Forward",
         "Forward to next view",
         "arrow-right",
         "forward"
        ],
        [
         "Pan",
         "Left button pans, Right button zooms\nx/y fixes axis, CTRL fixes aspect",
         "arrows",
         "pan"
        ],
        [
         "Zoom",
         "Zoom to rectangle\nx/y fixes axis, CTRL fixes aspect",
         "square-o",
         "zoom"
        ],
        [
         "Download",
         "Download plot",
         "floppy-o",
         "save_figure"
        ]
       ]
      }
     },
     "349da276fcd1446ea049078814111376": {
      "model_module": "@jupyter-widgets/controls",
      "model_module_version": "1.5.0",
      "model_name": "ButtonModel",
      "state": {
       "icon": "arrow-right",
       "layout": "IPY_MODEL_be30b11543c34016b52458d956683d19",
       "style": "IPY_MODEL_46c0fdf6ce9d426eac8ddf476a3cb24c"
      }
     },
     "356804011f1b49df868602e5ae21b46f": {
      "model_module": "@jupyter-widgets/base",
      "model_module_version": "1.2.0",
      "model_name": "LayoutModel",
      "state": {}
     },
     "431930b2711c4a9aacdf3a54bf78953f": {
      "model_module": "@jupyter-widgets/controls",
      "model_module_version": "1.5.0",
      "model_name": "VBoxModel",
      "state": {
       "children": [
        "IPY_MODEL_b78562dd49f449378fb801a3fd63fa2b",
        "IPY_MODEL_9a1a4333e3ac4af58fbc8b49dc9730ab",
        "IPY_MODEL_4aff08a180e149ad81dd1fcd6104e91e"
       ],
       "layout": "IPY_MODEL_638b0db2baa24e7a9935c273dbc0145f"
      }
     },
     "445b7585e47d4af4b377351c3ed01c50": {
      "model_module": "@jupyter-widgets/base",
      "model_module_version": "1.2.0",
      "model_name": "LayoutModel",
      "state": {}
     },
     "46c0fdf6ce9d426eac8ddf476a3cb24c": {
      "model_module": "@jupyter-widgets/controls",
      "model_module_version": "1.5.0",
      "model_name": "ButtonStyleModel",
      "state": {}
     },
     "485983f2b28a44a686f91a7027b5523a": {
      "model_module": "@jupyter-widgets/controls",
      "model_module_version": "1.5.0",
      "model_name": "DescriptionStyleModel",
      "state": {
       "description_width": ""
      }
     },
     "4a1dc97ed52a415ab90791ff6f8416e4": {
      "model_module": "@jupyter-widgets/controls",
      "model_module_version": "1.5.0",
      "model_name": "BoundedIntTextModel",
      "state": {
       "description": "frame",
       "layout": "IPY_MODEL_70afde5bdefa484f9d7b2a050dbb3032",
       "max": 0,
       "style": "IPY_MODEL_d10661f8f6a64a4c8a76b9800f35d98b"
      }
     },
     "4aff08a180e149ad81dd1fcd6104e91e": {
      "model_module": "@jupyter-widgets/controls",
      "model_module_version": "1.5.0",
      "model_name": "VBoxModel",
      "state": {
       "children": [
        "IPY_MODEL_2a2e97d3795e4acaa89d906b902e9df3",
        "IPY_MODEL_60c377b7bf6a42199c0fac28e60fe5e2"
       ],
       "layout": "IPY_MODEL_1784a3eff8da411dae505dd1c62c2a64"
      }
     },
     "4b4537c1b06e47bbbf57ea68fe454936": {
      "model_module": "@jupyter-widgets/base",
      "model_module_version": "1.2.0",
      "model_name": "LayoutModel",
      "state": {
       "display": "none",
       "width": "auto"
      }
     },
     "4c6fe05ca1924f37940521bf4af52b5f": {
      "model_module": "@jupyter-widgets/controls",
      "model_module_version": "1.5.0",
      "model_name": "DescriptionStyleModel",
      "state": {
       "description_width": ""
      }
     },
     "4dad9026ad564d38a37f5d6f1bdc1f24": {
      "model_module": "@jupyter-widgets/controls",
      "model_module_version": "1.5.0",
      "model_name": "ButtonStyleModel",
      "state": {}
     },
     "4dbf46afd63f4e9c8247b1dba762066b": {
      "model_module": "@jupyter-widgets/controls",
      "model_module_version": "1.5.0",
      "model_name": "DescriptionStyleModel",
      "state": {
       "description_width": ""
      }
     },
     "4e4a127b842a4919a5b83482008b9697": {
      "model_module": "@jupyter-widgets/controls",
      "model_module_version": "1.5.0",
      "model_name": "DescriptionStyleModel",
      "state": {
       "description_width": ""
      }
     },
     "4ecdfc12d655453abe224f5f7e775a94": {
      "model_module": "@jupyter-widgets/controls",
      "model_module_version": "1.5.0",
      "model_name": "LabelModel",
      "state": {
       "layout": "IPY_MODEL_8c427de3fab8412dbe932aa388c1235e",
       "style": "IPY_MODEL_c23f137cc3674217a31936389647ab3a",
       "value": "Real particle number: 7"
      }
     },
     "4f6cc6fcb76e41cca0e9da42739ccb3c": {
      "model_module": "@jupyter-widgets/controls",
      "model_module_version": "1.5.0",
      "model_name": "ButtonModel",
      "state": {
       "description": "Auto",
       "layout": "IPY_MODEL_17cb1b5b2b354f018764cb0ac2a1fc87",
       "style": "IPY_MODEL_d2a3f6614e904668af7f7ca974b37131"
      }
     },
     "500c46b49c7645b4a5c98beb88f1ce23": {
      "model_module": "@jupyter-widgets/base",
      "model_module_version": "1.2.0",
      "model_name": "LayoutModel",
      "state": {}
     },
     "5029960db9024e8eb868e84e751345a8": {
      "model_module": "@jupyter-widgets/base",
      "model_module_version": "1.2.0",
      "model_name": "LayoutModel",
      "state": {}
     },
     "52859f6225b04543b4f88453298694e2": {
      "model_module": "@jupyter-widgets/controls",
      "model_module_version": "1.5.0",
      "model_name": "HBoxModel",
      "state": {
       "children": [
        "IPY_MODEL_32ba8d2f5f024f909378b0faf7ad826c",
        "IPY_MODEL_8b7923de12354300b5fad238f835eef7"
       ],
       "layout": "IPY_MODEL_e6cd16515ec7468bacb0926fcf4da942"
      }
     },
     "52ae423fe7814031b4f14204bef13c22": {
      "model_module": "@jupyter-widgets/controls",
      "model_module_version": "1.5.0",
      "model_name": "VBoxModel",
      "state": {
       "children": [
        "IPY_MODEL_a33a0199134648dc84db9bceadb8d663",
        "IPY_MODEL_0516e43242dc4eb1ae7073edd98613f9",
        "IPY_MODEL_3384dec466e04144a81aa870506d1fb7"
       ],
       "layout": "IPY_MODEL_1c78207e320647f7996853514b985fc4"
      }
     },
     "575e83a3ca244bcbafe179c86960d3cc": {
      "model_module": "@jupyter-widgets/base",
      "model_module_version": "1.2.0",
      "model_name": "LayoutModel",
      "state": {}
     },
     "5a5d471d5c554156ba0dd204ee47a0be": {
      "model_module": "@jupyter-widgets/base",
      "model_module_version": "1.2.0",
      "model_name": "LayoutModel",
      "state": {}
     },
     "5f1db85b9bbb42d9ab5c70a86856832f": {
      "model_module": "@jupyter-widgets/controls",
      "model_module_version": "1.5.0",
      "model_name": "DropdownModel",
      "state": {
       "_options_labels": [
        "DPPC_ctrl-J4/cells-01_000_.tif",
        "DPPC_ctrl-J4/cells-01_012_.tif",
        "DPPC_ctrl-J4/cells-01_014_.tif",
        "DPPC_ctrl-J4/cells-01_022_.tif",
        "DPPC_ctrl-J4/cells-01_032_.tif",
        "DPPC_ctrl-J4/cells-01_043_.tif",
        "DPPC_ctrl-J4/cells-01_044_.tif",
        "DPPC_ctrl-J4/cells-01_060_.tif",
        "DPPC_ctrl-J4/cells-01_064_.tif",
        "DPPC_ctrl-J4/cells-01_066_.tif",
        "DPPC_ctrl-J4/cells-33_007_.tif",
        "DPPC_ctrl-J4/cells-33_014_.tif",
        "DPPC_ctrl-J4/cells-33_025_.tif",
        "DPPC_ctrl-J4/cells-33_029_.tif",
        "DPPC_ctrl-J4/cells-33_034_.tif",
        "DPPC_ctrl-J4/no-cells_000_.tif",
        "DPPC_ctrl-J4/no-cells_004_.tif",
        "DPPC_ctrl-J4/no-cells_009_.tif",
        "DPPC_ctrl-J4/no-cells_011_.tif",
        "DPPC_ctrl-J4/no-cells_013_.tif",
        "DPPC_ctrl-J4/no-cells_015_.tif",
        "DPPC_ctrl-J4/no-cells_018_.tif",
        "DPPC_ctrl-J4/no-cells_020_.tif",
        "DPPC_ctrl-J4/no-cells_025_.tif",
        "DPPC_ctrl-J4/no-cells_027_.tif"
       ],
       "description": "image",
       "index": 0,
       "layout": "IPY_MODEL_f8292d15324746a792d3d54436e6fd92",
       "style": "IPY_MODEL_a63d1b7ac5a0498ba02ffbedd68959e2"
      }
     },
     "60c377b7bf6a42199c0fac28e60fe5e2": {
      "model_module": "@jupyter-widgets/controls",
      "model_module_version": "1.5.0",
      "model_name": "HBoxModel",
      "state": {
       "children": [
        "IPY_MODEL_66efcef74b4548bfbd4b3b28b46cb8f1",
        "IPY_MODEL_4f6cc6fcb76e41cca0e9da42739ccb3c"
       ],
       "layout": "IPY_MODEL_8b52529f05964657abacba0ff56b00af"
      }
     },
     "6167a1a3133744f78a4a3ad55049cc41": {
      "model_module": "@jupyter-widgets/controls",
      "model_module_version": "1.5.0",
      "model_name": "VBoxModel",
      "state": {
       "children": [
        "IPY_MODEL_6b48d50593ec4168a833ba6948bfd7d2",
        "IPY_MODEL_a0e9ec1bc965492c8142163f45988ec2",
        "IPY_MODEL_eaf7948ab10c428783a3b04a2cbfb797",
        "IPY_MODEL_e6124178588744d1bc1b5a98367dc541",
        "IPY_MODEL_a15d9508de44453aa840ebfce8fb492d",
        "IPY_MODEL_4ecdfc12d655453abe224f5f7e775a94"
       ],
       "layout": "IPY_MODEL_a1b745faa721451ea66a4661c8116fc0"
      }
     },
     "638b0db2baa24e7a9935c273dbc0145f": {
      "model_module": "@jupyter-widgets/base",
      "model_module_version": "1.2.0",
      "model_name": "LayoutModel",
      "state": {}
     },
     "640f6d8e410e4da89a00b9d8daedcab5": {
      "model_module": "@jupyter-widgets/base",
      "model_module_version": "1.2.0",
      "model_name": "LayoutModel",
      "state": {}
     },
     "65be65e104ae421dafb6177d95884b09": {
      "model_module": "@jupyter-widgets/base",
      "model_module_version": "1.2.0",
      "model_name": "LayoutModel",
      "state": {}
     },
     "66efcef74b4548bfbd4b3b28b46cb8f1": {
      "model_module": "@jupyter-widgets/controls",
      "model_module_version": "1.5.0",
      "model_name": "IntRangeSliderModel",
      "state": {
       "_model_name": "IntRangeSliderModel",
       "_view_name": "IntRangeSliderView",
       "description": "contrast",
       "layout": "IPY_MODEL_92bfc446767e4e0bb15e8f97ec541038",
       "max": 65535,
       "style": "IPY_MODEL_de8d148ae8964ff88680e80cb21fde65",
       "value": [
        156,
        11122
       ]
      }
     },
     "6b48d50593ec4168a833ba6948bfd7d2": {
      "model_module": "@jupyter-widgets/controls",
      "model_module_version": "1.5.0",
      "model_name": "DropdownModel",
      "state": {
       "_options_labels": [
        "DPPC control cells",
        "DPPC control no-cells"
       ],
       "description": "dataset",
       "index": 0,
       "layout": "IPY_MODEL_65be65e104ae421dafb6177d95884b09",
       "style": "IPY_MODEL_befe6a188530454f876a02af02e16937"
      }
     },
     "70afde5bdefa484f9d7b2a050dbb3032": {
      "model_module": "@jupyter-widgets/base",
      "model_module_version": "1.2.0",
      "model_name": "LayoutModel",
      "state": {}
     },
     "72749a1de3954ad8835b8e7574164940": {
      "model_module": "@jupyter-widgets/base",
      "model_module_version": "1.2.0",
      "model_name": "LayoutModel",
      "state": {}
     },
     "75414e62ad7c40ecabf41a9000201d1a": {
      "model_module": "@jupyter-widgets/controls",
      "model_module_version": "1.5.0",
      "model_name": "DescriptionStyleModel",
      "state": {
       "description_width": ""
      }
     },
     "76dab41f0c934903a23007b977b3a47b": {
      "model_module": "@jupyter-widgets/controls",
      "model_module_version": "1.5.0",
      "model_name": "DescriptionStyleModel",
      "state": {
       "description_width": ""
      }
     },
     "7723d5290b9d497eab858df1d04beae8": {
      "model_module": "@jupyter-widgets/base",
      "model_module_version": "1.2.0",
      "model_name": "LayoutModel",
      "state": {}
     },
     "7767b3889a36424fbcc7857f4d5b267f": {
      "model_module": "@jupyter-widgets/controls",
      "model_module_version": "1.5.0",
      "model_name": "VBoxModel",
      "state": {
       "children": [
        "IPY_MODEL_32945001f5bb4c7c83f3cfb904f685e2",
        "IPY_MODEL_c1022cea99184b1eaacb8acb3760a922",
        "IPY_MODEL_cf8e7894a11148ea9ae4de5a8542dc4a"
       ],
       "layout": "IPY_MODEL_f80bf73fb009432fb9f091c94a9d3bc7"
      }
     },
     "7a491f07394a41318155d05a8f927edb": {
      "model_module": "@jupyter-widgets/base",
      "model_module_version": "1.2.0",
      "model_name": "LayoutModel",
      "state": {}
     },
     "7c2adf09d51a4f81a094be48be3d0526": {
      "model_module": "@jupyter-widgets/controls",
      "model_module_version": "1.5.0",
      "model_name": "DescriptionStyleModel",
      "state": {
       "description_width": ""
      }
     },
     "7c5c6f55ea5f49bd944c262d436857e4": {
      "model_module": "@jupyter-widgets/base",
      "model_module_version": "1.2.0",
      "model_name": "LayoutModel",
      "state": {}
     },
     "7d1da111d1924e28a8e7e3a84eeede8e": {
      "model_module": "@jupyter-widgets/base",
      "model_module_version": "1.2.0",
      "model_name": "LayoutModel",
      "state": {}
     },
     "7dfbdcd3e8a84148ba1a66a9b5366a1a": {
      "model_module": "@jupyter-widgets/controls",
      "model_module_version": "1.5.0",
      "model_name": "DescriptionStyleModel",
      "state": {
       "description_width": ""
      }
     },
     "850c0c9f802d40bcbf3a2b2a1fa494fc": {
      "model_module": "@jupyter-widgets/base",
      "model_module_version": "1.2.0",
      "model_name": "LayoutModel",
      "state": {}
     },
     "87368afb8b7f493e9e301dcb1dadf9e2": {
      "model_module": "@jupyter-widgets/controls",
      "model_module_version": "1.5.0",
      "model_name": "GridBoxModel",
      "state": {
       "children": [
        "IPY_MODEL_af6d0b18d7ff40b2a788024156724953",
        "IPY_MODEL_aa7817bcf32746c4bda4f866f9e341e7",
        "IPY_MODEL_1c60cf4b4e2240d69451412d1e8733db",
        "IPY_MODEL_e51b20d294a94617a3bc2a1f969a099f"
       ],
       "layout": "IPY_MODEL_13155c757bbf453cbefa17d05c530ca8"
      }
     },
     "89a1a2047bf149f3b0aa8109f1b096de": {
      "model_module": "@jupyter-widgets/base",
      "model_module_version": "1.2.0",
      "model_name": "LayoutModel",
      "state": {}
     },
     "89afa5a325234aacb8a5b70693d8951a": {
      "model_module": "@jupyter-widgets/controls",
      "model_module_version": "1.5.0",
      "model_name": "FloatTextModel",
      "state": {
       "description": "smooth",
       "layout": "IPY_MODEL_25d669241981401fa35fac5b6938f59d",
       "step": 0.1,
       "style": "IPY_MODEL_485983f2b28a44a686f91a7027b5523a",
       "value": 1.5
      }
     },
     "8b52529f05964657abacba0ff56b00af": {
      "model_module": "@jupyter-widgets/base",
      "model_module_version": "1.2.0",
      "model_name": "LayoutModel",
      "state": {}
     },
     "8b7923de12354300b5fad238f835eef7": {
      "model_module": "@jupyter-widgets/controls",
      "model_module_version": "1.5.0",
      "model_name": "FloatTextModel",
      "state": {
       "description": "smooth",
       "layout": "IPY_MODEL_445b7585e47d4af4b377351c3ed01c50",
       "step": 0.1,
       "style": "IPY_MODEL_153b20f7b2fe458783831c4b1dbef57e",
       "value": 1.5
      }
     },
     "8c427de3fab8412dbe932aa388c1235e": {
      "model_module": "@jupyter-widgets/base",
      "model_module_version": "1.2.0",
      "model_name": "LayoutModel",
      "state": {}
     },
     "92bfc446767e4e0bb15e8f97ec541038": {
      "model_module": "@jupyter-widgets/base",
      "model_module_version": "1.2.0",
      "model_name": "LayoutModel",
      "state": {
       "width": "75%"
      }
     },
     "9a1a4333e3ac4af58fbc8b49dc9730ab": {
      "model_module": "@jupyter-widgets/controls",
      "model_module_version": "1.5.0",
      "model_name": "TabModel",
      "state": {
       "_titles": {
        "0": "adaptive",
        "1": "otsu",
        "2": "percentile"
       },
       "children": [
        "IPY_MODEL_87368afb8b7f493e9e301dcb1dadf9e2",
        "IPY_MODEL_03423814c7a843948793c10bfe9a26fc",
        "IPY_MODEL_52859f6225b04543b4f88453298694e2"
       ],
       "layout": "IPY_MODEL_72749a1de3954ad8835b8e7574164940"
      }
     },
     "9b806953f8ab4f4f8d10045362f65271": {
      "model_module": "@jupyter-widgets/controls",
      "model_module_version": "1.5.0",
      "model_name": "DescriptionStyleModel",
      "state": {
       "description_width": ""
      }
     },
     "a0e9ec1bc965492c8142163f45988ec2": {
      "model_module": "@jupyter-widgets/controls",
      "model_module_version": "1.5.0",
      "model_name": "IntTextModel",
      "state": {
       "description": "particle",
       "layout": "IPY_MODEL_c34bab9e6f074c9faf6362cedbfabcff",
       "step": 1,
       "style": "IPY_MODEL_9b806953f8ab4f4f8d10045362f65271",
       "value": 4
      }
     },
     "a15d9508de44453aa840ebfce8fb492d": {
      "model_module": "jupyter-matplotlib",
      "model_module_version": "^0.9.0",
      "model_name": "MPLCanvasModel",
      "state": {
       "_cursor": "default",
       "_figure_label": "Figure 2",
       "_height": 400,
       "_image_mode": "diff",
       "_width": 800,
       "layout": "IPY_MODEL_2274292ab9114ab3b347294d67cce1a0",
       "toolbar": "IPY_MODEL_000f27a1178a4174a76fd576f5e2e772",
       "toolbar_position": "left"
      }
     },
     "a1b745faa721451ea66a4661c8116fc0": {
      "model_module": "@jupyter-widgets/base",
      "model_module_version": "1.2.0",
      "model_name": "LayoutModel",
      "state": {}
     },
     "a33a0199134648dc84db9bceadb8d663": {
      "model_module": "@jupyter-widgets/controls",
      "model_module_version": "1.5.0",
      "model_name": "DropdownModel",
      "state": {
       "_options_labels": [
        "acceptor",
        "donor"
       ],
       "description": "channel",
       "index": 0,
       "layout": "IPY_MODEL_13c2350db67446e79106367cb455a8aa",
       "style": "IPY_MODEL_02231799dbb94d3a9901a78598520013"
      }
     },
     "a63d1b7ac5a0498ba02ffbedd68959e2": {
      "model_module": "@jupyter-widgets/controls",
      "model_module_version": "1.5.0",
      "model_name": "DescriptionStyleModel",
      "state": {
       "description_width": ""
      }
     },
     "aa7817bcf32746c4bda4f866f9e341e7": {
      "model_module": "@jupyter-widgets/controls",
      "model_module_version": "1.5.0",
      "model_name": "FloatTextModel",
      "state": {
       "description": "const offset",
       "layout": "IPY_MODEL_11a43c77aff94db8a17b1f875ee07a78",
       "step": null,
       "style": "IPY_MODEL_76dab41f0c934903a23007b977b3a47b",
       "value": -2
      }
     },
     "ab7ef945b6414f05abf72a84a769a0be": {
      "model_module": "@jupyter-widgets/controls",
      "model_module_version": "1.5.0",
      "model_name": "DescriptionStyleModel",
      "state": {
       "description_width": ""
      }
     },
     "af6d0b18d7ff40b2a788024156724953": {
      "model_module": "@jupyter-widgets/controls",
      "model_module_version": "1.5.0",
      "model_name": "IntTextModel",
      "state": {
       "description": "block size",
       "layout": "IPY_MODEL_500c46b49c7645b4a5c98beb88f1ce23",
       "step": 1,
       "style": "IPY_MODEL_4dbf46afd63f4e9c8247b1dba762066b",
       "value": 65
      }
     },
     "b78562dd49f449378fb801a3fd63fa2b": {
      "model_module": "@jupyter-widgets/controls",
      "model_module_version": "1.5.0",
      "model_name": "HBoxModel",
      "state": {
       "children": [
        "IPY_MODEL_05a16d7cd38e42c88877be106492d6b6",
        "IPY_MODEL_5f1db85b9bbb42d9ab5c70a86856832f",
        "IPY_MODEL_349da276fcd1446ea049078814111376",
        "IPY_MODEL_4a1dc97ed52a415ab90791ff6f8416e4"
       ],
       "layout": "IPY_MODEL_bee7ea37ddab4951be5291b9e3a54602"
      }
     },
     "bb11435cc035469289aaba581d9f93c2": {
      "model_module": "jupyter-matplotlib",
      "model_module_version": "^0.9.0",
      "model_name": "ToolbarModel",
      "state": {
       "layout": "IPY_MODEL_5029960db9024e8eb868e84e751345a8",
       "toolitems": [
        [
         "Home",
         "Reset original view",
         "home",
         "home"
        ],
        [
         "Back",
         "Back to previous view",
         "arrow-left",
         "back"
        ],
        [
         "Forward",
         "Forward to next view",
         "arrow-right",
         "forward"
        ],
        [
         "Pan",
         "Left button pans, Right button zooms\nx/y fixes axis, CTRL fixes aspect",
         "arrows",
         "pan"
        ],
        [
         "Zoom",
         "Zoom to rectangle\nx/y fixes axis, CTRL fixes aspect",
         "square-o",
         "zoom"
        ],
        [
         "Download",
         "Download plot",
         "floppy-o",
         "save_figure"
        ]
       ]
      }
     },
     "be30b11543c34016b52458d956683d19": {
      "model_module": "@jupyter-widgets/base",
      "model_module_version": "1.2.0",
      "model_name": "LayoutModel",
      "state": {
       "display": "none",
       "width": "auto"
      }
     },
     "bee7ea37ddab4951be5291b9e3a54602": {
      "model_module": "@jupyter-widgets/base",
      "model_module_version": "1.2.0",
      "model_name": "LayoutModel",
      "state": {}
     },
     "befe6a188530454f876a02af02e16937": {
      "model_module": "@jupyter-widgets/controls",
      "model_module_version": "1.5.0",
      "model_name": "DescriptionStyleModel",
      "state": {
       "description_width": ""
      }
     },
     "c1022cea99184b1eaacb8acb3760a922": {
      "model_module": "@jupyter-widgets/controls",
      "model_module_version": "1.5.0",
      "model_name": "IntTextModel",
      "state": {
       "description": "components",
       "layout": "IPY_MODEL_850c0c9f802d40bcbf3a2b2a1fa494fc",
       "step": 1,
       "style": "IPY_MODEL_0fb8241341894929a6133d8e2fd08b7b",
       "value": 1
      }
     },
     "c23c7e1824e0424d9d938f59527bd345": {
      "model_module": "jupyter-matplotlib",
      "model_module_version": "^0.9.0",
      "model_name": "ToolbarModel",
      "state": {
       "layout": "IPY_MODEL_7723d5290b9d497eab858df1d04beae8",
       "toolitems": [
        [
         "Home",
         "Reset original view",
         "home",
         "home"
        ],
        [
         "Back",
         "Back to previous view",
         "arrow-left",
         "back"
        ],
        [
         "Forward",
         "Forward to next view",
         "arrow-right",
         "forward"
        ],
        [
         "Pan",
         "Left button pans, Right button zooms\nx/y fixes axis, CTRL fixes aspect",
         "arrows",
         "pan"
        ],
        [
         "Zoom",
         "Zoom to rectangle\nx/y fixes axis, CTRL fixes aspect",
         "square-o",
         "zoom"
        ],
        [
         "Download",
         "Download plot",
         "floppy-o",
         "save_figure"
        ]
       ]
      }
     },
     "c23f137cc3674217a31936389647ab3a": {
      "model_module": "@jupyter-widgets/controls",
      "model_module_version": "1.5.0",
      "model_name": "DescriptionStyleModel",
      "state": {
       "description_width": ""
      }
     },
     "c34bab9e6f074c9faf6362cedbfabcff": {
      "model_module": "@jupyter-widgets/base",
      "model_module_version": "1.2.0",
      "model_name": "LayoutModel",
      "state": {}
     },
     "c8c7e512d92e413bbe314e996198d35e": {
      "model_module": "@jupyter-widgets/base",
      "model_module_version": "1.2.0",
      "model_name": "LayoutModel",
      "state": {}
     },
     "c8ce1f4dee6a41eeb94dbe1b1b478498": {
      "model_module": "@jupyter-widgets/controls",
      "model_module_version": "1.5.0",
      "model_name": "DescriptionStyleModel",
      "state": {
       "description_width": ""
      }
     },
     "cf8e7894a11148ea9ae4de5a8542dc4a": {
      "model_module": "jupyter-matplotlib",
      "model_module_version": "^0.9.0",
      "model_name": "MPLCanvasModel",
      "state": {
       "_cursor": "default",
       "_figure_label": "Figure 3",
       "_height": 480,
       "_image_mode": "diff",
       "_width": 640,
       "layout": "IPY_MODEL_640f6d8e410e4da89a00b9d8daedcab5",
       "toolbar": "IPY_MODEL_c23c7e1824e0424d9d938f59527bd345",
       "toolbar_position": "left"
      }
     },
     "d10661f8f6a64a4c8a76b9800f35d98b": {
      "model_module": "@jupyter-widgets/controls",
      "model_module_version": "1.5.0",
      "model_name": "DescriptionStyleModel",
      "state": {
       "description_width": ""
      }
     },
     "d2a3f6614e904668af7f7ca974b37131": {
      "model_module": "@jupyter-widgets/controls",
      "model_module_version": "1.5.0",
      "model_name": "ButtonStyleModel",
      "state": {}
     },
     "d516e289246d4f54a50eb1608afbe80f": {
      "model_module": "@jupyter-widgets/base",
      "model_module_version": "1.2.0",
      "model_name": "LayoutModel",
      "state": {}
     },
     "de8d148ae8964ff88680e80cb21fde65": {
      "model_module": "@jupyter-widgets/controls",
      "model_module_version": "1.5.0",
      "model_name": "SliderStyleModel",
      "state": {
       "description_width": ""
      }
     },
     "e4bb7fe217234347bb76a9ad2dd8f8b2": {
      "model_module": "@jupyter-widgets/controls",
      "model_module_version": "1.5.0",
      "model_name": "FloatTextModel",
      "state": {
       "description": "mult.",
       "layout": "IPY_MODEL_7a491f07394a41318155d05a8f927edb",
       "step": 0.1,
       "style": "IPY_MODEL_255c7578c1ef465aaf698ce25e58239a",
       "value": 1
      }
     },
     "e51b20d294a94617a3bc2a1f969a099f": {
      "model_module": "@jupyter-widgets/controls",
      "model_module_version": "1.5.0",
      "model_name": "DropdownModel",
      "state": {
       "_options_labels": [
        "mean",
        "gaussian"
       ],
       "description": "adaptive method",
       "index": 0,
       "layout": "IPY_MODEL_7c5c6f55ea5f49bd944c262d436857e4",
       "style": "IPY_MODEL_75414e62ad7c40ecabf41a9000201d1a"
      }
     },
     "e601812377af475fa7d1e262473edc66": {
      "model_module": "@jupyter-widgets/base",
      "model_module_version": "1.2.0",
      "model_name": "LayoutModel",
      "state": {}
     },
     "e6124178588744d1bc1b5a98367dc541": {
      "model_module": "@jupyter-widgets/controls",
      "model_module_version": "1.5.0",
      "model_name": "FloatTextModel",
      "state": {
       "description": "acc. penalty",
       "layout": "IPY_MODEL_575e83a3ca244bcbafe179c86960d3cc",
       "step": null,
       "style": "IPY_MODEL_7c2adf09d51a4f81a094be48be3d0526",
       "value": 100000000
      }
     },
     "e64b572d53634913b0a5656f353b2e37": {
      "model_module": "@jupyter-widgets/base",
      "model_module_version": "1.2.0",
      "model_name": "LayoutModel",
      "state": {}
     },
     "e6cd16515ec7468bacb0926fcf4da942": {
      "model_module": "@jupyter-widgets/base",
      "model_module_version": "1.2.0",
      "model_name": "LayoutModel",
      "state": {}
     },
     "eaf7948ab10c428783a3b04a2cbfb797": {
      "model_module": "@jupyter-widgets/controls",
      "model_module_version": "1.5.0",
      "model_name": "FloatTextModel",
      "state": {
       "description": "don. penalty",
       "layout": "IPY_MODEL_0c371346eaf14cf3848a0171e83ba123",
       "step": null,
       "style": "IPY_MODEL_4c6fe05ca1924f37940521bf4af52b5f",
       "value": 200000000
      }
     },
     "f17e84de732948ffb6eb7aa148eeb3b6": {
      "model_module": "@jupyter-widgets/base",
      "model_module_version": "1.2.0",
      "model_name": "LayoutModel",
      "state": {}
     },
     "f80bf73fb009432fb9f091c94a9d3bc7": {
      "model_module": "@jupyter-widgets/base",
      "model_module_version": "1.2.0",
      "model_name": "LayoutModel",
      "state": {}
     },
     "f8292d15324746a792d3d54436e6fd92": {
      "model_module": "@jupyter-widgets/base",
      "model_module_version": "1.2.0",
      "model_name": "LayoutModel",
      "state": {}
     }
    },
    "version_major": 2,
    "version_minor": 0
   }
  }
 },
 "nbformat": 4,
 "nbformat_minor": 4
}
