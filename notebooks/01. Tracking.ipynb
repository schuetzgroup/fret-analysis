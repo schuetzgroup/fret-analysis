{
 "cells": [
  {
   "cell_type": "code",
   "execution_count": 1,
   "metadata": {
    "nbpresent": {
     "id": "0a417825-fc46-48f3-8128-e0e265b094e1"
    }
   },
   "outputs": [],
   "source": [
    "from pathlib import Path\n",
    "\n",
    "import sys\n",
    "import os\n",
    "    \n",
    "from smfret_analysis import Tracker, print_info"
   ]
  },
  {
   "cell_type": "code",
   "execution_count": 2,
   "metadata": {},
   "outputs": [],
   "source": [
    "%load_ext autoreload\n",
    "%autoreload 2"
   ]
  },
  {
   "cell_type": "code",
   "execution_count": 3,
   "metadata": {},
   "outputs": [
    {
     "name": "stdout",
     "output_type": "stream",
     "text": [
      "smFRET analysis software version 2.0.dev\n",
      "(git revision 1.0-24-g5827abb)\n",
      "Output version 8\n",
      "Using sdt-python version 13.2.dev\n"
     ]
    }
   ],
   "source": [
    "print_info()"
   ]
  },
  {
   "cell_type": "code",
   "execution_count": 8,
   "metadata": {
    "nbpresent": {
     "id": "0b4b7b88-8234-4a09-9ec6-7d6a88a2e944"
    }
   },
   "outputs": [],
   "source": [
    "data_dir = \"data\"\n",
    "### Start fresh\n",
    "# donor origin, acceptor origin, size\n",
    "tr = Tracker((292, 0), (0, 0), (189, 138), \"ce\" + \"da\" * 150 + \"c\", data_dir=data_dir)\n",
    "### or load\n",
    "#tr = Tracker.load(data_dir=data_dir)"
   ]
  },
  {
   "cell_type": "code",
   "execution_count": 8,
   "metadata": {
    "scrolled": false
   },
   "outputs": [
    {
     "data": {
      "application/vnd.jupyter.widget-view+json": {
       "model_id": "79f571d6498f44a49d89e521f151dc66",
       "version_major": 2,
       "version_minor": 0
      },
      "text/plain": [
       "HBox(children=(VBox(children=(Select(layout=Layout(width='auto'), options=('data/beads/beads_000_.SPE', 'data/…"
      ]
     },
     "metadata": {},
     "output_type": "display_data"
    },
    {
     "data": {
      "application/javascript": [
       "/* Put everything inside the global mpl namespace */\n",
       "window.mpl = {};\n",
       "\n",
       "\n",
       "mpl.get_websocket_type = function() {\n",
       "    if (typeof(WebSocket) !== 'undefined') {\n",
       "        return WebSocket;\n",
       "    } else if (typeof(MozWebSocket) !== 'undefined') {\n",
       "        return MozWebSocket;\n",
       "    } else {\n",
       "        alert('Your browser does not have WebSocket support.' +\n",
       "              'Please try Chrome, Safari or Firefox ≥ 6. ' +\n",
       "              'Firefox 4 and 5 are also supported but you ' +\n",
       "              'have to enable WebSockets in about:config.');\n",
       "    };\n",
       "}\n",
       "\n",
       "mpl.figure = function(figure_id, websocket, ondownload, parent_element) {\n",
       "    this.id = figure_id;\n",
       "\n",
       "    this.ws = websocket;\n",
       "\n",
       "    this.supports_binary = (this.ws.binaryType != undefined);\n",
       "\n",
       "    if (!this.supports_binary) {\n",
       "        var warnings = document.getElementById(\"mpl-warnings\");\n",
       "        if (warnings) {\n",
       "            warnings.style.display = 'block';\n",
       "            warnings.textContent = (\n",
       "                \"This browser does not support binary websocket messages. \" +\n",
       "                    \"Performance may be slow.\");\n",
       "        }\n",
       "    }\n",
       "\n",
       "    this.imageObj = new Image();\n",
       "\n",
       "    this.context = undefined;\n",
       "    this.message = undefined;\n",
       "    this.canvas = undefined;\n",
       "    this.rubberband_canvas = undefined;\n",
       "    this.rubberband_context = undefined;\n",
       "    this.format_dropdown = undefined;\n",
       "\n",
       "    this.image_mode = 'full';\n",
       "\n",
       "    this.root = $('<div/>');\n",
       "    this._root_extra_style(this.root)\n",
       "    this.root.attr('style', 'display: inline-block');\n",
       "\n",
       "    $(parent_element).append(this.root);\n",
       "\n",
       "    this._init_header(this);\n",
       "    this._init_canvas(this);\n",
       "    this._init_toolbar(this);\n",
       "\n",
       "    var fig = this;\n",
       "\n",
       "    this.waiting = false;\n",
       "\n",
       "    this.ws.onopen =  function () {\n",
       "            fig.send_message(\"supports_binary\", {value: fig.supports_binary});\n",
       "            fig.send_message(\"send_image_mode\", {});\n",
       "            if (mpl.ratio != 1) {\n",
       "                fig.send_message(\"set_dpi_ratio\", {'dpi_ratio': mpl.ratio});\n",
       "            }\n",
       "            fig.send_message(\"refresh\", {});\n",
       "        }\n",
       "\n",
       "    this.imageObj.onload = function() {\n",
       "            if (fig.image_mode == 'full') {\n",
       "                // Full images could contain transparency (where diff images\n",
       "                // almost always do), so we need to clear the canvas so that\n",
       "                // there is no ghosting.\n",
       "                fig.context.clearRect(0, 0, fig.canvas.width, fig.canvas.height);\n",
       "            }\n",
       "            fig.context.drawImage(fig.imageObj, 0, 0);\n",
       "        };\n",
       "\n",
       "    this.imageObj.onunload = function() {\n",
       "        fig.ws.close();\n",
       "    }\n",
       "\n",
       "    this.ws.onmessage = this._make_on_message_function(this);\n",
       "\n",
       "    this.ondownload = ondownload;\n",
       "}\n",
       "\n",
       "mpl.figure.prototype._init_header = function() {\n",
       "    var titlebar = $(\n",
       "        '<div class=\"ui-dialog-titlebar ui-widget-header ui-corner-all ' +\n",
       "        'ui-helper-clearfix\"/>');\n",
       "    var titletext = $(\n",
       "        '<div class=\"ui-dialog-title\" style=\"width: 100%; ' +\n",
       "        'text-align: center; padding: 3px;\"/>');\n",
       "    titlebar.append(titletext)\n",
       "    this.root.append(titlebar);\n",
       "    this.header = titletext[0];\n",
       "}\n",
       "\n",
       "\n",
       "\n",
       "mpl.figure.prototype._canvas_extra_style = function(canvas_div) {\n",
       "\n",
       "}\n",
       "\n",
       "\n",
       "mpl.figure.prototype._root_extra_style = function(canvas_div) {\n",
       "\n",
       "}\n",
       "\n",
       "mpl.figure.prototype._init_canvas = function() {\n",
       "    var fig = this;\n",
       "\n",
       "    var canvas_div = $('<div/>');\n",
       "\n",
       "    canvas_div.attr('style', 'position: relative; clear: both; outline: 0');\n",
       "\n",
       "    function canvas_keyboard_event(event) {\n",
       "        return fig.key_event(event, event['data']);\n",
       "    }\n",
       "\n",
       "    canvas_div.keydown('key_press', canvas_keyboard_event);\n",
       "    canvas_div.keyup('key_release', canvas_keyboard_event);\n",
       "    this.canvas_div = canvas_div\n",
       "    this._canvas_extra_style(canvas_div)\n",
       "    this.root.append(canvas_div);\n",
       "\n",
       "    var canvas = $('<canvas/>');\n",
       "    canvas.addClass('mpl-canvas');\n",
       "    canvas.attr('style', \"left: 0; top: 0; z-index: 0; outline: 0\")\n",
       "\n",
       "    this.canvas = canvas[0];\n",
       "    this.context = canvas[0].getContext(\"2d\");\n",
       "\n",
       "    var backingStore = this.context.backingStorePixelRatio ||\n",
       "\tthis.context.webkitBackingStorePixelRatio ||\n",
       "\tthis.context.mozBackingStorePixelRatio ||\n",
       "\tthis.context.msBackingStorePixelRatio ||\n",
       "\tthis.context.oBackingStorePixelRatio ||\n",
       "\tthis.context.backingStorePixelRatio || 1;\n",
       "\n",
       "    mpl.ratio = (window.devicePixelRatio || 1) / backingStore;\n",
       "\n",
       "    var rubberband = $('<canvas/>');\n",
       "    rubberband.attr('style', \"position: absolute; left: 0; top: 0; z-index: 1;\")\n",
       "\n",
       "    var pass_mouse_events = true;\n",
       "\n",
       "    canvas_div.resizable({\n",
       "        start: function(event, ui) {\n",
       "            pass_mouse_events = false;\n",
       "        },\n",
       "        resize: function(event, ui) {\n",
       "            fig.request_resize(ui.size.width, ui.size.height);\n",
       "        },\n",
       "        stop: function(event, ui) {\n",
       "            pass_mouse_events = true;\n",
       "            fig.request_resize(ui.size.width, ui.size.height);\n",
       "        },\n",
       "    });\n",
       "\n",
       "    function mouse_event_fn(event) {\n",
       "        if (pass_mouse_events)\n",
       "            return fig.mouse_event(event, event['data']);\n",
       "    }\n",
       "\n",
       "    rubberband.mousedown('button_press', mouse_event_fn);\n",
       "    rubberband.mouseup('button_release', mouse_event_fn);\n",
       "    // Throttle sequential mouse events to 1 every 20ms.\n",
       "    rubberband.mousemove('motion_notify', mouse_event_fn);\n",
       "\n",
       "    rubberband.mouseenter('figure_enter', mouse_event_fn);\n",
       "    rubberband.mouseleave('figure_leave', mouse_event_fn);\n",
       "\n",
       "    canvas_div.on(\"wheel\", function (event) {\n",
       "        event = event.originalEvent;\n",
       "        event['data'] = 'scroll'\n",
       "        if (event.deltaY < 0) {\n",
       "            event.step = 1;\n",
       "        } else {\n",
       "            event.step = -1;\n",
       "        }\n",
       "        mouse_event_fn(event);\n",
       "    });\n",
       "\n",
       "    canvas_div.append(canvas);\n",
       "    canvas_div.append(rubberband);\n",
       "\n",
       "    this.rubberband = rubberband;\n",
       "    this.rubberband_canvas = rubberband[0];\n",
       "    this.rubberband_context = rubberband[0].getContext(\"2d\");\n",
       "    this.rubberband_context.strokeStyle = \"#000000\";\n",
       "\n",
       "    this._resize_canvas = function(width, height) {\n",
       "        // Keep the size of the canvas, canvas container, and rubber band\n",
       "        // canvas in synch.\n",
       "        canvas_div.css('width', width)\n",
       "        canvas_div.css('height', height)\n",
       "\n",
       "        canvas.attr('width', width * mpl.ratio);\n",
       "        canvas.attr('height', height * mpl.ratio);\n",
       "        canvas.attr('style', 'width: ' + width + 'px; height: ' + height + 'px;');\n",
       "\n",
       "        rubberband.attr('width', width);\n",
       "        rubberband.attr('height', height);\n",
       "    }\n",
       "\n",
       "    // Set the figure to an initial 600x600px, this will subsequently be updated\n",
       "    // upon first draw.\n",
       "    this._resize_canvas(600, 600);\n",
       "\n",
       "    // Disable right mouse context menu.\n",
       "    $(this.rubberband_canvas).bind(\"contextmenu\",function(e){\n",
       "        return false;\n",
       "    });\n",
       "\n",
       "    function set_focus () {\n",
       "        canvas.focus();\n",
       "        canvas_div.focus();\n",
       "    }\n",
       "\n",
       "    window.setTimeout(set_focus, 100);\n",
       "}\n",
       "\n",
       "mpl.figure.prototype._init_toolbar = function() {\n",
       "    var fig = this;\n",
       "\n",
       "    var nav_element = $('<div/>')\n",
       "    nav_element.attr('style', 'width: 100%');\n",
       "    this.root.append(nav_element);\n",
       "\n",
       "    // Define a callback function for later on.\n",
       "    function toolbar_event(event) {\n",
       "        return fig.toolbar_button_onclick(event['data']);\n",
       "    }\n",
       "    function toolbar_mouse_event(event) {\n",
       "        return fig.toolbar_button_onmouseover(event['data']);\n",
       "    }\n",
       "\n",
       "    for(var toolbar_ind in mpl.toolbar_items) {\n",
       "        var name = mpl.toolbar_items[toolbar_ind][0];\n",
       "        var tooltip = mpl.toolbar_items[toolbar_ind][1];\n",
       "        var image = mpl.toolbar_items[toolbar_ind][2];\n",
       "        var method_name = mpl.toolbar_items[toolbar_ind][3];\n",
       "\n",
       "        if (!name) {\n",
       "            // put a spacer in here.\n",
       "            continue;\n",
       "        }\n",
       "        var button = $('<button/>');\n",
       "        button.addClass('ui-button ui-widget ui-state-default ui-corner-all ' +\n",
       "                        'ui-button-icon-only');\n",
       "        button.attr('role', 'button');\n",
       "        button.attr('aria-disabled', 'false');\n",
       "        button.click(method_name, toolbar_event);\n",
       "        button.mouseover(tooltip, toolbar_mouse_event);\n",
       "\n",
       "        var icon_img = $('<span/>');\n",
       "        icon_img.addClass('ui-button-icon-primary ui-icon');\n",
       "        icon_img.addClass(image);\n",
       "        icon_img.addClass('ui-corner-all');\n",
       "\n",
       "        var tooltip_span = $('<span/>');\n",
       "        tooltip_span.addClass('ui-button-text');\n",
       "        tooltip_span.html(tooltip);\n",
       "\n",
       "        button.append(icon_img);\n",
       "        button.append(tooltip_span);\n",
       "\n",
       "        nav_element.append(button);\n",
       "    }\n",
       "\n",
       "    var fmt_picker_span = $('<span/>');\n",
       "\n",
       "    var fmt_picker = $('<select/>');\n",
       "    fmt_picker.addClass('mpl-toolbar-option ui-widget ui-widget-content');\n",
       "    fmt_picker_span.append(fmt_picker);\n",
       "    nav_element.append(fmt_picker_span);\n",
       "    this.format_dropdown = fmt_picker[0];\n",
       "\n",
       "    for (var ind in mpl.extensions) {\n",
       "        var fmt = mpl.extensions[ind];\n",
       "        var option = $(\n",
       "            '<option/>', {selected: fmt === mpl.default_extension}).html(fmt);\n",
       "        fmt_picker.append(option)\n",
       "    }\n",
       "\n",
       "    // Add hover states to the ui-buttons\n",
       "    $( \".ui-button\" ).hover(\n",
       "        function() { $(this).addClass(\"ui-state-hover\");},\n",
       "        function() { $(this).removeClass(\"ui-state-hover\");}\n",
       "    );\n",
       "\n",
       "    var status_bar = $('<span class=\"mpl-message\"/>');\n",
       "    nav_element.append(status_bar);\n",
       "    this.message = status_bar[0];\n",
       "}\n",
       "\n",
       "mpl.figure.prototype.request_resize = function(x_pixels, y_pixels) {\n",
       "    // Request matplotlib to resize the figure. Matplotlib will then trigger a resize in the client,\n",
       "    // which will in turn request a refresh of the image.\n",
       "    this.send_message('resize', {'width': x_pixels, 'height': y_pixels});\n",
       "}\n",
       "\n",
       "mpl.figure.prototype.send_message = function(type, properties) {\n",
       "    properties['type'] = type;\n",
       "    properties['figure_id'] = this.id;\n",
       "    this.ws.send(JSON.stringify(properties));\n",
       "}\n",
       "\n",
       "mpl.figure.prototype.send_draw_message = function() {\n",
       "    if (!this.waiting) {\n",
       "        this.waiting = true;\n",
       "        this.ws.send(JSON.stringify({type: \"draw\", figure_id: this.id}));\n",
       "    }\n",
       "}\n",
       "\n",
       "\n",
       "mpl.figure.prototype.handle_save = function(fig, msg) {\n",
       "    var format_dropdown = fig.format_dropdown;\n",
       "    var format = format_dropdown.options[format_dropdown.selectedIndex].value;\n",
       "    fig.ondownload(fig, format);\n",
       "}\n",
       "\n",
       "\n",
       "mpl.figure.prototype.handle_resize = function(fig, msg) {\n",
       "    var size = msg['size'];\n",
       "    if (size[0] != fig.canvas.width || size[1] != fig.canvas.height) {\n",
       "        fig._resize_canvas(size[0], size[1]);\n",
       "        fig.send_message(\"refresh\", {});\n",
       "    };\n",
       "}\n",
       "\n",
       "mpl.figure.prototype.handle_rubberband = function(fig, msg) {\n",
       "    var x0 = msg['x0'] / mpl.ratio;\n",
       "    var y0 = (fig.canvas.height - msg['y0']) / mpl.ratio;\n",
       "    var x1 = msg['x1'] / mpl.ratio;\n",
       "    var y1 = (fig.canvas.height - msg['y1']) / mpl.ratio;\n",
       "    x0 = Math.floor(x0) + 0.5;\n",
       "    y0 = Math.floor(y0) + 0.5;\n",
       "    x1 = Math.floor(x1) + 0.5;\n",
       "    y1 = Math.floor(y1) + 0.5;\n",
       "    var min_x = Math.min(x0, x1);\n",
       "    var min_y = Math.min(y0, y1);\n",
       "    var width = Math.abs(x1 - x0);\n",
       "    var height = Math.abs(y1 - y0);\n",
       "\n",
       "    fig.rubberband_context.clearRect(\n",
       "        0, 0, fig.canvas.width, fig.canvas.height);\n",
       "\n",
       "    fig.rubberband_context.strokeRect(min_x, min_y, width, height);\n",
       "}\n",
       "\n",
       "mpl.figure.prototype.handle_figure_label = function(fig, msg) {\n",
       "    // Updates the figure title.\n",
       "    fig.header.textContent = msg['label'];\n",
       "}\n",
       "\n",
       "mpl.figure.prototype.handle_cursor = function(fig, msg) {\n",
       "    var cursor = msg['cursor'];\n",
       "    switch(cursor)\n",
       "    {\n",
       "    case 0:\n",
       "        cursor = 'pointer';\n",
       "        break;\n",
       "    case 1:\n",
       "        cursor = 'default';\n",
       "        break;\n",
       "    case 2:\n",
       "        cursor = 'crosshair';\n",
       "        break;\n",
       "    case 3:\n",
       "        cursor = 'move';\n",
       "        break;\n",
       "    }\n",
       "    fig.rubberband_canvas.style.cursor = cursor;\n",
       "}\n",
       "\n",
       "mpl.figure.prototype.handle_message = function(fig, msg) {\n",
       "    fig.message.textContent = msg['message'];\n",
       "}\n",
       "\n",
       "mpl.figure.prototype.handle_draw = function(fig, msg) {\n",
       "    // Request the server to send over a new figure.\n",
       "    fig.send_draw_message();\n",
       "}\n",
       "\n",
       "mpl.figure.prototype.handle_image_mode = function(fig, msg) {\n",
       "    fig.image_mode = msg['mode'];\n",
       "}\n",
       "\n",
       "mpl.figure.prototype.updated_canvas_event = function() {\n",
       "    // Called whenever the canvas gets updated.\n",
       "    this.send_message(\"ack\", {});\n",
       "}\n",
       "\n",
       "// A function to construct a web socket function for onmessage handling.\n",
       "// Called in the figure constructor.\n",
       "mpl.figure.prototype._make_on_message_function = function(fig) {\n",
       "    return function socket_on_message(evt) {\n",
       "        if (evt.data instanceof Blob) {\n",
       "            /* FIXME: We get \"Resource interpreted as Image but\n",
       "             * transferred with MIME type text/plain:\" errors on\n",
       "             * Chrome.  But how to set the MIME type?  It doesn't seem\n",
       "             * to be part of the websocket stream */\n",
       "            evt.data.type = \"image/png\";\n",
       "\n",
       "            /* Free the memory for the previous frames */\n",
       "            if (fig.imageObj.src) {\n",
       "                (window.URL || window.webkitURL).revokeObjectURL(\n",
       "                    fig.imageObj.src);\n",
       "            }\n",
       "\n",
       "            fig.imageObj.src = (window.URL || window.webkitURL).createObjectURL(\n",
       "                evt.data);\n",
       "            fig.updated_canvas_event();\n",
       "            fig.waiting = false;\n",
       "            return;\n",
       "        }\n",
       "        else if (typeof evt.data === 'string' && evt.data.slice(0, 21) == \"data:image/png;base64\") {\n",
       "            fig.imageObj.src = evt.data;\n",
       "            fig.updated_canvas_event();\n",
       "            fig.waiting = false;\n",
       "            return;\n",
       "        }\n",
       "\n",
       "        var msg = JSON.parse(evt.data);\n",
       "        var msg_type = msg['type'];\n",
       "\n",
       "        // Call the  \"handle_{type}\" callback, which takes\n",
       "        // the figure and JSON message as its only arguments.\n",
       "        try {\n",
       "            var callback = fig[\"handle_\" + msg_type];\n",
       "        } catch (e) {\n",
       "            console.log(\"No handler for the '\" + msg_type + \"' message type: \", msg);\n",
       "            return;\n",
       "        }\n",
       "\n",
       "        if (callback) {\n",
       "            try {\n",
       "                // console.log(\"Handling '\" + msg_type + \"' message: \", msg);\n",
       "                callback(fig, msg);\n",
       "            } catch (e) {\n",
       "                console.log(\"Exception inside the 'handler_\" + msg_type + \"' callback:\", e, e.stack, msg);\n",
       "            }\n",
       "        }\n",
       "    };\n",
       "}\n",
       "\n",
       "// from http://stackoverflow.com/questions/1114465/getting-mouse-location-in-canvas\n",
       "mpl.findpos = function(e) {\n",
       "    //this section is from http://www.quirksmode.org/js/events_properties.html\n",
       "    var targ;\n",
       "    if (!e)\n",
       "        e = window.event;\n",
       "    if (e.target)\n",
       "        targ = e.target;\n",
       "    else if (e.srcElement)\n",
       "        targ = e.srcElement;\n",
       "    if (targ.nodeType == 3) // defeat Safari bug\n",
       "        targ = targ.parentNode;\n",
       "\n",
       "    // jQuery normalizes the pageX and pageY\n",
       "    // pageX,Y are the mouse positions relative to the document\n",
       "    // offset() returns the position of the element relative to the document\n",
       "    var x = e.pageX - $(targ).offset().left;\n",
       "    var y = e.pageY - $(targ).offset().top;\n",
       "\n",
       "    return {\"x\": x, \"y\": y};\n",
       "};\n",
       "\n",
       "/*\n",
       " * return a copy of an object with only non-object keys\n",
       " * we need this to avoid circular references\n",
       " * http://stackoverflow.com/a/24161582/3208463\n",
       " */\n",
       "function simpleKeys (original) {\n",
       "  return Object.keys(original).reduce(function (obj, key) {\n",
       "    if (typeof original[key] !== 'object')\n",
       "        obj[key] = original[key]\n",
       "    return obj;\n",
       "  }, {});\n",
       "}\n",
       "\n",
       "mpl.figure.prototype.mouse_event = function(event, name) {\n",
       "    var canvas_pos = mpl.findpos(event)\n",
       "\n",
       "    if (name === 'button_press')\n",
       "    {\n",
       "        this.canvas.focus();\n",
       "        this.canvas_div.focus();\n",
       "    }\n",
       "\n",
       "    var x = canvas_pos.x * mpl.ratio;\n",
       "    var y = canvas_pos.y * mpl.ratio;\n",
       "\n",
       "    this.send_message(name, {x: x, y: y, button: event.button,\n",
       "                             step: event.step,\n",
       "                             guiEvent: simpleKeys(event)});\n",
       "\n",
       "    /* This prevents the web browser from automatically changing to\n",
       "     * the text insertion cursor when the button is pressed.  We want\n",
       "     * to control all of the cursor setting manually through the\n",
       "     * 'cursor' event from matplotlib */\n",
       "    event.preventDefault();\n",
       "    return false;\n",
       "}\n",
       "\n",
       "mpl.figure.prototype._key_event_extra = function(event, name) {\n",
       "    // Handle any extra behaviour associated with a key event\n",
       "}\n",
       "\n",
       "mpl.figure.prototype.key_event = function(event, name) {\n",
       "\n",
       "    // Prevent repeat events\n",
       "    if (name == 'key_press')\n",
       "    {\n",
       "        if (event.which === this._key)\n",
       "            return;\n",
       "        else\n",
       "            this._key = event.which;\n",
       "    }\n",
       "    if (name == 'key_release')\n",
       "        this._key = null;\n",
       "\n",
       "    var value = '';\n",
       "    if (event.ctrlKey && event.which != 17)\n",
       "        value += \"ctrl+\";\n",
       "    if (event.altKey && event.which != 18)\n",
       "        value += \"alt+\";\n",
       "    if (event.shiftKey && event.which != 16)\n",
       "        value += \"shift+\";\n",
       "\n",
       "    value += 'k';\n",
       "    value += event.which.toString();\n",
       "\n",
       "    this._key_event_extra(event, name);\n",
       "\n",
       "    this.send_message(name, {key: value,\n",
       "                             guiEvent: simpleKeys(event)});\n",
       "    return false;\n",
       "}\n",
       "\n",
       "mpl.figure.prototype.toolbar_button_onclick = function(name) {\n",
       "    if (name == 'download') {\n",
       "        this.handle_save(this, null);\n",
       "    } else {\n",
       "        this.send_message(\"toolbar_button\", {name: name});\n",
       "    }\n",
       "};\n",
       "\n",
       "mpl.figure.prototype.toolbar_button_onmouseover = function(tooltip) {\n",
       "    this.message.textContent = tooltip;\n",
       "};\n",
       "mpl.toolbar_items = [[\"Home\", \"Reset original view\", \"fa fa-home icon-home\", \"home\"], [\"Back\", \"Back to  previous view\", \"fa fa-arrow-left icon-arrow-left\", \"back\"], [\"Forward\", \"Forward to next view\", \"fa fa-arrow-right icon-arrow-right\", \"forward\"], [\"\", \"\", \"\", \"\"], [\"Pan\", \"Pan axes with left mouse, zoom with right\", \"fa fa-arrows icon-move\", \"pan\"], [\"Zoom\", \"Zoom to rectangle\", \"fa fa-square-o icon-check-empty\", \"zoom\"], [\"\", \"\", \"\", \"\"], [\"Download\", \"Download plot\", \"fa fa-floppy-o icon-save\", \"download\"]];\n",
       "\n",
       "mpl.extensions = [\"eps\", \"jpeg\", \"pdf\", \"png\", \"ps\", \"raw\", \"svg\", \"tif\"];\n",
       "\n",
       "mpl.default_extension = \"png\";var comm_websocket_adapter = function(comm) {\n",
       "    // Create a \"websocket\"-like object which calls the given IPython comm\n",
       "    // object with the appropriate methods. Currently this is a non binary\n",
       "    // socket, so there is still some room for performance tuning.\n",
       "    var ws = {};\n",
       "\n",
       "    ws.close = function() {\n",
       "        comm.close()\n",
       "    };\n",
       "    ws.send = function(m) {\n",
       "        //console.log('sending', m);\n",
       "        comm.send(m);\n",
       "    };\n",
       "    // Register the callback with on_msg.\n",
       "    comm.on_msg(function(msg) {\n",
       "        //console.log('receiving', msg['content']['data'], msg);\n",
       "        // Pass the mpl event to the overridden (by mpl) onmessage function.\n",
       "        ws.onmessage(msg['content']['data'])\n",
       "    });\n",
       "    return ws;\n",
       "}\n",
       "\n",
       "mpl.mpl_figure_comm = function(comm, msg) {\n",
       "    // This is the function which gets called when the mpl process\n",
       "    // starts-up an IPython Comm through the \"matplotlib\" channel.\n",
       "\n",
       "    var id = msg.content.data.id;\n",
       "    // Get hold of the div created by the display call when the Comm\n",
       "    // socket was opened in Python.\n",
       "    var element = $(\"#\" + id);\n",
       "    var ws_proxy = comm_websocket_adapter(comm)\n",
       "\n",
       "    function ondownload(figure, format) {\n",
       "        window.open(figure.imageObj.src);\n",
       "    }\n",
       "\n",
       "    var fig = new mpl.figure(id, ws_proxy,\n",
       "                           ondownload,\n",
       "                           element.get(0));\n",
       "\n",
       "    // Call onopen now - mpl needs it, as it is assuming we've passed it a real\n",
       "    // web socket which is closed, not our websocket->open comm proxy.\n",
       "    ws_proxy.onopen();\n",
       "\n",
       "    fig.parent_element = element.get(0);\n",
       "    fig.cell_info = mpl.find_output_cell(\"<div id='\" + id + \"'></div>\");\n",
       "    if (!fig.cell_info) {\n",
       "        console.error(\"Failed to find cell for figure\", id, fig);\n",
       "        return;\n",
       "    }\n",
       "\n",
       "    var output_index = fig.cell_info[2]\n",
       "    var cell = fig.cell_info[0];\n",
       "\n",
       "};\n",
       "\n",
       "mpl.figure.prototype.handle_close = function(fig, msg) {\n",
       "    var width = fig.canvas.width/mpl.ratio\n",
       "    fig.root.unbind('remove')\n",
       "\n",
       "    // Update the output cell to use the data from the current canvas.\n",
       "    fig.push_to_output();\n",
       "    var dataURL = fig.canvas.toDataURL();\n",
       "    // Re-enable the keyboard manager in IPython - without this line, in FF,\n",
       "    // the notebook keyboard shortcuts fail.\n",
       "    IPython.keyboard_manager.enable()\n",
       "    $(fig.parent_element).html('<img src=\"' + dataURL + '\" width=\"' + width + '\">');\n",
       "    fig.close_ws(fig, msg);\n",
       "}\n",
       "\n",
       "mpl.figure.prototype.close_ws = function(fig, msg){\n",
       "    fig.send_message('closing', msg);\n",
       "    // fig.ws.close()\n",
       "}\n",
       "\n",
       "mpl.figure.prototype.push_to_output = function(remove_interactive) {\n",
       "    // Turn the data on the canvas into data in the output cell.\n",
       "    var width = this.canvas.width/mpl.ratio\n",
       "    var dataURL = this.canvas.toDataURL();\n",
       "    this.cell_info[1]['text/html'] = '<img src=\"' + dataURL + '\" width=\"' + width + '\">';\n",
       "}\n",
       "\n",
       "mpl.figure.prototype.updated_canvas_event = function() {\n",
       "    // Tell IPython that the notebook contents must change.\n",
       "    IPython.notebook.set_dirty(true);\n",
       "    this.send_message(\"ack\", {});\n",
       "    var fig = this;\n",
       "    // Wait a second, then push the new image to the DOM so\n",
       "    // that it is saved nicely (might be nice to debounce this).\n",
       "    setTimeout(function () { fig.push_to_output() }, 1000);\n",
       "}\n",
       "\n",
       "mpl.figure.prototype._init_toolbar = function() {\n",
       "    var fig = this;\n",
       "\n",
       "    var nav_element = $('<div/>')\n",
       "    nav_element.attr('style', 'width: 100%');\n",
       "    this.root.append(nav_element);\n",
       "\n",
       "    // Define a callback function for later on.\n",
       "    function toolbar_event(event) {\n",
       "        return fig.toolbar_button_onclick(event['data']);\n",
       "    }\n",
       "    function toolbar_mouse_event(event) {\n",
       "        return fig.toolbar_button_onmouseover(event['data']);\n",
       "    }\n",
       "\n",
       "    for(var toolbar_ind in mpl.toolbar_items){\n",
       "        var name = mpl.toolbar_items[toolbar_ind][0];\n",
       "        var tooltip = mpl.toolbar_items[toolbar_ind][1];\n",
       "        var image = mpl.toolbar_items[toolbar_ind][2];\n",
       "        var method_name = mpl.toolbar_items[toolbar_ind][3];\n",
       "\n",
       "        if (!name) { continue; };\n",
       "\n",
       "        var button = $('<button class=\"btn btn-default\" href=\"#\" title=\"' + name + '\"><i class=\"fa ' + image + ' fa-lg\"></i></button>');\n",
       "        button.click(method_name, toolbar_event);\n",
       "        button.mouseover(tooltip, toolbar_mouse_event);\n",
       "        nav_element.append(button);\n",
       "    }\n",
       "\n",
       "    // Add the status bar.\n",
       "    var status_bar = $('<span class=\"mpl-message\" style=\"text-align:right; float: right;\"/>');\n",
       "    nav_element.append(status_bar);\n",
       "    this.message = status_bar[0];\n",
       "\n",
       "    // Add the close button to the window.\n",
       "    var buttongrp = $('<div class=\"btn-group inline pull-right\"></div>');\n",
       "    var button = $('<button class=\"btn btn-mini btn-primary\" href=\"#\" title=\"Stop Interaction\"><i class=\"fa fa-power-off icon-remove icon-large\"></i></button>');\n",
       "    button.click(function (evt) { fig.handle_close(fig, {}); } );\n",
       "    button.mouseover('Stop Interaction', toolbar_mouse_event);\n",
       "    buttongrp.append(button);\n",
       "    var titlebar = this.root.find($('.ui-dialog-titlebar'));\n",
       "    titlebar.prepend(buttongrp);\n",
       "}\n",
       "\n",
       "mpl.figure.prototype._root_extra_style = function(el){\n",
       "    var fig = this\n",
       "    el.on(\"remove\", function(){\n",
       "\tfig.close_ws(fig, {});\n",
       "    });\n",
       "}\n",
       "\n",
       "mpl.figure.prototype._canvas_extra_style = function(el){\n",
       "    // this is important to make the div 'focusable\n",
       "    el.attr('tabindex', 0)\n",
       "    // reach out to IPython and tell the keyboard manager to turn it's self\n",
       "    // off when our div gets focus\n",
       "\n",
       "    // location in version 3\n",
       "    if (IPython.notebook.keyboard_manager) {\n",
       "        IPython.notebook.keyboard_manager.register_events(el);\n",
       "    }\n",
       "    else {\n",
       "        // location in version 2\n",
       "        IPython.keyboard_manager.register_events(el);\n",
       "    }\n",
       "\n",
       "}\n",
       "\n",
       "mpl.figure.prototype._key_event_extra = function(event, name) {\n",
       "    var manager = IPython.notebook.keyboard_manager;\n",
       "    if (!manager)\n",
       "        manager = IPython.keyboard_manager;\n",
       "\n",
       "    // Check for shift+enter\n",
       "    if (event.shiftKey && event.which == 13) {\n",
       "        this.canvas_div.blur();\n",
       "        event.shiftKey = false;\n",
       "        // Send a \"J\" for go to next cell\n",
       "        event.which = 74;\n",
       "        event.keyCode = 74;\n",
       "        manager.command_mode();\n",
       "        manager.handle_keydown(event);\n",
       "    }\n",
       "}\n",
       "\n",
       "mpl.figure.prototype.handle_save = function(fig, msg) {\n",
       "    fig.ondownload(fig, null);\n",
       "}\n",
       "\n",
       "\n",
       "mpl.find_output_cell = function(html_output) {\n",
       "    // Return the cell and output element which can be found *uniquely* in the notebook.\n",
       "    // Note - this is a bit hacky, but it is done because the \"notebook_saving.Notebook\"\n",
       "    // IPython event is triggered only after the cells have been serialised, which for\n",
       "    // our purposes (turning an active figure into a static one), is too late.\n",
       "    var cells = IPython.notebook.get_cells();\n",
       "    var ncells = cells.length;\n",
       "    for (var i=0; i<ncells; i++) {\n",
       "        var cell = cells[i];\n",
       "        if (cell.cell_type === 'code'){\n",
       "            for (var j=0; j<cell.output_area.outputs.length; j++) {\n",
       "                var data = cell.output_area.outputs[j];\n",
       "                if (data.data) {\n",
       "                    // IPython >= 3 moved mimebundle to data attribute of output\n",
       "                    data = data.data;\n",
       "                }\n",
       "                if (data['text/html'] == html_output) {\n",
       "                    return [cell, data, j];\n",
       "                }\n",
       "            }\n",
       "        }\n",
       "    }\n",
       "}\n",
       "\n",
       "// Register the function which deals with the matplotlib target/channel.\n",
       "// The kernel may be null if the page has been refreshed.\n",
       "if (IPython.notebook.kernel != null) {\n",
       "    IPython.notebook.kernel.comm_manager.register_target('matplotlib', mpl.mpl_figure_comm);\n",
       "}\n"
      ],
      "text/plain": [
       "<IPython.core.display.Javascript object>"
      ]
     },
     "metadata": {},
     "output_type": "display_data"
    },
    {
     "data": {
      "text/html": [
       "<img src=\"data:image/png;base64,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\" width=\"900\">"
      ],
      "text/plain": [
       "<IPython.core.display.HTML object>"
      ]
     },
     "metadata": {},
     "output_type": "display_data"
    },
    {
     "data": {
      "application/vnd.jupyter.widget-view+json": {
       "model_id": "a3a62d71fbdd43eaa1de64f141a654f6",
       "version_major": 2,
       "version_minor": 0
      },
      "text/plain": [
       "HBox(children=(IntRangeSlider(value=(16383, 49151), layout=Layout(width='75%'), max=65535), Button(description…"
      ]
     },
     "metadata": {},
     "output_type": "display_data"
    }
   ],
   "source": [
    "%matplotlib notebook\n",
    "tr.set_bead_loc_opts(Path(\"beads\", \"beads_\\d+_.SPE\"))"
   ]
  },
  {
   "cell_type": "code",
   "execution_count": 9,
   "metadata": {
    "scrolled": false
   },
   "outputs": [
    {
     "data": {
      "application/vnd.jupyter.widget-view+json": {
       "model_id": "b2e880201fd340efaaf34f7fc72c7460",
       "version_major": 2,
       "version_minor": 0
      },
      "text/plain": [
       "Label(value='Starting…')"
      ]
     },
     "metadata": {},
     "output_type": "display_data"
    },
    {
     "data": {
      "image/png": "[encoded data removed]",
      "text/plain": [
       "<Figure size 432x288 with 2 Axes>"
      ]
     },
     "metadata": {},
     "output_type": "display_data"
    }
   ],
   "source": [
    "%matplotlib inline\n",
    "tr.make_chromatic()"
   ]
  },
  {
   "cell_type": "code",
   "execution_count": 11,
   "metadata": {},
   "outputs": [],
   "source": [
    "tr.add_dataset(\"sensor IEk non-act BSA cells\",\n",
    "               Path(\"sensor-IEk_non-act_BSA\", r\"cells-(\\d{2})_(\\d{3})_.SPE\"), cells=True)\n",
    "tr.add_dataset(\"sensor IEk non-act BSA no-cells\",\n",
    "               Path(\"sensor-IEk_non-act_BSA\", r\"no-cells_(\\d{3})_.SPE\"))\n",
    "tr.add_dataset(\"sensor J4 non-act BSA cells\",\n",
    "               Path(\"sensor-J4_non-act_BSA\", r\"cells-(\\d{2})_(\\d{3})_.SPE\"), cells=True)\n",
    "tr.add_dataset(\"sensor J4 non-act BSA no-cells\",\n",
    "               Path(\"sensor-J4_non-act_BSA\", r\"no-cells_(\\d{3})_.SPE\"))\n",
    "tr.add_dataset(\"sensor J4 act-IEk-his BSA cells\",\n",
    "               Path(\"sensor-J4_act-IEk-his_BSA\", r\"cells-(\\d{2})_(\\d{3})_.SPE\"), cells=True)\n",
    "tr.add_dataset(\"sensor J4 act-IEk-his BSA no-cells\",\n",
    "               Path(\"sensor-J4_act-IEk-his_BSA\", r\"no-cells_(\\d{3})_.SPE\"))"
   ]
  },
  {
   "cell_type": "code",
   "execution_count": 13,
   "metadata": {
    "scrolled": false
   },
   "outputs": [
    {
     "data": {
      "application/vnd.jupyter.widget-view+json": {
       "model_id": "24b141f856074861a113eba628ba50c2",
       "version_major": 2,
       "version_minor": 0
      },
      "text/plain": [
       "HBox(children=(VBox(children=(Select(layout=Layout(width='auto'), options=('sensor-IEk_non-act_BSA/cells-21_00…"
      ]
     },
     "metadata": {},
     "output_type": "display_data"
    },
    {
     "data": {
      "application/javascript": [
       "/* Put everything inside the global mpl namespace */\n",
       "window.mpl = {};\n",
       "\n",
       "\n",
       "mpl.get_websocket_type = function() {\n",
       "    if (typeof(WebSocket) !== 'undefined') {\n",
       "        return WebSocket;\n",
       "    } else if (typeof(MozWebSocket) !== 'undefined') {\n",
       "        return MozWebSocket;\n",
       "    } else {\n",
       "        alert('Your browser does not have WebSocket support.' +\n",
       "              'Please try Chrome, Safari or Firefox ≥ 6. ' +\n",
       "              'Firefox 4 and 5 are also supported but you ' +\n",
       "              'have to enable WebSockets in about:config.');\n",
       "    };\n",
       "}\n",
       "\n",
       "mpl.figure = function(figure_id, websocket, ondownload, parent_element) {\n",
       "    this.id = figure_id;\n",
       "\n",
       "    this.ws = websocket;\n",
       "\n",
       "    this.supports_binary = (this.ws.binaryType != undefined);\n",
       "\n",
       "    if (!this.supports_binary) {\n",
       "        var warnings = document.getElementById(\"mpl-warnings\");\n",
       "        if (warnings) {\n",
       "            warnings.style.display = 'block';\n",
       "            warnings.textContent = (\n",
       "                \"This browser does not support binary websocket messages. \" +\n",
       "                    \"Performance may be slow.\");\n",
       "        }\n",
       "    }\n",
       "\n",
       "    this.imageObj = new Image();\n",
       "\n",
       "    this.context = undefined;\n",
       "    this.message = undefined;\n",
       "    this.canvas = undefined;\n",
       "    this.rubberband_canvas = undefined;\n",
       "    this.rubberband_context = undefined;\n",
       "    this.format_dropdown = undefined;\n",
       "\n",
       "    this.image_mode = 'full';\n",
       "\n",
       "    this.root = $('<div/>');\n",
       "    this._root_extra_style(this.root)\n",
       "    this.root.attr('style', 'display: inline-block');\n",
       "\n",
       "    $(parent_element).append(this.root);\n",
       "\n",
       "    this._init_header(this);\n",
       "    this._init_canvas(this);\n",
       "    this._init_toolbar(this);\n",
       "\n",
       "    var fig = this;\n",
       "\n",
       "    this.waiting = false;\n",
       "\n",
       "    this.ws.onopen =  function () {\n",
       "            fig.send_message(\"supports_binary\", {value: fig.supports_binary});\n",
       "            fig.send_message(\"send_image_mode\", {});\n",
       "            if (mpl.ratio != 1) {\n",
       "                fig.send_message(\"set_dpi_ratio\", {'dpi_ratio': mpl.ratio});\n",
       "            }\n",
       "            fig.send_message(\"refresh\", {});\n",
       "        }\n",
       "\n",
       "    this.imageObj.onload = function() {\n",
       "            if (fig.image_mode == 'full') {\n",
       "                // Full images could contain transparency (where diff images\n",
       "                // almost always do), so we need to clear the canvas so that\n",
       "                // there is no ghosting.\n",
       "                fig.context.clearRect(0, 0, fig.canvas.width, fig.canvas.height);\n",
       "            }\n",
       "            fig.context.drawImage(fig.imageObj, 0, 0);\n",
       "        };\n",
       "\n",
       "    this.imageObj.onunload = function() {\n",
       "        fig.ws.close();\n",
       "    }\n",
       "\n",
       "    this.ws.onmessage = this._make_on_message_function(this);\n",
       "\n",
       "    this.ondownload = ondownload;\n",
       "}\n",
       "\n",
       "mpl.figure.prototype._init_header = function() {\n",
       "    var titlebar = $(\n",
       "        '<div class=\"ui-dialog-titlebar ui-widget-header ui-corner-all ' +\n",
       "        'ui-helper-clearfix\"/>');\n",
       "    var titletext = $(\n",
       "        '<div class=\"ui-dialog-title\" style=\"width: 100%; ' +\n",
       "        'text-align: center; padding: 3px;\"/>');\n",
       "    titlebar.append(titletext)\n",
       "    this.root.append(titlebar);\n",
       "    this.header = titletext[0];\n",
       "}\n",
       "\n",
       "\n",
       "\n",
       "mpl.figure.prototype._canvas_extra_style = function(canvas_div) {\n",
       "\n",
       "}\n",
       "\n",
       "\n",
       "mpl.figure.prototype._root_extra_style = function(canvas_div) {\n",
       "\n",
       "}\n",
       "\n",
       "mpl.figure.prototype._init_canvas = function() {\n",
       "    var fig = this;\n",
       "\n",
       "    var canvas_div = $('<div/>');\n",
       "\n",
       "    canvas_div.attr('style', 'position: relative; clear: both; outline: 0');\n",
       "\n",
       "    function canvas_keyboard_event(event) {\n",
       "        return fig.key_event(event, event['data']);\n",
       "    }\n",
       "\n",
       "    canvas_div.keydown('key_press', canvas_keyboard_event);\n",
       "    canvas_div.keyup('key_release', canvas_keyboard_event);\n",
       "    this.canvas_div = canvas_div\n",
       "    this._canvas_extra_style(canvas_div)\n",
       "    this.root.append(canvas_div);\n",
       "\n",
       "    var canvas = $('<canvas/>');\n",
       "    canvas.addClass('mpl-canvas');\n",
       "    canvas.attr('style', \"left: 0; top: 0; z-index: 0; outline: 0\")\n",
       "\n",
       "    this.canvas = canvas[0];\n",
       "    this.context = canvas[0].getContext(\"2d\");\n",
       "\n",
       "    var backingStore = this.context.backingStorePixelRatio ||\n",
       "\tthis.context.webkitBackingStorePixelRatio ||\n",
       "\tthis.context.mozBackingStorePixelRatio ||\n",
       "\tthis.context.msBackingStorePixelRatio ||\n",
       "\tthis.context.oBackingStorePixelRatio ||\n",
       "\tthis.context.backingStorePixelRatio || 1;\n",
       "\n",
       "    mpl.ratio = (window.devicePixelRatio || 1) / backingStore;\n",
       "\n",
       "    var rubberband = $('<canvas/>');\n",
       "    rubberband.attr('style', \"position: absolute; left: 0; top: 0; z-index: 1;\")\n",
       "\n",
       "    var pass_mouse_events = true;\n",
       "\n",
       "    canvas_div.resizable({\n",
       "        start: function(event, ui) {\n",
       "            pass_mouse_events = false;\n",
       "        },\n",
       "        resize: function(event, ui) {\n",
       "            fig.request_resize(ui.size.width, ui.size.height);\n",
       "        },\n",
       "        stop: function(event, ui) {\n",
       "            pass_mouse_events = true;\n",
       "            fig.request_resize(ui.size.width, ui.size.height);\n",
       "        },\n",
       "    });\n",
       "\n",
       "    function mouse_event_fn(event) {\n",
       "        if (pass_mouse_events)\n",
       "            return fig.mouse_event(event, event['data']);\n",
       "    }\n",
       "\n",
       "    rubberband.mousedown('button_press', mouse_event_fn);\n",
       "    rubberband.mouseup('button_release', mouse_event_fn);\n",
       "    // Throttle sequential mouse events to 1 every 20ms.\n",
       "    rubberband.mousemove('motion_notify', mouse_event_fn);\n",
       "\n",
       "    rubberband.mouseenter('figure_enter', mouse_event_fn);\n",
       "    rubberband.mouseleave('figure_leave', mouse_event_fn);\n",
       "\n",
       "    canvas_div.on(\"wheel\", function (event) {\n",
       "        event = event.originalEvent;\n",
       "        event['data'] = 'scroll'\n",
       "        if (event.deltaY < 0) {\n",
       "            event.step = 1;\n",
       "        } else {\n",
       "            event.step = -1;\n",
       "        }\n",
       "        mouse_event_fn(event);\n",
       "    });\n",
       "\n",
       "    canvas_div.append(canvas);\n",
       "    canvas_div.append(rubberband);\n",
       "\n",
       "    this.rubberband = rubberband;\n",
       "    this.rubberband_canvas = rubberband[0];\n",
       "    this.rubberband_context = rubberband[0].getContext(\"2d\");\n",
       "    this.rubberband_context.strokeStyle = \"#000000\";\n",
       "\n",
       "    this._resize_canvas = function(width, height) {\n",
       "        // Keep the size of the canvas, canvas container, and rubber band\n",
       "        // canvas in synch.\n",
       "        canvas_div.css('width', width)\n",
       "        canvas_div.css('height', height)\n",
       "\n",
       "        canvas.attr('width', width * mpl.ratio);\n",
       "        canvas.attr('height', height * mpl.ratio);\n",
       "        canvas.attr('style', 'width: ' + width + 'px; height: ' + height + 'px;');\n",
       "\n",
       "        rubberband.attr('width', width);\n",
       "        rubberband.attr('height', height);\n",
       "    }\n",
       "\n",
       "    // Set the figure to an initial 600x600px, this will subsequently be updated\n",
       "    // upon first draw.\n",
       "    this._resize_canvas(600, 600);\n",
       "\n",
       "    // Disable right mouse context menu.\n",
       "    $(this.rubberband_canvas).bind(\"contextmenu\",function(e){\n",
       "        return false;\n",
       "    });\n",
       "\n",
       "    function set_focus () {\n",
       "        canvas.focus();\n",
       "        canvas_div.focus();\n",
       "    }\n",
       "\n",
       "    window.setTimeout(set_focus, 100);\n",
       "}\n",
       "\n",
       "mpl.figure.prototype._init_toolbar = function() {\n",
       "    var fig = this;\n",
       "\n",
       "    var nav_element = $('<div/>')\n",
       "    nav_element.attr('style', 'width: 100%');\n",
       "    this.root.append(nav_element);\n",
       "\n",
       "    // Define a callback function for later on.\n",
       "    function toolbar_event(event) {\n",
       "        return fig.toolbar_button_onclick(event['data']);\n",
       "    }\n",
       "    function toolbar_mouse_event(event) {\n",
       "        return fig.toolbar_button_onmouseover(event['data']);\n",
       "    }\n",
       "\n",
       "    for(var toolbar_ind in mpl.toolbar_items) {\n",
       "        var name = mpl.toolbar_items[toolbar_ind][0];\n",
       "        var tooltip = mpl.toolbar_items[toolbar_ind][1];\n",
       "        var image = mpl.toolbar_items[toolbar_ind][2];\n",
       "        var method_name = mpl.toolbar_items[toolbar_ind][3];\n",
       "\n",
       "        if (!name) {\n",
       "            // put a spacer in here.\n",
       "            continue;\n",
       "        }\n",
       "        var button = $('<button/>');\n",
       "        button.addClass('ui-button ui-widget ui-state-default ui-corner-all ' +\n",
       "                        'ui-button-icon-only');\n",
       "        button.attr('role', 'button');\n",
       "        button.attr('aria-disabled', 'false');\n",
       "        button.click(method_name, toolbar_event);\n",
       "        button.mouseover(tooltip, toolbar_mouse_event);\n",
       "\n",
       "        var icon_img = $('<span/>');\n",
       "        icon_img.addClass('ui-button-icon-primary ui-icon');\n",
       "        icon_img.addClass(image);\n",
       "        icon_img.addClass('ui-corner-all');\n",
       "\n",
       "        var tooltip_span = $('<span/>');\n",
       "        tooltip_span.addClass('ui-button-text');\n",
       "        tooltip_span.html(tooltip);\n",
       "\n",
       "        button.append(icon_img);\n",
       "        button.append(tooltip_span);\n",
       "\n",
       "        nav_element.append(button);\n",
       "    }\n",
       "\n",
       "    var fmt_picker_span = $('<span/>');\n",
       "\n",
       "    var fmt_picker = $('<select/>');\n",
       "    fmt_picker.addClass('mpl-toolbar-option ui-widget ui-widget-content');\n",
       "    fmt_picker_span.append(fmt_picker);\n",
       "    nav_element.append(fmt_picker_span);\n",
       "    this.format_dropdown = fmt_picker[0];\n",
       "\n",
       "    for (var ind in mpl.extensions) {\n",
       "        var fmt = mpl.extensions[ind];\n",
       "        var option = $(\n",
       "            '<option/>', {selected: fmt === mpl.default_extension}).html(fmt);\n",
       "        fmt_picker.append(option)\n",
       "    }\n",
       "\n",
       "    // Add hover states to the ui-buttons\n",
       "    $( \".ui-button\" ).hover(\n",
       "        function() { $(this).addClass(\"ui-state-hover\");},\n",
       "        function() { $(this).removeClass(\"ui-state-hover\");}\n",
       "    );\n",
       "\n",
       "    var status_bar = $('<span class=\"mpl-message\"/>');\n",
       "    nav_element.append(status_bar);\n",
       "    this.message = status_bar[0];\n",
       "}\n",
       "\n",
       "mpl.figure.prototype.request_resize = function(x_pixels, y_pixels) {\n",
       "    // Request matplotlib to resize the figure. Matplotlib will then trigger a resize in the client,\n",
       "    // which will in turn request a refresh of the image.\n",
       "    this.send_message('resize', {'width': x_pixels, 'height': y_pixels});\n",
       "}\n",
       "\n",
       "mpl.figure.prototype.send_message = function(type, properties) {\n",
       "    properties['type'] = type;\n",
       "    properties['figure_id'] = this.id;\n",
       "    this.ws.send(JSON.stringify(properties));\n",
       "}\n",
       "\n",
       "mpl.figure.prototype.send_draw_message = function() {\n",
       "    if (!this.waiting) {\n",
       "        this.waiting = true;\n",
       "        this.ws.send(JSON.stringify({type: \"draw\", figure_id: this.id}));\n",
       "    }\n",
       "}\n",
       "\n",
       "\n",
       "mpl.figure.prototype.handle_save = function(fig, msg) {\n",
       "    var format_dropdown = fig.format_dropdown;\n",
       "    var format = format_dropdown.options[format_dropdown.selectedIndex].value;\n",
       "    fig.ondownload(fig, format);\n",
       "}\n",
       "\n",
       "\n",
       "mpl.figure.prototype.handle_resize = function(fig, msg) {\n",
       "    var size = msg['size'];\n",
       "    if (size[0] != fig.canvas.width || size[1] != fig.canvas.height) {\n",
       "        fig._resize_canvas(size[0], size[1]);\n",
       "        fig.send_message(\"refresh\", {});\n",
       "    };\n",
       "}\n",
       "\n",
       "mpl.figure.prototype.handle_rubberband = function(fig, msg) {\n",
       "    var x0 = msg['x0'] / mpl.ratio;\n",
       "    var y0 = (fig.canvas.height - msg['y0']) / mpl.ratio;\n",
       "    var x1 = msg['x1'] / mpl.ratio;\n",
       "    var y1 = (fig.canvas.height - msg['y1']) / mpl.ratio;\n",
       "    x0 = Math.floor(x0) + 0.5;\n",
       "    y0 = Math.floor(y0) + 0.5;\n",
       "    x1 = Math.floor(x1) + 0.5;\n",
       "    y1 = Math.floor(y1) + 0.5;\n",
       "    var min_x = Math.min(x0, x1);\n",
       "    var min_y = Math.min(y0, y1);\n",
       "    var width = Math.abs(x1 - x0);\n",
       "    var height = Math.abs(y1 - y0);\n",
       "\n",
       "    fig.rubberband_context.clearRect(\n",
       "        0, 0, fig.canvas.width, fig.canvas.height);\n",
       "\n",
       "    fig.rubberband_context.strokeRect(min_x, min_y, width, height);\n",
       "}\n",
       "\n",
       "mpl.figure.prototype.handle_figure_label = function(fig, msg) {\n",
       "    // Updates the figure title.\n",
       "    fig.header.textContent = msg['label'];\n",
       "}\n",
       "\n",
       "mpl.figure.prototype.handle_cursor = function(fig, msg) {\n",
       "    var cursor = msg['cursor'];\n",
       "    switch(cursor)\n",
       "    {\n",
       "    case 0:\n",
       "        cursor = 'pointer';\n",
       "        break;\n",
       "    case 1:\n",
       "        cursor = 'default';\n",
       "        break;\n",
       "    case 2:\n",
       "        cursor = 'crosshair';\n",
       "        break;\n",
       "    case 3:\n",
       "        cursor = 'move';\n",
       "        break;\n",
       "    }\n",
       "    fig.rubberband_canvas.style.cursor = cursor;\n",
       "}\n",
       "\n",
       "mpl.figure.prototype.handle_message = function(fig, msg) {\n",
       "    fig.message.textContent = msg['message'];\n",
       "}\n",
       "\n",
       "mpl.figure.prototype.handle_draw = function(fig, msg) {\n",
       "    // Request the server to send over a new figure.\n",
       "    fig.send_draw_message();\n",
       "}\n",
       "\n",
       "mpl.figure.prototype.handle_image_mode = function(fig, msg) {\n",
       "    fig.image_mode = msg['mode'];\n",
       "}\n",
       "\n",
       "mpl.figure.prototype.updated_canvas_event = function() {\n",
       "    // Called whenever the canvas gets updated.\n",
       "    this.send_message(\"ack\", {});\n",
       "}\n",
       "\n",
       "// A function to construct a web socket function for onmessage handling.\n",
       "// Called in the figure constructor.\n",
       "mpl.figure.prototype._make_on_message_function = function(fig) {\n",
       "    return function socket_on_message(evt) {\n",
       "        if (evt.data instanceof Blob) {\n",
       "            /* FIXME: We get \"Resource interpreted as Image but\n",
       "             * transferred with MIME type text/plain:\" errors on\n",
       "             * Chrome.  But how to set the MIME type?  It doesn't seem\n",
       "             * to be part of the websocket stream */\n",
       "            evt.data.type = \"image/png\";\n",
       "\n",
       "            /* Free the memory for the previous frames */\n",
       "            if (fig.imageObj.src) {\n",
       "                (window.URL || window.webkitURL).revokeObjectURL(\n",
       "                    fig.imageObj.src);\n",
       "            }\n",
       "\n",
       "            fig.imageObj.src = (window.URL || window.webkitURL).createObjectURL(\n",
       "                evt.data);\n",
       "            fig.updated_canvas_event();\n",
       "            fig.waiting = false;\n",
       "            return;\n",
       "        }\n",
       "        else if (typeof evt.data === 'string' && evt.data.slice(0, 21) == \"data:image/png;base64\") {\n",
       "            fig.imageObj.src = evt.data;\n",
       "            fig.updated_canvas_event();\n",
       "            fig.waiting = false;\n",
       "            return;\n",
       "        }\n",
       "\n",
       "        var msg = JSON.parse(evt.data);\n",
       "        var msg_type = msg['type'];\n",
       "\n",
       "        // Call the  \"handle_{type}\" callback, which takes\n",
       "        // the figure and JSON message as its only arguments.\n",
       "        try {\n",
       "            var callback = fig[\"handle_\" + msg_type];\n",
       "        } catch (e) {\n",
       "            console.log(\"No handler for the '\" + msg_type + \"' message type: \", msg);\n",
       "            return;\n",
       "        }\n",
       "\n",
       "        if (callback) {\n",
       "            try {\n",
       "                // console.log(\"Handling '\" + msg_type + \"' message: \", msg);\n",
       "                callback(fig, msg);\n",
       "            } catch (e) {\n",
       "                console.log(\"Exception inside the 'handler_\" + msg_type + \"' callback:\", e, e.stack, msg);\n",
       "            }\n",
       "        }\n",
       "    };\n",
       "}\n",
       "\n",
       "// from http://stackoverflow.com/questions/1114465/getting-mouse-location-in-canvas\n",
       "mpl.findpos = function(e) {\n",
       "    //this section is from http://www.quirksmode.org/js/events_properties.html\n",
       "    var targ;\n",
       "    if (!e)\n",
       "        e = window.event;\n",
       "    if (e.target)\n",
       "        targ = e.target;\n",
       "    else if (e.srcElement)\n",
       "        targ = e.srcElement;\n",
       "    if (targ.nodeType == 3) // defeat Safari bug\n",
       "        targ = targ.parentNode;\n",
       "\n",
       "    // jQuery normalizes the pageX and pageY\n",
       "    // pageX,Y are the mouse positions relative to the document\n",
       "    // offset() returns the position of the element relative to the document\n",
       "    var x = e.pageX - $(targ).offset().left;\n",
       "    var y = e.pageY - $(targ).offset().top;\n",
       "\n",
       "    return {\"x\": x, \"y\": y};\n",
       "};\n",
       "\n",
       "/*\n",
       " * return a copy of an object with only non-object keys\n",
       " * we need this to avoid circular references\n",
       " * http://stackoverflow.com/a/24161582/3208463\n",
       " */\n",
       "function simpleKeys (original) {\n",
       "  return Object.keys(original).reduce(function (obj, key) {\n",
       "    if (typeof original[key] !== 'object')\n",
       "        obj[key] = original[key]\n",
       "    return obj;\n",
       "  }, {});\n",
       "}\n",
       "\n",
       "mpl.figure.prototype.mouse_event = function(event, name) {\n",
       "    var canvas_pos = mpl.findpos(event)\n",
       "\n",
       "    if (name === 'button_press')\n",
       "    {\n",
       "        this.canvas.focus();\n",
       "        this.canvas_div.focus();\n",
       "    }\n",
       "\n",
       "    var x = canvas_pos.x * mpl.ratio;\n",
       "    var y = canvas_pos.y * mpl.ratio;\n",
       "\n",
       "    this.send_message(name, {x: x, y: y, button: event.button,\n",
       "                             step: event.step,\n",
       "                             guiEvent: simpleKeys(event)});\n",
       "\n",
       "    /* This prevents the web browser from automatically changing to\n",
       "     * the text insertion cursor when the button is pressed.  We want\n",
       "     * to control all of the cursor setting manually through the\n",
       "     * 'cursor' event from matplotlib */\n",
       "    event.preventDefault();\n",
       "    return false;\n",
       "}\n",
       "\n",
       "mpl.figure.prototype._key_event_extra = function(event, name) {\n",
       "    // Handle any extra behaviour associated with a key event\n",
       "}\n",
       "\n",
       "mpl.figure.prototype.key_event = function(event, name) {\n",
       "\n",
       "    // Prevent repeat events\n",
       "    if (name == 'key_press')\n",
       "    {\n",
       "        if (event.which === this._key)\n",
       "            return;\n",
       "        else\n",
       "            this._key = event.which;\n",
       "    }\n",
       "    if (name == 'key_release')\n",
       "        this._key = null;\n",
       "\n",
       "    var value = '';\n",
       "    if (event.ctrlKey && event.which != 17)\n",
       "        value += \"ctrl+\";\n",
       "    if (event.altKey && event.which != 18)\n",
       "        value += \"alt+\";\n",
       "    if (event.shiftKey && event.which != 16)\n",
       "        value += \"shift+\";\n",
       "\n",
       "    value += 'k';\n",
       "    value += event.which.toString();\n",
       "\n",
       "    this._key_event_extra(event, name);\n",
       "\n",
       "    this.send_message(name, {key: value,\n",
       "                             guiEvent: simpleKeys(event)});\n",
       "    return false;\n",
       "}\n",
       "\n",
       "mpl.figure.prototype.toolbar_button_onclick = function(name) {\n",
       "    if (name == 'download') {\n",
       "        this.handle_save(this, null);\n",
       "    } else {\n",
       "        this.send_message(\"toolbar_button\", {name: name});\n",
       "    }\n",
       "};\n",
       "\n",
       "mpl.figure.prototype.toolbar_button_onmouseover = function(tooltip) {\n",
       "    this.message.textContent = tooltip;\n",
       "};\n",
       "mpl.toolbar_items = [[\"Home\", \"Reset original view\", \"fa fa-home icon-home\", \"home\"], [\"Back\", \"Back to  previous view\", \"fa fa-arrow-left icon-arrow-left\", \"back\"], [\"Forward\", \"Forward to next view\", \"fa fa-arrow-right icon-arrow-right\", \"forward\"], [\"\", \"\", \"\", \"\"], [\"Pan\", \"Pan axes with left mouse, zoom with right\", \"fa fa-arrows icon-move\", \"pan\"], [\"Zoom\", \"Zoom to rectangle\", \"fa fa-square-o icon-check-empty\", \"zoom\"], [\"\", \"\", \"\", \"\"], [\"Download\", \"Download plot\", \"fa fa-floppy-o icon-save\", \"download\"]];\n",
       "\n",
       "mpl.extensions = [\"eps\", \"jpeg\", \"pdf\", \"png\", \"ps\", \"raw\", \"svg\", \"tif\"];\n",
       "\n",
       "mpl.default_extension = \"png\";var comm_websocket_adapter = function(comm) {\n",
       "    // Create a \"websocket\"-like object which calls the given IPython comm\n",
       "    // object with the appropriate methods. Currently this is a non binary\n",
       "    // socket, so there is still some room for performance tuning.\n",
       "    var ws = {};\n",
       "\n",
       "    ws.close = function() {\n",
       "        comm.close()\n",
       "    };\n",
       "    ws.send = function(m) {\n",
       "        //console.log('sending', m);\n",
       "        comm.send(m);\n",
       "    };\n",
       "    // Register the callback with on_msg.\n",
       "    comm.on_msg(function(msg) {\n",
       "        //console.log('receiving', msg['content']['data'], msg);\n",
       "        // Pass the mpl event to the overridden (by mpl) onmessage function.\n",
       "        ws.onmessage(msg['content']['data'])\n",
       "    });\n",
       "    return ws;\n",
       "}\n",
       "\n",
       "mpl.mpl_figure_comm = function(comm, msg) {\n",
       "    // This is the function which gets called when the mpl process\n",
       "    // starts-up an IPython Comm through the \"matplotlib\" channel.\n",
       "\n",
       "    var id = msg.content.data.id;\n",
       "    // Get hold of the div created by the display call when the Comm\n",
       "    // socket was opened in Python.\n",
       "    var element = $(\"#\" + id);\n",
       "    var ws_proxy = comm_websocket_adapter(comm)\n",
       "\n",
       "    function ondownload(figure, format) {\n",
       "        window.open(figure.imageObj.src);\n",
       "    }\n",
       "\n",
       "    var fig = new mpl.figure(id, ws_proxy,\n",
       "                           ondownload,\n",
       "                           element.get(0));\n",
       "\n",
       "    // Call onopen now - mpl needs it, as it is assuming we've passed it a real\n",
       "    // web socket which is closed, not our websocket->open comm proxy.\n",
       "    ws_proxy.onopen();\n",
       "\n",
       "    fig.parent_element = element.get(0);\n",
       "    fig.cell_info = mpl.find_output_cell(\"<div id='\" + id + \"'></div>\");\n",
       "    if (!fig.cell_info) {\n",
       "        console.error(\"Failed to find cell for figure\", id, fig);\n",
       "        return;\n",
       "    }\n",
       "\n",
       "    var output_index = fig.cell_info[2]\n",
       "    var cell = fig.cell_info[0];\n",
       "\n",
       "};\n",
       "\n",
       "mpl.figure.prototype.handle_close = function(fig, msg) {\n",
       "    var width = fig.canvas.width/mpl.ratio\n",
       "    fig.root.unbind('remove')\n",
       "\n",
       "    // Update the output cell to use the data from the current canvas.\n",
       "    fig.push_to_output();\n",
       "    var dataURL = fig.canvas.toDataURL();\n",
       "    // Re-enable the keyboard manager in IPython - without this line, in FF,\n",
       "    // the notebook keyboard shortcuts fail.\n",
       "    IPython.keyboard_manager.enable()\n",
       "    $(fig.parent_element).html('<img src=\"' + dataURL + '\" width=\"' + width + '\">');\n",
       "    fig.close_ws(fig, msg);\n",
       "}\n",
       "\n",
       "mpl.figure.prototype.close_ws = function(fig, msg){\n",
       "    fig.send_message('closing', msg);\n",
       "    // fig.ws.close()\n",
       "}\n",
       "\n",
       "mpl.figure.prototype.push_to_output = function(remove_interactive) {\n",
       "    // Turn the data on the canvas into data in the output cell.\n",
       "    var width = this.canvas.width/mpl.ratio\n",
       "    var dataURL = this.canvas.toDataURL();\n",
       "    this.cell_info[1]['text/html'] = '<img src=\"' + dataURL + '\" width=\"' + width + '\">';\n",
       "}\n",
       "\n",
       "mpl.figure.prototype.updated_canvas_event = function() {\n",
       "    // Tell IPython that the notebook contents must change.\n",
       "    IPython.notebook.set_dirty(true);\n",
       "    this.send_message(\"ack\", {});\n",
       "    var fig = this;\n",
       "    // Wait a second, then push the new image to the DOM so\n",
       "    // that it is saved nicely (might be nice to debounce this).\n",
       "    setTimeout(function () { fig.push_to_output() }, 1000);\n",
       "}\n",
       "\n",
       "mpl.figure.prototype._init_toolbar = function() {\n",
       "    var fig = this;\n",
       "\n",
       "    var nav_element = $('<div/>')\n",
       "    nav_element.attr('style', 'width: 100%');\n",
       "    this.root.append(nav_element);\n",
       "\n",
       "    // Define a callback function for later on.\n",
       "    function toolbar_event(event) {\n",
       "        return fig.toolbar_button_onclick(event['data']);\n",
       "    }\n",
       "    function toolbar_mouse_event(event) {\n",
       "        return fig.toolbar_button_onmouseover(event['data']);\n",
       "    }\n",
       "\n",
       "    for(var toolbar_ind in mpl.toolbar_items){\n",
       "        var name = mpl.toolbar_items[toolbar_ind][0];\n",
       "        var tooltip = mpl.toolbar_items[toolbar_ind][1];\n",
       "        var image = mpl.toolbar_items[toolbar_ind][2];\n",
       "        var method_name = mpl.toolbar_items[toolbar_ind][3];\n",
       "\n",
       "        if (!name) { continue; };\n",
       "\n",
       "        var button = $('<button class=\"btn btn-default\" href=\"#\" title=\"' + name + '\"><i class=\"fa ' + image + ' fa-lg\"></i></button>');\n",
       "        button.click(method_name, toolbar_event);\n",
       "        button.mouseover(tooltip, toolbar_mouse_event);\n",
       "        nav_element.append(button);\n",
       "    }\n",
       "\n",
       "    // Add the status bar.\n",
       "    var status_bar = $('<span class=\"mpl-message\" style=\"text-align:right; float: right;\"/>');\n",
       "    nav_element.append(status_bar);\n",
       "    this.message = status_bar[0];\n",
       "\n",
       "    // Add the close button to the window.\n",
       "    var buttongrp = $('<div class=\"btn-group inline pull-right\"></div>');\n",
       "    var button = $('<button class=\"btn btn-mini btn-primary\" href=\"#\" title=\"Stop Interaction\"><i class=\"fa fa-power-off icon-remove icon-large\"></i></button>');\n",
       "    button.click(function (evt) { fig.handle_close(fig, {}); } );\n",
       "    button.mouseover('Stop Interaction', toolbar_mouse_event);\n",
       "    buttongrp.append(button);\n",
       "    var titlebar = this.root.find($('.ui-dialog-titlebar'));\n",
       "    titlebar.prepend(buttongrp);\n",
       "}\n",
       "\n",
       "mpl.figure.prototype._root_extra_style = function(el){\n",
       "    var fig = this\n",
       "    el.on(\"remove\", function(){\n",
       "\tfig.close_ws(fig, {});\n",
       "    });\n",
       "}\n",
       "\n",
       "mpl.figure.prototype._canvas_extra_style = function(el){\n",
       "    // this is important to make the div 'focusable\n",
       "    el.attr('tabindex', 0)\n",
       "    // reach out to IPython and tell the keyboard manager to turn it's self\n",
       "    // off when our div gets focus\n",
       "\n",
       "    // location in version 3\n",
       "    if (IPython.notebook.keyboard_manager) {\n",
       "        IPython.notebook.keyboard_manager.register_events(el);\n",
       "    }\n",
       "    else {\n",
       "        // location in version 2\n",
       "        IPython.keyboard_manager.register_events(el);\n",
       "    }\n",
       "\n",
       "}\n",
       "\n",
       "mpl.figure.prototype._key_event_extra = function(event, name) {\n",
       "    var manager = IPython.notebook.keyboard_manager;\n",
       "    if (!manager)\n",
       "        manager = IPython.keyboard_manager;\n",
       "\n",
       "    // Check for shift+enter\n",
       "    if (event.shiftKey && event.which == 13) {\n",
       "        this.canvas_div.blur();\n",
       "        event.shiftKey = false;\n",
       "        // Send a \"J\" for go to next cell\n",
       "        event.which = 74;\n",
       "        event.keyCode = 74;\n",
       "        manager.command_mode();\n",
       "        manager.handle_keydown(event);\n",
       "    }\n",
       "}\n",
       "\n",
       "mpl.figure.prototype.handle_save = function(fig, msg) {\n",
       "    fig.ondownload(fig, null);\n",
       "}\n",
       "\n",
       "\n",
       "mpl.find_output_cell = function(html_output) {\n",
       "    // Return the cell and output element which can be found *uniquely* in the notebook.\n",
       "    // Note - this is a bit hacky, but it is done because the \"notebook_saving.Notebook\"\n",
       "    // IPython event is triggered only after the cells have been serialised, which for\n",
       "    // our purposes (turning an active figure into a static one), is too late.\n",
       "    var cells = IPython.notebook.get_cells();\n",
       "    var ncells = cells.length;\n",
       "    for (var i=0; i<ncells; i++) {\n",
       "        var cell = cells[i];\n",
       "        if (cell.cell_type === 'code'){\n",
       "            for (var j=0; j<cell.output_area.outputs.length; j++) {\n",
       "                var data = cell.output_area.outputs[j];\n",
       "                if (data.data) {\n",
       "                    // IPython >= 3 moved mimebundle to data attribute of output\n",
       "                    data = data.data;\n",
       "                }\n",
       "                if (data['text/html'] == html_output) {\n",
       "                    return [cell, data, j];\n",
       "                }\n",
       "            }\n",
       "        }\n",
       "    }\n",
       "}\n",
       "\n",
       "// Register the function which deals with the matplotlib target/channel.\n",
       "// The kernel may be null if the page has been refreshed.\n",
       "if (IPython.notebook.kernel != null) {\n",
       "    IPython.notebook.kernel.comm_manager.register_target('matplotlib', mpl.mpl_figure_comm);\n",
       "}\n"
      ],
      "text/plain": [
       "<IPython.core.display.Javascript object>"
      ]
     },
     "metadata": {},
     "output_type": "display_data"
    },
    {
     "data": {
      "text/html": [
       "<img src=\"data:image/png;base64,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\" width=\"900\">"
      ],
      "text/plain": [
       "<IPython.core.display.HTML object>"
      ]
     },
     "metadata": {},
     "output_type": "display_data"
    },
    {
     "data": {
      "application/vnd.jupyter.widget-view+json": {
       "model_id": "a1f340ffe8954751a59422878ab4e17b",
       "version_major": 2,
       "version_minor": 0
      },
      "text/plain": [
       "HBox(children=(IntRangeSlider(value=(16383, 49151), layout=Layout(width='75%'), max=65535), Button(description…"
      ]
     },
     "metadata": {},
     "output_type": "display_data"
    }
   ],
   "source": [
    "%matplotlib notebook\n",
    "tr.set_don_loc_opts(\"sensor IEk non-act BSA cells\", 1)"
   ]
  },
  {
   "cell_type": "code",
   "execution_count": 14,
   "metadata": {
    "scrolled": false
   },
   "outputs": [
    {
     "data": {
      "application/vnd.jupyter.widget-view+json": {
       "model_id": "dfecd48daf66487b8782ed8f9d81ed09",
       "version_major": 2,
       "version_minor": 0
      },
      "text/plain": [
       "HBox(children=(VBox(children=(Select(layout=Layout(width='auto'), options=('sensor-IEk_non-act_BSA/cells-21_00…"
      ]
     },
     "metadata": {},
     "output_type": "display_data"
    },
    {
     "data": {
      "application/javascript": [
       "/* Put everything inside the global mpl namespace */\n",
       "window.mpl = {};\n",
       "\n",
       "\n",
       "mpl.get_websocket_type = function() {\n",
       "    if (typeof(WebSocket) !== 'undefined') {\n",
       "        return WebSocket;\n",
       "    } else if (typeof(MozWebSocket) !== 'undefined') {\n",
       "        return MozWebSocket;\n",
       "    } else {\n",
       "        alert('Your browser does not have WebSocket support.' +\n",
       "              'Please try Chrome, Safari or Firefox ≥ 6. ' +\n",
       "              'Firefox 4 and 5 are also supported but you ' +\n",
       "              'have to enable WebSockets in about:config.');\n",
       "    };\n",
       "}\n",
       "\n",
       "mpl.figure = function(figure_id, websocket, ondownload, parent_element) {\n",
       "    this.id = figure_id;\n",
       "\n",
       "    this.ws = websocket;\n",
       "\n",
       "    this.supports_binary = (this.ws.binaryType != undefined);\n",
       "\n",
       "    if (!this.supports_binary) {\n",
       "        var warnings = document.getElementById(\"mpl-warnings\");\n",
       "        if (warnings) {\n",
       "            warnings.style.display = 'block';\n",
       "            warnings.textContent = (\n",
       "                \"This browser does not support binary websocket messages. \" +\n",
       "                    \"Performance may be slow.\");\n",
       "        }\n",
       "    }\n",
       "\n",
       "    this.imageObj = new Image();\n",
       "\n",
       "    this.context = undefined;\n",
       "    this.message = undefined;\n",
       "    this.canvas = undefined;\n",
       "    this.rubberband_canvas = undefined;\n",
       "    this.rubberband_context = undefined;\n",
       "    this.format_dropdown = undefined;\n",
       "\n",
       "    this.image_mode = 'full';\n",
       "\n",
       "    this.root = $('<div/>');\n",
       "    this._root_extra_style(this.root)\n",
       "    this.root.attr('style', 'display: inline-block');\n",
       "\n",
       "    $(parent_element).append(this.root);\n",
       "\n",
       "    this._init_header(this);\n",
       "    this._init_canvas(this);\n",
       "    this._init_toolbar(this);\n",
       "\n",
       "    var fig = this;\n",
       "\n",
       "    this.waiting = false;\n",
       "\n",
       "    this.ws.onopen =  function () {\n",
       "            fig.send_message(\"supports_binary\", {value: fig.supports_binary});\n",
       "            fig.send_message(\"send_image_mode\", {});\n",
       "            if (mpl.ratio != 1) {\n",
       "                fig.send_message(\"set_dpi_ratio\", {'dpi_ratio': mpl.ratio});\n",
       "            }\n",
       "            fig.send_message(\"refresh\", {});\n",
       "        }\n",
       "\n",
       "    this.imageObj.onload = function() {\n",
       "            if (fig.image_mode == 'full') {\n",
       "                // Full images could contain transparency (where diff images\n",
       "                // almost always do), so we need to clear the canvas so that\n",
       "                // there is no ghosting.\n",
       "                fig.context.clearRect(0, 0, fig.canvas.width, fig.canvas.height);\n",
       "            }\n",
       "            fig.context.drawImage(fig.imageObj, 0, 0);\n",
       "        };\n",
       "\n",
       "    this.imageObj.onunload = function() {\n",
       "        fig.ws.close();\n",
       "    }\n",
       "\n",
       "    this.ws.onmessage = this._make_on_message_function(this);\n",
       "\n",
       "    this.ondownload = ondownload;\n",
       "}\n",
       "\n",
       "mpl.figure.prototype._init_header = function() {\n",
       "    var titlebar = $(\n",
       "        '<div class=\"ui-dialog-titlebar ui-widget-header ui-corner-all ' +\n",
       "        'ui-helper-clearfix\"/>');\n",
       "    var titletext = $(\n",
       "        '<div class=\"ui-dialog-title\" style=\"width: 100%; ' +\n",
       "        'text-align: center; padding: 3px;\"/>');\n",
       "    titlebar.append(titletext)\n",
       "    this.root.append(titlebar);\n",
       "    this.header = titletext[0];\n",
       "}\n",
       "\n",
       "\n",
       "\n",
       "mpl.figure.prototype._canvas_extra_style = function(canvas_div) {\n",
       "\n",
       "}\n",
       "\n",
       "\n",
       "mpl.figure.prototype._root_extra_style = function(canvas_div) {\n",
       "\n",
       "}\n",
       "\n",
       "mpl.figure.prototype._init_canvas = function() {\n",
       "    var fig = this;\n",
       "\n",
       "    var canvas_div = $('<div/>');\n",
       "\n",
       "    canvas_div.attr('style', 'position: relative; clear: both; outline: 0');\n",
       "\n",
       "    function canvas_keyboard_event(event) {\n",
       "        return fig.key_event(event, event['data']);\n",
       "    }\n",
       "\n",
       "    canvas_div.keydown('key_press', canvas_keyboard_event);\n",
       "    canvas_div.keyup('key_release', canvas_keyboard_event);\n",
       "    this.canvas_div = canvas_div\n",
       "    this._canvas_extra_style(canvas_div)\n",
       "    this.root.append(canvas_div);\n",
       "\n",
       "    var canvas = $('<canvas/>');\n",
       "    canvas.addClass('mpl-canvas');\n",
       "    canvas.attr('style', \"left: 0; top: 0; z-index: 0; outline: 0\")\n",
       "\n",
       "    this.canvas = canvas[0];\n",
       "    this.context = canvas[0].getContext(\"2d\");\n",
       "\n",
       "    var backingStore = this.context.backingStorePixelRatio ||\n",
       "\tthis.context.webkitBackingStorePixelRatio ||\n",
       "\tthis.context.mozBackingStorePixelRatio ||\n",
       "\tthis.context.msBackingStorePixelRatio ||\n",
       "\tthis.context.oBackingStorePixelRatio ||\n",
       "\tthis.context.backingStorePixelRatio || 1;\n",
       "\n",
       "    mpl.ratio = (window.devicePixelRatio || 1) / backingStore;\n",
       "\n",
       "    var rubberband = $('<canvas/>');\n",
       "    rubberband.attr('style', \"position: absolute; left: 0; top: 0; z-index: 1;\")\n",
       "\n",
       "    var pass_mouse_events = true;\n",
       "\n",
       "    canvas_div.resizable({\n",
       "        start: function(event, ui) {\n",
       "            pass_mouse_events = false;\n",
       "        },\n",
       "        resize: function(event, ui) {\n",
       "            fig.request_resize(ui.size.width, ui.size.height);\n",
       "        },\n",
       "        stop: function(event, ui) {\n",
       "            pass_mouse_events = true;\n",
       "            fig.request_resize(ui.size.width, ui.size.height);\n",
       "        },\n",
       "    });\n",
       "\n",
       "    function mouse_event_fn(event) {\n",
       "        if (pass_mouse_events)\n",
       "            return fig.mouse_event(event, event['data']);\n",
       "    }\n",
       "\n",
       "    rubberband.mousedown('button_press', mouse_event_fn);\n",
       "    rubberband.mouseup('button_release', mouse_event_fn);\n",
       "    // Throttle sequential mouse events to 1 every 20ms.\n",
       "    rubberband.mousemove('motion_notify', mouse_event_fn);\n",
       "\n",
       "    rubberband.mouseenter('figure_enter', mouse_event_fn);\n",
       "    rubberband.mouseleave('figure_leave', mouse_event_fn);\n",
       "\n",
       "    canvas_div.on(\"wheel\", function (event) {\n",
       "        event = event.originalEvent;\n",
       "        event['data'] = 'scroll'\n",
       "        if (event.deltaY < 0) {\n",
       "            event.step = 1;\n",
       "        } else {\n",
       "            event.step = -1;\n",
       "        }\n",
       "        mouse_event_fn(event);\n",
       "    });\n",
       "\n",
       "    canvas_div.append(canvas);\n",
       "    canvas_div.append(rubberband);\n",
       "\n",
       "    this.rubberband = rubberband;\n",
       "    this.rubberband_canvas = rubberband[0];\n",
       "    this.rubberband_context = rubberband[0].getContext(\"2d\");\n",
       "    this.rubberband_context.strokeStyle = \"#000000\";\n",
       "\n",
       "    this._resize_canvas = function(width, height) {\n",
       "        // Keep the size of the canvas, canvas container, and rubber band\n",
       "        // canvas in synch.\n",
       "        canvas_div.css('width', width)\n",
       "        canvas_div.css('height', height)\n",
       "\n",
       "        canvas.attr('width', width * mpl.ratio);\n",
       "        canvas.attr('height', height * mpl.ratio);\n",
       "        canvas.attr('style', 'width: ' + width + 'px; height: ' + height + 'px;');\n",
       "\n",
       "        rubberband.attr('width', width);\n",
       "        rubberband.attr('height', height);\n",
       "    }\n",
       "\n",
       "    // Set the figure to an initial 600x600px, this will subsequently be updated\n",
       "    // upon first draw.\n",
       "    this._resize_canvas(600, 600);\n",
       "\n",
       "    // Disable right mouse context menu.\n",
       "    $(this.rubberband_canvas).bind(\"contextmenu\",function(e){\n",
       "        return false;\n",
       "    });\n",
       "\n",
       "    function set_focus () {\n",
       "        canvas.focus();\n",
       "        canvas_div.focus();\n",
       "    }\n",
       "\n",
       "    window.setTimeout(set_focus, 100);\n",
       "}\n",
       "\n",
       "mpl.figure.prototype._init_toolbar = function() {\n",
       "    var fig = this;\n",
       "\n",
       "    var nav_element = $('<div/>')\n",
       "    nav_element.attr('style', 'width: 100%');\n",
       "    this.root.append(nav_element);\n",
       "\n",
       "    // Define a callback function for later on.\n",
       "    function toolbar_event(event) {\n",
       "        return fig.toolbar_button_onclick(event['data']);\n",
       "    }\n",
       "    function toolbar_mouse_event(event) {\n",
       "        return fig.toolbar_button_onmouseover(event['data']);\n",
       "    }\n",
       "\n",
       "    for(var toolbar_ind in mpl.toolbar_items) {\n",
       "        var name = mpl.toolbar_items[toolbar_ind][0];\n",
       "        var tooltip = mpl.toolbar_items[toolbar_ind][1];\n",
       "        var image = mpl.toolbar_items[toolbar_ind][2];\n",
       "        var method_name = mpl.toolbar_items[toolbar_ind][3];\n",
       "\n",
       "        if (!name) {\n",
       "            // put a spacer in here.\n",
       "            continue;\n",
       "        }\n",
       "        var button = $('<button/>');\n",
       "        button.addClass('ui-button ui-widget ui-state-default ui-corner-all ' +\n",
       "                        'ui-button-icon-only');\n",
       "        button.attr('role', 'button');\n",
       "        button.attr('aria-disabled', 'false');\n",
       "        button.click(method_name, toolbar_event);\n",
       "        button.mouseover(tooltip, toolbar_mouse_event);\n",
       "\n",
       "        var icon_img = $('<span/>');\n",
       "        icon_img.addClass('ui-button-icon-primary ui-icon');\n",
       "        icon_img.addClass(image);\n",
       "        icon_img.addClass('ui-corner-all');\n",
       "\n",
       "        var tooltip_span = $('<span/>');\n",
       "        tooltip_span.addClass('ui-button-text');\n",
       "        tooltip_span.html(tooltip);\n",
       "\n",
       "        button.append(icon_img);\n",
       "        button.append(tooltip_span);\n",
       "\n",
       "        nav_element.append(button);\n",
       "    }\n",
       "\n",
       "    var fmt_picker_span = $('<span/>');\n",
       "\n",
       "    var fmt_picker = $('<select/>');\n",
       "    fmt_picker.addClass('mpl-toolbar-option ui-widget ui-widget-content');\n",
       "    fmt_picker_span.append(fmt_picker);\n",
       "    nav_element.append(fmt_picker_span);\n",
       "    this.format_dropdown = fmt_picker[0];\n",
       "\n",
       "    for (var ind in mpl.extensions) {\n",
       "        var fmt = mpl.extensions[ind];\n",
       "        var option = $(\n",
       "            '<option/>', {selected: fmt === mpl.default_extension}).html(fmt);\n",
       "        fmt_picker.append(option)\n",
       "    }\n",
       "\n",
       "    // Add hover states to the ui-buttons\n",
       "    $( \".ui-button\" ).hover(\n",
       "        function() { $(this).addClass(\"ui-state-hover\");},\n",
       "        function() { $(this).removeClass(\"ui-state-hover\");}\n",
       "    );\n",
       "\n",
       "    var status_bar = $('<span class=\"mpl-message\"/>');\n",
       "    nav_element.append(status_bar);\n",
       "    this.message = status_bar[0];\n",
       "}\n",
       "\n",
       "mpl.figure.prototype.request_resize = function(x_pixels, y_pixels) {\n",
       "    // Request matplotlib to resize the figure. Matplotlib will then trigger a resize in the client,\n",
       "    // which will in turn request a refresh of the image.\n",
       "    this.send_message('resize', {'width': x_pixels, 'height': y_pixels});\n",
       "}\n",
       "\n",
       "mpl.figure.prototype.send_message = function(type, properties) {\n",
       "    properties['type'] = type;\n",
       "    properties['figure_id'] = this.id;\n",
       "    this.ws.send(JSON.stringify(properties));\n",
       "}\n",
       "\n",
       "mpl.figure.prototype.send_draw_message = function() {\n",
       "    if (!this.waiting) {\n",
       "        this.waiting = true;\n",
       "        this.ws.send(JSON.stringify({type: \"draw\", figure_id: this.id}));\n",
       "    }\n",
       "}\n",
       "\n",
       "\n",
       "mpl.figure.prototype.handle_save = function(fig, msg) {\n",
       "    var format_dropdown = fig.format_dropdown;\n",
       "    var format = format_dropdown.options[format_dropdown.selectedIndex].value;\n",
       "    fig.ondownload(fig, format);\n",
       "}\n",
       "\n",
       "\n",
       "mpl.figure.prototype.handle_resize = function(fig, msg) {\n",
       "    var size = msg['size'];\n",
       "    if (size[0] != fig.canvas.width || size[1] != fig.canvas.height) {\n",
       "        fig._resize_canvas(size[0], size[1]);\n",
       "        fig.send_message(\"refresh\", {});\n",
       "    };\n",
       "}\n",
       "\n",
       "mpl.figure.prototype.handle_rubberband = function(fig, msg) {\n",
       "    var x0 = msg['x0'] / mpl.ratio;\n",
       "    var y0 = (fig.canvas.height - msg['y0']) / mpl.ratio;\n",
       "    var x1 = msg['x1'] / mpl.ratio;\n",
       "    var y1 = (fig.canvas.height - msg['y1']) / mpl.ratio;\n",
       "    x0 = Math.floor(x0) + 0.5;\n",
       "    y0 = Math.floor(y0) + 0.5;\n",
       "    x1 = Math.floor(x1) + 0.5;\n",
       "    y1 = Math.floor(y1) + 0.5;\n",
       "    var min_x = Math.min(x0, x1);\n",
       "    var min_y = Math.min(y0, y1);\n",
       "    var width = Math.abs(x1 - x0);\n",
       "    var height = Math.abs(y1 - y0);\n",
       "\n",
       "    fig.rubberband_context.clearRect(\n",
       "        0, 0, fig.canvas.width, fig.canvas.height);\n",
       "\n",
       "    fig.rubberband_context.strokeRect(min_x, min_y, width, height);\n",
       "}\n",
       "\n",
       "mpl.figure.prototype.handle_figure_label = function(fig, msg) {\n",
       "    // Updates the figure title.\n",
       "    fig.header.textContent = msg['label'];\n",
       "}\n",
       "\n",
       "mpl.figure.prototype.handle_cursor = function(fig, msg) {\n",
       "    var cursor = msg['cursor'];\n",
       "    switch(cursor)\n",
       "    {\n",
       "    case 0:\n",
       "        cursor = 'pointer';\n",
       "        break;\n",
       "    case 1:\n",
       "        cursor = 'default';\n",
       "        break;\n",
       "    case 2:\n",
       "        cursor = 'crosshair';\n",
       "        break;\n",
       "    case 3:\n",
       "        cursor = 'move';\n",
       "        break;\n",
       "    }\n",
       "    fig.rubberband_canvas.style.cursor = cursor;\n",
       "}\n",
       "\n",
       "mpl.figure.prototype.handle_message = function(fig, msg) {\n",
       "    fig.message.textContent = msg['message'];\n",
       "}\n",
       "\n",
       "mpl.figure.prototype.handle_draw = function(fig, msg) {\n",
       "    // Request the server to send over a new figure.\n",
       "    fig.send_draw_message();\n",
       "}\n",
       "\n",
       "mpl.figure.prototype.handle_image_mode = function(fig, msg) {\n",
       "    fig.image_mode = msg['mode'];\n",
       "}\n",
       "\n",
       "mpl.figure.prototype.updated_canvas_event = function() {\n",
       "    // Called whenever the canvas gets updated.\n",
       "    this.send_message(\"ack\", {});\n",
       "}\n",
       "\n",
       "// A function to construct a web socket function for onmessage handling.\n",
       "// Called in the figure constructor.\n",
       "mpl.figure.prototype._make_on_message_function = function(fig) {\n",
       "    return function socket_on_message(evt) {\n",
       "        if (evt.data instanceof Blob) {\n",
       "            /* FIXME: We get \"Resource interpreted as Image but\n",
       "             * transferred with MIME type text/plain:\" errors on\n",
       "             * Chrome.  But how to set the MIME type?  It doesn't seem\n",
       "             * to be part of the websocket stream */\n",
       "            evt.data.type = \"image/png\";\n",
       "\n",
       "            /* Free the memory for the previous frames */\n",
       "            if (fig.imageObj.src) {\n",
       "                (window.URL || window.webkitURL).revokeObjectURL(\n",
       "                    fig.imageObj.src);\n",
       "            }\n",
       "\n",
       "            fig.imageObj.src = (window.URL || window.webkitURL).createObjectURL(\n",
       "                evt.data);\n",
       "            fig.updated_canvas_event();\n",
       "            fig.waiting = false;\n",
       "            return;\n",
       "        }\n",
       "        else if (typeof evt.data === 'string' && evt.data.slice(0, 21) == \"data:image/png;base64\") {\n",
       "            fig.imageObj.src = evt.data;\n",
       "            fig.updated_canvas_event();\n",
       "            fig.waiting = false;\n",
       "            return;\n",
       "        }\n",
       "\n",
       "        var msg = JSON.parse(evt.data);\n",
       "        var msg_type = msg['type'];\n",
       "\n",
       "        // Call the  \"handle_{type}\" callback, which takes\n",
       "        // the figure and JSON message as its only arguments.\n",
       "        try {\n",
       "            var callback = fig[\"handle_\" + msg_type];\n",
       "        } catch (e) {\n",
       "            console.log(\"No handler for the '\" + msg_type + \"' message type: \", msg);\n",
       "            return;\n",
       "        }\n",
       "\n",
       "        if (callback) {\n",
       "            try {\n",
       "                // console.log(\"Handling '\" + msg_type + \"' message: \", msg);\n",
       "                callback(fig, msg);\n",
       "            } catch (e) {\n",
       "                console.log(\"Exception inside the 'handler_\" + msg_type + \"' callback:\", e, e.stack, msg);\n",
       "            }\n",
       "        }\n",
       "    };\n",
       "}\n",
       "\n",
       "// from http://stackoverflow.com/questions/1114465/getting-mouse-location-in-canvas\n",
       "mpl.findpos = function(e) {\n",
       "    //this section is from http://www.quirksmode.org/js/events_properties.html\n",
       "    var targ;\n",
       "    if (!e)\n",
       "        e = window.event;\n",
       "    if (e.target)\n",
       "        targ = e.target;\n",
       "    else if (e.srcElement)\n",
       "        targ = e.srcElement;\n",
       "    if (targ.nodeType == 3) // defeat Safari bug\n",
       "        targ = targ.parentNode;\n",
       "\n",
       "    // jQuery normalizes the pageX and pageY\n",
       "    // pageX,Y are the mouse positions relative to the document\n",
       "    // offset() returns the position of the element relative to the document\n",
       "    var x = e.pageX - $(targ).offset().left;\n",
       "    var y = e.pageY - $(targ).offset().top;\n",
       "\n",
       "    return {\"x\": x, \"y\": y};\n",
       "};\n",
       "\n",
       "/*\n",
       " * return a copy of an object with only non-object keys\n",
       " * we need this to avoid circular references\n",
       " * http://stackoverflow.com/a/24161582/3208463\n",
       " */\n",
       "function simpleKeys (original) {\n",
       "  return Object.keys(original).reduce(function (obj, key) {\n",
       "    if (typeof original[key] !== 'object')\n",
       "        obj[key] = original[key]\n",
       "    return obj;\n",
       "  }, {});\n",
       "}\n",
       "\n",
       "mpl.figure.prototype.mouse_event = function(event, name) {\n",
       "    var canvas_pos = mpl.findpos(event)\n",
       "\n",
       "    if (name === 'button_press')\n",
       "    {\n",
       "        this.canvas.focus();\n",
       "        this.canvas_div.focus();\n",
       "    }\n",
       "\n",
       "    var x = canvas_pos.x * mpl.ratio;\n",
       "    var y = canvas_pos.y * mpl.ratio;\n",
       "\n",
       "    this.send_message(name, {x: x, y: y, button: event.button,\n",
       "                             step: event.step,\n",
       "                             guiEvent: simpleKeys(event)});\n",
       "\n",
       "    /* This prevents the web browser from automatically changing to\n",
       "     * the text insertion cursor when the button is pressed.  We want\n",
       "     * to control all of the cursor setting manually through the\n",
       "     * 'cursor' event from matplotlib */\n",
       "    event.preventDefault();\n",
       "    return false;\n",
       "}\n",
       "\n",
       "mpl.figure.prototype._key_event_extra = function(event, name) {\n",
       "    // Handle any extra behaviour associated with a key event\n",
       "}\n",
       "\n",
       "mpl.figure.prototype.key_event = function(event, name) {\n",
       "\n",
       "    // Prevent repeat events\n",
       "    if (name == 'key_press')\n",
       "    {\n",
       "        if (event.which === this._key)\n",
       "            return;\n",
       "        else\n",
       "            this._key = event.which;\n",
       "    }\n",
       "    if (name == 'key_release')\n",
       "        this._key = null;\n",
       "\n",
       "    var value = '';\n",
       "    if (event.ctrlKey && event.which != 17)\n",
       "        value += \"ctrl+\";\n",
       "    if (event.altKey && event.which != 18)\n",
       "        value += \"alt+\";\n",
       "    if (event.shiftKey && event.which != 16)\n",
       "        value += \"shift+\";\n",
       "\n",
       "    value += 'k';\n",
       "    value += event.which.toString();\n",
       "\n",
       "    this._key_event_extra(event, name);\n",
       "\n",
       "    this.send_message(name, {key: value,\n",
       "                             guiEvent: simpleKeys(event)});\n",
       "    return false;\n",
       "}\n",
       "\n",
       "mpl.figure.prototype.toolbar_button_onclick = function(name) {\n",
       "    if (name == 'download') {\n",
       "        this.handle_save(this, null);\n",
       "    } else {\n",
       "        this.send_message(\"toolbar_button\", {name: name});\n",
       "    }\n",
       "};\n",
       "\n",
       "mpl.figure.prototype.toolbar_button_onmouseover = function(tooltip) {\n",
       "    this.message.textContent = tooltip;\n",
       "};\n",
       "mpl.toolbar_items = [[\"Home\", \"Reset original view\", \"fa fa-home icon-home\", \"home\"], [\"Back\", \"Back to  previous view\", \"fa fa-arrow-left icon-arrow-left\", \"back\"], [\"Forward\", \"Forward to next view\", \"fa fa-arrow-right icon-arrow-right\", \"forward\"], [\"\", \"\", \"\", \"\"], [\"Pan\", \"Pan axes with left mouse, zoom with right\", \"fa fa-arrows icon-move\", \"pan\"], [\"Zoom\", \"Zoom to rectangle\", \"fa fa-square-o icon-check-empty\", \"zoom\"], [\"\", \"\", \"\", \"\"], [\"Download\", \"Download plot\", \"fa fa-floppy-o icon-save\", \"download\"]];\n",
       "\n",
       "mpl.extensions = [\"eps\", \"jpeg\", \"pdf\", \"png\", \"ps\", \"raw\", \"svg\", \"tif\"];\n",
       "\n",
       "mpl.default_extension = \"png\";var comm_websocket_adapter = function(comm) {\n",
       "    // Create a \"websocket\"-like object which calls the given IPython comm\n",
       "    // object with the appropriate methods. Currently this is a non binary\n",
       "    // socket, so there is still some room for performance tuning.\n",
       "    var ws = {};\n",
       "\n",
       "    ws.close = function() {\n",
       "        comm.close()\n",
       "    };\n",
       "    ws.send = function(m) {\n",
       "        //console.log('sending', m);\n",
       "        comm.send(m);\n",
       "    };\n",
       "    // Register the callback with on_msg.\n",
       "    comm.on_msg(function(msg) {\n",
       "        //console.log('receiving', msg['content']['data'], msg);\n",
       "        // Pass the mpl event to the overridden (by mpl) onmessage function.\n",
       "        ws.onmessage(msg['content']['data'])\n",
       "    });\n",
       "    return ws;\n",
       "}\n",
       "\n",
       "mpl.mpl_figure_comm = function(comm, msg) {\n",
       "    // This is the function which gets called when the mpl process\n",
       "    // starts-up an IPython Comm through the \"matplotlib\" channel.\n",
       "\n",
       "    var id = msg.content.data.id;\n",
       "    // Get hold of the div created by the display call when the Comm\n",
       "    // socket was opened in Python.\n",
       "    var element = $(\"#\" + id);\n",
       "    var ws_proxy = comm_websocket_adapter(comm)\n",
       "\n",
       "    function ondownload(figure, format) {\n",
       "        window.open(figure.imageObj.src);\n",
       "    }\n",
       "\n",
       "    var fig = new mpl.figure(id, ws_proxy,\n",
       "                           ondownload,\n",
       "                           element.get(0));\n",
       "\n",
       "    // Call onopen now - mpl needs it, as it is assuming we've passed it a real\n",
       "    // web socket which is closed, not our websocket->open comm proxy.\n",
       "    ws_proxy.onopen();\n",
       "\n",
       "    fig.parent_element = element.get(0);\n",
       "    fig.cell_info = mpl.find_output_cell(\"<div id='\" + id + \"'></div>\");\n",
       "    if (!fig.cell_info) {\n",
       "        console.error(\"Failed to find cell for figure\", id, fig);\n",
       "        return;\n",
       "    }\n",
       "\n",
       "    var output_index = fig.cell_info[2]\n",
       "    var cell = fig.cell_info[0];\n",
       "\n",
       "};\n",
       "\n",
       "mpl.figure.prototype.handle_close = function(fig, msg) {\n",
       "    var width = fig.canvas.width/mpl.ratio\n",
       "    fig.root.unbind('remove')\n",
       "\n",
       "    // Update the output cell to use the data from the current canvas.\n",
       "    fig.push_to_output();\n",
       "    var dataURL = fig.canvas.toDataURL();\n",
       "    // Re-enable the keyboard manager in IPython - without this line, in FF,\n",
       "    // the notebook keyboard shortcuts fail.\n",
       "    IPython.keyboard_manager.enable()\n",
       "    $(fig.parent_element).html('<img src=\"' + dataURL + '\" width=\"' + width + '\">');\n",
       "    fig.close_ws(fig, msg);\n",
       "}\n",
       "\n",
       "mpl.figure.prototype.close_ws = function(fig, msg){\n",
       "    fig.send_message('closing', msg);\n",
       "    // fig.ws.close()\n",
       "}\n",
       "\n",
       "mpl.figure.prototype.push_to_output = function(remove_interactive) {\n",
       "    // Turn the data on the canvas into data in the output cell.\n",
       "    var width = this.canvas.width/mpl.ratio\n",
       "    var dataURL = this.canvas.toDataURL();\n",
       "    this.cell_info[1]['text/html'] = '<img src=\"' + dataURL + '\" width=\"' + width + '\">';\n",
       "}\n",
       "\n",
       "mpl.figure.prototype.updated_canvas_event = function() {\n",
       "    // Tell IPython that the notebook contents must change.\n",
       "    IPython.notebook.set_dirty(true);\n",
       "    this.send_message(\"ack\", {});\n",
       "    var fig = this;\n",
       "    // Wait a second, then push the new image to the DOM so\n",
       "    // that it is saved nicely (might be nice to debounce this).\n",
       "    setTimeout(function () { fig.push_to_output() }, 1000);\n",
       "}\n",
       "\n",
       "mpl.figure.prototype._init_toolbar = function() {\n",
       "    var fig = this;\n",
       "\n",
       "    var nav_element = $('<div/>')\n",
       "    nav_element.attr('style', 'width: 100%');\n",
       "    this.root.append(nav_element);\n",
       "\n",
       "    // Define a callback function for later on.\n",
       "    function toolbar_event(event) {\n",
       "        return fig.toolbar_button_onclick(event['data']);\n",
       "    }\n",
       "    function toolbar_mouse_event(event) {\n",
       "        return fig.toolbar_button_onmouseover(event['data']);\n",
       "    }\n",
       "\n",
       "    for(var toolbar_ind in mpl.toolbar_items){\n",
       "        var name = mpl.toolbar_items[toolbar_ind][0];\n",
       "        var tooltip = mpl.toolbar_items[toolbar_ind][1];\n",
       "        var image = mpl.toolbar_items[toolbar_ind][2];\n",
       "        var method_name = mpl.toolbar_items[toolbar_ind][3];\n",
       "\n",
       "        if (!name) { continue; };\n",
       "\n",
       "        var button = $('<button class=\"btn btn-default\" href=\"#\" title=\"' + name + '\"><i class=\"fa ' + image + ' fa-lg\"></i></button>');\n",
       "        button.click(method_name, toolbar_event);\n",
       "        button.mouseover(tooltip, toolbar_mouse_event);\n",
       "        nav_element.append(button);\n",
       "    }\n",
       "\n",
       "    // Add the status bar.\n",
       "    var status_bar = $('<span class=\"mpl-message\" style=\"text-align:right; float: right;\"/>');\n",
       "    nav_element.append(status_bar);\n",
       "    this.message = status_bar[0];\n",
       "\n",
       "    // Add the close button to the window.\n",
       "    var buttongrp = $('<div class=\"btn-group inline pull-right\"></div>');\n",
       "    var button = $('<button class=\"btn btn-mini btn-primary\" href=\"#\" title=\"Stop Interaction\"><i class=\"fa fa-power-off icon-remove icon-large\"></i></button>');\n",
       "    button.click(function (evt) { fig.handle_close(fig, {}); } );\n",
       "    button.mouseover('Stop Interaction', toolbar_mouse_event);\n",
       "    buttongrp.append(button);\n",
       "    var titlebar = this.root.find($('.ui-dialog-titlebar'));\n",
       "    titlebar.prepend(buttongrp);\n",
       "}\n",
       "\n",
       "mpl.figure.prototype._root_extra_style = function(el){\n",
       "    var fig = this\n",
       "    el.on(\"remove\", function(){\n",
       "\tfig.close_ws(fig, {});\n",
       "    });\n",
       "}\n",
       "\n",
       "mpl.figure.prototype._canvas_extra_style = function(el){\n",
       "    // this is important to make the div 'focusable\n",
       "    el.attr('tabindex', 0)\n",
       "    // reach out to IPython and tell the keyboard manager to turn it's self\n",
       "    // off when our div gets focus\n",
       "\n",
       "    // location in version 3\n",
       "    if (IPython.notebook.keyboard_manager) {\n",
       "        IPython.notebook.keyboard_manager.register_events(el);\n",
       "    }\n",
       "    else {\n",
       "        // location in version 2\n",
       "        IPython.keyboard_manager.register_events(el);\n",
       "    }\n",
       "\n",
       "}\n",
       "\n",
       "mpl.figure.prototype._key_event_extra = function(event, name) {\n",
       "    var manager = IPython.notebook.keyboard_manager;\n",
       "    if (!manager)\n",
       "        manager = IPython.keyboard_manager;\n",
       "\n",
       "    // Check for shift+enter\n",
       "    if (event.shiftKey && event.which == 13) {\n",
       "        this.canvas_div.blur();\n",
       "        event.shiftKey = false;\n",
       "        // Send a \"J\" for go to next cell\n",
       "        event.which = 74;\n",
       "        event.keyCode = 74;\n",
       "        manager.command_mode();\n",
       "        manager.handle_keydown(event);\n",
       "    }\n",
       "}\n",
       "\n",
       "mpl.figure.prototype.handle_save = function(fig, msg) {\n",
       "    fig.ondownload(fig, null);\n",
       "}\n",
       "\n",
       "\n",
       "mpl.find_output_cell = function(html_output) {\n",
       "    // Return the cell and output element which can be found *uniquely* in the notebook.\n",
       "    // Note - this is a bit hacky, but it is done because the \"notebook_saving.Notebook\"\n",
       "    // IPython event is triggered only after the cells have been serialised, which for\n",
       "    // our purposes (turning an active figure into a static one), is too late.\n",
       "    var cells = IPython.notebook.get_cells();\n",
       "    var ncells = cells.length;\n",
       "    for (var i=0; i<ncells; i++) {\n",
       "        var cell = cells[i];\n",
       "        if (cell.cell_type === 'code'){\n",
       "            for (var j=0; j<cell.output_area.outputs.length; j++) {\n",
       "                var data = cell.output_area.outputs[j];\n",
       "                if (data.data) {\n",
       "                    // IPython >= 3 moved mimebundle to data attribute of output\n",
       "                    data = data.data;\n",
       "                }\n",
       "                if (data['text/html'] == html_output) {\n",
       "                    return [cell, data, j];\n",
       "                }\n",
       "            }\n",
       "        }\n",
       "    }\n",
       "}\n",
       "\n",
       "// Register the function which deals with the matplotlib target/channel.\n",
       "// The kernel may be null if the page has been refreshed.\n",
       "if (IPython.notebook.kernel != null) {\n",
       "    IPython.notebook.kernel.comm_manager.register_target('matplotlib', mpl.mpl_figure_comm);\n",
       "}\n"
      ],
      "text/plain": [
       "<IPython.core.display.Javascript object>"
      ]
     },
     "metadata": {},
     "output_type": "display_data"
    },
    {
     "data": {
      "text/html": [
       "<img src=\"data:image/png;base64,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\" width=\"900\">"
      ],
      "text/plain": [
       "<IPython.core.display.HTML object>"
      ]
     },
     "metadata": {},
     "output_type": "display_data"
    },
    {
     "data": {
      "application/vnd.jupyter.widget-view+json": {
       "model_id": "77d9cd487f3040b1b39f404601a6a49f",
       "version_major": 2,
       "version_minor": 0
      },
      "text/plain": [
       "HBox(children=(IntRangeSlider(value=(16383, 49151), layout=Layout(width='75%'), max=65535), Button(description…"
      ]
     },
     "metadata": {},
     "output_type": "display_data"
    }
   ],
   "source": [
    "tr.set_acc_loc_opts(\"sensor IEk non-act BSA cells\", 0)"
   ]
  },
  {
   "cell_type": "code",
   "execution_count": 20,
   "metadata": {
    "scrolled": true
   },
   "outputs": [
    {
     "data": {
      "application/vnd.jupyter.widget-view+json": {
       "model_id": "c7f547f9f3954ed7ab5d946dae81474f",
       "version_major": 2,
       "version_minor": 0
      },
      "text/plain": [
       "Label(value='Starting…')"
      ]
     },
     "metadata": {},
     "output_type": "display_data"
    }
   ],
   "source": [
    "tr.locate()"
   ]
  },
  {
   "cell_type": "code",
   "execution_count": 21,
   "metadata": {},
   "outputs": [
    {
     "data": {
      "application/vnd.jupyter.widget-view+json": {
       "model_id": "d4123f28d85245f6804b1a5f5a9776db",
       "version_major": 2,
       "version_minor": 0
      },
      "text/plain": [
       "Label(value='Starting…')"
      ]
     },
     "metadata": {},
     "output_type": "display_data"
    }
   ],
   "source": [
    "tr.track(feat_radius=4, bg_frame=3, link_radius=2, link_mem=3, min_length=4, bg_estimator=\"mean\")"
   ]
  },
  {
   "cell_type": "code",
   "execution_count": 36,
   "metadata": {},
   "outputs": [],
   "source": [
    "tr.analyze()"
   ]
  },
  {
   "cell_type": "code",
   "execution_count": 9,
   "metadata": {},
   "outputs": [],
   "source": [
    "tr.extract_cell_images()\n",
    "tr.extract_profile_images(\"donor\", Path(\"profile\", r\"green_.*\"))\n",
    "tr.extract_profile_images(\"acceptor\", Path(\"profile\", r\"red_.*\"))"
   ]
  },
  {
   "cell_type": "code",
   "execution_count": 14,
   "metadata": {},
   "outputs": [],
   "source": [
    "tr.save()"
   ]
  },
  {
   "cell_type": "code",
   "execution_count": null,
   "metadata": {},
   "outputs": [],
   "source": []
  }
 ],
 "metadata": {
  "anaconda-cloud": {},
  "kernelspec": {
   "display_name": "Python 3",
   "language": "python",
   "name": "python3"
  },
  "language_info": {
   "codemirror_mode": {
    "name": "ipython",
    "version": 3
   },
   "file_extension": ".py",
   "mimetype": "text/x-python",
   "name": "python",
   "nbconvert_exporter": "python",
   "pygments_lexer": "ipython3",
   "version": "3.6.6"
  },
  "nbpresent": {
   "slides": {
    "20fa0cd3-020c-4d9f-bcba-4e50c0c0a5d1": {
     "id": "20fa0cd3-020c-4d9f-bcba-4e50c0c0a5d1",
     "prev": "76433211-a936-400b-84f3-6a2fb80db8f1",
     "regions": {
      "2fd4244b-acc8-4dfc-babd-08c1db7b747a": {
       "attrs": {
        "height": 0.8,
        "width": 0.45,
        "x": 0.5,
        "y": 0.1
       },
       "content": {
        "cell": "dc9c3e3e-8794-45c2-9297-5d25775cf3f7",
        "part": "outputs"
       },
       "id": "2fd4244b-acc8-4dfc-babd-08c1db7b747a"
      },
      "5c5edddc-6415-40e9-a5ac-ffb546f82ef7": {
       "attrs": {
        "height": 0.8,
        "width": 0.45,
        "x": 0.05,
        "y": 0.1
       },
       "content": {
        "cell": "bd5405cb-53b0-416d-8790-3c6d72aad18e",
        "part": "outputs"
       },
       "id": "5c5edddc-6415-40e9-a5ac-ffb546f82ef7"
      }
     }
    },
    "76433211-a936-400b-84f3-6a2fb80db8f1": {
     "id": "76433211-a936-400b-84f3-6a2fb80db8f1",
     "prev": "e09ecffc-34f4-4a8f-a2cc-3ee776e5e11d",
     "regions": {
      "5fabb9bc-7563-43b0-a27e-45df2ab0d7b2": {
       "attrs": {
        "height": 0.8,
        "width": 0.45,
        "x": 0.5,
        "y": 0.1
       },
       "content": {
        "cell": "f96fc3f9-f52c-4eef-a51d-820ae20139f8",
        "part": "outputs"
       },
       "id": "5fabb9bc-7563-43b0-a27e-45df2ab0d7b2"
      },
      "ceaa665e-b68f-495f-957b-5a9b2e940e15": {
       "attrs": {
        "height": 0.8,
        "width": 0.45,
        "x": 0.05,
        "y": 0.1
       },
       "content": {
        "cell": "08649e84-4e91-4f9b-abca-7afff2065f6f",
        "part": "outputs"
       },
       "id": "ceaa665e-b68f-495f-957b-5a9b2e940e15"
      }
     }
    },
    "e09ecffc-34f4-4a8f-a2cc-3ee776e5e11d": {
     "id": "e09ecffc-34f4-4a8f-a2cc-3ee776e5e11d",
     "prev": null,
     "regions": {
      "3991d937-36e0-4d56-804e-4e9f31be78f5": {
       "attrs": {
        "height": 0.1500000000000001,
        "width": 0.44999999999999996,
        "x": 0.25,
        "y": 0.1
       },
       "content": {
        "cell": "8802d2db-c6c7-47ab-8e4f-3469fe66f891",
        "part": "widgets"
       },
       "id": "3991d937-36e0-4d56-804e-4e9f31be78f5"
      },
      "e0df44c7-b500-4da1-9614-784f74a93bae": {
       "attrs": {
        "height": 0.6,
        "width": 0.8,
        "x": 0.10000000000000002,
        "y": 0.3
       },
       "content": {
        "cell": "8802d2db-c6c7-47ab-8e4f-3469fe66f891",
        "part": "outputs"
       },
       "id": "e0df44c7-b500-4da1-9614-784f74a93bae"
      }
     }
    }
   },
   "themes": {}
  },
  "widgets": {
   "application/vnd.jupyter.widget-state+json": {
    "state": {
     "0018c04d4b2749a4897ec5711d0a8a1b": {
      "model_module": "@jupyter-widgets/controls",
      "model_module_version": "1.2.0",
      "model_name": "DescriptionStyleModel",
      "state": {
       "description_width": ""
      }
     },
     "0018d2c8cdc24975953919ccc4a08340": {
      "model_module": "@jupyter-widgets/controls",
      "model_module_version": "1.2.0",
      "model_name": "IntRangeSliderModel",
      "state": {
       "_model_name": "IntRangeSliderModel",
       "_view_name": "IntRangeSliderView",
       "layout": "IPY_MODEL_e8f899ae81b342c3a754c989ebecfc61",
       "max": 65535,
       "style": "IPY_MODEL_ca3928b3edc542b58ac4ba639b5d69ba",
       "value": [
        134,
        25393
       ]
      }
     },
     "002fad1c936943c5a2f2e933f8c91d83": {
      "model_module": "@jupyter-widgets/base",
      "model_module_version": "1.0.0",
      "model_name": "LayoutModel",
      "state": {
       "height": "150px",
       "width": "100%"
      }
     },
     "004a165785f648a6af498860645ce22a": {
      "model_module": "@jupyter-widgets/base",
      "model_module_version": "1.0.0",
      "model_name": "LayoutModel",
      "state": {
       "display": "none"
      }
     },
     "005559a6669f4d2b82b23960f9ad2cb3": {
      "model_module": "@jupyter-widgets/controls",
      "model_module_version": "1.2.0",
      "model_name": "BoundedIntTextModel",
      "state": {
       "description": "frame",
       "layout": "IPY_MODEL_17611348fb7d45928e9f9acdc16169f9",
       "max": 0,
       "style": "IPY_MODEL_1426a3465bbb49f9a45da3139f641ba9"
      }
     },
     "005a080a10004a2c8d90773f71f9702c": {
      "model_module": "@jupyter-widgets/controls",
      "model_module_version": "1.2.0",
      "model_name": "DropdownModel",
      "state": {
       "_options_labels": [
        "2d_fixed",
        "2d",
        "3d"
       ],
       "description": "model",
       "index": 1,
       "layout": "IPY_MODEL_cfa32745ebd04dfb992444c4c45e14fc",
       "style": "IPY_MODEL_203ba0904d38451fb868de08497577ce"
      }
     },
     "00c8c197117140f2832e70472620dcf6": {
      "model_module": "@jupyter-widgets/controls",
      "model_module_version": "1.2.0",
      "model_name": "DescriptionStyleModel",
      "state": {
       "description_width": ""
      }
     },
     "00d2c26445ad4dca886c63ad1b249952": {
      "model_module": "@jupyter-widgets/controls",
      "model_module_version": "1.2.0",
      "model_name": "DescriptionStyleModel",
      "state": {
       "description_width": ""
      }
     },
     "00de74018a174b87b954fff29cd962b5": {
      "model_module": "@jupyter-widgets/base",
      "model_module_version": "1.0.0",
      "model_name": "LayoutModel",
      "state": {
       "display": "inline"
      }
     },
     "00f6af30c0f74e0aa80c801130e3da5a": {
      "model_module": "@jupyter-widgets/base",
      "model_module_version": "1.0.0",
      "model_name": "LayoutModel",
      "state": {
       "width": "75%"
      }
     },
     "0104da1552564463929855cbc2b05593": {
      "model_module": "@jupyter-widgets/controls",
      "model_module_version": "1.2.0",
      "model_name": "DescriptionStyleModel",
      "state": {
       "description_width": ""
      }
     },
     "01201ffdcbff4b7d99f12629d45e4765": {
      "model_module": "@jupyter-widgets/base",
      "model_module_version": "1.0.0",
      "model_name": "LayoutModel",
      "state": {
       "height": "150px",
       "width": "100%"
      }
     },
     "01736be456ab4639a4e5f0f48f300839": {
      "model_module": "@jupyter-widgets/base",
      "model_module_version": "1.0.0",
      "model_name": "LayoutModel",
      "state": {
       "display": "none"
      }
     },
     "01a04dad67354b949f6a51b8bd6ab6ce": {
      "model_module": "@jupyter-widgets/controls",
      "model_module_version": "1.2.0",
      "model_name": "FloatTextModel",
      "state": {
       "description": "min.",
       "layout": "IPY_MODEL_56176a1911624df796d721ccf19324b6",
       "step": 0.1,
       "style": "IPY_MODEL_b44f50020b3f47899df9d43f22800286",
       "value": 0.5
      }
     },
     "01a2af9cf5104fb89fd4349bdc5dadb0": {
      "model_module": "@jupyter-widgets/controls",
      "model_module_version": "1.2.0",
      "model_name": "ButtonModel",
      "state": {
       "description": "Auto",
       "layout": "IPY_MODEL_6f3d645ca24d406081c03e962d90f5a0",
       "style": "IPY_MODEL_911e291299a9413694e2a31039eee35d"
      }
     },
     "01c8d0a55d0d48fdb32ed0408d82c1f5": {
      "model_module": "@jupyter-widgets/base",
      "model_module_version": "1.0.0",
      "model_name": "LayoutModel",
      "state": {
       "display": "flex",
       "flex_flow": "column wrap",
       "width": "66%"
      }
     },
     "01f6114e99c54035b39fe440e01986c9": {
      "model_module": "@jupyter-widgets/controls",
      "model_module_version": "1.2.0",
      "model_name": "DescriptionStyleModel",
      "state": {
       "description_width": ""
      }
     },
     "01f6fc6969b24911a349404d837bbf45": {
      "model_module": "@jupyter-widgets/base",
      "model_module_version": "1.0.0",
      "model_name": "LayoutModel",
      "state": {}
     },
     "01f7febb058f4a6ab60dfa074be2473d": {
      "model_module": "@jupyter-widgets/base",
      "model_module_version": "1.0.0",
      "model_name": "LayoutModel",
      "state": {}
     },
     "0200b780536d46a68b76eabe0aa9c320": {
      "model_module": "@jupyter-widgets/controls",
      "model_module_version": "1.2.0",
      "model_name": "DropdownModel",
      "state": {
       "_options_labels": [
        "2d_fixed",
        "2d",
        "3d"
       ],
       "description": "model",
       "index": 1,
       "layout": "IPY_MODEL_224958830e62412ab889b6ed9fa99549",
       "style": "IPY_MODEL_238977709bdf4273955dfeab92032af3"
      }
     },
     "0203ed12b70147ab820d372e3bb3afd2": {
      "model_module": "@jupyter-widgets/controls",
      "model_module_version": "1.2.0",
      "model_name": "CheckboxModel",
      "state": {
       "description": "Size range",
       "disabled": false,
       "indent": false,
       "layout": "IPY_MODEL_a2616790db824ffeb65d14eceec14934",
       "style": "IPY_MODEL_ad796e7bca5a42e5a14af119f386b4f3",
       "value": false
      }
     },
     "022d4e6b9d2b4ef29ad13e4759bdf303": {
      "model_module": "@jupyter-widgets/controls",
      "model_module_version": "1.2.0",
      "model_name": "DescriptionStyleModel",
      "state": {
       "description_width": ""
      }
     },
     "0261f9e62b234439873402d336041a69": {
      "model_module": "@jupyter-widgets/base",
      "model_module_version": "1.0.0",
      "model_name": "LayoutModel",
      "state": {
       "display": "flex",
       "flex_flow": "column wrap",
       "width": "66%"
      }
     },
     "027b45db01154a21918c8441fdd464ab": {
      "model_module": "@jupyter-widgets/controls",
      "model_module_version": "1.2.0",
      "model_name": "FloatTextModel",
      "state": {
       "description": "sigma",
       "layout": "IPY_MODEL_cdab3f1ca1a844ac9a1c96886bcb7f1a",
       "step": 0.1,
       "style": "IPY_MODEL_1850dec0b94841749bdb0da2fcf7727e",
       "value": 1
      }
     },
     "0296a0f59d2b495eacb4a67dee643a45": {
      "model_module": "@jupyter-widgets/controls",
      "model_module_version": "1.2.0",
      "model_name": "DescriptionStyleModel",
      "state": {
       "description_width": ""
      }
     },
     "02a6d4c29bb34dc0bc5e9aed5d5a181c": {
      "model_module": "@jupyter-widgets/controls",
      "model_module_version": "1.2.0",
      "model_name": "DescriptionStyleModel",
      "state": {
       "description_width": ""
      }
     },
     "030beaf9a07c41708ef5d2a2e0be05f5": {
      "model_module": "@jupyter-widgets/base",
      "model_module_version": "1.0.0",
      "model_name": "LayoutModel",
      "state": {}
     },
     "036084afd6684ecb9dbf7a29de25ccbe": {
      "model_module": "@jupyter-widgets/controls",
      "model_module_version": "1.2.0",
      "model_name": "HBoxModel",
      "state": {
       "children": [
        "IPY_MODEL_e4b7ecda4ad2471eb30d35e20928ad25",
        "IPY_MODEL_aaf69e05d407466fbe2eec239cc90280"
       ],
       "layout": "IPY_MODEL_52b0b62b8f1f4cd5bce7e1cce59de77c"
      }
     },
     "03a3c44633d2479eb3411c8dabba1b26": {
      "model_module": "@jupyter-widgets/base",
      "model_module_version": "1.0.0",
      "model_name": "LayoutModel",
      "state": {}
     },
     "03aea725465c47fa9e097730c1678540": {
      "model_module": "@jupyter-widgets/base",
      "model_module_version": "1.0.0",
      "model_name": "LayoutModel",
      "state": {
       "display": "none"
      }
     },
     "03bd1f0914ee43919dc47922430145b1": {
      "model_module": "@jupyter-widgets/base",
      "model_module_version": "1.0.0",
      "model_name": "LayoutModel",
      "state": {
       "display": "none"
      }
     },
     "03bdc5d00f804a5f8446fe02ee16e61c": {
      "model_module": "@jupyter-widgets/controls",
      "model_module_version": "1.2.0",
      "model_name": "DescriptionStyleModel",
      "state": {
       "description_width": ""
      }
     },
     "03d007fe573c4c9cbc5e4ea7cb9d0326": {
      "model_module": "@jupyter-widgets/base",
      "model_module_version": "1.0.0",
      "model_name": "LayoutModel",
      "state": {
       "width": "auto"
      }
     },
     "03d928f519d64a2f9d4c52fa72ca46b6": {
      "model_module": "@jupyter-widgets/controls",
      "model_module_version": "1.2.0",
      "model_name": "VBoxModel",
      "state": {
       "children": [
        "IPY_MODEL_c8cf22efdacb441780a9aa8333ed026b",
        "IPY_MODEL_a29e98e632534b93a0297f84f985a715",
        "IPY_MODEL_4e99d039977c47e3b8eba971c359fe29",
        "IPY_MODEL_ab316c8c91c44fa8aaa0cc813e57bfe0",
        "IPY_MODEL_b9d61e8c852c46c0ae27e1f2932f1f1c",
        "IPY_MODEL_e0096b38b7aa4a74a77947079110a333"
       ],
       "layout": "IPY_MODEL_7809e59803954e9ea3f3fb2f18196cbd"
      }
     },
     "0409ab0ac45f4d6b9b8e29003830c6c8": {
      "model_module": "@jupyter-widgets/controls",
      "model_module_version": "1.2.0",
      "model_name": "CheckboxModel",
      "state": {
       "description": "Size range",
       "disabled": false,
       "indent": false,
       "layout": "IPY_MODEL_2e5dcae31e52441794fbc41e8ead87db",
       "style": "IPY_MODEL_d589a64ea0144e829816e9d737a2d6bc",
       "value": false
      }
     },
     "042ebc57e42b4549895c60f4edbf265d": {
      "model_module": "@jupyter-widgets/base",
      "model_module_version": "1.0.0",
      "model_name": "LayoutModel",
      "state": {}
     },
     "0456f5bd127e43acb9f732da112bdd05": {
      "model_module": "@jupyter-widgets/controls",
      "model_module_version": "1.2.0",
      "model_name": "VBoxModel",
      "state": {
       "children": [
        "IPY_MODEL_9e4ae6a9292d4d9fbf87d5349ce243a7",
        "IPY_MODEL_4a51c13f3cd54ae98aa108b595a29848"
       ],
       "layout": "IPY_MODEL_285746af59934c1f9dc7dec16ecc850a"
      }
     },
     "047b67ca52234b498d91b3ffeb8eca13": {
      "model_module": "@jupyter-widgets/controls",
      "model_module_version": "1.2.0",
      "model_name": "DescriptionStyleModel",
      "state": {
       "description_width": ""
      }
     },
     "04c134ec844f48518c4d43fadfc470b3": {
      "model_module": "@jupyter-widgets/controls",
      "model_module_version": "1.2.0",
      "model_name": "DescriptionStyleModel",
      "state": {
       "description_width": ""
      }
     },
     "04fdb9be1ec84e91900284c7a9256bea": {
      "model_module": "@jupyter-widgets/controls",
      "model_module_version": "1.2.0",
      "model_name": "FloatTextModel",
      "state": {
       "description": "radius",
       "layout": "IPY_MODEL_640cbdf5fd58499cbf65b6ac96918d91",
       "step": 0.1,
       "style": "IPY_MODEL_586ea51ad54b431dbb7953698bff4f35",
       "value": 1
      }
     },
     "051997f9d6024dc8af51f2a4058dfa7b": {
      "model_module": "@jupyter-widgets/controls",
      "model_module_version": "1.2.0",
      "model_name": "SelectModel",
      "state": {
       "_options_labels": [
        "sensor-H57/cells-01_SAv-100k_SSS-H57-20k_000_.SPE"
       ],
       "index": 0,
       "layout": "IPY_MODEL_694f05a775e044d99aa44d6e58b4a1df",
       "style": "IPY_MODEL_865d1a7cd7b948548f2f7bb0f5eda00d"
      }
     },
     "0524bbc1993d499ab516047e3e4ae8ef": {
      "model_module": "@jupyter-widgets/base",
      "model_module_version": "1.0.0",
      "model_name": "LayoutModel",
      "state": {}
     },
     "05434a78486b4f4fb282f2cf32bb38c2": {
      "model_module": "@jupyter-widgets/controls",
      "model_module_version": "1.2.0",
      "model_name": "VBoxModel",
      "state": {
       "children": [
        "IPY_MODEL_adf40acda44f4b9b85e18c7a602df93c",
        "IPY_MODEL_11e567c07a2947178f7856bc1e3177b7"
       ],
       "layout": "IPY_MODEL_08c700fd289b431f93dfd8c2acd90d83"
      }
     },
     "0556af0fe8ce4c26887e936312cfee70": {
      "model_module": "@jupyter-widgets/base",
      "model_module_version": "1.0.0",
      "model_name": "LayoutModel",
      "state": {
       "width": "auto"
      }
     },
     "056306537363474c8160e61694a424b4": {
      "model_module": "@jupyter-widgets/base",
      "model_module_version": "1.0.0",
      "model_name": "LayoutModel",
      "state": {}
     },
     "057f5b2e771b4affac01583cff8c1586": {
      "model_module": "@jupyter-widgets/controls",
      "model_module_version": "1.2.0",
      "model_name": "VBoxModel",
      "state": {
       "children": [
        "IPY_MODEL_8d671eebba524806afd5190d5e9a294e",
        "IPY_MODEL_24f230003cf34f44811eff269324db40"
       ],
       "layout": "IPY_MODEL_65630ef9ee4e474da824e0ddc15db440"
      }
     },
     "05b4ec877b804dcbb86c36c410f637c7": {
      "model_module": "@jupyter-widgets/base",
      "model_module_version": "1.0.0",
      "model_name": "LayoutModel",
      "state": {
       "display": "none"
      }
     },
     "05c83d8adb7a4dababc3d43a13d279d9": {
      "model_module": "@jupyter-widgets/controls",
      "model_module_version": "1.2.0",
      "model_name": "FloatTextModel",
      "state": {
       "description": "radius",
       "layout": "IPY_MODEL_172a497724ce402ebdf3e897cdc66b6a",
       "step": 0.1,
       "style": "IPY_MODEL_16f404d292a64112972a0e9303c52ff0",
       "value": 1
      }
     },
     "05d857c2e8504550a4718576d51adb6e": {
      "model_module": "@jupyter-widgets/controls",
      "model_module_version": "1.2.0",
      "model_name": "DescriptionStyleModel",
      "state": {
       "description_width": ""
      }
     },
     "05e0d564a0d3408bba633bcffd12cb3f": {
      "model_module": "@jupyter-widgets/base",
      "model_module_version": "1.0.0",
      "model_name": "LayoutModel",
      "state": {
       "width": "auto"
      }
     },
     "0621e68317c3484c843c55c54ace5a2e": {
      "model_module": "@jupyter-widgets/controls",
      "model_module_version": "1.2.0",
      "model_name": "DescriptionStyleModel",
      "state": {
       "description_width": ""
      }
     },
     "063a0a7144d44c968349e73ffdaafdfe": {
      "model_module": "@jupyter-widgets/controls",
      "model_module_version": "1.2.0",
      "model_name": "DescriptionStyleModel",
      "state": {
       "description_width": ""
      }
     },
     "06913487a458403db576442098aaf641": {
      "model_module": "@jupyter-widgets/controls",
      "model_module_version": "1.2.0",
      "model_name": "FloatTextModel",
      "state": {
       "description": "radius",
       "layout": "IPY_MODEL_3c545a405b674051b41100b62fdf4ca2",
       "step": 0.1,
       "style": "IPY_MODEL_ea0b6a5546d9429ea7de2c7325b94dc9",
       "value": 1
      }
     },
     "06ba97282e1f4df59bebd0e0fd71431e": {
      "model_module": "@jupyter-widgets/controls",
      "model_module_version": "1.2.0",
      "model_name": "DescriptionStyleModel",
      "state": {
       "description_width": ""
      }
     },
     "07322f2872994b62a67e3ecc71961d7c": {
      "model_module": "@jupyter-widgets/base",
      "model_module_version": "1.0.0",
      "model_name": "LayoutModel",
      "state": {
       "height": "150px",
       "width": "100%"
      }
     },
     "07510a80d1154ce0a25057b5c67d278e": {
      "model_module": "@jupyter-widgets/base",
      "model_module_version": "1.0.0",
      "model_name": "LayoutModel",
      "state": {}
     },
     "07751bd64e3b49d794716b8557be9e28": {
      "model_module": "@jupyter-widgets/controls",
      "model_module_version": "1.2.0",
      "model_name": "HBoxModel",
      "state": {
       "children": [
        "IPY_MODEL_8dc6f662a26d4004be642e35900832e6",
        "IPY_MODEL_c9281a9444b342ccaeea5bbe41437cdf"
       ],
       "layout": "IPY_MODEL_0d75f16430f04176b6d02fbe5a4cb578"
      }
     },
     "078f43c2886840b78d1209cb7dd1867a": {
      "model_module": "@jupyter-widgets/base",
      "model_module_version": "1.0.0",
      "model_name": "LayoutModel",
      "state": {}
     },
     "07ac523a740a4fe68f24c1ab8535c730": {
      "model_module": "@jupyter-widgets/base",
      "model_module_version": "1.0.0",
      "model_name": "LayoutModel",
      "state": {
       "width": "auto"
      }
     },
     "07ba1d809e7c4ee195754d8378541f95": {
      "model_module": "@jupyter-widgets/controls",
      "model_module_version": "1.2.0",
      "model_name": "FloatTextModel",
      "state": {
       "layout": "IPY_MODEL_fae526bc39354f31b449fbcf1ccffccb",
       "step": 0.1,
       "style": "IPY_MODEL_e372ba2d74b8463db4786dc761cb09eb",
       "value": 3
      }
     },
     "07c8ae6842234a828cdc5b7ad6386b73": {
      "model_module": "@jupyter-widgets/controls",
      "model_module_version": "1.2.0",
      "model_name": "FloatTextModel",
      "state": {
       "description": "radius",
       "layout": "IPY_MODEL_4100fe56dc0b474794a0e0181f531fa2",
       "step": 0.1,
       "style": "IPY_MODEL_e671edec20394f92b29c23c6cad1c372",
       "value": 1
      }
     },
     "07cc9f950bd74e1d9b27e3b600f67ccb": {
      "model_module": "@jupyter-widgets/controls",
      "model_module_version": "1.2.0",
      "model_name": "DescriptionStyleModel",
      "state": {
       "description_width": ""
      }
     },
     "08031491c93e44c89351b873ef2d2793": {
      "model_module": "@jupyter-widgets/base",
      "model_module_version": "1.0.0",
      "model_name": "LayoutModel",
      "state": {
       "display": "flex",
       "flex_flow": "column wrap",
       "width": "66%"
      }
     },
     "083e49bdb54143db8c07ed01ba581d4c": {
      "model_module": "@jupyter-widgets/controls",
      "model_module_version": "1.2.0",
      "model_name": "DescriptionStyleModel",
      "state": {
       "description_width": ""
      }
     },
     "0842280875f046f9bd4875c3380bfbad": {
      "model_module": "@jupyter-widgets/controls",
      "model_module_version": "1.2.0",
      "model_name": "SliderStyleModel",
      "state": {
       "description_width": ""
      }
     },
     "0861d974a75343e6ad8cf9bb30904b63": {
      "model_module": "@jupyter-widgets/base",
      "model_module_version": "1.0.0",
      "model_name": "LayoutModel",
      "state": {}
     },
     "08c700fd289b431f93dfd8c2acd90d83": {
      "model_module": "@jupyter-widgets/base",
      "model_module_version": "1.0.0",
      "model_name": "LayoutModel",
      "state": {}
     },
     "08cbf097b5044a9e9658b1d5c04785f4": {
      "model_module": "@jupyter-widgets/base",
      "model_module_version": "1.0.0",
      "model_name": "LayoutModel",
      "state": {}
     },
     "08d3390a8eb14b92a51410e0026a657c": {
      "model_module": "@jupyter-widgets/base",
      "model_module_version": "1.0.0",
      "model_name": "LayoutModel",
      "state": {
       "width": "auto"
      }
     },
     "091ad8f59a174e4c8ab5ec61361a4982": {
      "model_module": "@jupyter-widgets/controls",
      "model_module_version": "1.2.0",
      "model_name": "HBoxModel",
      "state": {
       "children": [
        "IPY_MODEL_0c2c821c11174c3181f541a202aabba8",
        "IPY_MODEL_cb1aa06d48374c2a8b0ffa29b92d25dc",
        "IPY_MODEL_a0a29a1f59f34253bb259655681ce3bd"
       ],
       "layout": "IPY_MODEL_54ee6f9886ed45c598dc7148a36a5ee5"
      }
     },
     "094dc0a79c5448bcb2cc027f7dbdbf13": {
      "model_module": "@jupyter-widgets/controls",
      "model_module_version": "1.2.0",
      "model_name": "DescriptionStyleModel",
      "state": {
       "description_width": ""
      }
     },
     "09565482a60f468594efd05d8d47ce33": {
      "model_module": "@jupyter-widgets/controls",
      "model_module_version": "1.2.0",
      "model_name": "DescriptionStyleModel",
      "state": {
       "description_width": ""
      }
     },
     "0957f0c2e0354c03bd87e808879cf3bb": {
      "model_module": "@jupyter-widgets/base",
      "model_module_version": "1.0.0",
      "model_name": "LayoutModel",
      "state": {
       "display": "inline"
      }
     },
     "095a4faaffa94acba0dd70dc2c9df44f": {
      "model_module": "@jupyter-widgets/controls",
      "model_module_version": "1.2.0",
      "model_name": "SliderStyleModel",
      "state": {
       "description_width": ""
      }
     },
     "098bb99af1444004b3183b58bee89a05": {
      "model_module": "@jupyter-widgets/base",
      "model_module_version": "1.0.0",
      "model_name": "LayoutModel",
      "state": {
       "display": "inline"
      }
     },
     "099afe946aed4e08b18ee60ecfe3b28b": {
      "model_module": "@jupyter-widgets/controls",
      "model_module_version": "1.2.0",
      "model_name": "HBoxModel",
      "state": {
       "children": [
        "IPY_MODEL_5e1159f85fd74644919df2bb3f051ffa",
        "IPY_MODEL_27c2f36460284101b93dd9865d56f8cd"
       ],
       "layout": "IPY_MODEL_c866b561794e42ffbd8a5935d2516349"
      }
     },
     "09b5f256ed1e4788b8e416dda6f8b13d": {
      "model_module": "@jupyter-widgets/controls",
      "model_module_version": "1.2.0",
      "model_name": "SliderStyleModel",
      "state": {
       "description_width": ""
      }
     },
     "09c44b7191ff4e899246f49643253bb7": {
      "model_module": "@jupyter-widgets/controls",
      "model_module_version": "1.2.0",
      "model_name": "DescriptionStyleModel",
      "state": {
       "description_width": ""
      }
     },
     "0a68c8db6a294839898bb1fc2f78bc02": {
      "model_module": "@jupyter-widgets/controls",
      "model_module_version": "1.2.0",
      "model_name": "SelectModel",
      "state": {
       "_options_labels": [
        "sensor-H57/cells-01_SAv-100k_SSS-H57-20k_000_.SPE"
       ],
       "index": 0,
       "layout": "IPY_MODEL_33b505d4898344e08bee75837efdc0c8",
       "style": "IPY_MODEL_3c575d413417433c9323336b0c3bb3ab"
      }
     },
     "0ab698786cec42bc8fdf23c17c963c07": {
      "model_module": "@jupyter-widgets/controls",
      "model_module_version": "1.2.0",
      "model_name": "CheckboxModel",
      "state": {
       "description": "Min. distance",
       "disabled": false,
       "indent": false,
       "layout": "IPY_MODEL_fb4924fb8fa347eb9e2cb3a4a5a80dbb",
       "style": "IPY_MODEL_908ebcf6e38043ebb72d731b3bc73225",
       "value": true
      }
     },
     "0ab92ff91b114e2daa93551ba7b31491": {
      "model_module": "@jupyter-widgets/base",
      "model_module_version": "1.0.0",
      "model_name": "LayoutModel",
      "state": {
       "width": "auto"
      }
     },
     "0adcae1437194ade8015c833911ed5f2": {
      "model_module": "@jupyter-widgets/base",
      "model_module_version": "1.0.0",
      "model_name": "LayoutModel",
      "state": {
       "display": "none"
      }
     },
     "0b016037b1b242e09c406091965d5de8": {
      "model_module": "@jupyter-widgets/controls",
      "model_module_version": "1.2.0",
      "model_name": "DescriptionStyleModel",
      "state": {
       "description_width": ""
      }
     },
     "0b1698841e0d421eb716eafdd81dd2d8": {
      "model_module": "@jupyter-widgets/base",
      "model_module_version": "1.0.0",
      "model_name": "LayoutModel",
      "state": {
       "width": "100%"
      }
     },
     "0b26403315784fb28513a6a4c21f2802": {
      "model_module": "@jupyter-widgets/base",
      "model_module_version": "1.0.0",
      "model_name": "LayoutModel",
      "state": {}
     },
     "0b268781f879496594ca2800dad1d7b6": {
      "model_module": "@jupyter-widgets/controls",
      "model_module_version": "1.2.0",
      "model_name": "VBoxModel",
      "state": {
       "children": [
        "IPY_MODEL_04fdb9be1ec84e91900284c7a9256bea",
        "IPY_MODEL_b80d9fa544a9403f812443b83f778e0b",
        "IPY_MODEL_c02e2719552f4f6f8a7163d508f464e5",
        "IPY_MODEL_99ac8c78982f43ed9a357414fce0e531",
        "IPY_MODEL_1c1dc811f4d24013a84188335929fb18",
        "IPY_MODEL_fd853b0b90924fb6a53b45d7f2f9f5de"
       ],
       "layout": "IPY_MODEL_c0c6fbf615274e70adf571485cf9d79d"
      }
     },
     "0b4f80b3350848c2bb999d8c38dce5e9": {
      "model_module": "@jupyter-widgets/controls",
      "model_module_version": "1.2.0",
      "model_name": "DropdownModel",
      "state": {
       "_options_labels": [
        "Identity",
        "Cg",
        "Gaussian"
       ],
       "description": "find filter",
       "index": 1,
       "layout": "IPY_MODEL_1298c2f018fa484983e6191c3898cf91",
       "style": "IPY_MODEL_af5d88a7eb814276beaffbf600ae6e4b"
      }
     },
     "0b7488dc0c1a4be3a881714889f948cc": {
      "model_module": "@jupyter-widgets/controls",
      "model_module_version": "1.2.0",
      "model_name": "BoundedIntTextModel",
      "state": {
       "description": "frame",
       "layout": "IPY_MODEL_d73383bfe9e84b2091b2f51a95d1fb57",
       "max": 0,
       "style": "IPY_MODEL_d7c003ad030e43d7920d916a0cd7b2d3"
      }
     },
     "0bb803444c5846469a6bf6be5e47a7e4": {
      "model_module": "@jupyter-widgets/controls",
      "model_module_version": "1.2.0",
      "model_name": "DescriptionStyleModel",
      "state": {
       "description_width": ""
      }
     },
     "0bbae70001a54bdfa7504e058d9a2e55": {
      "model_module": "@jupyter-widgets/base",
      "model_module_version": "1.0.0",
      "model_name": "LayoutModel",
      "state": {
       "display": "none"
      }
     },
     "0bd360a680314cf9ae5ad3f3958c587e": {
      "model_module": "@jupyter-widgets/base",
      "model_module_version": "1.0.0",
      "model_name": "LayoutModel",
      "state": {
       "width": "100%"
      }
     },
     "0c124c81a4ff4f639e468eb91b806fcc": {
      "model_module": "@jupyter-widgets/controls",
      "model_module_version": "1.2.0",
      "model_name": "DescriptionStyleModel",
      "state": {
       "description_width": ""
      }
     },
     "0c2c821c11174c3181f541a202aabba8": {
      "model_module": "@jupyter-widgets/controls",
      "model_module_version": "1.2.0",
      "model_name": "IntRangeSliderModel",
      "state": {
       "_model_name": "IntRangeSliderModel",
       "_view_name": "IntRangeSliderView",
       "layout": "IPY_MODEL_00f6af30c0f74e0aa80c801130e3da5a",
       "max": 65535,
       "style": "IPY_MODEL_0dea4a80553942d89e25df014d6ee707",
       "value": [
        133,
        967
       ]
      }
     },
     "0c6814e20e264632b34c7a9ba47b467d": {
      "model_module": "@jupyter-widgets/base",
      "model_module_version": "1.0.0",
      "model_name": "LayoutModel",
      "state": {}
     },
     "0c9b1166092a416bafb4ec0991ca6558": {
      "model_module": "@jupyter-widgets/base",
      "model_module_version": "1.0.0",
      "model_name": "LayoutModel",
      "state": {
       "width": "auto"
      }
     },
     "0cc2a9ebd0594ea6838949bf57e197fc": {
      "model_module": "@jupyter-widgets/controls",
      "model_module_version": "1.2.0",
      "model_name": "CheckboxModel",
      "state": {
       "description": "Show loc.",
       "disabled": false,
       "indent": false,
       "layout": "IPY_MODEL_37ef0d8b772140dfbf59b4763913ae43",
       "style": "IPY_MODEL_51367cd976a94f70a43509ca261a2281",
       "value": true
      }
     },
     "0cd50c8a59d14bb2ba55e998b7433045": {
      "model_module": "@jupyter-widgets/controls",
      "model_module_version": "1.2.0",
      "model_name": "ButtonStyleModel",
      "state": {}
     },
     "0cdd03ac64564b4c9f06551bd032c8e4": {
      "model_module": "@jupyter-widgets/controls",
      "model_module_version": "1.2.0",
      "model_name": "DescriptionStyleModel",
      "state": {
       "description_width": ""
      }
     },
     "0cde23ecad0b4d89b0284fcc52027cab": {
      "model_module": "@jupyter-widgets/controls",
      "model_module_version": "1.2.0",
      "model_name": "DescriptionStyleModel",
      "state": {
       "description_width": ""
      }
     },
     "0cea7e65dde3457aa96dbed8b7568a9b": {
      "model_module": "@jupyter-widgets/controls",
      "model_module_version": "1.2.0",
      "model_name": "FloatTextModel",
      "state": {
       "layout": "IPY_MODEL_fc6acbe5624b473093f3740247f56ee1",
       "step": 0.1,
       "style": "IPY_MODEL_3b3b7dd44e824c8b806aee7c8bb1e065",
       "value": 1
      }
     },
     "0d28e98bb1b740e9b120e4d2ed3ef1b9": {
      "model_module": "@jupyter-widgets/base",
      "model_module_version": "1.0.0",
      "model_name": "LayoutModel",
      "state": {
       "width": "auto"
      }
     },
     "0d3893c8ef9e4b89a5cb9014ed8248c1": {
      "model_module": "@jupyter-widgets/controls",
      "model_module_version": "1.2.0",
      "model_name": "DescriptionStyleModel",
      "state": {
       "description_width": ""
      }
     },
     "0d66c1f375ac41059427cca0ddc0d82a": {
      "model_module": "@jupyter-widgets/controls",
      "model_module_version": "1.2.0",
      "model_name": "DescriptionStyleModel",
      "state": {
       "description_width": ""
      }
     },
     "0d6a2440340e489fad4981a43b1605fb": {
      "model_module": "@jupyter-widgets/base",
      "model_module_version": "1.0.0",
      "model_name": "LayoutModel",
      "state": {
       "height": "150px",
       "width": "100%"
      }
     },
     "0d75f16430f04176b6d02fbe5a4cb578": {
      "model_module": "@jupyter-widgets/base",
      "model_module_version": "1.0.0",
      "model_name": "LayoutModel",
      "state": {}
     },
     "0dad7982ad9346ffab27dbee023aab10": {
      "model_module": "@jupyter-widgets/controls",
      "model_module_version": "1.2.0",
      "model_name": "IntTextModel",
      "state": {
       "description": "feat. size",
       "layout": "IPY_MODEL_90aad56497fd4a5ea38f011e38008929",
       "step": 1,
       "style": "IPY_MODEL_d2f150c4a8744343a106dbf84685e7dc",
       "value": 3
      }
     },
     "0de1c5355cd847b3a4c630d31a3c7fb3": {
      "model_module": "@jupyter-widgets/controls",
      "model_module_version": "1.2.0",
      "model_name": "SelectModel",
      "state": {
       "_options_labels": [
        "data/beads/beads_000_.SPE",
        "data/beads/beads_001_.SPE",
        "data/beads/beads_002_.SPE",
        "data/beads/beads_003_.SPE",
        "data/beads/beads_004_.SPE",
        "data/beads/beads_005_.SPE",
        "data/beads/beads_006_.SPE",
        "data/beads/beads_007_.SPE",
        "data/beads/beads_008_.SPE",
        "data/beads/beads_009_.SPE"
       ],
       "index": 2,
       "layout": "IPY_MODEL_de5dcfa265124cf994457d534f2c4215",
       "style": "IPY_MODEL_99c464f01fd644c0a79237b476adc7af"
      }
     },
     "0dea4a80553942d89e25df014d6ee707": {
      "model_module": "@jupyter-widgets/controls",
      "model_module_version": "1.2.0",
      "model_name": "SliderStyleModel",
      "state": {
       "description_width": ""
      }
     },
     "0e0fc3f0530442bba3c7061cba46620f": {
      "model_module": "@jupyter-widgets/base",
      "model_module_version": "1.0.0",
      "model_name": "LayoutModel",
      "state": {
       "display": "flex",
       "flex_flow": "column wrap",
       "width": "66%"
      }
     },
     "0e15b4ab70e64fb69be8687a31917ad0": {
      "model_module": "@jupyter-widgets/base",
      "model_module_version": "1.0.0",
      "model_name": "LayoutModel",
      "state": {
       "width": "auto"
      }
     },
     "0e4f94f81e074cf5a19d35943215a729": {
      "model_module": "@jupyter-widgets/controls",
      "model_module_version": "1.2.0",
      "model_name": "CheckboxModel",
      "state": {
       "description": "Min. distance",
       "disabled": false,
       "indent": false,
       "layout": "IPY_MODEL_3be64c840f9c483681797b6d67d67b27",
       "style": "IPY_MODEL_1cd9165871484cebae6f2ee4b0feeb3a",
       "value": false
      }
     },
     "0e53dd625aaf4141a1a499dd154d5c97": {
      "model_module": "@jupyter-widgets/controls",
      "model_module_version": "1.2.0",
      "model_name": "FloatTextModel",
      "state": {
       "description": "min.",
       "layout": "IPY_MODEL_ef96b9ee0b834f7ebd60e3a76226f34e",
       "step": 0.1,
       "style": "IPY_MODEL_af599191dcb649338ccbb3cea8cfeb03",
       "value": 0.5
      }
     },
     "0e846b7ba4e8427b88c38ae508539120": {
      "model_module": "@jupyter-widgets/controls",
      "model_module_version": "1.2.0",
      "model_name": "DescriptionStyleModel",
      "state": {
       "description_width": ""
      }
     },
     "0e96033702ba4048a8f6c44f2bd69146": {
      "model_module": "@jupyter-widgets/controls",
      "model_module_version": "1.2.0",
      "model_name": "HBoxModel",
      "state": {
       "children": [
        "IPY_MODEL_56ddf30c3b54448eaac9adb02d973201",
        "IPY_MODEL_6da725d532d3441487b7c2d1168108aa"
       ],
       "layout": "IPY_MODEL_5663bea537e443eeaf6cc92c7c239ccd"
      }
     },
     "0ebbc1d754194a6794d3a380493e0363": {
      "model_module": "@jupyter-widgets/controls",
      "model_module_version": "1.2.0",
      "model_name": "HBoxModel",
      "state": {
       "children": [
        "IPY_MODEL_ebfe0329c9a54c26a8d0d1bc90fd1a37",
        "IPY_MODEL_c76a669be50c46c1b514303101b0de0e",
        "IPY_MODEL_74ba6fa1846d4103a14d6c2c08919732"
       ],
       "layout": "IPY_MODEL_810a209724294271b83a49d267f14a22"
      }
     },
     "0ec48eb6111c4e2d84fcf0f14db3e192": {
      "model_module": "@jupyter-widgets/controls",
      "model_module_version": "1.2.0",
      "model_name": "HBoxModel",
      "state": {
       "children": [
        "IPY_MODEL_f7f0349594174e56aa4cc491edcb7149",
        "IPY_MODEL_43d66b0944744ebda42365d083675a51"
       ],
       "layout": "IPY_MODEL_4d26ee6060214ff5b2a24bb3784c0591"
      }
     },
     "0ecb2e4660f94784a1958fd57ec03801": {
      "model_module": "@jupyter-widgets/base",
      "model_module_version": "1.0.0",
      "model_name": "LayoutModel",
      "state": {}
     },
     "0ef1d040c6c04fb7864e43dfd058b198": {
      "model_module": "@jupyter-widgets/controls",
      "model_module_version": "1.2.0",
      "model_name": "FloatTextModel",
      "state": {
       "description": "threshold",
       "layout": "IPY_MODEL_958e349bb2f843249adb8d750bd6ce15",
       "step": 10,
       "style": "IPY_MODEL_9cd8c13726d9400fb744a6ad4f4ee915",
       "value": 1000
      }
     },
     "0f1e09de113d4707bfbd3b083df35a52": {
      "model_module": "@jupyter-widgets/controls",
      "model_module_version": "1.2.0",
      "model_name": "DropdownModel",
      "state": {
       "_options_labels": [
        "2d_fixed",
        "2d",
        "3d"
       ],
       "description": "model",
       "index": 1,
       "layout": "IPY_MODEL_01f6fc6969b24911a349404d837bbf45",
       "style": "IPY_MODEL_2a6e1b9ea69042ccb479bd8922b4c3e3"
      }
     },
     "0f239a73f8c247669d67dbaed55521ee": {
      "model_module": "@jupyter-widgets/controls",
      "model_module_version": "1.2.0",
      "model_name": "FloatTextModel",
      "state": {
       "description": "max.",
       "layout": "IPY_MODEL_9c1237db10024290bd907058ca89ce61",
       "step": 0.1,
       "style": "IPY_MODEL_1a3ce324352f43739e089ba40bb8356d",
       "value": 2
      }
     },
     "0f6bb27f3b3e40e092dfb62abeb2476e": {
      "model_module": "@jupyter-widgets/base",
      "model_module_version": "1.0.0",
      "model_name": "LayoutModel",
      "state": {}
     },
     "0f6cb1432de1435a9412ac14c5c56d0b": {
      "model_module": "@jupyter-widgets/controls",
      "model_module_version": "1.2.0",
      "model_name": "DescriptionStyleModel",
      "state": {
       "description_width": ""
      }
     },
     "0f71c59db5aa4ea2b4769b5fea8c042f": {
      "model_module": "@jupyter-widgets/controls",
      "model_module_version": "1.2.0",
      "model_name": "DropdownModel",
      "state": {
       "_options_labels": [
        "Identity",
        "Cg",
        "Gaussian"
       ],
       "description": "find filter",
       "index": 1,
       "layout": "IPY_MODEL_b6a004b7e5574931b253328f1ad72624",
       "style": "IPY_MODEL_00d2c26445ad4dca886c63ad1b249952"
      }
     },
     "0fbf87dece764104b2cc5449cc9c7045": {
      "model_module": "@jupyter-widgets/base",
      "model_module_version": "1.0.0",
      "model_name": "LayoutModel",
      "state": {
       "width": "auto"
      }
     },
     "0fd64fed8a98495887e9ff49fff9d153": {
      "model_module": "@jupyter-widgets/controls",
      "model_module_version": "1.2.0",
      "model_name": "HBoxModel",
      "state": {
       "children": [
        "IPY_MODEL_05434a78486b4f4fb282f2cf32bb38c2",
        "IPY_MODEL_0b268781f879496594ca2800dad1d7b6"
       ],
       "layout": "IPY_MODEL_ecc12122d14a49e08bd8d8a6abf47879"
      }
     },
     "0fdde6d3a31a4ddb847a09ae10b05383": {
      "model_module": "@jupyter-widgets/controls",
      "model_module_version": "1.2.0",
      "model_name": "FloatTextModel",
      "state": {
       "description": "radius",
       "layout": "IPY_MODEL_6abdc33bf74742bc8631b54d38dc7eac",
       "step": 0.1,
       "style": "IPY_MODEL_e0c21e017fae4469abcf38c5338a9fcd",
       "value": 1
      }
     },
     "1009cd49c97e4206874e152e3db862bb": {
      "model_module": "@jupyter-widgets/base",
      "model_module_version": "1.0.0",
      "model_name": "LayoutModel",
      "state": {
       "display": "inline"
      }
     },
     "104e27273701462387b2cccb8e04aaf3": {
      "model_module": "@jupyter-widgets/controls",
      "model_module_version": "1.2.0",
      "model_name": "HBoxModel",
      "state": {
       "children": [
        "IPY_MODEL_dca9dd971b584ed1885dee7f185ae186",
        "IPY_MODEL_236ced0324ff408f86c0ce05e6e95632"
       ],
       "layout": "IPY_MODEL_9859e0a4f72b43af9a1a7f26e9c2eb1d"
      }
     },
     "105a5f4d969c4f2fbe2b7101b1a7d737": {
      "model_module": "@jupyter-widgets/base",
      "model_module_version": "1.0.0",
      "model_name": "LayoutModel",
      "state": {
       "width": "auto"
      }
     },
     "10930e794dea4b8bb113968a2230e0bb": {
      "model_module": "@jupyter-widgets/controls",
      "model_module_version": "1.2.0",
      "model_name": "VBoxModel",
      "state": {
       "children": [
        "IPY_MODEL_a9d8db04f91f4a78885048e47fe7d975",
        "IPY_MODEL_26d2919eacc5468aa126e4cfc0d56667",
        "IPY_MODEL_cbe91f751e1345588c0f8f841dba1a7b",
        "IPY_MODEL_b0ef45ddc9b64ae4b529c290407ec1f0",
        "IPY_MODEL_30a0241e5c814472b05714b48f2ffe88",
        "IPY_MODEL_25c7833c2c09419385454a435a839d35"
       ],
       "layout": "IPY_MODEL_90e802b1fc6a4e63aaed8c6f15075403"
      }
     },
     "10d29956cd704a7abe4c63434fd680b1": {
      "model_module": "@jupyter-widgets/controls",
      "model_module_version": "1.2.0",
      "model_name": "HBoxModel",
      "state": {
       "children": [
        "IPY_MODEL_4db7d530e0c34e82a4bf095e64845645",
        "IPY_MODEL_d2ec2c846e5f41738e5cf8d5b73514c9",
        "IPY_MODEL_9281a656a23d43bf85a38bb834ee710c"
       ],
       "layout": "IPY_MODEL_96306988e5d94606a1f1a51d0796167d"
      }
     },
     "1140ea0dbb964fe495fb0ac563e9eb3c": {
      "model_module": "@jupyter-widgets/controls",
      "model_module_version": "1.2.0",
      "model_name": "DescriptionStyleModel",
      "state": {
       "description_width": ""
      }
     },
     "1141d8cb2a8148a48ac1b6503f8c1ee9": {
      "model_module": "@jupyter-widgets/base",
      "model_module_version": "1.0.0",
      "model_name": "LayoutModel",
      "state": {}
     },
     "114e2f7fb777473c8b586bfcf3cadabc": {
      "model_module": "@jupyter-widgets/controls",
      "model_module_version": "1.2.0",
      "model_name": "FloatTextModel",
      "state": {
       "description": "min.",
       "layout": "IPY_MODEL_5cfae39b4ad94a99ac82ed3735cb7ac7",
       "step": 0.1,
       "style": "IPY_MODEL_4a68f37c1a214fffa9dd0d7700cf194e",
       "value": 0.5
      }
     },
     "1190408936e74c2f86398b535c88453e": {
      "model_module": "@jupyter-widgets/base",
      "model_module_version": "1.0.0",
      "model_name": "LayoutModel",
      "state": {}
     },
     "1191e59b698f41caac1f2543b9ec672d": {
      "model_module": "@jupyter-widgets/controls",
      "model_module_version": "1.2.0",
      "model_name": "VBoxModel",
      "state": {
       "children": [
        "IPY_MODEL_7f73ff4f83394c04820b1cf4828cff07",
        "IPY_MODEL_714df60064f0460cb9bc52cfb29760a1",
        "IPY_MODEL_c3cef7fe114b456782edabca88e03ff7"
       ],
       "layout": "IPY_MODEL_ca65cbf710a34eb2af2f0e54479139a8"
      }
     },
     "11b0a6c6cf96408bbd24e9bb3b9ec223": {
      "model_module": "@jupyter-widgets/base",
      "model_module_version": "1.0.0",
      "model_name": "LayoutModel",
      "state": {
       "width": "auto"
      }
     },
     "11bc5b1e3dc949a284eaa6fedf5ca20e": {
      "model_module": "@jupyter-widgets/base",
      "model_module_version": "1.0.0",
      "model_name": "LayoutModel",
      "state": {
       "width": "100%"
      }
     },
     "11e567c07a2947178f7856bc1e3177b7": {
      "model_module": "@jupyter-widgets/controls",
      "model_module_version": "1.2.0",
      "model_name": "BoundedIntTextModel",
      "state": {
       "description": "frame",
       "layout": "IPY_MODEL_0b26403315784fb28513a6a4c21f2802",
       "max": 49,
       "style": "IPY_MODEL_47584766f8314f85a70a4f38066c9eff"
      }
     },
     "11ee04842b9941189f848983bbd33060": {
      "model_module": "@jupyter-widgets/controls",
      "model_module_version": "1.2.0",
      "model_name": "DescriptionStyleModel",
      "state": {
       "description_width": ""
      }
     },
     "120e3330344a49d09454f506e17883f3": {
      "model_module": "@jupyter-widgets/controls",
      "model_module_version": "1.2.0",
      "model_name": "DescriptionStyleModel",
      "state": {
       "description_width": ""
      }
     },
     "125e07c7c1e04324b46ede98c53c63a4": {
      "model_module": "@jupyter-widgets/controls",
      "model_module_version": "1.2.0",
      "model_name": "DescriptionStyleModel",
      "state": {
       "description_width": ""
      }
     },
     "12980f81724142febe19018a4167f93d": {
      "model_module": "@jupyter-widgets/base",
      "model_module_version": "1.0.0",
      "model_name": "LayoutModel",
      "state": {
       "height": "150px",
       "width": "100%"
      }
     },
     "1298c2f018fa484983e6191c3898cf91": {
      "model_module": "@jupyter-widgets/base",
      "model_module_version": "1.0.0",
      "model_name": "LayoutModel",
      "state": {}
     },
     "129fbcfc47dd431bb83dc04e5b77badc": {
      "model_module": "@jupyter-widgets/base",
      "model_module_version": "1.0.0",
      "model_name": "LayoutModel",
      "state": {}
     },
     "12a71bb1fa3543c4a44273b64a802864": {
      "model_module": "@jupyter-widgets/controls",
      "model_module_version": "1.2.0",
      "model_name": "DescriptionStyleModel",
      "state": {
       "description_width": ""
      }
     },
     "12ac72ede8384674adc3df71072a70fe": {
      "model_module": "@jupyter-widgets/controls",
      "model_module_version": "1.2.0",
      "model_name": "SliderStyleModel",
      "state": {
       "description_width": ""
      }
     },
     "12d202bf4c084227bba83c3e9ada6aed": {
      "model_module": "@jupyter-widgets/controls",
      "model_module_version": "1.2.0",
      "model_name": "CheckboxModel",
      "state": {
       "description": "Min. distance",
       "disabled": false,
       "indent": false,
       "layout": "IPY_MODEL_7e804dfa5c76426e93cae68a9fbae361",
       "style": "IPY_MODEL_2dacbaa2b3094d1a80a90e4ec97b39e8",
       "value": true
      }
     },
     "12e003f48a8e42dcb76762eb7dbfbd59": {
      "model_module": "@jupyter-widgets/controls",
      "model_module_version": "1.2.0",
      "model_name": "ButtonStyleModel",
      "state": {}
     },
     "12e3aca5f7a3466baf8ea7382af3da63": {
      "model_module": "@jupyter-widgets/controls",
      "model_module_version": "1.2.0",
      "model_name": "DescriptionStyleModel",
      "state": {
       "description_width": ""
      }
     },
     "131d72ed5e92478eb026faf47c0daf88": {
      "model_module": "@jupyter-widgets/controls",
      "model_module_version": "1.2.0",
      "model_name": "DescriptionStyleModel",
      "state": {
       "description_width": ""
      }
     },
     "1349499d518a404598f1082519609c97": {
      "model_module": "@jupyter-widgets/base",
      "model_module_version": "1.0.0",
      "model_name": "LayoutModel",
      "state": {}
     },
     "140bc70604c44cd0b1ee487d0c9276c6": {
      "model_module": "@jupyter-widgets/base",
      "model_module_version": "1.0.0",
      "model_name": "LayoutModel",
      "state": {
       "width": "auto"
      }
     },
     "140ec12a11b9452bbfb35586d4dcede5": {
      "model_module": "@jupyter-widgets/controls",
      "model_module_version": "1.2.0",
      "model_name": "DescriptionStyleModel",
      "state": {
       "description_width": ""
      }
     },
     "1426a3465bbb49f9a45da3139f641ba9": {
      "model_module": "@jupyter-widgets/controls",
      "model_module_version": "1.2.0",
      "model_name": "DescriptionStyleModel",
      "state": {
       "description_width": ""
      }
     },
     "14692f2452074add81ccbce647b3a11e": {
      "model_module": "@jupyter-widgets/base",
      "model_module_version": "1.0.0",
      "model_name": "LayoutModel",
      "state": {
       "display": "none"
      }
     },
     "148091cf6441474c8ef54f7f093ea314": {
      "model_module": "@jupyter-widgets/base",
      "model_module_version": "1.0.0",
      "model_name": "LayoutModel",
      "state": {
       "border": "1px solid gray"
      }
     },
     "1484403c339c42d881d837479a6b348b": {
      "model_module": "@jupyter-widgets/controls",
      "model_module_version": "1.2.0",
      "model_name": "DescriptionStyleModel",
      "state": {
       "description_width": ""
      }
     },
     "1494528ace2c4c4db584278ebb8209ab": {
      "model_module": "@jupyter-widgets/controls",
      "model_module_version": "1.2.0",
      "model_name": "DescriptionStyleModel",
      "state": {
       "description_width": ""
      }
     },
     "14d5221e58f840aa88183d9af9408333": {
      "model_module": "@jupyter-widgets/controls",
      "model_module_version": "1.2.0",
      "model_name": "IntRangeSliderModel",
      "state": {
       "_model_name": "IntRangeSliderModel",
       "_view_name": "IntRangeSliderView",
       "layout": "IPY_MODEL_2df394f6bb7e4aada10f1ba8d918d4fb",
       "max": 65535,
       "style": "IPY_MODEL_ad174e487e694b738f5f19e1e7128916",
       "value": [
        134,
        25393
       ]
      }
     },
     "14df7f8e48284943bcb56f0d4e6b4518": {
      "model_module": "@jupyter-widgets/base",
      "model_module_version": "1.0.0",
      "model_name": "LayoutModel",
      "state": {}
     },
     "14e0f10b53a54f6981ae1f49c5ec1319": {
      "model_module": "@jupyter-widgets/controls",
      "model_module_version": "1.2.0",
      "model_name": "DescriptionStyleModel",
      "state": {
       "description_width": ""
      }
     },
     "15113472ac644c9dafe9aa5fd79b2ebc": {
      "model_module": "@jupyter-widgets/base",
      "model_module_version": "1.0.0",
      "model_name": "LayoutModel",
      "state": {
       "width": "auto"
      }
     },
     "1538691f74b44e72ac2a71f43fa8d908": {
      "model_module": "@jupyter-widgets/base",
      "model_module_version": "1.0.0",
      "model_name": "LayoutModel",
      "state": {
       "display": "none"
      }
     },
     "156fd5a9049b4a34bdafcf5399c6a636": {
      "model_module": "@jupyter-widgets/controls",
      "model_module_version": "1.2.0",
      "model_name": "FloatTextModel",
      "state": {
       "description": "radius",
       "layout": "IPY_MODEL_c0d5b515691a4f1bb53ebd8f89b9dd30",
       "step": 0.1,
       "style": "IPY_MODEL_7897d3f52a6c431889148c1404a7ad50",
       "value": 1
      }
     },
     "15fd5ddeea9b4b3ebf7f195fc013e804": {
      "model_module": "@jupyter-widgets/controls",
      "model_module_version": "1.2.0",
      "model_name": "FloatTextModel",
      "state": {
       "description": "max.",
       "layout": "IPY_MODEL_4365f161aa654dceb1f11c71ad69e059",
       "step": 0.1,
       "style": "IPY_MODEL_4c5be8f363bc45f38ed94765b9e7a6c9",
       "value": 2
      }
     },
     "1602f5feb09c4d74b13d2ed7587d5a03": {
      "model_module": "@jupyter-widgets/base",
      "model_module_version": "1.0.0",
      "model_name": "LayoutModel",
      "state": {
       "display": "none"
      }
     },
     "1618f4b3399c42758f19fedc025728c5": {
      "model_module": "@jupyter-widgets/base",
      "model_module_version": "1.0.0",
      "model_name": "LayoutModel",
      "state": {
       "display": "flex",
       "flex_flow": "column wrap",
       "width": "66%"
      }
     },
     "161bccb516f141d8af2d136bedde3dc7": {
      "model_module": "@jupyter-widgets/base",
      "model_module_version": "1.0.0",
      "model_name": "LayoutModel",
      "state": {
       "display": "none"
      }
     },
     "161e8a067c8947aab46ac8fe5a4a11af": {
      "model_module": "@jupyter-widgets/controls",
      "model_module_version": "1.2.0",
      "model_name": "DescriptionStyleModel",
      "state": {
       "description_width": ""
      }
     },
     "16280e129de34140ad85a284dd214b66": {
      "model_module": "@jupyter-widgets/controls",
      "model_module_version": "1.2.0",
      "model_name": "DescriptionStyleModel",
      "state": {
       "description_width": ""
      }
     },
     "1653a7a365f3480d9d9d6e9503868b77": {
      "model_module": "@jupyter-widgets/controls",
      "model_module_version": "1.2.0",
      "model_name": "VBoxModel",
      "state": {
       "children": [
        "IPY_MODEL_ba6a6ecec4be4859bb469f698578e451",
        "IPY_MODEL_176640f5fd624bf79c6cc71c4faada99",
        "IPY_MODEL_57b96df12752422e89e440a470aea9d3"
       ],
       "layout": "IPY_MODEL_4237b9133c2b4b87a4e3f25bfce6b24a"
      }
     },
     "166ed19e9e3f4f61ab800553362c811b": {
      "model_module": "@jupyter-widgets/controls",
      "model_module_version": "1.2.0",
      "model_name": "DescriptionStyleModel",
      "state": {
       "description_width": ""
      }
     },
     "169bee8484dc48b296b3922435be1ac1": {
      "model_module": "@jupyter-widgets/base",
      "model_module_version": "1.0.0",
      "model_name": "LayoutModel",
      "state": {}
     },
     "169d63fa5f784f9a911e226d9317a3b8": {
      "model_module": "@jupyter-widgets/controls",
      "model_module_version": "1.2.0",
      "model_name": "HBoxModel",
      "state": {
       "children": [
        "IPY_MODEL_90d47bd64de148b3ad13b9826f6860b0",
        "IPY_MODEL_2a7eeda57e1c429d8a77b6e15d71696f",
        "IPY_MODEL_98c40fa797494ee994e63aebeff97239"
       ],
       "layout": "IPY_MODEL_83816c77a7d44d1283af47f290407846"
      }
     },
     "16adeca1a5c84244923fc975362493e7": {
      "model_module": "@jupyter-widgets/base",
      "model_module_version": "1.0.0",
      "model_name": "LayoutModel",
      "state": {
       "display": "none"
      }
     },
     "16f404d292a64112972a0e9303c52ff0": {
      "model_module": "@jupyter-widgets/controls",
      "model_module_version": "1.2.0",
      "model_name": "DescriptionStyleModel",
      "state": {
       "description_width": ""
      }
     },
     "16f455c95b1e4673b92e8b23c61fcd37": {
      "model_module": "@jupyter-widgets/controls",
      "model_module_version": "1.2.0",
      "model_name": "FloatTextModel",
      "state": {
       "description": "sigma",
       "layout": "IPY_MODEL_42296a4b6f1b4f49b129bb4d23705751",
       "step": 0.1,
       "style": "IPY_MODEL_ed92f97417e347d18132099a5875532b",
       "value": 1
      }
     },
     "170d39d3ce444cba90ef4c63fbce7e89": {
      "model_module": "@jupyter-widgets/base",
      "model_module_version": "1.0.0",
      "model_name": "LayoutModel",
      "state": {
       "display": "none"
      }
     },
     "171fd38714314c55b9aa03a260d5df0a": {
      "model_module": "@jupyter-widgets/controls",
      "model_module_version": "1.2.0",
      "model_name": "FloatTextModel",
      "state": {
       "description": "radius",
       "layout": "IPY_MODEL_4b0261b9b6f648f5b2a390fda20c41f9",
       "step": 0.1,
       "style": "IPY_MODEL_454c08de3bcc4439b6a4751c4abdfe7c",
       "value": 1
      }
     },
     "1725c2f4e24f43519feeb602b06bd99e": {
      "model_module": "@jupyter-widgets/controls",
      "model_module_version": "1.2.0",
      "model_name": "FloatTextModel",
      "state": {
       "description": "sigma",
       "layout": "IPY_MODEL_181d1ce5682842fc989bdf2b73eef547",
       "step": 0.1,
       "style": "IPY_MODEL_197b6978e86a4a3ebee7346afc078e7d",
       "value": 1
      }
     },
     "172848b4e2ee4cc0acb10b8f5bfebb13": {
      "model_module": "@jupyter-widgets/base",
      "model_module_version": "1.0.0",
      "model_name": "LayoutModel",
      "state": {
       "width": "100%"
      }
     },
     "172a497724ce402ebdf3e897cdc66b6a": {
      "model_module": "@jupyter-widgets/base",
      "model_module_version": "1.0.0",
      "model_name": "LayoutModel",
      "state": {}
     },
     "1753f17a9cd74bb9be12223d1a6173b3": {
      "model_module": "@jupyter-widgets/base",
      "model_module_version": "1.0.0",
      "model_name": "LayoutModel",
      "state": {}
     },
     "17610fa125044383bad718745075fbe0": {
      "model_module": "@jupyter-widgets/controls",
      "model_module_version": "1.2.0",
      "model_name": "DropdownModel",
      "state": {
       "_options_labels": [
        "2d_fixed",
        "2d",
        "3d"
       ],
       "description": "model",
       "index": 1,
       "layout": "IPY_MODEL_c05d01372e25444d88e67353b0dceba0",
       "style": "IPY_MODEL_bea4f44c38254f5da66178f0078b2e5b"
      }
     },
     "17611348fb7d45928e9f9acdc16169f9": {
      "model_module": "@jupyter-widgets/base",
      "model_module_version": "1.0.0",
      "model_name": "LayoutModel",
      "state": {}
     },
     "176640f5fd624bf79c6cc71c4faada99": {
      "model_module": "@jupyter-widgets/controls",
      "model_module_version": "1.2.0",
      "model_name": "IntTextModel",
      "state": {
       "description": "feat. size",
       "layout": "IPY_MODEL_c89598672e964bb480ed2772eda0cd61",
       "step": 1,
       "style": "IPY_MODEL_5de06bb1c6624e61beb2780792cead7f",
       "value": 3
      }
     },
     "17a4f243e43749d3a82d94ed987a986a": {
      "model_module": "@jupyter-widgets/controls",
      "model_module_version": "1.2.0",
      "model_name": "DescriptionStyleModel",
      "state": {
       "description_width": ""
      }
     },
     "17b0ca20c3534b11b8e69cc5a94e3a47": {
      "model_module": "@jupyter-widgets/controls",
      "model_module_version": "1.2.0",
      "model_name": "ButtonStyleModel",
      "state": {}
     },
     "17fffd34af4f439a926cb172a59017fd": {
      "model_module": "@jupyter-widgets/controls",
      "model_module_version": "1.2.0",
      "model_name": "CheckboxModel",
      "state": {
       "description": "Show loc.",
       "disabled": false,
       "indent": false,
       "layout": "IPY_MODEL_ec102a599105400b922cb4662298b6c5",
       "style": "IPY_MODEL_125e07c7c1e04324b46ede98c53c63a4",
       "value": true
      }
     },
     "1801f0ca4a8a48b2bb97a19367c533ea": {
      "model_module": "@jupyter-widgets/base",
      "model_module_version": "1.0.0",
      "model_name": "LayoutModel",
      "state": {}
     },
     "181734e03d774155ab38b96f8b99a71a": {
      "model_module": "@jupyter-widgets/controls",
      "model_module_version": "1.2.0",
      "model_name": "DescriptionStyleModel",
      "state": {
       "description_width": ""
      }
     },
     "181d1ce5682842fc989bdf2b73eef547": {
      "model_module": "@jupyter-widgets/base",
      "model_module_version": "1.0.0",
      "model_name": "LayoutModel",
      "state": {
       "display": "none"
      }
     },
     "184e332be168424e9bb1cb8642c9490f": {
      "model_module": "@jupyter-widgets/controls",
      "model_module_version": "1.2.0",
      "model_name": "DescriptionStyleModel",
      "state": {
       "description_width": ""
      }
     },
     "1850dec0b94841749bdb0da2fcf7727e": {
      "model_module": "@jupyter-widgets/controls",
      "model_module_version": "1.2.0",
      "model_name": "DescriptionStyleModel",
      "state": {
       "description_width": ""
      }
     },
     "186fef0ffc664a32bff80e8a388fa1b1": {
      "model_module": "@jupyter-widgets/controls",
      "model_module_version": "1.2.0",
      "model_name": "DescriptionStyleModel",
      "state": {
       "description_width": ""
      }
     },
     "187be5cd708841f184606d85c5bc31f3": {
      "model_module": "@jupyter-widgets/controls",
      "model_module_version": "1.2.0",
      "model_name": "DescriptionStyleModel",
      "state": {
       "description_width": ""
      }
     },
     "18cf4394760945b48cbef11a18c60810": {
      "model_module": "@jupyter-widgets/controls",
      "model_module_version": "1.2.0",
      "model_name": "FloatTextModel",
      "state": {
       "description": "max.",
       "layout": "IPY_MODEL_e71fb3523ffa4b1aa40a594304fe041f",
       "step": 0.1,
       "style": "IPY_MODEL_71535ed4f46f42308f4796dd4b17a2ac",
       "value": 2
      }
     },
     "18e95443d23e4217b96c62ed43b0556f": {
      "model_module": "@jupyter-widgets/base",
      "model_module_version": "1.0.0",
      "model_name": "LayoutModel",
      "state": {}
     },
     "18f18c16017341cf809f83acd1531e91": {
      "model_module": "@jupyter-widgets/controls",
      "model_module_version": "1.2.0",
      "model_name": "HBoxModel",
      "state": {
       "children": [
        "IPY_MODEL_97f9733d2c474b21ba686340313e78ef",
        "IPY_MODEL_c96eaab9612e4b65aad3e9c5ce261e24",
        "IPY_MODEL_d7122f5bd03f49fba84fa28e42bb72db"
       ],
       "layout": "IPY_MODEL_60493ddd1b4c4697b62100c27014597a"
      }
     },
     "1927fade527b44e3b55d8b2bbaa09f28": {
      "model_module": "@jupyter-widgets/controls",
      "model_module_version": "1.2.0",
      "model_name": "FloatTextModel",
      "state": {
       "description": "min.",
       "layout": "IPY_MODEL_e0af1a73d3514a41b622304dfcb6b8be",
       "step": 0.1,
       "style": "IPY_MODEL_25457bbf14f747009b4f21cacf16a341",
       "value": 0.5
      }
     },
     "1945bebc4d184861bd438dffc310f6cd": {
      "model_module": "@jupyter-widgets/controls",
      "model_module_version": "1.2.0",
      "model_name": "SelectModel",
      "state": {
       "_options_labels": [
        "data/beads/beads_000_.SPE",
        "data/beads/beads_001_.SPE",
        "data/beads/beads_002_.SPE",
        "data/beads/beads_003_.SPE",
        "data/beads/beads_004_.SPE",
        "data/beads/beads_005_.SPE",
        "data/beads/beads_006_.SPE",
        "data/beads/beads_007_.SPE",
        "data/beads/beads_008_.SPE",
        "data/beads/beads_009_.SPE"
       ],
       "index": 1,
       "layout": "IPY_MODEL_bb271e1802df495589914f40f18a32f8",
       "style": "IPY_MODEL_3512eaffd0d549439f22523367cf10d8"
      }
     },
     "197b6978e86a4a3ebee7346afc078e7d": {
      "model_module": "@jupyter-widgets/controls",
      "model_module_version": "1.2.0",
      "model_name": "DescriptionStyleModel",
      "state": {
       "description_width": ""
      }
     },
     "198888b6357641588b0769efebdc4863": {
      "model_module": "@jupyter-widgets/controls",
      "model_module_version": "1.2.0",
      "model_name": "HBoxModel",
      "state": {
       "children": [
        "IPY_MODEL_44c08bc02daf42f1a0416a85a4b9969d",
        "IPY_MODEL_ab9309422cca470bb40a7c6d6ff4ef70"
       ],
       "layout": "IPY_MODEL_25a28600fbd84832bcec0ae2b9587f77"
      }
     },
     "19babbab651e40e7b31d69f0933dcd97": {
      "model_module": "@jupyter-widgets/controls",
      "model_module_version": "1.2.0",
      "model_name": "DescriptionStyleModel",
      "state": {
       "description_width": ""
      }
     },
     "19e4bbee2e614bc4ba7402ecedaa8c61": {
      "model_module": "@jupyter-widgets/base",
      "model_module_version": "1.0.0",
      "model_name": "LayoutModel",
      "state": {
       "width": "auto"
      }
     },
     "19e54e8518c447c6a57fc58c7d49c2ed": {
      "model_module": "@jupyter-widgets/controls",
      "model_module_version": "1.2.0",
      "model_name": "CheckboxModel",
      "state": {
       "description": "Min. distance",
       "disabled": false,
       "indent": false,
       "layout": "IPY_MODEL_26b33f01a9594bf3affc727010a0a2ad",
       "style": "IPY_MODEL_a9260d6530984155b08468659eee60ce",
       "value": true
      }
     },
     "1a3ce324352f43739e089ba40bb8356d": {
      "model_module": "@jupyter-widgets/controls",
      "model_module_version": "1.2.0",
      "model_name": "DescriptionStyleModel",
      "state": {
       "description_width": ""
      }
     },
     "1a7f60fb844840a79fe1bfc9d493b4d9": {
      "model_module": "@jupyter-widgets/controls",
      "model_module_version": "1.2.0",
      "model_name": "DropdownModel",
      "state": {
       "_options_labels": [
        "2d_fixed",
        "2d",
        "3d"
       ],
       "description": "model",
       "index": 1,
       "layout": "IPY_MODEL_932e06afd8a8412d8d84c05ece0810d7",
       "style": "IPY_MODEL_e96c896d4f344616b11a89abc57afed0"
      }
     },
     "1a9a1416534040559ecaeeb13f1b824a": {
      "model_module": "@jupyter-widgets/controls",
      "model_module_version": "1.2.0",
      "model_name": "FloatTextModel",
      "state": {
       "description": "max.",
       "layout": "IPY_MODEL_407ce516982c43a1a697e896a1586e0c",
       "step": 0.1,
       "style": "IPY_MODEL_c988709bd87c4a629641e62b63c167be",
       "value": 2
      }
     },
     "1ac8bfa0df214c21bddbf5915ae44e15": {
      "model_module": "@jupyter-widgets/controls",
      "model_module_version": "1.2.0",
      "model_name": "SelectModel",
      "state": {
       "_options_labels": [
        "beads/beads_000_.SPE",
        "beads/beads_001_.SPE",
        "beads/beads_002_.SPE",
        "beads/beads_003_.SPE",
        "beads/beads_004_.SPE",
        "beads/beads_005_.SPE",
        "beads/beads_006_.SPE",
        "beads/beads_007_.SPE",
        "beads/beads_008_.SPE",
        "beads/beads_009_.SPE"
       ],
       "index": 0,
       "layout": "IPY_MODEL_c86d77bb332b4d0590c259f51076de7c",
       "style": "IPY_MODEL_b7be599876324851838edcbef4a6ffcb"
      }
     },
     "1ad839a8d33e479f905fcf2a5057e597": {
      "model_module": "@jupyter-widgets/controls",
      "model_module_version": "1.2.0",
      "model_name": "LabelModel",
      "state": {
       "layout": "IPY_MODEL_58167ea58240475299471d95d476a684",
       "style": "IPY_MODEL_eb9b74271d2d44dcb8aced8f36b6dea4",
       "value": "Tracking ctrl-H57/no-cells_SAv-100k_SSS-ctrl-H57-50k_029_.SPE (213/213)"
      }
     },
     "1afc74c34b834938b692233d4251d486": {
      "model_module": "@jupyter-widgets/controls",
      "model_module_version": "1.2.0",
      "model_name": "DescriptionStyleModel",
      "state": {
       "description_width": ""
      }
     },
     "1b620fd859a4480aa4f9e4c1eb031eb2": {
      "model_module": "@jupyter-widgets/base",
      "model_module_version": "1.0.0",
      "model_name": "LayoutModel",
      "state": {
       "width": "auto"
      }
     },
     "1bc1bf8bdea542b7920e221d983edffb": {
      "model_module": "@jupyter-widgets/controls",
      "model_module_version": "1.2.0",
      "model_name": "SelectModel",
      "state": {
       "_options_labels": [
        "sensor-H57/cells-01_SAv-100k_SSS-H57-20k_000_.SPE"
       ],
       "index": 0,
       "layout": "IPY_MODEL_7065c42cfbec4534b7b8c4e7b6a34b3f",
       "style": "IPY_MODEL_7f0e7f412f954619b202379e8b02693b"
      }
     },
     "1bef31ac08074ebd95693403b9f1d5a3": {
      "model_module": "@jupyter-widgets/controls",
      "model_module_version": "1.2.0",
      "model_name": "SliderStyleModel",
      "state": {
       "description_width": ""
      }
     },
     "1c1dc811f4d24013a84188335929fb18": {
      "model_module": "@jupyter-widgets/controls",
      "model_module_version": "1.2.0",
      "model_name": "HBoxModel",
      "state": {
       "children": [
        "IPY_MODEL_436b9b5f2afe4c6693f58f28df3c82d1",
        "IPY_MODEL_ad98c99d4b8a46948c2eb85e97d210f9"
       ],
       "layout": "IPY_MODEL_bfec349152fa4833b470d8ec1259aab1"
      }
     },
     "1c5f0943bcc4468db7357061336a54df": {
      "model_module": "@jupyter-widgets/controls",
      "model_module_version": "1.2.0",
      "model_name": "DescriptionStyleModel",
      "state": {
       "description_width": ""
      }
     },
     "1c824a0b6f3240e5af259e9c61791276": {
      "model_module": "@jupyter-widgets/controls",
      "model_module_version": "1.2.0",
      "model_name": "DescriptionStyleModel",
      "state": {
       "description_width": ""
      }
     },
     "1cd9165871484cebae6f2ee4b0feeb3a": {
      "model_module": "@jupyter-widgets/controls",
      "model_module_version": "1.2.0",
      "model_name": "DescriptionStyleModel",
      "state": {
       "description_width": ""
      }
     },
     "1cf385c71a4d47ff971305ff22f8d409": {
      "model_module": "@jupyter-widgets/controls",
      "model_module_version": "1.2.0",
      "model_name": "HBoxModel",
      "state": {
       "children": [
        "IPY_MODEL_f29c89eed6f944288cabe9167b510179",
        "IPY_MODEL_6213c69a7df04ee28daba2e0e74e2b76",
        "IPY_MODEL_9c1c69452a7f4e77b69c536b081d48b4"
       ],
       "layout": "IPY_MODEL_2edf73a67e144099aca3bd81f94bd30e"
      }
     },
     "1cfdf2db76794dd48f239a6fe9bcf218": {
      "model_module": "@jupyter-widgets/base",
      "model_module_version": "1.0.0",
      "model_name": "LayoutModel",
      "state": {}
     },
     "1d23768466ae4cfeb64921711ebe49d4": {
      "model_module": "@jupyter-widgets/controls",
      "model_module_version": "1.2.0",
      "model_name": "FloatTextModel",
      "state": {
       "description": "sigma",
       "layout": "IPY_MODEL_db84dc2b028949aea5dc5f2e91cbf792",
       "step": 0.1,
       "style": "IPY_MODEL_3e4944042f0845319952b320763018d0",
       "value": 1
      }
     },
     "1d53e14e42424c3fb362bad8c9bd6fee": {
      "model_module": "@jupyter-widgets/base",
      "model_module_version": "1.0.0",
      "model_name": "LayoutModel",
      "state": {}
     },
     "1d9a93a9f6c24b018ce1963bb58d97fe": {
      "model_module": "@jupyter-widgets/base",
      "model_module_version": "1.0.0",
      "model_name": "LayoutModel",
      "state": {}
     },
     "1dde5233f259499a95d6f308b4422da5": {
      "model_module": "@jupyter-widgets/controls",
      "model_module_version": "1.2.0",
      "model_name": "VBoxModel",
      "state": {
       "children": [
        "IPY_MODEL_e2501d102e874250bef67ae4226556e2",
        "IPY_MODEL_b855b6287cc040bc9e1b3ef584ff3795",
        "IPY_MODEL_e5af1c9d0bf94a41b4eba05dd22e83ff"
       ],
       "layout": "IPY_MODEL_ff6f29f6594d4a92be71440085c4f9a5"
      }
     },
     "1df8d90fd50d42a69167a3d390d0753d": {
      "model_module": "@jupyter-widgets/base",
      "model_module_version": "1.0.0",
      "model_name": "LayoutModel",
      "state": {}
     },
     "1e2c7801417d4e6d8736963d27fe69cd": {
      "model_module": "@jupyter-widgets/controls",
      "model_module_version": "1.2.0",
      "model_name": "DescriptionStyleModel",
      "state": {
       "description_width": ""
      }
     },
     "1e3129fc5cd44769b18bc99ca51ed37a": {
      "model_module": "@jupyter-widgets/base",
      "model_module_version": "1.0.0",
      "model_name": "LayoutModel",
      "state": {
       "height": "150px",
       "width": "100%"
      }
     },
     "1e42292417d7411c84060940cc21870e": {
      "model_module": "@jupyter-widgets/controls",
      "model_module_version": "1.2.0",
      "model_name": "DescriptionStyleModel",
      "state": {
       "description_width": ""
      }
     },
     "1e467e9b04f54ce2b7589198a94d15e8": {
      "model_module": "@jupyter-widgets/base",
      "model_module_version": "1.0.0",
      "model_name": "LayoutModel",
      "state": {
       "width": "auto"
      }
     },
     "1e6c561e47f644139ddafdb52f18e109": {
      "model_module": "@jupyter-widgets/base",
      "model_module_version": "1.0.0",
      "model_name": "LayoutModel",
      "state": {
       "height": "150px",
       "width": "100%"
      }
     },
     "1e9db56aac6d40d8acf83ef9d880b244": {
      "model_module": "@jupyter-widgets/base",
      "model_module_version": "1.0.0",
      "model_name": "LayoutModel",
      "state": {}
     },
     "1f18affa79ef42288f546fb5bc51d6f1": {
      "model_module": "@jupyter-widgets/controls",
      "model_module_version": "1.2.0",
      "model_name": "SelectModel",
      "state": {
       "_options_labels": [
        "sensor-H57/cells-01_SAv-100k_SSS-H57-20k_000_.SPE"
       ],
       "index": 0,
       "layout": "IPY_MODEL_e6f90818e44e4f82bdae93466567aec2",
       "style": "IPY_MODEL_493efc4635854b789c035ec0c9b39114"
      }
     },
     "1f3056b0d82a448ebd9388e035c6b2eb": {
      "model_module": "@jupyter-widgets/controls",
      "model_module_version": "1.2.0",
      "model_name": "DescriptionStyleModel",
      "state": {
       "description_width": ""
      }
     },
     "1f95ca0f70c84935abba32f323d60216": {
      "model_module": "@jupyter-widgets/base",
      "model_module_version": "1.0.0",
      "model_name": "LayoutModel",
      "state": {}
     },
     "1f9db22bc9de48599c39cfac0e34058a": {
      "model_module": "@jupyter-widgets/controls",
      "model_module_version": "1.2.0",
      "model_name": "SliderStyleModel",
      "state": {
       "description_width": ""
      }
     },
     "1fad2e716f70409e858650e25736c999": {
      "model_module": "@jupyter-widgets/controls",
      "model_module_version": "1.2.0",
      "model_name": "DescriptionStyleModel",
      "state": {
       "description_width": ""
      }
     },
     "200dd839b47e41ef964f190f00578135": {
      "model_module": "@jupyter-widgets/controls",
      "model_module_version": "1.2.0",
      "model_name": "DescriptionStyleModel",
      "state": {
       "description_width": ""
      }
     },
     "20230ca4f34e468aa7a2f70651828801": {
      "model_module": "@jupyter-widgets/controls",
      "model_module_version": "1.2.0",
      "model_name": "ButtonModel",
      "state": {
       "description": "Auto",
       "layout": "IPY_MODEL_5f220bd61e4d4c46a2d8aedfa4a8dedc",
       "style": "IPY_MODEL_f9440d84ed4042e389f3ee73c6fde4d4"
      }
     },
     "203ba0904d38451fb868de08497577ce": {
      "model_module": "@jupyter-widgets/controls",
      "model_module_version": "1.2.0",
      "model_name": "DescriptionStyleModel",
      "state": {
       "description_width": ""
      }
     },
     "2043cd0deada4e3fad44e7ca841638c1": {
      "model_module": "@jupyter-widgets/controls",
      "model_module_version": "1.2.0",
      "model_name": "DescriptionStyleModel",
      "state": {
       "description_width": ""
      }
     },
     "204a0f3ab1ae479497beda405bcf1a5f": {
      "model_module": "@jupyter-widgets/controls",
      "model_module_version": "1.2.0",
      "model_name": "VBoxModel",
      "state": {
       "children": [
        "IPY_MODEL_c887111977a14213b8d43f3198bccb35",
        "IPY_MODEL_d7fa2281c10b4adf84ba27f9fc3d0be7"
       ],
       "layout": "IPY_MODEL_37ad7e9ad02244f7aaae9222cbbafdb1"
      }
     },
     "2092f80b175343eb85daaa486ff93c81": {
      "model_module": "@jupyter-widgets/controls",
      "model_module_version": "1.2.0",
      "model_name": "SelectModel",
      "state": {
       "_options_labels": [
        "data/beads/beads_000_.SPE",
        "data/beads/beads_001_.SPE",
        "data/beads/beads_002_.SPE",
        "data/beads/beads_003_.SPE",
        "data/beads/beads_004_.SPE",
        "data/beads/beads_005_.SPE",
        "data/beads/beads_006_.SPE",
        "data/beads/beads_007_.SPE",
        "data/beads/beads_008_.SPE",
        "data/beads/beads_009_.SPE"
       ],
       "index": 0,
       "layout": "IPY_MODEL_c1a95db583ea40a8bd5289f44bcfe4db",
       "style": "IPY_MODEL_30c5f2d80a094d839f584d1816185c02"
      }
     },
     "211438e48b4d4c84848bb99f9b5277a3": {
      "model_module": "@jupyter-widgets/base",
      "model_module_version": "1.0.0",
      "model_name": "LayoutModel",
      "state": {
       "width": "auto"
      }
     },
     "218f89f1b57c455fb73eaf34eae69515": {
      "model_module": "@jupyter-widgets/base",
      "model_module_version": "1.0.0",
      "model_name": "LayoutModel",
      "state": {
       "width": "75%"
      }
     },
     "21a5d117f81846c995b25fedf5e25b60": {
      "model_module": "@jupyter-widgets/controls",
      "model_module_version": "1.2.0",
      "model_name": "VBoxModel",
      "state": {
       "children": [
        "IPY_MODEL_1f18affa79ef42288f546fb5bc51d6f1",
        "IPY_MODEL_444486cd6d484fc29b8662b83e39a1c7"
       ],
       "layout": "IPY_MODEL_c4865af8e5dd49cd8f5d7afa13b14e00"
      }
     },
     "21c258a629b84bf88eb34298a9a4890f": {
      "model_module": "@jupyter-widgets/base",
      "model_module_version": "1.0.0",
      "model_name": "LayoutModel",
      "state": {}
     },
     "21e3f66ac5e84b76ade247bbee7d3a2e": {
      "model_module": "@jupyter-widgets/base",
      "model_module_version": "1.0.0",
      "model_name": "LayoutModel",
      "state": {}
     },
     "222d8f9f55e146e09e3ae7466365f535": {
      "model_module": "@jupyter-widgets/controls",
      "model_module_version": "1.2.0",
      "model_name": "LabelModel",
      "state": {
       "layout": "IPY_MODEL_684f2399c84e4a138aa7382625304dc2",
       "style": "IPY_MODEL_47f997f116f94cb7b6c09480f14e106b",
       "value": "Locating beads (file 1/10)"
      }
     },
     "224958830e62412ab889b6ed9fa99549": {
      "model_module": "@jupyter-widgets/base",
      "model_module_version": "1.0.0",
      "model_name": "LayoutModel",
      "state": {}
     },
     "224e1cf0fe094f1cb7bd8bd9e295a39e": {
      "model_module": "@jupyter-widgets/controls",
      "model_module_version": "1.2.0",
      "model_name": "IntRangeSliderModel",
      "state": {
       "_model_name": "IntRangeSliderModel",
       "_view_name": "IntRangeSliderView",
       "layout": "IPY_MODEL_79f327509cd0406eb137e2966fa39e9d",
       "max": 65535,
       "style": "IPY_MODEL_0842280875f046f9bd4875c3380bfbad",
       "value": [
        134,
        25393
       ]
      }
     },
     "22774ed79f5246f8bdae0943eeb6e6e9": {
      "model_module": "@jupyter-widgets/controls",
      "model_module_version": "1.2.0",
      "model_name": "CheckboxModel",
      "state": {
       "description": "Size range",
       "disabled": false,
       "indent": false,
       "layout": "IPY_MODEL_d2b5042a9f0444d1924bcf1fd5e7eca3",
       "style": "IPY_MODEL_94f4193040594a02ae652bd3d3e3d594",
       "value": false
      }
     },
     "22776c758f7b4a8fa05284d9d38dbddf": {
      "model_module": "@jupyter-widgets/controls",
      "model_module_version": "1.2.0",
      "model_name": "DescriptionStyleModel",
      "state": {
       "description_width": ""
      }
     },
     "227e2ab8ee8d4793ad719eccc3e015cc": {
      "model_module": "@jupyter-widgets/base",
      "model_module_version": "1.0.0",
      "model_name": "LayoutModel",
      "state": {
       "width": "auto"
      }
     },
     "22b68ddab2c2411594fbcfc31effcc46": {
      "model_module": "@jupyter-widgets/controls",
      "model_module_version": "1.2.0",
      "model_name": "DescriptionStyleModel",
      "state": {
       "description_width": ""
      }
     },
     "231428bf0d4e4a05bd025cacd9928568": {
      "model_module": "@jupyter-widgets/base",
      "model_module_version": "1.0.0",
      "model_name": "LayoutModel",
      "state": {
       "width": "auto"
      }
     },
     "231f86b690714dfe9cc5b0b688cc7436": {
      "model_module": "@jupyter-widgets/base",
      "model_module_version": "1.0.0",
      "model_name": "LayoutModel",
      "state": {
       "width": "auto"
      }
     },
     "2353ee96d43b4eeba4ba08bea7bedd62": {
      "model_module": "@jupyter-widgets/base",
      "model_module_version": "1.0.0",
      "model_name": "LayoutModel",
      "state": {}
     },
     "23584d65dabc4ac5bca52dd8242e6d0b": {
      "model_module": "@jupyter-widgets/controls",
      "model_module_version": "1.2.0",
      "model_name": "CheckboxModel",
      "state": {
       "description": "Show loc.",
       "disabled": false,
       "indent": false,
       "layout": "IPY_MODEL_7ff62e478ee3437995b243f6afd57b84",
       "style": "IPY_MODEL_655aa290448849aea0de2e014b6c32a3",
       "value": true
      }
     },
     "236ced0324ff408f86c0ce05e6e95632": {
      "model_module": "@jupyter-widgets/controls",
      "model_module_version": "1.2.0",
      "model_name": "VBoxModel",
      "state": {
       "children": [
        "IPY_MODEL_ca617da8968c4c1986bef67c8512c210",
        "IPY_MODEL_a276506d90a345b8bcb85fd8e7f7e8aa",
        "IPY_MODEL_6f6341c501034480a9a338ed54045c74",
        "IPY_MODEL_8f8a4480e7a041a49dc9356e93bc2275",
        "IPY_MODEL_72bce2cf39e4492eae53e8df455d7341",
        "IPY_MODEL_1dde5233f259499a95d6f308b4422da5"
       ],
       "layout": "IPY_MODEL_0e0fc3f0530442bba3c7061cba46620f"
      }
     },
     "2370a758df184f00999f5f3619f13293": {
      "model_module": "@jupyter-widgets/base",
      "model_module_version": "1.0.0",
      "model_name": "LayoutModel",
      "state": {}
     },
     "238977709bdf4273955dfeab92032af3": {
      "model_module": "@jupyter-widgets/controls",
      "model_module_version": "1.2.0",
      "model_name": "DescriptionStyleModel",
      "state": {
       "description_width": ""
      }
     },
     "23bbf40415384f4396f29d0185ec83d1": {
      "model_module": "@jupyter-widgets/base",
      "model_module_version": "1.0.0",
      "model_name": "LayoutModel",
      "state": {
       "width": "auto"
      }
     },
     "240bb6fc82db4d97a94b5dc41b4da29f": {
      "model_module": "@jupyter-widgets/controls",
      "model_module_version": "1.2.0",
      "model_name": "DescriptionStyleModel",
      "state": {
       "description_width": ""
      }
     },
     "24475c6043a942c497d7399ef40ae173": {
      "model_module": "@jupyter-widgets/controls",
      "model_module_version": "1.2.0",
      "model_name": "DropdownModel",
      "state": {
       "_options_labels": [
        "Identity",
        "Cg",
        "Gaussian"
       ],
       "description": "find filter",
       "index": 1,
       "layout": "IPY_MODEL_837f0a9b22bc4f38a3e697aded6b628d",
       "style": "IPY_MODEL_c37a86f18d434de481acc8f8c3e59e8c"
      }
     },
     "2467966b102f48b1b0652ad6b9514f5c": {
      "model_module": "@jupyter-widgets/base",
      "model_module_version": "1.0.0",
      "model_name": "LayoutModel",
      "state": {
       "display": "none"
      }
     },
     "2481b947f1e64a2295066506b699d3bd": {
      "model_module": "@jupyter-widgets/base",
      "model_module_version": "1.0.0",
      "model_name": "LayoutModel",
      "state": {
       "width": "auto"
      }
     },
     "24a26ed920a841b79ce1e40c95c04c75": {
      "model_module": "@jupyter-widgets/base",
      "model_module_version": "1.0.0",
      "model_name": "LayoutModel",
      "state": {
       "width": "auto"
      }
     },
     "24b12ffeda4e43ec875b10f3506e60aa": {
      "model_module": "@jupyter-widgets/controls",
      "model_module_version": "1.2.0",
      "model_name": "FloatTextModel",
      "state": {
       "description": "sigma",
       "layout": "IPY_MODEL_2467966b102f48b1b0652ad6b9514f5c",
       "step": 0.1,
       "style": "IPY_MODEL_a6d5cfc2bb1e4c3e8d2347b6facee790",
       "value": 1
      }
     },
     "24e494ac93814a6ea0390b240089ced1": {
      "model_module": "@jupyter-widgets/controls",
      "model_module_version": "1.2.0",
      "model_name": "CheckboxModel",
      "state": {
       "description": "Size range",
       "disabled": false,
       "indent": false,
       "layout": "IPY_MODEL_440ba55ee22e4093b0a711491eb05679",
       "style": "IPY_MODEL_559057d02ee8475d88b706cfc4ac2550",
       "value": false
      }
     },
     "24f230003cf34f44811eff269324db40": {
      "model_module": "@jupyter-widgets/controls",
      "model_module_version": "1.2.0",
      "model_name": "BoundedIntTextModel",
      "state": {
       "description": "frame",
       "layout": "IPY_MODEL_31fb0845074041e89dbcfc2a92d041c7",
       "max": 49,
       "style": "IPY_MODEL_3fc5493462e34f968eaa4595b4087632"
      }
     },
     "24f9aca8649f438e8f190b3fb6de6a2a": {
      "model_module": "@jupyter-widgets/controls",
      "model_module_version": "1.2.0",
      "model_name": "DescriptionStyleModel",
      "state": {
       "description_width": ""
      }
     },
     "24fff02cef674ac28553e16fb46624bc": {
      "model_module": "@jupyter-widgets/base",
      "model_module_version": "1.0.0",
      "model_name": "LayoutModel",
      "state": {
       "display": "flex",
       "flex_flow": "column wrap",
       "width": "66%"
      }
     },
     "252624c1b8bc45849aea2df3c599d2bc": {
      "model_module": "@jupyter-widgets/controls",
      "model_module_version": "1.2.0",
      "model_name": "DescriptionStyleModel",
      "state": {
       "description_width": ""
      }
     },
     "25457bbf14f747009b4f21cacf16a341": {
      "model_module": "@jupyter-widgets/controls",
      "model_module_version": "1.2.0",
      "model_name": "DescriptionStyleModel",
      "state": {
       "description_width": ""
      }
     },
     "25609cd00cca4ad98a9f3d96ba3f9412": {
      "model_module": "@jupyter-widgets/controls",
      "model_module_version": "1.2.0",
      "model_name": "IntTextModel",
      "state": {
       "description": "feat. size",
       "layout": "IPY_MODEL_bce61fa1fd5a43f4886194936763e3ed",
       "step": 1,
       "style": "IPY_MODEL_f8d1b568b660420db7d1ce62dd5e83a4",
       "value": 3
      }
     },
     "25a28600fbd84832bcec0ae2b9587f77": {
      "model_module": "@jupyter-widgets/base",
      "model_module_version": "1.0.0",
      "model_name": "LayoutModel",
      "state": {
       "height": "150px",
       "width": "100%"
      }
     },
     "25b3ace3c419458dae29cd6b98c93d8a": {
      "model_module": "@jupyter-widgets/base",
      "model_module_version": "1.0.0",
      "model_name": "LayoutModel",
      "state": {
       "width": "auto"
      }
     },
     "25c7833c2c09419385454a435a839d35": {
      "model_module": "@jupyter-widgets/controls",
      "model_module_version": "1.2.0",
      "model_name": "VBoxModel",
      "state": {
       "children": [
        "IPY_MODEL_6118948bd2ef4d3d81a851ddc10f4615",
        "IPY_MODEL_62e1db1aaa5b45a0b6720e7f406ee060",
        "IPY_MODEL_4533b1a7813e4a9cb97fc5fcbb667536"
       ],
       "layout": "IPY_MODEL_955beeb69d4544638a89c228bc8f7b5c"
      }
     },
     "263c7b3f7a5945b1a9b4b41ecb3dc41f": {
      "model_module": "@jupyter-widgets/base",
      "model_module_version": "1.0.0",
      "model_name": "LayoutModel",
      "state": {
       "width": "75%"
      }
     },
     "26b27b62cee64444ad2310759c9c6f22": {
      "model_module": "@jupyter-widgets/controls",
      "model_module_version": "1.2.0",
      "model_name": "SliderStyleModel",
      "state": {
       "description_width": ""
      }
     },
     "26b33f01a9594bf3affc727010a0a2ad": {
      "model_module": "@jupyter-widgets/base",
      "model_module_version": "1.0.0",
      "model_name": "LayoutModel",
      "state": {
       "width": "auto"
      }
     },
     "26b80179517e4b0baa9f3af84146b235": {
      "model_module": "@jupyter-widgets/base",
      "model_module_version": "1.0.0",
      "model_name": "LayoutModel",
      "state": {}
     },
     "26d2919eacc5468aa126e4cfc0d56667": {
      "model_module": "@jupyter-widgets/controls",
      "model_module_version": "1.2.0",
      "model_name": "DropdownModel",
      "state": {
       "_options_labels": [
        "2d_fixed",
        "2d",
        "3d"
       ],
       "description": "model",
       "index": 1,
       "layout": "IPY_MODEL_ac3eb350b9ab429188d86a4f3b37e9c2",
       "style": "IPY_MODEL_f5171890257d4ae9b7960af46e292557"
      }
     },
     "26f48594057b4a9bb43df30bb93f5b23": {
      "model_module": "@jupyter-widgets/base",
      "model_module_version": "1.0.0",
      "model_name": "LayoutModel",
      "state": {
       "width": "auto"
      }
     },
     "26f739099bc54aa2a30e8f2c6418e19c": {
      "model_module": "@jupyter-widgets/controls",
      "model_module_version": "1.2.0",
      "model_name": "DescriptionStyleModel",
      "state": {
       "description_width": ""
      }
     },
     "27481714e8124b0099cfed1052ffa3f3": {
      "model_module": "@jupyter-widgets/controls",
      "model_module_version": "1.2.0",
      "model_name": "LabelModel",
      "state": {
       "layout": "IPY_MODEL_763e1749ef914ea7811b6939b9341d02",
       "style": "IPY_MODEL_c4a58ea60bdf4b0caf83c160414e7aef",
       "value": "Locating beads (file 10/10)"
      }
     },
     "2750af465b3b43f9b53afe32e8b254fa": {
      "model_module": "@jupyter-widgets/base",
      "model_module_version": "1.0.0",
      "model_name": "LayoutModel",
      "state": {
       "width": "75%"
      }
     },
     "27651f52f6ff4380a078ba196083ee0e": {
      "model_module": "@jupyter-widgets/controls",
      "model_module_version": "1.2.0",
      "model_name": "FloatTextModel",
      "state": {
       "layout": "IPY_MODEL_91e79b1b840744d9b854fdd8077678e3",
       "step": 0.1,
       "style": "IPY_MODEL_240bb6fc82db4d97a94b5dc41b4da29f",
       "value": 3
      }
     },
     "27800e141b1d44a0a185d03be1413c16": {
      "model_module": "@jupyter-widgets/base",
      "model_module_version": "1.0.0",
      "model_name": "LayoutModel",
      "state": {}
     },
     "27bf2951473a4cca94241d9317e7848f": {
      "model_module": "@jupyter-widgets/controls",
      "model_module_version": "1.2.0",
      "model_name": "DescriptionStyleModel",
      "state": {
       "description_width": ""
      }
     },
     "27bf74a1371a4914b4cecefd7800c57e": {
      "model_module": "@jupyter-widgets/controls",
      "model_module_version": "1.2.0",
      "model_name": "FloatTextModel",
      "state": {
       "description": "threshold",
       "layout": "IPY_MODEL_fa85be82a78740ccbe7fe9f5698937ea",
       "step": 10,
       "style": "IPY_MODEL_91bc4b10676e4c61858563567dd750ca",
       "value": 1000
      }
     },
     "27c2f36460284101b93dd9865d56f8cd": {
      "model_module": "@jupyter-widgets/controls",
      "model_module_version": "1.2.0",
      "model_name": "VBoxModel",
      "state": {
       "children": [
        "IPY_MODEL_0fdde6d3a31a4ddb847a09ae10b05383",
        "IPY_MODEL_d277ada9698942f7a3120b5b5b0020f6",
        "IPY_MODEL_f600f248ba90466d8dd8683ec84f5648",
        "IPY_MODEL_ce558e41002f4a728f1c99b7abf8847e",
        "IPY_MODEL_5fbca88f0d204db0980fdaccd5ebc768",
        "IPY_MODEL_f6183b586f424489800494cf530d3351"
       ],
       "layout": "IPY_MODEL_c947362c1b424fc5889ba242be69b499"
      }
     },
     "27d49c4881bc4966914232937258123b": {
      "model_module": "@jupyter-widgets/controls",
      "model_module_version": "1.2.0",
      "model_name": "IntRangeSliderModel",
      "state": {
       "_model_name": "IntRangeSliderModel",
       "_view_name": "IntRangeSliderView",
       "layout": "IPY_MODEL_a5faeb5167ce47aea07efeb2e4a37cb7",
       "max": 65535,
       "style": "IPY_MODEL_ed36a418cd2a4bd0b0d8656c05df3454",
       "value": [
        125,
        629
       ]
      }
     },
     "27ead681a1ba429b92a13a857b53aa84": {
      "model_module": "@jupyter-widgets/base",
      "model_module_version": "1.0.0",
      "model_name": "LayoutModel",
      "state": {
       "display": "none"
      }
     },
     "282166fd839b46a8975d5295b184eda0": {
      "model_module": "@jupyter-widgets/controls",
      "model_module_version": "1.2.0",
      "model_name": "VBoxModel",
      "state": {
       "children": [
        "IPY_MODEL_06913487a458403db576442098aaf641",
        "IPY_MODEL_fc73dc2829344e42b3a1a5fae6bbb433",
        "IPY_MODEL_674f4e5e4142457aa0f2baa89d35f656",
        "IPY_MODEL_fec22a280af8468cb503dc8db631ab0d",
        "IPY_MODEL_b61fb761db744db38b5c72ab47e45def",
        "IPY_MODEL_a793d2ff390c4cba8bba9a04ce7027fe"
       ],
       "layout": "IPY_MODEL_24fff02cef674ac28553e16fb46624bc"
      }
     },
     "282db8f01dd440359bb199e2eec96391": {
      "model_module": "@jupyter-widgets/controls",
      "model_module_version": "1.2.0",
      "model_name": "DescriptionStyleModel",
      "state": {
       "description_width": ""
      }
     },
     "285746af59934c1f9dc7dec16ecc850a": {
      "model_module": "@jupyter-widgets/base",
      "model_module_version": "1.0.0",
      "model_name": "LayoutModel",
      "state": {}
     },
     "28c191d302554977ae914cef8a33edc7": {
      "model_module": "@jupyter-widgets/base",
      "model_module_version": "1.0.0",
      "model_name": "LayoutModel",
      "state": {
       "display": "none"
      }
     },
     "28d9606c6c444c8889a38c026e121723": {
      "model_module": "@jupyter-widgets/base",
      "model_module_version": "1.0.0",
      "model_name": "LayoutModel",
      "state": {
       "width": "75%"
      }
     },
     "28db640f6655482bb8f2b6e8ff208751": {
      "model_module": "@jupyter-widgets/base",
      "model_module_version": "1.0.0",
      "model_name": "LayoutModel",
      "state": {
       "display": "none"
      }
     },
     "28dc5f98ecd749c4aafd9e308637a0af": {
      "model_module": "@jupyter-widgets/base",
      "model_module_version": "1.0.0",
      "model_name": "LayoutModel",
      "state": {}
     },
     "291699d4a0464adaba373e687b282354": {
      "model_module": "@jupyter-widgets/controls",
      "model_module_version": "1.2.0",
      "model_name": "VBoxModel",
      "state": {
       "children": [
        "IPY_MODEL_4b79d28c9da94143bc5fc8704f601ac8",
        "IPY_MODEL_6a42f1db81a7409f8ef425c591924c0a",
        "IPY_MODEL_d21d4e68107f43489fea482a77b5202c",
        "IPY_MODEL_861cffcb15a747e59761de0c27edcde8",
        "IPY_MODEL_338cf44fdfa9462cb4f5b1bc1190980d",
        "IPY_MODEL_d07de0d18471434090f63b183d5e89f7"
       ],
       "layout": "IPY_MODEL_99f1ee486e0e4c74905797cdf8833326"
      }
     },
     "29201598bb254ab9bd8c10d07bcb944e": {
      "model_module": "@jupyter-widgets/base",
      "model_module_version": "1.0.0",
      "model_name": "LayoutModel",
      "state": {
       "width": "auto"
      }
     },
     "2935f9dd0f2347839e2a4b45779199de": {
      "model_module": "@jupyter-widgets/base",
      "model_module_version": "1.0.0",
      "model_name": "LayoutModel",
      "state": {}
     },
     "298d1fcc82444382bcd444d7d25a6a2b": {
      "model_module": "@jupyter-widgets/base",
      "model_module_version": "1.0.0",
      "model_name": "LayoutModel",
      "state": {}
     },
     "299f78c9bbf54627a5cf711b09631352": {
      "model_module": "@jupyter-widgets/controls",
      "model_module_version": "1.2.0",
      "model_name": "IntRangeSliderModel",
      "state": {
       "_model_name": "IntRangeSliderModel",
       "_view_name": "IntRangeSliderView",
       "layout": "IPY_MODEL_6ed02a6c11804f8c95e9f0e2f6da5699",
       "max": 65535,
       "style": "IPY_MODEL_46abbf8828f94c0caed5369b5f796c00",
       "value": [
        134,
        25393
       ]
      }
     },
     "29d16c61645f49d2ab9b58de4ae91ac4": {
      "model_module": "@jupyter-widgets/controls",
      "model_module_version": "1.2.0",
      "model_name": "FloatTextModel",
      "state": {
       "description": "sigma",
       "layout": "IPY_MODEL_c2a65a1077bf4b1c9b3ba8ffd3359b39",
       "step": 0.1,
       "style": "IPY_MODEL_22776c758f7b4a8fa05284d9d38dbddf",
       "value": 1
      }
     },
     "2a5e8949cf8340159bb28df661b072f1": {
      "model_module": "@jupyter-widgets/controls",
      "model_module_version": "1.2.0",
      "model_name": "SelectModel",
      "state": {
       "_options_labels": [
        "data/sensor-H57/no-cells_SAv-100k_SSS-H57-20k_000_.SPE"
       ],
       "index": 0,
       "layout": "IPY_MODEL_6d767473af654f5d9c73510ab45043e4",
       "style": "IPY_MODEL_9947c25988e0400daccfea90915c9ee2"
      }
     },
     "2a6e1b9ea69042ccb479bd8922b4c3e3": {
      "model_module": "@jupyter-widgets/controls",
      "model_module_version": "1.2.0",
      "model_name": "DescriptionStyleModel",
      "state": {
       "description_width": ""
      }
     },
     "2a7eeda57e1c429d8a77b6e15d71696f": {
      "model_module": "@jupyter-widgets/controls",
      "model_module_version": "1.2.0",
      "model_name": "ButtonModel",
      "state": {
       "description": "Auto",
       "layout": "IPY_MODEL_056306537363474c8160e61694a424b4",
       "style": "IPY_MODEL_f0a8fd71c949419c816299f44103538f"
      }
     },
     "2a7f49c3ab8141999adc08d0345fcedb": {
      "model_module": "@jupyter-widgets/controls",
      "model_module_version": "1.2.0",
      "model_name": "DescriptionStyleModel",
      "state": {
       "description_width": ""
      }
     },
     "2a854f57f160446f88868cdfeebd1b15": {
      "model_module": "@jupyter-widgets/base",
      "model_module_version": "1.0.0",
      "model_name": "LayoutModel",
      "state": {
       "width": "100%"
      }
     },
     "2ace33678a664e7f93b399359db8e7a9": {
      "model_module": "@jupyter-widgets/controls",
      "model_module_version": "1.2.0",
      "model_name": "FloatTextModel",
      "state": {
       "description": "max.",
       "layout": "IPY_MODEL_80f46a1514ff47459596d207e4185b65",
       "step": 0.1,
       "style": "IPY_MODEL_83d3e31c57f34f7d82e2583f231da2e9",
       "value": 2
      }
     },
     "2aeaabc4b9664104a7864f9d43b1d619": {
      "model_module": "@jupyter-widgets/controls",
      "model_module_version": "1.2.0",
      "model_name": "SelectModel",
      "state": {
       "_options_labels": [
        "sensor-H57/cells-01_SAv-100k_SSS-H57-20k_000_.SPE"
       ],
       "index": 0,
       "layout": "IPY_MODEL_c35106bfaa0941c6b210074ade26615e",
       "style": "IPY_MODEL_cc8cddcf0157400f815cc2a75b4a618e"
      }
     },
     "2b58c109e6ac46239d4f9d6bdda564c4": {
      "model_module": "@jupyter-widgets/base",
      "model_module_version": "1.0.0",
      "model_name": "LayoutModel",
      "state": {}
     },
     "2b5f6308bdf14b199396b2ea3b42bb13": {
      "model_module": "@jupyter-widgets/base",
      "model_module_version": "1.0.0",
      "model_name": "LayoutModel",
      "state": {}
     },
     "2b8b9302d0f9428686e139e3c91bbfec": {
      "model_module": "@jupyter-widgets/controls",
      "model_module_version": "1.2.0",
      "model_name": "VBoxModel",
      "state": {
       "children": [
        "IPY_MODEL_2092f80b175343eb85daaa486ff93c81",
        "IPY_MODEL_b3b7103e5014420a93ef7594b418fbdc"
       ],
       "layout": "IPY_MODEL_850705be2c594966a1ed5adf20120cf0"
      }
     },
     "2bad4212a2344400817848a55f43b7e2": {
      "model_module": "@jupyter-widgets/base",
      "model_module_version": "1.0.0",
      "model_name": "LayoutModel",
      "state": {}
     },
     "2bdc6286bc324446abeb806728914f9b": {
      "model_module": "@jupyter-widgets/controls",
      "model_module_version": "1.2.0",
      "model_name": "FloatTextModel",
      "state": {
       "description": "threshold",
       "layout": "IPY_MODEL_f69970cdb3da4bffa54fc4e5b5df7d1d",
       "step": 10,
       "style": "IPY_MODEL_d5b6469fb03547a0bc9f4e339c5580ce",
       "value": 80
      }
     },
     "2be1c140067242058022433e037e7d46": {
      "model_module": "@jupyter-widgets/base",
      "model_module_version": "1.0.0",
      "model_name": "LayoutModel",
      "state": {
       "display": "flex",
       "flex_flow": "column wrap",
       "width": "66%"
      }
     },
     "2c2757aa06f04e0dace96d88c285a4d5": {
      "model_module": "@jupyter-widgets/base",
      "model_module_version": "1.0.0",
      "model_name": "LayoutModel",
      "state": {}
     },
     "2cab9af1129d4fa09b95251563b39926": {
      "model_module": "@jupyter-widgets/base",
      "model_module_version": "1.0.0",
      "model_name": "LayoutModel",
      "state": {
       "width": "auto"
      }
     },
     "2cb3f4efb70e404ba44e739a4911fd9a": {
      "model_module": "@jupyter-widgets/controls",
      "model_module_version": "1.2.0",
      "model_name": "HBoxModel",
      "state": {
       "children": [
        "IPY_MODEL_b5382e8e4a334e689f87ee8406f5b5a4",
        "IPY_MODEL_5086ea7aef1f46a5808760b81c382cb7"
       ],
       "layout": "IPY_MODEL_cbcb7d4ab97141fc96f65b0380eba974"
      }
     },
     "2d00fffaf6f0433197e27cafa9c30d99": {
      "model_module": "@jupyter-widgets/controls",
      "model_module_version": "1.2.0",
      "model_name": "CheckboxModel",
      "state": {
       "description": "Min. distance",
       "disabled": false,
       "indent": false,
       "layout": "IPY_MODEL_0d28e98bb1b740e9b120e4d2ed3ef1b9",
       "style": "IPY_MODEL_eabfc79546414ba9812c47f254b8d06b",
       "value": true
      }
     },
     "2d34235e1324485a9b3095eb00fffcdd": {
      "model_module": "@jupyter-widgets/controls",
      "model_module_version": "1.2.0",
      "model_name": "HBoxModel",
      "state": {
       "children": [
        "IPY_MODEL_65772dc1e5764508bf7830b7a5a9a2b4",
        "IPY_MODEL_07ba1d809e7c4ee195754d8378541f95"
       ],
       "layout": "IPY_MODEL_bbfa607bfd6a4404b67fb4e05e5b41f0"
      }
     },
     "2d63d416c73b4a6b9ae3882a85c68391": {
      "model_module": "@jupyter-widgets/base",
      "model_module_version": "1.0.0",
      "model_name": "LayoutModel",
      "state": {}
     },
     "2da60094b46e4cf69901d81463e9475b": {
      "model_module": "@jupyter-widgets/base",
      "model_module_version": "1.0.0",
      "model_name": "LayoutModel",
      "state": {}
     },
     "2dacbaa2b3094d1a80a90e4ec97b39e8": {
      "model_module": "@jupyter-widgets/controls",
      "model_module_version": "1.2.0",
      "model_name": "DescriptionStyleModel",
      "state": {
       "description_width": ""
      }
     },
     "2db8ca2299fe4fa48602131838f721ce": {
      "model_module": "@jupyter-widgets/controls",
      "model_module_version": "1.2.0",
      "model_name": "LabelModel",
      "state": {
       "layout": "IPY_MODEL_723210085c814704904c271a2a99f89c",
       "style": "IPY_MODEL_edc2949c96304ab1b6e61e36f72849ca",
       "value": "Tracking ctrl-H57/no-cells_SAv-100k_SSS-ctrl-H57-50k_029_.SPE (213/213)"
      }
     },
     "2dcbe250205243a6a313528d00fb0663": {
      "model_module": "@jupyter-widgets/controls",
      "model_module_version": "1.2.0",
      "model_name": "DescriptionStyleModel",
      "state": {
       "description_width": ""
      }
     },
     "2dcd207dc31e43ba81fa5e18ff2c7f5e": {
      "model_module": "@jupyter-widgets/controls",
      "model_module_version": "1.2.0",
      "model_name": "CheckboxModel",
      "state": {
       "description": "Size range",
       "disabled": false,
       "indent": false,
       "layout": "IPY_MODEL_211438e48b4d4c84848bb99f9b5277a3",
       "style": "IPY_MODEL_704bb813a1324e319c9d68815e865f2d",
       "value": false
      }
     },
     "2dd721c826fe4e56abc05887e2133573": {
      "model_module": "@jupyter-widgets/base",
      "model_module_version": "1.0.0",
      "model_name": "LayoutModel",
      "state": {
       "width": "100%"
      }
     },
     "2df394f6bb7e4aada10f1ba8d918d4fb": {
      "model_module": "@jupyter-widgets/base",
      "model_module_version": "1.0.0",
      "model_name": "LayoutModel",
      "state": {
       "width": "75%"
      }
     },
     "2df5ef056f3c40e6b6d2b8e39ede9f6d": {
      "model_module": "@jupyter-widgets/controls",
      "model_module_version": "1.2.0",
      "model_name": "DescriptionStyleModel",
      "state": {
       "description_width": ""
      }
     },
     "2dfba74104b24ebe8e5d983f36979c28": {
      "model_module": "@jupyter-widgets/controls",
      "model_module_version": "1.2.0",
      "model_name": "DescriptionStyleModel",
      "state": {
       "description_width": ""
      }
     },
     "2e337cabe3184abea9ba58b6f0f7fa72": {
      "model_module": "@jupyter-widgets/controls",
      "model_module_version": "1.2.0",
      "model_name": "DescriptionStyleModel",
      "state": {
       "description_width": ""
      }
     },
     "2e5a7d571e3a46eb8df1918e46ef0e05": {
      "model_module": "@jupyter-widgets/controls",
      "model_module_version": "1.2.0",
      "model_name": "VBoxModel",
      "state": {
       "children": [
        "IPY_MODEL_5eaf8f3cdebe4e9cad9fb053d288afdf",
        "IPY_MODEL_8f419c9a97774aa7b8672e5b715e1279",
        "IPY_MODEL_f57b7edd3d40443bb5669429abade58b"
       ],
       "layout": "IPY_MODEL_74ed080bf3d343688e27a95f3cdc939f"
      }
     },
     "2e5dcae31e52441794fbc41e8ead87db": {
      "model_module": "@jupyter-widgets/base",
      "model_module_version": "1.0.0",
      "model_name": "LayoutModel",
      "state": {
       "width": "auto"
      }
     },
     "2e5fdd4a325c4074b3d9cc96928c9f53": {
      "model_module": "@jupyter-widgets/base",
      "model_module_version": "1.0.0",
      "model_name": "LayoutModel",
      "state": {}
     },
     "2e7b3e7890d948e0915983a4ef86ab85": {
      "model_module": "@jupyter-widgets/base",
      "model_module_version": "1.0.0",
      "model_name": "LayoutModel",
      "state": {}
     },
     "2e8e52ae825e4c72986f6383f0aa0290": {
      "model_module": "@jupyter-widgets/base",
      "model_module_version": "1.0.0",
      "model_name": "LayoutModel",
      "state": {}
     },
     "2ea8a59f129b405d87173f9f3230b8e6": {
      "model_module": "@jupyter-widgets/controls",
      "model_module_version": "1.2.0",
      "model_name": "DescriptionStyleModel",
      "state": {
       "description_width": ""
      }
     },
     "2edf73a67e144099aca3bd81f94bd30e": {
      "model_module": "@jupyter-widgets/base",
      "model_module_version": "1.0.0",
      "model_name": "LayoutModel",
      "state": {
       "width": "100%"
      }
     },
     "2efa69b4d750402ebc98cbc7f32d21de": {
      "model_module": "@jupyter-widgets/controls",
      "model_module_version": "1.2.0",
      "model_name": "ButtonModel",
      "state": {
       "description": "Auto",
       "layout": "IPY_MODEL_ea75b7b76fc947c1a28b1f756d684b82",
       "style": "IPY_MODEL_64858b97ea784e55991766fa5500663e"
      }
     },
     "2f12a2c7f96c446295d15e6f1634ad2e": {
      "model_module": "@jupyter-widgets/controls",
      "model_module_version": "1.2.0",
      "model_name": "DescriptionStyleModel",
      "state": {
       "description_width": ""
      }
     },
     "2f4053fa41d94007a658e0781bd57781": {
      "model_module": "@jupyter-widgets/controls",
      "model_module_version": "1.2.0",
      "model_name": "VBoxModel",
      "state": {
       "children": [
        "IPY_MODEL_bfab9ba562884a3e81d2e2b4af74b31d",
        "IPY_MODEL_6153c1e9a4ec40c1af4f614afd962372",
        "IPY_MODEL_cff2e78cddb748b29dc024bb9f23ab30"
       ],
       "layout": "IPY_MODEL_a454f90010344f9da575044b7c3b7350"
      }
     },
     "2f46ab7834e24ba5b2f8dd7da1f358d1": {
      "model_module": "@jupyter-widgets/controls",
      "model_module_version": "1.2.0",
      "model_name": "CheckboxModel",
      "state": {
       "description": "Show loc.",
       "disabled": false,
       "indent": false,
       "layout": "IPY_MODEL_a83193a683334498a1967275c84acf79",
       "style": "IPY_MODEL_cddee87aa2554225887a998832e81dc0",
       "value": true
      }
     },
     "2f74747c945244348968b676d001dc3d": {
      "model_module": "@jupyter-widgets/base",
      "model_module_version": "1.0.0",
      "model_name": "LayoutModel",
      "state": {}
     },
     "2f874938a2d94bcba003ba49e8e33c0a": {
      "model_module": "@jupyter-widgets/controls",
      "model_module_version": "1.2.0",
      "model_name": "BoundedIntTextModel",
      "state": {
       "description": "frame",
       "layout": "IPY_MODEL_e0de3359d3ad4c85a2024598e52fb1b2",
       "max": 49,
       "style": "IPY_MODEL_c230cc0668ed41d99de71598ded8c06c",
       "value": 5
      }
     },
     "2ff157d5494b47c29f5d253371c8ea80": {
      "model_module": "@jupyter-widgets/base",
      "model_module_version": "1.0.0",
      "model_name": "LayoutModel",
      "state": {
       "width": "auto"
      }
     },
     "30a0241e5c814472b05714b48f2ffe88": {
      "model_module": "@jupyter-widgets/controls",
      "model_module_version": "1.2.0",
      "model_name": "HBoxModel",
      "state": {
       "children": [
        "IPY_MODEL_b304b4607fc342b6b848e390fe8bdfd8",
        "IPY_MODEL_d3bc122c893f43a9a701e4b6f4766028"
       ],
       "layout": "IPY_MODEL_0524bbc1993d499ab516047e3e4ae8ef"
      }
     },
     "30ab117a33364db4b8b933f5dce6d78c": {
      "model_module": "@jupyter-widgets/base",
      "model_module_version": "1.0.0",
      "model_name": "LayoutModel",
      "state": {
       "width": "auto"
      }
     },
     "30c5f2d80a094d839f584d1816185c02": {
      "model_module": "@jupyter-widgets/controls",
      "model_module_version": "1.2.0",
      "model_name": "DescriptionStyleModel",
      "state": {
       "description_width": ""
      }
     },
     "3127de0b495e44bd958960c09eb00e6f": {
      "model_module": "@jupyter-widgets/base",
      "model_module_version": "1.0.0",
      "model_name": "LayoutModel",
      "state": {}
     },
     "3130d4af28a546978472cdba8dbea286": {
      "model_module": "@jupyter-widgets/controls",
      "model_module_version": "1.2.0",
      "model_name": "SelectModel",
      "state": {
       "_options_labels": [
        "data/beads/beads_000_.SPE",
        "data/beads/beads_001_.SPE",
        "data/beads/beads_002_.SPE",
        "data/beads/beads_003_.SPE",
        "data/beads/beads_004_.SPE",
        "data/beads/beads_005_.SPE",
        "data/beads/beads_006_.SPE",
        "data/beads/beads_007_.SPE",
        "data/beads/beads_008_.SPE",
        "data/beads/beads_009_.SPE"
       ],
       "index": 0,
       "layout": "IPY_MODEL_e49caeeef93048f3a2f0ba4968ab5447",
       "style": "IPY_MODEL_0cdd03ac64564b4c9f06551bd032c8e4"
      }
     },
     "314d4dde2e7143af86f5e874575a1e5e": {
      "model_module": "@jupyter-widgets/controls",
      "model_module_version": "1.2.0",
      "model_name": "VBoxModel",
      "state": {
       "children": [
        "IPY_MODEL_ba9317bcc582450e8dfd0a9089f6527a",
        "IPY_MODEL_0200b780536d46a68b76eabe0aa9c320",
        "IPY_MODEL_d1773b06b7614fe380b8490c85ae1797",
        "IPY_MODEL_df2a54fb5a494245ae210802a381041a",
        "IPY_MODEL_07751bd64e3b49d794716b8557be9e28",
        "IPY_MODEL_477607fb50a8480c92e3ba3e31698ab6"
       ],
       "layout": "IPY_MODEL_a9e6897cc4c3469b8c7059a067a847ea"
      }
     },
     "31b444c16f454933a68729399ccbbfdf": {
      "model_module": "@jupyter-widgets/controls",
      "model_module_version": "1.2.0",
      "model_name": "VBoxModel",
      "state": {
       "children": [
        "IPY_MODEL_4790f395dffc4ff392793a32a6539e60",
        "IPY_MODEL_0e53dd625aaf4141a1a499dd154d5c97",
        "IPY_MODEL_15fd5ddeea9b4b3ebf7f195fc013e804"
       ],
       "layout": "IPY_MODEL_7e859156759f45b38523fc18293aa11d"
      }
     },
     "31d34257a2ee401792e9a3e78ae01804": {
      "model_module": "@jupyter-widgets/controls",
      "model_module_version": "1.2.0",
      "model_name": "DescriptionStyleModel",
      "state": {
       "description_width": ""
      }
     },
     "31e0bc3e6a7f4c67994c1ad9260da0d1": {
      "model_module": "@jupyter-widgets/base",
      "model_module_version": "1.0.0",
      "model_name": "LayoutModel",
      "state": {
       "border": "1px solid gray"
      }
     },
     "31e4491c647e43999dd2c75c659a6a71": {
      "model_module": "@jupyter-widgets/controls",
      "model_module_version": "1.2.0",
      "model_name": "CheckboxModel",
      "state": {
       "description": "Size range",
       "disabled": false,
       "indent": false,
       "layout": "IPY_MODEL_514b5bd99b7c42adb3e56561b0c96554",
       "style": "IPY_MODEL_e8f311db4aae46339bc213801ec79649",
       "value": false
      }
     },
     "31fb0845074041e89dbcfc2a92d041c7": {
      "model_module": "@jupyter-widgets/base",
      "model_module_version": "1.0.0",
      "model_name": "LayoutModel",
      "state": {}
     },
     "328f0057f01d4d05a29128d582ab00d4": {
      "model_module": "@jupyter-widgets/controls",
      "model_module_version": "1.2.0",
      "model_name": "HBoxModel",
      "state": {
       "children": [
        "IPY_MODEL_45768ffe0934481d81d4dcbfbd39625d",
        "IPY_MODEL_01a2af9cf5104fb89fd4349bdc5dadb0",
        "IPY_MODEL_d3a10ad7dbe848a4b90517516149856c"
       ],
       "layout": "IPY_MODEL_cf6dbc4efe87490ba291bee634e48b75"
      }
     },
     "32b67c507baa46bb9b900b1e0e175126": {
      "model_module": "@jupyter-widgets/base",
      "model_module_version": "1.0.0",
      "model_name": "LayoutModel",
      "state": {
       "border": "1px solid gray"
      }
     },
     "336b38e4ea08432b992707580e7d2533": {
      "model_module": "@jupyter-widgets/controls",
      "model_module_version": "1.2.0",
      "model_name": "DropdownModel",
      "state": {
       "_options_labels": [
        "Identity",
        "Cg",
        "Gaussian"
       ],
       "description": "find filter",
       "index": 1,
       "layout": "IPY_MODEL_d4d4bf77cbaf495187273329a6e528c5",
       "style": "IPY_MODEL_f33352c769984bdb8569397b5ea79843"
      }
     },
     "338cf44fdfa9462cb4f5b1bc1190980d": {
      "model_module": "@jupyter-widgets/controls",
      "model_module_version": "1.2.0",
      "model_name": "HBoxModel",
      "state": {
       "children": [
        "IPY_MODEL_c6b5a2c35ab346b5939abbc473b6e036",
        "IPY_MODEL_eabca0ff3a3d4966ae8ae42be2d62ee4"
       ],
       "layout": "IPY_MODEL_1e9db56aac6d40d8acf83ef9d880b244"
      }
     },
     "33b505d4898344e08bee75837efdc0c8": {
      "model_module": "@jupyter-widgets/base",
      "model_module_version": "1.0.0",
      "model_name": "LayoutModel",
      "state": {
       "width": "auto"
      }
     },
     "33b6de483ca6433cb6abe21f23c9b310": {
      "model_module": "@jupyter-widgets/controls",
      "model_module_version": "1.2.0",
      "model_name": "CheckboxModel",
      "state": {
       "description": "Min. distance",
       "disabled": false,
       "indent": false,
       "layout": "IPY_MODEL_9afe321bb7c8441bac36317431dc9236",
       "style": "IPY_MODEL_377df01d6af84d56ac04a2ec3b7b200e",
       "value": false
      }
     },
     "33d2438241524a22a276e0c1f53efbd0": {
      "model_module": "@jupyter-widgets/base",
      "model_module_version": "1.0.0",
      "model_name": "LayoutModel",
      "state": {}
     },
     "33e0e4bf86b840f8a07fa69c50e39c00": {
      "model_module": "@jupyter-widgets/controls",
      "model_module_version": "1.2.0",
      "model_name": "DescriptionStyleModel",
      "state": {
       "description_width": ""
      }
     },
     "33e2ead747244865b0784cf450248b68": {
      "model_module": "@jupyter-widgets/controls",
      "model_module_version": "1.2.0",
      "model_name": "DropdownModel",
      "state": {
       "_options_labels": [
        "Identity",
        "Cg",
        "Gaussian"
       ],
       "description": "find filter",
       "index": 1,
       "layout": "IPY_MODEL_86c46d226c9342bd9799b721166690a6",
       "style": "IPY_MODEL_526e03976a084568bc186fea0e3470a9"
      }
     },
     "33fff774f93e46a2af5d1b55d8cb2994": {
      "model_module": "@jupyter-widgets/base",
      "model_module_version": "1.0.0",
      "model_name": "LayoutModel",
      "state": {
       "display": "none"
      }
     },
     "345e684d4c8944efa1f60f41e2c26c09": {
      "model_module": "@jupyter-widgets/base",
      "model_module_version": "1.0.0",
      "model_name": "LayoutModel",
      "state": {
       "width": "auto"
      }
     },
     "34934ccbd56f4acbbdc9e1b907e98de6": {
      "model_module": "@jupyter-widgets/controls",
      "model_module_version": "1.2.0",
      "model_name": "CheckboxModel",
      "state": {
       "description": "Min. distance",
       "disabled": false,
       "indent": false,
       "layout": "IPY_MODEL_29201598bb254ab9bd8c10d07bcb944e",
       "style": "IPY_MODEL_5a270a5953994efd86429a19106631ad",
       "value": false
      }
     },
     "3498c71ae10b40a4b58604efc7571bca": {
      "model_module": "@jupyter-widgets/controls",
      "model_module_version": "1.2.0",
      "model_name": "DescriptionStyleModel",
      "state": {
       "description_width": ""
      }
     },
     "349a6c60f42747edb1f90601260406eb": {
      "model_module": "@jupyter-widgets/base",
      "model_module_version": "1.0.0",
      "model_name": "LayoutModel",
      "state": {}
     },
     "34ae739732e64f14943fb575fb8acb08": {
      "model_module": "@jupyter-widgets/controls",
      "model_module_version": "1.2.0",
      "model_name": "DescriptionStyleModel",
      "state": {
       "description_width": ""
      }
     },
     "34bf8cbaf2714eb597514540f77ca60d": {
      "model_module": "@jupyter-widgets/controls",
      "model_module_version": "1.2.0",
      "model_name": "DescriptionStyleModel",
      "state": {
       "description_width": ""
      }
     },
     "3512eaffd0d549439f22523367cf10d8": {
      "model_module": "@jupyter-widgets/controls",
      "model_module_version": "1.2.0",
      "model_name": "DescriptionStyleModel",
      "state": {
       "description_width": ""
      }
     },
     "354a798a39b64454b1601798ffc3b8da": {
      "model_module": "@jupyter-widgets/base",
      "model_module_version": "1.0.0",
      "model_name": "LayoutModel",
      "state": {
       "display": "none"
      }
     },
     "3560dd9389c3463f86819f0c6634d24c": {
      "model_module": "@jupyter-widgets/controls",
      "model_module_version": "1.2.0",
      "model_name": "SliderStyleModel",
      "state": {
       "description_width": ""
      }
     },
     "358b3eb253e04bf2a0db36e0448d9957": {
      "model_module": "@jupyter-widgets/controls",
      "model_module_version": "1.2.0",
      "model_name": "DescriptionStyleModel",
      "state": {
       "description_width": ""
      }
     },
     "3593a37449154d8f82a44987fd1cabd8": {
      "model_module": "@jupyter-widgets/base",
      "model_module_version": "1.0.0",
      "model_name": "LayoutModel",
      "state": {
       "display": "none"
      }
     },
     "35a00fdfbead418f9674347962f7716a": {
      "model_module": "@jupyter-widgets/controls",
      "model_module_version": "1.2.0",
      "model_name": "DescriptionStyleModel",
      "state": {
       "description_width": ""
      }
     },
     "35affd50b11e4522a38dac9e0946d5c9": {
      "model_module": "@jupyter-widgets/base",
      "model_module_version": "1.0.0",
      "model_name": "LayoutModel",
      "state": {}
     },
     "3663842ab6404589b472521e2dad1bdc": {
      "model_module": "@jupyter-widgets/controls",
      "model_module_version": "1.2.0",
      "model_name": "IntRangeSliderModel",
      "state": {
       "_model_name": "IntRangeSliderModel",
       "_view_name": "IntRangeSliderView",
       "layout": "IPY_MODEL_28d9606c6c444c8889a38c026e121723",
       "max": 65535,
       "style": "IPY_MODEL_921181737b0045eb8e603a257dd72842",
       "value": [
        134,
        7442
       ]
      }
     },
     "36680b77f7ad4b55bfcebcb35039d055": {
      "model_module": "@jupyter-widgets/controls",
      "model_module_version": "1.2.0",
      "model_name": "DropdownModel",
      "state": {
       "_options_labels": [
        "2d_fixed",
        "2d",
        "3d"
       ],
       "description": "model",
       "index": 1,
       "layout": "IPY_MODEL_af70af434bc9431d86af759864a3265d",
       "style": "IPY_MODEL_4bf2598540974f29984f3861a5ff8e15"
      }
     },
     "3681124aa8ad436984338a2f81ea7fcb": {
      "model_module": "@jupyter-widgets/base",
      "model_module_version": "1.0.0",
      "model_name": "LayoutModel",
      "state": {
       "width": "auto"
      }
     },
     "3690a91a4735499dba9608c80843fd02": {
      "model_module": "@jupyter-widgets/controls",
      "model_module_version": "1.2.0",
      "model_name": "VBoxModel",
      "state": {
       "children": [
        "IPY_MODEL_f7998b084203443680d101c740cfe14c",
        "IPY_MODEL_3c37cf4ce0db45b294a87e2e2e66a7a7",
        "IPY_MODEL_3a27d8a7431f47d3b8bfe2a46dc1620b",
        "IPY_MODEL_52930f14c43948428e7e139e88ccdd1f",
        "IPY_MODEL_384636f90eb742369a39e87dabbacc35",
        "IPY_MODEL_aac9f45b45844ebead78d0105e3ee8bd"
       ],
       "layout": "IPY_MODEL_01c8d0a55d0d48fdb32ed0408d82c1f5"
      }
     },
     "3697558d7a714cffb229d1c70991bfbf": {
      "model_module": "@jupyter-widgets/base",
      "model_module_version": "1.0.0",
      "model_name": "LayoutModel",
      "state": {}
     },
     "36e0ecd660f249d58bdaa97b3a3c5a60": {
      "model_module": "@jupyter-widgets/controls",
      "model_module_version": "1.2.0",
      "model_name": "DescriptionStyleModel",
      "state": {
       "description_width": ""
      }
     },
     "37582f39e27b4551a390952582802e16": {
      "model_module": "@jupyter-widgets/controls",
      "model_module_version": "1.2.0",
      "model_name": "DropdownModel",
      "state": {
       "_options_labels": [
        "Identity",
        "Cg",
        "Gaussian"
       ],
       "description": "find filter",
       "index": 1,
       "layout": "IPY_MODEL_498960a071374e37891d79f5c213ef6c",
       "style": "IPY_MODEL_0d66c1f375ac41059427cca0ddc0d82a"
      }
     },
     "3761dc572846486f8ca53e123fbe0f0f": {
      "model_module": "@jupyter-widgets/controls",
      "model_module_version": "1.2.0",
      "model_name": "DescriptionStyleModel",
      "state": {
       "description_width": ""
      }
     },
     "377df01d6af84d56ac04a2ec3b7b200e": {
      "model_module": "@jupyter-widgets/controls",
      "model_module_version": "1.2.0",
      "model_name": "DescriptionStyleModel",
      "state": {
       "description_width": ""
      }
     },
     "37ad7e9ad02244f7aaae9222cbbafdb1": {
      "model_module": "@jupyter-widgets/base",
      "model_module_version": "1.0.0",
      "model_name": "LayoutModel",
      "state": {}
     },
     "37b4c7ed280b4d5aa4ccdbad7e7604f0": {
      "model_module": "@jupyter-widgets/base",
      "model_module_version": "1.0.0",
      "model_name": "LayoutModel",
      "state": {
       "border": "1px solid gray"
      }
     },
     "37b952d553f74ebfb7c2c0ecf1d4f8f1": {
      "model_module": "@jupyter-widgets/controls",
      "model_module_version": "1.2.0",
      "model_name": "LabelModel",
      "state": {
       "layout": "IPY_MODEL_fd48958d981a44ef958f0020d62a2cfa",
       "style": "IPY_MODEL_732a147ad77b4398b718fed17c20844d",
       "value": "Locating beads (file 10/10)"
      }
     },
     "37ef0d8b772140dfbf59b4763913ae43": {
      "model_module": "@jupyter-widgets/base",
      "model_module_version": "1.0.0",
      "model_name": "LayoutModel",
      "state": {}
     },
     "383915e9cac648e3a42e51a4d0858d65": {
      "model_module": "@jupyter-widgets/controls",
      "model_module_version": "1.2.0",
      "model_name": "HBoxModel",
      "state": {
       "children": [
        "IPY_MODEL_21a5d117f81846c995b25fedf5e25b60",
        "IPY_MODEL_3690a91a4735499dba9608c80843fd02"
       ],
       "layout": "IPY_MODEL_01201ffdcbff4b7d99f12629d45e4765"
      }
     },
     "384636f90eb742369a39e87dabbacc35": {
      "model_module": "@jupyter-widgets/controls",
      "model_module_version": "1.2.0",
      "model_name": "HBoxModel",
      "state": {
       "children": [
        "IPY_MODEL_9a5f9e52cc0b433c9be07791633d55fb",
        "IPY_MODEL_0cea7e65dde3457aa96dbed8b7568a9b"
       ],
       "layout": "IPY_MODEL_c5a09fe99ce7403da8ed57fba46e3dd0"
      }
     },
     "386b71b351a64a1a954377121aa10d0a": {
      "model_module": "@jupyter-widgets/base",
      "model_module_version": "1.0.0",
      "model_name": "LayoutModel",
      "state": {
       "width": "75%"
      }
     },
     "38a7fdf1a3bb4fc5ba8172b7e156b029": {
      "model_module": "@jupyter-widgets/controls",
      "model_module_version": "1.2.0",
      "model_name": "IntRangeSliderModel",
      "state": {
       "_model_name": "IntRangeSliderModel",
       "_view_name": "IntRangeSliderView",
       "layout": "IPY_MODEL_218f89f1b57c455fb73eaf34eae69515",
       "max": 65535,
       "style": "IPY_MODEL_12ac72ede8384674adc3df71072a70fe",
       "value": [
        134,
        25393
       ]
      }
     },
     "38dcb74fa34f48f4a0a41912cd4ac83d": {
      "model_module": "@jupyter-widgets/controls",
      "model_module_version": "1.2.0",
      "model_name": "DescriptionStyleModel",
      "state": {
       "description_width": ""
      }
     },
     "398608ecacd949bc8f063480366982a5": {
      "model_module": "@jupyter-widgets/base",
      "model_module_version": "1.0.0",
      "model_name": "LayoutModel",
      "state": {
       "display": "none"
      }
     },
     "3a27d8a7431f47d3b8bfe2a46dc1620b": {
      "model_module": "@jupyter-widgets/controls",
      "model_module_version": "1.2.0",
      "model_name": "FloatTextModel",
      "state": {
       "description": "threshold",
       "layout": "IPY_MODEL_de096bf297284c4ba9d71eb7a810dadd",
       "step": 10,
       "style": "IPY_MODEL_3b5373bf964240b780b4c860c041612a",
       "value": 100
      }
     },
     "3a286e7c794c499eabcb6dfa3bf4a97b": {
      "model_module": "@jupyter-widgets/controls",
      "model_module_version": "1.2.0",
      "model_name": "CheckboxModel",
      "state": {
       "description": "Min. distance",
       "disabled": false,
       "indent": false,
       "layout": "IPY_MODEL_b16e5eb0bf554c65b74a24feb96709a8",
       "style": "IPY_MODEL_c4de4d48993e40d28053ddf2b8098a13",
       "value": false
      }
     },
     "3a2d6fdf137f40619d5b0e4ea9344a73": {
      "model_module": "@jupyter-widgets/controls",
      "model_module_version": "1.2.0",
      "model_name": "VBoxModel",
      "state": {
       "children": [
        "IPY_MODEL_40543da14e8a45409dc49051853d7c25",
        "IPY_MODEL_766095983907487a87bcc331677cb94d",
        "IPY_MODEL_1a9a1416534040559ecaeeb13f1b824a"
       ],
       "layout": "IPY_MODEL_cd5c8f3412cf455d876b8525e7f7fd2d"
      }
     },
     "3a44ae3acfe44081a8ddc69eca17b29a": {
      "model_module": "@jupyter-widgets/base",
      "model_module_version": "1.0.0",
      "model_name": "LayoutModel",
      "state": {}
     },
     "3a5322cb3cb44c848a6da8e63862da57": {
      "model_module": "@jupyter-widgets/base",
      "model_module_version": "1.0.0",
      "model_name": "LayoutModel",
      "state": {
       "display": "none"
      }
     },
     "3a5e4229eb1d47538c530b654ba8511e": {
      "model_module": "@jupyter-widgets/controls",
      "model_module_version": "1.2.0",
      "model_name": "LabelModel",
      "state": {
       "layout": "IPY_MODEL_b0cd287641f84a2a9d05a74793931579",
       "style": "IPY_MODEL_5e6811fb63c74e868f450423ba6ad548",
       "value": "Locating beads (file 10/10)"
      }
     },
     "3a5f65ba7775490d93465572747b1696": {
      "model_module": "@jupyter-widgets/base",
      "model_module_version": "1.0.0",
      "model_name": "LayoutModel",
      "state": {}
     },
     "3a6678335a474892a86e82b0edae6bbf": {
      "model_module": "@jupyter-widgets/base",
      "model_module_version": "1.0.0",
      "model_name": "LayoutModel",
      "state": {
       "height": "150px",
       "width": "100%"
      }
     },
     "3a67196d27014701a62fa9a22a9167a8": {
      "model_module": "@jupyter-widgets/base",
      "model_module_version": "1.0.0",
      "model_name": "LayoutModel",
      "state": {
       "display": "none"
      }
     },
     "3b3b7dd44e824c8b806aee7c8bb1e065": {
      "model_module": "@jupyter-widgets/controls",
      "model_module_version": "1.2.0",
      "model_name": "DescriptionStyleModel",
      "state": {
       "description_width": ""
      }
     },
     "3b4a599f18eb484f89abca24821169d5": {
      "model_module": "@jupyter-widgets/controls",
      "model_module_version": "1.2.0",
      "model_name": "FloatTextModel",
      "state": {
       "layout": "IPY_MODEL_63807a890eb7470ba44feed616076dd0",
       "step": 0.1,
       "style": "IPY_MODEL_5600573c8c8b4ea596b13dcb94a9939a",
       "value": 3
      }
     },
     "3b5373bf964240b780b4c860c041612a": {
      "model_module": "@jupyter-widgets/controls",
      "model_module_version": "1.2.0",
      "model_name": "DescriptionStyleModel",
      "state": {
       "description_width": ""
      }
     },
     "3b6207d8c3734ff4a52804ea21713787": {
      "model_module": "@jupyter-widgets/base",
      "model_module_version": "1.0.0",
      "model_name": "LayoutModel",
      "state": {}
     },
     "3b63878afce54f82b604d3986ea88f88": {
      "model_module": "@jupyter-widgets/base",
      "model_module_version": "1.0.0",
      "model_name": "LayoutModel",
      "state": {}
     },
     "3b6d145814284f81a73a8766f2202449": {
      "model_module": "@jupyter-widgets/base",
      "model_module_version": "1.0.0",
      "model_name": "LayoutModel",
      "state": {
       "display": "inline"
      }
     },
     "3b7d0dbaf2214570a98eb67de0b91a6f": {
      "model_module": "@jupyter-widgets/controls",
      "model_module_version": "1.2.0",
      "model_name": "DescriptionStyleModel",
      "state": {
       "description_width": ""
      }
     },
     "3bd3ca85972f4753945635cc6a4b40e8": {
      "model_module": "@jupyter-widgets/controls",
      "model_module_version": "1.2.0",
      "model_name": "SelectModel",
      "state": {
       "_options_labels": [
        "data/beads/beads_000_.SPE",
        "data/beads/beads_001_.SPE",
        "data/beads/beads_002_.SPE",
        "data/beads/beads_003_.SPE",
        "data/beads/beads_004_.SPE",
        "data/beads/beads_005_.SPE",
        "data/beads/beads_006_.SPE",
        "data/beads/beads_007_.SPE",
        "data/beads/beads_008_.SPE",
        "data/beads/beads_009_.SPE"
       ],
       "index": 2,
       "layout": "IPY_MODEL_a7b19d4cf67e478589baafdeccf11344",
       "style": "IPY_MODEL_7f8c1ba0849c4963a3aec678f5fcbf8b"
      }
     },
     "3bdc168d46bd4052a5c6535d639525d8": {
      "model_module": "@jupyter-widgets/controls",
      "model_module_version": "1.2.0",
      "model_name": "DescriptionStyleModel",
      "state": {
       "description_width": ""
      }
     },
     "3be64c840f9c483681797b6d67d67b27": {
      "model_module": "@jupyter-widgets/base",
      "model_module_version": "1.0.0",
      "model_name": "LayoutModel",
      "state": {
       "width": "auto"
      }
     },
     "3c29b07ceaa2490b940db8fc6f9eff30": {
      "model_module": "@jupyter-widgets/base",
      "model_module_version": "1.0.0",
      "model_name": "LayoutModel",
      "state": {
       "display": "inline"
      }
     },
     "3c37cf4ce0db45b294a87e2e2e66a7a7": {
      "model_module": "@jupyter-widgets/controls",
      "model_module_version": "1.2.0",
      "model_name": "DropdownModel",
      "state": {
       "_options_labels": [
        "2d_fixed",
        "2d",
        "3d"
       ],
       "description": "model",
       "index": 1,
       "layout": "IPY_MODEL_1801f0ca4a8a48b2bb97a19367c533ea",
       "style": "IPY_MODEL_140ec12a11b9452bbfb35586d4dcede5"
      }
     },
     "3c545a405b674051b41100b62fdf4ca2": {
      "model_module": "@jupyter-widgets/base",
      "model_module_version": "1.0.0",
      "model_name": "LayoutModel",
      "state": {}
     },
     "3c575d413417433c9323336b0c3bb3ab": {
      "model_module": "@jupyter-widgets/controls",
      "model_module_version": "1.2.0",
      "model_name": "DescriptionStyleModel",
      "state": {
       "description_width": ""
      }
     },
     "3c8d1e78915a409e9085df65c4d1ffe0": {
      "model_module": "@jupyter-widgets/base",
      "model_module_version": "1.0.0",
      "model_name": "LayoutModel",
      "state": {}
     },
     "3c97b874e3e548b392390d99e542d906": {
      "model_module": "@jupyter-widgets/base",
      "model_module_version": "1.0.0",
      "model_name": "LayoutModel",
      "state": {
       "width": "auto"
      }
     },
     "3cb0d27cf4e64e7dbba3e398ee1b9917": {
      "model_module": "@jupyter-widgets/controls",
      "model_module_version": "1.2.0",
      "model_name": "FloatTextModel",
      "state": {
       "description": "min.",
       "layout": "IPY_MODEL_42fbbf29055947cab3c8da93d897353f",
       "step": 0.1,
       "style": "IPY_MODEL_92c035acd4c94c8f825860b4865061a3",
       "value": 0.5
      }
     },
     "3cda9afe6d824df9b2dbfe89e7c6ec92": {
      "model_module": "@jupyter-widgets/controls",
      "model_module_version": "1.2.0",
      "model_name": "FloatTextModel",
      "state": {
       "description": "min.",
       "layout": "IPY_MODEL_aa24ebdabe454b5c926dedbd4652a7a5",
       "step": 0.1,
       "style": "IPY_MODEL_7b584ece4361442f9e5d5ae43bdc193c",
       "value": 0.5
      }
     },
     "3d5af2746fd745cf8028df9866770533": {
      "model_module": "@jupyter-widgets/base",
      "model_module_version": "1.0.0",
      "model_name": "LayoutModel",
      "state": {}
     },
     "3dfcc337145e43b59dc9f567314f1074": {
      "model_module": "@jupyter-widgets/controls",
      "model_module_version": "1.2.0",
      "model_name": "DescriptionStyleModel",
      "state": {
       "description_width": ""
      }
     },
     "3e17ce9a39774c4182411752843e01f7": {
      "model_module": "@jupyter-widgets/controls",
      "model_module_version": "1.2.0",
      "model_name": "DescriptionStyleModel",
      "state": {
       "description_width": ""
      }
     },
     "3e4944042f0845319952b320763018d0": {
      "model_module": "@jupyter-widgets/controls",
      "model_module_version": "1.2.0",
      "model_name": "DescriptionStyleModel",
      "state": {
       "description_width": ""
      }
     },
     "3e56f2bef8274caf9fa9c8d3f07d4271": {
      "model_module": "@jupyter-widgets/base",
      "model_module_version": "1.0.0",
      "model_name": "LayoutModel",
      "state": {}
     },
     "3e6da3751f5f43d1ad96b63db51fc2d5": {
      "model_module": "@jupyter-widgets/base",
      "model_module_version": "1.0.0",
      "model_name": "LayoutModel",
      "state": {}
     },
     "3ebf2cda1286428da899bc7ac0434f28": {
      "model_module": "@jupyter-widgets/controls",
      "model_module_version": "1.2.0",
      "model_name": "LabelModel",
      "state": {
       "layout": "IPY_MODEL_88e452512c2a453dae2c9766752f5965",
       "style": "IPY_MODEL_acce2284551349c9bd0cb28aadc0ed58",
       "value": "Locating sensor-H57/cells-01_SAv-100k_SSS-H57-20k_000_.SPE (1/213)"
      }
     },
     "3f3dff0ea23d4c0da42191b6105bdbd9": {
      "model_module": "@jupyter-widgets/controls",
      "model_module_version": "1.2.0",
      "model_name": "DescriptionStyleModel",
      "state": {
       "description_width": ""
      }
     },
     "3f782f8371a24ca888d0504cc2dce459": {
      "model_module": "@jupyter-widgets/controls",
      "model_module_version": "1.2.0",
      "model_name": "IntRangeSliderModel",
      "state": {
       "_model_name": "IntRangeSliderModel",
       "_view_name": "IntRangeSliderView",
       "layout": "IPY_MODEL_aa3ff12a54e4489591f72079127925f6",
       "max": 65535,
       "style": "IPY_MODEL_ade9ee4d1be045f1af7d9360b08c544c",
       "value": [
        288,
        879
       ]
      }
     },
     "3f9418e628d24e748890f5c4dda6ace0": {
      "model_module": "@jupyter-widgets/controls",
      "model_module_version": "1.2.0",
      "model_name": "VBoxModel",
      "state": {
       "children": [
        "IPY_MODEL_7911c08f292a481c80c05b04716d2d21",
        "IPY_MODEL_6ca9d52f6bec41b2b6a3835ad9e9808a",
        "IPY_MODEL_027b45db01154a21918c8441fdd464ab"
       ],
       "layout": "IPY_MODEL_31e0bc3e6a7f4c67994c1ad9260da0d1"
      }
     },
     "3fc5493462e34f968eaa4595b4087632": {
      "model_module": "@jupyter-widgets/controls",
      "model_module_version": "1.2.0",
      "model_name": "DescriptionStyleModel",
      "state": {
       "description_width": ""
      }
     },
     "3fc7bb8133544386bfcdc2b59bb169c0": {
      "model_module": "@jupyter-widgets/controls",
      "model_module_version": "1.2.0",
      "model_name": "CheckboxModel",
      "state": {
       "description": "Size range",
       "disabled": false,
       "indent": false,
       "layout": "IPY_MODEL_fed7cd05491e48f6ab37507e51e4c53b",
       "style": "IPY_MODEL_970b112625964fd78495158398671b0e",
       "value": false
      }
     },
     "3ffb629a5fc24209b28d844fa0f143d2": {
      "model_module": "@jupyter-widgets/base",
      "model_module_version": "1.0.0",
      "model_name": "LayoutModel",
      "state": {
       "width": "auto"
      }
     },
     "404a23e84e2c419a9fb3be3b3ba78437": {
      "model_module": "@jupyter-widgets/base",
      "model_module_version": "1.0.0",
      "model_name": "LayoutModel",
      "state": {
       "display": "none"
      }
     },
     "40543da14e8a45409dc49051853d7c25": {
      "model_module": "@jupyter-widgets/controls",
      "model_module_version": "1.2.0",
      "model_name": "CheckboxModel",
      "state": {
       "description": "Size range",
       "disabled": false,
       "indent": false,
       "layout": "IPY_MODEL_c211590667d94e1ba903d9bb41556f7f",
       "style": "IPY_MODEL_742a23682d814029a435a2cd4e9c2c31",
       "value": false
      }
     },
     "407ce516982c43a1a697e896a1586e0c": {
      "model_module": "@jupyter-widgets/base",
      "model_module_version": "1.0.0",
      "model_name": "LayoutModel",
      "state": {
       "display": "none"
      }
     },
     "40da11987c9848cdbf569fd8a495553c": {
      "model_module": "@jupyter-widgets/base",
      "model_module_version": "1.0.0",
      "model_name": "LayoutModel",
      "state": {
       "width": "75%"
      }
     },
     "4100fe56dc0b474794a0e0181f531fa2": {
      "model_module": "@jupyter-widgets/base",
      "model_module_version": "1.0.0",
      "model_name": "LayoutModel",
      "state": {}
     },
     "4115c41ecd2f4ce59131fe44e539850f": {
      "model_module": "@jupyter-widgets/controls",
      "model_module_version": "1.2.0",
      "model_name": "DescriptionStyleModel",
      "state": {
       "description_width": ""
      }
     },
     "411a5b6f2fc54b669513f2747391d2b9": {
      "model_module": "@jupyter-widgets/controls",
      "model_module_version": "1.2.0",
      "model_name": "ButtonStyleModel",
      "state": {}
     },
     "413db89841384dc395069f5b8392741e": {
      "model_module": "@jupyter-widgets/controls",
      "model_module_version": "1.2.0",
      "model_name": "ButtonModel",
      "state": {
       "description": "Auto",
       "layout": "IPY_MODEL_a15fe1a85d9e4ec5b001e32cb91d0c65",
       "style": "IPY_MODEL_6d602d2bf98a4f85a66e84fef581fe4e"
      }
     },
     "41611cfe916d449eadd94ee06d3f57ae": {
      "model_module": "@jupyter-widgets/controls",
      "model_module_version": "1.2.0",
      "model_name": "DescriptionStyleModel",
      "state": {
       "description_width": ""
      }
     },
     "417b9bf113344cc0b8645f4a829750d8": {
      "model_module": "@jupyter-widgets/base",
      "model_module_version": "1.0.0",
      "model_name": "LayoutModel",
      "state": {}
     },
     "418ef43b5cf14e65bdf7ce484ec89c54": {
      "model_module": "@jupyter-widgets/controls",
      "model_module_version": "1.2.0",
      "model_name": "DescriptionStyleModel",
      "state": {
       "description_width": ""
      }
     },
     "41fa1613ebcb41d684a58cdfdc271be3": {
      "model_module": "@jupyter-widgets/controls",
      "model_module_version": "1.2.0",
      "model_name": "FloatTextModel",
      "state": {
       "description": "min.",
       "layout": "IPY_MODEL_ef95de6fd94f45e78a72b3debec04d11",
       "step": 0.1,
       "style": "IPY_MODEL_95f7c8157bf64759832ddcc4b2e44fed",
       "value": 0.5
      }
     },
     "4206f5309faa4d93908496b5d484138f": {
      "model_module": "@jupyter-widgets/base",
      "model_module_version": "1.0.0",
      "model_name": "LayoutModel",
      "state": {
       "width": "100%"
      }
     },
     "421aba4049bf4c39901e53f864c44f31": {
      "model_module": "@jupyter-widgets/base",
      "model_module_version": "1.0.0",
      "model_name": "LayoutModel",
      "state": {}
     },
     "42296a4b6f1b4f49b129bb4d23705751": {
      "model_module": "@jupyter-widgets/base",
      "model_module_version": "1.0.0",
      "model_name": "LayoutModel",
      "state": {
       "display": "none"
      }
     },
     "4235a193fe33482fab93e144a242265c": {
      "model_module": "@jupyter-widgets/controls",
      "model_module_version": "1.2.0",
      "model_name": "FloatTextModel",
      "state": {
       "description": "sigma",
       "layout": "IPY_MODEL_170d39d3ce444cba90ef4c63fbce7e89",
       "step": 0.1,
       "style": "IPY_MODEL_a8abbba0df0447ceb63ab913a797ce58",
       "value": 1
      }
     },
     "4237b9133c2b4b87a4e3f25bfce6b24a": {
      "model_module": "@jupyter-widgets/base",
      "model_module_version": "1.0.0",
      "model_name": "LayoutModel",
      "state": {}
     },
     "425c2255dfdc44a39fbc8ac9b2d7bb89": {
      "model_module": "@jupyter-widgets/controls",
      "model_module_version": "1.2.0",
      "model_name": "IntRangeSliderModel",
      "state": {
       "_model_name": "IntRangeSliderModel",
       "_view_name": "IntRangeSliderView",
       "layout": "IPY_MODEL_46c60bf5ed234171b40d85a20e05091d",
       "max": 65535,
       "style": "IPY_MODEL_cf5f51ce063a453bbe47101598458750",
       "value": [
        288,
        891
       ]
      }
     },
     "42653270d40a45689ce789a63a513e60": {
      "model_module": "@jupyter-widgets/base",
      "model_module_version": "1.0.0",
      "model_name": "LayoutModel",
      "state": {}
     },
     "428c3ec84c5e4239baf70014d127047e": {
      "model_module": "@jupyter-widgets/controls",
      "model_module_version": "1.2.0",
      "model_name": "DescriptionStyleModel",
      "state": {
       "description_width": ""
      }
     },
     "42dcfcbd1b9c451aa4d067fae2a86539": {
      "model_module": "@jupyter-widgets/controls",
      "model_module_version": "1.2.0",
      "model_name": "DescriptionStyleModel",
      "state": {
       "description_width": ""
      }
     },
     "42fbbf29055947cab3c8da93d897353f": {
      "model_module": "@jupyter-widgets/base",
      "model_module_version": "1.0.0",
      "model_name": "LayoutModel",
      "state": {
       "display": "none"
      }
     },
     "4302cddc8147486083b98f824c7ca5fa": {
      "model_module": "@jupyter-widgets/base",
      "model_module_version": "1.0.0",
      "model_name": "LayoutModel",
      "state": {}
     },
     "4351646a537848f0b89ddf17d9c3729c": {
      "model_module": "@jupyter-widgets/controls",
      "model_module_version": "1.2.0",
      "model_name": "DescriptionStyleModel",
      "state": {
       "description_width": ""
      }
     },
     "43536ff0d5a24e66973360c9f15580f4": {
      "model_module": "@jupyter-widgets/controls",
      "model_module_version": "1.2.0",
      "model_name": "DescriptionStyleModel",
      "state": {
       "description_width": ""
      }
     },
     "4365f161aa654dceb1f11c71ad69e059": {
      "model_module": "@jupyter-widgets/base",
      "model_module_version": "1.0.0",
      "model_name": "LayoutModel",
      "state": {
       "display": "none"
      }
     },
     "436b9b5f2afe4c6693f58f28df3c82d1": {
      "model_module": "@jupyter-widgets/controls",
      "model_module_version": "1.2.0",
      "model_name": "CheckboxModel",
      "state": {
       "description": "Min. distance",
       "disabled": false,
       "indent": false,
       "layout": "IPY_MODEL_03d007fe573c4c9cbc5e4ea7cb9d0326",
       "style": "IPY_MODEL_af64b99d6b9649ab87b51d9c15fe0a49",
       "value": false
      }
     },
     "43a725daeca449a48f513f4248fcbda3": {
      "model_module": "@jupyter-widgets/controls",
      "model_module_version": "1.2.0",
      "model_name": "HBoxModel",
      "state": {
       "children": [
        "IPY_MODEL_057f5b2e771b4affac01583cff8c1586",
        "IPY_MODEL_5e07b32ab6904ce988fd55d9bbce396d"
       ],
       "layout": "IPY_MODEL_577cf85bbf4c49c2a9a349dccda29721"
      }
     },
     "43d66b0944744ebda42365d083675a51": {
      "model_module": "@jupyter-widgets/controls",
      "model_module_version": "1.2.0",
      "model_name": "FloatTextModel",
      "state": {
       "layout": "IPY_MODEL_68fe90603e2a4cc4860284da46d09e25",
       "step": 0.1,
       "style": "IPY_MODEL_0621e68317c3484c843c55c54ace5a2e",
       "value": 1
      }
     },
     "440ba55ee22e4093b0a711491eb05679": {
      "model_module": "@jupyter-widgets/base",
      "model_module_version": "1.0.0",
      "model_name": "LayoutModel",
      "state": {
       "width": "auto"
      }
     },
     "444486cd6d484fc29b8662b83e39a1c7": {
      "model_module": "@jupyter-widgets/controls",
      "model_module_version": "1.2.0",
      "model_name": "BoundedIntTextModel",
      "state": {
       "description": "frame",
       "layout": "IPY_MODEL_920cafbe294c4239bb9b2febbcf8b6c2",
       "max": 49,
       "style": "IPY_MODEL_b96ba1d49c2045b4a31929bea958a44d"
      }
     },
     "4460a4b0e45149e8b62d0d75002d0361": {
      "model_module": "@jupyter-widgets/base",
      "model_module_version": "1.0.0",
      "model_name": "LayoutModel",
      "state": {
       "display": "none"
      }
     },
     "4481872b9f784e239878e3f4bd030059": {
      "model_module": "@jupyter-widgets/controls",
      "model_module_version": "1.2.0",
      "model_name": "DescriptionStyleModel",
      "state": {
       "description_width": ""
      }
     },
     "44af3bdb87e84606a1ad3a7482d31214": {
      "model_module": "@jupyter-widgets/base",
      "model_module_version": "1.0.0",
      "model_name": "LayoutModel",
      "state": {}
     },
     "44c08bc02daf42f1a0416a85a4b9969d": {
      "model_module": "@jupyter-widgets/controls",
      "model_module_version": "1.2.0",
      "model_name": "VBoxModel",
      "state": {
       "children": [
        "IPY_MODEL_2a5e8949cf8340159bb28df661b072f1",
        "IPY_MODEL_65c1cea39ab14e44bd2dd1f391ff5f93"
       ],
       "layout": "IPY_MODEL_483357af4d3a46a2b3aa2d1f7f77755f"
      }
     },
     "44d61e765f544bb2842b0a2c3bad6d82": {
      "model_module": "@jupyter-widgets/controls",
      "model_module_version": "1.2.0",
      "model_name": "LabelModel",
      "state": {
       "layout": "IPY_MODEL_a174c0b7b1b64f9ba03c41e6405c2c14",
       "style": "IPY_MODEL_e17c5727b9e04a1088b58e6a22d8b980",
       "value": "Locating beads (file 10/10)"
      }
     },
     "44edea9b95eb40efb7d60eba72138aa3": {
      "model_module": "@jupyter-widgets/base",
      "model_module_version": "1.0.0",
      "model_name": "LayoutModel",
      "state": {
       "display": "none"
      }
     },
     "4533b1a7813e4a9cb97fc5fcbb667536": {
      "model_module": "@jupyter-widgets/controls",
      "model_module_version": "1.2.0",
      "model_name": "FloatTextModel",
      "state": {
       "description": "max.",
       "layout": "IPY_MODEL_656f24bd247f4e26bbc7c8e9ccfcd091",
       "step": 0.1,
       "style": "IPY_MODEL_59afc03e4e994cbbacce159577f5a1bb",
       "value": 2
      }
     },
     "453de5d837a54a0c99ea6e4910ec4de4": {
      "model_module": "@jupyter-widgets/controls",
      "model_module_version": "1.2.0",
      "model_name": "DescriptionStyleModel",
      "state": {
       "description_width": ""
      }
     },
     "453eb9d6f82947aca55be75f9982a4ad": {
      "model_module": "@jupyter-widgets/base",
      "model_module_version": "1.0.0",
      "model_name": "LayoutModel",
      "state": {}
     },
     "454c08de3bcc4439b6a4751c4abdfe7c": {
      "model_module": "@jupyter-widgets/controls",
      "model_module_version": "1.2.0",
      "model_name": "DescriptionStyleModel",
      "state": {
       "description_width": ""
      }
     },
     "455cf6e9a00743579e54cef4efeee445": {
      "model_module": "@jupyter-widgets/controls",
      "model_module_version": "1.2.0",
      "model_name": "CheckboxModel",
      "state": {
       "description": "Min. distance",
       "disabled": false,
       "indent": false,
       "layout": "IPY_MODEL_9a22aab825cb4dfdb18cfdf79c3177b5",
       "style": "IPY_MODEL_a4eecdd6eac148078794d26ec458ae2d",
       "value": true
      }
     },
     "45768ffe0934481d81d4dcbfbd39625d": {
      "model_module": "@jupyter-widgets/controls",
      "model_module_version": "1.2.0",
      "model_name": "IntRangeSliderModel",
      "state": {
       "_model_name": "IntRangeSliderModel",
       "_view_name": "IntRangeSliderView",
       "layout": "IPY_MODEL_728268fbfb8a42a5949770b6a0cc242c",
       "max": 65535,
       "style": "IPY_MODEL_26b27b62cee64444ad2310759c9c6f22",
       "value": [
        297,
        1332
       ]
      }
     },
     "45a97c7bfdde493ab1761063e56f09de": {
      "model_module": "@jupyter-widgets/controls",
      "model_module_version": "1.2.0",
      "model_name": "ButtonStyleModel",
      "state": {}
     },
     "45ee5eca128243c499bc220cc0d4b8f8": {
      "model_module": "@jupyter-widgets/base",
      "model_module_version": "1.0.0",
      "model_name": "LayoutModel",
      "state": {
       "width": "100%"
      }
     },
     "462a79130c8645d198627256e0d82ca1": {
      "model_module": "@jupyter-widgets/base",
      "model_module_version": "1.0.0",
      "model_name": "LayoutModel",
      "state": {
       "height": "150px",
       "width": "100%"
      }
     },
     "463ded6a43294c99a7b0cb9d539d0c3a": {
      "model_module": "@jupyter-widgets/base",
      "model_module_version": "1.0.0",
      "model_name": "LayoutModel",
      "state": {
       "display": "none"
      }
     },
     "466a98b3e4164155ac3e59421f4747c4": {
      "model_module": "@jupyter-widgets/base",
      "model_module_version": "1.0.0",
      "model_name": "LayoutModel",
      "state": {
       "display": "none"
      }
     },
     "4698a6c0fe5f48868743f31af7dd1220": {
      "model_module": "@jupyter-widgets/controls",
      "model_module_version": "1.2.0",
      "model_name": "FloatTextModel",
      "state": {
       "description": "min.",
       "layout": "IPY_MODEL_fed75ad1157f438c870d9b33cafa3cb0",
       "step": 0.1,
       "style": "IPY_MODEL_8f1037d085144389a628066405742956",
       "value": 0.5
      }
     },
     "46abbf8828f94c0caed5369b5f796c00": {
      "model_module": "@jupyter-widgets/controls",
      "model_module_version": "1.2.0",
      "model_name": "SliderStyleModel",
      "state": {
       "description_width": ""
      }
     },
     "46c60bf5ed234171b40d85a20e05091d": {
      "model_module": "@jupyter-widgets/base",
      "model_module_version": "1.0.0",
      "model_name": "LayoutModel",
      "state": {
       "width": "75%"
      }
     },
     "47584766f8314f85a70a4f38066c9eff": {
      "model_module": "@jupyter-widgets/controls",
      "model_module_version": "1.2.0",
      "model_name": "DescriptionStyleModel",
      "state": {
       "description_width": ""
      }
     },
     "4759749c64d2497ca46af9130a2f7e24": {
      "model_module": "@jupyter-widgets/base",
      "model_module_version": "1.0.0",
      "model_name": "LayoutModel",
      "state": {}
     },
     "477607fb50a8480c92e3ba3e31698ab6": {
      "model_module": "@jupyter-widgets/controls",
      "model_module_version": "1.2.0",
      "model_name": "VBoxModel",
      "state": {
       "children": [
        "IPY_MODEL_3fc7bb8133544386bfcdc2b59bb169c0",
        "IPY_MODEL_3cda9afe6d824df9b2dbfe89e7c6ec92",
        "IPY_MODEL_6b4a267adab04b688e8540c81b625f5c"
       ],
       "layout": "IPY_MODEL_a0e18e07084b42d091852d2854f659b3"
      }
     },
     "477a123183b340b3bcba4ed01f9f591b": {
      "model_module": "@jupyter-widgets/base",
      "model_module_version": "1.0.0",
      "model_name": "LayoutModel",
      "state": {}
     },
     "4790f395dffc4ff392793a32a6539e60": {
      "model_module": "@jupyter-widgets/controls",
      "model_module_version": "1.2.0",
      "model_name": "CheckboxModel",
      "state": {
       "description": "Size range",
       "disabled": false,
       "indent": false,
       "layout": "IPY_MODEL_345e684d4c8944efa1f60f41e2c26c09",
       "style": "IPY_MODEL_2df5ef056f3c40e6b6d2b8e39ede9f6d",
       "value": false
      }
     },
     "479a85ec0b4c4d6dbc128c3e92899eb9": {
      "model_module": "@jupyter-widgets/base",
      "model_module_version": "1.0.0",
      "model_name": "LayoutModel",
      "state": {
       "display": "none"
      }
     },
     "479b92295e7c465fbafbc723031a2bf4": {
      "model_module": "@jupyter-widgets/base",
      "model_module_version": "1.0.0",
      "model_name": "LayoutModel",
      "state": {}
     },
     "47cd86d34ec4462893501a76ed9afd8f": {
      "model_module": "@jupyter-widgets/controls",
      "model_module_version": "1.2.0",
      "model_name": "DescriptionStyleModel",
      "state": {
       "description_width": ""
      }
     },
     "47d9ce6e1a864a1bb62a3df0054aeb85": {
      "model_module": "@jupyter-widgets/controls",
      "model_module_version": "1.2.0",
      "model_name": "ButtonStyleModel",
      "state": {}
     },
     "47f997f116f94cb7b6c09480f14e106b": {
      "model_module": "@jupyter-widgets/controls",
      "model_module_version": "1.2.0",
      "model_name": "DescriptionStyleModel",
      "state": {
       "description_width": ""
      }
     },
     "483357af4d3a46a2b3aa2d1f7f77755f": {
      "model_module": "@jupyter-widgets/base",
      "model_module_version": "1.0.0",
      "model_name": "LayoutModel",
      "state": {}
     },
     "483e9ce32bda47c488925371b0830254": {
      "model_module": "@jupyter-widgets/base",
      "model_module_version": "1.0.0",
      "model_name": "LayoutModel",
      "state": {
       "display": "none"
      }
     },
     "486ef561d5ad4ed8b6b402d8f99f85c4": {
      "model_module": "@jupyter-widgets/controls",
      "model_module_version": "1.2.0",
      "model_name": "DescriptionStyleModel",
      "state": {
       "description_width": ""
      }
     },
     "48c68a4560844d3fbb31562db6e9683e": {
      "model_module": "@jupyter-widgets/controls",
      "model_module_version": "1.2.0",
      "model_name": "DescriptionStyleModel",
      "state": {
       "description_width": ""
      }
     },
     "48fb649923464bb991a9700fa8811bb0": {
      "model_module": "@jupyter-widgets/controls",
      "model_module_version": "1.2.0",
      "model_name": "ButtonStyleModel",
      "state": {}
     },
     "48fff809a99c4795a642c5eb73a4bc80": {
      "model_module": "@jupyter-widgets/controls",
      "model_module_version": "1.2.0",
      "model_name": "DescriptionStyleModel",
      "state": {
       "description_width": ""
      }
     },
     "49119d5540824a35a119070707ae1701": {
      "model_module": "@jupyter-widgets/base",
      "model_module_version": "1.0.0",
      "model_name": "LayoutModel",
      "state": {}
     },
     "493efc4635854b789c035ec0c9b39114": {
      "model_module": "@jupyter-widgets/controls",
      "model_module_version": "1.2.0",
      "model_name": "DescriptionStyleModel",
      "state": {
       "description_width": ""
      }
     },
     "49512bb4c8814b779a50491620472709": {
      "model_module": "@jupyter-widgets/controls",
      "model_module_version": "1.2.0",
      "model_name": "DropdownModel",
      "state": {
       "_options_labels": [
        "Identity",
        "Cg",
        "Gaussian"
       ],
       "description": "find filter",
       "index": 0,
       "layout": "IPY_MODEL_3127de0b495e44bd958960c09eb00e6f",
       "style": "IPY_MODEL_7c2f1c1779d94e2e91f9166b3dd4b218"
      }
     },
     "496bcc72a596439c98d88c59f25b3d05": {
      "model_module": "@jupyter-widgets/controls",
      "model_module_version": "1.2.0",
      "model_name": "SliderStyleModel",
      "state": {
       "description_width": ""
      }
     },
     "498960a071374e37891d79f5c213ef6c": {
      "model_module": "@jupyter-widgets/base",
      "model_module_version": "1.0.0",
      "model_name": "LayoutModel",
      "state": {}
     },
     "49ab8d478e954eb9ba723305003c39a9": {
      "model_module": "@jupyter-widgets/controls",
      "model_module_version": "1.2.0",
      "model_name": "ButtonModel",
      "state": {
       "description": "Auto",
       "layout": "IPY_MODEL_8a73eacf81254b6eab54f9ad02fc146f",
       "style": "IPY_MODEL_e4a7d5985d9246e59f591bf25c398d01"
      }
     },
     "49b0252677114a718f2f1f5ce51aa65d": {
      "model_module": "@jupyter-widgets/base",
      "model_module_version": "1.0.0",
      "model_name": "LayoutModel",
      "state": {
       "border": "1px solid gray"
      }
     },
     "49b96d23871a4c919f44e812cb6471b5": {
      "model_module": "@jupyter-widgets/base",
      "model_module_version": "1.0.0",
      "model_name": "LayoutModel",
      "state": {}
     },
     "49bc3fc69ba548d29e373246ae84de05": {
      "model_module": "@jupyter-widgets/controls",
      "model_module_version": "1.2.0",
      "model_name": "BoundedIntTextModel",
      "state": {
       "description": "frame",
       "layout": "IPY_MODEL_01f7febb058f4a6ab60dfa074be2473d",
       "max": 49,
       "style": "IPY_MODEL_533466a2364245ec9c79c832089684ba"
      }
     },
     "49c8320dadf14967a9795101e0bd5512": {
      "model_module": "@jupyter-widgets/base",
      "model_module_version": "1.0.0",
      "model_name": "LayoutModel",
      "state": {}
     },
     "49f47ccf89f748e787085a389a86a031": {
      "model_module": "@jupyter-widgets/controls",
      "model_module_version": "1.2.0",
      "model_name": "CheckboxModel",
      "state": {
       "description": "Show loc.",
       "disabled": false,
       "indent": false,
       "layout": "IPY_MODEL_dcbf8a889bd04d8c9ff2ccec087765e6",
       "style": "IPY_MODEL_3dfcc337145e43b59dc9f567314f1074",
       "value": true
      }
     },
     "4a19eae047724d1c8aef7b840f80f3f5": {
      "model_module": "@jupyter-widgets/controls",
      "model_module_version": "1.2.0",
      "model_name": "VBoxModel",
      "state": {
       "children": [
        "IPY_MODEL_faf1a11f908944ffabbd7126a5e005e1",
        "IPY_MODEL_696eb39bab514c74999bc3001041492c"
       ],
       "layout": "IPY_MODEL_fffbe933fea044748d172e2a339cf65b"
      }
     },
     "4a1aaafdd5f744af8cf8e6809361d7c6": {
      "model_module": "@jupyter-widgets/base",
      "model_module_version": "1.0.0",
      "model_name": "LayoutModel",
      "state": {
       "display": "inline"
      }
     },
     "4a3df1f143e8450d88389850d2cfbe53": {
      "model_module": "@jupyter-widgets/controls",
      "model_module_version": "1.2.0",
      "model_name": "DescriptionStyleModel",
      "state": {
       "description_width": ""
      }
     },
     "4a41e935acee4148a4451a1654544e26": {
      "model_module": "@jupyter-widgets/controls",
      "model_module_version": "1.2.0",
      "model_name": "FloatTextModel",
      "state": {
       "description": "radius",
       "layout": "IPY_MODEL_129fbcfc47dd431bb83dc04e5b77badc",
       "step": 0.1,
       "style": "IPY_MODEL_cc4ae8ba518a41fc86f1d615d83338f5",
       "value": 1
      }
     },
     "4a490393faef437a9abcd614d0b88d2c": {
      "model_module": "@jupyter-widgets/controls",
      "model_module_version": "1.2.0",
      "model_name": "DescriptionStyleModel",
      "state": {
       "description_width": ""
      }
     },
     "4a51c13f3cd54ae98aa108b595a29848": {
      "model_module": "@jupyter-widgets/controls",
      "model_module_version": "1.2.0",
      "model_name": "BoundedIntTextModel",
      "state": {
       "description": "frame",
       "layout": "IPY_MODEL_2d63d416c73b4a6b9ae3882a85c68391",
       "max": 0,
       "style": "IPY_MODEL_94a04b48808646259dae3c75bf1e471a"
      }
     },
     "4a68f37c1a214fffa9dd0d7700cf194e": {
      "model_module": "@jupyter-widgets/controls",
      "model_module_version": "1.2.0",
      "model_name": "DescriptionStyleModel",
      "state": {
       "description_width": ""
      }
     },
     "4a736ac20cbe4d9496496506a52f7209": {
      "model_module": "@jupyter-widgets/controls",
      "model_module_version": "1.2.0",
      "model_name": "VBoxModel",
      "state": {
       "children": [
        "IPY_MODEL_b65b0c2916c34ab2981f5b32a3125ffd",
        "IPY_MODEL_7c0872584b414742a7b4ac503911cd25",
        "IPY_MODEL_cc6eea352d5e482d906f5aec93861cf0"
       ],
       "layout": "IPY_MODEL_8e6c34cfb4904b0a87936b4f7c942bc5"
      }
     },
     "4a7b5b806bad4a8b8f1567f9b0601f46": {
      "model_module": "@jupyter-widgets/controls",
      "model_module_version": "1.2.0",
      "model_name": "CheckboxModel",
      "state": {
       "description": "Show loc.",
       "disabled": false,
       "indent": false,
       "layout": "IPY_MODEL_1df8d90fd50d42a69167a3d390d0753d",
       "style": "IPY_MODEL_16280e129de34140ad85a284dd214b66",
       "value": true
      }
     },
     "4a933a90224440338f57b5258edc037e": {
      "model_module": "@jupyter-widgets/controls",
      "model_module_version": "1.2.0",
      "model_name": "LabelModel",
      "state": {
       "layout": "IPY_MODEL_03bd1f0914ee43919dc47922430145b1",
       "style": "IPY_MODEL_d66078a9781e4b2ca2af5639e2f167cc",
       "value": "Locating beads (file 10/10)"
      }
     },
     "4af9a176f0ca4384ae53f7545adf1ca3": {
      "model_module": "@jupyter-widgets/base",
      "model_module_version": "1.0.0",
      "model_name": "LayoutModel",
      "state": {
       "display": "none"
      }
     },
     "4b0261b9b6f648f5b2a390fda20c41f9": {
      "model_module": "@jupyter-widgets/base",
      "model_module_version": "1.0.0",
      "model_name": "LayoutModel",
      "state": {}
     },
     "4b05d2cbaf6f48419763d7aae6016b22": {
      "model_module": "@jupyter-widgets/controls",
      "model_module_version": "1.2.0",
      "model_name": "HBoxModel",
      "state": {
       "children": [
        "IPY_MODEL_6873b5d6371341c8bc06f724ef3a7d4d",
        "IPY_MODEL_291699d4a0464adaba373e687b282354"
       ],
       "layout": "IPY_MODEL_dcc09b93320e44609364bbcb9876e1ee"
      }
     },
     "4b594de80bf942c586a34574b8757370": {
      "model_module": "@jupyter-widgets/controls",
      "model_module_version": "1.2.0",
      "model_name": "IntTextModel",
      "state": {
       "description": "feat. size",
       "layout": "IPY_MODEL_967d6e4a08b54b6a8c9f79d6a8d495ab",
       "step": 1,
       "style": "IPY_MODEL_e675eb635a8d47be92f5923a24b15780",
       "value": 3
      }
     },
     "4b5b61fb0b5f42bc953c2099db1dd1ee": {
      "model_module": "@jupyter-widgets/controls",
      "model_module_version": "1.2.0",
      "model_name": "CheckboxModel",
      "state": {
       "description": "Size range",
       "disabled": false,
       "indent": false,
       "layout": "IPY_MODEL_140bc70604c44cd0b1ee487d0c9276c6",
       "style": "IPY_MODEL_809d2a13aa78447b8a8fcfa964e91b06",
       "value": false
      }
     },
     "4b79d28c9da94143bc5fc8704f601ac8": {
      "model_module": "@jupyter-widgets/controls",
      "model_module_version": "1.2.0",
      "model_name": "FloatTextModel",
      "state": {
       "description": "radius",
       "layout": "IPY_MODEL_2e5fdd4a325c4074b3d9cc96928c9f53",
       "step": 0.1,
       "style": "IPY_MODEL_c265d3f7ada04e2e84dee92b602bca76",
       "value": 1
      }
     },
     "4babe68aecce4550b50f696121e4b54e": {
      "model_module": "@jupyter-widgets/controls",
      "model_module_version": "1.2.0",
      "model_name": "DescriptionStyleModel",
      "state": {
       "description_width": ""
      }
     },
     "4bcf035025f74ee0b0e82a5b6af89d09": {
      "model_module": "@jupyter-widgets/controls",
      "model_module_version": "1.2.0",
      "model_name": "DescriptionStyleModel",
      "state": {
       "description_width": ""
      }
     },
     "4beac3c535f3486a8b97bcaede91171a": {
      "model_module": "@jupyter-widgets/controls",
      "model_module_version": "1.2.0",
      "model_name": "FloatTextModel",
      "state": {
       "description": "sigma",
       "layout": "IPY_MODEL_b88e8f7039e3448daf04fdfbbd09bfa0",
       "step": 0.1,
       "style": "IPY_MODEL_61937addd7c04717b4528d5fdf890e12",
       "value": 1
      }
     },
     "4bf2598540974f29984f3861a5ff8e15": {
      "model_module": "@jupyter-widgets/controls",
      "model_module_version": "1.2.0",
      "model_name": "DescriptionStyleModel",
      "state": {
       "description_width": ""
      }
     },
     "4c5be8f363bc45f38ed94765b9e7a6c9": {
      "model_module": "@jupyter-widgets/controls",
      "model_module_version": "1.2.0",
      "model_name": "DescriptionStyleModel",
      "state": {
       "description_width": ""
      }
     },
     "4c77f6dd91bb46839fb21e5396bb0407": {
      "model_module": "@jupyter-widgets/base",
      "model_module_version": "1.0.0",
      "model_name": "LayoutModel",
      "state": {
       "width": "100%"
      }
     },
     "4c8fb18843be4942b7703325f7ad2720": {
      "model_module": "@jupyter-widgets/controls",
      "model_module_version": "1.2.0",
      "model_name": "LabelModel",
      "state": {
       "layout": "IPY_MODEL_463ded6a43294c99a7b0cb9d539d0c3a",
       "style": "IPY_MODEL_510326c3d0344a2397aa25a642b0f004",
       "value": "Locating beads (file 10/10)"
      }
     },
     "4cb1aac3e95b4c979a1ead5774c356b6": {
      "model_module": "@jupyter-widgets/base",
      "model_module_version": "1.0.0",
      "model_name": "LayoutModel",
      "state": {}
     },
     "4d04899137f7496088e92d970eae70b2": {
      "model_module": "@jupyter-widgets/base",
      "model_module_version": "1.0.0",
      "model_name": "LayoutModel",
      "state": {}
     },
     "4d26ee6060214ff5b2a24bb3784c0591": {
      "model_module": "@jupyter-widgets/base",
      "model_module_version": "1.0.0",
      "model_name": "LayoutModel",
      "state": {}
     },
     "4d29cd8e3b554f8a9af88a5ba888ffda": {
      "model_module": "@jupyter-widgets/controls",
      "model_module_version": "1.2.0",
      "model_name": "CheckboxModel",
      "state": {
       "description": "Size range",
       "disabled": false,
       "indent": false,
       "layout": "IPY_MODEL_11b0a6c6cf96408bbd24e9bb3b9ec223",
       "style": "IPY_MODEL_c1f3b65adfd44722b49ea4a4ff69c29f",
       "value": false
      }
     },
     "4d71c157152d495d8d4b865b622bc7cd": {
      "model_module": "@jupyter-widgets/base",
      "model_module_version": "1.0.0",
      "model_name": "LayoutModel",
      "state": {
       "border": "1px solid gray"
      }
     },
     "4d8797da39e146098e2acf3e58307800": {
      "model_module": "@jupyter-widgets/controls",
      "model_module_version": "1.2.0",
      "model_name": "DropdownModel",
      "state": {
       "_options_labels": [
        "Identity",
        "Cg",
        "Gaussian"
       ],
       "description": "find filter",
       "index": 1,
       "layout": "IPY_MODEL_ec077ad547c24384a0fa385f60917c41",
       "style": "IPY_MODEL_1afc74c34b834938b692233d4251d486"
      }
     },
     "4db7d530e0c34e82a4bf095e64845645": {
      "model_module": "@jupyter-widgets/controls",
      "model_module_version": "1.2.0",
      "model_name": "IntRangeSliderModel",
      "state": {
       "_model_name": "IntRangeSliderModel",
       "_view_name": "IntRangeSliderView",
       "layout": "IPY_MODEL_bd22c8a2345642818cdb6541030c13ac",
       "max": 65535,
       "style": "IPY_MODEL_1f9db22bc9de48599c39cfac0e34058a",
       "value": [
        134,
        25393
       ]
      }
     },
     "4e02df3fdb114001b616a2528f835648": {
      "model_module": "@jupyter-widgets/controls",
      "model_module_version": "1.2.0",
      "model_name": "CheckboxModel",
      "state": {
       "description": "Show loc.",
       "disabled": false,
       "indent": false,
       "layout": "IPY_MODEL_7cf744bcc5b0409f9103c5c4577f0f0c",
       "style": "IPY_MODEL_ffe59aca5f9a4ed7a0fe1d2a7772e446",
       "value": true
      }
     },
     "4e6a001374d74b88a33cb6ba3c4b552a": {
      "model_module": "@jupyter-widgets/controls",
      "model_module_version": "1.2.0",
      "model_name": "FloatTextModel",
      "state": {
       "description": "sigma",
       "layout": "IPY_MODEL_44edea9b95eb40efb7d60eba72138aa3",
       "step": 0.1,
       "style": "IPY_MODEL_93f07b84d3e64ff991362ae79ce94c8e",
       "value": 1
      }
     },
     "4e934494c17140229dfa3d5c300bbfec": {
      "model_module": "@jupyter-widgets/base",
      "model_module_version": "1.0.0",
      "model_name": "LayoutModel",
      "state": {
       "border": "1px solid gray"
      }
     },
     "4e99d039977c47e3b8eba971c359fe29": {
      "model_module": "@jupyter-widgets/controls",
      "model_module_version": "1.2.0",
      "model_name": "FloatTextModel",
      "state": {
       "description": "threshold",
       "layout": "IPY_MODEL_14df7f8e48284943bcb56f0d4e6b4518",
       "step": 10,
       "style": "IPY_MODEL_17a4f243e43749d3a82d94ed987a986a",
       "value": 1000
      }
     },
     "4e9b38d94f214dffa4299200cd9f0d37": {
      "model_module": "@jupyter-widgets/base",
      "model_module_version": "1.0.0",
      "model_name": "LayoutModel",
      "state": {}
     },
     "4ec6270cc8024ca6bade21b9603b062e": {
      "model_module": "@jupyter-widgets/controls",
      "model_module_version": "1.2.0",
      "model_name": "IntTextModel",
      "state": {
       "description": "feat. size",
       "layout": "IPY_MODEL_ffdf4944c3944d1fb6ef5453ccdcab05",
       "step": 1,
       "style": "IPY_MODEL_8d055895f82c41d7b7c8b38876af1e7e",
       "value": 3
      }
     },
     "4ed19061fd9542a1b606cf50a950529f": {
      "model_module": "@jupyter-widgets/base",
      "model_module_version": "1.0.0",
      "model_name": "LayoutModel",
      "state": {}
     },
     "4ef3e817bb48417b978436c7857ed9e4": {
      "model_module": "@jupyter-widgets/base",
      "model_module_version": "1.0.0",
      "model_name": "LayoutModel",
      "state": {}
     },
     "4f0d8fd39d3d4d018d4b0ea18b0cefee": {
      "model_module": "@jupyter-widgets/controls",
      "model_module_version": "1.2.0",
      "model_name": "FloatTextModel",
      "state": {
       "description": "min.",
       "layout": "IPY_MODEL_483e9ce32bda47c488925371b0830254",
       "step": 0.1,
       "style": "IPY_MODEL_2f12a2c7f96c446295d15e6f1634ad2e",
       "value": 0.5
      }
     },
     "4f1c9987bc9249009342d674ff4874aa": {
      "model_module": "@jupyter-widgets/base",
      "model_module_version": "1.0.0",
      "model_name": "LayoutModel",
      "state": {
       "width": "auto"
      }
     },
     "4f59f7c7f95349aaaf46f4a293531ded": {
      "model_module": "@jupyter-widgets/base",
      "model_module_version": "1.0.0",
      "model_name": "LayoutModel",
      "state": {}
     },
     "4f60f460a5874e3e85ec8d90b8d1d860": {
      "model_module": "@jupyter-widgets/base",
      "model_module_version": "1.0.0",
      "model_name": "LayoutModel",
      "state": {
       "width": "auto"
      }
     },
     "4f70dd75e7e249e3b3e3c3c8c5e5f0c0": {
      "model_module": "@jupyter-widgets/controls",
      "model_module_version": "1.2.0",
      "model_name": "HBoxModel",
      "state": {
       "children": [
        "IPY_MODEL_f42361a75b9c48f8857e0386448ae651",
        "IPY_MODEL_03d928f519d64a2f9d4c52fa72ca46b6"
       ],
       "layout": "IPY_MODEL_96d1269aed614efa9f8cc6f05200bace"
      }
     },
     "4fd56e3ac5d54036ab16c9db9aa9eee6": {
      "model_module": "@jupyter-widgets/base",
      "model_module_version": "1.0.0",
      "model_name": "LayoutModel",
      "state": {}
     },
     "5086ea7aef1f46a5808760b81c382cb7": {
      "model_module": "@jupyter-widgets/controls",
      "model_module_version": "1.2.0",
      "model_name": "VBoxModel",
      "state": {
       "children": [
        "IPY_MODEL_d271830888304b6480c115f495085707",
        "IPY_MODEL_ec76c6f4165e4b56bbbc2ebc8027f09c",
        "IPY_MODEL_d7695ff71b5c4684913fd9e4d0fa6b6b",
        "IPY_MODEL_4a736ac20cbe4d9496496506a52f7209",
        "IPY_MODEL_036084afd6684ecb9dbf7a29de25ccbe",
        "IPY_MODEL_ff885677a118487299a4af03d4742890"
       ],
       "layout": "IPY_MODEL_b2cb2318eb49493fb159ab40adfc4cc8"
      }
     },
     "50e9cd4466bc4c1da5b227a6467de70f": {
      "model_module": "@jupyter-widgets/controls",
      "model_module_version": "1.2.0",
      "model_name": "VBoxModel",
      "state": {
       "children": [
        "IPY_MODEL_f3a8f38b4099453fb837d8a3180abfa0",
        "IPY_MODEL_7cf28348575d44999104b0a38448e86f",
        "IPY_MODEL_52e6bc593e5a4bcfb2fda60c2fb26510"
       ],
       "layout": "IPY_MODEL_63d37fe3c0aa41fb806922e478ead0db"
      }
     },
     "510326c3d0344a2397aa25a642b0f004": {
      "model_module": "@jupyter-widgets/controls",
      "model_module_version": "1.2.0",
      "model_name": "DescriptionStyleModel",
      "state": {
       "description_width": ""
      }
     },
     "510ee8b717534a4d8b82f40a272d87ab": {
      "model_module": "@jupyter-widgets/controls",
      "model_module_version": "1.2.0",
      "model_name": "DescriptionStyleModel",
      "state": {
       "description_width": ""
      }
     },
     "51367cd976a94f70a43509ca261a2281": {
      "model_module": "@jupyter-widgets/controls",
      "model_module_version": "1.2.0",
      "model_name": "DescriptionStyleModel",
      "state": {
       "description_width": ""
      }
     },
     "513cf401a49e41bda6aba28bf3b722fe": {
      "model_module": "@jupyter-widgets/base",
      "model_module_version": "1.0.0",
      "model_name": "LayoutModel",
      "state": {
       "display": "flex",
       "flex_flow": "column wrap",
       "width": "66%"
      }
     },
     "5149b052e56d4e3b8dd01dd22283eab2": {
      "model_module": "@jupyter-widgets/controls",
      "model_module_version": "1.2.0",
      "model_name": "HBoxModel",
      "state": {
       "children": [
        "IPY_MODEL_27d49c4881bc4966914232937258123b",
        "IPY_MODEL_49ab8d478e954eb9ba723305003c39a9",
        "IPY_MODEL_b5b4c64f5cef49d2848c1cc638b21707"
       ],
       "layout": "IPY_MODEL_d73bccaf5074400eb1e7f09ab7883930"
      }
     },
     "514b5bd99b7c42adb3e56561b0c96554": {
      "model_module": "@jupyter-widgets/base",
      "model_module_version": "1.0.0",
      "model_name": "LayoutModel",
      "state": {
       "width": "auto"
      }
     },
     "516609ad462b4649afa9d23010368a53": {
      "model_module": "@jupyter-widgets/base",
      "model_module_version": "1.0.0",
      "model_name": "LayoutModel",
      "state": {
       "width": "auto"
      }
     },
     "51ac44cad6864fe0b777662707fc7f96": {
      "model_module": "@jupyter-widgets/base",
      "model_module_version": "1.0.0",
      "model_name": "LayoutModel",
      "state": {}
     },
     "524a214ce2164bc7b9a12d01e86409f1": {
      "model_module": "@jupyter-widgets/controls",
      "model_module_version": "1.2.0",
      "model_name": "ButtonModel",
      "state": {
       "description": "Auto",
       "layout": "IPY_MODEL_f5eb7d24c3ea4294a036eace34910c53",
       "style": "IPY_MODEL_48fb649923464bb991a9700fa8811bb0"
      }
     },
     "526e03976a084568bc186fea0e3470a9": {
      "model_module": "@jupyter-widgets/controls",
      "model_module_version": "1.2.0",
      "model_name": "DescriptionStyleModel",
      "state": {
       "description_width": ""
      }
     },
     "52930f14c43948428e7e139e88ccdd1f": {
      "model_module": "@jupyter-widgets/controls",
      "model_module_version": "1.2.0",
      "model_name": "VBoxModel",
      "state": {
       "children": [
        "IPY_MODEL_9138d8a891bb4b6c8a15a1bfb8e4c597",
        "IPY_MODEL_e91726fd7c014a8ba3e9371ba0ef440d",
        "IPY_MODEL_16f455c95b1e4673b92e8b23c61fcd37"
       ],
       "layout": "IPY_MODEL_d9f9845a6f2145cebc5354cc6553b7f8"
      }
     },
     "5294824b870b4d97bf697a93fce654d2": {
      "model_module": "@jupyter-widgets/controls",
      "model_module_version": "1.2.0",
      "model_name": "DescriptionStyleModel",
      "state": {
       "description_width": ""
      }
     },
     "52b0b62b8f1f4cd5bce7e1cce59de77c": {
      "model_module": "@jupyter-widgets/base",
      "model_module_version": "1.0.0",
      "model_name": "LayoutModel",
      "state": {}
     },
     "52cbb0bbe4ce4ad4b59ac491f14ffb7a": {
      "model_module": "@jupyter-widgets/controls",
      "model_module_version": "1.2.0",
      "model_name": "ButtonStyleModel",
      "state": {}
     },
     "52e6bc593e5a4bcfb2fda60c2fb26510": {
      "model_module": "@jupyter-widgets/controls",
      "model_module_version": "1.2.0",
      "model_name": "FloatTextModel",
      "state": {
       "description": "sigma",
       "layout": "IPY_MODEL_7cea220079584f04863b5b3c3f490da5",
       "step": 0.1,
       "style": "IPY_MODEL_453de5d837a54a0c99ea6e4910ec4de4",
       "value": 1
      }
     },
     "52eaf20fec5d4b26b642602c7e2f087b": {
      "model_module": "@jupyter-widgets/controls",
      "model_module_version": "1.2.0",
      "model_name": "IntTextModel",
      "state": {
       "description": "feat. size",
       "layout": "IPY_MODEL_1009cd49c97e4206874e152e3db862bb",
       "step": 1,
       "style": "IPY_MODEL_710847d775194b9cb10c836ca473b834",
       "value": 3
      }
     },
     "530b6a43fc7247a7977cc8fe43e528a8": {
      "model_module": "@jupyter-widgets/controls",
      "model_module_version": "1.2.0",
      "model_name": "CheckboxModel",
      "state": {
       "description": "Show loc.",
       "disabled": false,
       "indent": false,
       "layout": "IPY_MODEL_3c8d1e78915a409e9085df65c4d1ffe0",
       "style": "IPY_MODEL_4481872b9f784e239878e3f4bd030059",
       "value": true
      }
     },
     "5333a79a55cc45c49ec238230d529949": {
      "model_module": "@jupyter-widgets/base",
      "model_module_version": "1.0.0",
      "model_name": "LayoutModel",
      "state": {
       "width": "75%"
      }
     },
     "533466a2364245ec9c79c832089684ba": {
      "model_module": "@jupyter-widgets/controls",
      "model_module_version": "1.2.0",
      "model_name": "DescriptionStyleModel",
      "state": {
       "description_width": ""
      }
     },
     "5359eed9abad42fb8064a5a645068c28": {
      "model_module": "@jupyter-widgets/base",
      "model_module_version": "1.0.0",
      "model_name": "LayoutModel",
      "state": {
       "width": "auto"
      }
     },
     "536a3707f6e5441db6b5c4cc7f1631d8": {
      "model_module": "@jupyter-widgets/controls",
      "model_module_version": "1.2.0",
      "model_name": "DescriptionStyleModel",
      "state": {
       "description_width": ""
      }
     },
     "5374c6190bc94421b907718a226cc3ce": {
      "model_module": "@jupyter-widgets/base",
      "model_module_version": "1.0.0",
      "model_name": "LayoutModel",
      "state": {}
     },
     "53a0216b84bb4febac866bd1581d3a08": {
      "model_module": "@jupyter-widgets/base",
      "model_module_version": "1.0.0",
      "model_name": "LayoutModel",
      "state": {
       "width": "100%"
      }
     },
     "542824644f4b4688ab53fe51e80cc840": {
      "model_module": "@jupyter-widgets/controls",
      "model_module_version": "1.2.0",
      "model_name": "BoundedIntTextModel",
      "state": {
       "description": "frame",
       "layout": "IPY_MODEL_75347f3d56c347b89e3487ee2446d0d0",
       "max": 0,
       "style": "IPY_MODEL_83cffd741eeb430dbf72e1f82c9e775f"
      }
     },
     "5446864af5af44aba166dcb3ea3c4d17": {
      "model_module": "@jupyter-widgets/base",
      "model_module_version": "1.0.0",
      "model_name": "LayoutModel",
      "state": {}
     },
     "5452847ecfe44d2a98b86fb4875e64b3": {
      "model_module": "@jupyter-widgets/base",
      "model_module_version": "1.0.0",
      "model_name": "LayoutModel",
      "state": {
       "width": "auto"
      }
     },
     "5474fcb3521040fd888dbb6faa2b9ab1": {
      "model_module": "@jupyter-widgets/controls",
      "model_module_version": "1.2.0",
      "model_name": "FloatTextModel",
      "state": {
       "description": "threshold",
       "layout": "IPY_MODEL_169bee8484dc48b296b3922435be1ac1",
       "step": 10,
       "style": "IPY_MODEL_186fef0ffc664a32bff80e8a388fa1b1",
       "value": 1000
      }
     },
     "54aa6aaa177f49f3a1fe6cfc0171eeb7": {
      "model_module": "@jupyter-widgets/controls",
      "model_module_version": "1.2.0",
      "model_name": "VBoxModel",
      "state": {
       "children": [
        "IPY_MODEL_1bc1bf8bdea542b7920e221d983edffb",
        "IPY_MODEL_ca1386fd89404570a65b25c094747dc8"
       ],
       "layout": "IPY_MODEL_b9cbd436c2e04d47a81f8ef4f91f7582"
      }
     },
     "54b348fecf0a43ef930b4457164466ce": {
      "model_module": "@jupyter-widgets/controls",
      "model_module_version": "1.2.0",
      "model_name": "CheckboxModel",
      "state": {
       "description": "Show loc.",
       "disabled": false,
       "indent": false,
       "layout": "IPY_MODEL_aa920e2886b64ce897d166dfe6ce7210",
       "style": "IPY_MODEL_8beeb15f06a24f429a5f619463c7534d",
       "value": true
      }
     },
     "54ee6f9886ed45c598dc7148a36a5ee5": {
      "model_module": "@jupyter-widgets/base",
      "model_module_version": "1.0.0",
      "model_name": "LayoutModel",
      "state": {
       "width": "100%"
      }
     },
     "55272d7030de4ae8b8e10c0fcde8e729": {
      "model_module": "@jupyter-widgets/controls",
      "model_module_version": "1.2.0",
      "model_name": "CheckboxModel",
      "state": {
       "description": "Show loc.",
       "disabled": false,
       "indent": false,
       "layout": "IPY_MODEL_d7abd9ce54dd4274bf1404185220f693",
       "style": "IPY_MODEL_536a3707f6e5441db6b5c4cc7f1631d8",
       "value": true
      }
     },
     "554e284fe67d4408aa5344e45e4d0274": {
      "model_module": "@jupyter-widgets/controls",
      "model_module_version": "1.2.0",
      "model_name": "FloatTextModel",
      "state": {
       "description": "threshold",
       "layout": "IPY_MODEL_2da60094b46e4cf69901d81463e9475b",
       "step": 10,
       "style": "IPY_MODEL_7b8878de628d40bd9920c97d3939afd8",
       "value": 80
      }
     },
     "556bcf6a15be407f871eccaf166f5be2": {
      "model_module": "@jupyter-widgets/base",
      "model_module_version": "1.0.0",
      "model_name": "LayoutModel",
      "state": {}
     },
     "559057d02ee8475d88b706cfc4ac2550": {
      "model_module": "@jupyter-widgets/controls",
      "model_module_version": "1.2.0",
      "model_name": "DescriptionStyleModel",
      "state": {
       "description_width": ""
      }
     },
     "55b1352ea4a34e0bb919a66a42682a4a": {
      "model_module": "@jupyter-widgets/controls",
      "model_module_version": "1.2.0",
      "model_name": "LabelModel",
      "state": {
       "layout": "IPY_MODEL_9062cf5159e6492689fe459d9cd70ec5",
       "style": "IPY_MODEL_f82a94889e664f7ebdce6f096a12c6aa",
       "value": "Tracking data/ctrl-H57/no-cells_SAv-100k_SSS-ctrl-H57-50k_029_.SPE (213/213)"
      }
     },
     "5600573c8c8b4ea596b13dcb94a9939a": {
      "model_module": "@jupyter-widgets/controls",
      "model_module_version": "1.2.0",
      "model_name": "DescriptionStyleModel",
      "state": {
       "description_width": ""
      }
     },
     "560b9ab308b242a0aae998cdc825f1f8": {
      "model_module": "@jupyter-widgets/controls",
      "model_module_version": "1.2.0",
      "model_name": "DescriptionStyleModel",
      "state": {
       "description_width": ""
      }
     },
     "56176a1911624df796d721ccf19324b6": {
      "model_module": "@jupyter-widgets/base",
      "model_module_version": "1.0.0",
      "model_name": "LayoutModel",
      "state": {
       "display": "none"
      }
     },
     "564e84c78d7a42648e50327e3be7be4e": {
      "model_module": "@jupyter-widgets/controls",
      "model_module_version": "1.2.0",
      "model_name": "CheckboxModel",
      "state": {
       "description": "Min. distance",
       "disabled": false,
       "indent": false,
       "layout": "IPY_MODEL_80d0f66ccc8043f5a05540c17b37572b",
       "style": "IPY_MODEL_1c5f0943bcc4468db7357061336a54df",
       "value": true
      }
     },
     "5663bea537e443eeaf6cc92c7c239ccd": {
      "model_module": "@jupyter-widgets/base",
      "model_module_version": "1.0.0",
      "model_name": "LayoutModel",
      "state": {
       "height": "150px",
       "width": "100%"
      }
     },
     "56942cc7612b425c87cf5ac589735428": {
      "model_module": "@jupyter-widgets/controls",
      "model_module_version": "1.2.0",
      "model_name": "DescriptionStyleModel",
      "state": {
       "description_width": ""
      }
     },
     "56a93a526453438f85be87de8c7470af": {
      "model_module": "@jupyter-widgets/base",
      "model_module_version": "1.0.0",
      "model_name": "LayoutModel",
      "state": {}
     },
     "56af3f5c73814919aff170876f698b4f": {
      "model_module": "@jupyter-widgets/controls",
      "model_module_version": "1.2.0",
      "model_name": "VBoxModel",
      "state": {
       "children": [
        "IPY_MODEL_49512bb4c8814b779a50491620472709",
        "IPY_MODEL_59ab127f919b40f5abc530f340ec050f",
        "IPY_MODEL_1725c2f4e24f43519feeb602b06bd99e"
       ],
       "layout": "IPY_MODEL_be6a59e5eb1a4e0ba562040a521833e5"
      }
     },
     "56bb1eb1da41452aa95e86ee51c1c925": {
      "model_module": "@jupyter-widgets/controls",
      "model_module_version": "1.2.0",
      "model_name": "FloatTextModel",
      "state": {
       "description": "radius",
       "layout": "IPY_MODEL_a9736066e5df4dcb9013c7a3c1688f78",
       "step": 0.1,
       "style": "IPY_MODEL_b42cb741e4384022a1c36c41bd528502",
       "value": 1
      }
     },
     "56ddf30c3b54448eaac9adb02d973201": {
      "model_module": "@jupyter-widgets/controls",
      "model_module_version": "1.2.0",
      "model_name": "VBoxModel",
      "state": {
       "children": [
        "IPY_MODEL_051997f9d6024dc8af51f2a4058dfa7b",
        "IPY_MODEL_cc7d7fe57c8743e9aa71f22aa0ab4098"
       ],
       "layout": "IPY_MODEL_d1979fb674764dc3a2d492d2045c3e47"
      }
     },
     "56f43e719b054d2db0d43b41318a43e8": {
      "model_module": "@jupyter-widgets/base",
      "model_module_version": "1.0.0",
      "model_name": "LayoutModel",
      "state": {
       "border": "1px solid gray"
      }
     },
     "571e43173c984d42b5335ced176a1fcc": {
      "model_module": "@jupyter-widgets/base",
      "model_module_version": "1.0.0",
      "model_name": "LayoutModel",
      "state": {}
     },
     "5777eed6f9d64683b752e06b8cf63243": {
      "model_module": "@jupyter-widgets/controls",
      "model_module_version": "1.2.0",
      "model_name": "DescriptionStyleModel",
      "state": {
       "description_width": ""
      }
     },
     "57792291a97947bbabf742c7d545ef62": {
      "model_module": "@jupyter-widgets/base",
      "model_module_version": "1.0.0",
      "model_name": "LayoutModel",
      "state": {
       "display": "none"
      }
     },
     "577976a5752a4a35ae5987c0d2954cac": {
      "model_module": "@jupyter-widgets/controls",
      "model_module_version": "1.2.0",
      "model_name": "SliderStyleModel",
      "state": {
       "description_width": ""
      }
     },
     "577cf85bbf4c49c2a9a349dccda29721": {
      "model_module": "@jupyter-widgets/base",
      "model_module_version": "1.0.0",
      "model_name": "LayoutModel",
      "state": {
       "height": "150px",
       "width": "100%"
      }
     },
     "57a2208435654b7e8a9ac515c7e6800d": {
      "model_module": "@jupyter-widgets/controls",
      "model_module_version": "1.2.0",
      "model_name": "DescriptionStyleModel",
      "state": {
       "description_width": ""
      }
     },
     "57b96df12752422e89e440a470aea9d3": {
      "model_module": "@jupyter-widgets/controls",
      "model_module_version": "1.2.0",
      "model_name": "FloatTextModel",
      "state": {
       "description": "sigma",
       "layout": "IPY_MODEL_466a98b3e4164155ac3e59421f4747c4",
       "step": 0.1,
       "style": "IPY_MODEL_5e416f0426bc401ea3e7f1132eccb83d",
       "value": 1
      }
     },
     "57e56208b76048eb9a4b54967a9f767e": {
      "model_module": "@jupyter-widgets/base",
      "model_module_version": "1.0.0",
      "model_name": "LayoutModel",
      "state": {
       "display": "none"
      }
     },
     "58167ea58240475299471d95d476a684": {
      "model_module": "@jupyter-widgets/base",
      "model_module_version": "1.0.0",
      "model_name": "LayoutModel",
      "state": {}
     },
     "5854236992754eb5a4eb25901ebebbf3": {
      "model_module": "@jupyter-widgets/controls",
      "model_module_version": "1.2.0",
      "model_name": "IntRangeSliderModel",
      "state": {
       "_model_name": "IntRangeSliderModel",
       "_view_name": "IntRangeSliderView",
       "layout": "IPY_MODEL_8d2ce95e587f4415ba3358ee8fc152a5",
       "max": 65535,
       "style": "IPY_MODEL_f0367f1de118469ba8b00941e610a68e",
       "value": [
        125,
        898
       ]
      }
     },
     "586359d9189148bc9b1870a5c0af9a02": {
      "model_module": "@jupyter-widgets/base",
      "model_module_version": "1.0.0",
      "model_name": "LayoutModel",
      "state": {
       "display": "flex",
       "flex_flow": "column wrap",
       "width": "66%"
      }
     },
     "58667e49450448c6ae4c9a2f36f38b12": {
      "model_module": "@jupyter-widgets/controls",
      "model_module_version": "1.2.0",
      "model_name": "FloatTextModel",
      "state": {
       "layout": "IPY_MODEL_81096482fe474b759a2fb31d9ee07c29",
       "step": 0.1,
       "style": "IPY_MODEL_b604c6fd56b54052a2ef2e4dc721225b",
       "value": 1
      }
     },
     "586ea51ad54b431dbb7953698bff4f35": {
      "model_module": "@jupyter-widgets/controls",
      "model_module_version": "1.2.0",
      "model_name": "DescriptionStyleModel",
      "state": {
       "description_width": ""
      }
     },
     "587b53fefa6e4d2091b15dd062869166": {
      "model_module": "@jupyter-widgets/controls",
      "model_module_version": "1.2.0",
      "model_name": "DescriptionStyleModel",
      "state": {
       "description_width": ""
      }
     },
     "5897926131b44660b1f6e44086382fc1": {
      "model_module": "@jupyter-widgets/controls",
      "model_module_version": "1.2.0",
      "model_name": "FloatTextModel",
      "state": {
       "description": "radius",
       "layout": "IPY_MODEL_9b53051365464343a586c20b7ee325f3",
       "step": 0.1,
       "style": "IPY_MODEL_fe15a69c03ab4054baafaa9111007f90",
       "value": 1
      }
     },
     "58c7c620e7444f18bee9b757653f2aa9": {
      "model_module": "@jupyter-widgets/base",
      "model_module_version": "1.0.0",
      "model_name": "LayoutModel",
      "state": {}
     },
     "58c8e5c780ac482ea7d83b4cb501efbb": {
      "model_module": "@jupyter-widgets/controls",
      "model_module_version": "1.2.0",
      "model_name": "DropdownModel",
      "state": {
       "_options_labels": [
        "2d_fixed",
        "2d",
        "3d"
       ],
       "description": "model",
       "index": 1,
       "layout": "IPY_MODEL_21c258a629b84bf88eb34298a9a4890f",
       "style": "IPY_MODEL_6da7d3d876064f1f9555a7a40461e31c"
      }
     },
     "59ab127f919b40f5abc530f340ec050f": {
      "model_module": "@jupyter-widgets/controls",
      "model_module_version": "1.2.0",
      "model_name": "IntTextModel",
      "state": {
       "description": "feat. size",
       "layout": "IPY_MODEL_01736be456ab4639a4e5f0f48f300839",
       "step": 1,
       "style": "IPY_MODEL_cb2aa5668d6740de9c8098fc5505dd93",
       "value": 3
      }
     },
     "59afc03e4e994cbbacce159577f5a1bb": {
      "model_module": "@jupyter-widgets/controls",
      "model_module_version": "1.2.0",
      "model_name": "DescriptionStyleModel",
      "state": {
       "description_width": ""
      }
     },
     "59e5136873f3461f9da2eb0c07a63bbe": {
      "model_module": "@jupyter-widgets/controls",
      "model_module_version": "1.2.0",
      "model_name": "HBoxModel",
      "state": {
       "children": [
        "IPY_MODEL_d00994195ff44f51a5ca3048b41a76f7",
        "IPY_MODEL_a8c5946410a84233bcdf6b08b34dc3b3"
       ],
       "layout": "IPY_MODEL_1141d8cb2a8148a48ac1b6503f8c1ee9"
      }
     },
     "59e608bd75e749d49644419ccf752c7d": {
      "model_module": "@jupyter-widgets/controls",
      "model_module_version": "1.2.0",
      "model_name": "FloatTextModel",
      "state": {
       "description": "radius",
       "layout": "IPY_MODEL_6bbd6b286ef1427686d5ee2ae6313dde",
       "step": 0.1,
       "style": "IPY_MODEL_ed6380d8ac0d4669808c453d50ba50a5",
       "value": 1
      }
     },
     "5a1aa8b1ede248a887870215d096f71d": {
      "model_module": "@jupyter-widgets/controls",
      "model_module_version": "1.2.0",
      "model_name": "DescriptionStyleModel",
      "state": {
       "description_width": ""
      }
     },
     "5a270a5953994efd86429a19106631ad": {
      "model_module": "@jupyter-widgets/controls",
      "model_module_version": "1.2.0",
      "model_name": "DescriptionStyleModel",
      "state": {
       "description_width": ""
      }
     },
     "5a47db210c184552875d03209f2ac40d": {
      "model_module": "@jupyter-widgets/base",
      "model_module_version": "1.0.0",
      "model_name": "LayoutModel",
      "state": {}
     },
     "5a5dc38c8a6a42f0a08431c0f89f295b": {
      "model_module": "@jupyter-widgets/base",
      "model_module_version": "1.0.0",
      "model_name": "LayoutModel",
      "state": {
       "width": "75%"
      }
     },
     "5aa0c9d1e5ab43acb48a9a4b2e234ec2": {
      "model_module": "@jupyter-widgets/controls",
      "model_module_version": "1.2.0",
      "model_name": "BoundedIntTextModel",
      "state": {
       "description": "frame",
       "layout": "IPY_MODEL_654856f11fc34a429035c6ef7fe126fb",
       "max": 0,
       "style": "IPY_MODEL_1484403c339c42d881d837479a6b348b"
      }
     },
     "5aa161b57ab74c31a2990499812f4952": {
      "model_module": "@jupyter-widgets/controls",
      "model_module_version": "1.2.0",
      "model_name": "ButtonModel",
      "state": {
       "description": "Auto",
       "layout": "IPY_MODEL_fe754280dfc64055b548ec78eacc41d8",
       "style": "IPY_MODEL_12e003f48a8e42dcb76762eb7dbfbd59"
      }
     },
     "5ae695377cd74172a7305615d64c90c8": {
      "model_module": "@jupyter-widgets/controls",
      "model_module_version": "1.2.0",
      "model_name": "IntTextModel",
      "state": {
       "description": "feat. size",
       "layout": "IPY_MODEL_c65c0211461f4256825de855d1499e54",
       "step": 1,
       "style": "IPY_MODEL_48fff809a99c4795a642c5eb73a4bc80",
       "value": 3
      }
     },
     "5b47e1c4bc184de1922550875cd3a9bb": {
      "model_module": "@jupyter-widgets/controls",
      "model_module_version": "1.2.0",
      "model_name": "FloatTextModel",
      "state": {
       "description": "max.",
       "layout": "IPY_MODEL_e704f90bcb3c446badc7d2eeb77c1ff3",
       "step": 0.1,
       "style": "IPY_MODEL_66d2fc5d9cee4391b118b7eb2f972320",
       "value": 2
      }
     },
     "5b48181873d4458fa8f521ea51ffcd7b": {
      "model_module": "@jupyter-widgets/controls",
      "model_module_version": "1.2.0",
      "model_name": "BoundedIntTextModel",
      "state": {
       "description": "frame",
       "layout": "IPY_MODEL_d13dca73dfab4d01a7f4ac9396aa4625",
       "max": 0,
       "style": "IPY_MODEL_b5cc62b6605a4e0da267d7b8f688c41c"
      }
     },
     "5b4a729fccd342f195d983a5748e6211": {
      "model_module": "@jupyter-widgets/controls",
      "model_module_version": "1.2.0",
      "model_name": "BoundedIntTextModel",
      "state": {
       "description": "frame",
       "layout": "IPY_MODEL_2370a758df184f00999f5f3619f13293",
       "max": 0,
       "style": "IPY_MODEL_120e3330344a49d09454f506e17883f3"
      }
     },
     "5b4c982706bd4240a5f71a5464d607e3": {
      "model_module": "@jupyter-widgets/base",
      "model_module_version": "1.0.0",
      "model_name": "LayoutModel",
      "state": {}
     },
     "5b832b17194f4626b304f362d82d3a97": {
      "model_module": "@jupyter-widgets/controls",
      "model_module_version": "1.2.0",
      "model_name": "VBoxModel",
      "state": {
       "children": [
        "IPY_MODEL_156fd5a9049b4a34bdafcf5399c6a636",
        "IPY_MODEL_005a080a10004a2c8d90773f71f9702c",
        "IPY_MODEL_635112c8db534c5aabd0e2e44f0b3490",
        "IPY_MODEL_b147a80af23a4223aacd3ed579ee9f5e",
        "IPY_MODEL_59e5136873f3461f9da2eb0c07a63bbe",
        "IPY_MODEL_7399cbebd2a24dc7baae9c10ae65dbf7"
       ],
       "layout": "IPY_MODEL_853382609a5b404d80a4feb4093d925a"
      }
     },
     "5bf451524c124eb5aaa54312ad41c19b": {
      "model_module": "@jupyter-widgets/controls",
      "model_module_version": "1.2.0",
      "model_name": "DescriptionStyleModel",
      "state": {
       "description_width": ""
      }
     },
     "5c401ea5da0d4848be95abb0540b7161": {
      "model_module": "@jupyter-widgets/controls",
      "model_module_version": "1.2.0",
      "model_name": "CheckboxModel",
      "state": {
       "description": "Size range",
       "disabled": false,
       "indent": false,
       "layout": "IPY_MODEL_15113472ac644c9dafe9aa5fd79b2ebc",
       "style": "IPY_MODEL_bc632cbfdf9d4927a3f062368302e1a6",
       "value": false
      }
     },
     "5c5eeae3fe734cfb9d5b6555b74ba08d": {
      "model_module": "@jupyter-widgets/controls",
      "model_module_version": "1.2.0",
      "model_name": "DescriptionStyleModel",
      "state": {
       "description_width": ""
      }
     },
     "5c98545516e04951b2ddb146af32d870": {
      "model_module": "@jupyter-widgets/controls",
      "model_module_version": "1.2.0",
      "model_name": "SelectModel",
      "state": {
       "_options_labels": [
        "data/sensor-H57/cells-01_SAv-100k_SSS-H57-20k_000_.SPE"
       ],
       "index": 0,
       "layout": "IPY_MODEL_30ab117a33364db4b8b933f5dce6d78c",
       "style": "IPY_MODEL_14e0f10b53a54f6981ae1f49c5ec1319"
      }
     },
     "5cd611847aa444c08a1fca2c7acaffd1": {
      "model_module": "@jupyter-widgets/base",
      "model_module_version": "1.0.0",
      "model_name": "LayoutModel",
      "state": {
       "display": "none"
      }
     },
     "5ce0ca89fff74ff98c74dfb4db051a59": {
      "model_module": "@jupyter-widgets/base",
      "model_module_version": "1.0.0",
      "model_name": "LayoutModel",
      "state": {}
     },
     "5cfae39b4ad94a99ac82ed3735cb7ac7": {
      "model_module": "@jupyter-widgets/base",
      "model_module_version": "1.0.0",
      "model_name": "LayoutModel",
      "state": {
       "display": "none"
      }
     },
     "5d0a7ef140e44964bca949a1721e3e29": {
      "model_module": "@jupyter-widgets/base",
      "model_module_version": "1.0.0",
      "model_name": "LayoutModel",
      "state": {
       "display": "inline"
      }
     },
     "5d1ee3b1cb2f409baac0f6f3c8af3d89": {
      "model_module": "@jupyter-widgets/controls",
      "model_module_version": "1.2.0",
      "model_name": "DescriptionStyleModel",
      "state": {
       "description_width": ""
      }
     },
     "5d2ac90b66f548228add6317731b95b1": {
      "model_module": "@jupyter-widgets/controls",
      "model_module_version": "1.2.0",
      "model_name": "CheckboxModel",
      "state": {
       "description": "Show loc.",
       "disabled": false,
       "indent": false,
       "layout": "IPY_MODEL_d7a264b90a064225b67d67860490ac0c",
       "style": "IPY_MODEL_ecb8bac5108d45a78922b28f3f46ed26",
       "value": true
      }
     },
     "5d7446d851ec4f579be2efa3d820e5dc": {
      "model_module": "@jupyter-widgets/controls",
      "model_module_version": "1.2.0",
      "model_name": "IntRangeSliderModel",
      "state": {
       "_model_name": "IntRangeSliderModel",
       "_view_name": "IntRangeSliderView",
       "layout": "IPY_MODEL_fa37f38bd10d46259b73c9a383fbd8ae",
       "max": 65535,
       "style": "IPY_MODEL_496bcc72a596439c98d88c59f25b3d05",
       "value": [
        125,
        898
       ]
      }
     },
     "5dd67e77080f4fe6ae891b497106b518": {
      "model_module": "@jupyter-widgets/controls",
      "model_module_version": "1.2.0",
      "model_name": "HBoxModel",
      "state": {
       "children": [
        "IPY_MODEL_67810f96dfa94f84a874740e9e8b1848",
        "IPY_MODEL_20230ca4f34e468aa7a2f70651828801",
        "IPY_MODEL_a55b747a6bb54df489ee9ab51b54ae2f"
       ],
       "layout": "IPY_MODEL_4206f5309faa4d93908496b5d484138f"
      }
     },
     "5ddf41f4e91448118e5b3331eae7ede0": {
      "model_module": "@jupyter-widgets/base",
      "model_module_version": "1.0.0",
      "model_name": "LayoutModel",
      "state": {
       "border": "1px solid gray"
      }
     },
     "5de06bb1c6624e61beb2780792cead7f": {
      "model_module": "@jupyter-widgets/controls",
      "model_module_version": "1.2.0",
      "model_name": "DescriptionStyleModel",
      "state": {
       "description_width": ""
      }
     },
     "5e012965fda74d719e889094e173e8de": {
      "model_module": "@jupyter-widgets/controls",
      "model_module_version": "1.2.0",
      "model_name": "DescriptionStyleModel",
      "state": {
       "description_width": ""
      }
     },
     "5e07b32ab6904ce988fd55d9bbce396d": {
      "model_module": "@jupyter-widgets/controls",
      "model_module_version": "1.2.0",
      "model_name": "VBoxModel",
      "state": {
       "children": [
        "IPY_MODEL_7a70e5df9e4a47af98622efa03666631",
        "IPY_MODEL_36680b77f7ad4b55bfcebcb35039d055",
        "IPY_MODEL_900defe2db1a44ca9b66c0e478878a1f",
        "IPY_MODEL_56af3f5c73814919aff170876f698b4f",
        "IPY_MODEL_a431992d061d4c7fa482f577ee2b5f45",
        "IPY_MODEL_7ffaa12f4009420cabdc409956fafe3d"
       ],
       "layout": "IPY_MODEL_e201e92cb5fa41e8af16546c7577b729"
      }
     },
     "5e1159f85fd74644919df2bb3f051ffa": {
      "model_module": "@jupyter-widgets/controls",
      "model_module_version": "1.2.0",
      "model_name": "VBoxModel",
      "state": {
       "children": [
        "IPY_MODEL_6b3cfdc9566d41578e2bc0de4e7c5282",
        "IPY_MODEL_5b48181873d4458fa8f521ea51ffcd7b"
       ],
       "layout": "IPY_MODEL_4d04899137f7496088e92d970eae70b2"
      }
     },
     "5e1620de67ef423d9dcf6ed618d2da27": {
      "model_module": "@jupyter-widgets/base",
      "model_module_version": "1.0.0",
      "model_name": "LayoutModel",
      "state": {}
     },
     "5e229349f7fe437488060da11ce4b070": {
      "model_module": "@jupyter-widgets/base",
      "model_module_version": "1.0.0",
      "model_name": "LayoutModel",
      "state": {}
     },
     "5e416f0426bc401ea3e7f1132eccb83d": {
      "model_module": "@jupyter-widgets/controls",
      "model_module_version": "1.2.0",
      "model_name": "DescriptionStyleModel",
      "state": {
       "description_width": ""
      }
     },
     "5e6811fb63c74e868f450423ba6ad548": {
      "model_module": "@jupyter-widgets/controls",
      "model_module_version": "1.2.0",
      "model_name": "DescriptionStyleModel",
      "state": {
       "description_width": ""
      }
     },
     "5e983447fe54437d9c0af3899af33f20": {
      "model_module": "@jupyter-widgets/base",
      "model_module_version": "1.0.0",
      "model_name": "LayoutModel",
      "state": {
       "width": "75%"
      }
     },
     "5eaf8f3cdebe4e9cad9fb053d288afdf": {
      "model_module": "@jupyter-widgets/controls",
      "model_module_version": "1.2.0",
      "model_name": "CheckboxModel",
      "state": {
       "description": "Size range",
       "disabled": false,
       "indent": false,
       "layout": "IPY_MODEL_fc8c47a3cbf34f2e9187fe74026c0dff",
       "style": "IPY_MODEL_a291137d07614d41942fc48dc043ba1e",
       "value": false
      }
     },
     "5eccf91694a044778a8cb26eb5a5c8a0": {
      "model_module": "@jupyter-widgets/controls",
      "model_module_version": "1.2.0",
      "model_name": "DescriptionStyleModel",
      "state": {
       "description_width": ""
      }
     },
     "5efc03be26be44678edae4db1dd0620d": {
      "model_module": "@jupyter-widgets/base",
      "model_module_version": "1.0.0",
      "model_name": "LayoutModel",
      "state": {}
     },
     "5f220bd61e4d4c46a2d8aedfa4a8dedc": {
      "model_module": "@jupyter-widgets/base",
      "model_module_version": "1.0.0",
      "model_name": "LayoutModel",
      "state": {}
     },
     "5f7efa908d984902a244918b19c19735": {
      "model_module": "@jupyter-widgets/controls",
      "model_module_version": "1.2.0",
      "model_name": "FloatTextModel",
      "state": {
       "description": "threshold",
       "layout": "IPY_MODEL_615072efde2e47e7a36e1f323b2c0b36",
       "step": 10,
       "style": "IPY_MODEL_ecd47fa07d1142bea9392cc41b33eee5",
       "value": 1000
      }
     },
     "5fbca88f0d204db0980fdaccd5ebc768": {
      "model_module": "@jupyter-widgets/controls",
      "model_module_version": "1.2.0",
      "model_name": "HBoxModel",
      "state": {
       "children": [
        "IPY_MODEL_0ab698786cec42bc8fdf23c17c963c07",
        "IPY_MODEL_ca9aad266e7c42bd917c4ba763aea4f1"
       ],
       "layout": "IPY_MODEL_3e56f2bef8274caf9fa9c8d3f07d4271"
      }
     },
     "60148b202487413ca2525ec620373960": {
      "model_module": "@jupyter-widgets/controls",
      "model_module_version": "1.2.0",
      "model_name": "DescriptionStyleModel",
      "state": {
       "description_width": ""
      }
     },
     "603f6d221e8049b5a98f4145480c1bab": {
      "model_module": "@jupyter-widgets/controls",
      "model_module_version": "1.2.0",
      "model_name": "DescriptionStyleModel",
      "state": {
       "description_width": ""
      }
     },
     "60493ddd1b4c4697b62100c27014597a": {
      "model_module": "@jupyter-widgets/base",
      "model_module_version": "1.0.0",
      "model_name": "LayoutModel",
      "state": {
       "width": "100%"
      }
     },
     "606dec8399984774b7cef87a7e644ae8": {
      "model_module": "@jupyter-widgets/controls",
      "model_module_version": "1.2.0",
      "model_name": "DescriptionStyleModel",
      "state": {
       "description_width": ""
      }
     },
     "608b02c44b7e4a9890c050da62633fff": {
      "model_module": "@jupyter-widgets/controls",
      "model_module_version": "1.2.0",
      "model_name": "VBoxModel",
      "state": {
       "children": [
        "IPY_MODEL_8d103f0587d54766bf25ae1c7cfdd53d",
        "IPY_MODEL_a2a42213226e42ce8bcd22c543fd9505",
        "IPY_MODEL_a3d10057cfce4fd59e9e4ac70cd279fa",
        "IPY_MODEL_e1417e10882d453988e80d2eca921cce",
        "IPY_MODEL_ebfdd479dffd499392a03cd744a5e4a0",
        "IPY_MODEL_baf972ed6604436caea88a93149e1b79"
       ],
       "layout": "IPY_MODEL_513cf401a49e41bda6aba28bf3b722fe"
      }
     },
     "60a9c1ea4c26432ea0ae7fdd3a5c2026": {
      "model_module": "@jupyter-widgets/controls",
      "model_module_version": "1.2.0",
      "model_name": "DescriptionStyleModel",
      "state": {
       "description_width": ""
      }
     },
     "60ec7cfe558846189357291a45dc9a81": {
      "model_module": "@jupyter-widgets/base",
      "model_module_version": "1.0.0",
      "model_name": "LayoutModel",
      "state": {}
     },
     "6118948bd2ef4d3d81a851ddc10f4615": {
      "model_module": "@jupyter-widgets/controls",
      "model_module_version": "1.2.0",
      "model_name": "CheckboxModel",
      "state": {
       "description": "Size range",
       "disabled": false,
       "indent": false,
       "layout": "IPY_MODEL_ae7455f6b3494419b28dabed380516af",
       "style": "IPY_MODEL_6dd636fd34f847cbb0fc7d665ae127c4",
       "value": false
      }
     },
     "6142708a9df34496bbbfc0c50075234e": {
      "model_module": "@jupyter-widgets/base",
      "model_module_version": "1.0.0",
      "model_name": "LayoutModel",
      "state": {}
     },
     "615072efde2e47e7a36e1f323b2c0b36": {
      "model_module": "@jupyter-widgets/base",
      "model_module_version": "1.0.0",
      "model_name": "LayoutModel",
      "state": {}
     },
     "6153c1e9a4ec40c1af4f614afd962372": {
      "model_module": "@jupyter-widgets/controls",
      "model_module_version": "1.2.0",
      "model_name": "IntTextModel",
      "state": {
       "description": "feat. size",
       "layout": "IPY_MODEL_a0ca00acc0784f1b80786a8d0fc73831",
       "step": 1,
       "style": "IPY_MODEL_606dec8399984774b7cef87a7e644ae8",
       "value": 3
      }
     },
     "616fe254969d434dbd95651698e7050e": {
      "model_module": "@jupyter-widgets/base",
      "model_module_version": "1.0.0",
      "model_name": "LayoutModel",
      "state": {
       "width": "auto"
      }
     },
     "61736542fb91429ebfc4285de4794f3c": {
      "model_module": "@jupyter-widgets/controls",
      "model_module_version": "1.2.0",
      "model_name": "VBoxModel",
      "state": {
       "children": [
        "IPY_MODEL_59e608bd75e749d49644419ccf752c7d",
        "IPY_MODEL_86ad48dec51741938a64d3053101ebe2",
        "IPY_MODEL_adfdf5b3e7044e60872eefbde244317a",
        "IPY_MODEL_2f4053fa41d94007a658e0781bd57781",
        "IPY_MODEL_8ae8a78a822742a5a1ac26766d7d0bf2",
        "IPY_MODEL_ca214501be3b4fe7a84ae6b2a809f7d3"
       ],
       "layout": "IPY_MODEL_e73df47e85a94b77813998ab4e5b26ee"
      }
     },
     "61937addd7c04717b4528d5fdf890e12": {
      "model_module": "@jupyter-widgets/controls",
      "model_module_version": "1.2.0",
      "model_name": "DescriptionStyleModel",
      "state": {
       "description_width": ""
      }
     },
     "6213c69a7df04ee28daba2e0e74e2b76": {
      "model_module": "@jupyter-widgets/controls",
      "model_module_version": "1.2.0",
      "model_name": "ButtonModel",
      "state": {
       "description": "Auto",
       "layout": "IPY_MODEL_ca9cbc33f87a45c1a758e030140b0b77",
       "style": "IPY_MODEL_ce3f20ebfd14492fa38c6c5c3cf5768f"
      }
     },
     "62c1a573ed4b4a0c94b82b0ef6d976fe": {
      "model_module": "@jupyter-widgets/controls",
      "model_module_version": "1.2.0",
      "model_name": "HBoxModel",
      "state": {
       "children": [
        "IPY_MODEL_7d54d4eef9b141c5b28a3ced6be45186",
        "IPY_MODEL_7c8f7fd5620348dbbdce9826109e023e"
       ],
       "layout": "IPY_MODEL_49119d5540824a35a119070707ae1701"
      }
     },
     "62d7207d1edb4aec95d7b6c0366bf9a0": {
      "model_module": "@jupyter-widgets/base",
      "model_module_version": "1.0.0",
      "model_name": "LayoutModel",
      "state": {}
     },
     "62e1db1aaa5b45a0b6720e7f406ee060": {
      "model_module": "@jupyter-widgets/controls",
      "model_module_version": "1.2.0",
      "model_name": "FloatTextModel",
      "state": {
       "description": "min.",
       "layout": "IPY_MODEL_161bccb516f141d8af2d136bedde3dc7",
       "step": 0.1,
       "style": "IPY_MODEL_a44058bc020a4cfabeacab01e0c69d3c",
       "value": 0.5
      }
     },
     "631fa72c9eeb4fa3a38937437c658739": {
      "model_module": "@jupyter-widgets/base",
      "model_module_version": "1.0.0",
      "model_name": "LayoutModel",
      "state": {
       "display": "none"
      }
     },
     "632863c5ef4740a3a8fa5303d98054f5": {
      "model_module": "@jupyter-widgets/controls",
      "model_module_version": "1.2.0",
      "model_name": "DescriptionStyleModel",
      "state": {
       "description_width": ""
      }
     },
     "635112c8db534c5aabd0e2e44f0b3490": {
      "model_module": "@jupyter-widgets/controls",
      "model_module_version": "1.2.0",
      "model_name": "FloatTextModel",
      "state": {
       "description": "threshold",
       "layout": "IPY_MODEL_349a6c60f42747edb1f90601260406eb",
       "step": 10,
       "style": "IPY_MODEL_80baaa6b703743fcb59be4abcea2e9bb",
       "value": 100
      }
     },
     "63807a890eb7470ba44feed616076dd0": {
      "model_module": "@jupyter-widgets/base",
      "model_module_version": "1.0.0",
      "model_name": "LayoutModel",
      "state": {
       "width": "auto"
      }
     },
     "63a3ba1e33884d798eaae807bb0dc402": {
      "model_module": "@jupyter-widgets/controls",
      "model_module_version": "1.2.0",
      "model_name": "DescriptionStyleModel",
      "state": {
       "description_width": ""
      }
     },
     "63c9ca94d8f84582ab880606d1851611": {
      "model_module": "@jupyter-widgets/controls",
      "model_module_version": "1.2.0",
      "model_name": "DescriptionStyleModel",
      "state": {
       "description_width": ""
      }
     },
     "63d37fe3c0aa41fb806922e478ead0db": {
      "model_module": "@jupyter-widgets/base",
      "model_module_version": "1.0.0",
      "model_name": "LayoutModel",
      "state": {
       "border": "1px solid gray"
      }
     },
     "640cbdf5fd58499cbf65b6ac96918d91": {
      "model_module": "@jupyter-widgets/base",
      "model_module_version": "1.0.0",
      "model_name": "LayoutModel",
      "state": {}
     },
     "64858b97ea784e55991766fa5500663e": {
      "model_module": "@jupyter-widgets/controls",
      "model_module_version": "1.2.0",
      "model_name": "ButtonStyleModel",
      "state": {}
     },
     "649b7633f4b04e2b844853ac9c71132a": {
      "model_module": "@jupyter-widgets/base",
      "model_module_version": "1.0.0",
      "model_name": "LayoutModel",
      "state": {
       "display": "none"
      }
     },
     "64b52890e86046aa8a6d9333020000e0": {
      "model_module": "@jupyter-widgets/controls",
      "model_module_version": "1.2.0",
      "model_name": "DescriptionStyleModel",
      "state": {
       "description_width": ""
      }
     },
     "64f9c0fdfd7b40888021bf14afd2807a": {
      "model_module": "@jupyter-widgets/controls",
      "model_module_version": "1.2.0",
      "model_name": "DescriptionStyleModel",
      "state": {
       "description_width": ""
      }
     },
     "64f9d49685fa44ecb72ccff9c04bbcda": {
      "model_module": "@jupyter-widgets/controls",
      "model_module_version": "1.2.0",
      "model_name": "DescriptionStyleModel",
      "state": {
       "description_width": ""
      }
     },
     "64ffbb4965a94f559a4c0cfc26562eac": {
      "model_module": "@jupyter-widgets/controls",
      "model_module_version": "1.2.0",
      "model_name": "FloatTextModel",
      "state": {
       "description": "sigma",
       "layout": "IPY_MODEL_398608ecacd949bc8f063480366982a5",
       "step": 0.1,
       "style": "IPY_MODEL_be11f35f752d44c2ab2401edc51474f7",
       "value": 1
      }
     },
     "65104cf6ab1c41809e71500f9e9981a8": {
      "model_module": "@jupyter-widgets/base",
      "model_module_version": "1.0.0",
      "model_name": "LayoutModel",
      "state": {}
     },
     "654856f11fc34a429035c6ef7fe126fb": {
      "model_module": "@jupyter-widgets/base",
      "model_module_version": "1.0.0",
      "model_name": "LayoutModel",
      "state": {}
     },
     "655aa290448849aea0de2e014b6c32a3": {
      "model_module": "@jupyter-widgets/controls",
      "model_module_version": "1.2.0",
      "model_name": "DescriptionStyleModel",
      "state": {
       "description_width": ""
      }
     },
     "65630ef9ee4e474da824e0ddc15db440": {
      "model_module": "@jupyter-widgets/base",
      "model_module_version": "1.0.0",
      "model_name": "LayoutModel",
      "state": {}
     },
     "656f24bd247f4e26bbc7c8e9ccfcd091": {
      "model_module": "@jupyter-widgets/base",
      "model_module_version": "1.0.0",
      "model_name": "LayoutModel",
      "state": {
       "display": "none"
      }
     },
     "65772dc1e5764508bf7830b7a5a9a2b4": {
      "model_module": "@jupyter-widgets/controls",
      "model_module_version": "1.2.0",
      "model_name": "CheckboxModel",
      "state": {
       "description": "Min. distance",
       "disabled": false,
       "indent": false,
       "layout": "IPY_MODEL_5359eed9abad42fb8064a5a645068c28",
       "style": "IPY_MODEL_4a490393faef437a9abcd614d0b88d2c",
       "value": true
      }
     },
     "65aa7fca0ee44bcdbdd5376b628ac01a": {
      "model_module": "@jupyter-widgets/controls",
      "model_module_version": "1.2.0",
      "model_name": "HBoxModel",
      "state": {
       "children": [
        "IPY_MODEL_b37d9881043c455989a88cdda902891a",
        "IPY_MODEL_27651f52f6ff4380a078ba196083ee0e"
       ],
       "layout": "IPY_MODEL_bf2692aeecb549829f7c3a5b5a006233"
      }
     },
     "65c1cea39ab14e44bd2dd1f391ff5f93": {
      "model_module": "@jupyter-widgets/controls",
      "model_module_version": "1.2.0",
      "model_name": "BoundedIntTextModel",
      "state": {
       "description": "frame",
       "layout": "IPY_MODEL_4302cddc8147486083b98f824c7ca5fa",
       "max": 49,
       "style": "IPY_MODEL_bb604ae06bca40698a9fcf491bc9deab"
      }
     },
     "65d112c837424107b83f98855bd20bab": {
      "model_module": "@jupyter-widgets/controls",
      "model_module_version": "1.2.0",
      "model_name": "CheckboxModel",
      "state": {
       "description": "Size range",
       "disabled": false,
       "indent": false,
       "layout": "IPY_MODEL_e79b245b362c4276a0cd73ea74f0d8c9",
       "style": "IPY_MODEL_35a00fdfbead418f9674347962f7716a",
       "value": false
      }
     },
     "661958c949e944488de62f991d57804d": {
      "model_module": "@jupyter-widgets/base",
      "model_module_version": "1.0.0",
      "model_name": "LayoutModel",
      "state": {}
     },
     "661e3c078c954251ac0eaed1f5a41778": {
      "model_module": "@jupyter-widgets/base",
      "model_module_version": "1.0.0",
      "model_name": "LayoutModel",
      "state": {
       "height": "150px",
       "width": "100%"
      }
     },
     "6691698f01b541ac8a0b1a4aef1d9901": {
      "model_module": "@jupyter-widgets/controls",
      "model_module_version": "1.2.0",
      "model_name": "LabelModel",
      "state": {
       "layout": "IPY_MODEL_28db640f6655482bb8f2b6e8ff208751",
       "style": "IPY_MODEL_d35770f8853e4d2aa6ae3914d7dcf8e7",
       "value": "Locating beads (file 10/10)"
      }
     },
     "66d2fc5d9cee4391b118b7eb2f972320": {
      "model_module": "@jupyter-widgets/controls",
      "model_module_version": "1.2.0",
      "model_name": "DescriptionStyleModel",
      "state": {
       "description_width": ""
      }
     },
     "66e936967d4042edb49f55f4446bbcdb": {
      "model_module": "@jupyter-widgets/controls",
      "model_module_version": "1.2.0",
      "model_name": "IntTextModel",
      "state": {
       "description": "feat. size",
       "layout": "IPY_MODEL_7e323cdbad764b54ba41c5bd2ed3ccdf",
       "step": 1,
       "style": "IPY_MODEL_eb2d64499f374b36a0f83207af0348f7",
       "value": 3
      }
     },
     "6733a68794e343ab8558817d1c611c3f": {
      "model_module": "@jupyter-widgets/base",
      "model_module_version": "1.0.0",
      "model_name": "LayoutModel",
      "state": {}
     },
     "6746c2c765074195a2b55939200552bf": {
      "model_module": "@jupyter-widgets/controls",
      "model_module_version": "1.2.0",
      "model_name": "DescriptionStyleModel",
      "state": {
       "description_width": ""
      }
     },
     "674f4e5e4142457aa0f2baa89d35f656": {
      "model_module": "@jupyter-widgets/controls",
      "model_module_version": "1.2.0",
      "model_name": "FloatTextModel",
      "state": {
       "description": "threshold",
       "layout": "IPY_MODEL_75684ee022ae49a69e0964010de2f97e",
       "step": 10,
       "style": "IPY_MODEL_181734e03d774155ab38b96f8b99a71a",
       "value": 100
      }
     },
     "676fe8fb0afc4b668410ab402d1ad0ba": {
      "model_module": "@jupyter-widgets/base",
      "model_module_version": "1.0.0",
      "model_name": "LayoutModel",
      "state": {
       "display": "none"
      }
     },
     "67810f96dfa94f84a874740e9e8b1848": {
      "model_module": "@jupyter-widgets/controls",
      "model_module_version": "1.2.0",
      "model_name": "IntRangeSliderModel",
      "state": {
       "_model_name": "IntRangeSliderModel",
       "_view_name": "IntRangeSliderView",
       "layout": "IPY_MODEL_6892d6e7f7834ef792f5510fdc50ca81",
       "max": 65535,
       "style": "IPY_MODEL_577976a5752a4a35ae5987c0d2954cac",
       "value": [
        125,
        898
       ]
      }
     },
     "679a8b092b324fc099cd7bba2007a0e8": {
      "model_module": "@jupyter-widgets/controls",
      "model_module_version": "1.2.0",
      "model_name": "DescriptionStyleModel",
      "state": {
       "description_width": ""
      }
     },
     "67a2721f2fb745d78c88542cc4b0693c": {
      "model_module": "@jupyter-widgets/controls",
      "model_module_version": "1.2.0",
      "model_name": "CheckboxModel",
      "state": {
       "description": "Show loc.",
       "disabled": false,
       "indent": false,
       "layout": "IPY_MODEL_7615c6da7eca413fbe9ae7eb408c7318",
       "style": "IPY_MODEL_7112cee849c74ecb8152cb86bdbe5631",
       "value": true
      }
     },
     "682cf9602ce142908f593322c52e9dc1": {
      "model_module": "@jupyter-widgets/controls",
      "model_module_version": "1.2.0",
      "model_name": "DescriptionStyleModel",
      "state": {
       "description_width": ""
      }
     },
     "6846a9079f8b4bf0a326f59bbef4b496": {
      "model_module": "@jupyter-widgets/controls",
      "model_module_version": "1.2.0",
      "model_name": "HBoxModel",
      "state": {
       "children": [
        "IPY_MODEL_54aa6aaa177f49f3a1fe6cfc0171eeb7",
        "IPY_MODEL_608b02c44b7e4a9890c050da62633fff"
       ],
       "layout": "IPY_MODEL_002fad1c936943c5a2f2e933f8c91d83"
      }
     },
     "684f2399c84e4a138aa7382625304dc2": {
      "model_module": "@jupyter-widgets/base",
      "model_module_version": "1.0.0",
      "model_name": "LayoutModel",
      "state": {}
     },
     "6873b5d6371341c8bc06f724ef3a7d4d": {
      "model_module": "@jupyter-widgets/controls",
      "model_module_version": "1.2.0",
      "model_name": "VBoxModel",
      "state": {
       "children": [
        "IPY_MODEL_1945bebc4d184861bd438dffc310f6cd",
        "IPY_MODEL_f6ea1a7c846549b88b696eba943aceb9"
       ],
       "layout": "IPY_MODEL_9258a5204c544f49bff0a37766c614e7"
      }
     },
     "68771071100647cfbf783c46587caf21": {
      "model_module": "@jupyter-widgets/base",
      "model_module_version": "1.0.0",
      "model_name": "LayoutModel",
      "state": {
       "width": "auto"
      }
     },
     "687a2ff0b9fe40e791b38a8bc7183f14": {
      "model_module": "@jupyter-widgets/controls",
      "model_module_version": "1.2.0",
      "model_name": "DescriptionStyleModel",
      "state": {
       "description_width": ""
      }
     },
     "6892d6e7f7834ef792f5510fdc50ca81": {
      "model_module": "@jupyter-widgets/base",
      "model_module_version": "1.0.0",
      "model_name": "LayoutModel",
      "state": {
       "width": "75%"
      }
     },
     "68ecbd9deee449c5bcb9772b03a5f3ac": {
      "model_module": "@jupyter-widgets/base",
      "model_module_version": "1.0.0",
      "model_name": "LayoutModel",
      "state": {}
     },
     "68fe90603e2a4cc4860284da46d09e25": {
      "model_module": "@jupyter-widgets/base",
      "model_module_version": "1.0.0",
      "model_name": "LayoutModel",
      "state": {
       "width": "auto"
      }
     },
     "694f05a775e044d99aa44d6e58b4a1df": {
      "model_module": "@jupyter-widgets/base",
      "model_module_version": "1.0.0",
      "model_name": "LayoutModel",
      "state": {
       "width": "auto"
      }
     },
     "694f9df0ed034285af749b747bf2bb72": {
      "model_module": "@jupyter-widgets/controls",
      "model_module_version": "1.2.0",
      "model_name": "VBoxModel",
      "state": {
       "children": [
        "IPY_MODEL_0a68c8db6a294839898bb1fc2f78bc02",
        "IPY_MODEL_a6b8d0b30c6f4db184ed57078f711dff"
       ],
       "layout": "IPY_MODEL_421aba4049bf4c39901e53f864c44f31"
      }
     },
     "695b82bde4b24db099d5eeaa49f2b112": {
      "model_module": "@jupyter-widgets/base",
      "model_module_version": "1.0.0",
      "model_name": "LayoutModel",
      "state": {
       "width": "auto"
      }
     },
     "696eb39bab514c74999bc3001041492c": {
      "model_module": "@jupyter-widgets/controls",
      "model_module_version": "1.2.0",
      "model_name": "BoundedIntTextModel",
      "state": {
       "description": "frame",
       "layout": "IPY_MODEL_4ef3e817bb48417b978436c7857ed9e4",
       "max": 0,
       "style": "IPY_MODEL_9edbea2a76a24bde873325ba6c8d66cb"
      }
     },
     "698c4945726d457796659ad3bcebc0a7": {
      "model_module": "@jupyter-widgets/base",
      "model_module_version": "1.0.0",
      "model_name": "LayoutModel",
      "state": {}
     },
     "69c49179c0774ba98959a23ea0b81c8a": {
      "model_module": "@jupyter-widgets/base",
      "model_module_version": "1.0.0",
      "model_name": "LayoutModel",
      "state": {}
     },
     "69e2f158e3144f9e8cbbc34f66df13fc": {
      "model_module": "@jupyter-widgets/controls",
      "model_module_version": "1.2.0",
      "model_name": "DescriptionStyleModel",
      "state": {
       "description_width": ""
      }
     },
     "6a117355361e4c94b6d24f81401c6571": {
      "model_module": "@jupyter-widgets/controls",
      "model_module_version": "1.2.0",
      "model_name": "DescriptionStyleModel",
      "state": {
       "description_width": ""
      }
     },
     "6a2d25aa08ec4f93b0f42b40e56f36ad": {
      "model_module": "@jupyter-widgets/controls",
      "model_module_version": "1.2.0",
      "model_name": "DescriptionStyleModel",
      "state": {
       "description_width": ""
      }
     },
     "6a42f1db81a7409f8ef425c591924c0a": {
      "model_module": "@jupyter-widgets/controls",
      "model_module_version": "1.2.0",
      "model_name": "DropdownModel",
      "state": {
       "_options_labels": [
        "2d_fixed",
        "2d",
        "3d"
       ],
       "description": "model",
       "index": 1,
       "layout": "IPY_MODEL_661958c949e944488de62f991d57804d",
       "style": "IPY_MODEL_00c8c197117140f2832e70472620dcf6"
      }
     },
     "6a858d8095174f94a3d6a44346aad751": {
      "model_module": "@jupyter-widgets/controls",
      "model_module_version": "1.2.0",
      "model_name": "HBoxModel",
      "state": {
       "children": [
        "IPY_MODEL_bd81eb7a1afa4fbcbbd9822542efb5c3",
        "IPY_MODEL_a0868406e0164228a26117e7738fa06a"
       ],
       "layout": "IPY_MODEL_81d9b6aed16e4b3d9a533e28bbe5c7ba"
      }
     },
     "6a97d7241dd346a892234351c46b42a3": {
      "model_module": "@jupyter-widgets/controls",
      "model_module_version": "1.2.0",
      "model_name": "DropdownModel",
      "state": {
       "_options_labels": [
        "2d_fixed",
        "2d",
        "3d"
       ],
       "description": "model",
       "index": 1,
       "layout": "IPY_MODEL_4759749c64d2497ca46af9130a2f7e24",
       "style": "IPY_MODEL_22b68ddab2c2411594fbcfc31effcc46"
      }
     },
     "6aa0e88ed59345719ffdb68b595ff451": {
      "model_module": "@jupyter-widgets/controls",
      "model_module_version": "1.2.0",
      "model_name": "HBoxModel",
      "state": {
       "children": [
        "IPY_MODEL_810bea697feb42e5af9feca7edb8266e",
        "IPY_MODEL_99804c67a2dc4f31b98caced0eb5e5ec",
        "IPY_MODEL_82cdb91393a042cfb05f6b57bac9c2aa"
       ],
       "layout": "IPY_MODEL_0b1698841e0d421eb716eafdd81dd2d8"
      }
     },
     "6abdc33bf74742bc8631b54d38dc7eac": {
      "model_module": "@jupyter-widgets/base",
      "model_module_version": "1.0.0",
      "model_name": "LayoutModel",
      "state": {}
     },
     "6af2d3fed9b545f49f63b030ffb33731": {
      "model_module": "@jupyter-widgets/controls",
      "model_module_version": "1.2.0",
      "model_name": "SliderStyleModel",
      "state": {
       "description_width": ""
      }
     },
     "6af5196c760649fd86ae2d5731be9973": {
      "model_module": "@jupyter-widgets/controls",
      "model_module_version": "1.2.0",
      "model_name": "DescriptionStyleModel",
      "state": {
       "description_width": ""
      }
     },
     "6b0100a8db874477b3a163610b0c3b91": {
      "model_module": "@jupyter-widgets/base",
      "model_module_version": "1.0.0",
      "model_name": "LayoutModel",
      "state": {}
     },
     "6b12021b53df45f595d570758060959a": {
      "model_module": "@jupyter-widgets/controls",
      "model_module_version": "1.2.0",
      "model_name": "ButtonStyleModel",
      "state": {}
     },
     "6b3cfdc9566d41578e2bc0de4e7c5282": {
      "model_module": "@jupyter-widgets/controls",
      "model_module_version": "1.2.0",
      "model_name": "SelectModel",
      "state": {
       "_options_labels": [
        "data/beads/beads_000_.SPE",
        "data/beads/beads_001_.SPE",
        "data/beads/beads_002_.SPE",
        "data/beads/beads_003_.SPE",
        "data/beads/beads_004_.SPE",
        "data/beads/beads_005_.SPE",
        "data/beads/beads_006_.SPE",
        "data/beads/beads_007_.SPE",
        "data/beads/beads_008_.SPE",
        "data/beads/beads_009_.SPE"
       ],
       "index": 0,
       "layout": "IPY_MODEL_4f1c9987bc9249009342d674ff4874aa",
       "style": "IPY_MODEL_7fae634bda3149b89c903f91e92c0a9e"
      }
     },
     "6b47dd2b40204bcbb0d7c6efa0d74984": {
      "model_module": "@jupyter-widgets/base",
      "model_module_version": "1.0.0",
      "model_name": "LayoutModel",
      "state": {
       "display": "none"
      }
     },
     "6b4a267adab04b688e8540c81b625f5c": {
      "model_module": "@jupyter-widgets/controls",
      "model_module_version": "1.2.0",
      "model_name": "FloatTextModel",
      "state": {
       "description": "max.",
       "layout": "IPY_MODEL_479a85ec0b4c4d6dbc128c3e92899eb9",
       "step": 0.1,
       "style": "IPY_MODEL_82396cc378f041c0bd9a6d82efcaddc7",
       "value": 2
      }
     },
     "6bbd6b286ef1427686d5ee2ae6313dde": {
      "model_module": "@jupyter-widgets/base",
      "model_module_version": "1.0.0",
      "model_name": "LayoutModel",
      "state": {}
     },
     "6bbd7bfd41264e7d831c23e43abab2cb": {
      "model_module": "@jupyter-widgets/controls",
      "model_module_version": "1.2.0",
      "model_name": "ButtonStyleModel",
      "state": {}
     },
     "6c09b36aa8844a55a6c54af10b043796": {
      "model_module": "@jupyter-widgets/controls",
      "model_module_version": "1.2.0",
      "model_name": "HBoxModel",
      "state": {
       "children": [
        "IPY_MODEL_78d91b7ed5bb4a19a03ae973cf82608d",
        "IPY_MODEL_d6f74efac8b84c718f356dc701fbceb6"
       ],
       "layout": "IPY_MODEL_e3e1a82efc5947c0830d8ce22bc8bd96"
      }
     },
     "6c118529db474c7ebc022a50f0818c18": {
      "model_module": "@jupyter-widgets/base",
      "model_module_version": "1.0.0",
      "model_name": "LayoutModel",
      "state": {}
     },
     "6c1621e5e3c346668b799be6eefe47ea": {
      "model_module": "@jupyter-widgets/controls",
      "model_module_version": "1.2.0",
      "model_name": "VBoxModel",
      "state": {
       "children": [
        "IPY_MODEL_31e4491c647e43999dd2c75c659a6a71",
        "IPY_MODEL_dfe5a54b21634c8eacd2143a7e1bb3b1",
        "IPY_MODEL_0f239a73f8c247669d67dbaed55521ee"
       ],
       "layout": "IPY_MODEL_5a47db210c184552875d03209f2ac40d"
      }
     },
     "6c3ad84af7db4553a2e5a62501af6851": {
      "model_module": "@jupyter-widgets/controls",
      "model_module_version": "1.2.0",
      "model_name": "FloatTextModel",
      "state": {
       "description": "threshold",
       "layout": "IPY_MODEL_18e95443d23e4217b96c62ed43b0556f",
       "step": 10,
       "style": "IPY_MODEL_c93332c7586243bfa2c35cc7934573c6",
       "value": 1000
      }
     },
     "6c4e0987eca84a5ba2cc1653427be79d": {
      "model_module": "@jupyter-widgets/controls",
      "model_module_version": "1.2.0",
      "model_name": "DescriptionStyleModel",
      "state": {
       "description_width": ""
      }
     },
     "6c8878d01af44bda9f3639d215611135": {
      "model_module": "@jupyter-widgets/controls",
      "model_module_version": "1.2.0",
      "model_name": "CheckboxModel",
      "state": {
       "description": "Size range",
       "disabled": false,
       "indent": false,
       "layout": "IPY_MODEL_105a5f4d969c4f2fbe2b7101b1a7d737",
       "style": "IPY_MODEL_b0ad7d4c9d6044dbbfe153dfafc6f50d",
       "value": false
      }
     },
     "6ca9d52f6bec41b2b6a3835ad9e9808a": {
      "model_module": "@jupyter-widgets/controls",
      "model_module_version": "1.2.0",
      "model_name": "IntTextModel",
      "state": {
       "description": "feat. size",
       "layout": "IPY_MODEL_6d9ac107e0474b47b7d2dea34d35d196",
       "step": 1,
       "style": "IPY_MODEL_c3d8f89ab77d429f888f97aaa68c08bc",
       "value": 3
      }
     },
     "6cc3093b03e942a5a69c3c73e187bdbc": {
      "model_module": "@jupyter-widgets/controls",
      "model_module_version": "1.2.0",
      "model_name": "LabelModel",
      "state": {
       "layout": "IPY_MODEL_42653270d40a45689ce789a63a513e60",
       "style": "IPY_MODEL_0cde23ecad0b4d89b0284fcc52027cab",
       "value": "Tracking ctrl-H57/no-cells_SAv-100k_SSS-ctrl-H57-50k_029_.SPE (213/213)"
      }
     },
     "6cf4151e018e48f0bcac4c0e0f9fc977": {
      "model_module": "@jupyter-widgets/controls",
      "model_module_version": "1.2.0",
      "model_name": "DropdownModel",
      "state": {
       "_options_labels": [
        "Identity",
        "Cg",
        "Gaussian"
       ],
       "description": "find filter",
       "index": 0,
       "layout": "IPY_MODEL_453eb9d6f82947aca55be75f9982a4ad",
       "style": "IPY_MODEL_b8bf6710a4c94d7b87427476ccb92d04"
      }
     },
     "6d4e419261bb4e17a496830abcc5eeef": {
      "model_module": "@jupyter-widgets/controls",
      "model_module_version": "1.2.0",
      "model_name": "DescriptionStyleModel",
      "state": {
       "description_width": ""
      }
     },
     "6d602d2bf98a4f85a66e84fef581fe4e": {
      "model_module": "@jupyter-widgets/controls",
      "model_module_version": "1.2.0",
      "model_name": "ButtonStyleModel",
      "state": {}
     },
     "6d767473af654f5d9c73510ab45043e4": {
      "model_module": "@jupyter-widgets/base",
      "model_module_version": "1.0.0",
      "model_name": "LayoutModel",
      "state": {
       "width": "auto"
      }
     },
     "6d7ed1f11220468bae685a0970199e25": {
      "model_module": "@jupyter-widgets/controls",
      "model_module_version": "1.2.0",
      "model_name": "VBoxModel",
      "state": {
       "children": [
        "IPY_MODEL_24475c6043a942c497d7399ef40ae173",
        "IPY_MODEL_be3a0af7e882478dadfc26ac39e5fd12",
        "IPY_MODEL_29d16c61645f49d2ab9b58de4ae91ac4"
       ],
       "layout": "IPY_MODEL_32b67c507baa46bb9b900b1e0e175126"
      }
     },
     "6d9a4ac3d5f64015906cf9c1bc5687cd": {
      "model_module": "@jupyter-widgets/base",
      "model_module_version": "1.0.0",
      "model_name": "LayoutModel",
      "state": {}
     },
     "6d9ac107e0474b47b7d2dea34d35d196": {
      "model_module": "@jupyter-widgets/base",
      "model_module_version": "1.0.0",
      "model_name": "LayoutModel",
      "state": {
       "display": "inline"
      }
     },
     "6d9ccba62da34714aca5f29ab9d4256c": {
      "model_module": "@jupyter-widgets/base",
      "model_module_version": "1.0.0",
      "model_name": "LayoutModel",
      "state": {
       "width": "auto"
      }
     },
     "6da3f3650bbf4872a7382a85a9a40aa6": {
      "model_module": "@jupyter-widgets/controls",
      "model_module_version": "1.2.0",
      "model_name": "FloatTextModel",
      "state": {
       "layout": "IPY_MODEL_616fe254969d434dbd95651698e7050e",
       "step": 0.1,
       "style": "IPY_MODEL_e6b2ca2ca1f64f1b80e5d80da0c6ad93",
       "value": 1
      }
     },
     "6da725d532d3441487b7c2d1168108aa": {
      "model_module": "@jupyter-widgets/controls",
      "model_module_version": "1.2.0",
      "model_name": "VBoxModel",
      "state": {
       "children": [
        "IPY_MODEL_b57dc1953e9a489ca39fe075f60fd3d1",
        "IPY_MODEL_cc7576cf5f424727a538fd64ec2b8694",
        "IPY_MODEL_554e284fe67d4408aa5344e45e4d0274",
        "IPY_MODEL_81185d7b48c5402f97c81cce08649b34",
        "IPY_MODEL_62c1a573ed4b4a0c94b82b0ef6d976fe",
        "IPY_MODEL_e2edb6304382450b823e5655179f5a6d"
       ],
       "layout": "IPY_MODEL_0261f9e62b234439873402d336041a69"
      }
     },
     "6da7d3d876064f1f9555a7a40461e31c": {
      "model_module": "@jupyter-widgets/controls",
      "model_module_version": "1.2.0",
      "model_name": "DescriptionStyleModel",
      "state": {
       "description_width": ""
      }
     },
     "6dd636fd34f847cbb0fc7d665ae127c4": {
      "model_module": "@jupyter-widgets/controls",
      "model_module_version": "1.2.0",
      "model_name": "DescriptionStyleModel",
      "state": {
       "description_width": ""
      }
     },
     "6dd8263a205c4642ba8702d2d2826ca8": {
      "model_module": "@jupyter-widgets/base",
      "model_module_version": "1.0.0",
      "model_name": "LayoutModel",
      "state": {}
     },
     "6ddac4db2d454ca895ff25566f3e78da": {
      "model_module": "@jupyter-widgets/controls",
      "model_module_version": "1.2.0",
      "model_name": "DescriptionStyleModel",
      "state": {
       "description_width": ""
      }
     },
     "6df85268451941229b5f55fc27677442": {
      "model_module": "@jupyter-widgets/controls",
      "model_module_version": "1.2.0",
      "model_name": "FloatTextModel",
      "state": {
       "description": "max.",
       "layout": "IPY_MODEL_d36786cf6ebf40a3b1cc5a0b8a5ede8a",
       "step": 0.1,
       "style": "IPY_MODEL_8d518e33c96c4d9aacb092476f183f2c",
       "value": 2
      }
     },
     "6e0089000016448c8f05fa717b1d05a3": {
      "model_module": "@jupyter-widgets/controls",
      "model_module_version": "1.2.0",
      "model_name": "DescriptionStyleModel",
      "state": {
       "description_width": ""
      }
     },
     "6e56e4b4661d44b4a335ef6bb224b175": {
      "model_module": "@jupyter-widgets/controls",
      "model_module_version": "1.2.0",
      "model_name": "DescriptionStyleModel",
      "state": {
       "description_width": ""
      }
     },
     "6ebd9a8a594d41a18e119a98e72d73f9": {
      "model_module": "@jupyter-widgets/base",
      "model_module_version": "1.0.0",
      "model_name": "LayoutModel",
      "state": {
       "display": "inline"
      }
     },
     "6eca4e54448c48fe8e6ed0300f3158c2": {
      "model_module": "@jupyter-widgets/controls",
      "model_module_version": "1.2.0",
      "model_name": "DescriptionStyleModel",
      "state": {
       "description_width": ""
      }
     },
     "6ed02a6c11804f8c95e9f0e2f6da5699": {
      "model_module": "@jupyter-widgets/base",
      "model_module_version": "1.0.0",
      "model_name": "LayoutModel",
      "state": {
       "width": "75%"
      }
     },
     "6ee7ec2215584e7cb4c5f9ebdca84026": {
      "model_module": "@jupyter-widgets/base",
      "model_module_version": "1.0.0",
      "model_name": "LayoutModel",
      "state": {
       "display": "flex",
       "flex_flow": "column wrap",
       "width": "66%"
      }
     },
     "6f3d645ca24d406081c03e962d90f5a0": {
      "model_module": "@jupyter-widgets/base",
      "model_module_version": "1.0.0",
      "model_name": "LayoutModel",
      "state": {}
     },
     "6f6341c501034480a9a338ed54045c74": {
      "model_module": "@jupyter-widgets/controls",
      "model_module_version": "1.2.0",
      "model_name": "FloatTextModel",
      "state": {
       "description": "threshold",
       "layout": "IPY_MODEL_1190408936e74c2f86398b535c88453e",
       "step": 10,
       "style": "IPY_MODEL_2a7f49c3ab8141999adc08d0345fcedb",
       "value": 1000
      }
     },
     "6f8df1c5d88846d986fed676f466cb6c": {
      "model_module": "@jupyter-widgets/base",
      "model_module_version": "1.0.0",
      "model_name": "LayoutModel",
      "state": {
       "width": "auto"
      }
     },
     "704bb813a1324e319c9d68815e865f2d": {
      "model_module": "@jupyter-widgets/controls",
      "model_module_version": "1.2.0",
      "model_name": "DescriptionStyleModel",
      "state": {
       "description_width": ""
      }
     },
     "7065c42cfbec4534b7b8c4e7b6a34b3f": {
      "model_module": "@jupyter-widgets/base",
      "model_module_version": "1.0.0",
      "model_name": "LayoutModel",
      "state": {
       "width": "auto"
      }
     },
     "706e429c229347259672d8922366d670": {
      "model_module": "@jupyter-widgets/controls",
      "model_module_version": "1.2.0",
      "model_name": "IntRangeSliderModel",
      "state": {
       "_model_name": "IntRangeSliderModel",
       "_view_name": "IntRangeSliderView",
       "layout": "IPY_MODEL_f0c56595a26442fda945eba4d2ce93de",
       "max": 65535,
       "style": "IPY_MODEL_6af2d3fed9b545f49f63b030ffb33731",
       "value": [
        134,
        9382
       ]
      }
     },
     "707a10ea55034a038f0ae84fe286cc49": {
      "model_module": "@jupyter-widgets/controls",
      "model_module_version": "1.2.0",
      "model_name": "SliderStyleModel",
      "state": {
       "description_width": ""
      }
     },
     "707f959190054f86b52afacf883b7362": {
      "model_module": "@jupyter-widgets/controls",
      "model_module_version": "1.2.0",
      "model_name": "LabelModel",
      "state": {
       "layout": "IPY_MODEL_27800e141b1d44a0a185d03be1413c16",
       "style": "IPY_MODEL_6ddac4db2d454ca895ff25566f3e78da",
       "value": "Locating ctrl-H57/no-cells_SAv-100k_SSS-ctrl-H57-50k_029_.SPE (213/213)"
      }
     },
     "710847d775194b9cb10c836ca473b834": {
      "model_module": "@jupyter-widgets/controls",
      "model_module_version": "1.2.0",
      "model_name": "DescriptionStyleModel",
      "state": {
       "description_width": ""
      }
     },
     "7112cee849c74ecb8152cb86bdbe5631": {
      "model_module": "@jupyter-widgets/controls",
      "model_module_version": "1.2.0",
      "model_name": "DescriptionStyleModel",
      "state": {
       "description_width": ""
      }
     },
     "714d253144384720828bdd50e58469e1": {
      "model_module": "@jupyter-widgets/base",
      "model_module_version": "1.0.0",
      "model_name": "LayoutModel",
      "state": {}
     },
     "714df60064f0460cb9bc52cfb29760a1": {
      "model_module": "@jupyter-widgets/controls",
      "model_module_version": "1.2.0",
      "model_name": "FloatTextModel",
      "state": {
       "description": "min.",
       "layout": "IPY_MODEL_05b4ec877b804dcbb86c36c410f637c7",
       "step": 0.1,
       "style": "IPY_MODEL_184e332be168424e9bb1cb8642c9490f",
       "value": 0.5
      }
     },
     "71535ed4f46f42308f4796dd4b17a2ac": {
      "model_module": "@jupyter-widgets/controls",
      "model_module_version": "1.2.0",
      "model_name": "DescriptionStyleModel",
      "state": {
       "description_width": ""
      }
     },
     "7157ae5182ba44f3bdfcbf91cbe989bc": {
      "model_module": "@jupyter-widgets/controls",
      "model_module_version": "1.2.0",
      "model_name": "LabelModel",
      "state": {
       "layout": "IPY_MODEL_a9d796c2935e4d48abfdfad8b2f07230",
       "style": "IPY_MODEL_f551e0a9a14f4daba1785cac22224852",
       "value": "Locating beads (file 1/10)"
      }
     },
     "71b2294cc73247eaaad5ab55de16c115": {
      "model_module": "@jupyter-widgets/controls",
      "model_module_version": "1.2.0",
      "model_name": "HBoxModel",
      "state": {
       "children": [
        "IPY_MODEL_706e429c229347259672d8922366d670",
        "IPY_MODEL_413db89841384dc395069f5b8392741e",
        "IPY_MODEL_adc6e4587a314fd8afcde5d140a8acc1"
       ],
       "layout": "IPY_MODEL_45ee5eca128243c499bc220cc0d4b8f8"
      }
     },
     "71e2a8a45af34ed788cde52d8bfa61bf": {
      "model_module": "@jupyter-widgets/base",
      "model_module_version": "1.0.0",
      "model_name": "LayoutModel",
      "state": {}
     },
     "71ef8416d5164e26ad13d386265fb786": {
      "model_module": "@jupyter-widgets/controls",
      "model_module_version": "1.2.0",
      "model_name": "FloatTextModel",
      "state": {
       "description": "sigma",
       "layout": "IPY_MODEL_631fa72c9eeb4fa3a38937437c658739",
       "step": 0.1,
       "style": "IPY_MODEL_be34a16d9dee4f9a9bd6a2dd669192be",
       "value": 1
      }
     },
     "71fc787b64ba42bea43c4809f022fbf0": {
      "model_module": "@jupyter-widgets/controls",
      "model_module_version": "1.2.0",
      "model_name": "VBoxModel",
      "state": {
       "children": [
        "IPY_MODEL_b9c3b9812bdb47468e36ab1cba60367c",
        "IPY_MODEL_eff1bedff8c4495781f64e72b69d3fe7"
       ],
       "layout": "IPY_MODEL_03a3c44633d2479eb3411c8dabba1b26"
      }
     },
     "723210085c814704904c271a2a99f89c": {
      "model_module": "@jupyter-widgets/base",
      "model_module_version": "1.0.0",
      "model_name": "LayoutModel",
      "state": {}
     },
     "7251cff4abc34a61bd637e4fb3886404": {
      "model_module": "@jupyter-widgets/controls",
      "model_module_version": "1.2.0",
      "model_name": "DescriptionStyleModel",
      "state": {
       "description_width": ""
      }
     },
     "7268f4510a1a451fa79647460f51b16a": {
      "model_module": "@jupyter-widgets/base",
      "model_module_version": "1.0.0",
      "model_name": "LayoutModel",
      "state": {}
     },
     "728268fbfb8a42a5949770b6a0cc242c": {
      "model_module": "@jupyter-widgets/base",
      "model_module_version": "1.0.0",
      "model_name": "LayoutModel",
      "state": {
       "width": "75%"
      }
     },
     "72917b645ba44e488824690c714903f7": {
      "model_module": "@jupyter-widgets/controls",
      "model_module_version": "1.2.0",
      "model_name": "DescriptionStyleModel",
      "state": {
       "description_width": ""
      }
     },
     "72a18521cd684806844a0b871bc72c6a": {
      "model_module": "@jupyter-widgets/controls",
      "model_module_version": "1.2.0",
      "model_name": "HBoxModel",
      "state": {
       "children": [
        "IPY_MODEL_12d202bf4c084227bba83c3e9ada6aed",
        "IPY_MODEL_a675c0c565574b6c8ceef6ac7ba5fbdc"
       ],
       "layout": "IPY_MODEL_c850f2d83d5a4107b913da97dd1deccd"
      }
     },
     "72b54360941b42a4b3f921d31d4a7d9a": {
      "model_module": "@jupyter-widgets/controls",
      "model_module_version": "1.2.0",
      "model_name": "HBoxModel",
      "state": {
       "children": [
        "IPY_MODEL_77fefab517cb410c83b3b61976110495",
        "IPY_MODEL_e61264a217664ee696e47284c439a285"
       ],
       "layout": "IPY_MODEL_beb0446a9fe94320aefb2c66df80ab34"
      }
     },
     "72bce2cf39e4492eae53e8df455d7341": {
      "model_module": "@jupyter-widgets/controls",
      "model_module_version": "1.2.0",
      "model_name": "HBoxModel",
      "state": {
       "children": [
        "IPY_MODEL_f624b5bd70784e0798190a7c27f34df5",
        "IPY_MODEL_d8206cec6aa245359e7e5a9d25bc355f"
       ],
       "layout": "IPY_MODEL_6b0100a8db874477b3a163610b0c3b91"
      }
     },
     "72dbc3b77baf4e64be7a12988ac9fa4c": {
      "model_module": "@jupyter-widgets/controls",
      "model_module_version": "1.2.0",
      "model_name": "IntRangeSliderModel",
      "state": {
       "_model_name": "IntRangeSliderModel",
       "_view_name": "IntRangeSliderView",
       "layout": "IPY_MODEL_a58f4de4e10b4df4b9eb9fcf4feaf163",
       "max": 65535,
       "style": "IPY_MODEL_09b5f256ed1e4788b8e416dda6f8b13d",
       "value": [
        134,
        25393
       ]
      }
     },
     "732a147ad77b4398b718fed17c20844d": {
      "model_module": "@jupyter-widgets/controls",
      "model_module_version": "1.2.0",
      "model_name": "DescriptionStyleModel",
      "state": {
       "description_width": ""
      }
     },
     "732b0a8af2324470bf028256e20453c6": {
      "model_module": "@jupyter-widgets/controls",
      "model_module_version": "1.2.0",
      "model_name": "DescriptionStyleModel",
      "state": {
       "description_width": ""
      }
     },
     "7352c66be8614d1fab680d28cd01c428": {
      "model_module": "@jupyter-widgets/base",
      "model_module_version": "1.0.0",
      "model_name": "LayoutModel",
      "state": {
       "display": "flex",
       "flex_flow": "column wrap",
       "width": "66%"
      }
     },
     "7364276c133a4c3eaaa343befc2a703b": {
      "model_module": "@jupyter-widgets/controls",
      "model_module_version": "1.2.0",
      "model_name": "DescriptionStyleModel",
      "state": {
       "description_width": ""
      }
     },
     "7399cbebd2a24dc7baae9c10ae65dbf7": {
      "model_module": "@jupyter-widgets/controls",
      "model_module_version": "1.2.0",
      "model_name": "VBoxModel",
      "state": {
       "children": [
        "IPY_MODEL_4b5b61fb0b5f42bc953c2099db1dd1ee",
        "IPY_MODEL_41fa1613ebcb41d684a58cdfdc271be3",
        "IPY_MODEL_f992ac8388e0419ea5b8369bc8e329f7"
       ],
       "layout": "IPY_MODEL_7530e9f6dbd74c2cb957bd4e61efb36f"
      }
     },
     "7411c1c312424992878cea121fca4ef0": {
      "model_module": "@jupyter-widgets/base",
      "model_module_version": "1.0.0",
      "model_name": "LayoutModel",
      "state": {
       "width": "auto"
      }
     },
     "742747435e2244c88f233fdfbe44a6bb": {
      "model_module": "@jupyter-widgets/controls",
      "model_module_version": "1.2.0",
      "model_name": "DescriptionStyleModel",
      "state": {
       "description_width": ""
      }
     },
     "742a23682d814029a435a2cd4e9c2c31": {
      "model_module": "@jupyter-widgets/controls",
      "model_module_version": "1.2.0",
      "model_name": "DescriptionStyleModel",
      "state": {
       "description_width": ""
      }
     },
     "744b36f504394d21b014ea9c4cbbfcb7": {
      "model_module": "@jupyter-widgets/controls",
      "model_module_version": "1.2.0",
      "model_name": "DescriptionStyleModel",
      "state": {
       "description_width": ""
      }
     },
     "74ba6fa1846d4103a14d6c2c08919732": {
      "model_module": "@jupyter-widgets/controls",
      "model_module_version": "1.2.0",
      "model_name": "CheckboxModel",
      "state": {
       "description": "Show loc.",
       "disabled": false,
       "indent": false,
       "layout": "IPY_MODEL_4cb1aac3e95b4c979a1ead5774c356b6",
       "style": "IPY_MODEL_9bae719b9229446abcc2fa83c9e02142",
       "value": true
      }
     },
     "74e76e9dc43b46c4a0fbab97fa05ac82": {
      "model_module": "@jupyter-widgets/base",
      "model_module_version": "1.0.0",
      "model_name": "LayoutModel",
      "state": {}
     },
     "74ed080bf3d343688e27a95f3cdc939f": {
      "model_module": "@jupyter-widgets/base",
      "model_module_version": "1.0.0",
      "model_name": "LayoutModel",
      "state": {}
     },
     "7530e9f6dbd74c2cb957bd4e61efb36f": {
      "model_module": "@jupyter-widgets/base",
      "model_module_version": "1.0.0",
      "model_name": "LayoutModel",
      "state": {}
     },
     "75347f3d56c347b89e3487ee2446d0d0": {
      "model_module": "@jupyter-widgets/base",
      "model_module_version": "1.0.0",
      "model_name": "LayoutModel",
      "state": {}
     },
     "75684ee022ae49a69e0964010de2f97e": {
      "model_module": "@jupyter-widgets/base",
      "model_module_version": "1.0.0",
      "model_name": "LayoutModel",
      "state": {}
     },
     "7615c6da7eca413fbe9ae7eb408c7318": {
      "model_module": "@jupyter-widgets/base",
      "model_module_version": "1.0.0",
      "model_name": "LayoutModel",
      "state": {}
     },
     "763e1749ef914ea7811b6939b9341d02": {
      "model_module": "@jupyter-widgets/base",
      "model_module_version": "1.0.0",
      "model_name": "LayoutModel",
      "state": {
       "display": "none"
      }
     },
     "766095983907487a87bcc331677cb94d": {
      "model_module": "@jupyter-widgets/controls",
      "model_module_version": "1.2.0",
      "model_name": "FloatTextModel",
      "state": {
       "description": "min.",
       "layout": "IPY_MODEL_9c53dadb0022460fbbd471c74e179ac7",
       "step": 0.1,
       "style": "IPY_MODEL_5d1ee3b1cb2f409baac0f6f3c8af3d89",
       "value": 0.5
      }
     },
     "767c389b3ad44f7ab00364045a966393": {
      "model_module": "@jupyter-widgets/controls",
      "model_module_version": "1.2.0",
      "model_name": "DescriptionStyleModel",
      "state": {
       "description_width": ""
      }
     },
     "76e0696c5f33476dba9467127113deca": {
      "model_module": "@jupyter-widgets/controls",
      "model_module_version": "1.2.0",
      "model_name": "DropdownModel",
      "state": {
       "_options_labels": [
        "Identity",
        "Cg",
        "Gaussian"
       ],
       "description": "find filter",
       "index": 1,
       "layout": "IPY_MODEL_a9760e5cf2bb431e8291b5dd00bdc839",
       "style": "IPY_MODEL_89674fdefb424fd5b881882a1c20c533"
      }
     },
     "770d17bacf144e8aa53f0f05f9f3b50a": {
      "model_module": "@jupyter-widgets/controls",
      "model_module_version": "1.2.0",
      "model_name": "DescriptionStyleModel",
      "state": {
       "description_width": ""
      }
     },
     "772b179f43af4b2b865d04bb49f67aef": {
      "model_module": "@jupyter-widgets/controls",
      "model_module_version": "1.2.0",
      "model_name": "SelectModel",
      "state": {
       "_options_labels": [
        "data/beads/beads_000_.SPE",
        "data/beads/beads_001_.SPE",
        "data/beads/beads_002_.SPE",
        "data/beads/beads_003_.SPE",
        "data/beads/beads_004_.SPE",
        "data/beads/beads_005_.SPE",
        "data/beads/beads_006_.SPE",
        "data/beads/beads_007_.SPE",
        "data/beads/beads_008_.SPE",
        "data/beads/beads_009_.SPE"
       ],
       "index": 0,
       "layout": "IPY_MODEL_df36990af733499b9507d029215f2f00",
       "style": "IPY_MODEL_97b53a45b6294741ac24415026d69677"
      }
     },
     "7737dfaaec96414183ebf6cf4492783d": {
      "model_module": "@jupyter-widgets/base",
      "model_module_version": "1.0.0",
      "model_name": "LayoutModel",
      "state": {}
     },
     "774d43ce07db4ff38546dd8ec2622df9": {
      "model_module": "@jupyter-widgets/base",
      "model_module_version": "1.0.0",
      "model_name": "LayoutModel",
      "state": {}
     },
     "77a71aeb78a444699b75d59679ba74a4": {
      "model_module": "@jupyter-widgets/base",
      "model_module_version": "1.0.0",
      "model_name": "LayoutModel",
      "state": {
       "display": "none"
      }
     },
     "77fefab517cb410c83b3b61976110495": {
      "model_module": "@jupyter-widgets/controls",
      "model_module_version": "1.2.0",
      "model_name": "CheckboxModel",
      "state": {
       "description": "Min. distance",
       "disabled": false,
       "indent": false,
       "layout": "IPY_MODEL_db1e4da70e574d328eb4b0395d9d5099",
       "style": "IPY_MODEL_9aca44609f2a49c7bd106e64bd51552d",
       "value": true
      }
     },
     "7809e59803954e9ea3f3fb2f18196cbd": {
      "model_module": "@jupyter-widgets/base",
      "model_module_version": "1.0.0",
      "model_name": "LayoutModel",
      "state": {
       "display": "flex",
       "flex_flow": "column wrap",
       "width": "66%"
      }
     },
     "788a2a310335461b85a4acc03917679e": {
      "model_module": "@jupyter-widgets/controls",
      "model_module_version": "1.2.0",
      "model_name": "FloatTextModel",
      "state": {
       "description": "max.",
       "layout": "IPY_MODEL_bf3f8014db0a4ed6826e77c8d891e255",
       "step": 0.1,
       "style": "IPY_MODEL_a81a0c263b504dd097171b652cc38c56",
       "value": 2
      }
     },
     "7897d3f52a6c431889148c1404a7ad50": {
      "model_module": "@jupyter-widgets/controls",
      "model_module_version": "1.2.0",
      "model_name": "DescriptionStyleModel",
      "state": {
       "description_width": ""
      }
     },
     "789824ebdafe4a8697df288cd17ebbb9": {
      "model_module": "@jupyter-widgets/controls",
      "model_module_version": "1.2.0",
      "model_name": "DescriptionStyleModel",
      "state": {
       "description_width": ""
      }
     },
     "78a71abb23fb4f6a898bd1072b249131": {
      "model_module": "@jupyter-widgets/controls",
      "model_module_version": "1.2.0",
      "model_name": "FloatTextModel",
      "state": {
       "description": "threshold",
       "layout": "IPY_MODEL_298d1fcc82444382bcd444d7d25a6a2b",
       "step": 10,
       "style": "IPY_MODEL_8ece21e0bbc04f559be068553b2f2d6e",
       "value": 100
      }
     },
     "78ae498426d2423dac6186c3bed9bda3": {
      "model_module": "@jupyter-widgets/base",
      "model_module_version": "1.0.0",
      "model_name": "LayoutModel",
      "state": {
       "width": "auto"
      }
     },
     "78c224c15bbf45a8b8b9d9a6668c8437": {
      "model_module": "@jupyter-widgets/controls",
      "model_module_version": "1.2.0",
      "model_name": "VBoxModel",
      "state": {
       "children": [
        "IPY_MODEL_0de1c5355cd847b3a4c630d31a3c7fb3",
        "IPY_MODEL_005559a6669f4d2b82b23960f9ad2cb3"
       ],
       "layout": "IPY_MODEL_deaa69adc590440db289d16e8652a34d"
      }
     },
     "78d00e24e66247fcb1ee681aa55b73a9": {
      "model_module": "@jupyter-widgets/base",
      "model_module_version": "1.0.0",
      "model_name": "LayoutModel",
      "state": {
       "width": "100%"
      }
     },
     "78d91b7ed5bb4a19a03ae973cf82608d": {
      "model_module": "@jupyter-widgets/controls",
      "model_module_version": "1.2.0",
      "model_name": "VBoxModel",
      "state": {
       "children": [
        "IPY_MODEL_bed8cb7bc5d240ed9659485bda8a0bb4",
        "IPY_MODEL_eb8ea61d9b884dfeab0e5844d8e02b7a"
       ],
       "layout": "IPY_MODEL_d2df79d773ea4115a96da54b67b1d450"
      }
     },
     "7911c08f292a481c80c05b04716d2d21": {
      "model_module": "@jupyter-widgets/controls",
      "model_module_version": "1.2.0",
      "model_name": "DropdownModel",
      "state": {
       "_options_labels": [
        "Identity",
        "Cg",
        "Gaussian"
       ],
       "description": "find filter",
       "index": 1,
       "layout": "IPY_MODEL_fc5893db06514f709860d8b8e5c74f92",
       "style": "IPY_MODEL_a0931920790f4838a3c589307e70e6ea"
      }
     },
     "7928f9a9bda5464cb6f4dab76da972f9": {
      "model_module": "@jupyter-widgets/controls",
      "model_module_version": "1.2.0",
      "model_name": "DescriptionStyleModel",
      "state": {
       "description_width": ""
      }
     },
     "79408f63579c4a6eb87afeda2a783ead": {
      "model_module": "@jupyter-widgets/base",
      "model_module_version": "1.0.0",
      "model_name": "LayoutModel",
      "state": {}
     },
     "795f3086492145fdaab5abf5b6f33fcf": {
      "model_module": "@jupyter-widgets/controls",
      "model_module_version": "1.2.0",
      "model_name": "DescriptionStyleModel",
      "state": {
       "description_width": ""
      }
     },
     "7972ade17a9549aca2c729e88c1deecb": {
      "model_module": "@jupyter-widgets/controls",
      "model_module_version": "1.2.0",
      "model_name": "IntTextModel",
      "state": {
       "description": "feat. size",
       "layout": "IPY_MODEL_4a1aaafdd5f744af8cf8e6809361d7c6",
       "step": 1,
       "style": "IPY_MODEL_732b0a8af2324470bf028256e20453c6",
       "value": 3
      }
     },
     "79f327509cd0406eb137e2966fa39e9d": {
      "model_module": "@jupyter-widgets/base",
      "model_module_version": "1.0.0",
      "model_name": "LayoutModel",
      "state": {
       "width": "75%"
      }
     },
     "79f60ce6dc2f41169c7f7db75c044dd5": {
      "model_module": "@jupyter-widgets/base",
      "model_module_version": "1.0.0",
      "model_name": "LayoutModel",
      "state": {
       "width": "75%"
      }
     },
     "79fed7d79c20410bb8dd6db061405c0c": {
      "model_module": "@jupyter-widgets/controls",
      "model_module_version": "1.2.0",
      "model_name": "DescriptionStyleModel",
      "state": {
       "description_width": ""
      }
     },
     "7a0ebbcb7c4549b69ddcf0b2e2c5068b": {
      "model_module": "@jupyter-widgets/controls",
      "model_module_version": "1.2.0",
      "model_name": "VBoxModel",
      "state": {
       "children": [
        "IPY_MODEL_37582f39e27b4551a390952582802e16",
        "IPY_MODEL_52eaf20fec5d4b26b642602c7e2f087b",
        "IPY_MODEL_c8246eec1c214b518f95489e721820c8"
       ],
       "layout": "IPY_MODEL_4d71c157152d495d8d4b865b622bc7cd"
      }
     },
     "7a134be248c44819aa97966728f0c277": {
      "model_module": "@jupyter-widgets/controls",
      "model_module_version": "1.2.0",
      "model_name": "CheckboxModel",
      "state": {
       "description": "Show loc.",
       "disabled": false,
       "indent": false,
       "layout": "IPY_MODEL_c5656558055948b2a4fa9d3f966364fa",
       "style": "IPY_MODEL_b74b4eaa76f44ed9a4ce52c21cca5318",
       "value": true
      }
     },
     "7a1a89626449426fa814701a0bffdd39": {
      "model_module": "@jupyter-widgets/base",
      "model_module_version": "1.0.0",
      "model_name": "LayoutModel",
      "state": {}
     },
     "7a3d482483a6445d88c73d2a846f9824": {
      "model_module": "@jupyter-widgets/controls",
      "model_module_version": "1.2.0",
      "model_name": "DescriptionStyleModel",
      "state": {
       "description_width": ""
      }
     },
     "7a70e5df9e4a47af98622efa03666631": {
      "model_module": "@jupyter-widgets/controls",
      "model_module_version": "1.2.0",
      "model_name": "FloatTextModel",
      "state": {
       "description": "radius",
       "layout": "IPY_MODEL_fe50cf899f9849c68cd362416b44221a",
       "step": 0.1,
       "style": "IPY_MODEL_a335da71e80246ae9495b090f1d55e3d",
       "value": 1
      }
     },
     "7abeedd3279141b7bdec9c5c09ab7c9e": {
      "model_module": "@jupyter-widgets/base",
      "model_module_version": "1.0.0",
      "model_name": "LayoutModel",
      "state": {}
     },
     "7b03f085f65f420f8a3f52353e8d06af": {
      "model_module": "@jupyter-widgets/controls",
      "model_module_version": "1.2.0",
      "model_name": "VBoxModel",
      "state": {
       "children": [
        "IPY_MODEL_5c98545516e04951b2ddb146af32d870",
        "IPY_MODEL_2f874938a2d94bcba003ba49e8e33c0a"
       ],
       "layout": "IPY_MODEL_af56442840da4d8791c2372861416b99"
      }
     },
     "7b584ece4361442f9e5d5ae43bdc193c": {
      "model_module": "@jupyter-widgets/controls",
      "model_module_version": "1.2.0",
      "model_name": "DescriptionStyleModel",
      "state": {
       "description_width": ""
      }
     },
     "7b761e89fa234cb08725d6348836a0ee": {
      "model_module": "@jupyter-widgets/base",
      "model_module_version": "1.0.0",
      "model_name": "LayoutModel",
      "state": {}
     },
     "7b82c042d2e84e6abda55cdaf4c9b65b": {
      "model_module": "@jupyter-widgets/controls",
      "model_module_version": "1.2.0",
      "model_name": "DescriptionStyleModel",
      "state": {
       "description_width": ""
      }
     },
     "7b8878de628d40bd9920c97d3939afd8": {
      "model_module": "@jupyter-widgets/controls",
      "model_module_version": "1.2.0",
      "model_name": "DescriptionStyleModel",
      "state": {
       "description_width": ""
      }
     },
     "7b89770040f044aeb0938fce0d19fad1": {
      "model_module": "@jupyter-widgets/base",
      "model_module_version": "1.0.0",
      "model_name": "LayoutModel",
      "state": {
       "width": "100%"
      }
     },
     "7ba82f1bc9f44a9ab5436345270cc38b": {
      "model_module": "@jupyter-widgets/controls",
      "model_module_version": "1.2.0",
      "model_name": "FloatTextModel",
      "state": {
       "description": "max.",
       "layout": "IPY_MODEL_649b7633f4b04e2b844853ac9c71132a",
       "step": 0.1,
       "style": "IPY_MODEL_b15e46d5fa8e48069163d3f58c7cd47d",
       "value": 2
      }
     },
     "7c0872584b414742a7b4ac503911cd25": {
      "model_module": "@jupyter-widgets/controls",
      "model_module_version": "1.2.0",
      "model_name": "IntTextModel",
      "state": {
       "description": "feat. size",
       "layout": "IPY_MODEL_00de74018a174b87b954fff29cd962b5",
       "step": 1,
       "style": "IPY_MODEL_7f7947b871f94543900367021cc52eb8",
       "value": 3
      }
     },
     "7c1fa466585b4c18bb1136d99db01e73": {
      "model_module": "@jupyter-widgets/controls",
      "model_module_version": "1.2.0",
      "model_name": "IntTextModel",
      "state": {
       "description": "feat. size",
       "layout": "IPY_MODEL_3b6d145814284f81a73a8766f2202449",
       "step": 1,
       "style": "IPY_MODEL_094dc0a79c5448bcb2cc027f7dbdbf13",
       "value": 3
      }
     },
     "7c2cf39c04a54bdab9d108abb89c1b1a": {
      "model_module": "@jupyter-widgets/controls",
      "model_module_version": "1.2.0",
      "model_name": "VBoxModel",
      "state": {
       "children": [
        "IPY_MODEL_3bd3ca85972f4753945635cc6a4b40e8",
        "IPY_MODEL_542824644f4b4688ab53fe51e80cc840"
       ],
       "layout": "IPY_MODEL_35affd50b11e4522a38dac9e0946d5c9"
      }
     },
     "7c2f1c1779d94e2e91f9166b3dd4b218": {
      "model_module": "@jupyter-widgets/controls",
      "model_module_version": "1.2.0",
      "model_name": "DescriptionStyleModel",
      "state": {
       "description_width": ""
      }
     },
     "7c3f80ceafa642ad91d6b4dabf593fcc": {
      "model_module": "@jupyter-widgets/controls",
      "model_module_version": "1.2.0",
      "model_name": "VBoxModel",
      "state": {
       "children": [
        "IPY_MODEL_fd55a134330e485dafc12f541fdc0098",
        "IPY_MODEL_999925651d7242988684fba28c027481",
        "IPY_MODEL_c80ee4c5f3844dcb8f585e61645e0e9b"
       ],
       "layout": "IPY_MODEL_49b0252677114a718f2f1f5ce51aa65d"
      }
     },
     "7c8f7fd5620348dbbdce9826109e023e": {
      "model_module": "@jupyter-widgets/controls",
      "model_module_version": "1.2.0",
      "model_name": "FloatTextModel",
      "state": {
       "layout": "IPY_MODEL_68771071100647cfbf783c46587caf21",
       "step": 0.1,
       "style": "IPY_MODEL_12e3aca5f7a3466baf8ea7382af3da63",
       "value": 1
      }
     },
     "7c91f459dac54e8fa020dd41e8b948e8": {
      "model_module": "@jupyter-widgets/controls",
      "model_module_version": "1.2.0",
      "model_name": "ButtonModel",
      "state": {
       "description": "Auto",
       "layout": "IPY_MODEL_58c7c620e7444f18bee9b757653f2aa9",
       "style": "IPY_MODEL_6b12021b53df45f595d570758060959a"
      }
     },
     "7cadca4ec02f4e818ba61018391b0e13": {
      "model_module": "@jupyter-widgets/base",
      "model_module_version": "1.0.0",
      "model_name": "LayoutModel",
      "state": {
       "width": "100%"
      }
     },
     "7caf946b93e8415dbb5cfded06c588a9": {
      "model_module": "@jupyter-widgets/controls",
      "model_module_version": "1.2.0",
      "model_name": "FloatTextModel",
      "state": {
       "layout": "IPY_MODEL_e52dc050c90b4f95ae0574a97f6bab48",
       "step": 0.1,
       "style": "IPY_MODEL_bf65372f5d3047ebb15da62caa1c4521",
       "value": 1
      }
     },
     "7cea220079584f04863b5b3c3f490da5": {
      "model_module": "@jupyter-widgets/base",
      "model_module_version": "1.0.0",
      "model_name": "LayoutModel",
      "state": {
       "display": "none"
      }
     },
     "7cf28348575d44999104b0a38448e86f": {
      "model_module": "@jupyter-widgets/controls",
      "model_module_version": "1.2.0",
      "model_name": "IntTextModel",
      "state": {
       "description": "feat. size",
       "layout": "IPY_MODEL_f4ea95c3704c4136a4bc40e6012cd317",
       "step": 1,
       "style": "IPY_MODEL_47cd86d34ec4462893501a76ed9afd8f",
       "value": 3
      }
     },
     "7cf744bcc5b0409f9103c5c4577f0f0c": {
      "model_module": "@jupyter-widgets/base",
      "model_module_version": "1.0.0",
      "model_name": "LayoutModel",
      "state": {}
     },
     "7d08cafb736a41c2afb0cf75a29fa8b9": {
      "model_module": "@jupyter-widgets/controls",
      "model_module_version": "1.2.0",
      "model_name": "SliderStyleModel",
      "state": {
       "description_width": ""
      }
     },
     "7d13a996cd214e179de14b9f3f64a524": {
      "model_module": "@jupyter-widgets/controls",
      "model_module_version": "1.2.0",
      "model_name": "VBoxModel",
      "state": {
       "children": [
        "IPY_MODEL_4a41e935acee4148a4451a1654544e26",
        "IPY_MODEL_ad09e136c24c4419a07750758267dfd3",
        "IPY_MODEL_e4432ff0f82a4912ac85dd08f6e539b0",
        "IPY_MODEL_6d7ed1f11220468bae685a0970199e25",
        "IPY_MODEL_a00cbf50657b424287aeafdf5cff1a05",
        "IPY_MODEL_d9c72ea5ac5e4104bd5e802eb4cb1431"
       ],
       "layout": "IPY_MODEL_ff916902a58342ff8f8136893a243101"
      }
     },
     "7d37587997e74c4a886352b548618d25": {
      "model_module": "@jupyter-widgets/controls",
      "model_module_version": "1.2.0",
      "model_name": "ButtonModel",
      "state": {
       "description": "Auto",
       "layout": "IPY_MODEL_417b9bf113344cc0b8645f4a829750d8",
       "style": "IPY_MODEL_eb8a6c492cbb40afa6de05b53bec888b"
      }
     },
     "7d54d4eef9b141c5b28a3ced6be45186": {
      "model_module": "@jupyter-widgets/controls",
      "model_module_version": "1.2.0",
      "model_name": "CheckboxModel",
      "state": {
       "description": "Min. distance",
       "disabled": false,
       "indent": false,
       "layout": "IPY_MODEL_edcf26e89f0140129f39cf5f6752a772",
       "style": "IPY_MODEL_f09107aafae74a6fa022c90364a58dcf",
       "value": false
      }
     },
     "7d8707fd46d64a3c8c0031d3914e3f5f": {
      "model_module": "@jupyter-widgets/controls",
      "model_module_version": "1.2.0",
      "model_name": "FloatTextModel",
      "state": {
       "description": "radius",
       "layout": "IPY_MODEL_33d2438241524a22a276e0c1f53efbd0",
       "step": 0.1,
       "style": "IPY_MODEL_5bf451524c124eb5aaa54312ad41c19b",
       "value": 1
      }
     },
     "7e1a9bca2032487a90f1a46296047b9c": {
      "model_module": "@jupyter-widgets/controls",
      "model_module_version": "1.2.0",
      "model_name": "DescriptionStyleModel",
      "state": {
       "description_width": ""
      }
     },
     "7e323cdbad764b54ba41c5bd2ed3ccdf": {
      "model_module": "@jupyter-widgets/base",
      "model_module_version": "1.0.0",
      "model_name": "LayoutModel",
      "state": {
       "display": "inline"
      }
     },
     "7e5d3d35dfdd4bd991635af6b96bb962": {
      "model_module": "@jupyter-widgets/controls",
      "model_module_version": "1.2.0",
      "model_name": "VBoxModel",
      "state": {
       "children": [
        "IPY_MODEL_a84219f788e443978c802281362621b5",
        "IPY_MODEL_a1fee939d02b4c3cbeb542df8cf1eb43",
        "IPY_MODEL_6c3ad84af7db4553a2e5a62501af6851",
        "IPY_MODEL_aec25161b34c4d5fa2495d37dd0b009c",
        "IPY_MODEL_65aa7fca0ee44bcdbdd5376b628ac01a",
        "IPY_MODEL_8a52be7024ef4c25aa09a59124e17e13"
       ],
       "layout": "IPY_MODEL_cbc95826e6074f2e92211d41a56f82a4"
      }
     },
     "7e69e27a79d54518ba4291cb90d5052e": {
      "model_module": "@jupyter-widgets/controls",
      "model_module_version": "1.2.0",
      "model_name": "DropdownModel",
      "state": {
       "_options_labels": [
        "Identity",
        "Cg",
        "Gaussian"
       ],
       "description": "find filter",
       "index": 1,
       "layout": "IPY_MODEL_5efc03be26be44678edae4db1dd0620d",
       "style": "IPY_MODEL_96c75463f6154453969f9a34b12ad577"
      }
     },
     "7e804dfa5c76426e93cae68a9fbae361": {
      "model_module": "@jupyter-widgets/base",
      "model_module_version": "1.0.0",
      "model_name": "LayoutModel",
      "state": {
       "width": "auto"
      }
     },
     "7e859156759f45b38523fc18293aa11d": {
      "model_module": "@jupyter-widgets/base",
      "model_module_version": "1.0.0",
      "model_name": "LayoutModel",
      "state": {}
     },
     "7eba0bf824a04ba59bf6385b7b96348e": {
      "model_module": "@jupyter-widgets/controls",
      "model_module_version": "1.2.0",
      "model_name": "FloatTextModel",
      "state": {
       "layout": "IPY_MODEL_7411c1c312424992878cea121fca4ef0",
       "step": 0.1,
       "style": "IPY_MODEL_2ea8a59f129b405d87173f9f3230b8e6",
       "value": 1
      }
     },
     "7f0e7f412f954619b202379e8b02693b": {
      "model_module": "@jupyter-widgets/controls",
      "model_module_version": "1.2.0",
      "model_name": "DescriptionStyleModel",
      "state": {
       "description_width": ""
      }
     },
     "7f26c2e32f73441e925acbfeb80b8ba5": {
      "model_module": "@jupyter-widgets/controls",
      "model_module_version": "1.2.0",
      "model_name": "IntTextModel",
      "state": {
       "description": "feat. size",
       "layout": "IPY_MODEL_5d0a7ef140e44964bca949a1721e3e29",
       "step": 1,
       "style": "IPY_MODEL_9fdbc4fb133d47bdab2d81519a664f88",
       "value": 3
      }
     },
     "7f4354ebdb9e4b5abbdc63c6c1eff22f": {
      "model_module": "@jupyter-widgets/controls",
      "model_module_version": "1.2.0",
      "model_name": "DescriptionStyleModel",
      "state": {
       "description_width": ""
      }
     },
     "7f4b4f3d85e34deeb1ea4774d8aefa66": {
      "model_module": "@jupyter-widgets/controls",
      "model_module_version": "1.2.0",
      "model_name": "CheckboxModel",
      "state": {
       "description": "Size range",
       "disabled": false,
       "indent": false,
       "layout": "IPY_MODEL_87bdfa4d9388414fbe34361823472cd9",
       "style": "IPY_MODEL_744b36f504394d21b014ea9c4cbbfcb7",
       "value": false
      }
     },
     "7f68fd8890284cd78451354497414a02": {
      "model_module": "@jupyter-widgets/controls",
      "model_module_version": "1.2.0",
      "model_name": "DescriptionStyleModel",
      "state": {
       "description_width": ""
      }
     },
     "7f73ff4f83394c04820b1cf4828cff07": {
      "model_module": "@jupyter-widgets/controls",
      "model_module_version": "1.2.0",
      "model_name": "CheckboxModel",
      "state": {
       "description": "Size range",
       "disabled": false,
       "indent": false,
       "layout": "IPY_MODEL_78ae498426d2423dac6186c3bed9bda3",
       "style": "IPY_MODEL_84be21c2267d46ecb6b61acbf06dc01e",
       "value": false
      }
     },
     "7f7947b871f94543900367021cc52eb8": {
      "model_module": "@jupyter-widgets/controls",
      "model_module_version": "1.2.0",
      "model_name": "DescriptionStyleModel",
      "state": {
       "description_width": ""
      }
     },
     "7f8c1ba0849c4963a3aec678f5fcbf8b": {
      "model_module": "@jupyter-widgets/controls",
      "model_module_version": "1.2.0",
      "model_name": "DescriptionStyleModel",
      "state": {
       "description_width": ""
      }
     },
     "7fae634bda3149b89c903f91e92c0a9e": {
      "model_module": "@jupyter-widgets/controls",
      "model_module_version": "1.2.0",
      "model_name": "DescriptionStyleModel",
      "state": {
       "description_width": ""
      }
     },
     "7ff62e478ee3437995b243f6afd57b84": {
      "model_module": "@jupyter-widgets/base",
      "model_module_version": "1.0.0",
      "model_name": "LayoutModel",
      "state": {}
     },
     "7ffaa12f4009420cabdc409956fafe3d": {
      "model_module": "@jupyter-widgets/controls",
      "model_module_version": "1.2.0",
      "model_name": "VBoxModel",
      "state": {
       "children": [
        "IPY_MODEL_6c8878d01af44bda9f3639d215611135",
        "IPY_MODEL_bd42a13e206240c8af39f2f3f7f56011",
        "IPY_MODEL_d700234ff2bd43d98b61da89639fba43"
       ],
       "layout": "IPY_MODEL_8c98602f1d7f4432a45d0fda2735fd67"
      }
     },
     "8004488e459a492b8d357d97ede48678": {
      "model_module": "@jupyter-widgets/controls",
      "model_module_version": "1.2.0",
      "model_name": "DescriptionStyleModel",
      "state": {
       "description_width": ""
      }
     },
     "80755e8cd72a466ba04fa2342cc4a2c4": {
      "model_module": "@jupyter-widgets/controls",
      "model_module_version": "1.2.0",
      "model_name": "CheckboxModel",
      "state": {
       "description": "Size range",
       "disabled": false,
       "indent": false,
       "layout": "IPY_MODEL_231f86b690714dfe9cc5b0b688cc7436",
       "style": "IPY_MODEL_6af5196c760649fd86ae2d5731be9973",
       "value": false
      }
     },
     "809d2a13aa78447b8a8fcfa964e91b06": {
      "model_module": "@jupyter-widgets/controls",
      "model_module_version": "1.2.0",
      "model_name": "DescriptionStyleModel",
      "state": {
       "description_width": ""
      }
     },
     "80a9910d37f34e0d9f9bca42f24e1a37": {
      "model_module": "@jupyter-widgets/controls",
      "model_module_version": "1.2.0",
      "model_name": "DescriptionStyleModel",
      "state": {
       "description_width": ""
      }
     },
     "80baaa6b703743fcb59be4abcea2e9bb": {
      "model_module": "@jupyter-widgets/controls",
      "model_module_version": "1.2.0",
      "model_name": "DescriptionStyleModel",
      "state": {
       "description_width": ""
      }
     },
     "80c2e356993c45dcbebf66dc3e671b92": {
      "model_module": "@jupyter-widgets/controls",
      "model_module_version": "1.2.0",
      "model_name": "DescriptionStyleModel",
      "state": {
       "description_width": ""
      }
     },
     "80d0f66ccc8043f5a05540c17b37572b": {
      "model_module": "@jupyter-widgets/base",
      "model_module_version": "1.0.0",
      "model_name": "LayoutModel",
      "state": {
       "width": "auto"
      }
     },
     "80d3c155cfc846a88c1e54b855601163": {
      "model_module": "@jupyter-widgets/base",
      "model_module_version": "1.0.0",
      "model_name": "LayoutModel",
      "state": {}
     },
     "80ed4a1176914252bf03bbd3df62e1c5": {
      "model_module": "@jupyter-widgets/controls",
      "model_module_version": "1.2.0",
      "model_name": "DropdownModel",
      "state": {
       "_options_labels": [
        "2d_fixed",
        "2d",
        "3d"
       ],
       "description": "model",
       "index": 1,
       "layout": "IPY_MODEL_fbe86e1dd7194487b3b57f7e6f490339",
       "style": "IPY_MODEL_679a8b092b324fc099cd7bba2007a0e8"
      }
     },
     "80f46a1514ff47459596d207e4185b65": {
      "model_module": "@jupyter-widgets/base",
      "model_module_version": "1.0.0",
      "model_name": "LayoutModel",
      "state": {
       "display": "none"
      }
     },
     "80fe2f7b6ac64475a3794aaf3aa27ae4": {
      "model_module": "@jupyter-widgets/base",
      "model_module_version": "1.0.0",
      "model_name": "LayoutModel",
      "state": {
       "width": "100%"
      }
     },
     "81096482fe474b759a2fb31d9ee07c29": {
      "model_module": "@jupyter-widgets/base",
      "model_module_version": "1.0.0",
      "model_name": "LayoutModel",
      "state": {
       "width": "auto"
      }
     },
     "810a209724294271b83a49d267f14a22": {
      "model_module": "@jupyter-widgets/base",
      "model_module_version": "1.0.0",
      "model_name": "LayoutModel",
      "state": {
       "width": "100%"
      }
     },
     "810bea697feb42e5af9feca7edb8266e": {
      "model_module": "@jupyter-widgets/controls",
      "model_module_version": "1.2.0",
      "model_name": "IntRangeSliderModel",
      "state": {
       "_model_name": "IntRangeSliderModel",
       "_view_name": "IntRangeSliderView",
       "layout": "IPY_MODEL_386b71b351a64a1a954377121aa10d0a",
       "max": 65535,
       "style": "IPY_MODEL_da6998b0eeac4a14aa88cad19e27679d",
       "value": [
        16383,
        49151
       ]
      }
     },
     "81185d7b48c5402f97c81cce08649b34": {
      "model_module": "@jupyter-widgets/controls",
      "model_module_version": "1.2.0",
      "model_name": "VBoxModel",
      "state": {
       "children": [
        "IPY_MODEL_ef7105e4a7684fe1b412815e09bf964e",
        "IPY_MODEL_9911ce34f11f43ec81604a8e6e1ae269",
        "IPY_MODEL_c6a9fc6e0e6a4098995eb4a9aafbd685"
       ],
       "layout": "IPY_MODEL_e73200dfa3a84a7e902c264f06cb8050"
      }
     },
     "81d9b6aed16e4b3d9a533e28bbe5c7ba": {
      "model_module": "@jupyter-widgets/base",
      "model_module_version": "1.0.0",
      "model_name": "LayoutModel",
      "state": {}
     },
     "8200b00ac8174f8b913f4fb2f5aeb418": {
      "model_module": "@jupyter-widgets/controls",
      "model_module_version": "1.2.0",
      "model_name": "DescriptionStyleModel",
      "state": {
       "description_width": ""
      }
     },
     "82396cc378f041c0bd9a6d82efcaddc7": {
      "model_module": "@jupyter-widgets/controls",
      "model_module_version": "1.2.0",
      "model_name": "DescriptionStyleModel",
      "state": {
       "description_width": ""
      }
     },
     "82583e58509042368bf8c21bee5086e4": {
      "model_module": "@jupyter-widgets/base",
      "model_module_version": "1.0.0",
      "model_name": "LayoutModel",
      "state": {
       "width": "auto"
      }
     },
     "8277aa72a4134dafa78f589ff2231453": {
      "model_module": "@jupyter-widgets/controls",
      "model_module_version": "1.2.0",
      "model_name": "HBoxModel",
      "state": {
       "children": [
        "IPY_MODEL_33b6de483ca6433cb6abe21f23c9b310",
        "IPY_MODEL_8b8f4ee2b429441f949a39a7e6b4907d"
       ],
       "layout": "IPY_MODEL_92b09dfd88004c9e8778def1c9f699a8"
      }
     },
     "82cc1b5d18df45f3a6d56f36a65c333b": {
      "model_module": "@jupyter-widgets/controls",
      "model_module_version": "1.2.0",
      "model_name": "DescriptionStyleModel",
      "state": {
       "description_width": ""
      }
     },
     "82cdb91393a042cfb05f6b57bac9c2aa": {
      "model_module": "@jupyter-widgets/controls",
      "model_module_version": "1.2.0",
      "model_name": "CheckboxModel",
      "state": {
       "description": "Show loc.",
       "disabled": false,
       "indent": false,
       "layout": "IPY_MODEL_a5aef452aafc4979844c1c9e82fbe0db",
       "style": "IPY_MODEL_0018c04d4b2749a4897ec5711d0a8a1b",
       "value": true
      }
     },
     "82fa564a51c04c79a480775d7211cee6": {
      "model_module": "@jupyter-widgets/controls",
      "model_module_version": "1.2.0",
      "model_name": "DescriptionStyleModel",
      "state": {
       "description_width": ""
      }
     },
     "8346806e4bba42cb87c56d2814e17ddc": {
      "model_module": "@jupyter-widgets/controls",
      "model_module_version": "1.2.0",
      "model_name": "DescriptionStyleModel",
      "state": {
       "description_width": ""
      }
     },
     "8353db62440f4be398859f883451c00b": {
      "model_module": "@jupyter-widgets/base",
      "model_module_version": "1.0.0",
      "model_name": "LayoutModel",
      "state": {}
     },
     "8356a8afa94944eb825a6d03d33ca378": {
      "model_module": "@jupyter-widgets/controls",
      "model_module_version": "1.2.0",
      "model_name": "CheckboxModel",
      "state": {
       "description": "Show loc.",
       "disabled": false,
       "indent": false,
       "layout": "IPY_MODEL_9dc7aaed167b4dd5969d056120e38a5c",
       "style": "IPY_MODEL_5c5eeae3fe734cfb9d5b6555b74ba08d",
       "value": true
      }
     },
     "8363f9755aa04c31946b49bf6d81e6cd": {
      "model_module": "@jupyter-widgets/base",
      "model_module_version": "1.0.0",
      "model_name": "LayoutModel",
      "state": {
       "display": "none"
      }
     },
     "837f0a9b22bc4f38a3e697aded6b628d": {
      "model_module": "@jupyter-widgets/base",
      "model_module_version": "1.0.0",
      "model_name": "LayoutModel",
      "state": {}
     },
     "83816c77a7d44d1283af47f290407846": {
      "model_module": "@jupyter-widgets/base",
      "model_module_version": "1.0.0",
      "model_name": "LayoutModel",
      "state": {
       "width": "100%"
      }
     },
     "83cffd741eeb430dbf72e1f82c9e775f": {
      "model_module": "@jupyter-widgets/controls",
      "model_module_version": "1.2.0",
      "model_name": "DescriptionStyleModel",
      "state": {
       "description_width": ""
      }
     },
     "83d3e31c57f34f7d82e2583f231da2e9": {
      "model_module": "@jupyter-widgets/controls",
      "model_module_version": "1.2.0",
      "model_name": "DescriptionStyleModel",
      "state": {
       "description_width": ""
      }
     },
     "84be21c2267d46ecb6b61acbf06dc01e": {
      "model_module": "@jupyter-widgets/controls",
      "model_module_version": "1.2.0",
      "model_name": "DescriptionStyleModel",
      "state": {
       "description_width": ""
      }
     },
     "850705be2c594966a1ed5adf20120cf0": {
      "model_module": "@jupyter-widgets/base",
      "model_module_version": "1.0.0",
      "model_name": "LayoutModel",
      "state": {}
     },
     "8530c3e1f5034d298c0e74eb8b4b8d62": {
      "model_module": "@jupyter-widgets/controls",
      "model_module_version": "1.2.0",
      "model_name": "LabelModel",
      "state": {
       "layout": "IPY_MODEL_77a71aeb78a444699b75d59679ba74a4",
       "style": "IPY_MODEL_7f4354ebdb9e4b5abbdc63c6c1eff22f",
       "value": "Locating beads (file 10/10)"
      }
     },
     "853382609a5b404d80a4feb4093d925a": {
      "model_module": "@jupyter-widgets/base",
      "model_module_version": "1.0.0",
      "model_name": "LayoutModel",
      "state": {
       "display": "flex",
       "flex_flow": "column wrap",
       "width": "66%"
      }
     },
     "856b29a83bc644f7b2b4e017960d1da3": {
      "model_module": "@jupyter-widgets/controls",
      "model_module_version": "1.2.0",
      "model_name": "FloatTextModel",
      "state": {
       "description": "min.",
       "layout": "IPY_MODEL_33fff774f93e46a2af5d1b55d8cb2994",
       "step": 0.1,
       "style": "IPY_MODEL_9d4a9019dc9c48ee987d1e204cb5dfa8",
       "value": 0.5
      }
     },
     "856dc878c4b947268823882ad0e609a1": {
      "model_module": "@jupyter-widgets/controls",
      "model_module_version": "1.2.0",
      "model_name": "LabelModel",
      "state": {
       "layout": "IPY_MODEL_cb2386fc6ef74bcdacecf41b9c594189",
       "style": "IPY_MODEL_2043cd0deada4e3fad44e7ca841638c1",
       "value": "Locating beads (file 10/10)"
      }
     },
     "861cffcb15a747e59761de0c27edcde8": {
      "model_module": "@jupyter-widgets/controls",
      "model_module_version": "1.2.0",
      "model_name": "VBoxModel",
      "state": {
       "children": [
        "IPY_MODEL_aeb82f103bde45f8ae48a0a3293218f8",
        "IPY_MODEL_b2612d3edbcd4dbc816deb8b13184772",
        "IPY_MODEL_24b12ffeda4e43ec875b10f3506e60aa"
       ],
       "layout": "IPY_MODEL_37b4c7ed280b4d5aa4ccdbad7e7604f0"
      }
     },
     "8640494794064662823b36511db88e13": {
      "model_module": "@jupyter-widgets/base",
      "model_module_version": "1.0.0",
      "model_name": "LayoutModel",
      "state": {
       "width": "auto"
      }
     },
     "865d1a7cd7b948548f2f7bb0f5eda00d": {
      "model_module": "@jupyter-widgets/controls",
      "model_module_version": "1.2.0",
      "model_name": "DescriptionStyleModel",
      "state": {
       "description_width": ""
      }
     },
     "86ad48dec51741938a64d3053101ebe2": {
      "model_module": "@jupyter-widgets/controls",
      "model_module_version": "1.2.0",
      "model_name": "DropdownModel",
      "state": {
       "_options_labels": [
        "2d_fixed",
        "2d",
        "3d"
       ],
       "description": "model",
       "index": 1,
       "layout": "IPY_MODEL_714d253144384720828bdd50e58469e1",
       "style": "IPY_MODEL_05d857c2e8504550a4718576d51adb6e"
      }
     },
     "86c46d226c9342bd9799b721166690a6": {
      "model_module": "@jupyter-widgets/base",
      "model_module_version": "1.0.0",
      "model_name": "LayoutModel",
      "state": {}
     },
     "86c69153440d494eb9e52469c9909b45": {
      "model_module": "@jupyter-widgets/controls",
      "model_module_version": "1.2.0",
      "model_name": "ButtonModel",
      "state": {
       "description": "Auto",
       "layout": "IPY_MODEL_f69a2db1cf3d44d594939f5f5d96e21a",
       "style": "IPY_MODEL_af11b20f3d1b467485ef89404c0582c5"
      }
     },
     "86c9ec232b3e4bfbbe8fd140a5e6d5d3": {
      "model_module": "@jupyter-widgets/base",
      "model_module_version": "1.0.0",
      "model_name": "LayoutModel",
      "state": {}
     },
     "86d4d864668c47e99aad4c905abee941": {
      "model_module": "@jupyter-widgets/controls",
      "model_module_version": "1.2.0",
      "model_name": "FloatTextModel",
      "state": {
       "description": "min.",
       "layout": "IPY_MODEL_4460a4b0e45149e8b62d0d75002d0361",
       "step": 0.1,
       "style": "IPY_MODEL_82fa564a51c04c79a480775d7211cee6",
       "value": 0.5
      }
     },
     "86dcef23bc4744319fe529d567185ca9": {
      "model_module": "@jupyter-widgets/base",
      "model_module_version": "1.0.0",
      "model_name": "LayoutModel",
      "state": {
       "height": "150px",
       "width": "100%"
      }
     },
     "87045e7c7a47485aa63dffd08040e2e1": {
      "model_module": "@jupyter-widgets/controls",
      "model_module_version": "1.2.0",
      "model_name": "FloatTextModel",
      "state": {
       "description": "min.",
       "layout": "IPY_MODEL_f46d6a4ed27843f8a95281949e729744",
       "step": 0.1,
       "style": "IPY_MODEL_aac67a092b404f4aa3513c7206fd2402",
       "value": 0.5
      }
     },
     "874f056b41604b95a1022eb11cdd193c": {
      "model_module": "@jupyter-widgets/controls",
      "model_module_version": "1.2.0",
      "model_name": "FloatTextModel",
      "state": {
       "description": "radius",
       "layout": "IPY_MODEL_0c6814e20e264632b34c7a9ba47b467d",
       "step": 0.1,
       "style": "IPY_MODEL_6a2d25aa08ec4f93b0f42b40e56f36ad",
       "value": 1
      }
     },
     "878f93859f344d6b8c9abb9c812267a3": {
      "model_module": "@jupyter-widgets/controls",
      "model_module_version": "1.2.0",
      "model_name": "ButtonStyleModel",
      "state": {}
     },
     "8793427b89a2477384ccd98b45e8650e": {
      "model_module": "@jupyter-widgets/controls",
      "model_module_version": "1.2.0",
      "model_name": "IntTextModel",
      "state": {
       "description": "feat. size",
       "layout": "IPY_MODEL_a7a93a3b5db14745a107ee7357a57a81",
       "step": 1,
       "style": "IPY_MODEL_022d4e6b9d2b4ef29ad13e4759bdf303",
       "value": 3
      }
     },
     "87bdfa4d9388414fbe34361823472cd9": {
      "model_module": "@jupyter-widgets/base",
      "model_module_version": "1.0.0",
      "model_name": "LayoutModel",
      "state": {
       "width": "auto"
      }
     },
     "88e452512c2a453dae2c9766752f5965": {
      "model_module": "@jupyter-widgets/base",
      "model_module_version": "1.0.0",
      "model_name": "LayoutModel",
      "state": {}
     },
     "89674fdefb424fd5b881882a1c20c533": {
      "model_module": "@jupyter-widgets/controls",
      "model_module_version": "1.2.0",
      "model_name": "DescriptionStyleModel",
      "state": {
       "description_width": ""
      }
     },
     "897513c42c1949debca60cc5649d6001": {
      "model_module": "@jupyter-widgets/controls",
      "model_module_version": "1.2.0",
      "model_name": "VBoxModel",
      "state": {
       "children": [
        "IPY_MODEL_76e0696c5f33476dba9467127113deca",
        "IPY_MODEL_7f26c2e32f73441e925acbfeb80b8ba5",
        "IPY_MODEL_df29faf8273e48a5bee8d7a223cc08ac"
       ],
       "layout": "IPY_MODEL_5ddf41f4e91448118e5b3331eae7ede0"
      }
     },
     "89aa5d42d8eb4ebc90a7761d3dce4b75": {
      "model_module": "@jupyter-widgets/base",
      "model_module_version": "1.0.0",
      "model_name": "LayoutModel",
      "state": {
       "height": "150px",
       "width": "100%"
      }
     },
     "89d8894014ba4cf4a21db7afed9d625e": {
      "model_module": "@jupyter-widgets/controls",
      "model_module_version": "1.2.0",
      "model_name": "FloatTextModel",
      "state": {
       "description": "threshold",
       "layout": "IPY_MODEL_2935f9dd0f2347839e2a4b45779199de",
       "step": 10,
       "style": "IPY_MODEL_d3766a29be6c40149321205bfdce3c6a",
       "value": 100
      }
     },
     "8a52be7024ef4c25aa09a59124e17e13": {
      "model_module": "@jupyter-widgets/controls",
      "model_module_version": "1.2.0",
      "model_name": "VBoxModel",
      "state": {
       "children": [
        "IPY_MODEL_dcc1fee65e7e40488a2829e87fe22560",
        "IPY_MODEL_3cb0d27cf4e64e7dbba3e398ee1b9917",
        "IPY_MODEL_2ace33678a664e7f93b399359db8e7a9"
       ],
       "layout": "IPY_MODEL_9f26e9bc88f3473ebf794e68fa66a789"
      }
     },
     "8a6550c5cbe647d68a2115ac8442b978": {
      "model_module": "@jupyter-widgets/controls",
      "model_module_version": "1.2.0",
      "model_name": "DescriptionStyleModel",
      "state": {
       "description_width": ""
      }
     },
     "8a6b8ef7ce7f4b76b1c70a9cbec92a5f": {
      "model_module": "@jupyter-widgets/controls",
      "model_module_version": "1.2.0",
      "model_name": "DescriptionStyleModel",
      "state": {
       "description_width": ""
      }
     },
     "8a73eacf81254b6eab54f9ad02fc146f": {
      "model_module": "@jupyter-widgets/base",
      "model_module_version": "1.0.0",
      "model_name": "LayoutModel",
      "state": {}
     },
     "8ab3bf5637d24546a209820bd9d7806c": {
      "model_module": "@jupyter-widgets/controls",
      "model_module_version": "1.2.0",
      "model_name": "BoundedIntTextModel",
      "state": {
       "description": "frame",
       "layout": "IPY_MODEL_5446864af5af44aba166dcb3ea3c4d17",
       "max": 0,
       "style": "IPY_MODEL_917606e537914db69ef6a9a8c9542c4e"
      }
     },
     "8acfbe1b3a1f4104bb5c3c685b867aaa": {
      "model_module": "@jupyter-widgets/controls",
      "model_module_version": "1.2.0",
      "model_name": "SelectModel",
      "state": {
       "_options_labels": [
        "data/sensor-H57/no-cells_SAv-100k_SSS-H57-20k_000_.SPE"
       ],
       "index": 0,
       "layout": "IPY_MODEL_05e0d564a0d3408bba633bcffd12cb3f",
       "style": "IPY_MODEL_0104da1552564463929855cbc2b05593"
      }
     },
     "8ae8a78a822742a5a1ac26766d7d0bf2": {
      "model_module": "@jupyter-widgets/controls",
      "model_module_version": "1.2.0",
      "model_name": "HBoxModel",
      "state": {
       "children": [
        "IPY_MODEL_455cf6e9a00743579e54cef4efeee445",
        "IPY_MODEL_3b4a599f18eb484f89abca24821169d5"
       ],
       "layout": "IPY_MODEL_44af3bdb87e84606a1ad3a7482d31214"
      }
     },
     "8b1e427c35654164ae46d5138758bafc": {
      "model_module": "@jupyter-widgets/base",
      "model_module_version": "1.0.0",
      "model_name": "LayoutModel",
      "state": {
       "border": "1px solid gray"
      }
     },
     "8b26a592718c432381544ef50f1238c4": {
      "model_module": "@jupyter-widgets/controls",
      "model_module_version": "1.2.0",
      "model_name": "DropdownModel",
      "state": {
       "_options_labels": [
        "Identity",
        "Cg",
        "Gaussian"
       ],
       "description": "find filter",
       "index": 1,
       "layout": "IPY_MODEL_80d3c155cfc846a88c1e54b855601163",
       "style": "IPY_MODEL_c91e6b5ec8fd4e3fbce02033e26274d4"
      }
     },
     "8b42c750321242ef9263b6bfeb9cf94a": {
      "model_module": "@jupyter-widgets/controls",
      "model_module_version": "1.2.0",
      "model_name": "IntTextModel",
      "state": {
       "description": "feat. size",
       "layout": "IPY_MODEL_ecceb57342d84d7eb2790085b645c9d5",
       "step": 1,
       "style": "IPY_MODEL_e07320cc570c4cb19f38f6d1aa6da5d5",
       "value": 3
      }
     },
     "8b6931748a42409d884c4454d3144696": {
      "model_module": "@jupyter-widgets/base",
      "model_module_version": "1.0.0",
      "model_name": "LayoutModel",
      "state": {}
     },
     "8b8f4ee2b429441f949a39a7e6b4907d": {
      "model_module": "@jupyter-widgets/controls",
      "model_module_version": "1.2.0",
      "model_name": "FloatTextModel",
      "state": {
       "layout": "IPY_MODEL_5452847ecfe44d2a98b86fb4875e64b3",
       "step": 0.1,
       "style": "IPY_MODEL_7251cff4abc34a61bd637e4fb3886404",
       "value": 1
      }
     },
     "8b90ed70d2554b48a466342454012047": {
      "model_module": "@jupyter-widgets/controls",
      "model_module_version": "1.2.0",
      "model_name": "BoundedIntTextModel",
      "state": {
       "description": "frame",
       "layout": "IPY_MODEL_df8dfe6ad0f143f28f5319492ffa643c",
       "max": 49,
       "style": "IPY_MODEL_3f3dff0ea23d4c0da42191b6105bdbd9"
      }
     },
     "8bc0589a899546c294dced800970d9b0": {
      "model_module": "@jupyter-widgets/controls",
      "model_module_version": "1.2.0",
      "model_name": "VBoxModel",
      "state": {
       "children": [
        "IPY_MODEL_07c8ae6842234a828cdc5b7ad6386b73",
        "IPY_MODEL_c7950bb3cfa846749605076ebf8fe9e6",
        "IPY_MODEL_a28c038042c54aa189617d6ce8c023b4",
        "IPY_MODEL_e98a03ff22104c9aafaced303ca0cc23",
        "IPY_MODEL_bc8765e56b834e90964fd735b31f2ee0",
        "IPY_MODEL_31b444c16f454933a68729399ccbbfdf"
       ],
       "layout": "IPY_MODEL_9781822393ab436f832e0374c469d0c8"
      }
     },
     "8beeb15f06a24f429a5f619463c7534d": {
      "model_module": "@jupyter-widgets/controls",
      "model_module_version": "1.2.0",
      "model_name": "DescriptionStyleModel",
      "state": {
       "description_width": ""
      }
     },
     "8c4bf6b5ba5a4628b6b2b222f16f06ec": {
      "model_module": "@jupyter-widgets/controls",
      "model_module_version": "1.2.0",
      "model_name": "DropdownModel",
      "state": {
       "_options_labels": [
        "Identity",
        "Cg",
        "Gaussian"
       ],
       "description": "find filter",
       "index": 1,
       "layout": "IPY_MODEL_d7cca073dbf945fe9549c63b26a0a8a5",
       "style": "IPY_MODEL_d7a2d3856bf24c8daa5c454b34f335ae"
      }
     },
     "8c618bf667984e6dba7a977fab592393": {
      "model_module": "@jupyter-widgets/base",
      "model_module_version": "1.0.0",
      "model_name": "LayoutModel",
      "state": {}
     },
     "8c98602f1d7f4432a45d0fda2735fd67": {
      "model_module": "@jupyter-widgets/base",
      "model_module_version": "1.0.0",
      "model_name": "LayoutModel",
      "state": {}
     },
     "8c9cc2e6767c4ccbb3209f8c4a732d67": {
      "model_module": "@jupyter-widgets/base",
      "model_module_version": "1.0.0",
      "model_name": "LayoutModel",
      "state": {
       "height": "150px",
       "width": "100%"
      }
     },
     "8cd31a6c9ff0466295c9f5b4db86a38d": {
      "model_module": "@jupyter-widgets/controls",
      "model_module_version": "1.2.0",
      "model_name": "HBoxModel",
      "state": {
       "children": [
        "IPY_MODEL_0e4f94f81e074cf5a19d35943215a729",
        "IPY_MODEL_6da3f3650bbf4872a7382a85a9a40aa6"
       ],
       "layout": "IPY_MODEL_b6fe90eea41749a7bce3105c113eb223"
      }
     },
     "8d055895f82c41d7b7c8b38876af1e7e": {
      "model_module": "@jupyter-widgets/controls",
      "model_module_version": "1.2.0",
      "model_name": "DescriptionStyleModel",
      "state": {
       "description_width": ""
      }
     },
     "8d0e07c0932148fe9f896e0bdb8ee446": {
      "model_module": "@jupyter-widgets/base",
      "model_module_version": "1.0.0",
      "model_name": "LayoutModel",
      "state": {}
     },
     "8d103f0587d54766bf25ae1c7cfdd53d": {
      "model_module": "@jupyter-widgets/controls",
      "model_module_version": "1.2.0",
      "model_name": "FloatTextModel",
      "state": {
       "description": "radius",
       "layout": "IPY_MODEL_b5eb7a59cbc243f9bc0d874649257b37",
       "step": 0.1,
       "style": "IPY_MODEL_161e8a067c8947aab46ac8fe5a4a11af",
       "value": 1
      }
     },
     "8d2ce95e587f4415ba3358ee8fc152a5": {
      "model_module": "@jupyter-widgets/base",
      "model_module_version": "1.0.0",
      "model_name": "LayoutModel",
      "state": {
       "width": "75%"
      }
     },
     "8d518e33c96c4d9aacb092476f183f2c": {
      "model_module": "@jupyter-widgets/controls",
      "model_module_version": "1.2.0",
      "model_name": "DescriptionStyleModel",
      "state": {
       "description_width": ""
      }
     },
     "8d671eebba524806afd5190d5e9a294e": {
      "model_module": "@jupyter-widgets/controls",
      "model_module_version": "1.2.0",
      "model_name": "SelectModel",
      "state": {
       "_options_labels": [
        "data/sensor-H57/cells-01_SAv-100k_SSS-H57-20k_000_.SPE"
       ],
       "index": 0,
       "layout": "IPY_MODEL_2481b947f1e64a2295066506b699d3bd",
       "style": "IPY_MODEL_7b82c042d2e84e6abda55cdaf4c9b65b"
      }
     },
     "8d75a98fccc24a73858cf40373ff49b1": {
      "model_module": "@jupyter-widgets/controls",
      "model_module_version": "1.2.0",
      "model_name": "DescriptionStyleModel",
      "state": {
       "description_width": ""
      }
     },
     "8da328fcd8204bd592c2e6cc3480b1d4": {
      "model_module": "@jupyter-widgets/base",
      "model_module_version": "1.0.0",
      "model_name": "LayoutModel",
      "state": {}
     },
     "8dc6f662a26d4004be642e35900832e6": {
      "model_module": "@jupyter-widgets/controls",
      "model_module_version": "1.2.0",
      "model_name": "CheckboxModel",
      "state": {
       "description": "Min. distance",
       "disabled": false,
       "indent": false,
       "layout": "IPY_MODEL_2cab9af1129d4fa09b95251563b39926",
       "style": "IPY_MODEL_9a5d6961b2a24084ac1439691cc73a7e",
       "value": true
      }
     },
     "8dcd3e877cc048e0af43a62bf72cd5d4": {
      "model_module": "@jupyter-widgets/controls",
      "model_module_version": "1.2.0",
      "model_name": "HBoxModel",
      "state": {
       "children": [
        "IPY_MODEL_0456f5bd127e43acb9f732da112bdd05",
        "IPY_MODEL_61736542fb91429ebfc4285de4794f3c"
       ],
       "layout": "IPY_MODEL_86dcef23bc4744319fe529d567185ca9"
      }
     },
     "8e38b4cd6178425bba8ba72effbc2a23": {
      "model_module": "@jupyter-widgets/controls",
      "model_module_version": "1.2.0",
      "model_name": "HBoxModel",
      "state": {
       "children": [
        "IPY_MODEL_4a19eae047724d1c8aef7b840f80f3f5",
        "IPY_MODEL_94113de96d1d4309b400da8d8abf3c04"
       ],
       "layout": "IPY_MODEL_89aa5d42d8eb4ebc90a7761d3dce4b75"
      }
     },
     "8e6c34cfb4904b0a87936b4f7c942bc5": {
      "model_module": "@jupyter-widgets/base",
      "model_module_version": "1.0.0",
      "model_name": "LayoutModel",
      "state": {
       "border": "1px solid gray"
      }
     },
     "8eb933fcf2094529bcfaa1d445261b92": {
      "model_module": "@jupyter-widgets/controls",
      "model_module_version": "1.2.0",
      "model_name": "FloatTextModel",
      "state": {
       "description": "min.",
       "layout": "IPY_MODEL_ab7a3e29338d4fde9471734de2214b6e",
       "step": 0.1,
       "style": "IPY_MODEL_c06cf69ddada43d0ab1f18c8c3045aa7",
       "value": 0.5
      }
     },
     "8ec6da2c67544898804aac810349c4c2": {
      "model_module": "@jupyter-widgets/base",
      "model_module_version": "1.0.0",
      "model_name": "LayoutModel",
      "state": {}
     },
     "8ece21e0bbc04f559be068553b2f2d6e": {
      "model_module": "@jupyter-widgets/controls",
      "model_module_version": "1.2.0",
      "model_name": "DescriptionStyleModel",
      "state": {
       "description_width": ""
      }
     },
     "8efaa6660bcd40e8bef473760f81a5cf": {
      "model_module": "@jupyter-widgets/controls",
      "model_module_version": "1.2.0",
      "model_name": "FloatTextModel",
      "state": {
       "description": "max.",
       "layout": "IPY_MODEL_d07a4186820840239ab8e5eb70813624",
       "step": 0.1,
       "style": "IPY_MODEL_79fed7d79c20410bb8dd6db061405c0c",
       "value": 2
      }
     },
     "8f03041c80844d6aac8a93c20c78e2c3": {
      "model_module": "@jupyter-widgets/controls",
      "model_module_version": "1.2.0",
      "model_name": "SliderStyleModel",
      "state": {
       "description_width": ""
      }
     },
     "8f1037d085144389a628066405742956": {
      "model_module": "@jupyter-widgets/controls",
      "model_module_version": "1.2.0",
      "model_name": "DescriptionStyleModel",
      "state": {
       "description_width": ""
      }
     },
     "8f419c9a97774aa7b8672e5b715e1279": {
      "model_module": "@jupyter-widgets/controls",
      "model_module_version": "1.2.0",
      "model_name": "FloatTextModel",
      "state": {
       "description": "min.",
       "layout": "IPY_MODEL_f11472961bf9417bb5f947a08586a9f8",
       "step": 0.1,
       "style": "IPY_MODEL_f79fb53f9f954bf5aed1318b836cf856",
       "value": 0.5
      }
     },
     "8f60a7b8105b4b2f8efcc28531ac63ee": {
      "model_module": "@jupyter-widgets/controls",
      "model_module_version": "1.2.0",
      "model_name": "ButtonModel",
      "state": {
       "description": "Auto",
       "layout": "IPY_MODEL_b452bb11186a4cf78f1e9b2d3fa131cb",
       "style": "IPY_MODEL_52cbb0bbe4ce4ad4b59ac491f14ffb7a"
      }
     },
     "8f8a4480e7a041a49dc9356e93bc2275": {
      "model_module": "@jupyter-widgets/controls",
      "model_module_version": "1.2.0",
      "model_name": "VBoxModel",
      "state": {
       "children": [
        "IPY_MODEL_0f71c59db5aa4ea2b4769b5fea8c042f",
        "IPY_MODEL_7c1fa466585b4c18bb1136d99db01e73",
        "IPY_MODEL_4235a193fe33482fab93e144a242265c"
       ],
       "layout": "IPY_MODEL_e3bdd03ca0ee4ed5bd7975bb27a948e7"
      }
     },
     "8fb1f61f7e624f7285afd816a6b4a06e": {
      "model_module": "@jupyter-widgets/controls",
      "model_module_version": "1.2.0",
      "model_name": "SelectModel",
      "state": {
       "_options_labels": [
        "data/beads/beads_000_.SPE",
        "data/beads/beads_001_.SPE",
        "data/beads/beads_002_.SPE",
        "data/beads/beads_003_.SPE",
        "data/beads/beads_004_.SPE",
        "data/beads/beads_005_.SPE",
        "data/beads/beads_006_.SPE",
        "data/beads/beads_007_.SPE",
        "data/beads/beads_008_.SPE",
        "data/beads/beads_009_.SPE"
       ],
       "index": 0,
       "layout": "IPY_MODEL_23bbf40415384f4396f29d0185ec83d1",
       "style": "IPY_MODEL_6eca4e54448c48fe8e6ed0300f3158c2"
      }
     },
     "8fb4b0fdb7c44e1ab8ed8e86e5f324f2": {
      "model_module": "@jupyter-widgets/base",
      "model_module_version": "1.0.0",
      "model_name": "LayoutModel",
      "state": {
       "width": "auto"
      }
     },
     "8fdb88a13c5d4aaa8ea7127d2a7dbebf": {
      "model_module": "@jupyter-widgets/base",
      "model_module_version": "1.0.0",
      "model_name": "LayoutModel",
      "state": {}
     },
     "8ff9e205eed647399c279ffee532336f": {
      "model_module": "@jupyter-widgets/controls",
      "model_module_version": "1.2.0",
      "model_name": "DropdownModel",
      "state": {
       "_options_labels": [
        "Identity",
        "Cg",
        "Gaussian"
       ],
       "description": "find filter",
       "index": 0,
       "layout": "IPY_MODEL_97f6d85fbe0b4e66a9a553343ca32256",
       "style": "IPY_MODEL_64f9c0fdfd7b40888021bf14afd2807a"
      }
     },
     "900defe2db1a44ca9b66c0e478878a1f": {
      "model_module": "@jupyter-widgets/controls",
      "model_module_version": "1.2.0",
      "model_name": "FloatTextModel",
      "state": {
       "description": "threshold",
       "layout": "IPY_MODEL_6733a68794e343ab8558817d1c611c3f",
       "step": 10,
       "style": "IPY_MODEL_560b9ab308b242a0aae998cdc825f1f8",
       "value": 100
      }
     },
     "9062cf5159e6492689fe459d9cd70ec5": {
      "model_module": "@jupyter-widgets/base",
      "model_module_version": "1.0.0",
      "model_name": "LayoutModel",
      "state": {}
     },
     "9071443fbf604febaa69a42219d26e73": {
      "model_module": "@jupyter-widgets/base",
      "model_module_version": "1.0.0",
      "model_name": "LayoutModel",
      "state": {
       "display": "inline"
      }
     },
     "908ebcf6e38043ebb72d731b3bc73225": {
      "model_module": "@jupyter-widgets/controls",
      "model_module_version": "1.2.0",
      "model_name": "DescriptionStyleModel",
      "state": {
       "description_width": ""
      }
     },
     "90a2efcdf54e436a95a036eb331dd6a6": {
      "model_module": "@jupyter-widgets/controls",
      "model_module_version": "1.2.0",
      "model_name": "DropdownModel",
      "state": {
       "_options_labels": [
        "Identity",
        "Cg",
        "Gaussian"
       ],
       "description": "find filter",
       "index": 1,
       "layout": "IPY_MODEL_c9c0bd8e91e44168bacd248f4ef19544",
       "style": "IPY_MODEL_6746c2c765074195a2b55939200552bf"
      }
     },
     "90aad56497fd4a5ea38f011e38008929": {
      "model_module": "@jupyter-widgets/base",
      "model_module_version": "1.0.0",
      "model_name": "LayoutModel",
      "state": {
       "display": "none"
      }
     },
     "90b98469181e4b4891ca28c13a27c2d8": {
      "model_module": "@jupyter-widgets/controls",
      "model_module_version": "1.2.0",
      "model_name": "IntTextModel",
      "state": {
       "description": "feat. size",
       "layout": "IPY_MODEL_f443d29c5dd3424c9ade9b292ee221a8",
       "step": 1,
       "style": "IPY_MODEL_c46874c368de438694b59a5b5b8ea525",
       "value": 3
      }
     },
     "90d47bd64de148b3ad13b9826f6860b0": {
      "model_module": "@jupyter-widgets/controls",
      "model_module_version": "1.2.0",
      "model_name": "IntRangeSliderModel",
      "state": {
       "_model_name": "IntRangeSliderModel",
       "_view_name": "IntRangeSliderView",
       "layout": "IPY_MODEL_914e34b1d579477a999a5cd71464a7f4",
       "max": 65535,
       "style": "IPY_MODEL_ed60be68de04477a94324f0eb040ef4d",
       "value": [
        288,
        827
       ]
      }
     },
     "90e802b1fc6a4e63aaed8c6f15075403": {
      "model_module": "@jupyter-widgets/base",
      "model_module_version": "1.0.0",
      "model_name": "LayoutModel",
      "state": {
       "display": "flex",
       "flex_flow": "column wrap",
       "width": "66%"
      }
     },
     "911e291299a9413694e2a31039eee35d": {
      "model_module": "@jupyter-widgets/controls",
      "model_module_version": "1.2.0",
      "model_name": "ButtonStyleModel",
      "state": {}
     },
     "912e622704314bf5bdd8598a1a809195": {
      "model_module": "@jupyter-widgets/base",
      "model_module_version": "1.0.0",
      "model_name": "LayoutModel",
      "state": {}
     },
     "9133c6044fa44763a8e9ed3a2cfc66c3": {
      "model_module": "@jupyter-widgets/controls",
      "model_module_version": "1.2.0",
      "model_name": "DropdownModel",
      "state": {
       "_options_labels": [
        "2d_fixed",
        "2d",
        "3d"
       ],
       "description": "model",
       "index": 1,
       "layout": "IPY_MODEL_dc9b2fd2f53a40a29031dd96781ef514",
       "style": "IPY_MODEL_8200b00ac8174f8b913f4fb2f5aeb418"
      }
     },
     "9138d8a891bb4b6c8a15a1bfb8e4c597": {
      "model_module": "@jupyter-widgets/controls",
      "model_module_version": "1.2.0",
      "model_name": "DropdownModel",
      "state": {
       "_options_labels": [
        "Identity",
        "Cg",
        "Gaussian"
       ],
       "description": "find filter",
       "index": 1,
       "layout": "IPY_MODEL_94a41668fabf46d19064c77d567daade",
       "style": "IPY_MODEL_34ae739732e64f14943fb575fb8acb08"
      }
     },
     "914e34b1d579477a999a5cd71464a7f4": {
      "model_module": "@jupyter-widgets/base",
      "model_module_version": "1.0.0",
      "model_name": "LayoutModel",
      "state": {
       "width": "75%"
      }
     },
     "916639153d57402f8b01fece3aade51d": {
      "model_module": "@jupyter-widgets/controls",
      "model_module_version": "1.2.0",
      "model_name": "DescriptionStyleModel",
      "state": {
       "description_width": ""
      }
     },
     "917606e537914db69ef6a9a8c9542c4e": {
      "model_module": "@jupyter-widgets/controls",
      "model_module_version": "1.2.0",
      "model_name": "DescriptionStyleModel",
      "state": {
       "description_width": ""
      }
     },
     "91965d064d4e404fb585454f0d66f835": {
      "model_module": "@jupyter-widgets/controls",
      "model_module_version": "1.2.0",
      "model_name": "VBoxModel",
      "state": {
       "children": [
        "IPY_MODEL_f4b1ca26edcd4aeba20d0a79cfd32d91",
        "IPY_MODEL_9dc0b1c84fd74a2b8b39ec91bcc1e1e7",
        "IPY_MODEL_89d8894014ba4cf4a21db7afed9d625e",
        "IPY_MODEL_3f9418e628d24e748890f5c4dda6ace0",
        "IPY_MODEL_0ec48eb6111c4e2d84fcf0f14db3e192",
        "IPY_MODEL_3a2d6fdf137f40619d5b0e4ea9344a73"
       ],
       "layout": "IPY_MODEL_7352c66be8614d1fab680d28cd01c428"
      }
     },
     "91bc4b10676e4c61858563567dd750ca": {
      "model_module": "@jupyter-widgets/controls",
      "model_module_version": "1.2.0",
      "model_name": "DescriptionStyleModel",
      "state": {
       "description_width": ""
      }
     },
     "91e07288880e4ec1acbb5ce39898e869": {
      "model_module": "@jupyter-widgets/controls",
      "model_module_version": "1.2.0",
      "model_name": "IntRangeSliderModel",
      "state": {
       "_model_name": "IntRangeSliderModel",
       "_view_name": "IntRangeSliderView",
       "layout": "IPY_MODEL_5333a79a55cc45c49ec238230d529949",
       "max": 65535,
       "style": "IPY_MODEL_3560dd9389c3463f86819f0c6634d24c",
       "value": [
        288,
        891
       ]
      }
     },
     "91e79b1b840744d9b854fdd8077678e3": {
      "model_module": "@jupyter-widgets/base",
      "model_module_version": "1.0.0",
      "model_name": "LayoutModel",
      "state": {
       "width": "auto"
      }
     },
     "920cafbe294c4239bb9b2febbcf8b6c2": {
      "model_module": "@jupyter-widgets/base",
      "model_module_version": "1.0.0",
      "model_name": "LayoutModel",
      "state": {}
     },
     "921181737b0045eb8e603a257dd72842": {
      "model_module": "@jupyter-widgets/controls",
      "model_module_version": "1.2.0",
      "model_name": "SliderStyleModel",
      "state": {
       "description_width": ""
      }
     },
     "923b980f12c8486992a45c2467f1e3fb": {
      "model_module": "@jupyter-widgets/controls",
      "model_module_version": "1.2.0",
      "model_name": "VBoxModel",
      "state": {
       "children": [
        "IPY_MODEL_a2342805aa8d4236af7b0cc074c489bc",
        "IPY_MODEL_c838d53e5add40f09d6caa9df248bd69",
        "IPY_MODEL_dea425607c3c4f77828d2dd2c9b30da5"
       ],
       "layout": "IPY_MODEL_65104cf6ab1c41809e71500f9e9981a8"
      }
     },
     "9258a5204c544f49bff0a37766c614e7": {
      "model_module": "@jupyter-widgets/base",
      "model_module_version": "1.0.0",
      "model_name": "LayoutModel",
      "state": {}
     },
     "9281a656a23d43bf85a38bb834ee710c": {
      "model_module": "@jupyter-widgets/controls",
      "model_module_version": "1.2.0",
      "model_name": "CheckboxModel",
      "state": {
       "description": "Show loc.",
       "disabled": false,
       "indent": false,
       "layout": "IPY_MODEL_f50e9f5e514d4963ba51a75e6d336b29",
       "style": "IPY_MODEL_5e012965fda74d719e889094e173e8de",
       "value": true
      }
     },
     "92b09dfd88004c9e8778def1c9f699a8": {
      "model_module": "@jupyter-widgets/base",
      "model_module_version": "1.0.0",
      "model_name": "LayoutModel",
      "state": {}
     },
     "92c035acd4c94c8f825860b4865061a3": {
      "model_module": "@jupyter-widgets/controls",
      "model_module_version": "1.2.0",
      "model_name": "DescriptionStyleModel",
      "state": {
       "description_width": ""
      }
     },
     "932e06afd8a8412d8d84c05ece0810d7": {
      "model_module": "@jupyter-widgets/base",
      "model_module_version": "1.0.0",
      "model_name": "LayoutModel",
      "state": {}
     },
     "93997ff8b3ac48d5b8db285ff78a313d": {
      "model_module": "@jupyter-widgets/controls",
      "model_module_version": "1.2.0",
      "model_name": "FloatTextModel",
      "state": {
       "description": "min.",
       "layout": "IPY_MODEL_b1da71adf5fc4a4fb2dc775a70522d5e",
       "step": 0.1,
       "style": "IPY_MODEL_d724312b449143348409eb572e8beb38",
       "value": 0.5
      }
     },
     "93b9e5519cb747339a8132d5eb7d4762": {
      "model_module": "@jupyter-widgets/base",
      "model_module_version": "1.0.0",
      "model_name": "LayoutModel",
      "state": {}
     },
     "93f07b84d3e64ff991362ae79ce94c8e": {
      "model_module": "@jupyter-widgets/controls",
      "model_module_version": "1.2.0",
      "model_name": "DescriptionStyleModel",
      "state": {
       "description_width": ""
      }
     },
     "94113de96d1d4309b400da8d8abf3c04": {
      "model_module": "@jupyter-widgets/controls",
      "model_module_version": "1.2.0",
      "model_name": "VBoxModel",
      "state": {
       "children": [
        "IPY_MODEL_874f056b41604b95a1022eb11cdd193c",
        "IPY_MODEL_0f1e09de113d4707bfbd3b083df35a52",
        "IPY_MODEL_5f7efa908d984902a244918b19c19735",
        "IPY_MODEL_897513c42c1949debca60cc5649d6001",
        "IPY_MODEL_72a18521cd684806844a0b871bc72c6a",
        "IPY_MODEL_ef11086c136645e6bcb1b062b9132344"
       ],
       "layout": "IPY_MODEL_a85f8868bd72443da6283c84785b6859"
      }
     },
     "9427081b205c46adabdbcf3c13f58b24": {
      "model_module": "@jupyter-widgets/base",
      "model_module_version": "1.0.0",
      "model_name": "LayoutModel",
      "state": {}
     },
     "944e2ebea9424aefbe1005fbcfdc0b3d": {
      "model_module": "@jupyter-widgets/base",
      "model_module_version": "1.0.0",
      "model_name": "LayoutModel",
      "state": {
       "display": "none"
      }
     },
     "946af716b9914b46ba07d1bbcdc37da6": {
      "model_module": "@jupyter-widgets/controls",
      "model_module_version": "1.2.0",
      "model_name": "SliderStyleModel",
      "state": {
       "description_width": ""
      }
     },
     "9484f4f26805468c8f787a313c37e4a3": {
      "model_module": "@jupyter-widgets/base",
      "model_module_version": "1.0.0",
      "model_name": "LayoutModel",
      "state": {}
     },
     "9488c92fc19e478491c10ae5c8ac6ad4": {
      "model_module": "@jupyter-widgets/base",
      "model_module_version": "1.0.0",
      "model_name": "LayoutModel",
      "state": {
       "display": "none"
      }
     },
     "94a04b48808646259dae3c75bf1e471a": {
      "model_module": "@jupyter-widgets/controls",
      "model_module_version": "1.2.0",
      "model_name": "DescriptionStyleModel",
      "state": {
       "description_width": ""
      }
     },
     "94a41668fabf46d19064c77d567daade": {
      "model_module": "@jupyter-widgets/base",
      "model_module_version": "1.0.0",
      "model_name": "LayoutModel",
      "state": {}
     },
     "94aeddc830d34daaa6518c6373b3ad59": {
      "model_module": "@jupyter-widgets/controls",
      "model_module_version": "1.2.0",
      "model_name": "BoundedIntTextModel",
      "state": {
       "description": "frame",
       "layout": "IPY_MODEL_2b58c109e6ac46239d4f9d6bdda564c4",
       "max": 0,
       "style": "IPY_MODEL_770d17bacf144e8aa53f0f05f9f3b50a"
      }
     },
     "94c13257598e4e7e88ea93fb93ad8488": {
      "model_module": "@jupyter-widgets/controls",
      "model_module_version": "1.2.0",
      "model_name": "DescriptionStyleModel",
      "state": {
       "description_width": ""
      }
     },
     "94d8a07cfa2b403dad859520ef2160c1": {
      "model_module": "@jupyter-widgets/controls",
      "model_module_version": "1.2.0",
      "model_name": "HBoxModel",
      "state": {
       "children": [
        "IPY_MODEL_71fc787b64ba42bea43c4809f022fbf0",
        "IPY_MODEL_282166fd839b46a8975d5295b184eda0"
       ],
       "layout": "IPY_MODEL_12980f81724142febe19018a4167f93d"
      }
     },
     "94f4193040594a02ae652bd3d3e3d594": {
      "model_module": "@jupyter-widgets/controls",
      "model_module_version": "1.2.0",
      "model_name": "DescriptionStyleModel",
      "state": {
       "description_width": ""
      }
     },
     "9524dc61fde742a9bac5f244577b797a": {
      "model_module": "@jupyter-widgets/base",
      "model_module_version": "1.0.0",
      "model_name": "LayoutModel",
      "state": {
       "width": "auto"
      }
     },
     "952d0c8e4861453a846be79d5c802d70": {
      "model_module": "@jupyter-widgets/base",
      "model_module_version": "1.0.0",
      "model_name": "LayoutModel",
      "state": {}
     },
     "955beeb69d4544638a89c228bc8f7b5c": {
      "model_module": "@jupyter-widgets/base",
      "model_module_version": "1.0.0",
      "model_name": "LayoutModel",
      "state": {}
     },
     "958e349bb2f843249adb8d750bd6ce15": {
      "model_module": "@jupyter-widgets/base",
      "model_module_version": "1.0.0",
      "model_name": "LayoutModel",
      "state": {}
     },
     "95f7c8157bf64759832ddcc4b2e44fed": {
      "model_module": "@jupyter-widgets/controls",
      "model_module_version": "1.2.0",
      "model_name": "DescriptionStyleModel",
      "state": {
       "description_width": ""
      }
     },
     "96306988e5d94606a1f1a51d0796167d": {
      "model_module": "@jupyter-widgets/base",
      "model_module_version": "1.0.0",
      "model_name": "LayoutModel",
      "state": {
       "width": "100%"
      }
     },
     "963fcc50330b45d085af26165f78fcfd": {
      "model_module": "@jupyter-widgets/controls",
      "model_module_version": "1.2.0",
      "model_name": "IntTextModel",
      "state": {
       "description": "feat. size",
       "layout": "IPY_MODEL_d37c3c26d37b4853b33e5892e85b76f3",
       "step": 1,
       "style": "IPY_MODEL_d790fccb856d4eb0ac598b39495ac337",
       "value": 3
      }
     },
     "96506e07324c4510b46d91e7e827b24b": {
      "model_module": "@jupyter-widgets/controls",
      "model_module_version": "1.2.0",
      "model_name": "DescriptionStyleModel",
      "state": {
       "description_width": ""
      }
     },
     "96556a9c35bf483a814b85604840b2e5": {
      "model_module": "@jupyter-widgets/controls",
      "model_module_version": "1.2.0",
      "model_name": "DescriptionStyleModel",
      "state": {
       "description_width": ""
      }
     },
     "967d6e4a08b54b6a8c9f79d6a8d495ab": {
      "model_module": "@jupyter-widgets/base",
      "model_module_version": "1.0.0",
      "model_name": "LayoutModel",
      "state": {
       "display": "none"
      }
     },
     "96c75463f6154453969f9a34b12ad577": {
      "model_module": "@jupyter-widgets/controls",
      "model_module_version": "1.2.0",
      "model_name": "DescriptionStyleModel",
      "state": {
       "description_width": ""
      }
     },
     "96cc0367d7534bdda87c1689c2577662": {
      "model_module": "@jupyter-widgets/controls",
      "model_module_version": "1.2.0",
      "model_name": "CheckboxModel",
      "state": {
       "description": "Size range",
       "disabled": false,
       "indent": false,
       "layout": "IPY_MODEL_d849f8b455314dd9bff70caa8a14f535",
       "style": "IPY_MODEL_0c124c81a4ff4f639e468eb91b806fcc",
       "value": false
      }
     },
     "96d1269aed614efa9f8cc6f05200bace": {
      "model_module": "@jupyter-widgets/base",
      "model_module_version": "1.0.0",
      "model_name": "LayoutModel",
      "state": {
       "height": "150px",
       "width": "100%"
      }
     },
     "970b112625964fd78495158398671b0e": {
      "model_module": "@jupyter-widgets/controls",
      "model_module_version": "1.2.0",
      "model_name": "DescriptionStyleModel",
      "state": {
       "description_width": ""
      }
     },
     "9740de8672ba4075ba979d71501a1f50": {
      "model_module": "@jupyter-widgets/controls",
      "model_module_version": "1.2.0",
      "model_name": "DescriptionStyleModel",
      "state": {
       "description_width": ""
      }
     },
     "9781822393ab436f832e0374c469d0c8": {
      "model_module": "@jupyter-widgets/base",
      "model_module_version": "1.0.0",
      "model_name": "LayoutModel",
      "state": {
       "display": "flex",
       "flex_flow": "column wrap",
       "width": "66%"
      }
     },
     "97b53a45b6294741ac24415026d69677": {
      "model_module": "@jupyter-widgets/controls",
      "model_module_version": "1.2.0",
      "model_name": "DescriptionStyleModel",
      "state": {
       "description_width": ""
      }
     },
     "97f6d85fbe0b4e66a9a553343ca32256": {
      "model_module": "@jupyter-widgets/base",
      "model_module_version": "1.0.0",
      "model_name": "LayoutModel",
      "state": {}
     },
     "97f9733d2c474b21ba686340313e78ef": {
      "model_module": "@jupyter-widgets/controls",
      "model_module_version": "1.2.0",
      "model_name": "IntRangeSliderModel",
      "state": {
       "_model_name": "IntRangeSliderModel",
       "_view_name": "IntRangeSliderView",
       "layout": "IPY_MODEL_ba4b38a72c384dad96d19ead478c0aba",
       "max": 65535,
       "style": "IPY_MODEL_707a10ea55034a038f0ae84fe286cc49",
       "value": [
        134,
        25393
       ]
      }
     },
     "9859e0a4f72b43af9a1a7f26e9c2eb1d": {
      "model_module": "@jupyter-widgets/base",
      "model_module_version": "1.0.0",
      "model_name": "LayoutModel",
      "state": {
       "height": "150px",
       "width": "100%"
      }
     },
     "98665b49c57f49a196bb7bd30a48840d": {
      "model_module": "@jupyter-widgets/base",
      "model_module_version": "1.0.0",
      "model_name": "LayoutModel",
      "state": {}
     },
     "98a819d500ca469595196e98276ee70c": {
      "model_module": "@jupyter-widgets/base",
      "model_module_version": "1.0.0",
      "model_name": "LayoutModel",
      "state": {
       "width": "100%"
      }
     },
     "98c40fa797494ee994e63aebeff97239": {
      "model_module": "@jupyter-widgets/controls",
      "model_module_version": "1.2.0",
      "model_name": "CheckboxModel",
      "state": {
       "description": "Show loc.",
       "disabled": false,
       "indent": false,
       "layout": "IPY_MODEL_bce89a422b444942868646b14b761ac3",
       "style": "IPY_MODEL_19babbab651e40e7b31d69f0933dcd97",
       "value": true
      }
     },
     "98d89063aebc425cabee62a5f8cf420e": {
      "model_module": "@jupyter-widgets/controls",
      "model_module_version": "1.2.0",
      "model_name": "LabelModel",
      "state": {
       "layout": "IPY_MODEL_912e622704314bf5bdd8598a1a809195",
       "style": "IPY_MODEL_60a9c1ea4c26432ea0ae7fdd3a5c2026",
       "value": "Tracking ctrl-H57/no-cells_SAv-100k_SSS-ctrl-H57-50k_029_.SPE (213/213)"
      }
     },
     "9911ce34f11f43ec81604a8e6e1ae269": {
      "model_module": "@jupyter-widgets/controls",
      "model_module_version": "1.2.0",
      "model_name": "IntTextModel",
      "state": {
       "description": "feat. size",
       "layout": "IPY_MODEL_9071443fbf604febaa69a42219d26e73",
       "step": 1,
       "style": "IPY_MODEL_0bb803444c5846469a6bf6be5e47a7e4",
       "value": 3
      }
     },
     "9947c25988e0400daccfea90915c9ee2": {
      "model_module": "@jupyter-widgets/controls",
      "model_module_version": "1.2.0",
      "model_name": "DescriptionStyleModel",
      "state": {
       "description_width": ""
      }
     },
     "99804c67a2dc4f31b98caced0eb5e5ec": {
      "model_module": "@jupyter-widgets/controls",
      "model_module_version": "1.2.0",
      "model_name": "ButtonModel",
      "state": {
       "description": "Auto",
       "layout": "IPY_MODEL_b2d702bc464b437fa34a4c0765de09df",
       "style": "IPY_MODEL_f8541c4584d14f89aaa0aa54e92e7244"
      }
     },
     "999925651d7242988684fba28c027481": {
      "model_module": "@jupyter-widgets/controls",
      "model_module_version": "1.2.0",
      "model_name": "IntTextModel",
      "state": {
       "description": "feat. size",
       "layout": "IPY_MODEL_3c29b07ceaa2490b940db8fc6f9eff30",
       "step": 1,
       "style": "IPY_MODEL_5294824b870b4d97bf697a93fce654d2",
       "value": 3
      }
     },
     "99ac8c78982f43ed9a357414fce0e531": {
      "model_module": "@jupyter-widgets/controls",
      "model_module_version": "1.2.0",
      "model_name": "VBoxModel",
      "state": {
       "children": [
        "IPY_MODEL_8c4bf6b5ba5a4628b6b2b222f16f06ec",
        "IPY_MODEL_90b98469181e4b4891ca28c13a27c2d8",
        "IPY_MODEL_e1a105091162443aaadaede73df61fab"
       ],
       "layout": "IPY_MODEL_8b1e427c35654164ae46d5138758bafc"
      }
     },
     "99c464f01fd644c0a79237b476adc7af": {
      "model_module": "@jupyter-widgets/controls",
      "model_module_version": "1.2.0",
      "model_name": "DescriptionStyleModel",
      "state": {
       "description_width": ""
      }
     },
     "99ef0f7e3fd24774b0c3d6b38f0814d9": {
      "model_module": "@jupyter-widgets/controls",
      "model_module_version": "1.2.0",
      "model_name": "FloatTextModel",
      "state": {
       "layout": "IPY_MODEL_b4b87d2daf8d4354bc4aeded7bbb337a",
       "step": 0.1,
       "style": "IPY_MODEL_edd9c9425ed94f2195ebe182c687351a",
       "value": 1
      }
     },
     "99f1ee486e0e4c74905797cdf8833326": {
      "model_module": "@jupyter-widgets/base",
      "model_module_version": "1.0.0",
      "model_name": "LayoutModel",
      "state": {
       "display": "flex",
       "flex_flow": "column wrap",
       "width": "66%"
      }
     },
     "9a13d87c2d0e4accaae306bf2e17d6f8": {
      "model_module": "@jupyter-widgets/base",
      "model_module_version": "1.0.0",
      "model_name": "LayoutModel",
      "state": {}
     },
     "9a22aab825cb4dfdb18cfdf79c3177b5": {
      "model_module": "@jupyter-widgets/base",
      "model_module_version": "1.0.0",
      "model_name": "LayoutModel",
      "state": {
       "width": "auto"
      }
     },
     "9a5d6961b2a24084ac1439691cc73a7e": {
      "model_module": "@jupyter-widgets/controls",
      "model_module_version": "1.2.0",
      "model_name": "DescriptionStyleModel",
      "state": {
       "description_width": ""
      }
     },
     "9a5f9e52cc0b433c9be07791633d55fb": {
      "model_module": "@jupyter-widgets/controls",
      "model_module_version": "1.2.0",
      "model_name": "CheckboxModel",
      "state": {
       "description": "Min. distance",
       "disabled": false,
       "indent": false,
       "layout": "IPY_MODEL_b127d2a3cc3541b78a417709177e71a4",
       "style": "IPY_MODEL_fcf38aa1e3444f419749a2291f9d9561",
       "value": false
      }
     },
     "9a954b9891c644eba6660740314c3850": {
      "model_module": "@jupyter-widgets/base",
      "model_module_version": "1.0.0",
      "model_name": "LayoutModel",
      "state": {
       "display": "none"
      }
     },
     "9aca44609f2a49c7bd106e64bd51552d": {
      "model_module": "@jupyter-widgets/controls",
      "model_module_version": "1.2.0",
      "model_name": "DescriptionStyleModel",
      "state": {
       "description_width": ""
      }
     },
     "9aee29ab4cc848afaf842d2d5646e63a": {
      "model_module": "@jupyter-widgets/controls",
      "model_module_version": "1.2.0",
      "model_name": "VBoxModel",
      "state": {
       "children": [
        "IPY_MODEL_c13c87d8a61b400294b808a93d1b5eec",
        "IPY_MODEL_5aa0c9d1e5ab43acb48a9a4b2e234ec2"
       ],
       "layout": "IPY_MODEL_c0cb02d39b9b41a9a00970f9fd86b677"
      }
     },
     "9afd4d9e38e94b159e27835ab50dbb0b": {
      "model_module": "@jupyter-widgets/controls",
      "model_module_version": "1.2.0",
      "model_name": "ButtonModel",
      "state": {
       "description": "Auto",
       "layout": "IPY_MODEL_a5cd9ebb3bbe4ea698491469361608d4",
       "style": "IPY_MODEL_0cd50c8a59d14bb2ba55e998b7433045"
      }
     },
     "9afe321bb7c8441bac36317431dc9236": {
      "model_module": "@jupyter-widgets/base",
      "model_module_version": "1.0.0",
      "model_name": "LayoutModel",
      "state": {
       "width": "auto"
      }
     },
     "9b455933d6b64c72934aae3c812c8039": {
      "model_module": "@jupyter-widgets/base",
      "model_module_version": "1.0.0",
      "model_name": "LayoutModel",
      "state": {}
     },
     "9b53051365464343a586c20b7ee325f3": {
      "model_module": "@jupyter-widgets/base",
      "model_module_version": "1.0.0",
      "model_name": "LayoutModel",
      "state": {}
     },
     "9bae719b9229446abcc2fa83c9e02142": {
      "model_module": "@jupyter-widgets/controls",
      "model_module_version": "1.2.0",
      "model_name": "DescriptionStyleModel",
      "state": {
       "description_width": ""
      }
     },
     "9bd1f3791de44324b6571f819079f9b9": {
      "model_module": "@jupyter-widgets/controls",
      "model_module_version": "1.2.0",
      "model_name": "HBoxModel",
      "state": {
       "children": [
        "IPY_MODEL_694f9df0ed034285af749b747bf2bb72",
        "IPY_MODEL_7d13a996cd214e179de14b9f3f64a524"
       ],
       "layout": "IPY_MODEL_0d6a2440340e489fad4981a43b1605fb"
      }
     },
     "9c1237db10024290bd907058ca89ce61": {
      "model_module": "@jupyter-widgets/base",
      "model_module_version": "1.0.0",
      "model_name": "LayoutModel",
      "state": {
       "display": "none"
      }
     },
     "9c1c69452a7f4e77b69c536b081d48b4": {
      "model_module": "@jupyter-widgets/controls",
      "model_module_version": "1.2.0",
      "model_name": "CheckboxModel",
      "state": {
       "description": "Show loc.",
       "disabled": false,
       "indent": false,
       "layout": "IPY_MODEL_cbaef955669847aea4d6eeda772fc47f",
       "style": "IPY_MODEL_ea337e089ffe4346ad274bae74d547e6",
       "value": true
      }
     },
     "9c53dadb0022460fbbd471c74e179ac7": {
      "model_module": "@jupyter-widgets/base",
      "model_module_version": "1.0.0",
      "model_name": "LayoutModel",
      "state": {
       "display": "none"
      }
     },
     "9c5aa012a6e3431087ea07844a161eb2": {
      "model_module": "@jupyter-widgets/base",
      "model_module_version": "1.0.0",
      "model_name": "LayoutModel",
      "state": {
       "display": "none"
      }
     },
     "9cd8c13726d9400fb744a6ad4f4ee915": {
      "model_module": "@jupyter-widgets/controls",
      "model_module_version": "1.2.0",
      "model_name": "DescriptionStyleModel",
      "state": {
       "description_width": ""
      }
     },
     "9d4a9019dc9c48ee987d1e204cb5dfa8": {
      "model_module": "@jupyter-widgets/controls",
      "model_module_version": "1.2.0",
      "model_name": "DescriptionStyleModel",
      "state": {
       "description_width": ""
      }
     },
     "9d762642fa554e169ab393c2a204d6d9": {
      "model_module": "@jupyter-widgets/base",
      "model_module_version": "1.0.0",
      "model_name": "LayoutModel",
      "state": {
       "display": "none"
      }
     },
     "9dc0b1c84fd74a2b8b39ec91bcc1e1e7": {
      "model_module": "@jupyter-widgets/controls",
      "model_module_version": "1.2.0",
      "model_name": "DropdownModel",
      "state": {
       "_options_labels": [
        "2d_fixed",
        "2d",
        "3d"
       ],
       "description": "model",
       "index": 1,
       "layout": "IPY_MODEL_479b92295e7c465fbafbc723031a2bf4",
       "style": "IPY_MODEL_8a6b8ef7ce7f4b76b1c70a9cbec92a5f"
      }
     },
     "9dc7aaed167b4dd5969d056120e38a5c": {
      "model_module": "@jupyter-widgets/base",
      "model_module_version": "1.0.0",
      "model_name": "LayoutModel",
      "state": {}
     },
     "9df44ccbe9d64083b3a5dcdfa81c50fc": {
      "model_module": "@jupyter-widgets/controls",
      "model_module_version": "1.2.0",
      "model_name": "DescriptionStyleModel",
      "state": {
       "description_width": ""
      }
     },
     "9e11f1e5ce9c4af2b3b3be687dd64a61": {
      "model_module": "@jupyter-widgets/controls",
      "model_module_version": "1.2.0",
      "model_name": "DropdownModel",
      "state": {
       "_options_labels": [
        "2d_fixed",
        "2d",
        "3d"
       ],
       "description": "model",
       "index": 1,
       "layout": "IPY_MODEL_8b6931748a42409d884c4454d3144696",
       "style": "IPY_MODEL_69e2f158e3144f9e8cbbc34f66df13fc"
      }
     },
     "9e4ae6a9292d4d9fbf87d5349ce243a7": {
      "model_module": "@jupyter-widgets/controls",
      "model_module_version": "1.2.0",
      "model_name": "SelectModel",
      "state": {
       "_options_labels": [
        "data/beads/beads_000_.SPE",
        "data/beads/beads_001_.SPE",
        "data/beads/beads_002_.SPE",
        "data/beads/beads_003_.SPE",
        "data/beads/beads_004_.SPE",
        "data/beads/beads_005_.SPE",
        "data/beads/beads_006_.SPE",
        "data/beads/beads_007_.SPE",
        "data/beads/beads_008_.SPE",
        "data/beads/beads_009_.SPE"
       ],
       "index": 0,
       "layout": "IPY_MODEL_4f60f460a5874e3e85ec8d90b8d1d860",
       "style": "IPY_MODEL_80a9910d37f34e0d9f9bca42f24e1a37"
      }
     },
     "9edbea2a76a24bde873325ba6c8d66cb": {
      "model_module": "@jupyter-widgets/controls",
      "model_module_version": "1.2.0",
      "model_name": "DescriptionStyleModel",
      "state": {
       "description_width": ""
      }
     },
     "9eefa54f1b744cc7b4b48ca06b4b0279": {
      "model_module": "@jupyter-widgets/controls",
      "model_module_version": "1.2.0",
      "model_name": "HBoxModel",
      "state": {
       "children": [
        "IPY_MODEL_cf9cc20b63d047b99a04d38292f2ba64",
        "IPY_MODEL_beadb326477547afa2bb70de10978a4d"
       ],
       "layout": "IPY_MODEL_3a6678335a474892a86e82b0edae6bbf"
      }
     },
     "9f26e9bc88f3473ebf794e68fa66a789": {
      "model_module": "@jupyter-widgets/base",
      "model_module_version": "1.0.0",
      "model_name": "LayoutModel",
      "state": {}
     },
     "9f40e8bad80442dcaece2e410a1f9e6f": {
      "model_module": "@jupyter-widgets/controls",
      "model_module_version": "1.2.0",
      "model_name": "VBoxModel",
      "state": {
       "children": [
        "IPY_MODEL_80755e8cd72a466ba04fa2342cc4a2c4",
        "IPY_MODEL_db401807dd224cf9b09e0b6bfce6b878",
        "IPY_MODEL_deb869177dc842ffbca85924bb7b3bac"
       ],
       "layout": "IPY_MODEL_5e229349f7fe437488060da11ce4b070"
      }
     },
     "9f4b337158754cf8a1e15e2ec2c8a65c": {
      "model_module": "@jupyter-widgets/base",
      "model_module_version": "1.0.0",
      "model_name": "LayoutModel",
      "state": {}
     },
     "9f5cec8de4394f3cb422e340329abbd4": {
      "model_module": "@jupyter-widgets/controls",
      "model_module_version": "1.2.0",
      "model_name": "FloatTextModel",
      "state": {
       "layout": "IPY_MODEL_6f8df1c5d88846d986fed676f466cb6c",
       "step": 0.1,
       "style": "IPY_MODEL_09c44b7191ff4e899246f49643253bb7",
       "value": 1
      }
     },
     "9fdbc4fb133d47bdab2d81519a664f88": {
      "model_module": "@jupyter-widgets/controls",
      "model_module_version": "1.2.0",
      "model_name": "DescriptionStyleModel",
      "state": {
       "description_width": ""
      }
     },
     "a00cbf50657b424287aeafdf5cff1a05": {
      "model_module": "@jupyter-widgets/controls",
      "model_module_version": "1.2.0",
      "model_name": "HBoxModel",
      "state": {
       "children": [
        "IPY_MODEL_3a286e7c794c499eabcb6dfa3bf4a97b",
        "IPY_MODEL_99ef0f7e3fd24774b0c3d6b38f0814d9"
       ],
       "layout": "IPY_MODEL_eea8ebc84b0f4de58a6dc8e82012bc74"
      }
     },
     "a07147f711e7440981b4726a70f1a092": {
      "model_module": "@jupyter-widgets/controls",
      "model_module_version": "1.2.0",
      "model_name": "CheckboxModel",
      "state": {
       "description": "Show loc.",
       "disabled": false,
       "indent": false,
       "layout": "IPY_MODEL_3a44ae3acfe44081a8ddc69eca17b29a",
       "style": "IPY_MODEL_b8ea3b7b0dca4273866f1b5b92cca58b",
       "value": true
      }
     },
     "a0868406e0164228a26117e7738fa06a": {
      "model_module": "@jupyter-widgets/controls",
      "model_module_version": "1.2.0",
      "model_name": "FloatTextModel",
      "state": {
       "layout": "IPY_MODEL_8fb4b0fdb7c44e1ab8ed8e86e5f324f2",
       "step": 0.1,
       "style": "IPY_MODEL_1494528ace2c4c4db584278ebb8209ab",
       "value": 1
      }
     },
     "a0931920790f4838a3c589307e70e6ea": {
      "model_module": "@jupyter-widgets/controls",
      "model_module_version": "1.2.0",
      "model_name": "DescriptionStyleModel",
      "state": {
       "description_width": ""
      }
     },
     "a0a29a1f59f34253bb259655681ce3bd": {
      "model_module": "@jupyter-widgets/controls",
      "model_module_version": "1.2.0",
      "model_name": "CheckboxModel",
      "state": {
       "description": "Show loc.",
       "disabled": false,
       "indent": false,
       "layout": "IPY_MODEL_fa9931ed61664d8fa35d9ebc5ad52aab",
       "style": "IPY_MODEL_742747435e2244c88f233fdfbe44a6bb",
       "value": true
      }
     },
     "a0ca00acc0784f1b80786a8d0fc73831": {
      "model_module": "@jupyter-widgets/base",
      "model_module_version": "1.0.0",
      "model_name": "LayoutModel",
      "state": {
       "display": "inline"
      }
     },
     "a0e18e07084b42d091852d2854f659b3": {
      "model_module": "@jupyter-widgets/base",
      "model_module_version": "1.0.0",
      "model_name": "LayoutModel",
      "state": {}
     },
     "a0ee102307534b91900803088036a2c9": {
      "model_module": "@jupyter-widgets/controls",
      "model_module_version": "1.2.0",
      "model_name": "DescriptionStyleModel",
      "state": {
       "description_width": ""
      }
     },
     "a15fe1a85d9e4ec5b001e32cb91d0c65": {
      "model_module": "@jupyter-widgets/base",
      "model_module_version": "1.0.0",
      "model_name": "LayoutModel",
      "state": {}
     },
     "a174c0b7b1b64f9ba03c41e6405c2c14": {
      "model_module": "@jupyter-widgets/base",
      "model_module_version": "1.0.0",
      "model_name": "LayoutModel",
      "state": {
       "display": "none"
      }
     },
     "a1bbc8f26c4e42c4ac4d6fcbc07a0d28": {
      "model_module": "@jupyter-widgets/controls",
      "model_module_version": "1.2.0",
      "model_name": "HBoxModel",
      "state": {
       "children": [
        "IPY_MODEL_72dbc3b77baf4e64be7a12988ac9fa4c",
        "IPY_MODEL_7d37587997e74c4a886352b548618d25",
        "IPY_MODEL_17fffd34af4f439a926cb172a59017fd"
       ],
       "layout": "IPY_MODEL_2a854f57f160446f88868cdfeebd1b15"
      }
     },
     "a1fee939d02b4c3cbeb542df8cf1eb43": {
      "model_module": "@jupyter-widgets/controls",
      "model_module_version": "1.2.0",
      "model_name": "DropdownModel",
      "state": {
       "_options_labels": [
        "2d_fixed",
        "2d",
        "3d"
       ],
       "description": "model",
       "index": 1,
       "layout": "IPY_MODEL_1d9a93a9f6c24b018ce1963bb58d97fe",
       "style": "IPY_MODEL_02a6d4c29bb34dc0bc5e9aed5d5a181c"
      }
     },
     "a2342805aa8d4236af7b0cc074c489bc": {
      "model_module": "@jupyter-widgets/controls",
      "model_module_version": "1.2.0",
      "model_name": "CheckboxModel",
      "state": {
       "description": "Size range",
       "disabled": false,
       "indent": false,
       "layout": "IPY_MODEL_f61688f97ad44722bafc175cd5df1915",
       "style": "IPY_MODEL_1140ea0dbb964fe495fb0ac563e9eb3c",
       "value": false
      }
     },
     "a2391440da5a4bd8a2d990b49a348864": {
      "model_module": "@jupyter-widgets/base",
      "model_module_version": "1.0.0",
      "model_name": "LayoutModel",
      "state": {
       "display": "none"
      }
     },
     "a2616790db824ffeb65d14eceec14934": {
      "model_module": "@jupyter-widgets/base",
      "model_module_version": "1.0.0",
      "model_name": "LayoutModel",
      "state": {
       "width": "auto"
      }
     },
     "a276506d90a345b8bcb85fd8e7f7e8aa": {
      "model_module": "@jupyter-widgets/controls",
      "model_module_version": "1.2.0",
      "model_name": "DropdownModel",
      "state": {
       "_options_labels": [
        "2d_fixed",
        "2d",
        "3d"
       ],
       "description": "model",
       "index": 1,
       "layout": "IPY_MODEL_d6709a2270e74c0eb5c06bd68f74a16c",
       "style": "IPY_MODEL_eb5451efc5f34fe5a9562b3a22bd3ccc"
      }
     },
     "a28c038042c54aa189617d6ce8c023b4": {
      "model_module": "@jupyter-widgets/controls",
      "model_module_version": "1.2.0",
      "model_name": "FloatTextModel",
      "state": {
       "description": "threshold",
       "layout": "IPY_MODEL_d5d2422e7b104a0e914acbd0deb93f42",
       "step": 10,
       "style": "IPY_MODEL_63a3ba1e33884d798eaae807bb0dc402",
       "value": 100
      }
     },
     "a291137d07614d41942fc48dc043ba1e": {
      "model_module": "@jupyter-widgets/controls",
      "model_module_version": "1.2.0",
      "model_name": "DescriptionStyleModel",
      "state": {
       "description_width": ""
      }
     },
     "a29e98e632534b93a0297f84f985a715": {
      "model_module": "@jupyter-widgets/controls",
      "model_module_version": "1.2.0",
      "model_name": "DropdownModel",
      "state": {
       "_options_labels": [
        "2d_fixed",
        "2d",
        "3d"
       ],
       "description": "model",
       "index": 1,
       "layout": "IPY_MODEL_698c4945726d457796659ad3bcebc0a7",
       "style": "IPY_MODEL_d46998510eb243148f4ee26efbf2e7c7"
      }
     },
     "a2a42213226e42ce8bcd22c543fd9505": {
      "model_module": "@jupyter-widgets/controls",
      "model_module_version": "1.2.0",
      "model_name": "DropdownModel",
      "state": {
       "_options_labels": [
        "2d_fixed",
        "2d",
        "3d"
       ],
       "description": "model",
       "index": 1,
       "layout": "IPY_MODEL_cfb64c186bc4449b9bc297a976404885",
       "style": "IPY_MODEL_fb224f5830d64ae0b1b5740e8d1697e3"
      }
     },
     "a2c461319e1f437fb7a80bfae2b804fd": {
      "model_module": "@jupyter-widgets/controls",
      "model_module_version": "1.2.0",
      "model_name": "IntTextModel",
      "state": {
       "description": "feat. size",
       "layout": "IPY_MODEL_c1efcae4c8094bcfaffe2b2e7f27bf45",
       "step": 1,
       "style": "IPY_MODEL_56942cc7612b425c87cf5ac589735428",
       "value": 3
      }
     },
     "a335da71e80246ae9495b090f1d55e3d": {
      "model_module": "@jupyter-widgets/controls",
      "model_module_version": "1.2.0",
      "model_name": "DescriptionStyleModel",
      "state": {
       "description_width": ""
      }
     },
     "a361a63fde3643099fd6c21149f906fc": {
      "model_module": "@jupyter-widgets/controls",
      "model_module_version": "1.2.0",
      "model_name": "CheckboxModel",
      "state": {
       "description": "Size range",
       "disabled": false,
       "indent": false,
       "layout": "IPY_MODEL_82583e58509042368bf8c21bee5086e4",
       "style": "IPY_MODEL_af28a585ea7c4131b6d9a7d34018875f",
       "value": false
      }
     },
     "a3d10057cfce4fd59e9e4ac70cd279fa": {
      "model_module": "@jupyter-widgets/controls",
      "model_module_version": "1.2.0",
      "model_name": "FloatTextModel",
      "state": {
       "description": "threshold",
       "layout": "IPY_MODEL_9b455933d6b64c72934aae3c812c8039",
       "step": 10,
       "style": "IPY_MODEL_27bf2951473a4cca94241d9317e7848f",
       "value": 100
      }
     },
     "a40f15a73d6e4d00bb1f193a2595e695": {
      "model_module": "@jupyter-widgets/controls",
      "model_module_version": "1.2.0",
      "model_name": "DescriptionStyleModel",
      "state": {
       "description_width": ""
      }
     },
     "a431992d061d4c7fa482f577ee2b5f45": {
      "model_module": "@jupyter-widgets/controls",
      "model_module_version": "1.2.0",
      "model_name": "HBoxModel",
      "state": {
       "children": [
        "IPY_MODEL_34934ccbd56f4acbbdc9e1b907e98de6",
        "IPY_MODEL_7caf946b93e8415dbb5cfded06c588a9"
       ],
       "layout": "IPY_MODEL_7737dfaaec96414183ebf6cf4492783d"
      }
     },
     "a44058bc020a4cfabeacab01e0c69d3c": {
      "model_module": "@jupyter-widgets/controls",
      "model_module_version": "1.2.0",
      "model_name": "DescriptionStyleModel",
      "state": {
       "description_width": ""
      }
     },
     "a454f90010344f9da575044b7c3b7350": {
      "model_module": "@jupyter-widgets/base",
      "model_module_version": "1.0.0",
      "model_name": "LayoutModel",
      "state": {
       "border": "1px solid gray"
      }
     },
     "a479a55c7f3942fcb26410dc9f27870b": {
      "model_module": "@jupyter-widgets/controls",
      "model_module_version": "1.2.0",
      "model_name": "HBoxModel",
      "state": {
       "children": [
        "IPY_MODEL_fd7fe18ee1144d149ef454af8aed54f3",
        "IPY_MODEL_58667e49450448c6ae4c9a2f36f38b12"
       ],
       "layout": "IPY_MODEL_aae6a9f7c9b244fc8b20d7abaf74c191"
      }
     },
     "a4eecdd6eac148078794d26ec458ae2d": {
      "model_module": "@jupyter-widgets/controls",
      "model_module_version": "1.2.0",
      "model_name": "DescriptionStyleModel",
      "state": {
       "description_width": ""
      }
     },
     "a553962993694475941cc6124c45b647": {
      "model_module": "@jupyter-widgets/controls",
      "model_module_version": "1.2.0",
      "model_name": "HBoxModel",
      "state": {
       "children": [
        "IPY_MODEL_c6ad2c66e23145308004adb901174003",
        "IPY_MODEL_cb1c51b664d0470b879f08c7b64b382b"
       ],
       "layout": "IPY_MODEL_de8dd318d68f4b1eb8d39594928fba54"
      }
     },
     "a55b747a6bb54df489ee9ab51b54ae2f": {
      "model_module": "@jupyter-widgets/controls",
      "model_module_version": "1.2.0",
      "model_name": "CheckboxModel",
      "state": {
       "description": "Show loc.",
       "disabled": false,
       "indent": false,
       "layout": "IPY_MODEL_f80518817c07475ebeb84494733c55da",
       "style": "IPY_MODEL_96556a9c35bf483a814b85604840b2e5",
       "value": true
      }
     },
     "a58f4de4e10b4df4b9eb9fcf4feaf163": {
      "model_module": "@jupyter-widgets/base",
      "model_module_version": "1.0.0",
      "model_name": "LayoutModel",
      "state": {
       "width": "75%"
      }
     },
     "a5aef452aafc4979844c1c9e82fbe0db": {
      "model_module": "@jupyter-widgets/base",
      "model_module_version": "1.0.0",
      "model_name": "LayoutModel",
      "state": {}
     },
     "a5cd9ebb3bbe4ea698491469361608d4": {
      "model_module": "@jupyter-widgets/base",
      "model_module_version": "1.0.0",
      "model_name": "LayoutModel",
      "state": {}
     },
     "a5faeb5167ce47aea07efeb2e4a37cb7": {
      "model_module": "@jupyter-widgets/base",
      "model_module_version": "1.0.0",
      "model_name": "LayoutModel",
      "state": {
       "width": "75%"
      }
     },
     "a60a97a0997c4d61b56ed21f67dcdefa": {
      "model_module": "@jupyter-widgets/controls",
      "model_module_version": "1.2.0",
      "model_name": "CheckboxModel",
      "state": {
       "description": "Min. distance",
       "disabled": false,
       "indent": false,
       "layout": "IPY_MODEL_6d9ccba62da34714aca5f29ab9d4256c",
       "style": "IPY_MODEL_dba461e27a4f420da9fd5af4a5ee2dad",
       "value": false
      }
     },
     "a618d0b1bf9a4b6aaebbc4f56e910f8c": {
      "model_module": "@jupyter-widgets/base",
      "model_module_version": "1.0.0",
      "model_name": "LayoutModel",
      "state": {
       "width": "100%"
      }
     },
     "a643a4f08ce6486db2394f0d1673dd82": {
      "model_module": "@jupyter-widgets/base",
      "model_module_version": "1.0.0",
      "model_name": "LayoutModel",
      "state": {}
     },
     "a675c0c565574b6c8ceef6ac7ba5fbdc": {
      "model_module": "@jupyter-widgets/controls",
      "model_module_version": "1.2.0",
      "model_name": "FloatTextModel",
      "state": {
       "layout": "IPY_MODEL_0556af0fe8ce4c26887e936312cfee70",
       "step": 0.1,
       "style": "IPY_MODEL_04c134ec844f48518c4d43fadfc470b3",
       "value": 3
      }
     },
     "a6b8d0b30c6f4db184ed57078f711dff": {
      "model_module": "@jupyter-widgets/controls",
      "model_module_version": "1.2.0",
      "model_name": "BoundedIntTextModel",
      "state": {
       "description": "frame",
       "layout": "IPY_MODEL_eb85ee028e3b458b8c9f8e8945f5c950",
       "max": 49,
       "style": "IPY_MODEL_b58c8e2dcd0749fa99d7f25245da27a6"
      }
     },
     "a6d5cfc2bb1e4c3e8d2347b6facee790": {
      "model_module": "@jupyter-widgets/controls",
      "model_module_version": "1.2.0",
      "model_name": "DescriptionStyleModel",
      "state": {
       "description_width": ""
      }
     },
     "a793d2ff390c4cba8bba9a04ce7027fe": {
      "model_module": "@jupyter-widgets/controls",
      "model_module_version": "1.2.0",
      "model_name": "VBoxModel",
      "state": {
       "children": [
        "IPY_MODEL_bac1451325334616913ac648bdb007ff",
        "IPY_MODEL_87045e7c7a47485aa63dffd08040e2e1",
        "IPY_MODEL_f98ecea191d3469782b2fd05a91a4d66"
       ],
       "layout": "IPY_MODEL_1f95ca0f70c84935abba32f323d60216"
      }
     },
     "a79415927e1b4f129298f428353c8c70": {
      "model_module": "@jupyter-widgets/controls",
      "model_module_version": "1.2.0",
      "model_name": "DescriptionStyleModel",
      "state": {
       "description_width": ""
      }
     },
     "a7a93a3b5db14745a107ee7357a57a81": {
      "model_module": "@jupyter-widgets/base",
      "model_module_version": "1.0.0",
      "model_name": "LayoutModel",
      "state": {
       "display": "inline"
      }
     },
     "a7b19d4cf67e478589baafdeccf11344": {
      "model_module": "@jupyter-widgets/base",
      "model_module_version": "1.0.0",
      "model_name": "LayoutModel",
      "state": {
       "width": "auto"
      }
     },
     "a81a0c263b504dd097171b652cc38c56": {
      "model_module": "@jupyter-widgets/controls",
      "model_module_version": "1.2.0",
      "model_name": "DescriptionStyleModel",
      "state": {
       "description_width": ""
      }
     },
     "a83193a683334498a1967275c84acf79": {
      "model_module": "@jupyter-widgets/base",
      "model_module_version": "1.0.0",
      "model_name": "LayoutModel",
      "state": {}
     },
     "a83984f400c94bf6991daf533bb787bc": {
      "model_module": "@jupyter-widgets/controls",
      "model_module_version": "1.2.0",
      "model_name": "DescriptionStyleModel",
      "state": {
       "description_width": ""
      }
     },
     "a84219f788e443978c802281362621b5": {
      "model_module": "@jupyter-widgets/controls",
      "model_module_version": "1.2.0",
      "model_name": "FloatTextModel",
      "state": {
       "description": "radius",
       "layout": "IPY_MODEL_b7023a71516749418cd7b2acb31271a9",
       "step": 0.1,
       "style": "IPY_MODEL_41611cfe916d449eadd94ee06d3f57ae",
       "value": 1
      }
     },
     "a85f8868bd72443da6283c84785b6859": {
      "model_module": "@jupyter-widgets/base",
      "model_module_version": "1.0.0",
      "model_name": "LayoutModel",
      "state": {
       "display": "flex",
       "flex_flow": "column wrap",
       "width": "66%"
      }
     },
     "a8abbba0df0447ceb63ab913a797ce58": {
      "model_module": "@jupyter-widgets/controls",
      "model_module_version": "1.2.0",
      "model_name": "DescriptionStyleModel",
      "state": {
       "description_width": ""
      }
     },
     "a8c5946410a84233bcdf6b08b34dc3b3": {
      "model_module": "@jupyter-widgets/controls",
      "model_module_version": "1.2.0",
      "model_name": "FloatTextModel",
      "state": {
       "layout": "IPY_MODEL_1b620fd859a4480aa4f9e4c1eb031eb2",
       "step": 0.1,
       "style": "IPY_MODEL_916639153d57402f8b01fece3aade51d",
       "value": 1
      }
     },
     "a90c2c8136e54153aa578afefecb3ab1": {
      "model_module": "@jupyter-widgets/controls",
      "model_module_version": "1.2.0",
      "model_name": "DescriptionStyleModel",
      "state": {
       "description_width": ""
      }
     },
     "a9260d6530984155b08468659eee60ce": {
      "model_module": "@jupyter-widgets/controls",
      "model_module_version": "1.2.0",
      "model_name": "DescriptionStyleModel",
      "state": {
       "description_width": ""
      }
     },
     "a9344fbbc27443ecac484dfacd381265": {
      "model_module": "@jupyter-widgets/base",
      "model_module_version": "1.0.0",
      "model_name": "LayoutModel",
      "state": {}
     },
     "a93b0a99d293436297cf9bc57e0df4a6": {
      "model_module": "@jupyter-widgets/controls",
      "model_module_version": "1.2.0",
      "model_name": "DescriptionStyleModel",
      "state": {
       "description_width": ""
      }
     },
     "a9736066e5df4dcb9013c7a3c1688f78": {
      "model_module": "@jupyter-widgets/base",
      "model_module_version": "1.0.0",
      "model_name": "LayoutModel",
      "state": {}
     },
     "a9760e5cf2bb431e8291b5dd00bdc839": {
      "model_module": "@jupyter-widgets/base",
      "model_module_version": "1.0.0",
      "model_name": "LayoutModel",
      "state": {}
     },
     "a9d796c2935e4d48abfdfad8b2f07230": {
      "model_module": "@jupyter-widgets/base",
      "model_module_version": "1.0.0",
      "model_name": "LayoutModel",
      "state": {}
     },
     "a9d8db04f91f4a78885048e47fe7d975": {
      "model_module": "@jupyter-widgets/controls",
      "model_module_version": "1.2.0",
      "model_name": "FloatTextModel",
      "state": {
       "description": "radius",
       "layout": "IPY_MODEL_56a93a526453438f85be87de8c7470af",
       "step": 0.1,
       "style": "IPY_MODEL_6c4e0987eca84a5ba2cc1653427be79d",
       "value": 1
      }
     },
     "a9e6897cc4c3469b8c7059a067a847ea": {
      "model_module": "@jupyter-widgets/base",
      "model_module_version": "1.0.0",
      "model_name": "LayoutModel",
      "state": {
       "display": "flex",
       "flex_flow": "column wrap",
       "width": "66%"
      }
     },
     "aa24ebdabe454b5c926dedbd4652a7a5": {
      "model_module": "@jupyter-widgets/base",
      "model_module_version": "1.0.0",
      "model_name": "LayoutModel",
      "state": {
       "display": "none"
      }
     },
     "aa3ff12a54e4489591f72079127925f6": {
      "model_module": "@jupyter-widgets/base",
      "model_module_version": "1.0.0",
      "model_name": "LayoutModel",
      "state": {
       "width": "75%"
      }
     },
     "aa6ef432ab714360a1cccccddab24adf": {
      "model_module": "@jupyter-widgets/controls",
      "model_module_version": "1.2.0",
      "model_name": "FloatTextModel",
      "state": {
       "description": "threshold",
       "layout": "IPY_MODEL_cef17bc089aa4519b8aa5b0bc6fb5d77",
       "step": 10,
       "style": "IPY_MODEL_1f3056b0d82a448ebd9388e035c6b2eb",
       "value": 100
      }
     },
     "aa920e2886b64ce897d166dfe6ce7210": {
      "model_module": "@jupyter-widgets/base",
      "model_module_version": "1.0.0",
      "model_name": "LayoutModel",
      "state": {}
     },
     "aac67a092b404f4aa3513c7206fd2402": {
      "model_module": "@jupyter-widgets/controls",
      "model_module_version": "1.2.0",
      "model_name": "DescriptionStyleModel",
      "state": {
       "description_width": ""
      }
     },
     "aac9f45b45844ebead78d0105e3ee8bd": {
      "model_module": "@jupyter-widgets/controls",
      "model_module_version": "1.2.0",
      "model_name": "VBoxModel",
      "state": {
       "children": [
        "IPY_MODEL_f5fd633cce704a5986281c8d09df9bd9",
        "IPY_MODEL_856b29a83bc644f7b2b4e017960d1da3",
        "IPY_MODEL_b652dfbfd4214265ae3872e3f49c3b2f"
       ],
       "layout": "IPY_MODEL_ed7a81a126de4e08aa3a55b3e4fbfa4a"
      }
     },
     "aae6a9f7c9b244fc8b20d7abaf74c191": {
      "model_module": "@jupyter-widgets/base",
      "model_module_version": "1.0.0",
      "model_name": "LayoutModel",
      "state": {}
     },
     "aaef252f0f904c65bc3b1539ec5fda60": {
      "model_module": "@jupyter-widgets/controls",
      "model_module_version": "1.2.0",
      "model_name": "ButtonModel",
      "state": {
       "description": "Auto",
       "layout": "IPY_MODEL_2e8e52ae825e4c72986f6383f0aa0290",
       "style": "IPY_MODEL_b22e372906214ee5bb3d1007a4ccbdd6"
      }
     },
     "aaf69e05d407466fbe2eec239cc90280": {
      "model_module": "@jupyter-widgets/controls",
      "model_module_version": "1.2.0",
      "model_name": "FloatTextModel",
      "state": {
       "layout": "IPY_MODEL_07ac523a740a4fe68f24c1ab8535c730",
       "step": 0.1,
       "style": "IPY_MODEL_63c9ca94d8f84582ab880606d1851611",
       "value": 3
      }
     },
     "ab0cfbb92b6340f883a10373a0455392": {
      "model_module": "@jupyter-widgets/base",
      "model_module_version": "1.0.0",
      "model_name": "LayoutModel",
      "state": {
       "width": "auto"
      }
     },
     "ab316c8c91c44fa8aaa0cc813e57bfe0": {
      "model_module": "@jupyter-widgets/controls",
      "model_module_version": "1.2.0",
      "model_name": "VBoxModel",
      "state": {
       "children": [
        "IPY_MODEL_90a2efcdf54e436a95a036eb331dd6a6",
        "IPY_MODEL_7972ade17a9549aca2c729e88c1deecb",
        "IPY_MODEL_71ef8416d5164e26ad13d386265fb786"
       ],
       "layout": "IPY_MODEL_b779a4a37c6a4f399fb21a145bd6c38d"
      }
     },
     "ab4925d5106d478c95c5b37f1be7b6bc": {
      "model_module": "@jupyter-widgets/base",
      "model_module_version": "1.0.0",
      "model_name": "LayoutModel",
      "state": {
       "display": "flex",
       "flex_flow": "column wrap",
       "width": "66%"
      }
     },
     "ab78fe67db564683aec5835c7ecaa972": {
      "model_module": "@jupyter-widgets/controls",
      "model_module_version": "1.2.0",
      "model_name": "VBoxModel",
      "state": {
       "children": [
        "IPY_MODEL_8b26a592718c432381544ef50f1238c4",
        "IPY_MODEL_25609cd00cca4ad98a9f3d96ba3f9412",
        "IPY_MODEL_add3755b7dd04b8e9e54749f1f181aec"
       ],
       "layout": "IPY_MODEL_f2ae8795066b405d86ad6b62f338983a"
      }
     },
     "ab7a3e29338d4fde9471734de2214b6e": {
      "model_module": "@jupyter-widgets/base",
      "model_module_version": "1.0.0",
      "model_name": "LayoutModel",
      "state": {
       "display": "none"
      }
     },
     "ab8027fd81ce4cda9ea2e480101f6eda": {
      "model_module": "@jupyter-widgets/base",
      "model_module_version": "1.0.0",
      "model_name": "LayoutModel",
      "state": {}
     },
     "ab9309422cca470bb40a7c6d6ff4ef70": {
      "model_module": "@jupyter-widgets/controls",
      "model_module_version": "1.2.0",
      "model_name": "VBoxModel",
      "state": {
       "children": [
        "IPY_MODEL_e5f0b576dc474a79ba6dde69d2627e1e",
        "IPY_MODEL_9133c6044fa44763a8e9ed3a2cfc66c3",
        "IPY_MODEL_78a71abb23fb4f6a898bd1072b249131",
        "IPY_MODEL_50e9cd4466bc4c1da5b227a6467de70f",
        "IPY_MODEL_8cd31a6c9ff0466295c9f5b4db86a38d",
        "IPY_MODEL_c22b5f9b02324eb09eefa0fc3f053283"
       ],
       "layout": "IPY_MODEL_586359d9189148bc9b1870a5c0af9a02"
      }
     },
     "ac27177f41674d4e942fc6991d3fdff7": {
      "model_module": "@jupyter-widgets/controls",
      "model_module_version": "1.2.0",
      "model_name": "VBoxModel",
      "state": {
       "children": [
        "IPY_MODEL_4d29cd8e3b554f8a9af88a5ba888ffda",
        "IPY_MODEL_4698a6c0fe5f48868743f31af7dd1220",
        "IPY_MODEL_f17b48ffaafc4ac482e8809faaa834a8"
       ],
       "layout": "IPY_MODEL_b1cf244382884cc7b7b60059c2176e36"
      }
     },
     "ac3eb350b9ab429188d86a4f3b37e9c2": {
      "model_module": "@jupyter-widgets/base",
      "model_module_version": "1.0.0",
      "model_name": "LayoutModel",
      "state": {}
     },
     "acce2284551349c9bd0cb28aadc0ed58": {
      "model_module": "@jupyter-widgets/controls",
      "model_module_version": "1.2.0",
      "model_name": "DescriptionStyleModel",
      "state": {
       "description_width": ""
      }
     },
     "ad09e136c24c4419a07750758267dfd3": {
      "model_module": "@jupyter-widgets/controls",
      "model_module_version": "1.2.0",
      "model_name": "DropdownModel",
      "state": {
       "_options_labels": [
        "2d_fixed",
        "2d",
        "3d"
       ],
       "description": "model",
       "index": 1,
       "layout": "IPY_MODEL_0f6bb27f3b3e40e092dfb62abeb2476e",
       "style": "IPY_MODEL_200dd839b47e41ef964f190f00578135"
      }
     },
     "ad174e487e694b738f5f19e1e7128916": {
      "model_module": "@jupyter-widgets/controls",
      "model_module_version": "1.2.0",
      "model_name": "SliderStyleModel",
      "state": {
       "description_width": ""
      }
     },
     "ad796e7bca5a42e5a14af119f386b4f3": {
      "model_module": "@jupyter-widgets/controls",
      "model_module_version": "1.2.0",
      "model_name": "DescriptionStyleModel",
      "state": {
       "description_width": ""
      }
     },
     "ad7c1958d6964ab58ec5e260e9d13ef0": {
      "model_module": "@jupyter-widgets/controls",
      "model_module_version": "1.2.0",
      "model_name": "IntTextModel",
      "state": {
       "description": "feat. size",
       "layout": "IPY_MODEL_0957f0c2e0354c03bd87e808879cf3bb",
       "step": 1,
       "style": "IPY_MODEL_b835c5938556463d920bf178b1a8a77c",
       "value": 3
      }
     },
     "ad98c99d4b8a46948c2eb85e97d210f9": {
      "model_module": "@jupyter-widgets/controls",
      "model_module_version": "1.2.0",
      "model_name": "FloatTextModel",
      "state": {
       "layout": "IPY_MODEL_ed663a271ac945caa0969117f52a1111",
       "step": 0.1,
       "style": "IPY_MODEL_418ef43b5cf14e65bdf7ce484ec89c54",
       "value": 1
      }
     },
     "adc6e4587a314fd8afcde5d140a8acc1": {
      "model_module": "@jupyter-widgets/controls",
      "model_module_version": "1.2.0",
      "model_name": "CheckboxModel",
      "state": {
       "description": "Show loc.",
       "disabled": false,
       "indent": false,
       "layout": "IPY_MODEL_d8fd62f4c0324903a98d8f21f1eff2af",
       "style": "IPY_MODEL_b1310b209e714acd9df2b8ec60946b3c",
       "value": true
      }
     },
     "add3755b7dd04b8e9e54749f1f181aec": {
      "model_module": "@jupyter-widgets/controls",
      "model_module_version": "1.2.0",
      "model_name": "FloatTextModel",
      "state": {
       "description": "sigma",
       "layout": "IPY_MODEL_944e2ebea9424aefbe1005fbcfdc0b3d",
       "step": 0.1,
       "style": "IPY_MODEL_5777eed6f9d64683b752e06b8cf63243",
       "value": 1
      }
     },
     "ade9ee4d1be045f1af7d9360b08c544c": {
      "model_module": "@jupyter-widgets/controls",
      "model_module_version": "1.2.0",
      "model_name": "SliderStyleModel",
      "state": {
       "description_width": ""
      }
     },
     "adf40acda44f4b9b85e18c7a602df93c": {
      "model_module": "@jupyter-widgets/controls",
      "model_module_version": "1.2.0",
      "model_name": "SelectModel",
      "state": {
       "_options_labels": [
        "data/sensor-H57/cells-01_SAv-100k_SSS-H57-20k_000_.SPE"
       ],
       "index": 0,
       "layout": "IPY_MODEL_516609ad462b4649afa9d23010368a53",
       "style": "IPY_MODEL_07cc9f950bd74e1d9b27e3b600f67ccb"
      }
     },
     "adfdf5b3e7044e60872eefbde244317a": {
      "model_module": "@jupyter-widgets/controls",
      "model_module_version": "1.2.0",
      "model_name": "FloatTextModel",
      "state": {
       "description": "threshold",
       "layout": "IPY_MODEL_9f4b337158754cf8a1e15e2ec2c8a65c",
       "step": 10,
       "style": "IPY_MODEL_5a1aa8b1ede248a887870215d096f71d",
       "value": 1000
      }
     },
     "ae7455f6b3494419b28dabed380516af": {
      "model_module": "@jupyter-widgets/base",
      "model_module_version": "1.0.0",
      "model_name": "LayoutModel",
      "state": {
       "width": "auto"
      }
     },
     "aeb82f103bde45f8ae48a0a3293218f8": {
      "model_module": "@jupyter-widgets/controls",
      "model_module_version": "1.2.0",
      "model_name": "DropdownModel",
      "state": {
       "_options_labels": [
        "Identity",
        "Cg",
        "Gaussian"
       ],
       "description": "find filter",
       "index": 1,
       "layout": "IPY_MODEL_774d43ce07db4ff38546dd8ec2622df9",
       "style": "IPY_MODEL_7928f9a9bda5464cb6f4dab76da972f9"
      }
     },
     "aec25161b34c4d5fa2495d37dd0b009c": {
      "model_module": "@jupyter-widgets/controls",
      "model_module_version": "1.2.0",
      "model_name": "VBoxModel",
      "state": {
       "children": [
        "IPY_MODEL_f0c7bb441e6e4b528f534b973d41fad0",
        "IPY_MODEL_4ec6270cc8024ca6bade21b9603b062e",
        "IPY_MODEL_1d23768466ae4cfeb64921711ebe49d4"
       ],
       "layout": "IPY_MODEL_56f43e719b054d2db0d43b41318a43e8"
      }
     },
     "af11b20f3d1b467485ef89404c0582c5": {
      "model_module": "@jupyter-widgets/controls",
      "model_module_version": "1.2.0",
      "model_name": "ButtonStyleModel",
      "state": {}
     },
     "af28a585ea7c4131b6d9a7d34018875f": {
      "model_module": "@jupyter-widgets/controls",
      "model_module_version": "1.2.0",
      "model_name": "DescriptionStyleModel",
      "state": {
       "description_width": ""
      }
     },
     "af51c9e9fc354008b987e9c52a9283c8": {
      "model_module": "@jupyter-widgets/base",
      "model_module_version": "1.0.0",
      "model_name": "LayoutModel",
      "state": {
       "display": "none"
      }
     },
     "af56442840da4d8791c2372861416b99": {
      "model_module": "@jupyter-widgets/base",
      "model_module_version": "1.0.0",
      "model_name": "LayoutModel",
      "state": {}
     },
     "af599191dcb649338ccbb3cea8cfeb03": {
      "model_module": "@jupyter-widgets/controls",
      "model_module_version": "1.2.0",
      "model_name": "DescriptionStyleModel",
      "state": {
       "description_width": ""
      }
     },
     "af5d88a7eb814276beaffbf600ae6e4b": {
      "model_module": "@jupyter-widgets/controls",
      "model_module_version": "1.2.0",
      "model_name": "DescriptionStyleModel",
      "state": {
       "description_width": ""
      }
     },
     "af64b99d6b9649ab87b51d9c15fe0a49": {
      "model_module": "@jupyter-widgets/controls",
      "model_module_version": "1.2.0",
      "model_name": "DescriptionStyleModel",
      "state": {
       "description_width": ""
      }
     },
     "af70af434bc9431d86af759864a3265d": {
      "model_module": "@jupyter-widgets/base",
      "model_module_version": "1.0.0",
      "model_name": "LayoutModel",
      "state": {}
     },
     "afaef695b4f84a9ba5b3a032d0002d6a": {
      "model_module": "@jupyter-widgets/controls",
      "model_module_version": "1.2.0",
      "model_name": "FloatTextModel",
      "state": {
       "description": "max.",
       "layout": "IPY_MODEL_bd1cc151eca24bbcb96a7671dcc39bda",
       "step": 0.1,
       "style": "IPY_MODEL_f5e5284b9f6043f9be08bc62e6dc4550",
       "value": 2
      }
     },
     "afd8f7afc04843c29bffdb3506bacc65": {
      "model_module": "@jupyter-widgets/controls",
      "model_module_version": "1.2.0",
      "model_name": "ButtonStyleModel",
      "state": {}
     },
     "b0276e39446a4fa1a4730e98a1c01134": {
      "model_module": "@jupyter-widgets/base",
      "model_module_version": "1.0.0",
      "model_name": "LayoutModel",
      "state": {}
     },
     "b0548108bf3e474497118511fe530bc2": {
      "model_module": "@jupyter-widgets/controls",
      "model_module_version": "1.2.0",
      "model_name": "LabelModel",
      "state": {
       "layout": "IPY_MODEL_3b6207d8c3734ff4a52804ea21713787",
       "style": "IPY_MODEL_31d34257a2ee401792e9a3e78ae01804",
       "value": "Locating sensor-H57/cells-01_SAv-100k_SSS-H57-20k_000_.SPE (1/213)"
      }
     },
     "b0a36d5dd029428f8cc9b3cd853c1150": {
      "model_module": "@jupyter-widgets/controls",
      "model_module_version": "1.2.0",
      "model_name": "ButtonModel",
      "state": {
       "description": "Auto",
       "layout": "IPY_MODEL_c46bff04e59e428ab26ff8f5898b4277",
       "style": "IPY_MODEL_b64b2a850a8548d383e5d93c5c00ba3c"
      }
     },
     "b0ad7d4c9d6044dbbfe153dfafc6f50d": {
      "model_module": "@jupyter-widgets/controls",
      "model_module_version": "1.2.0",
      "model_name": "DescriptionStyleModel",
      "state": {
       "description_width": ""
      }
     },
     "b0cd287641f84a2a9d05a74793931579": {
      "model_module": "@jupyter-widgets/base",
      "model_module_version": "1.0.0",
      "model_name": "LayoutModel",
      "state": {
       "display": "none"
      }
     },
     "b0ef45ddc9b64ae4b529c290407ec1f0": {
      "model_module": "@jupyter-widgets/controls",
      "model_module_version": "1.2.0",
      "model_name": "VBoxModel",
      "state": {
       "children": [
        "IPY_MODEL_336b38e4ea08432b992707580e7d2533",
        "IPY_MODEL_ad7c1958d6964ab58ec5e260e9d13ef0",
        "IPY_MODEL_f929a9aa1d494f3a8c566832e123b363"
       ],
       "layout": "IPY_MODEL_b0ff7ca2223747d98d4f405008951732"
      }
     },
     "b0ff7ca2223747d98d4f405008951732": {
      "model_module": "@jupyter-widgets/base",
      "model_module_version": "1.0.0",
      "model_name": "LayoutModel",
      "state": {
       "border": "1px solid gray"
      }
     },
     "b119cccce6db485a8e1605a68bb63731": {
      "model_module": "@jupyter-widgets/controls",
      "model_module_version": "1.2.0",
      "model_name": "ButtonModel",
      "state": {
       "description": "Auto",
       "layout": "IPY_MODEL_3a5f65ba7775490d93465572747b1696",
       "style": "IPY_MODEL_f5701a9022c04a45b9a0a14f05bef641"
      }
     },
     "b127d2a3cc3541b78a417709177e71a4": {
      "model_module": "@jupyter-widgets/base",
      "model_module_version": "1.0.0",
      "model_name": "LayoutModel",
      "state": {
       "width": "auto"
      }
     },
     "b1310b209e714acd9df2b8ec60946b3c": {
      "model_module": "@jupyter-widgets/controls",
      "model_module_version": "1.2.0",
      "model_name": "DescriptionStyleModel",
      "state": {
       "description_width": ""
      }
     },
     "b147a80af23a4223aacd3ed579ee9f5e": {
      "model_module": "@jupyter-widgets/controls",
      "model_module_version": "1.2.0",
      "model_name": "VBoxModel",
      "state": {
       "children": [
        "IPY_MODEL_8ff9e205eed647399c279ffee532336f",
        "IPY_MODEL_4b594de80bf942c586a34574b8757370",
        "IPY_MODEL_cbbf4f3774dd4928a04f102af72f0867"
       ],
       "layout": "IPY_MODEL_8fdb88a13c5d4aaa8ea7127d2a7dbebf"
      }
     },
     "b15e46d5fa8e48069163d3f58c7cd47d": {
      "model_module": "@jupyter-widgets/controls",
      "model_module_version": "1.2.0",
      "model_name": "DescriptionStyleModel",
      "state": {
       "description_width": ""
      }
     },
     "b16d9594fe5a47168157f57fb07b841f": {
      "model_module": "@jupyter-widgets/controls",
      "model_module_version": "1.2.0",
      "model_name": "LabelModel",
      "state": {
       "layout": "IPY_MODEL_fe7aa9ae9108443ebd19cd104096ac50",
       "style": "IPY_MODEL_166ed19e9e3f4f61ab800553362c811b",
       "value": "Calculating FRET values ctrl-H57/no-cells_SAv-100k_SSS-ctrl-H57-50k_029_.SPE (213/213)"
      }
     },
     "b16e5eb0bf554c65b74a24feb96709a8": {
      "model_module": "@jupyter-widgets/base",
      "model_module_version": "1.0.0",
      "model_name": "LayoutModel",
      "state": {
       "width": "auto"
      }
     },
     "b1cf244382884cc7b7b60059c2176e36": {
      "model_module": "@jupyter-widgets/base",
      "model_module_version": "1.0.0",
      "model_name": "LayoutModel",
      "state": {}
     },
     "b1da71adf5fc4a4fb2dc775a70522d5e": {
      "model_module": "@jupyter-widgets/base",
      "model_module_version": "1.0.0",
      "model_name": "LayoutModel",
      "state": {
       "display": "none"
      }
     },
     "b22e372906214ee5bb3d1007a4ccbdd6": {
      "model_module": "@jupyter-widgets/controls",
      "model_module_version": "1.2.0",
      "model_name": "ButtonStyleModel",
      "state": {}
     },
     "b2612d3edbcd4dbc816deb8b13184772": {
      "model_module": "@jupyter-widgets/controls",
      "model_module_version": "1.2.0",
      "model_name": "IntTextModel",
      "state": {
       "description": "feat. size",
       "layout": "IPY_MODEL_6ebd9a8a594d41a18e119a98e72d73f9",
       "step": 1,
       "style": "IPY_MODEL_587b53fefa6e4d2091b15dd062869166",
       "value": 3
      }
     },
     "b26ee276cb3c4481a643c8532024f3ee": {
      "model_module": "@jupyter-widgets/controls",
      "model_module_version": "1.2.0",
      "model_name": "FloatTextModel",
      "state": {
       "description": "max.",
       "layout": "IPY_MODEL_28c191d302554977ae914cef8a33edc7",
       "step": 0.1,
       "style": "IPY_MODEL_6e0089000016448c8f05fa717b1d05a3",
       "value": 2
      }
     },
     "b2c338fba7c1448fab4e5e40f1bb83ea": {
      "model_module": "@jupyter-widgets/base",
      "model_module_version": "1.0.0",
      "model_name": "LayoutModel",
      "state": {}
     },
     "b2cb2318eb49493fb159ab40adfc4cc8": {
      "model_module": "@jupyter-widgets/base",
      "model_module_version": "1.0.0",
      "model_name": "LayoutModel",
      "state": {
       "display": "flex",
       "flex_flow": "column wrap",
       "width": "66%"
      }
     },
     "b2d2c403c2e54fc990e91655a19871f4": {
      "model_module": "@jupyter-widgets/base",
      "model_module_version": "1.0.0",
      "model_name": "LayoutModel",
      "state": {}
     },
     "b2d702bc464b437fa34a4c0765de09df": {
      "model_module": "@jupyter-widgets/base",
      "model_module_version": "1.0.0",
      "model_name": "LayoutModel",
      "state": {}
     },
     "b304b4607fc342b6b848e390fe8bdfd8": {
      "model_module": "@jupyter-widgets/controls",
      "model_module_version": "1.2.0",
      "model_name": "CheckboxModel",
      "state": {
       "description": "Min. distance",
       "disabled": false,
       "indent": false,
       "layout": "IPY_MODEL_3c97b874e3e548b392390d99e542d906",
       "style": "IPY_MODEL_6e56e4b4661d44b4a335ef6bb224b175",
       "value": true
      }
     },
     "b32d337b3b204c9daa108c4ff6af626e": {
      "model_module": "@jupyter-widgets/controls",
      "model_module_version": "1.2.0",
      "model_name": "FloatTextModel",
      "state": {
       "layout": "IPY_MODEL_19e4bbee2e614bc4ba7402ecedaa8c61",
       "step": 0.1,
       "style": "IPY_MODEL_7a3d482483a6445d88c73d2a846f9824",
       "value": 3
      }
     },
     "b35b27dd9202476c85780724d1ef6978": {
      "model_module": "@jupyter-widgets/controls",
      "model_module_version": "1.2.0",
      "model_name": "HBoxModel",
      "state": {
       "children": [
        "IPY_MODEL_3663842ab6404589b472521e2dad1bdc",
        "IPY_MODEL_ba88b9f7da7b42969d3652112931e030",
        "IPY_MODEL_55272d7030de4ae8b8e10c0fcde8e729"
       ],
       "layout": "IPY_MODEL_4c77f6dd91bb46839fb21e5396bb0407"
      }
     },
     "b373f55994874a9ca52d3dc07d8d2ec9": {
      "model_module": "@jupyter-widgets/controls",
      "model_module_version": "1.2.0",
      "model_name": "DropdownModel",
      "state": {
       "_options_labels": [
        "Identity",
        "Cg",
        "Gaussian"
       ],
       "description": "find filter",
       "index": 1,
       "layout": "IPY_MODEL_8c618bf667984e6dba7a977fab592393",
       "style": "IPY_MODEL_efc6cb4e8cab4a86ae2521db39ceb4ae"
      }
     },
     "b3783a79c33c4caa81c514a78a24b953": {
      "model_module": "@jupyter-widgets/base",
      "model_module_version": "1.0.0",
      "model_name": "LayoutModel",
      "state": {
       "display": "none"
      }
     },
     "b37d9881043c455989a88cdda902891a": {
      "model_module": "@jupyter-widgets/controls",
      "model_module_version": "1.2.0",
      "model_name": "CheckboxModel",
      "state": {
       "description": "Min. distance",
       "disabled": false,
       "indent": false,
       "layout": "IPY_MODEL_227e2ab8ee8d4793ad719eccc3e015cc",
       "style": "IPY_MODEL_26f739099bc54aa2a30e8f2c6418e19c",
       "value": true
      }
     },
     "b3b7103e5014420a93ef7594b418fbdc": {
      "model_module": "@jupyter-widgets/controls",
      "model_module_version": "1.2.0",
      "model_name": "BoundedIntTextModel",
      "state": {
       "description": "frame",
       "layout": "IPY_MODEL_cca5331b206349f9a6c10fcb99ebca57",
       "max": 0,
       "style": "IPY_MODEL_43536ff0d5a24e66973360c9f15580f4"
      }
     },
     "b3bde46cc7d249959ea5a5a0963d43dc": {
      "model_module": "@jupyter-widgets/controls",
      "model_module_version": "1.2.0",
      "model_name": "DescriptionStyleModel",
      "state": {
       "description_width": ""
      }
     },
     "b42cb741e4384022a1c36c41bd528502": {
      "model_module": "@jupyter-widgets/controls",
      "model_module_version": "1.2.0",
      "model_name": "DescriptionStyleModel",
      "state": {
       "description_width": ""
      }
     },
     "b44f50020b3f47899df9d43f22800286": {
      "model_module": "@jupyter-widgets/controls",
      "model_module_version": "1.2.0",
      "model_name": "DescriptionStyleModel",
      "state": {
       "description_width": ""
      }
     },
     "b452bb11186a4cf78f1e9b2d3fa131cb": {
      "model_module": "@jupyter-widgets/base",
      "model_module_version": "1.0.0",
      "model_name": "LayoutModel",
      "state": {}
     },
     "b4b87d2daf8d4354bc4aeded7bbb337a": {
      "model_module": "@jupyter-widgets/base",
      "model_module_version": "1.0.0",
      "model_name": "LayoutModel",
      "state": {
       "width": "auto"
      }
     },
     "b50f825c26224ace9d3e2473101c0652": {
      "model_module": "@jupyter-widgets/controls",
      "model_module_version": "1.2.0",
      "model_name": "HBoxModel",
      "state": {
       "children": [
        "IPY_MODEL_0018d2c8cdc24975953919ccc4a08340",
        "IPY_MODEL_b0a36d5dd029428f8cc9b3cd853c1150",
        "IPY_MODEL_8356a8afa94944eb825a6d03d33ca378"
       ],
       "layout": "IPY_MODEL_c78130ee7d2e4b719e24946c20c7c08a"
      }
     },
     "b5382e8e4a334e689f87ee8406f5b5a4": {
      "model_module": "@jupyter-widgets/controls",
      "model_module_version": "1.2.0",
      "model_name": "VBoxModel",
      "state": {
       "children": [
        "IPY_MODEL_772b179f43af4b2b865d04bb49f67aef",
        "IPY_MODEL_8ab3bf5637d24546a209820bd9d7806c"
       ],
       "layout": "IPY_MODEL_5ce0ca89fff74ff98c74dfb4db051a59"
      }
     },
     "b57dc1953e9a489ca39fe075f60fd3d1": {
      "model_module": "@jupyter-widgets/controls",
      "model_module_version": "1.2.0",
      "model_name": "FloatTextModel",
      "state": {
       "description": "radius",
       "layout": "IPY_MODEL_21e3f66ac5e84b76ade247bbee7d3a2e",
       "step": 0.1,
       "style": "IPY_MODEL_a90c2c8136e54153aa578afefecb3ab1",
       "value": 1
      }
     },
     "b58c8e2dcd0749fa99d7f25245da27a6": {
      "model_module": "@jupyter-widgets/controls",
      "model_module_version": "1.2.0",
      "model_name": "DescriptionStyleModel",
      "state": {
       "description_width": ""
      }
     },
     "b5b4c64f5cef49d2848c1cc638b21707": {
      "model_module": "@jupyter-widgets/controls",
      "model_module_version": "1.2.0",
      "model_name": "CheckboxModel",
      "state": {
       "description": "Show loc.",
       "disabled": false,
       "indent": false,
       "layout": "IPY_MODEL_86c9ec232b3e4bfbbe8fd140a5e6d5d3",
       "style": "IPY_MODEL_047b67ca52234b498d91b3ffeb8eca13",
       "value": true
      }
     },
     "b5cc62b6605a4e0da267d7b8f688c41c": {
      "model_module": "@jupyter-widgets/controls",
      "model_module_version": "1.2.0",
      "model_name": "DescriptionStyleModel",
      "state": {
       "description_width": ""
      }
     },
     "b5e64162ec114633ab2e395c4eb15d65": {
      "model_module": "@jupyter-widgets/base",
      "model_module_version": "1.0.0",
      "model_name": "LayoutModel",
      "state": {}
     },
     "b5eb7a59cbc243f9bc0d874649257b37": {
      "model_module": "@jupyter-widgets/base",
      "model_module_version": "1.0.0",
      "model_name": "LayoutModel",
      "state": {}
     },
     "b604c6fd56b54052a2ef2e4dc721225b": {
      "model_module": "@jupyter-widgets/controls",
      "model_module_version": "1.2.0",
      "model_name": "DescriptionStyleModel",
      "state": {
       "description_width": ""
      }
     },
     "b61fb761db744db38b5c72ab47e45def": {
      "model_module": "@jupyter-widgets/controls",
      "model_module_version": "1.2.0",
      "model_name": "HBoxModel",
      "state": {
       "children": [
        "IPY_MODEL_19e54e8518c447c6a57fc58c7d49c2ed",
        "IPY_MODEL_ebb31843612e4b4fb1f96750a22bf8a9"
       ],
       "layout": "IPY_MODEL_d0a9f7327ced408cb3b75e015b51cd4e"
      }
     },
     "b64b2a850a8548d383e5d93c5c00ba3c": {
      "model_module": "@jupyter-widgets/controls",
      "model_module_version": "1.2.0",
      "model_name": "ButtonStyleModel",
      "state": {}
     },
     "b652dfbfd4214265ae3872e3f49c3b2f": {
      "model_module": "@jupyter-widgets/controls",
      "model_module_version": "1.2.0",
      "model_name": "FloatTextModel",
      "state": {
       "description": "max.",
       "layout": "IPY_MODEL_fc80433e6cbb4660907789ce9b6c5583",
       "step": 0.1,
       "style": "IPY_MODEL_3b7d0dbaf2214570a98eb67de0b91a6f",
       "value": 2
      }
     },
     "b65b0c2916c34ab2981f5b32a3125ffd": {
      "model_module": "@jupyter-widgets/controls",
      "model_module_version": "1.2.0",
      "model_name": "DropdownModel",
      "state": {
       "_options_labels": [
        "Identity",
        "Cg",
        "Gaussian"
       ],
       "description": "find filter",
       "index": 1,
       "layout": "IPY_MODEL_7abeedd3279141b7bdec9c5c09ab7c9e",
       "style": "IPY_MODEL_7e1a9bca2032487a90f1a46296047b9c"
      }
     },
     "b6a004b7e5574931b253328f1ad72624": {
      "model_module": "@jupyter-widgets/base",
      "model_module_version": "1.0.0",
      "model_name": "LayoutModel",
      "state": {}
     },
     "b6b5ec2ac43143aba6ce332348eb4c85": {
      "model_module": "@jupyter-widgets/base",
      "model_module_version": "1.0.0",
      "model_name": "LayoutModel",
      "state": {}
     },
     "b6fe90eea41749a7bce3105c113eb223": {
      "model_module": "@jupyter-widgets/base",
      "model_module_version": "1.0.0",
      "model_name": "LayoutModel",
      "state": {}
     },
     "b7023a71516749418cd7b2acb31271a9": {
      "model_module": "@jupyter-widgets/base",
      "model_module_version": "1.0.0",
      "model_name": "LayoutModel",
      "state": {}
     },
     "b724a9b097eb4e71b1647452e5cbb443": {
      "model_module": "@jupyter-widgets/controls",
      "model_module_version": "1.2.0",
      "model_name": "DescriptionStyleModel",
      "state": {
       "description_width": ""
      }
     },
     "b74b4eaa76f44ed9a4ce52c21cca5318": {
      "model_module": "@jupyter-widgets/controls",
      "model_module_version": "1.2.0",
      "model_name": "DescriptionStyleModel",
      "state": {
       "description_width": ""
      }
     },
     "b779a4a37c6a4f399fb21a145bd6c38d": {
      "model_module": "@jupyter-widgets/base",
      "model_module_version": "1.0.0",
      "model_name": "LayoutModel",
      "state": {
       "border": "1px solid gray"
      }
     },
     "b7be599876324851838edcbef4a6ffcb": {
      "model_module": "@jupyter-widgets/controls",
      "model_module_version": "1.2.0",
      "model_name": "DescriptionStyleModel",
      "state": {
       "description_width": ""
      }
     },
     "b80d9fa544a9403f812443b83f778e0b": {
      "model_module": "@jupyter-widgets/controls",
      "model_module_version": "1.2.0",
      "model_name": "DropdownModel",
      "state": {
       "_options_labels": [
        "2d_fixed",
        "2d",
        "3d"
       ],
       "description": "model",
       "index": 1,
       "layout": "IPY_MODEL_fd98c9302b7b4b3abbb89b28387d4e6c",
       "style": "IPY_MODEL_d38c2650916a4a689d6ef7c0cef83dc4"
      }
     },
     "b82779e5259840ff900ea767f35db084": {
      "model_module": "@jupyter-widgets/base",
      "model_module_version": "1.0.0",
      "model_name": "LayoutModel",
      "state": {
       "display": "none"
      }
     },
     "b835c5938556463d920bf178b1a8a77c": {
      "model_module": "@jupyter-widgets/controls",
      "model_module_version": "1.2.0",
      "model_name": "DescriptionStyleModel",
      "state": {
       "description_width": ""
      }
     },
     "b855b6287cc040bc9e1b3ef584ff3795": {
      "model_module": "@jupyter-widgets/controls",
      "model_module_version": "1.2.0",
      "model_name": "FloatTextModel",
      "state": {
       "description": "min.",
       "layout": "IPY_MODEL_e761c5db4766467895ca2f34b0e4a0da",
       "step": 0.1,
       "style": "IPY_MODEL_358b3eb253e04bf2a0db36e0448d9957",
       "value": 0.5
      }
     },
     "b88e8f7039e3448daf04fdfbbd09bfa0": {
      "model_module": "@jupyter-widgets/base",
      "model_module_version": "1.0.0",
      "model_name": "LayoutModel",
      "state": {
       "display": "none"
      }
     },
     "b8bf6710a4c94d7b87427476ccb92d04": {
      "model_module": "@jupyter-widgets/controls",
      "model_module_version": "1.2.0",
      "model_name": "DescriptionStyleModel",
      "state": {
       "description_width": ""
      }
     },
     "b8ea3b7b0dca4273866f1b5b92cca58b": {
      "model_module": "@jupyter-widgets/controls",
      "model_module_version": "1.2.0",
      "model_name": "DescriptionStyleModel",
      "state": {
       "description_width": ""
      }
     },
     "b96ba1d49c2045b4a31929bea958a44d": {
      "model_module": "@jupyter-widgets/controls",
      "model_module_version": "1.2.0",
      "model_name": "DescriptionStyleModel",
      "state": {
       "description_width": ""
      }
     },
     "b97477e6a04949cb99a424a06ac29b0d": {
      "model_module": "@jupyter-widgets/controls",
      "model_module_version": "1.2.0",
      "model_name": "DropdownModel",
      "state": {
       "_options_labels": [
        "Identity",
        "Cg",
        "Gaussian"
       ],
       "description": "find filter",
       "index": 1,
       "layout": "IPY_MODEL_4e9b38d94f214dffa4299200cd9f0d37",
       "style": "IPY_MODEL_dad3538d532141688f011f43545d73aa"
      }
     },
     "b9c3b9812bdb47468e36ab1cba60367c": {
      "model_module": "@jupyter-widgets/controls",
      "model_module_version": "1.2.0",
      "model_name": "SelectModel",
      "state": {
       "_options_labels": [
        "data/beads/beads_000_.SPE",
        "data/beads/beads_001_.SPE",
        "data/beads/beads_002_.SPE",
        "data/beads/beads_003_.SPE",
        "data/beads/beads_004_.SPE",
        "data/beads/beads_005_.SPE",
        "data/beads/beads_006_.SPE",
        "data/beads/beads_007_.SPE",
        "data/beads/beads_008_.SPE",
        "data/beads/beads_009_.SPE"
       ],
       "index": 0,
       "layout": "IPY_MODEL_f4d925586cb5456aaa0898a766e65d87",
       "style": "IPY_MODEL_bd2658b84fad45d5b8c6778b5860642c"
      }
     },
     "b9cbd436c2e04d47a81f8ef4f91f7582": {
      "model_module": "@jupyter-widgets/base",
      "model_module_version": "1.0.0",
      "model_name": "LayoutModel",
      "state": {}
     },
     "b9d61e8c852c46c0ae27e1f2932f1f1c": {
      "model_module": "@jupyter-widgets/controls",
      "model_module_version": "1.2.0",
      "model_name": "HBoxModel",
      "state": {
       "children": [
        "IPY_MODEL_2d00fffaf6f0433197e27cafa9c30d99",
        "IPY_MODEL_b32d337b3b204c9daa108c4ff6af626e"
       ],
       "layout": "IPY_MODEL_b6b5ec2ac43143aba6ce332348eb4c85"
      }
     },
     "ba08a73ea0dd4a3d82ca9fb760ae89a9": {
      "model_module": "@jupyter-widgets/base",
      "model_module_version": "1.0.0",
      "model_name": "LayoutModel",
      "state": {
       "width": "100%"
      }
     },
     "ba32f52a09ba4be0a15c783a0684960d": {
      "model_module": "@jupyter-widgets/controls",
      "model_module_version": "1.2.0",
      "model_name": "DescriptionStyleModel",
      "state": {
       "description_width": ""
      }
     },
     "ba4b38a72c384dad96d19ead478c0aba": {
      "model_module": "@jupyter-widgets/base",
      "model_module_version": "1.0.0",
      "model_name": "LayoutModel",
      "state": {
       "width": "75%"
      }
     },
     "ba6a6ecec4be4859bb469f698578e451": {
      "model_module": "@jupyter-widgets/controls",
      "model_module_version": "1.2.0",
      "model_name": "DropdownModel",
      "state": {
       "_options_labels": [
        "Identity",
        "Cg",
        "Gaussian"
       ],
       "description": "find filter",
       "index": 0,
       "layout": "IPY_MODEL_5b4c982706bd4240a5f71a5464d607e3",
       "style": "IPY_MODEL_a40f15a73d6e4d00bb1f193a2595e695"
      }
     },
     "ba88b9f7da7b42969d3652112931e030": {
      "model_module": "@jupyter-widgets/controls",
      "model_module_version": "1.2.0",
      "model_name": "ButtonModel",
      "state": {
       "description": "Auto",
       "layout": "IPY_MODEL_0861d974a75343e6ad8cf9bb30904b63",
       "style": "IPY_MODEL_45a97c7bfdde493ab1761063e56f09de"
      }
     },
     "ba9317bcc582450e8dfd0a9089f6527a": {
      "model_module": "@jupyter-widgets/controls",
      "model_module_version": "1.2.0",
      "model_name": "FloatTextModel",
      "state": {
       "description": "radius",
       "layout": "IPY_MODEL_69c49179c0774ba98959a23ea0b81c8a",
       "step": 0.1,
       "style": "IPY_MODEL_3761dc572846486f8ca53e123fbe0f0f",
       "value": 1
      }
     },
     "bac1451325334616913ac648bdb007ff": {
      "model_module": "@jupyter-widgets/controls",
      "model_module_version": "1.2.0",
      "model_name": "CheckboxModel",
      "state": {
       "description": "Size range",
       "disabled": false,
       "indent": false,
       "layout": "IPY_MODEL_25b3ace3c419458dae29cd6b98c93d8a",
       "style": "IPY_MODEL_789824ebdafe4a8697df288cd17ebbb9",
       "value": false
      }
     },
     "baf972ed6604436caea88a93149e1b79": {
      "model_module": "@jupyter-widgets/controls",
      "model_module_version": "1.2.0",
      "model_name": "VBoxModel",
      "state": {
       "children": [
        "IPY_MODEL_7f4b4f3d85e34deeb1ea4774d8aefa66",
        "IPY_MODEL_d03f9cd65f624aa1b3062d444534c742",
        "IPY_MODEL_bb25961a7b1a4de99717342b4d717dd2"
       ],
       "layout": "IPY_MODEL_e443c838649f4033956e752b74c810a0"
      }
     },
     "bb25961a7b1a4de99717342b4d717dd2": {
      "model_module": "@jupyter-widgets/controls",
      "model_module_version": "1.2.0",
      "model_name": "FloatTextModel",
      "state": {
       "description": "max.",
       "layout": "IPY_MODEL_b82779e5259840ff900ea767f35db084",
       "step": 0.1,
       "style": "IPY_MODEL_24f9aca8649f438e8f190b3fb6de6a2a",
       "value": 2
      }
     },
     "bb271e1802df495589914f40f18a32f8": {
      "model_module": "@jupyter-widgets/base",
      "model_module_version": "1.0.0",
      "model_name": "LayoutModel",
      "state": {
       "width": "auto"
      }
     },
     "bb604ae06bca40698a9fcf491bc9deab": {
      "model_module": "@jupyter-widgets/controls",
      "model_module_version": "1.2.0",
      "model_name": "DescriptionStyleModel",
      "state": {
       "description_width": ""
      }
     },
     "bbd7f68a391d421a992938952a90e1ec": {
      "model_module": "@jupyter-widgets/controls",
      "model_module_version": "1.2.0",
      "model_name": "LabelModel",
      "state": {
       "layout": "IPY_MODEL_49c8320dadf14967a9795101e0bd5512",
       "style": "IPY_MODEL_131d72ed5e92478eb026faf47c0daf88",
       "value": "Locating beads (file 9/10)"
      }
     },
     "bbfa607bfd6a4404b67fb4e05e5b41f0": {
      "model_module": "@jupyter-widgets/base",
      "model_module_version": "1.0.0",
      "model_name": "LayoutModel",
      "state": {}
     },
     "bc632cbfdf9d4927a3f062368302e1a6": {
      "model_module": "@jupyter-widgets/controls",
      "model_module_version": "1.2.0",
      "model_name": "DescriptionStyleModel",
      "state": {
       "description_width": ""
      }
     },
     "bc80a2902e974e47896e17c68df9abe2": {
      "model_module": "@jupyter-widgets/controls",
      "model_module_version": "1.2.0",
      "model_name": "FloatTextModel",
      "state": {
       "description": "sigma",
       "layout": "IPY_MODEL_d0925dc0e0ca4010b09c0028c21651f8",
       "step": 0.1,
       "style": "IPY_MODEL_795f3086492145fdaab5abf5b6f33fcf",
       "value": 1
      }
     },
     "bc8765e56b834e90964fd735b31f2ee0": {
      "model_module": "@jupyter-widgets/controls",
      "model_module_version": "1.2.0",
      "model_name": "HBoxModel",
      "state": {
       "children": [
        "IPY_MODEL_d735dba375544b108334d705a917ad42",
        "IPY_MODEL_9f5cec8de4394f3cb422e340329abbd4"
       ],
       "layout": "IPY_MODEL_6d9a4ac3d5f64015906cf9c1bc5687cd"
      }
     },
     "bc8d0036b27049a28229c5694daababe": {
      "model_module": "@jupyter-widgets/controls",
      "model_module_version": "1.2.0",
      "model_name": "DescriptionStyleModel",
      "state": {
       "description_width": ""
      }
     },
     "bce61fa1fd5a43f4886194936763e3ed": {
      "model_module": "@jupyter-widgets/base",
      "model_module_version": "1.0.0",
      "model_name": "LayoutModel",
      "state": {
       "display": "inline"
      }
     },
     "bce89a422b444942868646b14b761ac3": {
      "model_module": "@jupyter-widgets/base",
      "model_module_version": "1.0.0",
      "model_name": "LayoutModel",
      "state": {}
     },
     "bd1cc151eca24bbcb96a7671dcc39bda": {
      "model_module": "@jupyter-widgets/base",
      "model_module_version": "1.0.0",
      "model_name": "LayoutModel",
      "state": {
       "display": "none"
      }
     },
     "bd22c8a2345642818cdb6541030c13ac": {
      "model_module": "@jupyter-widgets/base",
      "model_module_version": "1.0.0",
      "model_name": "LayoutModel",
      "state": {
       "width": "75%"
      }
     },
     "bd2658b84fad45d5b8c6778b5860642c": {
      "model_module": "@jupyter-widgets/controls",
      "model_module_version": "1.2.0",
      "model_name": "DescriptionStyleModel",
      "state": {
       "description_width": ""
      }
     },
     "bd2af5b109eb499596c35b07c0e3869c": {
      "model_module": "@jupyter-widgets/controls",
      "model_module_version": "1.2.0",
      "model_name": "FloatTextModel",
      "state": {
       "description": "min.",
       "layout": "IPY_MODEL_f7e842be7c944fb69496cb31fbb38bec",
       "step": 0.1,
       "style": "IPY_MODEL_db82f6ed96e04ec180beeb0545306c8e",
       "value": 0.5
      }
     },
     "bd42a13e206240c8af39f2f3f7f56011": {
      "model_module": "@jupyter-widgets/controls",
      "model_module_version": "1.2.0",
      "model_name": "FloatTextModel",
      "state": {
       "description": "min.",
       "layout": "IPY_MODEL_fc4d7edd33564569a7c473aa2e8a8815",
       "step": 0.1,
       "style": "IPY_MODEL_7f68fd8890284cd78451354497414a02",
       "value": 0.5
      }
     },
     "bd81eb7a1afa4fbcbbd9822542efb5c3": {
      "model_module": "@jupyter-widgets/controls",
      "model_module_version": "1.2.0",
      "model_name": "CheckboxModel",
      "state": {
       "description": "Min. distance",
       "disabled": false,
       "indent": false,
       "layout": "IPY_MODEL_ff2f313871b44293895ec6b4604982c5",
       "style": "IPY_MODEL_3498c71ae10b40a4b58604efc7571bca",
       "value": false
      }
     },
     "bdd95c5267ef40069426a2ef7b620280": {
      "model_module": "@jupyter-widgets/controls",
      "model_module_version": "1.2.0",
      "model_name": "ButtonStyleModel",
      "state": {}
     },
     "bddeef8635e24bceafdda453f3f2e607": {
      "model_module": "@jupyter-widgets/controls",
      "model_module_version": "1.2.0",
      "model_name": "HBoxModel",
      "state": {
       "children": [
        "IPY_MODEL_204a0f3ab1ae479497beda405bcf1a5f",
        "IPY_MODEL_c9f372b0ab0d4fdda5533184e3b3146b"
       ],
       "layout": "IPY_MODEL_8c9cc2e6767c4ccbb3209f8c4a732d67"
      }
     },
     "be11f35f752d44c2ab2401edc51474f7": {
      "model_module": "@jupyter-widgets/controls",
      "model_module_version": "1.2.0",
      "model_name": "DescriptionStyleModel",
      "state": {
       "description_width": ""
      }
     },
     "be34a16d9dee4f9a9bd6a2dd669192be": {
      "model_module": "@jupyter-widgets/controls",
      "model_module_version": "1.2.0",
      "model_name": "DescriptionStyleModel",
      "state": {
       "description_width": ""
      }
     },
     "be3a0af7e882478dadfc26ac39e5fd12": {
      "model_module": "@jupyter-widgets/controls",
      "model_module_version": "1.2.0",
      "model_name": "IntTextModel",
      "state": {
       "description": "feat. size",
       "layout": "IPY_MODEL_f822a069710f437c95967f9f7684216d",
       "step": 1,
       "style": "IPY_MODEL_96506e07324c4510b46d91e7e827b24b",
       "value": 3
      }
     },
     "be6a59e5eb1a4e0ba562040a521833e5": {
      "model_module": "@jupyter-widgets/base",
      "model_module_version": "1.0.0",
      "model_name": "LayoutModel",
      "state": {}
     },
     "be961b89ce0a4149973cabf1c701a3d0": {
      "model_module": "@jupyter-widgets/base",
      "model_module_version": "1.0.0",
      "model_name": "LayoutModel",
      "state": {}
     },
     "bea4f44c38254f5da66178f0078b2e5b": {
      "model_module": "@jupyter-widgets/controls",
      "model_module_version": "1.2.0",
      "model_name": "DescriptionStyleModel",
      "state": {
       "description_width": ""
      }
     },
     "beadb326477547afa2bb70de10978a4d": {
      "model_module": "@jupyter-widgets/controls",
      "model_module_version": "1.2.0",
      "model_name": "VBoxModel",
      "state": {
       "children": [
        "IPY_MODEL_7d8707fd46d64a3c8c0031d3914e3f5f",
        "IPY_MODEL_1a7f60fb844840a79fe1bfc9d493b4d9",
        "IPY_MODEL_2bdc6286bc324446abeb806728914f9b",
        "IPY_MODEL_ab78fe67db564683aec5835c7ecaa972",
        "IPY_MODEL_6a858d8095174f94a3d6a44346aad751",
        "IPY_MODEL_2e5a7d571e3a46eb8df1918e46ef0e05"
       ],
       "layout": "IPY_MODEL_2be1c140067242058022433e037e7d46"
      }
     },
     "beb0446a9fe94320aefb2c66df80ab34": {
      "model_module": "@jupyter-widgets/base",
      "model_module_version": "1.0.0",
      "model_name": "LayoutModel",
      "state": {}
     },
     "bed8cb7bc5d240ed9659485bda8a0bb4": {
      "model_module": "@jupyter-widgets/controls",
      "model_module_version": "1.2.0",
      "model_name": "SelectModel",
      "state": {
       "_options_labels": [
        "sensor-H57/cells-01_SAv-100k_SSS-H57-20k_000_.SPE"
       ],
       "index": 0,
       "layout": "IPY_MODEL_24a26ed920a841b79ce1e40c95c04c75",
       "style": "IPY_MODEL_428c3ec84c5e4239baf70014d127047e"
      }
     },
     "beff15dfb8ff45bcaf2ebaacab8a2390": {
      "model_module": "@jupyter-widgets/controls",
      "model_module_version": "1.2.0",
      "model_name": "LabelModel",
      "state": {
       "layout": "IPY_MODEL_eb93cedbbc1a4dd899a9900ff44c55a5",
       "style": "IPY_MODEL_063a0a7144d44c968349e73ffdaafdfe",
       "value": "Tracking ctrl-H57/no-cells_SAv-100k_SSS-ctrl-H57-50k_029_.SPE (213/213)"
      }
     },
     "bf2692aeecb549829f7c3a5b5a006233": {
      "model_module": "@jupyter-widgets/base",
      "model_module_version": "1.0.0",
      "model_name": "LayoutModel",
      "state": {}
     },
     "bf3f8014db0a4ed6826e77c8d891e255": {
      "model_module": "@jupyter-widgets/base",
      "model_module_version": "1.0.0",
      "model_name": "LayoutModel",
      "state": {
       "display": "none"
      }
     },
     "bf3ff81513954d90b2eeaa52a708c72e": {
      "model_module": "@jupyter-widgets/controls",
      "model_module_version": "1.2.0",
      "model_name": "HBoxModel",
      "state": {
       "children": [
        "IPY_MODEL_564e84c78d7a42648e50327e3be7be4e",
        "IPY_MODEL_d09c9c8759db4d27b3f03851cedd0f87"
       ],
       "layout": "IPY_MODEL_28dc5f98ecd749c4aafd9e308637a0af"
      }
     },
     "bf65372f5d3047ebb15da62caa1c4521": {
      "model_module": "@jupyter-widgets/controls",
      "model_module_version": "1.2.0",
      "model_name": "DescriptionStyleModel",
      "state": {
       "description_width": ""
      }
     },
     "bfab9ba562884a3e81d2e2b4af74b31d": {
      "model_module": "@jupyter-widgets/controls",
      "model_module_version": "1.2.0",
      "model_name": "DropdownModel",
      "state": {
       "_options_labels": [
        "Identity",
        "Cg",
        "Gaussian"
       ],
       "description": "find filter",
       "index": 1,
       "layout": "IPY_MODEL_4ed19061fd9542a1b606cf50a950529f",
       "style": "IPY_MODEL_632863c5ef4740a3a8fa5303d98054f5"
      }
     },
     "bfec349152fa4833b470d8ec1259aab1": {
      "model_module": "@jupyter-widgets/base",
      "model_module_version": "1.0.0",
      "model_name": "LayoutModel",
      "state": {}
     },
     "c02e2719552f4f6f8a7163d508f464e5": {
      "model_module": "@jupyter-widgets/controls",
      "model_module_version": "1.2.0",
      "model_name": "FloatTextModel",
      "state": {
       "description": "threshold",
       "layout": "IPY_MODEL_b0276e39446a4fa1a4730e98a1c01134",
       "step": 10,
       "style": "IPY_MODEL_a93b0a99d293436297cf9bc57e0df4a6",
       "value": 80
      }
     },
     "c05d01372e25444d88e67353b0dceba0": {
      "model_module": "@jupyter-widgets/base",
      "model_module_version": "1.0.0",
      "model_name": "LayoutModel",
      "state": {}
     },
     "c06cf69ddada43d0ab1f18c8c3045aa7": {
      "model_module": "@jupyter-widgets/controls",
      "model_module_version": "1.2.0",
      "model_name": "DescriptionStyleModel",
      "state": {
       "description_width": ""
      }
     },
     "c0c6fbf615274e70adf571485cf9d79d": {
      "model_module": "@jupyter-widgets/base",
      "model_module_version": "1.0.0",
      "model_name": "LayoutModel",
      "state": {
       "display": "flex",
       "flex_flow": "column wrap",
       "width": "66%"
      }
     },
     "c0cb02d39b9b41a9a00970f9fd86b677": {
      "model_module": "@jupyter-widgets/base",
      "model_module_version": "1.0.0",
      "model_name": "LayoutModel",
      "state": {}
     },
     "c0d5b515691a4f1bb53ebd8f89b9dd30": {
      "model_module": "@jupyter-widgets/base",
      "model_module_version": "1.0.0",
      "model_name": "LayoutModel",
      "state": {}
     },
     "c10ac3a630a244a48c1c28ae64614898": {
      "model_module": "@jupyter-widgets/controls",
      "model_module_version": "1.2.0",
      "model_name": "IntRangeSliderModel",
      "state": {
       "_model_name": "IntRangeSliderModel",
       "_view_name": "IntRangeSliderView",
       "layout": "IPY_MODEL_5e983447fe54437d9c0af3899af33f20",
       "max": 65535,
       "style": "IPY_MODEL_cd8ac3be2fdd48b181b57c15faf5cb6a",
       "value": [
        134,
        25393
       ]
      }
     },
     "c13c87d8a61b400294b808a93d1b5eec": {
      "model_module": "@jupyter-widgets/controls",
      "model_module_version": "1.2.0",
      "model_name": "SelectModel",
      "state": {
       "_options_labels": [
        "data/beads/beads_000_.SPE",
        "data/beads/beads_001_.SPE",
        "data/beads/beads_002_.SPE",
        "data/beads/beads_003_.SPE",
        "data/beads/beads_004_.SPE",
        "data/beads/beads_005_.SPE",
        "data/beads/beads_006_.SPE",
        "data/beads/beads_007_.SPE",
        "data/beads/beads_008_.SPE",
        "data/beads/beads_009_.SPE"
       ],
       "index": 0,
       "layout": "IPY_MODEL_f29de83593364a6189ab59bcbb2c320b",
       "style": "IPY_MODEL_9df44ccbe9d64083b3a5dcdfa81c50fc"
      }
     },
     "c1a95db583ea40a8bd5289f44bcfe4db": {
      "model_module": "@jupyter-widgets/base",
      "model_module_version": "1.0.0",
      "model_name": "LayoutModel",
      "state": {
       "width": "auto"
      }
     },
     "c1d97af4af07498cae7d5b1c4be5295c": {
      "model_module": "@jupyter-widgets/controls",
      "model_module_version": "1.2.0",
      "model_name": "DescriptionStyleModel",
      "state": {
       "description_width": ""
      }
     },
     "c1efcae4c8094bcfaffe2b2e7f27bf45": {
      "model_module": "@jupyter-widgets/base",
      "model_module_version": "1.0.0",
      "model_name": "LayoutModel",
      "state": {
       "display": "inline"
      }
     },
     "c1f3b65adfd44722b49ea4a4ff69c29f": {
      "model_module": "@jupyter-widgets/controls",
      "model_module_version": "1.2.0",
      "model_name": "DescriptionStyleModel",
      "state": {
       "description_width": ""
      }
     },
     "c211590667d94e1ba903d9bb41556f7f": {
      "model_module": "@jupyter-widgets/base",
      "model_module_version": "1.0.0",
      "model_name": "LayoutModel",
      "state": {
       "width": "auto"
      }
     },
     "c22b5f9b02324eb09eefa0fc3f053283": {
      "model_module": "@jupyter-widgets/controls",
      "model_module_version": "1.2.0",
      "model_name": "VBoxModel",
      "state": {
       "children": [
        "IPY_MODEL_5c401ea5da0d4848be95abb0540b7161",
        "IPY_MODEL_8eb933fcf2094529bcfaa1d445261b92",
        "IPY_MODEL_18cf4394760945b48cbef11a18c60810"
       ],
       "layout": "IPY_MODEL_1753f17a9cd74bb9be12223d1a6173b3"
      }
     },
     "c230cc0668ed41d99de71598ded8c06c": {
      "model_module": "@jupyter-widgets/controls",
      "model_module_version": "1.2.0",
      "model_name": "DescriptionStyleModel",
      "state": {
       "description_width": ""
      }
     },
     "c265d3f7ada04e2e84dee92b602bca76": {
      "model_module": "@jupyter-widgets/controls",
      "model_module_version": "1.2.0",
      "model_name": "DescriptionStyleModel",
      "state": {
       "description_width": ""
      }
     },
     "c2a65a1077bf4b1c9b3ba8ffd3359b39": {
      "model_module": "@jupyter-widgets/base",
      "model_module_version": "1.0.0",
      "model_name": "LayoutModel",
      "state": {
       "display": "none"
      }
     },
     "c32e96aa935a4d6ea9606f2f464dd04c": {
      "model_module": "@jupyter-widgets/controls",
      "model_module_version": "1.2.0",
      "model_name": "LabelModel",
      "state": {
       "layout": "IPY_MODEL_676fe8fb0afc4b668410ab402d1ad0ba",
       "style": "IPY_MODEL_cd9fb810d7d545a28ff6305a502a3ac9",
       "value": "Locating beads (file 10/10)"
      }
     },
     "c35106bfaa0941c6b210074ade26615e": {
      "model_module": "@jupyter-widgets/base",
      "model_module_version": "1.0.0",
      "model_name": "LayoutModel",
      "state": {
       "width": "auto"
      }
     },
     "c37a86f18d434de481acc8f8c3e59e8c": {
      "model_module": "@jupyter-widgets/controls",
      "model_module_version": "1.2.0",
      "model_name": "DescriptionStyleModel",
      "state": {
       "description_width": ""
      }
     },
     "c3cef7fe114b456782edabca88e03ff7": {
      "model_module": "@jupyter-widgets/controls",
      "model_module_version": "1.2.0",
      "model_name": "FloatTextModel",
      "state": {
       "description": "max.",
       "layout": "IPY_MODEL_c46e9b9cc80e4f7aac5ecd0e944de969",
       "step": 0.1,
       "style": "IPY_MODEL_f2bd6ab3067c4d40a222a12115b3f9b8",
       "value": 2
      }
     },
     "c3d8f89ab77d429f888f97aaa68c08bc": {
      "model_module": "@jupyter-widgets/controls",
      "model_module_version": "1.2.0",
      "model_name": "DescriptionStyleModel",
      "state": {
       "description_width": ""
      }
     },
     "c4653ddb5cb94a6c934669e33210cd7a": {
      "model_module": "@jupyter-widgets/base",
      "model_module_version": "1.0.0",
      "model_name": "LayoutModel",
      "state": {}
     },
     "c46874c368de438694b59a5b5b8ea525": {
      "model_module": "@jupyter-widgets/controls",
      "model_module_version": "1.2.0",
      "model_name": "DescriptionStyleModel",
      "state": {
       "description_width": ""
      }
     },
     "c46bff04e59e428ab26ff8f5898b4277": {
      "model_module": "@jupyter-widgets/base",
      "model_module_version": "1.0.0",
      "model_name": "LayoutModel",
      "state": {}
     },
     "c46e9b9cc80e4f7aac5ecd0e944de969": {
      "model_module": "@jupyter-widgets/base",
      "model_module_version": "1.0.0",
      "model_name": "LayoutModel",
      "state": {
       "display": "none"
      }
     },
     "c4865af8e5dd49cd8f5d7afa13b14e00": {
      "model_module": "@jupyter-widgets/base",
      "model_module_version": "1.0.0",
      "model_name": "LayoutModel",
      "state": {}
     },
     "c4a58ea60bdf4b0caf83c160414e7aef": {
      "model_module": "@jupyter-widgets/controls",
      "model_module_version": "1.2.0",
      "model_name": "DescriptionStyleModel",
      "state": {
       "description_width": ""
      }
     },
     "c4de4d48993e40d28053ddf2b8098a13": {
      "model_module": "@jupyter-widgets/controls",
      "model_module_version": "1.2.0",
      "model_name": "DescriptionStyleModel",
      "state": {
       "description_width": ""
      }
     },
     "c523bab02603413d9c264d7487782c42": {
      "model_module": "@jupyter-widgets/controls",
      "model_module_version": "1.2.0",
      "model_name": "DescriptionStyleModel",
      "state": {
       "description_width": ""
      }
     },
     "c54deae8c71e4325b7202a96264e416b": {
      "model_module": "@jupyter-widgets/controls",
      "model_module_version": "1.2.0",
      "model_name": "DescriptionStyleModel",
      "state": {
       "description_width": ""
      }
     },
     "c5656558055948b2a4fa9d3f966364fa": {
      "model_module": "@jupyter-widgets/base",
      "model_module_version": "1.0.0",
      "model_name": "LayoutModel",
      "state": {}
     },
     "c57d74a3f1f74f49b351cce658a8ba60": {
      "model_module": "@jupyter-widgets/controls",
      "model_module_version": "1.2.0",
      "model_name": "HBoxModel",
      "state": {
       "children": [
        "IPY_MODEL_f615b949df694769bd5bf0199b1c7302",
        "IPY_MODEL_d997084149b24a16adf3ec0089df3b87"
       ],
       "layout": "IPY_MODEL_fd298f088b594c4bb584486154f5f2ad"
      }
     },
     "c5a09fe99ce7403da8ed57fba46e3dd0": {
      "model_module": "@jupyter-widgets/base",
      "model_module_version": "1.0.0",
      "model_name": "LayoutModel",
      "state": {}
     },
     "c62c2c99ee194cfaa7e1b15115dca277": {
      "model_module": "@jupyter-widgets/base",
      "model_module_version": "1.0.0",
      "model_name": "LayoutModel",
      "state": {
       "width": "auto"
      }
     },
     "c65c0211461f4256825de855d1499e54": {
      "model_module": "@jupyter-widgets/base",
      "model_module_version": "1.0.0",
      "model_name": "LayoutModel",
      "state": {
       "display": "inline"
      }
     },
     "c6a9fc6e0e6a4098995eb4a9aafbd685": {
      "model_module": "@jupyter-widgets/controls",
      "model_module_version": "1.2.0",
      "model_name": "FloatTextModel",
      "state": {
       "description": "sigma",
       "layout": "IPY_MODEL_5cd611847aa444c08a1fca2c7acaffd1",
       "step": 0.1,
       "style": "IPY_MODEL_8d75a98fccc24a73858cf40373ff49b1",
       "value": 1
      }
     },
     "c6ad2c66e23145308004adb901174003": {
      "model_module": "@jupyter-widgets/controls",
      "model_module_version": "1.2.0",
      "model_name": "VBoxModel",
      "state": {
       "children": [
        "IPY_MODEL_8fb1f61f7e624f7285afd816a6b4a06e",
        "IPY_MODEL_94aeddc830d34daaa6518c6373b3ad59"
       ],
       "layout": "IPY_MODEL_d1454b9d7e1e4968bcd840c451e5d9dc"
      }
     },
     "c6b5a2c35ab346b5939abbc473b6e036": {
      "model_module": "@jupyter-widgets/controls",
      "model_module_version": "1.2.0",
      "model_name": "CheckboxModel",
      "state": {
       "description": "Min. distance",
       "disabled": false,
       "indent": false,
       "layout": "IPY_MODEL_1e467e9b04f54ce2b7589198a94d15e8",
       "style": "IPY_MODEL_a0ee102307534b91900803088036a2c9",
       "value": true
      }
     },
     "c6d09daedaea403d98880210d954b884": {
      "model_module": "@jupyter-widgets/controls",
      "model_module_version": "1.2.0",
      "model_name": "LabelModel",
      "state": {
       "layout": "IPY_MODEL_e4cfcf0e648d475b8b59be966b465866",
       "style": "IPY_MODEL_252624c1b8bc45849aea2df3c599d2bc",
       "value": "Locating ctrl-H57/no-cells_SAv-100k_SSS-ctrl-H57-50k_029_.SPE (213/213)"
      }
     },
     "c76a669be50c46c1b514303101b0de0e": {
      "model_module": "@jupyter-widgets/controls",
      "model_module_version": "1.2.0",
      "model_name": "ButtonModel",
      "state": {
       "description": "Auto",
       "layout": "IPY_MODEL_0ecb2e4660f94784a1958fd57ec03801",
       "style": "IPY_MODEL_411a5b6f2fc54b669513f2747391d2b9"
      }
     },
     "c78130ee7d2e4b719e24946c20c7c08a": {
      "model_module": "@jupyter-widgets/base",
      "model_module_version": "1.0.0",
      "model_name": "LayoutModel",
      "state": {
       "width": "100%"
      }
     },
     "c7950bb3cfa846749605076ebf8fe9e6": {
      "model_module": "@jupyter-widgets/controls",
      "model_module_version": "1.2.0",
      "model_name": "DropdownModel",
      "state": {
       "_options_labels": [
        "2d_fixed",
        "2d",
        "3d"
       ],
       "description": "model",
       "index": 1,
       "layout": "IPY_MODEL_a9344fbbc27443ecac484dfacd381265",
       "style": "IPY_MODEL_ba32f52a09ba4be0a15c783a0684960d"
      }
     },
     "c7f22f717eeb42bd80361959c8d73485": {
      "model_module": "@jupyter-widgets/controls",
      "model_module_version": "1.2.0",
      "model_name": "HBoxModel",
      "state": {
       "children": [
        "IPY_MODEL_cea55a99c8414b838bb94c3bd451ee4f",
        "IPY_MODEL_5b832b17194f4626b304f362d82d3a97"
       ],
       "layout": "IPY_MODEL_07322f2872994b62a67e3ecc71961d7c"
      }
     },
     "c7f978a7f5324b149511e9b27eebaeec": {
      "model_module": "@jupyter-widgets/controls",
      "model_module_version": "1.2.0",
      "model_name": "FloatTextModel",
      "state": {
       "description": "sigma",
       "layout": "IPY_MODEL_9488c92fc19e478491c10ae5c8ac6ad4",
       "step": 0.1,
       "style": "IPY_MODEL_282db8f01dd440359bb199e2eec96391",
       "value": 1
      }
     },
     "c80ee4c5f3844dcb8f585e61645e0e9b": {
      "model_module": "@jupyter-widgets/controls",
      "model_module_version": "1.2.0",
      "model_name": "FloatTextModel",
      "state": {
       "description": "sigma",
       "layout": "IPY_MODEL_14692f2452074add81ccbce647b3a11e",
       "step": 0.1,
       "style": "IPY_MODEL_d45b79d73c1b4ddcb8351fe463414e1e",
       "value": 1
      }
     },
     "c8246eec1c214b518f95489e721820c8": {
      "model_module": "@jupyter-widgets/controls",
      "model_module_version": "1.2.0",
      "model_name": "FloatTextModel",
      "state": {
       "description": "sigma",
       "layout": "IPY_MODEL_d7528cf96f4a414395554a3729c0ba6e",
       "step": 0.1,
       "style": "IPY_MODEL_42dcfcbd1b9c451aa4d067fae2a86539",
       "value": 1
      }
     },
     "c838d53e5add40f09d6caa9df248bd69": {
      "model_module": "@jupyter-widgets/controls",
      "model_module_version": "1.2.0",
      "model_name": "FloatTextModel",
      "state": {
       "description": "min.",
       "layout": "IPY_MODEL_27ead681a1ba429b92a13a857b53aa84",
       "step": 0.1,
       "style": "IPY_MODEL_80c2e356993c45dcbebf66dc3e671b92",
       "value": 0.5
      }
     },
     "c850f2d83d5a4107b913da97dd1deccd": {
      "model_module": "@jupyter-widgets/base",
      "model_module_version": "1.0.0",
      "model_name": "LayoutModel",
      "state": {}
     },
     "c866b561794e42ffbd8a5935d2516349": {
      "model_module": "@jupyter-widgets/base",
      "model_module_version": "1.0.0",
      "model_name": "LayoutModel",
      "state": {
       "height": "150px",
       "width": "100%"
      }
     },
     "c86d77bb332b4d0590c259f51076de7c": {
      "model_module": "@jupyter-widgets/base",
      "model_module_version": "1.0.0",
      "model_name": "LayoutModel",
      "state": {
       "width": "auto"
      }
     },
     "c887111977a14213b8d43f3198bccb35": {
      "model_module": "@jupyter-widgets/controls",
      "model_module_version": "1.2.0",
      "model_name": "SelectModel",
      "state": {
       "_options_labels": [
        "data/beads/beads_000_.SPE",
        "data/beads/beads_001_.SPE",
        "data/beads/beads_002_.SPE",
        "data/beads/beads_003_.SPE",
        "data/beads/beads_004_.SPE",
        "data/beads/beads_005_.SPE",
        "data/beads/beads_006_.SPE",
        "data/beads/beads_007_.SPE",
        "data/beads/beads_008_.SPE",
        "data/beads/beads_009_.SPE"
       ],
       "index": 1,
       "layout": "IPY_MODEL_0ab92ff91b114e2daa93551ba7b31491",
       "style": "IPY_MODEL_8346806e4bba42cb87c56d2814e17ddc"
      }
     },
     "c89598672e964bb480ed2772eda0cd61": {
      "model_module": "@jupyter-widgets/base",
      "model_module_version": "1.0.0",
      "model_name": "LayoutModel",
      "state": {
       "display": "none"
      }
     },
     "c8a4732a27e4461ea7a550108f273591": {
      "model_module": "@jupyter-widgets/controls",
      "model_module_version": "1.2.0",
      "model_name": "DescriptionStyleModel",
      "state": {
       "description_width": ""
      }
     },
     "c8cf22efdacb441780a9aa8333ed026b": {
      "model_module": "@jupyter-widgets/controls",
      "model_module_version": "1.2.0",
      "model_name": "FloatTextModel",
      "state": {
       "description": "radius",
       "layout": "IPY_MODEL_cc60972dd77c4a4aafcbf31ea8e0119f",
       "step": 0.1,
       "style": "IPY_MODEL_083e49bdb54143db8c07ed01ba581d4c",
       "value": 1
      }
     },
     "c91e6b5ec8fd4e3fbce02033e26274d4": {
      "model_module": "@jupyter-widgets/controls",
      "model_module_version": "1.2.0",
      "model_name": "DescriptionStyleModel",
      "state": {
       "description_width": ""
      }
     },
     "c9281a9444b342ccaeea5bbe41437cdf": {
      "model_module": "@jupyter-widgets/controls",
      "model_module_version": "1.2.0",
      "model_name": "FloatTextModel",
      "state": {
       "layout": "IPY_MODEL_8640494794064662823b36511db88e13",
       "step": 0.1,
       "style": "IPY_MODEL_c523bab02603413d9c264d7487782c42",
       "value": 3
      }
     },
     "c93332c7586243bfa2c35cc7934573c6": {
      "model_module": "@jupyter-widgets/controls",
      "model_module_version": "1.2.0",
      "model_name": "DescriptionStyleModel",
      "state": {
       "description_width": ""
      }
     },
     "c947362c1b424fc5889ba242be69b499": {
      "model_module": "@jupyter-widgets/base",
      "model_module_version": "1.0.0",
      "model_name": "LayoutModel",
      "state": {
       "display": "flex",
       "flex_flow": "column wrap",
       "width": "66%"
      }
     },
     "c96eaab9612e4b65aad3e9c5ce261e24": {
      "model_module": "@jupyter-widgets/controls",
      "model_module_version": "1.2.0",
      "model_name": "ButtonModel",
      "state": {
       "description": "Auto",
       "layout": "IPY_MODEL_2353ee96d43b4eeba4ba08bea7bedd62",
       "style": "IPY_MODEL_878f93859f344d6b8c9abb9c812267a3"
      }
     },
     "c988709bd87c4a629641e62b63c167be": {
      "model_module": "@jupyter-widgets/controls",
      "model_module_version": "1.2.0",
      "model_name": "DescriptionStyleModel",
      "state": {
       "description_width": ""
      }
     },
     "c9c0bd8e91e44168bacd248f4ef19544": {
      "model_module": "@jupyter-widgets/base",
      "model_module_version": "1.0.0",
      "model_name": "LayoutModel",
      "state": {}
     },
     "c9f372b0ab0d4fdda5533184e3b3146b": {
      "model_module": "@jupyter-widgets/controls",
      "model_module_version": "1.2.0",
      "model_name": "VBoxModel",
      "state": {
       "children": [
        "IPY_MODEL_5897926131b44660b1f6e44086382fc1",
        "IPY_MODEL_58c8e5c780ac482ea7d83b4cb501efbb",
        "IPY_MODEL_27bf74a1371a4914b4cecefd7800c57e",
        "IPY_MODEL_7a0ebbcb7c4549b69ddcf0b2e2c5068b",
        "IPY_MODEL_2d34235e1324485a9b3095eb00fffcdd",
        "IPY_MODEL_6c1621e5e3c346668b799be6eefe47ea"
       ],
       "layout": "IPY_MODEL_ab4925d5106d478c95c5b37f1be7b6bc"
      }
     },
     "ca1386fd89404570a65b25c094747dc8": {
      "model_module": "@jupyter-widgets/controls",
      "model_module_version": "1.2.0",
      "model_name": "BoundedIntTextModel",
      "state": {
       "description": "frame",
       "layout": "IPY_MODEL_d7ee45995d7543e0b8e6bc5fcef1c00a",
       "max": 49,
       "style": "IPY_MODEL_3e17ce9a39774c4182411752843e01f7"
      }
     },
     "ca214501be3b4fe7a84ae6b2a809f7d3": {
      "model_module": "@jupyter-widgets/controls",
      "model_module_version": "1.2.0",
      "model_name": "VBoxModel",
      "state": {
       "children": [
        "IPY_MODEL_22774ed79f5246f8bdae0943eeb6e6e9",
        "IPY_MODEL_93997ff8b3ac48d5b8db285ff78a313d",
        "IPY_MODEL_8efaa6660bcd40e8bef473760f81a5cf"
       ],
       "layout": "IPY_MODEL_6142708a9df34496bbbfc0c50075234e"
      }
     },
     "ca3928b3edc542b58ac4ba639b5d69ba": {
      "model_module": "@jupyter-widgets/controls",
      "model_module_version": "1.2.0",
      "model_name": "SliderStyleModel",
      "state": {
       "description_width": ""
      }
     },
     "ca617da8968c4c1986bef67c8512c210": {
      "model_module": "@jupyter-widgets/controls",
      "model_module_version": "1.2.0",
      "model_name": "FloatTextModel",
      "state": {
       "description": "radius",
       "layout": "IPY_MODEL_078f43c2886840b78d1209cb7dd1867a",
       "step": 0.1,
       "style": "IPY_MODEL_e98ebd4492074318973e80751dd01ac2",
       "value": 1
      }
     },
     "ca65cbf710a34eb2af2f0e54479139a8": {
      "model_module": "@jupyter-widgets/base",
      "model_module_version": "1.0.0",
      "model_name": "LayoutModel",
      "state": {}
     },
     "ca9aad266e7c42bd917c4ba763aea4f1": {
      "model_module": "@jupyter-widgets/controls",
      "model_module_version": "1.2.0",
      "model_name": "FloatTextModel",
      "state": {
       "layout": "IPY_MODEL_ab0cfbb92b6340f883a10373a0455392",
       "step": 0.1,
       "style": "IPY_MODEL_1e2c7801417d4e6d8736963d27fe69cd",
       "value": 3
      }
     },
     "ca9cbc33f87a45c1a758e030140b0b77": {
      "model_module": "@jupyter-widgets/base",
      "model_module_version": "1.0.0",
      "model_name": "LayoutModel",
      "state": {}
     },
     "cb1aa06d48374c2a8b0ffa29b92d25dc": {
      "model_module": "@jupyter-widgets/controls",
      "model_module_version": "1.2.0",
      "model_name": "ButtonModel",
      "state": {
       "description": "Auto",
       "layout": "IPY_MODEL_2c2757aa06f04e0dace96d88c285a4d5",
       "style": "IPY_MODEL_6bbd7bfd41264e7d831c23e43abab2cb"
      }
     },
     "cb1c51b664d0470b879f08c7b64b382b": {
      "model_module": "@jupyter-widgets/controls",
      "model_module_version": "1.2.0",
      "model_name": "VBoxModel",
      "state": {
       "children": [
        "IPY_MODEL_171fd38714314c55b9aa03a260d5df0a",
        "IPY_MODEL_9e11f1e5ce9c4af2b3b3be687dd64a61",
        "IPY_MODEL_0ef1d040c6c04fb7864e43dfd058b198",
        "IPY_MODEL_7c3f80ceafa642ad91d6b4dabf593fcc",
        "IPY_MODEL_72b54360941b42a4b3f921d31d4a7d9a",
        "IPY_MODEL_9f40e8bad80442dcaece2e410a1f9e6f"
       ],
       "layout": "IPY_MODEL_1618f4b3399c42758f19fedc025728c5"
      }
     },
     "cb2386fc6ef74bcdacecf41b9c594189": {
      "model_module": "@jupyter-widgets/base",
      "model_module_version": "1.0.0",
      "model_name": "LayoutModel",
      "state": {
       "display": "none"
      }
     },
     "cb2aa5668d6740de9c8098fc5505dd93": {
      "model_module": "@jupyter-widgets/controls",
      "model_module_version": "1.2.0",
      "model_name": "DescriptionStyleModel",
      "state": {
       "description_width": ""
      }
     },
     "cbaef955669847aea4d6eeda772fc47f": {
      "model_module": "@jupyter-widgets/base",
      "model_module_version": "1.0.0",
      "model_name": "LayoutModel",
      "state": {}
     },
     "cbbf4f3774dd4928a04f102af72f0867": {
      "model_module": "@jupyter-widgets/controls",
      "model_module_version": "1.2.0",
      "model_name": "FloatTextModel",
      "state": {
       "description": "sigma",
       "layout": "IPY_MODEL_9d762642fa554e169ab393c2a204d6d9",
       "step": 0.1,
       "style": "IPY_MODEL_06ba97282e1f4df59bebd0e0fd71431e",
       "value": 1
      }
     },
     "cbc95826e6074f2e92211d41a56f82a4": {
      "model_module": "@jupyter-widgets/base",
      "model_module_version": "1.0.0",
      "model_name": "LayoutModel",
      "state": {
       "display": "flex",
       "flex_flow": "column wrap",
       "width": "66%"
      }
     },
     "cbcb7d4ab97141fc96f65b0380eba974": {
      "model_module": "@jupyter-widgets/base",
      "model_module_version": "1.0.0",
      "model_name": "LayoutModel",
      "state": {
       "height": "150px",
       "width": "100%"
      }
     },
     "cbe91f751e1345588c0f8f841dba1a7b": {
      "model_module": "@jupyter-widgets/controls",
      "model_module_version": "1.2.0",
      "model_name": "FloatTextModel",
      "state": {
       "description": "threshold",
       "layout": "IPY_MODEL_2bad4212a2344400817848a55f43b7e2",
       "step": 10,
       "style": "IPY_MODEL_36e0ecd660f249d58bdaa97b3a3c5a60",
       "value": 1000
      }
     },
     "cc4ae8ba518a41fc86f1d615d83338f5": {
      "model_module": "@jupyter-widgets/controls",
      "model_module_version": "1.2.0",
      "model_name": "DescriptionStyleModel",
      "state": {
       "description_width": ""
      }
     },
     "cc60972dd77c4a4aafcbf31ea8e0119f": {
      "model_module": "@jupyter-widgets/base",
      "model_module_version": "1.0.0",
      "model_name": "LayoutModel",
      "state": {}
     },
     "cc6eea352d5e482d906f5aec93861cf0": {
      "model_module": "@jupyter-widgets/controls",
      "model_module_version": "1.2.0",
      "model_name": "FloatTextModel",
      "state": {
       "description": "sigma",
       "layout": "IPY_MODEL_1602f5feb09c4d74b13d2ed7587d5a03",
       "step": 0.1,
       "style": "IPY_MODEL_a79415927e1b4f129298f428353c8c70",
       "value": 1
      }
     },
     "cc7576cf5f424727a538fd64ec2b8694": {
      "model_module": "@jupyter-widgets/controls",
      "model_module_version": "1.2.0",
      "model_name": "DropdownModel",
      "state": {
       "_options_labels": [
        "2d_fixed",
        "2d",
        "3d"
       ],
       "description": "model",
       "index": 1,
       "layout": "IPY_MODEL_7a1a89626449426fa814701a0bffdd39",
       "style": "IPY_MODEL_03bdc5d00f804a5f8446fe02ee16e61c"
      }
     },
     "cc7d7fe57c8743e9aa71f22aa0ab4098": {
      "model_module": "@jupyter-widgets/controls",
      "model_module_version": "1.2.0",
      "model_name": "BoundedIntTextModel",
      "state": {
       "description": "frame",
       "layout": "IPY_MODEL_3d5af2746fd745cf8028df9866770533",
       "max": 49,
       "style": "IPY_MODEL_8004488e459a492b8d357d97ede48678"
      }
     },
     "cc897af7025340f28a998b9936092bcc": {
      "model_module": "@jupyter-widgets/controls",
      "model_module_version": "1.2.0",
      "model_name": "HBoxModel",
      "state": {
       "children": [
        "IPY_MODEL_d7935eac62854690ab82ac17c622bf21",
        "IPY_MODEL_d4578ad5188e420f86fbf300ed9219be",
        "IPY_MODEL_54b348fecf0a43ef930b4457164466ce"
       ],
       "layout": "IPY_MODEL_98a819d500ca469595196e98276ee70c"
      }
     },
     "cc8cddcf0157400f815cc2a75b4a618e": {
      "model_module": "@jupyter-widgets/controls",
      "model_module_version": "1.2.0",
      "model_name": "DescriptionStyleModel",
      "state": {
       "description_width": ""
      }
     },
     "cca5331b206349f9a6c10fcb99ebca57": {
      "model_module": "@jupyter-widgets/base",
      "model_module_version": "1.0.0",
      "model_name": "LayoutModel",
      "state": {}
     },
     "ccd4bace9fbc441ba44bf1a202ee6362": {
      "model_module": "@jupyter-widgets/controls",
      "model_module_version": "1.2.0",
      "model_name": "ButtonModel",
      "state": {
       "description": "Auto",
       "layout": "IPY_MODEL_98665b49c57f49a196bb7bd30a48840d",
       "style": "IPY_MODEL_47d9ce6e1a864a1bb62a3df0054aeb85"
      }
     },
     "cd5c8f3412cf455d876b8525e7f7fd2d": {
      "model_module": "@jupyter-widgets/base",
      "model_module_version": "1.0.0",
      "model_name": "LayoutModel",
      "state": {}
     },
     "cd697b4e947b4973b4b32d4da3499219": {
      "model_module": "@jupyter-widgets/controls",
      "model_module_version": "1.2.0",
      "model_name": "LabelModel",
      "state": {
       "layout": "IPY_MODEL_26b80179517e4b0baa9f3af84146b235",
       "style": "IPY_MODEL_4a3df1f143e8450d88389850d2cfbe53",
       "value": "Locating ctrl-H57/no-cells_SAv-100k_SSS-ctrl-H57-50k_029_.SPE (213/213)"
      }
     },
     "cd8ac3be2fdd48b181b57c15faf5cb6a": {
      "model_module": "@jupyter-widgets/controls",
      "model_module_version": "1.2.0",
      "model_name": "SliderStyleModel",
      "state": {
       "description_width": ""
      }
     },
     "cd9fb810d7d545a28ff6305a502a3ac9": {
      "model_module": "@jupyter-widgets/controls",
      "model_module_version": "1.2.0",
      "model_name": "DescriptionStyleModel",
      "state": {
       "description_width": ""
      }
     },
     "cdab130af73545948f349a9779d58fd5": {
      "model_module": "@jupyter-widgets/controls",
      "model_module_version": "1.2.0",
      "model_name": "HBoxModel",
      "state": {
       "children": [
        "IPY_MODEL_5d7446d851ec4f579be2efa3d820e5dc",
        "IPY_MODEL_86c69153440d494eb9e52469c9909b45",
        "IPY_MODEL_4e02df3fdb114001b616a2528f835648"
       ],
       "layout": "IPY_MODEL_53a0216b84bb4febac866bd1581d3a08"
      }
     },
     "cdab3f1ca1a844ac9a1c96886bcb7f1a": {
      "model_module": "@jupyter-widgets/base",
      "model_module_version": "1.0.0",
      "model_name": "LayoutModel",
      "state": {
       "display": "none"
      }
     },
     "cddee87aa2554225887a998832e81dc0": {
      "model_module": "@jupyter-widgets/controls",
      "model_module_version": "1.2.0",
      "model_name": "DescriptionStyleModel",
      "state": {
       "description_width": ""
      }
     },
     "ce3f20ebfd14492fa38c6c5c3cf5768f": {
      "model_module": "@jupyter-widgets/controls",
      "model_module_version": "1.2.0",
      "model_name": "ButtonStyleModel",
      "state": {}
     },
     "ce558e41002f4a728f1c99b7abf8847e": {
      "model_module": "@jupyter-widgets/controls",
      "model_module_version": "1.2.0",
      "model_name": "VBoxModel",
      "state": {
       "children": [
        "IPY_MODEL_7e69e27a79d54518ba4291cb90d5052e",
        "IPY_MODEL_8793427b89a2477384ccd98b45e8650e",
        "IPY_MODEL_4e6a001374d74b88a33cb6ba3c4b552a"
       ],
       "layout": "IPY_MODEL_f982f86b5a9d4ee8b28c7f3247372882"
      }
     },
     "ce70c249bd644969ba98b18e3c1fc1db": {
      "model_module": "@jupyter-widgets/controls",
      "model_module_version": "1.2.0",
      "model_name": "HBoxModel",
      "state": {
       "children": [
        "IPY_MODEL_2b8b9302d0f9428686e139e3c91bbfec",
        "IPY_MODEL_314d4dde2e7143af86f5e874575a1e5e"
       ],
       "layout": "IPY_MODEL_661e3c078c954251ac0eaed1f5a41778"
      }
     },
     "cea55a99c8414b838bb94c3bd451ee4f": {
      "model_module": "@jupyter-widgets/controls",
      "model_module_version": "1.2.0",
      "model_name": "VBoxModel",
      "state": {
       "children": [
        "IPY_MODEL_1ac8bfa0df214c21bddbf5915ae44e15",
        "IPY_MODEL_0b7488dc0c1a4be3a881714889f948cc"
       ],
       "layout": "IPY_MODEL_68ecbd9deee449c5bcb9772b03a5f3ac"
      }
     },
     "cedde3392f934fa99c5adc1540c82f2e": {
      "model_module": "@jupyter-widgets/base",
      "model_module_version": "1.0.0",
      "model_name": "LayoutModel",
      "state": {}
     },
     "cef17bc089aa4519b8aa5b0bc6fb5d77": {
      "model_module": "@jupyter-widgets/base",
      "model_module_version": "1.0.0",
      "model_name": "LayoutModel",
      "state": {}
     },
     "cf0d308883f64f42954368c4494fe3aa": {
      "model_module": "@jupyter-widgets/controls",
      "model_module_version": "1.2.0",
      "model_name": "FloatTextModel",
      "state": {
       "description": "sigma",
       "layout": "IPY_MODEL_57e56208b76048eb9a4b54967a9f767e",
       "step": 0.1,
       "style": "IPY_MODEL_33e0e4bf86b840f8a07fa69c50e39c00",
       "value": 1
      }
     },
     "cf5f51ce063a453bbe47101598458750": {
      "model_module": "@jupyter-widgets/controls",
      "model_module_version": "1.2.0",
      "model_name": "SliderStyleModel",
      "state": {
       "description_width": ""
      }
     },
     "cf6dbc4efe87490ba291bee634e48b75": {
      "model_module": "@jupyter-widgets/base",
      "model_module_version": "1.0.0",
      "model_name": "LayoutModel",
      "state": {
       "width": "100%"
      }
     },
     "cf9cc20b63d047b99a04d38292f2ba64": {
      "model_module": "@jupyter-widgets/controls",
      "model_module_version": "1.2.0",
      "model_name": "VBoxModel",
      "state": {
       "children": [
        "IPY_MODEL_2aeaabc4b9664104a7864f9d43b1d619",
        "IPY_MODEL_8b90ed70d2554b48a466342454012047"
       ],
       "layout": "IPY_MODEL_08cbf097b5044a9e9658b1d5c04785f4"
      }
     },
     "cfa32745ebd04dfb992444c4c45e14fc": {
      "model_module": "@jupyter-widgets/base",
      "model_module_version": "1.0.0",
      "model_name": "LayoutModel",
      "state": {}
     },
     "cfb64c186bc4449b9bc297a976404885": {
      "model_module": "@jupyter-widgets/base",
      "model_module_version": "1.0.0",
      "model_name": "LayoutModel",
      "state": {}
     },
     "cff2e78cddb748b29dc024bb9f23ab30": {
      "model_module": "@jupyter-widgets/controls",
      "model_module_version": "1.2.0",
      "model_name": "FloatTextModel",
      "state": {
       "description": "sigma",
       "layout": "IPY_MODEL_0bbae70001a54bdfa7504e058d9a2e55",
       "step": 0.1,
       "style": "IPY_MODEL_767c389b3ad44f7ab00364045a966393",
       "value": 1
      }
     },
     "d00994195ff44f51a5ca3048b41a76f7": {
      "model_module": "@jupyter-widgets/controls",
      "model_module_version": "1.2.0",
      "model_name": "CheckboxModel",
      "state": {
       "description": "Min. distance",
       "disabled": false,
       "indent": false,
       "layout": "IPY_MODEL_9524dc61fde742a9bac5f244577b797a",
       "style": "IPY_MODEL_4115c41ecd2f4ce59131fe44e539850f",
       "value": false
      }
     },
     "d03f9cd65f624aa1b3062d444534c742": {
      "model_module": "@jupyter-widgets/controls",
      "model_module_version": "1.2.0",
      "model_name": "FloatTextModel",
      "state": {
       "description": "min.",
       "layout": "IPY_MODEL_9c5aa012a6e3431087ea07844a161eb2",
       "step": 0.1,
       "style": "IPY_MODEL_01f6114e99c54035b39fe440e01986c9",
       "value": 0.5
      }
     },
     "d07a4186820840239ab8e5eb70813624": {
      "model_module": "@jupyter-widgets/base",
      "model_module_version": "1.0.0",
      "model_name": "LayoutModel",
      "state": {
       "display": "none"
      }
     },
     "d07de0d18471434090f63b183d5e89f7": {
      "model_module": "@jupyter-widgets/controls",
      "model_module_version": "1.2.0",
      "model_name": "VBoxModel",
      "state": {
       "children": [
        "IPY_MODEL_a361a63fde3643099fd6c21149f906fc",
        "IPY_MODEL_1927fade527b44e3b55d8b2bbaa09f28",
        "IPY_MODEL_5b47e1c4bc184de1922550875cd3a9bb"
       ],
       "layout": "IPY_MODEL_477a123183b340b3bcba4ed01f9f591b"
      }
     },
     "d0925dc0e0ca4010b09c0028c21651f8": {
      "model_module": "@jupyter-widgets/base",
      "model_module_version": "1.0.0",
      "model_name": "LayoutModel",
      "state": {
       "display": "none"
      }
     },
     "d09c9c8759db4d27b3f03851cedd0f87": {
      "model_module": "@jupyter-widgets/controls",
      "model_module_version": "1.2.0",
      "model_name": "FloatTextModel",
      "state": {
       "layout": "IPY_MODEL_f172e379c8aa40d498e73d9fe907025a",
       "step": 0.1,
       "style": "IPY_MODEL_dd18ffaa4dfc435198684d85c94556fd",
       "value": 3
      }
     },
     "d0a9f7327ced408cb3b75e015b51cd4e": {
      "model_module": "@jupyter-widgets/base",
      "model_module_version": "1.0.0",
      "model_name": "LayoutModel",
      "state": {}
     },
     "d0e29c1372864fdeb9e793b8d54bae2b": {
      "model_module": "@jupyter-widgets/base",
      "model_module_version": "1.0.0",
      "model_name": "LayoutModel",
      "state": {
       "width": "auto"
      }
     },
     "d11b8b45a4ad44eea60029274dfe2e79": {
      "model_module": "@jupyter-widgets/base",
      "model_module_version": "1.0.0",
      "model_name": "LayoutModel",
      "state": {
       "border": "1px solid gray"
      }
     },
     "d13dca73dfab4d01a7f4ac9396aa4625": {
      "model_module": "@jupyter-widgets/base",
      "model_module_version": "1.0.0",
      "model_name": "LayoutModel",
      "state": {}
     },
     "d1454b9d7e1e4968bcd840c451e5d9dc": {
      "model_module": "@jupyter-widgets/base",
      "model_module_version": "1.0.0",
      "model_name": "LayoutModel",
      "state": {}
     },
     "d1773b06b7614fe380b8490c85ae1797": {
      "model_module": "@jupyter-widgets/controls",
      "model_module_version": "1.2.0",
      "model_name": "FloatTextModel",
      "state": {
       "description": "threshold",
       "layout": "IPY_MODEL_1349499d518a404598f1082519609c97",
       "step": 10,
       "style": "IPY_MODEL_bc8d0036b27049a28229c5694daababe",
       "value": 1000
      }
     },
     "d1979fb674764dc3a2d492d2045c3e47": {
      "model_module": "@jupyter-widgets/base",
      "model_module_version": "1.0.0",
      "model_name": "LayoutModel",
      "state": {}
     },
     "d1cdfbd5506546e18b0bf7034d086c32": {
      "model_module": "@jupyter-widgets/controls",
      "model_module_version": "1.2.0",
      "model_name": "DescriptionStyleModel",
      "state": {
       "description_width": ""
      }
     },
     "d1d89a30fa0b456ca3c4bef22163d084": {
      "model_module": "@jupyter-widgets/controls",
      "model_module_version": "1.2.0",
      "model_name": "DescriptionStyleModel",
      "state": {
       "description_width": ""
      }
     },
     "d21d4e68107f43489fea482a77b5202c": {
      "model_module": "@jupyter-widgets/controls",
      "model_module_version": "1.2.0",
      "model_name": "FloatTextModel",
      "state": {
       "description": "threshold",
       "layout": "IPY_MODEL_042ebc57e42b4549895c60f4edbf265d",
       "step": 10,
       "style": "IPY_MODEL_1c824a0b6f3240e5af259e9c61791276",
       "value": 1000
      }
     },
     "d2317dddab1d4f28b34d599ceb264474": {
      "model_module": "@jupyter-widgets/base",
      "model_module_version": "1.0.0",
      "model_name": "LayoutModel",
      "state": {
       "width": "auto"
      }
     },
     "d271830888304b6480c115f495085707": {
      "model_module": "@jupyter-widgets/controls",
      "model_module_version": "1.2.0",
      "model_name": "FloatTextModel",
      "state": {
       "description": "radius",
       "layout": "IPY_MODEL_f9cad0d8bf9e4196a01e23602e0ad434",
       "step": 0.1,
       "style": "IPY_MODEL_60148b202487413ca2525ec620373960",
       "value": 1
      }
     },
     "d277ada9698942f7a3120b5b5b0020f6": {
      "model_module": "@jupyter-widgets/controls",
      "model_module_version": "1.2.0",
      "model_name": "DropdownModel",
      "state": {
       "_options_labels": [
        "2d_fixed",
        "2d",
        "3d"
       ],
       "description": "model",
       "index": 1,
       "layout": "IPY_MODEL_2b5f6308bdf14b199396b2ea3b42bb13",
       "style": "IPY_MODEL_4babe68aecce4550b50f696121e4b54e"
      }
     },
     "d295d8525c50462c91d83e3ae5aae08f": {
      "model_module": "@jupyter-widgets/controls",
      "model_module_version": "1.2.0",
      "model_name": "FloatTextModel",
      "state": {
       "description": "radius",
       "layout": "IPY_MODEL_ef583b65214f4e799def73a9bcee58da",
       "step": 0.1,
       "style": "IPY_MODEL_ff83dba6849b4566a2c5b855469ef06c",
       "value": 1
      }
     },
     "d297437b02b844708dea073de8fed73e": {
      "model_module": "@jupyter-widgets/controls",
      "model_module_version": "1.2.0",
      "model_name": "CheckboxModel",
      "state": {
       "description": "Show loc.",
       "disabled": false,
       "indent": false,
       "layout": "IPY_MODEL_93b9e5519cb747339a8132d5eb7d4762",
       "style": "IPY_MODEL_11ee04842b9941189f848983bbd33060",
       "value": true
      }
     },
     "d2a6b9d036384b048dc880e8de56b025": {
      "model_module": "@jupyter-widgets/controls",
      "model_module_version": "1.2.0",
      "model_name": "HBoxModel",
      "state": {
       "children": [
        "IPY_MODEL_299f78c9bbf54627a5cf711b09631352",
        "IPY_MODEL_fc25cb9d938742c5b8eb185119d2c027",
        "IPY_MODEL_d297437b02b844708dea073de8fed73e"
       ],
       "layout": "IPY_MODEL_ba08a73ea0dd4a3d82ca9fb760ae89a9"
      }
     },
     "d2b5042a9f0444d1924bcf1fd5e7eca3": {
      "model_module": "@jupyter-widgets/base",
      "model_module_version": "1.0.0",
      "model_name": "LayoutModel",
      "state": {
       "width": "auto"
      }
     },
     "d2df79d773ea4115a96da54b67b1d450": {
      "model_module": "@jupyter-widgets/base",
      "model_module_version": "1.0.0",
      "model_name": "LayoutModel",
      "state": {}
     },
     "d2ec2c846e5f41738e5cf8d5b73514c9": {
      "model_module": "@jupyter-widgets/controls",
      "model_module_version": "1.2.0",
      "model_name": "ButtonModel",
      "state": {
       "description": "Auto",
       "layout": "IPY_MODEL_f7eff9ccac2d490e98067dfe846055d2",
       "style": "IPY_MODEL_afd8f7afc04843c29bffdb3506bacc65"
      }
     },
     "d2f150c4a8744343a106dbf84685e7dc": {
      "model_module": "@jupyter-widgets/controls",
      "model_module_version": "1.2.0",
      "model_name": "DescriptionStyleModel",
      "state": {
       "description_width": ""
      }
     },
     "d31b28c6b839423d8fae0713f12983cf": {
      "model_module": "@jupyter-widgets/controls",
      "model_module_version": "1.2.0",
      "model_name": "ButtonStyleModel",
      "state": {}
     },
     "d35770f8853e4d2aa6ae3914d7dcf8e7": {
      "model_module": "@jupyter-widgets/controls",
      "model_module_version": "1.2.0",
      "model_name": "DescriptionStyleModel",
      "state": {
       "description_width": ""
      }
     },
     "d36786cf6ebf40a3b1cc5a0b8a5ede8a": {
      "model_module": "@jupyter-widgets/base",
      "model_module_version": "1.0.0",
      "model_name": "LayoutModel",
      "state": {
       "display": "none"
      }
     },
     "d3766a29be6c40149321205bfdce3c6a": {
      "model_module": "@jupyter-widgets/controls",
      "model_module_version": "1.2.0",
      "model_name": "DescriptionStyleModel",
      "state": {
       "description_width": ""
      }
     },
     "d37c3c26d37b4853b33e5892e85b76f3": {
      "model_module": "@jupyter-widgets/base",
      "model_module_version": "1.0.0",
      "model_name": "LayoutModel",
      "state": {
       "display": "inline"
      }
     },
     "d38c2650916a4a689d6ef7c0cef83dc4": {
      "model_module": "@jupyter-widgets/controls",
      "model_module_version": "1.2.0",
      "model_name": "DescriptionStyleModel",
      "state": {
       "description_width": ""
      }
     },
     "d390553b939f4f698bd9795f988dd207": {
      "model_module": "@jupyter-widgets/base",
      "model_module_version": "1.0.0",
      "model_name": "LayoutModel",
      "state": {
       "width": "auto"
      }
     },
     "d3a10ad7dbe848a4b90517516149856c": {
      "model_module": "@jupyter-widgets/controls",
      "model_module_version": "1.2.0",
      "model_name": "CheckboxModel",
      "state": {
       "description": "Show loc.",
       "disabled": false,
       "indent": false,
       "layout": "IPY_MODEL_07510a80d1154ce0a25057b5c67d278e",
       "style": "IPY_MODEL_d4742b4d731543c59e8f923892f71ae2",
       "value": true
      }
     },
     "d3bc122c893f43a9a701e4b6f4766028": {
      "model_module": "@jupyter-widgets/controls",
      "model_module_version": "1.2.0",
      "model_name": "FloatTextModel",
      "state": {
       "layout": "IPY_MODEL_d2317dddab1d4f28b34d599ceb264474",
       "step": 0.1,
       "style": "IPY_MODEL_e19a11b395424a579922ad3ad491538c",
       "value": 3
      }
     },
     "d3bdd42f1d7a44b3a2a9464ffb9ff5b7": {
      "model_module": "@jupyter-widgets/controls",
      "model_module_version": "1.2.0",
      "model_name": "HBoxModel",
      "state": {
       "children": [
        "IPY_MODEL_c10ac3a630a244a48c1c28ae64614898",
        "IPY_MODEL_b119cccce6db485a8e1605a68bb63731",
        "IPY_MODEL_2f46ab7834e24ba5b2f8dd7da1f358d1"
       ],
       "layout": "IPY_MODEL_78d00e24e66247fcb1ee681aa55b73a9"
      }
     },
     "d4578ad5188e420f86fbf300ed9219be": {
      "model_module": "@jupyter-widgets/controls",
      "model_module_version": "1.2.0",
      "model_name": "ButtonModel",
      "state": {
       "description": "Auto",
       "layout": "IPY_MODEL_f8a313867b3248b9b775b23e0e3f43ab",
       "style": "IPY_MODEL_d31b28c6b839423d8fae0713f12983cf"
      }
     },
     "d45b79d73c1b4ddcb8351fe463414e1e": {
      "model_module": "@jupyter-widgets/controls",
      "model_module_version": "1.2.0",
      "model_name": "DescriptionStyleModel",
      "state": {
       "description_width": ""
      }
     },
     "d46998510eb243148f4ee26efbf2e7c7": {
      "model_module": "@jupyter-widgets/controls",
      "model_module_version": "1.2.0",
      "model_name": "DescriptionStyleModel",
      "state": {
       "description_width": ""
      }
     },
     "d4742b4d731543c59e8f923892f71ae2": {
      "model_module": "@jupyter-widgets/controls",
      "model_module_version": "1.2.0",
      "model_name": "DescriptionStyleModel",
      "state": {
       "description_width": ""
      }
     },
     "d4d4bf77cbaf495187273329a6e528c5": {
      "model_module": "@jupyter-widgets/base",
      "model_module_version": "1.0.0",
      "model_name": "LayoutModel",
      "state": {}
     },
     "d572260f107c4bb89acc270bca561ddd": {
      "model_module": "@jupyter-widgets/base",
      "model_module_version": "1.0.0",
      "model_name": "LayoutModel",
      "state": {}
     },
     "d589a64ea0144e829816e9d737a2d6bc": {
      "model_module": "@jupyter-widgets/controls",
      "model_module_version": "1.2.0",
      "model_name": "DescriptionStyleModel",
      "state": {
       "description_width": ""
      }
     },
     "d5b6469fb03547a0bc9f4e339c5580ce": {
      "model_module": "@jupyter-widgets/controls",
      "model_module_version": "1.2.0",
      "model_name": "DescriptionStyleModel",
      "state": {
       "description_width": ""
      }
     },
     "d5d2422e7b104a0e914acbd0deb93f42": {
      "model_module": "@jupyter-widgets/base",
      "model_module_version": "1.0.0",
      "model_name": "LayoutModel",
      "state": {}
     },
     "d602377a27cd41f795c7c6738fc80d1e": {
      "model_module": "@jupyter-widgets/controls",
      "model_module_version": "1.2.0",
      "model_name": "HBoxModel",
      "state": {
       "children": [
        "IPY_MODEL_14d5221e58f840aa88183d9af9408333",
        "IPY_MODEL_524a214ce2164bc7b9a12d01e86409f1",
        "IPY_MODEL_5d2ac90b66f548228add6317731b95b1"
       ],
       "layout": "IPY_MODEL_dd7044f1536541f8b6d88270e4b24fec"
      }
     },
     "d63e77dedafe48898558983d15f08ff5": {
      "model_module": "@jupyter-widgets/base",
      "model_module_version": "1.0.0",
      "model_name": "LayoutModel",
      "state": {
       "display": "none"
      }
     },
     "d66078a9781e4b2ca2af5639e2f167cc": {
      "model_module": "@jupyter-widgets/controls",
      "model_module_version": "1.2.0",
      "model_name": "DescriptionStyleModel",
      "state": {
       "description_width": ""
      }
     },
     "d6709a2270e74c0eb5c06bd68f74a16c": {
      "model_module": "@jupyter-widgets/base",
      "model_module_version": "1.0.0",
      "model_name": "LayoutModel",
      "state": {}
     },
     "d6f74efac8b84c718f356dc701fbceb6": {
      "model_module": "@jupyter-widgets/controls",
      "model_module_version": "1.2.0",
      "model_name": "VBoxModel",
      "state": {
       "children": [
        "IPY_MODEL_56bb1eb1da41452aa95e86ee51c1c925",
        "IPY_MODEL_80ed4a1176914252bf03bbd3df62e1c5",
        "IPY_MODEL_ec3a39d4975e48498ef052621df3d348",
        "IPY_MODEL_f6c4143a7b6e4c85a5df0b7ac6cdf210",
        "IPY_MODEL_8277aa72a4134dafa78f589ff2231453",
        "IPY_MODEL_923b980f12c8486992a45c2467f1e3fb"
       ],
       "layout": "IPY_MODEL_6ee7ec2215584e7cb4c5f9ebdca84026"
      }
     },
     "d700234ff2bd43d98b61da89639fba43": {
      "model_module": "@jupyter-widgets/controls",
      "model_module_version": "1.2.0",
      "model_name": "FloatTextModel",
      "state": {
       "description": "max.",
       "layout": "IPY_MODEL_4af9a176f0ca4384ae53f7545adf1ca3",
       "step": 0.1,
       "style": "IPY_MODEL_682cf9602ce142908f593322c52e9dc1",
       "value": 2
      }
     },
     "d7122f5bd03f49fba84fa28e42bb72db": {
      "model_module": "@jupyter-widgets/controls",
      "model_module_version": "1.2.0",
      "model_name": "CheckboxModel",
      "state": {
       "description": "Show loc.",
       "disabled": false,
       "indent": false,
       "layout": "IPY_MODEL_ab8027fd81ce4cda9ea2e480101f6eda",
       "style": "IPY_MODEL_4351646a537848f0b89ddf17d9c3729c",
       "value": true
      }
     },
     "d724312b449143348409eb572e8beb38": {
      "model_module": "@jupyter-widgets/controls",
      "model_module_version": "1.2.0",
      "model_name": "DescriptionStyleModel",
      "state": {
       "description_width": ""
      }
     },
     "d73383bfe9e84b2091b2f51a95d1fb57": {
      "model_module": "@jupyter-widgets/base",
      "model_module_version": "1.0.0",
      "model_name": "LayoutModel",
      "state": {}
     },
     "d735dba375544b108334d705a917ad42": {
      "model_module": "@jupyter-widgets/controls",
      "model_module_version": "1.2.0",
      "model_name": "CheckboxModel",
      "state": {
       "description": "Min. distance",
       "disabled": false,
       "indent": false,
       "layout": "IPY_MODEL_0c9b1166092a416bafb4ec0991ca6558",
       "style": "IPY_MODEL_db045e352333443180687f4ac0f34d1a",
       "value": false
      }
     },
     "d73bccaf5074400eb1e7f09ab7883930": {
      "model_module": "@jupyter-widgets/base",
      "model_module_version": "1.0.0",
      "model_name": "LayoutModel",
      "state": {
       "width": "100%"
      }
     },
     "d7528cf96f4a414395554a3729c0ba6e": {
      "model_module": "@jupyter-widgets/base",
      "model_module_version": "1.0.0",
      "model_name": "LayoutModel",
      "state": {
       "display": "none"
      }
     },
     "d7695ff71b5c4684913fd9e4d0fa6b6b": {
      "model_module": "@jupyter-widgets/controls",
      "model_module_version": "1.2.0",
      "model_name": "FloatTextModel",
      "state": {
       "description": "threshold",
       "layout": "IPY_MODEL_5e1620de67ef423d9dcf6ed618d2da27",
       "step": 10,
       "style": "IPY_MODEL_d1d89a30fa0b456ca3c4bef22163d084",
       "value": 1000
      }
     },
     "d790fccb856d4eb0ac598b39495ac337": {
      "model_module": "@jupyter-widgets/controls",
      "model_module_version": "1.2.0",
      "model_name": "DescriptionStyleModel",
      "state": {
       "description_width": ""
      }
     },
     "d7935eac62854690ab82ac17c622bf21": {
      "model_module": "@jupyter-widgets/controls",
      "model_module_version": "1.2.0",
      "model_name": "IntRangeSliderModel",
      "state": {
       "_model_name": "IntRangeSliderModel",
       "_view_name": "IntRangeSliderView",
       "layout": "IPY_MODEL_79f60ce6dc2f41169c7f7db75c044dd5",
       "max": 65535,
       "style": "IPY_MODEL_946af716b9914b46ba07d1bbcdc37da6",
       "value": [
        134,
        25393
       ]
      }
     },
     "d7a264b90a064225b67d67860490ac0c": {
      "model_module": "@jupyter-widgets/base",
      "model_module_version": "1.0.0",
      "model_name": "LayoutModel",
      "state": {}
     },
     "d7a2d3856bf24c8daa5c454b34f335ae": {
      "model_module": "@jupyter-widgets/controls",
      "model_module_version": "1.2.0",
      "model_name": "DescriptionStyleModel",
      "state": {
       "description_width": ""
      }
     },
     "d7abd9ce54dd4274bf1404185220f693": {
      "model_module": "@jupyter-widgets/base",
      "model_module_version": "1.0.0",
      "model_name": "LayoutModel",
      "state": {}
     },
     "d7c003ad030e43d7920d916a0cd7b2d3": {
      "model_module": "@jupyter-widgets/controls",
      "model_module_version": "1.2.0",
      "model_name": "DescriptionStyleModel",
      "state": {
       "description_width": ""
      }
     },
     "d7c93011fe4a42a6bb28fd93fde7a9e7": {
      "model_module": "@jupyter-widgets/base",
      "model_module_version": "1.0.0",
      "model_name": "LayoutModel",
      "state": {
       "width": "auto"
      }
     },
     "d7cca073dbf945fe9549c63b26a0a8a5": {
      "model_module": "@jupyter-widgets/base",
      "model_module_version": "1.0.0",
      "model_name": "LayoutModel",
      "state": {}
     },
     "d7ee45995d7543e0b8e6bc5fcef1c00a": {
      "model_module": "@jupyter-widgets/base",
      "model_module_version": "1.0.0",
      "model_name": "LayoutModel",
      "state": {}
     },
     "d7fa2281c10b4adf84ba27f9fc3d0be7": {
      "model_module": "@jupyter-widgets/controls",
      "model_module_version": "1.2.0",
      "model_name": "BoundedIntTextModel",
      "state": {
       "description": "frame",
       "layout": "IPY_MODEL_7268f4510a1a451fa79647460f51b16a",
       "max": 0,
       "style": "IPY_MODEL_f2e48de82e5e4ca78a857a4de020d8ed"
      }
     },
     "d8206cec6aa245359e7e5a9d25bc355f": {
      "model_module": "@jupyter-widgets/controls",
      "model_module_version": "1.2.0",
      "model_name": "FloatTextModel",
      "state": {
       "layout": "IPY_MODEL_f6d5f5dc29114c3582188cd0a99698f2",
       "step": 0.1,
       "style": "IPY_MODEL_ed0d482f13a94b8aa51d17b77120e7e0",
       "value": 3
      }
     },
     "d849f8b455314dd9bff70caa8a14f535": {
      "model_module": "@jupyter-widgets/base",
      "model_module_version": "1.0.0",
      "model_name": "LayoutModel",
      "state": {
       "width": "auto"
      }
     },
     "d8fd62f4c0324903a98d8f21f1eff2af": {
      "model_module": "@jupyter-widgets/base",
      "model_module_version": "1.0.0",
      "model_name": "LayoutModel",
      "state": {}
     },
     "d96e483d1b09466ca38957a861f96be9": {
      "model_module": "@jupyter-widgets/controls",
      "model_module_version": "1.2.0",
      "model_name": "SelectModel",
      "state": {
       "_options_labels": [
        "data/beads/beads_000_.SPE",
        "data/beads/beads_001_.SPE",
        "data/beads/beads_002_.SPE",
        "data/beads/beads_003_.SPE",
        "data/beads/beads_004_.SPE",
        "data/beads/beads_005_.SPE",
        "data/beads/beads_006_.SPE",
        "data/beads/beads_007_.SPE",
        "data/beads/beads_008_.SPE",
        "data/beads/beads_009_.SPE"
       ],
       "index": 0,
       "layout": "IPY_MODEL_d7c93011fe4a42a6bb28fd93fde7a9e7",
       "style": "IPY_MODEL_d1cdfbd5506546e18b0bf7034d086c32"
      }
     },
     "d997084149b24a16adf3ec0089df3b87": {
      "model_module": "@jupyter-widgets/controls",
      "model_module_version": "1.2.0",
      "model_name": "VBoxModel",
      "state": {
       "children": [
        "IPY_MODEL_05c83d8adb7a4dababc3d43a13d279d9",
        "IPY_MODEL_6a97d7241dd346a892234351c46b42a3",
        "IPY_MODEL_aa6ef432ab714360a1cccccddab24adf",
        "IPY_MODEL_1653a7a365f3480d9d9d6e9503868b77",
        "IPY_MODEL_a479a55c7f3942fcb26410dc9f27870b",
        "IPY_MODEL_ac27177f41674d4e942fc6991d3fdff7"
       ],
       "layout": "IPY_MODEL_da38503ca1254c95bc152641a5b98aad"
      }
     },
     "d9c72ea5ac5e4104bd5e802eb4cb1431": {
      "model_module": "@jupyter-widgets/controls",
      "model_module_version": "1.2.0",
      "model_name": "VBoxModel",
      "state": {
       "children": [
        "IPY_MODEL_96cc0367d7534bdda87c1689c2577662",
        "IPY_MODEL_4f0d8fd39d3d4d018d4b0ea18b0cefee",
        "IPY_MODEL_afaef695b4f84a9ba5b3a032d0002d6a"
       ],
       "layout": "IPY_MODEL_74e76e9dc43b46c4a0fbab97fa05ac82"
      }
     },
     "d9f9845a6f2145cebc5354cc6553b7f8": {
      "model_module": "@jupyter-widgets/base",
      "model_module_version": "1.0.0",
      "model_name": "LayoutModel",
      "state": {
       "border": "1px solid gray"
      }
     },
     "da29bfbc60c3498ba7f1cde3f3796ac4": {
      "model_module": "@jupyter-widgets/controls",
      "model_module_version": "1.2.0",
      "model_name": "VBoxModel",
      "state": {
       "children": [
        "IPY_MODEL_d295d8525c50462c91d83e3ae5aae08f",
        "IPY_MODEL_17610fa125044383bad718745075fbe0",
        "IPY_MODEL_5474fcb3521040fd888dbb6faa2b9ab1",
        "IPY_MODEL_f73431f6793a4f708c5f31ce91d5ade7",
        "IPY_MODEL_bf3ff81513954d90b2eeaa52a708c72e",
        "IPY_MODEL_1191e59b698f41caac1f2543b9ec672d"
       ],
       "layout": "IPY_MODEL_08031491c93e44c89351b873ef2d2793"
      }
     },
     "da38503ca1254c95bc152641a5b98aad": {
      "model_module": "@jupyter-widgets/base",
      "model_module_version": "1.0.0",
      "model_name": "LayoutModel",
      "state": {
       "display": "flex",
       "flex_flow": "column wrap",
       "width": "66%"
      }
     },
     "da6998b0eeac4a14aa88cad19e27679d": {
      "model_module": "@jupyter-widgets/controls",
      "model_module_version": "1.2.0",
      "model_name": "SliderStyleModel",
      "state": {
       "description_width": ""
      }
     },
     "dad3538d532141688f011f43545d73aa": {
      "model_module": "@jupyter-widgets/controls",
      "model_module_version": "1.2.0",
      "model_name": "DescriptionStyleModel",
      "state": {
       "description_width": ""
      }
     },
     "db045e352333443180687f4ac0f34d1a": {
      "model_module": "@jupyter-widgets/controls",
      "model_module_version": "1.2.0",
      "model_name": "DescriptionStyleModel",
      "state": {
       "description_width": ""
      }
     },
     "db1e4da70e574d328eb4b0395d9d5099": {
      "model_module": "@jupyter-widgets/base",
      "model_module_version": "1.0.0",
      "model_name": "LayoutModel",
      "state": {
       "width": "auto"
      }
     },
     "db401807dd224cf9b09e0b6bfce6b878": {
      "model_module": "@jupyter-widgets/controls",
      "model_module_version": "1.2.0",
      "model_name": "FloatTextModel",
      "state": {
       "description": "min.",
       "layout": "IPY_MODEL_16adeca1a5c84244923fc975362493e7",
       "step": 0.1,
       "style": "IPY_MODEL_38dcb74fa34f48f4a0a41912cd4ac83d",
       "value": 0.5
      }
     },
     "db82f6ed96e04ec180beeb0545306c8e": {
      "model_module": "@jupyter-widgets/controls",
      "model_module_version": "1.2.0",
      "model_name": "DescriptionStyleModel",
      "state": {
       "description_width": ""
      }
     },
     "db84dc2b028949aea5dc5f2e91cbf792": {
      "model_module": "@jupyter-widgets/base",
      "model_module_version": "1.0.0",
      "model_name": "LayoutModel",
      "state": {
       "display": "none"
      }
     },
     "dba461e27a4f420da9fd5af4a5ee2dad": {
      "model_module": "@jupyter-widgets/controls",
      "model_module_version": "1.2.0",
      "model_name": "DescriptionStyleModel",
      "state": {
       "description_width": ""
      }
     },
     "dbb63c80dc9642bd9dbb73304be13397": {
      "model_module": "@jupyter-widgets/base",
      "model_module_version": "1.0.0",
      "model_name": "LayoutModel",
      "state": {}
     },
     "dc762c2f03604770bfc42e728b938bfb": {
      "model_module": "@jupyter-widgets/controls",
      "model_module_version": "1.2.0",
      "model_name": "BoundedIntTextModel",
      "state": {
       "description": "frame",
       "layout": "IPY_MODEL_2f74747c945244348968b676d001dc3d",
       "max": 49,
       "style": "IPY_MODEL_09565482a60f468594efd05d8d47ce33"
      }
     },
     "dc9b2fd2f53a40a29031dd96781ef514": {
      "model_module": "@jupyter-widgets/base",
      "model_module_version": "1.0.0",
      "model_name": "LayoutModel",
      "state": {}
     },
     "dca9dd971b584ed1885dee7f185ae186": {
      "model_module": "@jupyter-widgets/controls",
      "model_module_version": "1.2.0",
      "model_name": "VBoxModel",
      "state": {
       "children": [
        "IPY_MODEL_d96e483d1b09466ca38957a861f96be9",
        "IPY_MODEL_5b4a729fccd342f195d983a5748e6211"
       ],
       "layout": "IPY_MODEL_8ec6da2c67544898804aac810349c4c2"
      }
     },
     "dcbf8a889bd04d8c9ff2ccec087765e6": {
      "model_module": "@jupyter-widgets/base",
      "model_module_version": "1.0.0",
      "model_name": "LayoutModel",
      "state": {}
     },
     "dcc09b93320e44609364bbcb9876e1ee": {
      "model_module": "@jupyter-widgets/base",
      "model_module_version": "1.0.0",
      "model_name": "LayoutModel",
      "state": {
       "height": "150px",
       "width": "100%"
      }
     },
     "dcc1fee65e7e40488a2829e87fe22560": {
      "model_module": "@jupyter-widgets/controls",
      "model_module_version": "1.2.0",
      "model_name": "CheckboxModel",
      "state": {
       "description": "Size range",
       "disabled": false,
       "indent": false,
       "layout": "IPY_MODEL_3ffb629a5fc24209b28d844fa0f143d2",
       "style": "IPY_MODEL_82cc1b5d18df45f3a6d56f36a65c333b",
       "value": false
      }
     },
     "dcc952a66232410fa1fa9c39859c4476": {
      "model_module": "@jupyter-widgets/controls",
      "model_module_version": "1.2.0",
      "model_name": "DescriptionStyleModel",
      "state": {
       "description_width": ""
      }
     },
     "dcef5ea0496c44698a49d5beef93f6dc": {
      "model_module": "@jupyter-widgets/controls",
      "model_module_version": "1.2.0",
      "model_name": "HBoxModel",
      "state": {
       "children": [
        "IPY_MODEL_3f782f8371a24ca888d0504cc2dce459",
        "IPY_MODEL_5aa161b57ab74c31a2990499812f4952",
        "IPY_MODEL_530b6a43fc7247a7977cc8fe43e528a8"
       ],
       "layout": "IPY_MODEL_7cadca4ec02f4e818ba61018391b0e13"
      }
     },
     "dd18ffaa4dfc435198684d85c94556fd": {
      "model_module": "@jupyter-widgets/controls",
      "model_module_version": "1.2.0",
      "model_name": "DescriptionStyleModel",
      "state": {
       "description_width": ""
      }
     },
     "dd195f3a9952423dafc9b0ec968d2a48": {
      "model_module": "@jupyter-widgets/controls",
      "model_module_version": "1.2.0",
      "model_name": "SelectModel",
      "state": {
       "_options_labels": [
        "sensor-H57/cells-01_SAv-100k_SSS-H57-20k_000_.SPE"
       ],
       "index": 0,
       "layout": "IPY_MODEL_08d3390a8eb14b92a51410e0026a657c",
       "style": "IPY_MODEL_6d4e419261bb4e17a496830abcc5eeef"
      }
     },
     "dd7044f1536541f8b6d88270e4b24fec": {
      "model_module": "@jupyter-widgets/base",
      "model_module_version": "1.0.0",
      "model_name": "LayoutModel",
      "state": {
       "width": "100%"
      }
     },
     "dd9a793a269044e9867362bea1452dfa": {
      "model_module": "@jupyter-widgets/base",
      "model_module_version": "1.0.0",
      "model_name": "LayoutModel",
      "state": {}
     },
     "dda7600d8fc0499ba6e567e3d915bcb3": {
      "model_module": "@jupyter-widgets/controls",
      "model_module_version": "1.2.0",
      "model_name": "DescriptionStyleModel",
      "state": {
       "description_width": ""
      }
     },
     "ddb3be3e81694f63b945845860c9def7": {
      "model_module": "@jupyter-widgets/base",
      "model_module_version": "1.0.0",
      "model_name": "LayoutModel",
      "state": {
       "height": "150px",
       "width": "100%"
      }
     },
     "de096bf297284c4ba9d71eb7a810dadd": {
      "model_module": "@jupyter-widgets/base",
      "model_module_version": "1.0.0",
      "model_name": "LayoutModel",
      "state": {}
     },
     "de5dcfa265124cf994457d534f2c4215": {
      "model_module": "@jupyter-widgets/base",
      "model_module_version": "1.0.0",
      "model_name": "LayoutModel",
      "state": {
       "width": "auto"
      }
     },
     "de8dd318d68f4b1eb8d39594928fba54": {
      "model_module": "@jupyter-widgets/base",
      "model_module_version": "1.0.0",
      "model_name": "LayoutModel",
      "state": {
       "height": "150px",
       "width": "100%"
      }
     },
     "dea425607c3c4f77828d2dd2c9b30da5": {
      "model_module": "@jupyter-widgets/controls",
      "model_module_version": "1.2.0",
      "model_name": "FloatTextModel",
      "state": {
       "description": "max.",
       "layout": "IPY_MODEL_d63e77dedafe48898558983d15f08ff5",
       "step": 0.1,
       "style": "IPY_MODEL_dcc952a66232410fa1fa9c39859c4476",
       "value": 2
      }
     },
     "deaa69adc590440db289d16e8652a34d": {
      "model_module": "@jupyter-widgets/base",
      "model_module_version": "1.0.0",
      "model_name": "LayoutModel",
      "state": {}
     },
     "deb869177dc842ffbca85924bb7b3bac": {
      "model_module": "@jupyter-widgets/controls",
      "model_module_version": "1.2.0",
      "model_name": "FloatTextModel",
      "state": {
       "description": "max.",
       "layout": "IPY_MODEL_8363f9755aa04c31946b49bf6d81e6cd",
       "step": 0.1,
       "style": "IPY_MODEL_f324c84ec2c446569519026b07558eb9",
       "value": 2
      }
     },
     "df29ef34cc8940728c89c77772ee9ad5": {
      "model_module": "@jupyter-widgets/base",
      "model_module_version": "1.0.0",
      "model_name": "LayoutModel",
      "state": {
       "height": "150px",
       "width": "100%"
      }
     },
     "df29faf8273e48a5bee8d7a223cc08ac": {
      "model_module": "@jupyter-widgets/controls",
      "model_module_version": "1.2.0",
      "model_name": "FloatTextModel",
      "state": {
       "description": "sigma",
       "layout": "IPY_MODEL_3a5322cb3cb44c848a6da8e63862da57",
       "step": 0.1,
       "style": "IPY_MODEL_3bdc168d46bd4052a5c6535d639525d8",
       "value": 1
      }
     },
     "df2a54fb5a494245ae210802a381041a": {
      "model_module": "@jupyter-widgets/controls",
      "model_module_version": "1.2.0",
      "model_name": "VBoxModel",
      "state": {
       "children": [
        "IPY_MODEL_b373f55994874a9ca52d3dc07d8d2ec9",
        "IPY_MODEL_5ae695377cd74172a7305615d64c90c8",
        "IPY_MODEL_bc80a2902e974e47896e17c68df9abe2"
       ],
       "layout": "IPY_MODEL_fd283a9b705b4e168f6a0f5ea4275613"
      }
     },
     "df36990af733499b9507d029215f2f00": {
      "model_module": "@jupyter-widgets/base",
      "model_module_version": "1.0.0",
      "model_name": "LayoutModel",
      "state": {
       "width": "auto"
      }
     },
     "df8dfe6ad0f143f28f5319492ffa643c": {
      "model_module": "@jupyter-widgets/base",
      "model_module_version": "1.0.0",
      "model_name": "LayoutModel",
      "state": {}
     },
     "dfe5a54b21634c8eacd2143a7e1bb3b1": {
      "model_module": "@jupyter-widgets/controls",
      "model_module_version": "1.2.0",
      "model_name": "FloatTextModel",
      "state": {
       "description": "min.",
       "layout": "IPY_MODEL_03aea725465c47fa9e097730c1678540",
       "step": 0.1,
       "style": "IPY_MODEL_b724a9b097eb4e71b1647452e5cbb443",
       "value": 0.5
      }
     },
     "dff1d4a928f6463dae129c8cad3d3d3c": {
      "model_module": "@jupyter-widgets/controls",
      "model_module_version": "1.2.0",
      "model_name": "FloatTextModel",
      "state": {
       "description": "max.",
       "layout": "IPY_MODEL_1538691f74b44e72ac2a71f43fa8d908",
       "step": 0.1,
       "style": "IPY_MODEL_0296a0f59d2b495eacb4a67dee643a45",
       "value": 2
      }
     },
     "e0096b38b7aa4a74a77947079110a333": {
      "model_module": "@jupyter-widgets/controls",
      "model_module_version": "1.2.0",
      "model_name": "VBoxModel",
      "state": {
       "children": [
        "IPY_MODEL_0409ab0ac45f4d6b9b8e29003830c6c8",
        "IPY_MODEL_fd0e1df331454e93be279f4fd43c1fb6",
        "IPY_MODEL_6df85268451941229b5f55fc27677442"
       ],
       "layout": "IPY_MODEL_6c118529db474c7ebc022a50f0818c18"
      }
     },
     "e02bb29280d04a059fd09a38ba6d3397": {
      "model_module": "@jupyter-widgets/controls",
      "model_module_version": "1.2.0",
      "model_name": "IntRangeSliderModel",
      "state": {
       "_model_name": "IntRangeSliderModel",
       "_view_name": "IntRangeSliderView",
       "layout": "IPY_MODEL_263c7b3f7a5945b1a9b4b41ecb3dc41f",
       "max": 65535,
       "style": "IPY_MODEL_7d08cafb736a41c2afb0cf75a29fa8b9",
       "value": [
        134,
        25393
       ]
      }
     },
     "e07320cc570c4cb19f38f6d1aa6da5d5": {
      "model_module": "@jupyter-widgets/controls",
      "model_module_version": "1.2.0",
      "model_name": "DescriptionStyleModel",
      "state": {
       "description_width": ""
      }
     },
     "e0af1a73d3514a41b622304dfcb6b8be": {
      "model_module": "@jupyter-widgets/base",
      "model_module_version": "1.0.0",
      "model_name": "LayoutModel",
      "state": {
       "display": "none"
      }
     },
     "e0c21e017fae4469abcf38c5338a9fcd": {
      "model_module": "@jupyter-widgets/controls",
      "model_module_version": "1.2.0",
      "model_name": "DescriptionStyleModel",
      "state": {
       "description_width": ""
      }
     },
     "e0de3359d3ad4c85a2024598e52fb1b2": {
      "model_module": "@jupyter-widgets/base",
      "model_module_version": "1.0.0",
      "model_name": "LayoutModel",
      "state": {}
     },
     "e1417e10882d453988e80d2eca921cce": {
      "model_module": "@jupyter-widgets/controls",
      "model_module_version": "1.2.0",
      "model_name": "VBoxModel",
      "state": {
       "children": [
        "IPY_MODEL_b97477e6a04949cb99a424a06ac29b0d",
        "IPY_MODEL_66e936967d4042edb49f55f4446bbcdb",
        "IPY_MODEL_64ffbb4965a94f559a4c0cfc26562eac"
       ],
       "layout": "IPY_MODEL_148091cf6441474c8ef54f7f093ea314"
      }
     },
     "e17c5727b9e04a1088b58e6a22d8b980": {
      "model_module": "@jupyter-widgets/controls",
      "model_module_version": "1.2.0",
      "model_name": "DescriptionStyleModel",
      "state": {
       "description_width": ""
      }
     },
     "e19a11b395424a579922ad3ad491538c": {
      "model_module": "@jupyter-widgets/controls",
      "model_module_version": "1.2.0",
      "model_name": "DescriptionStyleModel",
      "state": {
       "description_width": ""
      }
     },
     "e1a105091162443aaadaede73df61fab": {
      "model_module": "@jupyter-widgets/controls",
      "model_module_version": "1.2.0",
      "model_name": "FloatTextModel",
      "state": {
       "description": "sigma",
       "layout": "IPY_MODEL_a2391440da5a4bd8a2d990b49a348864",
       "step": 0.1,
       "style": "IPY_MODEL_a83984f400c94bf6991daf533bb787bc",
       "value": 1
      }
     },
     "e1eabbbfd4b04c4f88b559ebdf18eb02": {
      "model_module": "@jupyter-widgets/controls",
      "model_module_version": "1.2.0",
      "model_name": "IntRangeSliderModel",
      "state": {
       "_model_name": "IntRangeSliderModel",
       "_view_name": "IntRangeSliderView",
       "layout": "IPY_MODEL_5a5dc38c8a6a42f0a08431c0f89f295b",
       "max": 65535,
       "style": "IPY_MODEL_8f03041c80844d6aac8a93c20c78e2c3",
       "value": [
        134,
        25393
       ]
      }
     },
     "e201e92cb5fa41e8af16546c7577b729": {
      "model_module": "@jupyter-widgets/base",
      "model_module_version": "1.0.0",
      "model_name": "LayoutModel",
      "state": {
       "display": "flex",
       "flex_flow": "column wrap",
       "width": "66%"
      }
     },
     "e2501d102e874250bef67ae4226556e2": {
      "model_module": "@jupyter-widgets/controls",
      "model_module_version": "1.2.0",
      "model_name": "CheckboxModel",
      "state": {
       "description": "Size range",
       "disabled": false,
       "indent": false,
       "layout": "IPY_MODEL_0e15b4ab70e64fb69be8687a31917ad0",
       "style": "IPY_MODEL_12a71bb1fa3543c4a44273b64a802864",
       "value": false
      }
     },
     "e28a31bb25d64810b28a553f3b93e80b": {
      "model_module": "@jupyter-widgets/controls",
      "model_module_version": "1.2.0",
      "model_name": "DescriptionStyleModel",
      "state": {
       "description_width": ""
      }
     },
     "e2edb6304382450b823e5655179f5a6d": {
      "model_module": "@jupyter-widgets/controls",
      "model_module_version": "1.2.0",
      "model_name": "VBoxModel",
      "state": {
       "children": [
        "IPY_MODEL_2dcd207dc31e43ba81fa5e18ff2c7f5e",
        "IPY_MODEL_ee58ab783efa4765bb4701fd34701882",
        "IPY_MODEL_7ba82f1bc9f44a9ab5436345270cc38b"
       ],
       "layout": "IPY_MODEL_b2d2c403c2e54fc990e91655a19871f4"
      }
     },
     "e372ba2d74b8463db4786dc761cb09eb": {
      "model_module": "@jupyter-widgets/controls",
      "model_module_version": "1.2.0",
      "model_name": "DescriptionStyleModel",
      "state": {
       "description_width": ""
      }
     },
     "e3bdd03ca0ee4ed5bd7975bb27a948e7": {
      "model_module": "@jupyter-widgets/base",
      "model_module_version": "1.0.0",
      "model_name": "LayoutModel",
      "state": {
       "border": "1px solid gray"
      }
     },
     "e3e1a82efc5947c0830d8ce22bc8bd96": {
      "model_module": "@jupyter-widgets/base",
      "model_module_version": "1.0.0",
      "model_name": "LayoutModel",
      "state": {
       "height": "150px",
       "width": "100%"
      }
     },
     "e4432ff0f82a4912ac85dd08f6e539b0": {
      "model_module": "@jupyter-widgets/controls",
      "model_module_version": "1.2.0",
      "model_name": "FloatTextModel",
      "state": {
       "description": "threshold",
       "layout": "IPY_MODEL_4f59f7c7f95349aaaf46f4a293531ded",
       "step": 10,
       "style": "IPY_MODEL_603f6d221e8049b5a98f4145480c1bab",
       "value": 80
      }
     },
     "e443c838649f4033956e752b74c810a0": {
      "model_module": "@jupyter-widgets/base",
      "model_module_version": "1.0.0",
      "model_name": "LayoutModel",
      "state": {}
     },
     "e49caeeef93048f3a2f0ba4968ab5447": {
      "model_module": "@jupyter-widgets/base",
      "model_module_version": "1.0.0",
      "model_name": "LayoutModel",
      "state": {
       "width": "auto"
      }
     },
     "e4a7d5985d9246e59f591bf25c398d01": {
      "model_module": "@jupyter-widgets/controls",
      "model_module_version": "1.2.0",
      "model_name": "ButtonStyleModel",
      "state": {}
     },
     "e4b7ecda4ad2471eb30d35e20928ad25": {
      "model_module": "@jupyter-widgets/controls",
      "model_module_version": "1.2.0",
      "model_name": "CheckboxModel",
      "state": {
       "description": "Min. distance",
       "disabled": false,
       "indent": false,
       "layout": "IPY_MODEL_d390553b939f4f698bd9795f988dd207",
       "style": "IPY_MODEL_0f6cb1432de1435a9412ac14c5c56d0b",
       "value": true
      }
     },
     "e4cf0e0a78374e2080f293b628f173bf": {
      "model_module": "@jupyter-widgets/controls",
      "model_module_version": "1.2.0",
      "model_name": "FloatTextModel",
      "state": {
       "description": "sigma",
       "layout": "IPY_MODEL_004a165785f648a6af498860645ce22a",
       "step": 0.1,
       "style": "IPY_MODEL_c8a4732a27e4461ea7a550108f273591",
       "value": 1
      }
     },
     "e4cfcf0e648d475b8b59be966b465866": {
      "model_module": "@jupyter-widgets/base",
      "model_module_version": "1.0.0",
      "model_name": "LayoutModel",
      "state": {}
     },
     "e52dc050c90b4f95ae0574a97f6bab48": {
      "model_module": "@jupyter-widgets/base",
      "model_module_version": "1.0.0",
      "model_name": "LayoutModel",
      "state": {
       "width": "auto"
      }
     },
     "e5af1c9d0bf94a41b4eba05dd22e83ff": {
      "model_module": "@jupyter-widgets/controls",
      "model_module_version": "1.2.0",
      "model_name": "FloatTextModel",
      "state": {
       "description": "max.",
       "layout": "IPY_MODEL_9a954b9891c644eba6660740314c3850",
       "step": 0.1,
       "style": "IPY_MODEL_c1d97af4af07498cae7d5b1c4be5295c",
       "value": 2
      }
     },
     "e5f0b576dc474a79ba6dde69d2627e1e": {
      "model_module": "@jupyter-widgets/controls",
      "model_module_version": "1.2.0",
      "model_name": "FloatTextModel",
      "state": {
       "description": "radius",
       "layout": "IPY_MODEL_8da328fcd8204bd592c2e6cc3480b1d4",
       "step": 0.1,
       "style": "IPY_MODEL_f23b5d5e3296400aa8a5af05287ca5f2",
       "value": 1
      }
     },
     "e61264a217664ee696e47284c439a285": {
      "model_module": "@jupyter-widgets/controls",
      "model_module_version": "1.2.0",
      "model_name": "FloatTextModel",
      "state": {
       "layout": "IPY_MODEL_695b82bde4b24db099d5eeaa49f2b112",
       "step": 0.1,
       "style": "IPY_MODEL_fbd86cc786c14f238655e284433736d9",
       "value": 3
      }
     },
     "e671edec20394f92b29c23c6cad1c372": {
      "model_module": "@jupyter-widgets/controls",
      "model_module_version": "1.2.0",
      "model_name": "DescriptionStyleModel",
      "state": {
       "description_width": ""
      }
     },
     "e675eb635a8d47be92f5923a24b15780": {
      "model_module": "@jupyter-widgets/controls",
      "model_module_version": "1.2.0",
      "model_name": "DescriptionStyleModel",
      "state": {
       "description_width": ""
      }
     },
     "e6b2ca2ca1f64f1b80e5d80da0c6ad93": {
      "model_module": "@jupyter-widgets/controls",
      "model_module_version": "1.2.0",
      "model_name": "DescriptionStyleModel",
      "state": {
       "description_width": ""
      }
     },
     "e6bb0a1678d840b8bf53ff3fd98da3fa": {
      "model_module": "@jupyter-widgets/controls",
      "model_module_version": "1.2.0",
      "model_name": "BoundedIntTextModel",
      "state": {
       "description": "frame",
       "layout": "IPY_MODEL_5374c6190bc94421b907718a226cc3ce",
       "max": 0,
       "style": "IPY_MODEL_687a2ff0b9fe40e791b38a8bc7183f14"
      }
     },
     "e6f90818e44e4f82bdae93466567aec2": {
      "model_module": "@jupyter-widgets/base",
      "model_module_version": "1.0.0",
      "model_name": "LayoutModel",
      "state": {
       "width": "auto"
      }
     },
     "e704f90bcb3c446badc7d2eeb77c1ff3": {
      "model_module": "@jupyter-widgets/base",
      "model_module_version": "1.0.0",
      "model_name": "LayoutModel",
      "state": {
       "display": "none"
      }
     },
     "e71fb3523ffa4b1aa40a594304fe041f": {
      "model_module": "@jupyter-widgets/base",
      "model_module_version": "1.0.0",
      "model_name": "LayoutModel",
      "state": {
       "display": "none"
      }
     },
     "e73200dfa3a84a7e902c264f06cb8050": {
      "model_module": "@jupyter-widgets/base",
      "model_module_version": "1.0.0",
      "model_name": "LayoutModel",
      "state": {
       "border": "1px solid gray"
      }
     },
     "e73df47e85a94b77813998ab4e5b26ee": {
      "model_module": "@jupyter-widgets/base",
      "model_module_version": "1.0.0",
      "model_name": "LayoutModel",
      "state": {
       "display": "flex",
       "flex_flow": "column wrap",
       "width": "66%"
      }
     },
     "e761c5db4766467895ca2f34b0e4a0da": {
      "model_module": "@jupyter-widgets/base",
      "model_module_version": "1.0.0",
      "model_name": "LayoutModel",
      "state": {
       "display": "none"
      }
     },
     "e79b245b362c4276a0cd73ea74f0d8c9": {
      "model_module": "@jupyter-widgets/base",
      "model_module_version": "1.0.0",
      "model_name": "LayoutModel",
      "state": {
       "width": "auto"
      }
     },
     "e81b1626cd0a43708106ffdbcf2dc112": {
      "model_module": "@jupyter-widgets/controls",
      "model_module_version": "1.2.0",
      "model_name": "HBoxModel",
      "state": {
       "children": [
        "IPY_MODEL_224e1cf0fe094f1cb7bd8bd9e295a39e",
        "IPY_MODEL_9afd4d9e38e94b159e27835ab50dbb0b",
        "IPY_MODEL_7a134be248c44819aa97966728f0c277"
       ],
       "layout": "IPY_MODEL_0bd360a680314cf9ae5ad3f3958c587e"
      }
     },
     "e8f311db4aae46339bc213801ec79649": {
      "model_module": "@jupyter-widgets/controls",
      "model_module_version": "1.2.0",
      "model_name": "DescriptionStyleModel",
      "state": {
       "description_width": ""
      }
     },
     "e8f899ae81b342c3a754c989ebecfc61": {
      "model_module": "@jupyter-widgets/base",
      "model_module_version": "1.0.0",
      "model_name": "LayoutModel",
      "state": {
       "width": "75%"
      }
     },
     "e91726fd7c014a8ba3e9371ba0ef440d": {
      "model_module": "@jupyter-widgets/controls",
      "model_module_version": "1.2.0",
      "model_name": "IntTextModel",
      "state": {
       "description": "feat. size",
       "layout": "IPY_MODEL_098bb99af1444004b3183b58bee89a05",
       "step": 1,
       "style": "IPY_MODEL_34bf8cbaf2714eb597514540f77ca60d",
       "value": 3
      }
     },
     "e930f2092d854d7595af2c6f9be1d517": {
      "model_module": "@jupyter-widgets/base",
      "model_module_version": "1.0.0",
      "model_name": "LayoutModel",
      "state": {
       "width": "auto"
      }
     },
     "e96c896d4f344616b11a89abc57afed0": {
      "model_module": "@jupyter-widgets/controls",
      "model_module_version": "1.2.0",
      "model_name": "DescriptionStyleModel",
      "state": {
       "description_width": ""
      }
     },
     "e98a03ff22104c9aafaced303ca0cc23": {
      "model_module": "@jupyter-widgets/controls",
      "model_module_version": "1.2.0",
      "model_name": "VBoxModel",
      "state": {
       "children": [
        "IPY_MODEL_4d8797da39e146098e2acf3e58307800",
        "IPY_MODEL_963fcc50330b45d085af26165f78fcfd",
        "IPY_MODEL_4beac3c535f3486a8b97bcaede91171a"
       ],
       "layout": "IPY_MODEL_d11b8b45a4ad44eea60029274dfe2e79"
      }
     },
     "e98ebd4492074318973e80751dd01ac2": {
      "model_module": "@jupyter-widgets/controls",
      "model_module_version": "1.2.0",
      "model_name": "DescriptionStyleModel",
      "state": {
       "description_width": ""
      }
     },
     "ea03a5b8e13845c1a1f05cd163f41ba5": {
      "model_module": "@jupyter-widgets/controls",
      "model_module_version": "1.2.0",
      "model_name": "HBoxModel",
      "state": {
       "children": [
        "IPY_MODEL_38a7fdf1a3bb4fc5ba8172b7e156b029",
        "IPY_MODEL_7c91f459dac54e8fa020dd41e8b948e8",
        "IPY_MODEL_67a2721f2fb745d78c88542cc4b0693c"
       ],
       "layout": "IPY_MODEL_a618d0b1bf9a4b6aaebbc4f56e910f8c"
      }
     },
     "ea0b6a5546d9429ea7de2c7325b94dc9": {
      "model_module": "@jupyter-widgets/controls",
      "model_module_version": "1.2.0",
      "model_name": "DescriptionStyleModel",
      "state": {
       "description_width": ""
      }
     },
     "ea337e089ffe4346ad274bae74d547e6": {
      "model_module": "@jupyter-widgets/controls",
      "model_module_version": "1.2.0",
      "model_name": "DescriptionStyleModel",
      "state": {
       "description_width": ""
      }
     },
     "ea6aa6a598bf4cf597fb6d0781cf82d7": {
      "model_module": "@jupyter-widgets/controls",
      "model_module_version": "1.2.0",
      "model_name": "CheckboxModel",
      "state": {
       "description": "Size range",
       "disabled": false,
       "indent": false,
       "layout": "IPY_MODEL_3681124aa8ad436984338a2f81ea7fcb",
       "style": "IPY_MODEL_8a6550c5cbe647d68a2115ac8442b978",
       "value": false
      }
     },
     "ea75b7b76fc947c1a28b1f756d684b82": {
      "model_module": "@jupyter-widgets/base",
      "model_module_version": "1.0.0",
      "model_name": "LayoutModel",
      "state": {}
     },
     "eabca0ff3a3d4966ae8ae42be2d62ee4": {
      "model_module": "@jupyter-widgets/controls",
      "model_module_version": "1.2.0",
      "model_name": "FloatTextModel",
      "state": {
       "layout": "IPY_MODEL_0fbf87dece764104b2cc5449cc9c7045",
       "step": 0.1,
       "style": "IPY_MODEL_48c68a4560844d3fbb31562db6e9683e",
       "value": 3
      }
     },
     "eabfc79546414ba9812c47f254b8d06b": {
      "model_module": "@jupyter-widgets/controls",
      "model_module_version": "1.2.0",
      "model_name": "DescriptionStyleModel",
      "state": {
       "description_width": ""
      }
     },
     "eae3fcedbbfc4f4b81a8fd7d7fa9cea1": {
      "model_module": "@jupyter-widgets/controls",
      "model_module_version": "1.2.0",
      "model_name": "HBoxModel",
      "state": {
       "children": [
        "IPY_MODEL_7b03f085f65f420f8a3f52353e8d06af",
        "IPY_MODEL_91965d064d4e404fb585454f0d66f835"
       ],
       "layout": "IPY_MODEL_1e3129fc5cd44769b18bc99ca51ed37a"
      }
     },
     "eb2d64499f374b36a0f83207af0348f7": {
      "model_module": "@jupyter-widgets/controls",
      "model_module_version": "1.2.0",
      "model_name": "DescriptionStyleModel",
      "state": {
       "description_width": ""
      }
     },
     "eb4125f7a52e4823b9976a3c9e7e9aea": {
      "model_module": "@jupyter-widgets/controls",
      "model_module_version": "1.2.0",
      "model_name": "DescriptionStyleModel",
      "state": {
       "description_width": ""
      }
     },
     "eb5451efc5f34fe5a9562b3a22bd3ccc": {
      "model_module": "@jupyter-widgets/controls",
      "model_module_version": "1.2.0",
      "model_name": "DescriptionStyleModel",
      "state": {
       "description_width": ""
      }
     },
     "eb85ee028e3b458b8c9f8e8945f5c950": {
      "model_module": "@jupyter-widgets/base",
      "model_module_version": "1.0.0",
      "model_name": "LayoutModel",
      "state": {}
     },
     "eb8a6c492cbb40afa6de05b53bec888b": {
      "model_module": "@jupyter-widgets/controls",
      "model_module_version": "1.2.0",
      "model_name": "ButtonStyleModel",
      "state": {}
     },
     "eb8ea61d9b884dfeab0e5844d8e02b7a": {
      "model_module": "@jupyter-widgets/controls",
      "model_module_version": "1.2.0",
      "model_name": "BoundedIntTextModel",
      "state": {
       "description": "frame",
       "layout": "IPY_MODEL_79408f63579c4a6eb87afeda2a783ead",
       "max": 49,
       "style": "IPY_MODEL_486ef561d5ad4ed8b6b402d8f99f85c4"
      }
     },
     "eb93cedbbc1a4dd899a9900ff44c55a5": {
      "model_module": "@jupyter-widgets/base",
      "model_module_version": "1.0.0",
      "model_name": "LayoutModel",
      "state": {}
     },
     "eb9b74271d2d44dcb8aced8f36b6dea4": {
      "model_module": "@jupyter-widgets/controls",
      "model_module_version": "1.2.0",
      "model_name": "DescriptionStyleModel",
      "state": {
       "description_width": ""
      }
     },
     "ebb31843612e4b4fb1f96750a22bf8a9": {
      "model_module": "@jupyter-widgets/controls",
      "model_module_version": "1.2.0",
      "model_name": "FloatTextModel",
      "state": {
       "layout": "IPY_MODEL_d0e29c1372864fdeb9e793b8d54bae2b",
       "step": 0.1,
       "style": "IPY_MODEL_2dfba74104b24ebe8e5d983f36979c28",
       "value": 3
      }
     },
     "ebfdd479dffd499392a03cd744a5e4a0": {
      "model_module": "@jupyter-widgets/controls",
      "model_module_version": "1.2.0",
      "model_name": "HBoxModel",
      "state": {
       "children": [
        "IPY_MODEL_a60a97a0997c4d61b56ed21f67dcdefa",
        "IPY_MODEL_7eba0bf824a04ba59bf6385b7b96348e"
       ],
       "layout": "IPY_MODEL_60ec7cfe558846189357291a45dc9a81"
      }
     },
     "ebfe0329c9a54c26a8d0d1bc90fd1a37": {
      "model_module": "@jupyter-widgets/controls",
      "model_module_version": "1.2.0",
      "model_name": "IntRangeSliderModel",
      "state": {
       "_model_name": "IntRangeSliderModel",
       "_view_name": "IntRangeSliderView",
       "layout": "IPY_MODEL_2750af465b3b43f9b53afe32e8b254fa",
       "max": 65535,
       "style": "IPY_MODEL_095a4faaffa94acba0dd70dc2c9df44f",
       "value": [
        288,
        891
       ]
      }
     },
     "ec077ad547c24384a0fa385f60917c41": {
      "model_module": "@jupyter-widgets/base",
      "model_module_version": "1.0.0",
      "model_name": "LayoutModel",
      "state": {}
     },
     "ec102a599105400b922cb4662298b6c5": {
      "model_module": "@jupyter-widgets/base",
      "model_module_version": "1.0.0",
      "model_name": "LayoutModel",
      "state": {}
     },
     "ec3a39d4975e48498ef052621df3d348": {
      "model_module": "@jupyter-widgets/controls",
      "model_module_version": "1.2.0",
      "model_name": "FloatTextModel",
      "state": {
       "description": "threshold",
       "layout": "IPY_MODEL_62d7207d1edb4aec95d7b6c0366bf9a0",
       "step": 10,
       "style": "IPY_MODEL_9740de8672ba4075ba979d71501a1f50",
       "value": 100
      }
     },
     "ec76c6f4165e4b56bbbc2ebc8027f09c": {
      "model_module": "@jupyter-widgets/controls",
      "model_module_version": "1.2.0",
      "model_name": "DropdownModel",
      "state": {
       "_options_labels": [
        "2d_fixed",
        "2d",
        "3d"
       ],
       "description": "model",
       "index": 1,
       "layout": "IPY_MODEL_7b761e89fa234cb08725d6348836a0ee",
       "style": "IPY_MODEL_eb4125f7a52e4823b9976a3c9e7e9aea"
      }
     },
     "ecb8bac5108d45a78922b28f3f46ed26": {
      "model_module": "@jupyter-widgets/controls",
      "model_module_version": "1.2.0",
      "model_name": "DescriptionStyleModel",
      "state": {
       "description_width": ""
      }
     },
     "ecc12122d14a49e08bd8d8a6abf47879": {
      "model_module": "@jupyter-widgets/base",
      "model_module_version": "1.0.0",
      "model_name": "LayoutModel",
      "state": {
       "height": "150px",
       "width": "100%"
      }
     },
     "ecceb57342d84d7eb2790085b645c9d5": {
      "model_module": "@jupyter-widgets/base",
      "model_module_version": "1.0.0",
      "model_name": "LayoutModel",
      "state": {
       "display": "inline"
      }
     },
     "ecd47fa07d1142bea9392cc41b33eee5": {
      "model_module": "@jupyter-widgets/controls",
      "model_module_version": "1.2.0",
      "model_name": "DescriptionStyleModel",
      "state": {
       "description_width": ""
      }
     },
     "ed0d482f13a94b8aa51d17b77120e7e0": {
      "model_module": "@jupyter-widgets/controls",
      "model_module_version": "1.2.0",
      "model_name": "DescriptionStyleModel",
      "state": {
       "description_width": ""
      }
     },
     "ed1451ab05ed447b886aebbf160448e1": {
      "model_module": "@jupyter-widgets/controls",
      "model_module_version": "1.2.0",
      "model_name": "VBoxModel",
      "state": {
       "children": [
        "IPY_MODEL_dd195f3a9952423dafc9b0ec968d2a48",
        "IPY_MODEL_dc762c2f03604770bfc42e728b938bfb"
       ],
       "layout": "IPY_MODEL_030beaf9a07c41708ef5d2a2e0be05f5"
      }
     },
     "ed36a418cd2a4bd0b0d8656c05df3454": {
      "model_module": "@jupyter-widgets/controls",
      "model_module_version": "1.2.0",
      "model_name": "SliderStyleModel",
      "state": {
       "description_width": ""
      }
     },
     "ed60be68de04477a94324f0eb040ef4d": {
      "model_module": "@jupyter-widgets/controls",
      "model_module_version": "1.2.0",
      "model_name": "SliderStyleModel",
      "state": {
       "description_width": ""
      }
     },
     "ed6380d8ac0d4669808c453d50ba50a5": {
      "model_module": "@jupyter-widgets/controls",
      "model_module_version": "1.2.0",
      "model_name": "DescriptionStyleModel",
      "state": {
       "description_width": ""
      }
     },
     "ed663a271ac945caa0969117f52a1111": {
      "model_module": "@jupyter-widgets/base",
      "model_module_version": "1.0.0",
      "model_name": "LayoutModel",
      "state": {
       "width": "auto"
      }
     },
     "ed7a81a126de4e08aa3a55b3e4fbfa4a": {
      "model_module": "@jupyter-widgets/base",
      "model_module_version": "1.0.0",
      "model_name": "LayoutModel",
      "state": {}
     },
     "ed92f97417e347d18132099a5875532b": {
      "model_module": "@jupyter-widgets/controls",
      "model_module_version": "1.2.0",
      "model_name": "DescriptionStyleModel",
      "state": {
       "description_width": ""
      }
     },
     "edc2949c96304ab1b6e61e36f72849ca": {
      "model_module": "@jupyter-widgets/controls",
      "model_module_version": "1.2.0",
      "model_name": "DescriptionStyleModel",
      "state": {
       "description_width": ""
      }
     },
     "edcf26e89f0140129f39cf5f6752a772": {
      "model_module": "@jupyter-widgets/base",
      "model_module_version": "1.0.0",
      "model_name": "LayoutModel",
      "state": {
       "width": "auto"
      }
     },
     "edd9c9425ed94f2195ebe182c687351a": {
      "model_module": "@jupyter-widgets/controls",
      "model_module_version": "1.2.0",
      "model_name": "DescriptionStyleModel",
      "state": {
       "description_width": ""
      }
     },
     "edfce0634e054ba1804ee9fa334e0c8e": {
      "model_module": "@jupyter-widgets/base",
      "model_module_version": "1.0.0",
      "model_name": "LayoutModel",
      "state": {
       "border": "1px solid gray"
      }
     },
     "ee58ab783efa4765bb4701fd34701882": {
      "model_module": "@jupyter-widgets/controls",
      "model_module_version": "1.2.0",
      "model_name": "FloatTextModel",
      "state": {
       "description": "min.",
       "layout": "IPY_MODEL_57792291a97947bbabf742c7d545ef62",
       "step": 0.1,
       "style": "IPY_MODEL_6a117355361e4c94b6d24f81401c6571",
       "value": 0.5
      }
     },
     "eea8ebc84b0f4de58a6dc8e82012bc74": {
      "model_module": "@jupyter-widgets/base",
      "model_module_version": "1.0.0",
      "model_name": "LayoutModel",
      "state": {}
     },
     "eec64e22e1e84613999d8be9d4cecb85": {
      "model_module": "@jupyter-widgets/controls",
      "model_module_version": "1.2.0",
      "model_name": "HBoxModel",
      "state": {
       "children": [
        "IPY_MODEL_e02bb29280d04a059fd09a38ba6d3397",
        "IPY_MODEL_eefc05589d104739b94dba9f93d62444",
        "IPY_MODEL_49f47ccf89f748e787085a389a86a031"
       ],
       "layout": "IPY_MODEL_11bc5b1e3dc949a284eaa6fedf5ca20e"
      }
     },
     "eee1dd1696e74a3d9eef271fc2b51b01": {
      "model_module": "@jupyter-widgets/controls",
      "model_module_version": "1.2.0",
      "model_name": "HBoxModel",
      "state": {
       "children": [
        "IPY_MODEL_425c2255dfdc44a39fbc8ac9b2d7bb89",
        "IPY_MODEL_2efa69b4d750402ebc98cbc7f32d21de",
        "IPY_MODEL_23584d65dabc4ac5bca52dd8242e6d0b"
       ],
       "layout": "IPY_MODEL_172848b4e2ee4cc0acb10b8f5bfebb13"
      }
     },
     "eefc05589d104739b94dba9f93d62444": {
      "model_module": "@jupyter-widgets/controls",
      "model_module_version": "1.2.0",
      "model_name": "ButtonModel",
      "state": {
       "description": "Auto",
       "layout": "IPY_MODEL_2e7b3e7890d948e0915983a4ef86ab85",
       "style": "IPY_MODEL_bdd95c5267ef40069426a2ef7b620280"
      }
     },
     "ef11086c136645e6bcb1b062b9132344": {
      "model_module": "@jupyter-widgets/controls",
      "model_module_version": "1.2.0",
      "model_name": "VBoxModel",
      "state": {
       "children": [
        "IPY_MODEL_0203ed12b70147ab820d372e3bb3afd2",
        "IPY_MODEL_bd2af5b109eb499596c35b07c0e3869c",
        "IPY_MODEL_dff1d4a928f6463dae129c8cad3d3d3c"
       ],
       "layout": "IPY_MODEL_4fd56e3ac5d54036ab16c9db9aa9eee6"
      }
     },
     "ef583b65214f4e799def73a9bcee58da": {
      "model_module": "@jupyter-widgets/base",
      "model_module_version": "1.0.0",
      "model_name": "LayoutModel",
      "state": {}
     },
     "ef7105e4a7684fe1b412815e09bf964e": {
      "model_module": "@jupyter-widgets/controls",
      "model_module_version": "1.2.0",
      "model_name": "DropdownModel",
      "state": {
       "_options_labels": [
        "Identity",
        "Cg",
        "Gaussian"
       ],
       "description": "find filter",
       "index": 1,
       "layout": "IPY_MODEL_f3c89bc563f94825b2d2fa0c2d695979",
       "style": "IPY_MODEL_1fad2e716f70409e858650e25736c999"
      }
     },
     "ef9284b5f5e14297af782c30a61ebab1": {
      "model_module": "@jupyter-widgets/controls",
      "model_module_version": "1.2.0",
      "model_name": "FloatTextModel",
      "state": {
       "description": "max.",
       "layout": "IPY_MODEL_6b47dd2b40204bcbb0d7c6efa0d74984",
       "step": 0.1,
       "style": "IPY_MODEL_0b016037b1b242e09c406091965d5de8",
       "value": 2
      }
     },
     "ef95de6fd94f45e78a72b3debec04d11": {
      "model_module": "@jupyter-widgets/base",
      "model_module_version": "1.0.0",
      "model_name": "LayoutModel",
      "state": {
       "display": "none"
      }
     },
     "ef96b9ee0b834f7ebd60e3a76226f34e": {
      "model_module": "@jupyter-widgets/base",
      "model_module_version": "1.0.0",
      "model_name": "LayoutModel",
      "state": {
       "display": "none"
      }
     },
     "efabb69312cd4d66ba1eced521f74e56": {
      "model_module": "@jupyter-widgets/controls",
      "model_module_version": "1.2.0",
      "model_name": "DescriptionStyleModel",
      "state": {
       "description_width": ""
      }
     },
     "efc6cb4e8cab4a86ae2521db39ceb4ae": {
      "model_module": "@jupyter-widgets/controls",
      "model_module_version": "1.2.0",
      "model_name": "DescriptionStyleModel",
      "state": {
       "description_width": ""
      }
     },
     "eff1bedff8c4495781f64e72b69d3fe7": {
      "model_module": "@jupyter-widgets/controls",
      "model_module_version": "1.2.0",
      "model_name": "BoundedIntTextModel",
      "state": {
       "description": "frame",
       "layout": "IPY_MODEL_be961b89ce0a4149973cabf1c701a3d0",
       "max": 0,
       "style": "IPY_MODEL_dda7600d8fc0499ba6e567e3d915bcb3"
      }
     },
     "f0367f1de118469ba8b00941e610a68e": {
      "model_module": "@jupyter-widgets/controls",
      "model_module_version": "1.2.0",
      "model_name": "SliderStyleModel",
      "state": {
       "description_width": ""
      }
     },
     "f09107aafae74a6fa022c90364a58dcf": {
      "model_module": "@jupyter-widgets/controls",
      "model_module_version": "1.2.0",
      "model_name": "DescriptionStyleModel",
      "state": {
       "description_width": ""
      }
     },
     "f0a8fd71c949419c816299f44103538f": {
      "model_module": "@jupyter-widgets/controls",
      "model_module_version": "1.2.0",
      "model_name": "ButtonStyleModel",
      "state": {}
     },
     "f0c56595a26442fda945eba4d2ce93de": {
      "model_module": "@jupyter-widgets/base",
      "model_module_version": "1.0.0",
      "model_name": "LayoutModel",
      "state": {
       "width": "75%"
      }
     },
     "f0c7bb441e6e4b528f534b973d41fad0": {
      "model_module": "@jupyter-widgets/controls",
      "model_module_version": "1.2.0",
      "model_name": "DropdownModel",
      "state": {
       "_options_labels": [
        "Identity",
        "Cg",
        "Gaussian"
       ],
       "description": "find filter",
       "index": 1,
       "layout": "IPY_MODEL_71e2a8a45af34ed788cde52d8bfa61bf",
       "style": "IPY_MODEL_7364276c133a4c3eaaa343befc2a703b"
      }
     },
     "f11472961bf9417bb5f947a08586a9f8": {
      "model_module": "@jupyter-widgets/base",
      "model_module_version": "1.0.0",
      "model_name": "LayoutModel",
      "state": {
       "display": "none"
      }
     },
     "f172e379c8aa40d498e73d9fe907025a": {
      "model_module": "@jupyter-widgets/base",
      "model_module_version": "1.0.0",
      "model_name": "LayoutModel",
      "state": {
       "width": "auto"
      }
     },
     "f17b48ffaafc4ac482e8809faaa834a8": {
      "model_module": "@jupyter-widgets/controls",
      "model_module_version": "1.2.0",
      "model_name": "FloatTextModel",
      "state": {
       "description": "max.",
       "layout": "IPY_MODEL_354a798a39b64454b1601798ffc3b8da",
       "step": 0.1,
       "style": "IPY_MODEL_e28a31bb25d64810b28a553f3b93e80b",
       "value": 2
      }
     },
     "f196e1c1e9ca4dfa8acc074641bccf84": {
      "model_module": "@jupyter-widgets/controls",
      "model_module_version": "1.2.0",
      "model_name": "HBoxModel",
      "state": {
       "children": [
        "IPY_MODEL_91e07288880e4ec1acbb5ce39898e869",
        "IPY_MODEL_ccd4bace9fbc441ba44bf1a202ee6362",
        "IPY_MODEL_a07147f711e7440981b4726a70f1a092"
       ],
       "layout": "IPY_MODEL_2dd721c826fe4e56abc05887e2133573"
      }
     },
     "f23b5d5e3296400aa8a5af05287ca5f2": {
      "model_module": "@jupyter-widgets/controls",
      "model_module_version": "1.2.0",
      "model_name": "DescriptionStyleModel",
      "state": {
       "description_width": ""
      }
     },
     "f29c89eed6f944288cabe9167b510179": {
      "model_module": "@jupyter-widgets/controls",
      "model_module_version": "1.2.0",
      "model_name": "IntRangeSliderModel",
      "state": {
       "_model_name": "IntRangeSliderModel",
       "_view_name": "IntRangeSliderView",
       "layout": "IPY_MODEL_40da11987c9848cdbf569fd8a495553c",
       "max": 65535,
       "style": "IPY_MODEL_1bef31ac08074ebd95693403b9f1d5a3",
       "value": [
        288,
        891
       ]
      }
     },
     "f29de83593364a6189ab59bcbb2c320b": {
      "model_module": "@jupyter-widgets/base",
      "model_module_version": "1.0.0",
      "model_name": "LayoutModel",
      "state": {
       "width": "auto"
      }
     },
     "f2ae8795066b405d86ad6b62f338983a": {
      "model_module": "@jupyter-widgets/base",
      "model_module_version": "1.0.0",
      "model_name": "LayoutModel",
      "state": {
       "border": "1px solid gray"
      }
     },
     "f2bd6ab3067c4d40a222a12115b3f9b8": {
      "model_module": "@jupyter-widgets/controls",
      "model_module_version": "1.2.0",
      "model_name": "DescriptionStyleModel",
      "state": {
       "description_width": ""
      }
     },
     "f2e48de82e5e4ca78a857a4de020d8ed": {
      "model_module": "@jupyter-widgets/controls",
      "model_module_version": "1.2.0",
      "model_name": "DescriptionStyleModel",
      "state": {
       "description_width": ""
      }
     },
     "f324c84ec2c446569519026b07558eb9": {
      "model_module": "@jupyter-widgets/controls",
      "model_module_version": "1.2.0",
      "model_name": "DescriptionStyleModel",
      "state": {
       "description_width": ""
      }
     },
     "f33352c769984bdb8569397b5ea79843": {
      "model_module": "@jupyter-widgets/controls",
      "model_module_version": "1.2.0",
      "model_name": "DescriptionStyleModel",
      "state": {
       "description_width": ""
      }
     },
     "f3a8f38b4099453fb837d8a3180abfa0": {
      "model_module": "@jupyter-widgets/controls",
      "model_module_version": "1.2.0",
      "model_name": "DropdownModel",
      "state": {
       "_options_labels": [
        "Identity",
        "Cg",
        "Gaussian"
       ],
       "description": "find filter",
       "index": 1,
       "layout": "IPY_MODEL_b2c338fba7c1448fab4e5e40f1bb83ea",
       "style": "IPY_MODEL_510ee8b717534a4d8b82f40a272d87ab"
      }
     },
     "f3c89bc563f94825b2d2fa0c2d695979": {
      "model_module": "@jupyter-widgets/base",
      "model_module_version": "1.0.0",
      "model_name": "LayoutModel",
      "state": {}
     },
     "f3fe849b769549d88ae6c1c18b4d822a": {
      "model_module": "@jupyter-widgets/controls",
      "model_module_version": "1.2.0",
      "model_name": "HBoxModel",
      "state": {
       "children": [
        "IPY_MODEL_9aee29ab4cc848afaf842d2d5646e63a",
        "IPY_MODEL_7e5d3d35dfdd4bd991635af6b96bb962"
       ],
       "layout": "IPY_MODEL_df29ef34cc8940728c89c77772ee9ad5"
      }
     },
     "f42361a75b9c48f8857e0386448ae651": {
      "model_module": "@jupyter-widgets/controls",
      "model_module_version": "1.2.0",
      "model_name": "VBoxModel",
      "state": {
       "children": [
        "IPY_MODEL_3130d4af28a546978472cdba8dbea286",
        "IPY_MODEL_e6bb0a1678d840b8bf53ff3fd98da3fa"
       ],
       "layout": "IPY_MODEL_f59db48ee96a483395380fe38418a6ab"
      }
     },
     "f443d29c5dd3424c9ade9b292ee221a8": {
      "model_module": "@jupyter-widgets/base",
      "model_module_version": "1.0.0",
      "model_name": "LayoutModel",
      "state": {
       "display": "inline"
      }
     },
     "f46d6a4ed27843f8a95281949e729744": {
      "model_module": "@jupyter-widgets/base",
      "model_module_version": "1.0.0",
      "model_name": "LayoutModel",
      "state": {
       "display": "none"
      }
     },
     "f4b1ca26edcd4aeba20d0a79cfd32d91": {
      "model_module": "@jupyter-widgets/controls",
      "model_module_version": "1.2.0",
      "model_name": "FloatTextModel",
      "state": {
       "description": "radius",
       "layout": "IPY_MODEL_9a13d87c2d0e4accaae306bf2e17d6f8",
       "step": 0.1,
       "style": "IPY_MODEL_efabb69312cd4d66ba1eced521f74e56",
       "value": 1
      }
     },
     "f4d925586cb5456aaa0898a766e65d87": {
      "model_module": "@jupyter-widgets/base",
      "model_module_version": "1.0.0",
      "model_name": "LayoutModel",
      "state": {
       "width": "auto"
      }
     },
     "f4ea95c3704c4136a4bc40e6012cd317": {
      "model_module": "@jupyter-widgets/base",
      "model_module_version": "1.0.0",
      "model_name": "LayoutModel",
      "state": {
       "display": "inline"
      }
     },
     "f50e9f5e514d4963ba51a75e6d336b29": {
      "model_module": "@jupyter-widgets/base",
      "model_module_version": "1.0.0",
      "model_name": "LayoutModel",
      "state": {}
     },
     "f5171890257d4ae9b7960af46e292557": {
      "model_module": "@jupyter-widgets/controls",
      "model_module_version": "1.2.0",
      "model_name": "DescriptionStyleModel",
      "state": {
       "description_width": ""
      }
     },
     "f5306b3e27b34a36b78936378aa1c28e": {
      "model_module": "@jupyter-widgets/controls",
      "model_module_version": "1.2.0",
      "model_name": "DescriptionStyleModel",
      "state": {
       "description_width": ""
      }
     },
     "f53d54a2a8564fc68b9b92403f6aa5ea": {
      "model_module": "@jupyter-widgets/base",
      "model_module_version": "1.0.0",
      "model_name": "LayoutModel",
      "state": {}
     },
     "f551e0a9a14f4daba1785cac22224852": {
      "model_module": "@jupyter-widgets/controls",
      "model_module_version": "1.2.0",
      "model_name": "DescriptionStyleModel",
      "state": {
       "description_width": ""
      }
     },
     "f5701a9022c04a45b9a0a14f05bef641": {
      "model_module": "@jupyter-widgets/controls",
      "model_module_version": "1.2.0",
      "model_name": "ButtonStyleModel",
      "state": {}
     },
     "f57b7edd3d40443bb5669429abade58b": {
      "model_module": "@jupyter-widgets/controls",
      "model_module_version": "1.2.0",
      "model_name": "FloatTextModel",
      "state": {
       "description": "max.",
       "layout": "IPY_MODEL_b3783a79c33c4caa81c514a78a24b953",
       "step": 0.1,
       "style": "IPY_MODEL_72917b645ba44e488824690c714903f7",
       "value": 2
      }
     },
     "f59db48ee96a483395380fe38418a6ab": {
      "model_module": "@jupyter-widgets/base",
      "model_module_version": "1.0.0",
      "model_name": "LayoutModel",
      "state": {}
     },
     "f5e5284b9f6043f9be08bc62e6dc4550": {
      "model_module": "@jupyter-widgets/controls",
      "model_module_version": "1.2.0",
      "model_name": "DescriptionStyleModel",
      "state": {
       "description_width": ""
      }
     },
     "f5eb7d24c3ea4294a036eace34910c53": {
      "model_module": "@jupyter-widgets/base",
      "model_module_version": "1.0.0",
      "model_name": "LayoutModel",
      "state": {}
     },
     "f5fd633cce704a5986281c8d09df9bd9": {
      "model_module": "@jupyter-widgets/controls",
      "model_module_version": "1.2.0",
      "model_name": "CheckboxModel",
      "state": {
       "description": "Size range",
       "disabled": false,
       "indent": false,
       "layout": "IPY_MODEL_26f48594057b4a9bb43df30bb93f5b23",
       "style": "IPY_MODEL_0e846b7ba4e8427b88c38ae508539120",
       "value": false
      }
     },
     "f600f248ba90466d8dd8683ec84f5648": {
      "model_module": "@jupyter-widgets/controls",
      "model_module_version": "1.2.0",
      "model_name": "FloatTextModel",
      "state": {
       "description": "threshold",
       "layout": "IPY_MODEL_51ac44cad6864fe0b777662707fc7f96",
       "step": 10,
       "style": "IPY_MODEL_187be5cd708841f184606d85c5bc31f3",
       "value": 1000
      }
     },
     "f615b949df694769bd5bf0199b1c7302": {
      "model_module": "@jupyter-widgets/controls",
      "model_module_version": "1.2.0",
      "model_name": "VBoxModel",
      "state": {
       "children": [
        "IPY_MODEL_8acfbe1b3a1f4104bb5c3c685b867aaa",
        "IPY_MODEL_49bc3fc69ba548d29e373246ae84de05"
       ],
       "layout": "IPY_MODEL_dbb63c80dc9642bd9dbb73304be13397"
      }
     },
     "f61688f97ad44722bafc175cd5df1915": {
      "model_module": "@jupyter-widgets/base",
      "model_module_version": "1.0.0",
      "model_name": "LayoutModel",
      "state": {
       "width": "auto"
      }
     },
     "f6183b586f424489800494cf530d3351": {
      "model_module": "@jupyter-widgets/controls",
      "model_module_version": "1.2.0",
      "model_name": "VBoxModel",
      "state": {
       "children": [
        "IPY_MODEL_24e494ac93814a6ea0390b240089ced1",
        "IPY_MODEL_114e2f7fb777473c8b586bfcf3cadabc",
        "IPY_MODEL_b26ee276cb3c4481a643c8532024f3ee"
       ],
       "layout": "IPY_MODEL_1d53e14e42424c3fb362bad8c9bd6fee"
      }
     },
     "f624b5bd70784e0798190a7c27f34df5": {
      "model_module": "@jupyter-widgets/controls",
      "model_module_version": "1.2.0",
      "model_name": "CheckboxModel",
      "state": {
       "description": "Min. distance",
       "disabled": false,
       "indent": false,
       "layout": "IPY_MODEL_231428bf0d4e4a05bd025cacd9928568",
       "style": "IPY_MODEL_f5306b3e27b34a36b78936378aa1c28e",
       "value": true
      }
     },
     "f69970cdb3da4bffa54fc4e5b5df7d1d": {
      "model_module": "@jupyter-widgets/base",
      "model_module_version": "1.0.0",
      "model_name": "LayoutModel",
      "state": {}
     },
     "f69a2db1cf3d44d594939f5f5d96e21a": {
      "model_module": "@jupyter-widgets/base",
      "model_module_version": "1.0.0",
      "model_name": "LayoutModel",
      "state": {}
     },
     "f6c4143a7b6e4c85a5df0b7ac6cdf210": {
      "model_module": "@jupyter-widgets/controls",
      "model_module_version": "1.2.0",
      "model_name": "VBoxModel",
      "state": {
       "children": [
        "IPY_MODEL_6cf4151e018e48f0bcac4c0e0f9fc977",
        "IPY_MODEL_0dad7982ad9346ffab27dbee023aab10",
        "IPY_MODEL_e4cf0e0a78374e2080f293b628f173bf"
       ],
       "layout": "IPY_MODEL_571e43173c984d42b5335ced176a1fcc"
      }
     },
     "f6d5f5dc29114c3582188cd0a99698f2": {
      "model_module": "@jupyter-widgets/base",
      "model_module_version": "1.0.0",
      "model_name": "LayoutModel",
      "state": {
       "width": "auto"
      }
     },
     "f6ea1a7c846549b88b696eba943aceb9": {
      "model_module": "@jupyter-widgets/controls",
      "model_module_version": "1.2.0",
      "model_name": "BoundedIntTextModel",
      "state": {
       "description": "frame",
       "layout": "IPY_MODEL_a643a4f08ce6486db2394f0d1673dd82",
       "max": 0,
       "style": "IPY_MODEL_2dcbe250205243a6a313528d00fb0663"
      }
     },
     "f73431f6793a4f708c5f31ce91d5ade7": {
      "model_module": "@jupyter-widgets/controls",
      "model_module_version": "1.2.0",
      "model_name": "VBoxModel",
      "state": {
       "children": [
        "IPY_MODEL_33e2ead747244865b0784cf450248b68",
        "IPY_MODEL_8b42c750321242ef9263b6bfeb9cf94a",
        "IPY_MODEL_c7f978a7f5324b149511e9b27eebaeec"
       ],
       "layout": "IPY_MODEL_4e934494c17140229dfa3d5c300bbfec"
      }
     },
     "f7998b084203443680d101c740cfe14c": {
      "model_module": "@jupyter-widgets/controls",
      "model_module_version": "1.2.0",
      "model_name": "FloatTextModel",
      "state": {
       "description": "radius",
       "layout": "IPY_MODEL_1cfdf2db76794dd48f239a6fe9bcf218",
       "step": 0.1,
       "style": "IPY_MODEL_2e337cabe3184abea9ba58b6f0f7fa72",
       "value": 1
      }
     },
     "f79fb53f9f954bf5aed1318b836cf856": {
      "model_module": "@jupyter-widgets/controls",
      "model_module_version": "1.2.0",
      "model_name": "DescriptionStyleModel",
      "state": {
       "description_width": ""
      }
     },
     "f7e842be7c944fb69496cb31fbb38bec": {
      "model_module": "@jupyter-widgets/base",
      "model_module_version": "1.0.0",
      "model_name": "LayoutModel",
      "state": {
       "display": "none"
      }
     },
     "f7eff9ccac2d490e98067dfe846055d2": {
      "model_module": "@jupyter-widgets/base",
      "model_module_version": "1.0.0",
      "model_name": "LayoutModel",
      "state": {}
     },
     "f7f0349594174e56aa4cc491edcb7149": {
      "model_module": "@jupyter-widgets/controls",
      "model_module_version": "1.2.0",
      "model_name": "CheckboxModel",
      "state": {
       "description": "Min. distance",
       "disabled": false,
       "indent": false,
       "layout": "IPY_MODEL_c62c2c99ee194cfaa7e1b15115dca277",
       "style": "IPY_MODEL_64b52890e86046aa8a6d9333020000e0",
       "value": false
      }
     },
     "f7f0dc7dfa3d4f5ca708a5be74c535cd": {
      "model_module": "@jupyter-widgets/controls",
      "model_module_version": "1.2.0",
      "model_name": "LabelModel",
      "state": {
       "layout": "IPY_MODEL_d572260f107c4bb89acc270bca561ddd",
       "style": "IPY_MODEL_57a2208435654b7e8a9ac515c7e6800d",
       "value": "Locating data/ctrl-H57/no-cells_SAv-100k_SSS-ctrl-H57-50k_029_.SPE (213/213)"
      }
     },
     "f80518817c07475ebeb84494733c55da": {
      "model_module": "@jupyter-widgets/base",
      "model_module_version": "1.0.0",
      "model_name": "LayoutModel",
      "state": {}
     },
     "f822a069710f437c95967f9f7684216d": {
      "model_module": "@jupyter-widgets/base",
      "model_module_version": "1.0.0",
      "model_name": "LayoutModel",
      "state": {
       "display": "inline"
      }
     },
     "f82a94889e664f7ebdce6f096a12c6aa": {
      "model_module": "@jupyter-widgets/controls",
      "model_module_version": "1.2.0",
      "model_name": "DescriptionStyleModel",
      "state": {
       "description_width": ""
      }
     },
     "f82cbdb2f9e24fbbb6b39e1c8bbbebd7": {
      "model_module": "@jupyter-widgets/controls",
      "model_module_version": "1.2.0",
      "model_name": "HBoxModel",
      "state": {
       "children": [
        "IPY_MODEL_7c2cf39c04a54bdab9d108abb89c1b1a",
        "IPY_MODEL_da29bfbc60c3498ba7f1cde3f3796ac4"
       ],
       "layout": "IPY_MODEL_462a79130c8645d198627256e0d82ca1"
      }
     },
     "f8541c4584d14f89aaa0aa54e92e7244": {
      "model_module": "@jupyter-widgets/controls",
      "model_module_version": "1.2.0",
      "model_name": "ButtonStyleModel",
      "state": {}
     },
     "f8a313867b3248b9b775b23e0e3f43ab": {
      "model_module": "@jupyter-widgets/base",
      "model_module_version": "1.0.0",
      "model_name": "LayoutModel",
      "state": {}
     },
     "f8d1b568b660420db7d1ce62dd5e83a4": {
      "model_module": "@jupyter-widgets/controls",
      "model_module_version": "1.2.0",
      "model_name": "DescriptionStyleModel",
      "state": {
       "description_width": ""
      }
     },
     "f929a9aa1d494f3a8c566832e123b363": {
      "model_module": "@jupyter-widgets/controls",
      "model_module_version": "1.2.0",
      "model_name": "FloatTextModel",
      "state": {
       "description": "sigma",
       "layout": "IPY_MODEL_404a23e84e2c419a9fb3be3b3ba78437",
       "step": 0.1,
       "style": "IPY_MODEL_5eccf91694a044778a8cb26eb5a5c8a0",
       "value": 1
      }
     },
     "f9440d84ed4042e389f3ee73c6fde4d4": {
      "model_module": "@jupyter-widgets/controls",
      "model_module_version": "1.2.0",
      "model_name": "ButtonStyleModel",
      "state": {}
     },
     "f94ab14ed0734f56b38316fdb952e750": {
      "model_module": "@jupyter-widgets/controls",
      "model_module_version": "1.2.0",
      "model_name": "HBoxModel",
      "state": {
       "children": [
        "IPY_MODEL_ed1451ab05ed447b886aebbf160448e1",
        "IPY_MODEL_8bc0589a899546c294dced800970d9b0"
       ],
       "layout": "IPY_MODEL_1e6c561e47f644139ddafdb52f18e109"
      }
     },
     "f982f86b5a9d4ee8b28c7f3247372882": {
      "model_module": "@jupyter-widgets/base",
      "model_module_version": "1.0.0",
      "model_name": "LayoutModel",
      "state": {
       "border": "1px solid gray"
      }
     },
     "f98ecea191d3469782b2fd05a91a4d66": {
      "model_module": "@jupyter-widgets/controls",
      "model_module_version": "1.2.0",
      "model_name": "FloatTextModel",
      "state": {
       "description": "max.",
       "layout": "IPY_MODEL_3a67196d27014701a62fa9a22a9167a8",
       "step": 0.1,
       "style": "IPY_MODEL_94c13257598e4e7e88ea93fb93ad8488",
       "value": 2
      }
     },
     "f992ac8388e0419ea5b8369bc8e329f7": {
      "model_module": "@jupyter-widgets/controls",
      "model_module_version": "1.2.0",
      "model_name": "FloatTextModel",
      "state": {
       "description": "max.",
       "layout": "IPY_MODEL_0adcae1437194ade8015c833911ed5f2",
       "step": 0.1,
       "style": "IPY_MODEL_b3bde46cc7d249959ea5a5a0963d43dc",
       "value": 2
      }
     },
     "f9bf967aa4d9440ca6b39006c6d4410a": {
      "model_module": "@jupyter-widgets/controls",
      "model_module_version": "1.2.0",
      "model_name": "DescriptionStyleModel",
      "state": {
       "description_width": ""
      }
     },
     "f9cad0d8bf9e4196a01e23602e0ad434": {
      "model_module": "@jupyter-widgets/base",
      "model_module_version": "1.0.0",
      "model_name": "LayoutModel",
      "state": {}
     },
     "fa37f38bd10d46259b73c9a383fbd8ae": {
      "model_module": "@jupyter-widgets/base",
      "model_module_version": "1.0.0",
      "model_name": "LayoutModel",
      "state": {
       "width": "75%"
      }
     },
     "fa85be82a78740ccbe7fe9f5698937ea": {
      "model_module": "@jupyter-widgets/base",
      "model_module_version": "1.0.0",
      "model_name": "LayoutModel",
      "state": {}
     },
     "fa9931ed61664d8fa35d9ebc5ad52aab": {
      "model_module": "@jupyter-widgets/base",
      "model_module_version": "1.0.0",
      "model_name": "LayoutModel",
      "state": {}
     },
     "fae526bc39354f31b449fbcf1ccffccb": {
      "model_module": "@jupyter-widgets/base",
      "model_module_version": "1.0.0",
      "model_name": "LayoutModel",
      "state": {
       "width": "auto"
      }
     },
     "faf1a11f908944ffabbd7126a5e005e1": {
      "model_module": "@jupyter-widgets/controls",
      "model_module_version": "1.2.0",
      "model_name": "SelectModel",
      "state": {
       "_options_labels": [
        "data/beads/beads_000_.SPE",
        "data/beads/beads_001_.SPE",
        "data/beads/beads_002_.SPE",
        "data/beads/beads_003_.SPE",
        "data/beads/beads_004_.SPE",
        "data/beads/beads_005_.SPE",
        "data/beads/beads_006_.SPE",
        "data/beads/beads_007_.SPE",
        "data/beads/beads_008_.SPE",
        "data/beads/beads_009_.SPE"
       ],
       "index": 0,
       "layout": "IPY_MODEL_2ff157d5494b47c29f5d253371c8ea80",
       "style": "IPY_MODEL_f9bf967aa4d9440ca6b39006c6d4410a"
      }
     },
     "fb224f5830d64ae0b1b5740e8d1697e3": {
      "model_module": "@jupyter-widgets/controls",
      "model_module_version": "1.2.0",
      "model_name": "DescriptionStyleModel",
      "state": {
       "description_width": ""
      }
     },
     "fb4924fb8fa347eb9e2cb3a4a5a80dbb": {
      "model_module": "@jupyter-widgets/base",
      "model_module_version": "1.0.0",
      "model_name": "LayoutModel",
      "state": {
       "width": "auto"
      }
     },
     "fbd86cc786c14f238655e284433736d9": {
      "model_module": "@jupyter-widgets/controls",
      "model_module_version": "1.2.0",
      "model_name": "DescriptionStyleModel",
      "state": {
       "description_width": ""
      }
     },
     "fbdb8cef522b43a198a9be2df1aea1d3": {
      "model_module": "@jupyter-widgets/controls",
      "model_module_version": "1.2.0",
      "model_name": "LabelModel",
      "state": {
       "layout": "IPY_MODEL_3593a37449154d8f82a44987fd1cabd8",
       "style": "IPY_MODEL_64f9d49685fa44ecb72ccff9c04bbcda",
       "value": "Locating beads (file 10/10)"
      }
     },
     "fbe86e1dd7194487b3b57f7e6f490339": {
      "model_module": "@jupyter-widgets/base",
      "model_module_version": "1.0.0",
      "model_name": "LayoutModel",
      "state": {}
     },
     "fc25cb9d938742c5b8eb185119d2c027": {
      "model_module": "@jupyter-widgets/controls",
      "model_module_version": "1.2.0",
      "model_name": "ButtonModel",
      "state": {
       "description": "Auto",
       "layout": "IPY_MODEL_9484f4f26805468c8f787a313c37e4a3",
       "style": "IPY_MODEL_17b0ca20c3534b11b8e69cc5a94e3a47"
      }
     },
     "fc4d7edd33564569a7c473aa2e8a8815": {
      "model_module": "@jupyter-widgets/base",
      "model_module_version": "1.0.0",
      "model_name": "LayoutModel",
      "state": {
       "display": "none"
      }
     },
     "fc5893db06514f709860d8b8e5c74f92": {
      "model_module": "@jupyter-widgets/base",
      "model_module_version": "1.0.0",
      "model_name": "LayoutModel",
      "state": {}
     },
     "fc64a6ccd7254302a99c760a06367fb9": {
      "model_module": "@jupyter-widgets/controls",
      "model_module_version": "1.2.0",
      "model_name": "HBoxModel",
      "state": {
       "children": [
        "IPY_MODEL_e1eabbbfd4b04c4f88b559ebdf18eb02",
        "IPY_MODEL_8f60a7b8105b4b2f8efcc28531ac63ee",
        "IPY_MODEL_4a7b5b806bad4a8b8f1567f9b0601f46"
       ],
       "layout": "IPY_MODEL_80fe2f7b6ac64475a3794aaf3aa27ae4"
      }
     },
     "fc6acbe5624b473093f3740247f56ee1": {
      "model_module": "@jupyter-widgets/base",
      "model_module_version": "1.0.0",
      "model_name": "LayoutModel",
      "state": {
       "width": "auto"
      }
     },
     "fc73dc2829344e42b3a1a5fae6bbb433": {
      "model_module": "@jupyter-widgets/controls",
      "model_module_version": "1.2.0",
      "model_name": "DropdownModel",
      "state": {
       "_options_labels": [
        "2d_fixed",
        "2d",
        "3d"
       ],
       "description": "model",
       "index": 1,
       "layout": "IPY_MODEL_3b63878afce54f82b604d3986ea88f88",
       "style": "IPY_MODEL_c54deae8c71e4325b7202a96264e416b"
      }
     },
     "fc80433e6cbb4660907789ce9b6c5583": {
      "model_module": "@jupyter-widgets/base",
      "model_module_version": "1.0.0",
      "model_name": "LayoutModel",
      "state": {
       "display": "none"
      }
     },
     "fc8c47a3cbf34f2e9187fe74026c0dff": {
      "model_module": "@jupyter-widgets/base",
      "model_module_version": "1.0.0",
      "model_name": "LayoutModel",
      "state": {
       "width": "auto"
      }
     },
     "fc951f5f950047039ca1c839c525906f": {
      "model_module": "@jupyter-widgets/controls",
      "model_module_version": "1.2.0",
      "model_name": "LabelModel",
      "state": {
       "layout": "IPY_MODEL_49b96d23871a4c919f44e812cb6471b5",
       "style": "IPY_MODEL_4bcf035025f74ee0b0e82a5b6af89d09",
       "value": "Locating ctrl-H57/no-cells_SAv-100k_SSS-ctrl-H57-50k_029_.SPE (213/213)"
      }
     },
     "fcf38aa1e3444f419749a2291f9d9561": {
      "model_module": "@jupyter-widgets/controls",
      "model_module_version": "1.2.0",
      "model_name": "DescriptionStyleModel",
      "state": {
       "description_width": ""
      }
     },
     "fd0e1df331454e93be279f4fd43c1fb6": {
      "model_module": "@jupyter-widgets/controls",
      "model_module_version": "1.2.0",
      "model_name": "FloatTextModel",
      "state": {
       "description": "min.",
       "layout": "IPY_MODEL_af51c9e9fc354008b987e9c52a9283c8",
       "step": 0.1,
       "style": "IPY_MODEL_fe8dd62615c9440dbb8e8c89c2a97122",
       "value": 0.5
      }
     },
     "fd283a9b705b4e168f6a0f5ea4275613": {
      "model_module": "@jupyter-widgets/base",
      "model_module_version": "1.0.0",
      "model_name": "LayoutModel",
      "state": {
       "border": "1px solid gray"
      }
     },
     "fd298f088b594c4bb584486154f5f2ad": {
      "model_module": "@jupyter-widgets/base",
      "model_module_version": "1.0.0",
      "model_name": "LayoutModel",
      "state": {
       "height": "150px",
       "width": "100%"
      }
     },
     "fd48958d981a44ef958f0020d62a2cfa": {
      "model_module": "@jupyter-widgets/base",
      "model_module_version": "1.0.0",
      "model_name": "LayoutModel",
      "state": {}
     },
     "fd55a134330e485dafc12f541fdc0098": {
      "model_module": "@jupyter-widgets/controls",
      "model_module_version": "1.2.0",
      "model_name": "DropdownModel",
      "state": {
       "_options_labels": [
        "Identity",
        "Cg",
        "Gaussian"
       ],
       "description": "find filter",
       "index": 1,
       "layout": "IPY_MODEL_c4653ddb5cb94a6c934669e33210cd7a",
       "style": "IPY_MODEL_0d3893c8ef9e4b89a5cb9014ed8248c1"
      }
     },
     "fd5f1a7c1c78448ead42ae40d262fbd6": {
      "model_module": "@jupyter-widgets/controls",
      "model_module_version": "1.2.0",
      "model_name": "HBoxModel",
      "state": {
       "children": [
        "IPY_MODEL_5854236992754eb5a4eb25901ebebbf3",
        "IPY_MODEL_aaef252f0f904c65bc3b1539ec5fda60",
        "IPY_MODEL_0cc2a9ebd0594ea6838949bf57e197fc"
       ],
       "layout": "IPY_MODEL_7b89770040f044aeb0938fce0d19fad1"
      }
     },
     "fd7fe18ee1144d149ef454af8aed54f3": {
      "model_module": "@jupyter-widgets/controls",
      "model_module_version": "1.2.0",
      "model_name": "CheckboxModel",
      "state": {
       "description": "Min. distance",
       "disabled": false,
       "indent": false,
       "layout": "IPY_MODEL_e930f2092d854d7595af2c6f9be1d517",
       "style": "IPY_MODEL_1e42292417d7411c84060940cc21870e",
       "value": false
      }
     },
     "fd853b0b90924fb6a53b45d7f2f9f5de": {
      "model_module": "@jupyter-widgets/controls",
      "model_module_version": "1.2.0",
      "model_name": "VBoxModel",
      "state": {
       "children": [
        "IPY_MODEL_65d112c837424107b83f98855bd20bab",
        "IPY_MODEL_01a04dad67354b949f6a51b8bd6ab6ce",
        "IPY_MODEL_ef9284b5f5e14297af782c30a61ebab1"
       ],
       "layout": "IPY_MODEL_cedde3392f934fa99c5adc1540c82f2e"
      }
     },
     "fd98c9302b7b4b3abbb89b28387d4e6c": {
      "model_module": "@jupyter-widgets/base",
      "model_module_version": "1.0.0",
      "model_name": "LayoutModel",
      "state": {}
     },
     "fe15a69c03ab4054baafaa9111007f90": {
      "model_module": "@jupyter-widgets/controls",
      "model_module_version": "1.2.0",
      "model_name": "DescriptionStyleModel",
      "state": {
       "description_width": ""
      }
     },
     "fe50cf899f9849c68cd362416b44221a": {
      "model_module": "@jupyter-widgets/base",
      "model_module_version": "1.0.0",
      "model_name": "LayoutModel",
      "state": {}
     },
     "fe754280dfc64055b548ec78eacc41d8": {
      "model_module": "@jupyter-widgets/base",
      "model_module_version": "1.0.0",
      "model_name": "LayoutModel",
      "state": {}
     },
     "fe7aa9ae9108443ebd19cd104096ac50": {
      "model_module": "@jupyter-widgets/base",
      "model_module_version": "1.0.0",
      "model_name": "LayoutModel",
      "state": {}
     },
     "fe8dd62615c9440dbb8e8c89c2a97122": {
      "model_module": "@jupyter-widgets/controls",
      "model_module_version": "1.2.0",
      "model_name": "DescriptionStyleModel",
      "state": {
       "description_width": ""
      }
     },
     "fec22a280af8468cb503dc8db631ab0d": {
      "model_module": "@jupyter-widgets/controls",
      "model_module_version": "1.2.0",
      "model_name": "VBoxModel",
      "state": {
       "children": [
        "IPY_MODEL_0b4f80b3350848c2bb999d8c38dce5e9",
        "IPY_MODEL_a2c461319e1f437fb7a80bfae2b804fd",
        "IPY_MODEL_cf0d308883f64f42954368c4494fe3aa"
       ],
       "layout": "IPY_MODEL_edfce0634e054ba1804ee9fa334e0c8e"
      }
     },
     "fed75ad1157f438c870d9b33cafa3cb0": {
      "model_module": "@jupyter-widgets/base",
      "model_module_version": "1.0.0",
      "model_name": "LayoutModel",
      "state": {
       "display": "none"
      }
     },
     "fed7cd05491e48f6ab37507e51e4c53b": {
      "model_module": "@jupyter-widgets/base",
      "model_module_version": "1.0.0",
      "model_name": "LayoutModel",
      "state": {
       "width": "auto"
      }
     },
     "ff2f313871b44293895ec6b4604982c5": {
      "model_module": "@jupyter-widgets/base",
      "model_module_version": "1.0.0",
      "model_name": "LayoutModel",
      "state": {
       "width": "auto"
      }
     },
     "ff6f29f6594d4a92be71440085c4f9a5": {
      "model_module": "@jupyter-widgets/base",
      "model_module_version": "1.0.0",
      "model_name": "LayoutModel",
      "state": {}
     },
     "ff83dba6849b4566a2c5b855469ef06c": {
      "model_module": "@jupyter-widgets/controls",
      "model_module_version": "1.2.0",
      "model_name": "DescriptionStyleModel",
      "state": {
       "description_width": ""
      }
     },
     "ff885677a118487299a4af03d4742890": {
      "model_module": "@jupyter-widgets/controls",
      "model_module_version": "1.2.0",
      "model_name": "VBoxModel",
      "state": {
       "children": [
        "IPY_MODEL_ea6aa6a598bf4cf597fb6d0781cf82d7",
        "IPY_MODEL_86d4d864668c47e99aad4c905abee941",
        "IPY_MODEL_788a2a310335461b85a4acc03917679e"
       ],
       "layout": "IPY_MODEL_556bcf6a15be407f871eccaf166f5be2"
      }
     },
     "ff916902a58342ff8f8136893a243101": {
      "model_module": "@jupyter-widgets/base",
      "model_module_version": "1.0.0",
      "model_name": "LayoutModel",
      "state": {
       "display": "flex",
       "flex_flow": "column wrap",
       "width": "66%"
      }
     },
     "ffa5f231158c4879829b837a09fdb271": {
      "model_module": "@jupyter-widgets/controls",
      "model_module_version": "1.2.0",
      "model_name": "HBoxModel",
      "state": {
       "children": [
        "IPY_MODEL_78c224c15bbf45a8b8b9d9a6668c8437",
        "IPY_MODEL_10930e794dea4b8bb113968a2230e0bb"
       ],
       "layout": "IPY_MODEL_ddb3be3e81694f63b945845860c9def7"
      }
     },
     "ffdf4944c3944d1fb6ef5453ccdcab05": {
      "model_module": "@jupyter-widgets/base",
      "model_module_version": "1.0.0",
      "model_name": "LayoutModel",
      "state": {
       "display": "inline"
      }
     },
     "ffe59aca5f9a4ed7a0fe1d2a7772e446": {
      "model_module": "@jupyter-widgets/controls",
      "model_module_version": "1.2.0",
      "model_name": "DescriptionStyleModel",
      "state": {
       "description_width": ""
      }
     },
     "fffbe933fea044748d172e2a339cf65b": {
      "model_module": "@jupyter-widgets/base",
      "model_module_version": "1.0.0",
      "model_name": "LayoutModel",
      "state": {}
     }
    },
    "version_major": 2,
    "version_minor": 0
   }
  }
 },
 "nbformat": 4,
 "nbformat_minor": 1
}
