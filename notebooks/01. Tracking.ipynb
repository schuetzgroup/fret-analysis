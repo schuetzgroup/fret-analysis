{
 "cells": [
  {
   "cell_type": "code",
   "execution_count": 1,
   "metadata": {
    "nbpresent": {
     "id": "0a417825-fc46-48f3-8128-e0e265b094e1"
    }
   },
   "outputs": [],
   "source": [
    "%matplotlib widget\n",
    "\n",
    "import matplotlib.pyplot as plt\n",
    "plt.ioff()\n",
    "\n",
    "from smfret_analysis import Tracker, print_info"
   ]
  },
  {
   "cell_type": "code",
   "execution_count": 2,
   "metadata": {
    "nbpresent": {
     "id": "0b4b7b88-8234-4a09-9ec6-7d6a88a2e944"
    }
   },
   "outputs": [],
   "source": [
    "# Create a Tracker instance\n",
    "\n",
    "# If starting fresh, set load = False. If there is already saved data from a previous run,\n",
    "# load = True can be used to load it.\n",
    "load = False\n",
    "\n",
    "if not load:\n",
    "    # Directory containing raw data\n",
    "    data_dir = \"sm-data\"\n",
    "    \n",
    "    # Specify\n",
    "    # - excitation sequence, where \"c\" means cell contours, \"a\" means acceptor excitation,\n",
    "    #   and \"d\" means donor excitation\n",
    "    # - data directory\n",
    "    tr = Tracker(\"se + da * 300 + s\", data_dir=data_dir)\n",
    "    \n",
    "    # Add datasets by giving\n",
    "    # - an identifier\n",
    "    # - a regular expression describing the file names relative to data_dir.\n",
    "    #   Use forward slashes as path separators even on Windows.\n",
    "    tr.add_dataset(\"DPPC control cells\",\n",
    "                   r\"^DPPC_ctrl-J4/cells.*\\.tif\")\n",
    "    tr.add_dataset(\"DPPC control no-cells\",\n",
    "                   r\"^DPPC_ctrl-J4/no-cells.*\\.tif\")\n",
    "    # If donor and acceptor emission channels are recorded by separate cameras, resulting\n",
    "    # in separate video files, the second argument is a regular expression for the donor,\n",
    "    # the third argument a regular expression for the acceptor emission. First donor file\n",
    "    # will be matched with first acceptor file, second with second, etc., so make sure\n",
    "    # they have the same sorting order.\n",
    "    # tr.add_dataset(\"DPPC control cells\",\n",
    "    #                r\"^DPPC_ctrl-J4/cells.*_donor\\.tif\",\n",
    "    #                r\"^DPPC_ctrl-J4/cells.*_acceptor\\.tif\")\n",
    "    # tr.add_dataset(\"DPPC control no-cells\",\n",
    "    #                r\"^DPPC_ctrl-J4/no-cells.*_donor\\.tif\",\n",
    "    #                r\"^DPPC_ctrl-J4/no-cells.*_acceptor\\.tif\")\n",
    "\n",
    "    # Special datasets for registration etc. If donor and acceptor emission are recorded\n",
    "    # in separate files, again use two regular expressions.\n",
    "    tr.add_special_dataset(\"registration\", r\"beads/beads_.*\\.tif\")\n",
    "    tr.add_special_dataset(\"donor-profile\", \"profile/green_.*\\.tif\")\n",
    "    tr.add_special_dataset(\"acceptor-profile\", \"profile/red_.*\\.tif\")    \n",
    "    # tr.add_special_dataset(\"donor-only\", r\"^DO/no-cells.*\\.tif\")\n",
    "    # tr.add_special_dataset(\"acceptor-only\", r\"^AO/no-cells.*\\.tif\")\n",
    "else:\n",
    "    # Load\n",
    "    tr = Tracker.load()"
   ]
  },
  {
   "cell_type": "code",
   "execution_count": 3,
   "metadata": {},
   "outputs": [
    {
     "data": {
      "application/vnd.jupyter.widget-view+json": {
       "model_id": "c9f6d3d38e1f41559b370de442c2692f",
       "version_major": 2,
       "version_minor": 0
      },
      "text/plain": [
       "_ChannelSplitter(children=(ImageSelector(children=(Button(disabled=True, icon='arrow-left', layout=Layout(disp…"
      ]
     },
     "metadata": {},
     "output_type": "display_data"
    }
   ],
   "source": [
    "# Donor and acceptor emission channels were recorded side-by-side on the same\n",
    "# camera. Use the UI to define where the channels are. To do so, load some\n",
    "# exemplary files matching the reg. ex. passed to the method call.\n",
    "tr.split_channels(r\"beads/beads.*\\.tif\")"
   ]
  },
  {
   "cell_type": "code",
   "execution_count": 4,
   "metadata": {},
   "outputs": [
    {
     "data": {
      "application/vnd.jupyter.widget-view+json": {
       "model_id": "624f6cde9471491789894acb1590d5aa",
       "version_major": 2,
       "version_minor": 0
      },
      "text/plain": [
       "Tab(children=(RegistrationLocator(children=(HBox(children=(Dropdown(description='file', options=(('beads/beads…"
      ]
     },
     "metadata": {},
     "output_type": "display_data"
    }
   ],
   "source": [
    "# Set localization options for fiducial markers, which are used below to\n",
    "# calculate the coordinate transform between donor and acceptor channels.\n",
    "tr.set_registration_loc_opts()"
   ]
  },
  {
   "cell_type": "code",
   "execution_count": 5,
   "metadata": {},
   "outputs": [
    {
     "data": {
      "application/vnd.jupyter.widget-view+json": {
       "model_id": "2e267c8a05394792bb61f5738f42bb63",
       "version_major": 2,
       "version_minor": 0
      },
      "text/plain": [
       "Label(value='Starting…')"
      ]
     },
     "metadata": {},
     "output_type": "display_data"
    },
    {
     "data": {
      "application/vnd.jupyter.widget-view+json": {
       "model_id": "2eab73abf01d44df93bbe1cde10502f2",
       "version_major": 2,
       "version_minor": 0
      },
      "text/plain": [
       "Canvas(toolbar=Toolbar(toolitems=[('Home', 'Reset original view', 'home', 'home'), ('Back', 'Back to previous …"
      ]
     },
     "metadata": {},
     "output_type": "display_data"
    }
   ],
   "source": [
    "# Calculate the coordinate transform from bead localizations\n",
    "tr.calc_registration()"
   ]
  },
  {
   "cell_type": "code",
   "execution_count": 6,
   "metadata": {},
   "outputs": [
    {
     "data": {
      "application/vnd.jupyter.widget-view+json": {
       "model_id": "6f393030ec04481c91bc6104841b7109",
       "version_major": 2,
       "version_minor": 0
      },
      "text/plain": [
       "Tab(children=(DonorLocator(children=(HBox(children=(Dropdown(description='dataset', options=('DPPC control cel…"
      ]
     },
     "metadata": {},
     "output_type": "display_data"
    }
   ],
   "source": [
    "tr.set_loc_opts()"
   ]
  },
  {
   "cell_type": "code",
   "execution_count": 7,
   "metadata": {},
   "outputs": [
    {
     "data": {
      "application/vnd.jupyter.widget-view+json": {
       "model_id": "0247493bb8764884b62e2de5ec7e542f",
       "version_major": 2,
       "version_minor": 0
      },
      "text/plain": [
       "Label(value='Starting…')"
      ]
     },
     "metadata": {},
     "output_type": "display_data"
    }
   ],
   "source": [
    "# Run localization algorithm. This can take a while.\n",
    "tr.locate()"
   ]
  },
  {
   "cell_type": "code",
   "execution_count": 8,
   "metadata": {},
   "outputs": [
    {
     "data": {
      "application/vnd.jupyter.widget-view+json": {
       "model_id": "9aabfdb8bed54b7a9684a535b7ee0b00",
       "version_major": 2,
       "version_minor": 0
      },
      "text/plain": [
       "Label(value='Starting…')"
      ]
     },
     "metadata": {},
     "output_type": "display_data"
    }
   ],
   "source": [
    "# Track the localizations. \n",
    "tr.track(feat_radius=4, bg_frame=3, link_radius=5, link_mem=3, min_length=4, bg_estimator=\"mean\")"
   ]
  },
  {
   "cell_type": "code",
   "execution_count": 9,
   "metadata": {},
   "outputs": [],
   "source": [
    "# Get the images of the cells\n",
    "tr.extract_segment_images()\n",
    "\n",
    "# Get the laser profiles from additional recordings of bulk samples\n",
    "tr.make_flatfield(\"donor\", bg=200, smooth_sigma=10)\n",
    "tr.make_flatfield(\"acceptor\", bg=200, smooth_sigma=10)"
   ]
  },
  {
   "cell_type": "code",
   "execution_count": 10,
   "metadata": {},
   "outputs": [],
   "source": [
    "# Save data\n",
    "tr.save()"
   ]
  },
  {
   "cell_type": "code",
   "execution_count": null,
   "metadata": {},
   "outputs": [],
   "source": []
  }
 ],
 "metadata": {
  "anaconda-cloud": {},
  "kernelspec": {
   "display_name": "Python 3",
   "language": "python",
   "name": "python3"
  },
  "language_info": {
   "codemirror_mode": {
    "name": "ipython",
    "version": 3
   },
   "file_extension": ".py",
   "mimetype": "text/x-python",
   "name": "python",
   "nbconvert_exporter": "python",
   "pygments_lexer": "ipython3",
   "version": "3.7.10"
  },
  "nbpresent": {
   "slides": {
    "20fa0cd3-020c-4d9f-bcba-4e50c0c0a5d1": {
     "id": "20fa0cd3-020c-4d9f-bcba-4e50c0c0a5d1",
     "prev": "76433211-a936-400b-84f3-6a2fb80db8f1",
     "regions": {
      "2fd4244b-acc8-4dfc-babd-08c1db7b747a": {
       "attrs": {
        "height": 0.8,
        "width": 0.45,
        "x": 0.5,
        "y": 0.1
       },
       "content": {
        "cell": "dc9c3e3e-8794-45c2-9297-5d25775cf3f7",
        "part": "outputs"
       },
       "id": "2fd4244b-acc8-4dfc-babd-08c1db7b747a"
      },
      "5c5edddc-6415-40e9-a5ac-ffb546f82ef7": {
       "attrs": {
        "height": 0.8,
        "width": 0.45,
        "x": 0.05,
        "y": 0.1
       },
       "content": {
        "cell": "bd5405cb-53b0-416d-8790-3c6d72aad18e",
        "part": "outputs"
       },
       "id": "5c5edddc-6415-40e9-a5ac-ffb546f82ef7"
      }
     }
    },
    "76433211-a936-400b-84f3-6a2fb80db8f1": {
     "id": "76433211-a936-400b-84f3-6a2fb80db8f1",
     "prev": "e09ecffc-34f4-4a8f-a2cc-3ee776e5e11d",
     "regions": {
      "5fabb9bc-7563-43b0-a27e-45df2ab0d7b2": {
       "attrs": {
        "height": 0.8,
        "width": 0.45,
        "x": 0.5,
        "y": 0.1
       },
       "content": {
        "cell": "f96fc3f9-f52c-4eef-a51d-820ae20139f8",
        "part": "outputs"
       },
       "id": "5fabb9bc-7563-43b0-a27e-45df2ab0d7b2"
      },
      "ceaa665e-b68f-495f-957b-5a9b2e940e15": {
       "attrs": {
        "height": 0.8,
        "width": 0.45,
        "x": 0.05,
        "y": 0.1
       },
       "content": {
        "cell": "08649e84-4e91-4f9b-abca-7afff2065f6f",
        "part": "outputs"
       },
       "id": "ceaa665e-b68f-495f-957b-5a9b2e940e15"
      }
     }
    },
    "e09ecffc-34f4-4a8f-a2cc-3ee776e5e11d": {
     "id": "e09ecffc-34f4-4a8f-a2cc-3ee776e5e11d",
     "prev": null,
     "regions": {
      "3991d937-36e0-4d56-804e-4e9f31be78f5": {
       "attrs": {
        "height": 0.1500000000000001,
        "width": 0.44999999999999996,
        "x": 0.25,
        "y": 0.1
       },
       "content": {
        "cell": "8802d2db-c6c7-47ab-8e4f-3469fe66f891",
        "part": "widgets"
       },
       "id": "3991d937-36e0-4d56-804e-4e9f31be78f5"
      },
      "e0df44c7-b500-4da1-9614-784f74a93bae": {
       "attrs": {
        "height": 0.6,
        "width": 0.8,
        "x": 0.10000000000000002,
        "y": 0.3
       },
       "content": {
        "cell": "8802d2db-c6c7-47ab-8e4f-3469fe66f891",
        "part": "outputs"
       },
       "id": "e0df44c7-b500-4da1-9614-784f74a93bae"
      }
     }
    }
   },
   "themes": {}
  },
  "widgets": {
   "application/vnd.jupyter.widget-state+json": {
    "state": {
     "013701b5f8e3446f8a68cbd7db73e1db": {
      "model_module": "@jupyter-widgets/controls",
      "model_module_version": "1.5.0",
      "model_name": "ButtonStyleModel",
      "state": {}
     },
     "01efb019cc334eff8b5b60463cbee76a": {
      "model_module": "@jupyter-widgets/controls",
      "model_module_version": "1.5.0",
      "model_name": "DescriptionStyleModel",
      "state": {
       "description_width": ""
      }
     },
     "0247493bb8764884b62e2de5ec7e542f": {
      "model_module": "@jupyter-widgets/controls",
      "model_module_version": "1.5.0",
      "model_name": "LabelModel",
      "state": {
       "layout": "IPY_MODEL_865cf196ba804062ac99c7d171dffd4e",
       "style": "IPY_MODEL_4bbb23468f5643b58f4bf8d130309596",
       "value": "Locating DPPC_ctrl-J4/no-cells_027_.tif (25/25)"
      }
     },
     "031f61ce5e1d4836886d25e366cbf70a": {
      "model_module": "@jupyter-widgets/controls",
      "model_module_version": "1.5.0",
      "model_name": "BoundedIntTextModel",
      "state": {
       "description": "frame",
       "layout": "IPY_MODEL_9d56681c4b3947129641876865cd5cfe",
       "max": 29,
       "style": "IPY_MODEL_5b248a57406c42f09fc99d0990b1f70b"
      }
     },
     "04d3681c6daa4541a206a5e5ca846996": {
      "model_module": "@jupyter-widgets/base",
      "model_module_version": "1.2.0",
      "model_name": "LayoutModel",
      "state": {}
     },
     "060a33db503245048607f05a5cccb085": {
      "model_module": "@jupyter-widgets/base",
      "model_module_version": "1.2.0",
      "model_name": "LayoutModel",
      "state": {
       "width": "75%"
      }
     },
     "074e52e0ad5342f29cdde0770dd82633": {
      "model_module": "jupyter-matplotlib",
      "model_module_version": "^0.9.0",
      "model_name": "ToolbarModel",
      "state": {
       "layout": "IPY_MODEL_4ca17bc855c945b992a9ad6d21f7b983",
       "toolitems": [
        [
         "Home",
         "Reset original view",
         "home",
         "home"
        ],
        [
         "Back",
         "Back to previous view",
         "arrow-left",
         "back"
        ],
        [
         "Forward",
         "Forward to next view",
         "arrow-right",
         "forward"
        ],
        [
         "Pan",
         "Left button pans, Right button zooms\nx/y fixes axis, CTRL fixes aspect",
         "arrows",
         "pan"
        ],
        [
         "Zoom",
         "Zoom to rectangle\nx/y fixes axis, CTRL fixes aspect",
         "square-o",
         "zoom"
        ],
        [
         "Download",
         "Download plot",
         "floppy-o",
         "save_figure"
        ]
       ]
      }
     },
     "080464bac0db4fcab141767cc04b0dcd": {
      "model_module": "@jupyter-widgets/base",
      "model_module_version": "1.2.0",
      "model_name": "LayoutModel",
      "state": {
       "display": "none"
      }
     },
     "092342c1f2b34678bff811ba3dc23117": {
      "model_module": "@jupyter-widgets/base",
      "model_module_version": "1.2.0",
      "model_name": "LayoutModel",
      "state": {
       "display": "none"
      }
     },
     "0946f2875e9f4980828d891b8396c495": {
      "model_module": "jupyter-matplotlib",
      "model_module_version": "^0.9.0",
      "model_name": "ToolbarModel",
      "state": {
       "layout": "IPY_MODEL_a1798d119c554947baa7c2f83238c1f5",
       "toolitems": [
        [
         "Home",
         "Reset original view",
         "home",
         "home"
        ],
        [
         "Back",
         "Back to previous view",
         "arrow-left",
         "back"
        ],
        [
         "Forward",
         "Forward to next view",
         "arrow-right",
         "forward"
        ],
        [
         "Pan",
         "Left button pans, Right button zooms\nx/y fixes axis, CTRL fixes aspect",
         "arrows",
         "pan"
        ],
        [
         "Zoom",
         "Zoom to rectangle\nx/y fixes axis, CTRL fixes aspect",
         "square-o",
         "zoom"
        ],
        [
         "Download",
         "Download plot",
         "floppy-o",
         "save_figure"
        ]
       ]
      }
     },
     "0a08f4dfc0b647b4b201cfe4896e61a3": {
      "model_module": "@jupyter-widgets/controls",
      "model_module_version": "1.5.0",
      "model_name": "CheckboxModel",
      "state": {
       "disabled": false,
       "indent": false,
       "layout": "IPY_MODEL_9f0abce99cdb436db0cb7b36c8299cfc",
       "style": "IPY_MODEL_b5f279b7f32645aebb8d62923bfeee00",
       "value": false
      }
     },
     "0b053ea9205247649ae66df32742f697": {
      "model_module": "@jupyter-widgets/base",
      "model_module_version": "1.2.0",
      "model_name": "LayoutModel",
      "state": {}
     },
     "0d7f1fbf8eee49799615dd5aaf9458f4": {
      "model_module": "@jupyter-widgets/controls",
      "model_module_version": "1.5.0",
      "model_name": "ButtonModel",
      "state": {
       "description": "split vertically",
       "layout": "IPY_MODEL_fa25a4411aa54c64a64946579ad73c16",
       "style": "IPY_MODEL_bcaec6a37adc4924b0b99add691a064d"
      }
     },
     "0ea17f524f7d475bb6e27c9b964dc082": {
      "model_module": "@jupyter-widgets/controls",
      "model_module_version": "1.5.0",
      "model_name": "DescriptionStyleModel",
      "state": {
       "description_width": ""
      }
     },
     "0f339e22dfe74dba85fcbcfd58549098": {
      "model_module": "@jupyter-widgets/base",
      "model_module_version": "1.2.0",
      "model_name": "LayoutModel",
      "state": {}
     },
     "0f6de196756c4fdf92690d78796dc45c": {
      "model_module": "@jupyter-widgets/base",
      "model_module_version": "1.2.0",
      "model_name": "LayoutModel",
      "state": {}
     },
     "0f7e7e44530e43ddb89a0c116e7e6b20": {
      "model_module": "@jupyter-widgets/base",
      "model_module_version": "1.2.0",
      "model_name": "LayoutModel",
      "state": {}
     },
     "103e16f4302041a18474fe06eaa8679a": {
      "model_module": "@jupyter-widgets/controls",
      "model_module_version": "1.5.0",
      "model_name": "DescriptionStyleModel",
      "state": {
       "description_width": ""
      }
     },
     "1074e64187b242549fdc0091d071deb9": {
      "model_module": "@jupyter-widgets/controls",
      "model_module_version": "1.5.0",
      "model_name": "DropdownModel",
      "state": {
       "_options_labels": [
        "2d_fixed",
        "2d",
        "3d"
       ],
       "description": "model",
       "index": 1,
       "layout": "IPY_MODEL_aa30a5e2490b460daf0d7f47c633467a",
       "style": "IPY_MODEL_8133d198b71c43da979b61181adb37c5"
      }
     },
     "10a52e1616f048daa6398752918caed9": {
      "model_module": "@jupyter-widgets/controls",
      "model_module_version": "1.5.0",
      "model_name": "DescriptionStyleModel",
      "state": {
       "description_width": ""
      }
     },
     "10e5c33805aa4e54812d36f4e5cee425": {
      "model_module": "@jupyter-widgets/controls",
      "model_module_version": "1.5.0",
      "model_name": "ButtonStyleModel",
      "state": {}
     },
     "1182b8d724fd4dd1b0f1cae237166ad4": {
      "model_module": "@jupyter-widgets/controls",
      "model_module_version": "1.5.0",
      "model_name": "VBoxModel",
      "state": {
       "children": [
        "IPY_MODEL_f1c9d4424e73458fb98ce7dad9e72b6a",
        "IPY_MODEL_65dab9d6bab44276a14a843089e142e2",
        "IPY_MODEL_fdbed79316a240f8aca06363c2700717"
       ],
       "layout": "IPY_MODEL_20dc52954a124e7d9893b9d97de0060c"
      }
     },
     "121fce0bd990440595927919e58c74e0": {
      "model_module": "@jupyter-widgets/base",
      "model_module_version": "1.2.0",
      "model_name": "LayoutModel",
      "state": {
       "display": "none"
      }
     },
     "12aa2c4dfda54147a35e89641b99e906": {
      "model_module": "@jupyter-widgets/controls",
      "model_module_version": "1.5.0",
      "model_name": "SliderStyleModel",
      "state": {
       "description_width": ""
      }
     },
     "145162599708485484aa62f19bc6fb0f": {
      "model_module": "@jupyter-widgets/controls",
      "model_module_version": "1.5.0",
      "model_name": "VBoxModel",
      "state": {
       "children": [
        "IPY_MODEL_8499730fdce3481abd54d9c310de9786",
        "IPY_MODEL_69e4c7630e4b4eb09037fa5eddb7524d",
        "IPY_MODEL_c93871f497de49e1a0269a30c3c537e9"
       ],
       "layout": "IPY_MODEL_7eae51bf43da4b0b807bf47da08c2e52"
      }
     },
     "14a27aa7b5b04cc8a694c0e81dcae7e0": {
      "model_module": "@jupyter-widgets/controls",
      "model_module_version": "1.5.0",
      "model_name": "SliderStyleModel",
      "state": {
       "description_width": ""
      }
     },
     "14e57297b7604ee790418dc88713bb1f": {
      "model_module": "@jupyter-widgets/controls",
      "model_module_version": "1.5.0",
      "model_name": "VBoxModel",
      "state": {
       "children": [
        "IPY_MODEL_80854ecb442e478087c2acd0cb4aeca6",
        "IPY_MODEL_a90688a568c943b78855a4e4179d069e"
       ],
       "layout": "IPY_MODEL_48b6925e71d24065a9c3d560e60e9d76"
      }
     },
     "14fdce542d1f441eb4db14b16c4ced48": {
      "model_module": "@jupyter-widgets/controls",
      "model_module_version": "1.5.0",
      "model_name": "DescriptionStyleModel",
      "state": {
       "description_width": ""
      }
     },
     "152aeab20e3a449a8323d9f3795a2bed": {
      "model_module": "@jupyter-widgets/base",
      "model_module_version": "1.2.0",
      "model_name": "LayoutModel",
      "state": {
       "display": "none"
      }
     },
     "16130dc33d594f5fa23cf6ffab6782c1": {
      "model_module": "@jupyter-widgets/controls",
      "model_module_version": "1.5.0",
      "model_name": "DescriptionStyleModel",
      "state": {
       "description_width": ""
      }
     },
     "1682069d7bae41aa88af9ef3520ccf48": {
      "model_module": "@jupyter-widgets/controls",
      "model_module_version": "1.5.0",
      "model_name": "VBoxModel",
      "state": {
       "children": [
        "IPY_MODEL_312ce8220e684ac49398cdfdc35ce5a0",
        "IPY_MODEL_42da468231424ed89c5019d5ac393deb"
       ],
       "layout": "IPY_MODEL_c46652c9fc854f7296e062eabdff4751"
      }
     },
     "169620b837c74e6ab6e775155fba9cf6": {
      "model_module": "@jupyter-widgets/controls",
      "model_module_version": "1.5.0",
      "model_name": "DescriptionStyleModel",
      "state": {
       "description_width": ""
      }
     },
     "17b78076246c476ca645c3eb87a7818f": {
      "model_module": "@jupyter-widgets/base",
      "model_module_version": "1.2.0",
      "model_name": "LayoutModel",
      "state": {}
     },
     "17cb0b4320404b9e9ce358d93584f7e7": {
      "model_module": "@jupyter-widgets/controls",
      "model_module_version": "1.5.0",
      "model_name": "CheckboxModel",
      "state": {
       "disabled": false,
       "indent": false,
       "layout": "IPY_MODEL_43c37fb4afc44e0382d839119cba6020",
       "style": "IPY_MODEL_50036ce94828495ebc5861b67a46c26d",
       "value": false
      }
     },
     "18600f7791f84dbd83fcef5b3338f368": {
      "model_module": "@jupyter-widgets/controls",
      "model_module_version": "1.5.0",
      "model_name": "IntRangeSliderModel",
      "state": {
       "_model_name": "IntRangeSliderModel",
       "_view_name": "IntRangeSliderView",
       "description": "contrast",
       "layout": "IPY_MODEL_7a572ad978b0471d894b1e7aa363b930",
       "max": 65535,
       "style": "IPY_MODEL_a424b297ce7644f89d4f59b878238ca3",
       "value": [
        120,
        1612
       ]
      }
     },
     "189d547647b84006b5cdf26a96fb01eb": {
      "model_module": "@jupyter-widgets/base",
      "model_module_version": "1.2.0",
      "model_name": "LayoutModel",
      "state": {}
     },
     "18e555e0bb7343959f6a45115382725c": {
      "model_module": "@jupyter-widgets/controls",
      "model_module_version": "1.5.0",
      "model_name": "DropdownModel",
      "state": {
       "_options_labels": [
        "DPPC control cells",
        "DPPC control no-cells"
       ],
       "description": "dataset",
       "index": 0,
       "layout": "IPY_MODEL_c4e5fd6233f546d09636aee514b3d280",
       "style": "IPY_MODEL_ae4efb6547684664943ca57894dd5a14"
      }
     },
     "1aabb124381d41cdb3342c73442c90f6": {
      "model_module": "@jupyter-widgets/controls",
      "model_module_version": "1.5.0",
      "model_name": "VBoxModel",
      "state": {
       "children": [
        "IPY_MODEL_a11393e38a794cbd97718ab75738bf0c",
        "IPY_MODEL_d082c76564e6470988d54ebb27291270",
        "IPY_MODEL_de709dab69c2475caba18742dc3f42ac",
        "IPY_MODEL_876b9f255fd4436d9586c572e12b70aa"
       ],
       "layout": "IPY_MODEL_0f6de196756c4fdf92690d78796dc45c"
      }
     },
     "1b6032008f014b149a45d768f307c7fc": {
      "model_module": "@jupyter-widgets/controls",
      "model_module_version": "1.5.0",
      "model_name": "LabelModel",
      "state": {
       "layout": "IPY_MODEL_29d76c2b554242cf8a490ecd49d45178",
       "style": "IPY_MODEL_a2d34d39647f4585adc9038c76e07f60",
       "value": "Size range"
      }
     },
     "1d0e567ee90446f1a83b451913bd6170": {
      "model_module": "@jupyter-widgets/controls",
      "model_module_version": "1.5.0",
      "model_name": "DescriptionStyleModel",
      "state": {
       "description_width": ""
      }
     },
     "1e2200d63b654866a6a41978c4364cf4": {
      "model_module": "@jupyter-widgets/controls",
      "model_module_version": "1.5.0",
      "model_name": "VBoxModel",
      "state": {
       "children": [
        "IPY_MODEL_d05ebb5d873d431d838ea47f0fc26be9",
        "IPY_MODEL_95334475424d48dfae0204357bf0a044",
        "IPY_MODEL_5e5d10008efa4039b7763fa31c1e48c3"
       ],
       "layout": "IPY_MODEL_246c8693e5b6420b99c6fd953907157b"
      }
     },
     "1f51180a598f4817b5c77f9bbb423843": {
      "model_module": "@jupyter-widgets/base",
      "model_module_version": "1.2.0",
      "model_name": "LayoutModel",
      "state": {}
     },
     "1f6ccafc1d49429895d2834e5b7014cd": {
      "model_module": "@jupyter-widgets/controls",
      "model_module_version": "1.5.0",
      "model_name": "HBoxModel",
      "state": {
       "children": [
        "IPY_MODEL_18600f7791f84dbd83fcef5b3338f368",
        "IPY_MODEL_f4631c39c8db42d3aca5db4c679fa5c8"
       ],
       "layout": "IPY_MODEL_5743f01431eb47d7832ed8d6e591c7b5"
      }
     },
     "2003f3d9a88542f0ab5da45522e2f0d5": {
      "model_module": "@jupyter-widgets/base",
      "model_module_version": "1.2.0",
      "model_name": "LayoutModel",
      "state": {}
     },
     "201156cd6f144aca8f6ed26cad57075f": {
      "model_module": "@jupyter-widgets/controls",
      "model_module_version": "1.5.0",
      "model_name": "VBoxModel",
      "state": {
       "children": [
        "IPY_MODEL_ada3fea12c28482c876da1ae1682f7e8",
        "IPY_MODEL_53c3cf13487d48e499441ee41f49cbf5"
       ],
       "layout": "IPY_MODEL_e58e918f8b9b460bbd676f826b5da2ee"
      }
     },
     "2056ccbed8ca4ef7a49e56371e3a8d53": {
      "model_module": "@jupyter-widgets/base",
      "model_module_version": "1.2.0",
      "model_name": "LayoutModel",
      "state": {}
     },
     "209fc5fd6e174b429aafe2a1946c33aa": {
      "model_module": "@jupyter-widgets/controls",
      "model_module_version": "1.5.0",
      "model_name": "DescriptionStyleModel",
      "state": {
       "description_width": ""
      }
     },
     "20a638374f4840fca8f1d2442452d7e4": {
      "model_module": "@jupyter-widgets/base",
      "model_module_version": "1.2.0",
      "model_name": "LayoutModel",
      "state": {}
     },
     "20d6112249414cef9fa68ba5e3c2a19b": {
      "model_module": "@jupyter-widgets/controls",
      "model_module_version": "1.5.0",
      "model_name": "DropdownModel",
      "state": {
       "_options_labels": [
        "beads/beads_000_.tif",
        "beads/beads_001_.tif",
        "beads/beads_002_.tif"
       ],
       "description": "file",
       "index": 0,
       "layout": "IPY_MODEL_fe4fb42537ea4c309e6230f77154788a",
       "style": "IPY_MODEL_ad6e7c2470354fdeae4c0f9ce89f5e86"
      }
     },
     "20dc52954a124e7d9893b9d97de0060c": {
      "model_module": "@jupyter-widgets/base",
      "model_module_version": "1.2.0",
      "model_name": "LayoutModel",
      "state": {}
     },
     "21d2db1693ff4601bfd42648239a84cf": {
      "model_module": "@jupyter-widgets/controls",
      "model_module_version": "1.5.0",
      "model_name": "LabelModel",
      "state": {
       "layout": "IPY_MODEL_e7a92ba0b6d9448eb5ffebcff6b046ef",
       "style": "IPY_MODEL_e2c333c5301047258231ec016332b42c",
       "value": "Size range"
      }
     },
     "2239367a16104f56831dcbbc34db25ee": {
      "model_module": "@jupyter-widgets/controls",
      "model_module_version": "1.5.0",
      "model_name": "FloatTextModel",
      "state": {
       "description": "radius",
       "layout": "IPY_MODEL_d7d91133d0d546c691d4215f7be0ea6d",
       "step": 0.1,
       "style": "IPY_MODEL_0ea17f524f7d475bb6e27c9b964dc082",
       "value": 1
      }
     },
     "2266fc46a5214025a5389b6191fc1b47": {
      "model_module": "@jupyter-widgets/base",
      "model_module_version": "1.2.0",
      "model_name": "LayoutModel",
      "state": {}
     },
     "23acf3e3e6514b809df9f0c0294df4e9": {
      "model_module": "@jupyter-widgets/controls",
      "model_module_version": "1.5.0",
      "model_name": "HTMLModel",
      "state": {
       "layout": "IPY_MODEL_f326fa2625c44911881100cdf2545c60",
       "style": "IPY_MODEL_c4b38219d1d54129833240ee316c85f0"
      }
     },
     "23eb3d8ac87d432f97b9897f0a644484": {
      "model_module": "@jupyter-widgets/base",
      "model_module_version": "1.2.0",
      "model_name": "LayoutModel",
      "state": {
       "width": "min-content"
      }
     },
     "2417536c3e8d4729b08e14200d0878b9": {
      "model_module": "@jupyter-widgets/base",
      "model_module_version": "1.2.0",
      "model_name": "LayoutModel",
      "state": {}
     },
     "2422103a82d94f84bb4b7a27bde9b396": {
      "model_module": "@jupyter-widgets/base",
      "model_module_version": "1.2.0",
      "model_name": "LayoutModel",
      "state": {}
     },
     "2438f2dd89284f9fa8591d286e1111b9": {
      "model_module": "@jupyter-widgets/base",
      "model_module_version": "1.2.0",
      "model_name": "LayoutModel",
      "state": {}
     },
     "246c8693e5b6420b99c6fd953907157b": {
      "model_module": "@jupyter-widgets/base",
      "model_module_version": "1.2.0",
      "model_name": "LayoutModel",
      "state": {
       "grid_template_columns": "min-content min-content"
      }
     },
     "25237556c5e74eea925bd7ce14cd8cbc": {
      "model_module": "@jupyter-widgets/controls",
      "model_module_version": "1.5.0",
      "model_name": "IntTextModel",
      "state": {
       "description": "signal thresh.",
       "layout": "IPY_MODEL_5ddac476269a4e62af27ce8bb0d9aef5",
       "step": 1,
       "style": "IPY_MODEL_7f5c1d47ebf54b908f4bf187f2a3ad58",
       "value": 500
      }
     },
     "25342f4580c943e3a7f78da950c891d0": {
      "model_module": "@jupyter-widgets/controls",
      "model_module_version": "1.5.0",
      "model_name": "ButtonStyleModel",
      "state": {}
     },
     "2564b301513e4d36ae2930d2417a00f9": {
      "model_module": "@jupyter-widgets/controls",
      "model_module_version": "1.5.0",
      "model_name": "DropdownModel",
      "state": {
       "_options_labels": [
        "Identity",
        "Crocker-Grier",
        "Gaussian"
       ],
       "description": "find filter",
       "index": 0,
       "layout": "IPY_MODEL_b3323d7a78144e9fa02bcbfc1416bb4b",
       "style": "IPY_MODEL_79e3d63824434d55ba8112e340683d91"
      }
     },
     "260265e9c2bf4dd8a0b5d27f9077b472": {
      "model_module": "@jupyter-widgets/base",
      "model_module_version": "1.2.0",
      "model_name": "LayoutModel",
      "state": {
       "display": "none"
      }
     },
     "278df4d4ad9140e7b0ba802a53832811": {
      "model_module": "@jupyter-widgets/base",
      "model_module_version": "1.2.0",
      "model_name": "LayoutModel",
      "state": {}
     },
     "27a5da32737946bb8f103abd0d45d9c7": {
      "model_module": "@jupyter-widgets/controls",
      "model_module_version": "1.5.0",
      "model_name": "DescriptionStyleModel",
      "state": {
       "description_width": ""
      }
     },
     "286a992e730d4769a89b615d423f2d3f": {
      "model_module": "@jupyter-widgets/controls",
      "model_module_version": "1.5.0",
      "model_name": "DescriptionStyleModel",
      "state": {
       "description_width": ""
      }
     },
     "28cc7eca372d44d085c2dfa11a47dd70": {
      "model_module": "@jupyter-widgets/base",
      "model_module_version": "1.2.0",
      "model_name": "LayoutModel",
      "state": {}
     },
     "295c21fe14b841d59cf7d6b308cbceb5": {
      "model_module": "@jupyter-widgets/controls",
      "model_module_version": "1.5.0",
      "model_name": "ButtonModel",
      "state": {
       "description": "Auto",
       "layout": "IPY_MODEL_db5b41a334db47b9b61076d7b0f33c2f",
       "style": "IPY_MODEL_9cfd2385300142de90551563fc2d0d79"
      }
     },
     "299e8c1e4f11471c9a40addb51930918": {
      "model_module": "@jupyter-widgets/base",
      "model_module_version": "1.2.0",
      "model_name": "LayoutModel",
      "state": {}
     },
     "29d76c2b554242cf8a490ecd49d45178": {
      "model_module": "@jupyter-widgets/base",
      "model_module_version": "1.2.0",
      "model_name": "LayoutModel",
      "state": {}
     },
     "2a8a8ca896bd407fabda302414f92779": {
      "model_module": "@jupyter-widgets/controls",
      "model_module_version": "1.5.0",
      "model_name": "HBoxModel",
      "state": {
       "children": [
        "IPY_MODEL_ca862854e7da4299843e11d5bac695f7",
        "IPY_MODEL_3868e1a8e6a74b428d96f68b69d58802",
        "IPY_MODEL_d7c22dbb0052418e90625e9ae585af6c",
        "IPY_MODEL_031f61ce5e1d4836886d25e366cbf70a"
       ],
       "layout": "IPY_MODEL_f62ba06d25e444dd85783b045464d4ac"
      }
     },
     "2c56770aecef45c8995b1dcf3cd6d7a6": {
      "model_module": "@jupyter-widgets/base",
      "model_module_version": "1.2.0",
      "model_name": "LayoutModel",
      "state": {}
     },
     "2cf141763b3c4b90b7c1403a9e3ce11e": {
      "model_module": "@jupyter-widgets/controls",
      "model_module_version": "1.5.0",
      "model_name": "IntTextModel",
      "state": {
       "description": "mass thresh.",
       "layout": "IPY_MODEL_fdb9e23d2a054cc9988befdd0f94fd66",
       "step": 10,
       "style": "IPY_MODEL_eed0d693d18d48ab9c9db7f3146ccd2b",
       "value": 3000
      }
     },
     "2e1c71e0a05d48b198c4faad4db8b351": {
      "model_module": "@jupyter-widgets/base",
      "model_module_version": "1.2.0",
      "model_name": "LayoutModel",
      "state": {
       "display": "none"
      }
     },
     "2e267c8a05394792bb61f5738f42bb63": {
      "model_module": "@jupyter-widgets/controls",
      "model_module_version": "1.5.0",
      "model_name": "LabelModel",
      "state": {
       "layout": "IPY_MODEL_bc114b208b80450fb97ebc8c361c8ba9",
       "style": "IPY_MODEL_ece22cd818894220842d95261216c4d5",
       "value": "Locating beads (file 3/3)"
      }
     },
     "2e879cb73cc84fdaa55d7671c0b6dcb3": {
      "model_module": "@jupyter-widgets/controls",
      "model_module_version": "1.5.0",
      "model_name": "DescriptionStyleModel",
      "state": {
       "description_width": ""
      }
     },
     "2eab73abf01d44df93bbe1cde10502f2": {
      "model_module": "jupyter-matplotlib",
      "model_module_version": "^0.9.0",
      "model_name": "MPLCanvasModel",
      "state": {
       "_cursor": "default",
       "_figure_label": "Figure 6",
       "_height": 480,
       "_width": 640,
       "layout": "IPY_MODEL_c56eadd0d35349b59c9045e2fa4c418a",
       "toolbar": "IPY_MODEL_074e52e0ad5342f29cdde0770dd82633",
       "toolbar_position": "left"
      }
     },
     "2f6df3a6558c48fc985fe3277d5b8fc6": {
      "model_module": "@jupyter-widgets/base",
      "model_module_version": "1.2.0",
      "model_name": "LayoutModel",
      "state": {}
     },
     "2fb271df6bd149839c6e8ff4e7ef399f": {
      "model_module": "@jupyter-widgets/controls",
      "model_module_version": "1.5.0",
      "model_name": "GridBoxModel",
      "state": {
       "children": [
        "IPY_MODEL_3989b4e42c7a41f2843337b1121a022f",
        "IPY_MODEL_7c97bfe84fe74ae8adf2fb09de2f2761",
        "IPY_MODEL_3989b4e42c7a41f2843337b1121a022f",
        "IPY_MODEL_9adc44244674406e85dd5f72299d3399",
        "IPY_MODEL_3989b4e42c7a41f2843337b1121a022f",
        "IPY_MODEL_7bfc0a8f1bdf46f8a0ab921aaa712bc8",
        "IPY_MODEL_3989b4e42c7a41f2843337b1121a022f",
        "IPY_MODEL_f74b9e8198104656a3625891d7c0b768",
        "IPY_MODEL_49e5bfb69ded4c60a40bff8ca8fccfca",
        "IPY_MODEL_474d1f5558e8451391b8181b9f352fe1",
        "IPY_MODEL_b99be1f7ba474e0c97f6a58a7a2b14df",
        "IPY_MODEL_5d8f0afe724d4ba9a8c093af8f68d076"
       ],
       "layout": "IPY_MODEL_45ef26dfd6b14165ab554e61902b201c"
      }
     },
     "3101fa5c65e04240afa5eda0e75081ea": {
      "model_module": "@jupyter-widgets/controls",
      "model_module_version": "1.5.0",
      "model_name": "DropdownModel",
      "state": {
       "_options_labels": [
        "2d_fixed",
        "2d",
        "3d"
       ],
       "description": "model",
       "index": 1,
       "layout": "IPY_MODEL_c210a326a24a43919e276b3fa49dfe59",
       "style": "IPY_MODEL_209fc5fd6e174b429aafe2a1946c33aa"
      }
     },
     "31088d8fd21c452bb03dd10cac23d56b": {
      "model_module": "@jupyter-widgets/controls",
      "model_module_version": "1.5.0",
      "model_name": "DescriptionStyleModel",
      "state": {
       "description_width": ""
      }
     },
     "312ce8220e684ac49398cdfdc35ce5a0": {
      "model_module": "@jupyter-widgets/controls",
      "model_module_version": "1.5.0",
      "model_name": "BoundedIntTextModel",
      "state": {
       "description": "x",
       "layout": "IPY_MODEL_89357866384444a58491725e9c17cd6f",
       "max": 205,
       "style": "IPY_MODEL_31088d8fd21c452bb03dd10cac23d56b",
       "value": 200
      }
     },
     "3191261da06b46bb9e04f109f3aabc08": {
      "model_module": "@jupyter-widgets/base",
      "model_module_version": "1.2.0",
      "model_name": "LayoutModel",
      "state": {}
     },
     "33e0512f30ba41db846067851ea8f420": {
      "model_module": "@jupyter-widgets/base",
      "model_module_version": "1.2.0",
      "model_name": "LayoutModel",
      "state": {
       "display": "none"
      }
     },
     "353baac83fa943cd9da89e7146c59b8e": {
      "model_module": "@jupyter-widgets/controls",
      "model_module_version": "1.5.0",
      "model_name": "DescriptionStyleModel",
      "state": {
       "description_width": ""
      }
     },
     "35fa74e004d841fca20817454b1dbbbe": {
      "model_module": "@jupyter-widgets/controls",
      "model_module_version": "1.5.0",
      "model_name": "DescriptionStyleModel",
      "state": {
       "description_width": ""
      }
     },
     "3651d03793d94b9abff05201f596bb5c": {
      "model_module": "@jupyter-widgets/controls",
      "model_module_version": "1.5.0",
      "model_name": "DropdownModel",
      "state": {
       "_options_labels": [
        "DPPC control cells",
        "DPPC control no-cells"
       ],
       "description": "dataset",
       "index": 0,
       "layout": "IPY_MODEL_bbed63d283fb417fb389907616a75a87",
       "style": "IPY_MODEL_69372afa26984141a5c31440b010cd8a"
      }
     },
     "36bacbb84e4643b9b11b08781909178d": {
      "model_module": "@jupyter-widgets/controls",
      "model_module_version": "1.5.0",
      "model_name": "FloatTextModel",
      "state": {
       "description": "threshold",
       "layout": "IPY_MODEL_2f6df3a6558c48fc985fe3277d5b8fc6",
       "step": 10,
       "style": "IPY_MODEL_c4ae71b0160b44bba99a59d4ee858bfe",
       "value": 100
      }
     },
     "380902b50485423baf1dfee99d180c15": {
      "model_module": "@jupyter-widgets/controls",
      "model_module_version": "1.5.0",
      "model_name": "CheckboxModel",
      "state": {
       "description": "Same size",
       "disabled": false,
       "layout": "IPY_MODEL_df182e870404410e90726122e3d27e4e",
       "style": "IPY_MODEL_92d0a601bd814df38da2a147564d3134",
       "value": true
      }
     },
     "38290557f26f49debf6cc83c5a10fa79": {
      "model_module": "@jupyter-widgets/controls",
      "model_module_version": "1.5.0",
      "model_name": "VBoxModel",
      "state": {
       "children": [
        "IPY_MODEL_7b0b1f2809e54620b8e7963c2cdd26df",
        "IPY_MODEL_acc7589078704a169a4a581abe00ea37",
        "IPY_MODEL_c5688df494a9450f8fd6c016cc5250ee"
       ],
       "layout": "IPY_MODEL_c7ef5121736a4476961884b4c5a791d4"
      }
     },
     "3868e1a8e6a74b428d96f68b69d58802": {
      "model_module": "@jupyter-widgets/controls",
      "model_module_version": "1.5.0",
      "model_name": "DropdownModel",
      "state": {
       "_options_labels": [
        "beads_000_.tif (sm-data/beads)",
        "beads_001_.tif (sm-data/beads)",
        "beads_002_.tif (sm-data/beads)"
       ],
       "description": "image",
       "index": 0,
       "layout": "IPY_MODEL_b66b74802570420c87dace5bec8d4818",
       "style": "IPY_MODEL_fdee09dcd38c4ea5bd1dd5aedcefab0a"
      }
     },
     "38bb3652bf52479a9332c105f73e5ece": {
      "model_module": "@jupyter-widgets/controls",
      "model_module_version": "1.5.0",
      "model_name": "DescriptionStyleModel",
      "state": {
       "description_width": ""
      }
     },
     "3989b4e42c7a41f2843337b1121a022f": {
      "model_module": "@jupyter-widgets/controls",
      "model_module_version": "1.5.0",
      "model_name": "HTMLModel",
      "state": {
       "layout": "IPY_MODEL_a2424edfb90a46ef8a4eeba2d226e67f",
       "style": "IPY_MODEL_73060b7ecdf54cb3b30ff6434e4213e6"
      }
     },
     "39ecaefe540840cb97c31f8b6197cd96": {
      "model_module": "@jupyter-widgets/base",
      "model_module_version": "1.2.0",
      "model_name": "LayoutModel",
      "state": {
       "display": "none"
      }
     },
     "3a3923d46c2d4924868a2cbb35e19b5d": {
      "model_module": "@jupyter-widgets/controls",
      "model_module_version": "1.5.0",
      "model_name": "DescriptionStyleModel",
      "state": {
       "description_width": ""
      }
     },
     "3a6b9327180b4af3a9c82d362f3195c3": {
      "model_module": "@jupyter-widgets/controls",
      "model_module_version": "1.5.0",
      "model_name": "DescriptionStyleModel",
      "state": {
       "description_width": ""
      }
     },
     "3ae1b1ef74fa44bc9ad9caa2383c7557": {
      "model_module": "@jupyter-widgets/base",
      "model_module_version": "1.2.0",
      "model_name": "LayoutModel",
      "state": {
       "display": "none",
       "width": "auto"
      }
     },
     "3ae2d4475bbf4752b848342e02532eac": {
      "model_module": "@jupyter-widgets/controls",
      "model_module_version": "1.5.0",
      "model_name": "DescriptionStyleModel",
      "state": {
       "description_width": ""
      }
     },
     "3c8307f792954ebba50a37d6c645c509": {
      "model_module": "@jupyter-widgets/controls",
      "model_module_version": "1.5.0",
      "model_name": "DescriptionStyleModel",
      "state": {
       "description_width": ""
      }
     },
     "3d4e0ad6442c4a16a15a14ce83b796b5": {
      "model_module": "@jupyter-widgets/controls",
      "model_module_version": "1.5.0",
      "model_name": "DescriptionStyleModel",
      "state": {
       "description_width": ""
      }
     },
     "3d65bb6a77fd4154ad050a8613d53fdb": {
      "model_module": "@jupyter-widgets/controls",
      "model_module_version": "1.5.0",
      "model_name": "DescriptionStyleModel",
      "state": {
       "description_width": ""
      }
     },
     "3f11876b4c3f4b11b936afdf4cba46e7": {
      "model_module": "@jupyter-widgets/base",
      "model_module_version": "1.2.0",
      "model_name": "LayoutModel",
      "state": {}
     },
     "4006ee0457db461eb2204afd2d9ed216": {
      "model_module": "@jupyter-widgets/base",
      "model_module_version": "1.2.0",
      "model_name": "LayoutModel",
      "state": {
       "display": "none"
      }
     },
     "401fbe32b7a245d6872fc717b242ee90": {
      "model_module": "@jupyter-widgets/controls",
      "model_module_version": "1.5.0",
      "model_name": "VBoxModel",
      "state": {
       "children": [
        "IPY_MODEL_68cb7660adc843f3ad41b7d65a9900ae",
        "IPY_MODEL_81e41b74e02f4a27a733dc1e877c6e99"
       ],
       "layout": "IPY_MODEL_6f93b1c6b9af4dadae85b78edb8c20cd"
      }
     },
     "4029940acf7b4bcf9ea84852686460fb": {
      "model_module": "@jupyter-widgets/controls",
      "model_module_version": "1.5.0",
      "model_name": "DescriptionStyleModel",
      "state": {
       "description_width": ""
      }
     },
     "4177453c81804da1aa4ba80b1759b27f": {
      "model_module": "@jupyter-widgets/controls",
      "model_module_version": "1.5.0",
      "model_name": "BoundedIntTextModel",
      "state": {
       "description": "frame",
       "layout": "IPY_MODEL_b7794101b0354604a0646783151d3526",
       "max": 119,
       "style": "IPY_MODEL_27a5da32737946bb8f103abd0d45d9c7"
      }
     },
     "42039b965bc94b50bade1a538be85231": {
      "model_module": "@jupyter-widgets/base",
      "model_module_version": "1.2.0",
      "model_name": "LayoutModel",
      "state": {}
     },
     "424677a3192b41e190257291b355313a": {
      "model_module": "@jupyter-widgets/base",
      "model_module_version": "1.2.0",
      "model_name": "LayoutModel",
      "state": {}
     },
     "425df6e9bb0b4f3caa575f0beba9bbb2": {
      "model_module": "@jupyter-widgets/controls",
      "model_module_version": "1.5.0",
      "model_name": "ButtonStyleModel",
      "state": {}
     },
     "42da468231424ed89c5019d5ac393deb": {
      "model_module": "@jupyter-widgets/controls",
      "model_module_version": "1.5.0",
      "model_name": "BoundedIntTextModel",
      "state": {
       "description": "y",
       "layout": "IPY_MODEL_c03388fed4e54edc9a9bab302c3f8017",
       "max": 0,
       "style": "IPY_MODEL_286a992e730d4769a89b615d423f2d3f"
      }
     },
     "42e5f2bed0d249babaa4a007b25c14de": {
      "model_module": "@jupyter-widgets/controls",
      "model_module_version": "1.5.0",
      "model_name": "FloatTextModel",
      "state": {
       "description": "Min. distance",
       "layout": "IPY_MODEL_17b78076246c476ca645c3eb87a7818f",
       "step": 0.1,
       "style": "IPY_MODEL_14fdce542d1f441eb4db14b16c4ced48",
       "value": 1
      }
     },
     "43c37fb4afc44e0382d839119cba6020": {
      "model_module": "@jupyter-widgets/base",
      "model_module_version": "1.2.0",
      "model_name": "LayoutModel",
      "state": {
       "width": "min-content"
      }
     },
     "441bfb15fc734d39bbd6667db94e37fc": {
      "model_module": "@jupyter-widgets/controls",
      "model_module_version": "1.5.0",
      "model_name": "HBoxModel",
      "state": {
       "children": [
        "IPY_MODEL_ff5f8afa8c2247d6a955d8381a3b31e4",
        "IPY_MODEL_0d7f1fbf8eee49799615dd5aaf9458f4",
        "IPY_MODEL_a469ac464b9448568fbf32a93b979b46",
        "IPY_MODEL_380902b50485423baf1dfee99d180c15"
       ],
       "layout": "IPY_MODEL_c41de3c5ae764a8587c0bb03af9282bb"
      }
     },
     "4460426a2a6d4e8f9e88d9c9c0090d7d": {
      "model_module": "@jupyter-widgets/base",
      "model_module_version": "1.2.0",
      "model_name": "LayoutModel",
      "state": {}
     },
     "45ef26dfd6b14165ab554e61902b201c": {
      "model_module": "@jupyter-widgets/base",
      "model_module_version": "1.2.0",
      "model_name": "LayoutModel",
      "state": {
       "display": "none",
       "grid_template_columns": "min-content min-content"
      }
     },
     "46145ad62542463883b993528aa90b64": {
      "model_module": "@jupyter-widgets/base",
      "model_module_version": "1.2.0",
      "model_name": "LayoutModel",
      "state": {}
     },
     "473c52b3e69c436bb244de537d401ba1": {
      "model_module": "@jupyter-widgets/base",
      "model_module_version": "1.2.0",
      "model_name": "LayoutModel",
      "state": {}
     },
     "474d1f5558e8451391b8181b9f352fe1": {
      "model_module": "@jupyter-widgets/controls",
      "model_module_version": "1.5.0",
      "model_name": "FloatTextModel",
      "state": {
       "description": "Min. distance",
       "layout": "IPY_MODEL_99e6edb7737a478fa7b51d4bead6da67",
       "step": 0.1,
       "style": "IPY_MODEL_b33e9c70c4e44a99b36427103faf874d",
       "value": 1
      }
     },
     "48b6925e71d24065a9c3d560e60e9d76": {
      "model_module": "@jupyter-widgets/base",
      "model_module_version": "1.2.0",
      "model_name": "LayoutModel",
      "state": {}
     },
     "49e5bfb69ded4c60a40bff8ca8fccfca": {
      "model_module": "@jupyter-widgets/controls",
      "model_module_version": "1.5.0",
      "model_name": "CheckboxModel",
      "state": {
       "disabled": false,
       "indent": false,
       "layout": "IPY_MODEL_4bc5abf2842b422580764a317d93d0d1",
       "style": "IPY_MODEL_9be5e0bb63b349ddbbe9a83c709e58e3",
       "value": false
      }
     },
     "4aa8892864ac4ceab75c98528b95eda0": {
      "model_module": "@jupyter-widgets/base",
      "model_module_version": "1.2.0",
      "model_name": "LayoutModel",
      "state": {}
     },
     "4b9ddeb013e947369a6e1e48fb8eb43e": {
      "model_module": "@jupyter-widgets/controls",
      "model_module_version": "1.5.0",
      "model_name": "DescriptionStyleModel",
      "state": {
       "description_width": ""
      }
     },
     "4ba73b5a4e8e4af2ae6fdadec317c125": {
      "model_module": "@jupyter-widgets/controls",
      "model_module_version": "1.5.0",
      "model_name": "IntTextModel",
      "state": {
       "description": "feat. size",
       "layout": "IPY_MODEL_cf96fdc846864c8f9e109519d9d1f2cd",
       "step": 1,
       "style": "IPY_MODEL_10a52e1616f048daa6398752918caed9",
       "value": 3
      }
     },
     "4bbb23468f5643b58f4bf8d130309596": {
      "model_module": "@jupyter-widgets/controls",
      "model_module_version": "1.5.0",
      "model_name": "DescriptionStyleModel",
      "state": {
       "description_width": ""
      }
     },
     "4bc5abf2842b422580764a317d93d0d1": {
      "model_module": "@jupyter-widgets/base",
      "model_module_version": "1.2.0",
      "model_name": "LayoutModel",
      "state": {
       "width": "min-content"
      }
     },
     "4ca17bc855c945b992a9ad6d21f7b983": {
      "model_module": "@jupyter-widgets/base",
      "model_module_version": "1.2.0",
      "model_name": "LayoutModel",
      "state": {}
     },
     "4cca4a21a0a34245ad67a231cbf32928": {
      "model_module": "@jupyter-widgets/base",
      "model_module_version": "1.2.0",
      "model_name": "LayoutModel",
      "state": {}
     },
     "4cd37704a0ea4cdba1cd844a8f95ba65": {
      "model_module": "@jupyter-widgets/controls",
      "model_module_version": "1.5.0",
      "model_name": "DescriptionStyleModel",
      "state": {
       "description_width": ""
      }
     },
     "4df52d759c6f4bb487ee1e2a43b1aae3": {
      "model_module": "@jupyter-widgets/base",
      "model_module_version": "1.2.0",
      "model_name": "LayoutModel",
      "state": {}
     },
     "4ec42f5dff6744679b6141fa1c5f366c": {
      "model_module": "@jupyter-widgets/controls",
      "model_module_version": "1.5.0",
      "model_name": "FloatTextModel",
      "state": {
       "description": "min.",
       "layout": "IPY_MODEL_bc808f4b1c4741f695ae63fad2ac88de",
       "step": 0.1,
       "style": "IPY_MODEL_8c032bf29d00401a95cdc780db2f5c74",
       "value": 0.5
      }
     },
     "50036ce94828495ebc5861b67a46c26d": {
      "model_module": "@jupyter-widgets/controls",
      "model_module_version": "1.5.0",
      "model_name": "DescriptionStyleModel",
      "state": {
       "description_width": ""
      }
     },
     "502dda0fcd1d45e583337fce9eb32cb1": {
      "model_module": "jupyter-matplotlib",
      "model_module_version": "^0.9.0",
      "model_name": "ToolbarModel",
      "state": {
       "layout": "IPY_MODEL_e60b6cb6450143d4875534f91ade366d",
       "toolitems": [
        [
         "Home",
         "Reset original view",
         "home",
         "home"
        ],
        [
         "Back",
         "Back to previous view",
         "arrow-left",
         "back"
        ],
        [
         "Forward",
         "Forward to next view",
         "arrow-right",
         "forward"
        ],
        [
         "Pan",
         "Left button pans, Right button zooms\nx/y fixes axis, CTRL fixes aspect",
         "arrows",
         "pan"
        ],
        [
         "Zoom",
         "Zoom to rectangle\nx/y fixes axis, CTRL fixes aspect",
         "square-o",
         "zoom"
        ],
        [
         "Download",
         "Download plot",
         "floppy-o",
         "save_figure"
        ]
       ]
      }
     },
     "5061a11d99e842ac98a9f4c4688fd7c0": {
      "model_module": "@jupyter-widgets/controls",
      "model_module_version": "1.5.0",
      "model_name": "DescriptionStyleModel",
      "state": {
       "description_width": ""
      }
     },
     "50eaf4affb1045c1b3abdb2fef857ba3": {
      "model_module": "@jupyter-widgets/base",
      "model_module_version": "1.2.0",
      "model_name": "LayoutModel",
      "state": {}
     },
     "510293290f6148c9a0f8d77be1b20ff9": {
      "model_module": "@jupyter-widgets/controls",
      "model_module_version": "1.5.0",
      "model_name": "FloatTextModel",
      "state": {
       "description": "max.",
       "layout": "IPY_MODEL_f5c6c783a7f241bcab894b67d3e51f5f",
       "step": 0.1,
       "style": "IPY_MODEL_eb60913f36624c278ccb5d05dc97bbad",
       "value": 2
      }
     },
     "510955e2ec0a4dea98a948210f4ae2de": {
      "model_module": "@jupyter-widgets/controls",
      "model_module_version": "1.5.0",
      "model_name": "HBoxModel",
      "state": {
       "children": [
        "IPY_MODEL_1aabb124381d41cdb3342c73442c90f6",
        "IPY_MODEL_d502301da93442718e9c53393e092105"
       ],
       "layout": "IPY_MODEL_dfa4520e83bb42869adb1e5aaedc50a6"
      }
     },
     "515291d2457f47a0905c933133e4cf8d": {
      "model_module": "@jupyter-widgets/controls",
      "model_module_version": "1.5.0",
      "model_name": "DescriptionStyleModel",
      "state": {
       "description_width": ""
      }
     },
     "53bb3c4f5e934ea694119cd8bf20bae1": {
      "model_module": "@jupyter-widgets/controls",
      "model_module_version": "1.5.0",
      "model_name": "FloatTextModel",
      "state": {
       "description": "max.",
       "layout": "IPY_MODEL_a2aa77ee9441413bac27cee6c809e59c",
       "step": 0.1,
       "style": "IPY_MODEL_f5a3caf5360d41debe04c2080934d7a1",
       "value": 2
      }
     },
     "53c3cf13487d48e499441ee41f49cbf5": {
      "model_module": "@jupyter-widgets/controls",
      "model_module_version": "1.5.0",
      "model_name": "HBoxModel",
      "state": {
       "children": [
        "IPY_MODEL_740fb68101ad46c5bd14b08f97567637",
        "IPY_MODEL_14e57297b7604ee790418dc88713bb1f"
       ],
       "layout": "IPY_MODEL_2056ccbed8ca4ef7a49e56371e3a8d53"
      }
     },
     "541fc605d5ac41a7ae094f77d008e2fb": {
      "model_module": "@jupyter-widgets/controls",
      "model_module_version": "1.5.0",
      "model_name": "IntTextModel",
      "state": {
       "description": "radius",
       "layout": "IPY_MODEL_3191261da06b46bb9e04f109f3aabc08",
       "step": 1,
       "style": "IPY_MODEL_d6308bd2acd14220b40151ad34da9b4c",
       "value": 3
      }
     },
     "5568803dd3134821914c8787c59f2e40": {
      "model_module": "@jupyter-widgets/controls",
      "model_module_version": "1.5.0",
      "model_name": "ButtonStyleModel",
      "state": {}
     },
     "570cdb16068d4e41950f9fdf74cc9fb3": {
      "model_module": "@jupyter-widgets/controls",
      "model_module_version": "1.5.0",
      "model_name": "DropdownModel",
      "state": {
       "_options_labels": [
        "3D-DAOSTORM",
        "Crocker-Grier"
       ],
       "description": "algorithm",
       "index": 1,
       "layout": "IPY_MODEL_974dfe76c7464aa997afdf386c330568",
       "style": "IPY_MODEL_8765ea65f3a64d638b3f8e8e6dcb94e6"
      }
     },
     "5743f01431eb47d7832ed8d6e591c7b5": {
      "model_module": "@jupyter-widgets/base",
      "model_module_version": "1.2.0",
      "model_name": "LayoutModel",
      "state": {}
     },
     "57daea5c10c9436aacbc9c3889227307": {
      "model_module": "@jupyter-widgets/base",
      "model_module_version": "1.2.0",
      "model_name": "LayoutModel",
      "state": {}
     },
     "581b1129651e4589a9ae24cfad22e21e": {
      "model_module": "@jupyter-widgets/controls",
      "model_module_version": "1.5.0",
      "model_name": "VBoxModel",
      "state": {
       "children": [
        "IPY_MODEL_5adb5aa78490471497d2680b2d5af849",
        "IPY_MODEL_83b71f18a95c49cb8ce8d50471ded4af",
        "IPY_MODEL_510293290f6148c9a0f8d77be1b20ff9"
       ],
       "layout": "IPY_MODEL_3f11876b4c3f4b11b936afdf4cba46e7"
      }
     },
     "5895a2fd34d34a1ea7f94d53b34e6e29": {
      "model_module": "@jupyter-widgets/base",
      "model_module_version": "1.2.0",
      "model_name": "LayoutModel",
      "state": {}
     },
     "58b07a3bb6cb4b97b674929d5e19c086": {
      "model_module": "@jupyter-widgets/base",
      "model_module_version": "1.2.0",
      "model_name": "LayoutModel",
      "state": {}
     },
     "58fe41c9aa584ebfb1ed9b41edeac076": {
      "model_module": "@jupyter-widgets/base",
      "model_module_version": "1.2.0",
      "model_name": "LayoutModel",
      "state": {}
     },
     "59053700b0ab4635afe94bb8e9cd219a": {
      "model_module": "@jupyter-widgets/base",
      "model_module_version": "1.2.0",
      "model_name": "LayoutModel",
      "state": {}
     },
     "59dd4f485bc04ae2905333ff17667831": {
      "model_module": "@jupyter-widgets/controls",
      "model_module_version": "1.5.0",
      "model_name": "DescriptionStyleModel",
      "state": {
       "description_width": ""
      }
     },
     "5a37a62725cb4956b07adc348f405543": {
      "model_module": "@jupyter-widgets/base",
      "model_module_version": "1.2.0",
      "model_name": "LayoutModel",
      "state": {
       "display": "none"
      }
     },
     "5ad04102b5bc455bb2bc9e3770cf90d6": {
      "model_module": "jupyter-matplotlib",
      "model_module_version": "^0.9.0",
      "model_name": "ToolbarModel",
      "state": {
       "layout": "IPY_MODEL_b438a684dc3948c6a7b6afe8c165b1fa",
       "toolitems": [
        [
         "Home",
         "Reset original view",
         "home",
         "home"
        ],
        [
         "Back",
         "Back to previous view",
         "arrow-left",
         "back"
        ],
        [
         "Forward",
         "Forward to next view",
         "arrow-right",
         "forward"
        ],
        [
         "Pan",
         "Left button pans, Right button zooms\nx/y fixes axis, CTRL fixes aspect",
         "arrows",
         "pan"
        ],
        [
         "Zoom",
         "Zoom to rectangle\nx/y fixes axis, CTRL fixes aspect",
         "square-o",
         "zoom"
        ],
        [
         "Download",
         "Download plot",
         "floppy-o",
         "save_figure"
        ]
       ]
      }
     },
     "5adb5aa78490471497d2680b2d5af849": {
      "model_module": "@jupyter-widgets/controls",
      "model_module_version": "1.5.0",
      "model_name": "LabelModel",
      "state": {
       "layout": "IPY_MODEL_71791952fff9408aa4e44688358fb53a",
       "style": "IPY_MODEL_78a519cf4f264aada4acd02c4003d984",
       "value": "Size range"
      }
     },
     "5b248a57406c42f09fc99d0990b1f70b": {
      "model_module": "@jupyter-widgets/controls",
      "model_module_version": "1.5.0",
      "model_name": "DescriptionStyleModel",
      "state": {
       "description_width": ""
      }
     },
     "5bca0c8844044d589e703672dac93503": {
      "model_module": "@jupyter-widgets/controls",
      "model_module_version": "1.5.0",
      "model_name": "BoundedIntTextModel",
      "state": {
       "description": "width",
       "layout": "IPY_MODEL_e4456b30488f44cf87f64521346c4eea",
       "max": 391,
       "style": "IPY_MODEL_da22b5fa5dec49f08db8784b6ec5627e",
       "value": 186
      }
     },
     "5bfc1303bdc04442a10b3d3499898cef": {
      "model_module": "@jupyter-widgets/controls",
      "model_module_version": "1.5.0",
      "model_name": "DescriptionStyleModel",
      "state": {
       "description_width": ""
      }
     },
     "5c66c10eec5344c68de097a25b133f21": {
      "model_module": "@jupyter-widgets/base",
      "model_module_version": "1.2.0",
      "model_name": "LayoutModel",
      "state": {
       "width": "75%"
      }
     },
     "5d8f0afe724d4ba9a8c093af8f68d076": {
      "model_module": "@jupyter-widgets/controls",
      "model_module_version": "1.5.0",
      "model_name": "VBoxModel",
      "state": {
       "children": [
        "IPY_MODEL_21d2db1693ff4601bfd42648239a84cf",
        "IPY_MODEL_94f9f4649aed42c5b7939ece8fd366af",
        "IPY_MODEL_5e9f30ada1f348a2b0c43c101d137c73"
       ],
       "layout": "IPY_MODEL_a228fd53e7104c038bf04f4b8c892503"
      }
     },
     "5ddac476269a4e62af27ce8bb0d9aef5": {
      "model_module": "@jupyter-widgets/base",
      "model_module_version": "1.2.0",
      "model_name": "LayoutModel",
      "state": {}
     },
     "5e5d10008efa4039b7763fa31c1e48c3": {
      "model_module": "@jupyter-widgets/controls",
      "model_module_version": "1.5.0",
      "model_name": "IntTextModel",
      "state": {
       "description": "mass thresh.",
       "layout": "IPY_MODEL_fcfd6f8909804b7abd19b5cffe822d4a",
       "step": 10,
       "style": "IPY_MODEL_5061a11d99e842ac98a9f4c4688fd7c0",
       "value": 2000
      }
     },
     "5e99440454d8409e84ca91e342a37833": {
      "model_module": "@jupyter-widgets/controls",
      "model_module_version": "1.5.0",
      "model_name": "DescriptionStyleModel",
      "state": {
       "description_width": ""
      }
     },
     "5e9f30ada1f348a2b0c43c101d137c73": {
      "model_module": "@jupyter-widgets/controls",
      "model_module_version": "1.5.0",
      "model_name": "FloatTextModel",
      "state": {
       "description": "max.",
       "layout": "IPY_MODEL_f601054a9857455f840dd8dc36f10878",
       "step": 0.1,
       "style": "IPY_MODEL_3a6b9327180b4af3a9c82d362f3195c3",
       "value": 2
      }
     },
     "5f94c849a29546059aa4a90e84610560": {
      "model_module": "jupyter-matplotlib",
      "model_module_version": "^0.9.0",
      "model_name": "MPLCanvasModel",
      "state": {
       "_cursor": "default",
       "_figure_label": "Figure 4",
       "_height": 480,
       "_image_mode": "diff",
       "_width": 640,
       "layout": "IPY_MODEL_0f7e7e44530e43ddb89a0c116e7e6b20",
       "toolbar": "IPY_MODEL_afa6e3abd73c4384a124c256f0e0c9a0",
       "toolbar_position": "left"
      }
     },
     "6057f916d866459484ee3fe663d61937": {
      "model_module": "@jupyter-widgets/base",
      "model_module_version": "1.2.0",
      "model_name": "LayoutModel",
      "state": {}
     },
     "60ec8d46a21745ada66a5c71ee3f20a4": {
      "model_module": "@jupyter-widgets/controls",
      "model_module_version": "1.5.0",
      "model_name": "TabModel",
      "state": {
       "_titles": {
        "0": "donor",
        "1": "acceptor"
       },
       "children": [
        "IPY_MODEL_baa31bef231f438488880dc0dc7985e0",
        "IPY_MODEL_9d11e2175ff640febcdbb4db05951669"
       ],
       "layout": "IPY_MODEL_0b053ea9205247649ae66df32742f697"
      }
     },
     "61332d2e2f02442f9bccdb78be7d04a9": {
      "model_module": "@jupyter-widgets/controls",
      "model_module_version": "1.5.0",
      "model_name": "IntTextModel",
      "state": {
       "description": "feat. size",
       "layout": "IPY_MODEL_260265e9c2bf4dd8a0b5d27f9077b472",
       "step": 1,
       "style": "IPY_MODEL_59dd4f485bc04ae2905333ff17667831",
       "value": 3
      }
     },
     "6205b3f8704248f8b702e6d918c297aa": {
      "model_module": "@jupyter-widgets/controls",
      "model_module_version": "1.5.0",
      "model_name": "DescriptionStyleModel",
      "state": {
       "description_width": ""
      }
     },
     "624f6cde9471491789894acb1590d5aa": {
      "model_module": "@jupyter-widgets/controls",
      "model_module_version": "1.5.0",
      "model_name": "TabModel",
      "state": {
       "_titles": {
        "0": "donor",
        "1": "acceptor"
       },
       "children": [
        "IPY_MODEL_93c2d93a25c143cb849155839ce408a2",
        "IPY_MODEL_763d33adb4ee4cdcbd6ed2697d62a039"
       ],
       "layout": "IPY_MODEL_4460426a2a6d4e8f9e88d9c9c0090d7d",
       "selected_index": 1
      }
     },
     "63047fc69c2241a7b624af641ec0c673": {
      "model_module": "@jupyter-widgets/base",
      "model_module_version": "1.2.0",
      "model_name": "LayoutModel",
      "state": {}
     },
     "6351de7ac3634f9d9fdb4daeffa92604": {
      "model_module": "@jupyter-widgets/base",
      "model_module_version": "1.2.0",
      "model_name": "LayoutModel",
      "state": {}
     },
     "63c3e6f3961c4ebc8bda45889d7eb8f3": {
      "model_module": "@jupyter-widgets/controls",
      "model_module_version": "1.5.0",
      "model_name": "DescriptionStyleModel",
      "state": {
       "description_width": ""
      }
     },
     "648ad5caf8424acf8d29cfa2cc24916e": {
      "model_module": "@jupyter-widgets/base",
      "model_module_version": "1.2.0",
      "model_name": "LayoutModel",
      "state": {}
     },
     "653d6dd95f324e2492e45cb1376981d1": {
      "model_module": "@jupyter-widgets/base",
      "model_module_version": "1.2.0",
      "model_name": "LayoutModel",
      "state": {
       "width": "min-content"
      }
     },
     "65dab9d6bab44276a14a843089e142e2": {
      "model_module": "@jupyter-widgets/controls",
      "model_module_version": "1.5.0",
      "model_name": "IntTextModel",
      "state": {
       "description": "feat. size",
       "layout": "IPY_MODEL_121fce0bd990440595927919e58c74e0",
       "step": 1,
       "style": "IPY_MODEL_fa4afe3d721d489c90deaf8e503407eb",
       "value": 3
      }
     },
     "66e418145d24474e96349d11ee048a9f": {
      "model_module": "@jupyter-widgets/base",
      "model_module_version": "1.2.0",
      "model_name": "LayoutModel",
      "state": {}
     },
     "68ae57e0d1744621b21186ac9e6c2f23": {
      "model_module": "@jupyter-widgets/controls",
      "model_module_version": "1.5.0",
      "model_name": "DescriptionStyleModel",
      "state": {
       "description_width": ""
      }
     },
     "68cb7660adc843f3ad41b7d65a9900ae": {
      "model_module": "@jupyter-widgets/controls",
      "model_module_version": "1.5.0",
      "model_name": "HBoxModel",
      "state": {
       "children": [
        "IPY_MODEL_18e555e0bb7343959f6a45115382725c",
        "IPY_MODEL_c4a2fb72e1e9416ba4da21fc07949470",
        "IPY_MODEL_4177453c81804da1aa4ba80b1759b27f"
       ],
       "layout": "IPY_MODEL_bc295f8c8a044c15930a0379ff703a30"
      }
     },
     "68e676aea3fc46c18a475502738fdafc": {
      "model_module": "@jupyter-widgets/base",
      "model_module_version": "1.2.0",
      "model_name": "LayoutModel",
      "state": {}
     },
     "68e81e301c34477b842888afa49b0fbe": {
      "model_module": "@jupyter-widgets/controls",
      "model_module_version": "1.5.0",
      "model_name": "VBoxModel",
      "state": {
       "children": [
        "IPY_MODEL_60ec8d46a21745ada66a5c71ee3f20a4",
        "IPY_MODEL_441bfb15fc734d39bbd6667db94e37fc",
        "IPY_MODEL_ffe93b4ccfcd46d18315e2cf3c223238"
       ],
       "layout": "IPY_MODEL_a537cdbcd77c4fbe8b058a293e6b220c"
      }
     },
     "68ff0fab0d274e938f0007aaffbcd3f6": {
      "model_module": "@jupyter-widgets/base",
      "model_module_version": "1.2.0",
      "model_name": "LayoutModel",
      "state": {}
     },
     "69372afa26984141a5c31440b010cd8a": {
      "model_module": "@jupyter-widgets/controls",
      "model_module_version": "1.5.0",
      "model_name": "DescriptionStyleModel",
      "state": {
       "description_width": ""
      }
     },
     "694e406837144e08aac00b6049e6fe31": {
      "model_module": "@jupyter-widgets/base",
      "model_module_version": "1.2.0",
      "model_name": "LayoutModel",
      "state": {}
     },
     "69e4c7630e4b4eb09037fa5eddb7524d": {
      "model_module": "@jupyter-widgets/controls",
      "model_module_version": "1.5.0",
      "model_name": "IntTextModel",
      "state": {
       "description": "signal thresh.",
       "layout": "IPY_MODEL_50eaf4affb1045c1b3abdb2fef857ba3",
       "step": 1,
       "style": "IPY_MODEL_72487fc2bb8e4a73a4e3ed9871f6ff54",
       "value": 1500
      }
     },
     "6a5380d6ddd042a184b86871806182ab": {
      "model_module": "@jupyter-widgets/base",
      "model_module_version": "1.2.0",
      "model_name": "LayoutModel",
      "state": {}
     },
     "6c01310adcdc4b90868602d10a67fc5b": {
      "model_module": "@jupyter-widgets/controls",
      "model_module_version": "1.5.0",
      "model_name": "DescriptionStyleModel",
      "state": {
       "description_width": ""
      }
     },
     "6c037042919b4a88a0c6f32c1f20dc95": {
      "model_module": "@jupyter-widgets/controls",
      "model_module_version": "1.5.0",
      "model_name": "CheckboxModel",
      "state": {
       "disabled": false,
       "indent": false,
       "layout": "IPY_MODEL_dd74d21d291341f898f757804c864999",
       "style": "IPY_MODEL_7d801169851b4470aef79636f9fb948e",
       "value": false
      }
     },
     "6d73f10149244f35a2b95e44b7342e5f": {
      "model_module": "@jupyter-widgets/controls",
      "model_module_version": "1.5.0",
      "model_name": "DescriptionStyleModel",
      "state": {
       "description_width": ""
      }
     },
     "6d7498f9be894702bc2ca58fd60dbedb": {
      "model_module": "@jupyter-widgets/controls",
      "model_module_version": "1.5.0",
      "model_name": "BoundedIntTextModel",
      "state": {
       "description": "frame",
       "layout": "IPY_MODEL_189d547647b84006b5cdf26a96fb01eb",
       "max": 30,
       "style": "IPY_MODEL_f3e9e5e528764ae9ad381381d5c73469"
      }
     },
     "6e19b6f264544f3b926cdb14460effc7": {
      "model_module": "@jupyter-widgets/controls",
      "model_module_version": "1.5.0",
      "model_name": "DescriptionStyleModel",
      "state": {
       "description_width": ""
      }
     },
     "6ea8594bef41473dbd2b5a9b10d66f04": {
      "model_module": "@jupyter-widgets/controls",
      "model_module_version": "1.5.0",
      "model_name": "DescriptionStyleModel",
      "state": {
       "description_width": ""
      }
     },
     "6f393030ec04481c91bc6104841b7109": {
      "model_module": "@jupyter-widgets/controls",
      "model_module_version": "1.5.0",
      "model_name": "TabModel",
      "state": {
       "_titles": {
        "0": "donor",
        "1": "acceptor"
       },
       "children": [
        "IPY_MODEL_201156cd6f144aca8f6ed26cad57075f",
        "IPY_MODEL_401fbe32b7a245d6872fc717b242ee90"
       ],
       "layout": "IPY_MODEL_f57d44b3799a4f2d9a89b9ce2aab7ccb",
       "selected_index": 1
      }
     },
     "6f93b1c6b9af4dadae85b78edb8c20cd": {
      "model_module": "@jupyter-widgets/base",
      "model_module_version": "1.2.0",
      "model_name": "LayoutModel",
      "state": {}
     },
     "71791952fff9408aa4e44688358fb53a": {
      "model_module": "@jupyter-widgets/base",
      "model_module_version": "1.2.0",
      "model_name": "LayoutModel",
      "state": {}
     },
     "71b40abbd13a4625ae0b8fc2f874e4e1": {
      "model_module": "@jupyter-widgets/controls",
      "model_module_version": "1.5.0",
      "model_name": "VBoxModel",
      "state": {
       "children": [
        "IPY_MODEL_c5ec474a5b994961bd467e59d264b669",
        "IPY_MODEL_1f6ccafc1d49429895d2834e5b7014cd"
       ],
       "layout": "IPY_MODEL_0f339e22dfe74dba85fcbcfd58549098"
      }
     },
     "71f0c08c2a1048fa9bb3465afecf9df6": {
      "model_module": "@jupyter-widgets/base",
      "model_module_version": "1.2.0",
      "model_name": "LayoutModel",
      "state": {}
     },
     "72487fc2bb8e4a73a4e3ed9871f6ff54": {
      "model_module": "@jupyter-widgets/controls",
      "model_module_version": "1.5.0",
      "model_name": "DescriptionStyleModel",
      "state": {
       "description_width": ""
      }
     },
     "73060b7ecdf54cb3b30ff6434e4213e6": {
      "model_module": "@jupyter-widgets/controls",
      "model_module_version": "1.5.0",
      "model_name": "DescriptionStyleModel",
      "state": {
       "description_width": ""
      }
     },
     "731f638e48c94ea79d58dcd131d4f906": {
      "model_module": "@jupyter-widgets/controls",
      "model_module_version": "1.5.0",
      "model_name": "DescriptionStyleModel",
      "state": {
       "description_width": ""
      }
     },
     "734aa0aa891e4590845a854473c51be6": {
      "model_module": "@jupyter-widgets/controls",
      "model_module_version": "1.5.0",
      "model_name": "DropdownModel",
      "state": {
       "_options_labels": [
        "2d_fixed",
        "2d",
        "3d"
       ],
       "description": "model",
       "index": 1,
       "layout": "IPY_MODEL_424677a3192b41e190257291b355313a",
       "style": "IPY_MODEL_9a5e6b1b58a84b768af474b281c8b483"
      }
     },
     "73a219e4e75f4cc9804ff2cfb6c522d0": {
      "model_module": "@jupyter-widgets/controls",
      "model_module_version": "1.5.0",
      "model_name": "BoundedIntTextModel",
      "state": {
       "description": "x",
       "layout": "IPY_MODEL_59053700b0ab4635afe94bb8e9cd219a",
       "max": 205,
       "style": "IPY_MODEL_a3e0683fcb154f9a8c046641b4efd8d2"
      }
     },
     "73c6a49438e14224a660694778d5d36f": {
      "model_module": "@jupyter-widgets/base",
      "model_module_version": "1.2.0",
      "model_name": "LayoutModel",
      "state": {}
     },
     "740fb68101ad46c5bd14b08f97567637": {
      "model_module": "@jupyter-widgets/controls",
      "model_module_version": "1.5.0",
      "model_name": "VBoxModel",
      "state": {
       "children": [
        "IPY_MODEL_89a0ff7c666a4412be1fa8a7daa1ed23",
        "IPY_MODEL_9ed99494076e4c5b9ada5536567f659f",
        "IPY_MODEL_f47db07779114550b5719a8d20e792cd",
        "IPY_MODEL_81bd21ef95014e90811f4e3b1660a0cd"
       ],
       "layout": "IPY_MODEL_bb4f821a1dc04a6e8bf69f0544c1def7"
      }
     },
     "75ba848def6f467a8c7e8e3f306a0b0f": {
      "model_module": "@jupyter-widgets/controls",
      "model_module_version": "1.5.0",
      "model_name": "IntRangeSliderModel",
      "state": {
       "_model_name": "IntRangeSliderModel",
       "_view_name": "IntRangeSliderView",
       "description": "contrast",
       "layout": "IPY_MODEL_060a33db503245048607f05a5cccb085",
       "max": 65535,
       "style": "IPY_MODEL_8cd22a1a83ba492181bf0a7a737a7a30",
       "value": [
        99,
        20220
       ]
      }
     },
     "763d33adb4ee4cdcbd6ed2697d62a039": {
      "model_module": "@jupyter-widgets/controls",
      "model_module_version": "1.5.0",
      "model_name": "VBoxModel",
      "state": {
       "children": [
        "IPY_MODEL_cbb46a52ec434b618328c18b9753267a",
        "IPY_MODEL_510955e2ec0a4dea98a948210f4ae2de"
       ],
       "layout": "IPY_MODEL_c39e74ddbfa849e5ad2ef6eb15f87ee8"
      }
     },
     "77738d334e3b4b52bedd4f617650dc28": {
      "model_module": "@jupyter-widgets/base",
      "model_module_version": "1.2.0",
      "model_name": "LayoutModel",
      "state": {}
     },
     "78a519cf4f264aada4acd02c4003d984": {
      "model_module": "@jupyter-widgets/controls",
      "model_module_version": "1.5.0",
      "model_name": "DescriptionStyleModel",
      "state": {
       "description_width": ""
      }
     },
     "78b47bb950f04f13b4acbe422f4fd475": {
      "model_module": "jupyter-matplotlib",
      "model_module_version": "^0.9.0",
      "model_name": "MPLCanvasModel",
      "state": {
       "_cursor": "default",
       "_figure_label": "Figure 3",
       "_height": 480,
       "_image_mode": "diff",
       "_width": 640,
       "layout": "IPY_MODEL_bfe6e284de9743b49469c279c68d1101",
       "toolbar": "IPY_MODEL_0946f2875e9f4980828d891b8396c495",
       "toolbar_position": "left"
      }
     },
     "79e3d63824434d55ba8112e340683d91": {
      "model_module": "@jupyter-widgets/controls",
      "model_module_version": "1.5.0",
      "model_name": "DescriptionStyleModel",
      "state": {
       "description_width": ""
      }
     },
     "7a572ad978b0471d894b1e7aa363b930": {
      "model_module": "@jupyter-widgets/base",
      "model_module_version": "1.2.0",
      "model_name": "LayoutModel",
      "state": {
       "width": "75%"
      }
     },
     "7a7a145e96194053bdfbb215b1febe85": {
      "model_module": "@jupyter-widgets/controls",
      "model_module_version": "1.5.0",
      "model_name": "ButtonModel",
      "state": {
       "description": "Auto",
       "layout": "IPY_MODEL_b847e311b9b44e9e842b491e1c395e5b",
       "style": "IPY_MODEL_5568803dd3134821914c8787c59f2e40"
      }
     },
     "7a86b487af054ce881ada4e6635c072c": {
      "model_module": "jupyter-matplotlib",
      "model_module_version": "^0.9.0",
      "model_name": "MPLCanvasModel",
      "state": {
       "_cursor": "default",
       "_figure_label": "Figure 5",
       "_height": 480,
       "_image_mode": "diff",
       "_width": 640,
       "layout": "IPY_MODEL_e45d136b188d43e58ea2e28a9ffd28c4",
       "toolbar": "IPY_MODEL_502dda0fcd1d45e583337fce9eb32cb1",
       "toolbar_position": "left"
      }
     },
     "7aa3cbe60f23431985abf7bc85fa30c5": {
      "model_module": "@jupyter-widgets/controls",
      "model_module_version": "1.5.0",
      "model_name": "DescriptionStyleModel",
      "state": {
       "description_width": ""
      }
     },
     "7ae528223e62426b9ff7714568fdc7fe": {
      "model_module": "@jupyter-widgets/base",
      "model_module_version": "1.2.0",
      "model_name": "LayoutModel",
      "state": {}
     },
     "7b0b1f2809e54620b8e7963c2cdd26df": {
      "model_module": "@jupyter-widgets/controls",
      "model_module_version": "1.5.0",
      "model_name": "DropdownModel",
      "state": {
       "_options_labels": [
        "Identity",
        "Crocker-Grier",
        "Gaussian"
       ],
       "description": "find filter",
       "index": 0,
       "layout": "IPY_MODEL_d62af054f8514c0db76705f3b5278553",
       "style": "IPY_MODEL_16130dc33d594f5fa23cf6ffab6782c1"
      }
     },
     "7bd4803491384bf09e8143d3f551faf5": {
      "model_module": "@jupyter-widgets/controls",
      "model_module_version": "1.5.0",
      "model_name": "IntTextModel",
      "state": {
       "description": "radius",
       "layout": "IPY_MODEL_8262f7b8eeb241bdae1b262a60eebd20",
       "step": 1,
       "style": "IPY_MODEL_103e16f4302041a18474fe06eaa8679a",
       "value": 3
      }
     },
     "7bfc0a8f1bdf46f8a0ab921aaa712bc8": {
      "model_module": "@jupyter-widgets/controls",
      "model_module_version": "1.5.0",
      "model_name": "DropdownModel",
      "state": {
       "_options_labels": [
        "2d_fixed",
        "2d",
        "3d"
       ],
       "description": "model",
       "index": 1,
       "layout": "IPY_MODEL_853f449ec6b64ab289fba31285d69655",
       "style": "IPY_MODEL_6205b3f8704248f8b702e6d918c297aa"
      }
     },
     "7c97bfe84fe74ae8adf2fb09de2f2761": {
      "model_module": "@jupyter-widgets/controls",
      "model_module_version": "1.5.0",
      "model_name": "FloatTextModel",
      "state": {
       "description": "radius",
       "layout": "IPY_MODEL_97ef3b5227504669a209e1e156a79749",
       "step": 0.1,
       "style": "IPY_MODEL_b6ac0342035e4dc6999f5d96066ccff8",
       "value": 1
      }
     },
     "7ccc25debf7a40cfb9ff8bad5552fd7a": {
      "model_module": "@jupyter-widgets/controls",
      "model_module_version": "1.5.0",
      "model_name": "FloatTextModel",
      "state": {
       "description": "radius",
       "layout": "IPY_MODEL_73c6a49438e14224a660694778d5d36f",
       "step": 0.1,
       "style": "IPY_MODEL_515291d2457f47a0905c933133e4cf8d",
       "value": 1
      }
     },
     "7cf18eea40b24fe78e9a59762dad1ed0": {
      "model_module": "@jupyter-widgets/base",
      "model_module_version": "1.2.0",
      "model_name": "LayoutModel",
      "state": {}
     },
     "7d462e7c528f42b796e03ff0252c00de": {
      "model_module": "@jupyter-widgets/base",
      "model_module_version": "1.2.0",
      "model_name": "LayoutModel",
      "state": {}
     },
     "7d60bb2e75c14c6eb08e20eec6361f90": {
      "model_module": "@jupyter-widgets/controls",
      "model_module_version": "1.5.0",
      "model_name": "HBoxModel",
      "state": {
       "children": [
        "IPY_MODEL_ba6f6ebff6f24d6993678ae3f2762a27",
        "IPY_MODEL_7ff54e4343094fcfa372dac822af781c"
       ],
       "layout": "IPY_MODEL_473c52b3e69c436bb244de537d401ba1"
      }
     },
     "7d801169851b4470aef79636f9fb948e": {
      "model_module": "@jupyter-widgets/controls",
      "model_module_version": "1.5.0",
      "model_name": "DescriptionStyleModel",
      "state": {
       "description_width": ""
      }
     },
     "7eae51bf43da4b0b807bf47da08c2e52": {
      "model_module": "@jupyter-widgets/base",
      "model_module_version": "1.2.0",
      "model_name": "LayoutModel",
      "state": {
       "grid_template_columns": "min-content min-content"
      }
     },
     "7eeaa254caf84b5599a54c59f34cfce2": {
      "model_module": "@jupyter-widgets/base",
      "model_module_version": "1.2.0",
      "model_name": "LayoutModel",
      "state": {
       "display": "none",
       "grid_template_columns": "min-content min-content"
      }
     },
     "7f5c1d47ebf54b908f4bf187f2a3ad58": {
      "model_module": "@jupyter-widgets/controls",
      "model_module_version": "1.5.0",
      "model_name": "DescriptionStyleModel",
      "state": {
       "description_width": ""
      }
     },
     "7ff54e4343094fcfa372dac822af781c": {
      "model_module": "@jupyter-widgets/controls",
      "model_module_version": "1.5.0",
      "model_name": "VBoxModel",
      "state": {
       "children": [
        "IPY_MODEL_78b47bb950f04f13b4acbe422f4fd475",
        "IPY_MODEL_f02e984372414c9393f28d9e6cd2fb25"
       ],
       "layout": "IPY_MODEL_b74ec0ed926f48c8af43f0105c53289a"
      }
     },
     "80854ecb442e478087c2acd0cb4aeca6": {
      "model_module": "jupyter-matplotlib",
      "model_module_version": "^0.9.0",
      "model_name": "MPLCanvasModel",
      "state": {
       "_cursor": "default",
       "_figure_label": "Figure 1",
       "_height": 480,
       "_image_mode": "diff",
       "_width": 640,
       "layout": "IPY_MODEL_7d462e7c528f42b796e03ff0252c00de",
       "toolbar": "IPY_MODEL_e1bf873f82b54574ac7a718543340640",
       "toolbar_position": "left"
      }
     },
     "8133d198b71c43da979b61181adb37c5": {
      "model_module": "@jupyter-widgets/controls",
      "model_module_version": "1.5.0",
      "model_name": "DescriptionStyleModel",
      "state": {
       "description_width": ""
      }
     },
     "81bd21ef95014e90811f4e3b1660a0cd": {
      "model_module": "@jupyter-widgets/controls",
      "model_module_version": "1.5.0",
      "model_name": "CheckboxModel",
      "state": {
       "description": "Show loc.",
       "disabled": false,
       "indent": false,
       "layout": "IPY_MODEL_77738d334e3b4b52bedd4f617650dc28",
       "style": "IPY_MODEL_ed204cea6a484fca94d774d1522ad2d3",
       "value": true
      }
     },
     "81e41b74e02f4a27a733dc1e877c6e99": {
      "model_module": "@jupyter-widgets/controls",
      "model_module_version": "1.5.0",
      "model_name": "HBoxModel",
      "state": {
       "children": [
        "IPY_MODEL_ab7c4776d4384f22863ddc3500c74242",
        "IPY_MODEL_71b40abbd13a4625ae0b8fc2f874e4e1"
       ],
       "layout": "IPY_MODEL_4aa8892864ac4ceab75c98528b95eda0"
      }
     },
     "82496d62dfbd482db50eef5b66220efc": {
      "model_module": "@jupyter-widgets/controls",
      "model_module_version": "1.5.0",
      "model_name": "DropdownModel",
      "state": {
       "_options_labels": [
        "DPPC_ctrl-J4/cells-01_000_.tif",
        "DPPC_ctrl-J4/cells-01_012_.tif",
        "DPPC_ctrl-J4/cells-01_014_.tif",
        "DPPC_ctrl-J4/cells-01_022_.tif",
        "DPPC_ctrl-J4/cells-01_032_.tif",
        "DPPC_ctrl-J4/cells-01_043_.tif",
        "DPPC_ctrl-J4/cells-01_044_.tif",
        "DPPC_ctrl-J4/cells-01_060_.tif",
        "DPPC_ctrl-J4/cells-01_064_.tif",
        "DPPC_ctrl-J4/cells-01_066_.tif",
        "DPPC_ctrl-J4/cells-33_007_.tif",
        "DPPC_ctrl-J4/cells-33_014_.tif",
        "DPPC_ctrl-J4/cells-33_025_.tif",
        "DPPC_ctrl-J4/cells-33_029_.tif",
        "DPPC_ctrl-J4/cells-33_034_.tif"
       ],
       "description": "file",
       "index": 0,
       "layout": "IPY_MODEL_e7486037700747e58fc8bd3a5a5798c6",
       "style": "IPY_MODEL_6d73f10149244f35a2b95e44b7342e5f"
      }
     },
     "8262f7b8eeb241bdae1b262a60eebd20": {
      "model_module": "@jupyter-widgets/base",
      "model_module_version": "1.2.0",
      "model_name": "LayoutModel",
      "state": {}
     },
     "839d664dc8ed4a1fada8ff569de90941": {
      "model_module": "@jupyter-widgets/base",
      "model_module_version": "1.2.0",
      "model_name": "LayoutModel",
      "state": {}
     },
     "83afc2f66c354814a1505ef2b1abfda7": {
      "model_module": "@jupyter-widgets/controls",
      "model_module_version": "1.5.0",
      "model_name": "HBoxModel",
      "state": {
       "children": [
        "IPY_MODEL_75ba848def6f467a8c7e8e3f306a0b0f",
        "IPY_MODEL_b77b02ada88142eb949a4e66a6f36c19"
       ],
       "layout": "IPY_MODEL_fb17a4d48acf43de99d2f6baa16a5c0e"
      }
     },
     "83b71f18a95c49cb8ce8d50471ded4af": {
      "model_module": "@jupyter-widgets/controls",
      "model_module_version": "1.5.0",
      "model_name": "FloatTextModel",
      "state": {
       "description": "min.",
       "layout": "IPY_MODEL_5a37a62725cb4956b07adc348f405543",
       "step": 0.1,
       "style": "IPY_MODEL_b8907ffd80bf40198eb6de545d4ed624",
       "value": 0.5
      }
     },
     "8499730fdce3481abd54d9c310de9786": {
      "model_module": "@jupyter-widgets/controls",
      "model_module_version": "1.5.0",
      "model_name": "IntTextModel",
      "state": {
       "description": "radius",
       "layout": "IPY_MODEL_58fe41c9aa584ebfb1ed9b41edeac076",
       "step": 1,
       "style": "IPY_MODEL_d5842681eb084a41926f546c44715556",
       "value": 3
      }
     },
     "853f449ec6b64ab289fba31285d69655": {
      "model_module": "@jupyter-widgets/base",
      "model_module_version": "1.2.0",
      "model_name": "LayoutModel",
      "state": {}
     },
     "865cf196ba804062ac99c7d171dffd4e": {
      "model_module": "@jupyter-widgets/base",
      "model_module_version": "1.2.0",
      "model_name": "LayoutModel",
      "state": {}
     },
     "8765ea65f3a64d638b3f8e8e6dcb94e6": {
      "model_module": "@jupyter-widgets/controls",
      "model_module_version": "1.5.0",
      "model_name": "DescriptionStyleModel",
      "state": {
       "description_width": ""
      }
     },
     "876b9f255fd4436d9586c572e12b70aa": {
      "model_module": "@jupyter-widgets/controls",
      "model_module_version": "1.5.0",
      "model_name": "CheckboxModel",
      "state": {
       "description": "Show loc.",
       "disabled": false,
       "indent": false,
       "layout": "IPY_MODEL_981ff8b05716480189032e3b2cede393",
       "style": "IPY_MODEL_8dfcb2d2814e458596bfe5c032f8adf9",
       "value": true
      }
     },
     "89357866384444a58491725e9c17cd6f": {
      "model_module": "@jupyter-widgets/base",
      "model_module_version": "1.2.0",
      "model_name": "LayoutModel",
      "state": {}
     },
     "89a0ff7c666a4412be1fa8a7daa1ed23": {
      "model_module": "@jupyter-widgets/controls",
      "model_module_version": "1.5.0",
      "model_name": "DropdownModel",
      "state": {
       "_options_labels": [
        "3D-DAOSTORM",
        "Crocker-Grier"
       ],
       "description": "algorithm",
       "index": 1,
       "layout": "IPY_MODEL_dca4b23bc0a543f49997908f59e1be9f",
       "style": "IPY_MODEL_d3abc8e3330d465d9045aa5a3cbe88b3"
      }
     },
     "8a3bcbe751504f64b6b52db7dba451cd": {
      "model_module": "@jupyter-widgets/controls",
      "model_module_version": "1.5.0",
      "model_name": "DescriptionStyleModel",
      "state": {
       "description_width": ""
      }
     },
     "8a66adb1bfeb4a97a734cd76dd6dea27": {
      "model_module": "@jupyter-widgets/base",
      "model_module_version": "1.2.0",
      "model_name": "LayoutModel",
      "state": {}
     },
     "8c032bf29d00401a95cdc780db2f5c74": {
      "model_module": "@jupyter-widgets/controls",
      "model_module_version": "1.5.0",
      "model_name": "DescriptionStyleModel",
      "state": {
       "description_width": ""
      }
     },
     "8c3acbd4095742238dcf2710505315d7": {
      "model_module": "@jupyter-widgets/base",
      "model_module_version": "1.2.0",
      "model_name": "LayoutModel",
      "state": {}
     },
     "8cd22a1a83ba492181bf0a7a737a7a30": {
      "model_module": "@jupyter-widgets/controls",
      "model_module_version": "1.5.0",
      "model_name": "SliderStyleModel",
      "state": {
       "description_width": ""
      }
     },
     "8dfcb2d2814e458596bfe5c032f8adf9": {
      "model_module": "@jupyter-widgets/controls",
      "model_module_version": "1.5.0",
      "model_name": "DescriptionStyleModel",
      "state": {
       "description_width": ""
      }
     },
     "8e3f9bb8b1a94b78a08ac4d5497ddc8e": {
      "model_module": "@jupyter-widgets/controls",
      "model_module_version": "1.5.0",
      "model_name": "DropdownModel",
      "state": {
       "_options_labels": [
        "Identity",
        "Crocker-Grier",
        "Gaussian"
       ],
       "description": "find filter",
       "index": 0,
       "layout": "IPY_MODEL_68e676aea3fc46c18a475502738fdafc",
       "style": "IPY_MODEL_c5054979c6f242618fa61d128963ca5b"
      }
     },
     "8ee5eff64a614fa39687486467b1d7ed": {
      "model_module": "@jupyter-widgets/base",
      "model_module_version": "1.2.0",
      "model_name": "LayoutModel",
      "state": {}
     },
     "8fedf179029d4532a9554b0a30fb807b": {
      "model_module": "@jupyter-widgets/controls",
      "model_module_version": "1.5.0",
      "model_name": "HTMLModel",
      "state": {
       "layout": "IPY_MODEL_7ae528223e62426b9ff7714568fdc7fe",
       "style": "IPY_MODEL_d5b947c39e784e0da309c8586813767e"
      }
     },
     "90501174a03f4308a7bf2890af64967d": {
      "model_module": "@jupyter-widgets/base",
      "model_module_version": "1.2.0",
      "model_name": "LayoutModel",
      "state": {}
     },
     "90ae2b9230394bab8a02b3e1fcb46ab8": {
      "model_module": "@jupyter-widgets/controls",
      "model_module_version": "1.5.0",
      "model_name": "GridBoxModel",
      "state": {
       "children": [
        "IPY_MODEL_8fedf179029d4532a9554b0a30fb807b",
        "IPY_MODEL_a31543f8752249e4ba0eb289c2151314",
        "IPY_MODEL_8fedf179029d4532a9554b0a30fb807b",
        "IPY_MODEL_f47c2eae58444c019db102efee57403d",
        "IPY_MODEL_8fedf179029d4532a9554b0a30fb807b",
        "IPY_MODEL_734aa0aa891e4590845a854473c51be6",
        "IPY_MODEL_8fedf179029d4532a9554b0a30fb807b",
        "IPY_MODEL_1182b8d724fd4dd1b0f1cae237166ad4",
        "IPY_MODEL_0a08f4dfc0b647b4b201cfe4896e61a3",
        "IPY_MODEL_42e5f2bed0d249babaa4a007b25c14de",
        "IPY_MODEL_9b216f3bac9d4951a621b997da6444e9",
        "IPY_MODEL_ff7befa81bd040c386620256a01a130c"
       ],
       "layout": "IPY_MODEL_9c438c03ced8464585c409e628ee78c9"
      }
     },
     "92d0a601bd814df38da2a147564d3134": {
      "model_module": "@jupyter-widgets/controls",
      "model_module_version": "1.5.0",
      "model_name": "DescriptionStyleModel",
      "state": {
       "description_width": ""
      }
     },
     "93180b9373ba4117b097677328338f42": {
      "model_module": "@jupyter-widgets/controls",
      "model_module_version": "1.5.0",
      "model_name": "DropdownModel",
      "state": {
       "_options_labels": [
        "beads/beads_000_.tif",
        "beads/beads_001_.tif",
        "beads/beads_002_.tif"
       ],
       "description": "file",
       "index": 0,
       "layout": "IPY_MODEL_694e406837144e08aac00b6049e6fe31",
       "style": "IPY_MODEL_4b9ddeb013e947369a6e1e48fb8eb43e"
      }
     },
     "9343b4209db542699f2e5ae96266bee3": {
      "model_module": "@jupyter-widgets/controls",
      "model_module_version": "1.5.0",
      "model_name": "BoundedIntTextModel",
      "state": {
       "description": "width",
       "layout": "IPY_MODEL_4cca4a21a0a34245ad67a231cbf32928",
       "max": 191,
       "style": "IPY_MODEL_9dafb6b85f344580ae8652a3e167d97d",
       "value": 186
      }
     },
     "93c2d93a25c143cb849155839ce408a2": {
      "model_module": "@jupyter-widgets/controls",
      "model_module_version": "1.5.0",
      "model_name": "VBoxModel",
      "state": {
       "children": [
        "IPY_MODEL_f4ad6cb6d50a46f7b13b52296544e660",
        "IPY_MODEL_7d60bb2e75c14c6eb08e20eec6361f90"
       ],
       "layout": "IPY_MODEL_46145ad62542463883b993528aa90b64"
      }
     },
     "94f3a6afdc184e4f92de6f53e75fb119": {
      "model_module": "@jupyter-widgets/base",
      "model_module_version": "1.2.0",
      "model_name": "LayoutModel",
      "state": {}
     },
     "94f9f4649aed42c5b7939ece8fd366af": {
      "model_module": "@jupyter-widgets/controls",
      "model_module_version": "1.5.0",
      "model_name": "FloatTextModel",
      "state": {
       "description": "min.",
       "layout": "IPY_MODEL_39ecaefe540840cb97c31f8b6197cd96",
       "step": 0.1,
       "style": "IPY_MODEL_d0f4f28594f542ad95f7e2d1ac1b5d11",
       "value": 0.5
      }
     },
     "95334475424d48dfae0204357bf0a044": {
      "model_module": "@jupyter-widgets/controls",
      "model_module_version": "1.5.0",
      "model_name": "IntTextModel",
      "state": {
       "description": "signal thresh.",
       "layout": "IPY_MODEL_9bc5ad248daf454da6e149242411bb99",
       "step": 1,
       "style": "IPY_MODEL_8a3bcbe751504f64b6b52db7dba451cd",
       "value": 400
      }
     },
     "974dfe76c7464aa997afdf386c330568": {
      "model_module": "@jupyter-widgets/base",
      "model_module_version": "1.2.0",
      "model_name": "LayoutModel",
      "state": {}
     },
     "9763ed2dc811496baea87b5a1448bb77": {
      "model_module": "@jupyter-widgets/base",
      "model_module_version": "1.2.0",
      "model_name": "LayoutModel",
      "state": {}
     },
     "97b8270f94ff4b408e995445f5cf4c71": {
      "model_module": "@jupyter-widgets/controls",
      "model_module_version": "1.5.0",
      "model_name": "FloatTextModel",
      "state": {
       "description": "threshold",
       "layout": "IPY_MODEL_2003f3d9a88542f0ab5da45522e2f0d5",
       "step": 10,
       "style": "IPY_MODEL_f2f7d9adc7dd4faf8e121e5682696a2e",
       "value": 100
      }
     },
     "97c284a60f634c8b9c5b4c2eff7b13bc": {
      "model_module": "@jupyter-widgets/base",
      "model_module_version": "1.2.0",
      "model_name": "LayoutModel",
      "state": {}
     },
     "97ef3b5227504669a209e1e156a79749": {
      "model_module": "@jupyter-widgets/base",
      "model_module_version": "1.2.0",
      "model_name": "LayoutModel",
      "state": {}
     },
     "981ff8b05716480189032e3b2cede393": {
      "model_module": "@jupyter-widgets/base",
      "model_module_version": "1.2.0",
      "model_name": "LayoutModel",
      "state": {}
     },
     "99e6edb7737a478fa7b51d4bead6da67": {
      "model_module": "@jupyter-widgets/base",
      "model_module_version": "1.2.0",
      "model_name": "LayoutModel",
      "state": {}
     },
     "9a5e6b1b58a84b768af474b281c8b483": {
      "model_module": "@jupyter-widgets/controls",
      "model_module_version": "1.5.0",
      "model_name": "DescriptionStyleModel",
      "state": {
       "description_width": ""
      }
     },
     "9aabfdb8bed54b7a9684a535b7ee0b00": {
      "model_module": "@jupyter-widgets/controls",
      "model_module_version": "1.5.0",
      "model_name": "LabelModel",
      "state": {
       "layout": "IPY_MODEL_68ff0fab0d274e938f0007aaffbcd3f6",
       "style": "IPY_MODEL_ddc448a89d484ed986d5da578c7877f3",
       "value": "Tracking DPPC_ctrl-J4/no-cells_027_.tif (25/25)"
      }
     },
     "9adc44244674406e85dd5f72299d3399": {
      "model_module": "@jupyter-widgets/controls",
      "model_module_version": "1.5.0",
      "model_name": "FloatTextModel",
      "state": {
       "description": "threshold",
       "layout": "IPY_MODEL_a4a5399320f741efbc757708b1fbb253",
       "step": 10,
       "style": "IPY_MODEL_3c8307f792954ebba50a37d6c645c509",
       "value": 100
      }
     },
     "9b216f3bac9d4951a621b997da6444e9": {
      "model_module": "@jupyter-widgets/controls",
      "model_module_version": "1.5.0",
      "model_name": "CheckboxModel",
      "state": {
       "disabled": false,
       "indent": false,
       "layout": "IPY_MODEL_cb251187521c4c8c832d7a1f7abac911",
       "style": "IPY_MODEL_cf6269d4a2f34d3ba8568dcd11dda251",
       "value": false
      }
     },
     "9b48e77b93244b59877b657daf4a95f9": {
      "model_module": "@jupyter-widgets/base",
      "model_module_version": "1.2.0",
      "model_name": "LayoutModel",
      "state": {}
     },
     "9bc5ad248daf454da6e149242411bb99": {
      "model_module": "@jupyter-widgets/base",
      "model_module_version": "1.2.0",
      "model_name": "LayoutModel",
      "state": {}
     },
     "9be5e0bb63b349ddbbe9a83c709e58e3": {
      "model_module": "@jupyter-widgets/controls",
      "model_module_version": "1.5.0",
      "model_name": "DescriptionStyleModel",
      "state": {
       "description_width": ""
      }
     },
     "9c1bb8883d274a98abe2bb3a1cd82657": {
      "model_module": "@jupyter-widgets/controls",
      "model_module_version": "1.5.0",
      "model_name": "IntRangeSliderModel",
      "state": {
       "_model_name": "IntRangeSliderModel",
       "_view_name": "IntRangeSliderView",
       "description": "contrast",
       "layout": "IPY_MODEL_bda4197b7db644c985c2c69b73fc1ab1",
       "max": 65535,
       "style": "IPY_MODEL_14a27aa7b5b04cc8a694c0e81dcae7e0",
       "value": [
        99,
        20220
       ]
      }
     },
     "9c28c3a28eb0452c823205903b667917": {
      "model_module": "@jupyter-widgets/controls",
      "model_module_version": "1.5.0",
      "model_name": "IntTextModel",
      "state": {
       "description": "signal thresh.",
       "layout": "IPY_MODEL_63047fc69c2241a7b624af641ec0c673",
       "step": 1,
       "style": "IPY_MODEL_63c3e6f3961c4ebc8bda45889d7eb8f3",
       "value": 1000
      }
     },
     "9c438c03ced8464585c409e628ee78c9": {
      "model_module": "@jupyter-widgets/base",
      "model_module_version": "1.2.0",
      "model_name": "LayoutModel",
      "state": {
       "display": "none",
       "grid_template_columns": "min-content min-content"
      }
     },
     "9cfd2385300142de90551563fc2d0d79": {
      "model_module": "@jupyter-widgets/controls",
      "model_module_version": "1.5.0",
      "model_name": "ButtonStyleModel",
      "state": {}
     },
     "9d11e2175ff640febcdbb4db05951669": {
      "model_module": "@jupyter-widgets/controls",
      "model_module_version": "1.5.0",
      "model_name": "HBoxModel",
      "state": {
       "_dom_classes": [
        "chan_140068461467792"
       ],
       "children": [
        "IPY_MODEL_cf63b8baa6c44ee4b909f224da995f38",
        "IPY_MODEL_c921edb423ac469e92e8f84da4f73165",
        "IPY_MODEL_da58f9a5926a41a9ab667cffb9d23d6e"
       ],
       "layout": "IPY_MODEL_6351de7ac3634f9d9fdb4daeffa92604"
      }
     },
     "9d56681c4b3947129641876865cd5cfe": {
      "model_module": "@jupyter-widgets/base",
      "model_module_version": "1.2.0",
      "model_name": "LayoutModel",
      "state": {}
     },
     "9dafb6b85f344580ae8652a3e167d97d": {
      "model_module": "@jupyter-widgets/controls",
      "model_module_version": "1.5.0",
      "model_name": "DescriptionStyleModel",
      "state": {
       "description_width": ""
      }
     },
     "9ed99494076e4c5b9ada5536567f659f": {
      "model_module": "@jupyter-widgets/controls",
      "model_module_version": "1.5.0",
      "model_name": "GridBoxModel",
      "state": {
       "children": [
        "IPY_MODEL_23acf3e3e6514b809df9f0c0294df4e9",
        "IPY_MODEL_2239367a16104f56831dcbbc34db25ee",
        "IPY_MODEL_23acf3e3e6514b809df9f0c0294df4e9",
        "IPY_MODEL_36bacbb84e4643b9b11b08781909178d",
        "IPY_MODEL_23acf3e3e6514b809df9f0c0294df4e9",
        "IPY_MODEL_1074e64187b242549fdc0091d071deb9",
        "IPY_MODEL_23acf3e3e6514b809df9f0c0294df4e9",
        "IPY_MODEL_cc15c9f5d14743e1983d6143f40e8a17",
        "IPY_MODEL_17cb0b4320404b9e9ce358d93584f7e7",
        "IPY_MODEL_f65ca38929f2429fa5297ef72980141f",
        "IPY_MODEL_6c037042919b4a88a0c6f32c1f20dc95",
        "IPY_MODEL_fd79ebec42df4105b34d30e4833f7aa0"
       ],
       "layout": "IPY_MODEL_7eeaa254caf84b5599a54c59f34cfce2"
      }
     },
     "9f0abce99cdb436db0cb7b36c8299cfc": {
      "model_module": "@jupyter-widgets/base",
      "model_module_version": "1.2.0",
      "model_name": "LayoutModel",
      "state": {
       "width": "min-content"
      }
     },
     "a11393e38a794cbd97718ab75738bf0c": {
      "model_module": "@jupyter-widgets/controls",
      "model_module_version": "1.5.0",
      "model_name": "DropdownModel",
      "state": {
       "_options_labels": [
        "3D-DAOSTORM",
        "Crocker-Grier"
       ],
       "description": "algorithm",
       "index": 1,
       "layout": "IPY_MODEL_c5c6f8f55cb14e7d8bd91aafce4b3a2b",
       "style": "IPY_MODEL_353baac83fa943cd9da89e7146c59b8e"
      }
     },
     "a133bbc7b4524d569714fe6ed7beaddf": {
      "model_module": "@jupyter-widgets/controls",
      "model_module_version": "1.5.0",
      "model_name": "DescriptionStyleModel",
      "state": {
       "description_width": ""
      }
     },
     "a1798d119c554947baa7c2f83238c1f5": {
      "model_module": "@jupyter-widgets/base",
      "model_module_version": "1.2.0",
      "model_name": "LayoutModel",
      "state": {}
     },
     "a228fd53e7104c038bf04f4b8c892503": {
      "model_module": "@jupyter-widgets/base",
      "model_module_version": "1.2.0",
      "model_name": "LayoutModel",
      "state": {}
     },
     "a230156685634f2cbfe6aa5944b1640f": {
      "model_module": "@jupyter-widgets/controls",
      "model_module_version": "1.5.0",
      "model_name": "DescriptionStyleModel",
      "state": {
       "description_width": ""
      }
     },
     "a2424edfb90a46ef8a4eeba2d226e67f": {
      "model_module": "@jupyter-widgets/base",
      "model_module_version": "1.2.0",
      "model_name": "LayoutModel",
      "state": {}
     },
     "a2aa77ee9441413bac27cee6c809e59c": {
      "model_module": "@jupyter-widgets/base",
      "model_module_version": "1.2.0",
      "model_name": "LayoutModel",
      "state": {
       "display": "none"
      }
     },
     "a2d34d39647f4585adc9038c76e07f60": {
      "model_module": "@jupyter-widgets/controls",
      "model_module_version": "1.5.0",
      "model_name": "DescriptionStyleModel",
      "state": {
       "description_width": ""
      }
     },
     "a31543f8752249e4ba0eb289c2151314": {
      "model_module": "@jupyter-widgets/controls",
      "model_module_version": "1.5.0",
      "model_name": "FloatTextModel",
      "state": {
       "description": "radius",
       "layout": "IPY_MODEL_f6d426ec74554dd6917273c407155ae5",
       "step": 0.1,
       "style": "IPY_MODEL_38bb3652bf52479a9332c105f73e5ece",
       "value": 1
      }
     },
     "a31815e6ba1c48de99db67edc9451049": {
      "model_module": "@jupyter-widgets/base",
      "model_module_version": "1.2.0",
      "model_name": "LayoutModel",
      "state": {}
     },
     "a3e0683fcb154f9a8c046641b4efd8d2": {
      "model_module": "@jupyter-widgets/controls",
      "model_module_version": "1.5.0",
      "model_name": "DescriptionStyleModel",
      "state": {
       "description_width": ""
      }
     },
     "a424b297ce7644f89d4f59b878238ca3": {
      "model_module": "@jupyter-widgets/controls",
      "model_module_version": "1.5.0",
      "model_name": "SliderStyleModel",
      "state": {
       "description_width": ""
      }
     },
     "a469ac464b9448568fbf32a93b979b46": {
      "model_module": "@jupyter-widgets/controls",
      "model_module_version": "1.5.0",
      "model_name": "ButtonModel",
      "state": {
       "description": "swap channels",
       "layout": "IPY_MODEL_ecfc90f996fe4852bd11deb75267704e",
       "style": "IPY_MODEL_013701b5f8e3446f8a68cbd7db73e1db"
      }
     },
     "a4a5399320f741efbc757708b1fbb253": {
      "model_module": "@jupyter-widgets/base",
      "model_module_version": "1.2.0",
      "model_name": "LayoutModel",
      "state": {}
     },
     "a537cdbcd77c4fbe8b058a293e6b220c": {
      "model_module": "@jupyter-widgets/base",
      "model_module_version": "1.2.0",
      "model_name": "LayoutModel",
      "state": {}
     },
     "a5a1b458d1d646c0bdc00c6a6add7932": {
      "model_module": "@jupyter-widgets/controls",
      "model_module_version": "1.5.0",
      "model_name": "ButtonStyleModel",
      "state": {}
     },
     "a5f641a50a684185b96562b7f4f4fcb6": {
      "model_module": "@jupyter-widgets/controls",
      "model_module_version": "1.5.0",
      "model_name": "HBoxModel",
      "state": {
       "children": [
        "IPY_MODEL_f103d6a6a2324ab1b289d67e7c7e2dae",
        "IPY_MODEL_7a7a145e96194053bdfbb215b1febe85"
       ],
       "layout": "IPY_MODEL_c3df4e336fee44758bffc7f1e1c9576d"
      }
     },
     "a90688a568c943b78855a4e4179d069e": {
      "model_module": "@jupyter-widgets/controls",
      "model_module_version": "1.5.0",
      "model_name": "HBoxModel",
      "state": {
       "children": [
        "IPY_MODEL_ab0a2221d09f4d5cb866e56189f6a59e",
        "IPY_MODEL_295c21fe14b841d59cf7d6b308cbceb5"
       ],
       "layout": "IPY_MODEL_2266fc46a5214025a5389b6191fc1b47"
      }
     },
     "aa30a5e2490b460daf0d7f47c633467a": {
      "model_module": "@jupyter-widgets/base",
      "model_module_version": "1.2.0",
      "model_name": "LayoutModel",
      "state": {}
     },
     "ab0a2221d09f4d5cb866e56189f6a59e": {
      "model_module": "@jupyter-widgets/controls",
      "model_module_version": "1.5.0",
      "model_name": "IntRangeSliderModel",
      "state": {
       "_model_name": "IntRangeSliderModel",
       "_view_name": "IntRangeSliderView",
       "description": "contrast",
       "layout": "IPY_MODEL_5c66c10eec5344c68de097a25b133f21",
       "max": 65535,
       "style": "IPY_MODEL_da26ec0809ba448a9a09304f94b6662c",
       "value": [
        236,
        2105
       ]
      }
     },
     "ab7c4776d4384f22863ddc3500c74242": {
      "model_module": "@jupyter-widgets/controls",
      "model_module_version": "1.5.0",
      "model_name": "VBoxModel",
      "state": {
       "children": [
        "IPY_MODEL_fca978e30f94474789d25faa64e6bd30",
        "IPY_MODEL_2fb271df6bd149839c6e8ff4e7ef399f",
        "IPY_MODEL_1e2200d63b654866a6a41978c4364cf4",
        "IPY_MODEL_ea100107ff9e4e5d8ff4621f26bd7d26"
       ],
       "layout": "IPY_MODEL_20a638374f4840fca8f1d2442452d7e4"
      }
     },
     "ab8acd5acd5340138f06fd2f57d933c2": {
      "model_module": "@jupyter-widgets/base",
      "model_module_version": "1.2.0",
      "model_name": "LayoutModel",
      "state": {}
     },
     "ac03c6cfea144455bbe25389757f5630": {
      "model_module": "@jupyter-widgets/controls",
      "model_module_version": "1.5.0",
      "model_name": "BoundedIntTextModel",
      "state": {
       "description": "frame",
       "layout": "IPY_MODEL_c065b24a7b6840d88df69c1fcaecfa66",
       "max": 120,
       "style": "IPY_MODEL_a230156685634f2cbfe6aa5944b1640f"
      }
     },
     "acc7589078704a169a4a581abe00ea37": {
      "model_module": "@jupyter-widgets/controls",
      "model_module_version": "1.5.0",
      "model_name": "IntTextModel",
      "state": {
       "description": "feat. size",
       "layout": "IPY_MODEL_b0b051a086b14bd4a889d69886162603",
       "step": 1,
       "style": "IPY_MODEL_6ea8594bef41473dbd2b5a9b10d66f04",
       "value": 3
      }
     },
     "ad6e7c2470354fdeae4c0f9ce89f5e86": {
      "model_module": "@jupyter-widgets/controls",
      "model_module_version": "1.5.0",
      "model_name": "DescriptionStyleModel",
      "state": {
       "description_width": ""
      }
     },
     "ada3fea12c28482c876da1ae1682f7e8": {
      "model_module": "@jupyter-widgets/controls",
      "model_module_version": "1.5.0",
      "model_name": "HBoxModel",
      "state": {
       "children": [
        "IPY_MODEL_3651d03793d94b9abff05201f596bb5c",
        "IPY_MODEL_82496d62dfbd482db50eef5b66220efc",
        "IPY_MODEL_ac03c6cfea144455bbe25389757f5630"
       ],
       "layout": "IPY_MODEL_dca3401763fc4783bfa9d1ade13bd5c9"
      }
     },
     "ae01509c546b406a8611741211cac0c7": {
      "model_module": "@jupyter-widgets/base",
      "model_module_version": "1.2.0",
      "model_name": "LayoutModel",
      "state": {
       "display": "none",
       "grid_template_columns": "min-content min-content"
      }
     },
     "ae4efb6547684664943ca57894dd5a14": {
      "model_module": "@jupyter-widgets/controls",
      "model_module_version": "1.5.0",
      "model_name": "DescriptionStyleModel",
      "state": {
       "description_width": ""
      }
     },
     "aea4a235b55449b49690f75c843c20b5": {
      "model_module": "@jupyter-widgets/controls",
      "model_module_version": "1.5.0",
      "model_name": "BoundedIntTextModel",
      "state": {
       "description": "frame",
       "layout": "IPY_MODEL_9763ed2dc811496baea87b5a1448bb77",
       "max": 30,
       "style": "IPY_MODEL_5e99440454d8409e84ca91e342a37833"
      }
     },
     "afa6e3abd73c4384a124c256f0e0c9a0": {
      "model_module": "jupyter-matplotlib",
      "model_module_version": "^0.9.0",
      "model_name": "ToolbarModel",
      "state": {
       "layout": "IPY_MODEL_2c56770aecef45c8995b1dcf3cd6d7a6",
       "toolitems": [
        [
         "Home",
         "Reset original view",
         "home",
         "home"
        ],
        [
         "Back",
         "Back to previous view",
         "arrow-left",
         "back"
        ],
        [
         "Forward",
         "Forward to next view",
         "arrow-right",
         "forward"
        ],
        [
         "Pan",
         "Left button pans, Right button zooms\nx/y fixes axis, CTRL fixes aspect",
         "arrows",
         "pan"
        ],
        [
         "Zoom",
         "Zoom to rectangle\nx/y fixes axis, CTRL fixes aspect",
         "square-o",
         "zoom"
        ],
        [
         "Download",
         "Download plot",
         "floppy-o",
         "save_figure"
        ]
       ]
      }
     },
     "b0b051a086b14bd4a889d69886162603": {
      "model_module": "@jupyter-widgets/base",
      "model_module_version": "1.2.0",
      "model_name": "LayoutModel",
      "state": {
       "display": "none"
      }
     },
     "b1a9c794a60b41ba97e4acad0964d33b": {
      "model_module": "@jupyter-widgets/controls",
      "model_module_version": "1.5.0",
      "model_name": "BoundedIntTextModel",
      "state": {
       "description": "height",
       "layout": "IPY_MODEL_299e8c1e4f11471c9a40addb51930918",
       "max": 111,
       "style": "IPY_MODEL_f37aa5148f46480086ced9b3dfa4d9aa",
       "value": 111
      }
     },
     "b3323d7a78144e9fa02bcbfc1416bb4b": {
      "model_module": "@jupyter-widgets/base",
      "model_module_version": "1.2.0",
      "model_name": "LayoutModel",
      "state": {}
     },
     "b33e9c70c4e44a99b36427103faf874d": {
      "model_module": "@jupyter-widgets/controls",
      "model_module_version": "1.5.0",
      "model_name": "DescriptionStyleModel",
      "state": {
       "description_width": ""
      }
     },
     "b3ad5f4ce5234f93b902fc094cd9fa90": {
      "model_module": "@jupyter-widgets/controls",
      "model_module_version": "1.5.0",
      "model_name": "ButtonStyleModel",
      "state": {}
     },
     "b438a684dc3948c6a7b6afe8c165b1fa": {
      "model_module": "@jupyter-widgets/base",
      "model_module_version": "1.2.0",
      "model_name": "LayoutModel",
      "state": {}
     },
     "b4f39011955d459b93a0dd5d6a384e87": {
      "model_module": "@jupyter-widgets/base",
      "model_module_version": "1.2.0",
      "model_name": "LayoutModel",
      "state": {}
     },
     "b544d0b9e28e4b7e91f0e8ba8687c4a3": {
      "model_module": "@jupyter-widgets/controls",
      "model_module_version": "1.5.0",
      "model_name": "FloatTextModel",
      "state": {
       "description": "min.",
       "layout": "IPY_MODEL_33e0512f30ba41db846067851ea8f420",
       "step": 0.1,
       "style": "IPY_MODEL_c17c0a8643be4ba3a6f1f0ed41a018f6",
       "value": 0.5
      }
     },
     "b58596a96d4b488b806311995a550b41": {
      "model_module": "@jupyter-widgets/base",
      "model_module_version": "1.2.0",
      "model_name": "LayoutModel",
      "state": {}
     },
     "b5f279b7f32645aebb8d62923bfeee00": {
      "model_module": "@jupyter-widgets/controls",
      "model_module_version": "1.5.0",
      "model_name": "DescriptionStyleModel",
      "state": {
       "description_width": ""
      }
     },
     "b66b74802570420c87dace5bec8d4818": {
      "model_module": "@jupyter-widgets/base",
      "model_module_version": "1.2.0",
      "model_name": "LayoutModel",
      "state": {}
     },
     "b6ac0342035e4dc6999f5d96066ccff8": {
      "model_module": "@jupyter-widgets/controls",
      "model_module_version": "1.5.0",
      "model_name": "DescriptionStyleModel",
      "state": {
       "description_width": ""
      }
     },
     "b74ec0ed926f48c8af43f0105c53289a": {
      "model_module": "@jupyter-widgets/base",
      "model_module_version": "1.2.0",
      "model_name": "LayoutModel",
      "state": {}
     },
     "b76cd8f040254854968f3e1e1c8e576e": {
      "model_module": "@jupyter-widgets/controls",
      "model_module_version": "1.5.0",
      "model_name": "IntTextModel",
      "state": {
       "description": "mass thresh.",
       "layout": "IPY_MODEL_42039b965bc94b50bade1a538be85231",
       "step": 10,
       "style": "IPY_MODEL_6e19b6f264544f3b926cdb14460effc7",
       "value": 3000
      }
     },
     "b7794101b0354604a0646783151d3526": {
      "model_module": "@jupyter-widgets/base",
      "model_module_version": "1.2.0",
      "model_name": "LayoutModel",
      "state": {}
     },
     "b77b02ada88142eb949a4e66a6f36c19": {
      "model_module": "@jupyter-widgets/controls",
      "model_module_version": "1.5.0",
      "model_name": "ButtonModel",
      "state": {
       "description": "Auto",
       "layout": "IPY_MODEL_90501174a03f4308a7bf2890af64967d",
       "style": "IPY_MODEL_25342f4580c943e3a7f78da950c891d0"
      }
     },
     "b8190630e1fc4b0f9bbfd94efa9dfd74": {
      "model_module": "@jupyter-widgets/base",
      "model_module_version": "1.2.0",
      "model_name": "LayoutModel",
      "state": {}
     },
     "b847e311b9b44e9e842b491e1c395e5b": {
      "model_module": "@jupyter-widgets/base",
      "model_module_version": "1.2.0",
      "model_name": "LayoutModel",
      "state": {}
     },
     "b8907ffd80bf40198eb6de545d4ed624": {
      "model_module": "@jupyter-widgets/controls",
      "model_module_version": "1.5.0",
      "model_name": "DescriptionStyleModel",
      "state": {
       "description_width": ""
      }
     },
     "b8b1d779870c42fd85f7120f939b6c2a": {
      "model_module": "@jupyter-widgets/base",
      "model_module_version": "1.2.0",
      "model_name": "LayoutModel",
      "state": {}
     },
     "b99be1f7ba474e0c97f6a58a7a2b14df": {
      "model_module": "@jupyter-widgets/controls",
      "model_module_version": "1.5.0",
      "model_name": "CheckboxModel",
      "state": {
       "disabled": false,
       "indent": false,
       "layout": "IPY_MODEL_653d6dd95f324e2492e45cb1376981d1",
       "style": "IPY_MODEL_731f638e48c94ea79d58dcd131d4f906",
       "value": false
      }
     },
     "ba6f6ebff6f24d6993678ae3f2762a27": {
      "model_module": "@jupyter-widgets/controls",
      "model_module_version": "1.5.0",
      "model_name": "VBoxModel",
      "state": {
       "children": [
        "IPY_MODEL_570cdb16068d4e41950f9fdf74cc9fb3",
        "IPY_MODEL_90ae2b9230394bab8a02b3e1fcb46ab8",
        "IPY_MODEL_145162599708485484aa62f19bc6fb0f",
        "IPY_MODEL_f0fedeec741d47dd8700c7a1f28b9dd0"
       ],
       "layout": "IPY_MODEL_8c3acbd4095742238dcf2710505315d7"
      }
     },
     "baa31bef231f438488880dc0dc7985e0": {
      "model_module": "@jupyter-widgets/controls",
      "model_module_version": "1.5.0",
      "model_name": "HBoxModel",
      "state": {
       "_dom_classes": [
        "chan_140068458200720"
       ],
       "children": [
        "IPY_MODEL_e5590ddbb26541efb4442cd110882a34",
        "IPY_MODEL_1682069d7bae41aa88af9ef3520ccf48",
        "IPY_MODEL_f60105192d7f4effb17da9541b0444ff"
       ],
       "layout": "IPY_MODEL_b4f39011955d459b93a0dd5d6a384e87"
      }
     },
     "bb4f821a1dc04a6e8bf69f0544c1def7": {
      "model_module": "@jupyter-widgets/base",
      "model_module_version": "1.2.0",
      "model_name": "LayoutModel",
      "state": {}
     },
     "bbae7435ac08406695639019c79d5260": {
      "model_module": "@jupyter-widgets/controls",
      "model_module_version": "1.5.0",
      "model_name": "FloatTextModel",
      "state": {
       "description": "sigma",
       "layout": "IPY_MODEL_2e1c71e0a05d48b198c4faad4db8b351",
       "step": 0.1,
       "style": "IPY_MODEL_cb0ce33e416f4fca963723f12c9a94f3",
       "value": 1
      }
     },
     "bbed63d283fb417fb389907616a75a87": {
      "model_module": "@jupyter-widgets/base",
      "model_module_version": "1.2.0",
      "model_name": "LayoutModel",
      "state": {}
     },
     "bc114b208b80450fb97ebc8c361c8ba9": {
      "model_module": "@jupyter-widgets/base",
      "model_module_version": "1.2.0",
      "model_name": "LayoutModel",
      "state": {
       "display": "none"
      }
     },
     "bc295f8c8a044c15930a0379ff703a30": {
      "model_module": "@jupyter-widgets/base",
      "model_module_version": "1.2.0",
      "model_name": "LayoutModel",
      "state": {}
     },
     "bc808f4b1c4741f695ae63fad2ac88de": {
      "model_module": "@jupyter-widgets/base",
      "model_module_version": "1.2.0",
      "model_name": "LayoutModel",
      "state": {
       "display": "none"
      }
     },
     "bcaec6a37adc4924b0b99add691a064d": {
      "model_module": "@jupyter-widgets/controls",
      "model_module_version": "1.5.0",
      "model_name": "ButtonStyleModel",
      "state": {}
     },
     "bd8dfc51f16646a4b55890f37bb4ab6a": {
      "model_module": "@jupyter-widgets/controls",
      "model_module_version": "1.5.0",
      "model_name": "FloatTextModel",
      "state": {
       "description": "Min. distance",
       "layout": "IPY_MODEL_57daea5c10c9436aacbc9c3889227307",
       "step": 0.1,
       "style": "IPY_MODEL_6c01310adcdc4b90868602d10a67fc5b",
       "value": 1
      }
     },
     "bda4197b7db644c985c2c69b73fc1ab1": {
      "model_module": "@jupyter-widgets/base",
      "model_module_version": "1.2.0",
      "model_name": "LayoutModel",
      "state": {
       "width": "75%"
      }
     },
     "be00d9647f384c43ad62928d54db3b28": {
      "model_module": "@jupyter-widgets/controls",
      "model_module_version": "1.5.0",
      "model_name": "DescriptionStyleModel",
      "state": {
       "description_width": ""
      }
     },
     "be5a1e2ab23e40de9961fd8fe05f0f0d": {
      "model_module": "@jupyter-widgets/controls",
      "model_module_version": "1.5.0",
      "model_name": "ButtonStyleModel",
      "state": {}
     },
     "bf44cb1f5d134e15af9fcb87d6bc7909": {
      "model_module": "@jupyter-widgets/controls",
      "model_module_version": "1.5.0",
      "model_name": "DescriptionStyleModel",
      "state": {
       "description_width": ""
      }
     },
     "bfe6e284de9743b49469c279c68d1101": {
      "model_module": "@jupyter-widgets/base",
      "model_module_version": "1.2.0",
      "model_name": "LayoutModel",
      "state": {}
     },
     "bfebe1f0dd144753aa3bcbf09da23b93": {
      "model_module": "@jupyter-widgets/controls",
      "model_module_version": "1.5.0",
      "model_name": "BoundedIntTextModel",
      "state": {
       "description": "y",
       "layout": "IPY_MODEL_e7e1be8a5bf84187806d787a85d20e6a",
       "max": 0,
       "style": "IPY_MODEL_be00d9647f384c43ad62928d54db3b28"
      }
     },
     "c03388fed4e54edc9a9bab302c3f8017": {
      "model_module": "@jupyter-widgets/base",
      "model_module_version": "1.2.0",
      "model_name": "LayoutModel",
      "state": {}
     },
     "c065b24a7b6840d88df69c1fcaecfa66": {
      "model_module": "@jupyter-widgets/base",
      "model_module_version": "1.2.0",
      "model_name": "LayoutModel",
      "state": {}
     },
     "c17c0a8643be4ba3a6f1f0ed41a018f6": {
      "model_module": "@jupyter-widgets/controls",
      "model_module_version": "1.5.0",
      "model_name": "DescriptionStyleModel",
      "state": {
       "description_width": ""
      }
     },
     "c210a326a24a43919e276b3fa49dfe59": {
      "model_module": "@jupyter-widgets/base",
      "model_module_version": "1.2.0",
      "model_name": "LayoutModel",
      "state": {}
     },
     "c39e74ddbfa849e5ad2ef6eb15f87ee8": {
      "model_module": "@jupyter-widgets/base",
      "model_module_version": "1.2.0",
      "model_name": "LayoutModel",
      "state": {}
     },
     "c3df4e336fee44758bffc7f1e1c9576d": {
      "model_module": "@jupyter-widgets/base",
      "model_module_version": "1.2.0",
      "model_name": "LayoutModel",
      "state": {}
     },
     "c41de3c5ae764a8587c0bb03af9282bb": {
      "model_module": "@jupyter-widgets/base",
      "model_module_version": "1.2.0",
      "model_name": "LayoutModel",
      "state": {}
     },
     "c46652c9fc854f7296e062eabdff4751": {
      "model_module": "@jupyter-widgets/base",
      "model_module_version": "1.2.0",
      "model_name": "LayoutModel",
      "state": {}
     },
     "c4a2fb72e1e9416ba4da21fc07949470": {
      "model_module": "@jupyter-widgets/controls",
      "model_module_version": "1.5.0",
      "model_name": "DropdownModel",
      "state": {
       "_options_labels": [
        "DPPC_ctrl-J4/cells-01_000_.tif",
        "DPPC_ctrl-J4/cells-01_012_.tif",
        "DPPC_ctrl-J4/cells-01_014_.tif",
        "DPPC_ctrl-J4/cells-01_022_.tif",
        "DPPC_ctrl-J4/cells-01_032_.tif",
        "DPPC_ctrl-J4/cells-01_043_.tif",
        "DPPC_ctrl-J4/cells-01_044_.tif",
        "DPPC_ctrl-J4/cells-01_060_.tif",
        "DPPC_ctrl-J4/cells-01_064_.tif",
        "DPPC_ctrl-J4/cells-01_066_.tif",
        "DPPC_ctrl-J4/cells-33_007_.tif",
        "DPPC_ctrl-J4/cells-33_014_.tif",
        "DPPC_ctrl-J4/cells-33_025_.tif",
        "DPPC_ctrl-J4/cells-33_029_.tif",
        "DPPC_ctrl-J4/cells-33_034_.tif"
       ],
       "description": "file",
       "index": 0,
       "layout": "IPY_MODEL_1f51180a598f4817b5c77f9bbb423843",
       "style": "IPY_MODEL_3d4e0ad6442c4a16a15a14ce83b796b5"
      }
     },
     "c4ae71b0160b44bba99a59d4ee858bfe": {
      "model_module": "@jupyter-widgets/controls",
      "model_module_version": "1.5.0",
      "model_name": "DescriptionStyleModel",
      "state": {
       "description_width": ""
      }
     },
     "c4b38219d1d54129833240ee316c85f0": {
      "model_module": "@jupyter-widgets/controls",
      "model_module_version": "1.5.0",
      "model_name": "DescriptionStyleModel",
      "state": {
       "description_width": ""
      }
     },
     "c4e5fd6233f546d09636aee514b3d280": {
      "model_module": "@jupyter-widgets/base",
      "model_module_version": "1.2.0",
      "model_name": "LayoutModel",
      "state": {}
     },
     "c5054979c6f242618fa61d128963ca5b": {
      "model_module": "@jupyter-widgets/controls",
      "model_module_version": "1.5.0",
      "model_name": "DescriptionStyleModel",
      "state": {
       "description_width": ""
      }
     },
     "c5688df494a9450f8fd6c016cc5250ee": {
      "model_module": "@jupyter-widgets/controls",
      "model_module_version": "1.5.0",
      "model_name": "FloatTextModel",
      "state": {
       "description": "sigma",
       "layout": "IPY_MODEL_092342c1f2b34678bff811ba3dc23117",
       "step": 0.1,
       "style": "IPY_MODEL_4029940acf7b4bcf9ea84852686460fb",
       "value": 1
      }
     },
     "c56eadd0d35349b59c9045e2fa4c418a": {
      "model_module": "@jupyter-widgets/base",
      "model_module_version": "1.2.0",
      "model_name": "LayoutModel",
      "state": {}
     },
     "c5c6f8f55cb14e7d8bd91aafce4b3a2b": {
      "model_module": "@jupyter-widgets/base",
      "model_module_version": "1.2.0",
      "model_name": "LayoutModel",
      "state": {}
     },
     "c5ec474a5b994961bd467e59d264b669": {
      "model_module": "jupyter-matplotlib",
      "model_module_version": "^0.9.0",
      "model_name": "MPLCanvasModel",
      "state": {
       "_cursor": "default",
       "_figure_label": "Figure 2",
       "_height": 480,
       "_image_mode": "diff",
       "_width": 640,
       "layout": "IPY_MODEL_2438f2dd89284f9fa8591d286e1111b9",
       "toolbar": "IPY_MODEL_5ad04102b5bc455bb2bc9e3770cf90d6",
       "toolbar_position": "left"
      }
     },
     "c7a666462ee5497399e5b8248e89c7a0": {
      "model_module": "@jupyter-widgets/base",
      "model_module_version": "1.2.0",
      "model_name": "LayoutModel",
      "state": {}
     },
     "c7ef5121736a4476961884b4c5a791d4": {
      "model_module": "@jupyter-widgets/base",
      "model_module_version": "1.2.0",
      "model_name": "LayoutModel",
      "state": {}
     },
     "c921edb423ac469e92e8f84da4f73165": {
      "model_module": "@jupyter-widgets/controls",
      "model_module_version": "1.5.0",
      "model_name": "VBoxModel",
      "state": {
       "children": [
        "IPY_MODEL_73a219e4e75f4cc9804ff2cfb6c522d0",
        "IPY_MODEL_bfebe1f0dd144753aa3bcbf09da23b93"
       ],
       "layout": "IPY_MODEL_28cc7eca372d44d085c2dfa11a47dd70"
      }
     },
     "c93871f497de49e1a0269a30c3c537e9": {
      "model_module": "@jupyter-widgets/controls",
      "model_module_version": "1.5.0",
      "model_name": "IntTextModel",
      "state": {
       "description": "mass thresh.",
       "layout": "IPY_MODEL_278df4d4ad9140e7b0ba802a53832811",
       "step": 10,
       "style": "IPY_MODEL_e631c54ce7c047138032a1229ae3ee59",
       "value": 5000
      }
     },
     "c9f6d3d38e1f41559b370de442c2692f": {
      "model_module": "@jupyter-widgets/controls",
      "model_module_version": "1.5.0",
      "model_name": "VBoxModel",
      "state": {
       "children": [
        "IPY_MODEL_2a8a8ca896bd407fabda302414f92779",
        "IPY_MODEL_68e81e301c34477b842888afa49b0fbe"
       ],
       "layout": "IPY_MODEL_94f3a6afdc184e4f92de6f53e75fb119"
      }
     },
     "ca862854e7da4299843e11d5bac695f7": {
      "model_module": "@jupyter-widgets/controls",
      "model_module_version": "1.5.0",
      "model_name": "ButtonModel",
      "state": {
       "disabled": true,
       "icon": "arrow-left",
       "layout": "IPY_MODEL_3ae1b1ef74fa44bc9ad9caa2383c7557",
       "style": "IPY_MODEL_425df6e9bb0b4f3caa575f0beba9bbb2"
      }
     },
     "ca8ff638068c429a971c199755dd82de": {
      "model_module": "@jupyter-widgets/base",
      "model_module_version": "1.2.0",
      "model_name": "LayoutModel",
      "state": {
       "width": "75%"
      }
     },
     "cb0ce33e416f4fca963723f12c9a94f3": {
      "model_module": "@jupyter-widgets/controls",
      "model_module_version": "1.5.0",
      "model_name": "DescriptionStyleModel",
      "state": {
       "description_width": ""
      }
     },
     "cb251187521c4c8c832d7a1f7abac911": {
      "model_module": "@jupyter-widgets/base",
      "model_module_version": "1.2.0",
      "model_name": "LayoutModel",
      "state": {
       "width": "min-content"
      }
     },
     "cbb46a52ec434b618328c18b9753267a": {
      "model_module": "@jupyter-widgets/controls",
      "model_module_version": "1.5.0",
      "model_name": "HBoxModel",
      "state": {
       "children": [
        "IPY_MODEL_93180b9373ba4117b097677328338f42",
        "IPY_MODEL_6d7498f9be894702bc2ca58fd60dbedb"
       ],
       "layout": "IPY_MODEL_6a5380d6ddd042a184b86871806182ab"
      }
     },
     "cc15c9f5d14743e1983d6143f40e8a17": {
      "model_module": "@jupyter-widgets/controls",
      "model_module_version": "1.5.0",
      "model_name": "VBoxModel",
      "state": {
       "children": [
        "IPY_MODEL_2564b301513e4d36ae2930d2417a00f9",
        "IPY_MODEL_61332d2e2f02442f9bccdb78be7d04a9",
        "IPY_MODEL_bbae7435ac08406695639019c79d5260"
       ],
       "layout": "IPY_MODEL_b58596a96d4b488b806311995a550b41"
      }
     },
     "ccf9d3a3d76f439db5f187e2195c573b": {
      "model_module": "@jupyter-widgets/controls",
      "model_module_version": "1.5.0",
      "model_name": "ButtonModel",
      "state": {
       "description": "Auto",
       "layout": "IPY_MODEL_c7a666462ee5497399e5b8248e89c7a0",
       "style": "IPY_MODEL_be5a1e2ab23e40de9961fd8fe05f0f0d"
      }
     },
     "ccfcb3def671436f9760b23c768bff9d": {
      "model_module": "@jupyter-widgets/base",
      "model_module_version": "1.2.0",
      "model_name": "LayoutModel",
      "state": {}
     },
     "cdf8ce498ec142019fd2a72f105f526f": {
      "model_module": "@jupyter-widgets/controls",
      "model_module_version": "1.5.0",
      "model_name": "FloatTextModel",
      "state": {
       "description": "sigma",
       "layout": "IPY_MODEL_4006ee0457db461eb2204afd2d9ed216",
       "step": 0.1,
       "style": "IPY_MODEL_35fa74e004d841fca20817454b1dbbbe",
       "value": 1
      }
     },
     "ce38b8cf42db4b659449e60c9da0658f": {
      "model_module": "@jupyter-widgets/base",
      "model_module_version": "1.2.0",
      "model_name": "LayoutModel",
      "state": {
       "grid_template_columns": "min-content min-content"
      }
     },
     "cf6269d4a2f34d3ba8568dcd11dda251": {
      "model_module": "@jupyter-widgets/controls",
      "model_module_version": "1.5.0",
      "model_name": "DescriptionStyleModel",
      "state": {
       "description_width": ""
      }
     },
     "cf63b8baa6c44ee4b909f224da995f38": {
      "model_module": "@jupyter-widgets/controls",
      "model_module_version": "1.5.0",
      "model_name": "HTMLModel",
      "state": {
       "layout": "IPY_MODEL_58b07a3bb6cb4b97b674929d5e19c086",
       "style": "IPY_MODEL_3d65bb6a77fd4154ad050a8613d53fdb",
       "value": "<style>.chan_140068461467792 input {background-color: rgba(188.0, 189.0, 34.0, 0.3) !important}</style>"
      }
     },
     "cf96fdc846864c8f9e109519d9d1f2cd": {
      "model_module": "@jupyter-widgets/base",
      "model_module_version": "1.2.0",
      "model_name": "LayoutModel",
      "state": {
       "display": "none"
      }
     },
     "d05ebb5d873d431d838ea47f0fc26be9": {
      "model_module": "@jupyter-widgets/controls",
      "model_module_version": "1.5.0",
      "model_name": "IntTextModel",
      "state": {
       "description": "radius",
       "layout": "IPY_MODEL_4df52d759c6f4bb487ee1e2a43b1aae3",
       "step": 1,
       "style": "IPY_MODEL_5bfc1303bdc04442a10b3d3499898cef",
       "value": 3
      }
     },
     "d082c76564e6470988d54ebb27291270": {
      "model_module": "@jupyter-widgets/controls",
      "model_module_version": "1.5.0",
      "model_name": "GridBoxModel",
      "state": {
       "children": [
        "IPY_MODEL_ffe96e6a30764e37a2a19984e583c0be",
        "IPY_MODEL_7ccc25debf7a40cfb9ff8bad5552fd7a",
        "IPY_MODEL_ffe96e6a30764e37a2a19984e583c0be",
        "IPY_MODEL_97b8270f94ff4b408e995445f5cf4c71",
        "IPY_MODEL_ffe96e6a30764e37a2a19984e583c0be",
        "IPY_MODEL_3101fa5c65e04240afa5eda0e75081ea",
        "IPY_MODEL_ffe96e6a30764e37a2a19984e583c0be",
        "IPY_MODEL_38290557f26f49debf6cc83c5a10fa79",
        "IPY_MODEL_d63ee8dbee164e25b9e0891d59570b0a",
        "IPY_MODEL_bd8dfc51f16646a4b55890f37bb4ab6a",
        "IPY_MODEL_e2053314423c4b5e8d90a4bd81f822dc",
        "IPY_MODEL_581b1129651e4589a9ae24cfad22e21e"
       ],
       "layout": "IPY_MODEL_ae01509c546b406a8611741211cac0c7"
      }
     },
     "d0f4f28594f542ad95f7e2d1ac1b5d11": {
      "model_module": "@jupyter-widgets/controls",
      "model_module_version": "1.5.0",
      "model_name": "DescriptionStyleModel",
      "state": {
       "description_width": ""
      }
     },
     "d3abc8e3330d465d9045aa5a3cbe88b3": {
      "model_module": "@jupyter-widgets/controls",
      "model_module_version": "1.5.0",
      "model_name": "DescriptionStyleModel",
      "state": {
       "description_width": ""
      }
     },
     "d502301da93442718e9c53393e092105": {
      "model_module": "@jupyter-widgets/controls",
      "model_module_version": "1.5.0",
      "model_name": "VBoxModel",
      "state": {
       "children": [
        "IPY_MODEL_5f94c849a29546059aa4a90e84610560",
        "IPY_MODEL_a5f641a50a684185b96562b7f4f4fcb6"
       ],
       "layout": "IPY_MODEL_db64bacc9cfe4250a26eee3ce97d6150"
      }
     },
     "d5842681eb084a41926f546c44715556": {
      "model_module": "@jupyter-widgets/controls",
      "model_module_version": "1.5.0",
      "model_name": "DescriptionStyleModel",
      "state": {
       "description_width": ""
      }
     },
     "d5b947c39e784e0da309c8586813767e": {
      "model_module": "@jupyter-widgets/controls",
      "model_module_version": "1.5.0",
      "model_name": "DescriptionStyleModel",
      "state": {
       "description_width": ""
      }
     },
     "d62af054f8514c0db76705f3b5278553": {
      "model_module": "@jupyter-widgets/base",
      "model_module_version": "1.2.0",
      "model_name": "LayoutModel",
      "state": {}
     },
     "d6308bd2acd14220b40151ad34da9b4c": {
      "model_module": "@jupyter-widgets/controls",
      "model_module_version": "1.5.0",
      "model_name": "DescriptionStyleModel",
      "state": {
       "description_width": ""
      }
     },
     "d63ee8dbee164e25b9e0891d59570b0a": {
      "model_module": "@jupyter-widgets/controls",
      "model_module_version": "1.5.0",
      "model_name": "CheckboxModel",
      "state": {
       "disabled": false,
       "indent": false,
       "layout": "IPY_MODEL_23eb3d8ac87d432f97b9897f0a644484",
       "style": "IPY_MODEL_169620b837c74e6ab6e775155fba9cf6",
       "value": false
      }
     },
     "d7c22dbb0052418e90625e9ae585af6c": {
      "model_module": "@jupyter-widgets/controls",
      "model_module_version": "1.5.0",
      "model_name": "ButtonModel",
      "state": {
       "icon": "arrow-right",
       "layout": "IPY_MODEL_ec28223e534147309ef0f9ee75587620",
       "style": "IPY_MODEL_a5a1b458d1d646c0bdc00c6a6add7932"
      }
     },
     "d7d91133d0d546c691d4215f7be0ea6d": {
      "model_module": "@jupyter-widgets/base",
      "model_module_version": "1.2.0",
      "model_name": "LayoutModel",
      "state": {}
     },
     "d903bd3b19ac491eb56754d62232faf2": {
      "model_module": "@jupyter-widgets/base",
      "model_module_version": "1.2.0",
      "model_name": "LayoutModel",
      "state": {}
     },
     "da22b5fa5dec49f08db8784b6ec5627e": {
      "model_module": "@jupyter-widgets/controls",
      "model_module_version": "1.5.0",
      "model_name": "DescriptionStyleModel",
      "state": {
       "description_width": ""
      }
     },
     "da26ec0809ba448a9a09304f94b6662c": {
      "model_module": "@jupyter-widgets/controls",
      "model_module_version": "1.5.0",
      "model_name": "SliderStyleModel",
      "state": {
       "description_width": ""
      }
     },
     "da58f9a5926a41a9ab667cffb9d23d6e": {
      "model_module": "@jupyter-widgets/controls",
      "model_module_version": "1.5.0",
      "model_name": "VBoxModel",
      "state": {
       "children": [
        "IPY_MODEL_5bca0c8844044d589e703672dac93503",
        "IPY_MODEL_b1a9c794a60b41ba97e4acad0964d33b"
       ],
       "layout": "IPY_MODEL_66e418145d24474e96349d11ee048a9f"
      }
     },
     "db5b41a334db47b9b61076d7b0f33c2f": {
      "model_module": "@jupyter-widgets/base",
      "model_module_version": "1.2.0",
      "model_name": "LayoutModel",
      "state": {}
     },
     "db64bacc9cfe4250a26eee3ce97d6150": {
      "model_module": "@jupyter-widgets/base",
      "model_module_version": "1.2.0",
      "model_name": "LayoutModel",
      "state": {}
     },
     "dca3401763fc4783bfa9d1ade13bd5c9": {
      "model_module": "@jupyter-widgets/base",
      "model_module_version": "1.2.0",
      "model_name": "LayoutModel",
      "state": {}
     },
     "dca4b23bc0a543f49997908f59e1be9f": {
      "model_module": "@jupyter-widgets/base",
      "model_module_version": "1.2.0",
      "model_name": "LayoutModel",
      "state": {}
     },
     "dd74d21d291341f898f757804c864999": {
      "model_module": "@jupyter-widgets/base",
      "model_module_version": "1.2.0",
      "model_name": "LayoutModel",
      "state": {
       "width": "min-content"
      }
     },
     "ddc448a89d484ed986d5da578c7877f3": {
      "model_module": "@jupyter-widgets/controls",
      "model_module_version": "1.5.0",
      "model_name": "DescriptionStyleModel",
      "state": {
       "description_width": ""
      }
     },
     "de091c678bfe4ab29ff534223fa7fc2d": {
      "model_module": "@jupyter-widgets/base",
      "model_module_version": "1.2.0",
      "model_name": "LayoutModel",
      "state": {}
     },
     "de709dab69c2475caba18742dc3f42ac": {
      "model_module": "@jupyter-widgets/controls",
      "model_module_version": "1.5.0",
      "model_name": "VBoxModel",
      "state": {
       "children": [
        "IPY_MODEL_541fc605d5ac41a7ae094f77d008e2fb",
        "IPY_MODEL_9c28c3a28eb0452c823205903b667917",
        "IPY_MODEL_2cf141763b3c4b90b7c1403a9e3ce11e"
       ],
       "layout": "IPY_MODEL_ce38b8cf42db4b659449e60c9da0658f"
      }
     },
     "df182e870404410e90726122e3d27e4e": {
      "model_module": "@jupyter-widgets/base",
      "model_module_version": "1.2.0",
      "model_name": "LayoutModel",
      "state": {}
     },
     "dfa4520e83bb42869adb1e5aaedc50a6": {
      "model_module": "@jupyter-widgets/base",
      "model_module_version": "1.2.0",
      "model_name": "LayoutModel",
      "state": {}
     },
     "e0f07341525e453c96627898d699bef2": {
      "model_module": "@jupyter-widgets/base",
      "model_module_version": "1.2.0",
      "model_name": "LayoutModel",
      "state": {
       "grid_template_columns": "min-content min-content"
      }
     },
     "e1bf873f82b54574ac7a718543340640": {
      "model_module": "jupyter-matplotlib",
      "model_module_version": "^0.9.0",
      "model_name": "ToolbarModel",
      "state": {
       "layout": "IPY_MODEL_ab8acd5acd5340138f06fd2f57d933c2",
       "toolitems": [
        [
         "Home",
         "Reset original view",
         "home",
         "home"
        ],
        [
         "Back",
         "Back to previous view",
         "arrow-left",
         "back"
        ],
        [
         "Forward",
         "Forward to next view",
         "arrow-right",
         "forward"
        ],
        [
         "Pan",
         "Left button pans, Right button zooms\nx/y fixes axis, CTRL fixes aspect",
         "arrows",
         "pan"
        ],
        [
         "Zoom",
         "Zoom to rectangle\nx/y fixes axis, CTRL fixes aspect",
         "square-o",
         "zoom"
        ],
        [
         "Download",
         "Download plot",
         "floppy-o",
         "save_figure"
        ]
       ]
      }
     },
     "e2053314423c4b5e8d90a4bd81f822dc": {
      "model_module": "@jupyter-widgets/controls",
      "model_module_version": "1.5.0",
      "model_name": "CheckboxModel",
      "state": {
       "disabled": false,
       "indent": false,
       "layout": "IPY_MODEL_e3dd3f856cb942308b9e39ba5e877a86",
       "style": "IPY_MODEL_1d0e567ee90446f1a83b451913bd6170",
       "value": false
      }
     },
     "e2c333c5301047258231ec016332b42c": {
      "model_module": "@jupyter-widgets/controls",
      "model_module_version": "1.5.0",
      "model_name": "DescriptionStyleModel",
      "state": {
       "description_width": ""
      }
     },
     "e355acbc9d764eada7ec84934ede2c17": {
      "model_module": "@jupyter-widgets/controls",
      "model_module_version": "1.5.0",
      "model_name": "DescriptionStyleModel",
      "state": {
       "description_width": ""
      }
     },
     "e3dd3f856cb942308b9e39ba5e877a86": {
      "model_module": "@jupyter-widgets/base",
      "model_module_version": "1.2.0",
      "model_name": "LayoutModel",
      "state": {
       "width": "min-content"
      }
     },
     "e4456b30488f44cf87f64521346c4eea": {
      "model_module": "@jupyter-widgets/base",
      "model_module_version": "1.2.0",
      "model_name": "LayoutModel",
      "state": {}
     },
     "e45d136b188d43e58ea2e28a9ffd28c4": {
      "model_module": "@jupyter-widgets/base",
      "model_module_version": "1.2.0",
      "model_name": "LayoutModel",
      "state": {}
     },
     "e5590ddbb26541efb4442cd110882a34": {
      "model_module": "@jupyter-widgets/controls",
      "model_module_version": "1.5.0",
      "model_name": "HTMLModel",
      "state": {
       "layout": "IPY_MODEL_ccfcb3def671436f9760b23c768bff9d",
       "style": "IPY_MODEL_3a3923d46c2d4924868a2cbb35e19b5d",
       "value": "<style>.chan_140068458200720 input {background-color: rgba(255.0, 127.0, 14.0, 0.3) !important}</style>"
      }
     },
     "e58e918f8b9b460bbd676f826b5da2ee": {
      "model_module": "@jupyter-widgets/base",
      "model_module_version": "1.2.0",
      "model_name": "LayoutModel",
      "state": {}
     },
     "e5e1df1cbf404a75a120443f2c74874a": {
      "model_module": "@jupyter-widgets/base",
      "model_module_version": "1.2.0",
      "model_name": "LayoutModel",
      "state": {}
     },
     "e60b6cb6450143d4875534f91ade366d": {
      "model_module": "@jupyter-widgets/base",
      "model_module_version": "1.2.0",
      "model_name": "LayoutModel",
      "state": {}
     },
     "e631c54ce7c047138032a1229ae3ee59": {
      "model_module": "@jupyter-widgets/controls",
      "model_module_version": "1.5.0",
      "model_name": "DescriptionStyleModel",
      "state": {
       "description_width": ""
      }
     },
     "e7486037700747e58fc8bd3a5a5798c6": {
      "model_module": "@jupyter-widgets/base",
      "model_module_version": "1.2.0",
      "model_name": "LayoutModel",
      "state": {}
     },
     "e7a92ba0b6d9448eb5ffebcff6b046ef": {
      "model_module": "@jupyter-widgets/base",
      "model_module_version": "1.2.0",
      "model_name": "LayoutModel",
      "state": {}
     },
     "e7e1be8a5bf84187806d787a85d20e6a": {
      "model_module": "@jupyter-widgets/base",
      "model_module_version": "1.2.0",
      "model_name": "LayoutModel",
      "state": {}
     },
     "ea100107ff9e4e5d8ff4621f26bd7d26": {
      "model_module": "@jupyter-widgets/controls",
      "model_module_version": "1.5.0",
      "model_name": "CheckboxModel",
      "state": {
       "description": "Show loc.",
       "disabled": false,
       "indent": false,
       "layout": "IPY_MODEL_b8b1d779870c42fd85f7120f939b6c2a",
       "style": "IPY_MODEL_4cd37704a0ea4cdba1cd844a8f95ba65",
       "value": true
      }
     },
     "eb60913f36624c278ccb5d05dc97bbad": {
      "model_module": "@jupyter-widgets/controls",
      "model_module_version": "1.5.0",
      "model_name": "DescriptionStyleModel",
      "state": {
       "description_width": ""
      }
     },
     "ec28223e534147309ef0f9ee75587620": {
      "model_module": "@jupyter-widgets/base",
      "model_module_version": "1.2.0",
      "model_name": "LayoutModel",
      "state": {
       "display": "none",
       "width": "auto"
      }
     },
     "ece22cd818894220842d95261216c4d5": {
      "model_module": "@jupyter-widgets/controls",
      "model_module_version": "1.5.0",
      "model_name": "DescriptionStyleModel",
      "state": {
       "description_width": ""
      }
     },
     "ecfc90f996fe4852bd11deb75267704e": {
      "model_module": "@jupyter-widgets/base",
      "model_module_version": "1.2.0",
      "model_name": "LayoutModel",
      "state": {}
     },
     "ed204cea6a484fca94d774d1522ad2d3": {
      "model_module": "@jupyter-widgets/controls",
      "model_module_version": "1.5.0",
      "model_name": "DescriptionStyleModel",
      "state": {
       "description_width": ""
      }
     },
     "edafc6cccb5b46f5a28fa6ac7f941c0d": {
      "model_module": "@jupyter-widgets/controls",
      "model_module_version": "1.5.0",
      "model_name": "DescriptionStyleModel",
      "state": {
       "description_width": ""
      }
     },
     "ee0c16a22f4243989dee91c85dc9cfa9": {
      "model_module": "@jupyter-widgets/controls",
      "model_module_version": "1.5.0",
      "model_name": "DescriptionStyleModel",
      "state": {
       "description_width": ""
      }
     },
     "eed0d693d18d48ab9c9db7f3146ccd2b": {
      "model_module": "@jupyter-widgets/controls",
      "model_module_version": "1.5.0",
      "model_name": "DescriptionStyleModel",
      "state": {
       "description_width": ""
      }
     },
     "f02e984372414c9393f28d9e6cd2fb25": {
      "model_module": "@jupyter-widgets/controls",
      "model_module_version": "1.5.0",
      "model_name": "HBoxModel",
      "state": {
       "children": [
        "IPY_MODEL_9c1bb8883d274a98abe2bb3a1cd82657",
        "IPY_MODEL_ccf9d3a3d76f439db5f187e2195c573b"
       ],
       "layout": "IPY_MODEL_839d664dc8ed4a1fada8ff569de90941"
      }
     },
     "f0fedeec741d47dd8700c7a1f28b9dd0": {
      "model_module": "@jupyter-widgets/controls",
      "model_module_version": "1.5.0",
      "model_name": "CheckboxModel",
      "state": {
       "description": "Show loc.",
       "disabled": false,
       "indent": false,
       "layout": "IPY_MODEL_e5e1df1cbf404a75a120443f2c74874a",
       "style": "IPY_MODEL_e355acbc9d764eada7ec84934ede2c17",
       "value": true
      }
     },
     "f103d6a6a2324ab1b289d67e7c7e2dae": {
      "model_module": "@jupyter-widgets/controls",
      "model_module_version": "1.5.0",
      "model_name": "IntRangeSliderModel",
      "state": {
       "_model_name": "IntRangeSliderModel",
       "_view_name": "IntRangeSliderView",
       "description": "contrast",
       "layout": "IPY_MODEL_ca8ff638068c429a971c199755dd82de",
       "max": 65535,
       "style": "IPY_MODEL_12aa2c4dfda54147a35e89641b99e906",
       "value": [
        115,
        11051
       ]
      }
     },
     "f172a8138d63455f974d0414dd3d1089": {
      "model_module": "@jupyter-widgets/controls",
      "model_module_version": "1.5.0",
      "model_name": "FloatTextModel",
      "state": {
       "description": "max.",
       "layout": "IPY_MODEL_080464bac0db4fcab141767cc04b0dcd",
       "step": 0.1,
       "style": "IPY_MODEL_68ae57e0d1744621b21186ac9e6c2f23",
       "value": 2
      }
     },
     "f1c9d4424e73458fb98ce7dad9e72b6a": {
      "model_module": "@jupyter-widgets/controls",
      "model_module_version": "1.5.0",
      "model_name": "DropdownModel",
      "state": {
       "_options_labels": [
        "Identity",
        "Crocker-Grier",
        "Gaussian"
       ],
       "description": "find filter",
       "index": 0,
       "layout": "IPY_MODEL_648ad5caf8424acf8d29cfa2cc24916e",
       "style": "IPY_MODEL_edafc6cccb5b46f5a28fa6ac7f941c0d"
      }
     },
     "f2f7d9adc7dd4faf8e121e5682696a2e": {
      "model_module": "@jupyter-widgets/controls",
      "model_module_version": "1.5.0",
      "model_name": "DescriptionStyleModel",
      "state": {
       "description_width": ""
      }
     },
     "f326fa2625c44911881100cdf2545c60": {
      "model_module": "@jupyter-widgets/base",
      "model_module_version": "1.2.0",
      "model_name": "LayoutModel",
      "state": {}
     },
     "f37aa5148f46480086ced9b3dfa4d9aa": {
      "model_module": "@jupyter-widgets/controls",
      "model_module_version": "1.5.0",
      "model_name": "DescriptionStyleModel",
      "state": {
       "description_width": ""
      }
     },
     "f3bbb40ee103459a87087bed669276e5": {
      "model_module": "@jupyter-widgets/controls",
      "model_module_version": "1.5.0",
      "model_name": "LabelModel",
      "state": {
       "layout": "IPY_MODEL_97c284a60f634c8b9c5b4c2eff7b13bc",
       "style": "IPY_MODEL_3ae2d4475bbf4752b848342e02532eac",
       "value": "Size range"
      }
     },
     "f3e9e5e528764ae9ad381381d5c73469": {
      "model_module": "@jupyter-widgets/controls",
      "model_module_version": "1.5.0",
      "model_name": "DescriptionStyleModel",
      "state": {
       "description_width": ""
      }
     },
     "f4631c39c8db42d3aca5db4c679fa5c8": {
      "model_module": "@jupyter-widgets/controls",
      "model_module_version": "1.5.0",
      "model_name": "ButtonModel",
      "state": {
       "description": "Auto",
       "layout": "IPY_MODEL_8a66adb1bfeb4a97a734cd76dd6dea27",
       "style": "IPY_MODEL_10e5c33805aa4e54812d36f4e5cee425"
      }
     },
     "f47c2eae58444c019db102efee57403d": {
      "model_module": "@jupyter-widgets/controls",
      "model_module_version": "1.5.0",
      "model_name": "FloatTextModel",
      "state": {
       "description": "threshold",
       "layout": "IPY_MODEL_de091c678bfe4ab29ff534223fa7fc2d",
       "step": 10,
       "style": "IPY_MODEL_a133bbc7b4524d569714fe6ed7beaddf",
       "value": 100
      }
     },
     "f47db07779114550b5719a8d20e792cd": {
      "model_module": "@jupyter-widgets/controls",
      "model_module_version": "1.5.0",
      "model_name": "VBoxModel",
      "state": {
       "children": [
        "IPY_MODEL_7bd4803491384bf09e8143d3f551faf5",
        "IPY_MODEL_25237556c5e74eea925bd7ce14cd8cbc",
        "IPY_MODEL_b76cd8f040254854968f3e1e1c8e576e"
       ],
       "layout": "IPY_MODEL_e0f07341525e453c96627898d699bef2"
      }
     },
     "f4ad6cb6d50a46f7b13b52296544e660": {
      "model_module": "@jupyter-widgets/controls",
      "model_module_version": "1.5.0",
      "model_name": "HBoxModel",
      "state": {
       "children": [
        "IPY_MODEL_20d6112249414cef9fa68ba5e3c2a19b",
        "IPY_MODEL_aea4a235b55449b49690f75c843c20b5"
       ],
       "layout": "IPY_MODEL_7cf18eea40b24fe78e9a59762dad1ed0"
      }
     },
     "f57d44b3799a4f2d9a89b9ce2aab7ccb": {
      "model_module": "@jupyter-widgets/base",
      "model_module_version": "1.2.0",
      "model_name": "LayoutModel",
      "state": {}
     },
     "f5a3caf5360d41debe04c2080934d7a1": {
      "model_module": "@jupyter-widgets/controls",
      "model_module_version": "1.5.0",
      "model_name": "DescriptionStyleModel",
      "state": {
       "description_width": ""
      }
     },
     "f5c6c783a7f241bcab894b67d3e51f5f": {
      "model_module": "@jupyter-widgets/base",
      "model_module_version": "1.2.0",
      "model_name": "LayoutModel",
      "state": {
       "display": "none"
      }
     },
     "f60105192d7f4effb17da9541b0444ff": {
      "model_module": "@jupyter-widgets/controls",
      "model_module_version": "1.5.0",
      "model_name": "VBoxModel",
      "state": {
       "children": [
        "IPY_MODEL_9343b4209db542699f2e5ae96266bee3",
        "IPY_MODEL_f88cee15091c4f20877e52581c87837f"
       ],
       "layout": "IPY_MODEL_8ee5eff64a614fa39687486467b1d7ed"
      }
     },
     "f601054a9857455f840dd8dc36f10878": {
      "model_module": "@jupyter-widgets/base",
      "model_module_version": "1.2.0",
      "model_name": "LayoutModel",
      "state": {
       "display": "none"
      }
     },
     "f62ba06d25e444dd85783b045464d4ac": {
      "model_module": "@jupyter-widgets/base",
      "model_module_version": "1.2.0",
      "model_name": "LayoutModel",
      "state": {}
     },
     "f65ca38929f2429fa5297ef72980141f": {
      "model_module": "@jupyter-widgets/controls",
      "model_module_version": "1.5.0",
      "model_name": "FloatTextModel",
      "state": {
       "description": "Min. distance",
       "layout": "IPY_MODEL_71f0c08c2a1048fa9bb3465afecf9df6",
       "step": 0.1,
       "style": "IPY_MODEL_ee0c16a22f4243989dee91c85dc9cfa9",
       "value": 1
      }
     },
     "f6d426ec74554dd6917273c407155ae5": {
      "model_module": "@jupyter-widgets/base",
      "model_module_version": "1.2.0",
      "model_name": "LayoutModel",
      "state": {}
     },
     "f74b9e8198104656a3625891d7c0b768": {
      "model_module": "@jupyter-widgets/controls",
      "model_module_version": "1.5.0",
      "model_name": "VBoxModel",
      "state": {
       "children": [
        "IPY_MODEL_8e3f9bb8b1a94b78a08ac4d5497ddc8e",
        "IPY_MODEL_4ba73b5a4e8e4af2ae6fdadec317c125",
        "IPY_MODEL_cdf8ce498ec142019fd2a72f105f526f"
       ],
       "layout": "IPY_MODEL_9b48e77b93244b59877b657daf4a95f9"
      }
     },
     "f88cee15091c4f20877e52581c87837f": {
      "model_module": "@jupyter-widgets/controls",
      "model_module_version": "1.5.0",
      "model_name": "BoundedIntTextModel",
      "state": {
       "description": "height",
       "layout": "IPY_MODEL_d903bd3b19ac491eb56754d62232faf2",
       "max": 111,
       "style": "IPY_MODEL_bf44cb1f5d134e15af9fcb87d6bc7909",
       "value": 111
      }
     },
     "fa25a4411aa54c64a64946579ad73c16": {
      "model_module": "@jupyter-widgets/base",
      "model_module_version": "1.2.0",
      "model_name": "LayoutModel",
      "state": {}
     },
     "fa4afe3d721d489c90deaf8e503407eb": {
      "model_module": "@jupyter-widgets/controls",
      "model_module_version": "1.5.0",
      "model_name": "DescriptionStyleModel",
      "state": {
       "description_width": ""
      }
     },
     "fb17a4d48acf43de99d2f6baa16a5c0e": {
      "model_module": "@jupyter-widgets/base",
      "model_module_version": "1.2.0",
      "model_name": "LayoutModel",
      "state": {}
     },
     "fca978e30f94474789d25faa64e6bd30": {
      "model_module": "@jupyter-widgets/controls",
      "model_module_version": "1.5.0",
      "model_name": "DropdownModel",
      "state": {
       "_options_labels": [
        "3D-DAOSTORM",
        "Crocker-Grier"
       ],
       "description": "algorithm",
       "index": 1,
       "layout": "IPY_MODEL_2422103a82d94f84bb4b7a27bde9b396",
       "style": "IPY_MODEL_2e879cb73cc84fdaa55d7671c0b6dcb3"
      }
     },
     "fcfd6f8909804b7abd19b5cffe822d4a": {
      "model_module": "@jupyter-widgets/base",
      "model_module_version": "1.2.0",
      "model_name": "LayoutModel",
      "state": {}
     },
     "fd79ebec42df4105b34d30e4833f7aa0": {
      "model_module": "@jupyter-widgets/controls",
      "model_module_version": "1.5.0",
      "model_name": "VBoxModel",
      "state": {
       "children": [
        "IPY_MODEL_f3bbb40ee103459a87087bed669276e5",
        "IPY_MODEL_b544d0b9e28e4b7e91f0e8ba8687c4a3",
        "IPY_MODEL_53bb3c4f5e934ea694119cd8bf20bae1"
       ],
       "layout": "IPY_MODEL_2417536c3e8d4729b08e14200d0878b9"
      }
     },
     "fdb9e23d2a054cc9988befdd0f94fd66": {
      "model_module": "@jupyter-widgets/base",
      "model_module_version": "1.2.0",
      "model_name": "LayoutModel",
      "state": {}
     },
     "fdbed79316a240f8aca06363c2700717": {
      "model_module": "@jupyter-widgets/controls",
      "model_module_version": "1.5.0",
      "model_name": "FloatTextModel",
      "state": {
       "description": "sigma",
       "layout": "IPY_MODEL_152aeab20e3a449a8323d9f3795a2bed",
       "step": 0.1,
       "style": "IPY_MODEL_01efb019cc334eff8b5b60463cbee76a",
       "value": 1
      }
     },
     "fdee09dcd38c4ea5bd1dd5aedcefab0a": {
      "model_module": "@jupyter-widgets/controls",
      "model_module_version": "1.5.0",
      "model_name": "DescriptionStyleModel",
      "state": {
       "description_width": ""
      }
     },
     "fe4fb42537ea4c309e6230f77154788a": {
      "model_module": "@jupyter-widgets/base",
      "model_module_version": "1.2.0",
      "model_name": "LayoutModel",
      "state": {}
     },
     "ff5f8afa8c2247d6a955d8381a3b31e4": {
      "model_module": "@jupyter-widgets/controls",
      "model_module_version": "1.5.0",
      "model_name": "ButtonModel",
      "state": {
       "description": "split horizontally",
       "layout": "IPY_MODEL_04d3681c6daa4541a206a5e5ca846996",
       "style": "IPY_MODEL_b3ad5f4ce5234f93b902fc094cd9fa90"
      }
     },
     "ff7befa81bd040c386620256a01a130c": {
      "model_module": "@jupyter-widgets/controls",
      "model_module_version": "1.5.0",
      "model_name": "VBoxModel",
      "state": {
       "children": [
        "IPY_MODEL_1b6032008f014b149a45d768f307c7fc",
        "IPY_MODEL_4ec42f5dff6744679b6141fa1c5f366c",
        "IPY_MODEL_f172a8138d63455f974d0414dd3d1089"
       ],
       "layout": "IPY_MODEL_6057f916d866459484ee3fe663d61937"
      }
     },
     "ffe93b4ccfcd46d18315e2cf3c223238": {
      "model_module": "@jupyter-widgets/controls",
      "model_module_version": "1.5.0",
      "model_name": "VBoxModel",
      "state": {
       "children": [
        "IPY_MODEL_7a86b487af054ce881ada4e6635c072c",
        "IPY_MODEL_83afc2f66c354814a1505ef2b1abfda7"
       ],
       "layout": "IPY_MODEL_a31815e6ba1c48de99db67edc9451049"
      }
     },
     "ffe96e6a30764e37a2a19984e583c0be": {
      "model_module": "@jupyter-widgets/controls",
      "model_module_version": "1.5.0",
      "model_name": "HTMLModel",
      "state": {
       "layout": "IPY_MODEL_b8190630e1fc4b0f9bbfd94efa9dfd74",
       "style": "IPY_MODEL_7aa3cbe60f23431985abf7bc85fa30c5"
      }
     }
    },
    "version_major": 2,
    "version_minor": 0
   }
  }
 },
 "nbformat": 4,
 "nbformat_minor": 4
}
