{
 "cells": [
  {
   "cell_type": "code",
   "execution_count": 1,
   "metadata": {
    "nbpresent": {
     "id": "0a417825-fc46-48f3-8128-e0e265b094e1"
    }
   },
   "outputs": [],
   "source": [
    "from pathlib import Path\n",
    "\n",
    "import sys\n",
    "import os\n",
    "    \n",
    "from smfret_analysis import Tracker, print_info"
   ]
  },
  {
   "cell_type": "code",
   "execution_count": 2,
   "metadata": {},
   "outputs": [],
   "source": [
    "%load_ext autoreload\n",
    "%autoreload 2"
   ]
  },
  {
   "cell_type": "code",
   "execution_count": 3,
   "metadata": {},
   "outputs": [
    {
     "name": "stdout",
     "output_type": "stream",
     "text": [
      "smFRET analysis software version 1.0.dev\n",
      "Output version 7\n",
      "Using sdt-python version 13.0.dev\n"
     ]
    }
   ],
   "source": [
    "print_info()"
   ]
  },
  {
   "cell_type": "code",
   "execution_count": 4,
   "metadata": {
    "nbpresent": {
     "id": "0b4b7b88-8234-4a09-9ec6-7d6a88a2e944"
    }
   },
   "outputs": [],
   "source": [
    "data_dir = \"data\"\n",
    "### Start fresh\n",
    "# donor origin, acceptor origin, size\n",
    "tr = Tracker((252, 0), (0, 0), (242, 148), \"o\" + \"da\" * 50 + \"o\", data_dir=data_dir)\n",
    "### or load\n",
    "#tr = Tracker.load(data_dir=data_dir)"
   ]
  },
  {
   "cell_type": "code",
   "execution_count": 5,
   "metadata": {
    "scrolled": false
   },
   "outputs": [
    {
     "data": {
      "application/vnd.jupyter.widget-view+json": {
       "model_id": "104e27273701462387b2cccb8e04aaf3",
       "version_major": 2,
       "version_minor": 0
      },
      "text/plain": [
       "HBox(children=(VBox(children=(Select(layout=Layout(width='auto'), options=('data/beads/beads_000_.SPE', 'data/…"
      ]
     },
     "metadata": {},
     "output_type": "display_data"
    },
    {
     "data": {
      "application/javascript": [
       "/* Put everything inside the global mpl namespace */\n",
       "window.mpl = {};\n",
       "\n",
       "\n",
       "mpl.get_websocket_type = function() {\n",
       "    if (typeof(WebSocket) !== 'undefined') {\n",
       "        return WebSocket;\n",
       "    } else if (typeof(MozWebSocket) !== 'undefined') {\n",
       "        return MozWebSocket;\n",
       "    } else {\n",
       "        alert('Your browser does not have WebSocket support.' +\n",
       "              'Please try Chrome, Safari or Firefox ≥ 6. ' +\n",
       "              'Firefox 4 and 5 are also supported but you ' +\n",
       "              'have to enable WebSockets in about:config.');\n",
       "    };\n",
       "}\n",
       "\n",
       "mpl.figure = function(figure_id, websocket, ondownload, parent_element) {\n",
       "    this.id = figure_id;\n",
       "\n",
       "    this.ws = websocket;\n",
       "\n",
       "    this.supports_binary = (this.ws.binaryType != undefined);\n",
       "\n",
       "    if (!this.supports_binary) {\n",
       "        var warnings = document.getElementById(\"mpl-warnings\");\n",
       "        if (warnings) {\n",
       "            warnings.style.display = 'block';\n",
       "            warnings.textContent = (\n",
       "                \"This browser does not support binary websocket messages. \" +\n",
       "                    \"Performance may be slow.\");\n",
       "        }\n",
       "    }\n",
       "\n",
       "    this.imageObj = new Image();\n",
       "\n",
       "    this.context = undefined;\n",
       "    this.message = undefined;\n",
       "    this.canvas = undefined;\n",
       "    this.rubberband_canvas = undefined;\n",
       "    this.rubberband_context = undefined;\n",
       "    this.format_dropdown = undefined;\n",
       "\n",
       "    this.image_mode = 'full';\n",
       "\n",
       "    this.root = $('<div/>');\n",
       "    this._root_extra_style(this.root)\n",
       "    this.root.attr('style', 'display: inline-block');\n",
       "\n",
       "    $(parent_element).append(this.root);\n",
       "\n",
       "    this._init_header(this);\n",
       "    this._init_canvas(this);\n",
       "    this._init_toolbar(this);\n",
       "\n",
       "    var fig = this;\n",
       "\n",
       "    this.waiting = false;\n",
       "\n",
       "    this.ws.onopen =  function () {\n",
       "            fig.send_message(\"supports_binary\", {value: fig.supports_binary});\n",
       "            fig.send_message(\"send_image_mode\", {});\n",
       "            if (mpl.ratio != 1) {\n",
       "                fig.send_message(\"set_dpi_ratio\", {'dpi_ratio': mpl.ratio});\n",
       "            }\n",
       "            fig.send_message(\"refresh\", {});\n",
       "        }\n",
       "\n",
       "    this.imageObj.onload = function() {\n",
       "            if (fig.image_mode == 'full') {\n",
       "                // Full images could contain transparency (where diff images\n",
       "                // almost always do), so we need to clear the canvas so that\n",
       "                // there is no ghosting.\n",
       "                fig.context.clearRect(0, 0, fig.canvas.width, fig.canvas.height);\n",
       "            }\n",
       "            fig.context.drawImage(fig.imageObj, 0, 0);\n",
       "        };\n",
       "\n",
       "    this.imageObj.onunload = function() {\n",
       "        fig.ws.close();\n",
       "    }\n",
       "\n",
       "    this.ws.onmessage = this._make_on_message_function(this);\n",
       "\n",
       "    this.ondownload = ondownload;\n",
       "}\n",
       "\n",
       "mpl.figure.prototype._init_header = function() {\n",
       "    var titlebar = $(\n",
       "        '<div class=\"ui-dialog-titlebar ui-widget-header ui-corner-all ' +\n",
       "        'ui-helper-clearfix\"/>');\n",
       "    var titletext = $(\n",
       "        '<div class=\"ui-dialog-title\" style=\"width: 100%; ' +\n",
       "        'text-align: center; padding: 3px;\"/>');\n",
       "    titlebar.append(titletext)\n",
       "    this.root.append(titlebar);\n",
       "    this.header = titletext[0];\n",
       "}\n",
       "\n",
       "\n",
       "\n",
       "mpl.figure.prototype._canvas_extra_style = function(canvas_div) {\n",
       "\n",
       "}\n",
       "\n",
       "\n",
       "mpl.figure.prototype._root_extra_style = function(canvas_div) {\n",
       "\n",
       "}\n",
       "\n",
       "mpl.figure.prototype._init_canvas = function() {\n",
       "    var fig = this;\n",
       "\n",
       "    var canvas_div = $('<div/>');\n",
       "\n",
       "    canvas_div.attr('style', 'position: relative; clear: both; outline: 0');\n",
       "\n",
       "    function canvas_keyboard_event(event) {\n",
       "        return fig.key_event(event, event['data']);\n",
       "    }\n",
       "\n",
       "    canvas_div.keydown('key_press', canvas_keyboard_event);\n",
       "    canvas_div.keyup('key_release', canvas_keyboard_event);\n",
       "    this.canvas_div = canvas_div\n",
       "    this._canvas_extra_style(canvas_div)\n",
       "    this.root.append(canvas_div);\n",
       "\n",
       "    var canvas = $('<canvas/>');\n",
       "    canvas.addClass('mpl-canvas');\n",
       "    canvas.attr('style', \"left: 0; top: 0; z-index: 0; outline: 0\")\n",
       "\n",
       "    this.canvas = canvas[0];\n",
       "    this.context = canvas[0].getContext(\"2d\");\n",
       "\n",
       "    var backingStore = this.context.backingStorePixelRatio ||\n",
       "\tthis.context.webkitBackingStorePixelRatio ||\n",
       "\tthis.context.mozBackingStorePixelRatio ||\n",
       "\tthis.context.msBackingStorePixelRatio ||\n",
       "\tthis.context.oBackingStorePixelRatio ||\n",
       "\tthis.context.backingStorePixelRatio || 1;\n",
       "\n",
       "    mpl.ratio = (window.devicePixelRatio || 1) / backingStore;\n",
       "\n",
       "    var rubberband = $('<canvas/>');\n",
       "    rubberband.attr('style', \"position: absolute; left: 0; top: 0; z-index: 1;\")\n",
       "\n",
       "    var pass_mouse_events = true;\n",
       "\n",
       "    canvas_div.resizable({\n",
       "        start: function(event, ui) {\n",
       "            pass_mouse_events = false;\n",
       "        },\n",
       "        resize: function(event, ui) {\n",
       "            fig.request_resize(ui.size.width, ui.size.height);\n",
       "        },\n",
       "        stop: function(event, ui) {\n",
       "            pass_mouse_events = true;\n",
       "            fig.request_resize(ui.size.width, ui.size.height);\n",
       "        },\n",
       "    });\n",
       "\n",
       "    function mouse_event_fn(event) {\n",
       "        if (pass_mouse_events)\n",
       "            return fig.mouse_event(event, event['data']);\n",
       "    }\n",
       "\n",
       "    rubberband.mousedown('button_press', mouse_event_fn);\n",
       "    rubberband.mouseup('button_release', mouse_event_fn);\n",
       "    // Throttle sequential mouse events to 1 every 20ms.\n",
       "    rubberband.mousemove('motion_notify', mouse_event_fn);\n",
       "\n",
       "    rubberband.mouseenter('figure_enter', mouse_event_fn);\n",
       "    rubberband.mouseleave('figure_leave', mouse_event_fn);\n",
       "\n",
       "    canvas_div.on(\"wheel\", function (event) {\n",
       "        event = event.originalEvent;\n",
       "        event['data'] = 'scroll'\n",
       "        if (event.deltaY < 0) {\n",
       "            event.step = 1;\n",
       "        } else {\n",
       "            event.step = -1;\n",
       "        }\n",
       "        mouse_event_fn(event);\n",
       "    });\n",
       "\n",
       "    canvas_div.append(canvas);\n",
       "    canvas_div.append(rubberband);\n",
       "\n",
       "    this.rubberband = rubberband;\n",
       "    this.rubberband_canvas = rubberband[0];\n",
       "    this.rubberband_context = rubberband[0].getContext(\"2d\");\n",
       "    this.rubberband_context.strokeStyle = \"#000000\";\n",
       "\n",
       "    this._resize_canvas = function(width, height) {\n",
       "        // Keep the size of the canvas, canvas container, and rubber band\n",
       "        // canvas in synch.\n",
       "        canvas_div.css('width', width)\n",
       "        canvas_div.css('height', height)\n",
       "\n",
       "        canvas.attr('width', width * mpl.ratio);\n",
       "        canvas.attr('height', height * mpl.ratio);\n",
       "        canvas.attr('style', 'width: ' + width + 'px; height: ' + height + 'px;');\n",
       "\n",
       "        rubberband.attr('width', width);\n",
       "        rubberband.attr('height', height);\n",
       "    }\n",
       "\n",
       "    // Set the figure to an initial 600x600px, this will subsequently be updated\n",
       "    // upon first draw.\n",
       "    this._resize_canvas(600, 600);\n",
       "\n",
       "    // Disable right mouse context menu.\n",
       "    $(this.rubberband_canvas).bind(\"contextmenu\",function(e){\n",
       "        return false;\n",
       "    });\n",
       "\n",
       "    function set_focus () {\n",
       "        canvas.focus();\n",
       "        canvas_div.focus();\n",
       "    }\n",
       "\n",
       "    window.setTimeout(set_focus, 100);\n",
       "}\n",
       "\n",
       "mpl.figure.prototype._init_toolbar = function() {\n",
       "    var fig = this;\n",
       "\n",
       "    var nav_element = $('<div/>')\n",
       "    nav_element.attr('style', 'width: 100%');\n",
       "    this.root.append(nav_element);\n",
       "\n",
       "    // Define a callback function for later on.\n",
       "    function toolbar_event(event) {\n",
       "        return fig.toolbar_button_onclick(event['data']);\n",
       "    }\n",
       "    function toolbar_mouse_event(event) {\n",
       "        return fig.toolbar_button_onmouseover(event['data']);\n",
       "    }\n",
       "\n",
       "    for(var toolbar_ind in mpl.toolbar_items) {\n",
       "        var name = mpl.toolbar_items[toolbar_ind][0];\n",
       "        var tooltip = mpl.toolbar_items[toolbar_ind][1];\n",
       "        var image = mpl.toolbar_items[toolbar_ind][2];\n",
       "        var method_name = mpl.toolbar_items[toolbar_ind][3];\n",
       "\n",
       "        if (!name) {\n",
       "            // put a spacer in here.\n",
       "            continue;\n",
       "        }\n",
       "        var button = $('<button/>');\n",
       "        button.addClass('ui-button ui-widget ui-state-default ui-corner-all ' +\n",
       "                        'ui-button-icon-only');\n",
       "        button.attr('role', 'button');\n",
       "        button.attr('aria-disabled', 'false');\n",
       "        button.click(method_name, toolbar_event);\n",
       "        button.mouseover(tooltip, toolbar_mouse_event);\n",
       "\n",
       "        var icon_img = $('<span/>');\n",
       "        icon_img.addClass('ui-button-icon-primary ui-icon');\n",
       "        icon_img.addClass(image);\n",
       "        icon_img.addClass('ui-corner-all');\n",
       "\n",
       "        var tooltip_span = $('<span/>');\n",
       "        tooltip_span.addClass('ui-button-text');\n",
       "        tooltip_span.html(tooltip);\n",
       "\n",
       "        button.append(icon_img);\n",
       "        button.append(tooltip_span);\n",
       "\n",
       "        nav_element.append(button);\n",
       "    }\n",
       "\n",
       "    var fmt_picker_span = $('<span/>');\n",
       "\n",
       "    var fmt_picker = $('<select/>');\n",
       "    fmt_picker.addClass('mpl-toolbar-option ui-widget ui-widget-content');\n",
       "    fmt_picker_span.append(fmt_picker);\n",
       "    nav_element.append(fmt_picker_span);\n",
       "    this.format_dropdown = fmt_picker[0];\n",
       "\n",
       "    for (var ind in mpl.extensions) {\n",
       "        var fmt = mpl.extensions[ind];\n",
       "        var option = $(\n",
       "            '<option/>', {selected: fmt === mpl.default_extension}).html(fmt);\n",
       "        fmt_picker.append(option)\n",
       "    }\n",
       "\n",
       "    // Add hover states to the ui-buttons\n",
       "    $( \".ui-button\" ).hover(\n",
       "        function() { $(this).addClass(\"ui-state-hover\");},\n",
       "        function() { $(this).removeClass(\"ui-state-hover\");}\n",
       "    );\n",
       "\n",
       "    var status_bar = $('<span class=\"mpl-message\"/>');\n",
       "    nav_element.append(status_bar);\n",
       "    this.message = status_bar[0];\n",
       "}\n",
       "\n",
       "mpl.figure.prototype.request_resize = function(x_pixels, y_pixels) {\n",
       "    // Request matplotlib to resize the figure. Matplotlib will then trigger a resize in the client,\n",
       "    // which will in turn request a refresh of the image.\n",
       "    this.send_message('resize', {'width': x_pixels, 'height': y_pixels});\n",
       "}\n",
       "\n",
       "mpl.figure.prototype.send_message = function(type, properties) {\n",
       "    properties['type'] = type;\n",
       "    properties['figure_id'] = this.id;\n",
       "    this.ws.send(JSON.stringify(properties));\n",
       "}\n",
       "\n",
       "mpl.figure.prototype.send_draw_message = function() {\n",
       "    if (!this.waiting) {\n",
       "        this.waiting = true;\n",
       "        this.ws.send(JSON.stringify({type: \"draw\", figure_id: this.id}));\n",
       "    }\n",
       "}\n",
       "\n",
       "\n",
       "mpl.figure.prototype.handle_save = function(fig, msg) {\n",
       "    var format_dropdown = fig.format_dropdown;\n",
       "    var format = format_dropdown.options[format_dropdown.selectedIndex].value;\n",
       "    fig.ondownload(fig, format);\n",
       "}\n",
       "\n",
       "\n",
       "mpl.figure.prototype.handle_resize = function(fig, msg) {\n",
       "    var size = msg['size'];\n",
       "    if (size[0] != fig.canvas.width || size[1] != fig.canvas.height) {\n",
       "        fig._resize_canvas(size[0], size[1]);\n",
       "        fig.send_message(\"refresh\", {});\n",
       "    };\n",
       "}\n",
       "\n",
       "mpl.figure.prototype.handle_rubberband = function(fig, msg) {\n",
       "    var x0 = msg['x0'] / mpl.ratio;\n",
       "    var y0 = (fig.canvas.height - msg['y0']) / mpl.ratio;\n",
       "    var x1 = msg['x1'] / mpl.ratio;\n",
       "    var y1 = (fig.canvas.height - msg['y1']) / mpl.ratio;\n",
       "    x0 = Math.floor(x0) + 0.5;\n",
       "    y0 = Math.floor(y0) + 0.5;\n",
       "    x1 = Math.floor(x1) + 0.5;\n",
       "    y1 = Math.floor(y1) + 0.5;\n",
       "    var min_x = Math.min(x0, x1);\n",
       "    var min_y = Math.min(y0, y1);\n",
       "    var width = Math.abs(x1 - x0);\n",
       "    var height = Math.abs(y1 - y0);\n",
       "\n",
       "    fig.rubberband_context.clearRect(\n",
       "        0, 0, fig.canvas.width, fig.canvas.height);\n",
       "\n",
       "    fig.rubberband_context.strokeRect(min_x, min_y, width, height);\n",
       "}\n",
       "\n",
       "mpl.figure.prototype.handle_figure_label = function(fig, msg) {\n",
       "    // Updates the figure title.\n",
       "    fig.header.textContent = msg['label'];\n",
       "}\n",
       "\n",
       "mpl.figure.prototype.handle_cursor = function(fig, msg) {\n",
       "    var cursor = msg['cursor'];\n",
       "    switch(cursor)\n",
       "    {\n",
       "    case 0:\n",
       "        cursor = 'pointer';\n",
       "        break;\n",
       "    case 1:\n",
       "        cursor = 'default';\n",
       "        break;\n",
       "    case 2:\n",
       "        cursor = 'crosshair';\n",
       "        break;\n",
       "    case 3:\n",
       "        cursor = 'move';\n",
       "        break;\n",
       "    }\n",
       "    fig.rubberband_canvas.style.cursor = cursor;\n",
       "}\n",
       "\n",
       "mpl.figure.prototype.handle_message = function(fig, msg) {\n",
       "    fig.message.textContent = msg['message'];\n",
       "}\n",
       "\n",
       "mpl.figure.prototype.handle_draw = function(fig, msg) {\n",
       "    // Request the server to send over a new figure.\n",
       "    fig.send_draw_message();\n",
       "}\n",
       "\n",
       "mpl.figure.prototype.handle_image_mode = function(fig, msg) {\n",
       "    fig.image_mode = msg['mode'];\n",
       "}\n",
       "\n",
       "mpl.figure.prototype.updated_canvas_event = function() {\n",
       "    // Called whenever the canvas gets updated.\n",
       "    this.send_message(\"ack\", {});\n",
       "}\n",
       "\n",
       "// A function to construct a web socket function for onmessage handling.\n",
       "// Called in the figure constructor.\n",
       "mpl.figure.prototype._make_on_message_function = function(fig) {\n",
       "    return function socket_on_message(evt) {\n",
       "        if (evt.data instanceof Blob) {\n",
       "            /* FIXME: We get \"Resource interpreted as Image but\n",
       "             * transferred with MIME type text/plain:\" errors on\n",
       "             * Chrome.  But how to set the MIME type?  It doesn't seem\n",
       "             * to be part of the websocket stream */\n",
       "            evt.data.type = \"image/png\";\n",
       "\n",
       "            /* Free the memory for the previous frames */\n",
       "            if (fig.imageObj.src) {\n",
       "                (window.URL || window.webkitURL).revokeObjectURL(\n",
       "                    fig.imageObj.src);\n",
       "            }\n",
       "\n",
       "            fig.imageObj.src = (window.URL || window.webkitURL).createObjectURL(\n",
       "                evt.data);\n",
       "            fig.updated_canvas_event();\n",
       "            fig.waiting = false;\n",
       "            return;\n",
       "        }\n",
       "        else if (typeof evt.data === 'string' && evt.data.slice(0, 21) == \"data:image/png;base64\") {\n",
       "            fig.imageObj.src = evt.data;\n",
       "            fig.updated_canvas_event();\n",
       "            fig.waiting = false;\n",
       "            return;\n",
       "        }\n",
       "\n",
       "        var msg = JSON.parse(evt.data);\n",
       "        var msg_type = msg['type'];\n",
       "\n",
       "        // Call the  \"handle_{type}\" callback, which takes\n",
       "        // the figure and JSON message as its only arguments.\n",
       "        try {\n",
       "            var callback = fig[\"handle_\" + msg_type];\n",
       "        } catch (e) {\n",
       "            console.log(\"No handler for the '\" + msg_type + \"' message type: \", msg);\n",
       "            return;\n",
       "        }\n",
       "\n",
       "        if (callback) {\n",
       "            try {\n",
       "                // console.log(\"Handling '\" + msg_type + \"' message: \", msg);\n",
       "                callback(fig, msg);\n",
       "            } catch (e) {\n",
       "                console.log(\"Exception inside the 'handler_\" + msg_type + \"' callback:\", e, e.stack, msg);\n",
       "            }\n",
       "        }\n",
       "    };\n",
       "}\n",
       "\n",
       "// from http://stackoverflow.com/questions/1114465/getting-mouse-location-in-canvas\n",
       "mpl.findpos = function(e) {\n",
       "    //this section is from http://www.quirksmode.org/js/events_properties.html\n",
       "    var targ;\n",
       "    if (!e)\n",
       "        e = window.event;\n",
       "    if (e.target)\n",
       "        targ = e.target;\n",
       "    else if (e.srcElement)\n",
       "        targ = e.srcElement;\n",
       "    if (targ.nodeType == 3) // defeat Safari bug\n",
       "        targ = targ.parentNode;\n",
       "\n",
       "    // jQuery normalizes the pageX and pageY\n",
       "    // pageX,Y are the mouse positions relative to the document\n",
       "    // offset() returns the position of the element relative to the document\n",
       "    var x = e.pageX - $(targ).offset().left;\n",
       "    var y = e.pageY - $(targ).offset().top;\n",
       "\n",
       "    return {\"x\": x, \"y\": y};\n",
       "};\n",
       "\n",
       "/*\n",
       " * return a copy of an object with only non-object keys\n",
       " * we need this to avoid circular references\n",
       " * http://stackoverflow.com/a/24161582/3208463\n",
       " */\n",
       "function simpleKeys (original) {\n",
       "  return Object.keys(original).reduce(function (obj, key) {\n",
       "    if (typeof original[key] !== 'object')\n",
       "        obj[key] = original[key]\n",
       "    return obj;\n",
       "  }, {});\n",
       "}\n",
       "\n",
       "mpl.figure.prototype.mouse_event = function(event, name) {\n",
       "    var canvas_pos = mpl.findpos(event)\n",
       "\n",
       "    if (name === 'button_press')\n",
       "    {\n",
       "        this.canvas.focus();\n",
       "        this.canvas_div.focus();\n",
       "    }\n",
       "\n",
       "    var x = canvas_pos.x * mpl.ratio;\n",
       "    var y = canvas_pos.y * mpl.ratio;\n",
       "\n",
       "    this.send_message(name, {x: x, y: y, button: event.button,\n",
       "                             step: event.step,\n",
       "                             guiEvent: simpleKeys(event)});\n",
       "\n",
       "    /* This prevents the web browser from automatically changing to\n",
       "     * the text insertion cursor when the button is pressed.  We want\n",
       "     * to control all of the cursor setting manually through the\n",
       "     * 'cursor' event from matplotlib */\n",
       "    event.preventDefault();\n",
       "    return false;\n",
       "}\n",
       "\n",
       "mpl.figure.prototype._key_event_extra = function(event, name) {\n",
       "    // Handle any extra behaviour associated with a key event\n",
       "}\n",
       "\n",
       "mpl.figure.prototype.key_event = function(event, name) {\n",
       "\n",
       "    // Prevent repeat events\n",
       "    if (name == 'key_press')\n",
       "    {\n",
       "        if (event.which === this._key)\n",
       "            return;\n",
       "        else\n",
       "            this._key = event.which;\n",
       "    }\n",
       "    if (name == 'key_release')\n",
       "        this._key = null;\n",
       "\n",
       "    var value = '';\n",
       "    if (event.ctrlKey && event.which != 17)\n",
       "        value += \"ctrl+\";\n",
       "    if (event.altKey && event.which != 18)\n",
       "        value += \"alt+\";\n",
       "    if (event.shiftKey && event.which != 16)\n",
       "        value += \"shift+\";\n",
       "\n",
       "    value += 'k';\n",
       "    value += event.which.toString();\n",
       "\n",
       "    this._key_event_extra(event, name);\n",
       "\n",
       "    this.send_message(name, {key: value,\n",
       "                             guiEvent: simpleKeys(event)});\n",
       "    return false;\n",
       "}\n",
       "\n",
       "mpl.figure.prototype.toolbar_button_onclick = function(name) {\n",
       "    if (name == 'download') {\n",
       "        this.handle_save(this, null);\n",
       "    } else {\n",
       "        this.send_message(\"toolbar_button\", {name: name});\n",
       "    }\n",
       "};\n",
       "\n",
       "mpl.figure.prototype.toolbar_button_onmouseover = function(tooltip) {\n",
       "    this.message.textContent = tooltip;\n",
       "};\n",
       "mpl.toolbar_items = [[\"Home\", \"Reset original view\", \"fa fa-home icon-home\", \"home\"], [\"Back\", \"Back to  previous view\", \"fa fa-arrow-left icon-arrow-left\", \"back\"], [\"Forward\", \"Forward to next view\", \"fa fa-arrow-right icon-arrow-right\", \"forward\"], [\"\", \"\", \"\", \"\"], [\"Pan\", \"Pan axes with left mouse, zoom with right\", \"fa fa-arrows icon-move\", \"pan\"], [\"Zoom\", \"Zoom to rectangle\", \"fa fa-square-o icon-check-empty\", \"zoom\"], [\"\", \"\", \"\", \"\"], [\"Download\", \"Download plot\", \"fa fa-floppy-o icon-save\", \"download\"]];\n",
       "\n",
       "mpl.extensions = [\"eps\", \"jpeg\", \"pdf\", \"png\", \"ps\", \"raw\", \"svg\", \"tif\"];\n",
       "\n",
       "mpl.default_extension = \"png\";var comm_websocket_adapter = function(comm) {\n",
       "    // Create a \"websocket\"-like object which calls the given IPython comm\n",
       "    // object with the appropriate methods. Currently this is a non binary\n",
       "    // socket, so there is still some room for performance tuning.\n",
       "    var ws = {};\n",
       "\n",
       "    ws.close = function() {\n",
       "        comm.close()\n",
       "    };\n",
       "    ws.send = function(m) {\n",
       "        //console.log('sending', m);\n",
       "        comm.send(m);\n",
       "    };\n",
       "    // Register the callback with on_msg.\n",
       "    comm.on_msg(function(msg) {\n",
       "        //console.log('receiving', msg['content']['data'], msg);\n",
       "        // Pass the mpl event to the overridden (by mpl) onmessage function.\n",
       "        ws.onmessage(msg['content']['data'])\n",
       "    });\n",
       "    return ws;\n",
       "}\n",
       "\n",
       "mpl.mpl_figure_comm = function(comm, msg) {\n",
       "    // This is the function which gets called when the mpl process\n",
       "    // starts-up an IPython Comm through the \"matplotlib\" channel.\n",
       "\n",
       "    var id = msg.content.data.id;\n",
       "    // Get hold of the div created by the display call when the Comm\n",
       "    // socket was opened in Python.\n",
       "    var element = $(\"#\" + id);\n",
       "    var ws_proxy = comm_websocket_adapter(comm)\n",
       "\n",
       "    function ondownload(figure, format) {\n",
       "        window.open(figure.imageObj.src);\n",
       "    }\n",
       "\n",
       "    var fig = new mpl.figure(id, ws_proxy,\n",
       "                           ondownload,\n",
       "                           element.get(0));\n",
       "\n",
       "    // Call onopen now - mpl needs it, as it is assuming we've passed it a real\n",
       "    // web socket which is closed, not our websocket->open comm proxy.\n",
       "    ws_proxy.onopen();\n",
       "\n",
       "    fig.parent_element = element.get(0);\n",
       "    fig.cell_info = mpl.find_output_cell(\"<div id='\" + id + \"'></div>\");\n",
       "    if (!fig.cell_info) {\n",
       "        console.error(\"Failed to find cell for figure\", id, fig);\n",
       "        return;\n",
       "    }\n",
       "\n",
       "    var output_index = fig.cell_info[2]\n",
       "    var cell = fig.cell_info[0];\n",
       "\n",
       "};\n",
       "\n",
       "mpl.figure.prototype.handle_close = function(fig, msg) {\n",
       "    var width = fig.canvas.width/mpl.ratio\n",
       "    fig.root.unbind('remove')\n",
       "\n",
       "    // Update the output cell to use the data from the current canvas.\n",
       "    fig.push_to_output();\n",
       "    var dataURL = fig.canvas.toDataURL();\n",
       "    // Re-enable the keyboard manager in IPython - without this line, in FF,\n",
       "    // the notebook keyboard shortcuts fail.\n",
       "    IPython.keyboard_manager.enable()\n",
       "    $(fig.parent_element).html('<img src=\"' + dataURL + '\" width=\"' + width + '\">');\n",
       "    fig.close_ws(fig, msg);\n",
       "}\n",
       "\n",
       "mpl.figure.prototype.close_ws = function(fig, msg){\n",
       "    fig.send_message('closing', msg);\n",
       "    // fig.ws.close()\n",
       "}\n",
       "\n",
       "mpl.figure.prototype.push_to_output = function(remove_interactive) {\n",
       "    // Turn the data on the canvas into data in the output cell.\n",
       "    var width = this.canvas.width/mpl.ratio\n",
       "    var dataURL = this.canvas.toDataURL();\n",
       "    this.cell_info[1]['text/html'] = '<img src=\"' + dataURL + '\" width=\"' + width + '\">';\n",
       "}\n",
       "\n",
       "mpl.figure.prototype.updated_canvas_event = function() {\n",
       "    // Tell IPython that the notebook contents must change.\n",
       "    IPython.notebook.set_dirty(true);\n",
       "    this.send_message(\"ack\", {});\n",
       "    var fig = this;\n",
       "    // Wait a second, then push the new image to the DOM so\n",
       "    // that it is saved nicely (might be nice to debounce this).\n",
       "    setTimeout(function () { fig.push_to_output() }, 1000);\n",
       "}\n",
       "\n",
       "mpl.figure.prototype._init_toolbar = function() {\n",
       "    var fig = this;\n",
       "\n",
       "    var nav_element = $('<div/>')\n",
       "    nav_element.attr('style', 'width: 100%');\n",
       "    this.root.append(nav_element);\n",
       "\n",
       "    // Define a callback function for later on.\n",
       "    function toolbar_event(event) {\n",
       "        return fig.toolbar_button_onclick(event['data']);\n",
       "    }\n",
       "    function toolbar_mouse_event(event) {\n",
       "        return fig.toolbar_button_onmouseover(event['data']);\n",
       "    }\n",
       "\n",
       "    for(var toolbar_ind in mpl.toolbar_items){\n",
       "        var name = mpl.toolbar_items[toolbar_ind][0];\n",
       "        var tooltip = mpl.toolbar_items[toolbar_ind][1];\n",
       "        var image = mpl.toolbar_items[toolbar_ind][2];\n",
       "        var method_name = mpl.toolbar_items[toolbar_ind][3];\n",
       "\n",
       "        if (!name) { continue; };\n",
       "\n",
       "        var button = $('<button class=\"btn btn-default\" href=\"#\" title=\"' + name + '\"><i class=\"fa ' + image + ' fa-lg\"></i></button>');\n",
       "        button.click(method_name, toolbar_event);\n",
       "        button.mouseover(tooltip, toolbar_mouse_event);\n",
       "        nav_element.append(button);\n",
       "    }\n",
       "\n",
       "    // Add the status bar.\n",
       "    var status_bar = $('<span class=\"mpl-message\" style=\"text-align:right; float: right;\"/>');\n",
       "    nav_element.append(status_bar);\n",
       "    this.message = status_bar[0];\n",
       "\n",
       "    // Add the close button to the window.\n",
       "    var buttongrp = $('<div class=\"btn-group inline pull-right\"></div>');\n",
       "    var button = $('<button class=\"btn btn-mini btn-primary\" href=\"#\" title=\"Stop Interaction\"><i class=\"fa fa-power-off icon-remove icon-large\"></i></button>');\n",
       "    button.click(function (evt) { fig.handle_close(fig, {}); } );\n",
       "    button.mouseover('Stop Interaction', toolbar_mouse_event);\n",
       "    buttongrp.append(button);\n",
       "    var titlebar = this.root.find($('.ui-dialog-titlebar'));\n",
       "    titlebar.prepend(buttongrp);\n",
       "}\n",
       "\n",
       "mpl.figure.prototype._root_extra_style = function(el){\n",
       "    var fig = this\n",
       "    el.on(\"remove\", function(){\n",
       "\tfig.close_ws(fig, {});\n",
       "    });\n",
       "}\n",
       "\n",
       "mpl.figure.prototype._canvas_extra_style = function(el){\n",
       "    // this is important to make the div 'focusable\n",
       "    el.attr('tabindex', 0)\n",
       "    // reach out to IPython and tell the keyboard manager to turn it's self\n",
       "    // off when our div gets focus\n",
       "\n",
       "    // location in version 3\n",
       "    if (IPython.notebook.keyboard_manager) {\n",
       "        IPython.notebook.keyboard_manager.register_events(el);\n",
       "    }\n",
       "    else {\n",
       "        // location in version 2\n",
       "        IPython.keyboard_manager.register_events(el);\n",
       "    }\n",
       "\n",
       "}\n",
       "\n",
       "mpl.figure.prototype._key_event_extra = function(event, name) {\n",
       "    var manager = IPython.notebook.keyboard_manager;\n",
       "    if (!manager)\n",
       "        manager = IPython.keyboard_manager;\n",
       "\n",
       "    // Check for shift+enter\n",
       "    if (event.shiftKey && event.which == 13) {\n",
       "        this.canvas_div.blur();\n",
       "        event.shiftKey = false;\n",
       "        // Send a \"J\" for go to next cell\n",
       "        event.which = 74;\n",
       "        event.keyCode = 74;\n",
       "        manager.command_mode();\n",
       "        manager.handle_keydown(event);\n",
       "    }\n",
       "}\n",
       "\n",
       "mpl.figure.prototype.handle_save = function(fig, msg) {\n",
       "    fig.ondownload(fig, null);\n",
       "}\n",
       "\n",
       "\n",
       "mpl.find_output_cell = function(html_output) {\n",
       "    // Return the cell and output element which can be found *uniquely* in the notebook.\n",
       "    // Note - this is a bit hacky, but it is done because the \"notebook_saving.Notebook\"\n",
       "    // IPython event is triggered only after the cells have been serialised, which for\n",
       "    // our purposes (turning an active figure into a static one), is too late.\n",
       "    var cells = IPython.notebook.get_cells();\n",
       "    var ncells = cells.length;\n",
       "    for (var i=0; i<ncells; i++) {\n",
       "        var cell = cells[i];\n",
       "        if (cell.cell_type === 'code'){\n",
       "            for (var j=0; j<cell.output_area.outputs.length; j++) {\n",
       "                var data = cell.output_area.outputs[j];\n",
       "                if (data.data) {\n",
       "                    // IPython >= 3 moved mimebundle to data attribute of output\n",
       "                    data = data.data;\n",
       "                }\n",
       "                if (data['text/html'] == html_output) {\n",
       "                    return [cell, data, j];\n",
       "                }\n",
       "            }\n",
       "        }\n",
       "    }\n",
       "}\n",
       "\n",
       "// Register the function which deals with the matplotlib target/channel.\n",
       "// The kernel may be null if the page has been refreshed.\n",
       "if (IPython.notebook.kernel != null) {\n",
       "    IPython.notebook.kernel.comm_manager.register_target('matplotlib', mpl.mpl_figure_comm);\n",
       "}\n"
      ],
      "text/plain": [
       "<IPython.core.display.Javascript object>"
      ]
     },
     "metadata": {},
     "output_type": "display_data"
    },
    {
     "data": {
      "text/html": [
       "<img src=\"data:image/png;base64,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\" width=\"900\">"
      ],
      "text/plain": [
       "<IPython.core.display.HTML object>"
      ]
     },
     "metadata": {},
     "output_type": "display_data"
    },
    {
     "data": {
      "application/vnd.jupyter.widget-view+json": {
       "model_id": "fc64a6ccd7254302a99c760a06367fb9",
       "version_major": 2,
       "version_minor": 0
      },
      "text/plain": [
       "HBox(children=(IntRangeSlider(value=(16383, 49151), layout=Layout(width='75%'), max=65535), Button(description…"
      ]
     },
     "metadata": {},
     "output_type": "display_data"
    }
   ],
   "source": [
    "%matplotlib notebook\n",
    "tr.set_bead_loc_opts(Path(\"beads\", \"beads_\\d+_.SPE\"))"
   ]
  },
  {
   "cell_type": "code",
   "execution_count": 6,
   "metadata": {
    "scrolled": false
   },
   "outputs": [
    {
     "data": {
      "application/vnd.jupyter.widget-view+json": {
       "model_id": "856dc878c4b947268823882ad0e609a1",
       "version_major": 2,
       "version_minor": 0
      },
      "text/plain": [
       "Label(value='Starting…')"
      ]
     },
     "metadata": {},
     "output_type": "display_data"
    },
    {
     "data": {
      "image/png": "[encoded data removed]",
      "text/plain": [
       "<Figure size 432x288 with 2 Axes>"
      ]
     },
     "metadata": {},
     "output_type": "display_data"
    }
   ],
   "source": [
    "%matplotlib inline\n",
    "tr.make_chromatic()"
   ]
  },
  {
   "cell_type": "code",
   "execution_count": 7,
   "metadata": {},
   "outputs": [],
   "source": [
    "tr.add_dataset(\"sc\", Path(\"sensor-H57\", r\"cells-(\\d{2})_SAv-100k_SSS-H57-20k_(\\d{3})_.SPE\"))\n",
    "tr.add_dataset(\"sn\", Path(\"sensor-H57\", r\"no-cells_SAv-100k_SSS-H57-20k_(\\d{3})_.SPE\"))\n",
    "tr.add_dataset(\"cc\", Path(\"ctrl-H57\", r\"cells-(\\d{2})_SAv-100k_SSS-ctrl-H57-50k_(\\d{3})_.SPE\"))\n",
    "tr.add_dataset(\"cn\", Path(\"ctrl-H57\", r\"no-cells_SAv-100k_SSS-ctrl-H57-50k_(\\d{3})_.SPE\"))"
   ]
  },
  {
   "cell_type": "code",
   "execution_count": 8,
   "metadata": {
    "scrolled": false
   },
   "outputs": [
    {
     "data": {
      "application/vnd.jupyter.widget-view+json": {
       "model_id": "6846a9079f8b4bf0a326f59bbef4b496",
       "version_major": 2,
       "version_minor": 0
      },
      "text/plain": [
       "HBox(children=(VBox(children=(Select(layout=Layout(width='auto'), options=('sensor-H57/cells-01_SAv-100k_SSS-H…"
      ]
     },
     "metadata": {},
     "output_type": "display_data"
    },
    {
     "data": {
      "application/javascript": [
       "/* Put everything inside the global mpl namespace */\n",
       "window.mpl = {};\n",
       "\n",
       "\n",
       "mpl.get_websocket_type = function() {\n",
       "    if (typeof(WebSocket) !== 'undefined') {\n",
       "        return WebSocket;\n",
       "    } else if (typeof(MozWebSocket) !== 'undefined') {\n",
       "        return MozWebSocket;\n",
       "    } else {\n",
       "        alert('Your browser does not have WebSocket support.' +\n",
       "              'Please try Chrome, Safari or Firefox ≥ 6. ' +\n",
       "              'Firefox 4 and 5 are also supported but you ' +\n",
       "              'have to enable WebSockets in about:config.');\n",
       "    };\n",
       "}\n",
       "\n",
       "mpl.figure = function(figure_id, websocket, ondownload, parent_element) {\n",
       "    this.id = figure_id;\n",
       "\n",
       "    this.ws = websocket;\n",
       "\n",
       "    this.supports_binary = (this.ws.binaryType != undefined);\n",
       "\n",
       "    if (!this.supports_binary) {\n",
       "        var warnings = document.getElementById(\"mpl-warnings\");\n",
       "        if (warnings) {\n",
       "            warnings.style.display = 'block';\n",
       "            warnings.textContent = (\n",
       "                \"This browser does not support binary websocket messages. \" +\n",
       "                    \"Performance may be slow.\");\n",
       "        }\n",
       "    }\n",
       "\n",
       "    this.imageObj = new Image();\n",
       "\n",
       "    this.context = undefined;\n",
       "    this.message = undefined;\n",
       "    this.canvas = undefined;\n",
       "    this.rubberband_canvas = undefined;\n",
       "    this.rubberband_context = undefined;\n",
       "    this.format_dropdown = undefined;\n",
       "\n",
       "    this.image_mode = 'full';\n",
       "\n",
       "    this.root = $('<div/>');\n",
       "    this._root_extra_style(this.root)\n",
       "    this.root.attr('style', 'display: inline-block');\n",
       "\n",
       "    $(parent_element).append(this.root);\n",
       "\n",
       "    this._init_header(this);\n",
       "    this._init_canvas(this);\n",
       "    this._init_toolbar(this);\n",
       "\n",
       "    var fig = this;\n",
       "\n",
       "    this.waiting = false;\n",
       "\n",
       "    this.ws.onopen =  function () {\n",
       "            fig.send_message(\"supports_binary\", {value: fig.supports_binary});\n",
       "            fig.send_message(\"send_image_mode\", {});\n",
       "            if (mpl.ratio != 1) {\n",
       "                fig.send_message(\"set_dpi_ratio\", {'dpi_ratio': mpl.ratio});\n",
       "            }\n",
       "            fig.send_message(\"refresh\", {});\n",
       "        }\n",
       "\n",
       "    this.imageObj.onload = function() {\n",
       "            if (fig.image_mode == 'full') {\n",
       "                // Full images could contain transparency (where diff images\n",
       "                // almost always do), so we need to clear the canvas so that\n",
       "                // there is no ghosting.\n",
       "                fig.context.clearRect(0, 0, fig.canvas.width, fig.canvas.height);\n",
       "            }\n",
       "            fig.context.drawImage(fig.imageObj, 0, 0);\n",
       "        };\n",
       "\n",
       "    this.imageObj.onunload = function() {\n",
       "        fig.ws.close();\n",
       "    }\n",
       "\n",
       "    this.ws.onmessage = this._make_on_message_function(this);\n",
       "\n",
       "    this.ondownload = ondownload;\n",
       "}\n",
       "\n",
       "mpl.figure.prototype._init_header = function() {\n",
       "    var titlebar = $(\n",
       "        '<div class=\"ui-dialog-titlebar ui-widget-header ui-corner-all ' +\n",
       "        'ui-helper-clearfix\"/>');\n",
       "    var titletext = $(\n",
       "        '<div class=\"ui-dialog-title\" style=\"width: 100%; ' +\n",
       "        'text-align: center; padding: 3px;\"/>');\n",
       "    titlebar.append(titletext)\n",
       "    this.root.append(titlebar);\n",
       "    this.header = titletext[0];\n",
       "}\n",
       "\n",
       "\n",
       "\n",
       "mpl.figure.prototype._canvas_extra_style = function(canvas_div) {\n",
       "\n",
       "}\n",
       "\n",
       "\n",
       "mpl.figure.prototype._root_extra_style = function(canvas_div) {\n",
       "\n",
       "}\n",
       "\n",
       "mpl.figure.prototype._init_canvas = function() {\n",
       "    var fig = this;\n",
       "\n",
       "    var canvas_div = $('<div/>');\n",
       "\n",
       "    canvas_div.attr('style', 'position: relative; clear: both; outline: 0');\n",
       "\n",
       "    function canvas_keyboard_event(event) {\n",
       "        return fig.key_event(event, event['data']);\n",
       "    }\n",
       "\n",
       "    canvas_div.keydown('key_press', canvas_keyboard_event);\n",
       "    canvas_div.keyup('key_release', canvas_keyboard_event);\n",
       "    this.canvas_div = canvas_div\n",
       "    this._canvas_extra_style(canvas_div)\n",
       "    this.root.append(canvas_div);\n",
       "\n",
       "    var canvas = $('<canvas/>');\n",
       "    canvas.addClass('mpl-canvas');\n",
       "    canvas.attr('style', \"left: 0; top: 0; z-index: 0; outline: 0\")\n",
       "\n",
       "    this.canvas = canvas[0];\n",
       "    this.context = canvas[0].getContext(\"2d\");\n",
       "\n",
       "    var backingStore = this.context.backingStorePixelRatio ||\n",
       "\tthis.context.webkitBackingStorePixelRatio ||\n",
       "\tthis.context.mozBackingStorePixelRatio ||\n",
       "\tthis.context.msBackingStorePixelRatio ||\n",
       "\tthis.context.oBackingStorePixelRatio ||\n",
       "\tthis.context.backingStorePixelRatio || 1;\n",
       "\n",
       "    mpl.ratio = (window.devicePixelRatio || 1) / backingStore;\n",
       "\n",
       "    var rubberband = $('<canvas/>');\n",
       "    rubberband.attr('style', \"position: absolute; left: 0; top: 0; z-index: 1;\")\n",
       "\n",
       "    var pass_mouse_events = true;\n",
       "\n",
       "    canvas_div.resizable({\n",
       "        start: function(event, ui) {\n",
       "            pass_mouse_events = false;\n",
       "        },\n",
       "        resize: function(event, ui) {\n",
       "            fig.request_resize(ui.size.width, ui.size.height);\n",
       "        },\n",
       "        stop: function(event, ui) {\n",
       "            pass_mouse_events = true;\n",
       "            fig.request_resize(ui.size.width, ui.size.height);\n",
       "        },\n",
       "    });\n",
       "\n",
       "    function mouse_event_fn(event) {\n",
       "        if (pass_mouse_events)\n",
       "            return fig.mouse_event(event, event['data']);\n",
       "    }\n",
       "\n",
       "    rubberband.mousedown('button_press', mouse_event_fn);\n",
       "    rubberband.mouseup('button_release', mouse_event_fn);\n",
       "    // Throttle sequential mouse events to 1 every 20ms.\n",
       "    rubberband.mousemove('motion_notify', mouse_event_fn);\n",
       "\n",
       "    rubberband.mouseenter('figure_enter', mouse_event_fn);\n",
       "    rubberband.mouseleave('figure_leave', mouse_event_fn);\n",
       "\n",
       "    canvas_div.on(\"wheel\", function (event) {\n",
       "        event = event.originalEvent;\n",
       "        event['data'] = 'scroll'\n",
       "        if (event.deltaY < 0) {\n",
       "            event.step = 1;\n",
       "        } else {\n",
       "            event.step = -1;\n",
       "        }\n",
       "        mouse_event_fn(event);\n",
       "    });\n",
       "\n",
       "    canvas_div.append(canvas);\n",
       "    canvas_div.append(rubberband);\n",
       "\n",
       "    this.rubberband = rubberband;\n",
       "    this.rubberband_canvas = rubberband[0];\n",
       "    this.rubberband_context = rubberband[0].getContext(\"2d\");\n",
       "    this.rubberband_context.strokeStyle = \"#000000\";\n",
       "\n",
       "    this._resize_canvas = function(width, height) {\n",
       "        // Keep the size of the canvas, canvas container, and rubber band\n",
       "        // canvas in synch.\n",
       "        canvas_div.css('width', width)\n",
       "        canvas_div.css('height', height)\n",
       "\n",
       "        canvas.attr('width', width * mpl.ratio);\n",
       "        canvas.attr('height', height * mpl.ratio);\n",
       "        canvas.attr('style', 'width: ' + width + 'px; height: ' + height + 'px;');\n",
       "\n",
       "        rubberband.attr('width', width);\n",
       "        rubberband.attr('height', height);\n",
       "    }\n",
       "\n",
       "    // Set the figure to an initial 600x600px, this will subsequently be updated\n",
       "    // upon first draw.\n",
       "    this._resize_canvas(600, 600);\n",
       "\n",
       "    // Disable right mouse context menu.\n",
       "    $(this.rubberband_canvas).bind(\"contextmenu\",function(e){\n",
       "        return false;\n",
       "    });\n",
       "\n",
       "    function set_focus () {\n",
       "        canvas.focus();\n",
       "        canvas_div.focus();\n",
       "    }\n",
       "\n",
       "    window.setTimeout(set_focus, 100);\n",
       "}\n",
       "\n",
       "mpl.figure.prototype._init_toolbar = function() {\n",
       "    var fig = this;\n",
       "\n",
       "    var nav_element = $('<div/>')\n",
       "    nav_element.attr('style', 'width: 100%');\n",
       "    this.root.append(nav_element);\n",
       "\n",
       "    // Define a callback function for later on.\n",
       "    function toolbar_event(event) {\n",
       "        return fig.toolbar_button_onclick(event['data']);\n",
       "    }\n",
       "    function toolbar_mouse_event(event) {\n",
       "        return fig.toolbar_button_onmouseover(event['data']);\n",
       "    }\n",
       "\n",
       "    for(var toolbar_ind in mpl.toolbar_items) {\n",
       "        var name = mpl.toolbar_items[toolbar_ind][0];\n",
       "        var tooltip = mpl.toolbar_items[toolbar_ind][1];\n",
       "        var image = mpl.toolbar_items[toolbar_ind][2];\n",
       "        var method_name = mpl.toolbar_items[toolbar_ind][3];\n",
       "\n",
       "        if (!name) {\n",
       "            // put a spacer in here.\n",
       "            continue;\n",
       "        }\n",
       "        var button = $('<button/>');\n",
       "        button.addClass('ui-button ui-widget ui-state-default ui-corner-all ' +\n",
       "                        'ui-button-icon-only');\n",
       "        button.attr('role', 'button');\n",
       "        button.attr('aria-disabled', 'false');\n",
       "        button.click(method_name, toolbar_event);\n",
       "        button.mouseover(tooltip, toolbar_mouse_event);\n",
       "\n",
       "        var icon_img = $('<span/>');\n",
       "        icon_img.addClass('ui-button-icon-primary ui-icon');\n",
       "        icon_img.addClass(image);\n",
       "        icon_img.addClass('ui-corner-all');\n",
       "\n",
       "        var tooltip_span = $('<span/>');\n",
       "        tooltip_span.addClass('ui-button-text');\n",
       "        tooltip_span.html(tooltip);\n",
       "\n",
       "        button.append(icon_img);\n",
       "        button.append(tooltip_span);\n",
       "\n",
       "        nav_element.append(button);\n",
       "    }\n",
       "\n",
       "    var fmt_picker_span = $('<span/>');\n",
       "\n",
       "    var fmt_picker = $('<select/>');\n",
       "    fmt_picker.addClass('mpl-toolbar-option ui-widget ui-widget-content');\n",
       "    fmt_picker_span.append(fmt_picker);\n",
       "    nav_element.append(fmt_picker_span);\n",
       "    this.format_dropdown = fmt_picker[0];\n",
       "\n",
       "    for (var ind in mpl.extensions) {\n",
       "        var fmt = mpl.extensions[ind];\n",
       "        var option = $(\n",
       "            '<option/>', {selected: fmt === mpl.default_extension}).html(fmt);\n",
       "        fmt_picker.append(option)\n",
       "    }\n",
       "\n",
       "    // Add hover states to the ui-buttons\n",
       "    $( \".ui-button\" ).hover(\n",
       "        function() { $(this).addClass(\"ui-state-hover\");},\n",
       "        function() { $(this).removeClass(\"ui-state-hover\");}\n",
       "    );\n",
       "\n",
       "    var status_bar = $('<span class=\"mpl-message\"/>');\n",
       "    nav_element.append(status_bar);\n",
       "    this.message = status_bar[0];\n",
       "}\n",
       "\n",
       "mpl.figure.prototype.request_resize = function(x_pixels, y_pixels) {\n",
       "    // Request matplotlib to resize the figure. Matplotlib will then trigger a resize in the client,\n",
       "    // which will in turn request a refresh of the image.\n",
       "    this.send_message('resize', {'width': x_pixels, 'height': y_pixels});\n",
       "}\n",
       "\n",
       "mpl.figure.prototype.send_message = function(type, properties) {\n",
       "    properties['type'] = type;\n",
       "    properties['figure_id'] = this.id;\n",
       "    this.ws.send(JSON.stringify(properties));\n",
       "}\n",
       "\n",
       "mpl.figure.prototype.send_draw_message = function() {\n",
       "    if (!this.waiting) {\n",
       "        this.waiting = true;\n",
       "        this.ws.send(JSON.stringify({type: \"draw\", figure_id: this.id}));\n",
       "    }\n",
       "}\n",
       "\n",
       "\n",
       "mpl.figure.prototype.handle_save = function(fig, msg) {\n",
       "    var format_dropdown = fig.format_dropdown;\n",
       "    var format = format_dropdown.options[format_dropdown.selectedIndex].value;\n",
       "    fig.ondownload(fig, format);\n",
       "}\n",
       "\n",
       "\n",
       "mpl.figure.prototype.handle_resize = function(fig, msg) {\n",
       "    var size = msg['size'];\n",
       "    if (size[0] != fig.canvas.width || size[1] != fig.canvas.height) {\n",
       "        fig._resize_canvas(size[0], size[1]);\n",
       "        fig.send_message(\"refresh\", {});\n",
       "    };\n",
       "}\n",
       "\n",
       "mpl.figure.prototype.handle_rubberband = function(fig, msg) {\n",
       "    var x0 = msg['x0'] / mpl.ratio;\n",
       "    var y0 = (fig.canvas.height - msg['y0']) / mpl.ratio;\n",
       "    var x1 = msg['x1'] / mpl.ratio;\n",
       "    var y1 = (fig.canvas.height - msg['y1']) / mpl.ratio;\n",
       "    x0 = Math.floor(x0) + 0.5;\n",
       "    y0 = Math.floor(y0) + 0.5;\n",
       "    x1 = Math.floor(x1) + 0.5;\n",
       "    y1 = Math.floor(y1) + 0.5;\n",
       "    var min_x = Math.min(x0, x1);\n",
       "    var min_y = Math.min(y0, y1);\n",
       "    var width = Math.abs(x1 - x0);\n",
       "    var height = Math.abs(y1 - y0);\n",
       "\n",
       "    fig.rubberband_context.clearRect(\n",
       "        0, 0, fig.canvas.width, fig.canvas.height);\n",
       "\n",
       "    fig.rubberband_context.strokeRect(min_x, min_y, width, height);\n",
       "}\n",
       "\n",
       "mpl.figure.prototype.handle_figure_label = function(fig, msg) {\n",
       "    // Updates the figure title.\n",
       "    fig.header.textContent = msg['label'];\n",
       "}\n",
       "\n",
       "mpl.figure.prototype.handle_cursor = function(fig, msg) {\n",
       "    var cursor = msg['cursor'];\n",
       "    switch(cursor)\n",
       "    {\n",
       "    case 0:\n",
       "        cursor = 'pointer';\n",
       "        break;\n",
       "    case 1:\n",
       "        cursor = 'default';\n",
       "        break;\n",
       "    case 2:\n",
       "        cursor = 'crosshair';\n",
       "        break;\n",
       "    case 3:\n",
       "        cursor = 'move';\n",
       "        break;\n",
       "    }\n",
       "    fig.rubberband_canvas.style.cursor = cursor;\n",
       "}\n",
       "\n",
       "mpl.figure.prototype.handle_message = function(fig, msg) {\n",
       "    fig.message.textContent = msg['message'];\n",
       "}\n",
       "\n",
       "mpl.figure.prototype.handle_draw = function(fig, msg) {\n",
       "    // Request the server to send over a new figure.\n",
       "    fig.send_draw_message();\n",
       "}\n",
       "\n",
       "mpl.figure.prototype.handle_image_mode = function(fig, msg) {\n",
       "    fig.image_mode = msg['mode'];\n",
       "}\n",
       "\n",
       "mpl.figure.prototype.updated_canvas_event = function() {\n",
       "    // Called whenever the canvas gets updated.\n",
       "    this.send_message(\"ack\", {});\n",
       "}\n",
       "\n",
       "// A function to construct a web socket function for onmessage handling.\n",
       "// Called in the figure constructor.\n",
       "mpl.figure.prototype._make_on_message_function = function(fig) {\n",
       "    return function socket_on_message(evt) {\n",
       "        if (evt.data instanceof Blob) {\n",
       "            /* FIXME: We get \"Resource interpreted as Image but\n",
       "             * transferred with MIME type text/plain:\" errors on\n",
       "             * Chrome.  But how to set the MIME type?  It doesn't seem\n",
       "             * to be part of the websocket stream */\n",
       "            evt.data.type = \"image/png\";\n",
       "\n",
       "            /* Free the memory for the previous frames */\n",
       "            if (fig.imageObj.src) {\n",
       "                (window.URL || window.webkitURL).revokeObjectURL(\n",
       "                    fig.imageObj.src);\n",
       "            }\n",
       "\n",
       "            fig.imageObj.src = (window.URL || window.webkitURL).createObjectURL(\n",
       "                evt.data);\n",
       "            fig.updated_canvas_event();\n",
       "            fig.waiting = false;\n",
       "            return;\n",
       "        }\n",
       "        else if (typeof evt.data === 'string' && evt.data.slice(0, 21) == \"data:image/png;base64\") {\n",
       "            fig.imageObj.src = evt.data;\n",
       "            fig.updated_canvas_event();\n",
       "            fig.waiting = false;\n",
       "            return;\n",
       "        }\n",
       "\n",
       "        var msg = JSON.parse(evt.data);\n",
       "        var msg_type = msg['type'];\n",
       "\n",
       "        // Call the  \"handle_{type}\" callback, which takes\n",
       "        // the figure and JSON message as its only arguments.\n",
       "        try {\n",
       "            var callback = fig[\"handle_\" + msg_type];\n",
       "        } catch (e) {\n",
       "            console.log(\"No handler for the '\" + msg_type + \"' message type: \", msg);\n",
       "            return;\n",
       "        }\n",
       "\n",
       "        if (callback) {\n",
       "            try {\n",
       "                // console.log(\"Handling '\" + msg_type + \"' message: \", msg);\n",
       "                callback(fig, msg);\n",
       "            } catch (e) {\n",
       "                console.log(\"Exception inside the 'handler_\" + msg_type + \"' callback:\", e, e.stack, msg);\n",
       "            }\n",
       "        }\n",
       "    };\n",
       "}\n",
       "\n",
       "// from http://stackoverflow.com/questions/1114465/getting-mouse-location-in-canvas\n",
       "mpl.findpos = function(e) {\n",
       "    //this section is from http://www.quirksmode.org/js/events_properties.html\n",
       "    var targ;\n",
       "    if (!e)\n",
       "        e = window.event;\n",
       "    if (e.target)\n",
       "        targ = e.target;\n",
       "    else if (e.srcElement)\n",
       "        targ = e.srcElement;\n",
       "    if (targ.nodeType == 3) // defeat Safari bug\n",
       "        targ = targ.parentNode;\n",
       "\n",
       "    // jQuery normalizes the pageX and pageY\n",
       "    // pageX,Y are the mouse positions relative to the document\n",
       "    // offset() returns the position of the element relative to the document\n",
       "    var x = e.pageX - $(targ).offset().left;\n",
       "    var y = e.pageY - $(targ).offset().top;\n",
       "\n",
       "    return {\"x\": x, \"y\": y};\n",
       "};\n",
       "\n",
       "/*\n",
       " * return a copy of an object with only non-object keys\n",
       " * we need this to avoid circular references\n",
       " * http://stackoverflow.com/a/24161582/3208463\n",
       " */\n",
       "function simpleKeys (original) {\n",
       "  return Object.keys(original).reduce(function (obj, key) {\n",
       "    if (typeof original[key] !== 'object')\n",
       "        obj[key] = original[key]\n",
       "    return obj;\n",
       "  }, {});\n",
       "}\n",
       "\n",
       "mpl.figure.prototype.mouse_event = function(event, name) {\n",
       "    var canvas_pos = mpl.findpos(event)\n",
       "\n",
       "    if (name === 'button_press')\n",
       "    {\n",
       "        this.canvas.focus();\n",
       "        this.canvas_div.focus();\n",
       "    }\n",
       "\n",
       "    var x = canvas_pos.x * mpl.ratio;\n",
       "    var y = canvas_pos.y * mpl.ratio;\n",
       "\n",
       "    this.send_message(name, {x: x, y: y, button: event.button,\n",
       "                             step: event.step,\n",
       "                             guiEvent: simpleKeys(event)});\n",
       "\n",
       "    /* This prevents the web browser from automatically changing to\n",
       "     * the text insertion cursor when the button is pressed.  We want\n",
       "     * to control all of the cursor setting manually through the\n",
       "     * 'cursor' event from matplotlib */\n",
       "    event.preventDefault();\n",
       "    return false;\n",
       "}\n",
       "\n",
       "mpl.figure.prototype._key_event_extra = function(event, name) {\n",
       "    // Handle any extra behaviour associated with a key event\n",
       "}\n",
       "\n",
       "mpl.figure.prototype.key_event = function(event, name) {\n",
       "\n",
       "    // Prevent repeat events\n",
       "    if (name == 'key_press')\n",
       "    {\n",
       "        if (event.which === this._key)\n",
       "            return;\n",
       "        else\n",
       "            this._key = event.which;\n",
       "    }\n",
       "    if (name == 'key_release')\n",
       "        this._key = null;\n",
       "\n",
       "    var value = '';\n",
       "    if (event.ctrlKey && event.which != 17)\n",
       "        value += \"ctrl+\";\n",
       "    if (event.altKey && event.which != 18)\n",
       "        value += \"alt+\";\n",
       "    if (event.shiftKey && event.which != 16)\n",
       "        value += \"shift+\";\n",
       "\n",
       "    value += 'k';\n",
       "    value += event.which.toString();\n",
       "\n",
       "    this._key_event_extra(event, name);\n",
       "\n",
       "    this.send_message(name, {key: value,\n",
       "                             guiEvent: simpleKeys(event)});\n",
       "    return false;\n",
       "}\n",
       "\n",
       "mpl.figure.prototype.toolbar_button_onclick = function(name) {\n",
       "    if (name == 'download') {\n",
       "        this.handle_save(this, null);\n",
       "    } else {\n",
       "        this.send_message(\"toolbar_button\", {name: name});\n",
       "    }\n",
       "};\n",
       "\n",
       "mpl.figure.prototype.toolbar_button_onmouseover = function(tooltip) {\n",
       "    this.message.textContent = tooltip;\n",
       "};\n",
       "mpl.toolbar_items = [[\"Home\", \"Reset original view\", \"fa fa-home icon-home\", \"home\"], [\"Back\", \"Back to  previous view\", \"fa fa-arrow-left icon-arrow-left\", \"back\"], [\"Forward\", \"Forward to next view\", \"fa fa-arrow-right icon-arrow-right\", \"forward\"], [\"\", \"\", \"\", \"\"], [\"Pan\", \"Pan axes with left mouse, zoom with right\", \"fa fa-arrows icon-move\", \"pan\"], [\"Zoom\", \"Zoom to rectangle\", \"fa fa-square-o icon-check-empty\", \"zoom\"], [\"\", \"\", \"\", \"\"], [\"Download\", \"Download plot\", \"fa fa-floppy-o icon-save\", \"download\"]];\n",
       "\n",
       "mpl.extensions = [\"eps\", \"jpeg\", \"pdf\", \"png\", \"ps\", \"raw\", \"svg\", \"tif\"];\n",
       "\n",
       "mpl.default_extension = \"png\";var comm_websocket_adapter = function(comm) {\n",
       "    // Create a \"websocket\"-like object which calls the given IPython comm\n",
       "    // object with the appropriate methods. Currently this is a non binary\n",
       "    // socket, so there is still some room for performance tuning.\n",
       "    var ws = {};\n",
       "\n",
       "    ws.close = function() {\n",
       "        comm.close()\n",
       "    };\n",
       "    ws.send = function(m) {\n",
       "        //console.log('sending', m);\n",
       "        comm.send(m);\n",
       "    };\n",
       "    // Register the callback with on_msg.\n",
       "    comm.on_msg(function(msg) {\n",
       "        //console.log('receiving', msg['content']['data'], msg);\n",
       "        // Pass the mpl event to the overridden (by mpl) onmessage function.\n",
       "        ws.onmessage(msg['content']['data'])\n",
       "    });\n",
       "    return ws;\n",
       "}\n",
       "\n",
       "mpl.mpl_figure_comm = function(comm, msg) {\n",
       "    // This is the function which gets called when the mpl process\n",
       "    // starts-up an IPython Comm through the \"matplotlib\" channel.\n",
       "\n",
       "    var id = msg.content.data.id;\n",
       "    // Get hold of the div created by the display call when the Comm\n",
       "    // socket was opened in Python.\n",
       "    var element = $(\"#\" + id);\n",
       "    var ws_proxy = comm_websocket_adapter(comm)\n",
       "\n",
       "    function ondownload(figure, format) {\n",
       "        window.open(figure.imageObj.src);\n",
       "    }\n",
       "\n",
       "    var fig = new mpl.figure(id, ws_proxy,\n",
       "                           ondownload,\n",
       "                           element.get(0));\n",
       "\n",
       "    // Call onopen now - mpl needs it, as it is assuming we've passed it a real\n",
       "    // web socket which is closed, not our websocket->open comm proxy.\n",
       "    ws_proxy.onopen();\n",
       "\n",
       "    fig.parent_element = element.get(0);\n",
       "    fig.cell_info = mpl.find_output_cell(\"<div id='\" + id + \"'></div>\");\n",
       "    if (!fig.cell_info) {\n",
       "        console.error(\"Failed to find cell for figure\", id, fig);\n",
       "        return;\n",
       "    }\n",
       "\n",
       "    var output_index = fig.cell_info[2]\n",
       "    var cell = fig.cell_info[0];\n",
       "\n",
       "};\n",
       "\n",
       "mpl.figure.prototype.handle_close = function(fig, msg) {\n",
       "    var width = fig.canvas.width/mpl.ratio\n",
       "    fig.root.unbind('remove')\n",
       "\n",
       "    // Update the output cell to use the data from the current canvas.\n",
       "    fig.push_to_output();\n",
       "    var dataURL = fig.canvas.toDataURL();\n",
       "    // Re-enable the keyboard manager in IPython - without this line, in FF,\n",
       "    // the notebook keyboard shortcuts fail.\n",
       "    IPython.keyboard_manager.enable()\n",
       "    $(fig.parent_element).html('<img src=\"' + dataURL + '\" width=\"' + width + '\">');\n",
       "    fig.close_ws(fig, msg);\n",
       "}\n",
       "\n",
       "mpl.figure.prototype.close_ws = function(fig, msg){\n",
       "    fig.send_message('closing', msg);\n",
       "    // fig.ws.close()\n",
       "}\n",
       "\n",
       "mpl.figure.prototype.push_to_output = function(remove_interactive) {\n",
       "    // Turn the data on the canvas into data in the output cell.\n",
       "    var width = this.canvas.width/mpl.ratio\n",
       "    var dataURL = this.canvas.toDataURL();\n",
       "    this.cell_info[1]['text/html'] = '<img src=\"' + dataURL + '\" width=\"' + width + '\">';\n",
       "}\n",
       "\n",
       "mpl.figure.prototype.updated_canvas_event = function() {\n",
       "    // Tell IPython that the notebook contents must change.\n",
       "    IPython.notebook.set_dirty(true);\n",
       "    this.send_message(\"ack\", {});\n",
       "    var fig = this;\n",
       "    // Wait a second, then push the new image to the DOM so\n",
       "    // that it is saved nicely (might be nice to debounce this).\n",
       "    setTimeout(function () { fig.push_to_output() }, 1000);\n",
       "}\n",
       "\n",
       "mpl.figure.prototype._init_toolbar = function() {\n",
       "    var fig = this;\n",
       "\n",
       "    var nav_element = $('<div/>')\n",
       "    nav_element.attr('style', 'width: 100%');\n",
       "    this.root.append(nav_element);\n",
       "\n",
       "    // Define a callback function for later on.\n",
       "    function toolbar_event(event) {\n",
       "        return fig.toolbar_button_onclick(event['data']);\n",
       "    }\n",
       "    function toolbar_mouse_event(event) {\n",
       "        return fig.toolbar_button_onmouseover(event['data']);\n",
       "    }\n",
       "\n",
       "    for(var toolbar_ind in mpl.toolbar_items){\n",
       "        var name = mpl.toolbar_items[toolbar_ind][0];\n",
       "        var tooltip = mpl.toolbar_items[toolbar_ind][1];\n",
       "        var image = mpl.toolbar_items[toolbar_ind][2];\n",
       "        var method_name = mpl.toolbar_items[toolbar_ind][3];\n",
       "\n",
       "        if (!name) { continue; };\n",
       "\n",
       "        var button = $('<button class=\"btn btn-default\" href=\"#\" title=\"' + name + '\"><i class=\"fa ' + image + ' fa-lg\"></i></button>');\n",
       "        button.click(method_name, toolbar_event);\n",
       "        button.mouseover(tooltip, toolbar_mouse_event);\n",
       "        nav_element.append(button);\n",
       "    }\n",
       "\n",
       "    // Add the status bar.\n",
       "    var status_bar = $('<span class=\"mpl-message\" style=\"text-align:right; float: right;\"/>');\n",
       "    nav_element.append(status_bar);\n",
       "    this.message = status_bar[0];\n",
       "\n",
       "    // Add the close button to the window.\n",
       "    var buttongrp = $('<div class=\"btn-group inline pull-right\"></div>');\n",
       "    var button = $('<button class=\"btn btn-mini btn-primary\" href=\"#\" title=\"Stop Interaction\"><i class=\"fa fa-power-off icon-remove icon-large\"></i></button>');\n",
       "    button.click(function (evt) { fig.handle_close(fig, {}); } );\n",
       "    button.mouseover('Stop Interaction', toolbar_mouse_event);\n",
       "    buttongrp.append(button);\n",
       "    var titlebar = this.root.find($('.ui-dialog-titlebar'));\n",
       "    titlebar.prepend(buttongrp);\n",
       "}\n",
       "\n",
       "mpl.figure.prototype._root_extra_style = function(el){\n",
       "    var fig = this\n",
       "    el.on(\"remove\", function(){\n",
       "\tfig.close_ws(fig, {});\n",
       "    });\n",
       "}\n",
       "\n",
       "mpl.figure.prototype._canvas_extra_style = function(el){\n",
       "    // this is important to make the div 'focusable\n",
       "    el.attr('tabindex', 0)\n",
       "    // reach out to IPython and tell the keyboard manager to turn it's self\n",
       "    // off when our div gets focus\n",
       "\n",
       "    // location in version 3\n",
       "    if (IPython.notebook.keyboard_manager) {\n",
       "        IPython.notebook.keyboard_manager.register_events(el);\n",
       "    }\n",
       "    else {\n",
       "        // location in version 2\n",
       "        IPython.keyboard_manager.register_events(el);\n",
       "    }\n",
       "\n",
       "}\n",
       "\n",
       "mpl.figure.prototype._key_event_extra = function(event, name) {\n",
       "    var manager = IPython.notebook.keyboard_manager;\n",
       "    if (!manager)\n",
       "        manager = IPython.keyboard_manager;\n",
       "\n",
       "    // Check for shift+enter\n",
       "    if (event.shiftKey && event.which == 13) {\n",
       "        this.canvas_div.blur();\n",
       "        event.shiftKey = false;\n",
       "        // Send a \"J\" for go to next cell\n",
       "        event.which = 74;\n",
       "        event.keyCode = 74;\n",
       "        manager.command_mode();\n",
       "        manager.handle_keydown(event);\n",
       "    }\n",
       "}\n",
       "\n",
       "mpl.figure.prototype.handle_save = function(fig, msg) {\n",
       "    fig.ondownload(fig, null);\n",
       "}\n",
       "\n",
       "\n",
       "mpl.find_output_cell = function(html_output) {\n",
       "    // Return the cell and output element which can be found *uniquely* in the notebook.\n",
       "    // Note - this is a bit hacky, but it is done because the \"notebook_saving.Notebook\"\n",
       "    // IPython event is triggered only after the cells have been serialised, which for\n",
       "    // our purposes (turning an active figure into a static one), is too late.\n",
       "    var cells = IPython.notebook.get_cells();\n",
       "    var ncells = cells.length;\n",
       "    for (var i=0; i<ncells; i++) {\n",
       "        var cell = cells[i];\n",
       "        if (cell.cell_type === 'code'){\n",
       "            for (var j=0; j<cell.output_area.outputs.length; j++) {\n",
       "                var data = cell.output_area.outputs[j];\n",
       "                if (data.data) {\n",
       "                    // IPython >= 3 moved mimebundle to data attribute of output\n",
       "                    data = data.data;\n",
       "                }\n",
       "                if (data['text/html'] == html_output) {\n",
       "                    return [cell, data, j];\n",
       "                }\n",
       "            }\n",
       "        }\n",
       "    }\n",
       "}\n",
       "\n",
       "// Register the function which deals with the matplotlib target/channel.\n",
       "// The kernel may be null if the page has been refreshed.\n",
       "if (IPython.notebook.kernel != null) {\n",
       "    IPython.notebook.kernel.comm_manager.register_target('matplotlib', mpl.mpl_figure_comm);\n",
       "}\n"
      ],
      "text/plain": [
       "<IPython.core.display.Javascript object>"
      ]
     },
     "metadata": {},
     "output_type": "display_data"
    },
    {
     "data": {
      "text/html": [
       "<img src=\"data:image/png;base64,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\" width=\"900\">"
      ],
      "text/plain": [
       "<IPython.core.display.HTML object>"
      ]
     },
     "metadata": {},
     "output_type": "display_data"
    },
    {
     "data": {
      "application/vnd.jupyter.widget-view+json": {
       "model_id": "eee1dd1696e74a3d9eef271fc2b51b01",
       "version_major": 2,
       "version_minor": 0
      },
      "text/plain": [
       "HBox(children=(IntRangeSlider(value=(16383, 49151), layout=Layout(width='75%'), max=65535), Button(description…"
      ]
     },
     "metadata": {},
     "output_type": "display_data"
    }
   ],
   "source": [
    "%matplotlib notebook\n",
    "tr.set_don_loc_opts(\"sc\", 0)"
   ]
  },
  {
   "cell_type": "code",
   "execution_count": 9,
   "metadata": {
    "scrolled": false
   },
   "outputs": [
    {
     "data": {
      "application/vnd.jupyter.widget-view+json": {
       "model_id": "0e96033702ba4048a8f6c44f2bd69146",
       "version_major": 2,
       "version_minor": 0
      },
      "text/plain": [
       "HBox(children=(VBox(children=(Select(layout=Layout(width='auto'), options=('sensor-H57/cells-01_SAv-100k_SSS-H…"
      ]
     },
     "metadata": {},
     "output_type": "display_data"
    },
    {
     "data": {
      "application/javascript": [
       "/* Put everything inside the global mpl namespace */\n",
       "window.mpl = {};\n",
       "\n",
       "\n",
       "mpl.get_websocket_type = function() {\n",
       "    if (typeof(WebSocket) !== 'undefined') {\n",
       "        return WebSocket;\n",
       "    } else if (typeof(MozWebSocket) !== 'undefined') {\n",
       "        return MozWebSocket;\n",
       "    } else {\n",
       "        alert('Your browser does not have WebSocket support.' +\n",
       "              'Please try Chrome, Safari or Firefox ≥ 6. ' +\n",
       "              'Firefox 4 and 5 are also supported but you ' +\n",
       "              'have to enable WebSockets in about:config.');\n",
       "    };\n",
       "}\n",
       "\n",
       "mpl.figure = function(figure_id, websocket, ondownload, parent_element) {\n",
       "    this.id = figure_id;\n",
       "\n",
       "    this.ws = websocket;\n",
       "\n",
       "    this.supports_binary = (this.ws.binaryType != undefined);\n",
       "\n",
       "    if (!this.supports_binary) {\n",
       "        var warnings = document.getElementById(\"mpl-warnings\");\n",
       "        if (warnings) {\n",
       "            warnings.style.display = 'block';\n",
       "            warnings.textContent = (\n",
       "                \"This browser does not support binary websocket messages. \" +\n",
       "                    \"Performance may be slow.\");\n",
       "        }\n",
       "    }\n",
       "\n",
       "    this.imageObj = new Image();\n",
       "\n",
       "    this.context = undefined;\n",
       "    this.message = undefined;\n",
       "    this.canvas = undefined;\n",
       "    this.rubberband_canvas = undefined;\n",
       "    this.rubberband_context = undefined;\n",
       "    this.format_dropdown = undefined;\n",
       "\n",
       "    this.image_mode = 'full';\n",
       "\n",
       "    this.root = $('<div/>');\n",
       "    this._root_extra_style(this.root)\n",
       "    this.root.attr('style', 'display: inline-block');\n",
       "\n",
       "    $(parent_element).append(this.root);\n",
       "\n",
       "    this._init_header(this);\n",
       "    this._init_canvas(this);\n",
       "    this._init_toolbar(this);\n",
       "\n",
       "    var fig = this;\n",
       "\n",
       "    this.waiting = false;\n",
       "\n",
       "    this.ws.onopen =  function () {\n",
       "            fig.send_message(\"supports_binary\", {value: fig.supports_binary});\n",
       "            fig.send_message(\"send_image_mode\", {});\n",
       "            if (mpl.ratio != 1) {\n",
       "                fig.send_message(\"set_dpi_ratio\", {'dpi_ratio': mpl.ratio});\n",
       "            }\n",
       "            fig.send_message(\"refresh\", {});\n",
       "        }\n",
       "\n",
       "    this.imageObj.onload = function() {\n",
       "            if (fig.image_mode == 'full') {\n",
       "                // Full images could contain transparency (where diff images\n",
       "                // almost always do), so we need to clear the canvas so that\n",
       "                // there is no ghosting.\n",
       "                fig.context.clearRect(0, 0, fig.canvas.width, fig.canvas.height);\n",
       "            }\n",
       "            fig.context.drawImage(fig.imageObj, 0, 0);\n",
       "        };\n",
       "\n",
       "    this.imageObj.onunload = function() {\n",
       "        fig.ws.close();\n",
       "    }\n",
       "\n",
       "    this.ws.onmessage = this._make_on_message_function(this);\n",
       "\n",
       "    this.ondownload = ondownload;\n",
       "}\n",
       "\n",
       "mpl.figure.prototype._init_header = function() {\n",
       "    var titlebar = $(\n",
       "        '<div class=\"ui-dialog-titlebar ui-widget-header ui-corner-all ' +\n",
       "        'ui-helper-clearfix\"/>');\n",
       "    var titletext = $(\n",
       "        '<div class=\"ui-dialog-title\" style=\"width: 100%; ' +\n",
       "        'text-align: center; padding: 3px;\"/>');\n",
       "    titlebar.append(titletext)\n",
       "    this.root.append(titlebar);\n",
       "    this.header = titletext[0];\n",
       "}\n",
       "\n",
       "\n",
       "\n",
       "mpl.figure.prototype._canvas_extra_style = function(canvas_div) {\n",
       "\n",
       "}\n",
       "\n",
       "\n",
       "mpl.figure.prototype._root_extra_style = function(canvas_div) {\n",
       "\n",
       "}\n",
       "\n",
       "mpl.figure.prototype._init_canvas = function() {\n",
       "    var fig = this;\n",
       "\n",
       "    var canvas_div = $('<div/>');\n",
       "\n",
       "    canvas_div.attr('style', 'position: relative; clear: both; outline: 0');\n",
       "\n",
       "    function canvas_keyboard_event(event) {\n",
       "        return fig.key_event(event, event['data']);\n",
       "    }\n",
       "\n",
       "    canvas_div.keydown('key_press', canvas_keyboard_event);\n",
       "    canvas_div.keyup('key_release', canvas_keyboard_event);\n",
       "    this.canvas_div = canvas_div\n",
       "    this._canvas_extra_style(canvas_div)\n",
       "    this.root.append(canvas_div);\n",
       "\n",
       "    var canvas = $('<canvas/>');\n",
       "    canvas.addClass('mpl-canvas');\n",
       "    canvas.attr('style', \"left: 0; top: 0; z-index: 0; outline: 0\")\n",
       "\n",
       "    this.canvas = canvas[0];\n",
       "    this.context = canvas[0].getContext(\"2d\");\n",
       "\n",
       "    var backingStore = this.context.backingStorePixelRatio ||\n",
       "\tthis.context.webkitBackingStorePixelRatio ||\n",
       "\tthis.context.mozBackingStorePixelRatio ||\n",
       "\tthis.context.msBackingStorePixelRatio ||\n",
       "\tthis.context.oBackingStorePixelRatio ||\n",
       "\tthis.context.backingStorePixelRatio || 1;\n",
       "\n",
       "    mpl.ratio = (window.devicePixelRatio || 1) / backingStore;\n",
       "\n",
       "    var rubberband = $('<canvas/>');\n",
       "    rubberband.attr('style', \"position: absolute; left: 0; top: 0; z-index: 1;\")\n",
       "\n",
       "    var pass_mouse_events = true;\n",
       "\n",
       "    canvas_div.resizable({\n",
       "        start: function(event, ui) {\n",
       "            pass_mouse_events = false;\n",
       "        },\n",
       "        resize: function(event, ui) {\n",
       "            fig.request_resize(ui.size.width, ui.size.height);\n",
       "        },\n",
       "        stop: function(event, ui) {\n",
       "            pass_mouse_events = true;\n",
       "            fig.request_resize(ui.size.width, ui.size.height);\n",
       "        },\n",
       "    });\n",
       "\n",
       "    function mouse_event_fn(event) {\n",
       "        if (pass_mouse_events)\n",
       "            return fig.mouse_event(event, event['data']);\n",
       "    }\n",
       "\n",
       "    rubberband.mousedown('button_press', mouse_event_fn);\n",
       "    rubberband.mouseup('button_release', mouse_event_fn);\n",
       "    // Throttle sequential mouse events to 1 every 20ms.\n",
       "    rubberband.mousemove('motion_notify', mouse_event_fn);\n",
       "\n",
       "    rubberband.mouseenter('figure_enter', mouse_event_fn);\n",
       "    rubberband.mouseleave('figure_leave', mouse_event_fn);\n",
       "\n",
       "    canvas_div.on(\"wheel\", function (event) {\n",
       "        event = event.originalEvent;\n",
       "        event['data'] = 'scroll'\n",
       "        if (event.deltaY < 0) {\n",
       "            event.step = 1;\n",
       "        } else {\n",
       "            event.step = -1;\n",
       "        }\n",
       "        mouse_event_fn(event);\n",
       "    });\n",
       "\n",
       "    canvas_div.append(canvas);\n",
       "    canvas_div.append(rubberband);\n",
       "\n",
       "    this.rubberband = rubberband;\n",
       "    this.rubberband_canvas = rubberband[0];\n",
       "    this.rubberband_context = rubberband[0].getContext(\"2d\");\n",
       "    this.rubberband_context.strokeStyle = \"#000000\";\n",
       "\n",
       "    this._resize_canvas = function(width, height) {\n",
       "        // Keep the size of the canvas, canvas container, and rubber band\n",
       "        // canvas in synch.\n",
       "        canvas_div.css('width', width)\n",
       "        canvas_div.css('height', height)\n",
       "\n",
       "        canvas.attr('width', width * mpl.ratio);\n",
       "        canvas.attr('height', height * mpl.ratio);\n",
       "        canvas.attr('style', 'width: ' + width + 'px; height: ' + height + 'px;');\n",
       "\n",
       "        rubberband.attr('width', width);\n",
       "        rubberband.attr('height', height);\n",
       "    }\n",
       "\n",
       "    // Set the figure to an initial 600x600px, this will subsequently be updated\n",
       "    // upon first draw.\n",
       "    this._resize_canvas(600, 600);\n",
       "\n",
       "    // Disable right mouse context menu.\n",
       "    $(this.rubberband_canvas).bind(\"contextmenu\",function(e){\n",
       "        return false;\n",
       "    });\n",
       "\n",
       "    function set_focus () {\n",
       "        canvas.focus();\n",
       "        canvas_div.focus();\n",
       "    }\n",
       "\n",
       "    window.setTimeout(set_focus, 100);\n",
       "}\n",
       "\n",
       "mpl.figure.prototype._init_toolbar = function() {\n",
       "    var fig = this;\n",
       "\n",
       "    var nav_element = $('<div/>')\n",
       "    nav_element.attr('style', 'width: 100%');\n",
       "    this.root.append(nav_element);\n",
       "\n",
       "    // Define a callback function for later on.\n",
       "    function toolbar_event(event) {\n",
       "        return fig.toolbar_button_onclick(event['data']);\n",
       "    }\n",
       "    function toolbar_mouse_event(event) {\n",
       "        return fig.toolbar_button_onmouseover(event['data']);\n",
       "    }\n",
       "\n",
       "    for(var toolbar_ind in mpl.toolbar_items) {\n",
       "        var name = mpl.toolbar_items[toolbar_ind][0];\n",
       "        var tooltip = mpl.toolbar_items[toolbar_ind][1];\n",
       "        var image = mpl.toolbar_items[toolbar_ind][2];\n",
       "        var method_name = mpl.toolbar_items[toolbar_ind][3];\n",
       "\n",
       "        if (!name) {\n",
       "            // put a spacer in here.\n",
       "            continue;\n",
       "        }\n",
       "        var button = $('<button/>');\n",
       "        button.addClass('ui-button ui-widget ui-state-default ui-corner-all ' +\n",
       "                        'ui-button-icon-only');\n",
       "        button.attr('role', 'button');\n",
       "        button.attr('aria-disabled', 'false');\n",
       "        button.click(method_name, toolbar_event);\n",
       "        button.mouseover(tooltip, toolbar_mouse_event);\n",
       "\n",
       "        var icon_img = $('<span/>');\n",
       "        icon_img.addClass('ui-button-icon-primary ui-icon');\n",
       "        icon_img.addClass(image);\n",
       "        icon_img.addClass('ui-corner-all');\n",
       "\n",
       "        var tooltip_span = $('<span/>');\n",
       "        tooltip_span.addClass('ui-button-text');\n",
       "        tooltip_span.html(tooltip);\n",
       "\n",
       "        button.append(icon_img);\n",
       "        button.append(tooltip_span);\n",
       "\n",
       "        nav_element.append(button);\n",
       "    }\n",
       "\n",
       "    var fmt_picker_span = $('<span/>');\n",
       "\n",
       "    var fmt_picker = $('<select/>');\n",
       "    fmt_picker.addClass('mpl-toolbar-option ui-widget ui-widget-content');\n",
       "    fmt_picker_span.append(fmt_picker);\n",
       "    nav_element.append(fmt_picker_span);\n",
       "    this.format_dropdown = fmt_picker[0];\n",
       "\n",
       "    for (var ind in mpl.extensions) {\n",
       "        var fmt = mpl.extensions[ind];\n",
       "        var option = $(\n",
       "            '<option/>', {selected: fmt === mpl.default_extension}).html(fmt);\n",
       "        fmt_picker.append(option)\n",
       "    }\n",
       "\n",
       "    // Add hover states to the ui-buttons\n",
       "    $( \".ui-button\" ).hover(\n",
       "        function() { $(this).addClass(\"ui-state-hover\");},\n",
       "        function() { $(this).removeClass(\"ui-state-hover\");}\n",
       "    );\n",
       "\n",
       "    var status_bar = $('<span class=\"mpl-message\"/>');\n",
       "    nav_element.append(status_bar);\n",
       "    this.message = status_bar[0];\n",
       "}\n",
       "\n",
       "mpl.figure.prototype.request_resize = function(x_pixels, y_pixels) {\n",
       "    // Request matplotlib to resize the figure. Matplotlib will then trigger a resize in the client,\n",
       "    // which will in turn request a refresh of the image.\n",
       "    this.send_message('resize', {'width': x_pixels, 'height': y_pixels});\n",
       "}\n",
       "\n",
       "mpl.figure.prototype.send_message = function(type, properties) {\n",
       "    properties['type'] = type;\n",
       "    properties['figure_id'] = this.id;\n",
       "    this.ws.send(JSON.stringify(properties));\n",
       "}\n",
       "\n",
       "mpl.figure.prototype.send_draw_message = function() {\n",
       "    if (!this.waiting) {\n",
       "        this.waiting = true;\n",
       "        this.ws.send(JSON.stringify({type: \"draw\", figure_id: this.id}));\n",
       "    }\n",
       "}\n",
       "\n",
       "\n",
       "mpl.figure.prototype.handle_save = function(fig, msg) {\n",
       "    var format_dropdown = fig.format_dropdown;\n",
       "    var format = format_dropdown.options[format_dropdown.selectedIndex].value;\n",
       "    fig.ondownload(fig, format);\n",
       "}\n",
       "\n",
       "\n",
       "mpl.figure.prototype.handle_resize = function(fig, msg) {\n",
       "    var size = msg['size'];\n",
       "    if (size[0] != fig.canvas.width || size[1] != fig.canvas.height) {\n",
       "        fig._resize_canvas(size[0], size[1]);\n",
       "        fig.send_message(\"refresh\", {});\n",
       "    };\n",
       "}\n",
       "\n",
       "mpl.figure.prototype.handle_rubberband = function(fig, msg) {\n",
       "    var x0 = msg['x0'] / mpl.ratio;\n",
       "    var y0 = (fig.canvas.height - msg['y0']) / mpl.ratio;\n",
       "    var x1 = msg['x1'] / mpl.ratio;\n",
       "    var y1 = (fig.canvas.height - msg['y1']) / mpl.ratio;\n",
       "    x0 = Math.floor(x0) + 0.5;\n",
       "    y0 = Math.floor(y0) + 0.5;\n",
       "    x1 = Math.floor(x1) + 0.5;\n",
       "    y1 = Math.floor(y1) + 0.5;\n",
       "    var min_x = Math.min(x0, x1);\n",
       "    var min_y = Math.min(y0, y1);\n",
       "    var width = Math.abs(x1 - x0);\n",
       "    var height = Math.abs(y1 - y0);\n",
       "\n",
       "    fig.rubberband_context.clearRect(\n",
       "        0, 0, fig.canvas.width, fig.canvas.height);\n",
       "\n",
       "    fig.rubberband_context.strokeRect(min_x, min_y, width, height);\n",
       "}\n",
       "\n",
       "mpl.figure.prototype.handle_figure_label = function(fig, msg) {\n",
       "    // Updates the figure title.\n",
       "    fig.header.textContent = msg['label'];\n",
       "}\n",
       "\n",
       "mpl.figure.prototype.handle_cursor = function(fig, msg) {\n",
       "    var cursor = msg['cursor'];\n",
       "    switch(cursor)\n",
       "    {\n",
       "    case 0:\n",
       "        cursor = 'pointer';\n",
       "        break;\n",
       "    case 1:\n",
       "        cursor = 'default';\n",
       "        break;\n",
       "    case 2:\n",
       "        cursor = 'crosshair';\n",
       "        break;\n",
       "    case 3:\n",
       "        cursor = 'move';\n",
       "        break;\n",
       "    }\n",
       "    fig.rubberband_canvas.style.cursor = cursor;\n",
       "}\n",
       "\n",
       "mpl.figure.prototype.handle_message = function(fig, msg) {\n",
       "    fig.message.textContent = msg['message'];\n",
       "}\n",
       "\n",
       "mpl.figure.prototype.handle_draw = function(fig, msg) {\n",
       "    // Request the server to send over a new figure.\n",
       "    fig.send_draw_message();\n",
       "}\n",
       "\n",
       "mpl.figure.prototype.handle_image_mode = function(fig, msg) {\n",
       "    fig.image_mode = msg['mode'];\n",
       "}\n",
       "\n",
       "mpl.figure.prototype.updated_canvas_event = function() {\n",
       "    // Called whenever the canvas gets updated.\n",
       "    this.send_message(\"ack\", {});\n",
       "}\n",
       "\n",
       "// A function to construct a web socket function for onmessage handling.\n",
       "// Called in the figure constructor.\n",
       "mpl.figure.prototype._make_on_message_function = function(fig) {\n",
       "    return function socket_on_message(evt) {\n",
       "        if (evt.data instanceof Blob) {\n",
       "            /* FIXME: We get \"Resource interpreted as Image but\n",
       "             * transferred with MIME type text/plain:\" errors on\n",
       "             * Chrome.  But how to set the MIME type?  It doesn't seem\n",
       "             * to be part of the websocket stream */\n",
       "            evt.data.type = \"image/png\";\n",
       "\n",
       "            /* Free the memory for the previous frames */\n",
       "            if (fig.imageObj.src) {\n",
       "                (window.URL || window.webkitURL).revokeObjectURL(\n",
       "                    fig.imageObj.src);\n",
       "            }\n",
       "\n",
       "            fig.imageObj.src = (window.URL || window.webkitURL).createObjectURL(\n",
       "                evt.data);\n",
       "            fig.updated_canvas_event();\n",
       "            fig.waiting = false;\n",
       "            return;\n",
       "        }\n",
       "        else if (typeof evt.data === 'string' && evt.data.slice(0, 21) == \"data:image/png;base64\") {\n",
       "            fig.imageObj.src = evt.data;\n",
       "            fig.updated_canvas_event();\n",
       "            fig.waiting = false;\n",
       "            return;\n",
       "        }\n",
       "\n",
       "        var msg = JSON.parse(evt.data);\n",
       "        var msg_type = msg['type'];\n",
       "\n",
       "        // Call the  \"handle_{type}\" callback, which takes\n",
       "        // the figure and JSON message as its only arguments.\n",
       "        try {\n",
       "            var callback = fig[\"handle_\" + msg_type];\n",
       "        } catch (e) {\n",
       "            console.log(\"No handler for the '\" + msg_type + \"' message type: \", msg);\n",
       "            return;\n",
       "        }\n",
       "\n",
       "        if (callback) {\n",
       "            try {\n",
       "                // console.log(\"Handling '\" + msg_type + \"' message: \", msg);\n",
       "                callback(fig, msg);\n",
       "            } catch (e) {\n",
       "                console.log(\"Exception inside the 'handler_\" + msg_type + \"' callback:\", e, e.stack, msg);\n",
       "            }\n",
       "        }\n",
       "    };\n",
       "}\n",
       "\n",
       "// from http://stackoverflow.com/questions/1114465/getting-mouse-location-in-canvas\n",
       "mpl.findpos = function(e) {\n",
       "    //this section is from http://www.quirksmode.org/js/events_properties.html\n",
       "    var targ;\n",
       "    if (!e)\n",
       "        e = window.event;\n",
       "    if (e.target)\n",
       "        targ = e.target;\n",
       "    else if (e.srcElement)\n",
       "        targ = e.srcElement;\n",
       "    if (targ.nodeType == 3) // defeat Safari bug\n",
       "        targ = targ.parentNode;\n",
       "\n",
       "    // jQuery normalizes the pageX and pageY\n",
       "    // pageX,Y are the mouse positions relative to the document\n",
       "    // offset() returns the position of the element relative to the document\n",
       "    var x = e.pageX - $(targ).offset().left;\n",
       "    var y = e.pageY - $(targ).offset().top;\n",
       "\n",
       "    return {\"x\": x, \"y\": y};\n",
       "};\n",
       "\n",
       "/*\n",
       " * return a copy of an object with only non-object keys\n",
       " * we need this to avoid circular references\n",
       " * http://stackoverflow.com/a/24161582/3208463\n",
       " */\n",
       "function simpleKeys (original) {\n",
       "  return Object.keys(original).reduce(function (obj, key) {\n",
       "    if (typeof original[key] !== 'object')\n",
       "        obj[key] = original[key]\n",
       "    return obj;\n",
       "  }, {});\n",
       "}\n",
       "\n",
       "mpl.figure.prototype.mouse_event = function(event, name) {\n",
       "    var canvas_pos = mpl.findpos(event)\n",
       "\n",
       "    if (name === 'button_press')\n",
       "    {\n",
       "        this.canvas.focus();\n",
       "        this.canvas_div.focus();\n",
       "    }\n",
       "\n",
       "    var x = canvas_pos.x * mpl.ratio;\n",
       "    var y = canvas_pos.y * mpl.ratio;\n",
       "\n",
       "    this.send_message(name, {x: x, y: y, button: event.button,\n",
       "                             step: event.step,\n",
       "                             guiEvent: simpleKeys(event)});\n",
       "\n",
       "    /* This prevents the web browser from automatically changing to\n",
       "     * the text insertion cursor when the button is pressed.  We want\n",
       "     * to control all of the cursor setting manually through the\n",
       "     * 'cursor' event from matplotlib */\n",
       "    event.preventDefault();\n",
       "    return false;\n",
       "}\n",
       "\n",
       "mpl.figure.prototype._key_event_extra = function(event, name) {\n",
       "    // Handle any extra behaviour associated with a key event\n",
       "}\n",
       "\n",
       "mpl.figure.prototype.key_event = function(event, name) {\n",
       "\n",
       "    // Prevent repeat events\n",
       "    if (name == 'key_press')\n",
       "    {\n",
       "        if (event.which === this._key)\n",
       "            return;\n",
       "        else\n",
       "            this._key = event.which;\n",
       "    }\n",
       "    if (name == 'key_release')\n",
       "        this._key = null;\n",
       "\n",
       "    var value = '';\n",
       "    if (event.ctrlKey && event.which != 17)\n",
       "        value += \"ctrl+\";\n",
       "    if (event.altKey && event.which != 18)\n",
       "        value += \"alt+\";\n",
       "    if (event.shiftKey && event.which != 16)\n",
       "        value += \"shift+\";\n",
       "\n",
       "    value += 'k';\n",
       "    value += event.which.toString();\n",
       "\n",
       "    this._key_event_extra(event, name);\n",
       "\n",
       "    this.send_message(name, {key: value,\n",
       "                             guiEvent: simpleKeys(event)});\n",
       "    return false;\n",
       "}\n",
       "\n",
       "mpl.figure.prototype.toolbar_button_onclick = function(name) {\n",
       "    if (name == 'download') {\n",
       "        this.handle_save(this, null);\n",
       "    } else {\n",
       "        this.send_message(\"toolbar_button\", {name: name});\n",
       "    }\n",
       "};\n",
       "\n",
       "mpl.figure.prototype.toolbar_button_onmouseover = function(tooltip) {\n",
       "    this.message.textContent = tooltip;\n",
       "};\n",
       "mpl.toolbar_items = [[\"Home\", \"Reset original view\", \"fa fa-home icon-home\", \"home\"], [\"Back\", \"Back to  previous view\", \"fa fa-arrow-left icon-arrow-left\", \"back\"], [\"Forward\", \"Forward to next view\", \"fa fa-arrow-right icon-arrow-right\", \"forward\"], [\"\", \"\", \"\", \"\"], [\"Pan\", \"Pan axes with left mouse, zoom with right\", \"fa fa-arrows icon-move\", \"pan\"], [\"Zoom\", \"Zoom to rectangle\", \"fa fa-square-o icon-check-empty\", \"zoom\"], [\"\", \"\", \"\", \"\"], [\"Download\", \"Download plot\", \"fa fa-floppy-o icon-save\", \"download\"]];\n",
       "\n",
       "mpl.extensions = [\"eps\", \"jpeg\", \"pdf\", \"png\", \"ps\", \"raw\", \"svg\", \"tif\"];\n",
       "\n",
       "mpl.default_extension = \"png\";var comm_websocket_adapter = function(comm) {\n",
       "    // Create a \"websocket\"-like object which calls the given IPython comm\n",
       "    // object with the appropriate methods. Currently this is a non binary\n",
       "    // socket, so there is still some room for performance tuning.\n",
       "    var ws = {};\n",
       "\n",
       "    ws.close = function() {\n",
       "        comm.close()\n",
       "    };\n",
       "    ws.send = function(m) {\n",
       "        //console.log('sending', m);\n",
       "        comm.send(m);\n",
       "    };\n",
       "    // Register the callback with on_msg.\n",
       "    comm.on_msg(function(msg) {\n",
       "        //console.log('receiving', msg['content']['data'], msg);\n",
       "        // Pass the mpl event to the overridden (by mpl) onmessage function.\n",
       "        ws.onmessage(msg['content']['data'])\n",
       "    });\n",
       "    return ws;\n",
       "}\n",
       "\n",
       "mpl.mpl_figure_comm = function(comm, msg) {\n",
       "    // This is the function which gets called when the mpl process\n",
       "    // starts-up an IPython Comm through the \"matplotlib\" channel.\n",
       "\n",
       "    var id = msg.content.data.id;\n",
       "    // Get hold of the div created by the display call when the Comm\n",
       "    // socket was opened in Python.\n",
       "    var element = $(\"#\" + id);\n",
       "    var ws_proxy = comm_websocket_adapter(comm)\n",
       "\n",
       "    function ondownload(figure, format) {\n",
       "        window.open(figure.imageObj.src);\n",
       "    }\n",
       "\n",
       "    var fig = new mpl.figure(id, ws_proxy,\n",
       "                           ondownload,\n",
       "                           element.get(0));\n",
       "\n",
       "    // Call onopen now - mpl needs it, as it is assuming we've passed it a real\n",
       "    // web socket which is closed, not our websocket->open comm proxy.\n",
       "    ws_proxy.onopen();\n",
       "\n",
       "    fig.parent_element = element.get(0);\n",
       "    fig.cell_info = mpl.find_output_cell(\"<div id='\" + id + \"'></div>\");\n",
       "    if (!fig.cell_info) {\n",
       "        console.error(\"Failed to find cell for figure\", id, fig);\n",
       "        return;\n",
       "    }\n",
       "\n",
       "    var output_index = fig.cell_info[2]\n",
       "    var cell = fig.cell_info[0];\n",
       "\n",
       "};\n",
       "\n",
       "mpl.figure.prototype.handle_close = function(fig, msg) {\n",
       "    var width = fig.canvas.width/mpl.ratio\n",
       "    fig.root.unbind('remove')\n",
       "\n",
       "    // Update the output cell to use the data from the current canvas.\n",
       "    fig.push_to_output();\n",
       "    var dataURL = fig.canvas.toDataURL();\n",
       "    // Re-enable the keyboard manager in IPython - without this line, in FF,\n",
       "    // the notebook keyboard shortcuts fail.\n",
       "    IPython.keyboard_manager.enable()\n",
       "    $(fig.parent_element).html('<img src=\"' + dataURL + '\" width=\"' + width + '\">');\n",
       "    fig.close_ws(fig, msg);\n",
       "}\n",
       "\n",
       "mpl.figure.prototype.close_ws = function(fig, msg){\n",
       "    fig.send_message('closing', msg);\n",
       "    // fig.ws.close()\n",
       "}\n",
       "\n",
       "mpl.figure.prototype.push_to_output = function(remove_interactive) {\n",
       "    // Turn the data on the canvas into data in the output cell.\n",
       "    var width = this.canvas.width/mpl.ratio\n",
       "    var dataURL = this.canvas.toDataURL();\n",
       "    this.cell_info[1]['text/html'] = '<img src=\"' + dataURL + '\" width=\"' + width + '\">';\n",
       "}\n",
       "\n",
       "mpl.figure.prototype.updated_canvas_event = function() {\n",
       "    // Tell IPython that the notebook contents must change.\n",
       "    IPython.notebook.set_dirty(true);\n",
       "    this.send_message(\"ack\", {});\n",
       "    var fig = this;\n",
       "    // Wait a second, then push the new image to the DOM so\n",
       "    // that it is saved nicely (might be nice to debounce this).\n",
       "    setTimeout(function () { fig.push_to_output() }, 1000);\n",
       "}\n",
       "\n",
       "mpl.figure.prototype._init_toolbar = function() {\n",
       "    var fig = this;\n",
       "\n",
       "    var nav_element = $('<div/>')\n",
       "    nav_element.attr('style', 'width: 100%');\n",
       "    this.root.append(nav_element);\n",
       "\n",
       "    // Define a callback function for later on.\n",
       "    function toolbar_event(event) {\n",
       "        return fig.toolbar_button_onclick(event['data']);\n",
       "    }\n",
       "    function toolbar_mouse_event(event) {\n",
       "        return fig.toolbar_button_onmouseover(event['data']);\n",
       "    }\n",
       "\n",
       "    for(var toolbar_ind in mpl.toolbar_items){\n",
       "        var name = mpl.toolbar_items[toolbar_ind][0];\n",
       "        var tooltip = mpl.toolbar_items[toolbar_ind][1];\n",
       "        var image = mpl.toolbar_items[toolbar_ind][2];\n",
       "        var method_name = mpl.toolbar_items[toolbar_ind][3];\n",
       "\n",
       "        if (!name) { continue; };\n",
       "\n",
       "        var button = $('<button class=\"btn btn-default\" href=\"#\" title=\"' + name + '\"><i class=\"fa ' + image + ' fa-lg\"></i></button>');\n",
       "        button.click(method_name, toolbar_event);\n",
       "        button.mouseover(tooltip, toolbar_mouse_event);\n",
       "        nav_element.append(button);\n",
       "    }\n",
       "\n",
       "    // Add the status bar.\n",
       "    var status_bar = $('<span class=\"mpl-message\" style=\"text-align:right; float: right;\"/>');\n",
       "    nav_element.append(status_bar);\n",
       "    this.message = status_bar[0];\n",
       "\n",
       "    // Add the close button to the window.\n",
       "    var buttongrp = $('<div class=\"btn-group inline pull-right\"></div>');\n",
       "    var button = $('<button class=\"btn btn-mini btn-primary\" href=\"#\" title=\"Stop Interaction\"><i class=\"fa fa-power-off icon-remove icon-large\"></i></button>');\n",
       "    button.click(function (evt) { fig.handle_close(fig, {}); } );\n",
       "    button.mouseover('Stop Interaction', toolbar_mouse_event);\n",
       "    buttongrp.append(button);\n",
       "    var titlebar = this.root.find($('.ui-dialog-titlebar'));\n",
       "    titlebar.prepend(buttongrp);\n",
       "}\n",
       "\n",
       "mpl.figure.prototype._root_extra_style = function(el){\n",
       "    var fig = this\n",
       "    el.on(\"remove\", function(){\n",
       "\tfig.close_ws(fig, {});\n",
       "    });\n",
       "}\n",
       "\n",
       "mpl.figure.prototype._canvas_extra_style = function(el){\n",
       "    // this is important to make the div 'focusable\n",
       "    el.attr('tabindex', 0)\n",
       "    // reach out to IPython and tell the keyboard manager to turn it's self\n",
       "    // off when our div gets focus\n",
       "\n",
       "    // location in version 3\n",
       "    if (IPython.notebook.keyboard_manager) {\n",
       "        IPython.notebook.keyboard_manager.register_events(el);\n",
       "    }\n",
       "    else {\n",
       "        // location in version 2\n",
       "        IPython.keyboard_manager.register_events(el);\n",
       "    }\n",
       "\n",
       "}\n",
       "\n",
       "mpl.figure.prototype._key_event_extra = function(event, name) {\n",
       "    var manager = IPython.notebook.keyboard_manager;\n",
       "    if (!manager)\n",
       "        manager = IPython.keyboard_manager;\n",
       "\n",
       "    // Check for shift+enter\n",
       "    if (event.shiftKey && event.which == 13) {\n",
       "        this.canvas_div.blur();\n",
       "        event.shiftKey = false;\n",
       "        // Send a \"J\" for go to next cell\n",
       "        event.which = 74;\n",
       "        event.keyCode = 74;\n",
       "        manager.command_mode();\n",
       "        manager.handle_keydown(event);\n",
       "    }\n",
       "}\n",
       "\n",
       "mpl.figure.prototype.handle_save = function(fig, msg) {\n",
       "    fig.ondownload(fig, null);\n",
       "}\n",
       "\n",
       "\n",
       "mpl.find_output_cell = function(html_output) {\n",
       "    // Return the cell and output element which can be found *uniquely* in the notebook.\n",
       "    // Note - this is a bit hacky, but it is done because the \"notebook_saving.Notebook\"\n",
       "    // IPython event is triggered only after the cells have been serialised, which for\n",
       "    // our purposes (turning an active figure into a static one), is too late.\n",
       "    var cells = IPython.notebook.get_cells();\n",
       "    var ncells = cells.length;\n",
       "    for (var i=0; i<ncells; i++) {\n",
       "        var cell = cells[i];\n",
       "        if (cell.cell_type === 'code'){\n",
       "            for (var j=0; j<cell.output_area.outputs.length; j++) {\n",
       "                var data = cell.output_area.outputs[j];\n",
       "                if (data.data) {\n",
       "                    // IPython >= 3 moved mimebundle to data attribute of output\n",
       "                    data = data.data;\n",
       "                }\n",
       "                if (data['text/html'] == html_output) {\n",
       "                    return [cell, data, j];\n",
       "                }\n",
       "            }\n",
       "        }\n",
       "    }\n",
       "}\n",
       "\n",
       "// Register the function which deals with the matplotlib target/channel.\n",
       "// The kernel may be null if the page has been refreshed.\n",
       "if (IPython.notebook.kernel != null) {\n",
       "    IPython.notebook.kernel.comm_manager.register_target('matplotlib', mpl.mpl_figure_comm);\n",
       "}\n"
      ],
      "text/plain": [
       "<IPython.core.display.Javascript object>"
      ]
     },
     "metadata": {},
     "output_type": "display_data"
    },
    {
     "data": {
      "text/html": [
       "<img src=\"data:image/png;base64,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\" width=\"900\">"
      ],
      "text/plain": [
       "<IPython.core.display.HTML object>"
      ]
     },
     "metadata": {},
     "output_type": "display_data"
    },
    {
     "data": {
      "application/vnd.jupyter.widget-view+json": {
       "model_id": "cdab130af73545948f349a9779d58fd5",
       "version_major": 2,
       "version_minor": 0
      },
      "text/plain": [
       "HBox(children=(IntRangeSlider(value=(16383, 49151), layout=Layout(width='75%'), max=65535), Button(description…"
      ]
     },
     "metadata": {},
     "output_type": "display_data"
    }
   ],
   "source": [
    "tr.set_acc_loc_opts(\"sc\", 0)"
   ]
  },
  {
   "cell_type": "code",
   "execution_count": 10,
   "metadata": {
    "scrolled": true
   },
   "outputs": [
    {
     "data": {
      "application/vnd.jupyter.widget-view+json": {
       "model_id": "fc951f5f950047039ca1c839c525906f",
       "version_major": 2,
       "version_minor": 0
      },
      "text/plain": [
       "Label(value='Starting…')"
      ]
     },
     "metadata": {},
     "output_type": "display_data"
    }
   ],
   "source": [
    "tr.locate()"
   ]
  },
  {
   "cell_type": "code",
   "execution_count": 11,
   "metadata": {},
   "outputs": [
    {
     "data": {
      "application/vnd.jupyter.widget-view+json": {
       "model_id": "6cc3093b03e942a5a69c3c73e187bdbc",
       "version_major": 2,
       "version_minor": 0
      },
      "text/plain": [
       "Label(value='Starting…')"
      ]
     },
     "metadata": {},
     "output_type": "display_data"
    }
   ],
   "source": [
    "tr.track(feat_radius=4, bg_frame=3, link_radius=2, link_mem=3, min_length=4, bg_estimator=\"mean\")"
   ]
  },
  {
   "cell_type": "code",
   "execution_count": 12,
   "metadata": {},
   "outputs": [],
   "source": [
    "tr.analyze()"
   ]
  },
  {
   "cell_type": "code",
   "execution_count": 13,
   "metadata": {},
   "outputs": [],
   "source": [
    "tr.save_data()"
   ]
  },
  {
   "cell_type": "code",
   "execution_count": null,
   "metadata": {},
   "outputs": [],
   "source": []
  }
 ],
 "metadata": {
  "anaconda-cloud": {},
  "kernelspec": {
   "display_name": "Python 3",
   "language": "python",
   "name": "python3"
  },
  "language_info": {
   "codemirror_mode": {
    "name": "ipython",
    "version": 3
   },
   "file_extension": ".py",
   "mimetype": "text/x-python",
   "name": "python",
   "nbconvert_exporter": "python",
   "pygments_lexer": "ipython3",
   "version": "3.6.5"
  },
  "nbpresent": {
   "slides": {
    "20fa0cd3-020c-4d9f-bcba-4e50c0c0a5d1": {
     "id": "20fa0cd3-020c-4d9f-bcba-4e50c0c0a5d1",
     "prev": "76433211-a936-400b-84f3-6a2fb80db8f1",
     "regions": {
      "2fd4244b-acc8-4dfc-babd-08c1db7b747a": {
       "attrs": {
        "height": 0.8,
        "width": 0.45,
        "x": 0.5,
        "y": 0.1
       },
       "content": {
        "cell": "dc9c3e3e-8794-45c2-9297-5d25775cf3f7",
        "part": "outputs"
       },
       "id": "2fd4244b-acc8-4dfc-babd-08c1db7b747a"
      },
      "5c5edddc-6415-40e9-a5ac-ffb546f82ef7": {
       "attrs": {
        "height": 0.8,
        "width": 0.45,
        "x": 0.05,
        "y": 0.1
       },
       "content": {
        "cell": "bd5405cb-53b0-416d-8790-3c6d72aad18e",
        "part": "outputs"
       },
       "id": "5c5edddc-6415-40e9-a5ac-ffb546f82ef7"
      }
     }
    },
    "76433211-a936-400b-84f3-6a2fb80db8f1": {
     "id": "76433211-a936-400b-84f3-6a2fb80db8f1",
     "prev": "e09ecffc-34f4-4a8f-a2cc-3ee776e5e11d",
     "regions": {
      "5fabb9bc-7563-43b0-a27e-45df2ab0d7b2": {
       "attrs": {
        "height": 0.8,
        "width": 0.45,
        "x": 0.5,
        "y": 0.1
       },
       "content": {
        "cell": "f96fc3f9-f52c-4eef-a51d-820ae20139f8",
        "part": "outputs"
       },
       "id": "5fabb9bc-7563-43b0-a27e-45df2ab0d7b2"
      },
      "ceaa665e-b68f-495f-957b-5a9b2e940e15": {
       "attrs": {
        "height": 0.8,
        "width": 0.45,
        "x": 0.05,
        "y": 0.1
       },
       "content": {
        "cell": "08649e84-4e91-4f9b-abca-7afff2065f6f",
        "part": "outputs"
       },
       "id": "ceaa665e-b68f-495f-957b-5a9b2e940e15"
      }
     }
    },
    "e09ecffc-34f4-4a8f-a2cc-3ee776e5e11d": {
     "id": "e09ecffc-34f4-4a8f-a2cc-3ee776e5e11d",
     "prev": null,
     "regions": {
      "3991d937-36e0-4d56-804e-4e9f31be78f5": {
       "attrs": {
        "height": 0.1500000000000001,
        "width": 0.44999999999999996,
        "x": 0.25,
        "y": 0.1
       },
       "content": {
        "cell": "8802d2db-c6c7-47ab-8e4f-3469fe66f891",
        "part": "widgets"
       },
       "id": "3991d937-36e0-4d56-804e-4e9f31be78f5"
      },
      "e0df44c7-b500-4da1-9614-784f74a93bae": {
       "attrs": {
        "height": 0.6,
        "width": 0.8,
        "x": 0.10000000000000002,
        "y": 0.3
       },
       "content": {
        "cell": "8802d2db-c6c7-47ab-8e4f-3469fe66f891",
        "part": "outputs"
       },
       "id": "e0df44c7-b500-4da1-9614-784f74a93bae"
      }
     }
    }
   },
   "themes": {}
  },
  "widgets": {
   "application/vnd.jupyter.widget-state+json": {
    "state": {
     "0018c04d4b2749a4897ec5711d0a8a1b": {
      "model_module": "@jupyter-widgets/controls",
      "model_module_version": "1.2.0",
      "model_name": "DescriptionStyleModel",
      "state": {
       "description_width": ""
      }
     },
     "0018d2c8cdc24975953919ccc4a08340": {
      "model_module": "@jupyter-widgets/controls",
      "model_module_version": "1.2.0",
      "model_name": "IntRangeSliderModel",
      "state": {
       "_model_name": "IntRangeSliderModel",
       "_view_name": "IntRangeSliderView",
       "layout": "IPY_MODEL_e8f899ae81b342c3a754c989ebecfc61",
       "max": 65535,
       "style": "IPY_MODEL_ca3928b3edc542b58ac4ba639b5d69ba",
       "value": [
        134,
        25393
       ]
      }
     },
     "002fad1c936943c5a2f2e933f8c91d83": {
      "model_module": "@jupyter-widgets/base",
      "model_module_version": "1.0.0",
      "model_name": "LayoutModel",
      "state": {
       "height": "150px",
       "width": "100%"
      }
     },
     "004a165785f648a6af498860645ce22a": {
      "model_module": "@jupyter-widgets/base",
      "model_module_version": "1.0.0",
      "model_name": "LayoutModel",
      "state": {
       "display": "none"
      }
     },
     "005559a6669f4d2b82b23960f9ad2cb3": {
      "model_module": "@jupyter-widgets/controls",
      "model_module_version": "1.2.0",
      "model_name": "BoundedIntTextModel",
      "state": {
       "description": "frame",
       "layout": "IPY_MODEL_17611348fb7d45928e9f9acdc16169f9",
       "max": 0,
       "style": "IPY_MODEL_1426a3465bbb49f9a45da3139f641ba9"
      }
     },
     "005a080a10004a2c8d90773f71f9702c": {
      "model_module": "@jupyter-widgets/controls",
      "model_module_version": "1.2.0",
      "model_name": "DropdownModel",
      "state": {
       "_options_labels": [
        "2d_fixed",
        "2d",
        "3d"
       ],
       "description": "model",
       "index": 1,
       "layout": "IPY_MODEL_cfa32745ebd04dfb992444c4c45e14fc",
       "style": "IPY_MODEL_203ba0904d38451fb868de08497577ce"
      }
     },
     "00c8c197117140f2832e70472620dcf6": {
      "model_module": "@jupyter-widgets/controls",
      "model_module_version": "1.2.0",
      "model_name": "DescriptionStyleModel",
      "state": {
       "description_width": ""
      }
     },
     "00d2c26445ad4dca886c63ad1b249952": {
      "model_module": "@jupyter-widgets/controls",
      "model_module_version": "1.2.0",
      "model_name": "DescriptionStyleModel",
      "state": {
       "description_width": ""
      }
     },
     "00de74018a174b87b954fff29cd962b5": {
      "model_module": "@jupyter-widgets/base",
      "model_module_version": "1.0.0",
      "model_name": "LayoutModel",
      "state": {
       "display": "inline"
      }
     },
     "00f6af30c0f74e0aa80c801130e3da5a": {
      "model_module": "@jupyter-widgets/base",
      "model_module_version": "1.0.0",
      "model_name": "LayoutModel",
      "state": {
       "width": "75%"
      }
     },
     "0104da1552564463929855cbc2b05593": {
      "model_module": "@jupyter-widgets/controls",
      "model_module_version": "1.2.0",
      "model_name": "DescriptionStyleModel",
      "state": {
       "description_width": ""
      }
     },
     "01201ffdcbff4b7d99f12629d45e4765": {
      "model_module": "@jupyter-widgets/base",
      "model_module_version": "1.0.0",
      "model_name": "LayoutModel",
      "state": {
       "height": "150px",
       "width": "100%"
      }
     },
     "01736be456ab4639a4e5f0f48f300839": {
      "model_module": "@jupyter-widgets/base",
      "model_module_version": "1.0.0",
      "model_name": "LayoutModel",
      "state": {
       "display": "none"
      }
     },
     "01a04dad67354b949f6a51b8bd6ab6ce": {
      "model_module": "@jupyter-widgets/controls",
      "model_module_version": "1.2.0",
      "model_name": "FloatTextModel",
      "state": {
       "description": "min.",
       "layout": "IPY_MODEL_56176a1911624df796d721ccf19324b6",
       "step": 0.1,
       "style": "IPY_MODEL_b44f50020b3f47899df9d43f22800286",
       "value": 0.5
      }
     },
     "01a2af9cf5104fb89fd4349bdc5dadb0": {
      "model_module": "@jupyter-widgets/controls",
      "model_module_version": "1.2.0",
      "model_name": "ButtonModel",
      "state": {
       "description": "Auto",
       "layout": "IPY_MODEL_6f3d645ca24d406081c03e962d90f5a0",
       "style": "IPY_MODEL_911e291299a9413694e2a31039eee35d"
      }
     },
     "01c8d0a55d0d48fdb32ed0408d82c1f5": {
      "model_module": "@jupyter-widgets/base",
      "model_module_version": "1.0.0",
      "model_name": "LayoutModel",
      "state": {
       "display": "flex",
       "flex_flow": "column wrap",
       "width": "66%"
      }
     },
     "01f6114e99c54035b39fe440e01986c9": {
      "model_module": "@jupyter-widgets/controls",
      "model_module_version": "1.2.0",
      "model_name": "DescriptionStyleModel",
      "state": {
       "description_width": ""
      }
     },
     "01f6fc6969b24911a349404d837bbf45": {
      "model_module": "@jupyter-widgets/base",
      "model_module_version": "1.0.0",
      "model_name": "LayoutModel",
      "state": {}
     },
     "01f7febb058f4a6ab60dfa074be2473d": {
      "model_module": "@jupyter-widgets/base",
      "model_module_version": "1.0.0",
      "model_name": "LayoutModel",
      "state": {}
     },
     "0200b780536d46a68b76eabe0aa9c320": {
      "model_module": "@jupyter-widgets/controls",
      "model_module_version": "1.2.0",
      "model_name": "DropdownModel",
      "state": {
       "_options_labels": [
        "2d_fixed",
        "2d",
        "3d"
       ],
       "description": "model",
       "index": 1,
       "layout": "IPY_MODEL_224958830e62412ab889b6ed9fa99549",
       "style": "IPY_MODEL_238977709bdf4273955dfeab92032af3"
      }
     },
     "0203ed12b70147ab820d372e3bb3afd2": {
      "model_module": "@jupyter-widgets/controls",
      "model_module_version": "1.2.0",
      "model_name": "CheckboxModel",
      "state": {
       "description": "Size range",
       "disabled": false,
       "indent": false,
       "layout": "IPY_MODEL_a2616790db824ffeb65d14eceec14934",
       "style": "IPY_MODEL_ad796e7bca5a42e5a14af119f386b4f3",
       "value": false
      }
     },
     "022d4e6b9d2b4ef29ad13e4759bdf303": {
      "model_module": "@jupyter-widgets/controls",
      "model_module_version": "1.2.0",
      "model_name": "DescriptionStyleModel",
      "state": {
       "description_width": ""
      }
     },
     "0261f9e62b234439873402d336041a69": {
      "model_module": "@jupyter-widgets/base",
      "model_module_version": "1.0.0",
      "model_name": "LayoutModel",
      "state": {
       "display": "flex",
       "flex_flow": "column wrap",
       "width": "66%"
      }
     },
     "027b45db01154a21918c8441fdd464ab": {
      "model_module": "@jupyter-widgets/controls",
      "model_module_version": "1.2.0",
      "model_name": "FloatTextModel",
      "state": {
       "description": "sigma",
       "layout": "IPY_MODEL_cdab3f1ca1a844ac9a1c96886bcb7f1a",
       "step": 0.1,
       "style": "IPY_MODEL_1850dec0b94841749bdb0da2fcf7727e",
       "value": 1
      }
     },
     "0296a0f59d2b495eacb4a67dee643a45": {
      "model_module": "@jupyter-widgets/controls",
      "model_module_version": "1.2.0",
      "model_name": "DescriptionStyleModel",
      "state": {
       "description_width": ""
      }
     },
     "02a6d4c29bb34dc0bc5e9aed5d5a181c": {
      "model_module": "@jupyter-widgets/controls",
      "model_module_version": "1.2.0",
      "model_name": "DescriptionStyleModel",
      "state": {
       "description_width": ""
      }
     },
     "030beaf9a07c41708ef5d2a2e0be05f5": {
      "model_module": "@jupyter-widgets/base",
      "model_module_version": "1.0.0",
      "model_name": "LayoutModel",
      "state": {}
     },
     "036084afd6684ecb9dbf7a29de25ccbe": {
      "model_module": "@jupyter-widgets/controls",
      "model_module_version": "1.2.0",
      "model_name": "HBoxModel",
      "state": {
       "children": [
        "IPY_MODEL_e4b7ecda4ad2471eb30d35e20928ad25",
        "IPY_MODEL_aaf69e05d407466fbe2eec239cc90280"
       ],
       "layout": "IPY_MODEL_52b0b62b8f1f4cd5bce7e1cce59de77c"
      }
     },
     "03a3c44633d2479eb3411c8dabba1b26": {
      "model_module": "@jupyter-widgets/base",
      "model_module_version": "1.0.0",
      "model_name": "LayoutModel",
      "state": {}
     },
     "03aea725465c47fa9e097730c1678540": {
      "model_module": "@jupyter-widgets/base",
      "model_module_version": "1.0.0",
      "model_name": "LayoutModel",
      "state": {
       "display": "none"
      }
     },
     "03bd1f0914ee43919dc47922430145b1": {
      "model_module": "@jupyter-widgets/base",
      "model_module_version": "1.0.0",
      "model_name": "LayoutModel",
      "state": {
       "display": "none"
      }
     },
     "03bdc5d00f804a5f8446fe02ee16e61c": {
      "model_module": "@jupyter-widgets/controls",
      "model_module_version": "1.2.0",
      "model_name": "DescriptionStyleModel",
      "state": {
       "description_width": ""
      }
     },
     "03d007fe573c4c9cbc5e4ea7cb9d0326": {
      "model_module": "@jupyter-widgets/base",
      "model_module_version": "1.0.0",
      "model_name": "LayoutModel",
      "state": {
       "width": "auto"
      }
     },
     "03d928f519d64a2f9d4c52fa72ca46b6": {
      "model_module": "@jupyter-widgets/controls",
      "model_module_version": "1.2.0",
      "model_name": "VBoxModel",
      "state": {
       "children": [
        "IPY_MODEL_c8cf22efdacb441780a9aa8333ed026b",
        "IPY_MODEL_a29e98e632534b93a0297f84f985a715",
        "IPY_MODEL_4e99d039977c47e3b8eba971c359fe29",
        "IPY_MODEL_ab316c8c91c44fa8aaa0cc813e57bfe0",
        "IPY_MODEL_b9d61e8c852c46c0ae27e1f2932f1f1c",
        "IPY_MODEL_e0096b38b7aa4a74a77947079110a333"
       ],
       "layout": "IPY_MODEL_7809e59803954e9ea3f3fb2f18196cbd"
      }
     },
     "0409ab0ac45f4d6b9b8e29003830c6c8": {
      "model_module": "@jupyter-widgets/controls",
      "model_module_version": "1.2.0",
      "model_name": "CheckboxModel",
      "state": {
       "description": "Size range",
       "disabled": false,
       "indent": false,
       "layout": "IPY_MODEL_2e5dcae31e52441794fbc41e8ead87db",
       "style": "IPY_MODEL_d589a64ea0144e829816e9d737a2d6bc",
       "value": false
      }
     },
     "042ebc57e42b4549895c60f4edbf265d": {
      "model_module": "@jupyter-widgets/base",
      "model_module_version": "1.0.0",
      "model_name": "LayoutModel",
      "state": {}
     },
     "0456f5bd127e43acb9f732da112bdd05": {
      "model_module": "@jupyter-widgets/controls",
      "model_module_version": "1.2.0",
      "model_name": "VBoxModel",
      "state": {
       "children": [
        "IPY_MODEL_9e4ae6a9292d4d9fbf87d5349ce243a7",
        "IPY_MODEL_4a51c13f3cd54ae98aa108b595a29848"
       ],
       "layout": "IPY_MODEL_285746af59934c1f9dc7dec16ecc850a"
      }
     },
     "047b67ca52234b498d91b3ffeb8eca13": {
      "model_module": "@jupyter-widgets/controls",
      "model_module_version": "1.2.0",
      "model_name": "DescriptionStyleModel",
      "state": {
       "description_width": ""
      }
     },
     "04c134ec844f48518c4d43fadfc470b3": {
      "model_module": "@jupyter-widgets/controls",
      "model_module_version": "1.2.0",
      "model_name": "DescriptionStyleModel",
      "state": {
       "description_width": ""
      }
     },
     "04fdb9be1ec84e91900284c7a9256bea": {
      "model_module": "@jupyter-widgets/controls",
      "model_module_version": "1.2.0",
      "model_name": "FloatTextModel",
      "state": {
       "description": "radius",
       "layout": "IPY_MODEL_640cbdf5fd58499cbf65b6ac96918d91",
       "step": 0.1,
       "style": "IPY_MODEL_586ea51ad54b431dbb7953698bff4f35",
       "value": 1
      }
     },
     "051997f9d6024dc8af51f2a4058dfa7b": {
      "model_module": "@jupyter-widgets/controls",
      "model_module_version": "1.2.0",
      "model_name": "SelectModel",
      "state": {
       "_options_labels": [
        "sensor-H57/cells-01_SAv-100k_SSS-H57-20k_000_.SPE"
       ],
       "index": 0,
       "layout": "IPY_MODEL_694f05a775e044d99aa44d6e58b4a1df",
       "style": "IPY_MODEL_865d1a7cd7b948548f2f7bb0f5eda00d"
      }
     },
     "0524bbc1993d499ab516047e3e4ae8ef": {
      "model_module": "@jupyter-widgets/base",
      "model_module_version": "1.0.0",
      "model_name": "LayoutModel",
      "state": {}
     },
     "05434a78486b4f4fb282f2cf32bb38c2": {
      "model_module": "@jupyter-widgets/controls",
      "model_module_version": "1.2.0",
      "model_name": "VBoxModel",
      "state": {
       "children": [
        "IPY_MODEL_adf40acda44f4b9b85e18c7a602df93c",
        "IPY_MODEL_11e567c07a2947178f7856bc1e3177b7"
       ],
       "layout": "IPY_MODEL_08c700fd289b431f93dfd8c2acd90d83"
      }
     },
     "0556af0fe8ce4c26887e936312cfee70": {
      "model_module": "@jupyter-widgets/base",
      "model_module_version": "1.0.0",
      "model_name": "LayoutModel",
      "state": {
       "width": "auto"
      }
     },
     "056306537363474c8160e61694a424b4": {
      "model_module": "@jupyter-widgets/base",
      "model_module_version": "1.0.0",
      "model_name": "LayoutModel",
      "state": {}
     },
     "057f5b2e771b4affac01583cff8c1586": {
      "model_module": "@jupyter-widgets/controls",
      "model_module_version": "1.2.0",
      "model_name": "VBoxModel",
      "state": {
       "children": [
        "IPY_MODEL_8d671eebba524806afd5190d5e9a294e",
        "IPY_MODEL_24f230003cf34f44811eff269324db40"
       ],
       "layout": "IPY_MODEL_65630ef9ee4e474da824e0ddc15db440"
      }
     },
     "05b4ec877b804dcbb86c36c410f637c7": {
      "model_module": "@jupyter-widgets/base",
      "model_module_version": "1.0.0",
      "model_name": "LayoutModel",
      "state": {
       "display": "none"
      }
     },
     "05c83d8adb7a4dababc3d43a13d279d9": {
      "model_module": "@jupyter-widgets/controls",
      "model_module_version": "1.2.0",
      "model_name": "FloatTextModel",
      "state": {
       "description": "radius",
       "layout": "IPY_MODEL_172a497724ce402ebdf3e897cdc66b6a",
       "step": 0.1,
       "style": "IPY_MODEL_16f404d292a64112972a0e9303c52ff0",
       "value": 1
      }
     },
     "05d857c2e8504550a4718576d51adb6e": {
      "model_module": "@jupyter-widgets/controls",
      "model_module_version": "1.2.0",
      "model_name": "DescriptionStyleModel",
      "state": {
       "description_width": ""
      }
     },
     "05e0d564a0d3408bba633bcffd12cb3f": {
      "model_module": "@jupyter-widgets/base",
      "model_module_version": "1.0.0",
      "model_name": "LayoutModel",
      "state": {
       "width": "auto"
      }
     },
     "0621e68317c3484c843c55c54ace5a2e": {
      "model_module": "@jupyter-widgets/controls",
      "model_module_version": "1.2.0",
      "model_name": "DescriptionStyleModel",
      "state": {
       "description_width": ""
      }
     },
     "063a0a7144d44c968349e73ffdaafdfe": {
      "model_module": "@jupyter-widgets/controls",
      "model_module_version": "1.2.0",
      "model_name": "DescriptionStyleModel",
      "state": {
       "description_width": ""
      }
     },
     "06913487a458403db576442098aaf641": {
      "model_module": "@jupyter-widgets/controls",
      "model_module_version": "1.2.0",
      "model_name": "FloatTextModel",
      "state": {
       "description": "radius",
       "layout": "IPY_MODEL_3c545a405b674051b41100b62fdf4ca2",
       "step": 0.1,
       "style": "IPY_MODEL_ea0b6a5546d9429ea7de2c7325b94dc9",
       "value": 1
      }
     },
     "06ba97282e1f4df59bebd0e0fd71431e": {
      "model_module": "@jupyter-widgets/controls",
      "model_module_version": "1.2.0",
      "model_name": "DescriptionStyleModel",
      "state": {
       "description_width": ""
      }
     },
     "07322f2872994b62a67e3ecc71961d7c": {
      "model_module": "@jupyter-widgets/base",
      "model_module_version": "1.0.0",
      "model_name": "LayoutModel",
      "state": {
       "height": "150px",
       "width": "100%"
      }
     },
     "07510a80d1154ce0a25057b5c67d278e": {
      "model_module": "@jupyter-widgets/base",
      "model_module_version": "1.0.0",
      "model_name": "LayoutModel",
      "state": {}
     },
     "07751bd64e3b49d794716b8557be9e28": {
      "model_module": "@jupyter-widgets/controls",
      "model_module_version": "1.2.0",
      "model_name": "HBoxModel",
      "state": {
       "children": [
        "IPY_MODEL_8dc6f662a26d4004be642e35900832e6",
        "IPY_MODEL_c9281a9444b342ccaeea5bbe41437cdf"
       ],
       "layout": "IPY_MODEL_0d75f16430f04176b6d02fbe5a4cb578"
      }
     },
     "078f43c2886840b78d1209cb7dd1867a": {
      "model_module": "@jupyter-widgets/base",
      "model_module_version": "1.0.0",
      "model_name": "LayoutModel",
      "state": {}
     },
     "07ac523a740a4fe68f24c1ab8535c730": {
      "model_module": "@jupyter-widgets/base",
      "model_module_version": "1.0.0",
      "model_name": "LayoutModel",
      "state": {
       "width": "auto"
      }
     },
     "07ba1d809e7c4ee195754d8378541f95": {
      "model_module": "@jupyter-widgets/controls",
      "model_module_version": "1.2.0",
      "model_name": "FloatTextModel",
      "state": {
       "layout": "IPY_MODEL_fae526bc39354f31b449fbcf1ccffccb",
       "step": 0.1,
       "style": "IPY_MODEL_e372ba2d74b8463db4786dc761cb09eb",
       "value": 3
      }
     },
     "07c8ae6842234a828cdc5b7ad6386b73": {
      "model_module": "@jupyter-widgets/controls",
      "model_module_version": "1.2.0",
      "model_name": "FloatTextModel",
      "state": {
       "description": "radius",
       "layout": "IPY_MODEL_4100fe56dc0b474794a0e0181f531fa2",
       "step": 0.1,
       "style": "IPY_MODEL_e671edec20394f92b29c23c6cad1c372",
       "value": 1
      }
     },
     "07cc9f950bd74e1d9b27e3b600f67ccb": {
      "model_module": "@jupyter-widgets/controls",
      "model_module_version": "1.2.0",
      "model_name": "DescriptionStyleModel",
      "state": {
       "description_width": ""
      }
     },
     "08031491c93e44c89351b873ef2d2793": {
      "model_module": "@jupyter-widgets/base",
      "model_module_version": "1.0.0",
      "model_name": "LayoutModel",
      "state": {
       "display": "flex",
       "flex_flow": "column wrap",
       "width": "66%"
      }
     },
     "083e49bdb54143db8c07ed01ba581d4c": {
      "model_module": "@jupyter-widgets/controls",
      "model_module_version": "1.2.0",
      "model_name": "DescriptionStyleModel",
      "state": {
       "description_width": ""
      }
     },
     "0842280875f046f9bd4875c3380bfbad": {
      "model_module": "@jupyter-widgets/controls",
      "model_module_version": "1.2.0",
      "model_name": "SliderStyleModel",
      "state": {
       "description_width": ""
      }
     },
     "0861d974a75343e6ad8cf9bb30904b63": {
      "model_module": "@jupyter-widgets/base",
      "model_module_version": "1.0.0",
      "model_name": "LayoutModel",
      "state": {}
     },
     "08c700fd289b431f93dfd8c2acd90d83": {
      "model_module": "@jupyter-widgets/base",
      "model_module_version": "1.0.0",
      "model_name": "LayoutModel",
      "state": {}
     },
     "08cbf097b5044a9e9658b1d5c04785f4": {
      "model_module": "@jupyter-widgets/base",
      "model_module_version": "1.0.0",
      "model_name": "LayoutModel",
      "state": {}
     },
     "08d3390a8eb14b92a51410e0026a657c": {
      "model_module": "@jupyter-widgets/base",
      "model_module_version": "1.0.0",
      "model_name": "LayoutModel",
      "state": {
       "width": "auto"
      }
     },
     "091ad8f59a174e4c8ab5ec61361a4982": {
      "model_module": "@jupyter-widgets/controls",
      "model_module_version": "1.2.0",
      "model_name": "HBoxModel",
      "state": {
       "children": [
        "IPY_MODEL_0c2c821c11174c3181f541a202aabba8",
        "IPY_MODEL_cb1aa06d48374c2a8b0ffa29b92d25dc",
        "IPY_MODEL_a0a29a1f59f34253bb259655681ce3bd"
       ],
       "layout": "IPY_MODEL_54ee6f9886ed45c598dc7148a36a5ee5"
      }
     },
     "094dc0a79c5448bcb2cc027f7dbdbf13": {
      "model_module": "@jupyter-widgets/controls",
      "model_module_version": "1.2.0",
      "model_name": "DescriptionStyleModel",
      "state": {
       "description_width": ""
      }
     },
     "09565482a60f468594efd05d8d47ce33": {
      "model_module": "@jupyter-widgets/controls",
      "model_module_version": "1.2.0",
      "model_name": "DescriptionStyleModel",
      "state": {
       "description_width": ""
      }
     },
     "0957f0c2e0354c03bd87e808879cf3bb": {
      "model_module": "@jupyter-widgets/base",
      "model_module_version": "1.0.0",
      "model_name": "LayoutModel",
      "state": {
       "display": "inline"
      }
     },
     "095a4faaffa94acba0dd70dc2c9df44f": {
      "model_module": "@jupyter-widgets/controls",
      "model_module_version": "1.2.0",
      "model_name": "SliderStyleModel",
      "state": {
       "description_width": ""
      }
     },
     "098bb99af1444004b3183b58bee89a05": {
      "model_module": "@jupyter-widgets/base",
      "model_module_version": "1.0.0",
      "model_name": "LayoutModel",
      "state": {
       "display": "inline"
      }
     },
     "099afe946aed4e08b18ee60ecfe3b28b": {
      "model_module": "@jupyter-widgets/controls",
      "model_module_version": "1.2.0",
      "model_name": "HBoxModel",
      "state": {
       "children": [
        "IPY_MODEL_5e1159f85fd74644919df2bb3f051ffa",
        "IPY_MODEL_27c2f36460284101b93dd9865d56f8cd"
       ],
       "layout": "IPY_MODEL_c866b561794e42ffbd8a5935d2516349"
      }
     },
     "09b5f256ed1e4788b8e416dda6f8b13d": {
      "model_module": "@jupyter-widgets/controls",
      "model_module_version": "1.2.0",
      "model_name": "SliderStyleModel",
      "state": {
       "description_width": ""
      }
     },
     "09c44b7191ff4e899246f49643253bb7": {
      "model_module": "@jupyter-widgets/controls",
      "model_module_version": "1.2.0",
      "model_name": "DescriptionStyleModel",
      "state": {
       "description_width": ""
      }
     },
     "0a68c8db6a294839898bb1fc2f78bc02": {
      "model_module": "@jupyter-widgets/controls",
      "model_module_version": "1.2.0",
      "model_name": "SelectModel",
      "state": {
       "_options_labels": [
        "sensor-H57/cells-01_SAv-100k_SSS-H57-20k_000_.SPE"
       ],
       "index": 0,
       "layout": "IPY_MODEL_33b505d4898344e08bee75837efdc0c8",
       "style": "IPY_MODEL_3c575d413417433c9323336b0c3bb3ab"
      }
     },
     "0ab698786cec42bc8fdf23c17c963c07": {
      "model_module": "@jupyter-widgets/controls",
      "model_module_version": "1.2.0",
      "model_name": "CheckboxModel",
      "state": {
       "description": "Min. distance",
       "disabled": false,
       "indent": false,
       "layout": "IPY_MODEL_fb4924fb8fa347eb9e2cb3a4a5a80dbb",
       "style": "IPY_MODEL_908ebcf6e38043ebb72d731b3bc73225",
       "value": true
      }
     },
     "0ab92ff91b114e2daa93551ba7b31491": {
      "model_module": "@jupyter-widgets/base",
      "model_module_version": "1.0.0",
      "model_name": "LayoutModel",
      "state": {
       "width": "auto"
      }
     },
     "0adcae1437194ade8015c833911ed5f2": {
      "model_module": "@jupyter-widgets/base",
      "model_module_version": "1.0.0",
      "model_name": "LayoutModel",
      "state": {
       "display": "none"
      }
     },
     "0b016037b1b242e09c406091965d5de8": {
      "model_module": "@jupyter-widgets/controls",
      "model_module_version": "1.2.0",
      "model_name": "DescriptionStyleModel",
      "state": {
       "description_width": ""
      }
     },
     "0b1698841e0d421eb716eafdd81dd2d8": {
      "model_module": "@jupyter-widgets/base",
      "model_module_version": "1.0.0",
      "model_name": "LayoutModel",
      "state": {
       "width": "100%"
      }
     },
     "0b26403315784fb28513a6a4c21f2802": {
      "model_module": "@jupyter-widgets/base",
      "model_module_version": "1.0.0",
      "model_name": "LayoutModel",
      "state": {}
     },
     "0b268781f879496594ca2800dad1d7b6": {
      "model_module": "@jupyter-widgets/controls",
      "model_module_version": "1.2.0",
      "model_name": "VBoxModel",
      "state": {
       "children": [
        "IPY_MODEL_04fdb9be1ec84e91900284c7a9256bea",
        "IPY_MODEL_b80d9fa544a9403f812443b83f778e0b",
        "IPY_MODEL_c02e2719552f4f6f8a7163d508f464e5",
        "IPY_MODEL_99ac8c78982f43ed9a357414fce0e531",
        "IPY_MODEL_1c1dc811f4d24013a84188335929fb18",
        "IPY_MODEL_fd853b0b90924fb6a53b45d7f2f9f5de"
       ],
       "layout": "IPY_MODEL_c0c6fbf615274e70adf571485cf9d79d"
      }
     },
     "0b4f80b3350848c2bb999d8c38dce5e9": {
      "model_module": "@jupyter-widgets/controls",
      "model_module_version": "1.2.0",
      "model_name": "DropdownModel",
      "state": {
       "_options_labels": [
        "Identity",
        "Cg",
        "Gaussian"
       ],
       "description": "find filter",
       "index": 1,
       "layout": "IPY_MODEL_1298c2f018fa484983e6191c3898cf91",
       "style": "IPY_MODEL_af5d88a7eb814276beaffbf600ae6e4b"
      }
     },
     "0b7488dc0c1a4be3a881714889f948cc": {
      "model_module": "@jupyter-widgets/controls",
      "model_module_version": "1.2.0",
      "model_name": "BoundedIntTextModel",
      "state": {
       "description": "frame",
       "layout": "IPY_MODEL_d73383bfe9e84b2091b2f51a95d1fb57",
       "max": 0,
       "style": "IPY_MODEL_d7c003ad030e43d7920d916a0cd7b2d3"
      }
     },
     "0bb803444c5846469a6bf6be5e47a7e4": {
      "model_module": "@jupyter-widgets/controls",
      "model_module_version": "1.2.0",
      "model_name": "DescriptionStyleModel",
      "state": {
       "description_width": ""
      }
     },
     "0bbae70001a54bdfa7504e058d9a2e55": {
      "model_module": "@jupyter-widgets/base",
      "model_module_version": "1.0.0",
      "model_name": "LayoutModel",
      "state": {
       "display": "none"
      }
     },
     "0bd360a680314cf9ae5ad3f3958c587e": {
      "model_module": "@jupyter-widgets/base",
      "model_module_version": "1.0.0",
      "model_name": "LayoutModel",
      "state": {
       "width": "100%"
      }
     },
     "0c124c81a4ff4f639e468eb91b806fcc": {
      "model_module": "@jupyter-widgets/controls",
      "model_module_version": "1.2.0",
      "model_name": "DescriptionStyleModel",
      "state": {
       "description_width": ""
      }
     },
     "0c2c821c11174c3181f541a202aabba8": {
      "model_module": "@jupyter-widgets/controls",
      "model_module_version": "1.2.0",
      "model_name": "IntRangeSliderModel",
      "state": {
       "_model_name": "IntRangeSliderModel",
       "_view_name": "IntRangeSliderView",
       "layout": "IPY_MODEL_00f6af30c0f74e0aa80c801130e3da5a",
       "max": 65535,
       "style": "IPY_MODEL_0dea4a80553942d89e25df014d6ee707",
       "value": [
        133,
        967
       ]
      }
     },
     "0c6814e20e264632b34c7a9ba47b467d": {
      "model_module": "@jupyter-widgets/base",
      "model_module_version": "1.0.0",
      "model_name": "LayoutModel",
      "state": {}
     },
     "0c9b1166092a416bafb4ec0991ca6558": {
      "model_module": "@jupyter-widgets/base",
      "model_module_version": "1.0.0",
      "model_name": "LayoutModel",
      "state": {
       "width": "auto"
      }
     },
     "0cc2a9ebd0594ea6838949bf57e197fc": {
      "model_module": "@jupyter-widgets/controls",
      "model_module_version": "1.2.0",
      "model_name": "CheckboxModel",
      "state": {
       "description": "Show loc.",
       "disabled": false,
       "indent": false,
       "layout": "IPY_MODEL_37ef0d8b772140dfbf59b4763913ae43",
       "style": "IPY_MODEL_51367cd976a94f70a43509ca261a2281",
       "value": true
      }
     },
     "0cd50c8a59d14bb2ba55e998b7433045": {
      "model_module": "@jupyter-widgets/controls",
      "model_module_version": "1.2.0",
      "model_name": "ButtonStyleModel",
      "state": {}
     },
     "0cdd03ac64564b4c9f06551bd032c8e4": {
      "model_module": "@jupyter-widgets/controls",
      "model_module_version": "1.2.0",
      "model_name": "DescriptionStyleModel",
      "state": {
       "description_width": ""
      }
     },
     "0cde23ecad0b4d89b0284fcc52027cab": {
      "model_module": "@jupyter-widgets/controls",
      "model_module_version": "1.2.0",
      "model_name": "DescriptionStyleModel",
      "state": {
       "description_width": ""
      }
     },
     "0cea7e65dde3457aa96dbed8b7568a9b": {
      "model_module": "@jupyter-widgets/controls",
      "model_module_version": "1.2.0",
      "model_name": "FloatTextModel",
      "state": {
       "layout": "IPY_MODEL_fc6acbe5624b473093f3740247f56ee1",
       "step": 0.1,
       "style": "IPY_MODEL_3b3b7dd44e824c8b806aee7c8bb1e065",
       "value": 1
      }
     },
     "0d28e98bb1b740e9b120e4d2ed3ef1b9": {
      "model_module": "@jupyter-widgets/base",
      "model_module_version": "1.0.0",
      "model_name": "LayoutModel",
      "state": {
       "width": "auto"
      }
     },
     "0d3893c8ef9e4b89a5cb9014ed8248c1": {
      "model_module": "@jupyter-widgets/controls",
      "model_module_version": "1.2.0",
      "model_name": "DescriptionStyleModel",
      "state": {
       "description_width": ""
      }
     },
     "0d66c1f375ac41059427cca0ddc0d82a": {
      "model_module": "@jupyter-widgets/controls",
      "model_module_version": "1.2.0",
      "model_name": "DescriptionStyleModel",
      "state": {
       "description_width": ""
      }
     },
     "0d6a2440340e489fad4981a43b1605fb": {
      "model_module": "@jupyter-widgets/base",
      "model_module_version": "1.0.0",
      "model_name": "LayoutModel",
      "state": {
       "height": "150px",
       "width": "100%"
      }
     },
     "0d75f16430f04176b6d02fbe5a4cb578": {
      "model_module": "@jupyter-widgets/base",
      "model_module_version": "1.0.0",
      "model_name": "LayoutModel",
      "state": {}
     },
     "0dad7982ad9346ffab27dbee023aab10": {
      "model_module": "@jupyter-widgets/controls",
      "model_module_version": "1.2.0",
      "model_name": "IntTextModel",
      "state": {
       "description": "feat. size",
       "layout": "IPY_MODEL_90aad56497fd4a5ea38f011e38008929",
       "step": 1,
       "style": "IPY_MODEL_d2f150c4a8744343a106dbf84685e7dc",
       "value": 3
      }
     },
     "0de1c5355cd847b3a4c630d31a3c7fb3": {
      "model_module": "@jupyter-widgets/controls",
      "model_module_version": "1.2.0",
      "model_name": "SelectModel",
      "state": {
       "_options_labels": [
        "data/beads/beads_000_.SPE",
        "data/beads/beads_001_.SPE",
        "data/beads/beads_002_.SPE",
        "data/beads/beads_003_.SPE",
        "data/beads/beads_004_.SPE",
        "data/beads/beads_005_.SPE",
        "data/beads/beads_006_.SPE",
        "data/beads/beads_007_.SPE",
        "data/beads/beads_008_.SPE",
        "data/beads/beads_009_.SPE"
       ],
       "index": 2,
       "layout": "IPY_MODEL_de5dcfa265124cf994457d534f2c4215",
       "style": "IPY_MODEL_99c464f01fd644c0a79237b476adc7af"
      }
     },
     "0dea4a80553942d89e25df014d6ee707": {
      "model_module": "@jupyter-widgets/controls",
      "model_module_version": "1.2.0",
      "model_name": "SliderStyleModel",
      "state": {
       "description_width": ""
      }
     },
     "0e0fc3f0530442bba3c7061cba46620f": {
      "model_module": "@jupyter-widgets/base",
      "model_module_version": "1.0.0",
      "model_name": "LayoutModel",
      "state": {
       "display": "flex",
       "flex_flow": "column wrap",
       "width": "66%"
      }
     },
     "0e15b4ab70e64fb69be8687a31917ad0": {
      "model_module": "@jupyter-widgets/base",
      "model_module_version": "1.0.0",
      "model_name": "LayoutModel",
      "state": {
       "width": "auto"
      }
     },
     "0e4f94f81e074cf5a19d35943215a729": {
      "model_module": "@jupyter-widgets/controls",
      "model_module_version": "1.2.0",
      "model_name": "CheckboxModel",
      "state": {
       "description": "Min. distance",
       "disabled": false,
       "indent": false,
       "layout": "IPY_MODEL_3be64c840f9c483681797b6d67d67b27",
       "style": "IPY_MODEL_1cd9165871484cebae6f2ee4b0feeb3a",
       "value": false
      }
     },
     "0e53dd625aaf4141a1a499dd154d5c97": {
      "model_module": "@jupyter-widgets/controls",
      "model_module_version": "1.2.0",
      "model_name": "FloatTextModel",
      "state": {
       "description": "min.",
       "layout": "IPY_MODEL_ef96b9ee0b834f7ebd60e3a76226f34e",
       "step": 0.1,
       "style": "IPY_MODEL_af599191dcb649338ccbb3cea8cfeb03",
       "value": 0.5
      }
     },
     "0e846b7ba4e8427b88c38ae508539120": {
      "model_module": "@jupyter-widgets/controls",
      "model_module_version": "1.2.0",
      "model_name": "DescriptionStyleModel",
      "state": {
       "description_width": ""
      }
     },
     "0e96033702ba4048a8f6c44f2bd69146": {
      "model_module": "@jupyter-widgets/controls",
      "model_module_version": "1.2.0",
      "model_name": "HBoxModel",
      "state": {
       "children": [
        "IPY_MODEL_56ddf30c3b54448eaac9adb02d973201",
        "IPY_MODEL_6da725d532d3441487b7c2d1168108aa"
       ],
       "layout": "IPY_MODEL_5663bea537e443eeaf6cc92c7c239ccd"
      }
     },
     "0ebbc1d754194a6794d3a380493e0363": {
      "model_module": "@jupyter-widgets/controls",
      "model_module_version": "1.2.0",
      "model_name": "HBoxModel",
      "state": {
       "children": [
        "IPY_MODEL_ebfe0329c9a54c26a8d0d1bc90fd1a37",
        "IPY_MODEL_c76a669be50c46c1b514303101b0de0e",
        "IPY_MODEL_74ba6fa1846d4103a14d6c2c08919732"
       ],
       "layout": "IPY_MODEL_810a209724294271b83a49d267f14a22"
      }
     },
     "0ec48eb6111c4e2d84fcf0f14db3e192": {
      "model_module": "@jupyter-widgets/controls",
      "model_module_version": "1.2.0",
      "model_name": "HBoxModel",
      "state": {
       "children": [
        "IPY_MODEL_f7f0349594174e56aa4cc491edcb7149",
        "IPY_MODEL_43d66b0944744ebda42365d083675a51"
       ],
       "layout": "IPY_MODEL_4d26ee6060214ff5b2a24bb3784c0591"
      }
     },
     "0ecb2e4660f94784a1958fd57ec03801": {
      "model_module": "@jupyter-widgets/base",
      "model_module_version": "1.0.0",
      "model_name": "LayoutModel",
      "state": {}
     },
     "0ef1d040c6c04fb7864e43dfd058b198": {
      "model_module": "@jupyter-widgets/controls",
      "model_module_version": "1.2.0",
      "model_name": "FloatTextModel",
      "state": {
       "description": "threshold",
       "layout": "IPY_MODEL_958e349bb2f843249adb8d750bd6ce15",
       "step": 10,
       "style": "IPY_MODEL_9cd8c13726d9400fb744a6ad4f4ee915",
       "value": 1000
      }
     },
     "0f1e09de113d4707bfbd3b083df35a52": {
      "model_module": "@jupyter-widgets/controls",
      "model_module_version": "1.2.0",
      "model_name": "DropdownModel",
      "state": {
       "_options_labels": [
        "2d_fixed",
        "2d",
        "3d"
       ],
       "description": "model",
       "index": 1,
       "layout": "IPY_MODEL_01f6fc6969b24911a349404d837bbf45",
       "style": "IPY_MODEL_2a6e1b9ea69042ccb479bd8922b4c3e3"
      }
     },
     "0f239a73f8c247669d67dbaed55521ee": {
      "model_module": "@jupyter-widgets/controls",
      "model_module_version": "1.2.0",
      "model_name": "FloatTextModel",
      "state": {
       "description": "max.",
       "layout": "IPY_MODEL_9c1237db10024290bd907058ca89ce61",
       "step": 0.1,
       "style": "IPY_MODEL_1a3ce324352f43739e089ba40bb8356d",
       "value": 2
      }
     },
     "0f6bb27f3b3e40e092dfb62abeb2476e": {
      "model_module": "@jupyter-widgets/base",
      "model_module_version": "1.0.0",
      "model_name": "LayoutModel",
      "state": {}
     },
     "0f6cb1432de1435a9412ac14c5c56d0b": {
      "model_module": "@jupyter-widgets/controls",
      "model_module_version": "1.2.0",
      "model_name": "DescriptionStyleModel",
      "state": {
       "description_width": ""
      }
     },
     "0f71c59db5aa4ea2b4769b5fea8c042f": {
      "model_module": "@jupyter-widgets/controls",
      "model_module_version": "1.2.0",
      "model_name": "DropdownModel",
      "state": {
       "_options_labels": [
        "Identity",
        "Cg",
        "Gaussian"
       ],
       "description": "find filter",
       "index": 1,
       "layout": "IPY_MODEL_b6a004b7e5574931b253328f1ad72624",
       "style": "IPY_MODEL_00d2c26445ad4dca886c63ad1b249952"
      }
     },
     "0fbf87dece764104b2cc5449cc9c7045": {
      "model_module": "@jupyter-widgets/base",
      "model_module_version": "1.0.0",
      "model_name": "LayoutModel",
      "state": {
       "width": "auto"
      }
     },
     "0fd64fed8a98495887e9ff49fff9d153": {
      "model_module": "@jupyter-widgets/controls",
      "model_module_version": "1.2.0",
      "model_name": "HBoxModel",
      "state": {
       "children": [
        "IPY_MODEL_05434a78486b4f4fb282f2cf32bb38c2",
        "IPY_MODEL_0b268781f879496594ca2800dad1d7b6"
       ],
       "layout": "IPY_MODEL_ecc12122d14a49e08bd8d8a6abf47879"
      }
     },
     "0fdde6d3a31a4ddb847a09ae10b05383": {
      "model_module": "@jupyter-widgets/controls",
      "model_module_version": "1.2.0",
      "model_name": "FloatTextModel",
      "state": {
       "description": "radius",
       "layout": "IPY_MODEL_6abdc33bf74742bc8631b54d38dc7eac",
       "step": 0.1,
       "style": "IPY_MODEL_e0c21e017fae4469abcf38c5338a9fcd",
       "value": 1
      }
     },
     "1009cd49c97e4206874e152e3db862bb": {
      "model_module": "@jupyter-widgets/base",
      "model_module_version": "1.0.0",
      "model_name": "LayoutModel",
      "state": {
       "display": "inline"
      }
     },
     "104e27273701462387b2cccb8e04aaf3": {
      "model_module": "@jupyter-widgets/controls",
      "model_module_version": "1.2.0",
      "model_name": "HBoxModel",
      "state": {
       "children": [
        "IPY_MODEL_dca9dd971b584ed1885dee7f185ae186",
        "IPY_MODEL_236ced0324ff408f86c0ce05e6e95632"
       ],
       "layout": "IPY_MODEL_9859e0a4f72b43af9a1a7f26e9c2eb1d"
      }
     },
     "105a5f4d969c4f2fbe2b7101b1a7d737": {
      "model_module": "@jupyter-widgets/base",
      "model_module_version": "1.0.0",
      "model_name": "LayoutModel",
      "state": {
       "width": "auto"
      }
     },
     "10930e794dea4b8bb113968a2230e0bb": {
      "model_module": "@jupyter-widgets/controls",
      "model_module_version": "1.2.0",
      "model_name": "VBoxModel",
      "state": {
       "children": [
        "IPY_MODEL_a9d8db04f91f4a78885048e47fe7d975",
        "IPY_MODEL_26d2919eacc5468aa126e4cfc0d56667",
        "IPY_MODEL_cbe91f751e1345588c0f8f841dba1a7b",
        "IPY_MODEL_b0ef45ddc9b64ae4b529c290407ec1f0",
        "IPY_MODEL_30a0241e5c814472b05714b48f2ffe88",
        "IPY_MODEL_25c7833c2c09419385454a435a839d35"
       ],
       "layout": "IPY_MODEL_90e802b1fc6a4e63aaed8c6f15075403"
      }
     },
     "10d29956cd704a7abe4c63434fd680b1": {
      "model_module": "@jupyter-widgets/controls",
      "model_module_version": "1.2.0",
      "model_name": "HBoxModel",
      "state": {
       "children": [
        "IPY_MODEL_4db7d530e0c34e82a4bf095e64845645",
        "IPY_MODEL_d2ec2c846e5f41738e5cf8d5b73514c9",
        "IPY_MODEL_9281a656a23d43bf85a38bb834ee710c"
       ],
       "layout": "IPY_MODEL_96306988e5d94606a1f1a51d0796167d"
      }
     },
     "1140ea0dbb964fe495fb0ac563e9eb3c": {
      "model_module": "@jupyter-widgets/controls",
      "model_module_version": "1.2.0",
      "model_name": "DescriptionStyleModel",
      "state": {
       "description_width": ""
      }
     },
     "1141d8cb2a8148a48ac1b6503f8c1ee9": {
      "model_module": "@jupyter-widgets/base",
      "model_module_version": "1.0.0",
      "model_name": "LayoutModel",
      "state": {}
     },
     "114e2f7fb777473c8b586bfcf3cadabc": {
      "model_module": "@jupyter-widgets/controls",
      "model_module_version": "1.2.0",
      "model_name": "FloatTextModel",
      "state": {
       "description": "min.",
       "layout": "IPY_MODEL_5cfae39b4ad94a99ac82ed3735cb7ac7",
       "step": 0.1,
       "style": "IPY_MODEL_4a68f37c1a214fffa9dd0d7700cf194e",
       "value": 0.5
      }
     },
     "1190408936e74c2f86398b535c88453e": {
      "model_module": "@jupyter-widgets/base",
      "model_module_version": "1.0.0",
      "model_name": "LayoutModel",
      "state": {}
     },
     "1191e59b698f41caac1f2543b9ec672d": {
      "model_module": "@jupyter-widgets/controls",
      "model_module_version": "1.2.0",
      "model_name": "VBoxModel",
      "state": {
       "children": [
        "IPY_MODEL_7f73ff4f83394c04820b1cf4828cff07",
        "IPY_MODEL_714df60064f0460cb9bc52cfb29760a1",
        "IPY_MODEL_c3cef7fe114b456782edabca88e03ff7"
       ],
       "layout": "IPY_MODEL_ca65cbf710a34eb2af2f0e54479139a8"
      }
     },
     "11b0a6c6cf96408bbd24e9bb3b9ec223": {
      "model_module": "@jupyter-widgets/base",
      "model_module_version": "1.0.0",
      "model_name": "LayoutModel",
      "state": {
       "width": "auto"
      }
     },
     "11bc5b1e3dc949a284eaa6fedf5ca20e": {
      "model_module": "@jupyter-widgets/base",
      "model_module_version": "1.0.0",
      "model_name": "LayoutModel",
      "state": {
       "width": "100%"
      }
     },
     "11e567c07a2947178f7856bc1e3177b7": {
      "model_module": "@jupyter-widgets/controls",
      "model_module_version": "1.2.0",
      "model_name": "BoundedIntTextModel",
      "state": {
       "description": "frame",
       "layout": "IPY_MODEL_0b26403315784fb28513a6a4c21f2802",
       "max": 49,
       "style": "IPY_MODEL_47584766f8314f85a70a4f38066c9eff"
      }
     },
     "11ee04842b9941189f848983bbd33060": {
      "model_module": "@jupyter-widgets/controls",
      "model_module_version": "1.2.0",
      "model_name": "DescriptionStyleModel",
      "state": {
       "description_width": ""
      }
     },
     "120e3330344a49d09454f506e17883f3": {
      "model_module": "@jupyter-widgets/controls",
      "model_module_version": "1.2.0",
      "model_name": "DescriptionStyleModel",
      "state": {
       "description_width": ""
      }
     },
     "125e07c7c1e04324b46ede98c53c63a4": {
      "model_module": "@jupyter-widgets/controls",
      "model_module_version": "1.2.0",
      "model_name": "DescriptionStyleModel",
      "state": {
       "description_width": ""
      }
     },
     "12980f81724142febe19018a4167f93d": {
      "model_module": "@jupyter-widgets/base",
      "model_module_version": "1.0.0",
      "model_name": "LayoutModel",
      "state": {
       "height": "150px",
       "width": "100%"
      }
     },
     "1298c2f018fa484983e6191c3898cf91": {
      "model_module": "@jupyter-widgets/base",
      "model_module_version": "1.0.0",
      "model_name": "LayoutModel",
      "state": {}
     },
     "129fbcfc47dd431bb83dc04e5b77badc": {
      "model_module": "@jupyter-widgets/base",
      "model_module_version": "1.0.0",
      "model_name": "LayoutModel",
      "state": {}
     },
     "12a71bb1fa3543c4a44273b64a802864": {
      "model_module": "@jupyter-widgets/controls",
      "model_module_version": "1.2.0",
      "model_name": "DescriptionStyleModel",
      "state": {
       "description_width": ""
      }
     },
     "12ac72ede8384674adc3df71072a70fe": {
      "model_module": "@jupyter-widgets/controls",
      "model_module_version": "1.2.0",
      "model_name": "SliderStyleModel",
      "state": {
       "description_width": ""
      }
     },
     "12d202bf4c084227bba83c3e9ada6aed": {
      "model_module": "@jupyter-widgets/controls",
      "model_module_version": "1.2.0",
      "model_name": "CheckboxModel",
      "state": {
       "description": "Min. distance",
       "disabled": false,
       "indent": false,
       "layout": "IPY_MODEL_7e804dfa5c76426e93cae68a9fbae361",
       "style": "IPY_MODEL_2dacbaa2b3094d1a80a90e4ec97b39e8",
       "value": true
      }
     },
     "12e003f48a8e42dcb76762eb7dbfbd59": {
      "model_module": "@jupyter-widgets/controls",
      "model_module_version": "1.2.0",
      "model_name": "ButtonStyleModel",
      "state": {}
     },
     "12e3aca5f7a3466baf8ea7382af3da63": {
      "model_module": "@jupyter-widgets/controls",
      "model_module_version": "1.2.0",
      "model_name": "DescriptionStyleModel",
      "state": {
       "description_width": ""
      }
     },
     "131d72ed5e92478eb026faf47c0daf88": {
      "model_module": "@jupyter-widgets/controls",
      "model_module_version": "1.2.0",
      "model_name": "DescriptionStyleModel",
      "state": {
       "description_width": ""
      }
     },
     "1349499d518a404598f1082519609c97": {
      "model_module": "@jupyter-widgets/base",
      "model_module_version": "1.0.0",
      "model_name": "LayoutModel",
      "state": {}
     },
     "140bc70604c44cd0b1ee487d0c9276c6": {
      "model_module": "@jupyter-widgets/base",
      "model_module_version": "1.0.0",
      "model_name": "LayoutModel",
      "state": {
       "width": "auto"
      }
     },
     "140ec12a11b9452bbfb35586d4dcede5": {
      "model_module": "@jupyter-widgets/controls",
      "model_module_version": "1.2.0",
      "model_name": "DescriptionStyleModel",
      "state": {
       "description_width": ""
      }
     },
     "1426a3465bbb49f9a45da3139f641ba9": {
      "model_module": "@jupyter-widgets/controls",
      "model_module_version": "1.2.0",
      "model_name": "DescriptionStyleModel",
      "state": {
       "description_width": ""
      }
     },
     "14692f2452074add81ccbce647b3a11e": {
      "model_module": "@jupyter-widgets/base",
      "model_module_version": "1.0.0",
      "model_name": "LayoutModel",
      "state": {
       "display": "none"
      }
     },
     "148091cf6441474c8ef54f7f093ea314": {
      "model_module": "@jupyter-widgets/base",
      "model_module_version": "1.0.0",
      "model_name": "LayoutModel",
      "state": {
       "border": "1px solid gray"
      }
     },
     "1484403c339c42d881d837479a6b348b": {
      "model_module": "@jupyter-widgets/controls",
      "model_module_version": "1.2.0",
      "model_name": "DescriptionStyleModel",
      "state": {
       "description_width": ""
      }
     },
     "1494528ace2c4c4db584278ebb8209ab": {
      "model_module": "@jupyter-widgets/controls",
      "model_module_version": "1.2.0",
      "model_name": "DescriptionStyleModel",
      "state": {
       "description_width": ""
      }
     },
     "14d5221e58f840aa88183d9af9408333": {
      "model_module": "@jupyter-widgets/controls",
      "model_module_version": "1.2.0",
      "model_name": "IntRangeSliderModel",
      "state": {
       "_model_name": "IntRangeSliderModel",
       "_view_name": "IntRangeSliderView",
       "layout": "IPY_MODEL_2df394f6bb7e4aada10f1ba8d918d4fb",
       "max": 65535,
       "style": "IPY_MODEL_ad174e487e694b738f5f19e1e7128916",
       "value": [
        134,
        25393
       ]
      }
     },
     "14df7f8e48284943bcb56f0d4e6b4518": {
      "model_module": "@jupyter-widgets/base",
      "model_module_version": "1.0.0",
      "model_name": "LayoutModel",
      "state": {}
     },
     "14e0f10b53a54f6981ae1f49c5ec1319": {
      "model_module": "@jupyter-widgets/controls",
      "model_module_version": "1.2.0",
      "model_name": "DescriptionStyleModel",
      "state": {
       "description_width": ""
      }
     },
     "15113472ac644c9dafe9aa5fd79b2ebc": {
      "model_module": "@jupyter-widgets/base",
      "model_module_version": "1.0.0",
      "model_name": "LayoutModel",
      "state": {
       "width": "auto"
      }
     },
     "1538691f74b44e72ac2a71f43fa8d908": {
      "model_module": "@jupyter-widgets/base",
      "model_module_version": "1.0.0",
      "model_name": "LayoutModel",
      "state": {
       "display": "none"
      }
     },
     "156fd5a9049b4a34bdafcf5399c6a636": {
      "model_module": "@jupyter-widgets/controls",
      "model_module_version": "1.2.0",
      "model_name": "FloatTextModel",
      "state": {
       "description": "radius",
       "layout": "IPY_MODEL_c0d5b515691a4f1bb53ebd8f89b9dd30",
       "step": 0.1,
       "style": "IPY_MODEL_7897d3f52a6c431889148c1404a7ad50",
       "value": 1
      }
     },
     "15fd5ddeea9b4b3ebf7f195fc013e804": {
      "model_module": "@jupyter-widgets/controls",
      "model_module_version": "1.2.0",
      "model_name": "FloatTextModel",
      "state": {
       "description": "max.",
       "layout": "IPY_MODEL_4365f161aa654dceb1f11c71ad69e059",
       "step": 0.1,
       "style": "IPY_MODEL_4c5be8f363bc45f38ed94765b9e7a6c9",
       "value": 2
      }
     },
     "1602f5feb09c4d74b13d2ed7587d5a03": {
      "model_module": "@jupyter-widgets/base",
      "model_module_version": "1.0.0",
      "model_name": "LayoutModel",
      "state": {
       "display": "none"
      }
     },
     "1618f4b3399c42758f19fedc025728c5": {
      "model_module": "@jupyter-widgets/base",
      "model_module_version": "1.0.0",
      "model_name": "LayoutModel",
      "state": {
       "display": "flex",
       "flex_flow": "column wrap",
       "width": "66%"
      }
     },
     "161bccb516f141d8af2d136bedde3dc7": {
      "model_module": "@jupyter-widgets/base",
      "model_module_version": "1.0.0",
      "model_name": "LayoutModel",
      "state": {
       "display": "none"
      }
     },
     "161e8a067c8947aab46ac8fe5a4a11af": {
      "model_module": "@jupyter-widgets/controls",
      "model_module_version": "1.2.0",
      "model_name": "DescriptionStyleModel",
      "state": {
       "description_width": ""
      }
     },
     "16280e129de34140ad85a284dd214b66": {
      "model_module": "@jupyter-widgets/controls",
      "model_module_version": "1.2.0",
      "model_name": "DescriptionStyleModel",
      "state": {
       "description_width": ""
      }
     },
     "1653a7a365f3480d9d9d6e9503868b77": {
      "model_module": "@jupyter-widgets/controls",
      "model_module_version": "1.2.0",
      "model_name": "VBoxModel",
      "state": {
       "children": [
        "IPY_MODEL_ba6a6ecec4be4859bb469f698578e451",
        "IPY_MODEL_176640f5fd624bf79c6cc71c4faada99",
        "IPY_MODEL_57b96df12752422e89e440a470aea9d3"
       ],
       "layout": "IPY_MODEL_4237b9133c2b4b87a4e3f25bfce6b24a"
      }
     },
     "166ed19e9e3f4f61ab800553362c811b": {
      "model_module": "@jupyter-widgets/controls",
      "model_module_version": "1.2.0",
      "model_name": "DescriptionStyleModel",
      "state": {
       "description_width": ""
      }
     },
     "169bee8484dc48b296b3922435be1ac1": {
      "model_module": "@jupyter-widgets/base",
      "model_module_version": "1.0.0",
      "model_name": "LayoutModel",
      "state": {}
     },
     "169d63fa5f784f9a911e226d9317a3b8": {
      "model_module": "@jupyter-widgets/controls",
      "model_module_version": "1.2.0",
      "model_name": "HBoxModel",
      "state": {
       "children": [
        "IPY_MODEL_90d47bd64de148b3ad13b9826f6860b0",
        "IPY_MODEL_2a7eeda57e1c429d8a77b6e15d71696f",
        "IPY_MODEL_98c40fa797494ee994e63aebeff97239"
       ],
       "layout": "IPY_MODEL_83816c77a7d44d1283af47f290407846"
      }
     },
     "16adeca1a5c84244923fc975362493e7": {
      "model_module": "@jupyter-widgets/base",
      "model_module_version": "1.0.0",
      "model_name": "LayoutModel",
      "state": {
       "display": "none"
      }
     },
     "16f404d292a64112972a0e9303c52ff0": {
      "model_module": "@jupyter-widgets/controls",
      "model_module_version": "1.2.0",
      "model_name": "DescriptionStyleModel",
      "state": {
       "description_width": ""
      }
     },
     "16f455c95b1e4673b92e8b23c61fcd37": {
      "model_module": "@jupyter-widgets/controls",
      "model_module_version": "1.2.0",
      "model_name": "FloatTextModel",
      "state": {
       "description": "sigma",
       "layout": "IPY_MODEL_42296a4b6f1b4f49b129bb4d23705751",
       "step": 0.1,
       "style": "IPY_MODEL_ed92f97417e347d18132099a5875532b",
       "value": 1
      }
     },
     "170d39d3ce444cba90ef4c63fbce7e89": {
      "model_module": "@jupyter-widgets/base",
      "model_module_version": "1.0.0",
      "model_name": "LayoutModel",
      "state": {
       "display": "none"
      }
     },
     "171fd38714314c55b9aa03a260d5df0a": {
      "model_module": "@jupyter-widgets/controls",
      "model_module_version": "1.2.0",
      "model_name": "FloatTextModel",
      "state": {
       "description": "radius",
       "layout": "IPY_MODEL_4b0261b9b6f648f5b2a390fda20c41f9",
       "step": 0.1,
       "style": "IPY_MODEL_454c08de3bcc4439b6a4751c4abdfe7c",
       "value": 1
      }
     },
     "1725c2f4e24f43519feeb602b06bd99e": {
      "model_module": "@jupyter-widgets/controls",
      "model_module_version": "1.2.0",
      "model_name": "FloatTextModel",
      "state": {
       "description": "sigma",
       "layout": "IPY_MODEL_181d1ce5682842fc989bdf2b73eef547",
       "step": 0.1,
       "style": "IPY_MODEL_197b6978e86a4a3ebee7346afc078e7d",
       "value": 1
      }
     },
     "172848b4e2ee4cc0acb10b8f5bfebb13": {
      "model_module": "@jupyter-widgets/base",
      "model_module_version": "1.0.0",
      "model_name": "LayoutModel",
      "state": {
       "width": "100%"
      }
     },
     "172a497724ce402ebdf3e897cdc66b6a": {
      "model_module": "@jupyter-widgets/base",
      "model_module_version": "1.0.0",
      "model_name": "LayoutModel",
      "state": {}
     },
     "1753f17a9cd74bb9be12223d1a6173b3": {
      "model_module": "@jupyter-widgets/base",
      "model_module_version": "1.0.0",
      "model_name": "LayoutModel",
      "state": {}
     },
     "17610fa125044383bad718745075fbe0": {
      "model_module": "@jupyter-widgets/controls",
      "model_module_version": "1.2.0",
      "model_name": "DropdownModel",
      "state": {
       "_options_labels": [
        "2d_fixed",
        "2d",
        "3d"
       ],
       "description": "model",
       "index": 1,
       "layout": "IPY_MODEL_c05d01372e25444d88e67353b0dceba0",
       "style": "IPY_MODEL_bea4f44c38254f5da66178f0078b2e5b"
      }
     },
     "17611348fb7d45928e9f9acdc16169f9": {
      "model_module": "@jupyter-widgets/base",
      "model_module_version": "1.0.0",
      "model_name": "LayoutModel",
      "state": {}
     },
     "176640f5fd624bf79c6cc71c4faada99": {
      "model_module": "@jupyter-widgets/controls",
      "model_module_version": "1.2.0",
      "model_name": "IntTextModel",
      "state": {
       "description": "feat. size",
       "layout": "IPY_MODEL_c89598672e964bb480ed2772eda0cd61",
       "step": 1,
       "style": "IPY_MODEL_5de06bb1c6624e61beb2780792cead7f",
       "value": 3
      }
     },
     "17a4f243e43749d3a82d94ed987a986a": {
      "model_module": "@jupyter-widgets/controls",
      "model_module_version": "1.2.0",
      "model_name": "DescriptionStyleModel",
      "state": {
       "description_width": ""
      }
     },
     "17b0ca20c3534b11b8e69cc5a94e3a47": {
      "model_module": "@jupyter-widgets/controls",
      "model_module_version": "1.2.0",
      "model_name": "ButtonStyleModel",
      "state": {}
     },
     "17fffd34af4f439a926cb172a59017fd": {
      "model_module": "@jupyter-widgets/controls",
      "model_module_version": "1.2.0",
      "model_name": "CheckboxModel",
      "state": {
       "description": "Show loc.",
       "disabled": false,
       "indent": false,
       "layout": "IPY_MODEL_ec102a599105400b922cb4662298b6c5",
       "style": "IPY_MODEL_125e07c7c1e04324b46ede98c53c63a4",
       "value": true
      }
     },
     "1801f0ca4a8a48b2bb97a19367c533ea": {
      "model_module": "@jupyter-widgets/base",
      "model_module_version": "1.0.0",
      "model_name": "LayoutModel",
      "state": {}
     },
     "181734e03d774155ab38b96f8b99a71a": {
      "model_module": "@jupyter-widgets/controls",
      "model_module_version": "1.2.0",
      "model_name": "DescriptionStyleModel",
      "state": {
       "description_width": ""
      }
     },
     "181d1ce5682842fc989bdf2b73eef547": {
      "model_module": "@jupyter-widgets/base",
      "model_module_version": "1.0.0",
      "model_name": "LayoutModel",
      "state": {
       "display": "none"
      }
     },
     "184e332be168424e9bb1cb8642c9490f": {
      "model_module": "@jupyter-widgets/controls",
      "model_module_version": "1.2.0",
      "model_name": "DescriptionStyleModel",
      "state": {
       "description_width": ""
      }
     },
     "1850dec0b94841749bdb0da2fcf7727e": {
      "model_module": "@jupyter-widgets/controls",
      "model_module_version": "1.2.0",
      "model_name": "DescriptionStyleModel",
      "state": {
       "description_width": ""
      }
     },
     "186fef0ffc664a32bff80e8a388fa1b1": {
      "model_module": "@jupyter-widgets/controls",
      "model_module_version": "1.2.0",
      "model_name": "DescriptionStyleModel",
      "state": {
       "description_width": ""
      }
     },
     "187be5cd708841f184606d85c5bc31f3": {
      "model_module": "@jupyter-widgets/controls",
      "model_module_version": "1.2.0",
      "model_name": "DescriptionStyleModel",
      "state": {
       "description_width": ""
      }
     },
     "18cf4394760945b48cbef11a18c60810": {
      "model_module": "@jupyter-widgets/controls",
      "model_module_version": "1.2.0",
      "model_name": "FloatTextModel",
      "state": {
       "description": "max.",
       "layout": "IPY_MODEL_e71fb3523ffa4b1aa40a594304fe041f",
       "step": 0.1,
       "style": "IPY_MODEL_71535ed4f46f42308f4796dd4b17a2ac",
       "value": 2
      }
     },
     "18e95443d23e4217b96c62ed43b0556f": {
      "model_module": "@jupyter-widgets/base",
      "model_module_version": "1.0.0",
      "model_name": "LayoutModel",
      "state": {}
     },
     "18f18c16017341cf809f83acd1531e91": {
      "model_module": "@jupyter-widgets/controls",
      "model_module_version": "1.2.0",
      "model_name": "HBoxModel",
      "state": {
       "children": [
        "IPY_MODEL_97f9733d2c474b21ba686340313e78ef",
        "IPY_MODEL_c96eaab9612e4b65aad3e9c5ce261e24",
        "IPY_MODEL_d7122f5bd03f49fba84fa28e42bb72db"
       ],
       "layout": "IPY_MODEL_60493ddd1b4c4697b62100c27014597a"
      }
     },
     "1927fade527b44e3b55d8b2bbaa09f28": {
      "model_module": "@jupyter-widgets/controls",
      "model_module_version": "1.2.0",
      "model_name": "FloatTextModel",
      "state": {
       "description": "min.",
       "layout": "IPY_MODEL_e0af1a73d3514a41b622304dfcb6b8be",
       "step": 0.1,
       "style": "IPY_MODEL_25457bbf14f747009b4f21cacf16a341",
       "value": 0.5
      }
     },
     "1945bebc4d184861bd438dffc310f6cd": {
      "model_module": "@jupyter-widgets/controls",
      "model_module_version": "1.2.0",
      "model_name": "SelectModel",
      "state": {
       "_options_labels": [
        "data/beads/beads_000_.SPE",
        "data/beads/beads_001_.SPE",
        "data/beads/beads_002_.SPE",
        "data/beads/beads_003_.SPE",
        "data/beads/beads_004_.SPE",
        "data/beads/beads_005_.SPE",
        "data/beads/beads_006_.SPE",
        "data/beads/beads_007_.SPE",
        "data/beads/beads_008_.SPE",
        "data/beads/beads_009_.SPE"
       ],
       "index": 1,
       "layout": "IPY_MODEL_bb271e1802df495589914f40f18a32f8",
       "style": "IPY_MODEL_3512eaffd0d549439f22523367cf10d8"
      }
     },
     "197b6978e86a4a3ebee7346afc078e7d": {
      "model_module": "@jupyter-widgets/controls",
      "model_module_version": "1.2.0",
      "model_name": "DescriptionStyleModel",
      "state": {
       "description_width": ""
      }
     },
     "198888b6357641588b0769efebdc4863": {
      "model_module": "@jupyter-widgets/controls",
      "model_module_version": "1.2.0",
      "model_name": "HBoxModel",
      "state": {
       "children": [
        "IPY_MODEL_44c08bc02daf42f1a0416a85a4b9969d",
        "IPY_MODEL_ab9309422cca470bb40a7c6d6ff4ef70"
       ],
       "layout": "IPY_MODEL_25a28600fbd84832bcec0ae2b9587f77"
      }
     },
     "19babbab651e40e7b31d69f0933dcd97": {
      "model_module": "@jupyter-widgets/controls",
      "model_module_version": "1.2.0",
      "model_name": "DescriptionStyleModel",
      "state": {
       "description_width": ""
      }
     },
     "19e4bbee2e614bc4ba7402ecedaa8c61": {
      "model_module": "@jupyter-widgets/base",
      "model_module_version": "1.0.0",
      "model_name": "LayoutModel",
      "state": {
       "width": "auto"
      }
     },
     "19e54e8518c447c6a57fc58c7d49c2ed": {
      "model_module": "@jupyter-widgets/controls",
      "model_module_version": "1.2.0",
      "model_name": "CheckboxModel",
      "state": {
       "description": "Min. distance",
       "disabled": false,
       "indent": false,
       "layout": "IPY_MODEL_26b33f01a9594bf3affc727010a0a2ad",
       "style": "IPY_MODEL_a9260d6530984155b08468659eee60ce",
       "value": true
      }
     },
     "1a3ce324352f43739e089ba40bb8356d": {
      "model_module": "@jupyter-widgets/controls",
      "model_module_version": "1.2.0",
      "model_name": "DescriptionStyleModel",
      "state": {
       "description_width": ""
      }
     },
     "1a7f60fb844840a79fe1bfc9d493b4d9": {
      "model_module": "@jupyter-widgets/controls",
      "model_module_version": "1.2.0",
      "model_name": "DropdownModel",
      "state": {
       "_options_labels": [
        "2d_fixed",
        "2d",
        "3d"
       ],
       "description": "model",
       "index": 1,
       "layout": "IPY_MODEL_932e06afd8a8412d8d84c05ece0810d7",
       "style": "IPY_MODEL_e96c896d4f344616b11a89abc57afed0"
      }
     },
     "1a9a1416534040559ecaeeb13f1b824a": {
      "model_module": "@jupyter-widgets/controls",
      "model_module_version": "1.2.0",
      "model_name": "FloatTextModel",
      "state": {
       "description": "max.",
       "layout": "IPY_MODEL_407ce516982c43a1a697e896a1586e0c",
       "step": 0.1,
       "style": "IPY_MODEL_c988709bd87c4a629641e62b63c167be",
       "value": 2
      }
     },
     "1ac8bfa0df214c21bddbf5915ae44e15": {
      "model_module": "@jupyter-widgets/controls",
      "model_module_version": "1.2.0",
      "model_name": "SelectModel",
      "state": {
       "_options_labels": [
        "beads/beads_000_.SPE",
        "beads/beads_001_.SPE",
        "beads/beads_002_.SPE",
        "beads/beads_003_.SPE",
        "beads/beads_004_.SPE",
        "beads/beads_005_.SPE",
        "beads/beads_006_.SPE",
        "beads/beads_007_.SPE",
        "beads/beads_008_.SPE",
        "beads/beads_009_.SPE"
       ],
       "index": 0,
       "layout": "IPY_MODEL_c86d77bb332b4d0590c259f51076de7c",
       "style": "IPY_MODEL_b7be599876324851838edcbef4a6ffcb"
      }
     },
     "1ad839a8d33e479f905fcf2a5057e597": {
      "model_module": "@jupyter-widgets/controls",
      "model_module_version": "1.2.0",
      "model_name": "LabelModel",
      "state": {
       "layout": "IPY_MODEL_58167ea58240475299471d95d476a684",
       "style": "IPY_MODEL_eb9b74271d2d44dcb8aced8f36b6dea4",
       "value": "Tracking ctrl-H57/no-cells_SAv-100k_SSS-ctrl-H57-50k_029_.SPE (213/213)"
      }
     },
     "1afc74c34b834938b692233d4251d486": {
      "model_module": "@jupyter-widgets/controls",
      "model_module_version": "1.2.0",
      "model_name": "DescriptionStyleModel",
      "state": {
       "description_width": ""
      }
     },
     "1b620fd859a4480aa4f9e4c1eb031eb2": {
      "model_module": "@jupyter-widgets/base",
      "model_module_version": "1.0.0",
      "model_name": "LayoutModel",
      "state": {
       "width": "auto"
      }
     },
     "1bc1bf8bdea542b7920e221d983edffb": {
      "model_module": "@jupyter-widgets/controls",
      "model_module_version": "1.2.0",
      "model_name": "SelectModel",
      "state": {
       "_options_labels": [
        "sensor-H57/cells-01_SAv-100k_SSS-H57-20k_000_.SPE"
       ],
       "index": 0,
       "layout": "IPY_MODEL_7065c42cfbec4534b7b8c4e7b6a34b3f",
       "style": "IPY_MODEL_7f0e7f412f954619b202379e8b02693b"
      }
     },
     "1bef31ac08074ebd95693403b9f1d5a3": {
      "model_module": "@jupyter-widgets/controls",
      "model_module_version": "1.2.0",
      "model_name": "SliderStyleModel",
      "state": {
       "description_width": ""
      }
     },
     "1c1dc811f4d24013a84188335929fb18": {
      "model_module": "@jupyter-widgets/controls",
      "model_module_version": "1.2.0",
      "model_name": "HBoxModel",
      "state": {
       "children": [
        "IPY_MODEL_436b9b5f2afe4c6693f58f28df3c82d1",
        "IPY_MODEL_ad98c99d4b8a46948c2eb85e97d210f9"
       ],
       "layout": "IPY_MODEL_bfec349152fa4833b470d8ec1259aab1"
      }
     },
     "1c5f0943bcc4468db7357061336a54df": {
      "model_module": "@jupyter-widgets/controls",
      "model_module_version": "1.2.0",
      "model_name": "DescriptionStyleModel",
      "state": {
       "description_width": ""
      }
     },
     "1c824a0b6f3240e5af259e9c61791276": {
      "model_module": "@jupyter-widgets/controls",
      "model_module_version": "1.2.0",
      "model_name": "DescriptionStyleModel",
      "state": {
       "description_width": ""
      }
     },
     "1cd9165871484cebae6f2ee4b0feeb3a": {
      "model_module": "@jupyter-widgets/controls",
      "model_module_version": "1.2.0",
      "model_name": "DescriptionStyleModel",
      "state": {
       "description_width": ""
      }
     },
     "1cf385c71a4d47ff971305ff22f8d409": {
      "model_module": "@jupyter-widgets/controls",
      "model_module_version": "1.2.0",
      "model_name": "HBoxModel",
      "state": {
       "children": [
        "IPY_MODEL_f29c89eed6f944288cabe9167b510179",
        "IPY_MODEL_6213c69a7df04ee28daba2e0e74e2b76",
        "IPY_MODEL_9c1c69452a7f4e77b69c536b081d48b4"
       ],
       "layout": "IPY_MODEL_2edf73a67e144099aca3bd81f94bd30e"
      }
     },
     "1cfdf2db76794dd48f239a6fe9bcf218": {
      "model_module": "@jupyter-widgets/base",
      "model_module_version": "1.0.0",
      "model_name": "LayoutModel",
      "state": {}
     },
     "1d23768466ae4cfeb64921711ebe49d4": {
      "model_module": "@jupyter-widgets/controls",
      "model_module_version": "1.2.0",
      "model_name": "FloatTextModel",
      "state": {
       "description": "sigma",
       "layout": "IPY_MODEL_db84dc2b028949aea5dc5f2e91cbf792",
       "step": 0.1,
       "style": "IPY_MODEL_3e4944042f0845319952b320763018d0",
       "value": 1
      }
     },
     "1d53e14e42424c3fb362bad8c9bd6fee": {
      "model_module": "@jupyter-widgets/base",
      "model_module_version": "1.0.0",
      "model_name": "LayoutModel",
      "state": {}
     },
     "1d9a93a9f6c24b018ce1963bb58d97fe": {
      "model_module": "@jupyter-widgets/base",
      "model_module_version": "1.0.0",
      "model_name": "LayoutModel",
      "state": {}
     },
     "1dde5233f259499a95d6f308b4422da5": {
      "model_module": "@jupyter-widgets/controls",
      "model_module_version": "1.2.0",
      "model_name": "VBoxModel",
      "state": {
       "children": [
        "IPY_MODEL_e2501d102e874250bef67ae4226556e2",
        "IPY_MODEL_b855b6287cc040bc9e1b3ef584ff3795",
        "IPY_MODEL_e5af1c9d0bf94a41b4eba05dd22e83ff"
       ],
       "layout": "IPY_MODEL_ff6f29f6594d4a92be71440085c4f9a5"
      }
     },
     "1df8d90fd50d42a69167a3d390d0753d": {
      "model_module": "@jupyter-widgets/base",
      "model_module_version": "1.0.0",
      "model_name": "LayoutModel",
      "state": {}
     },
     "1e2c7801417d4e6d8736963d27fe69cd": {
      "model_module": "@jupyter-widgets/controls",
      "model_module_version": "1.2.0",
      "model_name": "DescriptionStyleModel",
      "state": {
       "description_width": ""
      }
     },
     "1e3129fc5cd44769b18bc99ca51ed37a": {
      "model_module": "@jupyter-widgets/base",
      "model_module_version": "1.0.0",
      "model_name": "LayoutModel",
      "state": {
       "height": "150px",
       "width": "100%"
      }
     },
     "1e42292417d7411c84060940cc21870e": {
      "model_module": "@jupyter-widgets/controls",
      "model_module_version": "1.2.0",
      "model_name": "DescriptionStyleModel",
      "state": {
       "description_width": ""
      }
     },
     "1e467e9b04f54ce2b7589198a94d15e8": {
      "model_module": "@jupyter-widgets/base",
      "model_module_version": "1.0.0",
      "model_name": "LayoutModel",
      "state": {
       "width": "auto"
      }
     },
     "1e6c561e47f644139ddafdb52f18e109": {
      "model_module": "@jupyter-widgets/base",
      "model_module_version": "1.0.0",
      "model_name": "LayoutModel",
      "state": {
       "height": "150px",
       "width": "100%"
      }
     },
     "1e9db56aac6d40d8acf83ef9d880b244": {
      "model_module": "@jupyter-widgets/base",
      "model_module_version": "1.0.0",
      "model_name": "LayoutModel",
      "state": {}
     },
     "1f18affa79ef42288f546fb5bc51d6f1": {
      "model_module": "@jupyter-widgets/controls",
      "model_module_version": "1.2.0",
      "model_name": "SelectModel",
      "state": {
       "_options_labels": [
        "sensor-H57/cells-01_SAv-100k_SSS-H57-20k_000_.SPE"
       ],
       "index": 0,
       "layout": "IPY_MODEL_e6f90818e44e4f82bdae93466567aec2",
       "style": "IPY_MODEL_493efc4635854b789c035ec0c9b39114"
      }
     },
     "1f3056b0d82a448ebd9388e035c6b2eb": {
      "model_module": "@jupyter-widgets/controls",
      "model_module_version": "1.2.0",
      "model_name": "DescriptionStyleModel",
      "state": {
       "description_width": ""
      }
     },
     "1f95ca0f70c84935abba32f323d60216": {
      "model_module": "@jupyter-widgets/base",
      "model_module_version": "1.0.0",
      "model_name": "LayoutModel",
      "state": {}
     },
     "1f9db22bc9de48599c39cfac0e34058a": {
      "model_module": "@jupyter-widgets/controls",
      "model_module_version": "1.2.0",
      "model_name": "SliderStyleModel",
      "state": {
       "description_width": ""
      }
     },
     "1fad2e716f70409e858650e25736c999": {
      "model_module": "@jupyter-widgets/controls",
      "model_module_version": "1.2.0",
      "model_name": "DescriptionStyleModel",
      "state": {
       "description_width": ""
      }
     },
     "200dd839b47e41ef964f190f00578135": {
      "model_module": "@jupyter-widgets/controls",
      "model_module_version": "1.2.0",
      "model_name": "DescriptionStyleModel",
      "state": {
       "description_width": ""
      }
     },
     "20230ca4f34e468aa7a2f70651828801": {
      "model_module": "@jupyter-widgets/controls",
      "model_module_version": "1.2.0",
      "model_name": "ButtonModel",
      "state": {
       "description": "Auto",
       "layout": "IPY_MODEL_5f220bd61e4d4c46a2d8aedfa4a8dedc",
       "style": "IPY_MODEL_f9440d84ed4042e389f3ee73c6fde4d4"
      }
     },
     "203ba0904d38451fb868de08497577ce": {
      "model_module": "@jupyter-widgets/controls",
      "model_module_version": "1.2.0",
      "model_name": "DescriptionStyleModel",
      "state": {
       "description_width": ""
      }
     },
     "2043cd0deada4e3fad44e7ca841638c1": {
      "model_module": "@jupyter-widgets/controls",
      "model_module_version": "1.2.0",
      "model_name": "DescriptionStyleModel",
      "state": {
       "description_width": ""
      }
     },
     "204a0f3ab1ae479497beda405bcf1a5f": {
      "model_module": "@jupyter-widgets/controls",
      "model_module_version": "1.2.0",
      "model_name": "VBoxModel",
      "state": {
       "children": [
        "IPY_MODEL_c887111977a14213b8d43f3198bccb35",
        "IPY_MODEL_d7fa2281c10b4adf84ba27f9fc3d0be7"
       ],
       "layout": "IPY_MODEL_37ad7e9ad02244f7aaae9222cbbafdb1"
      }
     },
     "2092f80b175343eb85daaa486ff93c81": {
      "model_module": "@jupyter-widgets/controls",
      "model_module_version": "1.2.0",
      "model_name": "SelectModel",
      "state": {
       "_options_labels": [
        "data/beads/beads_000_.SPE",
        "data/beads/beads_001_.SPE",
        "data/beads/beads_002_.SPE",
        "data/beads/beads_003_.SPE",
        "data/beads/beads_004_.SPE",
        "data/beads/beads_005_.SPE",
        "data/beads/beads_006_.SPE",
        "data/beads/beads_007_.SPE",
        "data/beads/beads_008_.SPE",
        "data/beads/beads_009_.SPE"
       ],
       "index": 0,
       "layout": "IPY_MODEL_c1a95db583ea40a8bd5289f44bcfe4db",
       "style": "IPY_MODEL_30c5f2d80a094d839f584d1816185c02"
      }
     },
     "211438e48b4d4c84848bb99f9b5277a3": {
      "model_module": "@jupyter-widgets/base",
      "model_module_version": "1.0.0",
      "model_name": "LayoutModel",
      "state": {
       "width": "auto"
      }
     },
     "218f89f1b57c455fb73eaf34eae69515": {
      "model_module": "@jupyter-widgets/base",
      "model_module_version": "1.0.0",
      "model_name": "LayoutModel",
      "state": {
       "width": "75%"
      }
     },
     "21a5d117f81846c995b25fedf5e25b60": {
      "model_module": "@jupyter-widgets/controls",
      "model_module_version": "1.2.0",
      "model_name": "VBoxModel",
      "state": {
       "children": [
        "IPY_MODEL_1f18affa79ef42288f546fb5bc51d6f1",
        "IPY_MODEL_444486cd6d484fc29b8662b83e39a1c7"
       ],
       "layout": "IPY_MODEL_c4865af8e5dd49cd8f5d7afa13b14e00"
      }
     },
     "21c258a629b84bf88eb34298a9a4890f": {
      "model_module": "@jupyter-widgets/base",
      "model_module_version": "1.0.0",
      "model_name": "LayoutModel",
      "state": {}
     },
     "21e3f66ac5e84b76ade247bbee7d3a2e": {
      "model_module": "@jupyter-widgets/base",
      "model_module_version": "1.0.0",
      "model_name": "LayoutModel",
      "state": {}
     },
     "222d8f9f55e146e09e3ae7466365f535": {
      "model_module": "@jupyter-widgets/controls",
      "model_module_version": "1.2.0",
      "model_name": "LabelModel",
      "state": {
       "layout": "IPY_MODEL_684f2399c84e4a138aa7382625304dc2",
       "style": "IPY_MODEL_47f997f116f94cb7b6c09480f14e106b",
       "value": "Locating beads (file 1/10)"
      }
     },
     "224958830e62412ab889b6ed9fa99549": {
      "model_module": "@jupyter-widgets/base",
      "model_module_version": "1.0.0",
      "model_name": "LayoutModel",
      "state": {}
     },
     "224e1cf0fe094f1cb7bd8bd9e295a39e": {
      "model_module": "@jupyter-widgets/controls",
      "model_module_version": "1.2.0",
      "model_name": "IntRangeSliderModel",
      "state": {
       "_model_name": "IntRangeSliderModel",
       "_view_name": "IntRangeSliderView",
       "layout": "IPY_MODEL_79f327509cd0406eb137e2966fa39e9d",
       "max": 65535,
       "style": "IPY_MODEL_0842280875f046f9bd4875c3380bfbad",
       "value": [
        134,
        25393
       ]
      }
     },
     "22774ed79f5246f8bdae0943eeb6e6e9": {
      "model_module": "@jupyter-widgets/controls",
      "model_module_version": "1.2.0",
      "model_name": "CheckboxModel",
      "state": {
       "description": "Size range",
       "disabled": false,
       "indent": false,
       "layout": "IPY_MODEL_d2b5042a9f0444d1924bcf1fd5e7eca3",
       "style": "IPY_MODEL_94f4193040594a02ae652bd3d3e3d594",
       "value": false
      }
     },
     "22776c758f7b4a8fa05284d9d38dbddf": {
      "model_module": "@jupyter-widgets/controls",
      "model_module_version": "1.2.0",
      "model_name": "DescriptionStyleModel",
      "state": {
       "description_width": ""
      }
     },
     "227e2ab8ee8d4793ad719eccc3e015cc": {
      "model_module": "@jupyter-widgets/base",
      "model_module_version": "1.0.0",
      "model_name": "LayoutModel",
      "state": {
       "width": "auto"
      }
     },
     "22b68ddab2c2411594fbcfc31effcc46": {
      "model_module": "@jupyter-widgets/controls",
      "model_module_version": "1.2.0",
      "model_name": "DescriptionStyleModel",
      "state": {
       "description_width": ""
      }
     },
     "231428bf0d4e4a05bd025cacd9928568": {
      "model_module": "@jupyter-widgets/base",
      "model_module_version": "1.0.0",
      "model_name": "LayoutModel",
      "state": {
       "width": "auto"
      }
     },
     "231f86b690714dfe9cc5b0b688cc7436": {
      "model_module": "@jupyter-widgets/base",
      "model_module_version": "1.0.0",
      "model_name": "LayoutModel",
      "state": {
       "width": "auto"
      }
     },
     "2353ee96d43b4eeba4ba08bea7bedd62": {
      "model_module": "@jupyter-widgets/base",
      "model_module_version": "1.0.0",
      "model_name": "LayoutModel",
      "state": {}
     },
     "23584d65dabc4ac5bca52dd8242e6d0b": {
      "model_module": "@jupyter-widgets/controls",
      "model_module_version": "1.2.0",
      "model_name": "CheckboxModel",
      "state": {
       "description": "Show loc.",
       "disabled": false,
       "indent": false,
       "layout": "IPY_MODEL_7ff62e478ee3437995b243f6afd57b84",
       "style": "IPY_MODEL_655aa290448849aea0de2e014b6c32a3",
       "value": true
      }
     },
     "236ced0324ff408f86c0ce05e6e95632": {
      "model_module": "@jupyter-widgets/controls",
      "model_module_version": "1.2.0",
      "model_name": "VBoxModel",
      "state": {
       "children": [
        "IPY_MODEL_ca617da8968c4c1986bef67c8512c210",
        "IPY_MODEL_a276506d90a345b8bcb85fd8e7f7e8aa",
        "IPY_MODEL_6f6341c501034480a9a338ed54045c74",
        "IPY_MODEL_8f8a4480e7a041a49dc9356e93bc2275",
        "IPY_MODEL_72bce2cf39e4492eae53e8df455d7341",
        "IPY_MODEL_1dde5233f259499a95d6f308b4422da5"
       ],
       "layout": "IPY_MODEL_0e0fc3f0530442bba3c7061cba46620f"
      }
     },
     "2370a758df184f00999f5f3619f13293": {
      "model_module": "@jupyter-widgets/base",
      "model_module_version": "1.0.0",
      "model_name": "LayoutModel",
      "state": {}
     },
     "238977709bdf4273955dfeab92032af3": {
      "model_module": "@jupyter-widgets/controls",
      "model_module_version": "1.2.0",
      "model_name": "DescriptionStyleModel",
      "state": {
       "description_width": ""
      }
     },
     "23bbf40415384f4396f29d0185ec83d1": {
      "model_module": "@jupyter-widgets/base",
      "model_module_version": "1.0.0",
      "model_name": "LayoutModel",
      "state": {
       "width": "auto"
      }
     },
     "240bb6fc82db4d97a94b5dc41b4da29f": {
      "model_module": "@jupyter-widgets/controls",
      "model_module_version": "1.2.0",
      "model_name": "DescriptionStyleModel",
      "state": {
       "description_width": ""
      }
     },
     "24475c6043a942c497d7399ef40ae173": {
      "model_module": "@jupyter-widgets/controls",
      "model_module_version": "1.2.0",
      "model_name": "DropdownModel",
      "state": {
       "_options_labels": [
        "Identity",
        "Cg",
        "Gaussian"
       ],
       "description": "find filter",
       "index": 1,
       "layout": "IPY_MODEL_837f0a9b22bc4f38a3e697aded6b628d",
       "style": "IPY_MODEL_c37a86f18d434de481acc8f8c3e59e8c"
      }
     },
     "2467966b102f48b1b0652ad6b9514f5c": {
      "model_module": "@jupyter-widgets/base",
      "model_module_version": "1.0.0",
      "model_name": "LayoutModel",
      "state": {
       "display": "none"
      }
     },
     "2481b947f1e64a2295066506b699d3bd": {
      "model_module": "@jupyter-widgets/base",
      "model_module_version": "1.0.0",
      "model_name": "LayoutModel",
      "state": {
       "width": "auto"
      }
     },
     "24a26ed920a841b79ce1e40c95c04c75": {
      "model_module": "@jupyter-widgets/base",
      "model_module_version": "1.0.0",
      "model_name": "LayoutModel",
      "state": {
       "width": "auto"
      }
     },
     "24b12ffeda4e43ec875b10f3506e60aa": {
      "model_module": "@jupyter-widgets/controls",
      "model_module_version": "1.2.0",
      "model_name": "FloatTextModel",
      "state": {
       "description": "sigma",
       "layout": "IPY_MODEL_2467966b102f48b1b0652ad6b9514f5c",
       "step": 0.1,
       "style": "IPY_MODEL_a6d5cfc2bb1e4c3e8d2347b6facee790",
       "value": 1
      }
     },
     "24e494ac93814a6ea0390b240089ced1": {
      "model_module": "@jupyter-widgets/controls",
      "model_module_version": "1.2.0",
      "model_name": "CheckboxModel",
      "state": {
       "description": "Size range",
       "disabled": false,
       "indent": false,
       "layout": "IPY_MODEL_440ba55ee22e4093b0a711491eb05679",
       "style": "IPY_MODEL_559057d02ee8475d88b706cfc4ac2550",
       "value": false
      }
     },
     "24f230003cf34f44811eff269324db40": {
      "model_module": "@jupyter-widgets/controls",
      "model_module_version": "1.2.0",
      "model_name": "BoundedIntTextModel",
      "state": {
       "description": "frame",
       "layout": "IPY_MODEL_31fb0845074041e89dbcfc2a92d041c7",
       "max": 49,
       "style": "IPY_MODEL_3fc5493462e34f968eaa4595b4087632"
      }
     },
     "24f9aca8649f438e8f190b3fb6de6a2a": {
      "model_module": "@jupyter-widgets/controls",
      "model_module_version": "1.2.0",
      "model_name": "DescriptionStyleModel",
      "state": {
       "description_width": ""
      }
     },
     "24fff02cef674ac28553e16fb46624bc": {
      "model_module": "@jupyter-widgets/base",
      "model_module_version": "1.0.0",
      "model_name": "LayoutModel",
      "state": {
       "display": "flex",
       "flex_flow": "column wrap",
       "width": "66%"
      }
     },
     "252624c1b8bc45849aea2df3c599d2bc": {
      "model_module": "@jupyter-widgets/controls",
      "model_module_version": "1.2.0",
      "model_name": "DescriptionStyleModel",
      "state": {
       "description_width": ""
      }
     },
     "25457bbf14f747009b4f21cacf16a341": {
      "model_module": "@jupyter-widgets/controls",
      "model_module_version": "1.2.0",
      "model_name": "DescriptionStyleModel",
      "state": {
       "description_width": ""
      }
     },
     "25609cd00cca4ad98a9f3d96ba3f9412": {
      "model_module": "@jupyter-widgets/controls",
      "model_module_version": "1.2.0",
      "model_name": "IntTextModel",
      "state": {
       "description": "feat. size",
       "layout": "IPY_MODEL_bce61fa1fd5a43f4886194936763e3ed",
       "step": 1,
       "style": "IPY_MODEL_f8d1b568b660420db7d1ce62dd5e83a4",
       "value": 3
      }
     },
     "25a28600fbd84832bcec0ae2b9587f77": {
      "model_module": "@jupyter-widgets/base",
      "model_module_version": "1.0.0",
      "model_name": "LayoutModel",
      "state": {
       "height": "150px",
       "width": "100%"
      }
     },
     "25b3ace3c419458dae29cd6b98c93d8a": {
      "model_module": "@jupyter-widgets/base",
      "model_module_version": "1.0.0",
      "model_name": "LayoutModel",
      "state": {
       "width": "auto"
      }
     },
     "25c7833c2c09419385454a435a839d35": {
      "model_module": "@jupyter-widgets/controls",
      "model_module_version": "1.2.0",
      "model_name": "VBoxModel",
      "state": {
       "children": [
        "IPY_MODEL_6118948bd2ef4d3d81a851ddc10f4615",
        "IPY_MODEL_62e1db1aaa5b45a0b6720e7f406ee060",
        "IPY_MODEL_4533b1a7813e4a9cb97fc5fcbb667536"
       ],
       "layout": "IPY_MODEL_955beeb69d4544638a89c228bc8f7b5c"
      }
     },
     "263c7b3f7a5945b1a9b4b41ecb3dc41f": {
      "model_module": "@jupyter-widgets/base",
      "model_module_version": "1.0.0",
      "model_name": "LayoutModel",
      "state": {
       "width": "75%"
      }
     },
     "26b27b62cee64444ad2310759c9c6f22": {
      "model_module": "@jupyter-widgets/controls",
      "model_module_version": "1.2.0",
      "model_name": "SliderStyleModel",
      "state": {
       "description_width": ""
      }
     },
     "26b33f01a9594bf3affc727010a0a2ad": {
      "model_module": "@jupyter-widgets/base",
      "model_module_version": "1.0.0",
      "model_name": "LayoutModel",
      "state": {
       "width": "auto"
      }
     },
     "26b80179517e4b0baa9f3af84146b235": {
      "model_module": "@jupyter-widgets/base",
      "model_module_version": "1.0.0",
      "model_name": "LayoutModel",
      "state": {}
     },
     "26d2919eacc5468aa126e4cfc0d56667": {
      "model_module": "@jupyter-widgets/controls",
      "model_module_version": "1.2.0",
      "model_name": "DropdownModel",
      "state": {
       "_options_labels": [
        "2d_fixed",
        "2d",
        "3d"
       ],
       "description": "model",
       "index": 1,
       "layout": "IPY_MODEL_ac3eb350b9ab429188d86a4f3b37e9c2",
       "style": "IPY_MODEL_f5171890257d4ae9b7960af46e292557"
      }
     },
     "26f48594057b4a9bb43df30bb93f5b23": {
      "model_module": "@jupyter-widgets/base",
      "model_module_version": "1.0.0",
      "model_name": "LayoutModel",
      "state": {
       "width": "auto"
      }
     },
     "26f739099bc54aa2a30e8f2c6418e19c": {
      "model_module": "@jupyter-widgets/controls",
      "model_module_version": "1.2.0",
      "model_name": "DescriptionStyleModel",
      "state": {
       "description_width": ""
      }
     },
     "27481714e8124b0099cfed1052ffa3f3": {
      "model_module": "@jupyter-widgets/controls",
      "model_module_version": "1.2.0",
      "model_name": "LabelModel",
      "state": {
       "layout": "IPY_MODEL_763e1749ef914ea7811b6939b9341d02",
       "style": "IPY_MODEL_c4a58ea60bdf4b0caf83c160414e7aef",
       "value": "Locating beads (file 10/10)"
      }
     },
     "2750af465b3b43f9b53afe32e8b254fa": {
      "model_module": "@jupyter-widgets/base",
      "model_module_version": "1.0.0",
      "model_name": "LayoutModel",
      "state": {
       "width": "75%"
      }
     },
     "27651f52f6ff4380a078ba196083ee0e": {
      "model_module": "@jupyter-widgets/controls",
      "model_module_version": "1.2.0",
      "model_name": "FloatTextModel",
      "state": {
       "layout": "IPY_MODEL_91e79b1b840744d9b854fdd8077678e3",
       "step": 0.1,
       "style": "IPY_MODEL_240bb6fc82db4d97a94b5dc41b4da29f",
       "value": 3
      }
     },
     "27800e141b1d44a0a185d03be1413c16": {
      "model_module": "@jupyter-widgets/base",
      "model_module_version": "1.0.0",
      "model_name": "LayoutModel",
      "state": {}
     },
     "27bf2951473a4cca94241d9317e7848f": {
      "model_module": "@jupyter-widgets/controls",
      "model_module_version": "1.2.0",
      "model_name": "DescriptionStyleModel",
      "state": {
       "description_width": ""
      }
     },
     "27bf74a1371a4914b4cecefd7800c57e": {
      "model_module": "@jupyter-widgets/controls",
      "model_module_version": "1.2.0",
      "model_name": "FloatTextModel",
      "state": {
       "description": "threshold",
       "layout": "IPY_MODEL_fa85be82a78740ccbe7fe9f5698937ea",
       "step": 10,
       "style": "IPY_MODEL_91bc4b10676e4c61858563567dd750ca",
       "value": 1000
      }
     },
     "27c2f36460284101b93dd9865d56f8cd": {
      "model_module": "@jupyter-widgets/controls",
      "model_module_version": "1.2.0",
      "model_name": "VBoxModel",
      "state": {
       "children": [
        "IPY_MODEL_0fdde6d3a31a4ddb847a09ae10b05383",
        "IPY_MODEL_d277ada9698942f7a3120b5b5b0020f6",
        "IPY_MODEL_f600f248ba90466d8dd8683ec84f5648",
        "IPY_MODEL_ce558e41002f4a728f1c99b7abf8847e",
        "IPY_MODEL_5fbca88f0d204db0980fdaccd5ebc768",
        "IPY_MODEL_f6183b586f424489800494cf530d3351"
       ],
       "layout": "IPY_MODEL_c947362c1b424fc5889ba242be69b499"
      }
     },
     "27d49c4881bc4966914232937258123b": {
      "model_module": "@jupyter-widgets/controls",
      "model_module_version": "1.2.0",
      "model_name": "IntRangeSliderModel",
      "state": {
       "_model_name": "IntRangeSliderModel",
       "_view_name": "IntRangeSliderView",
       "layout": "IPY_MODEL_a5faeb5167ce47aea07efeb2e4a37cb7",
       "max": 65535,
       "style": "IPY_MODEL_ed36a418cd2a4bd0b0d8656c05df3454",
       "value": [
        125,
        629
       ]
      }
     },
     "27ead681a1ba429b92a13a857b53aa84": {
      "model_module": "@jupyter-widgets/base",
      "model_module_version": "1.0.0",
      "model_name": "LayoutModel",
      "state": {
       "display": "none"
      }
     },
     "282166fd839b46a8975d5295b184eda0": {
      "model_module": "@jupyter-widgets/controls",
      "model_module_version": "1.2.0",
      "model_name": "VBoxModel",
      "state": {
       "children": [
        "IPY_MODEL_06913487a458403db576442098aaf641",
        "IPY_MODEL_fc73dc2829344e42b3a1a5fae6bbb433",
        "IPY_MODEL_674f4e5e4142457aa0f2baa89d35f656",
        "IPY_MODEL_fec22a280af8468cb503dc8db631ab0d",
        "IPY_MODEL_b61fb761db744db38b5c72ab47e45def",
        "IPY_MODEL_a793d2ff390c4cba8bba9a04ce7027fe"
       ],
       "layout": "IPY_MODEL_24fff02cef674ac28553e16fb46624bc"
      }
     },
     "282db8f01dd440359bb199e2eec96391": {
      "model_module": "@jupyter-widgets/controls",
      "model_module_version": "1.2.0",
      "model_name": "DescriptionStyleModel",
      "state": {
       "description_width": ""
      }
     },
     "285746af59934c1f9dc7dec16ecc850a": {
      "model_module": "@jupyter-widgets/base",
      "model_module_version": "1.0.0",
      "model_name": "LayoutModel",
      "state": {}
     },
     "28c191d302554977ae914cef8a33edc7": {
      "model_module": "@jupyter-widgets/base",
      "model_module_version": "1.0.0",
      "model_name": "LayoutModel",
      "state": {
       "display": "none"
      }
     },
     "28d9606c6c444c8889a38c026e121723": {
      "model_module": "@jupyter-widgets/base",
      "model_module_version": "1.0.0",
      "model_name": "LayoutModel",
      "state": {
       "width": "75%"
      }
     },
     "28db640f6655482bb8f2b6e8ff208751": {
      "model_module": "@jupyter-widgets/base",
      "model_module_version": "1.0.0",
      "model_name": "LayoutModel",
      "state": {
       "display": "none"
      }
     },
     "28dc5f98ecd749c4aafd9e308637a0af": {
      "model_module": "@jupyter-widgets/base",
      "model_module_version": "1.0.0",
      "model_name": "LayoutModel",
      "state": {}
     },
     "291699d4a0464adaba373e687b282354": {
      "model_module": "@jupyter-widgets/controls",
      "model_module_version": "1.2.0",
      "model_name": "VBoxModel",
      "state": {
       "children": [
        "IPY_MODEL_4b79d28c9da94143bc5fc8704f601ac8",
        "IPY_MODEL_6a42f1db81a7409f8ef425c591924c0a",
        "IPY_MODEL_d21d4e68107f43489fea482a77b5202c",
        "IPY_MODEL_861cffcb15a747e59761de0c27edcde8",
        "IPY_MODEL_338cf44fdfa9462cb4f5b1bc1190980d",
        "IPY_MODEL_d07de0d18471434090f63b183d5e89f7"
       ],
       "layout": "IPY_MODEL_99f1ee486e0e4c74905797cdf8833326"
      }
     },
     "29201598bb254ab9bd8c10d07bcb944e": {
      "model_module": "@jupyter-widgets/base",
      "model_module_version": "1.0.0",
      "model_name": "LayoutModel",
      "state": {
       "width": "auto"
      }
     },
     "2935f9dd0f2347839e2a4b45779199de": {
      "model_module": "@jupyter-widgets/base",
      "model_module_version": "1.0.0",
      "model_name": "LayoutModel",
      "state": {}
     },
     "298d1fcc82444382bcd444d7d25a6a2b": {
      "model_module": "@jupyter-widgets/base",
      "model_module_version": "1.0.0",
      "model_name": "LayoutModel",
      "state": {}
     },
     "299f78c9bbf54627a5cf711b09631352": {
      "model_module": "@jupyter-widgets/controls",
      "model_module_version": "1.2.0",
      "model_name": "IntRangeSliderModel",
      "state": {
       "_model_name": "IntRangeSliderModel",
       "_view_name": "IntRangeSliderView",
       "layout": "IPY_MODEL_6ed02a6c11804f8c95e9f0e2f6da5699",
       "max": 65535,
       "style": "IPY_MODEL_46abbf8828f94c0caed5369b5f796c00",
       "value": [
        134,
        25393
       ]
      }
     },
     "29d16c61645f49d2ab9b58de4ae91ac4": {
      "model_module": "@jupyter-widgets/controls",
      "model_module_version": "1.2.0",
      "model_name": "FloatTextModel",
      "state": {
       "description": "sigma",
       "layout": "IPY_MODEL_c2a65a1077bf4b1c9b3ba8ffd3359b39",
       "step": 0.1,
       "style": "IPY_MODEL_22776c758f7b4a8fa05284d9d38dbddf",
       "value": 1
      }
     },
     "2a5e8949cf8340159bb28df661b072f1": {
      "model_module": "@jupyter-widgets/controls",
      "model_module_version": "1.2.0",
      "model_name": "SelectModel",
      "state": {
       "_options_labels": [
        "data/sensor-H57/no-cells_SAv-100k_SSS-H57-20k_000_.SPE"
       ],
       "index": 0,
       "layout": "IPY_MODEL_6d767473af654f5d9c73510ab45043e4",
       "style": "IPY_MODEL_9947c25988e0400daccfea90915c9ee2"
      }
     },
     "2a6e1b9ea69042ccb479bd8922b4c3e3": {
      "model_module": "@jupyter-widgets/controls",
      "model_module_version": "1.2.0",
      "model_name": "DescriptionStyleModel",
      "state": {
       "description_width": ""
      }
     },
     "2a7eeda57e1c429d8a77b6e15d71696f": {
      "model_module": "@jupyter-widgets/controls",
      "model_module_version": "1.2.0",
      "model_name": "ButtonModel",
      "state": {
       "description": "Auto",
       "layout": "IPY_MODEL_056306537363474c8160e61694a424b4",
       "style": "IPY_MODEL_f0a8fd71c949419c816299f44103538f"
      }
     },
     "2a7f49c3ab8141999adc08d0345fcedb": {
      "model_module": "@jupyter-widgets/controls",
      "model_module_version": "1.2.0",
      "model_name": "DescriptionStyleModel",
      "state": {
       "description_width": ""
      }
     },
     "2a854f57f160446f88868cdfeebd1b15": {
      "model_module": "@jupyter-widgets/base",
      "model_module_version": "1.0.0",
      "model_name": "LayoutModel",
      "state": {
       "width": "100%"
      }
     },
     "2ace33678a664e7f93b399359db8e7a9": {
      "model_module": "@jupyter-widgets/controls",
      "model_module_version": "1.2.0",
      "model_name": "FloatTextModel",
      "state": {
       "description": "max.",
       "layout": "IPY_MODEL_80f46a1514ff47459596d207e4185b65",
       "step": 0.1,
       "style": "IPY_MODEL_83d3e31c57f34f7d82e2583f231da2e9",
       "value": 2
      }
     },
     "2aeaabc4b9664104a7864f9d43b1d619": {
      "model_module": "@jupyter-widgets/controls",
      "model_module_version": "1.2.0",
      "model_name": "SelectModel",
      "state": {
       "_options_labels": [
        "sensor-H57/cells-01_SAv-100k_SSS-H57-20k_000_.SPE"
       ],
       "index": 0,
       "layout": "IPY_MODEL_c35106bfaa0941c6b210074ade26615e",
       "style": "IPY_MODEL_cc8cddcf0157400f815cc2a75b4a618e"
      }
     },
     "2b58c109e6ac46239d4f9d6bdda564c4": {
      "model_module": "@jupyter-widgets/base",
      "model_module_version": "1.0.0",
      "model_name": "LayoutModel",
      "state": {}
     },
     "2b5f6308bdf14b199396b2ea3b42bb13": {
      "model_module": "@jupyter-widgets/base",
      "model_module_version": "1.0.0",
      "model_name": "LayoutModel",
      "state": {}
     },
     "2b8b9302d0f9428686e139e3c91bbfec": {
      "model_module": "@jupyter-widgets/controls",
      "model_module_version": "1.2.0",
      "model_name": "VBoxModel",
      "state": {
       "children": [
        "IPY_MODEL_2092f80b175343eb85daaa486ff93c81",
        "IPY_MODEL_b3b7103e5014420a93ef7594b418fbdc"
       ],
       "layout": "IPY_MODEL_850705be2c594966a1ed5adf20120cf0"
      }
     },
     "2bad4212a2344400817848a55f43b7e2": {
      "model_module": "@jupyter-widgets/base",
      "model_module_version": "1.0.0",
      "model_name": "LayoutModel",
      "state": {}
     },
     "2bdc6286bc324446abeb806728914f9b": {
      "model_module": "@jupyter-widgets/controls",
      "model_module_version": "1.2.0",
      "model_name": "FloatTextModel",
      "state": {
       "description": "threshold",
       "layout": "IPY_MODEL_f69970cdb3da4bffa54fc4e5b5df7d1d",
       "step": 10,
       "style": "IPY_MODEL_d5b6469fb03547a0bc9f4e339c5580ce",
       "value": 80
      }
     },
     "2be1c140067242058022433e037e7d46": {
      "model_module": "@jupyter-widgets/base",
      "model_module_version": "1.0.0",
      "model_name": "LayoutModel",
      "state": {
       "display": "flex",
       "flex_flow": "column wrap",
       "width": "66%"
      }
     },
     "2c2757aa06f04e0dace96d88c285a4d5": {
      "model_module": "@jupyter-widgets/base",
      "model_module_version": "1.0.0",
      "model_name": "LayoutModel",
      "state": {}
     },
     "2cab9af1129d4fa09b95251563b39926": {
      "model_module": "@jupyter-widgets/base",
      "model_module_version": "1.0.0",
      "model_name": "LayoutModel",
      "state": {
       "width": "auto"
      }
     },
     "2cb3f4efb70e404ba44e739a4911fd9a": {
      "model_module": "@jupyter-widgets/controls",
      "model_module_version": "1.2.0",
      "model_name": "HBoxModel",
      "state": {
       "children": [
        "IPY_MODEL_b5382e8e4a334e689f87ee8406f5b5a4",
        "IPY_MODEL_5086ea7aef1f46a5808760b81c382cb7"
       ],
       "layout": "IPY_MODEL_cbcb7d4ab97141fc96f65b0380eba974"
      }
     },
     "2d00fffaf6f0433197e27cafa9c30d99": {
      "model_module": "@jupyter-widgets/controls",
      "model_module_version": "1.2.0",
      "model_name": "CheckboxModel",
      "state": {
       "description": "Min. distance",
       "disabled": false,
       "indent": false,
       "layout": "IPY_MODEL_0d28e98bb1b740e9b120e4d2ed3ef1b9",
       "style": "IPY_MODEL_eabfc79546414ba9812c47f254b8d06b",
       "value": true
      }
     },
     "2d34235e1324485a9b3095eb00fffcdd": {
      "model_module": "@jupyter-widgets/controls",
      "model_module_version": "1.2.0",
      "model_name": "HBoxModel",
      "state": {
       "children": [
        "IPY_MODEL_65772dc1e5764508bf7830b7a5a9a2b4",
        "IPY_MODEL_07ba1d809e7c4ee195754d8378541f95"
       ],
       "layout": "IPY_MODEL_bbfa607bfd6a4404b67fb4e05e5b41f0"
      }
     },
     "2d63d416c73b4a6b9ae3882a85c68391": {
      "model_module": "@jupyter-widgets/base",
      "model_module_version": "1.0.0",
      "model_name": "LayoutModel",
      "state": {}
     },
     "2da60094b46e4cf69901d81463e9475b": {
      "model_module": "@jupyter-widgets/base",
      "model_module_version": "1.0.0",
      "model_name": "LayoutModel",
      "state": {}
     },
     "2dacbaa2b3094d1a80a90e4ec97b39e8": {
      "model_module": "@jupyter-widgets/controls",
      "model_module_version": "1.2.0",
      "model_name": "DescriptionStyleModel",
      "state": {
       "description_width": ""
      }
     },
     "2db8ca2299fe4fa48602131838f721ce": {
      "model_module": "@jupyter-widgets/controls",
      "model_module_version": "1.2.0",
      "model_name": "LabelModel",
      "state": {
       "layout": "IPY_MODEL_723210085c814704904c271a2a99f89c",
       "style": "IPY_MODEL_edc2949c96304ab1b6e61e36f72849ca",
       "value": "Tracking ctrl-H57/no-cells_SAv-100k_SSS-ctrl-H57-50k_029_.SPE (213/213)"
      }
     },
     "2dcbe250205243a6a313528d00fb0663": {
      "model_module": "@jupyter-widgets/controls",
      "model_module_version": "1.2.0",
      "model_name": "DescriptionStyleModel",
      "state": {
       "description_width": ""
      }
     },
     "2dcd207dc31e43ba81fa5e18ff2c7f5e": {
      "model_module": "@jupyter-widgets/controls",
      "model_module_version": "1.2.0",
      "model_name": "CheckboxModel",
      "state": {
       "description": "Size range",
       "disabled": false,
       "indent": false,
       "layout": "IPY_MODEL_211438e48b4d4c84848bb99f9b5277a3",
       "style": "IPY_MODEL_704bb813a1324e319c9d68815e865f2d",
       "value": false
      }
     },
     "2dd721c826fe4e56abc05887e2133573": {
      "model_module": "@jupyter-widgets/base",
      "model_module_version": "1.0.0",
      "model_name": "LayoutModel",
      "state": {
       "width": "100%"
      }
     },
     "2df394f6bb7e4aada10f1ba8d918d4fb": {
      "model_module": "@jupyter-widgets/base",
      "model_module_version": "1.0.0",
      "model_name": "LayoutModel",
      "state": {
       "width": "75%"
      }
     },
     "2df5ef056f3c40e6b6d2b8e39ede9f6d": {
      "model_module": "@jupyter-widgets/controls",
      "model_module_version": "1.2.0",
      "model_name": "DescriptionStyleModel",
      "state": {
       "description_width": ""
      }
     },
     "2dfba74104b24ebe8e5d983f36979c28": {
      "model_module": "@jupyter-widgets/controls",
      "model_module_version": "1.2.0",
      "model_name": "DescriptionStyleModel",
      "state": {
       "description_width": ""
      }
     },
     "2e337cabe3184abea9ba58b6f0f7fa72": {
      "model_module": "@jupyter-widgets/controls",
      "model_module_version": "1.2.0",
      "model_name": "DescriptionStyleModel",
      "state": {
       "description_width": ""
      }
     },
     "2e5a7d571e3a46eb8df1918e46ef0e05": {
      "model_module": "@jupyter-widgets/controls",
      "model_module_version": "1.2.0",
      "model_name": "VBoxModel",
      "state": {
       "children": [
        "IPY_MODEL_5eaf8f3cdebe4e9cad9fb053d288afdf",
        "IPY_MODEL_8f419c9a97774aa7b8672e5b715e1279",
        "IPY_MODEL_f57b7edd3d40443bb5669429abade58b"
       ],
       "layout": "IPY_MODEL_74ed080bf3d343688e27a95f3cdc939f"
      }
     },
     "2e5dcae31e52441794fbc41e8ead87db": {
      "model_module": "@jupyter-widgets/base",
      "model_module_version": "1.0.0",
      "model_name": "LayoutModel",
      "state": {
       "width": "auto"
      }
     },
     "2e5fdd4a325c4074b3d9cc96928c9f53": {
      "model_module": "@jupyter-widgets/base",
      "model_module_version": "1.0.0",
      "model_name": "LayoutModel",
      "state": {}
     },
     "2e7b3e7890d948e0915983a4ef86ab85": {
      "model_module": "@jupyter-widgets/base",
      "model_module_version": "1.0.0",
      "model_name": "LayoutModel",
      "state": {}
     },
     "2e8e52ae825e4c72986f6383f0aa0290": {
      "model_module": "@jupyter-widgets/base",
      "model_module_version": "1.0.0",
      "model_name": "LayoutModel",
      "state": {}
     },
     "2ea8a59f129b405d87173f9f3230b8e6": {
      "model_module": "@jupyter-widgets/controls",
      "model_module_version": "1.2.0",
      "model_name": "DescriptionStyleModel",
      "state": {
       "description_width": ""
      }
     },
     "2edf73a67e144099aca3bd81f94bd30e": {
      "model_module": "@jupyter-widgets/base",
      "model_module_version": "1.0.0",
      "model_name": "LayoutModel",
      "state": {
       "width": "100%"
      }
     },
     "2efa69b4d750402ebc98cbc7f32d21de": {
      "model_module": "@jupyter-widgets/controls",
      "model_module_version": "1.2.0",
      "model_name": "ButtonModel",
      "state": {
       "description": "Auto",
       "layout": "IPY_MODEL_ea75b7b76fc947c1a28b1f756d684b82",
       "style": "IPY_MODEL_64858b97ea784e55991766fa5500663e"
      }
     },
     "2f12a2c7f96c446295d15e6f1634ad2e": {
      "model_module": "@jupyter-widgets/controls",
      "model_module_version": "1.2.0",
      "model_name": "DescriptionStyleModel",
      "state": {
       "description_width": ""
      }
     },
     "2f4053fa41d94007a658e0781bd57781": {
      "model_module": "@jupyter-widgets/controls",
      "model_module_version": "1.2.0",
      "model_name": "VBoxModel",
      "state": {
       "children": [
        "IPY_MODEL_bfab9ba562884a3e81d2e2b4af74b31d",
        "IPY_MODEL_6153c1e9a4ec40c1af4f614afd962372",
        "IPY_MODEL_cff2e78cddb748b29dc024bb9f23ab30"
       ],
       "layout": "IPY_MODEL_a454f90010344f9da575044b7c3b7350"
      }
     },
     "2f46ab7834e24ba5b2f8dd7da1f358d1": {
      "model_module": "@jupyter-widgets/controls",
      "model_module_version": "1.2.0",
      "model_name": "CheckboxModel",
      "state": {
       "description": "Show loc.",
       "disabled": false,
       "indent": false,
       "layout": "IPY_MODEL_a83193a683334498a1967275c84acf79",
       "style": "IPY_MODEL_cddee87aa2554225887a998832e81dc0",
       "value": true
      }
     },
     "2f74747c945244348968b676d001dc3d": {
      "model_module": "@jupyter-widgets/base",
      "model_module_version": "1.0.0",
      "model_name": "LayoutModel",
      "state": {}
     },
     "2f874938a2d94bcba003ba49e8e33c0a": {
      "model_module": "@jupyter-widgets/controls",
      "model_module_version": "1.2.0",
      "model_name": "BoundedIntTextModel",
      "state": {
       "description": "frame",
       "layout": "IPY_MODEL_e0de3359d3ad4c85a2024598e52fb1b2",
       "max": 49,
       "style": "IPY_MODEL_c230cc0668ed41d99de71598ded8c06c",
       "value": 5
      }
     },
     "2ff157d5494b47c29f5d253371c8ea80": {
      "model_module": "@jupyter-widgets/base",
      "model_module_version": "1.0.0",
      "model_name": "LayoutModel",
      "state": {
       "width": "auto"
      }
     },
     "30a0241e5c814472b05714b48f2ffe88": {
      "model_module": "@jupyter-widgets/controls",
      "model_module_version": "1.2.0",
      "model_name": "HBoxModel",
      "state": {
       "children": [
        "IPY_MODEL_b304b4607fc342b6b848e390fe8bdfd8",
        "IPY_MODEL_d3bc122c893f43a9a701e4b6f4766028"
       ],
       "layout": "IPY_MODEL_0524bbc1993d499ab516047e3e4ae8ef"
      }
     },
     "30ab117a33364db4b8b933f5dce6d78c": {
      "model_module": "@jupyter-widgets/base",
      "model_module_version": "1.0.0",
      "model_name": "LayoutModel",
      "state": {
       "width": "auto"
      }
     },
     "30c5f2d80a094d839f584d1816185c02": {
      "model_module": "@jupyter-widgets/controls",
      "model_module_version": "1.2.0",
      "model_name": "DescriptionStyleModel",
      "state": {
       "description_width": ""
      }
     },
     "3127de0b495e44bd958960c09eb00e6f": {
      "model_module": "@jupyter-widgets/base",
      "model_module_version": "1.0.0",
      "model_name": "LayoutModel",
      "state": {}
     },
     "3130d4af28a546978472cdba8dbea286": {
      "model_module": "@jupyter-widgets/controls",
      "model_module_version": "1.2.0",
      "model_name": "SelectModel",
      "state": {
       "_options_labels": [
        "data/beads/beads_000_.SPE",
        "data/beads/beads_001_.SPE",
        "data/beads/beads_002_.SPE",
        "data/beads/beads_003_.SPE",
        "data/beads/beads_004_.SPE",
        "data/beads/beads_005_.SPE",
        "data/beads/beads_006_.SPE",
        "data/beads/beads_007_.SPE",
        "data/beads/beads_008_.SPE",
        "data/beads/beads_009_.SPE"
       ],
       "index": 0,
       "layout": "IPY_MODEL_e49caeeef93048f3a2f0ba4968ab5447",
       "style": "IPY_MODEL_0cdd03ac64564b4c9f06551bd032c8e4"
      }
     },
     "314d4dde2e7143af86f5e874575a1e5e": {
      "model_module": "@jupyter-widgets/controls",
      "model_module_version": "1.2.0",
      "model_name": "VBoxModel",
      "state": {
       "children": [
        "IPY_MODEL_ba9317bcc582450e8dfd0a9089f6527a",
        "IPY_MODEL_0200b780536d46a68b76eabe0aa9c320",
        "IPY_MODEL_d1773b06b7614fe380b8490c85ae1797",
        "IPY_MODEL_df2a54fb5a494245ae210802a381041a",
        "IPY_MODEL_07751bd64e3b49d794716b8557be9e28",
        "IPY_MODEL_477607fb50a8480c92e3ba3e31698ab6"
       ],
       "layout": "IPY_MODEL_a9e6897cc4c3469b8c7059a067a847ea"
      }
     },
     "31b444c16f454933a68729399ccbbfdf": {
      "model_module": "@jupyter-widgets/controls",
      "model_module_version": "1.2.0",
      "model_name": "VBoxModel",
      "state": {
       "children": [
        "IPY_MODEL_4790f395dffc4ff392793a32a6539e60",
        "IPY_MODEL_0e53dd625aaf4141a1a499dd154d5c97",
        "IPY_MODEL_15fd5ddeea9b4b3ebf7f195fc013e804"
       ],
       "layout": "IPY_MODEL_7e859156759f45b38523fc18293aa11d"
      }
     },
     "31d34257a2ee401792e9a3e78ae01804": {
      "model_module": "@jupyter-widgets/controls",
      "model_module_version": "1.2.0",
      "model_name": "DescriptionStyleModel",
      "state": {
       "description_width": ""
      }
     },
     "31e0bc3e6a7f4c67994c1ad9260da0d1": {
      "model_module": "@jupyter-widgets/base",
      "model_module_version": "1.0.0",
      "model_name": "LayoutModel",
      "state": {
       "border": "1px solid gray"
      }
     },
     "31e4491c647e43999dd2c75c659a6a71": {
      "model_module": "@jupyter-widgets/controls",
      "model_module_version": "1.2.0",
      "model_name": "CheckboxModel",
      "state": {
       "description": "Size range",
       "disabled": false,
       "indent": false,
       "layout": "IPY_MODEL_514b5bd99b7c42adb3e56561b0c96554",
       "style": "IPY_MODEL_e8f311db4aae46339bc213801ec79649",
       "value": false
      }
     },
     "31fb0845074041e89dbcfc2a92d041c7": {
      "model_module": "@jupyter-widgets/base",
      "model_module_version": "1.0.0",
      "model_name": "LayoutModel",
      "state": {}
     },
     "328f0057f01d4d05a29128d582ab00d4": {
      "model_module": "@jupyter-widgets/controls",
      "model_module_version": "1.2.0",
      "model_name": "HBoxModel",
      "state": {
       "children": [
        "IPY_MODEL_45768ffe0934481d81d4dcbfbd39625d",
        "IPY_MODEL_01a2af9cf5104fb89fd4349bdc5dadb0",
        "IPY_MODEL_d3a10ad7dbe848a4b90517516149856c"
       ],
       "layout": "IPY_MODEL_cf6dbc4efe87490ba291bee634e48b75"
      }
     },
     "32b67c507baa46bb9b900b1e0e175126": {
      "model_module": "@jupyter-widgets/base",
      "model_module_version": "1.0.0",
      "model_name": "LayoutModel",
      "state": {
       "border": "1px solid gray"
      }
     },
     "336b38e4ea08432b992707580e7d2533": {
      "model_module": "@jupyter-widgets/controls",
      "model_module_version": "1.2.0",
      "model_name": "DropdownModel",
      "state": {
       "_options_labels": [
        "Identity",
        "Cg",
        "Gaussian"
       ],
       "description": "find filter",
       "index": 1,
       "layout": "IPY_MODEL_d4d4bf77cbaf495187273329a6e528c5",
       "style": "IPY_MODEL_f33352c769984bdb8569397b5ea79843"
      }
     },
     "338cf44fdfa9462cb4f5b1bc1190980d": {
      "model_module": "@jupyter-widgets/controls",
      "model_module_version": "1.2.0",
      "model_name": "HBoxModel",
      "state": {
       "children": [
        "IPY_MODEL_c6b5a2c35ab346b5939abbc473b6e036",
        "IPY_MODEL_eabca0ff3a3d4966ae8ae42be2d62ee4"
       ],
       "layout": "IPY_MODEL_1e9db56aac6d40d8acf83ef9d880b244"
      }
     },
     "33b505d4898344e08bee75837efdc0c8": {
      "model_module": "@jupyter-widgets/base",
      "model_module_version": "1.0.0",
      "model_name": "LayoutModel",
      "state": {
       "width": "auto"
      }
     },
     "33b6de483ca6433cb6abe21f23c9b310": {
      "model_module": "@jupyter-widgets/controls",
      "model_module_version": "1.2.0",
      "model_name": "CheckboxModel",
      "state": {
       "description": "Min. distance",
       "disabled": false,
       "indent": false,
       "layout": "IPY_MODEL_9afe321bb7c8441bac36317431dc9236",
       "style": "IPY_MODEL_377df01d6af84d56ac04a2ec3b7b200e",
       "value": false
      }
     },
     "33d2438241524a22a276e0c1f53efbd0": {
      "model_module": "@jupyter-widgets/base",
      "model_module_version": "1.0.0",
      "model_name": "LayoutModel",
      "state": {}
     },
     "33e0e4bf86b840f8a07fa69c50e39c00": {
      "model_module": "@jupyter-widgets/controls",
      "model_module_version": "1.2.0",
      "model_name": "DescriptionStyleModel",
      "state": {
       "description_width": ""
      }
     },
     "33e2ead747244865b0784cf450248b68": {
      "model_module": "@jupyter-widgets/controls",
      "model_module_version": "1.2.0",
      "model_name": "DropdownModel",
      "state": {
       "_options_labels": [
        "Identity",
        "Cg",
        "Gaussian"
       ],
       "description": "find filter",
       "index": 1,
       "layout": "IPY_MODEL_86c46d226c9342bd9799b721166690a6",
       "style": "IPY_MODEL_526e03976a084568bc186fea0e3470a9"
      }
     },
     "33fff774f93e46a2af5d1b55d8cb2994": {
      "model_module": "@jupyter-widgets/base",
      "model_module_version": "1.0.0",
      "model_name": "LayoutModel",
      "state": {
       "display": "none"
      }
     },
     "345e684d4c8944efa1f60f41e2c26c09": {
      "model_module": "@jupyter-widgets/base",
      "model_module_version": "1.0.0",
      "model_name": "LayoutModel",
      "state": {
       "width": "auto"
      }
     },
     "34934ccbd56f4acbbdc9e1b907e98de6": {
      "model_module": "@jupyter-widgets/controls",
      "model_module_version": "1.2.0",
      "model_name": "CheckboxModel",
      "state": {
       "description": "Min. distance",
       "disabled": false,
       "indent": false,
       "layout": "IPY_MODEL_29201598bb254ab9bd8c10d07bcb944e",
       "style": "IPY_MODEL_5a270a5953994efd86429a19106631ad",
       "value": false
      }
     },
     "3498c71ae10b40a4b58604efc7571bca": {
      "model_module": "@jupyter-widgets/controls",
      "model_module_version": "1.2.0",
      "model_name": "DescriptionStyleModel",
      "state": {
       "description_width": ""
      }
     },
     "349a6c60f42747edb1f90601260406eb": {
      "model_module": "@jupyter-widgets/base",
      "model_module_version": "1.0.0",
      "model_name": "LayoutModel",
      "state": {}
     },
     "34ae739732e64f14943fb575fb8acb08": {
      "model_module": "@jupyter-widgets/controls",
      "model_module_version": "1.2.0",
      "model_name": "DescriptionStyleModel",
      "state": {
       "description_width": ""
      }
     },
     "34bf8cbaf2714eb597514540f77ca60d": {
      "model_module": "@jupyter-widgets/controls",
      "model_module_version": "1.2.0",
      "model_name": "DescriptionStyleModel",
      "state": {
       "description_width": ""
      }
     },
     "3512eaffd0d549439f22523367cf10d8": {
      "model_module": "@jupyter-widgets/controls",
      "model_module_version": "1.2.0",
      "model_name": "DescriptionStyleModel",
      "state": {
       "description_width": ""
      }
     },
     "354a798a39b64454b1601798ffc3b8da": {
      "model_module": "@jupyter-widgets/base",
      "model_module_version": "1.0.0",
      "model_name": "LayoutModel",
      "state": {
       "display": "none"
      }
     },
     "3560dd9389c3463f86819f0c6634d24c": {
      "model_module": "@jupyter-widgets/controls",
      "model_module_version": "1.2.0",
      "model_name": "SliderStyleModel",
      "state": {
       "description_width": ""
      }
     },
     "358b3eb253e04bf2a0db36e0448d9957": {
      "model_module": "@jupyter-widgets/controls",
      "model_module_version": "1.2.0",
      "model_name": "DescriptionStyleModel",
      "state": {
       "description_width": ""
      }
     },
     "3593a37449154d8f82a44987fd1cabd8": {
      "model_module": "@jupyter-widgets/base",
      "model_module_version": "1.0.0",
      "model_name": "LayoutModel",
      "state": {
       "display": "none"
      }
     },
     "35a00fdfbead418f9674347962f7716a": {
      "model_module": "@jupyter-widgets/controls",
      "model_module_version": "1.2.0",
      "model_name": "DescriptionStyleModel",
      "state": {
       "description_width": ""
      }
     },
     "35affd50b11e4522a38dac9e0946d5c9": {
      "model_module": "@jupyter-widgets/base",
      "model_module_version": "1.0.0",
      "model_name": "LayoutModel",
      "state": {}
     },
     "3663842ab6404589b472521e2dad1bdc": {
      "model_module": "@jupyter-widgets/controls",
      "model_module_version": "1.2.0",
      "model_name": "IntRangeSliderModel",
      "state": {
       "_model_name": "IntRangeSliderModel",
       "_view_name": "IntRangeSliderView",
       "layout": "IPY_MODEL_28d9606c6c444c8889a38c026e121723",
       "max": 65535,
       "style": "IPY_MODEL_921181737b0045eb8e603a257dd72842",
       "value": [
        134,
        7442
       ]
      }
     },
     "36680b77f7ad4b55bfcebcb35039d055": {
      "model_module": "@jupyter-widgets/controls",
      "model_module_version": "1.2.0",
      "model_name": "DropdownModel",
      "state": {
       "_options_labels": [
        "2d_fixed",
        "2d",
        "3d"
       ],
       "description": "model",
       "index": 1,
       "layout": "IPY_MODEL_af70af434bc9431d86af759864a3265d",
       "style": "IPY_MODEL_4bf2598540974f29984f3861a5ff8e15"
      }
     },
     "3681124aa8ad436984338a2f81ea7fcb": {
      "model_module": "@jupyter-widgets/base",
      "model_module_version": "1.0.0",
      "model_name": "LayoutModel",
      "state": {
       "width": "auto"
      }
     },
     "3690a91a4735499dba9608c80843fd02": {
      "model_module": "@jupyter-widgets/controls",
      "model_module_version": "1.2.0",
      "model_name": "VBoxModel",
      "state": {
       "children": [
        "IPY_MODEL_f7998b084203443680d101c740cfe14c",
        "IPY_MODEL_3c37cf4ce0db45b294a87e2e2e66a7a7",
        "IPY_MODEL_3a27d8a7431f47d3b8bfe2a46dc1620b",
        "IPY_MODEL_52930f14c43948428e7e139e88ccdd1f",
        "IPY_MODEL_384636f90eb742369a39e87dabbacc35",
        "IPY_MODEL_aac9f45b45844ebead78d0105e3ee8bd"
       ],
       "layout": "IPY_MODEL_01c8d0a55d0d48fdb32ed0408d82c1f5"
      }
     },
     "3697558d7a714cffb229d1c70991bfbf": {
      "model_module": "@jupyter-widgets/base",
      "model_module_version": "1.0.0",
      "model_name": "LayoutModel",
      "state": {}
     },
     "36e0ecd660f249d58bdaa97b3a3c5a60": {
      "model_module": "@jupyter-widgets/controls",
      "model_module_version": "1.2.0",
      "model_name": "DescriptionStyleModel",
      "state": {
       "description_width": ""
      }
     },
     "37582f39e27b4551a390952582802e16": {
      "model_module": "@jupyter-widgets/controls",
      "model_module_version": "1.2.0",
      "model_name": "DropdownModel",
      "state": {
       "_options_labels": [
        "Identity",
        "Cg",
        "Gaussian"
       ],
       "description": "find filter",
       "index": 1,
       "layout": "IPY_MODEL_498960a071374e37891d79f5c213ef6c",
       "style": "IPY_MODEL_0d66c1f375ac41059427cca0ddc0d82a"
      }
     },
     "3761dc572846486f8ca53e123fbe0f0f": {
      "model_module": "@jupyter-widgets/controls",
      "model_module_version": "1.2.0",
      "model_name": "DescriptionStyleModel",
      "state": {
       "description_width": ""
      }
     },
     "377df01d6af84d56ac04a2ec3b7b200e": {
      "model_module": "@jupyter-widgets/controls",
      "model_module_version": "1.2.0",
      "model_name": "DescriptionStyleModel",
      "state": {
       "description_width": ""
      }
     },
     "37ad7e9ad02244f7aaae9222cbbafdb1": {
      "model_module": "@jupyter-widgets/base",
      "model_module_version": "1.0.0",
      "model_name": "LayoutModel",
      "state": {}
     },
     "37b4c7ed280b4d5aa4ccdbad7e7604f0": {
      "model_module": "@jupyter-widgets/base",
      "model_module_version": "1.0.0",
      "model_name": "LayoutModel",
      "state": {
       "border": "1px solid gray"
      }
     },
     "37b952d553f74ebfb7c2c0ecf1d4f8f1": {
      "model_module": "@jupyter-widgets/controls",
      "model_module_version": "1.2.0",
      "model_name": "LabelModel",
      "state": {
       "layout": "IPY_MODEL_fd48958d981a44ef958f0020d62a2cfa",
       "style": "IPY_MODEL_732a147ad77b4398b718fed17c20844d",
       "value": "Locating beads (file 10/10)"
      }
     },
     "37ef0d8b772140dfbf59b4763913ae43": {
      "model_module": "@jupyter-widgets/base",
      "model_module_version": "1.0.0",
      "model_name": "LayoutModel",
      "state": {}
     },
     "383915e9cac648e3a42e51a4d0858d65": {
      "model_module": "@jupyter-widgets/controls",
      "model_module_version": "1.2.0",
      "model_name": "HBoxModel",
      "state": {
       "children": [
        "IPY_MODEL_21a5d117f81846c995b25fedf5e25b60",
        "IPY_MODEL_3690a91a4735499dba9608c80843fd02"
       ],
       "layout": "IPY_MODEL_01201ffdcbff4b7d99f12629d45e4765"
      }
     },
     "384636f90eb742369a39e87dabbacc35": {
      "model_module": "@jupyter-widgets/controls",
      "model_module_version": "1.2.0",
      "model_name": "HBoxModel",
      "state": {
       "children": [
        "IPY_MODEL_9a5f9e52cc0b433c9be07791633d55fb",
        "IPY_MODEL_0cea7e65dde3457aa96dbed8b7568a9b"
       ],
       "layout": "IPY_MODEL_c5a09fe99ce7403da8ed57fba46e3dd0"
      }
     },
     "386b71b351a64a1a954377121aa10d0a": {
      "model_module": "@jupyter-widgets/base",
      "model_module_version": "1.0.0",
      "model_name": "LayoutModel",
      "state": {
       "width": "75%"
      }
     },
     "38a7fdf1a3bb4fc5ba8172b7e156b029": {
      "model_module": "@jupyter-widgets/controls",
      "model_module_version": "1.2.0",
      "model_name": "IntRangeSliderModel",
      "state": {
       "_model_name": "IntRangeSliderModel",
       "_view_name": "IntRangeSliderView",
       "layout": "IPY_MODEL_218f89f1b57c455fb73eaf34eae69515",
       "max": 65535,
       "style": "IPY_MODEL_12ac72ede8384674adc3df71072a70fe",
       "value": [
        134,
        25393
       ]
      }
     },
     "38dcb74fa34f48f4a0a41912cd4ac83d": {
      "model_module": "@jupyter-widgets/controls",
      "model_module_version": "1.2.0",
      "model_name": "DescriptionStyleModel",
      "state": {
       "description_width": ""
      }
     },
     "398608ecacd949bc8f063480366982a5": {
      "model_module": "@jupyter-widgets/base",
      "model_module_version": "1.0.0",
      "model_name": "LayoutModel",
      "state": {
       "display": "none"
      }
     },
     "3a27d8a7431f47d3b8bfe2a46dc1620b": {
      "model_module": "@jupyter-widgets/controls",
      "model_module_version": "1.2.0",
      "model_name": "FloatTextModel",
      "state": {
       "description": "threshold",
       "layout": "IPY_MODEL_de096bf297284c4ba9d71eb7a810dadd",
       "step": 10,
       "style": "IPY_MODEL_3b5373bf964240b780b4c860c041612a",
       "value": 100
      }
     },
     "3a286e7c794c499eabcb6dfa3bf4a97b": {
      "model_module": "@jupyter-widgets/controls",
      "model_module_version": "1.2.0",
      "model_name": "CheckboxModel",
      "state": {
       "description": "Min. distance",
       "disabled": false,
       "indent": false,
       "layout": "IPY_MODEL_b16e5eb0bf554c65b74a24feb96709a8",
       "style": "IPY_MODEL_c4de4d48993e40d28053ddf2b8098a13",
       "value": false
      }
     },
     "3a2d6fdf137f40619d5b0e4ea9344a73": {
      "model_module": "@jupyter-widgets/controls",
      "model_module_version": "1.2.0",
      "model_name": "VBoxModel",
      "state": {
       "children": [
        "IPY_MODEL_40543da14e8a45409dc49051853d7c25",
        "IPY_MODEL_766095983907487a87bcc331677cb94d",
        "IPY_MODEL_1a9a1416534040559ecaeeb13f1b824a"
       ],
       "layout": "IPY_MODEL_cd5c8f3412cf455d876b8525e7f7fd2d"
      }
     },
     "3a44ae3acfe44081a8ddc69eca17b29a": {
      "model_module": "@jupyter-widgets/base",
      "model_module_version": "1.0.0",
      "model_name": "LayoutModel",
      "state": {}
     },
     "3a5322cb3cb44c848a6da8e63862da57": {
      "model_module": "@jupyter-widgets/base",
      "model_module_version": "1.0.0",
      "model_name": "LayoutModel",
      "state": {
       "display": "none"
      }
     },
     "3a5e4229eb1d47538c530b654ba8511e": {
      "model_module": "@jupyter-widgets/controls",
      "model_module_version": "1.2.0",
      "model_name": "LabelModel",
      "state": {
       "layout": "IPY_MODEL_b0cd287641f84a2a9d05a74793931579",
       "style": "IPY_MODEL_5e6811fb63c74e868f450423ba6ad548",
       "value": "Locating beads (file 10/10)"
      }
     },
     "3a5f65ba7775490d93465572747b1696": {
      "model_module": "@jupyter-widgets/base",
      "model_module_version": "1.0.0",
      "model_name": "LayoutModel",
      "state": {}
     },
     "3a6678335a474892a86e82b0edae6bbf": {
      "model_module": "@jupyter-widgets/base",
      "model_module_version": "1.0.0",
      "model_name": "LayoutModel",
      "state": {
       "height": "150px",
       "width": "100%"
      }
     },
     "3a67196d27014701a62fa9a22a9167a8": {
      "model_module": "@jupyter-widgets/base",
      "model_module_version": "1.0.0",
      "model_name": "LayoutModel",
      "state": {
       "display": "none"
      }
     },
     "3b3b7dd44e824c8b806aee7c8bb1e065": {
      "model_module": "@jupyter-widgets/controls",
      "model_module_version": "1.2.0",
      "model_name": "DescriptionStyleModel",
      "state": {
       "description_width": ""
      }
     },
     "3b4a599f18eb484f89abca24821169d5": {
      "model_module": "@jupyter-widgets/controls",
      "model_module_version": "1.2.0",
      "model_name": "FloatTextModel",
      "state": {
       "layout": "IPY_MODEL_63807a890eb7470ba44feed616076dd0",
       "step": 0.1,
       "style": "IPY_MODEL_5600573c8c8b4ea596b13dcb94a9939a",
       "value": 3
      }
     },
     "3b5373bf964240b780b4c860c041612a": {
      "model_module": "@jupyter-widgets/controls",
      "model_module_version": "1.2.0",
      "model_name": "DescriptionStyleModel",
      "state": {
       "description_width": ""
      }
     },
     "3b6207d8c3734ff4a52804ea21713787": {
      "model_module": "@jupyter-widgets/base",
      "model_module_version": "1.0.0",
      "model_name": "LayoutModel",
      "state": {}
     },
     "3b63878afce54f82b604d3986ea88f88": {
      "model_module": "@jupyter-widgets/base",
      "model_module_version": "1.0.0",
      "model_name": "LayoutModel",
      "state": {}
     },
     "3b6d145814284f81a73a8766f2202449": {
      "model_module": "@jupyter-widgets/base",
      "model_module_version": "1.0.0",
      "model_name": "LayoutModel",
      "state": {
       "display": "inline"
      }
     },
     "3b7d0dbaf2214570a98eb67de0b91a6f": {
      "model_module": "@jupyter-widgets/controls",
      "model_module_version": "1.2.0",
      "model_name": "DescriptionStyleModel",
      "state": {
       "description_width": ""
      }
     },
     "3bd3ca85972f4753945635cc6a4b40e8": {
      "model_module": "@jupyter-widgets/controls",
      "model_module_version": "1.2.0",
      "model_name": "SelectModel",
      "state": {
       "_options_labels": [
        "data/beads/beads_000_.SPE",
        "data/beads/beads_001_.SPE",
        "data/beads/beads_002_.SPE",
        "data/beads/beads_003_.SPE",
        "data/beads/beads_004_.SPE",
        "data/beads/beads_005_.SPE",
        "data/beads/beads_006_.SPE",
        "data/beads/beads_007_.SPE",
        "data/beads/beads_008_.SPE",
        "data/beads/beads_009_.SPE"
       ],
       "index": 2,
       "layout": "IPY_MODEL_a7b19d4cf67e478589baafdeccf11344",
       "style": "IPY_MODEL_7f8c1ba0849c4963a3aec678f5fcbf8b"
      }
     },
     "3bdc168d46bd4052a5c6535d639525d8": {
      "model_module": "@jupyter-widgets/controls",
      "model_module_version": "1.2.0",
      "model_name": "DescriptionStyleModel",
      "state": {
       "description_width": ""
      }
     },
     "3be64c840f9c483681797b6d67d67b27": {
      "model_module": "@jupyter-widgets/base",
      "model_module_version": "1.0.0",
      "model_name": "LayoutModel",
      "state": {
       "width": "auto"
      }
     },
     "3c29b07ceaa2490b940db8fc6f9eff30": {
      "model_module": "@jupyter-widgets/base",
      "model_module_version": "1.0.0",
      "model_name": "LayoutModel",
      "state": {
       "display": "inline"
      }
     },
     "3c37cf4ce0db45b294a87e2e2e66a7a7": {
      "model_module": "@jupyter-widgets/controls",
      "model_module_version": "1.2.0",
      "model_name": "DropdownModel",
      "state": {
       "_options_labels": [
        "2d_fixed",
        "2d",
        "3d"
       ],
       "description": "model",
       "index": 1,
       "layout": "IPY_MODEL_1801f0ca4a8a48b2bb97a19367c533ea",
       "style": "IPY_MODEL_140ec12a11b9452bbfb35586d4dcede5"
      }
     },
     "3c545a405b674051b41100b62fdf4ca2": {
      "model_module": "@jupyter-widgets/base",
      "model_module_version": "1.0.0",
      "model_name": "LayoutModel",
      "state": {}
     },
     "3c575d413417433c9323336b0c3bb3ab": {
      "model_module": "@jupyter-widgets/controls",
      "model_module_version": "1.2.0",
      "model_name": "DescriptionStyleModel",
      "state": {
       "description_width": ""
      }
     },
     "3c8d1e78915a409e9085df65c4d1ffe0": {
      "model_module": "@jupyter-widgets/base",
      "model_module_version": "1.0.0",
      "model_name": "LayoutModel",
      "state": {}
     },
     "3c97b874e3e548b392390d99e542d906": {
      "model_module": "@jupyter-widgets/base",
      "model_module_version": "1.0.0",
      "model_name": "LayoutModel",
      "state": {
       "width": "auto"
      }
     },
     "3cb0d27cf4e64e7dbba3e398ee1b9917": {
      "model_module": "@jupyter-widgets/controls",
      "model_module_version": "1.2.0",
      "model_name": "FloatTextModel",
      "state": {
       "description": "min.",
       "layout": "IPY_MODEL_42fbbf29055947cab3c8da93d897353f",
       "step": 0.1,
       "style": "IPY_MODEL_92c035acd4c94c8f825860b4865061a3",
       "value": 0.5
      }
     },
     "3cda9afe6d824df9b2dbfe89e7c6ec92": {
      "model_module": "@jupyter-widgets/controls",
      "model_module_version": "1.2.0",
      "model_name": "FloatTextModel",
      "state": {
       "description": "min.",
       "layout": "IPY_MODEL_aa24ebdabe454b5c926dedbd4652a7a5",
       "step": 0.1,
       "style": "IPY_MODEL_7b584ece4361442f9e5d5ae43bdc193c",
       "value": 0.5
      }
     },
     "3d5af2746fd745cf8028df9866770533": {
      "model_module": "@jupyter-widgets/base",
      "model_module_version": "1.0.0",
      "model_name": "LayoutModel",
      "state": {}
     },
     "3dfcc337145e43b59dc9f567314f1074": {
      "model_module": "@jupyter-widgets/controls",
      "model_module_version": "1.2.0",
      "model_name": "DescriptionStyleModel",
      "state": {
       "description_width": ""
      }
     },
     "3e17ce9a39774c4182411752843e01f7": {
      "model_module": "@jupyter-widgets/controls",
      "model_module_version": "1.2.0",
      "model_name": "DescriptionStyleModel",
      "state": {
       "description_width": ""
      }
     },
     "3e4944042f0845319952b320763018d0": {
      "model_module": "@jupyter-widgets/controls",
      "model_module_version": "1.2.0",
      "model_name": "DescriptionStyleModel",
      "state": {
       "description_width": ""
      }
     },
     "3e56f2bef8274caf9fa9c8d3f07d4271": {
      "model_module": "@jupyter-widgets/base",
      "model_module_version": "1.0.0",
      "model_name": "LayoutModel",
      "state": {}
     },
     "3e6da3751f5f43d1ad96b63db51fc2d5": {
      "model_module": "@jupyter-widgets/base",
      "model_module_version": "1.0.0",
      "model_name": "LayoutModel",
      "state": {}
     },
     "3ebf2cda1286428da899bc7ac0434f28": {
      "model_module": "@jupyter-widgets/controls",
      "model_module_version": "1.2.0",
      "model_name": "LabelModel",
      "state": {
       "layout": "IPY_MODEL_88e452512c2a453dae2c9766752f5965",
       "style": "IPY_MODEL_acce2284551349c9bd0cb28aadc0ed58",
       "value": "Locating sensor-H57/cells-01_SAv-100k_SSS-H57-20k_000_.SPE (1/213)"
      }
     },
     "3f3dff0ea23d4c0da42191b6105bdbd9": {
      "model_module": "@jupyter-widgets/controls",
      "model_module_version": "1.2.0",
      "model_name": "DescriptionStyleModel",
      "state": {
       "description_width": ""
      }
     },
     "3f782f8371a24ca888d0504cc2dce459": {
      "model_module": "@jupyter-widgets/controls",
      "model_module_version": "1.2.0",
      "model_name": "IntRangeSliderModel",
      "state": {
       "_model_name": "IntRangeSliderModel",
       "_view_name": "IntRangeSliderView",
       "layout": "IPY_MODEL_aa3ff12a54e4489591f72079127925f6",
       "max": 65535,
       "style": "IPY_MODEL_ade9ee4d1be045f1af7d9360b08c544c",
       "value": [
        288,
        879
       ]
      }
     },
     "3f9418e628d24e748890f5c4dda6ace0": {
      "model_module": "@jupyter-widgets/controls",
      "model_module_version": "1.2.0",
      "model_name": "VBoxModel",
      "state": {
       "children": [
        "IPY_MODEL_7911c08f292a481c80c05b04716d2d21",
        "IPY_MODEL_6ca9d52f6bec41b2b6a3835ad9e9808a",
        "IPY_MODEL_027b45db01154a21918c8441fdd464ab"
       ],
       "layout": "IPY_MODEL_31e0bc3e6a7f4c67994c1ad9260da0d1"
      }
     },
     "3fc5493462e34f968eaa4595b4087632": {
      "model_module": "@jupyter-widgets/controls",
      "model_module_version": "1.2.0",
      "model_name": "DescriptionStyleModel",
      "state": {
       "description_width": ""
      }
     },
     "3fc7bb8133544386bfcdc2b59bb169c0": {
      "model_module": "@jupyter-widgets/controls",
      "model_module_version": "1.2.0",
      "model_name": "CheckboxModel",
      "state": {
       "description": "Size range",
       "disabled": false,
       "indent": false,
       "layout": "IPY_MODEL_fed7cd05491e48f6ab37507e51e4c53b",
       "style": "IPY_MODEL_970b112625964fd78495158398671b0e",
       "value": false
      }
     },
     "3ffb629a5fc24209b28d844fa0f143d2": {
      "model_module": "@jupyter-widgets/base",
      "model_module_version": "1.0.0",
      "model_name": "LayoutModel",
      "state": {
       "width": "auto"
      }
     },
     "404a23e84e2c419a9fb3be3b3ba78437": {
      "model_module": "@jupyter-widgets/base",
      "model_module_version": "1.0.0",
      "model_name": "LayoutModel",
      "state": {
       "display": "none"
      }
     },
     "40543da14e8a45409dc49051853d7c25": {
      "model_module": "@jupyter-widgets/controls",
      "model_module_version": "1.2.0",
      "model_name": "CheckboxModel",
      "state": {
       "description": "Size range",
       "disabled": false,
       "indent": false,
       "layout": "IPY_MODEL_c211590667d94e1ba903d9bb41556f7f",
       "style": "IPY_MODEL_742a23682d814029a435a2cd4e9c2c31",
       "value": false
      }
     },
     "407ce516982c43a1a697e896a1586e0c": {
      "model_module": "@jupyter-widgets/base",
      "model_module_version": "1.0.0",
      "model_name": "LayoutModel",
      "state": {
       "display": "none"
      }
     },
     "40da11987c9848cdbf569fd8a495553c": {
      "model_module": "@jupyter-widgets/base",
      "model_module_version": "1.0.0",
      "model_name": "LayoutModel",
      "state": {
       "width": "75%"
      }
     },
     "4100fe56dc0b474794a0e0181f531fa2": {
      "model_module": "@jupyter-widgets/base",
      "model_module_version": "1.0.0",
      "model_name": "LayoutModel",
      "state": {}
     },
     "4115c41ecd2f4ce59131fe44e539850f": {
      "model_module": "@jupyter-widgets/controls",
      "model_module_version": "1.2.0",
      "model_name": "DescriptionStyleModel",
      "state": {
       "description_width": ""
      }
     },
     "411a5b6f2fc54b669513f2747391d2b9": {
      "model_module": "@jupyter-widgets/controls",
      "model_module_version": "1.2.0",
      "model_name": "ButtonStyleModel",
      "state": {}
     },
     "413db89841384dc395069f5b8392741e": {
      "model_module": "@jupyter-widgets/controls",
      "model_module_version": "1.2.0",
      "model_name": "ButtonModel",
      "state": {
       "description": "Auto",
       "layout": "IPY_MODEL_a15fe1a85d9e4ec5b001e32cb91d0c65",
       "style": "IPY_MODEL_6d602d2bf98a4f85a66e84fef581fe4e"
      }
     },
     "41611cfe916d449eadd94ee06d3f57ae": {
      "model_module": "@jupyter-widgets/controls",
      "model_module_version": "1.2.0",
      "model_name": "DescriptionStyleModel",
      "state": {
       "description_width": ""
      }
     },
     "417b9bf113344cc0b8645f4a829750d8": {
      "model_module": "@jupyter-widgets/base",
      "model_module_version": "1.0.0",
      "model_name": "LayoutModel",
      "state": {}
     },
     "418ef43b5cf14e65bdf7ce484ec89c54": {
      "model_module": "@jupyter-widgets/controls",
      "model_module_version": "1.2.0",
      "model_name": "DescriptionStyleModel",
      "state": {
       "description_width": ""
      }
     },
     "41fa1613ebcb41d684a58cdfdc271be3": {
      "model_module": "@jupyter-widgets/controls",
      "model_module_version": "1.2.0",
      "model_name": "FloatTextModel",
      "state": {
       "description": "min.",
       "layout": "IPY_MODEL_ef95de6fd94f45e78a72b3debec04d11",
       "step": 0.1,
       "style": "IPY_MODEL_95f7c8157bf64759832ddcc4b2e44fed",
       "value": 0.5
      }
     },
     "4206f5309faa4d93908496b5d484138f": {
      "model_module": "@jupyter-widgets/base",
      "model_module_version": "1.0.0",
      "model_name": "LayoutModel",
      "state": {
       "width": "100%"
      }
     },
     "421aba4049bf4c39901e53f864c44f31": {
      "model_module": "@jupyter-widgets/base",
      "model_module_version": "1.0.0",
      "model_name": "LayoutModel",
      "state": {}
     },
     "42296a4b6f1b4f49b129bb4d23705751": {
      "model_module": "@jupyter-widgets/base",
      "model_module_version": "1.0.0",
      "model_name": "LayoutModel",
      "state": {
       "display": "none"
      }
     },
     "4235a193fe33482fab93e144a242265c": {
      "model_module": "@jupyter-widgets/controls",
      "model_module_version": "1.2.0",
      "model_name": "FloatTextModel",
      "state": {
       "description": "sigma",
       "layout": "IPY_MODEL_170d39d3ce444cba90ef4c63fbce7e89",
       "step": 0.1,
       "style": "IPY_MODEL_a8abbba0df0447ceb63ab913a797ce58",
       "value": 1
      }
     },
     "4237b9133c2b4b87a4e3f25bfce6b24a": {
      "model_module": "@jupyter-widgets/base",
      "model_module_version": "1.0.0",
      "model_name": "LayoutModel",
      "state": {}
     },
     "425c2255dfdc44a39fbc8ac9b2d7bb89": {
      "model_module": "@jupyter-widgets/controls",
      "model_module_version": "1.2.0",
      "model_name": "IntRangeSliderModel",
      "state": {
       "_model_name": "IntRangeSliderModel",
       "_view_name": "IntRangeSliderView",
       "layout": "IPY_MODEL_46c60bf5ed234171b40d85a20e05091d",
       "max": 65535,
       "style": "IPY_MODEL_cf5f51ce063a453bbe47101598458750",
       "value": [
        288,
        891
       ]
      }
     },
     "42653270d40a45689ce789a63a513e60": {
      "model_module": "@jupyter-widgets/base",
      "model_module_version": "1.0.0",
      "model_name": "LayoutModel",
      "state": {}
     },
     "428c3ec84c5e4239baf70014d127047e": {
      "model_module": "@jupyter-widgets/controls",
      "model_module_version": "1.2.0",
      "model_name": "DescriptionStyleModel",
      "state": {
       "description_width": ""
      }
     },
     "42dcfcbd1b9c451aa4d067fae2a86539": {
      "model_module": "@jupyter-widgets/controls",
      "model_module_version": "1.2.0",
      "model_name": "DescriptionStyleModel",
      "state": {
       "description_width": ""
      }
     },
     "42fbbf29055947cab3c8da93d897353f": {
      "model_module": "@jupyter-widgets/base",
      "model_module_version": "1.0.0",
      "model_name": "LayoutModel",
      "state": {
       "display": "none"
      }
     },
     "4302cddc8147486083b98f824c7ca5fa": {
      "model_module": "@jupyter-widgets/base",
      "model_module_version": "1.0.0",
      "model_name": "LayoutModel",
      "state": {}
     },
     "4351646a537848f0b89ddf17d9c3729c": {
      "model_module": "@jupyter-widgets/controls",
      "model_module_version": "1.2.0",
      "model_name": "DescriptionStyleModel",
      "state": {
       "description_width": ""
      }
     },
     "43536ff0d5a24e66973360c9f15580f4": {
      "model_module": "@jupyter-widgets/controls",
      "model_module_version": "1.2.0",
      "model_name": "DescriptionStyleModel",
      "state": {
       "description_width": ""
      }
     },
     "4365f161aa654dceb1f11c71ad69e059": {
      "model_module": "@jupyter-widgets/base",
      "model_module_version": "1.0.0",
      "model_name": "LayoutModel",
      "state": {
       "display": "none"
      }
     },
     "436b9b5f2afe4c6693f58f28df3c82d1": {
      "model_module": "@jupyter-widgets/controls",
      "model_module_version": "1.2.0",
      "model_name": "CheckboxModel",
      "state": {
       "description": "Min. distance",
       "disabled": false,
       "indent": false,
       "layout": "IPY_MODEL_03d007fe573c4c9cbc5e4ea7cb9d0326",
       "style": "IPY_MODEL_af64b99d6b9649ab87b51d9c15fe0a49",
       "value": false
      }
     },
     "43a725daeca449a48f513f4248fcbda3": {
      "model_module": "@jupyter-widgets/controls",
      "model_module_version": "1.2.0",
      "model_name": "HBoxModel",
      "state": {
       "children": [
        "IPY_MODEL_057f5b2e771b4affac01583cff8c1586",
        "IPY_MODEL_5e07b32ab6904ce988fd55d9bbce396d"
       ],
       "layout": "IPY_MODEL_577cf85bbf4c49c2a9a349dccda29721"
      }
     },
     "43d66b0944744ebda42365d083675a51": {
      "model_module": "@jupyter-widgets/controls",
      "model_module_version": "1.2.0",
      "model_name": "FloatTextModel",
      "state": {
       "layout": "IPY_MODEL_68fe90603e2a4cc4860284da46d09e25",
       "step": 0.1,
       "style": "IPY_MODEL_0621e68317c3484c843c55c54ace5a2e",
       "value": 1
      }
     },
     "440ba55ee22e4093b0a711491eb05679": {
      "model_module": "@jupyter-widgets/base",
      "model_module_version": "1.0.0",
      "model_name": "LayoutModel",
      "state": {
       "width": "auto"
      }
     },
     "444486cd6d484fc29b8662b83e39a1c7": {
      "model_module": "@jupyter-widgets/controls",
      "model_module_version": "1.2.0",
      "model_name": "BoundedIntTextModel",
      "state": {
       "description": "frame",
       "layout": "IPY_MODEL_920cafbe294c4239bb9b2febbcf8b6c2",
       "max": 49,
       "style": "IPY_MODEL_b96ba1d49c2045b4a31929bea958a44d"
      }
     },
     "4460a4b0e45149e8b62d0d75002d0361": {
      "model_module": "@jupyter-widgets/base",
      "model_module_version": "1.0.0",
      "model_name": "LayoutModel",
      "state": {
       "display": "none"
      }
     },
     "4481872b9f784e239878e3f4bd030059": {
      "model_module": "@jupyter-widgets/controls",
      "model_module_version": "1.2.0",
      "model_name": "DescriptionStyleModel",
      "state": {
       "description_width": ""
      }
     },
     "44af3bdb87e84606a1ad3a7482d31214": {
      "model_module": "@jupyter-widgets/base",
      "model_module_version": "1.0.0",
      "model_name": "LayoutModel",
      "state": {}
     },
     "44c08bc02daf42f1a0416a85a4b9969d": {
      "model_module": "@jupyter-widgets/controls",
      "model_module_version": "1.2.0",
      "model_name": "VBoxModel",
      "state": {
       "children": [
        "IPY_MODEL_2a5e8949cf8340159bb28df661b072f1",
        "IPY_MODEL_65c1cea39ab14e44bd2dd1f391ff5f93"
       ],
       "layout": "IPY_MODEL_483357af4d3a46a2b3aa2d1f7f77755f"
      }
     },
     "44d61e765f544bb2842b0a2c3bad6d82": {
      "model_module": "@jupyter-widgets/controls",
      "model_module_version": "1.2.0",
      "model_name": "LabelModel",
      "state": {
       "layout": "IPY_MODEL_a174c0b7b1b64f9ba03c41e6405c2c14",
       "style": "IPY_MODEL_e17c5727b9e04a1088b58e6a22d8b980",
       "value": "Locating beads (file 10/10)"
      }
     },
     "44edea9b95eb40efb7d60eba72138aa3": {
      "model_module": "@jupyter-widgets/base",
      "model_module_version": "1.0.0",
      "model_name": "LayoutModel",
      "state": {
       "display": "none"
      }
     },
     "4533b1a7813e4a9cb97fc5fcbb667536": {
      "model_module": "@jupyter-widgets/controls",
      "model_module_version": "1.2.0",
      "model_name": "FloatTextModel",
      "state": {
       "description": "max.",
       "layout": "IPY_MODEL_656f24bd247f4e26bbc7c8e9ccfcd091",
       "step": 0.1,
       "style": "IPY_MODEL_59afc03e4e994cbbacce159577f5a1bb",
       "value": 2
      }
     },
     "453de5d837a54a0c99ea6e4910ec4de4": {
      "model_module": "@jupyter-widgets/controls",
      "model_module_version": "1.2.0",
      "model_name": "DescriptionStyleModel",
      "state": {
       "description_width": ""
      }
     },
     "453eb9d6f82947aca55be75f9982a4ad": {
      "model_module": "@jupyter-widgets/base",
      "model_module_version": "1.0.0",
      "model_name": "LayoutModel",
      "state": {}
     },
     "454c08de3bcc4439b6a4751c4abdfe7c": {
      "model_module": "@jupyter-widgets/controls",
      "model_module_version": "1.2.0",
      "model_name": "DescriptionStyleModel",
      "state": {
       "description_width": ""
      }
     },
     "455cf6e9a00743579e54cef4efeee445": {
      "model_module": "@jupyter-widgets/controls",
      "model_module_version": "1.2.0",
      "model_name": "CheckboxModel",
      "state": {
       "description": "Min. distance",
       "disabled": false,
       "indent": false,
       "layout": "IPY_MODEL_9a22aab825cb4dfdb18cfdf79c3177b5",
       "style": "IPY_MODEL_a4eecdd6eac148078794d26ec458ae2d",
       "value": true
      }
     },
     "45768ffe0934481d81d4dcbfbd39625d": {
      "model_module": "@jupyter-widgets/controls",
      "model_module_version": "1.2.0",
      "model_name": "IntRangeSliderModel",
      "state": {
       "_model_name": "IntRangeSliderModel",
       "_view_name": "IntRangeSliderView",
       "layout": "IPY_MODEL_728268fbfb8a42a5949770b6a0cc242c",
       "max": 65535,
       "style": "IPY_MODEL_26b27b62cee64444ad2310759c9c6f22",
       "value": [
        297,
        1332
       ]
      }
     },
     "45a97c7bfdde493ab1761063e56f09de": {
      "model_module": "@jupyter-widgets/controls",
      "model_module_version": "1.2.0",
      "model_name": "ButtonStyleModel",
      "state": {}
     },
     "45ee5eca128243c499bc220cc0d4b8f8": {
      "model_module": "@jupyter-widgets/base",
      "model_module_version": "1.0.0",
      "model_name": "LayoutModel",
      "state": {
       "width": "100%"
      }
     },
     "462a79130c8645d198627256e0d82ca1": {
      "model_module": "@jupyter-widgets/base",
      "model_module_version": "1.0.0",
      "model_name": "LayoutModel",
      "state": {
       "height": "150px",
       "width": "100%"
      }
     },
     "463ded6a43294c99a7b0cb9d539d0c3a": {
      "model_module": "@jupyter-widgets/base",
      "model_module_version": "1.0.0",
      "model_name": "LayoutModel",
      "state": {
       "display": "none"
      }
     },
     "466a98b3e4164155ac3e59421f4747c4": {
      "model_module": "@jupyter-widgets/base",
      "model_module_version": "1.0.0",
      "model_name": "LayoutModel",
      "state": {
       "display": "none"
      }
     },
     "4698a6c0fe5f48868743f31af7dd1220": {
      "model_module": "@jupyter-widgets/controls",
      "model_module_version": "1.2.0",
      "model_name": "FloatTextModel",
      "state": {
       "description": "min.",
       "layout": "IPY_MODEL_fed75ad1157f438c870d9b33cafa3cb0",
       "step": 0.1,
       "style": "IPY_MODEL_8f1037d085144389a628066405742956",
       "value": 0.5
      }
     },
     "46abbf8828f94c0caed5369b5f796c00": {
      "model_module": "@jupyter-widgets/controls",
      "model_module_version": "1.2.0",
      "model_name": "SliderStyleModel",
      "state": {
       "description_width": ""
      }
     },
     "46c60bf5ed234171b40d85a20e05091d": {
      "model_module": "@jupyter-widgets/base",
      "model_module_version": "1.0.0",
      "model_name": "LayoutModel",
      "state": {
       "width": "75%"
      }
     },
     "47584766f8314f85a70a4f38066c9eff": {
      "model_module": "@jupyter-widgets/controls",
      "model_module_version": "1.2.0",
      "model_name": "DescriptionStyleModel",
      "state": {
       "description_width": ""
      }
     },
     "4759749c64d2497ca46af9130a2f7e24": {
      "model_module": "@jupyter-widgets/base",
      "model_module_version": "1.0.0",
      "model_name": "LayoutModel",
      "state": {}
     },
     "477607fb50a8480c92e3ba3e31698ab6": {
      "model_module": "@jupyter-widgets/controls",
      "model_module_version": "1.2.0",
      "model_name": "VBoxModel",
      "state": {
       "children": [
        "IPY_MODEL_3fc7bb8133544386bfcdc2b59bb169c0",
        "IPY_MODEL_3cda9afe6d824df9b2dbfe89e7c6ec92",
        "IPY_MODEL_6b4a267adab04b688e8540c81b625f5c"
       ],
       "layout": "IPY_MODEL_a0e18e07084b42d091852d2854f659b3"
      }
     },
     "477a123183b340b3bcba4ed01f9f591b": {
      "model_module": "@jupyter-widgets/base",
      "model_module_version": "1.0.0",
      "model_name": "LayoutModel",
      "state": {}
     },
     "4790f395dffc4ff392793a32a6539e60": {
      "model_module": "@jupyter-widgets/controls",
      "model_module_version": "1.2.0",
      "model_name": "CheckboxModel",
      "state": {
       "description": "Size range",
       "disabled": false,
       "indent": false,
       "layout": "IPY_MODEL_345e684d4c8944efa1f60f41e2c26c09",
       "style": "IPY_MODEL_2df5ef056f3c40e6b6d2b8e39ede9f6d",
       "value": false
      }
     },
     "479a85ec0b4c4d6dbc128c3e92899eb9": {
      "model_module": "@jupyter-widgets/base",
      "model_module_version": "1.0.0",
      "model_name": "LayoutModel",
      "state": {
       "display": "none"
      }
     },
     "479b92295e7c465fbafbc723031a2bf4": {
      "model_module": "@jupyter-widgets/base",
      "model_module_version": "1.0.0",
      "model_name": "LayoutModel",
      "state": {}
     },
     "47cd86d34ec4462893501a76ed9afd8f": {
      "model_module": "@jupyter-widgets/controls",
      "model_module_version": "1.2.0",
      "model_name": "DescriptionStyleModel",
      "state": {
       "description_width": ""
      }
     },
     "47d9ce6e1a864a1bb62a3df0054aeb85": {
      "model_module": "@jupyter-widgets/controls",
      "model_module_version": "1.2.0",
      "model_name": "ButtonStyleModel",
      "state": {}
     },
     "47f997f116f94cb7b6c09480f14e106b": {
      "model_module": "@jupyter-widgets/controls",
      "model_module_version": "1.2.0",
      "model_name": "DescriptionStyleModel",
      "state": {
       "description_width": ""
      }
     },
     "483357af4d3a46a2b3aa2d1f7f77755f": {
      "model_module": "@jupyter-widgets/base",
      "model_module_version": "1.0.0",
      "model_name": "LayoutModel",
      "state": {}
     },
     "483e9ce32bda47c488925371b0830254": {
      "model_module": "@jupyter-widgets/base",
      "model_module_version": "1.0.0",
      "model_name": "LayoutModel",
      "state": {
       "display": "none"
      }
     },
     "486ef561d5ad4ed8b6b402d8f99f85c4": {
      "model_module": "@jupyter-widgets/controls",
      "model_module_version": "1.2.0",
      "model_name": "DescriptionStyleModel",
      "state": {
       "description_width": ""
      }
     },
     "48c68a4560844d3fbb31562db6e9683e": {
      "model_module": "@jupyter-widgets/controls",
      "model_module_version": "1.2.0",
      "model_name": "DescriptionStyleModel",
      "state": {
       "description_width": ""
      }
     },
     "48fb649923464bb991a9700fa8811bb0": {
      "model_module": "@jupyter-widgets/controls",
      "model_module_version": "1.2.0",
      "model_name": "ButtonStyleModel",
      "state": {}
     },
     "48fff809a99c4795a642c5eb73a4bc80": {
      "model_module": "@jupyter-widgets/controls",
      "model_module_version": "1.2.0",
      "model_name": "DescriptionStyleModel",
      "state": {
       "description_width": ""
      }
     },
     "49119d5540824a35a119070707ae1701": {
      "model_module": "@jupyter-widgets/base",
      "model_module_version": "1.0.0",
      "model_name": "LayoutModel",
      "state": {}
     },
     "493efc4635854b789c035ec0c9b39114": {
      "model_module": "@jupyter-widgets/controls",
      "model_module_version": "1.2.0",
      "model_name": "DescriptionStyleModel",
      "state": {
       "description_width": ""
      }
     },
     "49512bb4c8814b779a50491620472709": {
      "model_module": "@jupyter-widgets/controls",
      "model_module_version": "1.2.0",
      "model_name": "DropdownModel",
      "state": {
       "_options_labels": [
        "Identity",
        "Cg",
        "Gaussian"
       ],
       "description": "find filter",
       "index": 0,
       "layout": "IPY_MODEL_3127de0b495e44bd958960c09eb00e6f",
       "style": "IPY_MODEL_7c2f1c1779d94e2e91f9166b3dd4b218"
      }
     },
     "496bcc72a596439c98d88c59f25b3d05": {
      "model_module": "@jupyter-widgets/controls",
      "model_module_version": "1.2.0",
      "model_name": "SliderStyleModel",
      "state": {
       "description_width": ""
      }
     },
     "498960a071374e37891d79f5c213ef6c": {
      "model_module": "@jupyter-widgets/base",
      "model_module_version": "1.0.0",
      "model_name": "LayoutModel",
      "state": {}
     },
     "49ab8d478e954eb9ba723305003c39a9": {
      "model_module": "@jupyter-widgets/controls",
      "model_module_version": "1.2.0",
      "model_name": "ButtonModel",
      "state": {
       "description": "Auto",
       "layout": "IPY_MODEL_8a73eacf81254b6eab54f9ad02fc146f",
       "style": "IPY_MODEL_e4a7d5985d9246e59f591bf25c398d01"
      }
     },
     "49b0252677114a718f2f1f5ce51aa65d": {
      "model_module": "@jupyter-widgets/base",
      "model_module_version": "1.0.0",
      "model_name": "LayoutModel",
      "state": {
       "border": "1px solid gray"
      }
     },
     "49b96d23871a4c919f44e812cb6471b5": {
      "model_module": "@jupyter-widgets/base",
      "model_module_version": "1.0.0",
      "model_name": "LayoutModel",
      "state": {}
     },
     "49bc3fc69ba548d29e373246ae84de05": {
      "model_module": "@jupyter-widgets/controls",
      "model_module_version": "1.2.0",
      "model_name": "BoundedIntTextModel",
      "state": {
       "description": "frame",
       "layout": "IPY_MODEL_01f7febb058f4a6ab60dfa074be2473d",
       "max": 49,
       "style": "IPY_MODEL_533466a2364245ec9c79c832089684ba"
      }
     },
     "49c8320dadf14967a9795101e0bd5512": {
      "model_module": "@jupyter-widgets/base",
      "model_module_version": "1.0.0",
      "model_name": "LayoutModel",
      "state": {}
     },
     "49f47ccf89f748e787085a389a86a031": {
      "model_module": "@jupyter-widgets/controls",
      "model_module_version": "1.2.0",
      "model_name": "CheckboxModel",
      "state": {
       "description": "Show loc.",
       "disabled": false,
       "indent": false,
       "layout": "IPY_MODEL_dcbf8a889bd04d8c9ff2ccec087765e6",
       "style": "IPY_MODEL_3dfcc337145e43b59dc9f567314f1074",
       "value": true
      }
     },
     "4a19eae047724d1c8aef7b840f80f3f5": {
      "model_module": "@jupyter-widgets/controls",
      "model_module_version": "1.2.0",
      "model_name": "VBoxModel",
      "state": {
       "children": [
        "IPY_MODEL_faf1a11f908944ffabbd7126a5e005e1",
        "IPY_MODEL_696eb39bab514c74999bc3001041492c"
       ],
       "layout": "IPY_MODEL_fffbe933fea044748d172e2a339cf65b"
      }
     },
     "4a1aaafdd5f744af8cf8e6809361d7c6": {
      "model_module": "@jupyter-widgets/base",
      "model_module_version": "1.0.0",
      "model_name": "LayoutModel",
      "state": {
       "display": "inline"
      }
     },
     "4a3df1f143e8450d88389850d2cfbe53": {
      "model_module": "@jupyter-widgets/controls",
      "model_module_version": "1.2.0",
      "model_name": "DescriptionStyleModel",
      "state": {
       "description_width": ""
      }
     },
     "4a41e935acee4148a4451a1654544e26": {
      "model_module": "@jupyter-widgets/controls",
      "model_module_version": "1.2.0",
      "model_name": "FloatTextModel",
      "state": {
       "description": "radius",
       "layout": "IPY_MODEL_129fbcfc47dd431bb83dc04e5b77badc",
       "step": 0.1,
       "style": "IPY_MODEL_cc4ae8ba518a41fc86f1d615d83338f5",
       "value": 1
      }
     },
     "4a490393faef437a9abcd614d0b88d2c": {
      "model_module": "@jupyter-widgets/controls",
      "model_module_version": "1.2.0",
      "model_name": "DescriptionStyleModel",
      "state": {
       "description_width": ""
      }
     },
     "4a51c13f3cd54ae98aa108b595a29848": {
      "model_module": "@jupyter-widgets/controls",
      "model_module_version": "1.2.0",
      "model_name": "BoundedIntTextModel",
      "state": {
       "description": "frame",
       "layout": "IPY_MODEL_2d63d416c73b4a6b9ae3882a85c68391",
       "max": 0,
       "style": "IPY_MODEL_94a04b48808646259dae3c75bf1e471a"
      }
     },
     "4a68f37c1a214fffa9dd0d7700cf194e": {
      "model_module": "@jupyter-widgets/controls",
      "model_module_version": "1.2.0",
      "model_name": "DescriptionStyleModel",
      "state": {
       "description_width": ""
      }
     },
     "4a736ac20cbe4d9496496506a52f7209": {
      "model_module": "@jupyter-widgets/controls",
      "model_module_version": "1.2.0",
      "model_name": "VBoxModel",
      "state": {
       "children": [
        "IPY_MODEL_b65b0c2916c34ab2981f5b32a3125ffd",
        "IPY_MODEL_7c0872584b414742a7b4ac503911cd25",
        "IPY_MODEL_cc6eea352d5e482d906f5aec93861cf0"
       ],
       "layout": "IPY_MODEL_8e6c34cfb4904b0a87936b4f7c942bc5"
      }
     },
     "4a7b5b806bad4a8b8f1567f9b0601f46": {
      "model_module": "@jupyter-widgets/controls",
      "model_module_version": "1.2.0",
      "model_name": "CheckboxModel",
      "state": {
       "description": "Show loc.",
       "disabled": false,
       "indent": false,
       "layout": "IPY_MODEL_1df8d90fd50d42a69167a3d390d0753d",
       "style": "IPY_MODEL_16280e129de34140ad85a284dd214b66",
       "value": true
      }
     },
     "4a933a90224440338f57b5258edc037e": {
      "model_module": "@jupyter-widgets/controls",
      "model_module_version": "1.2.0",
      "model_name": "LabelModel",
      "state": {
       "layout": "IPY_MODEL_03bd1f0914ee43919dc47922430145b1",
       "style": "IPY_MODEL_d66078a9781e4b2ca2af5639e2f167cc",
       "value": "Locating beads (file 10/10)"
      }
     },
     "4af9a176f0ca4384ae53f7545adf1ca3": {
      "model_module": "@jupyter-widgets/base",
      "model_module_version": "1.0.0",
      "model_name": "LayoutModel",
      "state": {
       "display": "none"
      }
     },
     "4b0261b9b6f648f5b2a390fda20c41f9": {
      "model_module": "@jupyter-widgets/base",
      "model_module_version": "1.0.0",
      "model_name": "LayoutModel",
      "state": {}
     },
     "4b05d2cbaf6f48419763d7aae6016b22": {
      "model_module": "@jupyter-widgets/controls",
      "model_module_version": "1.2.0",
      "model_name": "HBoxModel",
      "state": {
       "children": [
        "IPY_MODEL_6873b5d6371341c8bc06f724ef3a7d4d",
        "IPY_MODEL_291699d4a0464adaba373e687b282354"
       ],
       "layout": "IPY_MODEL_dcc09b93320e44609364bbcb9876e1ee"
      }
     },
     "4b594de80bf942c586a34574b8757370": {
      "model_module": "@jupyter-widgets/controls",
      "model_module_version": "1.2.0",
      "model_name": "IntTextModel",
      "state": {
       "description": "feat. size",
       "layout": "IPY_MODEL_967d6e4a08b54b6a8c9f79d6a8d495ab",
       "step": 1,
       "style": "IPY_MODEL_e675eb635a8d47be92f5923a24b15780",
       "value": 3
      }
     },
     "4b5b61fb0b5f42bc953c2099db1dd1ee": {
      "model_module": "@jupyter-widgets/controls",
      "model_module_version": "1.2.0",
      "model_name": "CheckboxModel",
      "state": {
       "description": "Size range",
       "disabled": false,
       "indent": false,
       "layout": "IPY_MODEL_140bc70604c44cd0b1ee487d0c9276c6",
       "style": "IPY_MODEL_809d2a13aa78447b8a8fcfa964e91b06",
       "value": false
      }
     },
     "4b79d28c9da94143bc5fc8704f601ac8": {
      "model_module": "@jupyter-widgets/controls",
      "model_module_version": "1.2.0",
      "model_name": "FloatTextModel",
      "state": {
       "description": "radius",
       "layout": "IPY_MODEL_2e5fdd4a325c4074b3d9cc96928c9f53",
       "step": 0.1,
       "style": "IPY_MODEL_c265d3f7ada04e2e84dee92b602bca76",
       "value": 1
      }
     },
     "4babe68aecce4550b50f696121e4b54e": {
      "model_module": "@jupyter-widgets/controls",
      "model_module_version": "1.2.0",
      "model_name": "DescriptionStyleModel",
      "state": {
       "description_width": ""
      }
     },
     "4bcf035025f74ee0b0e82a5b6af89d09": {
      "model_module": "@jupyter-widgets/controls",
      "model_module_version": "1.2.0",
      "model_name": "DescriptionStyleModel",
      "state": {
       "description_width": ""
      }
     },
     "4beac3c535f3486a8b97bcaede91171a": {
      "model_module": "@jupyter-widgets/controls",
      "model_module_version": "1.2.0",
      "model_name": "FloatTextModel",
      "state": {
       "description": "sigma",
       "layout": "IPY_MODEL_b88e8f7039e3448daf04fdfbbd09bfa0",
       "step": 0.1,
       "style": "IPY_MODEL_61937addd7c04717b4528d5fdf890e12",
       "value": 1
      }
     },
     "4bf2598540974f29984f3861a5ff8e15": {
      "model_module": "@jupyter-widgets/controls",
      "model_module_version": "1.2.0",
      "model_name": "DescriptionStyleModel",
      "state": {
       "description_width": ""
      }
     },
     "4c5be8f363bc45f38ed94765b9e7a6c9": {
      "model_module": "@jupyter-widgets/controls",
      "model_module_version": "1.2.0",
      "model_name": "DescriptionStyleModel",
      "state": {
       "description_width": ""
      }
     },
     "4c77f6dd91bb46839fb21e5396bb0407": {
      "model_module": "@jupyter-widgets/base",
      "model_module_version": "1.0.0",
      "model_name": "LayoutModel",
      "state": {
       "width": "100%"
      }
     },
     "4c8fb18843be4942b7703325f7ad2720": {
      "model_module": "@jupyter-widgets/controls",
      "model_module_version": "1.2.0",
      "model_name": "LabelModel",
      "state": {
       "layout": "IPY_MODEL_463ded6a43294c99a7b0cb9d539d0c3a",
       "style": "IPY_MODEL_510326c3d0344a2397aa25a642b0f004",
       "value": "Locating beads (file 10/10)"
      }
     },
     "4cb1aac3e95b4c979a1ead5774c356b6": {
      "model_module": "@jupyter-widgets/base",
      "model_module_version": "1.0.0",
      "model_name": "LayoutModel",
      "state": {}
     },
     "4d04899137f7496088e92d970eae70b2": {
      "model_module": "@jupyter-widgets/base",
      "model_module_version": "1.0.0",
      "model_name": "LayoutModel",
      "state": {}
     },
     "4d26ee6060214ff5b2a24bb3784c0591": {
      "model_module": "@jupyter-widgets/base",
      "model_module_version": "1.0.0",
      "model_name": "LayoutModel",
      "state": {}
     },
     "4d29cd8e3b554f8a9af88a5ba888ffda": {
      "model_module": "@jupyter-widgets/controls",
      "model_module_version": "1.2.0",
      "model_name": "CheckboxModel",
      "state": {
       "description": "Size range",
       "disabled": false,
       "indent": false,
       "layout": "IPY_MODEL_11b0a6c6cf96408bbd24e9bb3b9ec223",
       "style": "IPY_MODEL_c1f3b65adfd44722b49ea4a4ff69c29f",
       "value": false
      }
     },
     "4d71c157152d495d8d4b865b622bc7cd": {
      "model_module": "@jupyter-widgets/base",
      "model_module_version": "1.0.0",
      "model_name": "LayoutModel",
      "state": {
       "border": "1px solid gray"
      }
     },
     "4d8797da39e146098e2acf3e58307800": {
      "model_module": "@jupyter-widgets/controls",
      "model_module_version": "1.2.0",
      "model_name": "DropdownModel",
      "state": {
       "_options_labels": [
        "Identity",
        "Cg",
        "Gaussian"
       ],
       "description": "find filter",
       "index": 1,
       "layout": "IPY_MODEL_ec077ad547c24384a0fa385f60917c41",
       "style": "IPY_MODEL_1afc74c34b834938b692233d4251d486"
      }
     },
     "4db7d530e0c34e82a4bf095e64845645": {
      "model_module": "@jupyter-widgets/controls",
      "model_module_version": "1.2.0",
      "model_name": "IntRangeSliderModel",
      "state": {
       "_model_name": "IntRangeSliderModel",
       "_view_name": "IntRangeSliderView",
       "layout": "IPY_MODEL_bd22c8a2345642818cdb6541030c13ac",
       "max": 65535,
       "style": "IPY_MODEL_1f9db22bc9de48599c39cfac0e34058a",
       "value": [
        134,
        25393
       ]
      }
     },
     "4e02df3fdb114001b616a2528f835648": {
      "model_module": "@jupyter-widgets/controls",
      "model_module_version": "1.2.0",
      "model_name": "CheckboxModel",
      "state": {
       "description": "Show loc.",
       "disabled": false,
       "indent": false,
       "layout": "IPY_MODEL_7cf744bcc5b0409f9103c5c4577f0f0c",
       "style": "IPY_MODEL_ffe59aca5f9a4ed7a0fe1d2a7772e446",
       "value": true
      }
     },
     "4e6a001374d74b88a33cb6ba3c4b552a": {
      "model_module": "@jupyter-widgets/controls",
      "model_module_version": "1.2.0",
      "model_name": "FloatTextModel",
      "state": {
       "description": "sigma",
       "layout": "IPY_MODEL_44edea9b95eb40efb7d60eba72138aa3",
       "step": 0.1,
       "style": "IPY_MODEL_93f07b84d3e64ff991362ae79ce94c8e",
       "value": 1
      }
     },
     "4e934494c17140229dfa3d5c300bbfec": {
      "model_module": "@jupyter-widgets/base",
      "model_module_version": "1.0.0",
      "model_name": "LayoutModel",
      "state": {
       "border": "1px solid gray"
      }
     },
     "4e99d039977c47e3b8eba971c359fe29": {
      "model_module": "@jupyter-widgets/controls",
      "model_module_version": "1.2.0",
      "model_name": "FloatTextModel",
      "state": {
       "description": "threshold",
       "layout": "IPY_MODEL_14df7f8e48284943bcb56f0d4e6b4518",
       "step": 10,
       "style": "IPY_MODEL_17a4f243e43749d3a82d94ed987a986a",
       "value": 1000
      }
     },
     "4e9b38d94f214dffa4299200cd9f0d37": {
      "model_module": "@jupyter-widgets/base",
      "model_module_version": "1.0.0",
      "model_name": "LayoutModel",
      "state": {}
     },
     "4ec6270cc8024ca6bade21b9603b062e": {
      "model_module": "@jupyter-widgets/controls",
      "model_module_version": "1.2.0",
      "model_name": "IntTextModel",
      "state": {
       "description": "feat. size",
       "layout": "IPY_MODEL_ffdf4944c3944d1fb6ef5453ccdcab05",
       "step": 1,
       "style": "IPY_MODEL_8d055895f82c41d7b7c8b38876af1e7e",
       "value": 3
      }
     },
     "4ed19061fd9542a1b606cf50a950529f": {
      "model_module": "@jupyter-widgets/base",
      "model_module_version": "1.0.0",
      "model_name": "LayoutModel",
      "state": {}
     },
     "4ef3e817bb48417b978436c7857ed9e4": {
      "model_module": "@jupyter-widgets/base",
      "model_module_version": "1.0.0",
      "model_name": "LayoutModel",
      "state": {}
     },
     "4f0d8fd39d3d4d018d4b0ea18b0cefee": {
      "model_module": "@jupyter-widgets/controls",
      "model_module_version": "1.2.0",
      "model_name": "FloatTextModel",
      "state": {
       "description": "min.",
       "layout": "IPY_MODEL_483e9ce32bda47c488925371b0830254",
       "step": 0.1,
       "style": "IPY_MODEL_2f12a2c7f96c446295d15e6f1634ad2e",
       "value": 0.5
      }
     },
     "4f1c9987bc9249009342d674ff4874aa": {
      "model_module": "@jupyter-widgets/base",
      "model_module_version": "1.0.0",
      "model_name": "LayoutModel",
      "state": {
       "width": "auto"
      }
     },
     "4f59f7c7f95349aaaf46f4a293531ded": {
      "model_module": "@jupyter-widgets/base",
      "model_module_version": "1.0.0",
      "model_name": "LayoutModel",
      "state": {}
     },
     "4f60f460a5874e3e85ec8d90b8d1d860": {
      "model_module": "@jupyter-widgets/base",
      "model_module_version": "1.0.0",
      "model_name": "LayoutModel",
      "state": {
       "width": "auto"
      }
     },
     "4f70dd75e7e249e3b3e3c3c8c5e5f0c0": {
      "model_module": "@jupyter-widgets/controls",
      "model_module_version": "1.2.0",
      "model_name": "HBoxModel",
      "state": {
       "children": [
        "IPY_MODEL_f42361a75b9c48f8857e0386448ae651",
        "IPY_MODEL_03d928f519d64a2f9d4c52fa72ca46b6"
       ],
       "layout": "IPY_MODEL_96d1269aed614efa9f8cc6f05200bace"
      }
     },
     "4fd56e3ac5d54036ab16c9db9aa9eee6": {
      "model_module": "@jupyter-widgets/base",
      "model_module_version": "1.0.0",
      "model_name": "LayoutModel",
      "state": {}
     },
     "5086ea7aef1f46a5808760b81c382cb7": {
      "model_module": "@jupyter-widgets/controls",
      "model_module_version": "1.2.0",
      "model_name": "VBoxModel",
      "state": {
       "children": [
        "IPY_MODEL_d271830888304b6480c115f495085707",
        "IPY_MODEL_ec76c6f4165e4b56bbbc2ebc8027f09c",
        "IPY_MODEL_d7695ff71b5c4684913fd9e4d0fa6b6b",
        "IPY_MODEL_4a736ac20cbe4d9496496506a52f7209",
        "IPY_MODEL_036084afd6684ecb9dbf7a29de25ccbe",
        "IPY_MODEL_ff885677a118487299a4af03d4742890"
       ],
       "layout": "IPY_MODEL_b2cb2318eb49493fb159ab40adfc4cc8"
      }
     },
     "50e9cd4466bc4c1da5b227a6467de70f": {
      "model_module": "@jupyter-widgets/controls",
      "model_module_version": "1.2.0",
      "model_name": "VBoxModel",
      "state": {
       "children": [
        "IPY_MODEL_f3a8f38b4099453fb837d8a3180abfa0",
        "IPY_MODEL_7cf28348575d44999104b0a38448e86f",
        "IPY_MODEL_52e6bc593e5a4bcfb2fda60c2fb26510"
       ],
       "layout": "IPY_MODEL_63d37fe3c0aa41fb806922e478ead0db"
      }
     },
     "510326c3d0344a2397aa25a642b0f004": {
      "model_module": "@jupyter-widgets/controls",
      "model_module_version": "1.2.0",
      "model_name": "DescriptionStyleModel",
      "state": {
       "description_width": ""
      }
     },
     "510ee8b717534a4d8b82f40a272d87ab": {
      "model_module": "@jupyter-widgets/controls",
      "model_module_version": "1.2.0",
      "model_name": "DescriptionStyleModel",
      "state": {
       "description_width": ""
      }
     },
     "51367cd976a94f70a43509ca261a2281": {
      "model_module": "@jupyter-widgets/controls",
      "model_module_version": "1.2.0",
      "model_name": "DescriptionStyleModel",
      "state": {
       "description_width": ""
      }
     },
     "513cf401a49e41bda6aba28bf3b722fe": {
      "model_module": "@jupyter-widgets/base",
      "model_module_version": "1.0.0",
      "model_name": "LayoutModel",
      "state": {
       "display": "flex",
       "flex_flow": "column wrap",
       "width": "66%"
      }
     },
     "5149b052e56d4e3b8dd01dd22283eab2": {
      "model_module": "@jupyter-widgets/controls",
      "model_module_version": "1.2.0",
      "model_name": "HBoxModel",
      "state": {
       "children": [
        "IPY_MODEL_27d49c4881bc4966914232937258123b",
        "IPY_MODEL_49ab8d478e954eb9ba723305003c39a9",
        "IPY_MODEL_b5b4c64f5cef49d2848c1cc638b21707"
       ],
       "layout": "IPY_MODEL_d73bccaf5074400eb1e7f09ab7883930"
      }
     },
     "514b5bd99b7c42adb3e56561b0c96554": {
      "model_module": "@jupyter-widgets/base",
      "model_module_version": "1.0.0",
      "model_name": "LayoutModel",
      "state": {
       "width": "auto"
      }
     },
     "516609ad462b4649afa9d23010368a53": {
      "model_module": "@jupyter-widgets/base",
      "model_module_version": "1.0.0",
      "model_name": "LayoutModel",
      "state": {
       "width": "auto"
      }
     },
     "51ac44cad6864fe0b777662707fc7f96": {
      "model_module": "@jupyter-widgets/base",
      "model_module_version": "1.0.0",
      "model_name": "LayoutModel",
      "state": {}
     },
     "524a214ce2164bc7b9a12d01e86409f1": {
      "model_module": "@jupyter-widgets/controls",
      "model_module_version": "1.2.0",
      "model_name": "ButtonModel",
      "state": {
       "description": "Auto",
       "layout": "IPY_MODEL_f5eb7d24c3ea4294a036eace34910c53",
       "style": "IPY_MODEL_48fb649923464bb991a9700fa8811bb0"
      }
     },
     "526e03976a084568bc186fea0e3470a9": {
      "model_module": "@jupyter-widgets/controls",
      "model_module_version": "1.2.0",
      "model_name": "DescriptionStyleModel",
      "state": {
       "description_width": ""
      }
     },
     "52930f14c43948428e7e139e88ccdd1f": {
      "model_module": "@jupyter-widgets/controls",
      "model_module_version": "1.2.0",
      "model_name": "VBoxModel",
      "state": {
       "children": [
        "IPY_MODEL_9138d8a891bb4b6c8a15a1bfb8e4c597",
        "IPY_MODEL_e91726fd7c014a8ba3e9371ba0ef440d",
        "IPY_MODEL_16f455c95b1e4673b92e8b23c61fcd37"
       ],
       "layout": "IPY_MODEL_d9f9845a6f2145cebc5354cc6553b7f8"
      }
     },
     "5294824b870b4d97bf697a93fce654d2": {
      "model_module": "@jupyter-widgets/controls",
      "model_module_version": "1.2.0",
      "model_name": "DescriptionStyleModel",
      "state": {
       "description_width": ""
      }
     },
     "52b0b62b8f1f4cd5bce7e1cce59de77c": {
      "model_module": "@jupyter-widgets/base",
      "model_module_version": "1.0.0",
      "model_name": "LayoutModel",
      "state": {}
     },
     "52cbb0bbe4ce4ad4b59ac491f14ffb7a": {
      "model_module": "@jupyter-widgets/controls",
      "model_module_version": "1.2.0",
      "model_name": "ButtonStyleModel",
      "state": {}
     },
     "52e6bc593e5a4bcfb2fda60c2fb26510": {
      "model_module": "@jupyter-widgets/controls",
      "model_module_version": "1.2.0",
      "model_name": "FloatTextModel",
      "state": {
       "description": "sigma",
       "layout": "IPY_MODEL_7cea220079584f04863b5b3c3f490da5",
       "step": 0.1,
       "style": "IPY_MODEL_453de5d837a54a0c99ea6e4910ec4de4",
       "value": 1
      }
     },
     "52eaf20fec5d4b26b642602c7e2f087b": {
      "model_module": "@jupyter-widgets/controls",
      "model_module_version": "1.2.0",
      "model_name": "IntTextModel",
      "state": {
       "description": "feat. size",
       "layout": "IPY_MODEL_1009cd49c97e4206874e152e3db862bb",
       "step": 1,
       "style": "IPY_MODEL_710847d775194b9cb10c836ca473b834",
       "value": 3
      }
     },
     "530b6a43fc7247a7977cc8fe43e528a8": {
      "model_module": "@jupyter-widgets/controls",
      "model_module_version": "1.2.0",
      "model_name": "CheckboxModel",
      "state": {
       "description": "Show loc.",
       "disabled": false,
       "indent": false,
       "layout": "IPY_MODEL_3c8d1e78915a409e9085df65c4d1ffe0",
       "style": "IPY_MODEL_4481872b9f784e239878e3f4bd030059",
       "value": true
      }
     },
     "5333a79a55cc45c49ec238230d529949": {
      "model_module": "@jupyter-widgets/base",
      "model_module_version": "1.0.0",
      "model_name": "LayoutModel",
      "state": {
       "width": "75%"
      }
     },
     "533466a2364245ec9c79c832089684ba": {
      "model_module": "@jupyter-widgets/controls",
      "model_module_version": "1.2.0",
      "model_name": "DescriptionStyleModel",
      "state": {
       "description_width": ""
      }
     },
     "5359eed9abad42fb8064a5a645068c28": {
      "model_module": "@jupyter-widgets/base",
      "model_module_version": "1.0.0",
      "model_name": "LayoutModel",
      "state": {
       "width": "auto"
      }
     },
     "536a3707f6e5441db6b5c4cc7f1631d8": {
      "model_module": "@jupyter-widgets/controls",
      "model_module_version": "1.2.0",
      "model_name": "DescriptionStyleModel",
      "state": {
       "description_width": ""
      }
     },
     "5374c6190bc94421b907718a226cc3ce": {
      "model_module": "@jupyter-widgets/base",
      "model_module_version": "1.0.0",
      "model_name": "LayoutModel",
      "state": {}
     },
     "53a0216b84bb4febac866bd1581d3a08": {
      "model_module": "@jupyter-widgets/base",
      "model_module_version": "1.0.0",
      "model_name": "LayoutModel",
      "state": {
       "width": "100%"
      }
     },
     "542824644f4b4688ab53fe51e80cc840": {
      "model_module": "@jupyter-widgets/controls",
      "model_module_version": "1.2.0",
      "model_name": "BoundedIntTextModel",
      "state": {
       "description": "frame",
       "layout": "IPY_MODEL_75347f3d56c347b89e3487ee2446d0d0",
       "max": 0,
       "style": "IPY_MODEL_83cffd741eeb430dbf72e1f82c9e775f"
      }
     },
     "5446864af5af44aba166dcb3ea3c4d17": {
      "model_module": "@jupyter-widgets/base",
      "model_module_version": "1.0.0",
      "model_name": "LayoutModel",
      "state": {}
     },
     "5452847ecfe44d2a98b86fb4875e64b3": {
      "model_module": "@jupyter-widgets/base",
      "model_module_version": "1.0.0",
      "model_name": "LayoutModel",
      "state": {
       "width": "auto"
      }
     },
     "5474fcb3521040fd888dbb6faa2b9ab1": {
      "model_module": "@jupyter-widgets/controls",
      "model_module_version": "1.2.0",
      "model_name": "FloatTextModel",
      "state": {
       "description": "threshold",
       "layout": "IPY_MODEL_169bee8484dc48b296b3922435be1ac1",
       "step": 10,
       "style": "IPY_MODEL_186fef0ffc664a32bff80e8a388fa1b1",
       "value": 1000
      }
     },
     "54aa6aaa177f49f3a1fe6cfc0171eeb7": {
      "model_module": "@jupyter-widgets/controls",
      "model_module_version": "1.2.0",
      "model_name": "VBoxModel",
      "state": {
       "children": [
        "IPY_MODEL_1bc1bf8bdea542b7920e221d983edffb",
        "IPY_MODEL_ca1386fd89404570a65b25c094747dc8"
       ],
       "layout": "IPY_MODEL_b9cbd436c2e04d47a81f8ef4f91f7582"
      }
     },
     "54b348fecf0a43ef930b4457164466ce": {
      "model_module": "@jupyter-widgets/controls",
      "model_module_version": "1.2.0",
      "model_name": "CheckboxModel",
      "state": {
       "description": "Show loc.",
       "disabled": false,
       "indent": false,
       "layout": "IPY_MODEL_aa920e2886b64ce897d166dfe6ce7210",
       "style": "IPY_MODEL_8beeb15f06a24f429a5f619463c7534d",
       "value": true
      }
     },
     "54ee6f9886ed45c598dc7148a36a5ee5": {
      "model_module": "@jupyter-widgets/base",
      "model_module_version": "1.0.0",
      "model_name": "LayoutModel",
      "state": {
       "width": "100%"
      }
     },
     "55272d7030de4ae8b8e10c0fcde8e729": {
      "model_module": "@jupyter-widgets/controls",
      "model_module_version": "1.2.0",
      "model_name": "CheckboxModel",
      "state": {
       "description": "Show loc.",
       "disabled": false,
       "indent": false,
       "layout": "IPY_MODEL_d7abd9ce54dd4274bf1404185220f693",
       "style": "IPY_MODEL_536a3707f6e5441db6b5c4cc7f1631d8",
       "value": true
      }
     },
     "554e284fe67d4408aa5344e45e4d0274": {
      "model_module": "@jupyter-widgets/controls",
      "model_module_version": "1.2.0",
      "model_name": "FloatTextModel",
      "state": {
       "description": "threshold",
       "layout": "IPY_MODEL_2da60094b46e4cf69901d81463e9475b",
       "step": 10,
       "style": "IPY_MODEL_7b8878de628d40bd9920c97d3939afd8",
       "value": 80
      }
     },
     "556bcf6a15be407f871eccaf166f5be2": {
      "model_module": "@jupyter-widgets/base",
      "model_module_version": "1.0.0",
      "model_name": "LayoutModel",
      "state": {}
     },
     "559057d02ee8475d88b706cfc4ac2550": {
      "model_module": "@jupyter-widgets/controls",
      "model_module_version": "1.2.0",
      "model_name": "DescriptionStyleModel",
      "state": {
       "description_width": ""
      }
     },
     "55b1352ea4a34e0bb919a66a42682a4a": {
      "model_module": "@jupyter-widgets/controls",
      "model_module_version": "1.2.0",
      "model_name": "LabelModel",
      "state": {
       "layout": "IPY_MODEL_9062cf5159e6492689fe459d9cd70ec5",
       "style": "IPY_MODEL_f82a94889e664f7ebdce6f096a12c6aa",
       "value": "Tracking data/ctrl-H57/no-cells_SAv-100k_SSS-ctrl-H57-50k_029_.SPE (213/213)"
      }
     },
     "5600573c8c8b4ea596b13dcb94a9939a": {
      "model_module": "@jupyter-widgets/controls",
      "model_module_version": "1.2.0",
      "model_name": "DescriptionStyleModel",
      "state": {
       "description_width": ""
      }
     },
     "560b9ab308b242a0aae998cdc825f1f8": {
      "model_module": "@jupyter-widgets/controls",
      "model_module_version": "1.2.0",
      "model_name": "DescriptionStyleModel",
      "state": {
       "description_width": ""
      }
     },
     "56176a1911624df796d721ccf19324b6": {
      "model_module": "@jupyter-widgets/base",
      "model_module_version": "1.0.0",
      "model_name": "LayoutModel",
      "state": {
       "display": "none"
      }
     },
     "564e84c78d7a42648e50327e3be7be4e": {
      "model_module": "@jupyter-widgets/controls",
      "model_module_version": "1.2.0",
      "model_name": "CheckboxModel",
      "state": {
       "description": "Min. distance",
       "disabled": false,
       "indent": false,
       "layout": "IPY_MODEL_80d0f66ccc8043f5a05540c17b37572b",
       "style": "IPY_MODEL_1c5f0943bcc4468db7357061336a54df",
       "value": true
      }
     },
     "5663bea537e443eeaf6cc92c7c239ccd": {
      "model_module": "@jupyter-widgets/base",
      "model_module_version": "1.0.0",
      "model_name": "LayoutModel",
      "state": {
       "height": "150px",
       "width": "100%"
      }
     },
     "56942cc7612b425c87cf5ac589735428": {
      "model_module": "@jupyter-widgets/controls",
      "model_module_version": "1.2.0",
      "model_name": "DescriptionStyleModel",
      "state": {
       "description_width": ""
      }
     },
     "56a93a526453438f85be87de8c7470af": {
      "model_module": "@jupyter-widgets/base",
      "model_module_version": "1.0.0",
      "model_name": "LayoutModel",
      "state": {}
     },
     "56af3f5c73814919aff170876f698b4f": {
      "model_module": "@jupyter-widgets/controls",
      "model_module_version": "1.2.0",
      "model_name": "VBoxModel",
      "state": {
       "children": [
        "IPY_MODEL_49512bb4c8814b779a50491620472709",
        "IPY_MODEL_59ab127f919b40f5abc530f340ec050f",
        "IPY_MODEL_1725c2f4e24f43519feeb602b06bd99e"
       ],
       "layout": "IPY_MODEL_be6a59e5eb1a4e0ba562040a521833e5"
      }
     },
     "56bb1eb1da41452aa95e86ee51c1c925": {
      "model_module": "@jupyter-widgets/controls",
      "model_module_version": "1.2.0",
      "model_name": "FloatTextModel",
      "state": {
       "description": "radius",
       "layout": "IPY_MODEL_a9736066e5df4dcb9013c7a3c1688f78",
       "step": 0.1,
       "style": "IPY_MODEL_b42cb741e4384022a1c36c41bd528502",
       "value": 1
      }
     },
     "56ddf30c3b54448eaac9adb02d973201": {
      "model_module": "@jupyter-widgets/controls",
      "model_module_version": "1.2.0",
      "model_name": "VBoxModel",
      "state": {
       "children": [
        "IPY_MODEL_051997f9d6024dc8af51f2a4058dfa7b",
        "IPY_MODEL_cc7d7fe57c8743e9aa71f22aa0ab4098"
       ],
       "layout": "IPY_MODEL_d1979fb674764dc3a2d492d2045c3e47"
      }
     },
     "56f43e719b054d2db0d43b41318a43e8": {
      "model_module": "@jupyter-widgets/base",
      "model_module_version": "1.0.0",
      "model_name": "LayoutModel",
      "state": {
       "border": "1px solid gray"
      }
     },
     "571e43173c984d42b5335ced176a1fcc": {
      "model_module": "@jupyter-widgets/base",
      "model_module_version": "1.0.0",
      "model_name": "LayoutModel",
      "state": {}
     },
     "5777eed6f9d64683b752e06b8cf63243": {
      "model_module": "@jupyter-widgets/controls",
      "model_module_version": "1.2.0",
      "model_name": "DescriptionStyleModel",
      "state": {
       "description_width": ""
      }
     },
     "57792291a97947bbabf742c7d545ef62": {
      "model_module": "@jupyter-widgets/base",
      "model_module_version": "1.0.0",
      "model_name": "LayoutModel",
      "state": {
       "display": "none"
      }
     },
     "577976a5752a4a35ae5987c0d2954cac": {
      "model_module": "@jupyter-widgets/controls",
      "model_module_version": "1.2.0",
      "model_name": "SliderStyleModel",
      "state": {
       "description_width": ""
      }
     },
     "577cf85bbf4c49c2a9a349dccda29721": {
      "model_module": "@jupyter-widgets/base",
      "model_module_version": "1.0.0",
      "model_name": "LayoutModel",
      "state": {
       "height": "150px",
       "width": "100%"
      }
     },
     "57a2208435654b7e8a9ac515c7e6800d": {
      "model_module": "@jupyter-widgets/controls",
      "model_module_version": "1.2.0",
      "model_name": "DescriptionStyleModel",
      "state": {
       "description_width": ""
      }
     },
     "57b96df12752422e89e440a470aea9d3": {
      "model_module": "@jupyter-widgets/controls",
      "model_module_version": "1.2.0",
      "model_name": "FloatTextModel",
      "state": {
       "description": "sigma",
       "layout": "IPY_MODEL_466a98b3e4164155ac3e59421f4747c4",
       "step": 0.1,
       "style": "IPY_MODEL_5e416f0426bc401ea3e7f1132eccb83d",
       "value": 1
      }
     },
     "57e56208b76048eb9a4b54967a9f767e": {
      "model_module": "@jupyter-widgets/base",
      "model_module_version": "1.0.0",
      "model_name": "LayoutModel",
      "state": {
       "display": "none"
      }
     },
     "58167ea58240475299471d95d476a684": {
      "model_module": "@jupyter-widgets/base",
      "model_module_version": "1.0.0",
      "model_name": "LayoutModel",
      "state": {}
     },
     "5854236992754eb5a4eb25901ebebbf3": {
      "model_module": "@jupyter-widgets/controls",
      "model_module_version": "1.2.0",
      "model_name": "IntRangeSliderModel",
      "state": {
       "_model_name": "IntRangeSliderModel",
       "_view_name": "IntRangeSliderView",
       "layout": "IPY_MODEL_8d2ce95e587f4415ba3358ee8fc152a5",
       "max": 65535,
       "style": "IPY_MODEL_f0367f1de118469ba8b00941e610a68e",
       "value": [
        125,
        898
       ]
      }
     },
     "586359d9189148bc9b1870a5c0af9a02": {
      "model_module": "@jupyter-widgets/base",
      "model_module_version": "1.0.0",
      "model_name": "LayoutModel",
      "state": {
       "display": "flex",
       "flex_flow": "column wrap",
       "width": "66%"
      }
     },
     "58667e49450448c6ae4c9a2f36f38b12": {
      "model_module": "@jupyter-widgets/controls",
      "model_module_version": "1.2.0",
      "model_name": "FloatTextModel",
      "state": {
       "layout": "IPY_MODEL_81096482fe474b759a2fb31d9ee07c29",
       "step": 0.1,
       "style": "IPY_MODEL_b604c6fd56b54052a2ef2e4dc721225b",
       "value": 1
      }
     },
     "586ea51ad54b431dbb7953698bff4f35": {
      "model_module": "@jupyter-widgets/controls",
      "model_module_version": "1.2.0",
      "model_name": "DescriptionStyleModel",
      "state": {
       "description_width": ""
      }
     },
     "587b53fefa6e4d2091b15dd062869166": {
      "model_module": "@jupyter-widgets/controls",
      "model_module_version": "1.2.0",
      "model_name": "DescriptionStyleModel",
      "state": {
       "description_width": ""
      }
     },
     "5897926131b44660b1f6e44086382fc1": {
      "model_module": "@jupyter-widgets/controls",
      "model_module_version": "1.2.0",
      "model_name": "FloatTextModel",
      "state": {
       "description": "radius",
       "layout": "IPY_MODEL_9b53051365464343a586c20b7ee325f3",
       "step": 0.1,
       "style": "IPY_MODEL_fe15a69c03ab4054baafaa9111007f90",
       "value": 1
      }
     },
     "58c7c620e7444f18bee9b757653f2aa9": {
      "model_module": "@jupyter-widgets/base",
      "model_module_version": "1.0.0",
      "model_name": "LayoutModel",
      "state": {}
     },
     "58c8e5c780ac482ea7d83b4cb501efbb": {
      "model_module": "@jupyter-widgets/controls",
      "model_module_version": "1.2.0",
      "model_name": "DropdownModel",
      "state": {
       "_options_labels": [
        "2d_fixed",
        "2d",
        "3d"
       ],
       "description": "model",
       "index": 1,
       "layout": "IPY_MODEL_21c258a629b84bf88eb34298a9a4890f",
       "style": "IPY_MODEL_6da7d3d876064f1f9555a7a40461e31c"
      }
     },
     "59ab127f919b40f5abc530f340ec050f": {
      "model_module": "@jupyter-widgets/controls",
      "model_module_version": "1.2.0",
      "model_name": "IntTextModel",
      "state": {
       "description": "feat. size",
       "layout": "IPY_MODEL_01736be456ab4639a4e5f0f48f300839",
       "step": 1,
       "style": "IPY_MODEL_cb2aa5668d6740de9c8098fc5505dd93",
       "value": 3
      }
     },
     "59afc03e4e994cbbacce159577f5a1bb": {
      "model_module": "@jupyter-widgets/controls",
      "model_module_version": "1.2.0",
      "model_name": "DescriptionStyleModel",
      "state": {
       "description_width": ""
      }
     },
     "59e5136873f3461f9da2eb0c07a63bbe": {
      "model_module": "@jupyter-widgets/controls",
      "model_module_version": "1.2.0",
      "model_name": "HBoxModel",
      "state": {
       "children": [
        "IPY_MODEL_d00994195ff44f51a5ca3048b41a76f7",
        "IPY_MODEL_a8c5946410a84233bcdf6b08b34dc3b3"
       ],
       "layout": "IPY_MODEL_1141d8cb2a8148a48ac1b6503f8c1ee9"
      }
     },
     "59e608bd75e749d49644419ccf752c7d": {
      "model_module": "@jupyter-widgets/controls",
      "model_module_version": "1.2.0",
      "model_name": "FloatTextModel",
      "state": {
       "description": "radius",
       "layout": "IPY_MODEL_6bbd6b286ef1427686d5ee2ae6313dde",
       "step": 0.1,
       "style": "IPY_MODEL_ed6380d8ac0d4669808c453d50ba50a5",
       "value": 1
      }
     },
     "5a1aa8b1ede248a887870215d096f71d": {
      "model_module": "@jupyter-widgets/controls",
      "model_module_version": "1.2.0",
      "model_name": "DescriptionStyleModel",
      "state": {
       "description_width": ""
      }
     },
     "5a270a5953994efd86429a19106631ad": {
      "model_module": "@jupyter-widgets/controls",
      "model_module_version": "1.2.0",
      "model_name": "DescriptionStyleModel",
      "state": {
       "description_width": ""
      }
     },
     "5a47db210c184552875d03209f2ac40d": {
      "model_module": "@jupyter-widgets/base",
      "model_module_version": "1.0.0",
      "model_name": "LayoutModel",
      "state": {}
     },
     "5a5dc38c8a6a42f0a08431c0f89f295b": {
      "model_module": "@jupyter-widgets/base",
      "model_module_version": "1.0.0",
      "model_name": "LayoutModel",
      "state": {
       "width": "75%"
      }
     },
     "5aa0c9d1e5ab43acb48a9a4b2e234ec2": {
      "model_module": "@jupyter-widgets/controls",
      "model_module_version": "1.2.0",
      "model_name": "BoundedIntTextModel",
      "state": {
       "description": "frame",
       "layout": "IPY_MODEL_654856f11fc34a429035c6ef7fe126fb",
       "max": 0,
       "style": "IPY_MODEL_1484403c339c42d881d837479a6b348b"
      }
     },
     "5aa161b57ab74c31a2990499812f4952": {
      "model_module": "@jupyter-widgets/controls",
      "model_module_version": "1.2.0",
      "model_name": "ButtonModel",
      "state": {
       "description": "Auto",
       "layout": "IPY_MODEL_fe754280dfc64055b548ec78eacc41d8",
       "style": "IPY_MODEL_12e003f48a8e42dcb76762eb7dbfbd59"
      }
     },
     "5ae695377cd74172a7305615d64c90c8": {
      "model_module": "@jupyter-widgets/controls",
      "model_module_version": "1.2.0",
      "model_name": "IntTextModel",
      "state": {
       "description": "feat. size",
       "layout": "IPY_MODEL_c65c0211461f4256825de855d1499e54",
       "step": 1,
       "style": "IPY_MODEL_48fff809a99c4795a642c5eb73a4bc80",
       "value": 3
      }
     },
     "5b47e1c4bc184de1922550875cd3a9bb": {
      "model_module": "@jupyter-widgets/controls",
      "model_module_version": "1.2.0",
      "model_name": "FloatTextModel",
      "state": {
       "description": "max.",
       "layout": "IPY_MODEL_e704f90bcb3c446badc7d2eeb77c1ff3",
       "step": 0.1,
       "style": "IPY_MODEL_66d2fc5d9cee4391b118b7eb2f972320",
       "value": 2
      }
     },
     "5b48181873d4458fa8f521ea51ffcd7b": {
      "model_module": "@jupyter-widgets/controls",
      "model_module_version": "1.2.0",
      "model_name": "BoundedIntTextModel",
      "state": {
       "description": "frame",
       "layout": "IPY_MODEL_d13dca73dfab4d01a7f4ac9396aa4625",
       "max": 0,
       "style": "IPY_MODEL_b5cc62b6605a4e0da267d7b8f688c41c"
      }
     },
     "5b4a729fccd342f195d983a5748e6211": {
      "model_module": "@jupyter-widgets/controls",
      "model_module_version": "1.2.0",
      "model_name": "BoundedIntTextModel",
      "state": {
       "description": "frame",
       "layout": "IPY_MODEL_2370a758df184f00999f5f3619f13293",
       "max": 0,
       "style": "IPY_MODEL_120e3330344a49d09454f506e17883f3"
      }
     },
     "5b4c982706bd4240a5f71a5464d607e3": {
      "model_module": "@jupyter-widgets/base",
      "model_module_version": "1.0.0",
      "model_name": "LayoutModel",
      "state": {}
     },
     "5b832b17194f4626b304f362d82d3a97": {
      "model_module": "@jupyter-widgets/controls",
      "model_module_version": "1.2.0",
      "model_name": "VBoxModel",
      "state": {
       "children": [
        "IPY_MODEL_156fd5a9049b4a34bdafcf5399c6a636",
        "IPY_MODEL_005a080a10004a2c8d90773f71f9702c",
        "IPY_MODEL_635112c8db534c5aabd0e2e44f0b3490",
        "IPY_MODEL_b147a80af23a4223aacd3ed579ee9f5e",
        "IPY_MODEL_59e5136873f3461f9da2eb0c07a63bbe",
        "IPY_MODEL_7399cbebd2a24dc7baae9c10ae65dbf7"
       ],
       "layout": "IPY_MODEL_853382609a5b404d80a4feb4093d925a"
      }
     },
     "5bf451524c124eb5aaa54312ad41c19b": {
      "model_module": "@jupyter-widgets/controls",
      "model_module_version": "1.2.0",
      "model_name": "DescriptionStyleModel",
      "state": {
       "description_width": ""
      }
     },
     "5c401ea5da0d4848be95abb0540b7161": {
      "model_module": "@jupyter-widgets/controls",
      "model_module_version": "1.2.0",
      "model_name": "CheckboxModel",
      "state": {
       "description": "Size range",
       "disabled": false,
       "indent": false,
       "layout": "IPY_MODEL_15113472ac644c9dafe9aa5fd79b2ebc",
       "style": "IPY_MODEL_bc632cbfdf9d4927a3f062368302e1a6",
       "value": false
      }
     },
     "5c5eeae3fe734cfb9d5b6555b74ba08d": {
      "model_module": "@jupyter-widgets/controls",
      "model_module_version": "1.2.0",
      "model_name": "DescriptionStyleModel",
      "state": {
       "description_width": ""
      }
     },
     "5c98545516e04951b2ddb146af32d870": {
      "model_module": "@jupyter-widgets/controls",
      "model_module_version": "1.2.0",
      "model_name": "SelectModel",
      "state": {
       "_options_labels": [
        "data/sensor-H57/cells-01_SAv-100k_SSS-H57-20k_000_.SPE"
       ],
       "index": 0,
       "layout": "IPY_MODEL_30ab117a33364db4b8b933f5dce6d78c",
       "style": "IPY_MODEL_14e0f10b53a54f6981ae1f49c5ec1319"
      }
     },
     "5cd611847aa444c08a1fca2c7acaffd1": {
      "model_module": "@jupyter-widgets/base",
      "model_module_version": "1.0.0",
      "model_name": "LayoutModel",
      "state": {
       "display": "none"
      }
     },
     "5ce0ca89fff74ff98c74dfb4db051a59": {
      "model_module": "@jupyter-widgets/base",
      "model_module_version": "1.0.0",
      "model_name": "LayoutModel",
      "state": {}
     },
     "5cfae39b4ad94a99ac82ed3735cb7ac7": {
      "model_module": "@jupyter-widgets/base",
      "model_module_version": "1.0.0",
      "model_name": "LayoutModel",
      "state": {
       "display": "none"
      }
     },
     "5d0a7ef140e44964bca949a1721e3e29": {
      "model_module": "@jupyter-widgets/base",
      "model_module_version": "1.0.0",
      "model_name": "LayoutModel",
      "state": {
       "display": "inline"
      }
     },
     "5d1ee3b1cb2f409baac0f6f3c8af3d89": {
      "model_module": "@jupyter-widgets/controls",
      "model_module_version": "1.2.0",
      "model_name": "DescriptionStyleModel",
      "state": {
       "description_width": ""
      }
     },
     "5d2ac90b66f548228add6317731b95b1": {
      "model_module": "@jupyter-widgets/controls",
      "model_module_version": "1.2.0",
      "model_name": "CheckboxModel",
      "state": {
       "description": "Show loc.",
       "disabled": false,
       "indent": false,
       "layout": "IPY_MODEL_d7a264b90a064225b67d67860490ac0c",
       "style": "IPY_MODEL_ecb8bac5108d45a78922b28f3f46ed26",
       "value": true
      }
     },
     "5d7446d851ec4f579be2efa3d820e5dc": {
      "model_module": "@jupyter-widgets/controls",
      "model_module_version": "1.2.0",
      "model_name": "IntRangeSliderModel",
      "state": {
       "_model_name": "IntRangeSliderModel",
       "_view_name": "IntRangeSliderView",
       "layout": "IPY_MODEL_fa37f38bd10d46259b73c9a383fbd8ae",
       "max": 65535,
       "style": "IPY_MODEL_496bcc72a596439c98d88c59f25b3d05",
       "value": [
        125,
        898
       ]
      }
     },
     "5dd67e77080f4fe6ae891b497106b518": {
      "model_module": "@jupyter-widgets/controls",
      "model_module_version": "1.2.0",
      "model_name": "HBoxModel",
      "state": {
       "children": [
        "IPY_MODEL_67810f96dfa94f84a874740e9e8b1848",
        "IPY_MODEL_20230ca4f34e468aa7a2f70651828801",
        "IPY_MODEL_a55b747a6bb54df489ee9ab51b54ae2f"
       ],
       "layout": "IPY_MODEL_4206f5309faa4d93908496b5d484138f"
      }
     },
     "5ddf41f4e91448118e5b3331eae7ede0": {
      "model_module": "@jupyter-widgets/base",
      "model_module_version": "1.0.0",
      "model_name": "LayoutModel",
      "state": {
       "border": "1px solid gray"
      }
     },
     "5de06bb1c6624e61beb2780792cead7f": {
      "model_module": "@jupyter-widgets/controls",
      "model_module_version": "1.2.0",
      "model_name": "DescriptionStyleModel",
      "state": {
       "description_width": ""
      }
     },
     "5e012965fda74d719e889094e173e8de": {
      "model_module": "@jupyter-widgets/controls",
      "model_module_version": "1.2.0",
      "model_name": "DescriptionStyleModel",
      "state": {
       "description_width": ""
      }
     },
     "5e07b32ab6904ce988fd55d9bbce396d": {
      "model_module": "@jupyter-widgets/controls",
      "model_module_version": "1.2.0",
      "model_name": "VBoxModel",
      "state": {
       "children": [
        "IPY_MODEL_7a70e5df9e4a47af98622efa03666631",
        "IPY_MODEL_36680b77f7ad4b55bfcebcb35039d055",
        "IPY_MODEL_900defe2db1a44ca9b66c0e478878a1f",
        "IPY_MODEL_56af3f5c73814919aff170876f698b4f",
        "IPY_MODEL_a431992d061d4c7fa482f577ee2b5f45",
        "IPY_MODEL_7ffaa12f4009420cabdc409956fafe3d"
       ],
       "layout": "IPY_MODEL_e201e92cb5fa41e8af16546c7577b729"
      }
     },
     "5e1159f85fd74644919df2bb3f051ffa": {
      "model_module": "@jupyter-widgets/controls",
      "model_module_version": "1.2.0",
      "model_name": "VBoxModel",
      "state": {
       "children": [
        "IPY_MODEL_6b3cfdc9566d41578e2bc0de4e7c5282",
        "IPY_MODEL_5b48181873d4458fa8f521ea51ffcd7b"
       ],
       "layout": "IPY_MODEL_4d04899137f7496088e92d970eae70b2"
      }
     },
     "5e1620de67ef423d9dcf6ed618d2da27": {
      "model_module": "@jupyter-widgets/base",
      "model_module_version": "1.0.0",
      "model_name": "LayoutModel",
      "state": {}
     },
     "5e229349f7fe437488060da11ce4b070": {
      "model_module": "@jupyter-widgets/base",
      "model_module_version": "1.0.0",
      "model_name": "LayoutModel",
      "state": {}
     },
     "5e416f0426bc401ea3e7f1132eccb83d": {
      "model_module": "@jupyter-widgets/controls",
      "model_module_version": "1.2.0",
      "model_name": "DescriptionStyleModel",
      "state": {
       "description_width": ""
      }
     },
     "5e6811fb63c74e868f450423ba6ad548": {
      "model_module": "@jupyter-widgets/controls",
      "model_module_version": "1.2.0",
      "model_name": "DescriptionStyleModel",
      "state": {
       "description_width": ""
      }
     },
     "5e983447fe54437d9c0af3899af33f20": {
      "model_module": "@jupyter-widgets/base",
      "model_module_version": "1.0.0",
      "model_name": "LayoutModel",
      "state": {
       "width": "75%"
      }
     },
     "5eaf8f3cdebe4e9cad9fb053d288afdf": {
      "model_module": "@jupyter-widgets/controls",
      "model_module_version": "1.2.0",
      "model_name": "CheckboxModel",
      "state": {
       "description": "Size range",
       "disabled": false,
       "indent": false,
       "layout": "IPY_MODEL_fc8c47a3cbf34f2e9187fe74026c0dff",
       "style": "IPY_MODEL_a291137d07614d41942fc48dc043ba1e",
       "value": false
      }
     },
     "5eccf91694a044778a8cb26eb5a5c8a0": {
      "model_module": "@jupyter-widgets/controls",
      "model_module_version": "1.2.0",
      "model_name": "DescriptionStyleModel",
      "state": {
       "description_width": ""
      }
     },
     "5efc03be26be44678edae4db1dd0620d": {
      "model_module": "@jupyter-widgets/base",
      "model_module_version": "1.0.0",
      "model_name": "LayoutModel",
      "state": {}
     },
     "5f220bd61e4d4c46a2d8aedfa4a8dedc": {
      "model_module": "@jupyter-widgets/base",
      "model_module_version": "1.0.0",
      "model_name": "LayoutModel",
      "state": {}
     },
     "5f7efa908d984902a244918b19c19735": {
      "model_module": "@jupyter-widgets/controls",
      "model_module_version": "1.2.0",
      "model_name": "FloatTextModel",
      "state": {
       "description": "threshold",
       "layout": "IPY_MODEL_615072efde2e47e7a36e1f323b2c0b36",
       "step": 10,
       "style": "IPY_MODEL_ecd47fa07d1142bea9392cc41b33eee5",
       "value": 1000
      }
     },
     "5fbca88f0d204db0980fdaccd5ebc768": {
      "model_module": "@jupyter-widgets/controls",
      "model_module_version": "1.2.0",
      "model_name": "HBoxModel",
      "state": {
       "children": [
        "IPY_MODEL_0ab698786cec42bc8fdf23c17c963c07",
        "IPY_MODEL_ca9aad266e7c42bd917c4ba763aea4f1"
       ],
       "layout": "IPY_MODEL_3e56f2bef8274caf9fa9c8d3f07d4271"
      }
     },
     "60148b202487413ca2525ec620373960": {
      "model_module": "@jupyter-widgets/controls",
      "model_module_version": "1.2.0",
      "model_name": "DescriptionStyleModel",
      "state": {
       "description_width": ""
      }
     },
     "603f6d221e8049b5a98f4145480c1bab": {
      "model_module": "@jupyter-widgets/controls",
      "model_module_version": "1.2.0",
      "model_name": "DescriptionStyleModel",
      "state": {
       "description_width": ""
      }
     },
     "60493ddd1b4c4697b62100c27014597a": {
      "model_module": "@jupyter-widgets/base",
      "model_module_version": "1.0.0",
      "model_name": "LayoutModel",
      "state": {
       "width": "100%"
      }
     },
     "606dec8399984774b7cef87a7e644ae8": {
      "model_module": "@jupyter-widgets/controls",
      "model_module_version": "1.2.0",
      "model_name": "DescriptionStyleModel",
      "state": {
       "description_width": ""
      }
     },
     "608b02c44b7e4a9890c050da62633fff": {
      "model_module": "@jupyter-widgets/controls",
      "model_module_version": "1.2.0",
      "model_name": "VBoxModel",
      "state": {
       "children": [
        "IPY_MODEL_8d103f0587d54766bf25ae1c7cfdd53d",
        "IPY_MODEL_a2a42213226e42ce8bcd22c543fd9505",
        "IPY_MODEL_a3d10057cfce4fd59e9e4ac70cd279fa",
        "IPY_MODEL_e1417e10882d453988e80d2eca921cce",
        "IPY_MODEL_ebfdd479dffd499392a03cd744a5e4a0",
        "IPY_MODEL_baf972ed6604436caea88a93149e1b79"
       ],
       "layout": "IPY_MODEL_513cf401a49e41bda6aba28bf3b722fe"
      }
     },
     "60a9c1ea4c26432ea0ae7fdd3a5c2026": {
      "model_module": "@jupyter-widgets/controls",
      "model_module_version": "1.2.0",
      "model_name": "DescriptionStyleModel",
      "state": {
       "description_width": ""
      }
     },
     "60ec7cfe558846189357291a45dc9a81": {
      "model_module": "@jupyter-widgets/base",
      "model_module_version": "1.0.0",
      "model_name": "LayoutModel",
      "state": {}
     },
     "6118948bd2ef4d3d81a851ddc10f4615": {
      "model_module": "@jupyter-widgets/controls",
      "model_module_version": "1.2.0",
      "model_name": "CheckboxModel",
      "state": {
       "description": "Size range",
       "disabled": false,
       "indent": false,
       "layout": "IPY_MODEL_ae7455f6b3494419b28dabed380516af",
       "style": "IPY_MODEL_6dd636fd34f847cbb0fc7d665ae127c4",
       "value": false
      }
     },
     "6142708a9df34496bbbfc0c50075234e": {
      "model_module": "@jupyter-widgets/base",
      "model_module_version": "1.0.0",
      "model_name": "LayoutModel",
      "state": {}
     },
     "615072efde2e47e7a36e1f323b2c0b36": {
      "model_module": "@jupyter-widgets/base",
      "model_module_version": "1.0.0",
      "model_name": "LayoutModel",
      "state": {}
     },
     "6153c1e9a4ec40c1af4f614afd962372": {
      "model_module": "@jupyter-widgets/controls",
      "model_module_version": "1.2.0",
      "model_name": "IntTextModel",
      "state": {
       "description": "feat. size",
       "layout": "IPY_MODEL_a0ca00acc0784f1b80786a8d0fc73831",
       "step": 1,
       "style": "IPY_MODEL_606dec8399984774b7cef87a7e644ae8",
       "value": 3
      }
     },
     "616fe254969d434dbd95651698e7050e": {
      "model_module": "@jupyter-widgets/base",
      "model_module_version": "1.0.0",
      "model_name": "LayoutModel",
      "state": {
       "width": "auto"
      }
     },
     "61736542fb91429ebfc4285de4794f3c": {
      "model_module": "@jupyter-widgets/controls",
      "model_module_version": "1.2.0",
      "model_name": "VBoxModel",
      "state": {
       "children": [
        "IPY_MODEL_59e608bd75e749d49644419ccf752c7d",
        "IPY_MODEL_86ad48dec51741938a64d3053101ebe2",
        "IPY_MODEL_adfdf5b3e7044e60872eefbde244317a",
        "IPY_MODEL_2f4053fa41d94007a658e0781bd57781",
        "IPY_MODEL_8ae8a78a822742a5a1ac26766d7d0bf2",
        "IPY_MODEL_ca214501be3b4fe7a84ae6b2a809f7d3"
       ],
       "layout": "IPY_MODEL_e73df47e85a94b77813998ab4e5b26ee"
      }
     },
     "61937addd7c04717b4528d5fdf890e12": {
      "model_module": "@jupyter-widgets/controls",
      "model_module_version": "1.2.0",
      "model_name": "DescriptionStyleModel",
      "state": {
       "description_width": ""
      }
     },
     "6213c69a7df04ee28daba2e0e74e2b76": {
      "model_module": "@jupyter-widgets/controls",
      "model_module_version": "1.2.0",
      "model_name": "ButtonModel",
      "state": {
       "description": "Auto",
       "layout": "IPY_MODEL_ca9cbc33f87a45c1a758e030140b0b77",
       "style": "IPY_MODEL_ce3f20ebfd14492fa38c6c5c3cf5768f"
      }
     },
     "62c1a573ed4b4a0c94b82b0ef6d976fe": {
      "model_module": "@jupyter-widgets/controls",
      "model_module_version": "1.2.0",
      "model_name": "HBoxModel",
      "state": {
       "children": [
        "IPY_MODEL_7d54d4eef9b141c5b28a3ced6be45186",
        "IPY_MODEL_7c8f7fd5620348dbbdce9826109e023e"
       ],
       "layout": "IPY_MODEL_49119d5540824a35a119070707ae1701"
      }
     },
     "62d7207d1edb4aec95d7b6c0366bf9a0": {
      "model_module": "@jupyter-widgets/base",
      "model_module_version": "1.0.0",
      "model_name": "LayoutModel",
      "state": {}
     },
     "62e1db1aaa5b45a0b6720e7f406ee060": {
      "model_module": "@jupyter-widgets/controls",
      "model_module_version": "1.2.0",
      "model_name": "FloatTextModel",
      "state": {
       "description": "min.",
       "layout": "IPY_MODEL_161bccb516f141d8af2d136bedde3dc7",
       "step": 0.1,
       "style": "IPY_MODEL_a44058bc020a4cfabeacab01e0c69d3c",
       "value": 0.5
      }
     },
     "631fa72c9eeb4fa3a38937437c658739": {
      "model_module": "@jupyter-widgets/base",
      "model_module_version": "1.0.0",
      "model_name": "LayoutModel",
      "state": {
       "display": "none"
      }
     },
     "632863c5ef4740a3a8fa5303d98054f5": {
      "model_module": "@jupyter-widgets/controls",
      "model_module_version": "1.2.0",
      "model_name": "DescriptionStyleModel",
      "state": {
       "description_width": ""
      }
     },
     "635112c8db534c5aabd0e2e44f0b3490": {
      "model_module": "@jupyter-widgets/controls",
      "model_module_version": "1.2.0",
      "model_name": "FloatTextModel",
      "state": {
       "description": "threshold",
       "layout": "IPY_MODEL_349a6c60f42747edb1f90601260406eb",
       "step": 10,
       "style": "IPY_MODEL_80baaa6b703743fcb59be4abcea2e9bb",
       "value": 100
      }
     },
     "63807a890eb7470ba44feed616076dd0": {
      "model_module": "@jupyter-widgets/base",
      "model_module_version": "1.0.0",
      "model_name": "LayoutModel",
      "state": {
       "width": "auto"
      }
     },
     "63a3ba1e33884d798eaae807bb0dc402": {
      "model_module": "@jupyter-widgets/controls",
      "model_module_version": "1.2.0",
      "model_name": "DescriptionStyleModel",
      "state": {
       "description_width": ""
      }
     },
     "63c9ca94d8f84582ab880606d1851611": {
      "model_module": "@jupyter-widgets/controls",
      "model_module_version": "1.2.0",
      "model_name": "DescriptionStyleModel",
      "state": {
       "description_width": ""
      }
     },
     "63d37fe3c0aa41fb806922e478ead0db": {
      "model_module": "@jupyter-widgets/base",
      "model_module_version": "1.0.0",
      "model_name": "LayoutModel",
      "state": {
       "border": "1px solid gray"
      }
     },
     "640cbdf5fd58499cbf65b6ac96918d91": {
      "model_module": "@jupyter-widgets/base",
      "model_module_version": "1.0.0",
      "model_name": "LayoutModel",
      "state": {}
     },
     "64858b97ea784e55991766fa5500663e": {
      "model_module": "@jupyter-widgets/controls",
      "model_module_version": "1.2.0",
      "model_name": "ButtonStyleModel",
      "state": {}
     },
     "649b7633f4b04e2b844853ac9c71132a": {
      "model_module": "@jupyter-widgets/base",
      "model_module_version": "1.0.0",
      "model_name": "LayoutModel",
      "state": {
       "display": "none"
      }
     },
     "64b52890e86046aa8a6d9333020000e0": {
      "model_module": "@jupyter-widgets/controls",
      "model_module_version": "1.2.0",
      "model_name": "DescriptionStyleModel",
      "state": {
       "description_width": ""
      }
     },
     "64f9c0fdfd7b40888021bf14afd2807a": {
      "model_module": "@jupyter-widgets/controls",
      "model_module_version": "1.2.0",
      "model_name": "DescriptionStyleModel",
      "state": {
       "description_width": ""
      }
     },
     "64f9d49685fa44ecb72ccff9c04bbcda": {
      "model_module": "@jupyter-widgets/controls",
      "model_module_version": "1.2.0",
      "model_name": "DescriptionStyleModel",
      "state": {
       "description_width": ""
      }
     },
     "64ffbb4965a94f559a4c0cfc26562eac": {
      "model_module": "@jupyter-widgets/controls",
      "model_module_version": "1.2.0",
      "model_name": "FloatTextModel",
      "state": {
       "description": "sigma",
       "layout": "IPY_MODEL_398608ecacd949bc8f063480366982a5",
       "step": 0.1,
       "style": "IPY_MODEL_be11f35f752d44c2ab2401edc51474f7",
       "value": 1
      }
     },
     "65104cf6ab1c41809e71500f9e9981a8": {
      "model_module": "@jupyter-widgets/base",
      "model_module_version": "1.0.0",
      "model_name": "LayoutModel",
      "state": {}
     },
     "654856f11fc34a429035c6ef7fe126fb": {
      "model_module": "@jupyter-widgets/base",
      "model_module_version": "1.0.0",
      "model_name": "LayoutModel",
      "state": {}
     },
     "655aa290448849aea0de2e014b6c32a3": {
      "model_module": "@jupyter-widgets/controls",
      "model_module_version": "1.2.0",
      "model_name": "DescriptionStyleModel",
      "state": {
       "description_width": ""
      }
     },
     "65630ef9ee4e474da824e0ddc15db440": {
      "model_module": "@jupyter-widgets/base",
      "model_module_version": "1.0.0",
      "model_name": "LayoutModel",
      "state": {}
     },
     "656f24bd247f4e26bbc7c8e9ccfcd091": {
      "model_module": "@jupyter-widgets/base",
      "model_module_version": "1.0.0",
      "model_name": "LayoutModel",
      "state": {
       "display": "none"
      }
     },
     "65772dc1e5764508bf7830b7a5a9a2b4": {
      "model_module": "@jupyter-widgets/controls",
      "model_module_version": "1.2.0",
      "model_name": "CheckboxModel",
      "state": {
       "description": "Min. distance",
       "disabled": false,
       "indent": false,
       "layout": "IPY_MODEL_5359eed9abad42fb8064a5a645068c28",
       "style": "IPY_MODEL_4a490393faef437a9abcd614d0b88d2c",
       "value": true
      }
     },
     "65aa7fca0ee44bcdbdd5376b628ac01a": {
      "model_module": "@jupyter-widgets/controls",
      "model_module_version": "1.2.0",
      "model_name": "HBoxModel",
      "state": {
       "children": [
        "IPY_MODEL_b37d9881043c455989a88cdda902891a",
        "IPY_MODEL_27651f52f6ff4380a078ba196083ee0e"
       ],
       "layout": "IPY_MODEL_bf2692aeecb549829f7c3a5b5a006233"
      }
     },
     "65c1cea39ab14e44bd2dd1f391ff5f93": {
      "model_module": "@jupyter-widgets/controls",
      "model_module_version": "1.2.0",
      "model_name": "BoundedIntTextModel",
      "state": {
       "description": "frame",
       "layout": "IPY_MODEL_4302cddc8147486083b98f824c7ca5fa",
       "max": 49,
       "style": "IPY_MODEL_bb604ae06bca40698a9fcf491bc9deab"
      }
     },
     "65d112c837424107b83f98855bd20bab": {
      "model_module": "@jupyter-widgets/controls",
      "model_module_version": "1.2.0",
      "model_name": "CheckboxModel",
      "state": {
       "description": "Size range",
       "disabled": false,
       "indent": false,
       "layout": "IPY_MODEL_e79b245b362c4276a0cd73ea74f0d8c9",
       "style": "IPY_MODEL_35a00fdfbead418f9674347962f7716a",
       "value": false
      }
     },
     "661958c949e944488de62f991d57804d": {
      "model_module": "@jupyter-widgets/base",
      "model_module_version": "1.0.0",
      "model_name": "LayoutModel",
      "state": {}
     },
     "661e3c078c954251ac0eaed1f5a41778": {
      "model_module": "@jupyter-widgets/base",
      "model_module_version": "1.0.0",
      "model_name": "LayoutModel",
      "state": {
       "height": "150px",
       "width": "100%"
      }
     },
     "6691698f01b541ac8a0b1a4aef1d9901": {
      "model_module": "@jupyter-widgets/controls",
      "model_module_version": "1.2.0",
      "model_name": "LabelModel",
      "state": {
       "layout": "IPY_MODEL_28db640f6655482bb8f2b6e8ff208751",
       "style": "IPY_MODEL_d35770f8853e4d2aa6ae3914d7dcf8e7",
       "value": "Locating beads (file 10/10)"
      }
     },
     "66d2fc5d9cee4391b118b7eb2f972320": {
      "model_module": "@jupyter-widgets/controls",
      "model_module_version": "1.2.0",
      "model_name": "DescriptionStyleModel",
      "state": {
       "description_width": ""
      }
     },
     "66e936967d4042edb49f55f4446bbcdb": {
      "model_module": "@jupyter-widgets/controls",
      "model_module_version": "1.2.0",
      "model_name": "IntTextModel",
      "state": {
       "description": "feat. size",
       "layout": "IPY_MODEL_7e323cdbad764b54ba41c5bd2ed3ccdf",
       "step": 1,
       "style": "IPY_MODEL_eb2d64499f374b36a0f83207af0348f7",
       "value": 3
      }
     },
     "6733a68794e343ab8558817d1c611c3f": {
      "model_module": "@jupyter-widgets/base",
      "model_module_version": "1.0.0",
      "model_name": "LayoutModel",
      "state": {}
     },
     "6746c2c765074195a2b55939200552bf": {
      "model_module": "@jupyter-widgets/controls",
      "model_module_version": "1.2.0",
      "model_name": "DescriptionStyleModel",
      "state": {
       "description_width": ""
      }
     },
     "674f4e5e4142457aa0f2baa89d35f656": {
      "model_module": "@jupyter-widgets/controls",
      "model_module_version": "1.2.0",
      "model_name": "FloatTextModel",
      "state": {
       "description": "threshold",
       "layout": "IPY_MODEL_75684ee022ae49a69e0964010de2f97e",
       "step": 10,
       "style": "IPY_MODEL_181734e03d774155ab38b96f8b99a71a",
       "value": 100
      }
     },
     "676fe8fb0afc4b668410ab402d1ad0ba": {
      "model_module": "@jupyter-widgets/base",
      "model_module_version": "1.0.0",
      "model_name": "LayoutModel",
      "state": {
       "display": "none"
      }
     },
     "67810f96dfa94f84a874740e9e8b1848": {
      "model_module": "@jupyter-widgets/controls",
      "model_module_version": "1.2.0",
      "model_name": "IntRangeSliderModel",
      "state": {
       "_model_name": "IntRangeSliderModel",
       "_view_name": "IntRangeSliderView",
       "layout": "IPY_MODEL_6892d6e7f7834ef792f5510fdc50ca81",
       "max": 65535,
       "style": "IPY_MODEL_577976a5752a4a35ae5987c0d2954cac",
       "value": [
        125,
        898
       ]
      }
     },
     "679a8b092b324fc099cd7bba2007a0e8": {
      "model_module": "@jupyter-widgets/controls",
      "model_module_version": "1.2.0",
      "model_name": "DescriptionStyleModel",
      "state": {
       "description_width": ""
      }
     },
     "67a2721f2fb745d78c88542cc4b0693c": {
      "model_module": "@jupyter-widgets/controls",
      "model_module_version": "1.2.0",
      "model_name": "CheckboxModel",
      "state": {
       "description": "Show loc.",
       "disabled": false,
       "indent": false,
       "layout": "IPY_MODEL_7615c6da7eca413fbe9ae7eb408c7318",
       "style": "IPY_MODEL_7112cee849c74ecb8152cb86bdbe5631",
       "value": true
      }
     },
     "682cf9602ce142908f593322c52e9dc1": {
      "model_module": "@jupyter-widgets/controls",
      "model_module_version": "1.2.0",
      "model_name": "DescriptionStyleModel",
      "state": {
       "description_width": ""
      }
     },
     "6846a9079f8b4bf0a326f59bbef4b496": {
      "model_module": "@jupyter-widgets/controls",
      "model_module_version": "1.2.0",
      "model_name": "HBoxModel",
      "state": {
       "children": [
        "IPY_MODEL_54aa6aaa177f49f3a1fe6cfc0171eeb7",
        "IPY_MODEL_608b02c44b7e4a9890c050da62633fff"
       ],
       "layout": "IPY_MODEL_002fad1c936943c5a2f2e933f8c91d83"
      }
     },
     "684f2399c84e4a138aa7382625304dc2": {
      "model_module": "@jupyter-widgets/base",
      "model_module_version": "1.0.0",
      "model_name": "LayoutModel",
      "state": {}
     },
     "6873b5d6371341c8bc06f724ef3a7d4d": {
      "model_module": "@jupyter-widgets/controls",
      "model_module_version": "1.2.0",
      "model_name": "VBoxModel",
      "state": {
       "children": [
        "IPY_MODEL_1945bebc4d184861bd438dffc310f6cd",
        "IPY_MODEL_f6ea1a7c846549b88b696eba943aceb9"
       ],
       "layout": "IPY_MODEL_9258a5204c544f49bff0a37766c614e7"
      }
     },
     "68771071100647cfbf783c46587caf21": {
      "model_module": "@jupyter-widgets/base",
      "model_module_version": "1.0.0",
      "model_name": "LayoutModel",
      "state": {
       "width": "auto"
      }
     },
     "687a2ff0b9fe40e791b38a8bc7183f14": {
      "model_module": "@jupyter-widgets/controls",
      "model_module_version": "1.2.0",
      "model_name": "DescriptionStyleModel",
      "state": {
       "description_width": ""
      }
     },
     "6892d6e7f7834ef792f5510fdc50ca81": {
      "model_module": "@jupyter-widgets/base",
      "model_module_version": "1.0.0",
      "model_name": "LayoutModel",
      "state": {
       "width": "75%"
      }
     },
     "68ecbd9deee449c5bcb9772b03a5f3ac": {
      "model_module": "@jupyter-widgets/base",
      "model_module_version": "1.0.0",
      "model_name": "LayoutModel",
      "state": {}
     },
     "68fe90603e2a4cc4860284da46d09e25": {
      "model_module": "@jupyter-widgets/base",
      "model_module_version": "1.0.0",
      "model_name": "LayoutModel",
      "state": {
       "width": "auto"
      }
     },
     "694f05a775e044d99aa44d6e58b4a1df": {
      "model_module": "@jupyter-widgets/base",
      "model_module_version": "1.0.0",
      "model_name": "LayoutModel",
      "state": {
       "width": "auto"
      }
     },
     "694f9df0ed034285af749b747bf2bb72": {
      "model_module": "@jupyter-widgets/controls",
      "model_module_version": "1.2.0",
      "model_name": "VBoxModel",
      "state": {
       "children": [
        "IPY_MODEL_0a68c8db6a294839898bb1fc2f78bc02",
        "IPY_MODEL_a6b8d0b30c6f4db184ed57078f711dff"
       ],
       "layout": "IPY_MODEL_421aba4049bf4c39901e53f864c44f31"
      }
     },
     "695b82bde4b24db099d5eeaa49f2b112": {
      "model_module": "@jupyter-widgets/base",
      "model_module_version": "1.0.0",
      "model_name": "LayoutModel",
      "state": {
       "width": "auto"
      }
     },
     "696eb39bab514c74999bc3001041492c": {
      "model_module": "@jupyter-widgets/controls",
      "model_module_version": "1.2.0",
      "model_name": "BoundedIntTextModel",
      "state": {
       "description": "frame",
       "layout": "IPY_MODEL_4ef3e817bb48417b978436c7857ed9e4",
       "max": 0,
       "style": "IPY_MODEL_9edbea2a76a24bde873325ba6c8d66cb"
      }
     },
     "698c4945726d457796659ad3bcebc0a7": {
      "model_module": "@jupyter-widgets/base",
      "model_module_version": "1.0.0",
      "model_name": "LayoutModel",
      "state": {}
     },
     "69c49179c0774ba98959a23ea0b81c8a": {
      "model_module": "@jupyter-widgets/base",
      "model_module_version": "1.0.0",
      "model_name": "LayoutModel",
      "state": {}
     },
     "69e2f158e3144f9e8cbbc34f66df13fc": {
      "model_module": "@jupyter-widgets/controls",
      "model_module_version": "1.2.0",
      "model_name": "DescriptionStyleModel",
      "state": {
       "description_width": ""
      }
     },
     "6a117355361e4c94b6d24f81401c6571": {
      "model_module": "@jupyter-widgets/controls",
      "model_module_version": "1.2.0",
      "model_name": "DescriptionStyleModel",
      "state": {
       "description_width": ""
      }
     },
     "6a2d25aa08ec4f93b0f42b40e56f36ad": {
      "model_module": "@jupyter-widgets/controls",
      "model_module_version": "1.2.0",
      "model_name": "DescriptionStyleModel",
      "state": {
       "description_width": ""
      }
     },
     "6a42f1db81a7409f8ef425c591924c0a": {
      "model_module": "@jupyter-widgets/controls",
      "model_module_version": "1.2.0",
      "model_name": "DropdownModel",
      "state": {
       "_options_labels": [
        "2d_fixed",
        "2d",
        "3d"
       ],
       "description": "model",
       "index": 1,
       "layout": "IPY_MODEL_661958c949e944488de62f991d57804d",
       "style": "IPY_MODEL_00c8c197117140f2832e70472620dcf6"
      }
     },
     "6a858d8095174f94a3d6a44346aad751": {
      "model_module": "@jupyter-widgets/controls",
      "model_module_version": "1.2.0",
      "model_name": "HBoxModel",
      "state": {
       "children": [
        "IPY_MODEL_bd81eb7a1afa4fbcbbd9822542efb5c3",
        "IPY_MODEL_a0868406e0164228a26117e7738fa06a"
       ],
       "layout": "IPY_MODEL_81d9b6aed16e4b3d9a533e28bbe5c7ba"
      }
     },
     "6a97d7241dd346a892234351c46b42a3": {
      "model_module": "@jupyter-widgets/controls",
      "model_module_version": "1.2.0",
      "model_name": "DropdownModel",
      "state": {
       "_options_labels": [
        "2d_fixed",
        "2d",
        "3d"
       ],
       "description": "model",
       "index": 1,
       "layout": "IPY_MODEL_4759749c64d2497ca46af9130a2f7e24",
       "style": "IPY_MODEL_22b68ddab2c2411594fbcfc31effcc46"
      }
     },
     "6aa0e88ed59345719ffdb68b595ff451": {
      "model_module": "@jupyter-widgets/controls",
      "model_module_version": "1.2.0",
      "model_name": "HBoxModel",
      "state": {
       "children": [
        "IPY_MODEL_810bea697feb42e5af9feca7edb8266e",
        "IPY_MODEL_99804c67a2dc4f31b98caced0eb5e5ec",
        "IPY_MODEL_82cdb91393a042cfb05f6b57bac9c2aa"
       ],
       "layout": "IPY_MODEL_0b1698841e0d421eb716eafdd81dd2d8"
      }
     },
     "6abdc33bf74742bc8631b54d38dc7eac": {
      "model_module": "@jupyter-widgets/base",
      "model_module_version": "1.0.0",
      "model_name": "LayoutModel",
      "state": {}
     },
     "6af2d3fed9b545f49f63b030ffb33731": {
      "model_module": "@jupyter-widgets/controls",
      "model_module_version": "1.2.0",
      "model_name": "SliderStyleModel",
      "state": {
       "description_width": ""
      }
     },
     "6af5196c760649fd86ae2d5731be9973": {
      "model_module": "@jupyter-widgets/controls",
      "model_module_version": "1.2.0",
      "model_name": "DescriptionStyleModel",
      "state": {
       "description_width": ""
      }
     },
     "6b0100a8db874477b3a163610b0c3b91": {
      "model_module": "@jupyter-widgets/base",
      "model_module_version": "1.0.0",
      "model_name": "LayoutModel",
      "state": {}
     },
     "6b12021b53df45f595d570758060959a": {
      "model_module": "@jupyter-widgets/controls",
      "model_module_version": "1.2.0",
      "model_name": "ButtonStyleModel",
      "state": {}
     },
     "6b3cfdc9566d41578e2bc0de4e7c5282": {
      "model_module": "@jupyter-widgets/controls",
      "model_module_version": "1.2.0",
      "model_name": "SelectModel",
      "state": {
       "_options_labels": [
        "data/beads/beads_000_.SPE",
        "data/beads/beads_001_.SPE",
        "data/beads/beads_002_.SPE",
        "data/beads/beads_003_.SPE",
        "data/beads/beads_004_.SPE",
        "data/beads/beads_005_.SPE",
        "data/beads/beads_006_.SPE",
        "data/beads/beads_007_.SPE",
        "data/beads/beads_008_.SPE",
        "data/beads/beads_009_.SPE"
       ],
       "index": 0,
       "layout": "IPY_MODEL_4f1c9987bc9249009342d674ff4874aa",
       "style": "IPY_MODEL_7fae634bda3149b89c903f91e92c0a9e"
      }
     },
     "6b47dd2b40204bcbb0d7c6efa0d74984": {
      "model_module": "@jupyter-widgets/base",
      "model_module_version": "1.0.0",
      "model_name": "LayoutModel",
      "state": {
       "display": "none"
      }
     },
     "6b4a267adab04b688e8540c81b625f5c": {
      "model_module": "@jupyter-widgets/controls",
      "model_module_version": "1.2.0",
      "model_name": "FloatTextModel",
      "state": {
       "description": "max.",
       "layout": "IPY_MODEL_479a85ec0b4c4d6dbc128c3e92899eb9",
       "step": 0.1,
       "style": "IPY_MODEL_82396cc378f041c0bd9a6d82efcaddc7",
       "value": 2
      }
     },
     "6bbd6b286ef1427686d5ee2ae6313dde": {
      "model_module": "@jupyter-widgets/base",
      "model_module_version": "1.0.0",
      "model_name": "LayoutModel",
      "state": {}
     },
     "6bbd7bfd41264e7d831c23e43abab2cb": {
      "model_module": "@jupyter-widgets/controls",
      "model_module_version": "1.2.0",
      "model_name": "ButtonStyleModel",
      "state": {}
     },
     "6c09b36aa8844a55a6c54af10b043796": {
      "model_module": "@jupyter-widgets/controls",
      "model_module_version": "1.2.0",
      "model_name": "HBoxModel",
      "state": {
       "children": [
        "IPY_MODEL_78d91b7ed5bb4a19a03ae973cf82608d",
        "IPY_MODEL_d6f74efac8b84c718f356dc701fbceb6"
       ],
       "layout": "IPY_MODEL_e3e1a82efc5947c0830d8ce22bc8bd96"
      }
     },
     "6c118529db474c7ebc022a50f0818c18": {
      "model_module": "@jupyter-widgets/base",
      "model_module_version": "1.0.0",
      "model_name": "LayoutModel",
      "state": {}
     },
     "6c1621e5e3c346668b799be6eefe47ea": {
      "model_module": "@jupyter-widgets/controls",
      "model_module_version": "1.2.0",
      "model_name": "VBoxModel",
      "state": {
       "children": [
        "IPY_MODEL_31e4491c647e43999dd2c75c659a6a71",
        "IPY_MODEL_dfe5a54b21634c8eacd2143a7e1bb3b1",
        "IPY_MODEL_0f239a73f8c247669d67dbaed55521ee"
       ],
       "layout": "IPY_MODEL_5a47db210c184552875d03209f2ac40d"
      }
     },
     "6c3ad84af7db4553a2e5a62501af6851": {
      "model_module": "@jupyter-widgets/controls",
      "model_module_version": "1.2.0",
      "model_name": "FloatTextModel",
      "state": {
       "description": "threshold",
       "layout": "IPY_MODEL_18e95443d23e4217b96c62ed43b0556f",
       "step": 10,
       "style": "IPY_MODEL_c93332c7586243bfa2c35cc7934573c6",
       "value": 1000
      }
     },
     "6c4e0987eca84a5ba2cc1653427be79d": {
      "model_module": "@jupyter-widgets/controls",
      "model_module_version": "1.2.0",
      "model_name": "DescriptionStyleModel",
      "state": {
       "description_width": ""
      }
     },
     "6c8878d01af44bda9f3639d215611135": {
      "model_module": "@jupyter-widgets/controls",
      "model_module_version": "1.2.0",
      "model_name": "CheckboxModel",
      "state": {
       "description": "Size range",
       "disabled": false,
       "indent": false,
       "layout": "IPY_MODEL_105a5f4d969c4f2fbe2b7101b1a7d737",
       "style": "IPY_MODEL_b0ad7d4c9d6044dbbfe153dfafc6f50d",
       "value": false
      }
     },
     "6ca9d52f6bec41b2b6a3835ad9e9808a": {
      "model_module": "@jupyter-widgets/controls",
      "model_module_version": "1.2.0",
      "model_name": "IntTextModel",
      "state": {
       "description": "feat. size",
       "layout": "IPY_MODEL_6d9ac107e0474b47b7d2dea34d35d196",
       "step": 1,
       "style": "IPY_MODEL_c3d8f89ab77d429f888f97aaa68c08bc",
       "value": 3
      }
     },
     "6cc3093b03e942a5a69c3c73e187bdbc": {
      "model_module": "@jupyter-widgets/controls",
      "model_module_version": "1.2.0",
      "model_name": "LabelModel",
      "state": {
       "layout": "IPY_MODEL_42653270d40a45689ce789a63a513e60",
       "style": "IPY_MODEL_0cde23ecad0b4d89b0284fcc52027cab",
       "value": "Tracking ctrl-H57/no-cells_SAv-100k_SSS-ctrl-H57-50k_029_.SPE (213/213)"
      }
     },
     "6cf4151e018e48f0bcac4c0e0f9fc977": {
      "model_module": "@jupyter-widgets/controls",
      "model_module_version": "1.2.0",
      "model_name": "DropdownModel",
      "state": {
       "_options_labels": [
        "Identity",
        "Cg",
        "Gaussian"
       ],
       "description": "find filter",
       "index": 0,
       "layout": "IPY_MODEL_453eb9d6f82947aca55be75f9982a4ad",
       "style": "IPY_MODEL_b8bf6710a4c94d7b87427476ccb92d04"
      }
     },
     "6d4e419261bb4e17a496830abcc5eeef": {
      "model_module": "@jupyter-widgets/controls",
      "model_module_version": "1.2.0",
      "model_name": "DescriptionStyleModel",
      "state": {
       "description_width": ""
      }
     },
     "6d602d2bf98a4f85a66e84fef581fe4e": {
      "model_module": "@jupyter-widgets/controls",
      "model_module_version": "1.2.0",
      "model_name": "ButtonStyleModel",
      "state": {}
     },
     "6d767473af654f5d9c73510ab45043e4": {
      "model_module": "@jupyter-widgets/base",
      "model_module_version": "1.0.0",
      "model_name": "LayoutModel",
      "state": {
       "width": "auto"
      }
     },
     "6d7ed1f11220468bae685a0970199e25": {
      "model_module": "@jupyter-widgets/controls",
      "model_module_version": "1.2.0",
      "model_name": "VBoxModel",
      "state": {
       "children": [
        "IPY_MODEL_24475c6043a942c497d7399ef40ae173",
        "IPY_MODEL_be3a0af7e882478dadfc26ac39e5fd12",
        "IPY_MODEL_29d16c61645f49d2ab9b58de4ae91ac4"
       ],
       "layout": "IPY_MODEL_32b67c507baa46bb9b900b1e0e175126"
      }
     },
     "6d9a4ac3d5f64015906cf9c1bc5687cd": {
      "model_module": "@jupyter-widgets/base",
      "model_module_version": "1.0.0",
      "model_name": "LayoutModel",
      "state": {}
     },
     "6d9ac107e0474b47b7d2dea34d35d196": {
      "model_module": "@jupyter-widgets/base",
      "model_module_version": "1.0.0",
      "model_name": "LayoutModel",
      "state": {
       "display": "inline"
      }
     },
     "6d9ccba62da34714aca5f29ab9d4256c": {
      "model_module": "@jupyter-widgets/base",
      "model_module_version": "1.0.0",
      "model_name": "LayoutModel",
      "state": {
       "width": "auto"
      }
     },
     "6da3f3650bbf4872a7382a85a9a40aa6": {
      "model_module": "@jupyter-widgets/controls",
      "model_module_version": "1.2.0",
      "model_name": "FloatTextModel",
      "state": {
       "layout": "IPY_MODEL_616fe254969d434dbd95651698e7050e",
       "step": 0.1,
       "style": "IPY_MODEL_e6b2ca2ca1f64f1b80e5d80da0c6ad93",
       "value": 1
      }
     },
     "6da725d532d3441487b7c2d1168108aa": {
      "model_module": "@jupyter-widgets/controls",
      "model_module_version": "1.2.0",
      "model_name": "VBoxModel",
      "state": {
       "children": [
        "IPY_MODEL_b57dc1953e9a489ca39fe075f60fd3d1",
        "IPY_MODEL_cc7576cf5f424727a538fd64ec2b8694",
        "IPY_MODEL_554e284fe67d4408aa5344e45e4d0274",
        "IPY_MODEL_81185d7b48c5402f97c81cce08649b34",
        "IPY_MODEL_62c1a573ed4b4a0c94b82b0ef6d976fe",
        "IPY_MODEL_e2edb6304382450b823e5655179f5a6d"
       ],
       "layout": "IPY_MODEL_0261f9e62b234439873402d336041a69"
      }
     },
     "6da7d3d876064f1f9555a7a40461e31c": {
      "model_module": "@jupyter-widgets/controls",
      "model_module_version": "1.2.0",
      "model_name": "DescriptionStyleModel",
      "state": {
       "description_width": ""
      }
     },
     "6dd636fd34f847cbb0fc7d665ae127c4": {
      "model_module": "@jupyter-widgets/controls",
      "model_module_version": "1.2.0",
      "model_name": "DescriptionStyleModel",
      "state": {
       "description_width": ""
      }
     },
     "6dd8263a205c4642ba8702d2d2826ca8": {
      "model_module": "@jupyter-widgets/base",
      "model_module_version": "1.0.0",
      "model_name": "LayoutModel",
      "state": {}
     },
     "6ddac4db2d454ca895ff25566f3e78da": {
      "model_module": "@jupyter-widgets/controls",
      "model_module_version": "1.2.0",
      "model_name": "DescriptionStyleModel",
      "state": {
       "description_width": ""
      }
     },
     "6df85268451941229b5f55fc27677442": {
      "model_module": "@jupyter-widgets/controls",
      "model_module_version": "1.2.0",
      "model_name": "FloatTextModel",
      "state": {
       "description": "max.",
       "layout": "IPY_MODEL_d36786cf6ebf40a3b1cc5a0b8a5ede8a",
       "step": 0.1,
       "style": "IPY_MODEL_8d518e33c96c4d9aacb092476f183f2c",
       "value": 2
      }
     },
     "6e0089000016448c8f05fa717b1d05a3": {
      "model_module": "@jupyter-widgets/controls",
      "model_module_version": "1.2.0",
      "model_name": "DescriptionStyleModel",
      "state": {
       "description_width": ""
      }
     },
     "6e56e4b4661d44b4a335ef6bb224b175": {
      "model_module": "@jupyter-widgets/controls",
      "model_module_version": "1.2.0",
      "model_name": "DescriptionStyleModel",
      "state": {
       "description_width": ""
      }
     },
     "6ebd9a8a594d41a18e119a98e72d73f9": {
      "model_module": "@jupyter-widgets/base",
      "model_module_version": "1.0.0",
      "model_name": "LayoutModel",
      "state": {
       "display": "inline"
      }
     },
     "6eca4e54448c48fe8e6ed0300f3158c2": {
      "model_module": "@jupyter-widgets/controls",
      "model_module_version": "1.2.0",
      "model_name": "DescriptionStyleModel",
      "state": {
       "description_width": ""
      }
     },
     "6ed02a6c11804f8c95e9f0e2f6da5699": {
      "model_module": "@jupyter-widgets/base",
      "model_module_version": "1.0.0",
      "model_name": "LayoutModel",
      "state": {
       "width": "75%"
      }
     },
     "6ee7ec2215584e7cb4c5f9ebdca84026": {
      "model_module": "@jupyter-widgets/base",
      "model_module_version": "1.0.0",
      "model_name": "LayoutModel",
      "state": {
       "display": "flex",
       "flex_flow": "column wrap",
       "width": "66%"
      }
     },
     "6f3d645ca24d406081c03e962d90f5a0": {
      "model_module": "@jupyter-widgets/base",
      "model_module_version": "1.0.0",
      "model_name": "LayoutModel",
      "state": {}
     },
     "6f6341c501034480a9a338ed54045c74": {
      "model_module": "@jupyter-widgets/controls",
      "model_module_version": "1.2.0",
      "model_name": "FloatTextModel",
      "state": {
       "description": "threshold",
       "layout": "IPY_MODEL_1190408936e74c2f86398b535c88453e",
       "step": 10,
       "style": "IPY_MODEL_2a7f49c3ab8141999adc08d0345fcedb",
       "value": 1000
      }
     },
     "6f8df1c5d88846d986fed676f466cb6c": {
      "model_module": "@jupyter-widgets/base",
      "model_module_version": "1.0.0",
      "model_name": "LayoutModel",
      "state": {
       "width": "auto"
      }
     },
     "704bb813a1324e319c9d68815e865f2d": {
      "model_module": "@jupyter-widgets/controls",
      "model_module_version": "1.2.0",
      "model_name": "DescriptionStyleModel",
      "state": {
       "description_width": ""
      }
     },
     "7065c42cfbec4534b7b8c4e7b6a34b3f": {
      "model_module": "@jupyter-widgets/base",
      "model_module_version": "1.0.0",
      "model_name": "LayoutModel",
      "state": {
       "width": "auto"
      }
     },
     "706e429c229347259672d8922366d670": {
      "model_module": "@jupyter-widgets/controls",
      "model_module_version": "1.2.0",
      "model_name": "IntRangeSliderModel",
      "state": {
       "_model_name": "IntRangeSliderModel",
       "_view_name": "IntRangeSliderView",
       "layout": "IPY_MODEL_f0c56595a26442fda945eba4d2ce93de",
       "max": 65535,
       "style": "IPY_MODEL_6af2d3fed9b545f49f63b030ffb33731",
       "value": [
        134,
        9382
       ]
      }
     },
     "707a10ea55034a038f0ae84fe286cc49": {
      "model_module": "@jupyter-widgets/controls",
      "model_module_version": "1.2.0",
      "model_name": "SliderStyleModel",
      "state": {
       "description_width": ""
      }
     },
     "707f959190054f86b52afacf883b7362": {
      "model_module": "@jupyter-widgets/controls",
      "model_module_version": "1.2.0",
      "model_name": "LabelModel",
      "state": {
       "layout": "IPY_MODEL_27800e141b1d44a0a185d03be1413c16",
       "style": "IPY_MODEL_6ddac4db2d454ca895ff25566f3e78da",
       "value": "Locating ctrl-H57/no-cells_SAv-100k_SSS-ctrl-H57-50k_029_.SPE (213/213)"
      }
     },
     "710847d775194b9cb10c836ca473b834": {
      "model_module": "@jupyter-widgets/controls",
      "model_module_version": "1.2.0",
      "model_name": "DescriptionStyleModel",
      "state": {
       "description_width": ""
      }
     },
     "7112cee849c74ecb8152cb86bdbe5631": {
      "model_module": "@jupyter-widgets/controls",
      "model_module_version": "1.2.0",
      "model_name": "DescriptionStyleModel",
      "state": {
       "description_width": ""
      }
     },
     "714d253144384720828bdd50e58469e1": {
      "model_module": "@jupyter-widgets/base",
      "model_module_version": "1.0.0",
      "model_name": "LayoutModel",
      "state": {}
     },
     "714df60064f0460cb9bc52cfb29760a1": {
      "model_module": "@jupyter-widgets/controls",
      "model_module_version": "1.2.0",
      "model_name": "FloatTextModel",
      "state": {
       "description": "min.",
       "layout": "IPY_MODEL_05b4ec877b804dcbb86c36c410f637c7",
       "step": 0.1,
       "style": "IPY_MODEL_184e332be168424e9bb1cb8642c9490f",
       "value": 0.5
      }
     },
     "71535ed4f46f42308f4796dd4b17a2ac": {
      "model_module": "@jupyter-widgets/controls",
      "model_module_version": "1.2.0",
      "model_name": "DescriptionStyleModel",
      "state": {
       "description_width": ""
      }
     },
     "7157ae5182ba44f3bdfcbf91cbe989bc": {
      "model_module": "@jupyter-widgets/controls",
      "model_module_version": "1.2.0",
      "model_name": "LabelModel",
      "state": {
       "layout": "IPY_MODEL_a9d796c2935e4d48abfdfad8b2f07230",
       "style": "IPY_MODEL_f551e0a9a14f4daba1785cac22224852",
       "value": "Locating beads (file 1/10)"
      }
     },
     "71b2294cc73247eaaad5ab55de16c115": {
      "model_module": "@jupyter-widgets/controls",
      "model_module_version": "1.2.0",
      "model_name": "HBoxModel",
      "state": {
       "children": [
        "IPY_MODEL_706e429c229347259672d8922366d670",
        "IPY_MODEL_413db89841384dc395069f5b8392741e",
        "IPY_MODEL_adc6e4587a314fd8afcde5d140a8acc1"
       ],
       "layout": "IPY_MODEL_45ee5eca128243c499bc220cc0d4b8f8"
      }
     },
     "71e2a8a45af34ed788cde52d8bfa61bf": {
      "model_module": "@jupyter-widgets/base",
      "model_module_version": "1.0.0",
      "model_name": "LayoutModel",
      "state": {}
     },
     "71ef8416d5164e26ad13d386265fb786": {
      "model_module": "@jupyter-widgets/controls",
      "model_module_version": "1.2.0",
      "model_name": "FloatTextModel",
      "state": {
       "description": "sigma",
       "layout": "IPY_MODEL_631fa72c9eeb4fa3a38937437c658739",
       "step": 0.1,
       "style": "IPY_MODEL_be34a16d9dee4f9a9bd6a2dd669192be",
       "value": 1
      }
     },
     "71fc787b64ba42bea43c4809f022fbf0": {
      "model_module": "@jupyter-widgets/controls",
      "model_module_version": "1.2.0",
      "model_name": "VBoxModel",
      "state": {
       "children": [
        "IPY_MODEL_b9c3b9812bdb47468e36ab1cba60367c",
        "IPY_MODEL_eff1bedff8c4495781f64e72b69d3fe7"
       ],
       "layout": "IPY_MODEL_03a3c44633d2479eb3411c8dabba1b26"
      }
     },
     "723210085c814704904c271a2a99f89c": {
      "model_module": "@jupyter-widgets/base",
      "model_module_version": "1.0.0",
      "model_name": "LayoutModel",
      "state": {}
     },
     "7251cff4abc34a61bd637e4fb3886404": {
      "model_module": "@jupyter-widgets/controls",
      "model_module_version": "1.2.0",
      "model_name": "DescriptionStyleModel",
      "state": {
       "description_width": ""
      }
     },
     "7268f4510a1a451fa79647460f51b16a": {
      "model_module": "@jupyter-widgets/base",
      "model_module_version": "1.0.0",
      "model_name": "LayoutModel",
      "state": {}
     },
     "728268fbfb8a42a5949770b6a0cc242c": {
      "model_module": "@jupyter-widgets/base",
      "model_module_version": "1.0.0",
      "model_name": "LayoutModel",
      "state": {
       "width": "75%"
      }
     },
     "72917b645ba44e488824690c714903f7": {
      "model_module": "@jupyter-widgets/controls",
      "model_module_version": "1.2.0",
      "model_name": "DescriptionStyleModel",
      "state": {
       "description_width": ""
      }
     },
     "72a18521cd684806844a0b871bc72c6a": {
      "model_module": "@jupyter-widgets/controls",
      "model_module_version": "1.2.0",
      "model_name": "HBoxModel",
      "state": {
       "children": [
        "IPY_MODEL_12d202bf4c084227bba83c3e9ada6aed",
        "IPY_MODEL_a675c0c565574b6c8ceef6ac7ba5fbdc"
       ],
       "layout": "IPY_MODEL_c850f2d83d5a4107b913da97dd1deccd"
      }
     },
     "72b54360941b42a4b3f921d31d4a7d9a": {
      "model_module": "@jupyter-widgets/controls",
      "model_module_version": "1.2.0",
      "model_name": "HBoxModel",
      "state": {
       "children": [
        "IPY_MODEL_77fefab517cb410c83b3b61976110495",
        "IPY_MODEL_e61264a217664ee696e47284c439a285"
       ],
       "layout": "IPY_MODEL_beb0446a9fe94320aefb2c66df80ab34"
      }
     },
     "72bce2cf39e4492eae53e8df455d7341": {
      "model_module": "@jupyter-widgets/controls",
      "model_module_version": "1.2.0",
      "model_name": "HBoxModel",
      "state": {
       "children": [
        "IPY_MODEL_f624b5bd70784e0798190a7c27f34df5",
        "IPY_MODEL_d8206cec6aa245359e7e5a9d25bc355f"
       ],
       "layout": "IPY_MODEL_6b0100a8db874477b3a163610b0c3b91"
      }
     },
     "72dbc3b77baf4e64be7a12988ac9fa4c": {
      "model_module": "@jupyter-widgets/controls",
      "model_module_version": "1.2.0",
      "model_name": "IntRangeSliderModel",
      "state": {
       "_model_name": "IntRangeSliderModel",
       "_view_name": "IntRangeSliderView",
       "layout": "IPY_MODEL_a58f4de4e10b4df4b9eb9fcf4feaf163",
       "max": 65535,
       "style": "IPY_MODEL_09b5f256ed1e4788b8e416dda6f8b13d",
       "value": [
        134,
        25393
       ]
      }
     },
     "732a147ad77b4398b718fed17c20844d": {
      "model_module": "@jupyter-widgets/controls",
      "model_module_version": "1.2.0",
      "model_name": "DescriptionStyleModel",
      "state": {
       "description_width": ""
      }
     },
     "732b0a8af2324470bf028256e20453c6": {
      "model_module": "@jupyter-widgets/controls",
      "model_module_version": "1.2.0",
      "model_name": "DescriptionStyleModel",
      "state": {
       "description_width": ""
      }
     },
     "7352c66be8614d1fab680d28cd01c428": {
      "model_module": "@jupyter-widgets/base",
      "model_module_version": "1.0.0",
      "model_name": "LayoutModel",
      "state": {
       "display": "flex",
       "flex_flow": "column wrap",
       "width": "66%"
      }
     },
     "7364276c133a4c3eaaa343befc2a703b": {
      "model_module": "@jupyter-widgets/controls",
      "model_module_version": "1.2.0",
      "model_name": "DescriptionStyleModel",
      "state": {
       "description_width": ""
      }
     },
     "7399cbebd2a24dc7baae9c10ae65dbf7": {
      "model_module": "@jupyter-widgets/controls",
      "model_module_version": "1.2.0",
      "model_name": "VBoxModel",
      "state": {
       "children": [
        "IPY_MODEL_4b5b61fb0b5f42bc953c2099db1dd1ee",
        "IPY_MODEL_41fa1613ebcb41d684a58cdfdc271be3",
        "IPY_MODEL_f992ac8388e0419ea5b8369bc8e329f7"
       ],
       "layout": "IPY_MODEL_7530e9f6dbd74c2cb957bd4e61efb36f"
      }
     },
     "7411c1c312424992878cea121fca4ef0": {
      "model_module": "@jupyter-widgets/base",
      "model_module_version": "1.0.0",
      "model_name": "LayoutModel",
      "state": {
       "width": "auto"
      }
     },
     "742747435e2244c88f233fdfbe44a6bb": {
      "model_module": "@jupyter-widgets/controls",
      "model_module_version": "1.2.0",
      "model_name": "DescriptionStyleModel",
      "state": {
       "description_width": ""
      }
     },
     "742a23682d814029a435a2cd4e9c2c31": {
      "model_module": "@jupyter-widgets/controls",
      "model_module_version": "1.2.0",
      "model_name": "DescriptionStyleModel",
      "state": {
       "description_width": ""
      }
     },
     "744b36f504394d21b014ea9c4cbbfcb7": {
      "model_module": "@jupyter-widgets/controls",
      "model_module_version": "1.2.0",
      "model_name": "DescriptionStyleModel",
      "state": {
       "description_width": ""
      }
     },
     "74ba6fa1846d4103a14d6c2c08919732": {
      "model_module": "@jupyter-widgets/controls",
      "model_module_version": "1.2.0",
      "model_name": "CheckboxModel",
      "state": {
       "description": "Show loc.",
       "disabled": false,
       "indent": false,
       "layout": "IPY_MODEL_4cb1aac3e95b4c979a1ead5774c356b6",
       "style": "IPY_MODEL_9bae719b9229446abcc2fa83c9e02142",
       "value": true
      }
     },
     "74e76e9dc43b46c4a0fbab97fa05ac82": {
      "model_module": "@jupyter-widgets/base",
      "model_module_version": "1.0.0",
      "model_name": "LayoutModel",
      "state": {}
     },
     "74ed080bf3d343688e27a95f3cdc939f": {
      "model_module": "@jupyter-widgets/base",
      "model_module_version": "1.0.0",
      "model_name": "LayoutModel",
      "state": {}
     },
     "7530e9f6dbd74c2cb957bd4e61efb36f": {
      "model_module": "@jupyter-widgets/base",
      "model_module_version": "1.0.0",
      "model_name": "LayoutModel",
      "state": {}
     },
     "75347f3d56c347b89e3487ee2446d0d0": {
      "model_module": "@jupyter-widgets/base",
      "model_module_version": "1.0.0",
      "model_name": "LayoutModel",
      "state": {}
     },
     "75684ee022ae49a69e0964010de2f97e": {
      "model_module": "@jupyter-widgets/base",
      "model_module_version": "1.0.0",
      "model_name": "LayoutModel",
      "state": {}
     },
     "7615c6da7eca413fbe9ae7eb408c7318": {
      "model_module": "@jupyter-widgets/base",
      "model_module_version": "1.0.0",
      "model_name": "LayoutModel",
      "state": {}
     },
     "763e1749ef914ea7811b6939b9341d02": {
      "model_module": "@jupyter-widgets/base",
      "model_module_version": "1.0.0",
      "model_name": "LayoutModel",
      "state": {
       "display": "none"
      }
     },
     "766095983907487a87bcc331677cb94d": {
      "model_module": "@jupyter-widgets/controls",
      "model_module_version": "1.2.0",
      "model_name": "FloatTextModel",
      "state": {
       "description": "min.",
       "layout": "IPY_MODEL_9c53dadb0022460fbbd471c74e179ac7",
       "step": 0.1,
       "style": "IPY_MODEL_5d1ee3b1cb2f409baac0f6f3c8af3d89",
       "value": 0.5
      }
     },
     "767c389b3ad44f7ab00364045a966393": {
      "model_module": "@jupyter-widgets/controls",
      "model_module_version": "1.2.0",
      "model_name": "DescriptionStyleModel",
      "state": {
       "description_width": ""
      }
     },
     "76e0696c5f33476dba9467127113deca": {
      "model_module": "@jupyter-widgets/controls",
      "model_module_version": "1.2.0",
      "model_name": "DropdownModel",
      "state": {
       "_options_labels": [
        "Identity",
        "Cg",
        "Gaussian"
       ],
       "description": "find filter",
       "index": 1,
       "layout": "IPY_MODEL_a9760e5cf2bb431e8291b5dd00bdc839",
       "style": "IPY_MODEL_89674fdefb424fd5b881882a1c20c533"
      }
     },
     "770d17bacf144e8aa53f0f05f9f3b50a": {
      "model_module": "@jupyter-widgets/controls",
      "model_module_version": "1.2.0",
      "model_name": "DescriptionStyleModel",
      "state": {
       "description_width": ""
      }
     },
     "772b179f43af4b2b865d04bb49f67aef": {
      "model_module": "@jupyter-widgets/controls",
      "model_module_version": "1.2.0",
      "model_name": "SelectModel",
      "state": {
       "_options_labels": [
        "data/beads/beads_000_.SPE",
        "data/beads/beads_001_.SPE",
        "data/beads/beads_002_.SPE",
        "data/beads/beads_003_.SPE",
        "data/beads/beads_004_.SPE",
        "data/beads/beads_005_.SPE",
        "data/beads/beads_006_.SPE",
        "data/beads/beads_007_.SPE",
        "data/beads/beads_008_.SPE",
        "data/beads/beads_009_.SPE"
       ],
       "index": 0,
       "layout": "IPY_MODEL_df36990af733499b9507d029215f2f00",
       "style": "IPY_MODEL_97b53a45b6294741ac24415026d69677"
      }
     },
     "7737dfaaec96414183ebf6cf4492783d": {
      "model_module": "@jupyter-widgets/base",
      "model_module_version": "1.0.0",
      "model_name": "LayoutModel",
      "state": {}
     },
     "774d43ce07db4ff38546dd8ec2622df9": {
      "model_module": "@jupyter-widgets/base",
      "model_module_version": "1.0.0",
      "model_name": "LayoutModel",
      "state": {}
     },
     "77a71aeb78a444699b75d59679ba74a4": {
      "model_module": "@jupyter-widgets/base",
      "model_module_version": "1.0.0",
      "model_name": "LayoutModel",
      "state": {
       "display": "none"
      }
     },
     "77fefab517cb410c83b3b61976110495": {
      "model_module": "@jupyter-widgets/controls",
      "model_module_version": "1.2.0",
      "model_name": "CheckboxModel",
      "state": {
       "description": "Min. distance",
       "disabled": false,
       "indent": false,
       "layout": "IPY_MODEL_db1e4da70e574d328eb4b0395d9d5099",
       "style": "IPY_MODEL_9aca44609f2a49c7bd106e64bd51552d",
       "value": true
      }
     },
     "7809e59803954e9ea3f3fb2f18196cbd": {
      "model_module": "@jupyter-widgets/base",
      "model_module_version": "1.0.0",
      "model_name": "LayoutModel",
      "state": {
       "display": "flex",
       "flex_flow": "column wrap",
       "width": "66%"
      }
     },
     "788a2a310335461b85a4acc03917679e": {
      "model_module": "@jupyter-widgets/controls",
      "model_module_version": "1.2.0",
      "model_name": "FloatTextModel",
      "state": {
       "description": "max.",
       "layout": "IPY_MODEL_bf3f8014db0a4ed6826e77c8d891e255",
       "step": 0.1,
       "style": "IPY_MODEL_a81a0c263b504dd097171b652cc38c56",
       "value": 2
      }
     },
     "7897d3f52a6c431889148c1404a7ad50": {
      "model_module": "@jupyter-widgets/controls",
      "model_module_version": "1.2.0",
      "model_name": "DescriptionStyleModel",
      "state": {
       "description_width": ""
      }
     },
     "789824ebdafe4a8697df288cd17ebbb9": {
      "model_module": "@jupyter-widgets/controls",
      "model_module_version": "1.2.0",
      "model_name": "DescriptionStyleModel",
      "state": {
       "description_width": ""
      }
     },
     "78a71abb23fb4f6a898bd1072b249131": {
      "model_module": "@jupyter-widgets/controls",
      "model_module_version": "1.2.0",
      "model_name": "FloatTextModel",
      "state": {
       "description": "threshold",
       "layout": "IPY_MODEL_298d1fcc82444382bcd444d7d25a6a2b",
       "step": 10,
       "style": "IPY_MODEL_8ece21e0bbc04f559be068553b2f2d6e",
       "value": 100
      }
     },
     "78ae498426d2423dac6186c3bed9bda3": {
      "model_module": "@jupyter-widgets/base",
      "model_module_version": "1.0.0",
      "model_name": "LayoutModel",
      "state": {
       "width": "auto"
      }
     },
     "78c224c15bbf45a8b8b9d9a6668c8437": {
      "model_module": "@jupyter-widgets/controls",
      "model_module_version": "1.2.0",
      "model_name": "VBoxModel",
      "state": {
       "children": [
        "IPY_MODEL_0de1c5355cd847b3a4c630d31a3c7fb3",
        "IPY_MODEL_005559a6669f4d2b82b23960f9ad2cb3"
       ],
       "layout": "IPY_MODEL_deaa69adc590440db289d16e8652a34d"
      }
     },
     "78d00e24e66247fcb1ee681aa55b73a9": {
      "model_module": "@jupyter-widgets/base",
      "model_module_version": "1.0.0",
      "model_name": "LayoutModel",
      "state": {
       "width": "100%"
      }
     },
     "78d91b7ed5bb4a19a03ae973cf82608d": {
      "model_module": "@jupyter-widgets/controls",
      "model_module_version": "1.2.0",
      "model_name": "VBoxModel",
      "state": {
       "children": [
        "IPY_MODEL_bed8cb7bc5d240ed9659485bda8a0bb4",
        "IPY_MODEL_eb8ea61d9b884dfeab0e5844d8e02b7a"
       ],
       "layout": "IPY_MODEL_d2df79d773ea4115a96da54b67b1d450"
      }
     },
     "7911c08f292a481c80c05b04716d2d21": {
      "model_module": "@jupyter-widgets/controls",
      "model_module_version": "1.2.0",
      "model_name": "DropdownModel",
      "state": {
       "_options_labels": [
        "Identity",
        "Cg",
        "Gaussian"
       ],
       "description": "find filter",
       "index": 1,
       "layout": "IPY_MODEL_fc5893db06514f709860d8b8e5c74f92",
       "style": "IPY_MODEL_a0931920790f4838a3c589307e70e6ea"
      }
     },
     "7928f9a9bda5464cb6f4dab76da972f9": {
      "model_module": "@jupyter-widgets/controls",
      "model_module_version": "1.2.0",
      "model_name": "DescriptionStyleModel",
      "state": {
       "description_width": ""
      }
     },
     "79408f63579c4a6eb87afeda2a783ead": {
      "model_module": "@jupyter-widgets/base",
      "model_module_version": "1.0.0",
      "model_name": "LayoutModel",
      "state": {}
     },
     "795f3086492145fdaab5abf5b6f33fcf": {
      "model_module": "@jupyter-widgets/controls",
      "model_module_version": "1.2.0",
      "model_name": "DescriptionStyleModel",
      "state": {
       "description_width": ""
      }
     },
     "7972ade17a9549aca2c729e88c1deecb": {
      "model_module": "@jupyter-widgets/controls",
      "model_module_version": "1.2.0",
      "model_name": "IntTextModel",
      "state": {
       "description": "feat. size",
       "layout": "IPY_MODEL_4a1aaafdd5f744af8cf8e6809361d7c6",
       "step": 1,
       "style": "IPY_MODEL_732b0a8af2324470bf028256e20453c6",
       "value": 3
      }
     },
     "79f327509cd0406eb137e2966fa39e9d": {
      "model_module": "@jupyter-widgets/base",
      "model_module_version": "1.0.0",
      "model_name": "LayoutModel",
      "state": {
       "width": "75%"
      }
     },
     "79f60ce6dc2f41169c7f7db75c044dd5": {
      "model_module": "@jupyter-widgets/base",
      "model_module_version": "1.0.0",
      "model_name": "LayoutModel",
      "state": {
       "width": "75%"
      }
     },
     "79fed7d79c20410bb8dd6db061405c0c": {
      "model_module": "@jupyter-widgets/controls",
      "model_module_version": "1.2.0",
      "model_name": "DescriptionStyleModel",
      "state": {
       "description_width": ""
      }
     },
     "7a0ebbcb7c4549b69ddcf0b2e2c5068b": {
      "model_module": "@jupyter-widgets/controls",
      "model_module_version": "1.2.0",
      "model_name": "VBoxModel",
      "state": {
       "children": [
        "IPY_MODEL_37582f39e27b4551a390952582802e16",
        "IPY_MODEL_52eaf20fec5d4b26b642602c7e2f087b",
        "IPY_MODEL_c8246eec1c214b518f95489e721820c8"
       ],
       "layout": "IPY_MODEL_4d71c157152d495d8d4b865b622bc7cd"
      }
     },
     "7a134be248c44819aa97966728f0c277": {
      "model_module": "@jupyter-widgets/controls",
      "model_module_version": "1.2.0",
      "model_name": "CheckboxModel",
      "state": {
       "description": "Show loc.",
       "disabled": false,
       "indent": false,
       "layout": "IPY_MODEL_c5656558055948b2a4fa9d3f966364fa",
       "style": "IPY_MODEL_b74b4eaa76f44ed9a4ce52c21cca5318",
       "value": true
      }
     },
     "7a1a89626449426fa814701a0bffdd39": {
      "model_module": "@jupyter-widgets/base",
      "model_module_version": "1.0.0",
      "model_name": "LayoutModel",
      "state": {}
     },
     "7a3d482483a6445d88c73d2a846f9824": {
      "model_module": "@jupyter-widgets/controls",
      "model_module_version": "1.2.0",
      "model_name": "DescriptionStyleModel",
      "state": {
       "description_width": ""
      }
     },
     "7a70e5df9e4a47af98622efa03666631": {
      "model_module": "@jupyter-widgets/controls",
      "model_module_version": "1.2.0",
      "model_name": "FloatTextModel",
      "state": {
       "description": "radius",
       "layout": "IPY_MODEL_fe50cf899f9849c68cd362416b44221a",
       "step": 0.1,
       "style": "IPY_MODEL_a335da71e80246ae9495b090f1d55e3d",
       "value": 1
      }
     },
     "7abeedd3279141b7bdec9c5c09ab7c9e": {
      "model_module": "@jupyter-widgets/base",
      "model_module_version": "1.0.0",
      "model_name": "LayoutModel",
      "state": {}
     },
     "7b03f085f65f420f8a3f52353e8d06af": {
      "model_module": "@jupyter-widgets/controls",
      "model_module_version": "1.2.0",
      "model_name": "VBoxModel",
      "state": {
       "children": [
        "IPY_MODEL_5c98545516e04951b2ddb146af32d870",
        "IPY_MODEL_2f874938a2d94bcba003ba49e8e33c0a"
       ],
       "layout": "IPY_MODEL_af56442840da4d8791c2372861416b99"
      }
     },
     "7b584ece4361442f9e5d5ae43bdc193c": {
      "model_module": "@jupyter-widgets/controls",
      "model_module_version": "1.2.0",
      "model_name": "DescriptionStyleModel",
      "state": {
       "description_width": ""
      }
     },
     "7b761e89fa234cb08725d6348836a0ee": {
      "model_module": "@jupyter-widgets/base",
      "model_module_version": "1.0.0",
      "model_name": "LayoutModel",
      "state": {}
     },
     "7b82c042d2e84e6abda55cdaf4c9b65b": {
      "model_module": "@jupyter-widgets/controls",
      "model_module_version": "1.2.0",
      "model_name": "DescriptionStyleModel",
      "state": {
       "description_width": ""
      }
     },
     "7b8878de628d40bd9920c97d3939afd8": {
      "model_module": "@jupyter-widgets/controls",
      "model_module_version": "1.2.0",
      "model_name": "DescriptionStyleModel",
      "state": {
       "description_width": ""
      }
     },
     "7b89770040f044aeb0938fce0d19fad1": {
      "model_module": "@jupyter-widgets/base",
      "model_module_version": "1.0.0",
      "model_name": "LayoutModel",
      "state": {
       "width": "100%"
      }
     },
     "7ba82f1bc9f44a9ab5436345270cc38b": {
      "model_module": "@jupyter-widgets/controls",
      "model_module_version": "1.2.0",
      "model_name": "FloatTextModel",
      "state": {
       "description": "max.",
       "layout": "IPY_MODEL_649b7633f4b04e2b844853ac9c71132a",
       "step": 0.1,
       "style": "IPY_MODEL_b15e46d5fa8e48069163d3f58c7cd47d",
       "value": 2
      }
     },
     "7c0872584b414742a7b4ac503911cd25": {
      "model_module": "@jupyter-widgets/controls",
      "model_module_version": "1.2.0",
      "model_name": "IntTextModel",
      "state": {
       "description": "feat. size",
       "layout": "IPY_MODEL_00de74018a174b87b954fff29cd962b5",
       "step": 1,
       "style": "IPY_MODEL_7f7947b871f94543900367021cc52eb8",
       "value": 3
      }
     },
     "7c1fa466585b4c18bb1136d99db01e73": {
      "model_module": "@jupyter-widgets/controls",
      "model_module_version": "1.2.0",
      "model_name": "IntTextModel",
      "state": {
       "description": "feat. size",
       "layout": "IPY_MODEL_3b6d145814284f81a73a8766f2202449",
       "step": 1,
       "style": "IPY_MODEL_094dc0a79c5448bcb2cc027f7dbdbf13",
       "value": 3
      }
     },
     "7c2cf39c04a54bdab9d108abb89c1b1a": {
      "model_module": "@jupyter-widgets/controls",
      "model_module_version": "1.2.0",
      "model_name": "VBoxModel",
      "state": {
       "children": [
        "IPY_MODEL_3bd3ca85972f4753945635cc6a4b40e8",
        "IPY_MODEL_542824644f4b4688ab53fe51e80cc840"
       ],
       "layout": "IPY_MODEL_35affd50b11e4522a38dac9e0946d5c9"
      }
     },
     "7c2f1c1779d94e2e91f9166b3dd4b218": {
      "model_module": "@jupyter-widgets/controls",
      "model_module_version": "1.2.0",
      "model_name": "DescriptionStyleModel",
      "state": {
       "description_width": ""
      }
     },
     "7c3f80ceafa642ad91d6b4dabf593fcc": {
      "model_module": "@jupyter-widgets/controls",
      "model_module_version": "1.2.0",
      "model_name": "VBoxModel",
      "state": {
       "children": [
        "IPY_MODEL_fd55a134330e485dafc12f541fdc0098",
        "IPY_MODEL_999925651d7242988684fba28c027481",
        "IPY_MODEL_c80ee4c5f3844dcb8f585e61645e0e9b"
       ],
       "layout": "IPY_MODEL_49b0252677114a718f2f1f5ce51aa65d"
      }
     },
     "7c8f7fd5620348dbbdce9826109e023e": {
      "model_module": "@jupyter-widgets/controls",
      "model_module_version": "1.2.0",
      "model_name": "FloatTextModel",
      "state": {
       "layout": "IPY_MODEL_68771071100647cfbf783c46587caf21",
       "step": 0.1,
       "style": "IPY_MODEL_12e3aca5f7a3466baf8ea7382af3da63",
       "value": 1
      }
     },
     "7c91f459dac54e8fa020dd41e8b948e8": {
      "model_module": "@jupyter-widgets/controls",
      "model_module_version": "1.2.0",
      "model_name": "ButtonModel",
      "state": {
       "description": "Auto",
       "layout": "IPY_MODEL_58c7c620e7444f18bee9b757653f2aa9",
       "style": "IPY_MODEL_6b12021b53df45f595d570758060959a"
      }
     },
     "7cadca4ec02f4e818ba61018391b0e13": {
      "model_module": "@jupyter-widgets/base",
      "model_module_version": "1.0.0",
      "model_name": "LayoutModel",
      "state": {
       "width": "100%"
      }
     },
     "7caf946b93e8415dbb5cfded06c588a9": {
      "model_module": "@jupyter-widgets/controls",
      "model_module_version": "1.2.0",
      "model_name": "FloatTextModel",
      "state": {
       "layout": "IPY_MODEL_e52dc050c90b4f95ae0574a97f6bab48",
       "step": 0.1,
       "style": "IPY_MODEL_bf65372f5d3047ebb15da62caa1c4521",
       "value": 1
      }
     },
     "7cea220079584f04863b5b3c3f490da5": {
      "model_module": "@jupyter-widgets/base",
      "model_module_version": "1.0.0",
      "model_name": "LayoutModel",
      "state": {
       "display": "none"
      }
     },
     "7cf28348575d44999104b0a38448e86f": {
      "model_module": "@jupyter-widgets/controls",
      "model_module_version": "1.2.0",
      "model_name": "IntTextModel",
      "state": {
       "description": "feat. size",
       "layout": "IPY_MODEL_f4ea95c3704c4136a4bc40e6012cd317",
       "step": 1,
       "style": "IPY_MODEL_47cd86d34ec4462893501a76ed9afd8f",
       "value": 3
      }
     },
     "7cf744bcc5b0409f9103c5c4577f0f0c": {
      "model_module": "@jupyter-widgets/base",
      "model_module_version": "1.0.0",
      "model_name": "LayoutModel",
      "state": {}
     },
     "7d08cafb736a41c2afb0cf75a29fa8b9": {
      "model_module": "@jupyter-widgets/controls",
      "model_module_version": "1.2.0",
      "model_name": "SliderStyleModel",
      "state": {
       "description_width": ""
      }
     },
     "7d13a996cd214e179de14b9f3f64a524": {
      "model_module": "@jupyter-widgets/controls",
      "model_module_version": "1.2.0",
      "model_name": "VBoxModel",
      "state": {
       "children": [
        "IPY_MODEL_4a41e935acee4148a4451a1654544e26",
        "IPY_MODEL_ad09e136c24c4419a07750758267dfd3",
        "IPY_MODEL_e4432ff0f82a4912ac85dd08f6e539b0",
        "IPY_MODEL_6d7ed1f11220468bae685a0970199e25",
        "IPY_MODEL_a00cbf50657b424287aeafdf5cff1a05",
        "IPY_MODEL_d9c72ea5ac5e4104bd5e802eb4cb1431"
       ],
       "layout": "IPY_MODEL_ff916902a58342ff8f8136893a243101"
      }
     },
     "7d37587997e74c4a886352b548618d25": {
      "model_module": "@jupyter-widgets/controls",
      "model_module_version": "1.2.0",
      "model_name": "ButtonModel",
      "state": {
       "description": "Auto",
       "layout": "IPY_MODEL_417b9bf113344cc0b8645f4a829750d8",
       "style": "IPY_MODEL_eb8a6c492cbb40afa6de05b53bec888b"
      }
     },
     "7d54d4eef9b141c5b28a3ced6be45186": {
      "model_module": "@jupyter-widgets/controls",
      "model_module_version": "1.2.0",
      "model_name": "CheckboxModel",
      "state": {
       "description": "Min. distance",
       "disabled": false,
       "indent": false,
       "layout": "IPY_MODEL_edcf26e89f0140129f39cf5f6752a772",
       "style": "IPY_MODEL_f09107aafae74a6fa022c90364a58dcf",
       "value": false
      }
     },
     "7d8707fd46d64a3c8c0031d3914e3f5f": {
      "model_module": "@jupyter-widgets/controls",
      "model_module_version": "1.2.0",
      "model_name": "FloatTextModel",
      "state": {
       "description": "radius",
       "layout": "IPY_MODEL_33d2438241524a22a276e0c1f53efbd0",
       "step": 0.1,
       "style": "IPY_MODEL_5bf451524c124eb5aaa54312ad41c19b",
       "value": 1
      }
     },
     "7e1a9bca2032487a90f1a46296047b9c": {
      "model_module": "@jupyter-widgets/controls",
      "model_module_version": "1.2.0",
      "model_name": "DescriptionStyleModel",
      "state": {
       "description_width": ""
      }
     },
     "7e323cdbad764b54ba41c5bd2ed3ccdf": {
      "model_module": "@jupyter-widgets/base",
      "model_module_version": "1.0.0",
      "model_name": "LayoutModel",
      "state": {
       "display": "inline"
      }
     },
     "7e5d3d35dfdd4bd991635af6b96bb962": {
      "model_module": "@jupyter-widgets/controls",
      "model_module_version": "1.2.0",
      "model_name": "VBoxModel",
      "state": {
       "children": [
        "IPY_MODEL_a84219f788e443978c802281362621b5",
        "IPY_MODEL_a1fee939d02b4c3cbeb542df8cf1eb43",
        "IPY_MODEL_6c3ad84af7db4553a2e5a62501af6851",
        "IPY_MODEL_aec25161b34c4d5fa2495d37dd0b009c",
        "IPY_MODEL_65aa7fca0ee44bcdbdd5376b628ac01a",
        "IPY_MODEL_8a52be7024ef4c25aa09a59124e17e13"
       ],
       "layout": "IPY_MODEL_cbc95826e6074f2e92211d41a56f82a4"
      }
     },
     "7e69e27a79d54518ba4291cb90d5052e": {
      "model_module": "@jupyter-widgets/controls",
      "model_module_version": "1.2.0",
      "model_name": "DropdownModel",
      "state": {
       "_options_labels": [
        "Identity",
        "Cg",
        "Gaussian"
       ],
       "description": "find filter",
       "index": 1,
       "layout": "IPY_MODEL_5efc03be26be44678edae4db1dd0620d",
       "style": "IPY_MODEL_96c75463f6154453969f9a34b12ad577"
      }
     },
     "7e804dfa5c76426e93cae68a9fbae361": {
      "model_module": "@jupyter-widgets/base",
      "model_module_version": "1.0.0",
      "model_name": "LayoutModel",
      "state": {
       "width": "auto"
      }
     },
     "7e859156759f45b38523fc18293aa11d": {
      "model_module": "@jupyter-widgets/base",
      "model_module_version": "1.0.0",
      "model_name": "LayoutModel",
      "state": {}
     },
     "7eba0bf824a04ba59bf6385b7b96348e": {
      "model_module": "@jupyter-widgets/controls",
      "model_module_version": "1.2.0",
      "model_name": "FloatTextModel",
      "state": {
       "layout": "IPY_MODEL_7411c1c312424992878cea121fca4ef0",
       "step": 0.1,
       "style": "IPY_MODEL_2ea8a59f129b405d87173f9f3230b8e6",
       "value": 1
      }
     },
     "7f0e7f412f954619b202379e8b02693b": {
      "model_module": "@jupyter-widgets/controls",
      "model_module_version": "1.2.0",
      "model_name": "DescriptionStyleModel",
      "state": {
       "description_width": ""
      }
     },
     "7f26c2e32f73441e925acbfeb80b8ba5": {
      "model_module": "@jupyter-widgets/controls",
      "model_module_version": "1.2.0",
      "model_name": "IntTextModel",
      "state": {
       "description": "feat. size",
       "layout": "IPY_MODEL_5d0a7ef140e44964bca949a1721e3e29",
       "step": 1,
       "style": "IPY_MODEL_9fdbc4fb133d47bdab2d81519a664f88",
       "value": 3
      }
     },
     "7f4354ebdb9e4b5abbdc63c6c1eff22f": {
      "model_module": "@jupyter-widgets/controls",
      "model_module_version": "1.2.0",
      "model_name": "DescriptionStyleModel",
      "state": {
       "description_width": ""
      }
     },
     "7f4b4f3d85e34deeb1ea4774d8aefa66": {
      "model_module": "@jupyter-widgets/controls",
      "model_module_version": "1.2.0",
      "model_name": "CheckboxModel",
      "state": {
       "description": "Size range",
       "disabled": false,
       "indent": false,
       "layout": "IPY_MODEL_87bdfa4d9388414fbe34361823472cd9",
       "style": "IPY_MODEL_744b36f504394d21b014ea9c4cbbfcb7",
       "value": false
      }
     },
     "7f68fd8890284cd78451354497414a02": {
      "model_module": "@jupyter-widgets/controls",
      "model_module_version": "1.2.0",
      "model_name": "DescriptionStyleModel",
      "state": {
       "description_width": ""
      }
     },
     "7f73ff4f83394c04820b1cf4828cff07": {
      "model_module": "@jupyter-widgets/controls",
      "model_module_version": "1.2.0",
      "model_name": "CheckboxModel",
      "state": {
       "description": "Size range",
       "disabled": false,
       "indent": false,
       "layout": "IPY_MODEL_78ae498426d2423dac6186c3bed9bda3",
       "style": "IPY_MODEL_84be21c2267d46ecb6b61acbf06dc01e",
       "value": false
      }
     },
     "7f7947b871f94543900367021cc52eb8": {
      "model_module": "@jupyter-widgets/controls",
      "model_module_version": "1.2.0",
      "model_name": "DescriptionStyleModel",
      "state": {
       "description_width": ""
      }
     },
     "7f8c1ba0849c4963a3aec678f5fcbf8b": {
      "model_module": "@jupyter-widgets/controls",
      "model_module_version": "1.2.0",
      "model_name": "DescriptionStyleModel",
      "state": {
       "description_width": ""
      }
     },
     "7fae634bda3149b89c903f91e92c0a9e": {
      "model_module": "@jupyter-widgets/controls",
      "model_module_version": "1.2.0",
      "model_name": "DescriptionStyleModel",
      "state": {
       "description_width": ""
      }
     },
     "7ff62e478ee3437995b243f6afd57b84": {
      "model_module": "@jupyter-widgets/base",
      "model_module_version": "1.0.0",
      "model_name": "LayoutModel",
      "state": {}
     },
     "7ffaa12f4009420cabdc409956fafe3d": {
      "model_module": "@jupyter-widgets/controls",
      "model_module_version": "1.2.0",
      "model_name": "VBoxModel",
      "state": {
       "children": [
        "IPY_MODEL_6c8878d01af44bda9f3639d215611135",
        "IPY_MODEL_bd42a13e206240c8af39f2f3f7f56011",
        "IPY_MODEL_d700234ff2bd43d98b61da89639fba43"
       ],
       "layout": "IPY_MODEL_8c98602f1d7f4432a45d0fda2735fd67"
      }
     },
     "8004488e459a492b8d357d97ede48678": {
      "model_module": "@jupyter-widgets/controls",
      "model_module_version": "1.2.0",
      "model_name": "DescriptionStyleModel",
      "state": {
       "description_width": ""
      }
     },
     "80755e8cd72a466ba04fa2342cc4a2c4": {
      "model_module": "@jupyter-widgets/controls",
      "model_module_version": "1.2.0",
      "model_name": "CheckboxModel",
      "state": {
       "description": "Size range",
       "disabled": false,
       "indent": false,
       "layout": "IPY_MODEL_231f86b690714dfe9cc5b0b688cc7436",
       "style": "IPY_MODEL_6af5196c760649fd86ae2d5731be9973",
       "value": false
      }
     },
     "809d2a13aa78447b8a8fcfa964e91b06": {
      "model_module": "@jupyter-widgets/controls",
      "model_module_version": "1.2.0",
      "model_name": "DescriptionStyleModel",
      "state": {
       "description_width": ""
      }
     },
     "80a9910d37f34e0d9f9bca42f24e1a37": {
      "model_module": "@jupyter-widgets/controls",
      "model_module_version": "1.2.0",
      "model_name": "DescriptionStyleModel",
      "state": {
       "description_width": ""
      }
     },
     "80baaa6b703743fcb59be4abcea2e9bb": {
      "model_module": "@jupyter-widgets/controls",
      "model_module_version": "1.2.0",
      "model_name": "DescriptionStyleModel",
      "state": {
       "description_width": ""
      }
     },
     "80c2e356993c45dcbebf66dc3e671b92": {
      "model_module": "@jupyter-widgets/controls",
      "model_module_version": "1.2.0",
      "model_name": "DescriptionStyleModel",
      "state": {
       "description_width": ""
      }
     },
     "80d0f66ccc8043f5a05540c17b37572b": {
      "model_module": "@jupyter-widgets/base",
      "model_module_version": "1.0.0",
      "model_name": "LayoutModel",
      "state": {
       "width": "auto"
      }
     },
     "80d3c155cfc846a88c1e54b855601163": {
      "model_module": "@jupyter-widgets/base",
      "model_module_version": "1.0.0",
      "model_name": "LayoutModel",
      "state": {}
     },
     "80ed4a1176914252bf03bbd3df62e1c5": {
      "model_module": "@jupyter-widgets/controls",
      "model_module_version": "1.2.0",
      "model_name": "DropdownModel",
      "state": {
       "_options_labels": [
        "2d_fixed",
        "2d",
        "3d"
       ],
       "description": "model",
       "index": 1,
       "layout": "IPY_MODEL_fbe86e1dd7194487b3b57f7e6f490339",
       "style": "IPY_MODEL_679a8b092b324fc099cd7bba2007a0e8"
      }
     },
     "80f46a1514ff47459596d207e4185b65": {
      "model_module": "@jupyter-widgets/base",
      "model_module_version": "1.0.0",
      "model_name": "LayoutModel",
      "state": {
       "display": "none"
      }
     },
     "80fe2f7b6ac64475a3794aaf3aa27ae4": {
      "model_module": "@jupyter-widgets/base",
      "model_module_version": "1.0.0",
      "model_name": "LayoutModel",
      "state": {
       "width": "100%"
      }
     },
     "81096482fe474b759a2fb31d9ee07c29": {
      "model_module": "@jupyter-widgets/base",
      "model_module_version": "1.0.0",
      "model_name": "LayoutModel",
      "state": {
       "width": "auto"
      }
     },
     "810a209724294271b83a49d267f14a22": {
      "model_module": "@jupyter-widgets/base",
      "model_module_version": "1.0.0",
      "model_name": "LayoutModel",
      "state": {
       "width": "100%"
      }
     },
     "810bea697feb42e5af9feca7edb8266e": {
      "model_module": "@jupyter-widgets/controls",
      "model_module_version": "1.2.0",
      "model_name": "IntRangeSliderModel",
      "state": {
       "_model_name": "IntRangeSliderModel",
       "_view_name": "IntRangeSliderView",
       "layout": "IPY_MODEL_386b71b351a64a1a954377121aa10d0a",
       "max": 65535,
       "style": "IPY_MODEL_da6998b0eeac4a14aa88cad19e27679d",
       "value": [
        16383,
        49151
       ]
      }
     },
     "81185d7b48c5402f97c81cce08649b34": {
      "model_module": "@jupyter-widgets/controls",
      "model_module_version": "1.2.0",
      "model_name": "VBoxModel",
      "state": {
       "children": [
        "IPY_MODEL_ef7105e4a7684fe1b412815e09bf964e",
        "IPY_MODEL_9911ce34f11f43ec81604a8e6e1ae269",
        "IPY_MODEL_c6a9fc6e0e6a4098995eb4a9aafbd685"
       ],
       "layout": "IPY_MODEL_e73200dfa3a84a7e902c264f06cb8050"
      }
     },
     "81d9b6aed16e4b3d9a533e28bbe5c7ba": {
      "model_module": "@jupyter-widgets/base",
      "model_module_version": "1.0.0",
      "model_name": "LayoutModel",
      "state": {}
     },
     "8200b00ac8174f8b913f4fb2f5aeb418": {
      "model_module": "@jupyter-widgets/controls",
      "model_module_version": "1.2.0",
      "model_name": "DescriptionStyleModel",
      "state": {
       "description_width": ""
      }
     },
     "82396cc378f041c0bd9a6d82efcaddc7": {
      "model_module": "@jupyter-widgets/controls",
      "model_module_version": "1.2.0",
      "model_name": "DescriptionStyleModel",
      "state": {
       "description_width": ""
      }
     },
     "82583e58509042368bf8c21bee5086e4": {
      "model_module": "@jupyter-widgets/base",
      "model_module_version": "1.0.0",
      "model_name": "LayoutModel",
      "state": {
       "width": "auto"
      }
     },
     "8277aa72a4134dafa78f589ff2231453": {
      "model_module": "@jupyter-widgets/controls",
      "model_module_version": "1.2.0",
      "model_name": "HBoxModel",
      "state": {
       "children": [
        "IPY_MODEL_33b6de483ca6433cb6abe21f23c9b310",
        "IPY_MODEL_8b8f4ee2b429441f949a39a7e6b4907d"
       ],
       "layout": "IPY_MODEL_92b09dfd88004c9e8778def1c9f699a8"
      }
     },
     "82cc1b5d18df45f3a6d56f36a65c333b": {
      "model_module": "@jupyter-widgets/controls",
      "model_module_version": "1.2.0",
      "model_name": "DescriptionStyleModel",
      "state": {
       "description_width": ""
      }
     },
     "82cdb91393a042cfb05f6b57bac9c2aa": {
      "model_module": "@jupyter-widgets/controls",
      "model_module_version": "1.2.0",
      "model_name": "CheckboxModel",
      "state": {
       "description": "Show loc.",
       "disabled": false,
       "indent": false,
       "layout": "IPY_MODEL_a5aef452aafc4979844c1c9e82fbe0db",
       "style": "IPY_MODEL_0018c04d4b2749a4897ec5711d0a8a1b",
       "value": true
      }
     },
     "82fa564a51c04c79a480775d7211cee6": {
      "model_module": "@jupyter-widgets/controls",
      "model_module_version": "1.2.0",
      "model_name": "DescriptionStyleModel",
      "state": {
       "description_width": ""
      }
     },
     "8346806e4bba42cb87c56d2814e17ddc": {
      "model_module": "@jupyter-widgets/controls",
      "model_module_version": "1.2.0",
      "model_name": "DescriptionStyleModel",
      "state": {
       "description_width": ""
      }
     },
     "8353db62440f4be398859f883451c00b": {
      "model_module": "@jupyter-widgets/base",
      "model_module_version": "1.0.0",
      "model_name": "LayoutModel",
      "state": {}
     },
     "8356a8afa94944eb825a6d03d33ca378": {
      "model_module": "@jupyter-widgets/controls",
      "model_module_version": "1.2.0",
      "model_name": "CheckboxModel",
      "state": {
       "description": "Show loc.",
       "disabled": false,
       "indent": false,
       "layout": "IPY_MODEL_9dc7aaed167b4dd5969d056120e38a5c",
       "style": "IPY_MODEL_5c5eeae3fe734cfb9d5b6555b74ba08d",
       "value": true
      }
     },
     "8363f9755aa04c31946b49bf6d81e6cd": {
      "model_module": "@jupyter-widgets/base",
      "model_module_version": "1.0.0",
      "model_name": "LayoutModel",
      "state": {
       "display": "none"
      }
     },
     "837f0a9b22bc4f38a3e697aded6b628d": {
      "model_module": "@jupyter-widgets/base",
      "model_module_version": "1.0.0",
      "model_name": "LayoutModel",
      "state": {}
     },
     "83816c77a7d44d1283af47f290407846": {
      "model_module": "@jupyter-widgets/base",
      "model_module_version": "1.0.0",
      "model_name": "LayoutModel",
      "state": {
       "width": "100%"
      }
     },
     "83cffd741eeb430dbf72e1f82c9e775f": {
      "model_module": "@jupyter-widgets/controls",
      "model_module_version": "1.2.0",
      "model_name": "DescriptionStyleModel",
      "state": {
       "description_width": ""
      }
     },
     "83d3e31c57f34f7d82e2583f231da2e9": {
      "model_module": "@jupyter-widgets/controls",
      "model_module_version": "1.2.0",
      "model_name": "DescriptionStyleModel",
      "state": {
       "description_width": ""
      }
     },
     "84be21c2267d46ecb6b61acbf06dc01e": {
      "model_module": "@jupyter-widgets/controls",
      "model_module_version": "1.2.0",
      "model_name": "DescriptionStyleModel",
      "state": {
       "description_width": ""
      }
     },
     "850705be2c594966a1ed5adf20120cf0": {
      "model_module": "@jupyter-widgets/base",
      "model_module_version": "1.0.0",
      "model_name": "LayoutModel",
      "state": {}
     },
     "8530c3e1f5034d298c0e74eb8b4b8d62": {
      "model_module": "@jupyter-widgets/controls",
      "model_module_version": "1.2.0",
      "model_name": "LabelModel",
      "state": {
       "layout": "IPY_MODEL_77a71aeb78a444699b75d59679ba74a4",
       "style": "IPY_MODEL_7f4354ebdb9e4b5abbdc63c6c1eff22f",
       "value": "Locating beads (file 10/10)"
      }
     },
     "853382609a5b404d80a4feb4093d925a": {
      "model_module": "@jupyter-widgets/base",
      "model_module_version": "1.0.0",
      "model_name": "LayoutModel",
      "state": {
       "display": "flex",
       "flex_flow": "column wrap",
       "width": "66%"
      }
     },
     "856b29a83bc644f7b2b4e017960d1da3": {
      "model_module": "@jupyter-widgets/controls",
      "model_module_version": "1.2.0",
      "model_name": "FloatTextModel",
      "state": {
       "description": "min.",
       "layout": "IPY_MODEL_33fff774f93e46a2af5d1b55d8cb2994",
       "step": 0.1,
       "style": "IPY_MODEL_9d4a9019dc9c48ee987d1e204cb5dfa8",
       "value": 0.5
      }
     },
     "856dc878c4b947268823882ad0e609a1": {
      "model_module": "@jupyter-widgets/controls",
      "model_module_version": "1.2.0",
      "model_name": "LabelModel",
      "state": {
       "layout": "IPY_MODEL_cb2386fc6ef74bcdacecf41b9c594189",
       "style": "IPY_MODEL_2043cd0deada4e3fad44e7ca841638c1",
       "value": "Locating beads (file 10/10)"
      }
     },
     "861cffcb15a747e59761de0c27edcde8": {
      "model_module": "@jupyter-widgets/controls",
      "model_module_version": "1.2.0",
      "model_name": "VBoxModel",
      "state": {
       "children": [
        "IPY_MODEL_aeb82f103bde45f8ae48a0a3293218f8",
        "IPY_MODEL_b2612d3edbcd4dbc816deb8b13184772",
        "IPY_MODEL_24b12ffeda4e43ec875b10f3506e60aa"
       ],
       "layout": "IPY_MODEL_37b4c7ed280b4d5aa4ccdbad7e7604f0"
      }
     },
     "8640494794064662823b36511db88e13": {
      "model_module": "@jupyter-widgets/base",
      "model_module_version": "1.0.0",
      "model_name": "LayoutModel",
      "state": {
       "width": "auto"
      }
     },
     "865d1a7cd7b948548f2f7bb0f5eda00d": {
      "model_module": "@jupyter-widgets/controls",
      "model_module_version": "1.2.0",
      "model_name": "DescriptionStyleModel",
      "state": {
       "description_width": ""
      }
     },
     "86ad48dec51741938a64d3053101ebe2": {
      "model_module": "@jupyter-widgets/controls",
      "model_module_version": "1.2.0",
      "model_name": "DropdownModel",
      "state": {
       "_options_labels": [
        "2d_fixed",
        "2d",
        "3d"
       ],
       "description": "model",
       "index": 1,
       "layout": "IPY_MODEL_714d253144384720828bdd50e58469e1",
       "style": "IPY_MODEL_05d857c2e8504550a4718576d51adb6e"
      }
     },
     "86c46d226c9342bd9799b721166690a6": {
      "model_module": "@jupyter-widgets/base",
      "model_module_version": "1.0.0",
      "model_name": "LayoutModel",
      "state": {}
     },
     "86c69153440d494eb9e52469c9909b45": {
      "model_module": "@jupyter-widgets/controls",
      "model_module_version": "1.2.0",
      "model_name": "ButtonModel",
      "state": {
       "description": "Auto",
       "layout": "IPY_MODEL_f69a2db1cf3d44d594939f5f5d96e21a",
       "style": "IPY_MODEL_af11b20f3d1b467485ef89404c0582c5"
      }
     },
     "86c9ec232b3e4bfbbe8fd140a5e6d5d3": {
      "model_module": "@jupyter-widgets/base",
      "model_module_version": "1.0.0",
      "model_name": "LayoutModel",
      "state": {}
     },
     "86d4d864668c47e99aad4c905abee941": {
      "model_module": "@jupyter-widgets/controls",
      "model_module_version": "1.2.0",
      "model_name": "FloatTextModel",
      "state": {
       "description": "min.",
       "layout": "IPY_MODEL_4460a4b0e45149e8b62d0d75002d0361",
       "step": 0.1,
       "style": "IPY_MODEL_82fa564a51c04c79a480775d7211cee6",
       "value": 0.5
      }
     },
     "86dcef23bc4744319fe529d567185ca9": {
      "model_module": "@jupyter-widgets/base",
      "model_module_version": "1.0.0",
      "model_name": "LayoutModel",
      "state": {
       "height": "150px",
       "width": "100%"
      }
     },
     "87045e7c7a47485aa63dffd08040e2e1": {
      "model_module": "@jupyter-widgets/controls",
      "model_module_version": "1.2.0",
      "model_name": "FloatTextModel",
      "state": {
       "description": "min.",
       "layout": "IPY_MODEL_f46d6a4ed27843f8a95281949e729744",
       "step": 0.1,
       "style": "IPY_MODEL_aac67a092b404f4aa3513c7206fd2402",
       "value": 0.5
      }
     },
     "874f056b41604b95a1022eb11cdd193c": {
      "model_module": "@jupyter-widgets/controls",
      "model_module_version": "1.2.0",
      "model_name": "FloatTextModel",
      "state": {
       "description": "radius",
       "layout": "IPY_MODEL_0c6814e20e264632b34c7a9ba47b467d",
       "step": 0.1,
       "style": "IPY_MODEL_6a2d25aa08ec4f93b0f42b40e56f36ad",
       "value": 1
      }
     },
     "878f93859f344d6b8c9abb9c812267a3": {
      "model_module": "@jupyter-widgets/controls",
      "model_module_version": "1.2.0",
      "model_name": "ButtonStyleModel",
      "state": {}
     },
     "8793427b89a2477384ccd98b45e8650e": {
      "model_module": "@jupyter-widgets/controls",
      "model_module_version": "1.2.0",
      "model_name": "IntTextModel",
      "state": {
       "description": "feat. size",
       "layout": "IPY_MODEL_a7a93a3b5db14745a107ee7357a57a81",
       "step": 1,
       "style": "IPY_MODEL_022d4e6b9d2b4ef29ad13e4759bdf303",
       "value": 3
      }
     },
     "87bdfa4d9388414fbe34361823472cd9": {
      "model_module": "@jupyter-widgets/base",
      "model_module_version": "1.0.0",
      "model_name": "LayoutModel",
      "state": {
       "width": "auto"
      }
     },
     "88e452512c2a453dae2c9766752f5965": {
      "model_module": "@jupyter-widgets/base",
      "model_module_version": "1.0.0",
      "model_name": "LayoutModel",
      "state": {}
     },
     "89674fdefb424fd5b881882a1c20c533": {
      "model_module": "@jupyter-widgets/controls",
      "model_module_version": "1.2.0",
      "model_name": "DescriptionStyleModel",
      "state": {
       "description_width": ""
      }
     },
     "897513c42c1949debca60cc5649d6001": {
      "model_module": "@jupyter-widgets/controls",
      "model_module_version": "1.2.0",
      "model_name": "VBoxModel",
      "state": {
       "children": [
        "IPY_MODEL_76e0696c5f33476dba9467127113deca",
        "IPY_MODEL_7f26c2e32f73441e925acbfeb80b8ba5",
        "IPY_MODEL_df29faf8273e48a5bee8d7a223cc08ac"
       ],
       "layout": "IPY_MODEL_5ddf41f4e91448118e5b3331eae7ede0"
      }
     },
     "89aa5d42d8eb4ebc90a7761d3dce4b75": {
      "model_module": "@jupyter-widgets/base",
      "model_module_version": "1.0.0",
      "model_name": "LayoutModel",
      "state": {
       "height": "150px",
       "width": "100%"
      }
     },
     "89d8894014ba4cf4a21db7afed9d625e": {
      "model_module": "@jupyter-widgets/controls",
      "model_module_version": "1.2.0",
      "model_name": "FloatTextModel",
      "state": {
       "description": "threshold",
       "layout": "IPY_MODEL_2935f9dd0f2347839e2a4b45779199de",
       "step": 10,
       "style": "IPY_MODEL_d3766a29be6c40149321205bfdce3c6a",
       "value": 100
      }
     },
     "8a52be7024ef4c25aa09a59124e17e13": {
      "model_module": "@jupyter-widgets/controls",
      "model_module_version": "1.2.0",
      "model_name": "VBoxModel",
      "state": {
       "children": [
        "IPY_MODEL_dcc1fee65e7e40488a2829e87fe22560",
        "IPY_MODEL_3cb0d27cf4e64e7dbba3e398ee1b9917",
        "IPY_MODEL_2ace33678a664e7f93b399359db8e7a9"
       ],
       "layout": "IPY_MODEL_9f26e9bc88f3473ebf794e68fa66a789"
      }
     },
     "8a6550c5cbe647d68a2115ac8442b978": {
      "model_module": "@jupyter-widgets/controls",
      "model_module_version": "1.2.0",
      "model_name": "DescriptionStyleModel",
      "state": {
       "description_width": ""
      }
     },
     "8a6b8ef7ce7f4b76b1c70a9cbec92a5f": {
      "model_module": "@jupyter-widgets/controls",
      "model_module_version": "1.2.0",
      "model_name": "DescriptionStyleModel",
      "state": {
       "description_width": ""
      }
     },
     "8a73eacf81254b6eab54f9ad02fc146f": {
      "model_module": "@jupyter-widgets/base",
      "model_module_version": "1.0.0",
      "model_name": "LayoutModel",
      "state": {}
     },
     "8ab3bf5637d24546a209820bd9d7806c": {
      "model_module": "@jupyter-widgets/controls",
      "model_module_version": "1.2.0",
      "model_name": "BoundedIntTextModel",
      "state": {
       "description": "frame",
       "layout": "IPY_MODEL_5446864af5af44aba166dcb3ea3c4d17",
       "max": 0,
       "style": "IPY_MODEL_917606e537914db69ef6a9a8c9542c4e"
      }
     },
     "8acfbe1b3a1f4104bb5c3c685b867aaa": {
      "model_module": "@jupyter-widgets/controls",
      "model_module_version": "1.2.0",
      "model_name": "SelectModel",
      "state": {
       "_options_labels": [
        "data/sensor-H57/no-cells_SAv-100k_SSS-H57-20k_000_.SPE"
       ],
       "index": 0,
       "layout": "IPY_MODEL_05e0d564a0d3408bba633bcffd12cb3f",
       "style": "IPY_MODEL_0104da1552564463929855cbc2b05593"
      }
     },
     "8ae8a78a822742a5a1ac26766d7d0bf2": {
      "model_module": "@jupyter-widgets/controls",
      "model_module_version": "1.2.0",
      "model_name": "HBoxModel",
      "state": {
       "children": [
        "IPY_MODEL_455cf6e9a00743579e54cef4efeee445",
        "IPY_MODEL_3b4a599f18eb484f89abca24821169d5"
       ],
       "layout": "IPY_MODEL_44af3bdb87e84606a1ad3a7482d31214"
      }
     },
     "8b1e427c35654164ae46d5138758bafc": {
      "model_module": "@jupyter-widgets/base",
      "model_module_version": "1.0.0",
      "model_name": "LayoutModel",
      "state": {
       "border": "1px solid gray"
      }
     },
     "8b26a592718c432381544ef50f1238c4": {
      "model_module": "@jupyter-widgets/controls",
      "model_module_version": "1.2.0",
      "model_name": "DropdownModel",
      "state": {
       "_options_labels": [
        "Identity",
        "Cg",
        "Gaussian"
       ],
       "description": "find filter",
       "index": 1,
       "layout": "IPY_MODEL_80d3c155cfc846a88c1e54b855601163",
       "style": "IPY_MODEL_c91e6b5ec8fd4e3fbce02033e26274d4"
      }
     },
     "8b42c750321242ef9263b6bfeb9cf94a": {
      "model_module": "@jupyter-widgets/controls",
      "model_module_version": "1.2.0",
      "model_name": "IntTextModel",
      "state": {
       "description": "feat. size",
       "layout": "IPY_MODEL_ecceb57342d84d7eb2790085b645c9d5",
       "step": 1,
       "style": "IPY_MODEL_e07320cc570c4cb19f38f6d1aa6da5d5",
       "value": 3
      }
     },
     "8b6931748a42409d884c4454d3144696": {
      "model_module": "@jupyter-widgets/base",
      "model_module_version": "1.0.0",
      "model_name": "LayoutModel",
      "state": {}
     },
     "8b8f4ee2b429441f949a39a7e6b4907d": {
      "model_module": "@jupyter-widgets/controls",
      "model_module_version": "1.2.0",
      "model_name": "FloatTextModel",
      "state": {
       "layout": "IPY_MODEL_5452847ecfe44d2a98b86fb4875e64b3",
       "step": 0.1,
       "style": "IPY_MODEL_7251cff4abc34a61bd637e4fb3886404",
       "value": 1
      }
     },
     "8b90ed70d2554b48a466342454012047": {
      "model_module": "@jupyter-widgets/controls",
      "model_module_version": "1.2.0",
      "model_name": "BoundedIntTextModel",
      "state": {
       "description": "frame",
       "layout": "IPY_MODEL_df8dfe6ad0f143f28f5319492ffa643c",
       "max": 49,
       "style": "IPY_MODEL_3f3dff0ea23d4c0da42191b6105bdbd9"
      }
     },
     "8bc0589a899546c294dced800970d9b0": {
      "model_module": "@jupyter-widgets/controls",
      "model_module_version": "1.2.0",
      "model_name": "VBoxModel",
      "state": {
       "children": [
        "IPY_MODEL_07c8ae6842234a828cdc5b7ad6386b73",
        "IPY_MODEL_c7950bb3cfa846749605076ebf8fe9e6",
        "IPY_MODEL_a28c038042c54aa189617d6ce8c023b4",
        "IPY_MODEL_e98a03ff22104c9aafaced303ca0cc23",
        "IPY_MODEL_bc8765e56b834e90964fd735b31f2ee0",
        "IPY_MODEL_31b444c16f454933a68729399ccbbfdf"
       ],
       "layout": "IPY_MODEL_9781822393ab436f832e0374c469d0c8"
      }
     },
     "8beeb15f06a24f429a5f619463c7534d": {
      "model_module": "@jupyter-widgets/controls",
      "model_module_version": "1.2.0",
      "model_name": "DescriptionStyleModel",
      "state": {
       "description_width": ""
      }
     },
     "8c4bf6b5ba5a4628b6b2b222f16f06ec": {
      "model_module": "@jupyter-widgets/controls",
      "model_module_version": "1.2.0",
      "model_name": "DropdownModel",
      "state": {
       "_options_labels": [
        "Identity",
        "Cg",
        "Gaussian"
       ],
       "description": "find filter",
       "index": 1,
       "layout": "IPY_MODEL_d7cca073dbf945fe9549c63b26a0a8a5",
       "style": "IPY_MODEL_d7a2d3856bf24c8daa5c454b34f335ae"
      }
     },
     "8c618bf667984e6dba7a977fab592393": {
      "model_module": "@jupyter-widgets/base",
      "model_module_version": "1.0.0",
      "model_name": "LayoutModel",
      "state": {}
     },
     "8c98602f1d7f4432a45d0fda2735fd67": {
      "model_module": "@jupyter-widgets/base",
      "model_module_version": "1.0.0",
      "model_name": "LayoutModel",
      "state": {}
     },
     "8c9cc2e6767c4ccbb3209f8c4a732d67": {
      "model_module": "@jupyter-widgets/base",
      "model_module_version": "1.0.0",
      "model_name": "LayoutModel",
      "state": {
       "height": "150px",
       "width": "100%"
      }
     },
     "8cd31a6c9ff0466295c9f5b4db86a38d": {
      "model_module": "@jupyter-widgets/controls",
      "model_module_version": "1.2.0",
      "model_name": "HBoxModel",
      "state": {
       "children": [
        "IPY_MODEL_0e4f94f81e074cf5a19d35943215a729",
        "IPY_MODEL_6da3f3650bbf4872a7382a85a9a40aa6"
       ],
       "layout": "IPY_MODEL_b6fe90eea41749a7bce3105c113eb223"
      }
     },
     "8d055895f82c41d7b7c8b38876af1e7e": {
      "model_module": "@jupyter-widgets/controls",
      "model_module_version": "1.2.0",
      "model_name": "DescriptionStyleModel",
      "state": {
       "description_width": ""
      }
     },
     "8d0e07c0932148fe9f896e0bdb8ee446": {
      "model_module": "@jupyter-widgets/base",
      "model_module_version": "1.0.0",
      "model_name": "LayoutModel",
      "state": {}
     },
     "8d103f0587d54766bf25ae1c7cfdd53d": {
      "model_module": "@jupyter-widgets/controls",
      "model_module_version": "1.2.0",
      "model_name": "FloatTextModel",
      "state": {
       "description": "radius",
       "layout": "IPY_MODEL_b5eb7a59cbc243f9bc0d874649257b37",
       "step": 0.1,
       "style": "IPY_MODEL_161e8a067c8947aab46ac8fe5a4a11af",
       "value": 1
      }
     },
     "8d2ce95e587f4415ba3358ee8fc152a5": {
      "model_module": "@jupyter-widgets/base",
      "model_module_version": "1.0.0",
      "model_name": "LayoutModel",
      "state": {
       "width": "75%"
      }
     },
     "8d518e33c96c4d9aacb092476f183f2c": {
      "model_module": "@jupyter-widgets/controls",
      "model_module_version": "1.2.0",
      "model_name": "DescriptionStyleModel",
      "state": {
       "description_width": ""
      }
     },
     "8d671eebba524806afd5190d5e9a294e": {
      "model_module": "@jupyter-widgets/controls",
      "model_module_version": "1.2.0",
      "model_name": "SelectModel",
      "state": {
       "_options_labels": [
        "data/sensor-H57/cells-01_SAv-100k_SSS-H57-20k_000_.SPE"
       ],
       "index": 0,
       "layout": "IPY_MODEL_2481b947f1e64a2295066506b699d3bd",
       "style": "IPY_MODEL_7b82c042d2e84e6abda55cdaf4c9b65b"
      }
     },
     "8d75a98fccc24a73858cf40373ff49b1": {
      "model_module": "@jupyter-widgets/controls",
      "model_module_version": "1.2.0",
      "model_name": "DescriptionStyleModel",
      "state": {
       "description_width": ""
      }
     },
     "8da328fcd8204bd592c2e6cc3480b1d4": {
      "model_module": "@jupyter-widgets/base",
      "model_module_version": "1.0.0",
      "model_name": "LayoutModel",
      "state": {}
     },
     "8dc6f662a26d4004be642e35900832e6": {
      "model_module": "@jupyter-widgets/controls",
      "model_module_version": "1.2.0",
      "model_name": "CheckboxModel",
      "state": {
       "description": "Min. distance",
       "disabled": false,
       "indent": false,
       "layout": "IPY_MODEL_2cab9af1129d4fa09b95251563b39926",
       "style": "IPY_MODEL_9a5d6961b2a24084ac1439691cc73a7e",
       "value": true
      }
     },
     "8dcd3e877cc048e0af43a62bf72cd5d4": {
      "model_module": "@jupyter-widgets/controls",
      "model_module_version": "1.2.0",
      "model_name": "HBoxModel",
      "state": {
       "children": [
        "IPY_MODEL_0456f5bd127e43acb9f732da112bdd05",
        "IPY_MODEL_61736542fb91429ebfc4285de4794f3c"
       ],
       "layout": "IPY_MODEL_86dcef23bc4744319fe529d567185ca9"
      }
     },
     "8e38b4cd6178425bba8ba72effbc2a23": {
      "model_module": "@jupyter-widgets/controls",
      "model_module_version": "1.2.0",
      "model_name": "HBoxModel",
      "state": {
       "children": [
        "IPY_MODEL_4a19eae047724d1c8aef7b840f80f3f5",
        "IPY_MODEL_94113de96d1d4309b400da8d8abf3c04"
       ],
       "layout": "IPY_MODEL_89aa5d42d8eb4ebc90a7761d3dce4b75"
      }
     },
     "8e6c34cfb4904b0a87936b4f7c942bc5": {
      "model_module": "@jupyter-widgets/base",
      "model_module_version": "1.0.0",
      "model_name": "LayoutModel",
      "state": {
       "border": "1px solid gray"
      }
     },
     "8eb933fcf2094529bcfaa1d445261b92": {
      "model_module": "@jupyter-widgets/controls",
      "model_module_version": "1.2.0",
      "model_name": "FloatTextModel",
      "state": {
       "description": "min.",
       "layout": "IPY_MODEL_ab7a3e29338d4fde9471734de2214b6e",
       "step": 0.1,
       "style": "IPY_MODEL_c06cf69ddada43d0ab1f18c8c3045aa7",
       "value": 0.5
      }
     },
     "8ec6da2c67544898804aac810349c4c2": {
      "model_module": "@jupyter-widgets/base",
      "model_module_version": "1.0.0",
      "model_name": "LayoutModel",
      "state": {}
     },
     "8ece21e0bbc04f559be068553b2f2d6e": {
      "model_module": "@jupyter-widgets/controls",
      "model_module_version": "1.2.0",
      "model_name": "DescriptionStyleModel",
      "state": {
       "description_width": ""
      }
     },
     "8efaa6660bcd40e8bef473760f81a5cf": {
      "model_module": "@jupyter-widgets/controls",
      "model_module_version": "1.2.0",
      "model_name": "FloatTextModel",
      "state": {
       "description": "max.",
       "layout": "IPY_MODEL_d07a4186820840239ab8e5eb70813624",
       "step": 0.1,
       "style": "IPY_MODEL_79fed7d79c20410bb8dd6db061405c0c",
       "value": 2
      }
     },
     "8f03041c80844d6aac8a93c20c78e2c3": {
      "model_module": "@jupyter-widgets/controls",
      "model_module_version": "1.2.0",
      "model_name": "SliderStyleModel",
      "state": {
       "description_width": ""
      }
     },
     "8f1037d085144389a628066405742956": {
      "model_module": "@jupyter-widgets/controls",
      "model_module_version": "1.2.0",
      "model_name": "DescriptionStyleModel",
      "state": {
       "description_width": ""
      }
     },
     "8f419c9a97774aa7b8672e5b715e1279": {
      "model_module": "@jupyter-widgets/controls",
      "model_module_version": "1.2.0",
      "model_name": "FloatTextModel",
      "state": {
       "description": "min.",
       "layout": "IPY_MODEL_f11472961bf9417bb5f947a08586a9f8",
       "step": 0.1,
       "style": "IPY_MODEL_f79fb53f9f954bf5aed1318b836cf856",
       "value": 0.5
      }
     },
     "8f60a7b8105b4b2f8efcc28531ac63ee": {
      "model_module": "@jupyter-widgets/controls",
      "model_module_version": "1.2.0",
      "model_name": "ButtonModel",
      "state": {
       "description": "Auto",
       "layout": "IPY_MODEL_b452bb11186a4cf78f1e9b2d3fa131cb",
       "style": "IPY_MODEL_52cbb0bbe4ce4ad4b59ac491f14ffb7a"
      }
     },
     "8f8a4480e7a041a49dc9356e93bc2275": {
      "model_module": "@jupyter-widgets/controls",
      "model_module_version": "1.2.0",
      "model_name": "VBoxModel",
      "state": {
       "children": [
        "IPY_MODEL_0f71c59db5aa4ea2b4769b5fea8c042f",
        "IPY_MODEL_7c1fa466585b4c18bb1136d99db01e73",
        "IPY_MODEL_4235a193fe33482fab93e144a242265c"
       ],
       "layout": "IPY_MODEL_e3bdd03ca0ee4ed5bd7975bb27a948e7"
      }
     },
     "8fb1f61f7e624f7285afd816a6b4a06e": {
      "model_module": "@jupyter-widgets/controls",
      "model_module_version": "1.2.0",
      "model_name": "SelectModel",
      "state": {
       "_options_labels": [
        "data/beads/beads_000_.SPE",
        "data/beads/beads_001_.SPE",
        "data/beads/beads_002_.SPE",
        "data/beads/beads_003_.SPE",
        "data/beads/beads_004_.SPE",
        "data/beads/beads_005_.SPE",
        "data/beads/beads_006_.SPE",
        "data/beads/beads_007_.SPE",
        "data/beads/beads_008_.SPE",
        "data/beads/beads_009_.SPE"
       ],
       "index": 0,
       "layout": "IPY_MODEL_23bbf40415384f4396f29d0185ec83d1",
       "style": "IPY_MODEL_6eca4e54448c48fe8e6ed0300f3158c2"
      }
     },
     "8fb4b0fdb7c44e1ab8ed8e86e5f324f2": {
      "model_module": "@jupyter-widgets/base",
      "model_module_version": "1.0.0",
      "model_name": "LayoutModel",
      "state": {
       "width": "auto"
      }
     },
     "8fdb88a13c5d4aaa8ea7127d2a7dbebf": {
      "model_module": "@jupyter-widgets/base",
      "model_module_version": "1.0.0",
      "model_name": "LayoutModel",
      "state": {}
     },
     "8ff9e205eed647399c279ffee532336f": {
      "model_module": "@jupyter-widgets/controls",
      "model_module_version": "1.2.0",
      "model_name": "DropdownModel",
      "state": {
       "_options_labels": [
        "Identity",
        "Cg",
        "Gaussian"
       ],
       "description": "find filter",
       "index": 0,
       "layout": "IPY_MODEL_97f6d85fbe0b4e66a9a553343ca32256",
       "style": "IPY_MODEL_64f9c0fdfd7b40888021bf14afd2807a"
      }
     },
     "900defe2db1a44ca9b66c0e478878a1f": {
      "model_module": "@jupyter-widgets/controls",
      "model_module_version": "1.2.0",
      "model_name": "FloatTextModel",
      "state": {
       "description": "threshold",
       "layout": "IPY_MODEL_6733a68794e343ab8558817d1c611c3f",
       "step": 10,
       "style": "IPY_MODEL_560b9ab308b242a0aae998cdc825f1f8",
       "value": 100
      }
     },
     "9062cf5159e6492689fe459d9cd70ec5": {
      "model_module": "@jupyter-widgets/base",
      "model_module_version": "1.0.0",
      "model_name": "LayoutModel",
      "state": {}
     },
     "9071443fbf604febaa69a42219d26e73": {
      "model_module": "@jupyter-widgets/base",
      "model_module_version": "1.0.0",
      "model_name": "LayoutModel",
      "state": {
       "display": "inline"
      }
     },
     "908ebcf6e38043ebb72d731b3bc73225": {
      "model_module": "@jupyter-widgets/controls",
      "model_module_version": "1.2.0",
      "model_name": "DescriptionStyleModel",
      "state": {
       "description_width": ""
      }
     },
     "90a2efcdf54e436a95a036eb331dd6a6": {
      "model_module": "@jupyter-widgets/controls",
      "model_module_version": "1.2.0",
      "model_name": "DropdownModel",
      "state": {
       "_options_labels": [
        "Identity",
        "Cg",
        "Gaussian"
       ],
       "description": "find filter",
       "index": 1,
       "layout": "IPY_MODEL_c9c0bd8e91e44168bacd248f4ef19544",
       "style": "IPY_MODEL_6746c2c765074195a2b55939200552bf"
      }
     },
     "90aad56497fd4a5ea38f011e38008929": {
      "model_module": "@jupyter-widgets/base",
      "model_module_version": "1.0.0",
      "model_name": "LayoutModel",
      "state": {
       "display": "none"
      }
     },
     "90b98469181e4b4891ca28c13a27c2d8": {
      "model_module": "@jupyter-widgets/controls",
      "model_module_version": "1.2.0",
      "model_name": "IntTextModel",
      "state": {
       "description": "feat. size",
       "layout": "IPY_MODEL_f443d29c5dd3424c9ade9b292ee221a8",
       "step": 1,
       "style": "IPY_MODEL_c46874c368de438694b59a5b5b8ea525",
       "value": 3
      }
     },
     "90d47bd64de148b3ad13b9826f6860b0": {
      "model_module": "@jupyter-widgets/controls",
      "model_module_version": "1.2.0",
      "model_name": "IntRangeSliderModel",
      "state": {
       "_model_name": "IntRangeSliderModel",
       "_view_name": "IntRangeSliderView",
       "layout": "IPY_MODEL_914e34b1d579477a999a5cd71464a7f4",
       "max": 65535,
       "style": "IPY_MODEL_ed60be68de04477a94324f0eb040ef4d",
       "value": [
        288,
        827
       ]
      }
     },
     "90e802b1fc6a4e63aaed8c6f15075403": {
      "model_module": "@jupyter-widgets/base",
      "model_module_version": "1.0.0",
      "model_name": "LayoutModel",
      "state": {
       "display": "flex",
       "flex_flow": "column wrap",
       "width": "66%"
      }
     },
     "911e291299a9413694e2a31039eee35d": {
      "model_module": "@jupyter-widgets/controls",
      "model_module_version": "1.2.0",
      "model_name": "ButtonStyleModel",
      "state": {}
     },
     "912e622704314bf5bdd8598a1a809195": {
      "model_module": "@jupyter-widgets/base",
      "model_module_version": "1.0.0",
      "model_name": "LayoutModel",
      "state": {}
     },
     "9133c6044fa44763a8e9ed3a2cfc66c3": {
      "model_module": "@jupyter-widgets/controls",
      "model_module_version": "1.2.0",
      "model_name": "DropdownModel",
      "state": {
       "_options_labels": [
        "2d_fixed",
        "2d",
        "3d"
       ],
       "description": "model",
       "index": 1,
       "layout": "IPY_MODEL_dc9b2fd2f53a40a29031dd96781ef514",
       "style": "IPY_MODEL_8200b00ac8174f8b913f4fb2f5aeb418"
      }
     },
     "9138d8a891bb4b6c8a15a1bfb8e4c597": {
      "model_module": "@jupyter-widgets/controls",
      "model_module_version": "1.2.0",
      "model_name": "DropdownModel",
      "state": {
       "_options_labels": [
        "Identity",
        "Cg",
        "Gaussian"
       ],
       "description": "find filter",
       "index": 1,
       "layout": "IPY_MODEL_94a41668fabf46d19064c77d567daade",
       "style": "IPY_MODEL_34ae739732e64f14943fb575fb8acb08"
      }
     },
     "914e34b1d579477a999a5cd71464a7f4": {
      "model_module": "@jupyter-widgets/base",
      "model_module_version": "1.0.0",
      "model_name": "LayoutModel",
      "state": {
       "width": "75%"
      }
     },
     "916639153d57402f8b01fece3aade51d": {
      "model_module": "@jupyter-widgets/controls",
      "model_module_version": "1.2.0",
      "model_name": "DescriptionStyleModel",
      "state": {
       "description_width": ""
      }
     },
     "917606e537914db69ef6a9a8c9542c4e": {
      "model_module": "@jupyter-widgets/controls",
      "model_module_version": "1.2.0",
      "model_name": "DescriptionStyleModel",
      "state": {
       "description_width": ""
      }
     },
     "91965d064d4e404fb585454f0d66f835": {
      "model_module": "@jupyter-widgets/controls",
      "model_module_version": "1.2.0",
      "model_name": "VBoxModel",
      "state": {
       "children": [
        "IPY_MODEL_f4b1ca26edcd4aeba20d0a79cfd32d91",
        "IPY_MODEL_9dc0b1c84fd74a2b8b39ec91bcc1e1e7",
        "IPY_MODEL_89d8894014ba4cf4a21db7afed9d625e",
        "IPY_MODEL_3f9418e628d24e748890f5c4dda6ace0",
        "IPY_MODEL_0ec48eb6111c4e2d84fcf0f14db3e192",
        "IPY_MODEL_3a2d6fdf137f40619d5b0e4ea9344a73"
       ],
       "layout": "IPY_MODEL_7352c66be8614d1fab680d28cd01c428"
      }
     },
     "91bc4b10676e4c61858563567dd750ca": {
      "model_module": "@jupyter-widgets/controls",
      "model_module_version": "1.2.0",
      "model_name": "DescriptionStyleModel",
      "state": {
       "description_width": ""
      }
     },
     "91e07288880e4ec1acbb5ce39898e869": {
      "model_module": "@jupyter-widgets/controls",
      "model_module_version": "1.2.0",
      "model_name": "IntRangeSliderModel",
      "state": {
       "_model_name": "IntRangeSliderModel",
       "_view_name": "IntRangeSliderView",
       "layout": "IPY_MODEL_5333a79a55cc45c49ec238230d529949",
       "max": 65535,
       "style": "IPY_MODEL_3560dd9389c3463f86819f0c6634d24c",
       "value": [
        288,
        891
       ]
      }
     },
     "91e79b1b840744d9b854fdd8077678e3": {
      "model_module": "@jupyter-widgets/base",
      "model_module_version": "1.0.0",
      "model_name": "LayoutModel",
      "state": {
       "width": "auto"
      }
     },
     "920cafbe294c4239bb9b2febbcf8b6c2": {
      "model_module": "@jupyter-widgets/base",
      "model_module_version": "1.0.0",
      "model_name": "LayoutModel",
      "state": {}
     },
     "921181737b0045eb8e603a257dd72842": {
      "model_module": "@jupyter-widgets/controls",
      "model_module_version": "1.2.0",
      "model_name": "SliderStyleModel",
      "state": {
       "description_width": ""
      }
     },
     "923b980f12c8486992a45c2467f1e3fb": {
      "model_module": "@jupyter-widgets/controls",
      "model_module_version": "1.2.0",
      "model_name": "VBoxModel",
      "state": {
       "children": [
        "IPY_MODEL_a2342805aa8d4236af7b0cc074c489bc",
        "IPY_MODEL_c838d53e5add40f09d6caa9df248bd69",
        "IPY_MODEL_dea425607c3c4f77828d2dd2c9b30da5"
       ],
       "layout": "IPY_MODEL_65104cf6ab1c41809e71500f9e9981a8"
      }
     },
     "9258a5204c544f49bff0a37766c614e7": {
      "model_module": "@jupyter-widgets/base",
      "model_module_version": "1.0.0",
      "model_name": "LayoutModel",
      "state": {}
     },
     "9281a656a23d43bf85a38bb834ee710c": {
      "model_module": "@jupyter-widgets/controls",
      "model_module_version": "1.2.0",
      "model_name": "CheckboxModel",
      "state": {
       "description": "Show loc.",
       "disabled": false,
       "indent": false,
       "layout": "IPY_MODEL_f50e9f5e514d4963ba51a75e6d336b29",
       "style": "IPY_MODEL_5e012965fda74d719e889094e173e8de",
       "value": true
      }
     },
     "92b09dfd88004c9e8778def1c9f699a8": {
      "model_module": "@jupyter-widgets/base",
      "model_module_version": "1.0.0",
      "model_name": "LayoutModel",
      "state": {}
     },
     "92c035acd4c94c8f825860b4865061a3": {
      "model_module": "@jupyter-widgets/controls",
      "model_module_version": "1.2.0",
      "model_name": "DescriptionStyleModel",
      "state": {
       "description_width": ""
      }
     },
     "932e06afd8a8412d8d84c05ece0810d7": {
      "model_module": "@jupyter-widgets/base",
      "model_module_version": "1.0.0",
      "model_name": "LayoutModel",
      "state": {}
     },
     "93997ff8b3ac48d5b8db285ff78a313d": {
      "model_module": "@jupyter-widgets/controls",
      "model_module_version": "1.2.0",
      "model_name": "FloatTextModel",
      "state": {
       "description": "min.",
       "layout": "IPY_MODEL_b1da71adf5fc4a4fb2dc775a70522d5e",
       "step": 0.1,
       "style": "IPY_MODEL_d724312b449143348409eb572e8beb38",
       "value": 0.5
      }
     },
     "93b9e5519cb747339a8132d5eb7d4762": {
      "model_module": "@jupyter-widgets/base",
      "model_module_version": "1.0.0",
      "model_name": "LayoutModel",
      "state": {}
     },
     "93f07b84d3e64ff991362ae79ce94c8e": {
      "model_module": "@jupyter-widgets/controls",
      "model_module_version": "1.2.0",
      "model_name": "DescriptionStyleModel",
      "state": {
       "description_width": ""
      }
     },
     "94113de96d1d4309b400da8d8abf3c04": {
      "model_module": "@jupyter-widgets/controls",
      "model_module_version": "1.2.0",
      "model_name": "VBoxModel",
      "state": {
       "children": [
        "IPY_MODEL_874f056b41604b95a1022eb11cdd193c",
        "IPY_MODEL_0f1e09de113d4707bfbd3b083df35a52",
        "IPY_MODEL_5f7efa908d984902a244918b19c19735",
        "IPY_MODEL_897513c42c1949debca60cc5649d6001",
        "IPY_MODEL_72a18521cd684806844a0b871bc72c6a",
        "IPY_MODEL_ef11086c136645e6bcb1b062b9132344"
       ],
       "layout": "IPY_MODEL_a85f8868bd72443da6283c84785b6859"
      }
     },
     "9427081b205c46adabdbcf3c13f58b24": {
      "model_module": "@jupyter-widgets/base",
      "model_module_version": "1.0.0",
      "model_name": "LayoutModel",
      "state": {}
     },
     "944e2ebea9424aefbe1005fbcfdc0b3d": {
      "model_module": "@jupyter-widgets/base",
      "model_module_version": "1.0.0",
      "model_name": "LayoutModel",
      "state": {
       "display": "none"
      }
     },
     "946af716b9914b46ba07d1bbcdc37da6": {
      "model_module": "@jupyter-widgets/controls",
      "model_module_version": "1.2.0",
      "model_name": "SliderStyleModel",
      "state": {
       "description_width": ""
      }
     },
     "9484f4f26805468c8f787a313c37e4a3": {
      "model_module": "@jupyter-widgets/base",
      "model_module_version": "1.0.0",
      "model_name": "LayoutModel",
      "state": {}
     },
     "9488c92fc19e478491c10ae5c8ac6ad4": {
      "model_module": "@jupyter-widgets/base",
      "model_module_version": "1.0.0",
      "model_name": "LayoutModel",
      "state": {
       "display": "none"
      }
     },
     "94a04b48808646259dae3c75bf1e471a": {
      "model_module": "@jupyter-widgets/controls",
      "model_module_version": "1.2.0",
      "model_name": "DescriptionStyleModel",
      "state": {
       "description_width": ""
      }
     },
     "94a41668fabf46d19064c77d567daade": {
      "model_module": "@jupyter-widgets/base",
      "model_module_version": "1.0.0",
      "model_name": "LayoutModel",
      "state": {}
     },
     "94aeddc830d34daaa6518c6373b3ad59": {
      "model_module": "@jupyter-widgets/controls",
      "model_module_version": "1.2.0",
      "model_name": "BoundedIntTextModel",
      "state": {
       "description": "frame",
       "layout": "IPY_MODEL_2b58c109e6ac46239d4f9d6bdda564c4",
       "max": 0,
       "style": "IPY_MODEL_770d17bacf144e8aa53f0f05f9f3b50a"
      }
     },
     "94c13257598e4e7e88ea93fb93ad8488": {
      "model_module": "@jupyter-widgets/controls",
      "model_module_version": "1.2.0",
      "model_name": "DescriptionStyleModel",
      "state": {
       "description_width": ""
      }
     },
     "94d8a07cfa2b403dad859520ef2160c1": {
      "model_module": "@jupyter-widgets/controls",
      "model_module_version": "1.2.0",
      "model_name": "HBoxModel",
      "state": {
       "children": [
        "IPY_MODEL_71fc787b64ba42bea43c4809f022fbf0",
        "IPY_MODEL_282166fd839b46a8975d5295b184eda0"
       ],
       "layout": "IPY_MODEL_12980f81724142febe19018a4167f93d"
      }
     },
     "94f4193040594a02ae652bd3d3e3d594": {
      "model_module": "@jupyter-widgets/controls",
      "model_module_version": "1.2.0",
      "model_name": "DescriptionStyleModel",
      "state": {
       "description_width": ""
      }
     },
     "9524dc61fde742a9bac5f244577b797a": {
      "model_module": "@jupyter-widgets/base",
      "model_module_version": "1.0.0",
      "model_name": "LayoutModel",
      "state": {
       "width": "auto"
      }
     },
     "952d0c8e4861453a846be79d5c802d70": {
      "model_module": "@jupyter-widgets/base",
      "model_module_version": "1.0.0",
      "model_name": "LayoutModel",
      "state": {}
     },
     "955beeb69d4544638a89c228bc8f7b5c": {
      "model_module": "@jupyter-widgets/base",
      "model_module_version": "1.0.0",
      "model_name": "LayoutModel",
      "state": {}
     },
     "958e349bb2f843249adb8d750bd6ce15": {
      "model_module": "@jupyter-widgets/base",
      "model_module_version": "1.0.0",
      "model_name": "LayoutModel",
      "state": {}
     },
     "95f7c8157bf64759832ddcc4b2e44fed": {
      "model_module": "@jupyter-widgets/controls",
      "model_module_version": "1.2.0",
      "model_name": "DescriptionStyleModel",
      "state": {
       "description_width": ""
      }
     },
     "96306988e5d94606a1f1a51d0796167d": {
      "model_module": "@jupyter-widgets/base",
      "model_module_version": "1.0.0",
      "model_name": "LayoutModel",
      "state": {
       "width": "100%"
      }
     },
     "963fcc50330b45d085af26165f78fcfd": {
      "model_module": "@jupyter-widgets/controls",
      "model_module_version": "1.2.0",
      "model_name": "IntTextModel",
      "state": {
       "description": "feat. size",
       "layout": "IPY_MODEL_d37c3c26d37b4853b33e5892e85b76f3",
       "step": 1,
       "style": "IPY_MODEL_d790fccb856d4eb0ac598b39495ac337",
       "value": 3
      }
     },
     "96506e07324c4510b46d91e7e827b24b": {
      "model_module": "@jupyter-widgets/controls",
      "model_module_version": "1.2.0",
      "model_name": "DescriptionStyleModel",
      "state": {
       "description_width": ""
      }
     },
     "96556a9c35bf483a814b85604840b2e5": {
      "model_module": "@jupyter-widgets/controls",
      "model_module_version": "1.2.0",
      "model_name": "DescriptionStyleModel",
      "state": {
       "description_width": ""
      }
     },
     "967d6e4a08b54b6a8c9f79d6a8d495ab": {
      "model_module": "@jupyter-widgets/base",
      "model_module_version": "1.0.0",
      "model_name": "LayoutModel",
      "state": {
       "display": "none"
      }
     },
     "96c75463f6154453969f9a34b12ad577": {
      "model_module": "@jupyter-widgets/controls",
      "model_module_version": "1.2.0",
      "model_name": "DescriptionStyleModel",
      "state": {
       "description_width": ""
      }
     },
     "96cc0367d7534bdda87c1689c2577662": {
      "model_module": "@jupyter-widgets/controls",
      "model_module_version": "1.2.0",
      "model_name": "CheckboxModel",
      "state": {
       "description": "Size range",
       "disabled": false,
       "indent": false,
       "layout": "IPY_MODEL_d849f8b455314dd9bff70caa8a14f535",
       "style": "IPY_MODEL_0c124c81a4ff4f639e468eb91b806fcc",
       "value": false
      }
     },
     "96d1269aed614efa9f8cc6f05200bace": {
      "model_module": "@jupyter-widgets/base",
      "model_module_version": "1.0.0",
      "model_name": "LayoutModel",
      "state": {
       "height": "150px",
       "width": "100%"
      }
     },
     "970b112625964fd78495158398671b0e": {
      "model_module": "@jupyter-widgets/controls",
      "model_module_version": "1.2.0",
      "model_name": "DescriptionStyleModel",
      "state": {
       "description_width": ""
      }
     },
     "9740de8672ba4075ba979d71501a1f50": {
      "model_module": "@jupyter-widgets/controls",
      "model_module_version": "1.2.0",
      "model_name": "DescriptionStyleModel",
      "state": {
       "description_width": ""
      }
     },
     "9781822393ab436f832e0374c469d0c8": {
      "model_module": "@jupyter-widgets/base",
      "model_module_version": "1.0.0",
      "model_name": "LayoutModel",
      "state": {
       "display": "flex",
       "flex_flow": "column wrap",
       "width": "66%"
      }
     },
     "97b53a45b6294741ac24415026d69677": {
      "model_module": "@jupyter-widgets/controls",
      "model_module_version": "1.2.0",
      "model_name": "DescriptionStyleModel",
      "state": {
       "description_width": ""
      }
     },
     "97f6d85fbe0b4e66a9a553343ca32256": {
      "model_module": "@jupyter-widgets/base",
      "model_module_version": "1.0.0",
      "model_name": "LayoutModel",
      "state": {}
     },
     "97f9733d2c474b21ba686340313e78ef": {
      "model_module": "@jupyter-widgets/controls",
      "model_module_version": "1.2.0",
      "model_name": "IntRangeSliderModel",
      "state": {
       "_model_name": "IntRangeSliderModel",
       "_view_name": "IntRangeSliderView",
       "layout": "IPY_MODEL_ba4b38a72c384dad96d19ead478c0aba",
       "max": 65535,
       "style": "IPY_MODEL_707a10ea55034a038f0ae84fe286cc49",
       "value": [
        134,
        25393
       ]
      }
     },
     "9859e0a4f72b43af9a1a7f26e9c2eb1d": {
      "model_module": "@jupyter-widgets/base",
      "model_module_version": "1.0.0",
      "model_name": "LayoutModel",
      "state": {
       "height": "150px",
       "width": "100%"
      }
     },
     "98665b49c57f49a196bb7bd30a48840d": {
      "model_module": "@jupyter-widgets/base",
      "model_module_version": "1.0.0",
      "model_name": "LayoutModel",
      "state": {}
     },
     "98a819d500ca469595196e98276ee70c": {
      "model_module": "@jupyter-widgets/base",
      "model_module_version": "1.0.0",
      "model_name": "LayoutModel",
      "state": {
       "width": "100%"
      }
     },
     "98c40fa797494ee994e63aebeff97239": {
      "model_module": "@jupyter-widgets/controls",
      "model_module_version": "1.2.0",
      "model_name": "CheckboxModel",
      "state": {
       "description": "Show loc.",
       "disabled": false,
       "indent": false,
       "layout": "IPY_MODEL_bce89a422b444942868646b14b761ac3",
       "style": "IPY_MODEL_19babbab651e40e7b31d69f0933dcd97",
       "value": true
      }
     },
     "98d89063aebc425cabee62a5f8cf420e": {
      "model_module": "@jupyter-widgets/controls",
      "model_module_version": "1.2.0",
      "model_name": "LabelModel",
      "state": {
       "layout": "IPY_MODEL_912e622704314bf5bdd8598a1a809195",
       "style": "IPY_MODEL_60a9c1ea4c26432ea0ae7fdd3a5c2026",
       "value": "Tracking ctrl-H57/no-cells_SAv-100k_SSS-ctrl-H57-50k_029_.SPE (213/213)"
      }
     },
     "9911ce34f11f43ec81604a8e6e1ae269": {
      "model_module": "@jupyter-widgets/controls",
      "model_module_version": "1.2.0",
      "model_name": "IntTextModel",
      "state": {
       "description": "feat. size",
       "layout": "IPY_MODEL_9071443fbf604febaa69a42219d26e73",
       "step": 1,
       "style": "IPY_MODEL_0bb803444c5846469a6bf6be5e47a7e4",
       "value": 3
      }
     },
     "9947c25988e0400daccfea90915c9ee2": {
      "model_module": "@jupyter-widgets/controls",
      "model_module_version": "1.2.0",
      "model_name": "DescriptionStyleModel",
      "state": {
       "description_width": ""
      }
     },
     "99804c67a2dc4f31b98caced0eb5e5ec": {
      "model_module": "@jupyter-widgets/controls",
      "model_module_version": "1.2.0",
      "model_name": "ButtonModel",
      "state": {
       "description": "Auto",
       "layout": "IPY_MODEL_b2d702bc464b437fa34a4c0765de09df",
       "style": "IPY_MODEL_f8541c4584d14f89aaa0aa54e92e7244"
      }
     },
     "999925651d7242988684fba28c027481": {
      "model_module": "@jupyter-widgets/controls",
      "model_module_version": "1.2.0",
      "model_name": "IntTextModel",
      "state": {
       "description": "feat. size",
       "layout": "IPY_MODEL_3c29b07ceaa2490b940db8fc6f9eff30",
       "step": 1,
       "style": "IPY_MODEL_5294824b870b4d97bf697a93fce654d2",
       "value": 3
      }
     },
     "99ac8c78982f43ed9a357414fce0e531": {
      "model_module": "@jupyter-widgets/controls",
      "model_module_version": "1.2.0",
      "model_name": "VBoxModel",
      "state": {
       "children": [
        "IPY_MODEL_8c4bf6b5ba5a4628b6b2b222f16f06ec",
        "IPY_MODEL_90b98469181e4b4891ca28c13a27c2d8",
        "IPY_MODEL_e1a105091162443aaadaede73df61fab"
       ],
       "layout": "IPY_MODEL_8b1e427c35654164ae46d5138758bafc"
      }
     },
     "99c464f01fd644c0a79237b476adc7af": {
      "model_module": "@jupyter-widgets/controls",
      "model_module_version": "1.2.0",
      "model_name": "DescriptionStyleModel",
      "state": {
       "description_width": ""
      }
     },
     "99ef0f7e3fd24774b0c3d6b38f0814d9": {
      "model_module": "@jupyter-widgets/controls",
      "model_module_version": "1.2.0",
      "model_name": "FloatTextModel",
      "state": {
       "layout": "IPY_MODEL_b4b87d2daf8d4354bc4aeded7bbb337a",
       "step": 0.1,
       "style": "IPY_MODEL_edd9c9425ed94f2195ebe182c687351a",
       "value": 1
      }
     },
     "99f1ee486e0e4c74905797cdf8833326": {
      "model_module": "@jupyter-widgets/base",
      "model_module_version": "1.0.0",
      "model_name": "LayoutModel",
      "state": {
       "display": "flex",
       "flex_flow": "column wrap",
       "width": "66%"
      }
     },
     "9a13d87c2d0e4accaae306bf2e17d6f8": {
      "model_module": "@jupyter-widgets/base",
      "model_module_version": "1.0.0",
      "model_name": "LayoutModel",
      "state": {}
     },
     "9a22aab825cb4dfdb18cfdf79c3177b5": {
      "model_module": "@jupyter-widgets/base",
      "model_module_version": "1.0.0",
      "model_name": "LayoutModel",
      "state": {
       "width": "auto"
      }
     },
     "9a5d6961b2a24084ac1439691cc73a7e": {
      "model_module": "@jupyter-widgets/controls",
      "model_module_version": "1.2.0",
      "model_name": "DescriptionStyleModel",
      "state": {
       "description_width": ""
      }
     },
     "9a5f9e52cc0b433c9be07791633d55fb": {
      "model_module": "@jupyter-widgets/controls",
      "model_module_version": "1.2.0",
      "model_name": "CheckboxModel",
      "state": {
       "description": "Min. distance",
       "disabled": false,
       "indent": false,
       "layout": "IPY_MODEL_b127d2a3cc3541b78a417709177e71a4",
       "style": "IPY_MODEL_fcf38aa1e3444f419749a2291f9d9561",
       "value": false
      }
     },
     "9a954b9891c644eba6660740314c3850": {
      "model_module": "@jupyter-widgets/base",
      "model_module_version": "1.0.0",
      "model_name": "LayoutModel",
      "state": {
       "display": "none"
      }
     },
     "9aca44609f2a49c7bd106e64bd51552d": {
      "model_module": "@jupyter-widgets/controls",
      "model_module_version": "1.2.0",
      "model_name": "DescriptionStyleModel",
      "state": {
       "description_width": ""
      }
     },
     "9aee29ab4cc848afaf842d2d5646e63a": {
      "model_module": "@jupyter-widgets/controls",
      "model_module_version": "1.2.0",
      "model_name": "VBoxModel",
      "state": {
       "children": [
        "IPY_MODEL_c13c87d8a61b400294b808a93d1b5eec",
        "IPY_MODEL_5aa0c9d1e5ab43acb48a9a4b2e234ec2"
       ],
       "layout": "IPY_MODEL_c0cb02d39b9b41a9a00970f9fd86b677"
      }
     },
     "9afd4d9e38e94b159e27835ab50dbb0b": {
      "model_module": "@jupyter-widgets/controls",
      "model_module_version": "1.2.0",
      "model_name": "ButtonModel",
      "state": {
       "description": "Auto",
       "layout": "IPY_MODEL_a5cd9ebb3bbe4ea698491469361608d4",
       "style": "IPY_MODEL_0cd50c8a59d14bb2ba55e998b7433045"
      }
     },
     "9afe321bb7c8441bac36317431dc9236": {
      "model_module": "@jupyter-widgets/base",
      "model_module_version": "1.0.0",
      "model_name": "LayoutModel",
      "state": {
       "width": "auto"
      }
     },
     "9b455933d6b64c72934aae3c812c8039": {
      "model_module": "@jupyter-widgets/base",
      "model_module_version": "1.0.0",
      "model_name": "LayoutModel",
      "state": {}
     },
     "9b53051365464343a586c20b7ee325f3": {
      "model_module": "@jupyter-widgets/base",
      "model_module_version": "1.0.0",
      "model_name": "LayoutModel",
      "state": {}
     },
     "9bae719b9229446abcc2fa83c9e02142": {
      "model_module": "@jupyter-widgets/controls",
      "model_module_version": "1.2.0",
      "model_name": "DescriptionStyleModel",
      "state": {
       "description_width": ""
      }
     },
     "9bd1f3791de44324b6571f819079f9b9": {
      "model_module": "@jupyter-widgets/controls",
      "model_module_version": "1.2.0",
      "model_name": "HBoxModel",
      "state": {
       "children": [
        "IPY_MODEL_694f9df0ed034285af749b747bf2bb72",
        "IPY_MODEL_7d13a996cd214e179de14b9f3f64a524"
       ],
       "layout": "IPY_MODEL_0d6a2440340e489fad4981a43b1605fb"
      }
     },
     "9c1237db10024290bd907058ca89ce61": {
      "model_module": "@jupyter-widgets/base",
      "model_module_version": "1.0.0",
      "model_name": "LayoutModel",
      "state": {
       "display": "none"
      }
     },
     "9c1c69452a7f4e77b69c536b081d48b4": {
      "model_module": "@jupyter-widgets/controls",
      "model_module_version": "1.2.0",
      "model_name": "CheckboxModel",
      "state": {
       "description": "Show loc.",
       "disabled": false,
       "indent": false,
       "layout": "IPY_MODEL_cbaef955669847aea4d6eeda772fc47f",
       "style": "IPY_MODEL_ea337e089ffe4346ad274bae74d547e6",
       "value": true
      }
     },
     "9c53dadb0022460fbbd471c74e179ac7": {
      "model_module": "@jupyter-widgets/base",
      "model_module_version": "1.0.0",
      "model_name": "LayoutModel",
      "state": {
       "display": "none"
      }
     },
     "9c5aa012a6e3431087ea07844a161eb2": {
      "model_module": "@jupyter-widgets/base",
      "model_module_version": "1.0.0",
      "model_name": "LayoutModel",
      "state": {
       "display": "none"
      }
     },
     "9cd8c13726d9400fb744a6ad4f4ee915": {
      "model_module": "@jupyter-widgets/controls",
      "model_module_version": "1.2.0",
      "model_name": "DescriptionStyleModel",
      "state": {
       "description_width": ""
      }
     },
     "9d4a9019dc9c48ee987d1e204cb5dfa8": {
      "model_module": "@jupyter-widgets/controls",
      "model_module_version": "1.2.0",
      "model_name": "DescriptionStyleModel",
      "state": {
       "description_width": ""
      }
     },
     "9d762642fa554e169ab393c2a204d6d9": {
      "model_module": "@jupyter-widgets/base",
      "model_module_version": "1.0.0",
      "model_name": "LayoutModel",
      "state": {
       "display": "none"
      }
     },
     "9dc0b1c84fd74a2b8b39ec91bcc1e1e7": {
      "model_module": "@jupyter-widgets/controls",
      "model_module_version": "1.2.0",
      "model_name": "DropdownModel",
      "state": {
       "_options_labels": [
        "2d_fixed",
        "2d",
        "3d"
       ],
       "description": "model",
       "index": 1,
       "layout": "IPY_MODEL_479b92295e7c465fbafbc723031a2bf4",
       "style": "IPY_MODEL_8a6b8ef7ce7f4b76b1c70a9cbec92a5f"
      }
     },
     "9dc7aaed167b4dd5969d056120e38a5c": {
      "model_module": "@jupyter-widgets/base",
      "model_module_version": "1.0.0",
      "model_name": "LayoutModel",
      "state": {}
     },
     "9df44ccbe9d64083b3a5dcdfa81c50fc": {
      "model_module": "@jupyter-widgets/controls",
      "model_module_version": "1.2.0",
      "model_name": "DescriptionStyleModel",
      "state": {
       "description_width": ""
      }
     },
     "9e11f1e5ce9c4af2b3b3be687dd64a61": {
      "model_module": "@jupyter-widgets/controls",
      "model_module_version": "1.2.0",
      "model_name": "DropdownModel",
      "state": {
       "_options_labels": [
        "2d_fixed",
        "2d",
        "3d"
       ],
       "description": "model",
       "index": 1,
       "layout": "IPY_MODEL_8b6931748a42409d884c4454d3144696",
       "style": "IPY_MODEL_69e2f158e3144f9e8cbbc34f66df13fc"
      }
     },
     "9e4ae6a9292d4d9fbf87d5349ce243a7": {
      "model_module": "@jupyter-widgets/controls",
      "model_module_version": "1.2.0",
      "model_name": "SelectModel",
      "state": {
       "_options_labels": [
        "data/beads/beads_000_.SPE",
        "data/beads/beads_001_.SPE",
        "data/beads/beads_002_.SPE",
        "data/beads/beads_003_.SPE",
        "data/beads/beads_004_.SPE",
        "data/beads/beads_005_.SPE",
        "data/beads/beads_006_.SPE",
        "data/beads/beads_007_.SPE",
        "data/beads/beads_008_.SPE",
        "data/beads/beads_009_.SPE"
       ],
       "index": 0,
       "layout": "IPY_MODEL_4f60f460a5874e3e85ec8d90b8d1d860",
       "style": "IPY_MODEL_80a9910d37f34e0d9f9bca42f24e1a37"
      }
     },
     "9edbea2a76a24bde873325ba6c8d66cb": {
      "model_module": "@jupyter-widgets/controls",
      "model_module_version": "1.2.0",
      "model_name": "DescriptionStyleModel",
      "state": {
       "description_width": ""
      }
     },
     "9eefa54f1b744cc7b4b48ca06b4b0279": {
      "model_module": "@jupyter-widgets/controls",
      "model_module_version": "1.2.0",
      "model_name": "HBoxModel",
      "state": {
       "children": [
        "IPY_MODEL_cf9cc20b63d047b99a04d38292f2ba64",
        "IPY_MODEL_beadb326477547afa2bb70de10978a4d"
       ],
       "layout": "IPY_MODEL_3a6678335a474892a86e82b0edae6bbf"
      }
     },
     "9f26e9bc88f3473ebf794e68fa66a789": {
      "model_module": "@jupyter-widgets/base",
      "model_module_version": "1.0.0",
      "model_name": "LayoutModel",
      "state": {}
     },
     "9f40e8bad80442dcaece2e410a1f9e6f": {
      "model_module": "@jupyter-widgets/controls",
      "model_module_version": "1.2.0",
      "model_name": "VBoxModel",
      "state": {
       "children": [
        "IPY_MODEL_80755e8cd72a466ba04fa2342cc4a2c4",
        "IPY_MODEL_db401807dd224cf9b09e0b6bfce6b878",
        "IPY_MODEL_deb869177dc842ffbca85924bb7b3bac"
       ],
       "layout": "IPY_MODEL_5e229349f7fe437488060da11ce4b070"
      }
     },
     "9f4b337158754cf8a1e15e2ec2c8a65c": {
      "model_module": "@jupyter-widgets/base",
      "model_module_version": "1.0.0",
      "model_name": "LayoutModel",
      "state": {}
     },
     "9f5cec8de4394f3cb422e340329abbd4": {
      "model_module": "@jupyter-widgets/controls",
      "model_module_version": "1.2.0",
      "model_name": "FloatTextModel",
      "state": {
       "layout": "IPY_MODEL_6f8df1c5d88846d986fed676f466cb6c",
       "step": 0.1,
       "style": "IPY_MODEL_09c44b7191ff4e899246f49643253bb7",
       "value": 1
      }
     },
     "9fdbc4fb133d47bdab2d81519a664f88": {
      "model_module": "@jupyter-widgets/controls",
      "model_module_version": "1.2.0",
      "model_name": "DescriptionStyleModel",
      "state": {
       "description_width": ""
      }
     },
     "a00cbf50657b424287aeafdf5cff1a05": {
      "model_module": "@jupyter-widgets/controls",
      "model_module_version": "1.2.0",
      "model_name": "HBoxModel",
      "state": {
       "children": [
        "IPY_MODEL_3a286e7c794c499eabcb6dfa3bf4a97b",
        "IPY_MODEL_99ef0f7e3fd24774b0c3d6b38f0814d9"
       ],
       "layout": "IPY_MODEL_eea8ebc84b0f4de58a6dc8e82012bc74"
      }
     },
     "a07147f711e7440981b4726a70f1a092": {
      "model_module": "@jupyter-widgets/controls",
      "model_module_version": "1.2.0",
      "model_name": "CheckboxModel",
      "state": {
       "description": "Show loc.",
       "disabled": false,
       "indent": false,
       "layout": "IPY_MODEL_3a44ae3acfe44081a8ddc69eca17b29a",
       "style": "IPY_MODEL_b8ea3b7b0dca4273866f1b5b92cca58b",
       "value": true
      }
     },
     "a0868406e0164228a26117e7738fa06a": {
      "model_module": "@jupyter-widgets/controls",
      "model_module_version": "1.2.0",
      "model_name": "FloatTextModel",
      "state": {
       "layout": "IPY_MODEL_8fb4b0fdb7c44e1ab8ed8e86e5f324f2",
       "step": 0.1,
       "style": "IPY_MODEL_1494528ace2c4c4db584278ebb8209ab",
       "value": 1
      }
     },
     "a0931920790f4838a3c589307e70e6ea": {
      "model_module": "@jupyter-widgets/controls",
      "model_module_version": "1.2.0",
      "model_name": "DescriptionStyleModel",
      "state": {
       "description_width": ""
      }
     },
     "a0a29a1f59f34253bb259655681ce3bd": {
      "model_module": "@jupyter-widgets/controls",
      "model_module_version": "1.2.0",
      "model_name": "CheckboxModel",
      "state": {
       "description": "Show loc.",
       "disabled": false,
       "indent": false,
       "layout": "IPY_MODEL_fa9931ed61664d8fa35d9ebc5ad52aab",
       "style": "IPY_MODEL_742747435e2244c88f233fdfbe44a6bb",
       "value": true
      }
     },
     "a0ca00acc0784f1b80786a8d0fc73831": {
      "model_module": "@jupyter-widgets/base",
      "model_module_version": "1.0.0",
      "model_name": "LayoutModel",
      "state": {
       "display": "inline"
      }
     },
     "a0e18e07084b42d091852d2854f659b3": {
      "model_module": "@jupyter-widgets/base",
      "model_module_version": "1.0.0",
      "model_name": "LayoutModel",
      "state": {}
     },
     "a0ee102307534b91900803088036a2c9": {
      "model_module": "@jupyter-widgets/controls",
      "model_module_version": "1.2.0",
      "model_name": "DescriptionStyleModel",
      "state": {
       "description_width": ""
      }
     },
     "a15fe1a85d9e4ec5b001e32cb91d0c65": {
      "model_module": "@jupyter-widgets/base",
      "model_module_version": "1.0.0",
      "model_name": "LayoutModel",
      "state": {}
     },
     "a174c0b7b1b64f9ba03c41e6405c2c14": {
      "model_module": "@jupyter-widgets/base",
      "model_module_version": "1.0.0",
      "model_name": "LayoutModel",
      "state": {
       "display": "none"
      }
     },
     "a1bbc8f26c4e42c4ac4d6fcbc07a0d28": {
      "model_module": "@jupyter-widgets/controls",
      "model_module_version": "1.2.0",
      "model_name": "HBoxModel",
      "state": {
       "children": [
        "IPY_MODEL_72dbc3b77baf4e64be7a12988ac9fa4c",
        "IPY_MODEL_7d37587997e74c4a886352b548618d25",
        "IPY_MODEL_17fffd34af4f439a926cb172a59017fd"
       ],
       "layout": "IPY_MODEL_2a854f57f160446f88868cdfeebd1b15"
      }
     },
     "a1fee939d02b4c3cbeb542df8cf1eb43": {
      "model_module": "@jupyter-widgets/controls",
      "model_module_version": "1.2.0",
      "model_name": "DropdownModel",
      "state": {
       "_options_labels": [
        "2d_fixed",
        "2d",
        "3d"
       ],
       "description": "model",
       "index": 1,
       "layout": "IPY_MODEL_1d9a93a9f6c24b018ce1963bb58d97fe",
       "style": "IPY_MODEL_02a6d4c29bb34dc0bc5e9aed5d5a181c"
      }
     },
     "a2342805aa8d4236af7b0cc074c489bc": {
      "model_module": "@jupyter-widgets/controls",
      "model_module_version": "1.2.0",
      "model_name": "CheckboxModel",
      "state": {
       "description": "Size range",
       "disabled": false,
       "indent": false,
       "layout": "IPY_MODEL_f61688f97ad44722bafc175cd5df1915",
       "style": "IPY_MODEL_1140ea0dbb964fe495fb0ac563e9eb3c",
       "value": false
      }
     },
     "a2391440da5a4bd8a2d990b49a348864": {
      "model_module": "@jupyter-widgets/base",
      "model_module_version": "1.0.0",
      "model_name": "LayoutModel",
      "state": {
       "display": "none"
      }
     },
     "a2616790db824ffeb65d14eceec14934": {
      "model_module": "@jupyter-widgets/base",
      "model_module_version": "1.0.0",
      "model_name": "LayoutModel",
      "state": {
       "width": "auto"
      }
     },
     "a276506d90a345b8bcb85fd8e7f7e8aa": {
      "model_module": "@jupyter-widgets/controls",
      "model_module_version": "1.2.0",
      "model_name": "DropdownModel",
      "state": {
       "_options_labels": [
        "2d_fixed",
        "2d",
        "3d"
       ],
       "description": "model",
       "index": 1,
       "layout": "IPY_MODEL_d6709a2270e74c0eb5c06bd68f74a16c",
       "style": "IPY_MODEL_eb5451efc5f34fe5a9562b3a22bd3ccc"
      }
     },
     "a28c038042c54aa189617d6ce8c023b4": {
      "model_module": "@jupyter-widgets/controls",
      "model_module_version": "1.2.0",
      "model_name": "FloatTextModel",
      "state": {
       "description": "threshold",
       "layout": "IPY_MODEL_d5d2422e7b104a0e914acbd0deb93f42",
       "step": 10,
       "style": "IPY_MODEL_63a3ba1e33884d798eaae807bb0dc402",
       "value": 100
      }
     },
     "a291137d07614d41942fc48dc043ba1e": {
      "model_module": "@jupyter-widgets/controls",
      "model_module_version": "1.2.0",
      "model_name": "DescriptionStyleModel",
      "state": {
       "description_width": ""
      }
     },
     "a29e98e632534b93a0297f84f985a715": {
      "model_module": "@jupyter-widgets/controls",
      "model_module_version": "1.2.0",
      "model_name": "DropdownModel",
      "state": {
       "_options_labels": [
        "2d_fixed",
        "2d",
        "3d"
       ],
       "description": "model",
       "index": 1,
       "layout": "IPY_MODEL_698c4945726d457796659ad3bcebc0a7",
       "style": "IPY_MODEL_d46998510eb243148f4ee26efbf2e7c7"
      }
     },
     "a2a42213226e42ce8bcd22c543fd9505": {
      "model_module": "@jupyter-widgets/controls",
      "model_module_version": "1.2.0",
      "model_name": "DropdownModel",
      "state": {
       "_options_labels": [
        "2d_fixed",
        "2d",
        "3d"
       ],
       "description": "model",
       "index": 1,
       "layout": "IPY_MODEL_cfb64c186bc4449b9bc297a976404885",
       "style": "IPY_MODEL_fb224f5830d64ae0b1b5740e8d1697e3"
      }
     },
     "a2c461319e1f437fb7a80bfae2b804fd": {
      "model_module": "@jupyter-widgets/controls",
      "model_module_version": "1.2.0",
      "model_name": "IntTextModel",
      "state": {
       "description": "feat. size",
       "layout": "IPY_MODEL_c1efcae4c8094bcfaffe2b2e7f27bf45",
       "step": 1,
       "style": "IPY_MODEL_56942cc7612b425c87cf5ac589735428",
       "value": 3
      }
     },
     "a335da71e80246ae9495b090f1d55e3d": {
      "model_module": "@jupyter-widgets/controls",
      "model_module_version": "1.2.0",
      "model_name": "DescriptionStyleModel",
      "state": {
       "description_width": ""
      }
     },
     "a361a63fde3643099fd6c21149f906fc": {
      "model_module": "@jupyter-widgets/controls",
      "model_module_version": "1.2.0",
      "model_name": "CheckboxModel",
      "state": {
       "description": "Size range",
       "disabled": false,
       "indent": false,
       "layout": "IPY_MODEL_82583e58509042368bf8c21bee5086e4",
       "style": "IPY_MODEL_af28a585ea7c4131b6d9a7d34018875f",
       "value": false
      }
     },
     "a3d10057cfce4fd59e9e4ac70cd279fa": {
      "model_module": "@jupyter-widgets/controls",
      "model_module_version": "1.2.0",
      "model_name": "FloatTextModel",
      "state": {
       "description": "threshold",
       "layout": "IPY_MODEL_9b455933d6b64c72934aae3c812c8039",
       "step": 10,
       "style": "IPY_MODEL_27bf2951473a4cca94241d9317e7848f",
       "value": 100
      }
     },
     "a40f15a73d6e4d00bb1f193a2595e695": {
      "model_module": "@jupyter-widgets/controls",
      "model_module_version": "1.2.0",
      "model_name": "DescriptionStyleModel",
      "state": {
       "description_width": ""
      }
     },
     "a431992d061d4c7fa482f577ee2b5f45": {
      "model_module": "@jupyter-widgets/controls",
      "model_module_version": "1.2.0",
      "model_name": "HBoxModel",
      "state": {
       "children": [
        "IPY_MODEL_34934ccbd56f4acbbdc9e1b907e98de6",
        "IPY_MODEL_7caf946b93e8415dbb5cfded06c588a9"
       ],
       "layout": "IPY_MODEL_7737dfaaec96414183ebf6cf4492783d"
      }
     },
     "a44058bc020a4cfabeacab01e0c69d3c": {
      "model_module": "@jupyter-widgets/controls",
      "model_module_version": "1.2.0",
      "model_name": "DescriptionStyleModel",
      "state": {
       "description_width": ""
      }
     },
     "a454f90010344f9da575044b7c3b7350": {
      "model_module": "@jupyter-widgets/base",
      "model_module_version": "1.0.0",
      "model_name": "LayoutModel",
      "state": {
       "border": "1px solid gray"
      }
     },
     "a479a55c7f3942fcb26410dc9f27870b": {
      "model_module": "@jupyter-widgets/controls",
      "model_module_version": "1.2.0",
      "model_name": "HBoxModel",
      "state": {
       "children": [
        "IPY_MODEL_fd7fe18ee1144d149ef454af8aed54f3",
        "IPY_MODEL_58667e49450448c6ae4c9a2f36f38b12"
       ],
       "layout": "IPY_MODEL_aae6a9f7c9b244fc8b20d7abaf74c191"
      }
     },
     "a4eecdd6eac148078794d26ec458ae2d": {
      "model_module": "@jupyter-widgets/controls",
      "model_module_version": "1.2.0",
      "model_name": "DescriptionStyleModel",
      "state": {
       "description_width": ""
      }
     },
     "a553962993694475941cc6124c45b647": {
      "model_module": "@jupyter-widgets/controls",
      "model_module_version": "1.2.0",
      "model_name": "HBoxModel",
      "state": {
       "children": [
        "IPY_MODEL_c6ad2c66e23145308004adb901174003",
        "IPY_MODEL_cb1c51b664d0470b879f08c7b64b382b"
       ],
       "layout": "IPY_MODEL_de8dd318d68f4b1eb8d39594928fba54"
      }
     },
     "a55b747a6bb54df489ee9ab51b54ae2f": {
      "model_module": "@jupyter-widgets/controls",
      "model_module_version": "1.2.0",
      "model_name": "CheckboxModel",
      "state": {
       "description": "Show loc.",
       "disabled": false,
       "indent": false,
       "layout": "IPY_MODEL_f80518817c07475ebeb84494733c55da",
       "style": "IPY_MODEL_96556a9c35bf483a814b85604840b2e5",
       "value": true
      }
     },
     "a58f4de4e10b4df4b9eb9fcf4feaf163": {
      "model_module": "@jupyter-widgets/base",
      "model_module_version": "1.0.0",
      "model_name": "LayoutModel",
      "state": {
       "width": "75%"
      }
     },
     "a5aef452aafc4979844c1c9e82fbe0db": {
      "model_module": "@jupyter-widgets/base",
      "model_module_version": "1.0.0",
      "model_name": "LayoutModel",
      "state": {}
     },
     "a5cd9ebb3bbe4ea698491469361608d4": {
      "model_module": "@jupyter-widgets/base",
      "model_module_version": "1.0.0",
      "model_name": "LayoutModel",
      "state": {}
     },
     "a5faeb5167ce47aea07efeb2e4a37cb7": {
      "model_module": "@jupyter-widgets/base",
      "model_module_version": "1.0.0",
      "model_name": "LayoutModel",
      "state": {
       "width": "75%"
      }
     },
     "a60a97a0997c4d61b56ed21f67dcdefa": {
      "model_module": "@jupyter-widgets/controls",
      "model_module_version": "1.2.0",
      "model_name": "CheckboxModel",
      "state": {
       "description": "Min. distance",
       "disabled": false,
       "indent": false,
       "layout": "IPY_MODEL_6d9ccba62da34714aca5f29ab9d4256c",
       "style": "IPY_MODEL_dba461e27a4f420da9fd5af4a5ee2dad",
       "value": false
      }
     },
     "a618d0b1bf9a4b6aaebbc4f56e910f8c": {
      "model_module": "@jupyter-widgets/base",
      "model_module_version": "1.0.0",
      "model_name": "LayoutModel",
      "state": {
       "width": "100%"
      }
     },
     "a643a4f08ce6486db2394f0d1673dd82": {
      "model_module": "@jupyter-widgets/base",
      "model_module_version": "1.0.0",
      "model_name": "LayoutModel",
      "state": {}
     },
     "a675c0c565574b6c8ceef6ac7ba5fbdc": {
      "model_module": "@jupyter-widgets/controls",
      "model_module_version": "1.2.0",
      "model_name": "FloatTextModel",
      "state": {
       "layout": "IPY_MODEL_0556af0fe8ce4c26887e936312cfee70",
       "step": 0.1,
       "style": "IPY_MODEL_04c134ec844f48518c4d43fadfc470b3",
       "value": 3
      }
     },
     "a6b8d0b30c6f4db184ed57078f711dff": {
      "model_module": "@jupyter-widgets/controls",
      "model_module_version": "1.2.0",
      "model_name": "BoundedIntTextModel",
      "state": {
       "description": "frame",
       "layout": "IPY_MODEL_eb85ee028e3b458b8c9f8e8945f5c950",
       "max": 49,
       "style": "IPY_MODEL_b58c8e2dcd0749fa99d7f25245da27a6"
      }
     },
     "a6d5cfc2bb1e4c3e8d2347b6facee790": {
      "model_module": "@jupyter-widgets/controls",
      "model_module_version": "1.2.0",
      "model_name": "DescriptionStyleModel",
      "state": {
       "description_width": ""
      }
     },
     "a793d2ff390c4cba8bba9a04ce7027fe": {
      "model_module": "@jupyter-widgets/controls",
      "model_module_version": "1.2.0",
      "model_name": "VBoxModel",
      "state": {
       "children": [
        "IPY_MODEL_bac1451325334616913ac648bdb007ff",
        "IPY_MODEL_87045e7c7a47485aa63dffd08040e2e1",
        "IPY_MODEL_f98ecea191d3469782b2fd05a91a4d66"
       ],
       "layout": "IPY_MODEL_1f95ca0f70c84935abba32f323d60216"
      }
     },
     "a79415927e1b4f129298f428353c8c70": {
      "model_module": "@jupyter-widgets/controls",
      "model_module_version": "1.2.0",
      "model_name": "DescriptionStyleModel",
      "state": {
       "description_width": ""
      }
     },
     "a7a93a3b5db14745a107ee7357a57a81": {
      "model_module": "@jupyter-widgets/base",
      "model_module_version": "1.0.0",
      "model_name": "LayoutModel",
      "state": {
       "display": "inline"
      }
     },
     "a7b19d4cf67e478589baafdeccf11344": {
      "model_module": "@jupyter-widgets/base",
      "model_module_version": "1.0.0",
      "model_name": "LayoutModel",
      "state": {
       "width": "auto"
      }
     },
     "a81a0c263b504dd097171b652cc38c56": {
      "model_module": "@jupyter-widgets/controls",
      "model_module_version": "1.2.0",
      "model_name": "DescriptionStyleModel",
      "state": {
       "description_width": ""
      }
     },
     "a83193a683334498a1967275c84acf79": {
      "model_module": "@jupyter-widgets/base",
      "model_module_version": "1.0.0",
      "model_name": "LayoutModel",
      "state": {}
     },
     "a83984f400c94bf6991daf533bb787bc": {
      "model_module": "@jupyter-widgets/controls",
      "model_module_version": "1.2.0",
      "model_name": "DescriptionStyleModel",
      "state": {
       "description_width": ""
      }
     },
     "a84219f788e443978c802281362621b5": {
      "model_module": "@jupyter-widgets/controls",
      "model_module_version": "1.2.0",
      "model_name": "FloatTextModel",
      "state": {
       "description": "radius",
       "layout": "IPY_MODEL_b7023a71516749418cd7b2acb31271a9",
       "step": 0.1,
       "style": "IPY_MODEL_41611cfe916d449eadd94ee06d3f57ae",
       "value": 1
      }
     },
     "a85f8868bd72443da6283c84785b6859": {
      "model_module": "@jupyter-widgets/base",
      "model_module_version": "1.0.0",
      "model_name": "LayoutModel",
      "state": {
       "display": "flex",
       "flex_flow": "column wrap",
       "width": "66%"
      }
     },
     "a8abbba0df0447ceb63ab913a797ce58": {
      "model_module": "@jupyter-widgets/controls",
      "model_module_version": "1.2.0",
      "model_name": "DescriptionStyleModel",
      "state": {
       "description_width": ""
      }
     },
     "a8c5946410a84233bcdf6b08b34dc3b3": {
      "model_module": "@jupyter-widgets/controls",
      "model_module_version": "1.2.0",
      "model_name": "FloatTextModel",
      "state": {
       "layout": "IPY_MODEL_1b620fd859a4480aa4f9e4c1eb031eb2",
       "step": 0.1,
       "style": "IPY_MODEL_916639153d57402f8b01fece3aade51d",
       "value": 1
      }
     },
     "a90c2c8136e54153aa578afefecb3ab1": {
      "model_module": "@jupyter-widgets/controls",
      "model_module_version": "1.2.0",
      "model_name": "DescriptionStyleModel",
      "state": {
       "description_width": ""
      }
     },
     "a9260d6530984155b08468659eee60ce": {
      "model_module": "@jupyter-widgets/controls",
      "model_module_version": "1.2.0",
      "model_name": "DescriptionStyleModel",
      "state": {
       "description_width": ""
      }
     },
     "a9344fbbc27443ecac484dfacd381265": {
      "model_module": "@jupyter-widgets/base",
      "model_module_version": "1.0.0",
      "model_name": "LayoutModel",
      "state": {}
     },
     "a93b0a99d293436297cf9bc57e0df4a6": {
      "model_module": "@jupyter-widgets/controls",
      "model_module_version": "1.2.0",
      "model_name": "DescriptionStyleModel",
      "state": {
       "description_width": ""
      }
     },
     "a9736066e5df4dcb9013c7a3c1688f78": {
      "model_module": "@jupyter-widgets/base",
      "model_module_version": "1.0.0",
      "model_name": "LayoutModel",
      "state": {}
     },
     "a9760e5cf2bb431e8291b5dd00bdc839": {
      "model_module": "@jupyter-widgets/base",
      "model_module_version": "1.0.0",
      "model_name": "LayoutModel",
      "state": {}
     },
     "a9d796c2935e4d48abfdfad8b2f07230": {
      "model_module": "@jupyter-widgets/base",
      "model_module_version": "1.0.0",
      "model_name": "LayoutModel",
      "state": {}
     },
     "a9d8db04f91f4a78885048e47fe7d975": {
      "model_module": "@jupyter-widgets/controls",
      "model_module_version": "1.2.0",
      "model_name": "FloatTextModel",
      "state": {
       "description": "radius",
       "layout": "IPY_MODEL_56a93a526453438f85be87de8c7470af",
       "step": 0.1,
       "style": "IPY_MODEL_6c4e0987eca84a5ba2cc1653427be79d",
       "value": 1
      }
     },
     "a9e6897cc4c3469b8c7059a067a847ea": {
      "model_module": "@jupyter-widgets/base",
      "model_module_version": "1.0.0",
      "model_name": "LayoutModel",
      "state": {
       "display": "flex",
       "flex_flow": "column wrap",
       "width": "66%"
      }
     },
     "aa24ebdabe454b5c926dedbd4652a7a5": {
      "model_module": "@jupyter-widgets/base",
      "model_module_version": "1.0.0",
      "model_name": "LayoutModel",
      "state": {
       "display": "none"
      }
     },
     "aa3ff12a54e4489591f72079127925f6": {
      "model_module": "@jupyter-widgets/base",
      "model_module_version": "1.0.0",
      "model_name": "LayoutModel",
      "state": {
       "width": "75%"
      }
     },
     "aa6ef432ab714360a1cccccddab24adf": {
      "model_module": "@jupyter-widgets/controls",
      "model_module_version": "1.2.0",
      "model_name": "FloatTextModel",
      "state": {
       "description": "threshold",
       "layout": "IPY_MODEL_cef17bc089aa4519b8aa5b0bc6fb5d77",
       "step": 10,
       "style": "IPY_MODEL_1f3056b0d82a448ebd9388e035c6b2eb",
       "value": 100
      }
     },
     "aa920e2886b64ce897d166dfe6ce7210": {
      "model_module": "@jupyter-widgets/base",
      "model_module_version": "1.0.0",
      "model_name": "LayoutModel",
      "state": {}
     },
     "aac67a092b404f4aa3513c7206fd2402": {
      "model_module": "@jupyter-widgets/controls",
      "model_module_version": "1.2.0",
      "model_name": "DescriptionStyleModel",
      "state": {
       "description_width": ""
      }
     },
     "aac9f45b45844ebead78d0105e3ee8bd": {
      "model_module": "@jupyter-widgets/controls",
      "model_module_version": "1.2.0",
      "model_name": "VBoxModel",
      "state": {
       "children": [
        "IPY_MODEL_f5fd633cce704a5986281c8d09df9bd9",
        "IPY_MODEL_856b29a83bc644f7b2b4e017960d1da3",
        "IPY_MODEL_b652dfbfd4214265ae3872e3f49c3b2f"
       ],
       "layout": "IPY_MODEL_ed7a81a126de4e08aa3a55b3e4fbfa4a"
      }
     },
     "aae6a9f7c9b244fc8b20d7abaf74c191": {
      "model_module": "@jupyter-widgets/base",
      "model_module_version": "1.0.0",
      "model_name": "LayoutModel",
      "state": {}
     },
     "aaef252f0f904c65bc3b1539ec5fda60": {
      "model_module": "@jupyter-widgets/controls",
      "model_module_version": "1.2.0",
      "model_name": "ButtonModel",
      "state": {
       "description": "Auto",
       "layout": "IPY_MODEL_2e8e52ae825e4c72986f6383f0aa0290",
       "style": "IPY_MODEL_b22e372906214ee5bb3d1007a4ccbdd6"
      }
     },
     "aaf69e05d407466fbe2eec239cc90280": {
      "model_module": "@jupyter-widgets/controls",
      "model_module_version": "1.2.0",
      "model_name": "FloatTextModel",
      "state": {
       "layout": "IPY_MODEL_07ac523a740a4fe68f24c1ab8535c730",
       "step": 0.1,
       "style": "IPY_MODEL_63c9ca94d8f84582ab880606d1851611",
       "value": 3
      }
     },
     "ab0cfbb92b6340f883a10373a0455392": {
      "model_module": "@jupyter-widgets/base",
      "model_module_version": "1.0.0",
      "model_name": "LayoutModel",
      "state": {
       "width": "auto"
      }
     },
     "ab316c8c91c44fa8aaa0cc813e57bfe0": {
      "model_module": "@jupyter-widgets/controls",
      "model_module_version": "1.2.0",
      "model_name": "VBoxModel",
      "state": {
       "children": [
        "IPY_MODEL_90a2efcdf54e436a95a036eb331dd6a6",
        "IPY_MODEL_7972ade17a9549aca2c729e88c1deecb",
        "IPY_MODEL_71ef8416d5164e26ad13d386265fb786"
       ],
       "layout": "IPY_MODEL_b779a4a37c6a4f399fb21a145bd6c38d"
      }
     },
     "ab4925d5106d478c95c5b37f1be7b6bc": {
      "model_module": "@jupyter-widgets/base",
      "model_module_version": "1.0.0",
      "model_name": "LayoutModel",
      "state": {
       "display": "flex",
       "flex_flow": "column wrap",
       "width": "66%"
      }
     },
     "ab78fe67db564683aec5835c7ecaa972": {
      "model_module": "@jupyter-widgets/controls",
      "model_module_version": "1.2.0",
      "model_name": "VBoxModel",
      "state": {
       "children": [
        "IPY_MODEL_8b26a592718c432381544ef50f1238c4",
        "IPY_MODEL_25609cd00cca4ad98a9f3d96ba3f9412",
        "IPY_MODEL_add3755b7dd04b8e9e54749f1f181aec"
       ],
       "layout": "IPY_MODEL_f2ae8795066b405d86ad6b62f338983a"
      }
     },
     "ab7a3e29338d4fde9471734de2214b6e": {
      "model_module": "@jupyter-widgets/base",
      "model_module_version": "1.0.0",
      "model_name": "LayoutModel",
      "state": {
       "display": "none"
      }
     },
     "ab8027fd81ce4cda9ea2e480101f6eda": {
      "model_module": "@jupyter-widgets/base",
      "model_module_version": "1.0.0",
      "model_name": "LayoutModel",
      "state": {}
     },
     "ab9309422cca470bb40a7c6d6ff4ef70": {
      "model_module": "@jupyter-widgets/controls",
      "model_module_version": "1.2.0",
      "model_name": "VBoxModel",
      "state": {
       "children": [
        "IPY_MODEL_e5f0b576dc474a79ba6dde69d2627e1e",
        "IPY_MODEL_9133c6044fa44763a8e9ed3a2cfc66c3",
        "IPY_MODEL_78a71abb23fb4f6a898bd1072b249131",
        "IPY_MODEL_50e9cd4466bc4c1da5b227a6467de70f",
        "IPY_MODEL_8cd31a6c9ff0466295c9f5b4db86a38d",
        "IPY_MODEL_c22b5f9b02324eb09eefa0fc3f053283"
       ],
       "layout": "IPY_MODEL_586359d9189148bc9b1870a5c0af9a02"
      }
     },
     "ac27177f41674d4e942fc6991d3fdff7": {
      "model_module": "@jupyter-widgets/controls",
      "model_module_version": "1.2.0",
      "model_name": "VBoxModel",
      "state": {
       "children": [
        "IPY_MODEL_4d29cd8e3b554f8a9af88a5ba888ffda",
        "IPY_MODEL_4698a6c0fe5f48868743f31af7dd1220",
        "IPY_MODEL_f17b48ffaafc4ac482e8809faaa834a8"
       ],
       "layout": "IPY_MODEL_b1cf244382884cc7b7b60059c2176e36"
      }
     },
     "ac3eb350b9ab429188d86a4f3b37e9c2": {
      "model_module": "@jupyter-widgets/base",
      "model_module_version": "1.0.0",
      "model_name": "LayoutModel",
      "state": {}
     },
     "acce2284551349c9bd0cb28aadc0ed58": {
      "model_module": "@jupyter-widgets/controls",
      "model_module_version": "1.2.0",
      "model_name": "DescriptionStyleModel",
      "state": {
       "description_width": ""
      }
     },
     "ad09e136c24c4419a07750758267dfd3": {
      "model_module": "@jupyter-widgets/controls",
      "model_module_version": "1.2.0",
      "model_name": "DropdownModel",
      "state": {
       "_options_labels": [
        "2d_fixed",
        "2d",
        "3d"
       ],
       "description": "model",
       "index": 1,
       "layout": "IPY_MODEL_0f6bb27f3b3e40e092dfb62abeb2476e",
       "style": "IPY_MODEL_200dd839b47e41ef964f190f00578135"
      }
     },
     "ad174e487e694b738f5f19e1e7128916": {
      "model_module": "@jupyter-widgets/controls",
      "model_module_version": "1.2.0",
      "model_name": "SliderStyleModel",
      "state": {
       "description_width": ""
      }
     },
     "ad796e7bca5a42e5a14af119f386b4f3": {
      "model_module": "@jupyter-widgets/controls",
      "model_module_version": "1.2.0",
      "model_name": "DescriptionStyleModel",
      "state": {
       "description_width": ""
      }
     },
     "ad7c1958d6964ab58ec5e260e9d13ef0": {
      "model_module": "@jupyter-widgets/controls",
      "model_module_version": "1.2.0",
      "model_name": "IntTextModel",
      "state": {
       "description": "feat. size",
       "layout": "IPY_MODEL_0957f0c2e0354c03bd87e808879cf3bb",
       "step": 1,
       "style": "IPY_MODEL_b835c5938556463d920bf178b1a8a77c",
       "value": 3
      }
     },
     "ad98c99d4b8a46948c2eb85e97d210f9": {
      "model_module": "@jupyter-widgets/controls",
      "model_module_version": "1.2.0",
      "model_name": "FloatTextModel",
      "state": {
       "layout": "IPY_MODEL_ed663a271ac945caa0969117f52a1111",
       "step": 0.1,
       "style": "IPY_MODEL_418ef43b5cf14e65bdf7ce484ec89c54",
       "value": 1
      }
     },
     "adc6e4587a314fd8afcde5d140a8acc1": {
      "model_module": "@jupyter-widgets/controls",
      "model_module_version": "1.2.0",
      "model_name": "CheckboxModel",
      "state": {
       "description": "Show loc.",
       "disabled": false,
       "indent": false,
       "layout": "IPY_MODEL_d8fd62f4c0324903a98d8f21f1eff2af",
       "style": "IPY_MODEL_b1310b209e714acd9df2b8ec60946b3c",
       "value": true
      }
     },
     "add3755b7dd04b8e9e54749f1f181aec": {
      "model_module": "@jupyter-widgets/controls",
      "model_module_version": "1.2.0",
      "model_name": "FloatTextModel",
      "state": {
       "description": "sigma",
       "layout": "IPY_MODEL_944e2ebea9424aefbe1005fbcfdc0b3d",
       "step": 0.1,
       "style": "IPY_MODEL_5777eed6f9d64683b752e06b8cf63243",
       "value": 1
      }
     },
     "ade9ee4d1be045f1af7d9360b08c544c": {
      "model_module": "@jupyter-widgets/controls",
      "model_module_version": "1.2.0",
      "model_name": "SliderStyleModel",
      "state": {
       "description_width": ""
      }
     },
     "adf40acda44f4b9b85e18c7a602df93c": {
      "model_module": "@jupyter-widgets/controls",
      "model_module_version": "1.2.0",
      "model_name": "SelectModel",
      "state": {
       "_options_labels": [
        "data/sensor-H57/cells-01_SAv-100k_SSS-H57-20k_000_.SPE"
       ],
       "index": 0,
       "layout": "IPY_MODEL_516609ad462b4649afa9d23010368a53",
       "style": "IPY_MODEL_07cc9f950bd74e1d9b27e3b600f67ccb"
      }
     },
     "adfdf5b3e7044e60872eefbde244317a": {
      "model_module": "@jupyter-widgets/controls",
      "model_module_version": "1.2.0",
      "model_name": "FloatTextModel",
      "state": {
       "description": "threshold",
       "layout": "IPY_MODEL_9f4b337158754cf8a1e15e2ec2c8a65c",
       "step": 10,
       "style": "IPY_MODEL_5a1aa8b1ede248a887870215d096f71d",
       "value": 1000
      }
     },
     "ae7455f6b3494419b28dabed380516af": {
      "model_module": "@jupyter-widgets/base",
      "model_module_version": "1.0.0",
      "model_name": "LayoutModel",
      "state": {
       "width": "auto"
      }
     },
     "aeb82f103bde45f8ae48a0a3293218f8": {
      "model_module": "@jupyter-widgets/controls",
      "model_module_version": "1.2.0",
      "model_name": "DropdownModel",
      "state": {
       "_options_labels": [
        "Identity",
        "Cg",
        "Gaussian"
       ],
       "description": "find filter",
       "index": 1,
       "layout": "IPY_MODEL_774d43ce07db4ff38546dd8ec2622df9",
       "style": "IPY_MODEL_7928f9a9bda5464cb6f4dab76da972f9"
      }
     },
     "aec25161b34c4d5fa2495d37dd0b009c": {
      "model_module": "@jupyter-widgets/controls",
      "model_module_version": "1.2.0",
      "model_name": "VBoxModel",
      "state": {
       "children": [
        "IPY_MODEL_f0c7bb441e6e4b528f534b973d41fad0",
        "IPY_MODEL_4ec6270cc8024ca6bade21b9603b062e",
        "IPY_MODEL_1d23768466ae4cfeb64921711ebe49d4"
       ],
       "layout": "IPY_MODEL_56f43e719b054d2db0d43b41318a43e8"
      }
     },
     "af11b20f3d1b467485ef89404c0582c5": {
      "model_module": "@jupyter-widgets/controls",
      "model_module_version": "1.2.0",
      "model_name": "ButtonStyleModel",
      "state": {}
     },
     "af28a585ea7c4131b6d9a7d34018875f": {
      "model_module": "@jupyter-widgets/controls",
      "model_module_version": "1.2.0",
      "model_name": "DescriptionStyleModel",
      "state": {
       "description_width": ""
      }
     },
     "af51c9e9fc354008b987e9c52a9283c8": {
      "model_module": "@jupyter-widgets/base",
      "model_module_version": "1.0.0",
      "model_name": "LayoutModel",
      "state": {
       "display": "none"
      }
     },
     "af56442840da4d8791c2372861416b99": {
      "model_module": "@jupyter-widgets/base",
      "model_module_version": "1.0.0",
      "model_name": "LayoutModel",
      "state": {}
     },
     "af599191dcb649338ccbb3cea8cfeb03": {
      "model_module": "@jupyter-widgets/controls",
      "model_module_version": "1.2.0",
      "model_name": "DescriptionStyleModel",
      "state": {
       "description_width": ""
      }
     },
     "af5d88a7eb814276beaffbf600ae6e4b": {
      "model_module": "@jupyter-widgets/controls",
      "model_module_version": "1.2.0",
      "model_name": "DescriptionStyleModel",
      "state": {
       "description_width": ""
      }
     },
     "af64b99d6b9649ab87b51d9c15fe0a49": {
      "model_module": "@jupyter-widgets/controls",
      "model_module_version": "1.2.0",
      "model_name": "DescriptionStyleModel",
      "state": {
       "description_width": ""
      }
     },
     "af70af434bc9431d86af759864a3265d": {
      "model_module": "@jupyter-widgets/base",
      "model_module_version": "1.0.0",
      "model_name": "LayoutModel",
      "state": {}
     },
     "afaef695b4f84a9ba5b3a032d0002d6a": {
      "model_module": "@jupyter-widgets/controls",
      "model_module_version": "1.2.0",
      "model_name": "FloatTextModel",
      "state": {
       "description": "max.",
       "layout": "IPY_MODEL_bd1cc151eca24bbcb96a7671dcc39bda",
       "step": 0.1,
       "style": "IPY_MODEL_f5e5284b9f6043f9be08bc62e6dc4550",
       "value": 2
      }
     },
     "afd8f7afc04843c29bffdb3506bacc65": {
      "model_module": "@jupyter-widgets/controls",
      "model_module_version": "1.2.0",
      "model_name": "ButtonStyleModel",
      "state": {}
     },
     "b0276e39446a4fa1a4730e98a1c01134": {
      "model_module": "@jupyter-widgets/base",
      "model_module_version": "1.0.0",
      "model_name": "LayoutModel",
      "state": {}
     },
     "b0548108bf3e474497118511fe530bc2": {
      "model_module": "@jupyter-widgets/controls",
      "model_module_version": "1.2.0",
      "model_name": "LabelModel",
      "state": {
       "layout": "IPY_MODEL_3b6207d8c3734ff4a52804ea21713787",
       "style": "IPY_MODEL_31d34257a2ee401792e9a3e78ae01804",
       "value": "Locating sensor-H57/cells-01_SAv-100k_SSS-H57-20k_000_.SPE (1/213)"
      }
     },
     "b0a36d5dd029428f8cc9b3cd853c1150": {
      "model_module": "@jupyter-widgets/controls",
      "model_module_version": "1.2.0",
      "model_name": "ButtonModel",
      "state": {
       "description": "Auto",
       "layout": "IPY_MODEL_c46bff04e59e428ab26ff8f5898b4277",
       "style": "IPY_MODEL_b64b2a850a8548d383e5d93c5c00ba3c"
      }
     },
     "b0ad7d4c9d6044dbbfe153dfafc6f50d": {
      "model_module": "@jupyter-widgets/controls",
      "model_module_version": "1.2.0",
      "model_name": "DescriptionStyleModel",
      "state": {
       "description_width": ""
      }
     },
     "b0cd287641f84a2a9d05a74793931579": {
      "model_module": "@jupyter-widgets/base",
      "model_module_version": "1.0.0",
      "model_name": "LayoutModel",
      "state": {
       "display": "none"
      }
     },
     "b0ef45ddc9b64ae4b529c290407ec1f0": {
      "model_module": "@jupyter-widgets/controls",
      "model_module_version": "1.2.0",
      "model_name": "VBoxModel",
      "state": {
       "children": [
        "IPY_MODEL_336b38e4ea08432b992707580e7d2533",
        "IPY_MODEL_ad7c1958d6964ab58ec5e260e9d13ef0",
        "IPY_MODEL_f929a9aa1d494f3a8c566832e123b363"
       ],
       "layout": "IPY_MODEL_b0ff7ca2223747d98d4f405008951732"
      }
     },
     "b0ff7ca2223747d98d4f405008951732": {
      "model_module": "@jupyter-widgets/base",
      "model_module_version": "1.0.0",
      "model_name": "LayoutModel",
      "state": {
       "border": "1px solid gray"
      }
     },
     "b119cccce6db485a8e1605a68bb63731": {
      "model_module": "@jupyter-widgets/controls",
      "model_module_version": "1.2.0",
      "model_name": "ButtonModel",
      "state": {
       "description": "Auto",
       "layout": "IPY_MODEL_3a5f65ba7775490d93465572747b1696",
       "style": "IPY_MODEL_f5701a9022c04a45b9a0a14f05bef641"
      }
     },
     "b127d2a3cc3541b78a417709177e71a4": {
      "model_module": "@jupyter-widgets/base",
      "model_module_version": "1.0.0",
      "model_name": "LayoutModel",
      "state": {
       "width": "auto"
      }
     },
     "b1310b209e714acd9df2b8ec60946b3c": {
      "model_module": "@jupyter-widgets/controls",
      "model_module_version": "1.2.0",
      "model_name": "DescriptionStyleModel",
      "state": {
       "description_width": ""
      }
     },
     "b147a80af23a4223aacd3ed579ee9f5e": {
      "model_module": "@jupyter-widgets/controls",
      "model_module_version": "1.2.0",
      "model_name": "VBoxModel",
      "state": {
       "children": [
        "IPY_MODEL_8ff9e205eed647399c279ffee532336f",
        "IPY_MODEL_4b594de80bf942c586a34574b8757370",
        "IPY_MODEL_cbbf4f3774dd4928a04f102af72f0867"
       ],
       "layout": "IPY_MODEL_8fdb88a13c5d4aaa8ea7127d2a7dbebf"
      }
     },
     "b15e46d5fa8e48069163d3f58c7cd47d": {
      "model_module": "@jupyter-widgets/controls",
      "model_module_version": "1.2.0",
      "model_name": "DescriptionStyleModel",
      "state": {
       "description_width": ""
      }
     },
     "b16d9594fe5a47168157f57fb07b841f": {
      "model_module": "@jupyter-widgets/controls",
      "model_module_version": "1.2.0",
      "model_name": "LabelModel",
      "state": {
       "layout": "IPY_MODEL_fe7aa9ae9108443ebd19cd104096ac50",
       "style": "IPY_MODEL_166ed19e9e3f4f61ab800553362c811b",
       "value": "Calculating FRET values ctrl-H57/no-cells_SAv-100k_SSS-ctrl-H57-50k_029_.SPE (213/213)"
      }
     },
     "b16e5eb0bf554c65b74a24feb96709a8": {
      "model_module": "@jupyter-widgets/base",
      "model_module_version": "1.0.0",
      "model_name": "LayoutModel",
      "state": {
       "width": "auto"
      }
     },
     "b1cf244382884cc7b7b60059c2176e36": {
      "model_module": "@jupyter-widgets/base",
      "model_module_version": "1.0.0",
      "model_name": "LayoutModel",
      "state": {}
     },
     "b1da71adf5fc4a4fb2dc775a70522d5e": {
      "model_module": "@jupyter-widgets/base",
      "model_module_version": "1.0.0",
      "model_name": "LayoutModel",
      "state": {
       "display": "none"
      }
     },
     "b22e372906214ee5bb3d1007a4ccbdd6": {
      "model_module": "@jupyter-widgets/controls",
      "model_module_version": "1.2.0",
      "model_name": "ButtonStyleModel",
      "state": {}
     },
     "b2612d3edbcd4dbc816deb8b13184772": {
      "model_module": "@jupyter-widgets/controls",
      "model_module_version": "1.2.0",
      "model_name": "IntTextModel",
      "state": {
       "description": "feat. size",
       "layout": "IPY_MODEL_6ebd9a8a594d41a18e119a98e72d73f9",
       "step": 1,
       "style": "IPY_MODEL_587b53fefa6e4d2091b15dd062869166",
       "value": 3
      }
     },
     "b26ee276cb3c4481a643c8532024f3ee": {
      "model_module": "@jupyter-widgets/controls",
      "model_module_version": "1.2.0",
      "model_name": "FloatTextModel",
      "state": {
       "description": "max.",
       "layout": "IPY_MODEL_28c191d302554977ae914cef8a33edc7",
       "step": 0.1,
       "style": "IPY_MODEL_6e0089000016448c8f05fa717b1d05a3",
       "value": 2
      }
     },
     "b2c338fba7c1448fab4e5e40f1bb83ea": {
      "model_module": "@jupyter-widgets/base",
      "model_module_version": "1.0.0",
      "model_name": "LayoutModel",
      "state": {}
     },
     "b2cb2318eb49493fb159ab40adfc4cc8": {
      "model_module": "@jupyter-widgets/base",
      "model_module_version": "1.0.0",
      "model_name": "LayoutModel",
      "state": {
       "display": "flex",
       "flex_flow": "column wrap",
       "width": "66%"
      }
     },
     "b2d2c403c2e54fc990e91655a19871f4": {
      "model_module": "@jupyter-widgets/base",
      "model_module_version": "1.0.0",
      "model_name": "LayoutModel",
      "state": {}
     },
     "b2d702bc464b437fa34a4c0765de09df": {
      "model_module": "@jupyter-widgets/base",
      "model_module_version": "1.0.0",
      "model_name": "LayoutModel",
      "state": {}
     },
     "b304b4607fc342b6b848e390fe8bdfd8": {
      "model_module": "@jupyter-widgets/controls",
      "model_module_version": "1.2.0",
      "model_name": "CheckboxModel",
      "state": {
       "description": "Min. distance",
       "disabled": false,
       "indent": false,
       "layout": "IPY_MODEL_3c97b874e3e548b392390d99e542d906",
       "style": "IPY_MODEL_6e56e4b4661d44b4a335ef6bb224b175",
       "value": true
      }
     },
     "b32d337b3b204c9daa108c4ff6af626e": {
      "model_module": "@jupyter-widgets/controls",
      "model_module_version": "1.2.0",
      "model_name": "FloatTextModel",
      "state": {
       "layout": "IPY_MODEL_19e4bbee2e614bc4ba7402ecedaa8c61",
       "step": 0.1,
       "style": "IPY_MODEL_7a3d482483a6445d88c73d2a846f9824",
       "value": 3
      }
     },
     "b35b27dd9202476c85780724d1ef6978": {
      "model_module": "@jupyter-widgets/controls",
      "model_module_version": "1.2.0",
      "model_name": "HBoxModel",
      "state": {
       "children": [
        "IPY_MODEL_3663842ab6404589b472521e2dad1bdc",
        "IPY_MODEL_ba88b9f7da7b42969d3652112931e030",
        "IPY_MODEL_55272d7030de4ae8b8e10c0fcde8e729"
       ],
       "layout": "IPY_MODEL_4c77f6dd91bb46839fb21e5396bb0407"
      }
     },
     "b373f55994874a9ca52d3dc07d8d2ec9": {
      "model_module": "@jupyter-widgets/controls",
      "model_module_version": "1.2.0",
      "model_name": "DropdownModel",
      "state": {
       "_options_labels": [
        "Identity",
        "Cg",
        "Gaussian"
       ],
       "description": "find filter",
       "index": 1,
       "layout": "IPY_MODEL_8c618bf667984e6dba7a977fab592393",
       "style": "IPY_MODEL_efc6cb4e8cab4a86ae2521db39ceb4ae"
      }
     },
     "b3783a79c33c4caa81c514a78a24b953": {
      "model_module": "@jupyter-widgets/base",
      "model_module_version": "1.0.0",
      "model_name": "LayoutModel",
      "state": {
       "display": "none"
      }
     },
     "b37d9881043c455989a88cdda902891a": {
      "model_module": "@jupyter-widgets/controls",
      "model_module_version": "1.2.0",
      "model_name": "CheckboxModel",
      "state": {
       "description": "Min. distance",
       "disabled": false,
       "indent": false,
       "layout": "IPY_MODEL_227e2ab8ee8d4793ad719eccc3e015cc",
       "style": "IPY_MODEL_26f739099bc54aa2a30e8f2c6418e19c",
       "value": true
      }
     },
     "b3b7103e5014420a93ef7594b418fbdc": {
      "model_module": "@jupyter-widgets/controls",
      "model_module_version": "1.2.0",
      "model_name": "BoundedIntTextModel",
      "state": {
       "description": "frame",
       "layout": "IPY_MODEL_cca5331b206349f9a6c10fcb99ebca57",
       "max": 0,
       "style": "IPY_MODEL_43536ff0d5a24e66973360c9f15580f4"
      }
     },
     "b3bde46cc7d249959ea5a5a0963d43dc": {
      "model_module": "@jupyter-widgets/controls",
      "model_module_version": "1.2.0",
      "model_name": "DescriptionStyleModel",
      "state": {
       "description_width": ""
      }
     },
     "b42cb741e4384022a1c36c41bd528502": {
      "model_module": "@jupyter-widgets/controls",
      "model_module_version": "1.2.0",
      "model_name": "DescriptionStyleModel",
      "state": {
       "description_width": ""
      }
     },
     "b44f50020b3f47899df9d43f22800286": {
      "model_module": "@jupyter-widgets/controls",
      "model_module_version": "1.2.0",
      "model_name": "DescriptionStyleModel",
      "state": {
       "description_width": ""
      }
     },
     "b452bb11186a4cf78f1e9b2d3fa131cb": {
      "model_module": "@jupyter-widgets/base",
      "model_module_version": "1.0.0",
      "model_name": "LayoutModel",
      "state": {}
     },
     "b4b87d2daf8d4354bc4aeded7bbb337a": {
      "model_module": "@jupyter-widgets/base",
      "model_module_version": "1.0.0",
      "model_name": "LayoutModel",
      "state": {
       "width": "auto"
      }
     },
     "b50f825c26224ace9d3e2473101c0652": {
      "model_module": "@jupyter-widgets/controls",
      "model_module_version": "1.2.0",
      "model_name": "HBoxModel",
      "state": {
       "children": [
        "IPY_MODEL_0018d2c8cdc24975953919ccc4a08340",
        "IPY_MODEL_b0a36d5dd029428f8cc9b3cd853c1150",
        "IPY_MODEL_8356a8afa94944eb825a6d03d33ca378"
       ],
       "layout": "IPY_MODEL_c78130ee7d2e4b719e24946c20c7c08a"
      }
     },
     "b5382e8e4a334e689f87ee8406f5b5a4": {
      "model_module": "@jupyter-widgets/controls",
      "model_module_version": "1.2.0",
      "model_name": "VBoxModel",
      "state": {
       "children": [
        "IPY_MODEL_772b179f43af4b2b865d04bb49f67aef",
        "IPY_MODEL_8ab3bf5637d24546a209820bd9d7806c"
       ],
       "layout": "IPY_MODEL_5ce0ca89fff74ff98c74dfb4db051a59"
      }
     },
     "b57dc1953e9a489ca39fe075f60fd3d1": {
      "model_module": "@jupyter-widgets/controls",
      "model_module_version": "1.2.0",
      "model_name": "FloatTextModel",
      "state": {
       "description": "radius",
       "layout": "IPY_MODEL_21e3f66ac5e84b76ade247bbee7d3a2e",
       "step": 0.1,
       "style": "IPY_MODEL_a90c2c8136e54153aa578afefecb3ab1",
       "value": 1
      }
     },
     "b58c8e2dcd0749fa99d7f25245da27a6": {
      "model_module": "@jupyter-widgets/controls",
      "model_module_version": "1.2.0",
      "model_name": "DescriptionStyleModel",
      "state": {
       "description_width": ""
      }
     },
     "b5b4c64f5cef49d2848c1cc638b21707": {
      "model_module": "@jupyter-widgets/controls",
      "model_module_version": "1.2.0",
      "model_name": "CheckboxModel",
      "state": {
       "description": "Show loc.",
       "disabled": false,
       "indent": false,
       "layout": "IPY_MODEL_86c9ec232b3e4bfbbe8fd140a5e6d5d3",
       "style": "IPY_MODEL_047b67ca52234b498d91b3ffeb8eca13",
       "value": true
      }
     },
     "b5cc62b6605a4e0da267d7b8f688c41c": {
      "model_module": "@jupyter-widgets/controls",
      "model_module_version": "1.2.0",
      "model_name": "DescriptionStyleModel",
      "state": {
       "description_width": ""
      }
     },
     "b5e64162ec114633ab2e395c4eb15d65": {
      "model_module": "@jupyter-widgets/base",
      "model_module_version": "1.0.0",
      "model_name": "LayoutModel",
      "state": {}
     },
     "b5eb7a59cbc243f9bc0d874649257b37": {
      "model_module": "@jupyter-widgets/base",
      "model_module_version": "1.0.0",
      "model_name": "LayoutModel",
      "state": {}
     },
     "b604c6fd56b54052a2ef2e4dc721225b": {
      "model_module": "@jupyter-widgets/controls",
      "model_module_version": "1.2.0",
      "model_name": "DescriptionStyleModel",
      "state": {
       "description_width": ""
      }
     },
     "b61fb761db744db38b5c72ab47e45def": {
      "model_module": "@jupyter-widgets/controls",
      "model_module_version": "1.2.0",
      "model_name": "HBoxModel",
      "state": {
       "children": [
        "IPY_MODEL_19e54e8518c447c6a57fc58c7d49c2ed",
        "IPY_MODEL_ebb31843612e4b4fb1f96750a22bf8a9"
       ],
       "layout": "IPY_MODEL_d0a9f7327ced408cb3b75e015b51cd4e"
      }
     },
     "b64b2a850a8548d383e5d93c5c00ba3c": {
      "model_module": "@jupyter-widgets/controls",
      "model_module_version": "1.2.0",
      "model_name": "ButtonStyleModel",
      "state": {}
     },
     "b652dfbfd4214265ae3872e3f49c3b2f": {
      "model_module": "@jupyter-widgets/controls",
      "model_module_version": "1.2.0",
      "model_name": "FloatTextModel",
      "state": {
       "description": "max.",
       "layout": "IPY_MODEL_fc80433e6cbb4660907789ce9b6c5583",
       "step": 0.1,
       "style": "IPY_MODEL_3b7d0dbaf2214570a98eb67de0b91a6f",
       "value": 2
      }
     },
     "b65b0c2916c34ab2981f5b32a3125ffd": {
      "model_module": "@jupyter-widgets/controls",
      "model_module_version": "1.2.0",
      "model_name": "DropdownModel",
      "state": {
       "_options_labels": [
        "Identity",
        "Cg",
        "Gaussian"
       ],
       "description": "find filter",
       "index": 1,
       "layout": "IPY_MODEL_7abeedd3279141b7bdec9c5c09ab7c9e",
       "style": "IPY_MODEL_7e1a9bca2032487a90f1a46296047b9c"
      }
     },
     "b6a004b7e5574931b253328f1ad72624": {
      "model_module": "@jupyter-widgets/base",
      "model_module_version": "1.0.0",
      "model_name": "LayoutModel",
      "state": {}
     },
     "b6b5ec2ac43143aba6ce332348eb4c85": {
      "model_module": "@jupyter-widgets/base",
      "model_module_version": "1.0.0",
      "model_name": "LayoutModel",
      "state": {}
     },
     "b6fe90eea41749a7bce3105c113eb223": {
      "model_module": "@jupyter-widgets/base",
      "model_module_version": "1.0.0",
      "model_name": "LayoutModel",
      "state": {}
     },
     "b7023a71516749418cd7b2acb31271a9": {
      "model_module": "@jupyter-widgets/base",
      "model_module_version": "1.0.0",
      "model_name": "LayoutModel",
      "state": {}
     },
     "b724a9b097eb4e71b1647452e5cbb443": {
      "model_module": "@jupyter-widgets/controls",
      "model_module_version": "1.2.0",
      "model_name": "DescriptionStyleModel",
      "state": {
       "description_width": ""
      }
     },
     "b74b4eaa76f44ed9a4ce52c21cca5318": {
      "model_module": "@jupyter-widgets/controls",
      "model_module_version": "1.2.0",
      "model_name": "DescriptionStyleModel",
      "state": {
       "description_width": ""
      }
     },
     "b779a4a37c6a4f399fb21a145bd6c38d": {
      "model_module": "@jupyter-widgets/base",
      "model_module_version": "1.0.0",
      "model_name": "LayoutModel",
      "state": {
       "border": "1px solid gray"
      }
     },
     "b7be599876324851838edcbef4a6ffcb": {
      "model_module": "@jupyter-widgets/controls",
      "model_module_version": "1.2.0",
      "model_name": "DescriptionStyleModel",
      "state": {
       "description_width": ""
      }
     },
     "b80d9fa544a9403f812443b83f778e0b": {
      "model_module": "@jupyter-widgets/controls",
      "model_module_version": "1.2.0",
      "model_name": "DropdownModel",
      "state": {
       "_options_labels": [
        "2d_fixed",
        "2d",
        "3d"
       ],
       "description": "model",
       "index": 1,
       "layout": "IPY_MODEL_fd98c9302b7b4b3abbb89b28387d4e6c",
       "style": "IPY_MODEL_d38c2650916a4a689d6ef7c0cef83dc4"
      }
     },
     "b82779e5259840ff900ea767f35db084": {
      "model_module": "@jupyter-widgets/base",
      "model_module_version": "1.0.0",
      "model_name": "LayoutModel",
      "state": {
       "display": "none"
      }
     },
     "b835c5938556463d920bf178b1a8a77c": {
      "model_module": "@jupyter-widgets/controls",
      "model_module_version": "1.2.0",
      "model_name": "DescriptionStyleModel",
      "state": {
       "description_width": ""
      }
     },
     "b855b6287cc040bc9e1b3ef584ff3795": {
      "model_module": "@jupyter-widgets/controls",
      "model_module_version": "1.2.0",
      "model_name": "FloatTextModel",
      "state": {
       "description": "min.",
       "layout": "IPY_MODEL_e761c5db4766467895ca2f34b0e4a0da",
       "step": 0.1,
       "style": "IPY_MODEL_358b3eb253e04bf2a0db36e0448d9957",
       "value": 0.5
      }
     },
     "b88e8f7039e3448daf04fdfbbd09bfa0": {
      "model_module": "@jupyter-widgets/base",
      "model_module_version": "1.0.0",
      "model_name": "LayoutModel",
      "state": {
       "display": "none"
      }
     },
     "b8bf6710a4c94d7b87427476ccb92d04": {
      "model_module": "@jupyter-widgets/controls",
      "model_module_version": "1.2.0",
      "model_name": "DescriptionStyleModel",
      "state": {
       "description_width": ""
      }
     },
     "b8ea3b7b0dca4273866f1b5b92cca58b": {
      "model_module": "@jupyter-widgets/controls",
      "model_module_version": "1.2.0",
      "model_name": "DescriptionStyleModel",
      "state": {
       "description_width": ""
      }
     },
     "b96ba1d49c2045b4a31929bea958a44d": {
      "model_module": "@jupyter-widgets/controls",
      "model_module_version": "1.2.0",
      "model_name": "DescriptionStyleModel",
      "state": {
       "description_width": ""
      }
     },
     "b97477e6a04949cb99a424a06ac29b0d": {
      "model_module": "@jupyter-widgets/controls",
      "model_module_version": "1.2.0",
      "model_name": "DropdownModel",
      "state": {
       "_options_labels": [
        "Identity",
        "Cg",
        "Gaussian"
       ],
       "description": "find filter",
       "index": 1,
       "layout": "IPY_MODEL_4e9b38d94f214dffa4299200cd9f0d37",
       "style": "IPY_MODEL_dad3538d532141688f011f43545d73aa"
      }
     },
     "b9c3b9812bdb47468e36ab1cba60367c": {
      "model_module": "@jupyter-widgets/controls",
      "model_module_version": "1.2.0",
      "model_name": "SelectModel",
      "state": {
       "_options_labels": [
        "data/beads/beads_000_.SPE",
        "data/beads/beads_001_.SPE",
        "data/beads/beads_002_.SPE",
        "data/beads/beads_003_.SPE",
        "data/beads/beads_004_.SPE",
        "data/beads/beads_005_.SPE",
        "data/beads/beads_006_.SPE",
        "data/beads/beads_007_.SPE",
        "data/beads/beads_008_.SPE",
        "data/beads/beads_009_.SPE"
       ],
       "index": 0,
       "layout": "IPY_MODEL_f4d925586cb5456aaa0898a766e65d87",
       "style": "IPY_MODEL_bd2658b84fad45d5b8c6778b5860642c"
      }
     },
     "b9cbd436c2e04d47a81f8ef4f91f7582": {
      "model_module": "@jupyter-widgets/base",
      "model_module_version": "1.0.0",
      "model_name": "LayoutModel",
      "state": {}
     },
     "b9d61e8c852c46c0ae27e1f2932f1f1c": {
      "model_module": "@jupyter-widgets/controls",
      "model_module_version": "1.2.0",
      "model_name": "HBoxModel",
      "state": {
       "children": [
        "IPY_MODEL_2d00fffaf6f0433197e27cafa9c30d99",
        "IPY_MODEL_b32d337b3b204c9daa108c4ff6af626e"
       ],
       "layout": "IPY_MODEL_b6b5ec2ac43143aba6ce332348eb4c85"
      }
     },
     "ba08a73ea0dd4a3d82ca9fb760ae89a9": {
      "model_module": "@jupyter-widgets/base",
      "model_module_version": "1.0.0",
      "model_name": "LayoutModel",
      "state": {
       "width": "100%"
      }
     },
     "ba32f52a09ba4be0a15c783a0684960d": {
      "model_module": "@jupyter-widgets/controls",
      "model_module_version": "1.2.0",
      "model_name": "DescriptionStyleModel",
      "state": {
       "description_width": ""
      }
     },
     "ba4b38a72c384dad96d19ead478c0aba": {
      "model_module": "@jupyter-widgets/base",
      "model_module_version": "1.0.0",
      "model_name": "LayoutModel",
      "state": {
       "width": "75%"
      }
     },
     "ba6a6ecec4be4859bb469f698578e451": {
      "model_module": "@jupyter-widgets/controls",
      "model_module_version": "1.2.0",
      "model_name": "DropdownModel",
      "state": {
       "_options_labels": [
        "Identity",
        "Cg",
        "Gaussian"
       ],
       "description": "find filter",
       "index": 0,
       "layout": "IPY_MODEL_5b4c982706bd4240a5f71a5464d607e3",
       "style": "IPY_MODEL_a40f15a73d6e4d00bb1f193a2595e695"
      }
     },
     "ba88b9f7da7b42969d3652112931e030": {
      "model_module": "@jupyter-widgets/controls",
      "model_module_version": "1.2.0",
      "model_name": "ButtonModel",
      "state": {
       "description": "Auto",
       "layout": "IPY_MODEL_0861d974a75343e6ad8cf9bb30904b63",
       "style": "IPY_MODEL_45a97c7bfdde493ab1761063e56f09de"
      }
     },
     "ba9317bcc582450e8dfd0a9089f6527a": {
      "model_module": "@jupyter-widgets/controls",
      "model_module_version": "1.2.0",
      "model_name": "FloatTextModel",
      "state": {
       "description": "radius",
       "layout": "IPY_MODEL_69c49179c0774ba98959a23ea0b81c8a",
       "step": 0.1,
       "style": "IPY_MODEL_3761dc572846486f8ca53e123fbe0f0f",
       "value": 1
      }
     },
     "bac1451325334616913ac648bdb007ff": {
      "model_module": "@jupyter-widgets/controls",
      "model_module_version": "1.2.0",
      "model_name": "CheckboxModel",
      "state": {
       "description": "Size range",
       "disabled": false,
       "indent": false,
       "layout": "IPY_MODEL_25b3ace3c419458dae29cd6b98c93d8a",
       "style": "IPY_MODEL_789824ebdafe4a8697df288cd17ebbb9",
       "value": false
      }
     },
     "baf972ed6604436caea88a93149e1b79": {
      "model_module": "@jupyter-widgets/controls",
      "model_module_version": "1.2.0",
      "model_name": "VBoxModel",
      "state": {
       "children": [
        "IPY_MODEL_7f4b4f3d85e34deeb1ea4774d8aefa66",
        "IPY_MODEL_d03f9cd65f624aa1b3062d444534c742",
        "IPY_MODEL_bb25961a7b1a4de99717342b4d717dd2"
       ],
       "layout": "IPY_MODEL_e443c838649f4033956e752b74c810a0"
      }
     },
     "bb25961a7b1a4de99717342b4d717dd2": {
      "model_module": "@jupyter-widgets/controls",
      "model_module_version": "1.2.0",
      "model_name": "FloatTextModel",
      "state": {
       "description": "max.",
       "layout": "IPY_MODEL_b82779e5259840ff900ea767f35db084",
       "step": 0.1,
       "style": "IPY_MODEL_24f9aca8649f438e8f190b3fb6de6a2a",
       "value": 2
      }
     },
     "bb271e1802df495589914f40f18a32f8": {
      "model_module": "@jupyter-widgets/base",
      "model_module_version": "1.0.0",
      "model_name": "LayoutModel",
      "state": {
       "width": "auto"
      }
     },
     "bb604ae06bca40698a9fcf491bc9deab": {
      "model_module": "@jupyter-widgets/controls",
      "model_module_version": "1.2.0",
      "model_name": "DescriptionStyleModel",
      "state": {
       "description_width": ""
      }
     },
     "bbd7f68a391d421a992938952a90e1ec": {
      "model_module": "@jupyter-widgets/controls",
      "model_module_version": "1.2.0",
      "model_name": "LabelModel",
      "state": {
       "layout": "IPY_MODEL_49c8320dadf14967a9795101e0bd5512",
       "style": "IPY_MODEL_131d72ed5e92478eb026faf47c0daf88",
       "value": "Locating beads (file 9/10)"
      }
     },
     "bbfa607bfd6a4404b67fb4e05e5b41f0": {
      "model_module": "@jupyter-widgets/base",
      "model_module_version": "1.0.0",
      "model_name": "LayoutModel",
      "state": {}
     },
     "bc632cbfdf9d4927a3f062368302e1a6": {
      "model_module": "@jupyter-widgets/controls",
      "model_module_version": "1.2.0",
      "model_name": "DescriptionStyleModel",
      "state": {
       "description_width": ""
      }
     },
     "bc80a2902e974e47896e17c68df9abe2": {
      "model_module": "@jupyter-widgets/controls",
      "model_module_version": "1.2.0",
      "model_name": "FloatTextModel",
      "state": {
       "description": "sigma",
       "layout": "IPY_MODEL_d0925dc0e0ca4010b09c0028c21651f8",
       "step": 0.1,
       "style": "IPY_MODEL_795f3086492145fdaab5abf5b6f33fcf",
       "value": 1
      }
     },
     "bc8765e56b834e90964fd735b31f2ee0": {
      "model_module": "@jupyter-widgets/controls",
      "model_module_version": "1.2.0",
      "model_name": "HBoxModel",
      "state": {
       "children": [
        "IPY_MODEL_d735dba375544b108334d705a917ad42",
        "IPY_MODEL_9f5cec8de4394f3cb422e340329abbd4"
       ],
       "layout": "IPY_MODEL_6d9a4ac3d5f64015906cf9c1bc5687cd"
      }
     },
     "bc8d0036b27049a28229c5694daababe": {
      "model_module": "@jupyter-widgets/controls",
      "model_module_version": "1.2.0",
      "model_name": "DescriptionStyleModel",
      "state": {
       "description_width": ""
      }
     },
     "bce61fa1fd5a43f4886194936763e3ed": {
      "model_module": "@jupyter-widgets/base",
      "model_module_version": "1.0.0",
      "model_name": "LayoutModel",
      "state": {
       "display": "inline"
      }
     },
     "bce89a422b444942868646b14b761ac3": {
      "model_module": "@jupyter-widgets/base",
      "model_module_version": "1.0.0",
      "model_name": "LayoutModel",
      "state": {}
     },
     "bd1cc151eca24bbcb96a7671dcc39bda": {
      "model_module": "@jupyter-widgets/base",
      "model_module_version": "1.0.0",
      "model_name": "LayoutModel",
      "state": {
       "display": "none"
      }
     },
     "bd22c8a2345642818cdb6541030c13ac": {
      "model_module": "@jupyter-widgets/base",
      "model_module_version": "1.0.0",
      "model_name": "LayoutModel",
      "state": {
       "width": "75%"
      }
     },
     "bd2658b84fad45d5b8c6778b5860642c": {
      "model_module": "@jupyter-widgets/controls",
      "model_module_version": "1.2.0",
      "model_name": "DescriptionStyleModel",
      "state": {
       "description_width": ""
      }
     },
     "bd2af5b109eb499596c35b07c0e3869c": {
      "model_module": "@jupyter-widgets/controls",
      "model_module_version": "1.2.0",
      "model_name": "FloatTextModel",
      "state": {
       "description": "min.",
       "layout": "IPY_MODEL_f7e842be7c944fb69496cb31fbb38bec",
       "step": 0.1,
       "style": "IPY_MODEL_db82f6ed96e04ec180beeb0545306c8e",
       "value": 0.5
      }
     },
     "bd42a13e206240c8af39f2f3f7f56011": {
      "model_module": "@jupyter-widgets/controls",
      "model_module_version": "1.2.0",
      "model_name": "FloatTextModel",
      "state": {
       "description": "min.",
       "layout": "IPY_MODEL_fc4d7edd33564569a7c473aa2e8a8815",
       "step": 0.1,
       "style": "IPY_MODEL_7f68fd8890284cd78451354497414a02",
       "value": 0.5
      }
     },
     "bd81eb7a1afa4fbcbbd9822542efb5c3": {
      "model_module": "@jupyter-widgets/controls",
      "model_module_version": "1.2.0",
      "model_name": "CheckboxModel",
      "state": {
       "description": "Min. distance",
       "disabled": false,
       "indent": false,
       "layout": "IPY_MODEL_ff2f313871b44293895ec6b4604982c5",
       "style": "IPY_MODEL_3498c71ae10b40a4b58604efc7571bca",
       "value": false
      }
     },
     "bdd95c5267ef40069426a2ef7b620280": {
      "model_module": "@jupyter-widgets/controls",
      "model_module_version": "1.2.0",
      "model_name": "ButtonStyleModel",
      "state": {}
     },
     "bddeef8635e24bceafdda453f3f2e607": {
      "model_module": "@jupyter-widgets/controls",
      "model_module_version": "1.2.0",
      "model_name": "HBoxModel",
      "state": {
       "children": [
        "IPY_MODEL_204a0f3ab1ae479497beda405bcf1a5f",
        "IPY_MODEL_c9f372b0ab0d4fdda5533184e3b3146b"
       ],
       "layout": "IPY_MODEL_8c9cc2e6767c4ccbb3209f8c4a732d67"
      }
     },
     "be11f35f752d44c2ab2401edc51474f7": {
      "model_module": "@jupyter-widgets/controls",
      "model_module_version": "1.2.0",
      "model_name": "DescriptionStyleModel",
      "state": {
       "description_width": ""
      }
     },
     "be34a16d9dee4f9a9bd6a2dd669192be": {
      "model_module": "@jupyter-widgets/controls",
      "model_module_version": "1.2.0",
      "model_name": "DescriptionStyleModel",
      "state": {
       "description_width": ""
      }
     },
     "be3a0af7e882478dadfc26ac39e5fd12": {
      "model_module": "@jupyter-widgets/controls",
      "model_module_version": "1.2.0",
      "model_name": "IntTextModel",
      "state": {
       "description": "feat. size",
       "layout": "IPY_MODEL_f822a069710f437c95967f9f7684216d",
       "step": 1,
       "style": "IPY_MODEL_96506e07324c4510b46d91e7e827b24b",
       "value": 3
      }
     },
     "be6a59e5eb1a4e0ba562040a521833e5": {
      "model_module": "@jupyter-widgets/base",
      "model_module_version": "1.0.0",
      "model_name": "LayoutModel",
      "state": {}
     },
     "be961b89ce0a4149973cabf1c701a3d0": {
      "model_module": "@jupyter-widgets/base",
      "model_module_version": "1.0.0",
      "model_name": "LayoutModel",
      "state": {}
     },
     "bea4f44c38254f5da66178f0078b2e5b": {
      "model_module": "@jupyter-widgets/controls",
      "model_module_version": "1.2.0",
      "model_name": "DescriptionStyleModel",
      "state": {
       "description_width": ""
      }
     },
     "beadb326477547afa2bb70de10978a4d": {
      "model_module": "@jupyter-widgets/controls",
      "model_module_version": "1.2.0",
      "model_name": "VBoxModel",
      "state": {
       "children": [
        "IPY_MODEL_7d8707fd46d64a3c8c0031d3914e3f5f",
        "IPY_MODEL_1a7f60fb844840a79fe1bfc9d493b4d9",
        "IPY_MODEL_2bdc6286bc324446abeb806728914f9b",
        "IPY_MODEL_ab78fe67db564683aec5835c7ecaa972",
        "IPY_MODEL_6a858d8095174f94a3d6a44346aad751",
        "IPY_MODEL_2e5a7d571e3a46eb8df1918e46ef0e05"
       ],
       "layout": "IPY_MODEL_2be1c140067242058022433e037e7d46"
      }
     },
     "beb0446a9fe94320aefb2c66df80ab34": {
      "model_module": "@jupyter-widgets/base",
      "model_module_version": "1.0.0",
      "model_name": "LayoutModel",
      "state": {}
     },
     "bed8cb7bc5d240ed9659485bda8a0bb4": {
      "model_module": "@jupyter-widgets/controls",
      "model_module_version": "1.2.0",
      "model_name": "SelectModel",
      "state": {
       "_options_labels": [
        "sensor-H57/cells-01_SAv-100k_SSS-H57-20k_000_.SPE"
       ],
       "index": 0,
       "layout": "IPY_MODEL_24a26ed920a841b79ce1e40c95c04c75",
       "style": "IPY_MODEL_428c3ec84c5e4239baf70014d127047e"
      }
     },
     "beff15dfb8ff45bcaf2ebaacab8a2390": {
      "model_module": "@jupyter-widgets/controls",
      "model_module_version": "1.2.0",
      "model_name": "LabelModel",
      "state": {
       "layout": "IPY_MODEL_eb93cedbbc1a4dd899a9900ff44c55a5",
       "style": "IPY_MODEL_063a0a7144d44c968349e73ffdaafdfe",
       "value": "Tracking ctrl-H57/no-cells_SAv-100k_SSS-ctrl-H57-50k_029_.SPE (213/213)"
      }
     },
     "bf2692aeecb549829f7c3a5b5a006233": {
      "model_module": "@jupyter-widgets/base",
      "model_module_version": "1.0.0",
      "model_name": "LayoutModel",
      "state": {}
     },
     "bf3f8014db0a4ed6826e77c8d891e255": {
      "model_module": "@jupyter-widgets/base",
      "model_module_version": "1.0.0",
      "model_name": "LayoutModel",
      "state": {
       "display": "none"
      }
     },
     "bf3ff81513954d90b2eeaa52a708c72e": {
      "model_module": "@jupyter-widgets/controls",
      "model_module_version": "1.2.0",
      "model_name": "HBoxModel",
      "state": {
       "children": [
        "IPY_MODEL_564e84c78d7a42648e50327e3be7be4e",
        "IPY_MODEL_d09c9c8759db4d27b3f03851cedd0f87"
       ],
       "layout": "IPY_MODEL_28dc5f98ecd749c4aafd9e308637a0af"
      }
     },
     "bf65372f5d3047ebb15da62caa1c4521": {
      "model_module": "@jupyter-widgets/controls",
      "model_module_version": "1.2.0",
      "model_name": "DescriptionStyleModel",
      "state": {
       "description_width": ""
      }
     },
     "bfab9ba562884a3e81d2e2b4af74b31d": {
      "model_module": "@jupyter-widgets/controls",
      "model_module_version": "1.2.0",
      "model_name": "DropdownModel",
      "state": {
       "_options_labels": [
        "Identity",
        "Cg",
        "Gaussian"
       ],
       "description": "find filter",
       "index": 1,
       "layout": "IPY_MODEL_4ed19061fd9542a1b606cf50a950529f",
       "style": "IPY_MODEL_632863c5ef4740a3a8fa5303d98054f5"
      }
     },
     "bfec349152fa4833b470d8ec1259aab1": {
      "model_module": "@jupyter-widgets/base",
      "model_module_version": "1.0.0",
      "model_name": "LayoutModel",
      "state": {}
     },
     "c02e2719552f4f6f8a7163d508f464e5": {
      "model_module": "@jupyter-widgets/controls",
      "model_module_version": "1.2.0",
      "model_name": "FloatTextModel",
      "state": {
       "description": "threshold",
       "layout": "IPY_MODEL_b0276e39446a4fa1a4730e98a1c01134",
       "step": 10,
       "style": "IPY_MODEL_a93b0a99d293436297cf9bc57e0df4a6",
       "value": 80
      }
     },
     "c05d01372e25444d88e67353b0dceba0": {
      "model_module": "@jupyter-widgets/base",
      "model_module_version": "1.0.0",
      "model_name": "LayoutModel",
      "state": {}
     },
     "c06cf69ddada43d0ab1f18c8c3045aa7": {
      "model_module": "@jupyter-widgets/controls",
      "model_module_version": "1.2.0",
      "model_name": "DescriptionStyleModel",
      "state": {
       "description_width": ""
      }
     },
     "c0c6fbf615274e70adf571485cf9d79d": {
      "model_module": "@jupyter-widgets/base",
      "model_module_version": "1.0.0",
      "model_name": "LayoutModel",
      "state": {
       "display": "flex",
       "flex_flow": "column wrap",
       "width": "66%"
      }
     },
     "c0cb02d39b9b41a9a00970f9fd86b677": {
      "model_module": "@jupyter-widgets/base",
      "model_module_version": "1.0.0",
      "model_name": "LayoutModel",
      "state": {}
     },
     "c0d5b515691a4f1bb53ebd8f89b9dd30": {
      "model_module": "@jupyter-widgets/base",
      "model_module_version": "1.0.0",
      "model_name": "LayoutModel",
      "state": {}
     },
     "c10ac3a630a244a48c1c28ae64614898": {
      "model_module": "@jupyter-widgets/controls",
      "model_module_version": "1.2.0",
      "model_name": "IntRangeSliderModel",
      "state": {
       "_model_name": "IntRangeSliderModel",
       "_view_name": "IntRangeSliderView",
       "layout": "IPY_MODEL_5e983447fe54437d9c0af3899af33f20",
       "max": 65535,
       "style": "IPY_MODEL_cd8ac3be2fdd48b181b57c15faf5cb6a",
       "value": [
        134,
        25393
       ]
      }
     },
     "c13c87d8a61b400294b808a93d1b5eec": {
      "model_module": "@jupyter-widgets/controls",
      "model_module_version": "1.2.0",
      "model_name": "SelectModel",
      "state": {
       "_options_labels": [
        "data/beads/beads_000_.SPE",
        "data/beads/beads_001_.SPE",
        "data/beads/beads_002_.SPE",
        "data/beads/beads_003_.SPE",
        "data/beads/beads_004_.SPE",
        "data/beads/beads_005_.SPE",
        "data/beads/beads_006_.SPE",
        "data/beads/beads_007_.SPE",
        "data/beads/beads_008_.SPE",
        "data/beads/beads_009_.SPE"
       ],
       "index": 0,
       "layout": "IPY_MODEL_f29de83593364a6189ab59bcbb2c320b",
       "style": "IPY_MODEL_9df44ccbe9d64083b3a5dcdfa81c50fc"
      }
     },
     "c1a95db583ea40a8bd5289f44bcfe4db": {
      "model_module": "@jupyter-widgets/base",
      "model_module_version": "1.0.0",
      "model_name": "LayoutModel",
      "state": {
       "width": "auto"
      }
     },
     "c1d97af4af07498cae7d5b1c4be5295c": {
      "model_module": "@jupyter-widgets/controls",
      "model_module_version": "1.2.0",
      "model_name": "DescriptionStyleModel",
      "state": {
       "description_width": ""
      }
     },
     "c1efcae4c8094bcfaffe2b2e7f27bf45": {
      "model_module": "@jupyter-widgets/base",
      "model_module_version": "1.0.0",
      "model_name": "LayoutModel",
      "state": {
       "display": "inline"
      }
     },
     "c1f3b65adfd44722b49ea4a4ff69c29f": {
      "model_module": "@jupyter-widgets/controls",
      "model_module_version": "1.2.0",
      "model_name": "DescriptionStyleModel",
      "state": {
       "description_width": ""
      }
     },
     "c211590667d94e1ba903d9bb41556f7f": {
      "model_module": "@jupyter-widgets/base",
      "model_module_version": "1.0.0",
      "model_name": "LayoutModel",
      "state": {
       "width": "auto"
      }
     },
     "c22b5f9b02324eb09eefa0fc3f053283": {
      "model_module": "@jupyter-widgets/controls",
      "model_module_version": "1.2.0",
      "model_name": "VBoxModel",
      "state": {
       "children": [
        "IPY_MODEL_5c401ea5da0d4848be95abb0540b7161",
        "IPY_MODEL_8eb933fcf2094529bcfaa1d445261b92",
        "IPY_MODEL_18cf4394760945b48cbef11a18c60810"
       ],
       "layout": "IPY_MODEL_1753f17a9cd74bb9be12223d1a6173b3"
      }
     },
     "c230cc0668ed41d99de71598ded8c06c": {
      "model_module": "@jupyter-widgets/controls",
      "model_module_version": "1.2.0",
      "model_name": "DescriptionStyleModel",
      "state": {
       "description_width": ""
      }
     },
     "c265d3f7ada04e2e84dee92b602bca76": {
      "model_module": "@jupyter-widgets/controls",
      "model_module_version": "1.2.0",
      "model_name": "DescriptionStyleModel",
      "state": {
       "description_width": ""
      }
     },
     "c2a65a1077bf4b1c9b3ba8ffd3359b39": {
      "model_module": "@jupyter-widgets/base",
      "model_module_version": "1.0.0",
      "model_name": "LayoutModel",
      "state": {
       "display": "none"
      }
     },
     "c32e96aa935a4d6ea9606f2f464dd04c": {
      "model_module": "@jupyter-widgets/controls",
      "model_module_version": "1.2.0",
      "model_name": "LabelModel",
      "state": {
       "layout": "IPY_MODEL_676fe8fb0afc4b668410ab402d1ad0ba",
       "style": "IPY_MODEL_cd9fb810d7d545a28ff6305a502a3ac9",
       "value": "Locating beads (file 10/10)"
      }
     },
     "c35106bfaa0941c6b210074ade26615e": {
      "model_module": "@jupyter-widgets/base",
      "model_module_version": "1.0.0",
      "model_name": "LayoutModel",
      "state": {
       "width": "auto"
      }
     },
     "c37a86f18d434de481acc8f8c3e59e8c": {
      "model_module": "@jupyter-widgets/controls",
      "model_module_version": "1.2.0",
      "model_name": "DescriptionStyleModel",
      "state": {
       "description_width": ""
      }
     },
     "c3cef7fe114b456782edabca88e03ff7": {
      "model_module": "@jupyter-widgets/controls",
      "model_module_version": "1.2.0",
      "model_name": "FloatTextModel",
      "state": {
       "description": "max.",
       "layout": "IPY_MODEL_c46e9b9cc80e4f7aac5ecd0e944de969",
       "step": 0.1,
       "style": "IPY_MODEL_f2bd6ab3067c4d40a222a12115b3f9b8",
       "value": 2
      }
     },
     "c3d8f89ab77d429f888f97aaa68c08bc": {
      "model_module": "@jupyter-widgets/controls",
      "model_module_version": "1.2.0",
      "model_name": "DescriptionStyleModel",
      "state": {
       "description_width": ""
      }
     },
     "c4653ddb5cb94a6c934669e33210cd7a": {
      "model_module": "@jupyter-widgets/base",
      "model_module_version": "1.0.0",
      "model_name": "LayoutModel",
      "state": {}
     },
     "c46874c368de438694b59a5b5b8ea525": {
      "model_module": "@jupyter-widgets/controls",
      "model_module_version": "1.2.0",
      "model_name": "DescriptionStyleModel",
      "state": {
       "description_width": ""
      }
     },
     "c46bff04e59e428ab26ff8f5898b4277": {
      "model_module": "@jupyter-widgets/base",
      "model_module_version": "1.0.0",
      "model_name": "LayoutModel",
      "state": {}
     },
     "c46e9b9cc80e4f7aac5ecd0e944de969": {
      "model_module": "@jupyter-widgets/base",
      "model_module_version": "1.0.0",
      "model_name": "LayoutModel",
      "state": {
       "display": "none"
      }
     },
     "c4865af8e5dd49cd8f5d7afa13b14e00": {
      "model_module": "@jupyter-widgets/base",
      "model_module_version": "1.0.0",
      "model_name": "LayoutModel",
      "state": {}
     },
     "c4a58ea60bdf4b0caf83c160414e7aef": {
      "model_module": "@jupyter-widgets/controls",
      "model_module_version": "1.2.0",
      "model_name": "DescriptionStyleModel",
      "state": {
       "description_width": ""
      }
     },
     "c4de4d48993e40d28053ddf2b8098a13": {
      "model_module": "@jupyter-widgets/controls",
      "model_module_version": "1.2.0",
      "model_name": "DescriptionStyleModel",
      "state": {
       "description_width": ""
      }
     },
     "c523bab02603413d9c264d7487782c42": {
      "model_module": "@jupyter-widgets/controls",
      "model_module_version": "1.2.0",
      "model_name": "DescriptionStyleModel",
      "state": {
       "description_width": ""
      }
     },
     "c54deae8c71e4325b7202a96264e416b": {
      "model_module": "@jupyter-widgets/controls",
      "model_module_version": "1.2.0",
      "model_name": "DescriptionStyleModel",
      "state": {
       "description_width": ""
      }
     },
     "c5656558055948b2a4fa9d3f966364fa": {
      "model_module": "@jupyter-widgets/base",
      "model_module_version": "1.0.0",
      "model_name": "LayoutModel",
      "state": {}
     },
     "c57d74a3f1f74f49b351cce658a8ba60": {
      "model_module": "@jupyter-widgets/controls",
      "model_module_version": "1.2.0",
      "model_name": "HBoxModel",
      "state": {
       "children": [
        "IPY_MODEL_f615b949df694769bd5bf0199b1c7302",
        "IPY_MODEL_d997084149b24a16adf3ec0089df3b87"
       ],
       "layout": "IPY_MODEL_fd298f088b594c4bb584486154f5f2ad"
      }
     },
     "c5a09fe99ce7403da8ed57fba46e3dd0": {
      "model_module": "@jupyter-widgets/base",
      "model_module_version": "1.0.0",
      "model_name": "LayoutModel",
      "state": {}
     },
     "c62c2c99ee194cfaa7e1b15115dca277": {
      "model_module": "@jupyter-widgets/base",
      "model_module_version": "1.0.0",
      "model_name": "LayoutModel",
      "state": {
       "width": "auto"
      }
     },
     "c65c0211461f4256825de855d1499e54": {
      "model_module": "@jupyter-widgets/base",
      "model_module_version": "1.0.0",
      "model_name": "LayoutModel",
      "state": {
       "display": "inline"
      }
     },
     "c6a9fc6e0e6a4098995eb4a9aafbd685": {
      "model_module": "@jupyter-widgets/controls",
      "model_module_version": "1.2.0",
      "model_name": "FloatTextModel",
      "state": {
       "description": "sigma",
       "layout": "IPY_MODEL_5cd611847aa444c08a1fca2c7acaffd1",
       "step": 0.1,
       "style": "IPY_MODEL_8d75a98fccc24a73858cf40373ff49b1",
       "value": 1
      }
     },
     "c6ad2c66e23145308004adb901174003": {
      "model_module": "@jupyter-widgets/controls",
      "model_module_version": "1.2.0",
      "model_name": "VBoxModel",
      "state": {
       "children": [
        "IPY_MODEL_8fb1f61f7e624f7285afd816a6b4a06e",
        "IPY_MODEL_94aeddc830d34daaa6518c6373b3ad59"
       ],
       "layout": "IPY_MODEL_d1454b9d7e1e4968bcd840c451e5d9dc"
      }
     },
     "c6b5a2c35ab346b5939abbc473b6e036": {
      "model_module": "@jupyter-widgets/controls",
      "model_module_version": "1.2.0",
      "model_name": "CheckboxModel",
      "state": {
       "description": "Min. distance",
       "disabled": false,
       "indent": false,
       "layout": "IPY_MODEL_1e467e9b04f54ce2b7589198a94d15e8",
       "style": "IPY_MODEL_a0ee102307534b91900803088036a2c9",
       "value": true
      }
     },
     "c6d09daedaea403d98880210d954b884": {
      "model_module": "@jupyter-widgets/controls",
      "model_module_version": "1.2.0",
      "model_name": "LabelModel",
      "state": {
       "layout": "IPY_MODEL_e4cfcf0e648d475b8b59be966b465866",
       "style": "IPY_MODEL_252624c1b8bc45849aea2df3c599d2bc",
       "value": "Locating ctrl-H57/no-cells_SAv-100k_SSS-ctrl-H57-50k_029_.SPE (213/213)"
      }
     },
     "c76a669be50c46c1b514303101b0de0e": {
      "model_module": "@jupyter-widgets/controls",
      "model_module_version": "1.2.0",
      "model_name": "ButtonModel",
      "state": {
       "description": "Auto",
       "layout": "IPY_MODEL_0ecb2e4660f94784a1958fd57ec03801",
       "style": "IPY_MODEL_411a5b6f2fc54b669513f2747391d2b9"
      }
     },
     "c78130ee7d2e4b719e24946c20c7c08a": {
      "model_module": "@jupyter-widgets/base",
      "model_module_version": "1.0.0",
      "model_name": "LayoutModel",
      "state": {
       "width": "100%"
      }
     },
     "c7950bb3cfa846749605076ebf8fe9e6": {
      "model_module": "@jupyter-widgets/controls",
      "model_module_version": "1.2.0",
      "model_name": "DropdownModel",
      "state": {
       "_options_labels": [
        "2d_fixed",
        "2d",
        "3d"
       ],
       "description": "model",
       "index": 1,
       "layout": "IPY_MODEL_a9344fbbc27443ecac484dfacd381265",
       "style": "IPY_MODEL_ba32f52a09ba4be0a15c783a0684960d"
      }
     },
     "c7f22f717eeb42bd80361959c8d73485": {
      "model_module": "@jupyter-widgets/controls",
      "model_module_version": "1.2.0",
      "model_name": "HBoxModel",
      "state": {
       "children": [
        "IPY_MODEL_cea55a99c8414b838bb94c3bd451ee4f",
        "IPY_MODEL_5b832b17194f4626b304f362d82d3a97"
       ],
       "layout": "IPY_MODEL_07322f2872994b62a67e3ecc71961d7c"
      }
     },
     "c7f978a7f5324b149511e9b27eebaeec": {
      "model_module": "@jupyter-widgets/controls",
      "model_module_version": "1.2.0",
      "model_name": "FloatTextModel",
      "state": {
       "description": "sigma",
       "layout": "IPY_MODEL_9488c92fc19e478491c10ae5c8ac6ad4",
       "step": 0.1,
       "style": "IPY_MODEL_282db8f01dd440359bb199e2eec96391",
       "value": 1
      }
     },
     "c80ee4c5f3844dcb8f585e61645e0e9b": {
      "model_module": "@jupyter-widgets/controls",
      "model_module_version": "1.2.0",
      "model_name": "FloatTextModel",
      "state": {
       "description": "sigma",
       "layout": "IPY_MODEL_14692f2452074add81ccbce647b3a11e",
       "step": 0.1,
       "style": "IPY_MODEL_d45b79d73c1b4ddcb8351fe463414e1e",
       "value": 1
      }
     },
     "c8246eec1c214b518f95489e721820c8": {
      "model_module": "@jupyter-widgets/controls",
      "model_module_version": "1.2.0",
      "model_name": "FloatTextModel",
      "state": {
       "description": "sigma",
       "layout": "IPY_MODEL_d7528cf96f4a414395554a3729c0ba6e",
       "step": 0.1,
       "style": "IPY_MODEL_42dcfcbd1b9c451aa4d067fae2a86539",
       "value": 1
      }
     },
     "c838d53e5add40f09d6caa9df248bd69": {
      "model_module": "@jupyter-widgets/controls",
      "model_module_version": "1.2.0",
      "model_name": "FloatTextModel",
      "state": {
       "description": "min.",
       "layout": "IPY_MODEL_27ead681a1ba429b92a13a857b53aa84",
       "step": 0.1,
       "style": "IPY_MODEL_80c2e356993c45dcbebf66dc3e671b92",
       "value": 0.5
      }
     },
     "c850f2d83d5a4107b913da97dd1deccd": {
      "model_module": "@jupyter-widgets/base",
      "model_module_version": "1.0.0",
      "model_name": "LayoutModel",
      "state": {}
     },
     "c866b561794e42ffbd8a5935d2516349": {
      "model_module": "@jupyter-widgets/base",
      "model_module_version": "1.0.0",
      "model_name": "LayoutModel",
      "state": {
       "height": "150px",
       "width": "100%"
      }
     },
     "c86d77bb332b4d0590c259f51076de7c": {
      "model_module": "@jupyter-widgets/base",
      "model_module_version": "1.0.0",
      "model_name": "LayoutModel",
      "state": {
       "width": "auto"
      }
     },
     "c887111977a14213b8d43f3198bccb35": {
      "model_module": "@jupyter-widgets/controls",
      "model_module_version": "1.2.0",
      "model_name": "SelectModel",
      "state": {
       "_options_labels": [
        "data/beads/beads_000_.SPE",
        "data/beads/beads_001_.SPE",
        "data/beads/beads_002_.SPE",
        "data/beads/beads_003_.SPE",
        "data/beads/beads_004_.SPE",
        "data/beads/beads_005_.SPE",
        "data/beads/beads_006_.SPE",
        "data/beads/beads_007_.SPE",
        "data/beads/beads_008_.SPE",
        "data/beads/beads_009_.SPE"
       ],
       "index": 1,
       "layout": "IPY_MODEL_0ab92ff91b114e2daa93551ba7b31491",
       "style": "IPY_MODEL_8346806e4bba42cb87c56d2814e17ddc"
      }
     },
     "c89598672e964bb480ed2772eda0cd61": {
      "model_module": "@jupyter-widgets/base",
      "model_module_version": "1.0.0",
      "model_name": "LayoutModel",
      "state": {
       "display": "none"
      }
     },
     "c8a4732a27e4461ea7a550108f273591": {
      "model_module": "@jupyter-widgets/controls",
      "model_module_version": "1.2.0",
      "model_name": "DescriptionStyleModel",
      "state": {
       "description_width": ""
      }
     },
     "c8cf22efdacb441780a9aa8333ed026b": {
      "model_module": "@jupyter-widgets/controls",
      "model_module_version": "1.2.0",
      "model_name": "FloatTextModel",
      "state": {
       "description": "radius",
       "layout": "IPY_MODEL_cc60972dd77c4a4aafcbf31ea8e0119f",
       "step": 0.1,
       "style": "IPY_MODEL_083e49bdb54143db8c07ed01ba581d4c",
       "value": 1
      }
     },
     "c91e6b5ec8fd4e3fbce02033e26274d4": {
      "model_module": "@jupyter-widgets/controls",
      "model_module_version": "1.2.0",
      "model_name": "DescriptionStyleModel",
      "state": {
       "description_width": ""
      }
     },
     "c9281a9444b342ccaeea5bbe41437cdf": {
      "model_module": "@jupyter-widgets/controls",
      "model_module_version": "1.2.0",
      "model_name": "FloatTextModel",
      "state": {
       "layout": "IPY_MODEL_8640494794064662823b36511db88e13",
       "step": 0.1,
       "style": "IPY_MODEL_c523bab02603413d9c264d7487782c42",
       "value": 3
      }
     },
     "c93332c7586243bfa2c35cc7934573c6": {
      "model_module": "@jupyter-widgets/controls",
      "model_module_version": "1.2.0",
      "model_name": "DescriptionStyleModel",
      "state": {
       "description_width": ""
      }
     },
     "c947362c1b424fc5889ba242be69b499": {
      "model_module": "@jupyter-widgets/base",
      "model_module_version": "1.0.0",
      "model_name": "LayoutModel",
      "state": {
       "display": "flex",
       "flex_flow": "column wrap",
       "width": "66%"
      }
     },
     "c96eaab9612e4b65aad3e9c5ce261e24": {
      "model_module": "@jupyter-widgets/controls",
      "model_module_version": "1.2.0",
      "model_name": "ButtonModel",
      "state": {
       "description": "Auto",
       "layout": "IPY_MODEL_2353ee96d43b4eeba4ba08bea7bedd62",
       "style": "IPY_MODEL_878f93859f344d6b8c9abb9c812267a3"
      }
     },
     "c988709bd87c4a629641e62b63c167be": {
      "model_module": "@jupyter-widgets/controls",
      "model_module_version": "1.2.0",
      "model_name": "DescriptionStyleModel",
      "state": {
       "description_width": ""
      }
     },
     "c9c0bd8e91e44168bacd248f4ef19544": {
      "model_module": "@jupyter-widgets/base",
      "model_module_version": "1.0.0",
      "model_name": "LayoutModel",
      "state": {}
     },
     "c9f372b0ab0d4fdda5533184e3b3146b": {
      "model_module": "@jupyter-widgets/controls",
      "model_module_version": "1.2.0",
      "model_name": "VBoxModel",
      "state": {
       "children": [
        "IPY_MODEL_5897926131b44660b1f6e44086382fc1",
        "IPY_MODEL_58c8e5c780ac482ea7d83b4cb501efbb",
        "IPY_MODEL_27bf74a1371a4914b4cecefd7800c57e",
        "IPY_MODEL_7a0ebbcb7c4549b69ddcf0b2e2c5068b",
        "IPY_MODEL_2d34235e1324485a9b3095eb00fffcdd",
        "IPY_MODEL_6c1621e5e3c346668b799be6eefe47ea"
       ],
       "layout": "IPY_MODEL_ab4925d5106d478c95c5b37f1be7b6bc"
      }
     },
     "ca1386fd89404570a65b25c094747dc8": {
      "model_module": "@jupyter-widgets/controls",
      "model_module_version": "1.2.0",
      "model_name": "BoundedIntTextModel",
      "state": {
       "description": "frame",
       "layout": "IPY_MODEL_d7ee45995d7543e0b8e6bc5fcef1c00a",
       "max": 49,
       "style": "IPY_MODEL_3e17ce9a39774c4182411752843e01f7"
      }
     },
     "ca214501be3b4fe7a84ae6b2a809f7d3": {
      "model_module": "@jupyter-widgets/controls",
      "model_module_version": "1.2.0",
      "model_name": "VBoxModel",
      "state": {
       "children": [
        "IPY_MODEL_22774ed79f5246f8bdae0943eeb6e6e9",
        "IPY_MODEL_93997ff8b3ac48d5b8db285ff78a313d",
        "IPY_MODEL_8efaa6660bcd40e8bef473760f81a5cf"
       ],
       "layout": "IPY_MODEL_6142708a9df34496bbbfc0c50075234e"
      }
     },
     "ca3928b3edc542b58ac4ba639b5d69ba": {
      "model_module": "@jupyter-widgets/controls",
      "model_module_version": "1.2.0",
      "model_name": "SliderStyleModel",
      "state": {
       "description_width": ""
      }
     },
     "ca617da8968c4c1986bef67c8512c210": {
      "model_module": "@jupyter-widgets/controls",
      "model_module_version": "1.2.0",
      "model_name": "FloatTextModel",
      "state": {
       "description": "radius",
       "layout": "IPY_MODEL_078f43c2886840b78d1209cb7dd1867a",
       "step": 0.1,
       "style": "IPY_MODEL_e98ebd4492074318973e80751dd01ac2",
       "value": 1
      }
     },
     "ca65cbf710a34eb2af2f0e54479139a8": {
      "model_module": "@jupyter-widgets/base",
      "model_module_version": "1.0.0",
      "model_name": "LayoutModel",
      "state": {}
     },
     "ca9aad266e7c42bd917c4ba763aea4f1": {
      "model_module": "@jupyter-widgets/controls",
      "model_module_version": "1.2.0",
      "model_name": "FloatTextModel",
      "state": {
       "layout": "IPY_MODEL_ab0cfbb92b6340f883a10373a0455392",
       "step": 0.1,
       "style": "IPY_MODEL_1e2c7801417d4e6d8736963d27fe69cd",
       "value": 3
      }
     },
     "ca9cbc33f87a45c1a758e030140b0b77": {
      "model_module": "@jupyter-widgets/base",
      "model_module_version": "1.0.0",
      "model_name": "LayoutModel",
      "state": {}
     },
     "cb1aa06d48374c2a8b0ffa29b92d25dc": {
      "model_module": "@jupyter-widgets/controls",
      "model_module_version": "1.2.0",
      "model_name": "ButtonModel",
      "state": {
       "description": "Auto",
       "layout": "IPY_MODEL_2c2757aa06f04e0dace96d88c285a4d5",
       "style": "IPY_MODEL_6bbd7bfd41264e7d831c23e43abab2cb"
      }
     },
     "cb1c51b664d0470b879f08c7b64b382b": {
      "model_module": "@jupyter-widgets/controls",
      "model_module_version": "1.2.0",
      "model_name": "VBoxModel",
      "state": {
       "children": [
        "IPY_MODEL_171fd38714314c55b9aa03a260d5df0a",
        "IPY_MODEL_9e11f1e5ce9c4af2b3b3be687dd64a61",
        "IPY_MODEL_0ef1d040c6c04fb7864e43dfd058b198",
        "IPY_MODEL_7c3f80ceafa642ad91d6b4dabf593fcc",
        "IPY_MODEL_72b54360941b42a4b3f921d31d4a7d9a",
        "IPY_MODEL_9f40e8bad80442dcaece2e410a1f9e6f"
       ],
       "layout": "IPY_MODEL_1618f4b3399c42758f19fedc025728c5"
      }
     },
     "cb2386fc6ef74bcdacecf41b9c594189": {
      "model_module": "@jupyter-widgets/base",
      "model_module_version": "1.0.0",
      "model_name": "LayoutModel",
      "state": {
       "display": "none"
      }
     },
     "cb2aa5668d6740de9c8098fc5505dd93": {
      "model_module": "@jupyter-widgets/controls",
      "model_module_version": "1.2.0",
      "model_name": "DescriptionStyleModel",
      "state": {
       "description_width": ""
      }
     },
     "cbaef955669847aea4d6eeda772fc47f": {
      "model_module": "@jupyter-widgets/base",
      "model_module_version": "1.0.0",
      "model_name": "LayoutModel",
      "state": {}
     },
     "cbbf4f3774dd4928a04f102af72f0867": {
      "model_module": "@jupyter-widgets/controls",
      "model_module_version": "1.2.0",
      "model_name": "FloatTextModel",
      "state": {
       "description": "sigma",
       "layout": "IPY_MODEL_9d762642fa554e169ab393c2a204d6d9",
       "step": 0.1,
       "style": "IPY_MODEL_06ba97282e1f4df59bebd0e0fd71431e",
       "value": 1
      }
     },
     "cbc95826e6074f2e92211d41a56f82a4": {
      "model_module": "@jupyter-widgets/base",
      "model_module_version": "1.0.0",
      "model_name": "LayoutModel",
      "state": {
       "display": "flex",
       "flex_flow": "column wrap",
       "width": "66%"
      }
     },
     "cbcb7d4ab97141fc96f65b0380eba974": {
      "model_module": "@jupyter-widgets/base",
      "model_module_version": "1.0.0",
      "model_name": "LayoutModel",
      "state": {
       "height": "150px",
       "width": "100%"
      }
     },
     "cbe91f751e1345588c0f8f841dba1a7b": {
      "model_module": "@jupyter-widgets/controls",
      "model_module_version": "1.2.0",
      "model_name": "FloatTextModel",
      "state": {
       "description": "threshold",
       "layout": "IPY_MODEL_2bad4212a2344400817848a55f43b7e2",
       "step": 10,
       "style": "IPY_MODEL_36e0ecd660f249d58bdaa97b3a3c5a60",
       "value": 1000
      }
     },
     "cc4ae8ba518a41fc86f1d615d83338f5": {
      "model_module": "@jupyter-widgets/controls",
      "model_module_version": "1.2.0",
      "model_name": "DescriptionStyleModel",
      "state": {
       "description_width": ""
      }
     },
     "cc60972dd77c4a4aafcbf31ea8e0119f": {
      "model_module": "@jupyter-widgets/base",
      "model_module_version": "1.0.0",
      "model_name": "LayoutModel",
      "state": {}
     },
     "cc6eea352d5e482d906f5aec93861cf0": {
      "model_module": "@jupyter-widgets/controls",
      "model_module_version": "1.2.0",
      "model_name": "FloatTextModel",
      "state": {
       "description": "sigma",
       "layout": "IPY_MODEL_1602f5feb09c4d74b13d2ed7587d5a03",
       "step": 0.1,
       "style": "IPY_MODEL_a79415927e1b4f129298f428353c8c70",
       "value": 1
      }
     },
     "cc7576cf5f424727a538fd64ec2b8694": {
      "model_module": "@jupyter-widgets/controls",
      "model_module_version": "1.2.0",
      "model_name": "DropdownModel",
      "state": {
       "_options_labels": [
        "2d_fixed",
        "2d",
        "3d"
       ],
       "description": "model",
       "index": 1,
       "layout": "IPY_MODEL_7a1a89626449426fa814701a0bffdd39",
       "style": "IPY_MODEL_03bdc5d00f804a5f8446fe02ee16e61c"
      }
     },
     "cc7d7fe57c8743e9aa71f22aa0ab4098": {
      "model_module": "@jupyter-widgets/controls",
      "model_module_version": "1.2.0",
      "model_name": "BoundedIntTextModel",
      "state": {
       "description": "frame",
       "layout": "IPY_MODEL_3d5af2746fd745cf8028df9866770533",
       "max": 49,
       "style": "IPY_MODEL_8004488e459a492b8d357d97ede48678"
      }
     },
     "cc897af7025340f28a998b9936092bcc": {
      "model_module": "@jupyter-widgets/controls",
      "model_module_version": "1.2.0",
      "model_name": "HBoxModel",
      "state": {
       "children": [
        "IPY_MODEL_d7935eac62854690ab82ac17c622bf21",
        "IPY_MODEL_d4578ad5188e420f86fbf300ed9219be",
        "IPY_MODEL_54b348fecf0a43ef930b4457164466ce"
       ],
       "layout": "IPY_MODEL_98a819d500ca469595196e98276ee70c"
      }
     },
     "cc8cddcf0157400f815cc2a75b4a618e": {
      "model_module": "@jupyter-widgets/controls",
      "model_module_version": "1.2.0",
      "model_name": "DescriptionStyleModel",
      "state": {
       "description_width": ""
      }
     },
     "cca5331b206349f9a6c10fcb99ebca57": {
      "model_module": "@jupyter-widgets/base",
      "model_module_version": "1.0.0",
      "model_name": "LayoutModel",
      "state": {}
     },
     "ccd4bace9fbc441ba44bf1a202ee6362": {
      "model_module": "@jupyter-widgets/controls",
      "model_module_version": "1.2.0",
      "model_name": "ButtonModel",
      "state": {
       "description": "Auto",
       "layout": "IPY_MODEL_98665b49c57f49a196bb7bd30a48840d",
       "style": "IPY_MODEL_47d9ce6e1a864a1bb62a3df0054aeb85"
      }
     },
     "cd5c8f3412cf455d876b8525e7f7fd2d": {
      "model_module": "@jupyter-widgets/base",
      "model_module_version": "1.0.0",
      "model_name": "LayoutModel",
      "state": {}
     },
     "cd697b4e947b4973b4b32d4da3499219": {
      "model_module": "@jupyter-widgets/controls",
      "model_module_version": "1.2.0",
      "model_name": "LabelModel",
      "state": {
       "layout": "IPY_MODEL_26b80179517e4b0baa9f3af84146b235",
       "style": "IPY_MODEL_4a3df1f143e8450d88389850d2cfbe53",
       "value": "Locating ctrl-H57/no-cells_SAv-100k_SSS-ctrl-H57-50k_029_.SPE (213/213)"
      }
     },
     "cd8ac3be2fdd48b181b57c15faf5cb6a": {
      "model_module": "@jupyter-widgets/controls",
      "model_module_version": "1.2.0",
      "model_name": "SliderStyleModel",
      "state": {
       "description_width": ""
      }
     },
     "cd9fb810d7d545a28ff6305a502a3ac9": {
      "model_module": "@jupyter-widgets/controls",
      "model_module_version": "1.2.0",
      "model_name": "DescriptionStyleModel",
      "state": {
       "description_width": ""
      }
     },
     "cdab130af73545948f349a9779d58fd5": {
      "model_module": "@jupyter-widgets/controls",
      "model_module_version": "1.2.0",
      "model_name": "HBoxModel",
      "state": {
       "children": [
        "IPY_MODEL_5d7446d851ec4f579be2efa3d820e5dc",
        "IPY_MODEL_86c69153440d494eb9e52469c9909b45",
        "IPY_MODEL_4e02df3fdb114001b616a2528f835648"
       ],
       "layout": "IPY_MODEL_53a0216b84bb4febac866bd1581d3a08"
      }
     },
     "cdab3f1ca1a844ac9a1c96886bcb7f1a": {
      "model_module": "@jupyter-widgets/base",
      "model_module_version": "1.0.0",
      "model_name": "LayoutModel",
      "state": {
       "display": "none"
      }
     },
     "cddee87aa2554225887a998832e81dc0": {
      "model_module": "@jupyter-widgets/controls",
      "model_module_version": "1.2.0",
      "model_name": "DescriptionStyleModel",
      "state": {
       "description_width": ""
      }
     },
     "ce3f20ebfd14492fa38c6c5c3cf5768f": {
      "model_module": "@jupyter-widgets/controls",
      "model_module_version": "1.2.0",
      "model_name": "ButtonStyleModel",
      "state": {}
     },
     "ce558e41002f4a728f1c99b7abf8847e": {
      "model_module": "@jupyter-widgets/controls",
      "model_module_version": "1.2.0",
      "model_name": "VBoxModel",
      "state": {
       "children": [
        "IPY_MODEL_7e69e27a79d54518ba4291cb90d5052e",
        "IPY_MODEL_8793427b89a2477384ccd98b45e8650e",
        "IPY_MODEL_4e6a001374d74b88a33cb6ba3c4b552a"
       ],
       "layout": "IPY_MODEL_f982f86b5a9d4ee8b28c7f3247372882"
      }
     },
     "ce70c249bd644969ba98b18e3c1fc1db": {
      "model_module": "@jupyter-widgets/controls",
      "model_module_version": "1.2.0",
      "model_name": "HBoxModel",
      "state": {
       "children": [
        "IPY_MODEL_2b8b9302d0f9428686e139e3c91bbfec",
        "IPY_MODEL_314d4dde2e7143af86f5e874575a1e5e"
       ],
       "layout": "IPY_MODEL_661e3c078c954251ac0eaed1f5a41778"
      }
     },
     "cea55a99c8414b838bb94c3bd451ee4f": {
      "model_module": "@jupyter-widgets/controls",
      "model_module_version": "1.2.0",
      "model_name": "VBoxModel",
      "state": {
       "children": [
        "IPY_MODEL_1ac8bfa0df214c21bddbf5915ae44e15",
        "IPY_MODEL_0b7488dc0c1a4be3a881714889f948cc"
       ],
       "layout": "IPY_MODEL_68ecbd9deee449c5bcb9772b03a5f3ac"
      }
     },
     "cedde3392f934fa99c5adc1540c82f2e": {
      "model_module": "@jupyter-widgets/base",
      "model_module_version": "1.0.0",
      "model_name": "LayoutModel",
      "state": {}
     },
     "cef17bc089aa4519b8aa5b0bc6fb5d77": {
      "model_module": "@jupyter-widgets/base",
      "model_module_version": "1.0.0",
      "model_name": "LayoutModel",
      "state": {}
     },
     "cf0d308883f64f42954368c4494fe3aa": {
      "model_module": "@jupyter-widgets/controls",
      "model_module_version": "1.2.0",
      "model_name": "FloatTextModel",
      "state": {
       "description": "sigma",
       "layout": "IPY_MODEL_57e56208b76048eb9a4b54967a9f767e",
       "step": 0.1,
       "style": "IPY_MODEL_33e0e4bf86b840f8a07fa69c50e39c00",
       "value": 1
      }
     },
     "cf5f51ce063a453bbe47101598458750": {
      "model_module": "@jupyter-widgets/controls",
      "model_module_version": "1.2.0",
      "model_name": "SliderStyleModel",
      "state": {
       "description_width": ""
      }
     },
     "cf6dbc4efe87490ba291bee634e48b75": {
      "model_module": "@jupyter-widgets/base",
      "model_module_version": "1.0.0",
      "model_name": "LayoutModel",
      "state": {
       "width": "100%"
      }
     },
     "cf9cc20b63d047b99a04d38292f2ba64": {
      "model_module": "@jupyter-widgets/controls",
      "model_module_version": "1.2.0",
      "model_name": "VBoxModel",
      "state": {
       "children": [
        "IPY_MODEL_2aeaabc4b9664104a7864f9d43b1d619",
        "IPY_MODEL_8b90ed70d2554b48a466342454012047"
       ],
       "layout": "IPY_MODEL_08cbf097b5044a9e9658b1d5c04785f4"
      }
     },
     "cfa32745ebd04dfb992444c4c45e14fc": {
      "model_module": "@jupyter-widgets/base",
      "model_module_version": "1.0.0",
      "model_name": "LayoutModel",
      "state": {}
     },
     "cfb64c186bc4449b9bc297a976404885": {
      "model_module": "@jupyter-widgets/base",
      "model_module_version": "1.0.0",
      "model_name": "LayoutModel",
      "state": {}
     },
     "cff2e78cddb748b29dc024bb9f23ab30": {
      "model_module": "@jupyter-widgets/controls",
      "model_module_version": "1.2.0",
      "model_name": "FloatTextModel",
      "state": {
       "description": "sigma",
       "layout": "IPY_MODEL_0bbae70001a54bdfa7504e058d9a2e55",
       "step": 0.1,
       "style": "IPY_MODEL_767c389b3ad44f7ab00364045a966393",
       "value": 1
      }
     },
     "d00994195ff44f51a5ca3048b41a76f7": {
      "model_module": "@jupyter-widgets/controls",
      "model_module_version": "1.2.0",
      "model_name": "CheckboxModel",
      "state": {
       "description": "Min. distance",
       "disabled": false,
       "indent": false,
       "layout": "IPY_MODEL_9524dc61fde742a9bac5f244577b797a",
       "style": "IPY_MODEL_4115c41ecd2f4ce59131fe44e539850f",
       "value": false
      }
     },
     "d03f9cd65f624aa1b3062d444534c742": {
      "model_module": "@jupyter-widgets/controls",
      "model_module_version": "1.2.0",
      "model_name": "FloatTextModel",
      "state": {
       "description": "min.",
       "layout": "IPY_MODEL_9c5aa012a6e3431087ea07844a161eb2",
       "step": 0.1,
       "style": "IPY_MODEL_01f6114e99c54035b39fe440e01986c9",
       "value": 0.5
      }
     },
     "d07a4186820840239ab8e5eb70813624": {
      "model_module": "@jupyter-widgets/base",
      "model_module_version": "1.0.0",
      "model_name": "LayoutModel",
      "state": {
       "display": "none"
      }
     },
     "d07de0d18471434090f63b183d5e89f7": {
      "model_module": "@jupyter-widgets/controls",
      "model_module_version": "1.2.0",
      "model_name": "VBoxModel",
      "state": {
       "children": [
        "IPY_MODEL_a361a63fde3643099fd6c21149f906fc",
        "IPY_MODEL_1927fade527b44e3b55d8b2bbaa09f28",
        "IPY_MODEL_5b47e1c4bc184de1922550875cd3a9bb"
       ],
       "layout": "IPY_MODEL_477a123183b340b3bcba4ed01f9f591b"
      }
     },
     "d0925dc0e0ca4010b09c0028c21651f8": {
      "model_module": "@jupyter-widgets/base",
      "model_module_version": "1.0.0",
      "model_name": "LayoutModel",
      "state": {
       "display": "none"
      }
     },
     "d09c9c8759db4d27b3f03851cedd0f87": {
      "model_module": "@jupyter-widgets/controls",
      "model_module_version": "1.2.0",
      "model_name": "FloatTextModel",
      "state": {
       "layout": "IPY_MODEL_f172e379c8aa40d498e73d9fe907025a",
       "step": 0.1,
       "style": "IPY_MODEL_dd18ffaa4dfc435198684d85c94556fd",
       "value": 3
      }
     },
     "d0a9f7327ced408cb3b75e015b51cd4e": {
      "model_module": "@jupyter-widgets/base",
      "model_module_version": "1.0.0",
      "model_name": "LayoutModel",
      "state": {}
     },
     "d0e29c1372864fdeb9e793b8d54bae2b": {
      "model_module": "@jupyter-widgets/base",
      "model_module_version": "1.0.0",
      "model_name": "LayoutModel",
      "state": {
       "width": "auto"
      }
     },
     "d11b8b45a4ad44eea60029274dfe2e79": {
      "model_module": "@jupyter-widgets/base",
      "model_module_version": "1.0.0",
      "model_name": "LayoutModel",
      "state": {
       "border": "1px solid gray"
      }
     },
     "d13dca73dfab4d01a7f4ac9396aa4625": {
      "model_module": "@jupyter-widgets/base",
      "model_module_version": "1.0.0",
      "model_name": "LayoutModel",
      "state": {}
     },
     "d1454b9d7e1e4968bcd840c451e5d9dc": {
      "model_module": "@jupyter-widgets/base",
      "model_module_version": "1.0.0",
      "model_name": "LayoutModel",
      "state": {}
     },
     "d1773b06b7614fe380b8490c85ae1797": {
      "model_module": "@jupyter-widgets/controls",
      "model_module_version": "1.2.0",
      "model_name": "FloatTextModel",
      "state": {
       "description": "threshold",
       "layout": "IPY_MODEL_1349499d518a404598f1082519609c97",
       "step": 10,
       "style": "IPY_MODEL_bc8d0036b27049a28229c5694daababe",
       "value": 1000
      }
     },
     "d1979fb674764dc3a2d492d2045c3e47": {
      "model_module": "@jupyter-widgets/base",
      "model_module_version": "1.0.0",
      "model_name": "LayoutModel",
      "state": {}
     },
     "d1cdfbd5506546e18b0bf7034d086c32": {
      "model_module": "@jupyter-widgets/controls",
      "model_module_version": "1.2.0",
      "model_name": "DescriptionStyleModel",
      "state": {
       "description_width": ""
      }
     },
     "d1d89a30fa0b456ca3c4bef22163d084": {
      "model_module": "@jupyter-widgets/controls",
      "model_module_version": "1.2.0",
      "model_name": "DescriptionStyleModel",
      "state": {
       "description_width": ""
      }
     },
     "d21d4e68107f43489fea482a77b5202c": {
      "model_module": "@jupyter-widgets/controls",
      "model_module_version": "1.2.0",
      "model_name": "FloatTextModel",
      "state": {
       "description": "threshold",
       "layout": "IPY_MODEL_042ebc57e42b4549895c60f4edbf265d",
       "step": 10,
       "style": "IPY_MODEL_1c824a0b6f3240e5af259e9c61791276",
       "value": 1000
      }
     },
     "d2317dddab1d4f28b34d599ceb264474": {
      "model_module": "@jupyter-widgets/base",
      "model_module_version": "1.0.0",
      "model_name": "LayoutModel",
      "state": {
       "width": "auto"
      }
     },
     "d271830888304b6480c115f495085707": {
      "model_module": "@jupyter-widgets/controls",
      "model_module_version": "1.2.0",
      "model_name": "FloatTextModel",
      "state": {
       "description": "radius",
       "layout": "IPY_MODEL_f9cad0d8bf9e4196a01e23602e0ad434",
       "step": 0.1,
       "style": "IPY_MODEL_60148b202487413ca2525ec620373960",
       "value": 1
      }
     },
     "d277ada9698942f7a3120b5b5b0020f6": {
      "model_module": "@jupyter-widgets/controls",
      "model_module_version": "1.2.0",
      "model_name": "DropdownModel",
      "state": {
       "_options_labels": [
        "2d_fixed",
        "2d",
        "3d"
       ],
       "description": "model",
       "index": 1,
       "layout": "IPY_MODEL_2b5f6308bdf14b199396b2ea3b42bb13",
       "style": "IPY_MODEL_4babe68aecce4550b50f696121e4b54e"
      }
     },
     "d295d8525c50462c91d83e3ae5aae08f": {
      "model_module": "@jupyter-widgets/controls",
      "model_module_version": "1.2.0",
      "model_name": "FloatTextModel",
      "state": {
       "description": "radius",
       "layout": "IPY_MODEL_ef583b65214f4e799def73a9bcee58da",
       "step": 0.1,
       "style": "IPY_MODEL_ff83dba6849b4566a2c5b855469ef06c",
       "value": 1
      }
     },
     "d297437b02b844708dea073de8fed73e": {
      "model_module": "@jupyter-widgets/controls",
      "model_module_version": "1.2.0",
      "model_name": "CheckboxModel",
      "state": {
       "description": "Show loc.",
       "disabled": false,
       "indent": false,
       "layout": "IPY_MODEL_93b9e5519cb747339a8132d5eb7d4762",
       "style": "IPY_MODEL_11ee04842b9941189f848983bbd33060",
       "value": true
      }
     },
     "d2a6b9d036384b048dc880e8de56b025": {
      "model_module": "@jupyter-widgets/controls",
      "model_module_version": "1.2.0",
      "model_name": "HBoxModel",
      "state": {
       "children": [
        "IPY_MODEL_299f78c9bbf54627a5cf711b09631352",
        "IPY_MODEL_fc25cb9d938742c5b8eb185119d2c027",
        "IPY_MODEL_d297437b02b844708dea073de8fed73e"
       ],
       "layout": "IPY_MODEL_ba08a73ea0dd4a3d82ca9fb760ae89a9"
      }
     },
     "d2b5042a9f0444d1924bcf1fd5e7eca3": {
      "model_module": "@jupyter-widgets/base",
      "model_module_version": "1.0.0",
      "model_name": "LayoutModel",
      "state": {
       "width": "auto"
      }
     },
     "d2df79d773ea4115a96da54b67b1d450": {
      "model_module": "@jupyter-widgets/base",
      "model_module_version": "1.0.0",
      "model_name": "LayoutModel",
      "state": {}
     },
     "d2ec2c846e5f41738e5cf8d5b73514c9": {
      "model_module": "@jupyter-widgets/controls",
      "model_module_version": "1.2.0",
      "model_name": "ButtonModel",
      "state": {
       "description": "Auto",
       "layout": "IPY_MODEL_f7eff9ccac2d490e98067dfe846055d2",
       "style": "IPY_MODEL_afd8f7afc04843c29bffdb3506bacc65"
      }
     },
     "d2f150c4a8744343a106dbf84685e7dc": {
      "model_module": "@jupyter-widgets/controls",
      "model_module_version": "1.2.0",
      "model_name": "DescriptionStyleModel",
      "state": {
       "description_width": ""
      }
     },
     "d31b28c6b839423d8fae0713f12983cf": {
      "model_module": "@jupyter-widgets/controls",
      "model_module_version": "1.2.0",
      "model_name": "ButtonStyleModel",
      "state": {}
     },
     "d35770f8853e4d2aa6ae3914d7dcf8e7": {
      "model_module": "@jupyter-widgets/controls",
      "model_module_version": "1.2.0",
      "model_name": "DescriptionStyleModel",
      "state": {
       "description_width": ""
      }
     },
     "d36786cf6ebf40a3b1cc5a0b8a5ede8a": {
      "model_module": "@jupyter-widgets/base",
      "model_module_version": "1.0.0",
      "model_name": "LayoutModel",
      "state": {
       "display": "none"
      }
     },
     "d3766a29be6c40149321205bfdce3c6a": {
      "model_module": "@jupyter-widgets/controls",
      "model_module_version": "1.2.0",
      "model_name": "DescriptionStyleModel",
      "state": {
       "description_width": ""
      }
     },
     "d37c3c26d37b4853b33e5892e85b76f3": {
      "model_module": "@jupyter-widgets/base",
      "model_module_version": "1.0.0",
      "model_name": "LayoutModel",
      "state": {
       "display": "inline"
      }
     },
     "d38c2650916a4a689d6ef7c0cef83dc4": {
      "model_module": "@jupyter-widgets/controls",
      "model_module_version": "1.2.0",
      "model_name": "DescriptionStyleModel",
      "state": {
       "description_width": ""
      }
     },
     "d390553b939f4f698bd9795f988dd207": {
      "model_module": "@jupyter-widgets/base",
      "model_module_version": "1.0.0",
      "model_name": "LayoutModel",
      "state": {
       "width": "auto"
      }
     },
     "d3a10ad7dbe848a4b90517516149856c": {
      "model_module": "@jupyter-widgets/controls",
      "model_module_version": "1.2.0",
      "model_name": "CheckboxModel",
      "state": {
       "description": "Show loc.",
       "disabled": false,
       "indent": false,
       "layout": "IPY_MODEL_07510a80d1154ce0a25057b5c67d278e",
       "style": "IPY_MODEL_d4742b4d731543c59e8f923892f71ae2",
       "value": true
      }
     },
     "d3bc122c893f43a9a701e4b6f4766028": {
      "model_module": "@jupyter-widgets/controls",
      "model_module_version": "1.2.0",
      "model_name": "FloatTextModel",
      "state": {
       "layout": "IPY_MODEL_d2317dddab1d4f28b34d599ceb264474",
       "step": 0.1,
       "style": "IPY_MODEL_e19a11b395424a579922ad3ad491538c",
       "value": 3
      }
     },
     "d3bdd42f1d7a44b3a2a9464ffb9ff5b7": {
      "model_module": "@jupyter-widgets/controls",
      "model_module_version": "1.2.0",
      "model_name": "HBoxModel",
      "state": {
       "children": [
        "IPY_MODEL_c10ac3a630a244a48c1c28ae64614898",
        "IPY_MODEL_b119cccce6db485a8e1605a68bb63731",
        "IPY_MODEL_2f46ab7834e24ba5b2f8dd7da1f358d1"
       ],
       "layout": "IPY_MODEL_78d00e24e66247fcb1ee681aa55b73a9"
      }
     },
     "d4578ad5188e420f86fbf300ed9219be": {
      "model_module": "@jupyter-widgets/controls",
      "model_module_version": "1.2.0",
      "model_name": "ButtonModel",
      "state": {
       "description": "Auto",
       "layout": "IPY_MODEL_f8a313867b3248b9b775b23e0e3f43ab",
       "style": "IPY_MODEL_d31b28c6b839423d8fae0713f12983cf"
      }
     },
     "d45b79d73c1b4ddcb8351fe463414e1e": {
      "model_module": "@jupyter-widgets/controls",
      "model_module_version": "1.2.0",
      "model_name": "DescriptionStyleModel",
      "state": {
       "description_width": ""
      }
     },
     "d46998510eb243148f4ee26efbf2e7c7": {
      "model_module": "@jupyter-widgets/controls",
      "model_module_version": "1.2.0",
      "model_name": "DescriptionStyleModel",
      "state": {
       "description_width": ""
      }
     },
     "d4742b4d731543c59e8f923892f71ae2": {
      "model_module": "@jupyter-widgets/controls",
      "model_module_version": "1.2.0",
      "model_name": "DescriptionStyleModel",
      "state": {
       "description_width": ""
      }
     },
     "d4d4bf77cbaf495187273329a6e528c5": {
      "model_module": "@jupyter-widgets/base",
      "model_module_version": "1.0.0",
      "model_name": "LayoutModel",
      "state": {}
     },
     "d572260f107c4bb89acc270bca561ddd": {
      "model_module": "@jupyter-widgets/base",
      "model_module_version": "1.0.0",
      "model_name": "LayoutModel",
      "state": {}
     },
     "d589a64ea0144e829816e9d737a2d6bc": {
      "model_module": "@jupyter-widgets/controls",
      "model_module_version": "1.2.0",
      "model_name": "DescriptionStyleModel",
      "state": {
       "description_width": ""
      }
     },
     "d5b6469fb03547a0bc9f4e339c5580ce": {
      "model_module": "@jupyter-widgets/controls",
      "model_module_version": "1.2.0",
      "model_name": "DescriptionStyleModel",
      "state": {
       "description_width": ""
      }
     },
     "d5d2422e7b104a0e914acbd0deb93f42": {
      "model_module": "@jupyter-widgets/base",
      "model_module_version": "1.0.0",
      "model_name": "LayoutModel",
      "state": {}
     },
     "d602377a27cd41f795c7c6738fc80d1e": {
      "model_module": "@jupyter-widgets/controls",
      "model_module_version": "1.2.0",
      "model_name": "HBoxModel",
      "state": {
       "children": [
        "IPY_MODEL_14d5221e58f840aa88183d9af9408333",
        "IPY_MODEL_524a214ce2164bc7b9a12d01e86409f1",
        "IPY_MODEL_5d2ac90b66f548228add6317731b95b1"
       ],
       "layout": "IPY_MODEL_dd7044f1536541f8b6d88270e4b24fec"
      }
     },
     "d63e77dedafe48898558983d15f08ff5": {
      "model_module": "@jupyter-widgets/base",
      "model_module_version": "1.0.0",
      "model_name": "LayoutModel",
      "state": {
       "display": "none"
      }
     },
     "d66078a9781e4b2ca2af5639e2f167cc": {
      "model_module": "@jupyter-widgets/controls",
      "model_module_version": "1.2.0",
      "model_name": "DescriptionStyleModel",
      "state": {
       "description_width": ""
      }
     },
     "d6709a2270e74c0eb5c06bd68f74a16c": {
      "model_module": "@jupyter-widgets/base",
      "model_module_version": "1.0.0",
      "model_name": "LayoutModel",
      "state": {}
     },
     "d6f74efac8b84c718f356dc701fbceb6": {
      "model_module": "@jupyter-widgets/controls",
      "model_module_version": "1.2.0",
      "model_name": "VBoxModel",
      "state": {
       "children": [
        "IPY_MODEL_56bb1eb1da41452aa95e86ee51c1c925",
        "IPY_MODEL_80ed4a1176914252bf03bbd3df62e1c5",
        "IPY_MODEL_ec3a39d4975e48498ef052621df3d348",
        "IPY_MODEL_f6c4143a7b6e4c85a5df0b7ac6cdf210",
        "IPY_MODEL_8277aa72a4134dafa78f589ff2231453",
        "IPY_MODEL_923b980f12c8486992a45c2467f1e3fb"
       ],
       "layout": "IPY_MODEL_6ee7ec2215584e7cb4c5f9ebdca84026"
      }
     },
     "d700234ff2bd43d98b61da89639fba43": {
      "model_module": "@jupyter-widgets/controls",
      "model_module_version": "1.2.0",
      "model_name": "FloatTextModel",
      "state": {
       "description": "max.",
       "layout": "IPY_MODEL_4af9a176f0ca4384ae53f7545adf1ca3",
       "step": 0.1,
       "style": "IPY_MODEL_682cf9602ce142908f593322c52e9dc1",
       "value": 2
      }
     },
     "d7122f5bd03f49fba84fa28e42bb72db": {
      "model_module": "@jupyter-widgets/controls",
      "model_module_version": "1.2.0",
      "model_name": "CheckboxModel",
      "state": {
       "description": "Show loc.",
       "disabled": false,
       "indent": false,
       "layout": "IPY_MODEL_ab8027fd81ce4cda9ea2e480101f6eda",
       "style": "IPY_MODEL_4351646a537848f0b89ddf17d9c3729c",
       "value": true
      }
     },
     "d724312b449143348409eb572e8beb38": {
      "model_module": "@jupyter-widgets/controls",
      "model_module_version": "1.2.0",
      "model_name": "DescriptionStyleModel",
      "state": {
       "description_width": ""
      }
     },
     "d73383bfe9e84b2091b2f51a95d1fb57": {
      "model_module": "@jupyter-widgets/base",
      "model_module_version": "1.0.0",
      "model_name": "LayoutModel",
      "state": {}
     },
     "d735dba375544b108334d705a917ad42": {
      "model_module": "@jupyter-widgets/controls",
      "model_module_version": "1.2.0",
      "model_name": "CheckboxModel",
      "state": {
       "description": "Min. distance",
       "disabled": false,
       "indent": false,
       "layout": "IPY_MODEL_0c9b1166092a416bafb4ec0991ca6558",
       "style": "IPY_MODEL_db045e352333443180687f4ac0f34d1a",
       "value": false
      }
     },
     "d73bccaf5074400eb1e7f09ab7883930": {
      "model_module": "@jupyter-widgets/base",
      "model_module_version": "1.0.0",
      "model_name": "LayoutModel",
      "state": {
       "width": "100%"
      }
     },
     "d7528cf96f4a414395554a3729c0ba6e": {
      "model_module": "@jupyter-widgets/base",
      "model_module_version": "1.0.0",
      "model_name": "LayoutModel",
      "state": {
       "display": "none"
      }
     },
     "d7695ff71b5c4684913fd9e4d0fa6b6b": {
      "model_module": "@jupyter-widgets/controls",
      "model_module_version": "1.2.0",
      "model_name": "FloatTextModel",
      "state": {
       "description": "threshold",
       "layout": "IPY_MODEL_5e1620de67ef423d9dcf6ed618d2da27",
       "step": 10,
       "style": "IPY_MODEL_d1d89a30fa0b456ca3c4bef22163d084",
       "value": 1000
      }
     },
     "d790fccb856d4eb0ac598b39495ac337": {
      "model_module": "@jupyter-widgets/controls",
      "model_module_version": "1.2.0",
      "model_name": "DescriptionStyleModel",
      "state": {
       "description_width": ""
      }
     },
     "d7935eac62854690ab82ac17c622bf21": {
      "model_module": "@jupyter-widgets/controls",
      "model_module_version": "1.2.0",
      "model_name": "IntRangeSliderModel",
      "state": {
       "_model_name": "IntRangeSliderModel",
       "_view_name": "IntRangeSliderView",
       "layout": "IPY_MODEL_79f60ce6dc2f41169c7f7db75c044dd5",
       "max": 65535,
       "style": "IPY_MODEL_946af716b9914b46ba07d1bbcdc37da6",
       "value": [
        134,
        25393
       ]
      }
     },
     "d7a264b90a064225b67d67860490ac0c": {
      "model_module": "@jupyter-widgets/base",
      "model_module_version": "1.0.0",
      "model_name": "LayoutModel",
      "state": {}
     },
     "d7a2d3856bf24c8daa5c454b34f335ae": {
      "model_module": "@jupyter-widgets/controls",
      "model_module_version": "1.2.0",
      "model_name": "DescriptionStyleModel",
      "state": {
       "description_width": ""
      }
     },
     "d7abd9ce54dd4274bf1404185220f693": {
      "model_module": "@jupyter-widgets/base",
      "model_module_version": "1.0.0",
      "model_name": "LayoutModel",
      "state": {}
     },
     "d7c003ad030e43d7920d916a0cd7b2d3": {
      "model_module": "@jupyter-widgets/controls",
      "model_module_version": "1.2.0",
      "model_name": "DescriptionStyleModel",
      "state": {
       "description_width": ""
      }
     },
     "d7c93011fe4a42a6bb28fd93fde7a9e7": {
      "model_module": "@jupyter-widgets/base",
      "model_module_version": "1.0.0",
      "model_name": "LayoutModel",
      "state": {
       "width": "auto"
      }
     },
     "d7cca073dbf945fe9549c63b26a0a8a5": {
      "model_module": "@jupyter-widgets/base",
      "model_module_version": "1.0.0",
      "model_name": "LayoutModel",
      "state": {}
     },
     "d7ee45995d7543e0b8e6bc5fcef1c00a": {
      "model_module": "@jupyter-widgets/base",
      "model_module_version": "1.0.0",
      "model_name": "LayoutModel",
      "state": {}
     },
     "d7fa2281c10b4adf84ba27f9fc3d0be7": {
      "model_module": "@jupyter-widgets/controls",
      "model_module_version": "1.2.0",
      "model_name": "BoundedIntTextModel",
      "state": {
       "description": "frame",
       "layout": "IPY_MODEL_7268f4510a1a451fa79647460f51b16a",
       "max": 0,
       "style": "IPY_MODEL_f2e48de82e5e4ca78a857a4de020d8ed"
      }
     },
     "d8206cec6aa245359e7e5a9d25bc355f": {
      "model_module": "@jupyter-widgets/controls",
      "model_module_version": "1.2.0",
      "model_name": "FloatTextModel",
      "state": {
       "layout": "IPY_MODEL_f6d5f5dc29114c3582188cd0a99698f2",
       "step": 0.1,
       "style": "IPY_MODEL_ed0d482f13a94b8aa51d17b77120e7e0",
       "value": 3
      }
     },
     "d849f8b455314dd9bff70caa8a14f535": {
      "model_module": "@jupyter-widgets/base",
      "model_module_version": "1.0.0",
      "model_name": "LayoutModel",
      "state": {
       "width": "auto"
      }
     },
     "d8fd62f4c0324903a98d8f21f1eff2af": {
      "model_module": "@jupyter-widgets/base",
      "model_module_version": "1.0.0",
      "model_name": "LayoutModel",
      "state": {}
     },
     "d96e483d1b09466ca38957a861f96be9": {
      "model_module": "@jupyter-widgets/controls",
      "model_module_version": "1.2.0",
      "model_name": "SelectModel",
      "state": {
       "_options_labels": [
        "data/beads/beads_000_.SPE",
        "data/beads/beads_001_.SPE",
        "data/beads/beads_002_.SPE",
        "data/beads/beads_003_.SPE",
        "data/beads/beads_004_.SPE",
        "data/beads/beads_005_.SPE",
        "data/beads/beads_006_.SPE",
        "data/beads/beads_007_.SPE",
        "data/beads/beads_008_.SPE",
        "data/beads/beads_009_.SPE"
       ],
       "index": 0,
       "layout": "IPY_MODEL_d7c93011fe4a42a6bb28fd93fde7a9e7",
       "style": "IPY_MODEL_d1cdfbd5506546e18b0bf7034d086c32"
      }
     },
     "d997084149b24a16adf3ec0089df3b87": {
      "model_module": "@jupyter-widgets/controls",
      "model_module_version": "1.2.0",
      "model_name": "VBoxModel",
      "state": {
       "children": [
        "IPY_MODEL_05c83d8adb7a4dababc3d43a13d279d9",
        "IPY_MODEL_6a97d7241dd346a892234351c46b42a3",
        "IPY_MODEL_aa6ef432ab714360a1cccccddab24adf",
        "IPY_MODEL_1653a7a365f3480d9d9d6e9503868b77",
        "IPY_MODEL_a479a55c7f3942fcb26410dc9f27870b",
        "IPY_MODEL_ac27177f41674d4e942fc6991d3fdff7"
       ],
       "layout": "IPY_MODEL_da38503ca1254c95bc152641a5b98aad"
      }
     },
     "d9c72ea5ac5e4104bd5e802eb4cb1431": {
      "model_module": "@jupyter-widgets/controls",
      "model_module_version": "1.2.0",
      "model_name": "VBoxModel",
      "state": {
       "children": [
        "IPY_MODEL_96cc0367d7534bdda87c1689c2577662",
        "IPY_MODEL_4f0d8fd39d3d4d018d4b0ea18b0cefee",
        "IPY_MODEL_afaef695b4f84a9ba5b3a032d0002d6a"
       ],
       "layout": "IPY_MODEL_74e76e9dc43b46c4a0fbab97fa05ac82"
      }
     },
     "d9f9845a6f2145cebc5354cc6553b7f8": {
      "model_module": "@jupyter-widgets/base",
      "model_module_version": "1.0.0",
      "model_name": "LayoutModel",
      "state": {
       "border": "1px solid gray"
      }
     },
     "da29bfbc60c3498ba7f1cde3f3796ac4": {
      "model_module": "@jupyter-widgets/controls",
      "model_module_version": "1.2.0",
      "model_name": "VBoxModel",
      "state": {
       "children": [
        "IPY_MODEL_d295d8525c50462c91d83e3ae5aae08f",
        "IPY_MODEL_17610fa125044383bad718745075fbe0",
        "IPY_MODEL_5474fcb3521040fd888dbb6faa2b9ab1",
        "IPY_MODEL_f73431f6793a4f708c5f31ce91d5ade7",
        "IPY_MODEL_bf3ff81513954d90b2eeaa52a708c72e",
        "IPY_MODEL_1191e59b698f41caac1f2543b9ec672d"
       ],
       "layout": "IPY_MODEL_08031491c93e44c89351b873ef2d2793"
      }
     },
     "da38503ca1254c95bc152641a5b98aad": {
      "model_module": "@jupyter-widgets/base",
      "model_module_version": "1.0.0",
      "model_name": "LayoutModel",
      "state": {
       "display": "flex",
       "flex_flow": "column wrap",
       "width": "66%"
      }
     },
     "da6998b0eeac4a14aa88cad19e27679d": {
      "model_module": "@jupyter-widgets/controls",
      "model_module_version": "1.2.0",
      "model_name": "SliderStyleModel",
      "state": {
       "description_width": ""
      }
     },
     "dad3538d532141688f011f43545d73aa": {
      "model_module": "@jupyter-widgets/controls",
      "model_module_version": "1.2.0",
      "model_name": "DescriptionStyleModel",
      "state": {
       "description_width": ""
      }
     },
     "db045e352333443180687f4ac0f34d1a": {
      "model_module": "@jupyter-widgets/controls",
      "model_module_version": "1.2.0",
      "model_name": "DescriptionStyleModel",
      "state": {
       "description_width": ""
      }
     },
     "db1e4da70e574d328eb4b0395d9d5099": {
      "model_module": "@jupyter-widgets/base",
      "model_module_version": "1.0.0",
      "model_name": "LayoutModel",
      "state": {
       "width": "auto"
      }
     },
     "db401807dd224cf9b09e0b6bfce6b878": {
      "model_module": "@jupyter-widgets/controls",
      "model_module_version": "1.2.0",
      "model_name": "FloatTextModel",
      "state": {
       "description": "min.",
       "layout": "IPY_MODEL_16adeca1a5c84244923fc975362493e7",
       "step": 0.1,
       "style": "IPY_MODEL_38dcb74fa34f48f4a0a41912cd4ac83d",
       "value": 0.5
      }
     },
     "db82f6ed96e04ec180beeb0545306c8e": {
      "model_module": "@jupyter-widgets/controls",
      "model_module_version": "1.2.0",
      "model_name": "DescriptionStyleModel",
      "state": {
       "description_width": ""
      }
     },
     "db84dc2b028949aea5dc5f2e91cbf792": {
      "model_module": "@jupyter-widgets/base",
      "model_module_version": "1.0.0",
      "model_name": "LayoutModel",
      "state": {
       "display": "none"
      }
     },
     "dba461e27a4f420da9fd5af4a5ee2dad": {
      "model_module": "@jupyter-widgets/controls",
      "model_module_version": "1.2.0",
      "model_name": "DescriptionStyleModel",
      "state": {
       "description_width": ""
      }
     },
     "dbb63c80dc9642bd9dbb73304be13397": {
      "model_module": "@jupyter-widgets/base",
      "model_module_version": "1.0.0",
      "model_name": "LayoutModel",
      "state": {}
     },
     "dc762c2f03604770bfc42e728b938bfb": {
      "model_module": "@jupyter-widgets/controls",
      "model_module_version": "1.2.0",
      "model_name": "BoundedIntTextModel",
      "state": {
       "description": "frame",
       "layout": "IPY_MODEL_2f74747c945244348968b676d001dc3d",
       "max": 49,
       "style": "IPY_MODEL_09565482a60f468594efd05d8d47ce33"
      }
     },
     "dc9b2fd2f53a40a29031dd96781ef514": {
      "model_module": "@jupyter-widgets/base",
      "model_module_version": "1.0.0",
      "model_name": "LayoutModel",
      "state": {}
     },
     "dca9dd971b584ed1885dee7f185ae186": {
      "model_module": "@jupyter-widgets/controls",
      "model_module_version": "1.2.0",
      "model_name": "VBoxModel",
      "state": {
       "children": [
        "IPY_MODEL_d96e483d1b09466ca38957a861f96be9",
        "IPY_MODEL_5b4a729fccd342f195d983a5748e6211"
       ],
       "layout": "IPY_MODEL_8ec6da2c67544898804aac810349c4c2"
      }
     },
     "dcbf8a889bd04d8c9ff2ccec087765e6": {
      "model_module": "@jupyter-widgets/base",
      "model_module_version": "1.0.0",
      "model_name": "LayoutModel",
      "state": {}
     },
     "dcc09b93320e44609364bbcb9876e1ee": {
      "model_module": "@jupyter-widgets/base",
      "model_module_version": "1.0.0",
      "model_name": "LayoutModel",
      "state": {
       "height": "150px",
       "width": "100%"
      }
     },
     "dcc1fee65e7e40488a2829e87fe22560": {
      "model_module": "@jupyter-widgets/controls",
      "model_module_version": "1.2.0",
      "model_name": "CheckboxModel",
      "state": {
       "description": "Size range",
       "disabled": false,
       "indent": false,
       "layout": "IPY_MODEL_3ffb629a5fc24209b28d844fa0f143d2",
       "style": "IPY_MODEL_82cc1b5d18df45f3a6d56f36a65c333b",
       "value": false
      }
     },
     "dcc952a66232410fa1fa9c39859c4476": {
      "model_module": "@jupyter-widgets/controls",
      "model_module_version": "1.2.0",
      "model_name": "DescriptionStyleModel",
      "state": {
       "description_width": ""
      }
     },
     "dcef5ea0496c44698a49d5beef93f6dc": {
      "model_module": "@jupyter-widgets/controls",
      "model_module_version": "1.2.0",
      "model_name": "HBoxModel",
      "state": {
       "children": [
        "IPY_MODEL_3f782f8371a24ca888d0504cc2dce459",
        "IPY_MODEL_5aa161b57ab74c31a2990499812f4952",
        "IPY_MODEL_530b6a43fc7247a7977cc8fe43e528a8"
       ],
       "layout": "IPY_MODEL_7cadca4ec02f4e818ba61018391b0e13"
      }
     },
     "dd18ffaa4dfc435198684d85c94556fd": {
      "model_module": "@jupyter-widgets/controls",
      "model_module_version": "1.2.0",
      "model_name": "DescriptionStyleModel",
      "state": {
       "description_width": ""
      }
     },
     "dd195f3a9952423dafc9b0ec968d2a48": {
      "model_module": "@jupyter-widgets/controls",
      "model_module_version": "1.2.0",
      "model_name": "SelectModel",
      "state": {
       "_options_labels": [
        "sensor-H57/cells-01_SAv-100k_SSS-H57-20k_000_.SPE"
       ],
       "index": 0,
       "layout": "IPY_MODEL_08d3390a8eb14b92a51410e0026a657c",
       "style": "IPY_MODEL_6d4e419261bb4e17a496830abcc5eeef"
      }
     },
     "dd7044f1536541f8b6d88270e4b24fec": {
      "model_module": "@jupyter-widgets/base",
      "model_module_version": "1.0.0",
      "model_name": "LayoutModel",
      "state": {
       "width": "100%"
      }
     },
     "dd9a793a269044e9867362bea1452dfa": {
      "model_module": "@jupyter-widgets/base",
      "model_module_version": "1.0.0",
      "model_name": "LayoutModel",
      "state": {}
     },
     "dda7600d8fc0499ba6e567e3d915bcb3": {
      "model_module": "@jupyter-widgets/controls",
      "model_module_version": "1.2.0",
      "model_name": "DescriptionStyleModel",
      "state": {
       "description_width": ""
      }
     },
     "ddb3be3e81694f63b945845860c9def7": {
      "model_module": "@jupyter-widgets/base",
      "model_module_version": "1.0.0",
      "model_name": "LayoutModel",
      "state": {
       "height": "150px",
       "width": "100%"
      }
     },
     "de096bf297284c4ba9d71eb7a810dadd": {
      "model_module": "@jupyter-widgets/base",
      "model_module_version": "1.0.0",
      "model_name": "LayoutModel",
      "state": {}
     },
     "de5dcfa265124cf994457d534f2c4215": {
      "model_module": "@jupyter-widgets/base",
      "model_module_version": "1.0.0",
      "model_name": "LayoutModel",
      "state": {
       "width": "auto"
      }
     },
     "de8dd318d68f4b1eb8d39594928fba54": {
      "model_module": "@jupyter-widgets/base",
      "model_module_version": "1.0.0",
      "model_name": "LayoutModel",
      "state": {
       "height": "150px",
       "width": "100%"
      }
     },
     "dea425607c3c4f77828d2dd2c9b30da5": {
      "model_module": "@jupyter-widgets/controls",
      "model_module_version": "1.2.0",
      "model_name": "FloatTextModel",
      "state": {
       "description": "max.",
       "layout": "IPY_MODEL_d63e77dedafe48898558983d15f08ff5",
       "step": 0.1,
       "style": "IPY_MODEL_dcc952a66232410fa1fa9c39859c4476",
       "value": 2
      }
     },
     "deaa69adc590440db289d16e8652a34d": {
      "model_module": "@jupyter-widgets/base",
      "model_module_version": "1.0.0",
      "model_name": "LayoutModel",
      "state": {}
     },
     "deb869177dc842ffbca85924bb7b3bac": {
      "model_module": "@jupyter-widgets/controls",
      "model_module_version": "1.2.0",
      "model_name": "FloatTextModel",
      "state": {
       "description": "max.",
       "layout": "IPY_MODEL_8363f9755aa04c31946b49bf6d81e6cd",
       "step": 0.1,
       "style": "IPY_MODEL_f324c84ec2c446569519026b07558eb9",
       "value": 2
      }
     },
     "df29ef34cc8940728c89c77772ee9ad5": {
      "model_module": "@jupyter-widgets/base",
      "model_module_version": "1.0.0",
      "model_name": "LayoutModel",
      "state": {
       "height": "150px",
       "width": "100%"
      }
     },
     "df29faf8273e48a5bee8d7a223cc08ac": {
      "model_module": "@jupyter-widgets/controls",
      "model_module_version": "1.2.0",
      "model_name": "FloatTextModel",
      "state": {
       "description": "sigma",
       "layout": "IPY_MODEL_3a5322cb3cb44c848a6da8e63862da57",
       "step": 0.1,
       "style": "IPY_MODEL_3bdc168d46bd4052a5c6535d639525d8",
       "value": 1
      }
     },
     "df2a54fb5a494245ae210802a381041a": {
      "model_module": "@jupyter-widgets/controls",
      "model_module_version": "1.2.0",
      "model_name": "VBoxModel",
      "state": {
       "children": [
        "IPY_MODEL_b373f55994874a9ca52d3dc07d8d2ec9",
        "IPY_MODEL_5ae695377cd74172a7305615d64c90c8",
        "IPY_MODEL_bc80a2902e974e47896e17c68df9abe2"
       ],
       "layout": "IPY_MODEL_fd283a9b705b4e168f6a0f5ea4275613"
      }
     },
     "df36990af733499b9507d029215f2f00": {
      "model_module": "@jupyter-widgets/base",
      "model_module_version": "1.0.0",
      "model_name": "LayoutModel",
      "state": {
       "width": "auto"
      }
     },
     "df8dfe6ad0f143f28f5319492ffa643c": {
      "model_module": "@jupyter-widgets/base",
      "model_module_version": "1.0.0",
      "model_name": "LayoutModel",
      "state": {}
     },
     "dfe5a54b21634c8eacd2143a7e1bb3b1": {
      "model_module": "@jupyter-widgets/controls",
      "model_module_version": "1.2.0",
      "model_name": "FloatTextModel",
      "state": {
       "description": "min.",
       "layout": "IPY_MODEL_03aea725465c47fa9e097730c1678540",
       "step": 0.1,
       "style": "IPY_MODEL_b724a9b097eb4e71b1647452e5cbb443",
       "value": 0.5
      }
     },
     "dff1d4a928f6463dae129c8cad3d3d3c": {
      "model_module": "@jupyter-widgets/controls",
      "model_module_version": "1.2.0",
      "model_name": "FloatTextModel",
      "state": {
       "description": "max.",
       "layout": "IPY_MODEL_1538691f74b44e72ac2a71f43fa8d908",
       "step": 0.1,
       "style": "IPY_MODEL_0296a0f59d2b495eacb4a67dee643a45",
       "value": 2
      }
     },
     "e0096b38b7aa4a74a77947079110a333": {
      "model_module": "@jupyter-widgets/controls",
      "model_module_version": "1.2.0",
      "model_name": "VBoxModel",
      "state": {
       "children": [
        "IPY_MODEL_0409ab0ac45f4d6b9b8e29003830c6c8",
        "IPY_MODEL_fd0e1df331454e93be279f4fd43c1fb6",
        "IPY_MODEL_6df85268451941229b5f55fc27677442"
       ],
       "layout": "IPY_MODEL_6c118529db474c7ebc022a50f0818c18"
      }
     },
     "e02bb29280d04a059fd09a38ba6d3397": {
      "model_module": "@jupyter-widgets/controls",
      "model_module_version": "1.2.0",
      "model_name": "IntRangeSliderModel",
      "state": {
       "_model_name": "IntRangeSliderModel",
       "_view_name": "IntRangeSliderView",
       "layout": "IPY_MODEL_263c7b3f7a5945b1a9b4b41ecb3dc41f",
       "max": 65535,
       "style": "IPY_MODEL_7d08cafb736a41c2afb0cf75a29fa8b9",
       "value": [
        134,
        25393
       ]
      }
     },
     "e07320cc570c4cb19f38f6d1aa6da5d5": {
      "model_module": "@jupyter-widgets/controls",
      "model_module_version": "1.2.0",
      "model_name": "DescriptionStyleModel",
      "state": {
       "description_width": ""
      }
     },
     "e0af1a73d3514a41b622304dfcb6b8be": {
      "model_module": "@jupyter-widgets/base",
      "model_module_version": "1.0.0",
      "model_name": "LayoutModel",
      "state": {
       "display": "none"
      }
     },
     "e0c21e017fae4469abcf38c5338a9fcd": {
      "model_module": "@jupyter-widgets/controls",
      "model_module_version": "1.2.0",
      "model_name": "DescriptionStyleModel",
      "state": {
       "description_width": ""
      }
     },
     "e0de3359d3ad4c85a2024598e52fb1b2": {
      "model_module": "@jupyter-widgets/base",
      "model_module_version": "1.0.0",
      "model_name": "LayoutModel",
      "state": {}
     },
     "e1417e10882d453988e80d2eca921cce": {
      "model_module": "@jupyter-widgets/controls",
      "model_module_version": "1.2.0",
      "model_name": "VBoxModel",
      "state": {
       "children": [
        "IPY_MODEL_b97477e6a04949cb99a424a06ac29b0d",
        "IPY_MODEL_66e936967d4042edb49f55f4446bbcdb",
        "IPY_MODEL_64ffbb4965a94f559a4c0cfc26562eac"
       ],
       "layout": "IPY_MODEL_148091cf6441474c8ef54f7f093ea314"
      }
     },
     "e17c5727b9e04a1088b58e6a22d8b980": {
      "model_module": "@jupyter-widgets/controls",
      "model_module_version": "1.2.0",
      "model_name": "DescriptionStyleModel",
      "state": {
       "description_width": ""
      }
     },
     "e19a11b395424a579922ad3ad491538c": {
      "model_module": "@jupyter-widgets/controls",
      "model_module_version": "1.2.0",
      "model_name": "DescriptionStyleModel",
      "state": {
       "description_width": ""
      }
     },
     "e1a105091162443aaadaede73df61fab": {
      "model_module": "@jupyter-widgets/controls",
      "model_module_version": "1.2.0",
      "model_name": "FloatTextModel",
      "state": {
       "description": "sigma",
       "layout": "IPY_MODEL_a2391440da5a4bd8a2d990b49a348864",
       "step": 0.1,
       "style": "IPY_MODEL_a83984f400c94bf6991daf533bb787bc",
       "value": 1
      }
     },
     "e1eabbbfd4b04c4f88b559ebdf18eb02": {
      "model_module": "@jupyter-widgets/controls",
      "model_module_version": "1.2.0",
      "model_name": "IntRangeSliderModel",
      "state": {
       "_model_name": "IntRangeSliderModel",
       "_view_name": "IntRangeSliderView",
       "layout": "IPY_MODEL_5a5dc38c8a6a42f0a08431c0f89f295b",
       "max": 65535,
       "style": "IPY_MODEL_8f03041c80844d6aac8a93c20c78e2c3",
       "value": [
        134,
        25393
       ]
      }
     },
     "e201e92cb5fa41e8af16546c7577b729": {
      "model_module": "@jupyter-widgets/base",
      "model_module_version": "1.0.0",
      "model_name": "LayoutModel",
      "state": {
       "display": "flex",
       "flex_flow": "column wrap",
       "width": "66%"
      }
     },
     "e2501d102e874250bef67ae4226556e2": {
      "model_module": "@jupyter-widgets/controls",
      "model_module_version": "1.2.0",
      "model_name": "CheckboxModel",
      "state": {
       "description": "Size range",
       "disabled": false,
       "indent": false,
       "layout": "IPY_MODEL_0e15b4ab70e64fb69be8687a31917ad0",
       "style": "IPY_MODEL_12a71bb1fa3543c4a44273b64a802864",
       "value": false
      }
     },
     "e28a31bb25d64810b28a553f3b93e80b": {
      "model_module": "@jupyter-widgets/controls",
      "model_module_version": "1.2.0",
      "model_name": "DescriptionStyleModel",
      "state": {
       "description_width": ""
      }
     },
     "e2edb6304382450b823e5655179f5a6d": {
      "model_module": "@jupyter-widgets/controls",
      "model_module_version": "1.2.0",
      "model_name": "VBoxModel",
      "state": {
       "children": [
        "IPY_MODEL_2dcd207dc31e43ba81fa5e18ff2c7f5e",
        "IPY_MODEL_ee58ab783efa4765bb4701fd34701882",
        "IPY_MODEL_7ba82f1bc9f44a9ab5436345270cc38b"
       ],
       "layout": "IPY_MODEL_b2d2c403c2e54fc990e91655a19871f4"
      }
     },
     "e372ba2d74b8463db4786dc761cb09eb": {
      "model_module": "@jupyter-widgets/controls",
      "model_module_version": "1.2.0",
      "model_name": "DescriptionStyleModel",
      "state": {
       "description_width": ""
      }
     },
     "e3bdd03ca0ee4ed5bd7975bb27a948e7": {
      "model_module": "@jupyter-widgets/base",
      "model_module_version": "1.0.0",
      "model_name": "LayoutModel",
      "state": {
       "border": "1px solid gray"
      }
     },
     "e3e1a82efc5947c0830d8ce22bc8bd96": {
      "model_module": "@jupyter-widgets/base",
      "model_module_version": "1.0.0",
      "model_name": "LayoutModel",
      "state": {
       "height": "150px",
       "width": "100%"
      }
     },
     "e4432ff0f82a4912ac85dd08f6e539b0": {
      "model_module": "@jupyter-widgets/controls",
      "model_module_version": "1.2.0",
      "model_name": "FloatTextModel",
      "state": {
       "description": "threshold",
       "layout": "IPY_MODEL_4f59f7c7f95349aaaf46f4a293531ded",
       "step": 10,
       "style": "IPY_MODEL_603f6d221e8049b5a98f4145480c1bab",
       "value": 80
      }
     },
     "e443c838649f4033956e752b74c810a0": {
      "model_module": "@jupyter-widgets/base",
      "model_module_version": "1.0.0",
      "model_name": "LayoutModel",
      "state": {}
     },
     "e49caeeef93048f3a2f0ba4968ab5447": {
      "model_module": "@jupyter-widgets/base",
      "model_module_version": "1.0.0",
      "model_name": "LayoutModel",
      "state": {
       "width": "auto"
      }
     },
     "e4a7d5985d9246e59f591bf25c398d01": {
      "model_module": "@jupyter-widgets/controls",
      "model_module_version": "1.2.0",
      "model_name": "ButtonStyleModel",
      "state": {}
     },
     "e4b7ecda4ad2471eb30d35e20928ad25": {
      "model_module": "@jupyter-widgets/controls",
      "model_module_version": "1.2.0",
      "model_name": "CheckboxModel",
      "state": {
       "description": "Min. distance",
       "disabled": false,
       "indent": false,
       "layout": "IPY_MODEL_d390553b939f4f698bd9795f988dd207",
       "style": "IPY_MODEL_0f6cb1432de1435a9412ac14c5c56d0b",
       "value": true
      }
     },
     "e4cf0e0a78374e2080f293b628f173bf": {
      "model_module": "@jupyter-widgets/controls",
      "model_module_version": "1.2.0",
      "model_name": "FloatTextModel",
      "state": {
       "description": "sigma",
       "layout": "IPY_MODEL_004a165785f648a6af498860645ce22a",
       "step": 0.1,
       "style": "IPY_MODEL_c8a4732a27e4461ea7a550108f273591",
       "value": 1
      }
     },
     "e4cfcf0e648d475b8b59be966b465866": {
      "model_module": "@jupyter-widgets/base",
      "model_module_version": "1.0.0",
      "model_name": "LayoutModel",
      "state": {}
     },
     "e52dc050c90b4f95ae0574a97f6bab48": {
      "model_module": "@jupyter-widgets/base",
      "model_module_version": "1.0.0",
      "model_name": "LayoutModel",
      "state": {
       "width": "auto"
      }
     },
     "e5af1c9d0bf94a41b4eba05dd22e83ff": {
      "model_module": "@jupyter-widgets/controls",
      "model_module_version": "1.2.0",
      "model_name": "FloatTextModel",
      "state": {
       "description": "max.",
       "layout": "IPY_MODEL_9a954b9891c644eba6660740314c3850",
       "step": 0.1,
       "style": "IPY_MODEL_c1d97af4af07498cae7d5b1c4be5295c",
       "value": 2
      }
     },
     "e5f0b576dc474a79ba6dde69d2627e1e": {
      "model_module": "@jupyter-widgets/controls",
      "model_module_version": "1.2.0",
      "model_name": "FloatTextModel",
      "state": {
       "description": "radius",
       "layout": "IPY_MODEL_8da328fcd8204bd592c2e6cc3480b1d4",
       "step": 0.1,
       "style": "IPY_MODEL_f23b5d5e3296400aa8a5af05287ca5f2",
       "value": 1
      }
     },
     "e61264a217664ee696e47284c439a285": {
      "model_module": "@jupyter-widgets/controls",
      "model_module_version": "1.2.0",
      "model_name": "FloatTextModel",
      "state": {
       "layout": "IPY_MODEL_695b82bde4b24db099d5eeaa49f2b112",
       "step": 0.1,
       "style": "IPY_MODEL_fbd86cc786c14f238655e284433736d9",
       "value": 3
      }
     },
     "e671edec20394f92b29c23c6cad1c372": {
      "model_module": "@jupyter-widgets/controls",
      "model_module_version": "1.2.0",
      "model_name": "DescriptionStyleModel",
      "state": {
       "description_width": ""
      }
     },
     "e675eb635a8d47be92f5923a24b15780": {
      "model_module": "@jupyter-widgets/controls",
      "model_module_version": "1.2.0",
      "model_name": "DescriptionStyleModel",
      "state": {
       "description_width": ""
      }
     },
     "e6b2ca2ca1f64f1b80e5d80da0c6ad93": {
      "model_module": "@jupyter-widgets/controls",
      "model_module_version": "1.2.0",
      "model_name": "DescriptionStyleModel",
      "state": {
       "description_width": ""
      }
     },
     "e6bb0a1678d840b8bf53ff3fd98da3fa": {
      "model_module": "@jupyter-widgets/controls",
      "model_module_version": "1.2.0",
      "model_name": "BoundedIntTextModel",
      "state": {
       "description": "frame",
       "layout": "IPY_MODEL_5374c6190bc94421b907718a226cc3ce",
       "max": 0,
       "style": "IPY_MODEL_687a2ff0b9fe40e791b38a8bc7183f14"
      }
     },
     "e6f90818e44e4f82bdae93466567aec2": {
      "model_module": "@jupyter-widgets/base",
      "model_module_version": "1.0.0",
      "model_name": "LayoutModel",
      "state": {
       "width": "auto"
      }
     },
     "e704f90bcb3c446badc7d2eeb77c1ff3": {
      "model_module": "@jupyter-widgets/base",
      "model_module_version": "1.0.0",
      "model_name": "LayoutModel",
      "state": {
       "display": "none"
      }
     },
     "e71fb3523ffa4b1aa40a594304fe041f": {
      "model_module": "@jupyter-widgets/base",
      "model_module_version": "1.0.0",
      "model_name": "LayoutModel",
      "state": {
       "display": "none"
      }
     },
     "e73200dfa3a84a7e902c264f06cb8050": {
      "model_module": "@jupyter-widgets/base",
      "model_module_version": "1.0.0",
      "model_name": "LayoutModel",
      "state": {
       "border": "1px solid gray"
      }
     },
     "e73df47e85a94b77813998ab4e5b26ee": {
      "model_module": "@jupyter-widgets/base",
      "model_module_version": "1.0.0",
      "model_name": "LayoutModel",
      "state": {
       "display": "flex",
       "flex_flow": "column wrap",
       "width": "66%"
      }
     },
     "e761c5db4766467895ca2f34b0e4a0da": {
      "model_module": "@jupyter-widgets/base",
      "model_module_version": "1.0.0",
      "model_name": "LayoutModel",
      "state": {
       "display": "none"
      }
     },
     "e79b245b362c4276a0cd73ea74f0d8c9": {
      "model_module": "@jupyter-widgets/base",
      "model_module_version": "1.0.0",
      "model_name": "LayoutModel",
      "state": {
       "width": "auto"
      }
     },
     "e81b1626cd0a43708106ffdbcf2dc112": {
      "model_module": "@jupyter-widgets/controls",
      "model_module_version": "1.2.0",
      "model_name": "HBoxModel",
      "state": {
       "children": [
        "IPY_MODEL_224e1cf0fe094f1cb7bd8bd9e295a39e",
        "IPY_MODEL_9afd4d9e38e94b159e27835ab50dbb0b",
        "IPY_MODEL_7a134be248c44819aa97966728f0c277"
       ],
       "layout": "IPY_MODEL_0bd360a680314cf9ae5ad3f3958c587e"
      }
     },
     "e8f311db4aae46339bc213801ec79649": {
      "model_module": "@jupyter-widgets/controls",
      "model_module_version": "1.2.0",
      "model_name": "DescriptionStyleModel",
      "state": {
       "description_width": ""
      }
     },
     "e8f899ae81b342c3a754c989ebecfc61": {
      "model_module": "@jupyter-widgets/base",
      "model_module_version": "1.0.0",
      "model_name": "LayoutModel",
      "state": {
       "width": "75%"
      }
     },
     "e91726fd7c014a8ba3e9371ba0ef440d": {
      "model_module": "@jupyter-widgets/controls",
      "model_module_version": "1.2.0",
      "model_name": "IntTextModel",
      "state": {
       "description": "feat. size",
       "layout": "IPY_MODEL_098bb99af1444004b3183b58bee89a05",
       "step": 1,
       "style": "IPY_MODEL_34bf8cbaf2714eb597514540f77ca60d",
       "value": 3
      }
     },
     "e930f2092d854d7595af2c6f9be1d517": {
      "model_module": "@jupyter-widgets/base",
      "model_module_version": "1.0.0",
      "model_name": "LayoutModel",
      "state": {
       "width": "auto"
      }
     },
     "e96c896d4f344616b11a89abc57afed0": {
      "model_module": "@jupyter-widgets/controls",
      "model_module_version": "1.2.0",
      "model_name": "DescriptionStyleModel",
      "state": {
       "description_width": ""
      }
     },
     "e98a03ff22104c9aafaced303ca0cc23": {
      "model_module": "@jupyter-widgets/controls",
      "model_module_version": "1.2.0",
      "model_name": "VBoxModel",
      "state": {
       "children": [
        "IPY_MODEL_4d8797da39e146098e2acf3e58307800",
        "IPY_MODEL_963fcc50330b45d085af26165f78fcfd",
        "IPY_MODEL_4beac3c535f3486a8b97bcaede91171a"
       ],
       "layout": "IPY_MODEL_d11b8b45a4ad44eea60029274dfe2e79"
      }
     },
     "e98ebd4492074318973e80751dd01ac2": {
      "model_module": "@jupyter-widgets/controls",
      "model_module_version": "1.2.0",
      "model_name": "DescriptionStyleModel",
      "state": {
       "description_width": ""
      }
     },
     "ea03a5b8e13845c1a1f05cd163f41ba5": {
      "model_module": "@jupyter-widgets/controls",
      "model_module_version": "1.2.0",
      "model_name": "HBoxModel",
      "state": {
       "children": [
        "IPY_MODEL_38a7fdf1a3bb4fc5ba8172b7e156b029",
        "IPY_MODEL_7c91f459dac54e8fa020dd41e8b948e8",
        "IPY_MODEL_67a2721f2fb745d78c88542cc4b0693c"
       ],
       "layout": "IPY_MODEL_a618d0b1bf9a4b6aaebbc4f56e910f8c"
      }
     },
     "ea0b6a5546d9429ea7de2c7325b94dc9": {
      "model_module": "@jupyter-widgets/controls",
      "model_module_version": "1.2.0",
      "model_name": "DescriptionStyleModel",
      "state": {
       "description_width": ""
      }
     },
     "ea337e089ffe4346ad274bae74d547e6": {
      "model_module": "@jupyter-widgets/controls",
      "model_module_version": "1.2.0",
      "model_name": "DescriptionStyleModel",
      "state": {
       "description_width": ""
      }
     },
     "ea6aa6a598bf4cf597fb6d0781cf82d7": {
      "model_module": "@jupyter-widgets/controls",
      "model_module_version": "1.2.0",
      "model_name": "CheckboxModel",
      "state": {
       "description": "Size range",
       "disabled": false,
       "indent": false,
       "layout": "IPY_MODEL_3681124aa8ad436984338a2f81ea7fcb",
       "style": "IPY_MODEL_8a6550c5cbe647d68a2115ac8442b978",
       "value": false
      }
     },
     "ea75b7b76fc947c1a28b1f756d684b82": {
      "model_module": "@jupyter-widgets/base",
      "model_module_version": "1.0.0",
      "model_name": "LayoutModel",
      "state": {}
     },
     "eabca0ff3a3d4966ae8ae42be2d62ee4": {
      "model_module": "@jupyter-widgets/controls",
      "model_module_version": "1.2.0",
      "model_name": "FloatTextModel",
      "state": {
       "layout": "IPY_MODEL_0fbf87dece764104b2cc5449cc9c7045",
       "step": 0.1,
       "style": "IPY_MODEL_48c68a4560844d3fbb31562db6e9683e",
       "value": 3
      }
     },
     "eabfc79546414ba9812c47f254b8d06b": {
      "model_module": "@jupyter-widgets/controls",
      "model_module_version": "1.2.0",
      "model_name": "DescriptionStyleModel",
      "state": {
       "description_width": ""
      }
     },
     "eae3fcedbbfc4f4b81a8fd7d7fa9cea1": {
      "model_module": "@jupyter-widgets/controls",
      "model_module_version": "1.2.0",
      "model_name": "HBoxModel",
      "state": {
       "children": [
        "IPY_MODEL_7b03f085f65f420f8a3f52353e8d06af",
        "IPY_MODEL_91965d064d4e404fb585454f0d66f835"
       ],
       "layout": "IPY_MODEL_1e3129fc5cd44769b18bc99ca51ed37a"
      }
     },
     "eb2d64499f374b36a0f83207af0348f7": {
      "model_module": "@jupyter-widgets/controls",
      "model_module_version": "1.2.0",
      "model_name": "DescriptionStyleModel",
      "state": {
       "description_width": ""
      }
     },
     "eb4125f7a52e4823b9976a3c9e7e9aea": {
      "model_module": "@jupyter-widgets/controls",
      "model_module_version": "1.2.0",
      "model_name": "DescriptionStyleModel",
      "state": {
       "description_width": ""
      }
     },
     "eb5451efc5f34fe5a9562b3a22bd3ccc": {
      "model_module": "@jupyter-widgets/controls",
      "model_module_version": "1.2.0",
      "model_name": "DescriptionStyleModel",
      "state": {
       "description_width": ""
      }
     },
     "eb85ee028e3b458b8c9f8e8945f5c950": {
      "model_module": "@jupyter-widgets/base",
      "model_module_version": "1.0.0",
      "model_name": "LayoutModel",
      "state": {}
     },
     "eb8a6c492cbb40afa6de05b53bec888b": {
      "model_module": "@jupyter-widgets/controls",
      "model_module_version": "1.2.0",
      "model_name": "ButtonStyleModel",
      "state": {}
     },
     "eb8ea61d9b884dfeab0e5844d8e02b7a": {
      "model_module": "@jupyter-widgets/controls",
      "model_module_version": "1.2.0",
      "model_name": "BoundedIntTextModel",
      "state": {
       "description": "frame",
       "layout": "IPY_MODEL_79408f63579c4a6eb87afeda2a783ead",
       "max": 49,
       "style": "IPY_MODEL_486ef561d5ad4ed8b6b402d8f99f85c4"
      }
     },
     "eb93cedbbc1a4dd899a9900ff44c55a5": {
      "model_module": "@jupyter-widgets/base",
      "model_module_version": "1.0.0",
      "model_name": "LayoutModel",
      "state": {}
     },
     "eb9b74271d2d44dcb8aced8f36b6dea4": {
      "model_module": "@jupyter-widgets/controls",
      "model_module_version": "1.2.0",
      "model_name": "DescriptionStyleModel",
      "state": {
       "description_width": ""
      }
     },
     "ebb31843612e4b4fb1f96750a22bf8a9": {
      "model_module": "@jupyter-widgets/controls",
      "model_module_version": "1.2.0",
      "model_name": "FloatTextModel",
      "state": {
       "layout": "IPY_MODEL_d0e29c1372864fdeb9e793b8d54bae2b",
       "step": 0.1,
       "style": "IPY_MODEL_2dfba74104b24ebe8e5d983f36979c28",
       "value": 3
      }
     },
     "ebfdd479dffd499392a03cd744a5e4a0": {
      "model_module": "@jupyter-widgets/controls",
      "model_module_version": "1.2.0",
      "model_name": "HBoxModel",
      "state": {
       "children": [
        "IPY_MODEL_a60a97a0997c4d61b56ed21f67dcdefa",
        "IPY_MODEL_7eba0bf824a04ba59bf6385b7b96348e"
       ],
       "layout": "IPY_MODEL_60ec7cfe558846189357291a45dc9a81"
      }
     },
     "ebfe0329c9a54c26a8d0d1bc90fd1a37": {
      "model_module": "@jupyter-widgets/controls",
      "model_module_version": "1.2.0",
      "model_name": "IntRangeSliderModel",
      "state": {
       "_model_name": "IntRangeSliderModel",
       "_view_name": "IntRangeSliderView",
       "layout": "IPY_MODEL_2750af465b3b43f9b53afe32e8b254fa",
       "max": 65535,
       "style": "IPY_MODEL_095a4faaffa94acba0dd70dc2c9df44f",
       "value": [
        288,
        891
       ]
      }
     },
     "ec077ad547c24384a0fa385f60917c41": {
      "model_module": "@jupyter-widgets/base",
      "model_module_version": "1.0.0",
      "model_name": "LayoutModel",
      "state": {}
     },
     "ec102a599105400b922cb4662298b6c5": {
      "model_module": "@jupyter-widgets/base",
      "model_module_version": "1.0.0",
      "model_name": "LayoutModel",
      "state": {}
     },
     "ec3a39d4975e48498ef052621df3d348": {
      "model_module": "@jupyter-widgets/controls",
      "model_module_version": "1.2.0",
      "model_name": "FloatTextModel",
      "state": {
       "description": "threshold",
       "layout": "IPY_MODEL_62d7207d1edb4aec95d7b6c0366bf9a0",
       "step": 10,
       "style": "IPY_MODEL_9740de8672ba4075ba979d71501a1f50",
       "value": 100
      }
     },
     "ec76c6f4165e4b56bbbc2ebc8027f09c": {
      "model_module": "@jupyter-widgets/controls",
      "model_module_version": "1.2.0",
      "model_name": "DropdownModel",
      "state": {
       "_options_labels": [
        "2d_fixed",
        "2d",
        "3d"
       ],
       "description": "model",
       "index": 1,
       "layout": "IPY_MODEL_7b761e89fa234cb08725d6348836a0ee",
       "style": "IPY_MODEL_eb4125f7a52e4823b9976a3c9e7e9aea"
      }
     },
     "ecb8bac5108d45a78922b28f3f46ed26": {
      "model_module": "@jupyter-widgets/controls",
      "model_module_version": "1.2.0",
      "model_name": "DescriptionStyleModel",
      "state": {
       "description_width": ""
      }
     },
     "ecc12122d14a49e08bd8d8a6abf47879": {
      "model_module": "@jupyter-widgets/base",
      "model_module_version": "1.0.0",
      "model_name": "LayoutModel",
      "state": {
       "height": "150px",
       "width": "100%"
      }
     },
     "ecceb57342d84d7eb2790085b645c9d5": {
      "model_module": "@jupyter-widgets/base",
      "model_module_version": "1.0.0",
      "model_name": "LayoutModel",
      "state": {
       "display": "inline"
      }
     },
     "ecd47fa07d1142bea9392cc41b33eee5": {
      "model_module": "@jupyter-widgets/controls",
      "model_module_version": "1.2.0",
      "model_name": "DescriptionStyleModel",
      "state": {
       "description_width": ""
      }
     },
     "ed0d482f13a94b8aa51d17b77120e7e0": {
      "model_module": "@jupyter-widgets/controls",
      "model_module_version": "1.2.0",
      "model_name": "DescriptionStyleModel",
      "state": {
       "description_width": ""
      }
     },
     "ed1451ab05ed447b886aebbf160448e1": {
      "model_module": "@jupyter-widgets/controls",
      "model_module_version": "1.2.0",
      "model_name": "VBoxModel",
      "state": {
       "children": [
        "IPY_MODEL_dd195f3a9952423dafc9b0ec968d2a48",
        "IPY_MODEL_dc762c2f03604770bfc42e728b938bfb"
       ],
       "layout": "IPY_MODEL_030beaf9a07c41708ef5d2a2e0be05f5"
      }
     },
     "ed36a418cd2a4bd0b0d8656c05df3454": {
      "model_module": "@jupyter-widgets/controls",
      "model_module_version": "1.2.0",
      "model_name": "SliderStyleModel",
      "state": {
       "description_width": ""
      }
     },
     "ed60be68de04477a94324f0eb040ef4d": {
      "model_module": "@jupyter-widgets/controls",
      "model_module_version": "1.2.0",
      "model_name": "SliderStyleModel",
      "state": {
       "description_width": ""
      }
     },
     "ed6380d8ac0d4669808c453d50ba50a5": {
      "model_module": "@jupyter-widgets/controls",
      "model_module_version": "1.2.0",
      "model_name": "DescriptionStyleModel",
      "state": {
       "description_width": ""
      }
     },
     "ed663a271ac945caa0969117f52a1111": {
      "model_module": "@jupyter-widgets/base",
      "model_module_version": "1.0.0",
      "model_name": "LayoutModel",
      "state": {
       "width": "auto"
      }
     },
     "ed7a81a126de4e08aa3a55b3e4fbfa4a": {
      "model_module": "@jupyter-widgets/base",
      "model_module_version": "1.0.0",
      "model_name": "LayoutModel",
      "state": {}
     },
     "ed92f97417e347d18132099a5875532b": {
      "model_module": "@jupyter-widgets/controls",
      "model_module_version": "1.2.0",
      "model_name": "DescriptionStyleModel",
      "state": {
       "description_width": ""
      }
     },
     "edc2949c96304ab1b6e61e36f72849ca": {
      "model_module": "@jupyter-widgets/controls",
      "model_module_version": "1.2.0",
      "model_name": "DescriptionStyleModel",
      "state": {
       "description_width": ""
      }
     },
     "edcf26e89f0140129f39cf5f6752a772": {
      "model_module": "@jupyter-widgets/base",
      "model_module_version": "1.0.0",
      "model_name": "LayoutModel",
      "state": {
       "width": "auto"
      }
     },
     "edd9c9425ed94f2195ebe182c687351a": {
      "model_module": "@jupyter-widgets/controls",
      "model_module_version": "1.2.0",
      "model_name": "DescriptionStyleModel",
      "state": {
       "description_width": ""
      }
     },
     "edfce0634e054ba1804ee9fa334e0c8e": {
      "model_module": "@jupyter-widgets/base",
      "model_module_version": "1.0.0",
      "model_name": "LayoutModel",
      "state": {
       "border": "1px solid gray"
      }
     },
     "ee58ab783efa4765bb4701fd34701882": {
      "model_module": "@jupyter-widgets/controls",
      "model_module_version": "1.2.0",
      "model_name": "FloatTextModel",
      "state": {
       "description": "min.",
       "layout": "IPY_MODEL_57792291a97947bbabf742c7d545ef62",
       "step": 0.1,
       "style": "IPY_MODEL_6a117355361e4c94b6d24f81401c6571",
       "value": 0.5
      }
     },
     "eea8ebc84b0f4de58a6dc8e82012bc74": {
      "model_module": "@jupyter-widgets/base",
      "model_module_version": "1.0.0",
      "model_name": "LayoutModel",
      "state": {}
     },
     "eec64e22e1e84613999d8be9d4cecb85": {
      "model_module": "@jupyter-widgets/controls",
      "model_module_version": "1.2.0",
      "model_name": "HBoxModel",
      "state": {
       "children": [
        "IPY_MODEL_e02bb29280d04a059fd09a38ba6d3397",
        "IPY_MODEL_eefc05589d104739b94dba9f93d62444",
        "IPY_MODEL_49f47ccf89f748e787085a389a86a031"
       ],
       "layout": "IPY_MODEL_11bc5b1e3dc949a284eaa6fedf5ca20e"
      }
     },
     "eee1dd1696e74a3d9eef271fc2b51b01": {
      "model_module": "@jupyter-widgets/controls",
      "model_module_version": "1.2.0",
      "model_name": "HBoxModel",
      "state": {
       "children": [
        "IPY_MODEL_425c2255dfdc44a39fbc8ac9b2d7bb89",
        "IPY_MODEL_2efa69b4d750402ebc98cbc7f32d21de",
        "IPY_MODEL_23584d65dabc4ac5bca52dd8242e6d0b"
       ],
       "layout": "IPY_MODEL_172848b4e2ee4cc0acb10b8f5bfebb13"
      }
     },
     "eefc05589d104739b94dba9f93d62444": {
      "model_module": "@jupyter-widgets/controls",
      "model_module_version": "1.2.0",
      "model_name": "ButtonModel",
      "state": {
       "description": "Auto",
       "layout": "IPY_MODEL_2e7b3e7890d948e0915983a4ef86ab85",
       "style": "IPY_MODEL_bdd95c5267ef40069426a2ef7b620280"
      }
     },
     "ef11086c136645e6bcb1b062b9132344": {
      "model_module": "@jupyter-widgets/controls",
      "model_module_version": "1.2.0",
      "model_name": "VBoxModel",
      "state": {
       "children": [
        "IPY_MODEL_0203ed12b70147ab820d372e3bb3afd2",
        "IPY_MODEL_bd2af5b109eb499596c35b07c0e3869c",
        "IPY_MODEL_dff1d4a928f6463dae129c8cad3d3d3c"
       ],
       "layout": "IPY_MODEL_4fd56e3ac5d54036ab16c9db9aa9eee6"
      }
     },
     "ef583b65214f4e799def73a9bcee58da": {
      "model_module": "@jupyter-widgets/base",
      "model_module_version": "1.0.0",
      "model_name": "LayoutModel",
      "state": {}
     },
     "ef7105e4a7684fe1b412815e09bf964e": {
      "model_module": "@jupyter-widgets/controls",
      "model_module_version": "1.2.0",
      "model_name": "DropdownModel",
      "state": {
       "_options_labels": [
        "Identity",
        "Cg",
        "Gaussian"
       ],
       "description": "find filter",
       "index": 1,
       "layout": "IPY_MODEL_f3c89bc563f94825b2d2fa0c2d695979",
       "style": "IPY_MODEL_1fad2e716f70409e858650e25736c999"
      }
     },
     "ef9284b5f5e14297af782c30a61ebab1": {
      "model_module": "@jupyter-widgets/controls",
      "model_module_version": "1.2.0",
      "model_name": "FloatTextModel",
      "state": {
       "description": "max.",
       "layout": "IPY_MODEL_6b47dd2b40204bcbb0d7c6efa0d74984",
       "step": 0.1,
       "style": "IPY_MODEL_0b016037b1b242e09c406091965d5de8",
       "value": 2
      }
     },
     "ef95de6fd94f45e78a72b3debec04d11": {
      "model_module": "@jupyter-widgets/base",
      "model_module_version": "1.0.0",
      "model_name": "LayoutModel",
      "state": {
       "display": "none"
      }
     },
     "ef96b9ee0b834f7ebd60e3a76226f34e": {
      "model_module": "@jupyter-widgets/base",
      "model_module_version": "1.0.0",
      "model_name": "LayoutModel",
      "state": {
       "display": "none"
      }
     },
     "efabb69312cd4d66ba1eced521f74e56": {
      "model_module": "@jupyter-widgets/controls",
      "model_module_version": "1.2.0",
      "model_name": "DescriptionStyleModel",
      "state": {
       "description_width": ""
      }
     },
     "efc6cb4e8cab4a86ae2521db39ceb4ae": {
      "model_module": "@jupyter-widgets/controls",
      "model_module_version": "1.2.0",
      "model_name": "DescriptionStyleModel",
      "state": {
       "description_width": ""
      }
     },
     "eff1bedff8c4495781f64e72b69d3fe7": {
      "model_module": "@jupyter-widgets/controls",
      "model_module_version": "1.2.0",
      "model_name": "BoundedIntTextModel",
      "state": {
       "description": "frame",
       "layout": "IPY_MODEL_be961b89ce0a4149973cabf1c701a3d0",
       "max": 0,
       "style": "IPY_MODEL_dda7600d8fc0499ba6e567e3d915bcb3"
      }
     },
     "f0367f1de118469ba8b00941e610a68e": {
      "model_module": "@jupyter-widgets/controls",
      "model_module_version": "1.2.0",
      "model_name": "SliderStyleModel",
      "state": {
       "description_width": ""
      }
     },
     "f09107aafae74a6fa022c90364a58dcf": {
      "model_module": "@jupyter-widgets/controls",
      "model_module_version": "1.2.0",
      "model_name": "DescriptionStyleModel",
      "state": {
       "description_width": ""
      }
     },
     "f0a8fd71c949419c816299f44103538f": {
      "model_module": "@jupyter-widgets/controls",
      "model_module_version": "1.2.0",
      "model_name": "ButtonStyleModel",
      "state": {}
     },
     "f0c56595a26442fda945eba4d2ce93de": {
      "model_module": "@jupyter-widgets/base",
      "model_module_version": "1.0.0",
      "model_name": "LayoutModel",
      "state": {
       "width": "75%"
      }
     },
     "f0c7bb441e6e4b528f534b973d41fad0": {
      "model_module": "@jupyter-widgets/controls",
      "model_module_version": "1.2.0",
      "model_name": "DropdownModel",
      "state": {
       "_options_labels": [
        "Identity",
        "Cg",
        "Gaussian"
       ],
       "description": "find filter",
       "index": 1,
       "layout": "IPY_MODEL_71e2a8a45af34ed788cde52d8bfa61bf",
       "style": "IPY_MODEL_7364276c133a4c3eaaa343befc2a703b"
      }
     },
     "f11472961bf9417bb5f947a08586a9f8": {
      "model_module": "@jupyter-widgets/base",
      "model_module_version": "1.0.0",
      "model_name": "LayoutModel",
      "state": {
       "display": "none"
      }
     },
     "f172e379c8aa40d498e73d9fe907025a": {
      "model_module": "@jupyter-widgets/base",
      "model_module_version": "1.0.0",
      "model_name": "LayoutModel",
      "state": {
       "width": "auto"
      }
     },
     "f17b48ffaafc4ac482e8809faaa834a8": {
      "model_module": "@jupyter-widgets/controls",
      "model_module_version": "1.2.0",
      "model_name": "FloatTextModel",
      "state": {
       "description": "max.",
       "layout": "IPY_MODEL_354a798a39b64454b1601798ffc3b8da",
       "step": 0.1,
       "style": "IPY_MODEL_e28a31bb25d64810b28a553f3b93e80b",
       "value": 2
      }
     },
     "f196e1c1e9ca4dfa8acc074641bccf84": {
      "model_module": "@jupyter-widgets/controls",
      "model_module_version": "1.2.0",
      "model_name": "HBoxModel",
      "state": {
       "children": [
        "IPY_MODEL_91e07288880e4ec1acbb5ce39898e869",
        "IPY_MODEL_ccd4bace9fbc441ba44bf1a202ee6362",
        "IPY_MODEL_a07147f711e7440981b4726a70f1a092"
       ],
       "layout": "IPY_MODEL_2dd721c826fe4e56abc05887e2133573"
      }
     },
     "f23b5d5e3296400aa8a5af05287ca5f2": {
      "model_module": "@jupyter-widgets/controls",
      "model_module_version": "1.2.0",
      "model_name": "DescriptionStyleModel",
      "state": {
       "description_width": ""
      }
     },
     "f29c89eed6f944288cabe9167b510179": {
      "model_module": "@jupyter-widgets/controls",
      "model_module_version": "1.2.0",
      "model_name": "IntRangeSliderModel",
      "state": {
       "_model_name": "IntRangeSliderModel",
       "_view_name": "IntRangeSliderView",
       "layout": "IPY_MODEL_40da11987c9848cdbf569fd8a495553c",
       "max": 65535,
       "style": "IPY_MODEL_1bef31ac08074ebd95693403b9f1d5a3",
       "value": [
        288,
        891
       ]
      }
     },
     "f29de83593364a6189ab59bcbb2c320b": {
      "model_module": "@jupyter-widgets/base",
      "model_module_version": "1.0.0",
      "model_name": "LayoutModel",
      "state": {
       "width": "auto"
      }
     },
     "f2ae8795066b405d86ad6b62f338983a": {
      "model_module": "@jupyter-widgets/base",
      "model_module_version": "1.0.0",
      "model_name": "LayoutModel",
      "state": {
       "border": "1px solid gray"
      }
     },
     "f2bd6ab3067c4d40a222a12115b3f9b8": {
      "model_module": "@jupyter-widgets/controls",
      "model_module_version": "1.2.0",
      "model_name": "DescriptionStyleModel",
      "state": {
       "description_width": ""
      }
     },
     "f2e48de82e5e4ca78a857a4de020d8ed": {
      "model_module": "@jupyter-widgets/controls",
      "model_module_version": "1.2.0",
      "model_name": "DescriptionStyleModel",
      "state": {
       "description_width": ""
      }
     },
     "f324c84ec2c446569519026b07558eb9": {
      "model_module": "@jupyter-widgets/controls",
      "model_module_version": "1.2.0",
      "model_name": "DescriptionStyleModel",
      "state": {
       "description_width": ""
      }
     },
     "f33352c769984bdb8569397b5ea79843": {
      "model_module": "@jupyter-widgets/controls",
      "model_module_version": "1.2.0",
      "model_name": "DescriptionStyleModel",
      "state": {
       "description_width": ""
      }
     },
     "f3a8f38b4099453fb837d8a3180abfa0": {
      "model_module": "@jupyter-widgets/controls",
      "model_module_version": "1.2.0",
      "model_name": "DropdownModel",
      "state": {
       "_options_labels": [
        "Identity",
        "Cg",
        "Gaussian"
       ],
       "description": "find filter",
       "index": 1,
       "layout": "IPY_MODEL_b2c338fba7c1448fab4e5e40f1bb83ea",
       "style": "IPY_MODEL_510ee8b717534a4d8b82f40a272d87ab"
      }
     },
     "f3c89bc563f94825b2d2fa0c2d695979": {
      "model_module": "@jupyter-widgets/base",
      "model_module_version": "1.0.0",
      "model_name": "LayoutModel",
      "state": {}
     },
     "f3fe849b769549d88ae6c1c18b4d822a": {
      "model_module": "@jupyter-widgets/controls",
      "model_module_version": "1.2.0",
      "model_name": "HBoxModel",
      "state": {
       "children": [
        "IPY_MODEL_9aee29ab4cc848afaf842d2d5646e63a",
        "IPY_MODEL_7e5d3d35dfdd4bd991635af6b96bb962"
       ],
       "layout": "IPY_MODEL_df29ef34cc8940728c89c77772ee9ad5"
      }
     },
     "f42361a75b9c48f8857e0386448ae651": {
      "model_module": "@jupyter-widgets/controls",
      "model_module_version": "1.2.0",
      "model_name": "VBoxModel",
      "state": {
       "children": [
        "IPY_MODEL_3130d4af28a546978472cdba8dbea286",
        "IPY_MODEL_e6bb0a1678d840b8bf53ff3fd98da3fa"
       ],
       "layout": "IPY_MODEL_f59db48ee96a483395380fe38418a6ab"
      }
     },
     "f443d29c5dd3424c9ade9b292ee221a8": {
      "model_module": "@jupyter-widgets/base",
      "model_module_version": "1.0.0",
      "model_name": "LayoutModel",
      "state": {
       "display": "inline"
      }
     },
     "f46d6a4ed27843f8a95281949e729744": {
      "model_module": "@jupyter-widgets/base",
      "model_module_version": "1.0.0",
      "model_name": "LayoutModel",
      "state": {
       "display": "none"
      }
     },
     "f4b1ca26edcd4aeba20d0a79cfd32d91": {
      "model_module": "@jupyter-widgets/controls",
      "model_module_version": "1.2.0",
      "model_name": "FloatTextModel",
      "state": {
       "description": "radius",
       "layout": "IPY_MODEL_9a13d87c2d0e4accaae306bf2e17d6f8",
       "step": 0.1,
       "style": "IPY_MODEL_efabb69312cd4d66ba1eced521f74e56",
       "value": 1
      }
     },
     "f4d925586cb5456aaa0898a766e65d87": {
      "model_module": "@jupyter-widgets/base",
      "model_module_version": "1.0.0",
      "model_name": "LayoutModel",
      "state": {
       "width": "auto"
      }
     },
     "f4ea95c3704c4136a4bc40e6012cd317": {
      "model_module": "@jupyter-widgets/base",
      "model_module_version": "1.0.0",
      "model_name": "LayoutModel",
      "state": {
       "display": "inline"
      }
     },
     "f50e9f5e514d4963ba51a75e6d336b29": {
      "model_module": "@jupyter-widgets/base",
      "model_module_version": "1.0.0",
      "model_name": "LayoutModel",
      "state": {}
     },
     "f5171890257d4ae9b7960af46e292557": {
      "model_module": "@jupyter-widgets/controls",
      "model_module_version": "1.2.0",
      "model_name": "DescriptionStyleModel",
      "state": {
       "description_width": ""
      }
     },
     "f5306b3e27b34a36b78936378aa1c28e": {
      "model_module": "@jupyter-widgets/controls",
      "model_module_version": "1.2.0",
      "model_name": "DescriptionStyleModel",
      "state": {
       "description_width": ""
      }
     },
     "f53d54a2a8564fc68b9b92403f6aa5ea": {
      "model_module": "@jupyter-widgets/base",
      "model_module_version": "1.0.0",
      "model_name": "LayoutModel",
      "state": {}
     },
     "f551e0a9a14f4daba1785cac22224852": {
      "model_module": "@jupyter-widgets/controls",
      "model_module_version": "1.2.0",
      "model_name": "DescriptionStyleModel",
      "state": {
       "description_width": ""
      }
     },
     "f5701a9022c04a45b9a0a14f05bef641": {
      "model_module": "@jupyter-widgets/controls",
      "model_module_version": "1.2.0",
      "model_name": "ButtonStyleModel",
      "state": {}
     },
     "f57b7edd3d40443bb5669429abade58b": {
      "model_module": "@jupyter-widgets/controls",
      "model_module_version": "1.2.0",
      "model_name": "FloatTextModel",
      "state": {
       "description": "max.",
       "layout": "IPY_MODEL_b3783a79c33c4caa81c514a78a24b953",
       "step": 0.1,
       "style": "IPY_MODEL_72917b645ba44e488824690c714903f7",
       "value": 2
      }
     },
     "f59db48ee96a483395380fe38418a6ab": {
      "model_module": "@jupyter-widgets/base",
      "model_module_version": "1.0.0",
      "model_name": "LayoutModel",
      "state": {}
     },
     "f5e5284b9f6043f9be08bc62e6dc4550": {
      "model_module": "@jupyter-widgets/controls",
      "model_module_version": "1.2.0",
      "model_name": "DescriptionStyleModel",
      "state": {
       "description_width": ""
      }
     },
     "f5eb7d24c3ea4294a036eace34910c53": {
      "model_module": "@jupyter-widgets/base",
      "model_module_version": "1.0.0",
      "model_name": "LayoutModel",
      "state": {}
     },
     "f5fd633cce704a5986281c8d09df9bd9": {
      "model_module": "@jupyter-widgets/controls",
      "model_module_version": "1.2.0",
      "model_name": "CheckboxModel",
      "state": {
       "description": "Size range",
       "disabled": false,
       "indent": false,
       "layout": "IPY_MODEL_26f48594057b4a9bb43df30bb93f5b23",
       "style": "IPY_MODEL_0e846b7ba4e8427b88c38ae508539120",
       "value": false
      }
     },
     "f600f248ba90466d8dd8683ec84f5648": {
      "model_module": "@jupyter-widgets/controls",
      "model_module_version": "1.2.0",
      "model_name": "FloatTextModel",
      "state": {
       "description": "threshold",
       "layout": "IPY_MODEL_51ac44cad6864fe0b777662707fc7f96",
       "step": 10,
       "style": "IPY_MODEL_187be5cd708841f184606d85c5bc31f3",
       "value": 1000
      }
     },
     "f615b949df694769bd5bf0199b1c7302": {
      "model_module": "@jupyter-widgets/controls",
      "model_module_version": "1.2.0",
      "model_name": "VBoxModel",
      "state": {
       "children": [
        "IPY_MODEL_8acfbe1b3a1f4104bb5c3c685b867aaa",
        "IPY_MODEL_49bc3fc69ba548d29e373246ae84de05"
       ],
       "layout": "IPY_MODEL_dbb63c80dc9642bd9dbb73304be13397"
      }
     },
     "f61688f97ad44722bafc175cd5df1915": {
      "model_module": "@jupyter-widgets/base",
      "model_module_version": "1.0.0",
      "model_name": "LayoutModel",
      "state": {
       "width": "auto"
      }
     },
     "f6183b586f424489800494cf530d3351": {
      "model_module": "@jupyter-widgets/controls",
      "model_module_version": "1.2.0",
      "model_name": "VBoxModel",
      "state": {
       "children": [
        "IPY_MODEL_24e494ac93814a6ea0390b240089ced1",
        "IPY_MODEL_114e2f7fb777473c8b586bfcf3cadabc",
        "IPY_MODEL_b26ee276cb3c4481a643c8532024f3ee"
       ],
       "layout": "IPY_MODEL_1d53e14e42424c3fb362bad8c9bd6fee"
      }
     },
     "f624b5bd70784e0798190a7c27f34df5": {
      "model_module": "@jupyter-widgets/controls",
      "model_module_version": "1.2.0",
      "model_name": "CheckboxModel",
      "state": {
       "description": "Min. distance",
       "disabled": false,
       "indent": false,
       "layout": "IPY_MODEL_231428bf0d4e4a05bd025cacd9928568",
       "style": "IPY_MODEL_f5306b3e27b34a36b78936378aa1c28e",
       "value": true
      }
     },
     "f69970cdb3da4bffa54fc4e5b5df7d1d": {
      "model_module": "@jupyter-widgets/base",
      "model_module_version": "1.0.0",
      "model_name": "LayoutModel",
      "state": {}
     },
     "f69a2db1cf3d44d594939f5f5d96e21a": {
      "model_module": "@jupyter-widgets/base",
      "model_module_version": "1.0.0",
      "model_name": "LayoutModel",
      "state": {}
     },
     "f6c4143a7b6e4c85a5df0b7ac6cdf210": {
      "model_module": "@jupyter-widgets/controls",
      "model_module_version": "1.2.0",
      "model_name": "VBoxModel",
      "state": {
       "children": [
        "IPY_MODEL_6cf4151e018e48f0bcac4c0e0f9fc977",
        "IPY_MODEL_0dad7982ad9346ffab27dbee023aab10",
        "IPY_MODEL_e4cf0e0a78374e2080f293b628f173bf"
       ],
       "layout": "IPY_MODEL_571e43173c984d42b5335ced176a1fcc"
      }
     },
     "f6d5f5dc29114c3582188cd0a99698f2": {
      "model_module": "@jupyter-widgets/base",
      "model_module_version": "1.0.0",
      "model_name": "LayoutModel",
      "state": {
       "width": "auto"
      }
     },
     "f6ea1a7c846549b88b696eba943aceb9": {
      "model_module": "@jupyter-widgets/controls",
      "model_module_version": "1.2.0",
      "model_name": "BoundedIntTextModel",
      "state": {
       "description": "frame",
       "layout": "IPY_MODEL_a643a4f08ce6486db2394f0d1673dd82",
       "max": 0,
       "style": "IPY_MODEL_2dcbe250205243a6a313528d00fb0663"
      }
     },
     "f73431f6793a4f708c5f31ce91d5ade7": {
      "model_module": "@jupyter-widgets/controls",
      "model_module_version": "1.2.0",
      "model_name": "VBoxModel",
      "state": {
       "children": [
        "IPY_MODEL_33e2ead747244865b0784cf450248b68",
        "IPY_MODEL_8b42c750321242ef9263b6bfeb9cf94a",
        "IPY_MODEL_c7f978a7f5324b149511e9b27eebaeec"
       ],
       "layout": "IPY_MODEL_4e934494c17140229dfa3d5c300bbfec"
      }
     },
     "f7998b084203443680d101c740cfe14c": {
      "model_module": "@jupyter-widgets/controls",
      "model_module_version": "1.2.0",
      "model_name": "FloatTextModel",
      "state": {
       "description": "radius",
       "layout": "IPY_MODEL_1cfdf2db76794dd48f239a6fe9bcf218",
       "step": 0.1,
       "style": "IPY_MODEL_2e337cabe3184abea9ba58b6f0f7fa72",
       "value": 1
      }
     },
     "f79fb53f9f954bf5aed1318b836cf856": {
      "model_module": "@jupyter-widgets/controls",
      "model_module_version": "1.2.0",
      "model_name": "DescriptionStyleModel",
      "state": {
       "description_width": ""
      }
     },
     "f7e842be7c944fb69496cb31fbb38bec": {
      "model_module": "@jupyter-widgets/base",
      "model_module_version": "1.0.0",
      "model_name": "LayoutModel",
      "state": {
       "display": "none"
      }
     },
     "f7eff9ccac2d490e98067dfe846055d2": {
      "model_module": "@jupyter-widgets/base",
      "model_module_version": "1.0.0",
      "model_name": "LayoutModel",
      "state": {}
     },
     "f7f0349594174e56aa4cc491edcb7149": {
      "model_module": "@jupyter-widgets/controls",
      "model_module_version": "1.2.0",
      "model_name": "CheckboxModel",
      "state": {
       "description": "Min. distance",
       "disabled": false,
       "indent": false,
       "layout": "IPY_MODEL_c62c2c99ee194cfaa7e1b15115dca277",
       "style": "IPY_MODEL_64b52890e86046aa8a6d9333020000e0",
       "value": false
      }
     },
     "f7f0dc7dfa3d4f5ca708a5be74c535cd": {
      "model_module": "@jupyter-widgets/controls",
      "model_module_version": "1.2.0",
      "model_name": "LabelModel",
      "state": {
       "layout": "IPY_MODEL_d572260f107c4bb89acc270bca561ddd",
       "style": "IPY_MODEL_57a2208435654b7e8a9ac515c7e6800d",
       "value": "Locating data/ctrl-H57/no-cells_SAv-100k_SSS-ctrl-H57-50k_029_.SPE (213/213)"
      }
     },
     "f80518817c07475ebeb84494733c55da": {
      "model_module": "@jupyter-widgets/base",
      "model_module_version": "1.0.0",
      "model_name": "LayoutModel",
      "state": {}
     },
     "f822a069710f437c95967f9f7684216d": {
      "model_module": "@jupyter-widgets/base",
      "model_module_version": "1.0.0",
      "model_name": "LayoutModel",
      "state": {
       "display": "inline"
      }
     },
     "f82a94889e664f7ebdce6f096a12c6aa": {
      "model_module": "@jupyter-widgets/controls",
      "model_module_version": "1.2.0",
      "model_name": "DescriptionStyleModel",
      "state": {
       "description_width": ""
      }
     },
     "f82cbdb2f9e24fbbb6b39e1c8bbbebd7": {
      "model_module": "@jupyter-widgets/controls",
      "model_module_version": "1.2.0",
      "model_name": "HBoxModel",
      "state": {
       "children": [
        "IPY_MODEL_7c2cf39c04a54bdab9d108abb89c1b1a",
        "IPY_MODEL_da29bfbc60c3498ba7f1cde3f3796ac4"
       ],
       "layout": "IPY_MODEL_462a79130c8645d198627256e0d82ca1"
      }
     },
     "f8541c4584d14f89aaa0aa54e92e7244": {
      "model_module": "@jupyter-widgets/controls",
      "model_module_version": "1.2.0",
      "model_name": "ButtonStyleModel",
      "state": {}
     },
     "f8a313867b3248b9b775b23e0e3f43ab": {
      "model_module": "@jupyter-widgets/base",
      "model_module_version": "1.0.0",
      "model_name": "LayoutModel",
      "state": {}
     },
     "f8d1b568b660420db7d1ce62dd5e83a4": {
      "model_module": "@jupyter-widgets/controls",
      "model_module_version": "1.2.0",
      "model_name": "DescriptionStyleModel",
      "state": {
       "description_width": ""
      }
     },
     "f929a9aa1d494f3a8c566832e123b363": {
      "model_module": "@jupyter-widgets/controls",
      "model_module_version": "1.2.0",
      "model_name": "FloatTextModel",
      "state": {
       "description": "sigma",
       "layout": "IPY_MODEL_404a23e84e2c419a9fb3be3b3ba78437",
       "step": 0.1,
       "style": "IPY_MODEL_5eccf91694a044778a8cb26eb5a5c8a0",
       "value": 1
      }
     },
     "f9440d84ed4042e389f3ee73c6fde4d4": {
      "model_module": "@jupyter-widgets/controls",
      "model_module_version": "1.2.0",
      "model_name": "ButtonStyleModel",
      "state": {}
     },
     "f94ab14ed0734f56b38316fdb952e750": {
      "model_module": "@jupyter-widgets/controls",
      "model_module_version": "1.2.0",
      "model_name": "HBoxModel",
      "state": {
       "children": [
        "IPY_MODEL_ed1451ab05ed447b886aebbf160448e1",
        "IPY_MODEL_8bc0589a899546c294dced800970d9b0"
       ],
       "layout": "IPY_MODEL_1e6c561e47f644139ddafdb52f18e109"
      }
     },
     "f982f86b5a9d4ee8b28c7f3247372882": {
      "model_module": "@jupyter-widgets/base",
      "model_module_version": "1.0.0",
      "model_name": "LayoutModel",
      "state": {
       "border": "1px solid gray"
      }
     },
     "f98ecea191d3469782b2fd05a91a4d66": {
      "model_module": "@jupyter-widgets/controls",
      "model_module_version": "1.2.0",
      "model_name": "FloatTextModel",
      "state": {
       "description": "max.",
       "layout": "IPY_MODEL_3a67196d27014701a62fa9a22a9167a8",
       "step": 0.1,
       "style": "IPY_MODEL_94c13257598e4e7e88ea93fb93ad8488",
       "value": 2
      }
     },
     "f992ac8388e0419ea5b8369bc8e329f7": {
      "model_module": "@jupyter-widgets/controls",
      "model_module_version": "1.2.0",
      "model_name": "FloatTextModel",
      "state": {
       "description": "max.",
       "layout": "IPY_MODEL_0adcae1437194ade8015c833911ed5f2",
       "step": 0.1,
       "style": "IPY_MODEL_b3bde46cc7d249959ea5a5a0963d43dc",
       "value": 2
      }
     },
     "f9bf967aa4d9440ca6b39006c6d4410a": {
      "model_module": "@jupyter-widgets/controls",
      "model_module_version": "1.2.0",
      "model_name": "DescriptionStyleModel",
      "state": {
       "description_width": ""
      }
     },
     "f9cad0d8bf9e4196a01e23602e0ad434": {
      "model_module": "@jupyter-widgets/base",
      "model_module_version": "1.0.0",
      "model_name": "LayoutModel",
      "state": {}
     },
     "fa37f38bd10d46259b73c9a383fbd8ae": {
      "model_module": "@jupyter-widgets/base",
      "model_module_version": "1.0.0",
      "model_name": "LayoutModel",
      "state": {
       "width": "75%"
      }
     },
     "fa85be82a78740ccbe7fe9f5698937ea": {
      "model_module": "@jupyter-widgets/base",
      "model_module_version": "1.0.0",
      "model_name": "LayoutModel",
      "state": {}
     },
     "fa9931ed61664d8fa35d9ebc5ad52aab": {
      "model_module": "@jupyter-widgets/base",
      "model_module_version": "1.0.0",
      "model_name": "LayoutModel",
      "state": {}
     },
     "fae526bc39354f31b449fbcf1ccffccb": {
      "model_module": "@jupyter-widgets/base",
      "model_module_version": "1.0.0",
      "model_name": "LayoutModel",
      "state": {
       "width": "auto"
      }
     },
     "faf1a11f908944ffabbd7126a5e005e1": {
      "model_module": "@jupyter-widgets/controls",
      "model_module_version": "1.2.0",
      "model_name": "SelectModel",
      "state": {
       "_options_labels": [
        "data/beads/beads_000_.SPE",
        "data/beads/beads_001_.SPE",
        "data/beads/beads_002_.SPE",
        "data/beads/beads_003_.SPE",
        "data/beads/beads_004_.SPE",
        "data/beads/beads_005_.SPE",
        "data/beads/beads_006_.SPE",
        "data/beads/beads_007_.SPE",
        "data/beads/beads_008_.SPE",
        "data/beads/beads_009_.SPE"
       ],
       "index": 0,
       "layout": "IPY_MODEL_2ff157d5494b47c29f5d253371c8ea80",
       "style": "IPY_MODEL_f9bf967aa4d9440ca6b39006c6d4410a"
      }
     },
     "fb224f5830d64ae0b1b5740e8d1697e3": {
      "model_module": "@jupyter-widgets/controls",
      "model_module_version": "1.2.0",
      "model_name": "DescriptionStyleModel",
      "state": {
       "description_width": ""
      }
     },
     "fb4924fb8fa347eb9e2cb3a4a5a80dbb": {
      "model_module": "@jupyter-widgets/base",
      "model_module_version": "1.0.0",
      "model_name": "LayoutModel",
      "state": {
       "width": "auto"
      }
     },
     "fbd86cc786c14f238655e284433736d9": {
      "model_module": "@jupyter-widgets/controls",
      "model_module_version": "1.2.0",
      "model_name": "DescriptionStyleModel",
      "state": {
       "description_width": ""
      }
     },
     "fbdb8cef522b43a198a9be2df1aea1d3": {
      "model_module": "@jupyter-widgets/controls",
      "model_module_version": "1.2.0",
      "model_name": "LabelModel",
      "state": {
       "layout": "IPY_MODEL_3593a37449154d8f82a44987fd1cabd8",
       "style": "IPY_MODEL_64f9d49685fa44ecb72ccff9c04bbcda",
       "value": "Locating beads (file 10/10)"
      }
     },
     "fbe86e1dd7194487b3b57f7e6f490339": {
      "model_module": "@jupyter-widgets/base",
      "model_module_version": "1.0.0",
      "model_name": "LayoutModel",
      "state": {}
     },
     "fc25cb9d938742c5b8eb185119d2c027": {
      "model_module": "@jupyter-widgets/controls",
      "model_module_version": "1.2.0",
      "model_name": "ButtonModel",
      "state": {
       "description": "Auto",
       "layout": "IPY_MODEL_9484f4f26805468c8f787a313c37e4a3",
       "style": "IPY_MODEL_17b0ca20c3534b11b8e69cc5a94e3a47"
      }
     },
     "fc4d7edd33564569a7c473aa2e8a8815": {
      "model_module": "@jupyter-widgets/base",
      "model_module_version": "1.0.0",
      "model_name": "LayoutModel",
      "state": {
       "display": "none"
      }
     },
     "fc5893db06514f709860d8b8e5c74f92": {
      "model_module": "@jupyter-widgets/base",
      "model_module_version": "1.0.0",
      "model_name": "LayoutModel",
      "state": {}
     },
     "fc64a6ccd7254302a99c760a06367fb9": {
      "model_module": "@jupyter-widgets/controls",
      "model_module_version": "1.2.0",
      "model_name": "HBoxModel",
      "state": {
       "children": [
        "IPY_MODEL_e1eabbbfd4b04c4f88b559ebdf18eb02",
        "IPY_MODEL_8f60a7b8105b4b2f8efcc28531ac63ee",
        "IPY_MODEL_4a7b5b806bad4a8b8f1567f9b0601f46"
       ],
       "layout": "IPY_MODEL_80fe2f7b6ac64475a3794aaf3aa27ae4"
      }
     },
     "fc6acbe5624b473093f3740247f56ee1": {
      "model_module": "@jupyter-widgets/base",
      "model_module_version": "1.0.0",
      "model_name": "LayoutModel",
      "state": {
       "width": "auto"
      }
     },
     "fc73dc2829344e42b3a1a5fae6bbb433": {
      "model_module": "@jupyter-widgets/controls",
      "model_module_version": "1.2.0",
      "model_name": "DropdownModel",
      "state": {
       "_options_labels": [
        "2d_fixed",
        "2d",
        "3d"
       ],
       "description": "model",
       "index": 1,
       "layout": "IPY_MODEL_3b63878afce54f82b604d3986ea88f88",
       "style": "IPY_MODEL_c54deae8c71e4325b7202a96264e416b"
      }
     },
     "fc80433e6cbb4660907789ce9b6c5583": {
      "model_module": "@jupyter-widgets/base",
      "model_module_version": "1.0.0",
      "model_name": "LayoutModel",
      "state": {
       "display": "none"
      }
     },
     "fc8c47a3cbf34f2e9187fe74026c0dff": {
      "model_module": "@jupyter-widgets/base",
      "model_module_version": "1.0.0",
      "model_name": "LayoutModel",
      "state": {
       "width": "auto"
      }
     },
     "fc951f5f950047039ca1c839c525906f": {
      "model_module": "@jupyter-widgets/controls",
      "model_module_version": "1.2.0",
      "model_name": "LabelModel",
      "state": {
       "layout": "IPY_MODEL_49b96d23871a4c919f44e812cb6471b5",
       "style": "IPY_MODEL_4bcf035025f74ee0b0e82a5b6af89d09",
       "value": "Locating ctrl-H57/no-cells_SAv-100k_SSS-ctrl-H57-50k_029_.SPE (213/213)"
      }
     },
     "fcf38aa1e3444f419749a2291f9d9561": {
      "model_module": "@jupyter-widgets/controls",
      "model_module_version": "1.2.0",
      "model_name": "DescriptionStyleModel",
      "state": {
       "description_width": ""
      }
     },
     "fd0e1df331454e93be279f4fd43c1fb6": {
      "model_module": "@jupyter-widgets/controls",
      "model_module_version": "1.2.0",
      "model_name": "FloatTextModel",
      "state": {
       "description": "min.",
       "layout": "IPY_MODEL_af51c9e9fc354008b987e9c52a9283c8",
       "step": 0.1,
       "style": "IPY_MODEL_fe8dd62615c9440dbb8e8c89c2a97122",
       "value": 0.5
      }
     },
     "fd283a9b705b4e168f6a0f5ea4275613": {
      "model_module": "@jupyter-widgets/base",
      "model_module_version": "1.0.0",
      "model_name": "LayoutModel",
      "state": {
       "border": "1px solid gray"
      }
     },
     "fd298f088b594c4bb584486154f5f2ad": {
      "model_module": "@jupyter-widgets/base",
      "model_module_version": "1.0.0",
      "model_name": "LayoutModel",
      "state": {
       "height": "150px",
       "width": "100%"
      }
     },
     "fd48958d981a44ef958f0020d62a2cfa": {
      "model_module": "@jupyter-widgets/base",
      "model_module_version": "1.0.0",
      "model_name": "LayoutModel",
      "state": {}
     },
     "fd55a134330e485dafc12f541fdc0098": {
      "model_module": "@jupyter-widgets/controls",
      "model_module_version": "1.2.0",
      "model_name": "DropdownModel",
      "state": {
       "_options_labels": [
        "Identity",
        "Cg",
        "Gaussian"
       ],
       "description": "find filter",
       "index": 1,
       "layout": "IPY_MODEL_c4653ddb5cb94a6c934669e33210cd7a",
       "style": "IPY_MODEL_0d3893c8ef9e4b89a5cb9014ed8248c1"
      }
     },
     "fd5f1a7c1c78448ead42ae40d262fbd6": {
      "model_module": "@jupyter-widgets/controls",
      "model_module_version": "1.2.0",
      "model_name": "HBoxModel",
      "state": {
       "children": [
        "IPY_MODEL_5854236992754eb5a4eb25901ebebbf3",
        "IPY_MODEL_aaef252f0f904c65bc3b1539ec5fda60",
        "IPY_MODEL_0cc2a9ebd0594ea6838949bf57e197fc"
       ],
       "layout": "IPY_MODEL_7b89770040f044aeb0938fce0d19fad1"
      }
     },
     "fd7fe18ee1144d149ef454af8aed54f3": {
      "model_module": "@jupyter-widgets/controls",
      "model_module_version": "1.2.0",
      "model_name": "CheckboxModel",
      "state": {
       "description": "Min. distance",
       "disabled": false,
       "indent": false,
       "layout": "IPY_MODEL_e930f2092d854d7595af2c6f9be1d517",
       "style": "IPY_MODEL_1e42292417d7411c84060940cc21870e",
       "value": false
      }
     },
     "fd853b0b90924fb6a53b45d7f2f9f5de": {
      "model_module": "@jupyter-widgets/controls",
      "model_module_version": "1.2.0",
      "model_name": "VBoxModel",
      "state": {
       "children": [
        "IPY_MODEL_65d112c837424107b83f98855bd20bab",
        "IPY_MODEL_01a04dad67354b949f6a51b8bd6ab6ce",
        "IPY_MODEL_ef9284b5f5e14297af782c30a61ebab1"
       ],
       "layout": "IPY_MODEL_cedde3392f934fa99c5adc1540c82f2e"
      }
     },
     "fd98c9302b7b4b3abbb89b28387d4e6c": {
      "model_module": "@jupyter-widgets/base",
      "model_module_version": "1.0.0",
      "model_name": "LayoutModel",
      "state": {}
     },
     "fe15a69c03ab4054baafaa9111007f90": {
      "model_module": "@jupyter-widgets/controls",
      "model_module_version": "1.2.0",
      "model_name": "DescriptionStyleModel",
      "state": {
       "description_width": ""
      }
     },
     "fe50cf899f9849c68cd362416b44221a": {
      "model_module": "@jupyter-widgets/base",
      "model_module_version": "1.0.0",
      "model_name": "LayoutModel",
      "state": {}
     },
     "fe754280dfc64055b548ec78eacc41d8": {
      "model_module": "@jupyter-widgets/base",
      "model_module_version": "1.0.0",
      "model_name": "LayoutModel",
      "state": {}
     },
     "fe7aa9ae9108443ebd19cd104096ac50": {
      "model_module": "@jupyter-widgets/base",
      "model_module_version": "1.0.0",
      "model_name": "LayoutModel",
      "state": {}
     },
     "fe8dd62615c9440dbb8e8c89c2a97122": {
      "model_module": "@jupyter-widgets/controls",
      "model_module_version": "1.2.0",
      "model_name": "DescriptionStyleModel",
      "state": {
       "description_width": ""
      }
     },
     "fec22a280af8468cb503dc8db631ab0d": {
      "model_module": "@jupyter-widgets/controls",
      "model_module_version": "1.2.0",
      "model_name": "VBoxModel",
      "state": {
       "children": [
        "IPY_MODEL_0b4f80b3350848c2bb999d8c38dce5e9",
        "IPY_MODEL_a2c461319e1f437fb7a80bfae2b804fd",
        "IPY_MODEL_cf0d308883f64f42954368c4494fe3aa"
       ],
       "layout": "IPY_MODEL_edfce0634e054ba1804ee9fa334e0c8e"
      }
     },
     "fed75ad1157f438c870d9b33cafa3cb0": {
      "model_module": "@jupyter-widgets/base",
      "model_module_version": "1.0.0",
      "model_name": "LayoutModel",
      "state": {
       "display": "none"
      }
     },
     "fed7cd05491e48f6ab37507e51e4c53b": {
      "model_module": "@jupyter-widgets/base",
      "model_module_version": "1.0.0",
      "model_name": "LayoutModel",
      "state": {
       "width": "auto"
      }
     },
     "ff2f313871b44293895ec6b4604982c5": {
      "model_module": "@jupyter-widgets/base",
      "model_module_version": "1.0.0",
      "model_name": "LayoutModel",
      "state": {
       "width": "auto"
      }
     },
     "ff6f29f6594d4a92be71440085c4f9a5": {
      "model_module": "@jupyter-widgets/base",
      "model_module_version": "1.0.0",
      "model_name": "LayoutModel",
      "state": {}
     },
     "ff83dba6849b4566a2c5b855469ef06c": {
      "model_module": "@jupyter-widgets/controls",
      "model_module_version": "1.2.0",
      "model_name": "DescriptionStyleModel",
      "state": {
       "description_width": ""
      }
     },
     "ff885677a118487299a4af03d4742890": {
      "model_module": "@jupyter-widgets/controls",
      "model_module_version": "1.2.0",
      "model_name": "VBoxModel",
      "state": {
       "children": [
        "IPY_MODEL_ea6aa6a598bf4cf597fb6d0781cf82d7",
        "IPY_MODEL_86d4d864668c47e99aad4c905abee941",
        "IPY_MODEL_788a2a310335461b85a4acc03917679e"
       ],
       "layout": "IPY_MODEL_556bcf6a15be407f871eccaf166f5be2"
      }
     },
     "ff916902a58342ff8f8136893a243101": {
      "model_module": "@jupyter-widgets/base",
      "model_module_version": "1.0.0",
      "model_name": "LayoutModel",
      "state": {
       "display": "flex",
       "flex_flow": "column wrap",
       "width": "66%"
      }
     },
     "ffa5f231158c4879829b837a09fdb271": {
      "model_module": "@jupyter-widgets/controls",
      "model_module_version": "1.2.0",
      "model_name": "HBoxModel",
      "state": {
       "children": [
        "IPY_MODEL_78c224c15bbf45a8b8b9d9a6668c8437",
        "IPY_MODEL_10930e794dea4b8bb113968a2230e0bb"
       ],
       "layout": "IPY_MODEL_ddb3be3e81694f63b945845860c9def7"
      }
     },
     "ffdf4944c3944d1fb6ef5453ccdcab05": {
      "model_module": "@jupyter-widgets/base",
      "model_module_version": "1.0.0",
      "model_name": "LayoutModel",
      "state": {
       "display": "inline"
      }
     },
     "ffe59aca5f9a4ed7a0fe1d2a7772e446": {
      "model_module": "@jupyter-widgets/controls",
      "model_module_version": "1.2.0",
      "model_name": "DescriptionStyleModel",
      "state": {
       "description_width": ""
      }
     },
     "fffbe933fea044748d172e2a339cf65b": {
      "model_module": "@jupyter-widgets/base",
      "model_module_version": "1.0.0",
      "model_name": "LayoutModel",
      "state": {}
     }
    },
    "version_major": 2,
    "version_minor": 0
   }
  }
 },
 "nbformat": 4,
 "nbformat_minor": 1
}
