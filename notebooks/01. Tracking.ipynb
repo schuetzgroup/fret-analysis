{
 "cells": [
  {
   "cell_type": "code",
   "execution_count": 1,
   "metadata": {
    "nbpresent": {
     "id": "0a417825-fc46-48f3-8128-e0e265b094e1"
    }
   },
   "outputs": [],
   "source": [
    "from pathlib import Path\n",
    "\n",
    "import sys\n",
    "import os\n",
    "    \n",
    "from smfret_analysis import Tracker, print_info"
   ]
  },
  {
   "cell_type": "code",
   "execution_count": 2,
   "metadata": {},
   "outputs": [],
   "source": [
    "%load_ext autoreload\n",
    "%autoreload 2"
   ]
  },
  {
   "cell_type": "code",
   "execution_count": 3,
   "metadata": {},
   "outputs": [
    {
     "name": "stdout",
     "output_type": "stream",
     "text": [
      "smFRET analysis software version 1.0\n",
      "(git revision 1.0-22-g66e2f0c)\n",
      "Output version 7\n",
      "Using sdt-python version 13.1\n"
     ]
    }
   ],
   "source": [
    "print_info()"
   ]
  },
  {
   "cell_type": "code",
   "execution_count": 4,
   "metadata": {
    "nbpresent": {
     "id": "0b4b7b88-8234-4a09-9ec6-7d6a88a2e944"
    }
   },
   "outputs": [],
   "source": [
    "data_dir = \"data\"\n",
    "### Start fresh\n",
    "# donor origin, acceptor origin, size\n",
    "#tr = Tracker((292, 0), (0, 0), (189, 138), \"ce\" + \"da\" * 150 + \"c\", data_dir=data_dir)\n",
    "### or load\n",
    "tr = Tracker.load(data_dir=data_dir)"
   ]
  },
  {
   "cell_type": "code",
   "execution_count": 5,
   "metadata": {
    "scrolled": false
   },
   "outputs": [
    {
     "data": {
      "application/vnd.jupyter.widget-view+json": {
       "model_id": "f68dc7e2940441858a699575d77e8e90",
       "version_major": 2,
       "version_minor": 0
      },
      "text/plain": [
       "HBox(children=(VBox(children=(Select(layout=Layout(width='auto'), options=('data/beads/beads_000_.SPE', 'data/…"
      ]
     },
     "metadata": {},
     "output_type": "display_data"
    },
    {
     "data": {
      "application/javascript": [
       "/* Put everything inside the global mpl namespace */\n",
       "window.mpl = {};\n",
       "\n",
       "\n",
       "mpl.get_websocket_type = function() {\n",
       "    if (typeof(WebSocket) !== 'undefined') {\n",
       "        return WebSocket;\n",
       "    } else if (typeof(MozWebSocket) !== 'undefined') {\n",
       "        return MozWebSocket;\n",
       "    } else {\n",
       "        alert('Your browser does not have WebSocket support.' +\n",
       "              'Please try Chrome, Safari or Firefox ≥ 6. ' +\n",
       "              'Firefox 4 and 5 are also supported but you ' +\n",
       "              'have to enable WebSockets in about:config.');\n",
       "    };\n",
       "}\n",
       "\n",
       "mpl.figure = function(figure_id, websocket, ondownload, parent_element) {\n",
       "    this.id = figure_id;\n",
       "\n",
       "    this.ws = websocket;\n",
       "\n",
       "    this.supports_binary = (this.ws.binaryType != undefined);\n",
       "\n",
       "    if (!this.supports_binary) {\n",
       "        var warnings = document.getElementById(\"mpl-warnings\");\n",
       "        if (warnings) {\n",
       "            warnings.style.display = 'block';\n",
       "            warnings.textContent = (\n",
       "                \"This browser does not support binary websocket messages. \" +\n",
       "                    \"Performance may be slow.\");\n",
       "        }\n",
       "    }\n",
       "\n",
       "    this.imageObj = new Image();\n",
       "\n",
       "    this.context = undefined;\n",
       "    this.message = undefined;\n",
       "    this.canvas = undefined;\n",
       "    this.rubberband_canvas = undefined;\n",
       "    this.rubberband_context = undefined;\n",
       "    this.format_dropdown = undefined;\n",
       "\n",
       "    this.image_mode = 'full';\n",
       "\n",
       "    this.root = $('<div/>');\n",
       "    this._root_extra_style(this.root)\n",
       "    this.root.attr('style', 'display: inline-block');\n",
       "\n",
       "    $(parent_element).append(this.root);\n",
       "\n",
       "    this._init_header(this);\n",
       "    this._init_canvas(this);\n",
       "    this._init_toolbar(this);\n",
       "\n",
       "    var fig = this;\n",
       "\n",
       "    this.waiting = false;\n",
       "\n",
       "    this.ws.onopen =  function () {\n",
       "            fig.send_message(\"supports_binary\", {value: fig.supports_binary});\n",
       "            fig.send_message(\"send_image_mode\", {});\n",
       "            if (mpl.ratio != 1) {\n",
       "                fig.send_message(\"set_dpi_ratio\", {'dpi_ratio': mpl.ratio});\n",
       "            }\n",
       "            fig.send_message(\"refresh\", {});\n",
       "        }\n",
       "\n",
       "    this.imageObj.onload = function() {\n",
       "            if (fig.image_mode == 'full') {\n",
       "                // Full images could contain transparency (where diff images\n",
       "                // almost always do), so we need to clear the canvas so that\n",
       "                // there is no ghosting.\n",
       "                fig.context.clearRect(0, 0, fig.canvas.width, fig.canvas.height);\n",
       "            }\n",
       "            fig.context.drawImage(fig.imageObj, 0, 0);\n",
       "        };\n",
       "\n",
       "    this.imageObj.onunload = function() {\n",
       "        fig.ws.close();\n",
       "    }\n",
       "\n",
       "    this.ws.onmessage = this._make_on_message_function(this);\n",
       "\n",
       "    this.ondownload = ondownload;\n",
       "}\n",
       "\n",
       "mpl.figure.prototype._init_header = function() {\n",
       "    var titlebar = $(\n",
       "        '<div class=\"ui-dialog-titlebar ui-widget-header ui-corner-all ' +\n",
       "        'ui-helper-clearfix\"/>');\n",
       "    var titletext = $(\n",
       "        '<div class=\"ui-dialog-title\" style=\"width: 100%; ' +\n",
       "        'text-align: center; padding: 3px;\"/>');\n",
       "    titlebar.append(titletext)\n",
       "    this.root.append(titlebar);\n",
       "    this.header = titletext[0];\n",
       "}\n",
       "\n",
       "\n",
       "\n",
       "mpl.figure.prototype._canvas_extra_style = function(canvas_div) {\n",
       "\n",
       "}\n",
       "\n",
       "\n",
       "mpl.figure.prototype._root_extra_style = function(canvas_div) {\n",
       "\n",
       "}\n",
       "\n",
       "mpl.figure.prototype._init_canvas = function() {\n",
       "    var fig = this;\n",
       "\n",
       "    var canvas_div = $('<div/>');\n",
       "\n",
       "    canvas_div.attr('style', 'position: relative; clear: both; outline: 0');\n",
       "\n",
       "    function canvas_keyboard_event(event) {\n",
       "        return fig.key_event(event, event['data']);\n",
       "    }\n",
       "\n",
       "    canvas_div.keydown('key_press', canvas_keyboard_event);\n",
       "    canvas_div.keyup('key_release', canvas_keyboard_event);\n",
       "    this.canvas_div = canvas_div\n",
       "    this._canvas_extra_style(canvas_div)\n",
       "    this.root.append(canvas_div);\n",
       "\n",
       "    var canvas = $('<canvas/>');\n",
       "    canvas.addClass('mpl-canvas');\n",
       "    canvas.attr('style', \"left: 0; top: 0; z-index: 0; outline: 0\")\n",
       "\n",
       "    this.canvas = canvas[0];\n",
       "    this.context = canvas[0].getContext(\"2d\");\n",
       "\n",
       "    var backingStore = this.context.backingStorePixelRatio ||\n",
       "\tthis.context.webkitBackingStorePixelRatio ||\n",
       "\tthis.context.mozBackingStorePixelRatio ||\n",
       "\tthis.context.msBackingStorePixelRatio ||\n",
       "\tthis.context.oBackingStorePixelRatio ||\n",
       "\tthis.context.backingStorePixelRatio || 1;\n",
       "\n",
       "    mpl.ratio = (window.devicePixelRatio || 1) / backingStore;\n",
       "\n",
       "    var rubberband = $('<canvas/>');\n",
       "    rubberband.attr('style', \"position: absolute; left: 0; top: 0; z-index: 1;\")\n",
       "\n",
       "    var pass_mouse_events = true;\n",
       "\n",
       "    canvas_div.resizable({\n",
       "        start: function(event, ui) {\n",
       "            pass_mouse_events = false;\n",
       "        },\n",
       "        resize: function(event, ui) {\n",
       "            fig.request_resize(ui.size.width, ui.size.height);\n",
       "        },\n",
       "        stop: function(event, ui) {\n",
       "            pass_mouse_events = true;\n",
       "            fig.request_resize(ui.size.width, ui.size.height);\n",
       "        },\n",
       "    });\n",
       "\n",
       "    function mouse_event_fn(event) {\n",
       "        if (pass_mouse_events)\n",
       "            return fig.mouse_event(event, event['data']);\n",
       "    }\n",
       "\n",
       "    rubberband.mousedown('button_press', mouse_event_fn);\n",
       "    rubberband.mouseup('button_release', mouse_event_fn);\n",
       "    // Throttle sequential mouse events to 1 every 20ms.\n",
       "    rubberband.mousemove('motion_notify', mouse_event_fn);\n",
       "\n",
       "    rubberband.mouseenter('figure_enter', mouse_event_fn);\n",
       "    rubberband.mouseleave('figure_leave', mouse_event_fn);\n",
       "\n",
       "    canvas_div.on(\"wheel\", function (event) {\n",
       "        event = event.originalEvent;\n",
       "        event['data'] = 'scroll'\n",
       "        if (event.deltaY < 0) {\n",
       "            event.step = 1;\n",
       "        } else {\n",
       "            event.step = -1;\n",
       "        }\n",
       "        mouse_event_fn(event);\n",
       "    });\n",
       "\n",
       "    canvas_div.append(canvas);\n",
       "    canvas_div.append(rubberband);\n",
       "\n",
       "    this.rubberband = rubberband;\n",
       "    this.rubberband_canvas = rubberband[0];\n",
       "    this.rubberband_context = rubberband[0].getContext(\"2d\");\n",
       "    this.rubberband_context.strokeStyle = \"#000000\";\n",
       "\n",
       "    this._resize_canvas = function(width, height) {\n",
       "        // Keep the size of the canvas, canvas container, and rubber band\n",
       "        // canvas in synch.\n",
       "        canvas_div.css('width', width)\n",
       "        canvas_div.css('height', height)\n",
       "\n",
       "        canvas.attr('width', width * mpl.ratio);\n",
       "        canvas.attr('height', height * mpl.ratio);\n",
       "        canvas.attr('style', 'width: ' + width + 'px; height: ' + height + 'px;');\n",
       "\n",
       "        rubberband.attr('width', width);\n",
       "        rubberband.attr('height', height);\n",
       "    }\n",
       "\n",
       "    // Set the figure to an initial 600x600px, this will subsequently be updated\n",
       "    // upon first draw.\n",
       "    this._resize_canvas(600, 600);\n",
       "\n",
       "    // Disable right mouse context menu.\n",
       "    $(this.rubberband_canvas).bind(\"contextmenu\",function(e){\n",
       "        return false;\n",
       "    });\n",
       "\n",
       "    function set_focus () {\n",
       "        canvas.focus();\n",
       "        canvas_div.focus();\n",
       "    }\n",
       "\n",
       "    window.setTimeout(set_focus, 100);\n",
       "}\n",
       "\n",
       "mpl.figure.prototype._init_toolbar = function() {\n",
       "    var fig = this;\n",
       "\n",
       "    var nav_element = $('<div/>')\n",
       "    nav_element.attr('style', 'width: 100%');\n",
       "    this.root.append(nav_element);\n",
       "\n",
       "    // Define a callback function for later on.\n",
       "    function toolbar_event(event) {\n",
       "        return fig.toolbar_button_onclick(event['data']);\n",
       "    }\n",
       "    function toolbar_mouse_event(event) {\n",
       "        return fig.toolbar_button_onmouseover(event['data']);\n",
       "    }\n",
       "\n",
       "    for(var toolbar_ind in mpl.toolbar_items) {\n",
       "        var name = mpl.toolbar_items[toolbar_ind][0];\n",
       "        var tooltip = mpl.toolbar_items[toolbar_ind][1];\n",
       "        var image = mpl.toolbar_items[toolbar_ind][2];\n",
       "        var method_name = mpl.toolbar_items[toolbar_ind][3];\n",
       "\n",
       "        if (!name) {\n",
       "            // put a spacer in here.\n",
       "            continue;\n",
       "        }\n",
       "        var button = $('<button/>');\n",
       "        button.addClass('ui-button ui-widget ui-state-default ui-corner-all ' +\n",
       "                        'ui-button-icon-only');\n",
       "        button.attr('role', 'button');\n",
       "        button.attr('aria-disabled', 'false');\n",
       "        button.click(method_name, toolbar_event);\n",
       "        button.mouseover(tooltip, toolbar_mouse_event);\n",
       "\n",
       "        var icon_img = $('<span/>');\n",
       "        icon_img.addClass('ui-button-icon-primary ui-icon');\n",
       "        icon_img.addClass(image);\n",
       "        icon_img.addClass('ui-corner-all');\n",
       "\n",
       "        var tooltip_span = $('<span/>');\n",
       "        tooltip_span.addClass('ui-button-text');\n",
       "        tooltip_span.html(tooltip);\n",
       "\n",
       "        button.append(icon_img);\n",
       "        button.append(tooltip_span);\n",
       "\n",
       "        nav_element.append(button);\n",
       "    }\n",
       "\n",
       "    var fmt_picker_span = $('<span/>');\n",
       "\n",
       "    var fmt_picker = $('<select/>');\n",
       "    fmt_picker.addClass('mpl-toolbar-option ui-widget ui-widget-content');\n",
       "    fmt_picker_span.append(fmt_picker);\n",
       "    nav_element.append(fmt_picker_span);\n",
       "    this.format_dropdown = fmt_picker[0];\n",
       "\n",
       "    for (var ind in mpl.extensions) {\n",
       "        var fmt = mpl.extensions[ind];\n",
       "        var option = $(\n",
       "            '<option/>', {selected: fmt === mpl.default_extension}).html(fmt);\n",
       "        fmt_picker.append(option)\n",
       "    }\n",
       "\n",
       "    // Add hover states to the ui-buttons\n",
       "    $( \".ui-button\" ).hover(\n",
       "        function() { $(this).addClass(\"ui-state-hover\");},\n",
       "        function() { $(this).removeClass(\"ui-state-hover\");}\n",
       "    );\n",
       "\n",
       "    var status_bar = $('<span class=\"mpl-message\"/>');\n",
       "    nav_element.append(status_bar);\n",
       "    this.message = status_bar[0];\n",
       "}\n",
       "\n",
       "mpl.figure.prototype.request_resize = function(x_pixels, y_pixels) {\n",
       "    // Request matplotlib to resize the figure. Matplotlib will then trigger a resize in the client,\n",
       "    // which will in turn request a refresh of the image.\n",
       "    this.send_message('resize', {'width': x_pixels, 'height': y_pixels});\n",
       "}\n",
       "\n",
       "mpl.figure.prototype.send_message = function(type, properties) {\n",
       "    properties['type'] = type;\n",
       "    properties['figure_id'] = this.id;\n",
       "    this.ws.send(JSON.stringify(properties));\n",
       "}\n",
       "\n",
       "mpl.figure.prototype.send_draw_message = function() {\n",
       "    if (!this.waiting) {\n",
       "        this.waiting = true;\n",
       "        this.ws.send(JSON.stringify({type: \"draw\", figure_id: this.id}));\n",
       "    }\n",
       "}\n",
       "\n",
       "\n",
       "mpl.figure.prototype.handle_save = function(fig, msg) {\n",
       "    var format_dropdown = fig.format_dropdown;\n",
       "    var format = format_dropdown.options[format_dropdown.selectedIndex].value;\n",
       "    fig.ondownload(fig, format);\n",
       "}\n",
       "\n",
       "\n",
       "mpl.figure.prototype.handle_resize = function(fig, msg) {\n",
       "    var size = msg['size'];\n",
       "    if (size[0] != fig.canvas.width || size[1] != fig.canvas.height) {\n",
       "        fig._resize_canvas(size[0], size[1]);\n",
       "        fig.send_message(\"refresh\", {});\n",
       "    };\n",
       "}\n",
       "\n",
       "mpl.figure.prototype.handle_rubberband = function(fig, msg) {\n",
       "    var x0 = msg['x0'] / mpl.ratio;\n",
       "    var y0 = (fig.canvas.height - msg['y0']) / mpl.ratio;\n",
       "    var x1 = msg['x1'] / mpl.ratio;\n",
       "    var y1 = (fig.canvas.height - msg['y1']) / mpl.ratio;\n",
       "    x0 = Math.floor(x0) + 0.5;\n",
       "    y0 = Math.floor(y0) + 0.5;\n",
       "    x1 = Math.floor(x1) + 0.5;\n",
       "    y1 = Math.floor(y1) + 0.5;\n",
       "    var min_x = Math.min(x0, x1);\n",
       "    var min_y = Math.min(y0, y1);\n",
       "    var width = Math.abs(x1 - x0);\n",
       "    var height = Math.abs(y1 - y0);\n",
       "\n",
       "    fig.rubberband_context.clearRect(\n",
       "        0, 0, fig.canvas.width, fig.canvas.height);\n",
       "\n",
       "    fig.rubberband_context.strokeRect(min_x, min_y, width, height);\n",
       "}\n",
       "\n",
       "mpl.figure.prototype.handle_figure_label = function(fig, msg) {\n",
       "    // Updates the figure title.\n",
       "    fig.header.textContent = msg['label'];\n",
       "}\n",
       "\n",
       "mpl.figure.prototype.handle_cursor = function(fig, msg) {\n",
       "    var cursor = msg['cursor'];\n",
       "    switch(cursor)\n",
       "    {\n",
       "    case 0:\n",
       "        cursor = 'pointer';\n",
       "        break;\n",
       "    case 1:\n",
       "        cursor = 'default';\n",
       "        break;\n",
       "    case 2:\n",
       "        cursor = 'crosshair';\n",
       "        break;\n",
       "    case 3:\n",
       "        cursor = 'move';\n",
       "        break;\n",
       "    }\n",
       "    fig.rubberband_canvas.style.cursor = cursor;\n",
       "}\n",
       "\n",
       "mpl.figure.prototype.handle_message = function(fig, msg) {\n",
       "    fig.message.textContent = msg['message'];\n",
       "}\n",
       "\n",
       "mpl.figure.prototype.handle_draw = function(fig, msg) {\n",
       "    // Request the server to send over a new figure.\n",
       "    fig.send_draw_message();\n",
       "}\n",
       "\n",
       "mpl.figure.prototype.handle_image_mode = function(fig, msg) {\n",
       "    fig.image_mode = msg['mode'];\n",
       "}\n",
       "\n",
       "mpl.figure.prototype.updated_canvas_event = function() {\n",
       "    // Called whenever the canvas gets updated.\n",
       "    this.send_message(\"ack\", {});\n",
       "}\n",
       "\n",
       "// A function to construct a web socket function for onmessage handling.\n",
       "// Called in the figure constructor.\n",
       "mpl.figure.prototype._make_on_message_function = function(fig) {\n",
       "    return function socket_on_message(evt) {\n",
       "        if (evt.data instanceof Blob) {\n",
       "            /* FIXME: We get \"Resource interpreted as Image but\n",
       "             * transferred with MIME type text/plain:\" errors on\n",
       "             * Chrome.  But how to set the MIME type?  It doesn't seem\n",
       "             * to be part of the websocket stream */\n",
       "            evt.data.type = \"image/png\";\n",
       "\n",
       "            /* Free the memory for the previous frames */\n",
       "            if (fig.imageObj.src) {\n",
       "                (window.URL || window.webkitURL).revokeObjectURL(\n",
       "                    fig.imageObj.src);\n",
       "            }\n",
       "\n",
       "            fig.imageObj.src = (window.URL || window.webkitURL).createObjectURL(\n",
       "                evt.data);\n",
       "            fig.updated_canvas_event();\n",
       "            fig.waiting = false;\n",
       "            return;\n",
       "        }\n",
       "        else if (typeof evt.data === 'string' && evt.data.slice(0, 21) == \"data:image/png;base64\") {\n",
       "            fig.imageObj.src = evt.data;\n",
       "            fig.updated_canvas_event();\n",
       "            fig.waiting = false;\n",
       "            return;\n",
       "        }\n",
       "\n",
       "        var msg = JSON.parse(evt.data);\n",
       "        var msg_type = msg['type'];\n",
       "\n",
       "        // Call the  \"handle_{type}\" callback, which takes\n",
       "        // the figure and JSON message as its only arguments.\n",
       "        try {\n",
       "            var callback = fig[\"handle_\" + msg_type];\n",
       "        } catch (e) {\n",
       "            console.log(\"No handler for the '\" + msg_type + \"' message type: \", msg);\n",
       "            return;\n",
       "        }\n",
       "\n",
       "        if (callback) {\n",
       "            try {\n",
       "                // console.log(\"Handling '\" + msg_type + \"' message: \", msg);\n",
       "                callback(fig, msg);\n",
       "            } catch (e) {\n",
       "                console.log(\"Exception inside the 'handler_\" + msg_type + \"' callback:\", e, e.stack, msg);\n",
       "            }\n",
       "        }\n",
       "    };\n",
       "}\n",
       "\n",
       "// from http://stackoverflow.com/questions/1114465/getting-mouse-location-in-canvas\n",
       "mpl.findpos = function(e) {\n",
       "    //this section is from http://www.quirksmode.org/js/events_properties.html\n",
       "    var targ;\n",
       "    if (!e)\n",
       "        e = window.event;\n",
       "    if (e.target)\n",
       "        targ = e.target;\n",
       "    else if (e.srcElement)\n",
       "        targ = e.srcElement;\n",
       "    if (targ.nodeType == 3) // defeat Safari bug\n",
       "        targ = targ.parentNode;\n",
       "\n",
       "    // jQuery normalizes the pageX and pageY\n",
       "    // pageX,Y are the mouse positions relative to the document\n",
       "    // offset() returns the position of the element relative to the document\n",
       "    var x = e.pageX - $(targ).offset().left;\n",
       "    var y = e.pageY - $(targ).offset().top;\n",
       "\n",
       "    return {\"x\": x, \"y\": y};\n",
       "};\n",
       "\n",
       "/*\n",
       " * return a copy of an object with only non-object keys\n",
       " * we need this to avoid circular references\n",
       " * http://stackoverflow.com/a/24161582/3208463\n",
       " */\n",
       "function simpleKeys (original) {\n",
       "  return Object.keys(original).reduce(function (obj, key) {\n",
       "    if (typeof original[key] !== 'object')\n",
       "        obj[key] = original[key]\n",
       "    return obj;\n",
       "  }, {});\n",
       "}\n",
       "\n",
       "mpl.figure.prototype.mouse_event = function(event, name) {\n",
       "    var canvas_pos = mpl.findpos(event)\n",
       "\n",
       "    if (name === 'button_press')\n",
       "    {\n",
       "        this.canvas.focus();\n",
       "        this.canvas_div.focus();\n",
       "    }\n",
       "\n",
       "    var x = canvas_pos.x * mpl.ratio;\n",
       "    var y = canvas_pos.y * mpl.ratio;\n",
       "\n",
       "    this.send_message(name, {x: x, y: y, button: event.button,\n",
       "                             step: event.step,\n",
       "                             guiEvent: simpleKeys(event)});\n",
       "\n",
       "    /* This prevents the web browser from automatically changing to\n",
       "     * the text insertion cursor when the button is pressed.  We want\n",
       "     * to control all of the cursor setting manually through the\n",
       "     * 'cursor' event from matplotlib */\n",
       "    event.preventDefault();\n",
       "    return false;\n",
       "}\n",
       "\n",
       "mpl.figure.prototype._key_event_extra = function(event, name) {\n",
       "    // Handle any extra behaviour associated with a key event\n",
       "}\n",
       "\n",
       "mpl.figure.prototype.key_event = function(event, name) {\n",
       "\n",
       "    // Prevent repeat events\n",
       "    if (name == 'key_press')\n",
       "    {\n",
       "        if (event.which === this._key)\n",
       "            return;\n",
       "        else\n",
       "            this._key = event.which;\n",
       "    }\n",
       "    if (name == 'key_release')\n",
       "        this._key = null;\n",
       "\n",
       "    var value = '';\n",
       "    if (event.ctrlKey && event.which != 17)\n",
       "        value += \"ctrl+\";\n",
       "    if (event.altKey && event.which != 18)\n",
       "        value += \"alt+\";\n",
       "    if (event.shiftKey && event.which != 16)\n",
       "        value += \"shift+\";\n",
       "\n",
       "    value += 'k';\n",
       "    value += event.which.toString();\n",
       "\n",
       "    this._key_event_extra(event, name);\n",
       "\n",
       "    this.send_message(name, {key: value,\n",
       "                             guiEvent: simpleKeys(event)});\n",
       "    return false;\n",
       "}\n",
       "\n",
       "mpl.figure.prototype.toolbar_button_onclick = function(name) {\n",
       "    if (name == 'download') {\n",
       "        this.handle_save(this, null);\n",
       "    } else {\n",
       "        this.send_message(\"toolbar_button\", {name: name});\n",
       "    }\n",
       "};\n",
       "\n",
       "mpl.figure.prototype.toolbar_button_onmouseover = function(tooltip) {\n",
       "    this.message.textContent = tooltip;\n",
       "};\n",
       "mpl.toolbar_items = [[\"Home\", \"Reset original view\", \"fa fa-home icon-home\", \"home\"], [\"Back\", \"Back to  previous view\", \"fa fa-arrow-left icon-arrow-left\", \"back\"], [\"Forward\", \"Forward to next view\", \"fa fa-arrow-right icon-arrow-right\", \"forward\"], [\"\", \"\", \"\", \"\"], [\"Pan\", \"Pan axes with left mouse, zoom with right\", \"fa fa-arrows icon-move\", \"pan\"], [\"Zoom\", \"Zoom to rectangle\", \"fa fa-square-o icon-check-empty\", \"zoom\"], [\"\", \"\", \"\", \"\"], [\"Download\", \"Download plot\", \"fa fa-floppy-o icon-save\", \"download\"]];\n",
       "\n",
       "mpl.extensions = [\"eps\", \"jpeg\", \"pdf\", \"png\", \"ps\", \"raw\", \"svg\", \"tif\"];\n",
       "\n",
       "mpl.default_extension = \"png\";var comm_websocket_adapter = function(comm) {\n",
       "    // Create a \"websocket\"-like object which calls the given IPython comm\n",
       "    // object with the appropriate methods. Currently this is a non binary\n",
       "    // socket, so there is still some room for performance tuning.\n",
       "    var ws = {};\n",
       "\n",
       "    ws.close = function() {\n",
       "        comm.close()\n",
       "    };\n",
       "    ws.send = function(m) {\n",
       "        //console.log('sending', m);\n",
       "        comm.send(m);\n",
       "    };\n",
       "    // Register the callback with on_msg.\n",
       "    comm.on_msg(function(msg) {\n",
       "        //console.log('receiving', msg['content']['data'], msg);\n",
       "        // Pass the mpl event to the overridden (by mpl) onmessage function.\n",
       "        ws.onmessage(msg['content']['data'])\n",
       "    });\n",
       "    return ws;\n",
       "}\n",
       "\n",
       "mpl.mpl_figure_comm = function(comm, msg) {\n",
       "    // This is the function which gets called when the mpl process\n",
       "    // starts-up an IPython Comm through the \"matplotlib\" channel.\n",
       "\n",
       "    var id = msg.content.data.id;\n",
       "    // Get hold of the div created by the display call when the Comm\n",
       "    // socket was opened in Python.\n",
       "    var element = $(\"#\" + id);\n",
       "    var ws_proxy = comm_websocket_adapter(comm)\n",
       "\n",
       "    function ondownload(figure, format) {\n",
       "        window.open(figure.imageObj.src);\n",
       "    }\n",
       "\n",
       "    var fig = new mpl.figure(id, ws_proxy,\n",
       "                           ondownload,\n",
       "                           element.get(0));\n",
       "\n",
       "    // Call onopen now - mpl needs it, as it is assuming we've passed it a real\n",
       "    // web socket which is closed, not our websocket->open comm proxy.\n",
       "    ws_proxy.onopen();\n",
       "\n",
       "    fig.parent_element = element.get(0);\n",
       "    fig.cell_info = mpl.find_output_cell(\"<div id='\" + id + \"'></div>\");\n",
       "    if (!fig.cell_info) {\n",
       "        console.error(\"Failed to find cell for figure\", id, fig);\n",
       "        return;\n",
       "    }\n",
       "\n",
       "    var output_index = fig.cell_info[2]\n",
       "    var cell = fig.cell_info[0];\n",
       "\n",
       "};\n",
       "\n",
       "mpl.figure.prototype.handle_close = function(fig, msg) {\n",
       "    var width = fig.canvas.width/mpl.ratio\n",
       "    fig.root.unbind('remove')\n",
       "\n",
       "    // Update the output cell to use the data from the current canvas.\n",
       "    fig.push_to_output();\n",
       "    var dataURL = fig.canvas.toDataURL();\n",
       "    // Re-enable the keyboard manager in IPython - without this line, in FF,\n",
       "    // the notebook keyboard shortcuts fail.\n",
       "    IPython.keyboard_manager.enable()\n",
       "    $(fig.parent_element).html('<img src=\"' + dataURL + '\" width=\"' + width + '\">');\n",
       "    fig.close_ws(fig, msg);\n",
       "}\n",
       "\n",
       "mpl.figure.prototype.close_ws = function(fig, msg){\n",
       "    fig.send_message('closing', msg);\n",
       "    // fig.ws.close()\n",
       "}\n",
       "\n",
       "mpl.figure.prototype.push_to_output = function(remove_interactive) {\n",
       "    // Turn the data on the canvas into data in the output cell.\n",
       "    var width = this.canvas.width/mpl.ratio\n",
       "    var dataURL = this.canvas.toDataURL();\n",
       "    this.cell_info[1]['text/html'] = '<img src=\"' + dataURL + '\" width=\"' + width + '\">';\n",
       "}\n",
       "\n",
       "mpl.figure.prototype.updated_canvas_event = function() {\n",
       "    // Tell IPython that the notebook contents must change.\n",
       "    IPython.notebook.set_dirty(true);\n",
       "    this.send_message(\"ack\", {});\n",
       "    var fig = this;\n",
       "    // Wait a second, then push the new image to the DOM so\n",
       "    // that it is saved nicely (might be nice to debounce this).\n",
       "    setTimeout(function () { fig.push_to_output() }, 1000);\n",
       "}\n",
       "\n",
       "mpl.figure.prototype._init_toolbar = function() {\n",
       "    var fig = this;\n",
       "\n",
       "    var nav_element = $('<div/>')\n",
       "    nav_element.attr('style', 'width: 100%');\n",
       "    this.root.append(nav_element);\n",
       "\n",
       "    // Define a callback function for later on.\n",
       "    function toolbar_event(event) {\n",
       "        return fig.toolbar_button_onclick(event['data']);\n",
       "    }\n",
       "    function toolbar_mouse_event(event) {\n",
       "        return fig.toolbar_button_onmouseover(event['data']);\n",
       "    }\n",
       "\n",
       "    for(var toolbar_ind in mpl.toolbar_items){\n",
       "        var name = mpl.toolbar_items[toolbar_ind][0];\n",
       "        var tooltip = mpl.toolbar_items[toolbar_ind][1];\n",
       "        var image = mpl.toolbar_items[toolbar_ind][2];\n",
       "        var method_name = mpl.toolbar_items[toolbar_ind][3];\n",
       "\n",
       "        if (!name) { continue; };\n",
       "\n",
       "        var button = $('<button class=\"btn btn-default\" href=\"#\" title=\"' + name + '\"><i class=\"fa ' + image + ' fa-lg\"></i></button>');\n",
       "        button.click(method_name, toolbar_event);\n",
       "        button.mouseover(tooltip, toolbar_mouse_event);\n",
       "        nav_element.append(button);\n",
       "    }\n",
       "\n",
       "    // Add the status bar.\n",
       "    var status_bar = $('<span class=\"mpl-message\" style=\"text-align:right; float: right;\"/>');\n",
       "    nav_element.append(status_bar);\n",
       "    this.message = status_bar[0];\n",
       "\n",
       "    // Add the close button to the window.\n",
       "    var buttongrp = $('<div class=\"btn-group inline pull-right\"></div>');\n",
       "    var button = $('<button class=\"btn btn-mini btn-primary\" href=\"#\" title=\"Stop Interaction\"><i class=\"fa fa-power-off icon-remove icon-large\"></i></button>');\n",
       "    button.click(function (evt) { fig.handle_close(fig, {}); } );\n",
       "    button.mouseover('Stop Interaction', toolbar_mouse_event);\n",
       "    buttongrp.append(button);\n",
       "    var titlebar = this.root.find($('.ui-dialog-titlebar'));\n",
       "    titlebar.prepend(buttongrp);\n",
       "}\n",
       "\n",
       "mpl.figure.prototype._root_extra_style = function(el){\n",
       "    var fig = this\n",
       "    el.on(\"remove\", function(){\n",
       "\tfig.close_ws(fig, {});\n",
       "    });\n",
       "}\n",
       "\n",
       "mpl.figure.prototype._canvas_extra_style = function(el){\n",
       "    // this is important to make the div 'focusable\n",
       "    el.attr('tabindex', 0)\n",
       "    // reach out to IPython and tell the keyboard manager to turn it's self\n",
       "    // off when our div gets focus\n",
       "\n",
       "    // location in version 3\n",
       "    if (IPython.notebook.keyboard_manager) {\n",
       "        IPython.notebook.keyboard_manager.register_events(el);\n",
       "    }\n",
       "    else {\n",
       "        // location in version 2\n",
       "        IPython.keyboard_manager.register_events(el);\n",
       "    }\n",
       "\n",
       "}\n",
       "\n",
       "mpl.figure.prototype._key_event_extra = function(event, name) {\n",
       "    var manager = IPython.notebook.keyboard_manager;\n",
       "    if (!manager)\n",
       "        manager = IPython.keyboard_manager;\n",
       "\n",
       "    // Check for shift+enter\n",
       "    if (event.shiftKey && event.which == 13) {\n",
       "        this.canvas_div.blur();\n",
       "        event.shiftKey = false;\n",
       "        // Send a \"J\" for go to next cell\n",
       "        event.which = 74;\n",
       "        event.keyCode = 74;\n",
       "        manager.command_mode();\n",
       "        manager.handle_keydown(event);\n",
       "    }\n",
       "}\n",
       "\n",
       "mpl.figure.prototype.handle_save = function(fig, msg) {\n",
       "    fig.ondownload(fig, null);\n",
       "}\n",
       "\n",
       "\n",
       "mpl.find_output_cell = function(html_output) {\n",
       "    // Return the cell and output element which can be found *uniquely* in the notebook.\n",
       "    // Note - this is a bit hacky, but it is done because the \"notebook_saving.Notebook\"\n",
       "    // IPython event is triggered only after the cells have been serialised, which for\n",
       "    // our purposes (turning an active figure into a static one), is too late.\n",
       "    var cells = IPython.notebook.get_cells();\n",
       "    var ncells = cells.length;\n",
       "    for (var i=0; i<ncells; i++) {\n",
       "        var cell = cells[i];\n",
       "        if (cell.cell_type === 'code'){\n",
       "            for (var j=0; j<cell.output_area.outputs.length; j++) {\n",
       "                var data = cell.output_area.outputs[j];\n",
       "                if (data.data) {\n",
       "                    // IPython >= 3 moved mimebundle to data attribute of output\n",
       "                    data = data.data;\n",
       "                }\n",
       "                if (data['text/html'] == html_output) {\n",
       "                    return [cell, data, j];\n",
       "                }\n",
       "            }\n",
       "        }\n",
       "    }\n",
       "}\n",
       "\n",
       "// Register the function which deals with the matplotlib target/channel.\n",
       "// The kernel may be null if the page has been refreshed.\n",
       "if (IPython.notebook.kernel != null) {\n",
       "    IPython.notebook.kernel.comm_manager.register_target('matplotlib', mpl.mpl_figure_comm);\n",
       "}\n"
      ],
      "text/plain": [
       "<IPython.core.display.Javascript object>"
      ]
     },
     "metadata": {},
     "output_type": "display_data"
    },
    {
     "data": {
      "text/html": [
       "<img src=\"data:image/png;base64,iVBORw0KGgoAAAANSUhEUgAAA4QAAAGQCAYAAAD2lq6fAAAgAElEQVR4nOy9bcytaVnfve51v7/PzGbgQXmZ9AHUYGcsb/IUKg5hIA3iNLWmTVRiaoOAo9gajDUptCpI6gdbE2xNq7a02MEK9JO8DdnVRBONISYYYtT4wogmfiAztinTRDmfD9vj3r/128d57z072Xu8Wf9/spJ1r/u6rvM8j/M4j+P/P67zWmsxgiAIgiAIgiAIgrXE4qnuQBAEQRAEQRAEQfDUIIIwCIIgCIIgCIJgTRFBGARBEARBEARBsKaIIAyCIAiCIAiCIFhTRBAGQRAEQRAEQRCsKSIIgyAIgiAIgiAI1hQRhEEQBEEQBEEQBGuKCMIgCIIgCIIgCII1RQRhEARBEARBEATBmiKCMAiCIAiCIAiCYE0RQRgEQRAEQRAEQbCmiCAMgiAIgiAIgiBYU0QQBkEQBEEQBEEQrCkiCIMgCIIgCIIgCNYUEYRBEARBEARBEARrigjCIAiCIAiCIAiCNUUEYRAEQRAEQRAEwZoigjAIgiAIgiAIgmBNEUEYBEEQBEEQBEGwpoggDIIgCIIgCIIgWFNEEAZBEARBEARBEKwpIgiDIAiCIAiCIAjWFBGEQRAEQRAEQRAEa4oIwiAIgiAIgiAIgjVFBGEQBEEQBEEQBMGaIoIwCIIgCIIgCIJgTRFBGARBEARBEARBsKaIIAyCIAiCIAiCIFhTRBAGQRAEQRAEQRCsKSIIgyAIgiAIgiAI1hQRhEEQBEEQBEEQBGuKCMIgCIIgCIIgCII1RQRhEARBEARBEATBmiKCMAiCIAiCIAiCYE0RQRgEQRAEQRAEQbCmiCAMgiAIgiAIgiBYU0QQBkEQBEEQBEEQrCkiCIMgCIIgCIIgCNYUEYRBEARBEARBEARrigjCIAiCIAiCIAiCNUUEYRAEQRAEQRAEwZoigjAIgiAIgiAIgmBNEUEYBEEQBEEQBEGwpoggDIIgCIIgCIIgWFNEEAZBEARBEARBEKwpIgiDIAiCIAiCIAjWFBGEQRAEQRAEQRAEa4oIwiAIgiAIgiAIgjVFBGEQBEEQBEEQBMGaIoIwCIIgCIIgCIJgTRFBGARBEARBEARBsKaIIAyCIAiCIAiCIFhTRBAGQRAEQRAEQRCsKSIIgyAIgiAIgiAI1hQRhEEQBEEQBEEQBGuKCMIgCIIgCIIgCII1RQRhEARBEARBEATBmiKCMAiCIAiCIAiCYE0RQRgEQRAEQRAEQbCmiCAMgiAIgiAIgiBYU0QQBkEQBEEQBEEQrCkiCIMgCIIgCIIgCNYUEYRBEARBEARBEARrigjCIAiCIAiCIAiCNUUEYRAEQRAEQRAEwZoigjAIgiAIgiAIgmBNEUEYBEEQBEEQBEGwpoggDIIgCIIgCIIgWFNEEAZBEARBEARBEKwpIgiDIAiCIAiCIAjWFBGEQRAEQRAEQRAEa4oIwiAIgiAIgiAIgjVFBGEQBEEQBEEQBMGaIoIwCIIgCIIgCIJgTRFBGARBEARBEARBsKaIIAyCIAiCIAiCIFhTRBAGQRAEQRAEQRCsKSIIgyAIgiAIgiAI1hQRhEEQBEEQBEEQBGuKCMIgCIIgCIIgCII1RQRhEARBEARBEATBmiKCMAiCIAiCIAiCYE0RQRgEQRAEQRAEQbCmiCAMgiAIgiAIgiBYU0QQBkEQBEEQBEEQrCkiCIMgCIIgCIIgCNYUEYRBEARBEARBEARrigjCIAiCIAiCIAiCNUUEYRAEQRAEQRAEwZoigjAIgiAIgiAIgmBNEUEYBEEQBEEQBEGwpoggDIIgCIIgCIIgWFNEEAZBEARBEARBEKwpIgiDIAiCIAiCIAjWFBGEQRAEQRAEQRAEa4oIwiAIgiAIgiAIgjVFBGEQBEEQBEEQBMGaIoLwrwHe+973jnvuuWfs7u6OF73oReOXf/mXn+ouBUEQBEEQBEGwBoggfIrx8MMPj+3t7fEf/sN/GJ/5zGfG2972tnF4eDj+6I/+6KnuWhAEQRAEQRAEX+KIIHyK8bKXvWy8+c1vXvnsK7/yK8cP/MAPPEU9CoIgCIIgCIJgXRBB+BTi//7f/zs2NzfHhz70oZXPv+d7vmd83dd93Q1d4y//8i/Ho48+Oh577LHx+OOP55VXXnnllVdeeeWV14V/PfbYY+PRRx8df/mXf3kraHgARBA+hfjc5z43FovF+JVf+ZWVz9/1rneNF7zgBe05TzzxxMpi+cxnPjMWi0VeeeWVV1555ZVXXnl9yb0effTR20HL1xoRhE8hShD+6q/+6srnP/IjPzK+4iu+oj3nne98Z7tYNjY2xnK5HFtbW2Nzc3Nsbm6O5XK58trY2Dg7bnt7e2xvb4+NjY2xWCzGzs7O2NnZGcvl8uyaW1tbY3d3d+zu7o7FYnF23WqvXltbW2ev+n9ds95Xe9Xm9vb2ynG8HtuvNre2tlaO4auuubGxMfb398/OqbEul8uxu7s7lsvlyvUODg7GwcHBNe3Ua7FYnI3f/9vZ2Tk75/Dw8Jp5WC6XY2dnZxweHp79zTnZ3t4ee3t7Y29vb2xtba2cU3aqz6sP7GfZh/0pO3pc9AEed3h4eNZ39mtjY2Nl3jvf2N7ePvucttnc3DzrK+1Y/sN541iqvbJ12WCxWJzZiX60s7Nzdv39/f0VG9Q1ql913e3t7WvWRL14fl2jrsN54pjpT5ubm+Pk5GScnJys+ADbLHvSt7km6MN1HNdq2ZC25pqufszGyWPreK/J8juOi/HkZpN59bnrR1232mE8KP+hr3B90/9nNpu1yRjE/1V/Z+OgP3cxsexJu/E4tsO52draOus3+8x++nPawuu4O4c+Y/+xbbv3tJ/nw/4xm3O3yVfFrsVicRafulxRf1dcZ388n0dHRyuf005ckxxfxTvOTeWgikX1qvjA8dTftGtnD/twt54rRtf/HF8Zkzjn9f/yky7HeA0wHrANtsm56Y6rWMv14XhPW+zv74/9/f2VuMq8V3NMH3Bcqtf+/n671plj2WfG3rJlzSftubu7e2bng4ODlWvRbx1fmTu7XMM1XzZj35yXPbaaS+dP8xVfi7yEc8C1xZjKMZRtujh2HkfxnDjeem3UWOqYxx577HbQ8rVGBOFTiJvZMuo7hI8++ugKQadw6ghDJScnAQZFBrQKMk4iFVQqKTBAMlAzIDlgdYGL55jIMBFwnLu7u9MkwGRJArS7u3vW/xJP7GvZhEFwb2/v7HwLNwZ4H8skSdHhhGn7l93rGIrdWRKgPaufTB7Vt+p3HVdjcfIl+aHY3NzcXBGeFh4k9xS0TEplh3pPv2WCpD8xwdK+THgzG1v4+z3Pp9+VnSrhk9hSoFrIW4hRTOzt7a2IWhLA7e3tlQTNz2dJlfa0oPPaoqjnWun6QnFV57Jww6R+3qvrs23UxQCT5tlxM6FkksW1vr+/vyLALKB8jYqb9E3GSsYPkqkZeTVJ5Vr1+uRcdgUWH0dCPYu3fs/rOW6UP/pY5wvahn5G/6Jve445h52f1DpjP+n3jA/0DRcIaAvOQdns+Ph4hYCzPfaT/sD3tH/Z73qC0OuhrnV0dHSN6OoIOK/BPFZ26dZ6CZxOzHhuugJHNweMlTXXzF1ed4zVFJ5cL7wObcMxV9HOPl15iGNm/+2/9b+9vb0zjmBh4zljLmMcqPeVdyvuW/h3sZv+zHzPObQ/O48wnnD+XVTg/6pv+/v77Rq0r3nM1c/iGSw4snjSCUJyjGqrjnn88cdvBy1fa0QQPsV42cteNt7ylresfPZVX/VVN/ylMo8//vhZBaeSDxcdiS2Fhglvl5Rn1csucJEwVDsHBwcrwd7XZLDuSBarfSQgHYlhJY/B0VU1E00nNAZ3irpKVl3g3d/fX0n+JnxlGwo4XotkwaTRwZbJr84vgcZEUKKCwXd3d3clOfNzJyEKRyY9vq9zKvhXn5hUTfLquIODg7N+Hh8fryQ/+qeFFv2RyYbX48s+QOHrO2JMvhS+JvGV4O2fM6HfCYLqW0fOvf68hmnbo6OjcXR0tNKXGcmtuZkRG4oeC9+6Dv+2OJy9LFQ6kmkB5nXOeefnXfFmdnfH53TxoRNrFCBeZzymE9Fsy+uGc8v+Mt6Q/LMt+m1nW9uZZI5t8XPahoLC88ldBryG+3Oe0OBckBiSjHaCsmzTEUuub35uMcD4wkIK7UD7V4ze398/Gw/JfUfgGV/KN9jnrp8W7v68E7ics9PT0xX/cUxmIbfLicxN1xNUnDP2lzGUOd/jZ5seF8fLYmoXkynCXUCc5Sj7jedyVkgxZyp/9HyUDZjz6cPdtXhcxXTPeR1Td1O5G+Z6/tTtnOriIG1G/uM16KKp41flC87zzL+7uGp7RRDeHkQQPsWon5346Z/+6fGZz3xmfO/3fu84PDwcf/iHf3hD50cQRhBGEEYQRhBGEEYQRhBGEEYQRhAGN4sIwr8GeO973zue+9znjp2dnfGiF71o/NIv/dINn1uCkILBwq0WFQMqAw23pHTEowJdbZ+ooMmFO9uKyK0QTDYVgCt5mPSYYJgkkuiRsC2Xy5VtHkxyPK4SYx3HdmdbnSoAO9n7bycnnk978NmJjjDt7Oyc2dvCr0RVbYFjX9guCZ0Dcpc4az4oinm9jnyVIKsCwEzQmjzVi4WDGnPZmcmC/mxSYeJf7TN5zoh5jZN94DzxOCdbkkk+a8j5YLHA5/G4TrjaB030uT2HYnU21xYxswIJk7bF3fW2h85EYfW5E87uA9vnfG5tbV1zTYs5kor6X1fgmNnFBJoEzkKxE4QW++WHVfihsPJ1q037IMfZCcKZsHRRgTHZApIxgmSQbbqI4C20/B/jE9s04a526Lf0j05QUjg6Rpdd6TN8+dmmLr5wPVp0Og4wpnBunPvcXo3NW5XrM8ct5rvOhzlnXbGgmyf2n3nMfrSzs/p9AN1aoU0rph0fH58V/NgX5lHHzU4EcSwubLLP9hv7mPOE56VbU3Ud+rCLDVy3XUwtgec8UjbuYgpzv3OH55kxlTnBdnNx0CKa43ZBy0WITtzNxLHjlWOPi/L0x1qzEYS3HhGEFxwlCPk8YL38zNl5CcWVvTqHInL2jA0XOivaTDwWkHyVMPPziJubm2cJxVUkBlxek/vWmUQryTLodaTb5G1GuGZ3IknSKxF2Ce709HSFvDgp1XvOgeemqwAzIVlA8NqzOy2crxIx9eJduI40k1SRDFb7fH6rszmTLO1c42TyZiXV/emq8yaWbp/Jk7blyyKf9uBzckXOXCDxMxlOqJ0I7d5zHXKcJAUd+ezuNnV+a/tTnD9ZIWihQfJgcdWJDotQCipfcybuLA66dkzM2c9ZUcLHWNzRvxiT2G+OZXacBVl3TNmGX8BkEVRjM3Gva3G9k0CavFV8rDst9M+ZqOZa5NpwTOvINM8pYTLLAzyHfsjrctxcE85pPJdtcMx1J8R31RhDquDVkW7nNNqfsZfnMK9b0DKGzIQOx8NYMBPJxQso3Dl35Q+MYWXPLq8xVtFnO3FFe3Yx3fGNvsK+zcSN11nHobyjhrsx3B/GePtjZwuOvcbfFcws1t0u113lRcdExhqLM76n8L+RmOr4R1uwnzN/cwGQRQjmvAjCW48IwguOCMIIQibMCMIIQvtQtzYjCCMIIwgjCCMIIwgjCINCBOEFRwlCCrCOcC4WizNx1SV7Bosi87NtLpUsGfg6ossAYCLjpGMRU+eYJDP5MPAzETlB1Pi5rY5EwONkgvcx/Cp0k+VKlmx/9rzKTKDzmBpL/V2iyM8kcDsK7dIRU25XY2AmQWB/SDI4Zj+zZptzPjuhw6/uZpKiePJzl4vF1Z+nOD4+XhHuTJhMsExUFjgWxxTF9OFOxFaS67Yv0rYWnp0Id5GkE0TlPyaDvF63pYlr2wnZydnkwiS53ld/bkQQmpiTZHgNcq12/au54rriMSSSXI/eRtaJDpOSjnAW2eR72sLkyATKn583H7M4SptVUeLg4OCa56Jos5noIWGt9rrtiyaWnAs/Z81zKPy6NVifM9Z0oon5oeaduYT24nrozqdgtz14LX6jsHOq1133v5n9S1Cw+ELxMZsni3oKneont9rTzhVjaecuj3Qv2qazOYt83sronN61abuXT5VfdX5H0eeCn0WkOYVjsrkN+25/5HOk3qrPmMxCANdife7HGJhXz2ufRSHnZOZSiky2zzxqe3YilOuG3KH6wjEz93TC3WOjP3A81b/qI3NHBOGtRwThBUcJwkqsDMpckLyb4QDpYN89+8HA3REo7k2nUOuSMkVPJYCuAk6SXuOyqCxS1PWTFe8SCl0iMInuElzZqIITRUcJxOozk7XvJNaLY97evnoXkITfz1jwHNqGbZxXSeU8cfzHx8crY6cNOE4SHlZPLeidWEigeRwf8CdJoQ/y2hw/SVX1mSKQc8u7z/zcxIFzMysK2BZcPyQ13V1m2tXiwMKb64F2Zr9nAsAkldfiHVce5wpwR/58t+5GXxRD9HXGCpMXikPffe3EkwWXY2AX+3yOxVDnA660d3daTDhJcmf9L59wRZ2xp9qmD/N4F5/4jHQnXB0vSMxoDxNQx3/fDa67avRTnm+SSBt0eaD62gl2+hfH47GZGPN6s6KK26zYwH5a+FFY0C6Hh4fXxHCuyfKzWZ/5P/aTvjkr6vi6Frj1nnd0irwzx/AcFgbZP84t/c42d0zgi3mgy3eOteQeHmdXrLB9mJ/YPvkPx8afobCop20PDw/b3NnZv+Ns7j9Fk+3S5XUfx3jC/Mv/mUt1scZ+z5jAY0rU8fiuyMSxkXNV4bquFUF46xFBeMERQRhBGEEYQRhBGEEYQRhBGEEYQRhBGNwsIggvOEoQlmhycGVAIRlloLBo6bZ3OdnwfyRzDrwMTrOk7v8xIfBaTEq1daO29tTYGIS7pNqRZv/sAwUIExi3Ec2InZMiBRUDN8UR54PbTCqRcgw15gqWFrPlB2yvSyQmFUxU/B+/6YzzZHHHNpikOyFTNiZ5rAR6eHg4jo+PV36cdradxkUAPmvI/9N+fCbVPnFycjJOTk6uSaTcwsRtT35ehO9ZCOnIR5fwOzJnUU8i5W+hM9moMZM88Xxed3Nzc8XmjAFM0DcjCC0OLTKLNJPkl51r3i0M61z+TeFse3UizsLZsaITe/Qbbm+yPS3cSSY5B/Wq2OP4bTI8I7O1JjpxYP8h8XL86vyMa6kT1F079m36oO3LcTKmzwS580Wd72IoC2ldnO6EDuesWysWKrNiBT/v4q3n3fnNtqTdmCOZB1xUshixIOiKd/W51/55RcdunhyT2Sbbsc/xehZhvFYdQ85T53TzYbHC+OJ573zda4T+7OuWzcgfzlu3s1xaebbbGmtbdjnaOY65u/OxGi/bpy0Ygxy7uvhUzzJXPLffs0hGzuX8VTkhgvDWI4LwgqME4fHx8Tg5OZlWtRjIGYAsABxQeC0HjS7YmTB0lfEKADPCM6u4MhCx6m4CyH6xCmbb8H8deWPiMcljP3d2dlae5amHuisAug81to5Y8pmc+h9ty6TIZNEJk9PT05XkR6F2enq60i8/fM9nNTmfJdp899UVU5IPzlNXSSz7sw/2lbIlq5JMVn62iwKijjs9PV05n2PzmpglbxIB+yP9xknYPsM7dXt7e+P4+PgakcvkzXHQP+iDtDmJLOeMceDOO++8boKmaKjrdXf/ZgKwyDFjEAlkRwxtN5MhVp05ZvaJ/ec88f15Ba9ZwYX2MMmzgOQYKEi780tcdHHMsZfXdZv0R7bJ81lwO8/n+b9675jAvjkP0Oa0ZSdMak12BUzOjQUR553j8HsSTpLZjnx2BN7Cn/mqXha7tmcnXL3WHBPpC9y5Q7swZrAQR1/gmuh8leu7+mpxMBPodQzvLvnnQCyOmHt83c62jgddfvH6oJ39BXsuOJV9bI9O6PDzsjXbpKDt5rYTWsxD3ZjJkfwcOefNczNbg+xbrR2uWfs5X7VWKl8zD5izWSh3ffP6cp8rNkYQ3npEEF5wRBBGEEYQRhBGEEYQRhBGEEYQRhBGEAY3iwjCCw7/7AQDB7czmIgw8TCIdmSqI2K8BoOrk01Hkk1w/Vlt62NwLdLLdjrSXF+HXkKp2iiRQNLbicDaMthtS3IyrjZ3d3fb5y4PDw9Xtg4xiDLh+xgH3k5Q+H0ndOvb0BisOzJMO5WALVFbz3oVIZgJqlmC4txQ9JgM8yc66Lfccuv2LC47Iu7juiKCSffGxsbKfNYx532NtgUZfYuJnFto+D+2b2LisXTrmNcyyXERgWuFRL8TI7b/zW4T7QiDx8uveOecmRx3pIJ99rVoT5PgLm4VSZ21yWt169FjZlHIbXOc3pJtcmr7WUB6rdNvOB9eqyXoGTs7scbYz2uQWHt9VF86O3di3eP1WLr/c3uzxWr5CH2YdvJa7dYdr8ucNRN+NX/cgs3rs/BT/lI+w8/dlvNCtW/RTPFWtuPc8JqOg8wjjonsB/2k840aJ/2TW/rZnrdzs4DFolnHRWre6z3FDeMA/ZTte5vurMDRrenyTc4Nr8d8UcXiGgdFLDkU+8x5cAGc46jcWt8g3/EFt2F7mA96/ZsL8n/8dlv+z0VS2pMFZed2+knNQwTh7UEE4QWHf3aCBNOBi1V7Ci0GLifUjrxVgDlPLFawJ+FhcCXR3N3dXfk5B1YZ+cUI7JurpLy7xCTAQG3STbLEwMhkR1JgYmLSWS8GaxJy3oVi0CYZXy6X14gRJjgSjmqnxG/NuRMaRTHns0u21e/6nAnXiYO+UAmp5q/+ZtIhySFhYv+ZAHd2dsbR0dEKqS6hanLIv+lbJkecM84/54R+48+5NjyPnAP2hUnQwqIT8jzOZJO2Z8I1yaXPeG13hYS9vb2Vu8Id4a2x3YwopH93/kxywDarqNEJOooJtuHjPW/dHQGKpvrfLHZ1cc+E3+KZtuc8dQUuxwTbcrZrg3PN/mxubq48m8dz2L6FTyeITPoZE7luTay7ua3P+RMzZRuSRBNcCkILdPoAbVF9KYHmO/F1Tuf3jjXMl86LXQzxNdh/+jDXBkWbbeBiHnMCz2cspSDw3Hb973Z61DzR72d52DGN15r5Vl2vExf2dbZpO3c5dmNj45ocVXc1ZznRd/s6LmTb1Dqr/M35rn7yS2noo/YR95Nzy5xCX7dw63idC3XMj+QCHRep8dsOdU2OjX7ueMv/WZQ771V8jyC89YggvODwt4wy+Topu4JWC5SE3EGMpMRJidUdBkgm/xlBcTBjAOhIe51TQYRCgaSfyZPjdIXe5IMvfgsi7eRE1r139cxVstn2njq+flDW7dW1uztsFqEWMzVOEpnFYrHyg/cW1B1p9bhKnG1srN5Ro2/QB/i5CTTFIpMffYtVRW/xpN+6As/2O1vWMRZrJmJcW2VnChImvq5YQILktcaxuYLNPnMNzAgH/YE+X6Kaa9VJvtrpCJvFzZMRhJ09SRb4ZUoUNj7PRY3Z9bxdsiNE9BUTo46cWexbAPF4+92MmDkWc312c2tBVq8q3rB4wuO4bnlHzaKtu7Zfjq+d3zju0O9J+N2WCwjVL9rf35hN23SCigR6a+vKl0d1wtNCg+uEa87xZSZUuvzguNEJR687xyCLep7POFsxqLuTx5jKO5kWp/RdntMJQosBzq3jDsWpC6gzsdnxAMbkWk9d0dD+yOsybzAXsi/0Qc8NbWtR2eU+xqNOxHVr0PmB/sv44MIa7cbdKfwf7z7SNueJNvsGx9b5k9ck/ZoxteNqEYS3DxGEFxwRhBGEEYQRhBGEEYQRhBGEEYQRhBGEwc0igvCCw1tGnSy8pcBBw0mFyauCikVTR0C7pMpkWmSugiSFC4ONt292pMhBme9JoNlnCqQuKfNz9t8EoROb3kLEBFNfLmMyxuDocVL0dNs6K7jTtp0YqnGzzxYk7Bv9gUm+/nd0dNT2h9fx9hrPc71nsuyO6wgTRamJqZ9/qvMpwkh4uRW2xstzOmJJ4TvzadvE5IGf00eLqNSWzbqOCyMcA+3JMZvYe1z0m46k0Qdn68yCsBNj3f85lr29vZU+dwKSBNXibEYY2QfbpiPYHcGhP9q2JLm0LX3LMZHEij5soUXS1gk6fqkLj++IJQuAXLOcK/qZ53EmAilaOVeOg1182Npa/bmZ2fpg+96my3jl3MX4OouPFtW8tuOni3flF4wDHA8LkxY6s9jF9xYK5TMbGxsrj08wjnDs9EeKaH7mAsOswMT4xLExprIdxm37Gf3Z9pg9/zZ7lIVzy/573XCtcm67OGzBWfPHtd49X1v2uPvuu8fdd989Njc3Vwqt1aa/ZIfr1v5V82wf7Iog5RddAdJc0D7I63stlw/yUR7HA8aU7iYEfbv7H+eQPsQ1FEF4exFBeMFRgpAJhYGNAZ2Ji4GAxIJf7uFqFYOoK80Ug0xATmoMADPhSVLGQMXAs7m52VYCWXXndTc2VqvmrmoxgHV99jOAJNAmd77T0/2AOyujDIRFrOp4P9fSJUInZYuRTuyyEtoRlO45DiYlE0YmUftDR+Dr7hXFaZfwXMHuCMpyuTx7NqTOv+OOO8Ydd9yxYn/6CX2h/IkJsqtgcw6q3xYp5Vez8dO3XaihnWekz2SG80Hbcp1wbigO+ByqizKdaKq10QnC690dZP9npNG2pcghkTIBrL53RYSaA99FsBihb/FaXmvsi23ruNUdZx8g6fGdF4tJFyss4Gak10LRRIt3S68n4nj33gR65rMWxi4+MT7NChksnMxEOftp2/K6Xk9sn33u1nPZnwS4W4PewWDB0Y2TfXbfLFw732B84rWcv53LPY/L5XLceeedK/4wi29dOxUbbOsuhtl3aUOf1z3bzz7X9bp2uiK4fbZ2xnA8XUGdfSvRWlykcs3+/v7Kl6jx+ULnF8ZkimAWhc8r6s/iC8di3/Ac8treXVHn1vEl3u37jt22OWMGx0M/c8GjxhZBeHsQQXjBEUEYQRhBGDZn3c0AACAASURBVEEYQRhBGEEYQRhB+FQLwr0IwgjCC4sIwguObsvojMwxOJmUkAg4+VVAZQAx0b1emyYYDFAdAav2SdacJLukasJh8teRNI+T53D7B5OVkzyDH9sngTLp74QS987XNsjuG1hnInxra2tly4nnaSZgPC72k4KoE0ocQ12bybt7JpOJu9rhsxskgycnJ+Pk5GRl/Lu7V78xtGxc/fEzRhT4/EZDfiMchTh9iFtLTW5tJxKLjlTQFtUer8s5nBEeE7uOsLAdjrOIhRNuxY0uwe/u7p4r9ijOblQc0gf4W1a0E/vFvlGsMiZxzkyyeZx9nfNE+5Psew46QeZiEW3Ia1gQm2jSVrOY2cWAItNsp67DvrENi0mO0/7IsbAQOLMPY4zH7GMpOthPxpqZ+LQP8FpcwxSUZS/mQ8cdrmH7CeeNRUf22cLEtmHu4Nzy+rwu7WQ/6UQtxYS/8ZLzMcvNdU73uIJ9sBuL863XTucnFtkWDZXXXPzjtZg/2X+LYIpM+ptzeCcuOX97e3vjaU/bGt/93QfjF35hOT75ycX48Ic3x/d//x3jK77i6WdC8fDwsI0HHrsFYSfIOnt3xTfa5/DwcKVNb+GdFbct8Hk+2+7WSLde6m+vyc43yJkiCG8PIggvOPylMgwODPwM4kxWRfhqMc8IY/dikmebvPNEceQ7Qtw3T1IySxz8shMmTAdoBlcHzo5YWZxwXO5XR14Y0HmOf5eQgZoB2Z/Xdf2sH+1JEdq1yaRec8sv7iCJ57OBdTxJX12bz0Pa/iZc3c+AcG6cjPiMBe3Jvp2cnJwdU7+RSLFZNqQgPM+fusRT81+JnMewjzV/tGdXIJmRnzq+m1veraOtKnHORFBH2EgkiqgyyXfi4Ojo6BphWP5iMvpkhKBJu+MM+2XRRJJBm7H/nQCyYPF4ZoUoP8PSkXbPvyv2HZlz3OiuYxFskjW7C/ZkCxddPOfc8FqdP9S1u7mlUPFvmfIa7IfjAmNi2ZaEvxOhs2Ig+1XCofzE8dfE2GvYvst1y35aYHVtOj+zKEU702+YO5hH2WfOi+MDBR79xndCfWenE/guFHM3BueTtuCX+jDf2e8sbPh32bmKXnUdtsl84znu+Ea9Jy+ZFbTr83vuORg/93Mb4xd/cWP8i39xMt797v9v/MRPPH989KPb4xd+YWs8//nH44477hinp6ftl7iV6GVhiX5Xfdnbu/qTS8yv5m+MVb6LyLlwTOFarzZdbHCuZYzuijediK1+186uOrcrMJinRBDeekQQXnBEEEYQfukLwt3x0pduj3/1r7bGT//0Yrz3vYvxxjfujGc8Yz+CMIIwgjCCMIIwgvApEYQ/9mOb4wMf2Bgvfemzx9/4G39jfPu3f/v4R//oH43v+I5vHD//81vj3/7brQjCCMILgwjCC47uZye6hU6h48/5t8VNl+wrCJPwdMSaScTbTipg1zMgM6FhUsOEVQHSAZ/BhWSY2xQY5BmEeA6DUSURfmNlHXd6erpCzNmP09PTawRetcF+zERsJU0/z8f+U7iQyNbYGKxJWDqxXgmKiYgJk6Sdc8E2Dw8Pr0nS1Q6TrckDz7k6N1vjbW9bjsuXF+O//Jfl+KEfetr48R+/Y3zsY4vxwQ9ujHvvPT7rLwsO1R/bk5/Trt5CQ3tyPZgYeq5mgqFsQ6FJYuVrd3NePmMh5WTLpHxycrJiV64Pns8tclwPMwFZ8/9kBaFJazd+iyJvj+uuP/uGS8Y4xzEKMPqMYx+Pm/kA++z4xThim9HmJOckWRXjql91LmNQCXXH9W59dr6zsbGxslbc/06o+ZqzrWMk1ueJdZJ+CzJ+w2YnXKr4wfVIEUgBStLN+eR1OS5u93MOs6/5WXOuc9qWPsQ57+anBGWNk/NsP632PReMwxybYxU/Pzw8XPlft33U69brnHm584fycect84qaX35GEUlB13EBtsV11tmyK8TQznXd5zxne1y+vBgPPrg3HnzwwfHggw+Oj3/84+NDH/rQ+NCHPjS+7/u+Zly+vBgvfvHd49KlS+3PWVTeIk/q1g/jhmMy+Q/nlDb1PNCO9Ffb0/HPhfLKnWyf8+dC80ygsv361tniKDVPEYS3HhGEtwjvfve7x0te8pJxdHQ07r777vHggw+O3/7t31455oknnhgPPfTQuHTp0jg4OBhveMMbxqOPPvqk2ilBWEGKgZcLjQHdVT2SDJJRBgUSYwbfTsRxcTPY87pOJBSJHYGv65qUVBDiswJMjgxiDvYd6Z+1UX8zoXUE2iSbwc8BkX1mxZVCmQLJv+c1sxkTd4mfInszItERdicS25wPyVPQ8i4lhRbHwmuzUurXG96wOS5fXoxv+qbt8bzn/b/jLW95y3jLW94yvud7vnX8p/+0PX7+5zfH/v6Vr8em2CLRp51I8uiny+XymkTUFUVoP5IUJmXO80xc1dzyON5V7YhpzT/H1pEnridWw+vvjpixzxQwvqP2ZERgdw32k3GH7119Nhnhq7tDeHJyMiW6jHkWDd5Zwbmyr5gk0a4m4+w340ZXPKCv0AfpZ13BzHdROE+c504EsC+e77rj2q0BiwP2h3cX+J7n13HMRZ2gnN118GtjY/VnYTrh6dxY46uxsG/0VwoMjsHxvRNHJbaZC2dzPpsbFyrrWhQ99uEu97p9igb3i+c5vtHvWORjTqBAnoltHlNzwDjY2cOFEAt62pPPKNd8ci6Yv+pc9oVjo4jb398fr3nNzrh8eTGe/ezT8drXvna89rWvHR/72MfGI488Mh555JHxjd/4wF/lrjuu+fkm5lHalCKcOdG+aRHccTH6BufSvuqcS7+fFcKYL2rnSBcfWbzi+mSsoQ/687JRBOHtQQThLcLrXve68bM/+7Pjt37rt8Zv/uZvjte//vXjOc95zvjf//t/nx3z5je/eXz5l3/5+MQnPjE+9alPjfvvv3/cd9994y/+4i9uuJ0IwgjCL11BuDV+5mcW413vujKG5z3veWeC8E1vetN4xSv+n3H58mK8+tVbEYQRhBGEEYQRhBGEt00Qfv3XXxGEL3jBSSsIv/mb7/+rO4gRhBGEFwMRhLcJf/ZnfzYWi8X4pV/6pTHGGI899tjY3t4eDz/88Nkxn/vc58ZyuRwf/ehHb/i6JQj39vbOSD+TEskDg4sDLcmHhV8FD/9MAQMRE60DrBOftwwwKZDklqCqYML+MOGT/DAJOKC7zyQ2TBbsmxMOk2oXlGlf2rXswXEywFegZHt8Zq2u3W2r9Dwx2XjbCK9F8lTHOBHXNlILNn8bmtuwj9W80zeZYDmmst0dd2z8VUI9GU9/+tPHAw88MN73vveN973vfePbvu3bxkte8pLx8MN745/9s62V5yMp7g4ODla+pbXsT1JQ9phtZ+F2Wtud46G4o8904swkw2uQ9vR6IumrsdXclc9QXJm8cg11ZNwilu9nQu96orAjk/Rbb93iuicBngkoF0V43EzQ0f4WwZxDbkc20afNbItq31sxaROvB4tnEzO2adFF0s+4w7VGAcb1UH7eXZviyKJt9qKvk4xyzDXPnAPalnPPsdAvSCB5nkUkfYO5kLF7Jm7LBzimLo+4LxZafM/nwWbXYr9MrruCG8fJuF12pj0Z+5nvmU8cr03Ut7e3V7YzO/fNuATXLW1bbXZim7mcr+3tqz+e7p90cJucz+rX3t7eyjcysx1yHs5Nzf/Jyeb4xV9cjH/yTzbHPffcM+65557x+te/fjzwwAPjgQceGG996+n46EcX49nPPlmZj9PT0xU72PeYF7vc728un+VV2m9ra2vlERsXTLo14DFTaJqLue8+phOv/F+39iom7e7uRhDeJkQQ3ib87u/+7lgsFuPTn/70GGOMT37yk2OxWIzPf/7zK8fde++94x3veMcNX9e/Q8gAb9HUVZtqMTrh1SKnCORX5pNYOCDwS0SYQBnY+cySgwuDUL2v30fsRC2TJcdJWxSpYOCr4yoxOpl3wakTA8fHxytjdlKnIOG1mbCZhBh4Sdr4GZMa7c8vcGDfLbDdfidUWcGs8TAZd+THVWtfqxO0TvxF7u+668qzg6997ZUvD/jqr/7q8cY3vnG88Y1vHK985SvH8573vPH+9++Mt7/9il3LziZTtGMniMvP+TfH09195p1uv7a2tlqBz7VRYyaxswjoCgx8WRBwzLRz9aXWBwVmneMvmuhEj+f6Ru4KVptdwYXrgX7vcVrQMT6xzyYtFlw+h+LavkoyayHbCWKS3O54ChCLk5oTxi4Tps6febxjov2lEzKcr2qPgoq2nF2XftPtPLEYMUlnTLaoZ19cWOhIq4kr22DfHYdnIo8+Yj/r4gNFOPtfXxLDtX69uaUPO8e5EFE/y8P+8TnumtdZoZf2q89LOHDc7Gvn91wz9hW2Ufm/hNZMhPA6jKUW8bSrhS39YXYnuPPZ6jvXQLeeHnpoOT7+8cV44IHl2N4uoX8wXve63fGxjy3GP/2nV3ILvyGbIp7XcoGDtilfqzzh3Vbd+vQX1DA+cU12uziq/c433B+2aV7hQoLjXcclPc+1BiMIbz0iCG8DvvjFL443vOEN45WvfOXZZ+9///vHzs7ONcc+8MAD401vetP0Wk888cR4/PHHz16PPvpoBGEE4ZekINzcXI73vW8xfuiHNltB+HVf9+xx+fJivP71+xGEEYQRhBGEEYQRhLdVEO7vb49/+S+vFC7f//7FeM97Nsf7339lZ8u73rU5jo/3IggjCC8MIghvA9761reO5z73uStfGDMThK95zWvGd37nd06v9c53vvNcEkZyz60dJIImO17sHWHhlrwScwwcTBBMZCQc3lpCscktIEywJGzuN589uJ7QK0HWJRUHy468lqjstlnaZhShHjfb43xQHPE9XxQNHCdJCc/b398fh4eHN/QMYfXfz7AxedFOM3Fc/+uEK8fMz0tQc7tbtfMP/sHO+OQnF+Pv/t3luOuuO8/Iz7OffTr+3b/bGD//84txcLAqNumDHBuTEJOdiY23pHlsNT7+XAevTfLGr5DnevMcdiKoiIjJ10w4dUUFHl8kr1srFpG2DZM3icTNvDoyzjVkwu8iSRef/OK2TZIM+pbXY0deu7np+s8x1Hv6fUfytrev/QZVzn8Xk9gfF1I8HsY6FkXYFxYH7I8cW1d8KmJpW3cCmSSR/XIe6NYtxZHjrUWsC01cl+UXs3hPP5uJnvq8Ex2cT4tDFz/Y/66f9O3Ko11Mch7rfLja6YoNFga0s3MQr13t8dEB+wb76XzRCYjqC0UpxZyFX+U4z0U9LnBycjJdx8yds1jDdsw9uB6Wy43xwhcuxvd932K85z0b4/u/f3O8+MU74+Bg9aeUKOiqzdru33ER22m2BugbR0dHK+244NPldRd/unjE9+YyXHczO5dAnV3bMcFrPILw9iCC8BbjoYceGs961rPG7//+7698frNbRq93h5B3iFwh4nsGeZO+LiA5oFUy8DN3Jils0wGPwcnJ08G6+kPh0wXLra2tlaRsgtQRExKOnZ2dtg0nIgfIsgUTpIUHx0Oxfnx8fHZd/oQEH86vSjDtRJszILP/M+FaiWi5XK7cOewISxe4aScK1ZoDVoA7IuA7b0zcnMODg73x/d9/peL6Uz+1Md761u3xgz+4NX7xFxfjf/yPxfibf3Pvmr5ubl79cgMWDVx1L1/ws7cmZjyHPmMyZ9LYCQX7T0faOX76Q61V+lO9n92x51jq86663ImoIhS2382IQPaTdiKBrH6ykGPSa7LQXYu2qLno1gptSR+t/nainC8SMfsw73ZZEFGc2E+6u49ux/5Qn3veO/LlO/smwRbtXveOiWznvPXNNcA2GbsZq3y3kWvQeaWejbLNOsJbfsJ5pyCpl4uMXLfcJWEfpp97nni9Ot939jlnnYBzPuVaZXzhLowSN9yd0OUR8gLnSH+BEPMYi6T0Za41rw/mHnIMCy/Gri4G0C+dYzuRXWN0PztRzs8pAm1LztXMzuxrN7fdHNBm9BlyrMViseK7XEPMD/SN6oNzg+MY81Bdj37FeeiKCowBFUdZUO24VFcsqKJTBOGtRwThLcIXv/jF8V3f9V3jy77sy8bv/M7vXPP/+lKZD3zgA2ef/cmf/MlYLm/uS2W4lYSBr1u0JOwVbJiIOkG5vX11uxsXfQUbE38HXgYQ95PBjuSMBKASN9vttuWZfJiMc2wdyaGgq+O6LxSZVchoiwq0TAxdpZ99Yf8rKTHZ004MqLQFA7oTHvtsEcg+Myh3xQITIPaZ8+nkx4RAAjEjoFeuvRx/+28vx4/+6Mb4uZ9bjJ/5mY3xj//xcjzjGVfngcmG5MXzWT5sgmHCUudTkHHOa1z0L5KdrprLMZJU+k4y7UTfLJvxvFnVmD7juez8nmuDBMEk+2bvEHYElHNAYkzfNhG2r5hMei7rLq0LDiY1Jkz2TX4JCMkkj7M/ca11RLM7p+zl7ZMm0rYFj6kxdu1Y+PKuOgkgt3d5nBTu9GXmERNGEkP3q9tixrEyHnT+y3NmPsx1b99hPOvWqteg/89iIvvloivbYb5gzJnNLeeG4+fOCvbfNjsvhvNv+ijn0OKsE9EsjNaXtdD+zkt+eR11ubByINeDhRdjX7dzxu3T/xgHOU6LNvtcZ2t+zjzu/MDxWHDxcROL9ZqXjY2NleJL1z53BpRQ62KKx0nfck6nP3S7kBiTyv87buf1xH6UL0UQ3h5EEN4ivOUtbxmnp6fjf/7P/zn+9E//9Oz1f/7P/zk75s1vfvN41rOeNR555JHxqU99arz61a++6Z+diCCMIPzSFYSb14yDd04jCCMIIwgjCCMIIwgjCCMIg5tHBOEtwowY/ezP/uzZMV/4whfGQw89NO66666xv78/vuEbvmF89rOffVLtlCBk4iYZriDAZwCdbBkUHRB4HIkoCToXtIl79zyjfxeIhMkkldv6GBQ5TosTBk4GYSYCJxEGLpJJBn4mYiZsC0J/OQn72SU1BlQmhN3d3XF0dLRyfj1Dx60pTFwWUJxrBnUnHgZxHmMCWp/TTraLiUSd4yRE0cXtpTxuZ2f1OdJOtG1vb6/8riDFIZMnCTeJViVlEoFKxCySdKKL64Htk9iX/Xwt+jBJhpP37BzOj32bZNiikzbgOSQVJLNcDzznZraO8nq8hos39h/66ozw0TdJxExeKOjct04Amax2xTPGsC52sA1el0KJ46adGGtuRECUr/Has7ngGuCYaDMTO7ZJon1wcHB2nLfMdsWBrlDIYk8n3Lt4w7mZCQPa12ulI6O0mbdLcn2wz7u7uyu+4bU5I8P2VQoFF9VccLJw74p/ng/mWNqM7TtHM6ZaTHX+WL7C852fbfs6f1ZM7GI/x199rHHXT0kwhm5ubq48SmDuwzVhf2QhjLyi8gwLK50IZBxmrLeg7PKNY0Tlp2q7iwMWe7QdbW/+1fkm+1/X6gpozo+z9elju5hK20YQ3h5EEF5w+A6hFyCDIAOak0Yn9KoCWWS9u24nHDuSy0XvKpcDA6vx/NxEj8lmdgeC720PntMJUhKZEio830S9bOvxu6JdgY4J7jxxXMcwkbma3d3JrOTQkazZD+CyQmqhYNvSNyyMmPC7u5pMVCV8O4FKocgE5YTjhOvkXgRhRoroK5wbJljaqc7nN5vO/Jl345kQLfaYcC3aqz3OjxN+R1g6H+O8s/2OzFEA1XU7cXM9Ici2OyLiuXQc43j8P88fyWP9j+KoIzyOYf7twM5OJj987+PcRjdnXhe0HcfZFWs6MtnNpwtEtLkFWCdgGN+qD5yLThz4uhYtXR9m/rBcXrlb2xU1GBPYvvviuWWb3fPGnE+v+9lOE/u8cxftSXFX7de3hvLFvjGPdHmAtuzENddgFw9cULUNuX54DuON7dLFRxdrqh+OfYzJjLeOBS6gVnHWOyAsgFm4pN90ccdj484UrgG3yTFX+y6SzdqxGJ7FE+fYTpQXz+hiItukncgVu50i9CeKO/o8dyQ4/1b7fKaUtosgvD2IILzgiCCMIIwgjCCMIIwgjCCMIIwgjCCMIAxuFhGEFxwlCBk0aqGaNHQJuhY6t9o4wBQx97eKdiLIr05oeYsdr80+e3sKRRxJikmOk1q1Z4LckZft7e2zr63mtWizCmAMqAx0HHslsEpidRyTkbfQdEmkzu1IGkmJ7V/jKBvVexKOjqB0W22cmJg4mEx3dnZWRFBnMyak2mrGRNAJRwuDGeFwoqfYJrG0n3kMdTzbr2Oqz91WXwuIjrxUsiYx4P86gmFyQJJpm9Eu9DP7J+3ZrV/2mcn+PNF33v9mAsIk0ySRc20x2IkWF3t47U5Qersfj2HcoFCb+Vb9zXjHcXa+VfPUxenOdyx0bCeLqPN8sM6lP1s40zYs8HR5p+xKktiRP8frGZm1b7Cdmbig3zuOOQd2NnMBhdfsxuD46ufCeQ4JtD9nTvJzj/Sbig8850bbpx8wblCQ2k7MUZ09HIPqnC7e+pEEr+3zOINFy8bG1e39HKtjn3NnneOCo+ezy0lVCNjb2zuL/VXENmfp8oDXTPd8n58HvF7u6n7XcRaPPE4WLZl72E6Xn2YFBwpHjtPckmPr1iDjTgTh7UEE4QWHBaEJfLcAXb2cBWSTBwfKjoyR5DLQ8fMKWlzsM2Lou1PdbxeyasXg4oBMwuMKVSfOaIuyMUUHk3JHMuurpxlgq2J5fHy8clfPVbiaixJPTsQU0iacHP+MaC+XV78oowgEn0fgXM98pXvWo8ZAYtPNJ/tsv6JAnYll2sp3s03mSHhmfk7bMvmy4ry1tXVGJEjQqr/0Za83F03KbvThbg75OQsbJvpe03VdEyz70IyYmiQxblzvbmD3IoG8XvHDsacTQyQuJmGzuGcBMjvGdyhoT65hihMLGP+vu6tqHzFJsn+apPsnfzY2rj6/7Gr8TPjX5951QBHA+GqSbNvxut3YGCvsw37OncKBJNNrgEW2Os5FMsYY/k2/JwlmgcDCn3HQa80C1YUbFyh8R4pzzt0pnGv7M/2O88xr1W+QekeMcyRjqOMt7cx1R9s6ZvnvrvDEz7e3r35ZnH8OqRPhFvu7u7vjaU972nja0552TUF8dleZ/WdMZ8x2+85VHedwvmT79dnx8fEKNzKX6OaJfeyEKws2tIt3OzH2d/yjWzeMr10cmY3fopQ5hn7inFr2jiC8PYggvOCIIIwgjCCMIIwgjCCMIIwgjCCMIIwgDG4WEYQXHN23jDpgOQlUwuBC7xbnLHDXNSw8OlHKcxnQ2DcH2S6Y1vldmyQFTnAUlA6w3Tj9fIK3UFU7DKgM0t12GCa1bswMxLSr543XIkHofgCe5KkSrL+JkyKObZj4dQnCW214LSZyCj+SVH4joefAgpLvO6FU/e8IJOeGNqegLWLBZMVnNbuk6PVlG1Ty5TMR3MpYx3NNdmRwc3PzGiLRiRuSQZIPk3HOgddKR9g4/+eJwRv930zc0e8tmkgO2D/bk4UKE1Y+lzz7BtnqY5En9ofvZ2vDxYaZqGU7tj/niudwzDOSyj7wONqJ88w++m/HiM7nvOWPeYX+6Jdtzrnltbo5r/ddXuMcco26bRZ8GO9tW85xHW/h53XbiTuTduYOFpxciKE/0x8Y36o/NWecZ6+1rh0Kb+ZLrj0Wcasf/DH6jiM4Xs+2fDI+UViXL3XxlX2hOO24B+eAvtGt7RJo3U8o+L3ji4WUOUzNW8UmcyH6EIvenT/wVdyGj2LwWt26L8HP/sxEIH3LOcExvlvf9FmOk35yenraclPaNoLw9iCC8ILDXyrDL+dggjivkshg6cDMxckF7yTcCRWKAQaqCuIO3hX0GJB9B4BVVyaorgJpkkkRY/LQ9dnt0p5ONt2dHidiB9Xuy1qYBOtOGu9+sv1ZlbBeDvwUYU4wTBy887JcXr0j4kDOxNG9LxvSby5dujQuXbp0DcFgInSlsqteOlky4fiuYuebTuLnkZ8uKddxnANW0DmH7NesEEPCZJJgAt6RIR/PObAYoSDs1jT9nkTGou96gocvXo9zQ2I4+xkVCxfGMc9hXdOkhISjW4+8rgVNkWgS6Zr7mbid3aEzgXaBg+8tnOpuFcdrktbd3fDdY8YAV+P5P8aRThCXPeqZ6/JRj9n5gr9nS1vY1zif1U+L7VlMnhVOqo9c0+xnd8fZfspr02bd+q7z+YVW9AXf5e0EZc1THcPfHuT4+bnzE/OS/ZYFik5olm060cB57r60i/3keOoc9sV55fT0tF0zs35V+7zLSXvwWX6uYcbT3d3dVhDy947pT10xthNUtAXXieMz16S5A23O4ifXN3MPRRvX3e7u7jg5OVkR4t26oc1qvZb/e03zxfZdYOh8yPPEcTKeRhDeekQQXnBEEEYQRhBGEEYQRhBGEEYQRhBGEJ4nCI+O9sYrXrE1vumb9sYrXrExdndX795FEK43IggvOLpnCDtyTqHjBOQE0S1OCygv7nr5mTcmYSYeB/kZKTBJZ7DvAq8JIoMLA/Hsq8cZ0GZjrPF35IcBtWxwenp6ti2CxGsmgEiM+T9uP6zkVfNKwsK5dCLn3HQiupJDt42IosUJ0Imosyfnjdc6PDxcIYAkI7QZk6+3INFXTNA7oWgBx3NMur31knalf7H9Or++iW5/f/+a5zYsYkiMOB/st4UXyTl9k2vDIrojhl6PFDdu43riz//ncRYXHRnn+WUX+l3nG+5XF7fKXl0c7NZC9ZPtu3913XqulHbjmuzEmYUi+23bdsLfMZn9nBUI7HMunnT9n33ucyyCOE7OEdeZ4/js/JlYZx84nzyGW+I8Js4zY0SJb8eWmsNufVnEWrRy3PT7TgxUvyvu2oZd0ZKx2tsSGdMo3FwIce7ubOg4ypjucXFOujjKV9mM88Gx0J7d1mB/qzX7WqKuhB0LdrQFr8dvNXfRhH2mcLK44Yu+xe2aAsZUvQAAIABJREFUFOLuZxff+N5xjGudY9nZ2Rmvec3m+O//fTEuX776+vCHN8brX7+x4hvkC50tu7jAue3+78K1c0zHs+p6EYS3DxGEFxwlCCsZMUAzKZGIONnNqj0MLueJMwY0Bk4nDwZnJ2UGBwZA3zXo+skxm+A4IPOLVCjoTJpJnCkoZ8msuztUbXRJqZ5nch9NTPf29lYSBIlIXXeW4MtuDLYmoBbSvjaFJz93ny0aq59MfiYf9BPa3YmoI+MmXCaD1T6/Ipz9YmJzQqVw5f9dzbeo5Bo4Odked9+9PQ4OdldsZt/q/I53ougfnajnWqHfc616nZQ/1Rci1d1nkhzOeSf6nsyLBNaCxGKj4hjfe32SAHNt07YWFrRhRya5Nvw3YyfX58bG1WepTGTYzqxgY3HIF8UFr81Y4zVD/yKxmxFLC9BZbJvFim6dcq134tR3n00SSXpnhJNxxCKsu8PH9WSRwgIm+8Jxe906JvC4WWGBeYBr0XPLNWPC3OVI+oDvfPJ4xgQWh+lPzrfOhZ0/WRD6DjXFGq81y9Hn+SDjK+/i+fwuXjPfOl877rLYMOunhXJXHKZAdtytNo+OjlZ+X9h+13Ekt7e5efV7AihE6U+vetXGuHx5MX74h5fj3nsPxwte8PzxtV/7zPHDP3w4Ll9ejNe//up1LeIqvzs+cT5dsOk4lIuFXRyhnzK3RxDeHkQQXnBEEEYQRhD+9RGEL37xcvzYj22cVWA/+MHF+I7vWI7j49VtuhGEEYQRhBGEEYQRhLdaEG5sLMZ//a+L8aM/uhx7e1eeH3zBC14wnvOc54znPOfZ4x3v2B4f/OBi7O1d++hFBOF6IYLwgsOC0ASS27Dqc+/154L011t3ya4Tix1holDgdqe6BgnqjAzy5QBNksBA3QmDLqhej4x2xJLJgmSUhJdknH0mSdzauvoTBv66cxOWTpAx8ThRsS/b21e3pnKuLErq/NrG0iUifnso23eypm0s2JlQOC6Og+dTdHluPJed8HXCr/7ZLz2fJFkkb2yT9lwul+O1r90cjzyyGD/1U8vx9/7ecnz912+Ot799e3zkI4vxkz+5MY6Pt67ZDkS7dUKdgrxIFeeKZKzbkmX/YJsk8Lwuz+mSONs5b6to9z/HC/oJyWTn2+4PyTiP5Rqo8XaFBIsjCkXGN9rUcaMTLT7fY+hEYH3erS/H4U4M2QacT/bffbHNOmLOdVvxgd/cTF+dCR3aj75Av5/FdF7PRNkxlcSyK4xaFNqW3XuSYcYZv5wjeQ7H04nizk+6IkHZmTmR72mzWf6k/Ti3bnM2Hj86UDHNhV/3n9fq1pOFF8/hM3MUlM5vjm88rnvR3nUNfmMnOQ7zg9cf43i3ZZS5sctVXf5njPC3ejN3WVD5W0rvu29zXL68GF/zNVfm89KlS+P+++8fL3zhC8cLX/jC8TVfczouX16MBx44viZu0U88ni7/s//0x1pHtD37yTXiNVxrPILw1iOC8ILDzxCajFfgIFFhsjMZdbJ1gqj/+zgG1e49yY7/dltdJcwJz4mmSzy80+Nky4RlMd1dt2zDv+tuo8dfrxpL12cSFtuJYpp/O7Gx4tv1320Wia72mIRMKirJb29vt8LVAp9f/U2/Yzu0Dcfv5ME55IuJx+LW4+lIAd93Asyk03NKQWn7npxsjI98ZDF+8Ac3xsnJ4dmX5zzvec8b9923Nz7ykcX4ju+4msidCHn3kyTPSZlrhb4xI7PdujKJ5137ui7PmwnAJ/NyQcBzxn6dV7Vn30y6ZySf/2Of+Hlns070lUD0i30x6bXApnD0ObM43NmJhbSOWFY7JGkWTowlbNPHzQT9xsbGSlGBor770qxOgHOuu5zANlnAKb/t7vgyvtAutdZcMOjG2RVLnIc2N68+P2bxx/f0qxnppn06ocZYSNHR+RkFVLXneFmfU6g6hvJ6XRxlDKpn6GjXbg1ZpNb7siHnjXmFNqdvOdfQ12kb2pPikjGUBdhufS6Xy7Pf+Szf3d/fP/MBrgfPIW1Z59tvXLzp1hn7XOO2QKRo+zt/58pulUuXrnx26dKl8fKXv3zcf//94/777x933XVFEP79v7+/cr65BHeTOEfOeCJzv+eN89wVvLiOIghvDyIILzgiCCMIIwifekH4Td+0MT7+8cW4++4r24AoCA8PD8f3fd/W+OAHF+PgYDeCMIIwgjCCMIIwgvC2CMKv/MorgvClL122gvDFLz4aly8vxqtedRhBuOaIILzgKEFYi5LB2gSMC5bJgUHA2zcZ4EnYHCwpNGbEtgsU1QaJthNZjcNJYRZsZ23yehQEW1tbKwKI2wpNnDrbMCk5cbCfJLq0DZ818POYbJtCy4G/E4rcLlx9JuEqO/MbEktEcxsOn0+o8y1o2EcSK84Bk3In7tnvjrC4vc63yxbc9kN/5PZL9o2+YYFLAs4+k7S+/e3L8VM/dWX+nvGMZ4yXv/zl4+Uvf/l45StfOZ71rGeNBx+8NC5fXoynP33njBAwyVpEdM9dlp90QpyfU/R2JKxLviQlRejdR5KWJ/viGBhTuIbYx5mIdf/5/FMnAEpo8JyOjLPNzm9nfeN7x8ruHNqcBSva12Om6GHfak1WrKTIoh/w52YsBhgrKdzPi9f+X1d8sJ25buwT9OeuHc+5/WHW5/MKA4wVJPdd+45nFrgsAHb50n4/Gxt92ELFYrUrBFkEugDbrQH6E21ZcZNzypjC6/H/7Jf9vxM9/LzEWCeIPOfsC/vPZ+75P8Z75gT6Ta2Vap8Cl/mGc1lrpntO3XnZBdEaE/N65anqY8eLbLNZjqdv/8zPLMaP//jG2Nm5EjOf9rSnjbvuumtcunTnePe7N8bDDy/Gzs7mSrHEPsu4dV4M6Iqutd55bdug8h7zUHGOCMLbgwjCC44ShBX8HCC7RMxAa9LtCk/dBWOwPzw8XCGbswXNBOM99UwarmwyWbHPrkQxqTDwdBVwV7ApmLa3t9txmsjUA+BFsEggOxFJcVfnd0nVBN6CkMfxf3wwnknUpIQJr6t4mjxYhFJEVSWUc+ukyjFb7HLO6xiLTZNhJhtei8ebRNHP6pyjo6OVz3l+3UlxZdd3LfyTINXeQw8txs/93GIsl1f6Vj818sxnPnNsbW2Nb/zG5bh8eTGOjjav8V2TDNrPhMsFk47YcMzl+/STzp9M/Hl++bzvqs1E3+wOmn2N4pJz6z5a4JGMzcStx0jb0OaMUxZtXCudOOAxfu8dGWyf80dCR590G7wW458LJyww8JzuLh7bo8DxHBwdHbV2rnXQfZELr721tbVChG1X9o02pM9YJFBcdKSd64S2rHO7O7uzHSieD4sWxsquMFhj7ebN67kThO7D5ubmyh0p+q1tWOPltVnYsgjk+X5188zr8kuq6u4XfW22HmzL6jfFiWMm1y3XuosHXY50kdACjHMzK6x5LPQ1P9PY8R3PDeewuAjbY788ZgvELi++9KXL8YlPLMa/+TeL8bKXbYynP31rvPSl2+Nf/+uN8clPLsbXf/3VL4frRKz9ucsVzkNcp3UcOSRtVuecnJxcw1EqnkYQ3npEEF5wWBBysTq4ddWexWL1t8Fmi70LiDymq2B3JIsk32TGhKkLKN0dMgfOjjBvbGysVP/8xSms8nZipgvcFA3VF29HYnXelV0mKwZEJjQm6RpfjdGil0S55pWEh+SBwtmigQmOCZ8J1AmeyaK2wZhMMwlQaJTdfJ0aM8dF4Wliy35yDjofZJWzyA7brmt72xF9hv7xt/7WFcH3tV+7XLHTFbG7Pf79v98YP/Zj197F6pK3CSPJj4UGr9etYa6z+pzHdHf2SZjtM9cTftfbMlqko+4GdNv97JsmxzNi1cWqEkm0zUw4Oz66SNLZr4uVVTDptqa62EAy7nN43e6OiAUx4wh9i3aaiT6fwzFbkHdro+KZt4F63XkN2W/ZH65hrgH209/W3NmP46x563IMSS/fOy7NSC59w1/O1vmL1yfHTKHo2D0TKp044tx0Yp0xhMK9+kUh7yJIrU8Kf+ZBC0q2Q3FtO9Xf9Q3m3bZdiwb6Zndt8gL2mceb13ANWJAxX7KYxy2n9C22x/l2jrOfcF2weOT1xXXH+eDYXvSixfiP/3H1dwj/839ejFe9avua9upc9pX953pmTiq71/iZBxmvGG9pJ949rbFVXIwgvPWIILzgiCCMIIwgfOoF4ebmcvzETyzGhz60GC996WLs7Fzp0zOfuT/++T9fjkceWYwXv/ja55oiCCMIIwgjCCMIIwhvtSC88n4xXvjC7fGKVyzHV33VxlguN67JfRGE64sIwgsO/+yEv+yDwY2Ljgud/9va2jrbssDEzmNroZtMVNCxIOmSoAkw/9eJCSdfBkhfo863yOgCqUm3/8/A5aDIL5XpkqITJtungGE7fAbCSd/XZoLrtpmUP3TtmPDxmTvag8nO9ugSXI2r+/IYJoidnatbdqsvTLhMpCTgbIfFAfqKtwLO+kzisFwuV36jkrZhsYD95xbU5XI57rzziii8fPnK9tGf/MnF+PjHF+MjH1mM171u9XfS7GscM5Otiy0upHTJn+KtyBmfT+lEYCcm69VtCz1PEJ73PwuSbsycS1/PftuJGz8HQ8LiWMWY5mM6MkT78P8UIR6n7dbZlnHRZNRtMT6ZFFr8MXY67rovLCZRXLjvLtZwrdrGJsTui+NHZ3+PibFzsVisEFD2n+fbzyrG0k4uRNAfORb+xiPXzkw4W9TO7ET7k1jbzvaberHgxnhq3/b23C5H227Oq4yD3YsCp2zR2WmxuPangNgOc4/zqvNY2ahsw9zJ9+QRzBWVU22HEqf8zOvkegUjxz3mIY6PvtGtz8qttlUXxz3H5hP2iW7s9f74+PgaDtj10+u5ixvmVp1AZgwse0cQ3npEEN4mvPvd7x6LxWK87W1vO/vsiSeeGA899NC4dOnSODg4GG94wxvGo48++qSu6zuErswxmFxv0TG4VoDtSEkR0Y6YeIHXi8G92vaP4FbQ6O42ljjpSL9JA5MNAyXvTpA8eCy8C8fERmHBu40zO5m0c+x8FsPfzuYEzOTFL3ip/9ezJEUieDzv1s1IJhO8yZiTOkkRBWmXBEymfLfCxLxLak4qsz47qTjRle9w/OULfNal5ol96d6XXTjmK+dvj/vuW4zv/u7lePvbN8Y3f/Ny3HnnarucX16bSZnEjnZim/aVzrb84pLyj86GLrbwuuzzeWLvvFdHsuwrrHJzbZ1HPigUSNJ4LdpptjZNUGZjtm27uFmCv/vxbBIzro2yUXe3iUKG/eTnXEfuEz+zOPaLNuju3nbzR7HciXXbx/7MtdeRducuiwf2rbsTY9LvmNKJZcZUjsd3fvg/ipsqTJQv0O4cF+1ZRVTnRBdJZjZnEbHGUCKRcdW+0eW+ivHss+fA68bCiHY+rzDnwh7XPu3MoimvdXx8PI6Pj1fiskW9d/t0d1g9PxsbG+Pk5GScnJxck7t5LXIu+2K95xe32Ucttq6XL3m3s/pbx7CgbOHsnNK1yTljfiAvs3Dk/5zvbVvODXlWJ0jrmIrnEYS3HhGEtwG//uu/Pu65555x7733rgjCN7/5zePLv/zLxyc+8YnxqU99atx///3jvvvuG3/xF39xw9eOIIwgjCD86yQIV8UV7RdBGEEYQRhBGEEYQRhBGEH41xERhLcY/+t//a/x/Oc/f3ziE58Yr3rVq84E4WOPPTa2t7fHww8/fHbs5z73ubFcLsdHP/rRG76+t4yapHKBmYAzmFis1SJ2Qu7IlRNBl5R4LZMk95lBnImfZJZizwS6PmdSr+tRxMzEbidu+U2AdYzJXF3HSZrEoiM8JCVMdBZbFIHnkTr3v65t8dQl6LI5yRyJrbeqdITbIqhsTlswKfpnEyzcaLOOIJiE0gc5fhIeE2uThM632H6RJfaB53c+xM85/ll/LMhq7ThpOuHb/iwcWJxR6NCOHSm7WTHItUpfsfh3n0gwui2jW1tbrejiMXUNtlF24jPDjic8Z7FYrBSSumIH10kRGM47x8/3jC/2FdquE8sWYI7dnaAkyXTRgn06j0wyVltQdLGmE3a1Fu3f3VpxPHL+Yp87MmqByvM7H7WwcKzm+p3Fdz7/5tjDdrhNlfPn5zE5Tseszv5eJxyDYy3zo8Vd5w+M6RUL/ay8C3C+Fu1f7yumMo7RHl2+Kv+oAivH5mfjfK6Lf/Y7F4TNf8r+LLpxPizCu5xUHKlb647DFM7MNX5etftmUL/3uulilYsY1WaJwi6OdWus5nSW47y+eA7zTgThrUcE4S3GG9/4xvG93/u9Y4yxIgg/+clPjsViMT7/+c+vHH/vvfeOd7zjHTd8/RKEvKPWJR4HcScriiUmYiYIE+7ufxsbq1+7zGMYgBysSQBnSY1JngGJgZOikcKjAnQ3ThPsTtzW8bOgTqHg/nbVLyZSkgKOuZIcn5UkAWY7HbH2a2Pj6rMzJMPsW4l3k9XuK8d5PgUQn2VkInFCr7GUL1iw11zwmcrqBwmX+zMTvp2IrOPpT+eRQfpsVfLLr2Z3VLge/aUN3ZyZZLNNjs0Cufv9LfppJxw4H/STbm11opDk4bzXTHh1ZNpxy8KxIx8cs9/7rli3Nhgfbdvz5pMCiM+lcZzb21fvYlgU0T4Wa52duDY4fz6O69aiocZhMTKLqbaT4x7ng7GOfeOPt3NuHVNo804Eu2AzI+oWzo4BPKfsxDt8jLUeiwUm4wz75dxXtuGYnWNIhvk5hQrbt+3oGxyL4+EsJznu+XPG/Dq/i+++e8u2+H5jY/VOKnOsvw+BQoZcgzmZ/uj/df7E4zlnFs5eW7xuFZeK8/h/Na9dmzUGziH5Cddwl5/qPLbp/7mIYD7mfNn9JjN9ruJEJ9C5Buh3jgnuO/tm/lGxKoLw1iOC8Bbiv/23/za++qu/enzhC18YY6wKwve///1jZ2fnmnMeeOCB8aY3vWl6zSeeeGI8/vjjZ69HH300gjCCMIIwgjCCMIIwghD95PsIwgjCCMIIwuB8RBDeInz2s58dT3/608dv/uZvnn12I4LwNa95zfjO7/zO6XXf+c53nrstywmSC3AmEjY2Ns4IC4NtBdUKrEx2vJ6/HpoBgYGKAcRBjcHahJAJisHbQqCSCRMHAxKDlff0V/sMjkx8RfgpfLrk6+DKpMIEx2TF680Cusdsktdts6nEU9dmImZ/KWzqeUband+y2ZEsEhn7lW3Ia5FM81z6Df2uEsNisbjmJyx4vH2Lfea8WKSQsHSEsyN5FOsWszWftInt3z17wTnjFk/ayzbjGpwJLRaNqg3arIsPXnOONze6ZbTzVY7NpIZCkz7g+GRBY+JRc8X5sAjrfMbCqI7je/uT49HMB7hWOKeOyxaNZS8WHixiaY9umy19yyLc/eyKIvQHFz94HEW4x+a1yXYYxzlmrhsXE2nD7loW9xalszhcx7C9Ov+8XGpb+plvk136Vs2n4x9FRIlXF1BdmOO4uCY4Nq9vxzdej/3v/Int1zkU2zzuvAJjFy/pJ8xjjLv1P+YYPk9HoekcTaHHue4KLC7WzAQ2uQC3PfN8XsMvjt9+bmHV8R9e12vAMb4KNuzX0dHRypg9rx1nc9HC8ZF9q3nydm3Pf+WBCMJbjwjCW4QPf/jD11SmScgeeeSRm9oyOrtDWAmAQZ1B1O9NEhlEO0FJUt8Rn46w8bkCJkyTFwYKEkO2VUHVgayCUycCmQRYpXKAZbCbVauK6JPkdJVRJsGyTZdwOR++lglW/Y/Pq/D8ra2rlcQiMPXedw/ZJglPFQSqHRKTWfLl/DHZ0p5Odp2A4nl1bpe8KbbofyVkO0HOeSb54rw4kXmtsH0KudmaMnnh+uf/Sdq5hti3TgBwfmkDCq3zxJCLGUy6nYBw/LpREcjrdaTVwpXHc/68VijkSXJmd9xJOEw8aYvZHQSuW/oT/d79JukyEaIgNzHluYwj3TGeJz7bazLbCT2LaNqN69F3O+2nLBDQZvSbThwzB9lPGANsM97J4//YF8+ZyTxJO+NDNzec8+7Fc3gt/n93d7cVJ10+LntxXFyrjsndXU1et/rfxc4uL9c6ZW6ziGIe6Pzc8d5+buFTc2570m8rR1VctQDjnPNc84WZoK954S6OspN31DhfdH7PPvBz9tOFJefrWR7j57S7592xiEKX9u8KsOZojtWcU/pzZxfzpPoyt9o10BV/IghvPyIIbxH+/M//fHz6059eeb3kJS8Z3/qt3zo+/elPn32pzAc+8IGzc/7kT/5kLJc396UyEYQRhBGEEYQRhBGEEYQRhBGEEYQRhMGTRQThbQS3jI5x5WcnnvWsZ41HHnlkfOpTnxqvfvWrb/pnJzoSR1LhQGvCyYRK8ccFTfJpcWQRU/9ncOkWuq/F4NUFQSYvPntAsdp98yB/RLyu4/6ULTpiSRJfycXj8rUq+bM/JDIUMAzotCvH6bllEGZAN9nhvNd4+LMZnO9q00m6igbdPNtnTArKngcHB+PSpUvj0qVLK32pNui/dS0WFexbfnU2ICmhD1OQ1hjqOhwnySd92cTKSbwj0BZYHvOMPLDPFqGVSEuUOFH7eAofimf78Gzdnif86nh/xj5xbHzWlP30+Y4jnmOSuZqnbm3ZfjOh5LmxIOjIpAsxjB30dYoW9sVk1jGhE7G8Vs1r9Ydb1EyGuZ4c003S63zGV77nXJl8k4DSzyzOZ+uBa4jz2dm/1gLtNBNds7Uye919990rz+darHKcZZvOXzobOHZXv/yNzJ532vl6/lw29PbiOob5yeKec0Phydw7E3AsUNBP7NOe/+rb3t7eODo6GkdHR9esja79Op//Y3zgPHT+5DzCYl6XVztx5HEx7txITLI9KdA552XLbjtnF1O7Ncj55Hg4h90xXd7teJnFqfvG9d31k/EhgvD2IILwNsKC8Atf+MJ46KGHxl133TX29/fHN3zDN4zPfvazT+qa/tkJLti9vb3pQ80kTwx8JDZMsCT91VZH4B0sGQSZoByIGRC7QFHXmwVRBiRel5Vh9o2//Ucyw8Bbd1vKDrO7hxShJlVMMEx2rkzzjliX4J3IfCeMwbkjdeeJcN4NKCFLG8wI5KxKv7W1dfb7TbM7Ul3SmpHT7mcvPP9MJq7M0n4cV51fz52wCNJdizbnXee6VjfOWbJz1ZzzxvXA4+q6vlNf67YTd5xzPivarftZgYbHcK1cTyD6LmEldl+vxGlXhKhxd+SDRNMkr+xXx9sWndi1cO981Hdfu3VivyGZ57o0yeK1fVeTRJ1Vdo6DZNiigTY/T6ix/VmBgedTuPA4E3iSfIrTWR6ZxQrOT81zl0dMUtn/rpjA80qYzXKK163zWh3PsdA/GMNnOY3xtZ437+aBn/F3A6sAxrjSiVgLIRffaCP6kIt+NUbvjqFt+SU9jKn1vmIL+1v/Y0GX7Zs7lEhyEfzk5GQl3nM9VxvFeWzTyoddIcax0zmC+YHxqc73M8/2BxdPao3zWuQsm5ubKz/11eU7rzvamcdwrTJuVL+qHcc3+hntxPHwff2GpGNy5fy6TgThrUcE4QVHBGEE4UxYRBBGEEYQRhBGEEYQRhBGEEYQBtdDBOEFRycIuei5SLttPzy2AgKDE4ODA8JMHDHwmoBV0PQ2CxNSJwQm8y6xdUmN2w39vIPHyfcd2TCx4Zgd7G0/BrpOXDGY8mcrKDyqHT4j0okszq0FCZNxzY+FRQkw2q0jBTPR4GRjQcS+kjBtbV39RjgWJUiMSKCdxNgm/YE+Q9u4z7Q7nxexUGPf2c/ZNjGL6K5wYPFeydDHea2RuFtodHY2sejEo+e51iq3fz6ZV50zEzqzsdB+FmHsf0dY6DPuz6xI1ZF9xzOvVdqcsYICrUgnr9fFOvuKyf/MnxmfPAY+C2WBbX8ugcl56wQ6563szM/t/45JvrZt2Akqxk0T262trfYbEjvhyfXDHMLzymYUN85Ds0ICfdj5kTGnrlvXtshjvmMbtX3SdprFavo2BSkLKTzW+c3Fg05A8FEB+p7FVQkuP/pAMVA5iUWN+p/jK9skJ9jZ2Vl5VpN9oj91255rzDynrlnF7lnc6J7rpt9xnVgobmxsrOS+bt2zn7xujYVxlP+jLfiif9EHna+7OFjnzn4Cq/Mz/89xrNYw/ZTxP4Lw9iCC8ILDzxAycPKunhcwFzkDHwkDgzMTkwksk7yFyvWIjKtLFJ4mLwx8rEybsDnwMSGQnJOwcZzsP+9gzO5iUMywfSbLmgMGTt5Vpc1ZGeZ1+FMZM3FT5+3v7688tF1JhAHaSa/uUFpc0Z4cS70oXGrOXJ2uuWVC5zmstJPMun2SUYsBC8zyh47UWJwzEfOuHNvvkjUFekcE6Ge2B9enyVznZ0WoZ8UHEo7uGMYJ+yAJB2MFr+cEfaMvE5tOYJkAOzZwjiwWLYhpC4tQrgeLNMcKkqRO9DDW+k4RSTP7yfhGHy470WYueNiH/fnsbpXH2q2NGmMX7y30OmHrWOzP6Wd1jAmwbTa7Ps/xurFw6/yB/uW7dZxz+iZtx7mxnR0HXUisth37Km53d4L53tdmTGZfafMaf9cm55P+U8dxrfB85ruOFzC+W2jZzvbn7otoLKjq+PqpLMZk5iqOk3GP/fQYO3Hl8Tv/dfGJ5+zt7a0U+ewznLfuLr93c1SfXaifxUrHOuZiF+B4bHEI3n02z+N8uC+OFR035I4k30GuMUQQ3h5EEF5wlCBkMGSA7BK5q0gWAF6QDLYOmue1SSLEJFQijNcjgZ0lZf7Nvjpwk/xxfCaTbKu7lu3U3bG0oDVZMDlimwy6nCcLGyY1CtMu2VjQMnCbiHf9L1tXUuJd1hvZWlLBu5s328a+yc9I1Ng33u2yzeiP/N/1yGxVqUlmOU76MMkGyRgJDAsMLhDM/KDzm26dsG8mebwGiT0LQZ3tOzJNO5nfbFVLAAAgAElEQVRsdELnRu4UdmJ1Jkg5fq9BEiYSzk541xg6Ynneuve66Xy3CisVW7i2ONf0W47HxN7+yfZsA2898zFdjPa6nxVafK3ujmH1d3YH3f5NEVjv604cfbazJ8WNY5m39Xf2Y4zz2psJpYprtYbZR/aNtunypvNjzXlXvLL49brv7pjSH8qmFh0Wd7SjxbpzTZdXK+f4S114vtu08O4ETeWd+tt3aasNx/+uwFS26eIO+8w17ILwLA5yPrtvdK1vQ2XsZV/YX+9cssDjdWd5mDGFx1lUd/NUc9WtFccArnuKbe/WYpGu2/VxXnxgXOLaiSC8PYggvOCIIIwgjCCMIIwgjCA0qYsgjCCMIIwgjCAMbhQRhBccJQidtCtwk7ww0dRCrmDCYMMg3iWrboFfL4gwCVZAYB8YHPisQUdeqj8M3Nwe48BU1zfJ6p5rMUkyWSCB77ZBOQlaqJBkdGLAf3s7ZtnMiZRJzYGWJKr7CQySks3NzbPnVCyi3c9OQJLAbGxsrDyX5HboGySWFpi0Gdu0L9DuJBX0IQpq259/kzDRx/0cDOeJ/enEnoWoSV9HsuiTNWdMnpxnXrd7Xsd/0x70ExOhTlw/GTFoUdcJUsev+ry+HGFGmqvPi8WiXY+eD27voj+ZcPNvns8+cLuv/ckktYvJtgmvzdjZiYM6n2uL8YnzyPM9FgvKzoaM65wnb4PncY7PjK8WRx25d1HE8dHk1HNgATNbm85Z3XGMB2yX8+b1OBMAzl0UdIxVXgu0Qc21iwLsp9exhUYX32kzC2HGBwqdEjVlf6+hbt1anNI2LEC6/U74e61zbpijmHspKD0W5/IuR/tLXXisfYXxlfPHvlpQcT3xutVP5srqQ53LrZ0uVvA984h9qPNbtl98i+Pp5tb95zVPTk7aONTNZcXDCMJbjwjCCw5/qQz3YLuSykVGIsTnahg4meAODg6uqSh1xPa8ShzJG5MPK5YOVPzcArMTFzPCXUGc4yRx6MQVA1o9w8fn/mZilZ8z4XeC00KTwZ1zVGOh0OlIFsmCbWhx6iRXNpqRB5ICvr/zzjuvEZccT70ODw9XCKht2bVD+/l6Nf76xtjuf5zz4+PjlS+NoP1oN9+V7ERo+Qp9ndczMaqkZhHQCSWLfd9dYjsd+TEpccGI5L6+DdYkqRMd3V2/7v317hR2BLRbR13fu/VV/eX6YSGIBScWTBgvXHjhvPDFPnNuupjTCUITaK5n+u9isWj93mKI/u41QHF3vVe3Zjkmrgv2i+uYPjibc8cd2mln5+oXgszmgM/E2Z9NzBln/Twdx8lvkmQM4DmM1cw9zGu0U3d3rc7hs4Iu4NE3LCK7HMNCK6/DuFe+xHjLeWWOZa6wMKM9ZgWn6pdzrfN1189ujBT1XOuMb50YKl/k/zhO9t9fYMa/OS/d2jBn2draar/l0+vWMY7zwTjS+bnjO3/PlbnT+YpxnzGyW5MUcV4v9XlXUOYc0mb1+XnXsxBlXo0gvD2IILzgiCCMIIwgjCCMIIwgjCCMIIwgjCCMIAxuFhGEFxzdz050hJOJnIuuAgATLpMAF+2MQDBZnCcgmCx4PZIxBz2SDwYYi9UKJnxGxcS2REkFayZybplwUtnevvrtp7MExX5Vn0uoMGHXe4+NdvI2k/rfycnJShBmcGWyM3npyCyTPYmAtx4xcTipMQkxmFO40ze2t7dXvp2OxInj4fm2TZcsSXo60c/3TDyV+Ov3Ert1Yz+nLU3Ia2x8vsJr0NfqnvkhmbTAMBlyAaQIOo/hXHj7XSeOZts9ryf8Zudb+M3EJueW42ffOoJlO9BnGG+qvY7YdQKkI3Bc3xakLnB0saLml/7B4xhHO6LvWGuix2uxz10hxzakT5hYkvQzVthXudb5eSdAqn3ak+87H/Mccn3w/Sy+Vr7pfIhj9s91MNbQVxgf6PuMO10u7Yixi3m0mXNHJyLpW85JPsdxzPmhYlMX+zjntBPtaB8+PDxceZ6OY3GOpVjrzuGasOig3/OZ1M7v6vr0fz7P7+J0J2i9RhyraJPum5s7gd+dY5tZkFp42U/N+bqChWMn4y3t7IIubcLxMwZ4PrymuFbpa1xTEYS3HhGEFxx+htCkdUbKGDSYIBkQZneUTM6caDrRyEVv4sjgYjLuIEzS1RFoHuugNxM0roSyQmgiZeLZvToBsLl55dm8Tmw7KVrQ8cVk14nDSsYdcZhV7/i+2pglX4opJlseW5XvOqa7q8q5qHFTrLOf/I0izg37yHm3WO7EJeep+t0RaAs6C4hufdDmJp8+vkukJrlsn1+UtFwuV+6omCTwLnG1QYHnIo19xUKpE9U3cleQL/qkCfzp6ek4PT2diqmyQUdyHJ88F51tLVZmdvI81cuFC5Idk0bf5aXdebeNot7EyISNbVhEMGZ4Xjuh1rXT+cBisbhmLB25n+Ubxv+yK+ePBLgTzY4hFttd8Yfj6nan8H+cQ+akem+h6LgzExC2cb2f3SHk+ZUjO+FKf+D8Wyj5zlN3x9fChL7KuZ09h9vle9qN664rQngdcA1451O3rp9sQbra9k8c8Q4x25nxAv7P+bwTXcyJ7GPZnP7gooJ93n7PcZ4n1DgGx75O4DumeU3Tb7sv0ul8oON5XBvcERNBeHsQQXjBEUEYQRhBGEHI9R1BGEEYQRhByDmPIIwgjCAMrocIwgsO/+wESatFB4OWiQCDC3/QfEbMuq1MDtYmPw5UTPgUrgy23uZKodH1zQSDAZXBd2fn6g+4+7kin8P3JA8kDNwGZqHXEQb3eRYgmYx5nEkJCROPZ/Lb3r66ZZO2rZ+XqM9nWw4tvOkLdUz5DcdMH2Gi5Lem2ZdIEjpftaj3vNMeHRnm+F104Bwwic0I13mvGt/Ozs6Kz5hcs58WIBxjZ6uyqxO+39cYTYCKdLLNLnF3W0S9la/bLuotf921SYp4Xc+nxai3HTtOkVQUqelEg8U++zcTexxLJ6BmIrQj0G7Tc9AJLV7Xvs7iCYWGbUMixznk+45483pdvOX5bNdCi8dxfRY59ufeVuZYSZt1edCCwPmyE6f2Kcb7WjteD1X8mM0z7cdioHOI12Otp+pnCZTy4c6Xqj3G+5mdGA+Oj49X1iRzF/tSY2H/Te49BrZDn+N8UjgxjprX8L3Hwzkjr+H1OUYXNWYFG8ZU5kmLK46Z8cnbpLkmuvmgLdivylH0py73ebum57rLnRaBjDWz+M11w2Oq0Ot4Qx+ljcr+ZcMIwtuDCMILDgvCrrLTLWCSIi5IBwNXnWrxn0fGZ8GRx1el0cR0Rr5cyWIQYlIh+egqjNzHT5JRY2bgtF1oVwYvV8hMGBkgu+ob58aVO4swkrTZ8yZdVdZzUASGZKLGQrHELxPqiE1dl/26nq+VzSm6KNZpGxIOk/b6QhT7htvv7jRQqNjvaCf6aXfnjYnQvlr+RDvxeCe/jgCbiC2XV+8KWpzRzh3J8t1kJ2ASEV6Xn5v03ujLJOo88tFV1i3wGEdcLOEaIGH2fJBMdsKbccg+WX7ptc7Y1PkiYwDXlsdpUXx0dDSOjo6uIbqOy13ssj93MZ0xxG2U8ChbMr7yOi6umIAul8tr5oM23NvbW4mV3XrufLXLCRwP+1+27tYd/dFtdz9Z4PjM59fZR/88w6yowxjFWGuhZ5+y33ZFVsae8+IzxYfvxlbcsXCnUOOcU4RanNA3ebfMxcjOTyjI2YbtxLW6vb29Yv/qJ7/orGztInTZrivsVVuzmNDla+bb2vHBNcnjaBv6POfStnExzfHI8Yq2oc3sMxaaHU9jQZo+zDxbx3W+zLmt98XxIghvPSIILzgiCCMIIwgjCCMIIwgjCCMIIwgjCCMIg5tFBOEFh58hZICdJU4mRBMBLnwnm47UOHnNgg4DTX3OrUe8FvvGQMFrs32LKIvhCqy8xnlb/pgUmURInmmbIgomSJubmyvbOXjt2rpjkuU2dnd3zxIxE5kTBO3gOebPiMzsycRnsVpbbbpg7cTZEbgZyXJCokCs84+Pj6fiiH7OcZpYsQjAPpjI1DkUMBQgTNaV7Hkt+gt9qCN81TeSmS75dqLJfXAfZ+vWBHYWEzjOzi6MNzciBmfr1mPjGjbx7/x+Jjg9TxaEXfsmb2yb7Z9nP7ZJkug261rdT2B0xROLvtm6Z4ylTfxj1WzTa5ixahZTveWzi9fL5dXim+O7RW/Fl5kPd/7Mtc/r8fMam79JkuOc+YCFJueY5zD+sDjJWGARxjg0E36Mw/4ZDhN4+qDnpvITY4wFBa/L+Mq4wpg2E5TO3ST9FoaznMDYzzGUkPTPYTknztaKc1PXr66Q0n0LtPO156DLxfQ5PqLBmOGYQj/vhHXNt3M8x9Nt0SyB3D1/3uUDFzw957N22H/79CzfeD0zTkQQ3npEEF5wWBAyeXPhOuCYfHe/vTMj9r6mK8P8vEuCVQHmdRhM+Z4Vvlnf3CarzBYqMzLUXYuJv44nYeAzOnw+wcmBx9Wrqv01JtqZfaw7YBUou2ruzJYlUjp/mFXyimx0QoNfHe4KHxOXEwHJQpd4TIwoCEisnYTq+LIt23HyK4LY+WxHBLrE1d3pIjGcEZMu2bMiblLJu9RFCEkKeWed4yRp79queefYumqwCSuveyN3Abv/sQ+0ZzcWFhu4Bi2IeV3eVeLxJYA6Ajsj/WUPXsd98DX5qvFwTXH+u3VvH/IczPpi3zIhtlDrijbOCXUM+9nF9/o/CSjntou9LoJwzLOY5LsuXCvn2YP9Oz4+HsfHx9fMh8/hGuR7jsFfFNXlO/sWSW+t125XBQWd/ZR/847xrJBS16q5YHtdjqTwqPOr7/wdv83NzZVnzsklKtd55w/zJYWB/XRzc3Pcdddd46677lqxLUUP4yZ9o/Id7d8Vamlz9sUFjm7N2x/LZ+saLLzS1+lPnYC2z1wvP3Z3Ae33FH30rTquKyqYf3BdsT+2IeemyyN1Dd8AuJ4QrXURQXh7EEF4wRFBGEE4s2UEYQShhVAEYQRh1//O7yMIIwir7xGEEYTsTwThlyYiCC84/MP0XkwdgTaptSBzkHKy83X43gnOQa0Sk8UJAxfFKbdJ1E8PeGuCx9SRH5MZ9sdEhAnOY+22KjHBdz8b0ZHRIkMWAyaSs6A5Ex+cP5PB2dZcP4PAtrhVhfahLb0Njeexz0xWFlMduS0bcKsNf5qCZIHtcD4tAtkXEjRvM+3WQ/kg25+JqI7Y8nP7t8kk1wOJHP2BvsP3JJP02Y500DeY7DtbVB9uZMso4wH93gKCc8M1UDGgBH23bmkLb7t1bOjGPCNSNecWPNXnLr51IrY7ju3MYqmJqsV+d62aFxP6EgTd2E3COG+8Ns/neqitkfQhrskuJtkWXp+Ok/aZjvR22zwdN03yTVTrmvV+9jMJjAWOIzNi629cpO9ubq5u8+yEEtvg9l7nbq4Nx0P2fbbNku8Zy20nPutZ45uJy66ASn+gz5SfU6jwuNm3vnIuFovFWeysY2u+6EOdKKv/sejJQif90QKI/6NdOc/0M84P+0Z/tojt1pN94OTk5BreRr9h/5hjeAwfEeF8OoZ0wrlbI5ubV4u21aYfYel8u+xZ9oggvPWIILzgKEFYC5HPS7D6ygqVg5ErcV1Sq4BZpNpkjMGZAY3XcnCciVUHBIpdBnH2mQGVwZr9orgom7iqRTv5zgVJp7/qmbY0KSN54TkdMbYodbLobO4quyunTMo8rqvsO0Czb53ormRF3+AzleclYhOWLsk7wXD8s6Tq5zbZz448FbHtChwcK6/l53p4Dvt8PXE+E45+9qJ8x4Kf7dPvuqKOiQnn1H5L8jdL0OcJwtlrVpiq+fFdk26ued5sniwIOkFjQci1aXHWrSELqC5mVmy6kb5wnHzP9j1/Lrx0c2tBQ/I4i+m0p9emn0nuij9eGxynRSfb4bW6QknFM35W1y5ya7/l+D0/nHfGBK8NijaLkG4+O9HYiXr7WVekq37Tbt1aPTw8XLGF8zhzX+e3FjAWTZ3fMydVHGXf68VnRL32GE84n5w3CkfGkE4cdmvt4OBgRdx1McB3y9i+17f9iWPrciR/NsPHMD64qMPdRfU5C+M1N+ZJnVBzYbdb3+QPvGNMce/1Tc5WnIdx1CK5Pmc/6zdou/VZdokgvPWIILyF+OM//uPxLd/yLeOuu+4a+/v747777hu/8Ru/cfb/L37xi+Od73zneOYznzn29vbGq171qvFbv/VbT6qNEoRMHEykXFzcfmlizHOqQsbtdiZFDGKdyHSSY6C1iCKxJDF3cHPFrqsqmZD4cyb22ZeNUDQ5uXfbbvhDvSZ8HkNnT7bpLZ4MvCQmvCPk4MwvVyF5mG1rdOJ3IqyqHhOfv1HP5LpL2LO5Kf8gge62JPEarFKX3WucdWepkivnlfPEIkB3N9M2Zx8trjqhW210385Xc9Xd0ZmN2WSQ7dNHuTadjE3Au7uPs7s2T1b8zbaMcg66ogrnxgJ9Ji58V9IFJa45ftYRU28ZpW/x2t3cuE+8XvmG1x/j6WwHAs9nO+etO9qge8946v+dly8YC7sx1Ni7OacteDe1i5+dOKv+dCLUZJXrqIsHdc6s+GVBRrt2NmesZ3yu8VNId+LQ7fMODv2++5Icxx2OueaCwqv6wuId45HFJjmCc0dXfLMg4aMPjIkuEDG+WVxze3k3N12u776IhmvL65y+5nnqBJDzRQnLmv/Or+m/tea7+WQ77KfFHb+choUH+6h9jnPVcQluAa5CaxVbLfYYU7tCju1Jf/R8em5yh/D2IYLwFuHzn//8eO5znzu+/du/ffzar/3a+IM/+IPxyCOPjN/7vd87O+Y973nPOD4+Hh/84AfHpz/96fEP/+E/HM985jPHn//5n99wOxGE/z97Zxtr6Vmd532+z5zP8Qd0Bmxigk0c2VgQlCZByCSqY7uKcaIoErJs4yjYUiUUcNUGkrqVC8FfiQpRg5BFCgKa4LqpB1UkEAjViB/Yhh82yiBEFCGELBMpChDDj9ig+OmP6Tpz7evczz4zE59RTvq80pbO2ft9n4/1rHWv+17v1xCEQxAOQTgE4RCEQxAOQTgE4RCEQxCO7Wy3IQj3aXvnO9/ZXv/613d/f/7559uRI0fa/fffv/Pds88+27a3t9uDDz542v34HkKCek8cWrQYsHrAb4LCYK+b9p3gmBRJ8jhOig4nEYtQi50C4DRmko964EsiPGyXxxtkeyRrY2NjClzr/XgmoxyzxQdFF0GTYtOEjeIwkVwLDIK9gd9kNhFwJiL6iZM3jydJ3NzcnBoLj3WC2StZzSKm9Gv6u0kuE7fvT+XaWIBzLCQPjCnva0FahK3nD1xn2p9t8BI5x6rtU2TZAojrkQSp/cGf0xGD3J9zJTmnzbjuPcGTyENPGJxO/yZMtI0JJP28Nzb6YA837Wu0gdeN8ZhIatk5EVSOjUU++l+RZvafhLcJeG/+9A2Oi3hQYiKRc46N82Qsew4l2O1zzm+0IT8bGxsxX7Hfun94ZWW5bW0tt8XF6fuseEwRaBcCuM4UVPyec3YBtGd3FzBTnk0+nHC8+qE/WbiVzTkX7sN+iC/E3rQuHDftmfx+ZWVlKk6Ik/QT98k8xnHxlpHDhw/HfM+x1Bw5frZN30hCzRi7sLAQxbKL87ZbfcihLEI5Zouz9Dcvu2bfKSaTCLSdev7dE4TOMUMQ7v82BOE+bT/+4z/e7rzzzvYrv/Ir7UUvelF79atf3T74wQ/u/P71r3+9TSaT9sQTT0wdd+ONN7Y3v/nNp92PnzJq4CRYM/mbICXS3RMwThAMbINVAoY6E5gEkfsiiLtKl5KKzwBUnxYtHBOBm/2TrJhwuBJH4PVLkDlP3hPAs5284d4V2yRufI9IEor1fzrD1yMINS4ShLrJ3Ak6EV4nIrddx/CGf4tlfs8KPsefSAXPMifi59iwaOiJL8aASUAaM5N8kfVK6PZNJkj6I8fmGE5J1UTdoqT25dkFk2YnYhOLvQTgLJHIcab3YppI0eYuMqQztiZa7Jckz+LGvksim4ostD/nR/8rm3HMvbjh3+zT65kKKcYg2ykRLuOL9yWBTTho0dcj6j3Sa6ylf1ks8xgSTgtn7pfWM42r1oq+YcLKfHVKEC62W26Zbw8/PNeOH5+0P//zSXv3u+faFVecFJTpwSmFdxYuS0tLUzjonER/tzhgrPTizTmRZ6WILzyLzTzG8Th3pr/ZbiL9yQfs3/RP34te7fCJp3yIW+UE2rkXKyxA2/4UpIwH5s4a1+HDh3flux5Hsm2rP2JntV99pysGaDMfQ99yUcv5LuUO4hrj0XFrfKKde2tuPKQPJJ7I34YgPDfbEIT7tFUg/9Zv/VZ74okn2oMPPthWV1fbRz/60dZaa1/4whfaZDJpTz/99NRxd9xxR7v22mu77T777LPtmWee2fk89dRTQxAOQTgE4RCEQxAGwl8xNwThEITJP85EEK6tzbff//259pnPTNp/+A9L7Y1vXG233rrSPvrRSfvsZyft535udQjCIQiHIOys+RCE//S3IQj3aVtaWmo/8zM/M/Xdr//6r7ef/umfbq2dEoTf+ta3pva5/fbb23XXXddt9+67755JyAgOJqoEPiYLBjuroSaDJigp+ZCUmBQQkCy2qs0f/dGl9m//7Vw7dmzSPv3pSXvwwbl2440LbWVl+gmkFFQmHCb1JHgcJ38j8LGtdBld9Z+Al3Ox8Erkvj7pdQrVVu9eRY4lkQ3O1WSR/TvxWMT17JmIfc2x3pNlYpZ8s9pIl0RZVCfRZrtzDf1eqEQWnKBoK/bNtlKCq/245ownEow6Po3Z/TLZ24bJNo5NiwzGpwl+tW8hR+I4S/jx97SP55h82PjEcXCcnKfxqSfmkrgg6Sa5Ic6RgKUihskT52C/S+vstfA61af3tGjbwKQsxZYxzfiWCCwvU04+nPyGtk0kle3R5+lDtIkvjSQGWBxUcYv2M46k3EU71T633z7XPv3pSXv1q1d2bgu49NJL20te8uL2O7+z0j75yUlbXz85Bt+iwPvZ+L2Ls4XzvPSP86v1THko5Y7FxcWdtvgeQPpJasuCzsIt4YLX34WExD/sZ4w/52XicBpz2YUxzTXs8SLGo+3uvFjte8z0TxYme/mOQpfrwbZ9mwJ9iXa2n7Et+gzXnIVBF2N7OZV5iH7LWKU/GAf4Kpdqg+1UW4k3DkF4brYhCPdpe9nLXtbe8pa3TH33gQ98oL3kJS9prZ39JaO9M4QkQomYOvEaKEiOnbCr7QIxk3yTIf9mAZcI1NLSUvuJn1hon/rUpD3yyFx761uX2i23rLb77ptv/+f/TNoDD8y3tbWlKVAliJEAJhCuOfD4VJm1GOL8bcPqh685cCXRCYeVNCZSgiDJGxMx+6jqcgE7X15uwCUZY9uskpOgWETQLqli64RAezKpUdxxnmVPtl1/1/hqjMkf65jqk8mOJIU2Z1uurG5tbU0d7/WsNXWlN8WDiZMJN32DBJrzNEGr/73eSZwm36YPVls8g8FEToLD6nESerPOHrK9nmCkHZJoSz7WW0+uBUmHbZPWL/WZRGjZpPyAfsq1JsnlOtFnXZTokVauJ+PZBN5+x+N5xQDHYnzgGiQcr/nv5fcWNcbkRGApIi36euvj3y3oGA/E8XQWxsevri61Y8cm7c47TxLbV7ziFe0Vr3hF+/mf//l2xRVXtNe//rL2uc9N2g03zO34ggk02+YDUkiMKQbosy448QEf9buvumEe6JF0HsO4sSCzGGSfJPyMC8YUcwex20LDeZfzoaDlfXbMgy7scJ7ECuY7xlnt67OyfG0EY6Ou7ukVej0H+29hON/lyHGmM3/MCZyL58+87mIk/2eh2bGVriYgh+NYau0Sr3HBylwqFQPLf+q3IQj3fxuCcJ+2m266addDZe68886ds4b1UJkHHnhg5/fnnnvurB8qc9AF4draYjt2bNLe9765dsEF621jY6Ntb2+3lZWV9jM/s9Q++9lJu/XW6SdDDkE4BOEQhEMQDkE4BOF+C8KXvGSpHT8+aa9//WIUhFdccUX78Ifn2tveduoy5SEIhyAcgnAIwoO0DUG4T9uXvvSltri42O655572V3/1V+2P/uiP2traWvvDP/zDnX3uv//+tr293Y4dO9ZOnDjRbrrppn/0aycYUClhVgCTiFgg1t98NLXJm4lNXfJYYqsSYBIdKysrbWNjYwqErr9+oR0/PmmXXLLYLr744nbxxRe3Cy+8sL30pS9tL33pS9tv/uZCe/jhSVtcPHWpWyK5vKeAyabAisKXIMYETSJgcK9LISlGtre3p2zBZOlEmoSnHyPOtkjg2LaTENfYQqtHgJ1ImATT5VYmCPyeycKXfZBw1VjoJ05yvqSGBDhdwlPjYts8xnNdXFxsm5ubU7ahD5lY0p97ZJZrQPLgpOrY5Hy4hlwzExa2UcfTZhRujGcLSu/HeEwEsvqdJfxmCcbCkFRsSH5f37nPRL4Y20nopQIF+6dvmbjYNiRpbNdYkYoKPbFuMsw1sLhLpN/FJ/pQXYpu0u81cCEi3Q/n4o/XIF0GZpLJtTFWk4CncdmnebyLfClmTEwtVpkH6E/b25N2/PikXX/9yfu3L7300nbppZe2V7/61e2CCy5oF154fvuf/3PS3vrWU+LPRYieDyRxS38nRhqfZwlyfl8ib3l5ecpX2Zb9jKKhFwNcp1S4SKTf4pZrQ390gYPH1Hc83namDY3VKY85f7NvxyrXj3metunFlts1ppiz+LNXwY9+xnaJJ8y/jkEWG+xDlQ97fML5kmNJBa7KYfYbc9MhCM/NNgThPm6f/OQn25VXXtlWVlba5ZdfPvWU0dZOvZj+yJEjbWVlpV199dXtxIkTZ9SHnzLqyirvPUsJyeSHgU8y5KRqQCPwMtgTiLmStLKy0t72tvn2kY9M2tra2s79GUo5FDoAACAASURBVJdcckm7/PLL2+WXX96uvXazHT8+aS9+8fwUEBcZTsmO+5jYkbCZ6PcIBsHSFTcCqsVHsiH79LgoJixcewKPbfH4JHJLhPKYajNVXWscvJmfiZjHM7l5PSwuXFmkDVKVtpcUU/JOyZ/jnEwmO+I++QOrpxRPtK0faJBIKufCPtInHeN2OTaf4aG4MSkkMU9E2barAk8imGcjBpOvcO4WKuyLtrGI5Vx436r7Y5tcw+QnZQ+uB49P8cizraurq92H99COjEdfncHCTokCP4yKvpDWmmNPZ5GMUSSQ9QohC0fnFK6H/S4R3/JP5itiNW3LY3zVRMIRimWPOeEC48hYTDvX2rz//ZP2vvdN2uLiKRtccMEFbWNjo73hDavt+PFJe/WrpwuCKysrO/cT0japmEd8TbGQ7MH7siwOe0KR+dq5nwLFRN2/lS8ljsEzoxYdXLOU+2gn5oEas4uUxL2yo6+eoACibxAPKobpaywSsUBAP+1d0eE5sw9zMc4z5TGuBXOvY98iMPmZz/g5Lnr5gVjT40wsJBG3jb29thNuVB4YgnD/tyEID/j2z0UQvvWt8+2hhyZtbe1QFIRvfONGO3580i64YAjCROKHIByCcAjCIQiHINw/Qfi61508S/j2t8+1Cy5Y/X+C8Pz20z+92o4dm2vvf/9cW1panLL1EIRDEBIjhiAcgvCf8jYE4QHfShCSVDDQ0iVhJsYmQwSEBJz1m8WSSQ2BkknZCWthYaH95E+efK/TT/7k8g4ZPXz48A64PPDAfPvgBydteXlpF9gxsTj5kKiYJJgMWehYpBCsqq+6NIKAaMJWx/hF4iQkiQiarJRY8zG+HIWJjz5Qr44oQCZI0y5OWCbK9fcs0dYjg/V7XV7sBGYbOnknH65jZq1btePLZsqOJKP8FCEsG3EuFNvum217PSiO0ytBGK+0pUWlbdGLW5N0FxwsKBk3FIAlTk5HAPZ+o9/RhywASF6MY6ld+wx/s9+mv5P/sCjQG38qqiS/I1akGKx5sj0TsNqfJNdFrVRccLsWbybxdUy6lNBPxVxYOPUibeKQx8L1czwR+7ieHItFNGMiXRY3i1jbbgmzSOBp81/8xZPvHvzUpybt935vrn30oyfz1gc+MNf+xb+YFgbJZ4xdtMfGxkYUsY5jk3DiaHp9U7WXcjTFlTFleXl5StClogJ9y/dJegxJqCSRkIpkzt0p1hkHLjJS/Jq78DYQYwDxmfZLedz25O/F0WrOLCxbmKdLte2nLpzQNknEe87kL+Zm/DthQPWXTgJMJpN4+02tK8fW+9u4NwThuduGIDzgWwlCAjCDs4KeBJDBZsLEhFAihEKG5IkkIQFKqhBV/05kq6vL7Q/+YK59/OOTdtllpx5gsra21G677eT9hddcMxdBkRU+E2YnXgIvb+TukS8Dbzpzw3stmRBMJnyvIEVD7cPHXtfZKZIfHpMEDBOvkxNtZYDnay+YsNi2k02PfHrdSQq4Nr5Hlf5B4cv+SfS5/r11c7KpsfBsr0mnyRfXs+xUQjgRbc6tZ4vyf59xtHA0gXcFm7blnC3Qyia9Cjzt6cq9BcyZniG0ICBJSOvuteU+fECGyVsi2RZntEci6sYo+xzj0w+24pkJYoV9g/1zLe37jqtqsyc0eMwsAktRYtHMcTIGOU/HsNfBZJQE3gWmXj+0TcIazqE3N/bD4+jfPRHdw5DJZNKOHFlst946af/xP07av//3c+1f/su5trCw+9U1zjW0W+8sdRJ6ZYtUCKKfcc493K55Ed9T7uf8naPoo3wgiWNwFvZynJ5z/V3zslAzPtTfFRPc14XOOob+aNFTY+4VYFN+SvHtNagrn7iGxQVKlKb4Kswzzynx6HlyLThOiluOwUWexN/Ic6pA5jW3OGVs17pxbVM/Cfcq7oYg3P9tCMIDvv1zEYQrKyvtoouW20c+cvKynP/6X+fau9413/7X/zr5/6/+av+SyyEIhyAcgnAIwiEIhyBM37/QgpACwCJsCMIhCJP9hiAcgvAgbEMQHvCtBGHdS9cDRAKdBWAd6yeD8v4EE3GCFZOKRRUTBIkM92OyPHRoof3rf73Y3vOe+fZf/stce/vb59tll50iiZxPSpAbGxtT9zSwT9qD4MqxMHFU8qrEzWRl8ly2IGHzk7b8OoRZgioJPiZ6Xprh8ZCsMPnyHhWuzdLS0pQgnAXQvfnX3yWKLaSL1CQiUD6ZjvH8E/njpTect0WTxQjnuLa2tnMM77EwsaQtLeo5Tq5hjyRYOFb/PoaPWHcCTrHuS/dIVjiHyWT6NRiJWFo0nKkY9IfjN07UPiS/ReD28keSD8Z9wqPkA4URRXxMprh+yZ9MEk2ce0Uq/pYEI4VR+UY6vuaVcMSCJhHzwkv6AO+hoyBlbFoMkOimNeDfiYQmEba4uLgrPyXSyRj05dyp2FLzpnDfS8CULzJueb+1L38smzAm6d/EKtqPeOdiDX2Cgjz5IfGZ68E5EyuYO4nJ3I+FySQiao2dL/gbxR5xnzmTPsjcxXGxqGjhzOPdv3NPtcm5sGhoH7WNE3ayH9qcT4S2qHJcpELKrDE7ryfu4N8tkPk752XukIofXifivnGE+Yprw3gYgvDcbkMQHvCtBCHFTCKfThYMQJ4BnEWyCG4mprwePZEnJk4nLyZFJ2JXKUlsmOBMugpQexV4AhrnYfLpihw/TBxJHJVdKFx6SYn9uPqcQN0ChMmmvt/a2to1nkTMCNRlDycPJyvazevMRJrIlMkrbVXjT/txzibz9Lt6sAhjohJfSqp+SJBJViLJ9g+LaK4Tiwqpkmwy7XgwyeuJ2uSbJhiOD/ptigcKCJJ8z+NMBKFjumzk+dRY01xrnLRhEkA1B7dX+yRblj0YhwlH+bfX0rGSxI99xkK21zbbSgLS5Jw5Ia1dEiH2DQoqYlXvmF5seMw9QZKIbiK9/s5t9sixfabszPGnApPbt1DiMbVvHUfhyHyZiPX8/PxUkZFCvHdWzv5IMUMbcG04J/ZZa96Lj7SejmfmX9u82t3Y2Ji6B9X5LuVdnqWn/cqGvatj0lxs5xLvSUTynnkWx2tMdXUA1ytdhcSYNoYxVp370hn/Gg//5zpzzj4rzd98RUfyZ34YKz3c4Tgp8GqcLj7Yn/j/EITnZhuC8IBvPkNIYmWSlAK1khMDmomcx5iUuko2q1plYuqKV6pEmqS6kmTgcOKzcHBS4XwTeXPicfWRwMkxm3ByzEmQra+vx0tOiyClihv7P3To0NRZJAM3hQ4TdppzzZPiLBUSqt9Dhw5Ntev9meBdFTSpS5V6zyf58/z8/C6Cm87+mrwkPy3/6Z09ti1TIuTc+ARcx0z97iffmbBwXL58KvkGz3ZZUJBY0GZlw0SAq60X4iwh14ZrQFsuLU2f5U7zsrAgsbLQ4tx6VwbwLEyNJ8U08Y7tWkA5VhNhtcCYJYCS8OP6lW9w/3TmifhuMjpLbNIWJrBJHC0uLk4RvlTwKxszjtN+6ZPIda9ImM5Q1zEu0vUEwKy8ltajcjLP7tA/0iWjtjnn53xDnKt++FCaVITgJX/peOJJzZF+z3FyP65ZL28wX7j4wyca26apqNCzhYUT2+LlnxRNLqA7d/n/+s6Y3sP4ant7e3tXXjZXcHxyPPYL+mEPMyi67A/8n5hG7HdxnHZm3CSfK99yn3wSdC/H+1OxNQTh/m9DEB7wbQjCIQiHIByCcAjCIQiHIByCcAjCIQiZT4cgHNuZbEMQHvDNl4wyMTJAnbhNCpg8eyBQoMEHJxiUipgUOWFCMOH15XcFrLzkgaDAexp5KSbBg5dMMnGbSBsg6/vefXYpYXP8JIa9Yzg3XpZY9+nUetBOBNWyfd3vtlfi8vFOSLxsybbx5UYk1zUn3rvBNScxpaien59+VxzHTHFAH+wlJZISJnqSuFmEkzFQ+9POaT1M/uifHAdFoEWXCXUvkae1sCiqez7Lz3oivFcgIZHhWBzbJNNJ4KXvex+ThESsU5z2xDJtyTGVnyUR2IsVE8P6f319PQo3j5O44XXu+SDX3Mekjwk4x8VikkWbiycWyOXDyZ8sCOnznEPvtTp+6BjXy7mDmMiHYNDOXCtjSM2L9tzc3Nw5vgRJKgp4/uyT4r4ngh3PFqcs/vT8PhXF6n/myDqe7ddaO3dWO+mec5P5+r5sSP9ID8qyUPJ9gZwDxQnvTzXWJkFonyK+lp8kPK1xUiwTQ4kJddloykO0v3GUeF2Xvlpg+zYEYwP9kTjCdapx+SFsFo6Mbfo218kFsBQDPU7gogZ9jBzH+FQYVccwPvi3Mbl+G4Jw/7chCA/45hfTm3yQSBRQ8YXTBgQKHVYPCU4EkwKQlMiYEExq2K+BJ31foNc7k8abz5M49FlNzocEnmSSbZmY0jacJ8doYlUJrNYqke4krpiUktjm2vPsnufZE2BOAr1EZAFEMut7YlLbFpSeZ0r+JCK2v/enPybRweOc8Lge/J1+xrUxoXdStdgsElTrbGLmfhKpsd8kkV8JlLbg2H2WjeucbOOi0OmKP4s0EkTuk4oaaU5cjx6RMbktDCqxYnFhMeKzkiRgKW6Na1xLk2aSRO7fm2cSCxYjyVYcG880JKHHfmeRaRM54zvJefKbWX3QjkkclF8aT3oFgkRmjTVFbH0vHuPBZ45Sbi2sSPmFeFb7pweUUPh6/Rn3FCr0cxbBJpNTTxVPV1rsJfC5X32fjjE+cB+uC+3JvGQfpE1n3bfIfpivjfu0TVpb5grGhq+UIo7tFaPprBpzFwvNjk1iGc9ksi/On3zB6+G4Svl6bm5uivMY+2l/rk1vzJyPOWcvPs0FOG62Vb8PQXhutiEID/g2BOEQhEMQDkHIOQ9BOAThEIRDEA5BOARhytdDEI6ttw1BeMA3v4fQwEkQIwgyqE3gmKBTgjeZXF6efjxzfU8xw3FV8uI4KSgJnEyCfES4k1JKIgQ0kngTOCZ8Ah4Th9s3SXNycd81tx7pJyBbwKX1sKBMhC/ZsD5+smz1X+SX867x84l3TCiJyDHBJb+bRbJMGJj8SBK5lvy/Jxq4nrSF++6tTdmtkrZt3fMbk6SKEV4GatFDMmjRkGLVPsD+TZhojyQ0TIrO9vLQdKxJRipwmDBTnBk39hITNV+Og4UtknH6o+M6kRfjK+3qQo7bNnl1rPaelMt45/6+3KqXB2hLY4j/pz+zT/oT45ixSvtQqNh+JuGcP3GasWhMTGtgP6f9eAznxoKN81xP6HJ9ORcSWsdV75J22ta4nsRvwjSL0F6OYNwnfC2fSphsf2Bbzs/JH51P2abv6aQIScdwXOYP/M1YwTkxhuyHCbuZX2rOvOQxCWcX0c0Jkg05TvOSmksVrTnOxJ/op/Ub15PjT8cbw4jdzku1Zix+pJMI9LsUw+x7CMJzsw1BeMC3EoR1NoIAbTLJoHfFmmDDQGQA917k7WMIwuwzgawTBwEtVZwT0U3J18SY+7pqznseOC+Cc917QlHMcTIRm0hxv0QkSEhdYeSZSNrW80xrUcLFZKjm4WRA32BSqL+r0pnuIeU9W5zb4mJ+xDr7JVEqWyeByzO+bKvWlYk0CcJZBKvWruxn0kviSyKa/Jt29pzZrsk944a+ad/iOKo/3qNiocszCGzbgiIldfqG96PQ2ksM1t/lIyYfJmEmfymmLerpJ8Yjkg+ukcl9rbfXqkfy0pkzk9be2iZhwTEkEc226Gc97LHNeKaJ61fz2YtYci3dtv2yF4MWRozBngDhuDieHmm2aHKeSetuTOM6VQwZNyw22L6xhn6fziYxD6QCWhInvCeSeb0nwDw/zof+U0U/PvAl2cBn4RwfnE/lDmMAbea14ZhTvmdsp4JqEpTGafqfhRLnzHHRLj3s8nMO0to6phlHbJcPnjOe9OLbczNWMA/zb3KEdCay+uR+qVCf8Iy+xjOBzlnlbxzDEIT7vw1BeMC3IQiHIByCcAjCIQiHIByCcAjCIQiHIByCcGxnuw1BeMA330PIZFEJo07dEwyc7AhSDNqUoCvADaT1KXFggmIgZvIimefTyAgSBDaDSxKUBaQFpiYpPXHAD4GudzxtQ7AusCu78F6khYVTj9um7QnoTh6J6FIQWeiaTNpO9AcmK88/iciFhVP3R1jY2AZJQFjoWrQnezJZUmjWUwTZp4lJJT0WNepTr+2gPyeSmuZncstxp8IB4yHZ2pfgcPwm7SRcJs38236e5mNinESLP6cjBmuMFCAcG30wEdYeGbG44LiIOxVTJB+99aQ/s1BBMsm17Ymu+t9jqjkm0VbHkPRxXYxDNUbHlu9xtcC3zYybpyPo0lxcpDHW9Ih9IpHlWywk2ecSuefvXps63oKGvsb7tywuHSMJ+2gLjmVubm5XPuN4iN28BzCJYc/HtuF6c58ePvjyVa4R/Y6X//EY5j4X1dxPKsxaKBnH+aE/8tYFzo3Y7SIXx8ac7Bhkvkv8xZc58zfjHtvtXR7POXjd+aoO2oy+yXhgn8ZdHs9cZIFNv+GcaRfaxscnrPAacJxcJ58EYFwPQbj/2xCEB3wrQVgkiIKC9ygxaA0gBg4GpAkFiRWDOJEHtmsA6D2G2Qmi9349Ekt+KC5JDE0eTOaZ1C18C/ScOBKxY7tFApxkTb4I/E5gtCETCZOq33XHszskmbQH5+L7CUlSypb1XbITk1g9lrras6CibZkg+eEx9BuTHPqs1412Yv8kFyxIMMHR5j7zkSr2RUQo6JJvm1iTTDrRcj3pWyaGvhel+ktnbSz6XDxIJC8RzkR+kghMRNXxmkgr+0yk33FooeH174lY2onr5PtyijhWQYdtU7QQay1ekg95/Tkfx2oi7Yz1Wk9/X37J/hOeJPHNV8Twe/tJygn8nvhmf5p1TPVHMVFYV7Z1HCbsNjZY7BPjOEfiU62zxZpzV/Jt51rnq1RwS/tzTelLnFvvVUAuxNC2SdDuVTxJa87+WfSqdTvvvPPaeeedN3W8RagLBMnvlpaWpgrdtPPi4vTrParo6thyjk65jMczfpyfejnOsc51pK2Jw/Q78gHb3/nbuSjlDmNp+s1nqYn1tjNzR7oCg9hrvDYHNcZX/2x7CML934YgPODbEIRDEA5BOAThEIRDEA5BOAThEIRDEA5BOLaz3YYgPOBbCUInowIWJ18TAV4qV8GdgDOR3N4x9T0vhWDfFko9UsAkVb8lAjc3N30Ne2qXZK1EFIHbibbmZEAjiBO4mAi57/Ly8k5S6dmTQoWJ2ySh1qteTE/7c/zsg+0xwfB+PAtarzUJEwknx0/C5GM4NhMG+gcTGf0pES77Xy8RzRI6nD9jhf3w8lKLeCdy9p9iIwmZ+p++yTXrXbJrG5DA+zIwC5NEtpj8uc72857wO11x6P7TfiT8JqOO0USYaD+TDc+5JxTTJVa+XNHj4tq6CMX50ocYj9zPccx20uWKJrMklpubm1E0FeksH19ZOfW0RK61cdTEkKQ/xR1jg1iT4jv5DPHEl+I5pngMiz9JVFgs9gizsYI4Umttge+cOJlMpjCU+aonaJkvuR70rZ79PReL3cQFaH/P03jvl5T74/1L5C8uLk7dJmEBtrKyMoVjFEwsyrDdJPp7fKguM025s/Ij485rkjgA7cZ18z2EaW1rfVm07eEz/dl5rPopblAYur293ba3t6f2KeFXbTDePH76rIUi7Uy/IVdJQrnWgnb2q7qIDUMQnrttCMIDvvkeQhNtAlWPSDqg01mkdAbDpC2BGIGGQJUIfe2TEnH1wTMinE8Cbs65CEJPgCRAM7E3oUjEhxXn2p9Vb+7Hs4I8E1pz5gN8ary0J89wUXyxysvkx/tAnJRcsSXJSGe+eLxt0EvKTGrLy8ttc3Nz6v4/rjkJYPIHituqACeibVGfRElKSilBkogVeUlEl8TaYsBkOMUNfaCSdxVuitBQ0CfxwTH3hBnJkNvoXVngOcwSgvykcVocMB4ZQ72rFowhFU8k345RzzkROa5/+RD9jv7ss4JFYDwf4jHnzPFzbiTt5Ws1n96aGzvqs7W1NUXALW7qeM6Ba0M7s4+aq4t2FuK0J21hAes1SH87l/Rwn7bhuGoOxBcLJws1iwTO2f6YYtI5imvgAli1Y9+lr3HOLgwSg7hmFojEB47FAsZxkHIH+YLXondWM51tXV5enjpDxXH7jBrFnc9Wsr3eWTja2wVo5lLnr1oHf5/EFefuXNjjJfThymu2t7HFPMe+5Jgpm9M/mSMq37gt80UK2pQTPE/bIK0H5+ocMgTh/m9DEO7T9sMf/rDddddd7ZJLLmmrq6vt5S9/eXvXu97V/uEf/mFnn+eff77dfffd7ejRo211dbW94Q1vaF/5ylfOqJ8hCIcgHIJwCMIhCIcgHIJwCMIhCIcgHIJwbGe7DUG4T9t73vOedsEFF7Q/+ZM/ad/4xjfaH//xH7eNjY32e7/3ezv73H///W1zc7M98sgj7cSJE+1Nb3pTO3r0aPve97532v1YEDrJ9siXCZXJRQIwCz2CRS95OxHXmAiY3I9AQyJRgG4CVG0zafmyFybyBLy8vNEJJAlq25ZEwATaoJrEdgLbIh0kKb1EzoTEdivRELg5Nu5nIkCb9OZscl8fJmmO7fDhwzt9+r4H9mnSa7+zOE/zJknl3zyelyCZzPGYtE6OFdrDZIHfkyD04s+x6j4YE4lkuJDhuEsxZB+m39NuJDwpae/1MUlL4nSWnU36SV56oov2sG0S1qSCVSok9J76m2LF8e72ag32EjS0uQsnJln1OXTo0NR+xBNjCH2wJ/R4PPHONuB8ewKqsMC3LtDPXBCwCKGAYLvp7xpr9cl+jPcWvuW/9Gf6pv20l7s4f9rTT7y0LyXS7xzDGLYvsVhAv6dQSBzBtuE6uzBh3E7jYWGQ+a0wgHhAcUa/q7Z4uWX1z/HUOlNc2U/rlo7CJgu5sgft75jhWvMp6WyHT1+n/Vx0NV4716YCWS/HJXFdH9ot8T8Kd/Kk2i8VintYaXwg3jP381YeHjcE4bnZhiDcp+0XfuEX2q/92q9NfffLv/zL7ZZbbmmtnTw7eOTIkXb//ffv/P7ss8+27e3t9uCDD552PxaEBgcGJEGYwZgEYgpugkMSHibmBkpXC3k8RRy/N0Hgb7338hDQKIZ4TT/HYhLPubgSl/o3kWGC7VWADYg8nnPpCcIeKfI62R+YsOsYnvUoUZySCr/3mVwSKdokiZUisiZStFESh14z+xrJ7F6J1L5EX0misPavfUygerbl+lPsO1Y4ZxIprqcLMZwn/cb+zHiwAOiJ/rT+Zb+9RB/naXI/N3fqTGyJlYrNGqfPjpiYcfwsPNAX7fMp/iwUks+U33DMFAOMDfoP50kc6d1nV2vGtWWRirYlyXSBIfkG1351dXXqQRv2v+TDPTJMgVb7pIfsuACWMKzmyP65ZvybMdkTnhZ6JJyMlfqffft4fk9bV9ssRDDu7cO0Z5pnugqn8gNtyFzgXNyzi/06XYFBAVVjZo5l8YU4Xt/Tn9fW1qbsVnHEQme1Q9+ynyTfoJ8yNi3QySscGz0/5/E9TDCmcz5+WB5jJYmuis10ZtoxkLhT2YXr1Iuh1K79zvcNMucSjzyHlOP5915FEccYMb18ZwjC/d+GINyn7b777ms/8iM/0v7yL/+ytdbal7/85fbiF7+4ffzjH2+ttfb1r3+9TSaT9sQTT0wdd+ONN7Y3v/nNp93PEIRDEA5BOAThEIRDEA5BOAThEIRDEA5BOLaz3YYg3Kft+eefb7/5m7+5E4hzc3Pt3nvv3fn9C1/4QptMJu3pp5+eOu6OO+5o1157bbfdZ599tj3zzDM7n6eeemonwfUAroCLgMJ9CKomoym4C3gtXAok2FbtQ9FYhI/A07sExwmOBJZ9JpJFoK2X06enWXGeFsVMXCZMSeiZfJIkeD2SbfwCYM7B9iCgmxgmoDUBS0mo7Jwet726ujr1uG8mCs7ZJIVJg33S/kVOiqAkMmqSw+Nt20SMKsmYoC4tLU1dstbrx0nRIopP3qMP0ocoaE3Qkoj0/Dk3iyvGENc8xSkJDMmUCbgv3TubTyJUqVDSI7a8X9TxlS4Zpd+neSffTHGbCmhcJ2KNiZzFP2PO+Ft2trhKBJjzNB64XdsyiSmuES/XsujoEWgKCuMihULCQH/HHEXRxngsW7DPhHf0J65TracFXu2XxCW/T3GcsMYY4vhNtuVl9I5hCgLmwc3NzUj6aRfnMuPWXn5S8cDxuDjnGJ5MJlN+28NUjqfWlU++rX0OHTo0dcllwvHiHhQUvZjnuIjPjAkWypaWpl91wXk6/1TuZE7oFUIc98QR+w3txVxZApxPGE3CkTHg/Ms4I9/gff4cu3GINmMeYx7gvYbGes6Nl7KWQB2C8NxsQxDu0/bQQw+1iy66qD300EPtL/7iL9rHPvaxdv7557ePfOQjrbVTgvBb3/rW1HG33357u+6667rt3n333TPJl8m9SY6r9U5+DGgnCYMpEw0rrgUiPdHmdimIKFgTKSCBZtU9JRiDsJN8AR9FmMmnBQyTfzrDaPLE/1l98xolIld9pHcpWbQmsUDCXyI4vQ+M9nNStZBnn0zC/NsErv7uvcKhxBoFQyJZXLO5ubmpuZDM2jcplJIwKILn8dR39DkmPq5tJXcTIfsl+/BaV1Ln+E3y2LZFdCKcHFfyNQqS1KeFoEnimX5STBoTTFAsnFzkKDvy3h2fVbdYS7bg38ad6m9jYyMKHItDfvxd+RbPzNda1T48g8fCTBHN6pO4xRjylQv2O86X60l7ESvrs729PbUWJpr0E/5NWyT72x+NqX7vHEk3cTiJOIsX+jF9xbahOHUfPXGVhIb9i2PrYY0LSV7DJG4s6Ph7usLEeZl+6rzmPMD4q3Wu+/BKcNCHXEBj7neRkvtwDr34cqxRUCTfMr7Qt3g8c1eydyog0+7Otg+UzgAAIABJREFUOVwbC/eUI/jgMPq8c78xlXk0FeVY1PfYmAfsw5w3c3nFT+Uj+235GMfJtp173GcJ4CEI938bgnCftosuuqi9//3vn/rut3/7t9uP/diPtdbO/pLR3hlCBjBBMBExgypB2EmAgFLfFwkgKDF5EnhJ4D0WjtPvw6pjmITctsGG45mfn5+6bIUgbZLiyx95fCKMBjce74ojQZeJoISDz3aS1LkC6ksU+UkiuJKthV3tRxHvBJfO2LINzi0JuER+Njc3d42XCZDzTuKA/dPnyi583yNJYKqYui37M2MlEcZac9qtJ3oSkXGs8ncXUtiOE3avEJTs67hz9ZZjoc0oeE2az/QMIdcgkdPyHZ416YlA4ltPkNkWXDMWlUwaHS/EN9q8/u6dKen5FNfYwmF+fvqMMefUw6Qi/MQ52oAYkshn2TwJ/p7wrbUgxnJuKW4oxkyunRM4N8+TgsJYaEHk2DaB751l7l1B4ferpb+Tb6ciSw8DKJQ8H7fbE7fcnwUz43XC8RJUKSZ5DH2I46817F0Gz7Exx3t+6cEnLnKlM4K2uS/lZFu+6iNdAsvC6sbGxi7uQz9O+Ex84JrV+jMGajzmAixysS9jSIohXhpd8+Jlpj2fTTHkdXOuZwzSh4nXPaxyfiDeDkG4/9sQhPu0nX/++e0DH/jA1Hf33ntvu+yyy1prpx4q88ADD+z8/txzz531Q2USyWRAmVhaaAxBOAThEIRDEA5BOAThEIRDEA5BOAShcbS3bkMQ/vPZhiDcp+22225rL33pS3deO3Hs2LF24YUXtne84x07+9x///1te3u7HTt2rJ04caLddNNNZ/3aCRLjdMkEgz4Fusl7L3mWwHACZiJL4ESgLDJdge5HDZOAUkD1iB6JWl3vbtAyuefYepc1+lIjgx8BlUDHBGdB1hNXtg3nycdicy34sBGKSycrE1ETUieougy3Lh1l8uU9a5yXxVldNkzhxvUk+azkR7/lfiQiidRU4iCZZiK12C270nddbGBb9AMmQZN++jD9Pj1cJN2L5jWwL/SEVNmL4+/5A+dpAWSccAwXmTgdEWhBmEhCInBlOwo1E6aeoKFQI2HyeGhLxzjjgbHmS1BtG2Mo7dzDSvp37cc+Oa4eMTOR6tkzrTnHaGLIy8YZR14Lzyv9Rn8sjOUlein3EB9oCxdiuK4m+sQXE/Ne4YRtpblYyNMnbX/irPEhxTMvxeT3vZi1zzD321c5zo2NjV1xWH0S5yiIOB4KINrJPs9CDnPs8vLy1D1vHPvCwqnXM3Cde8VQjsuCzLkriUhziVRAS1yG+5onEUe5xnw3qHMw8Y6/1Zzq3nQXXmqtEiby+Mo5zAkpR/T8lLHhgomLBRToqQhgTHZRgevJvDUE4f5vQxDu0/a9732vvf3tb28ve9nL2urqavvRH/3Rdtddd7XnnntuZ596Mf2RI0fayspKu/rqq9uJEyfOqJ90hjARnl7iNsAZcBMB6iUmkiGLIycLJ7xErCggnGRNDntjIyCb8PRAPInTBPoE80REKuEQ7PgUN5IfrofFRBJxSTgWGJuUpOTHBGVyQkJuUE9EisnFQsYEOCXYIkMm5olMpwp4jZdCnW0XwUjtcb/k92zLCY0+7Jiibyc/m1XwoG2rYEJBmcQF/ZYJ2jFhkpP67BGhvUTfrN/pd+mhU/R9xloqXiShRAxhfzWXRCZrfXymJtmJbSfSn0gq15DHp7YsJuxvSbRYxHscybZzc6fuvfWa+dg0tlTNJ+nkMekMGwshjhvnkVQ8cRsmsCmeLRq47hbFCfdop7Izi1dlD99jbXGUjvF+qeha/p2KYfb1nohNecmYTB9w7jKm8LuU++h/FE41rnT2uB5axrFxPZMI9dOJaU/ymt7x/JvC1AUSfu8iAMWm75On37NP41riEvww7szX6M+0uYUYBaBxMPmwbWHRmnCQPmD/4b2G5m8UlCwwDEF4brchCA/4NgThEIRDEA5BaHEyBOEQhEMQDkFYNhuCcAjCIQjHttc2BOEB30oQVlAbxAgiBp7eZWIEK4J7gY4TCQHGIMDElxJsfZJQ4r2NlXx4+SGJCcecALHa7T0G2pck+XeTlySK6hheVkk78dIlE5ZELFMiTomkEk4Rpfq+njzIpMSx0E5e29RekVD7jv3MdiIR4Fi8NuyHxCi9zsF+avLcIylJqNb/acxcE65z7c8+mciS/Tjm8uEegU2XNpcNaH+Thlqj1Kd9leO3PRJhniX49vpwPehrJKAkudyH+9G3HM/uyyTXRGZ9fX2KpNFeFARcT8a3sZb+k8h+7Z8wzPv5eI6HeGD7JDzjOttnaRf6DS9rS/FN0dsrONFmbKM+Lm7wKcycP9cpxbvJea1fsl3dS5XG5jyWcMsCgPNnrDn3MaYtKGwTFzssYl084Vx6Qsu+SDulwmDFTS/fpEva2Y+Fj+OSc6MtLXZ6Yj8JvZTjmUNTfuDxLFTVWjgu3VblV/KXJIIZR85v9Ie6Z3oymUw90ZhFCuOhOVfyYdqlxsaxcg0c32Uv+p/zKnMScdg+1cOUNLeydY1vCML934YgPOBbCUJXehJQEAAZwE4YBIRUCazvewDP7/m7k0Ui064kEoTcHsEsXQ9fJLruV6GgYYJmUvC40lyKcJm0JnLG3ynOvB49MeNEQkGRbrj3fSh+THUd7zOPHn8iAj6LVfNnEq1EwPWgnRORKFKQhM7S0vSrPzg3+4MTes2Flcnkc054thfXnP7k9zT6/htXRtOYKYLo98kffeaAa0ByYKLPeVEgucBSH/qQCwJn87Fw4jwTmSTuMA7KlxgDCd+MexYPSQQSa8o/E77Rb+jPvXg20WfMmWj6GB67V2wWeeu1lXzLgpRtEh/ZJ9uueTKmSSzTGTHGg8l9z4fpG3VMegS/iaTzDdtI+cJrwzNCLPL1fK2XO2peKdZdeGDcWpgw39nnqx/akv1ZuCah4fn3zla5H55x5vhtW/bJNUtcwTZ0PFLQ9sQVfZ3+nPzeOO+2uH7Ol17rJFwZG/Q/44XFVX34nlz7Kl+b5bEkQW7h6HUiJnPM5h5lW+ZVF1/cB8fJNeB+9TeLwEMQnpttCMIDvg1BOAQhxzUE4RCEQxAOQeg2km8NQTgE4RCEQxAOQTi22oYgPOBbCUImiQTMBASe9iewVDAmoUGgNEAQoJikmVQN5gRLElJfykhwIqAQYJ2sEpk12BqsmaBJqgi6PdJKgF9ePvU0r2qr92ROrk2Nuff4/7JR7+W0BGKLpJSI/eh0J0gSJs6Z4oJzoOjhpalMEtyfj8+vPopYMBFZECb7V/Kh3zDJ94RJj7xYNCSh5+RpEUO/598kzLNIO8mgxWEiczyeWECy4H5MnpJQ4WWrZysI2Z790S8cr7mbIHI/4lFaT5NMExH2TxFIf2LxhTHMfmxzkjwSOGIN19Zz7pFBY3cSfdU258PYdKxZkBiTTWBpP/pjbz7+vi6p8z1KtmF953yWsL58gL9xzslmjnWu2+kUM4093o8xRDt57Mx9NRbbhsdzzB4niXnKneWLFO4Ja7wmxBfjNy/L7F0yzLGlti04y+89b38Sn7B4TAKS8c32khhyG8Ya2tn5N+Go8xX3ZX/kEvSZNKbq1/flJkGaxsfYSnjP44qn1L4WmD07cV7uJ+3nOVf7QxCem20IwgO+JUGYKoEWiQzgSkYVpCStPZLGgDYJSCSNbfFvg6SP598UayRsBGQKKAO3xV4P+HpnoQjWfAy0yQ/FncUfwdgJKZEqArSTVfreJIX9uxqdqvmuiLNtkpdZyZ5zMplMibzsmfzJdmMiZB+0B39jwnH/9BPayYScCZZzpk15jEli+r5sRDuTzCdh4PaSL5gIsNjAIoXj0GIgzf9sBaHPupokMJZTPJg0bG1tta2trV3kmcSaNiJJMXmx31b/PhObxre+vh7nWP32RCTtyXi0P1HoWFxYqPH7GkvCANqcc7PIcAybRLLvJAIpTii6mJ/cNvfj+HnG2lcXcEy8R5vx5PE7rpLfEx+M7567493+41jlelLc9HJPEifcj2e0kugyTrv40SPwxEvmaO7L+zvpZwmrkiBl3PmqFYqQXk5LBYqEvfZN2oK4n/KZx2mhxVjx2PiOS/s9YyFducS/U3yyX+bFJLqYyysO+H8Pk1MeKLxl/uY60X6+V7d35VDiPx7PEIT7vw1BeMC3IQiHIPR3QxAOQTgE4RCEQxAOQTgE4RCEQxCO7XS3IQgP+FaCkKQ0JW8CuhMcg7ASsAO1CGUSKAS+HhH08b4ULhENgnMlh0QSCHwWZGzXZMJEm0mrSCQvBe2JOIseHk+hTpLItjz29NS3BPxM+ImUMDEvLJy8dIjCNxGUapPzTESASSmJ0GRntuVLRpxwOQf2n4hl2ZmCl6Q72dFEn4J4YSFfoljj4ZzZXyKJ7NN2MWFhX0lAOOG7H64Z2zGRSWTHPkY/8KVCZ/pxfCS/cdtcc4v/JFp4TBLLSbwwbkycjW88pkeYbENiYG+ftPZ1bBo/j+cLxqvtZHPbM+GJL9fjKxhm3WPeE/Mpx9Ra+v4pYm6Nn/jgdl3UcEE0CT0SVmIubcPvTWZtJ86H80+XQla/bM8xTVwsMeACRW+chVW8Vzr5FGOg9qOgY041uec6cz/nwnrFT8pJ/LvWw0VHYoTtSB+h6PFrbGhn5m+O2T5Sx5kLkL9wX+MufZVjYx5i//aZNB/318uPHKf7oV1564KLT7VunIvnX2MsbEj3ZNrvPIfErXoivvocgvDcbUMQHvBtr3sImZQS4bIgIfD7byZB9kFQZ4Iz8CUw7ZGGSig8hknGZIzEPhHrVOVKZNCCmmN0UuT3BHSDW9ncAiMBPBNBIpGsWqeqXKpw1tx8XxOFMm3hMXIcJCms9rn/1LYJOH3UZ8Xo073K8ubmZtvc3NxJHklk0Ve5zrYTSYrnk85OJH9ikk6JnPv5DL7XkGNxgifJoJ87VhL5MTFLZJ7ztsjYS/j19uF60IbcJ43FJMFFnmQ/kxL26b+Tnyc7cZ0plhP5S/9znehTJrwkicnXTGAp4Ni28ZXjIunn+GyDhNNem55wo2/Slj3yR7t7nYgNnnevbdrWApKY1CtQODY8zpRHbCs+5p+xbnzu/c2cbJ82ZpWITljDtbfA5ffGLdrZYtV+Xftz7r39XOh13BIDeNVKigFiJTHG+G7RVn/73nOPmTkpXTWTBF0aJzHZ8c/7qrmf81XCx1p3zj35s2PD8b2XbzoP8HifwecY+fesGKKdPJfqewjC/d+GIDzg2xCEQxBaTNiuQxAOQdgTOkMQDkFIIs5+Ek4PQTgEoUUThQHn3ttvCMIhCIcg/Ke5DUF4wDcLQgYeQZRAYXHH4E6XtRU4WCj2iGlKXP7OZJrASwLP/zc2NqbAiZdf2gaVlExKeJklEwGBq0eEfB1+Ih98eqeBz6CeCAsTWl2Kwcte2D8TNUk1++d8eEmRSYHnTDsx2SVxRkC36HWCT/Y3GU3+UXYwsStyx8vNOFfar0c463sm6URS2b9FGGPAvk4yy8u7uNZO9hyLhXIiQybGHDOLHR5Pihva0r7JWJslDJMYNJGwbyR/dJ/GlESAiyTxnsmESSaZPH5paWnqib4kmYmYcYzlm2nMbMuXehX5t905n1pr+7DJtAkpbVZ9mIiybR7PeCTu1Iu4OZ+0tnxEPeOk/I++zsvIOGb7T/LbEotcd+NJzTEJFft56r8IfHp6tn3DWLGXONrY2IgvVbdwqtzGx/IXtqT8VBiSyLjzBbHGc+OY6xYRcwSKJmM8+2Fs9LgIfZAx5FizGKN/Jf5BmzN3suCQLtsl7rq9nlhO675XQYE8gDmOc/Hl3LQT15B/M9dYODKPpLGVfTnH+s1Plq92yTNq/5RjKTaZn6qvivchCPd/G4LwgG/pPYQJeObm5qYElIkrK3EESBIWkzeLtwIuBn2qWFfVlMmLH46lB5YmjSRJ3N9n/lLFjZVNAqeJkBMUyQeTgxOSx5BIDZOA149259oQUNM7vyrBpTVgUrSNSUB9Js+CscRdSuIUezWOXp+0O4kl92X1kaQs+TOPMUlJtqA/0x88NydlvoOrR0TobyRQtGNv/CZSW1tb8Tfb1mJ5eXl5h8CbaNZ39gGLlNM5Szjr7GD1yUKG52ABal9x2yakZSefQUpEmUUFEh4XLHriiLjncfbm0Iv1ROJ74igJlfKlJOhIvInjXHOTa4tdxhrFlftJcUM8cbtzc3O7zqQZ673O/FgQ9mLDuMs1SIWYHlalgmmJo57NV1ZWpsSTY80FG+NGyoMcc61NL07n5+d37Gsc5rtUGV/b29tdGzJWDh06FAsfzgssPhGTHA+9fOP599aWvuo8VB8WLZlTnKPtq/QzFzaTwOY4vWb8nmvI4kmvgOw8xjOJ5iwsxLgt+jDbS1iX8nUSkYuLp54nYQwwjqf5cIxLS0ttY2Nj5+FdQxDu/zYE4QHf0hlCv0S3iAtJSS84+TEwuvJZSYGVUleAewKE//uMZRpzzY8ELIGVkzcJEy+L6REjE1MDaBIUJvYpic3PTz/pi/N3UmPi4X6+tNPCz6SmxC7XMQl3z9PJL5HEHmEqvyCZo3BmgvWN7Dw7Uu2RsDjxmXzyN4pLJi6KQ99k74cT1NxpZ5OVFFP+O7Xl/VhlZuxZIHltkj9atDnBk4TsRb64/mcqBNOnR548T4oEEyiOuSfUEkEyXhT2FP44BjnOhIMmjDyLV/GeChGcs/2BMZAIF8VRwjrGueOy1p7zdDz1Yoi28Pr1iDeFf+EOxVg6w2Ox1yPoPYxNAp0+7xhKccLYKxytfXjWwm33Chy1nrQRRRx9s7537qJte/iysLAwhampIGMcZz/r6+tTQod+QaFiTOM4Z61HrxjH752Xk29VYcuC2Hmp8l9xlBIqzMO2Sy/3LSycOis7q4A3C9MSplpgG18SBhAbql1e9ZGEJ/Nb5Wf6Oe2ReAXzeBU/7OepqEGs7eVV+4t9s+Y6BOH+b0MQHvBtCMIhCIcgHIKQfjME4RCEQxAOQTgE4RCE7HMIwrHttQ1BeMC39NoJiiiCLUHDAECw4fXpicxXEFvgFSCwn0R+CmDSOJ0EeGkJkxv7dD8UPUz2JGQEGpNpkoXqg9fJ129JuLKPmnO69MtiNxFGg2iPjHKdNjY2ukKZhIskkZcbmfDsZU+T7povyWRaJ9rCr9gwOSdJIfkiqej5Hcfm+TMhUjivra1N3cdQ3/uBQT0iYAJOAkybmVjQB/mdEzfXnz6cCCPtnwgMfSW1xe/9++mKQAs1xgOFQs3f9+H6Mj0XwExsOa9aMx6fijccpwmoi2mMgXQppO8lcpsJX0zaTVrZNoWWMcyCp47h+9AoOo3n6RJmtru6ujp1H6zzAteZ8ZlIKkWhBQB9I+FBEsiz4okxQHt4zoxPFozoW5wvyTD/dx7hMbYBj+f4iaF8mJKJPteGPuR45RwYgyl3l5+wnxQ3nrPXqY73+xZTvqx50r+5lhRHXHMLOB7Tyx29dXbxg+tFse75e32rXQoqFrm4Fu6HIjrlO+cA2sbfJc5nH3R8Md8k0ehYZQGYGODLcc07Ey9Idi1fHIJw/7chCA/4VoKQgidVYx1sBFeCsgMykc8K0kTATAATsSXozKoEpnb5G8UiSWrvLGKvKubxpDFXW2ybbSWybdCmfS00aAu3Q6KcEo/XjGKGxKAqpZWoaMdeskhnMcoOJCIWrWybyYLEzEIhCUz7ZqoyV8KlDdkez9wk36yx8R1avA+CtjVh49zoDyk2bNeewHTceh8mVa5NEnS2me1uIm+sYLv/mE9vzCQFaR9iUA87ar1J5EgEe9hCYpjszDhOscb+bVNiBfv1MSTMKfbTMYmwuh+us9c+FZgqjn1mqNom6U9jtN14vGPNfkZM4UNVWKBxX72HuvTGRh+wqEiCjPmOY668ms7ms0jm2OIa1hgmk8kUdhIriVu2KfGatrXQMJ5QNNA3OTfGo4l+iiHjm0WjRW166Fgv1ixCXRy2ADKOcTxcI+d4YvKsPJQwyfPsYbIxy/HI+5f3Em0u8nEN7cOJY7l4Qf7B47lW5jHEFPtEwhcXHxjDXE/+XbmsvhuCcP+3IQgP+DYE4RCEQxAOQUjy4WOGIByC0AR0CMIhCIcgHIJwCMKxcRuC8IBvfsooL0PqEQSTaQMp92NwWhw6GRcAJ2KbEiSTRQEik5CBl6DqJMBLW1PiqmN4iRfHxcuoKEJ5vP/nGOr4lKyZZLgWKRGRABT5SES/CJzvFaVdmbAs1EimuGZOCp5jAnsmy1oLEvL0FEEm+EQKTIbm5+d3tetkx+TPBM3+uQ+TkG2bBAAv0SsCVWOo9yFSJKd7hEw4e6SoJ1x7lzR5zXhJnH0uER7Gur/vYYKT9+l8TMY4FxIekw/iC4kl9+uRV8Y0P4xHxwPJC8fMsZZP1uVc9DnjMOeZSGbhXsJOE23igTE5rVuvYMVPrXv5jS+TTZdv1hjSpYTsn7iR8hHnmUgqyWN9nwpDHEtPRFe+6flKWifml4TpibyzXRcPaI+EYx5L+VJaN4uWhNsLCws797758kFinQVl7e/LaU3saUsez1zOMbNomYoVs35Lede2YF/16hjmIWNlzaViwDHlWOOci3MkzuBiA9fZ9uNvFL5pnVyoT/nLtnS80Qa+lYJ9Ju5hTKZtGFseC/GJ+JiEvPPaEITnZhuC8IBvPkNo8pYIl5MoiY3BxcKRibdHoBMgclwFDPyNBDolNZJlgmcCwx7hNCims2W2DcdAsDPJSPdaWmwQ7FmlZt8mjwR1EkMmBZOFHriyTYLz0tLSrgessG0mL4oB+obvt9mLZHFt6r6RJAJ9toLCwuNPxQMea9tauCd/c5Xc65QSZpGLJOIdZ5xXusfEgs59pjOh9A0LSMcHx8dXaKQzRXXsmQpC+yPHaUFiMcHffWaH+ML1pP3W19d3kbmEDyavPdLs9eS4ZhU4qm0Wedwu/cb4lnyT9iiCZfvU+BNu1BkqPkiJY+7hu23OudGeye/9PWPExNhnQRzb9T/P7LMwlwo+Jt2Vy4zttqFzTu9sW7JZ2dl4V+tVbfXuxbI/9nKksYLf8z5z2pDi1AKQRRLGLeOTZ9m5fj4LZUykrZnfPKc6lvfUcj1oc8/NMZjEGe1ssWX84Vg8lxKe5BUWiunKrYpJ/p9wsOeb5b8pX5iL+H7nxM2Mvb2xGAedI8pmnP/S0tJOrJoXkIvx7yoCD0F4brYhCM9y+/znP99uuOGGdvTo0TaZTNonPvGJqd+ff/75dvfdd7ejR4+21dXV9oY3vKF95StfmdrnO9/5Trvlllva1tZW29raarfcckv77ne/e0bjGIJwCMIhCIcgHIJwCMIhCIcg7K3ZEIRDEA5BOLa9tiEIz3L71Kc+1e666672yCOPREF4//33t83NzfbII4+0EydOtDe96U3t6NGj7Xvf+97OPtdff3278sor26OPPtoeffTRduWVV7YbbrjhjMbhS0ZTsFZyre8MICY6PQFEECagMNknQmJAqSTEMSbR5MsSSBJ83x2JTS+pk4zwqW09UsD+nSB6gpgJxWSIRCAl4GqXc/Z8Esni+Eme3Y9Jovup751kkw8l0k6SmgQhL7F0Uu8lewoL+0NKQok8c21NPkgSkyCy3ZxEkz1JPpxUSSQsatlHz7fm5+fb5uZm29zcnLKTfYh25Tw5Hx7fEwMkrEnonY4gpHDh3OxPJC/21Z44MqaYCHqcnD9JKn2j+k/YV7jEOK/15lx7BTiP0ySVtkgkrednjkXblvPn98SNumfWQsXizPHFdU4Fu3oyoy/lXFiYfsKwx1WXrxLDqn+KDPuxBY79zwIx9W+cq79L2CW84t9ra2tTlzbzcnfHJPsvYZHiMomGhYXpy8NT7qPtjbVst3JkiTz6On2Vflf7VfvMafbhFOvOY4lnmIv4NVfEgLJp5Q7jds2F969xLGtra1NFO86RsdXjT47BtOYLC9NPNnVxlnNLwpUfYxX7WV5eniq0J+5Wc6Ev73XJqufcw+okNFNRgnMmPnA+QxCem20IwhdgsyB8/vnn25EjR9r999+/892zzz7btre324MPPthaa+2rX/1qm0wm7fHHH9/Z57HHHmuTyaR97WtfO+2+SxBWYBL4HdD83tX7VE01sSfQ9qr7BBsCRCKiCWB7N53XuEhsCCgJ7Ez+enMj+WHiY1WyEgQTVAJ4tuuzLDwTR7HjREkwdIJMQsHElcmFIMyH0pi49USezzD1kjoTnO9JSMUCJvteu0UYWXFl4rDYoD1NbMpf0lmraoOEp+cn7L8qnRZRnAMTL/3E/jhLbPtvrk06E8c1Y9yayJmcp8IBK9u08awzgRaC/J/zYdzbt30MyTXnlsac5sx1Sh/Gme9Tow1mXRkxizyl9fTvxAKfseTceIzjoYfDXI/Uf8Jb45DHYuwyQe7hVhJDyW69M64s7PmsqvE+EVPPobCCZ34YG9zfcV7ib21tbcr+zqkJp52LXQx04YA27BVALcjYHgVAimnneM6Va21MTAUOi3LGk32jYttX6ywtLU2J3YTDni/HwN94hi8JVPoj55DizoJ1fj6/c3RxcXGneFccwldGLC8v7yq6cvwpBp03vE61DwsxPtZn0OmXCROMB45pFlP5qblUfHA8iafyTDq53RCE52YbgvAF2CwIv/71r7fJZNKeeOKJqf1uvPHG9uY3v7m11tqHPvShtr29vaut7e3t9uEPf/i0+x6CcAjCIQiHIByCcAjCIQiHIByCcAjCIQjHdrbbEIQvwGZB+IUvfKFNJpP29NNPT+13xx13tGuvvba11to999zTLrvssl1tXXbZZe3ee+/t9vXss8+2Z555Zufz1FNP7SSilHxJClJwFzgxkfZAIAEoEwiTn0HFid8Jim0mwug2SPqZGJgsCXYFNokAMll4zCQllSQLNHmprJNEIoP9grrvAAAgAElEQVRMlL158vhDhw7t6pM2S6TbgpqJkTbnfhZ9fo1EIpa0vxMXiQD9qMi270NxwqXdSST4lE/aJZHGNH/alvYrn2fySn5PP7UgsQhLx7APJ1X7iX2nxus4T4KqF8+JwPHJe0ko7CX49vpw3Ca6ju9e/Hh9uV/Fusm0bcFYSTb3JXX0L2IF7dcjUonA0Z4ptlIxjmPrkVmSaYuI5ENef/qJySBtRjLPv+mDvPyT9jFhTVhr7OfYOBYLAs8txWDqh+2l/SiAGI8WrsZ+xxrzncmyv+/lS8c27eG5Mh/xssieP7iI4BgoQeZ7P3uCkJjs+XA8CdMtgmh3zpHx4N8oqHxbScoPHovXNq0n81jyLYqjJCiNrz2/YR61XYixPeFoLO3ZwpzRPlCx4LzrNTFOs+/iMiyIUkSn2KKwHoLw3GxDEL4AW08Qfutb35ra7/bbb2/XXXdda+2kIHzlK1+5q61LL7203Xfffd2+7r777i7xMvkh4SJhSiSViaZHOF25YfXNZwUKBFPiK/JCoOKx6Trzmhfnw/FzbBx/IoJOBKcjogv8SYbSOAv4yo4EPlfUuXYkfDzbxgTHBMn1IJl1sjLJYuJI9zfU3BJJOZ2zIymBcz7VJ+1UD1Jxddnkz+vn5EMfSISPZJQ+U8fSxrRNEgAmkGzXYqJ3Rs52pp3od4mMJzJk+xThM5HqxQTbpQ9xznuJv+rT4pFrk9rmu+ZMZr0GyccY+yYVxqG9yIvxjgSU+9JXE+Hu4VAqilg48ftZxNQVd5LGNLae0GT7JPXVNuPBxDSN2fNPNvec+TeJcCp20Gd5z1cPNywc2VYR+J7NGDPOl173ZGd/7zyW1tlFIdqE6+ECA+3M/hzTXGf6gPNrwh7PMeUH24k5in7HfYzLzB0cM3OqY4vzdKzwmBK69PlZhXMLM9qca51yafWR1px4U36X+ILtZN9LsWLOxj5pL/oCMZs2498p1xtvE7Z5PFyvHkcZgvDcbkMQvgCbBeF+XjLaO0NIkjoE4RCEQxAOQVjJnes3BOEQhL15EceGIByCkJhgfBiCcAjCIQj/+W1DEL4AmwVhPVTmgQce2Pnuueeeiw+V+eIXv7izz+OPP94mk7N7qAyBeRZRLwDgvgYLJhIGNwG7lxRNOBPw1758zD6TRf1ej3EuEDXZSoDNBOGneiZgIrlxwkvAn+6Hswg2WKZE6ARPQLQ9uDb1FDon3iTGCkg5ZxI73tOQSHZKiokgeM4WMemyWq8F172XYD032p+Xq5nYJfJDX69klwohtgF9hMSO8dcT4V4nz8ftlI35fS8+GWueG9eyt7Y8xmtj0TdLFKaP7Um/T/hi8mMCnYQfL9+2zex3tA3xxH5Gv2X/xICao4U82+O682++LLz6TeOZFZP1XRU76FdlS8YebcOPMYWxkjCF65ri1sSOJJNrwXFyDMYDH0Nb1G+9YmYirylWXMjotWUizt+Ir5wz/Ztry/znfMr9jc2MFeaKFOtlPwrfhK8uApjczxIkNV6LAObiZLO0zow79l/jt81THkucxzmg9u/hII/p5Xja14UUYo+P6RX1esUC4iYLm3Nz04UEi0j6SB1f9ip78nj7YPqb61u2Sf5kfHccpTWxiK/2hiA8N9sQhGe5ff/7329PPvlke/LJJ9tkMmnvfe9725NPPtm++c1vttZOvnZie3u7HTt2rJ04caLddNNN8bUTV111VXvsscfaY4891l71qled9WsnlpZOPUSFSS1VdvnxWRQGOkEoJYFEfigGTOzcrslM7U8RxgoV2zAJScBlUsPjSPh6xMsJ2ESEwE+QLKC1bVPSL+KQCErNt37jTeI9EUdS4odjmPA54fGsEe2cxAGFvyt8FgM9QWbSXr+RPJAYbW5uzqyEknDUbyTqFLTcp0hFHb+xsTEVNyTwXksLRa+ZfbNH+O23yc9rn2qD99/YB3tVcsY315ZEggne6+n9+HfvbKGvHmBMJbFb68aHZrBvzocPm7FY59n3NGYLGB7fwxq/g6xHpCw2OX9iGufssyjEN+OY16/GnzDRhQv2adHDWKE/el3L/4gD9Z3Fsu1sAcTYScUCnp2Zhcskvb2zSDXPJBpMWLl+9q0U38wlxK1qi3jvfr1+XmfaqXdGhXHvGKZtiIPOY8TpRM7pXxYGi4vTZ/Z5Nolz89kp7mP8o6imP1TfxPdqi9iT7nOnT5kPEV+IAYxBt0t8ow2IAc4VxovUP9tm8Yg2S6LehQgLZ/u/i0E+O892yl/sd4mLME6MifRn2pbz59yGIDw32xCEZ7kdP348VsNvu+221tqpF9MfOXKkraystKuvvrqdOHFiqo1vf/vb7eabb955EtXNN9981i+mNzlgwJo8mog5wSYQ6CVLJhQLRwoYJii3nZKj5+BKtwn1XtU/kvhEzpmgTPqTbUzaEyDz4SSVoDgf2tlJkf3RFikhO8FYXCcyzkROEC4hy+SXCCTHT3LsuZmMM9EwqftMZiKQFjAUbfRBi8mer9lPSGz3ugTHZGZra6tLlhh3Kd5SsSERy9qPiZ3JP12KybbszyTKtod/p22S8PP3FoFJHDCGeiTdZJqCahZ5c5z3SLftUccQe3xGgvsmYli+wRhKmER/MtGrOfrhWBZqXCeO2WvjufVwNpFuPunXOcOX+tKuPRvb55NQSGOkzVPcpDNUxmeTUZ/Z7dmWhQeKK2KSRRfnxXn2BJVjgsKAGEACTx/yQ304pvn5U+84ZP+0zcrKys4+CatSrFI0GOuJKbQ518+5b5Yopu1SYbF+oyAjVvZEFwt5jLvl5eU9HxAzPz8/JXyZx+odmjV+zj8VkxPW8CqqHnfoFYKIQeQiZTfmUheGijMm7lPzrDnwyaA9PudiFuODvsFcQd45BOG52YYgPODbEIRDEA5BOAThEIRDEHLMQxAebEF43nkL7eab59p/+2+T9vDDk/a+9821665baCsri0MQDkE4BOHY9mUbgvCAbyUISdYIDgkQGbC+h4/gaxHnxEVQS5f0TCaTLpEg8Jg8JXHkJM35kIwySRRY8TIvPmafl40kkem+fZlrsqkFiROZL4EtoE0gmh5kw+SfCM/S0vRrJjhPXhbpsTgB086JfCVRSoLFNUhEyGKDNjSxTCSXx6cH1iQi0SP5JoXs57zzzpvq02vmuChfSj7Lv02STMopDOhjPWJg2yaxT9LENUvkr7dOtE1PAKaPSVsiDmnNFhZ2P9o/kQrji9uocfg37s/1Nz4lIm87kRi7+JMIOAspFkS9PikWTdL9SfjSs1HFj33FcWNxRXJvm3u/XrGCc2ZbexXMKPDq70TAHfc9v7F9UiGNlzFXDKRL7LjmXOfCdYsAXub68pcvt4cfnrQ/+7NJ+0//ab7dccd8e+9759rx45P2u7+70DY3V+Pa9MSA1yDFWOUJxhfFfsKGGjuFhfGEcUdM6om/XkGX4oSYaHHG/yl0WLCpNUi44vY4Nha3ew+GYr41JqS1SdjPcTKGzUcY9/U9n5vA/MA5OxclnuL84gKOuQjjO82z/KOXB5KfsZ8hCM/NNgThAd8sCAkSJqxMqiY1SdBVEFNsFTAQQHwmrJesmCBNjhORKTLoeyYMNky4nK8f/mJ7nH/+UnvDGxbbz/3cfHvZy5Z2knIigvUb22FS7JE8rwfHmYgxxUwi6uksGG3mZFUJ1E8H61UV+fL6lBSTCOW9dUkkpTNFFGFFqnrknOvRI6Y9EWnyV+NikSCJavbJswMmfrQHiSHnwrZ6CZ5+4wfcUBg5YSZfKT9IRGx+fn7nEnWLKI4zYUCt5dkIQq4Nq/scfxItNU/6MOfJsXPOHHPvzJFJs0kNYyr5vUWb1yWJI5PUdCZ6r7VNIrD8L/l6j4hxH/r28vJyO3z48K7CUh3Ld4klolljI+nm3zwLZTGTxA3HXITctiobswDJOfN7+lrPtvRZ4la1l8Si7cz7+WzDNM+Ttlxuf/AHc+2///e59vKXr7fNzc12+eWXt0svvbT97M9uts98ZtL+zb+Zfv9mL844duYZ2odrYywgjjnWknB3fmIcMhezaGl+QR92fCXhyLHU2TfnudqPL7nng2h6Z+u4NvQZF4MT9zEm2GdTUYs8w0Ulr43zA3/b2NhoGxsbU2tLDlXFUNqmd69l8i1jmvkHMcCil/HFvNpbW/rREIT7vw1BeMC3IQjPXBCuri60t71trn3605N2/PipzwMPzLWjR/OjkYcgHIKQ9h+CcAjCIQiHIHyhBeFP/MRSO3580l73uuWdOC1BeP7557c771xt//t/T9rW1soQhEMQ7sqXQxCO7R+zDUF4wDe/dsIiKgUzyU4FcY9wWcjVviTAJDNMED6W4GDwTUBj8sWEzWRFAs32TbJOJpj59u53T9pnPjNpb3nLUrvkkkPtwgtX2i/8wlJ7+OG59vGPz7Xt7VMJlImPYDmLyFBolGCqp4SR3DMRJ4JiG3IuS0tLU+9SIohaDNDeaW1tS19O6YJA2YP9OCH31pbEiuTBvlafHgFOc0nkhT5EUUyhY1HN9bS4szAwUTQZZ4Ln97VOqRBDW1ic2k4pbkrwFvFLZLEXH44h2pVtcd7p+95+Xk8TnVmkKo2nR5J6Qmtubm7qviCurQteXLfkQyZCJjKMl0SgTbYYRyTDJFlcJ9rVl5dznr14oE+sra215eVTImRjY6Ntb2+37e3tXfhGP2UBijHttaE4qvHX/Wycm3NM/e7LHVMhxuuecNM4QmHO7y0s7JvEvuRPtLntwXXiGhw6dKjdfPN8++QnJ215ebEdPny4HT58uF1zzTXtrW99a3vJS17Srr76wnb8+KT92I/tzjsk/Rw7bVVrzViv+buwS3u6rxRr/L78M2EN++T60XcpXJiLWIhIHIXzdQExiX3iUa1Nwi1+NjY2pvzAnKnHb1yYo5jieChWEx7YH13EJc6XOKRPpLHZVxnLy8vLUzygigqpKOK2Z/Gk5Fu8TJnjHYLw3GxDEB7wzYLQQUgQ7RFznlHgbwZbJv5e9S4RByfiJBZ5THpceP3GShrnUsBZc03Vy6Wlpfaa18y348cn7ZprFtuLXvSi9qIXvahdeeWVbX19vV1yyaH2p386ab/2a6cqpxYJPIuQ5kxwtDhiIqL9/DftZrGYEgwrvn73ohOhkx+TWo2Vtu3Z00mABIlt85ilpaUd8sSziiThFsVcA86TiTyJC46L9416vBSEaQ195or+wPnShrSZyQsr4yRDFu4kwE62FvwmXy4qMG57bTkGiQHJZv4Qe2btR1+v9fXZCc+F62OiQEzpETELpeTDFuf0Lft3wsRZ4oF+4wp6/V1+zvkY+6qdNC4Sp1q3Hqnl/Pm9C25pzCSJFmHMHb5fOa1JreXprK2PT2c+ag4uWHEf4k71wXHy+0TgLa6Yr3hMEgP0Nc6N9rv55vn2J38yaRsbh9qFF17YLrzwwnb55Ze3q666ql1wwQXtda/basePT9oVV6zseqegRUMv7vlQGudICwrmGOI4xRHxnGvZu+qDH+JrKuAkHDUOG/fo94wvzo2+zTGzP59xp5Chn/F33pfo3EHRY1HEM3S9+23ZJ30r+ZqLTrwix/HogmTKA5xz7eMrHIwpXh9+/MCdxBvJjYYgPDfbEIQHfBuC8MwE4TvfOdc+9rFJW1lZ3iUI19fX22/8xmJ76KFTT20cgnAIwiEIhyAcgnAIQvrFfgnCK65YaMePT9rP/uxyFIS/8Rur7dixSdvcXB2CcAjCIQjH9oJuQxAe8C1dMmrSaiJGglagSLAkyKVLz+q4REYtLphIk1A0QHE/i1gCPMl1InC2Rc3/d35n0t797pNjrEuirrnmmnbVVVe1q666qv3Kryy2z352siu5VsJi2wnsPT+LFt9jYRuQ6JSdk3AkEVtamr58lDZiH4msOvFbxPEYkgILfIoh34dAWzDh9tbdhColPxNG+iNFZF3K5WNof5LT8hmugYk0yXFaD5NJknYTCNqZxZtE5mosiej3yMvKysoOYasxpD6Z1HsEo75LInKWCHShgIQnXWLosRg7eAxJf8KAGmMi7fxQKNS8e+NPhI8xVTFp/3Q8spCVhEciUvRbYw7bN/b2vu+JAa8T7cA5+56vJPAdMyb1zEtVmON+JMP2Adsj3ZfE7x37LARwzhx3EtX2lYWFky/47uW4IuW+5JGYf7KfSfv93z/5qolLLz15qd7Gxkbb3Nxo119/qH3uc5P2q786fWlxLx4dx3WMRTR9gN/NWkPnCceDL8O1UGPuck6xX1jEuchmn2M/CZ9niS723xPx/PhpvxaVbCvhQeFwyomcC+1E/y3+5tsvKGprHWgLCuQSorUfRR4FofMLx8DCAcfiPEiM9z3bKdZXV1d3YmMIwv3fhiA84FsShCSDBIFECvy7gYOgYQHERM7fCCIE2RItJvcJOAo8KPpM6NPcCDopgb/znZP20Y9O2sLCfLv44ovbxRdf3C688MKde2f+3b+bb//jf0x2iRf3w/43Nzcj4XRiY+IwmWfipc1NLpgcOc+UUKstk2sLPduVY+C7rZKIqjFzLgXgLkSkZEKbpH6K7PPMdBFPk50k0H1GJommRIiTbU1ePHbawETJZy0chybq6QwhSbiFJwlRkdP19fVd/uSKOH2YNuE49xJ7Z/Kx3Uks2SeFKnFkljhJRNDklvazP5JsktR6DRJJNSbRH1mUYKXecdETOn71yCzcS77mfjgvxwOJZMK+tG/yW8ddIvl1HxJtxnlaVFUfiTjX2DhnxqMFTMIu42gai/GylxM4FrZrHOaal92PHl1qH/nIpH3uc5N2332Tduedk/bBD5588Nl//s/zbXFx2r+3trba1tbWriKtRRfHxrEkW9R+SSyzrVS0pZipnG/stK0Sz+A4zRdqzqlIm4ocLBjx/lQXaYjXzH0JH/jxmTKvs4uHzikppj2n5M/meTXuehWE/d28qHCT/aeijjGA/s2x0Z/5vQW2eWYSzvx9CMJzsw1BeMC3IQjPTBC+5jVz/++SnN2C8OUvX29/+qeT9pa3TFfxhiAcgnAIwiEIhyAcgvBcCMLl5eW2tjbX3vjGufa+950Ug+9616S9/vVLbXV1+iFkQxAOQTgE4dheqG0IwgO+8bUTTj4G4SKJTAIFqAQBg7pJhS/xMjlIQoNjqeNI9BNYWsCQCBhUewKAIHaynfn2nvecfMrorbfOtyNHFtv29mK7/vqF9tBDk/bxj0/aeefN7xqLQZGAurS0NGVbgzsBMl2O4stBTEQTeSCxNEEyyaZooM24H8lDIn31fXqFBedlkrS5uRmBnyS/1rlHsmgb+jq/7/kdE9jy8vLUsfye+80SlyQOHJuP6X346HMLIv7Nte21SwLJeHJRhOSB7TDpO1aSODwb4UfxRvFSa0Dc4H009GXHd4+kJZuVz7Bv/kb/dmzzGJPGRFJ57zNJ29LSUsRR29x2T8K5Jzomk+n7Pdm/ySiP55iJKbSDsd9+Qnukgg1xy7jIpxVa5NUx/G0vsZbmaUw0AZ0Vr7X+zCkUy73CHC+vr++5TnvhqHGLedxFhSTa6LMpr/NyPc7FPkd8S77BMdM3agwpzoz1/N45kr7hGK84p81YRJqfn4+XENM2fmow7WmOwbnR/zzmJEg9F+7Dtre2tnZyBIuhzte0a8rTFduJr9BGXDPmteqHvND3S/f4G22T/ja+JhxkW2W3IQj3fxuC8IBvPkNoYsugT0LP13BvbGzECo8TMUkOAc5/J0AvIEwVffdjYZIqXmyLczYpOQVsc+1tb5u0P/uz6fcQ/u7vTtqRI/NTgGqCw/45tjRWE1MmmB758FkRE4NE/kx+eLzFQY9w9Iiq+0j+wO+dIOyXJgYkHolYWQjRT5LP1VrR/onAu02SThJtJ0jHUxIkTor0e87dpDGJBpIfEhAXPGhz+p2J9tzc9OsIZgmRGtPpisPePiaQJjMmhrSrCWUv7nv3RfmddBY4iaCUGJlFUjwXCxMe57j3/sYS26DXlsdO4WJiyvZTnJmY0g8dX2zL808kk7adTCZTZ39N1L1+1Z/XK4nFlGOMOx6b455zSWcb6+/k28Ran5W0/yWsSWK7bJEKYNV37+wU4934mj7cp/rs3XtLe9NuzJ2OL4orC+wS2VwHzsnCrecbHke60qKXX1ywsA+lfOkzpmtra1PCif0kzKkzefQnijXiAfO6xViKNdrP656EoHOkbUHukWKy5tM7OUA7GNNm4XHF1hCE+78NQXjAtyEIz1wQ1v5bW5N29dWT9q/+1aS97GW7E9sQhEMQDkE4BOEQhEMQGuuGIByCcAjCIQj/uW1DEB7wjZeMMvBItBMZrr8L0Jhg9xIwiSjydybfOp7gVkmQ+6X7EwiMHo+JJftOIrSSUAL4xcXF+AJX2i9djkGwJtCasPPyoJSUOGYCdSWINB6TLJICCmKT3JTICfYkIBZEPIZt814LJ/kSaJW8ODaur8U67c017JFPk1sT7PIR+g4TrIVq8iEnyI2NjanjTMASYanvk1BjP724MxntCedUrEmJnH7HNXSszxJ86ZPGUXOkP/BD+7Mvv6Sc86SY6NmW60mscTyl2Cq/Y3yn9fTltxxDuv+av5HYJaHAtbVvzCL3tGsSXcaAWQSQOG7CyX54POOOeMJ2TZTpPxwz2+0dMzd36mmyJplcGx9PrKEAYlw7tmi3OoZYx7WxSOmtk4UK52+82ku0sN/0NE3nGH+KCyQcIu7Mzc3t5E5zDMYN/YHtuQhBu7GYw+9pH9tsaWlpaj3omz2hYwxPXIb2r3siU5GObVvE97CWvma/tQgzx6u2EpcwlzMXYkwmvE85p/C48n7lfgr31G6yJ9cz5bmac7U3BOH+b0MQHvDN9xD6sb+JWDtB+v9UGeX9ZyQQCwsLuwRBSkoEtAItAjT/rn74KHgmxtqfVTSeKUhEv8ZQvznZMPE5gZNUJIDlWChYa1wJ7AiCJJOp6k4RmkheSv4kz0zEiZiaVJAAmkAykXLNfEaufvP7BpOdEzkte/JR7ibGFhk9H/Z7DxOxtAjhOqYCi4kbfZPkwcTQ80/kvPe9hY6TKskDhYYTMvthscKP5k9+buHHsfU+PQI6i3zx2N4x/JvFDq6PCYlJcRKEad0Yd6ltE+7CTAvf3jrbt4wB6UwH8YZ+THJcvpDGSTsb79xPwqNE9lJ8WfTQPj18YVFofX09+pzzjTGdxNSEnxid4svFDcYJr9RgP86nvSs9CqdrXZy/fW9hjSsd44ewcC1qLOmMLX29BF2ymfOZuUTyg2rH/kx7sE2vRd2PTx92juXcXPBL+cZzSXFf/6eipYuUtnnd90ffcB7q5S5jb/XDPonJSUCR87koZ7uUDyURzPlZRLtgl7iEsds51WMyR+H3FNhDEJ6bbQjCA76VIGRyTNUqfpxEUsIwCBConPD9WyLwiWT2RBgBje2aNKYKdI8wGqxMUhIxdVK3wCVwE/gqqVc/BPI6xm0m0VE2IhBTBDP59ubhhM7fWLE0yWWC5Dr3KvA82+cP35GYEk86S52Sr8WQ/ZpjPp3v2R5tQ8LGY+zPJkBuz5XYNAeuW4+MkkBzPXzW3cTGxNhkxESAgjLZyOT1bD5O9iR2ifCU39A2PUGSyHDFfDrGBNpYkexJYstxpQeyEG9pQ56htGhI/sBxEqspgDyeZAOT1CRqkz/08CnFWSLtzjUUNhZkiRhyzomQc2w9cea5EFP4G/NdEo2OW384Jp6pKoFTx9K3SOaTnSxCOU8ew+IZP7XO6emR5gWMs544cE7rYSJ9yFfU0B+ZS3t+z1zMAjQL1c7rzh30c86F/twT2AsLC1Prad9gjuMa1n7pioi5ubkdv0i+yrxqzuGY5XwSvpNv1C0VCS+95j0u5XWqefKJys6XLirQhzhe5/uyxxCE+78NQXjAtyEIhyAcgnAIwiEIhyDkMUMQDkFIkUC/68XNEIRDEA5B+P/3NgThAd/8UBkGFy89ISAQWCxUKCKYlJl8nIgYvAZx9kMiwn7YHhNkkZ66DNZtJ9Eyi/wRoA2u7J+P7q59eG28P0tLS1PJu46p5JuSP9vuAW+yTdmZ96kR0NfX13clEV6OwsSR7pchIa51ZSKnPWln2zIR+Lm5uba9vd22t7d3EWPawgSMJJO+0SNMTKq1djVPEgn6uwl0mqf9nSSOgtAkNfljIpY9ksb1tz0TkbA/ut8eAeY+FP7p2DP59Oa4uLg4RaR6pMiFCq5bivvyAYoUHuM5VR8cs+9bTASY5LpXTEnr2vt+FialcRI3XABM+FekNompJBx7Y7ZdEgGn79B+FHcuBiYSXz7nuLGNPV4WoGin6i8JXMdWEikpvplXOU4WDJ0LPR/naItLryc/zKupYOccxNx76NChKM6ci5xXnMtrXhQdFl4cbxKXLvTa75PfWtxzDVyI6eWRhIH1PcfGdUnxkGIu4bAL8PTveiUR8d58y/HIeTqGeQzbpVh3vq8xM3cmPGLRNMWj7clx+jL0VFwfgvDcb0MQHvDND5Ux6SdY8/4EBxzJVKoAE4RNWFzdJClwImIyImhwzBRPHktKvgRbg7jF7V5kjsf0QLjGwuRpccEqM+fGhElSwGRlIkabJALJRM5kV98x+TkpFAj7eCavnlCqdi0c6GuziLqPYZ+8YT3Z3CTRRLxHvmi7JEDKFonwOW6cCFlISGdXeNa02koJ33HnZM9xc5zV1vr6ejzeZ27YT0/00H5nIwYT4UjEkL7gmDEBTuMnbvH4RKx6czPhNF7NEiGMGZ/FmZ+ffgADzzSYGKYiVy/uab/UZ/126NCheFaT4++9g9Dx4TMNLsBx3b1ubrdszJhIser594QC455njkxEk0+5nx7u8HfnBf/uvJzyCufsuTinJeHV81OPkeMkdtPPXBR2XujFcMq3ta7Jb+knHEvKHXWsH9TFGKA4Nf6mdeY6JezdC19p57rPsI7hmVCesbUt2MMrw/AAACAASURBVJ+v9Ej51vZ3QSP5k/HVeGLB5dzHfni8i1H0IdrMPudnTVAss39flTUE4bnbhiA8y+3zn/98u+GGG9rRo0fbZDJpn/jEJ3Z++8EPftDe8Y53tCuvvLKtra21o0ePtltvvbU9/fTTU2185zvfabfcckvb2tpqW1tb7ZZbbmnf/e53z2gcQxAOQTgE4RCEQxAOQTgE4RCEQxAOQdjD1yEIx7bXNgThWW6f+tSn2l133dUeeeSRXYLw7/7u79o111zTHn744fa1r32tPfbYY+2nfuqn2mtf+9qpNq6//vp25ZVXtkcffbQ9+uij7corr2w33HDDGY3D9xASeHkZXU+YUOBVMDOREXgIWhZ0CfgpzgikCcTYFolzjxQQKAg8BC6OmaDl/nk8+yGJX1lZ2fWOwHQ8559EcrKZSQOTcI+w8Bj35XtSeiQzjdNA3iPd/N3JgYmYa+BLolIf7sdrU58ip+Xj9sd0Xw5JIi+d6/kXk5nFmMUFfaWIQSL9ifCWnehrJN0mC07MZf80fxPwajM94TH5tn3ubD4kCR5PIlxc/4qDRGaJVf6QsLltriHXw0UA+lfPN2h/xrjFWa+Q4fmnfli8mEVgTehpMxLwWT6TBBExIuEe58l+0pq5T9uz4sakneOirVPRsOaS5mk7O0cl7PVcGPfON8brase5jP7dI/Du/3TEATHE+J5ynAVjKjKWwKYPJ9Hgy5HtyxwHfYZxRkGXxl7tcC7O6QljfHyav/NljceXT7JP8yTmgZSTC19ZYLEP+DYZ85VUmEiYxv7TmtXTXOn3iQs4XyUByvglPtOH6A+2T4o7crshCM/NNgThC7BZEKbtS1/6UptMJu2b3/xma621r371q20ymbTHH398Z5/HHnusTSaT9rWvfe20+/YZQgaegy4luArwBLYECoM4AZBg2yOpiXBbINbfHL9JIwEkPYrdiZjHu0KVQJBJ2USF+1Jc+IwS7UzSSnvw3jCTo0SU6nv2n5Lt/Pz81GO7LaLSGpLIVWL32UWfXaK97XO95GUyzPsTTHJSsuH8LTJMuNJ+bIuCsuaZfMtnfugPXqs0ZscHSbZFZJqnv2dV3G2SjNOfbf+ECSYS7INtWVzt9alxeR5pHOlvkzTa05X1RLhnrQ2vYPA8e/7dI5zGMM6T/sRxpldSJEFVwjbtb+HQE2Q9kkh8JznvEXuSt4RTvRhOZwFtA2JUr0BT3+9FJk3w/UCQZM+5ubkd7OTxs2LOOETftM/1cib7oajwHDmvVNQx7tZZadusfJKFBmOVfYvHOL56WEuB6PvcermP/xMXiZW9AgULQInzOC+Xv6U48ZhSUaLm6/2MXTVOYpV9lnmht+YpzlN7qfhFvlPjTnmJmEARWfzJD42xne3X5EiMAfKnXvGl9qtiwRCE+78NQfgCbKcjCP/8z/+8zc3N7Tj1hz70oba9vb1rv+3t7fbhD3/4tPsegnAIQpOvIQiHIEziZgjCIQjtG0MQDkGYsMq+xWOGIByC0OvYw4IhCA/WNgThC7DtJQj//u//vr32ta9tN998885399xzT7vssst27XvZZZe1e++9t9vWs88+25555pmdz1NPPbUT+ATSCqJEhBiYTGC8t6kCmtfzM4lwP1/vnZKywaW3n8lTAZsvtTD56SU7j7lAza9BSOSHbVvsmfwQ0N2mfy8BMovcVR89ckbRRsJDO5PoJcDukTKO2eueCPTCwsJUsmZSYyLi73VZE0lyIhkWNIn8zEpEHLOFu0UDbZSSt/3E/sE1Tpdfciws4FTbieR5XvbpRCwtvE0qErHqHUOR8o/5eA5eJ66/HyVfpKCKDUmsW6BwnXriiPPk/JPoYDwk3zK2sj2ulcmPx8L26jfei8S+iIEldiioGOf0Gb5+gPtYxPjeLvt5jZcEknhNf06xyuJUwtQeGaZv+unJtPnpkH6uIefCSxfT770+U9zWb0kc0Q70DeJbuvSbecD5hn6f+qSfLC8v74hgYyX9hjazHVJOSHavvykUjZVLS0s7Tx62bzmXp7XsxVDPnzh+50JjLefPtU04kfIu87X5SmrDuYc+z9zJ/Mt22A9js/6fxT1qXi5yMYbqfxdjU1GqfI3rmebMMdfY6vghCPd/G4LwBdhmCcIf/OAH7Rd/8Rfba17zmimHvueee9orX/nKXftfeuml7b777uv2dffdd88kXj0ix0AzaDipEUQS0Bn8CxQIDAZKP2DGoMu2ekKqR+wqMVaiIcDTLq4gE7hMBlNCtd0S4eiRJ//mBJXusaEtbBOSBLZLIpMAPhEzJtFElP16h7TOXCeSTiZ1+4DbSOPk9z4r7KTaW/fk2xxHej0DSfPGxkbb2NjYVSVl8jsdH64iTfkcbWBikhKxfd3EkzGQzpyVPeo32ozE1Bhg4ur/67szFYSMD/sF19+iIfmtx1f7JzLNs0NcJ1ftU6xWm9WuzzIXKaM4IFEzpvr7FK8+K5MIa9mI8ZHijFdd0J7GK8+f4s5iIBVMegU/4479ib+xXQuxRLR7Ipx44HF6zrQfbeP7SZPooK05lxpLuhqg+rM/cvwWDOyHfueCGY9fXJy+GoH40svx9HX7ivd1EcQx1IsnCm6K1IqpEoe0H+dmAWc70TdSodyxxDVxXkuFIK8VfYhtOcfSf+kDvm+Q+zGGbec0zoWFUwVw9s8rpfxhodx+6mI28xDnyRxJm/fEojHdPlN+MgTh/m9DEL4AW08Q/uAHP2i/9Eu/1K666qr2t3/7t1O/ne0lo70zhEMQDkE4BOEQhEMQDkE4BOEQhEMQDkE4BOHYznQbgvAF2JIgLDF4xRVXtL/5m7/ZdUw9VOaLX/ziznePP/54m0zO7qEyJObpUh8GOJO6hU4ioCb93o+g7qBPxzuREhCcSNM+NYbe2EgMPS+CMu+xqMRjcUhbkHyk5ON5GdT5MbHjWNiH773g+L2fRZuTspNnIpj+v9aEPlZ98BiTwrSevsSPiYvkhPvRnrxv0muztrY2RehZCLH4MREqwsV5no4Pum0TC/pNSnyOpRSD9p9ZhYj08WW8Jpc930zEtsYzS/jt9aF/9ooASQDYZy2W2a6PZzuJqBvDTGApKCi2e6KLhNNt2RYmSGyDtvFx3p/zLxucTuGl56e0YcJu2o+xX30SH2gzF2WMocauGpcJOP07CRJjci+38XJkr2HKY7Vfr9iRsHIymUxd2nk6RTsLUq9NfXjrwCysYdsJh6ofF9yYV1gUoG3Lfi5EsABGocG1pQCq8ST/8N/1oS+srq5OjaG3nvRtXtpc4yE+JbHNGCyhlMbJubhgyfH38Ntrl/62r3udjWnVd+/+zl4e8fHOVfW3n97t49OtFIuLi21zc7Ntbm7uwk3yjyEI938bgvAst+9///vtySefbE8++WSbTCbtve99b3vyySfbN7/5zfbDH/6w3Xjjje2iiy5qX/7yl9tf//Vf73yee+65nTauv/76dtVVV7XHHnusPfbYY+1Vr3rVWb92gskpnQFwgBYIFpildxSaCDBY+RurlAx69sexVEJJSSnd6F/9uzLGpJSIOcEk/W/wtQCwLRYWcsXNwM2+6r6+RBJT9bXOpPk9TLUPSUZKsGwrEROKs5QEKhEmYsO2XaXmHFmBJOk2mXfC6J39Y7Lh2tb3NeYkcD3PJArrN845kcmUlNl2Gn9PzFS7PdLbI4AkkzyGGGAy2UvyxAnPhW2xv7MRgYxPrmESKz3R1LMTCV8v7hmDtGcio2UXzzW1zXV24cB2TyQ1nWnnOveONw47Tmo8HDuJmM/wVbv09R5202+Sr6Qz045nr3c6K8e20lneZHfaybmrVxSxryZMZ8zV3+yz51te1yo6Mta8NqndGn+yIe2YinnMK728yn1oF/rT8vLy1IN57AP2Xxd8GDcU8SkmiF0Jr2kbrrN91eI0CUr6c+ICKd94Leg3LmTQx1N+Ks6TYprHM273KiikvMHxeW3NeVL//s0x2euTf1t4JkxivqkH45WNhyDc/20IwrPcjh8/HsnPbbfd1r7xjW90ydHx48d32vj2t7/dbr755p3qyM033/yPejH9EIRDELKtIQiHIByCcAhCi44hCIcgpG24zxCEQxAOQfj/7zYE4QHf/GJ6i5h0OQ//NimxAKjjCT4mSN4vCVKTiln9cGwmLAl8ClQLcBKJq+/T/Ro9EOW4SgSmBFFJrmxZorESisHXdqJN9hKOTGo1TwpyEyQmQq6Bk5ATN8lKEoTsIxFL7pcSqX2EbTBxOFEnMeBLlXgM52nC6NhIJIl25jFJ5PVEdFoLEwYnRdozFVjKNy2eFhYWdt0j0iPDHKdFV4pN+8bpikEeQ9tZFPT80eSeft+738cFLq5R8i0XqBJOWUB4nTkuxiRf1kxCalJFHOEa0G/sU8bUJGiMQSkGfXxaAxNqX1bHY9bX1yMB9ZpZKCVh8H/bO7cQvcorDO85xswhQ7WKsaF60bQVYgQR6YUoGq0FY3tZikFBqo12Wr30gPWmTeONd4rQWq9q0gsVCkpp0oOCia0wEUeDVmybhFgoNCZa6gTSrF7I9/f931nfn0nGyczvfh7YZLL/ffgO61trvd8+qX/3GKF9q22u6/UtrS629Jzad9oWLq4HBrpv8T+V0PK29du41QfoNv5ZHvUP+vFyHf+1Z0i1n9xv6fldWKhNZyKqZs+l/nrs7NZSLUvZV+1Bz6nPcmv/af3dP2QirDaGtK2KraqvqI1B/X9pBx+z2T7q9932s1uTdZ9MEGvMLjamt7zWcj6NPXoebRc9p9/SrTG/Vxz1iYCsPtrm6iMQhGcHBGGf44LQk3F9KDsTM5lD0QRQnYMmRergPGHTBEfPlyWFpZw1oaWzpJ6ouqP0oKaBt6zTIKu/6XFLUC3foyr7aWKi59e28QTakwl9gFwfyvZkX5PSTJDpOX1WVQODJ3LZ31rGcg4VHeqgdaZcxbULpCwRcEGuwcYTUE1s1M6yhNWDtduXJuhZIpIJAk/mPPB7H9SSDE0y1abLsTMbVLvXK0XF1jRh0r+zpD9LFrI2dNGTjcdSBh3fvURglnR7cp8laS4EtN89qT+VUCvHzfq9lrCtXr26q9+apumM1YmJia76Z+UqCVcm8N0ufTxnIkzr46/s1/Lr80+eTJdtVHh7HPDkWOtZs5Oa3XqZs+TRJ8Pcp7vvVzvJJkzcP2f1L9vUkvmszYeHh7v8kceurM9UmJT2yESg27su7ivUvrQ9Mhss9qE2rO2Z3Z3i8VKPob5E7UGPpWXO4lkWowcGBrquPKpYyfyv9012JTaLS/p/7+decUj7M8txSn108sBjrotlPYeKt9LumqNkvlzHuotij/E+1rSMOj7Kov5Bf9MxnOWJ2USK26bbY9ae6sP0OAjCswOCsM9BECIIEYQIQk8eamMbQYggVNuotROCEEGox1BfgiBEEHqeiCD8bIAg7HP8LaPu4Dyp80TAf/dEKUtmPZDVHJI7St2/JhzVcTZN9yuoPeku26mz0mDkSZ0nWVp+ra86yrJ/CVi6vzpETUR6JVka5DPH7UHQ66vBT4+l5/CkKEt+NHDqek/S/FMRLrC9nf0c2k7ZrZ2l/TzwZ0HZRZwnCpqYZEl3r2S4V9KbjSe/7ab2TEUtKSh1yc7px9BbkLwN1Ga0b7Kx75Mnvo/2jY8xT1JPZ/Fx57bmkz3aZl5uF6Rqg7X20yRLE7bBwe5XpPv+WTKsZXQ79XbKJnz0WGoPpT2ypNF9jfpRT/gyH+L9nk34+RhSm/TbObVvNKH3fj5VO3lcUfvzOOBCQxPiU9mzt6vHNfXNtcmShUweuRjQc/oklcdCHwPeZy7U9Td9rt3bRycn1Ja0jDr5lCXpvtTqr+V0u68dO/OhpTw+YaLncbt3f1i2U3GoQiPLI1zc1ESLPgddbFJFXObTNUdSOz2Vv61NOKn9at/6OM9srth6Nj61bXUMDQ7OfwY2yxn9IkAtf3ERmPlXLzeCcOlBEPY52TOEmRjxZNgHvYoIHYhZkuhBxwNtzSHWgo0Lv5rQcGfvSY8G2ZLceIDPkklP2NRp6Tb6XIeLIg22WiYPFtqW4+PjnauQWVLh9fFkShOZzKGXY2g/6XYaoPSzG2ortSCn/e9BRH/zNq+VxZda8Ne+zQJKOa4eJ3tu1K+K1s6jQVkFvdtfFlw9cHpi6kmOljOzrXLsmtDI7DarV62dPDHygKwCr/ZbL1FY6lmzDe1P3c/3zyZsfJyU9RMTE/NETFn0SpH2k7fb2NhYepW7lqT7FTLtm/Hx8VTQ+eLjP2tzPW4ZW5poqmDIxk0tKfTktCT02TPaIyMj6TOAapt+ldTHQ9YHGnt8Uke38885eB/W6uVXzDzG+eRf9nv5vybG6lO8TzN/qeXTbfVzEiq+9feyTTbpqjHRBYX7l153qmRJv+YLHiO1b70NvQ9LP2RXdd1WfJ/MNj2XUV/hEweZPyljyCc8/Dw+7t13uo34sdS/FZ+s8VfLmdmTCyi1lcyP+LFKW2R+xG0zG0OlPup7PQfyCarShtm40XxBXwDm4xVBuPQgCPscf8uozkzr4K7NipVBmiUcmQgsjkWTLk2aVcTpNlkCnd065o7IE9aaI9bfy986a+qOTRMBvQ1Lj6UJo9fBg4W2vQfo0h8+S5pd0eo1s6v90SuhOdWsYzl/FkRK3bLbm7w9egUO7ScNilmA0yDgwaUmvDLR40ErC0hZUNYktJxf+zCrS7Gb8rdeMdRj9mpnH4f+W5a8auJduyKht+b4GNb29b+1P7MyZyJvoYIws2FPoNWG/M4ELYPWN0tYNTEufaaCSNsnGyM1n+OJXbnq7bcSavuNjHTfqqx94S/XcP+U+ST3Oz7us6TZ91H/4mMg6xv92/2bl60WY7QumQ/1Rf2a7uMJufrLgYGBrsS6V2KcJbo61tUfZHdE6NWmLMn2iT23gUxQ1cZAOV45tj4KoH6nJqbcjoaGhjovaNE4rPGn9F85tr+oSts/i9d+9Va36xWvamXW9tNHF2o5Sim/tqf2h/qKLLcZGBjoehmR+jAfJ2qTavfqA7ROPrZLDlT8Sea7tS+yu1GyPEttoFZ+b3M9T69JZ91f20n9qx5LBXevSRG1j/JivrIvgnDpQRD2OQhCBCGCEEGIIEQQIggRhAhCBKGWDUEIpwOCsM8pgnB0dDS9LU4dYq/ArUl/5pDV6WSON3PQuo86pyzpzYKCJizubN2h6C00WYJRHJw6/uzWBg96vn2WTI2Pj3eCqj8XVEs2fb3WX5PZmvAsQdZvv9TnG7xuNSHtfeHtVDtnJhT9mUO1Nd0uC0h6W54mg9kthsXeNamq2bfaXZaYe6Ki23kCq+2kwduFUpY8efLot0ZmtuEvlckS7sxO9Nw+fjXJKdv5bYVZgrNQ8Xcq4Zj5Fk0MdXuvp9qk76MJkyfpma/TsaLt6hMBNV/nYzVL3orfKbbqEznqqzUZVVtRv6O26aIv+7+uK/vqObN29Xb32/XcjjQZLesmJibSZFgFiIsyHzOZ2PZY4hMu2bjTNsuSW20D9UFZ32YJsd5yqQmvP1eeTYD6cWv2mMUiT7rVJ6rf0AkH9y/altk5szGgk1JaZu8XL7vHOp1YqOUWWf6gtqIiw/2Uj09tW7Utt5csT9H45BNMWl6PXR7byvbeR3rOLBfT42aPcWRx0X2S53X6t47VTMjq2PD93W61X2vPbbqtZTaoNoUgPDsgCPucIgh18GsylA3U7JkrFwSZUKoNYk+UNahms13FEZbf9G2e6ozUuXsg8Fm5LCnRumVXUzQIqUP1gFXqqjPSa9as6boCoM5SEwVN7LQ+/qxCluQXh+gBR5NqT4pqVxSzwFPKrIlq+bZVlhhoEKiJKk84tG46e6j9pAmq94eeX2eZyzfAsjqOjo52vV03C4qaJGjQ8mNmgqCUy4/ngcwnOLI+zwSAz7r7+bPETc+vCa2eo/RzeXa1Jhp83J2pEPSkurR19gIGFU1aL28nTxJrtq3H9UmqrG+1jD4p5u2s4iSz09JutbsjvK2LHek4dhGV+TT1z1m/61h1IVra1gVhZsO15DGLHXrsYmc6YZL5itqYLOvdVrQ/Mh9Vyuvtq7akx8kSfRUI2RWZbNz4XRO6XvtW7a4mXM8555yOD/MJj5p/1Pq7iNa+1RihYkXjios4/ztbsjbPtnP/qv5fY5zH31qs8XGXjWndp+Yf/f+1sepXOwcGBtIX+/j4Le3sdyaoj9V+W716dZeILOdwceoTrTW/43ad2br7nszXuK2pTWhdeo1796O1vi3/IgjPDgjCPgdBiCBEECIIEYQIQgQhgtD9Uzk/ghBBiCCEU4Eg7HP8sxPubLIA5YmEOxFdNElzMZLdzuGJvjp1vVVoYKD7deV6/izY6/lK8piJEz2f3hKWOZ4sWHn7+e0oGmyyMmtblMChyUOWCHmQVYfqt9G4Ay/nU8friVz27UUNalkio/2vyWT2qQoPHFkZvJ5ZHbIkzdtMA2GW7Hnw8gQ4W/xZnmLTLji0zcokRpZMeV9qO3sikgkvbSdPstUG3IY0McrKX86r5/FkSgO2J1ha3tNdMrGttyJ6klva1b+x2Cvp98RO65xtp/X326P01jsvZ5ZMejtnduk+Stuz1Dnz3Vp/v0XN/WtmD+q/9HnpwcH5r8vPkkH1D24nGiOy5N6FgotzndjxxF2PVZLh4o8y3+P2rH5fn6vX9vX99Zt4anPqk72NMj+tMa3UOYuRtf5zn1/zY+qTtCx6XBcHnsxntu0TBuVcxdfpBKjWScviIkLbMItpPsmg/ey+rLa/251OXqig0789/me+09tW9/f6qPDLHmXRPKa0m+6T2YnbT9nfY4eK3VWr/v+tY39/gfaH97vXrZRJt9c3onpfaJtrOXXcef6hbe7xrZQPQbj0IAj7nCIIi+OvJRKeiGiCoNvpCz7cwevgVifmA91nLX32068KuojT46ow8GRMf9P1WeAryU+W+PjMaC0Ry5yfCx3/uzZrrPVWJ+oJswfVWsJWS+wzger9qX1WypldySt9p1dzVOAPDAykCXStnbycGjCzRKBsp+Xw9tW6+sx+JuxV6GQBTttvcLB7ltbtI7tq4ONR+0yfQfTfvGwa+GtJkm6XJW9ZmWrJR5YkLmbJxrrXO5sc0L5z4a13CfiHk/Xv2ksf9Dx+NUH9lW6n7eTb1Ors4ztr87KN2lpmNy6WtPzax9pOeoyhoaGuK8S9kuxsdt/bUo+hfsTLr/t7u9QmMjRJVeGqdfMxnT2nl01GZLFL+8zbTAWQ/qbncZ+SjavM92V3RqgtFF+h4zsTOlpOnXwqbaA+uiY09Jy1/2e2ktlszTdrP/UaGyU2lX7KYrxO+ro9qH9x28z6opTX7/jJxnwWk4aHh2NycjK9Q8rPU2tD9ffahzoe3bb8O8zZZ648vmm5NRfI4lTpGxeQWvZs3GRxRP25P0dZ+sl9RWkTBOHSgyDscxCECEIEIYJQx4bWH0GIIHRxgyBEEGZ942Wq/T+zlcxmEYQIQo8j6s8RhCsPBGGf45+dcKGmt9hlAzVLOMqx9JYBD6qezJftVOh5UHWHtJDyaIAfGvr/7Y+eeGfJuDs6XdQp1xIBTSbcWenfmnR7YC3n8gCrgSwrtyZM2halniWh8yRLg4XWvxynFrw9Gc6STg9qKih1Ww+kWSDXspXAlSVmGsjUDr0vm6bpEqNZYulJZnaMLJmvBX/tU08YPMnQttWgmNXZkxefWMnOMzzcfUt2lnDqZI6XR8+jfaRtoknBqRZNRHTxc6oNZ4l9KZfWMxu3tSQ/S2x0XSZ6/HYvHx/uE/ycPqa0bdU2feLDx4raVjamXRy7UNDx4BM1XsaJiYmqH/Xx6B8y1749lUDPJrgyoaO2Mzw8nD4T7LFDj53ZfZbMemxSX12LT70mNTJf4f2mwq2WdGcfKc9syMuWCYhiQ7VYq2/I9rGV+Tf1TzXRqJOLuq60WZav+FjxT5z4pGVpR62XH1tjtNpGVq4iwvx3bUvfxvMKFZPuUzP/6JObWdx1H5blCJl/qNmJl0G3c/+m9czGcC9fp/6x1z5aV41jxV+V8iIIlx4EYZ9TBGEZyJ7A1pxLmSXuta0LgExMedLcyzn471mS4omxri8P2Hs93bmoE/dtstniWuDQK2ElYGTB3516bTbZg0fmEL0ufiVM+0MDflYW71cV+D5T7wlO5rj9SmImbIaH5z8LpWXLgn2WZGk/a/012Jfj+ixjzd7cxjUhcOGmfZn1U6m3Hq9820tnhrUcalvad56Y1ERoaafJycmYnJyclxhkbe426wlTlhhrYqNlrtVhIYv3T6mn2lE2Y+wi0D+r4s+Gef0HBz+5qltL2NRuNSnzmXY9p16FWegVALXt7Dux7i+9DpqMqj1632gfln30SrSPG91er/5libP7VI8LLtb12Fp/tZ/yfFUmwrKx6pMK+rfbm/aZ/la7mu/JcOY3St+qiKlNuGmf+aRkib/qB3WfoaHuz3P4mFR/qWXLhJrbkv+u9lwbdx4vtcxZ/Uq81Pp6W2t/qs/VftK2VTvJ7k7JypO1jdqcxycth7axT4rob2oD3gZaTxVHtYkkj7HZ2Mh8XRaj3G71WDr54H6mFof0nJ4/+CdWPN/w3MjjQJYjab8hCM8OCMI+B0GIIEQQIggRhAhCBCGCEEGIIPTxgyCEhYIg7HN6PUOoTsiT6VMFjOx4elx1xJ5kZksmiLLg6Q7dy+xJmAuS4vDKcdUJ+muhtb5e1hL0tVzqRLX+nsTqm8Xc2amzL8cqt0J5P5TkUffXumfi1p810eTFE6ZMnGlSpIGriB8tX5YIZsEoSwxdxHqCk9mNi0YPeFnw84CvNqwTEh4UPbEp6zRZ0eN522jwz5I0t5XSdx5UtS5Z8M5urdFz6TjzRFfbviYmdL2O016L7+/jWBe9XU37zEWXliGblHABpHXWJMcnmbJ+9j7y0xdi1gAADuZJREFUumS2pcl0WV+OMzY21jXusrbwOumkivox9+m6v5bBRXQm6NwWvK7ZuFcbzpK5LLHsFROy45UEMxPYLpa1nh6T3PdkSyaevE/8Fm4VeTpGfQxqn/nYz+zWxZ0/Z+fjuJdQ0/hY2sbjgve5t2Umtsp5Ml/mduWTyLV8Q+tZawOfCMnOn/lIbTMtS7kFWX11eTZcBWGWr7iYUnvQcan97GV2f5LZmvoI91WZ38nif+ZPmqaJNWvWdLVfFi98DHj/ZnlWZgulXFoe9ynZhFf5rZQZQbj0IAj7HP/sRC0xdwHgASELVrVA6efxQayJgCa5GjhHRkbmvaDDA5Q7GE3G3EFp8uKzd5owlfr4c25Z3TwI1IRjr2CvwSMrl5at1Ncdf+bgtUwuoLRcur8fS4OTP2vqz256UK3NspcyZAFC6+kJhveBCyFvv5Lo6iu1dbtSfq+rJgUuprOxouf3NnNxkAVYFxa1gOnjTevi7azjrhbIsyS9jJNe47j0mU8eaOLTSwhqP+j+5Tedndf17h+ycVYW9RtZkqz+zfvGr+r2Emp+fE3Uij30urqlVwIz29Dkt5Q7G2veTuVKtE9IaNvqWFM/7JMFmR2W7XUiKbNZf52+1s2vsGT26G3mv6nwLX9rPUpfZPFB91Hbqo35UuZMEKpNl77OhILHTh1zWVzwiTRd7+XSbT32ZQJK/WVpSz1nZgPZs+juv31x0ediKutr7TM9VrmKmMUlb5ssDmZX37Jn2AYHB7u+kenxIauzlmtsbKwzBt0WNC7qbzVBV9pa7asmDnv5Bu1bbZvsnFpW9YdDQ93vI/C7t/RYGqNq+aO3ox7b2yCzZ/fTCMKlB0HY5yAIEYQIQgSh7q/buE0gCBGECEIEIYIQQYggBAdB2OccPXp0XlJWbofwpEy38WRNna0m4lngzX7TBLaW2GpA0DJkDscDcdkvczxZEpklpnpsT2x1n0wYlHpnwVvL4gm0true0+ufPR/iiXlWp7Jez1kS5hLs9PxZ23hi6+2uTlydvQZeTUQygVeSklqfaWD2YFnq4/X05CWzVQ0w3s9qz7X9a/ZU2kzX6Rtw9dxZW5ay1MSJjgFt/1piVbMTFw0+GVETdzVBuNB9ar4nO67bltuQJoYqdNSGPLFRO3VfldU9S+bVj2b96W2u51Z/p4lVr/P3mgjQ9TpW1R7dVmrlzPxh1keZT/Uk18eZxg5vzzLWevWz2n02qeT76WeS3Nepf/KEX9tTRWbmNzzJ1bbVxxDcd7ttaxtkMU59kPsWPY+LnlI2vV3QJxu8rU/lE8s+HhfcbvXZQPdhWh/3aXoMzyP0/zrOM/HgPlTbXn2KC79sgsdtqBZHfGy6KNRjLSSOaFncv6vdZuPSf/MyZ4uLan0u23Merbuet+bTe/kd92NZnpjVr5zr6NGjy51uf+ZBEPY577333mknaCwsLCwsLCwsLCz9sBw6dGi50+3PPAjCPueDDz6Ipmni4MGDcezYMRaW014OHTrUcbjLXRaW/lywIZbFLtgQy2IXbOiztxw9ejQOHToU//3vf5c73f7MgyDsc44d++QZwmPHuL8azgxsCBYLNgSLBRuCxYINAZw5CMI+BwcIiwUbgsWCDcFiwYZgsWBDAGcOgrDPwQHCYsGGYLFgQ7BYsCFYLNgQwJmDIOxz5ubm4pFHHom5ubnlLgr0KdgQLBZsCBYLNgSLBRsCOHMQhAAAAAAAAC0FQQgAAAAAANBSEIQAAAAAAAAtBUEIAAAAAADQUhCEAAAAAAAALQVB2Oc8/vjjcckll8SqVaviiiuuiJdffnm5iwQrhJdeeik2b94ca9eujaZp4vnnn+/6/eTJk/HII4/E2rVr45xzzolrr7023nzzza5tjhw5Elu2bIk1a9bEmjVrYsuWLfHBBx+czWrAMrFt27a48sorY2JiIs4///z41re+FW+//XbXNnNzczE9PR3nnXdejI2NxS233BKHDh3q2ubAgQOxefPmGBsbi/POOy9+8IMfxPHjx89mVWCZeOKJJ+Kyyy6LycnJmJycjK997Wvx4osvdn7HfuB02bZtWzRNE/fee29nHXYEsHgQhH3Mzp07Y2RkJH72s5/F/v374957743x8fE4cODAchcNVgAvvvhiPPTQQ/Hss8+mgnD79u0xOTkZzz77bMzOzsa3v/3tWLt2bXz44Yedbb7xjW/Ehg0bYs+ePbFnz57YsGFDbN68+WxXBZaBm266KZ5++ul488034/XXX4+bb745vvjFL8a///3vzjZbt26NL3zhC7Fr166YmZmJ6667Li6//PI4ceJEREScOHEiNmzYENddd13MzMzErl274qKLLorp6enlqhacRX7961/HCy+8EO+8806888478eCDD8bIyEhn4gn7gdPhz3/+c1xyySWxcePGLkGIHQEsHgRhH3PVVVfF1q1bu9Z99atfjfvvv3+ZSgQrFReEJ0+ejAsvvDC2b9/eWTc3NxdTU1Px5JNPRkTE/v37o2maePXVVzvb7N27N5qmmXelCD77/POf/4ymaeKll16KiIijR4/GyMhI7Ny5s7PN4cOHY3BwMH7zm99ExCeTEoODg3H48OHONjt27IhVq1bx8eiW8rnPfS5+/vOfYz9wWnz00Uexfv362LVrV1x77bUdQYgdAXw6IAj7lOPHj8fQ0FA899xzXet/+MMfxjXXXLNMpYKVigvC9957L5qmiZmZma7tvvnNb8Ztt90WERFPPfVUTE1NzTvW1NRU/OIXv1jaAsOK4913342maWJ2djYiIn73u99F0zRx5MiRru02btwYP/rRjyIi4uGHH46NGzd2/X7kyJFomiZ+//vfn52Cw4rgxIkTsWPHjhgdHY233noL+4HT4rbbbov77rsvIqJLEGJHAJ8OCMI+5fDhw9E0Tbzyyitd63/yk5/El7/85WUqFaxUXBC+8sor0TRN14xpRMSdd94ZX//61yPiE1tav379vGOtX78+tm3btrQFhhXFyZMn45Zbbomrr766s+6Xv/xljI6Oztv2xhtvjLvuuisiPrGnG2+8cd42o6Oj8cwzzyxdgWHF8MYbb8T4+HgMDQ3F1NRUvPDCCxGB/cDC2bFjR2zYsCE+/vjjiOgWhNgRwKcDgrBPKYJwz549Xet//OMfx1e+8pVlKhWsVGqC8P333+/a7rvf/W7cdNNNEVGfXPjSl74UP/3pT5e2wLCiuOeee+Liiy/uelFDLRG74YYb4nvf+15EdE8wKCMjI7Fjx46lKzCsGI4fPx7vvvtuvPbaa3H//ffH5z//+XjrrbewH1gQBw8ejAsuuCBef/31zrqFCELsCOD0QBD2KdwyCqcDt4zCmTI9PR3r1q2Lv/71r13ruVULzoRNmzbFXXfdhf3Agnj++eejaZoYGhrqLE3TxMDAQAwNDcXu3buxI4BPAQRhH3PVVVfF3Xff3bXu0ksv5aUyMI/aS2UeffTRzrrjx4+nL5X505/+1Nnm1Vdf5aUyLeHkyZPx/e9/Py666KL4y1/+Mu/38jKHX/3qV51177//fvoyB70SvXPnTl7m0GKuv/76uP3227EfWBAffvhhzM7Odi1XXnllbNmyJWZnZ7EjgE8JBGEfUz478dRTT8X+/fvjvvvui/Hx8fj73/++3EWDFcBHH30U+/bti3379kXTNPHYY4/Fvn37Op8l2b59e0xNTcVzzz0Xs7Oz8Z3vfCf97MTGjRtj7969sXfv3rjsssv47ERLuPvuu2Nqair++Mc/xj/+8Y/O8p///KezzdatW2PdunWxe/fumJmZieuvvz593fumTZtiZmYmdu/eHevWreN17y3hgQceiJdffjn+9re/xRtvvBEPPvhgDA4Oxm9/+9uIwH7gzNBbRiOwI4BPAwRhn/P444/HxRdfHKOjo3HFFVd0XgkP8Ic//CGappm33H777RHx/w/TX3jhhbFq1aq45pprOm+QLPzrX/+KW2+9tfNh6VtvvZUP07eEzHaapomnn366s83HH38c09PTce6558bq1atj8+bNcfDgwa7jHDhwIG6++eZYvXp1nHvuuTE9PR1zc3NnuTawHNxxxx2d+HT++efHpk2bOmIwAvuBM8MFIXYEsHgQhAAAAAAAAC0FQQgAAAAAANBSEIQAAAAAAAAtBUEIAAAAAADQUhCEAAAAAAAALQVBCAAAAAAA0FIQhAAAAAAAAC0FQQgAAAAAANBSEIQAAAAAAAAtBUEIAAAAAADQUhCEAAAAAAAALQVBCAAAAAAA0FIQhAAAAAAAAC0FQQgAAAAAANBSEIQAAAAAAAAtBUEIAAAAAADQUhCEAAAAAAAALQVBCAAAAAAA0FIQhAAAAAAAAC0FQQgAAAAAANBSEIQAAAAAAAAtBUEIAAAAAADQUhCEAAAAAAAALQVBCAAAAAAA0FIQhAAAAAAAAC0FQQgAAAAAANBSEIQAAAAAAAAtBUEIAAAAAADQUhCEAAAAAAAALQVBCAAAAAAA0FIQhAAAAAAAAC0FQQgAAAAAANBSEIQAAAAAAAAtBUEIAAAAAADQUhCEAAAAAAAALQVBCAAAAAAA0FIQhAAAAAAAAC0FQQgAAAAAANBSEIQAAAAAAAAtBUEIAAAAAADQUhCEAAAAAAAALQVBCAAAAAAA0FIQhAAAAAAAAC0FQQgAAAAAANBSEIQAAAAAAAAtBUEIAAAAAADQUhCEAAAAAAAALQVBCAAAAAAA0FIQhAAAAAAAAC0FQQgAAAAAANBSEIQAAAAAAAAtBUEIAAAAAADQUhCEAAAAAAAALQVBCAAAAAAA0FIQhAAAAAAAAC0FQQgAAAAAANBSEIQAAAAAAAAtBUEIAAAAAADQUhCEAAAAAAAALQVBCAAAAAAA0FIQhAAAAAAAAC0FQQgAAAAAANBSEIQAAAAAAAAtBUEIAAAAAADQUhCEAAAAAAAALQVBCAAAAAAA0FIQhAAAAAAAAC0FQQgAAAAAANBSEIQAAAAAAAAtBUEIAAAAAADQUhCEAAAAAAAALQVBCAAAAAAA0FIQhAAAAAAAAC0FQQgAAAAAANBSEIQAAAAAAAAtBUEIAAAAAADQUhCEAAAAAAAALeV/KU1rZ+2kCQgAAAAASUVORK5CYII=\" width=\"900\">"
      ],
      "text/plain": [
       "<IPython.core.display.HTML object>"
      ]
     },
     "metadata": {},
     "output_type": "display_data"
    },
    {
     "data": {
      "application/vnd.jupyter.widget-view+json": {
       "model_id": "a52445140948480f93190e2039c25d0e",
       "version_major": 2,
       "version_minor": 0
      },
      "text/plain": [
       "HBox(children=(IntRangeSlider(value=(16383, 49151), layout=Layout(width='75%'), max=65535), Button(description…"
      ]
     },
     "metadata": {},
     "output_type": "display_data"
    }
   ],
   "source": [
    "%matplotlib notebook\n",
    "tr.set_bead_loc_opts(Path(\"beads\", \"beads_\\d+_.SPE\"))"
   ]
  },
  {
   "cell_type": "code",
   "execution_count": 6,
   "metadata": {
    "scrolled": false
   },
   "outputs": [
    {
     "data": {
      "application/vnd.jupyter.widget-view+json": {
       "model_id": "0378c885eeae41b9903b504e2492b336",
       "version_major": 2,
       "version_minor": 0
      },
      "text/plain": [
       "Label(value='Starting…')"
      ]
     },
     "metadata": {},
     "output_type": "display_data"
    },
    {
     "data": {
      "image/png": "[encoded data removed]",
      "text/plain": [
       "<Figure size 432x288 with 2 Axes>"
      ]
     },
     "metadata": {},
     "output_type": "display_data"
    }
   ],
   "source": [
    "%matplotlib inline\n",
    "tr.make_chromatic()"
   ]
  },
  {
   "cell_type": "code",
   "execution_count": 7,
   "metadata": {},
   "outputs": [],
   "source": [
    "tr.add_dataset(\"sensor IEk non-act BSA cells\",\n",
    "               Path(\"sensor-IEk_non-act_BSA\", r\"cells-(\\d{2})_(\\d{3})_.SPE\"))\n",
    "tr.add_dataset(\"sensor IEk non-act BSA no-cells\",\n",
    "               Path(\"sensor-IEk_non-act_BSA\", r\"no-cells_(\\d{3})_.SPE\"))\n",
    "tr.add_dataset(\"sensor J4 non-act BSA cells\",\n",
    "               Path(\"sensor-J4_non-act_BSA\", r\"cells-(\\d{2})_(\\d{3})_.SPE\"))\n",
    "tr.add_dataset(\"sensor J4 non-act BSA no-cells\",\n",
    "               Path(\"sensor-J4_non-act_BSA\", r\"no-cells_(\\d{3})_.SPE\"))\n",
    "tr.add_dataset(\"sensor J4 act-IEk-his BSA cells\",\n",
    "               Path(\"sensor-J4_act-IEk-his_BSA\", r\"cells-(\\d{2})_(\\d{3})_.SPE\"))\n",
    "tr.add_dataset(\"sensor J4 act-IEk-his BSA no-cells\",\n",
    "               Path(\"sensor-J4_act-IEk-his_BSA\", r\"no-cells_(\\d{3})_.SPE\"))"
   ]
  },
  {
   "cell_type": "code",
   "execution_count": 5,
   "metadata": {
    "scrolled": false
   },
   "outputs": [
    {
     "data": {
      "application/vnd.jupyter.widget-view+json": {
       "model_id": "c5a240ec664244728bf992c050ab231a",
       "version_major": 2,
       "version_minor": 0
      },
      "text/plain": [
       "HBox(children=(VBox(children=(Select(layout=Layout(width='auto'), options=('sensor-IEk_non-act_BSA/cells-21_00…"
      ]
     },
     "metadata": {},
     "output_type": "display_data"
    },
    {
     "data": {
      "application/javascript": [
       "/* Put everything inside the global mpl namespace */\n",
       "window.mpl = {};\n",
       "\n",
       "\n",
       "mpl.get_websocket_type = function() {\n",
       "    if (typeof(WebSocket) !== 'undefined') {\n",
       "        return WebSocket;\n",
       "    } else if (typeof(MozWebSocket) !== 'undefined') {\n",
       "        return MozWebSocket;\n",
       "    } else {\n",
       "        alert('Your browser does not have WebSocket support.' +\n",
       "              'Please try Chrome, Safari or Firefox ≥ 6. ' +\n",
       "              'Firefox 4 and 5 are also supported but you ' +\n",
       "              'have to enable WebSockets in about:config.');\n",
       "    };\n",
       "}\n",
       "\n",
       "mpl.figure = function(figure_id, websocket, ondownload, parent_element) {\n",
       "    this.id = figure_id;\n",
       "\n",
       "    this.ws = websocket;\n",
       "\n",
       "    this.supports_binary = (this.ws.binaryType != undefined);\n",
       "\n",
       "    if (!this.supports_binary) {\n",
       "        var warnings = document.getElementById(\"mpl-warnings\");\n",
       "        if (warnings) {\n",
       "            warnings.style.display = 'block';\n",
       "            warnings.textContent = (\n",
       "                \"This browser does not support binary websocket messages. \" +\n",
       "                    \"Performance may be slow.\");\n",
       "        }\n",
       "    }\n",
       "\n",
       "    this.imageObj = new Image();\n",
       "\n",
       "    this.context = undefined;\n",
       "    this.message = undefined;\n",
       "    this.canvas = undefined;\n",
       "    this.rubberband_canvas = undefined;\n",
       "    this.rubberband_context = undefined;\n",
       "    this.format_dropdown = undefined;\n",
       "\n",
       "    this.image_mode = 'full';\n",
       "\n",
       "    this.root = $('<div/>');\n",
       "    this._root_extra_style(this.root)\n",
       "    this.root.attr('style', 'display: inline-block');\n",
       "\n",
       "    $(parent_element).append(this.root);\n",
       "\n",
       "    this._init_header(this);\n",
       "    this._init_canvas(this);\n",
       "    this._init_toolbar(this);\n",
       "\n",
       "    var fig = this;\n",
       "\n",
       "    this.waiting = false;\n",
       "\n",
       "    this.ws.onopen =  function () {\n",
       "            fig.send_message(\"supports_binary\", {value: fig.supports_binary});\n",
       "            fig.send_message(\"send_image_mode\", {});\n",
       "            if (mpl.ratio != 1) {\n",
       "                fig.send_message(\"set_dpi_ratio\", {'dpi_ratio': mpl.ratio});\n",
       "            }\n",
       "            fig.send_message(\"refresh\", {});\n",
       "        }\n",
       "\n",
       "    this.imageObj.onload = function() {\n",
       "            if (fig.image_mode == 'full') {\n",
       "                // Full images could contain transparency (where diff images\n",
       "                // almost always do), so we need to clear the canvas so that\n",
       "                // there is no ghosting.\n",
       "                fig.context.clearRect(0, 0, fig.canvas.width, fig.canvas.height);\n",
       "            }\n",
       "            fig.context.drawImage(fig.imageObj, 0, 0);\n",
       "        };\n",
       "\n",
       "    this.imageObj.onunload = function() {\n",
       "        fig.ws.close();\n",
       "    }\n",
       "\n",
       "    this.ws.onmessage = this._make_on_message_function(this);\n",
       "\n",
       "    this.ondownload = ondownload;\n",
       "}\n",
       "\n",
       "mpl.figure.prototype._init_header = function() {\n",
       "    var titlebar = $(\n",
       "        '<div class=\"ui-dialog-titlebar ui-widget-header ui-corner-all ' +\n",
       "        'ui-helper-clearfix\"/>');\n",
       "    var titletext = $(\n",
       "        '<div class=\"ui-dialog-title\" style=\"width: 100%; ' +\n",
       "        'text-align: center; padding: 3px;\"/>');\n",
       "    titlebar.append(titletext)\n",
       "    this.root.append(titlebar);\n",
       "    this.header = titletext[0];\n",
       "}\n",
       "\n",
       "\n",
       "\n",
       "mpl.figure.prototype._canvas_extra_style = function(canvas_div) {\n",
       "\n",
       "}\n",
       "\n",
       "\n",
       "mpl.figure.prototype._root_extra_style = function(canvas_div) {\n",
       "\n",
       "}\n",
       "\n",
       "mpl.figure.prototype._init_canvas = function() {\n",
       "    var fig = this;\n",
       "\n",
       "    var canvas_div = $('<div/>');\n",
       "\n",
       "    canvas_div.attr('style', 'position: relative; clear: both; outline: 0');\n",
       "\n",
       "    function canvas_keyboard_event(event) {\n",
       "        return fig.key_event(event, event['data']);\n",
       "    }\n",
       "\n",
       "    canvas_div.keydown('key_press', canvas_keyboard_event);\n",
       "    canvas_div.keyup('key_release', canvas_keyboard_event);\n",
       "    this.canvas_div = canvas_div\n",
       "    this._canvas_extra_style(canvas_div)\n",
       "    this.root.append(canvas_div);\n",
       "\n",
       "    var canvas = $('<canvas/>');\n",
       "    canvas.addClass('mpl-canvas');\n",
       "    canvas.attr('style', \"left: 0; top: 0; z-index: 0; outline: 0\")\n",
       "\n",
       "    this.canvas = canvas[0];\n",
       "    this.context = canvas[0].getContext(\"2d\");\n",
       "\n",
       "    var backingStore = this.context.backingStorePixelRatio ||\n",
       "\tthis.context.webkitBackingStorePixelRatio ||\n",
       "\tthis.context.mozBackingStorePixelRatio ||\n",
       "\tthis.context.msBackingStorePixelRatio ||\n",
       "\tthis.context.oBackingStorePixelRatio ||\n",
       "\tthis.context.backingStorePixelRatio || 1;\n",
       "\n",
       "    mpl.ratio = (window.devicePixelRatio || 1) / backingStore;\n",
       "\n",
       "    var rubberband = $('<canvas/>');\n",
       "    rubberband.attr('style', \"position: absolute; left: 0; top: 0; z-index: 1;\")\n",
       "\n",
       "    var pass_mouse_events = true;\n",
       "\n",
       "    canvas_div.resizable({\n",
       "        start: function(event, ui) {\n",
       "            pass_mouse_events = false;\n",
       "        },\n",
       "        resize: function(event, ui) {\n",
       "            fig.request_resize(ui.size.width, ui.size.height);\n",
       "        },\n",
       "        stop: function(event, ui) {\n",
       "            pass_mouse_events = true;\n",
       "            fig.request_resize(ui.size.width, ui.size.height);\n",
       "        },\n",
       "    });\n",
       "\n",
       "    function mouse_event_fn(event) {\n",
       "        if (pass_mouse_events)\n",
       "            return fig.mouse_event(event, event['data']);\n",
       "    }\n",
       "\n",
       "    rubberband.mousedown('button_press', mouse_event_fn);\n",
       "    rubberband.mouseup('button_release', mouse_event_fn);\n",
       "    // Throttle sequential mouse events to 1 every 20ms.\n",
       "    rubberband.mousemove('motion_notify', mouse_event_fn);\n",
       "\n",
       "    rubberband.mouseenter('figure_enter', mouse_event_fn);\n",
       "    rubberband.mouseleave('figure_leave', mouse_event_fn);\n",
       "\n",
       "    canvas_div.on(\"wheel\", function (event) {\n",
       "        event = event.originalEvent;\n",
       "        event['data'] = 'scroll'\n",
       "        if (event.deltaY < 0) {\n",
       "            event.step = 1;\n",
       "        } else {\n",
       "            event.step = -1;\n",
       "        }\n",
       "        mouse_event_fn(event);\n",
       "    });\n",
       "\n",
       "    canvas_div.append(canvas);\n",
       "    canvas_div.append(rubberband);\n",
       "\n",
       "    this.rubberband = rubberband;\n",
       "    this.rubberband_canvas = rubberband[0];\n",
       "    this.rubberband_context = rubberband[0].getContext(\"2d\");\n",
       "    this.rubberband_context.strokeStyle = \"#000000\";\n",
       "\n",
       "    this._resize_canvas = function(width, height) {\n",
       "        // Keep the size of the canvas, canvas container, and rubber band\n",
       "        // canvas in synch.\n",
       "        canvas_div.css('width', width)\n",
       "        canvas_div.css('height', height)\n",
       "\n",
       "        canvas.attr('width', width * mpl.ratio);\n",
       "        canvas.attr('height', height * mpl.ratio);\n",
       "        canvas.attr('style', 'width: ' + width + 'px; height: ' + height + 'px;');\n",
       "\n",
       "        rubberband.attr('width', width);\n",
       "        rubberband.attr('height', height);\n",
       "    }\n",
       "\n",
       "    // Set the figure to an initial 600x600px, this will subsequently be updated\n",
       "    // upon first draw.\n",
       "    this._resize_canvas(600, 600);\n",
       "\n",
       "    // Disable right mouse context menu.\n",
       "    $(this.rubberband_canvas).bind(\"contextmenu\",function(e){\n",
       "        return false;\n",
       "    });\n",
       "\n",
       "    function set_focus () {\n",
       "        canvas.focus();\n",
       "        canvas_div.focus();\n",
       "    }\n",
       "\n",
       "    window.setTimeout(set_focus, 100);\n",
       "}\n",
       "\n",
       "mpl.figure.prototype._init_toolbar = function() {\n",
       "    var fig = this;\n",
       "\n",
       "    var nav_element = $('<div/>')\n",
       "    nav_element.attr('style', 'width: 100%');\n",
       "    this.root.append(nav_element);\n",
       "\n",
       "    // Define a callback function for later on.\n",
       "    function toolbar_event(event) {\n",
       "        return fig.toolbar_button_onclick(event['data']);\n",
       "    }\n",
       "    function toolbar_mouse_event(event) {\n",
       "        return fig.toolbar_button_onmouseover(event['data']);\n",
       "    }\n",
       "\n",
       "    for(var toolbar_ind in mpl.toolbar_items) {\n",
       "        var name = mpl.toolbar_items[toolbar_ind][0];\n",
       "        var tooltip = mpl.toolbar_items[toolbar_ind][1];\n",
       "        var image = mpl.toolbar_items[toolbar_ind][2];\n",
       "        var method_name = mpl.toolbar_items[toolbar_ind][3];\n",
       "\n",
       "        if (!name) {\n",
       "            // put a spacer in here.\n",
       "            continue;\n",
       "        }\n",
       "        var button = $('<button/>');\n",
       "        button.addClass('ui-button ui-widget ui-state-default ui-corner-all ' +\n",
       "                        'ui-button-icon-only');\n",
       "        button.attr('role', 'button');\n",
       "        button.attr('aria-disabled', 'false');\n",
       "        button.click(method_name, toolbar_event);\n",
       "        button.mouseover(tooltip, toolbar_mouse_event);\n",
       "\n",
       "        var icon_img = $('<span/>');\n",
       "        icon_img.addClass('ui-button-icon-primary ui-icon');\n",
       "        icon_img.addClass(image);\n",
       "        icon_img.addClass('ui-corner-all');\n",
       "\n",
       "        var tooltip_span = $('<span/>');\n",
       "        tooltip_span.addClass('ui-button-text');\n",
       "        tooltip_span.html(tooltip);\n",
       "\n",
       "        button.append(icon_img);\n",
       "        button.append(tooltip_span);\n",
       "\n",
       "        nav_element.append(button);\n",
       "    }\n",
       "\n",
       "    var fmt_picker_span = $('<span/>');\n",
       "\n",
       "    var fmt_picker = $('<select/>');\n",
       "    fmt_picker.addClass('mpl-toolbar-option ui-widget ui-widget-content');\n",
       "    fmt_picker_span.append(fmt_picker);\n",
       "    nav_element.append(fmt_picker_span);\n",
       "    this.format_dropdown = fmt_picker[0];\n",
       "\n",
       "    for (var ind in mpl.extensions) {\n",
       "        var fmt = mpl.extensions[ind];\n",
       "        var option = $(\n",
       "            '<option/>', {selected: fmt === mpl.default_extension}).html(fmt);\n",
       "        fmt_picker.append(option)\n",
       "    }\n",
       "\n",
       "    // Add hover states to the ui-buttons\n",
       "    $( \".ui-button\" ).hover(\n",
       "        function() { $(this).addClass(\"ui-state-hover\");},\n",
       "        function() { $(this).removeClass(\"ui-state-hover\");}\n",
       "    );\n",
       "\n",
       "    var status_bar = $('<span class=\"mpl-message\"/>');\n",
       "    nav_element.append(status_bar);\n",
       "    this.message = status_bar[0];\n",
       "}\n",
       "\n",
       "mpl.figure.prototype.request_resize = function(x_pixels, y_pixels) {\n",
       "    // Request matplotlib to resize the figure. Matplotlib will then trigger a resize in the client,\n",
       "    // which will in turn request a refresh of the image.\n",
       "    this.send_message('resize', {'width': x_pixels, 'height': y_pixels});\n",
       "}\n",
       "\n",
       "mpl.figure.prototype.send_message = function(type, properties) {\n",
       "    properties['type'] = type;\n",
       "    properties['figure_id'] = this.id;\n",
       "    this.ws.send(JSON.stringify(properties));\n",
       "}\n",
       "\n",
       "mpl.figure.prototype.send_draw_message = function() {\n",
       "    if (!this.waiting) {\n",
       "        this.waiting = true;\n",
       "        this.ws.send(JSON.stringify({type: \"draw\", figure_id: this.id}));\n",
       "    }\n",
       "}\n",
       "\n",
       "\n",
       "mpl.figure.prototype.handle_save = function(fig, msg) {\n",
       "    var format_dropdown = fig.format_dropdown;\n",
       "    var format = format_dropdown.options[format_dropdown.selectedIndex].value;\n",
       "    fig.ondownload(fig, format);\n",
       "}\n",
       "\n",
       "\n",
       "mpl.figure.prototype.handle_resize = function(fig, msg) {\n",
       "    var size = msg['size'];\n",
       "    if (size[0] != fig.canvas.width || size[1] != fig.canvas.height) {\n",
       "        fig._resize_canvas(size[0], size[1]);\n",
       "        fig.send_message(\"refresh\", {});\n",
       "    };\n",
       "}\n",
       "\n",
       "mpl.figure.prototype.handle_rubberband = function(fig, msg) {\n",
       "    var x0 = msg['x0'] / mpl.ratio;\n",
       "    var y0 = (fig.canvas.height - msg['y0']) / mpl.ratio;\n",
       "    var x1 = msg['x1'] / mpl.ratio;\n",
       "    var y1 = (fig.canvas.height - msg['y1']) / mpl.ratio;\n",
       "    x0 = Math.floor(x0) + 0.5;\n",
       "    y0 = Math.floor(y0) + 0.5;\n",
       "    x1 = Math.floor(x1) + 0.5;\n",
       "    y1 = Math.floor(y1) + 0.5;\n",
       "    var min_x = Math.min(x0, x1);\n",
       "    var min_y = Math.min(y0, y1);\n",
       "    var width = Math.abs(x1 - x0);\n",
       "    var height = Math.abs(y1 - y0);\n",
       "\n",
       "    fig.rubberband_context.clearRect(\n",
       "        0, 0, fig.canvas.width, fig.canvas.height);\n",
       "\n",
       "    fig.rubberband_context.strokeRect(min_x, min_y, width, height);\n",
       "}\n",
       "\n",
       "mpl.figure.prototype.handle_figure_label = function(fig, msg) {\n",
       "    // Updates the figure title.\n",
       "    fig.header.textContent = msg['label'];\n",
       "}\n",
       "\n",
       "mpl.figure.prototype.handle_cursor = function(fig, msg) {\n",
       "    var cursor = msg['cursor'];\n",
       "    switch(cursor)\n",
       "    {\n",
       "    case 0:\n",
       "        cursor = 'pointer';\n",
       "        break;\n",
       "    case 1:\n",
       "        cursor = 'default';\n",
       "        break;\n",
       "    case 2:\n",
       "        cursor = 'crosshair';\n",
       "        break;\n",
       "    case 3:\n",
       "        cursor = 'move';\n",
       "        break;\n",
       "    }\n",
       "    fig.rubberband_canvas.style.cursor = cursor;\n",
       "}\n",
       "\n",
       "mpl.figure.prototype.handle_message = function(fig, msg) {\n",
       "    fig.message.textContent = msg['message'];\n",
       "}\n",
       "\n",
       "mpl.figure.prototype.handle_draw = function(fig, msg) {\n",
       "    // Request the server to send over a new figure.\n",
       "    fig.send_draw_message();\n",
       "}\n",
       "\n",
       "mpl.figure.prototype.handle_image_mode = function(fig, msg) {\n",
       "    fig.image_mode = msg['mode'];\n",
       "}\n",
       "\n",
       "mpl.figure.prototype.updated_canvas_event = function() {\n",
       "    // Called whenever the canvas gets updated.\n",
       "    this.send_message(\"ack\", {});\n",
       "}\n",
       "\n",
       "// A function to construct a web socket function for onmessage handling.\n",
       "// Called in the figure constructor.\n",
       "mpl.figure.prototype._make_on_message_function = function(fig) {\n",
       "    return function socket_on_message(evt) {\n",
       "        if (evt.data instanceof Blob) {\n",
       "            /* FIXME: We get \"Resource interpreted as Image but\n",
       "             * transferred with MIME type text/plain:\" errors on\n",
       "             * Chrome.  But how to set the MIME type?  It doesn't seem\n",
       "             * to be part of the websocket stream */\n",
       "            evt.data.type = \"image/png\";\n",
       "\n",
       "            /* Free the memory for the previous frames */\n",
       "            if (fig.imageObj.src) {\n",
       "                (window.URL || window.webkitURL).revokeObjectURL(\n",
       "                    fig.imageObj.src);\n",
       "            }\n",
       "\n",
       "            fig.imageObj.src = (window.URL || window.webkitURL).createObjectURL(\n",
       "                evt.data);\n",
       "            fig.updated_canvas_event();\n",
       "            fig.waiting = false;\n",
       "            return;\n",
       "        }\n",
       "        else if (typeof evt.data === 'string' && evt.data.slice(0, 21) == \"data:image/png;base64\") {\n",
       "            fig.imageObj.src = evt.data;\n",
       "            fig.updated_canvas_event();\n",
       "            fig.waiting = false;\n",
       "            return;\n",
       "        }\n",
       "\n",
       "        var msg = JSON.parse(evt.data);\n",
       "        var msg_type = msg['type'];\n",
       "\n",
       "        // Call the  \"handle_{type}\" callback, which takes\n",
       "        // the figure and JSON message as its only arguments.\n",
       "        try {\n",
       "            var callback = fig[\"handle_\" + msg_type];\n",
       "        } catch (e) {\n",
       "            console.log(\"No handler for the '\" + msg_type + \"' message type: \", msg);\n",
       "            return;\n",
       "        }\n",
       "\n",
       "        if (callback) {\n",
       "            try {\n",
       "                // console.log(\"Handling '\" + msg_type + \"' message: \", msg);\n",
       "                callback(fig, msg);\n",
       "            } catch (e) {\n",
       "                console.log(\"Exception inside the 'handler_\" + msg_type + \"' callback:\", e, e.stack, msg);\n",
       "            }\n",
       "        }\n",
       "    };\n",
       "}\n",
       "\n",
       "// from http://stackoverflow.com/questions/1114465/getting-mouse-location-in-canvas\n",
       "mpl.findpos = function(e) {\n",
       "    //this section is from http://www.quirksmode.org/js/events_properties.html\n",
       "    var targ;\n",
       "    if (!e)\n",
       "        e = window.event;\n",
       "    if (e.target)\n",
       "        targ = e.target;\n",
       "    else if (e.srcElement)\n",
       "        targ = e.srcElement;\n",
       "    if (targ.nodeType == 3) // defeat Safari bug\n",
       "        targ = targ.parentNode;\n",
       "\n",
       "    // jQuery normalizes the pageX and pageY\n",
       "    // pageX,Y are the mouse positions relative to the document\n",
       "    // offset() returns the position of the element relative to the document\n",
       "    var x = e.pageX - $(targ).offset().left;\n",
       "    var y = e.pageY - $(targ).offset().top;\n",
       "\n",
       "    return {\"x\": x, \"y\": y};\n",
       "};\n",
       "\n",
       "/*\n",
       " * return a copy of an object with only non-object keys\n",
       " * we need this to avoid circular references\n",
       " * http://stackoverflow.com/a/24161582/3208463\n",
       " */\n",
       "function simpleKeys (original) {\n",
       "  return Object.keys(original).reduce(function (obj, key) {\n",
       "    if (typeof original[key] !== 'object')\n",
       "        obj[key] = original[key]\n",
       "    return obj;\n",
       "  }, {});\n",
       "}\n",
       "\n",
       "mpl.figure.prototype.mouse_event = function(event, name) {\n",
       "    var canvas_pos = mpl.findpos(event)\n",
       "\n",
       "    if (name === 'button_press')\n",
       "    {\n",
       "        this.canvas.focus();\n",
       "        this.canvas_div.focus();\n",
       "    }\n",
       "\n",
       "    var x = canvas_pos.x * mpl.ratio;\n",
       "    var y = canvas_pos.y * mpl.ratio;\n",
       "\n",
       "    this.send_message(name, {x: x, y: y, button: event.button,\n",
       "                             step: event.step,\n",
       "                             guiEvent: simpleKeys(event)});\n",
       "\n",
       "    /* This prevents the web browser from automatically changing to\n",
       "     * the text insertion cursor when the button is pressed.  We want\n",
       "     * to control all of the cursor setting manually through the\n",
       "     * 'cursor' event from matplotlib */\n",
       "    event.preventDefault();\n",
       "    return false;\n",
       "}\n",
       "\n",
       "mpl.figure.prototype._key_event_extra = function(event, name) {\n",
       "    // Handle any extra behaviour associated with a key event\n",
       "}\n",
       "\n",
       "mpl.figure.prototype.key_event = function(event, name) {\n",
       "\n",
       "    // Prevent repeat events\n",
       "    if (name == 'key_press')\n",
       "    {\n",
       "        if (event.which === this._key)\n",
       "            return;\n",
       "        else\n",
       "            this._key = event.which;\n",
       "    }\n",
       "    if (name == 'key_release')\n",
       "        this._key = null;\n",
       "\n",
       "    var value = '';\n",
       "    if (event.ctrlKey && event.which != 17)\n",
       "        value += \"ctrl+\";\n",
       "    if (event.altKey && event.which != 18)\n",
       "        value += \"alt+\";\n",
       "    if (event.shiftKey && event.which != 16)\n",
       "        value += \"shift+\";\n",
       "\n",
       "    value += 'k';\n",
       "    value += event.which.toString();\n",
       "\n",
       "    this._key_event_extra(event, name);\n",
       "\n",
       "    this.send_message(name, {key: value,\n",
       "                             guiEvent: simpleKeys(event)});\n",
       "    return false;\n",
       "}\n",
       "\n",
       "mpl.figure.prototype.toolbar_button_onclick = function(name) {\n",
       "    if (name == 'download') {\n",
       "        this.handle_save(this, null);\n",
       "    } else {\n",
       "        this.send_message(\"toolbar_button\", {name: name});\n",
       "    }\n",
       "};\n",
       "\n",
       "mpl.figure.prototype.toolbar_button_onmouseover = function(tooltip) {\n",
       "    this.message.textContent = tooltip;\n",
       "};\n",
       "mpl.toolbar_items = [[\"Home\", \"Reset original view\", \"fa fa-home icon-home\", \"home\"], [\"Back\", \"Back to  previous view\", \"fa fa-arrow-left icon-arrow-left\", \"back\"], [\"Forward\", \"Forward to next view\", \"fa fa-arrow-right icon-arrow-right\", \"forward\"], [\"\", \"\", \"\", \"\"], [\"Pan\", \"Pan axes with left mouse, zoom with right\", \"fa fa-arrows icon-move\", \"pan\"], [\"Zoom\", \"Zoom to rectangle\", \"fa fa-square-o icon-check-empty\", \"zoom\"], [\"\", \"\", \"\", \"\"], [\"Download\", \"Download plot\", \"fa fa-floppy-o icon-save\", \"download\"]];\n",
       "\n",
       "mpl.extensions = [\"eps\", \"jpeg\", \"pdf\", \"png\", \"ps\", \"raw\", \"svg\", \"tif\"];\n",
       "\n",
       "mpl.default_extension = \"png\";var comm_websocket_adapter = function(comm) {\n",
       "    // Create a \"websocket\"-like object which calls the given IPython comm\n",
       "    // object with the appropriate methods. Currently this is a non binary\n",
       "    // socket, so there is still some room for performance tuning.\n",
       "    var ws = {};\n",
       "\n",
       "    ws.close = function() {\n",
       "        comm.close()\n",
       "    };\n",
       "    ws.send = function(m) {\n",
       "        //console.log('sending', m);\n",
       "        comm.send(m);\n",
       "    };\n",
       "    // Register the callback with on_msg.\n",
       "    comm.on_msg(function(msg) {\n",
       "        //console.log('receiving', msg['content']['data'], msg);\n",
       "        // Pass the mpl event to the overridden (by mpl) onmessage function.\n",
       "        ws.onmessage(msg['content']['data'])\n",
       "    });\n",
       "    return ws;\n",
       "}\n",
       "\n",
       "mpl.mpl_figure_comm = function(comm, msg) {\n",
       "    // This is the function which gets called when the mpl process\n",
       "    // starts-up an IPython Comm through the \"matplotlib\" channel.\n",
       "\n",
       "    var id = msg.content.data.id;\n",
       "    // Get hold of the div created by the display call when the Comm\n",
       "    // socket was opened in Python.\n",
       "    var element = $(\"#\" + id);\n",
       "    var ws_proxy = comm_websocket_adapter(comm)\n",
       "\n",
       "    function ondownload(figure, format) {\n",
       "        window.open(figure.imageObj.src);\n",
       "    }\n",
       "\n",
       "    var fig = new mpl.figure(id, ws_proxy,\n",
       "                           ondownload,\n",
       "                           element.get(0));\n",
       "\n",
       "    // Call onopen now - mpl needs it, as it is assuming we've passed it a real\n",
       "    // web socket which is closed, not our websocket->open comm proxy.\n",
       "    ws_proxy.onopen();\n",
       "\n",
       "    fig.parent_element = element.get(0);\n",
       "    fig.cell_info = mpl.find_output_cell(\"<div id='\" + id + \"'></div>\");\n",
       "    if (!fig.cell_info) {\n",
       "        console.error(\"Failed to find cell for figure\", id, fig);\n",
       "        return;\n",
       "    }\n",
       "\n",
       "    var output_index = fig.cell_info[2]\n",
       "    var cell = fig.cell_info[0];\n",
       "\n",
       "};\n",
       "\n",
       "mpl.figure.prototype.handle_close = function(fig, msg) {\n",
       "    var width = fig.canvas.width/mpl.ratio\n",
       "    fig.root.unbind('remove')\n",
       "\n",
       "    // Update the output cell to use the data from the current canvas.\n",
       "    fig.push_to_output();\n",
       "    var dataURL = fig.canvas.toDataURL();\n",
       "    // Re-enable the keyboard manager in IPython - without this line, in FF,\n",
       "    // the notebook keyboard shortcuts fail.\n",
       "    IPython.keyboard_manager.enable()\n",
       "    $(fig.parent_element).html('<img src=\"' + dataURL + '\" width=\"' + width + '\">');\n",
       "    fig.close_ws(fig, msg);\n",
       "}\n",
       "\n",
       "mpl.figure.prototype.close_ws = function(fig, msg){\n",
       "    fig.send_message('closing', msg);\n",
       "    // fig.ws.close()\n",
       "}\n",
       "\n",
       "mpl.figure.prototype.push_to_output = function(remove_interactive) {\n",
       "    // Turn the data on the canvas into data in the output cell.\n",
       "    var width = this.canvas.width/mpl.ratio\n",
       "    var dataURL = this.canvas.toDataURL();\n",
       "    this.cell_info[1]['text/html'] = '<img src=\"' + dataURL + '\" width=\"' + width + '\">';\n",
       "}\n",
       "\n",
       "mpl.figure.prototype.updated_canvas_event = function() {\n",
       "    // Tell IPython that the notebook contents must change.\n",
       "    IPython.notebook.set_dirty(true);\n",
       "    this.send_message(\"ack\", {});\n",
       "    var fig = this;\n",
       "    // Wait a second, then push the new image to the DOM so\n",
       "    // that it is saved nicely (might be nice to debounce this).\n",
       "    setTimeout(function () { fig.push_to_output() }, 1000);\n",
       "}\n",
       "\n",
       "mpl.figure.prototype._init_toolbar = function() {\n",
       "    var fig = this;\n",
       "\n",
       "    var nav_element = $('<div/>')\n",
       "    nav_element.attr('style', 'width: 100%');\n",
       "    this.root.append(nav_element);\n",
       "\n",
       "    // Define a callback function for later on.\n",
       "    function toolbar_event(event) {\n",
       "        return fig.toolbar_button_onclick(event['data']);\n",
       "    }\n",
       "    function toolbar_mouse_event(event) {\n",
       "        return fig.toolbar_button_onmouseover(event['data']);\n",
       "    }\n",
       "\n",
       "    for(var toolbar_ind in mpl.toolbar_items){\n",
       "        var name = mpl.toolbar_items[toolbar_ind][0];\n",
       "        var tooltip = mpl.toolbar_items[toolbar_ind][1];\n",
       "        var image = mpl.toolbar_items[toolbar_ind][2];\n",
       "        var method_name = mpl.toolbar_items[toolbar_ind][3];\n",
       "\n",
       "        if (!name) { continue; };\n",
       "\n",
       "        var button = $('<button class=\"btn btn-default\" href=\"#\" title=\"' + name + '\"><i class=\"fa ' + image + ' fa-lg\"></i></button>');\n",
       "        button.click(method_name, toolbar_event);\n",
       "        button.mouseover(tooltip, toolbar_mouse_event);\n",
       "        nav_element.append(button);\n",
       "    }\n",
       "\n",
       "    // Add the status bar.\n",
       "    var status_bar = $('<span class=\"mpl-message\" style=\"text-align:right; float: right;\"/>');\n",
       "    nav_element.append(status_bar);\n",
       "    this.message = status_bar[0];\n",
       "\n",
       "    // Add the close button to the window.\n",
       "    var buttongrp = $('<div class=\"btn-group inline pull-right\"></div>');\n",
       "    var button = $('<button class=\"btn btn-mini btn-primary\" href=\"#\" title=\"Stop Interaction\"><i class=\"fa fa-power-off icon-remove icon-large\"></i></button>');\n",
       "    button.click(function (evt) { fig.handle_close(fig, {}); } );\n",
       "    button.mouseover('Stop Interaction', toolbar_mouse_event);\n",
       "    buttongrp.append(button);\n",
       "    var titlebar = this.root.find($('.ui-dialog-titlebar'));\n",
       "    titlebar.prepend(buttongrp);\n",
       "}\n",
       "\n",
       "mpl.figure.prototype._root_extra_style = function(el){\n",
       "    var fig = this\n",
       "    el.on(\"remove\", function(){\n",
       "\tfig.close_ws(fig, {});\n",
       "    });\n",
       "}\n",
       "\n",
       "mpl.figure.prototype._canvas_extra_style = function(el){\n",
       "    // this is important to make the div 'focusable\n",
       "    el.attr('tabindex', 0)\n",
       "    // reach out to IPython and tell the keyboard manager to turn it's self\n",
       "    // off when our div gets focus\n",
       "\n",
       "    // location in version 3\n",
       "    if (IPython.notebook.keyboard_manager) {\n",
       "        IPython.notebook.keyboard_manager.register_events(el);\n",
       "    }\n",
       "    else {\n",
       "        // location in version 2\n",
       "        IPython.keyboard_manager.register_events(el);\n",
       "    }\n",
       "\n",
       "}\n",
       "\n",
       "mpl.figure.prototype._key_event_extra = function(event, name) {\n",
       "    var manager = IPython.notebook.keyboard_manager;\n",
       "    if (!manager)\n",
       "        manager = IPython.keyboard_manager;\n",
       "\n",
       "    // Check for shift+enter\n",
       "    if (event.shiftKey && event.which == 13) {\n",
       "        this.canvas_div.blur();\n",
       "        event.shiftKey = false;\n",
       "        // Send a \"J\" for go to next cell\n",
       "        event.which = 74;\n",
       "        event.keyCode = 74;\n",
       "        manager.command_mode();\n",
       "        manager.handle_keydown(event);\n",
       "    }\n",
       "}\n",
       "\n",
       "mpl.figure.prototype.handle_save = function(fig, msg) {\n",
       "    fig.ondownload(fig, null);\n",
       "}\n",
       "\n",
       "\n",
       "mpl.find_output_cell = function(html_output) {\n",
       "    // Return the cell and output element which can be found *uniquely* in the notebook.\n",
       "    // Note - this is a bit hacky, but it is done because the \"notebook_saving.Notebook\"\n",
       "    // IPython event is triggered only after the cells have been serialised, which for\n",
       "    // our purposes (turning an active figure into a static one), is too late.\n",
       "    var cells = IPython.notebook.get_cells();\n",
       "    var ncells = cells.length;\n",
       "    for (var i=0; i<ncells; i++) {\n",
       "        var cell = cells[i];\n",
       "        if (cell.cell_type === 'code'){\n",
       "            for (var j=0; j<cell.output_area.outputs.length; j++) {\n",
       "                var data = cell.output_area.outputs[j];\n",
       "                if (data.data) {\n",
       "                    // IPython >= 3 moved mimebundle to data attribute of output\n",
       "                    data = data.data;\n",
       "                }\n",
       "                if (data['text/html'] == html_output) {\n",
       "                    return [cell, data, j];\n",
       "                }\n",
       "            }\n",
       "        }\n",
       "    }\n",
       "}\n",
       "\n",
       "// Register the function which deals with the matplotlib target/channel.\n",
       "// The kernel may be null if the page has been refreshed.\n",
       "if (IPython.notebook.kernel != null) {\n",
       "    IPython.notebook.kernel.comm_manager.register_target('matplotlib', mpl.mpl_figure_comm);\n",
       "}\n"
      ],
      "text/plain": [
       "<IPython.core.display.Javascript object>"
      ]
     },
     "metadata": {},
     "output_type": "display_data"
    },
    {
     "data": {
      "text/html": [
       "<img src=\"data:image/png;base64,iVBORw0KGgoAAAANSUhEUgAAA4QAAAGQCAYAAAD2lq6fAAAgAElEQVR4nOydeYxc5ZX2by1dVV1VvVfvK92N3WDHCzY2izGGmN0GhhlCEkhIGAIGzBLyJZCEnbAFEsgCBMIeDAYDZjO2cbdqMtKMNKMRikQUjWZGs8STjDR/RJAZTRgpyfn+6JzyqafOe2lIMi5XP490JVfVve9+335+r899byQURVEURVEURVHUvFS0vwtAURRFURRFURRF7R8RCCmKoiiKoiiKouapCIQURVEURVEURVHzVARCiqIoiqIoiqKoeSoCIUVRFEVRFEVR1DwVgZCiKIqiKIqiKGqeikBIURRFURRFURQ1T0UgpCiKoiiKoiiKmqciEFIURVEURVEURc1TEQgpiqIoiqIoiqLmqQiEFEVRFEVRFEVR81QEQoqiKIqiKIqiqHkqAiFFURRFURRFUdQ8FYGQoiiKoiiKoihqnopASFEURVEURVEUNU9FIKQoiqIoiqIoipqnIhBSFEVRFEVRFEXNUxEIKYqiKIqiKIqi5qkIhBRFURRFURRFUfNUBEKKoiiKoiiKoqh5KgIhRVEURVEURVHUPBWBkKIoiqIoiqIoap6KQEhRFEVRFEVRFDVPRSCkKIqiKIqiKIqapyIQUhRFURRFURRFzVMRCCmKoiiKoiiKouapCIQURVEURVEURVHzVARCiqIoiqIoiqKoeSoCIUVRFEVRFEVR1DwVgZCiKIqiKIqiKGqeikBIURRFURRFURQ1T0UgpCiKoiiKoiiKmqciEFIURVEURVEURc1TEQgpiqIoiqIoiqLmqQiEFEVRFEVRFEVR81QEQoqiKIqiKIqiqHkqAiFFURRFURRFUdQ8FYGQoiiKoiiKoihqnopASFEURVEURVEUNU9FIKQoiqIoiqIoipqnIhBSFEVRFEVRFEXNUxEIKYqiKIqiKIqi5qkIhBRFURRFURRFUfNUBEKKoiiKoiiKoqh5KgIhRR0guv/++2VsbEyy2awcdthh8pd/+Zf7u0gURVEURVHUAS4CIUUdANq6das0NTXJ97//ffnJT34iV155pRQKBfm3f/u3/V00iqIoiqIo6gAWgZCiDgCtWrVKNm3aVPXd1NSUXHvtte977W9+8xvZu3evvPPOO/Luu+/y4MGDBw8e+/V45513ZO/evfKb3/zmj/Vnk6KoDyACIUXVuf73f/9XUqmUvPTSS1XfX3HFFbJ27dqa8997772qP7w/+clPJIoiHjx48ODBo66OvXv3/l/9KaUoKkYEQoqqc/3sZz+TKIrkr/7qr6q+v+2222TBggU15994443uH95cLlc5CoVC5WhtbZXW1tbKZ3ueHvl8XvL5vDQ3N0tzc3Ple/3c3Nxcud5+Fzq8PN7v0Gu7u7srh/6WzWYlm81KS0uLtLS0VOWlZW9ra5O2traaa7y89FxMI5/P15zb3t4u7e3tsWXHvIrFYuXQdLXscXXHMmi6Nu2+vj7p6+ubUz3jyjWXvtJz4vL4IEdHR4d0dHTMaexonl6/aFtin+vR2dlZOSYn2+R730vK669H8vDDSbn33kheeSWSbdsiWbt2tk30Or1XPsg4tmOnq6tLurq6KuO3p6dHenp6qtpdD7xXvfSw37x+xL7SNu7v75f+/v7KZ9vumJdXLxyv+tl+p32kdfDGOM4f3hjQcuAcY8uufYOfvbkO66e/671sj9A84o0rra8tO6YTNxeG5tcPez/h9bYt9LtSqSSlUik2Lx23OKbi8tJ0Q+fmcjmJokjeeeed/6s/pRRFxYhASFF1LgXCv/7rv676/mtf+5osXLiw5nz8H8K9e/dKFEVVf/TtgWCC8Nfc3FwDSB48vh8EerCBZuv9vgsdWh7PwGI6aCqtSVLDGpc3/uadG6pn3DGX+oaM8Yc9QqZuruPCg5RQHdSoz6XsmrdCS1zZ48YOGn08t6UlJ089lZBnnknImjVd0t/fL729vTI1VZLbbkvKm29GsmhRNjYvPPBe8Q4tz/DwsAwPD1dAxUKVnosQY9PR37Rc+Nl+p+UaGBiQgYEBt3+x/TxQxb6ey72L18bdKwhvHsBh3Sykh/qjra2tpm1x3pjLfWn7CMcyjjvvN70PcBHk/RZCMJ1Qn8WNz7mc80HK8EHmf+/+jaJI3n333f+rP6UURcWIQEhRda4PGjKKevfddwmEBMKgKZvPQHjSSU1SLkdyyCHZSl69vb3S29srLS05eeaZhFx/fYpASCCsfCYQEggpqhFFIKSoA0CrVq2SSy65pOq7Qw45ZE6byigQFotFyWQykslkqv4wq3HR35qamqSpqanqj73+hiCo5+L51iB4eWpolf6GeTc1NdX85uWJ56pR8a7Tz+l0WtLptGskbQimPWxe1hBaU6jpptPpYJkxtMy2AZotWwcsh2c8MVxNz1WzacPgtJxo7Lw8sZ2swdY8QrBmQwkRYrQsNnxTAUnr5KWPYxBNvQUZDFvTuunvN9+clocfbpL+/n6ZmpqSqakpGRkZkZGRERkbG5PLL2+XN95IVOqg13lQq+doe3v9qAcCoLanN24xNNaORexbvJftuEKw8+qA0IILJBYkNM/QvewdWJd8Ph8cS16e2F72PtR6aTpaPzu+9DcMffQAB0NOcT7zDi88Esuj32v72f7UcuE4sfNFaIHLnoPzmabvzWk4d3phrxgSjnNgS0vL+/a5vV7LTyCkqPoRgZCiDgDpayceffRR+clPfiJXXXWVFAoF+dd//df3vZZASCAkEPpAeOedKfnGN7JBIPzsZztlZiaSlpYigZBASCAkEFJUw4pASFEHiO6//34ZHR2VTCYjhx12mPzwhz+c03UEQgIhgdAHwksuaZLXX0/I2FivC4T33JOXJ59sqoEOAiGBkEBIIKSoRhKBkKIaXAqEFkhCEOaBmP2jHoJIzwzFpYsmyTOVeo6aPz1Hn/Wyz5YhKHnlwN90p0f7HBKaG6/sWFZ95syDM0zHM3jYbgiV1tQjWNpz9DoEJTWetp4h8LV1wDww3dAzm9Zg5/P7dtbE/vR2hNU+QcPuGWI8vH5UEPBMczablZGRjExPR3L11Vnp7i5Jd3d3Jb3169tkZiaST36yWDMGvTGPAIiQbCEqlUpJKpWqfI/PldkFFc1b0/fMeNy4CN0HOl4844/w6Bl/BDfbrjjOEEi8Z/8Q6Gy5sH7eM7oINlo/r+w4DrzdXkPPCXr3TWhusOXBfvCeycT5Rs+Jy9MrV2j+er953tbBjkV7z9v7yIP2UJt45ScQUlT9iEBIUQ0uAiGBkEDoA2E2m5Vzz81LuRzJgw+m5ZxzinLiiRm5/vqU7NkTyT33ZKSvr0QgJBASCAmEFNXQIhBSVINLgRCNChoWhDwvBBDDI9XYplKpym9q9BBQ7IHG0ysXhsV5hjgEn56xxrogpLW2ttaAiGew1aBrfTG8zhpPzMsL38PyeYYNr9PvbdkxBA0hxrYPmlzvXWnvZwZt/yFE2vrpOEAw9Yx/yJzGGVnPwOKYxrFjy5fL5eSYY5rkW99KSrkcSbkcyTPPJOS88zLS1laQYrFYAVWFWwxzbGraF1aKABcXkomhkF7b4k6bti+0TUPjpFgsVsqM4Ib3kO03DLf0oAXL4y0CYP/pNTbsGNvL609tfxuWjTCrbYDzhW0LnCewTnOBM3s9hvp6bRFKT+s2ODhYOXBse/Mj1iG0sOTNi7Y8eP/EhcbiPBiaJ3O5XM1YxjJou7W2thIIKaqORCCkqAYXgZBASCCMB0KtZ2dnXvr6itLSUv0/ZARCAiGBkEBIUY0sAiFFNbgUCO0f+ZBJ8ML/crl9GyBoaJVu1qHhkr29vcGQJgzhSqfTNe9q8/JG4+qZrJBJ8uqDoVoYbmfNFW5q4oVGoSmPgzqELNtOCEaekQqFCNp3mOFvChIe4GNfoZmzoXIIWbYfMQTQCx/ENkSwjCsXtrVdjEBDa/sIYdhrd7xOx4X2p21bhB8vlE/LqvcGmmnbhrhhiQd7CBleeuPj4zI+Pl5zXyiQdXV1VaBO71Otn7cxC44DLWfcOPPAF9sEIcHWMxTO6S3UIIh57xjEPrLnIOBrnTwgwzkQ7+FcLldpW1zcsefggoqmr+XVObWnpye4WOJtCIVtGRe+iW1i2zI0J3uLhiFItnXHc717TctLIKSo+hGBkKIaXARCAiGBkEBIICQQEggpigqJQEhRDS4LhF4oEZplLzQPN4BQc+KZSbwmLgQSDYsXLqXmzQOluHApPNT8oYGxdVATrZ/RfGWztRtuaPmsIfY2hvEMlgUkLK9npNCsxQFcHITq9QovXvim5qnnaD2tucWwUDS/FuDUPGO54trNa3Msq2e8cewh9Nk8h4aGZGhoqApAWltbXdjAhQibZwjs7aHnYqihpmv7M3Q/2jxDiznefanXILB6YY2at4aDe+CL97IHPVg+734NAZh3HYK4NxfElQvbAtvUpodznRemGgIwr09wgcsrH+atn+MA2hv/toyheyQ0t4cW2ezfCm8BT9sHF968+U/LRCCkqPoRgZCiGlwEQgIhgZBASCAkEBIIKYoKiUBIUQ0uAiGBkEBIICQQEggJhBRFhUQgpKgGlwKhNV/egX/0FQAs7KARtc+TzcUIoNFH4+OZLTQl1myh+ZuLmUFTasuFhsqrJ+7E6Bl/NI9xeWJe+IyjfZZL04l7nyDCIra5bfeQmbMAouXC3VVt3e0zTu3t7e4unrhbpncgQODigIUBBGrbRwiGWIa+vr7KofXCdxjaciHkeoYYDbYHx3rgjrDYHx7AoXG39yOCrteP+NnbNRPHQdwY13LiAoldINDyYN8hsHh18do7DjgxbX1XqW1TzAvvGVsH/U4XiTxwRRj1xj8+c4lzgl2EwL735kAcp17fhNrEHqF5wrsXtV44h9p66oJbaNHPAjx3GaWo+hOBkKIaXARCAiGBkEBIICQQEggpigqJQEhRDS4FQs8kxkGaNSr4mxoEaxrQFIaMqM0LAcwz2GhOPcjDazzjimF5HpzpgYbW5oGgg+bL1gt/84AV8/aAEI2sZ/DQ4IdCDy20406knrnUIy58UOupCwgWDvHdfWguPWBCwPFC3dD8etCOu1Ri2Kod52poFSTszpp6Lo4dD2hC95PNC+uHoYe2P3EXW1subEu8P9vb22vuAxybHryHrrVH6B5ubt4XhqvlxHrHLU7EtRveK/YcDJ1G0LcwjUCDwGlDM/VaHVs2vYGBARkYGKgBYS8kHH/DnU9t+LnueupBFc473rzoLWrgeMVFF5wPvbbFBS9bLgyr9uZoO/+l02kCIUXVkQiEFNXgIhASCAmEBEICIYGQQEhRVEgEQopqcNlNZTw4wLAnL0wJDSsabwswmIcXQhoKlYsDVYQ1a87UXHmhfCEDq997Ya8h4LQHton3G4aCecYT647GysIOmkkLjZg2Gj57oHlGWG5paamBBBwfNi80zwpenZ2dNVCM9fYWERBebB9h3nHtHwIIC1VdXa3yyU/m5MknUzI9Hclrr0Xyla80ycTEvvEwOTkpk5OTNcBqN55Bo+2BErZP3AYjGIKndbNAMjw8LMPDwzXj1SsXhqt6YZKhkOm4sERdKLDtj+MzbmyHANXeh1qe0Jxg2wdhyAsr1fbDe9jWD+9dr49w7HkbL2HfxIWDal1wkcKWC9vAay98fyZuqGUh2Lt/7P1uITQ0J9hyxc07dqEtl+OmMhRVTyIQUlSDi0BIICQQ+kDY09Mu996blunpSG67LSOf+EReLrooI88/n5CdOyM5/PAUgZBASCAkEFJUw4tASFENLgVCG+43MjJSOTDcKQ5+cDMMz2wh9HmmEs/xtnQPhSd5sIggaMv1fmBoDTaG8nlmN2RybP3QyKJBs+VDY6jXeIZ4LrCH4bxeeKkCiQKFVx5MV8ve09NTObQ8aE5te2ndFRJC4Xo2T213XKzwQg3jgFDbAmFIr/nzP0/L7t2RrF3bJqtXr5bVq1fL8PCwjI8Pyje+kZSXX46krS1X0w9q/D2DjZBsz8ENZ3CDEK8fsE62ntjX3kJGKAzXu+cQUBHoECAtRNrvtP/wXsbxYmFDy4NlsCCI0GEXMHBRKC48dcGCBbJgwYLYtkUQ9PLEecwDJTz0Gr0Hvb7CvLzFOS+0E+eJUGixncdC4OrdT6HFQ9veODd7ixw6bgiEFFU/IhBSVIOLQEggJBDWAmGhkJMXX4zk2mtn/2fHAuHw8LBMTGSlXI7ktNNq+4FASCAkEBIIKaqRRCCkqAYXgZBASCCsBcLh4VngO/HEVhcIm5ub5cknE3LVVSkCIYGQQEggpKiGFoGQohpcCoTWtFogVNOhBsWDDDQ+CB/WlOI11hDgszdxxskzx5i+GhY0p9ZAYZggls8aKTQ3aArt9WisPNOG16MJtkfc84tqpOKevwulo0bZe/ZS09M66I6gdldQ3GnWvp8STaAHB3gkk0lJJpOVz7oj5dDQUCXP3t5e6e3trelXW3cEL+85Q9wtU9/pVyqVZGKiU8rlSDZuLEpXV1elDHoflEpdsm1bUj7/+X3jQn/D3TPtDpbYV97Y1r5BULWwgcCGptyOs9HRURkdHXXvK/0O+0G/t4CPO2p6u2bi4ob2Wdyii16r53oLGNov+r0dZwqYmJctlwc9uIATWlDxoAoPbz7EsegtViAg6TVx7+XEOcCOM0xPx6QHnXiuV3YEffzdlmdsbEzGxsZq5hhb1rksfmlZCIQUVT8iEFJUg4tASCAkENYCYanUJY8+mpJvfrPJBcJ161qlXI5k7dp9m48QCAmEBEICIUU1ogiEFNXgsruMeqYGdwzF98W1t7e7pg/hA0O00FTacxEyvAOhx8vTltHunOiZQDTjHmyEyuCFssYBLJosLLt3HRooD/bQ4MWBKppze672CYZy2d1BMfzMAwscF1o/m46Wy8KO3Y3W9p+mi6bSlh3bBNOzbapgieko9G7cWJRyOZLLLmuWoaEe6e3tlampKTnxxFF54YWkfP/7aent7ampC4ZUeru8ah52LCrghN7v6aWH9fTuOdw10+4y+n6htt59ru9i9MJKMcRcQc6eEwqNRfC0bYA7alp413T0My5M2fGF94EtF94bCNtxIZ7eAhe2qbc4FAJCXBSwCzN4jR0XeF9774TV8mgeXkgyliMOfPU3HL8eGOK8YReZcHGRQEhR9SMCIUU1uAiEBEICoQ+EXV1dcuGFeSmXI3nllYTcfXdGHn88J+VyJE88kZapqZL09vYSCAmEBEICIUU1tAiEFNXgUiC05tAaMtz8AsHJhh3qbx5AoTFQo4KhTta8oSmx5yBseO8+RFBCU+KBkqaLoGPPDcGLZ6jV7MRBC6avIXB2wxq81hrF0IYNXvignovvBrT10XMwBFIBqre3t1IvNLJ27GAoGJpVa/SxTT3zHDLqntlF2LBGH6/BPsdzJydzsnlzWu66Kym33JKWk09ulkIhHN7nLQLgeMI2sYsbOGYQVHK5XA0kYD429BFDO72xi2Owr69P+vr63HBcLZ+30RQudmi62s8dHR01gIsA6y1YYBt571KMW+TQuis0egsrCDih8Wv7HMHQtpfewxhO67UpArjXFjhnegtIOPY8aMR5zJtfcS7B+9EDZ4TY0OKg7Ws7p9g8MxmGjFJUPYlASFENLgIhgZBAGA+E9vDSIxASCAmEBEKKamQRCCmqwaVAmE6nKwbL/uFGuPPCp0JG2AutQiCcC1ShObHQqebUMyohM+IZWAQAL4wKjZNXT2v2rGG3+aNRxDby2haBwtYBt9TH79va2oIbvGh6dvMQPdTAahsrJPT19dVAIoYneoCkoYY2TAzrjibT60/tG934yLY3vp7AM6e4IY6WResUB4Ben+O5HhBrO8W1qZYdDXsoZNkeCu/exjChRQBbRs0D28aGZuq4wMUXb+EBy+cBCS5oeLCt12sbaRlsubTMGFZqxxnmEbpfvXbGxTBbHwREb+xofXF82M2GcHFN62brgCGy3nyNbRsHvqHwUAxVtfOYltdb7MN50mtTbTdNxz42YMuRTqcJhBRVRyIQUlSDi0BIICQQEggPBCA8+uhOufXWrLz0UlK2b0/IXXdl5NhjWwmEBEKKov7IIhBSVINLgdCaIxsyhMYMTYAFLDSIXggShm16L3cPhYDZdPQ6BCfPEIfqEDJ7IThFI+WFkqEh9kJPFQ7wXC9UDeE4tIGPB7kWCNH467m6EYQ17Gr8EZRsevobhrjZTUjUwOqrJOIMMRpHrYMFVM0D290Lk0Tz6wElflYw80I9MS87FrUOWl9tL+8cXAjxNj3SPPScuFDDUNiwPbReXl9jetgvXp9jyOdcymXbVPsYQ1kRXFtaWipl/tjHijIzE8kzzyTl0ktzcu21/bJly+wGP9ddd5CsW7dOBgcHZXBw0AV7hGMv3BLhDO8jWy4ES28uwNeP4GtOstl9m77gohWWF8NHbV/FLYLhnGrnMaynt1AQAta5LKp54x/vH9umdsy1trYSCCmqjkQgpKgGF4GQQEggJBDWMxAuXdohMzORfPnLOenqmt3t9rDDDpPDDlsu117bL+VyJOefv4xASCCkKOqPJAIhRTW4CIQEQgIhgbCegfCLX2yWl19OSH9/qRIaOwuEs1D4/PN5+e53uwmEBEKKov5IIhBSVIPLPkOohtH+IY8DwZDp8MAqBC1qor2dD9Uwemlg+ta4hnYfRLNkyx563ifO+CCsWbOF7/KzZUV4QUNq21/Tidt9EM0V7kJoja+aVIQQWz49B8eDbVv9LQSsbW1tFZDTcnnQgv2noK/nWtjQMg8PD8vw8LA73nDXUnyHXltbWyVvfK4M29gz49pnHlQh9HnX486t3lgMLThYw473hHcfhBZ1vAUfbG8EFvsuOxyv9hxcaNDvvefJ8Jk/D/A7OjrkoYdS8rWvtcjk5GTlWLVqVeXYtCktzz+fqLSN9ot9Pg3b0gOu0AKSd797z0/qs2/4LCgCrx2vOO/gvebd5wh0Xtvq9d57XhHS9LDPK2qeOAfjYoV9JjQ019s5F9OxbaHp6P1KIKSo+hGBkKIaXARCAiGBkEBYz0D44IMpufPOYhAIL788Lc8+SyAkEFIU9ccSgZCiGlwKhDZkx5oH/KPvhYPqH/RQmKM90Gx5oVahUDJ7Dpo4BChrYux39ntrQtDAeLCBeXv1RXPvgTS2G5bBmvrZz1k59dSUXHJJUi68MCOLFjW74ZdeeGoIirFN7blo7r1QPq0LlsG+QxGhwitfCN4Rmi2E4W6LXp4YhmbNLpptPNcDfE0Xw33z+XwNpCkM2XesYTkwhM4DXxyDdsdPvG88gMAwTu0zC0GanuYVFw5t8y+VSi60Y3ilF8IaWmDRNGxfdXR0yKZNOdm1KykrVkzJwoULZeHChZW829oK8sILSfnKV8I71doxjfOOHbsYvhmaG7wDFxm8sFQco/ben8viENbLA7vQvOotFGBe3hyFO8p6II3lw7rYPPDw2iKZTEoikSAQUlQdiUBIUQ0uAmF9A+G6dU3y6quRzMxEsmVLJK++Gkm5HMmdd6alt7eFQEggbHggnJhok507k3L//UVZvnyyAoRdXQW54Ya07NkTyfLltf8jSiAkEFIU9YcRgZCiGlwKhNZge8ZAw7s8wMCwKS8MUX/DDQe8jSn0N9zgwDMYWD7PYITMkk0TNxrBNGx9Qobdno+Q4YUYht6JpumvXl2UPXsiueOOJlm2rFcGBwelu7tDTj+9IK+/npB77mmq2tgFId4eauJD739EELAg7tUzdJ2GRNqwSNygxR6hkExvMxI8Jw7aEf6t8de644ZGXhtoXXBs2jz1Nz3XC4PG+8drC2+s2DFkz9Xf1OR7sK31igs39kIAbXltPfV6hTWvDtpu3kY4eGCf6WGBUN9dedZZY7JzZ1J27UrI3XcX5Pbbc7JjR0L27InkxBMz7qY03gIPhlna+1vLrkCvbeuV09s4RcMdET49KH6/RSFvnGkdcF605cL5Vuug/dHR0VEJ5cZz4xbKvDkYzw2FhdpFCe96XLjr7e2V7u5uAiFF1ZEIhBS1H3X77bfLypUrpVgsSnd3t5xxxhny93//91XnvPfee7J582bp6uqSfD4vGzdulL179845DwJh/QLh3Xen5bHHUtLV1V7ZQVGh49RTi1IuR7JqVRuBkEDY8EC4ePFiOfLIKbniik558MGcPPBARq66qiAf+Uh3zZghEBIIKYr6w4pASFH7USeddJI8/vjj8uMf/1h+9KMfyWmnnSYjIyPy3//935VzNm3aJIODg7Jnzx5566235LjjjpOlS5fKr3/96znloUBojY+3cUwc7OF1nvFB+NFDTbQ14WgwPDOBBiXO1ITCVa3JQ9PlhWwhiGieFoLQmKPBs+VB41oNIs0yMxPJOefMhnudcsopcsopp8jY2JiMjY1JS0teXnghIZs3N9WApmdWMRwP62DPVROJG6tYYMANY7QOti1Cm7R4BhZNodbBGuwQWFizi6CkZRkYGKgcCDu4kYYtK4bPesYfQyfxWrt4gKBp213LjmPJa0csFwKeBS6spwezCO24+ZDXBl44Im6Soul6Gxzh4W26guDmQXsIXjwgwZBnb9McPdfbnAnnJP3sLU7ggog3v+LiRAi2vHnDW8DThSMsp71HvLkNj1AIq9dvuHDh9VUo1NaOaU2Pr52gqPoTgZCi6kj/+Z//KVEUyQ9/+EMREXnnnXekqalJtm7dWjnnZz/7mSSTSdm1a9ec0iQQ1icQDgw0S7kcyfr1eRcIC4WCPPxwUr70pTSBkEBIICQQEggpivqjiUBIUXWkf/zHf5QoiuTtt98WEZGZmRmJokh+8YtfVJ23ZMkSueGGG+aUJoGwPoGwWGyWV16J5MorMy4Q9vfnZffuSM47rzbslkBIICQQEggJhBRF/aFEIKSoOtFvf/tb2bhxo6xZs6by3ZYtWySTydSce8IJJ8hFF13kpvPee+/Ju+++Wzn27t0rUbHnaXoAACAASURBVBRV/dG2f+xDO1h6ph7/sFtDgOYF0/GgE42eBzho9CzM4fvA5gK4ISi1ZUaY8qAlZHo9qNV0ECw2b26S11+PZGpq33NNs/Usype+1CS7d0cyOFisMYgIVbZvvZ1WLRjPFY7RsGJ/5HI5SSQSkkgkKrCAQN3c3FwDi3iOTS9kUvU5s/7+/prrdfxq+3V3d9cYfczbg5ShoSEZGhqqgYd8Pl8x89gG3nvdtK/UuHtAEtcGaPARBO31mi7uFOkBJPZDX1+f9PX1uRCkB44PC7wIf94ztLjTKc45to/inifG92Z64wwB02svLY+2Fy52eOCE53jg60EsHjpOEP68ssYBHd7PXnvh3Kef4+ZrPVfbxruH4+aP0KKEN750zBMIKap+RCCkqDrRpZdeKqOjo1UbxoSAcP369XLxxRe76dx4440SRVHNQSCsPyDs6cnLE08k5dVXI9m8OS9r17bJySfn5L77UlIuR3L22bmqTVIIhARCAiGBkEBIUdQfWgRCiqoDbd68WYaGhuSf//mfq77/MCGjof8h9Ey+DY0LhRxaY4KhhjZMCdMOmUxrYtCoeFCF4V1xIXNxYBg61/sOf7PvwcO6eOkgqCK02bbt6yvI1VfP/k9huTx7PPhgQo47LlNjyLTe1f+bOHvoOXiNlsECE5pbr91D73r0jD+2gWdysY01DQsHaJ4xTNTumopl98aFpoflteNW88ZxbEFO3zWIcGwPG0prw0E9GMa6eBCP/emFBmLIoje+PDNuQcRC7fDwsAwPD9fk6S086DnejqvYDzineNCJu2XaPPU3fEejbX8PXnFBAiFNy4vzkQd7HmzjgpbXXnqOjjNNRz/b6/A7LzQTv4tbzMF7w5uLEQjjFilCYzMOzEPhuNlslkBIUXUkAiFF7Uf99re/lcsuu0wGBgbkH/7hH2p+101lnnvuucp3P//5zz/UpjIEwvoEwn3P7zXJ+HiTDAxkalbfCYQEQgIhgZBASFHUH0sEQoraj7rkkkukra1N/uIv/kL+4z/+o3L8z//8T+WcTZs2ydDQkExPT8tbb70lxx9//Id67YT9g+4Z2VCIpTXxnhHTIxRa5YU9hUyNZ2TVDGJ4XFxYpGeOQiFSdsOMECBZs4vGBwHFAi4aUYQhC0Qh427z0nJ6RhQNu2fC9NC81ah7G6Cg6ZsL7GG9i8ViTUgg9pVNL7TJTZwh1k14LIyFNuHRPC0cY1447uzYwxBU2/8IWh486kY9Gq6JYGLb3+ZvDzsuFFS1bRWYbDoepNg87bhA4MJ2s+NSf9M2t+fguMf7yhu32kY4xm0dtMwKjd4mPPjZu480T3yfoC0Xhk56UIULUN7cgKGY2lc4z801lB7vT3z3pl1owDJ7cyXm4ZUrNHfGASHCo13QampqknQ6TSCkqDoSgZCi9qO8Z/2iKJLHH3+8cs6vfvUr2bx5s3R2dkpzc7Ns2LBBfvrTn845DwIhgZBASCBEyOvqKsoJJ+TkjDPScsQRTZLPZwmEBEICIUXNUxEIKarBZUNG40KQ8A84/mH3zI01IbhxBpoHz2DouWqUbfigB0/W7Hjl8mAWQ72wDtawoBnyzsH6eQbK1sPWRQHM/oZGSs+10KJtq2bZ22BHj1AIrz20XmgUvf9BwrrEhdV54WZ6DoYme2F6oX7w0kP4tNCE4bIIKnHjyWsv/U03tkGDa+ujZcf+rQ4Prm5b7WdvgQHbxANoBKa4//UrFgvyiU9k5LXXEpVnVsvlSJ57LiXr1jVXATi2m81Lx1koJNCDRy8cFBdRdC6wbYEhxOPj4zI+Ph4LLd5GPt7855Uhn9+36y/en3ZBymtvPHAs4vzqQSguMnjjAucCD+7w3rP1Q+ANAaIFvxDE2/GP95wHoXo+gZCi6kcEQopqcBEICYQEQgKhlu/cczNSLkfy1a8W5LDDemVgoE/WrOmSe+/NyvR0JEcfvQ/gCIQEQgIhRc0PEQgpqsFFICQQEggJhPl8Xrq6mmXHjkiuvnrfC861ToODffLd76bkoYeSdQaEGTnqqFa57rqs3HdfWm6+uUnOOKNPJiYOIhASCCmK+gOJQEhRDS4FwtCzHwhsczHGHkAggOE11rzhNQMDAzIwMFC1syOWy4MzfRYL87IAoyYEDTYaNGu6tXz43Js1aWguPWjB8qiJ84AQr/VAQq/X57a8vkBzjjue2jKjUfP+VwafQ/JMIJpIr374mz7/ZtsNwUHHgvfMJT5Tauus7YQmV+vm7U6JRt07B9+FaCFU20s/4zNx9rk4BEPvGUr8Tce6t9CA6duy23dEnnZaRmZmIlm2bFAWL14sixcvroDh4OCgnHlmt5TLkUxOZqoA097nOvbiwEbbCxeLvB1J8Zk/BcLu7m7p7S3JzTdnpVyO5JlnknLbbU3y2GOz7+i8776kdHU114AILp54ixmhcW/roOXAvrG7u+J8is+P4lyLC0d2Ts5kMpV0vWdBcezggog3T+M8ZvsRnz1EkLNlDoGqzROh1psvbDqZTIZASFF1JAIhRTW4CIQEQgIhgXA2XLRJ3ngjIaOjoy4Qrl49IOVyJIcfXh9AeNlleZmejuTMM/PS0aGvpGiXo4/OyY4dkdx4Y4pASCCkKOoPIAIhRTW4FAhtOJb9Y4+GCk2ThUMMs4uDIARBax4wtCyZTEoymawKx0Iz74V1qRlCw+IZKcwbP9uwM00XodIaHAwN9MLFQkBtjb9n1mzooc1DTa63yyoaPEzPKxeCsAVyDB2NC9+MC1kMtYG3ayOaUTXIFqowhNi+R08PBEw0yHZHUtxpEvvX3iN4b1jYQBDRMij49vb21kAajlfbX7iDqBfap22A75f0FmoKhYKcckr2d8A3IBMTEzIxMSGjo6OV4+STZ39fuHB28WFkZERGRkaqTH1ox0kP7LFttQ66ADQwMFDzrkkdk93drfLqqwm58spMBYZ1R9mBgQH51KfaZHo6krGxWRDTdsLFBFsuXOAJLWh4i0se4OFvcXOhthsubHiQFgrRtOfEzXGYp84Xtt1xwQH70+aJO9zquQqupVLJXeDBtrBzSrFYJBBSVB2JQEhRDS4CIYGQQEggLBQK0tmZl9deS8qttxZkYmK8CggnJ0fk+99Pyne+k6yUb38C4VFHFaRcjmTJkqILhAcd1CflciRnnpkhEBIIKYr6PUUgpKgGlwLh7Kp7tXH0Di9kEY2wB2dobuNCozwTieYhZHY82Aht5uJt2oLvlLPnounF8Cx7zAWO8RrvewQQrZMXaoWwaMEITTiGmdq2DYGmB0FoYOMMqNdOCHn6fSqVklQqVVVPhE8MJ7T10ry9sFIFCIQqbzMYBcM4oNZzMSzUnqO/eeCGbYD18943iICJ/WE3FQq1tc1L63f66U1SLkfyta+lZOXKnCxaNCAbN5bkkUcysnt3JEcdVRuyaO8RnAO8ewSBRNPx6ongpPkcc0xeyuVIFiwo1oS3DgwMyOBgv0xPR/Kxj+XcfvPKHmonrYtdVAjBlU0vFDrq5YmghVBvxz3OLd5ih7Z73Pyqv2m5bDqhBRYvHRxncYtM+ltoYc/OkQRCiqofEQgpqsFFICQQEggJhPZ+OOWUJnn22er3ED76aJMcfXSH9PT01AUQDg8X5c03IznvvKwLhBs2dEq5HMny5QUCIYGQoqjfUwRCimpwKRDajVq8MB40cwh03mFDHxHYvA0W0DQgrHl56DlxmycoXCgI2I0f0MhqergxijUxCCgeeGEdbFtgaGiojW3ZsT+8sLM4IER4jDOKuBEKGmOv3dGI2o1PMH0P4NBQe68uQROt1+pmLv39/TXw7oW44eYcmJ41xu8XamvbG8eFbQtdbMG8bFtoG2reeo6G8dlyaT8gENqwahwHHnjheNpXhnY58sgWWbcuI4cckq0CBm0/D3AwTw+UMARboVs/2zFt28e+liSbzcr11ydl+/ZIpqZm2177c2SkID/4QVIeeigd3IAF70EbWo6H5j08PFw58J5AsLNznXevegtFHsjZIzRveGGqoYUpbx717m+tA+blhYbb+dS+NsQurGCb4D2DYfYtLS0EQoqqIxEIKarBRSAkEB74QDj78vQNGzpkxYqCtLa2EAh/TyBE6KtHICyVMvLYYwnZvTuS665Ly6c+VZBrrsnJ669Hsm1bQhYvDu/ISSAkEFIUNXcRCCmqwWU3lUHTao0rhmpaAxCCFS9kSA80Kp5BwVAkL9wpLrwVzRWaVhuCiSFXuMGH3QgEDZWFFi8sz+Zjwz1DYVPWpKIRjgNpLacXshsCJG9DEM0zFApm+yIuBBI38NC+tm2KIbwYgqdj0o5L7atSqSTr17fKM89kqsIbt2xpkmOPzVVBqd0oBtsJAcX2G4JpXH0Rjm2e+j+Y2NYW8rDOeM/Z6/BVErUvbM8G+95bqMEFES/sD7/D/rXjFNvGA2islzf/IIjjfNLe3iTnnZeSp56KZNeuSJ57LiEXX5yWgYHqVxooGCK02LbAexdfoRFatMlms5V0bXp4r8TNizjuvXxwTvFCinHs4TV27HoLgKGFQATFuD7yzsHFEpxnCYQUVd8iEFJUg4tASCA8UIHwhBNaZWYmkgceyMvppw/JypUTcuqp/fLd7zbL9HQkxx2XIxA2OBDaA+85AiGBkKKoP4wIhBTV4CIQEggPRCAslTply5ak3Htvk0xNLZCFCxfKwoULZXx8XCYmDpJ77knJli0JaW0tEggJhARCAiFFUb+HCIQU1eBSILSGyv6Rxj/gnvnS39DwWLOGxh/NeBxs4PNm9nkfhLS5QIstO0Io1sXbERBh1BopzRPfBei1Fz6TFWf8sZ5xptI7tN3wnXfWhOFum2gKvWfF0PzZPHXsaP3wWag4aFFDa2Fbx0FnZ6ccdVSLlMuRnHPOIbJy5crKsWjRIlm0aJGcfPKglMuRHHVU9XN67e3tFThAKE0kEpJIJFyzq+XDBZIQsFlTn8/na0AE0y0U9r3rDeHKA3IEL62THWf4nKCea9tU6xMa/xbI8VlEfEegBWYcF/YcnCfwXrHvZsSxhAsHHsR6C0hYLs079HxiNrtv98649sdx7+WPv9l7F+/DuHsZx5l372Ie+gyyLhj09PQEAdXmhdCPbeMBOS7W2e9w7vTelWrn9GyWu4xSVD2JQEhRDS4CIYHwQATCjRtnX0x+zDErXSA89NBxKZcj2bgxTyAkEBIICYQURf0eIhBSVINLgdBCkTWp+kca/9h74VOhkM/m5uYao4Eha/bc0M6fHlShCbcGAw22F76JkIjmxhpGhEg0OfY7BDEvTE+NNu6safP3vkP40DrguwDVDKZSqeCukhhO29pa+97BOJDD0EV7aH01XX1PnDXEWPc4yLUAd/TRsy8mX7eurwKBixYtkmXLlsmyZcvkox8d+t3vrVIqlarABl9NofChdbLjDBdEvPfj4U6pHnhhOyPw2MUHvFdwUcAuDGD4oHev4IKKB/l4H3rjFqHMu2dwjOM7Mj1g0nS1TXCxyAv3tm2hiwcYpmrvXQzv9sY0jncsu7drL0ItlsGOA+/eDYXkI9TbMYdtbO9dnAdx/rV5YKinl05onvTaDc9NJpOVA/scw3TtofcggZCi6kcEQopqcBEICYQHIhC2t7fItm0p+frX87Jo0aEAhEvl7rsL8uKLaenp6SIQEggJhARCiqJ+DxEIKarBZUNG53J4kIYhR2iircFHw+KZPzQIaJBtuCWGE1oDpeXD97J5oVF4LoY6WUOI4BDXTt6mMBgihaF0nqlHQ+uFGmre+r5Fa4hDYOmZXayn1/5oKr1QPswjZP688DoMi7MLFfpevpNOapJyOZI778zLmjX9MjY2IsceOyR33lmUcjmSk05KBcNf8/l97+zT8YKbENmxiO8KtPVUkEG4snlp2rq5DG4kY8MPFXBCocp2AxwPbPTQMNIQLHjtrJ+1fHYM4X2Nfd/a2lqpH6YXF+6K4wsXeWzougftOJcgYPb29lb6WNsW+8XCCY5fLwRS88aFEa9tMX2bJ84FeF944wOh3XsHoJbTKxfWU9OxGxxpHhgWjAsStl30s6ZnN1XCkGJ8z2dra2tV2ul0mkBIUXUkAiFFNbgIhATCAxUIc7mcnHxyk7z0UqrqPYTbt6fkpJNSVf8TQSAkEBIICYQURX04EQgpqsGlQKiGBKHh/WAtztDZ6/QcDWFEoPDCVNGsjo2NVQ4M01PTak0NGmkvJBbrgGbLCwdFUxQXPoWG0QuvRGNrDR4aRwzDtBv0IISOjIxUDgRyDCf0QvmwbbwwYQxts+VCEPfABjec0XO8TVJCoYutrXk59tisnHlmRj760aKUSu01kGdBF+ETP9tzQxuzeGGXWhfvtRYI29ifFhhwzHj3E/afXqsAtHBhSS6+OC/33dck3/lOTi69tF0mJkrS09NTFT6riwdo2DG93t7eSn9qeb0+1/GG48J7fQguLsQtrOC94wGOtpOOHS/cFe97mxf2EZbFzhsYxuuNbRz33iIHzqs473r11PR0nvPq4C1K4HiNm69xTGLYvJ3/sax6rV1MwL8ZOMfYdFpaZjc7IhBSVP2IQEhRDS4CIYHwQAdC258IZfMRCE85pV127Ypk585I7rorI9/8ZrPs3p2QHTsScvzx7QRCAiGBkKKoDyQCIUU1uAiEBEICYeMA4dKlXbJ7dyR33ZWVkZFOKZVKMjY2JosWDcu992Zk586ETE11EggJhARCiqLmLAIhRTW4LBAi/KEhsYdn2tC4eOnpMyUIdNYkabr4TJYHpni9LcdcdkhFM4TA49VB89b0LcCpAcLd9azRRFOEwOXtbIrt7pVHf8O2LRQKwb7CPsvlcjXmGeHPQjWWwbYtPuPkPc8XAnI003HX2LLjAoGmY9sfTSo+N2fhXcsegkcLkHHP36Fh13az95EFGGuoFaTsrrEIXPpc5c03l+S111Jy+OFLZGpqSqampmR8fFzGx8dlbKxbduxIyBVX7HuWUa/XvCYnJ2VycrLm/rDjwFsU0kPbC8eS96wYQoG2m5cetpcHF/jssIVQbTe9Bnct9cANYciDw7mUC8/xdj/17h88cE7yIDR0n9txFSqzB42hhQLbFiHQ9ABf281rf3sfFAoFAiFF1ZEIhBTV4CIQEggJhI0DhFu3ZuXWW0uybNmyGiDs7e2Vm27KyaOPNhEICYQEQoqi5iwCIUU1uOwuo/qH3P6RRsPnGVm8zgMvDGdUc4Jmzho6D34wpCkulA+veT8o8kI/7YHvJfPCAfE3r1yYblw50IzHGUY0aNbMv1+7eXkrNHgheGg0MazThhSiwfZ2HwyFwXmLEBg2a/PENtZrLbTjewe1XF6oG7Y/1s2Gk2J6dlxoOlpvBE5bLj23p6dHenp63DBh7CtNb+vWtFxzTauMjY3JwoULZeHChRUwnJyclBtvbJXHHksGdw5FKPPmAgxX9Q7sB9s+uPMlhnt7oZ4IQ3Zsa7raXtpGto9wTtJrLTRiWePmBNy9N24OwfBSOy68udLm7YUZI5h748KbM/UIwZ0Nt8e+xvs+bvxjPrZNcUHJA2jtUwIhRdWPCIQU1eAiEBIICYSNA4R33FGQZ59Ny0EHjdYA4YIFE/LSSyn58pczBEICIYGQoqg5i0BIUQ0uBUILL/ZQAxB6j50HWPhH3xpq3FTGAyY0NR4YouHH93h5YYgeVIXCSdWEeeYU048LtfUAOtR+CJEhs2RNsHd4G6kgvIbg24Y14qYtCoalUik4TqwJxE06EARsndE8a128DXbQ1Ntz9MAyeGF6CIBxIcVaby23BQkEEQRDb7FE62lNOG5YomGguEGOXUjBeq5d2ynlciSXXVaU0dERGR0dlUWLFsmiRYfK5z+fl3I5kmXL9gEt9pHWxVsowHt1fHxcFi0ak3PPzcstt2Tkppsy8id/kpNSqaWymID3vx0j2qbY5xY28L7GMWrvUe/ddhh2josIXjrYNl44qNYBN1DywiO1Xniu3TgL2wYXSrzFG2+exYUVb9EJQ0e9OQXnMWx/ez+F5joPkkP3gz0UHAmEFFU/IhBSVIOLQEggJBA2DhD29fXJxRcXpVyO5PHHM3Lppe1y9dU9smVLVsrlSM4/v/p/N38fIDz11H7ZsSMp09OR3H9/Wr73vZTMzETy4osJOfLIEoGQQEggpKgGEYGQohpcdlMZD87QxGPoaFxIpjU+GDqEBiMuBBXztvmjyfEgFI22NdZq6tEceYYFw/8844OhVR4Q6m9Ybw8k0FCFwtls++BGELYecXlh6CTm5dUhFC5p+yiuz/W1Bwioeq5C0cDAQFXfhg6si+at/2PV399fM1YwtNUCCYZtavksfGoYKEJCHMxiCJ019hhO6m3dj/XFcq1bV5R77snI668n5PXXE/L1r+dkzZoW6ezsdEMD9brQa10KhUIlpLWtrU0WLizKzp0J+fa3c3Loob2VPlq0qEO+//20vPJKSpYuPaiSj7cwgIsAOBZsmCUu3HjjFRcybDvrPISbmdix6IU9exBuYU8PL9wY70+897x7AkNv48Iu9Ro7zyLge/OFXo/j1ltww+v1e7vBUehvgy17aN4ILSxmMhkCIUXVkQiEFNXgIhASCAmEjQeEHR0d0tPTI3193XLmmZ1yzz05+d73UnLbbU2yfn2LlEqdvxcQfv7zGXnllaQcfPBwVR+VSiWZnOyUN9+M5NJLuwiEBEICIUU1gAiEFNXgIhASCAmEjQmEo6MlefDBJimXI3nooYxcf31GHn00JeVyJF//epP09nZ+aCB85pmkfPWrLTI6OloDhKVSSe65pyAPPZQjEBIICYQU1QAiEFJUg8s+Q4jmxoINmhn7xzv0PJo1Nmi60QRYg4dgGHcOPhNky4XPayEgWkP9fjBq08Nn0Lz0QsDqtSkCnAeAmj7mbSElBGnWROLnOIONcOW9Vy/Ur5lMpqZ83jNeaLpxDMYZfw/gcKzgzrD5fL4mr+HhYRkeHnZ3y8RnJrVudqdUBRl8Xs3m6b2bsL29vSodhGHNG5/lLBQKMjo6KqOjozXnWPC99dbZkNETTuiTsbExWbBggSxYcLCcfnpJdu+O5Jpr9rX74OCgDA4O1tTXmnqb17ZtCbn88qIMDAz8Lt3ZY2JiQiYmJuTaa1Pyve8l3efTND3sR+8ZztA84d1PobFkxxNCn/e8Is5rc1k0wfS9+nnp4TwRmvuy2WzwPX/efOEBrx44FvUaDwgRgPHexjnXW6DyFri8+tn80+k0gZCi6kgEQopqcBEICYQEwsYDwo98pFumpyP5+Mfzlf/1U2gbHh6WK65olTfeSEh3d+FDAeHdd6flkUeaXCA8+OBxef75hFxzTeoDAGFeVq5MyfXXJ+TBB5Ny991J2bgxI4VCE4GQQEhR1H4WgZCiGlw2ZNQzBhhq6IUDhYyAZ87QYITesWXBzQu7RJhCk2SNkpbBg58QvGB9PdPmwUYIML2yI+B4QIfl8GAbYdQzZNi2Wk/cYdP2LUKVDUXDsDM1u7Z+amAxfM0CoaajeWDonQe3IRC2fR1nYNFYY8imN+7teLfnFgqFSlkxxNO2V6j9bbn0eoQYLxwWwVLz0f740z8tSLkcyaGHjsnq1atl9erVsmrVKlm1apVMTU3J2rXjUi5HctRRmapxoECp9VbY7evrq4TPtrW1yUc/OvsKi3POKcj4+Hjl6O4uyaWXzv62aNG+seztULuv3Vrl+utnQ1t/8IOU3HBDTr797dnPTz+dlSOOWFApA8KWNya1HT2A037FtrbQiiGnGhpp08O8vLlFr9dQWy/0NxSG7o1t7Zu4eRoBzBs72hahMFO7KzHOXxhaXygUqkJWLVDbcmEoPs6PNo+uri7p6OggEFJUHYlASFF1pNtvv12iKJIrr7yy8t17770nmzdvlq6uLsnn87Jx40bZu3fvnNMkEBIICYSNB4Rnnz0LhAsWHOQC4VFHTUi5HMkxx3w4IGxra5UvfWn2VRbf/naznH9+SS64oCQPPJD+3est0lX/Ix0HhJ/9bFampyM566yilEpdlXwOP7xDXn45LQ89lCcQEggpitqPIhBSVJ3ob//2b2VsbEyWLFlSBYSbNm2SwcFB2bNnj7z11lty3HHHydKlS+XXv/71nNK1QIjA4x24SYwHT3EmJBQe6YViopm0eYaMkAemGHYZF8KEoVxx4aCeOQ+1iZdnCEa9MKq4UDCEKy8dfKcagok1gyEYs/Ci3+mmPENDQzI0NOTCMYY82o1PMC+sg3eg8bTvBNQ80fDbc/D9flo+fB+eB5+anrfZDUKeB+0YQu1BopZTr/HCa9FE67kKTitWlKRcjmTDhoJMTk7K5ORk5X/x+vv75YILWmTPnkgOPrhbent7a+4RzdPbMEbP6ezskDPPLMhDDyWlXI6kXI7kwQezcuaZPZX21zGlkNfT01OB1vb2dunqapPt21Ny002tldBWG0Z74omz/9u4alV7VZvY+wk3/sHxZxc18B70IB/nAq+vQu8otGXH8YRQa/MMhXzakNbQopUXjqvzhpbT3nMIuN5ch/MizjEe+GKb2HLhwojNC0Nqe3p6pFQqEQgpqo5EIKSoOtB//dd/ycEHHyx79uyRY489tgKE77zzjjQ1NcnWrVsr5/7sZz+TZDIpu3btmlPaBEICIYGw8YCwr69PvvWttDz/fFKOOGK0CghXrSrJq68m5JZbmiv/e/XhgHAWfGZ3VG2R9vaWCtTNFQiXLWuRcjmSU04ZdIGwo6NVduyI5MILCwRCAiFFUftJBEKKqgN9+tOflquuukpEpAoIZ2ZmJIoi+cUvflF1/pIlS+SGG25w03rvvffk3XffrRx79+6tAUIvTHIu4IXmNA6C8LM1BmpccMMSL5QyBGs23A+v8cJS0dCpabIGD0P5vPRCYOm1Bebt1RMh2QtBRHPphWPhBhAIMd6B7RZnTtH4WbDUMuj/VFlzimMHQ+ZsHfA7YGzivQAAIABJREFUb5zZcFRvAw4NSevq6qqAF9bBe+2EpqNhe3Zc6IEQ6bW/nqPXWFDCMa0gpufaPg/lZe+j8fEWeeaZpOzenZBbby3I5z6Xl9tvz8iePZE8/HBCuroyNXCMiwDeKwywLra9Qq91sG1hF08WL54NO129urWyqGD7b2pqobz+elIuuGA2PFz7zoMq7Ec7F+h4w3LZ9sKwSZyHvLB2XLCx4wxfP6H9GHdfxoVKhxbTQotAtny2npgnhnym0+nKdTgHe/McLip582JoHvPS0YU0AiFF1Y8IhBS1n/Xss8/K4sWL5Ve/+pWIVAPhli1bJJPJ1FxzwgknyEUXXeSmd+ONN0oURTUHgZBAGAbCJlm9Oi2XXpqVyy7Lyvr1eWltLRAI6xwI29raZGCgVS65pF2efrpJXnklIY89lpKzz05La+vsuN3fQNjenpPXXkvIFVfkXCA8/fRhKZcjOfLIZgIhgZCiqP0kAiFF7Uf99Kc/lZ6eHvnRj35U+W4uQLh+/Xq5+OKL3TT5P4QEwg8ChAcdlJNHH01IuRzJtm0Jee652X9v2ZKQRYtq4ZFAWF9A2NbWVvOKCpvO/gbC5uZmueqqnOzaFcn69d1VQDgyUpQtWzLygx9kpaWlSCAkEFIUtZ9EIKSo/ajt27dLFEUVOEmlUhJFkSQSCUmlUjI9Pf2BQ0ZR+gyhNUkeVOmBf/QzmYxrgENwhmYEwdDCgBoyz2zhgXlbCNAyoGH0nm3BZ3G8/zEL5WPzwnLFnYOmyTOeeqghtsYV4Uc/e+2LJtODKk23q6tZnnkmIc8+m5Ljjy/J4OCADA4OyjHHdMsjj6Tk5ZcTMjbWWmXuranEMaNm1z7PZ2HCHnFQqxDjLU5oHjjObD9q++gzXXoOhsE2N+97dyK+a9PbQRTHr62nQpleo3lZoMSy6rmahu03XMBA4Jn937fZttD28tLRczEUWNvGW8hAA29hQ59J1PlKy6Df9/b21sBYe3uz3HtvUmZmInnggTa58MKsfOUrTfLGG5Fs2xbJ+HhTDQx5QK718+4bhEa8d+wzpAi83nwTepbTW4zAucW2KT6Hiu/qtHnqd6HFOvsdQq3NEyEP+9P+LcDDW+DCdLz2D7WFHTs4LgmEFFU/IhBS1H7UL3/5S3n77berjpUrV8p5550nb7/9dmVTmeeee65yzc9//vMPtakMgZBAiEB49tlNMj0dyfLlvZUXl+sxMtIqb7wRyaZNWQIhgfD3AsJ8Pi+trc1yySWj8sQTBdm+PSFPP52Uiy/OSk9PU9UYIhASCCmK+r8XgZCi6kw2ZFRk9rUTQ0NDMj09LW+99ZYcf/zxH+q1EzYcyDOMGE7lmYcPEiYWF8aJxthLLxQa5aWDYVO27PguQSxnXHpeWTCEzANMa+DQXOVyuarrEFZC8B0KvcK2w5CtOGP2ne80yT33NFVCPScmJipHd3e3XHddTp58MiGFgr8TZgjs7aHhkmqMcVdOey6+19BrP3yHnAd5aGQ1HTTyFo4VOuIWIxB8R0ZGKoe2AZZHQ1D7+/srfa2GXdPTUE+v/3FHUwvVCMkICxaI9BoEEs/4431kIQjDNbGfe3r2vZICQygRuu28g/W1YccIP96cgmMQy5vP5yt117LjOLN9jmGmHuxhOby50xvnNh37HS6weItNuIjlzQ+hRSE7vnCM46KHN99gPl44bugetCHOBEKKqj8RCCmqzoRA+Ktf/Uo2b94snZ2d0tzcLBs2bJCf/vSnc06PQEggDAHhI4+k5StfyQWB8LLL8rJt2/wFwoUL03LRRUn5whdS8slPpmVoqEAgJBASCAmEFNVwIhBSVINLgdAL6ywWizWGBTcXsGYLAckaE/0O32OIxt2aWzzHHqENFrzwJoQrC2MYGhgXghraTMbmqfXDTTo8ONPPavj1s31/Xci8WVOPhhXDEm3opOat4XUIYLZvb7opLU8+mZCxsVEZGxurgpfe3l65//4mue++VNU4sYeabh0f3vsS0aCjydS2KZVKNf3hhc+imcfwv3w+X/MORDw03a6urpqwy7a2NunubpXbb599XcLLLyfkkUeSsmtXJG++GcmFF3bWQIIdrzousJ42xBPbBtuvtbXV3Wgmm826IYsY0mfHBW6cguHGHqTg+LV9jnnivWcXN/Ddkd68EVpYsd9pW+AGMjacNLTZjQefOGbiNobCNohb0Ipb2NLxhXl5QIj94d272Fde+H5oQcqer58xDNzWE9vJW3gLjQ9bLntONpslEFJUHYlASFENLgIhgTAEhEcckZNyOZJPfaqrBghPOaVdyuVITj45O++A8IYbmmTXrkjOOqtF+vpKv3vmriBf/vLsS9ZPPTVHICQQEggJhBTVMCIQUlSDS4HQGhi7MQgaE4RAG4blhVeiaUB4RKPg5YUwVCgUavJG0LRhSRhi5Z0TyisuHMsDaA96QuGbCLOewdNzdJMOzMeadzVWGBZqwRnL7G1As68tmuWLX0zLzEwkN93UJCef3CEnnNAh113XLHv2RHLnnZnK+wi9EEPsIy2Dt5EKtonX5pqOgpOm4YVJoqG1faSbm+g1s2BSkuOP75arr26Rq65qkjPOyElX1z5gUnhZvrxPZmYiufjiAVm8eLEsXrxYVqxYIStWrJDh4SH5xjdy8vjjCcnlqmEKIQPB0AIuwprmHXfP6XjxADo0fm24J4KrbipjxxkuRmB57WKJ5o3hry0tLTXpYB3iwnu9czAkVr+3YaqhkHLvtR+h+9KbC+LgCtPxzglBrVc+nOP0XLt5Ed4rHoRqG+JrYeIWmULzUSqViq0ftkVcaL89N5fLEQgpqo5EIKSoBheBkEAYBsK8FArN8slPNsuzzyalXI6kXI7khReScuGFeenu7qxJ50AEwomJLnnwwbSUy5G8+GJSnnpqtq6vvJKQdeuKVVB24YVtsmtXQpYvP9QBwmE57bSSlMuRTExkCIQEQgIhgZCiGkIEQopqcCkQWtNqjZf+AQ9tye6BIIYp2tCq9/tszQcaFmuIQxuVxIVmonHxwpuw7J4JxN88ox0K1bTwGTJdnqnHMDFbZzTEcW2BwKplsIsAWg7t87GxMTnooFEZH2+WiYlm6elplsWLW+Wgg9oqcIWheTYPLLsdF5onjh291oZvYht7sIFjxYNGbdvOzk4plTrk8cezsn17Sj7+8XFZvnypLFmyRI4/fqE88EBRdu+OZMWKfelceGFWXnopUQGmvr4+mZqakqmpKeno6JAVK2bDRpcty1cZdW0TDbnVMth7TdtJz9F+TSaTkkwmq9pCr8cNVWw9tcwY/mohQ9tL+1HrhJtI2Ty0r7wQW1wYwGvtgYsT3r2iv2EItvcydZyzbF4I2d4mQbjYhYDphXIjUHuLHQhB3nw1lzkFn031wjdx/vEWRHAOiUsHw+61vrYtvHkVDwx3xfveXp9Opyvv3CUQUlR9iEBIUQ0uAiGBcC5AODY2JqOjzXLddWnZvTuq/G/hd77TJOvWdRywQHjiiUUplyM56aQBWbZsmSxbtkyWLFkiS5YskcMOWyxbtybl5puzlXROPrlZyuVIVq7scoHws59tlt27I+nrKxIICYQEQgIhRTWECIQU1eAiEBII5wKEhx02JNu2JeSFFxLy6U83ydFHF+XMM/Py/e+nZc+eSE48sXhAAuENN2TkqacyMjExUQOES5YskYsvzsuuXZF0dmpaLfLiiwn55jczMjjYWwWECxa0yksvJeT669PS0tJCICQQEggJhBTVECIQUlSDy+4yqn+YvWey8Pkf7w953DMkHiRms9kaE9fUtG+HSDQf3nNICGlxh/c8Uug5K+96ax6tkfXMFj6bZ9tC64mGz4MzrTsabQ/2MC+bTqgucc9KWgN6880p2bYtKVNT3dLX1yfj4+MyPj4uw8MDcvfdOdm+PSFdXa2uUcedMW1b6O6K+Gyp1tuGZuICAYKUfU4Rn7uz9VPg6urqkjvuyMgDD7TI0qVLZc2aNbJmzRpZvXp15Tj//B4pl6PK5jl9fX1y4okd8uabkTzxRFLOOScnZ589LF/6UklefjmSZ55JyNhYa1Wf2ff8IaDasmuZ9Td9/yMCXXt7e6Ve2kd4bVtbmwwODsrg4GCl/RT6bJ6tra2yYEFRNm3KyVe+kpXLLsvJ4sVtNRBv4Q5h3oNHfAbQe1ehlhmfX7QLItpneD95zxNqOqG5xlus8u5n7zlFWxd7YH/OJU/bj7gAgs//enMLzh8eeGleod1oPfiMmx+wnLaP8PlRLIsH/R6E2vdQ8hlCiqovEQgpqsFFICQQvh8Q9vXN7ip6/vn7NhtRIBwcHJTDD+/53esWmg84INy8uVl27EjJypUfcYHwjjuKsnXrvo16tCwrVxbkrrtmd2AtlyN5442kXH11Wvr7m2v6rH6BsFmuvDIj5XIkr72WkIcfTsmrryakXI7k//2/tBSL1RBEICQQEggpan6KQEhRDS4FwlCYEkKQmkC7y5wau7nAGIZ4esAUCpP0DCeaUs/AYdk9kNNz4gwUlsODqRC42fbywrg8Q2XhOlSWXC5X02fee9j0QBPnQT22//LleSmXIznllIMroZQaJjk0NCRDQ0OyfXtCPve5auOv7aRgg0BngVAPvQbfyWfNsv6mBtLbFTe0u6o1ubNlK8jMTCRf+EJRhoYGZWhoqFLek04alD17IrnggmIFyvR5Sh3zIyNdMjKSl/b2fabZe28ghtx5oKT10j7SaxTsxsfH5cgjh+SKKzrk859vlo9/vCiDg7P9rOdY2EA41kP77JJLWqVcjuSii1pl8eKDZeHChTI1NS6f+1xJpqcj+cIX2qrGp7Y3AqoNzcQFCC2DHf/YD9r32Ea2TRCU7LjAewMB0c4zej0upngLKloGra+3UFb96pLuqjxxcUOvsTCF8BQKPfcA11tYwnO88HE811tkwrRxrrN54EIPPmagkGfz1La1edqw72yW7yGkqHoSgZCiGlwEQgLh+wHh1FRByuVIPv7xMRcIJycHZPfuSM49t/mAA8KWlha56KI2KZcj+da3svKnf9opZ5zRL9dfP/t6iQceaJLBwe4gEHZ3d9f04x8DCMfGBuT222c3wNmxIylbtiRlejqSN96I5E/+pPCBgfCggwbl1VeTcu21s9cuXLhQFi5cWOmrq69uk507E9LTUyAQEggJhBQ1z0UgpKgGlw0ZRSjq7OysCen0NpIJvVPOCzfDDSA8Y4YHmghrqLVc3nvw8DeEyHQ6XbPhAxoXa7bQsKJRbmtrq8kTN6+xm7WEoNsLB0WTj+9lsyFuuHFJqVSqqZcaeP3eAwn9PDExLk89lZF7781Kf3+f9Pf3VzYlKZVKcv75BZmejmRysq1qgxE9NGQRN1hpbW2tlEPLjACLCwjexjreRja4gYxtJ4SCrq4uOe20ojzySKqye+r27Qm57LJmaWvLVuWFoZp2k4+4caHlUPjxnufTc4eHh2V4eLiSzsDAgNx8c7O8+WZSrrhiQo455giZmpqS1asn5JZbZmH9xBNbq/rZC5u17b927ez/+q5fPymLFy+WRYsWyaJFiyob6yxfPijlciTHH5+utBNuYqT96o3BuE1NtC20DfTQ9rPp2b71NiqKAzBvDsExHrdopZ+9siAMY/oWALHMXnthGfR3b7HDm5v0QNCKW+TDPGzZEfw8aMRxgfO2B7OYrrdQo2HgBEKKqh8RCCmqwUUgJBC+PxBOyNln90q5HMn11zfLIYfMwuDQULecd15B9uyJ5NprM9LR0XHAAqEeExMdsnBhu/T0zO7OiXntDyBcvnz2Gc0rrxyXo446So466qjK/9COjg7L/fdn5eGH0x8ICE88cfb1GatXT7lAODEx8rvnQlMEQgIhgZCi5rkIhBTV4FIg9IyC3XRF/4DHmQcEMWsO9FwvzBKNS+g3L6QJy2fPwRAtL0wpFLKFdbGHtgGGiXqhopqeNb4hM+iZVDR6Xh3QLHvhiBhmFgqDta9uwHb8sz9rlp07I5mejuSZZ5LyxhuRzMxEcu21KSmV2qpC+2wILIaE2XO0zNi2uNjQ2dlZs+mHXmNfo6BtHDe+MGxWP3shoCE4iDPj3qYauOEJlqFYLFageMGCBbJgwYIKIP75n+fljTcSsnr1clmxYoWsWLFCjjjiCDniiCNkcnJSPvaxPimXIzn88JGqRQCFXK2XLechh8z+z+JnPzsqy5Ytq4ScKrCedlrn79Lc97++Cj/aBrjZj72/sf3sOQhVuIji3U86HryNhBCotZzeIkfcfYTwgnOghTNcVPDGGd4HuHmOPfB+9zYmwk23vDJoOtj+3lyA9dbx19/fX7MAgnOwt/CGbWHbK7TwFwpVb25uJhBSVB2JQEhRDS4CIYFwrkDY3t4uAwNt8rGPNcuVV+bkwgvzMj6eqzL8BMI/PBBu3twszz+frMAgAuGJJ86Gdx5zzNCcgbC1tVW+9a2UbN2alaOPXlwFhJOTffLEE03y6KNNVf97SiAkEBIIKWp+ikBIUQ0uAiGB8IMAoR4KCWj4CYR/eCA866yizMxEcsIJi10g3Ly5S3bvTsjixWMfCAinpgry6qtpefnltFx2WYts3Ngpmza1yLZtKXnttYQccUQPgZBASCCkKIpASFGNLgVC+1ygB0Fxz69YgPGeE7HfoSnC53bsjnho4rxz1Kx6hkPP1d0N9bNXdq/M2BYh82dNM16v53jPDeHzmN5zgfg8juZtAVPNo4KTlsXWU4EpZGQtmOCzjvjZ7qqI5tsCHD5n5UEj1lPLq8/ReYZf08fnt6wRRnixddW0tQ5YXtv++KyfjkXbFpqufvZ2hcR66mcLcBquqf2neY2N9clrryXkzjubZWhoQAYHB+W4446T4447Tg4+uE1eeikhX/1qugrEisV970xE+LZwcMghHXLddVnZtWt2M53duyO5/vomWbq0S3p7e92FAkzPawu8N2w/hhYuPNgOAbUtF44lXOywCx6al15joREhCvP27n0ct978E2o3PN+eg0DW0dFR8xy3N2fh7qAeOOt1Ou7iAHUuz+2GFtfs3Bma82ye9pnGVCpFIKSoOhKBkKIaXARCAiGBsL6BcGBgQM48s0NmZiJ5+OEm+djHOuQzn1kmN9xwkGzfnpCtW5MyNNT8oYBQ8+7vL8nkZJeUSrN103oTCAmEBEKKogiEFNXgUiD0zIQXvokGxoYWeoYHjUAoZNHLM2RKrMHD0CNrjkKhjx6w4WevnmiWcDfBUH3QmKF5RnPknauHFw6q5l3fkYc7i3pAiLufWmMWehej9z5DLY/ClX2nIAKhlsHWR8eMftZrND17rpYVy+eFBmLZbf30xez4/jSEDgt1GPps+0jLpfVGKO3o6Kj0DZp6L8RQPyPwr1vXJt/9blPl1Ri7dyfk2mvTMjS0792TCrsWpnFM2nJpnpqXfZ1IqVSqan9cmPEWO/A9gdqP3mIHzhv6ve1PvAe1fHYRBtPRfvUADuc4mxcuVuH9aQHHex8iHji2cVHAzim4AIfX2PbCutj08DpvcULriaHE9tC21fLh4ou3aIhzsNf+2KZ2LFpYLxQKBEKKqiMRCCmqwUUgJBB+UCAcH2+XzZub5dlnk/Lqq5E8/HBCPvnJogwMlAiEf0Qg1DaZnOySY445SJYsObiSN4GQQEggpCjqjyUCIUU1uOx7CD2DgX/cvfBJNLkITh4w6Wd8H6A1a3iuZ/DxXJtOKLTKlh3zRwD2YCxUTmvw1GRq2J4FEoREDE3zwrsQED2DrcZKzfzk5GTl0HT0XDVf3gYc2BZ6Tltbmxx6aFFefDEhO3ZEcs01TbJpU5vcc0+zzMxE8uCDGens3AdIajix7BMTE5UDDaceHlir0cfNMeIADkPUstlsxewiOHj9iSGfWgfbRx7I5/P5qnBQ3FBIwcaWHc245uVt5KTwqf07Ojoqo6OjVelhm3obsmge+l5DHa8KzXb8Y9glLsp4oY/e/y7rb7hIgeG0dkwjjHp52fa2/3ttxxFuhGXbB/szLqwd5wRvHsNFMBy32Wy25jtc9LALPwhtCH0WPvWzNy96kGjztmG3uMCCoet2kTDUxt4RN1/rPUggpKj6EYGQohpcBEIC4dyBsFUeeywpTzyRlOHhorS2tlb+N2rt2pLs3JmQq65KEwgJhARCAiGBkKIaSARCimpw2ddOYDiUNUMeTIUg0TNQaCwQuKwZ0XMxnMozeKFNUmw5EIbiQjwxJMo7F+HP1hM361AQUMM+Ojpa0z4YAuaFd3mmGw0xbrZijaKmo7+NjIzIyMhIjRnz+kzrcPzxXVIuR7J+fVcFIBTsenp65PLL87JjRyTd3bObfmjfajr4ugHvQGjxNp1AwPeebcRwTnsOhn8iiMWFEXp9jqGr2sY2T6y7F8pqz7eHgpMtF44vfY+gfXWA1gfHhx07dnMiC6yahh2LCBlaJxu+ie2m5fTGNEKed39iufBc27e44YwHszgmbV76HW62ghvRWJjC1zJYwMH64L2ICxUWyjxgwrlTF2O86zFdOy9iHnhfeYtnuGgRt9in7eaBauhvBx7pdJpASFF1JAIhRTW4CIQEwrkC4UUXtciOHQkZGOh3gXD16g4plyM57LA8gZBASCAkEBIIKapBRCCkqAYXgZBAOFcgvPDCVtm5MyHDwz4QrlkzC4RLlxII9ycQDg31ycBAH4GQQEggpCjqDyICIUU1uBQIrYnwTHjoGTsLXnHQGDICuIumNQ1ohDzjgMBk89DnevBZu9BzK/ZAY2QNIz5H5MGUlkefxbImHAEiBJwI1TZd79kn3A1SQaKnp6dS39Dzc/ZZJayXfr9wYVrK5Ug++tF0BSj1GbZisShf/GJaXnwxIa2ts4YdDbXm6e0cikYdn8W0EIR9Zc/RNkFTqs/G9fX11TzbiBBpjSwaWm9nWRzbeI19pkvPwfc4dnR0VPpGy4ntZc8dHx+X8fHxCrh1dLTKxz+ek6eeSkm5HMmePZHcdVdW1qzpqOSlY8G2BUKepq8gZtsAQRDHnW0f7FctQ3d3d80zxghr3vjXd4l68IwwpOW197yWWecETdcDLryPvPGAYKTt6T2rh/OaHbshcAvt9GvL5z3Ph32l39s5Xdsg1G7es7j4HKMtj7eQFTpw/rZ9befcTCZDIKSoOhKBkKIaXARCAuFcgTCTycg99yTkxRcjWbu2twKEBx88IWeckZXp6Ug+85naV1kQCP+4QDg01Cd33ZWW6elIbr89K+ec0yoXXFCUp55KyfR0JGec0UIgJBASCCmK+tAiEFJUg0uBMJ/ft6Olmq9UKlVjVNBE2FAjDIPyQNDbja+pqfrdh2hKvMMzV2hU0Ax5kIegi+FeHshh3l5bqLn3oMUDSC8s0QKNthsabwsnGDJnQ/kwL6yf/Q2Npu2XgYGCPPJIUsrlSB54IC033piRp5+e/XzddU3S1lasWUzAUDULn1oHXBTQslioRVjUctpxhO9mxB0xLWRiv+Lunm1tbZX/gdNrvV1ZdcdPzcvCjx4IEnqtPUfz1PS03t579Sw8nn9+i0xPR7JhQ7esXLmycixfvlTuvrtDdu2KZHS0rQIt+k7EsbGxYBivpm/P1Tro3OCNfwQJL4QR7wMETG/ewBB2b3FIf9N7xfY5vlcPFy1s2nh93CIYpmPrGQrJtPMVwhACmJeeN6ZxfGIovBduj3Oq1xa4QIbljFsI9GAP710771iQLhT4HkKKqicRCCmqwUUgJBB+ECAsFovS3l6QM85okbvvzsgDD6TkxhszcsQReWltrS47gfD/Bgiffjold9yRl5GRkSogXLZsmRx99GLZvTuSz3ymmUBIICQQUhT1oUQgpKgGlwKh98fbOxA+bGhW3PUIXhiqqSbMGrHQRjS2HHM5ByHICxNDQPSAMBTG5oVb4gY5XrgZ5uHVAcO7EPqsCcVzvXMw7MzbxAQ310C4tfXRtvDCQfVcfd7QC8nUNkDg9TbdwHbD0LxisVjZaEPLbvsGwQMBU8N7LYQqnOF7/mw9MfxZIdJu1oJwoGWx4wrDeTU9bRvb/nrO0FCPlMuRXHTRqBx22GGycePGyrF06VJZunSpfPe7TXLrrVl3oxiFMxxXuBlLS0tLDbhque27/7B8Xtg2buYTuh/svabXINDZUMdQ6LldjMB70AuT1D7H+nkh5QixXjg6juVQyKQFMJ1b4qDYu5/0nNDijjcXe4Do3X/ZbFaSyaQkk8mqOuB8682tOA9p+nbetyCZzWYJhBRVRyIQUlSDi0BIIHw/IOzv75SJiQ5pacnV1KdxgLAoH/1ot1x+eatcemlejj++XXp6uuseCPv7e2RmJpIrrhgKAuETT6TlhhtyBEICIYGQoqgPJQIhRTW4FAhtSFLcH3sP9tSAoXnwYArTUzPghSDNJTwMw5NCYahe2JMtB14fCuv0TJLdpEOND25e4eWN0IiGzxpEPNeWJ2TsbF6h8FLPnGs5DjkkLzfdlJY9eyIplyPZuTOSL30pJcPD2Rpw02u9sE+FH6yDF+qL4bOeqcTfbGishszFAbkafq37smW98thjTVIuR/Lqq0l5+eWElMuRPPlkShYvng2f1P8x1Hxs22I9FQI9OMYNZGx9EAS1DnqNDS/V/80slUpyzz1N8uSTGZmcHJfFixdXjoGBATnqqJKUy5GceWZXpXx2vLa3t8mGDXl56KGM7NkTya5dCfn613Ny5JEtVa9yKBaLlXIoIO2D0n3vPsSFBux7Wx+8D7z5Qg9cgPA27EGY9UK5Ef68TWAwjNaDdwzpxLnLph0Xehra0Ebbz9YB73e9xob4e/PD+4WLeweWWa+Ja9s4OA4d3ryjIa4EQoqqHxEIKarBRSAkEHpAuHx5Xl5/PZJnn03IRRe1ycaNJbnggrS8+GIkL7wQycKFxYYAwv7+Ntm6NSVbt6Zkw4Z+mZgYl+7ukqxd2yY/+EFKtm1LyuhoR10D4dq1bTJztAJDAAAgAElEQVQzE8ktt7TI4YcfUgHCI4/slq1bU/L002kZGRl0gLBXrr02I+VyJN/5TlYuuKBdLr64VZ56Ki0zM5H82Z8VCIQEQgIhRVEEQopqdCkQYohVyLjEhYV6IUx6YJgTfrZmNwSRnpGIOycEe1699FCQ8zYIsSbIHjbsCcuHmyhYM4ohnt6LwxE+sa0toKJZ9V74joYRX6w9C85N8thjCXniiWZZseKQCnx0dHTI2FibPPtsUu67LyuDg4M1JhrLa8uF4GRNNoaQeqGxoTxsf2K7YZij3ZCnt7dXPv3p2R0616wZlw0bNsiGDRtk1apVsmrVKlm/fpns3h3JBRfUvqzctheaZM80h8JecTMXLVdvb2/NZjV2DOl3GiK7YUOTvPlmJDt3JuTb387Io4/OvjPy2WczMjk5ez6Gsp5+epuUy5F84hPtsm7dOlm3bp0cffTRsmbNUXLNNU0yPR3JIYfsA0C9Dl93Yl+HoXVQ6PRgSq/De8WDPRy33n2BiyfeM6/Y/hg6avsRxxKOUTufIfx5eYbgzy6AIJTiQoJtHwxr98K9cZHIA0uc+2y58F6L2wwG7wkEVltP7DN7fzNklKLqVwRCimpwEQgJhAiEy5bNwsRZZ43J4sWLq4Cwo6NDzjorL+VyJMuW9R7wQPjgg01y771FmZqaqgHCVatWyc03Z+TRR1N1D4TNzc0yMJCTTZuKcscdWbnllpyce+6QfOQjh1bORSC8//4meeCBjAwODlYB4dFHHy2lUlFefz2Syy9vJhASCAmEFDXPRSCkqP2sf//3f5dzzz238sd+6dKl8nd/93eV33/729/KjTfeKP39/ZLL5eTYY4+VH//4x3NOn0BIIEQgPOOMlMzMRPKRjyxygXBycvZ/lk49teuAB8Inn0zLDTd0BIHw8stzsnVr8oAAwubm5qrw5UWLFsmiRYuCQLhzZ0I+97lWFwhbWlrkttvSct99TQRCAiGBkKLmuQiEFLUf9Ytf/EJGR0flM5/5jPzN3/yN/Mu//ItMT0/LP/3TP1XOufPOO6WlpUVefPFFefvtt+Wcc86R/v5++eUvfzmnPP4/e2caZEd15fl8Va/2fd9LpaqnqlJVoSqXhFQgWQtGCyAJCcQiS+zCAgkEFjsyyFiWELLZDI0EmB1LyKDFWkBLlV90dLjd3R/siaGjoycmHBMTDvvbzIQ9XyAmmv98eJzUqf87+VADguL5/CPyQ72XefPmzZtZ53ff/56rs4xy0KT/uXNgZ83n4wx3OiDguYISWEjwpvflOS4WvHFwkwlUGQStICgqYLHAg+tpBYFR8w11+0YlZtFBKAepfG5rDqIco2GWg1xuNx3sLl6ci2QywOTJqbluIyMjGBkZCcFw9uzUUgcjI2cCTb73eq6Sbh/euB6ZNm4f6ZO6PM5CaQX+GhZ37szH668XIJHoCtfvmzNnTrg991wOfvrTHDOLKmfb5H5rBdiyj8CVBjjuF3LvLBCW+sjzk0gkkEgkxoGlrB8o8x87OzvR2dkZnufIkQDr16fmrV1//fW4/vrrw3tdXV2Np5+OY9euM4MjUt6CBa24/fYaXHddHqZPL0Rn5+SwbJ7fmakPSDtx9lPdF6PgzBqYyQSN3B+s+yjXx+XyM6Pnyckm+2bKaiv3Sl8f96GovmQNmki5Ossrzxfk93h+/pnMxVxnawAjaiBKf8cDXfwOtQb3rIEyKTsejyM3N9eB0OWaQHIgdLm+Rj3wwAOYM2dO5PeffPIJGhsbsXPnzvCzjz76CBUVFdizZ89ZncOB0IGQgbCmJg8nTwZYv77IBMJHHy3BwYMxVFaeqcM3FQgXLixHMhng2msb0oDwllumIpkMcPHF+VkJhI88kou9e3NQVVWeBoTd3RUYHQ1w9dVn2nlwsBW7dxd8mnE2huPHU9lnX321ADNntjkQOhA6ELpcWSoHQpfra9TUqVNx9913Y9WqVairq8PQ0BBeeuml8Ps//OEPCIIAv/vd78Ydt3z5clx//fVmmR999BH+8pe/hNsf//hHBEFgAp7+B842Mcu+yRkYLZtkVGBgnZNhxrKncpBvBSScxdEKdDiolO/1dXIdLPuUBFe8jw6E5VxcnhXIRkGRtlrJZ1JPK8iMAlTrnldWVuLuuwtw+nSAlStz0NJSj4aGBtTXl+GWWwo+Bai8ccG33CtdLw562WKmbaBsxZN7pfdlezFnFtXZO+WcfB6dZTMVRNdg27ZCjI4G2LKlEAsWVOKii6rx0EPFOH06wPbtOSgpKQxhgeupr72lpQUtLS0mqDLUyd86mJeN77UAnu6Lcl28TqI1mCDlShvJNQwOFuH06QDbthWio6MODQ0NaGlpweBgA155JY6DB3PQ0pKCzqamarz1VhwHDuRg5co6TJ7cjkSiE8uXN+Gdd/Lw7rtxDA11pfU3Oadl2bXgia2xlkU6ynbMgJTJmswZa8vKytIGp/h5tYCQ66nt45yVlW3pnF1Z33PLMir7SLlWeWw9jXp36Xce25B135VzyqCCVY7cTx60svZlGLUGyuS8DoQu18SRA6HL9TVK/lE+9NBD+N3vfoc9e/agsLAQb7zxBgDgN7/5DYIgwJ/+9Kdxx916661YtGiRWebWrVsRBEHa5kDoQKiBsLq6Avfdl1qP71e/iuHnP4/j+PEAo6MBNmzIR1FRYZYAYS2amhrwve+V4sCBHCSTqV+9Dh3KwYYNpSgtTV1nNgJhaWkpVqyowMmTqTUmn3wyH3/3d/kYGwtw4EAOzj//THtefXUJxsYCnH9+XXiurq4udHV1YdasyTh1KoY776xN628OhA6EDoQu1zdfDoQu19eovLw8XHDBBeM+u/POOzEyMgLgDBD++c9/HrfPunXrsHjxYrPMTL8Qyj9/y1Ip/9At61dUIKADHQnwGZA4oNLBHwc3euNzW/YkOV4CFiuY50CFLa46YGQbl2XH4jpIeRparM/0umwW3EaBqwZBvkf6eAkwo6DZOldlZSX6+8tw++0FeOihPNx0Uxzt7QXjAmu+VxYQSpApn+trlvOzbU3qoi2QDBcSpOp+wW3M6+GVl5eHICM2S7HCNjc3YHi4FuedV466uspxgCn1kvIzgYyAoW4Lbm+BUsv6KNcr57aAUPZlyNJrMgqIcB/X7VVdXY3OzkrceGMuduyIYefOAnz3u+Xo7m5HR0dHWO6zz8bx7LMpMO7u7kZ3dzf6+vrQ19eHGTNm4Mknq/GLXxSFtlR+5qxN6i71sgYyGMYsKyXva71TGBot6ydDrLQjWz+1xZmB3xqEkX3EJqz7BduF+Rm0LJWZbNZR7cMJZKx3u5XghQHRgmOG7UzvL97HAlR5HzkQulwTRw6ELtfXqPb2dtxyyy3jPnvhhRfQ3NwM4PNZRlkyh9CB0IHQAsLKykozUM9GIJTg3PrFMZuBsLq6OtxH6iW/iEq5r7ySi0ceKYsEwi1bmnDoUJ4DoQOhA6HLlYVyIHS5vkatXr06LanM3XffHf5qKEllnnjiifD7jz/++HMllYmCKg5kLSDkYEZbmNgixLYnC0j4nGw5zJTUQR8fZeO0Ng7i5G8rSQdbnKxEKmw/s+xuvCQEJ5DJz89Hbm4ucnNz09ozEwBzMKdhhaGTg2gdrDEIW/YuKV/AwgoU2dqqA09Olx9173RQKn1HAmzdB6VcXipBb2KzZIi0Er1YyS9KS0vHAZwcx8lDBAxbWlrSgNla7oMDc7a/6raNSt6i+ysv42LBAkOjlC9l9Pb2ore3F089VYq33y7C9OnDYeIZgb+2tjY891wBdu8uCOGak5xkAi+5H9K3dZuw/dN6X3AfzmSTZEiTZTva2trSnksGMMtqLeXKvdJty3WWfS37rFwD2/D1M8/1sNqC+xIPvOnBNH7WrHcv191KHsUDb9zGuj5Rdnl9bwQUHQhdrokjB0KX62vUv/zLvyAej2P79u347//9v+MXv/gFiouL8fbbb4f77Ny5ExUVFTh48CA+/PBDrF69+nMtO+FA6EDoQOhAGAWEV17ZimQywE03daYB4aJFdZ8mGqp2IHQgdCB0ubJQDoQu19eso0ePYmBgAAUFBejt7R2XZRQ4szB9Y2MjCgoKMHfuXHz44YdnXb4DoQOhA6ED4WcB4dSpPXjmmSqMjgb48Y8bcdVV/ViwoAX33VeBkydj+NnPCtDR0epA6EDoQOhyZaEcCF2uLJcGQoYjHQjIP3b+3No4CNBBEEOfBWsSYHDAYYEqA44uhwMyzvSoAzsLxnRddDa/TNcpABcF1BYgcR2suTx8jHW/GBx05sqo4JQBQGd/5LltOgiUAJhB2KqXQJ81n0/Ai+sn16vrxZkXJcDVsMcw1N7ejvb29nGQJ5uAiJxbAEWfk+eRSf0ElHp7e8PjGHI1bDDgSB2sOXU895Khu7q6Ojwn3yMdhDN4cRZT/UxIe0m9rH5RW1uF224rxK9+dSYb6/HjOdi4MRdlZQXj7htnidXPHLcXZ+G0stDKYIx8rp9LfrdI++lyoga09DPCc/V4kMga+JG+znMx8/PPzMHl/qrL4XvFUCrzZOvr680BKAYvvk7r2Y0agLAGl6LmG1pZprndrP8jmWBdv1cLCz3LqMs1keRA6HJluRwIHQgdCB0IzwYI5dyTJjVjzpw6XHxxK/r6Os2+7UDoQOhA6HJljxwIXa4slwChhiNrY0ueZRVlELOsTGxdzGQpY5g8G6uhDo450GDIssCPYUYH5FIvBhN9TrZUWdZa2YezKloBMR8jgaIOtrh8K5sqZ6dkYLUydUp5loUuyt5rfZYp+6MAV9T91PY6Dm4lULaylgrYcKbO1C9dKQCQ76RtrSyQDC+cGdbKOCrl62CeLZpSP319DJ8yR4/thdpiyJCt9+Hnx7K7SlvKtXOb6PLk3rANWWc2jcoumskKHnVNuj+wdbepqSncpBx+fnT/Z0sm93Wd5Zfttwynup3lGAHqTO9FtmwWFRWlDeIwzOrBjqgBMsuOzm2t9+F3HmfmtZ5dHniz7m0myLNAkgf5dH0qKysdCF2uCSQHQpcry+VA6EDoQOhA6EDoQOhA6HK5ouRA6HJluQQItRXSsheJXdKy/HDiGAvyOCBgyyZb33QSEyuQ4gDUAjgOjjLBGVubLHsX1+Ns1irkNtLrwEXZby1rLNtodTtZMKaTRei6R90bHaRxUMrBZnl5edp3fB59fRwwWpZAuRa2kGayw8k5LSsl2yV1e0nwLrDG6/ZpCJJ9pHy2T1ZXV4fWUwnupe46mJc6y/XJ57q9pDypH/djy7IYBdS6vbhtNahGwRiv+WgBOdtC9QAGt4VuU+6DPGBgAaucy+rbbD21EvZw2RbARSVd4WuqqKhIs4hKW2tQ5XcMA5iGUH6+pS76vRH1HFkWfF1XPXhltUWmjQcBrME+y/JZVFQ07p3C3/GAkH7+3DLqck08ORC6XFkuB0IHQgdCB0IHQgdCB0KXyxUlB0KXK8ulgdCyF7HNL1NSAA70LLDhcuR7HfiwrcgKiNlSaMEZw6ME7jog5sCHbVA6YJF9OUDTmwSKnFTBglBuW6u8z4I+3abcNta9YRDjAM26N1LP7u7ucGNLoAXkDKFyr6xEHmy5tfoQ2xkl8Nblybk4uYwO1NmayUlX9MbgJMlN9JISAloMIrqfyTmnTavCpZeWY/Hiakya1DQODvicnPAlCrxLS0vDvm31j0QigUQiEV6/Po5tl1HJh/Lz89Pg0RpMkHL4XLocfsZkXwvkpB5s0x0aGgo3tqBaoMT90xpk4nPypt8FbKW3AJphzHqGuZ/L+4Pt5HpjkNZ15wRO0l+sd1HUNegBFB6QsvqXnMNaNoTPJe3PfaqysnKcdTU/35edcLkmkhwIXa4slwOhA6ED4bkHwvPOq8Tzz8fD5RqSyQBHjuTg5puLUFVV6UDoQOhA6EDock1YORC6XFkuB0IHQgfCcwuE/f01OHw4hrffzsHll5ehs7MG559fhwcfLEEyGWDTpgIHQgdCB0IHQpdrwsqB0OXKcgkQRmUX5eDP2iQwsII/Dl74GP6+pORMdj/5jtf/s+CJ5yHpYI8DOh0w8VwlhgQNmBy8ybHWXBnZOADV7cNzlXgekQ7k5BgrgyIHZvK3DsgYCLltdPvzOSRgt4JBnmNkZejkdQT1xnPi+N5ZcyU5W6g1h5OzeWpQ5fI4aJXsnp2dneF1ypw/WVdw0qRJ4cbnkGuQz7duLcLBg3HMnNmLefPmYd68eRgeHsbw8DA2bKjE2FiA6dNbxs05bGhoSJt/p69TPhMoZSjScCd93cpsygMj3O8ENJubm9PWC5Rjrf7Pz4/u/9wH5dwWBHH/lX00kEcNTuh6cX/lARw9H5BhhuttvQsYdKxnlQdIiouL05557kO6PAZDBjrrebfaQjaunwXFfIwF0lHvfV1X6a/8rtLl6MGIgoICB0KXawLJgdDlynI5EDoQOhCeOyBsa2vAyZMBNm+ux8DAQBoQdne34/jxGO68s9KB0IHQgdCB0OWakHIgdLmyXAKEmYDPshFaliEOBHQgwcdFwaS2knHQoM/J5Vr14kCT7V46mOKgUoJyDSQc9FqwzAGofJ6bmxtuHLzJPgx0llXLsrVxsMVZXzX8sHVLgmEr2x/bOvU1RMG7leWVr0vbN3ktP4EPyz7I2TelXvp+chZQvq+lpaVpNlLZV+65gFNjY2MafIplVG8CidJ+UvfGxkZMnVqHZDLANddMwsDAAObOnYu5c+di/vz5mD9/PhKJBF5/vQA//GF5CFjSBl1dXejq6grLtayBUmdrTUbu95b9ko+TtrHgne2kDB8a2BiC9DkZSDhjre63bA2XcnVfZBiWY6xBAB7oypRR07q+qIEaa3BI9uUBFQvcpL9lGlzj9xoPftTW1qadg98tGkL5nWWBPb/bLcCXdud6WiDJ9bNs0DIw4UDock0cORC6XFkuB0IHQgfCcweE7e0NOHUqwKZNjSYQ9vZ24tixHGzeXOVA6EDoQOhA6HJNSDkQulxZLgHCKKuhbGwvsqCR7YcW2ETZsjLBJ9sdrXow+OjjoiBUQ+fZ2M74+EwJGxhQdTlRCV3YSqfL4XrpQJ2taNZ9lH0YpgQWdHkClBygZ7rnvMaiBHY6YBW40sAlkMC2PCtgl+ti26TuFwJIDIT6+lIgVIlVqyrw6KNF2LatFNddV4cpU9rR0dExzjIqwNTX14e+vr4wqY5OTNTa2orW1tawfB6I2Lo1D7/8ZS56e9tCIJRyrrsulVhmYKAqrU3keCsxjtzHWCyGWCxmXifDhdVf5Vxiv5S6c7IZbS+VPqUTgrAtWO4H/63vGwOYBTxST+4XVt+W+sk5BwcHw43ryee2QJf3sSyoDH/WYBO3u/Xe43URM72r+P2mB3O4XrxOqzUoZ73Towa25D7oJGDWOzyTfVTXXW/6vVNUVORA6HJNIDkQulxZLgdCB8K/NSCcPr0M770XQzIZ4NVX43jttXwkkwEOH87BRRc1RQLh8HAPZs6cjL6+xH8KCKdOLcXx4zG89lo+brmlHwsWzMGsWZNx333VGBsL8MADhePmOzoQfhEgrMOMGSX43vcK8NBD9fjudzvwrW9NcyB0IHS5XF9ADoQuV5ZLgJChhTcJxNh+pqHpbCyjHBRJ4G7ZqLgcHZzKdxzMWfY1Dmos+xSfy7JmckIFtmjG4/E0myRftw5uo2xZOiBmq5VlzYwKnnWbSsDPSxjwEgc6MUZU4KjvH++j6y73Vqx9ln2TgaG6uhr19VXo7y/B1KklKCo6Uw+2g8o1aMucXIOGp6ampvAXuenTO3H0aC5ef70YS5b0Y/r06RgZGcFllw3hjTfKcfx4HPPnD4RJX1asWIH16+fhwIEe/PrXKYg8dSoPzzzTgdWrF+Pyyy8PraMCdBZkz5xZjVdeGb8O4fvvB7jzzmI0NNSN+2VLLKMa2hcsKMMTT+Tjvfdy8M47ObjvvjxMnVoS3lfL7soDENJ+ljU6CpR00hXu/3Kf29vbw40HkDixUGVlZXjfeIkDHijRG/czvUm9pk5twO7d+eEaj+++m4NkMsD+/TmYNi01QCL1zAQvUQNSZ5OMSr9beCDFekdxwqyzGZCSY+W5sqyZfP+swS7pJ/ze4CU79CCMBXIMhNY7n9vLAmh9fDwedyB0uSaQHAhdriyXA6ED4UQBwurqUtxxRyEOH46F0LRvX4Crr85FQUH+lwKEd91Vg5MnY5g9ewDTp08PgXBkZASLFl2AEydy8dBDjSEQbtp0IU6fzsGxY/V4+eVleOyxS/F3fzcd77+fj8OHi7F69eKzAsIUeNXj4otbcd119Vi8uBD19aXjfmm0gbAEmzYVIpkM8Nprudi4sQj33FOIAwdiOHkywGWXVTsQlpaisrIEr78ex8GDObj88npMnjwJ9fX1mDWrCi++GMeRIwE6OgocCB0IXS7X55ADocuV5dLLTsg/dv1PmgMEy4IUBTpWQMDBpLUYPSdJkWOsBcilHAmONNhIAMTnsCxpbHNkMNRwyNenAyfe11oyg9s5KljSGwetZ2OfteybAh1sddP7skXNagsOAvk8+nrYYmjZ8aqry/H003GcPBng/vtLcMUVCVxzTSceeywFQw8+WBSCFi93YIEqJ03p6elBT08PXnutEE8+WTUOBHt7e9Hb24vBwUHs3FmF/fvLcMkll+Cyyxbj5MkyHDrUjf/4j48BAP/wD/+Af/iHf8B9912H998vxuuvd+PCCy/EhRdeGIKhhjzZBLzEXiqWVJ2cRsNcasmKNlx+eQ2SyQC33FKBvr6p4VzGnp7JePLJEpw4EUN/f0t4jH5GpC2kDgxtRUVFYX/g+yH1tSCBk81Yy37wPbdgigHQsgnzMyLn5AXNL7ssNRdz1qxKJBIJJBKJ8J4PDiZw+HAMmzfnh32IoVQWRM/0LOt9pRwe2ND2TX73WQNt/C7gZ9myqfK7T78nGPqt9ys/81YiKGtATAOq1W5R9lBr0NB6p8h38Xgcubm5DoQu1wSSA6HLleVyIHQgnAhAeOWVRRgbC3DxxTVobm7G0NAQhoaGUF9fjzVrSpFMBrjggvIvDIRvv52PbdvqIoHwBz+ow8GDxbjkkkuwadO3kEwGePbZu8PnRYBw48aNePbZCzA6moPvfOf8cwaEzz9fgD178tHS0hLCYF9fH7q6ujBtWgdOnoxhw4aKv3kg3LEjD3v2xFFXV5cGhD09PbjrrgIcOBBzIHQgdLlcn0MOhC5XlsuB0IFwIgDhiy/mYteueGiX1EDY0FCHd97JwSOPFHxhINy1qwz79xdg+vRhAwin4e23C/Hiiw245JJL8KMfTcGpUyXYuXNn+LxoINyy5WokkwGuumralwSEDfjOd6pw773FePDBYqxeXY2TJ1O/DlpA2NXVhWeeKcRTTxX+zQPhM8/EsWNHQSQQrl1bhBMnAgdCB0KXy/U55EDocmW5BAh1lj+9RYGS3oeB0Jrvw4EQBzfWFrWeWk1NTRiwch10MMnrp/E16Y3n5lltwRn8rHk1POfGOl7OxVkpLZDjeUdRc6j03C6eA6jPGfW3BXIcGFtwzNkkrevVCWN4k/Y+ejSGdetKMGPGDMyYMQOzZ8/G7NmzQ7j54Q8L8PzzuSgrKws/s+ZkyWdSHz7fnDllSCYD3H57fQiCAmn33NONZDLAmjU9mDlzJjZvbsfYWBw7d/4Qx48fx/Hjx3H06FEcPXoU999/P3btWoVkMsCyZYMYGRkJwc6CFp5fKJAmdZg1qwtvvlmMZDLAoUOF2L+/FGNjAX796wBPPFGLmTNnhm0ye/bs8FzPPpuPn/zkzJp7et4kZ67MNFAg++hENjU1NeOugfuZBRL8DMsxUpe6urq0Z5/Xu7SyZjJgMhA+8EABDhyIY+rU7nBuqIbtXbuK8cYb6Vk3rXnJDMvWc8DPnjXnUvbl58ECX37mrGeY4cqCNvmMnzl9z/k4613MdZd6yjvZGqzid7A1CMZzraPerz6H0OWaWHIgdLmyXA6EDoQTAQj378/Bgw8WRgLhc8/lYdeuLw6E1dXVePjhKiSTAZ5/vgQ33tiEa66pwlNPpeYqPvFEM2bOPB8zZ87E4sWD+PWvY3jlleUGEN6Hd97pwpEjNRgZmfWFgLCvrwdvvVWAgwfzcc013Vi48GIsXLgQCxb04MiRXPz61wGWLetPA8KhoVacPh3ghhvK/uaBcHg4BfobNtSlAeHFFzdidDTAzTdXOxA6ELpcrs8hB0KXK8slQKhtiBZIcObKTLBnBUK8L5erA0YJaDk4sdYM42BE14ODDw5K9BpanGHTuk5uA7ZgWQEVn0cH5hL0ynWznU3bNeUY2dcKKjPZzRh8M21sBWQLrt4kmLcGATjzpVxTW1tbuImNcdOmQhw7FkN/fxs6OjpC2199fT1mzKhGMhng8stTWWUlYyoHwUVFReE55Zc3AS/dv7q7p2Dt2ka88kp+mM30tdfysHp1NdraWsNfDFtbW/HMM404dSoHP/nJxdi0aQPuvfdePPTQRjz5ZAeSyQD33vstzJs3D/PmzQvbwoLRKIhNJBK4+upGJJMBbr55DpYuXYrFixdj8eLFWLhwIb73vSEkkwHeeisPFRVnYK6rqw4vvJCHI0di6OxsCJ8ZDUp836Reun9p+NIWSDlW20EFsKJgUkNGlEVZ92VuCylX7xsFnLoPybXfcUcukskAjz9ejKVL6zFrVhE2bcrDiRMBnn8+jsbGmjSbo34X8P3jQQbpW3ogSupsWel5UEeeC+t9IW3CcGa9f7hNLWs+v8cyWbmlbTUc8ztBrNwWEPK7V/q8Pj6qDSy7sUCqA6HLNXHkQOhyZbkcCB0IJwIQTplSicOHU4u3X3RRExKJLkyZ0oVFiyrw7rs5ePPNXNTUlH1JQJhagiJ13lZMmdKK9vb2sE4aCC++eC6ee64eyWSAEycKcfhwHUZH4xgdjeGRR/qwdOnSL5TJ0ZYAACAASURBVAyETzxRildfLcDSpUvTgHDhwoV49tlC/PrXAd57L4aHH45j27ZUNtajR2OYO7dm3K+Cf8tAWFhYgJUr49i378x6j7/6VYANG/LQ3FyD2tpaB0IHQpfL9TnkQOhyZbn0OoQS1Fiwx7YlvQ/DACcnsYCQoc2CILZqWbZKDpys4JQTu1jn5/IsK5PAhexj1T3KRmXZLtmmZ9nu2NZlgW9UQgodKFprE0bZSzmYZ6tZUdGZtSI5mNR1l8BQQGLJki5s3NiEDRsacfHFXejv7x/3S+D551fhF79IrUF48GAujhxJLSy+e3ccXV2VaWsNyrVNmjQp3AQW5V5xwK7XwRMIEmDlRDT19fVh3S+7rA9btjTiySfb8eijvZg1qwf9/f3o7+8PE7xIeVI/DS088KHntz31VBGefrooBMD169dj/fr1uO6663DdddfhxhurMTYW4P778/HSS7l44YVcrFtXhI6OM20i90Un+5B7In/LdernSI7j9SktIJT2k3Na2VHlmZC2kHNraJXPoqyLup9JPSy7K1tM5fja2mr09VWir68UNTXlah3IhrRnTLcFr8vH9dPvPH5PMATqwRd+J1jPbtSzrDdpd35mNdTys8rwp+2kbJvV95qvncvTzxPDIw/66boy4LP1t6qqKhxscCB0uSaOHAhdriyXA6ED4bkGwuHhVrz4YgGSyQCnTsVw6lQK+l54oQTf+lZHCISpxdlLMX9+Ee6+uwKbNlViZKQM1dVV435l+zqAUOalXXLJJbjkkktCGPwygPC++8px9GgOLrnkIhMIn3iiGG+9lTfuGviXRwfCM0Aof+tfvBwIHQhdLtfnlwOhy5Xl0pbRqAn+eXl5oYXOAhIODKzEM59lWbQCoCjrp4YBDtYsayYHbZmWbOBjLYBjq5u+zqiAUx/PgS+3udUWHDRbG9uwLAsr1zmqDvo7695xfXh5BdkmT67D3r0xvPNODCtX1mHy5Hb09/dgzZpmHD6cizffzMOUKe2RNkd9DQxV0i+0NVP6qezDQNDQ0JBm1WXLmg5SZXkIsbZK/eSXzUQiER4v5QuUajjg65Nzd3V14YIL2jE2FuDhh+sxNDSIuXPnYu7cuZg9ezbWrh3A6GiAdetqzGuQ65Y6aCCUe8JBvl6agq2ZYg3kAQltR2SLs25/uU6pJ0O4hk22nlrnZJupZdOOWlZGg6qcU9qGbZj6eeHBEmtAit+PfC16H97Xesai9tX1i0oepTe5Pn5HWfbUqMEra1Ap6l2j3yVR1nOdmCfTMfKdA6HLNfHkQOhyZbkcCB0IzyUQ3nxzKU6dCpBIlIS/4sn8vosu6sDYWIDrrqs5J0A4a1Yl1q8vwMaNBVixogLNzfUTEgi7urqwcWMqcc6ePWXYuLEX69b1Y9euBpw6FcPzzxdhypTJDoQOhA6ELpfra5EDocuV5XIgdCA8l0D46qtxPPZYHGVlZWlA2Nvbi5/9rBB/93eFXyoQ9vY24dln8z5NKpL6dTI1LzEH8+dXTUgg7Orqwg03dOD114vDhCiHD+djy5Z2dHdPRmdnpwOhA6EDocvl+lrkQOhyZbkECDV4WXM/eC6JNZ+M/8ln2icqiNDn5LlsOgjheSqZQInnI+lAnYMirrsOkqR9OBOfvk4uxwrIJGjj9cpk04EUB8kSaFtwJtfEgJMpA6kVvMq+nHnVggMOlnXGysrKSuzfH8P3v1+O9vb2EFA0kNx7bz5efTUnbQ6bFXhyYGzNfaqoKMPu3bk4ciQX11zTgunTv4Xh4WHMmzcJu3cX4cSJGGbMqEVTU1NYHwE7zgqp20D2FXiz1puTvwVC9H2U6xVAEsDUACfzDbu6atHTU4P29la0tbWF5epMqVIfgWzOkKn7p5TP91P3TzleyuU+pZ8VztSZaeCH+6QFXgwqVkZM+TtT3+ZnJdNgjjXPmfeNmsus68x9Rg+URdUn0znlcx6w0s+uVXduf56TmOn9yn/rduZyLUDkeY/Wsxs1V9IC6MrKSlRUVDgQulwTSA6ELleWy4HQgfBcAuHzz+fiuecKI4HwxRdzsXNn/EsDwvnzi5BMBli+vA29vb0YHh7G8PAwuru70d+fwLvvxvHDHxZNaCCUc8nfDoQOhA6ELpfr65QDocuV5RIg1NY7HaBIEMmBihWQ5ebmIjc3Ny2YsAKgTADH1jKrXhJQRAVSVkZNC0IZ5DKBapR9U647Nzc38nozwTFfkw78BSA4ONVBlYAqB9F6H24Dvm69L4OhZa/j7JZyTm3Tq6+vx6pVZUgmA1x7bV+YlVJAZ9myWiSTARYtKklb58zKcslZPHU2UNkefbQQb7yRi56ebvT09GDatGmYNm1aeO4776zEiRMBGhrqTaDkfiPnlLaQv7V9U/Zl66i2nsp30jZiwdbP0cjICEZGRsJ7L20hba3PKfvI31Ke3odtkrKPvlYGAKmvNSDCdm3LmsnPlZSns4xGQT9ntdXQL9fL1vXCwsLw/SB/yzmtgRUpl/uvHtRgYOXnQdvOpXzrvcbntvbhZzUTsEYBcKZBNWsd1KhnXwMcv+OkPmxJ1c8E22etdye/Y/Q5ZV957h0IXa6JIwdClyvL5UDoQHgugbCpqQ4//3k5Tp7Mwd13V2DOnGbMnt2Ae+4pw6lTAZ54Io6qqoovDQh37szH00/noaenxwTCtWtrkEwGaG52IHQgdCB0IHS5XGcjB0KXK8ulLaMSKOhAioMHDr40MEjAwhCpAxM5xrKBRtlKM20cgFrfcVBigSUHRww6OmBlC+l/JqjU0Mpwx8dagZkVnEYFg1ZbcHDP9dTXzHW37lGURbC09Mz6cJ2dzXjwwVJ88EEsTJhy7FgMmzYVoqGhehxgCdgJAGhrZpR1VCd4efDBGhw7loOeno4wIUxnZ2cIiNu3l2PfvhxUVlamrUMokKBtnAwmUhed4Ejqxev0WeVw8hVtn5VrkKQ0si+v6achkYFYwLq5uXmcdbeysjKsg96f+6DcB+u5lP7JcKBtwmxFtQZG5P5xQpxM63DKNfCakVVVVaFtlkHJAt9Ma4fys8+QrJ8n7hf8ntRtwCBnbVGDMdZ7g/fNZJ+13mP8LrDexfw+lHaz7MKcVIytxdaak5aVVde9qKjIgdDlmkByIHS5vkb9v//3/7BlyxZ0dHSgsLAQkydPxmOPPYb/+I//CPf55JNPsHXrVjQ1NaGwsBDz5s3Dv/7rv571ORwIHQjPNRDKrzr9/Z1YsqQFF15Yjqam6nEg8WUB4dy5CYyNBdi8uTINCBcunIRTp2K4+eZCB8JvGBDW1VXgootKcMUVFZg9uxpVVZUOhA6ELpfrK5IDocv1NerHP/4xampqcOzYMfyP//E/8O6776K0tBTPPPNMuM/OnTtRVlaGAwcO4MMPP8Q111yDpqYm/PWvfz2rc2ggzBSwyD95Ds510CffcWClQYnhgiFSg2Qm2Iuyc1mJC9j+mgm40gPRM/ZNC8a0Za26ujoMFNk2mMkyyjYxy5bKQaEujy18maCRg0hu46KiM8tMyD6cql8HbxwEWm0hsCAQoqFRwEaWoWBo0UGl7iN64/JuvTW1dMOuXXlYtqwK3/lODbZsqcUHH+Tg1VeLUF1dPM4mKXWw+gdb+eTadBAu52ZLpG4LtnrKMRpaBUw5mZIAoq6XHC/9S6CI7a96Y4jRG1sUpQ66/0eBoL5OaUtpL9l3fCbY8VZdGTDg57S8vBxNTY246aZyHDmSE/66nEwGeP31OObOrUFTU1Pae8MakMpkxZSN20TK4aUT9PtHrpffG5kGcXRb6P5dVVUV9jeG5bKysrSBN2ughpM9WUDIz74FvJyYSD9j3H5il4+ysJeUlKRBLA+yaah2y6jLNfHkQOhyfY267LLLcPPNN4/77IorrsDatWsBpH4dbGxsxM6dO8PvP/roI1RUVGDPnj1ndQ4HQgfCbAPC2tparFhRitdfz1UW1Vz84Ac1GB6emjZvzoFw4gLh+vWppERbt5Zh9uxWdHY2YcmSGrz0Uh5OnAhw4YW1DoQOhC6X6xzLgdDl+hr1+OOPY9KkSfhv/+2/AQD+y3/5L6ivr8fevXsBAH/4wx8QBAF+97vfjTtu+fLluP7668/qHA6EDoTZCISpc1Zj2rR6TJ9ej6GhPgwMDGBgYMCB8EsAwu7uctxxRxF27crDtm35WL68BPX1VV8qELa0lOLkyQCbN5eEbSRt0d7eiDfeiOOZZ9IB0IHQgdDlcn25ciB0ub5GffLJJ3jwwQcRi8UQj8cRi8WwY8eO8Pvf/OY3CIIAf/rTn8Ydd+utt2LRokVmmR999BH+8pe/hNsf//hHBEGA/PwzWSR1UMNBNwd6ej4JBws6IObMf1FgoevBQbk+Z9T8nEzQYv0CwUFW1DwbLlvXU5fHAM1zaDTESjkCTNw2+vw8z1Dvw3W3AsWogI7nCuXl5aUFwFaQKeVw8KfPwb8aWUEuZ+GMOlYH3VFz4zQQCjgIWEqW0Y6OjrS+w4Ci24LbVsqz5m3Jd1aALdDD4Kb7tBzPcwblmvT8QH1+3e76nsu+ck4LVGXj9RI5K2pjY2N4/Lp1tRgbSyUGevrpArz6amrtx3feycfAQC0aGxvT1pW05lMyFPBzeuWVeTh9OkAiUYuhoSEMDQ1h3rx5mDdvHiorK7FyZdGnGWMLxsFepkETfp5035F2l3bj/m/NiZPnngFMz0+WcuRvPeeSBzsyDUhFzVfU95wHoKx3OtfPKkf6RdS71Bos5PeOfkdJvfiZ0+2l4bOkpMSB0OWaQHIgdLm+Ru3btw+tra3Yt28f/ut//a948803UV1djddffx3AGSD885//PO64devWYfHixWaZW7duRRAEaZsDoQOhA6ED4WcB4be/XYBkMsCWLRXo7GxCS0sLBgYGsGhRAr/8ZR7efDOOpqYzv4ROmVKIm27Kw113FeCqq4rR1FR51kC4bl0c772Xg/r6ehMIZ8woRTIZoL8/34HQgdDlcp1DORC6XF+jWltb8fzzz4/7bNu2bejp6QHw+SyjUb8Q6myZ+h85f2YFRxxQsYVRwwQHR2zB0rDBlisdvHHGTysw4+PF0mfZDXlfyybJwaVlJWO7JYOntm0KTHFWykyAyUEd28GiYJazLfK16CCVIUPqwhCiy5Fz6roLSMjfEtgKrLW0tKRlOGTbngZCCSp5UECv9yfWTLYq6nsk9ZFjOBjXWTilzgxK+jp5nczxttXUJp9xu+k+LWV3d3eju7s7zYKqr5NtrxYQyjVIOdI21pw/gca2tja0tbWl9Rfpy88+m4uXXy5EItGFwcFBDA4Oor+/H/39/bj00slIJgNcckklWlvrsW1b4afzNwPs25eL0dEAx4/HsGJF6bj1JBn0pS433liN06cDnHdeGxYsWIAFCxZg5syZmDlzJq0pWTgOztjyWV5eHj5rDC2WrZ2fmaj3iX6PsbXYsqFLXaL2LywsTBsg0fecYVbqpZ8XPqf0C2uQyYJY2eTZjbKcW7DN70nLmsz33HqXiO3UgdDlmjhyIHS5vkZVV1fjhRdeGPfZjh07MGXKFABnkso88cQT4fcff/zx50oq40DoQHiugLCvrwT33JOHV16J4+WX4/j+90sxbVqDA+E3DAhra1MJXm66qQ6JRCINCPv7+/HWW7l4+OEi/OhHhTh5MsCVVxahpqYcTU1N6O+vx49+VISxsQAXX5y+zAQDYV9fK06ejOGBB8rTgLC7ux1vvZWHn/3szLPgQOhA6HK5zo0cCF2ur1E33HADWlpawmUnDh48iNraWtx///3hPjt37kRFRQUOHjyIDz/8EKtXr/7cy07wP/1MAY/+Ry6BHAfLmcCSAysOjLQFzArw2MLKwZwVmLFtUoMb72sFPmzXlL+t9mL4sJLmcD0lgM8UbFnJQuScDI0WwEVdnwXbUl+BBisBhGUV1QlPrrwyBQCHD+fgkUcK8dhjhTh+PIYTJ2JYtqw+zR7MaxfqgFggb2BgAAsWTMEdd5TioYeK8b3vlaGvrwHNzc2hLVSOYSCzksfwdWYCL2lbqV9ra2t4TtlHoMqylbI9Tw+sCHxKP+BfUfXGmT4tgJZ6yT4MnmVlZWlrMUq5Up6Gx8bGFBBu3DgV8+fPD7cZM2aE28sv5+GJJ1K/DK5ZUxFaPCWhz3nn9WP37gK89NKZd4KcU9pK2yRvvDFV1gMP5GLq1EJ0dNRh8eJK7NmTgw8+CDBtWmHa2oJyLP+6KclKdGKbTAAnmxwj59FgydZifY94nVJ+Pi244/esflajnmFdV/lM+q/UwbLJyyYDBvrZZWjk69XnjLKz6/bnxDNsT9eDQg6ELtfEkwOhy/U16q9//SvuuusutLe3o7CwEJ2dndiyZQs+/vjjcB9ZmL6xsREFBQWYO3cuPvzww7M+hwOhA+G5AsLp00sxOhrgBz8oRnt7c/gLVU9PO556qggnTsTQ0VHynwLC2tpKbN9ehWQywNGjMbz2WhwffBDD6GiADRvK0NExyYHwHAFheXkZ9u6N4dln600gvOiiaTh9OsBPf1qA48djaG9vTAPCgYEBrFqVsnq2thZ+JhBWVJTju98txKFDwbh1CH/+8xwMD6f6uAOhA6HL5Tq3ciB0ubJc1rITOljgAMVKvCEBHQc5lk2SYUgCF8vyyAGsZaXk4EYHNWwLk3PrIIQtmVKOBME6COQgxoJQro8VBHLwxhZSHbAzzGZKYsHWKx2QcfDGoK7bn++jlKHbgq9P4EUnIdm6NR/79uVgypQuJBKJMDFIa2srEolmvP9+DLffXjAOwOT6JEjV5VVUVOD738/H6GgMjz46DStWXIply5Zh3rwZeOSRFiSTAW65JWVnlPoIHEh5TU1NITCx1VC+txImcRIQy1bKUGAtmSHnlPL0fEo5v9x7qaeAtL4G6Q8MkQKjGkitpR9kk34u+8jfUr/29vZwKy0txZo1+Th9OsCKFWfqkkqW04Jduwrx/vsxbN5chPfey8fQ0FC4nIhcQ0NDA1auTCCZDDBlSt64QRNOylNZWalgtAhz5hRg4cI4BgbyUFR0BlbkOAZD3f8F3vk+WOAnm0AMA6J+T/BzYA2scCIa/S6IgqioOZx6MIwHnzSwRQ0W6XaJAmB9HWydtyz2/J0FhNZ0BB7g0tdeWlrqQOhyTSA5ELpcWS4HQgfCcwWE770Xwx13FCKRSKQBYWtrKx5/vAgvvJB71kDY1laGU6cCbN8+FStWrMCyZcuwbNkyjIyMYGRkBE8+WYsDB+Lo7u5yIDxHQFhRUYKnny7G2FiAXbsKsHZtOTZuLMc77+Ti1KkAS5aUY9WqMoyNBViwYKoJhPfe24STJ2Ooqso/ayDkZ0b3ewdCB0KXy3Vu5UDocmW5BAg1/FnWIfkHLkGOtY8Ep/xPXx8nf/NyBZkAR8rPlAxGAhkdqFsBk2WD1dAj5+bgUoMlBzeW7YyBTh/H9WAbmg6I+RwW+EZZwax6cRBnBYxsX2PLWklJSVi/nJwc5OTkhNDW1dUVbu++G2D9+niYcESShYiVcceOErzwQq4ZoAsICEwmEgmsW9eKZDLAhRcOYGhoCCtXrsTKlSvDhCNr1w4jmQxw5ZW9GQGOLbwc/OpkMHyMleyDbbfWIAcH9QJH0iaTJk1KW0ZD2pQXhrcGSTjxiH5e2Iqs6xWVsEfK10tdnKlfao3A117LxdhYgA8+iGHbtiJccEHdp0t+1ODYsRi2bcvHpEltaG9vD8/T21uFQ4dy8OijZyzhDCG6fpxAiK3FNTU1YfvwfdBtIf2JB2X04JD+JVoP+PCgh7bxyt/yDOtzsvWak9TodwEPkPEAnE4cJJsFWfxukX10OdyW1jsi6v1vATFb/K0BwagBM2tATN5BDoQu18SRA6HLleVyIHQgPFdA+NhjuXjjjRj6+/vSgLC7ux3HjuXgjjvyzxoIN2xoxunTMQwNDZpAuGLFCJLJAKtXT3EgPIdAOP7YmnH7SHlLl5ZgdDTASy/l45pravDtb1fge98rxqFDMbzzTi56emodCB0IHQhdrm+IHAhdriyXA6ED4bkCwunT85FMBnjooVoMDPSF4NPVNQk7dpTg9OkAU6aUnjUQXnllJ5LJACtXJkwg/P73ez5d0uA8B8KvDAhrTSCsrq7G/Pll2L27IEwEc+JEgB/8oADd3SkbrAOhA6EDocv1zZADocuV5dJzCBlC8vPz0yDIAiUGCWtuCgd7EiRJ0KQDbJ6DI5sOaiSglgCU5zrqAIfn7uh6MbBycGMFb9w2VoBjzS+UTeYmcZvINejMjtImnLnQAsJM83V4vhzfVwsWGSI5wYsOmnnOV3V1Nerr63HzzaVIJgPs2xfHPfeU4P77S3DgQAynTwdYtqw0vH8M0gICGjBnzTofv/xlIV55pQTnnz8tnJ/W0tKCqVMbsX9/Ln7603zU19eHECn1tdZZlD4kMCPXrbNcRmX61Nk8ef1NuS96H56fZsGn1EfqLNZaWZfQgli5Fl5XkLPC6nulP+P+wNlV9SZtIvsIyOo+wnNBU1lXS5BIFKK6OgWjMieRy7PA15p3V1hYOG5+prSX1NOa58bvKrnXur34/vFzYMEZZ5/VdY8CJqsfRb07dftLeXwf9XUy9FnPO8Mig7SuO2cVtt6h/K6z2twaJORBK6m7DFQ5ELpcE0cOhC5XlsuB0IHwXAJhfX09Fiyox/btxdi/Pxf79uXioYcKMDhYMW45iLMBwpkzZ+Kqq6bixIkc7N9fgNtvr8eVV7Ziw4YyHDyYg4MHczAwUONAOMGAkH+VciB0IHQgdLm+WXIgdLmyXAKE8Xg8LbOitvHwP3LLdhlll7QsTJnspWyNsja2qHGArLPocXCp68xZS+V6JcC2MnXydVrQx0GRDualPAlk2WplBbLWObjOvJ6bzgrKQSkHlVbgKYE69wXdHwRaGNBra2vTsita8M/QyUCi9xVwGh6uxOOP52N0NGVFPHkyhu3bq/Dtb3eHWTjlXAyn9fX1Yd9hW6i0jYZauS4e2NB1lgyW0qcFlHRWUDmXtlfqOtTU1KCnpwc9PT0hAMp1C9zqa5ByZR/OqlpXVxfWXe6DBXv8Hf+t+y0PKrDdUVsepT7SbnowQQZEGEisQaaowR3d/rx2Imd2LS8vT7OeWlZuzvDJz6t+R/Hgy9mAEkM3W3w/y5rJ57bes9KXuG11+0e9w61pAPycWveIr9PahwebuE30+0HutwOhyzVx5EDocmW5HAgdCL9pQCjlT5s2BSMjnfjWt/rCRc+/qUA4dWol1qxpwne/24QZMzodCB0IHQgdCF2uCSMHQpcry6WTyljwx4FJprWvOHCyYNGyM+rzaHjifTKtzyfH6n343FKuDvjZYsXreFmBD0OMFdBFJa0pKSkJIUrqw21stS0HZLpdOGGPZQ3kAI0BW4NEVFBuWUx5HTsLDqIGDMrKytDZ2YnOzs40KJC20W3I5xDokGUt+vv7w4BYzq3Xv5ON7ZWcKEnfKy6HLXRFRWfWwRsePg/XXz8Jt9xSgmuvLUUicQbKBOoEHgUIFy6cgRdeqMLYWBAmXzl9OsBjjxWhv78TiUQiBEw5VsOnXIv1HEl76XtbV1c3rhy2PjK0WM8KP48WYHJbazhji7ncMws6GNaswSGpq9SHrbIaEjNZFvkdwP3BehewXZhBTPdpfi50QiIBfAZEC64YWC1LfyY7KA+MWe8UvheZBsH4fSibNch0NpuAowOhyzVx5EDocmW5HAgdCB0IvzgQLltWjiNH4kgmAxw9GsPoaICTJwPcdVcxGhvrTSDs7GzEO+8U4ciRPNxxRxcGBjowONiBG28sx/HjMezZU4ju7q4vBQgbGmpx6aXl2LixGBs2lOPCC+sdCB0IHQhdLtdZyYHQ5cpy6aQyVvAQBUGWZZSDGf1dlL1IvtdzqTgIkX11gMHJGKJAMz8/Pw0w9bmiQNcqh22X8rdVHgfYln0qKoGHbucoi5puWw4uJSi07JscTMp5NDDJtVhWMr52BgptK+UkGnwNRUVF4S9l3AaWNZMtsrJvJlsjw0xZWVn4GcOttKNl6bSsp7JddVU7xsYC/OxnVVi6NJX9dPr0BDZtKsfYWIDNm8vCeYHTpk3DtGnT0NTUhJtvLsPp0wHOP78Bra2tWLhwIRYuXIjBwUFccUXXp2sqNocwqaGdbZEWAMtnixa14L33UrB68GAcx47lIJkM8NxzRejoqB6XGIfvmQZC+Y6fU30/5R5JPS1bo+wj37EtkZcF0clpdH048VJbWxva2trMZQ/4PcGDKNZ7go/Rzxz3HesYvl4LmqQe/A7N1Lb8nQWN/K7R5Uj/YOizEhDxM2tdZ9T72mp/fqfottD7xONxB0KXawLJgdDlynI5EDoQOhB+ESCswxtvFOLFF4sxMjITs2bNCpfDaGtrw6ZN5Th1KsDwcGcaEL72WhyPP14U/uqngXBwcBA//3kRnnmm9AsBYX9/GT74IIYXXyzEokVd6O/vx5Qpnbj66gYcOZKD3bvjqKurcSB0IHQgdLlckXIgdLmyXA6EDoQOhJ8fCAcHq5FMBrj22jbMmjUrDQinTm3G6dMBbrmlPg0IDx3KwcaN5ZFAuG1bBV57rfALAeHDD+fjwIFc9PVNDm21sozHpZc2I5kMcPHF5d9IIBwcLMfmzQXYsSMPDz6Yj+98px5tba0OhA6ELpfrS5YDocuV5RIgLCg4Mz9EBwZRwY0FSpmy33FQw+VYwRLvqwNxK2CKCvqiAhcdyEXNvck0V8YKPOU7BicdqEvgyXP2Ml1D1NwefRzP8bICRM62KHXRGTFlH8kGac2n5KDemk/G8+6szIpcVw7ONWxzv7ACWQZCBlcNrwIWfE3WWoqyyedy7y68sBLJZIBvf7s1nA85e/ZszJ49O5z7d+RIDjZsqEBbW1tYTm9vL954owC7dhWHc0pXrFiBFStWYGRkBCMjI3j55Tz85CeFabBmZtOWggAAIABJREFUQbacW+ZVtrS0oL6+Du+/H8MDDzRgcHAQw8PDGB4extDQ0KfbIH7xiwLs3HkGJKUPyFqBOjul9Au5Bl7LUK+PKPeR5/BVVVWlzftlwNTlMbzLr7L331+EZDLAoUM5ePLJOPbuTdlgn3wyHzU1qXusz8mDXVKuhjy5LumnXB/db6VNOIuv9Yzw33rjARAeFNL142fFAtUomM1ULzlGz23kObz8rrdgj68t07uSn2mG6sLCQgdCl2sCyYHQ5cpyORA6EDoQRgPh5Mm16O+vQUtLnQmE3d3VGBsLcMMNtSYQnn9+6le4q66qTgPC22+vx+nTAWbPbk4DwjVrpiKZDLBsWdXnBsKGhjokkwHWr2+NAMIhPP98KZ55puwbBYS33FKCZDLAjTeWoblZ6lGOSy+twAcfxPDII3EHQgdCl8v1JcqB0OXKcul1CC0bKP8jt2CN7ZaWhTTKampZM6MC/0wBlRyjgYStixZYshVK6mVlx4tqCyubnuwrUGWticZZFy1LpVxDlIXUst9a9ygqwOag0IJjKwjkINKyb7Idle+D1T8Y2iybKpdn2ZYFRDJlRZT7IG0i3/f29uLSS9vx/PMl4VIQH3wQw8MPFyGRSCVh0e3/9NNF2Ls3jqlT2zBp0iTMmzcP8+bNQ1fXZDz+eAmOHs1Bc3Nq/UQByUQigf7+Trz+ehyHD8ewZk0pBgcnYfr0dtxxRy0++CCGZ5/NQ319Tdie2gLMlmnZR9tdq6qqsG9fDh5/vBIDAwNhvWSuXWdnK44cycWWLWfWdpQ21TDFUBUFdnrjrKOWHZgto3INel8eTKioKMbBgzE88khZ+MuqXqdx7dpSjI0F6OmpGjdQwc+q/Hqr6yzvBOlfmQaLuE9agzlsu+TBDsvqzINO2oLN9ntpGwuqoga84vF4GlDKvef6WlZRC3z5vWi92/nZs+zx+lktKPB1CF2uiSQHQpcry+VA6EDoQDgeCFetasXp0wHefLMAa9ZUYvHiGmzcWILDh2PYvz8HU6aMB5wLLmjG0aM52Ls3jrVra7Bq1QysWzeA558vwthYgNWr68OgWwNhIpFAV1ctduwowOjomXUIT52K4Uc/qggh8osA4c03F+HUqRiWLOlKA8KNG8uRTAZYsCDxjQHC6dMLP61zkwmE7e21GBsLcO21pQ6EDoQul+tLkgOhy5Xl0kllLEtlFMDpAJutVRbAcWCRycbJwYIVbHFwZNm62AJpBWSZbE68cb34evU1W/DEli9rTTsd3Ov6caCnoYCDcQlW9T4CInINEmDz3DidPCSTfVbqw8lzzsZKZgWcDBdWP2MYlmQs+pxRCWwsK7K0sba21tSU4/DhHDz1VCEmTTqzxmFHRweGh1tx4EAMjz6aN25NwEQigTlz2vHkk/njFph//fU4liypGAcZAjEDAwMYGBgIP586tRZLl1bgsssq0NaWShIj0CL3RduOBYJkEwjUiWeam5sxeXIjXnopjuPHY3j44XqsXJnARReVYPv2PCSTATZuLP50ncJUuWxjttan5CRGmQDVer4ZpngAQcOL7CPnnD079avtrFktYVuKvTW1tMcUnDwZYPXqAvOcUk95N1j2bLZ08zqHOnkSt0Wmd6cco581bh+23Fqwlwm8+B1j1SVqgM16z/LADD/b1ibXqd9jUe9H650u1+pA6HJNHDkQulxZLgdCB0IHwjNAeOmlqWQlM2em1gbUQNjR0YEbbijEqVMBurubxwFhIpEIwe7CC8swbVoF6uvr0n51igJCa/3ALwMIm5ub0dJSjXvuKcT77+eEsPrWWzm48soi1NXVfqOAcNKk1DIet95abQLh8uWtnwJjkXlOB0IHQpfL9Z+XA6HLleUSINT/rHXgExVgWBYkBi4rkQcHeFbgwwGQHKPLk2CXYU3vI4GiZWdke1qUFcwCHA7+dLDFkGfZzaKCLLZOWffBgirLuqqTujQ0NIRwwUk1JEC2gImB30oew8dYYMrAqhPFsO2V99EJYzhwtcCVgde69ww2ck0NDQ24/fYSHDqUE8LenDlzMGfOnBDgzj8/ZbO88MLasA9KG0t/E9jQ1ymb2DVlX50ERs7BcCf7WkAo+8p91Elg5B7LuTs7mzEy0oChoVo0NjagsbExDaTlGF6mpKysLIRbXjJAt7+0KS/3YQ0syHdSPx4k0nZEuY/FxcXYujUXhw/n4oIL2tHV1RW2T319MV5+OQevvhpDQUG+mYSHnyf97LI1V65PjtX3im2X1vuCrbWWZZqffbYvW7DH9mjdtgxe1jMYNeBjvdv4/c/wZgGp9V7kulvvGv2Oc8uoyzWx5EDocmW5HAgdCB0IzwDhTTeV4sSJGLq6mk0gXLSoFMlkgOHh+m8cEArk6n2+iUDY1FSEvXvzPs0oWo7vfrca3/9+OQ4ciOFXvwrQ25s37tc2B0IHQpfL9cXkQOhyZbkcCB0IHQjPAOF559V8uoxEpQGE/XjyyTy8/noumpubHAi/JiAsLi7GtGkd2Ly5CocO5SKZDHD8eAz33BNHZ+eZ59KB0IHQ5XJ9OXIgdLmyXAKEOhiwgo9M4BaVmdOCOw6grPK4HvK3hoOoOSk6K6IEf5wl0QoCpRwJwnlekw4MOXOh3jgAls+tIJevQfbVACHBmwSiDEMatrk8XY4E85xt1Aoqo+YUWRlE5VqsdQgZHARerPvI7cR1sepj9Ve5zihw1UEoD0pImzzySB5OnAhwxRVF6O/vQW9vL3p66vHww8VIJgMsWjR+0ITbVDYNENKvpE0EGnVb9PT0oKenJ9xX+m1XVxe6urrGnZPhTvbR5+e5llJPvd6cACoH/rzeon4mpF5ybdb8U4Y+/cxJeZnuET9zck4pd/yAVP44i6g1t1euV54Ha5DHWldRD2xZUCX1kWzCeh9+X1jzlvk9weVaWUotcObniAHael9HvbMsMOTy9DPH70NrYJGfOa6DHmSU+ZYOhC7XxJEDocuV5XIgdCB0IBwPhLW15fjhD1NZOI8ezcEvfpGPU6cCnDwZ4KqrCsa1eTYBYVFRHhYtysfOnbnYvTuObdvy8Z3vVISJZyYqEDJMRQFhTU0Fliwpww03FGPp0lzU1OQ5EDoQulyus5ADocuV5RIgzM3NTbMwaosi24J0UBNlQdKBpwQAnPGTbZSWPdIKFLmuVt2j1pmzMv8xrPH38Xg8DGQ5WLIsqHK8ZcnkoC9TIMVtKefRIMH7yt/aGij1kGsRUJRyNWAyQFsbtw/DqQZUbhO9ceBrAbRlWdUgoftiFLBa9kHOvMrf9/eXYv36fGzenI/rry9FZ2dtaNnUEMQAYg1gCKjKPnJfBAybmprCshny5B7p+ykZNuVYyYba2dkZblKenJszbDY1NYVlJxKNeOmlFATv2ZOHxx+vwNtvFyCZDLBrVxEmT24Lr0vqILZV61dEfu51+8t30hYCrAJVup9JPdmCasGGXKe0ucBuW1sb5s2L4733UhlW338/wNhYgBMnAqxfn4fS0lQflfaW/sDWbt1uPNghba37a5RN0oIza3AjPz9/3DuUB8z4+nX/j4JI/d6SY6RtdX/l55B/QdbPcNQ73YJZBmrdFlJ3aTMHQpdr4siB0OXKcjkQOhA6ENpAqH8t4uUjsg0Id+0qxNGjMcydW4Ompib09fWhr28qrriiFqdPB7jnnjOLp3/TgHDx4jqMjgbYsSOGoaHUL7kdHZXYsKEQY2MBNmzIcyB0IHS5XBnkQOhyZbkECPU/ax1gcIDASVgs+6cFXjrYsCDGAgA+VyYgzBSESKDJa5vpOurPLLCwrKxWnRmgMwVQbEmz2i3KwmXBFQffOpgUAJRzMLxY5+D7q8/BEMVgrYM+Dhit9uI1+Bj0raQclpWP+6LUU1uJue5sfdOBP9tveZBBryXHAyOWfVZgSuyWYqO1NgY6vQmAMUxallUBo1mzZmHWrFlhgqFJkyahubkZQ0P1SCYD3HZbO0ZGRjAyMvIpEPahtrYWd91VhGPHYpg8uRHNzc1hHeTarOea21o/R2w/ZCul7otRa4jq+8nlCvhKPV98MY4XXshFdXXFp4vXd2NoaAhDQ0O49dYCnDoVoK2tNC2Rkdwz653HfVHumWXfZIu49ayxfTMTyEVBm25LLpffb/p5lnbU5ViWbf3MWcmeMoEvv+etwRx9rx0IXa6JJQdClyvL5UDoQOhA+LcNhGvWVGBsLMDMmUMmEA4PVyKZDHDRRTXfOCAcGKhBMhngkktS8wgZCJuby3DqVICrry50IHQgdLlcEXIgdLmyXAKEGv4syxIH89omyTYnyzLKwTsHBDrAkH0lwODytQ1LziV1yWSNsgIoDmY4mM8EvlawxftaATEHR5kSLbB9loNUHVjL8VKerpcAm5THdckEnQy5FqhlKoeP12Ap+wjgSFDOQb7uKwI/UfdD32NeWsKyskYBrLbNsi20t7c33Ph4Ll8DodSdLZ9NTU1pS1HI51Jv/TzJvgJu0m4CQ7W1tWGbirVTYEjO3dHRgYqKClxzTSFGRwOcd15fuMyGXgpjwYIpSCYDLF3ajEQikTbgoK+TbZa8vEhJyZklQKQP8MCI7mdsJ5S2tZa9YftmXV0dRkZSMPvtbzeho6MjtNPqe3XwYICbb04HI04uYw0CMKTpZy7Kmmm9z/h6uW30e5b/1ue0PuMt6h2qn0tOhCNtbb3PLOsqP5cMmtYzq983BQW+7ITLNZHkQOhyZbkcCB0IHQj/toFwaKgUyWSA1avbTCC8++4GnDoVw+Dg5G8cECYSsq5kjQmEkyen5hFedlm+A6EDocvlipADocuV5RIgjMfjaYuqFxUVpQU6DIo6OQQHSRYkRAUnOmCMAgl9HJ/LSlLA+2bah4MSy7LJAMEwmZeXnmTFgik+F9vQ9L5RgVQmC6XUM9M9ygSYsvHyBVawF5X6X9eL75UFlnKOKAuvhmseKLDgmOFMn5MT6mTaeHkMTu6jE3iINVPqqyGUF3W3kvnwQvQCdrKvhkc5lwCOwKksbq83gcbp06dj+vTpGBwcDDcpZ8+efLzzTi4GBxvR2toaljcyUoOjR2N49NGisN3EHim2S6v9+VnWbSptwQMj1qBOFGRbfZmfNTn2iSdy8dZbMVRXn/kslcimBY8+modjxwLU11eEyW2kHLZ263OI9Zfts7rubBWVfTMN+DD0WRZ4tm3zs60Hh6z3mJxb+pdlcebryWQHjVqew3rv87Or68wDfg6ELtfEkQOhy5XlciB0IHQgdCAcGmrEL3+ZixMnYnjssWLcdVcdnnqqFKOjAV5+OQ+TJ9d/Y4Gwt7cYR44EeOONGJYvL0B3dzGWLKnF008XIpkMsHJlys3gQOhA6HK5bDkQulxZLgdCB0IHQgfC1K+CTdiwoRxvvx3H0aO5eOONAlx3XRna21NLYXxTgbC0tBTd3Xn46U9jSCaDcHv77TiWLDlzTx0IHQhdLpctB0KXK8ulgVCycUpg1NraGjknRQcEAgUcxOl5PhxYMGRYwQMHlVYQyN9ZMJUJ4BgyGBot0OXNCrY4KNL1ippjx+1XWlqatn6dVS8pl+fIWe0fBcJ6k3PzmnL6OuU7nj9kgW+moPKz5jzpzJpRc6f0vDm5n5wVVMOUfCawx+Cl57NKObweoV70nCFP5uxZgbrsK1k+Zd9EIhHWS8oVIBdQ5Oygzc3NYT1nzJiBGTNmYMWKFeE2a9YQNm5sw89/no8DB3Lx5ptFuPPOFsyZMx0zZ87EzJkzw3PLdcncQplDqNtW6ifHZJpDKPdI6q7vo56/aGUm1f2f3yXWAAbXg0FTb1OnVmPu3ArMn9+GRKJr3DkYbORvuQbdL6Su0j8Y/vSzGvU+swameJBDPwv8zrLWZOT3V6a2iJpTq9uQ290qL+oY6zmPGnjTkCj/AxwIXa6JIwdCl+sc6u///u+xdOlSNDU1IQgCHDp0aNz3n3zyCbZu3Rqmv583bx7+9V//ddw+//t//2+sXbs2DF7Wrl2L//N//s9Z18GB0IHQgTD7gPCaay7Fm28WY2wswFNPFeHuuyvwzDMVGB0NsHdvERYs+NbfJBByoh0HQgdCl8v12XIgdLnOod5//31s2bIFBw4cMIFw586dKCsrw4EDB/Dhhx/immuuQVNTE/7617+G+yxZsgQDAwP4x3/8R/zjP/4jBgYGsHTp0rOug16HkIMTDQyZ/qFzwGJBUJS10ALCKJukBRv8nWWTylQvDtbECmYFNWyBlPJ0VkqGCwtCo4JAhjd97dw2VrAsQM/11MEpA5wcq4NdDkp1e/EWda+0lUxAwKoXt0kUuOq+yMGpPidnqpW/h4eHw02CeLkGBhML3hmyLWus9AEZTJG+1NjYOM6aqb/r6uoKN667gIjsq9colM9kH7GAzp8/H/Pnz8ezz9bj+PE4Vq48L8wcumrVKtx66yL86ldxPPdcqk0YAOVvqa/YTfv6+iL7oJUhmLNU6vsYBVGWBVKu07KTRtnQpRxdLwYsKdcCJN5X+pbUW2fB/ay66Heb9fzwvjx4pa3JfH3c//TzLH9bAM3QaNlKeYuCP+uarf8RZ2M91e+d4uJiB0KXawLJgdDl+orEQPjJJ5+gsbERO3fuDD/76KOPUFFRgT179gAA/u3f/g1BEOCf/umfwn1++9vfIggC/Pu///tZndeB0IEwW4GwpqYEV15ZhJ/8JI6XXy7Ftm11uPTSqVkNhJdcciF+8IPJGBsL8LOfVeOii6aPA8JVq1bhttvaMTYW4OKL+x0IHQgdCF0u12fKgdDl+orEQPiHP/wBQRDgd7/73bj9li9fjuuvvx4A8Morr6CioiKtrIqKCrz66qvmeT766CP85S9/Cbc//vGPCILAhBCGsCggzBTw8HESsPCaX5JIo729PQxyGQp0vficvE6Zhg2GF22xYpDjIE4nw/gse6MFi1bdGRLPBra5Xnofhj4rCJR92erJ9dUbB45ncw1WW8gxHOzqTdo4qt9pS6wE+ZyoRUPi+ec3Y//+OMbGAjz3XAF+9KN8HDiQSiqybl3BuERJcoy0jQWYfD91OzFQSr0s6ynbJmXNvIaGhnAfKVeeA7G69vT0hBuvY9jdPQV33VWD06dzMDaWus7R0RhOn87Bj3/ci+XLl+Gqq67CVVddhaGh1ELz113XFCajmTVrFmbNmhWuVWhZPaWe0k5sua2trU2zMLJ1t6qqKg12eI1MfTxbNLm/6MQ80m5itbWgRa7Lghm2xrLFMhMwZeq3DNC6f8l1ynMkbcwJWjSM8bHWufg9ab1DGPas97Wcw/rfwNfM72Rr0CTT/wi9eVIZl2tiyYHQ5fqKxED4m9/8BkEQ4E9/+tO4/W699VYsWrQIALB9+3ZMmTIlrawpU6Zgx44d5nm2bt2KIAjSNgdCB8JsAcKSkkLs3RvH3r1xTJ/egNbW1k/n4lVh/foiJJMBliwpTmvTbzIQ3n57HZLJAE89NRU/+MEIkskA3/3uCLZv70AyGWDr1v4QCIeHU0C4dm2zA6EDoQOhy+X6TDkQulxfkaKA8M9//vO4/datW4fFixcDSAFhd3d3WlmJRAKPP/64eZ6oXwg1WJxN8HC2lijexPImAZDYHCXA1UGuBGayrw6w5dwSsFgJLhgMrY2BiYPSTMGfHKODU7ZuWRYrtqRxEKbbi69FAlp9nWJ/4/tgBW3yN6eXtwJPDsJ1eTwYYMGUnFPKseypUncOlvncGjAZeLU1s6qqCosWlSCZDLBw4SQsXrwYixcvxtKlS8Nt9+4SvPpqUZqVVUDCss9GQa6GY9n42rS1kyFStzvbG3nZAw1VAoZNTU1ob2/EsWNx7NhRh9tuuw2bNt2A0dFcbN8+gFWrVmH37il4//0CXHbZQixZsgQ/+tF0jI3FcMsty0MglKQ0nGxFJ8+R51KgRa5NWymlfvI8cPIbDddRSVZ0WzIkWzZJuW9s6+U+XlJSkmY91fDJ7wQNJ2xzjBrcsJYu4WOs55v7l9RJ3o+5ublp7WTBHr/PLBDj67GAlz/jpFtWeVEgrMvhdtPtr8uLx+MOhC7XBJIDocv1FemrsoyyZA6hA6EDYbYA4f33F2Dv3nz09PSYQHjTTS1IJgNMmlSbFUB4ySVVSCYDXHppP2677Tbcdttt+PnPp+LUqVzcdddc3HnnMiSTATZsmI6bb56FEyfy8NJL7bj22msdCCc4EJaW5mD58hjuuCOG730vF/396fNtHQhdLte5lgOhy/UVKSqpzBNPPBF+9vHHH5tJZf75n/853Oef/umfPldSGQdCB8JsAcKHHsrHG28URALh2rWtSCYDdHZmBxBecUUlkskAs2d/KwTCjRtvwVtvpWyk+/fXIJkM8O67qV9O9+2rwXXXXelAOMGBcPHiQhw7FmB0NMBrrwU4eDBAMhlg164YqqrOWDQdCF0u17mWA6HLdQ71f//v/8Xvf/97/P73v0cQBHjqqafw+9//Hv/zf/5PAKllJyoqKnDw4EF8+OGHWL16tbnsxLRp0/Db3/4Wv/3tb3Heeed9rmUn9NwzC+TkH7q1Jh3DEB+jAwrZVwIDCyQkwOPATAc+HHRwAK/hh4FGB4gcyDEUSV2qq6vTAjw51porEwWc+jOpMwdvmQBczq0DToY6nlOl259/XeA2ttqPj7HqZwWVUb9k8DFWYK2zK8rG94znfFVVVaGlpQWrV1dibCzAwoUDYVZPyaLZ0tKCbdsKsHdvLhKJrnHr/8n3ul48F06uRZ+T76tsOtjla+B5eQ0NDeEcWt3nqqurw+vUgKkHUObPb0IyGeCqqybhhhtuCLfLL1+KzZtn4M03UyD44ot5uPLKKkyfPg1DQ0MYGhoKQVAyiXZ2dqKzszMEQw1yskmbWvN2ec1Izj6qQV7alOfLWYMAmbKWynfSjvxe0mtLMnzouvP7gZ8nvS+/4zhLa0dHRxr8W23BAysCs8PDuRgdDbBzZxEGB5s+zVDbhBUrqnDsWICnnoqjoCD1jOpnhMuzYDZqkMMCZ57fmWlwKNO7JGq9Uitzq9TRgdDlmjhyIHS5zqGSyaSZ4OWGG24AcGZh+sbGRhQUFGDu3Ln48MMPx5Xxv/7X/8KaNWvCf7hr1qz5XAvTOxA6EGYLEE6e3IRjx3KxZ08ZOjubxwHh8uXVGB0NcMMNpWkLwn9TgbCjYxLefLMQr71WhJtvXhMC4fLly3HFFZfizTdL8PbbxWhpaUZLS0sIgw6EExcId+2K4cUXY2hvbw1/oZVfWxctKkYyGeC88/IcCF0u11ciB0KXK8ulLaP8D15vEmBIkCqBQjweT7NXMuDoAECCBgl+5ZzWelscqFn14e8YYnSAZ9mn+BxWoMjQySCoMzHytQs0WNDI9bLgmNdDlPI1SMhx+hylpaXj2pSBjWHNsuxxO+qglu240m5W4M+WX70P20r53FZ5Yl0UUNL3U4LLiy+uxYkTMRw+nIuHHqrCjTcW4emn40gmA2zfnoeamsqwD0obyd+6n8m5pd9bbcuZNdnGrAdQOLutBmi5LoZ+K4PneCDswOzZ1fjggxj27SvCHXdMxqpVfbjrrgT27y/GBx/EMG9evdp3drjJZwKa0gZiJdWWUQYuXvNOP7Nyr+WaLCslD0pYFtIoO651j9hWqttLPpN25yymFRUVkXZqufcayBmirPKkT8rx0l/EPlxXV5c2IJXKUluKZDLAqlVFGBkZCTe5V83NjThwIAcbNuQgPz9/XHlyT/jdpa+HB3wyrbnKz3Wm55xt3xb4cj+JWmexuNjXIXS5JpIcCF2uLJcDoQNhNgJha2srZsxowNatFTh0KBfHjsWwe3cuVqwoRk1NJaqqqrIKCBsbGzEyUoPdu1N22WQywNhYgD17qjB7dgPa2tocCL8hQNjenrL4fuc7xSYQNjU14dVX47j3XgdCl8v11ciB0OXKcmkgtKw+DGAWQLB1UYIuKwiRQIDXENOBQZS1yUpMkQlsBA6kHCtYkvrJ8Qyu2hrIQbwkxNHtwnBsgQIn3pDPGRC19TSqTTSYcsIMfR+l3dhaJla3qHtbUFCQVj8dtHNwaUEoDxxY1jTZ+PoyWYAteyn3M7k+DSKcyIath3pNTIYEXpPSssMxRFZXV4flsB3aGniQciXI53UKa2pqMGnSJEyaNCltLcba2lp0dVVjeLgSbW2pPiEgMTw8jOHhYQwMDIRbVH3kPHruJQfz/AyXlpaGdZZy5W+9Dz8PfH91W/A9stqLQZCfad2npS9adee+I5+z3VQ/w9wvcnJywo3hWN4XlmVdDyDV1lbiV7+K4a678sP7PGnSpNCq295ehlOnAlxzTTzNYs72Vuv9ze/MTFZPtsbys1JWVpb2LrAG52Rfblv9jOhnv6CgwIHQ5ZpAciB0ubJcDoQOhA6E2QWEskmbOBB+s4CwqqoKd96Zj+PHA1xwQdM4IGxra8GWLXk4cSJAbW2BA6HL5fpK5EDocmW5BAj1P3LLUskp8S1bKVsLrSCXAwzLosnJGDho0pbCTHazqEQGljWKzy1/azsoQwcHVkVFRWEgLYGwZZOMssoxBFqJZqxrYLsag6YO2tjOJgGyZWnlc2UKGC1QZZurBaoMCVH3Rdt62ZJpATTDvwYlDk65/ax7JVAm99W6Br4Wq7/LOSUI1nXnQRe2GupBCTmHwG1/fz/6+/vDX5FaW1vDfaX/in1TQ560iQCw7CPH6P6p27C2tjZtkEHXke3j2tYYNZBkWXDlO162w9qH+4AFQQy8Vt+RevE+mZ7VqHuo24D7QHFxceT7p6oqH6+8EsPx4zFs3lyChQursGxZAZ5/PgdjYwEuuywnzaauE7uwrVf3RV6mw3qncN0z2dF5EI3hUQ+SWP83rEGvvLw8B0KXawLJgdDlynI5EDoQOhA6EDoQTiwgTP2anI977y3G0aMxJJOpeaHPPZeDkZEcxONxB0KXy/WVyYHQ5cpyORA6EDoQOhA6EE48ICwoKEBQs+FPAAAgAElEQVRjYyNaWxswMFCL5uZU4hbp2w6ELpfrq5IDocuV5dJzCBlQ9LwS+cfOGfl0wM9BjhXs8nwyKV/P8ZLPpFyeN6iDqkwBBoOE1EUHkxzYyb7W/EAGHWtjkMgEsxx0We0n+0i53Ob6vkmdOeDTbcDBqrS5Dti5PGseZBSo6nrx2o7WgEPUvcvUfjzvUB/HfSXTfDKeP2cNZPAcMYYYDTJcjjXnVfa1sm9y/eRYK1OtQJlkAOU5hXoAQ9YUtNY5FDDk76zAnwcaZB9rni0fo9v/s0BOtxsPFPAcvqqqqrQsmVIuQ4yeD2j1K77XDGlW/+QBLd0vpF7cL6z5yPxeYxCuq6tLe96t9w/3ewv2uP9bz2VU22Qqj+cv6uuKGkCyypF3pAOhyzVx5EDocmW5HAgdCB0IHQgdCB0IHQhdLleUHAhdriyXtoxa/5wZ2NhOaNniLPDiTH58jF7XkANFK8BguMoUbHCdLVsXAwrbCXVQyvWzzslWKwvy2LJlBasS8DP8ZLpX1vUx0Mm5BRYyWUYFFqx1CDlgtOyWHFDrOjMscqZIHTzzPbeyVnKALv1Wl8MBdSbQZzuptIWUW11dgY6OSjQ2VoXnlABew5QAHF+fZcNjGLJAju3Bso+2g0o9pA+JBVLfE+7LUo5ci243yVbKmWk11DIYWllG+Tln+6xuNwZ6KUOfk5/ZTP2MrYv6XFIPPheDun6+GfStgR/Ouqv34XpF1Vc/lwysujzuZ1bfZpC3wJ7fJfz+ttqW3xuZANoqRz+7RUVFDoQu1wSSA6HLleVyIHQgdCD8zwNhW1s57r67AEeOpBJ+nD4dYNu23P/f3rlHV1We+X/nfnI9CSH3kEQuSUYwqLCkXhksIrUILtsO42AHp2pFvLVjtXZRm+oSRWpx1cFOLV7GqRZYcqm1gAqso12rQDtTcYYOy7lUaxl1xqUWxk4FHHl+f+T3HJ7zPc+7CRZIcvL9rLX/yMk+e7+3vfN83jz73TJhQoJCSCGkEFIICckpKISE5DieEHopfPhH3vtDjj9bgcAFCOICBRQAT/bwd6HUo0QikbU4hJXPUNm9VMOQzMal2uLCIDZoxPJ6qVuhgCxOar10S2x3/VnbIS548/ohlMpnA1hMV9WfvXcVhiTbS6cLybcdlyjXtm+OFLB7+9pFUzo6krJqVZFs2JAvX/vaCJkzZ4R84QtJ+eEPC+W55/Jkxox6aWtry6gnilHc2NGya528lFHddLEbFQH9uaGhIT32dPzjviNHjkyfE/sKr8Wampp0mqseV4/hpdJq2qoez55Ty6FjBtvC1k+/r3XQNrHHwz72rvOQ0HjnwkkT71oL3Ss9IcTx66V7473FawuURB1b3sRPaFIskTi8wAumxdt7Eaaphu6PoYmx4uJid+EZvO96166ORwohIYMHCiEhOQ6FkEJIITw6Ibz99mJ5+ukCOeec0dLd3Z3+j9nYsW2yfHlC1qwpkI6OUTkvhN3dNXL22Uk5+eRKCiGFkEJISA5DISQkx7FC6G34xzpORDBNyQZkIbH0Ainc1y7ygUFanBDq7/AVEPZcGsjid1E+4iTWO2dcihvWC+ttj6cBlQ2WbABvBQbL4AkhljmuP7XvtAx2wRIUBiyvDVQxQPQCa0xFxcVNbJpfKN3RbviaAm98xIkIipv2XX19qTz3XCTXXTdCxowZI2PGjEmnUra3t8u55zZJKhXJ9OmH0y/tfwsx9douGoLjFF9hYttfy4eL1tg2wPRSFVdPGrG9tE20DLW1temyT5lSKw88UJx+N14qFcnDDxfKJz9Zbdop87UVtk21HLgojCfJ2G6ekHjSYyeC7GRQ3EIxKJZ4j/Imb3DRHHvPw+sRPy8pKUl/hvchrz9x/ON1UVR0+HUrKKVePUMTNva+p22B7W/rgJNn3n0bz41pvvacTBklZPBBISQkx6EQUggphP0Xwp6eEkmlIpk2rdUVwvb2dlm/Pk++8IXinBTC006rkI0b8+Txxwtl7twR8olPNMpFFyXlu98tki1bIpk+vZxCSCGkEBKSY1AICclxKIQUQgph/4WwqyshqVQks2c3uUI4btwoefbZSObNK8lJIVy+vED+7u8Kpb29Pr1YTX19vTQ01Ml99xXLU0/lyYgRSQohhZBCSEgOQSEkJMdRIbQBlSdGGGx5EoRBjheEYFDuBQa4jxdIoejECaE+K4PPCnn7Hs3myVZIWmxb4DNrWBZvZVOU7bhn4rzj6mf4jFFcHUJ9ZWUdV8S0shcKPO1xUGhUTLx+0c9UZryJAj0nPgfmBfa6D64EaqUWn9eqrR0hTzyRL9/6VnlaCDs7O6Wzs1Nqa2tl7txy2bo1kjFjMsVG66ll1/p6dTj8Sos+WdNn9zzxRTnw3uGn9dbj2ecCcVxoPfWcVqomTKiRVCqSv/iLJuns7JTu7m7p7u6WyZMny+TJk2X27JMllYrk7LMLst7b6K0Eq2XH90F6kxNaBxT10tLSrL46mmdVPWnRMuN37aZtEjq3Nxa950VRAPVnPb7XbngNehM1cRMhOMmEq77aZxpxnHoTeqG/FXYSAAUTZdJ+pmJLISRk8EAhJCTHoRBSCCmERyOEtXLppRWSSkVy663VMn78SdLZ2SldXeNk9uwK2bQpkt7eguBCMUNZCM8/v0pSqUjOPPMkVwgnT54szz8fyWc+k08hpBBSCAnJISiEhOQ4Vgg9uUJh8NKU4sQBgxc8R1x6UShFM07AbDlQTOLqhxuuhudJpxcc4WdekBuSGAzy7b5x4hraxwsCQ+f02j90fK/fNKj3AlAdM95KpPhuPC+FWDeVGFzR0qsH9rmXpurJNcq7nhPf73bVVeWyZUskmzblyYoVxbJ2bb6kUpHce2+x1Nf3vR/QkzOtr9dHGtTrPvhOP1tGFTZNv9TP7bsKvfGE4w/bH68dKyRnnJGUVCqSiy5qljFjxqTfYampoz09fQvqXHzx4eOqANs+0jbUeunYDAlTRUWxzJ5dJkuXFsp3v1sovb3FMnNmk4wefZKMHj06qz+9dEvvWsX7Esq1fq71t8ezsmlX0bRjG/vEuxfg9anjTNOQ7fjA8anntCuuYl28ibhQyqktu47b0GrMXhviOeNSsOMm5ZgySsjgg0JISI5DIaQQUgiPXgjr6+ulq6tWvvjFcuntLZNbbqmQM85IZryXL9eEsK6uVp58skDuv79MxowZnSWEt95aIRs3RtLUlDxmQlhfXywrVuRJKhXJ8uUF8o1vFMuTT/bJ9513VsqYMSdRCCmEhJDjDIWQkBxHhdD+Ybd/pDF1EdN7PKmK+2OvgUac4ISkIy7Aw/LZhSxCAaMNjvE7XgCJaZuewHr1KS7OXOAFpQf3tYEmCq9uVjZC8mPbHyUUF/Lw2hYDYnt+TPXF8lmZwPQ6ey4NZLHMXoCNY8pb+EQ/09TTuPJp+2nAruVtbW1Nb5jSqrJnRU1FTo+DqZ92MQ4cJ7av8b2B+vkppyRl7twy+fM/r5BTTumTUxVCrafW2/axfoYibsuu59J66j5WMuw7C2fM6Ftl9ZvfLJHTT2+U1tZWmTx5tHz1q33PF155ZUnG2PTSLkP3FExbraqqku98p0DWrs2Tc89tkFGjRklHR4ecdFK7XHZZtWzdGsk11xy+RvSZTlycJ5lMZt1/vBRP7JNQWqednNKfvfsiXjfe/VU/w8Vb4t7riT/n5+enNyyXN8GCqev6c6b897VhSIrtPS90/7cL7GD6Mr4fEtOAE4kEhZCQQQSFkJAch0JIIaQQDk4hbG+vkGXLCiSVimTLlki2bu1759+3v10kXV31AyKE5eXl8tnPVsozz/T91+6ZZ/Jk69ZInnsuT770pVpJJquOmRBOnFguqVQkM2Yk0v+F1P+ctbS0yO23l8m6dfmSSBRSCCmEhJDjCIWQkBzHCmHchqlCXgAQSlvy0rDiNgww4mQLxcYGWygtuJiCDVpCImjLoUEbLiThLTWv5dHA20tHxSA+Tsg1QPPSHEPpfhhgxcmoXZgC268/7e4FddjGmF5ng+9Q8OyNQayTd04UOG8sYvqm9oMn21o+TYG00hhK8bSygQG6yp+VRv1e3+IzVfL44/myZk2efOYz1TJqVJN0d4+RefMa5Ec/KpCHH46krKwgKyXVnt+TCjuh4U3e6BjQY9jvHR7LJXL22UWydGmRPPhggSxaVCqdnXXS2NiYlULsjQtc8AdFUbf584tl48ZIamqqZNq0aTJt2rT0iq6NjY0ydeoISaUimTAhkbEQirax/he1qakpq+6YxuwtdoOLwXgpoyhTdmzj/cJLvcZrzZugwWsXZdLbB8tl7xfYBl55MO04bgIPryP8Ge9p9jihvzXFxcUUQkIGERRCQnIcCiGFkEI4+ITwsssSsmVLJN3dZdLc3CzNzc3pZ/amTh0lW7dGMmtW/gkXwrFjk+ln+p56Ki/9PN+6dfly7rkjjqkQ/tVfFcszz0SSTPpCeNZZtZJKRdLTQyGkEBJCjicUQkJyHCuEcX/049KeQoGKF6ijkHjiFUp78uQAA8+443hpYpg+hSmVXkoTpp3FBXgopVYOMIDyyoepaChk3kuovUARj4dbnMhh4G6D2jiZxc07F9YB5cBrN3x9gpe+FpcyFxITrw49PT3S09OTFovRo0fL6NGj3dRk+2oKm77qLSyi57byqWWtrq6W732vQO67r0w6Ojrk1FNPlVNPPTV97tGjR8uyZUWyfPnhSQUcS7W1tdLY2CiNjY1Z14PXn9om+Lkd//X11fKDH+TLU08Vyqc+1STd3V3S3d0tU6e2y/e/XyobN+ZLd3eV1NTUZB3PiiqmZOI1ouc788yEpFKRfOpTTVkprrW1tXLDDQn5yU/ypLKyMOOe4KWphhbP8f4Diu3kLTYUmqzy7hd6brx3efdDHLdeyrSOHe/6xLp7ado4WYLpnPa8ockX+7chNIbs8fCehNJsrwkKISGDDwohITkOhZBCSCEcfEK4cmW+3HJLVVAIb745IX//9wUnVAgvuaRMUqlIzj23VUaPHp1+D2FnZ6eccspYefrpArn55pJjJoQVFeXyxBNF8oMfFElHRzJDCM86q0o2bYrkr/86+z9nFEIKISHk2EIhJCTHoRBSCCmEg08IH3igUJYvTwSF8LvfLZRly4pOqBDee2+R/M3fFKbLYIWws7NTvva1GlmzJu8YCmGFnH12q6xfXyAbNkRy223FcuWVZbJ0aZFs2RLJ8uWF0tQ0gkJIISSEHGcohITkOCqEhYWFrniFnvWIk0XvOygyGJh539PAIvR8jA2uPDnDffC5MCtRGDhh+UpKSrI+82QD5Ufr663WiEERBmrV1dVB2bblwnNjEGwDYTyn96wSBqX6HVsuFHBPNvC4nihh4InBoScS2o/6vFtl5eFnwTAojRNefIYTnw2tqKhIv+dP+66trU3a2toyVgfFuuCKjIlE9jOI3nsu7fOUF1/cly55zjnV6ZU1tQzTplVJKhXJzJml6fJ5zwvaZxLtO+Xs86I44YDP2dq+evDBErnnnjKZOHGiTJw4MS3JXV1d0tXVJdddVycbNkRZzwJWVlam69DR0ZF1n8Bz23M2NDRIZ+dIWbgwIT/8Yb78+Md5smJFoXzuc6UycmQy4/lQfA7YyraOW+0PrLcVLVwZFq+vkpKSdLvrOfUZX3uN4FjE69VOgOC9FMtpr9XQ9WXLiOPBjn+UVx0n3r0Ty64TG54Qeu2E9y28T9v2su1eVFREISRkEEEhJCTHoRBSCIeiEI4fXyG3356QDRvyZMuWSB5/PF8uu6xEKisTOSGENTUVsnx5kWzaFMkNN1TLlCkt0tNTLddeWyrPPhvJsmUFUl1deUKF8Otfr5C1awvktNN6XCH8znfK5aGH8o+5EDY0NKTrEideFEIKISHk+EAhJCTHUSH00sVsGlBIEuLSBD3Jw5/jvqf7eHLmBVdWTOwWkhcbgOHKeF5wgwKIYmfbAt+3aMuIqY6YKmrTQTEgi0tBLSgoyNi8dsIUTQwyvUAz1NZWdLwAGwXVE2jcVFSw70tLD6/YetZZpbJpUyRPPVUgN9xQIVdcMUKWLCmTzZsjeeCBImluPizf+I4/m7aJIqJ9ZoNwvB5Q/myqKMqnPSfug/JtU5EPC3S53HJLoWza1Pf+wVQqko0bI/nylwulqiqzP3Dc2vGJq55amdU64LsYUUwSiYRMmlQtqVQkV11VLvX19WkhrK6ulqlTy2Xr1kg++9myjHPZdvJSoq0M2XJh6qOmv3oTGSoSKmVah5NOqpKrr07IsmWF8sADCVm4sFpaWvomG/B45eXlaWHVemGfe22LYuOleMbdL3SceinveP/Be0zcvRjPacuF13wURRJFkXvt4n0a+8y7t3vXNR7nSI8DFBczZZSQwQSFkJAch0JIIRxKQlhfXy3r1+fJ/fcXSEdHozQ3N0t7e7u0t7fLBRc0yHPPRbJwYVlOCKEef+TIhJx5ZrGcdVZC6urK3P/sngghHDlypNxwQ6mkUpEsXVoss2dXy8yZNXLbbcXy/POR3HdfoYwcWT0ohHDatL7/pG7aFMmSJYWybFmpPP98JBs2RHL22aUUQgohIeQooBASkuOoENpA1qZ6aRARl0IaShn1AgIMDLygBgMn3Nd+H1PBvOAoFCwlEoffJ4bvbtPg0gaMWHcMuuw+KFdxi8BoGbQdvXRE3Gxb4Lv8+pMOioGZ3VBsPMnGOnjHwTTc/qTY4jGsVNXX18ull/Y9Pzdx4giZMGFC1rZoUYWsX58vzc310tDQkO4Hmz6oAT+WS39vU211/Os48wLsULBrz6njC9Mb7ab1xNRhrYN3XeLYtim2OD50TNv0ZXxPJqaM2r7oK09SLr64WB59NC/9X8u1a/Nl4cJKaWtrduueTCbT566rq3PHSvZ5Mts77l6j+2qdJk6sleeei2Tp0oSMHds3aVBdXS2jRlXJsmWFsnFjJJ2d1VJbW5uRyoqp1qGJKTu2tZ302o5LU/UmyvR3uLCQJ+ShSRxvgguvV0/y9Hd6Pdh7Ck74oLR7717Fc3qPDOA1570HUr9LISRk8EAhJCTHoRBSCIeSEH7lK6XyxBMFUl9f7wrhrFl1kkpFMn78SArhcRFCLU+pjB1bI11d1TJqVHP6mbrBIIS33loqTz+dJ+3tTdLc3JwWwurqamlurpYNGyK57rpSCiGFkBDSTyiEhOQ4dlEZT15CqZ1egIIBh/1jj8IWlw4aCh5soI7CFReE4M82aNbza7CKKZ82kO2PYIYCHls/TJfCIM5KEKaieef0AmkrEradcJEZTBG0Gy5vH5L9RCKRJShW7LF+XpoYblp/G2A3NDTIl79cJmvXFkhHR3taAvX1B93d3XLBBUWSSkXS0lKaIYK2XbRemJao57bjH18xgvJmU1AxJc9L00Npt2MRU4BRBO1EAR7Hm0DQ9saJCHtdaopuKF3Vq7MnSDhmdB8ti20vTIdG+fFkD9vEW6RJF6B58slCWbSoQs4555z0pimiY8eOlcWLK+XhhwuloaEh4/rW7+M9CQXM9gleD16b4EJaXv1QxDzZwzRV794Zuqd4k2m6tba2Smtra0b9Qqmnmo7uHS80+efVy5u0slKbSCQohIQMIiiEhBxHXnzxRZk1a5Y0NTVJFEWyfv369O8OHjwot956q0yYMEHKysqkqalJPv/5z8sbb7yRcYz33ntPLr/88nRAePnll8vvfve7fpeBQkghHEpC+Kd/WiOpVCQXXdTgCuG99+bLihV5UlZGIRyuQrhqVaHccktlUAh7e6vksccohBRCQkh/oRASchzZuHGjLFq0SNauXZslhHv37pXp06fL6tWr5ZVXXpHt27fLlClTZNKkSRnHmDlzpkyYMEG2bdsm27Zt+/9pc7P6XQYKIYVwKAlhQ0O9PPxwsaxbVyAXXTQ6LYQTJnTKV75SK6lUJBdeeHjRHQrh8BPCu+8uk5UrC+Xcc8/OEsLOzjGybl2BfP3rpRRCCiEhpJ9QCAk5QaAQevziF7+QKIrk9ddfFxGR3bt3SxRFsmPHjvQ+27dvlyiK5JVXXunXeVUIbTARJ3ka3NjAU/fBYMIGMxig6PExwLXyhBJkg2cVGww8PAnS3+m5bLlQADGwtsfDoBnrW1JSkiXAXtCGbRFqGxuIxQWKKPIowMXFxVnyg8E9BolenWyQi+Kg+1iBwzrESTue05NjrUNzc0IefrhvUZOHHy6Sb32rWJ5+uu/nK64oyqifjhPbpnqckGx44qXH04BY5aGhocEVNvvspL2OcNVTr844ZrDNvXbXfTyR0+/oOT3J0+fotL10LNl98X113qqheE/Qza5+i2Na91Fps22o5cBXSthz4jOEn/xkg6RSkSxYUCq1tSNM/5fIbbf1vTpj8uS+/e19R/tTx689hxXX0tLDK/qirHn3Ma2Lls+7/4RWd/Xus979NTTZ4l3PKGBaF+/6xnu7d28JTfJ5E2W6rzdOdaMQEjL4oBAScoLojxBu3rxZ8vLy0n8kH3nkEUkmk1n7JZNJefTRR/t1XgohhXCoCWGf+CRk9uwaWby4VO67r1i+/OVS6empyaofhXD4CWF7e7tcd12f+D3ySIFcdVWZXHFFYXpl1GuuOfzfRQohhZAQcmQohIScII4khB988IFMmjRJ5s2bl/5s8eLFMm7cuKx9x40bJ3fffbd7nP3798u+ffvS2549e7JSRj0hwT/+NnjA33kBFAolBjXeqo1xqVYYdOm+NiDDgNgLrPR3GqxpQIwppaWlpVmBLJbFpsrFpcGFAilPWFHSvQAvTiix7ijLnmyj6Hppk9juKhbeKpdYXgy0bXlQhmxAjGmSek7vOKF0UDtpoPt4Kc4YoOu5vPGKkwgqKLYtcHzod20qK4pp3KblwBRq21640qeOcU0Tra+vT0sYypCXFop94qVH4sSFbvacoe/giqz2+vMkO3RtafnmzGmR73ynXDZuzJdnnonkrrvyZfLkoowxbdPQ8frB9FBbH21LvL681Fh816B37YbGYtykGo55e/1gCq93jeimbe3dd3C8e+MidP/3Jgr0+967Uu05CgsLKYSEDCIohIScIOKE8ODBgzJnzhw57bTTMv5ALl68WDo7O7P2Hzt2rNxzzz3usXp7e9MvIrYbhZBCSCGkEOaSEHZ2dqY3HIMUQgohIaT/UAgJOUGEhPDgwYNyySWXSE9Pj7zzzjsZv/s4KaNx/yH0ArxQmpKXloS/89LW+rNISijg89KxMBixqWka6GkwosGvF7CgrHgChqLrCQ6Kkh7HW2ABZdkL2DAYxEVEbJCMbeL1Gx7XC+CxTb20Lg2oMVXRCypxDKCo2PTS/sh7aLEanKiwbWs/03qqBKHQ2XJhvTyBDqVteoG5lke/q++Aa2pqykpzRWHy6oBj0n6G77fU+tkFWfQ9fVpmlTacVLH9FydneM648YW/wxRL7xx6XG+RINzX1hOvWUx/LSkpSaelannixm1o8sVb7AZFybun4PG8lHV8r6E32RGauIu7r4bEzv4O04Ot4Ifu/7aeock0u4+tQ1ER30NIyGCCQkjICcITQpXB8ePHy9tvv531HV1U5uc//3n6sx07dnysRWUohBRCCiGFkEJIIaQQEkIQCiEhx5H3339fdu7cKTt37pQoimTZsmWyc+dOef311+XDDz+U2bNnS2trq7z88svy1ltvpbcDBw6kjzFz5kzp6emR7du3y/bt2+WUU075WK+dKC4udtMuMegIiZgVBy84De3jHScU8HhL/XvihulY+n0v9REXYQjVu6ioKC0QKChx6VMogV4AjMeLEzlPlEJ9gws12IAYy2v7XMXZ6xsUbz0eirpXL93sax3wuDbl0favbbeQSHsij6JiF/fAMmMb20kEDX69FGqUfy2frSemiHoLsuhnOs4wldQL6kNCYdsA200l0IogLtbkjQssB0puXGqzbVNv4qm09PCrXzyhx4kV258o7V4f4bkwhdHeH7C99BjeYjcoNvYc2n/eNRG6RnDc2/bHFHpvXGBKvpemin2L90B7LwmlfFoh12sDr0fvno59ZiWbQkjI4IVCSMhxJJVKuc/zzZ8/X1577TX3d1EUSSqVSh/j3XfflXnz5qX/uM+bN+9jvZieQkghpBBSCCmEFEIKISEEoRASkuNQCCmEFEIKIYWQQkghJISEoBASkuNYIdQgIC5g94QQxQSfgbJBi/esmT1GScnhFQBRfmxQiavyeQIRkrO4gEz38eQYg3EvCAwFsDbwwXN7zw5iHXQfDM5t22I9vQAY29IL3jBo8wRWf6flweebPGnx+kiPp+fEZwu9vsLA2HvmDPvePvMXek+iDUgxkEVhsrKNUuwJie6r5VSh9oJx/b6eC59bw+vF9qc3ruImHLQ8uAKot+Kqfj8kAHYM4+9sH4UmO7x6hiZWvH1QrO39Aq9V3deOCx3DWBdvcgjvJV77hyaOvOPgtezJHq5CHHdd4rXrtaX+rJMe3sSWHhcnCmzZQ+/19I4XmrDxJsIohIQMHiiEhOQ4FEIKIYWQQkghpBBSCAkhISiEhOQ4KoQ2iPNS9rwATDcM5LyAR4MFDEa8QArTOXXfUJoUBhOhQMwLdjGNLRSs2nPEpauiZHhBG+6DwZuX0op1iAuwsS62TVHOvH2xnhow23NqgKj9GhIVK3Ao81VVVVmrPaKgeEE9SrF9lxy+f1CP7x1H+yEuTRj72kvBQ4HQ6yFuMsEbm9iGei5vcgbL5wk0SjuKhC0zrirqrf6KdffSB7EuON7sNaHf8dI3UTZC17ZtQyyzJ9BYbzt2cCxqeroe106Uhe559pzYN3o8b8IH2w1/thM1eN+x++h1g5IWJ4QowiiQ3j3d/k7bJPR4gR0reFwvJVnPRyEkZPBAISQkx6EQUggphBRCCiGFkEJICAlBISQkx7FCiH/YbeCEgYEX1ODvvFRKDNDi0rA0gLMmOgUAABwGSURBVNKy2IAMBQJT1axEYVDpLeSBYuSlQIbSumywG5IOGxyFAtdQ6pQXtNm2QOlE2YuTDS+lD9sShcBu+Dtv7ISOl0hkL4piv19WVpZRB/0OvivPa39cLMXWD9tHz+VJELapJ4R6HFwwxga++D483bzUU+zPuFRWbBtsv7KysrTweLKuZcaxhAvl2GPHpQljebTdbOCPYwiFwBv/bW1t0tbW5k7UeIuS4FjCvtJ97XWEdcDU07h7lSfH+n18v6QunmPfeRiaxPL6DNvYtiWmU3sTNShl3r047vu2DN7knHdd4tj2jmvbtLiYKaOEDCYohITkOBRCCiGFkEJIIaQQUggJISEohITkOHZRGS89CIP5uEA9TggxqMTgxJ5TF9xoaWmRlpYWN5USAxQvUMR0NRQwm5oVOk4oYAkFWHg8TwRCqVUYRNsNgzgbyKro6PFRmm3Zsf9QnOyiK9g3tg5Yd08CsZ20LjZoDk084MJC5eXl0tTUJE1NTVn1884ZkndvLKKkeVKFKZreWNQgHxc8sn2M58Jg2m5YT0+q8HfaRk1NTVl9j5MfXj/qKy+8MRgaM3YRIDyH/mxTM0MTSPq5bduQvHvXn/5Oy2WvF5RZ736B7aWf42Iu3r3Sm2xC6cGJA/tKCt1Xz6US6U0e4HFt+3v1Ck3MhMpnxyXW15NQbD+8ZoqKDi+qhULuSbu2K4WQkMEDhZCQHIdCSCGkEFIIKYQUQgohISQEhZCQHEeFMCQ4KCAa1NmXxIdEx24Y+GMgZc8VSiHzgnAMbmxQgwGPFyxhPTHIiQuePZlFefLKjkIS124YrKlgomzZc+C5S0pKsuQxLnUL6+d9jkGgVyeUWe84WAfsF68tQuf2NpwM8NodZSEu7dUbF9h/ccdRWcE2southMaOJxs47r0+0t95ryzBumM6p21/HF9eijmKTki6465Tu+k9xqb84iIzeg79nUqtbYvQWPTuBSiCcdcT/s7KWah+tk31d7j4C5bBS3n2zqnfi0sTxnN798LQtRYnnCHB9+6vcX2uqbwUQkIGDxRCQnIcCiGFkEJIIaQQUggphISQEBRCQnIcCiGFkEJIIaQQUggphISQEBRCQnIcFcKCgoKsQMHb9Pm+ODnw3omGohMnCV4AhsfAfVAa4iQjFNjb4E1/b5/bQoHAgLSsrCwdwKLI2bJjkIv72i0UjNsNhcILdvE4+H4+r16hNvLO6R0H5UKP5z0jFjcZgRsGonHBrte2eu7W1lZpbW1NlxdXq7RbaIx7z0WhGKKElZaWumXHY+Nx7XOj+Dym99wotr8XhKNM6fXtBfUhAbZ9js/vxcm0ihvW0z5jh++r9O5RuKqn1kEnT0aOHJlVBk/I8d6ifady5U0OxU0W4T7ehERIyrBfqqqq0uXB+4adnAtNnnj3grhrLHQP9SYkQmPa2wevd+9vgh6DQkjI4IFCSEiOQyGkEFIIKYQUQgohhZAQEoJCSEiO46WMen+kMXDRd8HV19dniURI6Dwx9AIMDGr0cxtgh8oXJ2xaLlt2DNRRZr2URUz7s1soOLIBGa6ciIGoDQJDQhLXpnHtj23q7YvHwyDOtimKqtf+GNDaY4feyeiVK9TG3tjBgN/KVEhWvHEWlzaI7RXqX2wXWwcvPfNIEyNW9rScGOz3d/Il1AaevHsTIDZN1EoZpo56x9H6qczoOa1sx02+YFvipIw3OYFprp7kYZ/HjW08jncvipPG0KYS6gkrlsEb27rFXbshGbVjL1Q+b9LKS8/WDe9nccJKISRk8EEhJCTHoRBSCCmEFEIKIYWQQkgICUEhJCTHUSHsbwqe7mPTlEKpQl7KHQYuR5O+5MlZSB69ANgTEtxXZc8LxkNpXXFygKlvdlEIlKG49C4MUm0dsE3jFlLBNolrNxQLry1Coukd25MWTM/Dz71xqT97fRQSHW8SAs+t+zY3N6c3bffQuPXGkNf+oX08IdHv4DvzbD21PLqPjluvLXCc2X2wrFgGL70RBUDfv1hXV5e1OAqKoRUSvNY8SdN6YnmsYOo+eO3Zffrzbk39HaZTe+M/dP+ycozps55kYVmxH+x7JUMLXtk+Ck0q2A3Hnidn2BehSSf7fbyOMGXZW/DKS8nXdqUQEjJ4oBASkuNQCCmEFEIKIYWQQkghJISEoBASkuOoEIZEQP9Ia0ClizRosGODUN0Xg2AvAPIEIiQk3j79SZnDxTR03ziB0AUpbBoWLtgRkiF7PAy+7D7ahvjaDk8SjiTStn0wIPaOg8FtXFqi9nl/2i1O6OOEN/Sd/gihN4bwuN558HsoV16AHSehOmZCY8CmhuJxNDXQpgfqcfB1E7YtMPXRC76xvbzXV2BqLU5A2HZDOcNxW15env6eJ5S6qTzqdYBi7k2w4P3IXpfYPl49Q5NDntiE0i+9ay5O9nRc6HeiKJIoityJMm0/bRNPjkPj3hsXcffXI02qee0eN1mE9w0cf94EhCez9prjaycIGVxQCAnJcSiEFEIKIYWQQkghpBASQkJQCAnJcSiEFEIKIYWQQkghpBASQkJQCAnJcVQI7R99+7wbyl6cBHlBpG4olt5x8FwYlNjgSD/TAEoDDU8OMKixx8HyYT1tsIUBLEqVd1xPHvGcWCcvMIsLAjFY88qOv8MA25Mg7U98L55Xd68fQxJoJxNCz2npc1h2xUkUHnzno9cXnhCGgnpvjKNw6XHts2Kh8nlti/taIcS+1XN5q9pim3rXCLaJVx7vvaJ2s+/yQ2HzyoKTHDhhYyVR2wDfqehN/ODxbDtnPptbJjNnJuW++4pl5cp8eeyxArnmmjJpairNOKce346v0ISBN15wXHn3Ppy0amxslMbGxqz7midcXtviRFfcPbk/E284ZjxRDd2zvPsZntuey04a2Pt0SLJVoCmEhAwOKISE5DgUQgohhZBCmAtCWFlZJrffXiipVCQrVhTKTTeVyje/WSKbNkWybl0kJ5+coBBSCAkhHwMKISE5jieEduW3UKqclUYULQwqbHCgAQUGJ544hNL2PMnzAozQPnEBFL5Pze6D6XBaXxtUYvDtBbC4OisGX3Gpbp746Pd1ZUxP0lCU8Lh2Zc1QG3tCgqmCXnofnruhoSG96fdUevS7mvrmpUJiuWwbhgJOL1DHNtBURhu4YpqkCpStg44ZFBvb/nrO0GqX3jjV49nrUTcMsPU8dh9M6daye2NH647Xg5V3Hbf5+fmSn5/vii9KkLaFylBjY2O63VSEdZ+2tjZpa2tzZU/Lpd+1oqrtNW9eQrZujeRznxshra2tMmrUKBk1apScfHKzPPJIgaxcmS91dSOktrbWnRDB60/Li31o6xx3T8H0SL2+4u57OMlhf4fXrjdxpu9XDd03vEmlOLHECSSv3FouvFZsPXXs4e9C9yQKISGDCwohITkOhZBCSCGkEA51ISwpKZKVK/Olt7dIWltbM4Rw1KhRcvrplZJKRTJzZiWFkEJICDlKKISE5DgqhN4iCjaQwPQibx8MuD2BwKAhTnDwXF6AggLgBclYJy+1E4NvL/BBMY0LpOLKFRJLr7wYiKEw2fevYQDq9Sd+33tnXn8W1cCFVLBfvDRXT+xDKbYaGNsxFFrcxysjjiWvH3VDyYqTdK9NsR/0ePZdnSpc+D5Jb1IC02m9uqDQ6HnsRI1+pu+x8yYnVMZC77K0x0NJ98a2Ci/Ksm0LvJ5135aWFmlpacmQbW03nBSwKbuVlZXS0VEuqVQkF12UlEmTJsmkSZOku7s7vbW0tMjKlQVy442FGf1o2xQnClByvXERmtSx9zS8Hrx7XagMdsOJBm8shsrn3a9xvHkpo6HJtbhUc+86x328e7GdTKioqKAQEjKIoBASkuNQCCmEFEIK4VAXwvb2PiH89KfDQrhqVYHccAOFkEJICDlaKISE5DgqhHYxBy9IDQUIVkRQCuLSlLzXMcQFMSgkuOl3bfpmSCS8cuHxUJhCZbXyZ4USZdEG1l7waANFGxBj+eIETn/2FvI40jk9eY9rd6wLCl5p6eHXEeB3vRRbPJ4nhKFg1+vP0GRF3HjyxjymvXqBLNbda/fQ5gXUeg4cx17qqI4TTBUsKclOEcWU4tLS0qzxim1q2ys0PjyhwdTrjo6O9KapmDYdtaamxv1c6xd3DfbVJSE/+EGe3HFHYVqAR48end5OP71PGKdNSwQXZMFFbfBehanPVui1rzwh0uN5r9XQftPyYIqsbf/QJEzcde6N+9A9xUp7qI+1P+y4xddreBteR17ZbTsnEgkKISGDCAohITkOhZBCSCGkEA59ISyVP/uzEkmlIrnssqQ0NTUaGWyTxx7LlyeeyJeqqnIKIYWQEHKUUAgJyXEohBRCCiGFMBeEsKqqQm67rUhSqUgef7xQFi2qkm99q1yefz6SNWvy5OSTy2Nf2UAhpBASQnwohITkOHaVUQxkvIDACwIxGMIA0ntmJ/ScWn8DdQz4455txO94gV3oOT5bBwzQ476PzwLZ55/wfYb6nFR/nnvDFS3Ly7NXwvTkTMuh++KzY15/YtvaPtHAEVfNtM82Yn28QBH3CT1jWlJSktXu3j4fJzCOm4gIyZo9B8qrd45Q39iya6ojjil8ls2u4okr19rv4XN3cW2g38FrORSw22vNG6+4yuipp56a3rq6uqSrqyt9HejqorpZIcSVZb1nGzMnXSrlE58okjvvzJfHHy+Qhx4qkCuuKJXm5sqMCQd8VtgTQG/yBceIli80+WFlyLvWtBxYF28iSdsrJMT9vY+hXOPxR44cmSXrOEmhEmgnHEL3Zu/61HbzylxTUyPV1dUUQkIGERRCQnIcCiGFkEJIIcwdITz8s/2PF/4HmkJIISSE9B8KISE5jieEXhCJQX1ccOmJHQYLGDx759cAwSuXHg8Ddk+i+pOeGgqWbOCj703Dc3r1jAvmQ6tIevISCrLsKosY1MeJCQZv3r4YCGN5y8vLs9IHMcCtrKw8qkARyxeaHLAy6ok5ls/bB4UV9/VSgLGPPGFAAfAEQo+jfecF83hc7/2IOE6xDmVlh1ce1SAfx0ucHHuTADg+vOsSryv92aZBa5pkSNI8mcJzWdnDfvMEDlNFvXGC5dGfvTGk1wROEnnnxlVePWnHyS+sf1lZWfqdino/8voP29CTdkwp133tvQ7lWPfx0u/xmvWub7zPePdQ+/3i4mIKISGDCAohITnO3r1706+d8J6bw0AFl9iP2+wxMdDBgNM7P/7XyQuEMci3QYh+FidIeBzcV1/CnZ+fnw4C8ZxePVEMbdk1MO/PM3vYbjhT7/03xwvmcZ+4wB+fr8Lyes8Cef8JxXPFTSZg+bxxoRv2gw12Q/+9tftg0Bv6j5wV+dCEhm0nFE3bLlg/7TtPIPC4OBHh/efdE0t8obz3nBtuKBDe603wP152bON1pT+r1NbV1aUFFZ+p07b2/suM57L/vcJ+84QEJ1+8cYLlCU1sJBKJ9DUR9xoRlGHv9RX4X36859ny6Ws59H7k9R+2Id5HbDvjuLX3OhQ53ceT0f5MFuJ9xruH2u8XFfW9mH7v3r0D/SeSECIUQkJynj179kgURdy4cePGjdug2vbs2TPQfyIJIUIhJCTn+eijj2T37t3pP7779u3LuU2ll/UbmhvrN3S3XK4b63f8tr1798qePXvko48+Gug/kYQQoRASMizYt6/vOcJ9+3LzeQ3Wb2jD+g1dcrluIqwfIWR4QCEkZBiQ63/0Wb+hDes3dMnluomwfoSQ4QGFkJBhQK7/0Wf9hjas39All+smwvoRQoYHFEJChgH79++X3t5e2b9//0AX5bjA+g1tWL+hSy7XTYT1I4QMDyiEhBBCCCGEEDJMoRASQgghhBBCyDCFQkgIIYQQQgghwxQKISGEEEIIIYQMUyiEhBBCCCGEEDJMoRASMgx48MEHpaOjQ0pKSuT000+Xn/70pwNdpKPm7rvvlsmTJ0tFRYXU1dXJnDlz5JVXXsnYZ+rUqRJFUcY2d+7cASrx0dHb25tV9oaGhvTvDx06JL29vdLU1CSJREKmTp0qv/rVrwawxEdHe3t7Vv2iKJKFCxeKyNDruxdffFFmzZolTU1NEkWRrF+/PuP3/emv9957Ty6//HKpqqqSqqoqufzyy+V3v/vdiaxGkLj6HTx4UG699VaZMGGClJWVSVNTk3z+85+XN954I+MYXp9/9atfPdFVcTlS/82fPz+r7FOmTMnYZ//+/XL99ddLbW2tlJWVycUXXyx79uw5kdVwOVLdvOswiiJZunRpep/B3HeEkGMPhZCQHGfVqlVSVFQkK1askN27d8tNN90k5eXl8vrrrw900Y6KCy+8UB577DH51a9+JS+//LJ8+tOflra2Nvn973+f3mfq1Kly9dVXy1tvvZXe9u7dO4Cl7j+9vb0yfvz4jLK//fbb6d8vWbJEKisrZe3atbJr1y6ZO3euNDU1yf/8z/8MYKn7z9tvv51Rt82bN0sURZJKpURk6PXdxo0bZdGiRbJ27Vo36O5Pf82cOVMmTJgg27Ztk23btsmECRNk1qxZJ7oqLnH127t3r0yfPl1Wr14tr7zyimzfvl2mTJkikyZNyjhGe3u73HnnnRl9+v7775/oqrgcqf/mz58vM2fOzCj7u+++m7HPggULpKWlRTZv3iwvvfSSTJs2TSZOnCj/93//dyKrksWR6mbr9NZbb8mjjz4qeXl58utf/zq9z2DuO0LIsYdCSEiOc8YZZ8iCBQsyPuvu7pbbbrttgEp0bHj77bcliiJ58cUX059NnTpVbrrppgEs1cent7dXJk6c6P7u0KFD0tjYKEuWLEl/tn//fkkmk/K9733vRBXxmHLTTTfJmDFj5NChQyIytPsOg+7+9Nfu3bsliiLZsWNHep/t27dLFEVZ//keaDypQH7xi19IFEUZE03t7e1y//33H+/i/dGEhHDOnDnB7+zdu1eKiopk1apV6c/eeOMNyc/Pl2efffa4lfVo6U/fzZkzR84///yMz4ZK3xFCjg0UQkJymAMHDkhBQYGsW7cu4/Mbb7xRzjvvvAEq1bHh3//93yWKItm1a1f6s6lTp8rIkSOltrZWTj75ZLn55puHzH/Qent70+l3HR0dMnfu3PSM/a9//WuJokheeumljO/Mnj1b/vIv/3IgivtHceDAAamtrZXFixenPxvKfYdBd3/665FHHpFkMpl1rGQyKY8++ujxLfBR0h+p2Lx5s+Tl5cm+ffvSn7W3t0tjY6OMGDFCJk6cKHfddZccOHDgeBf3qAkJYTKZlLq6Ohk3bpxcddVV8t///d/p32/dulWiKJL33nsv43s9PT3yjW9844SUuz8cqe/+67/+SwoLC+XJJ5/M+Hyo9B0h5NhAISQkh3njjTckiiL52c9+lvH54sWLpbOzc4BK9cdz6NAhufjii+Wcc87J+Pz73/++bN68WXbt2iUrV66Ujo4OmT59+gCV8ujYuHGjrFmzRv75n/9ZNm/eLFOnTpWGhgZ555135Gc/+5lEUZT1jNbVV18tM2bMGKASf3xWr14tBQUFGfUZyn2HQXd/+mvx4sUybty4rGONGzdO7r777uNb4KPkSFLxwQcfyKRJk2TevHkZny9btkxeeOEF+ad/+idZsWKFjBw5Uq688srjXdyjxqvfqlWr5Cc/+Yns2rVLfvzjH8vEiRNl/Pjxsn//fhERefLJJ6W4uDjrWBdccIF88YtfPCHl7g9H6rt7771Xampq5IMPPsj4fKj0HSHk2EAhJCSHUSHctm1bxud33XWXdHV1DVCp/ngWLlwo7e3tR1zA4R//8R8liiL55S9/eYJKduz4/e9/Lw0NDfLtb387LRhvvvlmxj5XXXWVXHjhhQNUwo/PjBkzjvis3FDqu5AQxvVXaFJm7Nixcs899xzfAh8lcVJx8OBBmTNnjpx22mkZ/x30WLNmjURRJO+8887xKObHpj//AX3zzTelqKhI1q5dKyJhIZw+fbpcc801x6WcH4cj1a2rq0uuv/76Ix5nsPYdIeTYQCEkJIfJxZTR66+/XlpbW+XVV1894r6HDh3Kes5nKDF9+nRZsGBBTqWM/uY3v5H8/Hz50Y9+FLvfUOq74ZoyevDgQbnkkkukp6enX6Lwn//5n1nPTQ4G+iOEIn2yrs+F5kLK6E9/+lOJokhefvnlIx5nsPYdIeTYQCEkJMc544wz5Nprr8347E/+5E+G3KIyhw4dkuuuu06am5vl3/7t3/r1nV27dmUtPDNU2L9/v7S0tMgdd9yRXqTk3nvvTf/+wIEDQ3JRmd7eXmlsbJQPP/wwdr+h1HehRWXi+ksXlfn5z3+e3mfHjh1DZlEZlcHx48dnrIYbxzPPPJO18MxgoD9C+M4770hJSYk8/vjjInJ4UZnVq1en93nzzTeH1KIy8+fPz1oZNsRg7TtCyLGBQkhIjqOvnXjkkUdk9+7d8qUvfUnKy8vlN7/5zUAX7ai49tprJZlMygsvvJCxFPof/vAHERH5j//4D7njjjvkH/7hH+S1116TDRs2SHd3t5x22mkDvgx8f7j55pvlhRdekFdffVV27Nghs2bNksrKynQ/LVmyRJLJpKxbt0527doll1122ZB67YSIyEcffSRtbW1Z7zMbin33/vvvy86dO2Xnzp0SRZEsW7ZMdu7cmQ6Y+9NfM2fOlJ6eHtm+fbts375dTjnllEHz2om4+n344Ycye/ZsaW1tlZdffjnjetSFR7Zt25b+zquvviqrV6+W5uZmmT179gDXrI+4+r3//vty8803y7Zt2+S1116TVColZ555prS0tGT034IFC6S1tVW2bNkiL730kpx//vmD4rUTRxqbIiL79u2TsrIy+du//dus7w/2viOEHHsohIQMAx588EFpb2+X4uJiOf3004fEf12Q0MuUH3vsMRER+e1vfyvnnXeejBgxQoqLi2XMmDFy4403Zr07bLCi76krKiqS5uZmufTSS+Vf/uVf0r/XF503NjZKSUmJnHfeeRkrrA4FnnvuOYmiSP71X/814/Oh2HepVModj/PnzxeR/vXXu+++K/PmzZPKykqprKyUefPmDZoX08fV77XXXgtej/peyV/+8pcyZcoUSSaTkkgkpKurS3p7e+V///d/B7Zi/5+4+v3hD3+QGTNmSF1dnRQVFUlbW5vMnz9ffvvb32Yc44MPPpDrr79eRowYIaWlpTJr1qysfQaCI41NEZGHHnpISktL3Xd9Dva+I4QceyiEhBBCCCGEEDJMoRASQgghhBBCyDCFQkgIIYQQQgghwxQKISGEEEIIIYQMUyiEhBBCCCGEEDJMoRASQgghhBBCyDCFQkgIIYQQQgghwxQKISGEEEIIIYQMUyiEhBBCCCGEEDJMoRASQgghhBBCyDCFQkgIIYQQQgghwxQKISGEEEIIIYQMUyiEhBBCCCGEEDJMoRASQgghhBBCyDCFQkgIIYQQQgghwxQKISGEEEIIIYQMUyiEhBBCCCGEEDJMoRASQgghhBBCyDCFQkgIIYQQQgghwxQKISGEEEIIIYQMUyiEhBBCCCGEEDJMoRASQgghhBBCyDCFQkgIIYQQQgghw5T/B+d86OD5DKy9AAAAAElFTkSuQmCC\" width=\"900\">"
      ],
      "text/plain": [
       "<IPython.core.display.HTML object>"
      ]
     },
     "metadata": {},
     "output_type": "display_data"
    },
    {
     "data": {
      "application/vnd.jupyter.widget-view+json": {
       "model_id": "789ffb41db2b41d0980a4e5e374187e0",
       "version_major": 2,
       "version_minor": 0
      },
      "text/plain": [
       "HBox(children=(IntRangeSlider(value=(16383, 49151), layout=Layout(width='75%'), max=65535), Button(description…"
      ]
     },
     "metadata": {},
     "output_type": "display_data"
    }
   ],
   "source": [
    "%matplotlib notebook\n",
    "tr.set_don_loc_opts(\"sensor IEk non-act BSA cells\", 1)"
   ]
  },
  {
   "cell_type": "code",
   "execution_count": 10,
   "metadata": {
    "scrolled": false
   },
   "outputs": [
    {
     "data": {
      "application/vnd.jupyter.widget-view+json": {
       "model_id": "c37dbc8ba0a94d249afc31506bd5ac16",
       "version_major": 2,
       "version_minor": 0
      },
      "text/plain": [
       "HBox(children=(VBox(children=(Select(layout=Layout(width='auto'), options=('sensor-IEk_non-act_BSA/cells-21_00…"
      ]
     },
     "metadata": {},
     "output_type": "display_data"
    },
    {
     "data": {
      "application/javascript": [
       "/* Put everything inside the global mpl namespace */\n",
       "window.mpl = {};\n",
       "\n",
       "\n",
       "mpl.get_websocket_type = function() {\n",
       "    if (typeof(WebSocket) !== 'undefined') {\n",
       "        return WebSocket;\n",
       "    } else if (typeof(MozWebSocket) !== 'undefined') {\n",
       "        return MozWebSocket;\n",
       "    } else {\n",
       "        alert('Your browser does not have WebSocket support.' +\n",
       "              'Please try Chrome, Safari or Firefox ≥ 6. ' +\n",
       "              'Firefox 4 and 5 are also supported but you ' +\n",
       "              'have to enable WebSockets in about:config.');\n",
       "    };\n",
       "}\n",
       "\n",
       "mpl.figure = function(figure_id, websocket, ondownload, parent_element) {\n",
       "    this.id = figure_id;\n",
       "\n",
       "    this.ws = websocket;\n",
       "\n",
       "    this.supports_binary = (this.ws.binaryType != undefined);\n",
       "\n",
       "    if (!this.supports_binary) {\n",
       "        var warnings = document.getElementById(\"mpl-warnings\");\n",
       "        if (warnings) {\n",
       "            warnings.style.display = 'block';\n",
       "            warnings.textContent = (\n",
       "                \"This browser does not support binary websocket messages. \" +\n",
       "                    \"Performance may be slow.\");\n",
       "        }\n",
       "    }\n",
       "\n",
       "    this.imageObj = new Image();\n",
       "\n",
       "    this.context = undefined;\n",
       "    this.message = undefined;\n",
       "    this.canvas = undefined;\n",
       "    this.rubberband_canvas = undefined;\n",
       "    this.rubberband_context = undefined;\n",
       "    this.format_dropdown = undefined;\n",
       "\n",
       "    this.image_mode = 'full';\n",
       "\n",
       "    this.root = $('<div/>');\n",
       "    this._root_extra_style(this.root)\n",
       "    this.root.attr('style', 'display: inline-block');\n",
       "\n",
       "    $(parent_element).append(this.root);\n",
       "\n",
       "    this._init_header(this);\n",
       "    this._init_canvas(this);\n",
       "    this._init_toolbar(this);\n",
       "\n",
       "    var fig = this;\n",
       "\n",
       "    this.waiting = false;\n",
       "\n",
       "    this.ws.onopen =  function () {\n",
       "            fig.send_message(\"supports_binary\", {value: fig.supports_binary});\n",
       "            fig.send_message(\"send_image_mode\", {});\n",
       "            if (mpl.ratio != 1) {\n",
       "                fig.send_message(\"set_dpi_ratio\", {'dpi_ratio': mpl.ratio});\n",
       "            }\n",
       "            fig.send_message(\"refresh\", {});\n",
       "        }\n",
       "\n",
       "    this.imageObj.onload = function() {\n",
       "            if (fig.image_mode == 'full') {\n",
       "                // Full images could contain transparency (where diff images\n",
       "                // almost always do), so we need to clear the canvas so that\n",
       "                // there is no ghosting.\n",
       "                fig.context.clearRect(0, 0, fig.canvas.width, fig.canvas.height);\n",
       "            }\n",
       "            fig.context.drawImage(fig.imageObj, 0, 0);\n",
       "        };\n",
       "\n",
       "    this.imageObj.onunload = function() {\n",
       "        fig.ws.close();\n",
       "    }\n",
       "\n",
       "    this.ws.onmessage = this._make_on_message_function(this);\n",
       "\n",
       "    this.ondownload = ondownload;\n",
       "}\n",
       "\n",
       "mpl.figure.prototype._init_header = function() {\n",
       "    var titlebar = $(\n",
       "        '<div class=\"ui-dialog-titlebar ui-widget-header ui-corner-all ' +\n",
       "        'ui-helper-clearfix\"/>');\n",
       "    var titletext = $(\n",
       "        '<div class=\"ui-dialog-title\" style=\"width: 100%; ' +\n",
       "        'text-align: center; padding: 3px;\"/>');\n",
       "    titlebar.append(titletext)\n",
       "    this.root.append(titlebar);\n",
       "    this.header = titletext[0];\n",
       "}\n",
       "\n",
       "\n",
       "\n",
       "mpl.figure.prototype._canvas_extra_style = function(canvas_div) {\n",
       "\n",
       "}\n",
       "\n",
       "\n",
       "mpl.figure.prototype._root_extra_style = function(canvas_div) {\n",
       "\n",
       "}\n",
       "\n",
       "mpl.figure.prototype._init_canvas = function() {\n",
       "    var fig = this;\n",
       "\n",
       "    var canvas_div = $('<div/>');\n",
       "\n",
       "    canvas_div.attr('style', 'position: relative; clear: both; outline: 0');\n",
       "\n",
       "    function canvas_keyboard_event(event) {\n",
       "        return fig.key_event(event, event['data']);\n",
       "    }\n",
       "\n",
       "    canvas_div.keydown('key_press', canvas_keyboard_event);\n",
       "    canvas_div.keyup('key_release', canvas_keyboard_event);\n",
       "    this.canvas_div = canvas_div\n",
       "    this._canvas_extra_style(canvas_div)\n",
       "    this.root.append(canvas_div);\n",
       "\n",
       "    var canvas = $('<canvas/>');\n",
       "    canvas.addClass('mpl-canvas');\n",
       "    canvas.attr('style', \"left: 0; top: 0; z-index: 0; outline: 0\")\n",
       "\n",
       "    this.canvas = canvas[0];\n",
       "    this.context = canvas[0].getContext(\"2d\");\n",
       "\n",
       "    var backingStore = this.context.backingStorePixelRatio ||\n",
       "\tthis.context.webkitBackingStorePixelRatio ||\n",
       "\tthis.context.mozBackingStorePixelRatio ||\n",
       "\tthis.context.msBackingStorePixelRatio ||\n",
       "\tthis.context.oBackingStorePixelRatio ||\n",
       "\tthis.context.backingStorePixelRatio || 1;\n",
       "\n",
       "    mpl.ratio = (window.devicePixelRatio || 1) / backingStore;\n",
       "\n",
       "    var rubberband = $('<canvas/>');\n",
       "    rubberband.attr('style', \"position: absolute; left: 0; top: 0; z-index: 1;\")\n",
       "\n",
       "    var pass_mouse_events = true;\n",
       "\n",
       "    canvas_div.resizable({\n",
       "        start: function(event, ui) {\n",
       "            pass_mouse_events = false;\n",
       "        },\n",
       "        resize: function(event, ui) {\n",
       "            fig.request_resize(ui.size.width, ui.size.height);\n",
       "        },\n",
       "        stop: function(event, ui) {\n",
       "            pass_mouse_events = true;\n",
       "            fig.request_resize(ui.size.width, ui.size.height);\n",
       "        },\n",
       "    });\n",
       "\n",
       "    function mouse_event_fn(event) {\n",
       "        if (pass_mouse_events)\n",
       "            return fig.mouse_event(event, event['data']);\n",
       "    }\n",
       "\n",
       "    rubberband.mousedown('button_press', mouse_event_fn);\n",
       "    rubberband.mouseup('button_release', mouse_event_fn);\n",
       "    // Throttle sequential mouse events to 1 every 20ms.\n",
       "    rubberband.mousemove('motion_notify', mouse_event_fn);\n",
       "\n",
       "    rubberband.mouseenter('figure_enter', mouse_event_fn);\n",
       "    rubberband.mouseleave('figure_leave', mouse_event_fn);\n",
       "\n",
       "    canvas_div.on(\"wheel\", function (event) {\n",
       "        event = event.originalEvent;\n",
       "        event['data'] = 'scroll'\n",
       "        if (event.deltaY < 0) {\n",
       "            event.step = 1;\n",
       "        } else {\n",
       "            event.step = -1;\n",
       "        }\n",
       "        mouse_event_fn(event);\n",
       "    });\n",
       "\n",
       "    canvas_div.append(canvas);\n",
       "    canvas_div.append(rubberband);\n",
       "\n",
       "    this.rubberband = rubberband;\n",
       "    this.rubberband_canvas = rubberband[0];\n",
       "    this.rubberband_context = rubberband[0].getContext(\"2d\");\n",
       "    this.rubberband_context.strokeStyle = \"#000000\";\n",
       "\n",
       "    this._resize_canvas = function(width, height) {\n",
       "        // Keep the size of the canvas, canvas container, and rubber band\n",
       "        // canvas in synch.\n",
       "        canvas_div.css('width', width)\n",
       "        canvas_div.css('height', height)\n",
       "\n",
       "        canvas.attr('width', width * mpl.ratio);\n",
       "        canvas.attr('height', height * mpl.ratio);\n",
       "        canvas.attr('style', 'width: ' + width + 'px; height: ' + height + 'px;');\n",
       "\n",
       "        rubberband.attr('width', width);\n",
       "        rubberband.attr('height', height);\n",
       "    }\n",
       "\n",
       "    // Set the figure to an initial 600x600px, this will subsequently be updated\n",
       "    // upon first draw.\n",
       "    this._resize_canvas(600, 600);\n",
       "\n",
       "    // Disable right mouse context menu.\n",
       "    $(this.rubberband_canvas).bind(\"contextmenu\",function(e){\n",
       "        return false;\n",
       "    });\n",
       "\n",
       "    function set_focus () {\n",
       "        canvas.focus();\n",
       "        canvas_div.focus();\n",
       "    }\n",
       "\n",
       "    window.setTimeout(set_focus, 100);\n",
       "}\n",
       "\n",
       "mpl.figure.prototype._init_toolbar = function() {\n",
       "    var fig = this;\n",
       "\n",
       "    var nav_element = $('<div/>')\n",
       "    nav_element.attr('style', 'width: 100%');\n",
       "    this.root.append(nav_element);\n",
       "\n",
       "    // Define a callback function for later on.\n",
       "    function toolbar_event(event) {\n",
       "        return fig.toolbar_button_onclick(event['data']);\n",
       "    }\n",
       "    function toolbar_mouse_event(event) {\n",
       "        return fig.toolbar_button_onmouseover(event['data']);\n",
       "    }\n",
       "\n",
       "    for(var toolbar_ind in mpl.toolbar_items) {\n",
       "        var name = mpl.toolbar_items[toolbar_ind][0];\n",
       "        var tooltip = mpl.toolbar_items[toolbar_ind][1];\n",
       "        var image = mpl.toolbar_items[toolbar_ind][2];\n",
       "        var method_name = mpl.toolbar_items[toolbar_ind][3];\n",
       "\n",
       "        if (!name) {\n",
       "            // put a spacer in here.\n",
       "            continue;\n",
       "        }\n",
       "        var button = $('<button/>');\n",
       "        button.addClass('ui-button ui-widget ui-state-default ui-corner-all ' +\n",
       "                        'ui-button-icon-only');\n",
       "        button.attr('role', 'button');\n",
       "        button.attr('aria-disabled', 'false');\n",
       "        button.click(method_name, toolbar_event);\n",
       "        button.mouseover(tooltip, toolbar_mouse_event);\n",
       "\n",
       "        var icon_img = $('<span/>');\n",
       "        icon_img.addClass('ui-button-icon-primary ui-icon');\n",
       "        icon_img.addClass(image);\n",
       "        icon_img.addClass('ui-corner-all');\n",
       "\n",
       "        var tooltip_span = $('<span/>');\n",
       "        tooltip_span.addClass('ui-button-text');\n",
       "        tooltip_span.html(tooltip);\n",
       "\n",
       "        button.append(icon_img);\n",
       "        button.append(tooltip_span);\n",
       "\n",
       "        nav_element.append(button);\n",
       "    }\n",
       "\n",
       "    var fmt_picker_span = $('<span/>');\n",
       "\n",
       "    var fmt_picker = $('<select/>');\n",
       "    fmt_picker.addClass('mpl-toolbar-option ui-widget ui-widget-content');\n",
       "    fmt_picker_span.append(fmt_picker);\n",
       "    nav_element.append(fmt_picker_span);\n",
       "    this.format_dropdown = fmt_picker[0];\n",
       "\n",
       "    for (var ind in mpl.extensions) {\n",
       "        var fmt = mpl.extensions[ind];\n",
       "        var option = $(\n",
       "            '<option/>', {selected: fmt === mpl.default_extension}).html(fmt);\n",
       "        fmt_picker.append(option)\n",
       "    }\n",
       "\n",
       "    // Add hover states to the ui-buttons\n",
       "    $( \".ui-button\" ).hover(\n",
       "        function() { $(this).addClass(\"ui-state-hover\");},\n",
       "        function() { $(this).removeClass(\"ui-state-hover\");}\n",
       "    );\n",
       "\n",
       "    var status_bar = $('<span class=\"mpl-message\"/>');\n",
       "    nav_element.append(status_bar);\n",
       "    this.message = status_bar[0];\n",
       "}\n",
       "\n",
       "mpl.figure.prototype.request_resize = function(x_pixels, y_pixels) {\n",
       "    // Request matplotlib to resize the figure. Matplotlib will then trigger a resize in the client,\n",
       "    // which will in turn request a refresh of the image.\n",
       "    this.send_message('resize', {'width': x_pixels, 'height': y_pixels});\n",
       "}\n",
       "\n",
       "mpl.figure.prototype.send_message = function(type, properties) {\n",
       "    properties['type'] = type;\n",
       "    properties['figure_id'] = this.id;\n",
       "    this.ws.send(JSON.stringify(properties));\n",
       "}\n",
       "\n",
       "mpl.figure.prototype.send_draw_message = function() {\n",
       "    if (!this.waiting) {\n",
       "        this.waiting = true;\n",
       "        this.ws.send(JSON.stringify({type: \"draw\", figure_id: this.id}));\n",
       "    }\n",
       "}\n",
       "\n",
       "\n",
       "mpl.figure.prototype.handle_save = function(fig, msg) {\n",
       "    var format_dropdown = fig.format_dropdown;\n",
       "    var format = format_dropdown.options[format_dropdown.selectedIndex].value;\n",
       "    fig.ondownload(fig, format);\n",
       "}\n",
       "\n",
       "\n",
       "mpl.figure.prototype.handle_resize = function(fig, msg) {\n",
       "    var size = msg['size'];\n",
       "    if (size[0] != fig.canvas.width || size[1] != fig.canvas.height) {\n",
       "        fig._resize_canvas(size[0], size[1]);\n",
       "        fig.send_message(\"refresh\", {});\n",
       "    };\n",
       "}\n",
       "\n",
       "mpl.figure.prototype.handle_rubberband = function(fig, msg) {\n",
       "    var x0 = msg['x0'] / mpl.ratio;\n",
       "    var y0 = (fig.canvas.height - msg['y0']) / mpl.ratio;\n",
       "    var x1 = msg['x1'] / mpl.ratio;\n",
       "    var y1 = (fig.canvas.height - msg['y1']) / mpl.ratio;\n",
       "    x0 = Math.floor(x0) + 0.5;\n",
       "    y0 = Math.floor(y0) + 0.5;\n",
       "    x1 = Math.floor(x1) + 0.5;\n",
       "    y1 = Math.floor(y1) + 0.5;\n",
       "    var min_x = Math.min(x0, x1);\n",
       "    var min_y = Math.min(y0, y1);\n",
       "    var width = Math.abs(x1 - x0);\n",
       "    var height = Math.abs(y1 - y0);\n",
       "\n",
       "    fig.rubberband_context.clearRect(\n",
       "        0, 0, fig.canvas.width, fig.canvas.height);\n",
       "\n",
       "    fig.rubberband_context.strokeRect(min_x, min_y, width, height);\n",
       "}\n",
       "\n",
       "mpl.figure.prototype.handle_figure_label = function(fig, msg) {\n",
       "    // Updates the figure title.\n",
       "    fig.header.textContent = msg['label'];\n",
       "}\n",
       "\n",
       "mpl.figure.prototype.handle_cursor = function(fig, msg) {\n",
       "    var cursor = msg['cursor'];\n",
       "    switch(cursor)\n",
       "    {\n",
       "    case 0:\n",
       "        cursor = 'pointer';\n",
       "        break;\n",
       "    case 1:\n",
       "        cursor = 'default';\n",
       "        break;\n",
       "    case 2:\n",
       "        cursor = 'crosshair';\n",
       "        break;\n",
       "    case 3:\n",
       "        cursor = 'move';\n",
       "        break;\n",
       "    }\n",
       "    fig.rubberband_canvas.style.cursor = cursor;\n",
       "}\n",
       "\n",
       "mpl.figure.prototype.handle_message = function(fig, msg) {\n",
       "    fig.message.textContent = msg['message'];\n",
       "}\n",
       "\n",
       "mpl.figure.prototype.handle_draw = function(fig, msg) {\n",
       "    // Request the server to send over a new figure.\n",
       "    fig.send_draw_message();\n",
       "}\n",
       "\n",
       "mpl.figure.prototype.handle_image_mode = function(fig, msg) {\n",
       "    fig.image_mode = msg['mode'];\n",
       "}\n",
       "\n",
       "mpl.figure.prototype.updated_canvas_event = function() {\n",
       "    // Called whenever the canvas gets updated.\n",
       "    this.send_message(\"ack\", {});\n",
       "}\n",
       "\n",
       "// A function to construct a web socket function for onmessage handling.\n",
       "// Called in the figure constructor.\n",
       "mpl.figure.prototype._make_on_message_function = function(fig) {\n",
       "    return function socket_on_message(evt) {\n",
       "        if (evt.data instanceof Blob) {\n",
       "            /* FIXME: We get \"Resource interpreted as Image but\n",
       "             * transferred with MIME type text/plain:\" errors on\n",
       "             * Chrome.  But how to set the MIME type?  It doesn't seem\n",
       "             * to be part of the websocket stream */\n",
       "            evt.data.type = \"image/png\";\n",
       "\n",
       "            /* Free the memory for the previous frames */\n",
       "            if (fig.imageObj.src) {\n",
       "                (window.URL || window.webkitURL).revokeObjectURL(\n",
       "                    fig.imageObj.src);\n",
       "            }\n",
       "\n",
       "            fig.imageObj.src = (window.URL || window.webkitURL).createObjectURL(\n",
       "                evt.data);\n",
       "            fig.updated_canvas_event();\n",
       "            fig.waiting = false;\n",
       "            return;\n",
       "        }\n",
       "        else if (typeof evt.data === 'string' && evt.data.slice(0, 21) == \"data:image/png;base64\") {\n",
       "            fig.imageObj.src = evt.data;\n",
       "            fig.updated_canvas_event();\n",
       "            fig.waiting = false;\n",
       "            return;\n",
       "        }\n",
       "\n",
       "        var msg = JSON.parse(evt.data);\n",
       "        var msg_type = msg['type'];\n",
       "\n",
       "        // Call the  \"handle_{type}\" callback, which takes\n",
       "        // the figure and JSON message as its only arguments.\n",
       "        try {\n",
       "            var callback = fig[\"handle_\" + msg_type];\n",
       "        } catch (e) {\n",
       "            console.log(\"No handler for the '\" + msg_type + \"' message type: \", msg);\n",
       "            return;\n",
       "        }\n",
       "\n",
       "        if (callback) {\n",
       "            try {\n",
       "                // console.log(\"Handling '\" + msg_type + \"' message: \", msg);\n",
       "                callback(fig, msg);\n",
       "            } catch (e) {\n",
       "                console.log(\"Exception inside the 'handler_\" + msg_type + \"' callback:\", e, e.stack, msg);\n",
       "            }\n",
       "        }\n",
       "    };\n",
       "}\n",
       "\n",
       "// from http://stackoverflow.com/questions/1114465/getting-mouse-location-in-canvas\n",
       "mpl.findpos = function(e) {\n",
       "    //this section is from http://www.quirksmode.org/js/events_properties.html\n",
       "    var targ;\n",
       "    if (!e)\n",
       "        e = window.event;\n",
       "    if (e.target)\n",
       "        targ = e.target;\n",
       "    else if (e.srcElement)\n",
       "        targ = e.srcElement;\n",
       "    if (targ.nodeType == 3) // defeat Safari bug\n",
       "        targ = targ.parentNode;\n",
       "\n",
       "    // jQuery normalizes the pageX and pageY\n",
       "    // pageX,Y are the mouse positions relative to the document\n",
       "    // offset() returns the position of the element relative to the document\n",
       "    var x = e.pageX - $(targ).offset().left;\n",
       "    var y = e.pageY - $(targ).offset().top;\n",
       "\n",
       "    return {\"x\": x, \"y\": y};\n",
       "};\n",
       "\n",
       "/*\n",
       " * return a copy of an object with only non-object keys\n",
       " * we need this to avoid circular references\n",
       " * http://stackoverflow.com/a/24161582/3208463\n",
       " */\n",
       "function simpleKeys (original) {\n",
       "  return Object.keys(original).reduce(function (obj, key) {\n",
       "    if (typeof original[key] !== 'object')\n",
       "        obj[key] = original[key]\n",
       "    return obj;\n",
       "  }, {});\n",
       "}\n",
       "\n",
       "mpl.figure.prototype.mouse_event = function(event, name) {\n",
       "    var canvas_pos = mpl.findpos(event)\n",
       "\n",
       "    if (name === 'button_press')\n",
       "    {\n",
       "        this.canvas.focus();\n",
       "        this.canvas_div.focus();\n",
       "    }\n",
       "\n",
       "    var x = canvas_pos.x * mpl.ratio;\n",
       "    var y = canvas_pos.y * mpl.ratio;\n",
       "\n",
       "    this.send_message(name, {x: x, y: y, button: event.button,\n",
       "                             step: event.step,\n",
       "                             guiEvent: simpleKeys(event)});\n",
       "\n",
       "    /* This prevents the web browser from automatically changing to\n",
       "     * the text insertion cursor when the button is pressed.  We want\n",
       "     * to control all of the cursor setting manually through the\n",
       "     * 'cursor' event from matplotlib */\n",
       "    event.preventDefault();\n",
       "    return false;\n",
       "}\n",
       "\n",
       "mpl.figure.prototype._key_event_extra = function(event, name) {\n",
       "    // Handle any extra behaviour associated with a key event\n",
       "}\n",
       "\n",
       "mpl.figure.prototype.key_event = function(event, name) {\n",
       "\n",
       "    // Prevent repeat events\n",
       "    if (name == 'key_press')\n",
       "    {\n",
       "        if (event.which === this._key)\n",
       "            return;\n",
       "        else\n",
       "            this._key = event.which;\n",
       "    }\n",
       "    if (name == 'key_release')\n",
       "        this._key = null;\n",
       "\n",
       "    var value = '';\n",
       "    if (event.ctrlKey && event.which != 17)\n",
       "        value += \"ctrl+\";\n",
       "    if (event.altKey && event.which != 18)\n",
       "        value += \"alt+\";\n",
       "    if (event.shiftKey && event.which != 16)\n",
       "        value += \"shift+\";\n",
       "\n",
       "    value += 'k';\n",
       "    value += event.which.toString();\n",
       "\n",
       "    this._key_event_extra(event, name);\n",
       "\n",
       "    this.send_message(name, {key: value,\n",
       "                             guiEvent: simpleKeys(event)});\n",
       "    return false;\n",
       "}\n",
       "\n",
       "mpl.figure.prototype.toolbar_button_onclick = function(name) {\n",
       "    if (name == 'download') {\n",
       "        this.handle_save(this, null);\n",
       "    } else {\n",
       "        this.send_message(\"toolbar_button\", {name: name});\n",
       "    }\n",
       "};\n",
       "\n",
       "mpl.figure.prototype.toolbar_button_onmouseover = function(tooltip) {\n",
       "    this.message.textContent = tooltip;\n",
       "};\n",
       "mpl.toolbar_items = [[\"Home\", \"Reset original view\", \"fa fa-home icon-home\", \"home\"], [\"Back\", \"Back to  previous view\", \"fa fa-arrow-left icon-arrow-left\", \"back\"], [\"Forward\", \"Forward to next view\", \"fa fa-arrow-right icon-arrow-right\", \"forward\"], [\"\", \"\", \"\", \"\"], [\"Pan\", \"Pan axes with left mouse, zoom with right\", \"fa fa-arrows icon-move\", \"pan\"], [\"Zoom\", \"Zoom to rectangle\", \"fa fa-square-o icon-check-empty\", \"zoom\"], [\"\", \"\", \"\", \"\"], [\"Download\", \"Download plot\", \"fa fa-floppy-o icon-save\", \"download\"]];\n",
       "\n",
       "mpl.extensions = [\"eps\", \"jpeg\", \"pdf\", \"png\", \"ps\", \"raw\", \"svg\", \"tif\"];\n",
       "\n",
       "mpl.default_extension = \"png\";var comm_websocket_adapter = function(comm) {\n",
       "    // Create a \"websocket\"-like object which calls the given IPython comm\n",
       "    // object with the appropriate methods. Currently this is a non binary\n",
       "    // socket, so there is still some room for performance tuning.\n",
       "    var ws = {};\n",
       "\n",
       "    ws.close = function() {\n",
       "        comm.close()\n",
       "    };\n",
       "    ws.send = function(m) {\n",
       "        //console.log('sending', m);\n",
       "        comm.send(m);\n",
       "    };\n",
       "    // Register the callback with on_msg.\n",
       "    comm.on_msg(function(msg) {\n",
       "        //console.log('receiving', msg['content']['data'], msg);\n",
       "        // Pass the mpl event to the overridden (by mpl) onmessage function.\n",
       "        ws.onmessage(msg['content']['data'])\n",
       "    });\n",
       "    return ws;\n",
       "}\n",
       "\n",
       "mpl.mpl_figure_comm = function(comm, msg) {\n",
       "    // This is the function which gets called when the mpl process\n",
       "    // starts-up an IPython Comm through the \"matplotlib\" channel.\n",
       "\n",
       "    var id = msg.content.data.id;\n",
       "    // Get hold of the div created by the display call when the Comm\n",
       "    // socket was opened in Python.\n",
       "    var element = $(\"#\" + id);\n",
       "    var ws_proxy = comm_websocket_adapter(comm)\n",
       "\n",
       "    function ondownload(figure, format) {\n",
       "        window.open(figure.imageObj.src);\n",
       "    }\n",
       "\n",
       "    var fig = new mpl.figure(id, ws_proxy,\n",
       "                           ondownload,\n",
       "                           element.get(0));\n",
       "\n",
       "    // Call onopen now - mpl needs it, as it is assuming we've passed it a real\n",
       "    // web socket which is closed, not our websocket->open comm proxy.\n",
       "    ws_proxy.onopen();\n",
       "\n",
       "    fig.parent_element = element.get(0);\n",
       "    fig.cell_info = mpl.find_output_cell(\"<div id='\" + id + \"'></div>\");\n",
       "    if (!fig.cell_info) {\n",
       "        console.error(\"Failed to find cell for figure\", id, fig);\n",
       "        return;\n",
       "    }\n",
       "\n",
       "    var output_index = fig.cell_info[2]\n",
       "    var cell = fig.cell_info[0];\n",
       "\n",
       "};\n",
       "\n",
       "mpl.figure.prototype.handle_close = function(fig, msg) {\n",
       "    var width = fig.canvas.width/mpl.ratio\n",
       "    fig.root.unbind('remove')\n",
       "\n",
       "    // Update the output cell to use the data from the current canvas.\n",
       "    fig.push_to_output();\n",
       "    var dataURL = fig.canvas.toDataURL();\n",
       "    // Re-enable the keyboard manager in IPython - without this line, in FF,\n",
       "    // the notebook keyboard shortcuts fail.\n",
       "    IPython.keyboard_manager.enable()\n",
       "    $(fig.parent_element).html('<img src=\"' + dataURL + '\" width=\"' + width + '\">');\n",
       "    fig.close_ws(fig, msg);\n",
       "}\n",
       "\n",
       "mpl.figure.prototype.close_ws = function(fig, msg){\n",
       "    fig.send_message('closing', msg);\n",
       "    // fig.ws.close()\n",
       "}\n",
       "\n",
       "mpl.figure.prototype.push_to_output = function(remove_interactive) {\n",
       "    // Turn the data on the canvas into data in the output cell.\n",
       "    var width = this.canvas.width/mpl.ratio\n",
       "    var dataURL = this.canvas.toDataURL();\n",
       "    this.cell_info[1]['text/html'] = '<img src=\"' + dataURL + '\" width=\"' + width + '\">';\n",
       "}\n",
       "\n",
       "mpl.figure.prototype.updated_canvas_event = function() {\n",
       "    // Tell IPython that the notebook contents must change.\n",
       "    IPython.notebook.set_dirty(true);\n",
       "    this.send_message(\"ack\", {});\n",
       "    var fig = this;\n",
       "    // Wait a second, then push the new image to the DOM so\n",
       "    // that it is saved nicely (might be nice to debounce this).\n",
       "    setTimeout(function () { fig.push_to_output() }, 1000);\n",
       "}\n",
       "\n",
       "mpl.figure.prototype._init_toolbar = function() {\n",
       "    var fig = this;\n",
       "\n",
       "    var nav_element = $('<div/>')\n",
       "    nav_element.attr('style', 'width: 100%');\n",
       "    this.root.append(nav_element);\n",
       "\n",
       "    // Define a callback function for later on.\n",
       "    function toolbar_event(event) {\n",
       "        return fig.toolbar_button_onclick(event['data']);\n",
       "    }\n",
       "    function toolbar_mouse_event(event) {\n",
       "        return fig.toolbar_button_onmouseover(event['data']);\n",
       "    }\n",
       "\n",
       "    for(var toolbar_ind in mpl.toolbar_items){\n",
       "        var name = mpl.toolbar_items[toolbar_ind][0];\n",
       "        var tooltip = mpl.toolbar_items[toolbar_ind][1];\n",
       "        var image = mpl.toolbar_items[toolbar_ind][2];\n",
       "        var method_name = mpl.toolbar_items[toolbar_ind][3];\n",
       "\n",
       "        if (!name) { continue; };\n",
       "\n",
       "        var button = $('<button class=\"btn btn-default\" href=\"#\" title=\"' + name + '\"><i class=\"fa ' + image + ' fa-lg\"></i></button>');\n",
       "        button.click(method_name, toolbar_event);\n",
       "        button.mouseover(tooltip, toolbar_mouse_event);\n",
       "        nav_element.append(button);\n",
       "    }\n",
       "\n",
       "    // Add the status bar.\n",
       "    var status_bar = $('<span class=\"mpl-message\" style=\"text-align:right; float: right;\"/>');\n",
       "    nav_element.append(status_bar);\n",
       "    this.message = status_bar[0];\n",
       "\n",
       "    // Add the close button to the window.\n",
       "    var buttongrp = $('<div class=\"btn-group inline pull-right\"></div>');\n",
       "    var button = $('<button class=\"btn btn-mini btn-primary\" href=\"#\" title=\"Stop Interaction\"><i class=\"fa fa-power-off icon-remove icon-large\"></i></button>');\n",
       "    button.click(function (evt) { fig.handle_close(fig, {}); } );\n",
       "    button.mouseover('Stop Interaction', toolbar_mouse_event);\n",
       "    buttongrp.append(button);\n",
       "    var titlebar = this.root.find($('.ui-dialog-titlebar'));\n",
       "    titlebar.prepend(buttongrp);\n",
       "}\n",
       "\n",
       "mpl.figure.prototype._root_extra_style = function(el){\n",
       "    var fig = this\n",
       "    el.on(\"remove\", function(){\n",
       "\tfig.close_ws(fig, {});\n",
       "    });\n",
       "}\n",
       "\n",
       "mpl.figure.prototype._canvas_extra_style = function(el){\n",
       "    // this is important to make the div 'focusable\n",
       "    el.attr('tabindex', 0)\n",
       "    // reach out to IPython and tell the keyboard manager to turn it's self\n",
       "    // off when our div gets focus\n",
       "\n",
       "    // location in version 3\n",
       "    if (IPython.notebook.keyboard_manager) {\n",
       "        IPython.notebook.keyboard_manager.register_events(el);\n",
       "    }\n",
       "    else {\n",
       "        // location in version 2\n",
       "        IPython.keyboard_manager.register_events(el);\n",
       "    }\n",
       "\n",
       "}\n",
       "\n",
       "mpl.figure.prototype._key_event_extra = function(event, name) {\n",
       "    var manager = IPython.notebook.keyboard_manager;\n",
       "    if (!manager)\n",
       "        manager = IPython.keyboard_manager;\n",
       "\n",
       "    // Check for shift+enter\n",
       "    if (event.shiftKey && event.which == 13) {\n",
       "        this.canvas_div.blur();\n",
       "        event.shiftKey = false;\n",
       "        // Send a \"J\" for go to next cell\n",
       "        event.which = 74;\n",
       "        event.keyCode = 74;\n",
       "        manager.command_mode();\n",
       "        manager.handle_keydown(event);\n",
       "    }\n",
       "}\n",
       "\n",
       "mpl.figure.prototype.handle_save = function(fig, msg) {\n",
       "    fig.ondownload(fig, null);\n",
       "}\n",
       "\n",
       "\n",
       "mpl.find_output_cell = function(html_output) {\n",
       "    // Return the cell and output element which can be found *uniquely* in the notebook.\n",
       "    // Note - this is a bit hacky, but it is done because the \"notebook_saving.Notebook\"\n",
       "    // IPython event is triggered only after the cells have been serialised, which for\n",
       "    // our purposes (turning an active figure into a static one), is too late.\n",
       "    var cells = IPython.notebook.get_cells();\n",
       "    var ncells = cells.length;\n",
       "    for (var i=0; i<ncells; i++) {\n",
       "        var cell = cells[i];\n",
       "        if (cell.cell_type === 'code'){\n",
       "            for (var j=0; j<cell.output_area.outputs.length; j++) {\n",
       "                var data = cell.output_area.outputs[j];\n",
       "                if (data.data) {\n",
       "                    // IPython >= 3 moved mimebundle to data attribute of output\n",
       "                    data = data.data;\n",
       "                }\n",
       "                if (data['text/html'] == html_output) {\n",
       "                    return [cell, data, j];\n",
       "                }\n",
       "            }\n",
       "        }\n",
       "    }\n",
       "}\n",
       "\n",
       "// Register the function which deals with the matplotlib target/channel.\n",
       "// The kernel may be null if the page has been refreshed.\n",
       "if (IPython.notebook.kernel != null) {\n",
       "    IPython.notebook.kernel.comm_manager.register_target('matplotlib', mpl.mpl_figure_comm);\n",
       "}\n"
      ],
      "text/plain": [
       "<IPython.core.display.Javascript object>"
      ]
     },
     "metadata": {},
     "output_type": "display_data"
    },
    {
     "data": {
      "text/html": [
       "<img src=\"data:image/png;base64,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\" width=\"900\">"
      ],
      "text/plain": [
       "<IPython.core.display.HTML object>"
      ]
     },
     "metadata": {},
     "output_type": "display_data"
    },
    {
     "data": {
      "application/vnd.jupyter.widget-view+json": {
       "model_id": "707ac4b7bb874071ab2ba2ce079af644",
       "version_major": 2,
       "version_minor": 0
      },
      "text/plain": [
       "HBox(children=(IntRangeSlider(value=(16383, 49151), layout=Layout(width='75%'), max=65535), Button(description…"
      ]
     },
     "metadata": {},
     "output_type": "display_data"
    }
   ],
   "source": [
    "tr.set_acc_loc_opts(\"sensor IEk non-act BSA cells\", 0)"
   ]
  },
  {
   "cell_type": "code",
   "execution_count": 11,
   "metadata": {
    "scrolled": true
   },
   "outputs": [
    {
     "data": {
      "application/vnd.jupyter.widget-view+json": {
       "model_id": "87d001ac617a44e39bb5857fa3f06364",
       "version_major": 2,
       "version_minor": 0
      },
      "text/plain": [
       "Label(value='Starting…')"
      ]
     },
     "metadata": {},
     "output_type": "display_data"
    }
   ],
   "source": [
    "tr.locate()"
   ]
  },
  {
   "cell_type": "code",
   "execution_count": 12,
   "metadata": {},
   "outputs": [
    {
     "data": {
      "application/vnd.jupyter.widget-view+json": {
       "model_id": "ddc16fb862204775b619a44d1302b7a8",
       "version_major": 2,
       "version_minor": 0
      },
      "text/plain": [
       "Label(value='Starting…')"
      ]
     },
     "metadata": {},
     "output_type": "display_data"
    }
   ],
   "source": [
    "tr.track(feat_radius=4, bg_frame=3, link_radius=2, link_mem=3, min_length=4, bg_estimator=\"mean\")"
   ]
  },
  {
   "cell_type": "code",
   "execution_count": 13,
   "metadata": {},
   "outputs": [],
   "source": [
    "tr.analyze()"
   ]
  },
  {
   "cell_type": "code",
   "execution_count": 6,
   "metadata": {},
   "outputs": [],
   "source": [
    "tr.save()"
   ]
  },
  {
   "cell_type": "code",
   "execution_count": null,
   "metadata": {},
   "outputs": [],
   "source": []
  }
 ],
 "metadata": {
  "anaconda-cloud": {},
  "kernelspec": {
   "display_name": "Python 3",
   "language": "python",
   "name": "python3"
  },
  "language_info": {
   "codemirror_mode": {
    "name": "ipython",
    "version": 3
   },
   "file_extension": ".py",
   "mimetype": "text/x-python",
   "name": "python",
   "nbconvert_exporter": "python",
   "pygments_lexer": "ipython3",
   "version": "3.6.6"
  },
  "nbpresent": {
   "slides": {
    "20fa0cd3-020c-4d9f-bcba-4e50c0c0a5d1": {
     "id": "20fa0cd3-020c-4d9f-bcba-4e50c0c0a5d1",
     "prev": "76433211-a936-400b-84f3-6a2fb80db8f1",
     "regions": {
      "2fd4244b-acc8-4dfc-babd-08c1db7b747a": {
       "attrs": {
        "height": 0.8,
        "width": 0.45,
        "x": 0.5,
        "y": 0.1
       },
       "content": {
        "cell": "dc9c3e3e-8794-45c2-9297-5d25775cf3f7",
        "part": "outputs"
       },
       "id": "2fd4244b-acc8-4dfc-babd-08c1db7b747a"
      },
      "5c5edddc-6415-40e9-a5ac-ffb546f82ef7": {
       "attrs": {
        "height": 0.8,
        "width": 0.45,
        "x": 0.05,
        "y": 0.1
       },
       "content": {
        "cell": "bd5405cb-53b0-416d-8790-3c6d72aad18e",
        "part": "outputs"
       },
       "id": "5c5edddc-6415-40e9-a5ac-ffb546f82ef7"
      }
     }
    },
    "76433211-a936-400b-84f3-6a2fb80db8f1": {
     "id": "76433211-a936-400b-84f3-6a2fb80db8f1",
     "prev": "e09ecffc-34f4-4a8f-a2cc-3ee776e5e11d",
     "regions": {
      "5fabb9bc-7563-43b0-a27e-45df2ab0d7b2": {
       "attrs": {
        "height": 0.8,
        "width": 0.45,
        "x": 0.5,
        "y": 0.1
       },
       "content": {
        "cell": "f96fc3f9-f52c-4eef-a51d-820ae20139f8",
        "part": "outputs"
       },
       "id": "5fabb9bc-7563-43b0-a27e-45df2ab0d7b2"
      },
      "ceaa665e-b68f-495f-957b-5a9b2e940e15": {
       "attrs": {
        "height": 0.8,
        "width": 0.45,
        "x": 0.05,
        "y": 0.1
       },
       "content": {
        "cell": "08649e84-4e91-4f9b-abca-7afff2065f6f",
        "part": "outputs"
       },
       "id": "ceaa665e-b68f-495f-957b-5a9b2e940e15"
      }
     }
    },
    "e09ecffc-34f4-4a8f-a2cc-3ee776e5e11d": {
     "id": "e09ecffc-34f4-4a8f-a2cc-3ee776e5e11d",
     "prev": null,
     "regions": {
      "3991d937-36e0-4d56-804e-4e9f31be78f5": {
       "attrs": {
        "height": 0.1500000000000001,
        "width": 0.44999999999999996,
        "x": 0.25,
        "y": 0.1
       },
       "content": {
        "cell": "8802d2db-c6c7-47ab-8e4f-3469fe66f891",
        "part": "widgets"
       },
       "id": "3991d937-36e0-4d56-804e-4e9f31be78f5"
      },
      "e0df44c7-b500-4da1-9614-784f74a93bae": {
       "attrs": {
        "height": 0.6,
        "width": 0.8,
        "x": 0.10000000000000002,
        "y": 0.3
       },
       "content": {
        "cell": "8802d2db-c6c7-47ab-8e4f-3469fe66f891",
        "part": "outputs"
       },
       "id": "e0df44c7-b500-4da1-9614-784f74a93bae"
      }
     }
    }
   },
   "themes": {}
  },
  "widgets": {
   "application/vnd.jupyter.widget-state+json": {
    "state": {
     "0018c04d4b2749a4897ec5711d0a8a1b": {
      "model_module": "@jupyter-widgets/controls",
      "model_module_version": "1.2.0",
      "model_name": "DescriptionStyleModel",
      "state": {
       "description_width": ""
      }
     },
     "0018d2c8cdc24975953919ccc4a08340": {
      "model_module": "@jupyter-widgets/controls",
      "model_module_version": "1.2.0",
      "model_name": "IntRangeSliderModel",
      "state": {
       "_model_name": "IntRangeSliderModel",
       "_view_name": "IntRangeSliderView",
       "layout": "IPY_MODEL_e8f899ae81b342c3a754c989ebecfc61",
       "max": 65535,
       "style": "IPY_MODEL_ca3928b3edc542b58ac4ba639b5d69ba",
       "value": [
        134,
        25393
       ]
      }
     },
     "002fad1c936943c5a2f2e933f8c91d83": {
      "model_module": "@jupyter-widgets/base",
      "model_module_version": "1.0.0",
      "model_name": "LayoutModel",
      "state": {
       "height": "150px",
       "width": "100%"
      }
     },
     "004a165785f648a6af498860645ce22a": {
      "model_module": "@jupyter-widgets/base",
      "model_module_version": "1.0.0",
      "model_name": "LayoutModel",
      "state": {
       "display": "none"
      }
     },
     "005559a6669f4d2b82b23960f9ad2cb3": {
      "model_module": "@jupyter-widgets/controls",
      "model_module_version": "1.2.0",
      "model_name": "BoundedIntTextModel",
      "state": {
       "description": "frame",
       "layout": "IPY_MODEL_17611348fb7d45928e9f9acdc16169f9",
       "max": 0,
       "style": "IPY_MODEL_1426a3465bbb49f9a45da3139f641ba9"
      }
     },
     "005a080a10004a2c8d90773f71f9702c": {
      "model_module": "@jupyter-widgets/controls",
      "model_module_version": "1.2.0",
      "model_name": "DropdownModel",
      "state": {
       "_options_labels": [
        "2d_fixed",
        "2d",
        "3d"
       ],
       "description": "model",
       "index": 1,
       "layout": "IPY_MODEL_cfa32745ebd04dfb992444c4c45e14fc",
       "style": "IPY_MODEL_203ba0904d38451fb868de08497577ce"
      }
     },
     "00c8c197117140f2832e70472620dcf6": {
      "model_module": "@jupyter-widgets/controls",
      "model_module_version": "1.2.0",
      "model_name": "DescriptionStyleModel",
      "state": {
       "description_width": ""
      }
     },
     "00d2c26445ad4dca886c63ad1b249952": {
      "model_module": "@jupyter-widgets/controls",
      "model_module_version": "1.2.0",
      "model_name": "DescriptionStyleModel",
      "state": {
       "description_width": ""
      }
     },
     "00de74018a174b87b954fff29cd962b5": {
      "model_module": "@jupyter-widgets/base",
      "model_module_version": "1.0.0",
      "model_name": "LayoutModel",
      "state": {
       "display": "inline"
      }
     },
     "00f6af30c0f74e0aa80c801130e3da5a": {
      "model_module": "@jupyter-widgets/base",
      "model_module_version": "1.0.0",
      "model_name": "LayoutModel",
      "state": {
       "width": "75%"
      }
     },
     "0104da1552564463929855cbc2b05593": {
      "model_module": "@jupyter-widgets/controls",
      "model_module_version": "1.2.0",
      "model_name": "DescriptionStyleModel",
      "state": {
       "description_width": ""
      }
     },
     "01201ffdcbff4b7d99f12629d45e4765": {
      "model_module": "@jupyter-widgets/base",
      "model_module_version": "1.0.0",
      "model_name": "LayoutModel",
      "state": {
       "height": "150px",
       "width": "100%"
      }
     },
     "01736be456ab4639a4e5f0f48f300839": {
      "model_module": "@jupyter-widgets/base",
      "model_module_version": "1.0.0",
      "model_name": "LayoutModel",
      "state": {
       "display": "none"
      }
     },
     "01a04dad67354b949f6a51b8bd6ab6ce": {
      "model_module": "@jupyter-widgets/controls",
      "model_module_version": "1.2.0",
      "model_name": "FloatTextModel",
      "state": {
       "description": "min.",
       "layout": "IPY_MODEL_56176a1911624df796d721ccf19324b6",
       "step": 0.1,
       "style": "IPY_MODEL_b44f50020b3f47899df9d43f22800286",
       "value": 0.5
      }
     },
     "01a2af9cf5104fb89fd4349bdc5dadb0": {
      "model_module": "@jupyter-widgets/controls",
      "model_module_version": "1.2.0",
      "model_name": "ButtonModel",
      "state": {
       "description": "Auto",
       "layout": "IPY_MODEL_6f3d645ca24d406081c03e962d90f5a0",
       "style": "IPY_MODEL_911e291299a9413694e2a31039eee35d"
      }
     },
     "01c8d0a55d0d48fdb32ed0408d82c1f5": {
      "model_module": "@jupyter-widgets/base",
      "model_module_version": "1.0.0",
      "model_name": "LayoutModel",
      "state": {
       "display": "flex",
       "flex_flow": "column wrap",
       "width": "66%"
      }
     },
     "01f6114e99c54035b39fe440e01986c9": {
      "model_module": "@jupyter-widgets/controls",
      "model_module_version": "1.2.0",
      "model_name": "DescriptionStyleModel",
      "state": {
       "description_width": ""
      }
     },
     "01f6fc6969b24911a349404d837bbf45": {
      "model_module": "@jupyter-widgets/base",
      "model_module_version": "1.0.0",
      "model_name": "LayoutModel",
      "state": {}
     },
     "01f7febb058f4a6ab60dfa074be2473d": {
      "model_module": "@jupyter-widgets/base",
      "model_module_version": "1.0.0",
      "model_name": "LayoutModel",
      "state": {}
     },
     "0200b780536d46a68b76eabe0aa9c320": {
      "model_module": "@jupyter-widgets/controls",
      "model_module_version": "1.2.0",
      "model_name": "DropdownModel",
      "state": {
       "_options_labels": [
        "2d_fixed",
        "2d",
        "3d"
       ],
       "description": "model",
       "index": 1,
       "layout": "IPY_MODEL_224958830e62412ab889b6ed9fa99549",
       "style": "IPY_MODEL_238977709bdf4273955dfeab92032af3"
      }
     },
     "0203ed12b70147ab820d372e3bb3afd2": {
      "model_module": "@jupyter-widgets/controls",
      "model_module_version": "1.2.0",
      "model_name": "CheckboxModel",
      "state": {
       "description": "Size range",
       "disabled": false,
       "indent": false,
       "layout": "IPY_MODEL_a2616790db824ffeb65d14eceec14934",
       "style": "IPY_MODEL_ad796e7bca5a42e5a14af119f386b4f3",
       "value": false
      }
     },
     "022d4e6b9d2b4ef29ad13e4759bdf303": {
      "model_module": "@jupyter-widgets/controls",
      "model_module_version": "1.2.0",
      "model_name": "DescriptionStyleModel",
      "state": {
       "description_width": ""
      }
     },
     "0261f9e62b234439873402d336041a69": {
      "model_module": "@jupyter-widgets/base",
      "model_module_version": "1.0.0",
      "model_name": "LayoutModel",
      "state": {
       "display": "flex",
       "flex_flow": "column wrap",
       "width": "66%"
      }
     },
     "027b45db01154a21918c8441fdd464ab": {
      "model_module": "@jupyter-widgets/controls",
      "model_module_version": "1.2.0",
      "model_name": "FloatTextModel",
      "state": {
       "description": "sigma",
       "layout": "IPY_MODEL_cdab3f1ca1a844ac9a1c96886bcb7f1a",
       "step": 0.1,
       "style": "IPY_MODEL_1850dec0b94841749bdb0da2fcf7727e",
       "value": 1
      }
     },
     "0296a0f59d2b495eacb4a67dee643a45": {
      "model_module": "@jupyter-widgets/controls",
      "model_module_version": "1.2.0",
      "model_name": "DescriptionStyleModel",
      "state": {
       "description_width": ""
      }
     },
     "02a6d4c29bb34dc0bc5e9aed5d5a181c": {
      "model_module": "@jupyter-widgets/controls",
      "model_module_version": "1.2.0",
      "model_name": "DescriptionStyleModel",
      "state": {
       "description_width": ""
      }
     },
     "030beaf9a07c41708ef5d2a2e0be05f5": {
      "model_module": "@jupyter-widgets/base",
      "model_module_version": "1.0.0",
      "model_name": "LayoutModel",
      "state": {}
     },
     "036084afd6684ecb9dbf7a29de25ccbe": {
      "model_module": "@jupyter-widgets/controls",
      "model_module_version": "1.2.0",
      "model_name": "HBoxModel",
      "state": {
       "children": [
        "IPY_MODEL_e4b7ecda4ad2471eb30d35e20928ad25",
        "IPY_MODEL_aaf69e05d407466fbe2eec239cc90280"
       ],
       "layout": "IPY_MODEL_52b0b62b8f1f4cd5bce7e1cce59de77c"
      }
     },
     "03a3c44633d2479eb3411c8dabba1b26": {
      "model_module": "@jupyter-widgets/base",
      "model_module_version": "1.0.0",
      "model_name": "LayoutModel",
      "state": {}
     },
     "03aea725465c47fa9e097730c1678540": {
      "model_module": "@jupyter-widgets/base",
      "model_module_version": "1.0.0",
      "model_name": "LayoutModel",
      "state": {
       "display": "none"
      }
     },
     "03bd1f0914ee43919dc47922430145b1": {
      "model_module": "@jupyter-widgets/base",
      "model_module_version": "1.0.0",
      "model_name": "LayoutModel",
      "state": {
       "display": "none"
      }
     },
     "03bdc5d00f804a5f8446fe02ee16e61c": {
      "model_module": "@jupyter-widgets/controls",
      "model_module_version": "1.2.0",
      "model_name": "DescriptionStyleModel",
      "state": {
       "description_width": ""
      }
     },
     "03d007fe573c4c9cbc5e4ea7cb9d0326": {
      "model_module": "@jupyter-widgets/base",
      "model_module_version": "1.0.0",
      "model_name": "LayoutModel",
      "state": {
       "width": "auto"
      }
     },
     "03d928f519d64a2f9d4c52fa72ca46b6": {
      "model_module": "@jupyter-widgets/controls",
      "model_module_version": "1.2.0",
      "model_name": "VBoxModel",
      "state": {
       "children": [
        "IPY_MODEL_c8cf22efdacb441780a9aa8333ed026b",
        "IPY_MODEL_a29e98e632534b93a0297f84f985a715",
        "IPY_MODEL_4e99d039977c47e3b8eba971c359fe29",
        "IPY_MODEL_ab316c8c91c44fa8aaa0cc813e57bfe0",
        "IPY_MODEL_b9d61e8c852c46c0ae27e1f2932f1f1c",
        "IPY_MODEL_e0096b38b7aa4a74a77947079110a333"
       ],
       "layout": "IPY_MODEL_7809e59803954e9ea3f3fb2f18196cbd"
      }
     },
     "0409ab0ac45f4d6b9b8e29003830c6c8": {
      "model_module": "@jupyter-widgets/controls",
      "model_module_version": "1.2.0",
      "model_name": "CheckboxModel",
      "state": {
       "description": "Size range",
       "disabled": false,
       "indent": false,
       "layout": "IPY_MODEL_2e5dcae31e52441794fbc41e8ead87db",
       "style": "IPY_MODEL_d589a64ea0144e829816e9d737a2d6bc",
       "value": false
      }
     },
     "042ebc57e42b4549895c60f4edbf265d": {
      "model_module": "@jupyter-widgets/base",
      "model_module_version": "1.0.0",
      "model_name": "LayoutModel",
      "state": {}
     },
     "0456f5bd127e43acb9f732da112bdd05": {
      "model_module": "@jupyter-widgets/controls",
      "model_module_version": "1.2.0",
      "model_name": "VBoxModel",
      "state": {
       "children": [
        "IPY_MODEL_9e4ae6a9292d4d9fbf87d5349ce243a7",
        "IPY_MODEL_4a51c13f3cd54ae98aa108b595a29848"
       ],
       "layout": "IPY_MODEL_285746af59934c1f9dc7dec16ecc850a"
      }
     },
     "047b67ca52234b498d91b3ffeb8eca13": {
      "model_module": "@jupyter-widgets/controls",
      "model_module_version": "1.2.0",
      "model_name": "DescriptionStyleModel",
      "state": {
       "description_width": ""
      }
     },
     "04c134ec844f48518c4d43fadfc470b3": {
      "model_module": "@jupyter-widgets/controls",
      "model_module_version": "1.2.0",
      "model_name": "DescriptionStyleModel",
      "state": {
       "description_width": ""
      }
     },
     "04fdb9be1ec84e91900284c7a9256bea": {
      "model_module": "@jupyter-widgets/controls",
      "model_module_version": "1.2.0",
      "model_name": "FloatTextModel",
      "state": {
       "description": "radius",
       "layout": "IPY_MODEL_640cbdf5fd58499cbf65b6ac96918d91",
       "step": 0.1,
       "style": "IPY_MODEL_586ea51ad54b431dbb7953698bff4f35",
       "value": 1
      }
     },
     "051997f9d6024dc8af51f2a4058dfa7b": {
      "model_module": "@jupyter-widgets/controls",
      "model_module_version": "1.2.0",
      "model_name": "SelectModel",
      "state": {
       "_options_labels": [
        "sensor-H57/cells-01_SAv-100k_SSS-H57-20k_000_.SPE"
       ],
       "index": 0,
       "layout": "IPY_MODEL_694f05a775e044d99aa44d6e58b4a1df",
       "style": "IPY_MODEL_865d1a7cd7b948548f2f7bb0f5eda00d"
      }
     },
     "0524bbc1993d499ab516047e3e4ae8ef": {
      "model_module": "@jupyter-widgets/base",
      "model_module_version": "1.0.0",
      "model_name": "LayoutModel",
      "state": {}
     },
     "05434a78486b4f4fb282f2cf32bb38c2": {
      "model_module": "@jupyter-widgets/controls",
      "model_module_version": "1.2.0",
      "model_name": "VBoxModel",
      "state": {
       "children": [
        "IPY_MODEL_adf40acda44f4b9b85e18c7a602df93c",
        "IPY_MODEL_11e567c07a2947178f7856bc1e3177b7"
       ],
       "layout": "IPY_MODEL_08c700fd289b431f93dfd8c2acd90d83"
      }
     },
     "0556af0fe8ce4c26887e936312cfee70": {
      "model_module": "@jupyter-widgets/base",
      "model_module_version": "1.0.0",
      "model_name": "LayoutModel",
      "state": {
       "width": "auto"
      }
     },
     "056306537363474c8160e61694a424b4": {
      "model_module": "@jupyter-widgets/base",
      "model_module_version": "1.0.0",
      "model_name": "LayoutModel",
      "state": {}
     },
     "057f5b2e771b4affac01583cff8c1586": {
      "model_module": "@jupyter-widgets/controls",
      "model_module_version": "1.2.0",
      "model_name": "VBoxModel",
      "state": {
       "children": [
        "IPY_MODEL_8d671eebba524806afd5190d5e9a294e",
        "IPY_MODEL_24f230003cf34f44811eff269324db40"
       ],
       "layout": "IPY_MODEL_65630ef9ee4e474da824e0ddc15db440"
      }
     },
     "05b4ec877b804dcbb86c36c410f637c7": {
      "model_module": "@jupyter-widgets/base",
      "model_module_version": "1.0.0",
      "model_name": "LayoutModel",
      "state": {
       "display": "none"
      }
     },
     "05c83d8adb7a4dababc3d43a13d279d9": {
      "model_module": "@jupyter-widgets/controls",
      "model_module_version": "1.2.0",
      "model_name": "FloatTextModel",
      "state": {
       "description": "radius",
       "layout": "IPY_MODEL_172a497724ce402ebdf3e897cdc66b6a",
       "step": 0.1,
       "style": "IPY_MODEL_16f404d292a64112972a0e9303c52ff0",
       "value": 1
      }
     },
     "05d857c2e8504550a4718576d51adb6e": {
      "model_module": "@jupyter-widgets/controls",
      "model_module_version": "1.2.0",
      "model_name": "DescriptionStyleModel",
      "state": {
       "description_width": ""
      }
     },
     "05e0d564a0d3408bba633bcffd12cb3f": {
      "model_module": "@jupyter-widgets/base",
      "model_module_version": "1.0.0",
      "model_name": "LayoutModel",
      "state": {
       "width": "auto"
      }
     },
     "0621e68317c3484c843c55c54ace5a2e": {
      "model_module": "@jupyter-widgets/controls",
      "model_module_version": "1.2.0",
      "model_name": "DescriptionStyleModel",
      "state": {
       "description_width": ""
      }
     },
     "063a0a7144d44c968349e73ffdaafdfe": {
      "model_module": "@jupyter-widgets/controls",
      "model_module_version": "1.2.0",
      "model_name": "DescriptionStyleModel",
      "state": {
       "description_width": ""
      }
     },
     "06913487a458403db576442098aaf641": {
      "model_module": "@jupyter-widgets/controls",
      "model_module_version": "1.2.0",
      "model_name": "FloatTextModel",
      "state": {
       "description": "radius",
       "layout": "IPY_MODEL_3c545a405b674051b41100b62fdf4ca2",
       "step": 0.1,
       "style": "IPY_MODEL_ea0b6a5546d9429ea7de2c7325b94dc9",
       "value": 1
      }
     },
     "06ba97282e1f4df59bebd0e0fd71431e": {
      "model_module": "@jupyter-widgets/controls",
      "model_module_version": "1.2.0",
      "model_name": "DescriptionStyleModel",
      "state": {
       "description_width": ""
      }
     },
     "07322f2872994b62a67e3ecc71961d7c": {
      "model_module": "@jupyter-widgets/base",
      "model_module_version": "1.0.0",
      "model_name": "LayoutModel",
      "state": {
       "height": "150px",
       "width": "100%"
      }
     },
     "07510a80d1154ce0a25057b5c67d278e": {
      "model_module": "@jupyter-widgets/base",
      "model_module_version": "1.0.0",
      "model_name": "LayoutModel",
      "state": {}
     },
     "07751bd64e3b49d794716b8557be9e28": {
      "model_module": "@jupyter-widgets/controls",
      "model_module_version": "1.2.0",
      "model_name": "HBoxModel",
      "state": {
       "children": [
        "IPY_MODEL_8dc6f662a26d4004be642e35900832e6",
        "IPY_MODEL_c9281a9444b342ccaeea5bbe41437cdf"
       ],
       "layout": "IPY_MODEL_0d75f16430f04176b6d02fbe5a4cb578"
      }
     },
     "078f43c2886840b78d1209cb7dd1867a": {
      "model_module": "@jupyter-widgets/base",
      "model_module_version": "1.0.0",
      "model_name": "LayoutModel",
      "state": {}
     },
     "07ac523a740a4fe68f24c1ab8535c730": {
      "model_module": "@jupyter-widgets/base",
      "model_module_version": "1.0.0",
      "model_name": "LayoutModel",
      "state": {
       "width": "auto"
      }
     },
     "07ba1d809e7c4ee195754d8378541f95": {
      "model_module": "@jupyter-widgets/controls",
      "model_module_version": "1.2.0",
      "model_name": "FloatTextModel",
      "state": {
       "layout": "IPY_MODEL_fae526bc39354f31b449fbcf1ccffccb",
       "step": 0.1,
       "style": "IPY_MODEL_e372ba2d74b8463db4786dc761cb09eb",
       "value": 3
      }
     },
     "07c8ae6842234a828cdc5b7ad6386b73": {
      "model_module": "@jupyter-widgets/controls",
      "model_module_version": "1.2.0",
      "model_name": "FloatTextModel",
      "state": {
       "description": "radius",
       "layout": "IPY_MODEL_4100fe56dc0b474794a0e0181f531fa2",
       "step": 0.1,
       "style": "IPY_MODEL_e671edec20394f92b29c23c6cad1c372",
       "value": 1
      }
     },
     "07cc9f950bd74e1d9b27e3b600f67ccb": {
      "model_module": "@jupyter-widgets/controls",
      "model_module_version": "1.2.0",
      "model_name": "DescriptionStyleModel",
      "state": {
       "description_width": ""
      }
     },
     "08031491c93e44c89351b873ef2d2793": {
      "model_module": "@jupyter-widgets/base",
      "model_module_version": "1.0.0",
      "model_name": "LayoutModel",
      "state": {
       "display": "flex",
       "flex_flow": "column wrap",
       "width": "66%"
      }
     },
     "083e49bdb54143db8c07ed01ba581d4c": {
      "model_module": "@jupyter-widgets/controls",
      "model_module_version": "1.2.0",
      "model_name": "DescriptionStyleModel",
      "state": {
       "description_width": ""
      }
     },
     "0842280875f046f9bd4875c3380bfbad": {
      "model_module": "@jupyter-widgets/controls",
      "model_module_version": "1.2.0",
      "model_name": "SliderStyleModel",
      "state": {
       "description_width": ""
      }
     },
     "0861d974a75343e6ad8cf9bb30904b63": {
      "model_module": "@jupyter-widgets/base",
      "model_module_version": "1.0.0",
      "model_name": "LayoutModel",
      "state": {}
     },
     "08c700fd289b431f93dfd8c2acd90d83": {
      "model_module": "@jupyter-widgets/base",
      "model_module_version": "1.0.0",
      "model_name": "LayoutModel",
      "state": {}
     },
     "08cbf097b5044a9e9658b1d5c04785f4": {
      "model_module": "@jupyter-widgets/base",
      "model_module_version": "1.0.0",
      "model_name": "LayoutModel",
      "state": {}
     },
     "08d3390a8eb14b92a51410e0026a657c": {
      "model_module": "@jupyter-widgets/base",
      "model_module_version": "1.0.0",
      "model_name": "LayoutModel",
      "state": {
       "width": "auto"
      }
     },
     "091ad8f59a174e4c8ab5ec61361a4982": {
      "model_module": "@jupyter-widgets/controls",
      "model_module_version": "1.2.0",
      "model_name": "HBoxModel",
      "state": {
       "children": [
        "IPY_MODEL_0c2c821c11174c3181f541a202aabba8",
        "IPY_MODEL_cb1aa06d48374c2a8b0ffa29b92d25dc",
        "IPY_MODEL_a0a29a1f59f34253bb259655681ce3bd"
       ],
       "layout": "IPY_MODEL_54ee6f9886ed45c598dc7148a36a5ee5"
      }
     },
     "094dc0a79c5448bcb2cc027f7dbdbf13": {
      "model_module": "@jupyter-widgets/controls",
      "model_module_version": "1.2.0",
      "model_name": "DescriptionStyleModel",
      "state": {
       "description_width": ""
      }
     },
     "09565482a60f468594efd05d8d47ce33": {
      "model_module": "@jupyter-widgets/controls",
      "model_module_version": "1.2.0",
      "model_name": "DescriptionStyleModel",
      "state": {
       "description_width": ""
      }
     },
     "0957f0c2e0354c03bd87e808879cf3bb": {
      "model_module": "@jupyter-widgets/base",
      "model_module_version": "1.0.0",
      "model_name": "LayoutModel",
      "state": {
       "display": "inline"
      }
     },
     "095a4faaffa94acba0dd70dc2c9df44f": {
      "model_module": "@jupyter-widgets/controls",
      "model_module_version": "1.2.0",
      "model_name": "SliderStyleModel",
      "state": {
       "description_width": ""
      }
     },
     "098bb99af1444004b3183b58bee89a05": {
      "model_module": "@jupyter-widgets/base",
      "model_module_version": "1.0.0",
      "model_name": "LayoutModel",
      "state": {
       "display": "inline"
      }
     },
     "099afe946aed4e08b18ee60ecfe3b28b": {
      "model_module": "@jupyter-widgets/controls",
      "model_module_version": "1.2.0",
      "model_name": "HBoxModel",
      "state": {
       "children": [
        "IPY_MODEL_5e1159f85fd74644919df2bb3f051ffa",
        "IPY_MODEL_27c2f36460284101b93dd9865d56f8cd"
       ],
       "layout": "IPY_MODEL_c866b561794e42ffbd8a5935d2516349"
      }
     },
     "09b5f256ed1e4788b8e416dda6f8b13d": {
      "model_module": "@jupyter-widgets/controls",
      "model_module_version": "1.2.0",
      "model_name": "SliderStyleModel",
      "state": {
       "description_width": ""
      }
     },
     "09c44b7191ff4e899246f49643253bb7": {
      "model_module": "@jupyter-widgets/controls",
      "model_module_version": "1.2.0",
      "model_name": "DescriptionStyleModel",
      "state": {
       "description_width": ""
      }
     },
     "0a68c8db6a294839898bb1fc2f78bc02": {
      "model_module": "@jupyter-widgets/controls",
      "model_module_version": "1.2.0",
      "model_name": "SelectModel",
      "state": {
       "_options_labels": [
        "sensor-H57/cells-01_SAv-100k_SSS-H57-20k_000_.SPE"
       ],
       "index": 0,
       "layout": "IPY_MODEL_33b505d4898344e08bee75837efdc0c8",
       "style": "IPY_MODEL_3c575d413417433c9323336b0c3bb3ab"
      }
     },
     "0ab698786cec42bc8fdf23c17c963c07": {
      "model_module": "@jupyter-widgets/controls",
      "model_module_version": "1.2.0",
      "model_name": "CheckboxModel",
      "state": {
       "description": "Min. distance",
       "disabled": false,
       "indent": false,
       "layout": "IPY_MODEL_fb4924fb8fa347eb9e2cb3a4a5a80dbb",
       "style": "IPY_MODEL_908ebcf6e38043ebb72d731b3bc73225",
       "value": true
      }
     },
     "0ab92ff91b114e2daa93551ba7b31491": {
      "model_module": "@jupyter-widgets/base",
      "model_module_version": "1.0.0",
      "model_name": "LayoutModel",
      "state": {
       "width": "auto"
      }
     },
     "0adcae1437194ade8015c833911ed5f2": {
      "model_module": "@jupyter-widgets/base",
      "model_module_version": "1.0.0",
      "model_name": "LayoutModel",
      "state": {
       "display": "none"
      }
     },
     "0b016037b1b242e09c406091965d5de8": {
      "model_module": "@jupyter-widgets/controls",
      "model_module_version": "1.2.0",
      "model_name": "DescriptionStyleModel",
      "state": {
       "description_width": ""
      }
     },
     "0b1698841e0d421eb716eafdd81dd2d8": {
      "model_module": "@jupyter-widgets/base",
      "model_module_version": "1.0.0",
      "model_name": "LayoutModel",
      "state": {
       "width": "100%"
      }
     },
     "0b26403315784fb28513a6a4c21f2802": {
      "model_module": "@jupyter-widgets/base",
      "model_module_version": "1.0.0",
      "model_name": "LayoutModel",
      "state": {}
     },
     "0b268781f879496594ca2800dad1d7b6": {
      "model_module": "@jupyter-widgets/controls",
      "model_module_version": "1.2.0",
      "model_name": "VBoxModel",
      "state": {
       "children": [
        "IPY_MODEL_04fdb9be1ec84e91900284c7a9256bea",
        "IPY_MODEL_b80d9fa544a9403f812443b83f778e0b",
        "IPY_MODEL_c02e2719552f4f6f8a7163d508f464e5",
        "IPY_MODEL_99ac8c78982f43ed9a357414fce0e531",
        "IPY_MODEL_1c1dc811f4d24013a84188335929fb18",
        "IPY_MODEL_fd853b0b90924fb6a53b45d7f2f9f5de"
       ],
       "layout": "IPY_MODEL_c0c6fbf615274e70adf571485cf9d79d"
      }
     },
     "0b4f80b3350848c2bb999d8c38dce5e9": {
      "model_module": "@jupyter-widgets/controls",
      "model_module_version": "1.2.0",
      "model_name": "DropdownModel",
      "state": {
       "_options_labels": [
        "Identity",
        "Cg",
        "Gaussian"
       ],
       "description": "find filter",
       "index": 1,
       "layout": "IPY_MODEL_1298c2f018fa484983e6191c3898cf91",
       "style": "IPY_MODEL_af5d88a7eb814276beaffbf600ae6e4b"
      }
     },
     "0b7488dc0c1a4be3a881714889f948cc": {
      "model_module": "@jupyter-widgets/controls",
      "model_module_version": "1.2.0",
      "model_name": "BoundedIntTextModel",
      "state": {
       "description": "frame",
       "layout": "IPY_MODEL_d73383bfe9e84b2091b2f51a95d1fb57",
       "max": 0,
       "style": "IPY_MODEL_d7c003ad030e43d7920d916a0cd7b2d3"
      }
     },
     "0bb803444c5846469a6bf6be5e47a7e4": {
      "model_module": "@jupyter-widgets/controls",
      "model_module_version": "1.2.0",
      "model_name": "DescriptionStyleModel",
      "state": {
       "description_width": ""
      }
     },
     "0bbae70001a54bdfa7504e058d9a2e55": {
      "model_module": "@jupyter-widgets/base",
      "model_module_version": "1.0.0",
      "model_name": "LayoutModel",
      "state": {
       "display": "none"
      }
     },
     "0bd360a680314cf9ae5ad3f3958c587e": {
      "model_module": "@jupyter-widgets/base",
      "model_module_version": "1.0.0",
      "model_name": "LayoutModel",
      "state": {
       "width": "100%"
      }
     },
     "0c124c81a4ff4f639e468eb91b806fcc": {
      "model_module": "@jupyter-widgets/controls",
      "model_module_version": "1.2.0",
      "model_name": "DescriptionStyleModel",
      "state": {
       "description_width": ""
      }
     },
     "0c2c821c11174c3181f541a202aabba8": {
      "model_module": "@jupyter-widgets/controls",
      "model_module_version": "1.2.0",
      "model_name": "IntRangeSliderModel",
      "state": {
       "_model_name": "IntRangeSliderModel",
       "_view_name": "IntRangeSliderView",
       "layout": "IPY_MODEL_00f6af30c0f74e0aa80c801130e3da5a",
       "max": 65535,
       "style": "IPY_MODEL_0dea4a80553942d89e25df014d6ee707",
       "value": [
        133,
        967
       ]
      }
     },
     "0c6814e20e264632b34c7a9ba47b467d": {
      "model_module": "@jupyter-widgets/base",
      "model_module_version": "1.0.0",
      "model_name": "LayoutModel",
      "state": {}
     },
     "0c9b1166092a416bafb4ec0991ca6558": {
      "model_module": "@jupyter-widgets/base",
      "model_module_version": "1.0.0",
      "model_name": "LayoutModel",
      "state": {
       "width": "auto"
      }
     },
     "0cc2a9ebd0594ea6838949bf57e197fc": {
      "model_module": "@jupyter-widgets/controls",
      "model_module_version": "1.2.0",
      "model_name": "CheckboxModel",
      "state": {
       "description": "Show loc.",
       "disabled": false,
       "indent": false,
       "layout": "IPY_MODEL_37ef0d8b772140dfbf59b4763913ae43",
       "style": "IPY_MODEL_51367cd976a94f70a43509ca261a2281",
       "value": true
      }
     },
     "0cd50c8a59d14bb2ba55e998b7433045": {
      "model_module": "@jupyter-widgets/controls",
      "model_module_version": "1.2.0",
      "model_name": "ButtonStyleModel",
      "state": {}
     },
     "0cdd03ac64564b4c9f06551bd032c8e4": {
      "model_module": "@jupyter-widgets/controls",
      "model_module_version": "1.2.0",
      "model_name": "DescriptionStyleModel",
      "state": {
       "description_width": ""
      }
     },
     "0cde23ecad0b4d89b0284fcc52027cab": {
      "model_module": "@jupyter-widgets/controls",
      "model_module_version": "1.2.0",
      "model_name": "DescriptionStyleModel",
      "state": {
       "description_width": ""
      }
     },
     "0cea7e65dde3457aa96dbed8b7568a9b": {
      "model_module": "@jupyter-widgets/controls",
      "model_module_version": "1.2.0",
      "model_name": "FloatTextModel",
      "state": {
       "layout": "IPY_MODEL_fc6acbe5624b473093f3740247f56ee1",
       "step": 0.1,
       "style": "IPY_MODEL_3b3b7dd44e824c8b806aee7c8bb1e065",
       "value": 1
      }
     },
     "0d28e98bb1b740e9b120e4d2ed3ef1b9": {
      "model_module": "@jupyter-widgets/base",
      "model_module_version": "1.0.0",
      "model_name": "LayoutModel",
      "state": {
       "width": "auto"
      }
     },
     "0d3893c8ef9e4b89a5cb9014ed8248c1": {
      "model_module": "@jupyter-widgets/controls",
      "model_module_version": "1.2.0",
      "model_name": "DescriptionStyleModel",
      "state": {
       "description_width": ""
      }
     },
     "0d66c1f375ac41059427cca0ddc0d82a": {
      "model_module": "@jupyter-widgets/controls",
      "model_module_version": "1.2.0",
      "model_name": "DescriptionStyleModel",
      "state": {
       "description_width": ""
      }
     },
     "0d6a2440340e489fad4981a43b1605fb": {
      "model_module": "@jupyter-widgets/base",
      "model_module_version": "1.0.0",
      "model_name": "LayoutModel",
      "state": {
       "height": "150px",
       "width": "100%"
      }
     },
     "0d75f16430f04176b6d02fbe5a4cb578": {
      "model_module": "@jupyter-widgets/base",
      "model_module_version": "1.0.0",
      "model_name": "LayoutModel",
      "state": {}
     },
     "0dad7982ad9346ffab27dbee023aab10": {
      "model_module": "@jupyter-widgets/controls",
      "model_module_version": "1.2.0",
      "model_name": "IntTextModel",
      "state": {
       "description": "feat. size",
       "layout": "IPY_MODEL_90aad56497fd4a5ea38f011e38008929",
       "step": 1,
       "style": "IPY_MODEL_d2f150c4a8744343a106dbf84685e7dc",
       "value": 3
      }
     },
     "0de1c5355cd847b3a4c630d31a3c7fb3": {
      "model_module": "@jupyter-widgets/controls",
      "model_module_version": "1.2.0",
      "model_name": "SelectModel",
      "state": {
       "_options_labels": [
        "data/beads/beads_000_.SPE",
        "data/beads/beads_001_.SPE",
        "data/beads/beads_002_.SPE",
        "data/beads/beads_003_.SPE",
        "data/beads/beads_004_.SPE",
        "data/beads/beads_005_.SPE",
        "data/beads/beads_006_.SPE",
        "data/beads/beads_007_.SPE",
        "data/beads/beads_008_.SPE",
        "data/beads/beads_009_.SPE"
       ],
       "index": 2,
       "layout": "IPY_MODEL_de5dcfa265124cf994457d534f2c4215",
       "style": "IPY_MODEL_99c464f01fd644c0a79237b476adc7af"
      }
     },
     "0dea4a80553942d89e25df014d6ee707": {
      "model_module": "@jupyter-widgets/controls",
      "model_module_version": "1.2.0",
      "model_name": "SliderStyleModel",
      "state": {
       "description_width": ""
      }
     },
     "0e0fc3f0530442bba3c7061cba46620f": {
      "model_module": "@jupyter-widgets/base",
      "model_module_version": "1.0.0",
      "model_name": "LayoutModel",
      "state": {
       "display": "flex",
       "flex_flow": "column wrap",
       "width": "66%"
      }
     },
     "0e15b4ab70e64fb69be8687a31917ad0": {
      "model_module": "@jupyter-widgets/base",
      "model_module_version": "1.0.0",
      "model_name": "LayoutModel",
      "state": {
       "width": "auto"
      }
     },
     "0e4f94f81e074cf5a19d35943215a729": {
      "model_module": "@jupyter-widgets/controls",
      "model_module_version": "1.2.0",
      "model_name": "CheckboxModel",
      "state": {
       "description": "Min. distance",
       "disabled": false,
       "indent": false,
       "layout": "IPY_MODEL_3be64c840f9c483681797b6d67d67b27",
       "style": "IPY_MODEL_1cd9165871484cebae6f2ee4b0feeb3a",
       "value": false
      }
     },
     "0e53dd625aaf4141a1a499dd154d5c97": {
      "model_module": "@jupyter-widgets/controls",
      "model_module_version": "1.2.0",
      "model_name": "FloatTextModel",
      "state": {
       "description": "min.",
       "layout": "IPY_MODEL_ef96b9ee0b834f7ebd60e3a76226f34e",
       "step": 0.1,
       "style": "IPY_MODEL_af599191dcb649338ccbb3cea8cfeb03",
       "value": 0.5
      }
     },
     "0e846b7ba4e8427b88c38ae508539120": {
      "model_module": "@jupyter-widgets/controls",
      "model_module_version": "1.2.0",
      "model_name": "DescriptionStyleModel",
      "state": {
       "description_width": ""
      }
     },
     "0e96033702ba4048a8f6c44f2bd69146": {
      "model_module": "@jupyter-widgets/controls",
      "model_module_version": "1.2.0",
      "model_name": "HBoxModel",
      "state": {
       "children": [
        "IPY_MODEL_56ddf30c3b54448eaac9adb02d973201",
        "IPY_MODEL_6da725d532d3441487b7c2d1168108aa"
       ],
       "layout": "IPY_MODEL_5663bea537e443eeaf6cc92c7c239ccd"
      }
     },
     "0ebbc1d754194a6794d3a380493e0363": {
      "model_module": "@jupyter-widgets/controls",
      "model_module_version": "1.2.0",
      "model_name": "HBoxModel",
      "state": {
       "children": [
        "IPY_MODEL_ebfe0329c9a54c26a8d0d1bc90fd1a37",
        "IPY_MODEL_c76a669be50c46c1b514303101b0de0e",
        "IPY_MODEL_74ba6fa1846d4103a14d6c2c08919732"
       ],
       "layout": "IPY_MODEL_810a209724294271b83a49d267f14a22"
      }
     },
     "0ec48eb6111c4e2d84fcf0f14db3e192": {
      "model_module": "@jupyter-widgets/controls",
      "model_module_version": "1.2.0",
      "model_name": "HBoxModel",
      "state": {
       "children": [
        "IPY_MODEL_f7f0349594174e56aa4cc491edcb7149",
        "IPY_MODEL_43d66b0944744ebda42365d083675a51"
       ],
       "layout": "IPY_MODEL_4d26ee6060214ff5b2a24bb3784c0591"
      }
     },
     "0ecb2e4660f94784a1958fd57ec03801": {
      "model_module": "@jupyter-widgets/base",
      "model_module_version": "1.0.0",
      "model_name": "LayoutModel",
      "state": {}
     },
     "0ef1d040c6c04fb7864e43dfd058b198": {
      "model_module": "@jupyter-widgets/controls",
      "model_module_version": "1.2.0",
      "model_name": "FloatTextModel",
      "state": {
       "description": "threshold",
       "layout": "IPY_MODEL_958e349bb2f843249adb8d750bd6ce15",
       "step": 10,
       "style": "IPY_MODEL_9cd8c13726d9400fb744a6ad4f4ee915",
       "value": 1000
      }
     },
     "0f1e09de113d4707bfbd3b083df35a52": {
      "model_module": "@jupyter-widgets/controls",
      "model_module_version": "1.2.0",
      "model_name": "DropdownModel",
      "state": {
       "_options_labels": [
        "2d_fixed",
        "2d",
        "3d"
       ],
       "description": "model",
       "index": 1,
       "layout": "IPY_MODEL_01f6fc6969b24911a349404d837bbf45",
       "style": "IPY_MODEL_2a6e1b9ea69042ccb479bd8922b4c3e3"
      }
     },
     "0f239a73f8c247669d67dbaed55521ee": {
      "model_module": "@jupyter-widgets/controls",
      "model_module_version": "1.2.0",
      "model_name": "FloatTextModel",
      "state": {
       "description": "max.",
       "layout": "IPY_MODEL_9c1237db10024290bd907058ca89ce61",
       "step": 0.1,
       "style": "IPY_MODEL_1a3ce324352f43739e089ba40bb8356d",
       "value": 2
      }
     },
     "0f6bb27f3b3e40e092dfb62abeb2476e": {
      "model_module": "@jupyter-widgets/base",
      "model_module_version": "1.0.0",
      "model_name": "LayoutModel",
      "state": {}
     },
     "0f6cb1432de1435a9412ac14c5c56d0b": {
      "model_module": "@jupyter-widgets/controls",
      "model_module_version": "1.2.0",
      "model_name": "DescriptionStyleModel",
      "state": {
       "description_width": ""
      }
     },
     "0f71c59db5aa4ea2b4769b5fea8c042f": {
      "model_module": "@jupyter-widgets/controls",
      "model_module_version": "1.2.0",
      "model_name": "DropdownModel",
      "state": {
       "_options_labels": [
        "Identity",
        "Cg",
        "Gaussian"
       ],
       "description": "find filter",
       "index": 1,
       "layout": "IPY_MODEL_b6a004b7e5574931b253328f1ad72624",
       "style": "IPY_MODEL_00d2c26445ad4dca886c63ad1b249952"
      }
     },
     "0fbf87dece764104b2cc5449cc9c7045": {
      "model_module": "@jupyter-widgets/base",
      "model_module_version": "1.0.0",
      "model_name": "LayoutModel",
      "state": {
       "width": "auto"
      }
     },
     "0fd64fed8a98495887e9ff49fff9d153": {
      "model_module": "@jupyter-widgets/controls",
      "model_module_version": "1.2.0",
      "model_name": "HBoxModel",
      "state": {
       "children": [
        "IPY_MODEL_05434a78486b4f4fb282f2cf32bb38c2",
        "IPY_MODEL_0b268781f879496594ca2800dad1d7b6"
       ],
       "layout": "IPY_MODEL_ecc12122d14a49e08bd8d8a6abf47879"
      }
     },
     "0fdde6d3a31a4ddb847a09ae10b05383": {
      "model_module": "@jupyter-widgets/controls",
      "model_module_version": "1.2.0",
      "model_name": "FloatTextModel",
      "state": {
       "description": "radius",
       "layout": "IPY_MODEL_6abdc33bf74742bc8631b54d38dc7eac",
       "step": 0.1,
       "style": "IPY_MODEL_e0c21e017fae4469abcf38c5338a9fcd",
       "value": 1
      }
     },
     "1009cd49c97e4206874e152e3db862bb": {
      "model_module": "@jupyter-widgets/base",
      "model_module_version": "1.0.0",
      "model_name": "LayoutModel",
      "state": {
       "display": "inline"
      }
     },
     "104e27273701462387b2cccb8e04aaf3": {
      "model_module": "@jupyter-widgets/controls",
      "model_module_version": "1.2.0",
      "model_name": "HBoxModel",
      "state": {
       "children": [
        "IPY_MODEL_dca9dd971b584ed1885dee7f185ae186",
        "IPY_MODEL_236ced0324ff408f86c0ce05e6e95632"
       ],
       "layout": "IPY_MODEL_9859e0a4f72b43af9a1a7f26e9c2eb1d"
      }
     },
     "105a5f4d969c4f2fbe2b7101b1a7d737": {
      "model_module": "@jupyter-widgets/base",
      "model_module_version": "1.0.0",
      "model_name": "LayoutModel",
      "state": {
       "width": "auto"
      }
     },
     "10930e794dea4b8bb113968a2230e0bb": {
      "model_module": "@jupyter-widgets/controls",
      "model_module_version": "1.2.0",
      "model_name": "VBoxModel",
      "state": {
       "children": [
        "IPY_MODEL_a9d8db04f91f4a78885048e47fe7d975",
        "IPY_MODEL_26d2919eacc5468aa126e4cfc0d56667",
        "IPY_MODEL_cbe91f751e1345588c0f8f841dba1a7b",
        "IPY_MODEL_b0ef45ddc9b64ae4b529c290407ec1f0",
        "IPY_MODEL_30a0241e5c814472b05714b48f2ffe88",
        "IPY_MODEL_25c7833c2c09419385454a435a839d35"
       ],
       "layout": "IPY_MODEL_90e802b1fc6a4e63aaed8c6f15075403"
      }
     },
     "10d29956cd704a7abe4c63434fd680b1": {
      "model_module": "@jupyter-widgets/controls",
      "model_module_version": "1.2.0",
      "model_name": "HBoxModel",
      "state": {
       "children": [
        "IPY_MODEL_4db7d530e0c34e82a4bf095e64845645",
        "IPY_MODEL_d2ec2c846e5f41738e5cf8d5b73514c9",
        "IPY_MODEL_9281a656a23d43bf85a38bb834ee710c"
       ],
       "layout": "IPY_MODEL_96306988e5d94606a1f1a51d0796167d"
      }
     },
     "1140ea0dbb964fe495fb0ac563e9eb3c": {
      "model_module": "@jupyter-widgets/controls",
      "model_module_version": "1.2.0",
      "model_name": "DescriptionStyleModel",
      "state": {
       "description_width": ""
      }
     },
     "1141d8cb2a8148a48ac1b6503f8c1ee9": {
      "model_module": "@jupyter-widgets/base",
      "model_module_version": "1.0.0",
      "model_name": "LayoutModel",
      "state": {}
     },
     "114e2f7fb777473c8b586bfcf3cadabc": {
      "model_module": "@jupyter-widgets/controls",
      "model_module_version": "1.2.0",
      "model_name": "FloatTextModel",
      "state": {
       "description": "min.",
       "layout": "IPY_MODEL_5cfae39b4ad94a99ac82ed3735cb7ac7",
       "step": 0.1,
       "style": "IPY_MODEL_4a68f37c1a214fffa9dd0d7700cf194e",
       "value": 0.5
      }
     },
     "1190408936e74c2f86398b535c88453e": {
      "model_module": "@jupyter-widgets/base",
      "model_module_version": "1.0.0",
      "model_name": "LayoutModel",
      "state": {}
     },
     "1191e59b698f41caac1f2543b9ec672d": {
      "model_module": "@jupyter-widgets/controls",
      "model_module_version": "1.2.0",
      "model_name": "VBoxModel",
      "state": {
       "children": [
        "IPY_MODEL_7f73ff4f83394c04820b1cf4828cff07",
        "IPY_MODEL_714df60064f0460cb9bc52cfb29760a1",
        "IPY_MODEL_c3cef7fe114b456782edabca88e03ff7"
       ],
       "layout": "IPY_MODEL_ca65cbf710a34eb2af2f0e54479139a8"
      }
     },
     "11b0a6c6cf96408bbd24e9bb3b9ec223": {
      "model_module": "@jupyter-widgets/base",
      "model_module_version": "1.0.0",
      "model_name": "LayoutModel",
      "state": {
       "width": "auto"
      }
     },
     "11bc5b1e3dc949a284eaa6fedf5ca20e": {
      "model_module": "@jupyter-widgets/base",
      "model_module_version": "1.0.0",
      "model_name": "LayoutModel",
      "state": {
       "width": "100%"
      }
     },
     "11e567c07a2947178f7856bc1e3177b7": {
      "model_module": "@jupyter-widgets/controls",
      "model_module_version": "1.2.0",
      "model_name": "BoundedIntTextModel",
      "state": {
       "description": "frame",
       "layout": "IPY_MODEL_0b26403315784fb28513a6a4c21f2802",
       "max": 49,
       "style": "IPY_MODEL_47584766f8314f85a70a4f38066c9eff"
      }
     },
     "11ee04842b9941189f848983bbd33060": {
      "model_module": "@jupyter-widgets/controls",
      "model_module_version": "1.2.0",
      "model_name": "DescriptionStyleModel",
      "state": {
       "description_width": ""
      }
     },
     "120e3330344a49d09454f506e17883f3": {
      "model_module": "@jupyter-widgets/controls",
      "model_module_version": "1.2.0",
      "model_name": "DescriptionStyleModel",
      "state": {
       "description_width": ""
      }
     },
     "125e07c7c1e04324b46ede98c53c63a4": {
      "model_module": "@jupyter-widgets/controls",
      "model_module_version": "1.2.0",
      "model_name": "DescriptionStyleModel",
      "state": {
       "description_width": ""
      }
     },
     "12980f81724142febe19018a4167f93d": {
      "model_module": "@jupyter-widgets/base",
      "model_module_version": "1.0.0",
      "model_name": "LayoutModel",
      "state": {
       "height": "150px",
       "width": "100%"
      }
     },
     "1298c2f018fa484983e6191c3898cf91": {
      "model_module": "@jupyter-widgets/base",
      "model_module_version": "1.0.0",
      "model_name": "LayoutModel",
      "state": {}
     },
     "129fbcfc47dd431bb83dc04e5b77badc": {
      "model_module": "@jupyter-widgets/base",
      "model_module_version": "1.0.0",
      "model_name": "LayoutModel",
      "state": {}
     },
     "12a71bb1fa3543c4a44273b64a802864": {
      "model_module": "@jupyter-widgets/controls",
      "model_module_version": "1.2.0",
      "model_name": "DescriptionStyleModel",
      "state": {
       "description_width": ""
      }
     },
     "12ac72ede8384674adc3df71072a70fe": {
      "model_module": "@jupyter-widgets/controls",
      "model_module_version": "1.2.0",
      "model_name": "SliderStyleModel",
      "state": {
       "description_width": ""
      }
     },
     "12d202bf4c084227bba83c3e9ada6aed": {
      "model_module": "@jupyter-widgets/controls",
      "model_module_version": "1.2.0",
      "model_name": "CheckboxModel",
      "state": {
       "description": "Min. distance",
       "disabled": false,
       "indent": false,
       "layout": "IPY_MODEL_7e804dfa5c76426e93cae68a9fbae361",
       "style": "IPY_MODEL_2dacbaa2b3094d1a80a90e4ec97b39e8",
       "value": true
      }
     },
     "12e003f48a8e42dcb76762eb7dbfbd59": {
      "model_module": "@jupyter-widgets/controls",
      "model_module_version": "1.2.0",
      "model_name": "ButtonStyleModel",
      "state": {}
     },
     "12e3aca5f7a3466baf8ea7382af3da63": {
      "model_module": "@jupyter-widgets/controls",
      "model_module_version": "1.2.0",
      "model_name": "DescriptionStyleModel",
      "state": {
       "description_width": ""
      }
     },
     "131d72ed5e92478eb026faf47c0daf88": {
      "model_module": "@jupyter-widgets/controls",
      "model_module_version": "1.2.0",
      "model_name": "DescriptionStyleModel",
      "state": {
       "description_width": ""
      }
     },
     "1349499d518a404598f1082519609c97": {
      "model_module": "@jupyter-widgets/base",
      "model_module_version": "1.0.0",
      "model_name": "LayoutModel",
      "state": {}
     },
     "140bc70604c44cd0b1ee487d0c9276c6": {
      "model_module": "@jupyter-widgets/base",
      "model_module_version": "1.0.0",
      "model_name": "LayoutModel",
      "state": {
       "width": "auto"
      }
     },
     "140ec12a11b9452bbfb35586d4dcede5": {
      "model_module": "@jupyter-widgets/controls",
      "model_module_version": "1.2.0",
      "model_name": "DescriptionStyleModel",
      "state": {
       "description_width": ""
      }
     },
     "1426a3465bbb49f9a45da3139f641ba9": {
      "model_module": "@jupyter-widgets/controls",
      "model_module_version": "1.2.0",
      "model_name": "DescriptionStyleModel",
      "state": {
       "description_width": ""
      }
     },
     "14692f2452074add81ccbce647b3a11e": {
      "model_module": "@jupyter-widgets/base",
      "model_module_version": "1.0.0",
      "model_name": "LayoutModel",
      "state": {
       "display": "none"
      }
     },
     "148091cf6441474c8ef54f7f093ea314": {
      "model_module": "@jupyter-widgets/base",
      "model_module_version": "1.0.0",
      "model_name": "LayoutModel",
      "state": {
       "border": "1px solid gray"
      }
     },
     "1484403c339c42d881d837479a6b348b": {
      "model_module": "@jupyter-widgets/controls",
      "model_module_version": "1.2.0",
      "model_name": "DescriptionStyleModel",
      "state": {
       "description_width": ""
      }
     },
     "1494528ace2c4c4db584278ebb8209ab": {
      "model_module": "@jupyter-widgets/controls",
      "model_module_version": "1.2.0",
      "model_name": "DescriptionStyleModel",
      "state": {
       "description_width": ""
      }
     },
     "14d5221e58f840aa88183d9af9408333": {
      "model_module": "@jupyter-widgets/controls",
      "model_module_version": "1.2.0",
      "model_name": "IntRangeSliderModel",
      "state": {
       "_model_name": "IntRangeSliderModel",
       "_view_name": "IntRangeSliderView",
       "layout": "IPY_MODEL_2df394f6bb7e4aada10f1ba8d918d4fb",
       "max": 65535,
       "style": "IPY_MODEL_ad174e487e694b738f5f19e1e7128916",
       "value": [
        134,
        25393
       ]
      }
     },
     "14df7f8e48284943bcb56f0d4e6b4518": {
      "model_module": "@jupyter-widgets/base",
      "model_module_version": "1.0.0",
      "model_name": "LayoutModel",
      "state": {}
     },
     "14e0f10b53a54f6981ae1f49c5ec1319": {
      "model_module": "@jupyter-widgets/controls",
      "model_module_version": "1.2.0",
      "model_name": "DescriptionStyleModel",
      "state": {
       "description_width": ""
      }
     },
     "15113472ac644c9dafe9aa5fd79b2ebc": {
      "model_module": "@jupyter-widgets/base",
      "model_module_version": "1.0.0",
      "model_name": "LayoutModel",
      "state": {
       "width": "auto"
      }
     },
     "1538691f74b44e72ac2a71f43fa8d908": {
      "model_module": "@jupyter-widgets/base",
      "model_module_version": "1.0.0",
      "model_name": "LayoutModel",
      "state": {
       "display": "none"
      }
     },
     "156fd5a9049b4a34bdafcf5399c6a636": {
      "model_module": "@jupyter-widgets/controls",
      "model_module_version": "1.2.0",
      "model_name": "FloatTextModel",
      "state": {
       "description": "radius",
       "layout": "IPY_MODEL_c0d5b515691a4f1bb53ebd8f89b9dd30",
       "step": 0.1,
       "style": "IPY_MODEL_7897d3f52a6c431889148c1404a7ad50",
       "value": 1
      }
     },
     "15fd5ddeea9b4b3ebf7f195fc013e804": {
      "model_module": "@jupyter-widgets/controls",
      "model_module_version": "1.2.0",
      "model_name": "FloatTextModel",
      "state": {
       "description": "max.",
       "layout": "IPY_MODEL_4365f161aa654dceb1f11c71ad69e059",
       "step": 0.1,
       "style": "IPY_MODEL_4c5be8f363bc45f38ed94765b9e7a6c9",
       "value": 2
      }
     },
     "1602f5feb09c4d74b13d2ed7587d5a03": {
      "model_module": "@jupyter-widgets/base",
      "model_module_version": "1.0.0",
      "model_name": "LayoutModel",
      "state": {
       "display": "none"
      }
     },
     "1618f4b3399c42758f19fedc025728c5": {
      "model_module": "@jupyter-widgets/base",
      "model_module_version": "1.0.0",
      "model_name": "LayoutModel",
      "state": {
       "display": "flex",
       "flex_flow": "column wrap",
       "width": "66%"
      }
     },
     "161bccb516f141d8af2d136bedde3dc7": {
      "model_module": "@jupyter-widgets/base",
      "model_module_version": "1.0.0",
      "model_name": "LayoutModel",
      "state": {
       "display": "none"
      }
     },
     "161e8a067c8947aab46ac8fe5a4a11af": {
      "model_module": "@jupyter-widgets/controls",
      "model_module_version": "1.2.0",
      "model_name": "DescriptionStyleModel",
      "state": {
       "description_width": ""
      }
     },
     "16280e129de34140ad85a284dd214b66": {
      "model_module": "@jupyter-widgets/controls",
      "model_module_version": "1.2.0",
      "model_name": "DescriptionStyleModel",
      "state": {
       "description_width": ""
      }
     },
     "1653a7a365f3480d9d9d6e9503868b77": {
      "model_module": "@jupyter-widgets/controls",
      "model_module_version": "1.2.0",
      "model_name": "VBoxModel",
      "state": {
       "children": [
        "IPY_MODEL_ba6a6ecec4be4859bb469f698578e451",
        "IPY_MODEL_176640f5fd624bf79c6cc71c4faada99",
        "IPY_MODEL_57b96df12752422e89e440a470aea9d3"
       ],
       "layout": "IPY_MODEL_4237b9133c2b4b87a4e3f25bfce6b24a"
      }
     },
     "166ed19e9e3f4f61ab800553362c811b": {
      "model_module": "@jupyter-widgets/controls",
      "model_module_version": "1.2.0",
      "model_name": "DescriptionStyleModel",
      "state": {
       "description_width": ""
      }
     },
     "169bee8484dc48b296b3922435be1ac1": {
      "model_module": "@jupyter-widgets/base",
      "model_module_version": "1.0.0",
      "model_name": "LayoutModel",
      "state": {}
     },
     "169d63fa5f784f9a911e226d9317a3b8": {
      "model_module": "@jupyter-widgets/controls",
      "model_module_version": "1.2.0",
      "model_name": "HBoxModel",
      "state": {
       "children": [
        "IPY_MODEL_90d47bd64de148b3ad13b9826f6860b0",
        "IPY_MODEL_2a7eeda57e1c429d8a77b6e15d71696f",
        "IPY_MODEL_98c40fa797494ee994e63aebeff97239"
       ],
       "layout": "IPY_MODEL_83816c77a7d44d1283af47f290407846"
      }
     },
     "16adeca1a5c84244923fc975362493e7": {
      "model_module": "@jupyter-widgets/base",
      "model_module_version": "1.0.0",
      "model_name": "LayoutModel",
      "state": {
       "display": "none"
      }
     },
     "16f404d292a64112972a0e9303c52ff0": {
      "model_module": "@jupyter-widgets/controls",
      "model_module_version": "1.2.0",
      "model_name": "DescriptionStyleModel",
      "state": {
       "description_width": ""
      }
     },
     "16f455c95b1e4673b92e8b23c61fcd37": {
      "model_module": "@jupyter-widgets/controls",
      "model_module_version": "1.2.0",
      "model_name": "FloatTextModel",
      "state": {
       "description": "sigma",
       "layout": "IPY_MODEL_42296a4b6f1b4f49b129bb4d23705751",
       "step": 0.1,
       "style": "IPY_MODEL_ed92f97417e347d18132099a5875532b",
       "value": 1
      }
     },
     "170d39d3ce444cba90ef4c63fbce7e89": {
      "model_module": "@jupyter-widgets/base",
      "model_module_version": "1.0.0",
      "model_name": "LayoutModel",
      "state": {
       "display": "none"
      }
     },
     "171fd38714314c55b9aa03a260d5df0a": {
      "model_module": "@jupyter-widgets/controls",
      "model_module_version": "1.2.0",
      "model_name": "FloatTextModel",
      "state": {
       "description": "radius",
       "layout": "IPY_MODEL_4b0261b9b6f648f5b2a390fda20c41f9",
       "step": 0.1,
       "style": "IPY_MODEL_454c08de3bcc4439b6a4751c4abdfe7c",
       "value": 1
      }
     },
     "1725c2f4e24f43519feeb602b06bd99e": {
      "model_module": "@jupyter-widgets/controls",
      "model_module_version": "1.2.0",
      "model_name": "FloatTextModel",
      "state": {
       "description": "sigma",
       "layout": "IPY_MODEL_181d1ce5682842fc989bdf2b73eef547",
       "step": 0.1,
       "style": "IPY_MODEL_197b6978e86a4a3ebee7346afc078e7d",
       "value": 1
      }
     },
     "172848b4e2ee4cc0acb10b8f5bfebb13": {
      "model_module": "@jupyter-widgets/base",
      "model_module_version": "1.0.0",
      "model_name": "LayoutModel",
      "state": {
       "width": "100%"
      }
     },
     "172a497724ce402ebdf3e897cdc66b6a": {
      "model_module": "@jupyter-widgets/base",
      "model_module_version": "1.0.0",
      "model_name": "LayoutModel",
      "state": {}
     },
     "1753f17a9cd74bb9be12223d1a6173b3": {
      "model_module": "@jupyter-widgets/base",
      "model_module_version": "1.0.0",
      "model_name": "LayoutModel",
      "state": {}
     },
     "17610fa125044383bad718745075fbe0": {
      "model_module": "@jupyter-widgets/controls",
      "model_module_version": "1.2.0",
      "model_name": "DropdownModel",
      "state": {
       "_options_labels": [
        "2d_fixed",
        "2d",
        "3d"
       ],
       "description": "model",
       "index": 1,
       "layout": "IPY_MODEL_c05d01372e25444d88e67353b0dceba0",
       "style": "IPY_MODEL_bea4f44c38254f5da66178f0078b2e5b"
      }
     },
     "17611348fb7d45928e9f9acdc16169f9": {
      "model_module": "@jupyter-widgets/base",
      "model_module_version": "1.0.0",
      "model_name": "LayoutModel",
      "state": {}
     },
     "176640f5fd624bf79c6cc71c4faada99": {
      "model_module": "@jupyter-widgets/controls",
      "model_module_version": "1.2.0",
      "model_name": "IntTextModel",
      "state": {
       "description": "feat. size",
       "layout": "IPY_MODEL_c89598672e964bb480ed2772eda0cd61",
       "step": 1,
       "style": "IPY_MODEL_5de06bb1c6624e61beb2780792cead7f",
       "value": 3
      }
     },
     "17a4f243e43749d3a82d94ed987a986a": {
      "model_module": "@jupyter-widgets/controls",
      "model_module_version": "1.2.0",
      "model_name": "DescriptionStyleModel",
      "state": {
       "description_width": ""
      }
     },
     "17b0ca20c3534b11b8e69cc5a94e3a47": {
      "model_module": "@jupyter-widgets/controls",
      "model_module_version": "1.2.0",
      "model_name": "ButtonStyleModel",
      "state": {}
     },
     "17fffd34af4f439a926cb172a59017fd": {
      "model_module": "@jupyter-widgets/controls",
      "model_module_version": "1.2.0",
      "model_name": "CheckboxModel",
      "state": {
       "description": "Show loc.",
       "disabled": false,
       "indent": false,
       "layout": "IPY_MODEL_ec102a599105400b922cb4662298b6c5",
       "style": "IPY_MODEL_125e07c7c1e04324b46ede98c53c63a4",
       "value": true
      }
     },
     "1801f0ca4a8a48b2bb97a19367c533ea": {
      "model_module": "@jupyter-widgets/base",
      "model_module_version": "1.0.0",
      "model_name": "LayoutModel",
      "state": {}
     },
     "181734e03d774155ab38b96f8b99a71a": {
      "model_module": "@jupyter-widgets/controls",
      "model_module_version": "1.2.0",
      "model_name": "DescriptionStyleModel",
      "state": {
       "description_width": ""
      }
     },
     "181d1ce5682842fc989bdf2b73eef547": {
      "model_module": "@jupyter-widgets/base",
      "model_module_version": "1.0.0",
      "model_name": "LayoutModel",
      "state": {
       "display": "none"
      }
     },
     "184e332be168424e9bb1cb8642c9490f": {
      "model_module": "@jupyter-widgets/controls",
      "model_module_version": "1.2.0",
      "model_name": "DescriptionStyleModel",
      "state": {
       "description_width": ""
      }
     },
     "1850dec0b94841749bdb0da2fcf7727e": {
      "model_module": "@jupyter-widgets/controls",
      "model_module_version": "1.2.0",
      "model_name": "DescriptionStyleModel",
      "state": {
       "description_width": ""
      }
     },
     "186fef0ffc664a32bff80e8a388fa1b1": {
      "model_module": "@jupyter-widgets/controls",
      "model_module_version": "1.2.0",
      "model_name": "DescriptionStyleModel",
      "state": {
       "description_width": ""
      }
     },
     "187be5cd708841f184606d85c5bc31f3": {
      "model_module": "@jupyter-widgets/controls",
      "model_module_version": "1.2.0",
      "model_name": "DescriptionStyleModel",
      "state": {
       "description_width": ""
      }
     },
     "18cf4394760945b48cbef11a18c60810": {
      "model_module": "@jupyter-widgets/controls",
      "model_module_version": "1.2.0",
      "model_name": "FloatTextModel",
      "state": {
       "description": "max.",
       "layout": "IPY_MODEL_e71fb3523ffa4b1aa40a594304fe041f",
       "step": 0.1,
       "style": "IPY_MODEL_71535ed4f46f42308f4796dd4b17a2ac",
       "value": 2
      }
     },
     "18e95443d23e4217b96c62ed43b0556f": {
      "model_module": "@jupyter-widgets/base",
      "model_module_version": "1.0.0",
      "model_name": "LayoutModel",
      "state": {}
     },
     "18f18c16017341cf809f83acd1531e91": {
      "model_module": "@jupyter-widgets/controls",
      "model_module_version": "1.2.0",
      "model_name": "HBoxModel",
      "state": {
       "children": [
        "IPY_MODEL_97f9733d2c474b21ba686340313e78ef",
        "IPY_MODEL_c96eaab9612e4b65aad3e9c5ce261e24",
        "IPY_MODEL_d7122f5bd03f49fba84fa28e42bb72db"
       ],
       "layout": "IPY_MODEL_60493ddd1b4c4697b62100c27014597a"
      }
     },
     "1927fade527b44e3b55d8b2bbaa09f28": {
      "model_module": "@jupyter-widgets/controls",
      "model_module_version": "1.2.0",
      "model_name": "FloatTextModel",
      "state": {
       "description": "min.",
       "layout": "IPY_MODEL_e0af1a73d3514a41b622304dfcb6b8be",
       "step": 0.1,
       "style": "IPY_MODEL_25457bbf14f747009b4f21cacf16a341",
       "value": 0.5
      }
     },
     "1945bebc4d184861bd438dffc310f6cd": {
      "model_module": "@jupyter-widgets/controls",
      "model_module_version": "1.2.0",
      "model_name": "SelectModel",
      "state": {
       "_options_labels": [
        "data/beads/beads_000_.SPE",
        "data/beads/beads_001_.SPE",
        "data/beads/beads_002_.SPE",
        "data/beads/beads_003_.SPE",
        "data/beads/beads_004_.SPE",
        "data/beads/beads_005_.SPE",
        "data/beads/beads_006_.SPE",
        "data/beads/beads_007_.SPE",
        "data/beads/beads_008_.SPE",
        "data/beads/beads_009_.SPE"
       ],
       "index": 1,
       "layout": "IPY_MODEL_bb271e1802df495589914f40f18a32f8",
       "style": "IPY_MODEL_3512eaffd0d549439f22523367cf10d8"
      }
     },
     "197b6978e86a4a3ebee7346afc078e7d": {
      "model_module": "@jupyter-widgets/controls",
      "model_module_version": "1.2.0",
      "model_name": "DescriptionStyleModel",
      "state": {
       "description_width": ""
      }
     },
     "198888b6357641588b0769efebdc4863": {
      "model_module": "@jupyter-widgets/controls",
      "model_module_version": "1.2.0",
      "model_name": "HBoxModel",
      "state": {
       "children": [
        "IPY_MODEL_44c08bc02daf42f1a0416a85a4b9969d",
        "IPY_MODEL_ab9309422cca470bb40a7c6d6ff4ef70"
       ],
       "layout": "IPY_MODEL_25a28600fbd84832bcec0ae2b9587f77"
      }
     },
     "19babbab651e40e7b31d69f0933dcd97": {
      "model_module": "@jupyter-widgets/controls",
      "model_module_version": "1.2.0",
      "model_name": "DescriptionStyleModel",
      "state": {
       "description_width": ""
      }
     },
     "19e4bbee2e614bc4ba7402ecedaa8c61": {
      "model_module": "@jupyter-widgets/base",
      "model_module_version": "1.0.0",
      "model_name": "LayoutModel",
      "state": {
       "width": "auto"
      }
     },
     "19e54e8518c447c6a57fc58c7d49c2ed": {
      "model_module": "@jupyter-widgets/controls",
      "model_module_version": "1.2.0",
      "model_name": "CheckboxModel",
      "state": {
       "description": "Min. distance",
       "disabled": false,
       "indent": false,
       "layout": "IPY_MODEL_26b33f01a9594bf3affc727010a0a2ad",
       "style": "IPY_MODEL_a9260d6530984155b08468659eee60ce",
       "value": true
      }
     },
     "1a3ce324352f43739e089ba40bb8356d": {
      "model_module": "@jupyter-widgets/controls",
      "model_module_version": "1.2.0",
      "model_name": "DescriptionStyleModel",
      "state": {
       "description_width": ""
      }
     },
     "1a7f60fb844840a79fe1bfc9d493b4d9": {
      "model_module": "@jupyter-widgets/controls",
      "model_module_version": "1.2.0",
      "model_name": "DropdownModel",
      "state": {
       "_options_labels": [
        "2d_fixed",
        "2d",
        "3d"
       ],
       "description": "model",
       "index": 1,
       "layout": "IPY_MODEL_932e06afd8a8412d8d84c05ece0810d7",
       "style": "IPY_MODEL_e96c896d4f344616b11a89abc57afed0"
      }
     },
     "1a9a1416534040559ecaeeb13f1b824a": {
      "model_module": "@jupyter-widgets/controls",
      "model_module_version": "1.2.0",
      "model_name": "FloatTextModel",
      "state": {
       "description": "max.",
       "layout": "IPY_MODEL_407ce516982c43a1a697e896a1586e0c",
       "step": 0.1,
       "style": "IPY_MODEL_c988709bd87c4a629641e62b63c167be",
       "value": 2
      }
     },
     "1ac8bfa0df214c21bddbf5915ae44e15": {
      "model_module": "@jupyter-widgets/controls",
      "model_module_version": "1.2.0",
      "model_name": "SelectModel",
      "state": {
       "_options_labels": [
        "beads/beads_000_.SPE",
        "beads/beads_001_.SPE",
        "beads/beads_002_.SPE",
        "beads/beads_003_.SPE",
        "beads/beads_004_.SPE",
        "beads/beads_005_.SPE",
        "beads/beads_006_.SPE",
        "beads/beads_007_.SPE",
        "beads/beads_008_.SPE",
        "beads/beads_009_.SPE"
       ],
       "index": 0,
       "layout": "IPY_MODEL_c86d77bb332b4d0590c259f51076de7c",
       "style": "IPY_MODEL_b7be599876324851838edcbef4a6ffcb"
      }
     },
     "1ad839a8d33e479f905fcf2a5057e597": {
      "model_module": "@jupyter-widgets/controls",
      "model_module_version": "1.2.0",
      "model_name": "LabelModel",
      "state": {
       "layout": "IPY_MODEL_58167ea58240475299471d95d476a684",
       "style": "IPY_MODEL_eb9b74271d2d44dcb8aced8f36b6dea4",
       "value": "Tracking ctrl-H57/no-cells_SAv-100k_SSS-ctrl-H57-50k_029_.SPE (213/213)"
      }
     },
     "1afc74c34b834938b692233d4251d486": {
      "model_module": "@jupyter-widgets/controls",
      "model_module_version": "1.2.0",
      "model_name": "DescriptionStyleModel",
      "state": {
       "description_width": ""
      }
     },
     "1b620fd859a4480aa4f9e4c1eb031eb2": {
      "model_module": "@jupyter-widgets/base",
      "model_module_version": "1.0.0",
      "model_name": "LayoutModel",
      "state": {
       "width": "auto"
      }
     },
     "1bc1bf8bdea542b7920e221d983edffb": {
      "model_module": "@jupyter-widgets/controls",
      "model_module_version": "1.2.0",
      "model_name": "SelectModel",
      "state": {
       "_options_labels": [
        "sensor-H57/cells-01_SAv-100k_SSS-H57-20k_000_.SPE"
       ],
       "index": 0,
       "layout": "IPY_MODEL_7065c42cfbec4534b7b8c4e7b6a34b3f",
       "style": "IPY_MODEL_7f0e7f412f954619b202379e8b02693b"
      }
     },
     "1bef31ac08074ebd95693403b9f1d5a3": {
      "model_module": "@jupyter-widgets/controls",
      "model_module_version": "1.2.0",
      "model_name": "SliderStyleModel",
      "state": {
       "description_width": ""
      }
     },
     "1c1dc811f4d24013a84188335929fb18": {
      "model_module": "@jupyter-widgets/controls",
      "model_module_version": "1.2.0",
      "model_name": "HBoxModel",
      "state": {
       "children": [
        "IPY_MODEL_436b9b5f2afe4c6693f58f28df3c82d1",
        "IPY_MODEL_ad98c99d4b8a46948c2eb85e97d210f9"
       ],
       "layout": "IPY_MODEL_bfec349152fa4833b470d8ec1259aab1"
      }
     },
     "1c5f0943bcc4468db7357061336a54df": {
      "model_module": "@jupyter-widgets/controls",
      "model_module_version": "1.2.0",
      "model_name": "DescriptionStyleModel",
      "state": {
       "description_width": ""
      }
     },
     "1c824a0b6f3240e5af259e9c61791276": {
      "model_module": "@jupyter-widgets/controls",
      "model_module_version": "1.2.0",
      "model_name": "DescriptionStyleModel",
      "state": {
       "description_width": ""
      }
     },
     "1cd9165871484cebae6f2ee4b0feeb3a": {
      "model_module": "@jupyter-widgets/controls",
      "model_module_version": "1.2.0",
      "model_name": "DescriptionStyleModel",
      "state": {
       "description_width": ""
      }
     },
     "1cf385c71a4d47ff971305ff22f8d409": {
      "model_module": "@jupyter-widgets/controls",
      "model_module_version": "1.2.0",
      "model_name": "HBoxModel",
      "state": {
       "children": [
        "IPY_MODEL_f29c89eed6f944288cabe9167b510179",
        "IPY_MODEL_6213c69a7df04ee28daba2e0e74e2b76",
        "IPY_MODEL_9c1c69452a7f4e77b69c536b081d48b4"
       ],
       "layout": "IPY_MODEL_2edf73a67e144099aca3bd81f94bd30e"
      }
     },
     "1cfdf2db76794dd48f239a6fe9bcf218": {
      "model_module": "@jupyter-widgets/base",
      "model_module_version": "1.0.0",
      "model_name": "LayoutModel",
      "state": {}
     },
     "1d23768466ae4cfeb64921711ebe49d4": {
      "model_module": "@jupyter-widgets/controls",
      "model_module_version": "1.2.0",
      "model_name": "FloatTextModel",
      "state": {
       "description": "sigma",
       "layout": "IPY_MODEL_db84dc2b028949aea5dc5f2e91cbf792",
       "step": 0.1,
       "style": "IPY_MODEL_3e4944042f0845319952b320763018d0",
       "value": 1
      }
     },
     "1d53e14e42424c3fb362bad8c9bd6fee": {
      "model_module": "@jupyter-widgets/base",
      "model_module_version": "1.0.0",
      "model_name": "LayoutModel",
      "state": {}
     },
     "1d9a93a9f6c24b018ce1963bb58d97fe": {
      "model_module": "@jupyter-widgets/base",
      "model_module_version": "1.0.0",
      "model_name": "LayoutModel",
      "state": {}
     },
     "1dde5233f259499a95d6f308b4422da5": {
      "model_module": "@jupyter-widgets/controls",
      "model_module_version": "1.2.0",
      "model_name": "VBoxModel",
      "state": {
       "children": [
        "IPY_MODEL_e2501d102e874250bef67ae4226556e2",
        "IPY_MODEL_b855b6287cc040bc9e1b3ef584ff3795",
        "IPY_MODEL_e5af1c9d0bf94a41b4eba05dd22e83ff"
       ],
       "layout": "IPY_MODEL_ff6f29f6594d4a92be71440085c4f9a5"
      }
     },
     "1df8d90fd50d42a69167a3d390d0753d": {
      "model_module": "@jupyter-widgets/base",
      "model_module_version": "1.0.0",
      "model_name": "LayoutModel",
      "state": {}
     },
     "1e2c7801417d4e6d8736963d27fe69cd": {
      "model_module": "@jupyter-widgets/controls",
      "model_module_version": "1.2.0",
      "model_name": "DescriptionStyleModel",
      "state": {
       "description_width": ""
      }
     },
     "1e3129fc5cd44769b18bc99ca51ed37a": {
      "model_module": "@jupyter-widgets/base",
      "model_module_version": "1.0.0",
      "model_name": "LayoutModel",
      "state": {
       "height": "150px",
       "width": "100%"
      }
     },
     "1e42292417d7411c84060940cc21870e": {
      "model_module": "@jupyter-widgets/controls",
      "model_module_version": "1.2.0",
      "model_name": "DescriptionStyleModel",
      "state": {
       "description_width": ""
      }
     },
     "1e467e9b04f54ce2b7589198a94d15e8": {
      "model_module": "@jupyter-widgets/base",
      "model_module_version": "1.0.0",
      "model_name": "LayoutModel",
      "state": {
       "width": "auto"
      }
     },
     "1e6c561e47f644139ddafdb52f18e109": {
      "model_module": "@jupyter-widgets/base",
      "model_module_version": "1.0.0",
      "model_name": "LayoutModel",
      "state": {
       "height": "150px",
       "width": "100%"
      }
     },
     "1e9db56aac6d40d8acf83ef9d880b244": {
      "model_module": "@jupyter-widgets/base",
      "model_module_version": "1.0.0",
      "model_name": "LayoutModel",
      "state": {}
     },
     "1f18affa79ef42288f546fb5bc51d6f1": {
      "model_module": "@jupyter-widgets/controls",
      "model_module_version": "1.2.0",
      "model_name": "SelectModel",
      "state": {
       "_options_labels": [
        "sensor-H57/cells-01_SAv-100k_SSS-H57-20k_000_.SPE"
       ],
       "index": 0,
       "layout": "IPY_MODEL_e6f90818e44e4f82bdae93466567aec2",
       "style": "IPY_MODEL_493efc4635854b789c035ec0c9b39114"
      }
     },
     "1f3056b0d82a448ebd9388e035c6b2eb": {
      "model_module": "@jupyter-widgets/controls",
      "model_module_version": "1.2.0",
      "model_name": "DescriptionStyleModel",
      "state": {
       "description_width": ""
      }
     },
     "1f95ca0f70c84935abba32f323d60216": {
      "model_module": "@jupyter-widgets/base",
      "model_module_version": "1.0.0",
      "model_name": "LayoutModel",
      "state": {}
     },
     "1f9db22bc9de48599c39cfac0e34058a": {
      "model_module": "@jupyter-widgets/controls",
      "model_module_version": "1.2.0",
      "model_name": "SliderStyleModel",
      "state": {
       "description_width": ""
      }
     },
     "1fad2e716f70409e858650e25736c999": {
      "model_module": "@jupyter-widgets/controls",
      "model_module_version": "1.2.0",
      "model_name": "DescriptionStyleModel",
      "state": {
       "description_width": ""
      }
     },
     "200dd839b47e41ef964f190f00578135": {
      "model_module": "@jupyter-widgets/controls",
      "model_module_version": "1.2.0",
      "model_name": "DescriptionStyleModel",
      "state": {
       "description_width": ""
      }
     },
     "20230ca4f34e468aa7a2f70651828801": {
      "model_module": "@jupyter-widgets/controls",
      "model_module_version": "1.2.0",
      "model_name": "ButtonModel",
      "state": {
       "description": "Auto",
       "layout": "IPY_MODEL_5f220bd61e4d4c46a2d8aedfa4a8dedc",
       "style": "IPY_MODEL_f9440d84ed4042e389f3ee73c6fde4d4"
      }
     },
     "203ba0904d38451fb868de08497577ce": {
      "model_module": "@jupyter-widgets/controls",
      "model_module_version": "1.2.0",
      "model_name": "DescriptionStyleModel",
      "state": {
       "description_width": ""
      }
     },
     "2043cd0deada4e3fad44e7ca841638c1": {
      "model_module": "@jupyter-widgets/controls",
      "model_module_version": "1.2.0",
      "model_name": "DescriptionStyleModel",
      "state": {
       "description_width": ""
      }
     },
     "204a0f3ab1ae479497beda405bcf1a5f": {
      "model_module": "@jupyter-widgets/controls",
      "model_module_version": "1.2.0",
      "model_name": "VBoxModel",
      "state": {
       "children": [
        "IPY_MODEL_c887111977a14213b8d43f3198bccb35",
        "IPY_MODEL_d7fa2281c10b4adf84ba27f9fc3d0be7"
       ],
       "layout": "IPY_MODEL_37ad7e9ad02244f7aaae9222cbbafdb1"
      }
     },
     "2092f80b175343eb85daaa486ff93c81": {
      "model_module": "@jupyter-widgets/controls",
      "model_module_version": "1.2.0",
      "model_name": "SelectModel",
      "state": {
       "_options_labels": [
        "data/beads/beads_000_.SPE",
        "data/beads/beads_001_.SPE",
        "data/beads/beads_002_.SPE",
        "data/beads/beads_003_.SPE",
        "data/beads/beads_004_.SPE",
        "data/beads/beads_005_.SPE",
        "data/beads/beads_006_.SPE",
        "data/beads/beads_007_.SPE",
        "data/beads/beads_008_.SPE",
        "data/beads/beads_009_.SPE"
       ],
       "index": 0,
       "layout": "IPY_MODEL_c1a95db583ea40a8bd5289f44bcfe4db",
       "style": "IPY_MODEL_30c5f2d80a094d839f584d1816185c02"
      }
     },
     "211438e48b4d4c84848bb99f9b5277a3": {
      "model_module": "@jupyter-widgets/base",
      "model_module_version": "1.0.0",
      "model_name": "LayoutModel",
      "state": {
       "width": "auto"
      }
     },
     "218f89f1b57c455fb73eaf34eae69515": {
      "model_module": "@jupyter-widgets/base",
      "model_module_version": "1.0.0",
      "model_name": "LayoutModel",
      "state": {
       "width": "75%"
      }
     },
     "21a5d117f81846c995b25fedf5e25b60": {
      "model_module": "@jupyter-widgets/controls",
      "model_module_version": "1.2.0",
      "model_name": "VBoxModel",
      "state": {
       "children": [
        "IPY_MODEL_1f18affa79ef42288f546fb5bc51d6f1",
        "IPY_MODEL_444486cd6d484fc29b8662b83e39a1c7"
       ],
       "layout": "IPY_MODEL_c4865af8e5dd49cd8f5d7afa13b14e00"
      }
     },
     "21c258a629b84bf88eb34298a9a4890f": {
      "model_module": "@jupyter-widgets/base",
      "model_module_version": "1.0.0",
      "model_name": "LayoutModel",
      "state": {}
     },
     "21e3f66ac5e84b76ade247bbee7d3a2e": {
      "model_module": "@jupyter-widgets/base",
      "model_module_version": "1.0.0",
      "model_name": "LayoutModel",
      "state": {}
     },
     "222d8f9f55e146e09e3ae7466365f535": {
      "model_module": "@jupyter-widgets/controls",
      "model_module_version": "1.2.0",
      "model_name": "LabelModel",
      "state": {
       "layout": "IPY_MODEL_684f2399c84e4a138aa7382625304dc2",
       "style": "IPY_MODEL_47f997f116f94cb7b6c09480f14e106b",
       "value": "Locating beads (file 1/10)"
      }
     },
     "224958830e62412ab889b6ed9fa99549": {
      "model_module": "@jupyter-widgets/base",
      "model_module_version": "1.0.0",
      "model_name": "LayoutModel",
      "state": {}
     },
     "224e1cf0fe094f1cb7bd8bd9e295a39e": {
      "model_module": "@jupyter-widgets/controls",
      "model_module_version": "1.2.0",
      "model_name": "IntRangeSliderModel",
      "state": {
       "_model_name": "IntRangeSliderModel",
       "_view_name": "IntRangeSliderView",
       "layout": "IPY_MODEL_79f327509cd0406eb137e2966fa39e9d",
       "max": 65535,
       "style": "IPY_MODEL_0842280875f046f9bd4875c3380bfbad",
       "value": [
        134,
        25393
       ]
      }
     },
     "22774ed79f5246f8bdae0943eeb6e6e9": {
      "model_module": "@jupyter-widgets/controls",
      "model_module_version": "1.2.0",
      "model_name": "CheckboxModel",
      "state": {
       "description": "Size range",
       "disabled": false,
       "indent": false,
       "layout": "IPY_MODEL_d2b5042a9f0444d1924bcf1fd5e7eca3",
       "style": "IPY_MODEL_94f4193040594a02ae652bd3d3e3d594",
       "value": false
      }
     },
     "22776c758f7b4a8fa05284d9d38dbddf": {
      "model_module": "@jupyter-widgets/controls",
      "model_module_version": "1.2.0",
      "model_name": "DescriptionStyleModel",
      "state": {
       "description_width": ""
      }
     },
     "227e2ab8ee8d4793ad719eccc3e015cc": {
      "model_module": "@jupyter-widgets/base",
      "model_module_version": "1.0.0",
      "model_name": "LayoutModel",
      "state": {
       "width": "auto"
      }
     },
     "22b68ddab2c2411594fbcfc31effcc46": {
      "model_module": "@jupyter-widgets/controls",
      "model_module_version": "1.2.0",
      "model_name": "DescriptionStyleModel",
      "state": {
       "description_width": ""
      }
     },
     "231428bf0d4e4a05bd025cacd9928568": {
      "model_module": "@jupyter-widgets/base",
      "model_module_version": "1.0.0",
      "model_name": "LayoutModel",
      "state": {
       "width": "auto"
      }
     },
     "231f86b690714dfe9cc5b0b688cc7436": {
      "model_module": "@jupyter-widgets/base",
      "model_module_version": "1.0.0",
      "model_name": "LayoutModel",
      "state": {
       "width": "auto"
      }
     },
     "2353ee96d43b4eeba4ba08bea7bedd62": {
      "model_module": "@jupyter-widgets/base",
      "model_module_version": "1.0.0",
      "model_name": "LayoutModel",
      "state": {}
     },
     "23584d65dabc4ac5bca52dd8242e6d0b": {
      "model_module": "@jupyter-widgets/controls",
      "model_module_version": "1.2.0",
      "model_name": "CheckboxModel",
      "state": {
       "description": "Show loc.",
       "disabled": false,
       "indent": false,
       "layout": "IPY_MODEL_7ff62e478ee3437995b243f6afd57b84",
       "style": "IPY_MODEL_655aa290448849aea0de2e014b6c32a3",
       "value": true
      }
     },
     "236ced0324ff408f86c0ce05e6e95632": {
      "model_module": "@jupyter-widgets/controls",
      "model_module_version": "1.2.0",
      "model_name": "VBoxModel",
      "state": {
       "children": [
        "IPY_MODEL_ca617da8968c4c1986bef67c8512c210",
        "IPY_MODEL_a276506d90a345b8bcb85fd8e7f7e8aa",
        "IPY_MODEL_6f6341c501034480a9a338ed54045c74",
        "IPY_MODEL_8f8a4480e7a041a49dc9356e93bc2275",
        "IPY_MODEL_72bce2cf39e4492eae53e8df455d7341",
        "IPY_MODEL_1dde5233f259499a95d6f308b4422da5"
       ],
       "layout": "IPY_MODEL_0e0fc3f0530442bba3c7061cba46620f"
      }
     },
     "2370a758df184f00999f5f3619f13293": {
      "model_module": "@jupyter-widgets/base",
      "model_module_version": "1.0.0",
      "model_name": "LayoutModel",
      "state": {}
     },
     "238977709bdf4273955dfeab92032af3": {
      "model_module": "@jupyter-widgets/controls",
      "model_module_version": "1.2.0",
      "model_name": "DescriptionStyleModel",
      "state": {
       "description_width": ""
      }
     },
     "23bbf40415384f4396f29d0185ec83d1": {
      "model_module": "@jupyter-widgets/base",
      "model_module_version": "1.0.0",
      "model_name": "LayoutModel",
      "state": {
       "width": "auto"
      }
     },
     "240bb6fc82db4d97a94b5dc41b4da29f": {
      "model_module": "@jupyter-widgets/controls",
      "model_module_version": "1.2.0",
      "model_name": "DescriptionStyleModel",
      "state": {
       "description_width": ""
      }
     },
     "24475c6043a942c497d7399ef40ae173": {
      "model_module": "@jupyter-widgets/controls",
      "model_module_version": "1.2.0",
      "model_name": "DropdownModel",
      "state": {
       "_options_labels": [
        "Identity",
        "Cg",
        "Gaussian"
       ],
       "description": "find filter",
       "index": 1,
       "layout": "IPY_MODEL_837f0a9b22bc4f38a3e697aded6b628d",
       "style": "IPY_MODEL_c37a86f18d434de481acc8f8c3e59e8c"
      }
     },
     "2467966b102f48b1b0652ad6b9514f5c": {
      "model_module": "@jupyter-widgets/base",
      "model_module_version": "1.0.0",
      "model_name": "LayoutModel",
      "state": {
       "display": "none"
      }
     },
     "2481b947f1e64a2295066506b699d3bd": {
      "model_module": "@jupyter-widgets/base",
      "model_module_version": "1.0.0",
      "model_name": "LayoutModel",
      "state": {
       "width": "auto"
      }
     },
     "24a26ed920a841b79ce1e40c95c04c75": {
      "model_module": "@jupyter-widgets/base",
      "model_module_version": "1.0.0",
      "model_name": "LayoutModel",
      "state": {
       "width": "auto"
      }
     },
     "24b12ffeda4e43ec875b10f3506e60aa": {
      "model_module": "@jupyter-widgets/controls",
      "model_module_version": "1.2.0",
      "model_name": "FloatTextModel",
      "state": {
       "description": "sigma",
       "layout": "IPY_MODEL_2467966b102f48b1b0652ad6b9514f5c",
       "step": 0.1,
       "style": "IPY_MODEL_a6d5cfc2bb1e4c3e8d2347b6facee790",
       "value": 1
      }
     },
     "24e494ac93814a6ea0390b240089ced1": {
      "model_module": "@jupyter-widgets/controls",
      "model_module_version": "1.2.0",
      "model_name": "CheckboxModel",
      "state": {
       "description": "Size range",
       "disabled": false,
       "indent": false,
       "layout": "IPY_MODEL_440ba55ee22e4093b0a711491eb05679",
       "style": "IPY_MODEL_559057d02ee8475d88b706cfc4ac2550",
       "value": false
      }
     },
     "24f230003cf34f44811eff269324db40": {
      "model_module": "@jupyter-widgets/controls",
      "model_module_version": "1.2.0",
      "model_name": "BoundedIntTextModel",
      "state": {
       "description": "frame",
       "layout": "IPY_MODEL_31fb0845074041e89dbcfc2a92d041c7",
       "max": 49,
       "style": "IPY_MODEL_3fc5493462e34f968eaa4595b4087632"
      }
     },
     "24f9aca8649f438e8f190b3fb6de6a2a": {
      "model_module": "@jupyter-widgets/controls",
      "model_module_version": "1.2.0",
      "model_name": "DescriptionStyleModel",
      "state": {
       "description_width": ""
      }
     },
     "24fff02cef674ac28553e16fb46624bc": {
      "model_module": "@jupyter-widgets/base",
      "model_module_version": "1.0.0",
      "model_name": "LayoutModel",
      "state": {
       "display": "flex",
       "flex_flow": "column wrap",
       "width": "66%"
      }
     },
     "252624c1b8bc45849aea2df3c599d2bc": {
      "model_module": "@jupyter-widgets/controls",
      "model_module_version": "1.2.0",
      "model_name": "DescriptionStyleModel",
      "state": {
       "description_width": ""
      }
     },
     "25457bbf14f747009b4f21cacf16a341": {
      "model_module": "@jupyter-widgets/controls",
      "model_module_version": "1.2.0",
      "model_name": "DescriptionStyleModel",
      "state": {
       "description_width": ""
      }
     },
     "25609cd00cca4ad98a9f3d96ba3f9412": {
      "model_module": "@jupyter-widgets/controls",
      "model_module_version": "1.2.0",
      "model_name": "IntTextModel",
      "state": {
       "description": "feat. size",
       "layout": "IPY_MODEL_bce61fa1fd5a43f4886194936763e3ed",
       "step": 1,
       "style": "IPY_MODEL_f8d1b568b660420db7d1ce62dd5e83a4",
       "value": 3
      }
     },
     "25a28600fbd84832bcec0ae2b9587f77": {
      "model_module": "@jupyter-widgets/base",
      "model_module_version": "1.0.0",
      "model_name": "LayoutModel",
      "state": {
       "height": "150px",
       "width": "100%"
      }
     },
     "25b3ace3c419458dae29cd6b98c93d8a": {
      "model_module": "@jupyter-widgets/base",
      "model_module_version": "1.0.0",
      "model_name": "LayoutModel",
      "state": {
       "width": "auto"
      }
     },
     "25c7833c2c09419385454a435a839d35": {
      "model_module": "@jupyter-widgets/controls",
      "model_module_version": "1.2.0",
      "model_name": "VBoxModel",
      "state": {
       "children": [
        "IPY_MODEL_6118948bd2ef4d3d81a851ddc10f4615",
        "IPY_MODEL_62e1db1aaa5b45a0b6720e7f406ee060",
        "IPY_MODEL_4533b1a7813e4a9cb97fc5fcbb667536"
       ],
       "layout": "IPY_MODEL_955beeb69d4544638a89c228bc8f7b5c"
      }
     },
     "263c7b3f7a5945b1a9b4b41ecb3dc41f": {
      "model_module": "@jupyter-widgets/base",
      "model_module_version": "1.0.0",
      "model_name": "LayoutModel",
      "state": {
       "width": "75%"
      }
     },
     "26b27b62cee64444ad2310759c9c6f22": {
      "model_module": "@jupyter-widgets/controls",
      "model_module_version": "1.2.0",
      "model_name": "SliderStyleModel",
      "state": {
       "description_width": ""
      }
     },
     "26b33f01a9594bf3affc727010a0a2ad": {
      "model_module": "@jupyter-widgets/base",
      "model_module_version": "1.0.0",
      "model_name": "LayoutModel",
      "state": {
       "width": "auto"
      }
     },
     "26b80179517e4b0baa9f3af84146b235": {
      "model_module": "@jupyter-widgets/base",
      "model_module_version": "1.0.0",
      "model_name": "LayoutModel",
      "state": {}
     },
     "26d2919eacc5468aa126e4cfc0d56667": {
      "model_module": "@jupyter-widgets/controls",
      "model_module_version": "1.2.0",
      "model_name": "DropdownModel",
      "state": {
       "_options_labels": [
        "2d_fixed",
        "2d",
        "3d"
       ],
       "description": "model",
       "index": 1,
       "layout": "IPY_MODEL_ac3eb350b9ab429188d86a4f3b37e9c2",
       "style": "IPY_MODEL_f5171890257d4ae9b7960af46e292557"
      }
     },
     "26f48594057b4a9bb43df30bb93f5b23": {
      "model_module": "@jupyter-widgets/base",
      "model_module_version": "1.0.0",
      "model_name": "LayoutModel",
      "state": {
       "width": "auto"
      }
     },
     "26f739099bc54aa2a30e8f2c6418e19c": {
      "model_module": "@jupyter-widgets/controls",
      "model_module_version": "1.2.0",
      "model_name": "DescriptionStyleModel",
      "state": {
       "description_width": ""
      }
     },
     "27481714e8124b0099cfed1052ffa3f3": {
      "model_module": "@jupyter-widgets/controls",
      "model_module_version": "1.2.0",
      "model_name": "LabelModel",
      "state": {
       "layout": "IPY_MODEL_763e1749ef914ea7811b6939b9341d02",
       "style": "IPY_MODEL_c4a58ea60bdf4b0caf83c160414e7aef",
       "value": "Locating beads (file 10/10)"
      }
     },
     "2750af465b3b43f9b53afe32e8b254fa": {
      "model_module": "@jupyter-widgets/base",
      "model_module_version": "1.0.0",
      "model_name": "LayoutModel",
      "state": {
       "width": "75%"
      }
     },
     "27651f52f6ff4380a078ba196083ee0e": {
      "model_module": "@jupyter-widgets/controls",
      "model_module_version": "1.2.0",
      "model_name": "FloatTextModel",
      "state": {
       "layout": "IPY_MODEL_91e79b1b840744d9b854fdd8077678e3",
       "step": 0.1,
       "style": "IPY_MODEL_240bb6fc82db4d97a94b5dc41b4da29f",
       "value": 3
      }
     },
     "27800e141b1d44a0a185d03be1413c16": {
      "model_module": "@jupyter-widgets/base",
      "model_module_version": "1.0.0",
      "model_name": "LayoutModel",
      "state": {}
     },
     "27bf2951473a4cca94241d9317e7848f": {
      "model_module": "@jupyter-widgets/controls",
      "model_module_version": "1.2.0",
      "model_name": "DescriptionStyleModel",
      "state": {
       "description_width": ""
      }
     },
     "27bf74a1371a4914b4cecefd7800c57e": {
      "model_module": "@jupyter-widgets/controls",
      "model_module_version": "1.2.0",
      "model_name": "FloatTextModel",
      "state": {
       "description": "threshold",
       "layout": "IPY_MODEL_fa85be82a78740ccbe7fe9f5698937ea",
       "step": 10,
       "style": "IPY_MODEL_91bc4b10676e4c61858563567dd750ca",
       "value": 1000
      }
     },
     "27c2f36460284101b93dd9865d56f8cd": {
      "model_module": "@jupyter-widgets/controls",
      "model_module_version": "1.2.0",
      "model_name": "VBoxModel",
      "state": {
       "children": [
        "IPY_MODEL_0fdde6d3a31a4ddb847a09ae10b05383",
        "IPY_MODEL_d277ada9698942f7a3120b5b5b0020f6",
        "IPY_MODEL_f600f248ba90466d8dd8683ec84f5648",
        "IPY_MODEL_ce558e41002f4a728f1c99b7abf8847e",
        "IPY_MODEL_5fbca88f0d204db0980fdaccd5ebc768",
        "IPY_MODEL_f6183b586f424489800494cf530d3351"
       ],
       "layout": "IPY_MODEL_c947362c1b424fc5889ba242be69b499"
      }
     },
     "27d49c4881bc4966914232937258123b": {
      "model_module": "@jupyter-widgets/controls",
      "model_module_version": "1.2.0",
      "model_name": "IntRangeSliderModel",
      "state": {
       "_model_name": "IntRangeSliderModel",
       "_view_name": "IntRangeSliderView",
       "layout": "IPY_MODEL_a5faeb5167ce47aea07efeb2e4a37cb7",
       "max": 65535,
       "style": "IPY_MODEL_ed36a418cd2a4bd0b0d8656c05df3454",
       "value": [
        125,
        629
       ]
      }
     },
     "27ead681a1ba429b92a13a857b53aa84": {
      "model_module": "@jupyter-widgets/base",
      "model_module_version": "1.0.0",
      "model_name": "LayoutModel",
      "state": {
       "display": "none"
      }
     },
     "282166fd839b46a8975d5295b184eda0": {
      "model_module": "@jupyter-widgets/controls",
      "model_module_version": "1.2.0",
      "model_name": "VBoxModel",
      "state": {
       "children": [
        "IPY_MODEL_06913487a458403db576442098aaf641",
        "IPY_MODEL_fc73dc2829344e42b3a1a5fae6bbb433",
        "IPY_MODEL_674f4e5e4142457aa0f2baa89d35f656",
        "IPY_MODEL_fec22a280af8468cb503dc8db631ab0d",
        "IPY_MODEL_b61fb761db744db38b5c72ab47e45def",
        "IPY_MODEL_a793d2ff390c4cba8bba9a04ce7027fe"
       ],
       "layout": "IPY_MODEL_24fff02cef674ac28553e16fb46624bc"
      }
     },
     "282db8f01dd440359bb199e2eec96391": {
      "model_module": "@jupyter-widgets/controls",
      "model_module_version": "1.2.0",
      "model_name": "DescriptionStyleModel",
      "state": {
       "description_width": ""
      }
     },
     "285746af59934c1f9dc7dec16ecc850a": {
      "model_module": "@jupyter-widgets/base",
      "model_module_version": "1.0.0",
      "model_name": "LayoutModel",
      "state": {}
     },
     "28c191d302554977ae914cef8a33edc7": {
      "model_module": "@jupyter-widgets/base",
      "model_module_version": "1.0.0",
      "model_name": "LayoutModel",
      "state": {
       "display": "none"
      }
     },
     "28d9606c6c444c8889a38c026e121723": {
      "model_module": "@jupyter-widgets/base",
      "model_module_version": "1.0.0",
      "model_name": "LayoutModel",
      "state": {
       "width": "75%"
      }
     },
     "28db640f6655482bb8f2b6e8ff208751": {
      "model_module": "@jupyter-widgets/base",
      "model_module_version": "1.0.0",
      "model_name": "LayoutModel",
      "state": {
       "display": "none"
      }
     },
     "28dc5f98ecd749c4aafd9e308637a0af": {
      "model_module": "@jupyter-widgets/base",
      "model_module_version": "1.0.0",
      "model_name": "LayoutModel",
      "state": {}
     },
     "291699d4a0464adaba373e687b282354": {
      "model_module": "@jupyter-widgets/controls",
      "model_module_version": "1.2.0",
      "model_name": "VBoxModel",
      "state": {
       "children": [
        "IPY_MODEL_4b79d28c9da94143bc5fc8704f601ac8",
        "IPY_MODEL_6a42f1db81a7409f8ef425c591924c0a",
        "IPY_MODEL_d21d4e68107f43489fea482a77b5202c",
        "IPY_MODEL_861cffcb15a747e59761de0c27edcde8",
        "IPY_MODEL_338cf44fdfa9462cb4f5b1bc1190980d",
        "IPY_MODEL_d07de0d18471434090f63b183d5e89f7"
       ],
       "layout": "IPY_MODEL_99f1ee486e0e4c74905797cdf8833326"
      }
     },
     "29201598bb254ab9bd8c10d07bcb944e": {
      "model_module": "@jupyter-widgets/base",
      "model_module_version": "1.0.0",
      "model_name": "LayoutModel",
      "state": {
       "width": "auto"
      }
     },
     "2935f9dd0f2347839e2a4b45779199de": {
      "model_module": "@jupyter-widgets/base",
      "model_module_version": "1.0.0",
      "model_name": "LayoutModel",
      "state": {}
     },
     "298d1fcc82444382bcd444d7d25a6a2b": {
      "model_module": "@jupyter-widgets/base",
      "model_module_version": "1.0.0",
      "model_name": "LayoutModel",
      "state": {}
     },
     "299f78c9bbf54627a5cf711b09631352": {
      "model_module": "@jupyter-widgets/controls",
      "model_module_version": "1.2.0",
      "model_name": "IntRangeSliderModel",
      "state": {
       "_model_name": "IntRangeSliderModel",
       "_view_name": "IntRangeSliderView",
       "layout": "IPY_MODEL_6ed02a6c11804f8c95e9f0e2f6da5699",
       "max": 65535,
       "style": "IPY_MODEL_46abbf8828f94c0caed5369b5f796c00",
       "value": [
        134,
        25393
       ]
      }
     },
     "29d16c61645f49d2ab9b58de4ae91ac4": {
      "model_module": "@jupyter-widgets/controls",
      "model_module_version": "1.2.0",
      "model_name": "FloatTextModel",
      "state": {
       "description": "sigma",
       "layout": "IPY_MODEL_c2a65a1077bf4b1c9b3ba8ffd3359b39",
       "step": 0.1,
       "style": "IPY_MODEL_22776c758f7b4a8fa05284d9d38dbddf",
       "value": 1
      }
     },
     "2a5e8949cf8340159bb28df661b072f1": {
      "model_module": "@jupyter-widgets/controls",
      "model_module_version": "1.2.0",
      "model_name": "SelectModel",
      "state": {
       "_options_labels": [
        "data/sensor-H57/no-cells_SAv-100k_SSS-H57-20k_000_.SPE"
       ],
       "index": 0,
       "layout": "IPY_MODEL_6d767473af654f5d9c73510ab45043e4",
       "style": "IPY_MODEL_9947c25988e0400daccfea90915c9ee2"
      }
     },
     "2a6e1b9ea69042ccb479bd8922b4c3e3": {
      "model_module": "@jupyter-widgets/controls",
      "model_module_version": "1.2.0",
      "model_name": "DescriptionStyleModel",
      "state": {
       "description_width": ""
      }
     },
     "2a7eeda57e1c429d8a77b6e15d71696f": {
      "model_module": "@jupyter-widgets/controls",
      "model_module_version": "1.2.0",
      "model_name": "ButtonModel",
      "state": {
       "description": "Auto",
       "layout": "IPY_MODEL_056306537363474c8160e61694a424b4",
       "style": "IPY_MODEL_f0a8fd71c949419c816299f44103538f"
      }
     },
     "2a7f49c3ab8141999adc08d0345fcedb": {
      "model_module": "@jupyter-widgets/controls",
      "model_module_version": "1.2.0",
      "model_name": "DescriptionStyleModel",
      "state": {
       "description_width": ""
      }
     },
     "2a854f57f160446f88868cdfeebd1b15": {
      "model_module": "@jupyter-widgets/base",
      "model_module_version": "1.0.0",
      "model_name": "LayoutModel",
      "state": {
       "width": "100%"
      }
     },
     "2ace33678a664e7f93b399359db8e7a9": {
      "model_module": "@jupyter-widgets/controls",
      "model_module_version": "1.2.0",
      "model_name": "FloatTextModel",
      "state": {
       "description": "max.",
       "layout": "IPY_MODEL_80f46a1514ff47459596d207e4185b65",
       "step": 0.1,
       "style": "IPY_MODEL_83d3e31c57f34f7d82e2583f231da2e9",
       "value": 2
      }
     },
     "2aeaabc4b9664104a7864f9d43b1d619": {
      "model_module": "@jupyter-widgets/controls",
      "model_module_version": "1.2.0",
      "model_name": "SelectModel",
      "state": {
       "_options_labels": [
        "sensor-H57/cells-01_SAv-100k_SSS-H57-20k_000_.SPE"
       ],
       "index": 0,
       "layout": "IPY_MODEL_c35106bfaa0941c6b210074ade26615e",
       "style": "IPY_MODEL_cc8cddcf0157400f815cc2a75b4a618e"
      }
     },
     "2b58c109e6ac46239d4f9d6bdda564c4": {
      "model_module": "@jupyter-widgets/base",
      "model_module_version": "1.0.0",
      "model_name": "LayoutModel",
      "state": {}
     },
     "2b5f6308bdf14b199396b2ea3b42bb13": {
      "model_module": "@jupyter-widgets/base",
      "model_module_version": "1.0.0",
      "model_name": "LayoutModel",
      "state": {}
     },
     "2b8b9302d0f9428686e139e3c91bbfec": {
      "model_module": "@jupyter-widgets/controls",
      "model_module_version": "1.2.0",
      "model_name": "VBoxModel",
      "state": {
       "children": [
        "IPY_MODEL_2092f80b175343eb85daaa486ff93c81",
        "IPY_MODEL_b3b7103e5014420a93ef7594b418fbdc"
       ],
       "layout": "IPY_MODEL_850705be2c594966a1ed5adf20120cf0"
      }
     },
     "2bad4212a2344400817848a55f43b7e2": {
      "model_module": "@jupyter-widgets/base",
      "model_module_version": "1.0.0",
      "model_name": "LayoutModel",
      "state": {}
     },
     "2bdc6286bc324446abeb806728914f9b": {
      "model_module": "@jupyter-widgets/controls",
      "model_module_version": "1.2.0",
      "model_name": "FloatTextModel",
      "state": {
       "description": "threshold",
       "layout": "IPY_MODEL_f69970cdb3da4bffa54fc4e5b5df7d1d",
       "step": 10,
       "style": "IPY_MODEL_d5b6469fb03547a0bc9f4e339c5580ce",
       "value": 80
      }
     },
     "2be1c140067242058022433e037e7d46": {
      "model_module": "@jupyter-widgets/base",
      "model_module_version": "1.0.0",
      "model_name": "LayoutModel",
      "state": {
       "display": "flex",
       "flex_flow": "column wrap",
       "width": "66%"
      }
     },
     "2c2757aa06f04e0dace96d88c285a4d5": {
      "model_module": "@jupyter-widgets/base",
      "model_module_version": "1.0.0",
      "model_name": "LayoutModel",
      "state": {}
     },
     "2cab9af1129d4fa09b95251563b39926": {
      "model_module": "@jupyter-widgets/base",
      "model_module_version": "1.0.0",
      "model_name": "LayoutModel",
      "state": {
       "width": "auto"
      }
     },
     "2cb3f4efb70e404ba44e739a4911fd9a": {
      "model_module": "@jupyter-widgets/controls",
      "model_module_version": "1.2.0",
      "model_name": "HBoxModel",
      "state": {
       "children": [
        "IPY_MODEL_b5382e8e4a334e689f87ee8406f5b5a4",
        "IPY_MODEL_5086ea7aef1f46a5808760b81c382cb7"
       ],
       "layout": "IPY_MODEL_cbcb7d4ab97141fc96f65b0380eba974"
      }
     },
     "2d00fffaf6f0433197e27cafa9c30d99": {
      "model_module": "@jupyter-widgets/controls",
      "model_module_version": "1.2.0",
      "model_name": "CheckboxModel",
      "state": {
       "description": "Min. distance",
       "disabled": false,
       "indent": false,
       "layout": "IPY_MODEL_0d28e98bb1b740e9b120e4d2ed3ef1b9",
       "style": "IPY_MODEL_eabfc79546414ba9812c47f254b8d06b",
       "value": true
      }
     },
     "2d34235e1324485a9b3095eb00fffcdd": {
      "model_module": "@jupyter-widgets/controls",
      "model_module_version": "1.2.0",
      "model_name": "HBoxModel",
      "state": {
       "children": [
        "IPY_MODEL_65772dc1e5764508bf7830b7a5a9a2b4",
        "IPY_MODEL_07ba1d809e7c4ee195754d8378541f95"
       ],
       "layout": "IPY_MODEL_bbfa607bfd6a4404b67fb4e05e5b41f0"
      }
     },
     "2d63d416c73b4a6b9ae3882a85c68391": {
      "model_module": "@jupyter-widgets/base",
      "model_module_version": "1.0.0",
      "model_name": "LayoutModel",
      "state": {}
     },
     "2da60094b46e4cf69901d81463e9475b": {
      "model_module": "@jupyter-widgets/base",
      "model_module_version": "1.0.0",
      "model_name": "LayoutModel",
      "state": {}
     },
     "2dacbaa2b3094d1a80a90e4ec97b39e8": {
      "model_module": "@jupyter-widgets/controls",
      "model_module_version": "1.2.0",
      "model_name": "DescriptionStyleModel",
      "state": {
       "description_width": ""
      }
     },
     "2db8ca2299fe4fa48602131838f721ce": {
      "model_module": "@jupyter-widgets/controls",
      "model_module_version": "1.2.0",
      "model_name": "LabelModel",
      "state": {
       "layout": "IPY_MODEL_723210085c814704904c271a2a99f89c",
       "style": "IPY_MODEL_edc2949c96304ab1b6e61e36f72849ca",
       "value": "Tracking ctrl-H57/no-cells_SAv-100k_SSS-ctrl-H57-50k_029_.SPE (213/213)"
      }
     },
     "2dcbe250205243a6a313528d00fb0663": {
      "model_module": "@jupyter-widgets/controls",
      "model_module_version": "1.2.0",
      "model_name": "DescriptionStyleModel",
      "state": {
       "description_width": ""
      }
     },
     "2dcd207dc31e43ba81fa5e18ff2c7f5e": {
      "model_module": "@jupyter-widgets/controls",
      "model_module_version": "1.2.0",
      "model_name": "CheckboxModel",
      "state": {
       "description": "Size range",
       "disabled": false,
       "indent": false,
       "layout": "IPY_MODEL_211438e48b4d4c84848bb99f9b5277a3",
       "style": "IPY_MODEL_704bb813a1324e319c9d68815e865f2d",
       "value": false
      }
     },
     "2dd721c826fe4e56abc05887e2133573": {
      "model_module": "@jupyter-widgets/base",
      "model_module_version": "1.0.0",
      "model_name": "LayoutModel",
      "state": {
       "width": "100%"
      }
     },
     "2df394f6bb7e4aada10f1ba8d918d4fb": {
      "model_module": "@jupyter-widgets/base",
      "model_module_version": "1.0.0",
      "model_name": "LayoutModel",
      "state": {
       "width": "75%"
      }
     },
     "2df5ef056f3c40e6b6d2b8e39ede9f6d": {
      "model_module": "@jupyter-widgets/controls",
      "model_module_version": "1.2.0",
      "model_name": "DescriptionStyleModel",
      "state": {
       "description_width": ""
      }
     },
     "2dfba74104b24ebe8e5d983f36979c28": {
      "model_module": "@jupyter-widgets/controls",
      "model_module_version": "1.2.0",
      "model_name": "DescriptionStyleModel",
      "state": {
       "description_width": ""
      }
     },
     "2e337cabe3184abea9ba58b6f0f7fa72": {
      "model_module": "@jupyter-widgets/controls",
      "model_module_version": "1.2.0",
      "model_name": "DescriptionStyleModel",
      "state": {
       "description_width": ""
      }
     },
     "2e5a7d571e3a46eb8df1918e46ef0e05": {
      "model_module": "@jupyter-widgets/controls",
      "model_module_version": "1.2.0",
      "model_name": "VBoxModel",
      "state": {
       "children": [
        "IPY_MODEL_5eaf8f3cdebe4e9cad9fb053d288afdf",
        "IPY_MODEL_8f419c9a97774aa7b8672e5b715e1279",
        "IPY_MODEL_f57b7edd3d40443bb5669429abade58b"
       ],
       "layout": "IPY_MODEL_74ed080bf3d343688e27a95f3cdc939f"
      }
     },
     "2e5dcae31e52441794fbc41e8ead87db": {
      "model_module": "@jupyter-widgets/base",
      "model_module_version": "1.0.0",
      "model_name": "LayoutModel",
      "state": {
       "width": "auto"
      }
     },
     "2e5fdd4a325c4074b3d9cc96928c9f53": {
      "model_module": "@jupyter-widgets/base",
      "model_module_version": "1.0.0",
      "model_name": "LayoutModel",
      "state": {}
     },
     "2e7b3e7890d948e0915983a4ef86ab85": {
      "model_module": "@jupyter-widgets/base",
      "model_module_version": "1.0.0",
      "model_name": "LayoutModel",
      "state": {}
     },
     "2e8e52ae825e4c72986f6383f0aa0290": {
      "model_module": "@jupyter-widgets/base",
      "model_module_version": "1.0.0",
      "model_name": "LayoutModel",
      "state": {}
     },
     "2ea8a59f129b405d87173f9f3230b8e6": {
      "model_module": "@jupyter-widgets/controls",
      "model_module_version": "1.2.0",
      "model_name": "DescriptionStyleModel",
      "state": {
       "description_width": ""
      }
     },
     "2edf73a67e144099aca3bd81f94bd30e": {
      "model_module": "@jupyter-widgets/base",
      "model_module_version": "1.0.0",
      "model_name": "LayoutModel",
      "state": {
       "width": "100%"
      }
     },
     "2efa69b4d750402ebc98cbc7f32d21de": {
      "model_module": "@jupyter-widgets/controls",
      "model_module_version": "1.2.0",
      "model_name": "ButtonModel",
      "state": {
       "description": "Auto",
       "layout": "IPY_MODEL_ea75b7b76fc947c1a28b1f756d684b82",
       "style": "IPY_MODEL_64858b97ea784e55991766fa5500663e"
      }
     },
     "2f12a2c7f96c446295d15e6f1634ad2e": {
      "model_module": "@jupyter-widgets/controls",
      "model_module_version": "1.2.0",
      "model_name": "DescriptionStyleModel",
      "state": {
       "description_width": ""
      }
     },
     "2f4053fa41d94007a658e0781bd57781": {
      "model_module": "@jupyter-widgets/controls",
      "model_module_version": "1.2.0",
      "model_name": "VBoxModel",
      "state": {
       "children": [
        "IPY_MODEL_bfab9ba562884a3e81d2e2b4af74b31d",
        "IPY_MODEL_6153c1e9a4ec40c1af4f614afd962372",
        "IPY_MODEL_cff2e78cddb748b29dc024bb9f23ab30"
       ],
       "layout": "IPY_MODEL_a454f90010344f9da575044b7c3b7350"
      }
     },
     "2f46ab7834e24ba5b2f8dd7da1f358d1": {
      "model_module": "@jupyter-widgets/controls",
      "model_module_version": "1.2.0",
      "model_name": "CheckboxModel",
      "state": {
       "description": "Show loc.",
       "disabled": false,
       "indent": false,
       "layout": "IPY_MODEL_a83193a683334498a1967275c84acf79",
       "style": "IPY_MODEL_cddee87aa2554225887a998832e81dc0",
       "value": true
      }
     },
     "2f74747c945244348968b676d001dc3d": {
      "model_module": "@jupyter-widgets/base",
      "model_module_version": "1.0.0",
      "model_name": "LayoutModel",
      "state": {}
     },
     "2f874938a2d94bcba003ba49e8e33c0a": {
      "model_module": "@jupyter-widgets/controls",
      "model_module_version": "1.2.0",
      "model_name": "BoundedIntTextModel",
      "state": {
       "description": "frame",
       "layout": "IPY_MODEL_e0de3359d3ad4c85a2024598e52fb1b2",
       "max": 49,
       "style": "IPY_MODEL_c230cc0668ed41d99de71598ded8c06c",
       "value": 5
      }
     },
     "2ff157d5494b47c29f5d253371c8ea80": {
      "model_module": "@jupyter-widgets/base",
      "model_module_version": "1.0.0",
      "model_name": "LayoutModel",
      "state": {
       "width": "auto"
      }
     },
     "30a0241e5c814472b05714b48f2ffe88": {
      "model_module": "@jupyter-widgets/controls",
      "model_module_version": "1.2.0",
      "model_name": "HBoxModel",
      "state": {
       "children": [
        "IPY_MODEL_b304b4607fc342b6b848e390fe8bdfd8",
        "IPY_MODEL_d3bc122c893f43a9a701e4b6f4766028"
       ],
       "layout": "IPY_MODEL_0524bbc1993d499ab516047e3e4ae8ef"
      }
     },
     "30ab117a33364db4b8b933f5dce6d78c": {
      "model_module": "@jupyter-widgets/base",
      "model_module_version": "1.0.0",
      "model_name": "LayoutModel",
      "state": {
       "width": "auto"
      }
     },
     "30c5f2d80a094d839f584d1816185c02": {
      "model_module": "@jupyter-widgets/controls",
      "model_module_version": "1.2.0",
      "model_name": "DescriptionStyleModel",
      "state": {
       "description_width": ""
      }
     },
     "3127de0b495e44bd958960c09eb00e6f": {
      "model_module": "@jupyter-widgets/base",
      "model_module_version": "1.0.0",
      "model_name": "LayoutModel",
      "state": {}
     },
     "3130d4af28a546978472cdba8dbea286": {
      "model_module": "@jupyter-widgets/controls",
      "model_module_version": "1.2.0",
      "model_name": "SelectModel",
      "state": {
       "_options_labels": [
        "data/beads/beads_000_.SPE",
        "data/beads/beads_001_.SPE",
        "data/beads/beads_002_.SPE",
        "data/beads/beads_003_.SPE",
        "data/beads/beads_004_.SPE",
        "data/beads/beads_005_.SPE",
        "data/beads/beads_006_.SPE",
        "data/beads/beads_007_.SPE",
        "data/beads/beads_008_.SPE",
        "data/beads/beads_009_.SPE"
       ],
       "index": 0,
       "layout": "IPY_MODEL_e49caeeef93048f3a2f0ba4968ab5447",
       "style": "IPY_MODEL_0cdd03ac64564b4c9f06551bd032c8e4"
      }
     },
     "314d4dde2e7143af86f5e874575a1e5e": {
      "model_module": "@jupyter-widgets/controls",
      "model_module_version": "1.2.0",
      "model_name": "VBoxModel",
      "state": {
       "children": [
        "IPY_MODEL_ba9317bcc582450e8dfd0a9089f6527a",
        "IPY_MODEL_0200b780536d46a68b76eabe0aa9c320",
        "IPY_MODEL_d1773b06b7614fe380b8490c85ae1797",
        "IPY_MODEL_df2a54fb5a494245ae210802a381041a",
        "IPY_MODEL_07751bd64e3b49d794716b8557be9e28",
        "IPY_MODEL_477607fb50a8480c92e3ba3e31698ab6"
       ],
       "layout": "IPY_MODEL_a9e6897cc4c3469b8c7059a067a847ea"
      }
     },
     "31b444c16f454933a68729399ccbbfdf": {
      "model_module": "@jupyter-widgets/controls",
      "model_module_version": "1.2.0",
      "model_name": "VBoxModel",
      "state": {
       "children": [
        "IPY_MODEL_4790f395dffc4ff392793a32a6539e60",
        "IPY_MODEL_0e53dd625aaf4141a1a499dd154d5c97",
        "IPY_MODEL_15fd5ddeea9b4b3ebf7f195fc013e804"
       ],
       "layout": "IPY_MODEL_7e859156759f45b38523fc18293aa11d"
      }
     },
     "31d34257a2ee401792e9a3e78ae01804": {
      "model_module": "@jupyter-widgets/controls",
      "model_module_version": "1.2.0",
      "model_name": "DescriptionStyleModel",
      "state": {
       "description_width": ""
      }
     },
     "31e0bc3e6a7f4c67994c1ad9260da0d1": {
      "model_module": "@jupyter-widgets/base",
      "model_module_version": "1.0.0",
      "model_name": "LayoutModel",
      "state": {
       "border": "1px solid gray"
      }
     },
     "31e4491c647e43999dd2c75c659a6a71": {
      "model_module": "@jupyter-widgets/controls",
      "model_module_version": "1.2.0",
      "model_name": "CheckboxModel",
      "state": {
       "description": "Size range",
       "disabled": false,
       "indent": false,
       "layout": "IPY_MODEL_514b5bd99b7c42adb3e56561b0c96554",
       "style": "IPY_MODEL_e8f311db4aae46339bc213801ec79649",
       "value": false
      }
     },
     "31fb0845074041e89dbcfc2a92d041c7": {
      "model_module": "@jupyter-widgets/base",
      "model_module_version": "1.0.0",
      "model_name": "LayoutModel",
      "state": {}
     },
     "328f0057f01d4d05a29128d582ab00d4": {
      "model_module": "@jupyter-widgets/controls",
      "model_module_version": "1.2.0",
      "model_name": "HBoxModel",
      "state": {
       "children": [
        "IPY_MODEL_45768ffe0934481d81d4dcbfbd39625d",
        "IPY_MODEL_01a2af9cf5104fb89fd4349bdc5dadb0",
        "IPY_MODEL_d3a10ad7dbe848a4b90517516149856c"
       ],
       "layout": "IPY_MODEL_cf6dbc4efe87490ba291bee634e48b75"
      }
     },
     "32b67c507baa46bb9b900b1e0e175126": {
      "model_module": "@jupyter-widgets/base",
      "model_module_version": "1.0.0",
      "model_name": "LayoutModel",
      "state": {
       "border": "1px solid gray"
      }
     },
     "336b38e4ea08432b992707580e7d2533": {
      "model_module": "@jupyter-widgets/controls",
      "model_module_version": "1.2.0",
      "model_name": "DropdownModel",
      "state": {
       "_options_labels": [
        "Identity",
        "Cg",
        "Gaussian"
       ],
       "description": "find filter",
       "index": 1,
       "layout": "IPY_MODEL_d4d4bf77cbaf495187273329a6e528c5",
       "style": "IPY_MODEL_f33352c769984bdb8569397b5ea79843"
      }
     },
     "338cf44fdfa9462cb4f5b1bc1190980d": {
      "model_module": "@jupyter-widgets/controls",
      "model_module_version": "1.2.0",
      "model_name": "HBoxModel",
      "state": {
       "children": [
        "IPY_MODEL_c6b5a2c35ab346b5939abbc473b6e036",
        "IPY_MODEL_eabca0ff3a3d4966ae8ae42be2d62ee4"
       ],
       "layout": "IPY_MODEL_1e9db56aac6d40d8acf83ef9d880b244"
      }
     },
     "33b505d4898344e08bee75837efdc0c8": {
      "model_module": "@jupyter-widgets/base",
      "model_module_version": "1.0.0",
      "model_name": "LayoutModel",
      "state": {
       "width": "auto"
      }
     },
     "33b6de483ca6433cb6abe21f23c9b310": {
      "model_module": "@jupyter-widgets/controls",
      "model_module_version": "1.2.0",
      "model_name": "CheckboxModel",
      "state": {
       "description": "Min. distance",
       "disabled": false,
       "indent": false,
       "layout": "IPY_MODEL_9afe321bb7c8441bac36317431dc9236",
       "style": "IPY_MODEL_377df01d6af84d56ac04a2ec3b7b200e",
       "value": false
      }
     },
     "33d2438241524a22a276e0c1f53efbd0": {
      "model_module": "@jupyter-widgets/base",
      "model_module_version": "1.0.0",
      "model_name": "LayoutModel",
      "state": {}
     },
     "33e0e4bf86b840f8a07fa69c50e39c00": {
      "model_module": "@jupyter-widgets/controls",
      "model_module_version": "1.2.0",
      "model_name": "DescriptionStyleModel",
      "state": {
       "description_width": ""
      }
     },
     "33e2ead747244865b0784cf450248b68": {
      "model_module": "@jupyter-widgets/controls",
      "model_module_version": "1.2.0",
      "model_name": "DropdownModel",
      "state": {
       "_options_labels": [
        "Identity",
        "Cg",
        "Gaussian"
       ],
       "description": "find filter",
       "index": 1,
       "layout": "IPY_MODEL_86c46d226c9342bd9799b721166690a6",
       "style": "IPY_MODEL_526e03976a084568bc186fea0e3470a9"
      }
     },
     "33fff774f93e46a2af5d1b55d8cb2994": {
      "model_module": "@jupyter-widgets/base",
      "model_module_version": "1.0.0",
      "model_name": "LayoutModel",
      "state": {
       "display": "none"
      }
     },
     "345e684d4c8944efa1f60f41e2c26c09": {
      "model_module": "@jupyter-widgets/base",
      "model_module_version": "1.0.0",
      "model_name": "LayoutModel",
      "state": {
       "width": "auto"
      }
     },
     "34934ccbd56f4acbbdc9e1b907e98de6": {
      "model_module": "@jupyter-widgets/controls",
      "model_module_version": "1.2.0",
      "model_name": "CheckboxModel",
      "state": {
       "description": "Min. distance",
       "disabled": false,
       "indent": false,
       "layout": "IPY_MODEL_29201598bb254ab9bd8c10d07bcb944e",
       "style": "IPY_MODEL_5a270a5953994efd86429a19106631ad",
       "value": false
      }
     },
     "3498c71ae10b40a4b58604efc7571bca": {
      "model_module": "@jupyter-widgets/controls",
      "model_module_version": "1.2.0",
      "model_name": "DescriptionStyleModel",
      "state": {
       "description_width": ""
      }
     },
     "349a6c60f42747edb1f90601260406eb": {
      "model_module": "@jupyter-widgets/base",
      "model_module_version": "1.0.0",
      "model_name": "LayoutModel",
      "state": {}
     },
     "34ae739732e64f14943fb575fb8acb08": {
      "model_module": "@jupyter-widgets/controls",
      "model_module_version": "1.2.0",
      "model_name": "DescriptionStyleModel",
      "state": {
       "description_width": ""
      }
     },
     "34bf8cbaf2714eb597514540f77ca60d": {
      "model_module": "@jupyter-widgets/controls",
      "model_module_version": "1.2.0",
      "model_name": "DescriptionStyleModel",
      "state": {
       "description_width": ""
      }
     },
     "3512eaffd0d549439f22523367cf10d8": {
      "model_module": "@jupyter-widgets/controls",
      "model_module_version": "1.2.0",
      "model_name": "DescriptionStyleModel",
      "state": {
       "description_width": ""
      }
     },
     "354a798a39b64454b1601798ffc3b8da": {
      "model_module": "@jupyter-widgets/base",
      "model_module_version": "1.0.0",
      "model_name": "LayoutModel",
      "state": {
       "display": "none"
      }
     },
     "3560dd9389c3463f86819f0c6634d24c": {
      "model_module": "@jupyter-widgets/controls",
      "model_module_version": "1.2.0",
      "model_name": "SliderStyleModel",
      "state": {
       "description_width": ""
      }
     },
     "358b3eb253e04bf2a0db36e0448d9957": {
      "model_module": "@jupyter-widgets/controls",
      "model_module_version": "1.2.0",
      "model_name": "DescriptionStyleModel",
      "state": {
       "description_width": ""
      }
     },
     "3593a37449154d8f82a44987fd1cabd8": {
      "model_module": "@jupyter-widgets/base",
      "model_module_version": "1.0.0",
      "model_name": "LayoutModel",
      "state": {
       "display": "none"
      }
     },
     "35a00fdfbead418f9674347962f7716a": {
      "model_module": "@jupyter-widgets/controls",
      "model_module_version": "1.2.0",
      "model_name": "DescriptionStyleModel",
      "state": {
       "description_width": ""
      }
     },
     "35affd50b11e4522a38dac9e0946d5c9": {
      "model_module": "@jupyter-widgets/base",
      "model_module_version": "1.0.0",
      "model_name": "LayoutModel",
      "state": {}
     },
     "3663842ab6404589b472521e2dad1bdc": {
      "model_module": "@jupyter-widgets/controls",
      "model_module_version": "1.2.0",
      "model_name": "IntRangeSliderModel",
      "state": {
       "_model_name": "IntRangeSliderModel",
       "_view_name": "IntRangeSliderView",
       "layout": "IPY_MODEL_28d9606c6c444c8889a38c026e121723",
       "max": 65535,
       "style": "IPY_MODEL_921181737b0045eb8e603a257dd72842",
       "value": [
        134,
        7442
       ]
      }
     },
     "36680b77f7ad4b55bfcebcb35039d055": {
      "model_module": "@jupyter-widgets/controls",
      "model_module_version": "1.2.0",
      "model_name": "DropdownModel",
      "state": {
       "_options_labels": [
        "2d_fixed",
        "2d",
        "3d"
       ],
       "description": "model",
       "index": 1,
       "layout": "IPY_MODEL_af70af434bc9431d86af759864a3265d",
       "style": "IPY_MODEL_4bf2598540974f29984f3861a5ff8e15"
      }
     },
     "3681124aa8ad436984338a2f81ea7fcb": {
      "model_module": "@jupyter-widgets/base",
      "model_module_version": "1.0.0",
      "model_name": "LayoutModel",
      "state": {
       "width": "auto"
      }
     },
     "3690a91a4735499dba9608c80843fd02": {
      "model_module": "@jupyter-widgets/controls",
      "model_module_version": "1.2.0",
      "model_name": "VBoxModel",
      "state": {
       "children": [
        "IPY_MODEL_f7998b084203443680d101c740cfe14c",
        "IPY_MODEL_3c37cf4ce0db45b294a87e2e2e66a7a7",
        "IPY_MODEL_3a27d8a7431f47d3b8bfe2a46dc1620b",
        "IPY_MODEL_52930f14c43948428e7e139e88ccdd1f",
        "IPY_MODEL_384636f90eb742369a39e87dabbacc35",
        "IPY_MODEL_aac9f45b45844ebead78d0105e3ee8bd"
       ],
       "layout": "IPY_MODEL_01c8d0a55d0d48fdb32ed0408d82c1f5"
      }
     },
     "3697558d7a714cffb229d1c70991bfbf": {
      "model_module": "@jupyter-widgets/base",
      "model_module_version": "1.0.0",
      "model_name": "LayoutModel",
      "state": {}
     },
     "36e0ecd660f249d58bdaa97b3a3c5a60": {
      "model_module": "@jupyter-widgets/controls",
      "model_module_version": "1.2.0",
      "model_name": "DescriptionStyleModel",
      "state": {
       "description_width": ""
      }
     },
     "37582f39e27b4551a390952582802e16": {
      "model_module": "@jupyter-widgets/controls",
      "model_module_version": "1.2.0",
      "model_name": "DropdownModel",
      "state": {
       "_options_labels": [
        "Identity",
        "Cg",
        "Gaussian"
       ],
       "description": "find filter",
       "index": 1,
       "layout": "IPY_MODEL_498960a071374e37891d79f5c213ef6c",
       "style": "IPY_MODEL_0d66c1f375ac41059427cca0ddc0d82a"
      }
     },
     "3761dc572846486f8ca53e123fbe0f0f": {
      "model_module": "@jupyter-widgets/controls",
      "model_module_version": "1.2.0",
      "model_name": "DescriptionStyleModel",
      "state": {
       "description_width": ""
      }
     },
     "377df01d6af84d56ac04a2ec3b7b200e": {
      "model_module": "@jupyter-widgets/controls",
      "model_module_version": "1.2.0",
      "model_name": "DescriptionStyleModel",
      "state": {
       "description_width": ""
      }
     },
     "37ad7e9ad02244f7aaae9222cbbafdb1": {
      "model_module": "@jupyter-widgets/base",
      "model_module_version": "1.0.0",
      "model_name": "LayoutModel",
      "state": {}
     },
     "37b4c7ed280b4d5aa4ccdbad7e7604f0": {
      "model_module": "@jupyter-widgets/base",
      "model_module_version": "1.0.0",
      "model_name": "LayoutModel",
      "state": {
       "border": "1px solid gray"
      }
     },
     "37b952d553f74ebfb7c2c0ecf1d4f8f1": {
      "model_module": "@jupyter-widgets/controls",
      "model_module_version": "1.2.0",
      "model_name": "LabelModel",
      "state": {
       "layout": "IPY_MODEL_fd48958d981a44ef958f0020d62a2cfa",
       "style": "IPY_MODEL_732a147ad77b4398b718fed17c20844d",
       "value": "Locating beads (file 10/10)"
      }
     },
     "37ef0d8b772140dfbf59b4763913ae43": {
      "model_module": "@jupyter-widgets/base",
      "model_module_version": "1.0.0",
      "model_name": "LayoutModel",
      "state": {}
     },
     "383915e9cac648e3a42e51a4d0858d65": {
      "model_module": "@jupyter-widgets/controls",
      "model_module_version": "1.2.0",
      "model_name": "HBoxModel",
      "state": {
       "children": [
        "IPY_MODEL_21a5d117f81846c995b25fedf5e25b60",
        "IPY_MODEL_3690a91a4735499dba9608c80843fd02"
       ],
       "layout": "IPY_MODEL_01201ffdcbff4b7d99f12629d45e4765"
      }
     },
     "384636f90eb742369a39e87dabbacc35": {
      "model_module": "@jupyter-widgets/controls",
      "model_module_version": "1.2.0",
      "model_name": "HBoxModel",
      "state": {
       "children": [
        "IPY_MODEL_9a5f9e52cc0b433c9be07791633d55fb",
        "IPY_MODEL_0cea7e65dde3457aa96dbed8b7568a9b"
       ],
       "layout": "IPY_MODEL_c5a09fe99ce7403da8ed57fba46e3dd0"
      }
     },
     "386b71b351a64a1a954377121aa10d0a": {
      "model_module": "@jupyter-widgets/base",
      "model_module_version": "1.0.0",
      "model_name": "LayoutModel",
      "state": {
       "width": "75%"
      }
     },
     "38a7fdf1a3bb4fc5ba8172b7e156b029": {
      "model_module": "@jupyter-widgets/controls",
      "model_module_version": "1.2.0",
      "model_name": "IntRangeSliderModel",
      "state": {
       "_model_name": "IntRangeSliderModel",
       "_view_name": "IntRangeSliderView",
       "layout": "IPY_MODEL_218f89f1b57c455fb73eaf34eae69515",
       "max": 65535,
       "style": "IPY_MODEL_12ac72ede8384674adc3df71072a70fe",
       "value": [
        134,
        25393
       ]
      }
     },
     "38dcb74fa34f48f4a0a41912cd4ac83d": {
      "model_module": "@jupyter-widgets/controls",
      "model_module_version": "1.2.0",
      "model_name": "DescriptionStyleModel",
      "state": {
       "description_width": ""
      }
     },
     "398608ecacd949bc8f063480366982a5": {
      "model_module": "@jupyter-widgets/base",
      "model_module_version": "1.0.0",
      "model_name": "LayoutModel",
      "state": {
       "display": "none"
      }
     },
     "3a27d8a7431f47d3b8bfe2a46dc1620b": {
      "model_module": "@jupyter-widgets/controls",
      "model_module_version": "1.2.0",
      "model_name": "FloatTextModel",
      "state": {
       "description": "threshold",
       "layout": "IPY_MODEL_de096bf297284c4ba9d71eb7a810dadd",
       "step": 10,
       "style": "IPY_MODEL_3b5373bf964240b780b4c860c041612a",
       "value": 100
      }
     },
     "3a286e7c794c499eabcb6dfa3bf4a97b": {
      "model_module": "@jupyter-widgets/controls",
      "model_module_version": "1.2.0",
      "model_name": "CheckboxModel",
      "state": {
       "description": "Min. distance",
       "disabled": false,
       "indent": false,
       "layout": "IPY_MODEL_b16e5eb0bf554c65b74a24feb96709a8",
       "style": "IPY_MODEL_c4de4d48993e40d28053ddf2b8098a13",
       "value": false
      }
     },
     "3a2d6fdf137f40619d5b0e4ea9344a73": {
      "model_module": "@jupyter-widgets/controls",
      "model_module_version": "1.2.0",
      "model_name": "VBoxModel",
      "state": {
       "children": [
        "IPY_MODEL_40543da14e8a45409dc49051853d7c25",
        "IPY_MODEL_766095983907487a87bcc331677cb94d",
        "IPY_MODEL_1a9a1416534040559ecaeeb13f1b824a"
       ],
       "layout": "IPY_MODEL_cd5c8f3412cf455d876b8525e7f7fd2d"
      }
     },
     "3a44ae3acfe44081a8ddc69eca17b29a": {
      "model_module": "@jupyter-widgets/base",
      "model_module_version": "1.0.0",
      "model_name": "LayoutModel",
      "state": {}
     },
     "3a5322cb3cb44c848a6da8e63862da57": {
      "model_module": "@jupyter-widgets/base",
      "model_module_version": "1.0.0",
      "model_name": "LayoutModel",
      "state": {
       "display": "none"
      }
     },
     "3a5e4229eb1d47538c530b654ba8511e": {
      "model_module": "@jupyter-widgets/controls",
      "model_module_version": "1.2.0",
      "model_name": "LabelModel",
      "state": {
       "layout": "IPY_MODEL_b0cd287641f84a2a9d05a74793931579",
       "style": "IPY_MODEL_5e6811fb63c74e868f450423ba6ad548",
       "value": "Locating beads (file 10/10)"
      }
     },
     "3a5f65ba7775490d93465572747b1696": {
      "model_module": "@jupyter-widgets/base",
      "model_module_version": "1.0.0",
      "model_name": "LayoutModel",
      "state": {}
     },
     "3a6678335a474892a86e82b0edae6bbf": {
      "model_module": "@jupyter-widgets/base",
      "model_module_version": "1.0.0",
      "model_name": "LayoutModel",
      "state": {
       "height": "150px",
       "width": "100%"
      }
     },
     "3a67196d27014701a62fa9a22a9167a8": {
      "model_module": "@jupyter-widgets/base",
      "model_module_version": "1.0.0",
      "model_name": "LayoutModel",
      "state": {
       "display": "none"
      }
     },
     "3b3b7dd44e824c8b806aee7c8bb1e065": {
      "model_module": "@jupyter-widgets/controls",
      "model_module_version": "1.2.0",
      "model_name": "DescriptionStyleModel",
      "state": {
       "description_width": ""
      }
     },
     "3b4a599f18eb484f89abca24821169d5": {
      "model_module": "@jupyter-widgets/controls",
      "model_module_version": "1.2.0",
      "model_name": "FloatTextModel",
      "state": {
       "layout": "IPY_MODEL_63807a890eb7470ba44feed616076dd0",
       "step": 0.1,
       "style": "IPY_MODEL_5600573c8c8b4ea596b13dcb94a9939a",
       "value": 3
      }
     },
     "3b5373bf964240b780b4c860c041612a": {
      "model_module": "@jupyter-widgets/controls",
      "model_module_version": "1.2.0",
      "model_name": "DescriptionStyleModel",
      "state": {
       "description_width": ""
      }
     },
     "3b6207d8c3734ff4a52804ea21713787": {
      "model_module": "@jupyter-widgets/base",
      "model_module_version": "1.0.0",
      "model_name": "LayoutModel",
      "state": {}
     },
     "3b63878afce54f82b604d3986ea88f88": {
      "model_module": "@jupyter-widgets/base",
      "model_module_version": "1.0.0",
      "model_name": "LayoutModel",
      "state": {}
     },
     "3b6d145814284f81a73a8766f2202449": {
      "model_module": "@jupyter-widgets/base",
      "model_module_version": "1.0.0",
      "model_name": "LayoutModel",
      "state": {
       "display": "inline"
      }
     },
     "3b7d0dbaf2214570a98eb67de0b91a6f": {
      "model_module": "@jupyter-widgets/controls",
      "model_module_version": "1.2.0",
      "model_name": "DescriptionStyleModel",
      "state": {
       "description_width": ""
      }
     },
     "3bd3ca85972f4753945635cc6a4b40e8": {
      "model_module": "@jupyter-widgets/controls",
      "model_module_version": "1.2.0",
      "model_name": "SelectModel",
      "state": {
       "_options_labels": [
        "data/beads/beads_000_.SPE",
        "data/beads/beads_001_.SPE",
        "data/beads/beads_002_.SPE",
        "data/beads/beads_003_.SPE",
        "data/beads/beads_004_.SPE",
        "data/beads/beads_005_.SPE",
        "data/beads/beads_006_.SPE",
        "data/beads/beads_007_.SPE",
        "data/beads/beads_008_.SPE",
        "data/beads/beads_009_.SPE"
       ],
       "index": 2,
       "layout": "IPY_MODEL_a7b19d4cf67e478589baafdeccf11344",
       "style": "IPY_MODEL_7f8c1ba0849c4963a3aec678f5fcbf8b"
      }
     },
     "3bdc168d46bd4052a5c6535d639525d8": {
      "model_module": "@jupyter-widgets/controls",
      "model_module_version": "1.2.0",
      "model_name": "DescriptionStyleModel",
      "state": {
       "description_width": ""
      }
     },
     "3be64c840f9c483681797b6d67d67b27": {
      "model_module": "@jupyter-widgets/base",
      "model_module_version": "1.0.0",
      "model_name": "LayoutModel",
      "state": {
       "width": "auto"
      }
     },
     "3c29b07ceaa2490b940db8fc6f9eff30": {
      "model_module": "@jupyter-widgets/base",
      "model_module_version": "1.0.0",
      "model_name": "LayoutModel",
      "state": {
       "display": "inline"
      }
     },
     "3c37cf4ce0db45b294a87e2e2e66a7a7": {
      "model_module": "@jupyter-widgets/controls",
      "model_module_version": "1.2.0",
      "model_name": "DropdownModel",
      "state": {
       "_options_labels": [
        "2d_fixed",
        "2d",
        "3d"
       ],
       "description": "model",
       "index": 1,
       "layout": "IPY_MODEL_1801f0ca4a8a48b2bb97a19367c533ea",
       "style": "IPY_MODEL_140ec12a11b9452bbfb35586d4dcede5"
      }
     },
     "3c545a405b674051b41100b62fdf4ca2": {
      "model_module": "@jupyter-widgets/base",
      "model_module_version": "1.0.0",
      "model_name": "LayoutModel",
      "state": {}
     },
     "3c575d413417433c9323336b0c3bb3ab": {
      "model_module": "@jupyter-widgets/controls",
      "model_module_version": "1.2.0",
      "model_name": "DescriptionStyleModel",
      "state": {
       "description_width": ""
      }
     },
     "3c8d1e78915a409e9085df65c4d1ffe0": {
      "model_module": "@jupyter-widgets/base",
      "model_module_version": "1.0.0",
      "model_name": "LayoutModel",
      "state": {}
     },
     "3c97b874e3e548b392390d99e542d906": {
      "model_module": "@jupyter-widgets/base",
      "model_module_version": "1.0.0",
      "model_name": "LayoutModel",
      "state": {
       "width": "auto"
      }
     },
     "3cb0d27cf4e64e7dbba3e398ee1b9917": {
      "model_module": "@jupyter-widgets/controls",
      "model_module_version": "1.2.0",
      "model_name": "FloatTextModel",
      "state": {
       "description": "min.",
       "layout": "IPY_MODEL_42fbbf29055947cab3c8da93d897353f",
       "step": 0.1,
       "style": "IPY_MODEL_92c035acd4c94c8f825860b4865061a3",
       "value": 0.5
      }
     },
     "3cda9afe6d824df9b2dbfe89e7c6ec92": {
      "model_module": "@jupyter-widgets/controls",
      "model_module_version": "1.2.0",
      "model_name": "FloatTextModel",
      "state": {
       "description": "min.",
       "layout": "IPY_MODEL_aa24ebdabe454b5c926dedbd4652a7a5",
       "step": 0.1,
       "style": "IPY_MODEL_7b584ece4361442f9e5d5ae43bdc193c",
       "value": 0.5
      }
     },
     "3d5af2746fd745cf8028df9866770533": {
      "model_module": "@jupyter-widgets/base",
      "model_module_version": "1.0.0",
      "model_name": "LayoutModel",
      "state": {}
     },
     "3dfcc337145e43b59dc9f567314f1074": {
      "model_module": "@jupyter-widgets/controls",
      "model_module_version": "1.2.0",
      "model_name": "DescriptionStyleModel",
      "state": {
       "description_width": ""
      }
     },
     "3e17ce9a39774c4182411752843e01f7": {
      "model_module": "@jupyter-widgets/controls",
      "model_module_version": "1.2.0",
      "model_name": "DescriptionStyleModel",
      "state": {
       "description_width": ""
      }
     },
     "3e4944042f0845319952b320763018d0": {
      "model_module": "@jupyter-widgets/controls",
      "model_module_version": "1.2.0",
      "model_name": "DescriptionStyleModel",
      "state": {
       "description_width": ""
      }
     },
     "3e56f2bef8274caf9fa9c8d3f07d4271": {
      "model_module": "@jupyter-widgets/base",
      "model_module_version": "1.0.0",
      "model_name": "LayoutModel",
      "state": {}
     },
     "3e6da3751f5f43d1ad96b63db51fc2d5": {
      "model_module": "@jupyter-widgets/base",
      "model_module_version": "1.0.0",
      "model_name": "LayoutModel",
      "state": {}
     },
     "3ebf2cda1286428da899bc7ac0434f28": {
      "model_module": "@jupyter-widgets/controls",
      "model_module_version": "1.2.0",
      "model_name": "LabelModel",
      "state": {
       "layout": "IPY_MODEL_88e452512c2a453dae2c9766752f5965",
       "style": "IPY_MODEL_acce2284551349c9bd0cb28aadc0ed58",
       "value": "Locating sensor-H57/cells-01_SAv-100k_SSS-H57-20k_000_.SPE (1/213)"
      }
     },
     "3f3dff0ea23d4c0da42191b6105bdbd9": {
      "model_module": "@jupyter-widgets/controls",
      "model_module_version": "1.2.0",
      "model_name": "DescriptionStyleModel",
      "state": {
       "description_width": ""
      }
     },
     "3f782f8371a24ca888d0504cc2dce459": {
      "model_module": "@jupyter-widgets/controls",
      "model_module_version": "1.2.0",
      "model_name": "IntRangeSliderModel",
      "state": {
       "_model_name": "IntRangeSliderModel",
       "_view_name": "IntRangeSliderView",
       "layout": "IPY_MODEL_aa3ff12a54e4489591f72079127925f6",
       "max": 65535,
       "style": "IPY_MODEL_ade9ee4d1be045f1af7d9360b08c544c",
       "value": [
        288,
        879
       ]
      }
     },
     "3f9418e628d24e748890f5c4dda6ace0": {
      "model_module": "@jupyter-widgets/controls",
      "model_module_version": "1.2.0",
      "model_name": "VBoxModel",
      "state": {
       "children": [
        "IPY_MODEL_7911c08f292a481c80c05b04716d2d21",
        "IPY_MODEL_6ca9d52f6bec41b2b6a3835ad9e9808a",
        "IPY_MODEL_027b45db01154a21918c8441fdd464ab"
       ],
       "layout": "IPY_MODEL_31e0bc3e6a7f4c67994c1ad9260da0d1"
      }
     },
     "3fc5493462e34f968eaa4595b4087632": {
      "model_module": "@jupyter-widgets/controls",
      "model_module_version": "1.2.0",
      "model_name": "DescriptionStyleModel",
      "state": {
       "description_width": ""
      }
     },
     "3fc7bb8133544386bfcdc2b59bb169c0": {
      "model_module": "@jupyter-widgets/controls",
      "model_module_version": "1.2.0",
      "model_name": "CheckboxModel",
      "state": {
       "description": "Size range",
       "disabled": false,
       "indent": false,
       "layout": "IPY_MODEL_fed7cd05491e48f6ab37507e51e4c53b",
       "style": "IPY_MODEL_970b112625964fd78495158398671b0e",
       "value": false
      }
     },
     "3ffb629a5fc24209b28d844fa0f143d2": {
      "model_module": "@jupyter-widgets/base",
      "model_module_version": "1.0.0",
      "model_name": "LayoutModel",
      "state": {
       "width": "auto"
      }
     },
     "404a23e84e2c419a9fb3be3b3ba78437": {
      "model_module": "@jupyter-widgets/base",
      "model_module_version": "1.0.0",
      "model_name": "LayoutModel",
      "state": {
       "display": "none"
      }
     },
     "40543da14e8a45409dc49051853d7c25": {
      "model_module": "@jupyter-widgets/controls",
      "model_module_version": "1.2.0",
      "model_name": "CheckboxModel",
      "state": {
       "description": "Size range",
       "disabled": false,
       "indent": false,
       "layout": "IPY_MODEL_c211590667d94e1ba903d9bb41556f7f",
       "style": "IPY_MODEL_742a23682d814029a435a2cd4e9c2c31",
       "value": false
      }
     },
     "407ce516982c43a1a697e896a1586e0c": {
      "model_module": "@jupyter-widgets/base",
      "model_module_version": "1.0.0",
      "model_name": "LayoutModel",
      "state": {
       "display": "none"
      }
     },
     "40da11987c9848cdbf569fd8a495553c": {
      "model_module": "@jupyter-widgets/base",
      "model_module_version": "1.0.0",
      "model_name": "LayoutModel",
      "state": {
       "width": "75%"
      }
     },
     "4100fe56dc0b474794a0e0181f531fa2": {
      "model_module": "@jupyter-widgets/base",
      "model_module_version": "1.0.0",
      "model_name": "LayoutModel",
      "state": {}
     },
     "4115c41ecd2f4ce59131fe44e539850f": {
      "model_module": "@jupyter-widgets/controls",
      "model_module_version": "1.2.0",
      "model_name": "DescriptionStyleModel",
      "state": {
       "description_width": ""
      }
     },
     "411a5b6f2fc54b669513f2747391d2b9": {
      "model_module": "@jupyter-widgets/controls",
      "model_module_version": "1.2.0",
      "model_name": "ButtonStyleModel",
      "state": {}
     },
     "413db89841384dc395069f5b8392741e": {
      "model_module": "@jupyter-widgets/controls",
      "model_module_version": "1.2.0",
      "model_name": "ButtonModel",
      "state": {
       "description": "Auto",
       "layout": "IPY_MODEL_a15fe1a85d9e4ec5b001e32cb91d0c65",
       "style": "IPY_MODEL_6d602d2bf98a4f85a66e84fef581fe4e"
      }
     },
     "41611cfe916d449eadd94ee06d3f57ae": {
      "model_module": "@jupyter-widgets/controls",
      "model_module_version": "1.2.0",
      "model_name": "DescriptionStyleModel",
      "state": {
       "description_width": ""
      }
     },
     "417b9bf113344cc0b8645f4a829750d8": {
      "model_module": "@jupyter-widgets/base",
      "model_module_version": "1.0.0",
      "model_name": "LayoutModel",
      "state": {}
     },
     "418ef43b5cf14e65bdf7ce484ec89c54": {
      "model_module": "@jupyter-widgets/controls",
      "model_module_version": "1.2.0",
      "model_name": "DescriptionStyleModel",
      "state": {
       "description_width": ""
      }
     },
     "41fa1613ebcb41d684a58cdfdc271be3": {
      "model_module": "@jupyter-widgets/controls",
      "model_module_version": "1.2.0",
      "model_name": "FloatTextModel",
      "state": {
       "description": "min.",
       "layout": "IPY_MODEL_ef95de6fd94f45e78a72b3debec04d11",
       "step": 0.1,
       "style": "IPY_MODEL_95f7c8157bf64759832ddcc4b2e44fed",
       "value": 0.5
      }
     },
     "4206f5309faa4d93908496b5d484138f": {
      "model_module": "@jupyter-widgets/base",
      "model_module_version": "1.0.0",
      "model_name": "LayoutModel",
      "state": {
       "width": "100%"
      }
     },
     "421aba4049bf4c39901e53f864c44f31": {
      "model_module": "@jupyter-widgets/base",
      "model_module_version": "1.0.0",
      "model_name": "LayoutModel",
      "state": {}
     },
     "42296a4b6f1b4f49b129bb4d23705751": {
      "model_module": "@jupyter-widgets/base",
      "model_module_version": "1.0.0",
      "model_name": "LayoutModel",
      "state": {
       "display": "none"
      }
     },
     "4235a193fe33482fab93e144a242265c": {
      "model_module": "@jupyter-widgets/controls",
      "model_module_version": "1.2.0",
      "model_name": "FloatTextModel",
      "state": {
       "description": "sigma",
       "layout": "IPY_MODEL_170d39d3ce444cba90ef4c63fbce7e89",
       "step": 0.1,
       "style": "IPY_MODEL_a8abbba0df0447ceb63ab913a797ce58",
       "value": 1
      }
     },
     "4237b9133c2b4b87a4e3f25bfce6b24a": {
      "model_module": "@jupyter-widgets/base",
      "model_module_version": "1.0.0",
      "model_name": "LayoutModel",
      "state": {}
     },
     "425c2255dfdc44a39fbc8ac9b2d7bb89": {
      "model_module": "@jupyter-widgets/controls",
      "model_module_version": "1.2.0",
      "model_name": "IntRangeSliderModel",
      "state": {
       "_model_name": "IntRangeSliderModel",
       "_view_name": "IntRangeSliderView",
       "layout": "IPY_MODEL_46c60bf5ed234171b40d85a20e05091d",
       "max": 65535,
       "style": "IPY_MODEL_cf5f51ce063a453bbe47101598458750",
       "value": [
        288,
        891
       ]
      }
     },
     "42653270d40a45689ce789a63a513e60": {
      "model_module": "@jupyter-widgets/base",
      "model_module_version": "1.0.0",
      "model_name": "LayoutModel",
      "state": {}
     },
     "428c3ec84c5e4239baf70014d127047e": {
      "model_module": "@jupyter-widgets/controls",
      "model_module_version": "1.2.0",
      "model_name": "DescriptionStyleModel",
      "state": {
       "description_width": ""
      }
     },
     "42dcfcbd1b9c451aa4d067fae2a86539": {
      "model_module": "@jupyter-widgets/controls",
      "model_module_version": "1.2.0",
      "model_name": "DescriptionStyleModel",
      "state": {
       "description_width": ""
      }
     },
     "42fbbf29055947cab3c8da93d897353f": {
      "model_module": "@jupyter-widgets/base",
      "model_module_version": "1.0.0",
      "model_name": "LayoutModel",
      "state": {
       "display": "none"
      }
     },
     "4302cddc8147486083b98f824c7ca5fa": {
      "model_module": "@jupyter-widgets/base",
      "model_module_version": "1.0.0",
      "model_name": "LayoutModel",
      "state": {}
     },
     "4351646a537848f0b89ddf17d9c3729c": {
      "model_module": "@jupyter-widgets/controls",
      "model_module_version": "1.2.0",
      "model_name": "DescriptionStyleModel",
      "state": {
       "description_width": ""
      }
     },
     "43536ff0d5a24e66973360c9f15580f4": {
      "model_module": "@jupyter-widgets/controls",
      "model_module_version": "1.2.0",
      "model_name": "DescriptionStyleModel",
      "state": {
       "description_width": ""
      }
     },
     "4365f161aa654dceb1f11c71ad69e059": {
      "model_module": "@jupyter-widgets/base",
      "model_module_version": "1.0.0",
      "model_name": "LayoutModel",
      "state": {
       "display": "none"
      }
     },
     "436b9b5f2afe4c6693f58f28df3c82d1": {
      "model_module": "@jupyter-widgets/controls",
      "model_module_version": "1.2.0",
      "model_name": "CheckboxModel",
      "state": {
       "description": "Min. distance",
       "disabled": false,
       "indent": false,
       "layout": "IPY_MODEL_03d007fe573c4c9cbc5e4ea7cb9d0326",
       "style": "IPY_MODEL_af64b99d6b9649ab87b51d9c15fe0a49",
       "value": false
      }
     },
     "43a725daeca449a48f513f4248fcbda3": {
      "model_module": "@jupyter-widgets/controls",
      "model_module_version": "1.2.0",
      "model_name": "HBoxModel",
      "state": {
       "children": [
        "IPY_MODEL_057f5b2e771b4affac01583cff8c1586",
        "IPY_MODEL_5e07b32ab6904ce988fd55d9bbce396d"
       ],
       "layout": "IPY_MODEL_577cf85bbf4c49c2a9a349dccda29721"
      }
     },
     "43d66b0944744ebda42365d083675a51": {
      "model_module": "@jupyter-widgets/controls",
      "model_module_version": "1.2.0",
      "model_name": "FloatTextModel",
      "state": {
       "layout": "IPY_MODEL_68fe90603e2a4cc4860284da46d09e25",
       "step": 0.1,
       "style": "IPY_MODEL_0621e68317c3484c843c55c54ace5a2e",
       "value": 1
      }
     },
     "440ba55ee22e4093b0a711491eb05679": {
      "model_module": "@jupyter-widgets/base",
      "model_module_version": "1.0.0",
      "model_name": "LayoutModel",
      "state": {
       "width": "auto"
      }
     },
     "444486cd6d484fc29b8662b83e39a1c7": {
      "model_module": "@jupyter-widgets/controls",
      "model_module_version": "1.2.0",
      "model_name": "BoundedIntTextModel",
      "state": {
       "description": "frame",
       "layout": "IPY_MODEL_920cafbe294c4239bb9b2febbcf8b6c2",
       "max": 49,
       "style": "IPY_MODEL_b96ba1d49c2045b4a31929bea958a44d"
      }
     },
     "4460a4b0e45149e8b62d0d75002d0361": {
      "model_module": "@jupyter-widgets/base",
      "model_module_version": "1.0.0",
      "model_name": "LayoutModel",
      "state": {
       "display": "none"
      }
     },
     "4481872b9f784e239878e3f4bd030059": {
      "model_module": "@jupyter-widgets/controls",
      "model_module_version": "1.2.0",
      "model_name": "DescriptionStyleModel",
      "state": {
       "description_width": ""
      }
     },
     "44af3bdb87e84606a1ad3a7482d31214": {
      "model_module": "@jupyter-widgets/base",
      "model_module_version": "1.0.0",
      "model_name": "LayoutModel",
      "state": {}
     },
     "44c08bc02daf42f1a0416a85a4b9969d": {
      "model_module": "@jupyter-widgets/controls",
      "model_module_version": "1.2.0",
      "model_name": "VBoxModel",
      "state": {
       "children": [
        "IPY_MODEL_2a5e8949cf8340159bb28df661b072f1",
        "IPY_MODEL_65c1cea39ab14e44bd2dd1f391ff5f93"
       ],
       "layout": "IPY_MODEL_483357af4d3a46a2b3aa2d1f7f77755f"
      }
     },
     "44d61e765f544bb2842b0a2c3bad6d82": {
      "model_module": "@jupyter-widgets/controls",
      "model_module_version": "1.2.0",
      "model_name": "LabelModel",
      "state": {
       "layout": "IPY_MODEL_a174c0b7b1b64f9ba03c41e6405c2c14",
       "style": "IPY_MODEL_e17c5727b9e04a1088b58e6a22d8b980",
       "value": "Locating beads (file 10/10)"
      }
     },
     "44edea9b95eb40efb7d60eba72138aa3": {
      "model_module": "@jupyter-widgets/base",
      "model_module_version": "1.0.0",
      "model_name": "LayoutModel",
      "state": {
       "display": "none"
      }
     },
     "4533b1a7813e4a9cb97fc5fcbb667536": {
      "model_module": "@jupyter-widgets/controls",
      "model_module_version": "1.2.0",
      "model_name": "FloatTextModel",
      "state": {
       "description": "max.",
       "layout": "IPY_MODEL_656f24bd247f4e26bbc7c8e9ccfcd091",
       "step": 0.1,
       "style": "IPY_MODEL_59afc03e4e994cbbacce159577f5a1bb",
       "value": 2
      }
     },
     "453de5d837a54a0c99ea6e4910ec4de4": {
      "model_module": "@jupyter-widgets/controls",
      "model_module_version": "1.2.0",
      "model_name": "DescriptionStyleModel",
      "state": {
       "description_width": ""
      }
     },
     "453eb9d6f82947aca55be75f9982a4ad": {
      "model_module": "@jupyter-widgets/base",
      "model_module_version": "1.0.0",
      "model_name": "LayoutModel",
      "state": {}
     },
     "454c08de3bcc4439b6a4751c4abdfe7c": {
      "model_module": "@jupyter-widgets/controls",
      "model_module_version": "1.2.0",
      "model_name": "DescriptionStyleModel",
      "state": {
       "description_width": ""
      }
     },
     "455cf6e9a00743579e54cef4efeee445": {
      "model_module": "@jupyter-widgets/controls",
      "model_module_version": "1.2.0",
      "model_name": "CheckboxModel",
      "state": {
       "description": "Min. distance",
       "disabled": false,
       "indent": false,
       "layout": "IPY_MODEL_9a22aab825cb4dfdb18cfdf79c3177b5",
       "style": "IPY_MODEL_a4eecdd6eac148078794d26ec458ae2d",
       "value": true
      }
     },
     "45768ffe0934481d81d4dcbfbd39625d": {
      "model_module": "@jupyter-widgets/controls",
      "model_module_version": "1.2.0",
      "model_name": "IntRangeSliderModel",
      "state": {
       "_model_name": "IntRangeSliderModel",
       "_view_name": "IntRangeSliderView",
       "layout": "IPY_MODEL_728268fbfb8a42a5949770b6a0cc242c",
       "max": 65535,
       "style": "IPY_MODEL_26b27b62cee64444ad2310759c9c6f22",
       "value": [
        297,
        1332
       ]
      }
     },
     "45a97c7bfdde493ab1761063e56f09de": {
      "model_module": "@jupyter-widgets/controls",
      "model_module_version": "1.2.0",
      "model_name": "ButtonStyleModel",
      "state": {}
     },
     "45ee5eca128243c499bc220cc0d4b8f8": {
      "model_module": "@jupyter-widgets/base",
      "model_module_version": "1.0.0",
      "model_name": "LayoutModel",
      "state": {
       "width": "100%"
      }
     },
     "462a79130c8645d198627256e0d82ca1": {
      "model_module": "@jupyter-widgets/base",
      "model_module_version": "1.0.0",
      "model_name": "LayoutModel",
      "state": {
       "height": "150px",
       "width": "100%"
      }
     },
     "463ded6a43294c99a7b0cb9d539d0c3a": {
      "model_module": "@jupyter-widgets/base",
      "model_module_version": "1.0.0",
      "model_name": "LayoutModel",
      "state": {
       "display": "none"
      }
     },
     "466a98b3e4164155ac3e59421f4747c4": {
      "model_module": "@jupyter-widgets/base",
      "model_module_version": "1.0.0",
      "model_name": "LayoutModel",
      "state": {
       "display": "none"
      }
     },
     "4698a6c0fe5f48868743f31af7dd1220": {
      "model_module": "@jupyter-widgets/controls",
      "model_module_version": "1.2.0",
      "model_name": "FloatTextModel",
      "state": {
       "description": "min.",
       "layout": "IPY_MODEL_fed75ad1157f438c870d9b33cafa3cb0",
       "step": 0.1,
       "style": "IPY_MODEL_8f1037d085144389a628066405742956",
       "value": 0.5
      }
     },
     "46abbf8828f94c0caed5369b5f796c00": {
      "model_module": "@jupyter-widgets/controls",
      "model_module_version": "1.2.0",
      "model_name": "SliderStyleModel",
      "state": {
       "description_width": ""
      }
     },
     "46c60bf5ed234171b40d85a20e05091d": {
      "model_module": "@jupyter-widgets/base",
      "model_module_version": "1.0.0",
      "model_name": "LayoutModel",
      "state": {
       "width": "75%"
      }
     },
     "47584766f8314f85a70a4f38066c9eff": {
      "model_module": "@jupyter-widgets/controls",
      "model_module_version": "1.2.0",
      "model_name": "DescriptionStyleModel",
      "state": {
       "description_width": ""
      }
     },
     "4759749c64d2497ca46af9130a2f7e24": {
      "model_module": "@jupyter-widgets/base",
      "model_module_version": "1.0.0",
      "model_name": "LayoutModel",
      "state": {}
     },
     "477607fb50a8480c92e3ba3e31698ab6": {
      "model_module": "@jupyter-widgets/controls",
      "model_module_version": "1.2.0",
      "model_name": "VBoxModel",
      "state": {
       "children": [
        "IPY_MODEL_3fc7bb8133544386bfcdc2b59bb169c0",
        "IPY_MODEL_3cda9afe6d824df9b2dbfe89e7c6ec92",
        "IPY_MODEL_6b4a267adab04b688e8540c81b625f5c"
       ],
       "layout": "IPY_MODEL_a0e18e07084b42d091852d2854f659b3"
      }
     },
     "477a123183b340b3bcba4ed01f9f591b": {
      "model_module": "@jupyter-widgets/base",
      "model_module_version": "1.0.0",
      "model_name": "LayoutModel",
      "state": {}
     },
     "4790f395dffc4ff392793a32a6539e60": {
      "model_module": "@jupyter-widgets/controls",
      "model_module_version": "1.2.0",
      "model_name": "CheckboxModel",
      "state": {
       "description": "Size range",
       "disabled": false,
       "indent": false,
       "layout": "IPY_MODEL_345e684d4c8944efa1f60f41e2c26c09",
       "style": "IPY_MODEL_2df5ef056f3c40e6b6d2b8e39ede9f6d",
       "value": false
      }
     },
     "479a85ec0b4c4d6dbc128c3e92899eb9": {
      "model_module": "@jupyter-widgets/base",
      "model_module_version": "1.0.0",
      "model_name": "LayoutModel",
      "state": {
       "display": "none"
      }
     },
     "479b92295e7c465fbafbc723031a2bf4": {
      "model_module": "@jupyter-widgets/base",
      "model_module_version": "1.0.0",
      "model_name": "LayoutModel",
      "state": {}
     },
     "47cd86d34ec4462893501a76ed9afd8f": {
      "model_module": "@jupyter-widgets/controls",
      "model_module_version": "1.2.0",
      "model_name": "DescriptionStyleModel",
      "state": {
       "description_width": ""
      }
     },
     "47d9ce6e1a864a1bb62a3df0054aeb85": {
      "model_module": "@jupyter-widgets/controls",
      "model_module_version": "1.2.0",
      "model_name": "ButtonStyleModel",
      "state": {}
     },
     "47f997f116f94cb7b6c09480f14e106b": {
      "model_module": "@jupyter-widgets/controls",
      "model_module_version": "1.2.0",
      "model_name": "DescriptionStyleModel",
      "state": {
       "description_width": ""
      }
     },
     "483357af4d3a46a2b3aa2d1f7f77755f": {
      "model_module": "@jupyter-widgets/base",
      "model_module_version": "1.0.0",
      "model_name": "LayoutModel",
      "state": {}
     },
     "483e9ce32bda47c488925371b0830254": {
      "model_module": "@jupyter-widgets/base",
      "model_module_version": "1.0.0",
      "model_name": "LayoutModel",
      "state": {
       "display": "none"
      }
     },
     "486ef561d5ad4ed8b6b402d8f99f85c4": {
      "model_module": "@jupyter-widgets/controls",
      "model_module_version": "1.2.0",
      "model_name": "DescriptionStyleModel",
      "state": {
       "description_width": ""
      }
     },
     "48c68a4560844d3fbb31562db6e9683e": {
      "model_module": "@jupyter-widgets/controls",
      "model_module_version": "1.2.0",
      "model_name": "DescriptionStyleModel",
      "state": {
       "description_width": ""
      }
     },
     "48fb649923464bb991a9700fa8811bb0": {
      "model_module": "@jupyter-widgets/controls",
      "model_module_version": "1.2.0",
      "model_name": "ButtonStyleModel",
      "state": {}
     },
     "48fff809a99c4795a642c5eb73a4bc80": {
      "model_module": "@jupyter-widgets/controls",
      "model_module_version": "1.2.0",
      "model_name": "DescriptionStyleModel",
      "state": {
       "description_width": ""
      }
     },
     "49119d5540824a35a119070707ae1701": {
      "model_module": "@jupyter-widgets/base",
      "model_module_version": "1.0.0",
      "model_name": "LayoutModel",
      "state": {}
     },
     "493efc4635854b789c035ec0c9b39114": {
      "model_module": "@jupyter-widgets/controls",
      "model_module_version": "1.2.0",
      "model_name": "DescriptionStyleModel",
      "state": {
       "description_width": ""
      }
     },
     "49512bb4c8814b779a50491620472709": {
      "model_module": "@jupyter-widgets/controls",
      "model_module_version": "1.2.0",
      "model_name": "DropdownModel",
      "state": {
       "_options_labels": [
        "Identity",
        "Cg",
        "Gaussian"
       ],
       "description": "find filter",
       "index": 0,
       "layout": "IPY_MODEL_3127de0b495e44bd958960c09eb00e6f",
       "style": "IPY_MODEL_7c2f1c1779d94e2e91f9166b3dd4b218"
      }
     },
     "496bcc72a596439c98d88c59f25b3d05": {
      "model_module": "@jupyter-widgets/controls",
      "model_module_version": "1.2.0",
      "model_name": "SliderStyleModel",
      "state": {
       "description_width": ""
      }
     },
     "498960a071374e37891d79f5c213ef6c": {
      "model_module": "@jupyter-widgets/base",
      "model_module_version": "1.0.0",
      "model_name": "LayoutModel",
      "state": {}
     },
     "49ab8d478e954eb9ba723305003c39a9": {
      "model_module": "@jupyter-widgets/controls",
      "model_module_version": "1.2.0",
      "model_name": "ButtonModel",
      "state": {
       "description": "Auto",
       "layout": "IPY_MODEL_8a73eacf81254b6eab54f9ad02fc146f",
       "style": "IPY_MODEL_e4a7d5985d9246e59f591bf25c398d01"
      }
     },
     "49b0252677114a718f2f1f5ce51aa65d": {
      "model_module": "@jupyter-widgets/base",
      "model_module_version": "1.0.0",
      "model_name": "LayoutModel",
      "state": {
       "border": "1px solid gray"
      }
     },
     "49b96d23871a4c919f44e812cb6471b5": {
      "model_module": "@jupyter-widgets/base",
      "model_module_version": "1.0.0",
      "model_name": "LayoutModel",
      "state": {}
     },
     "49bc3fc69ba548d29e373246ae84de05": {
      "model_module": "@jupyter-widgets/controls",
      "model_module_version": "1.2.0",
      "model_name": "BoundedIntTextModel",
      "state": {
       "description": "frame",
       "layout": "IPY_MODEL_01f7febb058f4a6ab60dfa074be2473d",
       "max": 49,
       "style": "IPY_MODEL_533466a2364245ec9c79c832089684ba"
      }
     },
     "49c8320dadf14967a9795101e0bd5512": {
      "model_module": "@jupyter-widgets/base",
      "model_module_version": "1.0.0",
      "model_name": "LayoutModel",
      "state": {}
     },
     "49f47ccf89f748e787085a389a86a031": {
      "model_module": "@jupyter-widgets/controls",
      "model_module_version": "1.2.0",
      "model_name": "CheckboxModel",
      "state": {
       "description": "Show loc.",
       "disabled": false,
       "indent": false,
       "layout": "IPY_MODEL_dcbf8a889bd04d8c9ff2ccec087765e6",
       "style": "IPY_MODEL_3dfcc337145e43b59dc9f567314f1074",
       "value": true
      }
     },
     "4a19eae047724d1c8aef7b840f80f3f5": {
      "model_module": "@jupyter-widgets/controls",
      "model_module_version": "1.2.0",
      "model_name": "VBoxModel",
      "state": {
       "children": [
        "IPY_MODEL_faf1a11f908944ffabbd7126a5e005e1",
        "IPY_MODEL_696eb39bab514c74999bc3001041492c"
       ],
       "layout": "IPY_MODEL_fffbe933fea044748d172e2a339cf65b"
      }
     },
     "4a1aaafdd5f744af8cf8e6809361d7c6": {
      "model_module": "@jupyter-widgets/base",
      "model_module_version": "1.0.0",
      "model_name": "LayoutModel",
      "state": {
       "display": "inline"
      }
     },
     "4a3df1f143e8450d88389850d2cfbe53": {
      "model_module": "@jupyter-widgets/controls",
      "model_module_version": "1.2.0",
      "model_name": "DescriptionStyleModel",
      "state": {
       "description_width": ""
      }
     },
     "4a41e935acee4148a4451a1654544e26": {
      "model_module": "@jupyter-widgets/controls",
      "model_module_version": "1.2.0",
      "model_name": "FloatTextModel",
      "state": {
       "description": "radius",
       "layout": "IPY_MODEL_129fbcfc47dd431bb83dc04e5b77badc",
       "step": 0.1,
       "style": "IPY_MODEL_cc4ae8ba518a41fc86f1d615d83338f5",
       "value": 1
      }
     },
     "4a490393faef437a9abcd614d0b88d2c": {
      "model_module": "@jupyter-widgets/controls",
      "model_module_version": "1.2.0",
      "model_name": "DescriptionStyleModel",
      "state": {
       "description_width": ""
      }
     },
     "4a51c13f3cd54ae98aa108b595a29848": {
      "model_module": "@jupyter-widgets/controls",
      "model_module_version": "1.2.0",
      "model_name": "BoundedIntTextModel",
      "state": {
       "description": "frame",
       "layout": "IPY_MODEL_2d63d416c73b4a6b9ae3882a85c68391",
       "max": 0,
       "style": "IPY_MODEL_94a04b48808646259dae3c75bf1e471a"
      }
     },
     "4a68f37c1a214fffa9dd0d7700cf194e": {
      "model_module": "@jupyter-widgets/controls",
      "model_module_version": "1.2.0",
      "model_name": "DescriptionStyleModel",
      "state": {
       "description_width": ""
      }
     },
     "4a736ac20cbe4d9496496506a52f7209": {
      "model_module": "@jupyter-widgets/controls",
      "model_module_version": "1.2.0",
      "model_name": "VBoxModel",
      "state": {
       "children": [
        "IPY_MODEL_b65b0c2916c34ab2981f5b32a3125ffd",
        "IPY_MODEL_7c0872584b414742a7b4ac503911cd25",
        "IPY_MODEL_cc6eea352d5e482d906f5aec93861cf0"
       ],
       "layout": "IPY_MODEL_8e6c34cfb4904b0a87936b4f7c942bc5"
      }
     },
     "4a7b5b806bad4a8b8f1567f9b0601f46": {
      "model_module": "@jupyter-widgets/controls",
      "model_module_version": "1.2.0",
      "model_name": "CheckboxModel",
      "state": {
       "description": "Show loc.",
       "disabled": false,
       "indent": false,
       "layout": "IPY_MODEL_1df8d90fd50d42a69167a3d390d0753d",
       "style": "IPY_MODEL_16280e129de34140ad85a284dd214b66",
       "value": true
      }
     },
     "4a933a90224440338f57b5258edc037e": {
      "model_module": "@jupyter-widgets/controls",
      "model_module_version": "1.2.0",
      "model_name": "LabelModel",
      "state": {
       "layout": "IPY_MODEL_03bd1f0914ee43919dc47922430145b1",
       "style": "IPY_MODEL_d66078a9781e4b2ca2af5639e2f167cc",
       "value": "Locating beads (file 10/10)"
      }
     },
     "4af9a176f0ca4384ae53f7545adf1ca3": {
      "model_module": "@jupyter-widgets/base",
      "model_module_version": "1.0.0",
      "model_name": "LayoutModel",
      "state": {
       "display": "none"
      }
     },
     "4b0261b9b6f648f5b2a390fda20c41f9": {
      "model_module": "@jupyter-widgets/base",
      "model_module_version": "1.0.0",
      "model_name": "LayoutModel",
      "state": {}
     },
     "4b05d2cbaf6f48419763d7aae6016b22": {
      "model_module": "@jupyter-widgets/controls",
      "model_module_version": "1.2.0",
      "model_name": "HBoxModel",
      "state": {
       "children": [
        "IPY_MODEL_6873b5d6371341c8bc06f724ef3a7d4d",
        "IPY_MODEL_291699d4a0464adaba373e687b282354"
       ],
       "layout": "IPY_MODEL_dcc09b93320e44609364bbcb9876e1ee"
      }
     },
     "4b594de80bf942c586a34574b8757370": {
      "model_module": "@jupyter-widgets/controls",
      "model_module_version": "1.2.0",
      "model_name": "IntTextModel",
      "state": {
       "description": "feat. size",
       "layout": "IPY_MODEL_967d6e4a08b54b6a8c9f79d6a8d495ab",
       "step": 1,
       "style": "IPY_MODEL_e675eb635a8d47be92f5923a24b15780",
       "value": 3
      }
     },
     "4b5b61fb0b5f42bc953c2099db1dd1ee": {
      "model_module": "@jupyter-widgets/controls",
      "model_module_version": "1.2.0",
      "model_name": "CheckboxModel",
      "state": {
       "description": "Size range",
       "disabled": false,
       "indent": false,
       "layout": "IPY_MODEL_140bc70604c44cd0b1ee487d0c9276c6",
       "style": "IPY_MODEL_809d2a13aa78447b8a8fcfa964e91b06",
       "value": false
      }
     },
     "4b79d28c9da94143bc5fc8704f601ac8": {
      "model_module": "@jupyter-widgets/controls",
      "model_module_version": "1.2.0",
      "model_name": "FloatTextModel",
      "state": {
       "description": "radius",
       "layout": "IPY_MODEL_2e5fdd4a325c4074b3d9cc96928c9f53",
       "step": 0.1,
       "style": "IPY_MODEL_c265d3f7ada04e2e84dee92b602bca76",
       "value": 1
      }
     },
     "4babe68aecce4550b50f696121e4b54e": {
      "model_module": "@jupyter-widgets/controls",
      "model_module_version": "1.2.0",
      "model_name": "DescriptionStyleModel",
      "state": {
       "description_width": ""
      }
     },
     "4bcf035025f74ee0b0e82a5b6af89d09": {
      "model_module": "@jupyter-widgets/controls",
      "model_module_version": "1.2.0",
      "model_name": "DescriptionStyleModel",
      "state": {
       "description_width": ""
      }
     },
     "4beac3c535f3486a8b97bcaede91171a": {
      "model_module": "@jupyter-widgets/controls",
      "model_module_version": "1.2.0",
      "model_name": "FloatTextModel",
      "state": {
       "description": "sigma",
       "layout": "IPY_MODEL_b88e8f7039e3448daf04fdfbbd09bfa0",
       "step": 0.1,
       "style": "IPY_MODEL_61937addd7c04717b4528d5fdf890e12",
       "value": 1
      }
     },
     "4bf2598540974f29984f3861a5ff8e15": {
      "model_module": "@jupyter-widgets/controls",
      "model_module_version": "1.2.0",
      "model_name": "DescriptionStyleModel",
      "state": {
       "description_width": ""
      }
     },
     "4c5be8f363bc45f38ed94765b9e7a6c9": {
      "model_module": "@jupyter-widgets/controls",
      "model_module_version": "1.2.0",
      "model_name": "DescriptionStyleModel",
      "state": {
       "description_width": ""
      }
     },
     "4c77f6dd91bb46839fb21e5396bb0407": {
      "model_module": "@jupyter-widgets/base",
      "model_module_version": "1.0.0",
      "model_name": "LayoutModel",
      "state": {
       "width": "100%"
      }
     },
     "4c8fb18843be4942b7703325f7ad2720": {
      "model_module": "@jupyter-widgets/controls",
      "model_module_version": "1.2.0",
      "model_name": "LabelModel",
      "state": {
       "layout": "IPY_MODEL_463ded6a43294c99a7b0cb9d539d0c3a",
       "style": "IPY_MODEL_510326c3d0344a2397aa25a642b0f004",
       "value": "Locating beads (file 10/10)"
      }
     },
     "4cb1aac3e95b4c979a1ead5774c356b6": {
      "model_module": "@jupyter-widgets/base",
      "model_module_version": "1.0.0",
      "model_name": "LayoutModel",
      "state": {}
     },
     "4d04899137f7496088e92d970eae70b2": {
      "model_module": "@jupyter-widgets/base",
      "model_module_version": "1.0.0",
      "model_name": "LayoutModel",
      "state": {}
     },
     "4d26ee6060214ff5b2a24bb3784c0591": {
      "model_module": "@jupyter-widgets/base",
      "model_module_version": "1.0.0",
      "model_name": "LayoutModel",
      "state": {}
     },
     "4d29cd8e3b554f8a9af88a5ba888ffda": {
      "model_module": "@jupyter-widgets/controls",
      "model_module_version": "1.2.0",
      "model_name": "CheckboxModel",
      "state": {
       "description": "Size range",
       "disabled": false,
       "indent": false,
       "layout": "IPY_MODEL_11b0a6c6cf96408bbd24e9bb3b9ec223",
       "style": "IPY_MODEL_c1f3b65adfd44722b49ea4a4ff69c29f",
       "value": false
      }
     },
     "4d71c157152d495d8d4b865b622bc7cd": {
      "model_module": "@jupyter-widgets/base",
      "model_module_version": "1.0.0",
      "model_name": "LayoutModel",
      "state": {
       "border": "1px solid gray"
      }
     },
     "4d8797da39e146098e2acf3e58307800": {
      "model_module": "@jupyter-widgets/controls",
      "model_module_version": "1.2.0",
      "model_name": "DropdownModel",
      "state": {
       "_options_labels": [
        "Identity",
        "Cg",
        "Gaussian"
       ],
       "description": "find filter",
       "index": 1,
       "layout": "IPY_MODEL_ec077ad547c24384a0fa385f60917c41",
       "style": "IPY_MODEL_1afc74c34b834938b692233d4251d486"
      }
     },
     "4db7d530e0c34e82a4bf095e64845645": {
      "model_module": "@jupyter-widgets/controls",
      "model_module_version": "1.2.0",
      "model_name": "IntRangeSliderModel",
      "state": {
       "_model_name": "IntRangeSliderModel",
       "_view_name": "IntRangeSliderView",
       "layout": "IPY_MODEL_bd22c8a2345642818cdb6541030c13ac",
       "max": 65535,
       "style": "IPY_MODEL_1f9db22bc9de48599c39cfac0e34058a",
       "value": [
        134,
        25393
       ]
      }
     },
     "4e02df3fdb114001b616a2528f835648": {
      "model_module": "@jupyter-widgets/controls",
      "model_module_version": "1.2.0",
      "model_name": "CheckboxModel",
      "state": {
       "description": "Show loc.",
       "disabled": false,
       "indent": false,
       "layout": "IPY_MODEL_7cf744bcc5b0409f9103c5c4577f0f0c",
       "style": "IPY_MODEL_ffe59aca5f9a4ed7a0fe1d2a7772e446",
       "value": true
      }
     },
     "4e6a001374d74b88a33cb6ba3c4b552a": {
      "model_module": "@jupyter-widgets/controls",
      "model_module_version": "1.2.0",
      "model_name": "FloatTextModel",
      "state": {
       "description": "sigma",
       "layout": "IPY_MODEL_44edea9b95eb40efb7d60eba72138aa3",
       "step": 0.1,
       "style": "IPY_MODEL_93f07b84d3e64ff991362ae79ce94c8e",
       "value": 1
      }
     },
     "4e934494c17140229dfa3d5c300bbfec": {
      "model_module": "@jupyter-widgets/base",
      "model_module_version": "1.0.0",
      "model_name": "LayoutModel",
      "state": {
       "border": "1px solid gray"
      }
     },
     "4e99d039977c47e3b8eba971c359fe29": {
      "model_module": "@jupyter-widgets/controls",
      "model_module_version": "1.2.0",
      "model_name": "FloatTextModel",
      "state": {
       "description": "threshold",
       "layout": "IPY_MODEL_14df7f8e48284943bcb56f0d4e6b4518",
       "step": 10,
       "style": "IPY_MODEL_17a4f243e43749d3a82d94ed987a986a",
       "value": 1000
      }
     },
     "4e9b38d94f214dffa4299200cd9f0d37": {
      "model_module": "@jupyter-widgets/base",
      "model_module_version": "1.0.0",
      "model_name": "LayoutModel",
      "state": {}
     },
     "4ec6270cc8024ca6bade21b9603b062e": {
      "model_module": "@jupyter-widgets/controls",
      "model_module_version": "1.2.0",
      "model_name": "IntTextModel",
      "state": {
       "description": "feat. size",
       "layout": "IPY_MODEL_ffdf4944c3944d1fb6ef5453ccdcab05",
       "step": 1,
       "style": "IPY_MODEL_8d055895f82c41d7b7c8b38876af1e7e",
       "value": 3
      }
     },
     "4ed19061fd9542a1b606cf50a950529f": {
      "model_module": "@jupyter-widgets/base",
      "model_module_version": "1.0.0",
      "model_name": "LayoutModel",
      "state": {}
     },
     "4ef3e817bb48417b978436c7857ed9e4": {
      "model_module": "@jupyter-widgets/base",
      "model_module_version": "1.0.0",
      "model_name": "LayoutModel",
      "state": {}
     },
     "4f0d8fd39d3d4d018d4b0ea18b0cefee": {
      "model_module": "@jupyter-widgets/controls",
      "model_module_version": "1.2.0",
      "model_name": "FloatTextModel",
      "state": {
       "description": "min.",
       "layout": "IPY_MODEL_483e9ce32bda47c488925371b0830254",
       "step": 0.1,
       "style": "IPY_MODEL_2f12a2c7f96c446295d15e6f1634ad2e",
       "value": 0.5
      }
     },
     "4f1c9987bc9249009342d674ff4874aa": {
      "model_module": "@jupyter-widgets/base",
      "model_module_version": "1.0.0",
      "model_name": "LayoutModel",
      "state": {
       "width": "auto"
      }
     },
     "4f59f7c7f95349aaaf46f4a293531ded": {
      "model_module": "@jupyter-widgets/base",
      "model_module_version": "1.0.0",
      "model_name": "LayoutModel",
      "state": {}
     },
     "4f60f460a5874e3e85ec8d90b8d1d860": {
      "model_module": "@jupyter-widgets/base",
      "model_module_version": "1.0.0",
      "model_name": "LayoutModel",
      "state": {
       "width": "auto"
      }
     },
     "4f70dd75e7e249e3b3e3c3c8c5e5f0c0": {
      "model_module": "@jupyter-widgets/controls",
      "model_module_version": "1.2.0",
      "model_name": "HBoxModel",
      "state": {
       "children": [
        "IPY_MODEL_f42361a75b9c48f8857e0386448ae651",
        "IPY_MODEL_03d928f519d64a2f9d4c52fa72ca46b6"
       ],
       "layout": "IPY_MODEL_96d1269aed614efa9f8cc6f05200bace"
      }
     },
     "4fd56e3ac5d54036ab16c9db9aa9eee6": {
      "model_module": "@jupyter-widgets/base",
      "model_module_version": "1.0.0",
      "model_name": "LayoutModel",
      "state": {}
     },
     "5086ea7aef1f46a5808760b81c382cb7": {
      "model_module": "@jupyter-widgets/controls",
      "model_module_version": "1.2.0",
      "model_name": "VBoxModel",
      "state": {
       "children": [
        "IPY_MODEL_d271830888304b6480c115f495085707",
        "IPY_MODEL_ec76c6f4165e4b56bbbc2ebc8027f09c",
        "IPY_MODEL_d7695ff71b5c4684913fd9e4d0fa6b6b",
        "IPY_MODEL_4a736ac20cbe4d9496496506a52f7209",
        "IPY_MODEL_036084afd6684ecb9dbf7a29de25ccbe",
        "IPY_MODEL_ff885677a118487299a4af03d4742890"
       ],
       "layout": "IPY_MODEL_b2cb2318eb49493fb159ab40adfc4cc8"
      }
     },
     "50e9cd4466bc4c1da5b227a6467de70f": {
      "model_module": "@jupyter-widgets/controls",
      "model_module_version": "1.2.0",
      "model_name": "VBoxModel",
      "state": {
       "children": [
        "IPY_MODEL_f3a8f38b4099453fb837d8a3180abfa0",
        "IPY_MODEL_7cf28348575d44999104b0a38448e86f",
        "IPY_MODEL_52e6bc593e5a4bcfb2fda60c2fb26510"
       ],
       "layout": "IPY_MODEL_63d37fe3c0aa41fb806922e478ead0db"
      }
     },
     "510326c3d0344a2397aa25a642b0f004": {
      "model_module": "@jupyter-widgets/controls",
      "model_module_version": "1.2.0",
      "model_name": "DescriptionStyleModel",
      "state": {
       "description_width": ""
      }
     },
     "510ee8b717534a4d8b82f40a272d87ab": {
      "model_module": "@jupyter-widgets/controls",
      "model_module_version": "1.2.0",
      "model_name": "DescriptionStyleModel",
      "state": {
       "description_width": ""
      }
     },
     "51367cd976a94f70a43509ca261a2281": {
      "model_module": "@jupyter-widgets/controls",
      "model_module_version": "1.2.0",
      "model_name": "DescriptionStyleModel",
      "state": {
       "description_width": ""
      }
     },
     "513cf401a49e41bda6aba28bf3b722fe": {
      "model_module": "@jupyter-widgets/base",
      "model_module_version": "1.0.0",
      "model_name": "LayoutModel",
      "state": {
       "display": "flex",
       "flex_flow": "column wrap",
       "width": "66%"
      }
     },
     "5149b052e56d4e3b8dd01dd22283eab2": {
      "model_module": "@jupyter-widgets/controls",
      "model_module_version": "1.2.0",
      "model_name": "HBoxModel",
      "state": {
       "children": [
        "IPY_MODEL_27d49c4881bc4966914232937258123b",
        "IPY_MODEL_49ab8d478e954eb9ba723305003c39a9",
        "IPY_MODEL_b5b4c64f5cef49d2848c1cc638b21707"
       ],
       "layout": "IPY_MODEL_d73bccaf5074400eb1e7f09ab7883930"
      }
     },
     "514b5bd99b7c42adb3e56561b0c96554": {
      "model_module": "@jupyter-widgets/base",
      "model_module_version": "1.0.0",
      "model_name": "LayoutModel",
      "state": {
       "width": "auto"
      }
     },
     "516609ad462b4649afa9d23010368a53": {
      "model_module": "@jupyter-widgets/base",
      "model_module_version": "1.0.0",
      "model_name": "LayoutModel",
      "state": {
       "width": "auto"
      }
     },
     "51ac44cad6864fe0b777662707fc7f96": {
      "model_module": "@jupyter-widgets/base",
      "model_module_version": "1.0.0",
      "model_name": "LayoutModel",
      "state": {}
     },
     "524a214ce2164bc7b9a12d01e86409f1": {
      "model_module": "@jupyter-widgets/controls",
      "model_module_version": "1.2.0",
      "model_name": "ButtonModel",
      "state": {
       "description": "Auto",
       "layout": "IPY_MODEL_f5eb7d24c3ea4294a036eace34910c53",
       "style": "IPY_MODEL_48fb649923464bb991a9700fa8811bb0"
      }
     },
     "526e03976a084568bc186fea0e3470a9": {
      "model_module": "@jupyter-widgets/controls",
      "model_module_version": "1.2.0",
      "model_name": "DescriptionStyleModel",
      "state": {
       "description_width": ""
      }
     },
     "52930f14c43948428e7e139e88ccdd1f": {
      "model_module": "@jupyter-widgets/controls",
      "model_module_version": "1.2.0",
      "model_name": "VBoxModel",
      "state": {
       "children": [
        "IPY_MODEL_9138d8a891bb4b6c8a15a1bfb8e4c597",
        "IPY_MODEL_e91726fd7c014a8ba3e9371ba0ef440d",
        "IPY_MODEL_16f455c95b1e4673b92e8b23c61fcd37"
       ],
       "layout": "IPY_MODEL_d9f9845a6f2145cebc5354cc6553b7f8"
      }
     },
     "5294824b870b4d97bf697a93fce654d2": {
      "model_module": "@jupyter-widgets/controls",
      "model_module_version": "1.2.0",
      "model_name": "DescriptionStyleModel",
      "state": {
       "description_width": ""
      }
     },
     "52b0b62b8f1f4cd5bce7e1cce59de77c": {
      "model_module": "@jupyter-widgets/base",
      "model_module_version": "1.0.0",
      "model_name": "LayoutModel",
      "state": {}
     },
     "52cbb0bbe4ce4ad4b59ac491f14ffb7a": {
      "model_module": "@jupyter-widgets/controls",
      "model_module_version": "1.2.0",
      "model_name": "ButtonStyleModel",
      "state": {}
     },
     "52e6bc593e5a4bcfb2fda60c2fb26510": {
      "model_module": "@jupyter-widgets/controls",
      "model_module_version": "1.2.0",
      "model_name": "FloatTextModel",
      "state": {
       "description": "sigma",
       "layout": "IPY_MODEL_7cea220079584f04863b5b3c3f490da5",
       "step": 0.1,
       "style": "IPY_MODEL_453de5d837a54a0c99ea6e4910ec4de4",
       "value": 1
      }
     },
     "52eaf20fec5d4b26b642602c7e2f087b": {
      "model_module": "@jupyter-widgets/controls",
      "model_module_version": "1.2.0",
      "model_name": "IntTextModel",
      "state": {
       "description": "feat. size",
       "layout": "IPY_MODEL_1009cd49c97e4206874e152e3db862bb",
       "step": 1,
       "style": "IPY_MODEL_710847d775194b9cb10c836ca473b834",
       "value": 3
      }
     },
     "530b6a43fc7247a7977cc8fe43e528a8": {
      "model_module": "@jupyter-widgets/controls",
      "model_module_version": "1.2.0",
      "model_name": "CheckboxModel",
      "state": {
       "description": "Show loc.",
       "disabled": false,
       "indent": false,
       "layout": "IPY_MODEL_3c8d1e78915a409e9085df65c4d1ffe0",
       "style": "IPY_MODEL_4481872b9f784e239878e3f4bd030059",
       "value": true
      }
     },
     "5333a79a55cc45c49ec238230d529949": {
      "model_module": "@jupyter-widgets/base",
      "model_module_version": "1.0.0",
      "model_name": "LayoutModel",
      "state": {
       "width": "75%"
      }
     },
     "533466a2364245ec9c79c832089684ba": {
      "model_module": "@jupyter-widgets/controls",
      "model_module_version": "1.2.0",
      "model_name": "DescriptionStyleModel",
      "state": {
       "description_width": ""
      }
     },
     "5359eed9abad42fb8064a5a645068c28": {
      "model_module": "@jupyter-widgets/base",
      "model_module_version": "1.0.0",
      "model_name": "LayoutModel",
      "state": {
       "width": "auto"
      }
     },
     "536a3707f6e5441db6b5c4cc7f1631d8": {
      "model_module": "@jupyter-widgets/controls",
      "model_module_version": "1.2.0",
      "model_name": "DescriptionStyleModel",
      "state": {
       "description_width": ""
      }
     },
     "5374c6190bc94421b907718a226cc3ce": {
      "model_module": "@jupyter-widgets/base",
      "model_module_version": "1.0.0",
      "model_name": "LayoutModel",
      "state": {}
     },
     "53a0216b84bb4febac866bd1581d3a08": {
      "model_module": "@jupyter-widgets/base",
      "model_module_version": "1.0.0",
      "model_name": "LayoutModel",
      "state": {
       "width": "100%"
      }
     },
     "542824644f4b4688ab53fe51e80cc840": {
      "model_module": "@jupyter-widgets/controls",
      "model_module_version": "1.2.0",
      "model_name": "BoundedIntTextModel",
      "state": {
       "description": "frame",
       "layout": "IPY_MODEL_75347f3d56c347b89e3487ee2446d0d0",
       "max": 0,
       "style": "IPY_MODEL_83cffd741eeb430dbf72e1f82c9e775f"
      }
     },
     "5446864af5af44aba166dcb3ea3c4d17": {
      "model_module": "@jupyter-widgets/base",
      "model_module_version": "1.0.0",
      "model_name": "LayoutModel",
      "state": {}
     },
     "5452847ecfe44d2a98b86fb4875e64b3": {
      "model_module": "@jupyter-widgets/base",
      "model_module_version": "1.0.0",
      "model_name": "LayoutModel",
      "state": {
       "width": "auto"
      }
     },
     "5474fcb3521040fd888dbb6faa2b9ab1": {
      "model_module": "@jupyter-widgets/controls",
      "model_module_version": "1.2.0",
      "model_name": "FloatTextModel",
      "state": {
       "description": "threshold",
       "layout": "IPY_MODEL_169bee8484dc48b296b3922435be1ac1",
       "step": 10,
       "style": "IPY_MODEL_186fef0ffc664a32bff80e8a388fa1b1",
       "value": 1000
      }
     },
     "54aa6aaa177f49f3a1fe6cfc0171eeb7": {
      "model_module": "@jupyter-widgets/controls",
      "model_module_version": "1.2.0",
      "model_name": "VBoxModel",
      "state": {
       "children": [
        "IPY_MODEL_1bc1bf8bdea542b7920e221d983edffb",
        "IPY_MODEL_ca1386fd89404570a65b25c094747dc8"
       ],
       "layout": "IPY_MODEL_b9cbd436c2e04d47a81f8ef4f91f7582"
      }
     },
     "54b348fecf0a43ef930b4457164466ce": {
      "model_module": "@jupyter-widgets/controls",
      "model_module_version": "1.2.0",
      "model_name": "CheckboxModel",
      "state": {
       "description": "Show loc.",
       "disabled": false,
       "indent": false,
       "layout": "IPY_MODEL_aa920e2886b64ce897d166dfe6ce7210",
       "style": "IPY_MODEL_8beeb15f06a24f429a5f619463c7534d",
       "value": true
      }
     },
     "54ee6f9886ed45c598dc7148a36a5ee5": {
      "model_module": "@jupyter-widgets/base",
      "model_module_version": "1.0.0",
      "model_name": "LayoutModel",
      "state": {
       "width": "100%"
      }
     },
     "55272d7030de4ae8b8e10c0fcde8e729": {
      "model_module": "@jupyter-widgets/controls",
      "model_module_version": "1.2.0",
      "model_name": "CheckboxModel",
      "state": {
       "description": "Show loc.",
       "disabled": false,
       "indent": false,
       "layout": "IPY_MODEL_d7abd9ce54dd4274bf1404185220f693",
       "style": "IPY_MODEL_536a3707f6e5441db6b5c4cc7f1631d8",
       "value": true
      }
     },
     "554e284fe67d4408aa5344e45e4d0274": {
      "model_module": "@jupyter-widgets/controls",
      "model_module_version": "1.2.0",
      "model_name": "FloatTextModel",
      "state": {
       "description": "threshold",
       "layout": "IPY_MODEL_2da60094b46e4cf69901d81463e9475b",
       "step": 10,
       "style": "IPY_MODEL_7b8878de628d40bd9920c97d3939afd8",
       "value": 80
      }
     },
     "556bcf6a15be407f871eccaf166f5be2": {
      "model_module": "@jupyter-widgets/base",
      "model_module_version": "1.0.0",
      "model_name": "LayoutModel",
      "state": {}
     },
     "559057d02ee8475d88b706cfc4ac2550": {
      "model_module": "@jupyter-widgets/controls",
      "model_module_version": "1.2.0",
      "model_name": "DescriptionStyleModel",
      "state": {
       "description_width": ""
      }
     },
     "55b1352ea4a34e0bb919a66a42682a4a": {
      "model_module": "@jupyter-widgets/controls",
      "model_module_version": "1.2.0",
      "model_name": "LabelModel",
      "state": {
       "layout": "IPY_MODEL_9062cf5159e6492689fe459d9cd70ec5",
       "style": "IPY_MODEL_f82a94889e664f7ebdce6f096a12c6aa",
       "value": "Tracking data/ctrl-H57/no-cells_SAv-100k_SSS-ctrl-H57-50k_029_.SPE (213/213)"
      }
     },
     "5600573c8c8b4ea596b13dcb94a9939a": {
      "model_module": "@jupyter-widgets/controls",
      "model_module_version": "1.2.0",
      "model_name": "DescriptionStyleModel",
      "state": {
       "description_width": ""
      }
     },
     "560b9ab308b242a0aae998cdc825f1f8": {
      "model_module": "@jupyter-widgets/controls",
      "model_module_version": "1.2.0",
      "model_name": "DescriptionStyleModel",
      "state": {
       "description_width": ""
      }
     },
     "56176a1911624df796d721ccf19324b6": {
      "model_module": "@jupyter-widgets/base",
      "model_module_version": "1.0.0",
      "model_name": "LayoutModel",
      "state": {
       "display": "none"
      }
     },
     "564e84c78d7a42648e50327e3be7be4e": {
      "model_module": "@jupyter-widgets/controls",
      "model_module_version": "1.2.0",
      "model_name": "CheckboxModel",
      "state": {
       "description": "Min. distance",
       "disabled": false,
       "indent": false,
       "layout": "IPY_MODEL_80d0f66ccc8043f5a05540c17b37572b",
       "style": "IPY_MODEL_1c5f0943bcc4468db7357061336a54df",
       "value": true
      }
     },
     "5663bea537e443eeaf6cc92c7c239ccd": {
      "model_module": "@jupyter-widgets/base",
      "model_module_version": "1.0.0",
      "model_name": "LayoutModel",
      "state": {
       "height": "150px",
       "width": "100%"
      }
     },
     "56942cc7612b425c87cf5ac589735428": {
      "model_module": "@jupyter-widgets/controls",
      "model_module_version": "1.2.0",
      "model_name": "DescriptionStyleModel",
      "state": {
       "description_width": ""
      }
     },
     "56a93a526453438f85be87de8c7470af": {
      "model_module": "@jupyter-widgets/base",
      "model_module_version": "1.0.0",
      "model_name": "LayoutModel",
      "state": {}
     },
     "56af3f5c73814919aff170876f698b4f": {
      "model_module": "@jupyter-widgets/controls",
      "model_module_version": "1.2.0",
      "model_name": "VBoxModel",
      "state": {
       "children": [
        "IPY_MODEL_49512bb4c8814b779a50491620472709",
        "IPY_MODEL_59ab127f919b40f5abc530f340ec050f",
        "IPY_MODEL_1725c2f4e24f43519feeb602b06bd99e"
       ],
       "layout": "IPY_MODEL_be6a59e5eb1a4e0ba562040a521833e5"
      }
     },
     "56bb1eb1da41452aa95e86ee51c1c925": {
      "model_module": "@jupyter-widgets/controls",
      "model_module_version": "1.2.0",
      "model_name": "FloatTextModel",
      "state": {
       "description": "radius",
       "layout": "IPY_MODEL_a9736066e5df4dcb9013c7a3c1688f78",
       "step": 0.1,
       "style": "IPY_MODEL_b42cb741e4384022a1c36c41bd528502",
       "value": 1
      }
     },
     "56ddf30c3b54448eaac9adb02d973201": {
      "model_module": "@jupyter-widgets/controls",
      "model_module_version": "1.2.0",
      "model_name": "VBoxModel",
      "state": {
       "children": [
        "IPY_MODEL_051997f9d6024dc8af51f2a4058dfa7b",
        "IPY_MODEL_cc7d7fe57c8743e9aa71f22aa0ab4098"
       ],
       "layout": "IPY_MODEL_d1979fb674764dc3a2d492d2045c3e47"
      }
     },
     "56f43e719b054d2db0d43b41318a43e8": {
      "model_module": "@jupyter-widgets/base",
      "model_module_version": "1.0.0",
      "model_name": "LayoutModel",
      "state": {
       "border": "1px solid gray"
      }
     },
     "571e43173c984d42b5335ced176a1fcc": {
      "model_module": "@jupyter-widgets/base",
      "model_module_version": "1.0.0",
      "model_name": "LayoutModel",
      "state": {}
     },
     "5777eed6f9d64683b752e06b8cf63243": {
      "model_module": "@jupyter-widgets/controls",
      "model_module_version": "1.2.0",
      "model_name": "DescriptionStyleModel",
      "state": {
       "description_width": ""
      }
     },
     "57792291a97947bbabf742c7d545ef62": {
      "model_module": "@jupyter-widgets/base",
      "model_module_version": "1.0.0",
      "model_name": "LayoutModel",
      "state": {
       "display": "none"
      }
     },
     "577976a5752a4a35ae5987c0d2954cac": {
      "model_module": "@jupyter-widgets/controls",
      "model_module_version": "1.2.0",
      "model_name": "SliderStyleModel",
      "state": {
       "description_width": ""
      }
     },
     "577cf85bbf4c49c2a9a349dccda29721": {
      "model_module": "@jupyter-widgets/base",
      "model_module_version": "1.0.0",
      "model_name": "LayoutModel",
      "state": {
       "height": "150px",
       "width": "100%"
      }
     },
     "57a2208435654b7e8a9ac515c7e6800d": {
      "model_module": "@jupyter-widgets/controls",
      "model_module_version": "1.2.0",
      "model_name": "DescriptionStyleModel",
      "state": {
       "description_width": ""
      }
     },
     "57b96df12752422e89e440a470aea9d3": {
      "model_module": "@jupyter-widgets/controls",
      "model_module_version": "1.2.0",
      "model_name": "FloatTextModel",
      "state": {
       "description": "sigma",
       "layout": "IPY_MODEL_466a98b3e4164155ac3e59421f4747c4",
       "step": 0.1,
       "style": "IPY_MODEL_5e416f0426bc401ea3e7f1132eccb83d",
       "value": 1
      }
     },
     "57e56208b76048eb9a4b54967a9f767e": {
      "model_module": "@jupyter-widgets/base",
      "model_module_version": "1.0.0",
      "model_name": "LayoutModel",
      "state": {
       "display": "none"
      }
     },
     "58167ea58240475299471d95d476a684": {
      "model_module": "@jupyter-widgets/base",
      "model_module_version": "1.0.0",
      "model_name": "LayoutModel",
      "state": {}
     },
     "5854236992754eb5a4eb25901ebebbf3": {
      "model_module": "@jupyter-widgets/controls",
      "model_module_version": "1.2.0",
      "model_name": "IntRangeSliderModel",
      "state": {
       "_model_name": "IntRangeSliderModel",
       "_view_name": "IntRangeSliderView",
       "layout": "IPY_MODEL_8d2ce95e587f4415ba3358ee8fc152a5",
       "max": 65535,
       "style": "IPY_MODEL_f0367f1de118469ba8b00941e610a68e",
       "value": [
        125,
        898
       ]
      }
     },
     "586359d9189148bc9b1870a5c0af9a02": {
      "model_module": "@jupyter-widgets/base",
      "model_module_version": "1.0.0",
      "model_name": "LayoutModel",
      "state": {
       "display": "flex",
       "flex_flow": "column wrap",
       "width": "66%"
      }
     },
     "58667e49450448c6ae4c9a2f36f38b12": {
      "model_module": "@jupyter-widgets/controls",
      "model_module_version": "1.2.0",
      "model_name": "FloatTextModel",
      "state": {
       "layout": "IPY_MODEL_81096482fe474b759a2fb31d9ee07c29",
       "step": 0.1,
       "style": "IPY_MODEL_b604c6fd56b54052a2ef2e4dc721225b",
       "value": 1
      }
     },
     "586ea51ad54b431dbb7953698bff4f35": {
      "model_module": "@jupyter-widgets/controls",
      "model_module_version": "1.2.0",
      "model_name": "DescriptionStyleModel",
      "state": {
       "description_width": ""
      }
     },
     "587b53fefa6e4d2091b15dd062869166": {
      "model_module": "@jupyter-widgets/controls",
      "model_module_version": "1.2.0",
      "model_name": "DescriptionStyleModel",
      "state": {
       "description_width": ""
      }
     },
     "5897926131b44660b1f6e44086382fc1": {
      "model_module": "@jupyter-widgets/controls",
      "model_module_version": "1.2.0",
      "model_name": "FloatTextModel",
      "state": {
       "description": "radius",
       "layout": "IPY_MODEL_9b53051365464343a586c20b7ee325f3",
       "step": 0.1,
       "style": "IPY_MODEL_fe15a69c03ab4054baafaa9111007f90",
       "value": 1
      }
     },
     "58c7c620e7444f18bee9b757653f2aa9": {
      "model_module": "@jupyter-widgets/base",
      "model_module_version": "1.0.0",
      "model_name": "LayoutModel",
      "state": {}
     },
     "58c8e5c780ac482ea7d83b4cb501efbb": {
      "model_module": "@jupyter-widgets/controls",
      "model_module_version": "1.2.0",
      "model_name": "DropdownModel",
      "state": {
       "_options_labels": [
        "2d_fixed",
        "2d",
        "3d"
       ],
       "description": "model",
       "index": 1,
       "layout": "IPY_MODEL_21c258a629b84bf88eb34298a9a4890f",
       "style": "IPY_MODEL_6da7d3d876064f1f9555a7a40461e31c"
      }
     },
     "59ab127f919b40f5abc530f340ec050f": {
      "model_module": "@jupyter-widgets/controls",
      "model_module_version": "1.2.0",
      "model_name": "IntTextModel",
      "state": {
       "description": "feat. size",
       "layout": "IPY_MODEL_01736be456ab4639a4e5f0f48f300839",
       "step": 1,
       "style": "IPY_MODEL_cb2aa5668d6740de9c8098fc5505dd93",
       "value": 3
      }
     },
     "59afc03e4e994cbbacce159577f5a1bb": {
      "model_module": "@jupyter-widgets/controls",
      "model_module_version": "1.2.0",
      "model_name": "DescriptionStyleModel",
      "state": {
       "description_width": ""
      }
     },
     "59e5136873f3461f9da2eb0c07a63bbe": {
      "model_module": "@jupyter-widgets/controls",
      "model_module_version": "1.2.0",
      "model_name": "HBoxModel",
      "state": {
       "children": [
        "IPY_MODEL_d00994195ff44f51a5ca3048b41a76f7",
        "IPY_MODEL_a8c5946410a84233bcdf6b08b34dc3b3"
       ],
       "layout": "IPY_MODEL_1141d8cb2a8148a48ac1b6503f8c1ee9"
      }
     },
     "59e608bd75e749d49644419ccf752c7d": {
      "model_module": "@jupyter-widgets/controls",
      "model_module_version": "1.2.0",
      "model_name": "FloatTextModel",
      "state": {
       "description": "radius",
       "layout": "IPY_MODEL_6bbd6b286ef1427686d5ee2ae6313dde",
       "step": 0.1,
       "style": "IPY_MODEL_ed6380d8ac0d4669808c453d50ba50a5",
       "value": 1
      }
     },
     "5a1aa8b1ede248a887870215d096f71d": {
      "model_module": "@jupyter-widgets/controls",
      "model_module_version": "1.2.0",
      "model_name": "DescriptionStyleModel",
      "state": {
       "description_width": ""
      }
     },
     "5a270a5953994efd86429a19106631ad": {
      "model_module": "@jupyter-widgets/controls",
      "model_module_version": "1.2.0",
      "model_name": "DescriptionStyleModel",
      "state": {
       "description_width": ""
      }
     },
     "5a47db210c184552875d03209f2ac40d": {
      "model_module": "@jupyter-widgets/base",
      "model_module_version": "1.0.0",
      "model_name": "LayoutModel",
      "state": {}
     },
     "5a5dc38c8a6a42f0a08431c0f89f295b": {
      "model_module": "@jupyter-widgets/base",
      "model_module_version": "1.0.0",
      "model_name": "LayoutModel",
      "state": {
       "width": "75%"
      }
     },
     "5aa0c9d1e5ab43acb48a9a4b2e234ec2": {
      "model_module": "@jupyter-widgets/controls",
      "model_module_version": "1.2.0",
      "model_name": "BoundedIntTextModel",
      "state": {
       "description": "frame",
       "layout": "IPY_MODEL_654856f11fc34a429035c6ef7fe126fb",
       "max": 0,
       "style": "IPY_MODEL_1484403c339c42d881d837479a6b348b"
      }
     },
     "5aa161b57ab74c31a2990499812f4952": {
      "model_module": "@jupyter-widgets/controls",
      "model_module_version": "1.2.0",
      "model_name": "ButtonModel",
      "state": {
       "description": "Auto",
       "layout": "IPY_MODEL_fe754280dfc64055b548ec78eacc41d8",
       "style": "IPY_MODEL_12e003f48a8e42dcb76762eb7dbfbd59"
      }
     },
     "5ae695377cd74172a7305615d64c90c8": {
      "model_module": "@jupyter-widgets/controls",
      "model_module_version": "1.2.0",
      "model_name": "IntTextModel",
      "state": {
       "description": "feat. size",
       "layout": "IPY_MODEL_c65c0211461f4256825de855d1499e54",
       "step": 1,
       "style": "IPY_MODEL_48fff809a99c4795a642c5eb73a4bc80",
       "value": 3
      }
     },
     "5b47e1c4bc184de1922550875cd3a9bb": {
      "model_module": "@jupyter-widgets/controls",
      "model_module_version": "1.2.0",
      "model_name": "FloatTextModel",
      "state": {
       "description": "max.",
       "layout": "IPY_MODEL_e704f90bcb3c446badc7d2eeb77c1ff3",
       "step": 0.1,
       "style": "IPY_MODEL_66d2fc5d9cee4391b118b7eb2f972320",
       "value": 2
      }
     },
     "5b48181873d4458fa8f521ea51ffcd7b": {
      "model_module": "@jupyter-widgets/controls",
      "model_module_version": "1.2.0",
      "model_name": "BoundedIntTextModel",
      "state": {
       "description": "frame",
       "layout": "IPY_MODEL_d13dca73dfab4d01a7f4ac9396aa4625",
       "max": 0,
       "style": "IPY_MODEL_b5cc62b6605a4e0da267d7b8f688c41c"
      }
     },
     "5b4a729fccd342f195d983a5748e6211": {
      "model_module": "@jupyter-widgets/controls",
      "model_module_version": "1.2.0",
      "model_name": "BoundedIntTextModel",
      "state": {
       "description": "frame",
       "layout": "IPY_MODEL_2370a758df184f00999f5f3619f13293",
       "max": 0,
       "style": "IPY_MODEL_120e3330344a49d09454f506e17883f3"
      }
     },
     "5b4c982706bd4240a5f71a5464d607e3": {
      "model_module": "@jupyter-widgets/base",
      "model_module_version": "1.0.0",
      "model_name": "LayoutModel",
      "state": {}
     },
     "5b832b17194f4626b304f362d82d3a97": {
      "model_module": "@jupyter-widgets/controls",
      "model_module_version": "1.2.0",
      "model_name": "VBoxModel",
      "state": {
       "children": [
        "IPY_MODEL_156fd5a9049b4a34bdafcf5399c6a636",
        "IPY_MODEL_005a080a10004a2c8d90773f71f9702c",
        "IPY_MODEL_635112c8db534c5aabd0e2e44f0b3490",
        "IPY_MODEL_b147a80af23a4223aacd3ed579ee9f5e",
        "IPY_MODEL_59e5136873f3461f9da2eb0c07a63bbe",
        "IPY_MODEL_7399cbebd2a24dc7baae9c10ae65dbf7"
       ],
       "layout": "IPY_MODEL_853382609a5b404d80a4feb4093d925a"
      }
     },
     "5bf451524c124eb5aaa54312ad41c19b": {
      "model_module": "@jupyter-widgets/controls",
      "model_module_version": "1.2.0",
      "model_name": "DescriptionStyleModel",
      "state": {
       "description_width": ""
      }
     },
     "5c401ea5da0d4848be95abb0540b7161": {
      "model_module": "@jupyter-widgets/controls",
      "model_module_version": "1.2.0",
      "model_name": "CheckboxModel",
      "state": {
       "description": "Size range",
       "disabled": false,
       "indent": false,
       "layout": "IPY_MODEL_15113472ac644c9dafe9aa5fd79b2ebc",
       "style": "IPY_MODEL_bc632cbfdf9d4927a3f062368302e1a6",
       "value": false
      }
     },
     "5c5eeae3fe734cfb9d5b6555b74ba08d": {
      "model_module": "@jupyter-widgets/controls",
      "model_module_version": "1.2.0",
      "model_name": "DescriptionStyleModel",
      "state": {
       "description_width": ""
      }
     },
     "5c98545516e04951b2ddb146af32d870": {
      "model_module": "@jupyter-widgets/controls",
      "model_module_version": "1.2.0",
      "model_name": "SelectModel",
      "state": {
       "_options_labels": [
        "data/sensor-H57/cells-01_SAv-100k_SSS-H57-20k_000_.SPE"
       ],
       "index": 0,
       "layout": "IPY_MODEL_30ab117a33364db4b8b933f5dce6d78c",
       "style": "IPY_MODEL_14e0f10b53a54f6981ae1f49c5ec1319"
      }
     },
     "5cd611847aa444c08a1fca2c7acaffd1": {
      "model_module": "@jupyter-widgets/base",
      "model_module_version": "1.0.0",
      "model_name": "LayoutModel",
      "state": {
       "display": "none"
      }
     },
     "5ce0ca89fff74ff98c74dfb4db051a59": {
      "model_module": "@jupyter-widgets/base",
      "model_module_version": "1.0.0",
      "model_name": "LayoutModel",
      "state": {}
     },
     "5cfae39b4ad94a99ac82ed3735cb7ac7": {
      "model_module": "@jupyter-widgets/base",
      "model_module_version": "1.0.0",
      "model_name": "LayoutModel",
      "state": {
       "display": "none"
      }
     },
     "5d0a7ef140e44964bca949a1721e3e29": {
      "model_module": "@jupyter-widgets/base",
      "model_module_version": "1.0.0",
      "model_name": "LayoutModel",
      "state": {
       "display": "inline"
      }
     },
     "5d1ee3b1cb2f409baac0f6f3c8af3d89": {
      "model_module": "@jupyter-widgets/controls",
      "model_module_version": "1.2.0",
      "model_name": "DescriptionStyleModel",
      "state": {
       "description_width": ""
      }
     },
     "5d2ac90b66f548228add6317731b95b1": {
      "model_module": "@jupyter-widgets/controls",
      "model_module_version": "1.2.0",
      "model_name": "CheckboxModel",
      "state": {
       "description": "Show loc.",
       "disabled": false,
       "indent": false,
       "layout": "IPY_MODEL_d7a264b90a064225b67d67860490ac0c",
       "style": "IPY_MODEL_ecb8bac5108d45a78922b28f3f46ed26",
       "value": true
      }
     },
     "5d7446d851ec4f579be2efa3d820e5dc": {
      "model_module": "@jupyter-widgets/controls",
      "model_module_version": "1.2.0",
      "model_name": "IntRangeSliderModel",
      "state": {
       "_model_name": "IntRangeSliderModel",
       "_view_name": "IntRangeSliderView",
       "layout": "IPY_MODEL_fa37f38bd10d46259b73c9a383fbd8ae",
       "max": 65535,
       "style": "IPY_MODEL_496bcc72a596439c98d88c59f25b3d05",
       "value": [
        125,
        898
       ]
      }
     },
     "5dd67e77080f4fe6ae891b497106b518": {
      "model_module": "@jupyter-widgets/controls",
      "model_module_version": "1.2.0",
      "model_name": "HBoxModel",
      "state": {
       "children": [
        "IPY_MODEL_67810f96dfa94f84a874740e9e8b1848",
        "IPY_MODEL_20230ca4f34e468aa7a2f70651828801",
        "IPY_MODEL_a55b747a6bb54df489ee9ab51b54ae2f"
       ],
       "layout": "IPY_MODEL_4206f5309faa4d93908496b5d484138f"
      }
     },
     "5ddf41f4e91448118e5b3331eae7ede0": {
      "model_module": "@jupyter-widgets/base",
      "model_module_version": "1.0.0",
      "model_name": "LayoutModel",
      "state": {
       "border": "1px solid gray"
      }
     },
     "5de06bb1c6624e61beb2780792cead7f": {
      "model_module": "@jupyter-widgets/controls",
      "model_module_version": "1.2.0",
      "model_name": "DescriptionStyleModel",
      "state": {
       "description_width": ""
      }
     },
     "5e012965fda74d719e889094e173e8de": {
      "model_module": "@jupyter-widgets/controls",
      "model_module_version": "1.2.0",
      "model_name": "DescriptionStyleModel",
      "state": {
       "description_width": ""
      }
     },
     "5e07b32ab6904ce988fd55d9bbce396d": {
      "model_module": "@jupyter-widgets/controls",
      "model_module_version": "1.2.0",
      "model_name": "VBoxModel",
      "state": {
       "children": [
        "IPY_MODEL_7a70e5df9e4a47af98622efa03666631",
        "IPY_MODEL_36680b77f7ad4b55bfcebcb35039d055",
        "IPY_MODEL_900defe2db1a44ca9b66c0e478878a1f",
        "IPY_MODEL_56af3f5c73814919aff170876f698b4f",
        "IPY_MODEL_a431992d061d4c7fa482f577ee2b5f45",
        "IPY_MODEL_7ffaa12f4009420cabdc409956fafe3d"
       ],
       "layout": "IPY_MODEL_e201e92cb5fa41e8af16546c7577b729"
      }
     },
     "5e1159f85fd74644919df2bb3f051ffa": {
      "model_module": "@jupyter-widgets/controls",
      "model_module_version": "1.2.0",
      "model_name": "VBoxModel",
      "state": {
       "children": [
        "IPY_MODEL_6b3cfdc9566d41578e2bc0de4e7c5282",
        "IPY_MODEL_5b48181873d4458fa8f521ea51ffcd7b"
       ],
       "layout": "IPY_MODEL_4d04899137f7496088e92d970eae70b2"
      }
     },
     "5e1620de67ef423d9dcf6ed618d2da27": {
      "model_module": "@jupyter-widgets/base",
      "model_module_version": "1.0.0",
      "model_name": "LayoutModel",
      "state": {}
     },
     "5e229349f7fe437488060da11ce4b070": {
      "model_module": "@jupyter-widgets/base",
      "model_module_version": "1.0.0",
      "model_name": "LayoutModel",
      "state": {}
     },
     "5e416f0426bc401ea3e7f1132eccb83d": {
      "model_module": "@jupyter-widgets/controls",
      "model_module_version": "1.2.0",
      "model_name": "DescriptionStyleModel",
      "state": {
       "description_width": ""
      }
     },
     "5e6811fb63c74e868f450423ba6ad548": {
      "model_module": "@jupyter-widgets/controls",
      "model_module_version": "1.2.0",
      "model_name": "DescriptionStyleModel",
      "state": {
       "description_width": ""
      }
     },
     "5e983447fe54437d9c0af3899af33f20": {
      "model_module": "@jupyter-widgets/base",
      "model_module_version": "1.0.0",
      "model_name": "LayoutModel",
      "state": {
       "width": "75%"
      }
     },
     "5eaf8f3cdebe4e9cad9fb053d288afdf": {
      "model_module": "@jupyter-widgets/controls",
      "model_module_version": "1.2.0",
      "model_name": "CheckboxModel",
      "state": {
       "description": "Size range",
       "disabled": false,
       "indent": false,
       "layout": "IPY_MODEL_fc8c47a3cbf34f2e9187fe74026c0dff",
       "style": "IPY_MODEL_a291137d07614d41942fc48dc043ba1e",
       "value": false
      }
     },
     "5eccf91694a044778a8cb26eb5a5c8a0": {
      "model_module": "@jupyter-widgets/controls",
      "model_module_version": "1.2.0",
      "model_name": "DescriptionStyleModel",
      "state": {
       "description_width": ""
      }
     },
     "5efc03be26be44678edae4db1dd0620d": {
      "model_module": "@jupyter-widgets/base",
      "model_module_version": "1.0.0",
      "model_name": "LayoutModel",
      "state": {}
     },
     "5f220bd61e4d4c46a2d8aedfa4a8dedc": {
      "model_module": "@jupyter-widgets/base",
      "model_module_version": "1.0.0",
      "model_name": "LayoutModel",
      "state": {}
     },
     "5f7efa908d984902a244918b19c19735": {
      "model_module": "@jupyter-widgets/controls",
      "model_module_version": "1.2.0",
      "model_name": "FloatTextModel",
      "state": {
       "description": "threshold",
       "layout": "IPY_MODEL_615072efde2e47e7a36e1f323b2c0b36",
       "step": 10,
       "style": "IPY_MODEL_ecd47fa07d1142bea9392cc41b33eee5",
       "value": 1000
      }
     },
     "5fbca88f0d204db0980fdaccd5ebc768": {
      "model_module": "@jupyter-widgets/controls",
      "model_module_version": "1.2.0",
      "model_name": "HBoxModel",
      "state": {
       "children": [
        "IPY_MODEL_0ab698786cec42bc8fdf23c17c963c07",
        "IPY_MODEL_ca9aad266e7c42bd917c4ba763aea4f1"
       ],
       "layout": "IPY_MODEL_3e56f2bef8274caf9fa9c8d3f07d4271"
      }
     },
     "60148b202487413ca2525ec620373960": {
      "model_module": "@jupyter-widgets/controls",
      "model_module_version": "1.2.0",
      "model_name": "DescriptionStyleModel",
      "state": {
       "description_width": ""
      }
     },
     "603f6d221e8049b5a98f4145480c1bab": {
      "model_module": "@jupyter-widgets/controls",
      "model_module_version": "1.2.0",
      "model_name": "DescriptionStyleModel",
      "state": {
       "description_width": ""
      }
     },
     "60493ddd1b4c4697b62100c27014597a": {
      "model_module": "@jupyter-widgets/base",
      "model_module_version": "1.0.0",
      "model_name": "LayoutModel",
      "state": {
       "width": "100%"
      }
     },
     "606dec8399984774b7cef87a7e644ae8": {
      "model_module": "@jupyter-widgets/controls",
      "model_module_version": "1.2.0",
      "model_name": "DescriptionStyleModel",
      "state": {
       "description_width": ""
      }
     },
     "608b02c44b7e4a9890c050da62633fff": {
      "model_module": "@jupyter-widgets/controls",
      "model_module_version": "1.2.0",
      "model_name": "VBoxModel",
      "state": {
       "children": [
        "IPY_MODEL_8d103f0587d54766bf25ae1c7cfdd53d",
        "IPY_MODEL_a2a42213226e42ce8bcd22c543fd9505",
        "IPY_MODEL_a3d10057cfce4fd59e9e4ac70cd279fa",
        "IPY_MODEL_e1417e10882d453988e80d2eca921cce",
        "IPY_MODEL_ebfdd479dffd499392a03cd744a5e4a0",
        "IPY_MODEL_baf972ed6604436caea88a93149e1b79"
       ],
       "layout": "IPY_MODEL_513cf401a49e41bda6aba28bf3b722fe"
      }
     },
     "60a9c1ea4c26432ea0ae7fdd3a5c2026": {
      "model_module": "@jupyter-widgets/controls",
      "model_module_version": "1.2.0",
      "model_name": "DescriptionStyleModel",
      "state": {
       "description_width": ""
      }
     },
     "60ec7cfe558846189357291a45dc9a81": {
      "model_module": "@jupyter-widgets/base",
      "model_module_version": "1.0.0",
      "model_name": "LayoutModel",
      "state": {}
     },
     "6118948bd2ef4d3d81a851ddc10f4615": {
      "model_module": "@jupyter-widgets/controls",
      "model_module_version": "1.2.0",
      "model_name": "CheckboxModel",
      "state": {
       "description": "Size range",
       "disabled": false,
       "indent": false,
       "layout": "IPY_MODEL_ae7455f6b3494419b28dabed380516af",
       "style": "IPY_MODEL_6dd636fd34f847cbb0fc7d665ae127c4",
       "value": false
      }
     },
     "6142708a9df34496bbbfc0c50075234e": {
      "model_module": "@jupyter-widgets/base",
      "model_module_version": "1.0.0",
      "model_name": "LayoutModel",
      "state": {}
     },
     "615072efde2e47e7a36e1f323b2c0b36": {
      "model_module": "@jupyter-widgets/base",
      "model_module_version": "1.0.0",
      "model_name": "LayoutModel",
      "state": {}
     },
     "6153c1e9a4ec40c1af4f614afd962372": {
      "model_module": "@jupyter-widgets/controls",
      "model_module_version": "1.2.0",
      "model_name": "IntTextModel",
      "state": {
       "description": "feat. size",
       "layout": "IPY_MODEL_a0ca00acc0784f1b80786a8d0fc73831",
       "step": 1,
       "style": "IPY_MODEL_606dec8399984774b7cef87a7e644ae8",
       "value": 3
      }
     },
     "616fe254969d434dbd95651698e7050e": {
      "model_module": "@jupyter-widgets/base",
      "model_module_version": "1.0.0",
      "model_name": "LayoutModel",
      "state": {
       "width": "auto"
      }
     },
     "61736542fb91429ebfc4285de4794f3c": {
      "model_module": "@jupyter-widgets/controls",
      "model_module_version": "1.2.0",
      "model_name": "VBoxModel",
      "state": {
       "children": [
        "IPY_MODEL_59e608bd75e749d49644419ccf752c7d",
        "IPY_MODEL_86ad48dec51741938a64d3053101ebe2",
        "IPY_MODEL_adfdf5b3e7044e60872eefbde244317a",
        "IPY_MODEL_2f4053fa41d94007a658e0781bd57781",
        "IPY_MODEL_8ae8a78a822742a5a1ac26766d7d0bf2",
        "IPY_MODEL_ca214501be3b4fe7a84ae6b2a809f7d3"
       ],
       "layout": "IPY_MODEL_e73df47e85a94b77813998ab4e5b26ee"
      }
     },
     "61937addd7c04717b4528d5fdf890e12": {
      "model_module": "@jupyter-widgets/controls",
      "model_module_version": "1.2.0",
      "model_name": "DescriptionStyleModel",
      "state": {
       "description_width": ""
      }
     },
     "6213c69a7df04ee28daba2e0e74e2b76": {
      "model_module": "@jupyter-widgets/controls",
      "model_module_version": "1.2.0",
      "model_name": "ButtonModel",
      "state": {
       "description": "Auto",
       "layout": "IPY_MODEL_ca9cbc33f87a45c1a758e030140b0b77",
       "style": "IPY_MODEL_ce3f20ebfd14492fa38c6c5c3cf5768f"
      }
     },
     "62c1a573ed4b4a0c94b82b0ef6d976fe": {
      "model_module": "@jupyter-widgets/controls",
      "model_module_version": "1.2.0",
      "model_name": "HBoxModel",
      "state": {
       "children": [
        "IPY_MODEL_7d54d4eef9b141c5b28a3ced6be45186",
        "IPY_MODEL_7c8f7fd5620348dbbdce9826109e023e"
       ],
       "layout": "IPY_MODEL_49119d5540824a35a119070707ae1701"
      }
     },
     "62d7207d1edb4aec95d7b6c0366bf9a0": {
      "model_module": "@jupyter-widgets/base",
      "model_module_version": "1.0.0",
      "model_name": "LayoutModel",
      "state": {}
     },
     "62e1db1aaa5b45a0b6720e7f406ee060": {
      "model_module": "@jupyter-widgets/controls",
      "model_module_version": "1.2.0",
      "model_name": "FloatTextModel",
      "state": {
       "description": "min.",
       "layout": "IPY_MODEL_161bccb516f141d8af2d136bedde3dc7",
       "step": 0.1,
       "style": "IPY_MODEL_a44058bc020a4cfabeacab01e0c69d3c",
       "value": 0.5
      }
     },
     "631fa72c9eeb4fa3a38937437c658739": {
      "model_module": "@jupyter-widgets/base",
      "model_module_version": "1.0.0",
      "model_name": "LayoutModel",
      "state": {
       "display": "none"
      }
     },
     "632863c5ef4740a3a8fa5303d98054f5": {
      "model_module": "@jupyter-widgets/controls",
      "model_module_version": "1.2.0",
      "model_name": "DescriptionStyleModel",
      "state": {
       "description_width": ""
      }
     },
     "635112c8db534c5aabd0e2e44f0b3490": {
      "model_module": "@jupyter-widgets/controls",
      "model_module_version": "1.2.0",
      "model_name": "FloatTextModel",
      "state": {
       "description": "threshold",
       "layout": "IPY_MODEL_349a6c60f42747edb1f90601260406eb",
       "step": 10,
       "style": "IPY_MODEL_80baaa6b703743fcb59be4abcea2e9bb",
       "value": 100
      }
     },
     "63807a890eb7470ba44feed616076dd0": {
      "model_module": "@jupyter-widgets/base",
      "model_module_version": "1.0.0",
      "model_name": "LayoutModel",
      "state": {
       "width": "auto"
      }
     },
     "63a3ba1e33884d798eaae807bb0dc402": {
      "model_module": "@jupyter-widgets/controls",
      "model_module_version": "1.2.0",
      "model_name": "DescriptionStyleModel",
      "state": {
       "description_width": ""
      }
     },
     "63c9ca94d8f84582ab880606d1851611": {
      "model_module": "@jupyter-widgets/controls",
      "model_module_version": "1.2.0",
      "model_name": "DescriptionStyleModel",
      "state": {
       "description_width": ""
      }
     },
     "63d37fe3c0aa41fb806922e478ead0db": {
      "model_module": "@jupyter-widgets/base",
      "model_module_version": "1.0.0",
      "model_name": "LayoutModel",
      "state": {
       "border": "1px solid gray"
      }
     },
     "640cbdf5fd58499cbf65b6ac96918d91": {
      "model_module": "@jupyter-widgets/base",
      "model_module_version": "1.0.0",
      "model_name": "LayoutModel",
      "state": {}
     },
     "64858b97ea784e55991766fa5500663e": {
      "model_module": "@jupyter-widgets/controls",
      "model_module_version": "1.2.0",
      "model_name": "ButtonStyleModel",
      "state": {}
     },
     "649b7633f4b04e2b844853ac9c71132a": {
      "model_module": "@jupyter-widgets/base",
      "model_module_version": "1.0.0",
      "model_name": "LayoutModel",
      "state": {
       "display": "none"
      }
     },
     "64b52890e86046aa8a6d9333020000e0": {
      "model_module": "@jupyter-widgets/controls",
      "model_module_version": "1.2.0",
      "model_name": "DescriptionStyleModel",
      "state": {
       "description_width": ""
      }
     },
     "64f9c0fdfd7b40888021bf14afd2807a": {
      "model_module": "@jupyter-widgets/controls",
      "model_module_version": "1.2.0",
      "model_name": "DescriptionStyleModel",
      "state": {
       "description_width": ""
      }
     },
     "64f9d49685fa44ecb72ccff9c04bbcda": {
      "model_module": "@jupyter-widgets/controls",
      "model_module_version": "1.2.0",
      "model_name": "DescriptionStyleModel",
      "state": {
       "description_width": ""
      }
     },
     "64ffbb4965a94f559a4c0cfc26562eac": {
      "model_module": "@jupyter-widgets/controls",
      "model_module_version": "1.2.0",
      "model_name": "FloatTextModel",
      "state": {
       "description": "sigma",
       "layout": "IPY_MODEL_398608ecacd949bc8f063480366982a5",
       "step": 0.1,
       "style": "IPY_MODEL_be11f35f752d44c2ab2401edc51474f7",
       "value": 1
      }
     },
     "65104cf6ab1c41809e71500f9e9981a8": {
      "model_module": "@jupyter-widgets/base",
      "model_module_version": "1.0.0",
      "model_name": "LayoutModel",
      "state": {}
     },
     "654856f11fc34a429035c6ef7fe126fb": {
      "model_module": "@jupyter-widgets/base",
      "model_module_version": "1.0.0",
      "model_name": "LayoutModel",
      "state": {}
     },
     "655aa290448849aea0de2e014b6c32a3": {
      "model_module": "@jupyter-widgets/controls",
      "model_module_version": "1.2.0",
      "model_name": "DescriptionStyleModel",
      "state": {
       "description_width": ""
      }
     },
     "65630ef9ee4e474da824e0ddc15db440": {
      "model_module": "@jupyter-widgets/base",
      "model_module_version": "1.0.0",
      "model_name": "LayoutModel",
      "state": {}
     },
     "656f24bd247f4e26bbc7c8e9ccfcd091": {
      "model_module": "@jupyter-widgets/base",
      "model_module_version": "1.0.0",
      "model_name": "LayoutModel",
      "state": {
       "display": "none"
      }
     },
     "65772dc1e5764508bf7830b7a5a9a2b4": {
      "model_module": "@jupyter-widgets/controls",
      "model_module_version": "1.2.0",
      "model_name": "CheckboxModel",
      "state": {
       "description": "Min. distance",
       "disabled": false,
       "indent": false,
       "layout": "IPY_MODEL_5359eed9abad42fb8064a5a645068c28",
       "style": "IPY_MODEL_4a490393faef437a9abcd614d0b88d2c",
       "value": true
      }
     },
     "65aa7fca0ee44bcdbdd5376b628ac01a": {
      "model_module": "@jupyter-widgets/controls",
      "model_module_version": "1.2.0",
      "model_name": "HBoxModel",
      "state": {
       "children": [
        "IPY_MODEL_b37d9881043c455989a88cdda902891a",
        "IPY_MODEL_27651f52f6ff4380a078ba196083ee0e"
       ],
       "layout": "IPY_MODEL_bf2692aeecb549829f7c3a5b5a006233"
      }
     },
     "65c1cea39ab14e44bd2dd1f391ff5f93": {
      "model_module": "@jupyter-widgets/controls",
      "model_module_version": "1.2.0",
      "model_name": "BoundedIntTextModel",
      "state": {
       "description": "frame",
       "layout": "IPY_MODEL_4302cddc8147486083b98f824c7ca5fa",
       "max": 49,
       "style": "IPY_MODEL_bb604ae06bca40698a9fcf491bc9deab"
      }
     },
     "65d112c837424107b83f98855bd20bab": {
      "model_module": "@jupyter-widgets/controls",
      "model_module_version": "1.2.0",
      "model_name": "CheckboxModel",
      "state": {
       "description": "Size range",
       "disabled": false,
       "indent": false,
       "layout": "IPY_MODEL_e79b245b362c4276a0cd73ea74f0d8c9",
       "style": "IPY_MODEL_35a00fdfbead418f9674347962f7716a",
       "value": false
      }
     },
     "661958c949e944488de62f991d57804d": {
      "model_module": "@jupyter-widgets/base",
      "model_module_version": "1.0.0",
      "model_name": "LayoutModel",
      "state": {}
     },
     "661e3c078c954251ac0eaed1f5a41778": {
      "model_module": "@jupyter-widgets/base",
      "model_module_version": "1.0.0",
      "model_name": "LayoutModel",
      "state": {
       "height": "150px",
       "width": "100%"
      }
     },
     "6691698f01b541ac8a0b1a4aef1d9901": {
      "model_module": "@jupyter-widgets/controls",
      "model_module_version": "1.2.0",
      "model_name": "LabelModel",
      "state": {
       "layout": "IPY_MODEL_28db640f6655482bb8f2b6e8ff208751",
       "style": "IPY_MODEL_d35770f8853e4d2aa6ae3914d7dcf8e7",
       "value": "Locating beads (file 10/10)"
      }
     },
     "66d2fc5d9cee4391b118b7eb2f972320": {
      "model_module": "@jupyter-widgets/controls",
      "model_module_version": "1.2.0",
      "model_name": "DescriptionStyleModel",
      "state": {
       "description_width": ""
      }
     },
     "66e936967d4042edb49f55f4446bbcdb": {
      "model_module": "@jupyter-widgets/controls",
      "model_module_version": "1.2.0",
      "model_name": "IntTextModel",
      "state": {
       "description": "feat. size",
       "layout": "IPY_MODEL_7e323cdbad764b54ba41c5bd2ed3ccdf",
       "step": 1,
       "style": "IPY_MODEL_eb2d64499f374b36a0f83207af0348f7",
       "value": 3
      }
     },
     "6733a68794e343ab8558817d1c611c3f": {
      "model_module": "@jupyter-widgets/base",
      "model_module_version": "1.0.0",
      "model_name": "LayoutModel",
      "state": {}
     },
     "6746c2c765074195a2b55939200552bf": {
      "model_module": "@jupyter-widgets/controls",
      "model_module_version": "1.2.0",
      "model_name": "DescriptionStyleModel",
      "state": {
       "description_width": ""
      }
     },
     "674f4e5e4142457aa0f2baa89d35f656": {
      "model_module": "@jupyter-widgets/controls",
      "model_module_version": "1.2.0",
      "model_name": "FloatTextModel",
      "state": {
       "description": "threshold",
       "layout": "IPY_MODEL_75684ee022ae49a69e0964010de2f97e",
       "step": 10,
       "style": "IPY_MODEL_181734e03d774155ab38b96f8b99a71a",
       "value": 100
      }
     },
     "676fe8fb0afc4b668410ab402d1ad0ba": {
      "model_module": "@jupyter-widgets/base",
      "model_module_version": "1.0.0",
      "model_name": "LayoutModel",
      "state": {
       "display": "none"
      }
     },
     "67810f96dfa94f84a874740e9e8b1848": {
      "model_module": "@jupyter-widgets/controls",
      "model_module_version": "1.2.0",
      "model_name": "IntRangeSliderModel",
      "state": {
       "_model_name": "IntRangeSliderModel",
       "_view_name": "IntRangeSliderView",
       "layout": "IPY_MODEL_6892d6e7f7834ef792f5510fdc50ca81",
       "max": 65535,
       "style": "IPY_MODEL_577976a5752a4a35ae5987c0d2954cac",
       "value": [
        125,
        898
       ]
      }
     },
     "679a8b092b324fc099cd7bba2007a0e8": {
      "model_module": "@jupyter-widgets/controls",
      "model_module_version": "1.2.0",
      "model_name": "DescriptionStyleModel",
      "state": {
       "description_width": ""
      }
     },
     "67a2721f2fb745d78c88542cc4b0693c": {
      "model_module": "@jupyter-widgets/controls",
      "model_module_version": "1.2.0",
      "model_name": "CheckboxModel",
      "state": {
       "description": "Show loc.",
       "disabled": false,
       "indent": false,
       "layout": "IPY_MODEL_7615c6da7eca413fbe9ae7eb408c7318",
       "style": "IPY_MODEL_7112cee849c74ecb8152cb86bdbe5631",
       "value": true
      }
     },
     "682cf9602ce142908f593322c52e9dc1": {
      "model_module": "@jupyter-widgets/controls",
      "model_module_version": "1.2.0",
      "model_name": "DescriptionStyleModel",
      "state": {
       "description_width": ""
      }
     },
     "6846a9079f8b4bf0a326f59bbef4b496": {
      "model_module": "@jupyter-widgets/controls",
      "model_module_version": "1.2.0",
      "model_name": "HBoxModel",
      "state": {
       "children": [
        "IPY_MODEL_54aa6aaa177f49f3a1fe6cfc0171eeb7",
        "IPY_MODEL_608b02c44b7e4a9890c050da62633fff"
       ],
       "layout": "IPY_MODEL_002fad1c936943c5a2f2e933f8c91d83"
      }
     },
     "684f2399c84e4a138aa7382625304dc2": {
      "model_module": "@jupyter-widgets/base",
      "model_module_version": "1.0.0",
      "model_name": "LayoutModel",
      "state": {}
     },
     "6873b5d6371341c8bc06f724ef3a7d4d": {
      "model_module": "@jupyter-widgets/controls",
      "model_module_version": "1.2.0",
      "model_name": "VBoxModel",
      "state": {
       "children": [
        "IPY_MODEL_1945bebc4d184861bd438dffc310f6cd",
        "IPY_MODEL_f6ea1a7c846549b88b696eba943aceb9"
       ],
       "layout": "IPY_MODEL_9258a5204c544f49bff0a37766c614e7"
      }
     },
     "68771071100647cfbf783c46587caf21": {
      "model_module": "@jupyter-widgets/base",
      "model_module_version": "1.0.0",
      "model_name": "LayoutModel",
      "state": {
       "width": "auto"
      }
     },
     "687a2ff0b9fe40e791b38a8bc7183f14": {
      "model_module": "@jupyter-widgets/controls",
      "model_module_version": "1.2.0",
      "model_name": "DescriptionStyleModel",
      "state": {
       "description_width": ""
      }
     },
     "6892d6e7f7834ef792f5510fdc50ca81": {
      "model_module": "@jupyter-widgets/base",
      "model_module_version": "1.0.0",
      "model_name": "LayoutModel",
      "state": {
       "width": "75%"
      }
     },
     "68ecbd9deee449c5bcb9772b03a5f3ac": {
      "model_module": "@jupyter-widgets/base",
      "model_module_version": "1.0.0",
      "model_name": "LayoutModel",
      "state": {}
     },
     "68fe90603e2a4cc4860284da46d09e25": {
      "model_module": "@jupyter-widgets/base",
      "model_module_version": "1.0.0",
      "model_name": "LayoutModel",
      "state": {
       "width": "auto"
      }
     },
     "694f05a775e044d99aa44d6e58b4a1df": {
      "model_module": "@jupyter-widgets/base",
      "model_module_version": "1.0.0",
      "model_name": "LayoutModel",
      "state": {
       "width": "auto"
      }
     },
     "694f9df0ed034285af749b747bf2bb72": {
      "model_module": "@jupyter-widgets/controls",
      "model_module_version": "1.2.0",
      "model_name": "VBoxModel",
      "state": {
       "children": [
        "IPY_MODEL_0a68c8db6a294839898bb1fc2f78bc02",
        "IPY_MODEL_a6b8d0b30c6f4db184ed57078f711dff"
       ],
       "layout": "IPY_MODEL_421aba4049bf4c39901e53f864c44f31"
      }
     },
     "695b82bde4b24db099d5eeaa49f2b112": {
      "model_module": "@jupyter-widgets/base",
      "model_module_version": "1.0.0",
      "model_name": "LayoutModel",
      "state": {
       "width": "auto"
      }
     },
     "696eb39bab514c74999bc3001041492c": {
      "model_module": "@jupyter-widgets/controls",
      "model_module_version": "1.2.0",
      "model_name": "BoundedIntTextModel",
      "state": {
       "description": "frame",
       "layout": "IPY_MODEL_4ef3e817bb48417b978436c7857ed9e4",
       "max": 0,
       "style": "IPY_MODEL_9edbea2a76a24bde873325ba6c8d66cb"
      }
     },
     "698c4945726d457796659ad3bcebc0a7": {
      "model_module": "@jupyter-widgets/base",
      "model_module_version": "1.0.0",
      "model_name": "LayoutModel",
      "state": {}
     },
     "69c49179c0774ba98959a23ea0b81c8a": {
      "model_module": "@jupyter-widgets/base",
      "model_module_version": "1.0.0",
      "model_name": "LayoutModel",
      "state": {}
     },
     "69e2f158e3144f9e8cbbc34f66df13fc": {
      "model_module": "@jupyter-widgets/controls",
      "model_module_version": "1.2.0",
      "model_name": "DescriptionStyleModel",
      "state": {
       "description_width": ""
      }
     },
     "6a117355361e4c94b6d24f81401c6571": {
      "model_module": "@jupyter-widgets/controls",
      "model_module_version": "1.2.0",
      "model_name": "DescriptionStyleModel",
      "state": {
       "description_width": ""
      }
     },
     "6a2d25aa08ec4f93b0f42b40e56f36ad": {
      "model_module": "@jupyter-widgets/controls",
      "model_module_version": "1.2.0",
      "model_name": "DescriptionStyleModel",
      "state": {
       "description_width": ""
      }
     },
     "6a42f1db81a7409f8ef425c591924c0a": {
      "model_module": "@jupyter-widgets/controls",
      "model_module_version": "1.2.0",
      "model_name": "DropdownModel",
      "state": {
       "_options_labels": [
        "2d_fixed",
        "2d",
        "3d"
       ],
       "description": "model",
       "index": 1,
       "layout": "IPY_MODEL_661958c949e944488de62f991d57804d",
       "style": "IPY_MODEL_00c8c197117140f2832e70472620dcf6"
      }
     },
     "6a858d8095174f94a3d6a44346aad751": {
      "model_module": "@jupyter-widgets/controls",
      "model_module_version": "1.2.0",
      "model_name": "HBoxModel",
      "state": {
       "children": [
        "IPY_MODEL_bd81eb7a1afa4fbcbbd9822542efb5c3",
        "IPY_MODEL_a0868406e0164228a26117e7738fa06a"
       ],
       "layout": "IPY_MODEL_81d9b6aed16e4b3d9a533e28bbe5c7ba"
      }
     },
     "6a97d7241dd346a892234351c46b42a3": {
      "model_module": "@jupyter-widgets/controls",
      "model_module_version": "1.2.0",
      "model_name": "DropdownModel",
      "state": {
       "_options_labels": [
        "2d_fixed",
        "2d",
        "3d"
       ],
       "description": "model",
       "index": 1,
       "layout": "IPY_MODEL_4759749c64d2497ca46af9130a2f7e24",
       "style": "IPY_MODEL_22b68ddab2c2411594fbcfc31effcc46"
      }
     },
     "6aa0e88ed59345719ffdb68b595ff451": {
      "model_module": "@jupyter-widgets/controls",
      "model_module_version": "1.2.0",
      "model_name": "HBoxModel",
      "state": {
       "children": [
        "IPY_MODEL_810bea697feb42e5af9feca7edb8266e",
        "IPY_MODEL_99804c67a2dc4f31b98caced0eb5e5ec",
        "IPY_MODEL_82cdb91393a042cfb05f6b57bac9c2aa"
       ],
       "layout": "IPY_MODEL_0b1698841e0d421eb716eafdd81dd2d8"
      }
     },
     "6abdc33bf74742bc8631b54d38dc7eac": {
      "model_module": "@jupyter-widgets/base",
      "model_module_version": "1.0.0",
      "model_name": "LayoutModel",
      "state": {}
     },
     "6af2d3fed9b545f49f63b030ffb33731": {
      "model_module": "@jupyter-widgets/controls",
      "model_module_version": "1.2.0",
      "model_name": "SliderStyleModel",
      "state": {
       "description_width": ""
      }
     },
     "6af5196c760649fd86ae2d5731be9973": {
      "model_module": "@jupyter-widgets/controls",
      "model_module_version": "1.2.0",
      "model_name": "DescriptionStyleModel",
      "state": {
       "description_width": ""
      }
     },
     "6b0100a8db874477b3a163610b0c3b91": {
      "model_module": "@jupyter-widgets/base",
      "model_module_version": "1.0.0",
      "model_name": "LayoutModel",
      "state": {}
     },
     "6b12021b53df45f595d570758060959a": {
      "model_module": "@jupyter-widgets/controls",
      "model_module_version": "1.2.0",
      "model_name": "ButtonStyleModel",
      "state": {}
     },
     "6b3cfdc9566d41578e2bc0de4e7c5282": {
      "model_module": "@jupyter-widgets/controls",
      "model_module_version": "1.2.0",
      "model_name": "SelectModel",
      "state": {
       "_options_labels": [
        "data/beads/beads_000_.SPE",
        "data/beads/beads_001_.SPE",
        "data/beads/beads_002_.SPE",
        "data/beads/beads_003_.SPE",
        "data/beads/beads_004_.SPE",
        "data/beads/beads_005_.SPE",
        "data/beads/beads_006_.SPE",
        "data/beads/beads_007_.SPE",
        "data/beads/beads_008_.SPE",
        "data/beads/beads_009_.SPE"
       ],
       "index": 0,
       "layout": "IPY_MODEL_4f1c9987bc9249009342d674ff4874aa",
       "style": "IPY_MODEL_7fae634bda3149b89c903f91e92c0a9e"
      }
     },
     "6b47dd2b40204bcbb0d7c6efa0d74984": {
      "model_module": "@jupyter-widgets/base",
      "model_module_version": "1.0.0",
      "model_name": "LayoutModel",
      "state": {
       "display": "none"
      }
     },
     "6b4a267adab04b688e8540c81b625f5c": {
      "model_module": "@jupyter-widgets/controls",
      "model_module_version": "1.2.0",
      "model_name": "FloatTextModel",
      "state": {
       "description": "max.",
       "layout": "IPY_MODEL_479a85ec0b4c4d6dbc128c3e92899eb9",
       "step": 0.1,
       "style": "IPY_MODEL_82396cc378f041c0bd9a6d82efcaddc7",
       "value": 2
      }
     },
     "6bbd6b286ef1427686d5ee2ae6313dde": {
      "model_module": "@jupyter-widgets/base",
      "model_module_version": "1.0.0",
      "model_name": "LayoutModel",
      "state": {}
     },
     "6bbd7bfd41264e7d831c23e43abab2cb": {
      "model_module": "@jupyter-widgets/controls",
      "model_module_version": "1.2.0",
      "model_name": "ButtonStyleModel",
      "state": {}
     },
     "6c09b36aa8844a55a6c54af10b043796": {
      "model_module": "@jupyter-widgets/controls",
      "model_module_version": "1.2.0",
      "model_name": "HBoxModel",
      "state": {
       "children": [
        "IPY_MODEL_78d91b7ed5bb4a19a03ae973cf82608d",
        "IPY_MODEL_d6f74efac8b84c718f356dc701fbceb6"
       ],
       "layout": "IPY_MODEL_e3e1a82efc5947c0830d8ce22bc8bd96"
      }
     },
     "6c118529db474c7ebc022a50f0818c18": {
      "model_module": "@jupyter-widgets/base",
      "model_module_version": "1.0.0",
      "model_name": "LayoutModel",
      "state": {}
     },
     "6c1621e5e3c346668b799be6eefe47ea": {
      "model_module": "@jupyter-widgets/controls",
      "model_module_version": "1.2.0",
      "model_name": "VBoxModel",
      "state": {
       "children": [
        "IPY_MODEL_31e4491c647e43999dd2c75c659a6a71",
        "IPY_MODEL_dfe5a54b21634c8eacd2143a7e1bb3b1",
        "IPY_MODEL_0f239a73f8c247669d67dbaed55521ee"
       ],
       "layout": "IPY_MODEL_5a47db210c184552875d03209f2ac40d"
      }
     },
     "6c3ad84af7db4553a2e5a62501af6851": {
      "model_module": "@jupyter-widgets/controls",
      "model_module_version": "1.2.0",
      "model_name": "FloatTextModel",
      "state": {
       "description": "threshold",
       "layout": "IPY_MODEL_18e95443d23e4217b96c62ed43b0556f",
       "step": 10,
       "style": "IPY_MODEL_c93332c7586243bfa2c35cc7934573c6",
       "value": 1000
      }
     },
     "6c4e0987eca84a5ba2cc1653427be79d": {
      "model_module": "@jupyter-widgets/controls",
      "model_module_version": "1.2.0",
      "model_name": "DescriptionStyleModel",
      "state": {
       "description_width": ""
      }
     },
     "6c8878d01af44bda9f3639d215611135": {
      "model_module": "@jupyter-widgets/controls",
      "model_module_version": "1.2.0",
      "model_name": "CheckboxModel",
      "state": {
       "description": "Size range",
       "disabled": false,
       "indent": false,
       "layout": "IPY_MODEL_105a5f4d969c4f2fbe2b7101b1a7d737",
       "style": "IPY_MODEL_b0ad7d4c9d6044dbbfe153dfafc6f50d",
       "value": false
      }
     },
     "6ca9d52f6bec41b2b6a3835ad9e9808a": {
      "model_module": "@jupyter-widgets/controls",
      "model_module_version": "1.2.0",
      "model_name": "IntTextModel",
      "state": {
       "description": "feat. size",
       "layout": "IPY_MODEL_6d9ac107e0474b47b7d2dea34d35d196",
       "step": 1,
       "style": "IPY_MODEL_c3d8f89ab77d429f888f97aaa68c08bc",
       "value": 3
      }
     },
     "6cc3093b03e942a5a69c3c73e187bdbc": {
      "model_module": "@jupyter-widgets/controls",
      "model_module_version": "1.2.0",
      "model_name": "LabelModel",
      "state": {
       "layout": "IPY_MODEL_42653270d40a45689ce789a63a513e60",
       "style": "IPY_MODEL_0cde23ecad0b4d89b0284fcc52027cab",
       "value": "Tracking ctrl-H57/no-cells_SAv-100k_SSS-ctrl-H57-50k_029_.SPE (213/213)"
      }
     },
     "6cf4151e018e48f0bcac4c0e0f9fc977": {
      "model_module": "@jupyter-widgets/controls",
      "model_module_version": "1.2.0",
      "model_name": "DropdownModel",
      "state": {
       "_options_labels": [
        "Identity",
        "Cg",
        "Gaussian"
       ],
       "description": "find filter",
       "index": 0,
       "layout": "IPY_MODEL_453eb9d6f82947aca55be75f9982a4ad",
       "style": "IPY_MODEL_b8bf6710a4c94d7b87427476ccb92d04"
      }
     },
     "6d4e419261bb4e17a496830abcc5eeef": {
      "model_module": "@jupyter-widgets/controls",
      "model_module_version": "1.2.0",
      "model_name": "DescriptionStyleModel",
      "state": {
       "description_width": ""
      }
     },
     "6d602d2bf98a4f85a66e84fef581fe4e": {
      "model_module": "@jupyter-widgets/controls",
      "model_module_version": "1.2.0",
      "model_name": "ButtonStyleModel",
      "state": {}
     },
     "6d767473af654f5d9c73510ab45043e4": {
      "model_module": "@jupyter-widgets/base",
      "model_module_version": "1.0.0",
      "model_name": "LayoutModel",
      "state": {
       "width": "auto"
      }
     },
     "6d7ed1f11220468bae685a0970199e25": {
      "model_module": "@jupyter-widgets/controls",
      "model_module_version": "1.2.0",
      "model_name": "VBoxModel",
      "state": {
       "children": [
        "IPY_MODEL_24475c6043a942c497d7399ef40ae173",
        "IPY_MODEL_be3a0af7e882478dadfc26ac39e5fd12",
        "IPY_MODEL_29d16c61645f49d2ab9b58de4ae91ac4"
       ],
       "layout": "IPY_MODEL_32b67c507baa46bb9b900b1e0e175126"
      }
     },
     "6d9a4ac3d5f64015906cf9c1bc5687cd": {
      "model_module": "@jupyter-widgets/base",
      "model_module_version": "1.0.0",
      "model_name": "LayoutModel",
      "state": {}
     },
     "6d9ac107e0474b47b7d2dea34d35d196": {
      "model_module": "@jupyter-widgets/base",
      "model_module_version": "1.0.0",
      "model_name": "LayoutModel",
      "state": {
       "display": "inline"
      }
     },
     "6d9ccba62da34714aca5f29ab9d4256c": {
      "model_module": "@jupyter-widgets/base",
      "model_module_version": "1.0.0",
      "model_name": "LayoutModel",
      "state": {
       "width": "auto"
      }
     },
     "6da3f3650bbf4872a7382a85a9a40aa6": {
      "model_module": "@jupyter-widgets/controls",
      "model_module_version": "1.2.0",
      "model_name": "FloatTextModel",
      "state": {
       "layout": "IPY_MODEL_616fe254969d434dbd95651698e7050e",
       "step": 0.1,
       "style": "IPY_MODEL_e6b2ca2ca1f64f1b80e5d80da0c6ad93",
       "value": 1
      }
     },
     "6da725d532d3441487b7c2d1168108aa": {
      "model_module": "@jupyter-widgets/controls",
      "model_module_version": "1.2.0",
      "model_name": "VBoxModel",
      "state": {
       "children": [
        "IPY_MODEL_b57dc1953e9a489ca39fe075f60fd3d1",
        "IPY_MODEL_cc7576cf5f424727a538fd64ec2b8694",
        "IPY_MODEL_554e284fe67d4408aa5344e45e4d0274",
        "IPY_MODEL_81185d7b48c5402f97c81cce08649b34",
        "IPY_MODEL_62c1a573ed4b4a0c94b82b0ef6d976fe",
        "IPY_MODEL_e2edb6304382450b823e5655179f5a6d"
       ],
       "layout": "IPY_MODEL_0261f9e62b234439873402d336041a69"
      }
     },
     "6da7d3d876064f1f9555a7a40461e31c": {
      "model_module": "@jupyter-widgets/controls",
      "model_module_version": "1.2.0",
      "model_name": "DescriptionStyleModel",
      "state": {
       "description_width": ""
      }
     },
     "6dd636fd34f847cbb0fc7d665ae127c4": {
      "model_module": "@jupyter-widgets/controls",
      "model_module_version": "1.2.0",
      "model_name": "DescriptionStyleModel",
      "state": {
       "description_width": ""
      }
     },
     "6dd8263a205c4642ba8702d2d2826ca8": {
      "model_module": "@jupyter-widgets/base",
      "model_module_version": "1.0.0",
      "model_name": "LayoutModel",
      "state": {}
     },
     "6ddac4db2d454ca895ff25566f3e78da": {
      "model_module": "@jupyter-widgets/controls",
      "model_module_version": "1.2.0",
      "model_name": "DescriptionStyleModel",
      "state": {
       "description_width": ""
      }
     },
     "6df85268451941229b5f55fc27677442": {
      "model_module": "@jupyter-widgets/controls",
      "model_module_version": "1.2.0",
      "model_name": "FloatTextModel",
      "state": {
       "description": "max.",
       "layout": "IPY_MODEL_d36786cf6ebf40a3b1cc5a0b8a5ede8a",
       "step": 0.1,
       "style": "IPY_MODEL_8d518e33c96c4d9aacb092476f183f2c",
       "value": 2
      }
     },
     "6e0089000016448c8f05fa717b1d05a3": {
      "model_module": "@jupyter-widgets/controls",
      "model_module_version": "1.2.0",
      "model_name": "DescriptionStyleModel",
      "state": {
       "description_width": ""
      }
     },
     "6e56e4b4661d44b4a335ef6bb224b175": {
      "model_module": "@jupyter-widgets/controls",
      "model_module_version": "1.2.0",
      "model_name": "DescriptionStyleModel",
      "state": {
       "description_width": ""
      }
     },
     "6ebd9a8a594d41a18e119a98e72d73f9": {
      "model_module": "@jupyter-widgets/base",
      "model_module_version": "1.0.0",
      "model_name": "LayoutModel",
      "state": {
       "display": "inline"
      }
     },
     "6eca4e54448c48fe8e6ed0300f3158c2": {
      "model_module": "@jupyter-widgets/controls",
      "model_module_version": "1.2.0",
      "model_name": "DescriptionStyleModel",
      "state": {
       "description_width": ""
      }
     },
     "6ed02a6c11804f8c95e9f0e2f6da5699": {
      "model_module": "@jupyter-widgets/base",
      "model_module_version": "1.0.0",
      "model_name": "LayoutModel",
      "state": {
       "width": "75%"
      }
     },
     "6ee7ec2215584e7cb4c5f9ebdca84026": {
      "model_module": "@jupyter-widgets/base",
      "model_module_version": "1.0.0",
      "model_name": "LayoutModel",
      "state": {
       "display": "flex",
       "flex_flow": "column wrap",
       "width": "66%"
      }
     },
     "6f3d645ca24d406081c03e962d90f5a0": {
      "model_module": "@jupyter-widgets/base",
      "model_module_version": "1.0.0",
      "model_name": "LayoutModel",
      "state": {}
     },
     "6f6341c501034480a9a338ed54045c74": {
      "model_module": "@jupyter-widgets/controls",
      "model_module_version": "1.2.0",
      "model_name": "FloatTextModel",
      "state": {
       "description": "threshold",
       "layout": "IPY_MODEL_1190408936e74c2f86398b535c88453e",
       "step": 10,
       "style": "IPY_MODEL_2a7f49c3ab8141999adc08d0345fcedb",
       "value": 1000
      }
     },
     "6f8df1c5d88846d986fed676f466cb6c": {
      "model_module": "@jupyter-widgets/base",
      "model_module_version": "1.0.0",
      "model_name": "LayoutModel",
      "state": {
       "width": "auto"
      }
     },
     "704bb813a1324e319c9d68815e865f2d": {
      "model_module": "@jupyter-widgets/controls",
      "model_module_version": "1.2.0",
      "model_name": "DescriptionStyleModel",
      "state": {
       "description_width": ""
      }
     },
     "7065c42cfbec4534b7b8c4e7b6a34b3f": {
      "model_module": "@jupyter-widgets/base",
      "model_module_version": "1.0.0",
      "model_name": "LayoutModel",
      "state": {
       "width": "auto"
      }
     },
     "706e429c229347259672d8922366d670": {
      "model_module": "@jupyter-widgets/controls",
      "model_module_version": "1.2.0",
      "model_name": "IntRangeSliderModel",
      "state": {
       "_model_name": "IntRangeSliderModel",
       "_view_name": "IntRangeSliderView",
       "layout": "IPY_MODEL_f0c56595a26442fda945eba4d2ce93de",
       "max": 65535,
       "style": "IPY_MODEL_6af2d3fed9b545f49f63b030ffb33731",
       "value": [
        134,
        9382
       ]
      }
     },
     "707a10ea55034a038f0ae84fe286cc49": {
      "model_module": "@jupyter-widgets/controls",
      "model_module_version": "1.2.0",
      "model_name": "SliderStyleModel",
      "state": {
       "description_width": ""
      }
     },
     "707f959190054f86b52afacf883b7362": {
      "model_module": "@jupyter-widgets/controls",
      "model_module_version": "1.2.0",
      "model_name": "LabelModel",
      "state": {
       "layout": "IPY_MODEL_27800e141b1d44a0a185d03be1413c16",
       "style": "IPY_MODEL_6ddac4db2d454ca895ff25566f3e78da",
       "value": "Locating ctrl-H57/no-cells_SAv-100k_SSS-ctrl-H57-50k_029_.SPE (213/213)"
      }
     },
     "710847d775194b9cb10c836ca473b834": {
      "model_module": "@jupyter-widgets/controls",
      "model_module_version": "1.2.0",
      "model_name": "DescriptionStyleModel",
      "state": {
       "description_width": ""
      }
     },
     "7112cee849c74ecb8152cb86bdbe5631": {
      "model_module": "@jupyter-widgets/controls",
      "model_module_version": "1.2.0",
      "model_name": "DescriptionStyleModel",
      "state": {
       "description_width": ""
      }
     },
     "714d253144384720828bdd50e58469e1": {
      "model_module": "@jupyter-widgets/base",
      "model_module_version": "1.0.0",
      "model_name": "LayoutModel",
      "state": {}
     },
     "714df60064f0460cb9bc52cfb29760a1": {
      "model_module": "@jupyter-widgets/controls",
      "model_module_version": "1.2.0",
      "model_name": "FloatTextModel",
      "state": {
       "description": "min.",
       "layout": "IPY_MODEL_05b4ec877b804dcbb86c36c410f637c7",
       "step": 0.1,
       "style": "IPY_MODEL_184e332be168424e9bb1cb8642c9490f",
       "value": 0.5
      }
     },
     "71535ed4f46f42308f4796dd4b17a2ac": {
      "model_module": "@jupyter-widgets/controls",
      "model_module_version": "1.2.0",
      "model_name": "DescriptionStyleModel",
      "state": {
       "description_width": ""
      }
     },
     "7157ae5182ba44f3bdfcbf91cbe989bc": {
      "model_module": "@jupyter-widgets/controls",
      "model_module_version": "1.2.0",
      "model_name": "LabelModel",
      "state": {
       "layout": "IPY_MODEL_a9d796c2935e4d48abfdfad8b2f07230",
       "style": "IPY_MODEL_f551e0a9a14f4daba1785cac22224852",
       "value": "Locating beads (file 1/10)"
      }
     },
     "71b2294cc73247eaaad5ab55de16c115": {
      "model_module": "@jupyter-widgets/controls",
      "model_module_version": "1.2.0",
      "model_name": "HBoxModel",
      "state": {
       "children": [
        "IPY_MODEL_706e429c229347259672d8922366d670",
        "IPY_MODEL_413db89841384dc395069f5b8392741e",
        "IPY_MODEL_adc6e4587a314fd8afcde5d140a8acc1"
       ],
       "layout": "IPY_MODEL_45ee5eca128243c499bc220cc0d4b8f8"
      }
     },
     "71e2a8a45af34ed788cde52d8bfa61bf": {
      "model_module": "@jupyter-widgets/base",
      "model_module_version": "1.0.0",
      "model_name": "LayoutModel",
      "state": {}
     },
     "71ef8416d5164e26ad13d386265fb786": {
      "model_module": "@jupyter-widgets/controls",
      "model_module_version": "1.2.0",
      "model_name": "FloatTextModel",
      "state": {
       "description": "sigma",
       "layout": "IPY_MODEL_631fa72c9eeb4fa3a38937437c658739",
       "step": 0.1,
       "style": "IPY_MODEL_be34a16d9dee4f9a9bd6a2dd669192be",
       "value": 1
      }
     },
     "71fc787b64ba42bea43c4809f022fbf0": {
      "model_module": "@jupyter-widgets/controls",
      "model_module_version": "1.2.0",
      "model_name": "VBoxModel",
      "state": {
       "children": [
        "IPY_MODEL_b9c3b9812bdb47468e36ab1cba60367c",
        "IPY_MODEL_eff1bedff8c4495781f64e72b69d3fe7"
       ],
       "layout": "IPY_MODEL_03a3c44633d2479eb3411c8dabba1b26"
      }
     },
     "723210085c814704904c271a2a99f89c": {
      "model_module": "@jupyter-widgets/base",
      "model_module_version": "1.0.0",
      "model_name": "LayoutModel",
      "state": {}
     },
     "7251cff4abc34a61bd637e4fb3886404": {
      "model_module": "@jupyter-widgets/controls",
      "model_module_version": "1.2.0",
      "model_name": "DescriptionStyleModel",
      "state": {
       "description_width": ""
      }
     },
     "7268f4510a1a451fa79647460f51b16a": {
      "model_module": "@jupyter-widgets/base",
      "model_module_version": "1.0.0",
      "model_name": "LayoutModel",
      "state": {}
     },
     "728268fbfb8a42a5949770b6a0cc242c": {
      "model_module": "@jupyter-widgets/base",
      "model_module_version": "1.0.0",
      "model_name": "LayoutModel",
      "state": {
       "width": "75%"
      }
     },
     "72917b645ba44e488824690c714903f7": {
      "model_module": "@jupyter-widgets/controls",
      "model_module_version": "1.2.0",
      "model_name": "DescriptionStyleModel",
      "state": {
       "description_width": ""
      }
     },
     "72a18521cd684806844a0b871bc72c6a": {
      "model_module": "@jupyter-widgets/controls",
      "model_module_version": "1.2.0",
      "model_name": "HBoxModel",
      "state": {
       "children": [
        "IPY_MODEL_12d202bf4c084227bba83c3e9ada6aed",
        "IPY_MODEL_a675c0c565574b6c8ceef6ac7ba5fbdc"
       ],
       "layout": "IPY_MODEL_c850f2d83d5a4107b913da97dd1deccd"
      }
     },
     "72b54360941b42a4b3f921d31d4a7d9a": {
      "model_module": "@jupyter-widgets/controls",
      "model_module_version": "1.2.0",
      "model_name": "HBoxModel",
      "state": {
       "children": [
        "IPY_MODEL_77fefab517cb410c83b3b61976110495",
        "IPY_MODEL_e61264a217664ee696e47284c439a285"
       ],
       "layout": "IPY_MODEL_beb0446a9fe94320aefb2c66df80ab34"
      }
     },
     "72bce2cf39e4492eae53e8df455d7341": {
      "model_module": "@jupyter-widgets/controls",
      "model_module_version": "1.2.0",
      "model_name": "HBoxModel",
      "state": {
       "children": [
        "IPY_MODEL_f624b5bd70784e0798190a7c27f34df5",
        "IPY_MODEL_d8206cec6aa245359e7e5a9d25bc355f"
       ],
       "layout": "IPY_MODEL_6b0100a8db874477b3a163610b0c3b91"
      }
     },
     "72dbc3b77baf4e64be7a12988ac9fa4c": {
      "model_module": "@jupyter-widgets/controls",
      "model_module_version": "1.2.0",
      "model_name": "IntRangeSliderModel",
      "state": {
       "_model_name": "IntRangeSliderModel",
       "_view_name": "IntRangeSliderView",
       "layout": "IPY_MODEL_a58f4de4e10b4df4b9eb9fcf4feaf163",
       "max": 65535,
       "style": "IPY_MODEL_09b5f256ed1e4788b8e416dda6f8b13d",
       "value": [
        134,
        25393
       ]
      }
     },
     "732a147ad77b4398b718fed17c20844d": {
      "model_module": "@jupyter-widgets/controls",
      "model_module_version": "1.2.0",
      "model_name": "DescriptionStyleModel",
      "state": {
       "description_width": ""
      }
     },
     "732b0a8af2324470bf028256e20453c6": {
      "model_module": "@jupyter-widgets/controls",
      "model_module_version": "1.2.0",
      "model_name": "DescriptionStyleModel",
      "state": {
       "description_width": ""
      }
     },
     "7352c66be8614d1fab680d28cd01c428": {
      "model_module": "@jupyter-widgets/base",
      "model_module_version": "1.0.0",
      "model_name": "LayoutModel",
      "state": {
       "display": "flex",
       "flex_flow": "column wrap",
       "width": "66%"
      }
     },
     "7364276c133a4c3eaaa343befc2a703b": {
      "model_module": "@jupyter-widgets/controls",
      "model_module_version": "1.2.0",
      "model_name": "DescriptionStyleModel",
      "state": {
       "description_width": ""
      }
     },
     "7399cbebd2a24dc7baae9c10ae65dbf7": {
      "model_module": "@jupyter-widgets/controls",
      "model_module_version": "1.2.0",
      "model_name": "VBoxModel",
      "state": {
       "children": [
        "IPY_MODEL_4b5b61fb0b5f42bc953c2099db1dd1ee",
        "IPY_MODEL_41fa1613ebcb41d684a58cdfdc271be3",
        "IPY_MODEL_f992ac8388e0419ea5b8369bc8e329f7"
       ],
       "layout": "IPY_MODEL_7530e9f6dbd74c2cb957bd4e61efb36f"
      }
     },
     "7411c1c312424992878cea121fca4ef0": {
      "model_module": "@jupyter-widgets/base",
      "model_module_version": "1.0.0",
      "model_name": "LayoutModel",
      "state": {
       "width": "auto"
      }
     },
     "742747435e2244c88f233fdfbe44a6bb": {
      "model_module": "@jupyter-widgets/controls",
      "model_module_version": "1.2.0",
      "model_name": "DescriptionStyleModel",
      "state": {
       "description_width": ""
      }
     },
     "742a23682d814029a435a2cd4e9c2c31": {
      "model_module": "@jupyter-widgets/controls",
      "model_module_version": "1.2.0",
      "model_name": "DescriptionStyleModel",
      "state": {
       "description_width": ""
      }
     },
     "744b36f504394d21b014ea9c4cbbfcb7": {
      "model_module": "@jupyter-widgets/controls",
      "model_module_version": "1.2.0",
      "model_name": "DescriptionStyleModel",
      "state": {
       "description_width": ""
      }
     },
     "74ba6fa1846d4103a14d6c2c08919732": {
      "model_module": "@jupyter-widgets/controls",
      "model_module_version": "1.2.0",
      "model_name": "CheckboxModel",
      "state": {
       "description": "Show loc.",
       "disabled": false,
       "indent": false,
       "layout": "IPY_MODEL_4cb1aac3e95b4c979a1ead5774c356b6",
       "style": "IPY_MODEL_9bae719b9229446abcc2fa83c9e02142",
       "value": true
      }
     },
     "74e76e9dc43b46c4a0fbab97fa05ac82": {
      "model_module": "@jupyter-widgets/base",
      "model_module_version": "1.0.0",
      "model_name": "LayoutModel",
      "state": {}
     },
     "74ed080bf3d343688e27a95f3cdc939f": {
      "model_module": "@jupyter-widgets/base",
      "model_module_version": "1.0.0",
      "model_name": "LayoutModel",
      "state": {}
     },
     "7530e9f6dbd74c2cb957bd4e61efb36f": {
      "model_module": "@jupyter-widgets/base",
      "model_module_version": "1.0.0",
      "model_name": "LayoutModel",
      "state": {}
     },
     "75347f3d56c347b89e3487ee2446d0d0": {
      "model_module": "@jupyter-widgets/base",
      "model_module_version": "1.0.0",
      "model_name": "LayoutModel",
      "state": {}
     },
     "75684ee022ae49a69e0964010de2f97e": {
      "model_module": "@jupyter-widgets/base",
      "model_module_version": "1.0.0",
      "model_name": "LayoutModel",
      "state": {}
     },
     "7615c6da7eca413fbe9ae7eb408c7318": {
      "model_module": "@jupyter-widgets/base",
      "model_module_version": "1.0.0",
      "model_name": "LayoutModel",
      "state": {}
     },
     "763e1749ef914ea7811b6939b9341d02": {
      "model_module": "@jupyter-widgets/base",
      "model_module_version": "1.0.0",
      "model_name": "LayoutModel",
      "state": {
       "display": "none"
      }
     },
     "766095983907487a87bcc331677cb94d": {
      "model_module": "@jupyter-widgets/controls",
      "model_module_version": "1.2.0",
      "model_name": "FloatTextModel",
      "state": {
       "description": "min.",
       "layout": "IPY_MODEL_9c53dadb0022460fbbd471c74e179ac7",
       "step": 0.1,
       "style": "IPY_MODEL_5d1ee3b1cb2f409baac0f6f3c8af3d89",
       "value": 0.5
      }
     },
     "767c389b3ad44f7ab00364045a966393": {
      "model_module": "@jupyter-widgets/controls",
      "model_module_version": "1.2.0",
      "model_name": "DescriptionStyleModel",
      "state": {
       "description_width": ""
      }
     },
     "76e0696c5f33476dba9467127113deca": {
      "model_module": "@jupyter-widgets/controls",
      "model_module_version": "1.2.0",
      "model_name": "DropdownModel",
      "state": {
       "_options_labels": [
        "Identity",
        "Cg",
        "Gaussian"
       ],
       "description": "find filter",
       "index": 1,
       "layout": "IPY_MODEL_a9760e5cf2bb431e8291b5dd00bdc839",
       "style": "IPY_MODEL_89674fdefb424fd5b881882a1c20c533"
      }
     },
     "770d17bacf144e8aa53f0f05f9f3b50a": {
      "model_module": "@jupyter-widgets/controls",
      "model_module_version": "1.2.0",
      "model_name": "DescriptionStyleModel",
      "state": {
       "description_width": ""
      }
     },
     "772b179f43af4b2b865d04bb49f67aef": {
      "model_module": "@jupyter-widgets/controls",
      "model_module_version": "1.2.0",
      "model_name": "SelectModel",
      "state": {
       "_options_labels": [
        "data/beads/beads_000_.SPE",
        "data/beads/beads_001_.SPE",
        "data/beads/beads_002_.SPE",
        "data/beads/beads_003_.SPE",
        "data/beads/beads_004_.SPE",
        "data/beads/beads_005_.SPE",
        "data/beads/beads_006_.SPE",
        "data/beads/beads_007_.SPE",
        "data/beads/beads_008_.SPE",
        "data/beads/beads_009_.SPE"
       ],
       "index": 0,
       "layout": "IPY_MODEL_df36990af733499b9507d029215f2f00",
       "style": "IPY_MODEL_97b53a45b6294741ac24415026d69677"
      }
     },
     "7737dfaaec96414183ebf6cf4492783d": {
      "model_module": "@jupyter-widgets/base",
      "model_module_version": "1.0.0",
      "model_name": "LayoutModel",
      "state": {}
     },
     "774d43ce07db4ff38546dd8ec2622df9": {
      "model_module": "@jupyter-widgets/base",
      "model_module_version": "1.0.0",
      "model_name": "LayoutModel",
      "state": {}
     },
     "77a71aeb78a444699b75d59679ba74a4": {
      "model_module": "@jupyter-widgets/base",
      "model_module_version": "1.0.0",
      "model_name": "LayoutModel",
      "state": {
       "display": "none"
      }
     },
     "77fefab517cb410c83b3b61976110495": {
      "model_module": "@jupyter-widgets/controls",
      "model_module_version": "1.2.0",
      "model_name": "CheckboxModel",
      "state": {
       "description": "Min. distance",
       "disabled": false,
       "indent": false,
       "layout": "IPY_MODEL_db1e4da70e574d328eb4b0395d9d5099",
       "style": "IPY_MODEL_9aca44609f2a49c7bd106e64bd51552d",
       "value": true
      }
     },
     "7809e59803954e9ea3f3fb2f18196cbd": {
      "model_module": "@jupyter-widgets/base",
      "model_module_version": "1.0.0",
      "model_name": "LayoutModel",
      "state": {
       "display": "flex",
       "flex_flow": "column wrap",
       "width": "66%"
      }
     },
     "788a2a310335461b85a4acc03917679e": {
      "model_module": "@jupyter-widgets/controls",
      "model_module_version": "1.2.0",
      "model_name": "FloatTextModel",
      "state": {
       "description": "max.",
       "layout": "IPY_MODEL_bf3f8014db0a4ed6826e77c8d891e255",
       "step": 0.1,
       "style": "IPY_MODEL_a81a0c263b504dd097171b652cc38c56",
       "value": 2
      }
     },
     "7897d3f52a6c431889148c1404a7ad50": {
      "model_module": "@jupyter-widgets/controls",
      "model_module_version": "1.2.0",
      "model_name": "DescriptionStyleModel",
      "state": {
       "description_width": ""
      }
     },
     "789824ebdafe4a8697df288cd17ebbb9": {
      "model_module": "@jupyter-widgets/controls",
      "model_module_version": "1.2.0",
      "model_name": "DescriptionStyleModel",
      "state": {
       "description_width": ""
      }
     },
     "78a71abb23fb4f6a898bd1072b249131": {
      "model_module": "@jupyter-widgets/controls",
      "model_module_version": "1.2.0",
      "model_name": "FloatTextModel",
      "state": {
       "description": "threshold",
       "layout": "IPY_MODEL_298d1fcc82444382bcd444d7d25a6a2b",
       "step": 10,
       "style": "IPY_MODEL_8ece21e0bbc04f559be068553b2f2d6e",
       "value": 100
      }
     },
     "78ae498426d2423dac6186c3bed9bda3": {
      "model_module": "@jupyter-widgets/base",
      "model_module_version": "1.0.0",
      "model_name": "LayoutModel",
      "state": {
       "width": "auto"
      }
     },
     "78c224c15bbf45a8b8b9d9a6668c8437": {
      "model_module": "@jupyter-widgets/controls",
      "model_module_version": "1.2.0",
      "model_name": "VBoxModel",
      "state": {
       "children": [
        "IPY_MODEL_0de1c5355cd847b3a4c630d31a3c7fb3",
        "IPY_MODEL_005559a6669f4d2b82b23960f9ad2cb3"
       ],
       "layout": "IPY_MODEL_deaa69adc590440db289d16e8652a34d"
      }
     },
     "78d00e24e66247fcb1ee681aa55b73a9": {
      "model_module": "@jupyter-widgets/base",
      "model_module_version": "1.0.0",
      "model_name": "LayoutModel",
      "state": {
       "width": "100%"
      }
     },
     "78d91b7ed5bb4a19a03ae973cf82608d": {
      "model_module": "@jupyter-widgets/controls",
      "model_module_version": "1.2.0",
      "model_name": "VBoxModel",
      "state": {
       "children": [
        "IPY_MODEL_bed8cb7bc5d240ed9659485bda8a0bb4",
        "IPY_MODEL_eb8ea61d9b884dfeab0e5844d8e02b7a"
       ],
       "layout": "IPY_MODEL_d2df79d773ea4115a96da54b67b1d450"
      }
     },
     "7911c08f292a481c80c05b04716d2d21": {
      "model_module": "@jupyter-widgets/controls",
      "model_module_version": "1.2.0",
      "model_name": "DropdownModel",
      "state": {
       "_options_labels": [
        "Identity",
        "Cg",
        "Gaussian"
       ],
       "description": "find filter",
       "index": 1,
       "layout": "IPY_MODEL_fc5893db06514f709860d8b8e5c74f92",
       "style": "IPY_MODEL_a0931920790f4838a3c589307e70e6ea"
      }
     },
     "7928f9a9bda5464cb6f4dab76da972f9": {
      "model_module": "@jupyter-widgets/controls",
      "model_module_version": "1.2.0",
      "model_name": "DescriptionStyleModel",
      "state": {
       "description_width": ""
      }
     },
     "79408f63579c4a6eb87afeda2a783ead": {
      "model_module": "@jupyter-widgets/base",
      "model_module_version": "1.0.0",
      "model_name": "LayoutModel",
      "state": {}
     },
     "795f3086492145fdaab5abf5b6f33fcf": {
      "model_module": "@jupyter-widgets/controls",
      "model_module_version": "1.2.0",
      "model_name": "DescriptionStyleModel",
      "state": {
       "description_width": ""
      }
     },
     "7972ade17a9549aca2c729e88c1deecb": {
      "model_module": "@jupyter-widgets/controls",
      "model_module_version": "1.2.0",
      "model_name": "IntTextModel",
      "state": {
       "description": "feat. size",
       "layout": "IPY_MODEL_4a1aaafdd5f744af8cf8e6809361d7c6",
       "step": 1,
       "style": "IPY_MODEL_732b0a8af2324470bf028256e20453c6",
       "value": 3
      }
     },
     "79f327509cd0406eb137e2966fa39e9d": {
      "model_module": "@jupyter-widgets/base",
      "model_module_version": "1.0.0",
      "model_name": "LayoutModel",
      "state": {
       "width": "75%"
      }
     },
     "79f60ce6dc2f41169c7f7db75c044dd5": {
      "model_module": "@jupyter-widgets/base",
      "model_module_version": "1.0.0",
      "model_name": "LayoutModel",
      "state": {
       "width": "75%"
      }
     },
     "79fed7d79c20410bb8dd6db061405c0c": {
      "model_module": "@jupyter-widgets/controls",
      "model_module_version": "1.2.0",
      "model_name": "DescriptionStyleModel",
      "state": {
       "description_width": ""
      }
     },
     "7a0ebbcb7c4549b69ddcf0b2e2c5068b": {
      "model_module": "@jupyter-widgets/controls",
      "model_module_version": "1.2.0",
      "model_name": "VBoxModel",
      "state": {
       "children": [
        "IPY_MODEL_37582f39e27b4551a390952582802e16",
        "IPY_MODEL_52eaf20fec5d4b26b642602c7e2f087b",
        "IPY_MODEL_c8246eec1c214b518f95489e721820c8"
       ],
       "layout": "IPY_MODEL_4d71c157152d495d8d4b865b622bc7cd"
      }
     },
     "7a134be248c44819aa97966728f0c277": {
      "model_module": "@jupyter-widgets/controls",
      "model_module_version": "1.2.0",
      "model_name": "CheckboxModel",
      "state": {
       "description": "Show loc.",
       "disabled": false,
       "indent": false,
       "layout": "IPY_MODEL_c5656558055948b2a4fa9d3f966364fa",
       "style": "IPY_MODEL_b74b4eaa76f44ed9a4ce52c21cca5318",
       "value": true
      }
     },
     "7a1a89626449426fa814701a0bffdd39": {
      "model_module": "@jupyter-widgets/base",
      "model_module_version": "1.0.0",
      "model_name": "LayoutModel",
      "state": {}
     },
     "7a3d482483a6445d88c73d2a846f9824": {
      "model_module": "@jupyter-widgets/controls",
      "model_module_version": "1.2.0",
      "model_name": "DescriptionStyleModel",
      "state": {
       "description_width": ""
      }
     },
     "7a70e5df9e4a47af98622efa03666631": {
      "model_module": "@jupyter-widgets/controls",
      "model_module_version": "1.2.0",
      "model_name": "FloatTextModel",
      "state": {
       "description": "radius",
       "layout": "IPY_MODEL_fe50cf899f9849c68cd362416b44221a",
       "step": 0.1,
       "style": "IPY_MODEL_a335da71e80246ae9495b090f1d55e3d",
       "value": 1
      }
     },
     "7abeedd3279141b7bdec9c5c09ab7c9e": {
      "model_module": "@jupyter-widgets/base",
      "model_module_version": "1.0.0",
      "model_name": "LayoutModel",
      "state": {}
     },
     "7b03f085f65f420f8a3f52353e8d06af": {
      "model_module": "@jupyter-widgets/controls",
      "model_module_version": "1.2.0",
      "model_name": "VBoxModel",
      "state": {
       "children": [
        "IPY_MODEL_5c98545516e04951b2ddb146af32d870",
        "IPY_MODEL_2f874938a2d94bcba003ba49e8e33c0a"
       ],
       "layout": "IPY_MODEL_af56442840da4d8791c2372861416b99"
      }
     },
     "7b584ece4361442f9e5d5ae43bdc193c": {
      "model_module": "@jupyter-widgets/controls",
      "model_module_version": "1.2.0",
      "model_name": "DescriptionStyleModel",
      "state": {
       "description_width": ""
      }
     },
     "7b761e89fa234cb08725d6348836a0ee": {
      "model_module": "@jupyter-widgets/base",
      "model_module_version": "1.0.0",
      "model_name": "LayoutModel",
      "state": {}
     },
     "7b82c042d2e84e6abda55cdaf4c9b65b": {
      "model_module": "@jupyter-widgets/controls",
      "model_module_version": "1.2.0",
      "model_name": "DescriptionStyleModel",
      "state": {
       "description_width": ""
      }
     },
     "7b8878de628d40bd9920c97d3939afd8": {
      "model_module": "@jupyter-widgets/controls",
      "model_module_version": "1.2.0",
      "model_name": "DescriptionStyleModel",
      "state": {
       "description_width": ""
      }
     },
     "7b89770040f044aeb0938fce0d19fad1": {
      "model_module": "@jupyter-widgets/base",
      "model_module_version": "1.0.0",
      "model_name": "LayoutModel",
      "state": {
       "width": "100%"
      }
     },
     "7ba82f1bc9f44a9ab5436345270cc38b": {
      "model_module": "@jupyter-widgets/controls",
      "model_module_version": "1.2.0",
      "model_name": "FloatTextModel",
      "state": {
       "description": "max.",
       "layout": "IPY_MODEL_649b7633f4b04e2b844853ac9c71132a",
       "step": 0.1,
       "style": "IPY_MODEL_b15e46d5fa8e48069163d3f58c7cd47d",
       "value": 2
      }
     },
     "7c0872584b414742a7b4ac503911cd25": {
      "model_module": "@jupyter-widgets/controls",
      "model_module_version": "1.2.0",
      "model_name": "IntTextModel",
      "state": {
       "description": "feat. size",
       "layout": "IPY_MODEL_00de74018a174b87b954fff29cd962b5",
       "step": 1,
       "style": "IPY_MODEL_7f7947b871f94543900367021cc52eb8",
       "value": 3
      }
     },
     "7c1fa466585b4c18bb1136d99db01e73": {
      "model_module": "@jupyter-widgets/controls",
      "model_module_version": "1.2.0",
      "model_name": "IntTextModel",
      "state": {
       "description": "feat. size",
       "layout": "IPY_MODEL_3b6d145814284f81a73a8766f2202449",
       "step": 1,
       "style": "IPY_MODEL_094dc0a79c5448bcb2cc027f7dbdbf13",
       "value": 3
      }
     },
     "7c2cf39c04a54bdab9d108abb89c1b1a": {
      "model_module": "@jupyter-widgets/controls",
      "model_module_version": "1.2.0",
      "model_name": "VBoxModel",
      "state": {
       "children": [
        "IPY_MODEL_3bd3ca85972f4753945635cc6a4b40e8",
        "IPY_MODEL_542824644f4b4688ab53fe51e80cc840"
       ],
       "layout": "IPY_MODEL_35affd50b11e4522a38dac9e0946d5c9"
      }
     },
     "7c2f1c1779d94e2e91f9166b3dd4b218": {
      "model_module": "@jupyter-widgets/controls",
      "model_module_version": "1.2.0",
      "model_name": "DescriptionStyleModel",
      "state": {
       "description_width": ""
      }
     },
     "7c3f80ceafa642ad91d6b4dabf593fcc": {
      "model_module": "@jupyter-widgets/controls",
      "model_module_version": "1.2.0",
      "model_name": "VBoxModel",
      "state": {
       "children": [
        "IPY_MODEL_fd55a134330e485dafc12f541fdc0098",
        "IPY_MODEL_999925651d7242988684fba28c027481",
        "IPY_MODEL_c80ee4c5f3844dcb8f585e61645e0e9b"
       ],
       "layout": "IPY_MODEL_49b0252677114a718f2f1f5ce51aa65d"
      }
     },
     "7c8f7fd5620348dbbdce9826109e023e": {
      "model_module": "@jupyter-widgets/controls",
      "model_module_version": "1.2.0",
      "model_name": "FloatTextModel",
      "state": {
       "layout": "IPY_MODEL_68771071100647cfbf783c46587caf21",
       "step": 0.1,
       "style": "IPY_MODEL_12e3aca5f7a3466baf8ea7382af3da63",
       "value": 1
      }
     },
     "7c91f459dac54e8fa020dd41e8b948e8": {
      "model_module": "@jupyter-widgets/controls",
      "model_module_version": "1.2.0",
      "model_name": "ButtonModel",
      "state": {
       "description": "Auto",
       "layout": "IPY_MODEL_58c7c620e7444f18bee9b757653f2aa9",
       "style": "IPY_MODEL_6b12021b53df45f595d570758060959a"
      }
     },
     "7cadca4ec02f4e818ba61018391b0e13": {
      "model_module": "@jupyter-widgets/base",
      "model_module_version": "1.0.0",
      "model_name": "LayoutModel",
      "state": {
       "width": "100%"
      }
     },
     "7caf946b93e8415dbb5cfded06c588a9": {
      "model_module": "@jupyter-widgets/controls",
      "model_module_version": "1.2.0",
      "model_name": "FloatTextModel",
      "state": {
       "layout": "IPY_MODEL_e52dc050c90b4f95ae0574a97f6bab48",
       "step": 0.1,
       "style": "IPY_MODEL_bf65372f5d3047ebb15da62caa1c4521",
       "value": 1
      }
     },
     "7cea220079584f04863b5b3c3f490da5": {
      "model_module": "@jupyter-widgets/base",
      "model_module_version": "1.0.0",
      "model_name": "LayoutModel",
      "state": {
       "display": "none"
      }
     },
     "7cf28348575d44999104b0a38448e86f": {
      "model_module": "@jupyter-widgets/controls",
      "model_module_version": "1.2.0",
      "model_name": "IntTextModel",
      "state": {
       "description": "feat. size",
       "layout": "IPY_MODEL_f4ea95c3704c4136a4bc40e6012cd317",
       "step": 1,
       "style": "IPY_MODEL_47cd86d34ec4462893501a76ed9afd8f",
       "value": 3
      }
     },
     "7cf744bcc5b0409f9103c5c4577f0f0c": {
      "model_module": "@jupyter-widgets/base",
      "model_module_version": "1.0.0",
      "model_name": "LayoutModel",
      "state": {}
     },
     "7d08cafb736a41c2afb0cf75a29fa8b9": {
      "model_module": "@jupyter-widgets/controls",
      "model_module_version": "1.2.0",
      "model_name": "SliderStyleModel",
      "state": {
       "description_width": ""
      }
     },
     "7d13a996cd214e179de14b9f3f64a524": {
      "model_module": "@jupyter-widgets/controls",
      "model_module_version": "1.2.0",
      "model_name": "VBoxModel",
      "state": {
       "children": [
        "IPY_MODEL_4a41e935acee4148a4451a1654544e26",
        "IPY_MODEL_ad09e136c24c4419a07750758267dfd3",
        "IPY_MODEL_e4432ff0f82a4912ac85dd08f6e539b0",
        "IPY_MODEL_6d7ed1f11220468bae685a0970199e25",
        "IPY_MODEL_a00cbf50657b424287aeafdf5cff1a05",
        "IPY_MODEL_d9c72ea5ac5e4104bd5e802eb4cb1431"
       ],
       "layout": "IPY_MODEL_ff916902a58342ff8f8136893a243101"
      }
     },
     "7d37587997e74c4a886352b548618d25": {
      "model_module": "@jupyter-widgets/controls",
      "model_module_version": "1.2.0",
      "model_name": "ButtonModel",
      "state": {
       "description": "Auto",
       "layout": "IPY_MODEL_417b9bf113344cc0b8645f4a829750d8",
       "style": "IPY_MODEL_eb8a6c492cbb40afa6de05b53bec888b"
      }
     },
     "7d54d4eef9b141c5b28a3ced6be45186": {
      "model_module": "@jupyter-widgets/controls",
      "model_module_version": "1.2.0",
      "model_name": "CheckboxModel",
      "state": {
       "description": "Min. distance",
       "disabled": false,
       "indent": false,
       "layout": "IPY_MODEL_edcf26e89f0140129f39cf5f6752a772",
       "style": "IPY_MODEL_f09107aafae74a6fa022c90364a58dcf",
       "value": false
      }
     },
     "7d8707fd46d64a3c8c0031d3914e3f5f": {
      "model_module": "@jupyter-widgets/controls",
      "model_module_version": "1.2.0",
      "model_name": "FloatTextModel",
      "state": {
       "description": "radius",
       "layout": "IPY_MODEL_33d2438241524a22a276e0c1f53efbd0",
       "step": 0.1,
       "style": "IPY_MODEL_5bf451524c124eb5aaa54312ad41c19b",
       "value": 1
      }
     },
     "7e1a9bca2032487a90f1a46296047b9c": {
      "model_module": "@jupyter-widgets/controls",
      "model_module_version": "1.2.0",
      "model_name": "DescriptionStyleModel",
      "state": {
       "description_width": ""
      }
     },
     "7e323cdbad764b54ba41c5bd2ed3ccdf": {
      "model_module": "@jupyter-widgets/base",
      "model_module_version": "1.0.0",
      "model_name": "LayoutModel",
      "state": {
       "display": "inline"
      }
     },
     "7e5d3d35dfdd4bd991635af6b96bb962": {
      "model_module": "@jupyter-widgets/controls",
      "model_module_version": "1.2.0",
      "model_name": "VBoxModel",
      "state": {
       "children": [
        "IPY_MODEL_a84219f788e443978c802281362621b5",
        "IPY_MODEL_a1fee939d02b4c3cbeb542df8cf1eb43",
        "IPY_MODEL_6c3ad84af7db4553a2e5a62501af6851",
        "IPY_MODEL_aec25161b34c4d5fa2495d37dd0b009c",
        "IPY_MODEL_65aa7fca0ee44bcdbdd5376b628ac01a",
        "IPY_MODEL_8a52be7024ef4c25aa09a59124e17e13"
       ],
       "layout": "IPY_MODEL_cbc95826e6074f2e92211d41a56f82a4"
      }
     },
     "7e69e27a79d54518ba4291cb90d5052e": {
      "model_module": "@jupyter-widgets/controls",
      "model_module_version": "1.2.0",
      "model_name": "DropdownModel",
      "state": {
       "_options_labels": [
        "Identity",
        "Cg",
        "Gaussian"
       ],
       "description": "find filter",
       "index": 1,
       "layout": "IPY_MODEL_5efc03be26be44678edae4db1dd0620d",
       "style": "IPY_MODEL_96c75463f6154453969f9a34b12ad577"
      }
     },
     "7e804dfa5c76426e93cae68a9fbae361": {
      "model_module": "@jupyter-widgets/base",
      "model_module_version": "1.0.0",
      "model_name": "LayoutModel",
      "state": {
       "width": "auto"
      }
     },
     "7e859156759f45b38523fc18293aa11d": {
      "model_module": "@jupyter-widgets/base",
      "model_module_version": "1.0.0",
      "model_name": "LayoutModel",
      "state": {}
     },
     "7eba0bf824a04ba59bf6385b7b96348e": {
      "model_module": "@jupyter-widgets/controls",
      "model_module_version": "1.2.0",
      "model_name": "FloatTextModel",
      "state": {
       "layout": "IPY_MODEL_7411c1c312424992878cea121fca4ef0",
       "step": 0.1,
       "style": "IPY_MODEL_2ea8a59f129b405d87173f9f3230b8e6",
       "value": 1
      }
     },
     "7f0e7f412f954619b202379e8b02693b": {
      "model_module": "@jupyter-widgets/controls",
      "model_module_version": "1.2.0",
      "model_name": "DescriptionStyleModel",
      "state": {
       "description_width": ""
      }
     },
     "7f26c2e32f73441e925acbfeb80b8ba5": {
      "model_module": "@jupyter-widgets/controls",
      "model_module_version": "1.2.0",
      "model_name": "IntTextModel",
      "state": {
       "description": "feat. size",
       "layout": "IPY_MODEL_5d0a7ef140e44964bca949a1721e3e29",
       "step": 1,
       "style": "IPY_MODEL_9fdbc4fb133d47bdab2d81519a664f88",
       "value": 3
      }
     },
     "7f4354ebdb9e4b5abbdc63c6c1eff22f": {
      "model_module": "@jupyter-widgets/controls",
      "model_module_version": "1.2.0",
      "model_name": "DescriptionStyleModel",
      "state": {
       "description_width": ""
      }
     },
     "7f4b4f3d85e34deeb1ea4774d8aefa66": {
      "model_module": "@jupyter-widgets/controls",
      "model_module_version": "1.2.0",
      "model_name": "CheckboxModel",
      "state": {
       "description": "Size range",
       "disabled": false,
       "indent": false,
       "layout": "IPY_MODEL_87bdfa4d9388414fbe34361823472cd9",
       "style": "IPY_MODEL_744b36f504394d21b014ea9c4cbbfcb7",
       "value": false
      }
     },
     "7f68fd8890284cd78451354497414a02": {
      "model_module": "@jupyter-widgets/controls",
      "model_module_version": "1.2.0",
      "model_name": "DescriptionStyleModel",
      "state": {
       "description_width": ""
      }
     },
     "7f73ff4f83394c04820b1cf4828cff07": {
      "model_module": "@jupyter-widgets/controls",
      "model_module_version": "1.2.0",
      "model_name": "CheckboxModel",
      "state": {
       "description": "Size range",
       "disabled": false,
       "indent": false,
       "layout": "IPY_MODEL_78ae498426d2423dac6186c3bed9bda3",
       "style": "IPY_MODEL_84be21c2267d46ecb6b61acbf06dc01e",
       "value": false
      }
     },
     "7f7947b871f94543900367021cc52eb8": {
      "model_module": "@jupyter-widgets/controls",
      "model_module_version": "1.2.0",
      "model_name": "DescriptionStyleModel",
      "state": {
       "description_width": ""
      }
     },
     "7f8c1ba0849c4963a3aec678f5fcbf8b": {
      "model_module": "@jupyter-widgets/controls",
      "model_module_version": "1.2.0",
      "model_name": "DescriptionStyleModel",
      "state": {
       "description_width": ""
      }
     },
     "7fae634bda3149b89c903f91e92c0a9e": {
      "model_module": "@jupyter-widgets/controls",
      "model_module_version": "1.2.0",
      "model_name": "DescriptionStyleModel",
      "state": {
       "description_width": ""
      }
     },
     "7ff62e478ee3437995b243f6afd57b84": {
      "model_module": "@jupyter-widgets/base",
      "model_module_version": "1.0.0",
      "model_name": "LayoutModel",
      "state": {}
     },
     "7ffaa12f4009420cabdc409956fafe3d": {
      "model_module": "@jupyter-widgets/controls",
      "model_module_version": "1.2.0",
      "model_name": "VBoxModel",
      "state": {
       "children": [
        "IPY_MODEL_6c8878d01af44bda9f3639d215611135",
        "IPY_MODEL_bd42a13e206240c8af39f2f3f7f56011",
        "IPY_MODEL_d700234ff2bd43d98b61da89639fba43"
       ],
       "layout": "IPY_MODEL_8c98602f1d7f4432a45d0fda2735fd67"
      }
     },
     "8004488e459a492b8d357d97ede48678": {
      "model_module": "@jupyter-widgets/controls",
      "model_module_version": "1.2.0",
      "model_name": "DescriptionStyleModel",
      "state": {
       "description_width": ""
      }
     },
     "80755e8cd72a466ba04fa2342cc4a2c4": {
      "model_module": "@jupyter-widgets/controls",
      "model_module_version": "1.2.0",
      "model_name": "CheckboxModel",
      "state": {
       "description": "Size range",
       "disabled": false,
       "indent": false,
       "layout": "IPY_MODEL_231f86b690714dfe9cc5b0b688cc7436",
       "style": "IPY_MODEL_6af5196c760649fd86ae2d5731be9973",
       "value": false
      }
     },
     "809d2a13aa78447b8a8fcfa964e91b06": {
      "model_module": "@jupyter-widgets/controls",
      "model_module_version": "1.2.0",
      "model_name": "DescriptionStyleModel",
      "state": {
       "description_width": ""
      }
     },
     "80a9910d37f34e0d9f9bca42f24e1a37": {
      "model_module": "@jupyter-widgets/controls",
      "model_module_version": "1.2.0",
      "model_name": "DescriptionStyleModel",
      "state": {
       "description_width": ""
      }
     },
     "80baaa6b703743fcb59be4abcea2e9bb": {
      "model_module": "@jupyter-widgets/controls",
      "model_module_version": "1.2.0",
      "model_name": "DescriptionStyleModel",
      "state": {
       "description_width": ""
      }
     },
     "80c2e356993c45dcbebf66dc3e671b92": {
      "model_module": "@jupyter-widgets/controls",
      "model_module_version": "1.2.0",
      "model_name": "DescriptionStyleModel",
      "state": {
       "description_width": ""
      }
     },
     "80d0f66ccc8043f5a05540c17b37572b": {
      "model_module": "@jupyter-widgets/base",
      "model_module_version": "1.0.0",
      "model_name": "LayoutModel",
      "state": {
       "width": "auto"
      }
     },
     "80d3c155cfc846a88c1e54b855601163": {
      "model_module": "@jupyter-widgets/base",
      "model_module_version": "1.0.0",
      "model_name": "LayoutModel",
      "state": {}
     },
     "80ed4a1176914252bf03bbd3df62e1c5": {
      "model_module": "@jupyter-widgets/controls",
      "model_module_version": "1.2.0",
      "model_name": "DropdownModel",
      "state": {
       "_options_labels": [
        "2d_fixed",
        "2d",
        "3d"
       ],
       "description": "model",
       "index": 1,
       "layout": "IPY_MODEL_fbe86e1dd7194487b3b57f7e6f490339",
       "style": "IPY_MODEL_679a8b092b324fc099cd7bba2007a0e8"
      }
     },
     "80f46a1514ff47459596d207e4185b65": {
      "model_module": "@jupyter-widgets/base",
      "model_module_version": "1.0.0",
      "model_name": "LayoutModel",
      "state": {
       "display": "none"
      }
     },
     "80fe2f7b6ac64475a3794aaf3aa27ae4": {
      "model_module": "@jupyter-widgets/base",
      "model_module_version": "1.0.0",
      "model_name": "LayoutModel",
      "state": {
       "width": "100%"
      }
     },
     "81096482fe474b759a2fb31d9ee07c29": {
      "model_module": "@jupyter-widgets/base",
      "model_module_version": "1.0.0",
      "model_name": "LayoutModel",
      "state": {
       "width": "auto"
      }
     },
     "810a209724294271b83a49d267f14a22": {
      "model_module": "@jupyter-widgets/base",
      "model_module_version": "1.0.0",
      "model_name": "LayoutModel",
      "state": {
       "width": "100%"
      }
     },
     "810bea697feb42e5af9feca7edb8266e": {
      "model_module": "@jupyter-widgets/controls",
      "model_module_version": "1.2.0",
      "model_name": "IntRangeSliderModel",
      "state": {
       "_model_name": "IntRangeSliderModel",
       "_view_name": "IntRangeSliderView",
       "layout": "IPY_MODEL_386b71b351a64a1a954377121aa10d0a",
       "max": 65535,
       "style": "IPY_MODEL_da6998b0eeac4a14aa88cad19e27679d",
       "value": [
        16383,
        49151
       ]
      }
     },
     "81185d7b48c5402f97c81cce08649b34": {
      "model_module": "@jupyter-widgets/controls",
      "model_module_version": "1.2.0",
      "model_name": "VBoxModel",
      "state": {
       "children": [
        "IPY_MODEL_ef7105e4a7684fe1b412815e09bf964e",
        "IPY_MODEL_9911ce34f11f43ec81604a8e6e1ae269",
        "IPY_MODEL_c6a9fc6e0e6a4098995eb4a9aafbd685"
       ],
       "layout": "IPY_MODEL_e73200dfa3a84a7e902c264f06cb8050"
      }
     },
     "81d9b6aed16e4b3d9a533e28bbe5c7ba": {
      "model_module": "@jupyter-widgets/base",
      "model_module_version": "1.0.0",
      "model_name": "LayoutModel",
      "state": {}
     },
     "8200b00ac8174f8b913f4fb2f5aeb418": {
      "model_module": "@jupyter-widgets/controls",
      "model_module_version": "1.2.0",
      "model_name": "DescriptionStyleModel",
      "state": {
       "description_width": ""
      }
     },
     "82396cc378f041c0bd9a6d82efcaddc7": {
      "model_module": "@jupyter-widgets/controls",
      "model_module_version": "1.2.0",
      "model_name": "DescriptionStyleModel",
      "state": {
       "description_width": ""
      }
     },
     "82583e58509042368bf8c21bee5086e4": {
      "model_module": "@jupyter-widgets/base",
      "model_module_version": "1.0.0",
      "model_name": "LayoutModel",
      "state": {
       "width": "auto"
      }
     },
     "8277aa72a4134dafa78f589ff2231453": {
      "model_module": "@jupyter-widgets/controls",
      "model_module_version": "1.2.0",
      "model_name": "HBoxModel",
      "state": {
       "children": [
        "IPY_MODEL_33b6de483ca6433cb6abe21f23c9b310",
        "IPY_MODEL_8b8f4ee2b429441f949a39a7e6b4907d"
       ],
       "layout": "IPY_MODEL_92b09dfd88004c9e8778def1c9f699a8"
      }
     },
     "82cc1b5d18df45f3a6d56f36a65c333b": {
      "model_module": "@jupyter-widgets/controls",
      "model_module_version": "1.2.0",
      "model_name": "DescriptionStyleModel",
      "state": {
       "description_width": ""
      }
     },
     "82cdb91393a042cfb05f6b57bac9c2aa": {
      "model_module": "@jupyter-widgets/controls",
      "model_module_version": "1.2.0",
      "model_name": "CheckboxModel",
      "state": {
       "description": "Show loc.",
       "disabled": false,
       "indent": false,
       "layout": "IPY_MODEL_a5aef452aafc4979844c1c9e82fbe0db",
       "style": "IPY_MODEL_0018c04d4b2749a4897ec5711d0a8a1b",
       "value": true
      }
     },
     "82fa564a51c04c79a480775d7211cee6": {
      "model_module": "@jupyter-widgets/controls",
      "model_module_version": "1.2.0",
      "model_name": "DescriptionStyleModel",
      "state": {
       "description_width": ""
      }
     },
     "8346806e4bba42cb87c56d2814e17ddc": {
      "model_module": "@jupyter-widgets/controls",
      "model_module_version": "1.2.0",
      "model_name": "DescriptionStyleModel",
      "state": {
       "description_width": ""
      }
     },
     "8353db62440f4be398859f883451c00b": {
      "model_module": "@jupyter-widgets/base",
      "model_module_version": "1.0.0",
      "model_name": "LayoutModel",
      "state": {}
     },
     "8356a8afa94944eb825a6d03d33ca378": {
      "model_module": "@jupyter-widgets/controls",
      "model_module_version": "1.2.0",
      "model_name": "CheckboxModel",
      "state": {
       "description": "Show loc.",
       "disabled": false,
       "indent": false,
       "layout": "IPY_MODEL_9dc7aaed167b4dd5969d056120e38a5c",
       "style": "IPY_MODEL_5c5eeae3fe734cfb9d5b6555b74ba08d",
       "value": true
      }
     },
     "8363f9755aa04c31946b49bf6d81e6cd": {
      "model_module": "@jupyter-widgets/base",
      "model_module_version": "1.0.0",
      "model_name": "LayoutModel",
      "state": {
       "display": "none"
      }
     },
     "837f0a9b22bc4f38a3e697aded6b628d": {
      "model_module": "@jupyter-widgets/base",
      "model_module_version": "1.0.0",
      "model_name": "LayoutModel",
      "state": {}
     },
     "83816c77a7d44d1283af47f290407846": {
      "model_module": "@jupyter-widgets/base",
      "model_module_version": "1.0.0",
      "model_name": "LayoutModel",
      "state": {
       "width": "100%"
      }
     },
     "83cffd741eeb430dbf72e1f82c9e775f": {
      "model_module": "@jupyter-widgets/controls",
      "model_module_version": "1.2.0",
      "model_name": "DescriptionStyleModel",
      "state": {
       "description_width": ""
      }
     },
     "83d3e31c57f34f7d82e2583f231da2e9": {
      "model_module": "@jupyter-widgets/controls",
      "model_module_version": "1.2.0",
      "model_name": "DescriptionStyleModel",
      "state": {
       "description_width": ""
      }
     },
     "84be21c2267d46ecb6b61acbf06dc01e": {
      "model_module": "@jupyter-widgets/controls",
      "model_module_version": "1.2.0",
      "model_name": "DescriptionStyleModel",
      "state": {
       "description_width": ""
      }
     },
     "850705be2c594966a1ed5adf20120cf0": {
      "model_module": "@jupyter-widgets/base",
      "model_module_version": "1.0.0",
      "model_name": "LayoutModel",
      "state": {}
     },
     "8530c3e1f5034d298c0e74eb8b4b8d62": {
      "model_module": "@jupyter-widgets/controls",
      "model_module_version": "1.2.0",
      "model_name": "LabelModel",
      "state": {
       "layout": "IPY_MODEL_77a71aeb78a444699b75d59679ba74a4",
       "style": "IPY_MODEL_7f4354ebdb9e4b5abbdc63c6c1eff22f",
       "value": "Locating beads (file 10/10)"
      }
     },
     "853382609a5b404d80a4feb4093d925a": {
      "model_module": "@jupyter-widgets/base",
      "model_module_version": "1.0.0",
      "model_name": "LayoutModel",
      "state": {
       "display": "flex",
       "flex_flow": "column wrap",
       "width": "66%"
      }
     },
     "856b29a83bc644f7b2b4e017960d1da3": {
      "model_module": "@jupyter-widgets/controls",
      "model_module_version": "1.2.0",
      "model_name": "FloatTextModel",
      "state": {
       "description": "min.",
       "layout": "IPY_MODEL_33fff774f93e46a2af5d1b55d8cb2994",
       "step": 0.1,
       "style": "IPY_MODEL_9d4a9019dc9c48ee987d1e204cb5dfa8",
       "value": 0.5
      }
     },
     "856dc878c4b947268823882ad0e609a1": {
      "model_module": "@jupyter-widgets/controls",
      "model_module_version": "1.2.0",
      "model_name": "LabelModel",
      "state": {
       "layout": "IPY_MODEL_cb2386fc6ef74bcdacecf41b9c594189",
       "style": "IPY_MODEL_2043cd0deada4e3fad44e7ca841638c1",
       "value": "Locating beads (file 10/10)"
      }
     },
     "861cffcb15a747e59761de0c27edcde8": {
      "model_module": "@jupyter-widgets/controls",
      "model_module_version": "1.2.0",
      "model_name": "VBoxModel",
      "state": {
       "children": [
        "IPY_MODEL_aeb82f103bde45f8ae48a0a3293218f8",
        "IPY_MODEL_b2612d3edbcd4dbc816deb8b13184772",
        "IPY_MODEL_24b12ffeda4e43ec875b10f3506e60aa"
       ],
       "layout": "IPY_MODEL_37b4c7ed280b4d5aa4ccdbad7e7604f0"
      }
     },
     "8640494794064662823b36511db88e13": {
      "model_module": "@jupyter-widgets/base",
      "model_module_version": "1.0.0",
      "model_name": "LayoutModel",
      "state": {
       "width": "auto"
      }
     },
     "865d1a7cd7b948548f2f7bb0f5eda00d": {
      "model_module": "@jupyter-widgets/controls",
      "model_module_version": "1.2.0",
      "model_name": "DescriptionStyleModel",
      "state": {
       "description_width": ""
      }
     },
     "86ad48dec51741938a64d3053101ebe2": {
      "model_module": "@jupyter-widgets/controls",
      "model_module_version": "1.2.0",
      "model_name": "DropdownModel",
      "state": {
       "_options_labels": [
        "2d_fixed",
        "2d",
        "3d"
       ],
       "description": "model",
       "index": 1,
       "layout": "IPY_MODEL_714d253144384720828bdd50e58469e1",
       "style": "IPY_MODEL_05d857c2e8504550a4718576d51adb6e"
      }
     },
     "86c46d226c9342bd9799b721166690a6": {
      "model_module": "@jupyter-widgets/base",
      "model_module_version": "1.0.0",
      "model_name": "LayoutModel",
      "state": {}
     },
     "86c69153440d494eb9e52469c9909b45": {
      "model_module": "@jupyter-widgets/controls",
      "model_module_version": "1.2.0",
      "model_name": "ButtonModel",
      "state": {
       "description": "Auto",
       "layout": "IPY_MODEL_f69a2db1cf3d44d594939f5f5d96e21a",
       "style": "IPY_MODEL_af11b20f3d1b467485ef89404c0582c5"
      }
     },
     "86c9ec232b3e4bfbbe8fd140a5e6d5d3": {
      "model_module": "@jupyter-widgets/base",
      "model_module_version": "1.0.0",
      "model_name": "LayoutModel",
      "state": {}
     },
     "86d4d864668c47e99aad4c905abee941": {
      "model_module": "@jupyter-widgets/controls",
      "model_module_version": "1.2.0",
      "model_name": "FloatTextModel",
      "state": {
       "description": "min.",
       "layout": "IPY_MODEL_4460a4b0e45149e8b62d0d75002d0361",
       "step": 0.1,
       "style": "IPY_MODEL_82fa564a51c04c79a480775d7211cee6",
       "value": 0.5
      }
     },
     "86dcef23bc4744319fe529d567185ca9": {
      "model_module": "@jupyter-widgets/base",
      "model_module_version": "1.0.0",
      "model_name": "LayoutModel",
      "state": {
       "height": "150px",
       "width": "100%"
      }
     },
     "87045e7c7a47485aa63dffd08040e2e1": {
      "model_module": "@jupyter-widgets/controls",
      "model_module_version": "1.2.0",
      "model_name": "FloatTextModel",
      "state": {
       "description": "min.",
       "layout": "IPY_MODEL_f46d6a4ed27843f8a95281949e729744",
       "step": 0.1,
       "style": "IPY_MODEL_aac67a092b404f4aa3513c7206fd2402",
       "value": 0.5
      }
     },
     "874f056b41604b95a1022eb11cdd193c": {
      "model_module": "@jupyter-widgets/controls",
      "model_module_version": "1.2.0",
      "model_name": "FloatTextModel",
      "state": {
       "description": "radius",
       "layout": "IPY_MODEL_0c6814e20e264632b34c7a9ba47b467d",
       "step": 0.1,
       "style": "IPY_MODEL_6a2d25aa08ec4f93b0f42b40e56f36ad",
       "value": 1
      }
     },
     "878f93859f344d6b8c9abb9c812267a3": {
      "model_module": "@jupyter-widgets/controls",
      "model_module_version": "1.2.0",
      "model_name": "ButtonStyleModel",
      "state": {}
     },
     "8793427b89a2477384ccd98b45e8650e": {
      "model_module": "@jupyter-widgets/controls",
      "model_module_version": "1.2.0",
      "model_name": "IntTextModel",
      "state": {
       "description": "feat. size",
       "layout": "IPY_MODEL_a7a93a3b5db14745a107ee7357a57a81",
       "step": 1,
       "style": "IPY_MODEL_022d4e6b9d2b4ef29ad13e4759bdf303",
       "value": 3
      }
     },
     "87bdfa4d9388414fbe34361823472cd9": {
      "model_module": "@jupyter-widgets/base",
      "model_module_version": "1.0.0",
      "model_name": "LayoutModel",
      "state": {
       "width": "auto"
      }
     },
     "88e452512c2a453dae2c9766752f5965": {
      "model_module": "@jupyter-widgets/base",
      "model_module_version": "1.0.0",
      "model_name": "LayoutModel",
      "state": {}
     },
     "89674fdefb424fd5b881882a1c20c533": {
      "model_module": "@jupyter-widgets/controls",
      "model_module_version": "1.2.0",
      "model_name": "DescriptionStyleModel",
      "state": {
       "description_width": ""
      }
     },
     "897513c42c1949debca60cc5649d6001": {
      "model_module": "@jupyter-widgets/controls",
      "model_module_version": "1.2.0",
      "model_name": "VBoxModel",
      "state": {
       "children": [
        "IPY_MODEL_76e0696c5f33476dba9467127113deca",
        "IPY_MODEL_7f26c2e32f73441e925acbfeb80b8ba5",
        "IPY_MODEL_df29faf8273e48a5bee8d7a223cc08ac"
       ],
       "layout": "IPY_MODEL_5ddf41f4e91448118e5b3331eae7ede0"
      }
     },
     "89aa5d42d8eb4ebc90a7761d3dce4b75": {
      "model_module": "@jupyter-widgets/base",
      "model_module_version": "1.0.0",
      "model_name": "LayoutModel",
      "state": {
       "height": "150px",
       "width": "100%"
      }
     },
     "89d8894014ba4cf4a21db7afed9d625e": {
      "model_module": "@jupyter-widgets/controls",
      "model_module_version": "1.2.0",
      "model_name": "FloatTextModel",
      "state": {
       "description": "threshold",
       "layout": "IPY_MODEL_2935f9dd0f2347839e2a4b45779199de",
       "step": 10,
       "style": "IPY_MODEL_d3766a29be6c40149321205bfdce3c6a",
       "value": 100
      }
     },
     "8a52be7024ef4c25aa09a59124e17e13": {
      "model_module": "@jupyter-widgets/controls",
      "model_module_version": "1.2.0",
      "model_name": "VBoxModel",
      "state": {
       "children": [
        "IPY_MODEL_dcc1fee65e7e40488a2829e87fe22560",
        "IPY_MODEL_3cb0d27cf4e64e7dbba3e398ee1b9917",
        "IPY_MODEL_2ace33678a664e7f93b399359db8e7a9"
       ],
       "layout": "IPY_MODEL_9f26e9bc88f3473ebf794e68fa66a789"
      }
     },
     "8a6550c5cbe647d68a2115ac8442b978": {
      "model_module": "@jupyter-widgets/controls",
      "model_module_version": "1.2.0",
      "model_name": "DescriptionStyleModel",
      "state": {
       "description_width": ""
      }
     },
     "8a6b8ef7ce7f4b76b1c70a9cbec92a5f": {
      "model_module": "@jupyter-widgets/controls",
      "model_module_version": "1.2.0",
      "model_name": "DescriptionStyleModel",
      "state": {
       "description_width": ""
      }
     },
     "8a73eacf81254b6eab54f9ad02fc146f": {
      "model_module": "@jupyter-widgets/base",
      "model_module_version": "1.0.0",
      "model_name": "LayoutModel",
      "state": {}
     },
     "8ab3bf5637d24546a209820bd9d7806c": {
      "model_module": "@jupyter-widgets/controls",
      "model_module_version": "1.2.0",
      "model_name": "BoundedIntTextModel",
      "state": {
       "description": "frame",
       "layout": "IPY_MODEL_5446864af5af44aba166dcb3ea3c4d17",
       "max": 0,
       "style": "IPY_MODEL_917606e537914db69ef6a9a8c9542c4e"
      }
     },
     "8acfbe1b3a1f4104bb5c3c685b867aaa": {
      "model_module": "@jupyter-widgets/controls",
      "model_module_version": "1.2.0",
      "model_name": "SelectModel",
      "state": {
       "_options_labels": [
        "data/sensor-H57/no-cells_SAv-100k_SSS-H57-20k_000_.SPE"
       ],
       "index": 0,
       "layout": "IPY_MODEL_05e0d564a0d3408bba633bcffd12cb3f",
       "style": "IPY_MODEL_0104da1552564463929855cbc2b05593"
      }
     },
     "8ae8a78a822742a5a1ac26766d7d0bf2": {
      "model_module": "@jupyter-widgets/controls",
      "model_module_version": "1.2.0",
      "model_name": "HBoxModel",
      "state": {
       "children": [
        "IPY_MODEL_455cf6e9a00743579e54cef4efeee445",
        "IPY_MODEL_3b4a599f18eb484f89abca24821169d5"
       ],
       "layout": "IPY_MODEL_44af3bdb87e84606a1ad3a7482d31214"
      }
     },
     "8b1e427c35654164ae46d5138758bafc": {
      "model_module": "@jupyter-widgets/base",
      "model_module_version": "1.0.0",
      "model_name": "LayoutModel",
      "state": {
       "border": "1px solid gray"
      }
     },
     "8b26a592718c432381544ef50f1238c4": {
      "model_module": "@jupyter-widgets/controls",
      "model_module_version": "1.2.0",
      "model_name": "DropdownModel",
      "state": {
       "_options_labels": [
        "Identity",
        "Cg",
        "Gaussian"
       ],
       "description": "find filter",
       "index": 1,
       "layout": "IPY_MODEL_80d3c155cfc846a88c1e54b855601163",
       "style": "IPY_MODEL_c91e6b5ec8fd4e3fbce02033e26274d4"
      }
     },
     "8b42c750321242ef9263b6bfeb9cf94a": {
      "model_module": "@jupyter-widgets/controls",
      "model_module_version": "1.2.0",
      "model_name": "IntTextModel",
      "state": {
       "description": "feat. size",
       "layout": "IPY_MODEL_ecceb57342d84d7eb2790085b645c9d5",
       "step": 1,
       "style": "IPY_MODEL_e07320cc570c4cb19f38f6d1aa6da5d5",
       "value": 3
      }
     },
     "8b6931748a42409d884c4454d3144696": {
      "model_module": "@jupyter-widgets/base",
      "model_module_version": "1.0.0",
      "model_name": "LayoutModel",
      "state": {}
     },
     "8b8f4ee2b429441f949a39a7e6b4907d": {
      "model_module": "@jupyter-widgets/controls",
      "model_module_version": "1.2.0",
      "model_name": "FloatTextModel",
      "state": {
       "layout": "IPY_MODEL_5452847ecfe44d2a98b86fb4875e64b3",
       "step": 0.1,
       "style": "IPY_MODEL_7251cff4abc34a61bd637e4fb3886404",
       "value": 1
      }
     },
     "8b90ed70d2554b48a466342454012047": {
      "model_module": "@jupyter-widgets/controls",
      "model_module_version": "1.2.0",
      "model_name": "BoundedIntTextModel",
      "state": {
       "description": "frame",
       "layout": "IPY_MODEL_df8dfe6ad0f143f28f5319492ffa643c",
       "max": 49,
       "style": "IPY_MODEL_3f3dff0ea23d4c0da42191b6105bdbd9"
      }
     },
     "8bc0589a899546c294dced800970d9b0": {
      "model_module": "@jupyter-widgets/controls",
      "model_module_version": "1.2.0",
      "model_name": "VBoxModel",
      "state": {
       "children": [
        "IPY_MODEL_07c8ae6842234a828cdc5b7ad6386b73",
        "IPY_MODEL_c7950bb3cfa846749605076ebf8fe9e6",
        "IPY_MODEL_a28c038042c54aa189617d6ce8c023b4",
        "IPY_MODEL_e98a03ff22104c9aafaced303ca0cc23",
        "IPY_MODEL_bc8765e56b834e90964fd735b31f2ee0",
        "IPY_MODEL_31b444c16f454933a68729399ccbbfdf"
       ],
       "layout": "IPY_MODEL_9781822393ab436f832e0374c469d0c8"
      }
     },
     "8beeb15f06a24f429a5f619463c7534d": {
      "model_module": "@jupyter-widgets/controls",
      "model_module_version": "1.2.0",
      "model_name": "DescriptionStyleModel",
      "state": {
       "description_width": ""
      }
     },
     "8c4bf6b5ba5a4628b6b2b222f16f06ec": {
      "model_module": "@jupyter-widgets/controls",
      "model_module_version": "1.2.0",
      "model_name": "DropdownModel",
      "state": {
       "_options_labels": [
        "Identity",
        "Cg",
        "Gaussian"
       ],
       "description": "find filter",
       "index": 1,
       "layout": "IPY_MODEL_d7cca073dbf945fe9549c63b26a0a8a5",
       "style": "IPY_MODEL_d7a2d3856bf24c8daa5c454b34f335ae"
      }
     },
     "8c618bf667984e6dba7a977fab592393": {
      "model_module": "@jupyter-widgets/base",
      "model_module_version": "1.0.0",
      "model_name": "LayoutModel",
      "state": {}
     },
     "8c98602f1d7f4432a45d0fda2735fd67": {
      "model_module": "@jupyter-widgets/base",
      "model_module_version": "1.0.0",
      "model_name": "LayoutModel",
      "state": {}
     },
     "8c9cc2e6767c4ccbb3209f8c4a732d67": {
      "model_module": "@jupyter-widgets/base",
      "model_module_version": "1.0.0",
      "model_name": "LayoutModel",
      "state": {
       "height": "150px",
       "width": "100%"
      }
     },
     "8cd31a6c9ff0466295c9f5b4db86a38d": {
      "model_module": "@jupyter-widgets/controls",
      "model_module_version": "1.2.0",
      "model_name": "HBoxModel",
      "state": {
       "children": [
        "IPY_MODEL_0e4f94f81e074cf5a19d35943215a729",
        "IPY_MODEL_6da3f3650bbf4872a7382a85a9a40aa6"
       ],
       "layout": "IPY_MODEL_b6fe90eea41749a7bce3105c113eb223"
      }
     },
     "8d055895f82c41d7b7c8b38876af1e7e": {
      "model_module": "@jupyter-widgets/controls",
      "model_module_version": "1.2.0",
      "model_name": "DescriptionStyleModel",
      "state": {
       "description_width": ""
      }
     },
     "8d0e07c0932148fe9f896e0bdb8ee446": {
      "model_module": "@jupyter-widgets/base",
      "model_module_version": "1.0.0",
      "model_name": "LayoutModel",
      "state": {}
     },
     "8d103f0587d54766bf25ae1c7cfdd53d": {
      "model_module": "@jupyter-widgets/controls",
      "model_module_version": "1.2.0",
      "model_name": "FloatTextModel",
      "state": {
       "description": "radius",
       "layout": "IPY_MODEL_b5eb7a59cbc243f9bc0d874649257b37",
       "step": 0.1,
       "style": "IPY_MODEL_161e8a067c8947aab46ac8fe5a4a11af",
       "value": 1
      }
     },
     "8d2ce95e587f4415ba3358ee8fc152a5": {
      "model_module": "@jupyter-widgets/base",
      "model_module_version": "1.0.0",
      "model_name": "LayoutModel",
      "state": {
       "width": "75%"
      }
     },
     "8d518e33c96c4d9aacb092476f183f2c": {
      "model_module": "@jupyter-widgets/controls",
      "model_module_version": "1.2.0",
      "model_name": "DescriptionStyleModel",
      "state": {
       "description_width": ""
      }
     },
     "8d671eebba524806afd5190d5e9a294e": {
      "model_module": "@jupyter-widgets/controls",
      "model_module_version": "1.2.0",
      "model_name": "SelectModel",
      "state": {
       "_options_labels": [
        "data/sensor-H57/cells-01_SAv-100k_SSS-H57-20k_000_.SPE"
       ],
       "index": 0,
       "layout": "IPY_MODEL_2481b947f1e64a2295066506b699d3bd",
       "style": "IPY_MODEL_7b82c042d2e84e6abda55cdaf4c9b65b"
      }
     },
     "8d75a98fccc24a73858cf40373ff49b1": {
      "model_module": "@jupyter-widgets/controls",
      "model_module_version": "1.2.0",
      "model_name": "DescriptionStyleModel",
      "state": {
       "description_width": ""
      }
     },
     "8da328fcd8204bd592c2e6cc3480b1d4": {
      "model_module": "@jupyter-widgets/base",
      "model_module_version": "1.0.0",
      "model_name": "LayoutModel",
      "state": {}
     },
     "8dc6f662a26d4004be642e35900832e6": {
      "model_module": "@jupyter-widgets/controls",
      "model_module_version": "1.2.0",
      "model_name": "CheckboxModel",
      "state": {
       "description": "Min. distance",
       "disabled": false,
       "indent": false,
       "layout": "IPY_MODEL_2cab9af1129d4fa09b95251563b39926",
       "style": "IPY_MODEL_9a5d6961b2a24084ac1439691cc73a7e",
       "value": true
      }
     },
     "8dcd3e877cc048e0af43a62bf72cd5d4": {
      "model_module": "@jupyter-widgets/controls",
      "model_module_version": "1.2.0",
      "model_name": "HBoxModel",
      "state": {
       "children": [
        "IPY_MODEL_0456f5bd127e43acb9f732da112bdd05",
        "IPY_MODEL_61736542fb91429ebfc4285de4794f3c"
       ],
       "layout": "IPY_MODEL_86dcef23bc4744319fe529d567185ca9"
      }
     },
     "8e38b4cd6178425bba8ba72effbc2a23": {
      "model_module": "@jupyter-widgets/controls",
      "model_module_version": "1.2.0",
      "model_name": "HBoxModel",
      "state": {
       "children": [
        "IPY_MODEL_4a19eae047724d1c8aef7b840f80f3f5",
        "IPY_MODEL_94113de96d1d4309b400da8d8abf3c04"
       ],
       "layout": "IPY_MODEL_89aa5d42d8eb4ebc90a7761d3dce4b75"
      }
     },
     "8e6c34cfb4904b0a87936b4f7c942bc5": {
      "model_module": "@jupyter-widgets/base",
      "model_module_version": "1.0.0",
      "model_name": "LayoutModel",
      "state": {
       "border": "1px solid gray"
      }
     },
     "8eb933fcf2094529bcfaa1d445261b92": {
      "model_module": "@jupyter-widgets/controls",
      "model_module_version": "1.2.0",
      "model_name": "FloatTextModel",
      "state": {
       "description": "min.",
       "layout": "IPY_MODEL_ab7a3e29338d4fde9471734de2214b6e",
       "step": 0.1,
       "style": "IPY_MODEL_c06cf69ddada43d0ab1f18c8c3045aa7",
       "value": 0.5
      }
     },
     "8ec6da2c67544898804aac810349c4c2": {
      "model_module": "@jupyter-widgets/base",
      "model_module_version": "1.0.0",
      "model_name": "LayoutModel",
      "state": {}
     },
     "8ece21e0bbc04f559be068553b2f2d6e": {
      "model_module": "@jupyter-widgets/controls",
      "model_module_version": "1.2.0",
      "model_name": "DescriptionStyleModel",
      "state": {
       "description_width": ""
      }
     },
     "8efaa6660bcd40e8bef473760f81a5cf": {
      "model_module": "@jupyter-widgets/controls",
      "model_module_version": "1.2.0",
      "model_name": "FloatTextModel",
      "state": {
       "description": "max.",
       "layout": "IPY_MODEL_d07a4186820840239ab8e5eb70813624",
       "step": 0.1,
       "style": "IPY_MODEL_79fed7d79c20410bb8dd6db061405c0c",
       "value": 2
      }
     },
     "8f03041c80844d6aac8a93c20c78e2c3": {
      "model_module": "@jupyter-widgets/controls",
      "model_module_version": "1.2.0",
      "model_name": "SliderStyleModel",
      "state": {
       "description_width": ""
      }
     },
     "8f1037d085144389a628066405742956": {
      "model_module": "@jupyter-widgets/controls",
      "model_module_version": "1.2.0",
      "model_name": "DescriptionStyleModel",
      "state": {
       "description_width": ""
      }
     },
     "8f419c9a97774aa7b8672e5b715e1279": {
      "model_module": "@jupyter-widgets/controls",
      "model_module_version": "1.2.0",
      "model_name": "FloatTextModel",
      "state": {
       "description": "min.",
       "layout": "IPY_MODEL_f11472961bf9417bb5f947a08586a9f8",
       "step": 0.1,
       "style": "IPY_MODEL_f79fb53f9f954bf5aed1318b836cf856",
       "value": 0.5
      }
     },
     "8f60a7b8105b4b2f8efcc28531ac63ee": {
      "model_module": "@jupyter-widgets/controls",
      "model_module_version": "1.2.0",
      "model_name": "ButtonModel",
      "state": {
       "description": "Auto",
       "layout": "IPY_MODEL_b452bb11186a4cf78f1e9b2d3fa131cb",
       "style": "IPY_MODEL_52cbb0bbe4ce4ad4b59ac491f14ffb7a"
      }
     },
     "8f8a4480e7a041a49dc9356e93bc2275": {
      "model_module": "@jupyter-widgets/controls",
      "model_module_version": "1.2.0",
      "model_name": "VBoxModel",
      "state": {
       "children": [
        "IPY_MODEL_0f71c59db5aa4ea2b4769b5fea8c042f",
        "IPY_MODEL_7c1fa466585b4c18bb1136d99db01e73",
        "IPY_MODEL_4235a193fe33482fab93e144a242265c"
       ],
       "layout": "IPY_MODEL_e3bdd03ca0ee4ed5bd7975bb27a948e7"
      }
     },
     "8fb1f61f7e624f7285afd816a6b4a06e": {
      "model_module": "@jupyter-widgets/controls",
      "model_module_version": "1.2.0",
      "model_name": "SelectModel",
      "state": {
       "_options_labels": [
        "data/beads/beads_000_.SPE",
        "data/beads/beads_001_.SPE",
        "data/beads/beads_002_.SPE",
        "data/beads/beads_003_.SPE",
        "data/beads/beads_004_.SPE",
        "data/beads/beads_005_.SPE",
        "data/beads/beads_006_.SPE",
        "data/beads/beads_007_.SPE",
        "data/beads/beads_008_.SPE",
        "data/beads/beads_009_.SPE"
       ],
       "index": 0,
       "layout": "IPY_MODEL_23bbf40415384f4396f29d0185ec83d1",
       "style": "IPY_MODEL_6eca4e54448c48fe8e6ed0300f3158c2"
      }
     },
     "8fb4b0fdb7c44e1ab8ed8e86e5f324f2": {
      "model_module": "@jupyter-widgets/base",
      "model_module_version": "1.0.0",
      "model_name": "LayoutModel",
      "state": {
       "width": "auto"
      }
     },
     "8fdb88a13c5d4aaa8ea7127d2a7dbebf": {
      "model_module": "@jupyter-widgets/base",
      "model_module_version": "1.0.0",
      "model_name": "LayoutModel",
      "state": {}
     },
     "8ff9e205eed647399c279ffee532336f": {
      "model_module": "@jupyter-widgets/controls",
      "model_module_version": "1.2.0",
      "model_name": "DropdownModel",
      "state": {
       "_options_labels": [
        "Identity",
        "Cg",
        "Gaussian"
       ],
       "description": "find filter",
       "index": 0,
       "layout": "IPY_MODEL_97f6d85fbe0b4e66a9a553343ca32256",
       "style": "IPY_MODEL_64f9c0fdfd7b40888021bf14afd2807a"
      }
     },
     "900defe2db1a44ca9b66c0e478878a1f": {
      "model_module": "@jupyter-widgets/controls",
      "model_module_version": "1.2.0",
      "model_name": "FloatTextModel",
      "state": {
       "description": "threshold",
       "layout": "IPY_MODEL_6733a68794e343ab8558817d1c611c3f",
       "step": 10,
       "style": "IPY_MODEL_560b9ab308b242a0aae998cdc825f1f8",
       "value": 100
      }
     },
     "9062cf5159e6492689fe459d9cd70ec5": {
      "model_module": "@jupyter-widgets/base",
      "model_module_version": "1.0.0",
      "model_name": "LayoutModel",
      "state": {}
     },
     "9071443fbf604febaa69a42219d26e73": {
      "model_module": "@jupyter-widgets/base",
      "model_module_version": "1.0.0",
      "model_name": "LayoutModel",
      "state": {
       "display": "inline"
      }
     },
     "908ebcf6e38043ebb72d731b3bc73225": {
      "model_module": "@jupyter-widgets/controls",
      "model_module_version": "1.2.0",
      "model_name": "DescriptionStyleModel",
      "state": {
       "description_width": ""
      }
     },
     "90a2efcdf54e436a95a036eb331dd6a6": {
      "model_module": "@jupyter-widgets/controls",
      "model_module_version": "1.2.0",
      "model_name": "DropdownModel",
      "state": {
       "_options_labels": [
        "Identity",
        "Cg",
        "Gaussian"
       ],
       "description": "find filter",
       "index": 1,
       "layout": "IPY_MODEL_c9c0bd8e91e44168bacd248f4ef19544",
       "style": "IPY_MODEL_6746c2c765074195a2b55939200552bf"
      }
     },
     "90aad56497fd4a5ea38f011e38008929": {
      "model_module": "@jupyter-widgets/base",
      "model_module_version": "1.0.0",
      "model_name": "LayoutModel",
      "state": {
       "display": "none"
      }
     },
     "90b98469181e4b4891ca28c13a27c2d8": {
      "model_module": "@jupyter-widgets/controls",
      "model_module_version": "1.2.0",
      "model_name": "IntTextModel",
      "state": {
       "description": "feat. size",
       "layout": "IPY_MODEL_f443d29c5dd3424c9ade9b292ee221a8",
       "step": 1,
       "style": "IPY_MODEL_c46874c368de438694b59a5b5b8ea525",
       "value": 3
      }
     },
     "90d47bd64de148b3ad13b9826f6860b0": {
      "model_module": "@jupyter-widgets/controls",
      "model_module_version": "1.2.0",
      "model_name": "IntRangeSliderModel",
      "state": {
       "_model_name": "IntRangeSliderModel",
       "_view_name": "IntRangeSliderView",
       "layout": "IPY_MODEL_914e34b1d579477a999a5cd71464a7f4",
       "max": 65535,
       "style": "IPY_MODEL_ed60be68de04477a94324f0eb040ef4d",
       "value": [
        288,
        827
       ]
      }
     },
     "90e802b1fc6a4e63aaed8c6f15075403": {
      "model_module": "@jupyter-widgets/base",
      "model_module_version": "1.0.0",
      "model_name": "LayoutModel",
      "state": {
       "display": "flex",
       "flex_flow": "column wrap",
       "width": "66%"
      }
     },
     "911e291299a9413694e2a31039eee35d": {
      "model_module": "@jupyter-widgets/controls",
      "model_module_version": "1.2.0",
      "model_name": "ButtonStyleModel",
      "state": {}
     },
     "912e622704314bf5bdd8598a1a809195": {
      "model_module": "@jupyter-widgets/base",
      "model_module_version": "1.0.0",
      "model_name": "LayoutModel",
      "state": {}
     },
     "9133c6044fa44763a8e9ed3a2cfc66c3": {
      "model_module": "@jupyter-widgets/controls",
      "model_module_version": "1.2.0",
      "model_name": "DropdownModel",
      "state": {
       "_options_labels": [
        "2d_fixed",
        "2d",
        "3d"
       ],
       "description": "model",
       "index": 1,
       "layout": "IPY_MODEL_dc9b2fd2f53a40a29031dd96781ef514",
       "style": "IPY_MODEL_8200b00ac8174f8b913f4fb2f5aeb418"
      }
     },
     "9138d8a891bb4b6c8a15a1bfb8e4c597": {
      "model_module": "@jupyter-widgets/controls",
      "model_module_version": "1.2.0",
      "model_name": "DropdownModel",
      "state": {
       "_options_labels": [
        "Identity",
        "Cg",
        "Gaussian"
       ],
       "description": "find filter",
       "index": 1,
       "layout": "IPY_MODEL_94a41668fabf46d19064c77d567daade",
       "style": "IPY_MODEL_34ae739732e64f14943fb575fb8acb08"
      }
     },
     "914e34b1d579477a999a5cd71464a7f4": {
      "model_module": "@jupyter-widgets/base",
      "model_module_version": "1.0.0",
      "model_name": "LayoutModel",
      "state": {
       "width": "75%"
      }
     },
     "916639153d57402f8b01fece3aade51d": {
      "model_module": "@jupyter-widgets/controls",
      "model_module_version": "1.2.0",
      "model_name": "DescriptionStyleModel",
      "state": {
       "description_width": ""
      }
     },
     "917606e537914db69ef6a9a8c9542c4e": {
      "model_module": "@jupyter-widgets/controls",
      "model_module_version": "1.2.0",
      "model_name": "DescriptionStyleModel",
      "state": {
       "description_width": ""
      }
     },
     "91965d064d4e404fb585454f0d66f835": {
      "model_module": "@jupyter-widgets/controls",
      "model_module_version": "1.2.0",
      "model_name": "VBoxModel",
      "state": {
       "children": [
        "IPY_MODEL_f4b1ca26edcd4aeba20d0a79cfd32d91",
        "IPY_MODEL_9dc0b1c84fd74a2b8b39ec91bcc1e1e7",
        "IPY_MODEL_89d8894014ba4cf4a21db7afed9d625e",
        "IPY_MODEL_3f9418e628d24e748890f5c4dda6ace0",
        "IPY_MODEL_0ec48eb6111c4e2d84fcf0f14db3e192",
        "IPY_MODEL_3a2d6fdf137f40619d5b0e4ea9344a73"
       ],
       "layout": "IPY_MODEL_7352c66be8614d1fab680d28cd01c428"
      }
     },
     "91bc4b10676e4c61858563567dd750ca": {
      "model_module": "@jupyter-widgets/controls",
      "model_module_version": "1.2.0",
      "model_name": "DescriptionStyleModel",
      "state": {
       "description_width": ""
      }
     },
     "91e07288880e4ec1acbb5ce39898e869": {
      "model_module": "@jupyter-widgets/controls",
      "model_module_version": "1.2.0",
      "model_name": "IntRangeSliderModel",
      "state": {
       "_model_name": "IntRangeSliderModel",
       "_view_name": "IntRangeSliderView",
       "layout": "IPY_MODEL_5333a79a55cc45c49ec238230d529949",
       "max": 65535,
       "style": "IPY_MODEL_3560dd9389c3463f86819f0c6634d24c",
       "value": [
        288,
        891
       ]
      }
     },
     "91e79b1b840744d9b854fdd8077678e3": {
      "model_module": "@jupyter-widgets/base",
      "model_module_version": "1.0.0",
      "model_name": "LayoutModel",
      "state": {
       "width": "auto"
      }
     },
     "920cafbe294c4239bb9b2febbcf8b6c2": {
      "model_module": "@jupyter-widgets/base",
      "model_module_version": "1.0.0",
      "model_name": "LayoutModel",
      "state": {}
     },
     "921181737b0045eb8e603a257dd72842": {
      "model_module": "@jupyter-widgets/controls",
      "model_module_version": "1.2.0",
      "model_name": "SliderStyleModel",
      "state": {
       "description_width": ""
      }
     },
     "923b980f12c8486992a45c2467f1e3fb": {
      "model_module": "@jupyter-widgets/controls",
      "model_module_version": "1.2.0",
      "model_name": "VBoxModel",
      "state": {
       "children": [
        "IPY_MODEL_a2342805aa8d4236af7b0cc074c489bc",
        "IPY_MODEL_c838d53e5add40f09d6caa9df248bd69",
        "IPY_MODEL_dea425607c3c4f77828d2dd2c9b30da5"
       ],
       "layout": "IPY_MODEL_65104cf6ab1c41809e71500f9e9981a8"
      }
     },
     "9258a5204c544f49bff0a37766c614e7": {
      "model_module": "@jupyter-widgets/base",
      "model_module_version": "1.0.0",
      "model_name": "LayoutModel",
      "state": {}
     },
     "9281a656a23d43bf85a38bb834ee710c": {
      "model_module": "@jupyter-widgets/controls",
      "model_module_version": "1.2.0",
      "model_name": "CheckboxModel",
      "state": {
       "description": "Show loc.",
       "disabled": false,
       "indent": false,
       "layout": "IPY_MODEL_f50e9f5e514d4963ba51a75e6d336b29",
       "style": "IPY_MODEL_5e012965fda74d719e889094e173e8de",
       "value": true
      }
     },
     "92b09dfd88004c9e8778def1c9f699a8": {
      "model_module": "@jupyter-widgets/base",
      "model_module_version": "1.0.0",
      "model_name": "LayoutModel",
      "state": {}
     },
     "92c035acd4c94c8f825860b4865061a3": {
      "model_module": "@jupyter-widgets/controls",
      "model_module_version": "1.2.0",
      "model_name": "DescriptionStyleModel",
      "state": {
       "description_width": ""
      }
     },
     "932e06afd8a8412d8d84c05ece0810d7": {
      "model_module": "@jupyter-widgets/base",
      "model_module_version": "1.0.0",
      "model_name": "LayoutModel",
      "state": {}
     },
     "93997ff8b3ac48d5b8db285ff78a313d": {
      "model_module": "@jupyter-widgets/controls",
      "model_module_version": "1.2.0",
      "model_name": "FloatTextModel",
      "state": {
       "description": "min.",
       "layout": "IPY_MODEL_b1da71adf5fc4a4fb2dc775a70522d5e",
       "step": 0.1,
       "style": "IPY_MODEL_d724312b449143348409eb572e8beb38",
       "value": 0.5
      }
     },
     "93b9e5519cb747339a8132d5eb7d4762": {
      "model_module": "@jupyter-widgets/base",
      "model_module_version": "1.0.0",
      "model_name": "LayoutModel",
      "state": {}
     },
     "93f07b84d3e64ff991362ae79ce94c8e": {
      "model_module": "@jupyter-widgets/controls",
      "model_module_version": "1.2.0",
      "model_name": "DescriptionStyleModel",
      "state": {
       "description_width": ""
      }
     },
     "94113de96d1d4309b400da8d8abf3c04": {
      "model_module": "@jupyter-widgets/controls",
      "model_module_version": "1.2.0",
      "model_name": "VBoxModel",
      "state": {
       "children": [
        "IPY_MODEL_874f056b41604b95a1022eb11cdd193c",
        "IPY_MODEL_0f1e09de113d4707bfbd3b083df35a52",
        "IPY_MODEL_5f7efa908d984902a244918b19c19735",
        "IPY_MODEL_897513c42c1949debca60cc5649d6001",
        "IPY_MODEL_72a18521cd684806844a0b871bc72c6a",
        "IPY_MODEL_ef11086c136645e6bcb1b062b9132344"
       ],
       "layout": "IPY_MODEL_a85f8868bd72443da6283c84785b6859"
      }
     },
     "9427081b205c46adabdbcf3c13f58b24": {
      "model_module": "@jupyter-widgets/base",
      "model_module_version": "1.0.0",
      "model_name": "LayoutModel",
      "state": {}
     },
     "944e2ebea9424aefbe1005fbcfdc0b3d": {
      "model_module": "@jupyter-widgets/base",
      "model_module_version": "1.0.0",
      "model_name": "LayoutModel",
      "state": {
       "display": "none"
      }
     },
     "946af716b9914b46ba07d1bbcdc37da6": {
      "model_module": "@jupyter-widgets/controls",
      "model_module_version": "1.2.0",
      "model_name": "SliderStyleModel",
      "state": {
       "description_width": ""
      }
     },
     "9484f4f26805468c8f787a313c37e4a3": {
      "model_module": "@jupyter-widgets/base",
      "model_module_version": "1.0.0",
      "model_name": "LayoutModel",
      "state": {}
     },
     "9488c92fc19e478491c10ae5c8ac6ad4": {
      "model_module": "@jupyter-widgets/base",
      "model_module_version": "1.0.0",
      "model_name": "LayoutModel",
      "state": {
       "display": "none"
      }
     },
     "94a04b48808646259dae3c75bf1e471a": {
      "model_module": "@jupyter-widgets/controls",
      "model_module_version": "1.2.0",
      "model_name": "DescriptionStyleModel",
      "state": {
       "description_width": ""
      }
     },
     "94a41668fabf46d19064c77d567daade": {
      "model_module": "@jupyter-widgets/base",
      "model_module_version": "1.0.0",
      "model_name": "LayoutModel",
      "state": {}
     },
     "94aeddc830d34daaa6518c6373b3ad59": {
      "model_module": "@jupyter-widgets/controls",
      "model_module_version": "1.2.0",
      "model_name": "BoundedIntTextModel",
      "state": {
       "description": "frame",
       "layout": "IPY_MODEL_2b58c109e6ac46239d4f9d6bdda564c4",
       "max": 0,
       "style": "IPY_MODEL_770d17bacf144e8aa53f0f05f9f3b50a"
      }
     },
     "94c13257598e4e7e88ea93fb93ad8488": {
      "model_module": "@jupyter-widgets/controls",
      "model_module_version": "1.2.0",
      "model_name": "DescriptionStyleModel",
      "state": {
       "description_width": ""
      }
     },
     "94d8a07cfa2b403dad859520ef2160c1": {
      "model_module": "@jupyter-widgets/controls",
      "model_module_version": "1.2.0",
      "model_name": "HBoxModel",
      "state": {
       "children": [
        "IPY_MODEL_71fc787b64ba42bea43c4809f022fbf0",
        "IPY_MODEL_282166fd839b46a8975d5295b184eda0"
       ],
       "layout": "IPY_MODEL_12980f81724142febe19018a4167f93d"
      }
     },
     "94f4193040594a02ae652bd3d3e3d594": {
      "model_module": "@jupyter-widgets/controls",
      "model_module_version": "1.2.0",
      "model_name": "DescriptionStyleModel",
      "state": {
       "description_width": ""
      }
     },
     "9524dc61fde742a9bac5f244577b797a": {
      "model_module": "@jupyter-widgets/base",
      "model_module_version": "1.0.0",
      "model_name": "LayoutModel",
      "state": {
       "width": "auto"
      }
     },
     "952d0c8e4861453a846be79d5c802d70": {
      "model_module": "@jupyter-widgets/base",
      "model_module_version": "1.0.0",
      "model_name": "LayoutModel",
      "state": {}
     },
     "955beeb69d4544638a89c228bc8f7b5c": {
      "model_module": "@jupyter-widgets/base",
      "model_module_version": "1.0.0",
      "model_name": "LayoutModel",
      "state": {}
     },
     "958e349bb2f843249adb8d750bd6ce15": {
      "model_module": "@jupyter-widgets/base",
      "model_module_version": "1.0.0",
      "model_name": "LayoutModel",
      "state": {}
     },
     "95f7c8157bf64759832ddcc4b2e44fed": {
      "model_module": "@jupyter-widgets/controls",
      "model_module_version": "1.2.0",
      "model_name": "DescriptionStyleModel",
      "state": {
       "description_width": ""
      }
     },
     "96306988e5d94606a1f1a51d0796167d": {
      "model_module": "@jupyter-widgets/base",
      "model_module_version": "1.0.0",
      "model_name": "LayoutModel",
      "state": {
       "width": "100%"
      }
     },
     "963fcc50330b45d085af26165f78fcfd": {
      "model_module": "@jupyter-widgets/controls",
      "model_module_version": "1.2.0",
      "model_name": "IntTextModel",
      "state": {
       "description": "feat. size",
       "layout": "IPY_MODEL_d37c3c26d37b4853b33e5892e85b76f3",
       "step": 1,
       "style": "IPY_MODEL_d790fccb856d4eb0ac598b39495ac337",
       "value": 3
      }
     },
     "96506e07324c4510b46d91e7e827b24b": {
      "model_module": "@jupyter-widgets/controls",
      "model_module_version": "1.2.0",
      "model_name": "DescriptionStyleModel",
      "state": {
       "description_width": ""
      }
     },
     "96556a9c35bf483a814b85604840b2e5": {
      "model_module": "@jupyter-widgets/controls",
      "model_module_version": "1.2.0",
      "model_name": "DescriptionStyleModel",
      "state": {
       "description_width": ""
      }
     },
     "967d6e4a08b54b6a8c9f79d6a8d495ab": {
      "model_module": "@jupyter-widgets/base",
      "model_module_version": "1.0.0",
      "model_name": "LayoutModel",
      "state": {
       "display": "none"
      }
     },
     "96c75463f6154453969f9a34b12ad577": {
      "model_module": "@jupyter-widgets/controls",
      "model_module_version": "1.2.0",
      "model_name": "DescriptionStyleModel",
      "state": {
       "description_width": ""
      }
     },
     "96cc0367d7534bdda87c1689c2577662": {
      "model_module": "@jupyter-widgets/controls",
      "model_module_version": "1.2.0",
      "model_name": "CheckboxModel",
      "state": {
       "description": "Size range",
       "disabled": false,
       "indent": false,
       "layout": "IPY_MODEL_d849f8b455314dd9bff70caa8a14f535",
       "style": "IPY_MODEL_0c124c81a4ff4f639e468eb91b806fcc",
       "value": false
      }
     },
     "96d1269aed614efa9f8cc6f05200bace": {
      "model_module": "@jupyter-widgets/base",
      "model_module_version": "1.0.0",
      "model_name": "LayoutModel",
      "state": {
       "height": "150px",
       "width": "100%"
      }
     },
     "970b112625964fd78495158398671b0e": {
      "model_module": "@jupyter-widgets/controls",
      "model_module_version": "1.2.0",
      "model_name": "DescriptionStyleModel",
      "state": {
       "description_width": ""
      }
     },
     "9740de8672ba4075ba979d71501a1f50": {
      "model_module": "@jupyter-widgets/controls",
      "model_module_version": "1.2.0",
      "model_name": "DescriptionStyleModel",
      "state": {
       "description_width": ""
      }
     },
     "9781822393ab436f832e0374c469d0c8": {
      "model_module": "@jupyter-widgets/base",
      "model_module_version": "1.0.0",
      "model_name": "LayoutModel",
      "state": {
       "display": "flex",
       "flex_flow": "column wrap",
       "width": "66%"
      }
     },
     "97b53a45b6294741ac24415026d69677": {
      "model_module": "@jupyter-widgets/controls",
      "model_module_version": "1.2.0",
      "model_name": "DescriptionStyleModel",
      "state": {
       "description_width": ""
      }
     },
     "97f6d85fbe0b4e66a9a553343ca32256": {
      "model_module": "@jupyter-widgets/base",
      "model_module_version": "1.0.0",
      "model_name": "LayoutModel",
      "state": {}
     },
     "97f9733d2c474b21ba686340313e78ef": {
      "model_module": "@jupyter-widgets/controls",
      "model_module_version": "1.2.0",
      "model_name": "IntRangeSliderModel",
      "state": {
       "_model_name": "IntRangeSliderModel",
       "_view_name": "IntRangeSliderView",
       "layout": "IPY_MODEL_ba4b38a72c384dad96d19ead478c0aba",
       "max": 65535,
       "style": "IPY_MODEL_707a10ea55034a038f0ae84fe286cc49",
       "value": [
        134,
        25393
       ]
      }
     },
     "9859e0a4f72b43af9a1a7f26e9c2eb1d": {
      "model_module": "@jupyter-widgets/base",
      "model_module_version": "1.0.0",
      "model_name": "LayoutModel",
      "state": {
       "height": "150px",
       "width": "100%"
      }
     },
     "98665b49c57f49a196bb7bd30a48840d": {
      "model_module": "@jupyter-widgets/base",
      "model_module_version": "1.0.0",
      "model_name": "LayoutModel",
      "state": {}
     },
     "98a819d500ca469595196e98276ee70c": {
      "model_module": "@jupyter-widgets/base",
      "model_module_version": "1.0.0",
      "model_name": "LayoutModel",
      "state": {
       "width": "100%"
      }
     },
     "98c40fa797494ee994e63aebeff97239": {
      "model_module": "@jupyter-widgets/controls",
      "model_module_version": "1.2.0",
      "model_name": "CheckboxModel",
      "state": {
       "description": "Show loc.",
       "disabled": false,
       "indent": false,
       "layout": "IPY_MODEL_bce89a422b444942868646b14b761ac3",
       "style": "IPY_MODEL_19babbab651e40e7b31d69f0933dcd97",
       "value": true
      }
     },
     "98d89063aebc425cabee62a5f8cf420e": {
      "model_module": "@jupyter-widgets/controls",
      "model_module_version": "1.2.0",
      "model_name": "LabelModel",
      "state": {
       "layout": "IPY_MODEL_912e622704314bf5bdd8598a1a809195",
       "style": "IPY_MODEL_60a9c1ea4c26432ea0ae7fdd3a5c2026",
       "value": "Tracking ctrl-H57/no-cells_SAv-100k_SSS-ctrl-H57-50k_029_.SPE (213/213)"
      }
     },
     "9911ce34f11f43ec81604a8e6e1ae269": {
      "model_module": "@jupyter-widgets/controls",
      "model_module_version": "1.2.0",
      "model_name": "IntTextModel",
      "state": {
       "description": "feat. size",
       "layout": "IPY_MODEL_9071443fbf604febaa69a42219d26e73",
       "step": 1,
       "style": "IPY_MODEL_0bb803444c5846469a6bf6be5e47a7e4",
       "value": 3
      }
     },
     "9947c25988e0400daccfea90915c9ee2": {
      "model_module": "@jupyter-widgets/controls",
      "model_module_version": "1.2.0",
      "model_name": "DescriptionStyleModel",
      "state": {
       "description_width": ""
      }
     },
     "99804c67a2dc4f31b98caced0eb5e5ec": {
      "model_module": "@jupyter-widgets/controls",
      "model_module_version": "1.2.0",
      "model_name": "ButtonModel",
      "state": {
       "description": "Auto",
       "layout": "IPY_MODEL_b2d702bc464b437fa34a4c0765de09df",
       "style": "IPY_MODEL_f8541c4584d14f89aaa0aa54e92e7244"
      }
     },
     "999925651d7242988684fba28c027481": {
      "model_module": "@jupyter-widgets/controls",
      "model_module_version": "1.2.0",
      "model_name": "IntTextModel",
      "state": {
       "description": "feat. size",
       "layout": "IPY_MODEL_3c29b07ceaa2490b940db8fc6f9eff30",
       "step": 1,
       "style": "IPY_MODEL_5294824b870b4d97bf697a93fce654d2",
       "value": 3
      }
     },
     "99ac8c78982f43ed9a357414fce0e531": {
      "model_module": "@jupyter-widgets/controls",
      "model_module_version": "1.2.0",
      "model_name": "VBoxModel",
      "state": {
       "children": [
        "IPY_MODEL_8c4bf6b5ba5a4628b6b2b222f16f06ec",
        "IPY_MODEL_90b98469181e4b4891ca28c13a27c2d8",
        "IPY_MODEL_e1a105091162443aaadaede73df61fab"
       ],
       "layout": "IPY_MODEL_8b1e427c35654164ae46d5138758bafc"
      }
     },
     "99c464f01fd644c0a79237b476adc7af": {
      "model_module": "@jupyter-widgets/controls",
      "model_module_version": "1.2.0",
      "model_name": "DescriptionStyleModel",
      "state": {
       "description_width": ""
      }
     },
     "99ef0f7e3fd24774b0c3d6b38f0814d9": {
      "model_module": "@jupyter-widgets/controls",
      "model_module_version": "1.2.0",
      "model_name": "FloatTextModel",
      "state": {
       "layout": "IPY_MODEL_b4b87d2daf8d4354bc4aeded7bbb337a",
       "step": 0.1,
       "style": "IPY_MODEL_edd9c9425ed94f2195ebe182c687351a",
       "value": 1
      }
     },
     "99f1ee486e0e4c74905797cdf8833326": {
      "model_module": "@jupyter-widgets/base",
      "model_module_version": "1.0.0",
      "model_name": "LayoutModel",
      "state": {
       "display": "flex",
       "flex_flow": "column wrap",
       "width": "66%"
      }
     },
     "9a13d87c2d0e4accaae306bf2e17d6f8": {
      "model_module": "@jupyter-widgets/base",
      "model_module_version": "1.0.0",
      "model_name": "LayoutModel",
      "state": {}
     },
     "9a22aab825cb4dfdb18cfdf79c3177b5": {
      "model_module": "@jupyter-widgets/base",
      "model_module_version": "1.0.0",
      "model_name": "LayoutModel",
      "state": {
       "width": "auto"
      }
     },
     "9a5d6961b2a24084ac1439691cc73a7e": {
      "model_module": "@jupyter-widgets/controls",
      "model_module_version": "1.2.0",
      "model_name": "DescriptionStyleModel",
      "state": {
       "description_width": ""
      }
     },
     "9a5f9e52cc0b433c9be07791633d55fb": {
      "model_module": "@jupyter-widgets/controls",
      "model_module_version": "1.2.0",
      "model_name": "CheckboxModel",
      "state": {
       "description": "Min. distance",
       "disabled": false,
       "indent": false,
       "layout": "IPY_MODEL_b127d2a3cc3541b78a417709177e71a4",
       "style": "IPY_MODEL_fcf38aa1e3444f419749a2291f9d9561",
       "value": false
      }
     },
     "9a954b9891c644eba6660740314c3850": {
      "model_module": "@jupyter-widgets/base",
      "model_module_version": "1.0.0",
      "model_name": "LayoutModel",
      "state": {
       "display": "none"
      }
     },
     "9aca44609f2a49c7bd106e64bd51552d": {
      "model_module": "@jupyter-widgets/controls",
      "model_module_version": "1.2.0",
      "model_name": "DescriptionStyleModel",
      "state": {
       "description_width": ""
      }
     },
     "9aee29ab4cc848afaf842d2d5646e63a": {
      "model_module": "@jupyter-widgets/controls",
      "model_module_version": "1.2.0",
      "model_name": "VBoxModel",
      "state": {
       "children": [
        "IPY_MODEL_c13c87d8a61b400294b808a93d1b5eec",
        "IPY_MODEL_5aa0c9d1e5ab43acb48a9a4b2e234ec2"
       ],
       "layout": "IPY_MODEL_c0cb02d39b9b41a9a00970f9fd86b677"
      }
     },
     "9afd4d9e38e94b159e27835ab50dbb0b": {
      "model_module": "@jupyter-widgets/controls",
      "model_module_version": "1.2.0",
      "model_name": "ButtonModel",
      "state": {
       "description": "Auto",
       "layout": "IPY_MODEL_a5cd9ebb3bbe4ea698491469361608d4",
       "style": "IPY_MODEL_0cd50c8a59d14bb2ba55e998b7433045"
      }
     },
     "9afe321bb7c8441bac36317431dc9236": {
      "model_module": "@jupyter-widgets/base",
      "model_module_version": "1.0.0",
      "model_name": "LayoutModel",
      "state": {
       "width": "auto"
      }
     },
     "9b455933d6b64c72934aae3c812c8039": {
      "model_module": "@jupyter-widgets/base",
      "model_module_version": "1.0.0",
      "model_name": "LayoutModel",
      "state": {}
     },
     "9b53051365464343a586c20b7ee325f3": {
      "model_module": "@jupyter-widgets/base",
      "model_module_version": "1.0.0",
      "model_name": "LayoutModel",
      "state": {}
     },
     "9bae719b9229446abcc2fa83c9e02142": {
      "model_module": "@jupyter-widgets/controls",
      "model_module_version": "1.2.0",
      "model_name": "DescriptionStyleModel",
      "state": {
       "description_width": ""
      }
     },
     "9bd1f3791de44324b6571f819079f9b9": {
      "model_module": "@jupyter-widgets/controls",
      "model_module_version": "1.2.0",
      "model_name": "HBoxModel",
      "state": {
       "children": [
        "IPY_MODEL_694f9df0ed034285af749b747bf2bb72",
        "IPY_MODEL_7d13a996cd214e179de14b9f3f64a524"
       ],
       "layout": "IPY_MODEL_0d6a2440340e489fad4981a43b1605fb"
      }
     },
     "9c1237db10024290bd907058ca89ce61": {
      "model_module": "@jupyter-widgets/base",
      "model_module_version": "1.0.0",
      "model_name": "LayoutModel",
      "state": {
       "display": "none"
      }
     },
     "9c1c69452a7f4e77b69c536b081d48b4": {
      "model_module": "@jupyter-widgets/controls",
      "model_module_version": "1.2.0",
      "model_name": "CheckboxModel",
      "state": {
       "description": "Show loc.",
       "disabled": false,
       "indent": false,
       "layout": "IPY_MODEL_cbaef955669847aea4d6eeda772fc47f",
       "style": "IPY_MODEL_ea337e089ffe4346ad274bae74d547e6",
       "value": true
      }
     },
     "9c53dadb0022460fbbd471c74e179ac7": {
      "model_module": "@jupyter-widgets/base",
      "model_module_version": "1.0.0",
      "model_name": "LayoutModel",
      "state": {
       "display": "none"
      }
     },
     "9c5aa012a6e3431087ea07844a161eb2": {
      "model_module": "@jupyter-widgets/base",
      "model_module_version": "1.0.0",
      "model_name": "LayoutModel",
      "state": {
       "display": "none"
      }
     },
     "9cd8c13726d9400fb744a6ad4f4ee915": {
      "model_module": "@jupyter-widgets/controls",
      "model_module_version": "1.2.0",
      "model_name": "DescriptionStyleModel",
      "state": {
       "description_width": ""
      }
     },
     "9d4a9019dc9c48ee987d1e204cb5dfa8": {
      "model_module": "@jupyter-widgets/controls",
      "model_module_version": "1.2.0",
      "model_name": "DescriptionStyleModel",
      "state": {
       "description_width": ""
      }
     },
     "9d762642fa554e169ab393c2a204d6d9": {
      "model_module": "@jupyter-widgets/base",
      "model_module_version": "1.0.0",
      "model_name": "LayoutModel",
      "state": {
       "display": "none"
      }
     },
     "9dc0b1c84fd74a2b8b39ec91bcc1e1e7": {
      "model_module": "@jupyter-widgets/controls",
      "model_module_version": "1.2.0",
      "model_name": "DropdownModel",
      "state": {
       "_options_labels": [
        "2d_fixed",
        "2d",
        "3d"
       ],
       "description": "model",
       "index": 1,
       "layout": "IPY_MODEL_479b92295e7c465fbafbc723031a2bf4",
       "style": "IPY_MODEL_8a6b8ef7ce7f4b76b1c70a9cbec92a5f"
      }
     },
     "9dc7aaed167b4dd5969d056120e38a5c": {
      "model_module": "@jupyter-widgets/base",
      "model_module_version": "1.0.0",
      "model_name": "LayoutModel",
      "state": {}
     },
     "9df44ccbe9d64083b3a5dcdfa81c50fc": {
      "model_module": "@jupyter-widgets/controls",
      "model_module_version": "1.2.0",
      "model_name": "DescriptionStyleModel",
      "state": {
       "description_width": ""
      }
     },
     "9e11f1e5ce9c4af2b3b3be687dd64a61": {
      "model_module": "@jupyter-widgets/controls",
      "model_module_version": "1.2.0",
      "model_name": "DropdownModel",
      "state": {
       "_options_labels": [
        "2d_fixed",
        "2d",
        "3d"
       ],
       "description": "model",
       "index": 1,
       "layout": "IPY_MODEL_8b6931748a42409d884c4454d3144696",
       "style": "IPY_MODEL_69e2f158e3144f9e8cbbc34f66df13fc"
      }
     },
     "9e4ae6a9292d4d9fbf87d5349ce243a7": {
      "model_module": "@jupyter-widgets/controls",
      "model_module_version": "1.2.0",
      "model_name": "SelectModel",
      "state": {
       "_options_labels": [
        "data/beads/beads_000_.SPE",
        "data/beads/beads_001_.SPE",
        "data/beads/beads_002_.SPE",
        "data/beads/beads_003_.SPE",
        "data/beads/beads_004_.SPE",
        "data/beads/beads_005_.SPE",
        "data/beads/beads_006_.SPE",
        "data/beads/beads_007_.SPE",
        "data/beads/beads_008_.SPE",
        "data/beads/beads_009_.SPE"
       ],
       "index": 0,
       "layout": "IPY_MODEL_4f60f460a5874e3e85ec8d90b8d1d860",
       "style": "IPY_MODEL_80a9910d37f34e0d9f9bca42f24e1a37"
      }
     },
     "9edbea2a76a24bde873325ba6c8d66cb": {
      "model_module": "@jupyter-widgets/controls",
      "model_module_version": "1.2.0",
      "model_name": "DescriptionStyleModel",
      "state": {
       "description_width": ""
      }
     },
     "9eefa54f1b744cc7b4b48ca06b4b0279": {
      "model_module": "@jupyter-widgets/controls",
      "model_module_version": "1.2.0",
      "model_name": "HBoxModel",
      "state": {
       "children": [
        "IPY_MODEL_cf9cc20b63d047b99a04d38292f2ba64",
        "IPY_MODEL_beadb326477547afa2bb70de10978a4d"
       ],
       "layout": "IPY_MODEL_3a6678335a474892a86e82b0edae6bbf"
      }
     },
     "9f26e9bc88f3473ebf794e68fa66a789": {
      "model_module": "@jupyter-widgets/base",
      "model_module_version": "1.0.0",
      "model_name": "LayoutModel",
      "state": {}
     },
     "9f40e8bad80442dcaece2e410a1f9e6f": {
      "model_module": "@jupyter-widgets/controls",
      "model_module_version": "1.2.0",
      "model_name": "VBoxModel",
      "state": {
       "children": [
        "IPY_MODEL_80755e8cd72a466ba04fa2342cc4a2c4",
        "IPY_MODEL_db401807dd224cf9b09e0b6bfce6b878",
        "IPY_MODEL_deb869177dc842ffbca85924bb7b3bac"
       ],
       "layout": "IPY_MODEL_5e229349f7fe437488060da11ce4b070"
      }
     },
     "9f4b337158754cf8a1e15e2ec2c8a65c": {
      "model_module": "@jupyter-widgets/base",
      "model_module_version": "1.0.0",
      "model_name": "LayoutModel",
      "state": {}
     },
     "9f5cec8de4394f3cb422e340329abbd4": {
      "model_module": "@jupyter-widgets/controls",
      "model_module_version": "1.2.0",
      "model_name": "FloatTextModel",
      "state": {
       "layout": "IPY_MODEL_6f8df1c5d88846d986fed676f466cb6c",
       "step": 0.1,
       "style": "IPY_MODEL_09c44b7191ff4e899246f49643253bb7",
       "value": 1
      }
     },
     "9fdbc4fb133d47bdab2d81519a664f88": {
      "model_module": "@jupyter-widgets/controls",
      "model_module_version": "1.2.0",
      "model_name": "DescriptionStyleModel",
      "state": {
       "description_width": ""
      }
     },
     "a00cbf50657b424287aeafdf5cff1a05": {
      "model_module": "@jupyter-widgets/controls",
      "model_module_version": "1.2.0",
      "model_name": "HBoxModel",
      "state": {
       "children": [
        "IPY_MODEL_3a286e7c794c499eabcb6dfa3bf4a97b",
        "IPY_MODEL_99ef0f7e3fd24774b0c3d6b38f0814d9"
       ],
       "layout": "IPY_MODEL_eea8ebc84b0f4de58a6dc8e82012bc74"
      }
     },
     "a07147f711e7440981b4726a70f1a092": {
      "model_module": "@jupyter-widgets/controls",
      "model_module_version": "1.2.0",
      "model_name": "CheckboxModel",
      "state": {
       "description": "Show loc.",
       "disabled": false,
       "indent": false,
       "layout": "IPY_MODEL_3a44ae3acfe44081a8ddc69eca17b29a",
       "style": "IPY_MODEL_b8ea3b7b0dca4273866f1b5b92cca58b",
       "value": true
      }
     },
     "a0868406e0164228a26117e7738fa06a": {
      "model_module": "@jupyter-widgets/controls",
      "model_module_version": "1.2.0",
      "model_name": "FloatTextModel",
      "state": {
       "layout": "IPY_MODEL_8fb4b0fdb7c44e1ab8ed8e86e5f324f2",
       "step": 0.1,
       "style": "IPY_MODEL_1494528ace2c4c4db584278ebb8209ab",
       "value": 1
      }
     },
     "a0931920790f4838a3c589307e70e6ea": {
      "model_module": "@jupyter-widgets/controls",
      "model_module_version": "1.2.0",
      "model_name": "DescriptionStyleModel",
      "state": {
       "description_width": ""
      }
     },
     "a0a29a1f59f34253bb259655681ce3bd": {
      "model_module": "@jupyter-widgets/controls",
      "model_module_version": "1.2.0",
      "model_name": "CheckboxModel",
      "state": {
       "description": "Show loc.",
       "disabled": false,
       "indent": false,
       "layout": "IPY_MODEL_fa9931ed61664d8fa35d9ebc5ad52aab",
       "style": "IPY_MODEL_742747435e2244c88f233fdfbe44a6bb",
       "value": true
      }
     },
     "a0ca00acc0784f1b80786a8d0fc73831": {
      "model_module": "@jupyter-widgets/base",
      "model_module_version": "1.0.0",
      "model_name": "LayoutModel",
      "state": {
       "display": "inline"
      }
     },
     "a0e18e07084b42d091852d2854f659b3": {
      "model_module": "@jupyter-widgets/base",
      "model_module_version": "1.0.0",
      "model_name": "LayoutModel",
      "state": {}
     },
     "a0ee102307534b91900803088036a2c9": {
      "model_module": "@jupyter-widgets/controls",
      "model_module_version": "1.2.0",
      "model_name": "DescriptionStyleModel",
      "state": {
       "description_width": ""
      }
     },
     "a15fe1a85d9e4ec5b001e32cb91d0c65": {
      "model_module": "@jupyter-widgets/base",
      "model_module_version": "1.0.0",
      "model_name": "LayoutModel",
      "state": {}
     },
     "a174c0b7b1b64f9ba03c41e6405c2c14": {
      "model_module": "@jupyter-widgets/base",
      "model_module_version": "1.0.0",
      "model_name": "LayoutModel",
      "state": {
       "display": "none"
      }
     },
     "a1bbc8f26c4e42c4ac4d6fcbc07a0d28": {
      "model_module": "@jupyter-widgets/controls",
      "model_module_version": "1.2.0",
      "model_name": "HBoxModel",
      "state": {
       "children": [
        "IPY_MODEL_72dbc3b77baf4e64be7a12988ac9fa4c",
        "IPY_MODEL_7d37587997e74c4a886352b548618d25",
        "IPY_MODEL_17fffd34af4f439a926cb172a59017fd"
       ],
       "layout": "IPY_MODEL_2a854f57f160446f88868cdfeebd1b15"
      }
     },
     "a1fee939d02b4c3cbeb542df8cf1eb43": {
      "model_module": "@jupyter-widgets/controls",
      "model_module_version": "1.2.0",
      "model_name": "DropdownModel",
      "state": {
       "_options_labels": [
        "2d_fixed",
        "2d",
        "3d"
       ],
       "description": "model",
       "index": 1,
       "layout": "IPY_MODEL_1d9a93a9f6c24b018ce1963bb58d97fe",
       "style": "IPY_MODEL_02a6d4c29bb34dc0bc5e9aed5d5a181c"
      }
     },
     "a2342805aa8d4236af7b0cc074c489bc": {
      "model_module": "@jupyter-widgets/controls",
      "model_module_version": "1.2.0",
      "model_name": "CheckboxModel",
      "state": {
       "description": "Size range",
       "disabled": false,
       "indent": false,
       "layout": "IPY_MODEL_f61688f97ad44722bafc175cd5df1915",
       "style": "IPY_MODEL_1140ea0dbb964fe495fb0ac563e9eb3c",
       "value": false
      }
     },
     "a2391440da5a4bd8a2d990b49a348864": {
      "model_module": "@jupyter-widgets/base",
      "model_module_version": "1.0.0",
      "model_name": "LayoutModel",
      "state": {
       "display": "none"
      }
     },
     "a2616790db824ffeb65d14eceec14934": {
      "model_module": "@jupyter-widgets/base",
      "model_module_version": "1.0.0",
      "model_name": "LayoutModel",
      "state": {
       "width": "auto"
      }
     },
     "a276506d90a345b8bcb85fd8e7f7e8aa": {
      "model_module": "@jupyter-widgets/controls",
      "model_module_version": "1.2.0",
      "model_name": "DropdownModel",
      "state": {
       "_options_labels": [
        "2d_fixed",
        "2d",
        "3d"
       ],
       "description": "model",
       "index": 1,
       "layout": "IPY_MODEL_d6709a2270e74c0eb5c06bd68f74a16c",
       "style": "IPY_MODEL_eb5451efc5f34fe5a9562b3a22bd3ccc"
      }
     },
     "a28c038042c54aa189617d6ce8c023b4": {
      "model_module": "@jupyter-widgets/controls",
      "model_module_version": "1.2.0",
      "model_name": "FloatTextModel",
      "state": {
       "description": "threshold",
       "layout": "IPY_MODEL_d5d2422e7b104a0e914acbd0deb93f42",
       "step": 10,
       "style": "IPY_MODEL_63a3ba1e33884d798eaae807bb0dc402",
       "value": 100
      }
     },
     "a291137d07614d41942fc48dc043ba1e": {
      "model_module": "@jupyter-widgets/controls",
      "model_module_version": "1.2.0",
      "model_name": "DescriptionStyleModel",
      "state": {
       "description_width": ""
      }
     },
     "a29e98e632534b93a0297f84f985a715": {
      "model_module": "@jupyter-widgets/controls",
      "model_module_version": "1.2.0",
      "model_name": "DropdownModel",
      "state": {
       "_options_labels": [
        "2d_fixed",
        "2d",
        "3d"
       ],
       "description": "model",
       "index": 1,
       "layout": "IPY_MODEL_698c4945726d457796659ad3bcebc0a7",
       "style": "IPY_MODEL_d46998510eb243148f4ee26efbf2e7c7"
      }
     },
     "a2a42213226e42ce8bcd22c543fd9505": {
      "model_module": "@jupyter-widgets/controls",
      "model_module_version": "1.2.0",
      "model_name": "DropdownModel",
      "state": {
       "_options_labels": [
        "2d_fixed",
        "2d",
        "3d"
       ],
       "description": "model",
       "index": 1,
       "layout": "IPY_MODEL_cfb64c186bc4449b9bc297a976404885",
       "style": "IPY_MODEL_fb224f5830d64ae0b1b5740e8d1697e3"
      }
     },
     "a2c461319e1f437fb7a80bfae2b804fd": {
      "model_module": "@jupyter-widgets/controls",
      "model_module_version": "1.2.0",
      "model_name": "IntTextModel",
      "state": {
       "description": "feat. size",
       "layout": "IPY_MODEL_c1efcae4c8094bcfaffe2b2e7f27bf45",
       "step": 1,
       "style": "IPY_MODEL_56942cc7612b425c87cf5ac589735428",
       "value": 3
      }
     },
     "a335da71e80246ae9495b090f1d55e3d": {
      "model_module": "@jupyter-widgets/controls",
      "model_module_version": "1.2.0",
      "model_name": "DescriptionStyleModel",
      "state": {
       "description_width": ""
      }
     },
     "a361a63fde3643099fd6c21149f906fc": {
      "model_module": "@jupyter-widgets/controls",
      "model_module_version": "1.2.0",
      "model_name": "CheckboxModel",
      "state": {
       "description": "Size range",
       "disabled": false,
       "indent": false,
       "layout": "IPY_MODEL_82583e58509042368bf8c21bee5086e4",
       "style": "IPY_MODEL_af28a585ea7c4131b6d9a7d34018875f",
       "value": false
      }
     },
     "a3d10057cfce4fd59e9e4ac70cd279fa": {
      "model_module": "@jupyter-widgets/controls",
      "model_module_version": "1.2.0",
      "model_name": "FloatTextModel",
      "state": {
       "description": "threshold",
       "layout": "IPY_MODEL_9b455933d6b64c72934aae3c812c8039",
       "step": 10,
       "style": "IPY_MODEL_27bf2951473a4cca94241d9317e7848f",
       "value": 100
      }
     },
     "a40f15a73d6e4d00bb1f193a2595e695": {
      "model_module": "@jupyter-widgets/controls",
      "model_module_version": "1.2.0",
      "model_name": "DescriptionStyleModel",
      "state": {
       "description_width": ""
      }
     },
     "a431992d061d4c7fa482f577ee2b5f45": {
      "model_module": "@jupyter-widgets/controls",
      "model_module_version": "1.2.0",
      "model_name": "HBoxModel",
      "state": {
       "children": [
        "IPY_MODEL_34934ccbd56f4acbbdc9e1b907e98de6",
        "IPY_MODEL_7caf946b93e8415dbb5cfded06c588a9"
       ],
       "layout": "IPY_MODEL_7737dfaaec96414183ebf6cf4492783d"
      }
     },
     "a44058bc020a4cfabeacab01e0c69d3c": {
      "model_module": "@jupyter-widgets/controls",
      "model_module_version": "1.2.0",
      "model_name": "DescriptionStyleModel",
      "state": {
       "description_width": ""
      }
     },
     "a454f90010344f9da575044b7c3b7350": {
      "model_module": "@jupyter-widgets/base",
      "model_module_version": "1.0.0",
      "model_name": "LayoutModel",
      "state": {
       "border": "1px solid gray"
      }
     },
     "a479a55c7f3942fcb26410dc9f27870b": {
      "model_module": "@jupyter-widgets/controls",
      "model_module_version": "1.2.0",
      "model_name": "HBoxModel",
      "state": {
       "children": [
        "IPY_MODEL_fd7fe18ee1144d149ef454af8aed54f3",
        "IPY_MODEL_58667e49450448c6ae4c9a2f36f38b12"
       ],
       "layout": "IPY_MODEL_aae6a9f7c9b244fc8b20d7abaf74c191"
      }
     },
     "a4eecdd6eac148078794d26ec458ae2d": {
      "model_module": "@jupyter-widgets/controls",
      "model_module_version": "1.2.0",
      "model_name": "DescriptionStyleModel",
      "state": {
       "description_width": ""
      }
     },
     "a553962993694475941cc6124c45b647": {
      "model_module": "@jupyter-widgets/controls",
      "model_module_version": "1.2.0",
      "model_name": "HBoxModel",
      "state": {
       "children": [
        "IPY_MODEL_c6ad2c66e23145308004adb901174003",
        "IPY_MODEL_cb1c51b664d0470b879f08c7b64b382b"
       ],
       "layout": "IPY_MODEL_de8dd318d68f4b1eb8d39594928fba54"
      }
     },
     "a55b747a6bb54df489ee9ab51b54ae2f": {
      "model_module": "@jupyter-widgets/controls",
      "model_module_version": "1.2.0",
      "model_name": "CheckboxModel",
      "state": {
       "description": "Show loc.",
       "disabled": false,
       "indent": false,
       "layout": "IPY_MODEL_f80518817c07475ebeb84494733c55da",
       "style": "IPY_MODEL_96556a9c35bf483a814b85604840b2e5",
       "value": true
      }
     },
     "a58f4de4e10b4df4b9eb9fcf4feaf163": {
      "model_module": "@jupyter-widgets/base",
      "model_module_version": "1.0.0",
      "model_name": "LayoutModel",
      "state": {
       "width": "75%"
      }
     },
     "a5aef452aafc4979844c1c9e82fbe0db": {
      "model_module": "@jupyter-widgets/base",
      "model_module_version": "1.0.0",
      "model_name": "LayoutModel",
      "state": {}
     },
     "a5cd9ebb3bbe4ea698491469361608d4": {
      "model_module": "@jupyter-widgets/base",
      "model_module_version": "1.0.0",
      "model_name": "LayoutModel",
      "state": {}
     },
     "a5faeb5167ce47aea07efeb2e4a37cb7": {
      "model_module": "@jupyter-widgets/base",
      "model_module_version": "1.0.0",
      "model_name": "LayoutModel",
      "state": {
       "width": "75%"
      }
     },
     "a60a97a0997c4d61b56ed21f67dcdefa": {
      "model_module": "@jupyter-widgets/controls",
      "model_module_version": "1.2.0",
      "model_name": "CheckboxModel",
      "state": {
       "description": "Min. distance",
       "disabled": false,
       "indent": false,
       "layout": "IPY_MODEL_6d9ccba62da34714aca5f29ab9d4256c",
       "style": "IPY_MODEL_dba461e27a4f420da9fd5af4a5ee2dad",
       "value": false
      }
     },
     "a618d0b1bf9a4b6aaebbc4f56e910f8c": {
      "model_module": "@jupyter-widgets/base",
      "model_module_version": "1.0.0",
      "model_name": "LayoutModel",
      "state": {
       "width": "100%"
      }
     },
     "a643a4f08ce6486db2394f0d1673dd82": {
      "model_module": "@jupyter-widgets/base",
      "model_module_version": "1.0.0",
      "model_name": "LayoutModel",
      "state": {}
     },
     "a675c0c565574b6c8ceef6ac7ba5fbdc": {
      "model_module": "@jupyter-widgets/controls",
      "model_module_version": "1.2.0",
      "model_name": "FloatTextModel",
      "state": {
       "layout": "IPY_MODEL_0556af0fe8ce4c26887e936312cfee70",
       "step": 0.1,
       "style": "IPY_MODEL_04c134ec844f48518c4d43fadfc470b3",
       "value": 3
      }
     },
     "a6b8d0b30c6f4db184ed57078f711dff": {
      "model_module": "@jupyter-widgets/controls",
      "model_module_version": "1.2.0",
      "model_name": "BoundedIntTextModel",
      "state": {
       "description": "frame",
       "layout": "IPY_MODEL_eb85ee028e3b458b8c9f8e8945f5c950",
       "max": 49,
       "style": "IPY_MODEL_b58c8e2dcd0749fa99d7f25245da27a6"
      }
     },
     "a6d5cfc2bb1e4c3e8d2347b6facee790": {
      "model_module": "@jupyter-widgets/controls",
      "model_module_version": "1.2.0",
      "model_name": "DescriptionStyleModel",
      "state": {
       "description_width": ""
      }
     },
     "a793d2ff390c4cba8bba9a04ce7027fe": {
      "model_module": "@jupyter-widgets/controls",
      "model_module_version": "1.2.0",
      "model_name": "VBoxModel",
      "state": {
       "children": [
        "IPY_MODEL_bac1451325334616913ac648bdb007ff",
        "IPY_MODEL_87045e7c7a47485aa63dffd08040e2e1",
        "IPY_MODEL_f98ecea191d3469782b2fd05a91a4d66"
       ],
       "layout": "IPY_MODEL_1f95ca0f70c84935abba32f323d60216"
      }
     },
     "a79415927e1b4f129298f428353c8c70": {
      "model_module": "@jupyter-widgets/controls",
      "model_module_version": "1.2.0",
      "model_name": "DescriptionStyleModel",
      "state": {
       "description_width": ""
      }
     },
     "a7a93a3b5db14745a107ee7357a57a81": {
      "model_module": "@jupyter-widgets/base",
      "model_module_version": "1.0.0",
      "model_name": "LayoutModel",
      "state": {
       "display": "inline"
      }
     },
     "a7b19d4cf67e478589baafdeccf11344": {
      "model_module": "@jupyter-widgets/base",
      "model_module_version": "1.0.0",
      "model_name": "LayoutModel",
      "state": {
       "width": "auto"
      }
     },
     "a81a0c263b504dd097171b652cc38c56": {
      "model_module": "@jupyter-widgets/controls",
      "model_module_version": "1.2.0",
      "model_name": "DescriptionStyleModel",
      "state": {
       "description_width": ""
      }
     },
     "a83193a683334498a1967275c84acf79": {
      "model_module": "@jupyter-widgets/base",
      "model_module_version": "1.0.0",
      "model_name": "LayoutModel",
      "state": {}
     },
     "a83984f400c94bf6991daf533bb787bc": {
      "model_module": "@jupyter-widgets/controls",
      "model_module_version": "1.2.0",
      "model_name": "DescriptionStyleModel",
      "state": {
       "description_width": ""
      }
     },
     "a84219f788e443978c802281362621b5": {
      "model_module": "@jupyter-widgets/controls",
      "model_module_version": "1.2.0",
      "model_name": "FloatTextModel",
      "state": {
       "description": "radius",
       "layout": "IPY_MODEL_b7023a71516749418cd7b2acb31271a9",
       "step": 0.1,
       "style": "IPY_MODEL_41611cfe916d449eadd94ee06d3f57ae",
       "value": 1
      }
     },
     "a85f8868bd72443da6283c84785b6859": {
      "model_module": "@jupyter-widgets/base",
      "model_module_version": "1.0.0",
      "model_name": "LayoutModel",
      "state": {
       "display": "flex",
       "flex_flow": "column wrap",
       "width": "66%"
      }
     },
     "a8abbba0df0447ceb63ab913a797ce58": {
      "model_module": "@jupyter-widgets/controls",
      "model_module_version": "1.2.0",
      "model_name": "DescriptionStyleModel",
      "state": {
       "description_width": ""
      }
     },
     "a8c5946410a84233bcdf6b08b34dc3b3": {
      "model_module": "@jupyter-widgets/controls",
      "model_module_version": "1.2.0",
      "model_name": "FloatTextModel",
      "state": {
       "layout": "IPY_MODEL_1b620fd859a4480aa4f9e4c1eb031eb2",
       "step": 0.1,
       "style": "IPY_MODEL_916639153d57402f8b01fece3aade51d",
       "value": 1
      }
     },
     "a90c2c8136e54153aa578afefecb3ab1": {
      "model_module": "@jupyter-widgets/controls",
      "model_module_version": "1.2.0",
      "model_name": "DescriptionStyleModel",
      "state": {
       "description_width": ""
      }
     },
     "a9260d6530984155b08468659eee60ce": {
      "model_module": "@jupyter-widgets/controls",
      "model_module_version": "1.2.0",
      "model_name": "DescriptionStyleModel",
      "state": {
       "description_width": ""
      }
     },
     "a9344fbbc27443ecac484dfacd381265": {
      "model_module": "@jupyter-widgets/base",
      "model_module_version": "1.0.0",
      "model_name": "LayoutModel",
      "state": {}
     },
     "a93b0a99d293436297cf9bc57e0df4a6": {
      "model_module": "@jupyter-widgets/controls",
      "model_module_version": "1.2.0",
      "model_name": "DescriptionStyleModel",
      "state": {
       "description_width": ""
      }
     },
     "a9736066e5df4dcb9013c7a3c1688f78": {
      "model_module": "@jupyter-widgets/base",
      "model_module_version": "1.0.0",
      "model_name": "LayoutModel",
      "state": {}
     },
     "a9760e5cf2bb431e8291b5dd00bdc839": {
      "model_module": "@jupyter-widgets/base",
      "model_module_version": "1.0.0",
      "model_name": "LayoutModel",
      "state": {}
     },
     "a9d796c2935e4d48abfdfad8b2f07230": {
      "model_module": "@jupyter-widgets/base",
      "model_module_version": "1.0.0",
      "model_name": "LayoutModel",
      "state": {}
     },
     "a9d8db04f91f4a78885048e47fe7d975": {
      "model_module": "@jupyter-widgets/controls",
      "model_module_version": "1.2.0",
      "model_name": "FloatTextModel",
      "state": {
       "description": "radius",
       "layout": "IPY_MODEL_56a93a526453438f85be87de8c7470af",
       "step": 0.1,
       "style": "IPY_MODEL_6c4e0987eca84a5ba2cc1653427be79d",
       "value": 1
      }
     },
     "a9e6897cc4c3469b8c7059a067a847ea": {
      "model_module": "@jupyter-widgets/base",
      "model_module_version": "1.0.0",
      "model_name": "LayoutModel",
      "state": {
       "display": "flex",
       "flex_flow": "column wrap",
       "width": "66%"
      }
     },
     "aa24ebdabe454b5c926dedbd4652a7a5": {
      "model_module": "@jupyter-widgets/base",
      "model_module_version": "1.0.0",
      "model_name": "LayoutModel",
      "state": {
       "display": "none"
      }
     },
     "aa3ff12a54e4489591f72079127925f6": {
      "model_module": "@jupyter-widgets/base",
      "model_module_version": "1.0.0",
      "model_name": "LayoutModel",
      "state": {
       "width": "75%"
      }
     },
     "aa6ef432ab714360a1cccccddab24adf": {
      "model_module": "@jupyter-widgets/controls",
      "model_module_version": "1.2.0",
      "model_name": "FloatTextModel",
      "state": {
       "description": "threshold",
       "layout": "IPY_MODEL_cef17bc089aa4519b8aa5b0bc6fb5d77",
       "step": 10,
       "style": "IPY_MODEL_1f3056b0d82a448ebd9388e035c6b2eb",
       "value": 100
      }
     },
     "aa920e2886b64ce897d166dfe6ce7210": {
      "model_module": "@jupyter-widgets/base",
      "model_module_version": "1.0.0",
      "model_name": "LayoutModel",
      "state": {}
     },
     "aac67a092b404f4aa3513c7206fd2402": {
      "model_module": "@jupyter-widgets/controls",
      "model_module_version": "1.2.0",
      "model_name": "DescriptionStyleModel",
      "state": {
       "description_width": ""
      }
     },
     "aac9f45b45844ebead78d0105e3ee8bd": {
      "model_module": "@jupyter-widgets/controls",
      "model_module_version": "1.2.0",
      "model_name": "VBoxModel",
      "state": {
       "children": [
        "IPY_MODEL_f5fd633cce704a5986281c8d09df9bd9",
        "IPY_MODEL_856b29a83bc644f7b2b4e017960d1da3",
        "IPY_MODEL_b652dfbfd4214265ae3872e3f49c3b2f"
       ],
       "layout": "IPY_MODEL_ed7a81a126de4e08aa3a55b3e4fbfa4a"
      }
     },
     "aae6a9f7c9b244fc8b20d7abaf74c191": {
      "model_module": "@jupyter-widgets/base",
      "model_module_version": "1.0.0",
      "model_name": "LayoutModel",
      "state": {}
     },
     "aaef252f0f904c65bc3b1539ec5fda60": {
      "model_module": "@jupyter-widgets/controls",
      "model_module_version": "1.2.0",
      "model_name": "ButtonModel",
      "state": {
       "description": "Auto",
       "layout": "IPY_MODEL_2e8e52ae825e4c72986f6383f0aa0290",
       "style": "IPY_MODEL_b22e372906214ee5bb3d1007a4ccbdd6"
      }
     },
     "aaf69e05d407466fbe2eec239cc90280": {
      "model_module": "@jupyter-widgets/controls",
      "model_module_version": "1.2.0",
      "model_name": "FloatTextModel",
      "state": {
       "layout": "IPY_MODEL_07ac523a740a4fe68f24c1ab8535c730",
       "step": 0.1,
       "style": "IPY_MODEL_63c9ca94d8f84582ab880606d1851611",
       "value": 3
      }
     },
     "ab0cfbb92b6340f883a10373a0455392": {
      "model_module": "@jupyter-widgets/base",
      "model_module_version": "1.0.0",
      "model_name": "LayoutModel",
      "state": {
       "width": "auto"
      }
     },
     "ab316c8c91c44fa8aaa0cc813e57bfe0": {
      "model_module": "@jupyter-widgets/controls",
      "model_module_version": "1.2.0",
      "model_name": "VBoxModel",
      "state": {
       "children": [
        "IPY_MODEL_90a2efcdf54e436a95a036eb331dd6a6",
        "IPY_MODEL_7972ade17a9549aca2c729e88c1deecb",
        "IPY_MODEL_71ef8416d5164e26ad13d386265fb786"
       ],
       "layout": "IPY_MODEL_b779a4a37c6a4f399fb21a145bd6c38d"
      }
     },
     "ab4925d5106d478c95c5b37f1be7b6bc": {
      "model_module": "@jupyter-widgets/base",
      "model_module_version": "1.0.0",
      "model_name": "LayoutModel",
      "state": {
       "display": "flex",
       "flex_flow": "column wrap",
       "width": "66%"
      }
     },
     "ab78fe67db564683aec5835c7ecaa972": {
      "model_module": "@jupyter-widgets/controls",
      "model_module_version": "1.2.0",
      "model_name": "VBoxModel",
      "state": {
       "children": [
        "IPY_MODEL_8b26a592718c432381544ef50f1238c4",
        "IPY_MODEL_25609cd00cca4ad98a9f3d96ba3f9412",
        "IPY_MODEL_add3755b7dd04b8e9e54749f1f181aec"
       ],
       "layout": "IPY_MODEL_f2ae8795066b405d86ad6b62f338983a"
      }
     },
     "ab7a3e29338d4fde9471734de2214b6e": {
      "model_module": "@jupyter-widgets/base",
      "model_module_version": "1.0.0",
      "model_name": "LayoutModel",
      "state": {
       "display": "none"
      }
     },
     "ab8027fd81ce4cda9ea2e480101f6eda": {
      "model_module": "@jupyter-widgets/base",
      "model_module_version": "1.0.0",
      "model_name": "LayoutModel",
      "state": {}
     },
     "ab9309422cca470bb40a7c6d6ff4ef70": {
      "model_module": "@jupyter-widgets/controls",
      "model_module_version": "1.2.0",
      "model_name": "VBoxModel",
      "state": {
       "children": [
        "IPY_MODEL_e5f0b576dc474a79ba6dde69d2627e1e",
        "IPY_MODEL_9133c6044fa44763a8e9ed3a2cfc66c3",
        "IPY_MODEL_78a71abb23fb4f6a898bd1072b249131",
        "IPY_MODEL_50e9cd4466bc4c1da5b227a6467de70f",
        "IPY_MODEL_8cd31a6c9ff0466295c9f5b4db86a38d",
        "IPY_MODEL_c22b5f9b02324eb09eefa0fc3f053283"
       ],
       "layout": "IPY_MODEL_586359d9189148bc9b1870a5c0af9a02"
      }
     },
     "ac27177f41674d4e942fc6991d3fdff7": {
      "model_module": "@jupyter-widgets/controls",
      "model_module_version": "1.2.0",
      "model_name": "VBoxModel",
      "state": {
       "children": [
        "IPY_MODEL_4d29cd8e3b554f8a9af88a5ba888ffda",
        "IPY_MODEL_4698a6c0fe5f48868743f31af7dd1220",
        "IPY_MODEL_f17b48ffaafc4ac482e8809faaa834a8"
       ],
       "layout": "IPY_MODEL_b1cf244382884cc7b7b60059c2176e36"
      }
     },
     "ac3eb350b9ab429188d86a4f3b37e9c2": {
      "model_module": "@jupyter-widgets/base",
      "model_module_version": "1.0.0",
      "model_name": "LayoutModel",
      "state": {}
     },
     "acce2284551349c9bd0cb28aadc0ed58": {
      "model_module": "@jupyter-widgets/controls",
      "model_module_version": "1.2.0",
      "model_name": "DescriptionStyleModel",
      "state": {
       "description_width": ""
      }
     },
     "ad09e136c24c4419a07750758267dfd3": {
      "model_module": "@jupyter-widgets/controls",
      "model_module_version": "1.2.0",
      "model_name": "DropdownModel",
      "state": {
       "_options_labels": [
        "2d_fixed",
        "2d",
        "3d"
       ],
       "description": "model",
       "index": 1,
       "layout": "IPY_MODEL_0f6bb27f3b3e40e092dfb62abeb2476e",
       "style": "IPY_MODEL_200dd839b47e41ef964f190f00578135"
      }
     },
     "ad174e487e694b738f5f19e1e7128916": {
      "model_module": "@jupyter-widgets/controls",
      "model_module_version": "1.2.0",
      "model_name": "SliderStyleModel",
      "state": {
       "description_width": ""
      }
     },
     "ad796e7bca5a42e5a14af119f386b4f3": {
      "model_module": "@jupyter-widgets/controls",
      "model_module_version": "1.2.0",
      "model_name": "DescriptionStyleModel",
      "state": {
       "description_width": ""
      }
     },
     "ad7c1958d6964ab58ec5e260e9d13ef0": {
      "model_module": "@jupyter-widgets/controls",
      "model_module_version": "1.2.0",
      "model_name": "IntTextModel",
      "state": {
       "description": "feat. size",
       "layout": "IPY_MODEL_0957f0c2e0354c03bd87e808879cf3bb",
       "step": 1,
       "style": "IPY_MODEL_b835c5938556463d920bf178b1a8a77c",
       "value": 3
      }
     },
     "ad98c99d4b8a46948c2eb85e97d210f9": {
      "model_module": "@jupyter-widgets/controls",
      "model_module_version": "1.2.0",
      "model_name": "FloatTextModel",
      "state": {
       "layout": "IPY_MODEL_ed663a271ac945caa0969117f52a1111",
       "step": 0.1,
       "style": "IPY_MODEL_418ef43b5cf14e65bdf7ce484ec89c54",
       "value": 1
      }
     },
     "adc6e4587a314fd8afcde5d140a8acc1": {
      "model_module": "@jupyter-widgets/controls",
      "model_module_version": "1.2.0",
      "model_name": "CheckboxModel",
      "state": {
       "description": "Show loc.",
       "disabled": false,
       "indent": false,
       "layout": "IPY_MODEL_d8fd62f4c0324903a98d8f21f1eff2af",
       "style": "IPY_MODEL_b1310b209e714acd9df2b8ec60946b3c",
       "value": true
      }
     },
     "add3755b7dd04b8e9e54749f1f181aec": {
      "model_module": "@jupyter-widgets/controls",
      "model_module_version": "1.2.0",
      "model_name": "FloatTextModel",
      "state": {
       "description": "sigma",
       "layout": "IPY_MODEL_944e2ebea9424aefbe1005fbcfdc0b3d",
       "step": 0.1,
       "style": "IPY_MODEL_5777eed6f9d64683b752e06b8cf63243",
       "value": 1
      }
     },
     "ade9ee4d1be045f1af7d9360b08c544c": {
      "model_module": "@jupyter-widgets/controls",
      "model_module_version": "1.2.0",
      "model_name": "SliderStyleModel",
      "state": {
       "description_width": ""
      }
     },
     "adf40acda44f4b9b85e18c7a602df93c": {
      "model_module": "@jupyter-widgets/controls",
      "model_module_version": "1.2.0",
      "model_name": "SelectModel",
      "state": {
       "_options_labels": [
        "data/sensor-H57/cells-01_SAv-100k_SSS-H57-20k_000_.SPE"
       ],
       "index": 0,
       "layout": "IPY_MODEL_516609ad462b4649afa9d23010368a53",
       "style": "IPY_MODEL_07cc9f950bd74e1d9b27e3b600f67ccb"
      }
     },
     "adfdf5b3e7044e60872eefbde244317a": {
      "model_module": "@jupyter-widgets/controls",
      "model_module_version": "1.2.0",
      "model_name": "FloatTextModel",
      "state": {
       "description": "threshold",
       "layout": "IPY_MODEL_9f4b337158754cf8a1e15e2ec2c8a65c",
       "step": 10,
       "style": "IPY_MODEL_5a1aa8b1ede248a887870215d096f71d",
       "value": 1000
      }
     },
     "ae7455f6b3494419b28dabed380516af": {
      "model_module": "@jupyter-widgets/base",
      "model_module_version": "1.0.0",
      "model_name": "LayoutModel",
      "state": {
       "width": "auto"
      }
     },
     "aeb82f103bde45f8ae48a0a3293218f8": {
      "model_module": "@jupyter-widgets/controls",
      "model_module_version": "1.2.0",
      "model_name": "DropdownModel",
      "state": {
       "_options_labels": [
        "Identity",
        "Cg",
        "Gaussian"
       ],
       "description": "find filter",
       "index": 1,
       "layout": "IPY_MODEL_774d43ce07db4ff38546dd8ec2622df9",
       "style": "IPY_MODEL_7928f9a9bda5464cb6f4dab76da972f9"
      }
     },
     "aec25161b34c4d5fa2495d37dd0b009c": {
      "model_module": "@jupyter-widgets/controls",
      "model_module_version": "1.2.0",
      "model_name": "VBoxModel",
      "state": {
       "children": [
        "IPY_MODEL_f0c7bb441e6e4b528f534b973d41fad0",
        "IPY_MODEL_4ec6270cc8024ca6bade21b9603b062e",
        "IPY_MODEL_1d23768466ae4cfeb64921711ebe49d4"
       ],
       "layout": "IPY_MODEL_56f43e719b054d2db0d43b41318a43e8"
      }
     },
     "af11b20f3d1b467485ef89404c0582c5": {
      "model_module": "@jupyter-widgets/controls",
      "model_module_version": "1.2.0",
      "model_name": "ButtonStyleModel",
      "state": {}
     },
     "af28a585ea7c4131b6d9a7d34018875f": {
      "model_module": "@jupyter-widgets/controls",
      "model_module_version": "1.2.0",
      "model_name": "DescriptionStyleModel",
      "state": {
       "description_width": ""
      }
     },
     "af51c9e9fc354008b987e9c52a9283c8": {
      "model_module": "@jupyter-widgets/base",
      "model_module_version": "1.0.0",
      "model_name": "LayoutModel",
      "state": {
       "display": "none"
      }
     },
     "af56442840da4d8791c2372861416b99": {
      "model_module": "@jupyter-widgets/base",
      "model_module_version": "1.0.0",
      "model_name": "LayoutModel",
      "state": {}
     },
     "af599191dcb649338ccbb3cea8cfeb03": {
      "model_module": "@jupyter-widgets/controls",
      "model_module_version": "1.2.0",
      "model_name": "DescriptionStyleModel",
      "state": {
       "description_width": ""
      }
     },
     "af5d88a7eb814276beaffbf600ae6e4b": {
      "model_module": "@jupyter-widgets/controls",
      "model_module_version": "1.2.0",
      "model_name": "DescriptionStyleModel",
      "state": {
       "description_width": ""
      }
     },
     "af64b99d6b9649ab87b51d9c15fe0a49": {
      "model_module": "@jupyter-widgets/controls",
      "model_module_version": "1.2.0",
      "model_name": "DescriptionStyleModel",
      "state": {
       "description_width": ""
      }
     },
     "af70af434bc9431d86af759864a3265d": {
      "model_module": "@jupyter-widgets/base",
      "model_module_version": "1.0.0",
      "model_name": "LayoutModel",
      "state": {}
     },
     "afaef695b4f84a9ba5b3a032d0002d6a": {
      "model_module": "@jupyter-widgets/controls",
      "model_module_version": "1.2.0",
      "model_name": "FloatTextModel",
      "state": {
       "description": "max.",
       "layout": "IPY_MODEL_bd1cc151eca24bbcb96a7671dcc39bda",
       "step": 0.1,
       "style": "IPY_MODEL_f5e5284b9f6043f9be08bc62e6dc4550",
       "value": 2
      }
     },
     "afd8f7afc04843c29bffdb3506bacc65": {
      "model_module": "@jupyter-widgets/controls",
      "model_module_version": "1.2.0",
      "model_name": "ButtonStyleModel",
      "state": {}
     },
     "b0276e39446a4fa1a4730e98a1c01134": {
      "model_module": "@jupyter-widgets/base",
      "model_module_version": "1.0.0",
      "model_name": "LayoutModel",
      "state": {}
     },
     "b0548108bf3e474497118511fe530bc2": {
      "model_module": "@jupyter-widgets/controls",
      "model_module_version": "1.2.0",
      "model_name": "LabelModel",
      "state": {
       "layout": "IPY_MODEL_3b6207d8c3734ff4a52804ea21713787",
       "style": "IPY_MODEL_31d34257a2ee401792e9a3e78ae01804",
       "value": "Locating sensor-H57/cells-01_SAv-100k_SSS-H57-20k_000_.SPE (1/213)"
      }
     },
     "b0a36d5dd029428f8cc9b3cd853c1150": {
      "model_module": "@jupyter-widgets/controls",
      "model_module_version": "1.2.0",
      "model_name": "ButtonModel",
      "state": {
       "description": "Auto",
       "layout": "IPY_MODEL_c46bff04e59e428ab26ff8f5898b4277",
       "style": "IPY_MODEL_b64b2a850a8548d383e5d93c5c00ba3c"
      }
     },
     "b0ad7d4c9d6044dbbfe153dfafc6f50d": {
      "model_module": "@jupyter-widgets/controls",
      "model_module_version": "1.2.0",
      "model_name": "DescriptionStyleModel",
      "state": {
       "description_width": ""
      }
     },
     "b0cd287641f84a2a9d05a74793931579": {
      "model_module": "@jupyter-widgets/base",
      "model_module_version": "1.0.0",
      "model_name": "LayoutModel",
      "state": {
       "display": "none"
      }
     },
     "b0ef45ddc9b64ae4b529c290407ec1f0": {
      "model_module": "@jupyter-widgets/controls",
      "model_module_version": "1.2.0",
      "model_name": "VBoxModel",
      "state": {
       "children": [
        "IPY_MODEL_336b38e4ea08432b992707580e7d2533",
        "IPY_MODEL_ad7c1958d6964ab58ec5e260e9d13ef0",
        "IPY_MODEL_f929a9aa1d494f3a8c566832e123b363"
       ],
       "layout": "IPY_MODEL_b0ff7ca2223747d98d4f405008951732"
      }
     },
     "b0ff7ca2223747d98d4f405008951732": {
      "model_module": "@jupyter-widgets/base",
      "model_module_version": "1.0.0",
      "model_name": "LayoutModel",
      "state": {
       "border": "1px solid gray"
      }
     },
     "b119cccce6db485a8e1605a68bb63731": {
      "model_module": "@jupyter-widgets/controls",
      "model_module_version": "1.2.0",
      "model_name": "ButtonModel",
      "state": {
       "description": "Auto",
       "layout": "IPY_MODEL_3a5f65ba7775490d93465572747b1696",
       "style": "IPY_MODEL_f5701a9022c04a45b9a0a14f05bef641"
      }
     },
     "b127d2a3cc3541b78a417709177e71a4": {
      "model_module": "@jupyter-widgets/base",
      "model_module_version": "1.0.0",
      "model_name": "LayoutModel",
      "state": {
       "width": "auto"
      }
     },
     "b1310b209e714acd9df2b8ec60946b3c": {
      "model_module": "@jupyter-widgets/controls",
      "model_module_version": "1.2.0",
      "model_name": "DescriptionStyleModel",
      "state": {
       "description_width": ""
      }
     },
     "b147a80af23a4223aacd3ed579ee9f5e": {
      "model_module": "@jupyter-widgets/controls",
      "model_module_version": "1.2.0",
      "model_name": "VBoxModel",
      "state": {
       "children": [
        "IPY_MODEL_8ff9e205eed647399c279ffee532336f",
        "IPY_MODEL_4b594de80bf942c586a34574b8757370",
        "IPY_MODEL_cbbf4f3774dd4928a04f102af72f0867"
       ],
       "layout": "IPY_MODEL_8fdb88a13c5d4aaa8ea7127d2a7dbebf"
      }
     },
     "b15e46d5fa8e48069163d3f58c7cd47d": {
      "model_module": "@jupyter-widgets/controls",
      "model_module_version": "1.2.0",
      "model_name": "DescriptionStyleModel",
      "state": {
       "description_width": ""
      }
     },
     "b16d9594fe5a47168157f57fb07b841f": {
      "model_module": "@jupyter-widgets/controls",
      "model_module_version": "1.2.0",
      "model_name": "LabelModel",
      "state": {
       "layout": "IPY_MODEL_fe7aa9ae9108443ebd19cd104096ac50",
       "style": "IPY_MODEL_166ed19e9e3f4f61ab800553362c811b",
       "value": "Calculating FRET values ctrl-H57/no-cells_SAv-100k_SSS-ctrl-H57-50k_029_.SPE (213/213)"
      }
     },
     "b16e5eb0bf554c65b74a24feb96709a8": {
      "model_module": "@jupyter-widgets/base",
      "model_module_version": "1.0.0",
      "model_name": "LayoutModel",
      "state": {
       "width": "auto"
      }
     },
     "b1cf244382884cc7b7b60059c2176e36": {
      "model_module": "@jupyter-widgets/base",
      "model_module_version": "1.0.0",
      "model_name": "LayoutModel",
      "state": {}
     },
     "b1da71adf5fc4a4fb2dc775a70522d5e": {
      "model_module": "@jupyter-widgets/base",
      "model_module_version": "1.0.0",
      "model_name": "LayoutModel",
      "state": {
       "display": "none"
      }
     },
     "b22e372906214ee5bb3d1007a4ccbdd6": {
      "model_module": "@jupyter-widgets/controls",
      "model_module_version": "1.2.0",
      "model_name": "ButtonStyleModel",
      "state": {}
     },
     "b2612d3edbcd4dbc816deb8b13184772": {
      "model_module": "@jupyter-widgets/controls",
      "model_module_version": "1.2.0",
      "model_name": "IntTextModel",
      "state": {
       "description": "feat. size",
       "layout": "IPY_MODEL_6ebd9a8a594d41a18e119a98e72d73f9",
       "step": 1,
       "style": "IPY_MODEL_587b53fefa6e4d2091b15dd062869166",
       "value": 3
      }
     },
     "b26ee276cb3c4481a643c8532024f3ee": {
      "model_module": "@jupyter-widgets/controls",
      "model_module_version": "1.2.0",
      "model_name": "FloatTextModel",
      "state": {
       "description": "max.",
       "layout": "IPY_MODEL_28c191d302554977ae914cef8a33edc7",
       "step": 0.1,
       "style": "IPY_MODEL_6e0089000016448c8f05fa717b1d05a3",
       "value": 2
      }
     },
     "b2c338fba7c1448fab4e5e40f1bb83ea": {
      "model_module": "@jupyter-widgets/base",
      "model_module_version": "1.0.0",
      "model_name": "LayoutModel",
      "state": {}
     },
     "b2cb2318eb49493fb159ab40adfc4cc8": {
      "model_module": "@jupyter-widgets/base",
      "model_module_version": "1.0.0",
      "model_name": "LayoutModel",
      "state": {
       "display": "flex",
       "flex_flow": "column wrap",
       "width": "66%"
      }
     },
     "b2d2c403c2e54fc990e91655a19871f4": {
      "model_module": "@jupyter-widgets/base",
      "model_module_version": "1.0.0",
      "model_name": "LayoutModel",
      "state": {}
     },
     "b2d702bc464b437fa34a4c0765de09df": {
      "model_module": "@jupyter-widgets/base",
      "model_module_version": "1.0.0",
      "model_name": "LayoutModel",
      "state": {}
     },
     "b304b4607fc342b6b848e390fe8bdfd8": {
      "model_module": "@jupyter-widgets/controls",
      "model_module_version": "1.2.0",
      "model_name": "CheckboxModel",
      "state": {
       "description": "Min. distance",
       "disabled": false,
       "indent": false,
       "layout": "IPY_MODEL_3c97b874e3e548b392390d99e542d906",
       "style": "IPY_MODEL_6e56e4b4661d44b4a335ef6bb224b175",
       "value": true
      }
     },
     "b32d337b3b204c9daa108c4ff6af626e": {
      "model_module": "@jupyter-widgets/controls",
      "model_module_version": "1.2.0",
      "model_name": "FloatTextModel",
      "state": {
       "layout": "IPY_MODEL_19e4bbee2e614bc4ba7402ecedaa8c61",
       "step": 0.1,
       "style": "IPY_MODEL_7a3d482483a6445d88c73d2a846f9824",
       "value": 3
      }
     },
     "b35b27dd9202476c85780724d1ef6978": {
      "model_module": "@jupyter-widgets/controls",
      "model_module_version": "1.2.0",
      "model_name": "HBoxModel",
      "state": {
       "children": [
        "IPY_MODEL_3663842ab6404589b472521e2dad1bdc",
        "IPY_MODEL_ba88b9f7da7b42969d3652112931e030",
        "IPY_MODEL_55272d7030de4ae8b8e10c0fcde8e729"
       ],
       "layout": "IPY_MODEL_4c77f6dd91bb46839fb21e5396bb0407"
      }
     },
     "b373f55994874a9ca52d3dc07d8d2ec9": {
      "model_module": "@jupyter-widgets/controls",
      "model_module_version": "1.2.0",
      "model_name": "DropdownModel",
      "state": {
       "_options_labels": [
        "Identity",
        "Cg",
        "Gaussian"
       ],
       "description": "find filter",
       "index": 1,
       "layout": "IPY_MODEL_8c618bf667984e6dba7a977fab592393",
       "style": "IPY_MODEL_efc6cb4e8cab4a86ae2521db39ceb4ae"
      }
     },
     "b3783a79c33c4caa81c514a78a24b953": {
      "model_module": "@jupyter-widgets/base",
      "model_module_version": "1.0.0",
      "model_name": "LayoutModel",
      "state": {
       "display": "none"
      }
     },
     "b37d9881043c455989a88cdda902891a": {
      "model_module": "@jupyter-widgets/controls",
      "model_module_version": "1.2.0",
      "model_name": "CheckboxModel",
      "state": {
       "description": "Min. distance",
       "disabled": false,
       "indent": false,
       "layout": "IPY_MODEL_227e2ab8ee8d4793ad719eccc3e015cc",
       "style": "IPY_MODEL_26f739099bc54aa2a30e8f2c6418e19c",
       "value": true
      }
     },
     "b3b7103e5014420a93ef7594b418fbdc": {
      "model_module": "@jupyter-widgets/controls",
      "model_module_version": "1.2.0",
      "model_name": "BoundedIntTextModel",
      "state": {
       "description": "frame",
       "layout": "IPY_MODEL_cca5331b206349f9a6c10fcb99ebca57",
       "max": 0,
       "style": "IPY_MODEL_43536ff0d5a24e66973360c9f15580f4"
      }
     },
     "b3bde46cc7d249959ea5a5a0963d43dc": {
      "model_module": "@jupyter-widgets/controls",
      "model_module_version": "1.2.0",
      "model_name": "DescriptionStyleModel",
      "state": {
       "description_width": ""
      }
     },
     "b42cb741e4384022a1c36c41bd528502": {
      "model_module": "@jupyter-widgets/controls",
      "model_module_version": "1.2.0",
      "model_name": "DescriptionStyleModel",
      "state": {
       "description_width": ""
      }
     },
     "b44f50020b3f47899df9d43f22800286": {
      "model_module": "@jupyter-widgets/controls",
      "model_module_version": "1.2.0",
      "model_name": "DescriptionStyleModel",
      "state": {
       "description_width": ""
      }
     },
     "b452bb11186a4cf78f1e9b2d3fa131cb": {
      "model_module": "@jupyter-widgets/base",
      "model_module_version": "1.0.0",
      "model_name": "LayoutModel",
      "state": {}
     },
     "b4b87d2daf8d4354bc4aeded7bbb337a": {
      "model_module": "@jupyter-widgets/base",
      "model_module_version": "1.0.0",
      "model_name": "LayoutModel",
      "state": {
       "width": "auto"
      }
     },
     "b50f825c26224ace9d3e2473101c0652": {
      "model_module": "@jupyter-widgets/controls",
      "model_module_version": "1.2.0",
      "model_name": "HBoxModel",
      "state": {
       "children": [
        "IPY_MODEL_0018d2c8cdc24975953919ccc4a08340",
        "IPY_MODEL_b0a36d5dd029428f8cc9b3cd853c1150",
        "IPY_MODEL_8356a8afa94944eb825a6d03d33ca378"
       ],
       "layout": "IPY_MODEL_c78130ee7d2e4b719e24946c20c7c08a"
      }
     },
     "b5382e8e4a334e689f87ee8406f5b5a4": {
      "model_module": "@jupyter-widgets/controls",
      "model_module_version": "1.2.0",
      "model_name": "VBoxModel",
      "state": {
       "children": [
        "IPY_MODEL_772b179f43af4b2b865d04bb49f67aef",
        "IPY_MODEL_8ab3bf5637d24546a209820bd9d7806c"
       ],
       "layout": "IPY_MODEL_5ce0ca89fff74ff98c74dfb4db051a59"
      }
     },
     "b57dc1953e9a489ca39fe075f60fd3d1": {
      "model_module": "@jupyter-widgets/controls",
      "model_module_version": "1.2.0",
      "model_name": "FloatTextModel",
      "state": {
       "description": "radius",
       "layout": "IPY_MODEL_21e3f66ac5e84b76ade247bbee7d3a2e",
       "step": 0.1,
       "style": "IPY_MODEL_a90c2c8136e54153aa578afefecb3ab1",
       "value": 1
      }
     },
     "b58c8e2dcd0749fa99d7f25245da27a6": {
      "model_module": "@jupyter-widgets/controls",
      "model_module_version": "1.2.0",
      "model_name": "DescriptionStyleModel",
      "state": {
       "description_width": ""
      }
     },
     "b5b4c64f5cef49d2848c1cc638b21707": {
      "model_module": "@jupyter-widgets/controls",
      "model_module_version": "1.2.0",
      "model_name": "CheckboxModel",
      "state": {
       "description": "Show loc.",
       "disabled": false,
       "indent": false,
       "layout": "IPY_MODEL_86c9ec232b3e4bfbbe8fd140a5e6d5d3",
       "style": "IPY_MODEL_047b67ca52234b498d91b3ffeb8eca13",
       "value": true
      }
     },
     "b5cc62b6605a4e0da267d7b8f688c41c": {
      "model_module": "@jupyter-widgets/controls",
      "model_module_version": "1.2.0",
      "model_name": "DescriptionStyleModel",
      "state": {
       "description_width": ""
      }
     },
     "b5e64162ec114633ab2e395c4eb15d65": {
      "model_module": "@jupyter-widgets/base",
      "model_module_version": "1.0.0",
      "model_name": "LayoutModel",
      "state": {}
     },
     "b5eb7a59cbc243f9bc0d874649257b37": {
      "model_module": "@jupyter-widgets/base",
      "model_module_version": "1.0.0",
      "model_name": "LayoutModel",
      "state": {}
     },
     "b604c6fd56b54052a2ef2e4dc721225b": {
      "model_module": "@jupyter-widgets/controls",
      "model_module_version": "1.2.0",
      "model_name": "DescriptionStyleModel",
      "state": {
       "description_width": ""
      }
     },
     "b61fb761db744db38b5c72ab47e45def": {
      "model_module": "@jupyter-widgets/controls",
      "model_module_version": "1.2.0",
      "model_name": "HBoxModel",
      "state": {
       "children": [
        "IPY_MODEL_19e54e8518c447c6a57fc58c7d49c2ed",
        "IPY_MODEL_ebb31843612e4b4fb1f96750a22bf8a9"
       ],
       "layout": "IPY_MODEL_d0a9f7327ced408cb3b75e015b51cd4e"
      }
     },
     "b64b2a850a8548d383e5d93c5c00ba3c": {
      "model_module": "@jupyter-widgets/controls",
      "model_module_version": "1.2.0",
      "model_name": "ButtonStyleModel",
      "state": {}
     },
     "b652dfbfd4214265ae3872e3f49c3b2f": {
      "model_module": "@jupyter-widgets/controls",
      "model_module_version": "1.2.0",
      "model_name": "FloatTextModel",
      "state": {
       "description": "max.",
       "layout": "IPY_MODEL_fc80433e6cbb4660907789ce9b6c5583",
       "step": 0.1,
       "style": "IPY_MODEL_3b7d0dbaf2214570a98eb67de0b91a6f",
       "value": 2
      }
     },
     "b65b0c2916c34ab2981f5b32a3125ffd": {
      "model_module": "@jupyter-widgets/controls",
      "model_module_version": "1.2.0",
      "model_name": "DropdownModel",
      "state": {
       "_options_labels": [
        "Identity",
        "Cg",
        "Gaussian"
       ],
       "description": "find filter",
       "index": 1,
       "layout": "IPY_MODEL_7abeedd3279141b7bdec9c5c09ab7c9e",
       "style": "IPY_MODEL_7e1a9bca2032487a90f1a46296047b9c"
      }
     },
     "b6a004b7e5574931b253328f1ad72624": {
      "model_module": "@jupyter-widgets/base",
      "model_module_version": "1.0.0",
      "model_name": "LayoutModel",
      "state": {}
     },
     "b6b5ec2ac43143aba6ce332348eb4c85": {
      "model_module": "@jupyter-widgets/base",
      "model_module_version": "1.0.0",
      "model_name": "LayoutModel",
      "state": {}
     },
     "b6fe90eea41749a7bce3105c113eb223": {
      "model_module": "@jupyter-widgets/base",
      "model_module_version": "1.0.0",
      "model_name": "LayoutModel",
      "state": {}
     },
     "b7023a71516749418cd7b2acb31271a9": {
      "model_module": "@jupyter-widgets/base",
      "model_module_version": "1.0.0",
      "model_name": "LayoutModel",
      "state": {}
     },
     "b724a9b097eb4e71b1647452e5cbb443": {
      "model_module": "@jupyter-widgets/controls",
      "model_module_version": "1.2.0",
      "model_name": "DescriptionStyleModel",
      "state": {
       "description_width": ""
      }
     },
     "b74b4eaa76f44ed9a4ce52c21cca5318": {
      "model_module": "@jupyter-widgets/controls",
      "model_module_version": "1.2.0",
      "model_name": "DescriptionStyleModel",
      "state": {
       "description_width": ""
      }
     },
     "b779a4a37c6a4f399fb21a145bd6c38d": {
      "model_module": "@jupyter-widgets/base",
      "model_module_version": "1.0.0",
      "model_name": "LayoutModel",
      "state": {
       "border": "1px solid gray"
      }
     },
     "b7be599876324851838edcbef4a6ffcb": {
      "model_module": "@jupyter-widgets/controls",
      "model_module_version": "1.2.0",
      "model_name": "DescriptionStyleModel",
      "state": {
       "description_width": ""
      }
     },
     "b80d9fa544a9403f812443b83f778e0b": {
      "model_module": "@jupyter-widgets/controls",
      "model_module_version": "1.2.0",
      "model_name": "DropdownModel",
      "state": {
       "_options_labels": [
        "2d_fixed",
        "2d",
        "3d"
       ],
       "description": "model",
       "index": 1,
       "layout": "IPY_MODEL_fd98c9302b7b4b3abbb89b28387d4e6c",
       "style": "IPY_MODEL_d38c2650916a4a689d6ef7c0cef83dc4"
      }
     },
     "b82779e5259840ff900ea767f35db084": {
      "model_module": "@jupyter-widgets/base",
      "model_module_version": "1.0.0",
      "model_name": "LayoutModel",
      "state": {
       "display": "none"
      }
     },
     "b835c5938556463d920bf178b1a8a77c": {
      "model_module": "@jupyter-widgets/controls",
      "model_module_version": "1.2.0",
      "model_name": "DescriptionStyleModel",
      "state": {
       "description_width": ""
      }
     },
     "b855b6287cc040bc9e1b3ef584ff3795": {
      "model_module": "@jupyter-widgets/controls",
      "model_module_version": "1.2.0",
      "model_name": "FloatTextModel",
      "state": {
       "description": "min.",
       "layout": "IPY_MODEL_e761c5db4766467895ca2f34b0e4a0da",
       "step": 0.1,
       "style": "IPY_MODEL_358b3eb253e04bf2a0db36e0448d9957",
       "value": 0.5
      }
     },
     "b88e8f7039e3448daf04fdfbbd09bfa0": {
      "model_module": "@jupyter-widgets/base",
      "model_module_version": "1.0.0",
      "model_name": "LayoutModel",
      "state": {
       "display": "none"
      }
     },
     "b8bf6710a4c94d7b87427476ccb92d04": {
      "model_module": "@jupyter-widgets/controls",
      "model_module_version": "1.2.0",
      "model_name": "DescriptionStyleModel",
      "state": {
       "description_width": ""
      }
     },
     "b8ea3b7b0dca4273866f1b5b92cca58b": {
      "model_module": "@jupyter-widgets/controls",
      "model_module_version": "1.2.0",
      "model_name": "DescriptionStyleModel",
      "state": {
       "description_width": ""
      }
     },
     "b96ba1d49c2045b4a31929bea958a44d": {
      "model_module": "@jupyter-widgets/controls",
      "model_module_version": "1.2.0",
      "model_name": "DescriptionStyleModel",
      "state": {
       "description_width": ""
      }
     },
     "b97477e6a04949cb99a424a06ac29b0d": {
      "model_module": "@jupyter-widgets/controls",
      "model_module_version": "1.2.0",
      "model_name": "DropdownModel",
      "state": {
       "_options_labels": [
        "Identity",
        "Cg",
        "Gaussian"
       ],
       "description": "find filter",
       "index": 1,
       "layout": "IPY_MODEL_4e9b38d94f214dffa4299200cd9f0d37",
       "style": "IPY_MODEL_dad3538d532141688f011f43545d73aa"
      }
     },
     "b9c3b9812bdb47468e36ab1cba60367c": {
      "model_module": "@jupyter-widgets/controls",
      "model_module_version": "1.2.0",
      "model_name": "SelectModel",
      "state": {
       "_options_labels": [
        "data/beads/beads_000_.SPE",
        "data/beads/beads_001_.SPE",
        "data/beads/beads_002_.SPE",
        "data/beads/beads_003_.SPE",
        "data/beads/beads_004_.SPE",
        "data/beads/beads_005_.SPE",
        "data/beads/beads_006_.SPE",
        "data/beads/beads_007_.SPE",
        "data/beads/beads_008_.SPE",
        "data/beads/beads_009_.SPE"
       ],
       "index": 0,
       "layout": "IPY_MODEL_f4d925586cb5456aaa0898a766e65d87",
       "style": "IPY_MODEL_bd2658b84fad45d5b8c6778b5860642c"
      }
     },
     "b9cbd436c2e04d47a81f8ef4f91f7582": {
      "model_module": "@jupyter-widgets/base",
      "model_module_version": "1.0.0",
      "model_name": "LayoutModel",
      "state": {}
     },
     "b9d61e8c852c46c0ae27e1f2932f1f1c": {
      "model_module": "@jupyter-widgets/controls",
      "model_module_version": "1.2.0",
      "model_name": "HBoxModel",
      "state": {
       "children": [
        "IPY_MODEL_2d00fffaf6f0433197e27cafa9c30d99",
        "IPY_MODEL_b32d337b3b204c9daa108c4ff6af626e"
       ],
       "layout": "IPY_MODEL_b6b5ec2ac43143aba6ce332348eb4c85"
      }
     },
     "ba08a73ea0dd4a3d82ca9fb760ae89a9": {
      "model_module": "@jupyter-widgets/base",
      "model_module_version": "1.0.0",
      "model_name": "LayoutModel",
      "state": {
       "width": "100%"
      }
     },
     "ba32f52a09ba4be0a15c783a0684960d": {
      "model_module": "@jupyter-widgets/controls",
      "model_module_version": "1.2.0",
      "model_name": "DescriptionStyleModel",
      "state": {
       "description_width": ""
      }
     },
     "ba4b38a72c384dad96d19ead478c0aba": {
      "model_module": "@jupyter-widgets/base",
      "model_module_version": "1.0.0",
      "model_name": "LayoutModel",
      "state": {
       "width": "75%"
      }
     },
     "ba6a6ecec4be4859bb469f698578e451": {
      "model_module": "@jupyter-widgets/controls",
      "model_module_version": "1.2.0",
      "model_name": "DropdownModel",
      "state": {
       "_options_labels": [
        "Identity",
        "Cg",
        "Gaussian"
       ],
       "description": "find filter",
       "index": 0,
       "layout": "IPY_MODEL_5b4c982706bd4240a5f71a5464d607e3",
       "style": "IPY_MODEL_a40f15a73d6e4d00bb1f193a2595e695"
      }
     },
     "ba88b9f7da7b42969d3652112931e030": {
      "model_module": "@jupyter-widgets/controls",
      "model_module_version": "1.2.0",
      "model_name": "ButtonModel",
      "state": {
       "description": "Auto",
       "layout": "IPY_MODEL_0861d974a75343e6ad8cf9bb30904b63",
       "style": "IPY_MODEL_45a97c7bfdde493ab1761063e56f09de"
      }
     },
     "ba9317bcc582450e8dfd0a9089f6527a": {
      "model_module": "@jupyter-widgets/controls",
      "model_module_version": "1.2.0",
      "model_name": "FloatTextModel",
      "state": {
       "description": "radius",
       "layout": "IPY_MODEL_69c49179c0774ba98959a23ea0b81c8a",
       "step": 0.1,
       "style": "IPY_MODEL_3761dc572846486f8ca53e123fbe0f0f",
       "value": 1
      }
     },
     "bac1451325334616913ac648bdb007ff": {
      "model_module": "@jupyter-widgets/controls",
      "model_module_version": "1.2.0",
      "model_name": "CheckboxModel",
      "state": {
       "description": "Size range",
       "disabled": false,
       "indent": false,
       "layout": "IPY_MODEL_25b3ace3c419458dae29cd6b98c93d8a",
       "style": "IPY_MODEL_789824ebdafe4a8697df288cd17ebbb9",
       "value": false
      }
     },
     "baf972ed6604436caea88a93149e1b79": {
      "model_module": "@jupyter-widgets/controls",
      "model_module_version": "1.2.0",
      "model_name": "VBoxModel",
      "state": {
       "children": [
        "IPY_MODEL_7f4b4f3d85e34deeb1ea4774d8aefa66",
        "IPY_MODEL_d03f9cd65f624aa1b3062d444534c742",
        "IPY_MODEL_bb25961a7b1a4de99717342b4d717dd2"
       ],
       "layout": "IPY_MODEL_e443c838649f4033956e752b74c810a0"
      }
     },
     "bb25961a7b1a4de99717342b4d717dd2": {
      "model_module": "@jupyter-widgets/controls",
      "model_module_version": "1.2.0",
      "model_name": "FloatTextModel",
      "state": {
       "description": "max.",
       "layout": "IPY_MODEL_b82779e5259840ff900ea767f35db084",
       "step": 0.1,
       "style": "IPY_MODEL_24f9aca8649f438e8f190b3fb6de6a2a",
       "value": 2
      }
     },
     "bb271e1802df495589914f40f18a32f8": {
      "model_module": "@jupyter-widgets/base",
      "model_module_version": "1.0.0",
      "model_name": "LayoutModel",
      "state": {
       "width": "auto"
      }
     },
     "bb604ae06bca40698a9fcf491bc9deab": {
      "model_module": "@jupyter-widgets/controls",
      "model_module_version": "1.2.0",
      "model_name": "DescriptionStyleModel",
      "state": {
       "description_width": ""
      }
     },
     "bbd7f68a391d421a992938952a90e1ec": {
      "model_module": "@jupyter-widgets/controls",
      "model_module_version": "1.2.0",
      "model_name": "LabelModel",
      "state": {
       "layout": "IPY_MODEL_49c8320dadf14967a9795101e0bd5512",
       "style": "IPY_MODEL_131d72ed5e92478eb026faf47c0daf88",
       "value": "Locating beads (file 9/10)"
      }
     },
     "bbfa607bfd6a4404b67fb4e05e5b41f0": {
      "model_module": "@jupyter-widgets/base",
      "model_module_version": "1.0.0",
      "model_name": "LayoutModel",
      "state": {}
     },
     "bc632cbfdf9d4927a3f062368302e1a6": {
      "model_module": "@jupyter-widgets/controls",
      "model_module_version": "1.2.0",
      "model_name": "DescriptionStyleModel",
      "state": {
       "description_width": ""
      }
     },
     "bc80a2902e974e47896e17c68df9abe2": {
      "model_module": "@jupyter-widgets/controls",
      "model_module_version": "1.2.0",
      "model_name": "FloatTextModel",
      "state": {
       "description": "sigma",
       "layout": "IPY_MODEL_d0925dc0e0ca4010b09c0028c21651f8",
       "step": 0.1,
       "style": "IPY_MODEL_795f3086492145fdaab5abf5b6f33fcf",
       "value": 1
      }
     },
     "bc8765e56b834e90964fd735b31f2ee0": {
      "model_module": "@jupyter-widgets/controls",
      "model_module_version": "1.2.0",
      "model_name": "HBoxModel",
      "state": {
       "children": [
        "IPY_MODEL_d735dba375544b108334d705a917ad42",
        "IPY_MODEL_9f5cec8de4394f3cb422e340329abbd4"
       ],
       "layout": "IPY_MODEL_6d9a4ac3d5f64015906cf9c1bc5687cd"
      }
     },
     "bc8d0036b27049a28229c5694daababe": {
      "model_module": "@jupyter-widgets/controls",
      "model_module_version": "1.2.0",
      "model_name": "DescriptionStyleModel",
      "state": {
       "description_width": ""
      }
     },
     "bce61fa1fd5a43f4886194936763e3ed": {
      "model_module": "@jupyter-widgets/base",
      "model_module_version": "1.0.0",
      "model_name": "LayoutModel",
      "state": {
       "display": "inline"
      }
     },
     "bce89a422b444942868646b14b761ac3": {
      "model_module": "@jupyter-widgets/base",
      "model_module_version": "1.0.0",
      "model_name": "LayoutModel",
      "state": {}
     },
     "bd1cc151eca24bbcb96a7671dcc39bda": {
      "model_module": "@jupyter-widgets/base",
      "model_module_version": "1.0.0",
      "model_name": "LayoutModel",
      "state": {
       "display": "none"
      }
     },
     "bd22c8a2345642818cdb6541030c13ac": {
      "model_module": "@jupyter-widgets/base",
      "model_module_version": "1.0.0",
      "model_name": "LayoutModel",
      "state": {
       "width": "75%"
      }
     },
     "bd2658b84fad45d5b8c6778b5860642c": {
      "model_module": "@jupyter-widgets/controls",
      "model_module_version": "1.2.0",
      "model_name": "DescriptionStyleModel",
      "state": {
       "description_width": ""
      }
     },
     "bd2af5b109eb499596c35b07c0e3869c": {
      "model_module": "@jupyter-widgets/controls",
      "model_module_version": "1.2.0",
      "model_name": "FloatTextModel",
      "state": {
       "description": "min.",
       "layout": "IPY_MODEL_f7e842be7c944fb69496cb31fbb38bec",
       "step": 0.1,
       "style": "IPY_MODEL_db82f6ed96e04ec180beeb0545306c8e",
       "value": 0.5
      }
     },
     "bd42a13e206240c8af39f2f3f7f56011": {
      "model_module": "@jupyter-widgets/controls",
      "model_module_version": "1.2.0",
      "model_name": "FloatTextModel",
      "state": {
       "description": "min.",
       "layout": "IPY_MODEL_fc4d7edd33564569a7c473aa2e8a8815",
       "step": 0.1,
       "style": "IPY_MODEL_7f68fd8890284cd78451354497414a02",
       "value": 0.5
      }
     },
     "bd81eb7a1afa4fbcbbd9822542efb5c3": {
      "model_module": "@jupyter-widgets/controls",
      "model_module_version": "1.2.0",
      "model_name": "CheckboxModel",
      "state": {
       "description": "Min. distance",
       "disabled": false,
       "indent": false,
       "layout": "IPY_MODEL_ff2f313871b44293895ec6b4604982c5",
       "style": "IPY_MODEL_3498c71ae10b40a4b58604efc7571bca",
       "value": false
      }
     },
     "bdd95c5267ef40069426a2ef7b620280": {
      "model_module": "@jupyter-widgets/controls",
      "model_module_version": "1.2.0",
      "model_name": "ButtonStyleModel",
      "state": {}
     },
     "bddeef8635e24bceafdda453f3f2e607": {
      "model_module": "@jupyter-widgets/controls",
      "model_module_version": "1.2.0",
      "model_name": "HBoxModel",
      "state": {
       "children": [
        "IPY_MODEL_204a0f3ab1ae479497beda405bcf1a5f",
        "IPY_MODEL_c9f372b0ab0d4fdda5533184e3b3146b"
       ],
       "layout": "IPY_MODEL_8c9cc2e6767c4ccbb3209f8c4a732d67"
      }
     },
     "be11f35f752d44c2ab2401edc51474f7": {
      "model_module": "@jupyter-widgets/controls",
      "model_module_version": "1.2.0",
      "model_name": "DescriptionStyleModel",
      "state": {
       "description_width": ""
      }
     },
     "be34a16d9dee4f9a9bd6a2dd669192be": {
      "model_module": "@jupyter-widgets/controls",
      "model_module_version": "1.2.0",
      "model_name": "DescriptionStyleModel",
      "state": {
       "description_width": ""
      }
     },
     "be3a0af7e882478dadfc26ac39e5fd12": {
      "model_module": "@jupyter-widgets/controls",
      "model_module_version": "1.2.0",
      "model_name": "IntTextModel",
      "state": {
       "description": "feat. size",
       "layout": "IPY_MODEL_f822a069710f437c95967f9f7684216d",
       "step": 1,
       "style": "IPY_MODEL_96506e07324c4510b46d91e7e827b24b",
       "value": 3
      }
     },
     "be6a59e5eb1a4e0ba562040a521833e5": {
      "model_module": "@jupyter-widgets/base",
      "model_module_version": "1.0.0",
      "model_name": "LayoutModel",
      "state": {}
     },
     "be961b89ce0a4149973cabf1c701a3d0": {
      "model_module": "@jupyter-widgets/base",
      "model_module_version": "1.0.0",
      "model_name": "LayoutModel",
      "state": {}
     },
     "bea4f44c38254f5da66178f0078b2e5b": {
      "model_module": "@jupyter-widgets/controls",
      "model_module_version": "1.2.0",
      "model_name": "DescriptionStyleModel",
      "state": {
       "description_width": ""
      }
     },
     "beadb326477547afa2bb70de10978a4d": {
      "model_module": "@jupyter-widgets/controls",
      "model_module_version": "1.2.0",
      "model_name": "VBoxModel",
      "state": {
       "children": [
        "IPY_MODEL_7d8707fd46d64a3c8c0031d3914e3f5f",
        "IPY_MODEL_1a7f60fb844840a79fe1bfc9d493b4d9",
        "IPY_MODEL_2bdc6286bc324446abeb806728914f9b",
        "IPY_MODEL_ab78fe67db564683aec5835c7ecaa972",
        "IPY_MODEL_6a858d8095174f94a3d6a44346aad751",
        "IPY_MODEL_2e5a7d571e3a46eb8df1918e46ef0e05"
       ],
       "layout": "IPY_MODEL_2be1c140067242058022433e037e7d46"
      }
     },
     "beb0446a9fe94320aefb2c66df80ab34": {
      "model_module": "@jupyter-widgets/base",
      "model_module_version": "1.0.0",
      "model_name": "LayoutModel",
      "state": {}
     },
     "bed8cb7bc5d240ed9659485bda8a0bb4": {
      "model_module": "@jupyter-widgets/controls",
      "model_module_version": "1.2.0",
      "model_name": "SelectModel",
      "state": {
       "_options_labels": [
        "sensor-H57/cells-01_SAv-100k_SSS-H57-20k_000_.SPE"
       ],
       "index": 0,
       "layout": "IPY_MODEL_24a26ed920a841b79ce1e40c95c04c75",
       "style": "IPY_MODEL_428c3ec84c5e4239baf70014d127047e"
      }
     },
     "beff15dfb8ff45bcaf2ebaacab8a2390": {
      "model_module": "@jupyter-widgets/controls",
      "model_module_version": "1.2.0",
      "model_name": "LabelModel",
      "state": {
       "layout": "IPY_MODEL_eb93cedbbc1a4dd899a9900ff44c55a5",
       "style": "IPY_MODEL_063a0a7144d44c968349e73ffdaafdfe",
       "value": "Tracking ctrl-H57/no-cells_SAv-100k_SSS-ctrl-H57-50k_029_.SPE (213/213)"
      }
     },
     "bf2692aeecb549829f7c3a5b5a006233": {
      "model_module": "@jupyter-widgets/base",
      "model_module_version": "1.0.0",
      "model_name": "LayoutModel",
      "state": {}
     },
     "bf3f8014db0a4ed6826e77c8d891e255": {
      "model_module": "@jupyter-widgets/base",
      "model_module_version": "1.0.0",
      "model_name": "LayoutModel",
      "state": {
       "display": "none"
      }
     },
     "bf3ff81513954d90b2eeaa52a708c72e": {
      "model_module": "@jupyter-widgets/controls",
      "model_module_version": "1.2.0",
      "model_name": "HBoxModel",
      "state": {
       "children": [
        "IPY_MODEL_564e84c78d7a42648e50327e3be7be4e",
        "IPY_MODEL_d09c9c8759db4d27b3f03851cedd0f87"
       ],
       "layout": "IPY_MODEL_28dc5f98ecd749c4aafd9e308637a0af"
      }
     },
     "bf65372f5d3047ebb15da62caa1c4521": {
      "model_module": "@jupyter-widgets/controls",
      "model_module_version": "1.2.0",
      "model_name": "DescriptionStyleModel",
      "state": {
       "description_width": ""
      }
     },
     "bfab9ba562884a3e81d2e2b4af74b31d": {
      "model_module": "@jupyter-widgets/controls",
      "model_module_version": "1.2.0",
      "model_name": "DropdownModel",
      "state": {
       "_options_labels": [
        "Identity",
        "Cg",
        "Gaussian"
       ],
       "description": "find filter",
       "index": 1,
       "layout": "IPY_MODEL_4ed19061fd9542a1b606cf50a950529f",
       "style": "IPY_MODEL_632863c5ef4740a3a8fa5303d98054f5"
      }
     },
     "bfec349152fa4833b470d8ec1259aab1": {
      "model_module": "@jupyter-widgets/base",
      "model_module_version": "1.0.0",
      "model_name": "LayoutModel",
      "state": {}
     },
     "c02e2719552f4f6f8a7163d508f464e5": {
      "model_module": "@jupyter-widgets/controls",
      "model_module_version": "1.2.0",
      "model_name": "FloatTextModel",
      "state": {
       "description": "threshold",
       "layout": "IPY_MODEL_b0276e39446a4fa1a4730e98a1c01134",
       "step": 10,
       "style": "IPY_MODEL_a93b0a99d293436297cf9bc57e0df4a6",
       "value": 80
      }
     },
     "c05d01372e25444d88e67353b0dceba0": {
      "model_module": "@jupyter-widgets/base",
      "model_module_version": "1.0.0",
      "model_name": "LayoutModel",
      "state": {}
     },
     "c06cf69ddada43d0ab1f18c8c3045aa7": {
      "model_module": "@jupyter-widgets/controls",
      "model_module_version": "1.2.0",
      "model_name": "DescriptionStyleModel",
      "state": {
       "description_width": ""
      }
     },
     "c0c6fbf615274e70adf571485cf9d79d": {
      "model_module": "@jupyter-widgets/base",
      "model_module_version": "1.0.0",
      "model_name": "LayoutModel",
      "state": {
       "display": "flex",
       "flex_flow": "column wrap",
       "width": "66%"
      }
     },
     "c0cb02d39b9b41a9a00970f9fd86b677": {
      "model_module": "@jupyter-widgets/base",
      "model_module_version": "1.0.0",
      "model_name": "LayoutModel",
      "state": {}
     },
     "c0d5b515691a4f1bb53ebd8f89b9dd30": {
      "model_module": "@jupyter-widgets/base",
      "model_module_version": "1.0.0",
      "model_name": "LayoutModel",
      "state": {}
     },
     "c10ac3a630a244a48c1c28ae64614898": {
      "model_module": "@jupyter-widgets/controls",
      "model_module_version": "1.2.0",
      "model_name": "IntRangeSliderModel",
      "state": {
       "_model_name": "IntRangeSliderModel",
       "_view_name": "IntRangeSliderView",
       "layout": "IPY_MODEL_5e983447fe54437d9c0af3899af33f20",
       "max": 65535,
       "style": "IPY_MODEL_cd8ac3be2fdd48b181b57c15faf5cb6a",
       "value": [
        134,
        25393
       ]
      }
     },
     "c13c87d8a61b400294b808a93d1b5eec": {
      "model_module": "@jupyter-widgets/controls",
      "model_module_version": "1.2.0",
      "model_name": "SelectModel",
      "state": {
       "_options_labels": [
        "data/beads/beads_000_.SPE",
        "data/beads/beads_001_.SPE",
        "data/beads/beads_002_.SPE",
        "data/beads/beads_003_.SPE",
        "data/beads/beads_004_.SPE",
        "data/beads/beads_005_.SPE",
        "data/beads/beads_006_.SPE",
        "data/beads/beads_007_.SPE",
        "data/beads/beads_008_.SPE",
        "data/beads/beads_009_.SPE"
       ],
       "index": 0,
       "layout": "IPY_MODEL_f29de83593364a6189ab59bcbb2c320b",
       "style": "IPY_MODEL_9df44ccbe9d64083b3a5dcdfa81c50fc"
      }
     },
     "c1a95db583ea40a8bd5289f44bcfe4db": {
      "model_module": "@jupyter-widgets/base",
      "model_module_version": "1.0.0",
      "model_name": "LayoutModel",
      "state": {
       "width": "auto"
      }
     },
     "c1d97af4af07498cae7d5b1c4be5295c": {
      "model_module": "@jupyter-widgets/controls",
      "model_module_version": "1.2.0",
      "model_name": "DescriptionStyleModel",
      "state": {
       "description_width": ""
      }
     },
     "c1efcae4c8094bcfaffe2b2e7f27bf45": {
      "model_module": "@jupyter-widgets/base",
      "model_module_version": "1.0.0",
      "model_name": "LayoutModel",
      "state": {
       "display": "inline"
      }
     },
     "c1f3b65adfd44722b49ea4a4ff69c29f": {
      "model_module": "@jupyter-widgets/controls",
      "model_module_version": "1.2.0",
      "model_name": "DescriptionStyleModel",
      "state": {
       "description_width": ""
      }
     },
     "c211590667d94e1ba903d9bb41556f7f": {
      "model_module": "@jupyter-widgets/base",
      "model_module_version": "1.0.0",
      "model_name": "LayoutModel",
      "state": {
       "width": "auto"
      }
     },
     "c22b5f9b02324eb09eefa0fc3f053283": {
      "model_module": "@jupyter-widgets/controls",
      "model_module_version": "1.2.0",
      "model_name": "VBoxModel",
      "state": {
       "children": [
        "IPY_MODEL_5c401ea5da0d4848be95abb0540b7161",
        "IPY_MODEL_8eb933fcf2094529bcfaa1d445261b92",
        "IPY_MODEL_18cf4394760945b48cbef11a18c60810"
       ],
       "layout": "IPY_MODEL_1753f17a9cd74bb9be12223d1a6173b3"
      }
     },
     "c230cc0668ed41d99de71598ded8c06c": {
      "model_module": "@jupyter-widgets/controls",
      "model_module_version": "1.2.0",
      "model_name": "DescriptionStyleModel",
      "state": {
       "description_width": ""
      }
     },
     "c265d3f7ada04e2e84dee92b602bca76": {
      "model_module": "@jupyter-widgets/controls",
      "model_module_version": "1.2.0",
      "model_name": "DescriptionStyleModel",
      "state": {
       "description_width": ""
      }
     },
     "c2a65a1077bf4b1c9b3ba8ffd3359b39": {
      "model_module": "@jupyter-widgets/base",
      "model_module_version": "1.0.0",
      "model_name": "LayoutModel",
      "state": {
       "display": "none"
      }
     },
     "c32e96aa935a4d6ea9606f2f464dd04c": {
      "model_module": "@jupyter-widgets/controls",
      "model_module_version": "1.2.0",
      "model_name": "LabelModel",
      "state": {
       "layout": "IPY_MODEL_676fe8fb0afc4b668410ab402d1ad0ba",
       "style": "IPY_MODEL_cd9fb810d7d545a28ff6305a502a3ac9",
       "value": "Locating beads (file 10/10)"
      }
     },
     "c35106bfaa0941c6b210074ade26615e": {
      "model_module": "@jupyter-widgets/base",
      "model_module_version": "1.0.0",
      "model_name": "LayoutModel",
      "state": {
       "width": "auto"
      }
     },
     "c37a86f18d434de481acc8f8c3e59e8c": {
      "model_module": "@jupyter-widgets/controls",
      "model_module_version": "1.2.0",
      "model_name": "DescriptionStyleModel",
      "state": {
       "description_width": ""
      }
     },
     "c3cef7fe114b456782edabca88e03ff7": {
      "model_module": "@jupyter-widgets/controls",
      "model_module_version": "1.2.0",
      "model_name": "FloatTextModel",
      "state": {
       "description": "max.",
       "layout": "IPY_MODEL_c46e9b9cc80e4f7aac5ecd0e944de969",
       "step": 0.1,
       "style": "IPY_MODEL_f2bd6ab3067c4d40a222a12115b3f9b8",
       "value": 2
      }
     },
     "c3d8f89ab77d429f888f97aaa68c08bc": {
      "model_module": "@jupyter-widgets/controls",
      "model_module_version": "1.2.0",
      "model_name": "DescriptionStyleModel",
      "state": {
       "description_width": ""
      }
     },
     "c4653ddb5cb94a6c934669e33210cd7a": {
      "model_module": "@jupyter-widgets/base",
      "model_module_version": "1.0.0",
      "model_name": "LayoutModel",
      "state": {}
     },
     "c46874c368de438694b59a5b5b8ea525": {
      "model_module": "@jupyter-widgets/controls",
      "model_module_version": "1.2.0",
      "model_name": "DescriptionStyleModel",
      "state": {
       "description_width": ""
      }
     },
     "c46bff04e59e428ab26ff8f5898b4277": {
      "model_module": "@jupyter-widgets/base",
      "model_module_version": "1.0.0",
      "model_name": "LayoutModel",
      "state": {}
     },
     "c46e9b9cc80e4f7aac5ecd0e944de969": {
      "model_module": "@jupyter-widgets/base",
      "model_module_version": "1.0.0",
      "model_name": "LayoutModel",
      "state": {
       "display": "none"
      }
     },
     "c4865af8e5dd49cd8f5d7afa13b14e00": {
      "model_module": "@jupyter-widgets/base",
      "model_module_version": "1.0.0",
      "model_name": "LayoutModel",
      "state": {}
     },
     "c4a58ea60bdf4b0caf83c160414e7aef": {
      "model_module": "@jupyter-widgets/controls",
      "model_module_version": "1.2.0",
      "model_name": "DescriptionStyleModel",
      "state": {
       "description_width": ""
      }
     },
     "c4de4d48993e40d28053ddf2b8098a13": {
      "model_module": "@jupyter-widgets/controls",
      "model_module_version": "1.2.0",
      "model_name": "DescriptionStyleModel",
      "state": {
       "description_width": ""
      }
     },
     "c523bab02603413d9c264d7487782c42": {
      "model_module": "@jupyter-widgets/controls",
      "model_module_version": "1.2.0",
      "model_name": "DescriptionStyleModel",
      "state": {
       "description_width": ""
      }
     },
     "c54deae8c71e4325b7202a96264e416b": {
      "model_module": "@jupyter-widgets/controls",
      "model_module_version": "1.2.0",
      "model_name": "DescriptionStyleModel",
      "state": {
       "description_width": ""
      }
     },
     "c5656558055948b2a4fa9d3f966364fa": {
      "model_module": "@jupyter-widgets/base",
      "model_module_version": "1.0.0",
      "model_name": "LayoutModel",
      "state": {}
     },
     "c57d74a3f1f74f49b351cce658a8ba60": {
      "model_module": "@jupyter-widgets/controls",
      "model_module_version": "1.2.0",
      "model_name": "HBoxModel",
      "state": {
       "children": [
        "IPY_MODEL_f615b949df694769bd5bf0199b1c7302",
        "IPY_MODEL_d997084149b24a16adf3ec0089df3b87"
       ],
       "layout": "IPY_MODEL_fd298f088b594c4bb584486154f5f2ad"
      }
     },
     "c5a09fe99ce7403da8ed57fba46e3dd0": {
      "model_module": "@jupyter-widgets/base",
      "model_module_version": "1.0.0",
      "model_name": "LayoutModel",
      "state": {}
     },
     "c62c2c99ee194cfaa7e1b15115dca277": {
      "model_module": "@jupyter-widgets/base",
      "model_module_version": "1.0.0",
      "model_name": "LayoutModel",
      "state": {
       "width": "auto"
      }
     },
     "c65c0211461f4256825de855d1499e54": {
      "model_module": "@jupyter-widgets/base",
      "model_module_version": "1.0.0",
      "model_name": "LayoutModel",
      "state": {
       "display": "inline"
      }
     },
     "c6a9fc6e0e6a4098995eb4a9aafbd685": {
      "model_module": "@jupyter-widgets/controls",
      "model_module_version": "1.2.0",
      "model_name": "FloatTextModel",
      "state": {
       "description": "sigma",
       "layout": "IPY_MODEL_5cd611847aa444c08a1fca2c7acaffd1",
       "step": 0.1,
       "style": "IPY_MODEL_8d75a98fccc24a73858cf40373ff49b1",
       "value": 1
      }
     },
     "c6ad2c66e23145308004adb901174003": {
      "model_module": "@jupyter-widgets/controls",
      "model_module_version": "1.2.0",
      "model_name": "VBoxModel",
      "state": {
       "children": [
        "IPY_MODEL_8fb1f61f7e624f7285afd816a6b4a06e",
        "IPY_MODEL_94aeddc830d34daaa6518c6373b3ad59"
       ],
       "layout": "IPY_MODEL_d1454b9d7e1e4968bcd840c451e5d9dc"
      }
     },
     "c6b5a2c35ab346b5939abbc473b6e036": {
      "model_module": "@jupyter-widgets/controls",
      "model_module_version": "1.2.0",
      "model_name": "CheckboxModel",
      "state": {
       "description": "Min. distance",
       "disabled": false,
       "indent": false,
       "layout": "IPY_MODEL_1e467e9b04f54ce2b7589198a94d15e8",
       "style": "IPY_MODEL_a0ee102307534b91900803088036a2c9",
       "value": true
      }
     },
     "c6d09daedaea403d98880210d954b884": {
      "model_module": "@jupyter-widgets/controls",
      "model_module_version": "1.2.0",
      "model_name": "LabelModel",
      "state": {
       "layout": "IPY_MODEL_e4cfcf0e648d475b8b59be966b465866",
       "style": "IPY_MODEL_252624c1b8bc45849aea2df3c599d2bc",
       "value": "Locating ctrl-H57/no-cells_SAv-100k_SSS-ctrl-H57-50k_029_.SPE (213/213)"
      }
     },
     "c76a669be50c46c1b514303101b0de0e": {
      "model_module": "@jupyter-widgets/controls",
      "model_module_version": "1.2.0",
      "model_name": "ButtonModel",
      "state": {
       "description": "Auto",
       "layout": "IPY_MODEL_0ecb2e4660f94784a1958fd57ec03801",
       "style": "IPY_MODEL_411a5b6f2fc54b669513f2747391d2b9"
      }
     },
     "c78130ee7d2e4b719e24946c20c7c08a": {
      "model_module": "@jupyter-widgets/base",
      "model_module_version": "1.0.0",
      "model_name": "LayoutModel",
      "state": {
       "width": "100%"
      }
     },
     "c7950bb3cfa846749605076ebf8fe9e6": {
      "model_module": "@jupyter-widgets/controls",
      "model_module_version": "1.2.0",
      "model_name": "DropdownModel",
      "state": {
       "_options_labels": [
        "2d_fixed",
        "2d",
        "3d"
       ],
       "description": "model",
       "index": 1,
       "layout": "IPY_MODEL_a9344fbbc27443ecac484dfacd381265",
       "style": "IPY_MODEL_ba32f52a09ba4be0a15c783a0684960d"
      }
     },
     "c7f22f717eeb42bd80361959c8d73485": {
      "model_module": "@jupyter-widgets/controls",
      "model_module_version": "1.2.0",
      "model_name": "HBoxModel",
      "state": {
       "children": [
        "IPY_MODEL_cea55a99c8414b838bb94c3bd451ee4f",
        "IPY_MODEL_5b832b17194f4626b304f362d82d3a97"
       ],
       "layout": "IPY_MODEL_07322f2872994b62a67e3ecc71961d7c"
      }
     },
     "c7f978a7f5324b149511e9b27eebaeec": {
      "model_module": "@jupyter-widgets/controls",
      "model_module_version": "1.2.0",
      "model_name": "FloatTextModel",
      "state": {
       "description": "sigma",
       "layout": "IPY_MODEL_9488c92fc19e478491c10ae5c8ac6ad4",
       "step": 0.1,
       "style": "IPY_MODEL_282db8f01dd440359bb199e2eec96391",
       "value": 1
      }
     },
     "c80ee4c5f3844dcb8f585e61645e0e9b": {
      "model_module": "@jupyter-widgets/controls",
      "model_module_version": "1.2.0",
      "model_name": "FloatTextModel",
      "state": {
       "description": "sigma",
       "layout": "IPY_MODEL_14692f2452074add81ccbce647b3a11e",
       "step": 0.1,
       "style": "IPY_MODEL_d45b79d73c1b4ddcb8351fe463414e1e",
       "value": 1
      }
     },
     "c8246eec1c214b518f95489e721820c8": {
      "model_module": "@jupyter-widgets/controls",
      "model_module_version": "1.2.0",
      "model_name": "FloatTextModel",
      "state": {
       "description": "sigma",
       "layout": "IPY_MODEL_d7528cf96f4a414395554a3729c0ba6e",
       "step": 0.1,
       "style": "IPY_MODEL_42dcfcbd1b9c451aa4d067fae2a86539",
       "value": 1
      }
     },
     "c838d53e5add40f09d6caa9df248bd69": {
      "model_module": "@jupyter-widgets/controls",
      "model_module_version": "1.2.0",
      "model_name": "FloatTextModel",
      "state": {
       "description": "min.",
       "layout": "IPY_MODEL_27ead681a1ba429b92a13a857b53aa84",
       "step": 0.1,
       "style": "IPY_MODEL_80c2e356993c45dcbebf66dc3e671b92",
       "value": 0.5
      }
     },
     "c850f2d83d5a4107b913da97dd1deccd": {
      "model_module": "@jupyter-widgets/base",
      "model_module_version": "1.0.0",
      "model_name": "LayoutModel",
      "state": {}
     },
     "c866b561794e42ffbd8a5935d2516349": {
      "model_module": "@jupyter-widgets/base",
      "model_module_version": "1.0.0",
      "model_name": "LayoutModel",
      "state": {
       "height": "150px",
       "width": "100%"
      }
     },
     "c86d77bb332b4d0590c259f51076de7c": {
      "model_module": "@jupyter-widgets/base",
      "model_module_version": "1.0.0",
      "model_name": "LayoutModel",
      "state": {
       "width": "auto"
      }
     },
     "c887111977a14213b8d43f3198bccb35": {
      "model_module": "@jupyter-widgets/controls",
      "model_module_version": "1.2.0",
      "model_name": "SelectModel",
      "state": {
       "_options_labels": [
        "data/beads/beads_000_.SPE",
        "data/beads/beads_001_.SPE",
        "data/beads/beads_002_.SPE",
        "data/beads/beads_003_.SPE",
        "data/beads/beads_004_.SPE",
        "data/beads/beads_005_.SPE",
        "data/beads/beads_006_.SPE",
        "data/beads/beads_007_.SPE",
        "data/beads/beads_008_.SPE",
        "data/beads/beads_009_.SPE"
       ],
       "index": 1,
       "layout": "IPY_MODEL_0ab92ff91b114e2daa93551ba7b31491",
       "style": "IPY_MODEL_8346806e4bba42cb87c56d2814e17ddc"
      }
     },
     "c89598672e964bb480ed2772eda0cd61": {
      "model_module": "@jupyter-widgets/base",
      "model_module_version": "1.0.0",
      "model_name": "LayoutModel",
      "state": {
       "display": "none"
      }
     },
     "c8a4732a27e4461ea7a550108f273591": {
      "model_module": "@jupyter-widgets/controls",
      "model_module_version": "1.2.0",
      "model_name": "DescriptionStyleModel",
      "state": {
       "description_width": ""
      }
     },
     "c8cf22efdacb441780a9aa8333ed026b": {
      "model_module": "@jupyter-widgets/controls",
      "model_module_version": "1.2.0",
      "model_name": "FloatTextModel",
      "state": {
       "description": "radius",
       "layout": "IPY_MODEL_cc60972dd77c4a4aafcbf31ea8e0119f",
       "step": 0.1,
       "style": "IPY_MODEL_083e49bdb54143db8c07ed01ba581d4c",
       "value": 1
      }
     },
     "c91e6b5ec8fd4e3fbce02033e26274d4": {
      "model_module": "@jupyter-widgets/controls",
      "model_module_version": "1.2.0",
      "model_name": "DescriptionStyleModel",
      "state": {
       "description_width": ""
      }
     },
     "c9281a9444b342ccaeea5bbe41437cdf": {
      "model_module": "@jupyter-widgets/controls",
      "model_module_version": "1.2.0",
      "model_name": "FloatTextModel",
      "state": {
       "layout": "IPY_MODEL_8640494794064662823b36511db88e13",
       "step": 0.1,
       "style": "IPY_MODEL_c523bab02603413d9c264d7487782c42",
       "value": 3
      }
     },
     "c93332c7586243bfa2c35cc7934573c6": {
      "model_module": "@jupyter-widgets/controls",
      "model_module_version": "1.2.0",
      "model_name": "DescriptionStyleModel",
      "state": {
       "description_width": ""
      }
     },
     "c947362c1b424fc5889ba242be69b499": {
      "model_module": "@jupyter-widgets/base",
      "model_module_version": "1.0.0",
      "model_name": "LayoutModel",
      "state": {
       "display": "flex",
       "flex_flow": "column wrap",
       "width": "66%"
      }
     },
     "c96eaab9612e4b65aad3e9c5ce261e24": {
      "model_module": "@jupyter-widgets/controls",
      "model_module_version": "1.2.0",
      "model_name": "ButtonModel",
      "state": {
       "description": "Auto",
       "layout": "IPY_MODEL_2353ee96d43b4eeba4ba08bea7bedd62",
       "style": "IPY_MODEL_878f93859f344d6b8c9abb9c812267a3"
      }
     },
     "c988709bd87c4a629641e62b63c167be": {
      "model_module": "@jupyter-widgets/controls",
      "model_module_version": "1.2.0",
      "model_name": "DescriptionStyleModel",
      "state": {
       "description_width": ""
      }
     },
     "c9c0bd8e91e44168bacd248f4ef19544": {
      "model_module": "@jupyter-widgets/base",
      "model_module_version": "1.0.0",
      "model_name": "LayoutModel",
      "state": {}
     },
     "c9f372b0ab0d4fdda5533184e3b3146b": {
      "model_module": "@jupyter-widgets/controls",
      "model_module_version": "1.2.0",
      "model_name": "VBoxModel",
      "state": {
       "children": [
        "IPY_MODEL_5897926131b44660b1f6e44086382fc1",
        "IPY_MODEL_58c8e5c780ac482ea7d83b4cb501efbb",
        "IPY_MODEL_27bf74a1371a4914b4cecefd7800c57e",
        "IPY_MODEL_7a0ebbcb7c4549b69ddcf0b2e2c5068b",
        "IPY_MODEL_2d34235e1324485a9b3095eb00fffcdd",
        "IPY_MODEL_6c1621e5e3c346668b799be6eefe47ea"
       ],
       "layout": "IPY_MODEL_ab4925d5106d478c95c5b37f1be7b6bc"
      }
     },
     "ca1386fd89404570a65b25c094747dc8": {
      "model_module": "@jupyter-widgets/controls",
      "model_module_version": "1.2.0",
      "model_name": "BoundedIntTextModel",
      "state": {
       "description": "frame",
       "layout": "IPY_MODEL_d7ee45995d7543e0b8e6bc5fcef1c00a",
       "max": 49,
       "style": "IPY_MODEL_3e17ce9a39774c4182411752843e01f7"
      }
     },
     "ca214501be3b4fe7a84ae6b2a809f7d3": {
      "model_module": "@jupyter-widgets/controls",
      "model_module_version": "1.2.0",
      "model_name": "VBoxModel",
      "state": {
       "children": [
        "IPY_MODEL_22774ed79f5246f8bdae0943eeb6e6e9",
        "IPY_MODEL_93997ff8b3ac48d5b8db285ff78a313d",
        "IPY_MODEL_8efaa6660bcd40e8bef473760f81a5cf"
       ],
       "layout": "IPY_MODEL_6142708a9df34496bbbfc0c50075234e"
      }
     },
     "ca3928b3edc542b58ac4ba639b5d69ba": {
      "model_module": "@jupyter-widgets/controls",
      "model_module_version": "1.2.0",
      "model_name": "SliderStyleModel",
      "state": {
       "description_width": ""
      }
     },
     "ca617da8968c4c1986bef67c8512c210": {
      "model_module": "@jupyter-widgets/controls",
      "model_module_version": "1.2.0",
      "model_name": "FloatTextModel",
      "state": {
       "description": "radius",
       "layout": "IPY_MODEL_078f43c2886840b78d1209cb7dd1867a",
       "step": 0.1,
       "style": "IPY_MODEL_e98ebd4492074318973e80751dd01ac2",
       "value": 1
      }
     },
     "ca65cbf710a34eb2af2f0e54479139a8": {
      "model_module": "@jupyter-widgets/base",
      "model_module_version": "1.0.0",
      "model_name": "LayoutModel",
      "state": {}
     },
     "ca9aad266e7c42bd917c4ba763aea4f1": {
      "model_module": "@jupyter-widgets/controls",
      "model_module_version": "1.2.0",
      "model_name": "FloatTextModel",
      "state": {
       "layout": "IPY_MODEL_ab0cfbb92b6340f883a10373a0455392",
       "step": 0.1,
       "style": "IPY_MODEL_1e2c7801417d4e6d8736963d27fe69cd",
       "value": 3
      }
     },
     "ca9cbc33f87a45c1a758e030140b0b77": {
      "model_module": "@jupyter-widgets/base",
      "model_module_version": "1.0.0",
      "model_name": "LayoutModel",
      "state": {}
     },
     "cb1aa06d48374c2a8b0ffa29b92d25dc": {
      "model_module": "@jupyter-widgets/controls",
      "model_module_version": "1.2.0",
      "model_name": "ButtonModel",
      "state": {
       "description": "Auto",
       "layout": "IPY_MODEL_2c2757aa06f04e0dace96d88c285a4d5",
       "style": "IPY_MODEL_6bbd7bfd41264e7d831c23e43abab2cb"
      }
     },
     "cb1c51b664d0470b879f08c7b64b382b": {
      "model_module": "@jupyter-widgets/controls",
      "model_module_version": "1.2.0",
      "model_name": "VBoxModel",
      "state": {
       "children": [
        "IPY_MODEL_171fd38714314c55b9aa03a260d5df0a",
        "IPY_MODEL_9e11f1e5ce9c4af2b3b3be687dd64a61",
        "IPY_MODEL_0ef1d040c6c04fb7864e43dfd058b198",
        "IPY_MODEL_7c3f80ceafa642ad91d6b4dabf593fcc",
        "IPY_MODEL_72b54360941b42a4b3f921d31d4a7d9a",
        "IPY_MODEL_9f40e8bad80442dcaece2e410a1f9e6f"
       ],
       "layout": "IPY_MODEL_1618f4b3399c42758f19fedc025728c5"
      }
     },
     "cb2386fc6ef74bcdacecf41b9c594189": {
      "model_module": "@jupyter-widgets/base",
      "model_module_version": "1.0.0",
      "model_name": "LayoutModel",
      "state": {
       "display": "none"
      }
     },
     "cb2aa5668d6740de9c8098fc5505dd93": {
      "model_module": "@jupyter-widgets/controls",
      "model_module_version": "1.2.0",
      "model_name": "DescriptionStyleModel",
      "state": {
       "description_width": ""
      }
     },
     "cbaef955669847aea4d6eeda772fc47f": {
      "model_module": "@jupyter-widgets/base",
      "model_module_version": "1.0.0",
      "model_name": "LayoutModel",
      "state": {}
     },
     "cbbf4f3774dd4928a04f102af72f0867": {
      "model_module": "@jupyter-widgets/controls",
      "model_module_version": "1.2.0",
      "model_name": "FloatTextModel",
      "state": {
       "description": "sigma",
       "layout": "IPY_MODEL_9d762642fa554e169ab393c2a204d6d9",
       "step": 0.1,
       "style": "IPY_MODEL_06ba97282e1f4df59bebd0e0fd71431e",
       "value": 1
      }
     },
     "cbc95826e6074f2e92211d41a56f82a4": {
      "model_module": "@jupyter-widgets/base",
      "model_module_version": "1.0.0",
      "model_name": "LayoutModel",
      "state": {
       "display": "flex",
       "flex_flow": "column wrap",
       "width": "66%"
      }
     },
     "cbcb7d4ab97141fc96f65b0380eba974": {
      "model_module": "@jupyter-widgets/base",
      "model_module_version": "1.0.0",
      "model_name": "LayoutModel",
      "state": {
       "height": "150px",
       "width": "100%"
      }
     },
     "cbe91f751e1345588c0f8f841dba1a7b": {
      "model_module": "@jupyter-widgets/controls",
      "model_module_version": "1.2.0",
      "model_name": "FloatTextModel",
      "state": {
       "description": "threshold",
       "layout": "IPY_MODEL_2bad4212a2344400817848a55f43b7e2",
       "step": 10,
       "style": "IPY_MODEL_36e0ecd660f249d58bdaa97b3a3c5a60",
       "value": 1000
      }
     },
     "cc4ae8ba518a41fc86f1d615d83338f5": {
      "model_module": "@jupyter-widgets/controls",
      "model_module_version": "1.2.0",
      "model_name": "DescriptionStyleModel",
      "state": {
       "description_width": ""
      }
     },
     "cc60972dd77c4a4aafcbf31ea8e0119f": {
      "model_module": "@jupyter-widgets/base",
      "model_module_version": "1.0.0",
      "model_name": "LayoutModel",
      "state": {}
     },
     "cc6eea352d5e482d906f5aec93861cf0": {
      "model_module": "@jupyter-widgets/controls",
      "model_module_version": "1.2.0",
      "model_name": "FloatTextModel",
      "state": {
       "description": "sigma",
       "layout": "IPY_MODEL_1602f5feb09c4d74b13d2ed7587d5a03",
       "step": 0.1,
       "style": "IPY_MODEL_a79415927e1b4f129298f428353c8c70",
       "value": 1
      }
     },
     "cc7576cf5f424727a538fd64ec2b8694": {
      "model_module": "@jupyter-widgets/controls",
      "model_module_version": "1.2.0",
      "model_name": "DropdownModel",
      "state": {
       "_options_labels": [
        "2d_fixed",
        "2d",
        "3d"
       ],
       "description": "model",
       "index": 1,
       "layout": "IPY_MODEL_7a1a89626449426fa814701a0bffdd39",
       "style": "IPY_MODEL_03bdc5d00f804a5f8446fe02ee16e61c"
      }
     },
     "cc7d7fe57c8743e9aa71f22aa0ab4098": {
      "model_module": "@jupyter-widgets/controls",
      "model_module_version": "1.2.0",
      "model_name": "BoundedIntTextModel",
      "state": {
       "description": "frame",
       "layout": "IPY_MODEL_3d5af2746fd745cf8028df9866770533",
       "max": 49,
       "style": "IPY_MODEL_8004488e459a492b8d357d97ede48678"
      }
     },
     "cc897af7025340f28a998b9936092bcc": {
      "model_module": "@jupyter-widgets/controls",
      "model_module_version": "1.2.0",
      "model_name": "HBoxModel",
      "state": {
       "children": [
        "IPY_MODEL_d7935eac62854690ab82ac17c622bf21",
        "IPY_MODEL_d4578ad5188e420f86fbf300ed9219be",
        "IPY_MODEL_54b348fecf0a43ef930b4457164466ce"
       ],
       "layout": "IPY_MODEL_98a819d500ca469595196e98276ee70c"
      }
     },
     "cc8cddcf0157400f815cc2a75b4a618e": {
      "model_module": "@jupyter-widgets/controls",
      "model_module_version": "1.2.0",
      "model_name": "DescriptionStyleModel",
      "state": {
       "description_width": ""
      }
     },
     "cca5331b206349f9a6c10fcb99ebca57": {
      "model_module": "@jupyter-widgets/base",
      "model_module_version": "1.0.0",
      "model_name": "LayoutModel",
      "state": {}
     },
     "ccd4bace9fbc441ba44bf1a202ee6362": {
      "model_module": "@jupyter-widgets/controls",
      "model_module_version": "1.2.0",
      "model_name": "ButtonModel",
      "state": {
       "description": "Auto",
       "layout": "IPY_MODEL_98665b49c57f49a196bb7bd30a48840d",
       "style": "IPY_MODEL_47d9ce6e1a864a1bb62a3df0054aeb85"
      }
     },
     "cd5c8f3412cf455d876b8525e7f7fd2d": {
      "model_module": "@jupyter-widgets/base",
      "model_module_version": "1.0.0",
      "model_name": "LayoutModel",
      "state": {}
     },
     "cd697b4e947b4973b4b32d4da3499219": {
      "model_module": "@jupyter-widgets/controls",
      "model_module_version": "1.2.0",
      "model_name": "LabelModel",
      "state": {
       "layout": "IPY_MODEL_26b80179517e4b0baa9f3af84146b235",
       "style": "IPY_MODEL_4a3df1f143e8450d88389850d2cfbe53",
       "value": "Locating ctrl-H57/no-cells_SAv-100k_SSS-ctrl-H57-50k_029_.SPE (213/213)"
      }
     },
     "cd8ac3be2fdd48b181b57c15faf5cb6a": {
      "model_module": "@jupyter-widgets/controls",
      "model_module_version": "1.2.0",
      "model_name": "SliderStyleModel",
      "state": {
       "description_width": ""
      }
     },
     "cd9fb810d7d545a28ff6305a502a3ac9": {
      "model_module": "@jupyter-widgets/controls",
      "model_module_version": "1.2.0",
      "model_name": "DescriptionStyleModel",
      "state": {
       "description_width": ""
      }
     },
     "cdab130af73545948f349a9779d58fd5": {
      "model_module": "@jupyter-widgets/controls",
      "model_module_version": "1.2.0",
      "model_name": "HBoxModel",
      "state": {
       "children": [
        "IPY_MODEL_5d7446d851ec4f579be2efa3d820e5dc",
        "IPY_MODEL_86c69153440d494eb9e52469c9909b45",
        "IPY_MODEL_4e02df3fdb114001b616a2528f835648"
       ],
       "layout": "IPY_MODEL_53a0216b84bb4febac866bd1581d3a08"
      }
     },
     "cdab3f1ca1a844ac9a1c96886bcb7f1a": {
      "model_module": "@jupyter-widgets/base",
      "model_module_version": "1.0.0",
      "model_name": "LayoutModel",
      "state": {
       "display": "none"
      }
     },
     "cddee87aa2554225887a998832e81dc0": {
      "model_module": "@jupyter-widgets/controls",
      "model_module_version": "1.2.0",
      "model_name": "DescriptionStyleModel",
      "state": {
       "description_width": ""
      }
     },
     "ce3f20ebfd14492fa38c6c5c3cf5768f": {
      "model_module": "@jupyter-widgets/controls",
      "model_module_version": "1.2.0",
      "model_name": "ButtonStyleModel",
      "state": {}
     },
     "ce558e41002f4a728f1c99b7abf8847e": {
      "model_module": "@jupyter-widgets/controls",
      "model_module_version": "1.2.0",
      "model_name": "VBoxModel",
      "state": {
       "children": [
        "IPY_MODEL_7e69e27a79d54518ba4291cb90d5052e",
        "IPY_MODEL_8793427b89a2477384ccd98b45e8650e",
        "IPY_MODEL_4e6a001374d74b88a33cb6ba3c4b552a"
       ],
       "layout": "IPY_MODEL_f982f86b5a9d4ee8b28c7f3247372882"
      }
     },
     "ce70c249bd644969ba98b18e3c1fc1db": {
      "model_module": "@jupyter-widgets/controls",
      "model_module_version": "1.2.0",
      "model_name": "HBoxModel",
      "state": {
       "children": [
        "IPY_MODEL_2b8b9302d0f9428686e139e3c91bbfec",
        "IPY_MODEL_314d4dde2e7143af86f5e874575a1e5e"
       ],
       "layout": "IPY_MODEL_661e3c078c954251ac0eaed1f5a41778"
      }
     },
     "cea55a99c8414b838bb94c3bd451ee4f": {
      "model_module": "@jupyter-widgets/controls",
      "model_module_version": "1.2.0",
      "model_name": "VBoxModel",
      "state": {
       "children": [
        "IPY_MODEL_1ac8bfa0df214c21bddbf5915ae44e15",
        "IPY_MODEL_0b7488dc0c1a4be3a881714889f948cc"
       ],
       "layout": "IPY_MODEL_68ecbd9deee449c5bcb9772b03a5f3ac"
      }
     },
     "cedde3392f934fa99c5adc1540c82f2e": {
      "model_module": "@jupyter-widgets/base",
      "model_module_version": "1.0.0",
      "model_name": "LayoutModel",
      "state": {}
     },
     "cef17bc089aa4519b8aa5b0bc6fb5d77": {
      "model_module": "@jupyter-widgets/base",
      "model_module_version": "1.0.0",
      "model_name": "LayoutModel",
      "state": {}
     },
     "cf0d308883f64f42954368c4494fe3aa": {
      "model_module": "@jupyter-widgets/controls",
      "model_module_version": "1.2.0",
      "model_name": "FloatTextModel",
      "state": {
       "description": "sigma",
       "layout": "IPY_MODEL_57e56208b76048eb9a4b54967a9f767e",
       "step": 0.1,
       "style": "IPY_MODEL_33e0e4bf86b840f8a07fa69c50e39c00",
       "value": 1
      }
     },
     "cf5f51ce063a453bbe47101598458750": {
      "model_module": "@jupyter-widgets/controls",
      "model_module_version": "1.2.0",
      "model_name": "SliderStyleModel",
      "state": {
       "description_width": ""
      }
     },
     "cf6dbc4efe87490ba291bee634e48b75": {
      "model_module": "@jupyter-widgets/base",
      "model_module_version": "1.0.0",
      "model_name": "LayoutModel",
      "state": {
       "width": "100%"
      }
     },
     "cf9cc20b63d047b99a04d38292f2ba64": {
      "model_module": "@jupyter-widgets/controls",
      "model_module_version": "1.2.0",
      "model_name": "VBoxModel",
      "state": {
       "children": [
        "IPY_MODEL_2aeaabc4b9664104a7864f9d43b1d619",
        "IPY_MODEL_8b90ed70d2554b48a466342454012047"
       ],
       "layout": "IPY_MODEL_08cbf097b5044a9e9658b1d5c04785f4"
      }
     },
     "cfa32745ebd04dfb992444c4c45e14fc": {
      "model_module": "@jupyter-widgets/base",
      "model_module_version": "1.0.0",
      "model_name": "LayoutModel",
      "state": {}
     },
     "cfb64c186bc4449b9bc297a976404885": {
      "model_module": "@jupyter-widgets/base",
      "model_module_version": "1.0.0",
      "model_name": "LayoutModel",
      "state": {}
     },
     "cff2e78cddb748b29dc024bb9f23ab30": {
      "model_module": "@jupyter-widgets/controls",
      "model_module_version": "1.2.0",
      "model_name": "FloatTextModel",
      "state": {
       "description": "sigma",
       "layout": "IPY_MODEL_0bbae70001a54bdfa7504e058d9a2e55",
       "step": 0.1,
       "style": "IPY_MODEL_767c389b3ad44f7ab00364045a966393",
       "value": 1
      }
     },
     "d00994195ff44f51a5ca3048b41a76f7": {
      "model_module": "@jupyter-widgets/controls",
      "model_module_version": "1.2.0",
      "model_name": "CheckboxModel",
      "state": {
       "description": "Min. distance",
       "disabled": false,
       "indent": false,
       "layout": "IPY_MODEL_9524dc61fde742a9bac5f244577b797a",
       "style": "IPY_MODEL_4115c41ecd2f4ce59131fe44e539850f",
       "value": false
      }
     },
     "d03f9cd65f624aa1b3062d444534c742": {
      "model_module": "@jupyter-widgets/controls",
      "model_module_version": "1.2.0",
      "model_name": "FloatTextModel",
      "state": {
       "description": "min.",
       "layout": "IPY_MODEL_9c5aa012a6e3431087ea07844a161eb2",
       "step": 0.1,
       "style": "IPY_MODEL_01f6114e99c54035b39fe440e01986c9",
       "value": 0.5
      }
     },
     "d07a4186820840239ab8e5eb70813624": {
      "model_module": "@jupyter-widgets/base",
      "model_module_version": "1.0.0",
      "model_name": "LayoutModel",
      "state": {
       "display": "none"
      }
     },
     "d07de0d18471434090f63b183d5e89f7": {
      "model_module": "@jupyter-widgets/controls",
      "model_module_version": "1.2.0",
      "model_name": "VBoxModel",
      "state": {
       "children": [
        "IPY_MODEL_a361a63fde3643099fd6c21149f906fc",
        "IPY_MODEL_1927fade527b44e3b55d8b2bbaa09f28",
        "IPY_MODEL_5b47e1c4bc184de1922550875cd3a9bb"
       ],
       "layout": "IPY_MODEL_477a123183b340b3bcba4ed01f9f591b"
      }
     },
     "d0925dc0e0ca4010b09c0028c21651f8": {
      "model_module": "@jupyter-widgets/base",
      "model_module_version": "1.0.0",
      "model_name": "LayoutModel",
      "state": {
       "display": "none"
      }
     },
     "d09c9c8759db4d27b3f03851cedd0f87": {
      "model_module": "@jupyter-widgets/controls",
      "model_module_version": "1.2.0",
      "model_name": "FloatTextModel",
      "state": {
       "layout": "IPY_MODEL_f172e379c8aa40d498e73d9fe907025a",
       "step": 0.1,
       "style": "IPY_MODEL_dd18ffaa4dfc435198684d85c94556fd",
       "value": 3
      }
     },
     "d0a9f7327ced408cb3b75e015b51cd4e": {
      "model_module": "@jupyter-widgets/base",
      "model_module_version": "1.0.0",
      "model_name": "LayoutModel",
      "state": {}
     },
     "d0e29c1372864fdeb9e793b8d54bae2b": {
      "model_module": "@jupyter-widgets/base",
      "model_module_version": "1.0.0",
      "model_name": "LayoutModel",
      "state": {
       "width": "auto"
      }
     },
     "d11b8b45a4ad44eea60029274dfe2e79": {
      "model_module": "@jupyter-widgets/base",
      "model_module_version": "1.0.0",
      "model_name": "LayoutModel",
      "state": {
       "border": "1px solid gray"
      }
     },
     "d13dca73dfab4d01a7f4ac9396aa4625": {
      "model_module": "@jupyter-widgets/base",
      "model_module_version": "1.0.0",
      "model_name": "LayoutModel",
      "state": {}
     },
     "d1454b9d7e1e4968bcd840c451e5d9dc": {
      "model_module": "@jupyter-widgets/base",
      "model_module_version": "1.0.0",
      "model_name": "LayoutModel",
      "state": {}
     },
     "d1773b06b7614fe380b8490c85ae1797": {
      "model_module": "@jupyter-widgets/controls",
      "model_module_version": "1.2.0",
      "model_name": "FloatTextModel",
      "state": {
       "description": "threshold",
       "layout": "IPY_MODEL_1349499d518a404598f1082519609c97",
       "step": 10,
       "style": "IPY_MODEL_bc8d0036b27049a28229c5694daababe",
       "value": 1000
      }
     },
     "d1979fb674764dc3a2d492d2045c3e47": {
      "model_module": "@jupyter-widgets/base",
      "model_module_version": "1.0.0",
      "model_name": "LayoutModel",
      "state": {}
     },
     "d1cdfbd5506546e18b0bf7034d086c32": {
      "model_module": "@jupyter-widgets/controls",
      "model_module_version": "1.2.0",
      "model_name": "DescriptionStyleModel",
      "state": {
       "description_width": ""
      }
     },
     "d1d89a30fa0b456ca3c4bef22163d084": {
      "model_module": "@jupyter-widgets/controls",
      "model_module_version": "1.2.0",
      "model_name": "DescriptionStyleModel",
      "state": {
       "description_width": ""
      }
     },
     "d21d4e68107f43489fea482a77b5202c": {
      "model_module": "@jupyter-widgets/controls",
      "model_module_version": "1.2.0",
      "model_name": "FloatTextModel",
      "state": {
       "description": "threshold",
       "layout": "IPY_MODEL_042ebc57e42b4549895c60f4edbf265d",
       "step": 10,
       "style": "IPY_MODEL_1c824a0b6f3240e5af259e9c61791276",
       "value": 1000
      }
     },
     "d2317dddab1d4f28b34d599ceb264474": {
      "model_module": "@jupyter-widgets/base",
      "model_module_version": "1.0.0",
      "model_name": "LayoutModel",
      "state": {
       "width": "auto"
      }
     },
     "d271830888304b6480c115f495085707": {
      "model_module": "@jupyter-widgets/controls",
      "model_module_version": "1.2.0",
      "model_name": "FloatTextModel",
      "state": {
       "description": "radius",
       "layout": "IPY_MODEL_f9cad0d8bf9e4196a01e23602e0ad434",
       "step": 0.1,
       "style": "IPY_MODEL_60148b202487413ca2525ec620373960",
       "value": 1
      }
     },
     "d277ada9698942f7a3120b5b5b0020f6": {
      "model_module": "@jupyter-widgets/controls",
      "model_module_version": "1.2.0",
      "model_name": "DropdownModel",
      "state": {
       "_options_labels": [
        "2d_fixed",
        "2d",
        "3d"
       ],
       "description": "model",
       "index": 1,
       "layout": "IPY_MODEL_2b5f6308bdf14b199396b2ea3b42bb13",
       "style": "IPY_MODEL_4babe68aecce4550b50f696121e4b54e"
      }
     },
     "d295d8525c50462c91d83e3ae5aae08f": {
      "model_module": "@jupyter-widgets/controls",
      "model_module_version": "1.2.0",
      "model_name": "FloatTextModel",
      "state": {
       "description": "radius",
       "layout": "IPY_MODEL_ef583b65214f4e799def73a9bcee58da",
       "step": 0.1,
       "style": "IPY_MODEL_ff83dba6849b4566a2c5b855469ef06c",
       "value": 1
      }
     },
     "d297437b02b844708dea073de8fed73e": {
      "model_module": "@jupyter-widgets/controls",
      "model_module_version": "1.2.0",
      "model_name": "CheckboxModel",
      "state": {
       "description": "Show loc.",
       "disabled": false,
       "indent": false,
       "layout": "IPY_MODEL_93b9e5519cb747339a8132d5eb7d4762",
       "style": "IPY_MODEL_11ee04842b9941189f848983bbd33060",
       "value": true
      }
     },
     "d2a6b9d036384b048dc880e8de56b025": {
      "model_module": "@jupyter-widgets/controls",
      "model_module_version": "1.2.0",
      "model_name": "HBoxModel",
      "state": {
       "children": [
        "IPY_MODEL_299f78c9bbf54627a5cf711b09631352",
        "IPY_MODEL_fc25cb9d938742c5b8eb185119d2c027",
        "IPY_MODEL_d297437b02b844708dea073de8fed73e"
       ],
       "layout": "IPY_MODEL_ba08a73ea0dd4a3d82ca9fb760ae89a9"
      }
     },
     "d2b5042a9f0444d1924bcf1fd5e7eca3": {
      "model_module": "@jupyter-widgets/base",
      "model_module_version": "1.0.0",
      "model_name": "LayoutModel",
      "state": {
       "width": "auto"
      }
     },
     "d2df79d773ea4115a96da54b67b1d450": {
      "model_module": "@jupyter-widgets/base",
      "model_module_version": "1.0.0",
      "model_name": "LayoutModel",
      "state": {}
     },
     "d2ec2c846e5f41738e5cf8d5b73514c9": {
      "model_module": "@jupyter-widgets/controls",
      "model_module_version": "1.2.0",
      "model_name": "ButtonModel",
      "state": {
       "description": "Auto",
       "layout": "IPY_MODEL_f7eff9ccac2d490e98067dfe846055d2",
       "style": "IPY_MODEL_afd8f7afc04843c29bffdb3506bacc65"
      }
     },
     "d2f150c4a8744343a106dbf84685e7dc": {
      "model_module": "@jupyter-widgets/controls",
      "model_module_version": "1.2.0",
      "model_name": "DescriptionStyleModel",
      "state": {
       "description_width": ""
      }
     },
     "d31b28c6b839423d8fae0713f12983cf": {
      "model_module": "@jupyter-widgets/controls",
      "model_module_version": "1.2.0",
      "model_name": "ButtonStyleModel",
      "state": {}
     },
     "d35770f8853e4d2aa6ae3914d7dcf8e7": {
      "model_module": "@jupyter-widgets/controls",
      "model_module_version": "1.2.0",
      "model_name": "DescriptionStyleModel",
      "state": {
       "description_width": ""
      }
     },
     "d36786cf6ebf40a3b1cc5a0b8a5ede8a": {
      "model_module": "@jupyter-widgets/base",
      "model_module_version": "1.0.0",
      "model_name": "LayoutModel",
      "state": {
       "display": "none"
      }
     },
     "d3766a29be6c40149321205bfdce3c6a": {
      "model_module": "@jupyter-widgets/controls",
      "model_module_version": "1.2.0",
      "model_name": "DescriptionStyleModel",
      "state": {
       "description_width": ""
      }
     },
     "d37c3c26d37b4853b33e5892e85b76f3": {
      "model_module": "@jupyter-widgets/base",
      "model_module_version": "1.0.0",
      "model_name": "LayoutModel",
      "state": {
       "display": "inline"
      }
     },
     "d38c2650916a4a689d6ef7c0cef83dc4": {
      "model_module": "@jupyter-widgets/controls",
      "model_module_version": "1.2.0",
      "model_name": "DescriptionStyleModel",
      "state": {
       "description_width": ""
      }
     },
     "d390553b939f4f698bd9795f988dd207": {
      "model_module": "@jupyter-widgets/base",
      "model_module_version": "1.0.0",
      "model_name": "LayoutModel",
      "state": {
       "width": "auto"
      }
     },
     "d3a10ad7dbe848a4b90517516149856c": {
      "model_module": "@jupyter-widgets/controls",
      "model_module_version": "1.2.0",
      "model_name": "CheckboxModel",
      "state": {
       "description": "Show loc.",
       "disabled": false,
       "indent": false,
       "layout": "IPY_MODEL_07510a80d1154ce0a25057b5c67d278e",
       "style": "IPY_MODEL_d4742b4d731543c59e8f923892f71ae2",
       "value": true
      }
     },
     "d3bc122c893f43a9a701e4b6f4766028": {
      "model_module": "@jupyter-widgets/controls",
      "model_module_version": "1.2.0",
      "model_name": "FloatTextModel",
      "state": {
       "layout": "IPY_MODEL_d2317dddab1d4f28b34d599ceb264474",
       "step": 0.1,
       "style": "IPY_MODEL_e19a11b395424a579922ad3ad491538c",
       "value": 3
      }
     },
     "d3bdd42f1d7a44b3a2a9464ffb9ff5b7": {
      "model_module": "@jupyter-widgets/controls",
      "model_module_version": "1.2.0",
      "model_name": "HBoxModel",
      "state": {
       "children": [
        "IPY_MODEL_c10ac3a630a244a48c1c28ae64614898",
        "IPY_MODEL_b119cccce6db485a8e1605a68bb63731",
        "IPY_MODEL_2f46ab7834e24ba5b2f8dd7da1f358d1"
       ],
       "layout": "IPY_MODEL_78d00e24e66247fcb1ee681aa55b73a9"
      }
     },
     "d4578ad5188e420f86fbf300ed9219be": {
      "model_module": "@jupyter-widgets/controls",
      "model_module_version": "1.2.0",
      "model_name": "ButtonModel",
      "state": {
       "description": "Auto",
       "layout": "IPY_MODEL_f8a313867b3248b9b775b23e0e3f43ab",
       "style": "IPY_MODEL_d31b28c6b839423d8fae0713f12983cf"
      }
     },
     "d45b79d73c1b4ddcb8351fe463414e1e": {
      "model_module": "@jupyter-widgets/controls",
      "model_module_version": "1.2.0",
      "model_name": "DescriptionStyleModel",
      "state": {
       "description_width": ""
      }
     },
     "d46998510eb243148f4ee26efbf2e7c7": {
      "model_module": "@jupyter-widgets/controls",
      "model_module_version": "1.2.0",
      "model_name": "DescriptionStyleModel",
      "state": {
       "description_width": ""
      }
     },
     "d4742b4d731543c59e8f923892f71ae2": {
      "model_module": "@jupyter-widgets/controls",
      "model_module_version": "1.2.0",
      "model_name": "DescriptionStyleModel",
      "state": {
       "description_width": ""
      }
     },
     "d4d4bf77cbaf495187273329a6e528c5": {
      "model_module": "@jupyter-widgets/base",
      "model_module_version": "1.0.0",
      "model_name": "LayoutModel",
      "state": {}
     },
     "d572260f107c4bb89acc270bca561ddd": {
      "model_module": "@jupyter-widgets/base",
      "model_module_version": "1.0.0",
      "model_name": "LayoutModel",
      "state": {}
     },
     "d589a64ea0144e829816e9d737a2d6bc": {
      "model_module": "@jupyter-widgets/controls",
      "model_module_version": "1.2.0",
      "model_name": "DescriptionStyleModel",
      "state": {
       "description_width": ""
      }
     },
     "d5b6469fb03547a0bc9f4e339c5580ce": {
      "model_module": "@jupyter-widgets/controls",
      "model_module_version": "1.2.0",
      "model_name": "DescriptionStyleModel",
      "state": {
       "description_width": ""
      }
     },
     "d5d2422e7b104a0e914acbd0deb93f42": {
      "model_module": "@jupyter-widgets/base",
      "model_module_version": "1.0.0",
      "model_name": "LayoutModel",
      "state": {}
     },
     "d602377a27cd41f795c7c6738fc80d1e": {
      "model_module": "@jupyter-widgets/controls",
      "model_module_version": "1.2.0",
      "model_name": "HBoxModel",
      "state": {
       "children": [
        "IPY_MODEL_14d5221e58f840aa88183d9af9408333",
        "IPY_MODEL_524a214ce2164bc7b9a12d01e86409f1",
        "IPY_MODEL_5d2ac90b66f548228add6317731b95b1"
       ],
       "layout": "IPY_MODEL_dd7044f1536541f8b6d88270e4b24fec"
      }
     },
     "d63e77dedafe48898558983d15f08ff5": {
      "model_module": "@jupyter-widgets/base",
      "model_module_version": "1.0.0",
      "model_name": "LayoutModel",
      "state": {
       "display": "none"
      }
     },
     "d66078a9781e4b2ca2af5639e2f167cc": {
      "model_module": "@jupyter-widgets/controls",
      "model_module_version": "1.2.0",
      "model_name": "DescriptionStyleModel",
      "state": {
       "description_width": ""
      }
     },
     "d6709a2270e74c0eb5c06bd68f74a16c": {
      "model_module": "@jupyter-widgets/base",
      "model_module_version": "1.0.0",
      "model_name": "LayoutModel",
      "state": {}
     },
     "d6f74efac8b84c718f356dc701fbceb6": {
      "model_module": "@jupyter-widgets/controls",
      "model_module_version": "1.2.0",
      "model_name": "VBoxModel",
      "state": {
       "children": [
        "IPY_MODEL_56bb1eb1da41452aa95e86ee51c1c925",
        "IPY_MODEL_80ed4a1176914252bf03bbd3df62e1c5",
        "IPY_MODEL_ec3a39d4975e48498ef052621df3d348",
        "IPY_MODEL_f6c4143a7b6e4c85a5df0b7ac6cdf210",
        "IPY_MODEL_8277aa72a4134dafa78f589ff2231453",
        "IPY_MODEL_923b980f12c8486992a45c2467f1e3fb"
       ],
       "layout": "IPY_MODEL_6ee7ec2215584e7cb4c5f9ebdca84026"
      }
     },
     "d700234ff2bd43d98b61da89639fba43": {
      "model_module": "@jupyter-widgets/controls",
      "model_module_version": "1.2.0",
      "model_name": "FloatTextModel",
      "state": {
       "description": "max.",
       "layout": "IPY_MODEL_4af9a176f0ca4384ae53f7545adf1ca3",
       "step": 0.1,
       "style": "IPY_MODEL_682cf9602ce142908f593322c52e9dc1",
       "value": 2
      }
     },
     "d7122f5bd03f49fba84fa28e42bb72db": {
      "model_module": "@jupyter-widgets/controls",
      "model_module_version": "1.2.0",
      "model_name": "CheckboxModel",
      "state": {
       "description": "Show loc.",
       "disabled": false,
       "indent": false,
       "layout": "IPY_MODEL_ab8027fd81ce4cda9ea2e480101f6eda",
       "style": "IPY_MODEL_4351646a537848f0b89ddf17d9c3729c",
       "value": true
      }
     },
     "d724312b449143348409eb572e8beb38": {
      "model_module": "@jupyter-widgets/controls",
      "model_module_version": "1.2.0",
      "model_name": "DescriptionStyleModel",
      "state": {
       "description_width": ""
      }
     },
     "d73383bfe9e84b2091b2f51a95d1fb57": {
      "model_module": "@jupyter-widgets/base",
      "model_module_version": "1.0.0",
      "model_name": "LayoutModel",
      "state": {}
     },
     "d735dba375544b108334d705a917ad42": {
      "model_module": "@jupyter-widgets/controls",
      "model_module_version": "1.2.0",
      "model_name": "CheckboxModel",
      "state": {
       "description": "Min. distance",
       "disabled": false,
       "indent": false,
       "layout": "IPY_MODEL_0c9b1166092a416bafb4ec0991ca6558",
       "style": "IPY_MODEL_db045e352333443180687f4ac0f34d1a",
       "value": false
      }
     },
     "d73bccaf5074400eb1e7f09ab7883930": {
      "model_module": "@jupyter-widgets/base",
      "model_module_version": "1.0.0",
      "model_name": "LayoutModel",
      "state": {
       "width": "100%"
      }
     },
     "d7528cf96f4a414395554a3729c0ba6e": {
      "model_module": "@jupyter-widgets/base",
      "model_module_version": "1.0.0",
      "model_name": "LayoutModel",
      "state": {
       "display": "none"
      }
     },
     "d7695ff71b5c4684913fd9e4d0fa6b6b": {
      "model_module": "@jupyter-widgets/controls",
      "model_module_version": "1.2.0",
      "model_name": "FloatTextModel",
      "state": {
       "description": "threshold",
       "layout": "IPY_MODEL_5e1620de67ef423d9dcf6ed618d2da27",
       "step": 10,
       "style": "IPY_MODEL_d1d89a30fa0b456ca3c4bef22163d084",
       "value": 1000
      }
     },
     "d790fccb856d4eb0ac598b39495ac337": {
      "model_module": "@jupyter-widgets/controls",
      "model_module_version": "1.2.0",
      "model_name": "DescriptionStyleModel",
      "state": {
       "description_width": ""
      }
     },
     "d7935eac62854690ab82ac17c622bf21": {
      "model_module": "@jupyter-widgets/controls",
      "model_module_version": "1.2.0",
      "model_name": "IntRangeSliderModel",
      "state": {
       "_model_name": "IntRangeSliderModel",
       "_view_name": "IntRangeSliderView",
       "layout": "IPY_MODEL_79f60ce6dc2f41169c7f7db75c044dd5",
       "max": 65535,
       "style": "IPY_MODEL_946af716b9914b46ba07d1bbcdc37da6",
       "value": [
        134,
        25393
       ]
      }
     },
     "d7a264b90a064225b67d67860490ac0c": {
      "model_module": "@jupyter-widgets/base",
      "model_module_version": "1.0.0",
      "model_name": "LayoutModel",
      "state": {}
     },
     "d7a2d3856bf24c8daa5c454b34f335ae": {
      "model_module": "@jupyter-widgets/controls",
      "model_module_version": "1.2.0",
      "model_name": "DescriptionStyleModel",
      "state": {
       "description_width": ""
      }
     },
     "d7abd9ce54dd4274bf1404185220f693": {
      "model_module": "@jupyter-widgets/base",
      "model_module_version": "1.0.0",
      "model_name": "LayoutModel",
      "state": {}
     },
     "d7c003ad030e43d7920d916a0cd7b2d3": {
      "model_module": "@jupyter-widgets/controls",
      "model_module_version": "1.2.0",
      "model_name": "DescriptionStyleModel",
      "state": {
       "description_width": ""
      }
     },
     "d7c93011fe4a42a6bb28fd93fde7a9e7": {
      "model_module": "@jupyter-widgets/base",
      "model_module_version": "1.0.0",
      "model_name": "LayoutModel",
      "state": {
       "width": "auto"
      }
     },
     "d7cca073dbf945fe9549c63b26a0a8a5": {
      "model_module": "@jupyter-widgets/base",
      "model_module_version": "1.0.0",
      "model_name": "LayoutModel",
      "state": {}
     },
     "d7ee45995d7543e0b8e6bc5fcef1c00a": {
      "model_module": "@jupyter-widgets/base",
      "model_module_version": "1.0.0",
      "model_name": "LayoutModel",
      "state": {}
     },
     "d7fa2281c10b4adf84ba27f9fc3d0be7": {
      "model_module": "@jupyter-widgets/controls",
      "model_module_version": "1.2.0",
      "model_name": "BoundedIntTextModel",
      "state": {
       "description": "frame",
       "layout": "IPY_MODEL_7268f4510a1a451fa79647460f51b16a",
       "max": 0,
       "style": "IPY_MODEL_f2e48de82e5e4ca78a857a4de020d8ed"
      }
     },
     "d8206cec6aa245359e7e5a9d25bc355f": {
      "model_module": "@jupyter-widgets/controls",
      "model_module_version": "1.2.0",
      "model_name": "FloatTextModel",
      "state": {
       "layout": "IPY_MODEL_f6d5f5dc29114c3582188cd0a99698f2",
       "step": 0.1,
       "style": "IPY_MODEL_ed0d482f13a94b8aa51d17b77120e7e0",
       "value": 3
      }
     },
     "d849f8b455314dd9bff70caa8a14f535": {
      "model_module": "@jupyter-widgets/base",
      "model_module_version": "1.0.0",
      "model_name": "LayoutModel",
      "state": {
       "width": "auto"
      }
     },
     "d8fd62f4c0324903a98d8f21f1eff2af": {
      "model_module": "@jupyter-widgets/base",
      "model_module_version": "1.0.0",
      "model_name": "LayoutModel",
      "state": {}
     },
     "d96e483d1b09466ca38957a861f96be9": {
      "model_module": "@jupyter-widgets/controls",
      "model_module_version": "1.2.0",
      "model_name": "SelectModel",
      "state": {
       "_options_labels": [
        "data/beads/beads_000_.SPE",
        "data/beads/beads_001_.SPE",
        "data/beads/beads_002_.SPE",
        "data/beads/beads_003_.SPE",
        "data/beads/beads_004_.SPE",
        "data/beads/beads_005_.SPE",
        "data/beads/beads_006_.SPE",
        "data/beads/beads_007_.SPE",
        "data/beads/beads_008_.SPE",
        "data/beads/beads_009_.SPE"
       ],
       "index": 0,
       "layout": "IPY_MODEL_d7c93011fe4a42a6bb28fd93fde7a9e7",
       "style": "IPY_MODEL_d1cdfbd5506546e18b0bf7034d086c32"
      }
     },
     "d997084149b24a16adf3ec0089df3b87": {
      "model_module": "@jupyter-widgets/controls",
      "model_module_version": "1.2.0",
      "model_name": "VBoxModel",
      "state": {
       "children": [
        "IPY_MODEL_05c83d8adb7a4dababc3d43a13d279d9",
        "IPY_MODEL_6a97d7241dd346a892234351c46b42a3",
        "IPY_MODEL_aa6ef432ab714360a1cccccddab24adf",
        "IPY_MODEL_1653a7a365f3480d9d9d6e9503868b77",
        "IPY_MODEL_a479a55c7f3942fcb26410dc9f27870b",
        "IPY_MODEL_ac27177f41674d4e942fc6991d3fdff7"
       ],
       "layout": "IPY_MODEL_da38503ca1254c95bc152641a5b98aad"
      }
     },
     "d9c72ea5ac5e4104bd5e802eb4cb1431": {
      "model_module": "@jupyter-widgets/controls",
      "model_module_version": "1.2.0",
      "model_name": "VBoxModel",
      "state": {
       "children": [
        "IPY_MODEL_96cc0367d7534bdda87c1689c2577662",
        "IPY_MODEL_4f0d8fd39d3d4d018d4b0ea18b0cefee",
        "IPY_MODEL_afaef695b4f84a9ba5b3a032d0002d6a"
       ],
       "layout": "IPY_MODEL_74e76e9dc43b46c4a0fbab97fa05ac82"
      }
     },
     "d9f9845a6f2145cebc5354cc6553b7f8": {
      "model_module": "@jupyter-widgets/base",
      "model_module_version": "1.0.0",
      "model_name": "LayoutModel",
      "state": {
       "border": "1px solid gray"
      }
     },
     "da29bfbc60c3498ba7f1cde3f3796ac4": {
      "model_module": "@jupyter-widgets/controls",
      "model_module_version": "1.2.0",
      "model_name": "VBoxModel",
      "state": {
       "children": [
        "IPY_MODEL_d295d8525c50462c91d83e3ae5aae08f",
        "IPY_MODEL_17610fa125044383bad718745075fbe0",
        "IPY_MODEL_5474fcb3521040fd888dbb6faa2b9ab1",
        "IPY_MODEL_f73431f6793a4f708c5f31ce91d5ade7",
        "IPY_MODEL_bf3ff81513954d90b2eeaa52a708c72e",
        "IPY_MODEL_1191e59b698f41caac1f2543b9ec672d"
       ],
       "layout": "IPY_MODEL_08031491c93e44c89351b873ef2d2793"
      }
     },
     "da38503ca1254c95bc152641a5b98aad": {
      "model_module": "@jupyter-widgets/base",
      "model_module_version": "1.0.0",
      "model_name": "LayoutModel",
      "state": {
       "display": "flex",
       "flex_flow": "column wrap",
       "width": "66%"
      }
     },
     "da6998b0eeac4a14aa88cad19e27679d": {
      "model_module": "@jupyter-widgets/controls",
      "model_module_version": "1.2.0",
      "model_name": "SliderStyleModel",
      "state": {
       "description_width": ""
      }
     },
     "dad3538d532141688f011f43545d73aa": {
      "model_module": "@jupyter-widgets/controls",
      "model_module_version": "1.2.0",
      "model_name": "DescriptionStyleModel",
      "state": {
       "description_width": ""
      }
     },
     "db045e352333443180687f4ac0f34d1a": {
      "model_module": "@jupyter-widgets/controls",
      "model_module_version": "1.2.0",
      "model_name": "DescriptionStyleModel",
      "state": {
       "description_width": ""
      }
     },
     "db1e4da70e574d328eb4b0395d9d5099": {
      "model_module": "@jupyter-widgets/base",
      "model_module_version": "1.0.0",
      "model_name": "LayoutModel",
      "state": {
       "width": "auto"
      }
     },
     "db401807dd224cf9b09e0b6bfce6b878": {
      "model_module": "@jupyter-widgets/controls",
      "model_module_version": "1.2.0",
      "model_name": "FloatTextModel",
      "state": {
       "description": "min.",
       "layout": "IPY_MODEL_16adeca1a5c84244923fc975362493e7",
       "step": 0.1,
       "style": "IPY_MODEL_38dcb74fa34f48f4a0a41912cd4ac83d",
       "value": 0.5
      }
     },
     "db82f6ed96e04ec180beeb0545306c8e": {
      "model_module": "@jupyter-widgets/controls",
      "model_module_version": "1.2.0",
      "model_name": "DescriptionStyleModel",
      "state": {
       "description_width": ""
      }
     },
     "db84dc2b028949aea5dc5f2e91cbf792": {
      "model_module": "@jupyter-widgets/base",
      "model_module_version": "1.0.0",
      "model_name": "LayoutModel",
      "state": {
       "display": "none"
      }
     },
     "dba461e27a4f420da9fd5af4a5ee2dad": {
      "model_module": "@jupyter-widgets/controls",
      "model_module_version": "1.2.0",
      "model_name": "DescriptionStyleModel",
      "state": {
       "description_width": ""
      }
     },
     "dbb63c80dc9642bd9dbb73304be13397": {
      "model_module": "@jupyter-widgets/base",
      "model_module_version": "1.0.0",
      "model_name": "LayoutModel",
      "state": {}
     },
     "dc762c2f03604770bfc42e728b938bfb": {
      "model_module": "@jupyter-widgets/controls",
      "model_module_version": "1.2.0",
      "model_name": "BoundedIntTextModel",
      "state": {
       "description": "frame",
       "layout": "IPY_MODEL_2f74747c945244348968b676d001dc3d",
       "max": 49,
       "style": "IPY_MODEL_09565482a60f468594efd05d8d47ce33"
      }
     },
     "dc9b2fd2f53a40a29031dd96781ef514": {
      "model_module": "@jupyter-widgets/base",
      "model_module_version": "1.0.0",
      "model_name": "LayoutModel",
      "state": {}
     },
     "dca9dd971b584ed1885dee7f185ae186": {
      "model_module": "@jupyter-widgets/controls",
      "model_module_version": "1.2.0",
      "model_name": "VBoxModel",
      "state": {
       "children": [
        "IPY_MODEL_d96e483d1b09466ca38957a861f96be9",
        "IPY_MODEL_5b4a729fccd342f195d983a5748e6211"
       ],
       "layout": "IPY_MODEL_8ec6da2c67544898804aac810349c4c2"
      }
     },
     "dcbf8a889bd04d8c9ff2ccec087765e6": {
      "model_module": "@jupyter-widgets/base",
      "model_module_version": "1.0.0",
      "model_name": "LayoutModel",
      "state": {}
     },
     "dcc09b93320e44609364bbcb9876e1ee": {
      "model_module": "@jupyter-widgets/base",
      "model_module_version": "1.0.0",
      "model_name": "LayoutModel",
      "state": {
       "height": "150px",
       "width": "100%"
      }
     },
     "dcc1fee65e7e40488a2829e87fe22560": {
      "model_module": "@jupyter-widgets/controls",
      "model_module_version": "1.2.0",
      "model_name": "CheckboxModel",
      "state": {
       "description": "Size range",
       "disabled": false,
       "indent": false,
       "layout": "IPY_MODEL_3ffb629a5fc24209b28d844fa0f143d2",
       "style": "IPY_MODEL_82cc1b5d18df45f3a6d56f36a65c333b",
       "value": false
      }
     },
     "dcc952a66232410fa1fa9c39859c4476": {
      "model_module": "@jupyter-widgets/controls",
      "model_module_version": "1.2.0",
      "model_name": "DescriptionStyleModel",
      "state": {
       "description_width": ""
      }
     },
     "dcef5ea0496c44698a49d5beef93f6dc": {
      "model_module": "@jupyter-widgets/controls",
      "model_module_version": "1.2.0",
      "model_name": "HBoxModel",
      "state": {
       "children": [
        "IPY_MODEL_3f782f8371a24ca888d0504cc2dce459",
        "IPY_MODEL_5aa161b57ab74c31a2990499812f4952",
        "IPY_MODEL_530b6a43fc7247a7977cc8fe43e528a8"
       ],
       "layout": "IPY_MODEL_7cadca4ec02f4e818ba61018391b0e13"
      }
     },
     "dd18ffaa4dfc435198684d85c94556fd": {
      "model_module": "@jupyter-widgets/controls",
      "model_module_version": "1.2.0",
      "model_name": "DescriptionStyleModel",
      "state": {
       "description_width": ""
      }
     },
     "dd195f3a9952423dafc9b0ec968d2a48": {
      "model_module": "@jupyter-widgets/controls",
      "model_module_version": "1.2.0",
      "model_name": "SelectModel",
      "state": {
       "_options_labels": [
        "sensor-H57/cells-01_SAv-100k_SSS-H57-20k_000_.SPE"
       ],
       "index": 0,
       "layout": "IPY_MODEL_08d3390a8eb14b92a51410e0026a657c",
       "style": "IPY_MODEL_6d4e419261bb4e17a496830abcc5eeef"
      }
     },
     "dd7044f1536541f8b6d88270e4b24fec": {
      "model_module": "@jupyter-widgets/base",
      "model_module_version": "1.0.0",
      "model_name": "LayoutModel",
      "state": {
       "width": "100%"
      }
     },
     "dd9a793a269044e9867362bea1452dfa": {
      "model_module": "@jupyter-widgets/base",
      "model_module_version": "1.0.0",
      "model_name": "LayoutModel",
      "state": {}
     },
     "dda7600d8fc0499ba6e567e3d915bcb3": {
      "model_module": "@jupyter-widgets/controls",
      "model_module_version": "1.2.0",
      "model_name": "DescriptionStyleModel",
      "state": {
       "description_width": ""
      }
     },
     "ddb3be3e81694f63b945845860c9def7": {
      "model_module": "@jupyter-widgets/base",
      "model_module_version": "1.0.0",
      "model_name": "LayoutModel",
      "state": {
       "height": "150px",
       "width": "100%"
      }
     },
     "de096bf297284c4ba9d71eb7a810dadd": {
      "model_module": "@jupyter-widgets/base",
      "model_module_version": "1.0.0",
      "model_name": "LayoutModel",
      "state": {}
     },
     "de5dcfa265124cf994457d534f2c4215": {
      "model_module": "@jupyter-widgets/base",
      "model_module_version": "1.0.0",
      "model_name": "LayoutModel",
      "state": {
       "width": "auto"
      }
     },
     "de8dd318d68f4b1eb8d39594928fba54": {
      "model_module": "@jupyter-widgets/base",
      "model_module_version": "1.0.0",
      "model_name": "LayoutModel",
      "state": {
       "height": "150px",
       "width": "100%"
      }
     },
     "dea425607c3c4f77828d2dd2c9b30da5": {
      "model_module": "@jupyter-widgets/controls",
      "model_module_version": "1.2.0",
      "model_name": "FloatTextModel",
      "state": {
       "description": "max.",
       "layout": "IPY_MODEL_d63e77dedafe48898558983d15f08ff5",
       "step": 0.1,
       "style": "IPY_MODEL_dcc952a66232410fa1fa9c39859c4476",
       "value": 2
      }
     },
     "deaa69adc590440db289d16e8652a34d": {
      "model_module": "@jupyter-widgets/base",
      "model_module_version": "1.0.0",
      "model_name": "LayoutModel",
      "state": {}
     },
     "deb869177dc842ffbca85924bb7b3bac": {
      "model_module": "@jupyter-widgets/controls",
      "model_module_version": "1.2.0",
      "model_name": "FloatTextModel",
      "state": {
       "description": "max.",
       "layout": "IPY_MODEL_8363f9755aa04c31946b49bf6d81e6cd",
       "step": 0.1,
       "style": "IPY_MODEL_f324c84ec2c446569519026b07558eb9",
       "value": 2
      }
     },
     "df29ef34cc8940728c89c77772ee9ad5": {
      "model_module": "@jupyter-widgets/base",
      "model_module_version": "1.0.0",
      "model_name": "LayoutModel",
      "state": {
       "height": "150px",
       "width": "100%"
      }
     },
     "df29faf8273e48a5bee8d7a223cc08ac": {
      "model_module": "@jupyter-widgets/controls",
      "model_module_version": "1.2.0",
      "model_name": "FloatTextModel",
      "state": {
       "description": "sigma",
       "layout": "IPY_MODEL_3a5322cb3cb44c848a6da8e63862da57",
       "step": 0.1,
       "style": "IPY_MODEL_3bdc168d46bd4052a5c6535d639525d8",
       "value": 1
      }
     },
     "df2a54fb5a494245ae210802a381041a": {
      "model_module": "@jupyter-widgets/controls",
      "model_module_version": "1.2.0",
      "model_name": "VBoxModel",
      "state": {
       "children": [
        "IPY_MODEL_b373f55994874a9ca52d3dc07d8d2ec9",
        "IPY_MODEL_5ae695377cd74172a7305615d64c90c8",
        "IPY_MODEL_bc80a2902e974e47896e17c68df9abe2"
       ],
       "layout": "IPY_MODEL_fd283a9b705b4e168f6a0f5ea4275613"
      }
     },
     "df36990af733499b9507d029215f2f00": {
      "model_module": "@jupyter-widgets/base",
      "model_module_version": "1.0.0",
      "model_name": "LayoutModel",
      "state": {
       "width": "auto"
      }
     },
     "df8dfe6ad0f143f28f5319492ffa643c": {
      "model_module": "@jupyter-widgets/base",
      "model_module_version": "1.0.0",
      "model_name": "LayoutModel",
      "state": {}
     },
     "dfe5a54b21634c8eacd2143a7e1bb3b1": {
      "model_module": "@jupyter-widgets/controls",
      "model_module_version": "1.2.0",
      "model_name": "FloatTextModel",
      "state": {
       "description": "min.",
       "layout": "IPY_MODEL_03aea725465c47fa9e097730c1678540",
       "step": 0.1,
       "style": "IPY_MODEL_b724a9b097eb4e71b1647452e5cbb443",
       "value": 0.5
      }
     },
     "dff1d4a928f6463dae129c8cad3d3d3c": {
      "model_module": "@jupyter-widgets/controls",
      "model_module_version": "1.2.0",
      "model_name": "FloatTextModel",
      "state": {
       "description": "max.",
       "layout": "IPY_MODEL_1538691f74b44e72ac2a71f43fa8d908",
       "step": 0.1,
       "style": "IPY_MODEL_0296a0f59d2b495eacb4a67dee643a45",
       "value": 2
      }
     },
     "e0096b38b7aa4a74a77947079110a333": {
      "model_module": "@jupyter-widgets/controls",
      "model_module_version": "1.2.0",
      "model_name": "VBoxModel",
      "state": {
       "children": [
        "IPY_MODEL_0409ab0ac45f4d6b9b8e29003830c6c8",
        "IPY_MODEL_fd0e1df331454e93be279f4fd43c1fb6",
        "IPY_MODEL_6df85268451941229b5f55fc27677442"
       ],
       "layout": "IPY_MODEL_6c118529db474c7ebc022a50f0818c18"
      }
     },
     "e02bb29280d04a059fd09a38ba6d3397": {
      "model_module": "@jupyter-widgets/controls",
      "model_module_version": "1.2.0",
      "model_name": "IntRangeSliderModel",
      "state": {
       "_model_name": "IntRangeSliderModel",
       "_view_name": "IntRangeSliderView",
       "layout": "IPY_MODEL_263c7b3f7a5945b1a9b4b41ecb3dc41f",
       "max": 65535,
       "style": "IPY_MODEL_7d08cafb736a41c2afb0cf75a29fa8b9",
       "value": [
        134,
        25393
       ]
      }
     },
     "e07320cc570c4cb19f38f6d1aa6da5d5": {
      "model_module": "@jupyter-widgets/controls",
      "model_module_version": "1.2.0",
      "model_name": "DescriptionStyleModel",
      "state": {
       "description_width": ""
      }
     },
     "e0af1a73d3514a41b622304dfcb6b8be": {
      "model_module": "@jupyter-widgets/base",
      "model_module_version": "1.0.0",
      "model_name": "LayoutModel",
      "state": {
       "display": "none"
      }
     },
     "e0c21e017fae4469abcf38c5338a9fcd": {
      "model_module": "@jupyter-widgets/controls",
      "model_module_version": "1.2.0",
      "model_name": "DescriptionStyleModel",
      "state": {
       "description_width": ""
      }
     },
     "e0de3359d3ad4c85a2024598e52fb1b2": {
      "model_module": "@jupyter-widgets/base",
      "model_module_version": "1.0.0",
      "model_name": "LayoutModel",
      "state": {}
     },
     "e1417e10882d453988e80d2eca921cce": {
      "model_module": "@jupyter-widgets/controls",
      "model_module_version": "1.2.0",
      "model_name": "VBoxModel",
      "state": {
       "children": [
        "IPY_MODEL_b97477e6a04949cb99a424a06ac29b0d",
        "IPY_MODEL_66e936967d4042edb49f55f4446bbcdb",
        "IPY_MODEL_64ffbb4965a94f559a4c0cfc26562eac"
       ],
       "layout": "IPY_MODEL_148091cf6441474c8ef54f7f093ea314"
      }
     },
     "e17c5727b9e04a1088b58e6a22d8b980": {
      "model_module": "@jupyter-widgets/controls",
      "model_module_version": "1.2.0",
      "model_name": "DescriptionStyleModel",
      "state": {
       "description_width": ""
      }
     },
     "e19a11b395424a579922ad3ad491538c": {
      "model_module": "@jupyter-widgets/controls",
      "model_module_version": "1.2.0",
      "model_name": "DescriptionStyleModel",
      "state": {
       "description_width": ""
      }
     },
     "e1a105091162443aaadaede73df61fab": {
      "model_module": "@jupyter-widgets/controls",
      "model_module_version": "1.2.0",
      "model_name": "FloatTextModel",
      "state": {
       "description": "sigma",
       "layout": "IPY_MODEL_a2391440da5a4bd8a2d990b49a348864",
       "step": 0.1,
       "style": "IPY_MODEL_a83984f400c94bf6991daf533bb787bc",
       "value": 1
      }
     },
     "e1eabbbfd4b04c4f88b559ebdf18eb02": {
      "model_module": "@jupyter-widgets/controls",
      "model_module_version": "1.2.0",
      "model_name": "IntRangeSliderModel",
      "state": {
       "_model_name": "IntRangeSliderModel",
       "_view_name": "IntRangeSliderView",
       "layout": "IPY_MODEL_5a5dc38c8a6a42f0a08431c0f89f295b",
       "max": 65535,
       "style": "IPY_MODEL_8f03041c80844d6aac8a93c20c78e2c3",
       "value": [
        134,
        25393
       ]
      }
     },
     "e201e92cb5fa41e8af16546c7577b729": {
      "model_module": "@jupyter-widgets/base",
      "model_module_version": "1.0.0",
      "model_name": "LayoutModel",
      "state": {
       "display": "flex",
       "flex_flow": "column wrap",
       "width": "66%"
      }
     },
     "e2501d102e874250bef67ae4226556e2": {
      "model_module": "@jupyter-widgets/controls",
      "model_module_version": "1.2.0",
      "model_name": "CheckboxModel",
      "state": {
       "description": "Size range",
       "disabled": false,
       "indent": false,
       "layout": "IPY_MODEL_0e15b4ab70e64fb69be8687a31917ad0",
       "style": "IPY_MODEL_12a71bb1fa3543c4a44273b64a802864",
       "value": false
      }
     },
     "e28a31bb25d64810b28a553f3b93e80b": {
      "model_module": "@jupyter-widgets/controls",
      "model_module_version": "1.2.0",
      "model_name": "DescriptionStyleModel",
      "state": {
       "description_width": ""
      }
     },
     "e2edb6304382450b823e5655179f5a6d": {
      "model_module": "@jupyter-widgets/controls",
      "model_module_version": "1.2.0",
      "model_name": "VBoxModel",
      "state": {
       "children": [
        "IPY_MODEL_2dcd207dc31e43ba81fa5e18ff2c7f5e",
        "IPY_MODEL_ee58ab783efa4765bb4701fd34701882",
        "IPY_MODEL_7ba82f1bc9f44a9ab5436345270cc38b"
       ],
       "layout": "IPY_MODEL_b2d2c403c2e54fc990e91655a19871f4"
      }
     },
     "e372ba2d74b8463db4786dc761cb09eb": {
      "model_module": "@jupyter-widgets/controls",
      "model_module_version": "1.2.0",
      "model_name": "DescriptionStyleModel",
      "state": {
       "description_width": ""
      }
     },
     "e3bdd03ca0ee4ed5bd7975bb27a948e7": {
      "model_module": "@jupyter-widgets/base",
      "model_module_version": "1.0.0",
      "model_name": "LayoutModel",
      "state": {
       "border": "1px solid gray"
      }
     },
     "e3e1a82efc5947c0830d8ce22bc8bd96": {
      "model_module": "@jupyter-widgets/base",
      "model_module_version": "1.0.0",
      "model_name": "LayoutModel",
      "state": {
       "height": "150px",
       "width": "100%"
      }
     },
     "e4432ff0f82a4912ac85dd08f6e539b0": {
      "model_module": "@jupyter-widgets/controls",
      "model_module_version": "1.2.0",
      "model_name": "FloatTextModel",
      "state": {
       "description": "threshold",
       "layout": "IPY_MODEL_4f59f7c7f95349aaaf46f4a293531ded",
       "step": 10,
       "style": "IPY_MODEL_603f6d221e8049b5a98f4145480c1bab",
       "value": 80
      }
     },
     "e443c838649f4033956e752b74c810a0": {
      "model_module": "@jupyter-widgets/base",
      "model_module_version": "1.0.0",
      "model_name": "LayoutModel",
      "state": {}
     },
     "e49caeeef93048f3a2f0ba4968ab5447": {
      "model_module": "@jupyter-widgets/base",
      "model_module_version": "1.0.0",
      "model_name": "LayoutModel",
      "state": {
       "width": "auto"
      }
     },
     "e4a7d5985d9246e59f591bf25c398d01": {
      "model_module": "@jupyter-widgets/controls",
      "model_module_version": "1.2.0",
      "model_name": "ButtonStyleModel",
      "state": {}
     },
     "e4b7ecda4ad2471eb30d35e20928ad25": {
      "model_module": "@jupyter-widgets/controls",
      "model_module_version": "1.2.0",
      "model_name": "CheckboxModel",
      "state": {
       "description": "Min. distance",
       "disabled": false,
       "indent": false,
       "layout": "IPY_MODEL_d390553b939f4f698bd9795f988dd207",
       "style": "IPY_MODEL_0f6cb1432de1435a9412ac14c5c56d0b",
       "value": true
      }
     },
     "e4cf0e0a78374e2080f293b628f173bf": {
      "model_module": "@jupyter-widgets/controls",
      "model_module_version": "1.2.0",
      "model_name": "FloatTextModel",
      "state": {
       "description": "sigma",
       "layout": "IPY_MODEL_004a165785f648a6af498860645ce22a",
       "step": 0.1,
       "style": "IPY_MODEL_c8a4732a27e4461ea7a550108f273591",
       "value": 1
      }
     },
     "e4cfcf0e648d475b8b59be966b465866": {
      "model_module": "@jupyter-widgets/base",
      "model_module_version": "1.0.0",
      "model_name": "LayoutModel",
      "state": {}
     },
     "e52dc050c90b4f95ae0574a97f6bab48": {
      "model_module": "@jupyter-widgets/base",
      "model_module_version": "1.0.0",
      "model_name": "LayoutModel",
      "state": {
       "width": "auto"
      }
     },
     "e5af1c9d0bf94a41b4eba05dd22e83ff": {
      "model_module": "@jupyter-widgets/controls",
      "model_module_version": "1.2.0",
      "model_name": "FloatTextModel",
      "state": {
       "description": "max.",
       "layout": "IPY_MODEL_9a954b9891c644eba6660740314c3850",
       "step": 0.1,
       "style": "IPY_MODEL_c1d97af4af07498cae7d5b1c4be5295c",
       "value": 2
      }
     },
     "e5f0b576dc474a79ba6dde69d2627e1e": {
      "model_module": "@jupyter-widgets/controls",
      "model_module_version": "1.2.0",
      "model_name": "FloatTextModel",
      "state": {
       "description": "radius",
       "layout": "IPY_MODEL_8da328fcd8204bd592c2e6cc3480b1d4",
       "step": 0.1,
       "style": "IPY_MODEL_f23b5d5e3296400aa8a5af05287ca5f2",
       "value": 1
      }
     },
     "e61264a217664ee696e47284c439a285": {
      "model_module": "@jupyter-widgets/controls",
      "model_module_version": "1.2.0",
      "model_name": "FloatTextModel",
      "state": {
       "layout": "IPY_MODEL_695b82bde4b24db099d5eeaa49f2b112",
       "step": 0.1,
       "style": "IPY_MODEL_fbd86cc786c14f238655e284433736d9",
       "value": 3
      }
     },
     "e671edec20394f92b29c23c6cad1c372": {
      "model_module": "@jupyter-widgets/controls",
      "model_module_version": "1.2.0",
      "model_name": "DescriptionStyleModel",
      "state": {
       "description_width": ""
      }
     },
     "e675eb635a8d47be92f5923a24b15780": {
      "model_module": "@jupyter-widgets/controls",
      "model_module_version": "1.2.0",
      "model_name": "DescriptionStyleModel",
      "state": {
       "description_width": ""
      }
     },
     "e6b2ca2ca1f64f1b80e5d80da0c6ad93": {
      "model_module": "@jupyter-widgets/controls",
      "model_module_version": "1.2.0",
      "model_name": "DescriptionStyleModel",
      "state": {
       "description_width": ""
      }
     },
     "e6bb0a1678d840b8bf53ff3fd98da3fa": {
      "model_module": "@jupyter-widgets/controls",
      "model_module_version": "1.2.0",
      "model_name": "BoundedIntTextModel",
      "state": {
       "description": "frame",
       "layout": "IPY_MODEL_5374c6190bc94421b907718a226cc3ce",
       "max": 0,
       "style": "IPY_MODEL_687a2ff0b9fe40e791b38a8bc7183f14"
      }
     },
     "e6f90818e44e4f82bdae93466567aec2": {
      "model_module": "@jupyter-widgets/base",
      "model_module_version": "1.0.0",
      "model_name": "LayoutModel",
      "state": {
       "width": "auto"
      }
     },
     "e704f90bcb3c446badc7d2eeb77c1ff3": {
      "model_module": "@jupyter-widgets/base",
      "model_module_version": "1.0.0",
      "model_name": "LayoutModel",
      "state": {
       "display": "none"
      }
     },
     "e71fb3523ffa4b1aa40a594304fe041f": {
      "model_module": "@jupyter-widgets/base",
      "model_module_version": "1.0.0",
      "model_name": "LayoutModel",
      "state": {
       "display": "none"
      }
     },
     "e73200dfa3a84a7e902c264f06cb8050": {
      "model_module": "@jupyter-widgets/base",
      "model_module_version": "1.0.0",
      "model_name": "LayoutModel",
      "state": {
       "border": "1px solid gray"
      }
     },
     "e73df47e85a94b77813998ab4e5b26ee": {
      "model_module": "@jupyter-widgets/base",
      "model_module_version": "1.0.0",
      "model_name": "LayoutModel",
      "state": {
       "display": "flex",
       "flex_flow": "column wrap",
       "width": "66%"
      }
     },
     "e761c5db4766467895ca2f34b0e4a0da": {
      "model_module": "@jupyter-widgets/base",
      "model_module_version": "1.0.0",
      "model_name": "LayoutModel",
      "state": {
       "display": "none"
      }
     },
     "e79b245b362c4276a0cd73ea74f0d8c9": {
      "model_module": "@jupyter-widgets/base",
      "model_module_version": "1.0.0",
      "model_name": "LayoutModel",
      "state": {
       "width": "auto"
      }
     },
     "e81b1626cd0a43708106ffdbcf2dc112": {
      "model_module": "@jupyter-widgets/controls",
      "model_module_version": "1.2.0",
      "model_name": "HBoxModel",
      "state": {
       "children": [
        "IPY_MODEL_224e1cf0fe094f1cb7bd8bd9e295a39e",
        "IPY_MODEL_9afd4d9e38e94b159e27835ab50dbb0b",
        "IPY_MODEL_7a134be248c44819aa97966728f0c277"
       ],
       "layout": "IPY_MODEL_0bd360a680314cf9ae5ad3f3958c587e"
      }
     },
     "e8f311db4aae46339bc213801ec79649": {
      "model_module": "@jupyter-widgets/controls",
      "model_module_version": "1.2.0",
      "model_name": "DescriptionStyleModel",
      "state": {
       "description_width": ""
      }
     },
     "e8f899ae81b342c3a754c989ebecfc61": {
      "model_module": "@jupyter-widgets/base",
      "model_module_version": "1.0.0",
      "model_name": "LayoutModel",
      "state": {
       "width": "75%"
      }
     },
     "e91726fd7c014a8ba3e9371ba0ef440d": {
      "model_module": "@jupyter-widgets/controls",
      "model_module_version": "1.2.0",
      "model_name": "IntTextModel",
      "state": {
       "description": "feat. size",
       "layout": "IPY_MODEL_098bb99af1444004b3183b58bee89a05",
       "step": 1,
       "style": "IPY_MODEL_34bf8cbaf2714eb597514540f77ca60d",
       "value": 3
      }
     },
     "e930f2092d854d7595af2c6f9be1d517": {
      "model_module": "@jupyter-widgets/base",
      "model_module_version": "1.0.0",
      "model_name": "LayoutModel",
      "state": {
       "width": "auto"
      }
     },
     "e96c896d4f344616b11a89abc57afed0": {
      "model_module": "@jupyter-widgets/controls",
      "model_module_version": "1.2.0",
      "model_name": "DescriptionStyleModel",
      "state": {
       "description_width": ""
      }
     },
     "e98a03ff22104c9aafaced303ca0cc23": {
      "model_module": "@jupyter-widgets/controls",
      "model_module_version": "1.2.0",
      "model_name": "VBoxModel",
      "state": {
       "children": [
        "IPY_MODEL_4d8797da39e146098e2acf3e58307800",
        "IPY_MODEL_963fcc50330b45d085af26165f78fcfd",
        "IPY_MODEL_4beac3c535f3486a8b97bcaede91171a"
       ],
       "layout": "IPY_MODEL_d11b8b45a4ad44eea60029274dfe2e79"
      }
     },
     "e98ebd4492074318973e80751dd01ac2": {
      "model_module": "@jupyter-widgets/controls",
      "model_module_version": "1.2.0",
      "model_name": "DescriptionStyleModel",
      "state": {
       "description_width": ""
      }
     },
     "ea03a5b8e13845c1a1f05cd163f41ba5": {
      "model_module": "@jupyter-widgets/controls",
      "model_module_version": "1.2.0",
      "model_name": "HBoxModel",
      "state": {
       "children": [
        "IPY_MODEL_38a7fdf1a3bb4fc5ba8172b7e156b029",
        "IPY_MODEL_7c91f459dac54e8fa020dd41e8b948e8",
        "IPY_MODEL_67a2721f2fb745d78c88542cc4b0693c"
       ],
       "layout": "IPY_MODEL_a618d0b1bf9a4b6aaebbc4f56e910f8c"
      }
     },
     "ea0b6a5546d9429ea7de2c7325b94dc9": {
      "model_module": "@jupyter-widgets/controls",
      "model_module_version": "1.2.0",
      "model_name": "DescriptionStyleModel",
      "state": {
       "description_width": ""
      }
     },
     "ea337e089ffe4346ad274bae74d547e6": {
      "model_module": "@jupyter-widgets/controls",
      "model_module_version": "1.2.0",
      "model_name": "DescriptionStyleModel",
      "state": {
       "description_width": ""
      }
     },
     "ea6aa6a598bf4cf597fb6d0781cf82d7": {
      "model_module": "@jupyter-widgets/controls",
      "model_module_version": "1.2.0",
      "model_name": "CheckboxModel",
      "state": {
       "description": "Size range",
       "disabled": false,
       "indent": false,
       "layout": "IPY_MODEL_3681124aa8ad436984338a2f81ea7fcb",
       "style": "IPY_MODEL_8a6550c5cbe647d68a2115ac8442b978",
       "value": false
      }
     },
     "ea75b7b76fc947c1a28b1f756d684b82": {
      "model_module": "@jupyter-widgets/base",
      "model_module_version": "1.0.0",
      "model_name": "LayoutModel",
      "state": {}
     },
     "eabca0ff3a3d4966ae8ae42be2d62ee4": {
      "model_module": "@jupyter-widgets/controls",
      "model_module_version": "1.2.0",
      "model_name": "FloatTextModel",
      "state": {
       "layout": "IPY_MODEL_0fbf87dece764104b2cc5449cc9c7045",
       "step": 0.1,
       "style": "IPY_MODEL_48c68a4560844d3fbb31562db6e9683e",
       "value": 3
      }
     },
     "eabfc79546414ba9812c47f254b8d06b": {
      "model_module": "@jupyter-widgets/controls",
      "model_module_version": "1.2.0",
      "model_name": "DescriptionStyleModel",
      "state": {
       "description_width": ""
      }
     },
     "eae3fcedbbfc4f4b81a8fd7d7fa9cea1": {
      "model_module": "@jupyter-widgets/controls",
      "model_module_version": "1.2.0",
      "model_name": "HBoxModel",
      "state": {
       "children": [
        "IPY_MODEL_7b03f085f65f420f8a3f52353e8d06af",
        "IPY_MODEL_91965d064d4e404fb585454f0d66f835"
       ],
       "layout": "IPY_MODEL_1e3129fc5cd44769b18bc99ca51ed37a"
      }
     },
     "eb2d64499f374b36a0f83207af0348f7": {
      "model_module": "@jupyter-widgets/controls",
      "model_module_version": "1.2.0",
      "model_name": "DescriptionStyleModel",
      "state": {
       "description_width": ""
      }
     },
     "eb4125f7a52e4823b9976a3c9e7e9aea": {
      "model_module": "@jupyter-widgets/controls",
      "model_module_version": "1.2.0",
      "model_name": "DescriptionStyleModel",
      "state": {
       "description_width": ""
      }
     },
     "eb5451efc5f34fe5a9562b3a22bd3ccc": {
      "model_module": "@jupyter-widgets/controls",
      "model_module_version": "1.2.0",
      "model_name": "DescriptionStyleModel",
      "state": {
       "description_width": ""
      }
     },
     "eb85ee028e3b458b8c9f8e8945f5c950": {
      "model_module": "@jupyter-widgets/base",
      "model_module_version": "1.0.0",
      "model_name": "LayoutModel",
      "state": {}
     },
     "eb8a6c492cbb40afa6de05b53bec888b": {
      "model_module": "@jupyter-widgets/controls",
      "model_module_version": "1.2.0",
      "model_name": "ButtonStyleModel",
      "state": {}
     },
     "eb8ea61d9b884dfeab0e5844d8e02b7a": {
      "model_module": "@jupyter-widgets/controls",
      "model_module_version": "1.2.0",
      "model_name": "BoundedIntTextModel",
      "state": {
       "description": "frame",
       "layout": "IPY_MODEL_79408f63579c4a6eb87afeda2a783ead",
       "max": 49,
       "style": "IPY_MODEL_486ef561d5ad4ed8b6b402d8f99f85c4"
      }
     },
     "eb93cedbbc1a4dd899a9900ff44c55a5": {
      "model_module": "@jupyter-widgets/base",
      "model_module_version": "1.0.0",
      "model_name": "LayoutModel",
      "state": {}
     },
     "eb9b74271d2d44dcb8aced8f36b6dea4": {
      "model_module": "@jupyter-widgets/controls",
      "model_module_version": "1.2.0",
      "model_name": "DescriptionStyleModel",
      "state": {
       "description_width": ""
      }
     },
     "ebb31843612e4b4fb1f96750a22bf8a9": {
      "model_module": "@jupyter-widgets/controls",
      "model_module_version": "1.2.0",
      "model_name": "FloatTextModel",
      "state": {
       "layout": "IPY_MODEL_d0e29c1372864fdeb9e793b8d54bae2b",
       "step": 0.1,
       "style": "IPY_MODEL_2dfba74104b24ebe8e5d983f36979c28",
       "value": 3
      }
     },
     "ebfdd479dffd499392a03cd744a5e4a0": {
      "model_module": "@jupyter-widgets/controls",
      "model_module_version": "1.2.0",
      "model_name": "HBoxModel",
      "state": {
       "children": [
        "IPY_MODEL_a60a97a0997c4d61b56ed21f67dcdefa",
        "IPY_MODEL_7eba0bf824a04ba59bf6385b7b96348e"
       ],
       "layout": "IPY_MODEL_60ec7cfe558846189357291a45dc9a81"
      }
     },
     "ebfe0329c9a54c26a8d0d1bc90fd1a37": {
      "model_module": "@jupyter-widgets/controls",
      "model_module_version": "1.2.0",
      "model_name": "IntRangeSliderModel",
      "state": {
       "_model_name": "IntRangeSliderModel",
       "_view_name": "IntRangeSliderView",
       "layout": "IPY_MODEL_2750af465b3b43f9b53afe32e8b254fa",
       "max": 65535,
       "style": "IPY_MODEL_095a4faaffa94acba0dd70dc2c9df44f",
       "value": [
        288,
        891
       ]
      }
     },
     "ec077ad547c24384a0fa385f60917c41": {
      "model_module": "@jupyter-widgets/base",
      "model_module_version": "1.0.0",
      "model_name": "LayoutModel",
      "state": {}
     },
     "ec102a599105400b922cb4662298b6c5": {
      "model_module": "@jupyter-widgets/base",
      "model_module_version": "1.0.0",
      "model_name": "LayoutModel",
      "state": {}
     },
     "ec3a39d4975e48498ef052621df3d348": {
      "model_module": "@jupyter-widgets/controls",
      "model_module_version": "1.2.0",
      "model_name": "FloatTextModel",
      "state": {
       "description": "threshold",
       "layout": "IPY_MODEL_62d7207d1edb4aec95d7b6c0366bf9a0",
       "step": 10,
       "style": "IPY_MODEL_9740de8672ba4075ba979d71501a1f50",
       "value": 100
      }
     },
     "ec76c6f4165e4b56bbbc2ebc8027f09c": {
      "model_module": "@jupyter-widgets/controls",
      "model_module_version": "1.2.0",
      "model_name": "DropdownModel",
      "state": {
       "_options_labels": [
        "2d_fixed",
        "2d",
        "3d"
       ],
       "description": "model",
       "index": 1,
       "layout": "IPY_MODEL_7b761e89fa234cb08725d6348836a0ee",
       "style": "IPY_MODEL_eb4125f7a52e4823b9976a3c9e7e9aea"
      }
     },
     "ecb8bac5108d45a78922b28f3f46ed26": {
      "model_module": "@jupyter-widgets/controls",
      "model_module_version": "1.2.0",
      "model_name": "DescriptionStyleModel",
      "state": {
       "description_width": ""
      }
     },
     "ecc12122d14a49e08bd8d8a6abf47879": {
      "model_module": "@jupyter-widgets/base",
      "model_module_version": "1.0.0",
      "model_name": "LayoutModel",
      "state": {
       "height": "150px",
       "width": "100%"
      }
     },
     "ecceb57342d84d7eb2790085b645c9d5": {
      "model_module": "@jupyter-widgets/base",
      "model_module_version": "1.0.0",
      "model_name": "LayoutModel",
      "state": {
       "display": "inline"
      }
     },
     "ecd47fa07d1142bea9392cc41b33eee5": {
      "model_module": "@jupyter-widgets/controls",
      "model_module_version": "1.2.0",
      "model_name": "DescriptionStyleModel",
      "state": {
       "description_width": ""
      }
     },
     "ed0d482f13a94b8aa51d17b77120e7e0": {
      "model_module": "@jupyter-widgets/controls",
      "model_module_version": "1.2.0",
      "model_name": "DescriptionStyleModel",
      "state": {
       "description_width": ""
      }
     },
     "ed1451ab05ed447b886aebbf160448e1": {
      "model_module": "@jupyter-widgets/controls",
      "model_module_version": "1.2.0",
      "model_name": "VBoxModel",
      "state": {
       "children": [
        "IPY_MODEL_dd195f3a9952423dafc9b0ec968d2a48",
        "IPY_MODEL_dc762c2f03604770bfc42e728b938bfb"
       ],
       "layout": "IPY_MODEL_030beaf9a07c41708ef5d2a2e0be05f5"
      }
     },
     "ed36a418cd2a4bd0b0d8656c05df3454": {
      "model_module": "@jupyter-widgets/controls",
      "model_module_version": "1.2.0",
      "model_name": "SliderStyleModel",
      "state": {
       "description_width": ""
      }
     },
     "ed60be68de04477a94324f0eb040ef4d": {
      "model_module": "@jupyter-widgets/controls",
      "model_module_version": "1.2.0",
      "model_name": "SliderStyleModel",
      "state": {
       "description_width": ""
      }
     },
     "ed6380d8ac0d4669808c453d50ba50a5": {
      "model_module": "@jupyter-widgets/controls",
      "model_module_version": "1.2.0",
      "model_name": "DescriptionStyleModel",
      "state": {
       "description_width": ""
      }
     },
     "ed663a271ac945caa0969117f52a1111": {
      "model_module": "@jupyter-widgets/base",
      "model_module_version": "1.0.0",
      "model_name": "LayoutModel",
      "state": {
       "width": "auto"
      }
     },
     "ed7a81a126de4e08aa3a55b3e4fbfa4a": {
      "model_module": "@jupyter-widgets/base",
      "model_module_version": "1.0.0",
      "model_name": "LayoutModel",
      "state": {}
     },
     "ed92f97417e347d18132099a5875532b": {
      "model_module": "@jupyter-widgets/controls",
      "model_module_version": "1.2.0",
      "model_name": "DescriptionStyleModel",
      "state": {
       "description_width": ""
      }
     },
     "edc2949c96304ab1b6e61e36f72849ca": {
      "model_module": "@jupyter-widgets/controls",
      "model_module_version": "1.2.0",
      "model_name": "DescriptionStyleModel",
      "state": {
       "description_width": ""
      }
     },
     "edcf26e89f0140129f39cf5f6752a772": {
      "model_module": "@jupyter-widgets/base",
      "model_module_version": "1.0.0",
      "model_name": "LayoutModel",
      "state": {
       "width": "auto"
      }
     },
     "edd9c9425ed94f2195ebe182c687351a": {
      "model_module": "@jupyter-widgets/controls",
      "model_module_version": "1.2.0",
      "model_name": "DescriptionStyleModel",
      "state": {
       "description_width": ""
      }
     },
     "edfce0634e054ba1804ee9fa334e0c8e": {
      "model_module": "@jupyter-widgets/base",
      "model_module_version": "1.0.0",
      "model_name": "LayoutModel",
      "state": {
       "border": "1px solid gray"
      }
     },
     "ee58ab783efa4765bb4701fd34701882": {
      "model_module": "@jupyter-widgets/controls",
      "model_module_version": "1.2.0",
      "model_name": "FloatTextModel",
      "state": {
       "description": "min.",
       "layout": "IPY_MODEL_57792291a97947bbabf742c7d545ef62",
       "step": 0.1,
       "style": "IPY_MODEL_6a117355361e4c94b6d24f81401c6571",
       "value": 0.5
      }
     },
     "eea8ebc84b0f4de58a6dc8e82012bc74": {
      "model_module": "@jupyter-widgets/base",
      "model_module_version": "1.0.0",
      "model_name": "LayoutModel",
      "state": {}
     },
     "eec64e22e1e84613999d8be9d4cecb85": {
      "model_module": "@jupyter-widgets/controls",
      "model_module_version": "1.2.0",
      "model_name": "HBoxModel",
      "state": {
       "children": [
        "IPY_MODEL_e02bb29280d04a059fd09a38ba6d3397",
        "IPY_MODEL_eefc05589d104739b94dba9f93d62444",
        "IPY_MODEL_49f47ccf89f748e787085a389a86a031"
       ],
       "layout": "IPY_MODEL_11bc5b1e3dc949a284eaa6fedf5ca20e"
      }
     },
     "eee1dd1696e74a3d9eef271fc2b51b01": {
      "model_module": "@jupyter-widgets/controls",
      "model_module_version": "1.2.0",
      "model_name": "HBoxModel",
      "state": {
       "children": [
        "IPY_MODEL_425c2255dfdc44a39fbc8ac9b2d7bb89",
        "IPY_MODEL_2efa69b4d750402ebc98cbc7f32d21de",
        "IPY_MODEL_23584d65dabc4ac5bca52dd8242e6d0b"
       ],
       "layout": "IPY_MODEL_172848b4e2ee4cc0acb10b8f5bfebb13"
      }
     },
     "eefc05589d104739b94dba9f93d62444": {
      "model_module": "@jupyter-widgets/controls",
      "model_module_version": "1.2.0",
      "model_name": "ButtonModel",
      "state": {
       "description": "Auto",
       "layout": "IPY_MODEL_2e7b3e7890d948e0915983a4ef86ab85",
       "style": "IPY_MODEL_bdd95c5267ef40069426a2ef7b620280"
      }
     },
     "ef11086c136645e6bcb1b062b9132344": {
      "model_module": "@jupyter-widgets/controls",
      "model_module_version": "1.2.0",
      "model_name": "VBoxModel",
      "state": {
       "children": [
        "IPY_MODEL_0203ed12b70147ab820d372e3bb3afd2",
        "IPY_MODEL_bd2af5b109eb499596c35b07c0e3869c",
        "IPY_MODEL_dff1d4a928f6463dae129c8cad3d3d3c"
       ],
       "layout": "IPY_MODEL_4fd56e3ac5d54036ab16c9db9aa9eee6"
      }
     },
     "ef583b65214f4e799def73a9bcee58da": {
      "model_module": "@jupyter-widgets/base",
      "model_module_version": "1.0.0",
      "model_name": "LayoutModel",
      "state": {}
     },
     "ef7105e4a7684fe1b412815e09bf964e": {
      "model_module": "@jupyter-widgets/controls",
      "model_module_version": "1.2.0",
      "model_name": "DropdownModel",
      "state": {
       "_options_labels": [
        "Identity",
        "Cg",
        "Gaussian"
       ],
       "description": "find filter",
       "index": 1,
       "layout": "IPY_MODEL_f3c89bc563f94825b2d2fa0c2d695979",
       "style": "IPY_MODEL_1fad2e716f70409e858650e25736c999"
      }
     },
     "ef9284b5f5e14297af782c30a61ebab1": {
      "model_module": "@jupyter-widgets/controls",
      "model_module_version": "1.2.0",
      "model_name": "FloatTextModel",
      "state": {
       "description": "max.",
       "layout": "IPY_MODEL_6b47dd2b40204bcbb0d7c6efa0d74984",
       "step": 0.1,
       "style": "IPY_MODEL_0b016037b1b242e09c406091965d5de8",
       "value": 2
      }
     },
     "ef95de6fd94f45e78a72b3debec04d11": {
      "model_module": "@jupyter-widgets/base",
      "model_module_version": "1.0.0",
      "model_name": "LayoutModel",
      "state": {
       "display": "none"
      }
     },
     "ef96b9ee0b834f7ebd60e3a76226f34e": {
      "model_module": "@jupyter-widgets/base",
      "model_module_version": "1.0.0",
      "model_name": "LayoutModel",
      "state": {
       "display": "none"
      }
     },
     "efabb69312cd4d66ba1eced521f74e56": {
      "model_module": "@jupyter-widgets/controls",
      "model_module_version": "1.2.0",
      "model_name": "DescriptionStyleModel",
      "state": {
       "description_width": ""
      }
     },
     "efc6cb4e8cab4a86ae2521db39ceb4ae": {
      "model_module": "@jupyter-widgets/controls",
      "model_module_version": "1.2.0",
      "model_name": "DescriptionStyleModel",
      "state": {
       "description_width": ""
      }
     },
     "eff1bedff8c4495781f64e72b69d3fe7": {
      "model_module": "@jupyter-widgets/controls",
      "model_module_version": "1.2.0",
      "model_name": "BoundedIntTextModel",
      "state": {
       "description": "frame",
       "layout": "IPY_MODEL_be961b89ce0a4149973cabf1c701a3d0",
       "max": 0,
       "style": "IPY_MODEL_dda7600d8fc0499ba6e567e3d915bcb3"
      }
     },
     "f0367f1de118469ba8b00941e610a68e": {
      "model_module": "@jupyter-widgets/controls",
      "model_module_version": "1.2.0",
      "model_name": "SliderStyleModel",
      "state": {
       "description_width": ""
      }
     },
     "f09107aafae74a6fa022c90364a58dcf": {
      "model_module": "@jupyter-widgets/controls",
      "model_module_version": "1.2.0",
      "model_name": "DescriptionStyleModel",
      "state": {
       "description_width": ""
      }
     },
     "f0a8fd71c949419c816299f44103538f": {
      "model_module": "@jupyter-widgets/controls",
      "model_module_version": "1.2.0",
      "model_name": "ButtonStyleModel",
      "state": {}
     },
     "f0c56595a26442fda945eba4d2ce93de": {
      "model_module": "@jupyter-widgets/base",
      "model_module_version": "1.0.0",
      "model_name": "LayoutModel",
      "state": {
       "width": "75%"
      }
     },
     "f0c7bb441e6e4b528f534b973d41fad0": {
      "model_module": "@jupyter-widgets/controls",
      "model_module_version": "1.2.0",
      "model_name": "DropdownModel",
      "state": {
       "_options_labels": [
        "Identity",
        "Cg",
        "Gaussian"
       ],
       "description": "find filter",
       "index": 1,
       "layout": "IPY_MODEL_71e2a8a45af34ed788cde52d8bfa61bf",
       "style": "IPY_MODEL_7364276c133a4c3eaaa343befc2a703b"
      }
     },
     "f11472961bf9417bb5f947a08586a9f8": {
      "model_module": "@jupyter-widgets/base",
      "model_module_version": "1.0.0",
      "model_name": "LayoutModel",
      "state": {
       "display": "none"
      }
     },
     "f172e379c8aa40d498e73d9fe907025a": {
      "model_module": "@jupyter-widgets/base",
      "model_module_version": "1.0.0",
      "model_name": "LayoutModel",
      "state": {
       "width": "auto"
      }
     },
     "f17b48ffaafc4ac482e8809faaa834a8": {
      "model_module": "@jupyter-widgets/controls",
      "model_module_version": "1.2.0",
      "model_name": "FloatTextModel",
      "state": {
       "description": "max.",
       "layout": "IPY_MODEL_354a798a39b64454b1601798ffc3b8da",
       "step": 0.1,
       "style": "IPY_MODEL_e28a31bb25d64810b28a553f3b93e80b",
       "value": 2
      }
     },
     "f196e1c1e9ca4dfa8acc074641bccf84": {
      "model_module": "@jupyter-widgets/controls",
      "model_module_version": "1.2.0",
      "model_name": "HBoxModel",
      "state": {
       "children": [
        "IPY_MODEL_91e07288880e4ec1acbb5ce39898e869",
        "IPY_MODEL_ccd4bace9fbc441ba44bf1a202ee6362",
        "IPY_MODEL_a07147f711e7440981b4726a70f1a092"
       ],
       "layout": "IPY_MODEL_2dd721c826fe4e56abc05887e2133573"
      }
     },
     "f23b5d5e3296400aa8a5af05287ca5f2": {
      "model_module": "@jupyter-widgets/controls",
      "model_module_version": "1.2.0",
      "model_name": "DescriptionStyleModel",
      "state": {
       "description_width": ""
      }
     },
     "f29c89eed6f944288cabe9167b510179": {
      "model_module": "@jupyter-widgets/controls",
      "model_module_version": "1.2.0",
      "model_name": "IntRangeSliderModel",
      "state": {
       "_model_name": "IntRangeSliderModel",
       "_view_name": "IntRangeSliderView",
       "layout": "IPY_MODEL_40da11987c9848cdbf569fd8a495553c",
       "max": 65535,
       "style": "IPY_MODEL_1bef31ac08074ebd95693403b9f1d5a3",
       "value": [
        288,
        891
       ]
      }
     },
     "f29de83593364a6189ab59bcbb2c320b": {
      "model_module": "@jupyter-widgets/base",
      "model_module_version": "1.0.0",
      "model_name": "LayoutModel",
      "state": {
       "width": "auto"
      }
     },
     "f2ae8795066b405d86ad6b62f338983a": {
      "model_module": "@jupyter-widgets/base",
      "model_module_version": "1.0.0",
      "model_name": "LayoutModel",
      "state": {
       "border": "1px solid gray"
      }
     },
     "f2bd6ab3067c4d40a222a12115b3f9b8": {
      "model_module": "@jupyter-widgets/controls",
      "model_module_version": "1.2.0",
      "model_name": "DescriptionStyleModel",
      "state": {
       "description_width": ""
      }
     },
     "f2e48de82e5e4ca78a857a4de020d8ed": {
      "model_module": "@jupyter-widgets/controls",
      "model_module_version": "1.2.0",
      "model_name": "DescriptionStyleModel",
      "state": {
       "description_width": ""
      }
     },
     "f324c84ec2c446569519026b07558eb9": {
      "model_module": "@jupyter-widgets/controls",
      "model_module_version": "1.2.0",
      "model_name": "DescriptionStyleModel",
      "state": {
       "description_width": ""
      }
     },
     "f33352c769984bdb8569397b5ea79843": {
      "model_module": "@jupyter-widgets/controls",
      "model_module_version": "1.2.0",
      "model_name": "DescriptionStyleModel",
      "state": {
       "description_width": ""
      }
     },
     "f3a8f38b4099453fb837d8a3180abfa0": {
      "model_module": "@jupyter-widgets/controls",
      "model_module_version": "1.2.0",
      "model_name": "DropdownModel",
      "state": {
       "_options_labels": [
        "Identity",
        "Cg",
        "Gaussian"
       ],
       "description": "find filter",
       "index": 1,
       "layout": "IPY_MODEL_b2c338fba7c1448fab4e5e40f1bb83ea",
       "style": "IPY_MODEL_510ee8b717534a4d8b82f40a272d87ab"
      }
     },
     "f3c89bc563f94825b2d2fa0c2d695979": {
      "model_module": "@jupyter-widgets/base",
      "model_module_version": "1.0.0",
      "model_name": "LayoutModel",
      "state": {}
     },
     "f3fe849b769549d88ae6c1c18b4d822a": {
      "model_module": "@jupyter-widgets/controls",
      "model_module_version": "1.2.0",
      "model_name": "HBoxModel",
      "state": {
       "children": [
        "IPY_MODEL_9aee29ab4cc848afaf842d2d5646e63a",
        "IPY_MODEL_7e5d3d35dfdd4bd991635af6b96bb962"
       ],
       "layout": "IPY_MODEL_df29ef34cc8940728c89c77772ee9ad5"
      }
     },
     "f42361a75b9c48f8857e0386448ae651": {
      "model_module": "@jupyter-widgets/controls",
      "model_module_version": "1.2.0",
      "model_name": "VBoxModel",
      "state": {
       "children": [
        "IPY_MODEL_3130d4af28a546978472cdba8dbea286",
        "IPY_MODEL_e6bb0a1678d840b8bf53ff3fd98da3fa"
       ],
       "layout": "IPY_MODEL_f59db48ee96a483395380fe38418a6ab"
      }
     },
     "f443d29c5dd3424c9ade9b292ee221a8": {
      "model_module": "@jupyter-widgets/base",
      "model_module_version": "1.0.0",
      "model_name": "LayoutModel",
      "state": {
       "display": "inline"
      }
     },
     "f46d6a4ed27843f8a95281949e729744": {
      "model_module": "@jupyter-widgets/base",
      "model_module_version": "1.0.0",
      "model_name": "LayoutModel",
      "state": {
       "display": "none"
      }
     },
     "f4b1ca26edcd4aeba20d0a79cfd32d91": {
      "model_module": "@jupyter-widgets/controls",
      "model_module_version": "1.2.0",
      "model_name": "FloatTextModel",
      "state": {
       "description": "radius",
       "layout": "IPY_MODEL_9a13d87c2d0e4accaae306bf2e17d6f8",
       "step": 0.1,
       "style": "IPY_MODEL_efabb69312cd4d66ba1eced521f74e56",
       "value": 1
      }
     },
     "f4d925586cb5456aaa0898a766e65d87": {
      "model_module": "@jupyter-widgets/base",
      "model_module_version": "1.0.0",
      "model_name": "LayoutModel",
      "state": {
       "width": "auto"
      }
     },
     "f4ea95c3704c4136a4bc40e6012cd317": {
      "model_module": "@jupyter-widgets/base",
      "model_module_version": "1.0.0",
      "model_name": "LayoutModel",
      "state": {
       "display": "inline"
      }
     },
     "f50e9f5e514d4963ba51a75e6d336b29": {
      "model_module": "@jupyter-widgets/base",
      "model_module_version": "1.0.0",
      "model_name": "LayoutModel",
      "state": {}
     },
     "f5171890257d4ae9b7960af46e292557": {
      "model_module": "@jupyter-widgets/controls",
      "model_module_version": "1.2.0",
      "model_name": "DescriptionStyleModel",
      "state": {
       "description_width": ""
      }
     },
     "f5306b3e27b34a36b78936378aa1c28e": {
      "model_module": "@jupyter-widgets/controls",
      "model_module_version": "1.2.0",
      "model_name": "DescriptionStyleModel",
      "state": {
       "description_width": ""
      }
     },
     "f53d54a2a8564fc68b9b92403f6aa5ea": {
      "model_module": "@jupyter-widgets/base",
      "model_module_version": "1.0.0",
      "model_name": "LayoutModel",
      "state": {}
     },
     "f551e0a9a14f4daba1785cac22224852": {
      "model_module": "@jupyter-widgets/controls",
      "model_module_version": "1.2.0",
      "model_name": "DescriptionStyleModel",
      "state": {
       "description_width": ""
      }
     },
     "f5701a9022c04a45b9a0a14f05bef641": {
      "model_module": "@jupyter-widgets/controls",
      "model_module_version": "1.2.0",
      "model_name": "ButtonStyleModel",
      "state": {}
     },
     "f57b7edd3d40443bb5669429abade58b": {
      "model_module": "@jupyter-widgets/controls",
      "model_module_version": "1.2.0",
      "model_name": "FloatTextModel",
      "state": {
       "description": "max.",
       "layout": "IPY_MODEL_b3783a79c33c4caa81c514a78a24b953",
       "step": 0.1,
       "style": "IPY_MODEL_72917b645ba44e488824690c714903f7",
       "value": 2
      }
     },
     "f59db48ee96a483395380fe38418a6ab": {
      "model_module": "@jupyter-widgets/base",
      "model_module_version": "1.0.0",
      "model_name": "LayoutModel",
      "state": {}
     },
     "f5e5284b9f6043f9be08bc62e6dc4550": {
      "model_module": "@jupyter-widgets/controls",
      "model_module_version": "1.2.0",
      "model_name": "DescriptionStyleModel",
      "state": {
       "description_width": ""
      }
     },
     "f5eb7d24c3ea4294a036eace34910c53": {
      "model_module": "@jupyter-widgets/base",
      "model_module_version": "1.0.0",
      "model_name": "LayoutModel",
      "state": {}
     },
     "f5fd633cce704a5986281c8d09df9bd9": {
      "model_module": "@jupyter-widgets/controls",
      "model_module_version": "1.2.0",
      "model_name": "CheckboxModel",
      "state": {
       "description": "Size range",
       "disabled": false,
       "indent": false,
       "layout": "IPY_MODEL_26f48594057b4a9bb43df30bb93f5b23",
       "style": "IPY_MODEL_0e846b7ba4e8427b88c38ae508539120",
       "value": false
      }
     },
     "f600f248ba90466d8dd8683ec84f5648": {
      "model_module": "@jupyter-widgets/controls",
      "model_module_version": "1.2.0",
      "model_name": "FloatTextModel",
      "state": {
       "description": "threshold",
       "layout": "IPY_MODEL_51ac44cad6864fe0b777662707fc7f96",
       "step": 10,
       "style": "IPY_MODEL_187be5cd708841f184606d85c5bc31f3",
       "value": 1000
      }
     },
     "f615b949df694769bd5bf0199b1c7302": {
      "model_module": "@jupyter-widgets/controls",
      "model_module_version": "1.2.0",
      "model_name": "VBoxModel",
      "state": {
       "children": [
        "IPY_MODEL_8acfbe1b3a1f4104bb5c3c685b867aaa",
        "IPY_MODEL_49bc3fc69ba548d29e373246ae84de05"
       ],
       "layout": "IPY_MODEL_dbb63c80dc9642bd9dbb73304be13397"
      }
     },
     "f61688f97ad44722bafc175cd5df1915": {
      "model_module": "@jupyter-widgets/base",
      "model_module_version": "1.0.0",
      "model_name": "LayoutModel",
      "state": {
       "width": "auto"
      }
     },
     "f6183b586f424489800494cf530d3351": {
      "model_module": "@jupyter-widgets/controls",
      "model_module_version": "1.2.0",
      "model_name": "VBoxModel",
      "state": {
       "children": [
        "IPY_MODEL_24e494ac93814a6ea0390b240089ced1",
        "IPY_MODEL_114e2f7fb777473c8b586bfcf3cadabc",
        "IPY_MODEL_b26ee276cb3c4481a643c8532024f3ee"
       ],
       "layout": "IPY_MODEL_1d53e14e42424c3fb362bad8c9bd6fee"
      }
     },
     "f624b5bd70784e0798190a7c27f34df5": {
      "model_module": "@jupyter-widgets/controls",
      "model_module_version": "1.2.0",
      "model_name": "CheckboxModel",
      "state": {
       "description": "Min. distance",
       "disabled": false,
       "indent": false,
       "layout": "IPY_MODEL_231428bf0d4e4a05bd025cacd9928568",
       "style": "IPY_MODEL_f5306b3e27b34a36b78936378aa1c28e",
       "value": true
      }
     },
     "f69970cdb3da4bffa54fc4e5b5df7d1d": {
      "model_module": "@jupyter-widgets/base",
      "model_module_version": "1.0.0",
      "model_name": "LayoutModel",
      "state": {}
     },
     "f69a2db1cf3d44d594939f5f5d96e21a": {
      "model_module": "@jupyter-widgets/base",
      "model_module_version": "1.0.0",
      "model_name": "LayoutModel",
      "state": {}
     },
     "f6c4143a7b6e4c85a5df0b7ac6cdf210": {
      "model_module": "@jupyter-widgets/controls",
      "model_module_version": "1.2.0",
      "model_name": "VBoxModel",
      "state": {
       "children": [
        "IPY_MODEL_6cf4151e018e48f0bcac4c0e0f9fc977",
        "IPY_MODEL_0dad7982ad9346ffab27dbee023aab10",
        "IPY_MODEL_e4cf0e0a78374e2080f293b628f173bf"
       ],
       "layout": "IPY_MODEL_571e43173c984d42b5335ced176a1fcc"
      }
     },
     "f6d5f5dc29114c3582188cd0a99698f2": {
      "model_module": "@jupyter-widgets/base",
      "model_module_version": "1.0.0",
      "model_name": "LayoutModel",
      "state": {
       "width": "auto"
      }
     },
     "f6ea1a7c846549b88b696eba943aceb9": {
      "model_module": "@jupyter-widgets/controls",
      "model_module_version": "1.2.0",
      "model_name": "BoundedIntTextModel",
      "state": {
       "description": "frame",
       "layout": "IPY_MODEL_a643a4f08ce6486db2394f0d1673dd82",
       "max": 0,
       "style": "IPY_MODEL_2dcbe250205243a6a313528d00fb0663"
      }
     },
     "f73431f6793a4f708c5f31ce91d5ade7": {
      "model_module": "@jupyter-widgets/controls",
      "model_module_version": "1.2.0",
      "model_name": "VBoxModel",
      "state": {
       "children": [
        "IPY_MODEL_33e2ead747244865b0784cf450248b68",
        "IPY_MODEL_8b42c750321242ef9263b6bfeb9cf94a",
        "IPY_MODEL_c7f978a7f5324b149511e9b27eebaeec"
       ],
       "layout": "IPY_MODEL_4e934494c17140229dfa3d5c300bbfec"
      }
     },
     "f7998b084203443680d101c740cfe14c": {
      "model_module": "@jupyter-widgets/controls",
      "model_module_version": "1.2.0",
      "model_name": "FloatTextModel",
      "state": {
       "description": "radius",
       "layout": "IPY_MODEL_1cfdf2db76794dd48f239a6fe9bcf218",
       "step": 0.1,
       "style": "IPY_MODEL_2e337cabe3184abea9ba58b6f0f7fa72",
       "value": 1
      }
     },
     "f79fb53f9f954bf5aed1318b836cf856": {
      "model_module": "@jupyter-widgets/controls",
      "model_module_version": "1.2.0",
      "model_name": "DescriptionStyleModel",
      "state": {
       "description_width": ""
      }
     },
     "f7e842be7c944fb69496cb31fbb38bec": {
      "model_module": "@jupyter-widgets/base",
      "model_module_version": "1.0.0",
      "model_name": "LayoutModel",
      "state": {
       "display": "none"
      }
     },
     "f7eff9ccac2d490e98067dfe846055d2": {
      "model_module": "@jupyter-widgets/base",
      "model_module_version": "1.0.0",
      "model_name": "LayoutModel",
      "state": {}
     },
     "f7f0349594174e56aa4cc491edcb7149": {
      "model_module": "@jupyter-widgets/controls",
      "model_module_version": "1.2.0",
      "model_name": "CheckboxModel",
      "state": {
       "description": "Min. distance",
       "disabled": false,
       "indent": false,
       "layout": "IPY_MODEL_c62c2c99ee194cfaa7e1b15115dca277",
       "style": "IPY_MODEL_64b52890e86046aa8a6d9333020000e0",
       "value": false
      }
     },
     "f7f0dc7dfa3d4f5ca708a5be74c535cd": {
      "model_module": "@jupyter-widgets/controls",
      "model_module_version": "1.2.0",
      "model_name": "LabelModel",
      "state": {
       "layout": "IPY_MODEL_d572260f107c4bb89acc270bca561ddd",
       "style": "IPY_MODEL_57a2208435654b7e8a9ac515c7e6800d",
       "value": "Locating data/ctrl-H57/no-cells_SAv-100k_SSS-ctrl-H57-50k_029_.SPE (213/213)"
      }
     },
     "f80518817c07475ebeb84494733c55da": {
      "model_module": "@jupyter-widgets/base",
      "model_module_version": "1.0.0",
      "model_name": "LayoutModel",
      "state": {}
     },
     "f822a069710f437c95967f9f7684216d": {
      "model_module": "@jupyter-widgets/base",
      "model_module_version": "1.0.0",
      "model_name": "LayoutModel",
      "state": {
       "display": "inline"
      }
     },
     "f82a94889e664f7ebdce6f096a12c6aa": {
      "model_module": "@jupyter-widgets/controls",
      "model_module_version": "1.2.0",
      "model_name": "DescriptionStyleModel",
      "state": {
       "description_width": ""
      }
     },
     "f82cbdb2f9e24fbbb6b39e1c8bbbebd7": {
      "model_module": "@jupyter-widgets/controls",
      "model_module_version": "1.2.0",
      "model_name": "HBoxModel",
      "state": {
       "children": [
        "IPY_MODEL_7c2cf39c04a54bdab9d108abb89c1b1a",
        "IPY_MODEL_da29bfbc60c3498ba7f1cde3f3796ac4"
       ],
       "layout": "IPY_MODEL_462a79130c8645d198627256e0d82ca1"
      }
     },
     "f8541c4584d14f89aaa0aa54e92e7244": {
      "model_module": "@jupyter-widgets/controls",
      "model_module_version": "1.2.0",
      "model_name": "ButtonStyleModel",
      "state": {}
     },
     "f8a313867b3248b9b775b23e0e3f43ab": {
      "model_module": "@jupyter-widgets/base",
      "model_module_version": "1.0.0",
      "model_name": "LayoutModel",
      "state": {}
     },
     "f8d1b568b660420db7d1ce62dd5e83a4": {
      "model_module": "@jupyter-widgets/controls",
      "model_module_version": "1.2.0",
      "model_name": "DescriptionStyleModel",
      "state": {
       "description_width": ""
      }
     },
     "f929a9aa1d494f3a8c566832e123b363": {
      "model_module": "@jupyter-widgets/controls",
      "model_module_version": "1.2.0",
      "model_name": "FloatTextModel",
      "state": {
       "description": "sigma",
       "layout": "IPY_MODEL_404a23e84e2c419a9fb3be3b3ba78437",
       "step": 0.1,
       "style": "IPY_MODEL_5eccf91694a044778a8cb26eb5a5c8a0",
       "value": 1
      }
     },
     "f9440d84ed4042e389f3ee73c6fde4d4": {
      "model_module": "@jupyter-widgets/controls",
      "model_module_version": "1.2.0",
      "model_name": "ButtonStyleModel",
      "state": {}
     },
     "f94ab14ed0734f56b38316fdb952e750": {
      "model_module": "@jupyter-widgets/controls",
      "model_module_version": "1.2.0",
      "model_name": "HBoxModel",
      "state": {
       "children": [
        "IPY_MODEL_ed1451ab05ed447b886aebbf160448e1",
        "IPY_MODEL_8bc0589a899546c294dced800970d9b0"
       ],
       "layout": "IPY_MODEL_1e6c561e47f644139ddafdb52f18e109"
      }
     },
     "f982f86b5a9d4ee8b28c7f3247372882": {
      "model_module": "@jupyter-widgets/base",
      "model_module_version": "1.0.0",
      "model_name": "LayoutModel",
      "state": {
       "border": "1px solid gray"
      }
     },
     "f98ecea191d3469782b2fd05a91a4d66": {
      "model_module": "@jupyter-widgets/controls",
      "model_module_version": "1.2.0",
      "model_name": "FloatTextModel",
      "state": {
       "description": "max.",
       "layout": "IPY_MODEL_3a67196d27014701a62fa9a22a9167a8",
       "step": 0.1,
       "style": "IPY_MODEL_94c13257598e4e7e88ea93fb93ad8488",
       "value": 2
      }
     },
     "f992ac8388e0419ea5b8369bc8e329f7": {
      "model_module": "@jupyter-widgets/controls",
      "model_module_version": "1.2.0",
      "model_name": "FloatTextModel",
      "state": {
       "description": "max.",
       "layout": "IPY_MODEL_0adcae1437194ade8015c833911ed5f2",
       "step": 0.1,
       "style": "IPY_MODEL_b3bde46cc7d249959ea5a5a0963d43dc",
       "value": 2
      }
     },
     "f9bf967aa4d9440ca6b39006c6d4410a": {
      "model_module": "@jupyter-widgets/controls",
      "model_module_version": "1.2.0",
      "model_name": "DescriptionStyleModel",
      "state": {
       "description_width": ""
      }
     },
     "f9cad0d8bf9e4196a01e23602e0ad434": {
      "model_module": "@jupyter-widgets/base",
      "model_module_version": "1.0.0",
      "model_name": "LayoutModel",
      "state": {}
     },
     "fa37f38bd10d46259b73c9a383fbd8ae": {
      "model_module": "@jupyter-widgets/base",
      "model_module_version": "1.0.0",
      "model_name": "LayoutModel",
      "state": {
       "width": "75%"
      }
     },
     "fa85be82a78740ccbe7fe9f5698937ea": {
      "model_module": "@jupyter-widgets/base",
      "model_module_version": "1.0.0",
      "model_name": "LayoutModel",
      "state": {}
     },
     "fa9931ed61664d8fa35d9ebc5ad52aab": {
      "model_module": "@jupyter-widgets/base",
      "model_module_version": "1.0.0",
      "model_name": "LayoutModel",
      "state": {}
     },
     "fae526bc39354f31b449fbcf1ccffccb": {
      "model_module": "@jupyter-widgets/base",
      "model_module_version": "1.0.0",
      "model_name": "LayoutModel",
      "state": {
       "width": "auto"
      }
     },
     "faf1a11f908944ffabbd7126a5e005e1": {
      "model_module": "@jupyter-widgets/controls",
      "model_module_version": "1.2.0",
      "model_name": "SelectModel",
      "state": {
       "_options_labels": [
        "data/beads/beads_000_.SPE",
        "data/beads/beads_001_.SPE",
        "data/beads/beads_002_.SPE",
        "data/beads/beads_003_.SPE",
        "data/beads/beads_004_.SPE",
        "data/beads/beads_005_.SPE",
        "data/beads/beads_006_.SPE",
        "data/beads/beads_007_.SPE",
        "data/beads/beads_008_.SPE",
        "data/beads/beads_009_.SPE"
       ],
       "index": 0,
       "layout": "IPY_MODEL_2ff157d5494b47c29f5d253371c8ea80",
       "style": "IPY_MODEL_f9bf967aa4d9440ca6b39006c6d4410a"
      }
     },
     "fb224f5830d64ae0b1b5740e8d1697e3": {
      "model_module": "@jupyter-widgets/controls",
      "model_module_version": "1.2.0",
      "model_name": "DescriptionStyleModel",
      "state": {
       "description_width": ""
      }
     },
     "fb4924fb8fa347eb9e2cb3a4a5a80dbb": {
      "model_module": "@jupyter-widgets/base",
      "model_module_version": "1.0.0",
      "model_name": "LayoutModel",
      "state": {
       "width": "auto"
      }
     },
     "fbd86cc786c14f238655e284433736d9": {
      "model_module": "@jupyter-widgets/controls",
      "model_module_version": "1.2.0",
      "model_name": "DescriptionStyleModel",
      "state": {
       "description_width": ""
      }
     },
     "fbdb8cef522b43a198a9be2df1aea1d3": {
      "model_module": "@jupyter-widgets/controls",
      "model_module_version": "1.2.0",
      "model_name": "LabelModel",
      "state": {
       "layout": "IPY_MODEL_3593a37449154d8f82a44987fd1cabd8",
       "style": "IPY_MODEL_64f9d49685fa44ecb72ccff9c04bbcda",
       "value": "Locating beads (file 10/10)"
      }
     },
     "fbe86e1dd7194487b3b57f7e6f490339": {
      "model_module": "@jupyter-widgets/base",
      "model_module_version": "1.0.0",
      "model_name": "LayoutModel",
      "state": {}
     },
     "fc25cb9d938742c5b8eb185119d2c027": {
      "model_module": "@jupyter-widgets/controls",
      "model_module_version": "1.2.0",
      "model_name": "ButtonModel",
      "state": {
       "description": "Auto",
       "layout": "IPY_MODEL_9484f4f26805468c8f787a313c37e4a3",
       "style": "IPY_MODEL_17b0ca20c3534b11b8e69cc5a94e3a47"
      }
     },
     "fc4d7edd33564569a7c473aa2e8a8815": {
      "model_module": "@jupyter-widgets/base",
      "model_module_version": "1.0.0",
      "model_name": "LayoutModel",
      "state": {
       "display": "none"
      }
     },
     "fc5893db06514f709860d8b8e5c74f92": {
      "model_module": "@jupyter-widgets/base",
      "model_module_version": "1.0.0",
      "model_name": "LayoutModel",
      "state": {}
     },
     "fc64a6ccd7254302a99c760a06367fb9": {
      "model_module": "@jupyter-widgets/controls",
      "model_module_version": "1.2.0",
      "model_name": "HBoxModel",
      "state": {
       "children": [
        "IPY_MODEL_e1eabbbfd4b04c4f88b559ebdf18eb02",
        "IPY_MODEL_8f60a7b8105b4b2f8efcc28531ac63ee",
        "IPY_MODEL_4a7b5b806bad4a8b8f1567f9b0601f46"
       ],
       "layout": "IPY_MODEL_80fe2f7b6ac64475a3794aaf3aa27ae4"
      }
     },
     "fc6acbe5624b473093f3740247f56ee1": {
      "model_module": "@jupyter-widgets/base",
      "model_module_version": "1.0.0",
      "model_name": "LayoutModel",
      "state": {
       "width": "auto"
      }
     },
     "fc73dc2829344e42b3a1a5fae6bbb433": {
      "model_module": "@jupyter-widgets/controls",
      "model_module_version": "1.2.0",
      "model_name": "DropdownModel",
      "state": {
       "_options_labels": [
        "2d_fixed",
        "2d",
        "3d"
       ],
       "description": "model",
       "index": 1,
       "layout": "IPY_MODEL_3b63878afce54f82b604d3986ea88f88",
       "style": "IPY_MODEL_c54deae8c71e4325b7202a96264e416b"
      }
     },
     "fc80433e6cbb4660907789ce9b6c5583": {
      "model_module": "@jupyter-widgets/base",
      "model_module_version": "1.0.0",
      "model_name": "LayoutModel",
      "state": {
       "display": "none"
      }
     },
     "fc8c47a3cbf34f2e9187fe74026c0dff": {
      "model_module": "@jupyter-widgets/base",
      "model_module_version": "1.0.0",
      "model_name": "LayoutModel",
      "state": {
       "width": "auto"
      }
     },
     "fc951f5f950047039ca1c839c525906f": {
      "model_module": "@jupyter-widgets/controls",
      "model_module_version": "1.2.0",
      "model_name": "LabelModel",
      "state": {
       "layout": "IPY_MODEL_49b96d23871a4c919f44e812cb6471b5",
       "style": "IPY_MODEL_4bcf035025f74ee0b0e82a5b6af89d09",
       "value": "Locating ctrl-H57/no-cells_SAv-100k_SSS-ctrl-H57-50k_029_.SPE (213/213)"
      }
     },
     "fcf38aa1e3444f419749a2291f9d9561": {
      "model_module": "@jupyter-widgets/controls",
      "model_module_version": "1.2.0",
      "model_name": "DescriptionStyleModel",
      "state": {
       "description_width": ""
      }
     },
     "fd0e1df331454e93be279f4fd43c1fb6": {
      "model_module": "@jupyter-widgets/controls",
      "model_module_version": "1.2.0",
      "model_name": "FloatTextModel",
      "state": {
       "description": "min.",
       "layout": "IPY_MODEL_af51c9e9fc354008b987e9c52a9283c8",
       "step": 0.1,
       "style": "IPY_MODEL_fe8dd62615c9440dbb8e8c89c2a97122",
       "value": 0.5
      }
     },
     "fd283a9b705b4e168f6a0f5ea4275613": {
      "model_module": "@jupyter-widgets/base",
      "model_module_version": "1.0.0",
      "model_name": "LayoutModel",
      "state": {
       "border": "1px solid gray"
      }
     },
     "fd298f088b594c4bb584486154f5f2ad": {
      "model_module": "@jupyter-widgets/base",
      "model_module_version": "1.0.0",
      "model_name": "LayoutModel",
      "state": {
       "height": "150px",
       "width": "100%"
      }
     },
     "fd48958d981a44ef958f0020d62a2cfa": {
      "model_module": "@jupyter-widgets/base",
      "model_module_version": "1.0.0",
      "model_name": "LayoutModel",
      "state": {}
     },
     "fd55a134330e485dafc12f541fdc0098": {
      "model_module": "@jupyter-widgets/controls",
      "model_module_version": "1.2.0",
      "model_name": "DropdownModel",
      "state": {
       "_options_labels": [
        "Identity",
        "Cg",
        "Gaussian"
       ],
       "description": "find filter",
       "index": 1,
       "layout": "IPY_MODEL_c4653ddb5cb94a6c934669e33210cd7a",
       "style": "IPY_MODEL_0d3893c8ef9e4b89a5cb9014ed8248c1"
      }
     },
     "fd5f1a7c1c78448ead42ae40d262fbd6": {
      "model_module": "@jupyter-widgets/controls",
      "model_module_version": "1.2.0",
      "model_name": "HBoxModel",
      "state": {
       "children": [
        "IPY_MODEL_5854236992754eb5a4eb25901ebebbf3",
        "IPY_MODEL_aaef252f0f904c65bc3b1539ec5fda60",
        "IPY_MODEL_0cc2a9ebd0594ea6838949bf57e197fc"
       ],
       "layout": "IPY_MODEL_7b89770040f044aeb0938fce0d19fad1"
      }
     },
     "fd7fe18ee1144d149ef454af8aed54f3": {
      "model_module": "@jupyter-widgets/controls",
      "model_module_version": "1.2.0",
      "model_name": "CheckboxModel",
      "state": {
       "description": "Min. distance",
       "disabled": false,
       "indent": false,
       "layout": "IPY_MODEL_e930f2092d854d7595af2c6f9be1d517",
       "style": "IPY_MODEL_1e42292417d7411c84060940cc21870e",
       "value": false
      }
     },
     "fd853b0b90924fb6a53b45d7f2f9f5de": {
      "model_module": "@jupyter-widgets/controls",
      "model_module_version": "1.2.0",
      "model_name": "VBoxModel",
      "state": {
       "children": [
        "IPY_MODEL_65d112c837424107b83f98855bd20bab",
        "IPY_MODEL_01a04dad67354b949f6a51b8bd6ab6ce",
        "IPY_MODEL_ef9284b5f5e14297af782c30a61ebab1"
       ],
       "layout": "IPY_MODEL_cedde3392f934fa99c5adc1540c82f2e"
      }
     },
     "fd98c9302b7b4b3abbb89b28387d4e6c": {
      "model_module": "@jupyter-widgets/base",
      "model_module_version": "1.0.0",
      "model_name": "LayoutModel",
      "state": {}
     },
     "fe15a69c03ab4054baafaa9111007f90": {
      "model_module": "@jupyter-widgets/controls",
      "model_module_version": "1.2.0",
      "model_name": "DescriptionStyleModel",
      "state": {
       "description_width": ""
      }
     },
     "fe50cf899f9849c68cd362416b44221a": {
      "model_module": "@jupyter-widgets/base",
      "model_module_version": "1.0.0",
      "model_name": "LayoutModel",
      "state": {}
     },
     "fe754280dfc64055b548ec78eacc41d8": {
      "model_module": "@jupyter-widgets/base",
      "model_module_version": "1.0.0",
      "model_name": "LayoutModel",
      "state": {}
     },
     "fe7aa9ae9108443ebd19cd104096ac50": {
      "model_module": "@jupyter-widgets/base",
      "model_module_version": "1.0.0",
      "model_name": "LayoutModel",
      "state": {}
     },
     "fe8dd62615c9440dbb8e8c89c2a97122": {
      "model_module": "@jupyter-widgets/controls",
      "model_module_version": "1.2.0",
      "model_name": "DescriptionStyleModel",
      "state": {
       "description_width": ""
      }
     },
     "fec22a280af8468cb503dc8db631ab0d": {
      "model_module": "@jupyter-widgets/controls",
      "model_module_version": "1.2.0",
      "model_name": "VBoxModel",
      "state": {
       "children": [
        "IPY_MODEL_0b4f80b3350848c2bb999d8c38dce5e9",
        "IPY_MODEL_a2c461319e1f437fb7a80bfae2b804fd",
        "IPY_MODEL_cf0d308883f64f42954368c4494fe3aa"
       ],
       "layout": "IPY_MODEL_edfce0634e054ba1804ee9fa334e0c8e"
      }
     },
     "fed75ad1157f438c870d9b33cafa3cb0": {
      "model_module": "@jupyter-widgets/base",
      "model_module_version": "1.0.0",
      "model_name": "LayoutModel",
      "state": {
       "display": "none"
      }
     },
     "fed7cd05491e48f6ab37507e51e4c53b": {
      "model_module": "@jupyter-widgets/base",
      "model_module_version": "1.0.0",
      "model_name": "LayoutModel",
      "state": {
       "width": "auto"
      }
     },
     "ff2f313871b44293895ec6b4604982c5": {
      "model_module": "@jupyter-widgets/base",
      "model_module_version": "1.0.0",
      "model_name": "LayoutModel",
      "state": {
       "width": "auto"
      }
     },
     "ff6f29f6594d4a92be71440085c4f9a5": {
      "model_module": "@jupyter-widgets/base",
      "model_module_version": "1.0.0",
      "model_name": "LayoutModel",
      "state": {}
     },
     "ff83dba6849b4566a2c5b855469ef06c": {
      "model_module": "@jupyter-widgets/controls",
      "model_module_version": "1.2.0",
      "model_name": "DescriptionStyleModel",
      "state": {
       "description_width": ""
      }
     },
     "ff885677a118487299a4af03d4742890": {
      "model_module": "@jupyter-widgets/controls",
      "model_module_version": "1.2.0",
      "model_name": "VBoxModel",
      "state": {
       "children": [
        "IPY_MODEL_ea6aa6a598bf4cf597fb6d0781cf82d7",
        "IPY_MODEL_86d4d864668c47e99aad4c905abee941",
        "IPY_MODEL_788a2a310335461b85a4acc03917679e"
       ],
       "layout": "IPY_MODEL_556bcf6a15be407f871eccaf166f5be2"
      }
     },
     "ff916902a58342ff8f8136893a243101": {
      "model_module": "@jupyter-widgets/base",
      "model_module_version": "1.0.0",
      "model_name": "LayoutModel",
      "state": {
       "display": "flex",
       "flex_flow": "column wrap",
       "width": "66%"
      }
     },
     "ffa5f231158c4879829b837a09fdb271": {
      "model_module": "@jupyter-widgets/controls",
      "model_module_version": "1.2.0",
      "model_name": "HBoxModel",
      "state": {
       "children": [
        "IPY_MODEL_78c224c15bbf45a8b8b9d9a6668c8437",
        "IPY_MODEL_10930e794dea4b8bb113968a2230e0bb"
       ],
       "layout": "IPY_MODEL_ddb3be3e81694f63b945845860c9def7"
      }
     },
     "ffdf4944c3944d1fb6ef5453ccdcab05": {
      "model_module": "@jupyter-widgets/base",
      "model_module_version": "1.0.0",
      "model_name": "LayoutModel",
      "state": {
       "display": "inline"
      }
     },
     "ffe59aca5f9a4ed7a0fe1d2a7772e446": {
      "model_module": "@jupyter-widgets/controls",
      "model_module_version": "1.2.0",
      "model_name": "DescriptionStyleModel",
      "state": {
       "description_width": ""
      }
     },
     "fffbe933fea044748d172e2a339cf65b": {
      "model_module": "@jupyter-widgets/base",
      "model_module_version": "1.0.0",
      "model_name": "LayoutModel",
      "state": {}
     }
    },
    "version_major": 2,
    "version_minor": 0
   }
  }
 },
 "nbformat": 4,
 "nbformat_minor": 1
}
