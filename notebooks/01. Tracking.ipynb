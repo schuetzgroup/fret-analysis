{
 "cells": [
  {
   "cell_type": "code",
   "execution_count": 1,
   "metadata": {
    "nbpresent": {
     "id": "0a417825-fc46-48f3-8128-e0e265b094e1"
    }
   },
   "outputs": [],
   "source": [
    "%matplotlib widget\n",
    "from pathlib import Path\n",
    "import sys\n",
    "import os\n",
    "import warnings\n",
    "\n",
    "import matplotlib.pyplot as plt\n",
    "plt.ioff()\n",
    "    \n",
    "from micro_helpers import pims\n",
    "from smfret_analysis import Tracker, print_info"
   ]
  },
  {
   "cell_type": "code",
   "execution_count": 2,
   "metadata": {},
   "outputs": [],
   "source": [
    "%load_ext autoreload\n",
    "%autoreload 2"
   ]
  },
  {
   "cell_type": "code",
   "execution_count": 3,
   "metadata": {},
   "outputs": [
    {
     "name": "stdout",
     "output_type": "stream",
     "text": [
      "smFRET analysis software version 2.1\n",
      "(git revision 2.1-56-g70f9081)\n",
      "Output version 11\n",
      "Using sdt-python version 14.1\n"
     ]
    }
   ],
   "source": [
    "print_info()"
   ]
  },
  {
   "cell_type": "code",
   "execution_count": 4,
   "metadata": {
    "nbpresent": {
     "id": "0b4b7b88-8234-4a09-9ec6-7d6a88a2e944"
    }
   },
   "outputs": [],
   "source": [
    "load = False\n",
    "\n",
    "if not load:\n",
    "    # Start fresh\n",
    "    data_dir = \"/media/lukas/LS-ext-blue/Data/Force sensor FRET/2018-11-21\"\n",
    "    # donor origin, acceptor origin, size\n",
    "    tr = Tracker((201, 0), (0, 0), (190, 111), \"ce\" + \"da\" * 300 + \"c\", data_dir=data_dir)\n",
    "    tr.add_dataset(\"DPPC sensor cells\",\n",
    "                   Path(\"^DPPC_sensor-J4\", r\"cells-\\d{2}_(\\d{3})_.SPE\"), cells=True)\n",
    "    tr.add_dataset(\"DPPC sensor no-cells\",\n",
    "                   Path(\"^DPPC_sensor-J4\", r\"no-cells_(\\d{3})_.SPE\"), cells=False)\n",
    "    tr.add_dataset(\"POPC sensor cells\",\n",
    "                   Path(\"^POPC_sensor-J4\", r\"cells-\\d{2}_(\\d{3})_.SPE\"), cells=True)\n",
    "    tr.add_dataset(\"POPC sensor no-cells\",\n",
    "                   Path(\"^POPC_sensor-J4\", r\"no-cells_(\\d{3})_.SPE\"), cells=False)\n",
    "    tr.add_dataset(\"DPPC control cells\",\n",
    "                   Path(\"^DPPC_ctrl-J4\", r\"cells-\\d{2}_(\\d{3})_.SPE\"), cells=True)\n",
    "    tr.add_dataset(\"DPPC control no-cells\",\n",
    "                   Path(\"^DPPC_ctrl-J4\", r\"no-cells_(\\d{3})_.SPE\"), cells=False)\n",
    "    tr.add_dataset(\"POPC control cells\",\n",
    "                   Path(\"^POPC_ctrl-J4\", r\"cells-\\d{2}_(\\d{3})_.SPE\"), cells=True)\n",
    "    tr.add_dataset(\"POPC control no-cells\",\n",
    "                   Path(\"^POPC_ctrl-J4\", r\"no-cells_(\\d{3})_.SPE\"), cells=False)\n",
    "else:\n",
    "    # load\n",
    "    tr = Tracker.load()"
   ]
  },
  {
   "cell_type": "code",
   "execution_count": 5,
   "metadata": {},
   "outputs": [
    {
     "data": {
      "application/vnd.jupyter.widget-view+json": {
       "model_id": "2865ab06928d41f498c19348169b04cd",
       "version_major": 2,
       "version_minor": 0
      },
      "text/plain": [
       "Locator(children=(HBox(children=(VBox(children=(VBox(children=(Select(description='files', layout=Layout(width…"
      ]
     },
     "metadata": {},
     "output_type": "display_data"
    }
   ],
   "source": [
    "tr.set_bead_loc_opts(Path(\"beads\", \"beads_\\d+_.SPE\"))"
   ]
  },
  {
   "cell_type": "code",
   "execution_count": 9,
   "metadata": {},
   "outputs": [
    {
     "data": {
      "application/vnd.jupyter.widget-view+json": {
       "model_id": "a05e9b720fc74c8cb62576d5c54cc1b4",
       "version_major": 2,
       "version_minor": 0
      },
      "text/plain": [
       "Label(value='Starting…')"
      ]
     },
     "metadata": {},
     "output_type": "display_data"
    },
    {
     "data": {
      "application/vnd.jupyter.widget-view+json": {
       "model_id": "57edc3f24e7248e9ace42a3da08a9da1",
       "version_major": 2,
       "version_minor": 0
      },
      "text/plain": [
       "FigureCanvasNbAgg()"
      ]
     },
     "metadata": {},
     "output_type": "display_data"
    }
   ],
   "source": [
    "tr.make_chromatic()"
   ]
  },
  {
   "cell_type": "code",
   "execution_count": 10,
   "metadata": {},
   "outputs": [
    {
     "data": {
      "application/vnd.jupyter.widget-view+json": {
       "model_id": "be9a527331b641ce8879d22c7a8c1173",
       "version_major": 2,
       "version_minor": 0
      },
      "text/plain": [
       "VBox(children=(Dropdown(description='dataset', options=('DPPC sensor cells', 'DPPC sensor no-cells', 'POPC sen…"
      ]
     },
     "metadata": {},
     "output_type": "display_data"
    }
   ],
   "source": [
    "tr.set_loc_opts(\"donor\")"
   ]
  },
  {
   "cell_type": "code",
   "execution_count": 11,
   "metadata": {},
   "outputs": [
    {
     "data": {
      "application/vnd.jupyter.widget-view+json": {
       "model_id": "582c24aa4b164f92bd0a08546e64df56",
       "version_major": 2,
       "version_minor": 0
      },
      "text/plain": [
       "VBox(children=(Dropdown(description='dataset', options=('DPPC sensor cells', 'DPPC sensor no-cells', 'POPC sen…"
      ]
     },
     "metadata": {},
     "output_type": "display_data"
    }
   ],
   "source": [
    "tr.set_loc_opts(\"acceptor\")"
   ]
  },
  {
   "cell_type": "code",
   "execution_count": 12,
   "metadata": {
    "scrolled": true
   },
   "outputs": [
    {
     "data": {
      "application/vnd.jupyter.widget-view+json": {
       "model_id": "1e0f12d6598f42b59905d836fef4b4db",
       "version_major": 2,
       "version_minor": 0
      },
      "text/plain": [
       "Label(value='Starting…')"
      ]
     },
     "metadata": {},
     "output_type": "display_data"
    }
   ],
   "source": [
    "tr.locate()"
   ]
  },
  {
   "cell_type": "code",
   "execution_count": 5,
   "metadata": {},
   "outputs": [
    {
     "data": {
      "application/vnd.jupyter.widget-view+json": {
       "model_id": "25ef68687c954867993e4052dd0e3ecc",
       "version_major": 2,
       "version_minor": 0
      },
      "text/plain": [
       "Label(value='Starting…')"
      ]
     },
     "metadata": {},
     "output_type": "display_data"
    }
   ],
   "source": [
    "tr.track(feat_radius=4, bg_frame=3, link_radius=5, link_mem=3, min_length=4, bg_estimator=\"mean\")"
   ]
  },
  {
   "cell_type": "code",
   "execution_count": 6,
   "metadata": {},
   "outputs": [],
   "source": [
    "tr.extract_cell_images()\n",
    "tr.make_flatfield(\"donor\", Path(\"profile\", r\"green_.*\"), bg=200, smooth_sigma=10)\n",
    "tr.make_flatfield(\"acceptor\", Path(\"profile\", r\"red_.*\"), bg=200, smooth_sigma=10)"
   ]
  },
  {
   "cell_type": "code",
   "execution_count": 7,
   "metadata": {},
   "outputs": [],
   "source": [
    "tr.save()"
   ]
  },
  {
   "cell_type": "markdown",
   "metadata": {},
   "source": [
    "# Extract experiment times for paper"
   ]
  },
  {
   "cell_type": "code",
   "execution_count": 8,
   "metadata": {},
   "outputs": [],
   "source": [
    "from collections import OrderedDict\n",
    "from sdt import io\n",
    "\n",
    "\n",
    "def get_experiment_times(tracker, key):\n",
    "    times = OrderedDict()\n",
    "    for n, f in tracker.sources[key][\"files\"].items():\n",
    "        times[n] = f.metadata[\"DateTime\"]\n",
    "    with open(\"experiment_times.yaml\", \"w\") as f:\n",
    "        io.yaml.safe_dump(times, f)\n",
    "        \n",
    "get_experiment_times(tr, \"DPPC sensor cells\")"
   ]
  },
  {
   "cell_type": "code",
   "execution_count": null,
   "metadata": {},
   "outputs": [],
   "source": []
  }
 ],
 "metadata": {
  "anaconda-cloud": {},
  "kernelspec": {
   "display_name": "Python 3",
   "language": "python",
   "name": "python3"
  },
  "language_info": {
   "codemirror_mode": {
    "name": "ipython",
    "version": 3
   },
   "file_extension": ".py",
   "mimetype": "text/x-python",
   "name": "python",
   "nbconvert_exporter": "python",
   "pygments_lexer": "ipython3",
   "version": "3.7.7"
  },
  "nbpresent": {
   "slides": {
    "20fa0cd3-020c-4d9f-bcba-4e50c0c0a5d1": {
     "id": "20fa0cd3-020c-4d9f-bcba-4e50c0c0a5d1",
     "prev": "76433211-a936-400b-84f3-6a2fb80db8f1",
     "regions": {
      "2fd4244b-acc8-4dfc-babd-08c1db7b747a": {
       "attrs": {
        "height": 0.8,
        "width": 0.45,
        "x": 0.5,
        "y": 0.1
       },
       "content": {
        "cell": "dc9c3e3e-8794-45c2-9297-5d25775cf3f7",
        "part": "outputs"
       },
       "id": "2fd4244b-acc8-4dfc-babd-08c1db7b747a"
      },
      "5c5edddc-6415-40e9-a5ac-ffb546f82ef7": {
       "attrs": {
        "height": 0.8,
        "width": 0.45,
        "x": 0.05,
        "y": 0.1
       },
       "content": {
        "cell": "bd5405cb-53b0-416d-8790-3c6d72aad18e",
        "part": "outputs"
       },
       "id": "5c5edddc-6415-40e9-a5ac-ffb546f82ef7"
      }
     }
    },
    "76433211-a936-400b-84f3-6a2fb80db8f1": {
     "id": "76433211-a936-400b-84f3-6a2fb80db8f1",
     "prev": "e09ecffc-34f4-4a8f-a2cc-3ee776e5e11d",
     "regions": {
      "5fabb9bc-7563-43b0-a27e-45df2ab0d7b2": {
       "attrs": {
        "height": 0.8,
        "width": 0.45,
        "x": 0.5,
        "y": 0.1
       },
       "content": {
        "cell": "f96fc3f9-f52c-4eef-a51d-820ae20139f8",
        "part": "outputs"
       },
       "id": "5fabb9bc-7563-43b0-a27e-45df2ab0d7b2"
      },
      "ceaa665e-b68f-495f-957b-5a9b2e940e15": {
       "attrs": {
        "height": 0.8,
        "width": 0.45,
        "x": 0.05,
        "y": 0.1
       },
       "content": {
        "cell": "08649e84-4e91-4f9b-abca-7afff2065f6f",
        "part": "outputs"
       },
       "id": "ceaa665e-b68f-495f-957b-5a9b2e940e15"
      }
     }
    },
    "e09ecffc-34f4-4a8f-a2cc-3ee776e5e11d": {
     "id": "e09ecffc-34f4-4a8f-a2cc-3ee776e5e11d",
     "prev": null,
     "regions": {
      "3991d937-36e0-4d56-804e-4e9f31be78f5": {
       "attrs": {
        "height": 0.1500000000000001,
        "width": 0.44999999999999996,
        "x": 0.25,
        "y": 0.1
       },
       "content": {
        "cell": "8802d2db-c6c7-47ab-8e4f-3469fe66f891",
        "part": "widgets"
       },
       "id": "3991d937-36e0-4d56-804e-4e9f31be78f5"
      },
      "e0df44c7-b500-4da1-9614-784f74a93bae": {
       "attrs": {
        "height": 0.6,
        "width": 0.8,
        "x": 0.10000000000000002,
        "y": 0.3
       },
       "content": {
        "cell": "8802d2db-c6c7-47ab-8e4f-3469fe66f891",
        "part": "outputs"
       },
       "id": "e0df44c7-b500-4da1-9614-784f74a93bae"
      }
     }
    }
   },
   "themes": {}
  },
  "widgets": {
   "application/vnd.jupyter.widget-state+json": {
    "state": {
     "0018c04d4b2749a4897ec5711d0a8a1b": {
      "model_module": "@jupyter-widgets/controls",
      "model_module_version": "1.2.0",
      "model_name": "DescriptionStyleModel",
      "state": {
       "description_width": ""
      }
     },
     "0018d2c8cdc24975953919ccc4a08340": {
      "model_module": "@jupyter-widgets/controls",
      "model_module_version": "1.2.0",
      "model_name": "IntRangeSliderModel",
      "state": {
       "_model_name": "IntRangeSliderModel",
       "_view_name": "IntRangeSliderView",
       "layout": "IPY_MODEL_e8f899ae81b342c3a754c989ebecfc61",
       "max": 65535,
       "style": "IPY_MODEL_ca3928b3edc542b58ac4ba639b5d69ba",
       "value": [
        134,
        25393
       ]
      }
     },
     "002fad1c936943c5a2f2e933f8c91d83": {
      "model_module": "@jupyter-widgets/base",
      "model_module_version": "1.0.0",
      "model_name": "LayoutModel",
      "state": {
       "height": "150px",
       "width": "100%"
      }
     },
     "004a165785f648a6af498860645ce22a": {
      "model_module": "@jupyter-widgets/base",
      "model_module_version": "1.0.0",
      "model_name": "LayoutModel",
      "state": {
       "display": "none"
      }
     },
     "005559a6669f4d2b82b23960f9ad2cb3": {
      "model_module": "@jupyter-widgets/controls",
      "model_module_version": "1.2.0",
      "model_name": "BoundedIntTextModel",
      "state": {
       "description": "frame",
       "layout": "IPY_MODEL_17611348fb7d45928e9f9acdc16169f9",
       "max": 0,
       "style": "IPY_MODEL_1426a3465bbb49f9a45da3139f641ba9"
      }
     },
     "005a080a10004a2c8d90773f71f9702c": {
      "model_module": "@jupyter-widgets/controls",
      "model_module_version": "1.2.0",
      "model_name": "DropdownModel",
      "state": {
       "_options_labels": [
        "2d_fixed",
        "2d",
        "3d"
       ],
       "description": "model",
       "index": 1,
       "layout": "IPY_MODEL_cfa32745ebd04dfb992444c4c45e14fc",
       "style": "IPY_MODEL_203ba0904d38451fb868de08497577ce"
      }
     },
     "00c8c197117140f2832e70472620dcf6": {
      "model_module": "@jupyter-widgets/controls",
      "model_module_version": "1.2.0",
      "model_name": "DescriptionStyleModel",
      "state": {
       "description_width": ""
      }
     },
     "00d2c26445ad4dca886c63ad1b249952": {
      "model_module": "@jupyter-widgets/controls",
      "model_module_version": "1.2.0",
      "model_name": "DescriptionStyleModel",
      "state": {
       "description_width": ""
      }
     },
     "00de74018a174b87b954fff29cd962b5": {
      "model_module": "@jupyter-widgets/base",
      "model_module_version": "1.0.0",
      "model_name": "LayoutModel",
      "state": {
       "display": "inline"
      }
     },
     "00f6af30c0f74e0aa80c801130e3da5a": {
      "model_module": "@jupyter-widgets/base",
      "model_module_version": "1.0.0",
      "model_name": "LayoutModel",
      "state": {
       "width": "75%"
      }
     },
     "0104da1552564463929855cbc2b05593": {
      "model_module": "@jupyter-widgets/controls",
      "model_module_version": "1.2.0",
      "model_name": "DescriptionStyleModel",
      "state": {
       "description_width": ""
      }
     },
     "01201ffdcbff4b7d99f12629d45e4765": {
      "model_module": "@jupyter-widgets/base",
      "model_module_version": "1.0.0",
      "model_name": "LayoutModel",
      "state": {
       "height": "150px",
       "width": "100%"
      }
     },
     "01736be456ab4639a4e5f0f48f300839": {
      "model_module": "@jupyter-widgets/base",
      "model_module_version": "1.0.0",
      "model_name": "LayoutModel",
      "state": {
       "display": "none"
      }
     },
     "01a04dad67354b949f6a51b8bd6ab6ce": {
      "model_module": "@jupyter-widgets/controls",
      "model_module_version": "1.2.0",
      "model_name": "FloatTextModel",
      "state": {
       "description": "min.",
       "layout": "IPY_MODEL_56176a1911624df796d721ccf19324b6",
       "step": 0.1,
       "style": "IPY_MODEL_b44f50020b3f47899df9d43f22800286",
       "value": 0.5
      }
     },
     "01a2af9cf5104fb89fd4349bdc5dadb0": {
      "model_module": "@jupyter-widgets/controls",
      "model_module_version": "1.2.0",
      "model_name": "ButtonModel",
      "state": {
       "description": "Auto",
       "layout": "IPY_MODEL_6f3d645ca24d406081c03e962d90f5a0",
       "style": "IPY_MODEL_911e291299a9413694e2a31039eee35d"
      }
     },
     "01c8d0a55d0d48fdb32ed0408d82c1f5": {
      "model_module": "@jupyter-widgets/base",
      "model_module_version": "1.0.0",
      "model_name": "LayoutModel",
      "state": {
       "display": "flex",
       "flex_flow": "column wrap",
       "width": "66%"
      }
     },
     "01f6114e99c54035b39fe440e01986c9": {
      "model_module": "@jupyter-widgets/controls",
      "model_module_version": "1.2.0",
      "model_name": "DescriptionStyleModel",
      "state": {
       "description_width": ""
      }
     },
     "01f6fc6969b24911a349404d837bbf45": {
      "model_module": "@jupyter-widgets/base",
      "model_module_version": "1.0.0",
      "model_name": "LayoutModel",
      "state": {}
     },
     "01f7febb058f4a6ab60dfa074be2473d": {
      "model_module": "@jupyter-widgets/base",
      "model_module_version": "1.0.0",
      "model_name": "LayoutModel",
      "state": {}
     },
     "0200b780536d46a68b76eabe0aa9c320": {
      "model_module": "@jupyter-widgets/controls",
      "model_module_version": "1.2.0",
      "model_name": "DropdownModel",
      "state": {
       "_options_labels": [
        "2d_fixed",
        "2d",
        "3d"
       ],
       "description": "model",
       "index": 1,
       "layout": "IPY_MODEL_224958830e62412ab889b6ed9fa99549",
       "style": "IPY_MODEL_238977709bdf4273955dfeab92032af3"
      }
     },
     "0203ed12b70147ab820d372e3bb3afd2": {
      "model_module": "@jupyter-widgets/controls",
      "model_module_version": "1.2.0",
      "model_name": "CheckboxModel",
      "state": {
       "description": "Size range",
       "disabled": false,
       "indent": false,
       "layout": "IPY_MODEL_a2616790db824ffeb65d14eceec14934",
       "style": "IPY_MODEL_ad796e7bca5a42e5a14af119f386b4f3",
       "value": false
      }
     },
     "022d4e6b9d2b4ef29ad13e4759bdf303": {
      "model_module": "@jupyter-widgets/controls",
      "model_module_version": "1.2.0",
      "model_name": "DescriptionStyleModel",
      "state": {
       "description_width": ""
      }
     },
     "0261f9e62b234439873402d336041a69": {
      "model_module": "@jupyter-widgets/base",
      "model_module_version": "1.0.0",
      "model_name": "LayoutModel",
      "state": {
       "display": "flex",
       "flex_flow": "column wrap",
       "width": "66%"
      }
     },
     "027b45db01154a21918c8441fdd464ab": {
      "model_module": "@jupyter-widgets/controls",
      "model_module_version": "1.2.0",
      "model_name": "FloatTextModel",
      "state": {
       "description": "sigma",
       "layout": "IPY_MODEL_cdab3f1ca1a844ac9a1c96886bcb7f1a",
       "step": 0.1,
       "style": "IPY_MODEL_1850dec0b94841749bdb0da2fcf7727e",
       "value": 1
      }
     },
     "0296a0f59d2b495eacb4a67dee643a45": {
      "model_module": "@jupyter-widgets/controls",
      "model_module_version": "1.2.0",
      "model_name": "DescriptionStyleModel",
      "state": {
       "description_width": ""
      }
     },
     "02a6d4c29bb34dc0bc5e9aed5d5a181c": {
      "model_module": "@jupyter-widgets/controls",
      "model_module_version": "1.2.0",
      "model_name": "DescriptionStyleModel",
      "state": {
       "description_width": ""
      }
     },
     "030beaf9a07c41708ef5d2a2e0be05f5": {
      "model_module": "@jupyter-widgets/base",
      "model_module_version": "1.0.0",
      "model_name": "LayoutModel",
      "state": {}
     },
     "036084afd6684ecb9dbf7a29de25ccbe": {
      "model_module": "@jupyter-widgets/controls",
      "model_module_version": "1.2.0",
      "model_name": "HBoxModel",
      "state": {
       "children": [
        "IPY_MODEL_e4b7ecda4ad2471eb30d35e20928ad25",
        "IPY_MODEL_aaf69e05d407466fbe2eec239cc90280"
       ],
       "layout": "IPY_MODEL_52b0b62b8f1f4cd5bce7e1cce59de77c"
      }
     },
     "03a3c44633d2479eb3411c8dabba1b26": {
      "model_module": "@jupyter-widgets/base",
      "model_module_version": "1.0.0",
      "model_name": "LayoutModel",
      "state": {}
     },
     "03aea725465c47fa9e097730c1678540": {
      "model_module": "@jupyter-widgets/base",
      "model_module_version": "1.0.0",
      "model_name": "LayoutModel",
      "state": {
       "display": "none"
      }
     },
     "03bd1f0914ee43919dc47922430145b1": {
      "model_module": "@jupyter-widgets/base",
      "model_module_version": "1.0.0",
      "model_name": "LayoutModel",
      "state": {
       "display": "none"
      }
     },
     "03bdc5d00f804a5f8446fe02ee16e61c": {
      "model_module": "@jupyter-widgets/controls",
      "model_module_version": "1.2.0",
      "model_name": "DescriptionStyleModel",
      "state": {
       "description_width": ""
      }
     },
     "03d007fe573c4c9cbc5e4ea7cb9d0326": {
      "model_module": "@jupyter-widgets/base",
      "model_module_version": "1.0.0",
      "model_name": "LayoutModel",
      "state": {
       "width": "auto"
      }
     },
     "03d928f519d64a2f9d4c52fa72ca46b6": {
      "model_module": "@jupyter-widgets/controls",
      "model_module_version": "1.2.0",
      "model_name": "VBoxModel",
      "state": {
       "children": [
        "IPY_MODEL_c8cf22efdacb441780a9aa8333ed026b",
        "IPY_MODEL_a29e98e632534b93a0297f84f985a715",
        "IPY_MODEL_4e99d039977c47e3b8eba971c359fe29",
        "IPY_MODEL_ab316c8c91c44fa8aaa0cc813e57bfe0",
        "IPY_MODEL_b9d61e8c852c46c0ae27e1f2932f1f1c",
        "IPY_MODEL_e0096b38b7aa4a74a77947079110a333"
       ],
       "layout": "IPY_MODEL_7809e59803954e9ea3f3fb2f18196cbd"
      }
     },
     "0409ab0ac45f4d6b9b8e29003830c6c8": {
      "model_module": "@jupyter-widgets/controls",
      "model_module_version": "1.2.0",
      "model_name": "CheckboxModel",
      "state": {
       "description": "Size range",
       "disabled": false,
       "indent": false,
       "layout": "IPY_MODEL_2e5dcae31e52441794fbc41e8ead87db",
       "style": "IPY_MODEL_d589a64ea0144e829816e9d737a2d6bc",
       "value": false
      }
     },
     "042ebc57e42b4549895c60f4edbf265d": {
      "model_module": "@jupyter-widgets/base",
      "model_module_version": "1.0.0",
      "model_name": "LayoutModel",
      "state": {}
     },
     "0456f5bd127e43acb9f732da112bdd05": {
      "model_module": "@jupyter-widgets/controls",
      "model_module_version": "1.2.0",
      "model_name": "VBoxModel",
      "state": {
       "children": [
        "IPY_MODEL_9e4ae6a9292d4d9fbf87d5349ce243a7",
        "IPY_MODEL_4a51c13f3cd54ae98aa108b595a29848"
       ],
       "layout": "IPY_MODEL_285746af59934c1f9dc7dec16ecc850a"
      }
     },
     "047b67ca52234b498d91b3ffeb8eca13": {
      "model_module": "@jupyter-widgets/controls",
      "model_module_version": "1.2.0",
      "model_name": "DescriptionStyleModel",
      "state": {
       "description_width": ""
      }
     },
     "04c134ec844f48518c4d43fadfc470b3": {
      "model_module": "@jupyter-widgets/controls",
      "model_module_version": "1.2.0",
      "model_name": "DescriptionStyleModel",
      "state": {
       "description_width": ""
      }
     },
     "04fdb9be1ec84e91900284c7a9256bea": {
      "model_module": "@jupyter-widgets/controls",
      "model_module_version": "1.2.0",
      "model_name": "FloatTextModel",
      "state": {
       "description": "radius",
       "layout": "IPY_MODEL_640cbdf5fd58499cbf65b6ac96918d91",
       "step": 0.1,
       "style": "IPY_MODEL_586ea51ad54b431dbb7953698bff4f35",
       "value": 1
      }
     },
     "051997f9d6024dc8af51f2a4058dfa7b": {
      "model_module": "@jupyter-widgets/controls",
      "model_module_version": "1.2.0",
      "model_name": "SelectModel",
      "state": {
       "_options_labels": [
        "sensor-H57/cells-01_SAv-100k_SSS-H57-20k_000_.SPE"
       ],
       "index": 0,
       "layout": "IPY_MODEL_694f05a775e044d99aa44d6e58b4a1df",
       "style": "IPY_MODEL_865d1a7cd7b948548f2f7bb0f5eda00d"
      }
     },
     "0524bbc1993d499ab516047e3e4ae8ef": {
      "model_module": "@jupyter-widgets/base",
      "model_module_version": "1.0.0",
      "model_name": "LayoutModel",
      "state": {}
     },
     "05434a78486b4f4fb282f2cf32bb38c2": {
      "model_module": "@jupyter-widgets/controls",
      "model_module_version": "1.2.0",
      "model_name": "VBoxModel",
      "state": {
       "children": [
        "IPY_MODEL_adf40acda44f4b9b85e18c7a602df93c",
        "IPY_MODEL_11e567c07a2947178f7856bc1e3177b7"
       ],
       "layout": "IPY_MODEL_08c700fd289b431f93dfd8c2acd90d83"
      }
     },
     "0556af0fe8ce4c26887e936312cfee70": {
      "model_module": "@jupyter-widgets/base",
      "model_module_version": "1.0.0",
      "model_name": "LayoutModel",
      "state": {
       "width": "auto"
      }
     },
     "056306537363474c8160e61694a424b4": {
      "model_module": "@jupyter-widgets/base",
      "model_module_version": "1.0.0",
      "model_name": "LayoutModel",
      "state": {}
     },
     "057f5b2e771b4affac01583cff8c1586": {
      "model_module": "@jupyter-widgets/controls",
      "model_module_version": "1.2.0",
      "model_name": "VBoxModel",
      "state": {
       "children": [
        "IPY_MODEL_8d671eebba524806afd5190d5e9a294e",
        "IPY_MODEL_24f230003cf34f44811eff269324db40"
       ],
       "layout": "IPY_MODEL_65630ef9ee4e474da824e0ddc15db440"
      }
     },
     "05b4ec877b804dcbb86c36c410f637c7": {
      "model_module": "@jupyter-widgets/base",
      "model_module_version": "1.0.0",
      "model_name": "LayoutModel",
      "state": {
       "display": "none"
      }
     },
     "05c83d8adb7a4dababc3d43a13d279d9": {
      "model_module": "@jupyter-widgets/controls",
      "model_module_version": "1.2.0",
      "model_name": "FloatTextModel",
      "state": {
       "description": "radius",
       "layout": "IPY_MODEL_172a497724ce402ebdf3e897cdc66b6a",
       "step": 0.1,
       "style": "IPY_MODEL_16f404d292a64112972a0e9303c52ff0",
       "value": 1
      }
     },
     "05d857c2e8504550a4718576d51adb6e": {
      "model_module": "@jupyter-widgets/controls",
      "model_module_version": "1.2.0",
      "model_name": "DescriptionStyleModel",
      "state": {
       "description_width": ""
      }
     },
     "05e0d564a0d3408bba633bcffd12cb3f": {
      "model_module": "@jupyter-widgets/base",
      "model_module_version": "1.0.0",
      "model_name": "LayoutModel",
      "state": {
       "width": "auto"
      }
     },
     "0621e68317c3484c843c55c54ace5a2e": {
      "model_module": "@jupyter-widgets/controls",
      "model_module_version": "1.2.0",
      "model_name": "DescriptionStyleModel",
      "state": {
       "description_width": ""
      }
     },
     "063a0a7144d44c968349e73ffdaafdfe": {
      "model_module": "@jupyter-widgets/controls",
      "model_module_version": "1.2.0",
      "model_name": "DescriptionStyleModel",
      "state": {
       "description_width": ""
      }
     },
     "06913487a458403db576442098aaf641": {
      "model_module": "@jupyter-widgets/controls",
      "model_module_version": "1.2.0",
      "model_name": "FloatTextModel",
      "state": {
       "description": "radius",
       "layout": "IPY_MODEL_3c545a405b674051b41100b62fdf4ca2",
       "step": 0.1,
       "style": "IPY_MODEL_ea0b6a5546d9429ea7de2c7325b94dc9",
       "value": 1
      }
     },
     "06ba97282e1f4df59bebd0e0fd71431e": {
      "model_module": "@jupyter-widgets/controls",
      "model_module_version": "1.2.0",
      "model_name": "DescriptionStyleModel",
      "state": {
       "description_width": ""
      }
     },
     "07322f2872994b62a67e3ecc71961d7c": {
      "model_module": "@jupyter-widgets/base",
      "model_module_version": "1.0.0",
      "model_name": "LayoutModel",
      "state": {
       "height": "150px",
       "width": "100%"
      }
     },
     "07510a80d1154ce0a25057b5c67d278e": {
      "model_module": "@jupyter-widgets/base",
      "model_module_version": "1.0.0",
      "model_name": "LayoutModel",
      "state": {}
     },
     "07751bd64e3b49d794716b8557be9e28": {
      "model_module": "@jupyter-widgets/controls",
      "model_module_version": "1.2.0",
      "model_name": "HBoxModel",
      "state": {
       "children": [
        "IPY_MODEL_8dc6f662a26d4004be642e35900832e6",
        "IPY_MODEL_c9281a9444b342ccaeea5bbe41437cdf"
       ],
       "layout": "IPY_MODEL_0d75f16430f04176b6d02fbe5a4cb578"
      }
     },
     "078f43c2886840b78d1209cb7dd1867a": {
      "model_module": "@jupyter-widgets/base",
      "model_module_version": "1.0.0",
      "model_name": "LayoutModel",
      "state": {}
     },
     "07ac523a740a4fe68f24c1ab8535c730": {
      "model_module": "@jupyter-widgets/base",
      "model_module_version": "1.0.0",
      "model_name": "LayoutModel",
      "state": {
       "width": "auto"
      }
     },
     "07ba1d809e7c4ee195754d8378541f95": {
      "model_module": "@jupyter-widgets/controls",
      "model_module_version": "1.2.0",
      "model_name": "FloatTextModel",
      "state": {
       "layout": "IPY_MODEL_fae526bc39354f31b449fbcf1ccffccb",
       "step": 0.1,
       "style": "IPY_MODEL_e372ba2d74b8463db4786dc761cb09eb",
       "value": 3
      }
     },
     "07c8ae6842234a828cdc5b7ad6386b73": {
      "model_module": "@jupyter-widgets/controls",
      "model_module_version": "1.2.0",
      "model_name": "FloatTextModel",
      "state": {
       "description": "radius",
       "layout": "IPY_MODEL_4100fe56dc0b474794a0e0181f531fa2",
       "step": 0.1,
       "style": "IPY_MODEL_e671edec20394f92b29c23c6cad1c372",
       "value": 1
      }
     },
     "07cc9f950bd74e1d9b27e3b600f67ccb": {
      "model_module": "@jupyter-widgets/controls",
      "model_module_version": "1.2.0",
      "model_name": "DescriptionStyleModel",
      "state": {
       "description_width": ""
      }
     },
     "08031491c93e44c89351b873ef2d2793": {
      "model_module": "@jupyter-widgets/base",
      "model_module_version": "1.0.0",
      "model_name": "LayoutModel",
      "state": {
       "display": "flex",
       "flex_flow": "column wrap",
       "width": "66%"
      }
     },
     "083e49bdb54143db8c07ed01ba581d4c": {
      "model_module": "@jupyter-widgets/controls",
      "model_module_version": "1.2.0",
      "model_name": "DescriptionStyleModel",
      "state": {
       "description_width": ""
      }
     },
     "0842280875f046f9bd4875c3380bfbad": {
      "model_module": "@jupyter-widgets/controls",
      "model_module_version": "1.2.0",
      "model_name": "SliderStyleModel",
      "state": {
       "description_width": ""
      }
     },
     "0861d974a75343e6ad8cf9bb30904b63": {
      "model_module": "@jupyter-widgets/base",
      "model_module_version": "1.0.0",
      "model_name": "LayoutModel",
      "state": {}
     },
     "08c700fd289b431f93dfd8c2acd90d83": {
      "model_module": "@jupyter-widgets/base",
      "model_module_version": "1.0.0",
      "model_name": "LayoutModel",
      "state": {}
     },
     "08cbf097b5044a9e9658b1d5c04785f4": {
      "model_module": "@jupyter-widgets/base",
      "model_module_version": "1.0.0",
      "model_name": "LayoutModel",
      "state": {}
     },
     "08d3390a8eb14b92a51410e0026a657c": {
      "model_module": "@jupyter-widgets/base",
      "model_module_version": "1.0.0",
      "model_name": "LayoutModel",
      "state": {
       "width": "auto"
      }
     },
     "091ad8f59a174e4c8ab5ec61361a4982": {
      "model_module": "@jupyter-widgets/controls",
      "model_module_version": "1.2.0",
      "model_name": "HBoxModel",
      "state": {
       "children": [
        "IPY_MODEL_0c2c821c11174c3181f541a202aabba8",
        "IPY_MODEL_cb1aa06d48374c2a8b0ffa29b92d25dc",
        "IPY_MODEL_a0a29a1f59f34253bb259655681ce3bd"
       ],
       "layout": "IPY_MODEL_54ee6f9886ed45c598dc7148a36a5ee5"
      }
     },
     "094dc0a79c5448bcb2cc027f7dbdbf13": {
      "model_module": "@jupyter-widgets/controls",
      "model_module_version": "1.2.0",
      "model_name": "DescriptionStyleModel",
      "state": {
       "description_width": ""
      }
     },
     "09565482a60f468594efd05d8d47ce33": {
      "model_module": "@jupyter-widgets/controls",
      "model_module_version": "1.2.0",
      "model_name": "DescriptionStyleModel",
      "state": {
       "description_width": ""
      }
     },
     "0957f0c2e0354c03bd87e808879cf3bb": {
      "model_module": "@jupyter-widgets/base",
      "model_module_version": "1.0.0",
      "model_name": "LayoutModel",
      "state": {
       "display": "inline"
      }
     },
     "095a4faaffa94acba0dd70dc2c9df44f": {
      "model_module": "@jupyter-widgets/controls",
      "model_module_version": "1.2.0",
      "model_name": "SliderStyleModel",
      "state": {
       "description_width": ""
      }
     },
     "098bb99af1444004b3183b58bee89a05": {
      "model_module": "@jupyter-widgets/base",
      "model_module_version": "1.0.0",
      "model_name": "LayoutModel",
      "state": {
       "display": "inline"
      }
     },
     "099afe946aed4e08b18ee60ecfe3b28b": {
      "model_module": "@jupyter-widgets/controls",
      "model_module_version": "1.2.0",
      "model_name": "HBoxModel",
      "state": {
       "children": [
        "IPY_MODEL_5e1159f85fd74644919df2bb3f051ffa",
        "IPY_MODEL_27c2f36460284101b93dd9865d56f8cd"
       ],
       "layout": "IPY_MODEL_c866b561794e42ffbd8a5935d2516349"
      }
     },
     "09b5f256ed1e4788b8e416dda6f8b13d": {
      "model_module": "@jupyter-widgets/controls",
      "model_module_version": "1.2.0",
      "model_name": "SliderStyleModel",
      "state": {
       "description_width": ""
      }
     },
     "09c44b7191ff4e899246f49643253bb7": {
      "model_module": "@jupyter-widgets/controls",
      "model_module_version": "1.2.0",
      "model_name": "DescriptionStyleModel",
      "state": {
       "description_width": ""
      }
     },
     "0a68c8db6a294839898bb1fc2f78bc02": {
      "model_module": "@jupyter-widgets/controls",
      "model_module_version": "1.2.0",
      "model_name": "SelectModel",
      "state": {
       "_options_labels": [
        "sensor-H57/cells-01_SAv-100k_SSS-H57-20k_000_.SPE"
       ],
       "index": 0,
       "layout": "IPY_MODEL_33b505d4898344e08bee75837efdc0c8",
       "style": "IPY_MODEL_3c575d413417433c9323336b0c3bb3ab"
      }
     },
     "0ab698786cec42bc8fdf23c17c963c07": {
      "model_module": "@jupyter-widgets/controls",
      "model_module_version": "1.2.0",
      "model_name": "CheckboxModel",
      "state": {
       "description": "Min. distance",
       "disabled": false,
       "indent": false,
       "layout": "IPY_MODEL_fb4924fb8fa347eb9e2cb3a4a5a80dbb",
       "style": "IPY_MODEL_908ebcf6e38043ebb72d731b3bc73225",
       "value": true
      }
     },
     "0ab92ff91b114e2daa93551ba7b31491": {
      "model_module": "@jupyter-widgets/base",
      "model_module_version": "1.0.0",
      "model_name": "LayoutModel",
      "state": {
       "width": "auto"
      }
     },
     "0adcae1437194ade8015c833911ed5f2": {
      "model_module": "@jupyter-widgets/base",
      "model_module_version": "1.0.0",
      "model_name": "LayoutModel",
      "state": {
       "display": "none"
      }
     },
     "0b016037b1b242e09c406091965d5de8": {
      "model_module": "@jupyter-widgets/controls",
      "model_module_version": "1.2.0",
      "model_name": "DescriptionStyleModel",
      "state": {
       "description_width": ""
      }
     },
     "0b1698841e0d421eb716eafdd81dd2d8": {
      "model_module": "@jupyter-widgets/base",
      "model_module_version": "1.0.0",
      "model_name": "LayoutModel",
      "state": {
       "width": "100%"
      }
     },
     "0b26403315784fb28513a6a4c21f2802": {
      "model_module": "@jupyter-widgets/base",
      "model_module_version": "1.0.0",
      "model_name": "LayoutModel",
      "state": {}
     },
     "0b268781f879496594ca2800dad1d7b6": {
      "model_module": "@jupyter-widgets/controls",
      "model_module_version": "1.2.0",
      "model_name": "VBoxModel",
      "state": {
       "children": [
        "IPY_MODEL_04fdb9be1ec84e91900284c7a9256bea",
        "IPY_MODEL_b80d9fa544a9403f812443b83f778e0b",
        "IPY_MODEL_c02e2719552f4f6f8a7163d508f464e5",
        "IPY_MODEL_99ac8c78982f43ed9a357414fce0e531",
        "IPY_MODEL_1c1dc811f4d24013a84188335929fb18",
        "IPY_MODEL_fd853b0b90924fb6a53b45d7f2f9f5de"
       ],
       "layout": "IPY_MODEL_c0c6fbf615274e70adf571485cf9d79d"
      }
     },
     "0b4f80b3350848c2bb999d8c38dce5e9": {
      "model_module": "@jupyter-widgets/controls",
      "model_module_version": "1.2.0",
      "model_name": "DropdownModel",
      "state": {
       "_options_labels": [
        "Identity",
        "Cg",
        "Gaussian"
       ],
       "description": "find filter",
       "index": 1,
       "layout": "IPY_MODEL_1298c2f018fa484983e6191c3898cf91",
       "style": "IPY_MODEL_af5d88a7eb814276beaffbf600ae6e4b"
      }
     },
     "0b7488dc0c1a4be3a881714889f948cc": {
      "model_module": "@jupyter-widgets/controls",
      "model_module_version": "1.2.0",
      "model_name": "BoundedIntTextModel",
      "state": {
       "description": "frame",
       "layout": "IPY_MODEL_d73383bfe9e84b2091b2f51a95d1fb57",
       "max": 0,
       "style": "IPY_MODEL_d7c003ad030e43d7920d916a0cd7b2d3"
      }
     },
     "0bb803444c5846469a6bf6be5e47a7e4": {
      "model_module": "@jupyter-widgets/controls",
      "model_module_version": "1.2.0",
      "model_name": "DescriptionStyleModel",
      "state": {
       "description_width": ""
      }
     },
     "0bbae70001a54bdfa7504e058d9a2e55": {
      "model_module": "@jupyter-widgets/base",
      "model_module_version": "1.0.0",
      "model_name": "LayoutModel",
      "state": {
       "display": "none"
      }
     },
     "0bd360a680314cf9ae5ad3f3958c587e": {
      "model_module": "@jupyter-widgets/base",
      "model_module_version": "1.0.0",
      "model_name": "LayoutModel",
      "state": {
       "width": "100%"
      }
     },
     "0c124c81a4ff4f639e468eb91b806fcc": {
      "model_module": "@jupyter-widgets/controls",
      "model_module_version": "1.2.0",
      "model_name": "DescriptionStyleModel",
      "state": {
       "description_width": ""
      }
     },
     "0c2c821c11174c3181f541a202aabba8": {
      "model_module": "@jupyter-widgets/controls",
      "model_module_version": "1.2.0",
      "model_name": "IntRangeSliderModel",
      "state": {
       "_model_name": "IntRangeSliderModel",
       "_view_name": "IntRangeSliderView",
       "layout": "IPY_MODEL_00f6af30c0f74e0aa80c801130e3da5a",
       "max": 65535,
       "style": "IPY_MODEL_0dea4a80553942d89e25df014d6ee707",
       "value": [
        133,
        967
       ]
      }
     },
     "0c6814e20e264632b34c7a9ba47b467d": {
      "model_module": "@jupyter-widgets/base",
      "model_module_version": "1.0.0",
      "model_name": "LayoutModel",
      "state": {}
     },
     "0c9b1166092a416bafb4ec0991ca6558": {
      "model_module": "@jupyter-widgets/base",
      "model_module_version": "1.0.0",
      "model_name": "LayoutModel",
      "state": {
       "width": "auto"
      }
     },
     "0cc2a9ebd0594ea6838949bf57e197fc": {
      "model_module": "@jupyter-widgets/controls",
      "model_module_version": "1.2.0",
      "model_name": "CheckboxModel",
      "state": {
       "description": "Show loc.",
       "disabled": false,
       "indent": false,
       "layout": "IPY_MODEL_37ef0d8b772140dfbf59b4763913ae43",
       "style": "IPY_MODEL_51367cd976a94f70a43509ca261a2281",
       "value": true
      }
     },
     "0cd50c8a59d14bb2ba55e998b7433045": {
      "model_module": "@jupyter-widgets/controls",
      "model_module_version": "1.2.0",
      "model_name": "ButtonStyleModel",
      "state": {}
     },
     "0cdd03ac64564b4c9f06551bd032c8e4": {
      "model_module": "@jupyter-widgets/controls",
      "model_module_version": "1.2.0",
      "model_name": "DescriptionStyleModel",
      "state": {
       "description_width": ""
      }
     },
     "0cde23ecad0b4d89b0284fcc52027cab": {
      "model_module": "@jupyter-widgets/controls",
      "model_module_version": "1.2.0",
      "model_name": "DescriptionStyleModel",
      "state": {
       "description_width": ""
      }
     },
     "0cea7e65dde3457aa96dbed8b7568a9b": {
      "model_module": "@jupyter-widgets/controls",
      "model_module_version": "1.2.0",
      "model_name": "FloatTextModel",
      "state": {
       "layout": "IPY_MODEL_fc6acbe5624b473093f3740247f56ee1",
       "step": 0.1,
       "style": "IPY_MODEL_3b3b7dd44e824c8b806aee7c8bb1e065",
       "value": 1
      }
     },
     "0d28e98bb1b740e9b120e4d2ed3ef1b9": {
      "model_module": "@jupyter-widgets/base",
      "model_module_version": "1.0.0",
      "model_name": "LayoutModel",
      "state": {
       "width": "auto"
      }
     },
     "0d3893c8ef9e4b89a5cb9014ed8248c1": {
      "model_module": "@jupyter-widgets/controls",
      "model_module_version": "1.2.0",
      "model_name": "DescriptionStyleModel",
      "state": {
       "description_width": ""
      }
     },
     "0d66c1f375ac41059427cca0ddc0d82a": {
      "model_module": "@jupyter-widgets/controls",
      "model_module_version": "1.2.0",
      "model_name": "DescriptionStyleModel",
      "state": {
       "description_width": ""
      }
     },
     "0d6a2440340e489fad4981a43b1605fb": {
      "model_module": "@jupyter-widgets/base",
      "model_module_version": "1.0.0",
      "model_name": "LayoutModel",
      "state": {
       "height": "150px",
       "width": "100%"
      }
     },
     "0d75f16430f04176b6d02fbe5a4cb578": {
      "model_module": "@jupyter-widgets/base",
      "model_module_version": "1.0.0",
      "model_name": "LayoutModel",
      "state": {}
     },
     "0dad7982ad9346ffab27dbee023aab10": {
      "model_module": "@jupyter-widgets/controls",
      "model_module_version": "1.2.0",
      "model_name": "IntTextModel",
      "state": {
       "description": "feat. size",
       "layout": "IPY_MODEL_90aad56497fd4a5ea38f011e38008929",
       "step": 1,
       "style": "IPY_MODEL_d2f150c4a8744343a106dbf84685e7dc",
       "value": 3
      }
     },
     "0de1c5355cd847b3a4c630d31a3c7fb3": {
      "model_module": "@jupyter-widgets/controls",
      "model_module_version": "1.2.0",
      "model_name": "SelectModel",
      "state": {
       "_options_labels": [
        "data/beads/beads_000_.SPE",
        "data/beads/beads_001_.SPE",
        "data/beads/beads_002_.SPE",
        "data/beads/beads_003_.SPE",
        "data/beads/beads_004_.SPE",
        "data/beads/beads_005_.SPE",
        "data/beads/beads_006_.SPE",
        "data/beads/beads_007_.SPE",
        "data/beads/beads_008_.SPE",
        "data/beads/beads_009_.SPE"
       ],
       "index": 2,
       "layout": "IPY_MODEL_de5dcfa265124cf994457d534f2c4215",
       "style": "IPY_MODEL_99c464f01fd644c0a79237b476adc7af"
      }
     },
     "0dea4a80553942d89e25df014d6ee707": {
      "model_module": "@jupyter-widgets/controls",
      "model_module_version": "1.2.0",
      "model_name": "SliderStyleModel",
      "state": {
       "description_width": ""
      }
     },
     "0e0fc3f0530442bba3c7061cba46620f": {
      "model_module": "@jupyter-widgets/base",
      "model_module_version": "1.0.0",
      "model_name": "LayoutModel",
      "state": {
       "display": "flex",
       "flex_flow": "column wrap",
       "width": "66%"
      }
     },
     "0e15b4ab70e64fb69be8687a31917ad0": {
      "model_module": "@jupyter-widgets/base",
      "model_module_version": "1.0.0",
      "model_name": "LayoutModel",
      "state": {
       "width": "auto"
      }
     },
     "0e4f94f81e074cf5a19d35943215a729": {
      "model_module": "@jupyter-widgets/controls",
      "model_module_version": "1.2.0",
      "model_name": "CheckboxModel",
      "state": {
       "description": "Min. distance",
       "disabled": false,
       "indent": false,
       "layout": "IPY_MODEL_3be64c840f9c483681797b6d67d67b27",
       "style": "IPY_MODEL_1cd9165871484cebae6f2ee4b0feeb3a",
       "value": false
      }
     },
     "0e53dd625aaf4141a1a499dd154d5c97": {
      "model_module": "@jupyter-widgets/controls",
      "model_module_version": "1.2.0",
      "model_name": "FloatTextModel",
      "state": {
       "description": "min.",
       "layout": "IPY_MODEL_ef96b9ee0b834f7ebd60e3a76226f34e",
       "step": 0.1,
       "style": "IPY_MODEL_af599191dcb649338ccbb3cea8cfeb03",
       "value": 0.5
      }
     },
     "0e846b7ba4e8427b88c38ae508539120": {
      "model_module": "@jupyter-widgets/controls",
      "model_module_version": "1.2.0",
      "model_name": "DescriptionStyleModel",
      "state": {
       "description_width": ""
      }
     },
     "0e96033702ba4048a8f6c44f2bd69146": {
      "model_module": "@jupyter-widgets/controls",
      "model_module_version": "1.2.0",
      "model_name": "HBoxModel",
      "state": {
       "children": [
        "IPY_MODEL_56ddf30c3b54448eaac9adb02d973201",
        "IPY_MODEL_6da725d532d3441487b7c2d1168108aa"
       ],
       "layout": "IPY_MODEL_5663bea537e443eeaf6cc92c7c239ccd"
      }
     },
     "0ebbc1d754194a6794d3a380493e0363": {
      "model_module": "@jupyter-widgets/controls",
      "model_module_version": "1.2.0",
      "model_name": "HBoxModel",
      "state": {
       "children": [
        "IPY_MODEL_ebfe0329c9a54c26a8d0d1bc90fd1a37",
        "IPY_MODEL_c76a669be50c46c1b514303101b0de0e",
        "IPY_MODEL_74ba6fa1846d4103a14d6c2c08919732"
       ],
       "layout": "IPY_MODEL_810a209724294271b83a49d267f14a22"
      }
     },
     "0ec48eb6111c4e2d84fcf0f14db3e192": {
      "model_module": "@jupyter-widgets/controls",
      "model_module_version": "1.2.0",
      "model_name": "HBoxModel",
      "state": {
       "children": [
        "IPY_MODEL_f7f0349594174e56aa4cc491edcb7149",
        "IPY_MODEL_43d66b0944744ebda42365d083675a51"
       ],
       "layout": "IPY_MODEL_4d26ee6060214ff5b2a24bb3784c0591"
      }
     },
     "0ecb2e4660f94784a1958fd57ec03801": {
      "model_module": "@jupyter-widgets/base",
      "model_module_version": "1.0.0",
      "model_name": "LayoutModel",
      "state": {}
     },
     "0ef1d040c6c04fb7864e43dfd058b198": {
      "model_module": "@jupyter-widgets/controls",
      "model_module_version": "1.2.0",
      "model_name": "FloatTextModel",
      "state": {
       "description": "threshold",
       "layout": "IPY_MODEL_958e349bb2f843249adb8d750bd6ce15",
       "step": 10,
       "style": "IPY_MODEL_9cd8c13726d9400fb744a6ad4f4ee915",
       "value": 1000
      }
     },
     "0f1e09de113d4707bfbd3b083df35a52": {
      "model_module": "@jupyter-widgets/controls",
      "model_module_version": "1.2.0",
      "model_name": "DropdownModel",
      "state": {
       "_options_labels": [
        "2d_fixed",
        "2d",
        "3d"
       ],
       "description": "model",
       "index": 1,
       "layout": "IPY_MODEL_01f6fc6969b24911a349404d837bbf45",
       "style": "IPY_MODEL_2a6e1b9ea69042ccb479bd8922b4c3e3"
      }
     },
     "0f239a73f8c247669d67dbaed55521ee": {
      "model_module": "@jupyter-widgets/controls",
      "model_module_version": "1.2.0",
      "model_name": "FloatTextModel",
      "state": {
       "description": "max.",
       "layout": "IPY_MODEL_9c1237db10024290bd907058ca89ce61",
       "step": 0.1,
       "style": "IPY_MODEL_1a3ce324352f43739e089ba40bb8356d",
       "value": 2
      }
     },
     "0f6bb27f3b3e40e092dfb62abeb2476e": {
      "model_module": "@jupyter-widgets/base",
      "model_module_version": "1.0.0",
      "model_name": "LayoutModel",
      "state": {}
     },
     "0f6cb1432de1435a9412ac14c5c56d0b": {
      "model_module": "@jupyter-widgets/controls",
      "model_module_version": "1.2.0",
      "model_name": "DescriptionStyleModel",
      "state": {
       "description_width": ""
      }
     },
     "0f71c59db5aa4ea2b4769b5fea8c042f": {
      "model_module": "@jupyter-widgets/controls",
      "model_module_version": "1.2.0",
      "model_name": "DropdownModel",
      "state": {
       "_options_labels": [
        "Identity",
        "Cg",
        "Gaussian"
       ],
       "description": "find filter",
       "index": 1,
       "layout": "IPY_MODEL_b6a004b7e5574931b253328f1ad72624",
       "style": "IPY_MODEL_00d2c26445ad4dca886c63ad1b249952"
      }
     },
     "0fbf87dece764104b2cc5449cc9c7045": {
      "model_module": "@jupyter-widgets/base",
      "model_module_version": "1.0.0",
      "model_name": "LayoutModel",
      "state": {
       "width": "auto"
      }
     },
     "0fd64fed8a98495887e9ff49fff9d153": {
      "model_module": "@jupyter-widgets/controls",
      "model_module_version": "1.2.0",
      "model_name": "HBoxModel",
      "state": {
       "children": [
        "IPY_MODEL_05434a78486b4f4fb282f2cf32bb38c2",
        "IPY_MODEL_0b268781f879496594ca2800dad1d7b6"
       ],
       "layout": "IPY_MODEL_ecc12122d14a49e08bd8d8a6abf47879"
      }
     },
     "0fdde6d3a31a4ddb847a09ae10b05383": {
      "model_module": "@jupyter-widgets/controls",
      "model_module_version": "1.2.0",
      "model_name": "FloatTextModel",
      "state": {
       "description": "radius",
       "layout": "IPY_MODEL_6abdc33bf74742bc8631b54d38dc7eac",
       "step": 0.1,
       "style": "IPY_MODEL_e0c21e017fae4469abcf38c5338a9fcd",
       "value": 1
      }
     },
     "1009cd49c97e4206874e152e3db862bb": {
      "model_module": "@jupyter-widgets/base",
      "model_module_version": "1.0.0",
      "model_name": "LayoutModel",
      "state": {
       "display": "inline"
      }
     },
     "104e27273701462387b2cccb8e04aaf3": {
      "model_module": "@jupyter-widgets/controls",
      "model_module_version": "1.2.0",
      "model_name": "HBoxModel",
      "state": {
       "children": [
        "IPY_MODEL_dca9dd971b584ed1885dee7f185ae186",
        "IPY_MODEL_236ced0324ff408f86c0ce05e6e95632"
       ],
       "layout": "IPY_MODEL_9859e0a4f72b43af9a1a7f26e9c2eb1d"
      }
     },
     "105a5f4d969c4f2fbe2b7101b1a7d737": {
      "model_module": "@jupyter-widgets/base",
      "model_module_version": "1.0.0",
      "model_name": "LayoutModel",
      "state": {
       "width": "auto"
      }
     },
     "10930e794dea4b8bb113968a2230e0bb": {
      "model_module": "@jupyter-widgets/controls",
      "model_module_version": "1.2.0",
      "model_name": "VBoxModel",
      "state": {
       "children": [
        "IPY_MODEL_a9d8db04f91f4a78885048e47fe7d975",
        "IPY_MODEL_26d2919eacc5468aa126e4cfc0d56667",
        "IPY_MODEL_cbe91f751e1345588c0f8f841dba1a7b",
        "IPY_MODEL_b0ef45ddc9b64ae4b529c290407ec1f0",
        "IPY_MODEL_30a0241e5c814472b05714b48f2ffe88",
        "IPY_MODEL_25c7833c2c09419385454a435a839d35"
       ],
       "layout": "IPY_MODEL_90e802b1fc6a4e63aaed8c6f15075403"
      }
     },
     "10d29956cd704a7abe4c63434fd680b1": {
      "model_module": "@jupyter-widgets/controls",
      "model_module_version": "1.2.0",
      "model_name": "HBoxModel",
      "state": {
       "children": [
        "IPY_MODEL_4db7d530e0c34e82a4bf095e64845645",
        "IPY_MODEL_d2ec2c846e5f41738e5cf8d5b73514c9",
        "IPY_MODEL_9281a656a23d43bf85a38bb834ee710c"
       ],
       "layout": "IPY_MODEL_96306988e5d94606a1f1a51d0796167d"
      }
     },
     "1140ea0dbb964fe495fb0ac563e9eb3c": {
      "model_module": "@jupyter-widgets/controls",
      "model_module_version": "1.2.0",
      "model_name": "DescriptionStyleModel",
      "state": {
       "description_width": ""
      }
     },
     "1141d8cb2a8148a48ac1b6503f8c1ee9": {
      "model_module": "@jupyter-widgets/base",
      "model_module_version": "1.0.0",
      "model_name": "LayoutModel",
      "state": {}
     },
     "114e2f7fb777473c8b586bfcf3cadabc": {
      "model_module": "@jupyter-widgets/controls",
      "model_module_version": "1.2.0",
      "model_name": "FloatTextModel",
      "state": {
       "description": "min.",
       "layout": "IPY_MODEL_5cfae39b4ad94a99ac82ed3735cb7ac7",
       "step": 0.1,
       "style": "IPY_MODEL_4a68f37c1a214fffa9dd0d7700cf194e",
       "value": 0.5
      }
     },
     "1190408936e74c2f86398b535c88453e": {
      "model_module": "@jupyter-widgets/base",
      "model_module_version": "1.0.0",
      "model_name": "LayoutModel",
      "state": {}
     },
     "1191e59b698f41caac1f2543b9ec672d": {
      "model_module": "@jupyter-widgets/controls",
      "model_module_version": "1.2.0",
      "model_name": "VBoxModel",
      "state": {
       "children": [
        "IPY_MODEL_7f73ff4f83394c04820b1cf4828cff07",
        "IPY_MODEL_714df60064f0460cb9bc52cfb29760a1",
        "IPY_MODEL_c3cef7fe114b456782edabca88e03ff7"
       ],
       "layout": "IPY_MODEL_ca65cbf710a34eb2af2f0e54479139a8"
      }
     },
     "11b0a6c6cf96408bbd24e9bb3b9ec223": {
      "model_module": "@jupyter-widgets/base",
      "model_module_version": "1.0.0",
      "model_name": "LayoutModel",
      "state": {
       "width": "auto"
      }
     },
     "11bc5b1e3dc949a284eaa6fedf5ca20e": {
      "model_module": "@jupyter-widgets/base",
      "model_module_version": "1.0.0",
      "model_name": "LayoutModel",
      "state": {
       "width": "100%"
      }
     },
     "11e567c07a2947178f7856bc1e3177b7": {
      "model_module": "@jupyter-widgets/controls",
      "model_module_version": "1.2.0",
      "model_name": "BoundedIntTextModel",
      "state": {
       "description": "frame",
       "layout": "IPY_MODEL_0b26403315784fb28513a6a4c21f2802",
       "max": 49,
       "style": "IPY_MODEL_47584766f8314f85a70a4f38066c9eff"
      }
     },
     "11ee04842b9941189f848983bbd33060": {
      "model_module": "@jupyter-widgets/controls",
      "model_module_version": "1.2.0",
      "model_name": "DescriptionStyleModel",
      "state": {
       "description_width": ""
      }
     },
     "120e3330344a49d09454f506e17883f3": {
      "model_module": "@jupyter-widgets/controls",
      "model_module_version": "1.2.0",
      "model_name": "DescriptionStyleModel",
      "state": {
       "description_width": ""
      }
     },
     "125e07c7c1e04324b46ede98c53c63a4": {
      "model_module": "@jupyter-widgets/controls",
      "model_module_version": "1.2.0",
      "model_name": "DescriptionStyleModel",
      "state": {
       "description_width": ""
      }
     },
     "12980f81724142febe19018a4167f93d": {
      "model_module": "@jupyter-widgets/base",
      "model_module_version": "1.0.0",
      "model_name": "LayoutModel",
      "state": {
       "height": "150px",
       "width": "100%"
      }
     },
     "1298c2f018fa484983e6191c3898cf91": {
      "model_module": "@jupyter-widgets/base",
      "model_module_version": "1.0.0",
      "model_name": "LayoutModel",
      "state": {}
     },
     "129fbcfc47dd431bb83dc04e5b77badc": {
      "model_module": "@jupyter-widgets/base",
      "model_module_version": "1.0.0",
      "model_name": "LayoutModel",
      "state": {}
     },
     "12a71bb1fa3543c4a44273b64a802864": {
      "model_module": "@jupyter-widgets/controls",
      "model_module_version": "1.2.0",
      "model_name": "DescriptionStyleModel",
      "state": {
       "description_width": ""
      }
     },
     "12ac72ede8384674adc3df71072a70fe": {
      "model_module": "@jupyter-widgets/controls",
      "model_module_version": "1.2.0",
      "model_name": "SliderStyleModel",
      "state": {
       "description_width": ""
      }
     },
     "12d202bf4c084227bba83c3e9ada6aed": {
      "model_module": "@jupyter-widgets/controls",
      "model_module_version": "1.2.0",
      "model_name": "CheckboxModel",
      "state": {
       "description": "Min. distance",
       "disabled": false,
       "indent": false,
       "layout": "IPY_MODEL_7e804dfa5c76426e93cae68a9fbae361",
       "style": "IPY_MODEL_2dacbaa2b3094d1a80a90e4ec97b39e8",
       "value": true
      }
     },
     "12e003f48a8e42dcb76762eb7dbfbd59": {
      "model_module": "@jupyter-widgets/controls",
      "model_module_version": "1.2.0",
      "model_name": "ButtonStyleModel",
      "state": {}
     },
     "12e3aca5f7a3466baf8ea7382af3da63": {
      "model_module": "@jupyter-widgets/controls",
      "model_module_version": "1.2.0",
      "model_name": "DescriptionStyleModel",
      "state": {
       "description_width": ""
      }
     },
     "131d72ed5e92478eb026faf47c0daf88": {
      "model_module": "@jupyter-widgets/controls",
      "model_module_version": "1.2.0",
      "model_name": "DescriptionStyleModel",
      "state": {
       "description_width": ""
      }
     },
     "1349499d518a404598f1082519609c97": {
      "model_module": "@jupyter-widgets/base",
      "model_module_version": "1.0.0",
      "model_name": "LayoutModel",
      "state": {}
     },
     "140bc70604c44cd0b1ee487d0c9276c6": {
      "model_module": "@jupyter-widgets/base",
      "model_module_version": "1.0.0",
      "model_name": "LayoutModel",
      "state": {
       "width": "auto"
      }
     },
     "140ec12a11b9452bbfb35586d4dcede5": {
      "model_module": "@jupyter-widgets/controls",
      "model_module_version": "1.2.0",
      "model_name": "DescriptionStyleModel",
      "state": {
       "description_width": ""
      }
     },
     "1426a3465bbb49f9a45da3139f641ba9": {
      "model_module": "@jupyter-widgets/controls",
      "model_module_version": "1.2.0",
      "model_name": "DescriptionStyleModel",
      "state": {
       "description_width": ""
      }
     },
     "14692f2452074add81ccbce647b3a11e": {
      "model_module": "@jupyter-widgets/base",
      "model_module_version": "1.0.0",
      "model_name": "LayoutModel",
      "state": {
       "display": "none"
      }
     },
     "148091cf6441474c8ef54f7f093ea314": {
      "model_module": "@jupyter-widgets/base",
      "model_module_version": "1.0.0",
      "model_name": "LayoutModel",
      "state": {
       "border": "1px solid gray"
      }
     },
     "1484403c339c42d881d837479a6b348b": {
      "model_module": "@jupyter-widgets/controls",
      "model_module_version": "1.2.0",
      "model_name": "DescriptionStyleModel",
      "state": {
       "description_width": ""
      }
     },
     "1494528ace2c4c4db584278ebb8209ab": {
      "model_module": "@jupyter-widgets/controls",
      "model_module_version": "1.2.0",
      "model_name": "DescriptionStyleModel",
      "state": {
       "description_width": ""
      }
     },
     "14d5221e58f840aa88183d9af9408333": {
      "model_module": "@jupyter-widgets/controls",
      "model_module_version": "1.2.0",
      "model_name": "IntRangeSliderModel",
      "state": {
       "_model_name": "IntRangeSliderModel",
       "_view_name": "IntRangeSliderView",
       "layout": "IPY_MODEL_2df394f6bb7e4aada10f1ba8d918d4fb",
       "max": 65535,
       "style": "IPY_MODEL_ad174e487e694b738f5f19e1e7128916",
       "value": [
        134,
        25393
       ]
      }
     },
     "14df7f8e48284943bcb56f0d4e6b4518": {
      "model_module": "@jupyter-widgets/base",
      "model_module_version": "1.0.0",
      "model_name": "LayoutModel",
      "state": {}
     },
     "14e0f10b53a54f6981ae1f49c5ec1319": {
      "model_module": "@jupyter-widgets/controls",
      "model_module_version": "1.2.0",
      "model_name": "DescriptionStyleModel",
      "state": {
       "description_width": ""
      }
     },
     "15113472ac644c9dafe9aa5fd79b2ebc": {
      "model_module": "@jupyter-widgets/base",
      "model_module_version": "1.0.0",
      "model_name": "LayoutModel",
      "state": {
       "width": "auto"
      }
     },
     "1538691f74b44e72ac2a71f43fa8d908": {
      "model_module": "@jupyter-widgets/base",
      "model_module_version": "1.0.0",
      "model_name": "LayoutModel",
      "state": {
       "display": "none"
      }
     },
     "156fd5a9049b4a34bdafcf5399c6a636": {
      "model_module": "@jupyter-widgets/controls",
      "model_module_version": "1.2.0",
      "model_name": "FloatTextModel",
      "state": {
       "description": "radius",
       "layout": "IPY_MODEL_c0d5b515691a4f1bb53ebd8f89b9dd30",
       "step": 0.1,
       "style": "IPY_MODEL_7897d3f52a6c431889148c1404a7ad50",
       "value": 1
      }
     },
     "15fd5ddeea9b4b3ebf7f195fc013e804": {
      "model_module": "@jupyter-widgets/controls",
      "model_module_version": "1.2.0",
      "model_name": "FloatTextModel",
      "state": {
       "description": "max.",
       "layout": "IPY_MODEL_4365f161aa654dceb1f11c71ad69e059",
       "step": 0.1,
       "style": "IPY_MODEL_4c5be8f363bc45f38ed94765b9e7a6c9",
       "value": 2
      }
     },
     "1602f5feb09c4d74b13d2ed7587d5a03": {
      "model_module": "@jupyter-widgets/base",
      "model_module_version": "1.0.0",
      "model_name": "LayoutModel",
      "state": {
       "display": "none"
      }
     },
     "1618f4b3399c42758f19fedc025728c5": {
      "model_module": "@jupyter-widgets/base",
      "model_module_version": "1.0.0",
      "model_name": "LayoutModel",
      "state": {
       "display": "flex",
       "flex_flow": "column wrap",
       "width": "66%"
      }
     },
     "161bccb516f141d8af2d136bedde3dc7": {
      "model_module": "@jupyter-widgets/base",
      "model_module_version": "1.0.0",
      "model_name": "LayoutModel",
      "state": {
       "display": "none"
      }
     },
     "161e8a067c8947aab46ac8fe5a4a11af": {
      "model_module": "@jupyter-widgets/controls",
      "model_module_version": "1.2.0",
      "model_name": "DescriptionStyleModel",
      "state": {
       "description_width": ""
      }
     },
     "16280e129de34140ad85a284dd214b66": {
      "model_module": "@jupyter-widgets/controls",
      "model_module_version": "1.2.0",
      "model_name": "DescriptionStyleModel",
      "state": {
       "description_width": ""
      }
     },
     "1653a7a365f3480d9d9d6e9503868b77": {
      "model_module": "@jupyter-widgets/controls",
      "model_module_version": "1.2.0",
      "model_name": "VBoxModel",
      "state": {
       "children": [
        "IPY_MODEL_ba6a6ecec4be4859bb469f698578e451",
        "IPY_MODEL_176640f5fd624bf79c6cc71c4faada99",
        "IPY_MODEL_57b96df12752422e89e440a470aea9d3"
       ],
       "layout": "IPY_MODEL_4237b9133c2b4b87a4e3f25bfce6b24a"
      }
     },
     "166ed19e9e3f4f61ab800553362c811b": {
      "model_module": "@jupyter-widgets/controls",
      "model_module_version": "1.2.0",
      "model_name": "DescriptionStyleModel",
      "state": {
       "description_width": ""
      }
     },
     "169bee8484dc48b296b3922435be1ac1": {
      "model_module": "@jupyter-widgets/base",
      "model_module_version": "1.0.0",
      "model_name": "LayoutModel",
      "state": {}
     },
     "169d63fa5f784f9a911e226d9317a3b8": {
      "model_module": "@jupyter-widgets/controls",
      "model_module_version": "1.2.0",
      "model_name": "HBoxModel",
      "state": {
       "children": [
        "IPY_MODEL_90d47bd64de148b3ad13b9826f6860b0",
        "IPY_MODEL_2a7eeda57e1c429d8a77b6e15d71696f",
        "IPY_MODEL_98c40fa797494ee994e63aebeff97239"
       ],
       "layout": "IPY_MODEL_83816c77a7d44d1283af47f290407846"
      }
     },
     "16adeca1a5c84244923fc975362493e7": {
      "model_module": "@jupyter-widgets/base",
      "model_module_version": "1.0.0",
      "model_name": "LayoutModel",
      "state": {
       "display": "none"
      }
     },
     "16f404d292a64112972a0e9303c52ff0": {
      "model_module": "@jupyter-widgets/controls",
      "model_module_version": "1.2.0",
      "model_name": "DescriptionStyleModel",
      "state": {
       "description_width": ""
      }
     },
     "16f455c95b1e4673b92e8b23c61fcd37": {
      "model_module": "@jupyter-widgets/controls",
      "model_module_version": "1.2.0",
      "model_name": "FloatTextModel",
      "state": {
       "description": "sigma",
       "layout": "IPY_MODEL_42296a4b6f1b4f49b129bb4d23705751",
       "step": 0.1,
       "style": "IPY_MODEL_ed92f97417e347d18132099a5875532b",
       "value": 1
      }
     },
     "170d39d3ce444cba90ef4c63fbce7e89": {
      "model_module": "@jupyter-widgets/base",
      "model_module_version": "1.0.0",
      "model_name": "LayoutModel",
      "state": {
       "display": "none"
      }
     },
     "171fd38714314c55b9aa03a260d5df0a": {
      "model_module": "@jupyter-widgets/controls",
      "model_module_version": "1.2.0",
      "model_name": "FloatTextModel",
      "state": {
       "description": "radius",
       "layout": "IPY_MODEL_4b0261b9b6f648f5b2a390fda20c41f9",
       "step": 0.1,
       "style": "IPY_MODEL_454c08de3bcc4439b6a4751c4abdfe7c",
       "value": 1
      }
     },
     "1725c2f4e24f43519feeb602b06bd99e": {
      "model_module": "@jupyter-widgets/controls",
      "model_module_version": "1.2.0",
      "model_name": "FloatTextModel",
      "state": {
       "description": "sigma",
       "layout": "IPY_MODEL_181d1ce5682842fc989bdf2b73eef547",
       "step": 0.1,
       "style": "IPY_MODEL_197b6978e86a4a3ebee7346afc078e7d",
       "value": 1
      }
     },
     "172848b4e2ee4cc0acb10b8f5bfebb13": {
      "model_module": "@jupyter-widgets/base",
      "model_module_version": "1.0.0",
      "model_name": "LayoutModel",
      "state": {
       "width": "100%"
      }
     },
     "172a497724ce402ebdf3e897cdc66b6a": {
      "model_module": "@jupyter-widgets/base",
      "model_module_version": "1.0.0",
      "model_name": "LayoutModel",
      "state": {}
     },
     "1753f17a9cd74bb9be12223d1a6173b3": {
      "model_module": "@jupyter-widgets/base",
      "model_module_version": "1.0.0",
      "model_name": "LayoutModel",
      "state": {}
     },
     "17610fa125044383bad718745075fbe0": {
      "model_module": "@jupyter-widgets/controls",
      "model_module_version": "1.2.0",
      "model_name": "DropdownModel",
      "state": {
       "_options_labels": [
        "2d_fixed",
        "2d",
        "3d"
       ],
       "description": "model",
       "index": 1,
       "layout": "IPY_MODEL_c05d01372e25444d88e67353b0dceba0",
       "style": "IPY_MODEL_bea4f44c38254f5da66178f0078b2e5b"
      }
     },
     "17611348fb7d45928e9f9acdc16169f9": {
      "model_module": "@jupyter-widgets/base",
      "model_module_version": "1.0.0",
      "model_name": "LayoutModel",
      "state": {}
     },
     "176640f5fd624bf79c6cc71c4faada99": {
      "model_module": "@jupyter-widgets/controls",
      "model_module_version": "1.2.0",
      "model_name": "IntTextModel",
      "state": {
       "description": "feat. size",
       "layout": "IPY_MODEL_c89598672e964bb480ed2772eda0cd61",
       "step": 1,
       "style": "IPY_MODEL_5de06bb1c6624e61beb2780792cead7f",
       "value": 3
      }
     },
     "17a4f243e43749d3a82d94ed987a986a": {
      "model_module": "@jupyter-widgets/controls",
      "model_module_version": "1.2.0",
      "model_name": "DescriptionStyleModel",
      "state": {
       "description_width": ""
      }
     },
     "17b0ca20c3534b11b8e69cc5a94e3a47": {
      "model_module": "@jupyter-widgets/controls",
      "model_module_version": "1.2.0",
      "model_name": "ButtonStyleModel",
      "state": {}
     },
     "17fffd34af4f439a926cb172a59017fd": {
      "model_module": "@jupyter-widgets/controls",
      "model_module_version": "1.2.0",
      "model_name": "CheckboxModel",
      "state": {
       "description": "Show loc.",
       "disabled": false,
       "indent": false,
       "layout": "IPY_MODEL_ec102a599105400b922cb4662298b6c5",
       "style": "IPY_MODEL_125e07c7c1e04324b46ede98c53c63a4",
       "value": true
      }
     },
     "1801f0ca4a8a48b2bb97a19367c533ea": {
      "model_module": "@jupyter-widgets/base",
      "model_module_version": "1.0.0",
      "model_name": "LayoutModel",
      "state": {}
     },
     "181734e03d774155ab38b96f8b99a71a": {
      "model_module": "@jupyter-widgets/controls",
      "model_module_version": "1.2.0",
      "model_name": "DescriptionStyleModel",
      "state": {
       "description_width": ""
      }
     },
     "181d1ce5682842fc989bdf2b73eef547": {
      "model_module": "@jupyter-widgets/base",
      "model_module_version": "1.0.0",
      "model_name": "LayoutModel",
      "state": {
       "display": "none"
      }
     },
     "184e332be168424e9bb1cb8642c9490f": {
      "model_module": "@jupyter-widgets/controls",
      "model_module_version": "1.2.0",
      "model_name": "DescriptionStyleModel",
      "state": {
       "description_width": ""
      }
     },
     "1850dec0b94841749bdb0da2fcf7727e": {
      "model_module": "@jupyter-widgets/controls",
      "model_module_version": "1.2.0",
      "model_name": "DescriptionStyleModel",
      "state": {
       "description_width": ""
      }
     },
     "186fef0ffc664a32bff80e8a388fa1b1": {
      "model_module": "@jupyter-widgets/controls",
      "model_module_version": "1.2.0",
      "model_name": "DescriptionStyleModel",
      "state": {
       "description_width": ""
      }
     },
     "187be5cd708841f184606d85c5bc31f3": {
      "model_module": "@jupyter-widgets/controls",
      "model_module_version": "1.2.0",
      "model_name": "DescriptionStyleModel",
      "state": {
       "description_width": ""
      }
     },
     "18cf4394760945b48cbef11a18c60810": {
      "model_module": "@jupyter-widgets/controls",
      "model_module_version": "1.2.0",
      "model_name": "FloatTextModel",
      "state": {
       "description": "max.",
       "layout": "IPY_MODEL_e71fb3523ffa4b1aa40a594304fe041f",
       "step": 0.1,
       "style": "IPY_MODEL_71535ed4f46f42308f4796dd4b17a2ac",
       "value": 2
      }
     },
     "18e95443d23e4217b96c62ed43b0556f": {
      "model_module": "@jupyter-widgets/base",
      "model_module_version": "1.0.0",
      "model_name": "LayoutModel",
      "state": {}
     },
     "18f18c16017341cf809f83acd1531e91": {
      "model_module": "@jupyter-widgets/controls",
      "model_module_version": "1.2.0",
      "model_name": "HBoxModel",
      "state": {
       "children": [
        "IPY_MODEL_97f9733d2c474b21ba686340313e78ef",
        "IPY_MODEL_c96eaab9612e4b65aad3e9c5ce261e24",
        "IPY_MODEL_d7122f5bd03f49fba84fa28e42bb72db"
       ],
       "layout": "IPY_MODEL_60493ddd1b4c4697b62100c27014597a"
      }
     },
     "1927fade527b44e3b55d8b2bbaa09f28": {
      "model_module": "@jupyter-widgets/controls",
      "model_module_version": "1.2.0",
      "model_name": "FloatTextModel",
      "state": {
       "description": "min.",
       "layout": "IPY_MODEL_e0af1a73d3514a41b622304dfcb6b8be",
       "step": 0.1,
       "style": "IPY_MODEL_25457bbf14f747009b4f21cacf16a341",
       "value": 0.5
      }
     },
     "1945bebc4d184861bd438dffc310f6cd": {
      "model_module": "@jupyter-widgets/controls",
      "model_module_version": "1.2.0",
      "model_name": "SelectModel",
      "state": {
       "_options_labels": [
        "data/beads/beads_000_.SPE",
        "data/beads/beads_001_.SPE",
        "data/beads/beads_002_.SPE",
        "data/beads/beads_003_.SPE",
        "data/beads/beads_004_.SPE",
        "data/beads/beads_005_.SPE",
        "data/beads/beads_006_.SPE",
        "data/beads/beads_007_.SPE",
        "data/beads/beads_008_.SPE",
        "data/beads/beads_009_.SPE"
       ],
       "index": 1,
       "layout": "IPY_MODEL_bb271e1802df495589914f40f18a32f8",
       "style": "IPY_MODEL_3512eaffd0d549439f22523367cf10d8"
      }
     },
     "197b6978e86a4a3ebee7346afc078e7d": {
      "model_module": "@jupyter-widgets/controls",
      "model_module_version": "1.2.0",
      "model_name": "DescriptionStyleModel",
      "state": {
       "description_width": ""
      }
     },
     "198888b6357641588b0769efebdc4863": {
      "model_module": "@jupyter-widgets/controls",
      "model_module_version": "1.2.0",
      "model_name": "HBoxModel",
      "state": {
       "children": [
        "IPY_MODEL_44c08bc02daf42f1a0416a85a4b9969d",
        "IPY_MODEL_ab9309422cca470bb40a7c6d6ff4ef70"
       ],
       "layout": "IPY_MODEL_25a28600fbd84832bcec0ae2b9587f77"
      }
     },
     "19babbab651e40e7b31d69f0933dcd97": {
      "model_module": "@jupyter-widgets/controls",
      "model_module_version": "1.2.0",
      "model_name": "DescriptionStyleModel",
      "state": {
       "description_width": ""
      }
     },
     "19e4bbee2e614bc4ba7402ecedaa8c61": {
      "model_module": "@jupyter-widgets/base",
      "model_module_version": "1.0.0",
      "model_name": "LayoutModel",
      "state": {
       "width": "auto"
      }
     },
     "19e54e8518c447c6a57fc58c7d49c2ed": {
      "model_module": "@jupyter-widgets/controls",
      "model_module_version": "1.2.0",
      "model_name": "CheckboxModel",
      "state": {
       "description": "Min. distance",
       "disabled": false,
       "indent": false,
       "layout": "IPY_MODEL_26b33f01a9594bf3affc727010a0a2ad",
       "style": "IPY_MODEL_a9260d6530984155b08468659eee60ce",
       "value": true
      }
     },
     "1a3ce324352f43739e089ba40bb8356d": {
      "model_module": "@jupyter-widgets/controls",
      "model_module_version": "1.2.0",
      "model_name": "DescriptionStyleModel",
      "state": {
       "description_width": ""
      }
     },
     "1a7f60fb844840a79fe1bfc9d493b4d9": {
      "model_module": "@jupyter-widgets/controls",
      "model_module_version": "1.2.0",
      "model_name": "DropdownModel",
      "state": {
       "_options_labels": [
        "2d_fixed",
        "2d",
        "3d"
       ],
       "description": "model",
       "index": 1,
       "layout": "IPY_MODEL_932e06afd8a8412d8d84c05ece0810d7",
       "style": "IPY_MODEL_e96c896d4f344616b11a89abc57afed0"
      }
     },
     "1a9a1416534040559ecaeeb13f1b824a": {
      "model_module": "@jupyter-widgets/controls",
      "model_module_version": "1.2.0",
      "model_name": "FloatTextModel",
      "state": {
       "description": "max.",
       "layout": "IPY_MODEL_407ce516982c43a1a697e896a1586e0c",
       "step": 0.1,
       "style": "IPY_MODEL_c988709bd87c4a629641e62b63c167be",
       "value": 2
      }
     },
     "1ac8bfa0df214c21bddbf5915ae44e15": {
      "model_module": "@jupyter-widgets/controls",
      "model_module_version": "1.2.0",
      "model_name": "SelectModel",
      "state": {
       "_options_labels": [
        "beads/beads_000_.SPE",
        "beads/beads_001_.SPE",
        "beads/beads_002_.SPE",
        "beads/beads_003_.SPE",
        "beads/beads_004_.SPE",
        "beads/beads_005_.SPE",
        "beads/beads_006_.SPE",
        "beads/beads_007_.SPE",
        "beads/beads_008_.SPE",
        "beads/beads_009_.SPE"
       ],
       "index": 0,
       "layout": "IPY_MODEL_c86d77bb332b4d0590c259f51076de7c",
       "style": "IPY_MODEL_b7be599876324851838edcbef4a6ffcb"
      }
     },
     "1ad839a8d33e479f905fcf2a5057e597": {
      "model_module": "@jupyter-widgets/controls",
      "model_module_version": "1.2.0",
      "model_name": "LabelModel",
      "state": {
       "layout": "IPY_MODEL_58167ea58240475299471d95d476a684",
       "style": "IPY_MODEL_eb9b74271d2d44dcb8aced8f36b6dea4",
       "value": "Tracking ctrl-H57/no-cells_SAv-100k_SSS-ctrl-H57-50k_029_.SPE (213/213)"
      }
     },
     "1afc74c34b834938b692233d4251d486": {
      "model_module": "@jupyter-widgets/controls",
      "model_module_version": "1.2.0",
      "model_name": "DescriptionStyleModel",
      "state": {
       "description_width": ""
      }
     },
     "1b620fd859a4480aa4f9e4c1eb031eb2": {
      "model_module": "@jupyter-widgets/base",
      "model_module_version": "1.0.0",
      "model_name": "LayoutModel",
      "state": {
       "width": "auto"
      }
     },
     "1bc1bf8bdea542b7920e221d983edffb": {
      "model_module": "@jupyter-widgets/controls",
      "model_module_version": "1.2.0",
      "model_name": "SelectModel",
      "state": {
       "_options_labels": [
        "sensor-H57/cells-01_SAv-100k_SSS-H57-20k_000_.SPE"
       ],
       "index": 0,
       "layout": "IPY_MODEL_7065c42cfbec4534b7b8c4e7b6a34b3f",
       "style": "IPY_MODEL_7f0e7f412f954619b202379e8b02693b"
      }
     },
     "1bef31ac08074ebd95693403b9f1d5a3": {
      "model_module": "@jupyter-widgets/controls",
      "model_module_version": "1.2.0",
      "model_name": "SliderStyleModel",
      "state": {
       "description_width": ""
      }
     },
     "1c1dc811f4d24013a84188335929fb18": {
      "model_module": "@jupyter-widgets/controls",
      "model_module_version": "1.2.0",
      "model_name": "HBoxModel",
      "state": {
       "children": [
        "IPY_MODEL_436b9b5f2afe4c6693f58f28df3c82d1",
        "IPY_MODEL_ad98c99d4b8a46948c2eb85e97d210f9"
       ],
       "layout": "IPY_MODEL_bfec349152fa4833b470d8ec1259aab1"
      }
     },
     "1c5f0943bcc4468db7357061336a54df": {
      "model_module": "@jupyter-widgets/controls",
      "model_module_version": "1.2.0",
      "model_name": "DescriptionStyleModel",
      "state": {
       "description_width": ""
      }
     },
     "1c824a0b6f3240e5af259e9c61791276": {
      "model_module": "@jupyter-widgets/controls",
      "model_module_version": "1.2.0",
      "model_name": "DescriptionStyleModel",
      "state": {
       "description_width": ""
      }
     },
     "1cd9165871484cebae6f2ee4b0feeb3a": {
      "model_module": "@jupyter-widgets/controls",
      "model_module_version": "1.2.0",
      "model_name": "DescriptionStyleModel",
      "state": {
       "description_width": ""
      }
     },
     "1cf385c71a4d47ff971305ff22f8d409": {
      "model_module": "@jupyter-widgets/controls",
      "model_module_version": "1.2.0",
      "model_name": "HBoxModel",
      "state": {
       "children": [
        "IPY_MODEL_f29c89eed6f944288cabe9167b510179",
        "IPY_MODEL_6213c69a7df04ee28daba2e0e74e2b76",
        "IPY_MODEL_9c1c69452a7f4e77b69c536b081d48b4"
       ],
       "layout": "IPY_MODEL_2edf73a67e144099aca3bd81f94bd30e"
      }
     },
     "1cfdf2db76794dd48f239a6fe9bcf218": {
      "model_module": "@jupyter-widgets/base",
      "model_module_version": "1.0.0",
      "model_name": "LayoutModel",
      "state": {}
     },
     "1d23768466ae4cfeb64921711ebe49d4": {
      "model_module": "@jupyter-widgets/controls",
      "model_module_version": "1.2.0",
      "model_name": "FloatTextModel",
      "state": {
       "description": "sigma",
       "layout": "IPY_MODEL_db84dc2b028949aea5dc5f2e91cbf792",
       "step": 0.1,
       "style": "IPY_MODEL_3e4944042f0845319952b320763018d0",
       "value": 1
      }
     },
     "1d53e14e42424c3fb362bad8c9bd6fee": {
      "model_module": "@jupyter-widgets/base",
      "model_module_version": "1.0.0",
      "model_name": "LayoutModel",
      "state": {}
     },
     "1d9a93a9f6c24b018ce1963bb58d97fe": {
      "model_module": "@jupyter-widgets/base",
      "model_module_version": "1.0.0",
      "model_name": "LayoutModel",
      "state": {}
     },
     "1dde5233f259499a95d6f308b4422da5": {
      "model_module": "@jupyter-widgets/controls",
      "model_module_version": "1.2.0",
      "model_name": "VBoxModel",
      "state": {
       "children": [
        "IPY_MODEL_e2501d102e874250bef67ae4226556e2",
        "IPY_MODEL_b855b6287cc040bc9e1b3ef584ff3795",
        "IPY_MODEL_e5af1c9d0bf94a41b4eba05dd22e83ff"
       ],
       "layout": "IPY_MODEL_ff6f29f6594d4a92be71440085c4f9a5"
      }
     },
     "1df8d90fd50d42a69167a3d390d0753d": {
      "model_module": "@jupyter-widgets/base",
      "model_module_version": "1.0.0",
      "model_name": "LayoutModel",
      "state": {}
     },
     "1e2c7801417d4e6d8736963d27fe69cd": {
      "model_module": "@jupyter-widgets/controls",
      "model_module_version": "1.2.0",
      "model_name": "DescriptionStyleModel",
      "state": {
       "description_width": ""
      }
     },
     "1e3129fc5cd44769b18bc99ca51ed37a": {
      "model_module": "@jupyter-widgets/base",
      "model_module_version": "1.0.0",
      "model_name": "LayoutModel",
      "state": {
       "height": "150px",
       "width": "100%"
      }
     },
     "1e42292417d7411c84060940cc21870e": {
      "model_module": "@jupyter-widgets/controls",
      "model_module_version": "1.2.0",
      "model_name": "DescriptionStyleModel",
      "state": {
       "description_width": ""
      }
     },
     "1e467e9b04f54ce2b7589198a94d15e8": {
      "model_module": "@jupyter-widgets/base",
      "model_module_version": "1.0.0",
      "model_name": "LayoutModel",
      "state": {
       "width": "auto"
      }
     },
     "1e6c561e47f644139ddafdb52f18e109": {
      "model_module": "@jupyter-widgets/base",
      "model_module_version": "1.0.0",
      "model_name": "LayoutModel",
      "state": {
       "height": "150px",
       "width": "100%"
      }
     },
     "1e9db56aac6d40d8acf83ef9d880b244": {
      "model_module": "@jupyter-widgets/base",
      "model_module_version": "1.0.0",
      "model_name": "LayoutModel",
      "state": {}
     },
     "1f18affa79ef42288f546fb5bc51d6f1": {
      "model_module": "@jupyter-widgets/controls",
      "model_module_version": "1.2.0",
      "model_name": "SelectModel",
      "state": {
       "_options_labels": [
        "sensor-H57/cells-01_SAv-100k_SSS-H57-20k_000_.SPE"
       ],
       "index": 0,
       "layout": "IPY_MODEL_e6f90818e44e4f82bdae93466567aec2",
       "style": "IPY_MODEL_493efc4635854b789c035ec0c9b39114"
      }
     },
     "1f3056b0d82a448ebd9388e035c6b2eb": {
      "model_module": "@jupyter-widgets/controls",
      "model_module_version": "1.2.0",
      "model_name": "DescriptionStyleModel",
      "state": {
       "description_width": ""
      }
     },
     "1f95ca0f70c84935abba32f323d60216": {
      "model_module": "@jupyter-widgets/base",
      "model_module_version": "1.0.0",
      "model_name": "LayoutModel",
      "state": {}
     },
     "1f9db22bc9de48599c39cfac0e34058a": {
      "model_module": "@jupyter-widgets/controls",
      "model_module_version": "1.2.0",
      "model_name": "SliderStyleModel",
      "state": {
       "description_width": ""
      }
     },
     "1fad2e716f70409e858650e25736c999": {
      "model_module": "@jupyter-widgets/controls",
      "model_module_version": "1.2.0",
      "model_name": "DescriptionStyleModel",
      "state": {
       "description_width": ""
      }
     },
     "200dd839b47e41ef964f190f00578135": {
      "model_module": "@jupyter-widgets/controls",
      "model_module_version": "1.2.0",
      "model_name": "DescriptionStyleModel",
      "state": {
       "description_width": ""
      }
     },
     "20230ca4f34e468aa7a2f70651828801": {
      "model_module": "@jupyter-widgets/controls",
      "model_module_version": "1.2.0",
      "model_name": "ButtonModel",
      "state": {
       "description": "Auto",
       "layout": "IPY_MODEL_5f220bd61e4d4c46a2d8aedfa4a8dedc",
       "style": "IPY_MODEL_f9440d84ed4042e389f3ee73c6fde4d4"
      }
     },
     "203ba0904d38451fb868de08497577ce": {
      "model_module": "@jupyter-widgets/controls",
      "model_module_version": "1.2.0",
      "model_name": "DescriptionStyleModel",
      "state": {
       "description_width": ""
      }
     },
     "2043cd0deada4e3fad44e7ca841638c1": {
      "model_module": "@jupyter-widgets/controls",
      "model_module_version": "1.2.0",
      "model_name": "DescriptionStyleModel",
      "state": {
       "description_width": ""
      }
     },
     "204a0f3ab1ae479497beda405bcf1a5f": {
      "model_module": "@jupyter-widgets/controls",
      "model_module_version": "1.2.0",
      "model_name": "VBoxModel",
      "state": {
       "children": [
        "IPY_MODEL_c887111977a14213b8d43f3198bccb35",
        "IPY_MODEL_d7fa2281c10b4adf84ba27f9fc3d0be7"
       ],
       "layout": "IPY_MODEL_37ad7e9ad02244f7aaae9222cbbafdb1"
      }
     },
     "2092f80b175343eb85daaa486ff93c81": {
      "model_module": "@jupyter-widgets/controls",
      "model_module_version": "1.2.0",
      "model_name": "SelectModel",
      "state": {
       "_options_labels": [
        "data/beads/beads_000_.SPE",
        "data/beads/beads_001_.SPE",
        "data/beads/beads_002_.SPE",
        "data/beads/beads_003_.SPE",
        "data/beads/beads_004_.SPE",
        "data/beads/beads_005_.SPE",
        "data/beads/beads_006_.SPE",
        "data/beads/beads_007_.SPE",
        "data/beads/beads_008_.SPE",
        "data/beads/beads_009_.SPE"
       ],
       "index": 0,
       "layout": "IPY_MODEL_c1a95db583ea40a8bd5289f44bcfe4db",
       "style": "IPY_MODEL_30c5f2d80a094d839f584d1816185c02"
      }
     },
     "211438e48b4d4c84848bb99f9b5277a3": {
      "model_module": "@jupyter-widgets/base",
      "model_module_version": "1.0.0",
      "model_name": "LayoutModel",
      "state": {
       "width": "auto"
      }
     },
     "218f89f1b57c455fb73eaf34eae69515": {
      "model_module": "@jupyter-widgets/base",
      "model_module_version": "1.0.0",
      "model_name": "LayoutModel",
      "state": {
       "width": "75%"
      }
     },
     "21a5d117f81846c995b25fedf5e25b60": {
      "model_module": "@jupyter-widgets/controls",
      "model_module_version": "1.2.0",
      "model_name": "VBoxModel",
      "state": {
       "children": [
        "IPY_MODEL_1f18affa79ef42288f546fb5bc51d6f1",
        "IPY_MODEL_444486cd6d484fc29b8662b83e39a1c7"
       ],
       "layout": "IPY_MODEL_c4865af8e5dd49cd8f5d7afa13b14e00"
      }
     },
     "21c258a629b84bf88eb34298a9a4890f": {
      "model_module": "@jupyter-widgets/base",
      "model_module_version": "1.0.0",
      "model_name": "LayoutModel",
      "state": {}
     },
     "21e3f66ac5e84b76ade247bbee7d3a2e": {
      "model_module": "@jupyter-widgets/base",
      "model_module_version": "1.0.0",
      "model_name": "LayoutModel",
      "state": {}
     },
     "222d8f9f55e146e09e3ae7466365f535": {
      "model_module": "@jupyter-widgets/controls",
      "model_module_version": "1.2.0",
      "model_name": "LabelModel",
      "state": {
       "layout": "IPY_MODEL_684f2399c84e4a138aa7382625304dc2",
       "style": "IPY_MODEL_47f997f116f94cb7b6c09480f14e106b",
       "value": "Locating beads (file 1/10)"
      }
     },
     "224958830e62412ab889b6ed9fa99549": {
      "model_module": "@jupyter-widgets/base",
      "model_module_version": "1.0.0",
      "model_name": "LayoutModel",
      "state": {}
     },
     "224e1cf0fe094f1cb7bd8bd9e295a39e": {
      "model_module": "@jupyter-widgets/controls",
      "model_module_version": "1.2.0",
      "model_name": "IntRangeSliderModel",
      "state": {
       "_model_name": "IntRangeSliderModel",
       "_view_name": "IntRangeSliderView",
       "layout": "IPY_MODEL_79f327509cd0406eb137e2966fa39e9d",
       "max": 65535,
       "style": "IPY_MODEL_0842280875f046f9bd4875c3380bfbad",
       "value": [
        134,
        25393
       ]
      }
     },
     "22774ed79f5246f8bdae0943eeb6e6e9": {
      "model_module": "@jupyter-widgets/controls",
      "model_module_version": "1.2.0",
      "model_name": "CheckboxModel",
      "state": {
       "description": "Size range",
       "disabled": false,
       "indent": false,
       "layout": "IPY_MODEL_d2b5042a9f0444d1924bcf1fd5e7eca3",
       "style": "IPY_MODEL_94f4193040594a02ae652bd3d3e3d594",
       "value": false
      }
     },
     "22776c758f7b4a8fa05284d9d38dbddf": {
      "model_module": "@jupyter-widgets/controls",
      "model_module_version": "1.2.0",
      "model_name": "DescriptionStyleModel",
      "state": {
       "description_width": ""
      }
     },
     "227e2ab8ee8d4793ad719eccc3e015cc": {
      "model_module": "@jupyter-widgets/base",
      "model_module_version": "1.0.0",
      "model_name": "LayoutModel",
      "state": {
       "width": "auto"
      }
     },
     "22b68ddab2c2411594fbcfc31effcc46": {
      "model_module": "@jupyter-widgets/controls",
      "model_module_version": "1.2.0",
      "model_name": "DescriptionStyleModel",
      "state": {
       "description_width": ""
      }
     },
     "231428bf0d4e4a05bd025cacd9928568": {
      "model_module": "@jupyter-widgets/base",
      "model_module_version": "1.0.0",
      "model_name": "LayoutModel",
      "state": {
       "width": "auto"
      }
     },
     "231f86b690714dfe9cc5b0b688cc7436": {
      "model_module": "@jupyter-widgets/base",
      "model_module_version": "1.0.0",
      "model_name": "LayoutModel",
      "state": {
       "width": "auto"
      }
     },
     "2353ee96d43b4eeba4ba08bea7bedd62": {
      "model_module": "@jupyter-widgets/base",
      "model_module_version": "1.0.0",
      "model_name": "LayoutModel",
      "state": {}
     },
     "23584d65dabc4ac5bca52dd8242e6d0b": {
      "model_module": "@jupyter-widgets/controls",
      "model_module_version": "1.2.0",
      "model_name": "CheckboxModel",
      "state": {
       "description": "Show loc.",
       "disabled": false,
       "indent": false,
       "layout": "IPY_MODEL_7ff62e478ee3437995b243f6afd57b84",
       "style": "IPY_MODEL_655aa290448849aea0de2e014b6c32a3",
       "value": true
      }
     },
     "236ced0324ff408f86c0ce05e6e95632": {
      "model_module": "@jupyter-widgets/controls",
      "model_module_version": "1.2.0",
      "model_name": "VBoxModel",
      "state": {
       "children": [
        "IPY_MODEL_ca617da8968c4c1986bef67c8512c210",
        "IPY_MODEL_a276506d90a345b8bcb85fd8e7f7e8aa",
        "IPY_MODEL_6f6341c501034480a9a338ed54045c74",
        "IPY_MODEL_8f8a4480e7a041a49dc9356e93bc2275",
        "IPY_MODEL_72bce2cf39e4492eae53e8df455d7341",
        "IPY_MODEL_1dde5233f259499a95d6f308b4422da5"
       ],
       "layout": "IPY_MODEL_0e0fc3f0530442bba3c7061cba46620f"
      }
     },
     "2370a758df184f00999f5f3619f13293": {
      "model_module": "@jupyter-widgets/base",
      "model_module_version": "1.0.0",
      "model_name": "LayoutModel",
      "state": {}
     },
     "238977709bdf4273955dfeab92032af3": {
      "model_module": "@jupyter-widgets/controls",
      "model_module_version": "1.2.0",
      "model_name": "DescriptionStyleModel",
      "state": {
       "description_width": ""
      }
     },
     "23bbf40415384f4396f29d0185ec83d1": {
      "model_module": "@jupyter-widgets/base",
      "model_module_version": "1.0.0",
      "model_name": "LayoutModel",
      "state": {
       "width": "auto"
      }
     },
     "240bb6fc82db4d97a94b5dc41b4da29f": {
      "model_module": "@jupyter-widgets/controls",
      "model_module_version": "1.2.0",
      "model_name": "DescriptionStyleModel",
      "state": {
       "description_width": ""
      }
     },
     "24475c6043a942c497d7399ef40ae173": {
      "model_module": "@jupyter-widgets/controls",
      "model_module_version": "1.2.0",
      "model_name": "DropdownModel",
      "state": {
       "_options_labels": [
        "Identity",
        "Cg",
        "Gaussian"
       ],
       "description": "find filter",
       "index": 1,
       "layout": "IPY_MODEL_837f0a9b22bc4f38a3e697aded6b628d",
       "style": "IPY_MODEL_c37a86f18d434de481acc8f8c3e59e8c"
      }
     },
     "2467966b102f48b1b0652ad6b9514f5c": {
      "model_module": "@jupyter-widgets/base",
      "model_module_version": "1.0.0",
      "model_name": "LayoutModel",
      "state": {
       "display": "none"
      }
     },
     "2481b947f1e64a2295066506b699d3bd": {
      "model_module": "@jupyter-widgets/base",
      "model_module_version": "1.0.0",
      "model_name": "LayoutModel",
      "state": {
       "width": "auto"
      }
     },
     "24a26ed920a841b79ce1e40c95c04c75": {
      "model_module": "@jupyter-widgets/base",
      "model_module_version": "1.0.0",
      "model_name": "LayoutModel",
      "state": {
       "width": "auto"
      }
     },
     "24b12ffeda4e43ec875b10f3506e60aa": {
      "model_module": "@jupyter-widgets/controls",
      "model_module_version": "1.2.0",
      "model_name": "FloatTextModel",
      "state": {
       "description": "sigma",
       "layout": "IPY_MODEL_2467966b102f48b1b0652ad6b9514f5c",
       "step": 0.1,
       "style": "IPY_MODEL_a6d5cfc2bb1e4c3e8d2347b6facee790",
       "value": 1
      }
     },
     "24e494ac93814a6ea0390b240089ced1": {
      "model_module": "@jupyter-widgets/controls",
      "model_module_version": "1.2.0",
      "model_name": "CheckboxModel",
      "state": {
       "description": "Size range",
       "disabled": false,
       "indent": false,
       "layout": "IPY_MODEL_440ba55ee22e4093b0a711491eb05679",
       "style": "IPY_MODEL_559057d02ee8475d88b706cfc4ac2550",
       "value": false
      }
     },
     "24f230003cf34f44811eff269324db40": {
      "model_module": "@jupyter-widgets/controls",
      "model_module_version": "1.2.0",
      "model_name": "BoundedIntTextModel",
      "state": {
       "description": "frame",
       "layout": "IPY_MODEL_31fb0845074041e89dbcfc2a92d041c7",
       "max": 49,
       "style": "IPY_MODEL_3fc5493462e34f968eaa4595b4087632"
      }
     },
     "24f9aca8649f438e8f190b3fb6de6a2a": {
      "model_module": "@jupyter-widgets/controls",
      "model_module_version": "1.2.0",
      "model_name": "DescriptionStyleModel",
      "state": {
       "description_width": ""
      }
     },
     "24fff02cef674ac28553e16fb46624bc": {
      "model_module": "@jupyter-widgets/base",
      "model_module_version": "1.0.0",
      "model_name": "LayoutModel",
      "state": {
       "display": "flex",
       "flex_flow": "column wrap",
       "width": "66%"
      }
     },
     "252624c1b8bc45849aea2df3c599d2bc": {
      "model_module": "@jupyter-widgets/controls",
      "model_module_version": "1.2.0",
      "model_name": "DescriptionStyleModel",
      "state": {
       "description_width": ""
      }
     },
     "25457bbf14f747009b4f21cacf16a341": {
      "model_module": "@jupyter-widgets/controls",
      "model_module_version": "1.2.0",
      "model_name": "DescriptionStyleModel",
      "state": {
       "description_width": ""
      }
     },
     "25609cd00cca4ad98a9f3d96ba3f9412": {
      "model_module": "@jupyter-widgets/controls",
      "model_module_version": "1.2.0",
      "model_name": "IntTextModel",
      "state": {
       "description": "feat. size",
       "layout": "IPY_MODEL_bce61fa1fd5a43f4886194936763e3ed",
       "step": 1,
       "style": "IPY_MODEL_f8d1b568b660420db7d1ce62dd5e83a4",
       "value": 3
      }
     },
     "25a28600fbd84832bcec0ae2b9587f77": {
      "model_module": "@jupyter-widgets/base",
      "model_module_version": "1.0.0",
      "model_name": "LayoutModel",
      "state": {
       "height": "150px",
       "width": "100%"
      }
     },
     "25b3ace3c419458dae29cd6b98c93d8a": {
      "model_module": "@jupyter-widgets/base",
      "model_module_version": "1.0.0",
      "model_name": "LayoutModel",
      "state": {
       "width": "auto"
      }
     },
     "25c7833c2c09419385454a435a839d35": {
      "model_module": "@jupyter-widgets/controls",
      "model_module_version": "1.2.0",
      "model_name": "VBoxModel",
      "state": {
       "children": [
        "IPY_MODEL_6118948bd2ef4d3d81a851ddc10f4615",
        "IPY_MODEL_62e1db1aaa5b45a0b6720e7f406ee060",
        "IPY_MODEL_4533b1a7813e4a9cb97fc5fcbb667536"
       ],
       "layout": "IPY_MODEL_955beeb69d4544638a89c228bc8f7b5c"
      }
     },
     "263c7b3f7a5945b1a9b4b41ecb3dc41f": {
      "model_module": "@jupyter-widgets/base",
      "model_module_version": "1.0.0",
      "model_name": "LayoutModel",
      "state": {
       "width": "75%"
      }
     },
     "26b27b62cee64444ad2310759c9c6f22": {
      "model_module": "@jupyter-widgets/controls",
      "model_module_version": "1.2.0",
      "model_name": "SliderStyleModel",
      "state": {
       "description_width": ""
      }
     },
     "26b33f01a9594bf3affc727010a0a2ad": {
      "model_module": "@jupyter-widgets/base",
      "model_module_version": "1.0.0",
      "model_name": "LayoutModel",
      "state": {
       "width": "auto"
      }
     },
     "26b80179517e4b0baa9f3af84146b235": {
      "model_module": "@jupyter-widgets/base",
      "model_module_version": "1.0.0",
      "model_name": "LayoutModel",
      "state": {}
     },
     "26d2919eacc5468aa126e4cfc0d56667": {
      "model_module": "@jupyter-widgets/controls",
      "model_module_version": "1.2.0",
      "model_name": "DropdownModel",
      "state": {
       "_options_labels": [
        "2d_fixed",
        "2d",
        "3d"
       ],
       "description": "model",
       "index": 1,
       "layout": "IPY_MODEL_ac3eb350b9ab429188d86a4f3b37e9c2",
       "style": "IPY_MODEL_f5171890257d4ae9b7960af46e292557"
      }
     },
     "26f48594057b4a9bb43df30bb93f5b23": {
      "model_module": "@jupyter-widgets/base",
      "model_module_version": "1.0.0",
      "model_name": "LayoutModel",
      "state": {
       "width": "auto"
      }
     },
     "26f739099bc54aa2a30e8f2c6418e19c": {
      "model_module": "@jupyter-widgets/controls",
      "model_module_version": "1.2.0",
      "model_name": "DescriptionStyleModel",
      "state": {
       "description_width": ""
      }
     },
     "27481714e8124b0099cfed1052ffa3f3": {
      "model_module": "@jupyter-widgets/controls",
      "model_module_version": "1.2.0",
      "model_name": "LabelModel",
      "state": {
       "layout": "IPY_MODEL_763e1749ef914ea7811b6939b9341d02",
       "style": "IPY_MODEL_c4a58ea60bdf4b0caf83c160414e7aef",
       "value": "Locating beads (file 10/10)"
      }
     },
     "2750af465b3b43f9b53afe32e8b254fa": {
      "model_module": "@jupyter-widgets/base",
      "model_module_version": "1.0.0",
      "model_name": "LayoutModel",
      "state": {
       "width": "75%"
      }
     },
     "27651f52f6ff4380a078ba196083ee0e": {
      "model_module": "@jupyter-widgets/controls",
      "model_module_version": "1.2.0",
      "model_name": "FloatTextModel",
      "state": {
       "layout": "IPY_MODEL_91e79b1b840744d9b854fdd8077678e3",
       "step": 0.1,
       "style": "IPY_MODEL_240bb6fc82db4d97a94b5dc41b4da29f",
       "value": 3
      }
     },
     "27800e141b1d44a0a185d03be1413c16": {
      "model_module": "@jupyter-widgets/base",
      "model_module_version": "1.0.0",
      "model_name": "LayoutModel",
      "state": {}
     },
     "27bf2951473a4cca94241d9317e7848f": {
      "model_module": "@jupyter-widgets/controls",
      "model_module_version": "1.2.0",
      "model_name": "DescriptionStyleModel",
      "state": {
       "description_width": ""
      }
     },
     "27bf74a1371a4914b4cecefd7800c57e": {
      "model_module": "@jupyter-widgets/controls",
      "model_module_version": "1.2.0",
      "model_name": "FloatTextModel",
      "state": {
       "description": "threshold",
       "layout": "IPY_MODEL_fa85be82a78740ccbe7fe9f5698937ea",
       "step": 10,
       "style": "IPY_MODEL_91bc4b10676e4c61858563567dd750ca",
       "value": 1000
      }
     },
     "27c2f36460284101b93dd9865d56f8cd": {
      "model_module": "@jupyter-widgets/controls",
      "model_module_version": "1.2.0",
      "model_name": "VBoxModel",
      "state": {
       "children": [
        "IPY_MODEL_0fdde6d3a31a4ddb847a09ae10b05383",
        "IPY_MODEL_d277ada9698942f7a3120b5b5b0020f6",
        "IPY_MODEL_f600f248ba90466d8dd8683ec84f5648",
        "IPY_MODEL_ce558e41002f4a728f1c99b7abf8847e",
        "IPY_MODEL_5fbca88f0d204db0980fdaccd5ebc768",
        "IPY_MODEL_f6183b586f424489800494cf530d3351"
       ],
       "layout": "IPY_MODEL_c947362c1b424fc5889ba242be69b499"
      }
     },
     "27d49c4881bc4966914232937258123b": {
      "model_module": "@jupyter-widgets/controls",
      "model_module_version": "1.2.0",
      "model_name": "IntRangeSliderModel",
      "state": {
       "_model_name": "IntRangeSliderModel",
       "_view_name": "IntRangeSliderView",
       "layout": "IPY_MODEL_a5faeb5167ce47aea07efeb2e4a37cb7",
       "max": 65535,
       "style": "IPY_MODEL_ed36a418cd2a4bd0b0d8656c05df3454",
       "value": [
        125,
        629
       ]
      }
     },
     "27ead681a1ba429b92a13a857b53aa84": {
      "model_module": "@jupyter-widgets/base",
      "model_module_version": "1.0.0",
      "model_name": "LayoutModel",
      "state": {
       "display": "none"
      }
     },
     "282166fd839b46a8975d5295b184eda0": {
      "model_module": "@jupyter-widgets/controls",
      "model_module_version": "1.2.0",
      "model_name": "VBoxModel",
      "state": {
       "children": [
        "IPY_MODEL_06913487a458403db576442098aaf641",
        "IPY_MODEL_fc73dc2829344e42b3a1a5fae6bbb433",
        "IPY_MODEL_674f4e5e4142457aa0f2baa89d35f656",
        "IPY_MODEL_fec22a280af8468cb503dc8db631ab0d",
        "IPY_MODEL_b61fb761db744db38b5c72ab47e45def",
        "IPY_MODEL_a793d2ff390c4cba8bba9a04ce7027fe"
       ],
       "layout": "IPY_MODEL_24fff02cef674ac28553e16fb46624bc"
      }
     },
     "282db8f01dd440359bb199e2eec96391": {
      "model_module": "@jupyter-widgets/controls",
      "model_module_version": "1.2.0",
      "model_name": "DescriptionStyleModel",
      "state": {
       "description_width": ""
      }
     },
     "285746af59934c1f9dc7dec16ecc850a": {
      "model_module": "@jupyter-widgets/base",
      "model_module_version": "1.0.0",
      "model_name": "LayoutModel",
      "state": {}
     },
     "28c191d302554977ae914cef8a33edc7": {
      "model_module": "@jupyter-widgets/base",
      "model_module_version": "1.0.0",
      "model_name": "LayoutModel",
      "state": {
       "display": "none"
      }
     },
     "28d9606c6c444c8889a38c026e121723": {
      "model_module": "@jupyter-widgets/base",
      "model_module_version": "1.0.0",
      "model_name": "LayoutModel",
      "state": {
       "width": "75%"
      }
     },
     "28db640f6655482bb8f2b6e8ff208751": {
      "model_module": "@jupyter-widgets/base",
      "model_module_version": "1.0.0",
      "model_name": "LayoutModel",
      "state": {
       "display": "none"
      }
     },
     "28dc5f98ecd749c4aafd9e308637a0af": {
      "model_module": "@jupyter-widgets/base",
      "model_module_version": "1.0.0",
      "model_name": "LayoutModel",
      "state": {}
     },
     "291699d4a0464adaba373e687b282354": {
      "model_module": "@jupyter-widgets/controls",
      "model_module_version": "1.2.0",
      "model_name": "VBoxModel",
      "state": {
       "children": [
        "IPY_MODEL_4b79d28c9da94143bc5fc8704f601ac8",
        "IPY_MODEL_6a42f1db81a7409f8ef425c591924c0a",
        "IPY_MODEL_d21d4e68107f43489fea482a77b5202c",
        "IPY_MODEL_861cffcb15a747e59761de0c27edcde8",
        "IPY_MODEL_338cf44fdfa9462cb4f5b1bc1190980d",
        "IPY_MODEL_d07de0d18471434090f63b183d5e89f7"
       ],
       "layout": "IPY_MODEL_99f1ee486e0e4c74905797cdf8833326"
      }
     },
     "29201598bb254ab9bd8c10d07bcb944e": {
      "model_module": "@jupyter-widgets/base",
      "model_module_version": "1.0.0",
      "model_name": "LayoutModel",
      "state": {
       "width": "auto"
      }
     },
     "2935f9dd0f2347839e2a4b45779199de": {
      "model_module": "@jupyter-widgets/base",
      "model_module_version": "1.0.0",
      "model_name": "LayoutModel",
      "state": {}
     },
     "298d1fcc82444382bcd444d7d25a6a2b": {
      "model_module": "@jupyter-widgets/base",
      "model_module_version": "1.0.0",
      "model_name": "LayoutModel",
      "state": {}
     },
     "299f78c9bbf54627a5cf711b09631352": {
      "model_module": "@jupyter-widgets/controls",
      "model_module_version": "1.2.0",
      "model_name": "IntRangeSliderModel",
      "state": {
       "_model_name": "IntRangeSliderModel",
       "_view_name": "IntRangeSliderView",
       "layout": "IPY_MODEL_6ed02a6c11804f8c95e9f0e2f6da5699",
       "max": 65535,
       "style": "IPY_MODEL_46abbf8828f94c0caed5369b5f796c00",
       "value": [
        134,
        25393
       ]
      }
     },
     "29d16c61645f49d2ab9b58de4ae91ac4": {
      "model_module": "@jupyter-widgets/controls",
      "model_module_version": "1.2.0",
      "model_name": "FloatTextModel",
      "state": {
       "description": "sigma",
       "layout": "IPY_MODEL_c2a65a1077bf4b1c9b3ba8ffd3359b39",
       "step": 0.1,
       "style": "IPY_MODEL_22776c758f7b4a8fa05284d9d38dbddf",
       "value": 1
      }
     },
     "2a5e8949cf8340159bb28df661b072f1": {
      "model_module": "@jupyter-widgets/controls",
      "model_module_version": "1.2.0",
      "model_name": "SelectModel",
      "state": {
       "_options_labels": [
        "data/sensor-H57/no-cells_SAv-100k_SSS-H57-20k_000_.SPE"
       ],
       "index": 0,
       "layout": "IPY_MODEL_6d767473af654f5d9c73510ab45043e4",
       "style": "IPY_MODEL_9947c25988e0400daccfea90915c9ee2"
      }
     },
     "2a6e1b9ea69042ccb479bd8922b4c3e3": {
      "model_module": "@jupyter-widgets/controls",
      "model_module_version": "1.2.0",
      "model_name": "DescriptionStyleModel",
      "state": {
       "description_width": ""
      }
     },
     "2a7eeda57e1c429d8a77b6e15d71696f": {
      "model_module": "@jupyter-widgets/controls",
      "model_module_version": "1.2.0",
      "model_name": "ButtonModel",
      "state": {
       "description": "Auto",
       "layout": "IPY_MODEL_056306537363474c8160e61694a424b4",
       "style": "IPY_MODEL_f0a8fd71c949419c816299f44103538f"
      }
     },
     "2a7f49c3ab8141999adc08d0345fcedb": {
      "model_module": "@jupyter-widgets/controls",
      "model_module_version": "1.2.0",
      "model_name": "DescriptionStyleModel",
      "state": {
       "description_width": ""
      }
     },
     "2a854f57f160446f88868cdfeebd1b15": {
      "model_module": "@jupyter-widgets/base",
      "model_module_version": "1.0.0",
      "model_name": "LayoutModel",
      "state": {
       "width": "100%"
      }
     },
     "2ace33678a664e7f93b399359db8e7a9": {
      "model_module": "@jupyter-widgets/controls",
      "model_module_version": "1.2.0",
      "model_name": "FloatTextModel",
      "state": {
       "description": "max.",
       "layout": "IPY_MODEL_80f46a1514ff47459596d207e4185b65",
       "step": 0.1,
       "style": "IPY_MODEL_83d3e31c57f34f7d82e2583f231da2e9",
       "value": 2
      }
     },
     "2aeaabc4b9664104a7864f9d43b1d619": {
      "model_module": "@jupyter-widgets/controls",
      "model_module_version": "1.2.0",
      "model_name": "SelectModel",
      "state": {
       "_options_labels": [
        "sensor-H57/cells-01_SAv-100k_SSS-H57-20k_000_.SPE"
       ],
       "index": 0,
       "layout": "IPY_MODEL_c35106bfaa0941c6b210074ade26615e",
       "style": "IPY_MODEL_cc8cddcf0157400f815cc2a75b4a618e"
      }
     },
     "2b58c109e6ac46239d4f9d6bdda564c4": {
      "model_module": "@jupyter-widgets/base",
      "model_module_version": "1.0.0",
      "model_name": "LayoutModel",
      "state": {}
     },
     "2b5f6308bdf14b199396b2ea3b42bb13": {
      "model_module": "@jupyter-widgets/base",
      "model_module_version": "1.0.0",
      "model_name": "LayoutModel",
      "state": {}
     },
     "2b8b9302d0f9428686e139e3c91bbfec": {
      "model_module": "@jupyter-widgets/controls",
      "model_module_version": "1.2.0",
      "model_name": "VBoxModel",
      "state": {
       "children": [
        "IPY_MODEL_2092f80b175343eb85daaa486ff93c81",
        "IPY_MODEL_b3b7103e5014420a93ef7594b418fbdc"
       ],
       "layout": "IPY_MODEL_850705be2c594966a1ed5adf20120cf0"
      }
     },
     "2bad4212a2344400817848a55f43b7e2": {
      "model_module": "@jupyter-widgets/base",
      "model_module_version": "1.0.0",
      "model_name": "LayoutModel",
      "state": {}
     },
     "2bdc6286bc324446abeb806728914f9b": {
      "model_module": "@jupyter-widgets/controls",
      "model_module_version": "1.2.0",
      "model_name": "FloatTextModel",
      "state": {
       "description": "threshold",
       "layout": "IPY_MODEL_f69970cdb3da4bffa54fc4e5b5df7d1d",
       "step": 10,
       "style": "IPY_MODEL_d5b6469fb03547a0bc9f4e339c5580ce",
       "value": 80
      }
     },
     "2be1c140067242058022433e037e7d46": {
      "model_module": "@jupyter-widgets/base",
      "model_module_version": "1.0.0",
      "model_name": "LayoutModel",
      "state": {
       "display": "flex",
       "flex_flow": "column wrap",
       "width": "66%"
      }
     },
     "2c2757aa06f04e0dace96d88c285a4d5": {
      "model_module": "@jupyter-widgets/base",
      "model_module_version": "1.0.0",
      "model_name": "LayoutModel",
      "state": {}
     },
     "2cab9af1129d4fa09b95251563b39926": {
      "model_module": "@jupyter-widgets/base",
      "model_module_version": "1.0.0",
      "model_name": "LayoutModel",
      "state": {
       "width": "auto"
      }
     },
     "2cb3f4efb70e404ba44e739a4911fd9a": {
      "model_module": "@jupyter-widgets/controls",
      "model_module_version": "1.2.0",
      "model_name": "HBoxModel",
      "state": {
       "children": [
        "IPY_MODEL_b5382e8e4a334e689f87ee8406f5b5a4",
        "IPY_MODEL_5086ea7aef1f46a5808760b81c382cb7"
       ],
       "layout": "IPY_MODEL_cbcb7d4ab97141fc96f65b0380eba974"
      }
     },
     "2d00fffaf6f0433197e27cafa9c30d99": {
      "model_module": "@jupyter-widgets/controls",
      "model_module_version": "1.2.0",
      "model_name": "CheckboxModel",
      "state": {
       "description": "Min. distance",
       "disabled": false,
       "indent": false,
       "layout": "IPY_MODEL_0d28e98bb1b740e9b120e4d2ed3ef1b9",
       "style": "IPY_MODEL_eabfc79546414ba9812c47f254b8d06b",
       "value": true
      }
     },
     "2d34235e1324485a9b3095eb00fffcdd": {
      "model_module": "@jupyter-widgets/controls",
      "model_module_version": "1.2.0",
      "model_name": "HBoxModel",
      "state": {
       "children": [
        "IPY_MODEL_65772dc1e5764508bf7830b7a5a9a2b4",
        "IPY_MODEL_07ba1d809e7c4ee195754d8378541f95"
       ],
       "layout": "IPY_MODEL_bbfa607bfd6a4404b67fb4e05e5b41f0"
      }
     },
     "2d63d416c73b4a6b9ae3882a85c68391": {
      "model_module": "@jupyter-widgets/base",
      "model_module_version": "1.0.0",
      "model_name": "LayoutModel",
      "state": {}
     },
     "2da60094b46e4cf69901d81463e9475b": {
      "model_module": "@jupyter-widgets/base",
      "model_module_version": "1.0.0",
      "model_name": "LayoutModel",
      "state": {}
     },
     "2dacbaa2b3094d1a80a90e4ec97b39e8": {
      "model_module": "@jupyter-widgets/controls",
      "model_module_version": "1.2.0",
      "model_name": "DescriptionStyleModel",
      "state": {
       "description_width": ""
      }
     },
     "2db8ca2299fe4fa48602131838f721ce": {
      "model_module": "@jupyter-widgets/controls",
      "model_module_version": "1.2.0",
      "model_name": "LabelModel",
      "state": {
       "layout": "IPY_MODEL_723210085c814704904c271a2a99f89c",
       "style": "IPY_MODEL_edc2949c96304ab1b6e61e36f72849ca",
       "value": "Tracking ctrl-H57/no-cells_SAv-100k_SSS-ctrl-H57-50k_029_.SPE (213/213)"
      }
     },
     "2dcbe250205243a6a313528d00fb0663": {
      "model_module": "@jupyter-widgets/controls",
      "model_module_version": "1.2.0",
      "model_name": "DescriptionStyleModel",
      "state": {
       "description_width": ""
      }
     },
     "2dcd207dc31e43ba81fa5e18ff2c7f5e": {
      "model_module": "@jupyter-widgets/controls",
      "model_module_version": "1.2.0",
      "model_name": "CheckboxModel",
      "state": {
       "description": "Size range",
       "disabled": false,
       "indent": false,
       "layout": "IPY_MODEL_211438e48b4d4c84848bb99f9b5277a3",
       "style": "IPY_MODEL_704bb813a1324e319c9d68815e865f2d",
       "value": false
      }
     },
     "2dd721c826fe4e56abc05887e2133573": {
      "model_module": "@jupyter-widgets/base",
      "model_module_version": "1.0.0",
      "model_name": "LayoutModel",
      "state": {
       "width": "100%"
      }
     },
     "2df394f6bb7e4aada10f1ba8d918d4fb": {
      "model_module": "@jupyter-widgets/base",
      "model_module_version": "1.0.0",
      "model_name": "LayoutModel",
      "state": {
       "width": "75%"
      }
     },
     "2df5ef056f3c40e6b6d2b8e39ede9f6d": {
      "model_module": "@jupyter-widgets/controls",
      "model_module_version": "1.2.0",
      "model_name": "DescriptionStyleModel",
      "state": {
       "description_width": ""
      }
     },
     "2dfba74104b24ebe8e5d983f36979c28": {
      "model_module": "@jupyter-widgets/controls",
      "model_module_version": "1.2.0",
      "model_name": "DescriptionStyleModel",
      "state": {
       "description_width": ""
      }
     },
     "2e337cabe3184abea9ba58b6f0f7fa72": {
      "model_module": "@jupyter-widgets/controls",
      "model_module_version": "1.2.0",
      "model_name": "DescriptionStyleModel",
      "state": {
       "description_width": ""
      }
     },
     "2e5a7d571e3a46eb8df1918e46ef0e05": {
      "model_module": "@jupyter-widgets/controls",
      "model_module_version": "1.2.0",
      "model_name": "VBoxModel",
      "state": {
       "children": [
        "IPY_MODEL_5eaf8f3cdebe4e9cad9fb053d288afdf",
        "IPY_MODEL_8f419c9a97774aa7b8672e5b715e1279",
        "IPY_MODEL_f57b7edd3d40443bb5669429abade58b"
       ],
       "layout": "IPY_MODEL_74ed080bf3d343688e27a95f3cdc939f"
      }
     },
     "2e5dcae31e52441794fbc41e8ead87db": {
      "model_module": "@jupyter-widgets/base",
      "model_module_version": "1.0.0",
      "model_name": "LayoutModel",
      "state": {
       "width": "auto"
      }
     },
     "2e5fdd4a325c4074b3d9cc96928c9f53": {
      "model_module": "@jupyter-widgets/base",
      "model_module_version": "1.0.0",
      "model_name": "LayoutModel",
      "state": {}
     },
     "2e7b3e7890d948e0915983a4ef86ab85": {
      "model_module": "@jupyter-widgets/base",
      "model_module_version": "1.0.0",
      "model_name": "LayoutModel",
      "state": {}
     },
     "2e8e52ae825e4c72986f6383f0aa0290": {
      "model_module": "@jupyter-widgets/base",
      "model_module_version": "1.0.0",
      "model_name": "LayoutModel",
      "state": {}
     },
     "2ea8a59f129b405d87173f9f3230b8e6": {
      "model_module": "@jupyter-widgets/controls",
      "model_module_version": "1.2.0",
      "model_name": "DescriptionStyleModel",
      "state": {
       "description_width": ""
      }
     },
     "2edf73a67e144099aca3bd81f94bd30e": {
      "model_module": "@jupyter-widgets/base",
      "model_module_version": "1.0.0",
      "model_name": "LayoutModel",
      "state": {
       "width": "100%"
      }
     },
     "2efa69b4d750402ebc98cbc7f32d21de": {
      "model_module": "@jupyter-widgets/controls",
      "model_module_version": "1.2.0",
      "model_name": "ButtonModel",
      "state": {
       "description": "Auto",
       "layout": "IPY_MODEL_ea75b7b76fc947c1a28b1f756d684b82",
       "style": "IPY_MODEL_64858b97ea784e55991766fa5500663e"
      }
     },
     "2f12a2c7f96c446295d15e6f1634ad2e": {
      "model_module": "@jupyter-widgets/controls",
      "model_module_version": "1.2.0",
      "model_name": "DescriptionStyleModel",
      "state": {
       "description_width": ""
      }
     },
     "2f4053fa41d94007a658e0781bd57781": {
      "model_module": "@jupyter-widgets/controls",
      "model_module_version": "1.2.0",
      "model_name": "VBoxModel",
      "state": {
       "children": [
        "IPY_MODEL_bfab9ba562884a3e81d2e2b4af74b31d",
        "IPY_MODEL_6153c1e9a4ec40c1af4f614afd962372",
        "IPY_MODEL_cff2e78cddb748b29dc024bb9f23ab30"
       ],
       "layout": "IPY_MODEL_a454f90010344f9da575044b7c3b7350"
      }
     },
     "2f46ab7834e24ba5b2f8dd7da1f358d1": {
      "model_module": "@jupyter-widgets/controls",
      "model_module_version": "1.2.0",
      "model_name": "CheckboxModel",
      "state": {
       "description": "Show loc.",
       "disabled": false,
       "indent": false,
       "layout": "IPY_MODEL_a83193a683334498a1967275c84acf79",
       "style": "IPY_MODEL_cddee87aa2554225887a998832e81dc0",
       "value": true
      }
     },
     "2f74747c945244348968b676d001dc3d": {
      "model_module": "@jupyter-widgets/base",
      "model_module_version": "1.0.0",
      "model_name": "LayoutModel",
      "state": {}
     },
     "2f874938a2d94bcba003ba49e8e33c0a": {
      "model_module": "@jupyter-widgets/controls",
      "model_module_version": "1.2.0",
      "model_name": "BoundedIntTextModel",
      "state": {
       "description": "frame",
       "layout": "IPY_MODEL_e0de3359d3ad4c85a2024598e52fb1b2",
       "max": 49,
       "style": "IPY_MODEL_c230cc0668ed41d99de71598ded8c06c",
       "value": 5
      }
     },
     "2ff157d5494b47c29f5d253371c8ea80": {
      "model_module": "@jupyter-widgets/base",
      "model_module_version": "1.0.0",
      "model_name": "LayoutModel",
      "state": {
       "width": "auto"
      }
     },
     "30a0241e5c814472b05714b48f2ffe88": {
      "model_module": "@jupyter-widgets/controls",
      "model_module_version": "1.2.0",
      "model_name": "HBoxModel",
      "state": {
       "children": [
        "IPY_MODEL_b304b4607fc342b6b848e390fe8bdfd8",
        "IPY_MODEL_d3bc122c893f43a9a701e4b6f4766028"
       ],
       "layout": "IPY_MODEL_0524bbc1993d499ab516047e3e4ae8ef"
      }
     },
     "30ab117a33364db4b8b933f5dce6d78c": {
      "model_module": "@jupyter-widgets/base",
      "model_module_version": "1.0.0",
      "model_name": "LayoutModel",
      "state": {
       "width": "auto"
      }
     },
     "30c5f2d80a094d839f584d1816185c02": {
      "model_module": "@jupyter-widgets/controls",
      "model_module_version": "1.2.0",
      "model_name": "DescriptionStyleModel",
      "state": {
       "description_width": ""
      }
     },
     "3127de0b495e44bd958960c09eb00e6f": {
      "model_module": "@jupyter-widgets/base",
      "model_module_version": "1.0.0",
      "model_name": "LayoutModel",
      "state": {}
     },
     "3130d4af28a546978472cdba8dbea286": {
      "model_module": "@jupyter-widgets/controls",
      "model_module_version": "1.2.0",
      "model_name": "SelectModel",
      "state": {
       "_options_labels": [
        "data/beads/beads_000_.SPE",
        "data/beads/beads_001_.SPE",
        "data/beads/beads_002_.SPE",
        "data/beads/beads_003_.SPE",
        "data/beads/beads_004_.SPE",
        "data/beads/beads_005_.SPE",
        "data/beads/beads_006_.SPE",
        "data/beads/beads_007_.SPE",
        "data/beads/beads_008_.SPE",
        "data/beads/beads_009_.SPE"
       ],
       "index": 0,
       "layout": "IPY_MODEL_e49caeeef93048f3a2f0ba4968ab5447",
       "style": "IPY_MODEL_0cdd03ac64564b4c9f06551bd032c8e4"
      }
     },
     "314d4dde2e7143af86f5e874575a1e5e": {
      "model_module": "@jupyter-widgets/controls",
      "model_module_version": "1.2.0",
      "model_name": "VBoxModel",
      "state": {
       "children": [
        "IPY_MODEL_ba9317bcc582450e8dfd0a9089f6527a",
        "IPY_MODEL_0200b780536d46a68b76eabe0aa9c320",
        "IPY_MODEL_d1773b06b7614fe380b8490c85ae1797",
        "IPY_MODEL_df2a54fb5a494245ae210802a381041a",
        "IPY_MODEL_07751bd64e3b49d794716b8557be9e28",
        "IPY_MODEL_477607fb50a8480c92e3ba3e31698ab6"
       ],
       "layout": "IPY_MODEL_a9e6897cc4c3469b8c7059a067a847ea"
      }
     },
     "31b444c16f454933a68729399ccbbfdf": {
      "model_module": "@jupyter-widgets/controls",
      "model_module_version": "1.2.0",
      "model_name": "VBoxModel",
      "state": {
       "children": [
        "IPY_MODEL_4790f395dffc4ff392793a32a6539e60",
        "IPY_MODEL_0e53dd625aaf4141a1a499dd154d5c97",
        "IPY_MODEL_15fd5ddeea9b4b3ebf7f195fc013e804"
       ],
       "layout": "IPY_MODEL_7e859156759f45b38523fc18293aa11d"
      }
     },
     "31d34257a2ee401792e9a3e78ae01804": {
      "model_module": "@jupyter-widgets/controls",
      "model_module_version": "1.2.0",
      "model_name": "DescriptionStyleModel",
      "state": {
       "description_width": ""
      }
     },
     "31e0bc3e6a7f4c67994c1ad9260da0d1": {
      "model_module": "@jupyter-widgets/base",
      "model_module_version": "1.0.0",
      "model_name": "LayoutModel",
      "state": {
       "border": "1px solid gray"
      }
     },
     "31e4491c647e43999dd2c75c659a6a71": {
      "model_module": "@jupyter-widgets/controls",
      "model_module_version": "1.2.0",
      "model_name": "CheckboxModel",
      "state": {
       "description": "Size range",
       "disabled": false,
       "indent": false,
       "layout": "IPY_MODEL_514b5bd99b7c42adb3e56561b0c96554",
       "style": "IPY_MODEL_e8f311db4aae46339bc213801ec79649",
       "value": false
      }
     },
     "31fb0845074041e89dbcfc2a92d041c7": {
      "model_module": "@jupyter-widgets/base",
      "model_module_version": "1.0.0",
      "model_name": "LayoutModel",
      "state": {}
     },
     "328f0057f01d4d05a29128d582ab00d4": {
      "model_module": "@jupyter-widgets/controls",
      "model_module_version": "1.2.0",
      "model_name": "HBoxModel",
      "state": {
       "children": [
        "IPY_MODEL_45768ffe0934481d81d4dcbfbd39625d",
        "IPY_MODEL_01a2af9cf5104fb89fd4349bdc5dadb0",
        "IPY_MODEL_d3a10ad7dbe848a4b90517516149856c"
       ],
       "layout": "IPY_MODEL_cf6dbc4efe87490ba291bee634e48b75"
      }
     },
     "32b67c507baa46bb9b900b1e0e175126": {
      "model_module": "@jupyter-widgets/base",
      "model_module_version": "1.0.0",
      "model_name": "LayoutModel",
      "state": {
       "border": "1px solid gray"
      }
     },
     "336b38e4ea08432b992707580e7d2533": {
      "model_module": "@jupyter-widgets/controls",
      "model_module_version": "1.2.0",
      "model_name": "DropdownModel",
      "state": {
       "_options_labels": [
        "Identity",
        "Cg",
        "Gaussian"
       ],
       "description": "find filter",
       "index": 1,
       "layout": "IPY_MODEL_d4d4bf77cbaf495187273329a6e528c5",
       "style": "IPY_MODEL_f33352c769984bdb8569397b5ea79843"
      }
     },
     "338cf44fdfa9462cb4f5b1bc1190980d": {
      "model_module": "@jupyter-widgets/controls",
      "model_module_version": "1.2.0",
      "model_name": "HBoxModel",
      "state": {
       "children": [
        "IPY_MODEL_c6b5a2c35ab346b5939abbc473b6e036",
        "IPY_MODEL_eabca0ff3a3d4966ae8ae42be2d62ee4"
       ],
       "layout": "IPY_MODEL_1e9db56aac6d40d8acf83ef9d880b244"
      }
     },
     "33b505d4898344e08bee75837efdc0c8": {
      "model_module": "@jupyter-widgets/base",
      "model_module_version": "1.0.0",
      "model_name": "LayoutModel",
      "state": {
       "width": "auto"
      }
     },
     "33b6de483ca6433cb6abe21f23c9b310": {
      "model_module": "@jupyter-widgets/controls",
      "model_module_version": "1.2.0",
      "model_name": "CheckboxModel",
      "state": {
       "description": "Min. distance",
       "disabled": false,
       "indent": false,
       "layout": "IPY_MODEL_9afe321bb7c8441bac36317431dc9236",
       "style": "IPY_MODEL_377df01d6af84d56ac04a2ec3b7b200e",
       "value": false
      }
     },
     "33d2438241524a22a276e0c1f53efbd0": {
      "model_module": "@jupyter-widgets/base",
      "model_module_version": "1.0.0",
      "model_name": "LayoutModel",
      "state": {}
     },
     "33e0e4bf86b840f8a07fa69c50e39c00": {
      "model_module": "@jupyter-widgets/controls",
      "model_module_version": "1.2.0",
      "model_name": "DescriptionStyleModel",
      "state": {
       "description_width": ""
      }
     },
     "33e2ead747244865b0784cf450248b68": {
      "model_module": "@jupyter-widgets/controls",
      "model_module_version": "1.2.0",
      "model_name": "DropdownModel",
      "state": {
       "_options_labels": [
        "Identity",
        "Cg",
        "Gaussian"
       ],
       "description": "find filter",
       "index": 1,
       "layout": "IPY_MODEL_86c46d226c9342bd9799b721166690a6",
       "style": "IPY_MODEL_526e03976a084568bc186fea0e3470a9"
      }
     },
     "33fff774f93e46a2af5d1b55d8cb2994": {
      "model_module": "@jupyter-widgets/base",
      "model_module_version": "1.0.0",
      "model_name": "LayoutModel",
      "state": {
       "display": "none"
      }
     },
     "345e684d4c8944efa1f60f41e2c26c09": {
      "model_module": "@jupyter-widgets/base",
      "model_module_version": "1.0.0",
      "model_name": "LayoutModel",
      "state": {
       "width": "auto"
      }
     },
     "34934ccbd56f4acbbdc9e1b907e98de6": {
      "model_module": "@jupyter-widgets/controls",
      "model_module_version": "1.2.0",
      "model_name": "CheckboxModel",
      "state": {
       "description": "Min. distance",
       "disabled": false,
       "indent": false,
       "layout": "IPY_MODEL_29201598bb254ab9bd8c10d07bcb944e",
       "style": "IPY_MODEL_5a270a5953994efd86429a19106631ad",
       "value": false
      }
     },
     "3498c71ae10b40a4b58604efc7571bca": {
      "model_module": "@jupyter-widgets/controls",
      "model_module_version": "1.2.0",
      "model_name": "DescriptionStyleModel",
      "state": {
       "description_width": ""
      }
     },
     "349a6c60f42747edb1f90601260406eb": {
      "model_module": "@jupyter-widgets/base",
      "model_module_version": "1.0.0",
      "model_name": "LayoutModel",
      "state": {}
     },
     "34ae739732e64f14943fb575fb8acb08": {
      "model_module": "@jupyter-widgets/controls",
      "model_module_version": "1.2.0",
      "model_name": "DescriptionStyleModel",
      "state": {
       "description_width": ""
      }
     },
     "34bf8cbaf2714eb597514540f77ca60d": {
      "model_module": "@jupyter-widgets/controls",
      "model_module_version": "1.2.0",
      "model_name": "DescriptionStyleModel",
      "state": {
       "description_width": ""
      }
     },
     "3512eaffd0d549439f22523367cf10d8": {
      "model_module": "@jupyter-widgets/controls",
      "model_module_version": "1.2.0",
      "model_name": "DescriptionStyleModel",
      "state": {
       "description_width": ""
      }
     },
     "354a798a39b64454b1601798ffc3b8da": {
      "model_module": "@jupyter-widgets/base",
      "model_module_version": "1.0.0",
      "model_name": "LayoutModel",
      "state": {
       "display": "none"
      }
     },
     "3560dd9389c3463f86819f0c6634d24c": {
      "model_module": "@jupyter-widgets/controls",
      "model_module_version": "1.2.0",
      "model_name": "SliderStyleModel",
      "state": {
       "description_width": ""
      }
     },
     "358b3eb253e04bf2a0db36e0448d9957": {
      "model_module": "@jupyter-widgets/controls",
      "model_module_version": "1.2.0",
      "model_name": "DescriptionStyleModel",
      "state": {
       "description_width": ""
      }
     },
     "3593a37449154d8f82a44987fd1cabd8": {
      "model_module": "@jupyter-widgets/base",
      "model_module_version": "1.0.0",
      "model_name": "LayoutModel",
      "state": {
       "display": "none"
      }
     },
     "35a00fdfbead418f9674347962f7716a": {
      "model_module": "@jupyter-widgets/controls",
      "model_module_version": "1.2.0",
      "model_name": "DescriptionStyleModel",
      "state": {
       "description_width": ""
      }
     },
     "35affd50b11e4522a38dac9e0946d5c9": {
      "model_module": "@jupyter-widgets/base",
      "model_module_version": "1.0.0",
      "model_name": "LayoutModel",
      "state": {}
     },
     "3663842ab6404589b472521e2dad1bdc": {
      "model_module": "@jupyter-widgets/controls",
      "model_module_version": "1.2.0",
      "model_name": "IntRangeSliderModel",
      "state": {
       "_model_name": "IntRangeSliderModel",
       "_view_name": "IntRangeSliderView",
       "layout": "IPY_MODEL_28d9606c6c444c8889a38c026e121723",
       "max": 65535,
       "style": "IPY_MODEL_921181737b0045eb8e603a257dd72842",
       "value": [
        134,
        7442
       ]
      }
     },
     "36680b77f7ad4b55bfcebcb35039d055": {
      "model_module": "@jupyter-widgets/controls",
      "model_module_version": "1.2.0",
      "model_name": "DropdownModel",
      "state": {
       "_options_labels": [
        "2d_fixed",
        "2d",
        "3d"
       ],
       "description": "model",
       "index": 1,
       "layout": "IPY_MODEL_af70af434bc9431d86af759864a3265d",
       "style": "IPY_MODEL_4bf2598540974f29984f3861a5ff8e15"
      }
     },
     "3681124aa8ad436984338a2f81ea7fcb": {
      "model_module": "@jupyter-widgets/base",
      "model_module_version": "1.0.0",
      "model_name": "LayoutModel",
      "state": {
       "width": "auto"
      }
     },
     "3690a91a4735499dba9608c80843fd02": {
      "model_module": "@jupyter-widgets/controls",
      "model_module_version": "1.2.0",
      "model_name": "VBoxModel",
      "state": {
       "children": [
        "IPY_MODEL_f7998b084203443680d101c740cfe14c",
        "IPY_MODEL_3c37cf4ce0db45b294a87e2e2e66a7a7",
        "IPY_MODEL_3a27d8a7431f47d3b8bfe2a46dc1620b",
        "IPY_MODEL_52930f14c43948428e7e139e88ccdd1f",
        "IPY_MODEL_384636f90eb742369a39e87dabbacc35",
        "IPY_MODEL_aac9f45b45844ebead78d0105e3ee8bd"
       ],
       "layout": "IPY_MODEL_01c8d0a55d0d48fdb32ed0408d82c1f5"
      }
     },
     "3697558d7a714cffb229d1c70991bfbf": {
      "model_module": "@jupyter-widgets/base",
      "model_module_version": "1.0.0",
      "model_name": "LayoutModel",
      "state": {}
     },
     "36e0ecd660f249d58bdaa97b3a3c5a60": {
      "model_module": "@jupyter-widgets/controls",
      "model_module_version": "1.2.0",
      "model_name": "DescriptionStyleModel",
      "state": {
       "description_width": ""
      }
     },
     "37582f39e27b4551a390952582802e16": {
      "model_module": "@jupyter-widgets/controls",
      "model_module_version": "1.2.0",
      "model_name": "DropdownModel",
      "state": {
       "_options_labels": [
        "Identity",
        "Cg",
        "Gaussian"
       ],
       "description": "find filter",
       "index": 1,
       "layout": "IPY_MODEL_498960a071374e37891d79f5c213ef6c",
       "style": "IPY_MODEL_0d66c1f375ac41059427cca0ddc0d82a"
      }
     },
     "3761dc572846486f8ca53e123fbe0f0f": {
      "model_module": "@jupyter-widgets/controls",
      "model_module_version": "1.2.0",
      "model_name": "DescriptionStyleModel",
      "state": {
       "description_width": ""
      }
     },
     "377df01d6af84d56ac04a2ec3b7b200e": {
      "model_module": "@jupyter-widgets/controls",
      "model_module_version": "1.2.0",
      "model_name": "DescriptionStyleModel",
      "state": {
       "description_width": ""
      }
     },
     "37ad7e9ad02244f7aaae9222cbbafdb1": {
      "model_module": "@jupyter-widgets/base",
      "model_module_version": "1.0.0",
      "model_name": "LayoutModel",
      "state": {}
     },
     "37b4c7ed280b4d5aa4ccdbad7e7604f0": {
      "model_module": "@jupyter-widgets/base",
      "model_module_version": "1.0.0",
      "model_name": "LayoutModel",
      "state": {
       "border": "1px solid gray"
      }
     },
     "37b952d553f74ebfb7c2c0ecf1d4f8f1": {
      "model_module": "@jupyter-widgets/controls",
      "model_module_version": "1.2.0",
      "model_name": "LabelModel",
      "state": {
       "layout": "IPY_MODEL_fd48958d981a44ef958f0020d62a2cfa",
       "style": "IPY_MODEL_732a147ad77b4398b718fed17c20844d",
       "value": "Locating beads (file 10/10)"
      }
     },
     "37ef0d8b772140dfbf59b4763913ae43": {
      "model_module": "@jupyter-widgets/base",
      "model_module_version": "1.0.0",
      "model_name": "LayoutModel",
      "state": {}
     },
     "383915e9cac648e3a42e51a4d0858d65": {
      "model_module": "@jupyter-widgets/controls",
      "model_module_version": "1.2.0",
      "model_name": "HBoxModel",
      "state": {
       "children": [
        "IPY_MODEL_21a5d117f81846c995b25fedf5e25b60",
        "IPY_MODEL_3690a91a4735499dba9608c80843fd02"
       ],
       "layout": "IPY_MODEL_01201ffdcbff4b7d99f12629d45e4765"
      }
     },
     "384636f90eb742369a39e87dabbacc35": {
      "model_module": "@jupyter-widgets/controls",
      "model_module_version": "1.2.0",
      "model_name": "HBoxModel",
      "state": {
       "children": [
        "IPY_MODEL_9a5f9e52cc0b433c9be07791633d55fb",
        "IPY_MODEL_0cea7e65dde3457aa96dbed8b7568a9b"
       ],
       "layout": "IPY_MODEL_c5a09fe99ce7403da8ed57fba46e3dd0"
      }
     },
     "386b71b351a64a1a954377121aa10d0a": {
      "model_module": "@jupyter-widgets/base",
      "model_module_version": "1.0.0",
      "model_name": "LayoutModel",
      "state": {
       "width": "75%"
      }
     },
     "38a7fdf1a3bb4fc5ba8172b7e156b029": {
      "model_module": "@jupyter-widgets/controls",
      "model_module_version": "1.2.0",
      "model_name": "IntRangeSliderModel",
      "state": {
       "_model_name": "IntRangeSliderModel",
       "_view_name": "IntRangeSliderView",
       "layout": "IPY_MODEL_218f89f1b57c455fb73eaf34eae69515",
       "max": 65535,
       "style": "IPY_MODEL_12ac72ede8384674adc3df71072a70fe",
       "value": [
        134,
        25393
       ]
      }
     },
     "38dcb74fa34f48f4a0a41912cd4ac83d": {
      "model_module": "@jupyter-widgets/controls",
      "model_module_version": "1.2.0",
      "model_name": "DescriptionStyleModel",
      "state": {
       "description_width": ""
      }
     },
     "398608ecacd949bc8f063480366982a5": {
      "model_module": "@jupyter-widgets/base",
      "model_module_version": "1.0.0",
      "model_name": "LayoutModel",
      "state": {
       "display": "none"
      }
     },
     "3a27d8a7431f47d3b8bfe2a46dc1620b": {
      "model_module": "@jupyter-widgets/controls",
      "model_module_version": "1.2.0",
      "model_name": "FloatTextModel",
      "state": {
       "description": "threshold",
       "layout": "IPY_MODEL_de096bf297284c4ba9d71eb7a810dadd",
       "step": 10,
       "style": "IPY_MODEL_3b5373bf964240b780b4c860c041612a",
       "value": 100
      }
     },
     "3a286e7c794c499eabcb6dfa3bf4a97b": {
      "model_module": "@jupyter-widgets/controls",
      "model_module_version": "1.2.0",
      "model_name": "CheckboxModel",
      "state": {
       "description": "Min. distance",
       "disabled": false,
       "indent": false,
       "layout": "IPY_MODEL_b16e5eb0bf554c65b74a24feb96709a8",
       "style": "IPY_MODEL_c4de4d48993e40d28053ddf2b8098a13",
       "value": false
      }
     },
     "3a2d6fdf137f40619d5b0e4ea9344a73": {
      "model_module": "@jupyter-widgets/controls",
      "model_module_version": "1.2.0",
      "model_name": "VBoxModel",
      "state": {
       "children": [
        "IPY_MODEL_40543da14e8a45409dc49051853d7c25",
        "IPY_MODEL_766095983907487a87bcc331677cb94d",
        "IPY_MODEL_1a9a1416534040559ecaeeb13f1b824a"
       ],
       "layout": "IPY_MODEL_cd5c8f3412cf455d876b8525e7f7fd2d"
      }
     },
     "3a44ae3acfe44081a8ddc69eca17b29a": {
      "model_module": "@jupyter-widgets/base",
      "model_module_version": "1.0.0",
      "model_name": "LayoutModel",
      "state": {}
     },
     "3a5322cb3cb44c848a6da8e63862da57": {
      "model_module": "@jupyter-widgets/base",
      "model_module_version": "1.0.0",
      "model_name": "LayoutModel",
      "state": {
       "display": "none"
      }
     },
     "3a5e4229eb1d47538c530b654ba8511e": {
      "model_module": "@jupyter-widgets/controls",
      "model_module_version": "1.2.0",
      "model_name": "LabelModel",
      "state": {
       "layout": "IPY_MODEL_b0cd287641f84a2a9d05a74793931579",
       "style": "IPY_MODEL_5e6811fb63c74e868f450423ba6ad548",
       "value": "Locating beads (file 10/10)"
      }
     },
     "3a5f65ba7775490d93465572747b1696": {
      "model_module": "@jupyter-widgets/base",
      "model_module_version": "1.0.0",
      "model_name": "LayoutModel",
      "state": {}
     },
     "3a6678335a474892a86e82b0edae6bbf": {
      "model_module": "@jupyter-widgets/base",
      "model_module_version": "1.0.0",
      "model_name": "LayoutModel",
      "state": {
       "height": "150px",
       "width": "100%"
      }
     },
     "3a67196d27014701a62fa9a22a9167a8": {
      "model_module": "@jupyter-widgets/base",
      "model_module_version": "1.0.0",
      "model_name": "LayoutModel",
      "state": {
       "display": "none"
      }
     },
     "3b3b7dd44e824c8b806aee7c8bb1e065": {
      "model_module": "@jupyter-widgets/controls",
      "model_module_version": "1.2.0",
      "model_name": "DescriptionStyleModel",
      "state": {
       "description_width": ""
      }
     },
     "3b4a599f18eb484f89abca24821169d5": {
      "model_module": "@jupyter-widgets/controls",
      "model_module_version": "1.2.0",
      "model_name": "FloatTextModel",
      "state": {
       "layout": "IPY_MODEL_63807a890eb7470ba44feed616076dd0",
       "step": 0.1,
       "style": "IPY_MODEL_5600573c8c8b4ea596b13dcb94a9939a",
       "value": 3
      }
     },
     "3b5373bf964240b780b4c860c041612a": {
      "model_module": "@jupyter-widgets/controls",
      "model_module_version": "1.2.0",
      "model_name": "DescriptionStyleModel",
      "state": {
       "description_width": ""
      }
     },
     "3b6207d8c3734ff4a52804ea21713787": {
      "model_module": "@jupyter-widgets/base",
      "model_module_version": "1.0.0",
      "model_name": "LayoutModel",
      "state": {}
     },
     "3b63878afce54f82b604d3986ea88f88": {
      "model_module": "@jupyter-widgets/base",
      "model_module_version": "1.0.0",
      "model_name": "LayoutModel",
      "state": {}
     },
     "3b6d145814284f81a73a8766f2202449": {
      "model_module": "@jupyter-widgets/base",
      "model_module_version": "1.0.0",
      "model_name": "LayoutModel",
      "state": {
       "display": "inline"
      }
     },
     "3b7d0dbaf2214570a98eb67de0b91a6f": {
      "model_module": "@jupyter-widgets/controls",
      "model_module_version": "1.2.0",
      "model_name": "DescriptionStyleModel",
      "state": {
       "description_width": ""
      }
     },
     "3bd3ca85972f4753945635cc6a4b40e8": {
      "model_module": "@jupyter-widgets/controls",
      "model_module_version": "1.2.0",
      "model_name": "SelectModel",
      "state": {
       "_options_labels": [
        "data/beads/beads_000_.SPE",
        "data/beads/beads_001_.SPE",
        "data/beads/beads_002_.SPE",
        "data/beads/beads_003_.SPE",
        "data/beads/beads_004_.SPE",
        "data/beads/beads_005_.SPE",
        "data/beads/beads_006_.SPE",
        "data/beads/beads_007_.SPE",
        "data/beads/beads_008_.SPE",
        "data/beads/beads_009_.SPE"
       ],
       "index": 2,
       "layout": "IPY_MODEL_a7b19d4cf67e478589baafdeccf11344",
       "style": "IPY_MODEL_7f8c1ba0849c4963a3aec678f5fcbf8b"
      }
     },
     "3bdc168d46bd4052a5c6535d639525d8": {
      "model_module": "@jupyter-widgets/controls",
      "model_module_version": "1.2.0",
      "model_name": "DescriptionStyleModel",
      "state": {
       "description_width": ""
      }
     },
     "3be64c840f9c483681797b6d67d67b27": {
      "model_module": "@jupyter-widgets/base",
      "model_module_version": "1.0.0",
      "model_name": "LayoutModel",
      "state": {
       "width": "auto"
      }
     },
     "3c29b07ceaa2490b940db8fc6f9eff30": {
      "model_module": "@jupyter-widgets/base",
      "model_module_version": "1.0.0",
      "model_name": "LayoutModel",
      "state": {
       "display": "inline"
      }
     },
     "3c37cf4ce0db45b294a87e2e2e66a7a7": {
      "model_module": "@jupyter-widgets/controls",
      "model_module_version": "1.2.0",
      "model_name": "DropdownModel",
      "state": {
       "_options_labels": [
        "2d_fixed",
        "2d",
        "3d"
       ],
       "description": "model",
       "index": 1,
       "layout": "IPY_MODEL_1801f0ca4a8a48b2bb97a19367c533ea",
       "style": "IPY_MODEL_140ec12a11b9452bbfb35586d4dcede5"
      }
     },
     "3c545a405b674051b41100b62fdf4ca2": {
      "model_module": "@jupyter-widgets/base",
      "model_module_version": "1.0.0",
      "model_name": "LayoutModel",
      "state": {}
     },
     "3c575d413417433c9323336b0c3bb3ab": {
      "model_module": "@jupyter-widgets/controls",
      "model_module_version": "1.2.0",
      "model_name": "DescriptionStyleModel",
      "state": {
       "description_width": ""
      }
     },
     "3c8d1e78915a409e9085df65c4d1ffe0": {
      "model_module": "@jupyter-widgets/base",
      "model_module_version": "1.0.0",
      "model_name": "LayoutModel",
      "state": {}
     },
     "3c97b874e3e548b392390d99e542d906": {
      "model_module": "@jupyter-widgets/base",
      "model_module_version": "1.0.0",
      "model_name": "LayoutModel",
      "state": {
       "width": "auto"
      }
     },
     "3cb0d27cf4e64e7dbba3e398ee1b9917": {
      "model_module": "@jupyter-widgets/controls",
      "model_module_version": "1.2.0",
      "model_name": "FloatTextModel",
      "state": {
       "description": "min.",
       "layout": "IPY_MODEL_42fbbf29055947cab3c8da93d897353f",
       "step": 0.1,
       "style": "IPY_MODEL_92c035acd4c94c8f825860b4865061a3",
       "value": 0.5
      }
     },
     "3cda9afe6d824df9b2dbfe89e7c6ec92": {
      "model_module": "@jupyter-widgets/controls",
      "model_module_version": "1.2.0",
      "model_name": "FloatTextModel",
      "state": {
       "description": "min.",
       "layout": "IPY_MODEL_aa24ebdabe454b5c926dedbd4652a7a5",
       "step": 0.1,
       "style": "IPY_MODEL_7b584ece4361442f9e5d5ae43bdc193c",
       "value": 0.5
      }
     },
     "3d5af2746fd745cf8028df9866770533": {
      "model_module": "@jupyter-widgets/base",
      "model_module_version": "1.0.0",
      "model_name": "LayoutModel",
      "state": {}
     },
     "3dfcc337145e43b59dc9f567314f1074": {
      "model_module": "@jupyter-widgets/controls",
      "model_module_version": "1.2.0",
      "model_name": "DescriptionStyleModel",
      "state": {
       "description_width": ""
      }
     },
     "3e17ce9a39774c4182411752843e01f7": {
      "model_module": "@jupyter-widgets/controls",
      "model_module_version": "1.2.0",
      "model_name": "DescriptionStyleModel",
      "state": {
       "description_width": ""
      }
     },
     "3e4944042f0845319952b320763018d0": {
      "model_module": "@jupyter-widgets/controls",
      "model_module_version": "1.2.0",
      "model_name": "DescriptionStyleModel",
      "state": {
       "description_width": ""
      }
     },
     "3e56f2bef8274caf9fa9c8d3f07d4271": {
      "model_module": "@jupyter-widgets/base",
      "model_module_version": "1.0.0",
      "model_name": "LayoutModel",
      "state": {}
     },
     "3e6da3751f5f43d1ad96b63db51fc2d5": {
      "model_module": "@jupyter-widgets/base",
      "model_module_version": "1.0.0",
      "model_name": "LayoutModel",
      "state": {}
     },
     "3ebf2cda1286428da899bc7ac0434f28": {
      "model_module": "@jupyter-widgets/controls",
      "model_module_version": "1.2.0",
      "model_name": "LabelModel",
      "state": {
       "layout": "IPY_MODEL_88e452512c2a453dae2c9766752f5965",
       "style": "IPY_MODEL_acce2284551349c9bd0cb28aadc0ed58",
       "value": "Locating sensor-H57/cells-01_SAv-100k_SSS-H57-20k_000_.SPE (1/213)"
      }
     },
     "3f3dff0ea23d4c0da42191b6105bdbd9": {
      "model_module": "@jupyter-widgets/controls",
      "model_module_version": "1.2.0",
      "model_name": "DescriptionStyleModel",
      "state": {
       "description_width": ""
      }
     },
     "3f782f8371a24ca888d0504cc2dce459": {
      "model_module": "@jupyter-widgets/controls",
      "model_module_version": "1.2.0",
      "model_name": "IntRangeSliderModel",
      "state": {
       "_model_name": "IntRangeSliderModel",
       "_view_name": "IntRangeSliderView",
       "layout": "IPY_MODEL_aa3ff12a54e4489591f72079127925f6",
       "max": 65535,
       "style": "IPY_MODEL_ade9ee4d1be045f1af7d9360b08c544c",
       "value": [
        288,
        879
       ]
      }
     },
     "3f9418e628d24e748890f5c4dda6ace0": {
      "model_module": "@jupyter-widgets/controls",
      "model_module_version": "1.2.0",
      "model_name": "VBoxModel",
      "state": {
       "children": [
        "IPY_MODEL_7911c08f292a481c80c05b04716d2d21",
        "IPY_MODEL_6ca9d52f6bec41b2b6a3835ad9e9808a",
        "IPY_MODEL_027b45db01154a21918c8441fdd464ab"
       ],
       "layout": "IPY_MODEL_31e0bc3e6a7f4c67994c1ad9260da0d1"
      }
     },
     "3fc5493462e34f968eaa4595b4087632": {
      "model_module": "@jupyter-widgets/controls",
      "model_module_version": "1.2.0",
      "model_name": "DescriptionStyleModel",
      "state": {
       "description_width": ""
      }
     },
     "3fc7bb8133544386bfcdc2b59bb169c0": {
      "model_module": "@jupyter-widgets/controls",
      "model_module_version": "1.2.0",
      "model_name": "CheckboxModel",
      "state": {
       "description": "Size range",
       "disabled": false,
       "indent": false,
       "layout": "IPY_MODEL_fed7cd05491e48f6ab37507e51e4c53b",
       "style": "IPY_MODEL_970b112625964fd78495158398671b0e",
       "value": false
      }
     },
     "3ffb629a5fc24209b28d844fa0f143d2": {
      "model_module": "@jupyter-widgets/base",
      "model_module_version": "1.0.0",
      "model_name": "LayoutModel",
      "state": {
       "width": "auto"
      }
     },
     "404a23e84e2c419a9fb3be3b3ba78437": {
      "model_module": "@jupyter-widgets/base",
      "model_module_version": "1.0.0",
      "model_name": "LayoutModel",
      "state": {
       "display": "none"
      }
     },
     "40543da14e8a45409dc49051853d7c25": {
      "model_module": "@jupyter-widgets/controls",
      "model_module_version": "1.2.0",
      "model_name": "CheckboxModel",
      "state": {
       "description": "Size range",
       "disabled": false,
       "indent": false,
       "layout": "IPY_MODEL_c211590667d94e1ba903d9bb41556f7f",
       "style": "IPY_MODEL_742a23682d814029a435a2cd4e9c2c31",
       "value": false
      }
     },
     "407ce516982c43a1a697e896a1586e0c": {
      "model_module": "@jupyter-widgets/base",
      "model_module_version": "1.0.0",
      "model_name": "LayoutModel",
      "state": {
       "display": "none"
      }
     },
     "40da11987c9848cdbf569fd8a495553c": {
      "model_module": "@jupyter-widgets/base",
      "model_module_version": "1.0.0",
      "model_name": "LayoutModel",
      "state": {
       "width": "75%"
      }
     },
     "4100fe56dc0b474794a0e0181f531fa2": {
      "model_module": "@jupyter-widgets/base",
      "model_module_version": "1.0.0",
      "model_name": "LayoutModel",
      "state": {}
     },
     "4115c41ecd2f4ce59131fe44e539850f": {
      "model_module": "@jupyter-widgets/controls",
      "model_module_version": "1.2.0",
      "model_name": "DescriptionStyleModel",
      "state": {
       "description_width": ""
      }
     },
     "411a5b6f2fc54b669513f2747391d2b9": {
      "model_module": "@jupyter-widgets/controls",
      "model_module_version": "1.2.0",
      "model_name": "ButtonStyleModel",
      "state": {}
     },
     "413db89841384dc395069f5b8392741e": {
      "model_module": "@jupyter-widgets/controls",
      "model_module_version": "1.2.0",
      "model_name": "ButtonModel",
      "state": {
       "description": "Auto",
       "layout": "IPY_MODEL_a15fe1a85d9e4ec5b001e32cb91d0c65",
       "style": "IPY_MODEL_6d602d2bf98a4f85a66e84fef581fe4e"
      }
     },
     "41611cfe916d449eadd94ee06d3f57ae": {
      "model_module": "@jupyter-widgets/controls",
      "model_module_version": "1.2.0",
      "model_name": "DescriptionStyleModel",
      "state": {
       "description_width": ""
      }
     },
     "417b9bf113344cc0b8645f4a829750d8": {
      "model_module": "@jupyter-widgets/base",
      "model_module_version": "1.0.0",
      "model_name": "LayoutModel",
      "state": {}
     },
     "418ef43b5cf14e65bdf7ce484ec89c54": {
      "model_module": "@jupyter-widgets/controls",
      "model_module_version": "1.2.0",
      "model_name": "DescriptionStyleModel",
      "state": {
       "description_width": ""
      }
     },
     "41fa1613ebcb41d684a58cdfdc271be3": {
      "model_module": "@jupyter-widgets/controls",
      "model_module_version": "1.2.0",
      "model_name": "FloatTextModel",
      "state": {
       "description": "min.",
       "layout": "IPY_MODEL_ef95de6fd94f45e78a72b3debec04d11",
       "step": 0.1,
       "style": "IPY_MODEL_95f7c8157bf64759832ddcc4b2e44fed",
       "value": 0.5
      }
     },
     "4206f5309faa4d93908496b5d484138f": {
      "model_module": "@jupyter-widgets/base",
      "model_module_version": "1.0.0",
      "model_name": "LayoutModel",
      "state": {
       "width": "100%"
      }
     },
     "421aba4049bf4c39901e53f864c44f31": {
      "model_module": "@jupyter-widgets/base",
      "model_module_version": "1.0.0",
      "model_name": "LayoutModel",
      "state": {}
     },
     "42296a4b6f1b4f49b129bb4d23705751": {
      "model_module": "@jupyter-widgets/base",
      "model_module_version": "1.0.0",
      "model_name": "LayoutModel",
      "state": {
       "display": "none"
      }
     },
     "4235a193fe33482fab93e144a242265c": {
      "model_module": "@jupyter-widgets/controls",
      "model_module_version": "1.2.0",
      "model_name": "FloatTextModel",
      "state": {
       "description": "sigma",
       "layout": "IPY_MODEL_170d39d3ce444cba90ef4c63fbce7e89",
       "step": 0.1,
       "style": "IPY_MODEL_a8abbba0df0447ceb63ab913a797ce58",
       "value": 1
      }
     },
     "4237b9133c2b4b87a4e3f25bfce6b24a": {
      "model_module": "@jupyter-widgets/base",
      "model_module_version": "1.0.0",
      "model_name": "LayoutModel",
      "state": {}
     },
     "425c2255dfdc44a39fbc8ac9b2d7bb89": {
      "model_module": "@jupyter-widgets/controls",
      "model_module_version": "1.2.0",
      "model_name": "IntRangeSliderModel",
      "state": {
       "_model_name": "IntRangeSliderModel",
       "_view_name": "IntRangeSliderView",
       "layout": "IPY_MODEL_46c60bf5ed234171b40d85a20e05091d",
       "max": 65535,
       "style": "IPY_MODEL_cf5f51ce063a453bbe47101598458750",
       "value": [
        288,
        891
       ]
      }
     },
     "42653270d40a45689ce789a63a513e60": {
      "model_module": "@jupyter-widgets/base",
      "model_module_version": "1.0.0",
      "model_name": "LayoutModel",
      "state": {}
     },
     "428c3ec84c5e4239baf70014d127047e": {
      "model_module": "@jupyter-widgets/controls",
      "model_module_version": "1.2.0",
      "model_name": "DescriptionStyleModel",
      "state": {
       "description_width": ""
      }
     },
     "42dcfcbd1b9c451aa4d067fae2a86539": {
      "model_module": "@jupyter-widgets/controls",
      "model_module_version": "1.2.0",
      "model_name": "DescriptionStyleModel",
      "state": {
       "description_width": ""
      }
     },
     "42fbbf29055947cab3c8da93d897353f": {
      "model_module": "@jupyter-widgets/base",
      "model_module_version": "1.0.0",
      "model_name": "LayoutModel",
      "state": {
       "display": "none"
      }
     },
     "4302cddc8147486083b98f824c7ca5fa": {
      "model_module": "@jupyter-widgets/base",
      "model_module_version": "1.0.0",
      "model_name": "LayoutModel",
      "state": {}
     },
     "4351646a537848f0b89ddf17d9c3729c": {
      "model_module": "@jupyter-widgets/controls",
      "model_module_version": "1.2.0",
      "model_name": "DescriptionStyleModel",
      "state": {
       "description_width": ""
      }
     },
     "43536ff0d5a24e66973360c9f15580f4": {
      "model_module": "@jupyter-widgets/controls",
      "model_module_version": "1.2.0",
      "model_name": "DescriptionStyleModel",
      "state": {
       "description_width": ""
      }
     },
     "4365f161aa654dceb1f11c71ad69e059": {
      "model_module": "@jupyter-widgets/base",
      "model_module_version": "1.0.0",
      "model_name": "LayoutModel",
      "state": {
       "display": "none"
      }
     },
     "436b9b5f2afe4c6693f58f28df3c82d1": {
      "model_module": "@jupyter-widgets/controls",
      "model_module_version": "1.2.0",
      "model_name": "CheckboxModel",
      "state": {
       "description": "Min. distance",
       "disabled": false,
       "indent": false,
       "layout": "IPY_MODEL_03d007fe573c4c9cbc5e4ea7cb9d0326",
       "style": "IPY_MODEL_af64b99d6b9649ab87b51d9c15fe0a49",
       "value": false
      }
     },
     "43a725daeca449a48f513f4248fcbda3": {
      "model_module": "@jupyter-widgets/controls",
      "model_module_version": "1.2.0",
      "model_name": "HBoxModel",
      "state": {
       "children": [
        "IPY_MODEL_057f5b2e771b4affac01583cff8c1586",
        "IPY_MODEL_5e07b32ab6904ce988fd55d9bbce396d"
       ],
       "layout": "IPY_MODEL_577cf85bbf4c49c2a9a349dccda29721"
      }
     },
     "43d66b0944744ebda42365d083675a51": {
      "model_module": "@jupyter-widgets/controls",
      "model_module_version": "1.2.0",
      "model_name": "FloatTextModel",
      "state": {
       "layout": "IPY_MODEL_68fe90603e2a4cc4860284da46d09e25",
       "step": 0.1,
       "style": "IPY_MODEL_0621e68317c3484c843c55c54ace5a2e",
       "value": 1
      }
     },
     "440ba55ee22e4093b0a711491eb05679": {
      "model_module": "@jupyter-widgets/base",
      "model_module_version": "1.0.0",
      "model_name": "LayoutModel",
      "state": {
       "width": "auto"
      }
     },
     "444486cd6d484fc29b8662b83e39a1c7": {
      "model_module": "@jupyter-widgets/controls",
      "model_module_version": "1.2.0",
      "model_name": "BoundedIntTextModel",
      "state": {
       "description": "frame",
       "layout": "IPY_MODEL_920cafbe294c4239bb9b2febbcf8b6c2",
       "max": 49,
       "style": "IPY_MODEL_b96ba1d49c2045b4a31929bea958a44d"
      }
     },
     "4460a4b0e45149e8b62d0d75002d0361": {
      "model_module": "@jupyter-widgets/base",
      "model_module_version": "1.0.0",
      "model_name": "LayoutModel",
      "state": {
       "display": "none"
      }
     },
     "4481872b9f784e239878e3f4bd030059": {
      "model_module": "@jupyter-widgets/controls",
      "model_module_version": "1.2.0",
      "model_name": "DescriptionStyleModel",
      "state": {
       "description_width": ""
      }
     },
     "44af3bdb87e84606a1ad3a7482d31214": {
      "model_module": "@jupyter-widgets/base",
      "model_module_version": "1.0.0",
      "model_name": "LayoutModel",
      "state": {}
     },
     "44c08bc02daf42f1a0416a85a4b9969d": {
      "model_module": "@jupyter-widgets/controls",
      "model_module_version": "1.2.0",
      "model_name": "VBoxModel",
      "state": {
       "children": [
        "IPY_MODEL_2a5e8949cf8340159bb28df661b072f1",
        "IPY_MODEL_65c1cea39ab14e44bd2dd1f391ff5f93"
       ],
       "layout": "IPY_MODEL_483357af4d3a46a2b3aa2d1f7f77755f"
      }
     },
     "44d61e765f544bb2842b0a2c3bad6d82": {
      "model_module": "@jupyter-widgets/controls",
      "model_module_version": "1.2.0",
      "model_name": "LabelModel",
      "state": {
       "layout": "IPY_MODEL_a174c0b7b1b64f9ba03c41e6405c2c14",
       "style": "IPY_MODEL_e17c5727b9e04a1088b58e6a22d8b980",
       "value": "Locating beads (file 10/10)"
      }
     },
     "44edea9b95eb40efb7d60eba72138aa3": {
      "model_module": "@jupyter-widgets/base",
      "model_module_version": "1.0.0",
      "model_name": "LayoutModel",
      "state": {
       "display": "none"
      }
     },
     "4533b1a7813e4a9cb97fc5fcbb667536": {
      "model_module": "@jupyter-widgets/controls",
      "model_module_version": "1.2.0",
      "model_name": "FloatTextModel",
      "state": {
       "description": "max.",
       "layout": "IPY_MODEL_656f24bd247f4e26bbc7c8e9ccfcd091",
       "step": 0.1,
       "style": "IPY_MODEL_59afc03e4e994cbbacce159577f5a1bb",
       "value": 2
      }
     },
     "453de5d837a54a0c99ea6e4910ec4de4": {
      "model_module": "@jupyter-widgets/controls",
      "model_module_version": "1.2.0",
      "model_name": "DescriptionStyleModel",
      "state": {
       "description_width": ""
      }
     },
     "453eb9d6f82947aca55be75f9982a4ad": {
      "model_module": "@jupyter-widgets/base",
      "model_module_version": "1.0.0",
      "model_name": "LayoutModel",
      "state": {}
     },
     "454c08de3bcc4439b6a4751c4abdfe7c": {
      "model_module": "@jupyter-widgets/controls",
      "model_module_version": "1.2.0",
      "model_name": "DescriptionStyleModel",
      "state": {
       "description_width": ""
      }
     },
     "455cf6e9a00743579e54cef4efeee445": {
      "model_module": "@jupyter-widgets/controls",
      "model_module_version": "1.2.0",
      "model_name": "CheckboxModel",
      "state": {
       "description": "Min. distance",
       "disabled": false,
       "indent": false,
       "layout": "IPY_MODEL_9a22aab825cb4dfdb18cfdf79c3177b5",
       "style": "IPY_MODEL_a4eecdd6eac148078794d26ec458ae2d",
       "value": true
      }
     },
     "45768ffe0934481d81d4dcbfbd39625d": {
      "model_module": "@jupyter-widgets/controls",
      "model_module_version": "1.2.0",
      "model_name": "IntRangeSliderModel",
      "state": {
       "_model_name": "IntRangeSliderModel",
       "_view_name": "IntRangeSliderView",
       "layout": "IPY_MODEL_728268fbfb8a42a5949770b6a0cc242c",
       "max": 65535,
       "style": "IPY_MODEL_26b27b62cee64444ad2310759c9c6f22",
       "value": [
        297,
        1332
       ]
      }
     },
     "45a97c7bfdde493ab1761063e56f09de": {
      "model_module": "@jupyter-widgets/controls",
      "model_module_version": "1.2.0",
      "model_name": "ButtonStyleModel",
      "state": {}
     },
     "45ee5eca128243c499bc220cc0d4b8f8": {
      "model_module": "@jupyter-widgets/base",
      "model_module_version": "1.0.0",
      "model_name": "LayoutModel",
      "state": {
       "width": "100%"
      }
     },
     "462a79130c8645d198627256e0d82ca1": {
      "model_module": "@jupyter-widgets/base",
      "model_module_version": "1.0.0",
      "model_name": "LayoutModel",
      "state": {
       "height": "150px",
       "width": "100%"
      }
     },
     "463ded6a43294c99a7b0cb9d539d0c3a": {
      "model_module": "@jupyter-widgets/base",
      "model_module_version": "1.0.0",
      "model_name": "LayoutModel",
      "state": {
       "display": "none"
      }
     },
     "466a98b3e4164155ac3e59421f4747c4": {
      "model_module": "@jupyter-widgets/base",
      "model_module_version": "1.0.0",
      "model_name": "LayoutModel",
      "state": {
       "display": "none"
      }
     },
     "4698a6c0fe5f48868743f31af7dd1220": {
      "model_module": "@jupyter-widgets/controls",
      "model_module_version": "1.2.0",
      "model_name": "FloatTextModel",
      "state": {
       "description": "min.",
       "layout": "IPY_MODEL_fed75ad1157f438c870d9b33cafa3cb0",
       "step": 0.1,
       "style": "IPY_MODEL_8f1037d085144389a628066405742956",
       "value": 0.5
      }
     },
     "46abbf8828f94c0caed5369b5f796c00": {
      "model_module": "@jupyter-widgets/controls",
      "model_module_version": "1.2.0",
      "model_name": "SliderStyleModel",
      "state": {
       "description_width": ""
      }
     },
     "46c60bf5ed234171b40d85a20e05091d": {
      "model_module": "@jupyter-widgets/base",
      "model_module_version": "1.0.0",
      "model_name": "LayoutModel",
      "state": {
       "width": "75%"
      }
     },
     "47584766f8314f85a70a4f38066c9eff": {
      "model_module": "@jupyter-widgets/controls",
      "model_module_version": "1.2.0",
      "model_name": "DescriptionStyleModel",
      "state": {
       "description_width": ""
      }
     },
     "4759749c64d2497ca46af9130a2f7e24": {
      "model_module": "@jupyter-widgets/base",
      "model_module_version": "1.0.0",
      "model_name": "LayoutModel",
      "state": {}
     },
     "477607fb50a8480c92e3ba3e31698ab6": {
      "model_module": "@jupyter-widgets/controls",
      "model_module_version": "1.2.0",
      "model_name": "VBoxModel",
      "state": {
       "children": [
        "IPY_MODEL_3fc7bb8133544386bfcdc2b59bb169c0",
        "IPY_MODEL_3cda9afe6d824df9b2dbfe89e7c6ec92",
        "IPY_MODEL_6b4a267adab04b688e8540c81b625f5c"
       ],
       "layout": "IPY_MODEL_a0e18e07084b42d091852d2854f659b3"
      }
     },
     "477a123183b340b3bcba4ed01f9f591b": {
      "model_module": "@jupyter-widgets/base",
      "model_module_version": "1.0.0",
      "model_name": "LayoutModel",
      "state": {}
     },
     "4790f395dffc4ff392793a32a6539e60": {
      "model_module": "@jupyter-widgets/controls",
      "model_module_version": "1.2.0",
      "model_name": "CheckboxModel",
      "state": {
       "description": "Size range",
       "disabled": false,
       "indent": false,
       "layout": "IPY_MODEL_345e684d4c8944efa1f60f41e2c26c09",
       "style": "IPY_MODEL_2df5ef056f3c40e6b6d2b8e39ede9f6d",
       "value": false
      }
     },
     "479a85ec0b4c4d6dbc128c3e92899eb9": {
      "model_module": "@jupyter-widgets/base",
      "model_module_version": "1.0.0",
      "model_name": "LayoutModel",
      "state": {
       "display": "none"
      }
     },
     "479b92295e7c465fbafbc723031a2bf4": {
      "model_module": "@jupyter-widgets/base",
      "model_module_version": "1.0.0",
      "model_name": "LayoutModel",
      "state": {}
     },
     "47cd86d34ec4462893501a76ed9afd8f": {
      "model_module": "@jupyter-widgets/controls",
      "model_module_version": "1.2.0",
      "model_name": "DescriptionStyleModel",
      "state": {
       "description_width": ""
      }
     },
     "47d9ce6e1a864a1bb62a3df0054aeb85": {
      "model_module": "@jupyter-widgets/controls",
      "model_module_version": "1.2.0",
      "model_name": "ButtonStyleModel",
      "state": {}
     },
     "47f997f116f94cb7b6c09480f14e106b": {
      "model_module": "@jupyter-widgets/controls",
      "model_module_version": "1.2.0",
      "model_name": "DescriptionStyleModel",
      "state": {
       "description_width": ""
      }
     },
     "483357af4d3a46a2b3aa2d1f7f77755f": {
      "model_module": "@jupyter-widgets/base",
      "model_module_version": "1.0.0",
      "model_name": "LayoutModel",
      "state": {}
     },
     "483e9ce32bda47c488925371b0830254": {
      "model_module": "@jupyter-widgets/base",
      "model_module_version": "1.0.0",
      "model_name": "LayoutModel",
      "state": {
       "display": "none"
      }
     },
     "486ef561d5ad4ed8b6b402d8f99f85c4": {
      "model_module": "@jupyter-widgets/controls",
      "model_module_version": "1.2.0",
      "model_name": "DescriptionStyleModel",
      "state": {
       "description_width": ""
      }
     },
     "48c68a4560844d3fbb31562db6e9683e": {
      "model_module": "@jupyter-widgets/controls",
      "model_module_version": "1.2.0",
      "model_name": "DescriptionStyleModel",
      "state": {
       "description_width": ""
      }
     },
     "48fb649923464bb991a9700fa8811bb0": {
      "model_module": "@jupyter-widgets/controls",
      "model_module_version": "1.2.0",
      "model_name": "ButtonStyleModel",
      "state": {}
     },
     "48fff809a99c4795a642c5eb73a4bc80": {
      "model_module": "@jupyter-widgets/controls",
      "model_module_version": "1.2.0",
      "model_name": "DescriptionStyleModel",
      "state": {
       "description_width": ""
      }
     },
     "49119d5540824a35a119070707ae1701": {
      "model_module": "@jupyter-widgets/base",
      "model_module_version": "1.0.0",
      "model_name": "LayoutModel",
      "state": {}
     },
     "493efc4635854b789c035ec0c9b39114": {
      "model_module": "@jupyter-widgets/controls",
      "model_module_version": "1.2.0",
      "model_name": "DescriptionStyleModel",
      "state": {
       "description_width": ""
      }
     },
     "49512bb4c8814b779a50491620472709": {
      "model_module": "@jupyter-widgets/controls",
      "model_module_version": "1.2.0",
      "model_name": "DropdownModel",
      "state": {
       "_options_labels": [
        "Identity",
        "Cg",
        "Gaussian"
       ],
       "description": "find filter",
       "index": 0,
       "layout": "IPY_MODEL_3127de0b495e44bd958960c09eb00e6f",
       "style": "IPY_MODEL_7c2f1c1779d94e2e91f9166b3dd4b218"
      }
     },
     "496bcc72a596439c98d88c59f25b3d05": {
      "model_module": "@jupyter-widgets/controls",
      "model_module_version": "1.2.0",
      "model_name": "SliderStyleModel",
      "state": {
       "description_width": ""
      }
     },
     "498960a071374e37891d79f5c213ef6c": {
      "model_module": "@jupyter-widgets/base",
      "model_module_version": "1.0.0",
      "model_name": "LayoutModel",
      "state": {}
     },
     "49ab8d478e954eb9ba723305003c39a9": {
      "model_module": "@jupyter-widgets/controls",
      "model_module_version": "1.2.0",
      "model_name": "ButtonModel",
      "state": {
       "description": "Auto",
       "layout": "IPY_MODEL_8a73eacf81254b6eab54f9ad02fc146f",
       "style": "IPY_MODEL_e4a7d5985d9246e59f591bf25c398d01"
      }
     },
     "49b0252677114a718f2f1f5ce51aa65d": {
      "model_module": "@jupyter-widgets/base",
      "model_module_version": "1.0.0",
      "model_name": "LayoutModel",
      "state": {
       "border": "1px solid gray"
      }
     },
     "49b96d23871a4c919f44e812cb6471b5": {
      "model_module": "@jupyter-widgets/base",
      "model_module_version": "1.0.0",
      "model_name": "LayoutModel",
      "state": {}
     },
     "49bc3fc69ba548d29e373246ae84de05": {
      "model_module": "@jupyter-widgets/controls",
      "model_module_version": "1.2.0",
      "model_name": "BoundedIntTextModel",
      "state": {
       "description": "frame",
       "layout": "IPY_MODEL_01f7febb058f4a6ab60dfa074be2473d",
       "max": 49,
       "style": "IPY_MODEL_533466a2364245ec9c79c832089684ba"
      }
     },
     "49c8320dadf14967a9795101e0bd5512": {
      "model_module": "@jupyter-widgets/base",
      "model_module_version": "1.0.0",
      "model_name": "LayoutModel",
      "state": {}
     },
     "49f47ccf89f748e787085a389a86a031": {
      "model_module": "@jupyter-widgets/controls",
      "model_module_version": "1.2.0",
      "model_name": "CheckboxModel",
      "state": {
       "description": "Show loc.",
       "disabled": false,
       "indent": false,
       "layout": "IPY_MODEL_dcbf8a889bd04d8c9ff2ccec087765e6",
       "style": "IPY_MODEL_3dfcc337145e43b59dc9f567314f1074",
       "value": true
      }
     },
     "4a19eae047724d1c8aef7b840f80f3f5": {
      "model_module": "@jupyter-widgets/controls",
      "model_module_version": "1.2.0",
      "model_name": "VBoxModel",
      "state": {
       "children": [
        "IPY_MODEL_faf1a11f908944ffabbd7126a5e005e1",
        "IPY_MODEL_696eb39bab514c74999bc3001041492c"
       ],
       "layout": "IPY_MODEL_fffbe933fea044748d172e2a339cf65b"
      }
     },
     "4a1aaafdd5f744af8cf8e6809361d7c6": {
      "model_module": "@jupyter-widgets/base",
      "model_module_version": "1.0.0",
      "model_name": "LayoutModel",
      "state": {
       "display": "inline"
      }
     },
     "4a3df1f143e8450d88389850d2cfbe53": {
      "model_module": "@jupyter-widgets/controls",
      "model_module_version": "1.2.0",
      "model_name": "DescriptionStyleModel",
      "state": {
       "description_width": ""
      }
     },
     "4a41e935acee4148a4451a1654544e26": {
      "model_module": "@jupyter-widgets/controls",
      "model_module_version": "1.2.0",
      "model_name": "FloatTextModel",
      "state": {
       "description": "radius",
       "layout": "IPY_MODEL_129fbcfc47dd431bb83dc04e5b77badc",
       "step": 0.1,
       "style": "IPY_MODEL_cc4ae8ba518a41fc86f1d615d83338f5",
       "value": 1
      }
     },
     "4a490393faef437a9abcd614d0b88d2c": {
      "model_module": "@jupyter-widgets/controls",
      "model_module_version": "1.2.0",
      "model_name": "DescriptionStyleModel",
      "state": {
       "description_width": ""
      }
     },
     "4a51c13f3cd54ae98aa108b595a29848": {
      "model_module": "@jupyter-widgets/controls",
      "model_module_version": "1.2.0",
      "model_name": "BoundedIntTextModel",
      "state": {
       "description": "frame",
       "layout": "IPY_MODEL_2d63d416c73b4a6b9ae3882a85c68391",
       "max": 0,
       "style": "IPY_MODEL_94a04b48808646259dae3c75bf1e471a"
      }
     },
     "4a68f37c1a214fffa9dd0d7700cf194e": {
      "model_module": "@jupyter-widgets/controls",
      "model_module_version": "1.2.0",
      "model_name": "DescriptionStyleModel",
      "state": {
       "description_width": ""
      }
     },
     "4a736ac20cbe4d9496496506a52f7209": {
      "model_module": "@jupyter-widgets/controls",
      "model_module_version": "1.2.0",
      "model_name": "VBoxModel",
      "state": {
       "children": [
        "IPY_MODEL_b65b0c2916c34ab2981f5b32a3125ffd",
        "IPY_MODEL_7c0872584b414742a7b4ac503911cd25",
        "IPY_MODEL_cc6eea352d5e482d906f5aec93861cf0"
       ],
       "layout": "IPY_MODEL_8e6c34cfb4904b0a87936b4f7c942bc5"
      }
     },
     "4a7b5b806bad4a8b8f1567f9b0601f46": {
      "model_module": "@jupyter-widgets/controls",
      "model_module_version": "1.2.0",
      "model_name": "CheckboxModel",
      "state": {
       "description": "Show loc.",
       "disabled": false,
       "indent": false,
       "layout": "IPY_MODEL_1df8d90fd50d42a69167a3d390d0753d",
       "style": "IPY_MODEL_16280e129de34140ad85a284dd214b66",
       "value": true
      }
     },
     "4a933a90224440338f57b5258edc037e": {
      "model_module": "@jupyter-widgets/controls",
      "model_module_version": "1.2.0",
      "model_name": "LabelModel",
      "state": {
       "layout": "IPY_MODEL_03bd1f0914ee43919dc47922430145b1",
       "style": "IPY_MODEL_d66078a9781e4b2ca2af5639e2f167cc",
       "value": "Locating beads (file 10/10)"
      }
     },
     "4af9a176f0ca4384ae53f7545adf1ca3": {
      "model_module": "@jupyter-widgets/base",
      "model_module_version": "1.0.0",
      "model_name": "LayoutModel",
      "state": {
       "display": "none"
      }
     },
     "4b0261b9b6f648f5b2a390fda20c41f9": {
      "model_module": "@jupyter-widgets/base",
      "model_module_version": "1.0.0",
      "model_name": "LayoutModel",
      "state": {}
     },
     "4b05d2cbaf6f48419763d7aae6016b22": {
      "model_module": "@jupyter-widgets/controls",
      "model_module_version": "1.2.0",
      "model_name": "HBoxModel",
      "state": {
       "children": [
        "IPY_MODEL_6873b5d6371341c8bc06f724ef3a7d4d",
        "IPY_MODEL_291699d4a0464adaba373e687b282354"
       ],
       "layout": "IPY_MODEL_dcc09b93320e44609364bbcb9876e1ee"
      }
     },
     "4b594de80bf942c586a34574b8757370": {
      "model_module": "@jupyter-widgets/controls",
      "model_module_version": "1.2.0",
      "model_name": "IntTextModel",
      "state": {
       "description": "feat. size",
       "layout": "IPY_MODEL_967d6e4a08b54b6a8c9f79d6a8d495ab",
       "step": 1,
       "style": "IPY_MODEL_e675eb635a8d47be92f5923a24b15780",
       "value": 3
      }
     },
     "4b5b61fb0b5f42bc953c2099db1dd1ee": {
      "model_module": "@jupyter-widgets/controls",
      "model_module_version": "1.2.0",
      "model_name": "CheckboxModel",
      "state": {
       "description": "Size range",
       "disabled": false,
       "indent": false,
       "layout": "IPY_MODEL_140bc70604c44cd0b1ee487d0c9276c6",
       "style": "IPY_MODEL_809d2a13aa78447b8a8fcfa964e91b06",
       "value": false
      }
     },
     "4b79d28c9da94143bc5fc8704f601ac8": {
      "model_module": "@jupyter-widgets/controls",
      "model_module_version": "1.2.0",
      "model_name": "FloatTextModel",
      "state": {
       "description": "radius",
       "layout": "IPY_MODEL_2e5fdd4a325c4074b3d9cc96928c9f53",
       "step": 0.1,
       "style": "IPY_MODEL_c265d3f7ada04e2e84dee92b602bca76",
       "value": 1
      }
     },
     "4babe68aecce4550b50f696121e4b54e": {
      "model_module": "@jupyter-widgets/controls",
      "model_module_version": "1.2.0",
      "model_name": "DescriptionStyleModel",
      "state": {
       "description_width": ""
      }
     },
     "4bcf035025f74ee0b0e82a5b6af89d09": {
      "model_module": "@jupyter-widgets/controls",
      "model_module_version": "1.2.0",
      "model_name": "DescriptionStyleModel",
      "state": {
       "description_width": ""
      }
     },
     "4beac3c535f3486a8b97bcaede91171a": {
      "model_module": "@jupyter-widgets/controls",
      "model_module_version": "1.2.0",
      "model_name": "FloatTextModel",
      "state": {
       "description": "sigma",
       "layout": "IPY_MODEL_b88e8f7039e3448daf04fdfbbd09bfa0",
       "step": 0.1,
       "style": "IPY_MODEL_61937addd7c04717b4528d5fdf890e12",
       "value": 1
      }
     },
     "4bf2598540974f29984f3861a5ff8e15": {
      "model_module": "@jupyter-widgets/controls",
      "model_module_version": "1.2.0",
      "model_name": "DescriptionStyleModel",
      "state": {
       "description_width": ""
      }
     },
     "4c5be8f363bc45f38ed94765b9e7a6c9": {
      "model_module": "@jupyter-widgets/controls",
      "model_module_version": "1.2.0",
      "model_name": "DescriptionStyleModel",
      "state": {
       "description_width": ""
      }
     },
     "4c77f6dd91bb46839fb21e5396bb0407": {
      "model_module": "@jupyter-widgets/base",
      "model_module_version": "1.0.0",
      "model_name": "LayoutModel",
      "state": {
       "width": "100%"
      }
     },
     "4c8fb18843be4942b7703325f7ad2720": {
      "model_module": "@jupyter-widgets/controls",
      "model_module_version": "1.2.0",
      "model_name": "LabelModel",
      "state": {
       "layout": "IPY_MODEL_463ded6a43294c99a7b0cb9d539d0c3a",
       "style": "IPY_MODEL_510326c3d0344a2397aa25a642b0f004",
       "value": "Locating beads (file 10/10)"
      }
     },
     "4cb1aac3e95b4c979a1ead5774c356b6": {
      "model_module": "@jupyter-widgets/base",
      "model_module_version": "1.0.0",
      "model_name": "LayoutModel",
      "state": {}
     },
     "4d04899137f7496088e92d970eae70b2": {
      "model_module": "@jupyter-widgets/base",
      "model_module_version": "1.0.0",
      "model_name": "LayoutModel",
      "state": {}
     },
     "4d26ee6060214ff5b2a24bb3784c0591": {
      "model_module": "@jupyter-widgets/base",
      "model_module_version": "1.0.0",
      "model_name": "LayoutModel",
      "state": {}
     },
     "4d29cd8e3b554f8a9af88a5ba888ffda": {
      "model_module": "@jupyter-widgets/controls",
      "model_module_version": "1.2.0",
      "model_name": "CheckboxModel",
      "state": {
       "description": "Size range",
       "disabled": false,
       "indent": false,
       "layout": "IPY_MODEL_11b0a6c6cf96408bbd24e9bb3b9ec223",
       "style": "IPY_MODEL_c1f3b65adfd44722b49ea4a4ff69c29f",
       "value": false
      }
     },
     "4d71c157152d495d8d4b865b622bc7cd": {
      "model_module": "@jupyter-widgets/base",
      "model_module_version": "1.0.0",
      "model_name": "LayoutModel",
      "state": {
       "border": "1px solid gray"
      }
     },
     "4d8797da39e146098e2acf3e58307800": {
      "model_module": "@jupyter-widgets/controls",
      "model_module_version": "1.2.0",
      "model_name": "DropdownModel",
      "state": {
       "_options_labels": [
        "Identity",
        "Cg",
        "Gaussian"
       ],
       "description": "find filter",
       "index": 1,
       "layout": "IPY_MODEL_ec077ad547c24384a0fa385f60917c41",
       "style": "IPY_MODEL_1afc74c34b834938b692233d4251d486"
      }
     },
     "4db7d530e0c34e82a4bf095e64845645": {
      "model_module": "@jupyter-widgets/controls",
      "model_module_version": "1.2.0",
      "model_name": "IntRangeSliderModel",
      "state": {
       "_model_name": "IntRangeSliderModel",
       "_view_name": "IntRangeSliderView",
       "layout": "IPY_MODEL_bd22c8a2345642818cdb6541030c13ac",
       "max": 65535,
       "style": "IPY_MODEL_1f9db22bc9de48599c39cfac0e34058a",
       "value": [
        134,
        25393
       ]
      }
     },
     "4e02df3fdb114001b616a2528f835648": {
      "model_module": "@jupyter-widgets/controls",
      "model_module_version": "1.2.0",
      "model_name": "CheckboxModel",
      "state": {
       "description": "Show loc.",
       "disabled": false,
       "indent": false,
       "layout": "IPY_MODEL_7cf744bcc5b0409f9103c5c4577f0f0c",
       "style": "IPY_MODEL_ffe59aca5f9a4ed7a0fe1d2a7772e446",
       "value": true
      }
     },
     "4e6a001374d74b88a33cb6ba3c4b552a": {
      "model_module": "@jupyter-widgets/controls",
      "model_module_version": "1.2.0",
      "model_name": "FloatTextModel",
      "state": {
       "description": "sigma",
       "layout": "IPY_MODEL_44edea9b95eb40efb7d60eba72138aa3",
       "step": 0.1,
       "style": "IPY_MODEL_93f07b84d3e64ff991362ae79ce94c8e",
       "value": 1
      }
     },
     "4e934494c17140229dfa3d5c300bbfec": {
      "model_module": "@jupyter-widgets/base",
      "model_module_version": "1.0.0",
      "model_name": "LayoutModel",
      "state": {
       "border": "1px solid gray"
      }
     },
     "4e99d039977c47e3b8eba971c359fe29": {
      "model_module": "@jupyter-widgets/controls",
      "model_module_version": "1.2.0",
      "model_name": "FloatTextModel",
      "state": {
       "description": "threshold",
       "layout": "IPY_MODEL_14df7f8e48284943bcb56f0d4e6b4518",
       "step": 10,
       "style": "IPY_MODEL_17a4f243e43749d3a82d94ed987a986a",
       "value": 1000
      }
     },
     "4e9b38d94f214dffa4299200cd9f0d37": {
      "model_module": "@jupyter-widgets/base",
      "model_module_version": "1.0.0",
      "model_name": "LayoutModel",
      "state": {}
     },
     "4ec6270cc8024ca6bade21b9603b062e": {
      "model_module": "@jupyter-widgets/controls",
      "model_module_version": "1.2.0",
      "model_name": "IntTextModel",
      "state": {
       "description": "feat. size",
       "layout": "IPY_MODEL_ffdf4944c3944d1fb6ef5453ccdcab05",
       "step": 1,
       "style": "IPY_MODEL_8d055895f82c41d7b7c8b38876af1e7e",
       "value": 3
      }
     },
     "4ed19061fd9542a1b606cf50a950529f": {
      "model_module": "@jupyter-widgets/base",
      "model_module_version": "1.0.0",
      "model_name": "LayoutModel",
      "state": {}
     },
     "4ef3e817bb48417b978436c7857ed9e4": {
      "model_module": "@jupyter-widgets/base",
      "model_module_version": "1.0.0",
      "model_name": "LayoutModel",
      "state": {}
     },
     "4f0d8fd39d3d4d018d4b0ea18b0cefee": {
      "model_module": "@jupyter-widgets/controls",
      "model_module_version": "1.2.0",
      "model_name": "FloatTextModel",
      "state": {
       "description": "min.",
       "layout": "IPY_MODEL_483e9ce32bda47c488925371b0830254",
       "step": 0.1,
       "style": "IPY_MODEL_2f12a2c7f96c446295d15e6f1634ad2e",
       "value": 0.5
      }
     },
     "4f1c9987bc9249009342d674ff4874aa": {
      "model_module": "@jupyter-widgets/base",
      "model_module_version": "1.0.0",
      "model_name": "LayoutModel",
      "state": {
       "width": "auto"
      }
     },
     "4f59f7c7f95349aaaf46f4a293531ded": {
      "model_module": "@jupyter-widgets/base",
      "model_module_version": "1.0.0",
      "model_name": "LayoutModel",
      "state": {}
     },
     "4f60f460a5874e3e85ec8d90b8d1d860": {
      "model_module": "@jupyter-widgets/base",
      "model_module_version": "1.0.0",
      "model_name": "LayoutModel",
      "state": {
       "width": "auto"
      }
     },
     "4f70dd75e7e249e3b3e3c3c8c5e5f0c0": {
      "model_module": "@jupyter-widgets/controls",
      "model_module_version": "1.2.0",
      "model_name": "HBoxModel",
      "state": {
       "children": [
        "IPY_MODEL_f42361a75b9c48f8857e0386448ae651",
        "IPY_MODEL_03d928f519d64a2f9d4c52fa72ca46b6"
       ],
       "layout": "IPY_MODEL_96d1269aed614efa9f8cc6f05200bace"
      }
     },
     "4fd56e3ac5d54036ab16c9db9aa9eee6": {
      "model_module": "@jupyter-widgets/base",
      "model_module_version": "1.0.0",
      "model_name": "LayoutModel",
      "state": {}
     },
     "5086ea7aef1f46a5808760b81c382cb7": {
      "model_module": "@jupyter-widgets/controls",
      "model_module_version": "1.2.0",
      "model_name": "VBoxModel",
      "state": {
       "children": [
        "IPY_MODEL_d271830888304b6480c115f495085707",
        "IPY_MODEL_ec76c6f4165e4b56bbbc2ebc8027f09c",
        "IPY_MODEL_d7695ff71b5c4684913fd9e4d0fa6b6b",
        "IPY_MODEL_4a736ac20cbe4d9496496506a52f7209",
        "IPY_MODEL_036084afd6684ecb9dbf7a29de25ccbe",
        "IPY_MODEL_ff885677a118487299a4af03d4742890"
       ],
       "layout": "IPY_MODEL_b2cb2318eb49493fb159ab40adfc4cc8"
      }
     },
     "50e9cd4466bc4c1da5b227a6467de70f": {
      "model_module": "@jupyter-widgets/controls",
      "model_module_version": "1.2.0",
      "model_name": "VBoxModel",
      "state": {
       "children": [
        "IPY_MODEL_f3a8f38b4099453fb837d8a3180abfa0",
        "IPY_MODEL_7cf28348575d44999104b0a38448e86f",
        "IPY_MODEL_52e6bc593e5a4bcfb2fda60c2fb26510"
       ],
       "layout": "IPY_MODEL_63d37fe3c0aa41fb806922e478ead0db"
      }
     },
     "510326c3d0344a2397aa25a642b0f004": {
      "model_module": "@jupyter-widgets/controls",
      "model_module_version": "1.2.0",
      "model_name": "DescriptionStyleModel",
      "state": {
       "description_width": ""
      }
     },
     "510ee8b717534a4d8b82f40a272d87ab": {
      "model_module": "@jupyter-widgets/controls",
      "model_module_version": "1.2.0",
      "model_name": "DescriptionStyleModel",
      "state": {
       "description_width": ""
      }
     },
     "51367cd976a94f70a43509ca261a2281": {
      "model_module": "@jupyter-widgets/controls",
      "model_module_version": "1.2.0",
      "model_name": "DescriptionStyleModel",
      "state": {
       "description_width": ""
      }
     },
     "513cf401a49e41bda6aba28bf3b722fe": {
      "model_module": "@jupyter-widgets/base",
      "model_module_version": "1.0.0",
      "model_name": "LayoutModel",
      "state": {
       "display": "flex",
       "flex_flow": "column wrap",
       "width": "66%"
      }
     },
     "5149b052e56d4e3b8dd01dd22283eab2": {
      "model_module": "@jupyter-widgets/controls",
      "model_module_version": "1.2.0",
      "model_name": "HBoxModel",
      "state": {
       "children": [
        "IPY_MODEL_27d49c4881bc4966914232937258123b",
        "IPY_MODEL_49ab8d478e954eb9ba723305003c39a9",
        "IPY_MODEL_b5b4c64f5cef49d2848c1cc638b21707"
       ],
       "layout": "IPY_MODEL_d73bccaf5074400eb1e7f09ab7883930"
      }
     },
     "514b5bd99b7c42adb3e56561b0c96554": {
      "model_module": "@jupyter-widgets/base",
      "model_module_version": "1.0.0",
      "model_name": "LayoutModel",
      "state": {
       "width": "auto"
      }
     },
     "516609ad462b4649afa9d23010368a53": {
      "model_module": "@jupyter-widgets/base",
      "model_module_version": "1.0.0",
      "model_name": "LayoutModel",
      "state": {
       "width": "auto"
      }
     },
     "51ac44cad6864fe0b777662707fc7f96": {
      "model_module": "@jupyter-widgets/base",
      "model_module_version": "1.0.0",
      "model_name": "LayoutModel",
      "state": {}
     },
     "524a214ce2164bc7b9a12d01e86409f1": {
      "model_module": "@jupyter-widgets/controls",
      "model_module_version": "1.2.0",
      "model_name": "ButtonModel",
      "state": {
       "description": "Auto",
       "layout": "IPY_MODEL_f5eb7d24c3ea4294a036eace34910c53",
       "style": "IPY_MODEL_48fb649923464bb991a9700fa8811bb0"
      }
     },
     "526e03976a084568bc186fea0e3470a9": {
      "model_module": "@jupyter-widgets/controls",
      "model_module_version": "1.2.0",
      "model_name": "DescriptionStyleModel",
      "state": {
       "description_width": ""
      }
     },
     "52930f14c43948428e7e139e88ccdd1f": {
      "model_module": "@jupyter-widgets/controls",
      "model_module_version": "1.2.0",
      "model_name": "VBoxModel",
      "state": {
       "children": [
        "IPY_MODEL_9138d8a891bb4b6c8a15a1bfb8e4c597",
        "IPY_MODEL_e91726fd7c014a8ba3e9371ba0ef440d",
        "IPY_MODEL_16f455c95b1e4673b92e8b23c61fcd37"
       ],
       "layout": "IPY_MODEL_d9f9845a6f2145cebc5354cc6553b7f8"
      }
     },
     "5294824b870b4d97bf697a93fce654d2": {
      "model_module": "@jupyter-widgets/controls",
      "model_module_version": "1.2.0",
      "model_name": "DescriptionStyleModel",
      "state": {
       "description_width": ""
      }
     },
     "52b0b62b8f1f4cd5bce7e1cce59de77c": {
      "model_module": "@jupyter-widgets/base",
      "model_module_version": "1.0.0",
      "model_name": "LayoutModel",
      "state": {}
     },
     "52cbb0bbe4ce4ad4b59ac491f14ffb7a": {
      "model_module": "@jupyter-widgets/controls",
      "model_module_version": "1.2.0",
      "model_name": "ButtonStyleModel",
      "state": {}
     },
     "52e6bc593e5a4bcfb2fda60c2fb26510": {
      "model_module": "@jupyter-widgets/controls",
      "model_module_version": "1.2.0",
      "model_name": "FloatTextModel",
      "state": {
       "description": "sigma",
       "layout": "IPY_MODEL_7cea220079584f04863b5b3c3f490da5",
       "step": 0.1,
       "style": "IPY_MODEL_453de5d837a54a0c99ea6e4910ec4de4",
       "value": 1
      }
     },
     "52eaf20fec5d4b26b642602c7e2f087b": {
      "model_module": "@jupyter-widgets/controls",
      "model_module_version": "1.2.0",
      "model_name": "IntTextModel",
      "state": {
       "description": "feat. size",
       "layout": "IPY_MODEL_1009cd49c97e4206874e152e3db862bb",
       "step": 1,
       "style": "IPY_MODEL_710847d775194b9cb10c836ca473b834",
       "value": 3
      }
     },
     "530b6a43fc7247a7977cc8fe43e528a8": {
      "model_module": "@jupyter-widgets/controls",
      "model_module_version": "1.2.0",
      "model_name": "CheckboxModel",
      "state": {
       "description": "Show loc.",
       "disabled": false,
       "indent": false,
       "layout": "IPY_MODEL_3c8d1e78915a409e9085df65c4d1ffe0",
       "style": "IPY_MODEL_4481872b9f784e239878e3f4bd030059",
       "value": true
      }
     },
     "5333a79a55cc45c49ec238230d529949": {
      "model_module": "@jupyter-widgets/base",
      "model_module_version": "1.0.0",
      "model_name": "LayoutModel",
      "state": {
       "width": "75%"
      }
     },
     "533466a2364245ec9c79c832089684ba": {
      "model_module": "@jupyter-widgets/controls",
      "model_module_version": "1.2.0",
      "model_name": "DescriptionStyleModel",
      "state": {
       "description_width": ""
      }
     },
     "5359eed9abad42fb8064a5a645068c28": {
      "model_module": "@jupyter-widgets/base",
      "model_module_version": "1.0.0",
      "model_name": "LayoutModel",
      "state": {
       "width": "auto"
      }
     },
     "536a3707f6e5441db6b5c4cc7f1631d8": {
      "model_module": "@jupyter-widgets/controls",
      "model_module_version": "1.2.0",
      "model_name": "DescriptionStyleModel",
      "state": {
       "description_width": ""
      }
     },
     "5374c6190bc94421b907718a226cc3ce": {
      "model_module": "@jupyter-widgets/base",
      "model_module_version": "1.0.0",
      "model_name": "LayoutModel",
      "state": {}
     },
     "53a0216b84bb4febac866bd1581d3a08": {
      "model_module": "@jupyter-widgets/base",
      "model_module_version": "1.0.0",
      "model_name": "LayoutModel",
      "state": {
       "width": "100%"
      }
     },
     "542824644f4b4688ab53fe51e80cc840": {
      "model_module": "@jupyter-widgets/controls",
      "model_module_version": "1.2.0",
      "model_name": "BoundedIntTextModel",
      "state": {
       "description": "frame",
       "layout": "IPY_MODEL_75347f3d56c347b89e3487ee2446d0d0",
       "max": 0,
       "style": "IPY_MODEL_83cffd741eeb430dbf72e1f82c9e775f"
      }
     },
     "5446864af5af44aba166dcb3ea3c4d17": {
      "model_module": "@jupyter-widgets/base",
      "model_module_version": "1.0.0",
      "model_name": "LayoutModel",
      "state": {}
     },
     "5452847ecfe44d2a98b86fb4875e64b3": {
      "model_module": "@jupyter-widgets/base",
      "model_module_version": "1.0.0",
      "model_name": "LayoutModel",
      "state": {
       "width": "auto"
      }
     },
     "5474fcb3521040fd888dbb6faa2b9ab1": {
      "model_module": "@jupyter-widgets/controls",
      "model_module_version": "1.2.0",
      "model_name": "FloatTextModel",
      "state": {
       "description": "threshold",
       "layout": "IPY_MODEL_169bee8484dc48b296b3922435be1ac1",
       "step": 10,
       "style": "IPY_MODEL_186fef0ffc664a32bff80e8a388fa1b1",
       "value": 1000
      }
     },
     "54aa6aaa177f49f3a1fe6cfc0171eeb7": {
      "model_module": "@jupyter-widgets/controls",
      "model_module_version": "1.2.0",
      "model_name": "VBoxModel",
      "state": {
       "children": [
        "IPY_MODEL_1bc1bf8bdea542b7920e221d983edffb",
        "IPY_MODEL_ca1386fd89404570a65b25c094747dc8"
       ],
       "layout": "IPY_MODEL_b9cbd436c2e04d47a81f8ef4f91f7582"
      }
     },
     "54b348fecf0a43ef930b4457164466ce": {
      "model_module": "@jupyter-widgets/controls",
      "model_module_version": "1.2.0",
      "model_name": "CheckboxModel",
      "state": {
       "description": "Show loc.",
       "disabled": false,
       "indent": false,
       "layout": "IPY_MODEL_aa920e2886b64ce897d166dfe6ce7210",
       "style": "IPY_MODEL_8beeb15f06a24f429a5f619463c7534d",
       "value": true
      }
     },
     "54ee6f9886ed45c598dc7148a36a5ee5": {
      "model_module": "@jupyter-widgets/base",
      "model_module_version": "1.0.0",
      "model_name": "LayoutModel",
      "state": {
       "width": "100%"
      }
     },
     "55272d7030de4ae8b8e10c0fcde8e729": {
      "model_module": "@jupyter-widgets/controls",
      "model_module_version": "1.2.0",
      "model_name": "CheckboxModel",
      "state": {
       "description": "Show loc.",
       "disabled": false,
       "indent": false,
       "layout": "IPY_MODEL_d7abd9ce54dd4274bf1404185220f693",
       "style": "IPY_MODEL_536a3707f6e5441db6b5c4cc7f1631d8",
       "value": true
      }
     },
     "554e284fe67d4408aa5344e45e4d0274": {
      "model_module": "@jupyter-widgets/controls",
      "model_module_version": "1.2.0",
      "model_name": "FloatTextModel",
      "state": {
       "description": "threshold",
       "layout": "IPY_MODEL_2da60094b46e4cf69901d81463e9475b",
       "step": 10,
       "style": "IPY_MODEL_7b8878de628d40bd9920c97d3939afd8",
       "value": 80
      }
     },
     "556bcf6a15be407f871eccaf166f5be2": {
      "model_module": "@jupyter-widgets/base",
      "model_module_version": "1.0.0",
      "model_name": "LayoutModel",
      "state": {}
     },
     "559057d02ee8475d88b706cfc4ac2550": {
      "model_module": "@jupyter-widgets/controls",
      "model_module_version": "1.2.0",
      "model_name": "DescriptionStyleModel",
      "state": {
       "description_width": ""
      }
     },
     "55b1352ea4a34e0bb919a66a42682a4a": {
      "model_module": "@jupyter-widgets/controls",
      "model_module_version": "1.2.0",
      "model_name": "LabelModel",
      "state": {
       "layout": "IPY_MODEL_9062cf5159e6492689fe459d9cd70ec5",
       "style": "IPY_MODEL_f82a94889e664f7ebdce6f096a12c6aa",
       "value": "Tracking data/ctrl-H57/no-cells_SAv-100k_SSS-ctrl-H57-50k_029_.SPE (213/213)"
      }
     },
     "5600573c8c8b4ea596b13dcb94a9939a": {
      "model_module": "@jupyter-widgets/controls",
      "model_module_version": "1.2.0",
      "model_name": "DescriptionStyleModel",
      "state": {
       "description_width": ""
      }
     },
     "560b9ab308b242a0aae998cdc825f1f8": {
      "model_module": "@jupyter-widgets/controls",
      "model_module_version": "1.2.0",
      "model_name": "DescriptionStyleModel",
      "state": {
       "description_width": ""
      }
     },
     "56176a1911624df796d721ccf19324b6": {
      "model_module": "@jupyter-widgets/base",
      "model_module_version": "1.0.0",
      "model_name": "LayoutModel",
      "state": {
       "display": "none"
      }
     },
     "564e84c78d7a42648e50327e3be7be4e": {
      "model_module": "@jupyter-widgets/controls",
      "model_module_version": "1.2.0",
      "model_name": "CheckboxModel",
      "state": {
       "description": "Min. distance",
       "disabled": false,
       "indent": false,
       "layout": "IPY_MODEL_80d0f66ccc8043f5a05540c17b37572b",
       "style": "IPY_MODEL_1c5f0943bcc4468db7357061336a54df",
       "value": true
      }
     },
     "5663bea537e443eeaf6cc92c7c239ccd": {
      "model_module": "@jupyter-widgets/base",
      "model_module_version": "1.0.0",
      "model_name": "LayoutModel",
      "state": {
       "height": "150px",
       "width": "100%"
      }
     },
     "56942cc7612b425c87cf5ac589735428": {
      "model_module": "@jupyter-widgets/controls",
      "model_module_version": "1.2.0",
      "model_name": "DescriptionStyleModel",
      "state": {
       "description_width": ""
      }
     },
     "56a93a526453438f85be87de8c7470af": {
      "model_module": "@jupyter-widgets/base",
      "model_module_version": "1.0.0",
      "model_name": "LayoutModel",
      "state": {}
     },
     "56af3f5c73814919aff170876f698b4f": {
      "model_module": "@jupyter-widgets/controls",
      "model_module_version": "1.2.0",
      "model_name": "VBoxModel",
      "state": {
       "children": [
        "IPY_MODEL_49512bb4c8814b779a50491620472709",
        "IPY_MODEL_59ab127f919b40f5abc530f340ec050f",
        "IPY_MODEL_1725c2f4e24f43519feeb602b06bd99e"
       ],
       "layout": "IPY_MODEL_be6a59e5eb1a4e0ba562040a521833e5"
      }
     },
     "56bb1eb1da41452aa95e86ee51c1c925": {
      "model_module": "@jupyter-widgets/controls",
      "model_module_version": "1.2.0",
      "model_name": "FloatTextModel",
      "state": {
       "description": "radius",
       "layout": "IPY_MODEL_a9736066e5df4dcb9013c7a3c1688f78",
       "step": 0.1,
       "style": "IPY_MODEL_b42cb741e4384022a1c36c41bd528502",
       "value": 1
      }
     },
     "56ddf30c3b54448eaac9adb02d973201": {
      "model_module": "@jupyter-widgets/controls",
      "model_module_version": "1.2.0",
      "model_name": "VBoxModel",
      "state": {
       "children": [
        "IPY_MODEL_051997f9d6024dc8af51f2a4058dfa7b",
        "IPY_MODEL_cc7d7fe57c8743e9aa71f22aa0ab4098"
       ],
       "layout": "IPY_MODEL_d1979fb674764dc3a2d492d2045c3e47"
      }
     },
     "56f43e719b054d2db0d43b41318a43e8": {
      "model_module": "@jupyter-widgets/base",
      "model_module_version": "1.0.0",
      "model_name": "LayoutModel",
      "state": {
       "border": "1px solid gray"
      }
     },
     "571e43173c984d42b5335ced176a1fcc": {
      "model_module": "@jupyter-widgets/base",
      "model_module_version": "1.0.0",
      "model_name": "LayoutModel",
      "state": {}
     },
     "5777eed6f9d64683b752e06b8cf63243": {
      "model_module": "@jupyter-widgets/controls",
      "model_module_version": "1.2.0",
      "model_name": "DescriptionStyleModel",
      "state": {
       "description_width": ""
      }
     },
     "57792291a97947bbabf742c7d545ef62": {
      "model_module": "@jupyter-widgets/base",
      "model_module_version": "1.0.0",
      "model_name": "LayoutModel",
      "state": {
       "display": "none"
      }
     },
     "577976a5752a4a35ae5987c0d2954cac": {
      "model_module": "@jupyter-widgets/controls",
      "model_module_version": "1.2.0",
      "model_name": "SliderStyleModel",
      "state": {
       "description_width": ""
      }
     },
     "577cf85bbf4c49c2a9a349dccda29721": {
      "model_module": "@jupyter-widgets/base",
      "model_module_version": "1.0.0",
      "model_name": "LayoutModel",
      "state": {
       "height": "150px",
       "width": "100%"
      }
     },
     "57a2208435654b7e8a9ac515c7e6800d": {
      "model_module": "@jupyter-widgets/controls",
      "model_module_version": "1.2.0",
      "model_name": "DescriptionStyleModel",
      "state": {
       "description_width": ""
      }
     },
     "57b96df12752422e89e440a470aea9d3": {
      "model_module": "@jupyter-widgets/controls",
      "model_module_version": "1.2.0",
      "model_name": "FloatTextModel",
      "state": {
       "description": "sigma",
       "layout": "IPY_MODEL_466a98b3e4164155ac3e59421f4747c4",
       "step": 0.1,
       "style": "IPY_MODEL_5e416f0426bc401ea3e7f1132eccb83d",
       "value": 1
      }
     },
     "57e56208b76048eb9a4b54967a9f767e": {
      "model_module": "@jupyter-widgets/base",
      "model_module_version": "1.0.0",
      "model_name": "LayoutModel",
      "state": {
       "display": "none"
      }
     },
     "58167ea58240475299471d95d476a684": {
      "model_module": "@jupyter-widgets/base",
      "model_module_version": "1.0.0",
      "model_name": "LayoutModel",
      "state": {}
     },
     "5854236992754eb5a4eb25901ebebbf3": {
      "model_module": "@jupyter-widgets/controls",
      "model_module_version": "1.2.0",
      "model_name": "IntRangeSliderModel",
      "state": {
       "_model_name": "IntRangeSliderModel",
       "_view_name": "IntRangeSliderView",
       "layout": "IPY_MODEL_8d2ce95e587f4415ba3358ee8fc152a5",
       "max": 65535,
       "style": "IPY_MODEL_f0367f1de118469ba8b00941e610a68e",
       "value": [
        125,
        898
       ]
      }
     },
     "586359d9189148bc9b1870a5c0af9a02": {
      "model_module": "@jupyter-widgets/base",
      "model_module_version": "1.0.0",
      "model_name": "LayoutModel",
      "state": {
       "display": "flex",
       "flex_flow": "column wrap",
       "width": "66%"
      }
     },
     "58667e49450448c6ae4c9a2f36f38b12": {
      "model_module": "@jupyter-widgets/controls",
      "model_module_version": "1.2.0",
      "model_name": "FloatTextModel",
      "state": {
       "layout": "IPY_MODEL_81096482fe474b759a2fb31d9ee07c29",
       "step": 0.1,
       "style": "IPY_MODEL_b604c6fd56b54052a2ef2e4dc721225b",
       "value": 1
      }
     },
     "586ea51ad54b431dbb7953698bff4f35": {
      "model_module": "@jupyter-widgets/controls",
      "model_module_version": "1.2.0",
      "model_name": "DescriptionStyleModel",
      "state": {
       "description_width": ""
      }
     },
     "587b53fefa6e4d2091b15dd062869166": {
      "model_module": "@jupyter-widgets/controls",
      "model_module_version": "1.2.0",
      "model_name": "DescriptionStyleModel",
      "state": {
       "description_width": ""
      }
     },
     "5897926131b44660b1f6e44086382fc1": {
      "model_module": "@jupyter-widgets/controls",
      "model_module_version": "1.2.0",
      "model_name": "FloatTextModel",
      "state": {
       "description": "radius",
       "layout": "IPY_MODEL_9b53051365464343a586c20b7ee325f3",
       "step": 0.1,
       "style": "IPY_MODEL_fe15a69c03ab4054baafaa9111007f90",
       "value": 1
      }
     },
     "58c7c620e7444f18bee9b757653f2aa9": {
      "model_module": "@jupyter-widgets/base",
      "model_module_version": "1.0.0",
      "model_name": "LayoutModel",
      "state": {}
     },
     "58c8e5c780ac482ea7d83b4cb501efbb": {
      "model_module": "@jupyter-widgets/controls",
      "model_module_version": "1.2.0",
      "model_name": "DropdownModel",
      "state": {
       "_options_labels": [
        "2d_fixed",
        "2d",
        "3d"
       ],
       "description": "model",
       "index": 1,
       "layout": "IPY_MODEL_21c258a629b84bf88eb34298a9a4890f",
       "style": "IPY_MODEL_6da7d3d876064f1f9555a7a40461e31c"
      }
     },
     "59ab127f919b40f5abc530f340ec050f": {
      "model_module": "@jupyter-widgets/controls",
      "model_module_version": "1.2.0",
      "model_name": "IntTextModel",
      "state": {
       "description": "feat. size",
       "layout": "IPY_MODEL_01736be456ab4639a4e5f0f48f300839",
       "step": 1,
       "style": "IPY_MODEL_cb2aa5668d6740de9c8098fc5505dd93",
       "value": 3
      }
     },
     "59afc03e4e994cbbacce159577f5a1bb": {
      "model_module": "@jupyter-widgets/controls",
      "model_module_version": "1.2.0",
      "model_name": "DescriptionStyleModel",
      "state": {
       "description_width": ""
      }
     },
     "59e5136873f3461f9da2eb0c07a63bbe": {
      "model_module": "@jupyter-widgets/controls",
      "model_module_version": "1.2.0",
      "model_name": "HBoxModel",
      "state": {
       "children": [
        "IPY_MODEL_d00994195ff44f51a5ca3048b41a76f7",
        "IPY_MODEL_a8c5946410a84233bcdf6b08b34dc3b3"
       ],
       "layout": "IPY_MODEL_1141d8cb2a8148a48ac1b6503f8c1ee9"
      }
     },
     "59e608bd75e749d49644419ccf752c7d": {
      "model_module": "@jupyter-widgets/controls",
      "model_module_version": "1.2.0",
      "model_name": "FloatTextModel",
      "state": {
       "description": "radius",
       "layout": "IPY_MODEL_6bbd6b286ef1427686d5ee2ae6313dde",
       "step": 0.1,
       "style": "IPY_MODEL_ed6380d8ac0d4669808c453d50ba50a5",
       "value": 1
      }
     },
     "5a1aa8b1ede248a887870215d096f71d": {
      "model_module": "@jupyter-widgets/controls",
      "model_module_version": "1.2.0",
      "model_name": "DescriptionStyleModel",
      "state": {
       "description_width": ""
      }
     },
     "5a270a5953994efd86429a19106631ad": {
      "model_module": "@jupyter-widgets/controls",
      "model_module_version": "1.2.0",
      "model_name": "DescriptionStyleModel",
      "state": {
       "description_width": ""
      }
     },
     "5a47db210c184552875d03209f2ac40d": {
      "model_module": "@jupyter-widgets/base",
      "model_module_version": "1.0.0",
      "model_name": "LayoutModel",
      "state": {}
     },
     "5a5dc38c8a6a42f0a08431c0f89f295b": {
      "model_module": "@jupyter-widgets/base",
      "model_module_version": "1.0.0",
      "model_name": "LayoutModel",
      "state": {
       "width": "75%"
      }
     },
     "5aa0c9d1e5ab43acb48a9a4b2e234ec2": {
      "model_module": "@jupyter-widgets/controls",
      "model_module_version": "1.2.0",
      "model_name": "BoundedIntTextModel",
      "state": {
       "description": "frame",
       "layout": "IPY_MODEL_654856f11fc34a429035c6ef7fe126fb",
       "max": 0,
       "style": "IPY_MODEL_1484403c339c42d881d837479a6b348b"
      }
     },
     "5aa161b57ab74c31a2990499812f4952": {
      "model_module": "@jupyter-widgets/controls",
      "model_module_version": "1.2.0",
      "model_name": "ButtonModel",
      "state": {
       "description": "Auto",
       "layout": "IPY_MODEL_fe754280dfc64055b548ec78eacc41d8",
       "style": "IPY_MODEL_12e003f48a8e42dcb76762eb7dbfbd59"
      }
     },
     "5ae695377cd74172a7305615d64c90c8": {
      "model_module": "@jupyter-widgets/controls",
      "model_module_version": "1.2.0",
      "model_name": "IntTextModel",
      "state": {
       "description": "feat. size",
       "layout": "IPY_MODEL_c65c0211461f4256825de855d1499e54",
       "step": 1,
       "style": "IPY_MODEL_48fff809a99c4795a642c5eb73a4bc80",
       "value": 3
      }
     },
     "5b47e1c4bc184de1922550875cd3a9bb": {
      "model_module": "@jupyter-widgets/controls",
      "model_module_version": "1.2.0",
      "model_name": "FloatTextModel",
      "state": {
       "description": "max.",
       "layout": "IPY_MODEL_e704f90bcb3c446badc7d2eeb77c1ff3",
       "step": 0.1,
       "style": "IPY_MODEL_66d2fc5d9cee4391b118b7eb2f972320",
       "value": 2
      }
     },
     "5b48181873d4458fa8f521ea51ffcd7b": {
      "model_module": "@jupyter-widgets/controls",
      "model_module_version": "1.2.0",
      "model_name": "BoundedIntTextModel",
      "state": {
       "description": "frame",
       "layout": "IPY_MODEL_d13dca73dfab4d01a7f4ac9396aa4625",
       "max": 0,
       "style": "IPY_MODEL_b5cc62b6605a4e0da267d7b8f688c41c"
      }
     },
     "5b4a729fccd342f195d983a5748e6211": {
      "model_module": "@jupyter-widgets/controls",
      "model_module_version": "1.2.0",
      "model_name": "BoundedIntTextModel",
      "state": {
       "description": "frame",
       "layout": "IPY_MODEL_2370a758df184f00999f5f3619f13293",
       "max": 0,
       "style": "IPY_MODEL_120e3330344a49d09454f506e17883f3"
      }
     },
     "5b4c982706bd4240a5f71a5464d607e3": {
      "model_module": "@jupyter-widgets/base",
      "model_module_version": "1.0.0",
      "model_name": "LayoutModel",
      "state": {}
     },
     "5b832b17194f4626b304f362d82d3a97": {
      "model_module": "@jupyter-widgets/controls",
      "model_module_version": "1.2.0",
      "model_name": "VBoxModel",
      "state": {
       "children": [
        "IPY_MODEL_156fd5a9049b4a34bdafcf5399c6a636",
        "IPY_MODEL_005a080a10004a2c8d90773f71f9702c",
        "IPY_MODEL_635112c8db534c5aabd0e2e44f0b3490",
        "IPY_MODEL_b147a80af23a4223aacd3ed579ee9f5e",
        "IPY_MODEL_59e5136873f3461f9da2eb0c07a63bbe",
        "IPY_MODEL_7399cbebd2a24dc7baae9c10ae65dbf7"
       ],
       "layout": "IPY_MODEL_853382609a5b404d80a4feb4093d925a"
      }
     },
     "5bf451524c124eb5aaa54312ad41c19b": {
      "model_module": "@jupyter-widgets/controls",
      "model_module_version": "1.2.0",
      "model_name": "DescriptionStyleModel",
      "state": {
       "description_width": ""
      }
     },
     "5c401ea5da0d4848be95abb0540b7161": {
      "model_module": "@jupyter-widgets/controls",
      "model_module_version": "1.2.0",
      "model_name": "CheckboxModel",
      "state": {
       "description": "Size range",
       "disabled": false,
       "indent": false,
       "layout": "IPY_MODEL_15113472ac644c9dafe9aa5fd79b2ebc",
       "style": "IPY_MODEL_bc632cbfdf9d4927a3f062368302e1a6",
       "value": false
      }
     },
     "5c5eeae3fe734cfb9d5b6555b74ba08d": {
      "model_module": "@jupyter-widgets/controls",
      "model_module_version": "1.2.0",
      "model_name": "DescriptionStyleModel",
      "state": {
       "description_width": ""
      }
     },
     "5c98545516e04951b2ddb146af32d870": {
      "model_module": "@jupyter-widgets/controls",
      "model_module_version": "1.2.0",
      "model_name": "SelectModel",
      "state": {
       "_options_labels": [
        "data/sensor-H57/cells-01_SAv-100k_SSS-H57-20k_000_.SPE"
       ],
       "index": 0,
       "layout": "IPY_MODEL_30ab117a33364db4b8b933f5dce6d78c",
       "style": "IPY_MODEL_14e0f10b53a54f6981ae1f49c5ec1319"
      }
     },
     "5cd611847aa444c08a1fca2c7acaffd1": {
      "model_module": "@jupyter-widgets/base",
      "model_module_version": "1.0.0",
      "model_name": "LayoutModel",
      "state": {
       "display": "none"
      }
     },
     "5ce0ca89fff74ff98c74dfb4db051a59": {
      "model_module": "@jupyter-widgets/base",
      "model_module_version": "1.0.0",
      "model_name": "LayoutModel",
      "state": {}
     },
     "5cfae39b4ad94a99ac82ed3735cb7ac7": {
      "model_module": "@jupyter-widgets/base",
      "model_module_version": "1.0.0",
      "model_name": "LayoutModel",
      "state": {
       "display": "none"
      }
     },
     "5d0a7ef140e44964bca949a1721e3e29": {
      "model_module": "@jupyter-widgets/base",
      "model_module_version": "1.0.0",
      "model_name": "LayoutModel",
      "state": {
       "display": "inline"
      }
     },
     "5d1ee3b1cb2f409baac0f6f3c8af3d89": {
      "model_module": "@jupyter-widgets/controls",
      "model_module_version": "1.2.0",
      "model_name": "DescriptionStyleModel",
      "state": {
       "description_width": ""
      }
     },
     "5d2ac90b66f548228add6317731b95b1": {
      "model_module": "@jupyter-widgets/controls",
      "model_module_version": "1.2.0",
      "model_name": "CheckboxModel",
      "state": {
       "description": "Show loc.",
       "disabled": false,
       "indent": false,
       "layout": "IPY_MODEL_d7a264b90a064225b67d67860490ac0c",
       "style": "IPY_MODEL_ecb8bac5108d45a78922b28f3f46ed26",
       "value": true
      }
     },
     "5d7446d851ec4f579be2efa3d820e5dc": {
      "model_module": "@jupyter-widgets/controls",
      "model_module_version": "1.2.0",
      "model_name": "IntRangeSliderModel",
      "state": {
       "_model_name": "IntRangeSliderModel",
       "_view_name": "IntRangeSliderView",
       "layout": "IPY_MODEL_fa37f38bd10d46259b73c9a383fbd8ae",
       "max": 65535,
       "style": "IPY_MODEL_496bcc72a596439c98d88c59f25b3d05",
       "value": [
        125,
        898
       ]
      }
     },
     "5dd67e77080f4fe6ae891b497106b518": {
      "model_module": "@jupyter-widgets/controls",
      "model_module_version": "1.2.0",
      "model_name": "HBoxModel",
      "state": {
       "children": [
        "IPY_MODEL_67810f96dfa94f84a874740e9e8b1848",
        "IPY_MODEL_20230ca4f34e468aa7a2f70651828801",
        "IPY_MODEL_a55b747a6bb54df489ee9ab51b54ae2f"
       ],
       "layout": "IPY_MODEL_4206f5309faa4d93908496b5d484138f"
      }
     },
     "5ddf41f4e91448118e5b3331eae7ede0": {
      "model_module": "@jupyter-widgets/base",
      "model_module_version": "1.0.0",
      "model_name": "LayoutModel",
      "state": {
       "border": "1px solid gray"
      }
     },
     "5de06bb1c6624e61beb2780792cead7f": {
      "model_module": "@jupyter-widgets/controls",
      "model_module_version": "1.2.0",
      "model_name": "DescriptionStyleModel",
      "state": {
       "description_width": ""
      }
     },
     "5e012965fda74d719e889094e173e8de": {
      "model_module": "@jupyter-widgets/controls",
      "model_module_version": "1.2.0",
      "model_name": "DescriptionStyleModel",
      "state": {
       "description_width": ""
      }
     },
     "5e07b32ab6904ce988fd55d9bbce396d": {
      "model_module": "@jupyter-widgets/controls",
      "model_module_version": "1.2.0",
      "model_name": "VBoxModel",
      "state": {
       "children": [
        "IPY_MODEL_7a70e5df9e4a47af98622efa03666631",
        "IPY_MODEL_36680b77f7ad4b55bfcebcb35039d055",
        "IPY_MODEL_900defe2db1a44ca9b66c0e478878a1f",
        "IPY_MODEL_56af3f5c73814919aff170876f698b4f",
        "IPY_MODEL_a431992d061d4c7fa482f577ee2b5f45",
        "IPY_MODEL_7ffaa12f4009420cabdc409956fafe3d"
       ],
       "layout": "IPY_MODEL_e201e92cb5fa41e8af16546c7577b729"
      }
     },
     "5e1159f85fd74644919df2bb3f051ffa": {
      "model_module": "@jupyter-widgets/controls",
      "model_module_version": "1.2.0",
      "model_name": "VBoxModel",
      "state": {
       "children": [
        "IPY_MODEL_6b3cfdc9566d41578e2bc0de4e7c5282",
        "IPY_MODEL_5b48181873d4458fa8f521ea51ffcd7b"
       ],
       "layout": "IPY_MODEL_4d04899137f7496088e92d970eae70b2"
      }
     },
     "5e1620de67ef423d9dcf6ed618d2da27": {
      "model_module": "@jupyter-widgets/base",
      "model_module_version": "1.0.0",
      "model_name": "LayoutModel",
      "state": {}
     },
     "5e229349f7fe437488060da11ce4b070": {
      "model_module": "@jupyter-widgets/base",
      "model_module_version": "1.0.0",
      "model_name": "LayoutModel",
      "state": {}
     },
     "5e416f0426bc401ea3e7f1132eccb83d": {
      "model_module": "@jupyter-widgets/controls",
      "model_module_version": "1.2.0",
      "model_name": "DescriptionStyleModel",
      "state": {
       "description_width": ""
      }
     },
     "5e6811fb63c74e868f450423ba6ad548": {
      "model_module": "@jupyter-widgets/controls",
      "model_module_version": "1.2.0",
      "model_name": "DescriptionStyleModel",
      "state": {
       "description_width": ""
      }
     },
     "5e983447fe54437d9c0af3899af33f20": {
      "model_module": "@jupyter-widgets/base",
      "model_module_version": "1.0.0",
      "model_name": "LayoutModel",
      "state": {
       "width": "75%"
      }
     },
     "5eaf8f3cdebe4e9cad9fb053d288afdf": {
      "model_module": "@jupyter-widgets/controls",
      "model_module_version": "1.2.0",
      "model_name": "CheckboxModel",
      "state": {
       "description": "Size range",
       "disabled": false,
       "indent": false,
       "layout": "IPY_MODEL_fc8c47a3cbf34f2e9187fe74026c0dff",
       "style": "IPY_MODEL_a291137d07614d41942fc48dc043ba1e",
       "value": false
      }
     },
     "5eccf91694a044778a8cb26eb5a5c8a0": {
      "model_module": "@jupyter-widgets/controls",
      "model_module_version": "1.2.0",
      "model_name": "DescriptionStyleModel",
      "state": {
       "description_width": ""
      }
     },
     "5efc03be26be44678edae4db1dd0620d": {
      "model_module": "@jupyter-widgets/base",
      "model_module_version": "1.0.0",
      "model_name": "LayoutModel",
      "state": {}
     },
     "5f220bd61e4d4c46a2d8aedfa4a8dedc": {
      "model_module": "@jupyter-widgets/base",
      "model_module_version": "1.0.0",
      "model_name": "LayoutModel",
      "state": {}
     },
     "5f7efa908d984902a244918b19c19735": {
      "model_module": "@jupyter-widgets/controls",
      "model_module_version": "1.2.0",
      "model_name": "FloatTextModel",
      "state": {
       "description": "threshold",
       "layout": "IPY_MODEL_615072efde2e47e7a36e1f323b2c0b36",
       "step": 10,
       "style": "IPY_MODEL_ecd47fa07d1142bea9392cc41b33eee5",
       "value": 1000
      }
     },
     "5fbca88f0d204db0980fdaccd5ebc768": {
      "model_module": "@jupyter-widgets/controls",
      "model_module_version": "1.2.0",
      "model_name": "HBoxModel",
      "state": {
       "children": [
        "IPY_MODEL_0ab698786cec42bc8fdf23c17c963c07",
        "IPY_MODEL_ca9aad266e7c42bd917c4ba763aea4f1"
       ],
       "layout": "IPY_MODEL_3e56f2bef8274caf9fa9c8d3f07d4271"
      }
     },
     "60148b202487413ca2525ec620373960": {
      "model_module": "@jupyter-widgets/controls",
      "model_module_version": "1.2.0",
      "model_name": "DescriptionStyleModel",
      "state": {
       "description_width": ""
      }
     },
     "603f6d221e8049b5a98f4145480c1bab": {
      "model_module": "@jupyter-widgets/controls",
      "model_module_version": "1.2.0",
      "model_name": "DescriptionStyleModel",
      "state": {
       "description_width": ""
      }
     },
     "60493ddd1b4c4697b62100c27014597a": {
      "model_module": "@jupyter-widgets/base",
      "model_module_version": "1.0.0",
      "model_name": "LayoutModel",
      "state": {
       "width": "100%"
      }
     },
     "606dec8399984774b7cef87a7e644ae8": {
      "model_module": "@jupyter-widgets/controls",
      "model_module_version": "1.2.0",
      "model_name": "DescriptionStyleModel",
      "state": {
       "description_width": ""
      }
     },
     "608b02c44b7e4a9890c050da62633fff": {
      "model_module": "@jupyter-widgets/controls",
      "model_module_version": "1.2.0",
      "model_name": "VBoxModel",
      "state": {
       "children": [
        "IPY_MODEL_8d103f0587d54766bf25ae1c7cfdd53d",
        "IPY_MODEL_a2a42213226e42ce8bcd22c543fd9505",
        "IPY_MODEL_a3d10057cfce4fd59e9e4ac70cd279fa",
        "IPY_MODEL_e1417e10882d453988e80d2eca921cce",
        "IPY_MODEL_ebfdd479dffd499392a03cd744a5e4a0",
        "IPY_MODEL_baf972ed6604436caea88a93149e1b79"
       ],
       "layout": "IPY_MODEL_513cf401a49e41bda6aba28bf3b722fe"
      }
     },
     "60a9c1ea4c26432ea0ae7fdd3a5c2026": {
      "model_module": "@jupyter-widgets/controls",
      "model_module_version": "1.2.0",
      "model_name": "DescriptionStyleModel",
      "state": {
       "description_width": ""
      }
     },
     "60ec7cfe558846189357291a45dc9a81": {
      "model_module": "@jupyter-widgets/base",
      "model_module_version": "1.0.0",
      "model_name": "LayoutModel",
      "state": {}
     },
     "6118948bd2ef4d3d81a851ddc10f4615": {
      "model_module": "@jupyter-widgets/controls",
      "model_module_version": "1.2.0",
      "model_name": "CheckboxModel",
      "state": {
       "description": "Size range",
       "disabled": false,
       "indent": false,
       "layout": "IPY_MODEL_ae7455f6b3494419b28dabed380516af",
       "style": "IPY_MODEL_6dd636fd34f847cbb0fc7d665ae127c4",
       "value": false
      }
     },
     "6142708a9df34496bbbfc0c50075234e": {
      "model_module": "@jupyter-widgets/base",
      "model_module_version": "1.0.0",
      "model_name": "LayoutModel",
      "state": {}
     },
     "615072efde2e47e7a36e1f323b2c0b36": {
      "model_module": "@jupyter-widgets/base",
      "model_module_version": "1.0.0",
      "model_name": "LayoutModel",
      "state": {}
     },
     "6153c1e9a4ec40c1af4f614afd962372": {
      "model_module": "@jupyter-widgets/controls",
      "model_module_version": "1.2.0",
      "model_name": "IntTextModel",
      "state": {
       "description": "feat. size",
       "layout": "IPY_MODEL_a0ca00acc0784f1b80786a8d0fc73831",
       "step": 1,
       "style": "IPY_MODEL_606dec8399984774b7cef87a7e644ae8",
       "value": 3
      }
     },
     "616fe254969d434dbd95651698e7050e": {
      "model_module": "@jupyter-widgets/base",
      "model_module_version": "1.0.0",
      "model_name": "LayoutModel",
      "state": {
       "width": "auto"
      }
     },
     "61736542fb91429ebfc4285de4794f3c": {
      "model_module": "@jupyter-widgets/controls",
      "model_module_version": "1.2.0",
      "model_name": "VBoxModel",
      "state": {
       "children": [
        "IPY_MODEL_59e608bd75e749d49644419ccf752c7d",
        "IPY_MODEL_86ad48dec51741938a64d3053101ebe2",
        "IPY_MODEL_adfdf5b3e7044e60872eefbde244317a",
        "IPY_MODEL_2f4053fa41d94007a658e0781bd57781",
        "IPY_MODEL_8ae8a78a822742a5a1ac26766d7d0bf2",
        "IPY_MODEL_ca214501be3b4fe7a84ae6b2a809f7d3"
       ],
       "layout": "IPY_MODEL_e73df47e85a94b77813998ab4e5b26ee"
      }
     },
     "61937addd7c04717b4528d5fdf890e12": {
      "model_module": "@jupyter-widgets/controls",
      "model_module_version": "1.2.0",
      "model_name": "DescriptionStyleModel",
      "state": {
       "description_width": ""
      }
     },
     "6213c69a7df04ee28daba2e0e74e2b76": {
      "model_module": "@jupyter-widgets/controls",
      "model_module_version": "1.2.0",
      "model_name": "ButtonModel",
      "state": {
       "description": "Auto",
       "layout": "IPY_MODEL_ca9cbc33f87a45c1a758e030140b0b77",
       "style": "IPY_MODEL_ce3f20ebfd14492fa38c6c5c3cf5768f"
      }
     },
     "62c1a573ed4b4a0c94b82b0ef6d976fe": {
      "model_module": "@jupyter-widgets/controls",
      "model_module_version": "1.2.0",
      "model_name": "HBoxModel",
      "state": {
       "children": [
        "IPY_MODEL_7d54d4eef9b141c5b28a3ced6be45186",
        "IPY_MODEL_7c8f7fd5620348dbbdce9826109e023e"
       ],
       "layout": "IPY_MODEL_49119d5540824a35a119070707ae1701"
      }
     },
     "62d7207d1edb4aec95d7b6c0366bf9a0": {
      "model_module": "@jupyter-widgets/base",
      "model_module_version": "1.0.0",
      "model_name": "LayoutModel",
      "state": {}
     },
     "62e1db1aaa5b45a0b6720e7f406ee060": {
      "model_module": "@jupyter-widgets/controls",
      "model_module_version": "1.2.0",
      "model_name": "FloatTextModel",
      "state": {
       "description": "min.",
       "layout": "IPY_MODEL_161bccb516f141d8af2d136bedde3dc7",
       "step": 0.1,
       "style": "IPY_MODEL_a44058bc020a4cfabeacab01e0c69d3c",
       "value": 0.5
      }
     },
     "631fa72c9eeb4fa3a38937437c658739": {
      "model_module": "@jupyter-widgets/base",
      "model_module_version": "1.0.0",
      "model_name": "LayoutModel",
      "state": {
       "display": "none"
      }
     },
     "632863c5ef4740a3a8fa5303d98054f5": {
      "model_module": "@jupyter-widgets/controls",
      "model_module_version": "1.2.0",
      "model_name": "DescriptionStyleModel",
      "state": {
       "description_width": ""
      }
     },
     "635112c8db534c5aabd0e2e44f0b3490": {
      "model_module": "@jupyter-widgets/controls",
      "model_module_version": "1.2.0",
      "model_name": "FloatTextModel",
      "state": {
       "description": "threshold",
       "layout": "IPY_MODEL_349a6c60f42747edb1f90601260406eb",
       "step": 10,
       "style": "IPY_MODEL_80baaa6b703743fcb59be4abcea2e9bb",
       "value": 100
      }
     },
     "63807a890eb7470ba44feed616076dd0": {
      "model_module": "@jupyter-widgets/base",
      "model_module_version": "1.0.0",
      "model_name": "LayoutModel",
      "state": {
       "width": "auto"
      }
     },
     "63a3ba1e33884d798eaae807bb0dc402": {
      "model_module": "@jupyter-widgets/controls",
      "model_module_version": "1.2.0",
      "model_name": "DescriptionStyleModel",
      "state": {
       "description_width": ""
      }
     },
     "63c9ca94d8f84582ab880606d1851611": {
      "model_module": "@jupyter-widgets/controls",
      "model_module_version": "1.2.0",
      "model_name": "DescriptionStyleModel",
      "state": {
       "description_width": ""
      }
     },
     "63d37fe3c0aa41fb806922e478ead0db": {
      "model_module": "@jupyter-widgets/base",
      "model_module_version": "1.0.0",
      "model_name": "LayoutModel",
      "state": {
       "border": "1px solid gray"
      }
     },
     "640cbdf5fd58499cbf65b6ac96918d91": {
      "model_module": "@jupyter-widgets/base",
      "model_module_version": "1.0.0",
      "model_name": "LayoutModel",
      "state": {}
     },
     "64858b97ea784e55991766fa5500663e": {
      "model_module": "@jupyter-widgets/controls",
      "model_module_version": "1.2.0",
      "model_name": "ButtonStyleModel",
      "state": {}
     },
     "649b7633f4b04e2b844853ac9c71132a": {
      "model_module": "@jupyter-widgets/base",
      "model_module_version": "1.0.0",
      "model_name": "LayoutModel",
      "state": {
       "display": "none"
      }
     },
     "64b52890e86046aa8a6d9333020000e0": {
      "model_module": "@jupyter-widgets/controls",
      "model_module_version": "1.2.0",
      "model_name": "DescriptionStyleModel",
      "state": {
       "description_width": ""
      }
     },
     "64f9c0fdfd7b40888021bf14afd2807a": {
      "model_module": "@jupyter-widgets/controls",
      "model_module_version": "1.2.0",
      "model_name": "DescriptionStyleModel",
      "state": {
       "description_width": ""
      }
     },
     "64f9d49685fa44ecb72ccff9c04bbcda": {
      "model_module": "@jupyter-widgets/controls",
      "model_module_version": "1.2.0",
      "model_name": "DescriptionStyleModel",
      "state": {
       "description_width": ""
      }
     },
     "64ffbb4965a94f559a4c0cfc26562eac": {
      "model_module": "@jupyter-widgets/controls",
      "model_module_version": "1.2.0",
      "model_name": "FloatTextModel",
      "state": {
       "description": "sigma",
       "layout": "IPY_MODEL_398608ecacd949bc8f063480366982a5",
       "step": 0.1,
       "style": "IPY_MODEL_be11f35f752d44c2ab2401edc51474f7",
       "value": 1
      }
     },
     "65104cf6ab1c41809e71500f9e9981a8": {
      "model_module": "@jupyter-widgets/base",
      "model_module_version": "1.0.0",
      "model_name": "LayoutModel",
      "state": {}
     },
     "654856f11fc34a429035c6ef7fe126fb": {
      "model_module": "@jupyter-widgets/base",
      "model_module_version": "1.0.0",
      "model_name": "LayoutModel",
      "state": {}
     },
     "655aa290448849aea0de2e014b6c32a3": {
      "model_module": "@jupyter-widgets/controls",
      "model_module_version": "1.2.0",
      "model_name": "DescriptionStyleModel",
      "state": {
       "description_width": ""
      }
     },
     "65630ef9ee4e474da824e0ddc15db440": {
      "model_module": "@jupyter-widgets/base",
      "model_module_version": "1.0.0",
      "model_name": "LayoutModel",
      "state": {}
     },
     "656f24bd247f4e26bbc7c8e9ccfcd091": {
      "model_module": "@jupyter-widgets/base",
      "model_module_version": "1.0.0",
      "model_name": "LayoutModel",
      "state": {
       "display": "none"
      }
     },
     "65772dc1e5764508bf7830b7a5a9a2b4": {
      "model_module": "@jupyter-widgets/controls",
      "model_module_version": "1.2.0",
      "model_name": "CheckboxModel",
      "state": {
       "description": "Min. distance",
       "disabled": false,
       "indent": false,
       "layout": "IPY_MODEL_5359eed9abad42fb8064a5a645068c28",
       "style": "IPY_MODEL_4a490393faef437a9abcd614d0b88d2c",
       "value": true
      }
     },
     "65aa7fca0ee44bcdbdd5376b628ac01a": {
      "model_module": "@jupyter-widgets/controls",
      "model_module_version": "1.2.0",
      "model_name": "HBoxModel",
      "state": {
       "children": [
        "IPY_MODEL_b37d9881043c455989a88cdda902891a",
        "IPY_MODEL_27651f52f6ff4380a078ba196083ee0e"
       ],
       "layout": "IPY_MODEL_bf2692aeecb549829f7c3a5b5a006233"
      }
     },
     "65c1cea39ab14e44bd2dd1f391ff5f93": {
      "model_module": "@jupyter-widgets/controls",
      "model_module_version": "1.2.0",
      "model_name": "BoundedIntTextModel",
      "state": {
       "description": "frame",
       "layout": "IPY_MODEL_4302cddc8147486083b98f824c7ca5fa",
       "max": 49,
       "style": "IPY_MODEL_bb604ae06bca40698a9fcf491bc9deab"
      }
     },
     "65d112c837424107b83f98855bd20bab": {
      "model_module": "@jupyter-widgets/controls",
      "model_module_version": "1.2.0",
      "model_name": "CheckboxModel",
      "state": {
       "description": "Size range",
       "disabled": false,
       "indent": false,
       "layout": "IPY_MODEL_e79b245b362c4276a0cd73ea74f0d8c9",
       "style": "IPY_MODEL_35a00fdfbead418f9674347962f7716a",
       "value": false
      }
     },
     "661958c949e944488de62f991d57804d": {
      "model_module": "@jupyter-widgets/base",
      "model_module_version": "1.0.0",
      "model_name": "LayoutModel",
      "state": {}
     },
     "661e3c078c954251ac0eaed1f5a41778": {
      "model_module": "@jupyter-widgets/base",
      "model_module_version": "1.0.0",
      "model_name": "LayoutModel",
      "state": {
       "height": "150px",
       "width": "100%"
      }
     },
     "6691698f01b541ac8a0b1a4aef1d9901": {
      "model_module": "@jupyter-widgets/controls",
      "model_module_version": "1.2.0",
      "model_name": "LabelModel",
      "state": {
       "layout": "IPY_MODEL_28db640f6655482bb8f2b6e8ff208751",
       "style": "IPY_MODEL_d35770f8853e4d2aa6ae3914d7dcf8e7",
       "value": "Locating beads (file 10/10)"
      }
     },
     "66d2fc5d9cee4391b118b7eb2f972320": {
      "model_module": "@jupyter-widgets/controls",
      "model_module_version": "1.2.0",
      "model_name": "DescriptionStyleModel",
      "state": {
       "description_width": ""
      }
     },
     "66e936967d4042edb49f55f4446bbcdb": {
      "model_module": "@jupyter-widgets/controls",
      "model_module_version": "1.2.0",
      "model_name": "IntTextModel",
      "state": {
       "description": "feat. size",
       "layout": "IPY_MODEL_7e323cdbad764b54ba41c5bd2ed3ccdf",
       "step": 1,
       "style": "IPY_MODEL_eb2d64499f374b36a0f83207af0348f7",
       "value": 3
      }
     },
     "6733a68794e343ab8558817d1c611c3f": {
      "model_module": "@jupyter-widgets/base",
      "model_module_version": "1.0.0",
      "model_name": "LayoutModel",
      "state": {}
     },
     "6746c2c765074195a2b55939200552bf": {
      "model_module": "@jupyter-widgets/controls",
      "model_module_version": "1.2.0",
      "model_name": "DescriptionStyleModel",
      "state": {
       "description_width": ""
      }
     },
     "674f4e5e4142457aa0f2baa89d35f656": {
      "model_module": "@jupyter-widgets/controls",
      "model_module_version": "1.2.0",
      "model_name": "FloatTextModel",
      "state": {
       "description": "threshold",
       "layout": "IPY_MODEL_75684ee022ae49a69e0964010de2f97e",
       "step": 10,
       "style": "IPY_MODEL_181734e03d774155ab38b96f8b99a71a",
       "value": 100
      }
     },
     "676fe8fb0afc4b668410ab402d1ad0ba": {
      "model_module": "@jupyter-widgets/base",
      "model_module_version": "1.0.0",
      "model_name": "LayoutModel",
      "state": {
       "display": "none"
      }
     },
     "67810f96dfa94f84a874740e9e8b1848": {
      "model_module": "@jupyter-widgets/controls",
      "model_module_version": "1.2.0",
      "model_name": "IntRangeSliderModel",
      "state": {
       "_model_name": "IntRangeSliderModel",
       "_view_name": "IntRangeSliderView",
       "layout": "IPY_MODEL_6892d6e7f7834ef792f5510fdc50ca81",
       "max": 65535,
       "style": "IPY_MODEL_577976a5752a4a35ae5987c0d2954cac",
       "value": [
        125,
        898
       ]
      }
     },
     "679a8b092b324fc099cd7bba2007a0e8": {
      "model_module": "@jupyter-widgets/controls",
      "model_module_version": "1.2.0",
      "model_name": "DescriptionStyleModel",
      "state": {
       "description_width": ""
      }
     },
     "67a2721f2fb745d78c88542cc4b0693c": {
      "model_module": "@jupyter-widgets/controls",
      "model_module_version": "1.2.0",
      "model_name": "CheckboxModel",
      "state": {
       "description": "Show loc.",
       "disabled": false,
       "indent": false,
       "layout": "IPY_MODEL_7615c6da7eca413fbe9ae7eb408c7318",
       "style": "IPY_MODEL_7112cee849c74ecb8152cb86bdbe5631",
       "value": true
      }
     },
     "682cf9602ce142908f593322c52e9dc1": {
      "model_module": "@jupyter-widgets/controls",
      "model_module_version": "1.2.0",
      "model_name": "DescriptionStyleModel",
      "state": {
       "description_width": ""
      }
     },
     "6846a9079f8b4bf0a326f59bbef4b496": {
      "model_module": "@jupyter-widgets/controls",
      "model_module_version": "1.2.0",
      "model_name": "HBoxModel",
      "state": {
       "children": [
        "IPY_MODEL_54aa6aaa177f49f3a1fe6cfc0171eeb7",
        "IPY_MODEL_608b02c44b7e4a9890c050da62633fff"
       ],
       "layout": "IPY_MODEL_002fad1c936943c5a2f2e933f8c91d83"
      }
     },
     "684f2399c84e4a138aa7382625304dc2": {
      "model_module": "@jupyter-widgets/base",
      "model_module_version": "1.0.0",
      "model_name": "LayoutModel",
      "state": {}
     },
     "6873b5d6371341c8bc06f724ef3a7d4d": {
      "model_module": "@jupyter-widgets/controls",
      "model_module_version": "1.2.0",
      "model_name": "VBoxModel",
      "state": {
       "children": [
        "IPY_MODEL_1945bebc4d184861bd438dffc310f6cd",
        "IPY_MODEL_f6ea1a7c846549b88b696eba943aceb9"
       ],
       "layout": "IPY_MODEL_9258a5204c544f49bff0a37766c614e7"
      }
     },
     "68771071100647cfbf783c46587caf21": {
      "model_module": "@jupyter-widgets/base",
      "model_module_version": "1.0.0",
      "model_name": "LayoutModel",
      "state": {
       "width": "auto"
      }
     },
     "687a2ff0b9fe40e791b38a8bc7183f14": {
      "model_module": "@jupyter-widgets/controls",
      "model_module_version": "1.2.0",
      "model_name": "DescriptionStyleModel",
      "state": {
       "description_width": ""
      }
     },
     "6892d6e7f7834ef792f5510fdc50ca81": {
      "model_module": "@jupyter-widgets/base",
      "model_module_version": "1.0.0",
      "model_name": "LayoutModel",
      "state": {
       "width": "75%"
      }
     },
     "68ecbd9deee449c5bcb9772b03a5f3ac": {
      "model_module": "@jupyter-widgets/base",
      "model_module_version": "1.0.0",
      "model_name": "LayoutModel",
      "state": {}
     },
     "68fe90603e2a4cc4860284da46d09e25": {
      "model_module": "@jupyter-widgets/base",
      "model_module_version": "1.0.0",
      "model_name": "LayoutModel",
      "state": {
       "width": "auto"
      }
     },
     "694f05a775e044d99aa44d6e58b4a1df": {
      "model_module": "@jupyter-widgets/base",
      "model_module_version": "1.0.0",
      "model_name": "LayoutModel",
      "state": {
       "width": "auto"
      }
     },
     "694f9df0ed034285af749b747bf2bb72": {
      "model_module": "@jupyter-widgets/controls",
      "model_module_version": "1.2.0",
      "model_name": "VBoxModel",
      "state": {
       "children": [
        "IPY_MODEL_0a68c8db6a294839898bb1fc2f78bc02",
        "IPY_MODEL_a6b8d0b30c6f4db184ed57078f711dff"
       ],
       "layout": "IPY_MODEL_421aba4049bf4c39901e53f864c44f31"
      }
     },
     "695b82bde4b24db099d5eeaa49f2b112": {
      "model_module": "@jupyter-widgets/base",
      "model_module_version": "1.0.0",
      "model_name": "LayoutModel",
      "state": {
       "width": "auto"
      }
     },
     "696eb39bab514c74999bc3001041492c": {
      "model_module": "@jupyter-widgets/controls",
      "model_module_version": "1.2.0",
      "model_name": "BoundedIntTextModel",
      "state": {
       "description": "frame",
       "layout": "IPY_MODEL_4ef3e817bb48417b978436c7857ed9e4",
       "max": 0,
       "style": "IPY_MODEL_9edbea2a76a24bde873325ba6c8d66cb"
      }
     },
     "698c4945726d457796659ad3bcebc0a7": {
      "model_module": "@jupyter-widgets/base",
      "model_module_version": "1.0.0",
      "model_name": "LayoutModel",
      "state": {}
     },
     "69c49179c0774ba98959a23ea0b81c8a": {
      "model_module": "@jupyter-widgets/base",
      "model_module_version": "1.0.0",
      "model_name": "LayoutModel",
      "state": {}
     },
     "69e2f158e3144f9e8cbbc34f66df13fc": {
      "model_module": "@jupyter-widgets/controls",
      "model_module_version": "1.2.0",
      "model_name": "DescriptionStyleModel",
      "state": {
       "description_width": ""
      }
     },
     "6a117355361e4c94b6d24f81401c6571": {
      "model_module": "@jupyter-widgets/controls",
      "model_module_version": "1.2.0",
      "model_name": "DescriptionStyleModel",
      "state": {
       "description_width": ""
      }
     },
     "6a2d25aa08ec4f93b0f42b40e56f36ad": {
      "model_module": "@jupyter-widgets/controls",
      "model_module_version": "1.2.0",
      "model_name": "DescriptionStyleModel",
      "state": {
       "description_width": ""
      }
     },
     "6a42f1db81a7409f8ef425c591924c0a": {
      "model_module": "@jupyter-widgets/controls",
      "model_module_version": "1.2.0",
      "model_name": "DropdownModel",
      "state": {
       "_options_labels": [
        "2d_fixed",
        "2d",
        "3d"
       ],
       "description": "model",
       "index": 1,
       "layout": "IPY_MODEL_661958c949e944488de62f991d57804d",
       "style": "IPY_MODEL_00c8c197117140f2832e70472620dcf6"
      }
     },
     "6a858d8095174f94a3d6a44346aad751": {
      "model_module": "@jupyter-widgets/controls",
      "model_module_version": "1.2.0",
      "model_name": "HBoxModel",
      "state": {
       "children": [
        "IPY_MODEL_bd81eb7a1afa4fbcbbd9822542efb5c3",
        "IPY_MODEL_a0868406e0164228a26117e7738fa06a"
       ],
       "layout": "IPY_MODEL_81d9b6aed16e4b3d9a533e28bbe5c7ba"
      }
     },
     "6a97d7241dd346a892234351c46b42a3": {
      "model_module": "@jupyter-widgets/controls",
      "model_module_version": "1.2.0",
      "model_name": "DropdownModel",
      "state": {
       "_options_labels": [
        "2d_fixed",
        "2d",
        "3d"
       ],
       "description": "model",
       "index": 1,
       "layout": "IPY_MODEL_4759749c64d2497ca46af9130a2f7e24",
       "style": "IPY_MODEL_22b68ddab2c2411594fbcfc31effcc46"
      }
     },
     "6aa0e88ed59345719ffdb68b595ff451": {
      "model_module": "@jupyter-widgets/controls",
      "model_module_version": "1.2.0",
      "model_name": "HBoxModel",
      "state": {
       "children": [
        "IPY_MODEL_810bea697feb42e5af9feca7edb8266e",
        "IPY_MODEL_99804c67a2dc4f31b98caced0eb5e5ec",
        "IPY_MODEL_82cdb91393a042cfb05f6b57bac9c2aa"
       ],
       "layout": "IPY_MODEL_0b1698841e0d421eb716eafdd81dd2d8"
      }
     },
     "6abdc33bf74742bc8631b54d38dc7eac": {
      "model_module": "@jupyter-widgets/base",
      "model_module_version": "1.0.0",
      "model_name": "LayoutModel",
      "state": {}
     },
     "6af2d3fed9b545f49f63b030ffb33731": {
      "model_module": "@jupyter-widgets/controls",
      "model_module_version": "1.2.0",
      "model_name": "SliderStyleModel",
      "state": {
       "description_width": ""
      }
     },
     "6af5196c760649fd86ae2d5731be9973": {
      "model_module": "@jupyter-widgets/controls",
      "model_module_version": "1.2.0",
      "model_name": "DescriptionStyleModel",
      "state": {
       "description_width": ""
      }
     },
     "6b0100a8db874477b3a163610b0c3b91": {
      "model_module": "@jupyter-widgets/base",
      "model_module_version": "1.0.0",
      "model_name": "LayoutModel",
      "state": {}
     },
     "6b12021b53df45f595d570758060959a": {
      "model_module": "@jupyter-widgets/controls",
      "model_module_version": "1.2.0",
      "model_name": "ButtonStyleModel",
      "state": {}
     },
     "6b3cfdc9566d41578e2bc0de4e7c5282": {
      "model_module": "@jupyter-widgets/controls",
      "model_module_version": "1.2.0",
      "model_name": "SelectModel",
      "state": {
       "_options_labels": [
        "data/beads/beads_000_.SPE",
        "data/beads/beads_001_.SPE",
        "data/beads/beads_002_.SPE",
        "data/beads/beads_003_.SPE",
        "data/beads/beads_004_.SPE",
        "data/beads/beads_005_.SPE",
        "data/beads/beads_006_.SPE",
        "data/beads/beads_007_.SPE",
        "data/beads/beads_008_.SPE",
        "data/beads/beads_009_.SPE"
       ],
       "index": 0,
       "layout": "IPY_MODEL_4f1c9987bc9249009342d674ff4874aa",
       "style": "IPY_MODEL_7fae634bda3149b89c903f91e92c0a9e"
      }
     },
     "6b47dd2b40204bcbb0d7c6efa0d74984": {
      "model_module": "@jupyter-widgets/base",
      "model_module_version": "1.0.0",
      "model_name": "LayoutModel",
      "state": {
       "display": "none"
      }
     },
     "6b4a267adab04b688e8540c81b625f5c": {
      "model_module": "@jupyter-widgets/controls",
      "model_module_version": "1.2.0",
      "model_name": "FloatTextModel",
      "state": {
       "description": "max.",
       "layout": "IPY_MODEL_479a85ec0b4c4d6dbc128c3e92899eb9",
       "step": 0.1,
       "style": "IPY_MODEL_82396cc378f041c0bd9a6d82efcaddc7",
       "value": 2
      }
     },
     "6bbd6b286ef1427686d5ee2ae6313dde": {
      "model_module": "@jupyter-widgets/base",
      "model_module_version": "1.0.0",
      "model_name": "LayoutModel",
      "state": {}
     },
     "6bbd7bfd41264e7d831c23e43abab2cb": {
      "model_module": "@jupyter-widgets/controls",
      "model_module_version": "1.2.0",
      "model_name": "ButtonStyleModel",
      "state": {}
     },
     "6c09b36aa8844a55a6c54af10b043796": {
      "model_module": "@jupyter-widgets/controls",
      "model_module_version": "1.2.0",
      "model_name": "HBoxModel",
      "state": {
       "children": [
        "IPY_MODEL_78d91b7ed5bb4a19a03ae973cf82608d",
        "IPY_MODEL_d6f74efac8b84c718f356dc701fbceb6"
       ],
       "layout": "IPY_MODEL_e3e1a82efc5947c0830d8ce22bc8bd96"
      }
     },
     "6c118529db474c7ebc022a50f0818c18": {
      "model_module": "@jupyter-widgets/base",
      "model_module_version": "1.0.0",
      "model_name": "LayoutModel",
      "state": {}
     },
     "6c1621e5e3c346668b799be6eefe47ea": {
      "model_module": "@jupyter-widgets/controls",
      "model_module_version": "1.2.0",
      "model_name": "VBoxModel",
      "state": {
       "children": [
        "IPY_MODEL_31e4491c647e43999dd2c75c659a6a71",
        "IPY_MODEL_dfe5a54b21634c8eacd2143a7e1bb3b1",
        "IPY_MODEL_0f239a73f8c247669d67dbaed55521ee"
       ],
       "layout": "IPY_MODEL_5a47db210c184552875d03209f2ac40d"
      }
     },
     "6c3ad84af7db4553a2e5a62501af6851": {
      "model_module": "@jupyter-widgets/controls",
      "model_module_version": "1.2.0",
      "model_name": "FloatTextModel",
      "state": {
       "description": "threshold",
       "layout": "IPY_MODEL_18e95443d23e4217b96c62ed43b0556f",
       "step": 10,
       "style": "IPY_MODEL_c93332c7586243bfa2c35cc7934573c6",
       "value": 1000
      }
     },
     "6c4e0987eca84a5ba2cc1653427be79d": {
      "model_module": "@jupyter-widgets/controls",
      "model_module_version": "1.2.0",
      "model_name": "DescriptionStyleModel",
      "state": {
       "description_width": ""
      }
     },
     "6c8878d01af44bda9f3639d215611135": {
      "model_module": "@jupyter-widgets/controls",
      "model_module_version": "1.2.0",
      "model_name": "CheckboxModel",
      "state": {
       "description": "Size range",
       "disabled": false,
       "indent": false,
       "layout": "IPY_MODEL_105a5f4d969c4f2fbe2b7101b1a7d737",
       "style": "IPY_MODEL_b0ad7d4c9d6044dbbfe153dfafc6f50d",
       "value": false
      }
     },
     "6ca9d52f6bec41b2b6a3835ad9e9808a": {
      "model_module": "@jupyter-widgets/controls",
      "model_module_version": "1.2.0",
      "model_name": "IntTextModel",
      "state": {
       "description": "feat. size",
       "layout": "IPY_MODEL_6d9ac107e0474b47b7d2dea34d35d196",
       "step": 1,
       "style": "IPY_MODEL_c3d8f89ab77d429f888f97aaa68c08bc",
       "value": 3
      }
     },
     "6cc3093b03e942a5a69c3c73e187bdbc": {
      "model_module": "@jupyter-widgets/controls",
      "model_module_version": "1.2.0",
      "model_name": "LabelModel",
      "state": {
       "layout": "IPY_MODEL_42653270d40a45689ce789a63a513e60",
       "style": "IPY_MODEL_0cde23ecad0b4d89b0284fcc52027cab",
       "value": "Tracking ctrl-H57/no-cells_SAv-100k_SSS-ctrl-H57-50k_029_.SPE (213/213)"
      }
     },
     "6cf4151e018e48f0bcac4c0e0f9fc977": {
      "model_module": "@jupyter-widgets/controls",
      "model_module_version": "1.2.0",
      "model_name": "DropdownModel",
      "state": {
       "_options_labels": [
        "Identity",
        "Cg",
        "Gaussian"
       ],
       "description": "find filter",
       "index": 0,
       "layout": "IPY_MODEL_453eb9d6f82947aca55be75f9982a4ad",
       "style": "IPY_MODEL_b8bf6710a4c94d7b87427476ccb92d04"
      }
     },
     "6d4e419261bb4e17a496830abcc5eeef": {
      "model_module": "@jupyter-widgets/controls",
      "model_module_version": "1.2.0",
      "model_name": "DescriptionStyleModel",
      "state": {
       "description_width": ""
      }
     },
     "6d602d2bf98a4f85a66e84fef581fe4e": {
      "model_module": "@jupyter-widgets/controls",
      "model_module_version": "1.2.0",
      "model_name": "ButtonStyleModel",
      "state": {}
     },
     "6d767473af654f5d9c73510ab45043e4": {
      "model_module": "@jupyter-widgets/base",
      "model_module_version": "1.0.0",
      "model_name": "LayoutModel",
      "state": {
       "width": "auto"
      }
     },
     "6d7ed1f11220468bae685a0970199e25": {
      "model_module": "@jupyter-widgets/controls",
      "model_module_version": "1.2.0",
      "model_name": "VBoxModel",
      "state": {
       "children": [
        "IPY_MODEL_24475c6043a942c497d7399ef40ae173",
        "IPY_MODEL_be3a0af7e882478dadfc26ac39e5fd12",
        "IPY_MODEL_29d16c61645f49d2ab9b58de4ae91ac4"
       ],
       "layout": "IPY_MODEL_32b67c507baa46bb9b900b1e0e175126"
      }
     },
     "6d9a4ac3d5f64015906cf9c1bc5687cd": {
      "model_module": "@jupyter-widgets/base",
      "model_module_version": "1.0.0",
      "model_name": "LayoutModel",
      "state": {}
     },
     "6d9ac107e0474b47b7d2dea34d35d196": {
      "model_module": "@jupyter-widgets/base",
      "model_module_version": "1.0.0",
      "model_name": "LayoutModel",
      "state": {
       "display": "inline"
      }
     },
     "6d9ccba62da34714aca5f29ab9d4256c": {
      "model_module": "@jupyter-widgets/base",
      "model_module_version": "1.0.0",
      "model_name": "LayoutModel",
      "state": {
       "width": "auto"
      }
     },
     "6da3f3650bbf4872a7382a85a9a40aa6": {
      "model_module": "@jupyter-widgets/controls",
      "model_module_version": "1.2.0",
      "model_name": "FloatTextModel",
      "state": {
       "layout": "IPY_MODEL_616fe254969d434dbd95651698e7050e",
       "step": 0.1,
       "style": "IPY_MODEL_e6b2ca2ca1f64f1b80e5d80da0c6ad93",
       "value": 1
      }
     },
     "6da725d532d3441487b7c2d1168108aa": {
      "model_module": "@jupyter-widgets/controls",
      "model_module_version": "1.2.0",
      "model_name": "VBoxModel",
      "state": {
       "children": [
        "IPY_MODEL_b57dc1953e9a489ca39fe075f60fd3d1",
        "IPY_MODEL_cc7576cf5f424727a538fd64ec2b8694",
        "IPY_MODEL_554e284fe67d4408aa5344e45e4d0274",
        "IPY_MODEL_81185d7b48c5402f97c81cce08649b34",
        "IPY_MODEL_62c1a573ed4b4a0c94b82b0ef6d976fe",
        "IPY_MODEL_e2edb6304382450b823e5655179f5a6d"
       ],
       "layout": "IPY_MODEL_0261f9e62b234439873402d336041a69"
      }
     },
     "6da7d3d876064f1f9555a7a40461e31c": {
      "model_module": "@jupyter-widgets/controls",
      "model_module_version": "1.2.0",
      "model_name": "DescriptionStyleModel",
      "state": {
       "description_width": ""
      }
     },
     "6dd636fd34f847cbb0fc7d665ae127c4": {
      "model_module": "@jupyter-widgets/controls",
      "model_module_version": "1.2.0",
      "model_name": "DescriptionStyleModel",
      "state": {
       "description_width": ""
      }
     },
     "6dd8263a205c4642ba8702d2d2826ca8": {
      "model_module": "@jupyter-widgets/base",
      "model_module_version": "1.0.0",
      "model_name": "LayoutModel",
      "state": {}
     },
     "6ddac4db2d454ca895ff25566f3e78da": {
      "model_module": "@jupyter-widgets/controls",
      "model_module_version": "1.2.0",
      "model_name": "DescriptionStyleModel",
      "state": {
       "description_width": ""
      }
     },
     "6df85268451941229b5f55fc27677442": {
      "model_module": "@jupyter-widgets/controls",
      "model_module_version": "1.2.0",
      "model_name": "FloatTextModel",
      "state": {
       "description": "max.",
       "layout": "IPY_MODEL_d36786cf6ebf40a3b1cc5a0b8a5ede8a",
       "step": 0.1,
       "style": "IPY_MODEL_8d518e33c96c4d9aacb092476f183f2c",
       "value": 2
      }
     },
     "6e0089000016448c8f05fa717b1d05a3": {
      "model_module": "@jupyter-widgets/controls",
      "model_module_version": "1.2.0",
      "model_name": "DescriptionStyleModel",
      "state": {
       "description_width": ""
      }
     },
     "6e56e4b4661d44b4a335ef6bb224b175": {
      "model_module": "@jupyter-widgets/controls",
      "model_module_version": "1.2.0",
      "model_name": "DescriptionStyleModel",
      "state": {
       "description_width": ""
      }
     },
     "6ebd9a8a594d41a18e119a98e72d73f9": {
      "model_module": "@jupyter-widgets/base",
      "model_module_version": "1.0.0",
      "model_name": "LayoutModel",
      "state": {
       "display": "inline"
      }
     },
     "6eca4e54448c48fe8e6ed0300f3158c2": {
      "model_module": "@jupyter-widgets/controls",
      "model_module_version": "1.2.0",
      "model_name": "DescriptionStyleModel",
      "state": {
       "description_width": ""
      }
     },
     "6ed02a6c11804f8c95e9f0e2f6da5699": {
      "model_module": "@jupyter-widgets/base",
      "model_module_version": "1.0.0",
      "model_name": "LayoutModel",
      "state": {
       "width": "75%"
      }
     },
     "6ee7ec2215584e7cb4c5f9ebdca84026": {
      "model_module": "@jupyter-widgets/base",
      "model_module_version": "1.0.0",
      "model_name": "LayoutModel",
      "state": {
       "display": "flex",
       "flex_flow": "column wrap",
       "width": "66%"
      }
     },
     "6f3d645ca24d406081c03e962d90f5a0": {
      "model_module": "@jupyter-widgets/base",
      "model_module_version": "1.0.0",
      "model_name": "LayoutModel",
      "state": {}
     },
     "6f6341c501034480a9a338ed54045c74": {
      "model_module": "@jupyter-widgets/controls",
      "model_module_version": "1.2.0",
      "model_name": "FloatTextModel",
      "state": {
       "description": "threshold",
       "layout": "IPY_MODEL_1190408936e74c2f86398b535c88453e",
       "step": 10,
       "style": "IPY_MODEL_2a7f49c3ab8141999adc08d0345fcedb",
       "value": 1000
      }
     },
     "6f8df1c5d88846d986fed676f466cb6c": {
      "model_module": "@jupyter-widgets/base",
      "model_module_version": "1.0.0",
      "model_name": "LayoutModel",
      "state": {
       "width": "auto"
      }
     },
     "704bb813a1324e319c9d68815e865f2d": {
      "model_module": "@jupyter-widgets/controls",
      "model_module_version": "1.2.0",
      "model_name": "DescriptionStyleModel",
      "state": {
       "description_width": ""
      }
     },
     "7065c42cfbec4534b7b8c4e7b6a34b3f": {
      "model_module": "@jupyter-widgets/base",
      "model_module_version": "1.0.0",
      "model_name": "LayoutModel",
      "state": {
       "width": "auto"
      }
     },
     "706e429c229347259672d8922366d670": {
      "model_module": "@jupyter-widgets/controls",
      "model_module_version": "1.2.0",
      "model_name": "IntRangeSliderModel",
      "state": {
       "_model_name": "IntRangeSliderModel",
       "_view_name": "IntRangeSliderView",
       "layout": "IPY_MODEL_f0c56595a26442fda945eba4d2ce93de",
       "max": 65535,
       "style": "IPY_MODEL_6af2d3fed9b545f49f63b030ffb33731",
       "value": [
        134,
        9382
       ]
      }
     },
     "707a10ea55034a038f0ae84fe286cc49": {
      "model_module": "@jupyter-widgets/controls",
      "model_module_version": "1.2.0",
      "model_name": "SliderStyleModel",
      "state": {
       "description_width": ""
      }
     },
     "707f959190054f86b52afacf883b7362": {
      "model_module": "@jupyter-widgets/controls",
      "model_module_version": "1.2.0",
      "model_name": "LabelModel",
      "state": {
       "layout": "IPY_MODEL_27800e141b1d44a0a185d03be1413c16",
       "style": "IPY_MODEL_6ddac4db2d454ca895ff25566f3e78da",
       "value": "Locating ctrl-H57/no-cells_SAv-100k_SSS-ctrl-H57-50k_029_.SPE (213/213)"
      }
     },
     "710847d775194b9cb10c836ca473b834": {
      "model_module": "@jupyter-widgets/controls",
      "model_module_version": "1.2.0",
      "model_name": "DescriptionStyleModel",
      "state": {
       "description_width": ""
      }
     },
     "7112cee849c74ecb8152cb86bdbe5631": {
      "model_module": "@jupyter-widgets/controls",
      "model_module_version": "1.2.0",
      "model_name": "DescriptionStyleModel",
      "state": {
       "description_width": ""
      }
     },
     "714d253144384720828bdd50e58469e1": {
      "model_module": "@jupyter-widgets/base",
      "model_module_version": "1.0.0",
      "model_name": "LayoutModel",
      "state": {}
     },
     "714df60064f0460cb9bc52cfb29760a1": {
      "model_module": "@jupyter-widgets/controls",
      "model_module_version": "1.2.0",
      "model_name": "FloatTextModel",
      "state": {
       "description": "min.",
       "layout": "IPY_MODEL_05b4ec877b804dcbb86c36c410f637c7",
       "step": 0.1,
       "style": "IPY_MODEL_184e332be168424e9bb1cb8642c9490f",
       "value": 0.5
      }
     },
     "71535ed4f46f42308f4796dd4b17a2ac": {
      "model_module": "@jupyter-widgets/controls",
      "model_module_version": "1.2.0",
      "model_name": "DescriptionStyleModel",
      "state": {
       "description_width": ""
      }
     },
     "7157ae5182ba44f3bdfcbf91cbe989bc": {
      "model_module": "@jupyter-widgets/controls",
      "model_module_version": "1.2.0",
      "model_name": "LabelModel",
      "state": {
       "layout": "IPY_MODEL_a9d796c2935e4d48abfdfad8b2f07230",
       "style": "IPY_MODEL_f551e0a9a14f4daba1785cac22224852",
       "value": "Locating beads (file 1/10)"
      }
     },
     "71b2294cc73247eaaad5ab55de16c115": {
      "model_module": "@jupyter-widgets/controls",
      "model_module_version": "1.2.0",
      "model_name": "HBoxModel",
      "state": {
       "children": [
        "IPY_MODEL_706e429c229347259672d8922366d670",
        "IPY_MODEL_413db89841384dc395069f5b8392741e",
        "IPY_MODEL_adc6e4587a314fd8afcde5d140a8acc1"
       ],
       "layout": "IPY_MODEL_45ee5eca128243c499bc220cc0d4b8f8"
      }
     },
     "71e2a8a45af34ed788cde52d8bfa61bf": {
      "model_module": "@jupyter-widgets/base",
      "model_module_version": "1.0.0",
      "model_name": "LayoutModel",
      "state": {}
     },
     "71ef8416d5164e26ad13d386265fb786": {
      "model_module": "@jupyter-widgets/controls",
      "model_module_version": "1.2.0",
      "model_name": "FloatTextModel",
      "state": {
       "description": "sigma",
       "layout": "IPY_MODEL_631fa72c9eeb4fa3a38937437c658739",
       "step": 0.1,
       "style": "IPY_MODEL_be34a16d9dee4f9a9bd6a2dd669192be",
       "value": 1
      }
     },
     "71fc787b64ba42bea43c4809f022fbf0": {
      "model_module": "@jupyter-widgets/controls",
      "model_module_version": "1.2.0",
      "model_name": "VBoxModel",
      "state": {
       "children": [
        "IPY_MODEL_b9c3b9812bdb47468e36ab1cba60367c",
        "IPY_MODEL_eff1bedff8c4495781f64e72b69d3fe7"
       ],
       "layout": "IPY_MODEL_03a3c44633d2479eb3411c8dabba1b26"
      }
     },
     "723210085c814704904c271a2a99f89c": {
      "model_module": "@jupyter-widgets/base",
      "model_module_version": "1.0.0",
      "model_name": "LayoutModel",
      "state": {}
     },
     "7251cff4abc34a61bd637e4fb3886404": {
      "model_module": "@jupyter-widgets/controls",
      "model_module_version": "1.2.0",
      "model_name": "DescriptionStyleModel",
      "state": {
       "description_width": ""
      }
     },
     "7268f4510a1a451fa79647460f51b16a": {
      "model_module": "@jupyter-widgets/base",
      "model_module_version": "1.0.0",
      "model_name": "LayoutModel",
      "state": {}
     },
     "728268fbfb8a42a5949770b6a0cc242c": {
      "model_module": "@jupyter-widgets/base",
      "model_module_version": "1.0.0",
      "model_name": "LayoutModel",
      "state": {
       "width": "75%"
      }
     },
     "72917b645ba44e488824690c714903f7": {
      "model_module": "@jupyter-widgets/controls",
      "model_module_version": "1.2.0",
      "model_name": "DescriptionStyleModel",
      "state": {
       "description_width": ""
      }
     },
     "72a18521cd684806844a0b871bc72c6a": {
      "model_module": "@jupyter-widgets/controls",
      "model_module_version": "1.2.0",
      "model_name": "HBoxModel",
      "state": {
       "children": [
        "IPY_MODEL_12d202bf4c084227bba83c3e9ada6aed",
        "IPY_MODEL_a675c0c565574b6c8ceef6ac7ba5fbdc"
       ],
       "layout": "IPY_MODEL_c850f2d83d5a4107b913da97dd1deccd"
      }
     },
     "72b54360941b42a4b3f921d31d4a7d9a": {
      "model_module": "@jupyter-widgets/controls",
      "model_module_version": "1.2.0",
      "model_name": "HBoxModel",
      "state": {
       "children": [
        "IPY_MODEL_77fefab517cb410c83b3b61976110495",
        "IPY_MODEL_e61264a217664ee696e47284c439a285"
       ],
       "layout": "IPY_MODEL_beb0446a9fe94320aefb2c66df80ab34"
      }
     },
     "72bce2cf39e4492eae53e8df455d7341": {
      "model_module": "@jupyter-widgets/controls",
      "model_module_version": "1.2.0",
      "model_name": "HBoxModel",
      "state": {
       "children": [
        "IPY_MODEL_f624b5bd70784e0798190a7c27f34df5",
        "IPY_MODEL_d8206cec6aa245359e7e5a9d25bc355f"
       ],
       "layout": "IPY_MODEL_6b0100a8db874477b3a163610b0c3b91"
      }
     },
     "72dbc3b77baf4e64be7a12988ac9fa4c": {
      "model_module": "@jupyter-widgets/controls",
      "model_module_version": "1.2.0",
      "model_name": "IntRangeSliderModel",
      "state": {
       "_model_name": "IntRangeSliderModel",
       "_view_name": "IntRangeSliderView",
       "layout": "IPY_MODEL_a58f4de4e10b4df4b9eb9fcf4feaf163",
       "max": 65535,
       "style": "IPY_MODEL_09b5f256ed1e4788b8e416dda6f8b13d",
       "value": [
        134,
        25393
       ]
      }
     },
     "732a147ad77b4398b718fed17c20844d": {
      "model_module": "@jupyter-widgets/controls",
      "model_module_version": "1.2.0",
      "model_name": "DescriptionStyleModel",
      "state": {
       "description_width": ""
      }
     },
     "732b0a8af2324470bf028256e20453c6": {
      "model_module": "@jupyter-widgets/controls",
      "model_module_version": "1.2.0",
      "model_name": "DescriptionStyleModel",
      "state": {
       "description_width": ""
      }
     },
     "7352c66be8614d1fab680d28cd01c428": {
      "model_module": "@jupyter-widgets/base",
      "model_module_version": "1.0.0",
      "model_name": "LayoutModel",
      "state": {
       "display": "flex",
       "flex_flow": "column wrap",
       "width": "66%"
      }
     },
     "7364276c133a4c3eaaa343befc2a703b": {
      "model_module": "@jupyter-widgets/controls",
      "model_module_version": "1.2.0",
      "model_name": "DescriptionStyleModel",
      "state": {
       "description_width": ""
      }
     },
     "7399cbebd2a24dc7baae9c10ae65dbf7": {
      "model_module": "@jupyter-widgets/controls",
      "model_module_version": "1.2.0",
      "model_name": "VBoxModel",
      "state": {
       "children": [
        "IPY_MODEL_4b5b61fb0b5f42bc953c2099db1dd1ee",
        "IPY_MODEL_41fa1613ebcb41d684a58cdfdc271be3",
        "IPY_MODEL_f992ac8388e0419ea5b8369bc8e329f7"
       ],
       "layout": "IPY_MODEL_7530e9f6dbd74c2cb957bd4e61efb36f"
      }
     },
     "7411c1c312424992878cea121fca4ef0": {
      "model_module": "@jupyter-widgets/base",
      "model_module_version": "1.0.0",
      "model_name": "LayoutModel",
      "state": {
       "width": "auto"
      }
     },
     "742747435e2244c88f233fdfbe44a6bb": {
      "model_module": "@jupyter-widgets/controls",
      "model_module_version": "1.2.0",
      "model_name": "DescriptionStyleModel",
      "state": {
       "description_width": ""
      }
     },
     "742a23682d814029a435a2cd4e9c2c31": {
      "model_module": "@jupyter-widgets/controls",
      "model_module_version": "1.2.0",
      "model_name": "DescriptionStyleModel",
      "state": {
       "description_width": ""
      }
     },
     "744b36f504394d21b014ea9c4cbbfcb7": {
      "model_module": "@jupyter-widgets/controls",
      "model_module_version": "1.2.0",
      "model_name": "DescriptionStyleModel",
      "state": {
       "description_width": ""
      }
     },
     "74ba6fa1846d4103a14d6c2c08919732": {
      "model_module": "@jupyter-widgets/controls",
      "model_module_version": "1.2.0",
      "model_name": "CheckboxModel",
      "state": {
       "description": "Show loc.",
       "disabled": false,
       "indent": false,
       "layout": "IPY_MODEL_4cb1aac3e95b4c979a1ead5774c356b6",
       "style": "IPY_MODEL_9bae719b9229446abcc2fa83c9e02142",
       "value": true
      }
     },
     "74e76e9dc43b46c4a0fbab97fa05ac82": {
      "model_module": "@jupyter-widgets/base",
      "model_module_version": "1.0.0",
      "model_name": "LayoutModel",
      "state": {}
     },
     "74ed080bf3d343688e27a95f3cdc939f": {
      "model_module": "@jupyter-widgets/base",
      "model_module_version": "1.0.0",
      "model_name": "LayoutModel",
      "state": {}
     },
     "7530e9f6dbd74c2cb957bd4e61efb36f": {
      "model_module": "@jupyter-widgets/base",
      "model_module_version": "1.0.0",
      "model_name": "LayoutModel",
      "state": {}
     },
     "75347f3d56c347b89e3487ee2446d0d0": {
      "model_module": "@jupyter-widgets/base",
      "model_module_version": "1.0.0",
      "model_name": "LayoutModel",
      "state": {}
     },
     "75684ee022ae49a69e0964010de2f97e": {
      "model_module": "@jupyter-widgets/base",
      "model_module_version": "1.0.0",
      "model_name": "LayoutModel",
      "state": {}
     },
     "7615c6da7eca413fbe9ae7eb408c7318": {
      "model_module": "@jupyter-widgets/base",
      "model_module_version": "1.0.0",
      "model_name": "LayoutModel",
      "state": {}
     },
     "763e1749ef914ea7811b6939b9341d02": {
      "model_module": "@jupyter-widgets/base",
      "model_module_version": "1.0.0",
      "model_name": "LayoutModel",
      "state": {
       "display": "none"
      }
     },
     "766095983907487a87bcc331677cb94d": {
      "model_module": "@jupyter-widgets/controls",
      "model_module_version": "1.2.0",
      "model_name": "FloatTextModel",
      "state": {
       "description": "min.",
       "layout": "IPY_MODEL_9c53dadb0022460fbbd471c74e179ac7",
       "step": 0.1,
       "style": "IPY_MODEL_5d1ee3b1cb2f409baac0f6f3c8af3d89",
       "value": 0.5
      }
     },
     "767c389b3ad44f7ab00364045a966393": {
      "model_module": "@jupyter-widgets/controls",
      "model_module_version": "1.2.0",
      "model_name": "DescriptionStyleModel",
      "state": {
       "description_width": ""
      }
     },
     "76e0696c5f33476dba9467127113deca": {
      "model_module": "@jupyter-widgets/controls",
      "model_module_version": "1.2.0",
      "model_name": "DropdownModel",
      "state": {
       "_options_labels": [
        "Identity",
        "Cg",
        "Gaussian"
       ],
       "description": "find filter",
       "index": 1,
       "layout": "IPY_MODEL_a9760e5cf2bb431e8291b5dd00bdc839",
       "style": "IPY_MODEL_89674fdefb424fd5b881882a1c20c533"
      }
     },
     "770d17bacf144e8aa53f0f05f9f3b50a": {
      "model_module": "@jupyter-widgets/controls",
      "model_module_version": "1.2.0",
      "model_name": "DescriptionStyleModel",
      "state": {
       "description_width": ""
      }
     },
     "772b179f43af4b2b865d04bb49f67aef": {
      "model_module": "@jupyter-widgets/controls",
      "model_module_version": "1.2.0",
      "model_name": "SelectModel",
      "state": {
       "_options_labels": [
        "data/beads/beads_000_.SPE",
        "data/beads/beads_001_.SPE",
        "data/beads/beads_002_.SPE",
        "data/beads/beads_003_.SPE",
        "data/beads/beads_004_.SPE",
        "data/beads/beads_005_.SPE",
        "data/beads/beads_006_.SPE",
        "data/beads/beads_007_.SPE",
        "data/beads/beads_008_.SPE",
        "data/beads/beads_009_.SPE"
       ],
       "index": 0,
       "layout": "IPY_MODEL_df36990af733499b9507d029215f2f00",
       "style": "IPY_MODEL_97b53a45b6294741ac24415026d69677"
      }
     },
     "7737dfaaec96414183ebf6cf4492783d": {
      "model_module": "@jupyter-widgets/base",
      "model_module_version": "1.0.0",
      "model_name": "LayoutModel",
      "state": {}
     },
     "774d43ce07db4ff38546dd8ec2622df9": {
      "model_module": "@jupyter-widgets/base",
      "model_module_version": "1.0.0",
      "model_name": "LayoutModel",
      "state": {}
     },
     "77a71aeb78a444699b75d59679ba74a4": {
      "model_module": "@jupyter-widgets/base",
      "model_module_version": "1.0.0",
      "model_name": "LayoutModel",
      "state": {
       "display": "none"
      }
     },
     "77fefab517cb410c83b3b61976110495": {
      "model_module": "@jupyter-widgets/controls",
      "model_module_version": "1.2.0",
      "model_name": "CheckboxModel",
      "state": {
       "description": "Min. distance",
       "disabled": false,
       "indent": false,
       "layout": "IPY_MODEL_db1e4da70e574d328eb4b0395d9d5099",
       "style": "IPY_MODEL_9aca44609f2a49c7bd106e64bd51552d",
       "value": true
      }
     },
     "7809e59803954e9ea3f3fb2f18196cbd": {
      "model_module": "@jupyter-widgets/base",
      "model_module_version": "1.0.0",
      "model_name": "LayoutModel",
      "state": {
       "display": "flex",
       "flex_flow": "column wrap",
       "width": "66%"
      }
     },
     "788a2a310335461b85a4acc03917679e": {
      "model_module": "@jupyter-widgets/controls",
      "model_module_version": "1.2.0",
      "model_name": "FloatTextModel",
      "state": {
       "description": "max.",
       "layout": "IPY_MODEL_bf3f8014db0a4ed6826e77c8d891e255",
       "step": 0.1,
       "style": "IPY_MODEL_a81a0c263b504dd097171b652cc38c56",
       "value": 2
      }
     },
     "7897d3f52a6c431889148c1404a7ad50": {
      "model_module": "@jupyter-widgets/controls",
      "model_module_version": "1.2.0",
      "model_name": "DescriptionStyleModel",
      "state": {
       "description_width": ""
      }
     },
     "789824ebdafe4a8697df288cd17ebbb9": {
      "model_module": "@jupyter-widgets/controls",
      "model_module_version": "1.2.0",
      "model_name": "DescriptionStyleModel",
      "state": {
       "description_width": ""
      }
     },
     "78a71abb23fb4f6a898bd1072b249131": {
      "model_module": "@jupyter-widgets/controls",
      "model_module_version": "1.2.0",
      "model_name": "FloatTextModel",
      "state": {
       "description": "threshold",
       "layout": "IPY_MODEL_298d1fcc82444382bcd444d7d25a6a2b",
       "step": 10,
       "style": "IPY_MODEL_8ece21e0bbc04f559be068553b2f2d6e",
       "value": 100
      }
     },
     "78ae498426d2423dac6186c3bed9bda3": {
      "model_module": "@jupyter-widgets/base",
      "model_module_version": "1.0.0",
      "model_name": "LayoutModel",
      "state": {
       "width": "auto"
      }
     },
     "78c224c15bbf45a8b8b9d9a6668c8437": {
      "model_module": "@jupyter-widgets/controls",
      "model_module_version": "1.2.0",
      "model_name": "VBoxModel",
      "state": {
       "children": [
        "IPY_MODEL_0de1c5355cd847b3a4c630d31a3c7fb3",
        "IPY_MODEL_005559a6669f4d2b82b23960f9ad2cb3"
       ],
       "layout": "IPY_MODEL_deaa69adc590440db289d16e8652a34d"
      }
     },
     "78d00e24e66247fcb1ee681aa55b73a9": {
      "model_module": "@jupyter-widgets/base",
      "model_module_version": "1.0.0",
      "model_name": "LayoutModel",
      "state": {
       "width": "100%"
      }
     },
     "78d91b7ed5bb4a19a03ae973cf82608d": {
      "model_module": "@jupyter-widgets/controls",
      "model_module_version": "1.2.0",
      "model_name": "VBoxModel",
      "state": {
       "children": [
        "IPY_MODEL_bed8cb7bc5d240ed9659485bda8a0bb4",
        "IPY_MODEL_eb8ea61d9b884dfeab0e5844d8e02b7a"
       ],
       "layout": "IPY_MODEL_d2df79d773ea4115a96da54b67b1d450"
      }
     },
     "7911c08f292a481c80c05b04716d2d21": {
      "model_module": "@jupyter-widgets/controls",
      "model_module_version": "1.2.0",
      "model_name": "DropdownModel",
      "state": {
       "_options_labels": [
        "Identity",
        "Cg",
        "Gaussian"
       ],
       "description": "find filter",
       "index": 1,
       "layout": "IPY_MODEL_fc5893db06514f709860d8b8e5c74f92",
       "style": "IPY_MODEL_a0931920790f4838a3c589307e70e6ea"
      }
     },
     "7928f9a9bda5464cb6f4dab76da972f9": {
      "model_module": "@jupyter-widgets/controls",
      "model_module_version": "1.2.0",
      "model_name": "DescriptionStyleModel",
      "state": {
       "description_width": ""
      }
     },
     "79408f63579c4a6eb87afeda2a783ead": {
      "model_module": "@jupyter-widgets/base",
      "model_module_version": "1.0.0",
      "model_name": "LayoutModel",
      "state": {}
     },
     "795f3086492145fdaab5abf5b6f33fcf": {
      "model_module": "@jupyter-widgets/controls",
      "model_module_version": "1.2.0",
      "model_name": "DescriptionStyleModel",
      "state": {
       "description_width": ""
      }
     },
     "7972ade17a9549aca2c729e88c1deecb": {
      "model_module": "@jupyter-widgets/controls",
      "model_module_version": "1.2.0",
      "model_name": "IntTextModel",
      "state": {
       "description": "feat. size",
       "layout": "IPY_MODEL_4a1aaafdd5f744af8cf8e6809361d7c6",
       "step": 1,
       "style": "IPY_MODEL_732b0a8af2324470bf028256e20453c6",
       "value": 3
      }
     },
     "79f327509cd0406eb137e2966fa39e9d": {
      "model_module": "@jupyter-widgets/base",
      "model_module_version": "1.0.0",
      "model_name": "LayoutModel",
      "state": {
       "width": "75%"
      }
     },
     "79f60ce6dc2f41169c7f7db75c044dd5": {
      "model_module": "@jupyter-widgets/base",
      "model_module_version": "1.0.0",
      "model_name": "LayoutModel",
      "state": {
       "width": "75%"
      }
     },
     "79fed7d79c20410bb8dd6db061405c0c": {
      "model_module": "@jupyter-widgets/controls",
      "model_module_version": "1.2.0",
      "model_name": "DescriptionStyleModel",
      "state": {
       "description_width": ""
      }
     },
     "7a0ebbcb7c4549b69ddcf0b2e2c5068b": {
      "model_module": "@jupyter-widgets/controls",
      "model_module_version": "1.2.0",
      "model_name": "VBoxModel",
      "state": {
       "children": [
        "IPY_MODEL_37582f39e27b4551a390952582802e16",
        "IPY_MODEL_52eaf20fec5d4b26b642602c7e2f087b",
        "IPY_MODEL_c8246eec1c214b518f95489e721820c8"
       ],
       "layout": "IPY_MODEL_4d71c157152d495d8d4b865b622bc7cd"
      }
     },
     "7a134be248c44819aa97966728f0c277": {
      "model_module": "@jupyter-widgets/controls",
      "model_module_version": "1.2.0",
      "model_name": "CheckboxModel",
      "state": {
       "description": "Show loc.",
       "disabled": false,
       "indent": false,
       "layout": "IPY_MODEL_c5656558055948b2a4fa9d3f966364fa",
       "style": "IPY_MODEL_b74b4eaa76f44ed9a4ce52c21cca5318",
       "value": true
      }
     },
     "7a1a89626449426fa814701a0bffdd39": {
      "model_module": "@jupyter-widgets/base",
      "model_module_version": "1.0.0",
      "model_name": "LayoutModel",
      "state": {}
     },
     "7a3d482483a6445d88c73d2a846f9824": {
      "model_module": "@jupyter-widgets/controls",
      "model_module_version": "1.2.0",
      "model_name": "DescriptionStyleModel",
      "state": {
       "description_width": ""
      }
     },
     "7a70e5df9e4a47af98622efa03666631": {
      "model_module": "@jupyter-widgets/controls",
      "model_module_version": "1.2.0",
      "model_name": "FloatTextModel",
      "state": {
       "description": "radius",
       "layout": "IPY_MODEL_fe50cf899f9849c68cd362416b44221a",
       "step": 0.1,
       "style": "IPY_MODEL_a335da71e80246ae9495b090f1d55e3d",
       "value": 1
      }
     },
     "7abeedd3279141b7bdec9c5c09ab7c9e": {
      "model_module": "@jupyter-widgets/base",
      "model_module_version": "1.0.0",
      "model_name": "LayoutModel",
      "state": {}
     },
     "7b03f085f65f420f8a3f52353e8d06af": {
      "model_module": "@jupyter-widgets/controls",
      "model_module_version": "1.2.0",
      "model_name": "VBoxModel",
      "state": {
       "children": [
        "IPY_MODEL_5c98545516e04951b2ddb146af32d870",
        "IPY_MODEL_2f874938a2d94bcba003ba49e8e33c0a"
       ],
       "layout": "IPY_MODEL_af56442840da4d8791c2372861416b99"
      }
     },
     "7b584ece4361442f9e5d5ae43bdc193c": {
      "model_module": "@jupyter-widgets/controls",
      "model_module_version": "1.2.0",
      "model_name": "DescriptionStyleModel",
      "state": {
       "description_width": ""
      }
     },
     "7b761e89fa234cb08725d6348836a0ee": {
      "model_module": "@jupyter-widgets/base",
      "model_module_version": "1.0.0",
      "model_name": "LayoutModel",
      "state": {}
     },
     "7b82c042d2e84e6abda55cdaf4c9b65b": {
      "model_module": "@jupyter-widgets/controls",
      "model_module_version": "1.2.0",
      "model_name": "DescriptionStyleModel",
      "state": {
       "description_width": ""
      }
     },
     "7b8878de628d40bd9920c97d3939afd8": {
      "model_module": "@jupyter-widgets/controls",
      "model_module_version": "1.2.0",
      "model_name": "DescriptionStyleModel",
      "state": {
       "description_width": ""
      }
     },
     "7b89770040f044aeb0938fce0d19fad1": {
      "model_module": "@jupyter-widgets/base",
      "model_module_version": "1.0.0",
      "model_name": "LayoutModel",
      "state": {
       "width": "100%"
      }
     },
     "7ba82f1bc9f44a9ab5436345270cc38b": {
      "model_module": "@jupyter-widgets/controls",
      "model_module_version": "1.2.0",
      "model_name": "FloatTextModel",
      "state": {
       "description": "max.",
       "layout": "IPY_MODEL_649b7633f4b04e2b844853ac9c71132a",
       "step": 0.1,
       "style": "IPY_MODEL_b15e46d5fa8e48069163d3f58c7cd47d",
       "value": 2
      }
     },
     "7c0872584b414742a7b4ac503911cd25": {
      "model_module": "@jupyter-widgets/controls",
      "model_module_version": "1.2.0",
      "model_name": "IntTextModel",
      "state": {
       "description": "feat. size",
       "layout": "IPY_MODEL_00de74018a174b87b954fff29cd962b5",
       "step": 1,
       "style": "IPY_MODEL_7f7947b871f94543900367021cc52eb8",
       "value": 3
      }
     },
     "7c1fa466585b4c18bb1136d99db01e73": {
      "model_module": "@jupyter-widgets/controls",
      "model_module_version": "1.2.0",
      "model_name": "IntTextModel",
      "state": {
       "description": "feat. size",
       "layout": "IPY_MODEL_3b6d145814284f81a73a8766f2202449",
       "step": 1,
       "style": "IPY_MODEL_094dc0a79c5448bcb2cc027f7dbdbf13",
       "value": 3
      }
     },
     "7c2cf39c04a54bdab9d108abb89c1b1a": {
      "model_module": "@jupyter-widgets/controls",
      "model_module_version": "1.2.0",
      "model_name": "VBoxModel",
      "state": {
       "children": [
        "IPY_MODEL_3bd3ca85972f4753945635cc6a4b40e8",
        "IPY_MODEL_542824644f4b4688ab53fe51e80cc840"
       ],
       "layout": "IPY_MODEL_35affd50b11e4522a38dac9e0946d5c9"
      }
     },
     "7c2f1c1779d94e2e91f9166b3dd4b218": {
      "model_module": "@jupyter-widgets/controls",
      "model_module_version": "1.2.0",
      "model_name": "DescriptionStyleModel",
      "state": {
       "description_width": ""
      }
     },
     "7c3f80ceafa642ad91d6b4dabf593fcc": {
      "model_module": "@jupyter-widgets/controls",
      "model_module_version": "1.2.0",
      "model_name": "VBoxModel",
      "state": {
       "children": [
        "IPY_MODEL_fd55a134330e485dafc12f541fdc0098",
        "IPY_MODEL_999925651d7242988684fba28c027481",
        "IPY_MODEL_c80ee4c5f3844dcb8f585e61645e0e9b"
       ],
       "layout": "IPY_MODEL_49b0252677114a718f2f1f5ce51aa65d"
      }
     },
     "7c8f7fd5620348dbbdce9826109e023e": {
      "model_module": "@jupyter-widgets/controls",
      "model_module_version": "1.2.0",
      "model_name": "FloatTextModel",
      "state": {
       "layout": "IPY_MODEL_68771071100647cfbf783c46587caf21",
       "step": 0.1,
       "style": "IPY_MODEL_12e3aca5f7a3466baf8ea7382af3da63",
       "value": 1
      }
     },
     "7c91f459dac54e8fa020dd41e8b948e8": {
      "model_module": "@jupyter-widgets/controls",
      "model_module_version": "1.2.0",
      "model_name": "ButtonModel",
      "state": {
       "description": "Auto",
       "layout": "IPY_MODEL_58c7c620e7444f18bee9b757653f2aa9",
       "style": "IPY_MODEL_6b12021b53df45f595d570758060959a"
      }
     },
     "7cadca4ec02f4e818ba61018391b0e13": {
      "model_module": "@jupyter-widgets/base",
      "model_module_version": "1.0.0",
      "model_name": "LayoutModel",
      "state": {
       "width": "100%"
      }
     },
     "7caf946b93e8415dbb5cfded06c588a9": {
      "model_module": "@jupyter-widgets/controls",
      "model_module_version": "1.2.0",
      "model_name": "FloatTextModel",
      "state": {
       "layout": "IPY_MODEL_e52dc050c90b4f95ae0574a97f6bab48",
       "step": 0.1,
       "style": "IPY_MODEL_bf65372f5d3047ebb15da62caa1c4521",
       "value": 1
      }
     },
     "7cea220079584f04863b5b3c3f490da5": {
      "model_module": "@jupyter-widgets/base",
      "model_module_version": "1.0.0",
      "model_name": "LayoutModel",
      "state": {
       "display": "none"
      }
     },
     "7cf28348575d44999104b0a38448e86f": {
      "model_module": "@jupyter-widgets/controls",
      "model_module_version": "1.2.0",
      "model_name": "IntTextModel",
      "state": {
       "description": "feat. size",
       "layout": "IPY_MODEL_f4ea95c3704c4136a4bc40e6012cd317",
       "step": 1,
       "style": "IPY_MODEL_47cd86d34ec4462893501a76ed9afd8f",
       "value": 3
      }
     },
     "7cf744bcc5b0409f9103c5c4577f0f0c": {
      "model_module": "@jupyter-widgets/base",
      "model_module_version": "1.0.0",
      "model_name": "LayoutModel",
      "state": {}
     },
     "7d08cafb736a41c2afb0cf75a29fa8b9": {
      "model_module": "@jupyter-widgets/controls",
      "model_module_version": "1.2.0",
      "model_name": "SliderStyleModel",
      "state": {
       "description_width": ""
      }
     },
     "7d13a996cd214e179de14b9f3f64a524": {
      "model_module": "@jupyter-widgets/controls",
      "model_module_version": "1.2.0",
      "model_name": "VBoxModel",
      "state": {
       "children": [
        "IPY_MODEL_4a41e935acee4148a4451a1654544e26",
        "IPY_MODEL_ad09e136c24c4419a07750758267dfd3",
        "IPY_MODEL_e4432ff0f82a4912ac85dd08f6e539b0",
        "IPY_MODEL_6d7ed1f11220468bae685a0970199e25",
        "IPY_MODEL_a00cbf50657b424287aeafdf5cff1a05",
        "IPY_MODEL_d9c72ea5ac5e4104bd5e802eb4cb1431"
       ],
       "layout": "IPY_MODEL_ff916902a58342ff8f8136893a243101"
      }
     },
     "7d37587997e74c4a886352b548618d25": {
      "model_module": "@jupyter-widgets/controls",
      "model_module_version": "1.2.0",
      "model_name": "ButtonModel",
      "state": {
       "description": "Auto",
       "layout": "IPY_MODEL_417b9bf113344cc0b8645f4a829750d8",
       "style": "IPY_MODEL_eb8a6c492cbb40afa6de05b53bec888b"
      }
     },
     "7d54d4eef9b141c5b28a3ced6be45186": {
      "model_module": "@jupyter-widgets/controls",
      "model_module_version": "1.2.0",
      "model_name": "CheckboxModel",
      "state": {
       "description": "Min. distance",
       "disabled": false,
       "indent": false,
       "layout": "IPY_MODEL_edcf26e89f0140129f39cf5f6752a772",
       "style": "IPY_MODEL_f09107aafae74a6fa022c90364a58dcf",
       "value": false
      }
     },
     "7d8707fd46d64a3c8c0031d3914e3f5f": {
      "model_module": "@jupyter-widgets/controls",
      "model_module_version": "1.2.0",
      "model_name": "FloatTextModel",
      "state": {
       "description": "radius",
       "layout": "IPY_MODEL_33d2438241524a22a276e0c1f53efbd0",
       "step": 0.1,
       "style": "IPY_MODEL_5bf451524c124eb5aaa54312ad41c19b",
       "value": 1
      }
     },
     "7e1a9bca2032487a90f1a46296047b9c": {
      "model_module": "@jupyter-widgets/controls",
      "model_module_version": "1.2.0",
      "model_name": "DescriptionStyleModel",
      "state": {
       "description_width": ""
      }
     },
     "7e323cdbad764b54ba41c5bd2ed3ccdf": {
      "model_module": "@jupyter-widgets/base",
      "model_module_version": "1.0.0",
      "model_name": "LayoutModel",
      "state": {
       "display": "inline"
      }
     },
     "7e5d3d35dfdd4bd991635af6b96bb962": {
      "model_module": "@jupyter-widgets/controls",
      "model_module_version": "1.2.0",
      "model_name": "VBoxModel",
      "state": {
       "children": [
        "IPY_MODEL_a84219f788e443978c802281362621b5",
        "IPY_MODEL_a1fee939d02b4c3cbeb542df8cf1eb43",
        "IPY_MODEL_6c3ad84af7db4553a2e5a62501af6851",
        "IPY_MODEL_aec25161b34c4d5fa2495d37dd0b009c",
        "IPY_MODEL_65aa7fca0ee44bcdbdd5376b628ac01a",
        "IPY_MODEL_8a52be7024ef4c25aa09a59124e17e13"
       ],
       "layout": "IPY_MODEL_cbc95826e6074f2e92211d41a56f82a4"
      }
     },
     "7e69e27a79d54518ba4291cb90d5052e": {
      "model_module": "@jupyter-widgets/controls",
      "model_module_version": "1.2.0",
      "model_name": "DropdownModel",
      "state": {
       "_options_labels": [
        "Identity",
        "Cg",
        "Gaussian"
       ],
       "description": "find filter",
       "index": 1,
       "layout": "IPY_MODEL_5efc03be26be44678edae4db1dd0620d",
       "style": "IPY_MODEL_96c75463f6154453969f9a34b12ad577"
      }
     },
     "7e804dfa5c76426e93cae68a9fbae361": {
      "model_module": "@jupyter-widgets/base",
      "model_module_version": "1.0.0",
      "model_name": "LayoutModel",
      "state": {
       "width": "auto"
      }
     },
     "7e859156759f45b38523fc18293aa11d": {
      "model_module": "@jupyter-widgets/base",
      "model_module_version": "1.0.0",
      "model_name": "LayoutModel",
      "state": {}
     },
     "7eba0bf824a04ba59bf6385b7b96348e": {
      "model_module": "@jupyter-widgets/controls",
      "model_module_version": "1.2.0",
      "model_name": "FloatTextModel",
      "state": {
       "layout": "IPY_MODEL_7411c1c312424992878cea121fca4ef0",
       "step": 0.1,
       "style": "IPY_MODEL_2ea8a59f129b405d87173f9f3230b8e6",
       "value": 1
      }
     },
     "7f0e7f412f954619b202379e8b02693b": {
      "model_module": "@jupyter-widgets/controls",
      "model_module_version": "1.2.0",
      "model_name": "DescriptionStyleModel",
      "state": {
       "description_width": ""
      }
     },
     "7f26c2e32f73441e925acbfeb80b8ba5": {
      "model_module": "@jupyter-widgets/controls",
      "model_module_version": "1.2.0",
      "model_name": "IntTextModel",
      "state": {
       "description": "feat. size",
       "layout": "IPY_MODEL_5d0a7ef140e44964bca949a1721e3e29",
       "step": 1,
       "style": "IPY_MODEL_9fdbc4fb133d47bdab2d81519a664f88",
       "value": 3
      }
     },
     "7f4354ebdb9e4b5abbdc63c6c1eff22f": {
      "model_module": "@jupyter-widgets/controls",
      "model_module_version": "1.2.0",
      "model_name": "DescriptionStyleModel",
      "state": {
       "description_width": ""
      }
     },
     "7f4b4f3d85e34deeb1ea4774d8aefa66": {
      "model_module": "@jupyter-widgets/controls",
      "model_module_version": "1.2.0",
      "model_name": "CheckboxModel",
      "state": {
       "description": "Size range",
       "disabled": false,
       "indent": false,
       "layout": "IPY_MODEL_87bdfa4d9388414fbe34361823472cd9",
       "style": "IPY_MODEL_744b36f504394d21b014ea9c4cbbfcb7",
       "value": false
      }
     },
     "7f68fd8890284cd78451354497414a02": {
      "model_module": "@jupyter-widgets/controls",
      "model_module_version": "1.2.0",
      "model_name": "DescriptionStyleModel",
      "state": {
       "description_width": ""
      }
     },
     "7f73ff4f83394c04820b1cf4828cff07": {
      "model_module": "@jupyter-widgets/controls",
      "model_module_version": "1.2.0",
      "model_name": "CheckboxModel",
      "state": {
       "description": "Size range",
       "disabled": false,
       "indent": false,
       "layout": "IPY_MODEL_78ae498426d2423dac6186c3bed9bda3",
       "style": "IPY_MODEL_84be21c2267d46ecb6b61acbf06dc01e",
       "value": false
      }
     },
     "7f7947b871f94543900367021cc52eb8": {
      "model_module": "@jupyter-widgets/controls",
      "model_module_version": "1.2.0",
      "model_name": "DescriptionStyleModel",
      "state": {
       "description_width": ""
      }
     },
     "7f8c1ba0849c4963a3aec678f5fcbf8b": {
      "model_module": "@jupyter-widgets/controls",
      "model_module_version": "1.2.0",
      "model_name": "DescriptionStyleModel",
      "state": {
       "description_width": ""
      }
     },
     "7fae634bda3149b89c903f91e92c0a9e": {
      "model_module": "@jupyter-widgets/controls",
      "model_module_version": "1.2.0",
      "model_name": "DescriptionStyleModel",
      "state": {
       "description_width": ""
      }
     },
     "7ff62e478ee3437995b243f6afd57b84": {
      "model_module": "@jupyter-widgets/base",
      "model_module_version": "1.0.0",
      "model_name": "LayoutModel",
      "state": {}
     },
     "7ffaa12f4009420cabdc409956fafe3d": {
      "model_module": "@jupyter-widgets/controls",
      "model_module_version": "1.2.0",
      "model_name": "VBoxModel",
      "state": {
       "children": [
        "IPY_MODEL_6c8878d01af44bda9f3639d215611135",
        "IPY_MODEL_bd42a13e206240c8af39f2f3f7f56011",
        "IPY_MODEL_d700234ff2bd43d98b61da89639fba43"
       ],
       "layout": "IPY_MODEL_8c98602f1d7f4432a45d0fda2735fd67"
      }
     },
     "8004488e459a492b8d357d97ede48678": {
      "model_module": "@jupyter-widgets/controls",
      "model_module_version": "1.2.0",
      "model_name": "DescriptionStyleModel",
      "state": {
       "description_width": ""
      }
     },
     "80755e8cd72a466ba04fa2342cc4a2c4": {
      "model_module": "@jupyter-widgets/controls",
      "model_module_version": "1.2.0",
      "model_name": "CheckboxModel",
      "state": {
       "description": "Size range",
       "disabled": false,
       "indent": false,
       "layout": "IPY_MODEL_231f86b690714dfe9cc5b0b688cc7436",
       "style": "IPY_MODEL_6af5196c760649fd86ae2d5731be9973",
       "value": false
      }
     },
     "809d2a13aa78447b8a8fcfa964e91b06": {
      "model_module": "@jupyter-widgets/controls",
      "model_module_version": "1.2.0",
      "model_name": "DescriptionStyleModel",
      "state": {
       "description_width": ""
      }
     },
     "80a9910d37f34e0d9f9bca42f24e1a37": {
      "model_module": "@jupyter-widgets/controls",
      "model_module_version": "1.2.0",
      "model_name": "DescriptionStyleModel",
      "state": {
       "description_width": ""
      }
     },
     "80baaa6b703743fcb59be4abcea2e9bb": {
      "model_module": "@jupyter-widgets/controls",
      "model_module_version": "1.2.0",
      "model_name": "DescriptionStyleModel",
      "state": {
       "description_width": ""
      }
     },
     "80c2e356993c45dcbebf66dc3e671b92": {
      "model_module": "@jupyter-widgets/controls",
      "model_module_version": "1.2.0",
      "model_name": "DescriptionStyleModel",
      "state": {
       "description_width": ""
      }
     },
     "80d0f66ccc8043f5a05540c17b37572b": {
      "model_module": "@jupyter-widgets/base",
      "model_module_version": "1.0.0",
      "model_name": "LayoutModel",
      "state": {
       "width": "auto"
      }
     },
     "80d3c155cfc846a88c1e54b855601163": {
      "model_module": "@jupyter-widgets/base",
      "model_module_version": "1.0.0",
      "model_name": "LayoutModel",
      "state": {}
     },
     "80ed4a1176914252bf03bbd3df62e1c5": {
      "model_module": "@jupyter-widgets/controls",
      "model_module_version": "1.2.0",
      "model_name": "DropdownModel",
      "state": {
       "_options_labels": [
        "2d_fixed",
        "2d",
        "3d"
       ],
       "description": "model",
       "index": 1,
       "layout": "IPY_MODEL_fbe86e1dd7194487b3b57f7e6f490339",
       "style": "IPY_MODEL_679a8b092b324fc099cd7bba2007a0e8"
      }
     },
     "80f46a1514ff47459596d207e4185b65": {
      "model_module": "@jupyter-widgets/base",
      "model_module_version": "1.0.0",
      "model_name": "LayoutModel",
      "state": {
       "display": "none"
      }
     },
     "80fe2f7b6ac64475a3794aaf3aa27ae4": {
      "model_module": "@jupyter-widgets/base",
      "model_module_version": "1.0.0",
      "model_name": "LayoutModel",
      "state": {
       "width": "100%"
      }
     },
     "81096482fe474b759a2fb31d9ee07c29": {
      "model_module": "@jupyter-widgets/base",
      "model_module_version": "1.0.0",
      "model_name": "LayoutModel",
      "state": {
       "width": "auto"
      }
     },
     "810a209724294271b83a49d267f14a22": {
      "model_module": "@jupyter-widgets/base",
      "model_module_version": "1.0.0",
      "model_name": "LayoutModel",
      "state": {
       "width": "100%"
      }
     },
     "810bea697feb42e5af9feca7edb8266e": {
      "model_module": "@jupyter-widgets/controls",
      "model_module_version": "1.2.0",
      "model_name": "IntRangeSliderModel",
      "state": {
       "_model_name": "IntRangeSliderModel",
       "_view_name": "IntRangeSliderView",
       "layout": "IPY_MODEL_386b71b351a64a1a954377121aa10d0a",
       "max": 65535,
       "style": "IPY_MODEL_da6998b0eeac4a14aa88cad19e27679d",
       "value": [
        16383,
        49151
       ]
      }
     },
     "81185d7b48c5402f97c81cce08649b34": {
      "model_module": "@jupyter-widgets/controls",
      "model_module_version": "1.2.0",
      "model_name": "VBoxModel",
      "state": {
       "children": [
        "IPY_MODEL_ef7105e4a7684fe1b412815e09bf964e",
        "IPY_MODEL_9911ce34f11f43ec81604a8e6e1ae269",
        "IPY_MODEL_c6a9fc6e0e6a4098995eb4a9aafbd685"
       ],
       "layout": "IPY_MODEL_e73200dfa3a84a7e902c264f06cb8050"
      }
     },
     "81d9b6aed16e4b3d9a533e28bbe5c7ba": {
      "model_module": "@jupyter-widgets/base",
      "model_module_version": "1.0.0",
      "model_name": "LayoutModel",
      "state": {}
     },
     "8200b00ac8174f8b913f4fb2f5aeb418": {
      "model_module": "@jupyter-widgets/controls",
      "model_module_version": "1.2.0",
      "model_name": "DescriptionStyleModel",
      "state": {
       "description_width": ""
      }
     },
     "82396cc378f041c0bd9a6d82efcaddc7": {
      "model_module": "@jupyter-widgets/controls",
      "model_module_version": "1.2.0",
      "model_name": "DescriptionStyleModel",
      "state": {
       "description_width": ""
      }
     },
     "82583e58509042368bf8c21bee5086e4": {
      "model_module": "@jupyter-widgets/base",
      "model_module_version": "1.0.0",
      "model_name": "LayoutModel",
      "state": {
       "width": "auto"
      }
     },
     "8277aa72a4134dafa78f589ff2231453": {
      "model_module": "@jupyter-widgets/controls",
      "model_module_version": "1.2.0",
      "model_name": "HBoxModel",
      "state": {
       "children": [
        "IPY_MODEL_33b6de483ca6433cb6abe21f23c9b310",
        "IPY_MODEL_8b8f4ee2b429441f949a39a7e6b4907d"
       ],
       "layout": "IPY_MODEL_92b09dfd88004c9e8778def1c9f699a8"
      }
     },
     "82cc1b5d18df45f3a6d56f36a65c333b": {
      "model_module": "@jupyter-widgets/controls",
      "model_module_version": "1.2.0",
      "model_name": "DescriptionStyleModel",
      "state": {
       "description_width": ""
      }
     },
     "82cdb91393a042cfb05f6b57bac9c2aa": {
      "model_module": "@jupyter-widgets/controls",
      "model_module_version": "1.2.0",
      "model_name": "CheckboxModel",
      "state": {
       "description": "Show loc.",
       "disabled": false,
       "indent": false,
       "layout": "IPY_MODEL_a5aef452aafc4979844c1c9e82fbe0db",
       "style": "IPY_MODEL_0018c04d4b2749a4897ec5711d0a8a1b",
       "value": true
      }
     },
     "82fa564a51c04c79a480775d7211cee6": {
      "model_module": "@jupyter-widgets/controls",
      "model_module_version": "1.2.0",
      "model_name": "DescriptionStyleModel",
      "state": {
       "description_width": ""
      }
     },
     "8346806e4bba42cb87c56d2814e17ddc": {
      "model_module": "@jupyter-widgets/controls",
      "model_module_version": "1.2.0",
      "model_name": "DescriptionStyleModel",
      "state": {
       "description_width": ""
      }
     },
     "8353db62440f4be398859f883451c00b": {
      "model_module": "@jupyter-widgets/base",
      "model_module_version": "1.0.0",
      "model_name": "LayoutModel",
      "state": {}
     },
     "8356a8afa94944eb825a6d03d33ca378": {
      "model_module": "@jupyter-widgets/controls",
      "model_module_version": "1.2.0",
      "model_name": "CheckboxModel",
      "state": {
       "description": "Show loc.",
       "disabled": false,
       "indent": false,
       "layout": "IPY_MODEL_9dc7aaed167b4dd5969d056120e38a5c",
       "style": "IPY_MODEL_5c5eeae3fe734cfb9d5b6555b74ba08d",
       "value": true
      }
     },
     "8363f9755aa04c31946b49bf6d81e6cd": {
      "model_module": "@jupyter-widgets/base",
      "model_module_version": "1.0.0",
      "model_name": "LayoutModel",
      "state": {
       "display": "none"
      }
     },
     "837f0a9b22bc4f38a3e697aded6b628d": {
      "model_module": "@jupyter-widgets/base",
      "model_module_version": "1.0.0",
      "model_name": "LayoutModel",
      "state": {}
     },
     "83816c77a7d44d1283af47f290407846": {
      "model_module": "@jupyter-widgets/base",
      "model_module_version": "1.0.0",
      "model_name": "LayoutModel",
      "state": {
       "width": "100%"
      }
     },
     "83cffd741eeb430dbf72e1f82c9e775f": {
      "model_module": "@jupyter-widgets/controls",
      "model_module_version": "1.2.0",
      "model_name": "DescriptionStyleModel",
      "state": {
       "description_width": ""
      }
     },
     "83d3e31c57f34f7d82e2583f231da2e9": {
      "model_module": "@jupyter-widgets/controls",
      "model_module_version": "1.2.0",
      "model_name": "DescriptionStyleModel",
      "state": {
       "description_width": ""
      }
     },
     "84be21c2267d46ecb6b61acbf06dc01e": {
      "model_module": "@jupyter-widgets/controls",
      "model_module_version": "1.2.0",
      "model_name": "DescriptionStyleModel",
      "state": {
       "description_width": ""
      }
     },
     "850705be2c594966a1ed5adf20120cf0": {
      "model_module": "@jupyter-widgets/base",
      "model_module_version": "1.0.0",
      "model_name": "LayoutModel",
      "state": {}
     },
     "8530c3e1f5034d298c0e74eb8b4b8d62": {
      "model_module": "@jupyter-widgets/controls",
      "model_module_version": "1.2.0",
      "model_name": "LabelModel",
      "state": {
       "layout": "IPY_MODEL_77a71aeb78a444699b75d59679ba74a4",
       "style": "IPY_MODEL_7f4354ebdb9e4b5abbdc63c6c1eff22f",
       "value": "Locating beads (file 10/10)"
      }
     },
     "853382609a5b404d80a4feb4093d925a": {
      "model_module": "@jupyter-widgets/base",
      "model_module_version": "1.0.0",
      "model_name": "LayoutModel",
      "state": {
       "display": "flex",
       "flex_flow": "column wrap",
       "width": "66%"
      }
     },
     "856b29a83bc644f7b2b4e017960d1da3": {
      "model_module": "@jupyter-widgets/controls",
      "model_module_version": "1.2.0",
      "model_name": "FloatTextModel",
      "state": {
       "description": "min.",
       "layout": "IPY_MODEL_33fff774f93e46a2af5d1b55d8cb2994",
       "step": 0.1,
       "style": "IPY_MODEL_9d4a9019dc9c48ee987d1e204cb5dfa8",
       "value": 0.5
      }
     },
     "856dc878c4b947268823882ad0e609a1": {
      "model_module": "@jupyter-widgets/controls",
      "model_module_version": "1.2.0",
      "model_name": "LabelModel",
      "state": {
       "layout": "IPY_MODEL_cb2386fc6ef74bcdacecf41b9c594189",
       "style": "IPY_MODEL_2043cd0deada4e3fad44e7ca841638c1",
       "value": "Locating beads (file 10/10)"
      }
     },
     "861cffcb15a747e59761de0c27edcde8": {
      "model_module": "@jupyter-widgets/controls",
      "model_module_version": "1.2.0",
      "model_name": "VBoxModel",
      "state": {
       "children": [
        "IPY_MODEL_aeb82f103bde45f8ae48a0a3293218f8",
        "IPY_MODEL_b2612d3edbcd4dbc816deb8b13184772",
        "IPY_MODEL_24b12ffeda4e43ec875b10f3506e60aa"
       ],
       "layout": "IPY_MODEL_37b4c7ed280b4d5aa4ccdbad7e7604f0"
      }
     },
     "8640494794064662823b36511db88e13": {
      "model_module": "@jupyter-widgets/base",
      "model_module_version": "1.0.0",
      "model_name": "LayoutModel",
      "state": {
       "width": "auto"
      }
     },
     "865d1a7cd7b948548f2f7bb0f5eda00d": {
      "model_module": "@jupyter-widgets/controls",
      "model_module_version": "1.2.0",
      "model_name": "DescriptionStyleModel",
      "state": {
       "description_width": ""
      }
     },
     "86ad48dec51741938a64d3053101ebe2": {
      "model_module": "@jupyter-widgets/controls",
      "model_module_version": "1.2.0",
      "model_name": "DropdownModel",
      "state": {
       "_options_labels": [
        "2d_fixed",
        "2d",
        "3d"
       ],
       "description": "model",
       "index": 1,
       "layout": "IPY_MODEL_714d253144384720828bdd50e58469e1",
       "style": "IPY_MODEL_05d857c2e8504550a4718576d51adb6e"
      }
     },
     "86c46d226c9342bd9799b721166690a6": {
      "model_module": "@jupyter-widgets/base",
      "model_module_version": "1.0.0",
      "model_name": "LayoutModel",
      "state": {}
     },
     "86c69153440d494eb9e52469c9909b45": {
      "model_module": "@jupyter-widgets/controls",
      "model_module_version": "1.2.0",
      "model_name": "ButtonModel",
      "state": {
       "description": "Auto",
       "layout": "IPY_MODEL_f69a2db1cf3d44d594939f5f5d96e21a",
       "style": "IPY_MODEL_af11b20f3d1b467485ef89404c0582c5"
      }
     },
     "86c9ec232b3e4bfbbe8fd140a5e6d5d3": {
      "model_module": "@jupyter-widgets/base",
      "model_module_version": "1.0.0",
      "model_name": "LayoutModel",
      "state": {}
     },
     "86d4d864668c47e99aad4c905abee941": {
      "model_module": "@jupyter-widgets/controls",
      "model_module_version": "1.2.0",
      "model_name": "FloatTextModel",
      "state": {
       "description": "min.",
       "layout": "IPY_MODEL_4460a4b0e45149e8b62d0d75002d0361",
       "step": 0.1,
       "style": "IPY_MODEL_82fa564a51c04c79a480775d7211cee6",
       "value": 0.5
      }
     },
     "86dcef23bc4744319fe529d567185ca9": {
      "model_module": "@jupyter-widgets/base",
      "model_module_version": "1.0.0",
      "model_name": "LayoutModel",
      "state": {
       "height": "150px",
       "width": "100%"
      }
     },
     "87045e7c7a47485aa63dffd08040e2e1": {
      "model_module": "@jupyter-widgets/controls",
      "model_module_version": "1.2.0",
      "model_name": "FloatTextModel",
      "state": {
       "description": "min.",
       "layout": "IPY_MODEL_f46d6a4ed27843f8a95281949e729744",
       "step": 0.1,
       "style": "IPY_MODEL_aac67a092b404f4aa3513c7206fd2402",
       "value": 0.5
      }
     },
     "874f056b41604b95a1022eb11cdd193c": {
      "model_module": "@jupyter-widgets/controls",
      "model_module_version": "1.2.0",
      "model_name": "FloatTextModel",
      "state": {
       "description": "radius",
       "layout": "IPY_MODEL_0c6814e20e264632b34c7a9ba47b467d",
       "step": 0.1,
       "style": "IPY_MODEL_6a2d25aa08ec4f93b0f42b40e56f36ad",
       "value": 1
      }
     },
     "878f93859f344d6b8c9abb9c812267a3": {
      "model_module": "@jupyter-widgets/controls",
      "model_module_version": "1.2.0",
      "model_name": "ButtonStyleModel",
      "state": {}
     },
     "8793427b89a2477384ccd98b45e8650e": {
      "model_module": "@jupyter-widgets/controls",
      "model_module_version": "1.2.0",
      "model_name": "IntTextModel",
      "state": {
       "description": "feat. size",
       "layout": "IPY_MODEL_a7a93a3b5db14745a107ee7357a57a81",
       "step": 1,
       "style": "IPY_MODEL_022d4e6b9d2b4ef29ad13e4759bdf303",
       "value": 3
      }
     },
     "87bdfa4d9388414fbe34361823472cd9": {
      "model_module": "@jupyter-widgets/base",
      "model_module_version": "1.0.0",
      "model_name": "LayoutModel",
      "state": {
       "width": "auto"
      }
     },
     "88e452512c2a453dae2c9766752f5965": {
      "model_module": "@jupyter-widgets/base",
      "model_module_version": "1.0.0",
      "model_name": "LayoutModel",
      "state": {}
     },
     "89674fdefb424fd5b881882a1c20c533": {
      "model_module": "@jupyter-widgets/controls",
      "model_module_version": "1.2.0",
      "model_name": "DescriptionStyleModel",
      "state": {
       "description_width": ""
      }
     },
     "897513c42c1949debca60cc5649d6001": {
      "model_module": "@jupyter-widgets/controls",
      "model_module_version": "1.2.0",
      "model_name": "VBoxModel",
      "state": {
       "children": [
        "IPY_MODEL_76e0696c5f33476dba9467127113deca",
        "IPY_MODEL_7f26c2e32f73441e925acbfeb80b8ba5",
        "IPY_MODEL_df29faf8273e48a5bee8d7a223cc08ac"
       ],
       "layout": "IPY_MODEL_5ddf41f4e91448118e5b3331eae7ede0"
      }
     },
     "89aa5d42d8eb4ebc90a7761d3dce4b75": {
      "model_module": "@jupyter-widgets/base",
      "model_module_version": "1.0.0",
      "model_name": "LayoutModel",
      "state": {
       "height": "150px",
       "width": "100%"
      }
     },
     "89d8894014ba4cf4a21db7afed9d625e": {
      "model_module": "@jupyter-widgets/controls",
      "model_module_version": "1.2.0",
      "model_name": "FloatTextModel",
      "state": {
       "description": "threshold",
       "layout": "IPY_MODEL_2935f9dd0f2347839e2a4b45779199de",
       "step": 10,
       "style": "IPY_MODEL_d3766a29be6c40149321205bfdce3c6a",
       "value": 100
      }
     },
     "8a52be7024ef4c25aa09a59124e17e13": {
      "model_module": "@jupyter-widgets/controls",
      "model_module_version": "1.2.0",
      "model_name": "VBoxModel",
      "state": {
       "children": [
        "IPY_MODEL_dcc1fee65e7e40488a2829e87fe22560",
        "IPY_MODEL_3cb0d27cf4e64e7dbba3e398ee1b9917",
        "IPY_MODEL_2ace33678a664e7f93b399359db8e7a9"
       ],
       "layout": "IPY_MODEL_9f26e9bc88f3473ebf794e68fa66a789"
      }
     },
     "8a6550c5cbe647d68a2115ac8442b978": {
      "model_module": "@jupyter-widgets/controls",
      "model_module_version": "1.2.0",
      "model_name": "DescriptionStyleModel",
      "state": {
       "description_width": ""
      }
     },
     "8a6b8ef7ce7f4b76b1c70a9cbec92a5f": {
      "model_module": "@jupyter-widgets/controls",
      "model_module_version": "1.2.0",
      "model_name": "DescriptionStyleModel",
      "state": {
       "description_width": ""
      }
     },
     "8a73eacf81254b6eab54f9ad02fc146f": {
      "model_module": "@jupyter-widgets/base",
      "model_module_version": "1.0.0",
      "model_name": "LayoutModel",
      "state": {}
     },
     "8ab3bf5637d24546a209820bd9d7806c": {
      "model_module": "@jupyter-widgets/controls",
      "model_module_version": "1.2.0",
      "model_name": "BoundedIntTextModel",
      "state": {
       "description": "frame",
       "layout": "IPY_MODEL_5446864af5af44aba166dcb3ea3c4d17",
       "max": 0,
       "style": "IPY_MODEL_917606e537914db69ef6a9a8c9542c4e"
      }
     },
     "8acfbe1b3a1f4104bb5c3c685b867aaa": {
      "model_module": "@jupyter-widgets/controls",
      "model_module_version": "1.2.0",
      "model_name": "SelectModel",
      "state": {
       "_options_labels": [
        "data/sensor-H57/no-cells_SAv-100k_SSS-H57-20k_000_.SPE"
       ],
       "index": 0,
       "layout": "IPY_MODEL_05e0d564a0d3408bba633bcffd12cb3f",
       "style": "IPY_MODEL_0104da1552564463929855cbc2b05593"
      }
     },
     "8ae8a78a822742a5a1ac26766d7d0bf2": {
      "model_module": "@jupyter-widgets/controls",
      "model_module_version": "1.2.0",
      "model_name": "HBoxModel",
      "state": {
       "children": [
        "IPY_MODEL_455cf6e9a00743579e54cef4efeee445",
        "IPY_MODEL_3b4a599f18eb484f89abca24821169d5"
       ],
       "layout": "IPY_MODEL_44af3bdb87e84606a1ad3a7482d31214"
      }
     },
     "8b1e427c35654164ae46d5138758bafc": {
      "model_module": "@jupyter-widgets/base",
      "model_module_version": "1.0.0",
      "model_name": "LayoutModel",
      "state": {
       "border": "1px solid gray"
      }
     },
     "8b26a592718c432381544ef50f1238c4": {
      "model_module": "@jupyter-widgets/controls",
      "model_module_version": "1.2.0",
      "model_name": "DropdownModel",
      "state": {
       "_options_labels": [
        "Identity",
        "Cg",
        "Gaussian"
       ],
       "description": "find filter",
       "index": 1,
       "layout": "IPY_MODEL_80d3c155cfc846a88c1e54b855601163",
       "style": "IPY_MODEL_c91e6b5ec8fd4e3fbce02033e26274d4"
      }
     },
     "8b42c750321242ef9263b6bfeb9cf94a": {
      "model_module": "@jupyter-widgets/controls",
      "model_module_version": "1.2.0",
      "model_name": "IntTextModel",
      "state": {
       "description": "feat. size",
       "layout": "IPY_MODEL_ecceb57342d84d7eb2790085b645c9d5",
       "step": 1,
       "style": "IPY_MODEL_e07320cc570c4cb19f38f6d1aa6da5d5",
       "value": 3
      }
     },
     "8b6931748a42409d884c4454d3144696": {
      "model_module": "@jupyter-widgets/base",
      "model_module_version": "1.0.0",
      "model_name": "LayoutModel",
      "state": {}
     },
     "8b8f4ee2b429441f949a39a7e6b4907d": {
      "model_module": "@jupyter-widgets/controls",
      "model_module_version": "1.2.0",
      "model_name": "FloatTextModel",
      "state": {
       "layout": "IPY_MODEL_5452847ecfe44d2a98b86fb4875e64b3",
       "step": 0.1,
       "style": "IPY_MODEL_7251cff4abc34a61bd637e4fb3886404",
       "value": 1
      }
     },
     "8b90ed70d2554b48a466342454012047": {
      "model_module": "@jupyter-widgets/controls",
      "model_module_version": "1.2.0",
      "model_name": "BoundedIntTextModel",
      "state": {
       "description": "frame",
       "layout": "IPY_MODEL_df8dfe6ad0f143f28f5319492ffa643c",
       "max": 49,
       "style": "IPY_MODEL_3f3dff0ea23d4c0da42191b6105bdbd9"
      }
     },
     "8bc0589a899546c294dced800970d9b0": {
      "model_module": "@jupyter-widgets/controls",
      "model_module_version": "1.2.0",
      "model_name": "VBoxModel",
      "state": {
       "children": [
        "IPY_MODEL_07c8ae6842234a828cdc5b7ad6386b73",
        "IPY_MODEL_c7950bb3cfa846749605076ebf8fe9e6",
        "IPY_MODEL_a28c038042c54aa189617d6ce8c023b4",
        "IPY_MODEL_e98a03ff22104c9aafaced303ca0cc23",
        "IPY_MODEL_bc8765e56b834e90964fd735b31f2ee0",
        "IPY_MODEL_31b444c16f454933a68729399ccbbfdf"
       ],
       "layout": "IPY_MODEL_9781822393ab436f832e0374c469d0c8"
      }
     },
     "8beeb15f06a24f429a5f619463c7534d": {
      "model_module": "@jupyter-widgets/controls",
      "model_module_version": "1.2.0",
      "model_name": "DescriptionStyleModel",
      "state": {
       "description_width": ""
      }
     },
     "8c4bf6b5ba5a4628b6b2b222f16f06ec": {
      "model_module": "@jupyter-widgets/controls",
      "model_module_version": "1.2.0",
      "model_name": "DropdownModel",
      "state": {
       "_options_labels": [
        "Identity",
        "Cg",
        "Gaussian"
       ],
       "description": "find filter",
       "index": 1,
       "layout": "IPY_MODEL_d7cca073dbf945fe9549c63b26a0a8a5",
       "style": "IPY_MODEL_d7a2d3856bf24c8daa5c454b34f335ae"
      }
     },
     "8c618bf667984e6dba7a977fab592393": {
      "model_module": "@jupyter-widgets/base",
      "model_module_version": "1.0.0",
      "model_name": "LayoutModel",
      "state": {}
     },
     "8c98602f1d7f4432a45d0fda2735fd67": {
      "model_module": "@jupyter-widgets/base",
      "model_module_version": "1.0.0",
      "model_name": "LayoutModel",
      "state": {}
     },
     "8c9cc2e6767c4ccbb3209f8c4a732d67": {
      "model_module": "@jupyter-widgets/base",
      "model_module_version": "1.0.0",
      "model_name": "LayoutModel",
      "state": {
       "height": "150px",
       "width": "100%"
      }
     },
     "8cd31a6c9ff0466295c9f5b4db86a38d": {
      "model_module": "@jupyter-widgets/controls",
      "model_module_version": "1.2.0",
      "model_name": "HBoxModel",
      "state": {
       "children": [
        "IPY_MODEL_0e4f94f81e074cf5a19d35943215a729",
        "IPY_MODEL_6da3f3650bbf4872a7382a85a9a40aa6"
       ],
       "layout": "IPY_MODEL_b6fe90eea41749a7bce3105c113eb223"
      }
     },
     "8d055895f82c41d7b7c8b38876af1e7e": {
      "model_module": "@jupyter-widgets/controls",
      "model_module_version": "1.2.0",
      "model_name": "DescriptionStyleModel",
      "state": {
       "description_width": ""
      }
     },
     "8d0e07c0932148fe9f896e0bdb8ee446": {
      "model_module": "@jupyter-widgets/base",
      "model_module_version": "1.0.0",
      "model_name": "LayoutModel",
      "state": {}
     },
     "8d103f0587d54766bf25ae1c7cfdd53d": {
      "model_module": "@jupyter-widgets/controls",
      "model_module_version": "1.2.0",
      "model_name": "FloatTextModel",
      "state": {
       "description": "radius",
       "layout": "IPY_MODEL_b5eb7a59cbc243f9bc0d874649257b37",
       "step": 0.1,
       "style": "IPY_MODEL_161e8a067c8947aab46ac8fe5a4a11af",
       "value": 1
      }
     },
     "8d2ce95e587f4415ba3358ee8fc152a5": {
      "model_module": "@jupyter-widgets/base",
      "model_module_version": "1.0.0",
      "model_name": "LayoutModel",
      "state": {
       "width": "75%"
      }
     },
     "8d518e33c96c4d9aacb092476f183f2c": {
      "model_module": "@jupyter-widgets/controls",
      "model_module_version": "1.2.0",
      "model_name": "DescriptionStyleModel",
      "state": {
       "description_width": ""
      }
     },
     "8d671eebba524806afd5190d5e9a294e": {
      "model_module": "@jupyter-widgets/controls",
      "model_module_version": "1.2.0",
      "model_name": "SelectModel",
      "state": {
       "_options_labels": [
        "data/sensor-H57/cells-01_SAv-100k_SSS-H57-20k_000_.SPE"
       ],
       "index": 0,
       "layout": "IPY_MODEL_2481b947f1e64a2295066506b699d3bd",
       "style": "IPY_MODEL_7b82c042d2e84e6abda55cdaf4c9b65b"
      }
     },
     "8d75a98fccc24a73858cf40373ff49b1": {
      "model_module": "@jupyter-widgets/controls",
      "model_module_version": "1.2.0",
      "model_name": "DescriptionStyleModel",
      "state": {
       "description_width": ""
      }
     },
     "8da328fcd8204bd592c2e6cc3480b1d4": {
      "model_module": "@jupyter-widgets/base",
      "model_module_version": "1.0.0",
      "model_name": "LayoutModel",
      "state": {}
     },
     "8dc6f662a26d4004be642e35900832e6": {
      "model_module": "@jupyter-widgets/controls",
      "model_module_version": "1.2.0",
      "model_name": "CheckboxModel",
      "state": {
       "description": "Min. distance",
       "disabled": false,
       "indent": false,
       "layout": "IPY_MODEL_2cab9af1129d4fa09b95251563b39926",
       "style": "IPY_MODEL_9a5d6961b2a24084ac1439691cc73a7e",
       "value": true
      }
     },
     "8dcd3e877cc048e0af43a62bf72cd5d4": {
      "model_module": "@jupyter-widgets/controls",
      "model_module_version": "1.2.0",
      "model_name": "HBoxModel",
      "state": {
       "children": [
        "IPY_MODEL_0456f5bd127e43acb9f732da112bdd05",
        "IPY_MODEL_61736542fb91429ebfc4285de4794f3c"
       ],
       "layout": "IPY_MODEL_86dcef23bc4744319fe529d567185ca9"
      }
     },
     "8e38b4cd6178425bba8ba72effbc2a23": {
      "model_module": "@jupyter-widgets/controls",
      "model_module_version": "1.2.0",
      "model_name": "HBoxModel",
      "state": {
       "children": [
        "IPY_MODEL_4a19eae047724d1c8aef7b840f80f3f5",
        "IPY_MODEL_94113de96d1d4309b400da8d8abf3c04"
       ],
       "layout": "IPY_MODEL_89aa5d42d8eb4ebc90a7761d3dce4b75"
      }
     },
     "8e6c34cfb4904b0a87936b4f7c942bc5": {
      "model_module": "@jupyter-widgets/base",
      "model_module_version": "1.0.0",
      "model_name": "LayoutModel",
      "state": {
       "border": "1px solid gray"
      }
     },
     "8eb933fcf2094529bcfaa1d445261b92": {
      "model_module": "@jupyter-widgets/controls",
      "model_module_version": "1.2.0",
      "model_name": "FloatTextModel",
      "state": {
       "description": "min.",
       "layout": "IPY_MODEL_ab7a3e29338d4fde9471734de2214b6e",
       "step": 0.1,
       "style": "IPY_MODEL_c06cf69ddada43d0ab1f18c8c3045aa7",
       "value": 0.5
      }
     },
     "8ec6da2c67544898804aac810349c4c2": {
      "model_module": "@jupyter-widgets/base",
      "model_module_version": "1.0.0",
      "model_name": "LayoutModel",
      "state": {}
     },
     "8ece21e0bbc04f559be068553b2f2d6e": {
      "model_module": "@jupyter-widgets/controls",
      "model_module_version": "1.2.0",
      "model_name": "DescriptionStyleModel",
      "state": {
       "description_width": ""
      }
     },
     "8efaa6660bcd40e8bef473760f81a5cf": {
      "model_module": "@jupyter-widgets/controls",
      "model_module_version": "1.2.0",
      "model_name": "FloatTextModel",
      "state": {
       "description": "max.",
       "layout": "IPY_MODEL_d07a4186820840239ab8e5eb70813624",
       "step": 0.1,
       "style": "IPY_MODEL_79fed7d79c20410bb8dd6db061405c0c",
       "value": 2
      }
     },
     "8f03041c80844d6aac8a93c20c78e2c3": {
      "model_module": "@jupyter-widgets/controls",
      "model_module_version": "1.2.0",
      "model_name": "SliderStyleModel",
      "state": {
       "description_width": ""
      }
     },
     "8f1037d085144389a628066405742956": {
      "model_module": "@jupyter-widgets/controls",
      "model_module_version": "1.2.0",
      "model_name": "DescriptionStyleModel",
      "state": {
       "description_width": ""
      }
     },
     "8f419c9a97774aa7b8672e5b715e1279": {
      "model_module": "@jupyter-widgets/controls",
      "model_module_version": "1.2.0",
      "model_name": "FloatTextModel",
      "state": {
       "description": "min.",
       "layout": "IPY_MODEL_f11472961bf9417bb5f947a08586a9f8",
       "step": 0.1,
       "style": "IPY_MODEL_f79fb53f9f954bf5aed1318b836cf856",
       "value": 0.5
      }
     },
     "8f60a7b8105b4b2f8efcc28531ac63ee": {
      "model_module": "@jupyter-widgets/controls",
      "model_module_version": "1.2.0",
      "model_name": "ButtonModel",
      "state": {
       "description": "Auto",
       "layout": "IPY_MODEL_b452bb11186a4cf78f1e9b2d3fa131cb",
       "style": "IPY_MODEL_52cbb0bbe4ce4ad4b59ac491f14ffb7a"
      }
     },
     "8f8a4480e7a041a49dc9356e93bc2275": {
      "model_module": "@jupyter-widgets/controls",
      "model_module_version": "1.2.0",
      "model_name": "VBoxModel",
      "state": {
       "children": [
        "IPY_MODEL_0f71c59db5aa4ea2b4769b5fea8c042f",
        "IPY_MODEL_7c1fa466585b4c18bb1136d99db01e73",
        "IPY_MODEL_4235a193fe33482fab93e144a242265c"
       ],
       "layout": "IPY_MODEL_e3bdd03ca0ee4ed5bd7975bb27a948e7"
      }
     },
     "8fb1f61f7e624f7285afd816a6b4a06e": {
      "model_module": "@jupyter-widgets/controls",
      "model_module_version": "1.2.0",
      "model_name": "SelectModel",
      "state": {
       "_options_labels": [
        "data/beads/beads_000_.SPE",
        "data/beads/beads_001_.SPE",
        "data/beads/beads_002_.SPE",
        "data/beads/beads_003_.SPE",
        "data/beads/beads_004_.SPE",
        "data/beads/beads_005_.SPE",
        "data/beads/beads_006_.SPE",
        "data/beads/beads_007_.SPE",
        "data/beads/beads_008_.SPE",
        "data/beads/beads_009_.SPE"
       ],
       "index": 0,
       "layout": "IPY_MODEL_23bbf40415384f4396f29d0185ec83d1",
       "style": "IPY_MODEL_6eca4e54448c48fe8e6ed0300f3158c2"
      }
     },
     "8fb4b0fdb7c44e1ab8ed8e86e5f324f2": {
      "model_module": "@jupyter-widgets/base",
      "model_module_version": "1.0.0",
      "model_name": "LayoutModel",
      "state": {
       "width": "auto"
      }
     },
     "8fdb88a13c5d4aaa8ea7127d2a7dbebf": {
      "model_module": "@jupyter-widgets/base",
      "model_module_version": "1.0.0",
      "model_name": "LayoutModel",
      "state": {}
     },
     "8ff9e205eed647399c279ffee532336f": {
      "model_module": "@jupyter-widgets/controls",
      "model_module_version": "1.2.0",
      "model_name": "DropdownModel",
      "state": {
       "_options_labels": [
        "Identity",
        "Cg",
        "Gaussian"
       ],
       "description": "find filter",
       "index": 0,
       "layout": "IPY_MODEL_97f6d85fbe0b4e66a9a553343ca32256",
       "style": "IPY_MODEL_64f9c0fdfd7b40888021bf14afd2807a"
      }
     },
     "900defe2db1a44ca9b66c0e478878a1f": {
      "model_module": "@jupyter-widgets/controls",
      "model_module_version": "1.2.0",
      "model_name": "FloatTextModel",
      "state": {
       "description": "threshold",
       "layout": "IPY_MODEL_6733a68794e343ab8558817d1c611c3f",
       "step": 10,
       "style": "IPY_MODEL_560b9ab308b242a0aae998cdc825f1f8",
       "value": 100
      }
     },
     "9062cf5159e6492689fe459d9cd70ec5": {
      "model_module": "@jupyter-widgets/base",
      "model_module_version": "1.0.0",
      "model_name": "LayoutModel",
      "state": {}
     },
     "9071443fbf604febaa69a42219d26e73": {
      "model_module": "@jupyter-widgets/base",
      "model_module_version": "1.0.0",
      "model_name": "LayoutModel",
      "state": {
       "display": "inline"
      }
     },
     "908ebcf6e38043ebb72d731b3bc73225": {
      "model_module": "@jupyter-widgets/controls",
      "model_module_version": "1.2.0",
      "model_name": "DescriptionStyleModel",
      "state": {
       "description_width": ""
      }
     },
     "90a2efcdf54e436a95a036eb331dd6a6": {
      "model_module": "@jupyter-widgets/controls",
      "model_module_version": "1.2.0",
      "model_name": "DropdownModel",
      "state": {
       "_options_labels": [
        "Identity",
        "Cg",
        "Gaussian"
       ],
       "description": "find filter",
       "index": 1,
       "layout": "IPY_MODEL_c9c0bd8e91e44168bacd248f4ef19544",
       "style": "IPY_MODEL_6746c2c765074195a2b55939200552bf"
      }
     },
     "90aad56497fd4a5ea38f011e38008929": {
      "model_module": "@jupyter-widgets/base",
      "model_module_version": "1.0.0",
      "model_name": "LayoutModel",
      "state": {
       "display": "none"
      }
     },
     "90b98469181e4b4891ca28c13a27c2d8": {
      "model_module": "@jupyter-widgets/controls",
      "model_module_version": "1.2.0",
      "model_name": "IntTextModel",
      "state": {
       "description": "feat. size",
       "layout": "IPY_MODEL_f443d29c5dd3424c9ade9b292ee221a8",
       "step": 1,
       "style": "IPY_MODEL_c46874c368de438694b59a5b5b8ea525",
       "value": 3
      }
     },
     "90d47bd64de148b3ad13b9826f6860b0": {
      "model_module": "@jupyter-widgets/controls",
      "model_module_version": "1.2.0",
      "model_name": "IntRangeSliderModel",
      "state": {
       "_model_name": "IntRangeSliderModel",
       "_view_name": "IntRangeSliderView",
       "layout": "IPY_MODEL_914e34b1d579477a999a5cd71464a7f4",
       "max": 65535,
       "style": "IPY_MODEL_ed60be68de04477a94324f0eb040ef4d",
       "value": [
        288,
        827
       ]
      }
     },
     "90e802b1fc6a4e63aaed8c6f15075403": {
      "model_module": "@jupyter-widgets/base",
      "model_module_version": "1.0.0",
      "model_name": "LayoutModel",
      "state": {
       "display": "flex",
       "flex_flow": "column wrap",
       "width": "66%"
      }
     },
     "911e291299a9413694e2a31039eee35d": {
      "model_module": "@jupyter-widgets/controls",
      "model_module_version": "1.2.0",
      "model_name": "ButtonStyleModel",
      "state": {}
     },
     "912e622704314bf5bdd8598a1a809195": {
      "model_module": "@jupyter-widgets/base",
      "model_module_version": "1.0.0",
      "model_name": "LayoutModel",
      "state": {}
     },
     "9133c6044fa44763a8e9ed3a2cfc66c3": {
      "model_module": "@jupyter-widgets/controls",
      "model_module_version": "1.2.0",
      "model_name": "DropdownModel",
      "state": {
       "_options_labels": [
        "2d_fixed",
        "2d",
        "3d"
       ],
       "description": "model",
       "index": 1,
       "layout": "IPY_MODEL_dc9b2fd2f53a40a29031dd96781ef514",
       "style": "IPY_MODEL_8200b00ac8174f8b913f4fb2f5aeb418"
      }
     },
     "9138d8a891bb4b6c8a15a1bfb8e4c597": {
      "model_module": "@jupyter-widgets/controls",
      "model_module_version": "1.2.0",
      "model_name": "DropdownModel",
      "state": {
       "_options_labels": [
        "Identity",
        "Cg",
        "Gaussian"
       ],
       "description": "find filter",
       "index": 1,
       "layout": "IPY_MODEL_94a41668fabf46d19064c77d567daade",
       "style": "IPY_MODEL_34ae739732e64f14943fb575fb8acb08"
      }
     },
     "914e34b1d579477a999a5cd71464a7f4": {
      "model_module": "@jupyter-widgets/base",
      "model_module_version": "1.0.0",
      "model_name": "LayoutModel",
      "state": {
       "width": "75%"
      }
     },
     "916639153d57402f8b01fece3aade51d": {
      "model_module": "@jupyter-widgets/controls",
      "model_module_version": "1.2.0",
      "model_name": "DescriptionStyleModel",
      "state": {
       "description_width": ""
      }
     },
     "917606e537914db69ef6a9a8c9542c4e": {
      "model_module": "@jupyter-widgets/controls",
      "model_module_version": "1.2.0",
      "model_name": "DescriptionStyleModel",
      "state": {
       "description_width": ""
      }
     },
     "91965d064d4e404fb585454f0d66f835": {
      "model_module": "@jupyter-widgets/controls",
      "model_module_version": "1.2.0",
      "model_name": "VBoxModel",
      "state": {
       "children": [
        "IPY_MODEL_f4b1ca26edcd4aeba20d0a79cfd32d91",
        "IPY_MODEL_9dc0b1c84fd74a2b8b39ec91bcc1e1e7",
        "IPY_MODEL_89d8894014ba4cf4a21db7afed9d625e",
        "IPY_MODEL_3f9418e628d24e748890f5c4dda6ace0",
        "IPY_MODEL_0ec48eb6111c4e2d84fcf0f14db3e192",
        "IPY_MODEL_3a2d6fdf137f40619d5b0e4ea9344a73"
       ],
       "layout": "IPY_MODEL_7352c66be8614d1fab680d28cd01c428"
      }
     },
     "91bc4b10676e4c61858563567dd750ca": {
      "model_module": "@jupyter-widgets/controls",
      "model_module_version": "1.2.0",
      "model_name": "DescriptionStyleModel",
      "state": {
       "description_width": ""
      }
     },
     "91e07288880e4ec1acbb5ce39898e869": {
      "model_module": "@jupyter-widgets/controls",
      "model_module_version": "1.2.0",
      "model_name": "IntRangeSliderModel",
      "state": {
       "_model_name": "IntRangeSliderModel",
       "_view_name": "IntRangeSliderView",
       "layout": "IPY_MODEL_5333a79a55cc45c49ec238230d529949",
       "max": 65535,
       "style": "IPY_MODEL_3560dd9389c3463f86819f0c6634d24c",
       "value": [
        288,
        891
       ]
      }
     },
     "91e79b1b840744d9b854fdd8077678e3": {
      "model_module": "@jupyter-widgets/base",
      "model_module_version": "1.0.0",
      "model_name": "LayoutModel",
      "state": {
       "width": "auto"
      }
     },
     "920cafbe294c4239bb9b2febbcf8b6c2": {
      "model_module": "@jupyter-widgets/base",
      "model_module_version": "1.0.0",
      "model_name": "LayoutModel",
      "state": {}
     },
     "921181737b0045eb8e603a257dd72842": {
      "model_module": "@jupyter-widgets/controls",
      "model_module_version": "1.2.0",
      "model_name": "SliderStyleModel",
      "state": {
       "description_width": ""
      }
     },
     "923b980f12c8486992a45c2467f1e3fb": {
      "model_module": "@jupyter-widgets/controls",
      "model_module_version": "1.2.0",
      "model_name": "VBoxModel",
      "state": {
       "children": [
        "IPY_MODEL_a2342805aa8d4236af7b0cc074c489bc",
        "IPY_MODEL_c838d53e5add40f09d6caa9df248bd69",
        "IPY_MODEL_dea425607c3c4f77828d2dd2c9b30da5"
       ],
       "layout": "IPY_MODEL_65104cf6ab1c41809e71500f9e9981a8"
      }
     },
     "9258a5204c544f49bff0a37766c614e7": {
      "model_module": "@jupyter-widgets/base",
      "model_module_version": "1.0.0",
      "model_name": "LayoutModel",
      "state": {}
     },
     "9281a656a23d43bf85a38bb834ee710c": {
      "model_module": "@jupyter-widgets/controls",
      "model_module_version": "1.2.0",
      "model_name": "CheckboxModel",
      "state": {
       "description": "Show loc.",
       "disabled": false,
       "indent": false,
       "layout": "IPY_MODEL_f50e9f5e514d4963ba51a75e6d336b29",
       "style": "IPY_MODEL_5e012965fda74d719e889094e173e8de",
       "value": true
      }
     },
     "92b09dfd88004c9e8778def1c9f699a8": {
      "model_module": "@jupyter-widgets/base",
      "model_module_version": "1.0.0",
      "model_name": "LayoutModel",
      "state": {}
     },
     "92c035acd4c94c8f825860b4865061a3": {
      "model_module": "@jupyter-widgets/controls",
      "model_module_version": "1.2.0",
      "model_name": "DescriptionStyleModel",
      "state": {
       "description_width": ""
      }
     },
     "932e06afd8a8412d8d84c05ece0810d7": {
      "model_module": "@jupyter-widgets/base",
      "model_module_version": "1.0.0",
      "model_name": "LayoutModel",
      "state": {}
     },
     "93997ff8b3ac48d5b8db285ff78a313d": {
      "model_module": "@jupyter-widgets/controls",
      "model_module_version": "1.2.0",
      "model_name": "FloatTextModel",
      "state": {
       "description": "min.",
       "layout": "IPY_MODEL_b1da71adf5fc4a4fb2dc775a70522d5e",
       "step": 0.1,
       "style": "IPY_MODEL_d724312b449143348409eb572e8beb38",
       "value": 0.5
      }
     },
     "93b9e5519cb747339a8132d5eb7d4762": {
      "model_module": "@jupyter-widgets/base",
      "model_module_version": "1.0.0",
      "model_name": "LayoutModel",
      "state": {}
     },
     "93f07b84d3e64ff991362ae79ce94c8e": {
      "model_module": "@jupyter-widgets/controls",
      "model_module_version": "1.2.0",
      "model_name": "DescriptionStyleModel",
      "state": {
       "description_width": ""
      }
     },
     "94113de96d1d4309b400da8d8abf3c04": {
      "model_module": "@jupyter-widgets/controls",
      "model_module_version": "1.2.0",
      "model_name": "VBoxModel",
      "state": {
       "children": [
        "IPY_MODEL_874f056b41604b95a1022eb11cdd193c",
        "IPY_MODEL_0f1e09de113d4707bfbd3b083df35a52",
        "IPY_MODEL_5f7efa908d984902a244918b19c19735",
        "IPY_MODEL_897513c42c1949debca60cc5649d6001",
        "IPY_MODEL_72a18521cd684806844a0b871bc72c6a",
        "IPY_MODEL_ef11086c136645e6bcb1b062b9132344"
       ],
       "layout": "IPY_MODEL_a85f8868bd72443da6283c84785b6859"
      }
     },
     "9427081b205c46adabdbcf3c13f58b24": {
      "model_module": "@jupyter-widgets/base",
      "model_module_version": "1.0.0",
      "model_name": "LayoutModel",
      "state": {}
     },
     "944e2ebea9424aefbe1005fbcfdc0b3d": {
      "model_module": "@jupyter-widgets/base",
      "model_module_version": "1.0.0",
      "model_name": "LayoutModel",
      "state": {
       "display": "none"
      }
     },
     "946af716b9914b46ba07d1bbcdc37da6": {
      "model_module": "@jupyter-widgets/controls",
      "model_module_version": "1.2.0",
      "model_name": "SliderStyleModel",
      "state": {
       "description_width": ""
      }
     },
     "9484f4f26805468c8f787a313c37e4a3": {
      "model_module": "@jupyter-widgets/base",
      "model_module_version": "1.0.0",
      "model_name": "LayoutModel",
      "state": {}
     },
     "9488c92fc19e478491c10ae5c8ac6ad4": {
      "model_module": "@jupyter-widgets/base",
      "model_module_version": "1.0.0",
      "model_name": "LayoutModel",
      "state": {
       "display": "none"
      }
     },
     "94a04b48808646259dae3c75bf1e471a": {
      "model_module": "@jupyter-widgets/controls",
      "model_module_version": "1.2.0",
      "model_name": "DescriptionStyleModel",
      "state": {
       "description_width": ""
      }
     },
     "94a41668fabf46d19064c77d567daade": {
      "model_module": "@jupyter-widgets/base",
      "model_module_version": "1.0.0",
      "model_name": "LayoutModel",
      "state": {}
     },
     "94aeddc830d34daaa6518c6373b3ad59": {
      "model_module": "@jupyter-widgets/controls",
      "model_module_version": "1.2.0",
      "model_name": "BoundedIntTextModel",
      "state": {
       "description": "frame",
       "layout": "IPY_MODEL_2b58c109e6ac46239d4f9d6bdda564c4",
       "max": 0,
       "style": "IPY_MODEL_770d17bacf144e8aa53f0f05f9f3b50a"
      }
     },
     "94c13257598e4e7e88ea93fb93ad8488": {
      "model_module": "@jupyter-widgets/controls",
      "model_module_version": "1.2.0",
      "model_name": "DescriptionStyleModel",
      "state": {
       "description_width": ""
      }
     },
     "94d8a07cfa2b403dad859520ef2160c1": {
      "model_module": "@jupyter-widgets/controls",
      "model_module_version": "1.2.0",
      "model_name": "HBoxModel",
      "state": {
       "children": [
        "IPY_MODEL_71fc787b64ba42bea43c4809f022fbf0",
        "IPY_MODEL_282166fd839b46a8975d5295b184eda0"
       ],
       "layout": "IPY_MODEL_12980f81724142febe19018a4167f93d"
      }
     },
     "94f4193040594a02ae652bd3d3e3d594": {
      "model_module": "@jupyter-widgets/controls",
      "model_module_version": "1.2.0",
      "model_name": "DescriptionStyleModel",
      "state": {
       "description_width": ""
      }
     },
     "9524dc61fde742a9bac5f244577b797a": {
      "model_module": "@jupyter-widgets/base",
      "model_module_version": "1.0.0",
      "model_name": "LayoutModel",
      "state": {
       "width": "auto"
      }
     },
     "952d0c8e4861453a846be79d5c802d70": {
      "model_module": "@jupyter-widgets/base",
      "model_module_version": "1.0.0",
      "model_name": "LayoutModel",
      "state": {}
     },
     "955beeb69d4544638a89c228bc8f7b5c": {
      "model_module": "@jupyter-widgets/base",
      "model_module_version": "1.0.0",
      "model_name": "LayoutModel",
      "state": {}
     },
     "958e349bb2f843249adb8d750bd6ce15": {
      "model_module": "@jupyter-widgets/base",
      "model_module_version": "1.0.0",
      "model_name": "LayoutModel",
      "state": {}
     },
     "95f7c8157bf64759832ddcc4b2e44fed": {
      "model_module": "@jupyter-widgets/controls",
      "model_module_version": "1.2.0",
      "model_name": "DescriptionStyleModel",
      "state": {
       "description_width": ""
      }
     },
     "96306988e5d94606a1f1a51d0796167d": {
      "model_module": "@jupyter-widgets/base",
      "model_module_version": "1.0.0",
      "model_name": "LayoutModel",
      "state": {
       "width": "100%"
      }
     },
     "963fcc50330b45d085af26165f78fcfd": {
      "model_module": "@jupyter-widgets/controls",
      "model_module_version": "1.2.0",
      "model_name": "IntTextModel",
      "state": {
       "description": "feat. size",
       "layout": "IPY_MODEL_d37c3c26d37b4853b33e5892e85b76f3",
       "step": 1,
       "style": "IPY_MODEL_d790fccb856d4eb0ac598b39495ac337",
       "value": 3
      }
     },
     "96506e07324c4510b46d91e7e827b24b": {
      "model_module": "@jupyter-widgets/controls",
      "model_module_version": "1.2.0",
      "model_name": "DescriptionStyleModel",
      "state": {
       "description_width": ""
      }
     },
     "96556a9c35bf483a814b85604840b2e5": {
      "model_module": "@jupyter-widgets/controls",
      "model_module_version": "1.2.0",
      "model_name": "DescriptionStyleModel",
      "state": {
       "description_width": ""
      }
     },
     "967d6e4a08b54b6a8c9f79d6a8d495ab": {
      "model_module": "@jupyter-widgets/base",
      "model_module_version": "1.0.0",
      "model_name": "LayoutModel",
      "state": {
       "display": "none"
      }
     },
     "96c75463f6154453969f9a34b12ad577": {
      "model_module": "@jupyter-widgets/controls",
      "model_module_version": "1.2.0",
      "model_name": "DescriptionStyleModel",
      "state": {
       "description_width": ""
      }
     },
     "96cc0367d7534bdda87c1689c2577662": {
      "model_module": "@jupyter-widgets/controls",
      "model_module_version": "1.2.0",
      "model_name": "CheckboxModel",
      "state": {
       "description": "Size range",
       "disabled": false,
       "indent": false,
       "layout": "IPY_MODEL_d849f8b455314dd9bff70caa8a14f535",
       "style": "IPY_MODEL_0c124c81a4ff4f639e468eb91b806fcc",
       "value": false
      }
     },
     "96d1269aed614efa9f8cc6f05200bace": {
      "model_module": "@jupyter-widgets/base",
      "model_module_version": "1.0.0",
      "model_name": "LayoutModel",
      "state": {
       "height": "150px",
       "width": "100%"
      }
     },
     "970b112625964fd78495158398671b0e": {
      "model_module": "@jupyter-widgets/controls",
      "model_module_version": "1.2.0",
      "model_name": "DescriptionStyleModel",
      "state": {
       "description_width": ""
      }
     },
     "9740de8672ba4075ba979d71501a1f50": {
      "model_module": "@jupyter-widgets/controls",
      "model_module_version": "1.2.0",
      "model_name": "DescriptionStyleModel",
      "state": {
       "description_width": ""
      }
     },
     "9781822393ab436f832e0374c469d0c8": {
      "model_module": "@jupyter-widgets/base",
      "model_module_version": "1.0.0",
      "model_name": "LayoutModel",
      "state": {
       "display": "flex",
       "flex_flow": "column wrap",
       "width": "66%"
      }
     },
     "97b53a45b6294741ac24415026d69677": {
      "model_module": "@jupyter-widgets/controls",
      "model_module_version": "1.2.0",
      "model_name": "DescriptionStyleModel",
      "state": {
       "description_width": ""
      }
     },
     "97f6d85fbe0b4e66a9a553343ca32256": {
      "model_module": "@jupyter-widgets/base",
      "model_module_version": "1.0.0",
      "model_name": "LayoutModel",
      "state": {}
     },
     "97f9733d2c474b21ba686340313e78ef": {
      "model_module": "@jupyter-widgets/controls",
      "model_module_version": "1.2.0",
      "model_name": "IntRangeSliderModel",
      "state": {
       "_model_name": "IntRangeSliderModel",
       "_view_name": "IntRangeSliderView",
       "layout": "IPY_MODEL_ba4b38a72c384dad96d19ead478c0aba",
       "max": 65535,
       "style": "IPY_MODEL_707a10ea55034a038f0ae84fe286cc49",
       "value": [
        134,
        25393
       ]
      }
     },
     "9859e0a4f72b43af9a1a7f26e9c2eb1d": {
      "model_module": "@jupyter-widgets/base",
      "model_module_version": "1.0.0",
      "model_name": "LayoutModel",
      "state": {
       "height": "150px",
       "width": "100%"
      }
     },
     "98665b49c57f49a196bb7bd30a48840d": {
      "model_module": "@jupyter-widgets/base",
      "model_module_version": "1.0.0",
      "model_name": "LayoutModel",
      "state": {}
     },
     "98a819d500ca469595196e98276ee70c": {
      "model_module": "@jupyter-widgets/base",
      "model_module_version": "1.0.0",
      "model_name": "LayoutModel",
      "state": {
       "width": "100%"
      }
     },
     "98c40fa797494ee994e63aebeff97239": {
      "model_module": "@jupyter-widgets/controls",
      "model_module_version": "1.2.0",
      "model_name": "CheckboxModel",
      "state": {
       "description": "Show loc.",
       "disabled": false,
       "indent": false,
       "layout": "IPY_MODEL_bce89a422b444942868646b14b761ac3",
       "style": "IPY_MODEL_19babbab651e40e7b31d69f0933dcd97",
       "value": true
      }
     },
     "98d89063aebc425cabee62a5f8cf420e": {
      "model_module": "@jupyter-widgets/controls",
      "model_module_version": "1.2.0",
      "model_name": "LabelModel",
      "state": {
       "layout": "IPY_MODEL_912e622704314bf5bdd8598a1a809195",
       "style": "IPY_MODEL_60a9c1ea4c26432ea0ae7fdd3a5c2026",
       "value": "Tracking ctrl-H57/no-cells_SAv-100k_SSS-ctrl-H57-50k_029_.SPE (213/213)"
      }
     },
     "9911ce34f11f43ec81604a8e6e1ae269": {
      "model_module": "@jupyter-widgets/controls",
      "model_module_version": "1.2.0",
      "model_name": "IntTextModel",
      "state": {
       "description": "feat. size",
       "layout": "IPY_MODEL_9071443fbf604febaa69a42219d26e73",
       "step": 1,
       "style": "IPY_MODEL_0bb803444c5846469a6bf6be5e47a7e4",
       "value": 3
      }
     },
     "9947c25988e0400daccfea90915c9ee2": {
      "model_module": "@jupyter-widgets/controls",
      "model_module_version": "1.2.0",
      "model_name": "DescriptionStyleModel",
      "state": {
       "description_width": ""
      }
     },
     "99804c67a2dc4f31b98caced0eb5e5ec": {
      "model_module": "@jupyter-widgets/controls",
      "model_module_version": "1.2.0",
      "model_name": "ButtonModel",
      "state": {
       "description": "Auto",
       "layout": "IPY_MODEL_b2d702bc464b437fa34a4c0765de09df",
       "style": "IPY_MODEL_f8541c4584d14f89aaa0aa54e92e7244"
      }
     },
     "999925651d7242988684fba28c027481": {
      "model_module": "@jupyter-widgets/controls",
      "model_module_version": "1.2.0",
      "model_name": "IntTextModel",
      "state": {
       "description": "feat. size",
       "layout": "IPY_MODEL_3c29b07ceaa2490b940db8fc6f9eff30",
       "step": 1,
       "style": "IPY_MODEL_5294824b870b4d97bf697a93fce654d2",
       "value": 3
      }
     },
     "99ac8c78982f43ed9a357414fce0e531": {
      "model_module": "@jupyter-widgets/controls",
      "model_module_version": "1.2.0",
      "model_name": "VBoxModel",
      "state": {
       "children": [
        "IPY_MODEL_8c4bf6b5ba5a4628b6b2b222f16f06ec",
        "IPY_MODEL_90b98469181e4b4891ca28c13a27c2d8",
        "IPY_MODEL_e1a105091162443aaadaede73df61fab"
       ],
       "layout": "IPY_MODEL_8b1e427c35654164ae46d5138758bafc"
      }
     },
     "99c464f01fd644c0a79237b476adc7af": {
      "model_module": "@jupyter-widgets/controls",
      "model_module_version": "1.2.0",
      "model_name": "DescriptionStyleModel",
      "state": {
       "description_width": ""
      }
     },
     "99ef0f7e3fd24774b0c3d6b38f0814d9": {
      "model_module": "@jupyter-widgets/controls",
      "model_module_version": "1.2.0",
      "model_name": "FloatTextModel",
      "state": {
       "layout": "IPY_MODEL_b4b87d2daf8d4354bc4aeded7bbb337a",
       "step": 0.1,
       "style": "IPY_MODEL_edd9c9425ed94f2195ebe182c687351a",
       "value": 1
      }
     },
     "99f1ee486e0e4c74905797cdf8833326": {
      "model_module": "@jupyter-widgets/base",
      "model_module_version": "1.0.0",
      "model_name": "LayoutModel",
      "state": {
       "display": "flex",
       "flex_flow": "column wrap",
       "width": "66%"
      }
     },
     "9a13d87c2d0e4accaae306bf2e17d6f8": {
      "model_module": "@jupyter-widgets/base",
      "model_module_version": "1.0.0",
      "model_name": "LayoutModel",
      "state": {}
     },
     "9a22aab825cb4dfdb18cfdf79c3177b5": {
      "model_module": "@jupyter-widgets/base",
      "model_module_version": "1.0.0",
      "model_name": "LayoutModel",
      "state": {
       "width": "auto"
      }
     },
     "9a5d6961b2a24084ac1439691cc73a7e": {
      "model_module": "@jupyter-widgets/controls",
      "model_module_version": "1.2.0",
      "model_name": "DescriptionStyleModel",
      "state": {
       "description_width": ""
      }
     },
     "9a5f9e52cc0b433c9be07791633d55fb": {
      "model_module": "@jupyter-widgets/controls",
      "model_module_version": "1.2.0",
      "model_name": "CheckboxModel",
      "state": {
       "description": "Min. distance",
       "disabled": false,
       "indent": false,
       "layout": "IPY_MODEL_b127d2a3cc3541b78a417709177e71a4",
       "style": "IPY_MODEL_fcf38aa1e3444f419749a2291f9d9561",
       "value": false
      }
     },
     "9a954b9891c644eba6660740314c3850": {
      "model_module": "@jupyter-widgets/base",
      "model_module_version": "1.0.0",
      "model_name": "LayoutModel",
      "state": {
       "display": "none"
      }
     },
     "9aca44609f2a49c7bd106e64bd51552d": {
      "model_module": "@jupyter-widgets/controls",
      "model_module_version": "1.2.0",
      "model_name": "DescriptionStyleModel",
      "state": {
       "description_width": ""
      }
     },
     "9aee29ab4cc848afaf842d2d5646e63a": {
      "model_module": "@jupyter-widgets/controls",
      "model_module_version": "1.2.0",
      "model_name": "VBoxModel",
      "state": {
       "children": [
        "IPY_MODEL_c13c87d8a61b400294b808a93d1b5eec",
        "IPY_MODEL_5aa0c9d1e5ab43acb48a9a4b2e234ec2"
       ],
       "layout": "IPY_MODEL_c0cb02d39b9b41a9a00970f9fd86b677"
      }
     },
     "9afd4d9e38e94b159e27835ab50dbb0b": {
      "model_module": "@jupyter-widgets/controls",
      "model_module_version": "1.2.0",
      "model_name": "ButtonModel",
      "state": {
       "description": "Auto",
       "layout": "IPY_MODEL_a5cd9ebb3bbe4ea698491469361608d4",
       "style": "IPY_MODEL_0cd50c8a59d14bb2ba55e998b7433045"
      }
     },
     "9afe321bb7c8441bac36317431dc9236": {
      "model_module": "@jupyter-widgets/base",
      "model_module_version": "1.0.0",
      "model_name": "LayoutModel",
      "state": {
       "width": "auto"
      }
     },
     "9b455933d6b64c72934aae3c812c8039": {
      "model_module": "@jupyter-widgets/base",
      "model_module_version": "1.0.0",
      "model_name": "LayoutModel",
      "state": {}
     },
     "9b53051365464343a586c20b7ee325f3": {
      "model_module": "@jupyter-widgets/base",
      "model_module_version": "1.0.0",
      "model_name": "LayoutModel",
      "state": {}
     },
     "9bae719b9229446abcc2fa83c9e02142": {
      "model_module": "@jupyter-widgets/controls",
      "model_module_version": "1.2.0",
      "model_name": "DescriptionStyleModel",
      "state": {
       "description_width": ""
      }
     },
     "9bd1f3791de44324b6571f819079f9b9": {
      "model_module": "@jupyter-widgets/controls",
      "model_module_version": "1.2.0",
      "model_name": "HBoxModel",
      "state": {
       "children": [
        "IPY_MODEL_694f9df0ed034285af749b747bf2bb72",
        "IPY_MODEL_7d13a996cd214e179de14b9f3f64a524"
       ],
       "layout": "IPY_MODEL_0d6a2440340e489fad4981a43b1605fb"
      }
     },
     "9c1237db10024290bd907058ca89ce61": {
      "model_module": "@jupyter-widgets/base",
      "model_module_version": "1.0.0",
      "model_name": "LayoutModel",
      "state": {
       "display": "none"
      }
     },
     "9c1c69452a7f4e77b69c536b081d48b4": {
      "model_module": "@jupyter-widgets/controls",
      "model_module_version": "1.2.0",
      "model_name": "CheckboxModel",
      "state": {
       "description": "Show loc.",
       "disabled": false,
       "indent": false,
       "layout": "IPY_MODEL_cbaef955669847aea4d6eeda772fc47f",
       "style": "IPY_MODEL_ea337e089ffe4346ad274bae74d547e6",
       "value": true
      }
     },
     "9c53dadb0022460fbbd471c74e179ac7": {
      "model_module": "@jupyter-widgets/base",
      "model_module_version": "1.0.0",
      "model_name": "LayoutModel",
      "state": {
       "display": "none"
      }
     },
     "9c5aa012a6e3431087ea07844a161eb2": {
      "model_module": "@jupyter-widgets/base",
      "model_module_version": "1.0.0",
      "model_name": "LayoutModel",
      "state": {
       "display": "none"
      }
     },
     "9cd8c13726d9400fb744a6ad4f4ee915": {
      "model_module": "@jupyter-widgets/controls",
      "model_module_version": "1.2.0",
      "model_name": "DescriptionStyleModel",
      "state": {
       "description_width": ""
      }
     },
     "9d4a9019dc9c48ee987d1e204cb5dfa8": {
      "model_module": "@jupyter-widgets/controls",
      "model_module_version": "1.2.0",
      "model_name": "DescriptionStyleModel",
      "state": {
       "description_width": ""
      }
     },
     "9d762642fa554e169ab393c2a204d6d9": {
      "model_module": "@jupyter-widgets/base",
      "model_module_version": "1.0.0",
      "model_name": "LayoutModel",
      "state": {
       "display": "none"
      }
     },
     "9dc0b1c84fd74a2b8b39ec91bcc1e1e7": {
      "model_module": "@jupyter-widgets/controls",
      "model_module_version": "1.2.0",
      "model_name": "DropdownModel",
      "state": {
       "_options_labels": [
        "2d_fixed",
        "2d",
        "3d"
       ],
       "description": "model",
       "index": 1,
       "layout": "IPY_MODEL_479b92295e7c465fbafbc723031a2bf4",
       "style": "IPY_MODEL_8a6b8ef7ce7f4b76b1c70a9cbec92a5f"
      }
     },
     "9dc7aaed167b4dd5969d056120e38a5c": {
      "model_module": "@jupyter-widgets/base",
      "model_module_version": "1.0.0",
      "model_name": "LayoutModel",
      "state": {}
     },
     "9df44ccbe9d64083b3a5dcdfa81c50fc": {
      "model_module": "@jupyter-widgets/controls",
      "model_module_version": "1.2.0",
      "model_name": "DescriptionStyleModel",
      "state": {
       "description_width": ""
      }
     },
     "9e11f1e5ce9c4af2b3b3be687dd64a61": {
      "model_module": "@jupyter-widgets/controls",
      "model_module_version": "1.2.0",
      "model_name": "DropdownModel",
      "state": {
       "_options_labels": [
        "2d_fixed",
        "2d",
        "3d"
       ],
       "description": "model",
       "index": 1,
       "layout": "IPY_MODEL_8b6931748a42409d884c4454d3144696",
       "style": "IPY_MODEL_69e2f158e3144f9e8cbbc34f66df13fc"
      }
     },
     "9e4ae6a9292d4d9fbf87d5349ce243a7": {
      "model_module": "@jupyter-widgets/controls",
      "model_module_version": "1.2.0",
      "model_name": "SelectModel",
      "state": {
       "_options_labels": [
        "data/beads/beads_000_.SPE",
        "data/beads/beads_001_.SPE",
        "data/beads/beads_002_.SPE",
        "data/beads/beads_003_.SPE",
        "data/beads/beads_004_.SPE",
        "data/beads/beads_005_.SPE",
        "data/beads/beads_006_.SPE",
        "data/beads/beads_007_.SPE",
        "data/beads/beads_008_.SPE",
        "data/beads/beads_009_.SPE"
       ],
       "index": 0,
       "layout": "IPY_MODEL_4f60f460a5874e3e85ec8d90b8d1d860",
       "style": "IPY_MODEL_80a9910d37f34e0d9f9bca42f24e1a37"
      }
     },
     "9edbea2a76a24bde873325ba6c8d66cb": {
      "model_module": "@jupyter-widgets/controls",
      "model_module_version": "1.2.0",
      "model_name": "DescriptionStyleModel",
      "state": {
       "description_width": ""
      }
     },
     "9eefa54f1b744cc7b4b48ca06b4b0279": {
      "model_module": "@jupyter-widgets/controls",
      "model_module_version": "1.2.0",
      "model_name": "HBoxModel",
      "state": {
       "children": [
        "IPY_MODEL_cf9cc20b63d047b99a04d38292f2ba64",
        "IPY_MODEL_beadb326477547afa2bb70de10978a4d"
       ],
       "layout": "IPY_MODEL_3a6678335a474892a86e82b0edae6bbf"
      }
     },
     "9f26e9bc88f3473ebf794e68fa66a789": {
      "model_module": "@jupyter-widgets/base",
      "model_module_version": "1.0.0",
      "model_name": "LayoutModel",
      "state": {}
     },
     "9f40e8bad80442dcaece2e410a1f9e6f": {
      "model_module": "@jupyter-widgets/controls",
      "model_module_version": "1.2.0",
      "model_name": "VBoxModel",
      "state": {
       "children": [
        "IPY_MODEL_80755e8cd72a466ba04fa2342cc4a2c4",
        "IPY_MODEL_db401807dd224cf9b09e0b6bfce6b878",
        "IPY_MODEL_deb869177dc842ffbca85924bb7b3bac"
       ],
       "layout": "IPY_MODEL_5e229349f7fe437488060da11ce4b070"
      }
     },
     "9f4b337158754cf8a1e15e2ec2c8a65c": {
      "model_module": "@jupyter-widgets/base",
      "model_module_version": "1.0.0",
      "model_name": "LayoutModel",
      "state": {}
     },
     "9f5cec8de4394f3cb422e340329abbd4": {
      "model_module": "@jupyter-widgets/controls",
      "model_module_version": "1.2.0",
      "model_name": "FloatTextModel",
      "state": {
       "layout": "IPY_MODEL_6f8df1c5d88846d986fed676f466cb6c",
       "step": 0.1,
       "style": "IPY_MODEL_09c44b7191ff4e899246f49643253bb7",
       "value": 1
      }
     },
     "9fdbc4fb133d47bdab2d81519a664f88": {
      "model_module": "@jupyter-widgets/controls",
      "model_module_version": "1.2.0",
      "model_name": "DescriptionStyleModel",
      "state": {
       "description_width": ""
      }
     },
     "a00cbf50657b424287aeafdf5cff1a05": {
      "model_module": "@jupyter-widgets/controls",
      "model_module_version": "1.2.0",
      "model_name": "HBoxModel",
      "state": {
       "children": [
        "IPY_MODEL_3a286e7c794c499eabcb6dfa3bf4a97b",
        "IPY_MODEL_99ef0f7e3fd24774b0c3d6b38f0814d9"
       ],
       "layout": "IPY_MODEL_eea8ebc84b0f4de58a6dc8e82012bc74"
      }
     },
     "a07147f711e7440981b4726a70f1a092": {
      "model_module": "@jupyter-widgets/controls",
      "model_module_version": "1.2.0",
      "model_name": "CheckboxModel",
      "state": {
       "description": "Show loc.",
       "disabled": false,
       "indent": false,
       "layout": "IPY_MODEL_3a44ae3acfe44081a8ddc69eca17b29a",
       "style": "IPY_MODEL_b8ea3b7b0dca4273866f1b5b92cca58b",
       "value": true
      }
     },
     "a0868406e0164228a26117e7738fa06a": {
      "model_module": "@jupyter-widgets/controls",
      "model_module_version": "1.2.0",
      "model_name": "FloatTextModel",
      "state": {
       "layout": "IPY_MODEL_8fb4b0fdb7c44e1ab8ed8e86e5f324f2",
       "step": 0.1,
       "style": "IPY_MODEL_1494528ace2c4c4db584278ebb8209ab",
       "value": 1
      }
     },
     "a0931920790f4838a3c589307e70e6ea": {
      "model_module": "@jupyter-widgets/controls",
      "model_module_version": "1.2.0",
      "model_name": "DescriptionStyleModel",
      "state": {
       "description_width": ""
      }
     },
     "a0a29a1f59f34253bb259655681ce3bd": {
      "model_module": "@jupyter-widgets/controls",
      "model_module_version": "1.2.0",
      "model_name": "CheckboxModel",
      "state": {
       "description": "Show loc.",
       "disabled": false,
       "indent": false,
       "layout": "IPY_MODEL_fa9931ed61664d8fa35d9ebc5ad52aab",
       "style": "IPY_MODEL_742747435e2244c88f233fdfbe44a6bb",
       "value": true
      }
     },
     "a0ca00acc0784f1b80786a8d0fc73831": {
      "model_module": "@jupyter-widgets/base",
      "model_module_version": "1.0.0",
      "model_name": "LayoutModel",
      "state": {
       "display": "inline"
      }
     },
     "a0e18e07084b42d091852d2854f659b3": {
      "model_module": "@jupyter-widgets/base",
      "model_module_version": "1.0.0",
      "model_name": "LayoutModel",
      "state": {}
     },
     "a0ee102307534b91900803088036a2c9": {
      "model_module": "@jupyter-widgets/controls",
      "model_module_version": "1.2.0",
      "model_name": "DescriptionStyleModel",
      "state": {
       "description_width": ""
      }
     },
     "a15fe1a85d9e4ec5b001e32cb91d0c65": {
      "model_module": "@jupyter-widgets/base",
      "model_module_version": "1.0.0",
      "model_name": "LayoutModel",
      "state": {}
     },
     "a174c0b7b1b64f9ba03c41e6405c2c14": {
      "model_module": "@jupyter-widgets/base",
      "model_module_version": "1.0.0",
      "model_name": "LayoutModel",
      "state": {
       "display": "none"
      }
     },
     "a1bbc8f26c4e42c4ac4d6fcbc07a0d28": {
      "model_module": "@jupyter-widgets/controls",
      "model_module_version": "1.2.0",
      "model_name": "HBoxModel",
      "state": {
       "children": [
        "IPY_MODEL_72dbc3b77baf4e64be7a12988ac9fa4c",
        "IPY_MODEL_7d37587997e74c4a886352b548618d25",
        "IPY_MODEL_17fffd34af4f439a926cb172a59017fd"
       ],
       "layout": "IPY_MODEL_2a854f57f160446f88868cdfeebd1b15"
      }
     },
     "a1fee939d02b4c3cbeb542df8cf1eb43": {
      "model_module": "@jupyter-widgets/controls",
      "model_module_version": "1.2.0",
      "model_name": "DropdownModel",
      "state": {
       "_options_labels": [
        "2d_fixed",
        "2d",
        "3d"
       ],
       "description": "model",
       "index": 1,
       "layout": "IPY_MODEL_1d9a93a9f6c24b018ce1963bb58d97fe",
       "style": "IPY_MODEL_02a6d4c29bb34dc0bc5e9aed5d5a181c"
      }
     },
     "a2342805aa8d4236af7b0cc074c489bc": {
      "model_module": "@jupyter-widgets/controls",
      "model_module_version": "1.2.0",
      "model_name": "CheckboxModel",
      "state": {
       "description": "Size range",
       "disabled": false,
       "indent": false,
       "layout": "IPY_MODEL_f61688f97ad44722bafc175cd5df1915",
       "style": "IPY_MODEL_1140ea0dbb964fe495fb0ac563e9eb3c",
       "value": false
      }
     },
     "a2391440da5a4bd8a2d990b49a348864": {
      "model_module": "@jupyter-widgets/base",
      "model_module_version": "1.0.0",
      "model_name": "LayoutModel",
      "state": {
       "display": "none"
      }
     },
     "a2616790db824ffeb65d14eceec14934": {
      "model_module": "@jupyter-widgets/base",
      "model_module_version": "1.0.0",
      "model_name": "LayoutModel",
      "state": {
       "width": "auto"
      }
     },
     "a276506d90a345b8bcb85fd8e7f7e8aa": {
      "model_module": "@jupyter-widgets/controls",
      "model_module_version": "1.2.0",
      "model_name": "DropdownModel",
      "state": {
       "_options_labels": [
        "2d_fixed",
        "2d",
        "3d"
       ],
       "description": "model",
       "index": 1,
       "layout": "IPY_MODEL_d6709a2270e74c0eb5c06bd68f74a16c",
       "style": "IPY_MODEL_eb5451efc5f34fe5a9562b3a22bd3ccc"
      }
     },
     "a28c038042c54aa189617d6ce8c023b4": {
      "model_module": "@jupyter-widgets/controls",
      "model_module_version": "1.2.0",
      "model_name": "FloatTextModel",
      "state": {
       "description": "threshold",
       "layout": "IPY_MODEL_d5d2422e7b104a0e914acbd0deb93f42",
       "step": 10,
       "style": "IPY_MODEL_63a3ba1e33884d798eaae807bb0dc402",
       "value": 100
      }
     },
     "a291137d07614d41942fc48dc043ba1e": {
      "model_module": "@jupyter-widgets/controls",
      "model_module_version": "1.2.0",
      "model_name": "DescriptionStyleModel",
      "state": {
       "description_width": ""
      }
     },
     "a29e98e632534b93a0297f84f985a715": {
      "model_module": "@jupyter-widgets/controls",
      "model_module_version": "1.2.0",
      "model_name": "DropdownModel",
      "state": {
       "_options_labels": [
        "2d_fixed",
        "2d",
        "3d"
       ],
       "description": "model",
       "index": 1,
       "layout": "IPY_MODEL_698c4945726d457796659ad3bcebc0a7",
       "style": "IPY_MODEL_d46998510eb243148f4ee26efbf2e7c7"
      }
     },
     "a2a42213226e42ce8bcd22c543fd9505": {
      "model_module": "@jupyter-widgets/controls",
      "model_module_version": "1.2.0",
      "model_name": "DropdownModel",
      "state": {
       "_options_labels": [
        "2d_fixed",
        "2d",
        "3d"
       ],
       "description": "model",
       "index": 1,
       "layout": "IPY_MODEL_cfb64c186bc4449b9bc297a976404885",
       "style": "IPY_MODEL_fb224f5830d64ae0b1b5740e8d1697e3"
      }
     },
     "a2c461319e1f437fb7a80bfae2b804fd": {
      "model_module": "@jupyter-widgets/controls",
      "model_module_version": "1.2.0",
      "model_name": "IntTextModel",
      "state": {
       "description": "feat. size",
       "layout": "IPY_MODEL_c1efcae4c8094bcfaffe2b2e7f27bf45",
       "step": 1,
       "style": "IPY_MODEL_56942cc7612b425c87cf5ac589735428",
       "value": 3
      }
     },
     "a335da71e80246ae9495b090f1d55e3d": {
      "model_module": "@jupyter-widgets/controls",
      "model_module_version": "1.2.0",
      "model_name": "DescriptionStyleModel",
      "state": {
       "description_width": ""
      }
     },
     "a361a63fde3643099fd6c21149f906fc": {
      "model_module": "@jupyter-widgets/controls",
      "model_module_version": "1.2.0",
      "model_name": "CheckboxModel",
      "state": {
       "description": "Size range",
       "disabled": false,
       "indent": false,
       "layout": "IPY_MODEL_82583e58509042368bf8c21bee5086e4",
       "style": "IPY_MODEL_af28a585ea7c4131b6d9a7d34018875f",
       "value": false
      }
     },
     "a3d10057cfce4fd59e9e4ac70cd279fa": {
      "model_module": "@jupyter-widgets/controls",
      "model_module_version": "1.2.0",
      "model_name": "FloatTextModel",
      "state": {
       "description": "threshold",
       "layout": "IPY_MODEL_9b455933d6b64c72934aae3c812c8039",
       "step": 10,
       "style": "IPY_MODEL_27bf2951473a4cca94241d9317e7848f",
       "value": 100
      }
     },
     "a40f15a73d6e4d00bb1f193a2595e695": {
      "model_module": "@jupyter-widgets/controls",
      "model_module_version": "1.2.0",
      "model_name": "DescriptionStyleModel",
      "state": {
       "description_width": ""
      }
     },
     "a431992d061d4c7fa482f577ee2b5f45": {
      "model_module": "@jupyter-widgets/controls",
      "model_module_version": "1.2.0",
      "model_name": "HBoxModel",
      "state": {
       "children": [
        "IPY_MODEL_34934ccbd56f4acbbdc9e1b907e98de6",
        "IPY_MODEL_7caf946b93e8415dbb5cfded06c588a9"
       ],
       "layout": "IPY_MODEL_7737dfaaec96414183ebf6cf4492783d"
      }
     },
     "a44058bc020a4cfabeacab01e0c69d3c": {
      "model_module": "@jupyter-widgets/controls",
      "model_module_version": "1.2.0",
      "model_name": "DescriptionStyleModel",
      "state": {
       "description_width": ""
      }
     },
     "a454f90010344f9da575044b7c3b7350": {
      "model_module": "@jupyter-widgets/base",
      "model_module_version": "1.0.0",
      "model_name": "LayoutModel",
      "state": {
       "border": "1px solid gray"
      }
     },
     "a479a55c7f3942fcb26410dc9f27870b": {
      "model_module": "@jupyter-widgets/controls",
      "model_module_version": "1.2.0",
      "model_name": "HBoxModel",
      "state": {
       "children": [
        "IPY_MODEL_fd7fe18ee1144d149ef454af8aed54f3",
        "IPY_MODEL_58667e49450448c6ae4c9a2f36f38b12"
       ],
       "layout": "IPY_MODEL_aae6a9f7c9b244fc8b20d7abaf74c191"
      }
     },
     "a4eecdd6eac148078794d26ec458ae2d": {
      "model_module": "@jupyter-widgets/controls",
      "model_module_version": "1.2.0",
      "model_name": "DescriptionStyleModel",
      "state": {
       "description_width": ""
      }
     },
     "a553962993694475941cc6124c45b647": {
      "model_module": "@jupyter-widgets/controls",
      "model_module_version": "1.2.0",
      "model_name": "HBoxModel",
      "state": {
       "children": [
        "IPY_MODEL_c6ad2c66e23145308004adb901174003",
        "IPY_MODEL_cb1c51b664d0470b879f08c7b64b382b"
       ],
       "layout": "IPY_MODEL_de8dd318d68f4b1eb8d39594928fba54"
      }
     },
     "a55b747a6bb54df489ee9ab51b54ae2f": {
      "model_module": "@jupyter-widgets/controls",
      "model_module_version": "1.2.0",
      "model_name": "CheckboxModel",
      "state": {
       "description": "Show loc.",
       "disabled": false,
       "indent": false,
       "layout": "IPY_MODEL_f80518817c07475ebeb84494733c55da",
       "style": "IPY_MODEL_96556a9c35bf483a814b85604840b2e5",
       "value": true
      }
     },
     "a58f4de4e10b4df4b9eb9fcf4feaf163": {
      "model_module": "@jupyter-widgets/base",
      "model_module_version": "1.0.0",
      "model_name": "LayoutModel",
      "state": {
       "width": "75%"
      }
     },
     "a5aef452aafc4979844c1c9e82fbe0db": {
      "model_module": "@jupyter-widgets/base",
      "model_module_version": "1.0.0",
      "model_name": "LayoutModel",
      "state": {}
     },
     "a5cd9ebb3bbe4ea698491469361608d4": {
      "model_module": "@jupyter-widgets/base",
      "model_module_version": "1.0.0",
      "model_name": "LayoutModel",
      "state": {}
     },
     "a5faeb5167ce47aea07efeb2e4a37cb7": {
      "model_module": "@jupyter-widgets/base",
      "model_module_version": "1.0.0",
      "model_name": "LayoutModel",
      "state": {
       "width": "75%"
      }
     },
     "a60a97a0997c4d61b56ed21f67dcdefa": {
      "model_module": "@jupyter-widgets/controls",
      "model_module_version": "1.2.0",
      "model_name": "CheckboxModel",
      "state": {
       "description": "Min. distance",
       "disabled": false,
       "indent": false,
       "layout": "IPY_MODEL_6d9ccba62da34714aca5f29ab9d4256c",
       "style": "IPY_MODEL_dba461e27a4f420da9fd5af4a5ee2dad",
       "value": false
      }
     },
     "a618d0b1bf9a4b6aaebbc4f56e910f8c": {
      "model_module": "@jupyter-widgets/base",
      "model_module_version": "1.0.0",
      "model_name": "LayoutModel",
      "state": {
       "width": "100%"
      }
     },
     "a643a4f08ce6486db2394f0d1673dd82": {
      "model_module": "@jupyter-widgets/base",
      "model_module_version": "1.0.0",
      "model_name": "LayoutModel",
      "state": {}
     },
     "a675c0c565574b6c8ceef6ac7ba5fbdc": {
      "model_module": "@jupyter-widgets/controls",
      "model_module_version": "1.2.0",
      "model_name": "FloatTextModel",
      "state": {
       "layout": "IPY_MODEL_0556af0fe8ce4c26887e936312cfee70",
       "step": 0.1,
       "style": "IPY_MODEL_04c134ec844f48518c4d43fadfc470b3",
       "value": 3
      }
     },
     "a6b8d0b30c6f4db184ed57078f711dff": {
      "model_module": "@jupyter-widgets/controls",
      "model_module_version": "1.2.0",
      "model_name": "BoundedIntTextModel",
      "state": {
       "description": "frame",
       "layout": "IPY_MODEL_eb85ee028e3b458b8c9f8e8945f5c950",
       "max": 49,
       "style": "IPY_MODEL_b58c8e2dcd0749fa99d7f25245da27a6"
      }
     },
     "a6d5cfc2bb1e4c3e8d2347b6facee790": {
      "model_module": "@jupyter-widgets/controls",
      "model_module_version": "1.2.0",
      "model_name": "DescriptionStyleModel",
      "state": {
       "description_width": ""
      }
     },
     "a793d2ff390c4cba8bba9a04ce7027fe": {
      "model_module": "@jupyter-widgets/controls",
      "model_module_version": "1.2.0",
      "model_name": "VBoxModel",
      "state": {
       "children": [
        "IPY_MODEL_bac1451325334616913ac648bdb007ff",
        "IPY_MODEL_87045e7c7a47485aa63dffd08040e2e1",
        "IPY_MODEL_f98ecea191d3469782b2fd05a91a4d66"
       ],
       "layout": "IPY_MODEL_1f95ca0f70c84935abba32f323d60216"
      }
     },
     "a79415927e1b4f129298f428353c8c70": {
      "model_module": "@jupyter-widgets/controls",
      "model_module_version": "1.2.0",
      "model_name": "DescriptionStyleModel",
      "state": {
       "description_width": ""
      }
     },
     "a7a93a3b5db14745a107ee7357a57a81": {
      "model_module": "@jupyter-widgets/base",
      "model_module_version": "1.0.0",
      "model_name": "LayoutModel",
      "state": {
       "display": "inline"
      }
     },
     "a7b19d4cf67e478589baafdeccf11344": {
      "model_module": "@jupyter-widgets/base",
      "model_module_version": "1.0.0",
      "model_name": "LayoutModel",
      "state": {
       "width": "auto"
      }
     },
     "a81a0c263b504dd097171b652cc38c56": {
      "model_module": "@jupyter-widgets/controls",
      "model_module_version": "1.2.0",
      "model_name": "DescriptionStyleModel",
      "state": {
       "description_width": ""
      }
     },
     "a83193a683334498a1967275c84acf79": {
      "model_module": "@jupyter-widgets/base",
      "model_module_version": "1.0.0",
      "model_name": "LayoutModel",
      "state": {}
     },
     "a83984f400c94bf6991daf533bb787bc": {
      "model_module": "@jupyter-widgets/controls",
      "model_module_version": "1.2.0",
      "model_name": "DescriptionStyleModel",
      "state": {
       "description_width": ""
      }
     },
     "a84219f788e443978c802281362621b5": {
      "model_module": "@jupyter-widgets/controls",
      "model_module_version": "1.2.0",
      "model_name": "FloatTextModel",
      "state": {
       "description": "radius",
       "layout": "IPY_MODEL_b7023a71516749418cd7b2acb31271a9",
       "step": 0.1,
       "style": "IPY_MODEL_41611cfe916d449eadd94ee06d3f57ae",
       "value": 1
      }
     },
     "a85f8868bd72443da6283c84785b6859": {
      "model_module": "@jupyter-widgets/base",
      "model_module_version": "1.0.0",
      "model_name": "LayoutModel",
      "state": {
       "display": "flex",
       "flex_flow": "column wrap",
       "width": "66%"
      }
     },
     "a8abbba0df0447ceb63ab913a797ce58": {
      "model_module": "@jupyter-widgets/controls",
      "model_module_version": "1.2.0",
      "model_name": "DescriptionStyleModel",
      "state": {
       "description_width": ""
      }
     },
     "a8c5946410a84233bcdf6b08b34dc3b3": {
      "model_module": "@jupyter-widgets/controls",
      "model_module_version": "1.2.0",
      "model_name": "FloatTextModel",
      "state": {
       "layout": "IPY_MODEL_1b620fd859a4480aa4f9e4c1eb031eb2",
       "step": 0.1,
       "style": "IPY_MODEL_916639153d57402f8b01fece3aade51d",
       "value": 1
      }
     },
     "a90c2c8136e54153aa578afefecb3ab1": {
      "model_module": "@jupyter-widgets/controls",
      "model_module_version": "1.2.0",
      "model_name": "DescriptionStyleModel",
      "state": {
       "description_width": ""
      }
     },
     "a9260d6530984155b08468659eee60ce": {
      "model_module": "@jupyter-widgets/controls",
      "model_module_version": "1.2.0",
      "model_name": "DescriptionStyleModel",
      "state": {
       "description_width": ""
      }
     },
     "a9344fbbc27443ecac484dfacd381265": {
      "model_module": "@jupyter-widgets/base",
      "model_module_version": "1.0.0",
      "model_name": "LayoutModel",
      "state": {}
     },
     "a93b0a99d293436297cf9bc57e0df4a6": {
      "model_module": "@jupyter-widgets/controls",
      "model_module_version": "1.2.0",
      "model_name": "DescriptionStyleModel",
      "state": {
       "description_width": ""
      }
     },
     "a9736066e5df4dcb9013c7a3c1688f78": {
      "model_module": "@jupyter-widgets/base",
      "model_module_version": "1.0.0",
      "model_name": "LayoutModel",
      "state": {}
     },
     "a9760e5cf2bb431e8291b5dd00bdc839": {
      "model_module": "@jupyter-widgets/base",
      "model_module_version": "1.0.0",
      "model_name": "LayoutModel",
      "state": {}
     },
     "a9d796c2935e4d48abfdfad8b2f07230": {
      "model_module": "@jupyter-widgets/base",
      "model_module_version": "1.0.0",
      "model_name": "LayoutModel",
      "state": {}
     },
     "a9d8db04f91f4a78885048e47fe7d975": {
      "model_module": "@jupyter-widgets/controls",
      "model_module_version": "1.2.0",
      "model_name": "FloatTextModel",
      "state": {
       "description": "radius",
       "layout": "IPY_MODEL_56a93a526453438f85be87de8c7470af",
       "step": 0.1,
       "style": "IPY_MODEL_6c4e0987eca84a5ba2cc1653427be79d",
       "value": 1
      }
     },
     "a9e6897cc4c3469b8c7059a067a847ea": {
      "model_module": "@jupyter-widgets/base",
      "model_module_version": "1.0.0",
      "model_name": "LayoutModel",
      "state": {
       "display": "flex",
       "flex_flow": "column wrap",
       "width": "66%"
      }
     },
     "aa24ebdabe454b5c926dedbd4652a7a5": {
      "model_module": "@jupyter-widgets/base",
      "model_module_version": "1.0.0",
      "model_name": "LayoutModel",
      "state": {
       "display": "none"
      }
     },
     "aa3ff12a54e4489591f72079127925f6": {
      "model_module": "@jupyter-widgets/base",
      "model_module_version": "1.0.0",
      "model_name": "LayoutModel",
      "state": {
       "width": "75%"
      }
     },
     "aa6ef432ab714360a1cccccddab24adf": {
      "model_module": "@jupyter-widgets/controls",
      "model_module_version": "1.2.0",
      "model_name": "FloatTextModel",
      "state": {
       "description": "threshold",
       "layout": "IPY_MODEL_cef17bc089aa4519b8aa5b0bc6fb5d77",
       "step": 10,
       "style": "IPY_MODEL_1f3056b0d82a448ebd9388e035c6b2eb",
       "value": 100
      }
     },
     "aa920e2886b64ce897d166dfe6ce7210": {
      "model_module": "@jupyter-widgets/base",
      "model_module_version": "1.0.0",
      "model_name": "LayoutModel",
      "state": {}
     },
     "aac67a092b404f4aa3513c7206fd2402": {
      "model_module": "@jupyter-widgets/controls",
      "model_module_version": "1.2.0",
      "model_name": "DescriptionStyleModel",
      "state": {
       "description_width": ""
      }
     },
     "aac9f45b45844ebead78d0105e3ee8bd": {
      "model_module": "@jupyter-widgets/controls",
      "model_module_version": "1.2.0",
      "model_name": "VBoxModel",
      "state": {
       "children": [
        "IPY_MODEL_f5fd633cce704a5986281c8d09df9bd9",
        "IPY_MODEL_856b29a83bc644f7b2b4e017960d1da3",
        "IPY_MODEL_b652dfbfd4214265ae3872e3f49c3b2f"
       ],
       "layout": "IPY_MODEL_ed7a81a126de4e08aa3a55b3e4fbfa4a"
      }
     },
     "aae6a9f7c9b244fc8b20d7abaf74c191": {
      "model_module": "@jupyter-widgets/base",
      "model_module_version": "1.0.0",
      "model_name": "LayoutModel",
      "state": {}
     },
     "aaef252f0f904c65bc3b1539ec5fda60": {
      "model_module": "@jupyter-widgets/controls",
      "model_module_version": "1.2.0",
      "model_name": "ButtonModel",
      "state": {
       "description": "Auto",
       "layout": "IPY_MODEL_2e8e52ae825e4c72986f6383f0aa0290",
       "style": "IPY_MODEL_b22e372906214ee5bb3d1007a4ccbdd6"
      }
     },
     "aaf69e05d407466fbe2eec239cc90280": {
      "model_module": "@jupyter-widgets/controls",
      "model_module_version": "1.2.0",
      "model_name": "FloatTextModel",
      "state": {
       "layout": "IPY_MODEL_07ac523a740a4fe68f24c1ab8535c730",
       "step": 0.1,
       "style": "IPY_MODEL_63c9ca94d8f84582ab880606d1851611",
       "value": 3
      }
     },
     "ab0cfbb92b6340f883a10373a0455392": {
      "model_module": "@jupyter-widgets/base",
      "model_module_version": "1.0.0",
      "model_name": "LayoutModel",
      "state": {
       "width": "auto"
      }
     },
     "ab316c8c91c44fa8aaa0cc813e57bfe0": {
      "model_module": "@jupyter-widgets/controls",
      "model_module_version": "1.2.0",
      "model_name": "VBoxModel",
      "state": {
       "children": [
        "IPY_MODEL_90a2efcdf54e436a95a036eb331dd6a6",
        "IPY_MODEL_7972ade17a9549aca2c729e88c1deecb",
        "IPY_MODEL_71ef8416d5164e26ad13d386265fb786"
       ],
       "layout": "IPY_MODEL_b779a4a37c6a4f399fb21a145bd6c38d"
      }
     },
     "ab4925d5106d478c95c5b37f1be7b6bc": {
      "model_module": "@jupyter-widgets/base",
      "model_module_version": "1.0.0",
      "model_name": "LayoutModel",
      "state": {
       "display": "flex",
       "flex_flow": "column wrap",
       "width": "66%"
      }
     },
     "ab78fe67db564683aec5835c7ecaa972": {
      "model_module": "@jupyter-widgets/controls",
      "model_module_version": "1.2.0",
      "model_name": "VBoxModel",
      "state": {
       "children": [
        "IPY_MODEL_8b26a592718c432381544ef50f1238c4",
        "IPY_MODEL_25609cd00cca4ad98a9f3d96ba3f9412",
        "IPY_MODEL_add3755b7dd04b8e9e54749f1f181aec"
       ],
       "layout": "IPY_MODEL_f2ae8795066b405d86ad6b62f338983a"
      }
     },
     "ab7a3e29338d4fde9471734de2214b6e": {
      "model_module": "@jupyter-widgets/base",
      "model_module_version": "1.0.0",
      "model_name": "LayoutModel",
      "state": {
       "display": "none"
      }
     },
     "ab8027fd81ce4cda9ea2e480101f6eda": {
      "model_module": "@jupyter-widgets/base",
      "model_module_version": "1.0.0",
      "model_name": "LayoutModel",
      "state": {}
     },
     "ab9309422cca470bb40a7c6d6ff4ef70": {
      "model_module": "@jupyter-widgets/controls",
      "model_module_version": "1.2.0",
      "model_name": "VBoxModel",
      "state": {
       "children": [
        "IPY_MODEL_e5f0b576dc474a79ba6dde69d2627e1e",
        "IPY_MODEL_9133c6044fa44763a8e9ed3a2cfc66c3",
        "IPY_MODEL_78a71abb23fb4f6a898bd1072b249131",
        "IPY_MODEL_50e9cd4466bc4c1da5b227a6467de70f",
        "IPY_MODEL_8cd31a6c9ff0466295c9f5b4db86a38d",
        "IPY_MODEL_c22b5f9b02324eb09eefa0fc3f053283"
       ],
       "layout": "IPY_MODEL_586359d9189148bc9b1870a5c0af9a02"
      }
     },
     "ac27177f41674d4e942fc6991d3fdff7": {
      "model_module": "@jupyter-widgets/controls",
      "model_module_version": "1.2.0",
      "model_name": "VBoxModel",
      "state": {
       "children": [
        "IPY_MODEL_4d29cd8e3b554f8a9af88a5ba888ffda",
        "IPY_MODEL_4698a6c0fe5f48868743f31af7dd1220",
        "IPY_MODEL_f17b48ffaafc4ac482e8809faaa834a8"
       ],
       "layout": "IPY_MODEL_b1cf244382884cc7b7b60059c2176e36"
      }
     },
     "ac3eb350b9ab429188d86a4f3b37e9c2": {
      "model_module": "@jupyter-widgets/base",
      "model_module_version": "1.0.0",
      "model_name": "LayoutModel",
      "state": {}
     },
     "acce2284551349c9bd0cb28aadc0ed58": {
      "model_module": "@jupyter-widgets/controls",
      "model_module_version": "1.2.0",
      "model_name": "DescriptionStyleModel",
      "state": {
       "description_width": ""
      }
     },
     "ad09e136c24c4419a07750758267dfd3": {
      "model_module": "@jupyter-widgets/controls",
      "model_module_version": "1.2.0",
      "model_name": "DropdownModel",
      "state": {
       "_options_labels": [
        "2d_fixed",
        "2d",
        "3d"
       ],
       "description": "model",
       "index": 1,
       "layout": "IPY_MODEL_0f6bb27f3b3e40e092dfb62abeb2476e",
       "style": "IPY_MODEL_200dd839b47e41ef964f190f00578135"
      }
     },
     "ad174e487e694b738f5f19e1e7128916": {
      "model_module": "@jupyter-widgets/controls",
      "model_module_version": "1.2.0",
      "model_name": "SliderStyleModel",
      "state": {
       "description_width": ""
      }
     },
     "ad796e7bca5a42e5a14af119f386b4f3": {
      "model_module": "@jupyter-widgets/controls",
      "model_module_version": "1.2.0",
      "model_name": "DescriptionStyleModel",
      "state": {
       "description_width": ""
      }
     },
     "ad7c1958d6964ab58ec5e260e9d13ef0": {
      "model_module": "@jupyter-widgets/controls",
      "model_module_version": "1.2.0",
      "model_name": "IntTextModel",
      "state": {
       "description": "feat. size",
       "layout": "IPY_MODEL_0957f0c2e0354c03bd87e808879cf3bb",
       "step": 1,
       "style": "IPY_MODEL_b835c5938556463d920bf178b1a8a77c",
       "value": 3
      }
     },
     "ad98c99d4b8a46948c2eb85e97d210f9": {
      "model_module": "@jupyter-widgets/controls",
      "model_module_version": "1.2.0",
      "model_name": "FloatTextModel",
      "state": {
       "layout": "IPY_MODEL_ed663a271ac945caa0969117f52a1111",
       "step": 0.1,
       "style": "IPY_MODEL_418ef43b5cf14e65bdf7ce484ec89c54",
       "value": 1
      }
     },
     "adc6e4587a314fd8afcde5d140a8acc1": {
      "model_module": "@jupyter-widgets/controls",
      "model_module_version": "1.2.0",
      "model_name": "CheckboxModel",
      "state": {
       "description": "Show loc.",
       "disabled": false,
       "indent": false,
       "layout": "IPY_MODEL_d8fd62f4c0324903a98d8f21f1eff2af",
       "style": "IPY_MODEL_b1310b209e714acd9df2b8ec60946b3c",
       "value": true
      }
     },
     "add3755b7dd04b8e9e54749f1f181aec": {
      "model_module": "@jupyter-widgets/controls",
      "model_module_version": "1.2.0",
      "model_name": "FloatTextModel",
      "state": {
       "description": "sigma",
       "layout": "IPY_MODEL_944e2ebea9424aefbe1005fbcfdc0b3d",
       "step": 0.1,
       "style": "IPY_MODEL_5777eed6f9d64683b752e06b8cf63243",
       "value": 1
      }
     },
     "ade9ee4d1be045f1af7d9360b08c544c": {
      "model_module": "@jupyter-widgets/controls",
      "model_module_version": "1.2.0",
      "model_name": "SliderStyleModel",
      "state": {
       "description_width": ""
      }
     },
     "adf40acda44f4b9b85e18c7a602df93c": {
      "model_module": "@jupyter-widgets/controls",
      "model_module_version": "1.2.0",
      "model_name": "SelectModel",
      "state": {
       "_options_labels": [
        "data/sensor-H57/cells-01_SAv-100k_SSS-H57-20k_000_.SPE"
       ],
       "index": 0,
       "layout": "IPY_MODEL_516609ad462b4649afa9d23010368a53",
       "style": "IPY_MODEL_07cc9f950bd74e1d9b27e3b600f67ccb"
      }
     },
     "adfdf5b3e7044e60872eefbde244317a": {
      "model_module": "@jupyter-widgets/controls",
      "model_module_version": "1.2.0",
      "model_name": "FloatTextModel",
      "state": {
       "description": "threshold",
       "layout": "IPY_MODEL_9f4b337158754cf8a1e15e2ec2c8a65c",
       "step": 10,
       "style": "IPY_MODEL_5a1aa8b1ede248a887870215d096f71d",
       "value": 1000
      }
     },
     "ae7455f6b3494419b28dabed380516af": {
      "model_module": "@jupyter-widgets/base",
      "model_module_version": "1.0.0",
      "model_name": "LayoutModel",
      "state": {
       "width": "auto"
      }
     },
     "aeb82f103bde45f8ae48a0a3293218f8": {
      "model_module": "@jupyter-widgets/controls",
      "model_module_version": "1.2.0",
      "model_name": "DropdownModel",
      "state": {
       "_options_labels": [
        "Identity",
        "Cg",
        "Gaussian"
       ],
       "description": "find filter",
       "index": 1,
       "layout": "IPY_MODEL_774d43ce07db4ff38546dd8ec2622df9",
       "style": "IPY_MODEL_7928f9a9bda5464cb6f4dab76da972f9"
      }
     },
     "aec25161b34c4d5fa2495d37dd0b009c": {
      "model_module": "@jupyter-widgets/controls",
      "model_module_version": "1.2.0",
      "model_name": "VBoxModel",
      "state": {
       "children": [
        "IPY_MODEL_f0c7bb441e6e4b528f534b973d41fad0",
        "IPY_MODEL_4ec6270cc8024ca6bade21b9603b062e",
        "IPY_MODEL_1d23768466ae4cfeb64921711ebe49d4"
       ],
       "layout": "IPY_MODEL_56f43e719b054d2db0d43b41318a43e8"
      }
     },
     "af11b20f3d1b467485ef89404c0582c5": {
      "model_module": "@jupyter-widgets/controls",
      "model_module_version": "1.2.0",
      "model_name": "ButtonStyleModel",
      "state": {}
     },
     "af28a585ea7c4131b6d9a7d34018875f": {
      "model_module": "@jupyter-widgets/controls",
      "model_module_version": "1.2.0",
      "model_name": "DescriptionStyleModel",
      "state": {
       "description_width": ""
      }
     },
     "af51c9e9fc354008b987e9c52a9283c8": {
      "model_module": "@jupyter-widgets/base",
      "model_module_version": "1.0.0",
      "model_name": "LayoutModel",
      "state": {
       "display": "none"
      }
     },
     "af56442840da4d8791c2372861416b99": {
      "model_module": "@jupyter-widgets/base",
      "model_module_version": "1.0.0",
      "model_name": "LayoutModel",
      "state": {}
     },
     "af599191dcb649338ccbb3cea8cfeb03": {
      "model_module": "@jupyter-widgets/controls",
      "model_module_version": "1.2.0",
      "model_name": "DescriptionStyleModel",
      "state": {
       "description_width": ""
      }
     },
     "af5d88a7eb814276beaffbf600ae6e4b": {
      "model_module": "@jupyter-widgets/controls",
      "model_module_version": "1.2.0",
      "model_name": "DescriptionStyleModel",
      "state": {
       "description_width": ""
      }
     },
     "af64b99d6b9649ab87b51d9c15fe0a49": {
      "model_module": "@jupyter-widgets/controls",
      "model_module_version": "1.2.0",
      "model_name": "DescriptionStyleModel",
      "state": {
       "description_width": ""
      }
     },
     "af70af434bc9431d86af759864a3265d": {
      "model_module": "@jupyter-widgets/base",
      "model_module_version": "1.0.0",
      "model_name": "LayoutModel",
      "state": {}
     },
     "afaef695b4f84a9ba5b3a032d0002d6a": {
      "model_module": "@jupyter-widgets/controls",
      "model_module_version": "1.2.0",
      "model_name": "FloatTextModel",
      "state": {
       "description": "max.",
       "layout": "IPY_MODEL_bd1cc151eca24bbcb96a7671dcc39bda",
       "step": 0.1,
       "style": "IPY_MODEL_f5e5284b9f6043f9be08bc62e6dc4550",
       "value": 2
      }
     },
     "afd8f7afc04843c29bffdb3506bacc65": {
      "model_module": "@jupyter-widgets/controls",
      "model_module_version": "1.2.0",
      "model_name": "ButtonStyleModel",
      "state": {}
     },
     "b0276e39446a4fa1a4730e98a1c01134": {
      "model_module": "@jupyter-widgets/base",
      "model_module_version": "1.0.0",
      "model_name": "LayoutModel",
      "state": {}
     },
     "b0548108bf3e474497118511fe530bc2": {
      "model_module": "@jupyter-widgets/controls",
      "model_module_version": "1.2.0",
      "model_name": "LabelModel",
      "state": {
       "layout": "IPY_MODEL_3b6207d8c3734ff4a52804ea21713787",
       "style": "IPY_MODEL_31d34257a2ee401792e9a3e78ae01804",
       "value": "Locating sensor-H57/cells-01_SAv-100k_SSS-H57-20k_000_.SPE (1/213)"
      }
     },
     "b0a36d5dd029428f8cc9b3cd853c1150": {
      "model_module": "@jupyter-widgets/controls",
      "model_module_version": "1.2.0",
      "model_name": "ButtonModel",
      "state": {
       "description": "Auto",
       "layout": "IPY_MODEL_c46bff04e59e428ab26ff8f5898b4277",
       "style": "IPY_MODEL_b64b2a850a8548d383e5d93c5c00ba3c"
      }
     },
     "b0ad7d4c9d6044dbbfe153dfafc6f50d": {
      "model_module": "@jupyter-widgets/controls",
      "model_module_version": "1.2.0",
      "model_name": "DescriptionStyleModel",
      "state": {
       "description_width": ""
      }
     },
     "b0cd287641f84a2a9d05a74793931579": {
      "model_module": "@jupyter-widgets/base",
      "model_module_version": "1.0.0",
      "model_name": "LayoutModel",
      "state": {
       "display": "none"
      }
     },
     "b0ef45ddc9b64ae4b529c290407ec1f0": {
      "model_module": "@jupyter-widgets/controls",
      "model_module_version": "1.2.0",
      "model_name": "VBoxModel",
      "state": {
       "children": [
        "IPY_MODEL_336b38e4ea08432b992707580e7d2533",
        "IPY_MODEL_ad7c1958d6964ab58ec5e260e9d13ef0",
        "IPY_MODEL_f929a9aa1d494f3a8c566832e123b363"
       ],
       "layout": "IPY_MODEL_b0ff7ca2223747d98d4f405008951732"
      }
     },
     "b0ff7ca2223747d98d4f405008951732": {
      "model_module": "@jupyter-widgets/base",
      "model_module_version": "1.0.0",
      "model_name": "LayoutModel",
      "state": {
       "border": "1px solid gray"
      }
     },
     "b119cccce6db485a8e1605a68bb63731": {
      "model_module": "@jupyter-widgets/controls",
      "model_module_version": "1.2.0",
      "model_name": "ButtonModel",
      "state": {
       "description": "Auto",
       "layout": "IPY_MODEL_3a5f65ba7775490d93465572747b1696",
       "style": "IPY_MODEL_f5701a9022c04a45b9a0a14f05bef641"
      }
     },
     "b127d2a3cc3541b78a417709177e71a4": {
      "model_module": "@jupyter-widgets/base",
      "model_module_version": "1.0.0",
      "model_name": "LayoutModel",
      "state": {
       "width": "auto"
      }
     },
     "b1310b209e714acd9df2b8ec60946b3c": {
      "model_module": "@jupyter-widgets/controls",
      "model_module_version": "1.2.0",
      "model_name": "DescriptionStyleModel",
      "state": {
       "description_width": ""
      }
     },
     "b147a80af23a4223aacd3ed579ee9f5e": {
      "model_module": "@jupyter-widgets/controls",
      "model_module_version": "1.2.0",
      "model_name": "VBoxModel",
      "state": {
       "children": [
        "IPY_MODEL_8ff9e205eed647399c279ffee532336f",
        "IPY_MODEL_4b594de80bf942c586a34574b8757370",
        "IPY_MODEL_cbbf4f3774dd4928a04f102af72f0867"
       ],
       "layout": "IPY_MODEL_8fdb88a13c5d4aaa8ea7127d2a7dbebf"
      }
     },
     "b15e46d5fa8e48069163d3f58c7cd47d": {
      "model_module": "@jupyter-widgets/controls",
      "model_module_version": "1.2.0",
      "model_name": "DescriptionStyleModel",
      "state": {
       "description_width": ""
      }
     },
     "b16d9594fe5a47168157f57fb07b841f": {
      "model_module": "@jupyter-widgets/controls",
      "model_module_version": "1.2.0",
      "model_name": "LabelModel",
      "state": {
       "layout": "IPY_MODEL_fe7aa9ae9108443ebd19cd104096ac50",
       "style": "IPY_MODEL_166ed19e9e3f4f61ab800553362c811b",
       "value": "Calculating FRET values ctrl-H57/no-cells_SAv-100k_SSS-ctrl-H57-50k_029_.SPE (213/213)"
      }
     },
     "b16e5eb0bf554c65b74a24feb96709a8": {
      "model_module": "@jupyter-widgets/base",
      "model_module_version": "1.0.0",
      "model_name": "LayoutModel",
      "state": {
       "width": "auto"
      }
     },
     "b1cf244382884cc7b7b60059c2176e36": {
      "model_module": "@jupyter-widgets/base",
      "model_module_version": "1.0.0",
      "model_name": "LayoutModel",
      "state": {}
     },
     "b1da71adf5fc4a4fb2dc775a70522d5e": {
      "model_module": "@jupyter-widgets/base",
      "model_module_version": "1.0.0",
      "model_name": "LayoutModel",
      "state": {
       "display": "none"
      }
     },
     "b22e372906214ee5bb3d1007a4ccbdd6": {
      "model_module": "@jupyter-widgets/controls",
      "model_module_version": "1.2.0",
      "model_name": "ButtonStyleModel",
      "state": {}
     },
     "b2612d3edbcd4dbc816deb8b13184772": {
      "model_module": "@jupyter-widgets/controls",
      "model_module_version": "1.2.0",
      "model_name": "IntTextModel",
      "state": {
       "description": "feat. size",
       "layout": "IPY_MODEL_6ebd9a8a594d41a18e119a98e72d73f9",
       "step": 1,
       "style": "IPY_MODEL_587b53fefa6e4d2091b15dd062869166",
       "value": 3
      }
     },
     "b26ee276cb3c4481a643c8532024f3ee": {
      "model_module": "@jupyter-widgets/controls",
      "model_module_version": "1.2.0",
      "model_name": "FloatTextModel",
      "state": {
       "description": "max.",
       "layout": "IPY_MODEL_28c191d302554977ae914cef8a33edc7",
       "step": 0.1,
       "style": "IPY_MODEL_6e0089000016448c8f05fa717b1d05a3",
       "value": 2
      }
     },
     "b2c338fba7c1448fab4e5e40f1bb83ea": {
      "model_module": "@jupyter-widgets/base",
      "model_module_version": "1.0.0",
      "model_name": "LayoutModel",
      "state": {}
     },
     "b2cb2318eb49493fb159ab40adfc4cc8": {
      "model_module": "@jupyter-widgets/base",
      "model_module_version": "1.0.0",
      "model_name": "LayoutModel",
      "state": {
       "display": "flex",
       "flex_flow": "column wrap",
       "width": "66%"
      }
     },
     "b2d2c403c2e54fc990e91655a19871f4": {
      "model_module": "@jupyter-widgets/base",
      "model_module_version": "1.0.0",
      "model_name": "LayoutModel",
      "state": {}
     },
     "b2d702bc464b437fa34a4c0765de09df": {
      "model_module": "@jupyter-widgets/base",
      "model_module_version": "1.0.0",
      "model_name": "LayoutModel",
      "state": {}
     },
     "b304b4607fc342b6b848e390fe8bdfd8": {
      "model_module": "@jupyter-widgets/controls",
      "model_module_version": "1.2.0",
      "model_name": "CheckboxModel",
      "state": {
       "description": "Min. distance",
       "disabled": false,
       "indent": false,
       "layout": "IPY_MODEL_3c97b874e3e548b392390d99e542d906",
       "style": "IPY_MODEL_6e56e4b4661d44b4a335ef6bb224b175",
       "value": true
      }
     },
     "b32d337b3b204c9daa108c4ff6af626e": {
      "model_module": "@jupyter-widgets/controls",
      "model_module_version": "1.2.0",
      "model_name": "FloatTextModel",
      "state": {
       "layout": "IPY_MODEL_19e4bbee2e614bc4ba7402ecedaa8c61",
       "step": 0.1,
       "style": "IPY_MODEL_7a3d482483a6445d88c73d2a846f9824",
       "value": 3
      }
     },
     "b35b27dd9202476c85780724d1ef6978": {
      "model_module": "@jupyter-widgets/controls",
      "model_module_version": "1.2.0",
      "model_name": "HBoxModel",
      "state": {
       "children": [
        "IPY_MODEL_3663842ab6404589b472521e2dad1bdc",
        "IPY_MODEL_ba88b9f7da7b42969d3652112931e030",
        "IPY_MODEL_55272d7030de4ae8b8e10c0fcde8e729"
       ],
       "layout": "IPY_MODEL_4c77f6dd91bb46839fb21e5396bb0407"
      }
     },
     "b373f55994874a9ca52d3dc07d8d2ec9": {
      "model_module": "@jupyter-widgets/controls",
      "model_module_version": "1.2.0",
      "model_name": "DropdownModel",
      "state": {
       "_options_labels": [
        "Identity",
        "Cg",
        "Gaussian"
       ],
       "description": "find filter",
       "index": 1,
       "layout": "IPY_MODEL_8c618bf667984e6dba7a977fab592393",
       "style": "IPY_MODEL_efc6cb4e8cab4a86ae2521db39ceb4ae"
      }
     },
     "b3783a79c33c4caa81c514a78a24b953": {
      "model_module": "@jupyter-widgets/base",
      "model_module_version": "1.0.0",
      "model_name": "LayoutModel",
      "state": {
       "display": "none"
      }
     },
     "b37d9881043c455989a88cdda902891a": {
      "model_module": "@jupyter-widgets/controls",
      "model_module_version": "1.2.0",
      "model_name": "CheckboxModel",
      "state": {
       "description": "Min. distance",
       "disabled": false,
       "indent": false,
       "layout": "IPY_MODEL_227e2ab8ee8d4793ad719eccc3e015cc",
       "style": "IPY_MODEL_26f739099bc54aa2a30e8f2c6418e19c",
       "value": true
      }
     },
     "b3b7103e5014420a93ef7594b418fbdc": {
      "model_module": "@jupyter-widgets/controls",
      "model_module_version": "1.2.0",
      "model_name": "BoundedIntTextModel",
      "state": {
       "description": "frame",
       "layout": "IPY_MODEL_cca5331b206349f9a6c10fcb99ebca57",
       "max": 0,
       "style": "IPY_MODEL_43536ff0d5a24e66973360c9f15580f4"
      }
     },
     "b3bde46cc7d249959ea5a5a0963d43dc": {
      "model_module": "@jupyter-widgets/controls",
      "model_module_version": "1.2.0",
      "model_name": "DescriptionStyleModel",
      "state": {
       "description_width": ""
      }
     },
     "b42cb741e4384022a1c36c41bd528502": {
      "model_module": "@jupyter-widgets/controls",
      "model_module_version": "1.2.0",
      "model_name": "DescriptionStyleModel",
      "state": {
       "description_width": ""
      }
     },
     "b44f50020b3f47899df9d43f22800286": {
      "model_module": "@jupyter-widgets/controls",
      "model_module_version": "1.2.0",
      "model_name": "DescriptionStyleModel",
      "state": {
       "description_width": ""
      }
     },
     "b452bb11186a4cf78f1e9b2d3fa131cb": {
      "model_module": "@jupyter-widgets/base",
      "model_module_version": "1.0.0",
      "model_name": "LayoutModel",
      "state": {}
     },
     "b4b87d2daf8d4354bc4aeded7bbb337a": {
      "model_module": "@jupyter-widgets/base",
      "model_module_version": "1.0.0",
      "model_name": "LayoutModel",
      "state": {
       "width": "auto"
      }
     },
     "b50f825c26224ace9d3e2473101c0652": {
      "model_module": "@jupyter-widgets/controls",
      "model_module_version": "1.2.0",
      "model_name": "HBoxModel",
      "state": {
       "children": [
        "IPY_MODEL_0018d2c8cdc24975953919ccc4a08340",
        "IPY_MODEL_b0a36d5dd029428f8cc9b3cd853c1150",
        "IPY_MODEL_8356a8afa94944eb825a6d03d33ca378"
       ],
       "layout": "IPY_MODEL_c78130ee7d2e4b719e24946c20c7c08a"
      }
     },
     "b5382e8e4a334e689f87ee8406f5b5a4": {
      "model_module": "@jupyter-widgets/controls",
      "model_module_version": "1.2.0",
      "model_name": "VBoxModel",
      "state": {
       "children": [
        "IPY_MODEL_772b179f43af4b2b865d04bb49f67aef",
        "IPY_MODEL_8ab3bf5637d24546a209820bd9d7806c"
       ],
       "layout": "IPY_MODEL_5ce0ca89fff74ff98c74dfb4db051a59"
      }
     },
     "b57dc1953e9a489ca39fe075f60fd3d1": {
      "model_module": "@jupyter-widgets/controls",
      "model_module_version": "1.2.0",
      "model_name": "FloatTextModel",
      "state": {
       "description": "radius",
       "layout": "IPY_MODEL_21e3f66ac5e84b76ade247bbee7d3a2e",
       "step": 0.1,
       "style": "IPY_MODEL_a90c2c8136e54153aa578afefecb3ab1",
       "value": 1
      }
     },
     "b58c8e2dcd0749fa99d7f25245da27a6": {
      "model_module": "@jupyter-widgets/controls",
      "model_module_version": "1.2.0",
      "model_name": "DescriptionStyleModel",
      "state": {
       "description_width": ""
      }
     },
     "b5b4c64f5cef49d2848c1cc638b21707": {
      "model_module": "@jupyter-widgets/controls",
      "model_module_version": "1.2.0",
      "model_name": "CheckboxModel",
      "state": {
       "description": "Show loc.",
       "disabled": false,
       "indent": false,
       "layout": "IPY_MODEL_86c9ec232b3e4bfbbe8fd140a5e6d5d3",
       "style": "IPY_MODEL_047b67ca52234b498d91b3ffeb8eca13",
       "value": true
      }
     },
     "b5cc62b6605a4e0da267d7b8f688c41c": {
      "model_module": "@jupyter-widgets/controls",
      "model_module_version": "1.2.0",
      "model_name": "DescriptionStyleModel",
      "state": {
       "description_width": ""
      }
     },
     "b5e64162ec114633ab2e395c4eb15d65": {
      "model_module": "@jupyter-widgets/base",
      "model_module_version": "1.0.0",
      "model_name": "LayoutModel",
      "state": {}
     },
     "b5eb7a59cbc243f9bc0d874649257b37": {
      "model_module": "@jupyter-widgets/base",
      "model_module_version": "1.0.0",
      "model_name": "LayoutModel",
      "state": {}
     },
     "b604c6fd56b54052a2ef2e4dc721225b": {
      "model_module": "@jupyter-widgets/controls",
      "model_module_version": "1.2.0",
      "model_name": "DescriptionStyleModel",
      "state": {
       "description_width": ""
      }
     },
     "b61fb761db744db38b5c72ab47e45def": {
      "model_module": "@jupyter-widgets/controls",
      "model_module_version": "1.2.0",
      "model_name": "HBoxModel",
      "state": {
       "children": [
        "IPY_MODEL_19e54e8518c447c6a57fc58c7d49c2ed",
        "IPY_MODEL_ebb31843612e4b4fb1f96750a22bf8a9"
       ],
       "layout": "IPY_MODEL_d0a9f7327ced408cb3b75e015b51cd4e"
      }
     },
     "b64b2a850a8548d383e5d93c5c00ba3c": {
      "model_module": "@jupyter-widgets/controls",
      "model_module_version": "1.2.0",
      "model_name": "ButtonStyleModel",
      "state": {}
     },
     "b652dfbfd4214265ae3872e3f49c3b2f": {
      "model_module": "@jupyter-widgets/controls",
      "model_module_version": "1.2.0",
      "model_name": "FloatTextModel",
      "state": {
       "description": "max.",
       "layout": "IPY_MODEL_fc80433e6cbb4660907789ce9b6c5583",
       "step": 0.1,
       "style": "IPY_MODEL_3b7d0dbaf2214570a98eb67de0b91a6f",
       "value": 2
      }
     },
     "b65b0c2916c34ab2981f5b32a3125ffd": {
      "model_module": "@jupyter-widgets/controls",
      "model_module_version": "1.2.0",
      "model_name": "DropdownModel",
      "state": {
       "_options_labels": [
        "Identity",
        "Cg",
        "Gaussian"
       ],
       "description": "find filter",
       "index": 1,
       "layout": "IPY_MODEL_7abeedd3279141b7bdec9c5c09ab7c9e",
       "style": "IPY_MODEL_7e1a9bca2032487a90f1a46296047b9c"
      }
     },
     "b6a004b7e5574931b253328f1ad72624": {
      "model_module": "@jupyter-widgets/base",
      "model_module_version": "1.0.0",
      "model_name": "LayoutModel",
      "state": {}
     },
     "b6b5ec2ac43143aba6ce332348eb4c85": {
      "model_module": "@jupyter-widgets/base",
      "model_module_version": "1.0.0",
      "model_name": "LayoutModel",
      "state": {}
     },
     "b6fe90eea41749a7bce3105c113eb223": {
      "model_module": "@jupyter-widgets/base",
      "model_module_version": "1.0.0",
      "model_name": "LayoutModel",
      "state": {}
     },
     "b7023a71516749418cd7b2acb31271a9": {
      "model_module": "@jupyter-widgets/base",
      "model_module_version": "1.0.0",
      "model_name": "LayoutModel",
      "state": {}
     },
     "b724a9b097eb4e71b1647452e5cbb443": {
      "model_module": "@jupyter-widgets/controls",
      "model_module_version": "1.2.0",
      "model_name": "DescriptionStyleModel",
      "state": {
       "description_width": ""
      }
     },
     "b74b4eaa76f44ed9a4ce52c21cca5318": {
      "model_module": "@jupyter-widgets/controls",
      "model_module_version": "1.2.0",
      "model_name": "DescriptionStyleModel",
      "state": {
       "description_width": ""
      }
     },
     "b779a4a37c6a4f399fb21a145bd6c38d": {
      "model_module": "@jupyter-widgets/base",
      "model_module_version": "1.0.0",
      "model_name": "LayoutModel",
      "state": {
       "border": "1px solid gray"
      }
     },
     "b7be599876324851838edcbef4a6ffcb": {
      "model_module": "@jupyter-widgets/controls",
      "model_module_version": "1.2.0",
      "model_name": "DescriptionStyleModel",
      "state": {
       "description_width": ""
      }
     },
     "b80d9fa544a9403f812443b83f778e0b": {
      "model_module": "@jupyter-widgets/controls",
      "model_module_version": "1.2.0",
      "model_name": "DropdownModel",
      "state": {
       "_options_labels": [
        "2d_fixed",
        "2d",
        "3d"
       ],
       "description": "model",
       "index": 1,
       "layout": "IPY_MODEL_fd98c9302b7b4b3abbb89b28387d4e6c",
       "style": "IPY_MODEL_d38c2650916a4a689d6ef7c0cef83dc4"
      }
     },
     "b82779e5259840ff900ea767f35db084": {
      "model_module": "@jupyter-widgets/base",
      "model_module_version": "1.0.0",
      "model_name": "LayoutModel",
      "state": {
       "display": "none"
      }
     },
     "b835c5938556463d920bf178b1a8a77c": {
      "model_module": "@jupyter-widgets/controls",
      "model_module_version": "1.2.0",
      "model_name": "DescriptionStyleModel",
      "state": {
       "description_width": ""
      }
     },
     "b855b6287cc040bc9e1b3ef584ff3795": {
      "model_module": "@jupyter-widgets/controls",
      "model_module_version": "1.2.0",
      "model_name": "FloatTextModel",
      "state": {
       "description": "min.",
       "layout": "IPY_MODEL_e761c5db4766467895ca2f34b0e4a0da",
       "step": 0.1,
       "style": "IPY_MODEL_358b3eb253e04bf2a0db36e0448d9957",
       "value": 0.5
      }
     },
     "b88e8f7039e3448daf04fdfbbd09bfa0": {
      "model_module": "@jupyter-widgets/base",
      "model_module_version": "1.0.0",
      "model_name": "LayoutModel",
      "state": {
       "display": "none"
      }
     },
     "b8bf6710a4c94d7b87427476ccb92d04": {
      "model_module": "@jupyter-widgets/controls",
      "model_module_version": "1.2.0",
      "model_name": "DescriptionStyleModel",
      "state": {
       "description_width": ""
      }
     },
     "b8ea3b7b0dca4273866f1b5b92cca58b": {
      "model_module": "@jupyter-widgets/controls",
      "model_module_version": "1.2.0",
      "model_name": "DescriptionStyleModel",
      "state": {
       "description_width": ""
      }
     },
     "b96ba1d49c2045b4a31929bea958a44d": {
      "model_module": "@jupyter-widgets/controls",
      "model_module_version": "1.2.0",
      "model_name": "DescriptionStyleModel",
      "state": {
       "description_width": ""
      }
     },
     "b97477e6a04949cb99a424a06ac29b0d": {
      "model_module": "@jupyter-widgets/controls",
      "model_module_version": "1.2.0",
      "model_name": "DropdownModel",
      "state": {
       "_options_labels": [
        "Identity",
        "Cg",
        "Gaussian"
       ],
       "description": "find filter",
       "index": 1,
       "layout": "IPY_MODEL_4e9b38d94f214dffa4299200cd9f0d37",
       "style": "IPY_MODEL_dad3538d532141688f011f43545d73aa"
      }
     },
     "b9c3b9812bdb47468e36ab1cba60367c": {
      "model_module": "@jupyter-widgets/controls",
      "model_module_version": "1.2.0",
      "model_name": "SelectModel",
      "state": {
       "_options_labels": [
        "data/beads/beads_000_.SPE",
        "data/beads/beads_001_.SPE",
        "data/beads/beads_002_.SPE",
        "data/beads/beads_003_.SPE",
        "data/beads/beads_004_.SPE",
        "data/beads/beads_005_.SPE",
        "data/beads/beads_006_.SPE",
        "data/beads/beads_007_.SPE",
        "data/beads/beads_008_.SPE",
        "data/beads/beads_009_.SPE"
       ],
       "index": 0,
       "layout": "IPY_MODEL_f4d925586cb5456aaa0898a766e65d87",
       "style": "IPY_MODEL_bd2658b84fad45d5b8c6778b5860642c"
      }
     },
     "b9cbd436c2e04d47a81f8ef4f91f7582": {
      "model_module": "@jupyter-widgets/base",
      "model_module_version": "1.0.0",
      "model_name": "LayoutModel",
      "state": {}
     },
     "b9d61e8c852c46c0ae27e1f2932f1f1c": {
      "model_module": "@jupyter-widgets/controls",
      "model_module_version": "1.2.0",
      "model_name": "HBoxModel",
      "state": {
       "children": [
        "IPY_MODEL_2d00fffaf6f0433197e27cafa9c30d99",
        "IPY_MODEL_b32d337b3b204c9daa108c4ff6af626e"
       ],
       "layout": "IPY_MODEL_b6b5ec2ac43143aba6ce332348eb4c85"
      }
     },
     "ba08a73ea0dd4a3d82ca9fb760ae89a9": {
      "model_module": "@jupyter-widgets/base",
      "model_module_version": "1.0.0",
      "model_name": "LayoutModel",
      "state": {
       "width": "100%"
      }
     },
     "ba32f52a09ba4be0a15c783a0684960d": {
      "model_module": "@jupyter-widgets/controls",
      "model_module_version": "1.2.0",
      "model_name": "DescriptionStyleModel",
      "state": {
       "description_width": ""
      }
     },
     "ba4b38a72c384dad96d19ead478c0aba": {
      "model_module": "@jupyter-widgets/base",
      "model_module_version": "1.0.0",
      "model_name": "LayoutModel",
      "state": {
       "width": "75%"
      }
     },
     "ba6a6ecec4be4859bb469f698578e451": {
      "model_module": "@jupyter-widgets/controls",
      "model_module_version": "1.2.0",
      "model_name": "DropdownModel",
      "state": {
       "_options_labels": [
        "Identity",
        "Cg",
        "Gaussian"
       ],
       "description": "find filter",
       "index": 0,
       "layout": "IPY_MODEL_5b4c982706bd4240a5f71a5464d607e3",
       "style": "IPY_MODEL_a40f15a73d6e4d00bb1f193a2595e695"
      }
     },
     "ba88b9f7da7b42969d3652112931e030": {
      "model_module": "@jupyter-widgets/controls",
      "model_module_version": "1.2.0",
      "model_name": "ButtonModel",
      "state": {
       "description": "Auto",
       "layout": "IPY_MODEL_0861d974a75343e6ad8cf9bb30904b63",
       "style": "IPY_MODEL_45a97c7bfdde493ab1761063e56f09de"
      }
     },
     "ba9317bcc582450e8dfd0a9089f6527a": {
      "model_module": "@jupyter-widgets/controls",
      "model_module_version": "1.2.0",
      "model_name": "FloatTextModel",
      "state": {
       "description": "radius",
       "layout": "IPY_MODEL_69c49179c0774ba98959a23ea0b81c8a",
       "step": 0.1,
       "style": "IPY_MODEL_3761dc572846486f8ca53e123fbe0f0f",
       "value": 1
      }
     },
     "bac1451325334616913ac648bdb007ff": {
      "model_module": "@jupyter-widgets/controls",
      "model_module_version": "1.2.0",
      "model_name": "CheckboxModel",
      "state": {
       "description": "Size range",
       "disabled": false,
       "indent": false,
       "layout": "IPY_MODEL_25b3ace3c419458dae29cd6b98c93d8a",
       "style": "IPY_MODEL_789824ebdafe4a8697df288cd17ebbb9",
       "value": false
      }
     },
     "baf972ed6604436caea88a93149e1b79": {
      "model_module": "@jupyter-widgets/controls",
      "model_module_version": "1.2.0",
      "model_name": "VBoxModel",
      "state": {
       "children": [
        "IPY_MODEL_7f4b4f3d85e34deeb1ea4774d8aefa66",
        "IPY_MODEL_d03f9cd65f624aa1b3062d444534c742",
        "IPY_MODEL_bb25961a7b1a4de99717342b4d717dd2"
       ],
       "layout": "IPY_MODEL_e443c838649f4033956e752b74c810a0"
      }
     },
     "bb25961a7b1a4de99717342b4d717dd2": {
      "model_module": "@jupyter-widgets/controls",
      "model_module_version": "1.2.0",
      "model_name": "FloatTextModel",
      "state": {
       "description": "max.",
       "layout": "IPY_MODEL_b82779e5259840ff900ea767f35db084",
       "step": 0.1,
       "style": "IPY_MODEL_24f9aca8649f438e8f190b3fb6de6a2a",
       "value": 2
      }
     },
     "bb271e1802df495589914f40f18a32f8": {
      "model_module": "@jupyter-widgets/base",
      "model_module_version": "1.0.0",
      "model_name": "LayoutModel",
      "state": {
       "width": "auto"
      }
     },
     "bb604ae06bca40698a9fcf491bc9deab": {
      "model_module": "@jupyter-widgets/controls",
      "model_module_version": "1.2.0",
      "model_name": "DescriptionStyleModel",
      "state": {
       "description_width": ""
      }
     },
     "bbd7f68a391d421a992938952a90e1ec": {
      "model_module": "@jupyter-widgets/controls",
      "model_module_version": "1.2.0",
      "model_name": "LabelModel",
      "state": {
       "layout": "IPY_MODEL_49c8320dadf14967a9795101e0bd5512",
       "style": "IPY_MODEL_131d72ed5e92478eb026faf47c0daf88",
       "value": "Locating beads (file 9/10)"
      }
     },
     "bbfa607bfd6a4404b67fb4e05e5b41f0": {
      "model_module": "@jupyter-widgets/base",
      "model_module_version": "1.0.0",
      "model_name": "LayoutModel",
      "state": {}
     },
     "bc632cbfdf9d4927a3f062368302e1a6": {
      "model_module": "@jupyter-widgets/controls",
      "model_module_version": "1.2.0",
      "model_name": "DescriptionStyleModel",
      "state": {
       "description_width": ""
      }
     },
     "bc80a2902e974e47896e17c68df9abe2": {
      "model_module": "@jupyter-widgets/controls",
      "model_module_version": "1.2.0",
      "model_name": "FloatTextModel",
      "state": {
       "description": "sigma",
       "layout": "IPY_MODEL_d0925dc0e0ca4010b09c0028c21651f8",
       "step": 0.1,
       "style": "IPY_MODEL_795f3086492145fdaab5abf5b6f33fcf",
       "value": 1
      }
     },
     "bc8765e56b834e90964fd735b31f2ee0": {
      "model_module": "@jupyter-widgets/controls",
      "model_module_version": "1.2.0",
      "model_name": "HBoxModel",
      "state": {
       "children": [
        "IPY_MODEL_d735dba375544b108334d705a917ad42",
        "IPY_MODEL_9f5cec8de4394f3cb422e340329abbd4"
       ],
       "layout": "IPY_MODEL_6d9a4ac3d5f64015906cf9c1bc5687cd"
      }
     },
     "bc8d0036b27049a28229c5694daababe": {
      "model_module": "@jupyter-widgets/controls",
      "model_module_version": "1.2.0",
      "model_name": "DescriptionStyleModel",
      "state": {
       "description_width": ""
      }
     },
     "bce61fa1fd5a43f4886194936763e3ed": {
      "model_module": "@jupyter-widgets/base",
      "model_module_version": "1.0.0",
      "model_name": "LayoutModel",
      "state": {
       "display": "inline"
      }
     },
     "bce89a422b444942868646b14b761ac3": {
      "model_module": "@jupyter-widgets/base",
      "model_module_version": "1.0.0",
      "model_name": "LayoutModel",
      "state": {}
     },
     "bd1cc151eca24bbcb96a7671dcc39bda": {
      "model_module": "@jupyter-widgets/base",
      "model_module_version": "1.0.0",
      "model_name": "LayoutModel",
      "state": {
       "display": "none"
      }
     },
     "bd22c8a2345642818cdb6541030c13ac": {
      "model_module": "@jupyter-widgets/base",
      "model_module_version": "1.0.0",
      "model_name": "LayoutModel",
      "state": {
       "width": "75%"
      }
     },
     "bd2658b84fad45d5b8c6778b5860642c": {
      "model_module": "@jupyter-widgets/controls",
      "model_module_version": "1.2.0",
      "model_name": "DescriptionStyleModel",
      "state": {
       "description_width": ""
      }
     },
     "bd2af5b109eb499596c35b07c0e3869c": {
      "model_module": "@jupyter-widgets/controls",
      "model_module_version": "1.2.0",
      "model_name": "FloatTextModel",
      "state": {
       "description": "min.",
       "layout": "IPY_MODEL_f7e842be7c944fb69496cb31fbb38bec",
       "step": 0.1,
       "style": "IPY_MODEL_db82f6ed96e04ec180beeb0545306c8e",
       "value": 0.5
      }
     },
     "bd42a13e206240c8af39f2f3f7f56011": {
      "model_module": "@jupyter-widgets/controls",
      "model_module_version": "1.2.0",
      "model_name": "FloatTextModel",
      "state": {
       "description": "min.",
       "layout": "IPY_MODEL_fc4d7edd33564569a7c473aa2e8a8815",
       "step": 0.1,
       "style": "IPY_MODEL_7f68fd8890284cd78451354497414a02",
       "value": 0.5
      }
     },
     "bd81eb7a1afa4fbcbbd9822542efb5c3": {
      "model_module": "@jupyter-widgets/controls",
      "model_module_version": "1.2.0",
      "model_name": "CheckboxModel",
      "state": {
       "description": "Min. distance",
       "disabled": false,
       "indent": false,
       "layout": "IPY_MODEL_ff2f313871b44293895ec6b4604982c5",
       "style": "IPY_MODEL_3498c71ae10b40a4b58604efc7571bca",
       "value": false
      }
     },
     "bdd95c5267ef40069426a2ef7b620280": {
      "model_module": "@jupyter-widgets/controls",
      "model_module_version": "1.2.0",
      "model_name": "ButtonStyleModel",
      "state": {}
     },
     "bddeef8635e24bceafdda453f3f2e607": {
      "model_module": "@jupyter-widgets/controls",
      "model_module_version": "1.2.0",
      "model_name": "HBoxModel",
      "state": {
       "children": [
        "IPY_MODEL_204a0f3ab1ae479497beda405bcf1a5f",
        "IPY_MODEL_c9f372b0ab0d4fdda5533184e3b3146b"
       ],
       "layout": "IPY_MODEL_8c9cc2e6767c4ccbb3209f8c4a732d67"
      }
     },
     "be11f35f752d44c2ab2401edc51474f7": {
      "model_module": "@jupyter-widgets/controls",
      "model_module_version": "1.2.0",
      "model_name": "DescriptionStyleModel",
      "state": {
       "description_width": ""
      }
     },
     "be34a16d9dee4f9a9bd6a2dd669192be": {
      "model_module": "@jupyter-widgets/controls",
      "model_module_version": "1.2.0",
      "model_name": "DescriptionStyleModel",
      "state": {
       "description_width": ""
      }
     },
     "be3a0af7e882478dadfc26ac39e5fd12": {
      "model_module": "@jupyter-widgets/controls",
      "model_module_version": "1.2.0",
      "model_name": "IntTextModel",
      "state": {
       "description": "feat. size",
       "layout": "IPY_MODEL_f822a069710f437c95967f9f7684216d",
       "step": 1,
       "style": "IPY_MODEL_96506e07324c4510b46d91e7e827b24b",
       "value": 3
      }
     },
     "be6a59e5eb1a4e0ba562040a521833e5": {
      "model_module": "@jupyter-widgets/base",
      "model_module_version": "1.0.0",
      "model_name": "LayoutModel",
      "state": {}
     },
     "be961b89ce0a4149973cabf1c701a3d0": {
      "model_module": "@jupyter-widgets/base",
      "model_module_version": "1.0.0",
      "model_name": "LayoutModel",
      "state": {}
     },
     "bea4f44c38254f5da66178f0078b2e5b": {
      "model_module": "@jupyter-widgets/controls",
      "model_module_version": "1.2.0",
      "model_name": "DescriptionStyleModel",
      "state": {
       "description_width": ""
      }
     },
     "beadb326477547afa2bb70de10978a4d": {
      "model_module": "@jupyter-widgets/controls",
      "model_module_version": "1.2.0",
      "model_name": "VBoxModel",
      "state": {
       "children": [
        "IPY_MODEL_7d8707fd46d64a3c8c0031d3914e3f5f",
        "IPY_MODEL_1a7f60fb844840a79fe1bfc9d493b4d9",
        "IPY_MODEL_2bdc6286bc324446abeb806728914f9b",
        "IPY_MODEL_ab78fe67db564683aec5835c7ecaa972",
        "IPY_MODEL_6a858d8095174f94a3d6a44346aad751",
        "IPY_MODEL_2e5a7d571e3a46eb8df1918e46ef0e05"
       ],
       "layout": "IPY_MODEL_2be1c140067242058022433e037e7d46"
      }
     },
     "beb0446a9fe94320aefb2c66df80ab34": {
      "model_module": "@jupyter-widgets/base",
      "model_module_version": "1.0.0",
      "model_name": "LayoutModel",
      "state": {}
     },
     "bed8cb7bc5d240ed9659485bda8a0bb4": {
      "model_module": "@jupyter-widgets/controls",
      "model_module_version": "1.2.0",
      "model_name": "SelectModel",
      "state": {
       "_options_labels": [
        "sensor-H57/cells-01_SAv-100k_SSS-H57-20k_000_.SPE"
       ],
       "index": 0,
       "layout": "IPY_MODEL_24a26ed920a841b79ce1e40c95c04c75",
       "style": "IPY_MODEL_428c3ec84c5e4239baf70014d127047e"
      }
     },
     "beff15dfb8ff45bcaf2ebaacab8a2390": {
      "model_module": "@jupyter-widgets/controls",
      "model_module_version": "1.2.0",
      "model_name": "LabelModel",
      "state": {
       "layout": "IPY_MODEL_eb93cedbbc1a4dd899a9900ff44c55a5",
       "style": "IPY_MODEL_063a0a7144d44c968349e73ffdaafdfe",
       "value": "Tracking ctrl-H57/no-cells_SAv-100k_SSS-ctrl-H57-50k_029_.SPE (213/213)"
      }
     },
     "bf2692aeecb549829f7c3a5b5a006233": {
      "model_module": "@jupyter-widgets/base",
      "model_module_version": "1.0.0",
      "model_name": "LayoutModel",
      "state": {}
     },
     "bf3f8014db0a4ed6826e77c8d891e255": {
      "model_module": "@jupyter-widgets/base",
      "model_module_version": "1.0.0",
      "model_name": "LayoutModel",
      "state": {
       "display": "none"
      }
     },
     "bf3ff81513954d90b2eeaa52a708c72e": {
      "model_module": "@jupyter-widgets/controls",
      "model_module_version": "1.2.0",
      "model_name": "HBoxModel",
      "state": {
       "children": [
        "IPY_MODEL_564e84c78d7a42648e50327e3be7be4e",
        "IPY_MODEL_d09c9c8759db4d27b3f03851cedd0f87"
       ],
       "layout": "IPY_MODEL_28dc5f98ecd749c4aafd9e308637a0af"
      }
     },
     "bf65372f5d3047ebb15da62caa1c4521": {
      "model_module": "@jupyter-widgets/controls",
      "model_module_version": "1.2.0",
      "model_name": "DescriptionStyleModel",
      "state": {
       "description_width": ""
      }
     },
     "bfab9ba562884a3e81d2e2b4af74b31d": {
      "model_module": "@jupyter-widgets/controls",
      "model_module_version": "1.2.0",
      "model_name": "DropdownModel",
      "state": {
       "_options_labels": [
        "Identity",
        "Cg",
        "Gaussian"
       ],
       "description": "find filter",
       "index": 1,
       "layout": "IPY_MODEL_4ed19061fd9542a1b606cf50a950529f",
       "style": "IPY_MODEL_632863c5ef4740a3a8fa5303d98054f5"
      }
     },
     "bfec349152fa4833b470d8ec1259aab1": {
      "model_module": "@jupyter-widgets/base",
      "model_module_version": "1.0.0",
      "model_name": "LayoutModel",
      "state": {}
     },
     "c02e2719552f4f6f8a7163d508f464e5": {
      "model_module": "@jupyter-widgets/controls",
      "model_module_version": "1.2.0",
      "model_name": "FloatTextModel",
      "state": {
       "description": "threshold",
       "layout": "IPY_MODEL_b0276e39446a4fa1a4730e98a1c01134",
       "step": 10,
       "style": "IPY_MODEL_a93b0a99d293436297cf9bc57e0df4a6",
       "value": 80
      }
     },
     "c05d01372e25444d88e67353b0dceba0": {
      "model_module": "@jupyter-widgets/base",
      "model_module_version": "1.0.0",
      "model_name": "LayoutModel",
      "state": {}
     },
     "c06cf69ddada43d0ab1f18c8c3045aa7": {
      "model_module": "@jupyter-widgets/controls",
      "model_module_version": "1.2.0",
      "model_name": "DescriptionStyleModel",
      "state": {
       "description_width": ""
      }
     },
     "c0c6fbf615274e70adf571485cf9d79d": {
      "model_module": "@jupyter-widgets/base",
      "model_module_version": "1.0.0",
      "model_name": "LayoutModel",
      "state": {
       "display": "flex",
       "flex_flow": "column wrap",
       "width": "66%"
      }
     },
     "c0cb02d39b9b41a9a00970f9fd86b677": {
      "model_module": "@jupyter-widgets/base",
      "model_module_version": "1.0.0",
      "model_name": "LayoutModel",
      "state": {}
     },
     "c0d5b515691a4f1bb53ebd8f89b9dd30": {
      "model_module": "@jupyter-widgets/base",
      "model_module_version": "1.0.0",
      "model_name": "LayoutModel",
      "state": {}
     },
     "c10ac3a630a244a48c1c28ae64614898": {
      "model_module": "@jupyter-widgets/controls",
      "model_module_version": "1.2.0",
      "model_name": "IntRangeSliderModel",
      "state": {
       "_model_name": "IntRangeSliderModel",
       "_view_name": "IntRangeSliderView",
       "layout": "IPY_MODEL_5e983447fe54437d9c0af3899af33f20",
       "max": 65535,
       "style": "IPY_MODEL_cd8ac3be2fdd48b181b57c15faf5cb6a",
       "value": [
        134,
        25393
       ]
      }
     },
     "c13c87d8a61b400294b808a93d1b5eec": {
      "model_module": "@jupyter-widgets/controls",
      "model_module_version": "1.2.0",
      "model_name": "SelectModel",
      "state": {
       "_options_labels": [
        "data/beads/beads_000_.SPE",
        "data/beads/beads_001_.SPE",
        "data/beads/beads_002_.SPE",
        "data/beads/beads_003_.SPE",
        "data/beads/beads_004_.SPE",
        "data/beads/beads_005_.SPE",
        "data/beads/beads_006_.SPE",
        "data/beads/beads_007_.SPE",
        "data/beads/beads_008_.SPE",
        "data/beads/beads_009_.SPE"
       ],
       "index": 0,
       "layout": "IPY_MODEL_f29de83593364a6189ab59bcbb2c320b",
       "style": "IPY_MODEL_9df44ccbe9d64083b3a5dcdfa81c50fc"
      }
     },
     "c1a95db583ea40a8bd5289f44bcfe4db": {
      "model_module": "@jupyter-widgets/base",
      "model_module_version": "1.0.0",
      "model_name": "LayoutModel",
      "state": {
       "width": "auto"
      }
     },
     "c1d97af4af07498cae7d5b1c4be5295c": {
      "model_module": "@jupyter-widgets/controls",
      "model_module_version": "1.2.0",
      "model_name": "DescriptionStyleModel",
      "state": {
       "description_width": ""
      }
     },
     "c1efcae4c8094bcfaffe2b2e7f27bf45": {
      "model_module": "@jupyter-widgets/base",
      "model_module_version": "1.0.0",
      "model_name": "LayoutModel",
      "state": {
       "display": "inline"
      }
     },
     "c1f3b65adfd44722b49ea4a4ff69c29f": {
      "model_module": "@jupyter-widgets/controls",
      "model_module_version": "1.2.0",
      "model_name": "DescriptionStyleModel",
      "state": {
       "description_width": ""
      }
     },
     "c211590667d94e1ba903d9bb41556f7f": {
      "model_module": "@jupyter-widgets/base",
      "model_module_version": "1.0.0",
      "model_name": "LayoutModel",
      "state": {
       "width": "auto"
      }
     },
     "c22b5f9b02324eb09eefa0fc3f053283": {
      "model_module": "@jupyter-widgets/controls",
      "model_module_version": "1.2.0",
      "model_name": "VBoxModel",
      "state": {
       "children": [
        "IPY_MODEL_5c401ea5da0d4848be95abb0540b7161",
        "IPY_MODEL_8eb933fcf2094529bcfaa1d445261b92",
        "IPY_MODEL_18cf4394760945b48cbef11a18c60810"
       ],
       "layout": "IPY_MODEL_1753f17a9cd74bb9be12223d1a6173b3"
      }
     },
     "c230cc0668ed41d99de71598ded8c06c": {
      "model_module": "@jupyter-widgets/controls",
      "model_module_version": "1.2.0",
      "model_name": "DescriptionStyleModel",
      "state": {
       "description_width": ""
      }
     },
     "c265d3f7ada04e2e84dee92b602bca76": {
      "model_module": "@jupyter-widgets/controls",
      "model_module_version": "1.2.0",
      "model_name": "DescriptionStyleModel",
      "state": {
       "description_width": ""
      }
     },
     "c2a65a1077bf4b1c9b3ba8ffd3359b39": {
      "model_module": "@jupyter-widgets/base",
      "model_module_version": "1.0.0",
      "model_name": "LayoutModel",
      "state": {
       "display": "none"
      }
     },
     "c32e96aa935a4d6ea9606f2f464dd04c": {
      "model_module": "@jupyter-widgets/controls",
      "model_module_version": "1.2.0",
      "model_name": "LabelModel",
      "state": {
       "layout": "IPY_MODEL_676fe8fb0afc4b668410ab402d1ad0ba",
       "style": "IPY_MODEL_cd9fb810d7d545a28ff6305a502a3ac9",
       "value": "Locating beads (file 10/10)"
      }
     },
     "c35106bfaa0941c6b210074ade26615e": {
      "model_module": "@jupyter-widgets/base",
      "model_module_version": "1.0.0",
      "model_name": "LayoutModel",
      "state": {
       "width": "auto"
      }
     },
     "c37a86f18d434de481acc8f8c3e59e8c": {
      "model_module": "@jupyter-widgets/controls",
      "model_module_version": "1.2.0",
      "model_name": "DescriptionStyleModel",
      "state": {
       "description_width": ""
      }
     },
     "c3cef7fe114b456782edabca88e03ff7": {
      "model_module": "@jupyter-widgets/controls",
      "model_module_version": "1.2.0",
      "model_name": "FloatTextModel",
      "state": {
       "description": "max.",
       "layout": "IPY_MODEL_c46e9b9cc80e4f7aac5ecd0e944de969",
       "step": 0.1,
       "style": "IPY_MODEL_f2bd6ab3067c4d40a222a12115b3f9b8",
       "value": 2
      }
     },
     "c3d8f89ab77d429f888f97aaa68c08bc": {
      "model_module": "@jupyter-widgets/controls",
      "model_module_version": "1.2.0",
      "model_name": "DescriptionStyleModel",
      "state": {
       "description_width": ""
      }
     },
     "c4653ddb5cb94a6c934669e33210cd7a": {
      "model_module": "@jupyter-widgets/base",
      "model_module_version": "1.0.0",
      "model_name": "LayoutModel",
      "state": {}
     },
     "c46874c368de438694b59a5b5b8ea525": {
      "model_module": "@jupyter-widgets/controls",
      "model_module_version": "1.2.0",
      "model_name": "DescriptionStyleModel",
      "state": {
       "description_width": ""
      }
     },
     "c46bff04e59e428ab26ff8f5898b4277": {
      "model_module": "@jupyter-widgets/base",
      "model_module_version": "1.0.0",
      "model_name": "LayoutModel",
      "state": {}
     },
     "c46e9b9cc80e4f7aac5ecd0e944de969": {
      "model_module": "@jupyter-widgets/base",
      "model_module_version": "1.0.0",
      "model_name": "LayoutModel",
      "state": {
       "display": "none"
      }
     },
     "c4865af8e5dd49cd8f5d7afa13b14e00": {
      "model_module": "@jupyter-widgets/base",
      "model_module_version": "1.0.0",
      "model_name": "LayoutModel",
      "state": {}
     },
     "c4a58ea60bdf4b0caf83c160414e7aef": {
      "model_module": "@jupyter-widgets/controls",
      "model_module_version": "1.2.0",
      "model_name": "DescriptionStyleModel",
      "state": {
       "description_width": ""
      }
     },
     "c4de4d48993e40d28053ddf2b8098a13": {
      "model_module": "@jupyter-widgets/controls",
      "model_module_version": "1.2.0",
      "model_name": "DescriptionStyleModel",
      "state": {
       "description_width": ""
      }
     },
     "c523bab02603413d9c264d7487782c42": {
      "model_module": "@jupyter-widgets/controls",
      "model_module_version": "1.2.0",
      "model_name": "DescriptionStyleModel",
      "state": {
       "description_width": ""
      }
     },
     "c54deae8c71e4325b7202a96264e416b": {
      "model_module": "@jupyter-widgets/controls",
      "model_module_version": "1.2.0",
      "model_name": "DescriptionStyleModel",
      "state": {
       "description_width": ""
      }
     },
     "c5656558055948b2a4fa9d3f966364fa": {
      "model_module": "@jupyter-widgets/base",
      "model_module_version": "1.0.0",
      "model_name": "LayoutModel",
      "state": {}
     },
     "c57d74a3f1f74f49b351cce658a8ba60": {
      "model_module": "@jupyter-widgets/controls",
      "model_module_version": "1.2.0",
      "model_name": "HBoxModel",
      "state": {
       "children": [
        "IPY_MODEL_f615b949df694769bd5bf0199b1c7302",
        "IPY_MODEL_d997084149b24a16adf3ec0089df3b87"
       ],
       "layout": "IPY_MODEL_fd298f088b594c4bb584486154f5f2ad"
      }
     },
     "c5a09fe99ce7403da8ed57fba46e3dd0": {
      "model_module": "@jupyter-widgets/base",
      "model_module_version": "1.0.0",
      "model_name": "LayoutModel",
      "state": {}
     },
     "c62c2c99ee194cfaa7e1b15115dca277": {
      "model_module": "@jupyter-widgets/base",
      "model_module_version": "1.0.0",
      "model_name": "LayoutModel",
      "state": {
       "width": "auto"
      }
     },
     "c65c0211461f4256825de855d1499e54": {
      "model_module": "@jupyter-widgets/base",
      "model_module_version": "1.0.0",
      "model_name": "LayoutModel",
      "state": {
       "display": "inline"
      }
     },
     "c6a9fc6e0e6a4098995eb4a9aafbd685": {
      "model_module": "@jupyter-widgets/controls",
      "model_module_version": "1.2.0",
      "model_name": "FloatTextModel",
      "state": {
       "description": "sigma",
       "layout": "IPY_MODEL_5cd611847aa444c08a1fca2c7acaffd1",
       "step": 0.1,
       "style": "IPY_MODEL_8d75a98fccc24a73858cf40373ff49b1",
       "value": 1
      }
     },
     "c6ad2c66e23145308004adb901174003": {
      "model_module": "@jupyter-widgets/controls",
      "model_module_version": "1.2.0",
      "model_name": "VBoxModel",
      "state": {
       "children": [
        "IPY_MODEL_8fb1f61f7e624f7285afd816a6b4a06e",
        "IPY_MODEL_94aeddc830d34daaa6518c6373b3ad59"
       ],
       "layout": "IPY_MODEL_d1454b9d7e1e4968bcd840c451e5d9dc"
      }
     },
     "c6b5a2c35ab346b5939abbc473b6e036": {
      "model_module": "@jupyter-widgets/controls",
      "model_module_version": "1.2.0",
      "model_name": "CheckboxModel",
      "state": {
       "description": "Min. distance",
       "disabled": false,
       "indent": false,
       "layout": "IPY_MODEL_1e467e9b04f54ce2b7589198a94d15e8",
       "style": "IPY_MODEL_a0ee102307534b91900803088036a2c9",
       "value": true
      }
     },
     "c6d09daedaea403d98880210d954b884": {
      "model_module": "@jupyter-widgets/controls",
      "model_module_version": "1.2.0",
      "model_name": "LabelModel",
      "state": {
       "layout": "IPY_MODEL_e4cfcf0e648d475b8b59be966b465866",
       "style": "IPY_MODEL_252624c1b8bc45849aea2df3c599d2bc",
       "value": "Locating ctrl-H57/no-cells_SAv-100k_SSS-ctrl-H57-50k_029_.SPE (213/213)"
      }
     },
     "c76a669be50c46c1b514303101b0de0e": {
      "model_module": "@jupyter-widgets/controls",
      "model_module_version": "1.2.0",
      "model_name": "ButtonModel",
      "state": {
       "description": "Auto",
       "layout": "IPY_MODEL_0ecb2e4660f94784a1958fd57ec03801",
       "style": "IPY_MODEL_411a5b6f2fc54b669513f2747391d2b9"
      }
     },
     "c78130ee7d2e4b719e24946c20c7c08a": {
      "model_module": "@jupyter-widgets/base",
      "model_module_version": "1.0.0",
      "model_name": "LayoutModel",
      "state": {
       "width": "100%"
      }
     },
     "c7950bb3cfa846749605076ebf8fe9e6": {
      "model_module": "@jupyter-widgets/controls",
      "model_module_version": "1.2.0",
      "model_name": "DropdownModel",
      "state": {
       "_options_labels": [
        "2d_fixed",
        "2d",
        "3d"
       ],
       "description": "model",
       "index": 1,
       "layout": "IPY_MODEL_a9344fbbc27443ecac484dfacd381265",
       "style": "IPY_MODEL_ba32f52a09ba4be0a15c783a0684960d"
      }
     },
     "c7f22f717eeb42bd80361959c8d73485": {
      "model_module": "@jupyter-widgets/controls",
      "model_module_version": "1.2.0",
      "model_name": "HBoxModel",
      "state": {
       "children": [
        "IPY_MODEL_cea55a99c8414b838bb94c3bd451ee4f",
        "IPY_MODEL_5b832b17194f4626b304f362d82d3a97"
       ],
       "layout": "IPY_MODEL_07322f2872994b62a67e3ecc71961d7c"
      }
     },
     "c7f978a7f5324b149511e9b27eebaeec": {
      "model_module": "@jupyter-widgets/controls",
      "model_module_version": "1.2.0",
      "model_name": "FloatTextModel",
      "state": {
       "description": "sigma",
       "layout": "IPY_MODEL_9488c92fc19e478491c10ae5c8ac6ad4",
       "step": 0.1,
       "style": "IPY_MODEL_282db8f01dd440359bb199e2eec96391",
       "value": 1
      }
     },
     "c80ee4c5f3844dcb8f585e61645e0e9b": {
      "model_module": "@jupyter-widgets/controls",
      "model_module_version": "1.2.0",
      "model_name": "FloatTextModel",
      "state": {
       "description": "sigma",
       "layout": "IPY_MODEL_14692f2452074add81ccbce647b3a11e",
       "step": 0.1,
       "style": "IPY_MODEL_d45b79d73c1b4ddcb8351fe463414e1e",
       "value": 1
      }
     },
     "c8246eec1c214b518f95489e721820c8": {
      "model_module": "@jupyter-widgets/controls",
      "model_module_version": "1.2.0",
      "model_name": "FloatTextModel",
      "state": {
       "description": "sigma",
       "layout": "IPY_MODEL_d7528cf96f4a414395554a3729c0ba6e",
       "step": 0.1,
       "style": "IPY_MODEL_42dcfcbd1b9c451aa4d067fae2a86539",
       "value": 1
      }
     },
     "c838d53e5add40f09d6caa9df248bd69": {
      "model_module": "@jupyter-widgets/controls",
      "model_module_version": "1.2.0",
      "model_name": "FloatTextModel",
      "state": {
       "description": "min.",
       "layout": "IPY_MODEL_27ead681a1ba429b92a13a857b53aa84",
       "step": 0.1,
       "style": "IPY_MODEL_80c2e356993c45dcbebf66dc3e671b92",
       "value": 0.5
      }
     },
     "c850f2d83d5a4107b913da97dd1deccd": {
      "model_module": "@jupyter-widgets/base",
      "model_module_version": "1.0.0",
      "model_name": "LayoutModel",
      "state": {}
     },
     "c866b561794e42ffbd8a5935d2516349": {
      "model_module": "@jupyter-widgets/base",
      "model_module_version": "1.0.0",
      "model_name": "LayoutModel",
      "state": {
       "height": "150px",
       "width": "100%"
      }
     },
     "c86d77bb332b4d0590c259f51076de7c": {
      "model_module": "@jupyter-widgets/base",
      "model_module_version": "1.0.0",
      "model_name": "LayoutModel",
      "state": {
       "width": "auto"
      }
     },
     "c887111977a14213b8d43f3198bccb35": {
      "model_module": "@jupyter-widgets/controls",
      "model_module_version": "1.2.0",
      "model_name": "SelectModel",
      "state": {
       "_options_labels": [
        "data/beads/beads_000_.SPE",
        "data/beads/beads_001_.SPE",
        "data/beads/beads_002_.SPE",
        "data/beads/beads_003_.SPE",
        "data/beads/beads_004_.SPE",
        "data/beads/beads_005_.SPE",
        "data/beads/beads_006_.SPE",
        "data/beads/beads_007_.SPE",
        "data/beads/beads_008_.SPE",
        "data/beads/beads_009_.SPE"
       ],
       "index": 1,
       "layout": "IPY_MODEL_0ab92ff91b114e2daa93551ba7b31491",
       "style": "IPY_MODEL_8346806e4bba42cb87c56d2814e17ddc"
      }
     },
     "c89598672e964bb480ed2772eda0cd61": {
      "model_module": "@jupyter-widgets/base",
      "model_module_version": "1.0.0",
      "model_name": "LayoutModel",
      "state": {
       "display": "none"
      }
     },
     "c8a4732a27e4461ea7a550108f273591": {
      "model_module": "@jupyter-widgets/controls",
      "model_module_version": "1.2.0",
      "model_name": "DescriptionStyleModel",
      "state": {
       "description_width": ""
      }
     },
     "c8cf22efdacb441780a9aa8333ed026b": {
      "model_module": "@jupyter-widgets/controls",
      "model_module_version": "1.2.0",
      "model_name": "FloatTextModel",
      "state": {
       "description": "radius",
       "layout": "IPY_MODEL_cc60972dd77c4a4aafcbf31ea8e0119f",
       "step": 0.1,
       "style": "IPY_MODEL_083e49bdb54143db8c07ed01ba581d4c",
       "value": 1
      }
     },
     "c91e6b5ec8fd4e3fbce02033e26274d4": {
      "model_module": "@jupyter-widgets/controls",
      "model_module_version": "1.2.0",
      "model_name": "DescriptionStyleModel",
      "state": {
       "description_width": ""
      }
     },
     "c9281a9444b342ccaeea5bbe41437cdf": {
      "model_module": "@jupyter-widgets/controls",
      "model_module_version": "1.2.0",
      "model_name": "FloatTextModel",
      "state": {
       "layout": "IPY_MODEL_8640494794064662823b36511db88e13",
       "step": 0.1,
       "style": "IPY_MODEL_c523bab02603413d9c264d7487782c42",
       "value": 3
      }
     },
     "c93332c7586243bfa2c35cc7934573c6": {
      "model_module": "@jupyter-widgets/controls",
      "model_module_version": "1.2.0",
      "model_name": "DescriptionStyleModel",
      "state": {
       "description_width": ""
      }
     },
     "c947362c1b424fc5889ba242be69b499": {
      "model_module": "@jupyter-widgets/base",
      "model_module_version": "1.0.0",
      "model_name": "LayoutModel",
      "state": {
       "display": "flex",
       "flex_flow": "column wrap",
       "width": "66%"
      }
     },
     "c96eaab9612e4b65aad3e9c5ce261e24": {
      "model_module": "@jupyter-widgets/controls",
      "model_module_version": "1.2.0",
      "model_name": "ButtonModel",
      "state": {
       "description": "Auto",
       "layout": "IPY_MODEL_2353ee96d43b4eeba4ba08bea7bedd62",
       "style": "IPY_MODEL_878f93859f344d6b8c9abb9c812267a3"
      }
     },
     "c988709bd87c4a629641e62b63c167be": {
      "model_module": "@jupyter-widgets/controls",
      "model_module_version": "1.2.0",
      "model_name": "DescriptionStyleModel",
      "state": {
       "description_width": ""
      }
     },
     "c9c0bd8e91e44168bacd248f4ef19544": {
      "model_module": "@jupyter-widgets/base",
      "model_module_version": "1.0.0",
      "model_name": "LayoutModel",
      "state": {}
     },
     "c9f372b0ab0d4fdda5533184e3b3146b": {
      "model_module": "@jupyter-widgets/controls",
      "model_module_version": "1.2.0",
      "model_name": "VBoxModel",
      "state": {
       "children": [
        "IPY_MODEL_5897926131b44660b1f6e44086382fc1",
        "IPY_MODEL_58c8e5c780ac482ea7d83b4cb501efbb",
        "IPY_MODEL_27bf74a1371a4914b4cecefd7800c57e",
        "IPY_MODEL_7a0ebbcb7c4549b69ddcf0b2e2c5068b",
        "IPY_MODEL_2d34235e1324485a9b3095eb00fffcdd",
        "IPY_MODEL_6c1621e5e3c346668b799be6eefe47ea"
       ],
       "layout": "IPY_MODEL_ab4925d5106d478c95c5b37f1be7b6bc"
      }
     },
     "ca1386fd89404570a65b25c094747dc8": {
      "model_module": "@jupyter-widgets/controls",
      "model_module_version": "1.2.0",
      "model_name": "BoundedIntTextModel",
      "state": {
       "description": "frame",
       "layout": "IPY_MODEL_d7ee45995d7543e0b8e6bc5fcef1c00a",
       "max": 49,
       "style": "IPY_MODEL_3e17ce9a39774c4182411752843e01f7"
      }
     },
     "ca214501be3b4fe7a84ae6b2a809f7d3": {
      "model_module": "@jupyter-widgets/controls",
      "model_module_version": "1.2.0",
      "model_name": "VBoxModel",
      "state": {
       "children": [
        "IPY_MODEL_22774ed79f5246f8bdae0943eeb6e6e9",
        "IPY_MODEL_93997ff8b3ac48d5b8db285ff78a313d",
        "IPY_MODEL_8efaa6660bcd40e8bef473760f81a5cf"
       ],
       "layout": "IPY_MODEL_6142708a9df34496bbbfc0c50075234e"
      }
     },
     "ca3928b3edc542b58ac4ba639b5d69ba": {
      "model_module": "@jupyter-widgets/controls",
      "model_module_version": "1.2.0",
      "model_name": "SliderStyleModel",
      "state": {
       "description_width": ""
      }
     },
     "ca617da8968c4c1986bef67c8512c210": {
      "model_module": "@jupyter-widgets/controls",
      "model_module_version": "1.2.0",
      "model_name": "FloatTextModel",
      "state": {
       "description": "radius",
       "layout": "IPY_MODEL_078f43c2886840b78d1209cb7dd1867a",
       "step": 0.1,
       "style": "IPY_MODEL_e98ebd4492074318973e80751dd01ac2",
       "value": 1
      }
     },
     "ca65cbf710a34eb2af2f0e54479139a8": {
      "model_module": "@jupyter-widgets/base",
      "model_module_version": "1.0.0",
      "model_name": "LayoutModel",
      "state": {}
     },
     "ca9aad266e7c42bd917c4ba763aea4f1": {
      "model_module": "@jupyter-widgets/controls",
      "model_module_version": "1.2.0",
      "model_name": "FloatTextModel",
      "state": {
       "layout": "IPY_MODEL_ab0cfbb92b6340f883a10373a0455392",
       "step": 0.1,
       "style": "IPY_MODEL_1e2c7801417d4e6d8736963d27fe69cd",
       "value": 3
      }
     },
     "ca9cbc33f87a45c1a758e030140b0b77": {
      "model_module": "@jupyter-widgets/base",
      "model_module_version": "1.0.0",
      "model_name": "LayoutModel",
      "state": {}
     },
     "cb1aa06d48374c2a8b0ffa29b92d25dc": {
      "model_module": "@jupyter-widgets/controls",
      "model_module_version": "1.2.0",
      "model_name": "ButtonModel",
      "state": {
       "description": "Auto",
       "layout": "IPY_MODEL_2c2757aa06f04e0dace96d88c285a4d5",
       "style": "IPY_MODEL_6bbd7bfd41264e7d831c23e43abab2cb"
      }
     },
     "cb1c51b664d0470b879f08c7b64b382b": {
      "model_module": "@jupyter-widgets/controls",
      "model_module_version": "1.2.0",
      "model_name": "VBoxModel",
      "state": {
       "children": [
        "IPY_MODEL_171fd38714314c55b9aa03a260d5df0a",
        "IPY_MODEL_9e11f1e5ce9c4af2b3b3be687dd64a61",
        "IPY_MODEL_0ef1d040c6c04fb7864e43dfd058b198",
        "IPY_MODEL_7c3f80ceafa642ad91d6b4dabf593fcc",
        "IPY_MODEL_72b54360941b42a4b3f921d31d4a7d9a",
        "IPY_MODEL_9f40e8bad80442dcaece2e410a1f9e6f"
       ],
       "layout": "IPY_MODEL_1618f4b3399c42758f19fedc025728c5"
      }
     },
     "cb2386fc6ef74bcdacecf41b9c594189": {
      "model_module": "@jupyter-widgets/base",
      "model_module_version": "1.0.0",
      "model_name": "LayoutModel",
      "state": {
       "display": "none"
      }
     },
     "cb2aa5668d6740de9c8098fc5505dd93": {
      "model_module": "@jupyter-widgets/controls",
      "model_module_version": "1.2.0",
      "model_name": "DescriptionStyleModel",
      "state": {
       "description_width": ""
      }
     },
     "cbaef955669847aea4d6eeda772fc47f": {
      "model_module": "@jupyter-widgets/base",
      "model_module_version": "1.0.0",
      "model_name": "LayoutModel",
      "state": {}
     },
     "cbbf4f3774dd4928a04f102af72f0867": {
      "model_module": "@jupyter-widgets/controls",
      "model_module_version": "1.2.0",
      "model_name": "FloatTextModel",
      "state": {
       "description": "sigma",
       "layout": "IPY_MODEL_9d762642fa554e169ab393c2a204d6d9",
       "step": 0.1,
       "style": "IPY_MODEL_06ba97282e1f4df59bebd0e0fd71431e",
       "value": 1
      }
     },
     "cbc95826e6074f2e92211d41a56f82a4": {
      "model_module": "@jupyter-widgets/base",
      "model_module_version": "1.0.0",
      "model_name": "LayoutModel",
      "state": {
       "display": "flex",
       "flex_flow": "column wrap",
       "width": "66%"
      }
     },
     "cbcb7d4ab97141fc96f65b0380eba974": {
      "model_module": "@jupyter-widgets/base",
      "model_module_version": "1.0.0",
      "model_name": "LayoutModel",
      "state": {
       "height": "150px",
       "width": "100%"
      }
     },
     "cbe91f751e1345588c0f8f841dba1a7b": {
      "model_module": "@jupyter-widgets/controls",
      "model_module_version": "1.2.0",
      "model_name": "FloatTextModel",
      "state": {
       "description": "threshold",
       "layout": "IPY_MODEL_2bad4212a2344400817848a55f43b7e2",
       "step": 10,
       "style": "IPY_MODEL_36e0ecd660f249d58bdaa97b3a3c5a60",
       "value": 1000
      }
     },
     "cc4ae8ba518a41fc86f1d615d83338f5": {
      "model_module": "@jupyter-widgets/controls",
      "model_module_version": "1.2.0",
      "model_name": "DescriptionStyleModel",
      "state": {
       "description_width": ""
      }
     },
     "cc60972dd77c4a4aafcbf31ea8e0119f": {
      "model_module": "@jupyter-widgets/base",
      "model_module_version": "1.0.0",
      "model_name": "LayoutModel",
      "state": {}
     },
     "cc6eea352d5e482d906f5aec93861cf0": {
      "model_module": "@jupyter-widgets/controls",
      "model_module_version": "1.2.0",
      "model_name": "FloatTextModel",
      "state": {
       "description": "sigma",
       "layout": "IPY_MODEL_1602f5feb09c4d74b13d2ed7587d5a03",
       "step": 0.1,
       "style": "IPY_MODEL_a79415927e1b4f129298f428353c8c70",
       "value": 1
      }
     },
     "cc7576cf5f424727a538fd64ec2b8694": {
      "model_module": "@jupyter-widgets/controls",
      "model_module_version": "1.2.0",
      "model_name": "DropdownModel",
      "state": {
       "_options_labels": [
        "2d_fixed",
        "2d",
        "3d"
       ],
       "description": "model",
       "index": 1,
       "layout": "IPY_MODEL_7a1a89626449426fa814701a0bffdd39",
       "style": "IPY_MODEL_03bdc5d00f804a5f8446fe02ee16e61c"
      }
     },
     "cc7d7fe57c8743e9aa71f22aa0ab4098": {
      "model_module": "@jupyter-widgets/controls",
      "model_module_version": "1.2.0",
      "model_name": "BoundedIntTextModel",
      "state": {
       "description": "frame",
       "layout": "IPY_MODEL_3d5af2746fd745cf8028df9866770533",
       "max": 49,
       "style": "IPY_MODEL_8004488e459a492b8d357d97ede48678"
      }
     },
     "cc897af7025340f28a998b9936092bcc": {
      "model_module": "@jupyter-widgets/controls",
      "model_module_version": "1.2.0",
      "model_name": "HBoxModel",
      "state": {
       "children": [
        "IPY_MODEL_d7935eac62854690ab82ac17c622bf21",
        "IPY_MODEL_d4578ad5188e420f86fbf300ed9219be",
        "IPY_MODEL_54b348fecf0a43ef930b4457164466ce"
       ],
       "layout": "IPY_MODEL_98a819d500ca469595196e98276ee70c"
      }
     },
     "cc8cddcf0157400f815cc2a75b4a618e": {
      "model_module": "@jupyter-widgets/controls",
      "model_module_version": "1.2.0",
      "model_name": "DescriptionStyleModel",
      "state": {
       "description_width": ""
      }
     },
     "cca5331b206349f9a6c10fcb99ebca57": {
      "model_module": "@jupyter-widgets/base",
      "model_module_version": "1.0.0",
      "model_name": "LayoutModel",
      "state": {}
     },
     "ccd4bace9fbc441ba44bf1a202ee6362": {
      "model_module": "@jupyter-widgets/controls",
      "model_module_version": "1.2.0",
      "model_name": "ButtonModel",
      "state": {
       "description": "Auto",
       "layout": "IPY_MODEL_98665b49c57f49a196bb7bd30a48840d",
       "style": "IPY_MODEL_47d9ce6e1a864a1bb62a3df0054aeb85"
      }
     },
     "cd5c8f3412cf455d876b8525e7f7fd2d": {
      "model_module": "@jupyter-widgets/base",
      "model_module_version": "1.0.0",
      "model_name": "LayoutModel",
      "state": {}
     },
     "cd697b4e947b4973b4b32d4da3499219": {
      "model_module": "@jupyter-widgets/controls",
      "model_module_version": "1.2.0",
      "model_name": "LabelModel",
      "state": {
       "layout": "IPY_MODEL_26b80179517e4b0baa9f3af84146b235",
       "style": "IPY_MODEL_4a3df1f143e8450d88389850d2cfbe53",
       "value": "Locating ctrl-H57/no-cells_SAv-100k_SSS-ctrl-H57-50k_029_.SPE (213/213)"
      }
     },
     "cd8ac3be2fdd48b181b57c15faf5cb6a": {
      "model_module": "@jupyter-widgets/controls",
      "model_module_version": "1.2.0",
      "model_name": "SliderStyleModel",
      "state": {
       "description_width": ""
      }
     },
     "cd9fb810d7d545a28ff6305a502a3ac9": {
      "model_module": "@jupyter-widgets/controls",
      "model_module_version": "1.2.0",
      "model_name": "DescriptionStyleModel",
      "state": {
       "description_width": ""
      }
     },
     "cdab130af73545948f349a9779d58fd5": {
      "model_module": "@jupyter-widgets/controls",
      "model_module_version": "1.2.0",
      "model_name": "HBoxModel",
      "state": {
       "children": [
        "IPY_MODEL_5d7446d851ec4f579be2efa3d820e5dc",
        "IPY_MODEL_86c69153440d494eb9e52469c9909b45",
        "IPY_MODEL_4e02df3fdb114001b616a2528f835648"
       ],
       "layout": "IPY_MODEL_53a0216b84bb4febac866bd1581d3a08"
      }
     },
     "cdab3f1ca1a844ac9a1c96886bcb7f1a": {
      "model_module": "@jupyter-widgets/base",
      "model_module_version": "1.0.0",
      "model_name": "LayoutModel",
      "state": {
       "display": "none"
      }
     },
     "cddee87aa2554225887a998832e81dc0": {
      "model_module": "@jupyter-widgets/controls",
      "model_module_version": "1.2.0",
      "model_name": "DescriptionStyleModel",
      "state": {
       "description_width": ""
      }
     },
     "ce3f20ebfd14492fa38c6c5c3cf5768f": {
      "model_module": "@jupyter-widgets/controls",
      "model_module_version": "1.2.0",
      "model_name": "ButtonStyleModel",
      "state": {}
     },
     "ce558e41002f4a728f1c99b7abf8847e": {
      "model_module": "@jupyter-widgets/controls",
      "model_module_version": "1.2.0",
      "model_name": "VBoxModel",
      "state": {
       "children": [
        "IPY_MODEL_7e69e27a79d54518ba4291cb90d5052e",
        "IPY_MODEL_8793427b89a2477384ccd98b45e8650e",
        "IPY_MODEL_4e6a001374d74b88a33cb6ba3c4b552a"
       ],
       "layout": "IPY_MODEL_f982f86b5a9d4ee8b28c7f3247372882"
      }
     },
     "ce70c249bd644969ba98b18e3c1fc1db": {
      "model_module": "@jupyter-widgets/controls",
      "model_module_version": "1.2.0",
      "model_name": "HBoxModel",
      "state": {
       "children": [
        "IPY_MODEL_2b8b9302d0f9428686e139e3c91bbfec",
        "IPY_MODEL_314d4dde2e7143af86f5e874575a1e5e"
       ],
       "layout": "IPY_MODEL_661e3c078c954251ac0eaed1f5a41778"
      }
     },
     "cea55a99c8414b838bb94c3bd451ee4f": {
      "model_module": "@jupyter-widgets/controls",
      "model_module_version": "1.2.0",
      "model_name": "VBoxModel",
      "state": {
       "children": [
        "IPY_MODEL_1ac8bfa0df214c21bddbf5915ae44e15",
        "IPY_MODEL_0b7488dc0c1a4be3a881714889f948cc"
       ],
       "layout": "IPY_MODEL_68ecbd9deee449c5bcb9772b03a5f3ac"
      }
     },
     "cedde3392f934fa99c5adc1540c82f2e": {
      "model_module": "@jupyter-widgets/base",
      "model_module_version": "1.0.0",
      "model_name": "LayoutModel",
      "state": {}
     },
     "cef17bc089aa4519b8aa5b0bc6fb5d77": {
      "model_module": "@jupyter-widgets/base",
      "model_module_version": "1.0.0",
      "model_name": "LayoutModel",
      "state": {}
     },
     "cf0d308883f64f42954368c4494fe3aa": {
      "model_module": "@jupyter-widgets/controls",
      "model_module_version": "1.2.0",
      "model_name": "FloatTextModel",
      "state": {
       "description": "sigma",
       "layout": "IPY_MODEL_57e56208b76048eb9a4b54967a9f767e",
       "step": 0.1,
       "style": "IPY_MODEL_33e0e4bf86b840f8a07fa69c50e39c00",
       "value": 1
      }
     },
     "cf5f51ce063a453bbe47101598458750": {
      "model_module": "@jupyter-widgets/controls",
      "model_module_version": "1.2.0",
      "model_name": "SliderStyleModel",
      "state": {
       "description_width": ""
      }
     },
     "cf6dbc4efe87490ba291bee634e48b75": {
      "model_module": "@jupyter-widgets/base",
      "model_module_version": "1.0.0",
      "model_name": "LayoutModel",
      "state": {
       "width": "100%"
      }
     },
     "cf9cc20b63d047b99a04d38292f2ba64": {
      "model_module": "@jupyter-widgets/controls",
      "model_module_version": "1.2.0",
      "model_name": "VBoxModel",
      "state": {
       "children": [
        "IPY_MODEL_2aeaabc4b9664104a7864f9d43b1d619",
        "IPY_MODEL_8b90ed70d2554b48a466342454012047"
       ],
       "layout": "IPY_MODEL_08cbf097b5044a9e9658b1d5c04785f4"
      }
     },
     "cfa32745ebd04dfb992444c4c45e14fc": {
      "model_module": "@jupyter-widgets/base",
      "model_module_version": "1.0.0",
      "model_name": "LayoutModel",
      "state": {}
     },
     "cfb64c186bc4449b9bc297a976404885": {
      "model_module": "@jupyter-widgets/base",
      "model_module_version": "1.0.0",
      "model_name": "LayoutModel",
      "state": {}
     },
     "cff2e78cddb748b29dc024bb9f23ab30": {
      "model_module": "@jupyter-widgets/controls",
      "model_module_version": "1.2.0",
      "model_name": "FloatTextModel",
      "state": {
       "description": "sigma",
       "layout": "IPY_MODEL_0bbae70001a54bdfa7504e058d9a2e55",
       "step": 0.1,
       "style": "IPY_MODEL_767c389b3ad44f7ab00364045a966393",
       "value": 1
      }
     },
     "d00994195ff44f51a5ca3048b41a76f7": {
      "model_module": "@jupyter-widgets/controls",
      "model_module_version": "1.2.0",
      "model_name": "CheckboxModel",
      "state": {
       "description": "Min. distance",
       "disabled": false,
       "indent": false,
       "layout": "IPY_MODEL_9524dc61fde742a9bac5f244577b797a",
       "style": "IPY_MODEL_4115c41ecd2f4ce59131fe44e539850f",
       "value": false
      }
     },
     "d03f9cd65f624aa1b3062d444534c742": {
      "model_module": "@jupyter-widgets/controls",
      "model_module_version": "1.2.0",
      "model_name": "FloatTextModel",
      "state": {
       "description": "min.",
       "layout": "IPY_MODEL_9c5aa012a6e3431087ea07844a161eb2",
       "step": 0.1,
       "style": "IPY_MODEL_01f6114e99c54035b39fe440e01986c9",
       "value": 0.5
      }
     },
     "d07a4186820840239ab8e5eb70813624": {
      "model_module": "@jupyter-widgets/base",
      "model_module_version": "1.0.0",
      "model_name": "LayoutModel",
      "state": {
       "display": "none"
      }
     },
     "d07de0d18471434090f63b183d5e89f7": {
      "model_module": "@jupyter-widgets/controls",
      "model_module_version": "1.2.0",
      "model_name": "VBoxModel",
      "state": {
       "children": [
        "IPY_MODEL_a361a63fde3643099fd6c21149f906fc",
        "IPY_MODEL_1927fade527b44e3b55d8b2bbaa09f28",
        "IPY_MODEL_5b47e1c4bc184de1922550875cd3a9bb"
       ],
       "layout": "IPY_MODEL_477a123183b340b3bcba4ed01f9f591b"
      }
     },
     "d0925dc0e0ca4010b09c0028c21651f8": {
      "model_module": "@jupyter-widgets/base",
      "model_module_version": "1.0.0",
      "model_name": "LayoutModel",
      "state": {
       "display": "none"
      }
     },
     "d09c9c8759db4d27b3f03851cedd0f87": {
      "model_module": "@jupyter-widgets/controls",
      "model_module_version": "1.2.0",
      "model_name": "FloatTextModel",
      "state": {
       "layout": "IPY_MODEL_f172e379c8aa40d498e73d9fe907025a",
       "step": 0.1,
       "style": "IPY_MODEL_dd18ffaa4dfc435198684d85c94556fd",
       "value": 3
      }
     },
     "d0a9f7327ced408cb3b75e015b51cd4e": {
      "model_module": "@jupyter-widgets/base",
      "model_module_version": "1.0.0",
      "model_name": "LayoutModel",
      "state": {}
     },
     "d0e29c1372864fdeb9e793b8d54bae2b": {
      "model_module": "@jupyter-widgets/base",
      "model_module_version": "1.0.0",
      "model_name": "LayoutModel",
      "state": {
       "width": "auto"
      }
     },
     "d11b8b45a4ad44eea60029274dfe2e79": {
      "model_module": "@jupyter-widgets/base",
      "model_module_version": "1.0.0",
      "model_name": "LayoutModel",
      "state": {
       "border": "1px solid gray"
      }
     },
     "d13dca73dfab4d01a7f4ac9396aa4625": {
      "model_module": "@jupyter-widgets/base",
      "model_module_version": "1.0.0",
      "model_name": "LayoutModel",
      "state": {}
     },
     "d1454b9d7e1e4968bcd840c451e5d9dc": {
      "model_module": "@jupyter-widgets/base",
      "model_module_version": "1.0.0",
      "model_name": "LayoutModel",
      "state": {}
     },
     "d1773b06b7614fe380b8490c85ae1797": {
      "model_module": "@jupyter-widgets/controls",
      "model_module_version": "1.2.0",
      "model_name": "FloatTextModel",
      "state": {
       "description": "threshold",
       "layout": "IPY_MODEL_1349499d518a404598f1082519609c97",
       "step": 10,
       "style": "IPY_MODEL_bc8d0036b27049a28229c5694daababe",
       "value": 1000
      }
     },
     "d1979fb674764dc3a2d492d2045c3e47": {
      "model_module": "@jupyter-widgets/base",
      "model_module_version": "1.0.0",
      "model_name": "LayoutModel",
      "state": {}
     },
     "d1cdfbd5506546e18b0bf7034d086c32": {
      "model_module": "@jupyter-widgets/controls",
      "model_module_version": "1.2.0",
      "model_name": "DescriptionStyleModel",
      "state": {
       "description_width": ""
      }
     },
     "d1d89a30fa0b456ca3c4bef22163d084": {
      "model_module": "@jupyter-widgets/controls",
      "model_module_version": "1.2.0",
      "model_name": "DescriptionStyleModel",
      "state": {
       "description_width": ""
      }
     },
     "d21d4e68107f43489fea482a77b5202c": {
      "model_module": "@jupyter-widgets/controls",
      "model_module_version": "1.2.0",
      "model_name": "FloatTextModel",
      "state": {
       "description": "threshold",
       "layout": "IPY_MODEL_042ebc57e42b4549895c60f4edbf265d",
       "step": 10,
       "style": "IPY_MODEL_1c824a0b6f3240e5af259e9c61791276",
       "value": 1000
      }
     },
     "d2317dddab1d4f28b34d599ceb264474": {
      "model_module": "@jupyter-widgets/base",
      "model_module_version": "1.0.0",
      "model_name": "LayoutModel",
      "state": {
       "width": "auto"
      }
     },
     "d271830888304b6480c115f495085707": {
      "model_module": "@jupyter-widgets/controls",
      "model_module_version": "1.2.0",
      "model_name": "FloatTextModel",
      "state": {
       "description": "radius",
       "layout": "IPY_MODEL_f9cad0d8bf9e4196a01e23602e0ad434",
       "step": 0.1,
       "style": "IPY_MODEL_60148b202487413ca2525ec620373960",
       "value": 1
      }
     },
     "d277ada9698942f7a3120b5b5b0020f6": {
      "model_module": "@jupyter-widgets/controls",
      "model_module_version": "1.2.0",
      "model_name": "DropdownModel",
      "state": {
       "_options_labels": [
        "2d_fixed",
        "2d",
        "3d"
       ],
       "description": "model",
       "index": 1,
       "layout": "IPY_MODEL_2b5f6308bdf14b199396b2ea3b42bb13",
       "style": "IPY_MODEL_4babe68aecce4550b50f696121e4b54e"
      }
     },
     "d295d8525c50462c91d83e3ae5aae08f": {
      "model_module": "@jupyter-widgets/controls",
      "model_module_version": "1.2.0",
      "model_name": "FloatTextModel",
      "state": {
       "description": "radius",
       "layout": "IPY_MODEL_ef583b65214f4e799def73a9bcee58da",
       "step": 0.1,
       "style": "IPY_MODEL_ff83dba6849b4566a2c5b855469ef06c",
       "value": 1
      }
     },
     "d297437b02b844708dea073de8fed73e": {
      "model_module": "@jupyter-widgets/controls",
      "model_module_version": "1.2.0",
      "model_name": "CheckboxModel",
      "state": {
       "description": "Show loc.",
       "disabled": false,
       "indent": false,
       "layout": "IPY_MODEL_93b9e5519cb747339a8132d5eb7d4762",
       "style": "IPY_MODEL_11ee04842b9941189f848983bbd33060",
       "value": true
      }
     },
     "d2a6b9d036384b048dc880e8de56b025": {
      "model_module": "@jupyter-widgets/controls",
      "model_module_version": "1.2.0",
      "model_name": "HBoxModel",
      "state": {
       "children": [
        "IPY_MODEL_299f78c9bbf54627a5cf711b09631352",
        "IPY_MODEL_fc25cb9d938742c5b8eb185119d2c027",
        "IPY_MODEL_d297437b02b844708dea073de8fed73e"
       ],
       "layout": "IPY_MODEL_ba08a73ea0dd4a3d82ca9fb760ae89a9"
      }
     },
     "d2b5042a9f0444d1924bcf1fd5e7eca3": {
      "model_module": "@jupyter-widgets/base",
      "model_module_version": "1.0.0",
      "model_name": "LayoutModel",
      "state": {
       "width": "auto"
      }
     },
     "d2df79d773ea4115a96da54b67b1d450": {
      "model_module": "@jupyter-widgets/base",
      "model_module_version": "1.0.0",
      "model_name": "LayoutModel",
      "state": {}
     },
     "d2ec2c846e5f41738e5cf8d5b73514c9": {
      "model_module": "@jupyter-widgets/controls",
      "model_module_version": "1.2.0",
      "model_name": "ButtonModel",
      "state": {
       "description": "Auto",
       "layout": "IPY_MODEL_f7eff9ccac2d490e98067dfe846055d2",
       "style": "IPY_MODEL_afd8f7afc04843c29bffdb3506bacc65"
      }
     },
     "d2f150c4a8744343a106dbf84685e7dc": {
      "model_module": "@jupyter-widgets/controls",
      "model_module_version": "1.2.0",
      "model_name": "DescriptionStyleModel",
      "state": {
       "description_width": ""
      }
     },
     "d31b28c6b839423d8fae0713f12983cf": {
      "model_module": "@jupyter-widgets/controls",
      "model_module_version": "1.2.0",
      "model_name": "ButtonStyleModel",
      "state": {}
     },
     "d35770f8853e4d2aa6ae3914d7dcf8e7": {
      "model_module": "@jupyter-widgets/controls",
      "model_module_version": "1.2.0",
      "model_name": "DescriptionStyleModel",
      "state": {
       "description_width": ""
      }
     },
     "d36786cf6ebf40a3b1cc5a0b8a5ede8a": {
      "model_module": "@jupyter-widgets/base",
      "model_module_version": "1.0.0",
      "model_name": "LayoutModel",
      "state": {
       "display": "none"
      }
     },
     "d3766a29be6c40149321205bfdce3c6a": {
      "model_module": "@jupyter-widgets/controls",
      "model_module_version": "1.2.0",
      "model_name": "DescriptionStyleModel",
      "state": {
       "description_width": ""
      }
     },
     "d37c3c26d37b4853b33e5892e85b76f3": {
      "model_module": "@jupyter-widgets/base",
      "model_module_version": "1.0.0",
      "model_name": "LayoutModel",
      "state": {
       "display": "inline"
      }
     },
     "d38c2650916a4a689d6ef7c0cef83dc4": {
      "model_module": "@jupyter-widgets/controls",
      "model_module_version": "1.2.0",
      "model_name": "DescriptionStyleModel",
      "state": {
       "description_width": ""
      }
     },
     "d390553b939f4f698bd9795f988dd207": {
      "model_module": "@jupyter-widgets/base",
      "model_module_version": "1.0.0",
      "model_name": "LayoutModel",
      "state": {
       "width": "auto"
      }
     },
     "d3a10ad7dbe848a4b90517516149856c": {
      "model_module": "@jupyter-widgets/controls",
      "model_module_version": "1.2.0",
      "model_name": "CheckboxModel",
      "state": {
       "description": "Show loc.",
       "disabled": false,
       "indent": false,
       "layout": "IPY_MODEL_07510a80d1154ce0a25057b5c67d278e",
       "style": "IPY_MODEL_d4742b4d731543c59e8f923892f71ae2",
       "value": true
      }
     },
     "d3bc122c893f43a9a701e4b6f4766028": {
      "model_module": "@jupyter-widgets/controls",
      "model_module_version": "1.2.0",
      "model_name": "FloatTextModel",
      "state": {
       "layout": "IPY_MODEL_d2317dddab1d4f28b34d599ceb264474",
       "step": 0.1,
       "style": "IPY_MODEL_e19a11b395424a579922ad3ad491538c",
       "value": 3
      }
     },
     "d3bdd42f1d7a44b3a2a9464ffb9ff5b7": {
      "model_module": "@jupyter-widgets/controls",
      "model_module_version": "1.2.0",
      "model_name": "HBoxModel",
      "state": {
       "children": [
        "IPY_MODEL_c10ac3a630a244a48c1c28ae64614898",
        "IPY_MODEL_b119cccce6db485a8e1605a68bb63731",
        "IPY_MODEL_2f46ab7834e24ba5b2f8dd7da1f358d1"
       ],
       "layout": "IPY_MODEL_78d00e24e66247fcb1ee681aa55b73a9"
      }
     },
     "d4578ad5188e420f86fbf300ed9219be": {
      "model_module": "@jupyter-widgets/controls",
      "model_module_version": "1.2.0",
      "model_name": "ButtonModel",
      "state": {
       "description": "Auto",
       "layout": "IPY_MODEL_f8a313867b3248b9b775b23e0e3f43ab",
       "style": "IPY_MODEL_d31b28c6b839423d8fae0713f12983cf"
      }
     },
     "d45b79d73c1b4ddcb8351fe463414e1e": {
      "model_module": "@jupyter-widgets/controls",
      "model_module_version": "1.2.0",
      "model_name": "DescriptionStyleModel",
      "state": {
       "description_width": ""
      }
     },
     "d46998510eb243148f4ee26efbf2e7c7": {
      "model_module": "@jupyter-widgets/controls",
      "model_module_version": "1.2.0",
      "model_name": "DescriptionStyleModel",
      "state": {
       "description_width": ""
      }
     },
     "d4742b4d731543c59e8f923892f71ae2": {
      "model_module": "@jupyter-widgets/controls",
      "model_module_version": "1.2.0",
      "model_name": "DescriptionStyleModel",
      "state": {
       "description_width": ""
      }
     },
     "d4d4bf77cbaf495187273329a6e528c5": {
      "model_module": "@jupyter-widgets/base",
      "model_module_version": "1.0.0",
      "model_name": "LayoutModel",
      "state": {}
     },
     "d572260f107c4bb89acc270bca561ddd": {
      "model_module": "@jupyter-widgets/base",
      "model_module_version": "1.0.0",
      "model_name": "LayoutModel",
      "state": {}
     },
     "d589a64ea0144e829816e9d737a2d6bc": {
      "model_module": "@jupyter-widgets/controls",
      "model_module_version": "1.2.0",
      "model_name": "DescriptionStyleModel",
      "state": {
       "description_width": ""
      }
     },
     "d5b6469fb03547a0bc9f4e339c5580ce": {
      "model_module": "@jupyter-widgets/controls",
      "model_module_version": "1.2.0",
      "model_name": "DescriptionStyleModel",
      "state": {
       "description_width": ""
      }
     },
     "d5d2422e7b104a0e914acbd0deb93f42": {
      "model_module": "@jupyter-widgets/base",
      "model_module_version": "1.0.0",
      "model_name": "LayoutModel",
      "state": {}
     },
     "d602377a27cd41f795c7c6738fc80d1e": {
      "model_module": "@jupyter-widgets/controls",
      "model_module_version": "1.2.0",
      "model_name": "HBoxModel",
      "state": {
       "children": [
        "IPY_MODEL_14d5221e58f840aa88183d9af9408333",
        "IPY_MODEL_524a214ce2164bc7b9a12d01e86409f1",
        "IPY_MODEL_5d2ac90b66f548228add6317731b95b1"
       ],
       "layout": "IPY_MODEL_dd7044f1536541f8b6d88270e4b24fec"
      }
     },
     "d63e77dedafe48898558983d15f08ff5": {
      "model_module": "@jupyter-widgets/base",
      "model_module_version": "1.0.0",
      "model_name": "LayoutModel",
      "state": {
       "display": "none"
      }
     },
     "d66078a9781e4b2ca2af5639e2f167cc": {
      "model_module": "@jupyter-widgets/controls",
      "model_module_version": "1.2.0",
      "model_name": "DescriptionStyleModel",
      "state": {
       "description_width": ""
      }
     },
     "d6709a2270e74c0eb5c06bd68f74a16c": {
      "model_module": "@jupyter-widgets/base",
      "model_module_version": "1.0.0",
      "model_name": "LayoutModel",
      "state": {}
     },
     "d6f74efac8b84c718f356dc701fbceb6": {
      "model_module": "@jupyter-widgets/controls",
      "model_module_version": "1.2.0",
      "model_name": "VBoxModel",
      "state": {
       "children": [
        "IPY_MODEL_56bb1eb1da41452aa95e86ee51c1c925",
        "IPY_MODEL_80ed4a1176914252bf03bbd3df62e1c5",
        "IPY_MODEL_ec3a39d4975e48498ef052621df3d348",
        "IPY_MODEL_f6c4143a7b6e4c85a5df0b7ac6cdf210",
        "IPY_MODEL_8277aa72a4134dafa78f589ff2231453",
        "IPY_MODEL_923b980f12c8486992a45c2467f1e3fb"
       ],
       "layout": "IPY_MODEL_6ee7ec2215584e7cb4c5f9ebdca84026"
      }
     },
     "d700234ff2bd43d98b61da89639fba43": {
      "model_module": "@jupyter-widgets/controls",
      "model_module_version": "1.2.0",
      "model_name": "FloatTextModel",
      "state": {
       "description": "max.",
       "layout": "IPY_MODEL_4af9a176f0ca4384ae53f7545adf1ca3",
       "step": 0.1,
       "style": "IPY_MODEL_682cf9602ce142908f593322c52e9dc1",
       "value": 2
      }
     },
     "d7122f5bd03f49fba84fa28e42bb72db": {
      "model_module": "@jupyter-widgets/controls",
      "model_module_version": "1.2.0",
      "model_name": "CheckboxModel",
      "state": {
       "description": "Show loc.",
       "disabled": false,
       "indent": false,
       "layout": "IPY_MODEL_ab8027fd81ce4cda9ea2e480101f6eda",
       "style": "IPY_MODEL_4351646a537848f0b89ddf17d9c3729c",
       "value": true
      }
     },
     "d724312b449143348409eb572e8beb38": {
      "model_module": "@jupyter-widgets/controls",
      "model_module_version": "1.2.0",
      "model_name": "DescriptionStyleModel",
      "state": {
       "description_width": ""
      }
     },
     "d73383bfe9e84b2091b2f51a95d1fb57": {
      "model_module": "@jupyter-widgets/base",
      "model_module_version": "1.0.0",
      "model_name": "LayoutModel",
      "state": {}
     },
     "d735dba375544b108334d705a917ad42": {
      "model_module": "@jupyter-widgets/controls",
      "model_module_version": "1.2.0",
      "model_name": "CheckboxModel",
      "state": {
       "description": "Min. distance",
       "disabled": false,
       "indent": false,
       "layout": "IPY_MODEL_0c9b1166092a416bafb4ec0991ca6558",
       "style": "IPY_MODEL_db045e352333443180687f4ac0f34d1a",
       "value": false
      }
     },
     "d73bccaf5074400eb1e7f09ab7883930": {
      "model_module": "@jupyter-widgets/base",
      "model_module_version": "1.0.0",
      "model_name": "LayoutModel",
      "state": {
       "width": "100%"
      }
     },
     "d7528cf96f4a414395554a3729c0ba6e": {
      "model_module": "@jupyter-widgets/base",
      "model_module_version": "1.0.0",
      "model_name": "LayoutModel",
      "state": {
       "display": "none"
      }
     },
     "d7695ff71b5c4684913fd9e4d0fa6b6b": {
      "model_module": "@jupyter-widgets/controls",
      "model_module_version": "1.2.0",
      "model_name": "FloatTextModel",
      "state": {
       "description": "threshold",
       "layout": "IPY_MODEL_5e1620de67ef423d9dcf6ed618d2da27",
       "step": 10,
       "style": "IPY_MODEL_d1d89a30fa0b456ca3c4bef22163d084",
       "value": 1000
      }
     },
     "d790fccb856d4eb0ac598b39495ac337": {
      "model_module": "@jupyter-widgets/controls",
      "model_module_version": "1.2.0",
      "model_name": "DescriptionStyleModel",
      "state": {
       "description_width": ""
      }
     },
     "d7935eac62854690ab82ac17c622bf21": {
      "model_module": "@jupyter-widgets/controls",
      "model_module_version": "1.2.0",
      "model_name": "IntRangeSliderModel",
      "state": {
       "_model_name": "IntRangeSliderModel",
       "_view_name": "IntRangeSliderView",
       "layout": "IPY_MODEL_79f60ce6dc2f41169c7f7db75c044dd5",
       "max": 65535,
       "style": "IPY_MODEL_946af716b9914b46ba07d1bbcdc37da6",
       "value": [
        134,
        25393
       ]
      }
     },
     "d7a264b90a064225b67d67860490ac0c": {
      "model_module": "@jupyter-widgets/base",
      "model_module_version": "1.0.0",
      "model_name": "LayoutModel",
      "state": {}
     },
     "d7a2d3856bf24c8daa5c454b34f335ae": {
      "model_module": "@jupyter-widgets/controls",
      "model_module_version": "1.2.0",
      "model_name": "DescriptionStyleModel",
      "state": {
       "description_width": ""
      }
     },
     "d7abd9ce54dd4274bf1404185220f693": {
      "model_module": "@jupyter-widgets/base",
      "model_module_version": "1.0.0",
      "model_name": "LayoutModel",
      "state": {}
     },
     "d7c003ad030e43d7920d916a0cd7b2d3": {
      "model_module": "@jupyter-widgets/controls",
      "model_module_version": "1.2.0",
      "model_name": "DescriptionStyleModel",
      "state": {
       "description_width": ""
      }
     },
     "d7c93011fe4a42a6bb28fd93fde7a9e7": {
      "model_module": "@jupyter-widgets/base",
      "model_module_version": "1.0.0",
      "model_name": "LayoutModel",
      "state": {
       "width": "auto"
      }
     },
     "d7cca073dbf945fe9549c63b26a0a8a5": {
      "model_module": "@jupyter-widgets/base",
      "model_module_version": "1.0.0",
      "model_name": "LayoutModel",
      "state": {}
     },
     "d7ee45995d7543e0b8e6bc5fcef1c00a": {
      "model_module": "@jupyter-widgets/base",
      "model_module_version": "1.0.0",
      "model_name": "LayoutModel",
      "state": {}
     },
     "d7fa2281c10b4adf84ba27f9fc3d0be7": {
      "model_module": "@jupyter-widgets/controls",
      "model_module_version": "1.2.0",
      "model_name": "BoundedIntTextModel",
      "state": {
       "description": "frame",
       "layout": "IPY_MODEL_7268f4510a1a451fa79647460f51b16a",
       "max": 0,
       "style": "IPY_MODEL_f2e48de82e5e4ca78a857a4de020d8ed"
      }
     },
     "d8206cec6aa245359e7e5a9d25bc355f": {
      "model_module": "@jupyter-widgets/controls",
      "model_module_version": "1.2.0",
      "model_name": "FloatTextModel",
      "state": {
       "layout": "IPY_MODEL_f6d5f5dc29114c3582188cd0a99698f2",
       "step": 0.1,
       "style": "IPY_MODEL_ed0d482f13a94b8aa51d17b77120e7e0",
       "value": 3
      }
     },
     "d849f8b455314dd9bff70caa8a14f535": {
      "model_module": "@jupyter-widgets/base",
      "model_module_version": "1.0.0",
      "model_name": "LayoutModel",
      "state": {
       "width": "auto"
      }
     },
     "d8fd62f4c0324903a98d8f21f1eff2af": {
      "model_module": "@jupyter-widgets/base",
      "model_module_version": "1.0.0",
      "model_name": "LayoutModel",
      "state": {}
     },
     "d96e483d1b09466ca38957a861f96be9": {
      "model_module": "@jupyter-widgets/controls",
      "model_module_version": "1.2.0",
      "model_name": "SelectModel",
      "state": {
       "_options_labels": [
        "data/beads/beads_000_.SPE",
        "data/beads/beads_001_.SPE",
        "data/beads/beads_002_.SPE",
        "data/beads/beads_003_.SPE",
        "data/beads/beads_004_.SPE",
        "data/beads/beads_005_.SPE",
        "data/beads/beads_006_.SPE",
        "data/beads/beads_007_.SPE",
        "data/beads/beads_008_.SPE",
        "data/beads/beads_009_.SPE"
       ],
       "index": 0,
       "layout": "IPY_MODEL_d7c93011fe4a42a6bb28fd93fde7a9e7",
       "style": "IPY_MODEL_d1cdfbd5506546e18b0bf7034d086c32"
      }
     },
     "d997084149b24a16adf3ec0089df3b87": {
      "model_module": "@jupyter-widgets/controls",
      "model_module_version": "1.2.0",
      "model_name": "VBoxModel",
      "state": {
       "children": [
        "IPY_MODEL_05c83d8adb7a4dababc3d43a13d279d9",
        "IPY_MODEL_6a97d7241dd346a892234351c46b42a3",
        "IPY_MODEL_aa6ef432ab714360a1cccccddab24adf",
        "IPY_MODEL_1653a7a365f3480d9d9d6e9503868b77",
        "IPY_MODEL_a479a55c7f3942fcb26410dc9f27870b",
        "IPY_MODEL_ac27177f41674d4e942fc6991d3fdff7"
       ],
       "layout": "IPY_MODEL_da38503ca1254c95bc152641a5b98aad"
      }
     },
     "d9c72ea5ac5e4104bd5e802eb4cb1431": {
      "model_module": "@jupyter-widgets/controls",
      "model_module_version": "1.2.0",
      "model_name": "VBoxModel",
      "state": {
       "children": [
        "IPY_MODEL_96cc0367d7534bdda87c1689c2577662",
        "IPY_MODEL_4f0d8fd39d3d4d018d4b0ea18b0cefee",
        "IPY_MODEL_afaef695b4f84a9ba5b3a032d0002d6a"
       ],
       "layout": "IPY_MODEL_74e76e9dc43b46c4a0fbab97fa05ac82"
      }
     },
     "d9f9845a6f2145cebc5354cc6553b7f8": {
      "model_module": "@jupyter-widgets/base",
      "model_module_version": "1.0.0",
      "model_name": "LayoutModel",
      "state": {
       "border": "1px solid gray"
      }
     },
     "da29bfbc60c3498ba7f1cde3f3796ac4": {
      "model_module": "@jupyter-widgets/controls",
      "model_module_version": "1.2.0",
      "model_name": "VBoxModel",
      "state": {
       "children": [
        "IPY_MODEL_d295d8525c50462c91d83e3ae5aae08f",
        "IPY_MODEL_17610fa125044383bad718745075fbe0",
        "IPY_MODEL_5474fcb3521040fd888dbb6faa2b9ab1",
        "IPY_MODEL_f73431f6793a4f708c5f31ce91d5ade7",
        "IPY_MODEL_bf3ff81513954d90b2eeaa52a708c72e",
        "IPY_MODEL_1191e59b698f41caac1f2543b9ec672d"
       ],
       "layout": "IPY_MODEL_08031491c93e44c89351b873ef2d2793"
      }
     },
     "da38503ca1254c95bc152641a5b98aad": {
      "model_module": "@jupyter-widgets/base",
      "model_module_version": "1.0.0",
      "model_name": "LayoutModel",
      "state": {
       "display": "flex",
       "flex_flow": "column wrap",
       "width": "66%"
      }
     },
     "da6998b0eeac4a14aa88cad19e27679d": {
      "model_module": "@jupyter-widgets/controls",
      "model_module_version": "1.2.0",
      "model_name": "SliderStyleModel",
      "state": {
       "description_width": ""
      }
     },
     "dad3538d532141688f011f43545d73aa": {
      "model_module": "@jupyter-widgets/controls",
      "model_module_version": "1.2.0",
      "model_name": "DescriptionStyleModel",
      "state": {
       "description_width": ""
      }
     },
     "db045e352333443180687f4ac0f34d1a": {
      "model_module": "@jupyter-widgets/controls",
      "model_module_version": "1.2.0",
      "model_name": "DescriptionStyleModel",
      "state": {
       "description_width": ""
      }
     },
     "db1e4da70e574d328eb4b0395d9d5099": {
      "model_module": "@jupyter-widgets/base",
      "model_module_version": "1.0.0",
      "model_name": "LayoutModel",
      "state": {
       "width": "auto"
      }
     },
     "db401807dd224cf9b09e0b6bfce6b878": {
      "model_module": "@jupyter-widgets/controls",
      "model_module_version": "1.2.0",
      "model_name": "FloatTextModel",
      "state": {
       "description": "min.",
       "layout": "IPY_MODEL_16adeca1a5c84244923fc975362493e7",
       "step": 0.1,
       "style": "IPY_MODEL_38dcb74fa34f48f4a0a41912cd4ac83d",
       "value": 0.5
      }
     },
     "db82f6ed96e04ec180beeb0545306c8e": {
      "model_module": "@jupyter-widgets/controls",
      "model_module_version": "1.2.0",
      "model_name": "DescriptionStyleModel",
      "state": {
       "description_width": ""
      }
     },
     "db84dc2b028949aea5dc5f2e91cbf792": {
      "model_module": "@jupyter-widgets/base",
      "model_module_version": "1.0.0",
      "model_name": "LayoutModel",
      "state": {
       "display": "none"
      }
     },
     "dba461e27a4f420da9fd5af4a5ee2dad": {
      "model_module": "@jupyter-widgets/controls",
      "model_module_version": "1.2.0",
      "model_name": "DescriptionStyleModel",
      "state": {
       "description_width": ""
      }
     },
     "dbb63c80dc9642bd9dbb73304be13397": {
      "model_module": "@jupyter-widgets/base",
      "model_module_version": "1.0.0",
      "model_name": "LayoutModel",
      "state": {}
     },
     "dc762c2f03604770bfc42e728b938bfb": {
      "model_module": "@jupyter-widgets/controls",
      "model_module_version": "1.2.0",
      "model_name": "BoundedIntTextModel",
      "state": {
       "description": "frame",
       "layout": "IPY_MODEL_2f74747c945244348968b676d001dc3d",
       "max": 49,
       "style": "IPY_MODEL_09565482a60f468594efd05d8d47ce33"
      }
     },
     "dc9b2fd2f53a40a29031dd96781ef514": {
      "model_module": "@jupyter-widgets/base",
      "model_module_version": "1.0.0",
      "model_name": "LayoutModel",
      "state": {}
     },
     "dca9dd971b584ed1885dee7f185ae186": {
      "model_module": "@jupyter-widgets/controls",
      "model_module_version": "1.2.0",
      "model_name": "VBoxModel",
      "state": {
       "children": [
        "IPY_MODEL_d96e483d1b09466ca38957a861f96be9",
        "IPY_MODEL_5b4a729fccd342f195d983a5748e6211"
       ],
       "layout": "IPY_MODEL_8ec6da2c67544898804aac810349c4c2"
      }
     },
     "dcbf8a889bd04d8c9ff2ccec087765e6": {
      "model_module": "@jupyter-widgets/base",
      "model_module_version": "1.0.0",
      "model_name": "LayoutModel",
      "state": {}
     },
     "dcc09b93320e44609364bbcb9876e1ee": {
      "model_module": "@jupyter-widgets/base",
      "model_module_version": "1.0.0",
      "model_name": "LayoutModel",
      "state": {
       "height": "150px",
       "width": "100%"
      }
     },
     "dcc1fee65e7e40488a2829e87fe22560": {
      "model_module": "@jupyter-widgets/controls",
      "model_module_version": "1.2.0",
      "model_name": "CheckboxModel",
      "state": {
       "description": "Size range",
       "disabled": false,
       "indent": false,
       "layout": "IPY_MODEL_3ffb629a5fc24209b28d844fa0f143d2",
       "style": "IPY_MODEL_82cc1b5d18df45f3a6d56f36a65c333b",
       "value": false
      }
     },
     "dcc952a66232410fa1fa9c39859c4476": {
      "model_module": "@jupyter-widgets/controls",
      "model_module_version": "1.2.0",
      "model_name": "DescriptionStyleModel",
      "state": {
       "description_width": ""
      }
     },
     "dcef5ea0496c44698a49d5beef93f6dc": {
      "model_module": "@jupyter-widgets/controls",
      "model_module_version": "1.2.0",
      "model_name": "HBoxModel",
      "state": {
       "children": [
        "IPY_MODEL_3f782f8371a24ca888d0504cc2dce459",
        "IPY_MODEL_5aa161b57ab74c31a2990499812f4952",
        "IPY_MODEL_530b6a43fc7247a7977cc8fe43e528a8"
       ],
       "layout": "IPY_MODEL_7cadca4ec02f4e818ba61018391b0e13"
      }
     },
     "dd18ffaa4dfc435198684d85c94556fd": {
      "model_module": "@jupyter-widgets/controls",
      "model_module_version": "1.2.0",
      "model_name": "DescriptionStyleModel",
      "state": {
       "description_width": ""
      }
     },
     "dd195f3a9952423dafc9b0ec968d2a48": {
      "model_module": "@jupyter-widgets/controls",
      "model_module_version": "1.2.0",
      "model_name": "SelectModel",
      "state": {
       "_options_labels": [
        "sensor-H57/cells-01_SAv-100k_SSS-H57-20k_000_.SPE"
       ],
       "index": 0,
       "layout": "IPY_MODEL_08d3390a8eb14b92a51410e0026a657c",
       "style": "IPY_MODEL_6d4e419261bb4e17a496830abcc5eeef"
      }
     },
     "dd7044f1536541f8b6d88270e4b24fec": {
      "model_module": "@jupyter-widgets/base",
      "model_module_version": "1.0.0",
      "model_name": "LayoutModel",
      "state": {
       "width": "100%"
      }
     },
     "dd9a793a269044e9867362bea1452dfa": {
      "model_module": "@jupyter-widgets/base",
      "model_module_version": "1.0.0",
      "model_name": "LayoutModel",
      "state": {}
     },
     "dda7600d8fc0499ba6e567e3d915bcb3": {
      "model_module": "@jupyter-widgets/controls",
      "model_module_version": "1.2.0",
      "model_name": "DescriptionStyleModel",
      "state": {
       "description_width": ""
      }
     },
     "ddb3be3e81694f63b945845860c9def7": {
      "model_module": "@jupyter-widgets/base",
      "model_module_version": "1.0.0",
      "model_name": "LayoutModel",
      "state": {
       "height": "150px",
       "width": "100%"
      }
     },
     "de096bf297284c4ba9d71eb7a810dadd": {
      "model_module": "@jupyter-widgets/base",
      "model_module_version": "1.0.0",
      "model_name": "LayoutModel",
      "state": {}
     },
     "de5dcfa265124cf994457d534f2c4215": {
      "model_module": "@jupyter-widgets/base",
      "model_module_version": "1.0.0",
      "model_name": "LayoutModel",
      "state": {
       "width": "auto"
      }
     },
     "de8dd318d68f4b1eb8d39594928fba54": {
      "model_module": "@jupyter-widgets/base",
      "model_module_version": "1.0.0",
      "model_name": "LayoutModel",
      "state": {
       "height": "150px",
       "width": "100%"
      }
     },
     "dea425607c3c4f77828d2dd2c9b30da5": {
      "model_module": "@jupyter-widgets/controls",
      "model_module_version": "1.2.0",
      "model_name": "FloatTextModel",
      "state": {
       "description": "max.",
       "layout": "IPY_MODEL_d63e77dedafe48898558983d15f08ff5",
       "step": 0.1,
       "style": "IPY_MODEL_dcc952a66232410fa1fa9c39859c4476",
       "value": 2
      }
     },
     "deaa69adc590440db289d16e8652a34d": {
      "model_module": "@jupyter-widgets/base",
      "model_module_version": "1.0.0",
      "model_name": "LayoutModel",
      "state": {}
     },
     "deb869177dc842ffbca85924bb7b3bac": {
      "model_module": "@jupyter-widgets/controls",
      "model_module_version": "1.2.0",
      "model_name": "FloatTextModel",
      "state": {
       "description": "max.",
       "layout": "IPY_MODEL_8363f9755aa04c31946b49bf6d81e6cd",
       "step": 0.1,
       "style": "IPY_MODEL_f324c84ec2c446569519026b07558eb9",
       "value": 2
      }
     },
     "df29ef34cc8940728c89c77772ee9ad5": {
      "model_module": "@jupyter-widgets/base",
      "model_module_version": "1.0.0",
      "model_name": "LayoutModel",
      "state": {
       "height": "150px",
       "width": "100%"
      }
     },
     "df29faf8273e48a5bee8d7a223cc08ac": {
      "model_module": "@jupyter-widgets/controls",
      "model_module_version": "1.2.0",
      "model_name": "FloatTextModel",
      "state": {
       "description": "sigma",
       "layout": "IPY_MODEL_3a5322cb3cb44c848a6da8e63862da57",
       "step": 0.1,
       "style": "IPY_MODEL_3bdc168d46bd4052a5c6535d639525d8",
       "value": 1
      }
     },
     "df2a54fb5a494245ae210802a381041a": {
      "model_module": "@jupyter-widgets/controls",
      "model_module_version": "1.2.0",
      "model_name": "VBoxModel",
      "state": {
       "children": [
        "IPY_MODEL_b373f55994874a9ca52d3dc07d8d2ec9",
        "IPY_MODEL_5ae695377cd74172a7305615d64c90c8",
        "IPY_MODEL_bc80a2902e974e47896e17c68df9abe2"
       ],
       "layout": "IPY_MODEL_fd283a9b705b4e168f6a0f5ea4275613"
      }
     },
     "df36990af733499b9507d029215f2f00": {
      "model_module": "@jupyter-widgets/base",
      "model_module_version": "1.0.0",
      "model_name": "LayoutModel",
      "state": {
       "width": "auto"
      }
     },
     "df8dfe6ad0f143f28f5319492ffa643c": {
      "model_module": "@jupyter-widgets/base",
      "model_module_version": "1.0.0",
      "model_name": "LayoutModel",
      "state": {}
     },
     "dfe5a54b21634c8eacd2143a7e1bb3b1": {
      "model_module": "@jupyter-widgets/controls",
      "model_module_version": "1.2.0",
      "model_name": "FloatTextModel",
      "state": {
       "description": "min.",
       "layout": "IPY_MODEL_03aea725465c47fa9e097730c1678540",
       "step": 0.1,
       "style": "IPY_MODEL_b724a9b097eb4e71b1647452e5cbb443",
       "value": 0.5
      }
     },
     "dff1d4a928f6463dae129c8cad3d3d3c": {
      "model_module": "@jupyter-widgets/controls",
      "model_module_version": "1.2.0",
      "model_name": "FloatTextModel",
      "state": {
       "description": "max.",
       "layout": "IPY_MODEL_1538691f74b44e72ac2a71f43fa8d908",
       "step": 0.1,
       "style": "IPY_MODEL_0296a0f59d2b495eacb4a67dee643a45",
       "value": 2
      }
     },
     "e0096b38b7aa4a74a77947079110a333": {
      "model_module": "@jupyter-widgets/controls",
      "model_module_version": "1.2.0",
      "model_name": "VBoxModel",
      "state": {
       "children": [
        "IPY_MODEL_0409ab0ac45f4d6b9b8e29003830c6c8",
        "IPY_MODEL_fd0e1df331454e93be279f4fd43c1fb6",
        "IPY_MODEL_6df85268451941229b5f55fc27677442"
       ],
       "layout": "IPY_MODEL_6c118529db474c7ebc022a50f0818c18"
      }
     },
     "e02bb29280d04a059fd09a38ba6d3397": {
      "model_module": "@jupyter-widgets/controls",
      "model_module_version": "1.2.0",
      "model_name": "IntRangeSliderModel",
      "state": {
       "_model_name": "IntRangeSliderModel",
       "_view_name": "IntRangeSliderView",
       "layout": "IPY_MODEL_263c7b3f7a5945b1a9b4b41ecb3dc41f",
       "max": 65535,
       "style": "IPY_MODEL_7d08cafb736a41c2afb0cf75a29fa8b9",
       "value": [
        134,
        25393
       ]
      }
     },
     "e07320cc570c4cb19f38f6d1aa6da5d5": {
      "model_module": "@jupyter-widgets/controls",
      "model_module_version": "1.2.0",
      "model_name": "DescriptionStyleModel",
      "state": {
       "description_width": ""
      }
     },
     "e0af1a73d3514a41b622304dfcb6b8be": {
      "model_module": "@jupyter-widgets/base",
      "model_module_version": "1.0.0",
      "model_name": "LayoutModel",
      "state": {
       "display": "none"
      }
     },
     "e0c21e017fae4469abcf38c5338a9fcd": {
      "model_module": "@jupyter-widgets/controls",
      "model_module_version": "1.2.0",
      "model_name": "DescriptionStyleModel",
      "state": {
       "description_width": ""
      }
     },
     "e0de3359d3ad4c85a2024598e52fb1b2": {
      "model_module": "@jupyter-widgets/base",
      "model_module_version": "1.0.0",
      "model_name": "LayoutModel",
      "state": {}
     },
     "e1417e10882d453988e80d2eca921cce": {
      "model_module": "@jupyter-widgets/controls",
      "model_module_version": "1.2.0",
      "model_name": "VBoxModel",
      "state": {
       "children": [
        "IPY_MODEL_b97477e6a04949cb99a424a06ac29b0d",
        "IPY_MODEL_66e936967d4042edb49f55f4446bbcdb",
        "IPY_MODEL_64ffbb4965a94f559a4c0cfc26562eac"
       ],
       "layout": "IPY_MODEL_148091cf6441474c8ef54f7f093ea314"
      }
     },
     "e17c5727b9e04a1088b58e6a22d8b980": {
      "model_module": "@jupyter-widgets/controls",
      "model_module_version": "1.2.0",
      "model_name": "DescriptionStyleModel",
      "state": {
       "description_width": ""
      }
     },
     "e19a11b395424a579922ad3ad491538c": {
      "model_module": "@jupyter-widgets/controls",
      "model_module_version": "1.2.0",
      "model_name": "DescriptionStyleModel",
      "state": {
       "description_width": ""
      }
     },
     "e1a105091162443aaadaede73df61fab": {
      "model_module": "@jupyter-widgets/controls",
      "model_module_version": "1.2.0",
      "model_name": "FloatTextModel",
      "state": {
       "description": "sigma",
       "layout": "IPY_MODEL_a2391440da5a4bd8a2d990b49a348864",
       "step": 0.1,
       "style": "IPY_MODEL_a83984f400c94bf6991daf533bb787bc",
       "value": 1
      }
     },
     "e1eabbbfd4b04c4f88b559ebdf18eb02": {
      "model_module": "@jupyter-widgets/controls",
      "model_module_version": "1.2.0",
      "model_name": "IntRangeSliderModel",
      "state": {
       "_model_name": "IntRangeSliderModel",
       "_view_name": "IntRangeSliderView",
       "layout": "IPY_MODEL_5a5dc38c8a6a42f0a08431c0f89f295b",
       "max": 65535,
       "style": "IPY_MODEL_8f03041c80844d6aac8a93c20c78e2c3",
       "value": [
        134,
        25393
       ]
      }
     },
     "e201e92cb5fa41e8af16546c7577b729": {
      "model_module": "@jupyter-widgets/base",
      "model_module_version": "1.0.0",
      "model_name": "LayoutModel",
      "state": {
       "display": "flex",
       "flex_flow": "column wrap",
       "width": "66%"
      }
     },
     "e2501d102e874250bef67ae4226556e2": {
      "model_module": "@jupyter-widgets/controls",
      "model_module_version": "1.2.0",
      "model_name": "CheckboxModel",
      "state": {
       "description": "Size range",
       "disabled": false,
       "indent": false,
       "layout": "IPY_MODEL_0e15b4ab70e64fb69be8687a31917ad0",
       "style": "IPY_MODEL_12a71bb1fa3543c4a44273b64a802864",
       "value": false
      }
     },
     "e28a31bb25d64810b28a553f3b93e80b": {
      "model_module": "@jupyter-widgets/controls",
      "model_module_version": "1.2.0",
      "model_name": "DescriptionStyleModel",
      "state": {
       "description_width": ""
      }
     },
     "e2edb6304382450b823e5655179f5a6d": {
      "model_module": "@jupyter-widgets/controls",
      "model_module_version": "1.2.0",
      "model_name": "VBoxModel",
      "state": {
       "children": [
        "IPY_MODEL_2dcd207dc31e43ba81fa5e18ff2c7f5e",
        "IPY_MODEL_ee58ab783efa4765bb4701fd34701882",
        "IPY_MODEL_7ba82f1bc9f44a9ab5436345270cc38b"
       ],
       "layout": "IPY_MODEL_b2d2c403c2e54fc990e91655a19871f4"
      }
     },
     "e372ba2d74b8463db4786dc761cb09eb": {
      "model_module": "@jupyter-widgets/controls",
      "model_module_version": "1.2.0",
      "model_name": "DescriptionStyleModel",
      "state": {
       "description_width": ""
      }
     },
     "e3bdd03ca0ee4ed5bd7975bb27a948e7": {
      "model_module": "@jupyter-widgets/base",
      "model_module_version": "1.0.0",
      "model_name": "LayoutModel",
      "state": {
       "border": "1px solid gray"
      }
     },
     "e3e1a82efc5947c0830d8ce22bc8bd96": {
      "model_module": "@jupyter-widgets/base",
      "model_module_version": "1.0.0",
      "model_name": "LayoutModel",
      "state": {
       "height": "150px",
       "width": "100%"
      }
     },
     "e4432ff0f82a4912ac85dd08f6e539b0": {
      "model_module": "@jupyter-widgets/controls",
      "model_module_version": "1.2.0",
      "model_name": "FloatTextModel",
      "state": {
       "description": "threshold",
       "layout": "IPY_MODEL_4f59f7c7f95349aaaf46f4a293531ded",
       "step": 10,
       "style": "IPY_MODEL_603f6d221e8049b5a98f4145480c1bab",
       "value": 80
      }
     },
     "e443c838649f4033956e752b74c810a0": {
      "model_module": "@jupyter-widgets/base",
      "model_module_version": "1.0.0",
      "model_name": "LayoutModel",
      "state": {}
     },
     "e49caeeef93048f3a2f0ba4968ab5447": {
      "model_module": "@jupyter-widgets/base",
      "model_module_version": "1.0.0",
      "model_name": "LayoutModel",
      "state": {
       "width": "auto"
      }
     },
     "e4a7d5985d9246e59f591bf25c398d01": {
      "model_module": "@jupyter-widgets/controls",
      "model_module_version": "1.2.0",
      "model_name": "ButtonStyleModel",
      "state": {}
     },
     "e4b7ecda4ad2471eb30d35e20928ad25": {
      "model_module": "@jupyter-widgets/controls",
      "model_module_version": "1.2.0",
      "model_name": "CheckboxModel",
      "state": {
       "description": "Min. distance",
       "disabled": false,
       "indent": false,
       "layout": "IPY_MODEL_d390553b939f4f698bd9795f988dd207",
       "style": "IPY_MODEL_0f6cb1432de1435a9412ac14c5c56d0b",
       "value": true
      }
     },
     "e4cf0e0a78374e2080f293b628f173bf": {
      "model_module": "@jupyter-widgets/controls",
      "model_module_version": "1.2.0",
      "model_name": "FloatTextModel",
      "state": {
       "description": "sigma",
       "layout": "IPY_MODEL_004a165785f648a6af498860645ce22a",
       "step": 0.1,
       "style": "IPY_MODEL_c8a4732a27e4461ea7a550108f273591",
       "value": 1
      }
     },
     "e4cfcf0e648d475b8b59be966b465866": {
      "model_module": "@jupyter-widgets/base",
      "model_module_version": "1.0.0",
      "model_name": "LayoutModel",
      "state": {}
     },
     "e52dc050c90b4f95ae0574a97f6bab48": {
      "model_module": "@jupyter-widgets/base",
      "model_module_version": "1.0.0",
      "model_name": "LayoutModel",
      "state": {
       "width": "auto"
      }
     },
     "e5af1c9d0bf94a41b4eba05dd22e83ff": {
      "model_module": "@jupyter-widgets/controls",
      "model_module_version": "1.2.0",
      "model_name": "FloatTextModel",
      "state": {
       "description": "max.",
       "layout": "IPY_MODEL_9a954b9891c644eba6660740314c3850",
       "step": 0.1,
       "style": "IPY_MODEL_c1d97af4af07498cae7d5b1c4be5295c",
       "value": 2
      }
     },
     "e5f0b576dc474a79ba6dde69d2627e1e": {
      "model_module": "@jupyter-widgets/controls",
      "model_module_version": "1.2.0",
      "model_name": "FloatTextModel",
      "state": {
       "description": "radius",
       "layout": "IPY_MODEL_8da328fcd8204bd592c2e6cc3480b1d4",
       "step": 0.1,
       "style": "IPY_MODEL_f23b5d5e3296400aa8a5af05287ca5f2",
       "value": 1
      }
     },
     "e61264a217664ee696e47284c439a285": {
      "model_module": "@jupyter-widgets/controls",
      "model_module_version": "1.2.0",
      "model_name": "FloatTextModel",
      "state": {
       "layout": "IPY_MODEL_695b82bde4b24db099d5eeaa49f2b112",
       "step": 0.1,
       "style": "IPY_MODEL_fbd86cc786c14f238655e284433736d9",
       "value": 3
      }
     },
     "e671edec20394f92b29c23c6cad1c372": {
      "model_module": "@jupyter-widgets/controls",
      "model_module_version": "1.2.0",
      "model_name": "DescriptionStyleModel",
      "state": {
       "description_width": ""
      }
     },
     "e675eb635a8d47be92f5923a24b15780": {
      "model_module": "@jupyter-widgets/controls",
      "model_module_version": "1.2.0",
      "model_name": "DescriptionStyleModel",
      "state": {
       "description_width": ""
      }
     },
     "e6b2ca2ca1f64f1b80e5d80da0c6ad93": {
      "model_module": "@jupyter-widgets/controls",
      "model_module_version": "1.2.0",
      "model_name": "DescriptionStyleModel",
      "state": {
       "description_width": ""
      }
     },
     "e6bb0a1678d840b8bf53ff3fd98da3fa": {
      "model_module": "@jupyter-widgets/controls",
      "model_module_version": "1.2.0",
      "model_name": "BoundedIntTextModel",
      "state": {
       "description": "frame",
       "layout": "IPY_MODEL_5374c6190bc94421b907718a226cc3ce",
       "max": 0,
       "style": "IPY_MODEL_687a2ff0b9fe40e791b38a8bc7183f14"
      }
     },
     "e6f90818e44e4f82bdae93466567aec2": {
      "model_module": "@jupyter-widgets/base",
      "model_module_version": "1.0.0",
      "model_name": "LayoutModel",
      "state": {
       "width": "auto"
      }
     },
     "e704f90bcb3c446badc7d2eeb77c1ff3": {
      "model_module": "@jupyter-widgets/base",
      "model_module_version": "1.0.0",
      "model_name": "LayoutModel",
      "state": {
       "display": "none"
      }
     },
     "e71fb3523ffa4b1aa40a594304fe041f": {
      "model_module": "@jupyter-widgets/base",
      "model_module_version": "1.0.0",
      "model_name": "LayoutModel",
      "state": {
       "display": "none"
      }
     },
     "e73200dfa3a84a7e902c264f06cb8050": {
      "model_module": "@jupyter-widgets/base",
      "model_module_version": "1.0.0",
      "model_name": "LayoutModel",
      "state": {
       "border": "1px solid gray"
      }
     },
     "e73df47e85a94b77813998ab4e5b26ee": {
      "model_module": "@jupyter-widgets/base",
      "model_module_version": "1.0.0",
      "model_name": "LayoutModel",
      "state": {
       "display": "flex",
       "flex_flow": "column wrap",
       "width": "66%"
      }
     },
     "e761c5db4766467895ca2f34b0e4a0da": {
      "model_module": "@jupyter-widgets/base",
      "model_module_version": "1.0.0",
      "model_name": "LayoutModel",
      "state": {
       "display": "none"
      }
     },
     "e79b245b362c4276a0cd73ea74f0d8c9": {
      "model_module": "@jupyter-widgets/base",
      "model_module_version": "1.0.0",
      "model_name": "LayoutModel",
      "state": {
       "width": "auto"
      }
     },
     "e81b1626cd0a43708106ffdbcf2dc112": {
      "model_module": "@jupyter-widgets/controls",
      "model_module_version": "1.2.0",
      "model_name": "HBoxModel",
      "state": {
       "children": [
        "IPY_MODEL_224e1cf0fe094f1cb7bd8bd9e295a39e",
        "IPY_MODEL_9afd4d9e38e94b159e27835ab50dbb0b",
        "IPY_MODEL_7a134be248c44819aa97966728f0c277"
       ],
       "layout": "IPY_MODEL_0bd360a680314cf9ae5ad3f3958c587e"
      }
     },
     "e8f311db4aae46339bc213801ec79649": {
      "model_module": "@jupyter-widgets/controls",
      "model_module_version": "1.2.0",
      "model_name": "DescriptionStyleModel",
      "state": {
       "description_width": ""
      }
     },
     "e8f899ae81b342c3a754c989ebecfc61": {
      "model_module": "@jupyter-widgets/base",
      "model_module_version": "1.0.0",
      "model_name": "LayoutModel",
      "state": {
       "width": "75%"
      }
     },
     "e91726fd7c014a8ba3e9371ba0ef440d": {
      "model_module": "@jupyter-widgets/controls",
      "model_module_version": "1.2.0",
      "model_name": "IntTextModel",
      "state": {
       "description": "feat. size",
       "layout": "IPY_MODEL_098bb99af1444004b3183b58bee89a05",
       "step": 1,
       "style": "IPY_MODEL_34bf8cbaf2714eb597514540f77ca60d",
       "value": 3
      }
     },
     "e930f2092d854d7595af2c6f9be1d517": {
      "model_module": "@jupyter-widgets/base",
      "model_module_version": "1.0.0",
      "model_name": "LayoutModel",
      "state": {
       "width": "auto"
      }
     },
     "e96c896d4f344616b11a89abc57afed0": {
      "model_module": "@jupyter-widgets/controls",
      "model_module_version": "1.2.0",
      "model_name": "DescriptionStyleModel",
      "state": {
       "description_width": ""
      }
     },
     "e98a03ff22104c9aafaced303ca0cc23": {
      "model_module": "@jupyter-widgets/controls",
      "model_module_version": "1.2.0",
      "model_name": "VBoxModel",
      "state": {
       "children": [
        "IPY_MODEL_4d8797da39e146098e2acf3e58307800",
        "IPY_MODEL_963fcc50330b45d085af26165f78fcfd",
        "IPY_MODEL_4beac3c535f3486a8b97bcaede91171a"
       ],
       "layout": "IPY_MODEL_d11b8b45a4ad44eea60029274dfe2e79"
      }
     },
     "e98ebd4492074318973e80751dd01ac2": {
      "model_module": "@jupyter-widgets/controls",
      "model_module_version": "1.2.0",
      "model_name": "DescriptionStyleModel",
      "state": {
       "description_width": ""
      }
     },
     "ea03a5b8e13845c1a1f05cd163f41ba5": {
      "model_module": "@jupyter-widgets/controls",
      "model_module_version": "1.2.0",
      "model_name": "HBoxModel",
      "state": {
       "children": [
        "IPY_MODEL_38a7fdf1a3bb4fc5ba8172b7e156b029",
        "IPY_MODEL_7c91f459dac54e8fa020dd41e8b948e8",
        "IPY_MODEL_67a2721f2fb745d78c88542cc4b0693c"
       ],
       "layout": "IPY_MODEL_a618d0b1bf9a4b6aaebbc4f56e910f8c"
      }
     },
     "ea0b6a5546d9429ea7de2c7325b94dc9": {
      "model_module": "@jupyter-widgets/controls",
      "model_module_version": "1.2.0",
      "model_name": "DescriptionStyleModel",
      "state": {
       "description_width": ""
      }
     },
     "ea337e089ffe4346ad274bae74d547e6": {
      "model_module": "@jupyter-widgets/controls",
      "model_module_version": "1.2.0",
      "model_name": "DescriptionStyleModel",
      "state": {
       "description_width": ""
      }
     },
     "ea6aa6a598bf4cf597fb6d0781cf82d7": {
      "model_module": "@jupyter-widgets/controls",
      "model_module_version": "1.2.0",
      "model_name": "CheckboxModel",
      "state": {
       "description": "Size range",
       "disabled": false,
       "indent": false,
       "layout": "IPY_MODEL_3681124aa8ad436984338a2f81ea7fcb",
       "style": "IPY_MODEL_8a6550c5cbe647d68a2115ac8442b978",
       "value": false
      }
     },
     "ea75b7b76fc947c1a28b1f756d684b82": {
      "model_module": "@jupyter-widgets/base",
      "model_module_version": "1.0.0",
      "model_name": "LayoutModel",
      "state": {}
     },
     "eabca0ff3a3d4966ae8ae42be2d62ee4": {
      "model_module": "@jupyter-widgets/controls",
      "model_module_version": "1.2.0",
      "model_name": "FloatTextModel",
      "state": {
       "layout": "IPY_MODEL_0fbf87dece764104b2cc5449cc9c7045",
       "step": 0.1,
       "style": "IPY_MODEL_48c68a4560844d3fbb31562db6e9683e",
       "value": 3
      }
     },
     "eabfc79546414ba9812c47f254b8d06b": {
      "model_module": "@jupyter-widgets/controls",
      "model_module_version": "1.2.0",
      "model_name": "DescriptionStyleModel",
      "state": {
       "description_width": ""
      }
     },
     "eae3fcedbbfc4f4b81a8fd7d7fa9cea1": {
      "model_module": "@jupyter-widgets/controls",
      "model_module_version": "1.2.0",
      "model_name": "HBoxModel",
      "state": {
       "children": [
        "IPY_MODEL_7b03f085f65f420f8a3f52353e8d06af",
        "IPY_MODEL_91965d064d4e404fb585454f0d66f835"
       ],
       "layout": "IPY_MODEL_1e3129fc5cd44769b18bc99ca51ed37a"
      }
     },
     "eb2d64499f374b36a0f83207af0348f7": {
      "model_module": "@jupyter-widgets/controls",
      "model_module_version": "1.2.0",
      "model_name": "DescriptionStyleModel",
      "state": {
       "description_width": ""
      }
     },
     "eb4125f7a52e4823b9976a3c9e7e9aea": {
      "model_module": "@jupyter-widgets/controls",
      "model_module_version": "1.2.0",
      "model_name": "DescriptionStyleModel",
      "state": {
       "description_width": ""
      }
     },
     "eb5451efc5f34fe5a9562b3a22bd3ccc": {
      "model_module": "@jupyter-widgets/controls",
      "model_module_version": "1.2.0",
      "model_name": "DescriptionStyleModel",
      "state": {
       "description_width": ""
      }
     },
     "eb85ee028e3b458b8c9f8e8945f5c950": {
      "model_module": "@jupyter-widgets/base",
      "model_module_version": "1.0.0",
      "model_name": "LayoutModel",
      "state": {}
     },
     "eb8a6c492cbb40afa6de05b53bec888b": {
      "model_module": "@jupyter-widgets/controls",
      "model_module_version": "1.2.0",
      "model_name": "ButtonStyleModel",
      "state": {}
     },
     "eb8ea61d9b884dfeab0e5844d8e02b7a": {
      "model_module": "@jupyter-widgets/controls",
      "model_module_version": "1.2.0",
      "model_name": "BoundedIntTextModel",
      "state": {
       "description": "frame",
       "layout": "IPY_MODEL_79408f63579c4a6eb87afeda2a783ead",
       "max": 49,
       "style": "IPY_MODEL_486ef561d5ad4ed8b6b402d8f99f85c4"
      }
     },
     "eb93cedbbc1a4dd899a9900ff44c55a5": {
      "model_module": "@jupyter-widgets/base",
      "model_module_version": "1.0.0",
      "model_name": "LayoutModel",
      "state": {}
     },
     "eb9b74271d2d44dcb8aced8f36b6dea4": {
      "model_module": "@jupyter-widgets/controls",
      "model_module_version": "1.2.0",
      "model_name": "DescriptionStyleModel",
      "state": {
       "description_width": ""
      }
     },
     "ebb31843612e4b4fb1f96750a22bf8a9": {
      "model_module": "@jupyter-widgets/controls",
      "model_module_version": "1.2.0",
      "model_name": "FloatTextModel",
      "state": {
       "layout": "IPY_MODEL_d0e29c1372864fdeb9e793b8d54bae2b",
       "step": 0.1,
       "style": "IPY_MODEL_2dfba74104b24ebe8e5d983f36979c28",
       "value": 3
      }
     },
     "ebfdd479dffd499392a03cd744a5e4a0": {
      "model_module": "@jupyter-widgets/controls",
      "model_module_version": "1.2.0",
      "model_name": "HBoxModel",
      "state": {
       "children": [
        "IPY_MODEL_a60a97a0997c4d61b56ed21f67dcdefa",
        "IPY_MODEL_7eba0bf824a04ba59bf6385b7b96348e"
       ],
       "layout": "IPY_MODEL_60ec7cfe558846189357291a45dc9a81"
      }
     },
     "ebfe0329c9a54c26a8d0d1bc90fd1a37": {
      "model_module": "@jupyter-widgets/controls",
      "model_module_version": "1.2.0",
      "model_name": "IntRangeSliderModel",
      "state": {
       "_model_name": "IntRangeSliderModel",
       "_view_name": "IntRangeSliderView",
       "layout": "IPY_MODEL_2750af465b3b43f9b53afe32e8b254fa",
       "max": 65535,
       "style": "IPY_MODEL_095a4faaffa94acba0dd70dc2c9df44f",
       "value": [
        288,
        891
       ]
      }
     },
     "ec077ad547c24384a0fa385f60917c41": {
      "model_module": "@jupyter-widgets/base",
      "model_module_version": "1.0.0",
      "model_name": "LayoutModel",
      "state": {}
     },
     "ec102a599105400b922cb4662298b6c5": {
      "model_module": "@jupyter-widgets/base",
      "model_module_version": "1.0.0",
      "model_name": "LayoutModel",
      "state": {}
     },
     "ec3a39d4975e48498ef052621df3d348": {
      "model_module": "@jupyter-widgets/controls",
      "model_module_version": "1.2.0",
      "model_name": "FloatTextModel",
      "state": {
       "description": "threshold",
       "layout": "IPY_MODEL_62d7207d1edb4aec95d7b6c0366bf9a0",
       "step": 10,
       "style": "IPY_MODEL_9740de8672ba4075ba979d71501a1f50",
       "value": 100
      }
     },
     "ec76c6f4165e4b56bbbc2ebc8027f09c": {
      "model_module": "@jupyter-widgets/controls",
      "model_module_version": "1.2.0",
      "model_name": "DropdownModel",
      "state": {
       "_options_labels": [
        "2d_fixed",
        "2d",
        "3d"
       ],
       "description": "model",
       "index": 1,
       "layout": "IPY_MODEL_7b761e89fa234cb08725d6348836a0ee",
       "style": "IPY_MODEL_eb4125f7a52e4823b9976a3c9e7e9aea"
      }
     },
     "ecb8bac5108d45a78922b28f3f46ed26": {
      "model_module": "@jupyter-widgets/controls",
      "model_module_version": "1.2.0",
      "model_name": "DescriptionStyleModel",
      "state": {
       "description_width": ""
      }
     },
     "ecc12122d14a49e08bd8d8a6abf47879": {
      "model_module": "@jupyter-widgets/base",
      "model_module_version": "1.0.0",
      "model_name": "LayoutModel",
      "state": {
       "height": "150px",
       "width": "100%"
      }
     },
     "ecceb57342d84d7eb2790085b645c9d5": {
      "model_module": "@jupyter-widgets/base",
      "model_module_version": "1.0.0",
      "model_name": "LayoutModel",
      "state": {
       "display": "inline"
      }
     },
     "ecd47fa07d1142bea9392cc41b33eee5": {
      "model_module": "@jupyter-widgets/controls",
      "model_module_version": "1.2.0",
      "model_name": "DescriptionStyleModel",
      "state": {
       "description_width": ""
      }
     },
     "ed0d482f13a94b8aa51d17b77120e7e0": {
      "model_module": "@jupyter-widgets/controls",
      "model_module_version": "1.2.0",
      "model_name": "DescriptionStyleModel",
      "state": {
       "description_width": ""
      }
     },
     "ed1451ab05ed447b886aebbf160448e1": {
      "model_module": "@jupyter-widgets/controls",
      "model_module_version": "1.2.0",
      "model_name": "VBoxModel",
      "state": {
       "children": [
        "IPY_MODEL_dd195f3a9952423dafc9b0ec968d2a48",
        "IPY_MODEL_dc762c2f03604770bfc42e728b938bfb"
       ],
       "layout": "IPY_MODEL_030beaf9a07c41708ef5d2a2e0be05f5"
      }
     },
     "ed36a418cd2a4bd0b0d8656c05df3454": {
      "model_module": "@jupyter-widgets/controls",
      "model_module_version": "1.2.0",
      "model_name": "SliderStyleModel",
      "state": {
       "description_width": ""
      }
     },
     "ed60be68de04477a94324f0eb040ef4d": {
      "model_module": "@jupyter-widgets/controls",
      "model_module_version": "1.2.0",
      "model_name": "SliderStyleModel",
      "state": {
       "description_width": ""
      }
     },
     "ed6380d8ac0d4669808c453d50ba50a5": {
      "model_module": "@jupyter-widgets/controls",
      "model_module_version": "1.2.0",
      "model_name": "DescriptionStyleModel",
      "state": {
       "description_width": ""
      }
     },
     "ed663a271ac945caa0969117f52a1111": {
      "model_module": "@jupyter-widgets/base",
      "model_module_version": "1.0.0",
      "model_name": "LayoutModel",
      "state": {
       "width": "auto"
      }
     },
     "ed7a81a126de4e08aa3a55b3e4fbfa4a": {
      "model_module": "@jupyter-widgets/base",
      "model_module_version": "1.0.0",
      "model_name": "LayoutModel",
      "state": {}
     },
     "ed92f97417e347d18132099a5875532b": {
      "model_module": "@jupyter-widgets/controls",
      "model_module_version": "1.2.0",
      "model_name": "DescriptionStyleModel",
      "state": {
       "description_width": ""
      }
     },
     "edc2949c96304ab1b6e61e36f72849ca": {
      "model_module": "@jupyter-widgets/controls",
      "model_module_version": "1.2.0",
      "model_name": "DescriptionStyleModel",
      "state": {
       "description_width": ""
      }
     },
     "edcf26e89f0140129f39cf5f6752a772": {
      "model_module": "@jupyter-widgets/base",
      "model_module_version": "1.0.0",
      "model_name": "LayoutModel",
      "state": {
       "width": "auto"
      }
     },
     "edd9c9425ed94f2195ebe182c687351a": {
      "model_module": "@jupyter-widgets/controls",
      "model_module_version": "1.2.0",
      "model_name": "DescriptionStyleModel",
      "state": {
       "description_width": ""
      }
     },
     "edfce0634e054ba1804ee9fa334e0c8e": {
      "model_module": "@jupyter-widgets/base",
      "model_module_version": "1.0.0",
      "model_name": "LayoutModel",
      "state": {
       "border": "1px solid gray"
      }
     },
     "ee58ab783efa4765bb4701fd34701882": {
      "model_module": "@jupyter-widgets/controls",
      "model_module_version": "1.2.0",
      "model_name": "FloatTextModel",
      "state": {
       "description": "min.",
       "layout": "IPY_MODEL_57792291a97947bbabf742c7d545ef62",
       "step": 0.1,
       "style": "IPY_MODEL_6a117355361e4c94b6d24f81401c6571",
       "value": 0.5
      }
     },
     "eea8ebc84b0f4de58a6dc8e82012bc74": {
      "model_module": "@jupyter-widgets/base",
      "model_module_version": "1.0.0",
      "model_name": "LayoutModel",
      "state": {}
     },
     "eec64e22e1e84613999d8be9d4cecb85": {
      "model_module": "@jupyter-widgets/controls",
      "model_module_version": "1.2.0",
      "model_name": "HBoxModel",
      "state": {
       "children": [
        "IPY_MODEL_e02bb29280d04a059fd09a38ba6d3397",
        "IPY_MODEL_eefc05589d104739b94dba9f93d62444",
        "IPY_MODEL_49f47ccf89f748e787085a389a86a031"
       ],
       "layout": "IPY_MODEL_11bc5b1e3dc949a284eaa6fedf5ca20e"
      }
     },
     "eee1dd1696e74a3d9eef271fc2b51b01": {
      "model_module": "@jupyter-widgets/controls",
      "model_module_version": "1.2.0",
      "model_name": "HBoxModel",
      "state": {
       "children": [
        "IPY_MODEL_425c2255dfdc44a39fbc8ac9b2d7bb89",
        "IPY_MODEL_2efa69b4d750402ebc98cbc7f32d21de",
        "IPY_MODEL_23584d65dabc4ac5bca52dd8242e6d0b"
       ],
       "layout": "IPY_MODEL_172848b4e2ee4cc0acb10b8f5bfebb13"
      }
     },
     "eefc05589d104739b94dba9f93d62444": {
      "model_module": "@jupyter-widgets/controls",
      "model_module_version": "1.2.0",
      "model_name": "ButtonModel",
      "state": {
       "description": "Auto",
       "layout": "IPY_MODEL_2e7b3e7890d948e0915983a4ef86ab85",
       "style": "IPY_MODEL_bdd95c5267ef40069426a2ef7b620280"
      }
     },
     "ef11086c136645e6bcb1b062b9132344": {
      "model_module": "@jupyter-widgets/controls",
      "model_module_version": "1.2.0",
      "model_name": "VBoxModel",
      "state": {
       "children": [
        "IPY_MODEL_0203ed12b70147ab820d372e3bb3afd2",
        "IPY_MODEL_bd2af5b109eb499596c35b07c0e3869c",
        "IPY_MODEL_dff1d4a928f6463dae129c8cad3d3d3c"
       ],
       "layout": "IPY_MODEL_4fd56e3ac5d54036ab16c9db9aa9eee6"
      }
     },
     "ef583b65214f4e799def73a9bcee58da": {
      "model_module": "@jupyter-widgets/base",
      "model_module_version": "1.0.0",
      "model_name": "LayoutModel",
      "state": {}
     },
     "ef7105e4a7684fe1b412815e09bf964e": {
      "model_module": "@jupyter-widgets/controls",
      "model_module_version": "1.2.0",
      "model_name": "DropdownModel",
      "state": {
       "_options_labels": [
        "Identity",
        "Cg",
        "Gaussian"
       ],
       "description": "find filter",
       "index": 1,
       "layout": "IPY_MODEL_f3c89bc563f94825b2d2fa0c2d695979",
       "style": "IPY_MODEL_1fad2e716f70409e858650e25736c999"
      }
     },
     "ef9284b5f5e14297af782c30a61ebab1": {
      "model_module": "@jupyter-widgets/controls",
      "model_module_version": "1.2.0",
      "model_name": "FloatTextModel",
      "state": {
       "description": "max.",
       "layout": "IPY_MODEL_6b47dd2b40204bcbb0d7c6efa0d74984",
       "step": 0.1,
       "style": "IPY_MODEL_0b016037b1b242e09c406091965d5de8",
       "value": 2
      }
     },
     "ef95de6fd94f45e78a72b3debec04d11": {
      "model_module": "@jupyter-widgets/base",
      "model_module_version": "1.0.0",
      "model_name": "LayoutModel",
      "state": {
       "display": "none"
      }
     },
     "ef96b9ee0b834f7ebd60e3a76226f34e": {
      "model_module": "@jupyter-widgets/base",
      "model_module_version": "1.0.0",
      "model_name": "LayoutModel",
      "state": {
       "display": "none"
      }
     },
     "efabb69312cd4d66ba1eced521f74e56": {
      "model_module": "@jupyter-widgets/controls",
      "model_module_version": "1.2.0",
      "model_name": "DescriptionStyleModel",
      "state": {
       "description_width": ""
      }
     },
     "efc6cb4e8cab4a86ae2521db39ceb4ae": {
      "model_module": "@jupyter-widgets/controls",
      "model_module_version": "1.2.0",
      "model_name": "DescriptionStyleModel",
      "state": {
       "description_width": ""
      }
     },
     "eff1bedff8c4495781f64e72b69d3fe7": {
      "model_module": "@jupyter-widgets/controls",
      "model_module_version": "1.2.0",
      "model_name": "BoundedIntTextModel",
      "state": {
       "description": "frame",
       "layout": "IPY_MODEL_be961b89ce0a4149973cabf1c701a3d0",
       "max": 0,
       "style": "IPY_MODEL_dda7600d8fc0499ba6e567e3d915bcb3"
      }
     },
     "f0367f1de118469ba8b00941e610a68e": {
      "model_module": "@jupyter-widgets/controls",
      "model_module_version": "1.2.0",
      "model_name": "SliderStyleModel",
      "state": {
       "description_width": ""
      }
     },
     "f09107aafae74a6fa022c90364a58dcf": {
      "model_module": "@jupyter-widgets/controls",
      "model_module_version": "1.2.0",
      "model_name": "DescriptionStyleModel",
      "state": {
       "description_width": ""
      }
     },
     "f0a8fd71c949419c816299f44103538f": {
      "model_module": "@jupyter-widgets/controls",
      "model_module_version": "1.2.0",
      "model_name": "ButtonStyleModel",
      "state": {}
     },
     "f0c56595a26442fda945eba4d2ce93de": {
      "model_module": "@jupyter-widgets/base",
      "model_module_version": "1.0.0",
      "model_name": "LayoutModel",
      "state": {
       "width": "75%"
      }
     },
     "f0c7bb441e6e4b528f534b973d41fad0": {
      "model_module": "@jupyter-widgets/controls",
      "model_module_version": "1.2.0",
      "model_name": "DropdownModel",
      "state": {
       "_options_labels": [
        "Identity",
        "Cg",
        "Gaussian"
       ],
       "description": "find filter",
       "index": 1,
       "layout": "IPY_MODEL_71e2a8a45af34ed788cde52d8bfa61bf",
       "style": "IPY_MODEL_7364276c133a4c3eaaa343befc2a703b"
      }
     },
     "f11472961bf9417bb5f947a08586a9f8": {
      "model_module": "@jupyter-widgets/base",
      "model_module_version": "1.0.0",
      "model_name": "LayoutModel",
      "state": {
       "display": "none"
      }
     },
     "f172e379c8aa40d498e73d9fe907025a": {
      "model_module": "@jupyter-widgets/base",
      "model_module_version": "1.0.0",
      "model_name": "LayoutModel",
      "state": {
       "width": "auto"
      }
     },
     "f17b48ffaafc4ac482e8809faaa834a8": {
      "model_module": "@jupyter-widgets/controls",
      "model_module_version": "1.2.0",
      "model_name": "FloatTextModel",
      "state": {
       "description": "max.",
       "layout": "IPY_MODEL_354a798a39b64454b1601798ffc3b8da",
       "step": 0.1,
       "style": "IPY_MODEL_e28a31bb25d64810b28a553f3b93e80b",
       "value": 2
      }
     },
     "f196e1c1e9ca4dfa8acc074641bccf84": {
      "model_module": "@jupyter-widgets/controls",
      "model_module_version": "1.2.0",
      "model_name": "HBoxModel",
      "state": {
       "children": [
        "IPY_MODEL_91e07288880e4ec1acbb5ce39898e869",
        "IPY_MODEL_ccd4bace9fbc441ba44bf1a202ee6362",
        "IPY_MODEL_a07147f711e7440981b4726a70f1a092"
       ],
       "layout": "IPY_MODEL_2dd721c826fe4e56abc05887e2133573"
      }
     },
     "f23b5d5e3296400aa8a5af05287ca5f2": {
      "model_module": "@jupyter-widgets/controls",
      "model_module_version": "1.2.0",
      "model_name": "DescriptionStyleModel",
      "state": {
       "description_width": ""
      }
     },
     "f29c89eed6f944288cabe9167b510179": {
      "model_module": "@jupyter-widgets/controls",
      "model_module_version": "1.2.0",
      "model_name": "IntRangeSliderModel",
      "state": {
       "_model_name": "IntRangeSliderModel",
       "_view_name": "IntRangeSliderView",
       "layout": "IPY_MODEL_40da11987c9848cdbf569fd8a495553c",
       "max": 65535,
       "style": "IPY_MODEL_1bef31ac08074ebd95693403b9f1d5a3",
       "value": [
        288,
        891
       ]
      }
     },
     "f29de83593364a6189ab59bcbb2c320b": {
      "model_module": "@jupyter-widgets/base",
      "model_module_version": "1.0.0",
      "model_name": "LayoutModel",
      "state": {
       "width": "auto"
      }
     },
     "f2ae8795066b405d86ad6b62f338983a": {
      "model_module": "@jupyter-widgets/base",
      "model_module_version": "1.0.0",
      "model_name": "LayoutModel",
      "state": {
       "border": "1px solid gray"
      }
     },
     "f2bd6ab3067c4d40a222a12115b3f9b8": {
      "model_module": "@jupyter-widgets/controls",
      "model_module_version": "1.2.0",
      "model_name": "DescriptionStyleModel",
      "state": {
       "description_width": ""
      }
     },
     "f2e48de82e5e4ca78a857a4de020d8ed": {
      "model_module": "@jupyter-widgets/controls",
      "model_module_version": "1.2.0",
      "model_name": "DescriptionStyleModel",
      "state": {
       "description_width": ""
      }
     },
     "f324c84ec2c446569519026b07558eb9": {
      "model_module": "@jupyter-widgets/controls",
      "model_module_version": "1.2.0",
      "model_name": "DescriptionStyleModel",
      "state": {
       "description_width": ""
      }
     },
     "f33352c769984bdb8569397b5ea79843": {
      "model_module": "@jupyter-widgets/controls",
      "model_module_version": "1.2.0",
      "model_name": "DescriptionStyleModel",
      "state": {
       "description_width": ""
      }
     },
     "f3a8f38b4099453fb837d8a3180abfa0": {
      "model_module": "@jupyter-widgets/controls",
      "model_module_version": "1.2.0",
      "model_name": "DropdownModel",
      "state": {
       "_options_labels": [
        "Identity",
        "Cg",
        "Gaussian"
       ],
       "description": "find filter",
       "index": 1,
       "layout": "IPY_MODEL_b2c338fba7c1448fab4e5e40f1bb83ea",
       "style": "IPY_MODEL_510ee8b717534a4d8b82f40a272d87ab"
      }
     },
     "f3c89bc563f94825b2d2fa0c2d695979": {
      "model_module": "@jupyter-widgets/base",
      "model_module_version": "1.0.0",
      "model_name": "LayoutModel",
      "state": {}
     },
     "f3fe849b769549d88ae6c1c18b4d822a": {
      "model_module": "@jupyter-widgets/controls",
      "model_module_version": "1.2.0",
      "model_name": "HBoxModel",
      "state": {
       "children": [
        "IPY_MODEL_9aee29ab4cc848afaf842d2d5646e63a",
        "IPY_MODEL_7e5d3d35dfdd4bd991635af6b96bb962"
       ],
       "layout": "IPY_MODEL_df29ef34cc8940728c89c77772ee9ad5"
      }
     },
     "f42361a75b9c48f8857e0386448ae651": {
      "model_module": "@jupyter-widgets/controls",
      "model_module_version": "1.2.0",
      "model_name": "VBoxModel",
      "state": {
       "children": [
        "IPY_MODEL_3130d4af28a546978472cdba8dbea286",
        "IPY_MODEL_e6bb0a1678d840b8bf53ff3fd98da3fa"
       ],
       "layout": "IPY_MODEL_f59db48ee96a483395380fe38418a6ab"
      }
     },
     "f443d29c5dd3424c9ade9b292ee221a8": {
      "model_module": "@jupyter-widgets/base",
      "model_module_version": "1.0.0",
      "model_name": "LayoutModel",
      "state": {
       "display": "inline"
      }
     },
     "f46d6a4ed27843f8a95281949e729744": {
      "model_module": "@jupyter-widgets/base",
      "model_module_version": "1.0.0",
      "model_name": "LayoutModel",
      "state": {
       "display": "none"
      }
     },
     "f4b1ca26edcd4aeba20d0a79cfd32d91": {
      "model_module": "@jupyter-widgets/controls",
      "model_module_version": "1.2.0",
      "model_name": "FloatTextModel",
      "state": {
       "description": "radius",
       "layout": "IPY_MODEL_9a13d87c2d0e4accaae306bf2e17d6f8",
       "step": 0.1,
       "style": "IPY_MODEL_efabb69312cd4d66ba1eced521f74e56",
       "value": 1
      }
     },
     "f4d925586cb5456aaa0898a766e65d87": {
      "model_module": "@jupyter-widgets/base",
      "model_module_version": "1.0.0",
      "model_name": "LayoutModel",
      "state": {
       "width": "auto"
      }
     },
     "f4ea95c3704c4136a4bc40e6012cd317": {
      "model_module": "@jupyter-widgets/base",
      "model_module_version": "1.0.0",
      "model_name": "LayoutModel",
      "state": {
       "display": "inline"
      }
     },
     "f50e9f5e514d4963ba51a75e6d336b29": {
      "model_module": "@jupyter-widgets/base",
      "model_module_version": "1.0.0",
      "model_name": "LayoutModel",
      "state": {}
     },
     "f5171890257d4ae9b7960af46e292557": {
      "model_module": "@jupyter-widgets/controls",
      "model_module_version": "1.2.0",
      "model_name": "DescriptionStyleModel",
      "state": {
       "description_width": ""
      }
     },
     "f5306b3e27b34a36b78936378aa1c28e": {
      "model_module": "@jupyter-widgets/controls",
      "model_module_version": "1.2.0",
      "model_name": "DescriptionStyleModel",
      "state": {
       "description_width": ""
      }
     },
     "f53d54a2a8564fc68b9b92403f6aa5ea": {
      "model_module": "@jupyter-widgets/base",
      "model_module_version": "1.0.0",
      "model_name": "LayoutModel",
      "state": {}
     },
     "f551e0a9a14f4daba1785cac22224852": {
      "model_module": "@jupyter-widgets/controls",
      "model_module_version": "1.2.0",
      "model_name": "DescriptionStyleModel",
      "state": {
       "description_width": ""
      }
     },
     "f5701a9022c04a45b9a0a14f05bef641": {
      "model_module": "@jupyter-widgets/controls",
      "model_module_version": "1.2.0",
      "model_name": "ButtonStyleModel",
      "state": {}
     },
     "f57b7edd3d40443bb5669429abade58b": {
      "model_module": "@jupyter-widgets/controls",
      "model_module_version": "1.2.0",
      "model_name": "FloatTextModel",
      "state": {
       "description": "max.",
       "layout": "IPY_MODEL_b3783a79c33c4caa81c514a78a24b953",
       "step": 0.1,
       "style": "IPY_MODEL_72917b645ba44e488824690c714903f7",
       "value": 2
      }
     },
     "f59db48ee96a483395380fe38418a6ab": {
      "model_module": "@jupyter-widgets/base",
      "model_module_version": "1.0.0",
      "model_name": "LayoutModel",
      "state": {}
     },
     "f5e5284b9f6043f9be08bc62e6dc4550": {
      "model_module": "@jupyter-widgets/controls",
      "model_module_version": "1.2.0",
      "model_name": "DescriptionStyleModel",
      "state": {
       "description_width": ""
      }
     },
     "f5eb7d24c3ea4294a036eace34910c53": {
      "model_module": "@jupyter-widgets/base",
      "model_module_version": "1.0.0",
      "model_name": "LayoutModel",
      "state": {}
     },
     "f5fd633cce704a5986281c8d09df9bd9": {
      "model_module": "@jupyter-widgets/controls",
      "model_module_version": "1.2.0",
      "model_name": "CheckboxModel",
      "state": {
       "description": "Size range",
       "disabled": false,
       "indent": false,
       "layout": "IPY_MODEL_26f48594057b4a9bb43df30bb93f5b23",
       "style": "IPY_MODEL_0e846b7ba4e8427b88c38ae508539120",
       "value": false
      }
     },
     "f600f248ba90466d8dd8683ec84f5648": {
      "model_module": "@jupyter-widgets/controls",
      "model_module_version": "1.2.0",
      "model_name": "FloatTextModel",
      "state": {
       "description": "threshold",
       "layout": "IPY_MODEL_51ac44cad6864fe0b777662707fc7f96",
       "step": 10,
       "style": "IPY_MODEL_187be5cd708841f184606d85c5bc31f3",
       "value": 1000
      }
     },
     "f615b949df694769bd5bf0199b1c7302": {
      "model_module": "@jupyter-widgets/controls",
      "model_module_version": "1.2.0",
      "model_name": "VBoxModel",
      "state": {
       "children": [
        "IPY_MODEL_8acfbe1b3a1f4104bb5c3c685b867aaa",
        "IPY_MODEL_49bc3fc69ba548d29e373246ae84de05"
       ],
       "layout": "IPY_MODEL_dbb63c80dc9642bd9dbb73304be13397"
      }
     },
     "f61688f97ad44722bafc175cd5df1915": {
      "model_module": "@jupyter-widgets/base",
      "model_module_version": "1.0.0",
      "model_name": "LayoutModel",
      "state": {
       "width": "auto"
      }
     },
     "f6183b586f424489800494cf530d3351": {
      "model_module": "@jupyter-widgets/controls",
      "model_module_version": "1.2.0",
      "model_name": "VBoxModel",
      "state": {
       "children": [
        "IPY_MODEL_24e494ac93814a6ea0390b240089ced1",
        "IPY_MODEL_114e2f7fb777473c8b586bfcf3cadabc",
        "IPY_MODEL_b26ee276cb3c4481a643c8532024f3ee"
       ],
       "layout": "IPY_MODEL_1d53e14e42424c3fb362bad8c9bd6fee"
      }
     },
     "f624b5bd70784e0798190a7c27f34df5": {
      "model_module": "@jupyter-widgets/controls",
      "model_module_version": "1.2.0",
      "model_name": "CheckboxModel",
      "state": {
       "description": "Min. distance",
       "disabled": false,
       "indent": false,
       "layout": "IPY_MODEL_231428bf0d4e4a05bd025cacd9928568",
       "style": "IPY_MODEL_f5306b3e27b34a36b78936378aa1c28e",
       "value": true
      }
     },
     "f69970cdb3da4bffa54fc4e5b5df7d1d": {
      "model_module": "@jupyter-widgets/base",
      "model_module_version": "1.0.0",
      "model_name": "LayoutModel",
      "state": {}
     },
     "f69a2db1cf3d44d594939f5f5d96e21a": {
      "model_module": "@jupyter-widgets/base",
      "model_module_version": "1.0.0",
      "model_name": "LayoutModel",
      "state": {}
     },
     "f6c4143a7b6e4c85a5df0b7ac6cdf210": {
      "model_module": "@jupyter-widgets/controls",
      "model_module_version": "1.2.0",
      "model_name": "VBoxModel",
      "state": {
       "children": [
        "IPY_MODEL_6cf4151e018e48f0bcac4c0e0f9fc977",
        "IPY_MODEL_0dad7982ad9346ffab27dbee023aab10",
        "IPY_MODEL_e4cf0e0a78374e2080f293b628f173bf"
       ],
       "layout": "IPY_MODEL_571e43173c984d42b5335ced176a1fcc"
      }
     },
     "f6d5f5dc29114c3582188cd0a99698f2": {
      "model_module": "@jupyter-widgets/base",
      "model_module_version": "1.0.0",
      "model_name": "LayoutModel",
      "state": {
       "width": "auto"
      }
     },
     "f6ea1a7c846549b88b696eba943aceb9": {
      "model_module": "@jupyter-widgets/controls",
      "model_module_version": "1.2.0",
      "model_name": "BoundedIntTextModel",
      "state": {
       "description": "frame",
       "layout": "IPY_MODEL_a643a4f08ce6486db2394f0d1673dd82",
       "max": 0,
       "style": "IPY_MODEL_2dcbe250205243a6a313528d00fb0663"
      }
     },
     "f73431f6793a4f708c5f31ce91d5ade7": {
      "model_module": "@jupyter-widgets/controls",
      "model_module_version": "1.2.0",
      "model_name": "VBoxModel",
      "state": {
       "children": [
        "IPY_MODEL_33e2ead747244865b0784cf450248b68",
        "IPY_MODEL_8b42c750321242ef9263b6bfeb9cf94a",
        "IPY_MODEL_c7f978a7f5324b149511e9b27eebaeec"
       ],
       "layout": "IPY_MODEL_4e934494c17140229dfa3d5c300bbfec"
      }
     },
     "f7998b084203443680d101c740cfe14c": {
      "model_module": "@jupyter-widgets/controls",
      "model_module_version": "1.2.0",
      "model_name": "FloatTextModel",
      "state": {
       "description": "radius",
       "layout": "IPY_MODEL_1cfdf2db76794dd48f239a6fe9bcf218",
       "step": 0.1,
       "style": "IPY_MODEL_2e337cabe3184abea9ba58b6f0f7fa72",
       "value": 1
      }
     },
     "f79fb53f9f954bf5aed1318b836cf856": {
      "model_module": "@jupyter-widgets/controls",
      "model_module_version": "1.2.0",
      "model_name": "DescriptionStyleModel",
      "state": {
       "description_width": ""
      }
     },
     "f7e842be7c944fb69496cb31fbb38bec": {
      "model_module": "@jupyter-widgets/base",
      "model_module_version": "1.0.0",
      "model_name": "LayoutModel",
      "state": {
       "display": "none"
      }
     },
     "f7eff9ccac2d490e98067dfe846055d2": {
      "model_module": "@jupyter-widgets/base",
      "model_module_version": "1.0.0",
      "model_name": "LayoutModel",
      "state": {}
     },
     "f7f0349594174e56aa4cc491edcb7149": {
      "model_module": "@jupyter-widgets/controls",
      "model_module_version": "1.2.0",
      "model_name": "CheckboxModel",
      "state": {
       "description": "Min. distance",
       "disabled": false,
       "indent": false,
       "layout": "IPY_MODEL_c62c2c99ee194cfaa7e1b15115dca277",
       "style": "IPY_MODEL_64b52890e86046aa8a6d9333020000e0",
       "value": false
      }
     },
     "f7f0dc7dfa3d4f5ca708a5be74c535cd": {
      "model_module": "@jupyter-widgets/controls",
      "model_module_version": "1.2.0",
      "model_name": "LabelModel",
      "state": {
       "layout": "IPY_MODEL_d572260f107c4bb89acc270bca561ddd",
       "style": "IPY_MODEL_57a2208435654b7e8a9ac515c7e6800d",
       "value": "Locating data/ctrl-H57/no-cells_SAv-100k_SSS-ctrl-H57-50k_029_.SPE (213/213)"
      }
     },
     "f80518817c07475ebeb84494733c55da": {
      "model_module": "@jupyter-widgets/base",
      "model_module_version": "1.0.0",
      "model_name": "LayoutModel",
      "state": {}
     },
     "f822a069710f437c95967f9f7684216d": {
      "model_module": "@jupyter-widgets/base",
      "model_module_version": "1.0.0",
      "model_name": "LayoutModel",
      "state": {
       "display": "inline"
      }
     },
     "f82a94889e664f7ebdce6f096a12c6aa": {
      "model_module": "@jupyter-widgets/controls",
      "model_module_version": "1.2.0",
      "model_name": "DescriptionStyleModel",
      "state": {
       "description_width": ""
      }
     },
     "f82cbdb2f9e24fbbb6b39e1c8bbbebd7": {
      "model_module": "@jupyter-widgets/controls",
      "model_module_version": "1.2.0",
      "model_name": "HBoxModel",
      "state": {
       "children": [
        "IPY_MODEL_7c2cf39c04a54bdab9d108abb89c1b1a",
        "IPY_MODEL_da29bfbc60c3498ba7f1cde3f3796ac4"
       ],
       "layout": "IPY_MODEL_462a79130c8645d198627256e0d82ca1"
      }
     },
     "f8541c4584d14f89aaa0aa54e92e7244": {
      "model_module": "@jupyter-widgets/controls",
      "model_module_version": "1.2.0",
      "model_name": "ButtonStyleModel",
      "state": {}
     },
     "f8a313867b3248b9b775b23e0e3f43ab": {
      "model_module": "@jupyter-widgets/base",
      "model_module_version": "1.0.0",
      "model_name": "LayoutModel",
      "state": {}
     },
     "f8d1b568b660420db7d1ce62dd5e83a4": {
      "model_module": "@jupyter-widgets/controls",
      "model_module_version": "1.2.0",
      "model_name": "DescriptionStyleModel",
      "state": {
       "description_width": ""
      }
     },
     "f929a9aa1d494f3a8c566832e123b363": {
      "model_module": "@jupyter-widgets/controls",
      "model_module_version": "1.2.0",
      "model_name": "FloatTextModel",
      "state": {
       "description": "sigma",
       "layout": "IPY_MODEL_404a23e84e2c419a9fb3be3b3ba78437",
       "step": 0.1,
       "style": "IPY_MODEL_5eccf91694a044778a8cb26eb5a5c8a0",
       "value": 1
      }
     },
     "f9440d84ed4042e389f3ee73c6fde4d4": {
      "model_module": "@jupyter-widgets/controls",
      "model_module_version": "1.2.0",
      "model_name": "ButtonStyleModel",
      "state": {}
     },
     "f94ab14ed0734f56b38316fdb952e750": {
      "model_module": "@jupyter-widgets/controls",
      "model_module_version": "1.2.0",
      "model_name": "HBoxModel",
      "state": {
       "children": [
        "IPY_MODEL_ed1451ab05ed447b886aebbf160448e1",
        "IPY_MODEL_8bc0589a899546c294dced800970d9b0"
       ],
       "layout": "IPY_MODEL_1e6c561e47f644139ddafdb52f18e109"
      }
     },
     "f982f86b5a9d4ee8b28c7f3247372882": {
      "model_module": "@jupyter-widgets/base",
      "model_module_version": "1.0.0",
      "model_name": "LayoutModel",
      "state": {
       "border": "1px solid gray"
      }
     },
     "f98ecea191d3469782b2fd05a91a4d66": {
      "model_module": "@jupyter-widgets/controls",
      "model_module_version": "1.2.0",
      "model_name": "FloatTextModel",
      "state": {
       "description": "max.",
       "layout": "IPY_MODEL_3a67196d27014701a62fa9a22a9167a8",
       "step": 0.1,
       "style": "IPY_MODEL_94c13257598e4e7e88ea93fb93ad8488",
       "value": 2
      }
     },
     "f992ac8388e0419ea5b8369bc8e329f7": {
      "model_module": "@jupyter-widgets/controls",
      "model_module_version": "1.2.0",
      "model_name": "FloatTextModel",
      "state": {
       "description": "max.",
       "layout": "IPY_MODEL_0adcae1437194ade8015c833911ed5f2",
       "step": 0.1,
       "style": "IPY_MODEL_b3bde46cc7d249959ea5a5a0963d43dc",
       "value": 2
      }
     },
     "f9bf967aa4d9440ca6b39006c6d4410a": {
      "model_module": "@jupyter-widgets/controls",
      "model_module_version": "1.2.0",
      "model_name": "DescriptionStyleModel",
      "state": {
       "description_width": ""
      }
     },
     "f9cad0d8bf9e4196a01e23602e0ad434": {
      "model_module": "@jupyter-widgets/base",
      "model_module_version": "1.0.0",
      "model_name": "LayoutModel",
      "state": {}
     },
     "fa37f38bd10d46259b73c9a383fbd8ae": {
      "model_module": "@jupyter-widgets/base",
      "model_module_version": "1.0.0",
      "model_name": "LayoutModel",
      "state": {
       "width": "75%"
      }
     },
     "fa85be82a78740ccbe7fe9f5698937ea": {
      "model_module": "@jupyter-widgets/base",
      "model_module_version": "1.0.0",
      "model_name": "LayoutModel",
      "state": {}
     },
     "fa9931ed61664d8fa35d9ebc5ad52aab": {
      "model_module": "@jupyter-widgets/base",
      "model_module_version": "1.0.0",
      "model_name": "LayoutModel",
      "state": {}
     },
     "fae526bc39354f31b449fbcf1ccffccb": {
      "model_module": "@jupyter-widgets/base",
      "model_module_version": "1.0.0",
      "model_name": "LayoutModel",
      "state": {
       "width": "auto"
      }
     },
     "faf1a11f908944ffabbd7126a5e005e1": {
      "model_module": "@jupyter-widgets/controls",
      "model_module_version": "1.2.0",
      "model_name": "SelectModel",
      "state": {
       "_options_labels": [
        "data/beads/beads_000_.SPE",
        "data/beads/beads_001_.SPE",
        "data/beads/beads_002_.SPE",
        "data/beads/beads_003_.SPE",
        "data/beads/beads_004_.SPE",
        "data/beads/beads_005_.SPE",
        "data/beads/beads_006_.SPE",
        "data/beads/beads_007_.SPE",
        "data/beads/beads_008_.SPE",
        "data/beads/beads_009_.SPE"
       ],
       "index": 0,
       "layout": "IPY_MODEL_2ff157d5494b47c29f5d253371c8ea80",
       "style": "IPY_MODEL_f9bf967aa4d9440ca6b39006c6d4410a"
      }
     },
     "fb224f5830d64ae0b1b5740e8d1697e3": {
      "model_module": "@jupyter-widgets/controls",
      "model_module_version": "1.2.0",
      "model_name": "DescriptionStyleModel",
      "state": {
       "description_width": ""
      }
     },
     "fb4924fb8fa347eb9e2cb3a4a5a80dbb": {
      "model_module": "@jupyter-widgets/base",
      "model_module_version": "1.0.0",
      "model_name": "LayoutModel",
      "state": {
       "width": "auto"
      }
     },
     "fbd86cc786c14f238655e284433736d9": {
      "model_module": "@jupyter-widgets/controls",
      "model_module_version": "1.2.0",
      "model_name": "DescriptionStyleModel",
      "state": {
       "description_width": ""
      }
     },
     "fbdb8cef522b43a198a9be2df1aea1d3": {
      "model_module": "@jupyter-widgets/controls",
      "model_module_version": "1.2.0",
      "model_name": "LabelModel",
      "state": {
       "layout": "IPY_MODEL_3593a37449154d8f82a44987fd1cabd8",
       "style": "IPY_MODEL_64f9d49685fa44ecb72ccff9c04bbcda",
       "value": "Locating beads (file 10/10)"
      }
     },
     "fbe86e1dd7194487b3b57f7e6f490339": {
      "model_module": "@jupyter-widgets/base",
      "model_module_version": "1.0.0",
      "model_name": "LayoutModel",
      "state": {}
     },
     "fc25cb9d938742c5b8eb185119d2c027": {
      "model_module": "@jupyter-widgets/controls",
      "model_module_version": "1.2.0",
      "model_name": "ButtonModel",
      "state": {
       "description": "Auto",
       "layout": "IPY_MODEL_9484f4f26805468c8f787a313c37e4a3",
       "style": "IPY_MODEL_17b0ca20c3534b11b8e69cc5a94e3a47"
      }
     },
     "fc4d7edd33564569a7c473aa2e8a8815": {
      "model_module": "@jupyter-widgets/base",
      "model_module_version": "1.0.0",
      "model_name": "LayoutModel",
      "state": {
       "display": "none"
      }
     },
     "fc5893db06514f709860d8b8e5c74f92": {
      "model_module": "@jupyter-widgets/base",
      "model_module_version": "1.0.0",
      "model_name": "LayoutModel",
      "state": {}
     },
     "fc64a6ccd7254302a99c760a06367fb9": {
      "model_module": "@jupyter-widgets/controls",
      "model_module_version": "1.2.0",
      "model_name": "HBoxModel",
      "state": {
       "children": [
        "IPY_MODEL_e1eabbbfd4b04c4f88b559ebdf18eb02",
        "IPY_MODEL_8f60a7b8105b4b2f8efcc28531ac63ee",
        "IPY_MODEL_4a7b5b806bad4a8b8f1567f9b0601f46"
       ],
       "layout": "IPY_MODEL_80fe2f7b6ac64475a3794aaf3aa27ae4"
      }
     },
     "fc6acbe5624b473093f3740247f56ee1": {
      "model_module": "@jupyter-widgets/base",
      "model_module_version": "1.0.0",
      "model_name": "LayoutModel",
      "state": {
       "width": "auto"
      }
     },
     "fc73dc2829344e42b3a1a5fae6bbb433": {
      "model_module": "@jupyter-widgets/controls",
      "model_module_version": "1.2.0",
      "model_name": "DropdownModel",
      "state": {
       "_options_labels": [
        "2d_fixed",
        "2d",
        "3d"
       ],
       "description": "model",
       "index": 1,
       "layout": "IPY_MODEL_3b63878afce54f82b604d3986ea88f88",
       "style": "IPY_MODEL_c54deae8c71e4325b7202a96264e416b"
      }
     },
     "fc80433e6cbb4660907789ce9b6c5583": {
      "model_module": "@jupyter-widgets/base",
      "model_module_version": "1.0.0",
      "model_name": "LayoutModel",
      "state": {
       "display": "none"
      }
     },
     "fc8c47a3cbf34f2e9187fe74026c0dff": {
      "model_module": "@jupyter-widgets/base",
      "model_module_version": "1.0.0",
      "model_name": "LayoutModel",
      "state": {
       "width": "auto"
      }
     },
     "fc951f5f950047039ca1c839c525906f": {
      "model_module": "@jupyter-widgets/controls",
      "model_module_version": "1.2.0",
      "model_name": "LabelModel",
      "state": {
       "layout": "IPY_MODEL_49b96d23871a4c919f44e812cb6471b5",
       "style": "IPY_MODEL_4bcf035025f74ee0b0e82a5b6af89d09",
       "value": "Locating ctrl-H57/no-cells_SAv-100k_SSS-ctrl-H57-50k_029_.SPE (213/213)"
      }
     },
     "fcf38aa1e3444f419749a2291f9d9561": {
      "model_module": "@jupyter-widgets/controls",
      "model_module_version": "1.2.0",
      "model_name": "DescriptionStyleModel",
      "state": {
       "description_width": ""
      }
     },
     "fd0e1df331454e93be279f4fd43c1fb6": {
      "model_module": "@jupyter-widgets/controls",
      "model_module_version": "1.2.0",
      "model_name": "FloatTextModel",
      "state": {
       "description": "min.",
       "layout": "IPY_MODEL_af51c9e9fc354008b987e9c52a9283c8",
       "step": 0.1,
       "style": "IPY_MODEL_fe8dd62615c9440dbb8e8c89c2a97122",
       "value": 0.5
      }
     },
     "fd283a9b705b4e168f6a0f5ea4275613": {
      "model_module": "@jupyter-widgets/base",
      "model_module_version": "1.0.0",
      "model_name": "LayoutModel",
      "state": {
       "border": "1px solid gray"
      }
     },
     "fd298f088b594c4bb584486154f5f2ad": {
      "model_module": "@jupyter-widgets/base",
      "model_module_version": "1.0.0",
      "model_name": "LayoutModel",
      "state": {
       "height": "150px",
       "width": "100%"
      }
     },
     "fd48958d981a44ef958f0020d62a2cfa": {
      "model_module": "@jupyter-widgets/base",
      "model_module_version": "1.0.0",
      "model_name": "LayoutModel",
      "state": {}
     },
     "fd55a134330e485dafc12f541fdc0098": {
      "model_module": "@jupyter-widgets/controls",
      "model_module_version": "1.2.0",
      "model_name": "DropdownModel",
      "state": {
       "_options_labels": [
        "Identity",
        "Cg",
        "Gaussian"
       ],
       "description": "find filter",
       "index": 1,
       "layout": "IPY_MODEL_c4653ddb5cb94a6c934669e33210cd7a",
       "style": "IPY_MODEL_0d3893c8ef9e4b89a5cb9014ed8248c1"
      }
     },
     "fd5f1a7c1c78448ead42ae40d262fbd6": {
      "model_module": "@jupyter-widgets/controls",
      "model_module_version": "1.2.0",
      "model_name": "HBoxModel",
      "state": {
       "children": [
        "IPY_MODEL_5854236992754eb5a4eb25901ebebbf3",
        "IPY_MODEL_aaef252f0f904c65bc3b1539ec5fda60",
        "IPY_MODEL_0cc2a9ebd0594ea6838949bf57e197fc"
       ],
       "layout": "IPY_MODEL_7b89770040f044aeb0938fce0d19fad1"
      }
     },
     "fd7fe18ee1144d149ef454af8aed54f3": {
      "model_module": "@jupyter-widgets/controls",
      "model_module_version": "1.2.0",
      "model_name": "CheckboxModel",
      "state": {
       "description": "Min. distance",
       "disabled": false,
       "indent": false,
       "layout": "IPY_MODEL_e930f2092d854d7595af2c6f9be1d517",
       "style": "IPY_MODEL_1e42292417d7411c84060940cc21870e",
       "value": false
      }
     },
     "fd853b0b90924fb6a53b45d7f2f9f5de": {
      "model_module": "@jupyter-widgets/controls",
      "model_module_version": "1.2.0",
      "model_name": "VBoxModel",
      "state": {
       "children": [
        "IPY_MODEL_65d112c837424107b83f98855bd20bab",
        "IPY_MODEL_01a04dad67354b949f6a51b8bd6ab6ce",
        "IPY_MODEL_ef9284b5f5e14297af782c30a61ebab1"
       ],
       "layout": "IPY_MODEL_cedde3392f934fa99c5adc1540c82f2e"
      }
     },
     "fd98c9302b7b4b3abbb89b28387d4e6c": {
      "model_module": "@jupyter-widgets/base",
      "model_module_version": "1.0.0",
      "model_name": "LayoutModel",
      "state": {}
     },
     "fe15a69c03ab4054baafaa9111007f90": {
      "model_module": "@jupyter-widgets/controls",
      "model_module_version": "1.2.0",
      "model_name": "DescriptionStyleModel",
      "state": {
       "description_width": ""
      }
     },
     "fe50cf899f9849c68cd362416b44221a": {
      "model_module": "@jupyter-widgets/base",
      "model_module_version": "1.0.0",
      "model_name": "LayoutModel",
      "state": {}
     },
     "fe754280dfc64055b548ec78eacc41d8": {
      "model_module": "@jupyter-widgets/base",
      "model_module_version": "1.0.0",
      "model_name": "LayoutModel",
      "state": {}
     },
     "fe7aa9ae9108443ebd19cd104096ac50": {
      "model_module": "@jupyter-widgets/base",
      "model_module_version": "1.0.0",
      "model_name": "LayoutModel",
      "state": {}
     },
     "fe8dd62615c9440dbb8e8c89c2a97122": {
      "model_module": "@jupyter-widgets/controls",
      "model_module_version": "1.2.0",
      "model_name": "DescriptionStyleModel",
      "state": {
       "description_width": ""
      }
     },
     "fec22a280af8468cb503dc8db631ab0d": {
      "model_module": "@jupyter-widgets/controls",
      "model_module_version": "1.2.0",
      "model_name": "VBoxModel",
      "state": {
       "children": [
        "IPY_MODEL_0b4f80b3350848c2bb999d8c38dce5e9",
        "IPY_MODEL_a2c461319e1f437fb7a80bfae2b804fd",
        "IPY_MODEL_cf0d308883f64f42954368c4494fe3aa"
       ],
       "layout": "IPY_MODEL_edfce0634e054ba1804ee9fa334e0c8e"
      }
     },
     "fed75ad1157f438c870d9b33cafa3cb0": {
      "model_module": "@jupyter-widgets/base",
      "model_module_version": "1.0.0",
      "model_name": "LayoutModel",
      "state": {
       "display": "none"
      }
     },
     "fed7cd05491e48f6ab37507e51e4c53b": {
      "model_module": "@jupyter-widgets/base",
      "model_module_version": "1.0.0",
      "model_name": "LayoutModel",
      "state": {
       "width": "auto"
      }
     },
     "ff2f313871b44293895ec6b4604982c5": {
      "model_module": "@jupyter-widgets/base",
      "model_module_version": "1.0.0",
      "model_name": "LayoutModel",
      "state": {
       "width": "auto"
      }
     },
     "ff6f29f6594d4a92be71440085c4f9a5": {
      "model_module": "@jupyter-widgets/base",
      "model_module_version": "1.0.0",
      "model_name": "LayoutModel",
      "state": {}
     },
     "ff83dba6849b4566a2c5b855469ef06c": {
      "model_module": "@jupyter-widgets/controls",
      "model_module_version": "1.2.0",
      "model_name": "DescriptionStyleModel",
      "state": {
       "description_width": ""
      }
     },
     "ff885677a118487299a4af03d4742890": {
      "model_module": "@jupyter-widgets/controls",
      "model_module_version": "1.2.0",
      "model_name": "VBoxModel",
      "state": {
       "children": [
        "IPY_MODEL_ea6aa6a598bf4cf597fb6d0781cf82d7",
        "IPY_MODEL_86d4d864668c47e99aad4c905abee941",
        "IPY_MODEL_788a2a310335461b85a4acc03917679e"
       ],
       "layout": "IPY_MODEL_556bcf6a15be407f871eccaf166f5be2"
      }
     },
     "ff916902a58342ff8f8136893a243101": {
      "model_module": "@jupyter-widgets/base",
      "model_module_version": "1.0.0",
      "model_name": "LayoutModel",
      "state": {
       "display": "flex",
       "flex_flow": "column wrap",
       "width": "66%"
      }
     },
     "ffa5f231158c4879829b837a09fdb271": {
      "model_module": "@jupyter-widgets/controls",
      "model_module_version": "1.2.0",
      "model_name": "HBoxModel",
      "state": {
       "children": [
        "IPY_MODEL_78c224c15bbf45a8b8b9d9a6668c8437",
        "IPY_MODEL_10930e794dea4b8bb113968a2230e0bb"
       ],
       "layout": "IPY_MODEL_ddb3be3e81694f63b945845860c9def7"
      }
     },
     "ffdf4944c3944d1fb6ef5453ccdcab05": {
      "model_module": "@jupyter-widgets/base",
      "model_module_version": "1.0.0",
      "model_name": "LayoutModel",
      "state": {
       "display": "inline"
      }
     },
     "ffe59aca5f9a4ed7a0fe1d2a7772e446": {
      "model_module": "@jupyter-widgets/controls",
      "model_module_version": "1.2.0",
      "model_name": "DescriptionStyleModel",
      "state": {
       "description_width": ""
      }
     },
     "fffbe933fea044748d172e2a339cf65b": {
      "model_module": "@jupyter-widgets/base",
      "model_module_version": "1.0.0",
      "model_name": "LayoutModel",
      "state": {}
     }
    },
    "version_major": 2,
    "version_minor": 0
   }
  }
 },
 "nbformat": 4,
 "nbformat_minor": 4
}
